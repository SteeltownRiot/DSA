{
 "cells": [
  {
   "cell_type": "markdown",
   "metadata": {},
   "source": [
    "# Practice Descriptive Statistics and Data Manipulation with `R` \n",
    "\n",
    "In the `R` lab notebook for this module, we focused mainly on what descriptive statistics tell us and how to find them using `R`. In this practice notebook, we will go a step further and integrate the data manipulation techniques that you learned, as it is very important aspect of exploring your data.\n",
    "\n",
    "We again are going to be using the *Game of Thrones* dataset that we used throughout the labs. We will begin by reading in the data."
   ]
  },
  {
   "cell_type": "code",
   "execution_count": null,
   "metadata": {},
   "outputs": [],
   "source": [
    "library(dplyr)\n",
    "\n",
    "# read in Game of Thrones data\n",
    "file <- read.csv('/dsa/data/all_datasets/game-of-thrones/GoT_age_at_death.csv')\n",
    "\n",
    "\n",
    "# a bit of column clean up\n",
    "df <-file %>%\n",
    "    rename(Dead = `Dead..1...dead.`, Gender = `Gender..1.male.`) %>%\n",
    "    mutate(Dead = as.factor(Dead), Gender = as.factor(Gender), Affiliation = as.factor(Affiliation))\n",
    "\n",
    "# show first few rows\n",
    "head(df)"
   ]
  },
  {
   "cell_type": "markdown",
   "metadata": {},
   "source": [
    "In the lab, we didn't introduce the `summary` function until later on in the notebook, however, it is often the best place to start."
   ]
  },
  {
   "cell_type": "code",
   "execution_count": null,
   "metadata": {},
   "outputs": [],
   "source": [
    "summary(df$Age)"
   ]
  },
  {
   "cell_type": "markdown",
   "metadata": {},
   "source": [
    "The line of code above just runs the summary statitistics on the only numeric column in the entire dataset, but it isn't the only interesting variable. \n",
    "\n",
    "**Activity 1**: *Run a `summary` on the entire *Game of Thrones* data.*"
   ]
  },
  {
   "cell_type": "code",
   "execution_count": null,
   "metadata": {},
   "outputs": [],
   "source": [
    "# Activity 1 code goes here \n",
    "# -------------------------\n",
    "\n",
    "\n",
    "summary(df)"
   ]
  },
  {
   "cell_type": "markdown",
   "metadata": {},
   "source": [
    "We know the mean age of the entire dataset to be around 35.5 years old. But what if we were interested in a different subset of data? *Game of Thrones* kills off a lot of characters. What if our question became, what is the average age of the dead characters?\n",
    "\n",
    "**Activity 2**: *Create a subset from the entire data frame to only include those individuals who are deceased. (Remember, \"1\" codes for dead in this dataset). Call this data frame, `dead_chars`.* "
   ]
  },
  {
   "cell_type": "code",
   "execution_count": null,
   "metadata": {},
   "outputs": [],
   "source": [
    "# Activity 2 code goes here \n",
    "# -------------------------\n",
    "\n",
    "dead_chars <- subset(df,Dead == 1)\n",
    "head(dead_chars)"
   ]
  },
  {
   "cell_type": "markdown",
   "metadata": {},
   "source": [
    "**Activity 3**: Now, find the mean age and standard deviation of those characters who have died."
   ]
  },
  {
   "cell_type": "code",
   "execution_count": null,
   "metadata": {},
   "outputs": [],
   "source": [
    "# Activity 3 code goes here \n",
    "# -------------------------\n",
    "\n",
    "mean(dead_chars$Age)\n",
    "sd(dead_chars$Age)\n"
   ]
  },
  {
   "cell_type": "markdown",
   "metadata": {},
   "source": [
    "This is nice, but we are only trying to explore our data a bit. It isn't necessary to create a whole new data frame for every little slice of data that we want to investigate.\n",
    "\n",
    "**Activity 4**: *Could you use `dplyr` to find the mean age and standard deviation for those individuals in the data frame who are still alive?*"
   ]
  },
  {
   "cell_type": "code",
   "execution_count": null,
   "metadata": {},
   "outputs": [],
   "source": [
    "# Activity 4 code goes here \n",
    "# -------------------------\n",
    "\n",
    "library(dplyr)\n",
    "\n",
    "df %>%\n",
    "filter(Dead == 0) %>%\n",
    "summarize(mean_age = mean(Age),sd_age = sd(Age))\n",
    "\n"
   ]
  },
  {
   "cell_type": "markdown",
   "metadata": {},
   "source": [
    "One thing that wasn't mentioned in the lab notebook was that comparing the mean and the median to one another gives you an idea about the symmetry of the dataset. **this was mentioned in module 1 practice but lets review**  When the mean is greater than the median, it means that the data is skewed to the right, and when the median is greater than the mean, the data is skewed to the left. When the mean and median are the same, it means that the data are symmetrical. In other words, in a right skewed distribution, most of the data points are below the mean, but there are some high value points pulling the mean higher; the opposite is true for a left skew.\n",
    "\n",
    "\n",
    "<img src=\"../images/distr_sym.gif\">\n",
    "\n",
    "Let's return to the subset of those who are dead. \n",
    "\n",
    "**Activity 5**: *Is the age distribution for these deceased individuals have a right skew, left skew, or is it symmetrical?*\n",
    "\n"
   ]
  },
  {
   "cell_type": "code",
   "execution_count": null,
   "metadata": {},
   "outputs": [],
   "source": [
    "# Activity 5 code to determine answer goes here \n",
    "# ---------------------------------------------\n",
    "\n",
    "xbar <- mean(dead_chars$Age)\n",
    "med <- median(dead_chars$Age)\n",
    "\n",
    "xbar\n",
    "med"
   ]
  },
  {
   "cell_type": "markdown",
   "metadata": {},
   "source": [
    "Answer the question above here.\n",
    "5.  The age distribution is right skewed since the mean is slightly greater than median."
   ]
  },
  {
   "cell_type": "markdown",
   "metadata": {},
   "source": [
    "### Univariate Visualizations\n",
    "\n",
    "This is an appropraite time to visualize the distribution. Remember, we introduced two different different types of plots that are useful for univariate visualization, the histogram and the boxplot. But what if we wanted to plot a visualziation depicting the number of males and females in the data set?\n",
    "\n",
    "Below is an example of how to do that. Notice that we also call the `table()` fuction. What this does is count the number of of rows per each unique value in a column and converts it to a table format."
   ]
  },
  {
   "cell_type": "code",
   "execution_count": null,
   "metadata": {},
   "outputs": [],
   "source": [
    "table(df$Gender) # show what the table function does\n",
    "barplot(table(df$Gender)) # create a bar plot"
   ]
  },
  {
   "cell_type": "markdown",
   "metadata": {},
   "source": [
    "We haven't discussed the `Affiliation` variable much, but essentially the characters can be grouped in the books/show based off of their loyalty to a family. \n",
    "\n",
    "**Activity 6**: *In the `dead` subset, create a bar plot to visualize all of the losses per affiliation.*"
   ]
  },
  {
   "cell_type": "code",
   "execution_count": null,
   "metadata": {},
   "outputs": [],
   "source": [
    "# Activity 6 code goes here \n",
    "# -------------------------\n",
    "\n",
    "barplot(table(dead_chars$Affiliation))\n",
    "\n"
   ]
  },
  {
   "cell_type": "markdown",
   "metadata": {},
   "source": [
    "**Challenge Activity 1**: *Using the mean as our average age, find the mean age of the deceased per affiliation. (You may want to use `dplyr`, but attempt it whatever way you see fit.)*"
   ]
  },
  {
   "cell_type": "code",
   "execution_count": null,
   "metadata": {},
   "outputs": [],
   "source": [
    "# Challenge Activity 1 code goes here \n",
    "# -----------------------------------\n",
    "\n",
    "dead_chars %>%\n",
    "    group_by(Affiliation) %>%\n",
    "    summarize(Mean_Age = mean(Age))\n"
   ]
  },
  {
   "cell_type": "markdown",
   "metadata": {},
   "source": [
    "## Bivariate Analysis\n",
    "\n",
    "In the lab activity, we read in the *Stature Hand and Foot* dataset and found the covariance and correlation between the hand length and foot length. We are going to be using the same dataset this time around, but for different factor levels..."
   ]
  },
  {
   "cell_type": "code",
   "execution_count": null,
   "metadata": {},
   "outputs": [],
   "source": [
    "file2 <- read.csv(\"/dsa/data/all_datasets/stature-hand-foot/stature-hand-foot.csv\")\n",
    "\n",
    "df2 <- file2 %>%\n",
    "    mutate(gender = as.factor(gender))\n",
    "\n",
    "head(df2)"
   ]
  },
  {
   "cell_type": "markdown",
   "metadata": {},
   "source": [
    "What we didn't mention in the lab is that you can actually create a covariance and correlation matrices so that you can quickly see how one variable influences the other. Below is an example of a covariance matrix. "
   ]
  },
  {
   "cell_type": "code",
   "execution_count": null,
   "metadata": {},
   "outputs": [],
   "source": [
    "cov(df2[2:4])"
   ]
  },
  {
   "cell_type": "markdown",
   "metadata": {},
   "source": [
    "Notice how we have to specify the columns. What would happen if we just put the data frame as the argument? You will notice that each variable is a row and a column. `height`'s covariance with `height` is the 1st row, 1st column. `height`'s covariance with `hand.length` is the 1st row, 2nd column, and `height`'s covariance with `foot.length` is the 1st row, 3rd column. This relationship can be applied to the other variables by going down the rows.\n",
    "\n",
    "**Activity 7**: *Attempt to create a corrleation matrix of df2. Why are the values 1 across the diagonal?*"
   ]
  },
  {
   "cell_type": "code",
   "execution_count": null,
   "metadata": {},
   "outputs": [],
   "source": [
    "# Activity 7 code goes here \n",
    "# -------------------------\n",
    "\n",
    "cor(df2[2:4])\n"
   ]
  },
  {
   "cell_type": "markdown",
   "metadata": {},
   "source": [
    "**Activity 8**: *Now find the covariance and correlation between male hand length and foot length.*"
   ]
  },
  {
   "cell_type": "code",
   "execution_count": null,
   "metadata": {},
   "outputs": [],
   "source": [
    "# Activity 8 code goes here \n",
    "# -------------------------\n",
    "\n",
    "male_df2 <- subset(df2,gender == 1)\n",
    "\n",
    "cor(male_df2$hand.length, male_df2$foot.length)\n",
    "cov(male_df2$hand.length, male_df2$foot.length)\n"
   ]
  },
  {
   "cell_type": "markdown",
   "metadata": {},
   "source": [
    "**Activity 9**: *Now find the covariance and correlation between female hand length and foot length.*"
   ]
  },
  {
   "cell_type": "code",
   "execution_count": null,
   "metadata": {},
   "outputs": [],
   "source": [
    "# Activity 9 code goes here \n",
    "# -------------------------\n",
    "\n",
    "female_df2 <- subset(df2,gender == 2)\n",
    "\n",
    "cor(female_df2$hand.length, female_df2$foot.length)\n",
    "cov(female_df2$hand.length, female_df2$foot.length)\n"
   ]
  },
  {
   "cell_type": "markdown",
   "metadata": {},
   "source": [
    "**Activity 10**: *Finally, create a scatter plot of these relationships. One for males and the other for females.*"
   ]
  },
  {
   "cell_type": "code",
   "execution_count": null,
   "metadata": {},
   "outputs": [],
   "source": [
    "# Activity 10 code goes here \n",
    "# --------------------------\n",
    "\n",
    "plot(male_df2$hand.length, male_df2$foot.length)\n",
    "plot(female_df2$hand.length, female_df2$foot.length)\n"
   ]
  },
  {
   "cell_type": "markdown",
   "metadata": {},
   "source": [
    "# Save your notebook, then `File > Close and Halt`"
   ]
  }
 ],
 "metadata": {
  "kernelspec": {
   "display_name": "R",
   "language": "R",
   "name": "ir"
  },
  "language_info": {
   "codemirror_mode": "r",
   "file_extension": ".r",
   "mimetype": "text/x-r-source",
   "name": "R",
   "pygments_lexer": "r",
   "version": "3.5.1"
  }
 },
 "nbformat": 4,
 "nbformat_minor": 2
}
