{
 "cells": [
  {
   "cell_type": "markdown",
   "metadata": {},
   "source": [
    "# Data Science with `R` Practice\n",
    "\n",
    "This practice will be going over the fundamentals of data science with `R`. Much of the content will be similar to your lab, [Introduction to Data Science with R](../labs/intro_data_science_r.ipynb), and thus it will serve as a good guide post to answering some of the questions. We'll begin today with reading in the data..."
   ]
  },
  {
   "cell_type": "markdown",
   "metadata": {},
   "source": [
    "## Read in the Data"
   ]
  },
  {
   "cell_type": "code",
   "execution_count": 1,
   "metadata": {},
   "outputs": [
    {
     "data": {
      "text/html": [
       "<table>\n",
       "<caption>A data.frame: 6 × 5</caption>\n",
       "<thead>\n",
       "\t<tr><th scope=col>Id</th><th scope=col>Name</th><th scope=col>Year</th><th scope=col>Gender</th><th scope=col>Count</th></tr>\n",
       "\t<tr><th scope=col>&lt;int&gt;</th><th scope=col>&lt;fct&gt;</th><th scope=col>&lt;int&gt;</th><th scope=col>&lt;fct&gt;</th><th scope=col>&lt;int&gt;</th></tr>\n",
       "</thead>\n",
       "<tbody>\n",
       "\t<tr><td> 4</td><td>Elizabeth</td><td>1880</td><td>F</td><td>1939</td></tr>\n",
       "\t<tr><td> 8</td><td>Alice    </td><td>1880</td><td>F</td><td>1414</td></tr>\n",
       "\t<tr><td>12</td><td>Clara    </td><td>1880</td><td>F</td><td>1226</td></tr>\n",
       "\t<tr><td>13</td><td>Ella     </td><td>1880</td><td>F</td><td>1156</td></tr>\n",
       "\t<tr><td>18</td><td>Nellie   </td><td>1880</td><td>F</td><td> 995</td></tr>\n",
       "\t<tr><td>21</td><td>Maude    </td><td>1880</td><td>F</td><td> 858</td></tr>\n",
       "</tbody>\n",
       "</table>\n"
      ],
      "text/latex": [
       "A data.frame: 6 × 5\n",
       "\\begin{tabular}{r|lllll}\n",
       " Id & Name & Year & Gender & Count\\\\\n",
       " <int> & <fct> & <int> & <fct> & <int>\\\\\n",
       "\\hline\n",
       "\t  4 & Elizabeth & 1880 & F & 1939\\\\\n",
       "\t  8 & Alice     & 1880 & F & 1414\\\\\n",
       "\t 12 & Clara     & 1880 & F & 1226\\\\\n",
       "\t 13 & Ella      & 1880 & F & 1156\\\\\n",
       "\t 18 & Nellie    & 1880 & F &  995\\\\\n",
       "\t 21 & Maude     & 1880 & F &  858\\\\\n",
       "\\end{tabular}\n"
      ],
      "text/markdown": [
       "\n",
       "A data.frame: 6 × 5\n",
       "\n",
       "| Id &lt;int&gt; | Name &lt;fct&gt; | Year &lt;int&gt; | Gender &lt;fct&gt; | Count &lt;int&gt; |\n",
       "|---|---|---|---|---|\n",
       "|  4 | Elizabeth | 1880 | F | 1939 |\n",
       "|  8 | Alice     | 1880 | F | 1414 |\n",
       "| 12 | Clara     | 1880 | F | 1226 |\n",
       "| 13 | Ella      | 1880 | F | 1156 |\n",
       "| 18 | Nellie    | 1880 | F |  995 |\n",
       "| 21 | Maude     | 1880 | F |  858 |\n",
       "\n"
      ],
      "text/plain": [
       "  Id Name      Year Gender Count\n",
       "1  4 Elizabeth 1880 F      1939 \n",
       "2  8 Alice     1880 F      1414 \n",
       "3 12 Clara     1880 F      1226 \n",
       "4 13 Ella      1880 F      1156 \n",
       "5 18 Nellie    1880 F       995 \n",
       "6 21 Maude     1880 F       858 "
      ]
     },
     "metadata": {},
     "output_type": "display_data"
    }
   ],
   "source": [
    "df <- read.csv('/dsa/data/all_datasets/baby-names/NationalNames2.csv')\n",
    "\n",
    "head(df)"
   ]
  },
  {
   "cell_type": "markdown",
   "metadata": {},
   "source": [
    "Now that the data is read in, how would you remove the `Id` column from the dataframe in `R`. Remember, `R` is very flexible so there are several ways to remove columns. Do the following:\n",
    "\n",
    "**Activity 1**: Remove the column `Id` from the dataframe and rename this data frame, `df`.\n",
    "\n",
    "**Activity 2**: Find the dimensions (the number of rows and columns) of this updated data frame. *Hint: You will have to look up the function to do this as it was not mentioned in the lab*. \n",
    "\n",
    "**Activity 3**: Display the ***last*** 10 columns of the updated data frame."
   ]
  },
  {
   "cell_type": "code",
   "execution_count": 2,
   "metadata": {},
   "outputs": [],
   "source": [
    "#' Code for Activity 1 goes here -----------------------\n",
    "df <- subset(df, select = -Id)\n",
    "#head(df)"
   ]
  },
  {
   "cell_type": "code",
   "execution_count": 3,
   "metadata": {},
   "outputs": [
    {
     "data": {
      "text/html": [
       "<ol class=list-inline>\n",
       "\t<li>608892</li>\n",
       "\t<li>4</li>\n",
       "</ol>\n"
      ],
      "text/latex": [
       "\\begin{enumerate*}\n",
       "\\item 608892\n",
       "\\item 4\n",
       "\\end{enumerate*}\n"
      ],
      "text/markdown": [
       "1. 608892\n",
       "2. 4\n",
       "\n",
       "\n"
      ],
      "text/plain": [
       "[1] 608892      4"
      ]
     },
     "metadata": {},
     "output_type": "display_data"
    }
   ],
   "source": [
    "#' Code for Activity 2 goes here -----------------------\n",
    "#nrow(df)\n",
    "#ncol(df)\n",
    "#length(df)\n",
    "dim(df)"
   ]
  },
  {
   "cell_type": "code",
   "execution_count": 4,
   "metadata": {},
   "outputs": [
    {
     "data": {
      "text/html": [
       "<table>\n",
       "<caption>A data.frame: 10 × 4</caption>\n",
       "<thead>\n",
       "\t<tr><th></th><th scope=col>Name</th><th scope=col>Year</th><th scope=col>Gender</th><th scope=col>Count</th></tr>\n",
       "\t<tr><th></th><th scope=col>&lt;fct&gt;</th><th scope=col>&lt;int&gt;</th><th scope=col>&lt;fct&gt;</th><th scope=col>&lt;int&gt;</th></tr>\n",
       "</thead>\n",
       "<tbody>\n",
       "\t<tr><th scope=row>608883</th><td>Zaymere </td><td>2014</td><td>M</td><td>5</td></tr>\n",
       "\t<tr><th scope=row>608884</th><td>Zekeriah</td><td>2014</td><td>M</td><td>5</td></tr>\n",
       "\t<tr><th scope=row>608885</th><td>Zenas   </td><td>2014</td><td>M</td><td>5</td></tr>\n",
       "\t<tr><th scope=row>608886</th><td>Ziion   </td><td>2014</td><td>M</td><td>5</td></tr>\n",
       "\t<tr><th scope=row>608887</th><td>Zijun   </td><td>2014</td><td>M</td><td>5</td></tr>\n",
       "\t<tr><th scope=row>608888</th><td>Zirui   </td><td>2014</td><td>M</td><td>5</td></tr>\n",
       "\t<tr><th scope=row>608889</th><td>Zo      </td><td>2014</td><td>M</td><td>5</td></tr>\n",
       "\t<tr><th scope=row>608890</th><td>Zyel    </td><td>2014</td><td>M</td><td>5</td></tr>\n",
       "\t<tr><th scope=row>608891</th><td>Zyran   </td><td>2014</td><td>M</td><td>5</td></tr>\n",
       "\t<tr><th scope=row>608892</th><td>Zyrin   </td><td>2014</td><td>M</td><td>5</td></tr>\n",
       "</tbody>\n",
       "</table>\n"
      ],
      "text/latex": [
       "A data.frame: 10 × 4\n",
       "\\begin{tabular}{r|llll}\n",
       "  & Name & Year & Gender & Count\\\\\n",
       "  & <fct> & <int> & <fct> & <int>\\\\\n",
       "\\hline\n",
       "\t608883 & Zaymere  & 2014 & M & 5\\\\\n",
       "\t608884 & Zekeriah & 2014 & M & 5\\\\\n",
       "\t608885 & Zenas    & 2014 & M & 5\\\\\n",
       "\t608886 & Ziion    & 2014 & M & 5\\\\\n",
       "\t608887 & Zijun    & 2014 & M & 5\\\\\n",
       "\t608888 & Zirui    & 2014 & M & 5\\\\\n",
       "\t608889 & Zo       & 2014 & M & 5\\\\\n",
       "\t608890 & Zyel     & 2014 & M & 5\\\\\n",
       "\t608891 & Zyran    & 2014 & M & 5\\\\\n",
       "\t608892 & Zyrin    & 2014 & M & 5\\\\\n",
       "\\end{tabular}\n"
      ],
      "text/markdown": [
       "\n",
       "A data.frame: 10 × 4\n",
       "\n",
       "| <!--/--> | Name &lt;fct&gt; | Year &lt;int&gt; | Gender &lt;fct&gt; | Count &lt;int&gt; |\n",
       "|---|---|---|---|---|\n",
       "| 608883 | Zaymere  | 2014 | M | 5 |\n",
       "| 608884 | Zekeriah | 2014 | M | 5 |\n",
       "| 608885 | Zenas    | 2014 | M | 5 |\n",
       "| 608886 | Ziion    | 2014 | M | 5 |\n",
       "| 608887 | Zijun    | 2014 | M | 5 |\n",
       "| 608888 | Zirui    | 2014 | M | 5 |\n",
       "| 608889 | Zo       | 2014 | M | 5 |\n",
       "| 608890 | Zyel     | 2014 | M | 5 |\n",
       "| 608891 | Zyran    | 2014 | M | 5 |\n",
       "| 608892 | Zyrin    | 2014 | M | 5 |\n",
       "\n"
      ],
      "text/plain": [
       "       Name     Year Gender Count\n",
       "608883 Zaymere  2014 M      5    \n",
       "608884 Zekeriah 2014 M      5    \n",
       "608885 Zenas    2014 M      5    \n",
       "608886 Ziion    2014 M      5    \n",
       "608887 Zijun    2014 M      5    \n",
       "608888 Zirui    2014 M      5    \n",
       "608889 Zo       2014 M      5    \n",
       "608890 Zyel     2014 M      5    \n",
       "608891 Zyran    2014 M      5    \n",
       "608892 Zyrin    2014 M      5    "
      ]
     },
     "metadata": {},
     "output_type": "display_data"
    }
   ],
   "source": [
    "#' Code for Activity 3 goes here -----------------------\n",
    "tail(df, 10)\n"
   ]
  },
  {
   "cell_type": "markdown",
   "metadata": {},
   "source": [
    "Below is one of the ways that you can subset a data frame. Run the code below to see what it returns."
   ]
  },
  {
   "cell_type": "code",
   "execution_count": 5,
   "metadata": {},
   "outputs": [
    {
     "data": {
      "text/html": [
       "<table>\n",
       "<caption>A data.frame: 6 × 4</caption>\n",
       "<thead>\n",
       "\t<tr><th></th><th scope=col>Name</th><th scope=col>Year</th><th scope=col>Gender</th><th scope=col>Count</th></tr>\n",
       "\t<tr><th></th><th scope=col>&lt;fct&gt;</th><th scope=col>&lt;int&gt;</th><th scope=col>&lt;fct&gt;</th><th scope=col>&lt;int&gt;</th></tr>\n",
       "</thead>\n",
       "<tbody>\n",
       "\t<tr><th scope=row>330</th><td>Charles</td><td>1880</td><td>M</td><td>5348</td></tr>\n",
       "\t<tr><th scope=row>331</th><td>Thomas </td><td>1880</td><td>M</td><td>2534</td></tr>\n",
       "\t<tr><th scope=row>985</th><td>James  </td><td>1881</td><td>M</td><td>5442</td></tr>\n",
       "\t<tr><th scope=row>986</th><td>Frank  </td><td>1881</td><td>M</td><td>2834</td></tr>\n",
       "\t<tr><th scope=row>987</th><td>Thomas </td><td>1881</td><td>M</td><td>2282</td></tr>\n",
       "\t<tr><th scope=row>988</th><td>Robert </td><td>1881</td><td>M</td><td>2140</td></tr>\n",
       "</tbody>\n",
       "</table>\n"
      ],
      "text/latex": [
       "A data.frame: 6 × 4\n",
       "\\begin{tabular}{r|llll}\n",
       "  & Name & Year & Gender & Count\\\\\n",
       "  & <fct> & <int> & <fct> & <int>\\\\\n",
       "\\hline\n",
       "\t330 & Charles & 1880 & M & 5348\\\\\n",
       "\t331 & Thomas  & 1880 & M & 2534\\\\\n",
       "\t985 & James   & 1881 & M & 5442\\\\\n",
       "\t986 & Frank   & 1881 & M & 2834\\\\\n",
       "\t987 & Thomas  & 1881 & M & 2282\\\\\n",
       "\t988 & Robert  & 1881 & M & 2140\\\\\n",
       "\\end{tabular}\n"
      ],
      "text/markdown": [
       "\n",
       "A data.frame: 6 × 4\n",
       "\n",
       "| <!--/--> | Name &lt;fct&gt; | Year &lt;int&gt; | Gender &lt;fct&gt; | Count &lt;int&gt; |\n",
       "|---|---|---|---|---|\n",
       "| 330 | Charles | 1880 | M | 5348 |\n",
       "| 331 | Thomas  | 1880 | M | 2534 |\n",
       "| 985 | James   | 1881 | M | 5442 |\n",
       "| 986 | Frank   | 1881 | M | 2834 |\n",
       "| 987 | Thomas  | 1881 | M | 2282 |\n",
       "| 988 | Robert  | 1881 | M | 2140 |\n",
       "\n"
      ],
      "text/plain": [
       "    Name    Year Gender Count\n",
       "330 Charles 1880 M      5348 \n",
       "331 Thomas  1880 M      2534 \n",
       "985 James   1881 M      5442 \n",
       "986 Frank   1881 M      2834 \n",
       "987 Thomas  1881 M      2282 \n",
       "988 Robert  1881 M      2140 "
      ]
     },
     "metadata": {},
     "output_type": "display_data"
    }
   ],
   "source": [
    "head(df[df$Count > 2000,])"
   ]
  },
  {
   "cell_type": "markdown",
   "metadata": {},
   "source": [
    "The bit of code only returns the first few rows of data but, in reality, there are lot more rows.\n",
    "\n",
    "**Activity 4**: *Find out how many rows where the `Count` is greater than 2000.*"
   ]
  },
  {
   "cell_type": "code",
   "execution_count": 6,
   "metadata": {},
   "outputs": [
    {
     "data": {
      "text/html": [
       "10092"
      ],
      "text/latex": [
       "10092"
      ],
      "text/markdown": [
       "10092"
      ],
      "text/plain": [
       "[1] 10092"
      ]
     },
     "metadata": {},
     "output_type": "display_data"
    }
   ],
   "source": [
    "#' Code for Activity 4 goes here -----------------------\n",
    "nrow(df[df$Count > 2000,])"
   ]
  },
  {
   "cell_type": "markdown",
   "metadata": {},
   "source": [
    "Now let's say that we were interested in only male names, particularly those names that are popular and not so popular.\n",
    "\n",
    "**Activity 5**: subset the data set for rows where the gender is male and the count is above 2000 and below 100."
   ]
  },
  {
   "cell_type": "code",
   "execution_count": 7,
   "metadata": {},
   "outputs": [
    {
     "data": {
      "text/html": [
       "<table>\n",
       "<caption>A data.frame: 10 × 4</caption>\n",
       "<thead>\n",
       "\t<tr><th></th><th scope=col>Name</th><th scope=col>Year</th><th scope=col>Gender</th><th scope=col>Count</th></tr>\n",
       "\t<tr><th></th><th scope=col>&lt;fct&gt;</th><th scope=col>&lt;int&gt;</th><th scope=col>&lt;fct&gt;</th><th scope=col>&lt;int&gt;</th></tr>\n",
       "</thead>\n",
       "<tbody>\n",
       "\t<tr><th scope=row>330</th><td>Charles</td><td>1880</td><td>M</td><td>5348</td></tr>\n",
       "\t<tr><th scope=row>331</th><td>Thomas </td><td>1880</td><td>M</td><td>2534</td></tr>\n",
       "\t<tr><th scope=row>367</th><td>Gus    </td><td>1880</td><td>M</td><td>  99</td></tr>\n",
       "\t<tr><th scope=row>368</th><td>Jake   </td><td>1880</td><td>M</td><td>  96</td></tr>\n",
       "\t<tr><th scope=row>369</th><td>Adolph </td><td>1880</td><td>M</td><td>  93</td></tr>\n",
       "\t<tr><th scope=row>370</th><td>Felix  </td><td>1880</td><td>M</td><td>  92</td></tr>\n",
       "\t<tr><th scope=row>371</th><td>Wallace</td><td>1880</td><td>M</td><td>  91</td></tr>\n",
       "\t<tr><th scope=row>372</th><td>Claud  </td><td>1880</td><td>M</td><td>  90</td></tr>\n",
       "\t<tr><th scope=row>373</th><td>Roscoe </td><td>1880</td><td>M</td><td>  90</td></tr>\n",
       "\t<tr><th scope=row>374</th><td>Hiram  </td><td>1880</td><td>M</td><td>  88</td></tr>\n",
       "</tbody>\n",
       "</table>\n"
      ],
      "text/latex": [
       "A data.frame: 10 × 4\n",
       "\\begin{tabular}{r|llll}\n",
       "  & Name & Year & Gender & Count\\\\\n",
       "  & <fct> & <int> & <fct> & <int>\\\\\n",
       "\\hline\n",
       "\t330 & Charles & 1880 & M & 5348\\\\\n",
       "\t331 & Thomas  & 1880 & M & 2534\\\\\n",
       "\t367 & Gus     & 1880 & M &   99\\\\\n",
       "\t368 & Jake    & 1880 & M &   96\\\\\n",
       "\t369 & Adolph  & 1880 & M &   93\\\\\n",
       "\t370 & Felix   & 1880 & M &   92\\\\\n",
       "\t371 & Wallace & 1880 & M &   91\\\\\n",
       "\t372 & Claud   & 1880 & M &   90\\\\\n",
       "\t373 & Roscoe  & 1880 & M &   90\\\\\n",
       "\t374 & Hiram   & 1880 & M &   88\\\\\n",
       "\\end{tabular}\n"
      ],
      "text/markdown": [
       "\n",
       "A data.frame: 10 × 4\n",
       "\n",
       "| <!--/--> | Name &lt;fct&gt; | Year &lt;int&gt; | Gender &lt;fct&gt; | Count &lt;int&gt; |\n",
       "|---|---|---|---|---|\n",
       "| 330 | Charles | 1880 | M | 5348 |\n",
       "| 331 | Thomas  | 1880 | M | 2534 |\n",
       "| 367 | Gus     | 1880 | M |   99 |\n",
       "| 368 | Jake    | 1880 | M |   96 |\n",
       "| 369 | Adolph  | 1880 | M |   93 |\n",
       "| 370 | Felix   | 1880 | M |   92 |\n",
       "| 371 | Wallace | 1880 | M |   91 |\n",
       "| 372 | Claud   | 1880 | M |   90 |\n",
       "| 373 | Roscoe  | 1880 | M |   90 |\n",
       "| 374 | Hiram   | 1880 | M |   88 |\n",
       "\n"
      ],
      "text/plain": [
       "    Name    Year Gender Count\n",
       "330 Charles 1880 M      5348 \n",
       "331 Thomas  1880 M      2534 \n",
       "367 Gus     1880 M        99 \n",
       "368 Jake    1880 M        96 \n",
       "369 Adolph  1880 M        93 \n",
       "370 Felix   1880 M        92 \n",
       "371 Wallace 1880 M        91 \n",
       "372 Claud   1880 M        90 \n",
       "373 Roscoe  1880 M        90 \n",
       "374 Hiram   1880 M        88 "
      ]
     },
     "metadata": {},
     "output_type": "display_data"
    }
   ],
   "source": [
    "#' Code for Activity 5 goes here -----------------------\n",
    "male <- subset(df, Gender == 'M')\n",
    "maleSubset <- subset(male, Count > 2000 | Count < 100)\n",
    "head(maleSubset, 10)\n"
   ]
  },
  {
   "cell_type": "markdown",
   "metadata": {},
   "source": [
    "Imagine we were interested in names during a certain time period and we didn't need any of the data for the years were were not interested in. Let's say we were interested in names from the year 1950 through 1965. Below is one way to subset based on a specific year."
   ]
  },
  {
   "cell_type": "code",
   "execution_count": 8,
   "metadata": {},
   "outputs": [
    {
     "data": {
      "text/html": [
       "<table>\n",
       "<caption>A data.frame: 6 × 4</caption>\n",
       "<thead>\n",
       "\t<tr><th></th><th scope=col>Name</th><th scope=col>Year</th><th scope=col>Gender</th><th scope=col>Count</th></tr>\n",
       "\t<tr><th></th><th scope=col>&lt;fct&gt;</th><th scope=col>&lt;int&gt;</th><th scope=col>&lt;fct&gt;</th><th scope=col>&lt;int&gt;</th></tr>\n",
       "</thead>\n",
       "<tbody>\n",
       "\t<tr><th scope=row>153876</th><td>Mary   </td><td>1950</td><td>F</td><td>65460</td></tr>\n",
       "\t<tr><th scope=row>153877</th><td>Nancy  </td><td>1950</td><td>F</td><td>29621</td></tr>\n",
       "\t<tr><th scope=row>153878</th><td>Deborah</td><td>1950</td><td>F</td><td>29071</td></tr>\n",
       "\t<tr><th scope=row>153879</th><td>Sandra </td><td>1950</td><td>F</td><td>28893</td></tr>\n",
       "\t<tr><th scope=row>153880</th><td>Karen  </td><td>1950</td><td>F</td><td>24139</td></tr>\n",
       "\t<tr><th scope=row>153881</th><td>Pamela </td><td>1950</td><td>F</td><td>16200</td></tr>\n",
       "</tbody>\n",
       "</table>\n"
      ],
      "text/latex": [
       "A data.frame: 6 × 4\n",
       "\\begin{tabular}{r|llll}\n",
       "  & Name & Year & Gender & Count\\\\\n",
       "  & <fct> & <int> & <fct> & <int>\\\\\n",
       "\\hline\n",
       "\t153876 & Mary    & 1950 & F & 65460\\\\\n",
       "\t153877 & Nancy   & 1950 & F & 29621\\\\\n",
       "\t153878 & Deborah & 1950 & F & 29071\\\\\n",
       "\t153879 & Sandra  & 1950 & F & 28893\\\\\n",
       "\t153880 & Karen   & 1950 & F & 24139\\\\\n",
       "\t153881 & Pamela  & 1950 & F & 16200\\\\\n",
       "\\end{tabular}\n"
      ],
      "text/markdown": [
       "\n",
       "A data.frame: 6 × 4\n",
       "\n",
       "| <!--/--> | Name &lt;fct&gt; | Year &lt;int&gt; | Gender &lt;fct&gt; | Count &lt;int&gt; |\n",
       "|---|---|---|---|---|\n",
       "| 153876 | Mary    | 1950 | F | 65460 |\n",
       "| 153877 | Nancy   | 1950 | F | 29621 |\n",
       "| 153878 | Deborah | 1950 | F | 29071 |\n",
       "| 153879 | Sandra  | 1950 | F | 28893 |\n",
       "| 153880 | Karen   | 1950 | F | 24139 |\n",
       "| 153881 | Pamela  | 1950 | F | 16200 |\n",
       "\n"
      ],
      "text/plain": [
       "       Name    Year Gender Count\n",
       "153876 Mary    1950 F      65460\n",
       "153877 Nancy   1950 F      29621\n",
       "153878 Deborah 1950 F      29071\n",
       "153879 Sandra  1950 F      28893\n",
       "153880 Karen   1950 F      24139\n",
       "153881 Pamela  1950 F      16200"
      ]
     },
     "metadata": {},
     "output_type": "display_data"
    },
    {
     "data": {
      "text/html": [
       "<table>\n",
       "<caption>A data.frame: 6 × 4</caption>\n",
       "<thead>\n",
       "\t<tr><th></th><th scope=col>Name</th><th scope=col>Year</th><th scope=col>Gender</th><th scope=col>Count</th></tr>\n",
       "\t<tr><th></th><th scope=col>&lt;fct&gt;</th><th scope=col>&lt;int&gt;</th><th scope=col>&lt;fct&gt;</th><th scope=col>&lt;int&gt;</th></tr>\n",
       "</thead>\n",
       "<tbody>\n",
       "\t<tr><th scope=row>211248</th><td>Patricia</td><td>1965</td><td>F</td><td>23554</td></tr>\n",
       "\t<tr><th scope=row>211249</th><td>Linda   </td><td>1965</td><td>F</td><td>19339</td></tr>\n",
       "\t<tr><th scope=row>211250</th><td>Michelle</td><td>1965</td><td>F</td><td>16215</td></tr>\n",
       "\t<tr><th scope=row>211251</th><td>Lori    </td><td>1965</td><td>F</td><td>15698</td></tr>\n",
       "\t<tr><th scope=row>211252</th><td>Teresa  </td><td>1965</td><td>F</td><td>14578</td></tr>\n",
       "\t<tr><th scope=row>211253</th><td>Barbara </td><td>1965</td><td>F</td><td>14026</td></tr>\n",
       "</tbody>\n",
       "</table>\n"
      ],
      "text/latex": [
       "A data.frame: 6 × 4\n",
       "\\begin{tabular}{r|llll}\n",
       "  & Name & Year & Gender & Count\\\\\n",
       "  & <fct> & <int> & <fct> & <int>\\\\\n",
       "\\hline\n",
       "\t211248 & Patricia & 1965 & F & 23554\\\\\n",
       "\t211249 & Linda    & 1965 & F & 19339\\\\\n",
       "\t211250 & Michelle & 1965 & F & 16215\\\\\n",
       "\t211251 & Lori     & 1965 & F & 15698\\\\\n",
       "\t211252 & Teresa   & 1965 & F & 14578\\\\\n",
       "\t211253 & Barbara  & 1965 & F & 14026\\\\\n",
       "\\end{tabular}\n"
      ],
      "text/markdown": [
       "\n",
       "A data.frame: 6 × 4\n",
       "\n",
       "| <!--/--> | Name &lt;fct&gt; | Year &lt;int&gt; | Gender &lt;fct&gt; | Count &lt;int&gt; |\n",
       "|---|---|---|---|---|\n",
       "| 211248 | Patricia | 1965 | F | 23554 |\n",
       "| 211249 | Linda    | 1965 | F | 19339 |\n",
       "| 211250 | Michelle | 1965 | F | 16215 |\n",
       "| 211251 | Lori     | 1965 | F | 15698 |\n",
       "| 211252 | Teresa   | 1965 | F | 14578 |\n",
       "| 211253 | Barbara  | 1965 | F | 14026 |\n",
       "\n"
      ],
      "text/plain": [
       "       Name     Year Gender Count\n",
       "211248 Patricia 1965 F      23554\n",
       "211249 Linda    1965 F      19339\n",
       "211250 Michelle 1965 F      16215\n",
       "211251 Lori     1965 F      15698\n",
       "211252 Teresa   1965 F      14578\n",
       "211253 Barbara  1965 F      14026"
      ]
     },
     "metadata": {},
     "output_type": "display_data"
    }
   ],
   "source": [
    "df1950 <- head(df[df$Year == 1950,])\n",
    "df1965 <- head(df[df$Year == 1965,])\n",
    "\n",
    "comb <- rbind(df1950,df1965)\n",
    "\n",
    "head(comb);tail(comb)"
   ]
  },
  {
   "cell_type": "markdown",
   "metadata": {},
   "source": [
    "**Questions**\n",
    "1. What does the `rbind` function do?\n",
    "2. Describe what the code above is doing."
   ]
  },
  {
   "cell_type": "raw",
   "metadata": {},
   "source": [
    "Answer the questions above here.\n",
    "1. rbind adds two data frames vertically with the same datatypes\n",
    "\n",
    "\n",
    "\n",
    "2. the code is subsetting the data into datasets in 1950 and 1965\n",
    "   then combining the two subset dataframes vertically\n",
    "   then printing the first six and last six rows of the combined dataframes\n"
   ]
  },
  {
   "cell_type": "markdown",
   "metadata": {},
   "source": [
    "Well, the above code would be extremely inefficient when trying to find all of the names between the years 1950 and 1965. How might you subset the data frame based off names between the year 1950 through 1965 without subsetting each year seperately. \n",
    "\n",
    "**Activity 6**: *Subset the data frame based off names between the year 1950 through 1965 without subsetting each year seperately.*"
   ]
  },
  {
   "cell_type": "code",
   "execution_count": 9,
   "metadata": {},
   "outputs": [
    {
     "data": {
      "text/html": [
       "<table>\n",
       "<caption>A data.frame: 6 × 4</caption>\n",
       "<thead>\n",
       "\t<tr><th></th><th scope=col>Name</th><th scope=col>Year</th><th scope=col>Gender</th><th scope=col>Count</th></tr>\n",
       "\t<tr><th></th><th scope=col>&lt;fct&gt;</th><th scope=col>&lt;int&gt;</th><th scope=col>&lt;fct&gt;</th><th scope=col>&lt;int&gt;</th></tr>\n",
       "</thead>\n",
       "<tbody>\n",
       "\t<tr><th scope=row>215204</th><td>Tylon </td><td>1965</td><td>M</td><td>5</td></tr>\n",
       "\t<tr><th scope=row>215205</th><td>Tyre  </td><td>1965</td><td>M</td><td>5</td></tr>\n",
       "\t<tr><th scope=row>215206</th><td>Vahe  </td><td>1965</td><td>M</td><td>5</td></tr>\n",
       "\t<tr><th scope=row>215207</th><td>Vyron </td><td>1965</td><td>M</td><td>5</td></tr>\n",
       "\t<tr><th scope=row>215208</th><td>Wadell</td><td>1965</td><td>M</td><td>5</td></tr>\n",
       "\t<tr><th scope=row>215209</th><td>Wane  </td><td>1965</td><td>M</td><td>5</td></tr>\n",
       "</tbody>\n",
       "</table>\n"
      ],
      "text/latex": [
       "A data.frame: 6 × 4\n",
       "\\begin{tabular}{r|llll}\n",
       "  & Name & Year & Gender & Count\\\\\n",
       "  & <fct> & <int> & <fct> & <int>\\\\\n",
       "\\hline\n",
       "\t215204 & Tylon  & 1965 & M & 5\\\\\n",
       "\t215205 & Tyre   & 1965 & M & 5\\\\\n",
       "\t215206 & Vahe   & 1965 & M & 5\\\\\n",
       "\t215207 & Vyron  & 1965 & M & 5\\\\\n",
       "\t215208 & Wadell & 1965 & M & 5\\\\\n",
       "\t215209 & Wane   & 1965 & M & 5\\\\\n",
       "\\end{tabular}\n"
      ],
      "text/markdown": [
       "\n",
       "A data.frame: 6 × 4\n",
       "\n",
       "| <!--/--> | Name &lt;fct&gt; | Year &lt;int&gt; | Gender &lt;fct&gt; | Count &lt;int&gt; |\n",
       "|---|---|---|---|---|\n",
       "| 215204 | Tylon  | 1965 | M | 5 |\n",
       "| 215205 | Tyre   | 1965 | M | 5 |\n",
       "| 215206 | Vahe   | 1965 | M | 5 |\n",
       "| 215207 | Vyron  | 1965 | M | 5 |\n",
       "| 215208 | Wadell | 1965 | M | 5 |\n",
       "| 215209 | Wane   | 1965 | M | 5 |\n",
       "\n"
      ],
      "text/plain": [
       "       Name   Year Gender Count\n",
       "215204 Tylon  1965 M      5    \n",
       "215205 Tyre   1965 M      5    \n",
       "215206 Vahe   1965 M      5    \n",
       "215207 Vyron  1965 M      5    \n",
       "215208 Wadell 1965 M      5    \n",
       "215209 Wane   1965 M      5    "
      ]
     },
     "metadata": {},
     "output_type": "display_data"
    }
   ],
   "source": [
    "#' Code for Activity 6 goes here -----------------------\n",
    "FiftyToSixtyFive <- df[(df$Year <=1965 & df$Year>=1950),]\n",
    "#head(FiftyToSixtyFive)\n",
    "tail(FiftyToSixtyFive)"
   ]
  },
  {
   "cell_type": "markdown",
   "metadata": {},
   "source": [
    "## A Bit of Sorting\n",
    "\n",
    "The code below sorts the data frame based of `Count`, but we can also sort the data alphabetically off of a column of strings.\n"
   ]
  },
  {
   "cell_type": "code",
   "execution_count": 10,
   "metadata": {},
   "outputs": [
    {
     "data": {
      "text/html": [
       "<table>\n",
       "<caption>A data.frame: 6 × 4</caption>\n",
       "<thead>\n",
       "\t<tr><th></th><th scope=col>Name</th><th scope=col>Year</th><th scope=col>Gender</th><th scope=col>Count</th></tr>\n",
       "\t<tr><th></th><th scope=col>&lt;fct&gt;</th><th scope=col>&lt;int&gt;</th><th scope=col>&lt;fct&gt;</th><th scope=col>&lt;int&gt;</th></tr>\n",
       "</thead>\n",
       "<tbody>\n",
       "\t<tr><th scope=row>295</th><td>Adrienne </td><td>1880</td><td>F</td><td>5</td></tr>\n",
       "\t<tr><th scope=row>296</th><td>Albertine</td><td>1880</td><td>F</td><td>5</td></tr>\n",
       "\t<tr><th scope=row>297</th><td>Alys     </td><td>1880</td><td>F</td><td>5</td></tr>\n",
       "\t<tr><th scope=row>298</th><td>Celie    </td><td>1880</td><td>F</td><td>5</td></tr>\n",
       "\t<tr><th scope=row>299</th><td>Cordella </td><td>1880</td><td>F</td><td>5</td></tr>\n",
       "\t<tr><th scope=row>300</th><td>Corrine  </td><td>1880</td><td>F</td><td>5</td></tr>\n",
       "</tbody>\n",
       "</table>\n"
      ],
      "text/latex": [
       "A data.frame: 6 × 4\n",
       "\\begin{tabular}{r|llll}\n",
       "  & Name & Year & Gender & Count\\\\\n",
       "  & <fct> & <int> & <fct> & <int>\\\\\n",
       "\\hline\n",
       "\t295 & Adrienne  & 1880 & F & 5\\\\\n",
       "\t296 & Albertine & 1880 & F & 5\\\\\n",
       "\t297 & Alys      & 1880 & F & 5\\\\\n",
       "\t298 & Celie     & 1880 & F & 5\\\\\n",
       "\t299 & Cordella  & 1880 & F & 5\\\\\n",
       "\t300 & Corrine   & 1880 & F & 5\\\\\n",
       "\\end{tabular}\n"
      ],
      "text/markdown": [
       "\n",
       "A data.frame: 6 × 4\n",
       "\n",
       "| <!--/--> | Name &lt;fct&gt; | Year &lt;int&gt; | Gender &lt;fct&gt; | Count &lt;int&gt; |\n",
       "|---|---|---|---|---|\n",
       "| 295 | Adrienne  | 1880 | F | 5 |\n",
       "| 296 | Albertine | 1880 | F | 5 |\n",
       "| 297 | Alys      | 1880 | F | 5 |\n",
       "| 298 | Celie     | 1880 | F | 5 |\n",
       "| 299 | Cordella  | 1880 | F | 5 |\n",
       "| 300 | Corrine   | 1880 | F | 5 |\n",
       "\n"
      ],
      "text/plain": [
       "    Name      Year Gender Count\n",
       "295 Adrienne  1880 F      5    \n",
       "296 Albertine 1880 F      5    \n",
       "297 Alys      1880 F      5    \n",
       "298 Celie     1880 F      5    \n",
       "299 Cordella  1880 F      5    \n",
       "300 Corrine   1880 F      5    "
      ]
     },
     "metadata": {},
     "output_type": "display_data"
    }
   ],
   "source": [
    "head(df[order(df$Count),])"
   ]
  },
  {
   "cell_type": "markdown",
   "metadata": {},
   "source": [
    "**Activity 7**: Sort the data frame based on `Name` where the names starting with \"Z\" are on the top of the frame."
   ]
  },
  {
   "cell_type": "code",
   "execution_count": 26,
   "metadata": {},
   "outputs": [
    {
     "data": {
      "text/html": [
       "<table>\n",
       "<caption>A data.frame: 608892 × 4</caption>\n",
       "<thead>\n",
       "\t<tr><th></th><th scope=col>Name</th><th scope=col>Year</th><th scope=col>Gender</th><th scope=col>Count</th></tr>\n",
       "\t<tr><th></th><th scope=col>&lt;fct&gt;</th><th scope=col>&lt;int&gt;</th><th scope=col>&lt;fct&gt;</th><th scope=col>&lt;int&gt;</th></tr>\n",
       "</thead>\n",
       "<tbody>\n",
       "\t<tr><th scope=row>563987</th><td>Zzyzx    </td><td>2010</td><td>M</td><td> 5</td></tr>\n",
       "\t<tr><th scope=row>552813</th><td>Zyvion   </td><td>2009</td><td>M</td><td> 5</td></tr>\n",
       "\t<tr><th scope=row>506575</th><td>Zytavious</td><td>2005</td><td>M</td><td> 5</td></tr>\n",
       "\t<tr><th scope=row>573751</th><td>Zytaveon </td><td>2011</td><td>M</td><td> 8</td></tr>\n",
       "\t<tr><th scope=row>462463</th><td>Zyshonne </td><td>2001</td><td>M</td><td>12</td></tr>\n",
       "\t<tr><th scope=row>506574</th><td>Zyshon   </td><td>2005</td><td>M</td><td> 5</td></tr>\n",
       "\t<tr><th scope=row>474082</th><td>Zyshawn  </td><td>2002</td><td>M</td><td> 6</td></tr>\n",
       "\t<tr><th scope=row>517885</th><td>Zyshawn  </td><td>2006</td><td>M</td><td> 5</td></tr>\n",
       "\t<tr><th scope=row>527366</th><td>Zyshawn  </td><td>2007</td><td>M</td><td>11</td></tr>\n",
       "\t<tr><th scope=row>562174</th><td>Zyshawn  </td><td>2010</td><td>M</td><td> 9</td></tr>\n",
       "\t<tr><th scope=row>575378</th><td>Zyshawn  </td><td>2011</td><td>M</td><td> 5</td></tr>\n",
       "\t<tr><th scope=row>595272</th><td>Zyshawn  </td><td>2013</td><td>M</td><td>13</td></tr>\n",
       "\t<tr><th scope=row>608260</th><td>Zyshawn  </td><td>2014</td><td>M</td><td> 6</td></tr>\n",
       "\t<tr><th scope=row>453744</th><td>Zyshaun  </td><td>2000</td><td>M</td><td> 6</td></tr>\n",
       "\t<tr><th scope=row>485215</th><td>Zysean   </td><td>2003</td><td>M</td><td> 5</td></tr>\n",
       "\t<tr><th scope=row>596318</th><td>Zyrus    </td><td>2013</td><td>M</td><td> 8</td></tr>\n",
       "\t<tr><th scope=row>444494</th><td>Zyron    </td><td>1999</td><td>M</td><td> 5</td></tr>\n",
       "\t<tr><th scope=row>452295</th><td>Zyron    </td><td>2000</td><td>M</td><td>12</td></tr>\n",
       "\t<tr><th scope=row>539454</th><td>Zyron    </td><td>2008</td><td>M</td><td> 9</td></tr>\n",
       "\t<tr><th scope=row>562442</th><td>Zyron    </td><td>2010</td><td>M</td><td> 8</td></tr>\n",
       "\t<tr><th scope=row>584193</th><td>Zyron    </td><td>2012</td><td>M</td><td>12</td></tr>\n",
       "\t<tr><th scope=row>494402</th><td>Zyrion   </td><td>2004</td><td>M</td><td> 8</td></tr>\n",
       "\t<tr><th scope=row>527546</th><td>Zyrion   </td><td>2007</td><td>M</td><td>10</td></tr>\n",
       "\t<tr><th scope=row>539737</th><td>Zyrion   </td><td>2008</td><td>M</td><td> 8</td></tr>\n",
       "\t<tr><th scope=row>552141</th><td>Zyrion   </td><td>2009</td><td>M</td><td> 6</td></tr>\n",
       "\t<tr><th scope=row>572878</th><td>Zyrion   </td><td>2011</td><td>M</td><td>12</td></tr>\n",
       "\t<tr><th scope=row>586607</th><td>Zyrin    </td><td>2012</td><td>M</td><td> 5</td></tr>\n",
       "\t<tr><th scope=row>608892</th><td>Zyrin    </td><td>2014</td><td>M</td><td> 5</td></tr>\n",
       "\t<tr><th scope=row>523136</th><td>Zyrihanna</td><td>2007</td><td>F</td><td> 7</td></tr>\n",
       "\t<tr><th scope=row>545449</th><td>Zyrihanna</td><td>2009</td><td>F</td><td> 9</td></tr>\n",
       "\t<tr><th scope=row>⋮</th><td>⋮</td><td>⋮</td><td>⋮</td><td>⋮</td></tr>\n",
       "\t<tr><th scope=row>596018</th><td>Aadhavan </td><td>2013</td><td>M</td><td>  8</td></tr>\n",
       "\t<tr><th scope=row>505517</th><td>Aadhav   </td><td>2005</td><td>M</td><td>  6</td></tr>\n",
       "\t<tr><th scope=row>574153</th><td>Aadhav   </td><td>2011</td><td>M</td><td>  6</td></tr>\n",
       "\t<tr><th scope=row>505937</th><td>Aadesh   </td><td>2005</td><td>M</td><td>  5</td></tr>\n",
       "\t<tr><th scope=row>536542</th><td>Aaden    </td><td>2008</td><td>M</td><td>956</td></tr>\n",
       "\t<tr><th scope=row>546964</th><td>Aaden    </td><td>2009</td><td>F</td><td>  5</td></tr>\n",
       "\t<tr><th scope=row>570784</th><td>Aaden    </td><td>2011</td><td>M</td><td>274</td></tr>\n",
       "\t<tr><th scope=row>604455</th><td>Aaden    </td><td>2014</td><td>M</td><td>236</td></tr>\n",
       "\t<tr><th scope=row>472731</th><td>Aadarsh  </td><td>2002</td><td>M</td><td> 10</td></tr>\n",
       "\t<tr><th scope=row>573752</th><td>Aadarsh  </td><td>2011</td><td>M</td><td>  7</td></tr>\n",
       "\t<tr><th scope=row>595273</th><td>Aadarsh  </td><td>2013</td><td>M</td><td> 12</td></tr>\n",
       "\t<tr><th scope=row>605821</th><td>Aadarsh  </td><td>2014</td><td>M</td><td> 18</td></tr>\n",
       "\t<tr><th scope=row>561606</th><td>Aadan    </td><td>2010</td><td>M</td><td> 11</td></tr>\n",
       "\t<tr><th scope=row>584194</th><td>Aadan    </td><td>2012</td><td>M</td><td> 11</td></tr>\n",
       "\t<tr><th scope=row>348496</th><td>Aadam    </td><td>1988</td><td>M</td><td>  5</td></tr>\n",
       "\t<tr><th scope=row>416231</th><td>Aadam    </td><td>1996</td><td>M</td><td>  5</td></tr>\n",
       "\t<tr><th scope=row>483124</th><td>Aadam    </td><td>2003</td><td>M</td><td> 10</td></tr>\n",
       "\t<tr><th scope=row>493937</th><td>Aadam    </td><td>2004</td><td>M</td><td>  9</td></tr>\n",
       "\t<tr><th scope=row>515933</th><td>Aadam    </td><td>2006</td><td>M</td><td>  9</td></tr>\n",
       "\t<tr><th scope=row>540142</th><td>Aadam    </td><td>2008</td><td>M</td><td>  6</td></tr>\n",
       "\t<tr><th scope=row>562443</th><td>Aadam    </td><td>2010</td><td>M</td><td>  7</td></tr>\n",
       "\t<tr><th scope=row>605755</th><td>Aadam    </td><td>2014</td><td>M</td><td> 19</td></tr>\n",
       "\t<tr><th scope=row>535466</th><td>Aabriella</td><td>2008</td><td>F</td><td>  5</td></tr>\n",
       "\t<tr><th scope=row>603336</th><td>Aabriella</td><td>2014</td><td>F</td><td>  5</td></tr>\n",
       "\t<tr><th scope=row>484591</th><td>Aabid    </td><td>2003</td><td>M</td><td>  5</td></tr>\n",
       "\t<tr><th scope=row>551649</th><td>Aaban    </td><td>2009</td><td>M</td><td>  6</td></tr>\n",
       "\t<tr><th scope=row>561955</th><td>Aaban    </td><td>2010</td><td>M</td><td>  9</td></tr>\n",
       "\t<tr><th scope=row>572879</th><td>Aaban    </td><td>2011</td><td>M</td><td> 11</td></tr>\n",
       "\t<tr><th scope=row>595040</th><td>Aaban    </td><td>2013</td><td>M</td><td> 14</td></tr>\n",
       "\t<tr><th scope=row>605960</th><td>Aaban    </td><td>2014</td><td>M</td><td> 16</td></tr>\n",
       "</tbody>\n",
       "</table>\n"
      ],
      "text/latex": [
       "A data.frame: 608892 × 4\n",
       "\\begin{tabular}{r|llll}\n",
       "  & Name & Year & Gender & Count\\\\\n",
       "  & <fct> & <int> & <fct> & <int>\\\\\n",
       "\\hline\n",
       "\t563987 & Zzyzx     & 2010 & M &  5\\\\\n",
       "\t552813 & Zyvion    & 2009 & M &  5\\\\\n",
       "\t506575 & Zytavious & 2005 & M &  5\\\\\n",
       "\t573751 & Zytaveon  & 2011 & M &  8\\\\\n",
       "\t462463 & Zyshonne  & 2001 & M & 12\\\\\n",
       "\t506574 & Zyshon    & 2005 & M &  5\\\\\n",
       "\t474082 & Zyshawn   & 2002 & M &  6\\\\\n",
       "\t517885 & Zyshawn   & 2006 & M &  5\\\\\n",
       "\t527366 & Zyshawn   & 2007 & M & 11\\\\\n",
       "\t562174 & Zyshawn   & 2010 & M &  9\\\\\n",
       "\t575378 & Zyshawn   & 2011 & M &  5\\\\\n",
       "\t595272 & Zyshawn   & 2013 & M & 13\\\\\n",
       "\t608260 & Zyshawn   & 2014 & M &  6\\\\\n",
       "\t453744 & Zyshaun   & 2000 & M &  6\\\\\n",
       "\t485215 & Zysean    & 2003 & M &  5\\\\\n",
       "\t596318 & Zyrus     & 2013 & M &  8\\\\\n",
       "\t444494 & Zyron     & 1999 & M &  5\\\\\n",
       "\t452295 & Zyron     & 2000 & M & 12\\\\\n",
       "\t539454 & Zyron     & 2008 & M &  9\\\\\n",
       "\t562442 & Zyron     & 2010 & M &  8\\\\\n",
       "\t584193 & Zyron     & 2012 & M & 12\\\\\n",
       "\t494402 & Zyrion    & 2004 & M &  8\\\\\n",
       "\t527546 & Zyrion    & 2007 & M & 10\\\\\n",
       "\t539737 & Zyrion    & 2008 & M &  8\\\\\n",
       "\t552141 & Zyrion    & 2009 & M &  6\\\\\n",
       "\t572878 & Zyrion    & 2011 & M & 12\\\\\n",
       "\t586607 & Zyrin     & 2012 & M &  5\\\\\n",
       "\t608892 & Zyrin     & 2014 & M &  5\\\\\n",
       "\t523136 & Zyrihanna & 2007 & F &  7\\\\\n",
       "\t545449 & Zyrihanna & 2009 & F &  9\\\\\n",
       "\t⋮ & ⋮ & ⋮ & ⋮ & ⋮\\\\\n",
       "\t596018 & Aadhavan  & 2013 & M &   8\\\\\n",
       "\t505517 & Aadhav    & 2005 & M &   6\\\\\n",
       "\t574153 & Aadhav    & 2011 & M &   6\\\\\n",
       "\t505937 & Aadesh    & 2005 & M &   5\\\\\n",
       "\t536542 & Aaden     & 2008 & M & 956\\\\\n",
       "\t546964 & Aaden     & 2009 & F &   5\\\\\n",
       "\t570784 & Aaden     & 2011 & M & 274\\\\\n",
       "\t604455 & Aaden     & 2014 & M & 236\\\\\n",
       "\t472731 & Aadarsh   & 2002 & M &  10\\\\\n",
       "\t573752 & Aadarsh   & 2011 & M &   7\\\\\n",
       "\t595273 & Aadarsh   & 2013 & M &  12\\\\\n",
       "\t605821 & Aadarsh   & 2014 & M &  18\\\\\n",
       "\t561606 & Aadan     & 2010 & M &  11\\\\\n",
       "\t584194 & Aadan     & 2012 & M &  11\\\\\n",
       "\t348496 & Aadam     & 1988 & M &   5\\\\\n",
       "\t416231 & Aadam     & 1996 & M &   5\\\\\n",
       "\t483124 & Aadam     & 2003 & M &  10\\\\\n",
       "\t493937 & Aadam     & 2004 & M &   9\\\\\n",
       "\t515933 & Aadam     & 2006 & M &   9\\\\\n",
       "\t540142 & Aadam     & 2008 & M &   6\\\\\n",
       "\t562443 & Aadam     & 2010 & M &   7\\\\\n",
       "\t605755 & Aadam     & 2014 & M &  19\\\\\n",
       "\t535466 & Aabriella & 2008 & F &   5\\\\\n",
       "\t603336 & Aabriella & 2014 & F &   5\\\\\n",
       "\t484591 & Aabid     & 2003 & M &   5\\\\\n",
       "\t551649 & Aaban     & 2009 & M &   6\\\\\n",
       "\t561955 & Aaban     & 2010 & M &   9\\\\\n",
       "\t572879 & Aaban     & 2011 & M &  11\\\\\n",
       "\t595040 & Aaban     & 2013 & M &  14\\\\\n",
       "\t605960 & Aaban     & 2014 & M &  16\\\\\n",
       "\\end{tabular}\n"
      ],
      "text/markdown": [
       "\n",
       "A data.frame: 608892 × 4\n",
       "\n",
       "| <!--/--> | Name &lt;fct&gt; | Year &lt;int&gt; | Gender &lt;fct&gt; | Count &lt;int&gt; |\n",
       "|---|---|---|---|---|\n",
       "| 563987 | Zzyzx     | 2010 | M |  5 |\n",
       "| 552813 | Zyvion    | 2009 | M |  5 |\n",
       "| 506575 | Zytavious | 2005 | M |  5 |\n",
       "| 573751 | Zytaveon  | 2011 | M |  8 |\n",
       "| 462463 | Zyshonne  | 2001 | M | 12 |\n",
       "| 506574 | Zyshon    | 2005 | M |  5 |\n",
       "| 474082 | Zyshawn   | 2002 | M |  6 |\n",
       "| 517885 | Zyshawn   | 2006 | M |  5 |\n",
       "| 527366 | Zyshawn   | 2007 | M | 11 |\n",
       "| 562174 | Zyshawn   | 2010 | M |  9 |\n",
       "| 575378 | Zyshawn   | 2011 | M |  5 |\n",
       "| 595272 | Zyshawn   | 2013 | M | 13 |\n",
       "| 608260 | Zyshawn   | 2014 | M |  6 |\n",
       "| 453744 | Zyshaun   | 2000 | M |  6 |\n",
       "| 485215 | Zysean    | 2003 | M |  5 |\n",
       "| 596318 | Zyrus     | 2013 | M |  8 |\n",
       "| 444494 | Zyron     | 1999 | M |  5 |\n",
       "| 452295 | Zyron     | 2000 | M | 12 |\n",
       "| 539454 | Zyron     | 2008 | M |  9 |\n",
       "| 562442 | Zyron     | 2010 | M |  8 |\n",
       "| 584193 | Zyron     | 2012 | M | 12 |\n",
       "| 494402 | Zyrion    | 2004 | M |  8 |\n",
       "| 527546 | Zyrion    | 2007 | M | 10 |\n",
       "| 539737 | Zyrion    | 2008 | M |  8 |\n",
       "| 552141 | Zyrion    | 2009 | M |  6 |\n",
       "| 572878 | Zyrion    | 2011 | M | 12 |\n",
       "| 586607 | Zyrin     | 2012 | M |  5 |\n",
       "| 608892 | Zyrin     | 2014 | M |  5 |\n",
       "| 523136 | Zyrihanna | 2007 | F |  7 |\n",
       "| 545449 | Zyrihanna | 2009 | F |  9 |\n",
       "| ⋮ | ⋮ | ⋮ | ⋮ | ⋮ |\n",
       "| 596018 | Aadhavan  | 2013 | M |   8 |\n",
       "| 505517 | Aadhav    | 2005 | M |   6 |\n",
       "| 574153 | Aadhav    | 2011 | M |   6 |\n",
       "| 505937 | Aadesh    | 2005 | M |   5 |\n",
       "| 536542 | Aaden     | 2008 | M | 956 |\n",
       "| 546964 | Aaden     | 2009 | F |   5 |\n",
       "| 570784 | Aaden     | 2011 | M | 274 |\n",
       "| 604455 | Aaden     | 2014 | M | 236 |\n",
       "| 472731 | Aadarsh   | 2002 | M |  10 |\n",
       "| 573752 | Aadarsh   | 2011 | M |   7 |\n",
       "| 595273 | Aadarsh   | 2013 | M |  12 |\n",
       "| 605821 | Aadarsh   | 2014 | M |  18 |\n",
       "| 561606 | Aadan     | 2010 | M |  11 |\n",
       "| 584194 | Aadan     | 2012 | M |  11 |\n",
       "| 348496 | Aadam     | 1988 | M |   5 |\n",
       "| 416231 | Aadam     | 1996 | M |   5 |\n",
       "| 483124 | Aadam     | 2003 | M |  10 |\n",
       "| 493937 | Aadam     | 2004 | M |   9 |\n",
       "| 515933 | Aadam     | 2006 | M |   9 |\n",
       "| 540142 | Aadam     | 2008 | M |   6 |\n",
       "| 562443 | Aadam     | 2010 | M |   7 |\n",
       "| 605755 | Aadam     | 2014 | M |  19 |\n",
       "| 535466 | Aabriella | 2008 | F |   5 |\n",
       "| 603336 | Aabriella | 2014 | F |   5 |\n",
       "| 484591 | Aabid     | 2003 | M |   5 |\n",
       "| 551649 | Aaban     | 2009 | M |   6 |\n",
       "| 561955 | Aaban     | 2010 | M |   9 |\n",
       "| 572879 | Aaban     | 2011 | M |  11 |\n",
       "| 595040 | Aaban     | 2013 | M |  14 |\n",
       "| 605960 | Aaban     | 2014 | M |  16 |\n",
       "\n"
      ],
      "text/plain": [
       "       Name      Year Gender Count\n",
       "563987 Zzyzx     2010 M       5   \n",
       "552813 Zyvion    2009 M       5   \n",
       "506575 Zytavious 2005 M       5   \n",
       "573751 Zytaveon  2011 M       8   \n",
       "462463 Zyshonne  2001 M      12   \n",
       "506574 Zyshon    2005 M       5   \n",
       "474082 Zyshawn   2002 M       6   \n",
       "517885 Zyshawn   2006 M       5   \n",
       "527366 Zyshawn   2007 M      11   \n",
       "562174 Zyshawn   2010 M       9   \n",
       "575378 Zyshawn   2011 M       5   \n",
       "595272 Zyshawn   2013 M      13   \n",
       "608260 Zyshawn   2014 M       6   \n",
       "453744 Zyshaun   2000 M       6   \n",
       "485215 Zysean    2003 M       5   \n",
       "596318 Zyrus     2013 M       8   \n",
       "444494 Zyron     1999 M       5   \n",
       "452295 Zyron     2000 M      12   \n",
       "539454 Zyron     2008 M       9   \n",
       "562442 Zyron     2010 M       8   \n",
       "584193 Zyron     2012 M      12   \n",
       "494402 Zyrion    2004 M       8   \n",
       "527546 Zyrion    2007 M      10   \n",
       "539737 Zyrion    2008 M       8   \n",
       "552141 Zyrion    2009 M       6   \n",
       "572878 Zyrion    2011 M      12   \n",
       "586607 Zyrin     2012 M       5   \n",
       "608892 Zyrin     2014 M       5   \n",
       "523136 Zyrihanna 2007 F       7   \n",
       "545449 Zyrihanna 2009 F       9   \n",
       "⋮      ⋮         ⋮    ⋮      ⋮    \n",
       "596018 Aadhavan  2013 M        8  \n",
       "505517 Aadhav    2005 M        6  \n",
       "574153 Aadhav    2011 M        6  \n",
       "505937 Aadesh    2005 M        5  \n",
       "536542 Aaden     2008 M      956  \n",
       "546964 Aaden     2009 F        5  \n",
       "570784 Aaden     2011 M      274  \n",
       "604455 Aaden     2014 M      236  \n",
       "472731 Aadarsh   2002 M       10  \n",
       "573752 Aadarsh   2011 M        7  \n",
       "595273 Aadarsh   2013 M       12  \n",
       "605821 Aadarsh   2014 M       18  \n",
       "561606 Aadan     2010 M       11  \n",
       "584194 Aadan     2012 M       11  \n",
       "348496 Aadam     1988 M        5  \n",
       "416231 Aadam     1996 M        5  \n",
       "483124 Aadam     2003 M       10  \n",
       "493937 Aadam     2004 M        9  \n",
       "515933 Aadam     2006 M        9  \n",
       "540142 Aadam     2008 M        6  \n",
       "562443 Aadam     2010 M        7  \n",
       "605755 Aadam     2014 M       19  \n",
       "535466 Aabriella 2008 F        5  \n",
       "603336 Aabriella 2014 F        5  \n",
       "484591 Aabid     2003 M        5  \n",
       "551649 Aaban     2009 M        6  \n",
       "561955 Aaban     2010 M        9  \n",
       "572879 Aaban     2011 M       11  \n",
       "595040 Aaban     2013 M       14  \n",
       "605960 Aaban     2014 M       16  "
      ]
     },
     "metadata": {},
     "output_type": "display_data"
    }
   ],
   "source": [
    "#' Code for Activity 7 goes here -----------------------\n",
    "df[order(df$Name, decreasing = TRUE), ]"
   ]
  },
  {
   "cell_type": "markdown",
   "metadata": {},
   "source": [
    "## Manipulating data with dplyr\n",
    "\n",
    "`dplyr` makes manipulating data a bit simpler. Take a look at the code below."
   ]
  },
  {
   "cell_type": "code",
   "execution_count": 12,
   "metadata": {},
   "outputs": [
    {
     "data": {
      "text/html": [
       "<table>\n",
       "<caption>A data.frame: 6 × 4</caption>\n",
       "<thead>\n",
       "\t<tr><th scope=col>Name</th><th scope=col>Year</th><th scope=col>Gender</th><th scope=col>Count</th></tr>\n",
       "\t<tr><th scope=col>&lt;fct&gt;</th><th scope=col>&lt;int&gt;</th><th scope=col>&lt;fct&gt;</th><th scope=col>&lt;int&gt;</th></tr>\n",
       "</thead>\n",
       "<tbody>\n",
       "\t<tr><td>Linda</td><td>1952</td><td>F</td><td>67096</td></tr>\n",
       "\t<tr><td>Linda</td><td>1953</td><td>F</td><td>61244</td></tr>\n",
       "\t<tr><td>Linda</td><td>1946</td><td>F</td><td>52708</td></tr>\n",
       "\t<tr><td>Linda</td><td>1955</td><td>F</td><td>51275</td></tr>\n",
       "\t<tr><td>Linda</td><td>1957</td><td>F</td><td>44496</td></tr>\n",
       "\t<tr><td>Linda</td><td>1945</td><td>F</td><td>41465</td></tr>\n",
       "</tbody>\n",
       "</table>\n"
      ],
      "text/latex": [
       "A data.frame: 6 × 4\n",
       "\\begin{tabular}{r|llll}\n",
       " Name & Year & Gender & Count\\\\\n",
       " <fct> & <int> & <fct> & <int>\\\\\n",
       "\\hline\n",
       "\t Linda & 1952 & F & 67096\\\\\n",
       "\t Linda & 1953 & F & 61244\\\\\n",
       "\t Linda & 1946 & F & 52708\\\\\n",
       "\t Linda & 1955 & F & 51275\\\\\n",
       "\t Linda & 1957 & F & 44496\\\\\n",
       "\t Linda & 1945 & F & 41465\\\\\n",
       "\\end{tabular}\n"
      ],
      "text/markdown": [
       "\n",
       "A data.frame: 6 × 4\n",
       "\n",
       "| Name &lt;fct&gt; | Year &lt;int&gt; | Gender &lt;fct&gt; | Count &lt;int&gt; |\n",
       "|---|---|---|---|\n",
       "| Linda | 1952 | F | 67096 |\n",
       "| Linda | 1953 | F | 61244 |\n",
       "| Linda | 1946 | F | 52708 |\n",
       "| Linda | 1955 | F | 51275 |\n",
       "| Linda | 1957 | F | 44496 |\n",
       "| Linda | 1945 | F | 41465 |\n",
       "\n"
      ],
      "text/plain": [
       "  Name  Year Gender Count\n",
       "1 Linda 1952 F      67096\n",
       "2 Linda 1953 F      61244\n",
       "3 Linda 1946 F      52708\n",
       "4 Linda 1955 F      51275\n",
       "5 Linda 1957 F      44496\n",
       "6 Linda 1945 F      41465"
      ]
     },
     "metadata": {},
     "output_type": "display_data"
    }
   ],
   "source": [
    "library(dplyr)\n",
    "df %>%\n",
    "    filter(Name == \"Linda\") %>%\n",
    "    arrange(-Count) %>%\n",
    "    head()"
   ]
  },
  {
   "cell_type": "markdown",
   "metadata": {},
   "source": [
    "**Questions**\n",
    "1. Describe what the code above is doing."
   ]
  },
  {
   "cell_type": "raw",
   "metadata": {},
   "source": [
    "Answer the question above here.\n",
    "1. The code is loading the dplyr library\n",
    "   then creating a dataframe fed by the filter of Names equaling Linda\n",
    "   that feeds into arranging the datafram of Lindas by descending Count\n",
    "   that feeds into printing the top 6 Lindas in the dataframe"
   ]
  },
  {
   "cell_type": "markdown",
   "metadata": {},
   "source": [
    "There is a lot more that you can do with `dplyr` such as renaming column names, lets try some.\n",
    "\n",
    "**Activity 8**: *Copy the code above, but rename each of the columns so that the headers begin with lowercase letters. Name this data frame 'df_lower`.*\n",
    "\n",
    "**Activity 9**: *Now, on the `df_lower` frame, remove the `gender` column.*"
   ]
  },
  {
   "cell_type": "code",
   "execution_count": 13,
   "metadata": {},
   "outputs": [],
   "source": [
    "#' Code for Activity 8 goes here -----------------------\n",
    "library(dplyr)\n",
    "\n",
    "df_lower <-\n",
    "df %>%\n",
    "    filter(Name == \"Linda\") %>%\n",
    "    arrange(-Count) %>%\n",
    "    rename(name = Name, year = Year, gender = Gender, count = Count )\n",
    "#head(df_lower)"
   ]
  },
  {
   "cell_type": "code",
   "execution_count": 14,
   "metadata": {},
   "outputs": [
    {
     "data": {
      "text/html": [
       "<table>\n",
       "<caption>A data.frame: 6 × 3</caption>\n",
       "<thead>\n",
       "\t<tr><th scope=col>name</th><th scope=col>year</th><th scope=col>count</th></tr>\n",
       "\t<tr><th scope=col>&lt;fct&gt;</th><th scope=col>&lt;int&gt;</th><th scope=col>&lt;int&gt;</th></tr>\n",
       "</thead>\n",
       "<tbody>\n",
       "\t<tr><td>Linda</td><td>1952</td><td>67096</td></tr>\n",
       "\t<tr><td>Linda</td><td>1953</td><td>61244</td></tr>\n",
       "\t<tr><td>Linda</td><td>1946</td><td>52708</td></tr>\n",
       "\t<tr><td>Linda</td><td>1955</td><td>51275</td></tr>\n",
       "\t<tr><td>Linda</td><td>1957</td><td>44496</td></tr>\n",
       "\t<tr><td>Linda</td><td>1945</td><td>41465</td></tr>\n",
       "</tbody>\n",
       "</table>\n"
      ],
      "text/latex": [
       "A data.frame: 6 × 3\n",
       "\\begin{tabular}{r|lll}\n",
       " name & year & count\\\\\n",
       " <fct> & <int> & <int>\\\\\n",
       "\\hline\n",
       "\t Linda & 1952 & 67096\\\\\n",
       "\t Linda & 1953 & 61244\\\\\n",
       "\t Linda & 1946 & 52708\\\\\n",
       "\t Linda & 1955 & 51275\\\\\n",
       "\t Linda & 1957 & 44496\\\\\n",
       "\t Linda & 1945 & 41465\\\\\n",
       "\\end{tabular}\n"
      ],
      "text/markdown": [
       "\n",
       "A data.frame: 6 × 3\n",
       "\n",
       "| name &lt;fct&gt; | year &lt;int&gt; | count &lt;int&gt; |\n",
       "|---|---|---|\n",
       "| Linda | 1952 | 67096 |\n",
       "| Linda | 1953 | 61244 |\n",
       "| Linda | 1946 | 52708 |\n",
       "| Linda | 1955 | 51275 |\n",
       "| Linda | 1957 | 44496 |\n",
       "| Linda | 1945 | 41465 |\n",
       "\n"
      ],
      "text/plain": [
       "  name  year count\n",
       "1 Linda 1952 67096\n",
       "2 Linda 1953 61244\n",
       "3 Linda 1946 52708\n",
       "4 Linda 1955 51275\n",
       "5 Linda 1957 44496\n",
       "6 Linda 1945 41465"
      ]
     },
     "metadata": {},
     "output_type": "display_data"
    }
   ],
   "source": [
    "#' Code for Activity 9 goes here -----------------------\n",
    "noGender <- subset(df_lower, select = -gender)\n",
    "head(noGender)"
   ]
  },
  {
   "cell_type": "markdown",
   "metadata": {},
   "source": [
    "**Activity 10**: *Using `dplyr`, select rows based on both the names \"Linda\" and \"John\".*"
   ]
  },
  {
   "cell_type": "code",
   "execution_count": 15,
   "metadata": {},
   "outputs": [
    {
     "data": {
      "text/html": [
       "<table>\n",
       "<caption>A data.frame: 160 × 4</caption>\n",
       "<thead>\n",
       "\t<tr><th scope=col>Name</th><th scope=col>Year</th><th scope=col>Gender</th><th scope=col>Count</th></tr>\n",
       "\t<tr><th scope=col>&lt;fct&gt;</th><th scope=col>&lt;int&gt;</th><th scope=col>&lt;fct&gt;</th><th scope=col>&lt;int&gt;</th></tr>\n",
       "</thead>\n",
       "<tbody>\n",
       "\t<tr><td>Linda</td><td>1880</td><td>F</td><td>  27</td></tr>\n",
       "\t<tr><td>Linda</td><td>1883</td><td>F</td><td>  49</td></tr>\n",
       "\t<tr><td>John </td><td>1883</td><td>M</td><td>8894</td></tr>\n",
       "\t<tr><td>John </td><td>1884</td><td>F</td><td>  40</td></tr>\n",
       "\t<tr><td>Linda</td><td>1885</td><td>F</td><td>  60</td></tr>\n",
       "\t<tr><td>John </td><td>1885</td><td>M</td><td>8756</td></tr>\n",
       "\t<tr><td>John </td><td>1888</td><td>M</td><td>9248</td></tr>\n",
       "\t<tr><td>John </td><td>1889</td><td>M</td><td>8548</td></tr>\n",
       "\t<tr><td>Linda</td><td>1890</td><td>F</td><td>  54</td></tr>\n",
       "\t<tr><td>Linda</td><td>1892</td><td>F</td><td>  83</td></tr>\n",
       "\t<tr><td>Linda</td><td>1893</td><td>F</td><td>  83</td></tr>\n",
       "\t<tr><td>John </td><td>1893</td><td>F</td><td>  61</td></tr>\n",
       "\t<tr><td>John </td><td>1893</td><td>M</td><td>8049</td></tr>\n",
       "\t<tr><td>John </td><td>1895</td><td>M</td><td>8321</td></tr>\n",
       "\t<tr><td>Linda</td><td>1897</td><td>F</td><td>  81</td></tr>\n",
       "\t<tr><td>John </td><td>1897</td><td>F</td><td>  46</td></tr>\n",
       "\t<tr><td>John </td><td>1898</td><td>F</td><td>  55</td></tr>\n",
       "\t<tr><td>John </td><td>1898</td><td>M</td><td>8159</td></tr>\n",
       "\t<tr><td>Linda</td><td>1900</td><td>F</td><td> 126</td></tr>\n",
       "\t<tr><td>John </td><td>1900</td><td>F</td><td>  46</td></tr>\n",
       "\t<tr><td>Linda</td><td>1902</td><td>F</td><td>  91</td></tr>\n",
       "\t<tr><td>John </td><td>1903</td><td>F</td><td>  41</td></tr>\n",
       "\t<tr><td>John </td><td>1903</td><td>M</td><td>7608</td></tr>\n",
       "\t<tr><td>John </td><td>1905</td><td>F</td><td>  43</td></tr>\n",
       "\t<tr><td>John </td><td>1906</td><td>F</td><td>  43</td></tr>\n",
       "\t<tr><td>John </td><td>1907</td><td>F</td><td>  65</td></tr>\n",
       "\t<tr><td>John </td><td>1908</td><td>F</td><td>  58</td></tr>\n",
       "\t<tr><td>John </td><td>1908</td><td>M</td><td>9342</td></tr>\n",
       "\t<tr><td>John </td><td>1909</td><td>F</td><td>  67</td></tr>\n",
       "\t<tr><td>John </td><td>1911</td><td>F</td><td>  68</td></tr>\n",
       "\t<tr><td>⋮</td><td>⋮</td><td>⋮</td><td>⋮</td></tr>\n",
       "\t<tr><td>Linda</td><td>1987</td><td>M</td><td>   15</td></tr>\n",
       "\t<tr><td>Linda</td><td>1988</td><td>M</td><td>    9</td></tr>\n",
       "\t<tr><td>Linda</td><td>1989</td><td>F</td><td> 1843</td></tr>\n",
       "\t<tr><td>John </td><td>1989</td><td>M</td><td>29836</td></tr>\n",
       "\t<tr><td>Linda</td><td>1989</td><td>M</td><td>   17</td></tr>\n",
       "\t<tr><td>John </td><td>1990</td><td>F</td><td>   81</td></tr>\n",
       "\t<tr><td>John </td><td>1990</td><td>M</td><td>29067</td></tr>\n",
       "\t<tr><td>Linda</td><td>1991</td><td>F</td><td> 1608</td></tr>\n",
       "\t<tr><td>John </td><td>1992</td><td>F</td><td>   56</td></tr>\n",
       "\t<tr><td>Linda</td><td>1993</td><td>F</td><td> 1486</td></tr>\n",
       "\t<tr><td>John </td><td>1994</td><td>F</td><td>   48</td></tr>\n",
       "\t<tr><td>Linda</td><td>1994</td><td>M</td><td>   11</td></tr>\n",
       "\t<tr><td>John </td><td>1995</td><td>F</td><td>   45</td></tr>\n",
       "\t<tr><td>Linda</td><td>1996</td><td>F</td><td>  985</td></tr>\n",
       "\t<tr><td>John </td><td>1997</td><td>M</td><td>21369</td></tr>\n",
       "\t<tr><td>John </td><td>1999</td><td>M</td><td>20338</td></tr>\n",
       "\t<tr><td>Linda</td><td>2001</td><td>F</td><td>  837</td></tr>\n",
       "\t<tr><td>John </td><td>2002</td><td>F</td><td>   21</td></tr>\n",
       "\t<tr><td>John </td><td>2002</td><td>M</td><td>17437</td></tr>\n",
       "\t<tr><td>John </td><td>2004</td><td>F</td><td>   71</td></tr>\n",
       "\t<tr><td>John </td><td>2004</td><td>M</td><td>16436</td></tr>\n",
       "\t<tr><td>Linda</td><td>2005</td><td>F</td><td>  745</td></tr>\n",
       "\t<tr><td>John </td><td>2005</td><td>F</td><td>   37</td></tr>\n",
       "\t<tr><td>Linda</td><td>2006</td><td>F</td><td>  698</td></tr>\n",
       "\t<tr><td>John </td><td>2008</td><td>F</td><td>   21</td></tr>\n",
       "\t<tr><td>Linda</td><td>2009</td><td>F</td><td>  548</td></tr>\n",
       "\t<tr><td>John </td><td>2009</td><td>M</td><td>12100</td></tr>\n",
       "\t<tr><td>Linda</td><td>2012</td><td>F</td><td>  448</td></tr>\n",
       "\t<tr><td>John </td><td>2013</td><td>F</td><td>   16</td></tr>\n",
       "\t<tr><td>John </td><td>2014</td><td>F</td><td>   14</td></tr>\n",
       "</tbody>\n",
       "</table>\n"
      ],
      "text/latex": [
       "A data.frame: 160 × 4\n",
       "\\begin{tabular}{r|llll}\n",
       " Name & Year & Gender & Count\\\\\n",
       " <fct> & <int> & <fct> & <int>\\\\\n",
       "\\hline\n",
       "\t Linda & 1880 & F &   27\\\\\n",
       "\t Linda & 1883 & F &   49\\\\\n",
       "\t John  & 1883 & M & 8894\\\\\n",
       "\t John  & 1884 & F &   40\\\\\n",
       "\t Linda & 1885 & F &   60\\\\\n",
       "\t John  & 1885 & M & 8756\\\\\n",
       "\t John  & 1888 & M & 9248\\\\\n",
       "\t John  & 1889 & M & 8548\\\\\n",
       "\t Linda & 1890 & F &   54\\\\\n",
       "\t Linda & 1892 & F &   83\\\\\n",
       "\t Linda & 1893 & F &   83\\\\\n",
       "\t John  & 1893 & F &   61\\\\\n",
       "\t John  & 1893 & M & 8049\\\\\n",
       "\t John  & 1895 & M & 8321\\\\\n",
       "\t Linda & 1897 & F &   81\\\\\n",
       "\t John  & 1897 & F &   46\\\\\n",
       "\t John  & 1898 & F &   55\\\\\n",
       "\t John  & 1898 & M & 8159\\\\\n",
       "\t Linda & 1900 & F &  126\\\\\n",
       "\t John  & 1900 & F &   46\\\\\n",
       "\t Linda & 1902 & F &   91\\\\\n",
       "\t John  & 1903 & F &   41\\\\\n",
       "\t John  & 1903 & M & 7608\\\\\n",
       "\t John  & 1905 & F &   43\\\\\n",
       "\t John  & 1906 & F &   43\\\\\n",
       "\t John  & 1907 & F &   65\\\\\n",
       "\t John  & 1908 & F &   58\\\\\n",
       "\t John  & 1908 & M & 9342\\\\\n",
       "\t John  & 1909 & F &   67\\\\\n",
       "\t John  & 1911 & F &   68\\\\\n",
       "\t ⋮ & ⋮ & ⋮ & ⋮\\\\\n",
       "\t Linda & 1987 & M &    15\\\\\n",
       "\t Linda & 1988 & M &     9\\\\\n",
       "\t Linda & 1989 & F &  1843\\\\\n",
       "\t John  & 1989 & M & 29836\\\\\n",
       "\t Linda & 1989 & M &    17\\\\\n",
       "\t John  & 1990 & F &    81\\\\\n",
       "\t John  & 1990 & M & 29067\\\\\n",
       "\t Linda & 1991 & F &  1608\\\\\n",
       "\t John  & 1992 & F &    56\\\\\n",
       "\t Linda & 1993 & F &  1486\\\\\n",
       "\t John  & 1994 & F &    48\\\\\n",
       "\t Linda & 1994 & M &    11\\\\\n",
       "\t John  & 1995 & F &    45\\\\\n",
       "\t Linda & 1996 & F &   985\\\\\n",
       "\t John  & 1997 & M & 21369\\\\\n",
       "\t John  & 1999 & M & 20338\\\\\n",
       "\t Linda & 2001 & F &   837\\\\\n",
       "\t John  & 2002 & F &    21\\\\\n",
       "\t John  & 2002 & M & 17437\\\\\n",
       "\t John  & 2004 & F &    71\\\\\n",
       "\t John  & 2004 & M & 16436\\\\\n",
       "\t Linda & 2005 & F &   745\\\\\n",
       "\t John  & 2005 & F &    37\\\\\n",
       "\t Linda & 2006 & F &   698\\\\\n",
       "\t John  & 2008 & F &    21\\\\\n",
       "\t Linda & 2009 & F &   548\\\\\n",
       "\t John  & 2009 & M & 12100\\\\\n",
       "\t Linda & 2012 & F &   448\\\\\n",
       "\t John  & 2013 & F &    16\\\\\n",
       "\t John  & 2014 & F &    14\\\\\n",
       "\\end{tabular}\n"
      ],
      "text/markdown": [
       "\n",
       "A data.frame: 160 × 4\n",
       "\n",
       "| Name &lt;fct&gt; | Year &lt;int&gt; | Gender &lt;fct&gt; | Count &lt;int&gt; |\n",
       "|---|---|---|---|\n",
       "| Linda | 1880 | F |   27 |\n",
       "| Linda | 1883 | F |   49 |\n",
       "| John  | 1883 | M | 8894 |\n",
       "| John  | 1884 | F |   40 |\n",
       "| Linda | 1885 | F |   60 |\n",
       "| John  | 1885 | M | 8756 |\n",
       "| John  | 1888 | M | 9248 |\n",
       "| John  | 1889 | M | 8548 |\n",
       "| Linda | 1890 | F |   54 |\n",
       "| Linda | 1892 | F |   83 |\n",
       "| Linda | 1893 | F |   83 |\n",
       "| John  | 1893 | F |   61 |\n",
       "| John  | 1893 | M | 8049 |\n",
       "| John  | 1895 | M | 8321 |\n",
       "| Linda | 1897 | F |   81 |\n",
       "| John  | 1897 | F |   46 |\n",
       "| John  | 1898 | F |   55 |\n",
       "| John  | 1898 | M | 8159 |\n",
       "| Linda | 1900 | F |  126 |\n",
       "| John  | 1900 | F |   46 |\n",
       "| Linda | 1902 | F |   91 |\n",
       "| John  | 1903 | F |   41 |\n",
       "| John  | 1903 | M | 7608 |\n",
       "| John  | 1905 | F |   43 |\n",
       "| John  | 1906 | F |   43 |\n",
       "| John  | 1907 | F |   65 |\n",
       "| John  | 1908 | F |   58 |\n",
       "| John  | 1908 | M | 9342 |\n",
       "| John  | 1909 | F |   67 |\n",
       "| John  | 1911 | F |   68 |\n",
       "| ⋮ | ⋮ | ⋮ | ⋮ |\n",
       "| Linda | 1987 | M |    15 |\n",
       "| Linda | 1988 | M |     9 |\n",
       "| Linda | 1989 | F |  1843 |\n",
       "| John  | 1989 | M | 29836 |\n",
       "| Linda | 1989 | M |    17 |\n",
       "| John  | 1990 | F |    81 |\n",
       "| John  | 1990 | M | 29067 |\n",
       "| Linda | 1991 | F |  1608 |\n",
       "| John  | 1992 | F |    56 |\n",
       "| Linda | 1993 | F |  1486 |\n",
       "| John  | 1994 | F |    48 |\n",
       "| Linda | 1994 | M |    11 |\n",
       "| John  | 1995 | F |    45 |\n",
       "| Linda | 1996 | F |   985 |\n",
       "| John  | 1997 | M | 21369 |\n",
       "| John  | 1999 | M | 20338 |\n",
       "| Linda | 2001 | F |   837 |\n",
       "| John  | 2002 | F |    21 |\n",
       "| John  | 2002 | M | 17437 |\n",
       "| John  | 2004 | F |    71 |\n",
       "| John  | 2004 | M | 16436 |\n",
       "| Linda | 2005 | F |   745 |\n",
       "| John  | 2005 | F |    37 |\n",
       "| Linda | 2006 | F |   698 |\n",
       "| John  | 2008 | F |    21 |\n",
       "| Linda | 2009 | F |   548 |\n",
       "| John  | 2009 | M | 12100 |\n",
       "| Linda | 2012 | F |   448 |\n",
       "| John  | 2013 | F |    16 |\n",
       "| John  | 2014 | F |    14 |\n",
       "\n"
      ],
      "text/plain": [
       "    Name  Year Gender Count\n",
       "1   Linda 1880 F        27 \n",
       "2   Linda 1883 F        49 \n",
       "3   John  1883 M      8894 \n",
       "4   John  1884 F        40 \n",
       "5   Linda 1885 F        60 \n",
       "6   John  1885 M      8756 \n",
       "7   John  1888 M      9248 \n",
       "8   John  1889 M      8548 \n",
       "9   Linda 1890 F        54 \n",
       "10  Linda 1892 F        83 \n",
       "11  Linda 1893 F        83 \n",
       "12  John  1893 F        61 \n",
       "13  John  1893 M      8049 \n",
       "14  John  1895 M      8321 \n",
       "15  Linda 1897 F        81 \n",
       "16  John  1897 F        46 \n",
       "17  John  1898 F        55 \n",
       "18  John  1898 M      8159 \n",
       "19  Linda 1900 F       126 \n",
       "20  John  1900 F        46 \n",
       "21  Linda 1902 F        91 \n",
       "22  John  1903 F        41 \n",
       "23  John  1903 M      7608 \n",
       "24  John  1905 F        43 \n",
       "25  John  1906 F        43 \n",
       "26  John  1907 F        65 \n",
       "27  John  1908 F        58 \n",
       "28  John  1908 M      9342 \n",
       "29  John  1909 F        67 \n",
       "30  John  1911 F        68 \n",
       "⋮   ⋮     ⋮    ⋮      ⋮    \n",
       "131 Linda 1987 M         15\n",
       "132 Linda 1988 M          9\n",
       "133 Linda 1989 F       1843\n",
       "134 John  1989 M      29836\n",
       "135 Linda 1989 M         17\n",
       "136 John  1990 F         81\n",
       "137 John  1990 M      29067\n",
       "138 Linda 1991 F       1608\n",
       "139 John  1992 F         56\n",
       "140 Linda 1993 F       1486\n",
       "141 John  1994 F         48\n",
       "142 Linda 1994 M         11\n",
       "143 John  1995 F         45\n",
       "144 Linda 1996 F        985\n",
       "145 John  1997 M      21369\n",
       "146 John  1999 M      20338\n",
       "147 Linda 2001 F        837\n",
       "148 John  2002 F         21\n",
       "149 John  2002 M      17437\n",
       "150 John  2004 F         71\n",
       "151 John  2004 M      16436\n",
       "152 Linda 2005 F        745\n",
       "153 John  2005 F         37\n",
       "154 Linda 2006 F        698\n",
       "155 John  2008 F         21\n",
       "156 Linda 2009 F        548\n",
       "157 John  2009 M      12100\n",
       "158 Linda 2012 F        448\n",
       "159 John  2013 F         16\n",
       "160 John  2014 F         14"
      ]
     },
     "metadata": {},
     "output_type": "display_data"
    }
   ],
   "source": [
    "#' Code for Activity 10 goes here -----------------------\n",
    "filter(df, Name == \"Linda\" | Name == \"John\" )\n",
    "#sorted <- arrange(df,desc(Name))"
   ]
  },
  {
   "cell_type": "markdown",
   "metadata": {},
   "source": [
    "**Challenge Activity 1**: *Use `dplyr` to find the max Count per year per name (both Linda and John).*"
   ]
  },
  {
   "cell_type": "code",
   "execution_count": 16,
   "metadata": {},
   "outputs": [
    {
     "data": {
      "text/html": [
       "<table>\n",
       "<caption>A data.frame: 1 × 4</caption>\n",
       "<thead>\n",
       "\t<tr><th scope=col>Name</th><th scope=col>Year</th><th scope=col>Gender</th><th scope=col>Count</th></tr>\n",
       "\t<tr><th scope=col>&lt;fct&gt;</th><th scope=col>&lt;int&gt;</th><th scope=col>&lt;fct&gt;</th><th scope=col>&lt;int&gt;</th></tr>\n",
       "</thead>\n",
       "<tbody>\n",
       "\t<tr><td>Linda</td><td>1952</td><td>F</td><td>67096</td></tr>\n",
       "</tbody>\n",
       "</table>\n"
      ],
      "text/latex": [
       "A data.frame: 1 × 4\n",
       "\\begin{tabular}{r|llll}\n",
       " Name & Year & Gender & Count\\\\\n",
       " <fct> & <int> & <fct> & <int>\\\\\n",
       "\\hline\n",
       "\t Linda & 1952 & F & 67096\\\\\n",
       "\\end{tabular}\n"
      ],
      "text/markdown": [
       "\n",
       "A data.frame: 1 × 4\n",
       "\n",
       "| Name &lt;fct&gt; | Year &lt;int&gt; | Gender &lt;fct&gt; | Count &lt;int&gt; |\n",
       "|---|---|---|---|\n",
       "| Linda | 1952 | F | 67096 |\n",
       "\n"
      ],
      "text/plain": [
       "  Name  Year Gender Count\n",
       "1 Linda 1952 F      67096"
      ]
     },
     "metadata": {},
     "output_type": "display_data"
    },
    {
     "data": {
      "text/html": [
       "<table>\n",
       "<caption>A data.frame: 1 × 4</caption>\n",
       "<thead>\n",
       "\t<tr><th scope=col>Name</th><th scope=col>Year</th><th scope=col>Gender</th><th scope=col>Count</th></tr>\n",
       "\t<tr><th scope=col>&lt;fct&gt;</th><th scope=col>&lt;int&gt;</th><th scope=col>&lt;fct&gt;</th><th scope=col>&lt;int&gt;</th></tr>\n",
       "</thead>\n",
       "<tbody>\n",
       "\t<tr><td>John</td><td>1947</td><td>M</td><td>88318</td></tr>\n",
       "</tbody>\n",
       "</table>\n"
      ],
      "text/latex": [
       "A data.frame: 1 × 4\n",
       "\\begin{tabular}{r|llll}\n",
       " Name & Year & Gender & Count\\\\\n",
       " <fct> & <int> & <fct> & <int>\\\\\n",
       "\\hline\n",
       "\t John & 1947 & M & 88318\\\\\n",
       "\\end{tabular}\n"
      ],
      "text/markdown": [
       "\n",
       "A data.frame: 1 × 4\n",
       "\n",
       "| Name &lt;fct&gt; | Year &lt;int&gt; | Gender &lt;fct&gt; | Count &lt;int&gt; |\n",
       "|---|---|---|---|\n",
       "| John | 1947 | M | 88318 |\n",
       "\n"
      ],
      "text/plain": [
       "  Name Year Gender Count\n",
       "1 John 1947 M      88318"
      ]
     },
     "metadata": {},
     "output_type": "display_data"
    }
   ],
   "source": [
    "#' Code for Challenge Activity 1 goes here -----------------------\n",
    "df %>%\n",
    "filter(Name == \"Linda\") %>%\n",
    "arrange(-Count) %>%\n",
    "head(1)\n",
    "\n",
    "\n",
    "df %>%\n",
    "filter(Name == \"John\") %>%\n",
    "arrange(-Count) %>%\n",
    "head(1)"
   ]
  },
  {
   "cell_type": "markdown",
   "metadata": {},
   "source": [
    "# Save your notebook, then `File > Close and Halt`"
   ]
  }
 ],
 "metadata": {
  "kernelspec": {
   "display_name": "R",
   "language": "R",
   "name": "ir"
  },
  "language_info": {
   "codemirror_mode": "r",
   "file_extension": ".r",
   "mimetype": "text/x-r-source",
   "name": "R",
   "pygments_lexer": "r",
   "version": "3.5.1"
  }
 },
 "nbformat": 4,
 "nbformat_minor": 2
}
