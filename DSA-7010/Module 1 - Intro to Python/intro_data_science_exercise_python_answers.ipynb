{
 "cells": [
  {
   "cell_type": "markdown",
   "metadata": {},
   "source": [
    "# Data Manipulation with `Python` Exercises\n",
    "\n",
    "Welcome to one of your first exercise notebooks. \n",
    "So what should you expect from these notebooks? \n",
    "Well, we will be touching on the concepts and code that we ran through in the subsequent labs and practices, \n",
    "except the majority of the coding will be done by you now. \n",
    "The questions that we ask of you will be very familiar, although the output might throw a few more errors. \n",
    "**Some of these issues we have not seen yet and this is meant to challenge you.** \n",
    "Learning to resolve new issues and development of your problem solving vocabulary for internet research is critical to developing you as a data scientist.\n",
    "\n",
    "In these notebooks, we will ask you to write and execute your own code for questions that will look similar to what we have learned in the Labs and Practices. However, Exercises will often be a bit more challenging in that 1) you may be working with a new data set with which you will have to familiarize yourself, and 2) you will be asked to write code to problems you have yet to see."
   ]
  },
  {
   "cell_type": "markdown",
   "metadata": {},
   "source": [
    "## Read in the Data\n",
    "\n",
    "We will be using a different data set for this exercise (don't worry, if you like the Baby Names data set, we will be seeing it again). These data are filled with all of the U.S. Congress members from January 1947 to February 2014 along with some information about them.\n",
    "\n",
    "Go ahead and read in the `congress-terms.csv` in the `all_datasets/` directory. Pay particular attention to the encoding. Run the following line..."
   ]
  },
  {
   "cell_type": "code",
   "execution_count": null,
   "metadata": {},
   "outputs": [],
   "source": [
    "import pandas as pd\n",
    "\n",
    "with open('/dsa/data/all_datasets/congress-terms.csv', 'r', encoding = 'ISO-8859-1' ) as file:\n",
    "    data = file.read()\n",
    "\n",
    "    data_lists = data.split(\"\\n\")\n",
    "\n",
    "    list_of_lists = []\n",
    "    for line in data_lists:\n",
    "        row = line.split(',')\n",
    "        list_of_lists.append(row)\n",
    "\n",
    "    # return the first 11 lists (rows) to get an idea of what the data looks like     \n",
    "    for row in list_of_lists[0:11]:\n",
    "        print(' ,'.join(row))"
   ]
  },
  {
   "cell_type": "markdown",
   "metadata": {},
   "source": [
    "**Question 1**: You will notice something a little bit different about reading in this file, particularly the `encoding` parameter. Do a bit of research on what encoding is. What happens when you remove this parameter all together? Do your best to describe any errors being thrown."
   ]
  },
  {
   "cell_type": "raw",
   "metadata": {},
   "source": [
    "**Write out your answer in this cell**:\n",
    "\n",
    "\n",
    "\n",
    "\n"
   ]
  },
  {
   "cell_type": "markdown",
   "metadata": {},
   "source": [
    "**Question 2**: In the `list_of_lists` variable, the last item of each list is the `age` of the member of congress. This is currently a string. Without using any packages, create a subset that contains all of the values for `age` stored as floats."
   ]
  },
  {
   "cell_type": "code",
   "execution_count": null,
   "metadata": {},
   "outputs": [],
   "source": [
    "# Execute your code for question 2 here\n",
    "# -------------------------------------\n",
    "\n",
    "age_floats = []         \n",
    "\n",
    "subset = list_of_lists[1:]\n",
    "\n",
    "for row in subset:\n",
    "    age_flo = float(row[12])\n",
    "    age_floats.append(age_flo)\n",
    "\n",
    "age_floats[0:5]\n"
   ]
  },
  {
   "cell_type": "markdown",
   "metadata": {},
   "source": [
    "**Question 3**: Now go ahead and read in the file with `pandas` save the data frame to a variable called `df`."
   ]
  },
  {
   "cell_type": "code",
   "execution_count": null,
   "metadata": {},
   "outputs": [],
   "source": [
    "# Execute your code for question 3 here\n",
    "# -------------------------------------\n",
    "\n",
    "import pandas as pd\n",
    "\n",
    "with open('/dsa/data/all_datasets/congress-terms.csv', 'r', encoding = 'ISO-8859-1', ) as file:\n",
    "    df = pd.read_csv(file)\n"
   ]
  },
  {
   "cell_type": "markdown",
   "metadata": {},
   "source": [
    "**Question 4**: Find a method to print of the column headers of the data frame `df`."
   ]
  },
  {
   "cell_type": "code",
   "execution_count": null,
   "metadata": {},
   "outputs": [],
   "source": [
    "# Execute your code for question 4 here\n",
    "# -------------------------------------\n",
    "\n",
    "df.columns"
   ]
  },
  {
   "cell_type": "markdown",
   "metadata": {},
   "source": [
    "**Question 5**: Congresses are numbered. Notice that there is a column devoted to the Cogress number. This column is conveniently called `congress`. Create a subsetted data frame of the 80th congress only and call this subset `congress80`. "
   ]
  },
  {
   "cell_type": "code",
   "execution_count": null,
   "metadata": {},
   "outputs": [],
   "source": [
    "# Execute your code for question 5 here\n",
    "# -------------------------------------\n",
    "congress80 = df[df['congress'] == 80]\n",
    "congress80.head(5)\n"
   ]
  },
  {
   "cell_type": "markdown",
   "metadata": {},
   "source": [
    "**Question 6**: Now, from this `congress80` subset, use a method that will count the rows who are House members and then again for Senate Members."
   ]
  },
  {
   "cell_type": "code",
   "execution_count": null,
   "metadata": {},
   "outputs": [],
   "source": [
    "# Execute your code for question 6 here\n",
    "# -------------------------------------\n",
    "print(len(congress80[congress80['chamber'] == 'house']))\n",
    "print(len(congress80[congress80['chamber'] == 'senate']))"
   ]
  },
  {
   "cell_type": "markdown",
   "metadata": {},
   "source": [
    "# Save your notebook, then `File > Close and Halt`"
   ]
  }
 ],
 "metadata": {
  "kernelspec": {
   "display_name": "Python 3",
   "language": "python",
   "name": "python3"
  },
  "language_info": {
   "codemirror_mode": {
    "name": "ipython",
    "version": 3
   },
   "file_extension": ".py",
   "mimetype": "text/x-python",
   "name": "python",
   "nbconvert_exporter": "python",
   "pygments_lexer": "ipython3",
   "version": "3.7.3"
  }
 },
 "nbformat": 4,
 "nbformat_minor": 2
}
