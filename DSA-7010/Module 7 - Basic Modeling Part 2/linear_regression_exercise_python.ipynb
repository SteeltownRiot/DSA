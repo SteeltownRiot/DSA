{
 "cells": [
  {
   "cell_type": "markdown",
   "metadata": {},
   "source": [
    "# Linear Regression Exercise `Python`\n",
    "\n",
    "This exercise is going to be a little different in the sense that we won't be guiding in a question-by-question format. Instead, we are going to let you construct a linear model in your choice of `R` or `Python`, whichever you prefer.\n",
    "\n",
    "The prediction problem is to predict `height` from the `'/dsa/data/all_datasets/stature-hand-foot/stature-hand-foot.csv'` dataset. You can use any variable or combination of variables in order to predict `height`.\n",
    "\n",
    "You are not going to be graded upon the performance of the model itself, but please approach this as an actual prediction problem. That being said, you should split the data into training and testing sets, in which your model is trained on your training set while the performance is assessed on the testing set. Be sure to predict some output with your testing inputs.\n",
    "\n",
    "The purpose of this assignment is to demonstrate your ability to use regression to develop a machine learning model. Feel free to include anything that demonstrates your understanding of model development and model refinement including data exploration and even a written description of your reasoning. \n",
    "\n",
    "Like always, feel free to ask questions along the way if you get stuck at any point. We are more than happy to help!\n",
    "\n",
    "To add execution cells, click in this cell.\n",
    "Then, in the notebook menu: `Insert > Insert Cell Below`"
   ]
  },
  {
   "cell_type": "markdown",
   "metadata": {},
   "source": [
    "<span style=\"color:blue\">First, I want to load my libraries and data. Then get a preliminary look at the data.</span>"
   ]
  },
  {
   "cell_type": "code",
   "execution_count": 1,
   "metadata": {},
   "outputs": [
    {
     "name": "stdout",
     "output_type": "stream",
     "text": [
      "Requirement already satisfied: scikit-misc in /opt/conda/lib/python3.7/site-packages (0.1.4)\n",
      "Requirement already satisfied: numpy in /opt/conda/lib/python3.7/site-packages (from scikit-misc) (1.17.3)\n"
     ]
    }
   ],
   "source": [
    "!pip install scikit-misc\n",
    "%matplotlib inline\n",
    "import pandas as pd\n",
    "import numpy as np\n",
    "import seaborn as sns\n",
    "import matplotlib.pyplot as plt\n",
    "from matplotlib.collections import EllipseCollection\n",
    "from sklearn import linear_model\n",
    "from scipy.stats import pearsonr\n",
    "from scipy.stats import linregress\n",
    "import plotnine\n",
    "from plotnine import *\n",
    "\n",
    "with open('/dsa/data/all_datasets/stature-hand-foot/stature-hand-foot.csv') as file:\n",
    "    df = pd.read_csv(file)"
   ]
  },
  {
   "cell_type": "code",
   "execution_count": 2,
   "metadata": {},
   "outputs": [
    {
     "data": {
      "text/html": [
       "<div>\n",
       "<style scoped>\n",
       "    .dataframe tbody tr th:only-of-type {\n",
       "        vertical-align: middle;\n",
       "    }\n",
       "\n",
       "    .dataframe tbody tr th {\n",
       "        vertical-align: top;\n",
       "    }\n",
       "\n",
       "    .dataframe thead th {\n",
       "        text-align: right;\n",
       "    }\n",
       "</style>\n",
       "<table border=\"1\" class=\"dataframe\">\n",
       "  <thead>\n",
       "    <tr style=\"text-align: right;\">\n",
       "      <th></th>\n",
       "      <th>gender</th>\n",
       "      <th>height</th>\n",
       "      <th>hand length</th>\n",
       "      <th>foot length</th>\n",
       "    </tr>\n",
       "  </thead>\n",
       "  <tbody>\n",
       "    <tr>\n",
       "      <th>0</th>\n",
       "      <td>1</td>\n",
       "      <td>1760.2</td>\n",
       "      <td>208.6</td>\n",
       "      <td>269.6</td>\n",
       "    </tr>\n",
       "    <tr>\n",
       "      <th>1</th>\n",
       "      <td>1</td>\n",
       "      <td>1730.1</td>\n",
       "      <td>207.6</td>\n",
       "      <td>251.3</td>\n",
       "    </tr>\n",
       "    <tr>\n",
       "      <th>2</th>\n",
       "      <td>1</td>\n",
       "      <td>1659.6</td>\n",
       "      <td>173.2</td>\n",
       "      <td>193.6</td>\n",
       "    </tr>\n",
       "    <tr>\n",
       "      <th>3</th>\n",
       "      <td>1</td>\n",
       "      <td>1751.3</td>\n",
       "      <td>258.0</td>\n",
       "      <td>223.8</td>\n",
       "    </tr>\n",
       "    <tr>\n",
       "      <th>4</th>\n",
       "      <td>1</td>\n",
       "      <td>1780.6</td>\n",
       "      <td>212.3</td>\n",
       "      <td>282.1</td>\n",
       "    </tr>\n",
       "  </tbody>\n",
       "</table>\n",
       "</div>"
      ],
      "text/plain": [
       "   gender  height  hand length   foot length\n",
       "0       1  1760.2        208.6         269.6\n",
       "1       1  1730.1        207.6         251.3\n",
       "2       1  1659.6        173.2         193.6\n",
       "3       1  1751.3        258.0         223.8\n",
       "4       1  1780.6        212.3         282.1"
      ]
     },
     "execution_count": 2,
     "metadata": {},
     "output_type": "execute_result"
    }
   ],
   "source": [
    "df.head()"
   ]
  },
  {
   "cell_type": "markdown",
   "metadata": {},
   "source": [
    "<span style=\"color:blue\">I don't like the two-word column names and I'm not even sure how one would work with them.</span>"
   ]
  },
  {
   "cell_type": "code",
   "execution_count": 3,
   "metadata": {},
   "outputs": [
    {
     "data": {
      "text/html": [
       "<div>\n",
       "<style scoped>\n",
       "    .dataframe tbody tr th:only-of-type {\n",
       "        vertical-align: middle;\n",
       "    }\n",
       "\n",
       "    .dataframe tbody tr th {\n",
       "        vertical-align: top;\n",
       "    }\n",
       "\n",
       "    .dataframe thead th {\n",
       "        text-align: right;\n",
       "    }\n",
       "</style>\n",
       "<table border=\"1\" class=\"dataframe\">\n",
       "  <thead>\n",
       "    <tr style=\"text-align: right;\">\n",
       "      <th></th>\n",
       "      <th>gender</th>\n",
       "      <th>height</th>\n",
       "      <th>hand_length</th>\n",
       "      <th>foot_length</th>\n",
       "    </tr>\n",
       "  </thead>\n",
       "  <tbody>\n",
       "    <tr>\n",
       "      <th>0</th>\n",
       "      <td>1</td>\n",
       "      <td>1760.2</td>\n",
       "      <td>208.6</td>\n",
       "      <td>269.6</td>\n",
       "    </tr>\n",
       "    <tr>\n",
       "      <th>1</th>\n",
       "      <td>1</td>\n",
       "      <td>1730.1</td>\n",
       "      <td>207.6</td>\n",
       "      <td>251.3</td>\n",
       "    </tr>\n",
       "    <tr>\n",
       "      <th>2</th>\n",
       "      <td>1</td>\n",
       "      <td>1659.6</td>\n",
       "      <td>173.2</td>\n",
       "      <td>193.6</td>\n",
       "    </tr>\n",
       "    <tr>\n",
       "      <th>3</th>\n",
       "      <td>1</td>\n",
       "      <td>1751.3</td>\n",
       "      <td>258.0</td>\n",
       "      <td>223.8</td>\n",
       "    </tr>\n",
       "    <tr>\n",
       "      <th>4</th>\n",
       "      <td>1</td>\n",
       "      <td>1780.6</td>\n",
       "      <td>212.3</td>\n",
       "      <td>282.1</td>\n",
       "    </tr>\n",
       "  </tbody>\n",
       "</table>\n",
       "</div>"
      ],
      "text/plain": [
       "   gender  height  hand_length  foot_length\n",
       "0       1  1760.2        208.6        269.6\n",
       "1       1  1730.1        207.6        251.3\n",
       "2       1  1659.6        173.2        193.6\n",
       "3       1  1751.3        258.0        223.8\n",
       "4       1  1780.6        212.3        282.1"
      ]
     },
     "execution_count": 3,
     "metadata": {},
     "output_type": "execute_result"
    }
   ],
   "source": [
    "df = df.rename(columns = {'hand length': 'hand_length', 'foot length': 'foot_length'})\n",
    "#df = df.rename(columns = {'foot length': 'foot_length'})\n",
    "#df = df.rename({'foot length': 'foot_length'}, axis = 1)\n",
    "#pd.DataFrame.rename(columns = {\"foot length\" : \"foot_length\"})\n",
    "#pd.DataFrame.set_axis(['gender', 'height', 'hand_length', 'foot_length',2], axis=1)\n",
    "#df.rename({'foot length' : 'foot_length'}, axis=1)\n",
    "#pd.DataFrame.columns = ['gender', 'height', 'hand_length', 'foot_length']\n",
    "df.columns = ['gender', 'height', 'hand_length', 'foot_length']\n",
    "\n",
    "df.head()"
   ]
  },
  {
   "cell_type": "markdown",
   "metadata": {},
   "source": [
    "<span style=\"color:blue\">It was a struggle to rename 'foot length' for some reason. Now the column names are easier to work with and I know the basics about the data, I want to dig into it a little more before creating my model.</span>"
   ]
  },
  {
   "cell_type": "code",
   "execution_count": 4,
   "metadata": {},
   "outputs": [
    {
     "data": {
      "text/html": [
       "<div>\n",
       "<style scoped>\n",
       "    .dataframe tbody tr th:only-of-type {\n",
       "        vertical-align: middle;\n",
       "    }\n",
       "\n",
       "    .dataframe tbody tr th {\n",
       "        vertical-align: top;\n",
       "    }\n",
       "\n",
       "    .dataframe thead th {\n",
       "        text-align: right;\n",
       "    }\n",
       "</style>\n",
       "<table border=\"1\" class=\"dataframe\">\n",
       "  <thead>\n",
       "    <tr style=\"text-align: right;\">\n",
       "      <th></th>\n",
       "      <th>gender</th>\n",
       "      <th>height</th>\n",
       "      <th>hand_length</th>\n",
       "      <th>foot_length</th>\n",
       "    </tr>\n",
       "  </thead>\n",
       "  <tbody>\n",
       "    <tr>\n",
       "      <th>count</th>\n",
       "      <td>155.000000</td>\n",
       "      <td>155.000000</td>\n",
       "      <td>155.000000</td>\n",
       "      <td>155.000000</td>\n",
       "    </tr>\n",
       "    <tr>\n",
       "      <th>mean</th>\n",
       "      <td>1.483871</td>\n",
       "      <td>1677.516129</td>\n",
       "      <td>199.489032</td>\n",
       "      <td>249.101290</td>\n",
       "    </tr>\n",
       "    <tr>\n",
       "      <th>std</th>\n",
       "      <td>0.501360</td>\n",
       "      <td>93.913089</td>\n",
       "      <td>13.342222</td>\n",
       "      <td>18.548672</td>\n",
       "    </tr>\n",
       "    <tr>\n",
       "      <th>min</th>\n",
       "      <td>1.000000</td>\n",
       "      <td>1485.300000</td>\n",
       "      <td>133.700000</td>\n",
       "      <td>193.600000</td>\n",
       "    </tr>\n",
       "    <tr>\n",
       "      <th>25%</th>\n",
       "      <td>1.000000</td>\n",
       "      <td>1604.450000</td>\n",
       "      <td>189.550000</td>\n",
       "      <td>232.900000</td>\n",
       "    </tr>\n",
       "    <tr>\n",
       "      <th>50%</th>\n",
       "      <td>1.000000</td>\n",
       "      <td>1669.500000</td>\n",
       "      <td>200.000000</td>\n",
       "      <td>251.400000</td>\n",
       "    </tr>\n",
       "    <tr>\n",
       "      <th>75%</th>\n",
       "      <td>2.000000</td>\n",
       "      <td>1750.550000</td>\n",
       "      <td>208.650000</td>\n",
       "      <td>263.150000</td>\n",
       "    </tr>\n",
       "    <tr>\n",
       "      <th>max</th>\n",
       "      <td>2.000000</td>\n",
       "      <td>1888.700000</td>\n",
       "      <td>258.000000</td>\n",
       "      <td>283.100000</td>\n",
       "    </tr>\n",
       "  </tbody>\n",
       "</table>\n",
       "</div>"
      ],
      "text/plain": [
       "           gender       height  hand_length  foot_length\n",
       "count  155.000000   155.000000   155.000000   155.000000\n",
       "mean     1.483871  1677.516129   199.489032   249.101290\n",
       "std      0.501360    93.913089    13.342222    18.548672\n",
       "min      1.000000  1485.300000   133.700000   193.600000\n",
       "25%      1.000000  1604.450000   189.550000   232.900000\n",
       "50%      1.000000  1669.500000   200.000000   251.400000\n",
       "75%      2.000000  1750.550000   208.650000   263.150000\n",
       "max      2.000000  1888.700000   258.000000   283.100000"
      ]
     },
     "execution_count": 4,
     "metadata": {},
     "output_type": "execute_result"
    }
   ],
   "source": [
    "df.describe()"
   ]
  },
  {
   "cell_type": "markdown",
   "metadata": {},
   "source": [
    "<span style=\"color:blue\">Need to check to see if there was a need to do some carpentry or if this data set is ready to be analyzed.</span>"
   ]
  },
  {
   "cell_type": "code",
   "execution_count": 5,
   "metadata": {},
   "outputs": [
    {
     "data": {
      "text/plain": [
       "0"
      ]
     },
     "execution_count": 5,
     "metadata": {},
     "output_type": "execute_result"
    }
   ],
   "source": [
    "df.isna().sum().sum()"
   ]
  },
  {
   "cell_type": "code",
   "execution_count": 6,
   "metadata": {},
   "outputs": [
    {
     "data": {
      "text/plain": [
       "gender           int64\n",
       "height         float64\n",
       "hand_length    float64\n",
       "foot_length    float64\n",
       "dtype: object"
      ]
     },
     "execution_count": 6,
     "metadata": {},
     "output_type": "execute_result"
    }
   ],
   "source": [
    "df.dtypes"
   ]
  },
  {
   "cell_type": "markdown",
   "metadata": {},
   "source": [
    "<span style=\"color:blue\">Since there are no NaNs, gender is already a numerical value, and all of the measurement fields are already floats I will move onto some more detailed data exploration.</span>\n",
    "\n",
    "---\n",
    "\n",
    "<span style=\"color:blue\">I'll start with looking at some statistical data.</span>"
   ]
  },
  {
   "cell_type": "code",
   "execution_count": 7,
   "metadata": {},
   "outputs": [
    {
     "name": "stdout",
     "output_type": "stream",
     "text": [
      "Height mean by gender\n",
      "1    1750.565000\n",
      "2    1599.597333\n",
      "Name: height, dtype: float64 \n",
      "\n",
      " Hand length mean by gender\n",
      "1    208.77875\n",
      "2    189.58000\n",
      "Name: hand_length, dtype: float64 \n",
      "\n",
      " Foot length mean by gender\n",
      "1    262.556250\n",
      "2    234.749333\n",
      "Name: foot_length, dtype: float64 \n",
      "\n",
      "\n",
      "Height median by gender\n",
      "1    1749.1\n",
      "2    1597.2\n",
      "Name: height, dtype: float64 \n",
      "\n",
      " Hand length median by gender\n",
      "1    208.3\n",
      "2    189.5\n",
      "Name: hand_length, dtype: float64 \n",
      "\n",
      " Foot length median by gender\n",
      "1    262.7\n",
      "2    233.0\n",
      "Name: foot_length, dtype: float64 \n",
      "\n",
      "\n",
      "Height standard deviation by gender\n",
      "1    61.273696\n",
      "2    49.235328\n",
      "Name: height, dtype: float64 \n",
      "\n",
      " Hand length standard deviation by gender\n",
      "1    9.207684\n",
      "2    9.334968\n",
      "Name: hand_length, dtype: float64 \n",
      "\n",
      " Foot length standard deviation by gender\n",
      "1    12.423241\n",
      "2    12.114492\n",
      "Name: foot_length, dtype: float64\n"
     ]
    }
   ],
   "source": [
    "hMean = df.groupby(['gender'])['height'].mean()\n",
    "hlMean = df.groupby(['gender'])['hand_length'].mean()\n",
    "flMean = df.groupby(['gender'])['foot_length'].mean()\n",
    "\n",
    "hMedian = df.groupby(['gender'])['height'].median()\n",
    "hlMedian = df.groupby(['gender'])['hand_length'].median()\n",
    "flMedian = df.groupby(['gender'])['foot_length'].median()\n",
    "\n",
    "hStDev = df.groupby(['gender'])['height'].std()\n",
    "hlStDev = df.groupby(['gender'])['hand_length'].std()\n",
    "flStDev = df.groupby(['gender'])['foot_length'].std()\n",
    "\n",
    "print(\"Height mean by\", hMean, \"\\n\\n\", \"Hand length mean by\", hlMean, \"\\n\\n\", \"Foot length mean by\", flMean, \"\\n\\n\")\n",
    "print(\"Height median by\", hMedian, \"\\n\\n\", \"Hand length median by\", hlMedian, \"\\n\\n\", \"Foot length median by\", flMedian, \"\\n\\n\")\n",
    "print(\"Height standard deviation by\", hStDev, \"\\n\\n\", \"Hand length standard deviation by\", hlStDev, \"\\n\\n\", \"Foot length standard deviation by\", flStDev)"
   ]
  },
  {
   "cell_type": "markdown",
   "metadata": {},
   "source": [
    "<span style=\"color:blue\">The mean and median are pretty close in this data set, so the distribution is fairly symmetrical.</span>\n",
    "\n",
    " ---\n",
    "\n",
    "<span style=\"color:blue\">Next I want to visualize the data a bit more.</span>"
   ]
  },
  {
   "cell_type": "code",
   "execution_count": 8,
   "metadata": {},
   "outputs": [
    {
     "data": {
      "text/plain": [
       "<seaborn.axisgrid.PairGrid at 0x7fae41b22978>"
      ]
     },
     "execution_count": 8,
     "metadata": {},
     "output_type": "execute_result"
    },
    {
     "data": {
      "image/png": "[encoded data removed]",
      "text/plain": [
       "<Figure size 720x720 with 20 Axes>"
      ]
     },
     "metadata": {
      "needs_background": "light"
     },
     "output_type": "display_data"
    }
   ],
   "source": [
    "sns.pairplot(df[['gender', 'height', 'hand_length', 'foot_length']])"
   ]
  },
  {
   "cell_type": "markdown",
   "metadata": {},
   "source": [
    "<span style=\"color:blue\">I guess it really isn't a surprise to see plotting gender is not neccessarily useful. Distributions look fairly normal and all of the measurements seem to be linearly correlated. I want to see some larger graphs though.</span>"
   ]
  },
  {
   "cell_type": "code",
   "execution_count": 9,
   "metadata": {},
   "outputs": [
    {
     "data": {
      "image/png": "[encoded data removed]",
      "text/plain": [
       "<Figure size 432x288 with 1 Axes>"
      ]
     },
     "metadata": {
      "needs_background": "light"
     },
     "output_type": "display_data"
    }
   ],
   "source": [
    "g = df.gender\n",
    "h = df.height\n",
    "hl = df.hand_length\n",
    "fl = df.foot_length\n",
    "\n",
    "plt.scatter(fl, h, alpha = 0.4, label = \"Foot length\")\n",
    "plt.plot(np.unique(fl), np.poly1d(np.polyfit(fl, h, 1))(np.unique(fl)))\n",
    "\n",
    "plt.scatter(hl, h, alpha = 0.4, label = \"Hand length\")\n",
    "plt.plot(np.unique(hl), np.poly1d(np.polyfit(hl, h, 1))(np.unique(hl)))\n",
    "\n",
    "plt.xlabel('Hand/Foot Length')\n",
    "plt.ylabel('Height')\n",
    "plt.legend()\n",
    "plt.axis((None, None, 1400, 2000))\n",
    "\n",
    "plt.show()"
   ]
  },
  {
   "cell_type": "markdown",
   "metadata": {},
   "source": [
    "<span style=\"color:blue\">There are a few outliers for both lenghts, but hand length's outliers stretch across a broad spectrum.</span>\n",
    "    \n",
    " ---\n",
    "\n",
    "<span style=\"color:blue\">Next I want to get a feel for the data set's distributions.</span>"
   ]
  },
  {
   "cell_type": "code",
   "execution_count": 10,
   "metadata": {},
   "outputs": [
    {
     "name": "stdout",
     "output_type": "stream",
     "text": [
      "Height histogram:  [ 4 15 24 23 18 17 22 17  9  6]\n",
      "Height bin edges:  [1485.3  1525.64 1565.98 1606.32 1646.66 1687.   1727.34 1767.68 1808.02\n",
      " 1848.36 1888.7 ]\n",
      "Height histogram size:  10\n",
      "Height bin edges size:  11 \n",
      "\n",
      "Hand length histogram:  [ 1  0  0 10 55 48 39  1  0  1]\n",
      "Hand length bin edges:  [133.7  146.13 158.56 170.99 183.42 195.85 208.28 220.71 233.14 245.57\n",
      " 258.  ]\n",
      "Hand length histogram size:  10\n",
      "Hand length bin edges size:  11 \n",
      "\n",
      "Foot length histogram:  [ 2  2  3 11 37 18 13 36 21 12]\n",
      "Foot length bin edges:  [193.6  202.55 211.5  220.45 229.4  238.35 247.3  256.25 265.2  274.15\n",
      " 283.1 ]\n",
      "Foot length histogram size:  10\n",
      "Foot length bin edges size:  11\n"
     ]
    }
   ],
   "source": [
    "histH, binEdgesH = np.histogram(h)\n",
    "\n",
    "print(\"Height histogram: \", histH)\n",
    "print(\"Height bin edges: \", binEdgesH)\n",
    "print(\"Height histogram size: \", histH.size)\n",
    "print(\"Height bin edges size: \", binEdgesH.size, \"\\n\")\n",
    "\n",
    "histHL, binEdgesHL = np.histogram(hl)\n",
    "\n",
    "print(\"Hand length histogram: \", histHL)\n",
    "print(\"Hand length bin edges: \", binEdgesHL)\n",
    "print(\"Hand length histogram size: \", histHL.size)\n",
    "print(\"Hand length bin edges size: \", binEdgesHL.size, \"\\n\")\n",
    "\n",
    "histFL, binEdgesFL = np.histogram(fl)\n",
    "\n",
    "print(\"Foot length histogram: \", histFL)\n",
    "print(\"Foot length bin edges: \", binEdgesFL)\n",
    "print(\"Foot length histogram size: \", histFL.size)\n",
    "print(\"Foot length bin edges size: \", binEdgesFL.size)\n"
   ]
  },
  {
   "cell_type": "markdown",
   "metadata": {},
   "source": [
    "<span style=\"color:blue\">Now I want a better look at the distributions.</span>"
   ]
  },
  {
   "cell_type": "code",
   "execution_count": 11,
   "metadata": {},
   "outputs": [
    {
     "data": {
      "image/png": "[encoded data removed]",
      "text/plain": [
       "<Figure size 1152x576 with 4 Axes>"
      ]
     },
     "metadata": {
      "needs_background": "light"
     },
     "output_type": "display_data"
    }
   ],
   "source": [
    "histograms = df.hist(figsize = (16, 8))"
   ]
  },
  {
   "cell_type": "markdown",
   "metadata": {},
   "source": [
    "<span style=\"color:blue\">It looks like hand length is pretty normally distributed, as is height. Foot length and to a lesser degree height also seem to have double peaks. Could be related to gender.</span>\n",
    "    \n",
    " ---\n",
    "\n",
    "<span style=\"color:blue\">Now I want histograms that plot measurements by gender. I decided to set the y-axis height to be the same for all three to view them at the same scale</span>"
   ]
  },
  {
   "cell_type": "code",
   "execution_count": 12,
   "metadata": {},
   "outputs": [
    {
     "data": {
      "image/png": "[encoded data removed]",
      "text/plain": [
       "<Figure size 576x360 with 1 Axes>"
      ]
     },
     "metadata": {
      "needs_background": "light"
     },
     "output_type": "display_data"
    },
    {
     "data": {
      "image/png": "[encoded data removed]",
      "text/plain": [
       "<Figure size 576x360 with 1 Axes>"
      ]
     },
     "metadata": {
      "needs_background": "light"
     },
     "output_type": "display_data"
    },
    {
     "data": {
      "image/png": "[encoded data removed]",
      "text/plain": [
       "<Figure size 576x360 with 1 Axes>"
      ]
     },
     "metadata": {
      "needs_background": "light"
     },
     "output_type": "display_data"
    }
   ],
   "source": [
    "df.pivot(columns=\"gender\", values=\"height\").plot.hist(bins = 30, alpha = 0.5, figsize = (8, 5))\n",
    "plt.xlabel('Height')\n",
    "plt.ylabel('People')\n",
    "plt.axis((None, None, 0, 32))\n",
    "\n",
    "df.pivot(columns=\"gender\", values=\"hand_length\").plot.hist(bins = 30, alpha = 0.5, figsize = (8, 5))\n",
    "plt.xlabel('Hand Length')\n",
    "plt.ylabel('People')\n",
    "plt.axis((None, None, 0, 32))\n",
    "\n",
    "df.pivot(columns=\"gender\", values=\"foot_length\").plot.hist(bins = 30, alpha = 0.5, figsize = (8, 5))\n",
    "plt.xlabel('Foot Length')\n",
    "plt.ylabel('People')\n",
    "plt.axis((None, None, 0, 32))\n",
    "\n",
    "plt.show()"
   ]
  },
  {
   "cell_type": "markdown",
   "metadata": {},
   "source": [
    "<span style=\"color:blue\">Looks like gender should be correlated with all three measurements, and as such may not need to be included in the model as an input.</span>\n",
    "    \n",
    " ---\n",
    "\n",
    "<span style=\"color:blue\">Nex I wanted to calculate the correlation coeeficients and covariances.</span>"
   ]
  },
  {
   "cell_type": "code",
   "execution_count": 13,
   "metadata": {},
   "outputs": [
    {
     "data": {
      "text/html": [
       "<div>\n",
       "<style scoped>\n",
       "    .dataframe tbody tr th:only-of-type {\n",
       "        vertical-align: middle;\n",
       "    }\n",
       "\n",
       "    .dataframe tbody tr th {\n",
       "        vertical-align: top;\n",
       "    }\n",
       "\n",
       "    .dataframe thead th {\n",
       "        text-align: right;\n",
       "    }\n",
       "</style>\n",
       "<table border=\"1\" class=\"dataframe\">\n",
       "  <thead>\n",
       "    <tr style=\"text-align: right;\">\n",
       "      <th></th>\n",
       "      <th>gender</th>\n",
       "      <th>height</th>\n",
       "      <th>hand_length</th>\n",
       "      <th>foot_length</th>\n",
       "    </tr>\n",
       "  </thead>\n",
       "  <tbody>\n",
       "    <tr>\n",
       "      <th>gender</th>\n",
       "      <td>1.000000</td>\n",
       "      <td>-0.805948</td>\n",
       "      <td>-0.721430</td>\n",
       "      <td>-0.751605</td>\n",
       "    </tr>\n",
       "    <tr>\n",
       "      <th>height</th>\n",
       "      <td>-0.805948</td>\n",
       "      <td>1.000000</td>\n",
       "      <td>0.873295</td>\n",
       "      <td>0.881280</td>\n",
       "    </tr>\n",
       "    <tr>\n",
       "      <th>hand_length</th>\n",
       "      <td>-0.721430</td>\n",
       "      <td>0.873295</td>\n",
       "      <td>1.000000</td>\n",
       "      <td>0.788224</td>\n",
       "    </tr>\n",
       "    <tr>\n",
       "      <th>foot_length</th>\n",
       "      <td>-0.751605</td>\n",
       "      <td>0.881280</td>\n",
       "      <td>0.788224</td>\n",
       "      <td>1.000000</td>\n",
       "    </tr>\n",
       "  </tbody>\n",
       "</table>\n",
       "</div>"
      ],
      "text/plain": [
       "               gender    height  hand_length  foot_length\n",
       "gender       1.000000 -0.805948    -0.721430    -0.751605\n",
       "height      -0.805948  1.000000     0.873295     0.881280\n",
       "hand_length -0.721430  0.873295     1.000000     0.788224\n",
       "foot_length -0.751605  0.881280     0.788224     1.000000"
      ]
     },
     "execution_count": 13,
     "metadata": {},
     "output_type": "execute_result"
    }
   ],
   "source": [
    "df.corr()"
   ]
  },
  {
   "cell_type": "code",
   "execution_count": 14,
   "metadata": {},
   "outputs": [
    {
     "data": {
      "text/html": [
       "<div>\n",
       "<style scoped>\n",
       "    .dataframe tbody tr th:only-of-type {\n",
       "        vertical-align: middle;\n",
       "    }\n",
       "\n",
       "    .dataframe tbody tr th {\n",
       "        vertical-align: top;\n",
       "    }\n",
       "\n",
       "    .dataframe thead th {\n",
       "        text-align: right;\n",
       "    }\n",
       "</style>\n",
       "<table border=\"1\" class=\"dataframe\">\n",
       "  <thead>\n",
       "    <tr style=\"text-align: right;\">\n",
       "      <th></th>\n",
       "      <th>gender</th>\n",
       "      <th>height</th>\n",
       "      <th>hand_length</th>\n",
       "      <th>foot_length</th>\n",
       "    </tr>\n",
       "  </thead>\n",
       "  <tbody>\n",
       "    <tr>\n",
       "      <th>gender</th>\n",
       "      <td>0.251362</td>\n",
       "      <td>-37.947465</td>\n",
       "      <td>-4.825827</td>\n",
       "      <td>-6.989589</td>\n",
       "    </tr>\n",
       "    <tr>\n",
       "      <th>height</th>\n",
       "      <td>-37.947465</td>\n",
       "      <td>8819.668245</td>\n",
       "      <td>1094.247191</td>\n",
       "      <td>1535.156408</td>\n",
       "    </tr>\n",
       "    <tr>\n",
       "      <th>hand_length</th>\n",
       "      <td>-4.825827</td>\n",
       "      <td>1094.247191</td>\n",
       "      <td>178.014879</td>\n",
       "      <td>195.070144</td>\n",
       "    </tr>\n",
       "    <tr>\n",
       "      <th>foot_length</th>\n",
       "      <td>-6.989589</td>\n",
       "      <td>1535.156408</td>\n",
       "      <td>195.070144</td>\n",
       "      <td>344.053245</td>\n",
       "    </tr>\n",
       "  </tbody>\n",
       "</table>\n",
       "</div>"
      ],
      "text/plain": [
       "                gender       height  hand_length  foot_length\n",
       "gender        0.251362   -37.947465    -4.825827    -6.989589\n",
       "height      -37.947465  8819.668245  1094.247191  1535.156408\n",
       "hand_length  -4.825827  1094.247191   178.014879   195.070144\n",
       "foot_length  -6.989589  1535.156408   195.070144   344.053245"
      ]
     },
     "execution_count": 14,
     "metadata": {},
     "output_type": "execute_result"
    }
   ],
   "source": [
    "df.cov()"
   ]
  },
  {
   "cell_type": "code",
   "execution_count": 15,
   "metadata": {},
   "outputs": [
    {
     "data": {
      "text/html": [
       "<div>\n",
       "<style scoped>\n",
       "    .dataframe tbody tr th:only-of-type {\n",
       "        vertical-align: middle;\n",
       "    }\n",
       "\n",
       "    .dataframe tbody tr th {\n",
       "        vertical-align: top;\n",
       "    }\n",
       "\n",
       "    .dataframe thead th {\n",
       "        text-align: right;\n",
       "    }\n",
       "</style>\n",
       "<table border=\"1\" class=\"dataframe\">\n",
       "  <thead>\n",
       "    <tr style=\"text-align: right;\">\n",
       "      <th></th>\n",
       "      <th>height</th>\n",
       "      <th>hand_length</th>\n",
       "      <th>foot_length</th>\n",
       "    </tr>\n",
       "  </thead>\n",
       "  <tbody>\n",
       "    <tr>\n",
       "      <th>height</th>\n",
       "      <td>1.000000</td>\n",
       "      <td>0.709244</td>\n",
       "      <td>0.699100</td>\n",
       "    </tr>\n",
       "    <tr>\n",
       "      <th>hand_length</th>\n",
       "      <td>0.709244</td>\n",
       "      <td>1.000000</td>\n",
       "      <td>0.609538</td>\n",
       "    </tr>\n",
       "    <tr>\n",
       "      <th>foot_length</th>\n",
       "      <td>0.699100</td>\n",
       "      <td>0.609538</td>\n",
       "      <td>1.000000</td>\n",
       "    </tr>\n",
       "  </tbody>\n",
       "</table>\n",
       "</div>"
      ],
      "text/plain": [
       "               height  hand_length  foot_length\n",
       "height       1.000000     0.709244     0.699100\n",
       "hand_length  0.709244     1.000000     0.609538\n",
       "foot_length  0.699100     0.609538     1.000000"
      ]
     },
     "execution_count": 15,
     "metadata": {},
     "output_type": "execute_result"
    }
   ],
   "source": [
    "female =  df[(df['gender'] == 2)]\n",
    "female = female.drop(['gender'], axis = 1)\n",
    "male =  df[(df['gender'] == 1)]\n",
    "male = male.drop(['gender'], axis = 1)\n",
    "\n",
    "female.corr()"
   ]
  },
  {
   "cell_type": "code",
   "execution_count": 16,
   "metadata": {},
   "outputs": [
    {
     "data": {
      "text/html": [
       "<div>\n",
       "<style scoped>\n",
       "    .dataframe tbody tr th:only-of-type {\n",
       "        vertical-align: middle;\n",
       "    }\n",
       "\n",
       "    .dataframe tbody tr th {\n",
       "        vertical-align: top;\n",
       "    }\n",
       "\n",
       "    .dataframe thead th {\n",
       "        text-align: right;\n",
       "    }\n",
       "</style>\n",
       "<table border=\"1\" class=\"dataframe\">\n",
       "  <thead>\n",
       "    <tr style=\"text-align: right;\">\n",
       "      <th></th>\n",
       "      <th>height</th>\n",
       "      <th>hand_length</th>\n",
       "      <th>foot_length</th>\n",
       "    </tr>\n",
       "  </thead>\n",
       "  <tbody>\n",
       "    <tr>\n",
       "      <th>height</th>\n",
       "      <td>2424.117560</td>\n",
       "      <td>325.975892</td>\n",
       "      <td>416.985944</td>\n",
       "    </tr>\n",
       "    <tr>\n",
       "      <th>hand_length</th>\n",
       "      <td>325.975892</td>\n",
       "      <td>87.141622</td>\n",
       "      <td>68.931676</td>\n",
       "    </tr>\n",
       "    <tr>\n",
       "      <th>foot_length</th>\n",
       "      <td>416.985944</td>\n",
       "      <td>68.931676</td>\n",
       "      <td>146.760912</td>\n",
       "    </tr>\n",
       "  </tbody>\n",
       "</table>\n",
       "</div>"
      ],
      "text/plain": [
       "                  height  hand_length  foot_length\n",
       "height       2424.117560   325.975892   416.985944\n",
       "hand_length   325.975892    87.141622    68.931676\n",
       "foot_length   416.985944    68.931676   146.760912"
      ]
     },
     "execution_count": 16,
     "metadata": {},
     "output_type": "execute_result"
    }
   ],
   "source": [
    "female.cov()"
   ]
  },
  {
   "cell_type": "code",
   "execution_count": 17,
   "metadata": {},
   "outputs": [
    {
     "data": {
      "text/html": [
       "<div>\n",
       "<style scoped>\n",
       "    .dataframe tbody tr th:only-of-type {\n",
       "        vertical-align: middle;\n",
       "    }\n",
       "\n",
       "    .dataframe tbody tr th {\n",
       "        vertical-align: top;\n",
       "    }\n",
       "\n",
       "    .dataframe thead th {\n",
       "        text-align: right;\n",
       "    }\n",
       "</style>\n",
       "<table border=\"1\" class=\"dataframe\">\n",
       "  <thead>\n",
       "    <tr style=\"text-align: right;\">\n",
       "      <th></th>\n",
       "      <th>height</th>\n",
       "      <th>hand_length</th>\n",
       "      <th>foot_length</th>\n",
       "    </tr>\n",
       "  </thead>\n",
       "  <tbody>\n",
       "    <tr>\n",
       "      <th>height</th>\n",
       "      <td>1.000000</td>\n",
       "      <td>0.722356</td>\n",
       "      <td>0.715975</td>\n",
       "    </tr>\n",
       "    <tr>\n",
       "      <th>hand_length</th>\n",
       "      <td>0.722356</td>\n",
       "      <td>1.000000</td>\n",
       "      <td>0.473000</td>\n",
       "    </tr>\n",
       "    <tr>\n",
       "      <th>foot_length</th>\n",
       "      <td>0.715975</td>\n",
       "      <td>0.473000</td>\n",
       "      <td>1.000000</td>\n",
       "    </tr>\n",
       "  </tbody>\n",
       "</table>\n",
       "</div>"
      ],
      "text/plain": [
       "               height  hand_length  foot_length\n",
       "height       1.000000     0.722356     0.715975\n",
       "hand_length  0.722356     1.000000     0.473000\n",
       "foot_length  0.715975     0.473000     1.000000"
      ]
     },
     "execution_count": 17,
     "metadata": {},
     "output_type": "execute_result"
    }
   ],
   "source": [
    "male.corr()"
   ]
  },
  {
   "cell_type": "code",
   "execution_count": 18,
   "metadata": {},
   "outputs": [
    {
     "data": {
      "text/html": [
       "<div>\n",
       "<style scoped>\n",
       "    .dataframe tbody tr th:only-of-type {\n",
       "        vertical-align: middle;\n",
       "    }\n",
       "\n",
       "    .dataframe tbody tr th {\n",
       "        vertical-align: top;\n",
       "    }\n",
       "\n",
       "    .dataframe thead th {\n",
       "        text-align: right;\n",
       "    }\n",
       "</style>\n",
       "<table border=\"1\" class=\"dataframe\">\n",
       "  <thead>\n",
       "    <tr style=\"text-align: right;\">\n",
       "      <th></th>\n",
       "      <th>height</th>\n",
       "      <th>hand_length</th>\n",
       "      <th>foot_length</th>\n",
       "    </tr>\n",
       "  </thead>\n",
       "  <tbody>\n",
       "    <tr>\n",
       "      <th>height</th>\n",
       "      <td>3754.465848</td>\n",
       "      <td>407.545449</td>\n",
       "      <td>545.012880</td>\n",
       "    </tr>\n",
       "    <tr>\n",
       "      <th>hand_length</th>\n",
       "      <td>407.545449</td>\n",
       "      <td>84.781441</td>\n",
       "      <td>54.106147</td>\n",
       "    </tr>\n",
       "    <tr>\n",
       "      <th>foot_length</th>\n",
       "      <td>545.012880</td>\n",
       "      <td>54.106147</td>\n",
       "      <td>154.336922</td>\n",
       "    </tr>\n",
       "  </tbody>\n",
       "</table>\n",
       "</div>"
      ],
      "text/plain": [
       "                  height  hand_length  foot_length\n",
       "height       3754.465848   407.545449   545.012880\n",
       "hand_length   407.545449    84.781441    54.106147\n",
       "foot_length   545.012880    54.106147   154.336922"
      ]
     },
     "execution_count": 18,
     "metadata": {},
     "output_type": "execute_result"
    }
   ],
   "source": [
    "male.cov()"
   ]
  },
  {
   "cell_type": "code",
   "execution_count": 19,
   "metadata": {},
   "outputs": [
    {
     "data": {
      "image/png": "[encoded data removed]",
      "text/plain": [
       "<Figure size 504x432 with 2 Axes>"
      ]
     },
     "metadata": {
      "needs_background": "light"
     },
     "output_type": "display_data"
    }
   ],
   "source": [
    "def plot_corr_ellipses(df, ax = None, **kwargs):\n",
    "\n",
    "    M = np.array(df)\n",
    "    if not M.ndim == 2:\n",
    "        raise ValueError('data must be a 2D array')\n",
    "    if ax is None:\n",
    "        fig, ax = plt.subplots(1, 1, subplot_kw={'aspect':'equal'})\n",
    "        ax.set_xlim(-0.5, M.shape[1] - 0.5)\n",
    "        ax.set_ylim(-0.5, M.shape[0] - 0.5)\n",
    "\n",
    "    # xy locations of each ellipse center\n",
    "    xy = np.indices(M.shape)[::-1].reshape(2, -1).T\n",
    "\n",
    "    # set the relative sizes of the major/minor axes according to the strength of\n",
    "    # the positive/negative correlation\n",
    "    w = np.ones_like(M).ravel()\n",
    "    h = 1 - np.abs(M).ravel()\n",
    "    a = 45 * np.sign(M).ravel()\n",
    "\n",
    "    ec = EllipseCollection(widths=w, heights=h, angles = a, units = 'x', offsets = xy,\n",
    "                           transOffset=ax.transData, array = M.ravel(), **kwargs)\n",
    "    ax.add_collection(ec)\n",
    "\n",
    "    # if data is a DataFrame, use the row/column names as tick labels\n",
    "    if isinstance(df, pd.DataFrame):\n",
    "        ax.set_xticks(np.arange(M.shape[1]))\n",
    "        ax.set_xticklabels(df.columns, rotation = 90)\n",
    "        ax.set_yticks(np.arange(M.shape[0]))\n",
    "        ax.set_yticklabels(df.index)\n",
    "\n",
    "    return ec\n",
    "\n",
    "fig, ax = plt.subplots(1, 1, figsize = (7, 6))\n",
    "m = plot_corr_ellipses(df.corr(), ax = ax, cmap = 'Blues')\n",
    "cb = fig.colorbar(m)\n",
    "cb.set_label('Correlation coefficients')\n",
    "ax.margins(0.1)"
   ]
  },
  {
   "cell_type": "markdown",
   "metadata": {},
   "source": [
    "<span style=\"color:blue\">It appears the strogest correlations in our dataset are between foot length and hand length.</span>"
   ]
  },
  {
   "cell_type": "code",
   "execution_count": 20,
   "metadata": {},
   "outputs": [
    {
     "name": "stdout",
     "output_type": "stream",
     "text": [
      "Gender LinregressResult(slope=-150.96766666666673, intercept=1901.5326666666667, rvalue=-0.8059483931583068, pvalue=1.160662194708788e-36, stderr=8.964834636041049) \n",
      "\n",
      "Hand length LinregressResult(slope=6.146942309694665, intercept=451.2685563251175, rvalue=0.8732953831482183, pvalue=1.215784378606515e-49, stderr=0.27723726703010154) \n",
      "\n",
      "Foot length LinregressResult(slope=4.461973341593729, intercept=566.0328122563033, rvalue=0.8812795161569845, pvalue=1.1477869028095023e-51, stderr=0.1934448055463997)\n"
     ]
    }
   ],
   "source": [
    "print(\"Gender\", linregress(g, h), \"\\n\")\n",
    "print(\"Hand length\", linregress(hl, h), \"\\n\")\n",
    "print(\"Foot length\", linregress(fl, h))"
   ]
  },
  {
   "cell_type": "markdown",
   "metadata": {},
   "source": [
    "<span style=\"color:blue\">When thinking about predicting height, gender has a negative covariance, which tells us the smaller number (male) has taller heights and the larger number (female) is tied to smaller heights. Both of the measures have positive covariance. This means larger hands/feet mean taller heights.</span>\n",
    "\n",
    "<span style=\"color:blue\">All of the potential inputs have a strong correlation with hand and foot length both approaching a very strong correlation.</span>\n",
    "    \n",
    "<span style=\"color:blue\">The slopes tell me to expect males to be about 151 cm taller, for each centimeter longer the hand to expect about 6 cm added height, and for each centimeter longer the foot to expect about 4.5 cm added height.</span>\n",
    "    \n",
    " ---\n",
    "\n",
    "<span style=\"color:blue\">I think to be as accurate as possible, my model needs to account for gender, hand length, and foot length.</span>"
   ]
  },
  {
   "cell_type": "code",
   "execution_count": 21,
   "metadata": {},
   "outputs": [],
   "source": [
    "# When creating my training and testing sets I'm going to use the same 70/30 split we used in the practice.\n",
    "train = df.sample(frac = 7/10, random_state = 1)\n",
    "test = df.drop(train.index)"
   ]
  },
  {
   "cell_type": "markdown",
   "metadata": {},
   "source": [
    "<span style=\"color:blue\">Since all three variables had a correlation coefficient $\\ge$ 0.8, and the slope for gender was so large I decided to use them all as inputs and of course height as the outcome.</span>"
   ]
  },
  {
   "cell_type": "code",
   "execution_count": 22,
   "metadata": {},
   "outputs": [],
   "source": [
    "train_X = np.asarray(train[['gender', 'hand_length', 'foot_length']])\n",
    "train_y = np.asarray(train.height)\n",
    "\n",
    "test_X = np.asarray(test[['gender', 'hand_length', 'foot_length']])\n",
    "test_y = np.asarray(test.height)"
   ]
  },
  {
   "cell_type": "markdown",
   "metadata": {},
   "source": [
    "<span style=\"color:blue\">Now to create and train the model</span>"
   ]
  },
  {
   "cell_type": "code",
   "execution_count": 23,
   "metadata": {},
   "outputs": [
    {
     "data": {
      "text/plain": [
       "LinearRegression(copy_X=True, fit_intercept=True, n_jobs=None,\n",
       "         normalize=False)"
      ]
     },
     "execution_count": 23,
     "metadata": {},
     "output_type": "execute_result"
    }
   ],
   "source": [
    "regrModel = linear_model.LinearRegression()\n",
    "\n",
    "regrModel.fit(train_X, train_y)"
   ]
  },
  {
   "cell_type": "markdown",
   "metadata": {},
   "source": [
    "<span style=\"color:blue\">I want to see results from training the model.</span>"
   ]
  },
  {
   "cell_type": "code",
   "execution_count": 25,
   "metadata": {},
   "outputs": [
    {
     "name": "stdout",
     "output_type": "stream",
     "text": [
      "Intercept:  714.8945738470037 \n",
      "\n",
      "Coefficients:  [('gender', -44.196827350420946), ('hand_length', 3.3865318743429826), ('foot_length', 1.4188517992305183)] \n",
      "\n",
      "Training R-Squared: 0.8623523993502923\n",
      "Testing R-Squared: 0.8920066395220825\n"
     ]
    }
   ],
   "source": [
    "print(\"Intercept: \", regrModel.intercept_, \"\\n\")\n",
    "\n",
    "z = zip(['gender', 'hand_length', 'foot_length'],regrModel.coef_)\n",
    "print(\"Coefficients: \", list(z), \"\\n\")\n",
    "\n",
    "print('Training R-Squared: {}'.format(regrModel.score(train_X, train_y)))\n",
    "\n",
    "print('Testing R-Squared: {}'.format(regrModel.score(test_X, test_y)))"
   ]
  },
  {
   "cell_type": "markdown",
   "metadata": {},
   "source": [
    "<span style=\"color:blue\">It is good to see the training model accounts for 86.24% of the variance and the testing model did even better accounting for 89.2% of the variance.</span>\n",
    "    \n",
    " ---\n",
    "\n",
    "<span style=\"color:blue\">I want to play with a few models to see if one or more changes would make for a better model.</span>"
   ]
  },
  {
   "cell_type": "code",
   "execution_count": 26,
   "metadata": {},
   "outputs": [
    {
     "name": "stdout",
     "output_type": "stream",
     "text": [
      "Gender Model:\n",
      "Intercept:  1896.2655574614064\n",
      "Coefficient:  [('gender', -149.93914236706695)]\n",
      "Training R-Squared: 0.6452104215580466\n",
      "Testing R-Squared: 0.6363778234166814 \n",
      "\n",
      "Hand Length Model:\n",
      "Intercept:  404.7981350319485\n",
      "Coefficient:  [('hand_length', 6.389181723310665)]\n",
      "Training R-Squared: 0.7952387285269256\n",
      "Testing R-Squared: 0.6680203060425792 \n",
      "\n",
      "Foot Length Model:\n",
      "Intercept:  596.0812078723122\n",
      "Coefficient:  [('foot_length', 4.338695155520276)]\n",
      "Training R-Squared: 0.7664828823951768\n",
      "Testing R-Squared: 0.7871216037288542 \n",
      "\n",
      "Hand & Foot Length Model:\n",
      "Intercept:  401.8417889700286\n",
      "Coefficients:  [('hand_length', 3.8195968667022324), ('foot_length', 2.0676793356014302)]\n",
      "Training R-Squared: 0.84069215785758\n",
      "Testing R-Squared: 0.887522333517272\n"
     ]
    }
   ],
   "source": [
    "# Gender-only set & model\n",
    "train_X1 = np.asarray(train[['gender']])\n",
    "train_y1 = np.asarray(train.height)\n",
    "\n",
    "test_X1 = np.asarray(test[['gender']])\n",
    "test_y1 = np.asarray(test.height)\n",
    "\n",
    "regrModel1 = linear_model.LinearRegression()\n",
    "regrModel1.fit(train_X1, train_y1)\n",
    "\n",
    "# Hand length-only set & model\n",
    "train_X2 = np.asarray(train[['hand_length']])\n",
    "train_y2 = np.asarray(train.height)\n",
    "\n",
    "test_X2 = np.asarray(test[['hand_length']])\n",
    "test_y2 = np.asarray(test.height)\n",
    "\n",
    "regrModel2 = linear_model.LinearRegression()\n",
    "regrModel2.fit(train_X2, train_y2)\n",
    "\n",
    "# Foot length-only set & model\n",
    "train_X3 = np.asarray(train[['foot_length']])\n",
    "train_y3 = np.asarray(train.height)\n",
    "\n",
    "test_X3 = np.asarray(test[['foot_length']])\n",
    "test_y3 = np.asarray(test.height)\n",
    "\n",
    "regrModel3 = linear_model.LinearRegression()\n",
    "regrModel3.fit(train_X3, train_y3)\n",
    "\n",
    "# Genderless set & model\n",
    "train_X4 = np.asarray(train[['hand_length', 'foot_length']])\n",
    "train_y4 = np.asarray(train.height)\n",
    "\n",
    "test_X4 = np.asarray(test[['hand_length', 'foot_length']])\n",
    "test_y4 = np.asarray(test.height)\n",
    "\n",
    "regrModel4 = linear_model.LinearRegression()\n",
    "regrModel4.fit(train_X4, train_y4)\n",
    "\n",
    "print(\"Gender Model:\")\n",
    "print(\"Intercept: \", regrModel1.intercept_)\n",
    "z1 = zip(['gender'],regrModel1.coef_)\n",
    "print(\"Coefficient: \", list(z1))\n",
    "print('Training R-Squared: {}'.format(regrModel1.score(train_X1, train_y1)))\n",
    "print('Testing R-Squared: {}'.format(regrModel1.score(test_X1, test_y1)), \"\\n\")\n",
    "print(\"Hand Length Model:\")\n",
    "print(\"Intercept: \", regrModel2.intercept_)\n",
    "z2 = zip(['hand_length'],regrModel2.coef_)\n",
    "print(\"Coefficient: \", list(z2))\n",
    "print('Training R-Squared: {}'.format(regrModel2.score(train_X2, train_y2)))\n",
    "print('Testing R-Squared: {}'.format(regrModel2.score(test_X2, test_y2)), \"\\n\")\n",
    "print(\"Foot Length Model:\")\n",
    "print(\"Intercept: \", regrModel3.intercept_)\n",
    "z3 = zip(['foot_length'],regrModel3.coef_)\n",
    "print(\"Coefficient: \", list(z3))\n",
    "print('Training R-Squared: {}'.format(regrModel3.score(train_X3, train_y3)))\n",
    "print('Testing R-Squared: {}'.format(regrModel3.score(test_X3, test_y3)), \"\\n\")\n",
    "print(\"Hand & Foot Length Model:\")\n",
    "print(\"Intercept: \", regrModel4.intercept_)\n",
    "z4 = zip(['hand_length', 'foot_length'],regrModel4.coef_)\n",
    "print(\"Coefficients: \", list(z4))\n",
    "print('Training R-Squared: {}'.format(regrModel4.score(train_X4, train_y4)))\n",
    "print('Testing R-Squared: {}'.format(regrModel4.score(test_X4, test_y4)))"
   ]
  },
  {
   "cell_type": "markdown",
   "metadata": {},
   "source": [
    "<span style=\"color:blue\">None of the inputs alone outperformed the original model, though foot and hand lengths came very close. The prediction probably wouldn't suffer much leaving gender out.</span>\n",
    "    \n",
    " ---\n",
    "\n",
    "<span style=\"color:blue\">Finally, it is time to predict height.</span>"
   ]
  },
  {
   "cell_type": "code",
   "execution_count": 27,
   "metadata": {},
   "outputs": [
    {
     "name": "stdout",
     "output_type": "stream",
     "text": [
      "Full model predictions: [1730.29922076 1861.96200274 1705.69665995 1786.86742279 1810.23574723\n",
      " 1792.86277073 1764.19916803 1699.83384097 1768.35936486 1760.21297591\n",
      " 1716.17745082 1769.45297055 1729.15198674 1771.59465533 1736.23688951\n",
      " 1745.95211715 1754.36886938 1800.08425332 1749.34800525 1690.54301437\n",
      " 1736.13117472 1748.11251438 1807.15979988 1747.48073461 1735.13797846\n",
      " 1815.71843728 1732.48363579 1584.79580025 1751.09670388 1575.31756186\n",
      " 1607.57382066 1594.31956524 1622.37415147 1589.08852603 1629.52734416\n",
      " 1582.25122323 1604.01733494 1568.00907691 1667.0922883  1623.42223056\n",
      " 1602.48871749 1599.70589672 1601.66952593 1681.06532585 1641.00133129\n",
      " 1598.05410652 1595.39040763] \n",
      "\n",
      "Hand & Foot length model predictions: [1714.39791553 1850.04441589 1687.02312282 1789.13683037 1818.95212554\n",
      " 1796.64667386 1759.78395809 1679.14863049 1765.17723521 1754.86736919\n",
      " 1701.18111636 1765.99004162 1717.07676211 1768.21864738 1726.84374202\n",
      " 1736.53939528 1748.13571041 1804.60467492 1740.93040891 1666.61320423\n",
      " 1725.46256436 1739.91083457 1813.80023806 1738.54392225 1724.01518883\n",
      " 1825.60332112 1720.92793515 1590.41473178 1801.30456227 1578.27553054\n",
      " 1619.7044517  1601.95094007 1637.14524704 1595.44336007 1646.00773752\n",
      " 1587.26432574 1613.96383659 1570.07918537 1693.61116603 1638.5610464\n",
      " 1611.95930961 1607.79237476 1610.98862231 1712.96993409 1661.6131066\n",
      " 1606.72391339 1603.06524295]\n"
     ]
    }
   ],
   "source": [
    "fullModel = regrModel.predict(test_X)\n",
    "genderlessModel = regrModel4.predict(test_X4)\n",
    "\n",
    "print(\"Full model predictions:\", fullModel, \"\\n\")\n",
    "print(\"Hand & Foot length model predictions:\", genderlessModel)"
   ]
  },
  {
   "cell_type": "markdown",
   "metadata": {},
   "source": [
    "<span style=\"color:blue\">There are definitely differences between the two predictions, but they are not very far apart. If I were in a situation where computer time was at a premium and this dataset fell into the <i>Big Data</i> category necessitating I only use two inputs, I would feel comfortable picking any two of these three, but hand & foot length do seem to be good predictors by themselves.</span>"
   ]
  },
  {
   "cell_type": "markdown",
   "metadata": {},
   "source": [
    "# Save your notebook, then `File > Close and Halt`"
   ]
  }
 ],
 "metadata": {
  "kernelspec": {
   "display_name": "Python 3",
   "language": "python",
   "name": "python3"
  },
  "language_info": {
   "codemirror_mode": {
    "name": "ipython",
    "version": 3
   },
   "file_extension": ".py",
   "mimetype": "text/x-python",
   "name": "python",
   "nbconvert_exporter": "python",
   "pygments_lexer": "ipython3",
   "version": "3.7.3"
  }
 },
 "nbformat": 4,
 "nbformat_minor": 1
}
