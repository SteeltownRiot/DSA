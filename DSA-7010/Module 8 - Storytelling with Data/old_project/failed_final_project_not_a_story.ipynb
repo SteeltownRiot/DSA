{
 "cells": [
  {
   "cell_type": "markdown",
   "metadata": {},
   "source": [
    "# Final Project\n",
    "\n",
    "You have made it to the end of the course, and you have worked hard to develop your DSA perspectives and skills.  So far we have been internally focused on the operations of performing data science and analytics.  Now we will extend our work to the development of a data story that is externally focused.\n",
    "\n",
    "In the Module8 labs, you saw simplified examples of constructing data stories. In module4 (Database) there also was an abbreviated example data story.  Throughout the course, there are components and parts useful to consider as a basis for developing a short, unique, focused data story.\n",
    "\n",
    "\n",
    "For this final project, you will \n",
    "\n",
    "- Step 0: Choose your Language for this Adventure\n",
    "\n",
    "- Step 1: Find a Story\n",
    "\n",
    "- Step 2: Remember your Audience\n",
    "\n",
    "- Step 3: Find and Stage Your Data\n",
    "\n",
    "- Step 4: Vet Data Sources\n",
    "\n",
    "- Step 5: Filter Results and Build/Validate Models\n",
    "\n",
    "- Step 6: Visualize Results\n",
    "\n",
    "- Step 7: Communicate the Story to your intended audience using visualizations and narratives\n",
    "\n",
    "- Final Step: Connect your workflow/process to the DSA-Project Life Cycle\n",
    "\n",
    "---\n",
    "Here are some recommendations for managing the scope and quality of this project:\n",
    "\n",
    "- Narrow down the issue, problem, question, or hypothesis for you data story to a single, relatively simple perspective.\n",
    "\n",
    "- Identify already available data that affords addressing your problem.  If using completely new data, know it well.\n",
    "\n",
    "- Address the data relative to the statistical/machine learning model(s) chosen to minimize any issues.\n",
    "\n",
    "- Internally document your code using comments that explain the purpose of the operation(s).\n",
    "\n",
    "\n",
    "Make your project unique by\n",
    "\n",
    "- Comparing two or more different statistical/machine learning models using the same data.\n",
    "- Refrain from identically replicating any existing projects obtained from external sources.\n",
    "- Running a single model multiple times and changing a different single parameter each time for comparison.\n",
    "- Changing the sampling proportions for building the hold-out data and comparing the same model performance repeatedly.\n",
    "- Select something you find interesting or unique in the data and write a story around it.\n",
    "\n",
    "\n"
   ]
  },
  {
   "cell_type": "markdown",
   "metadata": {},
   "source": [
    "## Step 0: Choose your Language for this Adventure:\n",
    "\n",
    "You can do this project in either *R* or *Python*.\n",
    "\n",
    "To change the kernel of this notebook, do the following with the `Kernel` menu.\n",
    "\n",
    " * `Kernel > Change Kernel > Python 3`\n",
    " * `Kernel > Change Kernel > R`\n",
    "\n",
    "![FP_Change_Kernel.png MISSING](../images/FP_Change_Kernel.png)\n"
   ]
  },
  {
   "cell_type": "markdown",
   "metadata": {},
   "source": [
    "---\n",
    "## Step 1: Find a Story\n",
    "\n",
    "Think back to any of the data files we have used in this class. \n",
    "Alternatively, you can search online for potential data and story ideas.\n",
    "\n",
    "In the cell below, please detail the source of your data (with link).\n",
    "Additionally, preview your story you hope to uncover."
   ]
  },
  {
   "cell_type": "raw",
   "metadata": {
    "collapsed": true
   },
   "source": [
    "Tool Box is a tech website that listed some project ideas. Disinformation has plagued the internet since the days of message boards long before the World Wide Web made the Internet widely accessible. But those were always on the fringe of even the eccentric computer community. YouTube really kicked the door open to conspiracy theories, starting with bringing \"Flat Earth\" nearly into the mainstream, with even superstar athletes publicly promoting it. Social media has supercharged the spread of disinformation in the last half a decade, and I spent way too much of my time from 2015 through 2017, when I mostly gave up social media, on Facebook correcting friends and family posting all kinds of crazy conspiracy theories and flat out fake news. All the while, these same people were denouncing news they disagreed with as fake news. Finding a data set that will allow me to try and predict fake news from real news made me want to jump in and give it a try.\n",
    "\n",
    "https://www.toolbox.com/tech/big-data/guest-article/top-10-data-science-project-ideas-for-2020/"
   ]
  },
  {
   "cell_type": "markdown",
   "metadata": {},
   "source": [
    "## Step 2: Remember your Audience\n",
    "\n",
    "In the cell below, describe your audience!\n",
    " * Who will the audience be?\n",
    " * What value will they derive from your story?"
   ]
  },
  {
   "cell_type": "raw",
   "metadata": {
    "collapsed": true
   },
   "source": [
    "I would like to think the audience for this kind of project would be everyone because they would want to know whether what they are readying is true or not. Unfortunately, I think too many people would assume nefarious intent if my model says a news source they feel like they can trust is mostly fake or a story they believe to be fake is actually true. So realisticly, the audience would be folks like I used to be (and sometimes still cannot help myself) looking to verify or refute a news story so they can try to inform their friends and family to its veracity. The value they would get from this project would be to spend less time researching the truth of a news story so they can spend more time on homework or with their familys."
   ]
  },
  {
   "cell_type": "markdown",
   "metadata": {},
   "source": [
    "## Step 3: Find and Stage Your Data\n",
    "\n",
    "If you data is from another source, such as Kaggle, you must download it to your local computer, then upload the data to JuptyerHub.\n",
    "\n",
    "#### If you are uploading files:\n",
    " * Use folder navigation of your first JupyterTab to get to course's `/modules/module8/exercises/` folder.\n",
    "![FP_Folder_Navigation.png MISSING](../images/FP_Folder_Navigation.png)\n",
    " * Click the Upload Button and Choose File(s)\n",
    "![FP_Upload_Button.png MISSING](../images/FP_Upload_Button.png)\n",
    " * Activate the upload\n",
    "![FP_UploadFile_2.png MISSING](../images/FP_UploadFile_2.png)\n",
    " \n",
    "\n",
    "### In the cell below, please list the name(s) of the file(s) that is now accessible on the JupyterHub environment.\n",
    "\n",
    "**Note**: \n",
    "If you uploaded a file to your `module8/exercises` folder, the file name is all you need to load it into the a data frame in the usual manner.\n",
    "If you are using a file from another module of the course, you should be able to copy the full pathname and use it as is in this notebook."
   ]
  },
  {
   "cell_type": "raw",
   "metadata": {
    "collapsed": true
   },
   "source": [
    "I uploaded news.csv to my module8/exercises folder.\n",
    "\n"
   ]
  },
  {
   "cell_type": "markdown",
   "metadata": {},
   "source": [
    "## Step 4: Vet Data Sources\n",
    "\n",
    "Use the cells below to load the data, inspect it, conduct data carpentry and shaping; perform exploratory data analysis.  \n",
    "\n",
    "Add more cells (`Insert > Insert Cell Below`) if you want additional cells."
   ]
  },
  {
   "cell_type": "code",
   "execution_count": 1,
   "metadata": {},
   "outputs": [
    {
     "name": "stdout",
     "output_type": "stream",
     "text": [
      "(27135, 4)\n",
      "id       object\n",
      "title    object\n",
      "text     object\n",
      "label    object\n",
      "dtype: object\n"
     ]
    },
    {
     "data": {
      "text/html": [
       "<div>\n",
       "<style scoped>\n",
       "    .dataframe tbody tr th:only-of-type {\n",
       "        vertical-align: middle;\n",
       "    }\n",
       "\n",
       "    .dataframe tbody tr th {\n",
       "        vertical-align: top;\n",
       "    }\n",
       "\n",
       "    .dataframe thead th {\n",
       "        text-align: right;\n",
       "    }\n",
       "</style>\n",
       "<table border=\"1\" class=\"dataframe\">\n",
       "  <thead>\n",
       "    <tr style=\"text-align: right;\">\n",
       "      <th></th>\n",
       "      <th>id</th>\n",
       "      <th>title</th>\n",
       "      <th>text</th>\n",
       "      <th>label</th>\n",
       "    </tr>\n",
       "  </thead>\n",
       "  <tbody>\n",
       "    <tr>\n",
       "      <th>0</th>\n",
       "      <td>29275</td>\n",
       "      <td>YOU CAN SMELL HILLARY’S FEAR</td>\n",
       "      <td>DANIEL GREENFIELD, A SHILLMAN JOURNALISM FELLO...</td>\n",
       "      <td>FAKE</td>\n",
       "    </tr>\n",
       "    <tr>\n",
       "      <th>1</th>\n",
       "      <td>31093</td>\n",
       "      <td>WATCH THE EXACT MOMENT PAUL RYAN COMMITTED POL...</td>\n",
       "      <td>GOOGLE PINTEREST DIGG LINKEDIN REDDIT STUMBLEU...</td>\n",
       "      <td>FAKE</td>\n",
       "    </tr>\n",
       "    <tr>\n",
       "      <th>2</th>\n",
       "      <td>24407</td>\n",
       "      <td>KERRY TO GO TO PARIS IN GESTURE OF SYMPATHY</td>\n",
       "      <td>U.S. SECRETARY OF STATE JOHN F. KERRY SAID MON...</td>\n",
       "      <td>REAL</td>\n",
       "    </tr>\n",
       "    <tr>\n",
       "      <th>3</th>\n",
       "      <td>30941</td>\n",
       "      <td>BERNIE SUPPORTERS ON TWITTER ERUPT IN ANGER AG...</td>\n",
       "      <td>— KAYDEE KING (@KAYDEEKING) NOVEMBER 9, 2016 T...</td>\n",
       "      <td>FAKE</td>\n",
       "    </tr>\n",
       "    <tr>\n",
       "      <th>4</th>\n",
       "      <td>21674</td>\n",
       "      <td>THE BATTLE OF NEW YORK: WHY THIS PRIMARY MATTERS</td>\n",
       "      <td>IT'S PRIMARY DAY IN NEW YORK AND FRONT-RUNNERS...</td>\n",
       "      <td>REAL</td>\n",
       "    </tr>\n",
       "  </tbody>\n",
       "</table>\n",
       "</div>"
      ],
      "text/plain": [
       "      id                                              title  \\\n",
       "0  29275                       YOU CAN SMELL HILLARY’S FEAR   \n",
       "1  31093  WATCH THE EXACT MOMENT PAUL RYAN COMMITTED POL...   \n",
       "2  24407        KERRY TO GO TO PARIS IN GESTURE OF SYMPATHY   \n",
       "3  30941  BERNIE SUPPORTERS ON TWITTER ERUPT IN ANGER AG...   \n",
       "4  21674   THE BATTLE OF NEW YORK: WHY THIS PRIMARY MATTERS   \n",
       "\n",
       "                                                text label  \n",
       "0  DANIEL GREENFIELD, A SHILLMAN JOURNALISM FELLO...  FAKE  \n",
       "1  GOOGLE PINTEREST DIGG LINKEDIN REDDIT STUMBLEU...  FAKE  \n",
       "2  U.S. SECRETARY OF STATE JOHN F. KERRY SAID MON...  REAL  \n",
       "3  — KAYDEE KING (@KAYDEEKING) NOVEMBER 9, 2016 T...  FAKE  \n",
       "4  IT'S PRIMARY DAY IN NEW YORK AND FRONT-RUNNERS...  REAL  "
      ]
     },
     "execution_count": 1,
     "metadata": {},
     "output_type": "execute_result"
    }
   ],
   "source": [
    "# Load packages and libraries\n",
    "import numpy as np\n",
    "import pandas as pd\n",
    "import itertools\n",
    "from sklearn.model_selection import train_test_split\n",
    "# Checks number of times a word appears in text\n",
    "from sklearn.feature_extraction.text import TfidfVectorizer\n",
    "from sklearn.linear_model import PassiveAggressiveClassifier\n",
    "from sklearn.metrics import accuracy_score, confusion_matrix\n",
    "from sklearn.svm import LinearSVC\n",
    "from sklearn.pipeline import make_pipeline\n",
    "from sklearn.preprocessing import StandardScaler\n",
    "from sklearn.datasets import make_classification\n",
    "#from sklearn.model_selection import train_test_split\n",
    "\n",
    "# Read the CSV as a Pandas dataframe with UTF-8 encoding\n",
    "with open('news.csv', encoding = 'utf8') as file:\n",
    "    news = pd.read_csv(file)\n",
    "    # Changing text in title and text columns to be all uppercase\n",
    "    news['title'] = news['title'].str.upper()\n",
    "    news['text'] = news['text'].str.upper()\n",
    "\n",
    "# Display the shape, data types, and first few records of data set\n",
    "print(news.shape)\n",
    "print(news.dtypes)\n",
    "news.head()"
   ]
  },
  {
   "cell_type": "code",
   "execution_count": 2,
   "metadata": {},
   "outputs": [],
   "source": [
    "# Convert data types to strings because we can't perform string operations on objects\n",
    "#news[['title', 'text', 'label']] = news[['title', 'text', 'label']].astype('|S')\n",
    "\n",
    "#news.dtypes\n",
    "# Causing errors where no ASCII charachter exists for a UTF-8 character in the text. Maybe I don't need to do this?"
   ]
  },
  {
   "cell_type": "code",
   "execution_count": 3,
   "metadata": {},
   "outputs": [
    {
     "data": {
      "text/html": [
       "<div>\n",
       "<style scoped>\n",
       "    .dataframe tbody tr th:only-of-type {\n",
       "        vertical-align: middle;\n",
       "    }\n",
       "\n",
       "    .dataframe tbody tr th {\n",
       "        vertical-align: top;\n",
       "    }\n",
       "\n",
       "    .dataframe thead th {\n",
       "        text-align: right;\n",
       "    }\n",
       "</style>\n",
       "<table border=\"1\" class=\"dataframe\">\n",
       "  <thead>\n",
       "    <tr style=\"text-align: right;\">\n",
       "      <th></th>\n",
       "      <th>title</th>\n",
       "      <th>text</th>\n",
       "      <th>label</th>\n",
       "    </tr>\n",
       "  </thead>\n",
       "  <tbody>\n",
       "    <tr>\n",
       "      <th>0</th>\n",
       "      <td>YOU CAN SMELL HILLARY’S FEAR</td>\n",
       "      <td>DANIEL GREENFIELD, A SHILLMAN JOURNALISM FELLO...</td>\n",
       "      <td>FAKE</td>\n",
       "    </tr>\n",
       "    <tr>\n",
       "      <th>1</th>\n",
       "      <td>WATCH THE EXACT MOMENT PAUL RYAN COMMITTED POL...</td>\n",
       "      <td>GOOGLE PINTEREST DIGG LINKEDIN REDDIT STUMBLEU...</td>\n",
       "      <td>FAKE</td>\n",
       "    </tr>\n",
       "    <tr>\n",
       "      <th>2</th>\n",
       "      <td>KERRY TO GO TO PARIS IN GESTURE OF SYMPATHY</td>\n",
       "      <td>U.S. SECRETARY OF STATE JOHN F. KERRY SAID MON...</td>\n",
       "      <td>REAL</td>\n",
       "    </tr>\n",
       "    <tr>\n",
       "      <th>3</th>\n",
       "      <td>BERNIE SUPPORTERS ON TWITTER ERUPT IN ANGER AG...</td>\n",
       "      <td>— KAYDEE KING (@KAYDEEKING) NOVEMBER 9, 2016 T...</td>\n",
       "      <td>FAKE</td>\n",
       "    </tr>\n",
       "    <tr>\n",
       "      <th>4</th>\n",
       "      <td>THE BATTLE OF NEW YORK: WHY THIS PRIMARY MATTERS</td>\n",
       "      <td>IT'S PRIMARY DAY IN NEW YORK AND FRONT-RUNNERS...</td>\n",
       "      <td>REAL</td>\n",
       "    </tr>\n",
       "  </tbody>\n",
       "</table>\n",
       "</div>"
      ],
      "text/plain": [
       "                                               title  \\\n",
       "0                       YOU CAN SMELL HILLARY’S FEAR   \n",
       "1  WATCH THE EXACT MOMENT PAUL RYAN COMMITTED POL...   \n",
       "2        KERRY TO GO TO PARIS IN GESTURE OF SYMPATHY   \n",
       "3  BERNIE SUPPORTERS ON TWITTER ERUPT IN ANGER AG...   \n",
       "4   THE BATTLE OF NEW YORK: WHY THIS PRIMARY MATTERS   \n",
       "\n",
       "                                                text label  \n",
       "0  DANIEL GREENFIELD, A SHILLMAN JOURNALISM FELLO...  FAKE  \n",
       "1  GOOGLE PINTEREST DIGG LINKEDIN REDDIT STUMBLEU...  FAKE  \n",
       "2  U.S. SECRETARY OF STATE JOHN F. KERRY SAID MON...  REAL  \n",
       "3  — KAYDEE KING (@KAYDEEKING) NOVEMBER 9, 2016 T...  FAKE  \n",
       "4  IT'S PRIMARY DAY IN NEW YORK AND FRONT-RUNNERS...  REAL  "
      ]
     },
     "execution_count": 3,
     "metadata": {},
     "output_type": "execute_result"
    }
   ],
   "source": [
    "# Drop id field as it is not useful\n",
    "news.drop('id', axis = 1, inplace = True)\n",
    "\n",
    "news.head()"
   ]
  },
  {
   "cell_type": "code",
   "execution_count": 4,
   "metadata": {},
   "outputs": [
    {
     "data": {
      "text/plain": [
       "True"
      ]
     },
     "execution_count": 4,
     "metadata": {},
     "output_type": "execute_result"
    }
   ],
   "source": [
    "# Check for any NaNs\n",
    "news.isnull().values.any()"
   ]
  },
  {
   "cell_type": "code",
   "execution_count": 5,
   "metadata": {},
   "outputs": [
    {
     "name": "stdout",
     "output_type": "stream",
     "text": [
      "558\n",
      "127\n",
      "0\n"
     ]
    }
   ],
   "source": [
    "#Checking which columns have NaNs\n",
    "print(news['title'].isnull().sum())\n",
    "print(news['text'].isnull().sum())\n",
    "print(news['label'].isnull().sum())"
   ]
  },
  {
   "cell_type": "code",
   "execution_count": 6,
   "metadata": {},
   "outputs": [
    {
     "name": "stdout",
     "output_type": "stream",
     "text": [
      "False\n"
     ]
    },
    {
     "data": {
      "text/plain": [
       "(26450, 3)"
      ]
     },
     "execution_count": 6,
     "metadata": {},
     "output_type": "execute_result"
    }
   ],
   "source": [
    "# There is no way to fill NaNs in this data set so I will remove all rows with NaNs\n",
    "news = news.dropna()\n",
    "\n",
    "# Check to make sure NaNs were removed\n",
    "print(news.isnull().values.any())\n",
    "\n",
    "# Check new shape of dataframe\n",
    "news.shape"
   ]
  },
  {
   "cell_type": "code",
   "execution_count": 7,
   "metadata": {
    "scrolled": true
   },
   "outputs": [
    {
     "name": "stdout",
     "output_type": "stream",
     "text": [
      "Duplicate titles:  3111\n",
      "Duplicate text:  3072\n"
     ]
    }
   ],
   "source": [
    "# Checking for duplicate articles by title\n",
    "print(\"Duplicate titles: \", news.duplicated(subset = ['title']).sum())\n",
    "# Checking for duplicate articles by text\n",
    "print(\"Duplicate text: \", news.duplicated(subset = ['text']).sum())"
   ]
  },
  {
   "cell_type": "code",
   "execution_count": 8,
   "metadata": {},
   "outputs": [
    {
     "data": {
      "text/plain": [
       "(23339, 3)"
      ]
     },
     "execution_count": 8,
     "metadata": {},
     "output_type": "execute_result"
    }
   ],
   "source": [
    "# Sorting by title\n",
    "news.sort_values(\"title\", inplace = True)\n",
    "\n",
    "# Dropping duplicate titles\n",
    "news.drop_duplicates(subset = \"title\", keep = 'first', inplace = True)\n",
    "\n",
    "news.shape"
   ]
  },
  {
   "cell_type": "code",
   "execution_count": 9,
   "metadata": {},
   "outputs": [
    {
     "data": {
      "text/plain": [
       "(22892, 3)"
      ]
     },
     "execution_count": 9,
     "metadata": {},
     "output_type": "execute_result"
    }
   ],
   "source": [
    "# Sorting by text\n",
    "news.sort_values(\"text\", inplace = True)\n",
    "\n",
    "# Dropping duplicate text\n",
    "news.drop_duplicates(subset = \"text\", keep = 'first', inplace = True)\n",
    "\n",
    "news.shape"
   ]
  },
  {
   "cell_type": "code",
   "execution_count": 10,
   "metadata": {},
   "outputs": [
    {
     "data": {
      "text/plain": [
       "array(['1', 'FAKE', 'REAL', '0'], dtype=object)"
      ]
     },
     "execution_count": 10,
     "metadata": {},
     "output_type": "execute_result"
    }
   ],
   "source": [
    "# Check the values in label field\n",
    "news.label.unique()"
   ]
  },
  {
   "cell_type": "code",
   "execution_count": 11,
   "metadata": {},
   "outputs": [
    {
     "data": {
      "text/plain": [
       "array(['FAKE', 'REAL'], dtype=object)"
      ]
     },
     "execution_count": 11,
     "metadata": {},
     "output_type": "execute_result"
    }
   ],
   "source": [
    "# Replace 0 with REAL\n",
    "news['label'] = news['label'].replace(['0'],'REAL')\n",
    "# Replace 1 with FAKE\n",
    "news['label'] = news['label'].replace(['1'],'FAKE')\n",
    "\n",
    "news.label.unique()"
   ]
  },
  {
   "cell_type": "markdown",
   "metadata": {},
   "source": [
    "## Step 5: Filter Results and Build/Validate Models\n",
    "\n",
    "\n",
    "Perform any additional data carpentry and begin filtering results/data and then build, validate, and describe your model(s). \n",
    "\n",
    "Add more cells (`Insert > Insert Cell Below`) if you want additional cells."
   ]
  },
  {
   "cell_type": "code",
   "execution_count": 12,
   "metadata": {},
   "outputs": [
    {
     "data": {
      "text/html": [
       "<div>\n",
       "<style scoped>\n",
       "    .dataframe tbody tr th:only-of-type {\n",
       "        vertical-align: middle;\n",
       "    }\n",
       "\n",
       "    .dataframe tbody tr th {\n",
       "        vertical-align: top;\n",
       "    }\n",
       "\n",
       "    .dataframe thead th {\n",
       "        text-align: right;\n",
       "    }\n",
       "</style>\n",
       "<table border=\"1\" class=\"dataframe\">\n",
       "  <thead>\n",
       "    <tr style=\"text-align: right;\">\n",
       "      <th></th>\n",
       "      <th>title</th>\n",
       "      <th>text</th>\n",
       "      <th>label</th>\n",
       "    </tr>\n",
       "  </thead>\n",
       "  <tbody>\n",
       "    <tr>\n",
       "      <th>12885</th>\n",
       "      <td>CALIFORNIA TODAY: THE TALE OF THE LAGUNA BEACH...</td>\n",
       "      <td>GOOD MORNING. (WANT TO GET CALIFORNIA TODAY BY...</td>\n",
       "      <td>REAL</td>\n",
       "    </tr>\n",
       "    <tr>\n",
       "      <th>17922</th>\n",
       "      <td>COURT IN EGYPT OVERTURNS MOHAMED MORSI’S DEATH...</td>\n",
       "      <td>CAIRO  —   ONE OF EGYPT’S HIGHEST COURTS OVERT...</td>\n",
       "      <td>REAL</td>\n",
       "    </tr>\n",
       "    <tr>\n",
       "      <th>1248</th>\n",
       "      <td>PROJECT VERITAS: SCOTT FOVAL REVEALS WHO WAS R...</td>\n",
       "      <td>PROJECT VERITAS: SCOTT FOVAL REVEALS WHO WAS R...</td>\n",
       "      <td>FAKE</td>\n",
       "    </tr>\n",
       "    <tr>\n",
       "      <th>22916</th>\n",
       "      <td>MEXICAN WOMAN ‘POSSESSED’ BY DEMON WHILE EATIN...</td>\n",
       "      <td>A VIDEO FROM MEXICO ALLEGES TO SHOW THE MOMENT...</td>\n",
       "      <td>FAKE</td>\n",
       "    </tr>\n",
       "    <tr>\n",
       "      <th>24222</th>\n",
       "      <td>WITH ONE CASTRO GONE, QUESTIONS ABOUT WHAT THE...</td>\n",
       "      <td>MEXICO CITY  —   FOR HALF A CENTURY, AS FIDEL ...</td>\n",
       "      <td>REAL</td>\n",
       "    </tr>\n",
       "    <tr>\n",
       "      <th>...</th>\n",
       "      <td>...</td>\n",
       "      <td>...</td>\n",
       "      <td>...</td>\n",
       "    </tr>\n",
       "    <tr>\n",
       "      <th>1080</th>\n",
       "      <td>THE OVERWHELMING STRESS OF BEING DENIED A BATH...</td>\n",
       "      <td>A RECENT VIRAL VIDEO SHOWED A WOMAN WIELDING A...</td>\n",
       "      <td>REAL</td>\n",
       "    </tr>\n",
       "    <tr>\n",
       "      <th>7785</th>\n",
       "      <td>MENENDEZ: ’NOT SURE’ WHAT MESSAGE IS SENT COMM...</td>\n",
       "      <td>ON TUESDAY’S BROADCAST OF CNN’S “SITUATION ROO...</td>\n",
       "      <td>REAL</td>\n",
       "    </tr>\n",
       "    <tr>\n",
       "      <th>14371</th>\n",
       "      <td>ASPARTAME CORPORATION SEARLE CREATED FIRST BIR...</td>\n",
       "      <td>ASPARTAME CORPORATION SEARLE CREATED FIRST BIR...</td>\n",
       "      <td>FAKE</td>\n",
       "    </tr>\n",
       "    <tr>\n",
       "      <th>6123</th>\n",
       "      <td>WILL INTEREST RATES GO UP? FIVE THINGS TO EXPECT</td>\n",
       "      <td>THE FEDERAL RESERVE IS LIKELY TO RAISE THE FED...</td>\n",
       "      <td>REAL</td>\n",
       "    </tr>\n",
       "    <tr>\n",
       "      <th>26500</th>\n",
       "      <td>SINISTER SIBLINGS FROM ‘THE GREAT COMET’ GO TO...</td>\n",
       "      <td>IN “NATASHA, PIERRE  THE GREAT COMET OF 1812,”...</td>\n",
       "      <td>REAL</td>\n",
       "    </tr>\n",
       "  </tbody>\n",
       "</table>\n",
       "<p>16024 rows × 3 columns</p>\n",
       "</div>"
      ],
      "text/plain": [
       "                                                   title  \\\n",
       "12885  CALIFORNIA TODAY: THE TALE OF THE LAGUNA BEACH...   \n",
       "17922  COURT IN EGYPT OVERTURNS MOHAMED MORSI’S DEATH...   \n",
       "1248   PROJECT VERITAS: SCOTT FOVAL REVEALS WHO WAS R...   \n",
       "22916  MEXICAN WOMAN ‘POSSESSED’ BY DEMON WHILE EATIN...   \n",
       "24222  WITH ONE CASTRO GONE, QUESTIONS ABOUT WHAT THE...   \n",
       "...                                                  ...   \n",
       "1080   THE OVERWHELMING STRESS OF BEING DENIED A BATH...   \n",
       "7785   MENENDEZ: ’NOT SURE’ WHAT MESSAGE IS SENT COMM...   \n",
       "14371  ASPARTAME CORPORATION SEARLE CREATED FIRST BIR...   \n",
       "6123    WILL INTEREST RATES GO UP? FIVE THINGS TO EXPECT   \n",
       "26500  SINISTER SIBLINGS FROM ‘THE GREAT COMET’ GO TO...   \n",
       "\n",
       "                                                    text label  \n",
       "12885  GOOD MORNING. (WANT TO GET CALIFORNIA TODAY BY...  REAL  \n",
       "17922  CAIRO  —   ONE OF EGYPT’S HIGHEST COURTS OVERT...  REAL  \n",
       "1248   PROJECT VERITAS: SCOTT FOVAL REVEALS WHO WAS R...  FAKE  \n",
       "22916  A VIDEO FROM MEXICO ALLEGES TO SHOW THE MOMENT...  FAKE  \n",
       "24222  MEXICO CITY  —   FOR HALF A CENTURY, AS FIDEL ...  REAL  \n",
       "...                                                  ...   ...  \n",
       "1080   A RECENT VIRAL VIDEO SHOWED A WOMAN WIELDING A...  REAL  \n",
       "7785   ON TUESDAY’S BROADCAST OF CNN’S “SITUATION ROO...  REAL  \n",
       "14371  ASPARTAME CORPORATION SEARLE CREATED FIRST BIR...  FAKE  \n",
       "6123   THE FEDERAL RESERVE IS LIKELY TO RAISE THE FED...  REAL  \n",
       "26500  IN “NATASHA, PIERRE  THE GREAT COMET OF 1812,”...  REAL  \n",
       "\n",
       "[16024 rows x 3 columns]"
      ]
     },
     "metadata": {},
     "output_type": "display_data"
    },
    {
     "data": {
      "text/html": [
       "<div>\n",
       "<style scoped>\n",
       "    .dataframe tbody tr th:only-of-type {\n",
       "        vertical-align: middle;\n",
       "    }\n",
       "\n",
       "    .dataframe tbody tr th {\n",
       "        vertical-align: top;\n",
       "    }\n",
       "\n",
       "    .dataframe thead th {\n",
       "        text-align: right;\n",
       "    }\n",
       "</style>\n",
       "<table border=\"1\" class=\"dataframe\">\n",
       "  <thead>\n",
       "    <tr style=\"text-align: right;\">\n",
       "      <th></th>\n",
       "      <th>title</th>\n",
       "      <th>text</th>\n",
       "      <th>label</th>\n",
       "    </tr>\n",
       "  </thead>\n",
       "  <tbody>\n",
       "    <tr>\n",
       "      <th>26472</th>\n",
       "      <td>OATHKEEPERS TO PREVENT VOTER FRAUD- OPERATION ...</td>\n",
       "      <td>\\n\\nI RECENTLY INTERVIEWED OATHKEEPERS STEWART...</td>\n",
       "      <td>FAKE</td>\n",
       "    </tr>\n",
       "    <tr>\n",
       "      <th>5483</th>\n",
       "      <td>PROJECT VERITAS VIDEO 4 - 20K BRIBERY TO DNC, ...</td>\n",
       "      <td>\\n\\nIN THE EFFORT TO PROVE THE CREDIBILITY OF ...</td>\n",
       "      <td>FAKE</td>\n",
       "    </tr>\n",
       "    <tr>\n",
       "      <th>12785</th>\n",
       "      <td>HOW TO BREAK THE CYCLE OF HUMAN COMPLACENCY AN...</td>\n",
       "      <td>\\n\\nNEW VIDEO: HOW TO BREAK THE CYCLE OF HUMAN...</td>\n",
       "      <td>FAKE</td>\n",
       "    </tr>\n",
       "    <tr>\n",
       "      <th>10427</th>\n",
       "      <td>ABEDIN &amp; WEINER TO TESTIFY AGAINST CLINTON</td>\n",
       "      <td>\\n \\n\\nHUMA ABEDIN, HILLARY’S CLINTON’S TOP AI...</td>\n",
       "      <td>FAKE</td>\n",
       "    </tr>\n",
       "    <tr>\n",
       "      <th>20733</th>\n",
       "      <td>MEXICO’S RICHEST OLIGARCH LOSES BILLIONS ON NE...</td>\n",
       "      <td>\\n21ST CENTURY WIRE SAYS… \\nMEXICO’S BILLIONAI...</td>\n",
       "      <td>FAKE</td>\n",
       "    </tr>\n",
       "    <tr>\n",
       "      <th>...</th>\n",
       "      <td>...</td>\n",
       "      <td>...</td>\n",
       "      <td>...</td>\n",
       "    </tr>\n",
       "    <tr>\n",
       "      <th>14558</th>\n",
       "      <td>TRUMP SAYS NORDSTROM TREATED HIS DAUGHTER ‘SO ...</td>\n",
       "      <td>■ A VOTE ON JEFF SESSIONS’S NOMINATION AS ATTO...</td>\n",
       "      <td>REAL</td>\n",
       "    </tr>\n",
       "    <tr>\n",
       "      <th>21407</th>\n",
       "      <td>N.F.L.: HERE’S WHAT WE LEARNED IN WEEK 2 - THE...</td>\n",
       "      <td>■ OPTIMISM IS EASY TO COME BY IN THE OFFSEASON...</td>\n",
       "      <td>REAL</td>\n",
       "    </tr>\n",
       "    <tr>\n",
       "      <th>11543</th>\n",
       "      <td>TRUMP RESPONDS TO LOUVRE ATTACK IN PARIS, URGI...</td>\n",
       "      <td>■ PRESIDENT TRUMP RESPONDED TO THE FAILED ATTA...</td>\n",
       "      <td>REAL</td>\n",
       "    </tr>\n",
       "    <tr>\n",
       "      <th>24685</th>\n",
       "      <td>MAR-A-LAGO DOUBLES ITS INITIATION FEE AS MEMBE...</td>\n",
       "      <td>■ THE    RESORT DOUBLES ITS INITIATION FEE  — ...</td>\n",
       "      <td>REAL</td>\n",
       "    </tr>\n",
       "    <tr>\n",
       "      <th>18176</th>\n",
       "      <td>PRESS SECRETARY AFFIRMS THAT TRUMP BELIEVES LI...</td>\n",
       "      <td>■ WHITE HOUSE PRESS SECRETARY SEAN SPICER STOO...</td>\n",
       "      <td>REAL</td>\n",
       "    </tr>\n",
       "  </tbody>\n",
       "</table>\n",
       "<p>6868 rows × 3 columns</p>\n",
       "</div>"
      ],
      "text/plain": [
       "                                                   title  \\\n",
       "26472  OATHKEEPERS TO PREVENT VOTER FRAUD- OPERATION ...   \n",
       "5483   PROJECT VERITAS VIDEO 4 - 20K BRIBERY TO DNC, ...   \n",
       "12785  HOW TO BREAK THE CYCLE OF HUMAN COMPLACENCY AN...   \n",
       "10427         ABEDIN & WEINER TO TESTIFY AGAINST CLINTON   \n",
       "20733  MEXICO’S RICHEST OLIGARCH LOSES BILLIONS ON NE...   \n",
       "...                                                  ...   \n",
       "14558  TRUMP SAYS NORDSTROM TREATED HIS DAUGHTER ‘SO ...   \n",
       "21407  N.F.L.: HERE’S WHAT WE LEARNED IN WEEK 2 - THE...   \n",
       "11543  TRUMP RESPONDS TO LOUVRE ATTACK IN PARIS, URGI...   \n",
       "24685  MAR-A-LAGO DOUBLES ITS INITIATION FEE AS MEMBE...   \n",
       "18176  PRESS SECRETARY AFFIRMS THAT TRUMP BELIEVES LI...   \n",
       "\n",
       "                                                    text label  \n",
       "26472  \\n\\nI RECENTLY INTERVIEWED OATHKEEPERS STEWART...  FAKE  \n",
       "5483   \\n\\nIN THE EFFORT TO PROVE THE CREDIBILITY OF ...  FAKE  \n",
       "12785  \\n\\nNEW VIDEO: HOW TO BREAK THE CYCLE OF HUMAN...  FAKE  \n",
       "10427  \\n \\n\\nHUMA ABEDIN, HILLARY’S CLINTON’S TOP AI...  FAKE  \n",
       "20733  \\n21ST CENTURY WIRE SAYS… \\nMEXICO’S BILLIONAI...  FAKE  \n",
       "...                                                  ...   ...  \n",
       "14558  ■ A VOTE ON JEFF SESSIONS’S NOMINATION AS ATTO...  REAL  \n",
       "21407  ■ OPTIMISM IS EASY TO COME BY IN THE OFFSEASON...  REAL  \n",
       "11543  ■ PRESIDENT TRUMP RESPONDED TO THE FAILED ATTA...  REAL  \n",
       "24685  ■ THE    RESORT DOUBLES ITS INITIATION FEE  — ...  REAL  \n",
       "18176  ■ WHITE HOUSE PRESS SECRETARY SEAN SPICER STOO...  REAL  \n",
       "\n",
       "[6868 rows x 3 columns]"
      ]
     },
     "metadata": {},
     "output_type": "display_data"
    }
   ],
   "source": [
    "# Create the training testing data sets\n",
    "train = news.sample(frac = 0.7)\n",
    "test = news.drop(train.index)\n",
    "\n",
    "display(train)\n",
    "display(test)"
   ]
  },
  {
   "cell_type": "code",
   "execution_count": 13,
   "metadata": {},
   "outputs": [],
   "source": [
    "# Create training and testing numpy arrays for both the input variables and the target variables\n",
    "train_X = np.asarray(train.drop('label', axis = 1))\n",
    "train_y = np.asarray(train.label)\n",
    "\n",
    "test_X = np.asarray(test.drop('label', axis = 1))\n",
    "test_y = np.asarray(test.label)"
   ]
  },
  {
   "cell_type": "code",
   "execution_count": null,
   "metadata": {},
   "outputs": [],
   "source": []
  },
  {
   "cell_type": "code",
   "execution_count": null,
   "metadata": {},
   "outputs": [],
   "source": []
  },
  {
   "cell_type": "code",
   "execution_count": null,
   "metadata": {},
   "outputs": [],
   "source": []
  },
  {
   "cell_type": "code",
   "execution_count": null,
   "metadata": {},
   "outputs": [],
   "source": []
  },
  {
   "cell_type": "markdown",
   "metadata": {},
   "source": [
    "## Step 6: Visualize Results\n",
    "\n",
    "Build up your key visual story elements!\n",
    "\n",
    "Add more cells (`Insert > Insert Cell Below`) if you want additional cells."
   ]
  },
  {
   "cell_type": "code",
   "execution_count": null,
   "metadata": {},
   "outputs": [],
   "source": [
    "\n",
    "\n",
    "\n"
   ]
  },
  {
   "cell_type": "code",
   "execution_count": null,
   "metadata": {},
   "outputs": [],
   "source": []
  },
  {
   "cell_type": "markdown",
   "metadata": {},
   "source": [
    "## Step 7: Communicate the Story to your intended audience using visualizations and narrative\n",
    "\n",
    "\n",
    "In a few paragraphs, describe the story the data tells. \n",
    "\n",
    "Additionally, post your most compelling visual and provide a brief description of what it conveys on to our mutual aid channel (the slack course channel). \n",
    "\n",
    "Feel free to post more examples for people to look at and provide feedback. Your classmates will be vital providers of feedback in this process. Utilize them."
   ]
  },
  {
   "cell_type": "raw",
   "metadata": {
    "collapsed": true
   },
   "source": [
    "\n",
    "\n",
    "\n",
    "\n",
    "\n",
    "\n",
    "\n",
    "\n",
    "\n",
    "\n",
    "\n"
   ]
  },
  {
   "cell_type": "markdown",
   "metadata": {},
   "source": [
    "# Final Step: Connect your workflow/process to the DSA-Project Life Cycle\n",
    "- List and briefly discuss how important details from each stage of the [DSA-PLC](../../module1/resources/DSA-ProjectLifecycle-slidedeck.pdf) played a role in your story development.\n",
    "- Use markdown to provide this overview below:\n",
    "<hr/>\n",
    "\n",
    "<h1 align=\"center\"><u>DSA-Project Life Cycle Discussion</u></h1>\n",
    "\n"
   ]
  },
  {
   "cell_type": "markdown",
   "metadata": {},
   "source": [
    "# Save your notebook, then `File > Close and Halt`"
   ]
  }
 ],
 "metadata": {
  "kernelspec": {
   "display_name": "Python 3",
   "language": "python",
   "name": "python3"
  },
  "language_info": {
   "codemirror_mode": {
    "name": "ipython",
    "version": 3
   },
   "file_extension": ".py",
   "mimetype": "text/x-python",
   "name": "python",
   "nbconvert_exporter": "python",
   "pygments_lexer": "ipython3",
   "version": "3.7.3"
  }
 },
 "nbformat": 4,
 "nbformat_minor": 2
}
