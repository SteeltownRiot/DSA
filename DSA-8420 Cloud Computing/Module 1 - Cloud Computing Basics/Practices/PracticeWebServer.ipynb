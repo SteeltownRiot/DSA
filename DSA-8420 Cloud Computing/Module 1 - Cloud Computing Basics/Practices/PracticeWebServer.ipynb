{
 "cells": [
  {
   "cell_type": "markdown",
   "metadata": {},
   "source": [
    "<span style=\"color:#4286f4; font-size:24px; font-weight:700\"> Launching a web server in EC2 instance</span>\n",
    "\n",
    "\n",
    "This lab will walk you through steps to launch an amazon EC2 instance, then installing and launching a webserver!\n",
    "\n",
    "Steps Overview:\n",
    " 1. Once the instance is up and running, take the public DNS address of the instance to SSH into it. \n",
    " 1. You will be able to install any additional software you need on the instance. \n",
    " 1. Install PHP and mysql softwares using terminal commands. \n",
    " 1. We will upload a static webpage to the instance and display a simple message in the browser. "
   ]
  },
  {
   "cell_type": "markdown",
   "metadata": {},
   "source": [
    "<span style=\"color:#08cc28; font-size:20px; font-weight:700\">Launching an AWS EC2 instance</span>\n",
    "\n",
    "We will follow the same steps in [AWS documentation](http://docs.aws.amazon.com/AWSEC2/latest/UserGuide/EC2_GetStarted.html) to launch an AWS instance.\n",
    "\n",
    "<img src=\"../images/Launch_server/aws_instance.PNG\">"
   ]
  },
  {
   "cell_type": "markdown",
   "metadata": {},
   "source": [
    "Above figure shows the instance architecture we will be creating. A virtual instance will be launched in a new volume. The instance is an Amazon EBS-backed instance (meaning that the root volume is an EBS volume). The reserved resources should be securely accessed over the Internet by specifying a key pair and security group. You must specify the private key of the key pair that you specified when launching your instance. All the infrastructure related to the instance chosen will be created in a selected zone or the zone selected by AWS if none selected."
   ]
  },
  {
   "cell_type": "markdown",
   "metadata": {},
   "source": [
    "Click ‘Console Home’(the cube on top left corner) and select a geographic region in the top-right part of the screen preferably one closer to you (by default the closest data center is chosen, for missouri its \"US East (N. Virginia)\" region). Select AWS EC2 service (Elastic Compute Cloud).\n",
    "\n",
    "\n",
    "<img src=\"../images/Launch_server/select_ec2.PNG\">"
   ]
  },
  {
   "cell_type": "markdown",
   "metadata": {},
   "source": [
    "#### In the menu on left select “Key Pairs”."
   ]
  },
  {
   "cell_type": "markdown",
   "metadata": {},
   "source": [
    "<img src=\"../images/keypairs.PNG\" align=\"left\">"
   ]
  },
  {
   "cell_type": "markdown",
   "metadata": {},
   "source": [
    "Create a KeyPair called ‘Key-ec2-pawprint’ (replacing pawprint with your actual Mizzou pawprint).  Choose the .pem format.  A private key is downloaded in a file(with .pem extension) as soon as you create a keypair. Store this file in a safe location or leave it in the downloads folder. We will upload this key into JupyterHub little later. \n",
    "\n",
    "<img src=\"../images/Launch_server/create_keypair.PNG\">"
   ]
  },
  {
   "cell_type": "markdown",
   "metadata": {},
   "source": [
    "Select “Security Groups” from the left menu, name a Security Group anything you want for example ‘Cloud_Rasha_Sec’, add description and SSH, HTTP, and TCP rules with the options selected in source field. Note these settings are for testing purpose only.\n",
    "\n",
    "<img src=\"../images/Launch_server/security_group.PNG\">"
   ]
  },
  {
   "cell_type": "markdown",
   "metadata": {},
   "source": [
    "<span style=\"color:#08cc28; font-size:20px; font-weight:700\"> Launch your Instance</span>\n",
    "\n",
    "\n",
    "In left menu, click on instances to launch a new instance. Click on ‘Launch Instance’ button and select the second Image available in the list of 'Amazon Linux 2 AMI'\n",
    "\n",
    "\n",
    "<img src=\"../images/Launch_server/aws_ami.PNG\">\n",
    "\n",
    "-----"
   ]
  },
  {
   "cell_type": "markdown",
   "metadata": {},
   "source": [
    "* Select the t2.micro instance which is free as part of free tier usage.\n",
    "\n",
    "<img src=\"../images/Launch_server/t2micro.PNG\">\n",
    "\n",
    "\n",
    "-----"
   ]
  },
  {
   "cell_type": "markdown",
   "metadata": {},
   "source": [
    "* Click on the button labelled \"next: configure instance details\". \n",
    "\n",
    "* Keep default values in \"Step 3: Configure Instance Details\" page and continue until step 5 where you will see ‘Add Tags’ window. Click on add tag button.\n",
    "\n",
    "\n",
    "\n",
    "\n",
    "----\n",
    "\n",
    "* Add ‘Key’ and ‘Value’ as shown in figure below and click on ‘Next: Configure Security Group’.\n",
    "\n",
    "\n",
    "<img src=\"../images/Launch_server/add_tags.PNG\">\n",
    "\n",
    "----"
   ]
  },
  {
   "cell_type": "markdown",
   "metadata": {},
   "source": [
    "#### Select the security group you created and click on ‘Review and Launch’.  Click on launch in next page.\n",
    "<img src=\"../images/Launch_server/select_security_group.PNG\">"
   ]
  },
  {
   "cell_type": "markdown",
   "metadata": {},
   "source": [
    "#### Select the Key pair"
   ]
  },
  {
   "cell_type": "markdown",
   "metadata": {},
   "source": [
    "<img src=\"../images/Launch_server/select_keypair.PNG\">\n",
    "\n",
    "-----\n",
    "\n",
    "\n",
    "* The instance will be ready in a minute or two. Click on instances in the menu on left to view your instances.\n",
    "\n",
    "<!-- img src=\"../images/Launch_server/instance_details.PNG\" -->\n",
    "\n",
    "![instance_details.PNG MISSING](../images/instance_details.PNG)\n"
   ]
  },
  {
   "cell_type": "markdown",
   "metadata": {},
   "source": [
    "<span style=\"color:#08cc28; font-size:20px; font-weight:700\"> Add a Bill Alarm</span>\n",
    "\n",
    "\n",
    "### Note:\n",
    "##### <snap style=\"background:style\">You wont be able to set up billings alarms on your account as you dont have root access. So below cells are just for reference.</span>\n",
    "\n",
    "* Click on 'My Account' located in drop down menu on clikcing your name in top right corner of screen.\n",
    "\n",
    "\n",
    "<img src=\"../images/Launch_server/myaccount.PNG\">"
   ]
  },
  {
   "cell_type": "markdown",
   "metadata": {},
   "source": [
    "In 'Account Settings' look for 'IAM User Access to Billing inform'. Click on edit, then 'Activate IAM Access' and click on update button.\n",
    "\n",
    "<img src=\"../images/Launch_server/IAM_user.PNG\">"
   ]
  },
  {
   "cell_type": "markdown",
   "metadata": {},
   "source": [
    "Select ‘CloudWatch’ service and make sure that you select right region. In our case 'N.Virginia' zone should be selected. "
   ]
  },
  {
   "cell_type": "markdown",
   "metadata": {},
   "source": [
    "<img src=\"../images/Launch_server/cloudwatch.PNG\">\n",
    "\n",
    "\n",
    "\n",
    "-----\n",
    "\n",
    "\n",
    "On the panel in the left side of the screen, click on 'Billing Alarms'. \n",
    "\n",
    "<img src=\"../images/Launch_server/billing_alarm.PNG\">"
   ]
  },
  {
   "cell_type": "markdown",
   "metadata": {},
   "source": [
    "Click on 'Create Alarm', input $10 in exceed field and select your e-mail address or enter a new email to recieve notifications.\n",
    "\n",
    "-----\n",
    "\n",
    "<img src=\"../images/Launch_server/alarm_limit.PNG\">"
   ]
  },
  {
   "cell_type": "markdown",
   "metadata": {},
   "source": [
    "You can see an alarm is created for your instance.\n",
    "\n",
    "<img src=\"../images/Launch_server/alarm_created.PNG\">"
   ]
  },
  {
   "cell_type": "markdown",
   "metadata": {},
   "source": [
    "\n",
    "## <span style=\"background:yellow\">Back to the Lab Activities</span>\n",
    "<br>\n",
    "<span style=\"color:#08cc28; font-size:18px; font-weight:700\"> Upload the keypair(private key) to Jupyter</span>\n",
    "\n",
    "\n",
    "[click here](.), use the upload button as shown in image below to upload the private key file which was downloaded to your machine earlier. \n",
    "\n",
    "<img src=\"../images/upload.PNG\">"
   ]
  },
  {
   "cell_type": "markdown",
   "metadata": {},
   "source": [
    "\n",
    "<span style=\"color:#08cc28; font-size:20px; font-weight:700\"> SSH into the instance through Jupyter terminal</span>\n",
    "\n",
    "\n",
    "Now that the instance is up and running, use the terminal to SSH into the it and install PHP and Mysql. Get the public dns address of the instance from AWS console as shown in the image below.\n",
    "\n",
    "<br>\n",
    "<img src=\"../images/Launch_server/public_dns.PNG\">\n",
    "\n",
    "\n",
    "<br>\n",
    "<span style=\"color:red; font-weight:700; font-size:20px\">Note:</span>\n",
    "<hr size=\"6\" width=\"100%\" noshade style=\"border-color:#FF0000\" align=\"left\">\n",
    "\n",
    "\n",
    "<span style=\"color:#e51b33; font-size:14px; font-weight:700\">Replace the public DNS address accordingly with your EC2 instance address in below SSH command.</span>\n",
    "\n",
    "**Carefully** run all the commands in following sequence as shown in image below. \n",
    "\n",
    "  * Step 1, change into the course folder\n",
    "  \n",
    "    \n",
    "  * Steps 2 - 9  \n",
    "    * **Note:** _c2-54-213-80-49.us-west-2.compute.amazonaws.com_ should be changed to the address of your machine!\n",
    "  \n",
    "```bash\n",
    "\n",
    "chmod 400 module1/practices/Key-ec2.pem\n",
    "\n",
    "ssh -i module1/practices/Key-ec2.pem ec2-user@ec2-54-213-80-49.us-west-2.compute.amazonaws.com\n",
    "\n",
    "sudo su\n",
    "\n",
    "yum update –y\n",
    "\n",
    "amazon-linux-extras install -y lamp-mariadb10.2-php7.2 php7.2\n",
    "\n",
    "yum install -y httpd mariadb-server\n",
    "\n",
    "yum install lynx\n",
    "\n",
    "systemctl start httpd\n",
    "\n",
    "systemctl enable httpd\n",
    "\n",
    "systemctl is-enabled httpd\n",
    "\n",
    "sudo chown -R ec2-user /var/www/html/\n",
    "\n",
    "```"
   ]
  },
  {
   "cell_type": "markdown",
   "metadata": {},
   "source": [
    "<span style=\"color:#08cc28; font-size:14px; font-weight:700\">What have you done?</span>\n",
    " 1. Set your PEM (key file) to only be readable by you.\n",
    " 1. Connected to the remote machine in the Cloud\n",
    " 1. Become _all powerful, ~~destroyer~~ builder of systems_\n",
    " 1. Checked for Updates\n",
    " 1. Installed a package set: httpd24 php56 php56-mysqlnd\n",
    "   * This includes a web server\n",
    " 1. Install the w3m package\n",
    " 1. Start the web server running\n",
    " 1. Change Ownership of the Web Server's document folder.\n",
    "---\n",
    "\n",
    "![images/Launch_server/httpd_service_started.PNG MISSING](../images/Launch_server/httpd_service_started.PNG)\n",
    "\n",
    "<h4 style=\"color:red\"> Note: Dont close this terminal window. We will run a command in a while to collect text in the webpage </h4>\n"
   ]
  },
  {
   "cell_type": "markdown",
   "metadata": {},
   "source": [
    "Check if the web server is properly installed. Copy and paste the public DNS name of EC2 instance in a browser. \n",
    "\n",
    "For example, http://ec2-54-213-80-49.us-west-2.compute.amazonaws.com\n",
    "\n",
    "\n",
    "-----\n",
    "\n",
    "\n",
    "![../images/Launch_server/apache_server_test.PNG MISSING](../images/Launch_server/apache_server_test.PNG)"
   ]
  },
  {
   "cell_type": "markdown",
   "metadata": {},
   "source": [
    "The Apache test page appears only when there is no content in the document root directory, \n",
    "`/var/www/html`. When we add content in that location, \n",
    "new content will appear at the public DNS address of the EC2 instance instead of the Apache test page."
   ]
  },
  {
   "cell_type": "markdown",
   "metadata": {},
   "source": [
    "Below command will configure the web server to start with when ever the system boots,\n",
    "instead of starting the http service. \n",
    "You can do that using the chkconfig command:"
   ]
  },
  {
   "cell_type": "markdown",
   "metadata": {},
   "source": [
    "```Bash\n",
    "sudo chkconfig httpd on\n",
    "```"
   ]
  },
  {
   "cell_type": "markdown",
   "metadata": {},
   "source": [
    "<span style=\"color:#08cc28; font-size:20px; font-weight:700\"> Upload the web page Index.php</span>\n",
    "\n",
    "\n",
    "Upload the html file, \"index.php\" present in your current working directory into the default web directory `/var/www/html/` of EC2 instance. \n",
    "Below scp (secure copy) command will do that for us.\n",
    "\n",
    "* Here are some of the common usecases of [scp commands](http://www.hypexr.org/linux_scp_help.php)\n",
    "* Read more about SCP [here](https://docs.oracle.com/cd/E26502_01/html/E29001/remotehowtoaccess-55154.html)"
   ]
  },
  {
   "cell_type": "markdown",
   "metadata": {},
   "source": [
    "## <span style=\"color:red\">Note: </span>\n",
    "<hr size=\"6\" width=\"100%\" noshade style=\"border-color:#FF0000\" align=\"left\">\n",
    "\n",
    "\n",
    "<span style=\"color:#e51b33; font-size:14px; font-weight:700\">Replace the public DNS address accordingly with your EC2 instance address in below SCP command.</span>\n"
   ]
  },
  {
   "cell_type": "markdown",
   "metadata": {},
   "source": [
    "##### Upload Index.php"
   ]
  },
  {
   "cell_type": "code",
   "execution_count": null,
   "metadata": {},
   "outputs": [],
   "source": [
    "import os\n",
    "\n",
    "myDNSaddr = 'ec2-user@ec2-52-90-178-135.compute-1.amazonaws.com'\n",
    "\n",
    "deployString = \"scp -o StrictHostKeyChecking=no -i \"+os.getcwd() + \"/Key-ec2.pem \"+os.getcwd() +\"/index.php \"+myDNSaddr + \":/var/www/html/\"\n",
    "\n",
    "#os.system(\"scp -o StrictHostKeyChecking=no -i \"+\n",
    "#          os.getcwd() + \"/Key-ec2.pem \"+\n",
    "#          os.getcwd() +\"/index.php \"+\n",
    "#          myDNSaddr + \":/var/www/html/\")\n",
    "\n",
    "print(deployString)\n",
    "os.system(deployString)\n"
   ]
  },
  {
   "cell_type": "markdown",
   "metadata": {},
   "source": [
    "<span style=\"color:#08cc28; font-size:18px; font-weight:700\">  Say Hello world</span>\n",
    "\n",
    "\n",
    "Check if the uploaded **index.php** page is properly displaying on the server. \n",
    "Copy and paste the public DNS name of EC2 instance in a browser. \n",
    "\n",
    "Example: \n",
    "  * http://ec2-54-213-80-49.us-west-2.compute.amazonaws.com"
   ]
  },
  {
   "cell_type": "markdown",
   "metadata": {},
   "source": [
    "Run below command in the terminal. Make sure to update the public DNS address as shown in the image\n",
    "\n",
    "Again, replace the `ec2-54-213-80-49.us-west-2.compute.amazonaws.com` with your server.\n",
    "\n",
    "    lynx -dump http://ec2-54-213-80-49.us-west-2.compute.amazonaws.com/ > downloaded_file.txt\n"
   ]
  },
  {
   "cell_type": "markdown",
   "metadata": {},
   "source": [
    "<span style=\"color:#08cc28; font-size:18px; font-weight:700\">  Download webpage text</span>\n",
    "\n",
    "Run below cell to download the text present on the webpage. The text is written to file named downloaded_file.txt on EC2 instance. Below SCP command will download the same file into results folder in current directory. "
   ]
  },
  {
   "cell_type": "code",
   "execution_count": null,
   "metadata": {},
   "outputs": [],
   "source": [
    "import os\n",
    "\n",
    "myDNSaddr = 'ec2-user@ec2-52-90-178-135.compute-1.amazonaws.com'\n",
    "\n",
    "os.system(\"scp -o StrictHostKeyChecking=no -r -i \"+\n",
    "          os.getcwd()+\n",
    "          \"/Key-ec2.pem \"+\n",
    "          myDNSaddr + \":/home/ec2-user/ \"+\n",
    "          os.getcwd()+\n",
    "          \"/results/\")"
   ]
  },
  {
   "cell_type": "markdown",
   "metadata": {},
   "source": [
    "**<span style=\"background:yellow\">You should turn off instances after each session</span>** to make sure \n",
    "we save free credits and use resources optimally. \n",
    "That is the whole point of Cloud computing! \n",
    "  * Use resources when they are needed and turn them off when done.\n",
    "\n",
    "\n",
    "<span style=\"color:#08cc28; font-size:18px; font-weight:700\">  Stop an instance</span>\n",
    "\n",
    "In AWS EC2 service, click on 'Instances'. \n",
    "Select the running instance and then click on 'Actions' on the top or right click on instance. Either way, in the menu select 'instance state' and then select 'terminate' to delete the instance. \n",
    "\n",
    "\n",
    "![../images/Launch_server/instance_stop.PNG MISSING](../images/Launch_server/instance_stop.PNG)"
   ]
  },
  {
   "cell_type": "markdown",
   "metadata": {},
   "source": [
    "<span style=\"color:#e51b33; font-size:20px; font-weight:700\">  Be sure to using Git to add the lab1/results folder and commit and push this week.</span>"
   ]
  }
 ],
 "metadata": {
  "kernelspec": {
   "display_name": "Python 3",
   "language": "python",
   "name": "python3"
  },
  "language_info": {
   "codemirror_mode": {
    "name": "ipython",
    "version": 3
   },
   "file_extension": ".py",
   "mimetype": "text/x-python",
   "name": "python",
   "nbconvert_exporter": "python",
   "pygments_lexer": "ipython3",
   "version": "3.7.3"
  }
 },
 "nbformat": 4,
 "nbformat_minor": 2
}
