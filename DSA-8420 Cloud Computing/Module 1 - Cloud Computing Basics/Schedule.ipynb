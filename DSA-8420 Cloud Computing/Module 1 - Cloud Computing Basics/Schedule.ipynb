{
 "cells": [
  {
   "cell_type": "markdown",
   "metadata": {},
   "source": [
    "# Module 1 - Cloud Computing Basics and Concepts\n",
    "\n",
    "\n",
    "There is a lot of reading material you can go through to get your heads around cloud computing concepts and get familiar with the terminology used in this area.\n"
   ]
  },
  {
   "cell_type": "markdown",
   "metadata": {},
   "source": [
    "## Module Topics\n",
    "\n",
    "* Intro to Cloud Computing\n",
    "* Cloud Computing Service Models\n",
    "* Storage and Network\n",
    "* Cloud_Keywords\n",
    "* Big Data\n",
    "* Economics of cloud computing"
   ]
  },
  {
   "cell_type": "markdown",
   "metadata": {},
   "source": [
    "## Readings\n",
    "\n",
    "  * [Intro to Cloud Computing](resources/Intro_to_Cloud_Computing.ipynb)\n",
    "  * [Cloud Computing Service Models](resources/Cloud_Computing_Service_Models.ipynb)\n",
    "  * [Cloud Storage](resources/Cloud_Storage.ipynb)\n",
    "  * [Cloud Keywords](resources/Cloud_Keywords.ipynb)\n",
    "  * [Economics of Cloud Computing](resources/Economics_of_Cloud_Computing.ipynb)\n"
   ]
  },
  {
   "cell_type": "markdown",
   "metadata": {},
   "source": [
    "## Labs\n",
    "\n",
    "**<span style=\"background:yellow\">NOTE: Some of the AWS Introduction labs will time out after an hour.</span>** \n",
    "If this happens you will need to start over on the lab.\n",
    "If you get caught by it, think of it as more practice.\n",
    "\n",
    "  * [AWS Account Setup](labs/Setup_AWS_Account.ipynb)\n",
    "  * [Create your first EC2 Instance](labs/AWS_EC2_FirstLaunch.ipynb)\n"
   ]
  },
  {
   "cell_type": "markdown",
   "metadata": {},
   "source": [
    "## Practices\n",
    "\n",
    "  * [Standing up your Web Server in the Cloud](practices/PracticeWebServer.ipynb)\n",
    "\n",
    "    * The Practice this week includes pulling down the output from your webserver.  You will submit that as demonstration of your work."
   ]
  },
  {
   "cell_type": "markdown",
   "metadata": {},
   "source": [
    "## Submitting your work\n",
    "\n",
    "#### Steps:\n",
    "  1. Open Terminal in JupyterHub\n",
    "  1. Change into the course folder\n",
    "  1. Stage (Git Add) the module's practive and exercise work   \n",
    "  `git  add   module1/labs     module1/practices`\n",
    "  1. Create your work snapshot (Git Commit)  \n",
    "  `git   commit   -m   \"Module 1 submission\"`\n",
    "  1. Upload the snapshot to the server (Git Push)  \n",
    "  `git   push`\n"
   ]
  },
  {
   "cell_type": "markdown",
   "metadata": {},
   "source": [
    "## Congratulations, you have completed the learning activities for this module!"
   ]
  }
 ],
 "metadata": {
  "kernelspec": {
   "display_name": "Python 3",
   "language": "python",
   "name": "python3"
  },
  "language_info": {
   "codemirror_mode": {
    "name": "ipython",
    "version": 3
   },
   "file_extension": ".py",
   "mimetype": "text/x-python",
   "name": "python",
   "nbconvert_exporter": "python",
   "pygments_lexer": "ipython3",
   "version": "3.7.3"
  }
 },
 "nbformat": 4,
 "nbformat_minor": 2
}
