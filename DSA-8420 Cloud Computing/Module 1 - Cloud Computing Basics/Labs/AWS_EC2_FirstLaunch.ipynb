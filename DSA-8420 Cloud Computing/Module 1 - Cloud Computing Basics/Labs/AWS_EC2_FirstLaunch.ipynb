{
 "cells": [
  {
   "cell_type": "markdown",
   "metadata": {},
   "source": [
    "# AWS Tutorial : Introduction to Elastic Cloud Compute (EC2)"
   ]
  },
  {
   "cell_type": "markdown",
   "metadata": {},
   "source": [
    "\n",
    "\n",
    "We will follow the same steps in [AWS documentation](https://docs.aws.amazon.com/AWSEC2/latest/UserGuide/EC2_GetStarted.html) to launch an AWS EC2 instance.\n",
    "\n",
    "**Note:** In this course we will use Linux virtual servers.\n",
    "\n",
    "![AWS_GettingStartedEC2.png MISSING](../images/AWS_GettingStartedEC2.png)"
   ]
  },
  {
   "cell_type": "markdown",
   "metadata": {},
   "source": [
    "\n",
    "### Lab Tasks\n",
    "\n",
    "To complete this tutorial, perform the following tasks:\n",
    " * Launch an Instance\n",
    " * Connect to Your Instance\n",
    " * Clean Up Your Instance\n",
    "\n",
    "**Note: You will repeat this process for the practice, with a few extra steps added**"
   ]
  },
  {
   "cell_type": "markdown",
   "metadata": {},
   "source": [
    "\n",
    "<img src=\"../images/Launch_server/aws_instance.PNG\">\n",
    "\n",
    "\n",
    "The above figure shows the instance architecture we will be creating.\n",
    "A virtual instance will be launched in a new volume. \n",
    "The instance is an Amazon EBS-backed instance (meaning that the root volume is an EBS volume). \n",
    "The reserved resources should be securely accessed over the Internet by specifying a key pair and security group. \n",
    "You must specify the private key of the key pair that you specified when launching your instance. \n",
    "All the infrastructure related to the instance chosen will be created in a selected zone or the zone selected by AWS if none selected."
   ]
  },
  {
   "cell_type": "markdown",
   "metadata": {},
   "source": [
    "## Work through the tutorial -- slowly and carefully!"
   ]
  },
  {
   "cell_type": "markdown",
   "metadata": {},
   "source": [
    "---\n",
    "When you have completed the tutorial, you should be down to:\n",
    "\n",
    "![AWS_GettingStartedEC2_Terminate.png MISSING](../images/AWS_GettingStartedEC2_Terminate.png)\n",
    "\n",
    "Make sure your EC2 instance is stopped by checking in the console.\n",
    "\n",
    "## Now you are ready to do it again... and add a few more steps. \n",
    "Continue to the module practice to set up a web server in the cloud."
   ]
  }
 ],
 "metadata": {
  "kernelspec": {
   "display_name": "Python 3",
   "language": "python",
   "name": "python3"
  },
  "language_info": {
   "codemirror_mode": {
    "name": "ipython",
    "version": 3
   },
   "file_extension": ".py",
   "mimetype": "text/x-python",
   "name": "python",
   "nbconvert_exporter": "python",
   "pygments_lexer": "ipython3",
   "version": "3.7.3"
  }
 },
 "nbformat": 4,
 "nbformat_minor": 2
}
