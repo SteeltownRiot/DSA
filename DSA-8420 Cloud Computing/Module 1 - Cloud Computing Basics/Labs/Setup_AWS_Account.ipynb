{
 "cells": [
  {
   "cell_type": "markdown",
   "metadata": {},
   "source": [
    "# Setting up your AWS Account \n",
    "\n",
    "You will recieve your AWS Account IAM user name and initial password from the instructor or a TA.\n",
    "\n",
    "To set up your account, you will navigate to: \n",
    "https://714861692883.signin.aws.amazon.com/console\n",
    "\n",
    "![AWS_Console_SignOn_1.png MISSING](../images/AWS_Console_SignOn_1.png)\n",
    "\n"
   ]
  },
  {
   "cell_type": "markdown",
   "metadata": {},
   "source": [
    "### Sign On with your designated credentials:\n",
    "\n",
    "![AWS_Console_SignOn_2.png MISSING](../images/AWS_Console_SignOn_2.png)"
   ]
  },
  {
   "cell_type": "markdown",
   "metadata": {},
   "source": [
    "### After your first sign on, you will be prompted to change you password. Please do so and write it down someplace!\n",
    "\n",
    "![AWS_Console_SignOn_PW_Change.png MISSING](../images/AWS_Console_SignOn_PW_Change.png)"
   ]
  },
  {
   "cell_type": "markdown",
   "metadata": {},
   "source": [
    "### Confirm you reached the AWS Console\n",
    "\n",
    "![AWS_Console_HomePage.png MISSING](../images/AWS_Console_HomePage.png)"
   ]
  },
  {
   "cell_type": "markdown",
   "metadata": {},
   "source": [
    "## Congrats!  \n",
    "### You now have access to AWS Cloud Resources\n",
    "\n",
    "### <span style=\"background:pink\">You must limit your use of this account to only DSA Cloud Computing course activities or we will be forced to remove your course account.</span>\n",
    "\n",
    "---"
   ]
  }
 ],
 "metadata": {
  "kernelspec": {
   "display_name": "Python 3",
   "language": "python",
   "name": "python3"
  },
  "language_info": {
   "codemirror_mode": {
    "name": "ipython",
    "version": 3
   },
   "file_extension": ".py",
   "mimetype": "text/x-python",
   "name": "python",
   "nbconvert_exporter": "python",
   "pygments_lexer": "ipython3",
   "version": "3.7.3"
  }
 },
 "nbformat": 4,
 "nbformat_minor": 2
}
