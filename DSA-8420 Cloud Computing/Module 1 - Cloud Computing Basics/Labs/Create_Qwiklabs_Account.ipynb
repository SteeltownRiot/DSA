{
 "cells": [
  {
   "cell_type": "markdown",
   "metadata": {
    "collapsed": true
   },
   "source": [
    "<span style=\"color:#4286f4; font-size:24px; font-weight:700\"> Qwiklabs Account Creation</span>\n",
    "\n",
    "\n",
    "<br>\n",
    "\n",
    "<span style=\"color:#08cc28; font-size:14px; font-weight:700\">This lab will walk you through steps to create Qwiklabs account.</span>"
   ]
  },
  {
   "cell_type": "markdown",
   "metadata": {},
   "source": [
    "Go to https://qwiklabs.com/users/sign_up?locale=en and enter your details. You can either enter mizzou email address or personal email.\n",
    "\n",
    "\n",
    "<img src=\"../images/Qwiklabs/Enter_details.png\">"
   ]
  },
  {
   "cell_type": "markdown",
   "metadata": {},
   "source": [
    "----\n",
    "\n",
    "<span style=\"color:#08cc28; font-size:14px; font-weight:700\">You should recieve an email to verify the email address provided above. </span>"
   ]
  },
  {
   "cell_type": "markdown",
   "metadata": {},
   "source": [
    "\n",
    "\n",
    "<img src=\"../images/Qwiklabs/Qwiklabs_verification_email.png\">"
   ]
  },
  {
   "cell_type": "markdown",
   "metadata": {},
   "source": [
    "<br>\n",
    "<br>\n",
    "\n",
    "**On clikcing the link in the email received, you will be redirected to login to newly created Qwiklabs account.**\n",
    "\n",
    "<span style=\"color:#08cc28; font-size:14px; font-weight:700\">You should see dashboard page after succesful login.</span>\n",
    "\n",
    "<br>\n",
    "<br>\n",
    "\n",
    "<img src=\"../images/Qwiklabs/Qwiklabs_dashboard.png\">\n"
   ]
  },
  {
   "cell_type": "markdown",
   "metadata": {},
   "source": [
    "<br>\n",
    "<br>\n",
    "\n",
    "Click on catalog on the left. On the right side of the page, you will see different filters. Since weeks 1 to 5 discuss AWS services, we recommend looking at AWS related labs. There are 11 free labs available which will let you access different AWS services. Unfortunately there are no EC2 related labs. \n",
    "\n",
    "<span style=\"color:#e51b33; font-size:14px; font-weight:700\">Filter `Amazon Web Services` under `Cloud Environment`and `Free Labs` under `Price`</span>\n",
    "\n",
    "\n",
    "<img src=\"../images/Qwiklabs/Qwiklabs_filters.PNG\">"
   ]
  },
  {
   "cell_type": "markdown",
   "metadata": {},
   "source": [
    "<br>\n",
    "<br>\n",
    "\n",
    "\n",
    "Choose a lab to play with. Click on <span style=\"color:#e51b33; font-size:14px; font-weight:700\">Start Lab</span> and give it a minute to get the set up ready. The <span style=\"color:#e51b33; font-size:14px; font-weight:700\">Open Console</span> button on the left should be enabled once the environment is set up and ready to do the lab. \n",
    "<br>\n",
    "\n",
    "<img src=\"../images/Qwiklabs/qwiklabs_choose_lab.png\">"
   ]
  },
  {
   "cell_type": "markdown",
   "metadata": {},
   "source": [
    "<br>\n",
    "<br>\n",
    "\n",
    "Click on <span style=\"color:#e51b33; font-size:14px; font-weight:700\">Open Console</span> button. You will be redirected to AWS in a different tab. Steps for the lab are displayed on this same Qwiklabs page below. Remember Qwiklabs is smart in the way each session is configured. You won't be able to do things/access AWS services other than what a lab is going to make you do. For example, if you open AWS S3 lab, you wont be able to launch an EC2 instance or DynamoDB instance. "
   ]
  }
 ],
 "metadata": {
  "kernelspec": {
   "display_name": "Python 3",
   "language": "python",
   "name": "python3"
  },
  "language_info": {
   "codemirror_mode": {
    "name": "ipython",
    "version": 3
   },
   "file_extension": ".py",
   "mimetype": "text/x-python",
   "name": "python",
   "nbconvert_exporter": "python",
   "pygments_lexer": "ipython3",
   "version": "3.7.3"
  }
 },
 "nbformat": 4,
 "nbformat_minor": 2
}
