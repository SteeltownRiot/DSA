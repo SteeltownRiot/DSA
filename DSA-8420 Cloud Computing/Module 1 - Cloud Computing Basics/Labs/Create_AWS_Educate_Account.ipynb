{
 "cells": [
  {
   "cell_type": "markdown",
   "metadata": {},
   "source": [
    "<span style=\"color:#4286f4; font-size:24px; font-weight:700\"> AWS Educate Account</span>\n",
    "\n",
    "In the first week of the course, get familiarize with AWS web console and services available. Week 1 focusses on creating an AWS educate account and self exploration of services available. The readings should help you get familiar with basic cloud concepts and keyworks that you will come across in coming modules. Following are some of the references to help you get familiar with AWS. \n",
    "\n",
    "- [Overview of AWS](http://media.amazonwebservices.com/AWS_Overview.pdf)\n",
    "- [A Rare Peek Into The Massive Scale of AWS](http://www.enterprisetech.com/2014/11/14/rare-peek-massive-scale-aws/)\n",
    "- [Complete AWS Documentation](http://aws.amazon.com/documentation/)\n",
    "\n",
    "\n",
    "\n",
    "- AWS Free Usage for Education:\n",
    "\n",
    "    * [Services available on the free usage tier](http://aws.amazon.com/free/)\n",
    "    * [Getting Started Resource Center to make the most out of free tier usage](http://docs.aws.amazon.com/gettingstarted/latest/awsgsg-freetier/TestDriveFreeTier-monthly.html)\n",
    "  \n",
    "    * [AWS educational resources (AWS credit, training, learning resources)](https://aws.amazon.com/education/awseducate/)"
   ]
  },
  {
   "cell_type": "markdown",
   "metadata": {},
   "source": [
    "This lab aims at making you familiar with AWS pricing and documentation for different services that are available with ‘AWS free usage tier’. It walks you through the process of creating your ‘AWS account’ and get $100 AWS educate student credit. We will launch an AWS EC2 (Elastic Compute Cloud) instance and finally set up AWS CloudWatch to add a Bill alarm for monitoring and managing the credit.\n",
    "\n",
    "\n",
    "<br>\n",
    "<span style=\"color:#e5490b; font-size:24px; font-weight:700\"> Note:</span>\n",
    "\n",
    "Your account will be locked temporariliy if the credit usage exceeds acceptable limit. CloudWatch helps you to always keep a check on the usage levels."
   ]
  },
  {
   "cell_type": "markdown",
   "metadata": {},
   "source": [
    "<span style=\"color:#4286f4; font-size:20px; font-weight:700\"> AWS Free Tier\n",
    "\n",
    "Read through above links and understand the conditions of usage, restrictions in terms of instance types, pay-as-you-go service rates, different operating systems. \n",
    "\n",
    "\n",
    "AWS offers most of its services through limited free tier usage. Following are the featured services under compute category(EC2) for example.\n",
    "\n",
    "\n",
    "<img src=\"../images/AWS_EC2_free_tier.PNG\">\n",
    "\n",
    "\n",
    "More information on other services can be found on [here](http://aws.amazon.com/free/.)\n",
    "\n"
   ]
  },
  {
   "cell_type": "markdown",
   "metadata": {},
   "source": [
    "<img src=\"../images/AWS_Educate_details.png\">"
   ]
  },
  {
   "cell_type": "markdown",
   "metadata": {},
   "source": [
    "<span style=\"color:#08cc28; font-size:20px; font-weight:700\"> AWS Educate Account Creation\n",
    "\n",
    "Create an (AWS) AWS educate starter account at [https://aws.amazon.com/education/awseducate/](https://aws.amazon.com/education/awseducate/) by clicking the button `Join AWS Educate >>` as shown in the image below. You don't need a credit/debit card or cellphone/Landline number to do this. You can choose to provide cell phone number for secured authentication in later steps. \n",
    "\n",
    "\n",
    "Make sure to enter the mizzou email address to take advantage of $75 educational credit.\n",
    "Use original email address, for example: skaf48@mail.missouri.edu\n",
    "You might have customized your email addresses something like \"saikrishna@mizzou.edu\", but amazon won’t accept any email domain other than **mail.missouri.edu**. Your email domain should match institution's domain which is mail.missouri.edu\n",
    "\n",
    "\n",
    "<img src=\"../images/AWS_acc_creation/AWS_educate_join.PNG\">\n",
    "\n",
    "----\n",
    "\n",
    "<span style=\"color:#e80d8d; font-size:16px; font-weight:700\"> Select Student</span>\n",
    "\n",
    "<img src=\"../images/AWS_acc_creation/AWS_educate_student.PNG\">\n",
    "\n",
    "-----\n",
    "\n",
    "<span style=\"color:#e80d8d; font-size:16px; font-weight:700\"> Enter details</span>\n",
    "\n",
    "\n",
    "<img src=\"../images/AWS_acc_creation/AWS_educate_starter_account_details.png\">\n",
    "\n",
    "-----"
   ]
  },
  {
   "cell_type": "markdown",
   "metadata": {},
   "source": [
    "<span style=\"color:#e80d8d; font-size:16px; font-weight:700\">Select AWS Educate Starter Account</span>\n",
    "\n",
    "<img src=\"../images/AWS_acc_creation/AWS_educate_starter_select.PNG\">"
   ]
  },
  {
   "cell_type": "markdown",
   "metadata": {},
   "source": [
    "----\n",
    "\n",
    "<span style=\"color:#e80d8d; font-size:16px; font-weight:700\">Scroll to the bottom of user agreement and accept it </span>\n",
    "\n",
    "\n",
    "<img src=\"../images/AWS_acc_creation/agree_terms.png\">"
   ]
  },
  {
   "cell_type": "markdown",
   "metadata": {},
   "source": [
    "----\n",
    "\n",
    "<span style=\"color:#e80d8d; font-size:16px; font-weight:700\">You should see confirmation message on screen</span>\n",
    "\n",
    "\n",
    "\n",
    "<img src=\"../images/AWS_acc_creation/confirmation.png\">\n",
    "\n",
    "\n",
    "----\n",
    "\n",
    "* The email you receive from AWS should have a Promo Code. Go to [https://console.aws.amazon.com/billing/home](https://console.aws.amazon.com/billing/home). Click on credits tab on the left and activate the promo code by entering it.\n",
    "\n",
    "\n",
    "\n",
    "<img src=\"../images/AWS_acc_creation/enter_promo_code.png\">\n"
   ]
  },
  {
   "cell_type": "markdown",
   "metadata": {},
   "source": [
    "-----\n",
    "\n",
    "* You will be able to see your detailed usage and Credits Balance by accessing ‘Bills’ option in the left menu. \n",
    "\n",
    "\n",
    "* Click on preferences tab on the left and enable ‘Receive PDF Invoice my Email’ as well ‘Receive Billing Alerts’ to keep track of the usage. \n",
    "\n",
    "\n",
    "\n",
    "<img src=\"../images/AWS_acc_creation/billing_alerts.png\">"
   ]
  }
 ],
 "metadata": {
  "kernelspec": {
   "display_name": "Python 3",
   "language": "python",
   "name": "python3"
  },
  "language_info": {
   "codemirror_mode": {
    "name": "ipython",
    "version": 3
   },
   "file_extension": ".py",
   "mimetype": "text/x-python",
   "name": "python",
   "nbconvert_exporter": "python",
   "pygments_lexer": "ipython3",
   "version": "3.7.3"
  }
 },
 "nbformat": 4,
 "nbformat_minor": 2
}
