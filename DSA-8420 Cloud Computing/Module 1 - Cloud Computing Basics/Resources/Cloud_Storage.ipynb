{
 "cells": [
  {
   "cell_type": "markdown",
   "metadata": {},
   "source": [
    "<span style=\"color:#4286f4; font-weight:700; font-size:28px\"> Cloud Storage</span>\n",
    "\n",
    "-----\n",
    "\n",
    "Cloud storage is a supplement of cloud services(IaaS, PaaS, SaaS). Cloud storage is based on highly virtualized infrastructure and is broader in terms of accessible interfaces, near-instant elasticity and scalability, multi-tenancy, and metered resources. Cloud storage services can be utilized from an off-premises service (Amazon S3) or deployed on-premises (ViON Capacity Services). The cloud storage providers are responsible for keeping the data available and accessible, and the physical environment protected and running.\n",
    "\n",
    "Cloud storage typically refers to a hosted object storage service, but the term has broadened to include other types of data storage that are now available as a service, like block storage.\n",
    "\n",
    "\n",
    "<span style=\"color:#dd7c0d; font-weight:700; font-size:18px\"> Types of Cloud Storage</span>\n",
    "\n",
    "There are three types of cloud data storage. Each type has its own merits and application areas:\n",
    "* <span style=\"color:#3db220; font-weight:600; font-size:14px; font-style:italic\"> Object Storage:</span> Applications developed in the cloud often take advantage of object storage's vast scalablity and metadata characteristics. Object storage solutions like Amazon Simple Storage Service (S3) are ideal for building modern applications from scratch that require scale and flexibility, and can also be used to import existing data stores for analytics, backup, or archive.\n",
    "\n",
    "\n",
    "* <span style=\"color:#3db220; font-weight:600; font-size:14px; font-style:italic\"> File Storage:</span> Some applications need to access shared files and require a file system. This type of storage is often supported with a Network Attached Storage (NAS) server. File storage solutions like Amazon Elastic File System (EFS) are ideal for use cases like large content repositories, development environments, media stores, or user home directories.\n",
    "  * Cloud Storage may also refer to file storage solutions such as Google Drive, MS One Drive, DropBox, Box, etc.\n",
    "\n",
    "\n",
    "* <span style=\"color:#3db220; font-weight:600; font-size:14px; font-style:italic\"> Block Storage:</span> Other enterprise applications like databases or ERP systems often require dedicated, low latency storage for each host. This is analagous to direct-attached storage (DAS) or a Storage Area Network (SAN). Block-based cloud storage solutions like Amazon Elastic Block Store (EBS) are provisioned with each virtual server and offer the ultra low latency required for high performance workloads."
   ]
  }
 ],
 "metadata": {
  "kernelspec": {
   "display_name": "Python 3",
   "language": "python",
   "name": "python3"
  },
  "language_info": {
   "codemirror_mode": {
    "name": "ipython",
    "version": 3
   },
   "file_extension": ".py",
   "mimetype": "text/x-python",
   "name": "python",
   "nbconvert_exporter": "python",
   "pygments_lexer": "ipython3",
   "version": "3.7.3"
  }
 },
 "nbformat": 4,
 "nbformat_minor": 2
}
