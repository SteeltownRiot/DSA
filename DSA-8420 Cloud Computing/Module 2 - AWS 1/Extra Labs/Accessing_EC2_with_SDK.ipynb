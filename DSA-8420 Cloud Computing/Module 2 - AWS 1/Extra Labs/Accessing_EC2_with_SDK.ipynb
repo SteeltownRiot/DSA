{
 "cells": [
  {
   "cell_type": "markdown",
   "metadata": {},
   "source": [
    "### This notebook demonstrates the use of the SDK to access EC2 instances"
   ]
  },
  {
   "cell_type": "code",
   "execution_count": null,
   "metadata": {},
   "outputs": [],
   "source": [
    "#Import AWS' Python Based DEVOPS tools\n",
    "import boto3\n",
    "from botocore.exceptions import ClientError\n",
    "#Import System Tools\n",
    "import getpass\n",
    "import json\n",
    "import os\n",
    "import datetime\n",
    "import pandas\n",
    "def datetime_handler(x):\n",
    "    if isinstance(x, datetime.datetime):\n",
    "        return x.isoformat()\n",
    "    raise TypeError(\"Unknown type\")\n",
    "\n",
    "# client interface.\n",
    "# Estabilish Credentials/Session\n",
    "response = boto3.client(\n",
    "    'ec2', \n",
    "    region_name='us-west-2',\n",
    "    aws_access_key_id='<enter your aws access key id>',\n",
    "    aws_secret_access_key='<enter your aws secret access key>'\n",
    ")"
   ]
  },
  {
   "cell_type": "code",
   "execution_count": null,
   "metadata": {},
   "outputs": [],
   "source": [
    "# Print instance-ids of all instances which are currently running  \n",
    "\n",
    "instances = []\n",
    "for region in response.describe_regions()['Regions']:\n",
    "    ec2 = boto3.resource('ec2', region_name=region['RegionName'])\n",
    "    instances = ec2.instances.filter(Filters=[{'Name': 'instance-state-name', 'Values': ['running']}])\n",
    "    for instance in instances:\n",
    "        print(instance.id, instance.instance_type)"
   ]
  },
  {
   "cell_type": "code",
   "execution_count": null,
   "metadata": {},
   "outputs": [],
   "source": [
    "# Print public dns of all instances which are currently running  \n",
    "\n",
    "for region in response.describe_regions()['Regions']:\n",
    "    ec2 = boto3.client('ec2', region_name=region['RegionName'])\n",
    "    idesc = ec2.describe_instances()\n",
    "    \n",
    "    for r in idesc['Reservations']:\n",
    "        for i in r['Instances']:\n",
    "            print(i['PublicDnsName'])\n",
    "    "
   ]
  },
  {
   "cell_type": "code",
   "execution_count": null,
   "metadata": {},
   "outputs": [],
   "source": [
    "for i in range(0, len(idesc)-1):\n",
    "    print(idesc[\"Reservations\"][i][\"Instances\"])"
   ]
  },
  {
   "cell_type": "code",
   "execution_count": null,
   "metadata": {},
   "outputs": [],
   "source": [
    "# List SSH Keypairs\n",
    "#import pprint\n",
    "keys = response.describe_key_pairs()\n",
    "for k in keys[\"KeyPairs\"]:\n",
    "    print(k)"
   ]
  },
  {
   "cell_type": "code",
   "execution_count": null,
   "metadata": {},
   "outputs": [],
   "source": [
    "# Create Instance\n",
    "instances = response.run_instances(\n",
    "    ImageId='ami-aa5ebdd2',\n",
    "    MinCount=1, \n",
    "    MaxCount=1,\n",
    "    KeyName=\"<Enter your key-pair>\",\n",
    "    InstanceType=\"t2.micro\"\n",
    ")"
   ]
  },
  {
   "cell_type": "code",
   "execution_count": null,
   "metadata": {},
   "outputs": [],
   "source": [
    "#List EC2 Instances\n",
    "idesc = ec2.describe_instances()\n",
    "\n",
    "for k in idesc[\"Reservations\"]:\n",
    "    print(k)"
   ]
  },
  {
   "cell_type": "code",
   "execution_count": null,
   "metadata": {},
   "outputs": [],
   "source": [
    "#Terminate Machine\n",
    "\n",
    "response = ec2.terminate_instances(\n",
    "    InstanceIds=['i-08c425ee49e4a0375', ],  # Change the instance id with the right one.\n",
    "    DryRun=False\n",
    ")"
   ]
  },
  {
   "cell_type": "markdown",
   "metadata": {},
   "source": [
    "# Save your notebook, then `File > Close and Halt`"
   ]
  }
 ],
 "metadata": {
  "kernelspec": {
   "display_name": "Python 3",
   "language": "python",
   "name": "python3"
  },
  "language_info": {
   "codemirror_mode": {
    "name": "ipython",
    "version": 3
   },
   "file_extension": ".py",
   "mimetype": "text/x-python",
   "name": "python",
   "nbconvert_exporter": "python",
   "pygments_lexer": "ipython3",
   "version": "3.7.3"
  }
 },
 "nbformat": 4,
 "nbformat_minor": 2
}
