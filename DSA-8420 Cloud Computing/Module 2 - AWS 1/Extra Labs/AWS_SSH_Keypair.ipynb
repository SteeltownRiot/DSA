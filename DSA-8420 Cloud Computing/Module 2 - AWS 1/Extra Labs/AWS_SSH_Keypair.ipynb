{
 "cells": [
  {
   "cell_type": "markdown",
   "metadata": {},
   "source": [
    "### This notebook reviews the use of the BOTO3 API for SSH key management."
   ]
  },
  {
   "cell_type": "code",
   "execution_count": null,
   "metadata": {},
   "outputs": [],
   "source": [
    "#Import AWS' Python Based DEVOPS tools\n",
    "import boto3\n",
    "#Import System Tools\n",
    "import json\n",
    "import os\n",
    "# Client Interface.\n",
    "# Estabilish Credentials/Session\n",
    "ec2 = boto3.client(\n",
    "    'ec2', \n",
    "    region_name='us-east-1',\n",
    "    aws_access_key_id='<enter your aws access key id>',\n",
    "    aws_secret_access_key='<enter your aws secret access key>'\n",
    ")"
   ]
  },
  {
   "cell_type": "code",
   "execution_count": null,
   "metadata": {},
   "outputs": [],
   "source": [
    "# List SSH Keypairs\n",
    "\n",
    "response = ec2.describe_key_pairs()\n",
    "print(json.dumps(response, indent=4, sort_keys=True))"
   ]
  },
  {
   "cell_type": "code",
   "execution_count": null,
   "metadata": {},
   "outputs": [],
   "source": [
    "#**DO NOT USE THIS METHOD UNLESS YOU HAVE A NEED FOR IT**\n",
    "# Create SSH Keypair STDOUT\n",
    "\n",
    "response = ec2.create_key_pair(KeyName='EC2KeyPair')  \n",
    "response['KeyMaterial']"
   ]
  },
  {
   "cell_type": "code",
   "execution_count": null,
   "metadata": {},
   "outputs": [],
   "source": [
    "# Create SSH Keypair File\n",
    "\n",
    "outfile = open('EC2KeyPair.pem','w')\n",
    "outfile.write(str(response['KeyMaterial']))\n",
    "os.chmod('EC2KeyPair.pem',400)"
   ]
  },
  {
   "cell_type": "code",
   "execution_count": null,
   "metadata": {},
   "outputs": [],
   "source": [
    "# Delete SSH Keypair\n",
    "\n",
    "response = ec2.delete_key_pair(KeyName='EC2_Testkey')\n",
    "print(json.dumps(response, indent=4, sort_keys=True))"
   ]
  },
  {
   "cell_type": "markdown",
   "metadata": {},
   "source": [
    "# Save your notebook, then `File > Close and Halt`"
   ]
  }
 ],
 "metadata": {
  "kernelspec": {
   "display_name": "Python 3",
   "language": "python",
   "name": "python3"
  },
  "language_info": {
   "codemirror_mode": {
    "name": "ipython",
    "version": 3
   },
   "file_extension": ".py",
   "mimetype": "text/x-python",
   "name": "python",
   "nbconvert_exporter": "python",
   "pygments_lexer": "ipython3",
   "version": "3.7.3"
  }
 },
 "nbformat": 4,
 "nbformat_minor": 2
}
