{
 "cells": [
  {
   "cell_type": "markdown",
   "metadata": {},
   "source": [
    "# SQS\n",
    "\n",
    "This notebook will walk you through how to use Boto3 with an AWS service. SQS allows you to queue and then process messages. This notebook focusses on Amazon Simple Queue Service (SQS), how to create a new queue, get and use an existing queue, push new messages onto the queue and process messages from the queue by using Resources and Collections."
   ]
  },
  {
   "cell_type": "markdown",
   "metadata": {},
   "source": [
    "### Creating a Queue\n",
    "\n",
    "Queues when created will be given a name. Optional queue attributes can be set, such as the number of seconds to wait before an item may be processed. Before creating a queue, you must first get the SQS service resource:"
   ]
  },
  {
   "cell_type": "code",
   "execution_count": null,
   "metadata": {},
   "outputs": [],
   "source": [
    "# We have already configured aws credentials using aws configure command in AWS CLI. So we dont have to provide \n",
    "# credentials.\n",
    "\n",
    "import boto3"
   ]
  },
  {
   "cell_type": "markdown",
   "metadata": {},
   "source": [
    "[Reference for AWS Configuration in local machine](http://boto3.readthedocs.io/en/latest/guide/quickstart.html#configuration) "
   ]
  },
  {
   "cell_type": "code",
   "execution_count": null,
   "metadata": {},
   "outputs": [],
   "source": [
    "# Get the service resource\n",
    "sqs = boto3.resource('sqs')\n",
    "\n",
    "\n",
    "# Create the queue. This returns an SQS.Queue instance, modify with your pawprint\n",
    "queue = sqs.create_queue(QueueName='test_queue_your_pawprint', Attributes={'DelaySeconds': '5'})\n",
    "\n",
    "\n",
    "# You can now access identifiers and attributes\n",
    "print(queue.url)\n",
    "print(queue.attributes.get('DelaySeconds'))"
   ]
  },
  {
   "cell_type": "markdown",
   "metadata": {},
   "source": [
    "<a id=\"setting_queue_variable\"></a>\n",
    "\n",
    "\n",
    "### Using an Existing Queue\n",
    "\n",
    "You can look up for a queue by its name. If the queue does not exist, then an exception will be thrown."
   ]
  },
  {
   "cell_type": "code",
   "execution_count": null,
   "metadata": {},
   "outputs": [],
   "source": [
    "# Get the queue. This returns an SQS.Queue instance\n",
    "queue = sqs.get_queue_by_name(QueueName='test_queue_your_pawprint')\n",
    "\n",
    "# You can now access identifiers and attributes\n",
    "print(queue.url)\n",
    "print(queue.attributes.get('DelaySeconds'))\n"
   ]
  },
  {
   "cell_type": "markdown",
   "metadata": {},
   "source": [
    "To list all the existing queues."
   ]
  },
  {
   "cell_type": "code",
   "execution_count": null,
   "metadata": {},
   "outputs": [],
   "source": [
    "# Print out each queue name, which is part of its ARN\n",
    "for queue in sqs.queues.all():\n",
    "    print(queue.url)"
   ]
  },
  {
   "cell_type": "markdown",
   "metadata": {},
   "source": [
    "**Note: ** To extract the names of queues, you can use queue's Amazon Resource Names (ARNs). ARNs are available in the queue's attributes. For example, \n",
    "\n",
    "[Amazon Resource Names](http://docs.aws.amazon.com/general/latest/gr/aws-arns-and-namespaces.html)\n",
    "\n",
    "Amazon Resource Names (ARNs) are used to uniquely identify AWS resources. We require an ARN when you need to specify a resource unambiguously across all of AWS, such as in IAM policies, Amazon Relational Database Service (Amazon RDS) tags, and API calls."
   ]
  },
  {
   "cell_type": "code",
   "execution_count": null,
   "metadata": {},
   "outputs": [],
   "source": [
    "for queue in sqs.queues.all():\n",
    "    print(queue.attributes['QueueArn'].split(':')[-1])"
   ]
  },
  {
   "cell_type": "markdown",
   "metadata": {},
   "source": [
    "### Sending Messages\n",
    "\n",
    "Sending a message adds it to the end of the queue. So queue is pointing to test_queue right now as we have it [set above](#setting_queue_variable)"
   ]
  },
  {
   "cell_type": "code",
   "execution_count": null,
   "metadata": {},
   "outputs": [],
   "source": [
    "# Get the queue. This returns an SQS.Queue instance\n",
    "queue = sqs.get_queue_by_name(QueueName='test_queue')\n",
    "\n",
    "# Create a new message\n",
    "response = queue.send_message(MessageBody='DSA Fall sesmester', \n",
    "                              MessageAttributes={'Term': {'StringValue': 'Fall 2017',\n",
    "                                                          'DataType': 'String'\n",
    "                                                         }\n",
    "                                                 'Course': {'StringValue': 'Main',\n",
    "                                                          'DataType': 'String'\n",
    "                                                           }\n",
    "    \n",
    "                                                }\n",
    "                             )\n",
    "\n",
    "# The response is NOT a resource, but gives you a message ID and MD5\n",
    "print(response.get('MessageId'))\n",
    "print(response.get('MD5OfMessageBody'))"
   ]
  },
  {
   "cell_type": "markdown",
   "metadata": {},
   "source": [
    "You can create messages with custom attributes as shown below."
   ]
  },
  {
   "cell_type": "code",
   "execution_count": null,
   "metadata": {},
   "outputs": [],
   "source": [
    "queue.send_message(MessageBody='DSA course 1', MessageAttributes={\n",
    "    'Course': {\n",
    "        'StringValue': 'Intro_to_Data_Science',\n",
    "        'DataType': 'String'\n",
    "    }\n",
    "    \n",
    "})"
   ]
  },
  {
   "cell_type": "markdown",
   "metadata": {},
   "source": [
    "Messages can also be sent in batches. For example, sending the two messages described above in a single request would look like the following:"
   ]
  },
  {
   "cell_type": "code",
   "execution_count": null,
   "metadata": {},
   "outputs": [],
   "source": [
    "response = queue.send_messages(Entries=[\n",
    "    {\n",
    "        'Id': '1',\n",
    "        'MessageBody': 'DSA course 2',\n",
    "        'MessageAttributes': {\n",
    "            'Course': {\n",
    "                'StringValue': 'Statistical & mathematical foundations of Data Analysis',\n",
    "                'DataType': 'String'\n",
    "            }\n",
    "        }\n",
    "    },\n",
    "    {\n",
    "        'Id': '2',\n",
    "        'MessageBody': 'DSA course 3',\n",
    "        'MessageAttributes': {\n",
    "            'Course': {\n",
    "                'StringValue': 'Database Analytics',\n",
    "                'DataType': 'String'\n",
    "            }\n",
    "        }\n",
    "    }\n",
    "])\n",
    "\n",
    "# Print out any failures\n",
    "print(response.get('Failed'))\n",
    "\n",
    "\n",
    "# Response contains list of Successful and Failed messages, so you can retry failures if needed."
   ]
  },
  {
   "cell_type": "markdown",
   "metadata": {},
   "source": [
    "### Processing Messages\n",
    "\n",
    "Messages are processed in batches."
   ]
  },
  {
   "cell_type": "code",
   "execution_count": null,
   "metadata": {},
   "outputs": [],
   "source": [
    "# Process messages by printing out body and optional author name\n",
    "for message in queue.receive_messages(MessageAttributeNames=['Course']):\n",
    "    # Get the custom course message attribute if it was set\n",
    "    course_text = ''\n",
    "    if message.message_attributes is not None:\n",
    "        course_name = message.message_attributes.get('Course').get('StringValue')\n",
    "        \n",
    "    # Print out the body and author (if set)\n",
    "    print('Hello, {0}!{1}'.format(message.body, course_text))\n",
    "\n",
    "    # Let the queue know that the message is processed\n",
    "#     message.delete()"
   ]
  },
  {
   "cell_type": "markdown",
   "metadata": {},
   "source": [
    "# Save your Notebook, then `File > Close and Halt`"
   ]
  }
 ],
 "metadata": {
  "kernelspec": {
   "display_name": "Python 3",
   "language": "python",
   "name": "python3"
  },
  "language_info": {
   "codemirror_mode": {
    "name": "ipython",
    "version": 3
   },
   "file_extension": ".py",
   "mimetype": "text/x-python",
   "name": "python",
   "nbconvert_exporter": "python",
   "pygments_lexer": "ipython3",
   "version": "3.7.3"
  }
 },
 "nbformat": 4,
 "nbformat_minor": 2
}
