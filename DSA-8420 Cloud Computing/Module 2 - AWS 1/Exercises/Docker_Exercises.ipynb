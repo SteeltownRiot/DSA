{
 "cells": [
  {
   "cell_type": "markdown",
   "metadata": {},
   "source": [
    "# Run Jupyter on a Docker Container\n",
    "\n",
    "\n",
    "This notebook will test the concepts you have learned in the lab [Jupyter from Docker](../labs/Jupyter_from_Docker.ipynb) mainly. The code is partially complete in most of the activities. The activities will build upon each previous activity to acheive the final result at the end. The activities are similar to what you have seen in labs. You are expected to search online for syntaxes in some cases and complete the partially complete code cells. \n",
    "\n",
    "The exercises will ask you to upload a dataset to S3 bucket. You need to install Docker on an EC2 instance and fetch the dataset from S3 that is uploaded earlier. At the end perform simple linear regression to predict the salary of employees. "
   ]
  },
  {
   "cell_type": "markdown",
   "metadata": {},
   "source": [
    "### Launch a new EC2 instance and install docker on it\n",
    "\n",
    "To install Docker on an Amazon Linux instance, launch an instance with the Amazon Linux AMI or use one of the existing instances. Connect to your instance using SSH. Update the installed packages and package cache on the instance.\n",
    "\n",
    "## Note: \n",
    "\n",
    "Update the below credentials in the code cell below\n",
    "\n",
    "1. aws_access_key_id\n",
    "2. aws_secret_access_key"
   ]
  },
  {
   "cell_type": "code",
   "execution_count": null,
   "metadata": {},
   "outputs": [],
   "source": [
    "#Import AWS' Python Based DEVOPS tools\n",
    "import boto3\n",
    "from botocore.exceptions import ClientError\n",
    "\n",
    "#Import System Tools\n",
    "import collections\n",
    "import json\n",
    "import os\n",
    "import datetime\n",
    "import pandas\n",
    "import time\n",
    "import getpass\n",
    "from subprocess import call\n",
    "\n",
    "#Set important Variables\n",
    "system_user_name=getpass.getuser()\n",
    "\n",
    "def datetime_handler(x):\n",
    "    if isinstance(x, datetime.datetime):\n",
    "        return x.isoformat()\n",
    "    raise TypeError(\"Unknown type\")\n",
    "aws_access_id='<enter your aws access key id>'\n",
    "aws_secret_key='<enter your aws secret access key>'\n",
    "# client interface.\n",
    "# Estabilish Credentials/Session\n",
    "ec2 = boto3.client(\n",
    "    'ec2', \n",
    "    region_name='us-west-2',\n",
    "    aws_access_key_id=aws_access_id,\n",
    "    aws_secret_access_key=aws_secret_key\n",
    ")"
   ]
  },
  {
   "cell_type": "markdown",
   "metadata": {},
   "source": [
    "**Activity 1:** Create a new security group named Docker_SG and save the GroupId of newly created security group in Sec_group variable"
   ]
  },
  {
   "cell_type": "code",
   "execution_count": null,
   "metadata": {},
   "outputs": [],
   "source": [
    "# Store the security group name in a variable\n",
    "New_Sec_Group_Name= \"Docker_your_pawprint_SG\"\n",
    "\n",
    "Create_SG_response = ec2.create_security_group(\n",
    "    Description='security grp for docker',\n",
    "    GroupName=<security group name>\n",
    ")\n",
    "Sec_group=<get the group id of new security group>"
   ]
  },
  {
   "cell_type": "code",
   "execution_count": null,
   "metadata": {},
   "outputs": [],
   "source": [
    "# Modify Security Configuration to allow MU's IP addresses\n",
    "\n",
    "try:\n",
    "    sec_rule=\"ALL TCP\"\n",
    "    data = ec2.authorize_security_group_ingress(\n",
    "        GroupId=Sec_group,\n",
    "        IpPermissions=[\n",
    "            {'IpProtocol': 'tcp',\n",
    "             'FromPort': 0,\n",
    "             'ToPort': 65535,\n",
    "             'IpRanges': [{'CidrIp': '0.0.0.0/0'}]},\n",
    "        ],)\n",
    "    print(\"Ingress \"+sec_rule+\" added\")\n",
    "except:\n",
    "    print(sec_rule+\" already added\")\n",
    "#     print(data)\n",
    "\n",
    "try:\n",
    "    sec_rule=\"ALL TCP\"\n",
    "    data = ec2.authorize_security_group_ingress(\n",
    "        GroupId=Sec_group,\n",
    "        IpPermissions=[\n",
    "            {'IpProtocol': 'tcp',\n",
    "             'FromPort': 0,\n",
    "             'ToPort': 65535,\n",
    "             'UserIdGroupPairs': [{ 'GroupId': Sec_group }]\n",
    "#              'IpRanges': [{'CidrIp': Sec_group}]},\n",
    "            }],\n",
    "#         SourceSecurityGroup=Sec_group_name\n",
    "    )\n",
    "    print(\"Ingress \"+sec_rule+\" added\")\n",
    "except:\n",
    "    print(sec_rule+\" already added\")\n",
    "\n",
    "try:\n",
    "    sec_rule=\"Custom ICMP Rule - IPv4\"\n",
    "    data = ec2.authorize_security_group_ingress(\n",
    "        GroupId=Sec_group,\n",
    "        IpPermissions=[\n",
    "            {'IpProtocol': 'icmp',\n",
    "             'FromPort': 0,\n",
    "             'ToPort': -1,\n",
    "             'IpRanges': [{'CidrIp': '173.31.192.195/32'}]},\n",
    "        ])\n",
    "    print(\"Ingress \"+sec_rule+\" added\")\n",
    "except:\n",
    "    print(sec_rule+\" already added\")\n",
    "#     print(data)\n",
    "\n",
    "try:\n",
    "    sec_rule=\"ALL UDP\"\n",
    "    data = ec2.authorize_security_group_ingress(\n",
    "        GroupId=Sec_group,\n",
    "        IpPermissions=[\n",
    "            {'IpProtocol': 'udp',\n",
    "             'FromPort': 0,\n",
    "             'ToPort': 65535,\n",
    "             'UserIdGroupPairs': [{ 'GroupId': Sec_group }]\n",
    "            }],\n",
    "    )\n",
    "    print(\"Ingress \"+sec_rule+\" added\")\n",
    "except:\n",
    "    print(sec_rule+\" already added\")\n",
    "#     print(data)\n",
    "\n",
    "    \n",
    "try:\n",
    "    sec_rule=\"ALL ICMP\"\n",
    "    data = ec2.authorize_security_group_ingress(\n",
    "        GroupId=Sec_group,\n",
    "        IpPermissions=[\n",
    "            {'IpProtocol': 'icmp',\n",
    "             'FromPort': -1,\n",
    "             'ToPort': -1,\n",
    "             'UserIdGroupPairs': [{ 'GroupId': Sec_group }]\n",
    "            }],\n",
    "    )\n",
    "    print(\"Ingress \"+sec_rule+\" added\")\n",
    "except:\n",
    "    print(sec_rule+\" already added\")\n",
    "\n",
    "    \n",
    "try:\n",
    "    sec_rule=\"ALL ICMP\"\n",
    "    data = ec2.authorize_security_group_ingress(\n",
    "        GroupId=Sec_group,\n",
    "        IpPermissions=[\n",
    "            {'IpProtocol': 'icmp',\n",
    "             'FromPort': -1,\n",
    "             'ToPort': -1,\n",
    "             'IpRanges': [{'CidrIp': '0.0.0.0/16'}]\n",
    "            }],\n",
    "    )\n",
    "    print(\"Ingress \"+sec_rule+\" added\")\n",
    "except:\n",
    "    print(sec_rule+\" already added\")\n"
   ]
  },
  {
   "cell_type": "markdown",
   "metadata": {},
   "source": [
    "**Activity 2:** Create a new KeyPair. The name of the Keypair is specified in \"emr_pem_file\" variable below. Also, write the Keypair private key to current directory to access it for authentication. "
   ]
  },
  {
   "cell_type": "code",
   "execution_count": null,
   "metadata": {},
   "outputs": [],
   "source": [
    "import time \n",
    "import os\n",
    "\n",
    "# Generate a unique name for keypair \n",
    "emr_pem_file=time.strftime(\"EMR-%d%m%Y%H%M%S-\"+system_user_name)\n",
    "\n",
    "# Create a new key pair\n",
    "emr_key=ec2.<what goes in here>(KeyName=<what goes in here>)\n",
    "\n",
    "os.system(\"echo \\\"\"+emr_key['KeyMaterial']+\"\\\" > \"+emr_pem_file+\".pem\")\n",
    "os.chmod(emr_pem_file+\".pem\",0o400)\n",
    "\n",
    "print(\"KeyName         : \"+emr_key['KeyName'])"
   ]
  },
  {
   "cell_type": "markdown",
   "metadata": {},
   "source": [
    "**Activity 3:** Launch an EC2 instance using \"emr_pem_file\" as KeyName and \"Sec_group\" as security group"
   ]
  },
  {
   "cell_type": "code",
   "execution_count": null,
   "metadata": {},
   "outputs": [],
   "source": [
    "# Create Instance\n",
    "instances = ec2.run_instances(\n",
    "    ImageId='ami-aa5ebdd2',\n",
    "    MinCount=1, \n",
    "    MaxCount=1,\n",
    "    KeyName=<what goes in here>,\n",
    "    TagSpecifications=[\n",
    "        {\n",
    "            'ResourceType': 'instance',\n",
    "            'Tags': [\n",
    "                        {   'Key': 'Name',\n",
    "                            'Value': 'Docker_Exercise'\n",
    "                        }\n",
    "                    ]\n",
    "        }\n",
    "    ],\n",
    "    InstanceType=\"t2.micro\",\n",
    "    SecurityGroupIds=[\n",
    "        <what goes in here>\n",
    "    ],\n",
    ")"
   ]
  },
  {
   "cell_type": "markdown",
   "metadata": {},
   "source": [
    "Run the cells below to get the public DNS address of the instance created."
   ]
  },
  {
   "cell_type": "code",
   "execution_count": null,
   "metadata": {},
   "outputs": [],
   "source": [
    "new_instance_id = instances[\"Instances\"][0][\"InstanceId\"]"
   ]
  },
  {
   "cell_type": "code",
   "execution_count": null,
   "metadata": {},
   "outputs": [],
   "source": [
    "inst_det = ec2.describe_instances(\n",
    "    InstanceIds=[\n",
    "        new_instance_id,\n",
    "    ]\n",
    ")"
   ]
  },
  {
   "cell_type": "code",
   "execution_count": null,
   "metadata": {},
   "outputs": [],
   "source": [
    "instance_pub_dns=inst_det[\"Reservations\"][0][\"Instances\"][0][\"PublicDnsName\"]\n",
    "instance_pub_dns"
   ]
  },
  {
   "cell_type": "code",
   "execution_count": null,
   "metadata": {},
   "outputs": [],
   "source": [
    "def poll_until_completed(client, ins_id):\n",
    "    delay = 2\n",
    "    while True:\n",
    "        instance = client.describe_instances(InstanceIds=[ins_id,])\n",
    "        status = instance[\"Reservations\"][0][\"Instances\"][0][\"State\"][\"Name\"]\n",
    "#         message = cluster.get('Message', '')\n",
    "        now = str(datetime.datetime.now().time())\n",
    "    \n",
    "        print(\"instance %s is %s at %s\" % (ins_id, status, now))\n",
    "        if status in ['running','terminated']:\n",
    "            break\n",
    "\n",
    "        # exponential backoff with jitter\n",
    "        delay *= random.uniform(1.1, 2.0)\n",
    "        time.sleep(delay)"
   ]
  },
  {
   "cell_type": "markdown",
   "metadata": {},
   "source": [
    "Run the poll function and wait until the instance is up and running. "
   ]
  },
  {
   "cell_type": "code",
   "execution_count": null,
   "metadata": {},
   "outputs": [],
   "source": [
    "import random\n",
    "import time\n",
    "\n",
    "poll_until_completed(ec2, new_instance_id)  # Can't use it until it's COMPLETED"
   ]
  },
  {
   "cell_type": "markdown",
   "metadata": {},
   "source": [
    "### SSH through terminal\n",
    "\n",
    "SSH into the EC2 instance you just created through terminal. Run the cell below, copy the output. Open up a terminal and paste it and hit enter."
   ]
  },
  {
   "cell_type": "markdown",
   "metadata": {},
   "source": [
    "**Activity 4:** print the SSH command to use to SSH into your EC2 instance. \n",
    "\n",
    "Example: \n",
    "\n",
    "`ssh -i CloudComputingDataAnalytics/module2/labs/EMR-09102017111210-skaf48.pem ec2-user@ec2-54-201-248-103.us-west-2.compute.amazonaws.com`"
   ]
  },
  {
   "cell_type": "code",
   "execution_count": null,
   "metadata": {},
   "outputs": [],
   "source": [
    "print(\"ssh -i\" +os.getcwd()+\"/\"+emr_pem_file+\".pem ec2-user@\"+instance_pub_dns)"
   ]
  },
  {
   "cell_type": "markdown",
   "metadata": {},
   "source": [
    "## Note:\n",
    "\n",
    "This is the last activity for this module.\n",
    "\n",
    "**Activity 5:** Open up a terminal and SSH into the EC2 instance. Run below list of commands. \n",
    "\n",
    "* sudo su\n",
    "\n",
    "* yum -y update\n",
    "\n",
    "* yum install -y docker\n",
    "\n",
    "* service docker start\n",
    "\n",
    "* usermod -a -G docker ec2-user\n",
    "\n",
    "* yum install python38\n",
    "\n",
    "* wget https://bootstrap.pypa.io/get-pip.py\n",
    "\n",
    "* python3 get-pip.py\n",
    "\n",
    "* /usr/local/bin/pip install boto3\n",
    "\n",
    "* docker run -it --rm -p 8888:8888 jupyter/scipy-notebook\n",
    "\n",
    "\n",
    "-----\n",
    "\n",
    "Copy and paste the url given by docker in browser window."
   ]
  },
  {
   "cell_type": "markdown",
   "metadata": {},
   "source": [
    "### Download Linear_Regression.ipynb notebook\n",
    "\n",
    "\n",
    "There is a python notebook \"Linear_Regression.ipynb\" in the current directory \"CloudComputingDataAnalytics/module2/exercises/\". Download the file to your local machine and upload the same into Jupyter running in Docker. Select Linear_Regression.ipynb file and click on download. \n",
    "\n",
    "\n",
    "Go to the Jupyter running in Docker, use the upload button to upload the file \"Linear_Regression.ipynb\" that you downloaded to your local machine.\n",
    "\n",
    "The notebook accesses Boston housing prices dataset. It fits a simple linear regression model to predict house prices(MEDV is the dependent variable). The Jupyter in docker container doesn't come with ggplot package pre installed. **Install 'ggplot' from terminal to generate plots in the notebook. **\n",
    "\n",
    "\n",
    "### Upload the Linear_Regression file to docker jupyter notebook.\n",
    "\n",
    "\n",
    "Run all the cells in the notebook. Download the **completed notebook \"Linear_Regression.ipynb\"** and upload it into DSA JupyterHub in your exercises folder for grading. \n",
    "\n",
    "\n",
    "The point that you were able to launch an EC2 instance, load up a Docker container with Jupyter running it is evaluated. You have root access on EC2 instance so you can install packages to complete running all cells in the notebook."
   ]
  },
  {
   "cell_type": "markdown",
   "metadata": {},
   "source": [
    "# <span style='background:yellow'>Save your notebook</span>"
   ]
  },
  {
   "cell_type": "markdown",
   "metadata": {},
   "source": [
    "# Note\n",
    "<h1><span style=\"background:red\">Dont run below cells until exercises are graded. We will notify you when to run the cells and terminate the instance. </span></h1>\n"
   ]
  },
  {
   "cell_type": "markdown",
   "metadata": {},
   "source": [
    "### Delete SSH Keypair\n"
   ]
  },
  {
   "cell_type": "code",
   "execution_count": null,
   "metadata": {},
   "outputs": [],
   "source": [
    "# Delete SSH Keypair\n",
    "\n",
    "try:\n",
    "    os.remove(emr_pem_file+'.pem')\n",
    "    print('Local Key Deleted')\n",
    "except:\n",
    "    print('Local Key Not Found')\n",
    "    \n",
    "response = ec2.delete_key_pair(KeyName=emr_pem_file)\n",
    "print('\\nAWS Metadata: ')\n",
    "print('http Status Code : '+str(response['ResponseMetadata']['HTTPStatusCode']))\n",
    "print('Request ID       : '+response['ResponseMetadata']['RequestId'])\n",
    "print('Retries          : '+str(response['ResponseMetadata']['RetryAttempts']))"
   ]
  },
  {
   "cell_type": "markdown",
   "metadata": {},
   "source": [
    "## Terminate the EC2 instance"
   ]
  },
  {
   "cell_type": "code",
   "execution_count": null,
   "metadata": {},
   "outputs": [],
   "source": [
    "ec22 = boto3.resource('ec2',region_name='us-west-2',\n",
    "                   aws_access_key_id=aws_access_id,\n",
    "                   aws_secret_access_key=aws_secret_key)\n",
    "print(new_instance_id)\n",
    "ec22.Instance(new_instance_id).terminate()"
   ]
  },
  {
   "cell_type": "markdown",
   "metadata": {},
   "source": [
    "## Delete the security group\n",
    "\n",
    "Note: Make sure the instance is terminated before deleting the security group"
   ]
  },
  {
   "cell_type": "code",
   "execution_count": null,
   "metadata": {},
   "outputs": [],
   "source": [
    "import random\n",
    "import time\n",
    "\n",
    "# Just redefined here for good measure due to likelyhood of container being idle during grading\n",
    "def poll_until_completed(client, ins_id):\n",
    "    delay = 2\n",
    "    while True:\n",
    "        instance = client.describe_instances(InstanceIds=[ins_id,])\n",
    "        status = instance[\"Reservations\"][0][\"Instances\"][0][\"State\"][\"Name\"]\n",
    "#         message = cluster.get('Message', '')\n",
    "        now = str(datetime.datetime.now().time())\n",
    "    \n",
    "        print(\"instance %s is %s at %s\" % (ins_id, status, now))\n",
    "        if status in ['running','terminated']:\n",
    "            break\n",
    "\n",
    "        # exponential backoff with jitter\n",
    "        delay *= random.uniform(1.1, 2.0)\n",
    "        time.sleep(delay)\n",
    "\n",
    "poll_until_completed(ec2, new_instance_id)  # Can't use it until it's COMPLETED"
   ]
  },
  {
   "cell_type": "code",
   "execution_count": null,
   "metadata": {},
   "outputs": [],
   "source": [
    "SG_delete_response = ec2.delete_security_group(\n",
    "    GroupId=Sec_group,\n",
    ")\n",
    "SG_delete_response"
   ]
  },
  {
   "cell_type": "markdown",
   "metadata": {},
   "source": [
    "# Save your notebook, then `File > Close and Halt`"
   ]
  }
 ],
 "metadata": {
  "kernelspec": {
   "display_name": "Python 3",
   "language": "python",
   "name": "python3"
  },
  "language_info": {
   "codemirror_mode": {
    "name": "ipython",
    "version": 3
   },
   "file_extension": ".py",
   "mimetype": "text/x-python",
   "name": "python",
   "nbconvert_exporter": "python",
   "pygments_lexer": "ipython3",
   "version": "3.7.3"
  }
 },
 "nbformat": 4,
 "nbformat_minor": 2
}
