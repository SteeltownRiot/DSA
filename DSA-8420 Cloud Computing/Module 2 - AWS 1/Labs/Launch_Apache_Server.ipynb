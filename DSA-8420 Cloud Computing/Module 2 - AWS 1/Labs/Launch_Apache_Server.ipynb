{
 "cells": [
  {
   "cell_type": "markdown",
   "metadata": {
    "collapsed": true
   },
   "source": [
    "# Apache Server on EC2\n",
    "\n",
    "\n",
    "This lab will walk you through steps to launch Apache web server on an EC2 instance. \n",
    "You should have an AWS account created by now either from DSA or by yourself. \n",
    "\n",
    "\n",
    "Steps Overview:\n",
    " 1. By the end of this lab you will be able to launch an EC2 instance using boto3 python\n",
    "package. (You can refer to [Launch Web Server Practice](../../module1/practices/PracticeWebServer.ipynb) lab for a reference).\n",
    " 1. You will be able to install any additional software you need on the instance.\n",
    " 1. Install PHP and mysql softwares using terminal commands.\n",
    " 1. We will upload a static webpage to the instance and display a simple message in the browser. "
   ]
  },
  {
   "cell_type": "code",
   "execution_count": null,
   "metadata": {},
   "outputs": [],
   "source": [
    "################################### SET THE FOLLOWING PARAMETERS ###################################################\n",
    "#Set the AWS Region\n",
    "region = 'us-east-1'\n",
    "\n",
    "\n",
    "ami_image = 'ami-8c1be5f6'\n",
    "\n",
    "#Set the AWS Access ID (Given to you buy the DSA staff: \"Access key ID\")\n",
    "access_id = 'Put your access key id here'\n",
    "\n",
    "#Set the AWS Access Key (Given to you buy the DSA staff: \"Secret access key\")\n",
    "access_key = 'Put your secret access key here'\n",
    "\n",
    "#Security group name: Add your pawprint here\n",
    "Sec_group_name= \"WebServer_your_pawprint_Sec_group\""
   ]
  },
  {
   "cell_type": "code",
   "execution_count": null,
   "metadata": {},
   "outputs": [],
   "source": [
    "#Import AWS' Python Based DEVOPS tools\n",
    "import boto3\n",
    "from botocore.exceptions import ClientError\n",
    "\n",
    "#Import System Tools\n",
    "import collections\n",
    "import json\n",
    "import os\n",
    "import datetime\n",
    "import pandas\n",
    "import time\n",
    "import getpass\n",
    "from subprocess import call\n",
    "\n",
    "#Set the username from system\n",
    "system_user_name=getpass.getuser()\n",
    "\n",
    "# client interface.\n",
    "# Estabilish Credentials/Session\n",
    "ec2 = boto3.client(\n",
    "    'ec2', \n",
    "    region_name=region,\n",
    "    aws_access_key_id=access_id,\n",
    "    aws_secret_access_key=access_key\n",
    ")"
   ]
  },
  {
   "cell_type": "markdown",
   "metadata": {},
   "source": [
    "### Create a Security Group\n",
    "\n",
    "Create a security group and modify the security rules as we need to SSH into the instance to install software packages on it. . "
   ]
  },
  {
   "cell_type": "code",
   "execution_count": null,
   "metadata": {},
   "outputs": [],
   "source": [
    "sg = ec2.create_security_group(\n",
    "    Description='security grp for web server',\n",
    "    GroupName=Sec_group_name\n",
    ")\n",
    "Sec_group=sg[\"GroupId\"]"
   ]
  },
  {
   "cell_type": "markdown",
   "metadata": {},
   "source": [
    "Customize the security group to allow MU's TCP traffic and SSH requests. Configure the inbound rules to allow traffic as needed. "
   ]
  },
  {
   "cell_type": "code",
   "execution_count": null,
   "metadata": {},
   "outputs": [],
   "source": [
    "#Modify Security Configuration to allow MU's IP addresses\n",
    "\n",
    "#Describe Cluster\n",
    "\n",
    "try:\n",
    "    sec_rule=\"ALL TCP\"\n",
    "    data = ec2.authorize_security_group_ingress(\n",
    "        GroupId=Sec_group,\n",
    "        IpPermissions=[\n",
    "            {'IpProtocol': 'tcp',\n",
    "             'FromPort': 0,\n",
    "             'ToPort': 65535,\n",
    "             'IpRanges': [{'CidrIp': '0.0.0.0/0'}]},\n",
    "        ],)\n",
    "    print(\"Ingress \"+sec_rule+\" added\")\n",
    "except:\n",
    "    print(sec_rule+\" already added\")\n",
    "#     print(data)\n",
    "\n",
    "try:\n",
    "    sec_rule=\"ALL TCP\"\n",
    "    data = ec2.authorize_security_group_ingress(\n",
    "        GroupId=Sec_group,\n",
    "        IpPermissions=[\n",
    "            {'IpProtocol': 'tcp',\n",
    "             'FromPort': 0,\n",
    "             'ToPort': 65535,\n",
    "             'UserIdGroupPairs': [{ 'GroupId': Sec_group }]\n",
    "#              'IpRanges': [{'CidrIp': Sec_group}]},\n",
    "            }],\n",
    "#         SourceSecurityGroup=Sec_group_name\n",
    "    )\n",
    "    print(\"Ingress \"+sec_rule+\" added\")\n",
    "except:\n",
    "    print(sec_rule+\" already added\")\n",
    "\n",
    "try:\n",
    "    sec_rule=\"Custom ICMP Rule - IPv4\"\n",
    "    data = ec2.authorize_security_group_ingress(\n",
    "        GroupId=Sec_group,\n",
    "        IpPermissions=[\n",
    "            {'IpProtocol': 'icmp',\n",
    "             'FromPort': 0,\n",
    "             'ToPort': -1,\n",
    "             'IpRanges': [{'CidrIp': '173.31.192.195/32'}]},\n",
    "        ])\n",
    "    print(\"Ingress \"+sec_rule+\" added\")\n",
    "except:\n",
    "    print(sec_rule+\" already added\")\n",
    "#     print(data)\n",
    "\n",
    "try:\n",
    "    sec_rule=\"ALL UDP\"\n",
    "    data = ec2.authorize_security_group_ingress(\n",
    "        GroupId=Sec_group,\n",
    "        IpPermissions=[\n",
    "            {'IpProtocol': 'udp',\n",
    "             'FromPort': 0,\n",
    "             'ToPort': 65535,\n",
    "             'UserIdGroupPairs': [{ 'GroupId': Sec_group }]\n",
    "            }],\n",
    "    )\n",
    "    print(\"Ingress \"+sec_rule+\" added\")\n",
    "except:\n",
    "    print(sec_rule+\" already added\")\n",
    "#     print(data)\n",
    "\n",
    "    \n",
    "try:\n",
    "    sec_rule=\"ALL ICMP\"\n",
    "    data = ec2.authorize_security_group_ingress(\n",
    "        GroupId=Sec_group,\n",
    "        IpPermissions=[\n",
    "            {'IpProtocol': 'icmp',\n",
    "             'FromPort': -1,\n",
    "             'ToPort': -1,\n",
    "             'UserIdGroupPairs': [{ 'GroupId': Sec_group }]\n",
    "            }],\n",
    "    )\n",
    "    print(\"Ingress \"+sec_rule+\" added\")\n",
    "except:\n",
    "    print(sec_rule+\" already added\")\n",
    "\n",
    "    \n",
    "try:\n",
    "    sec_rule=\"ALL ICMP\"\n",
    "    data = ec2.authorize_security_group_ingress(\n",
    "        GroupId=Sec_group,\n",
    "        IpPermissions=[\n",
    "            {'IpProtocol': 'icmp',\n",
    "             'FromPort': -1,\n",
    "             'ToPort': -1,\n",
    "             'IpRanges': [{'CidrIp': '0.0.0.0/16'}]\n",
    "            }],\n",
    "    )\n",
    "    print(\"Ingress \"+sec_rule+\" added\")\n",
    "except:\n",
    "    print(sec_rule+\" already added\")\n"
   ]
  },
  {
   "cell_type": "markdown",
   "metadata": {},
   "source": [
    "### Create a keypair\n",
    "\n",
    "Create a keypair for the EC2 instance. We first generate a name to create a key with that name and also store the key in a file. ec2.create_key_pair() will create a keypair. System command echo is used to write the contents of keypair generated to a file created with same name as keypair. \n",
    "\n",
    "You have to modify the file permissions to provide readonly access. If the file is open, system will throw an error. Do chmod(file, 0o400) "
   ]
  },
  {
   "cell_type": "code",
   "execution_count": null,
   "metadata": {},
   "outputs": [],
   "source": [
    "import time \n",
    "import os\n",
    "\n",
    "ec2_pem_file=time.strftime(\"EC2-%d%m%Y%H%M%S-\"+system_user_name)\n",
    "ec2_key=ec2.create_key_pair(KeyName=ec2_pem_file)\n",
    "\n",
    "#Don't do this unless you have a good reason\n",
    "#print(emr_key['KeyMaterial'])\n",
    "\n",
    "os.system(\"echo \\\"\"+ec2_key['KeyMaterial']+\"\\\" > \"+ec2_pem_file+\".pem\")\n",
    "os.chmod(ec2_pem_file+\".pem\",0o400)\n",
    "\n",
    "print(\"KeyName         : \"+ec2_key['KeyName']+\"\\nKey Fingerprint : \"+ec2_key['KeyFingerprint'])"
   ]
  },
  {
   "cell_type": "markdown",
   "metadata": {},
   "source": [
    "### Create Instance"
   ]
  },
  {
   "cell_type": "code",
   "execution_count": null,
   "metadata": {},
   "outputs": [],
   "source": [
    "instances = ec2.run_instances(\n",
    "    ImageId=ami_image,\n",
    "    MinCount=1,\n",
    "    MaxCount=1,\n",
    "    KeyName=ec2_pem_file,\n",
    "    TagSpecifications=[\n",
    "        {\n",
    "            'ResourceType': 'instance',\n",
    "            'Tags': [\n",
    "                        {   'Key': 'Name',\n",
    "                            'Value': 'Docker_Jupyter'\n",
    "                        }\n",
    "                    ]\n",
    "        }\n",
    "    ],\n",
    "    InstanceType=\"t2.micro\",\n",
    "    SecurityGroupIds=[\n",
    "        Sec_group\n",
    "    ],\n",
    ")"
   ]
  },
  {
   "cell_type": "markdown",
   "metadata": {},
   "source": [
    "Get the instance id of newly created EC2 instance."
   ]
  },
  {
   "cell_type": "code",
   "execution_count": null,
   "metadata": {},
   "outputs": [],
   "source": [
    "new_instance_id = instances[\"Instances\"][0][\"InstanceId\"]"
   ]
  },
  {
   "cell_type": "markdown",
   "metadata": {},
   "source": [
    "Using the instanceId captured above, use describe_instances() method to get instance details which has public DNS address."
   ]
  },
  {
   "cell_type": "code",
   "execution_count": null,
   "metadata": {},
   "outputs": [],
   "source": [
    "inst_det = ec2.describe_instances(\n",
    "    InstanceIds=[\n",
    "        new_instance_id,\n",
    "    ]\n",
    ")"
   ]
  },
  {
   "cell_type": "markdown",
   "metadata": {},
   "source": [
    "Get the public DNS of new instance."
   ]
  },
  {
   "cell_type": "code",
   "execution_count": null,
   "metadata": {},
   "outputs": [],
   "source": [
    "instance_pub_dns=inst_det[\"Reservations\"][0][\"Instances\"][0][\"PublicDnsName\"]\n",
    "instance_pub_dns"
   ]
  },
  {
   "cell_type": "markdown",
   "metadata": {},
   "source": [
    "Use the poll function to make instance is completely set up and is ready for use. "
   ]
  },
  {
   "cell_type": "code",
   "execution_count": null,
   "metadata": {},
   "outputs": [],
   "source": [
    "def poll_until_completed(client, ins_id):\n",
    "    delay = 2\n",
    "    while True:\n",
    "        instance = client.describe_instances(InstanceIds=[ins_id,])\n",
    "        status = instance[\"Reservations\"][0][\"Instances\"][0][\"State\"][\"Name\"]\n",
    "#         message = cluster.get('Message', '')\n",
    "        now = str(datetime.datetime.now().time())\n",
    "    \n",
    "        print(\"instance %s is %s at %s\" % (ins_id, status, now))\n",
    "        if status in ['running','terminated']:\n",
    "            break\n",
    "\n",
    "        # exponential backoff with jitter\n",
    "        delay *= random.uniform(1.1, 2.0)\n",
    "        time.sleep(delay)"
   ]
  },
  {
   "cell_type": "code",
   "execution_count": null,
   "metadata": {},
   "outputs": [],
   "source": [
    "import random\n",
    "import time\n",
    "\n",
    "poll_until_completed(ec2, new_instance_id)  # Can't use it until it's COMPLETED"
   ]
  },
  {
   "cell_type": "markdown",
   "metadata": {},
   "source": [
    "### SSH through terminal\n",
    "\n",
    "\n",
    "Just like what we did in [Jupyter_from_Docker](Jupyter_from_Docker.ipynb) lab, we will use the terminal to SSH into the instance and install the the software packages."
   ]
  },
  {
   "cell_type": "markdown",
   "metadata": {},
   "source": [
    "Print the keypair file name"
   ]
  },
  {
   "cell_type": "code",
   "execution_count": null,
   "metadata": {},
   "outputs": [],
   "source": [
    "print(\"keypair file name:\",ec2_pem_file)"
   ]
  },
  {
   "cell_type": "markdown",
   "metadata": {},
   "source": [
    "* Open up a terminal.\n",
    "\n",
    "\n",
    "* Update the permissions on keypair file\n",
    "\n",
    "    `Run below cell and copy the output. paste it in the terminal. This will make the keypair file readonly.`"
   ]
  },
  {
   "cell_type": "code",
   "execution_count": null,
   "metadata": {},
   "outputs": [],
   "source": [
    "print(\"chmod 400 \"+os.getcwd()+\"/\"+ec2_pem_file+\".pem\")"
   ]
  },
  {
   "cell_type": "markdown",
   "metadata": {},
   "source": [
    "* Run the cell below and copy the output. \n",
    "\n",
    "* Paste the output in terminal and hit enter."
   ]
  },
  {
   "cell_type": "code",
   "execution_count": null,
   "metadata": {},
   "outputs": [],
   "source": [
    "print(\"ssh -i \"+os.getcwd()+\"/\"+ec2_pem_file+\".pem ec2-user@\"+instance_pub_dns)"
   ]
  },
  {
   "cell_type": "markdown",
   "metadata": {},
   "source": [
    "Paste(right click and paste) the output in terminal and hit enter."
   ]
  },
  {
   "cell_type": "markdown",
   "metadata": {},
   "source": [
    "<br>\n",
    "## <span style=\"color:red\">Note:</span>\n",
    "<hr size=\"6\" width=\"100%\" noshade style=\"border-color:#FF0000\" align=\"left\">\n",
    "\n",
    "\n",
    "**Carefully** run all the commands in following sequence as shown in image below. \n",
    "\n",
    "\n",
    "\n",
    "\n",
    "```bash\n",
    "\n",
    "\n",
    "sudo su\n",
    "\n",
    "yum update –y\n",
    "\n",
    "yum install -y httpd24 php56 php56-mysqlnd\n",
    "\n",
    "yum install w3m   (Type y if asking for confirmation)\n",
    "\n",
    "service httpd start\n",
    "\n",
    "chown -R ec2-user /var/www/html/\n",
    "\n",
    "```"
   ]
  },
  {
   "cell_type": "markdown",
   "metadata": {},
   "source": [
    "What have you done?\n",
    " 1. Set your PEM (key file) to only be readable by you.\n",
    " 1. Connected to the remote machine in the Cloud\n",
    " 1. Become _all powerful, ~~destroyer~~ builder of systems_\n",
    " 1. Checked for Updates\n",
    " 1. Installed a package set: httpd24 php56 php56-mysqlnd\n",
    "   * This includes a web server\n",
    " 1. Install the w3m package\n",
    " 1. Start the web server running\n",
    " 1. Change Ownership of the Web Server's document folder.\n",
    "---\n",
    "\n",
    "\n",
    "<h4 style=\"color:red\"> Note: Dont close this terminal window. We will run a command in a while to collect text in the webpage </h4>\n"
   ]
  },
  {
   "cell_type": "markdown",
   "metadata": {},
   "source": [
    "Check if the web server is properly installed. Copy and paste the public DNS name of EC2 instance in a browser. \n",
    "\n",
    "For example, http://ec2-54-213-80-49.us-west-2.compute.amazonaws.com\n",
    "\n",
    "\n",
    "-----\n",
    "\n",
    "\n",
    "![../images/Launch_server/apache_server_test.PNG MISSING](../../module1/images/Launch_server/apache_server_test.PNG)"
   ]
  },
  {
   "cell_type": "markdown",
   "metadata": {},
   "source": [
    "The Apache test page appears only when there is no content in the document root directory, \n",
    "/var/www/html. Since i already added content in that locatin, \n",
    "new content will appear at the public DNS address of the EC2 instance instead of the Apache test page."
   ]
  },
  {
   "cell_type": "markdown",
   "metadata": {},
   "source": [
    "Below command will configure the web server to start with when ever the system boots,\n",
    "instead of starting the http service. \n",
    "You can do that using the chkconfig command:"
   ]
  },
  {
   "cell_type": "markdown",
   "metadata": {
    "collapsed": true
   },
   "source": [
    "    sudo chkconfig httpd on"
   ]
  },
  {
   "cell_type": "markdown",
   "metadata": {},
   "source": [
    "### Upload the web page Index.php\n",
    "\n",
    "\n",
    "Upload the html file, \"index.php\" present in your current working directory into the default web directory `/var/www/html/` of EC2 instance. "
   ]
  },
  {
   "cell_type": "markdown",
   "metadata": {},
   "source": [
    "## <span style=\"color:red\">Note: </span>\n",
    "<hr size=\"6\" width=\"100%\" noshade style=\"border-color:#FF0000\" align=\"left\">\n",
    "\n",
    "\n",
    "**Replace the public DNS address accordingly with your EC2 instance address in below SCP command.** \n"
   ]
  },
  {
   "cell_type": "markdown",
   "metadata": {},
   "source": [
    "### Upload Index.php"
   ]
  },
  {
   "cell_type": "code",
   "execution_count": null,
   "metadata": {},
   "outputs": [],
   "source": [
    "import os\n",
    "\n",
    "os.system(\"scp -o StrictHostKeyChecking=no -i \"+\n",
    "          os.getcwd() +\"/\" + ec2_pem_file + \".pem \"+\n",
    "          \"index.php \"+\n",
    "          \"ec2-user@\"+instance_pub_dns + \":/var/www/html/\")"
   ]
  },
  {
   "cell_type": "markdown",
   "metadata": {},
   "source": [
    "### Display your instance details\n",
    "\n",
    "\n",
    "Check if the uploaded **index.php** page is properly displaying on the server. \n",
    "Copy and paste the public DNS name of EC2 instance in a browser. \n",
    "\n",
    "Example: \n",
    "  * http://ec2-54-213-80-49.us-west-2.compute.amazonaws.com/index.php"
   ]
  },
  {
   "cell_type": "markdown",
   "metadata": {},
   "source": [
    "###  You should see something like this in the browser, \n",
    "\n",
    "\n",
    "<img src=\"../images/static_webpage.PNG\">\n",
    "\n",
    "-----"
   ]
  },
  {
   "cell_type": "markdown",
   "metadata": {},
   "source": [
    "### Extract the text from webpage\n",
    "\n",
    "Run below command in the terminal. Make sure to update the public DNS address as shown in the image\n",
    "\n",
    "Again, replace the public DNS name `ec2-54-213-80-49.us-west-2.compute.amazonaws.com` with your server's name.\n",
    "\n",
    "    w3m -dump http://ec2-54-213-80-49.us-west-2.compute.amazonaws.com/ > downloaded_file.txt\n",
    "\n",
    "![../images/webpage_text.PNG MISSING](../../module1/images/webpage_text.PNG)"
   ]
  },
  {
   "cell_type": "markdown",
   "metadata": {},
   "source": [
    "### Download webpage text\n",
    "\n",
    "Run below cell to download the text present on the webpage. The text is written to file named downloaded_file.txt on EC2 instance. Below SCP command will download the same file into results folder in current directory. "
   ]
  },
  {
   "cell_type": "code",
   "execution_count": null,
   "metadata": {},
   "outputs": [],
   "source": [
    "import os\n",
    "\n",
    "os.system(\"scp -o StrictHostKeyChecking=no -r -i \"+\n",
    "          os.getcwd() +\"/\" + ec2_pem_file + \".pem \"+\n",
    "          \"ec2-user@\"+instance_pub_dns + \":/home/ec2-user/ \"+\n",
    "          os.getcwd()+ \"/results/\")"
   ]
  },
  {
   "cell_type": "markdown",
   "metadata": {},
   "source": [
    "**<span style=\"background:yellow\">You should turn off instances after each session</span>** to make sure \n",
    "we save free credits and use resources optimally. \n",
    "That is the whole point of Cloud computing! \n",
    "  * Use resources when they are needed and turn them off when done."
   ]
  },
  {
   "cell_type": "markdown",
   "metadata": {},
   "source": [
    "### Delete SSH Keypair"
   ]
  },
  {
   "cell_type": "code",
   "execution_count": null,
   "metadata": {},
   "outputs": [],
   "source": [
    "# Delete SSH Keypair\n",
    "\n",
    "try:\n",
    "    os.remove(ec2_pem_file+'.pem')\n",
    "    print('Local Key Deleted')\n",
    "except:\n",
    "    print('Local Key Not Found')\n",
    "    \n",
    "response = ec2.delete_key_pair(KeyName=ec2_pem_file)\n",
    "print('\\nAWS Metadata: ')\n",
    "print('http Status Code : '+str(response['ResponseMetadata']['HTTPStatusCode']))\n",
    "print('Request ID       : '+response['ResponseMetadata']['RequestId'])\n",
    "print('Retries          : '+str(response['ResponseMetadata']['RetryAttempts']))"
   ]
  },
  {
   "cell_type": "markdown",
   "metadata": {},
   "source": [
    "### Terminate the EC2 instance"
   ]
  },
  {
   "cell_type": "code",
   "execution_count": null,
   "metadata": {},
   "outputs": [],
   "source": [
    "ec2.terminate_instances(InstanceIds=[new_instance_id,])"
   ]
  },
  {
   "cell_type": "markdown",
   "metadata": {},
   "source": [
    "### Delete the security group\n",
    "\n",
    "Run the polling function to make sure instance is terminated. You cant delete the security group while a running instance is using it. "
   ]
  },
  {
   "cell_type": "code",
   "execution_count": null,
   "metadata": {},
   "outputs": [],
   "source": [
    "poll_until_completed(ec2, new_instance_id)  # Can't use it until it's COMPLETED"
   ]
  },
  {
   "cell_type": "code",
   "execution_count": null,
   "metadata": {},
   "outputs": [],
   "source": [
    "SG_delete_response = ec2.delete_security_group(\n",
    "    GroupId=Sec_group,\n",
    ")"
   ]
  },
  {
   "cell_type": "markdown",
   "metadata": {},
   "source": [
    "# Save your notebook\n",
    "\n",
    "<h3><span style=\"background:red\">Be sure to using Git to add the labs/results folder and commit and push this week.</span></h3>"
   ]
  },
  {
   "cell_type": "markdown",
   "metadata": {},
   "source": [
    "<h1><span style=\"background:yellow\">Deeper/Optional material</span></h1>"
   ]
  },
  {
   "cell_type": "markdown",
   "metadata": {},
   "source": [
    "To allow ec2-user to manage files in the default root directory for your Apache web server, you need to modify the ownership and permissions of the /var/www directory. We will add a group named www to the EC2 instance which will be given ownership of the /var/www directory and add write permissions. Any members of that group can then add, delete, and modify files for the web server.\n",
    "\n",
    "#### To set file permissions for the Apache web server\n",
    "\n",
    "* Add the www group to the EC2 instance with the following command:"
   ]
  },
  {
   "cell_type": "code",
   "execution_count": null,
   "metadata": {},
   "outputs": [],
   "source": [
    "stdin, stdout, stderr = client.exec_command(\"sudo groupadd www\")\n",
    "print(stdout.read())"
   ]
  },
  {
   "cell_type": "markdown",
   "metadata": {},
   "source": [
    "* Add the ec2-user user to the www group:"
   ]
  },
  {
   "cell_type": "code",
   "execution_count": null,
   "metadata": {},
   "outputs": [],
   "source": [
    "stdin, stdout, stderr = client.exec_command(\"sudo usermod -a -G www ec2-user\")"
   ]
  },
  {
   "cell_type": "markdown",
   "metadata": {},
   "source": [
    "* To refresh your permissions and include the new www group, log out:"
   ]
  },
  {
   "cell_type": "code",
   "execution_count": null,
   "metadata": {},
   "outputs": [],
   "source": [
    "stdin, stdout, stderr = client.exec_command(\"exit\")"
   ]
  },
  {
   "cell_type": "markdown",
   "metadata": {},
   "source": [
    "* Log back in again and verify that the www group exists with the groups command:"
   ]
  },
  {
   "cell_type": "code",
   "execution_count": null,
   "metadata": {},
   "outputs": [],
   "source": [
    "stdin, stdout, stderr = client.exec_command(\"groups\")"
   ]
  },
  {
   "cell_type": "markdown",
   "metadata": {},
   "source": [
    "* Change the group ownership of the /var/www directory and its contents to the www group:"
   ]
  },
  {
   "cell_type": "code",
   "execution_count": null,
   "metadata": {},
   "outputs": [],
   "source": [
    "stdin, stdout, stderr = client.exec_command(\"sudo chown -R root:www /var/www\")"
   ]
  },
  {
   "cell_type": "markdown",
   "metadata": {},
   "source": [
    "* Change the directory permissions of /var/www and its subdirectories to add group write permissions and set the group ID on subdirectories created in the future:"
   ]
  },
  {
   "cell_type": "code",
   "execution_count": null,
   "metadata": {},
   "outputs": [],
   "source": [
    "stdin, stdout, stderr = client.exec_command(\"sudo chmod 2775 /var/www\")\n",
    "\n",
    "stdin, stdout, stderr = client.exec_command(\"find /var/www -type d -exec sudo chmod 2775 {} +\")"
   ]
  },
  {
   "cell_type": "markdown",
   "metadata": {},
   "source": [
    "* Recursively change the permissions for files in the /var/www directory and its subdirectories to add group write permissions:"
   ]
  },
  {
   "cell_type": "code",
   "execution_count": null,
   "metadata": {},
   "outputs": [],
   "source": [
    "stdin, stdout, stderr = client.exec_command(\"find /var/www -type f -exec sudo chmod 0664 {} +\")"
   ]
  },
  {
   "cell_type": "markdown",
   "metadata": {},
   "source": [
    "### SSH using Paramiko library"
   ]
  },
  {
   "cell_type": "markdown",
   "metadata": {},
   "source": [
    "We can SSH into an EC2 instance through AWS CLI in the terminal. \n",
    "We can do the same programatically using paramiko python library. \n",
    "Paramiko is a Python (2.6+, 3.3+) implementation of the SSHv2 protocol, \n",
    "providing both client and server functionality. \n",
    "\n",
    "[Click this link if you need reference/digdeeper for paramiko library commands used in below cell](http://docs.paramiko.org/en/2.2/api/client.html#paramiko.client.SSHClient.connect)"
   ]
  },
  {
   "cell_type": "markdown",
   "metadata": {},
   "source": [
    "Below code cell will SSH into the EC2 instance and install LAMP stack software bundle. \n",
    "**Don't run this cell.** We will use a terminal instead."
   ]
  },
  {
   "cell_type": "code",
   "execution_count": null,
   "metadata": {},
   "outputs": [],
   "source": [
    "# import boto3\n",
    "# import botocore\n",
    "# import paramiko\n",
    "# import time\n",
    "\n",
    "# client = paramiko.SSHClient()\n",
    "# client.set_missing_host_key_policy(paramiko.AutoAddPolicy())\n",
    "\n",
    "\n",
    "# # Connect/ssh to an instance\n",
    "# try:\n",
    "#     # hostname is public DNS address of EC2 instance, key_filename is the private key to connect to instance.\n",
    "#     print(\"Trying to connect\")\n",
    "#     time.sleep(30)\n",
    "#     client.connect(hostname=instance_pub_dns, username='ec2-user', key_filename=\"EC2KeyPair1.pem\")\n",
    "#     print(\"connected to instance\")\n",
    "    \n",
    "#     # The -y option in below command installs the updates without asking for confirmation which you normally see for sw installs \n",
    "#     print(\"Update all the existing packages\")\n",
    "#     stdin, stdout, stderr = client.exec_command(\"sudo yum update –y\")\n",
    "#     data = stdout.read().splitlines()\n",
    "#     for line in data:\n",
    "#         print('stdout: ',line)\n",
    "\n",
    "# #     print('sudo yum update –y  stdout: ',stdout)\n",
    "#     print('sudo yum update –y  stderr: ', stderr)\n",
    "    \n",
    "    \n",
    "#     # Install the Apache web server with the PHP software package. Below command installs multiple software packages \n",
    "#     # and related dependencies at the same time:\n",
    "#     print(\"Installing the apache web server, PHp and MySQL\")\n",
    "#     stdin, stdout, stderr = client.exec_command(\"sudo yum install -y httpd24 php56 php56-mysqlnd\")\n",
    "#     for line in data:\n",
    "#         print('stdout: ',line)\n",
    "    \n",
    "#     print('sudo yum install -y httpd24 php56 php56-mysqlnd  stderr: ', stderr)\n",
    "    \n",
    "    \n",
    "#     # Start the web server with the below command\n",
    "#     print(\"Starting httpd service\")\n",
    "#     stdin, stdout, stderr = client.exec_command(\"sudo service httpd start\")\n",
    "#     for line in data:\n",
    "#         print('stdout: ',line)\n",
    "#     print('sudo service httpd start  stderr: ', stderr)\n",
    "    \n",
    "    \n",
    "    \n",
    "# except Exception as e:\n",
    "#     print(e)"
   ]
  },
  {
   "cell_type": "markdown",
   "metadata": {},
   "source": [
    "### Uploading Index.php\n",
    "\n",
    "Move to the default web directory and upload the html file in the local machine to EC2 instance using scp as shown below"
   ]
  },
  {
   "cell_type": "code",
   "execution_count": null,
   "metadata": {},
   "outputs": [],
   "source": [
    "# import boto3\n",
    "# import botocore\n",
    "# import paramiko\n",
    "# import time\n",
    "\n",
    "# client = paramiko.SSHClient()\n",
    "# client.set_missing_host_key_policy(paramiko.AutoAddPolicy())\n",
    "\n",
    "\n",
    "# # Connect/ssh to an instance\n",
    "# try:\n",
    "#     # hostname is public DNS address of EC2 instance, key_filename is the private key to connect to instance.\n",
    "#     print(\"Trying to connect\")\n",
    "#     time.sleep(30)\n",
    "#     client.connect(hostname=instance_pub_dns, username='ec2-user', key_filename=\"EC2KeyPair1.pem\")\n",
    "#     print(\"connected to instance\")\n",
    "    \n",
    "#     stdin, stdout, stderr = client.exec_command(\"cd /var/www/html\")\n",
    "    \n",
    "#     stdin, stdout, stderr = client.exec_command(\"sudo chown -R ec2-user /var/www/html/\")\n",
    "    \n",
    "#     sftp = client.open_sftp()\n",
    "#     sftp.put('index.php', '/var/www/html/index.php')\n",
    "    \n",
    "    \n",
    "# except Exception as e:\n",
    "#     print(e)"
   ]
  },
  {
   "cell_type": "markdown",
   "metadata": {},
   "source": [
    "# Save your notebook, then `File > Close and Halt`"
   ]
  }
 ],
 "metadata": {
  "kernelspec": {
   "display_name": "Python 3",
   "language": "python",
   "name": "python3"
  },
  "language_info": {
   "codemirror_mode": {
    "name": "ipython",
    "version": 3
   },
   "file_extension": ".py",
   "mimetype": "text/x-python",
   "name": "python",
   "nbconvert_exporter": "python",
   "pygments_lexer": "ipython3",
   "version": "3.7.3"
  }
 },
 "nbformat": 4,
 "nbformat_minor": 2
}
