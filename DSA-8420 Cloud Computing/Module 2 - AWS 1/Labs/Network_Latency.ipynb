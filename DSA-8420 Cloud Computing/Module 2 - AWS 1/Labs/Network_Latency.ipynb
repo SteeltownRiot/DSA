{
 "cells": [
  {
   "cell_type": "markdown",
   "metadata": {},
   "source": [
    "# Network Latency \n",
    "\n",
    "AWS services and readymade solutions make user's life easy if one knows how to use them. \n",
    "These centers are distributed globally in a strategic way to offer best possible service to customers. \n",
    "Geographic location of physical servers plays important role in the response time of the services. \n",
    "A cloud user in Australia will prefer his server to be in sydney data center rather than virginia data center.\n",
    "Users have the flexibility and liberty to choose where they want their physical machines to be located.  \n",
    "Below image shows all locations of aws data centers and service regions.\n",
    "\n",
    "<img src=\"../images/AWS_infrastructure.PNG\">\n",
    "\n",
    "Leran more about these regions [here](https://aws.amazon.com/about-aws/global-infrastructure/)\n",
    "\n",
    "In the [Launch_Apache_Server](Launch_Apache_Server.ipynb) lab, we have set up a web server and displayed a static webpage with the instance information. In this lab, we will look into some of the basic networking aspects. \n",
    "\n",
    "\n",
    "* So what is the significance of geographical location of servers. \n",
    "* Will it affect the usage and service levels. \n",
    "* Will it affect the quality if service users experience. \n",
    "\n",
    "Lets do a simple demonstration by pinging servers in same availability zones and ones elsewhere.  "
   ]
  },
  {
   "cell_type": "markdown",
   "metadata": {},
   "source": [
    "### What is network latency?\n",
    "\n",
    "Network latency indicates delays that happen in data communication over a network. \n",
    "If the delays are small, \n",
    "then connection is called a low-latency network,\n",
    "but if the network connection is choked with long delays then they are called high latency networks.\n",
    "\n",
    "\n",
    "Normally network latency is seen often in live transmissions/streaming. \n",
    "The communication hops between a ground transmitter, \n",
    "a satellite and from a satellite to a receiver each take time. \n",
    "This latency is the wait time introduced by the signal travelling the geographical distance as well as over the various pieces of communications equipment."
   ]
  },
  {
   "cell_type": "markdown",
   "metadata": {},
   "source": [
    "We will have three ec2 instances created, two in Oregon data center and one in Dublin, Ireland. \n",
    "We will compare the response times to ping servers in same data center vs pin serves in different data centers. \n",
    "\n",
    "\n",
    "**Create EC2 client to launch instances**"
   ]
  },
  {
   "cell_type": "code",
   "execution_count": null,
   "metadata": {},
   "outputs": [],
   "source": [
    "################################### SET THE FOLLOWING PARAMETERS ###################################################\n",
    "#Set the AWS Region\n",
    "region = 'us-west-2'\n",
    "\n",
    "\n",
    "ami_image = 'ami-e689729e'\n",
    "\n",
    "#Set the AWS Access ID (Given to you buy the DSA staff)\n",
    "access_id = 'Put your Access ID here'\n",
    "\n",
    "#Set the AWS Access Key (Given to you buy the DSA staff)\n",
    "access_key = 'Put your Access Secret Key here'\n",
    "\n",
    "#Security group name\n",
    "Sec_group_name_west= \"SG_your_pawprint_West_Oregon\""
   ]
  },
  {
   "cell_type": "code",
   "execution_count": null,
   "metadata": {},
   "outputs": [],
   "source": [
    "#Import AWS' Python Based DEVOPS tools\n",
    "import boto3\n",
    "from botocore.exceptions import ClientError\n",
    "\n",
    "#Import System Tools\n",
    "import collections\n",
    "import json\n",
    "import os\n",
    "import datetime\n",
    "import pandas\n",
    "import time\n",
    "import getpass\n",
    "from subprocess import call\n",
    "\n",
    "#Set the username from system\n",
    "system_user_name=getpass.getuser()\n",
    "\n",
    "# client interface.\n",
    "# Estabilish Credentials/Session\n",
    "ec2 = boto3.client(\n",
    "    'ec2', \n",
    "    region_name=region,\n",
    "    aws_access_key_id=access_id,\n",
    "    aws_secret_access_key=access_key\n",
    ")"
   ]
  },
  {
   "cell_type": "markdown",
   "metadata": {},
   "source": [
    "Create a security group to ve used while launching instances. \n",
    "The inbound rules of the security group should allow SSH requests so we can get into the instances.\n",
    "All all TCP traffic and the ICMP requests to do ping requests. "
   ]
  },
  {
   "cell_type": "markdown",
   "metadata": {},
   "source": [
    "### Test 1:"
   ]
  },
  {
   "cell_type": "code",
   "execution_count": null,
   "metadata": {},
   "outputs": [],
   "source": [
    "sg_group = ec2.create_security_group(\n",
    "    Description='security grp for docker',\n",
    "    GroupName=Sec_group_name_west   # We have set this variable above\n",
    ")\n",
    "Sec_group=sg_group[\"GroupId\"]     # Sec_group should have the new security group ID."
   ]
  },
  {
   "cell_type": "markdown",
   "metadata": {},
   "source": [
    "### Create a Security group for the Oregon center instances \n",
    "\n",
    "Ping operates by sending Internet Control Message Protocol (ICMP/ICMP6) Echo Request packets to the target host and waiting for an ICMP Echo Reply. The echo request (\"ping\") is an ICMP/ICMP6 message. The echo reply is an ICMP message generated in response to an echo request. For ICMP protocol, we dont specify ports, rather we specify message types. To allow ping requests, add the ICMP protocol type and specify 8 (echo request) for the ICMP type and either 0 or -1 (all) for the ICMP code.\n",
    "\n",
    "For example,\n",
    "\n",
    "`\"SecurityGroupIngress\" : [ \n",
    "      { \"IpProtocol\" : \"tcp\", \"FromPort\" : \"22\", \"ToPort\" : \"22\", \"CidrIp\" : \"10.0.0.0/24\" },\n",
    "      { \"IpProtocol\" : \"icmp\", \"FromPort\" : \"8\", \"ToPort\" : \"-1\", \"CidrIp\" : \"10.0.0.0/24\" }\n",
    "    ]`\n",
    "    \n"
   ]
  },
  {
   "cell_type": "markdown",
   "metadata": {},
   "source": [
    "In below cell, we are setting security inbound rules for the security group \"sg_group\" we created above. \n",
    "\n",
    "### Note:\n",
    "\n",
    "Please ckeck for your public IP address in google. Just type \"my ip address\" in search box. Replace the IP address (xxx.xxx.xxx.xxx/32)in below code cell for ICMP protocol with your ip address. "
   ]
  },
  {
   "cell_type": "code",
   "execution_count": null,
   "metadata": {},
   "outputs": [],
   "source": [
    "try:\n",
    "    sec_rule=\"Custom TCP Rule\"    \n",
    "    ec2.authorize_security_group_ingress(GroupId=Sec_group,IpProtocol=\"tcp\",CidrIp=\"0.0.0.0/0\",FromPort=22,ToPort=22)\n",
    "    print(sec_rule+\" added\")\n",
    "except:\n",
    "    print(sec_rule+\" already added\")\n",
    "try:\n",
    "    sec_rule=\"ALL TCP\"\n",
    "    ec2.authorize_security_group_ingress(GroupId=Sec_group,IpProtocol=\"tcp\",CidrIp=\"0.0.0.0/0\",FromPort=0,ToPort=65535)\n",
    "    print(sec_rule+\" added\")\n",
    "except:\n",
    "    print(sec_rule+\" already added\")\n",
    "try:\n",
    "    sec_rule=\"ALL ICMP\"\n",
    "    ec2.authorize_security_group_ingress(GroupId=Sec_group,IpProtocol=\"ICMP\",CidrIp=\"0.0.0.0/0\",FromPort=-1,ToPort=-1)\n",
    "    print(sec_rule+\" added\")\n",
    "except:\n",
    "    print(sec_rule+\" already added\")\n",
    "try:\n",
    "    sec_rule=\"Custom ICMP Rule\"\n",
    "    ec2.authorize_security_group_ingress(GroupId=Sec_group,IpProtocol=\"ICMP\",CidrIp=\"xxx.xxx.xxx.xxx/32\",FromPort=0,ToPort=-1)\n",
    "    print(sec_rule+\" added\")\n",
    "except:\n",
    "    print(sec_rule+\" already added\")  "
   ]
  },
  {
   "cell_type": "markdown",
   "metadata": {},
   "source": [
    "Get the Id of the security group using describe_security_groups() function. The response returns detials of all security groups. Filter the results by specifying the security group name and extract only the required piece of information using key-value pairs. "
   ]
  },
  {
   "cell_type": "code",
   "execution_count": null,
   "metadata": {},
   "outputs": [],
   "source": [
    "desc_sec_groups = ec2.describe_security_groups(\n",
    "    GroupNames=[\n",
    "        Sec_group_name_west,\n",
    "    ]\n",
    ")\n",
    "sg_grp_id1 = desc_sec_groups[\"SecurityGroups\"][0][\"GroupId\"]\n",
    "sg_grp_id1"
   ]
  },
  {
   "cell_type": "markdown",
   "metadata": {},
   "source": [
    "Generate keypair. "
   ]
  },
  {
   "cell_type": "code",
   "execution_count": null,
   "metadata": {},
   "outputs": [],
   "source": [
    "ec2_pem_file1=time.strftime(\"EMR-%d%m%Y%H%M%S-\"+system_user_name)\n",
    "ec2_key1=ec2.create_key_pair(KeyName=ec2_pem_file1)\n",
    "\n",
    "#Don't do this unless you have a good reason\n",
    "#print(emr_key['KeyMaterial'])\n",
    "\n",
    "os.system(\"echo \\\"\"+ec2_key1['KeyMaterial']+\"\\\" > \"+ec2_pem_file1+\".pem\")\n",
    "os.chmod(ec2_pem_file1+\".pem\",400)\n",
    "\n",
    "print(\"KeyName         : \"+ec2_key1['KeyName']+\"\\nKey Fingerprint : \"+ec2_key1['KeyFingerprint'])"
   ]
  },
  {
   "cell_type": "markdown",
   "metadata": {},
   "source": [
    "### Launch instances in Oregon center\n",
    "\n",
    "Use the security group Id identified above to launch 2 instances in Oregon data center. Use the Keypair we just generated. We need 2 instances in Oregon center. \n",
    "\n",
    "\n",
    "\n",
    "<!-- \n",
    "    The AWS machine Id is picked from AWS console.\n",
    "    <img src=\"../images/ami.PNG\">\n",
    "-->"
   ]
  },
  {
   "cell_type": "code",
   "execution_count": null,
   "metadata": {},
   "outputs": [],
   "source": [
    "# Creating 2 Instances in Oregon data center \n",
    "instances = ec2.run_instances(\n",
    "    ImageId=ami_image,\n",
    "    MinCount=2, \n",
    "    MaxCount=2,\n",
    "    KeyName=ec2_pem_file1,\n",
    "    TagSpecifications=[\n",
    "        {\n",
    "            'ResourceType': 'instance',\n",
    "            'Tags': [\n",
    "                        {   'Key': 'Name',\n",
    "                            'Value': 'pingserver_Oregon'\n",
    "                        }\n",
    "                    ]\n",
    "        }\n",
    "    ],\n",
    "    InstanceType=\"t2.micro\",\n",
    "    SecurityGroupIds=[\n",
    "        sg_grp_id1\n",
    "    ]\n",
    ")"
   ]
  },
  {
   "cell_type": "markdown",
   "metadata": {},
   "source": [
    "# <span style=\"background:pink\">Wait until the instances are launched before running the following cell</span>\n",
    "Once the instances are launched, get their tags information, their public IP addresses, avaialbility region and also the public DNS name. We need them in later cells to SSH into them. We used filters to list only t2.micro instances as we know the AMI we picked launches t2.micro instances. The filter, \"instance-state-code\" with value 16 means the instances that are currently running. So we are going to see all running t2.micro instances at the moment along with their Availability region, Public IP address and public DNS name. "
   ]
  },
  {
   "cell_type": "code",
   "execution_count": null,
   "metadata": {},
   "outputs": [],
   "source": [
    "# Get the DNS address, tags and public IP address of instances. We need the DNS address next to SSH into it\n",
    "Oregon_ins_ids=[]\n",
    "for region in ec2.describe_regions()['Regions']:\n",
    "    \n",
    "    idesc = ec2.describe_instances(Filters=[\n",
    "        {\n",
    "            'Name': 'instance-state-code',\n",
    "            'Values': ['16',\n",
    "            ]\n",
    "        },\n",
    "        {\n",
    "            'Name': 'instance-type',\n",
    "            'Values': ['t2.micro',\n",
    "            ]\n",
    "        },\n",
    "        {\n",
    "            'Name':'tag:Name',\n",
    "            'Values':['pingserver_Dublin','pingserver_Oregon']    # Filter instances which have tag pingserver in them.\n",
    "        }\n",
    "    ],)\n",
    "\n",
    "#print(idesc)\n",
    "for r in idesc['Reservations']:\n",
    "        for i in r['Instances']:\n",
    "            if(i['Tags'][0]['Value'] in [\"pingserver_Oregon\"]):\n",
    "                Oregon_ins_ids.append(i[\"InstanceId\"])\n",
    "\n",
    "            print('Region: ',i[\"Placement\"][\"AvailabilityZone\"],'\\n',\n",
    "                  'Public Dns Name: ', i['PublicDnsName'],'\\n','Tags: ', \n",
    "                  i[\"Tags\"],'\\n','Public Ip Address: ', i[\"PublicIpAddress\"], '\\n',\n",
    "                  \"Instance id: \",i[\"InstanceId\"])\n",
    "            print('*'*40)"
   ]
  },
  {
   "cell_type": "code",
   "execution_count": null,
   "metadata": {},
   "outputs": [],
   "source": [
    "Oregon_ins_ids"
   ]
  },
  {
   "cell_type": "markdown",
   "metadata": {},
   "source": [
    "The code in below cell invokes a command shell and shows the ping requests. \n",
    "\n",
    "[Reference for invoke_shell() used in below cell](http://docs.paramiko.org/en/2.2/api/channel.html#paramiko.channel.Channel.invoke_shell)\n",
    "\n",
    "\n",
    "## Note: \n",
    "\n",
    "Change below listed variables in the code cell below. Use the details we printed above. The **\"host DNS\"** would be the first instance public DNS name which among ones with tag \"pingserver_Oregon\". filename is the keypair used to launch the instance. cmd is the ping command with public ip address of second EC2 instance with tag \"pingserver_Oregon\".\n",
    "\n",
    "\n",
    "* host_DNS = $<First\\ instances\\ public\\ DNS\\ name>$\n",
    "* filename = $<keypair\\ used\\ to\\ launch\\ instances>$\n",
    "* cmd = $<Public\\ IP\\ address\\ of\\ the\\ second\\ instance>$\n",
    "\n"
   ]
  },
  {
   "cell_type": "code",
   "execution_count": null,
   "metadata": {},
   "outputs": [],
   "source": [
    "host_DNS = \"ec2-35-162-55-98.us-west-2.compute.amazonaws.com\"\n",
    "username='ec2-user'\n",
    "filename=ec2_pem_file1+\".pem\"\n",
    "\n",
    "cmd = \"ping 34.214.172.61\""
   ]
  },
  {
   "cell_type": "code",
   "execution_count": null,
   "metadata": {},
   "outputs": [],
   "source": [
    "# ping one instance in Oregon center to another instance.\n",
    "\n",
    "import paramiko\n",
    "import sys\n",
    "import time\n",
    "\n",
    "class sampleParamiko:\n",
    "    ssh = \"\"\n",
    "    def __init__(self, host_DNS, uname, keyfile):\n",
    "        try:\n",
    "            self.ssh = paramiko.SSHClient()\n",
    "            self.ssh.set_missing_host_key_policy(paramiko.AutoAddPolicy())\n",
    "            self.ssh.connect(host_DNS, username=uname, key_filename=keyfile)\n",
    "            #print \"In init function\"\n",
    "        except (paramiko.BadHostKeyException, paramiko.AuthenticationException, paramiko.SSHException) as e:\n",
    "            print(str(e))\n",
    "            sys.exit(-1)\n",
    "\n",
    "    def executeCmd(self,cmd):\n",
    "        try:\n",
    "            channel = self.ssh.invoke_shell()\n",
    "            timeout = 60 # timeout is in seconds\n",
    "            channel.settimeout(timeout)\n",
    "            newline        = '\\r'\n",
    "            line_buffer    = ''\n",
    "            channel_buffer = ''\n",
    "            channel.send(cmd + ' ; exit ' + newline)\n",
    "            \n",
    "            endTime = datetime.datetime.now() + datetime.timedelta(seconds=5)\n",
    "    \n",
    "            while True:\n",
    "                if datetime.datetime.now() >= endTime:\n",
    "                    break\n",
    "                channel_buffer = channel.recv(1).decode('UTF-8')\n",
    "                if len(channel_buffer) == 0:\n",
    "                    break \n",
    "                channel_buffer  = channel_buffer.replace('\\r', '')\n",
    "                if channel_buffer != '\\n':\n",
    "                    line_buffer += channel_buffer\n",
    "                else:\n",
    "                    print(line_buffer)\n",
    "                    line_buffer   = ''\n",
    "\n",
    "        except paramiko.SSHException as e:\n",
    "            print(str(e))\n",
    "            sys.exit(-1)\n",
    "            \n",
    "conn_obj = sampleParamiko(host_DNS, username, filename)\n",
    "conn_obj.executeCmd(cmd)"
   ]
  },
  {
   "cell_type": "markdown",
   "metadata": {},
   "source": [
    "So it took less than one milli second to ping from one instance to another one both located in Oregon center.  \n",
    "\n",
    "### Test 2:\n",
    "\n",
    "Repeat this experiment but pinging the instance in Ireland center from one of the instances in Oregon center.\n",
    "\n",
    "\n",
    "Create a new ec2 resource object for Ireland center as we have to create a security for that center. "
   ]
  },
  {
   "cell_type": "code",
   "execution_count": null,
   "metadata": {},
   "outputs": [],
   "source": [
    "################################### SET THE FOLLOWING PARAMETERS ###################################################\n",
    "#Set the AWS Region\n",
    "region = 'eu-west-1'\n",
    "\n",
    "\n",
    "dublin_ami_image = 'ami-0ee415e1b8b71305f'\n",
    "\n",
    "#Set the AWS Access ID (Given to you buy the DSA staff)\n",
    "#Probably, no need to set this since it was set above\n",
    "#access_id = 'Put your Access key ID here'\n",
    "\n",
    "\n",
    "#Set the AWS Access Key (Given to you buy the DSA staff)\n",
    "#Probably, no need to set this since it was set above\n",
    "#access_key = 'Put your Access Secret here'\n",
    "\n",
    "#Security group name\n",
    "Sec_group_name_Dublin= \"SG_your_pawprint_Dublin\""
   ]
  },
  {
   "cell_type": "code",
   "execution_count": null,
   "metadata": {},
   "outputs": [],
   "source": [
    "#Import AWS' Python Based DEVOPS tools\n",
    "import boto3\n",
    "from botocore.exceptions import ClientError\n",
    "\n",
    "#Import System Tools\n",
    "import collections\n",
    "import json\n",
    "import os\n",
    "import datetime\n",
    "import pandas\n",
    "import time\n",
    "import getpass\n",
    "from subprocess import call\n",
    "\n",
    "#Set the username from system\n",
    "system_user_name=getpass.getuser()\n",
    "\n",
    "# client interface.\n",
    "# Estabilish Credentials/Session\n",
    "ec2_Dublin = boto3.client(\n",
    "    'ec2', \n",
    "    region_name=region,\n",
    "    aws_access_key_id=access_id,\n",
    "    aws_secret_access_key=access_key\n",
    ")"
   ]
  },
  {
   "cell_type": "code",
   "execution_count": null,
   "metadata": {},
   "outputs": [],
   "source": [
    "sg_group2 = ec2_Dublin.create_security_group(\n",
    "    Description='This security group is for accessing instance in Ireland',\n",
    "    GroupName=Sec_group_name_Dublin   # We have set this variable above\n",
    ")\n",
    "Sec_group2=sg_group2[\"GroupId\"]     # Sec_group should have the new security group ID."
   ]
  },
  {
   "cell_type": "markdown",
   "metadata": {},
   "source": [
    "Update the security rules just like we did for Oregon security group"
   ]
  },
  {
   "cell_type": "code",
   "execution_count": null,
   "metadata": {},
   "outputs": [],
   "source": [
    "try:\n",
    "    sec_rule=\"Custom TCP Rule\"    \n",
    "    ec2_Dublin.authorize_security_group_ingress(GroupId=Sec_group2,IpProtocol=\"tcp\",CidrIp=\"0.0.0.0/0\",FromPort=22,ToPort=22)\n",
    "    print(sec_rule+\" added\")\n",
    "except:\n",
    "    print(sec_rule+\" already added\")\n",
    "try:\n",
    "    sec_rule=\"ALL TCP\"\n",
    "    ec2_Dublin.authorize_security_group_ingress(GroupId=Sec_group2,IpProtocol=\"tcp\",CidrIp=\"0.0.0.0/0\",FromPort=0,ToPort=65535)\n",
    "    print(sec_rule+\" added\")\n",
    "except:\n",
    "    print(sec_rule+\" already added\")\n",
    "try:\n",
    "    sec_rule=\"ALL ICMP\"\n",
    "    ec2_Dublin.authorize_security_group_ingress(GroupId=Sec_group2,IpProtocol=\"ICMP\",CidrIp=\"0.0.0.0/0\",FromPort=-1,ToPort=-1)\n",
    "    print(sec_rule+\" added\")\n",
    "except:\n",
    "    print(sec_rule+\" already added\")\n",
    "try:\n",
    "    sec_rule=\"Custom ICMP Rule\"\n",
    "    ec2_Dublin.authorize_security_group_ingress(GroupId=Sec_group2,IpProtocol=\"ICMP\",CidrIp=\"xxx.xxx.xxx.xxx/32\",FromPort=0,ToPort=-1)\n",
    "    print(sec_rule+\" added\")\n",
    "except:\n",
    "    print(sec_rule+\" already added\")  "
   ]
  },
  {
   "cell_type": "markdown",
   "metadata": {},
   "source": [
    "Getting the security group Id by running describe_security_groups() method. "
   ]
  },
  {
   "cell_type": "code",
   "execution_count": null,
   "metadata": {},
   "outputs": [],
   "source": [
    "desc_sec_groups = ec2_Dublin.describe_security_groups(\n",
    "    GroupNames=[\n",
    "        Sec_group_name_Dublin,\n",
    "    ]\n",
    ")\n",
    "sg_grp_id2 = desc_sec_groups[\"SecurityGroups\"][0][\"GroupId\"]\n",
    "sg_grp_id2"
   ]
  },
  {
   "cell_type": "markdown",
   "metadata": {},
   "source": [
    "Finally create a keypair for Ireland region as we are about to create an instance."
   ]
  },
  {
   "cell_type": "code",
   "execution_count": null,
   "metadata": {},
   "outputs": [],
   "source": [
    "ec2_pem_file2=time.strftime(\"EMR-dublin-%d%m%Y%H%M%S-\"+system_user_name)\n",
    "ec2_key2=ec2_Dublin.create_key_pair(KeyName=ec2_pem_file2)\n",
    "\n",
    "#Don't do this unless you have a good reason\n",
    "#print(emr_key['KeyMaterial'])\n",
    "\n",
    "os.system(\"echo \\\"\"+ec2_key2['KeyMaterial']+\"\\\" > \"+ec2_pem_file2+\".pem\")\n",
    "os.chmod(ec2_pem_file2+\".pem\",400)\n",
    "\n",
    "print(\"KeyName         : \"+ec2_key2['KeyName']+\"\\nKey Fingerprint : \"+ec2_key2['KeyFingerprint'])"
   ]
  },
  {
   "cell_type": "markdown",
   "metadata": {},
   "source": [
    "Run one instance using the keypair and security group created above for Ireland center. "
   ]
  },
  {
   "cell_type": "code",
   "execution_count": null,
   "metadata": {},
   "outputs": [],
   "source": [
    "# Creating 1 Instances in Ireland data center \n",
    "instances = ec2_Dublin.run_instances(\n",
    "    ImageId=dublin_ami_image,\n",
    "    MinCount=1, \n",
    "    MaxCount=1,\n",
    "    KeyName=ec2_pem_file2,\n",
    "    TagSpecifications=[\n",
    "        {\n",
    "            'ResourceType': 'instance',\n",
    "            'Tags': [\n",
    "                        {   'Key': 'Name',\n",
    "                            'Value': 'pingserver_Dublin'\n",
    "                        }\n",
    "                    ]\n",
    "        }\n",
    "    ],\n",
    "    InstanceType=\"t2.micro\",\n",
    "    SecurityGroupIds=[\n",
    "        sg_grp_id2,\n",
    "    ]\n",
    ")\n"
   ]
  },
  {
   "cell_type": "markdown",
   "metadata": {},
   "source": [
    "# <span style=\"background:pink\">Wait until the instance is launched before running the following cell</span>\n"
   ]
  },
  {
   "cell_type": "code",
   "execution_count": null,
   "metadata": {},
   "outputs": [],
   "source": [
    "# Get the DNS address, tags and public IP address of all instances. We need the DNS addresses in next cell to SSH into them\n",
    "\n",
    "# Empty list to capture the instance ids of all instances we just created. Instance ids are captured\n",
    "# to delete the instances once we are done with the experiment.\n",
    "Dublin_ins_ids=[]\n",
    "\n",
    "for region in ec2_Dublin.describe_regions()['Regions']:\n",
    "    \n",
    "    idesc = ec2_Dublin.describe_instances(Filters=[\n",
    "        {\n",
    "            'Name': 'instance-state-code',    # Filter instances who are currently running\n",
    "            'Values': ['16',\n",
    "            ]\n",
    "        },\n",
    "        {\n",
    "            'Name': 'instance-type',         # Filter instances whose type is \"t2.micro\"\n",
    "            'Values': ['t2.micro',\n",
    "            ]\n",
    "        },\n",
    "        {\n",
    "            'Name':'tag:Name',\n",
    "            'Values':['pingserver_Dublin','pingserver_Oregon']    # Filter instances which have tag pingserver in them.\n",
    "        }\n",
    "    ],)\n",
    "#     print(idesc)\n",
    "    \n",
    "for r in idesc['Reservations']:\n",
    "        for i in r['Instances']:\n",
    "            if(i[\"Tags\"][0]['Value'] in [\"pingserver_Dublin\"]):\n",
    "                Dublin_ins_ids.append(i[\"InstanceId\"])\n",
    "\n",
    "            print('Region: ',i[\"Placement\"][\"AvailabilityZone\"],'\\n',\n",
    "              'Public Dns Name: ', i['PublicDnsName'],'\\n','Tags: ', \n",
    "              i[\"Tags\"],'\\n','Public Ip Address: ', i[\"PublicIpAddress\"], '\\n',\n",
    "              \"Instance id: \",i[\"InstanceId\"])\n",
    "            print('*'*40)"
   ]
  },
  {
   "cell_type": "markdown",
   "metadata": {},
   "source": [
    "The instance ids are stored in in_ids variable. "
   ]
  },
  {
   "cell_type": "code",
   "execution_count": null,
   "metadata": {},
   "outputs": [],
   "source": [
    "print(Oregon_ins_ids)\n",
    "print(Dublin_ins_ids)"
   ]
  },
  {
   "cell_type": "markdown",
   "metadata": {},
   "source": []
  },
  {
   "cell_type": "code",
   "execution_count": null,
   "metadata": {},
   "outputs": [],
   "source": [
    "dublin_host_DNS = \"ec2-52-50-224-62.eu-west-1.compute.amazonaws.com\"     # Dublin instance Public DNS address\n",
    "username='ec2-user'\n",
    "filename=ec2_pem_file2+\".pem\"\n",
    "\n",
    "# You can probably just leave this from above,\n",
    "# but it should be one of the Oregon instance's public IP addresses\n",
    "# cmd = \"ping 54.70.234.116\""
   ]
  },
  {
   "cell_type": "code",
   "execution_count": null,
   "metadata": {},
   "outputs": [],
   "source": [
    "# ping from (instance in Ireland) to (instance in Oregon)\n",
    "# Pinging a EC2 instance in Oregon from Dublin instance\n",
    "\n",
    "\n",
    "import paramiko\n",
    "import sys\n",
    "import time\n",
    "\n",
    "class sampleParamiko:\n",
    "    ssh = \"\"\n",
    "    def __init__(self, host_DNS, uname, keyfile):\n",
    "        try:\n",
    "            self.ssh = paramiko.SSHClient()\n",
    "            self.ssh.set_missing_host_key_policy(paramiko.AutoAddPolicy())\n",
    "            self.ssh.connect(host_DNS, username=uname, key_filename=keyfile)\n",
    "            #print \"In init function\"\n",
    "        except (paramiko.BadHostKeyException, paramiko.AuthenticationException, paramiko.SSHException) as e:\n",
    "            print(str(e))\n",
    "            sys.exit(-1)\n",
    "\n",
    "    def executeCmd(self,cmd):\n",
    "        try:\n",
    "            channel = self.ssh.invoke_shell()\n",
    "            timeout = 60 # timeout is in seconds\n",
    "            channel.settimeout(timeout)\n",
    "            newline        = '\\r'\n",
    "            line_buffer    = ''\n",
    "            channel_buffer = ''\n",
    "            channel.send(cmd + ' ; exit ' + newline)\n",
    "            \n",
    "            endTime = datetime.datetime.now() + datetime.timedelta(seconds=5)\n",
    "    \n",
    "            while True:\n",
    "                if datetime.datetime.now() >= endTime:\n",
    "                    break\n",
    "                channel_buffer = channel.recv(1).decode('UTF-8')\n",
    "                if len(channel_buffer) == 0:\n",
    "                    break \n",
    "                channel_buffer  = channel_buffer.replace('\\r', '')\n",
    "                if channel_buffer != '\\n':\n",
    "                    line_buffer += channel_buffer\n",
    "                else:\n",
    "                    print(line_buffer)\n",
    "                    line_buffer   = ''\n",
    "\n",
    "        except paramiko.SSHException as e:\n",
    "            print(str(e))\n",
    "            sys.exit(-1)\n",
    "            \n",
    "conn_obj = sampleParamiko(dublin_host_DNS, username, filename)\n",
    "conn_obj.executeCmd(cmd)"
   ]
  },
  {
   "cell_type": "markdown",
   "metadata": {},
   "source": [
    "There it is, It is taking a 100 times longer to complete a ping request between an instance in Oregon and one in Ireland. This proves the point made earlier in this notebook that geographic location of physical servers have impact on communication overhead, speed, service quality and user experience etc. "
   ]
  },
  {
   "cell_type": "markdown",
   "metadata": {},
   "source": [
    "# Delete the Keypairs created"
   ]
  },
  {
   "cell_type": "code",
   "execution_count": null,
   "metadata": {},
   "outputs": [],
   "source": [
    "# Delete SSH Keypair\n",
    "\n",
    "try:\n",
    "    os.remove(ec2_pem_file1+'.pem')\n",
    "    print('Local Key Deleted')\n",
    "\n",
    "    os.remove(ec2_pem_file2+'.pem')\n",
    "    print('Local Key Deleted')\n",
    "\n",
    "except:\n",
    "    print('Local Key Not Found')\n",
    "    \n",
    "delete_keys_response1 = ec2.delete_key_pair(KeyName=ec2_pem_file1)\n",
    "print('\\nAWS Metadata: ')\n",
    "print('http Status Code : '+str(delete_keys_response1['ResponseMetadata']['HTTPStatusCode']))\n",
    "print('Request ID       : '+delete_keys_response1['ResponseMetadata']['RequestId'])\n",
    "print('Retries          : '+str(delete_keys_response1['ResponseMetadata']['RetryAttempts']))\n",
    "\n",
    "delete_keys_response2 = ec2_Dublin.delete_key_pair(KeyName=ec2_pem_file2)\n",
    "print('\\nAWS Metadata: ')\n",
    "print('http Status Code : '+str(delete_keys_response2['ResponseMetadata']['HTTPStatusCode']))\n",
    "print('Request ID       : '+delete_keys_response2['ResponseMetadata']['RequestId'])\n",
    "print('Retries          : '+str(delete_keys_response2['ResponseMetadata']['RetryAttempts']))"
   ]
  },
  {
   "cell_type": "markdown",
   "metadata": {},
   "source": [
    "# Delete the instances created"
   ]
  },
  {
   "cell_type": "code",
   "execution_count": null,
   "metadata": {},
   "outputs": [],
   "source": [
    "import numpy as np\n",
    "\n",
    "for i in np.arange(0,len(Oregon_ins_ids)):\n",
    "    out = ec2.terminate_instances(\n",
    "    InstanceIds=[Oregon_ins_ids[i]])\n",
    "    print(out)\n",
    "    print('*'*40)\n",
    "    \n",
    "for i in np.arange(0,len(Dublin_ins_ids)):\n",
    "    out = ec2_Dublin.terminate_instances(\n",
    "    InstanceIds=[Dublin_ins_ids[i]])\n",
    "    print(out)\n",
    "    print('*'*40)"
   ]
  },
  {
   "cell_type": "markdown",
   "metadata": {},
   "source": [
    "# <span style=\"background:pink\">Wait for the instances to shut down. You cannot delete a security group when an instance is using it. </span>\n",
    "\n"
   ]
  },
  {
   "cell_type": "markdown",
   "metadata": {},
   "source": [
    "# Delete the Security Group"
   ]
  },
  {
   "cell_type": "code",
   "execution_count": null,
   "metadata": {},
   "outputs": [],
   "source": [
    "del_Org_SG_response = ec2.delete_security_group(\n",
    "    GroupId=sg_grp_id1\n",
    ")\n",
    "print(del_Org_SG_response)\n",
    "\n",
    "del_Dub_SG_response = ec2_Dublin.delete_security_group(\n",
    "    GroupId=sg_grp_id2\n",
    ")\n",
    "print(del_Dub_SG_response)"
   ]
  },
  {
   "cell_type": "markdown",
   "metadata": {},
   "source": [
    "## Using terminal to ping the instances\n",
    "\n",
    "\n",
    "Its easy to the same thing as above using terminal. \n",
    "We have all 3 three EC2 instances(two in Oregon center and one in Dublin center) up and running. \n",
    "SSH into them and ping one another. \n",
    "In below screen shot we SSHed into Oregon instance using KeyPair `EC2KeyPairDublin.pem` \n",
    "and pinged one server in Oregon region. It took around 140 ms for a response in ping request.\n",
    "\n",
    "\n",
    "\n",
    "<img src=\"../images/dublin_to_Oregon.PNG\">\n",
    "\n"
   ]
  },
  {
   "cell_type": "markdown",
   "metadata": {},
   "source": [
    "-----\n",
    "\n",
    "\n",
    "In below screen shot we SSHed into one of the instance in Oregon using KeyPair `EC2KeyPair1.pem` \n",
    "and pinged other server in Oregon region. \n",
    "It took around 0.5 to 0.7 ms to get a response in ping request. \n",
    "Since the time taken is in milli seconds we cannot feel any difference in time taken \n",
    "to get a response in ping request but when you are dealing with Giga bytes of data then it makes a huge difference. \n",
    "You might transfer files, intermediate processing results, \n",
    "pipeline processing between instances etc. \n",
    "So its important to choose instances wisely based on their geographic location.   \n",
    "\n",
    "\n",
    "<img src=\"../images/Oregon_to_Oregon.PNG\">"
   ]
  },
  {
   "cell_type": "markdown",
   "metadata": {},
   "source": [
    "# Save your notebook, then `File > Close and Halt`"
   ]
  }
 ],
 "metadata": {
  "kernelspec": {
   "display_name": "Python 3",
   "language": "python",
   "name": "python3"
  },
  "language_info": {
   "codemirror_mode": {
    "name": "ipython",
    "version": 3
   },
   "file_extension": ".py",
   "mimetype": "text/x-python",
   "name": "python",
   "nbconvert_exporter": "python",
   "pygments_lexer": "ipython3",
   "version": "3.7.3"
  }
 },
 "nbformat": 4,
 "nbformat_minor": 2
}
