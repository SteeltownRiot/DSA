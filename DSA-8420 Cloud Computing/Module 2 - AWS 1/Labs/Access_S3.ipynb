{
 "cells": [
  {
   "cell_type": "markdown",
   "metadata": {},
   "source": [
    "This file simply connects to the S3 service and downloads the file in S3 bucket. "
   ]
  },
  {
   "cell_type": "code",
   "execution_count": null,
   "metadata": {},
   "outputs": [],
   "source": [
    "################################### SET THE FOLLOWING PARAMETERS ###################################################\n",
    "#Set the AWS Region\n",
    "region = 'us-east-1'\n",
    "\n",
    "#Set the AWS Access ID (Given to you buy the DSA staff: \"Access key ID\")\n",
    "access_id = '<your key here>'\n",
    "\n",
    "#Set the AWS Access Key (Given to you buy the DSA staff: \"Secret access key\")\n",
    "access_key = '<your key here>'"
   ]
  },
  {
   "cell_type": "code",
   "execution_count": null,
   "metadata": {},
   "outputs": [],
   "source": [
    "#Import AWS' Python Based DEVOPS tools\n",
    "\n",
    "import boto3\n",
    "import botocore\n",
    "from botocore.exceptions import ClientError\n",
    "#Import System Tools\n",
    "import getpass\n",
    "import collections\n",
    "import json\n",
    "import os\n",
    "import datetime\n",
    "import pandas\n",
    "\n",
    "\n",
    "# client interface.\n",
    "# Estabilish Credentials/Session\n",
    "s3 = boto3.resource(\n",
    "    's3', \n",
    "    region_name=region,\n",
    "    aws_access_key_id=access_id,\n",
    "    aws_secret_access_key=access_key\n",
    ")"
   ]
  },
  {
   "cell_type": "markdown",
   "metadata": {},
   "source": [
    "You are telling S3 to go to the bucket in \"BUCKET_NAME\" and download board_games.csv file as \"board_games.csv\""
   ]
  },
  {
   "cell_type": "code",
   "execution_count": null,
   "metadata": {},
   "outputs": [],
   "source": [
    "BUCKET_NAME = '<your bucket_name here>' # Get the bucket name from Jupyter_from_Docker.ipynb lab in module 2 where you uploaded board_games.csv\n",
    "KEY = 'board_games.csv' # replace with your object key\n",
    "\n",
    "s3 = boto3.resource('s3', \n",
    "                   aws_access_key_id = access_id, \n",
    "                   aws_secret_access_key = access_key)\n",
    "\n",
    "try:\n",
    "   \n",
    "    s3.Bucket(BUCKET_NAME).download_file(KEY, 'board_games.csv')   # key has the file name to be downloaded, download.txt is the \n",
    "                                                                # name of downloaded file.\n",
    "except botocore.exceptions.ClientError as e:\n",
    "    if e.response['Error']['Code'] == \"404\":\n",
    "        print(\"The object does not exist.\")\n",
    "    else:\n",
    "        raise"
   ]
  }
 ],
 "metadata": {
  "kernelspec": {
   "display_name": "Python 3",
   "language": "python",
   "name": "python3"
  },
  "language_info": {
   "codemirror_mode": {
    "name": "ipython",
    "version": 3
   },
   "file_extension": ".py",
   "mimetype": "text/x-python",
   "name": "python",
   "nbconvert_exporter": "python",
   "pygments_lexer": "ipython3",
   "version": "3.7.3"
  }
 },
 "nbformat": 4,
 "nbformat_minor": 2
}
