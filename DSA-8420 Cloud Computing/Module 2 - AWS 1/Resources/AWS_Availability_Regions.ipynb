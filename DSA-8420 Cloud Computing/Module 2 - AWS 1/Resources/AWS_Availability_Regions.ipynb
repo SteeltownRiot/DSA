{
 "cells": [
  {
   "cell_type": "markdown",
   "metadata": {},
   "source": [
    "# AWS Regions and Availability zones\n",
    "\n",
    "\n",
    "From AWS documentation, there are 69 availability zones within 22 geographic Regions around the world. You can find the details of the facilities [here](https://aws.amazon.com/about-aws/global-infrastructure/)\n",
    "\n",
    "\n",
    "### Access AWS using Command Line Interface\n",
    "\n",
    "[Getting Started with Amazon EC2 Linux Instances](http://docs.aws.amazon.com/AWSEC2/latest/UserGuide/EC2_GetStarted.html#ec2-connect-to-instance-linux)\n",
    "\n",
    "[Connecting to Your Linux Instance Using SSH](http://docs.aws.amazon.com/AWSEC2/latest/UserGuide/AccessingInstancesLinux.html)\n",
    "\n",
    "[Connecting to Your Linux Instance from Windows Using PuTTY](http://docs.aws.amazon.com/AWSEC2/latest/UserGuide/putty.html)\n",
    "\n",
    "\n",
    "\n",
    "### Access AWS using API's and SDK\n",
    "\n",
    "\n",
    "[Making API Requests](http://docs.aws.amazon.com/AWSEC2/latest/APIReference/making-api-requests.html)\n",
    "\n"
   ]
  }
 ],
 "metadata": {
  "kernelspec": {
   "display_name": "Python 3",
   "language": "python",
   "name": "python3"
  },
  "language_info": {
   "codemirror_mode": {
    "name": "ipython",
    "version": 3
   },
   "file_extension": ".py",
   "mimetype": "text/x-python",
   "name": "python",
   "nbconvert_exporter": "python",
   "pygments_lexer": "ipython3",
   "version": "3.7.3"
  }
 },
 "nbformat": 4,
 "nbformat_minor": 2
}
