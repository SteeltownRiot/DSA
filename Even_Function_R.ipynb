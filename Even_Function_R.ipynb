{
 "cells": [
  {
   "cell_type": "code",
   "execution_count": 1,
   "metadata": {},
   "outputs": [],
   "source": [
    "testArray1 = c(1)\n",
    "testArray2 = c(1,2)\n",
    "testArray3 = c(1,2,3,4,5,6)\n",
    "testArray4 = c(-200.25)\n",
    "testArray5 = c(-800.1, 2000, 3.1, -1000.25, 42, 600)\n"
   ]
  },
  {
   "cell_type": "code",
   "execution_count": 2,
   "metadata": {},
   "outputs": [],
   "source": [
    "isEven <- function(array) {\n",
    "    evenNumbers <- c()\n",
    "    for (i in 1:length(array)){\n",
    "        if (array[i] %% 2 == 0){\n",
    "            evenNumbers <- c(evenNumbers, array[i])\n",
    "            }\n",
    "        }\n",
    "    return (evenNumbers)\n",
    "}\n"
   ]
  },
  {
   "cell_type": "code",
   "execution_count": null,
   "metadata": {},
   "outputs": [],
   "source": [
    "#array = testArray2\n",
    "\n",
    "#isEven <- function(array) {\n",
    "#    evenNumbers = array[lapply(array, \"%%\", 2) == 0]\n",
    "#    }\n",
    "\n",
    "#print(\"Even numbers in the list: \", evenNumbers)"
   ]
  },
  {
   "cell_type": "code",
   "execution_count": 8,
   "metadata": {},
   "outputs": [
    {
     "data": {
      "text/html": [
       "'Even numbers in the list: '"
      ],
      "text/latex": [
       "'Even numbers in the list: '"
      ],
      "text/markdown": [
       "'Even numbers in the list: '"
      ],
      "text/plain": [
       "[1] \"Even numbers in the list: \""
      ]
     },
     "metadata": {},
     "output_type": "display_data"
    },
    {
     "data": {
      "text/html": [],
      "text/latex": [],
      "text/markdown": [],
      "text/plain": [
       "character(0)"
      ]
     },
     "metadata": {},
     "output_type": "display_data"
    }
   ],
   "source": [
    "paste(\"Even numbers in the list: \")\n",
    "paste(isEven(testArray1))\n"
   ]
  },
  {
   "cell_type": "code",
   "execution_count": 9,
   "metadata": {},
   "outputs": [
    {
     "data": {
      "text/html": [
       "'Even numbers in the list: '"
      ],
      "text/latex": [
       "'Even numbers in the list: '"
      ],
      "text/markdown": [
       "'Even numbers in the list: '"
      ],
      "text/plain": [
       "[1] \"Even numbers in the list: \""
      ]
     },
     "metadata": {},
     "output_type": "display_data"
    },
    {
     "data": {
      "text/html": [
       "'2'"
      ],
      "text/latex": [
       "'2'"
      ],
      "text/markdown": [
       "'2'"
      ],
      "text/plain": [
       "[1] \"2\""
      ]
     },
     "metadata": {},
     "output_type": "display_data"
    }
   ],
   "source": [
    "paste(\"Even numbers in the list: \")\n",
    "paste(isEven(testArray2))\n"
   ]
  },
  {
   "cell_type": "code",
   "execution_count": 10,
   "metadata": {},
   "outputs": [
    {
     "data": {
      "text/html": [
       "'Even numbers in the list: '"
      ],
      "text/latex": [
       "'Even numbers in the list: '"
      ],
      "text/markdown": [
       "'Even numbers in the list: '"
      ],
      "text/plain": [
       "[1] \"Even numbers in the list: \""
      ]
     },
     "metadata": {},
     "output_type": "display_data"
    },
    {
     "data": {
      "text/html": [
       "<ol class=list-inline>\n",
       "\t<li>'2'</li>\n",
       "\t<li>'4'</li>\n",
       "\t<li>'6'</li>\n",
       "</ol>\n"
      ],
      "text/latex": [
       "\\begin{enumerate*}\n",
       "\\item '2'\n",
       "\\item '4'\n",
       "\\item '6'\n",
       "\\end{enumerate*}\n"
      ],
      "text/markdown": [
       "1. '2'\n",
       "2. '4'\n",
       "3. '6'\n",
       "\n",
       "\n"
      ],
      "text/plain": [
       "[1] \"2\" \"4\" \"6\""
      ]
     },
     "metadata": {},
     "output_type": "display_data"
    }
   ],
   "source": [
    "paste(\"Even numbers in the list: \")\n",
    "paste(isEven(testArray3))\n"
   ]
  },
  {
   "cell_type": "code",
   "execution_count": 11,
   "metadata": {},
   "outputs": [
    {
     "data": {
      "text/html": [
       "'Even numbers in the list: '"
      ],
      "text/latex": [
       "'Even numbers in the list: '"
      ],
      "text/markdown": [
       "'Even numbers in the list: '"
      ],
      "text/plain": [
       "[1] \"Even numbers in the list: \""
      ]
     },
     "metadata": {},
     "output_type": "display_data"
    },
    {
     "data": {
      "text/html": [],
      "text/latex": [],
      "text/markdown": [],
      "text/plain": [
       "character(0)"
      ]
     },
     "metadata": {},
     "output_type": "display_data"
    }
   ],
   "source": [
    "paste(\"Even numbers in the list: \")\n",
    "paste(isEven(testArray4))\n"
   ]
  },
  {
   "cell_type": "code",
   "execution_count": 12,
   "metadata": {},
   "outputs": [
    {
     "data": {
      "text/html": [
       "'Even numbers in the list: '"
      ],
      "text/latex": [
       "'Even numbers in the list: '"
      ],
      "text/markdown": [
       "'Even numbers in the list: '"
      ],
      "text/plain": [
       "[1] \"Even numbers in the list: \""
      ]
     },
     "metadata": {},
     "output_type": "display_data"
    },
    {
     "data": {
      "text/html": [
       "<ol class=list-inline>\n",
       "\t<li>'2000'</li>\n",
       "\t<li>'42'</li>\n",
       "\t<li>'600'</li>\n",
       "</ol>\n"
      ],
      "text/latex": [
       "\\begin{enumerate*}\n",
       "\\item '2000'\n",
       "\\item '42'\n",
       "\\item '600'\n",
       "\\end{enumerate*}\n"
      ],
      "text/markdown": [
       "1. '2000'\n",
       "2. '42'\n",
       "3. '600'\n",
       "\n",
       "\n"
      ],
      "text/plain": [
       "[1] \"2000\" \"42\"   \"600\" "
      ]
     },
     "metadata": {},
     "output_type": "display_data"
    }
   ],
   "source": [
    "paste(\"Even numbers in the list: \")\n",
    "paste(isEven(testArray5))\n"
   ]
  },
  {
   "cell_type": "code",
   "execution_count": null,
   "metadata": {},
   "outputs": [],
   "source": []
  }
 ],
 "metadata": {
  "kernelspec": {
   "display_name": "R",
   "language": "R",
   "name": "ir"
  },
  "language_info": {
   "codemirror_mode": "r",
   "file_extension": ".r",
   "mimetype": "text/x-r-source",
   "name": "R",
   "pygments_lexer": "r",
   "version": "3.5.1"
  }
 },
 "nbformat": 4,
 "nbformat_minor": 2
}
