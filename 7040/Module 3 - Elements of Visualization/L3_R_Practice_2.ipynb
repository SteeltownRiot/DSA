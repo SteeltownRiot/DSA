{
 "cells": [
  {
   "cell_type": "markdown",
   "source": [
    "# Module 3 R Practice 2"
   ],
   "metadata": {}
  },
  {
   "cell_type": "markdown",
   "source": [
    "In this notebook, we will do more practices of creating plots to explore data. "
   ],
   "metadata": {}
  },
  {
   "cell_type": "markdown",
   "source": [
    "### References for plotting in R\n",
    "\n",
    "\n",
    "* **Reference** [ggplot documentation](https://ggplot2.tidyverse.org/reference/)\n",
    "* **Reference** [R ggplot package](https://cran.r-project.org/web/packages/ggplot2/ggplot2.pdf)\n",
    "* **Reference** [R ggplot cheatsheet](https://github.com/rstudio/cheatsheets/blob/master/data-visualization-2.1.pdf)\n",
    "* **Reference** Nice ggplot examples: [example 1](https://www.bioss.ac.uk/people/helen/ggplot2Intro.html), [example 2](http://rstudio-pubs-static.s3.amazonaws.com/284329_c7e660636fec4a42a09eed968dc47f32.html)\n",
    "* **Reference** [R color cheatsheet](http://www.guianaplants.stir.ac.uk/seminar/materials/colorPaletteCheatsheet.pdf)\n",
    "\n",
    "---"
   ],
   "metadata": {}
  },
  {
   "cell_type": "code",
   "execution_count": 1,
   "source": [
    "library(ggplot2)"
   ],
   "outputs": [],
   "metadata": {}
  },
  {
   "cell_type": "markdown",
   "source": [
    "**Let's create some plots with the `iris` data set.** "
   ],
   "metadata": {}
  },
  {
   "cell_type": "code",
   "execution_count": 2,
   "source": [
    "str(iris)\r\n",
    "head(iris)"
   ],
   "outputs": [
    {
     "output_type": "stream",
     "name": "stdout",
     "text": [
      "'data.frame':\t150 obs. of  5 variables:\n",
      " $ Sepal.Length: num  5.1 4.9 4.7 4.6 5 5.4 4.6 5 4.4 4.9 ...\n",
      " $ Sepal.Width : num  3.5 3 3.2 3.1 3.6 3.9 3.4 3.4 2.9 3.1 ...\n",
      " $ Petal.Length: num  1.4 1.4 1.3 1.5 1.4 1.7 1.4 1.5 1.4 1.5 ...\n",
      " $ Petal.Width : num  0.2 0.2 0.2 0.2 0.2 0.4 0.3 0.2 0.2 0.1 ...\n",
      " $ Species     : Factor w/ 3 levels \"setosa\",\"versicolor\",..: 1 1 1 1 1 1 1 1 1 1 ...\n"
     ]
    },
    {
     "output_type": "display_data",
     "data": {
      "text/html": [
       "<table>\n",
       "<caption>A data.frame: 6 × 5</caption>\n",
       "<thead>\n",
       "\t<tr><th scope=col>Sepal.Length</th><th scope=col>Sepal.Width</th><th scope=col>Petal.Length</th><th scope=col>Petal.Width</th><th scope=col>Species</th></tr>\n",
       "\t<tr><th scope=col>&lt;dbl&gt;</th><th scope=col>&lt;dbl&gt;</th><th scope=col>&lt;dbl&gt;</th><th scope=col>&lt;dbl&gt;</th><th scope=col>&lt;fct&gt;</th></tr>\n",
       "</thead>\n",
       "<tbody>\n",
       "\t<tr><td>5.1</td><td>3.5</td><td>1.4</td><td>0.2</td><td>setosa</td></tr>\n",
       "\t<tr><td>4.9</td><td>3.0</td><td>1.4</td><td>0.2</td><td>setosa</td></tr>\n",
       "\t<tr><td>4.7</td><td>3.2</td><td>1.3</td><td>0.2</td><td>setosa</td></tr>\n",
       "\t<tr><td>4.6</td><td>3.1</td><td>1.5</td><td>0.2</td><td>setosa</td></tr>\n",
       "\t<tr><td>5.0</td><td>3.6</td><td>1.4</td><td>0.2</td><td>setosa</td></tr>\n",
       "\t<tr><td>5.4</td><td>3.9</td><td>1.7</td><td>0.4</td><td>setosa</td></tr>\n",
       "</tbody>\n",
       "</table>\n"
      ],
      "text/latex": [
       "A data.frame: 6 × 5\n",
       "\\begin{tabular}{r|lllll}\n",
       " Sepal.Length & Sepal.Width & Petal.Length & Petal.Width & Species\\\\\n",
       " <dbl> & <dbl> & <dbl> & <dbl> & <fct>\\\\\n",
       "\\hline\n",
       "\t 5.1 & 3.5 & 1.4 & 0.2 & setosa\\\\\n",
       "\t 4.9 & 3.0 & 1.4 & 0.2 & setosa\\\\\n",
       "\t 4.7 & 3.2 & 1.3 & 0.2 & setosa\\\\\n",
       "\t 4.6 & 3.1 & 1.5 & 0.2 & setosa\\\\\n",
       "\t 5.0 & 3.6 & 1.4 & 0.2 & setosa\\\\\n",
       "\t 5.4 & 3.9 & 1.7 & 0.4 & setosa\\\\\n",
       "\\end{tabular}\n"
      ],
      "text/markdown": [
       "\n",
       "A data.frame: 6 × 5\n",
       "\n",
       "| Sepal.Length &lt;dbl&gt; | Sepal.Width &lt;dbl&gt; | Petal.Length &lt;dbl&gt; | Petal.Width &lt;dbl&gt; | Species &lt;fct&gt; |\n",
       "|---|---|---|---|---|\n",
       "| 5.1 | 3.5 | 1.4 | 0.2 | setosa |\n",
       "| 4.9 | 3.0 | 1.4 | 0.2 | setosa |\n",
       "| 4.7 | 3.2 | 1.3 | 0.2 | setosa |\n",
       "| 4.6 | 3.1 | 1.5 | 0.2 | setosa |\n",
       "| 5.0 | 3.6 | 1.4 | 0.2 | setosa |\n",
       "| 5.4 | 3.9 | 1.7 | 0.4 | setosa |\n",
       "\n"
      ],
      "text/plain": [
       "  Sepal.Length Sepal.Width Petal.Length Petal.Width Species\n",
       "1 5.1          3.5         1.4          0.2         setosa \n",
       "2 4.9          3.0         1.4          0.2         setosa \n",
       "3 4.7          3.2         1.3          0.2         setosa \n",
       "4 4.6          3.1         1.5          0.2         setosa \n",
       "5 5.0          3.6         1.4          0.2         setosa \n",
       "6 5.4          3.9         1.7          0.4         setosa "
      ]
     },
     "metadata": {}
    }
   ],
   "metadata": {}
  },
  {
   "cell_type": "code",
   "execution_count": 3,
   "source": [
    "# start with a simple scatter plot: \r\n",
    "\r\n",
    "iris1 <- ggplot(data=iris, aes(x=Sepal.Length, y=Sepal.Width)) \r\n",
    "iris1 + geom_point()"
   ],
   "outputs": [
    {
     "output_type": "display_data",
     "data": {
      "image/png": "[encoded data removed]",
      "text/plain": [
       "plot without title"
      ]
     },
     "metadata": {}
    }
   ],
   "metadata": {}
  },
  {
   "cell_type": "markdown",
   "source": [
    "**YOUR TURN: Add color and shape aesthetics to the geom_point() so that Species are visualized by both visual channels:**"
   ],
   "metadata": {}
  },
  {
   "cell_type": "code",
   "execution_count": null,
   "source": [
    "iris1 + geom_point(aes(<YOUR CODE>))"
   ],
   "outputs": [],
   "metadata": {}
  },
  {
   "cell_type": "markdown",
   "source": [
    "**Let's make this plot nicer:** Let's add nice labels and make it visually more pleasing. We can also add lines to show the mean values. "
   ],
   "metadata": {}
  },
  {
   "cell_type": "code",
   "execution_count": null,
   "source": [
    "iris2 <- iris1 + geom_point(aes(<YOUR CODE>), size=3, alpha=0.6) + \r\n",
    "\r\n",
    "                 geom_vline(aes(xintercept = mean(Sepal.Length)), color = \"black\", linetype = \"dashed\") +\r\n",
    "                 geom_hline(aes(yintercept = mean(Sepal.Width)), color = \"black\", linetype = \"dashed\") +\r\n",
    "\r\n",
    "                theme_minimal() + \r\n",
    "                labs(x=\"Sepal Length\", y=\"Sepal Width\") +\r\n",
    "                theme(aspect.ratio=0.7)\r\n",
    "iris2"
   ],
   "outputs": [],
   "metadata": {}
  },
  {
   "cell_type": "markdown",
   "source": [
    "A scatter plot can show the distribution of data points for two dimensions (data atttributes). \n",
    "\n",
    "\n",
    "\n",
    "**Let's do a boxplot to see if attribute distributions are separable among the species.** Boxplots are good to visualize some descriptive statistics. "
   ],
   "metadata": {}
  },
  {
   "cell_type": "code",
   "execution_count": null,
   "source": [
    "iris3 <- ggplot(data=iris, aes(x=Species, y=Sepal.Length)) + geom_boxplot()\r\n",
    "iris3"
   ],
   "outputs": [],
   "metadata": {}
  },
  {
   "cell_type": "markdown",
   "source": [
    "### YOUR TURN: \n",
    "Create the boxplots for the remaining three attributes, add fill aesthetic to the boxplot to fill the boxes colored by the Species. Also, we will make the plots look nice."
   ],
   "metadata": {}
  },
  {
   "cell_type": "code",
   "execution_count": null,
   "source": [
    "\r\n",
    "iris4 <- <YOUR CODE>\r\n",
    "iris4"
   ],
   "outputs": [],
   "metadata": {}
  },
  {
   "cell_type": "code",
   "execution_count": null,
   "source": [
    "\r\n",
    "iris5 <- <YOUR CODE>\r\n",
    "iris5"
   ],
   "outputs": [],
   "metadata": {}
  },
  {
   "cell_type": "code",
   "execution_count": null,
   "source": [
    "\r\n",
    "iris6 <- <YOUR CODE>\r\n",
    "iris6"
   ],
   "outputs": [],
   "metadata": {}
  },
  {
   "cell_type": "markdown",
   "source": [
    "**Now, let's look at histograms:** Let's plot a histogram of Sepal.Width attribute. "
   ],
   "metadata": {}
  },
  {
   "cell_type": "code",
   "execution_count": null,
   "source": [
    "iris7 <-  ggplot(data=iris, aes(x=Sepal.Width)) + geom_histogram(binwidth=0.2)\r\n",
    "iris7"
   ],
   "outputs": [],
   "metadata": {}
  },
  {
   "cell_type": "code",
   "execution_count": null,
   "source": [
    "# We can also fill histograms by Species\r\n",
    "\r\n",
    "iris7 <-  ggplot(data=iris, aes(x=Sepal.Width)) + geom_histogram(binwidth=0.2, color=\"black\", aes(fill=Species))\r\n",
    "iris7"
   ],
   "outputs": [],
   "metadata": {}
  },
  {
   "cell_type": "markdown",
   "source": [
    "The histogram above gives some idea about the species' sepal width distribution, but we can do better than this. \n",
    "\n",
    "\n",
    "**YOUR TURN: create histograms for the remaining three attributes, make them look nice.**\n"
   ],
   "metadata": {}
  },
  {
   "cell_type": "code",
   "execution_count": null,
   "source": [
    "## YOUR CODE HERE \r\n",
    "\r\n",
    "iris2 <- iris1 + geom_point(aes(color = Species, shape = Species), size=3, alpha=0.6) + \r\n",
    "\r\n",
    "                 geom_vline(aes(xintercept = mean(Sepal.Length)), color = \"black\", linetype = \"dashed\") +\r\n",
    "                 geom_hline(aes(yintercept = mean(Sepal.Width)), color = \"black\", linetype = \"dashed\") +\r\n",
    "\r\n",
    "                theme_minimal() + \r\n",
    "                labs(x=\"Sepal Length\", y=\"Sepal Width\") +\r\n",
    "                theme(aspect.ratio=0.7)\r\n",
    "iris2\r\n",
    "\r\n",
    "\r\n",
    "\r\n",
    "\r\n",
    "iris8 <- ggplot(data=iris, aes(x=Sepal.Length)) + \r\n",
    "    geom_histogram(binwidth = 0.2, color=\"black\", aes(fill = Species)) +\r\n",
    "    labs(x=\"Sepal Length\", y=\"Number of Irises\")\r\n",
    "iris8\r\n",
    "# iris9 <- <YOUR CODE>\r\n",
    "\r\n",
    "# iris10 <-<YOUR CODE>\r\n",
    "\r\n",
    "# grid.arrange(iris8, iris9, iris10)\r\n",
    "\r\n"
   ],
   "outputs": [],
   "metadata": {
    "scrolled": false
   }
  },
  {
   "cell_type": "markdown",
   "source": [
    "**We can add density plot on top of the histogram as we have seen in the first practice notebook.** It is a nicer visualization of distribution. "
   ],
   "metadata": {}
  },
  {
   "cell_type": "code",
   "execution_count": null,
   "source": [
    "density <- ggplot(data=iris, aes(x=Sepal.Width))\r\n",
    "density + geom_histogram(binwidth=0.2, color=\"black\", fill=\"steelblue\", aes(y=..density..)) +\r\n",
    "  geom_density(alpha=0.2,  fill=\"blue\") "
   ],
   "outputs": [],
   "metadata": {}
  },
  {
   "cell_type": "markdown",
   "source": [
    "**We can also visualize per species, but it is getting CROWDED.** "
   ],
   "metadata": {}
  },
  {
   "cell_type": "code",
   "execution_count": null,
   "source": [
    "density <- ggplot(data=iris, aes(x=Sepal.Width, fill=Species))\n",
    "density + geom_histogram(binwidth=0.2, color=\"black\", aes(y=0.3*(..density..)), alpha=0.7) +\n",
    "  geom_density(alpha=0.2) "
   ],
   "outputs": [],
   "metadata": {}
  },
  {
   "cell_type": "markdown",
   "source": [
    "**Let's do a density plot of the Sepal.Width attribute for all species:**"
   ],
   "metadata": {}
  },
  {
   "cell_type": "code",
   "execution_count": null,
   "source": [
    "density2 <- ggplot(data=iris, aes(x=Sepal.Width, fill=Species)) +\n",
    "            geom_density(alpha=0.2) +\n",
    "            theme_minimal() + \n",
    "            theme(legend.position = \"none\")\n",
    "density2"
   ],
   "outputs": [],
   "metadata": {}
  },
  {
   "cell_type": "markdown",
   "source": [
    "This gives a better idea of the distributions. It seems like Sepal.Width is not a good attribute to separate the three species. "
   ],
   "metadata": {}
  },
  {
   "cell_type": "markdown",
   "source": [
    "---\n",
    "\n",
    "### More Advanced Plots\n",
    "\n",
    "\n",
    "We can add layers of plots in a ggplot object by adding new geom objects. The following plot shows both boxplot and scatter plot on the same graph. "
   ],
   "metadata": {}
  },
  {
   "cell_type": "code",
   "execution_count": null,
   "source": [
    "iris_j <- ggplot(data=iris, aes(x=Species, y=Petal.Width)) + geom_boxplot(aes(fill=Species)) + \n",
    "         geom_jitter(aes(fill=Species), color=\"black\", shape=21, alpha=0.2, size=2) + \n",
    "         theme_minimal() + \n",
    "         labs(title=\"Iris\", x=\"Species\", y=\"Petal Width\") +\n",
    "         theme(aspect.ratio=0.7, plot.title = element_text(size= 24, hjust=0.5))\n",
    "iris_j"
   ],
   "outputs": [],
   "metadata": {}
  },
  {
   "cell_type": "markdown",
   "source": [
    "This is a nice way of visualizing some descriptive statistics and data points themselves. \n",
    "\n",
    "\n",
    "**YOUR TURN: The order of geoms matter:** swap jitter and boxplot to see how it will look like:  "
   ],
   "metadata": {}
  },
  {
   "cell_type": "code",
   "execution_count": null,
   "source": [
    "iris_j <- ggplot(data=iris, aes(x=Species, y=Petal.Width)) +\n",
    "         \n",
    "          <YOUR CODE>\n",
    "\n",
    "iris_j"
   ],
   "outputs": [],
   "metadata": {}
  },
  {
   "cell_type": "markdown",
   "source": [
    "**YOUR TURN: Now, create a density plot for the Sepal.Length attribute similar to `density2` plot above.**"
   ],
   "metadata": {}
  },
  {
   "cell_type": "code",
   "execution_count": null,
   "source": [
    "density3 <- <YOUR CODE>\n",
    "\n",
    "density3"
   ],
   "outputs": [],
   "metadata": {}
  },
  {
   "cell_type": "markdown",
   "source": [
    "**Now, we have three plots which we can arrange into a grid to show the distribution of data points.** \n",
    "\n",
    "First, we will modify `iris2` ggplot object:"
   ],
   "metadata": {}
  },
  {
   "cell_type": "code",
   "execution_count": null,
   "source": [
    "iris_t <- iris2 +  theme(legend.position=c(1,1),legend.justification=c(1,1)) \n",
    "iris_t"
   ],
   "outputs": [],
   "metadata": {}
  },
  {
   "cell_type": "markdown",
   "source": [
    "Then, we will flip `density2` object:"
   ],
   "metadata": {}
  },
  {
   "cell_type": "code",
   "execution_count": null,
   "source": [
    "density2_f <- density2 + coord_flip() "
   ],
   "outputs": [],
   "metadata": {}
  },
  {
   "cell_type": "markdown",
   "source": [
    "To do a 2x2 grid with three plots, we need one \"empty\" plot: "
   ],
   "metadata": {}
  },
  {
   "cell_type": "code",
   "execution_count": null,
   "source": [
    "# Empty plot\n",
    "empty <- ggplot()+geom_point(aes(1,1), color=\"white\") +\n",
    "theme(                              \n",
    "plot.background = element_blank(), \n",
    "panel.grid.major = element_blank(), \n",
    "panel.grid.minor = element_blank(), \n",
    "panel.border = element_blank(), \n",
    "panel.background = element_blank(),\n",
    "axis.title.x = element_blank(),\n",
    "axis.title.y = element_blank(),\n",
    "axis.text.x = element_blank(),\n",
    "axis.text.y = element_blank(),\n",
    "axis.ticks = element_blank()\n",
    ")"
   ],
   "outputs": [],
   "metadata": {}
  },
  {
   "cell_type": "markdown",
   "source": [
    "**Now, we can arrange these three plots in a grid:"
   ],
   "metadata": {}
  },
  {
   "cell_type": "code",
   "execution_count": null,
   "source": [
    "library(gridExtra)"
   ],
   "outputs": [],
   "metadata": {}
  },
  {
   "cell_type": "code",
   "execution_count": null,
   "source": [
    "grid.arrange(density3, empty, iris_t, density2_f, ncol=2, nrow=2, widths=c(4, 1), heights=c(1, 4))"
   ],
   "outputs": [],
   "metadata": {}
  },
  {
   "cell_type": "markdown",
   "source": [
    "## YOUR TURN:\n",
    "**Create a similar plot like above for Petal.Width and Petal.Length.**"
   ],
   "metadata": {}
  },
  {
   "cell_type": "code",
   "execution_count": null,
   "source": [
    "# YOUR CODE HERE\n",
    "\n",
    "# do the scatter plot first,\n",
    "\n",
    "iris_petal_scatter <- <YOUR CODE>\n",
    "\n",
    "iris_petal_scatter "
   ],
   "outputs": [],
   "metadata": {}
  },
  {
   "cell_type": "code",
   "execution_count": null,
   "source": [
    "# then, the two density plots, \n",
    "\n",
    "density_petal_length <- <YOUR CODE>\n",
    "density_petal_length\n",
    "\n",
    "density_petal_width <-  <YOUR CODE>\n",
    "density_petal_width\n",
    "\n"
   ],
   "outputs": [],
   "metadata": {}
  },
  {
   "cell_type": "code",
   "execution_count": null,
   "source": [
    "# then, use the same empty plot and arrange them to a grid. \n",
    "grid.arrange(density_petal_length, empty, iris_petal_scatter, density_petal_width, ncol=2, nrow=2, widths=c(4, 1), heights=c(1, 4))"
   ],
   "outputs": [],
   "metadata": {}
  },
  {
   "cell_type": "markdown",
   "source": [
    "### Which species can be easily separated from the others? "
   ],
   "metadata": {}
  }
 ],
 "metadata": {
  "anaconda-cloud": {},
  "kernelspec": {
   "display_name": "R",
   "language": "R",
   "name": "ir"
  },
  "language_info": {
   "codemirror_mode": "r",
   "file_extension": ".r",
   "mimetype": "text/x-r-source",
   "name": "R",
   "pygments_lexer": "r",
   "version": "3.5.1"
  }
 },
 "nbformat": 4,
 "nbformat_minor": 1
}