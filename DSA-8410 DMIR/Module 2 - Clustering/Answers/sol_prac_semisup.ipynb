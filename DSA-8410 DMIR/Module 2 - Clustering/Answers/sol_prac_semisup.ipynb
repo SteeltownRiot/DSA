{
 "cells": [
  {
   "cell_type": "markdown",
   "metadata": {},
   "source": [
    "# Semi-Supervised Learning With Label Propagation"
   ]
  },
  {
   "cell_type": "code",
   "execution_count": 1,
   "metadata": {},
   "outputs": [],
   "source": [
    "import matplotlib.pyplot as plt\n",
    "from sklearn.datasets import make_classification\n",
    "from sklearn.model_selection import train_test_split\n",
    "from sklearn.datasets import make_classification\n",
    "from sklearn.metrics import accuracy_score\n",
    "from sklearn.tree import DecisionTreeClassifier\n",
    "from sklearn.linear_model import LogisticRegression\n",
    "from numpy import concatenate\n",
    "from sklearn.semi_supervised import LabelPropagation, LabelSpreading\n",
    "from seaborn import catplot\n",
    "%matplotlib inline"
   ]
  },
  {
   "cell_type": "markdown",
   "metadata": {},
   "source": [
    "### Define dataset"
   ]
  },
  {
   "cell_type": "markdown",
   "metadata": {},
   "source": [
    "For understanding semi-supervised learning, we will be using a synthetic dataset in this notebook. Scikit-learn `make_classification()` can be used to create a synthetic classification dataset. Let's create a dataset of 1000 instances with three features and three classes (binary classification). "
   ]
  },
  {
   "cell_type": "code",
   "execution_count": 2,
   "metadata": {},
   "outputs": [],
   "source": [
    "X, y = make_classification(\n",
    "    n_samples=1000, n_features=3, n_classes=3, \n",
    "    n_informative=3, n_redundant=0, random_state=1)"
   ]
  },
  {
   "cell_type": "markdown",
   "metadata": {},
   "source": [
    "### T1. Split the dataset into train and test and the train into labelded and unlabeled\n",
    "We will split the dataset into train and test datasets with an equal 50-50 split. Finally, we will split the training dataset in half again into a portion that will have labels and a portion that we will pretend is unlabeled."
   ]
  },
  {
   "cell_type": "code",
   "execution_count": 3,
   "metadata": {},
   "outputs": [],
   "source": [
    "X_train, X_test, y_train, y_test = train_test_split(\n",
    "    X, y, test_size=0.50, random_state=1, stratify=y)\n",
    "X_train_lab, X_test_unlab, y_train_lab, y_test_unlab = train_test_split(\n",
    "    X_train, y_train, test_size=0.50, random_state=1, stratify=y_train)"
   ]
  },
  {
   "cell_type": "markdown",
   "metadata": {},
   "source": [
    "### T2. Summarizing the training and test size"
   ]
  },
  {
   "cell_type": "code",
   "execution_count": 4,
   "metadata": {},
   "outputs": [
    {
     "name": "stdout",
     "output_type": "stream",
     "text": [
      "Labeled Train Set: (250, 3) (250,)\n",
      "Unlabeled Train Set: (250, 3) (250,)\n",
      "Test Set: (500, 3) (500,)\n"
     ]
    }
   ],
   "source": [
    "print('Labeled Train Set:', X_train_lab.shape, y_train_lab.shape)\n",
    "print('Unlabeled Train Set:', X_test_unlab.shape, y_test_unlab.shape)\n",
    "print('Test Set:', X_test.shape, y_test.shape)"
   ]
  },
  {
   "cell_type": "markdown",
   "metadata": {},
   "source": [
    "### T3. Report baseline performance with decision tree"
   ]
  },
  {
   "cell_type": "markdown",
   "metadata": {},
   "source": [
    "We can establish a baseline in performance on the semi-supervised learning dataset using a supervised learning algorithm fit only on the labeled training data.\n",
    "This is important because we would expect a semi-supervised learning algorithm to outperform a supervised learning algorithm fit on the labeled data alone. If this is not the case, then the semi-supervised learning algorithm does not have skill.\n",
    "In this case, we will use a logistic regression algorithm fit on the labeled portion of the training dataset:"
   ]
  },
  {
   "cell_type": "code",
   "execution_count": 5,
   "metadata": {},
   "outputs": [
    {
     "data": {
      "text/plain": [
       "DecisionTreeClassifier()"
      ]
     },
     "execution_count": 5,
     "metadata": {},
     "output_type": "execute_result"
    }
   ],
   "source": [
    "model = DecisionTreeClassifier()\n",
    "model.fit(X_train_lab, y_train_lab)"
   ]
  },
  {
   "cell_type": "code",
   "execution_count": 6,
   "metadata": {},
   "outputs": [
    {
     "name": "stdout",
     "output_type": "stream",
     "text": [
      "Accuracy: 77.400\n"
     ]
    }
   ],
   "source": [
    "yhat = model.predict(X_test)\n",
    "score1 = accuracy_score(y_test, yhat)\n",
    "print('Accuracy: %.3f' % (score1*100))"
   ]
  },
  {
   "cell_type": "markdown",
   "metadata": {},
   "source": [
    "Your results may vary given the stochasitc nature of the algorithm or evaluation procedure, or differences in numerical precision."
   ]
  },
  {
   "cell_type": "markdown",
   "metadata": {},
   "source": [
    "### T4. Define and fit a label spreading method"
   ]
  },
  {
   "cell_type": "code",
   "execution_count": 7,
   "metadata": {},
   "outputs": [],
   "source": [
    "# create the training dataset input\n",
    "X_train_mixed = concatenate((X_train_lab, X_test_unlab))\n",
    "# create \"no label\" for unlabeled data\n",
    "nolabel = [-1 for _ in range(len(y_test_unlab))]\n",
    "# recombine training dataset labels\n",
    "y_train_mixed = concatenate((y_train_lab, nolabel))"
   ]
  },
  {
   "cell_type": "markdown",
   "metadata": {},
   "source": [
    "### T5. Define and fit the Label Propagation model"
   ]
  },
  {
   "cell_type": "code",
   "execution_count": 8,
   "metadata": {},
   "outputs": [
    {
     "data": {
      "text/plain": [
       "LabelSpreading(max_iter=2000)"
      ]
     },
     "execution_count": 8,
     "metadata": {},
     "output_type": "execute_result"
    }
   ],
   "source": [
    "model = LabelSpreading(max_iter=2000)\n",
    "model.fit(X_train_mixed, y_train_mixed)"
   ]
  },
  {
   "cell_type": "markdown",
   "metadata": {},
   "source": [
    "### T6. Report accuracy of label spreading method"
   ]
  },
  {
   "cell_type": "code",
   "execution_count": 9,
   "metadata": {},
   "outputs": [
    {
     "name": "stdout",
     "output_type": "stream",
     "text": [
      "Accuracy: 82.600\n"
     ]
    }
   ],
   "source": [
    "yhat = model.predict(X_test)\n",
    "score2 = accuracy_score(y_test, yhat)\n",
    "print('Accuracy: %.3f' % (score2*100))"
   ]
  },
  {
   "cell_type": "markdown",
   "metadata": {},
   "source": [
    "Here, the accuracy of the Label Propagation Model is slightly higher than the baseline model."
   ]
  },
  {
   "cell_type": "markdown",
   "metadata": {},
   "source": [
    "### T7. Fitting a supervised model using the estimated labels for the training dataset"
   ]
  },
  {
   "cell_type": "code",
   "execution_count": 10,
   "metadata": {},
   "outputs": [],
   "source": [
    "# Get labels for entire training dataset data\n",
    "tran_labels = model.transduction_"
   ]
  },
  {
   "cell_type": "code",
   "execution_count": 11,
   "metadata": {},
   "outputs": [
    {
     "data": {
      "text/plain": [
       "DecisionTreeClassifier()"
      ]
     },
     "execution_count": 11,
     "metadata": {},
     "output_type": "execute_result"
    }
   ],
   "source": [
    "model2 = DecisionTreeClassifier()\n",
    "model2.fit(X_train_mixed, tran_labels)"
   ]
  },
  {
   "cell_type": "markdown",
   "metadata": {},
   "source": [
    "### T8. Report predicition accuracy of layered models"
   ]
  },
  {
   "cell_type": "code",
   "execution_count": 12,
   "metadata": {},
   "outputs": [
    {
     "name": "stdout",
     "output_type": "stream",
     "text": [
      "Accuracy: 80.600\n"
     ]
    }
   ],
   "source": [
    "yhat = model2.predict(X_test)\n",
    "score3 = accuracy_score(y_test, yhat)\n",
    "print('Accuracy: %.3f' % (score3*100))"
   ]
  },
  {
   "cell_type": "markdown",
   "metadata": {
    "tags": []
   },
   "source": [
    "### T9. Discuss your observations"
   ]
  },
  {
   "cell_type": "markdown",
   "metadata": {},
   "source": [
    "In this case, we observe that the label spreading method outperforms both the base and hierarchical models."
   ]
  }
 ],
 "metadata": {
  "kernelspec": {
   "display_name": "Python 3",
   "language": "python",
   "name": "python3"
  },
  "language_info": {
   "codemirror_mode": {
    "name": "ipython",
    "version": 3
   },
   "file_extension": ".py",
   "mimetype": "text/x-python",
   "name": "python",
   "nbconvert_exporter": "python",
   "pygments_lexer": "ipython3",
   "version": "3.7.3"
  }
 },
 "nbformat": 4,
 "nbformat_minor": 5
}
