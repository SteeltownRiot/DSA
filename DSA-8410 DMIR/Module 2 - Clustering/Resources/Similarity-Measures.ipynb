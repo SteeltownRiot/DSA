{
 "cells": [
  {
   "cell_type": "markdown",
   "metadata": {},
   "source": [
    "\n",
    "# Similarity (or Dissimilarity) Measurement\n",
    "\n",
    "**Similarity** refers to the likeness of two objects. A **proximity measure** can be used to describe similarity or dissimilarity between two objects. In Module 1, you already explored two proximity measures: **Euclidean Distance** and **Cosine Similarity**. In this notebook, we will explore few more similarity measures. Formally, it is a numerical measure of the degree to which the two objects are alike. The similarity is higher for pair of objects that are more alike, and the similarity values are non-negative and between 0 (no similarity) & 1 (complete similarity).\n",
    "\n",
    "Why do we need similarity measures? Many data mining and information retrieval methods require similarity or distance measures. E.g., clustering, clustering, anomaly detection, classification, information retrieval, and recommender systems. The similarity is related to closeness, whereas distance is related to dissimilarity. If the similarity between two observations is $S$, the distance measure is defined as $D = 1 - S$. \n",
    "\n",
    "## What is the difference between a measure and a metric (or distance function)?\n",
    "\n",
    "Both measure and metric are defined on a set of observations. A metric is a function (aka distance function), and it must satisfy the following three properties:\n",
    "1. identity: $d(x,x) = 0$ or if $d(x,y) = 0$, then $x = y$\n",
    "2. symmetry: $d(x,y) = d(y,x)$\n",
    "3. triangle inequality: $d(x,y) \\le d(x,z) + d(z,y)$\n",
    "\n",
    "A measure is also a function defined on a set, but it may not satisfy properties 2 and 3. E.g., Euclidean distance is a metric as it meets all three properties, while cosine similarity measure is not a metric as it does not have the triangle inequality property.\n",
    "\n",
    "\n",
    "## Some popular similarity measures\n",
    "\n",
    "See this [article](https://towardsdatascience.com/importance-of-distance-metrics-in-machine-learning-modelling-e51395ffe60d) to learn more about the following distance and similarity measures. \n",
    "\n",
    "* Minkowski Distance\n",
    "* Euclidean Distance\n",
    "* Manhattan Distance\n",
    "* Mahalanobis Distance\n",
    "* Cosine similarity\n",
    "\n",
    "\n"
   ]
  }
 ],
 "metadata": {
  "kernelspec": {
   "display_name": "Python 3",
   "language": "python",
   "name": "python3"
  },
  "language_info": {
   "codemirror_mode": {
    "name": "ipython",
    "version": 3
   },
   "file_extension": ".py",
   "mimetype": "text/x-python",
   "name": "python",
   "nbconvert_exporter": "python",
   "pygments_lexer": "ipython3",
   "version": "3.7.3"
  },
  "latex_envs": {
   "LaTeX_envs_menu_present": true,
   "bibliofile": "biblio.bib",
   "cite_by": "apalike",
   "current_citInitial": 1,
   "eqLabelWithNumbers": true,
   "eqNumInitial": 1,
   "labels_anchors": false,
   "latex_user_defs": false,
   "report_style_numbering": false,
   "user_envs_cfg": false
  },
  "toc": {
   "colors": {
    "hover_highlight": "#DAA520",
    "running_highlight": "#FF0000",
    "selected_highlight": "#FFD700"
   },
   "moveMenuLeft": true,
   "nav_menu": {
    "height": "66.5341px",
    "width": "251.989px"
   },
   "navigate_menu": true,
   "number_sections": true,
   "sideBar": true,
   "threshold": 4,
   "toc_cell": true,
   "toc_section_display": "block",
   "toc_window_display": false
  }
 },
 "nbformat": 4,
 "nbformat_minor": 4
}
