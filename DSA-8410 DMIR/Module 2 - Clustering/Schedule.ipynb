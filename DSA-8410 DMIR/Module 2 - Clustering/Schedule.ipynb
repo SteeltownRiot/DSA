{
 "cells": [
  {
   "cell_type": "markdown",
   "metadata": {},
   "source": [
    "# Module Two: Clustering\n",
    "\n",
    "## Topics covered\n",
    "* Similarity measures\n",
    "* Clustering"
   ]
  },
  {
   "cell_type": "markdown",
   "metadata": {},
   "source": [
    "**NOTE**: If the PDF or vidoes do not open in the browser tab, please try to _Right Click > Save Link As_ or a simlar option to download.\n",
    "\n",
    "\n",
    "## Readings\n",
    "\n",
    "- Semi-supervised Learning\n",
    "    - [Scikit-learn Turorial](https://scikit-learn.org/stable/modules/semi_supervised.html)\n",
    "    - [Label Propagation](https://towardsdatascience.com/label-propagation-demystified-cd5390f27472)\n",
    "- [Clustering Overview](./resources/Clustering.ipynb)\n",
    "    - [Spectral Biclustering, Part 1](http://www.kemaleren.com/post/spectral-biclustering-part-1/)\n",
    "    - [Basic Cluster_Analysis (slides)](https://web.dsa.missouri.edu/static/PDF/DMIR/Basic_Cluster_Analysis.pdf)\n",
    "    - [Advanced_Cluster_Analysis (slides)](./slides/11ClusAdvanced.pdf)\n",
    "    - [Han et al. Ch 11 (book chapter)](./resources/Han-Ch-11-Advanced-Clustering.pdf)\n",
    "- [Similarity Measures](./resources/Similarity-Measures.ipynb)\n",
    "\n",
    " \n",
    "## Labs\n",
    "- Semi-supervised Learning\n",
    "    - [Label Propagation & Label Spreading](./labs/semisup.ipynb)\n",
    "- Fuzzy or Soft Clustering\n",
    "    - [Fuzzy Clustering](./labs/Fuzzy_C_Means.ipynb)\n",
    "- High-dimensional Clustering   \n",
    "     - [Biclustering](./labs/Biclustering.ipynb)\n",
    "\n",
    "\n",
    "## Practices \n",
    "- Semi-supervised Learning\n",
    "     - [Label Propagation](./practices/prac_semisup.ipynb)\n",
    "- High-dimension Clustering\n",
    "     - [Biclustering](./practices/prac_biclustering.ipynb)\n",
    "- Soft Clustering\n",
    "     - [Fuzzy Clustering](./practices/prac_Fuzzy_C_Means.ipynb)\n",
    "\n",
    "## Exercises\n",
    "\n",
    "- [Semi-supervised Learning](./exercises/exc_semisup.ipynb)\n",
    "- [Fuzzy Clustering](./exercises/exc_Fuzzy_C_Means.ipynb)"
   ]
  },
  {
   "cell_type": "markdown",
   "metadata": {},
   "source": [
    "## Submitting your work\n",
    "<span style=\"background-color:yellow\">Please submit all work, including labs, practices, and exercises.</span>\n",
    "\n",
    "**Steps:**\n",
    "  1. Open Terminal in JupyterHub\n",
    "  1. Change into the course folder\n",
    "  1. Stage (Git Add) the module's lab, practice and exercise work   \n",
    "  `git  add   module2/labs  module2/practices    module2/exercises`\n",
    "  1. Create your work snapshot (Git Commit)  \n",
    "  `git   commit   -m   \"Module 2 submission\"`\n",
    "  1. Upload the snapshot to the server (Git Push)  \n",
    "  `git   push`\n",
    "  \n",
    "**Pulling the next module:**\n",
    "After the module has been published by the teaching team, you can pull the course materials.\n",
    "\n",
    "**Steps:**\n",
    "  1. Open Terminal in JupyterHub\n",
    "  1. Change into the course folder\n",
    "  1. Pull the material  \n",
    "  `git pull --no-edit upstream master`\n"
   ]
  }
 ],
 "metadata": {
  "kernelspec": {
   "display_name": "Python 3",
   "language": "python",
   "name": "python3"
  },
  "language_info": {
   "codemirror_mode": {
    "name": "ipython",
    "version": 3
   },
   "file_extension": ".py",
   "mimetype": "text/x-python",
   "name": "python",
   "nbconvert_exporter": "python",
   "pygments_lexer": "ipython3",
   "version": "3.7.3"
  },
  "latex_envs": {
   "LaTeX_envs_menu_present": true,
   "bibliofile": "biblio.bib",
   "cite_by": "apalike",
   "current_citInitial": 1,
   "eqLabelWithNumbers": true,
   "eqNumInitial": 1,
   "labels_anchors": false,
   "latex_user_defs": false,
   "report_style_numbering": false,
   "user_envs_cfg": false
  },
  "toc": {
   "colors": {
    "hover_highlight": "#DAA520",
    "running_highlight": "#FF0000",
    "selected_highlight": "#FFD700"
   },
   "moveMenuLeft": true,
   "nav_menu": {
    "height": "193.807px",
    "width": "251.989px"
   },
   "navigate_menu": true,
   "number_sections": true,
   "sideBar": true,
   "threshold": 4,
   "toc_cell": true,
   "toc_section_display": "block",
   "toc_window_display": false
  }
 },
 "nbformat": 4,
 "nbformat_minor": 4
}
