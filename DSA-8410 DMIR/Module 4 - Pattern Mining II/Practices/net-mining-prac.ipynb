{
 "cells": [
  {
   "cell_type": "markdown",
   "metadata": {},
   "source": [
    "# Graph/Network Mining\n",
    "\n",
    "\n",
    "Mark Sageman studied the lives of some terrorists who belong to the Hamburg Cell (which was behind the 9/11 attacks). He found the most common factor driving them was the social ties within their cell. He created an analysis which consisted of social ties among terrorists. \n",
    "\n",
    "Data location: /dsa/data/DSA-8410/graph/9_11\n",
    "\n",
    "1. File 1: 9_11_edgelist.txt\n",
    "1. File 2: 9_11_attrib.txt \n",
    "\n",
    "The edgelist datas has the following format: \n",
    "\n",
    "```\n",
    "Hani Hanjour,Rayed Mohammed Abdullah,5,1\n",
    "Majed Moqed,Hani Hanjour,5,1\n",
    "Nawaf Alhazmi,Hani Hanjour,5,1\n",
    "Nawaf Alhazmi,Salem Alhazmi,5,1\n",
    "Nawaf Alhazmi,Khalid Al-Mihdhar,5,1\n",
    "Nawaf Alhazmi,Hamza Alghamdi,5,1\n",
    "```\n",
    "\n",
    "The data is not 100% complete and accurate. The first two columns denote the persons who are connected and the following number signifies the strength of the connection(5=strong connection, 1=weak connection); and the last column denotes level to which the connection has been verified by the government officials (1 = confirmed, 3 = possible and unconfirmed connections ). We are not going to consider the last two columns in our analysis.\n",
    "\n",
    "\n"
   ]
  },
  {
   "cell_type": "markdown",
   "metadata": {},
   "source": [
    "### Environment Setup"
   ]
  },
  {
   "cell_type": "code",
   "execution_count": null,
   "metadata": {},
   "outputs": [],
   "source": [
    "import pandas as pd\n",
    "import networkx as nx \n",
    "import matplotlib.pyplot as plt\n",
    "\n",
    "import numpy as np\n",
    "from networkx.algorithms.community.modularity_max import greedy_modularity_communities\n",
    "from networkx.algorithms.community.lukes import lukes_partitioning\n",
    "\n",
    "%matplotlib inline"
   ]
  },
  {
   "cell_type": "markdown",
   "metadata": {},
   "source": [
    "### Read the file containing the analysis"
   ]
  },
  {
   "cell_type": "code",
   "execution_count": null,
   "metadata": {},
   "outputs": [],
   "source": [
    "df = pd.read_csv('/dsa/data/DSA-8410/graph/9_11/9_11_edgelist.txt', header=None)"
   ]
  },
  {
   "cell_type": "code",
   "execution_count": null,
   "metadata": {},
   "outputs": [],
   "source": [
    "df.head()"
   ]
  },
  {
   "cell_type": "markdown",
   "metadata": {},
   "source": [
    "### T1. Create the network "
   ]
  },
  {
   "cell_type": "code",
   "execution_count": null,
   "metadata": {},
   "outputs": [],
   "source": []
  },
  {
   "cell_type": "markdown",
   "metadata": {},
   "source": [
    "### T2. Show the number of nodes and edges in the network"
   ]
  },
  {
   "cell_type": "code",
   "execution_count": null,
   "metadata": {},
   "outputs": [],
   "source": []
  },
  {
   "cell_type": "markdown",
   "metadata": {},
   "source": [
    "### T3. Show min, max, and avg degress for this network"
   ]
  },
  {
   "cell_type": "code",
   "execution_count": null,
   "metadata": {},
   "outputs": [],
   "source": []
  },
  {
   "cell_type": "markdown",
   "metadata": {},
   "source": [
    "### T4. Show a degree distrbution plot. Print top-3 nodes in terms of degree."
   ]
  },
  {
   "cell_type": "code",
   "execution_count": null,
   "metadata": {},
   "outputs": [],
   "source": []
  },
  {
   "cell_type": "markdown",
   "metadata": {},
   "source": [
    "### T5. Visualize the network with spring layout"
   ]
  },
  {
   "cell_type": "code",
   "execution_count": null,
   "metadata": {},
   "outputs": [],
   "source": []
  },
  {
   "cell_type": "markdown",
   "metadata": {},
   "source": [
    "### T6. Indentify communities with `girvan_newman` method. Feel free to try other community detection methods (see [here](https://networkx.org/documentation/stable/reference/algorithms/community.html#module-networkx.algorithms.community)]"
   ]
  },
  {
   "cell_type": "code",
   "execution_count": null,
   "metadata": {},
   "outputs": [],
   "source": []
  },
  {
   "cell_type": "markdown",
   "metadata": {},
   "source": [
    "### T7. Visualize the communities"
   ]
  },
  {
   "cell_type": "code",
   "execution_count": null,
   "metadata": {},
   "outputs": [],
   "source": []
  },
  {
   "cell_type": "markdown",
   "metadata": {},
   "source": [
    "# Save your notebook, then `File > Close and Halt`"
   ]
  }
 ],
 "metadata": {
  "kernelspec": {
   "display_name": "Python 3",
   "language": "python",
   "name": "python3"
  },
  "language_info": {
   "codemirror_mode": {
    "name": "ipython",
    "version": 3
   },
   "file_extension": ".py",
   "mimetype": "text/x-python",
   "name": "python",
   "nbconvert_exporter": "python",
   "pygments_lexer": "ipython3",
   "version": "3.7.3"
  }
 },
 "nbformat": 4,
 "nbformat_minor": 4
}
