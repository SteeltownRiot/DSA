{
 "cells": [
  {
   "cell_type": "markdown",
   "metadata": {},
   "source": [
    "# Module Four: Pattern Mining II\n",
    "\n",
    "## Topics covered\n",
    "* Alternative methods for Frequent Itemset Mining\n",
    "    - FP-Growth\n",
    "    - Compact Repesentation of Patterns\n",
    "* Graph Mining"
   ]
  },
  {
   "cell_type": "markdown",
   "metadata": {},
   "source": [
    "## Readings\n",
    "\n",
    "- Alternative methods to Frequent Itemset Mining\n",
    "    - [slides: FPGrowth + Maximal Frequent Patterns](./resources/alt-apriori.pdf)\n",
    "    - [Ch 8, 9 & 12](https://dataminingbook.info/book_html/)\n",
    "- Graph Mining\n",
    "    - [Slides](./resources/graph-mining.pdf)\n",
    "    - [Networkx Official Tutorial](https://networkx.org/documentation/stable/tutorial.html)\n",
    "\n",
    "## Labs\n",
    "\n",
    "- [Improved Itemset Mining](./labs/alt-itemset-mining-lab.ipynb)\n",
    "- [Graph Mining](./labs/net-mining-lab.ipynb)\n",
    "\n",
    "## Practices\n",
    "\n",
    "- [Improved Itemset Mining](./practices/alt-itemset-mining-prac.ipynb)\n",
    "- [Graph Mining](./practices/net-mining-prac.ipynb)\n",
    "     \n",
    "## Exercises\n",
    "\n",
    "- [Improved Itemset Mining](./exercises/alt-itemset-mining-ex.ipynb)\n",
    "- [Graph Mining](./exercises/net-mining-ex.ipynb)\n"
   ]
  },
  {
   "cell_type": "markdown",
   "metadata": {},
   "source": [
    "## Submitting your work\n",
    "<span style=\"background-color:yellow\">Please submit all work, including labs, practices, and exercises.</span>\n",
    "#### Steps:\n",
    "  1. Open Terminal in JupyterHub\n",
    "  1. Change into the course folder\n",
    "  1. Stage (Git Add) the module's lab, practice and exercise work   \n",
    "  `git  add   odule4/labs  module4/practices    module4/exercises`\n",
    "  1. Create your work snapshot (Git Commit)  \n",
    "  `git   commit   -m   \"Module 4 submission\"`\n",
    "  1. Upload the snapshot to the server (Git Push)  \n",
    "  `git   push`\n",
    "  \n",
    "## Pulling the next module\n",
    "After the module has been published by the teaching team, you can pull the course materials.\n",
    "#### Steps:\n",
    "  1. Open Terminal in JupyterHub\n",
    "  1. Change into the course folder\n",
    "  1. Pull the material  \n",
    "  `git pull --no-edit upstream master`\n"
   ]
  }
 ],
 "metadata": {
  "kernelspec": {
   "display_name": "Python 3",
   "language": "python",
   "name": "python3"
  },
  "language_info": {
   "codemirror_mode": {
    "name": "ipython",
    "version": 3
   },
   "file_extension": ".py",
   "mimetype": "text/x-python",
   "name": "python",
   "nbconvert_exporter": "python",
   "pygments_lexer": "ipython3",
   "version": "3.7.3"
  },
  "latex_envs": {
   "LaTeX_envs_menu_present": true,
   "bibliofile": "biblio.bib",
   "cite_by": "apalike",
   "current_citInitial": 1,
   "eqLabelWithNumbers": true,
   "eqNumInitial": 1,
   "labels_anchors": false,
   "latex_user_defs": false,
   "report_style_numbering": false,
   "user_envs_cfg": false
  },
  "toc": {
   "colors": {
    "hover_highlight": "#DAA520",
    "running_highlight": "#FF0000",
    "selected_highlight": "#FFD700"
   },
   "moveMenuLeft": true,
   "nav_menu": {
    "height": "211.989px",
    "width": "251.989px"
   },
   "navigate_menu": true,
   "number_sections": true,
   "sideBar": true,
   "threshold": 4,
   "toc_cell": true,
   "toc_section_display": "block",
   "toc_window_display": false
  }
 },
 "nbformat": 4,
 "nbformat_minor": 4
}
