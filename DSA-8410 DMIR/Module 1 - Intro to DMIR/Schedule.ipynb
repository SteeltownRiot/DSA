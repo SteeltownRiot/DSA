{
 "cells": [
  {
   "cell_type": "markdown",
   "metadata": {},
   "source": [
    "# Module One: Introduction to Data Mining and Information Retrieval\n",
    "\n",
    "## Topics covered\n",
    "* Overview of DM and IR methods\n",
    "* Ensemble Learning\n",
    "* Multi-class and Multi-label learning"
   ]
  },
  {
   "cell_type": "markdown",
   "metadata": {},
   "source": [
    "Welcome to Module 1 of the DMIR course. In this module we will give an overview of data mining and information retrieval methods. If this is your first MUIDSI course, then please skim through this [notebook](./resources/Getting-Started.ipynb) before working on the rest of the module, and let us know if you face any issues. \n",
    "\n",
    "\n",
    "**NOTE**: \n",
    "* If the PDF or vidoes do not open in the browser tab, please try to _Right Click > Save Link As_ or a simlar option to download. \n",
    "* Please remember to **Save** (`File > Save and Checkpoint`) and **Close** all your notebooks. To properly close a notebook: `File > Close and Halt`\n",
    "\n",
    "## Readings\n",
    "\n",
    "\n",
    "* [Overview of Data Mining and Information Retrieval Methods: notebook](./resources/Overview-DMIR.ipynb)\n",
    "* Ensemble Learning [[book-ch](./resources/Han-8.6.pdf)]\n",
    "* Multi-class vs Multi-label Learning\n",
    "    * https://scikit-learn.org/stable/modules/multiclass.html\n",
    "* Optional Reading \n",
    "    * [Structured vs semi-structured vs unstructured data](./resources/Struct_Unstruct_Data.ipynb)\n",
    "    * Data Matrix/Attributes/Algebraic, Geometric, and Probabilistic view of data: Chapter 1 [[Web](https://dataminingbook.info/book_html/chap1/book-watermark.html)]  [[pdf](./resources/Zaki-Meira-Ch01.pdf)] [[Full Book](https://dataminingbook.info/)]\n",
    "\n",
    " \n",
    "\n",
    "## Labs\n",
    "  - Ensemble Learning\n",
    "      - [Bagging](./labs/ens-bagging.ipynb)\n",
    "      - [Boosting](./labs/ens-boosting.ipynb)\n",
    "      - [Stacking](./labs/ens-stacking.ipynb)\n",
    "  - Mutli-Task Learning\n",
    "      - [Multi-Class vs Multi-Label Learning](./labs/mlc.ipynb)\n",
    "\n",
    "## Practices \n",
    "\n",
    "- [Multi-Label Learning](./practices/prac-mlc.ipynb)\n",
    "\n",
    "\n",
    "## Exercises\n",
    "- [Multi-Label Learning](./exercises/exc-mlc.ipynb)"
   ]
  },
  {
   "cell_type": "markdown",
   "metadata": {},
   "source": [
    "## Submitting your work\n",
    "<span style=\"background-color:yellow\">Please submit all work, including labs, practices, and exercises.</span>\n",
    "\n",
    "**Steps:**\n",
    "  1. Open Terminal in JupyterHub\n",
    "  1. Change into the course folder\n",
    "  1. Stage (Git Add) the module's lab, practice and exercise work   \n",
    "  `git  add   module1/labs  module1/practices    module1/exercises`\n",
    "  1. Create your work snapshot (Git Commit)  \n",
    "  `git   commit   -m   \"Module 1 submission\"`\n",
    "  1. Upload the snapshot to the server (Git Push)  \n",
    "  `git   push`\n",
    "  \n",
    "## Pulling the next module\n",
    "After the module has been published by the teaching team, you can pull the course materials.\n",
    "**Steps:**\n",
    "  1. Open Terminal in JupyterHub\n",
    "  1. Change into the course folder\n",
    "  1. Pull the material  \n",
    "  `git pull --no-edit upstream master`"
   ]
  }
 ],
 "metadata": {
  "kernelspec": {
   "display_name": "Python 3",
   "language": "python",
   "name": "python3"
  },
  "language_info": {
   "codemirror_mode": {
    "name": "ipython",
    "version": 3
   },
   "file_extension": ".py",
   "mimetype": "text/x-python",
   "name": "python",
   "nbconvert_exporter": "python",
   "pygments_lexer": "ipython3",
   "version": "3.7.3"
  }
 },
 "nbformat": 4,
 "nbformat_minor": 4
}
