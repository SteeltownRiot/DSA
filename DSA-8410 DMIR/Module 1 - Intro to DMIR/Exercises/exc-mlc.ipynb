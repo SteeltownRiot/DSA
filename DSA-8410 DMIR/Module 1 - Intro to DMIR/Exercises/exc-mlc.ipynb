{
 "cells": [
  {
   "cell_type": "markdown",
   "metadata": {},
   "source": [
    "# Multi-label Classification\n",
    "\n",
    "In this exercise we will classify toxic comments from online. "
   ]
  },
  {
   "cell_type": "code",
   "execution_count": 1,
   "metadata": {},
   "outputs": [],
   "source": [
    "%matplotlib inline\n",
    "import re\n",
    "import matplotlib\n",
    "import pandas as pd\n",
    "import numpy as np\n",
    "import matplotlib.pyplot as plt\n",
    "import pandas as pd\n",
    "import nltk\n",
    "import seaborn as sns\n",
    "\n",
    "from sklearn.model_selection import train_test_split\n",
    "from sklearn.feature_extraction.text import TfidfVectorizer\n",
    "from sklearn.naive_bayes import MultinomialNB\n",
    "from sklearn.metrics import accuracy_score\n",
    "from sklearn.multiclass import OneVsRestClassifier\n",
    "from sklearn.svm import LinearSVC\n",
    "from sklearn.linear_model import LogisticRegression\n",
    "from sklearn.pipeline import Pipeline\n",
    "from sklearn.preprocessing import MultiLabelBinarizer\n",
    "from sklearn.multioutput import MultiOutputClassifier\n",
    "from nltk.corpus import stopwords\n"
   ]
  },
  {
   "cell_type": "code",
   "execution_count": 2,
   "metadata": {},
   "outputs": [],
   "source": [
    "# Store English stopwords in \"stop_words\" var\n",
    "stop_words = set(stopwords.words('english'))\n"
   ]
  },
  {
   "cell_type": "markdown",
   "metadata": {},
   "source": [
    "# Data loading"
   ]
  },
  {
   "cell_type": "code",
   "execution_count": 3,
   "metadata": {},
   "outputs": [
    {
     "data": {
      "text/html": [
       "<div>\n",
       "<style scoped>\n",
       "    .dataframe tbody tr th:only-of-type {\n",
       "        vertical-align: middle;\n",
       "    }\n",
       "\n",
       "    .dataframe tbody tr th {\n",
       "        vertical-align: top;\n",
       "    }\n",
       "\n",
       "    .dataframe thead th {\n",
       "        text-align: right;\n",
       "    }\n",
       "</style>\n",
       "<table border=\"1\" class=\"dataframe\">\n",
       "  <thead>\n",
       "    <tr style=\"text-align: right;\">\n",
       "      <th></th>\n",
       "      <th>id</th>\n",
       "      <th>comment_text</th>\n",
       "      <th>toxic</th>\n",
       "      <th>severe_toxic</th>\n",
       "      <th>obscene</th>\n",
       "      <th>threat</th>\n",
       "      <th>insult</th>\n",
       "      <th>identity_hate</th>\n",
       "    </tr>\n",
       "  </thead>\n",
       "  <tbody>\n",
       "    <tr>\n",
       "      <th>0</th>\n",
       "      <td>0000997932d777bf</td>\n",
       "      <td>Explanation\\nWhy the edits made under my usern...</td>\n",
       "      <td>0</td>\n",
       "      <td>0</td>\n",
       "      <td>0</td>\n",
       "      <td>0</td>\n",
       "      <td>0</td>\n",
       "      <td>0</td>\n",
       "    </tr>\n",
       "    <tr>\n",
       "      <th>1</th>\n",
       "      <td>000103f0d9cfb60f</td>\n",
       "      <td>D'aww! He matches this background colour I'm s...</td>\n",
       "      <td>0</td>\n",
       "      <td>0</td>\n",
       "      <td>0</td>\n",
       "      <td>0</td>\n",
       "      <td>0</td>\n",
       "      <td>0</td>\n",
       "    </tr>\n",
       "    <tr>\n",
       "      <th>2</th>\n",
       "      <td>000113f07ec002fd</td>\n",
       "      <td>Hey man, I'm really not trying to edit war. It...</td>\n",
       "      <td>0</td>\n",
       "      <td>0</td>\n",
       "      <td>0</td>\n",
       "      <td>0</td>\n",
       "      <td>0</td>\n",
       "      <td>0</td>\n",
       "    </tr>\n",
       "    <tr>\n",
       "      <th>3</th>\n",
       "      <td>0001b41b1c6bb37e</td>\n",
       "      <td>\"\\nMore\\nI can't make any real suggestions on ...</td>\n",
       "      <td>0</td>\n",
       "      <td>0</td>\n",
       "      <td>0</td>\n",
       "      <td>0</td>\n",
       "      <td>0</td>\n",
       "      <td>0</td>\n",
       "    </tr>\n",
       "    <tr>\n",
       "      <th>4</th>\n",
       "      <td>0001d958c54c6e35</td>\n",
       "      <td>You, sir, are my hero. Any chance you remember...</td>\n",
       "      <td>0</td>\n",
       "      <td>0</td>\n",
       "      <td>0</td>\n",
       "      <td>0</td>\n",
       "      <td>0</td>\n",
       "      <td>0</td>\n",
       "    </tr>\n",
       "    <tr>\n",
       "      <th>5</th>\n",
       "      <td>00025465d4725e87</td>\n",
       "      <td>\"\\n\\nCongratulations from me as well, use the ...</td>\n",
       "      <td>0</td>\n",
       "      <td>0</td>\n",
       "      <td>0</td>\n",
       "      <td>0</td>\n",
       "      <td>0</td>\n",
       "      <td>0</td>\n",
       "    </tr>\n",
       "    <tr>\n",
       "      <th>6</th>\n",
       "      <td>0002bcb3da6cb337</td>\n",
       "      <td>COCKSUCKER BEFORE YOU PISS AROUND ON MY WORK</td>\n",
       "      <td>1</td>\n",
       "      <td>1</td>\n",
       "      <td>1</td>\n",
       "      <td>0</td>\n",
       "      <td>1</td>\n",
       "      <td>0</td>\n",
       "    </tr>\n",
       "    <tr>\n",
       "      <th>7</th>\n",
       "      <td>00031b1e95af7921</td>\n",
       "      <td>Your vandalism to the Matt Shirvington article...</td>\n",
       "      <td>0</td>\n",
       "      <td>0</td>\n",
       "      <td>0</td>\n",
       "      <td>0</td>\n",
       "      <td>0</td>\n",
       "      <td>0</td>\n",
       "    </tr>\n",
       "    <tr>\n",
       "      <th>8</th>\n",
       "      <td>00037261f536c51d</td>\n",
       "      <td>Sorry if the word 'nonsense' was offensive to ...</td>\n",
       "      <td>0</td>\n",
       "      <td>0</td>\n",
       "      <td>0</td>\n",
       "      <td>0</td>\n",
       "      <td>0</td>\n",
       "      <td>0</td>\n",
       "    </tr>\n",
       "    <tr>\n",
       "      <th>9</th>\n",
       "      <td>00040093b2687caa</td>\n",
       "      <td>alignment on this subject and which are contra...</td>\n",
       "      <td>0</td>\n",
       "      <td>0</td>\n",
       "      <td>0</td>\n",
       "      <td>0</td>\n",
       "      <td>0</td>\n",
       "      <td>0</td>\n",
       "    </tr>\n",
       "  </tbody>\n",
       "</table>\n",
       "</div>"
      ],
      "text/plain": [
       "                 id                                       comment_text  toxic  \\\n",
       "0  0000997932d777bf  Explanation\\nWhy the edits made under my usern...      0   \n",
       "1  000103f0d9cfb60f  D'aww! He matches this background colour I'm s...      0   \n",
       "2  000113f07ec002fd  Hey man, I'm really not trying to edit war. It...      0   \n",
       "3  0001b41b1c6bb37e  \"\\nMore\\nI can't make any real suggestions on ...      0   \n",
       "4  0001d958c54c6e35  You, sir, are my hero. Any chance you remember...      0   \n",
       "5  00025465d4725e87  \"\\n\\nCongratulations from me as well, use the ...      0   \n",
       "6  0002bcb3da6cb337       COCKSUCKER BEFORE YOU PISS AROUND ON MY WORK      1   \n",
       "7  00031b1e95af7921  Your vandalism to the Matt Shirvington article...      0   \n",
       "8  00037261f536c51d  Sorry if the word 'nonsense' was offensive to ...      0   \n",
       "9  00040093b2687caa  alignment on this subject and which are contra...      0   \n",
       "\n",
       "   severe_toxic  obscene  threat  insult  identity_hate  \n",
       "0             0        0       0       0              0  \n",
       "1             0        0       0       0              0  \n",
       "2             0        0       0       0              0  \n",
       "3             0        0       0       0              0  \n",
       "4             0        0       0       0              0  \n",
       "5             0        0       0       0              0  \n",
       "6             1        1       0       1              0  \n",
       "7             0        0       0       0              0  \n",
       "8             0        0       0       0              0  \n",
       "9             0        0       0       0              0  "
      ]
     },
     "execution_count": 3,
     "metadata": {},
     "output_type": "execute_result"
    }
   ],
   "source": [
    "df = pd.read_csv(\"/dsa/data/DSA-8410/toxic/train.csv\", encoding = \"ISO-8859-1\")\n",
    "df.head(10)"
   ]
  },
  {
   "cell_type": "markdown",
   "metadata": {},
   "source": [
    "# Data exploration\n",
    "\n",
    "### T1. Show a distribution of comments over toxic categoies."
   ]
  },
  {
   "cell_type": "code",
   "execution_count": 4,
   "metadata": {},
   "outputs": [],
   "source": [
    "# Drop comments & id columns and store in temp df\n",
    "df_tmp = df.drop(['comment_text', 'id'], axis=1)\n",
    "\n",
    "# Instantiate empty list\n",
    "counts = []\n",
    "\n",
    "# Assign column names to \"categories\" var\n",
    "categories = list(df_tmp.columns.values)\n",
    "\n",
    "# Step through the categories and sum up all the comments\n",
    "for i in categories:\n",
    "    counts.append((i, df_tmp[i].sum()))\n",
    "    \n",
    "# Create new df from the categories and count of occurrences\n",
    "df_stats_1 = pd.DataFrame(counts, columns=['toxic_categories', 'number_of_comments'])\n",
    "#df_stats_1\n"
   ]
  },
  {
   "cell_type": "code",
   "execution_count": 5,
   "metadata": {},
   "outputs": [
    {
     "data": {
      "text/plain": [
       "Text(0.5, 0, 'Categories')"
      ]
     },
     "execution_count": 5,
     "metadata": {},
     "output_type": "execute_result"
    },
    {
     "data": {
      "image/png": "[encoded data removed]",
      "text/plain": [
       "<Figure size 576x360 with 1 Axes>"
      ]
     },
     "metadata": {
      "needs_background": "light"
     },
     "output_type": "display_data"
    }
   ],
   "source": [
    "# Plot number of comments by toxic category\n",
    "df_stats_1.plot(x='toxic_categories', y='number_of_comments', kind='bar', legend=False, grid=True, figsize=(8, 5))\n",
    "plt.title(\"Number of Comments per Category\")\n",
    "plt.ylabel('Comments', fontsize=12)\n",
    "plt.xlabel('Categories', fontsize=12)\n"
   ]
  },
  {
   "cell_type": "markdown",
   "metadata": {},
   "source": [
    "### T2. Show a distribution of number of toxic categories per comment"
   ]
  },
  {
   "cell_type": "code",
   "execution_count": 6,
   "metadata": {},
   "outputs": [
    {
     "data": {
      "text/plain": [
       "array([[<AxesSubplot:title={'center':'categories_per_comment'}>]],\n",
       "      dtype=object)"
      ]
     },
     "execution_count": 6,
     "metadata": {},
     "output_type": "execute_result"
    },
    {
     "data": {
      "image/png": "[encoded data removed]",
      "text/plain": [
       "<Figure size 576x360 with 1 Axes>"
      ]
     },
     "metadata": {
      "needs_background": "light"
     },
     "output_type": "display_data"
    }
   ],
   "source": [
    "# Count number of toxic categories per comment\n",
    "'''rowsums = df.iloc[:,1:].sum(axis=1)\n",
    "x = rowsums.value_counts()\n",
    "x'''\n",
    "\n",
    "df['categories_per_comment'] = df.sum(axis=1)\n",
    "#df_tmp_2 = df_cat_per_comm.iloc[:,-1:]\n",
    "df_tmp_2 = df.loc[~((df['categories_per_comment'] == 0))]\n",
    "              \n",
    "df_tmp_2.hist(column='categories_per_comment', bins = 10, figsize=(8, 5))\n"
   ]
  },
  {
   "cell_type": "markdown",
   "metadata": {},
   "source": [
    "### T3. Show a distribution of comment lenght in terms of characters"
   ]
  },
  {
   "cell_type": "code",
   "execution_count": 7,
   "metadata": {},
   "outputs": [
    {
     "data": {
      "text/plain": [
       "array([[<AxesSubplot:title={'center':'comment_length'}>]], dtype=object)"
      ]
     },
     "execution_count": 7,
     "metadata": {},
     "output_type": "execute_result"
    },
    {
     "data": {
      "image/png": "[encoded data removed]",
      "text/plain": [
       "<Figure size 1080x720 with 1 Axes>"
      ]
     },
     "metadata": {
      "needs_background": "light"
     },
     "output_type": "display_data"
    }
   ],
   "source": [
    "# Count length of comments\n",
    "df['comment_length'] = df['comment_text'].str.len()\n",
    "#df\n",
    "'''df_tmp_3 = df.loc[~((df['comment_length'] == 0))]\n",
    "df_tmp_3'''\n",
    "df.hist(column='comment_length', bins = 50, figsize=(15, 10))\n"
   ]
  },
  {
   "cell_type": "markdown",
   "metadata": {},
   "source": [
    "### T4. Show five randomly picked comments"
   ]
  },
  {
   "cell_type": "code",
   "execution_count": 8,
   "metadata": {},
   "outputs": [
    {
     "name": "stdout",
     "output_type": "stream",
     "text": [
      "\n",
      "Random comment 86047 :\n",
      "Copyright\n",
      "Just to let you know I responded to your question on my talk page \n",
      "\n",
      "=============================================================================================\n",
      "\n",
      "Random comment 38842 :\n",
      "What about this 20 year FBI vet:http://www.youtube.com/watch?v=DhMcii8smxk\n",
      "\n",
      "O wow what a coincidence these CIA & FBI agents admit to having their investigations into Bin Laden s whereabouts cut short after they got close to him, I guess they are crazy conspiracy theorists.\n",
      "\n",
      "http://www.youtube.com/watch?v=R-Da9ghk-sk \n",
      "\n",
      "=============================================================================================\n",
      "\n",
      "Random comment 37195 :\n",
      "Ya, and it means you deleted the abuse I reported, and warned me, except he deleted my contribution without examining the website, deleting all that work, so I got pissed and left a comment on his page, another user left a comment on my page saying it was uncivil, I agreed and was going to drop it, until Kww came to my user page and started making threats. That abuse file was justified, he abusing his admin privilages for a power trip, like some sort of facist police officer, and if you analyze his contributions, there are mostly deletes, he's abusive. \n",
      "\n",
      "=============================================================================================\n",
      "\n",
      "Random comment 108273 :\n",
      "This should be discussed on the talk page of the article in question. hen \n",
      "\n",
      "=============================================================================================\n",
      "\n",
      "Random comment 66754 :\n",
      "\"What specific Wikipedia policy is such a suggestion in violation of?  talk \n",
      "\" \n",
      "\n",
      "=============================================================================================\n"
     ]
    }
   ],
   "source": [
    "# Randomly display 5 comments\n",
    "for i in range(5): \n",
    "    # Store random (from validation data) sample's index in \"k\" var\n",
    "    k = df.sample(1).index[0]\n",
    "    print(f\"\\nRandom comment\", k, \":\")\n",
    "    print(df['comment_text'][k], \"\\n\")\n",
    "    print(\"=============================================================================================\")"
   ]
  },
  {
   "cell_type": "markdown",
   "metadata": {},
   "source": [
    "# Text cleaning\n",
    "\n",
    "Let's use the following funciton as a black box for text cleaning. "
   ]
  },
  {
   "cell_type": "code",
   "execution_count": 9,
   "metadata": {},
   "outputs": [],
   "source": [
    "def clean_text(text):\n",
    "    text = text.lower()\n",
    "    text = re.sub(r\"what's\", \"what is \", text)\n",
    "    text = re.sub(r\"\\'s\", \" \", text)\n",
    "    text = re.sub(r\"\\'ve\", \" have \", text)\n",
    "    text = re.sub(r\"can't\", \"can not \", text)\n",
    "    text = re.sub(r\"n't\", \" not \", text)\n",
    "    text = re.sub(r\"i'm\", \"i am \", text)\n",
    "    text = re.sub(r\"\\'re\", \" are \", text)\n",
    "    text = re.sub(r\"\\'d\", \" would \", text)\n",
    "    text = re.sub(r\"\\'ll\", \" will \", text)\n",
    "    text = re.sub(r\"\\'scuse\", \" excuse \", text)\n",
    "    text = re.sub('\\W', ' ', text)\n",
    "    text = re.sub('\\s+', ' ', text)\n",
    "    text = text.strip(' ')\n",
    "    return text"
   ]
  },
  {
   "cell_type": "markdown",
   "metadata": {},
   "source": [
    "### T5. Apply the above function and clean the comment texts. "
   ]
  },
  {
   "cell_type": "code",
   "execution_count": 10,
   "metadata": {},
   "outputs": [],
   "source": [
    "# Clean up text\n",
    "df['tidy_comment'] = df['comment_text'].apply(lambda x: clean_text(x))\n",
    "\n",
    "# Function to remove stopwords\n",
    "def remove_stopwords(text):\n",
    "    no_stopword_text = [w for w in text.split() if not w in stop_words]\n",
    "    return ' '.join(no_stopword_text)\n",
    "\n",
    "# Call function to remove stopwords\n",
    "df['tidy_comment'] = df['tidy_comment'].apply(lambda x: remove_stopwords(x))\n",
    "#df.head()\n"
   ]
  },
  {
   "cell_type": "code",
   "execution_count": null,
   "metadata": {},
   "outputs": [],
   "source": [
    "'''# an empty list\n",
    "comments = []\n",
    "\n",
    "# extract comments\n",
    "for i in df['tidy_comment']: \n",
    "  comments.append(list((i)))\n",
    " \n",
    "# add to dataframe  \n",
    "df['tidy_comment_new'] = comments'''"
   ]
  },
  {
   "cell_type": "code",
   "execution_count": null,
   "metadata": {},
   "outputs": [],
   "source": [
    "'''# Drop rows with no comment\n",
    "df_new = df[~(df['tidy_comment_new'].str.len()==0)]\n",
    "df_new.shape, df.shape'''\n"
   ]
  },
  {
   "cell_type": "code",
   "execution_count": null,
   "metadata": {},
   "outputs": [],
   "source": [
    "'''# get all comment tags in a list\n",
    "all_comments = sum(comments,[])\n",
    "len(set(all_comments))'''\n"
   ]
  },
  {
   "cell_type": "code",
   "execution_count": 40,
   "metadata": {},
   "outputs": [
    {
     "data": {
      "text/plain": [
       "\"# Remove all rows with no \\ndf_new = df.loc[~((df['categories_per_comment'] == 0))]\""
      ]
     },
     "execution_count": 40,
     "metadata": {},
     "output_type": "execute_result"
    }
   ],
   "source": [
    "'''all_comments = nltk.FreqDist(all_comments) \n",
    "\n",
    "# create dataframe\n",
    "all_comments_df = pd.DataFrame({'Genre': list(all_comments.keys()), \n",
    "                              'Count': list(all_comments.values())})\n",
    "\n",
    "g = all_comments_df.nlargest(columns=\"Count\", n = 50) \n",
    "\n",
    "plt.figure(figsize=(12,15)) \n",
    "ax = sns.barplot(data = g, x = \"Count\", y = \"Genre\") \n",
    "ax.set(ylabel = 'Count') \n",
    "plt.show()'''\n",
    "\n",
    "'''temp_comments = []\n",
    "\n",
    "for i in movies['tidy_comments']:\n",
    "    temp_comments.append(list(set(i).intersection(set(selected_genre))))'''\n",
    "\n",
    "'''# Remove all rows with no \n",
    "df_new = df.loc[~((df['categories_per_comment'] == 0))]'''\n"
   ]
  },
  {
   "cell_type": "markdown",
   "metadata": {},
   "source": [
    "# Model development"
   ]
  },
  {
   "cell_type": "markdown",
   "metadata": {},
   "source": [
    "### T6. Split data into train (80%) and test (20%)"
   ]
  },
  {
   "cell_type": "code",
   "execution_count": 58,
   "metadata": {},
   "outputs": [
    {
     "name": "stderr",
     "output_type": "stream",
     "text": [
      "/opt/conda/lib/python3.7/site-packages/ipykernel_launcher.py:42: SettingWithCopyWarning: \n",
      "A value is trying to be set on a copy of a slice from a DataFrame.\n",
      "Try using .loc[row_indexer,col_indexer] = value instead\n",
      "\n",
      "See the caveats in the documentation: https://pandas.pydata.org/pandas-docs/stable/user_guide/indexing.html#returning-a-view-versus-a-copy\n"
     ]
    }
   ],
   "source": [
    "'''one_v_rest = OneVsRestClassifier()\n",
    "# Fit binarizer to tidied up comments\n",
    "one_v_rest.fit(df['tidy_comment'])\n",
    "\n",
    "# Transform tidied up comments\n",
    "y = one_v_rest.transform(df['tidy_comment'])\n",
    "\n",
    "# Store a TfidfVectorizer that ignores top 30% producing binary vector of 100 digits\n",
    "tfidf_vectorizer = TfidfVectorizer(max_df=0.7, max_features=100)'''\n",
    "\n",
    "'''# Instantiate empty list\n",
    "counts = []'''\n",
    "\n",
    "'''# Assign column names to \"categories\" var\n",
    "categories = list(df_temp.columns.values)\n",
    "categories'''\n",
    "\n",
    "'''categories[]\n",
    "for i in df_new['genre']: \n",
    "  genres.append(list(json.loads(i).values()))'''\n",
    "\n",
    "# Create empty list\n",
    "toxicCategories = []\n",
    "\n",
    "# Remove rows with no toxic comments \n",
    "df_new = df[~(df['categories_per_comment'] == 0)]\n",
    "\n",
    "# Drop comments & id columns and store in temp df\n",
    "df_temp = df_new.drop(['id', 'comment_text', 'categories_per_comment', 'comment_length', 'tidy_comment'], axis=1)\n",
    "\n",
    "# Create column with toxic categories each comment garners\n",
    "df_temp['toxic_categories'] = (df_temp.iloc[:,:-1] > 0).apply(lambda x: ','.join([col for cond, col in zip(x,df_temp.columns) if cond]), axis=1)\n",
    "\n",
    "# Convert delimited text into a list of values\n",
    "df_temp['toxic_categories'] = df_temp['toxic_categories'].str.split(',', n = 1, expand = False)\n",
    "\n",
    "# Extract categories as a list\n",
    "#toxicCategories = list(df_temp['toxic_categories'])\n",
    "toxicCategories = df_temp[\"toxic_categories\"].values.tolist()\n",
    "\n",
    "# Add to dataframe\n",
    "df_new['toxic_categories'] = toxicCategories\n",
    "#df_new"
   ]
  },
  {
   "cell_type": "code",
   "execution_count": 62,
   "metadata": {},
   "outputs": [],
   "source": [
    "'''# Create number of categories tags\n",
    "y = [0,1,2,3,4,5,6]'''\n",
    "\n",
    "multilabel_binarizer = MultiLabelBinarizer()\n",
    "multilabel_binarizer.fit(df_new['toxic_categories'])\n",
    "\n",
    "# transform target variable\n",
    "y = multilabel_binarizer.transform(df_new['toxic_categories'])\n",
    "\n",
    "# Store a TfidfVectorizer that ignores top 30% producing binary vector of 100 digits\n",
    "tfidf_vectorizer = TfidfVectorizer(max_df=0.7, max_features=100)\n",
    "\n",
    "# Create training a validation datasets\n",
    "xtrain, xval, ytrain, yval = train_test_split(df_new['tidy_comment'], y, \n",
    "                                              test_size = 0.2, random_state = 17)\n",
    "\n",
    "# create TF-IDF features\n",
    "xtrain_tfidf = tfidf_vectorizer.fit_transform(xtrain) \n",
    "xval_tfidf = tfidf_vectorizer.transform(xval)"
   ]
  },
  {
   "cell_type": "markdown",
   "metadata": {},
   "source": [
    "### T7. Define and train a multi-label (aka multioutput) classifier. Pick a suitable classifier as a base estimator. "
   ]
  },
  {
   "cell_type": "code",
   "execution_count": 63,
   "metadata": {},
   "outputs": [],
   "source": [
    "# Instantiate , wrapped by MultiOutputClassifier all fit to training data\n",
    "clf = MultiOutputClassifier(MultinomialNB()).fit(xtrain_tfidf, ytrain)\n",
    "# Predict y based on x validation data\n",
    "y_pred = clf.predict(xval_tfidf)\n"
   ]
  },
  {
   "cell_type": "markdown",
   "metadata": {},
   "source": [
    "### T8. Estimate accuracy"
   ]
  },
  {
   "cell_type": "code",
   "execution_count": 64,
   "metadata": {},
   "outputs": [
    {
     "name": "stdout",
     "output_type": "stream",
     "text": [
      "Acc: 0.96\n"
     ]
    }
   ],
   "source": [
    "accuracy = np.sum(y_pred  == yval) / (yval.shape[0] * yval.shape[1])\n",
    "print(f\"Acc: {accuracy:.2}\")\n"
   ]
  },
  {
   "cell_type": "markdown",
   "metadata": {},
   "source": [
    "## T9. Qualitative evaluation: Create a subset of comments where the number of predicted tags is three. Take the first ten comments and show their text, true toxic categories, and predicted categories. Write a brief comment about your observations."
   ]
  },
  {
   "cell_type": "code",
   "execution_count": 89,
   "metadata": {},
   "outputs": [
    {
     "data": {
      "text/plain": [
       "array([[False, False, False, ..., False, False, False],\n",
       "       [False, False, False, ..., False, False, False],\n",
       "       [False, False, False, ..., False, False, False],\n",
       "       ...,\n",
       "       [False, False, False, ..., False, False, False],\n",
       "       [False, False, False, ..., False, False, False],\n",
       "       [False, False, False, ..., False, False, False]])"
      ]
     },
     "execution_count": 89,
     "metadata": {},
     "output_type": "execute_result"
    }
   ],
   "source": [
    "lol = y_pred == 3\n",
    "maybe['pred_check'] = df_new\n",
    "check"
   ]
  },
  {
   "cell_type": "code",
   "execution_count": 84,
   "metadata": {},
   "outputs": [
    {
     "ename": "IndexError",
     "evalue": "only integers, slices (`:`), ellipsis (`...`), numpy.newaxis (`None`) and integer or boolean arrays are valid indices",
     "output_type": "error",
     "traceback": [
      "\u001b[0;31m---------------------------------------------------------------------------\u001b[0m",
      "\u001b[0;31mIndexError\u001b[0m                                Traceback (most recent call last)",
      "\u001b[0;32m<ipython-input-84-27f8bfd5e460>\u001b[0m in \u001b[0;36m<module>\u001b[0;34m\u001b[0m\n\u001b[1;32m     15\u001b[0m     \u001b[0;31m# Store random sample's index in \"k\" var\u001b[0m\u001b[0;34m\u001b[0m\u001b[0;34m\u001b[0m\u001b[0;34m\u001b[0m\u001b[0m\n\u001b[1;32m     16\u001b[0m     \u001b[0mk\u001b[0m \u001b[0;34m=\u001b[0m \u001b[0mxval\u001b[0m\u001b[0;34m.\u001b[0m\u001b[0msample\u001b[0m\u001b[0;34m(\u001b[0m\u001b[0;36m1\u001b[0m\u001b[0;34m)\u001b[0m\u001b[0;34m.\u001b[0m\u001b[0mindex\u001b[0m\u001b[0;34m[\u001b[0m\u001b[0;36m0\u001b[0m\u001b[0;34m]\u001b[0m\u001b[0;34m\u001b[0m\u001b[0;34m\u001b[0m\u001b[0m\n\u001b[0;32m---> 17\u001b[0;31m     \u001b[0mprint\u001b[0m\u001b[0;34m(\u001b[0m\u001b[0;34m\"Comment:\"\u001b[0m\u001b[0;34m,\u001b[0m \u001b[0mdf_qe\u001b[0m\u001b[0;34m[\u001b[0m\u001b[0;34m'comment_text'\u001b[0m\u001b[0;34m]\u001b[0m\u001b[0;34m[\u001b[0m\u001b[0mk\u001b[0m\u001b[0;34m]\u001b[0m\u001b[0;34m,\u001b[0m \u001b[0;34m\"\\nPredicted number of categories:\"\u001b[0m\u001b[0;34m,\u001b[0m \u001b[0minfer_tags\u001b[0m\u001b[0;34m(\u001b[0m\u001b[0mxval\u001b[0m\u001b[0;34m[\u001b[0m\u001b[0mk\u001b[0m\u001b[0;34m]\u001b[0m\u001b[0;34m)\u001b[0m\u001b[0;34m)\u001b[0m\u001b[0;34m,\u001b[0m\u001b[0;34m\u001b[0m\u001b[0;34m\u001b[0m\u001b[0m\n\u001b[0m\u001b[1;32m     18\u001b[0m     \u001b[0mprint\u001b[0m\u001b[0;34m(\u001b[0m\u001b[0;34m\"Actual number of categories:\"\u001b[0m\u001b[0;34m,\u001b[0m \u001b[0mdf_qe\u001b[0m\u001b[0;34m[\u001b[0m\u001b[0;34m'toxic_categories'\u001b[0m\u001b[0;34m]\u001b[0m\u001b[0;34m[\u001b[0m\u001b[0mk\u001b[0m\u001b[0;34m]\u001b[0m\u001b[0;34m,\u001b[0m \u001b[0;34m\"\\n\"\u001b[0m\u001b[0;34m)\u001b[0m\u001b[0;34m\u001b[0m\u001b[0;34m\u001b[0m\u001b[0m\n",
      "\u001b[0;31mIndexError\u001b[0m: only integers, slices (`:`), ellipsis (`...`), numpy.newaxis (`None`) and integer or boolean arrays are valid indices"
     ]
    }
   ],
   "source": [
    "\n",
    "def infer_tags(q):\n",
    "    # Clean text via custom function clean_text() and store in \"q\" var\n",
    "    q = clean_text(q)\n",
    "    # Remove stopwords\n",
    "    q = remove_stopwords(q)\n",
    "    # Turn text into binary vector\n",
    "    q_vec = tfidf_vectorizer.transform([q])\n",
    "    # Predict based on binary vector\n",
    "    q_pred = clf.predict(q_vec)\n",
    "    # Transform predicted binary vector to text and return text to calling function\n",
    "    return multilabel_binarizer.inverse_transform(q_pred)\n",
    "\n",
    "# Randomly pick 10 comments\n",
    "for i in range(10): \n",
    "    # Store random sample's index in \"k\" var\n",
    "    k = xval.sample(1).index[0]\n",
    "    print(\"Comment:\", df_qe['comment_text'][k], \"\\nPredicted number of categories:\", infer_tags(xval[k])), \n",
    "    print(\"Actual number of categories:\", df_qe['toxic_categories'][k], \"\\n\")"
   ]
  },
  {
   "cell_type": "markdown",
   "metadata": {},
   "source": [
    "# Save your notebook, the `File > Close and Halt`"
   ]
  }
 ],
 "metadata": {
  "kernelspec": {
   "display_name": "Python 3",
   "language": "python",
   "name": "python3"
  },
  "language_info": {
   "codemirror_mode": {
    "name": "ipython",
    "version": 3
   },
   "file_extension": ".py",
   "mimetype": "text/x-python",
   "name": "python",
   "nbconvert_exporter": "python",
   "pygments_lexer": "ipython3",
   "version": "3.7.3"
  }
 },
 "nbformat": 4,
 "nbformat_minor": 5
}
