{
 "cells": [
  {
   "cell_type": "markdown",
   "metadata": {
    "toc": "true"
   },
   "source": [
    "# Table of Contents\n",
    " <p><div class=\"lev1 toc-item\"><a href=\"#Saving-your-work-using-Git\" data-toc-modified-id=\"Saving-your-work-using-Git-1\"><span class=\"toc-item-num\">1&nbsp;&nbsp;</span>Saving your work using Git</a></div><div class=\"lev2 toc-item\"><a href=\"#Terminal-Access-to-the-Server\" data-toc-modified-id=\"Terminal-Access-to-the-Server-11\"><span class=\"toc-item-num\">1.1&nbsp;&nbsp;</span>Terminal Access to the Server</a></div><div class=\"lev3 toc-item\"><a href=\"#Terminal-Screen\" data-toc-modified-id=\"Terminal-Screen-111\"><span class=\"toc-item-num\">1.1.1&nbsp;&nbsp;</span>Terminal Screen</a></div><div class=\"lev2 toc-item\"><a href=\"#Review-our-work\" data-toc-modified-id=\"Review-our-work-12\"><span class=\"toc-item-num\">1.2&nbsp;&nbsp;</span>Review our work</a></div><div class=\"lev2 toc-item\"><a href=\"#Stage-Changes\" data-toc-modified-id=\"Stage-Changes-13\"><span class=\"toc-item-num\">1.3&nbsp;&nbsp;</span>Stage Changes</a></div><div class=\"lev2 toc-item\"><a href=\"#Create-a-commit-(i.e.,-a-save-point)\" data-toc-modified-id=\"Create-a-commit-(i.e.,-a-save-point)-14\"><span class=\"toc-item-num\">1.4&nbsp;&nbsp;</span>Create a commit (i.e., a save point)</a></div><div class=\"lev2 toc-item\"><a href=\"#Send-these-changes-to-the-server-for-safe-keeping-(i.e.,-publish)\" data-toc-modified-id=\"Send-these-changes-to-the-server-for-safe-keeping-(i.e.,-publish)-15\"><span class=\"toc-item-num\">1.5&nbsp;&nbsp;</span>Send these changes to the server for safe keeping (i.e., publish)</a></div><div class=\"lev2 toc-item\"><a href=\"#Confirm-our-working-folder-is-clean-and-all-work-is-tracked\" data-toc-modified-id=\"Confirm-our-working-folder-is-clean-and-all-work-is-tracked-16\"><span class=\"toc-item-num\">1.6&nbsp;&nbsp;</span>Confirm our working folder is clean and all work is tracked</a></div><div class=\"lev1 toc-item\"><a href=\"#You-have-saved-your-work-and-published-to-the-server!\" data-toc-modified-id=\"You-have-saved-your-work-and-published-to-the-server!-2\"><span class=\"toc-item-num\">2&nbsp;&nbsp;</span>You have saved your work and published to the server!</a></div><div class=\"lev1 toc-item\"><a href=\"#Review-your-projects\" data-toc-modified-id=\"Review-your-projects-3\"><span class=\"toc-item-num\">3&nbsp;&nbsp;</span>Review your projects</a></div>"
   ]
  },
  {
   "cell_type": "markdown",
   "metadata": {},
   "source": [
    "# Saving your work using Git\n",
    "\n",
    "This notebook is a light walk through of the steps to publish (save) your work back to the version control server."
   ]
  },
  {
   "cell_type": "markdown",
   "metadata": {},
   "source": [
    "## Terminal Access to the Server\n",
    "To perform these steps you have to use a Linux terminal session.\n",
    "JupyterHub provides a basic one for us.\n",
    "\n",
    "Note: The screen shots are from a different course, but are  analogous to this course and still applicable.\n",
    "\n",
    "![JH Terminal](../images/Starting_A_Terminal.png)"
   ]
  },
  {
   "cell_type": "markdown",
   "metadata": {},
   "source": [
    "### Terminal Screen\n",
    "\n",
    "![JH Terminal](../images/JH_Terminal.png)"
   ]
  },
  {
   "cell_type": "markdown",
   "metadata": {},
   "source": [
    "\n",
    "\n",
    "##  Review our work    \n",
    "```\n",
    "cd f20dsa8410*\n",
    "git status\n",
    "```\n",
    "\n",
    "**Look for files in red, labeled as \"modified\" **\n",
    "\n",
    "![JH Terminal](../images/JH_modified_status.png)\n",
    "\n",
    "\n",
    "##  Stage Changes\n",
    "```\n",
    "git add PATH_TO_FILE\n",
    "```\n",
    "  * *PATH_TO_FILE* should be the actual file you want to commit!\n",
    "  \n",
    "<span style=\"background:yellow;\">** NOTE **: Only add _.ipynb_ files.</span>\n",
    "    \n",
    "##  Create a commit (i.e., a save point)\n",
    "```\n",
    "git commit -m \"This is my Module 1 work\"\n",
    "```\n",
    "    \n",
    "    \n",
    "## Send these changes to the server for safe keeping (i.e., publish)\n",
    "```\n",
    "git push\n",
    "```\n",
    "   \n",
    "## Confirm our working folder is clean and all work is tracked\n",
    "```\n",
    "git status\n",
    "```\n"
   ]
  },
  {
   "cell_type": "markdown",
   "metadata": {},
   "source": [
    "# You have saved your work and published to the server!\n",
    "\n",
    "Now you can check the Gitlab Server!\n",
    "\n",
    "Open a new browser tab to: https://git.dsa.missouri.edu/\n",
    "\n",
    "This is the location of our Git server that has course material published for you and where your work is submitted to a private repository.\n",
    "\n",
    "You can log in with your SSO.\n",
    "Students will typically use **`DSA`** tab.\n",
    "\n",
    "![Gitlab_Login_Screen.png MISSING](../images/Gitlab_Login_Screen.png)"
   ]
  },
  {
   "cell_type": "markdown",
   "metadata": {},
   "source": [
    "# Review your projects\n",
    "\n",
    "Once you have logged on, you will have the projects view.  It will evolve and you will see more projects as you take more Data Science classes.\n",
    "\n",
    "![Gitlab_Projects.png MISSING](../images/Gitlab_Projects.png)\n",
    "\n",
    "Clicking on a project, specifically the course project with your name or SSO as a suffix will take you into that project were you can verify submitted work.\n"
   ]
  },
  {
   "cell_type": "markdown",
   "metadata": {},
   "source": [
    "Once in the project, you will see a screen similar to below:\n",
    "\n",
    "![Gitlab_In_Project.png MISSING](../images/Gitlab_In_Project.png)\n",
    "\n",
    "Clicking the **Commits** link will take you to a list of commits and you can verify your work has been submitted to the server!"
   ]
  },
  {
   "cell_type": "markdown",
   "metadata": {},
   "source": [
    "![Gitlab_Commits_Example.png MISSING](../images/Gitlab_Commits_Example.png)"
   ]
  }
 ],
 "metadata": {
  "kernelspec": {
   "display_name": "Python 3",
   "language": "python",
   "name": "python3"
  },
  "language_info": {
   "codemirror_mode": {
    "name": "ipython",
    "version": 3
   },
   "file_extension": ".py",
   "mimetype": "text/x-python",
   "name": "python",
   "nbconvert_exporter": "python",
   "pygments_lexer": "ipython3",
   "version": "3.7.3"
  },
  "latex_envs": {
   "LaTeX_envs_menu_present": true,
   "bibliofile": "biblio.bib",
   "cite_by": "apalike",
   "current_citInitial": 1,
   "eqLabelWithNumbers": true,
   "eqNumInitial": 1,
   "labels_anchors": false,
   "latex_user_defs": false,
   "report_style_numbering": false,
   "user_envs_cfg": false
  },
  "toc": {
   "colors": {
    "hover_highlight": "#DAA520",
    "running_highlight": "#FF0000",
    "selected_highlight": "#FFD700"
   },
   "moveMenuLeft": true,
   "nav_menu": {
    "height": "193.807px",
    "width": "251.989px"
   },
   "navigate_menu": true,
   "number_sections": true,
   "sideBar": true,
   "threshold": 4,
   "toc_cell": true,
   "toc_section_display": "block",
   "toc_window_display": false
  }
 },
 "nbformat": 4,
 "nbformat_minor": 2
}
