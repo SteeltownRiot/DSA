{
 "cells": [
  {
   "cell_type": "markdown",
   "metadata": {
    "toc": "true"
   },
   "source": [
    "# Table of Contents\n",
    " <p><div class=\"lev1 toc-item\"><a href=\"#Data-Science-Learning-Environment\" data-toc-modified-id=\"Data-Science-Learning-Environment-1\"><span class=\"toc-item-num\">1&nbsp;&nbsp;</span>Data Science Learning Environment</a></div><div class=\"lev1 toc-item\"><a href=\"#DSA-Logical-Cyberinfrastructure\" data-toc-modified-id=\"DSA-Logical-Cyberinfrastructure-2\"><span class=\"toc-item-num\">2&nbsp;&nbsp;</span>DSA Logical Cyberinfrastructure</a></div><div class=\"lev2 toc-item\"><a href=\"#Overview-and-Motivation\" data-toc-modified-id=\"Overview-and-Motivation-21\"><span class=\"toc-item-num\">2.1&nbsp;&nbsp;</span>Overview and Motivation</a></div><div class=\"lev1 toc-item\"><a href=\"#Gitlab\" data-toc-modified-id=\"Gitlab-3\"><span class=\"toc-item-num\">3&nbsp;&nbsp;</span>Gitlab</a></div><div class=\"lev1 toc-item\"><a href=\"#Git\" data-toc-modified-id=\"Git-4\"><span class=\"toc-item-num\">4&nbsp;&nbsp;</span>Git</a></div><div class=\"lev1 toc-item\"><a href=\"#Gitlab-and-course-modules\" data-toc-modified-id=\"Gitlab-and-course-modules-5\"><span class=\"toc-item-num\">5&nbsp;&nbsp;</span>Gitlab and course modules</a></div>"
   ]
  },
  {
   "cell_type": "markdown",
   "metadata": {},
   "source": [
    "# Data Science Learning Environment\n",
    "\n",
    "The learning environment has the following key components:\n",
    "\n",
    "  * JupyterHub, the DSA program interactive web application for real-time data science learning, coding, visualization, etc.\n",
    "  * Gitlab, the DSA program centralized Git repository and course learning activity distribution server.\n",
    "\n",
    " \n",
    "# DSA Logical Cyberinfrastructure\n",
    "\n",
    "The logical DSA cyberinfrastructure has a few components that you will see referenced in the various learning activities. \n",
    "You will become accustomed to these components and their usage, and the summary here is provided for context relative to JupyterHub discussions.\n",
    "JupyterHub, as mentioned, is the centralized web application that allows students to complete learning activities.\n",
    "\n",
    "## Overview and Motivation\n",
    "\n",
    "As part of the Data Science and Analytics program at MU, you will utilize a wide collection of computing resources, tools, and techniques. These include the following:\n",
    "\n",
    "  * Python programming language, libraries, and ecosystems\n",
    "  * R statistical programming language, libraries, and ecosystems\n",
    "  * Databases of many varieties including relational (SQL), NoSQL, graph, and spatiotemporal\n",
    "  * Cluster and cloud computing\n",
    "\n",
    "The MU JuptyerHub environment will serve as the central access point for utilizing all the computing resources referenced above. \n",
    "This environment provides access to Python, R statistical programming, and Terminal (computing server) access. \n",
    "Together, these three technologies provide mechanisms and API-based access and data processing orchestration on computing resources such as the cloud and cluster computing environments.\n",
    "Other resources such as AWS, Google Cloud, and the MU NSF Supercomputer will provide hosting for massive data sets and cloud/cluster computation, which will be accessed via the JupyterHub environment.\n",
    "\n",
    "For example, some learning activities will be Python notebooks in JupyterHub which utilize the GCloud Python API to execute computional operations on Google’s Cloud resources. \n",
    "As another example, Google BigQuery API for R statistical programming will be incorporated into R notebooks, whereby the Google Cloud is a data source/respository and data query interface. \n",
    "In both cases, students will be logged into and interacting with the MU JupyterHub environment directly. \n",
    "Connectivity to the other cyberinfrastructure components originates from this MU resource via the API. \n",
    "Similar APIs exist between Python and AWS; for example the BOTO3. \n",
    "Additionally, various learning activities will guide students through the creation and submission of data processing work for supercomputing clusters via Python scripting and terminal commands.\n",
    "\n",
    "We have developed a tight integration and course module management system between JupyterHub and Gitlab for the DSA program.\n",
    "\n",
    "![JH](../images/JH.png)\n",
    "\n"
   ]
  },
  {
   "cell_type": "markdown",
   "metadata": {
    "collapsed": true
   },
   "source": [
    "# Gitlab\n",
    "\n",
    "Gitlab is a centralized deployment of Git Version Control System repositories.\n",
    "\n",
    "# Git\n",
    "\n",
    "Version control systems (VCS) are utilized as change management systems for a variety of electronic items, such as source code, configuration files, data files, documentation, etc. Git is a very powerful VCS that is rapidly expanding in use through the technology realms. Read more about Git [here](https://git-scm.com/about/). Instead of having lessons on Git and version control, you will learn it by continual use throughout the program.\n",
    "\n",
    "# Gitlab and course modules\n",
    "\n",
    "All courses are organized in a modular format within Gitlab host repositories, which students then clone to have their dedicated and persistent learning resources.\n",
    "\n",
    "\n"
   ]
  },
  {
   "cell_type": "markdown",
   "metadata": {
    "collapsed": true
   },
   "source": [
    "![content](../images/course_content.png)\n",
    "\n",
    "All courses adhere to this modular design, ensuring the cloned learning activities are available to students for the entirety of the student's program. \n",
    "One benefit is that all coursework becomes an online, personalized reference collection for each student.\n"
   ]
  },
  {
   "cell_type": "markdown",
   "metadata": {},
   "source": [
    "![content](../images/course_content_step_1.png)"
   ]
  },
  {
   "cell_type": "markdown",
   "metadata": {},
   "source": [
    "\n",
    "![content](../images/course_content_step_2.png)\n",
    "\n"
   ]
  },
  {
   "cell_type": "markdown",
   "metadata": {},
   "source": [
    "<!-- **You will begin using the Git version control system as part of your work in Day 3.** -->"
   ]
  }
 ],
 "metadata": {
  "kernelspec": {
   "display_name": "Python 3",
   "language": "python",
   "name": "python3"
  },
  "language_info": {
   "codemirror_mode": {
    "name": "ipython",
    "version": 3
   },
   "file_extension": ".py",
   "mimetype": "text/x-python",
   "name": "python",
   "nbconvert_exporter": "python",
   "pygments_lexer": "ipython3",
   "version": "3.7.3"
  },
  "latex_envs": {
   "LaTeX_envs_menu_present": true,
   "bibliofile": "biblio.bib",
   "cite_by": "apalike",
   "current_citInitial": 1,
   "eqLabelWithNumbers": true,
   "eqNumInitial": 1,
   "labels_anchors": false,
   "latex_user_defs": false,
   "report_style_numbering": false,
   "user_envs_cfg": false
  },
  "toc": {
   "colors": {
    "hover_highlight": "#DAA520",
    "running_highlight": "#FF0000",
    "selected_highlight": "#FFD700"
   },
   "moveMenuLeft": true,
   "nav_menu": {
    "height": "121.08px",
    "width": "251.989px"
   },
   "navigate_menu": true,
   "number_sections": true,
   "sideBar": true,
   "threshold": 4,
   "toc_cell": true,
   "toc_section_display": "block",
   "toc_window_display": true
  }
 },
 "nbformat": 4,
 "nbformat_minor": 1
}
