{
 "cells": [
  {
   "cell_type": "markdown",
   "metadata": {},
   "source": [
    "# Building and Loading Text Search in Python Whoosh using TFIDF\n",
    "\n",
    "For this Practice, \n",
    "we will be creating full text search capability using Python as we did in the Lab, using TFIDF scoring. \n",
    "\n",
    "This time, our data is in the folder **`/dsa/data/all_datasets/hp`**  - but no, \n",
    "this is not Hewlett Packard documentation. \n",
    "It is something much more enchanting!\n",
    "\n",
    "Throughout the practice, reflection questions are asked. \n",
    "Take the time to answer them - consult the documentation for libraries and functions if needed, \n",
    "experiment with the code, and ask your classmates.\n",
    "\n",
    "\n",
    "## 1. Building the Whoosh Schema\n",
    "\n",
    "Import the necessary libraries and build a schema including filename, line_num and content."
   ]
  },
  {
   "cell_type": "code",
   "execution_count": null,
   "metadata": {
    "tags": []
   },
   "outputs": [],
   "source": [
    "# Add your code below \n",
    "# -----------------------\n",
    "\n",
    "\n",
    "#TO DO: import the necessary libraries for this step\n",
    "\n",
    "\n",
    "#TO DO: build the schema\n"
   ]
  },
  {
   "cell_type": "markdown",
   "metadata": {},
   "source": [
    "#### Reflection\n",
    "\n",
    " - Which libraries did you import and why?\n",
    "\n",
    " - Explain how you built the schema - did you use ID, TEXT, KEYWORD or STORED? \n",
    " - If so, where and why? ([Documentation available here](http://whoosh.readthedocs.io/en/latest/schema.html))"
   ]
  },
  {
   "cell_type": "raw",
   "metadata": {},
   "source": [
    "# Add your answers below \n",
    "# -----------------------\n",
    "\n",
    "\n",
    "\n"
   ]
  },
  {
   "cell_type": "markdown",
   "metadata": {},
   "source": [
    "\n",
    "\n",
    "----"
   ]
  },
  {
   "cell_type": "markdown",
   "metadata": {},
   "source": [
    "## 2. Loading the Data\n",
    "\n",
    "* In the first cell, import any libraries you need, create the index in the folder `hp_index` within the practices folder, and get a writer for the index.\n",
    "* In the second cell, complete the function for loadFile\n",
    "* In the third cell, process the folder and persist your changes."
   ]
  },
  {
   "cell_type": "code",
   "execution_count": null,
   "metadata": {
    "collapsed": true,
    "jupyter": {
     "outputs_hidden": true
    }
   },
   "outputs": [],
   "source": [
    "# Add your code below \n",
    "# -----------------------\n",
    "\n",
    "#TO DO: import the necessary libraries for this step\n",
    "\n",
    "\n",
    "#TO DO: Create the index\n",
    "# Note, this clears the existing index in the directory\n",
    "\n",
    "\n",
    "#TO DO: Get a writer form the created index in \n"
   ]
  },
  {
   "cell_type": "code",
   "execution_count": null,
   "metadata": {
    "collapsed": true,
    "jupyter": {
     "outputs_hidden": true
    }
   },
   "outputs": [],
   "source": [
    "# Complete code below \n",
    "# -----------------------\n",
    "\n",
    "def loadFile(writer, fname):\n",
    "    '''\n",
    "    Read file contents, load into database.\n",
    "    '''\n",
    "    line_no = 1\n",
    "    with open(fname, 'r', encoding=\"utf-8\") as infile:\n",
    "        # TODO: create indexes for each line in the input file\n",
    "\n",
    "        #-------------------------------------------------------\n",
    "        print(\"Indexed: \", fname)\n",
    "\n",
    "\n",
    "def processFolder(writer,folder):\n",
    "    print('Processing folder: ',folder)\n",
    "    for root, dirs, files in os.walk(folder):\n",
    "        # add a new line to separate folders in the output\n",
    "        print(\"\\nroot = \", root)\n",
    "        # Process Files\n",
    "        for file in files:\n",
    "            if file.endswith(\".txt\"):\n",
    "                filename = os.path.join(root, file)\n",
    "                print('root:', root, '; file:', file, '; filename:', filename)\n",
    "                print('Processing File:',filename)\n",
    "                loadFile(writer,filename)\n",
    "            else:\n",
    "                print(\"Unhandled File\")\n"
   ]
  },
  {
   "cell_type": "code",
   "execution_count": null,
   "metadata": {
    "collapsed": true,
    "jupyter": {
     "outputs_hidden": true
    }
   },
   "outputs": [],
   "source": [
    "# Add your code below \n",
    "# -----------------------\n",
    "\n",
    "# TODO: process the folder and persist your changes \n",
    " \n",
    "    \n",
    "    "
   ]
  },
  {
   "cell_type": "markdown",
   "metadata": {},
   "source": [
    "#### Reflection\n",
    "\n",
    " - Which libraries did you import and why?\n",
    " - In loadFile, how did you get the line number for each line?\n",
    " - In loadFile, which code line adds an index for the processed line?\n",
    " - In processFolder, what does the following line do? Give an example.\n",
    "```\n",
    "filename = os.path.join(root, file)\n",
    "```\n",
    " - What code line makes sure the index get persisted? (How is it saved so it can be used?)"
   ]
  },
  {
   "cell_type": "raw",
   "metadata": {},
   "source": [
    "# Add your answers below \n",
    "# -----------------------\n",
    "\n",
    "\n",
    "\n"
   ]
  },
  {
   "cell_type": "markdown",
   "metadata": {},
   "source": [
    "----"
   ]
  },
  {
   "cell_type": "markdown",
   "metadata": {},
   "source": [
    "## 3. Executing Queries\n",
    "* In the first cell, import any libraries you need, and find the indexes of lines where the string 'Harry' appears. Display the top 10 hits.\n",
    "* In the second cell, import any additional libraries you need, and find the indexes of lines where the string 'Harry' appears using TF-IDF as the scoring mechanism. Display the top 10 hits.\n",
    "* In the third cell, import any additional libraries you need, and use a filter to list the indexes in chapter 6 corresponding to the search string 'Harry' using TF_IDF as the scoring mechanism. Display the top 10 hits."
   ]
  },
  {
   "cell_type": "code",
   "execution_count": null,
   "metadata": {
    "collapsed": true,
    "jupyter": {
     "outputs_hidden": true
    }
   },
   "outputs": [],
   "source": [
    "# Add your code below \n",
    "# -----------------------\n",
    "\n",
    "#TO DO: import the necessary libraries for this step\n",
    "\n",
    "\n",
    "#TO DO: Find the indexes of lines where the string 'Harry' appears. \n",
    "\n",
    "\n",
    "#TO DO: display the top 10 hits\n"
   ]
  },
  {
   "cell_type": "code",
   "execution_count": null,
   "metadata": {
    "collapsed": true,
    "jupyter": {
     "outputs_hidden": true
    }
   },
   "outputs": [],
   "source": [
    "# Add your code below \n",
    "# -----------------------\n",
    "\n",
    "#TO DO: import the necessary libraries for this step\n",
    "\n",
    "\n",
    "#TO DO: Find the indexes of lines where the string 'Harry' appears using TF_IDF as the scoring mechanism. \n",
    "\n",
    "\n",
    "#TO DO: display the top 10 hits\n"
   ]
  },
  {
   "cell_type": "code",
   "execution_count": null,
   "metadata": {
    "collapsed": true,
    "jupyter": {
     "outputs_hidden": true
    }
   },
   "outputs": [],
   "source": [
    "# Add your code below \n",
    "# -----------------------\n",
    "\n",
    "#TO DO: import the necessary libraries for this step\n",
    "\n",
    "\n",
    "#TO DO: Use a filter to list the indexes in chapter 6 corresponding to the search string 'Harry' \n",
    "# using TF_IDF as the scoring mechanism. \n",
    "\n",
    "\n",
    "    #TO DO: display the top 10 hits\n"
   ]
  },
  {
   "cell_type": "markdown",
   "metadata": {},
   "source": [
    "#### Reflection\n",
    "\n",
    " - Which libraries did you import and why?\n",
    " - What differences do you see in the results of the first two cells?\n",
    " - What do those differences mean?"
   ]
  },
  {
   "cell_type": "raw",
   "metadata": {},
   "source": [
    "# Add your answers below \n",
    "# -----------------------\n",
    "\n",
    "\n",
    "\n",
    "\n",
    "\n"
   ]
  },
  {
   "cell_type": "markdown",
   "metadata": {},
   "source": [
    "----\n",
    "\n",
    "# Save your notebook, then `File > Close and Halt`"
   ]
  }
 ],
 "metadata": {
  "kernelspec": {
   "display_name": "Python 3",
   "language": "python",
   "name": "python3"
  },
  "language_info": {
   "codemirror_mode": {
    "name": "ipython",
    "version": 3
   },
   "file_extension": ".py",
   "mimetype": "text/x-python",
   "name": "python",
   "nbconvert_exporter": "python",
   "pygments_lexer": "ipython3",
   "version": "3.7.3"
  },
  "latex_envs": {
   "LaTeX_envs_menu_present": true,
   "bibliofile": "biblio.bib",
   "cite_by": "apalike",
   "current_citInitial": 1,
   "eqLabelWithNumbers": true,
   "eqNumInitial": 1,
   "labels_anchors": false,
   "latex_user_defs": false,
   "report_style_numbering": false,
   "user_envs_cfg": false
  },
  "toc": {
   "colors": {
    "hover_highlight": "#DAA520",
    "running_highlight": "#FF0000",
    "selected_highlight": "#FFD700"
   },
   "moveMenuLeft": true,
   "nav_menu": {
    "height": "175.625px",
    "width": "251.989px"
   },
   "navigate_menu": true,
   "number_sections": true,
   "sideBar": true,
   "threshold": 4,
   "toc_cell": true,
   "toc_section_display": "block",
   "toc_window_display": false
  }
 },
 "nbformat": 4,
 "nbformat_minor": 4
}
