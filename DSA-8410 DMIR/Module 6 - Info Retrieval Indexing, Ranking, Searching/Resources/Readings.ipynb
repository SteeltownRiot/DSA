{
 "cells": [
  {
   "cell_type": "markdown",
   "metadata": {
    "toc": "true"
   },
   "source": [
    "# Table of Contents\n",
    " <p><div class=\"lev1 toc-item\"><a href=\"#Overview-of-Information-Retrieval-(IR)\" data-toc-modified-id=\"Overview-of-Information-Retrieval-(IR)-1\"><span class=\"toc-item-num\">1&nbsp;&nbsp;</span>Overview of Information Retrieval (IR)</a></div><div class=\"lev2 toc-item\"><a href=\"#Short-Concept-Videos\" data-toc-modified-id=\"Short-Concept-Videos-11\"><span class=\"toc-item-num\">1.1&nbsp;&nbsp;</span>Short Concept Videos</a></div><div class=\"lev2 toc-item\"><a href=\"#Reference-Links-:-Readings\" data-toc-modified-id=\"Reference-Links-:-Readings-12\"><span class=\"toc-item-num\">1.2&nbsp;&nbsp;</span>Reference Links : Readings</a></div>"
   ]
  },
  {
   "cell_type": "markdown",
   "metadata": {},
   "source": [
    "# Overview of Information Retrieval (IR)\n",
    "\n",
    "**Summary**\n",
    "\n",
    "Information retrieval is a broad field with a diverse collection of techniques.\n",
    "In the early years, we organized content in _digital libraries_, with document retrieval based on keywords or document metadata.\n",
    "Then, the field evolved to text based search of the content.\n",
    "Eventually, IR models were applied to a variety of _content_, both textual and non-textual (e.g., images, videos, sounds, etc.).\n",
    "\n",
    "    Information retrieval (IR) is the activity of obtaining information system \n",
    "    resources relevant to an information need from a collection of information \n",
    "    resources. Searches can be based on full-text or other content-based \n",
    "    indexing. Information retrieval is the science of searching for information \n",
    "    in a document, searching for documents themselves, and also searching for \n",
    "    metadata that describe data, and for databases of texts, images or sounds.\n",
    "\n",
    "    -- Wikipedia\n",
    "\n",
    "\n",
    "The below chart from Wikipedia shows a good organization of various models and approaches for IR.\n",
    "\n",
    "![IR Models](../images/Information-Retrieval-Models.png)\n"
   ]
  },
  {
   "cell_type": "markdown",
   "metadata": {},
   "source": [
    "The term Information retrieval first coined by Calvin Mooers in 1951. According to Calvin Mooers (1951), information retrieval is \"searching and retrieval of information from storage according to specification by subject.\""
   ]
  },
  {
   "cell_type": "markdown",
   "metadata": {},
   "source": [
    "## Short Concept Videos\n",
    "  - [Basic Information Retrieval](https://web.dsa.missouri.edu/static/videos/DMIR/DATA_SCI_8630_DMIR_BasicIR.mp4)\n",
    "  - [Vector Space Models](https://web.dsa.missouri.edu/static/videos/DMIR/DATA_SCI_8630_DMIR_VectorModels.mp4)\n",
    "  - [Inverted File](https://web.dsa.missouri.edu/static/videos/DMIR/DATA_SCI_8630_DMIR_InvertedFiles.mp4)\n",
    "\n",
    "Now that you have seen a brief overview for context, please continue to the readings."
   ]
  },
  {
   "cell_type": "markdown",
   "metadata": {},
   "source": [
    "## Reference Links : Readings\n",
    "\n",
    "The following is the suggested reading for above topic. Some of them are discussed in previous modules. It is strongly suggested you read each of these links, starting with a quick skim at first, then revisiting them later as you take a break from programming activities.\n",
    "\n",
    "  * [Stemming](https://en.wikipedia.org/wiki/Stemming)\n",
    "  * [Lemmatization](https://en.wikipedia.org/wiki/Lemmatisation)\n",
    "  * [Bag of Words](https://en.wikipedia.org/wiki/Bag-of-words_model)\n",
    "  * [Vector Space Models](https://en.wikipedia.org/wiki/Vector_space_model)   \n",
    "     versus \n",
    "  * [Inverted Files](https://en.wikipedia.org/wiki/Inverted_index)\n",
    "  * [Topic-based](https://en.wikipedia.org/wiki/Topic-based_vector_space_model)\n",
    "  \n",
    "\n"
   ]
  },
  {
   "cell_type": "markdown",
   "metadata": {},
   "source": [
    "----"
   ]
  }
 ],
 "metadata": {
  "kernelspec": {
   "display_name": "Python 3",
   "language": "python",
   "name": "python3"
  },
  "language_info": {
   "codemirror_mode": {
    "name": "ipython",
    "version": 3
   },
   "file_extension": ".py",
   "mimetype": "text/x-python",
   "name": "python",
   "nbconvert_exporter": "python",
   "pygments_lexer": "ipython3",
   "version": "3.7.3"
  },
  "latex_envs": {
   "LaTeX_envs_menu_present": true,
   "bibliofile": "biblio.bib",
   "cite_by": "apalike",
   "current_citInitial": 1,
   "eqLabelWithNumbers": true,
   "eqNumInitial": 1,
   "labels_anchors": false,
   "latex_user_defs": false,
   "report_style_numbering": false,
   "user_envs_cfg": false
  },
  "toc": {
   "colors": {
    "hover_highlight": "#DAA520",
    "running_highlight": "#FF0000",
    "selected_highlight": "#FFD700"
   },
   "moveMenuLeft": true,
   "nav_menu": {
    "height": "66.5341px",
    "width": "251.989px"
   },
   "navigate_menu": true,
   "number_sections": true,
   "sideBar": true,
   "threshold": 4,
   "toc_cell": true,
   "toc_section_display": "block",
   "toc_window_display": false
  }
 },
 "nbformat": 4,
 "nbformat_minor": 4
}
