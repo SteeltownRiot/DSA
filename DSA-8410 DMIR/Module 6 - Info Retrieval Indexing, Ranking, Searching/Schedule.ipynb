{
 "cells": [
  {
   "cell_type": "markdown",
   "metadata": {},
   "source": [
    "# Module Six: \n",
    "\n",
    "# Indexing, Ranking & Searching\n",
    "\n",
    "## Topics covered\n",
    "  * Document Indexing\n",
    "      * Extending search capabilities in postgres\n",
    "      * Pure Python solution\n",
    "  * Ranking Results\n",
    "  * Searching\n",
    "  * Vector Space Models\n",
    "  * Inverted Files"
   ]
  },
  {
   "cell_type": "markdown",
   "metadata": {},
   "source": [
    "## Lecture\n",
    " * [Search Engines](./slides/search-engine.pdf)\n",
    " * [Notes and Links to Points of Reference](./resources/Readings.ipynb)\n",
    " * [Vector Space Model](./resources/vsm.ipynb)\n",
    " \n",
    "## Labs\n",
    "  * [Full Text Search, Python - I](./labs/lab-indexing-python.ipynb)\n",
    "  * [Full Text Search, Python - II](./labs/lab-ranking-python.ipynb)\n",
    "  \n",
    "## Practices \n",
    "\n",
    "  * [Full Text Search, Python](./practices/Text_Search_TFIDF_Practice.ipynb)\n",
    "\n",
    "\n",
    "## Exercises\n",
    "* [Module 6 Exercises, Text Search, Python](./exercises/m6_Exercise.ipynb)"
   ]
  },
  {
   "cell_type": "markdown",
   "metadata": {},
   "source": [
    "## Submitting your work\n",
    "<span style=\"background-color:yellow\">Please submit all work, including labs, practices, and exercises.</span>\n",
    "#### Steps:\n",
    "  1. Open Terminal in JupyterHub\n",
    "  1. Change into the course folder\n",
    "  1. Stage (Git Add) the module's lab, practice and exercise work   \n",
    "  `git  add   module6/labs  module6/practices    module6/exercises`\n",
    "  1. Create your work snapshot (Git Commit)  \n",
    "  `git   commit   -m   \"Module 6 submission\"`\n",
    "  1. Upload the snapshot to the server (Git Push)  \n",
    "  `git   push`\n",
    "  \n",
    "## Pulling the next module\n",
    "After the module has been published by the teaching team, you can pull the course materials.\n",
    "#### Steps:\n",
    "  1. Open Terminal in JupyterHub\n",
    "  1. Change into the course folder\n",
    "  1. Pull the material  \n",
    "  `git pull --no-edit upstream master`\n",
    "\n"
   ]
  }
 ],
 "metadata": {
  "kernelspec": {
   "display_name": "Python 3",
   "language": "python",
   "name": "python3"
  },
  "language_info": {
   "codemirror_mode": {
    "name": "ipython",
    "version": 3
   },
   "file_extension": ".py",
   "mimetype": "text/x-python",
   "name": "python",
   "nbconvert_exporter": "python",
   "pygments_lexer": "ipython3",
   "version": "3.7.3"
  },
  "latex_envs": {
   "LaTeX_envs_menu_present": true,
   "bibliofile": "biblio.bib",
   "cite_by": "apalike",
   "current_citInitial": 1,
   "eqLabelWithNumbers": true,
   "eqNumInitial": 1,
   "labels_anchors": false,
   "latex_user_defs": false,
   "report_style_numbering": false,
   "user_envs_cfg": false
  },
  "toc": {
   "colors": {
    "hover_highlight": "#DAA520",
    "running_highlight": "#FF0000",
    "selected_highlight": "#FFD700"
   },
   "moveMenuLeft": true,
   "nav_menu": {
    "height": "211.989px",
    "width": "251.989px"
   },
   "navigate_menu": true,
   "number_sections": true,
   "sideBar": true,
   "threshold": 4,
   "toc_cell": true,
   "toc_section_display": "block",
   "toc_window_display": false
  }
 },
 "nbformat": 4,
 "nbformat_minor": 4
}
