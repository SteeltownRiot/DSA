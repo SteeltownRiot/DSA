{
 "cells": [
  {
   "cell_type": "markdown",
   "metadata": {},
   "source": [
    "# Data Acquisition: Reddit Scraping\n",
    "\n",
    "In this exercise, we will search a query (e.g., \"data science\") on the old Reddit interface (https://www.old.reddit.com/). We will then grab the url (e.g., https://old.reddit.com/search?q=data+science) of the search page and scrap the returned posts. The reason for using the old Reddit interface is that the html tags are user-friendly. We will focus on extracting title, author, author's profile, subreddit, tag, timestamp, number of votes, and number of comments. \n",
    "<img src=\"../images/reddit_search.png\" />\n",
    "\n",
    "\n",
    "\n",
    "* You are free to use your own query string. \n",
    "* On the search page, a set of subreddits are shown. Ignore these subreddits and focus on extracting Reddit posts. \n",
    "\n"
   ]
  },
  {
   "cell_type": "markdown",
   "metadata": {},
   "source": [
    "**Activity 1:** Fetch the page and create a soup object using Beautiful soup library"
   ]
  },
  {
   "cell_type": "code",
   "execution_count": null,
   "metadata": {},
   "outputs": [],
   "source": [
    "# Your code for activity 1 goes here..\n",
    "#---------------------------------------\n",
    "\n",
    "#import the library to query a website\n",
    "import requests\n",
    "# import Beautiful soup library to access \n",
    "# functions to parse the data returned from the website\n",
    "from bs4 import BeautifulSoup\n",
    "\n",
    "#import pandas to convert list to data frame\n",
    "import pandas as pd\n",
    "#imprt numpy\n",
    "import numpy as np\n",
    "\n",
    "\n",
    "headers = {'User-Agent': 'MyAPP/1.0'}  \n",
    "# this will make sure our query is comming from a browser and it's not a bot\n",
    "\n",
    "\n",
    "# specify the url\n",
    "url = <your code goes here>\n",
    "\n",
    "# Open website URL and return the html to the variable 'response'\n",
    "response = requests.get(url, headers=headers)\n",
    "\n",
    "# Parse the html in the 'response' variable, and store it in Beautiful Soup format\n",
    "soup = <your code goes here>\n",
    "\n"
   ]
  },
  {
   "cell_type": "markdown",
   "metadata": {},
   "source": [
    "**Activity 2:** Extract the titles and URLs of the retrieved posts from the soup and print them."
   ]
  },
  {
   "cell_type": "code",
   "execution_count": null,
   "metadata": {
    "tags": []
   },
   "outputs": [],
   "source": [
    "# Your Code Below:\n",
    "# ----------------\n",
    "\n",
    "\n",
    "\n",
    "\n"
   ]
  },
  {
   "cell_type": "markdown",
   "metadata": {},
   "source": [
    "**Activity 3:** Extract the author ids and their profile links from the retrieved posts and print them."
   ]
  },
  {
   "cell_type": "code",
   "execution_count": null,
   "metadata": {},
   "outputs": [],
   "source": [
    "attrs = {'class': 'search-result'}"
   ]
  },
  {
   "cell_type": "code",
   "execution_count": null,
   "metadata": {
    "tags": []
   },
   "outputs": [],
   "source": [
    "# Your Code Below:\n",
    "# ----------------\n",
    "\n",
    "\n",
    "\n",
    "\n"
   ]
  },
  {
   "cell_type": "markdown",
   "metadata": {},
   "source": [
    "**Activity 4:** Extract the submission time of the retrieved posts and print them."
   ]
  },
  {
   "cell_type": "code",
   "execution_count": null,
   "metadata": {
    "tags": []
   },
   "outputs": [],
   "source": [
    "# Your Code Below:\n",
    "# ----------------\n",
    "\n",
    "\n",
    "\n",
    "\n"
   ]
  },
  {
   "cell_type": "markdown",
   "metadata": {},
   "source": [
    "**Activity 5:** Extract the subreddits of the retrieved posts and print them"
   ]
  },
  {
   "cell_type": "code",
   "execution_count": null,
   "metadata": {},
   "outputs": [],
   "source": [
    "# Your Code Below:\n",
    "# ----------------\n",
    "\n",
    "\n",
    "\n",
    "\n"
   ]
  },
  {
   "cell_type": "markdown",
   "metadata": {},
   "source": [
    "**Activity 6:** Extract the points of the retrieved posts and print them"
   ]
  },
  {
   "cell_type": "code",
   "execution_count": null,
   "metadata": {},
   "outputs": [],
   "source": [
    "# Your Code Below:\n",
    "# ----------------\n",
    "\n",
    "\n",
    "\n",
    "\n"
   ]
  },
  {
   "cell_type": "markdown",
   "metadata": {},
   "source": [
    "**Activity 7:** Extract the number of comments of the retrieved posts and print them"
   ]
  },
  {
   "cell_type": "code",
   "execution_count": null,
   "metadata": {},
   "outputs": [],
   "source": [
    "# Your Code Below:\n",
    "# ----------------\n",
    "\n",
    "\n",
    "\n",
    "\n"
   ]
  },
  {
   "cell_type": "markdown",
   "metadata": {},
   "source": [
    "**Activity 8:** Using the above features you extracted, create a dataframe for the retrieved posts, and print the first 10 entries. "
   ]
  },
  {
   "cell_type": "code",
   "execution_count": null,
   "metadata": {},
   "outputs": [],
   "source": [
    "# Your Code Below:\n",
    "# ----------------\n",
    "\n",
    "\n",
    "\n",
    "\n"
   ]
  },
  {
   "cell_type": "markdown",
   "metadata": {},
   "source": [
    "**Activity 9:** Save the retrieved posts in a json file.  "
   ]
  },
  {
   "cell_type": "code",
   "execution_count": null,
   "metadata": {},
   "outputs": [],
   "source": [
    "# Your Code Below:\n",
    "# ----------------\n",
    "\n",
    "\n",
    "\n",
    "\n"
   ]
  },
  {
   "cell_type": "markdown",
   "metadata": {},
   "source": [
    "**Verification:** Let's reload the JSON file and print it out"
   ]
  },
  {
   "cell_type": "code",
   "execution_count": null,
   "metadata": {},
   "outputs": [],
   "source": [
    "\n",
    "import json\n",
    "with open(## You filename form above goes here, \n",
    "          \"r\") as f:\n",
    "    parsed = json.load(f)\n",
    "    print( json.dumps(parsed, indent=4) )\n",
    "\n",
    "\n"
   ]
  },
  {
   "cell_type": "markdown",
   "metadata": {},
   "source": [
    "# Save your notebook, then `File > Close and Halt`"
   ]
  }
 ],
 "metadata": {
  "anaconda-cloud": {},
  "kernelspec": {
   "display_name": "Python 3",
   "language": "python",
   "name": "python3"
  },
  "language_info": {
   "codemirror_mode": {
    "name": "ipython",
    "version": 3
   },
   "file_extension": ".py",
   "mimetype": "text/x-python",
   "name": "python",
   "nbconvert_exporter": "python",
   "pygments_lexer": "ipython3",
   "version": "3.7.3"
  }
 },
 "nbformat": 4,
 "nbformat_minor": 4
}
