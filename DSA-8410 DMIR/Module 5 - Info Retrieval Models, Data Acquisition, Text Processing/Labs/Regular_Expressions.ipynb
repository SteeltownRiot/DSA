{
 "cells": [
  {
   "cell_type": "markdown",
   "metadata": {},
   "source": [
    "# Text Searching/processing: Regular Expressions\n",
    "\n",
    "Regular expressions (or _REGEX_) are fundamental parts of any text searching/processing. Regular expressions represent a robust and flexible way to define patterns of characters within text documents. There are many uses, such as pattern matching and term extraction. With regex and some custom code, we can easily facilitate search capabilities for a small corpus. \n",
    "\n",
    "\n",
    "## Typical REGEX Tasks\n",
    "\n",
    " * Search and Extract\n",
    " * Search and Replace\n",
    " * Search and Count"
   ]
  },
  {
   "cell_type": "markdown",
   "metadata": {},
   "source": [
    "**References:**\n",
    " * https://en.wikipedia.org/wiki/Regular_expression\n",
    " * [Python Regular Expressions](https://docs.python.org/3/library/re.html)\n",
    "\n",
    "\n",
    "Read more about the basics of REGEX in [this section](https://en.wikipedia.org/wiki/Regular_expression#Basic_concepts).\n",
    "\n",
    "\n",
    "Here are some _Cheat Sheets_ for constructing regular expressions:\n",
    " * https://www.debuggex.com/cheatsheet/regex/python\n",
    " * https://web.dsa.missouri.edu/static/PDF/python-regular-expressions-cheat-sheet.pdf\n",
    " * [Cheat Sheet + Testing Playground](http://www.pyregex.com/)\n",
    "\n",
    "\n",
    "**Below are a number of examples to play with.**"
   ]
  },
  {
   "cell_type": "code",
   "execution_count": null,
   "metadata": {},
   "outputs": [],
   "source": [
    "# The Python library\n",
    "import re"
   ]
  },
  {
   "cell_type": "markdown",
   "metadata": {},
   "source": [
    "## Search"
   ]
  },
  {
   "cell_type": "code",
   "execution_count": null,
   "metadata": {},
   "outputs": [],
   "source": [
    "text_to_search = 'What is the frequency Kenneth!?'"
   ]
  },
  {
   "cell_type": "code",
   "execution_count": null,
   "metadata": {},
   "outputs": [],
   "source": [
    "query_text = r'the'\n",
    "searched = re.search(query_text, text_to_search)\n",
    "\n",
    "query_text = r'What'\n",
    "also_searched = re.search(query_text, text_to_search)\n",
    "\n",
    "print(searched)\n",
    "print(also_searched)\n",
    "print(type(searched))"
   ]
  },
  {
   "cell_type": "markdown",
   "metadata": {},
   "source": [
    "The `r` at the start of the pattern string designates a python \"raw\" string which passes through backslashes without change which is very handy for regular expressions. It is recommended that we always write pattern strings with the 'r' just as a habit. The search results are returned as a `Match` object"
   ]
  },
  {
   "cell_type": "markdown",
   "metadata": {},
   "source": [
    "### Extracting Data from the RE objects\n",
    "\n",
    "You see above, we did not get back strings but instead objects with attributes.\n",
    "We have to use the API to extract matches.\n",
    "\n",
    "<!--\n",
    "This may seem strange. \n",
    "Since we tried to match on '`the`', so why print '`the`'?\n",
    "You will see as we progress, the key is that we used a **pattern**, not a literal.\n",
    "-->"
   ]
  },
  {
   "cell_type": "code",
   "execution_count": null,
   "metadata": {},
   "outputs": [],
   "source": [
    "if searched:\n",
    "    print(searched.group(0))\n",
    "else:\n",
    "    print('Nothing found')"
   ]
  },
  {
   "cell_type": "code",
   "execution_count": null,
   "metadata": {},
   "outputs": [],
   "source": [
    "also_searched.group(0)"
   ]
  },
  {
   "cell_type": "code",
   "execution_count": null,
   "metadata": {},
   "outputs": [],
   "source": [
    "query_text = r'fellow'\n",
    "not_matched = re.match(query_text, text_to_search)\n",
    "print(type(not_matched))"
   ]
  },
  {
   "cell_type": "code",
   "execution_count": null,
   "metadata": {},
   "outputs": [],
   "source": [
    "if not_matched:\n",
    "    print(not_matched.group(0))\n",
    "else:\n",
    "    print('Nothing matched')"
   ]
  },
  {
   "cell_type": "markdown",
   "metadata": {},
   "source": [
    "## Search and Extract (match)\n",
    "\n",
    "The goal of matching is to find all the instances of a pattern!\n",
    "Specifically, we typically want to extract them."
   ]
  },
  {
   "cell_type": "markdown",
   "metadata": {},
   "source": [
    "### Find All (multiple matches, counting)\n",
    "\n",
    "What happens when we have multiple instances of the pattern?\n",
    "Well, the REGEX should get us all instances!"
   ]
  },
  {
   "cell_type": "code",
   "execution_count": null,
   "metadata": {},
   "outputs": [],
   "source": [
    "query_text = r'frequency'\n",
    "found = re.findall(query_text, text_to_search)\n",
    "print(type(found))"
   ]
  },
  {
   "cell_type": "code",
   "execution_count": null,
   "metadata": {},
   "outputs": [],
   "source": [
    "print(found)"
   ]
  },
  {
   "cell_type": "markdown",
   "metadata": {},
   "source": [
    "Notice we got a list! \n",
    "(A list of one item.)\n",
    "Since a list is a familiar Python object, the `findall` concept is typically very useful.\n",
    "Think back to **BeautifulSoup** parsing and searches \n",
    "and how `findall` versus `find` had more robustness in algorithm use.\n",
    "For instance, if the term was not found previously, we saw:\n",
    "```\n",
    "<class 'NoneType'>\n",
    "```\n",
    "Compare that to the below!"
   ]
  },
  {
   "cell_type": "code",
   "execution_count": null,
   "metadata": {},
   "outputs": [],
   "source": [
    "query_text = r'fellow'\n",
    "not_matched = found = re.findall(query_text, text_to_search)\n",
    "print(not_matched)"
   ]
  },
  {
   "cell_type": "markdown",
   "metadata": {
    "tags": []
   },
   "source": [
    "Note, an empty list!\n",
    "\n",
    "------\n",
    "\n",
    "#### Now, the power is in the multi-occurence!"
   ]
  },
  {
   "cell_type": "code",
   "execution_count": null,
   "metadata": {},
   "outputs": [],
   "source": [
    "text_to_search = \"frog bog log cog nog fog food\"\n",
    "\n",
    "### Consult the cheat sheets to fully understand!\n",
    "txt_pattern = r'\\wo\\w?'\n",
    "## A breakdown of this RE:\n",
    "# \\w == alphanumeric!\n",
    "## o == o\n",
    "## \\w == alpahnumeric\n",
    "## ? == optional\n",
    "\n",
    "found = re.findall(txt_pattern, text_to_search)\n",
    "print(type(found))"
   ]
  },
  {
   "cell_type": "code",
   "execution_count": null,
   "metadata": {},
   "outputs": [],
   "source": [
    "print(found)\n",
    "print(\"Num of matches: {}\".format(len(found)))"
   ]
  },
  {
   "cell_type": "markdown",
   "metadata": {},
   "source": [
    "We see that from the **`\\wo\\w`** pattern we found multiple words.\n",
    "\n",
    "To recap, based on your reading of the comments and the cheat sheets,\n",
    "we expect a pattern as follows:\n",
    " 1. Any alphanumeric character\n",
    " 1. the letter 'o'\n",
    " 1. Any alphanumeric character\n",
    " \n",
    "**Take special note of the last match: `foo` from `food`. It didn't include the other overlapping match `ood`. We can include the overlapping matches with positive look-ahead assertion (see [here](https://junli.netlify.app/en/overlapping-regular-expression-in-python/)).**\n"
   ]
  },
  {
   "cell_type": "code",
   "execution_count": null,
   "metadata": {},
   "outputs": [],
   "source": [
    "found = re.findall(r'(?=(\\wo\\w?))', text_to_search)\n",
    "print(found)"
   ]
  },
  {
   "cell_type": "markdown",
   "metadata": {},
   "source": [
    "---\n",
    "\n",
    "## Substitution (sub)\n",
    "\n",
    "In the next example, we are using an exclusionary pattern: **`^`** within a set of characters **`[]`**"
   ]
  },
  {
   "cell_type": "code",
   "execution_count": null,
   "metadata": {},
   "outputs": [],
   "source": [
    "text_to_change = \"frog bog log cog nog fog\"\n",
    "more_text_to_change = \"frog bog log cog nog fog schlog nschlog grog\""
   ]
  },
  {
   "cell_type": "code",
   "execution_count": null,
   "metadata": {},
   "outputs": [],
   "source": [
    "regex_sub = r'[^og ]{1,2}'\n",
    "#find not o and not g and not space\n",
    "#1 or 2 of these things\n",
    "subbed = re.sub(regex_sub, 'd', text_to_change)\n",
    "subbed_again = re.sub(regex_sub, 'd', more_text_to_change)\n",
    "print(type(subbed))"
   ]
  },
  {
   "cell_type": "code",
   "execution_count": null,
   "metadata": {},
   "outputs": [],
   "source": [
    "print(subbed)\n",
    "print(subbed_again)"
   ]
  },
  {
   "cell_type": "markdown",
   "metadata": {
    "tags": []
   },
   "source": [
    "We see that each time with did not match one of the following;\n",
    " 1. o\n",
    " 1. g\n",
    " 1. _a space_\n",
    "\n",
    "Then, we replaced that match with the letter **`d`**.\n",
    "A key aspect is the `{1,2}` that specifcied one or two of any of the three characters.\n",
    "That is how `frog` changed to `dog`!\n",
    "\n",
    "You might want to see how the output changes using `r'[^og ]{1}'` or `r'[^og ]{2}'`.\n",
    "\n",
    "\n"
   ]
  },
  {
   "cell_type": "code",
   "execution_count": null,
   "metadata": {},
   "outputs": [],
   "source": [
    "regex_sub = r'[^og ]{2}'\n",
    "#find not o and not g and not space\n",
    "#1 or 2 of these things\n",
    "subbed = re.sub(regex_sub, 'd', text_to_change)\n",
    "subbed_again = re.sub(regex_sub, 'd', more_text_to_change)\n",
    "print(f\"Given: {text_to_change}\")\n",
    "print(f\"Subs.: {subbed}\")\n",
    "print(f\"Given: {more_text_to_change}\")\n",
    "print(f\"Subs.: {subbed_again}\")\n"
   ]
  },
  {
   "cell_type": "markdown",
   "metadata": {},
   "source": [
    "\n",
    "## Tokenization (split)\n",
    "\n",
    "Classically, we see the tokenization or spitting of data on particular characters such as lines (`\\n`) and fields (`,`). What if we want to use a class of characters?\n"
   ]
  },
  {
   "cell_type": "code",
   "execution_count": null,
   "metadata": {},
   "outputs": [],
   "source": [
    "text_to_split = 'This1is2some34text567to89split'"
   ]
  },
  {
   "cell_type": "code",
   "execution_count": null,
   "metadata": {},
   "outputs": [],
   "source": [
    "split_text = re.split(r'\\d+', text_to_split)\n",
    "print(split_text)"
   ]
  },
  {
   "cell_type": "markdown",
   "metadata": {
    "tags": []
   },
   "source": [
    "Above, we see that we are matching to a digit (`\\d`), specifying _one or more_ with the **`+`**.\n",
    "This allows the string to split on the following:\n",
    " * 1\n",
    " * 2\n",
    " * 34\n",
    " * 567\n",
    " * 89\n",
    "\n",
    "You will observe this is much more powerful that spliting on commas or some other single character alone.\n",
    "\n",
    "---\n",
    "\n",
    "## Caution: Greed\n",
    "\n",
    "REGEX patterns are _greedy_, meaning they will match the largest region possible.\n",
    "\n",
    "In the example below: \n",
    " 1. \"`.`\" matches any character\n",
    " 1. \"`*`\" is a _zero or more_ multiplier for the character match."
   ]
  },
  {
   "cell_type": "code",
   "execution_count": null,
   "metadata": {},
   "outputs": [],
   "source": [
    "html = '<h1>Header!</h1> <p>Paragraph!</p>'"
   ]
  },
  {
   "cell_type": "code",
   "execution_count": null,
   "metadata": {},
   "outputs": [],
   "source": [
    "# Match on an opening brace, and any character \n",
    "text_pattern = r'<.*>'\n",
    "greedy = re.findall(text_pattern, html)\n",
    "print(greedy)"
   ]
  },
  {
   "cell_type": "markdown",
   "metadata": {},
   "source": [
    "So, we see above we got a **1 item** list.\n",
    "In otherwords, one single match!\n",
    "\n",
    "Do we have some control?\n",
    "Maybe!"
   ]
  },
  {
   "cell_type": "code",
   "execution_count": null,
   "metadata": {},
   "outputs": [],
   "source": [
    "regex_not_greedy = r'<.*?>'\n",
    "regex_not_greedy_words = r'<.*?>(.*?)<.*?>'\n",
    "## *? == not greedy!\n",
    "\n",
    "not_greedy = re.findall(regex_not_greedy, html)\n",
    "not_greedy_words = re.findall(regex_not_greedy_words, html)\n",
    "\n",
    "print(not_greedy)\n",
    "print(not_greedy_words)\n",
    "\n",
    "##NOTE:  Python returns the highest group number by default when using findall \n"
   ]
  },
  {
   "cell_type": "markdown",
   "metadata": {},
   "source": [
    "You can see the `r'<.*?>'` got just the tag elements. Here, `?` ensures 0 or 1 match.\n",
    "\n",
    "Additionally, you see one other new thing to pay special notice of:\n",
    "the match sub-string extraction.\n",
    " * `r'<.*?>(.*?)<.*?>'`\n",
    "\n",
    "The `()` included in the match pattern means to extract that portion of the code text that matched the pattern instead of the entire pattern match.\n",
    "\n",
    "The above snippet is an example of **greedy vs lazy matching**. To learn you can see [here](https://blog.kiprosh.com/regular-expressions-greedy-vs-non-greedy/) and [here](https://mariusschulz.com/articles/why-using-the-greedy-in-regular-expressions-is-almost-never-what-you-actually-want).\n",
    "\n",
    "---"
   ]
  },
  {
   "cell_type": "markdown",
   "metadata": {},
   "source": [
    "# Save your notebook, then `File > Close and Halt`"
   ]
  }
 ],
 "metadata": {
  "kernelspec": {
   "display_name": "Python 3",
   "language": "python",
   "name": "python3"
  },
  "language_info": {
   "codemirror_mode": {
    "name": "ipython",
    "version": 3
   },
   "file_extension": ".py",
   "mimetype": "text/x-python",
   "name": "python",
   "nbconvert_exporter": "python",
   "pygments_lexer": "ipython3",
   "version": "3.7.3"
  },
  "latex_envs": {
   "LaTeX_envs_menu_present": true,
   "bibliofile": "biblio.bib",
   "cite_by": "apalike",
   "current_citInitial": 1,
   "eqLabelWithNumbers": true,
   "eqNumInitial": 1,
   "labels_anchors": false,
   "latex_user_defs": false,
   "report_style_numbering": false,
   "user_envs_cfg": false
  },
  "toc": {
   "colors": {
    "hover_highlight": "#DAA520",
    "running_highlight": "#FF0000",
    "selected_highlight": "#FFD700"
   },
   "moveMenuLeft": true,
   "nav_menu": {
    "height": "230.17px",
    "width": "251.989px"
   },
   "navigate_menu": true,
   "number_sections": true,
   "sideBar": true,
   "threshold": 4,
   "toc_cell": true,
   "toc_section_display": "block",
   "toc_window_display": false
  }
 },
 "nbformat": 4,
 "nbformat_minor": 4
}
