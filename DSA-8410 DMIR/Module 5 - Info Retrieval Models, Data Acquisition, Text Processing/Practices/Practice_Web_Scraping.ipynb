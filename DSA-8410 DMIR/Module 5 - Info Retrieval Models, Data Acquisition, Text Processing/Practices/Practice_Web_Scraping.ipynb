{
 "cells": [
  {
   "cell_type": "markdown",
   "metadata": {},
   "source": [
    "# Data Acquisition: Web Scraping\n",
    "\n",
    "Data acquisition is a crucial set for developing an information retrieval system. As the bulk of data, primarily textual, are available online, we should be familiar with extracting data from a site either using API or scraping. \n",
    "\n",
    "The practice in this notebook will ask you to extract data from a wiki page. \n",
    "The tasks are similar to what we saw in the lab notebook, but the only difference is you have to extract two different tables into two separate data frames and then merge them.  "
   ]
  },
  {
   "cell_type": "markdown",
   "metadata": {},
   "source": [
    "**Activity 1:** Scrap the wiki page \"https://en.wikipedia.org/wiki/List_of_countries_by_GDP_sector_composition\" to extract the content. Create a soup object using Beautiful soup library and save the soup in a variable called wiki_soup  "
   ]
  },
  {
   "cell_type": "code",
   "execution_count": null,
   "metadata": {
    "collapsed": true,
    "jupyter": {
     "outputs_hidden": true
    }
   },
   "outputs": [],
   "source": [
    "# Your code for activity 1 goes here..\n",
    "#---------------------------------------\n",
    "\n",
    "\n",
    "\n",
    "\n"
   ]
  },
  {
   "cell_type": "markdown",
   "metadata": {},
   "source": [
    "**Activity 2:** Extract the table \"GDP from natural resources\" from the soup and print it."
   ]
  },
  {
   "cell_type": "code",
   "execution_count": null,
   "metadata": {
    "collapsed": true,
    "jupyter": {
     "outputs_hidden": true
    }
   },
   "outputs": [],
   "source": [
    "# Your code for activity 2 goes here..\n",
    "#---------------------------------------\n",
    "\n",
    "\n",
    "\n",
    "\n"
   ]
  },
  {
   "cell_type": "markdown",
   "metadata": {},
   "source": [
    "**Activity 3:** Create a dataframe called \"resources_df\" from the extracted table. Use the column names same as the column headings in original wiki table but make them valid. For example, use \"country\" instead of \"country/economy\". "
   ]
  },
  {
   "cell_type": "code",
   "execution_count": null,
   "metadata": {
    "collapsed": true,
    "jupyter": {
     "outputs_hidden": true
    },
    "scrolled": true
   },
   "outputs": [],
   "source": [
    "# Your code for activity 3 goes here..\n",
    "#---------------------------------------\n",
    "\n",
    "\n",
    "\n",
    "\n"
   ]
  },
  {
   "cell_type": "markdown",
   "metadata": {},
   "source": [
    "**Activity 4:** Extract the table \"gdp per person employed(ppp) (2015) by sector\" from wiki page and create a dataframe called \"gdp_percent\" out of it. Use the column names same as the column headings in original wiki table but make them valid. For example, use \"country\" instead of \"country/economy\". "
   ]
  },
  {
   "cell_type": "code",
   "execution_count": null,
   "metadata": {
    "collapsed": true,
    "jupyter": {
     "outputs_hidden": true
    }
   },
   "outputs": [],
   "source": [
    "# Your code for activity 4 goes here..\n",
    "#---------------------------------------\n",
    "\n",
    "\n",
    "\n",
    "\n"
   ]
  },
  {
   "cell_type": "markdown",
   "metadata": {},
   "source": [
    "**Activity 5:** Combine the dataframes resources_df and gdp_percent. Name the resultant dataframe as combined_df"
   ]
  },
  {
   "cell_type": "code",
   "execution_count": null,
   "metadata": {
    "collapsed": true,
    "jupyter": {
     "outputs_hidden": true
    }
   },
   "outputs": [],
   "source": [
    "# Your code for activity 5 goes here..\n",
    "#---------------------------------------\n",
    "\n",
    "\n",
    "\n",
    "\n"
   ]
  },
  {
   "cell_type": "markdown",
   "metadata": {},
   "source": [
    "**Activity 6:** Replace the the invalid values \"..\" with valid NAN in combined_df"
   ]
  },
  {
   "cell_type": "code",
   "execution_count": null,
   "metadata": {
    "collapsed": true,
    "jupyter": {
     "outputs_hidden": true
    }
   },
   "outputs": [],
   "source": [
    "# Your code for activity 6 goes here\n",
    "#---------------------------------------\n",
    "\n",
    "\n",
    "\n",
    "\n"
   ]
  },
  {
   "cell_type": "markdown",
   "metadata": {},
   "source": [
    "**Activity 7:** What do you think about the NAN values in the dataset about how they should be handled. Should the rows with NAN values be deleted or imputed with some statistic like mean, median etc. Give us your thoughts."
   ]
  },
  {
   "cell_type": "raw",
   "metadata": {},
   "source": [
    "# Your answer for activity 7 goes here..\n",
    "#---------------------------------------\n",
    "\n",
    "\n",
    "\n",
    "\n",
    "    "
   ]
  },
  {
   "cell_type": "markdown",
   "metadata": {},
   "source": [
    "# Save your notebook, then `File > Close and Halt`"
   ]
  }
 ],
 "metadata": {
  "anaconda-cloud": {},
  "kernelspec": {
   "display_name": "Python 3",
   "language": "python",
   "name": "python3"
  },
  "language_info": {
   "codemirror_mode": {
    "name": "ipython",
    "version": 3
   },
   "file_extension": ".py",
   "mimetype": "text/x-python",
   "name": "python",
   "nbconvert_exporter": "python",
   "pygments_lexer": "ipython3",
   "version": "3.7.3"
  }
 },
 "nbformat": 4,
 "nbformat_minor": 4
}
