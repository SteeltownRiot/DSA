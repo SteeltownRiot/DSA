{
 "cells": [
  {
   "cell_type": "markdown",
   "metadata": {},
   "source": [
    "# Text Processing: Stemming and Lemmatization"
   ]
  },
  {
   "cell_type": "markdown",
   "metadata": {},
   "source": [
    "Use the following sentence for the tasks set below. The sentence is stored in the variable named `str`"
   ]
  },
  {
   "cell_type": "code",
   "execution_count": null,
   "metadata": {},
   "outputs": [],
   "source": [
    "str = (\n",
    "    \"It was July 21, 1969, and Neil Armstrong awoke with a start. \" \n",
    "   \"It was the day he would become the first human being to ever walk on the moon. \"\n",
    "   \"The journey had begun several days earlier, when on July 16th, the Apollo 11 \"\n",
    "   \"launched from Earth headed into outer space. On board with Neil Armstrong were \"\n",
    "   \"Michael Collins and Buzz Aldrin. The crew landed on the moon in the Sea of \"\n",
    "   \"Tranquility a day before the actual walk. Upon Neil’s first step onto the moon’s \"\n",
    "   \"surface, he declared, “That’s one small step for man, one giant leap for mankind.” It sure was!\"\n",
    "      )"
   ]
  },
  {
   "cell_type": "markdown",
   "metadata": {},
   "source": [
    "**Task 1.** Use `nltk` packages `word_tokenize()` function to tokenize the string `str`. Print out the first ten (10) words."
   ]
  },
  {
   "cell_type": "code",
   "execution_count": null,
   "metadata": {},
   "outputs": [],
   "source": [
    "# Your code goes here\n",
    "#---------------------\n"
   ]
  },
  {
   "cell_type": "markdown",
   "metadata": {},
   "source": [
    "**Task 2.** It might be evident from the prints above that we also have punctuations set as words. It can be checked if a word is a punctuation or not by using the `isalpha()` function over it (if the variable containing a word is `word`, then we can determine it to be a punctuation if the value of `word.isalpha()` is `false` ). Filter out the punctuations from the words and print out the first ten (10) words from it."
   ]
  },
  {
   "cell_type": "code",
   "execution_count": null,
   "metadata": {},
   "outputs": [],
   "source": [
    "# Your code goes here\n",
    "#---------------------\n"
   ]
  },
  {
   "cell_type": "markdown",
   "metadata": {},
   "source": [
    "**Task 3.** Convert all of the words to lowercase. Print out the first ten (10) words from it."
   ]
  },
  {
   "cell_type": "code",
   "execution_count": null,
   "metadata": {},
   "outputs": [],
   "source": [
    "# Your code goes here\n",
    "#---------------------\n"
   ]
  },
  {
   "cell_type": "markdown",
   "metadata": {},
   "source": [
    "**Task 4.** Remove the stopwords from the words list. Stopwords for English is already set in the variable `stop_words` for you. Print out the first ten (10) words from it."
   ]
  },
  {
   "cell_type": "code",
   "execution_count": null,
   "metadata": {},
   "outputs": [],
   "source": [
    "## Stopwords already pulled for convenience\n",
    "\n",
    "import nltk\n",
    "from nltk.corpus import stopwords\n",
    "nltk.download(\"stopwords\")\n",
    "\n",
    "stop_words = stopwords.words(\"english\")"
   ]
  },
  {
   "cell_type": "code",
   "execution_count": null,
   "metadata": {},
   "outputs": [],
   "source": [
    "# Your code goes here\n",
    "#---------------------\n"
   ]
  },
  {
   "cell_type": "markdown",
   "metadata": {},
   "source": [
    "**Task 5.** Use `PorterStemmer` to find the stem (or root word) from the words list. Print out the first ten (10) words from it."
   ]
  },
  {
   "cell_type": "code",
   "execution_count": null,
   "metadata": {},
   "outputs": [],
   "source": [
    "# Your code goes here\n",
    "#---------------------\n"
   ]
  },
  {
   "cell_type": "markdown",
   "metadata": {},
   "source": [
    "**Task 6.** Use `WordNetLemmatizer` to find the lemma (or root word) from the words list. Consider all of the words to be `Verb`. Print out the first ten (10) words from it. "
   ]
  },
  {
   "cell_type": "code",
   "execution_count": null,
   "metadata": {},
   "outputs": [],
   "source": [
    "# Your code goes here\n",
    "#---------------------\n"
   ]
  },
  {
   "cell_type": "markdown",
   "metadata": {},
   "source": [
    "**Task 7.** Use the `pos_tag()` function from `nltk` package to tag each of the words with their corresponding Parts-of-Speech and use that for Lemmatization using `WordNetLemmatizer`. \n",
    "\n",
    "*A function is written for convinience, which taken in the second part (tag) of the `pos_tag()` function and returns a wordnet tag that can be used with the `pos` option for the `lemmatize()` function.* \n",
    "\n",
    "Print out the first ten (10) words from it."
   ]
  },
  {
   "cell_type": "code",
   "execution_count": null,
   "metadata": {},
   "outputs": [],
   "source": [
    "## Function given for convenience\n",
    "## Return value from this function can be passed as the value for the \"pos\" option in the \"lemmatize()\" function\n",
    "\n",
    "from nltk.corpus import wordnet as wrdnet\n",
    "\n",
    "def nltk_tag_to_wordnet_tag(nltk_tag):\n",
    "    if nltk_tag.startswith('J'):\n",
    "        return wrdnet.ADJ\n",
    "    elif nltk_tag.startswith('V'):\n",
    "        return wrdnet.VERB\n",
    "    elif nltk_tag.startswith('R'):\n",
    "        return wrdnet.ADV\n",
    "    else:          \n",
    "        return wrdnet.NOUN"
   ]
  },
  {
   "cell_type": "code",
   "execution_count": null,
   "metadata": {},
   "outputs": [],
   "source": [
    "# Your code goes here\n",
    "#---------------------\n"
   ]
  },
  {
   "cell_type": "markdown",
   "metadata": {},
   "source": [
    "# Save your notebook, then `File > Close and Halt`"
   ]
  }
 ],
 "metadata": {
  "kernelspec": {
   "display_name": "Python 3",
   "language": "python",
   "name": "python3"
  },
  "language_info": {
   "codemirror_mode": {
    "name": "ipython",
    "version": 3
   },
   "file_extension": ".py",
   "mimetype": "text/x-python",
   "name": "python",
   "nbconvert_exporter": "python",
   "pygments_lexer": "ipython3",
   "version": "3.7.3"
  }
 },
 "nbformat": 4,
 "nbformat_minor": 4
}
