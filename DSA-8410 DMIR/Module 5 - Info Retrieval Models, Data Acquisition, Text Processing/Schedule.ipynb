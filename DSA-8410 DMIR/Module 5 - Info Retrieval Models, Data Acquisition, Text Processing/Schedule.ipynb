{
 "cells": [
  {
   "cell_type": "markdown",
   "metadata": {},
   "source": [
    "# Module Five: \n",
    "\n",
    "# Basic Information Retrieval Models: Data Acquisition & Text Processing\n",
    "\n",
    "## Topics covered\n",
    "  * Data acquisition \n",
    "  * Text Processing\n",
    "      * String search and manipulation with regex\n",
    "      * Stemming and Lemmatization\n"
   ]
  },
  {
   "cell_type": "markdown",
   "metadata": {},
   "source": [
    "## Reading\n",
    " * [Information Retrieval](./slides/IR-Overview.pdf)\n",
    " * [Notes and Links to References](./resources/IR-Readings.ipynb)\n",
    " * [Web scraping: BeautifulSoup vs Selenium vs Scrapy](https://towardsdatascience.com/web-scraping-with-beautiful-soup-selenium-or-scrapy-62c6f3545de7)\n",
    " * [Regular Expression: video](https://www.youtube.com/watch?v=kWyoYtvJpe4)\n",
    " \n",
    "## Labs\n",
    "\n",
    "* Data Acquisition\n",
    "    * [Web Scraping](./labs/Web_Scraping.ipynb)\n",
    "* Text Processing\n",
    "    * [Regular Expression](./labs/Regular_Expressions.ipynb)\n",
    "    * [Stemming-Lemmatization](./labs/Stemming_Lemmatization.ipynb)\n",
    "\n",
    "\n",
    "## Practices \n",
    "* Data Acquisition\n",
    "    * [Web Scraping](./practices/Practice_Web_Scraping.ipynb)\n",
    "* Text Processing\n",
    "    * [Regular Expression](./practices/Practice_Regular_Expressions.ipynb)\n",
    "    * [Stemming-Lemmatization](./practices/Practice_Stemming_Lemmatization.ipynb)\n",
    "\n",
    "## Exercises\n",
    "\n",
    "* [Data Acquisition: Web scraping](./exercises/ex_web_scraping_reddit_search.ipynb)\n",
    "* [Text Processing: Stemming and Lemmatization](./exercises/ex_stemming_lemma.ipynb)\n"
   ]
  },
  {
   "cell_type": "markdown",
   "metadata": {},
   "source": [
    "## Submitting your work\n",
    "<span style=\"background-color:yellow\">Please submit all work, including labs, practices, and exercises.</span>\n",
    "#### Steps:\n",
    "  1. Open Terminal in JupyterHub\n",
    "  1. Change into the course folder\n",
    "  1. Stage (Git Add) the module's lab, practice and exercise work   \n",
    "  `git  add   module5/labs  module5/practices    module5/exercises`\n",
    "  1. Create your work snapshot (Git Commit)  \n",
    "  `git   commit   -m   \"Module 5 submission\"`\n",
    "  1. Upload the snapshot to the server (Git Push)  \n",
    "  `git   push`\n",
    "  \n",
    "## Pulling the next module\n",
    "After the module has been published by the teaching team, you can pull the course materials.\n",
    "#### Steps:\n",
    "  1. Open Terminal in JupyterHub\n",
    "  1. Change into the course folder\n",
    "  1. Pull the material  \n",
    "  `git pull --no-edit upstream master`\n",
    "\n"
   ]
  }
 ],
 "metadata": {
  "kernelspec": {
   "display_name": "Python 3",
   "language": "python",
   "name": "python3"
  },
  "language_info": {
   "codemirror_mode": {
    "name": "ipython",
    "version": 3
   },
   "file_extension": ".py",
   "mimetype": "text/x-python",
   "name": "python",
   "nbconvert_exporter": "python",
   "pygments_lexer": "ipython3",
   "version": "3.7.3"
  },
  "latex_envs": {
   "LaTeX_envs_menu_present": true,
   "bibliofile": "biblio.bib",
   "cite_by": "apalike",
   "current_citInitial": 1,
   "eqLabelWithNumbers": true,
   "eqNumInitial": 1,
   "labels_anchors": false,
   "latex_user_defs": false,
   "report_style_numbering": false,
   "user_envs_cfg": false
  },
  "toc": {
   "colors": {
    "hover_highlight": "#DAA520",
    "running_highlight": "#FF0000",
    "selected_highlight": "#FFD700"
   },
   "moveMenuLeft": true,
   "nav_menu": {
    "height": "211.989px",
    "width": "251.989px"
   },
   "navigate_menu": true,
   "number_sections": true,
   "sideBar": true,
   "threshold": 4,
   "toc_cell": true,
   "toc_section_display": "block",
   "toc_window_display": false
  }
 },
 "nbformat": 4,
 "nbformat_minor": 4
}
