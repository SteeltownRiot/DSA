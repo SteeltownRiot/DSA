{
 "cells": [
  {
   "cell_type": "markdown",
   "metadata": {},
   "source": [
    "# Practice Association Rules - Glass Data"
   ]
  },
  {
   "cell_type": "markdown",
   "metadata": {},
   "source": [
    "**Activity 1:** Read the glass data file from `/dsa/data/all_datasets/glass/glass.txt`. Get the names of glass dataset columns from readme file in `/dsa/data/all_datasets/glass/header.txt` and assign the names to columns of glass_data."
   ]
  },
  {
   "cell_type": "code",
   "execution_count": null,
   "metadata": {},
   "outputs": [],
   "source": [
    "import pandas as pd\n",
    "from mlxtend.frequent_patterns import apriori\n",
    "from mlxtend.frequent_patterns import association_rules\n",
    "import random\n",
    "import matplotlib.pyplot as plt\n",
    "%matplotlib inline\n",
    "import numpy as np"
   ]
  },
  {
   "cell_type": "code",
   "execution_count": null,
   "metadata": {},
   "outputs": [],
   "source": [
    "## Your code for activity 1 goes here\n",
    "glass_data = <write your code>"
   ]
  },
  {
   "cell_type": "code",
   "execution_count": null,
   "metadata": {},
   "outputs": [],
   "source": [
    "! cat /dsa/data/all_datasets/glass/header.txt"
   ]
  },
  {
   "cell_type": "code",
   "execution_count": null,
   "metadata": {},
   "outputs": [],
   "source": [
    "glass_data.columns = <write your code>"
   ]
  },
  {
   "cell_type": "code",
   "execution_count": null,
   "metadata": {},
   "outputs": [],
   "source": [
    "glass_data.head()"
   ]
  },
  {
   "cell_type": "markdown",
   "metadata": {},
   "source": [
    "The data should be cleaned as it has unnecessary columns and numeric data should be converted to ordered factors.\n",
    "\n",
    "**Activity 2:**  Remove the attribute **Id** as it is just an identifier. All the other attributes are either numeric or integer. Map the attributes to ordinal attributes by building suitable categories like low, medium, high or very high for the continuous attributes and consulting /datasets/glass/readme.txt for naming guidance for any categorical attributes. \n",
    "\n",
    "**Hints:** \n",
    "- For continuous variables, consider the distribution of values within the range when assigning your categories. You will get an error if a category has no data in it.\n",
    "- For categorical attributes, make sure there is at least one data value for each categorical type. You cannot give R a label for a value that doesn't exist. If necessary, use unique() to see what unique values exist for a given column.\n",
    "- For this dataset, you should not have any NAs when you are done.\n"
   ]
  },
  {
   "cell_type": "code",
   "execution_count": null,
   "metadata": {},
   "outputs": [],
   "source": [
    "glass_data = <write your code>"
   ]
  },
  {
   "cell_type": "code",
   "execution_count": null,
   "metadata": {},
   "outputs": [],
   "source": [
    "# In this example we will use pd.cut() and bins to create the new column with grouping\n",
    "bins= [1.51,1.517,1.518,1.519,1.534]\n",
    "labels = [\"low\", \"medium\", \"high\", \"very high\"]\n",
    "glass_data['refractive_index'] = pd.cut(glass_data['refractive_index'], \n",
    "                                        bins=bins, labels=labels, right=False)"
   ]
  },
  {
   "cell_type": "code",
   "execution_count": null,
   "metadata": {},
   "outputs": [],
   "source": [
    "# In this example we will use pd.cut() and bins to create the new column with grouping\n",
    "bins= [10.72, 12.91, 13.30, 13.82, 17.38]\n",
    "labels = [\"low\", \"medium\", \"high\", \"very high\"]\n",
    "glass_data['Sodium'] = pd.cut(glass_data['Sodium'], bins=bins, labels=labels, right=False)"
   ]
  },
  {
   "cell_type": "code",
   "execution_count": null,
   "metadata": {},
   "outputs": [],
   "source": [
    "# In this example we will use pd.cut() and bins to create the new column with grouping\n",
    "bins= [-1,2.115,3.48,3.6,4.49]\n",
    "labels = [\"low\", \"medium\", \"high\", \"very high\"]\n",
    "glass_data['Magnesium'] = pd.cut(glass_data['Magnesium'], bins=bins, labels=labels, right=False)"
   ]
  },
  {
   "cell_type": "code",
   "execution_count": null,
   "metadata": {},
   "outputs": [],
   "source": [
    "# In this example we will use pd.cut() and bins to create the new column with grouping\n",
    "bins= [0,1.19,1.36,1.63,3.5]\n",
    "labels = [\"low\", \"medium\", \"high\", \"very high\"]\n",
    "glass_data['Aluminum'] = pd.cut(glass_data['Aluminum'], bins=bins, labels=labels, right=False)"
   ]
  },
  {
   "cell_type": "code",
   "execution_count": null,
   "metadata": {},
   "outputs": [],
   "source": [
    "# In this example we will use pd.cut() and bins to create the new column with grouping\n",
    "bins= [69.8,72.28,72.79,73.09,75.41]\n",
    "labels = [\"low\", \"medium\", \"high\", \"very high\"]\n",
    "glass_data['Silicon'] = pd.cut(glass_data['Silicon'], bins=bins, labels=labels, right=False)"
   ]
  },
  {
   "cell_type": "code",
   "execution_count": null,
   "metadata": {},
   "outputs": [],
   "source": [
    "# In this example we will use pd.cut() and bins to create the new column with grouping\n",
    "bins= [-1,0.1225,0.555,0.61,6.21]\n",
    "labels = [\"low\", \"medium\", \"high\", \"very high\"]\n",
    "glass_data['Potassium'] = <write your code>"
   ]
  },
  {
   "cell_type": "code",
   "execution_count": null,
   "metadata": {},
   "outputs": [],
   "source": [
    "# In this example we will use pd.cut() and bins to create the new column with grouping\n",
    "bins= [5.4,8.24,8.6,9.172,16.190]\n",
    "labels = [\"low\", \"medium\", \"high\", \"very high\"]\n",
    "glass_data['Calcium'] = <write your code>"
   ]
  },
  {
   "cell_type": "code",
   "execution_count": null,
   "metadata": {},
   "outputs": [],
   "source": [
    "# In this example we will use pd.cut() and bins to create the new column with grouping\n",
    "bins= [-1, 0 , 1.05, 2.1, 3.15]\n",
    "labels = [\"low\", \"medium\", \"high\", \"very high\"]\n",
    "glass_data['Barium'] = pd.cut(glass_data['Barium'], bins=bins, labels=labels, right=False)"
   ]
  },
  {
   "cell_type": "code",
   "execution_count": null,
   "metadata": {},
   "outputs": [],
   "source": [
    "# In this example we will use pd.cut() and bins to create the new column with grouping\n",
    "bins= [-1,0,0.17,0.34,0.51]\n",
    "labels = [\"low\", \"medium\", \"high\", \"very high\"]\n",
    "glass_data['Iron'] = pd.cut(glass_data['Iron'], bins=bins, labels=labels, right=False)"
   ]
  },
  {
   "cell_type": "code",
   "execution_count": null,
   "metadata": {},
   "outputs": [],
   "source": [
    "# In this example we will use pd.cut() and bins to create the new column with grouping\n",
    "bins= [1,2,3,4,5,6,7]\n",
    "labels = [\"building_windows_float_processed\", \"building_windows_non_float_processed\", \n",
    "          \"vehicle_windows_float_processed\",\"containers\",\"tableware\",\"headlamps\"]\n",
    "glass_data['Type_of_glass'] = pd.cut(glass_data['Type_of_glass'], \n",
    "                                     bins=bins, labels=labels, right=False)"
   ]
  },
  {
   "cell_type": "code",
   "execution_count": null,
   "metadata": {},
   "outputs": [],
   "source": [
    "glass_data.head()"
   ]
  },
  {
   "cell_type": "code",
   "execution_count": null,
   "metadata": {},
   "outputs": [],
   "source": [
    "glass_data.describe()"
   ]
  },
  {
   "cell_type": "markdown",
   "metadata": {},
   "source": [
    "**Activity 3:** Now, recode the data as a binary incidence matrix by coercing the data set to transactions. Save the transactions to glass_trans variable."
   ]
  },
  {
   "cell_type": "code",
   "execution_count": null,
   "metadata": {},
   "outputs": [],
   "source": [
    "glass_trans = <write your code>\n",
    "glass_trans.head()"
   ]
  },
  {
   "cell_type": "markdown",
   "metadata": {},
   "source": [
    "**Activity 4:** Display the first five rules using head function. Use a support of 0.1 and a confidence of 0.6."
   ]
  },
  {
   "cell_type": "code",
   "execution_count": null,
   "metadata": {},
   "outputs": [],
   "source": [
    "# step 1: identify frequent itemsets\n",
    "frequent_itemsets = <write your code>\n",
    "rules = <write your code>\n",
    "\n",
    "# step 2: infer rules frequent itemsets\n",
    "print(f\"num of rules = {rules.shape[0]}\")"
   ]
  },
  {
   "cell_type": "code",
   "execution_count": null,
   "metadata": {},
   "outputs": [],
   "source": [
    "rules.head()"
   ]
  },
  {
   "cell_type": "markdown",
   "metadata": {},
   "source": [
    "**Activity 5:** Draw a scatter plot for the generated rules using measures 'support' and 'confidence'. Use 'lift' for shading."
   ]
  },
  {
   "cell_type": "code",
   "execution_count": null,
   "metadata": {},
   "outputs": [],
   "source": []
  },
  {
   "cell_type": "markdown",
   "metadata": {},
   "source": [
    "**Activity 6:** Draw a scatter plot for the generated rules using the measures 'lift' and 'leverage'. "
   ]
  },
  {
   "cell_type": "code",
   "execution_count": null,
   "metadata": {},
   "outputs": [],
   "source": []
  },
  {
   "cell_type": "markdown",
   "metadata": {},
   "source": [
    "# Save your notebook, then `File > Close and Halt`"
   ]
  }
 ],
 "metadata": {
  "kernelspec": {
   "display_name": "Python 3",
   "language": "python",
   "name": "python3"
  },
  "language_info": {
   "codemirror_mode": {
    "name": "ipython",
    "version": 3
   },
   "file_extension": ".py",
   "mimetype": "text/x-python",
   "name": "python",
   "nbconvert_exporter": "python",
   "pygments_lexer": "ipython3",
   "version": "3.7.3"
  }
 },
 "nbformat": 4,
 "nbformat_minor": 4
}
