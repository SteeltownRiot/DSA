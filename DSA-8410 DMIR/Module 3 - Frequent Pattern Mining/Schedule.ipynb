{
 "cells": [
  {
   "cell_type": "markdown",
   "metadata": {},
   "source": [
    "# Module Three: Frequent pattern mining\n",
    "\n",
    "## Topics covered\n",
    "\n",
    "- Itemset mining\n",
    "- Summarizing itemsets\n",
    "- Apriori Algorithm\n"
   ]
  },
  {
   "cell_type": "markdown",
   "metadata": {},
   "source": [
    "## Readings\n",
    "\n",
    "- [Slides PDF Here](./slides/association_analysis.pdf)\n",
    "- [Beer and Nappies](https://bigdatabigworld.wordpress.com/2014/11/25/beer-and-nappies/)\n",
    "- [Ch 8, 9 & 12](https://dataminingbook.info/book_html/)\n",
    " \n",
    "## Labs\n",
    "\n",
    "- [Association Rules Mining](./labs/FPM.ipynb)\n",
    "\n",
    "## Practices \n",
    "\n",
    "- [Practice Crime](./practices/prac_Crime.ipynb)\n",
    "- [Practice Glass](./practices/prac_Glass.ipynb)\n",
    "\n",
    "## Exercises\n",
    "\n",
    "- [Association Rules Mining](./exercises/ex_Auto_Sales.ipynb)"
   ]
  },
  {
   "cell_type": "markdown",
   "metadata": {},
   "source": [
    "## Submitting your work\n",
    "<span style=\"background-color:yellow\">Please submit all work, including labs, practices, and exercises.</span>\n",
    "#### Steps:\n",
    "  1. Open Terminal in JupyterHub\n",
    "  1. Change into the course folder\n",
    "  1. Stage (Git Add) the module's lab, practice and exercise work   \n",
    "  `git  add   module3/labs  module3/practices    module3/exercises`\n",
    "  1. Create your work snapshot (Git Commit)  \n",
    "  `git   commit   -m   \"Module 3 submission\"`\n",
    "  1. Upload the snapshot to the server (Git Push)  \n",
    "  `git   push`\n",
    "  \n",
    "## Pulling the next module\n",
    "After the module has been published by the teaching team, you can pull the course materials.\n",
    "#### Steps:\n",
    "  1. Open Terminal in JupyterHub\n",
    "  1. Change into the course folder\n",
    "  1. Pull the material  \n",
    "  `git pull --no-edit upstream master`\n",
    "\n"
   ]
  }
 ],
 "metadata": {
  "kernelspec": {
   "display_name": "Python 3",
   "language": "python",
   "name": "python3"
  },
  "language_info": {
   "codemirror_mode": {
    "name": "ipython",
    "version": 3
   },
   "file_extension": ".py",
   "mimetype": "text/x-python",
   "name": "python",
   "nbconvert_exporter": "python",
   "pygments_lexer": "ipython3",
   "version": "3.7.3"
  }
 },
 "nbformat": 4,
 "nbformat_minor": 4
}
