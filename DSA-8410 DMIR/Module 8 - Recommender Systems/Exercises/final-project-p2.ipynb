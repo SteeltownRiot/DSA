{
 "cells": [
  {
   "cell_type": "markdown",
   "metadata": {},
   "source": [
    "# Exercise Tasks\n",
    "\n",
    "## Part I: Data Acquisition and Loading \n",
    "1. Choose a subreddit of your choice. Preferably something of interest to you. \n",
    "1. Conceptualize a database design that can collect the data.\n",
    "    * Make sure your items (posts) are unique and not duplicated!\n",
    "    * Make sure you capture at least title, author, subreddit, tags, title link, and timestamp\n",
    "    * Along with the metadata, capture all the text into one or more data field(s) suitable for information retrieval\n",
    "    * Write triggers for auto updates of IR related fields\n",
    "    * Add index (either GIN or GiST) for the IR related fields\n",
    "    * Additionally, design a field to hold:\n",
    "        * Sentiment\n",
    "1. Implement the database in your PostgreSQL schema\n",
    "1. Implement cells of Python Code that \n",
    "    * collect the latest posts from a subreddit of your choice (**should be text-dominant not image/video**), \n",
    "    * processes the messages to extract metadata, \n",
    "    * process the text for IR, and \n",
    "    * perform computational linguistics (i.e, extract sentiment scores), \n",
    "    * then insert the data into your database.\n",
    "1. After you have loaded data from a subreddit, choose a few more subreddits and load those!\n",
    "\n",
    "## Part II: Analytics \n",
    "\n",
    "1. Write some test queries following the text vectors from Module 7.\n",
    "1. Produce **interesting visualizations** of the linguistic data.\n",
    "    * Try to look for trends (within a subreddit) and variations of topics across subreddits\n",
    "    * Some comparative plots across feeds\n",
    "1. Write a summary of your findings!\n",
    "\n",
    " \n",
    " "
   ]
  },
  {
   "cell_type": "markdown",
   "metadata": {},
   "source": [
    "# Part II: Analytics "
   ]
  },
  {
   "cell_type": "markdown",
   "metadata": {},
   "source": [
    "## Task 7: Write some test queries to validate the text vector(s) (see Module 7).\n",
    "\n",
    "**Insert more cells if required**\n",
    "\n",
    "**If you haven't done in Part II:** \n",
    "To prepare your DB to be read, you will need to grant the dsa_ro_user schema access and select privileges on your table.\n",
    "\n",
    "```SQL\n",
    "GRANT USAGE ON SCHEMA <your schema> TO dsa_ro_user;  -- NOTE: change to your schema\n",
    "GRANT SELECT ON <your table> TO dsa_ro_user;\n",
    "```"
   ]
  },
  {
   "cell_type": "code",
   "execution_count": null,
   "metadata": {},
   "outputs": [],
   "source": [
    "## Your code in this cell\n",
    "## ------------------------\n",
    "\n",
    "\n",
    "\n",
    "\n",
    "\n",
    "\n",
    "\n",
    "\n"
   ]
  },
  {
   "cell_type": "code",
   "execution_count": null,
   "metadata": {},
   "outputs": [],
   "source": [
    "## Your code in this cell\n",
    "## ------------------------\n",
    "\n",
    "\n",
    "\n",
    "\n",
    "\n",
    "\n",
    "\n",
    "\n"
   ]
  },
  {
   "cell_type": "markdown",
   "metadata": {},
   "source": [
    "## Task 8: Produce interesting visualizations of the lingustic data.\n",
    "\n",
    " * Examples:\n",
    "     * Try to look for trends (within a subreddit)\n",
    "     * Topic variations across subreddits \n",
    "     * Some comparative plots across subreddits \n"
   ]
  },
  {
   "cell_type": "code",
   "execution_count": null,
   "metadata": {},
   "outputs": [],
   "source": [
    "## Your code in this cell\n",
    "## ------------------------\n",
    "\n",
    "\n",
    "\n",
    "\n",
    "\n",
    "\n",
    "\n",
    "\n"
   ]
  },
  {
   "cell_type": "markdown",
   "metadata": {},
   "source": [
    "## Task 9: Write a summary of your findings!\n"
   ]
  },
  {
   "cell_type": "raw",
   "metadata": {},
   "source": [
    "## Write your summary in this cell\n",
    "## --------------------------------\n",
    "\n",
    "\n",
    "\n",
    "\n",
    "\n",
    "\n",
    "\n",
    "\n"
   ]
  },
  {
   "cell_type": "markdown",
   "metadata": {},
   "source": [
    "# Save your notebook, then `File > Close and Halt`"
   ]
  },
  {
   "cell_type": "markdown",
   "metadata": {},
   "source": [
    "---"
   ]
  }
 ],
 "metadata": {
  "kernelspec": {
   "display_name": "Python 3",
   "language": "python",
   "name": "python3"
  },
  "language_info": {
   "codemirror_mode": {
    "name": "ipython",
    "version": 3
   },
   "file_extension": ".py",
   "mimetype": "text/x-python",
   "name": "python",
   "nbconvert_exporter": "python",
   "pygments_lexer": "ipython3",
   "version": "3.7.3"
  }
 },
 "nbformat": 4,
 "nbformat_minor": 4
}
