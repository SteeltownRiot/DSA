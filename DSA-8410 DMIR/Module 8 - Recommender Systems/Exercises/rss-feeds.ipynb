{
 "cells": [
  {
   "cell_type": "markdown",
   "metadata": {},
   "source": [
    "\n",
    "# Really Simple Syndication (RSS)\n",
    "\n",
    "AKA: Rich Site Summary; [RDF](https://en.wikipedia.org/wiki/Resource_Description_Framework) Site Summary\n",
    "\n",
    "**From Wikipedia**  \n",
    "RSS is a type of web feed which allows users to access updates to online content in a **standardized, computer-readable format**. \n",
    "These feeds can, for example, allow a user to keep track of many different websites in a single news aggregator. \n",
    "The news aggregator will automatically check the RSS feed for new content, allowing the content to be automatically passed from website to website or from website to user. \n",
    "This passing of content is called web syndication. \n",
    "Websites usually use RSS feeds to publish frequently updated information, such as blog entries, news headlines, audio, video. An RSS document (called \"feed\", \"web feed\", or \"channel\") includes full or summarized text, and metadata, like publishing date and author's name.\n",
    "\n",
    "### Reddit supports RSS access to their community of posts.\n",
    "\n",
    "Click the link below to see the new Reddit posts feed in raw form (XML)\n",
    " * https://www.reddit.com/new/.rss?sort=new\n",
    " \n",
    "This is an example of a sub-reddit RSS feed:\n",
    " * https://www.reddit.com/r/datascience/.rss?sort=new\n",
    " \n",
    "**In both cases, we see the pattern that after the URL's last slash, \"/\", we add**  \n",
    "  \n",
    "`.rss?sort=new`\n",
    "\n",
    "\n",
    "**The wall of character data you see should scream: _Parse Me with Python!_**\n",
    "\n",
    "#### RSS Feed Content\n",
    "\n",
    "The RSS Feed is structured as a set of items which can roughly be expected to follow the below structure. \n",
    "Note: the XML has been parsed into a DOM, then renderd as a JSON here.\n"
   ]
  },
  {
   "cell_type": "markdown",
   "metadata": {},
   "source": [
    "---\n",
    "\n",
    "```JSON\n",
    "{\n",
    "\t'guidislink': True, \n",
    "\t'author_detail': {\n",
    "\t\t'href': 'https://www.reddit.com/user/cryoskyd', \n",
    "\t\t'name': '/u/cryoskyd'\n",
    "\t\t}, \n",
    "\t'links': [\n",
    "\t\t{\n",
    "\t\t\t'rel': 'alternate', \n",
    "\t\t\t'type': 'text/html', \n",
    "\t\t\t'href': 'https://www.reddit.com/r/SkydTech/comments/8r47kj/dealmaster_get_a_15inch_dell_laptop_with_an/'\n",
    "\t\t}], \n",
    "\t'href': 'https://www.reddit.com/user/cryoskyd', \n",
    "\t'updated_parsed': time.struct_time(tm_year=2018, tm_mon=6, tm_mday=14, tm_hour=18, tm_min=38, tm_sec=25, tm_wday=3, tm_yday=165, tm_isdst=0), \n",
    "\t'authors': [\n",
    "\t\t{'href': 'https://www.reddit.com/user/cryoskyd', \n",
    "\t\t'name': '/u/cryoskyd'\n",
    "\t\t}\n",
    "\t\t], \n",
    "\t'tags': [\n",
    "\t\t{'label': 'r/SkydTech', \n",
    "\t\t'scheme': None, \n",
    "\t\t'term': 'SkydTech'\n",
    "\t\t}], \n",
    "\t'title_detail': {\n",
    "\t\t'type': 'text/plain', \n",
    "\t\t'base': 'https://www.reddit.com/new/.rss?sort=new', \n",
    "\t\t'value': 'Dealmaster: Get a 15-inch Dell laptop with an 8th-gen Core i7 for $580', \t\t\t\t'language': None\n",
    "\t\t}, \n",
    "\t'summary': '<table> <tr><td> <a href=\"https://www.reddit.com/r/SkydTech/comments/8r47kj/dealmaster_get_a_15inch_dell_laptop_with_an/\"> <img src=\"https://b.thumbs.redditmedia.com/ioyXj08RjCyhRbNWiPQfcjrQMlHTG4Ec-LrYJ6MB0kI.jpg\" alt=\"Dealmaster: Get a 15-inch Dell laptop with an 8th-gen Core i7 for $580\" title=\"Dealmaster: Get a 15-inch Dell laptop with an 8th-gen Core i7 for $580\" /> </a> </td><td> &#32; submitted by &#32; <a href=\"https://www.reddit.com/user/cryoskyd\"> /u/cryoskyd </a> &#32; to &#32; <a href=\"https://www.reddit.com/r/SkydTech/\"> r/SkydTech </a> <br/> <span><a href=\"https://arstechnica.com/staff/2018/06/dealmaster-get-a-15-inch-dell-laptop-with-an-8th-gen-core-i7-for-580/\">[link]</a></span> &#32; <span><a href=\"https://www.reddit.com/r/SkydTech/comments/8r47kj/dealmaster_get_a_15inch_dell_laptop_with_an/\">[comments]</a></span> </td></tr></table>', \n",
    "\t'id': 'https://www.reddit.com/new/t3_8r47kj', \n",
    "\t'updated': '2018-06-14T18:38:25+00:00', \n",
    "\t'content': [\n",
    "\t\t{\n",
    "\t\t\t'type': 'text/html', \n",
    "\t\t\t'base': 'https://www.reddit.com/new/.rss?sort=new', \n",
    "\t\t\t'value': '<table> <tr><td> <a href=\"https://www.reddit.com/r/SkydTech/comments/8r47kj/dealmaster_get_a_15inch_dell_laptop_with_an/\"> <img src=\"https://b.thumbs.redditmedia.com/ioyXj08RjCyhRbNWiPQfcjrQMlHTG4Ec-LrYJ6MB0kI.jpg\" alt=\"Dealmaster: Get a 15-inch Dell laptop with an 8th-gen Core i7 for $580\" title=\"Dealmaster: Get a 15-inch Dell laptop with an 8th-gen Core i7 for $580\" /> </a> </td><td> &#32; submitted by &#32; <a href=\"https://www.reddit.com/user/cryoskyd\"> /u/cryoskyd </a> &#32; to &#32; <a href=\"https://www.reddit.com/r/SkydTech/\"> r/SkydTech </a> <br/> <span><a href=\"https://arstechnica.com/staff/2018/06/dealmaster-get-a-15-inch-dell-laptop-with-an-8th-gen-core-i7-for-580/\">[link]</a></span> &#32; <span><a href=\"https://www.reddit.com/r/SkydTech/comments/8r47kj/dealmaster_get_a_15inch_dell_laptop_with_an/\">[comments]</a></span> </td></tr></table>', \n",
    "\t\t\t'language': None\n",
    "\t\t}], \n",
    "\t'link': 'https://www.reddit.com/r/SkydTech/comments/8r47kj/dealmaster_get_a_15inch_dell_laptop_with_an/', \n",
    "\t'author': '/u/cryoskyd', \n",
    "\t'title': 'Dealmaster: Get a 15-inch Dell laptop with an 8th-gen Core i7 for $580'\n",
    "}\n",
    "```\n",
    "\n",
    "---"
   ]
  },
  {
   "cell_type": "markdown",
   "metadata": {},
   "source": [
    "### Example Code:\n",
    "\n",
    "The example code below grabs the new reddit posts from the RSS feed, then prints the first one."
   ]
  },
  {
   "cell_type": "code",
   "execution_count": null,
   "metadata": {},
   "outputs": [],
   "source": [
    "import feedparser\n",
    "import pprint as pp\n",
    "\n",
    "# Define URL of the RSS Feed I want\n",
    "a_reddit_rss_url = 'http://www.reddit.com/new/.rss?sort=new'\n",
    "\n",
    "feed = feedparser.parse( a_reddit_rss_url )\n",
    "\n",
    "if (feed['bozo'] == 1):\n",
    "    print(\"Error Reading/Parsing Feed XML Data\")    \n",
    "else:\n",
    "    for item in feed[ \"items\" ]:\n",
    "        pp.pprint(item)\n",
    "        break"
   ]
  }
 ],
 "metadata": {
  "kernelspec": {
   "display_name": "Python 3",
   "language": "python",
   "name": "python3"
  },
  "language_info": {
   "codemirror_mode": {
    "name": "ipython",
    "version": 3
   },
   "file_extension": ".py",
   "mimetype": "text/x-python",
   "name": "python",
   "nbconvert_exporter": "python",
   "pygments_lexer": "ipython3",
   "version": "3.7.3"
  }
 },
 "nbformat": 4,
 "nbformat_minor": 5
}
