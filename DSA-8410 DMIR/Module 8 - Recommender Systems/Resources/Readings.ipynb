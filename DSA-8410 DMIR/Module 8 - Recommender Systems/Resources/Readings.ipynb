{
 "cells": [
  {
   "cell_type": "markdown",
   "metadata": {},
   "source": [
    "# Recommendation Systems\n",
    "\n",
    "A recommendation system (RecSys) models users' responses to options/items. RecSys utilizes users' feedbacks about items for recommending (new) items to the users. Some feedbacks are explicit. Online stores like Amazon/Netflix enables us to provide a quantitative assessment (i.e., ratings) for the items we purchase according to our likes/dislikes. Sometimes this quantitative assessment is captured as a binary value (thumbs up/down). This kind of feedback is useful but very difficult to collect. There are other forms of feedbacks that implicit. E.g., the simple action of a user browsing or purchasing an item could be viewed as an endorsement for that item, and collecting this kind of data is effortless."
   ]
  },
  {
   "cell_type": "markdown",
   "metadata": {},
   "source": [
    "The objective of a RecSys is to recommend relevant items for users based on their preference. Preference and relevance are subjective, and they are generally inferred by items users have consumed previously.  \n",
    "\n",
    "The main families of methods for RecSys are:  \n",
    "\n",
    "- **Popularity-based method**: This method is not user-centric per se. Instead, this method estimates current trends in users and presents the trend as a recommendation. \n",
    "\n",
    "- [**Collaborative Filtering**](https://en.wikipedia.org/wiki/Collaborative_filtering): This method makes automatic predictions (filtering) about the interests of a user by collecting preferences or taste information from many users (collaborating). The underlying assumption of the collaborative filtering approach is that if person A has the same opinion as person B on a set of items, A is more likely to have B's opinion for a given item than that of a randomly chosen person.   \n",
    "\n",
    "- [**Content-Based Filtering**](http://recommender-systems.org/content-based-filtering/): This method uses only information about the description and attributes of the items users have previously consumed to model users' preferences. In other words, these algorithms try to recommend items similar to those that a user liked in the past (or is examining in the present). In particular, various candidate items are compared with items previously rated by the user, and the best-matching items are recommended. \n",
    "\n",
    "- **Hybrid methods**:  Recent research has demonstrated that a hybrid approach, combining collaborative filtering and content-based filtering, could be more effective than pure approaches in some cases. These methods can also be used to overcome some of the common problems in recommender systems, such as cold start and the sparsity problem.\n"
   ]
  },
  {
   "cell_type": "markdown",
   "metadata": {},
   "source": [
    "## Types of Models"
   ]
  },
  {
   "cell_type": "markdown",
   "metadata": {},
   "source": [
    "\n",
    "### Popularity-based Recommender Systems\n",
    "\n",
    "This is the simplest kind of recommendation engine. The trending hashtags in Twitter or news articles on various news portals is based on this algorithm. It keeps a track of view counts for each movie/video and then lists movies based on views in descending order(highest view count to lowest view count). Although it is pretty simple but extremely effective.\n",
    "\n",
    "\n",
    "### Content-Based Recommender Systems\n",
    "\n",
    "In content-based recommender systems, the descriptive attributes of items are used to make recommendations. The term \"content\" refers to these descriptions. In content-based methods, the ratings and interacting behavior of users are combined with the content information available in the items (see [1]). For example, consider a situation where a user has rated the movie Avatar highly, but we do not have access to the ratings of other users. Therefore, collaborative filtering methods are ruled out. However, the item description of Avatar contains similar genre keywords as other science fiction movies, such as Alien and Predator. In such cases, these movies can be recommended to the user.\n",
    "\n",
    "In content-based methods, the item descriptions, which are labeled with ratings, are used as training data to create a user-specific classification or regression modeling problem. For each user, the training documents correspond to the descriptions of the items she has bought or rated. The class (or dependent) variable corresponds to the specified ratings or buying behavior. These training documents are used to create a classification or regression model, which is specific to the user at hand (or active user). This user-specific model is used to predict whether the corresponding individual will like an item for which her rating or buying behavior is unknown. E.g., A user enjoys three movies that are directed by Christopher Colan, so such system would recommend a fourth movie directed by him.\n",
    "\n",
    "Content-based methods have some advantages in making recommendations for new items, when sufficient rating data are not available for that item. This method has several disadvantages as well. In many cases, content-based methods provide obvious recommendations because of the use of keywords or content. For example, if a user has never consumed an item with a particular set of keywords, such an item has no chance of being recommended. Even though content-based methods are effective at providing recommendations for new items, they are not effective at providing recommendations for new users. This is because the training model for the target user needs to use the history of her ratings. In fact, it is usually important to have a large number of ratings available for the target user in order to make robust predictions without overfitting.\n",
    "\n",
    "<img src=\"../images/collaborative-vs-content-based.png\" style=\"width:600px;height:400px;\">\n",
    "Fig. Collaborative vs Content-based Filtering \n",
    "\n",
    "\n",
    "### Collaborative Filtering Models\n",
    "\n",
    "Collaborative filtering models use the collaborative power of the ratings provided by multiple users to make recommendations (see [1]). The main challenge in designing collaborative filtering methods is that the underlying ratings matrices are sparse. Consider an example of a movie application in which users specify ratings indicating their like or dislike of specific movies. Most users would have viewed only a small fraction of the large universe of available movies. As a result, most of the ratings are unspecified. \n",
    "\n",
    "The basic idea of collaborative filtering methods is that these unspecified ratings can be imputed because the observed ratings are often highly correlated across various users and items. Most of the models for collaborative filtering focus on leveraging either inter-item correlations or inter-user correlations for the prediction process. Some models use both types of correlations. E.g., for the inter-user collaboration, this algorithm at first tries to find similar users based on their activities and preferences (for example, both the users watch same type of movies or movies directed by the same director). Now, between these users(say, A and B) if user A has seen a movie that user B has not seen yet, then that movie gets recommended to user B and vice-versa. In other words, the recommendations get filtered based on the collaboration between similar users' preferences (thus, the name \"Collaborative Filtering\"). One typical application of this algorithm can be seen in the Amazon e-commerce platform, where you get to see the \"Customers who viewed this item also viewed\" and \"Customers who bought this item also bought\" list.\n",
    "\n",
    "\n",
    "A popular model-based collaborative filter is implemented with matrix factorization method. In module 4 we learned how to infer topic models via matrix factorization of a TF or TF-IDF matrix. Similarly, we can create user-item interaction matrix and then apply any matrix factorization tool to extract latent users'/items features, which can be used for assessing similarity between users. The following fig illustrates how to extract hidden users'/items' features from a user-movie interaction matrix. \n",
    "\n",
    "<img src=\"../images/matrix-factorization.png\" style=\"width:700px;height:400px;\">\n",
    "\n",
    "**Collaborative filtering methods can be viewed as generalizations of classification and regression modeling.** In the classification and regression modeling problems, the class/dependent variable can be viewed as an attribute with missing values (in terms of prediction). Other columns are treated as features/independent variables. The collaborative filtering problem can be viewed as a generalization of this framework because any column is allowed to have missing values rather than (only) the class variable. In the recommendation problem, a clear distinction does not exist between class variables and feature variables because each feature plays the dual role of a dependent and independent variable.\n",
    "\n",
    "\n",
    "### Knowledge-Based Recommender Systems\n",
    "\n",
    "Knowledge-based recommender systems are particularly useful in the context of items that are not purchased very often. Examples include items such as real estate, automobiles, tourism requests, financial services, or expensive luxury goods. In such cases, sufficient ratings may not be available for the recommendation process. Such cases can be addressed with knowledge-based recommender systems, in which ratings are not used for the purpose of recommendations. Rather, the recommendation process is performed on the basis of similarities between customer requirements and item descriptions, or the use of constraints specifying user requirements.\n",
    "\n",
    "\n",
    "\n",
    "### Hybrid Recommender Systems\n",
    "\n",
    "The three aforementioned systems exploit different sources of input, and they may work well in different scenarios. For example, collaborative filtering systems rely on community ratings, content-based methods rely on textual descriptions and the target user's own ratings, and knowledge-based systems rely on interactions with the user in the context of knowledge bases. In many cases where a wider variety of inputs is available, one has the flexibility of using different types of recommender systems for the same task. In such cases, many opportunities exist for hybridization, where the various aspects from different types of systems are combined to achieve the best of all worlds. \n",
    "\n",
    "\n",
    "**[1] C. Aggarwal: Recommender Systems, 2016.**"
   ]
  },
  {
   "cell_type": "markdown",
   "metadata": {},
   "source": [
    "## The Cold-Start Problem in Recommender Systems\n",
    "\n",
    "One of the major problems in recommender systems is that the number of initially available ratings is relatively small. In such cases, it becomes more difficult to apply traditional collaborative filtering models. This phenomena is known as cold start problem. While content-based and knowledge-based methods are more robust than collaborative models in the presence of cold starts, such content or knowledge might not always be available. \n",
    "\n"
   ]
  },
  {
   "cell_type": "markdown",
   "metadata": {},
   "source": [
    "--- "
   ]
  },
  {
   "cell_type": "markdown",
   "metadata": {},
   "source": [
    "### Further Readings: \n",
    "\n",
    "* [Recommendation Systems](http://infolab.stanford.edu/~ullman/mmds/ch9.pdf)\n",
    "* [Content-based filtering](http://recommender-systems.org/content-based-filtering/)\n",
    "* Slides\n",
    "    * [Slide I](http://www.mmds.org/mmds/v2.1/ch09-recsys1.pdf)\n",
    "    * [Slide II](http://www.mmds.org/mmds/v2.1/ch09-recsys2.pdf)\n",
    "    \n",
    "    \n",
    "    \n"
   ]
  },
  {
   "cell_type": "markdown",
   "metadata": {},
   "source": [
    "----"
   ]
  }
 ],
 "metadata": {
  "kernelspec": {
   "display_name": "Python 3",
   "language": "python",
   "name": "python3"
  },
  "language_info": {
   "codemirror_mode": {
    "name": "ipython",
    "version": 3
   },
   "file_extension": ".py",
   "mimetype": "text/x-python",
   "name": "python",
   "nbconvert_exporter": "python",
   "pygments_lexer": "ipython3",
   "version": "3.7.3"
  },
  "latex_envs": {
   "LaTeX_envs_menu_present": true,
   "bibliofile": "biblio.bib",
   "cite_by": "apalike",
   "current_citInitial": 1,
   "eqLabelWithNumbers": true,
   "eqNumInitial": 1,
   "labels_anchors": false,
   "latex_user_defs": false,
   "report_style_numbering": false,
   "user_envs_cfg": false
  },
  "toc": {
   "colors": {
    "hover_highlight": "#DAA520",
    "running_highlight": "#FF0000",
    "selected_highlight": "#FFD700"
   },
   "moveMenuLeft": true,
   "nav_menu": {
    "height": "66.5341px",
    "width": "251.989px"
   },
   "navigate_menu": true,
   "number_sections": true,
   "sideBar": true,
   "threshold": 4,
   "toc_cell": true,
   "toc_section_display": "block",
   "toc_window_display": false
  }
 },
 "nbformat": 4,
 "nbformat_minor": 4
}
