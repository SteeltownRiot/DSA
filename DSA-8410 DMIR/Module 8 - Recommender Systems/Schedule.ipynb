{
 "cells": [
  {
   "cell_type": "markdown",
   "metadata": {},
   "source": [
    "# Module Eight: Basics of Recommendation Systems + Final Project\n",
    "\n",
    "## Topics covered\n",
    "- Recommendation Systems\n",
    "    - Popularity-based Filtering\n",
    "    - Content-based Filtering\n",
    "    - Collaborative Filtering\n",
    "    - Hybrid Filtering"
   ]
  },
  {
   "cell_type": "markdown",
   "metadata": {},
   "source": [
    "\n",
    "## Readings \n",
    " * [Recommender Systems](./resources/Readings.ipynb)\n",
    " \n",
    "## Labs (count towards Practice score)\n",
    "\n",
    "* [Popularity-based Method](./labs/popularity-based-methods.ipynb)  \n",
    "* [Content-based Filtering Method](./labs/content-based-filtering.ipynb)  \n",
    "\n",
    "## Labs (Optional)\n",
    "* [Collaborative Filtering Method](./labs/collaborative-filtering.ipynb)  \n",
    "* [Hybrid Method](./labs/hybrid-model.ipynb)  \n",
    "\n",
    "\n",
    "## Final Project\n",
    "\n",
    "* [Final Project - Part I: Data Acquisition and Loading](./exercises/final-project-p1.ipynb)\n",
    "* [Final Project - Part II: Computational Linguistics](./exercises/final-project-p2.ipynb)\n"
   ]
  },
  {
   "cell_type": "markdown",
   "metadata": {},
   "source": [
    "## Submitting your work\n",
    "\n",
    "#### Steps:\n",
    "  1. Open Terminal in JupyterHub\n",
    "  1. Change into the course folder\n",
    "  1. Stage (Git Add) the module's lab, practice and exercise work   \n",
    "  `git  add   module8/labs  module8/practices    module8/exercises`\n",
    "  1. Create your work snapshot (Git Commit)  \n",
    "  `git   commit   -m   \"Module 8 submission\"`\n",
    "  1. Upload the snapshot to the server (Git Push)  \n",
    "  `git   push`\n"
   ]
  }
 ],
 "metadata": {
  "kernelspec": {
   "display_name": "Python 3",
   "language": "python",
   "name": "python3"
  },
  "language_info": {
   "codemirror_mode": {
    "name": "ipython",
    "version": 3
   },
   "file_extension": ".py",
   "mimetype": "text/x-python",
   "name": "python",
   "nbconvert_exporter": "python",
   "pygments_lexer": "ipython3",
   "version": "3.7.3"
  },
  "latex_envs": {
   "LaTeX_envs_menu_present": true,
   "bibliofile": "biblio.bib",
   "cite_by": "apalike",
   "current_citInitial": 1,
   "eqLabelWithNumbers": true,
   "eqNumInitial": 1,
   "labels_anchors": false,
   "latex_user_defs": false,
   "report_style_numbering": false,
   "user_envs_cfg": false
  },
  "toc": {
   "colors": {
    "hover_highlight": "#DAA520",
    "running_highlight": "#FF0000",
    "selected_highlight": "#FFD700"
   },
   "moveMenuLeft": true,
   "nav_menu": {
    "height": "157.443px",
    "width": "251.989px"
   },
   "navigate_menu": true,
   "number_sections": true,
   "sideBar": true,
   "threshold": 4,
   "toc_cell": true,
   "toc_section_display": "block",
   "toc_window_display": false
  }
 },
 "nbformat": 4,
 "nbformat_minor": 4
}
