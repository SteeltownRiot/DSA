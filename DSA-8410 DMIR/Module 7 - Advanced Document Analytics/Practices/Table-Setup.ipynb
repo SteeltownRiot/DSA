{
 "cells": [
  {
   "cell_type": "markdown",
   "metadata": {},
   "source": [
    "## Building a Text Retrieval Database"
   ]
  },
  {
   "cell_type": "markdown",
   "metadata": {},
   "source": [
    "### Step 0: Create a connection with your database"
   ]
  },
  {
   "cell_type": "code",
   "execution_count": null,
   "metadata": {},
   "outputs": [],
   "source": [
    "import getpass\n",
    "# This collects a masked password from the user\n",
    "mypasswd = getpass.getpass()"
   ]
  },
  {
   "cell_type": "code",
   "execution_count": null,
   "metadata": {},
   "outputs": [],
   "source": [
    "mysso = '<your pawprint>'\n",
    "dbname = 'dsa_student'\n",
    "schema = '<your pawprint>'"
   ]
  },
  {
   "cell_type": "code",
   "execution_count": null,
   "metadata": {},
   "outputs": [],
   "source": [
    "import psycopg2\n",
    "import numpy as np\n",
    "from psycopg2.extensions import adapt, register_adapter, AsIs\n",
    "\n",
    "# Then connects to the DB\n",
    "connection = psycopg2.connect(database = dbname, \n",
    "                              user = mysso, \n",
    "                              host = 'pgsql.dsa.lan',\n",
    "                              password = mypasswd)"
   ]
  },
  {
   "cell_type": "markdown",
   "metadata": {},
   "source": [
    "### Step 1: Create data repository (i.e table) within a database.\n",
    "\n",
    "```SQL\n",
    "-------------------------\n",
    "-- Basic Table \n",
    "-------------------------\n",
    "CREATE TABLE sebcq5.BookLines(\n",
    "        id SERIAL NOT NULL,\n",
    "        name varchar(250) NOT NULL,\n",
    "        line_no INT NOT NULL,\n",
    "        line text NOT NULL\n",
    ");\n",
    "\n",
    "ALTER TABLE sebcq5.BookLines\n",
    "ADD CONSTRAINT pk_BookLines PRIMARY KEY (id);\n",
    "```"
   ]
  },
  {
   "cell_type": "code",
   "execution_count": null,
   "metadata": {},
   "outputs": [],
   "source": [
    "CREATE_TABLES = f\"\"\"\n",
    "-------------------------\n",
    "-- Basic Table \n",
    "-------------------------\n",
    "DROP TABLE IF EXISTS {schema}.BookLines;\n",
    "CREATE TABLE {schema}.BookLines(\n",
    "        id SERIAL NOT NULL,\n",
    "        name varchar(250) NOT NULL,\n",
    "        line_no INT NOT NULL,\n",
    "        line text NOT NULL\n",
    ");\n",
    "\n",
    "ALTER TABLE {schema}.BookLines\n",
    "ADD CONSTRAINT pk_BookLines PRIMARY KEY (id);\n",
    "\"\"\"\n",
    "# print(CREATE_TABLES)"
   ]
  },
  {
   "cell_type": "code",
   "execution_count": null,
   "metadata": {},
   "outputs": [],
   "source": [
    "with connection, connection.cursor() as cursor:\n",
    "    cursor.execute(CREATE_TABLES)"
   ]
  },
  {
   "cell_type": "markdown",
   "metadata": {},
   "source": [
    "**Check whether the table is created by listing all the tables in the schema**"
   ]
  },
  {
   "cell_type": "code",
   "execution_count": null,
   "metadata": {},
   "outputs": [],
   "source": [
    "SQL_QUERY = f\"\"\"\n",
    "SELECT table_schema, table_name\n",
    "FROM information_schema.tables\n",
    "WHERE table_schema = '{schema}';\n",
    "\"\"\""
   ]
  },
  {
   "cell_type": "code",
   "execution_count": null,
   "metadata": {},
   "outputs": [],
   "source": [
    "import pandas as pd\n",
    "\n",
    "df = pd.read_sql_query(SQL_QUERY, connection)\n",
    "df"
   ]
  },
  {
   "cell_type": "markdown",
   "metadata": {},
   "source": [
    "### Step 2: Add a column that implements the vector model, then parse the data into it.\n",
    "\n",
    "```SQL\n",
    "-------------------------\n",
    "Separate Ts_Vector column\n",
    "-------------------------\n",
    "-- TS_Vector for GIN INDEX\n",
    "ALTER TABLE sebcq5.BookLines\n",
    "  ADD COLUMN line_tsv_gin tsvector;\n",
    "\n",
    "UPDATE sebcq5.BookLines\n",
    "SET line_tsv_gin = to_tsvector('pg_catalog.english', line);\n",
    "```"
   ]
  },
  {
   "cell_type": "code",
   "execution_count": null,
   "metadata": {},
   "outputs": [],
   "source": [
    "UPDATE_TABLE=f\"\"\"\n",
    "-------------------------\n",
    "-- Separate Ts_Vector column\n",
    "-------------------------\n",
    "-- TS_Vector for GIN INDEX\n",
    "ALTER TABLE {schema}.BookLines\n",
    "  ADD COLUMN line_tsv_gin tsvector;\n",
    "\n",
    "UPDATE {schema}.BookLines\n",
    "SET line_tsv_gin = to_tsvector('pg_catalog.english', line);\n",
    "\"\"\"\n",
    "# print(UPDATE_TABLE)"
   ]
  },
  {
   "cell_type": "code",
   "execution_count": null,
   "metadata": {},
   "outputs": [],
   "source": [
    "with connection, connection.cursor() as cursor:\n",
    "    cursor.execute(UPDATE_TABLE)"
   ]
  },
  {
   "cell_type": "markdown",
   "metadata": {},
   "source": [
    "**Check the table**"
   ]
  },
  {
   "cell_type": "code",
   "execution_count": null,
   "metadata": {},
   "outputs": [],
   "source": [
    "SQL_QUERY = f\"\"\"\n",
    "SELECT table_schema, table_name, column_name, data_type\n",
    "FROM information_schema.columns\n",
    "WHERE table_schema = '{schema}' AND table_name = 'booklines';\n",
    "\"\"\"\n",
    "\n",
    "df = pd.read_sql_query(SQL_QUERY, connection)\n",
    "df"
   ]
  },
  {
   "cell_type": "markdown",
   "metadata": {},
   "source": [
    "### Step 3: Add another column that implements the vector model, then parse the data into it.\n",
    "\n",
    "```SQL\n",
    "-- TS_Vector for GIST INDEX\n",
    "ALTER TABLE sebcq5.BookLines\n",
    "  ADD COLUMN line_tsv_gist tsvector;\n",
    "\n",
    "UPDATE sebcq5.BookLines\n",
    "SET line_tsv_gist = to_tsvector('pg_catalog.english', line);\n",
    "```"
   ]
  },
  {
   "cell_type": "code",
   "execution_count": null,
   "metadata": {},
   "outputs": [],
   "source": [
    "UPDATE_TABLE=f\"\"\"\n",
    "-- TS_Vector for GIST INDEX\n",
    "ALTER TABLE {schema}.BookLines\n",
    "  ADD COLUMN line_tsv_gist tsvector;\n",
    "\n",
    "UPDATE {schema}.BookLines\n",
    "SET line_tsv_gist = to_tsvector('pg_catalog.english', line);\n",
    "\"\"\"\n",
    "# print(UPDATE_TABLE)"
   ]
  },
  {
   "cell_type": "code",
   "execution_count": null,
   "metadata": {},
   "outputs": [],
   "source": [
    "with connection, connection.cursor() as cursor:\n",
    "    cursor.execute(UPDATE_TABLE)"
   ]
  },
  {
   "cell_type": "markdown",
   "metadata": {},
   "source": [
    "**Check the table**"
   ]
  },
  {
   "cell_type": "code",
   "execution_count": null,
   "metadata": {},
   "outputs": [],
   "source": [
    "SQL_QUERY = f\"\"\"\n",
    "SELECT table_schema, table_name, column_name, data_type\n",
    "FROM information_schema.columns\n",
    "WHERE table_schema = '{schema}' AND table_name = 'booklines';\n",
    "\"\"\"\n",
    "\n",
    "df = pd.read_sql_query(SQL_QUERY, connection)\n",
    "df"
   ]
  },
  {
   "cell_type": "markdown",
   "metadata": {},
   "source": [
    "### Step 4: Set up database triggers to parse all new content loaded into the vector models.\n",
    "\n",
    "```SQL\n",
    "--TRIGGER\n",
    "CREATE TRIGGER tsv_gin_update \n",
    "\tBEFORE INSERT OR UPDATE\n",
    "\tON sebcq5.BookLines \n",
    "\tFOR EACH ROW \n",
    "\tEXECUTE PROCEDURE \n",
    "\ttsvector_update_trigger(line_tsv_gin,'pg_catalog.english',line);\n",
    "\n",
    "CREATE TRIGGER tsv_gist_update \n",
    "\tBEFORE INSERT OR UPDATE\n",
    "\tON sebcq5.BookLines \n",
    "\tFOR EACH \n",
    "\tROW EXECUTE PROCEDURE\n",
    "\ttsvector_update_trigger(line_tsv_gist,'pg_catalog.english',line);\n",
    "\n",
    "```"
   ]
  },
  {
   "cell_type": "code",
   "execution_count": null,
   "metadata": {},
   "outputs": [],
   "source": [
    "CREATE_TRIGGER=f\"\"\"\n",
    "--TRIGGER\n",
    "CREATE TRIGGER tsv_gin_update \n",
    "    BEFORE INSERT OR UPDATE\n",
    "    ON {schema}.BookLines \n",
    "    FOR EACH ROW \n",
    "    EXECUTE PROCEDURE \n",
    "    tsvector_update_trigger(line_tsv_gin,'pg_catalog.english',line);\n",
    "\n",
    "CREATE TRIGGER tsv_gist_update \n",
    "    BEFORE INSERT OR UPDATE\n",
    "    ON {schema}.BookLines \n",
    "    FOR EACH \n",
    "    ROW EXECUTE PROCEDURE\n",
    "    tsvector_update_trigger(line_tsv_gist,'pg_catalog.english',line);\n",
    "\n",
    "\"\"\""
   ]
  },
  {
   "cell_type": "code",
   "execution_count": null,
   "metadata": {},
   "outputs": [],
   "source": [
    "with connection, connection.cursor() as cursor:\n",
    "    cursor.execute(CREATE_TRIGGER)"
   ]
  },
  {
   "cell_type": "markdown",
   "metadata": {},
   "source": [
    "### Step 5:  Add a specialized indexing to the vector models.\n",
    "\n",
    "```SQL\n",
    "-------------------------\n",
    "-- Create Indexes\n",
    "-------------------------\n",
    "\n",
    "-- Index on content (Trigram needed,to use Gin Index)\n",
    "-- CREATE EXTENSION pg_trgm;  -- Done by DB Admin\n",
    "\n",
    "CREATE INDEX BookLines_line\n",
    "ON sebcq5.BookLines USING GIN(line gin_trgm_ops);\n",
    "\n",
    "-- GIN INDEX on content_tsv_gin\n",
    "CREATE INDEX BookLines_line_tsv_gin\n",
    "ON sebcq5.BookLines USING GIN(line_tsv_gin);\n",
    "\n",
    "-- GIST INDEX on content_tsv_gist\n",
    "CREATE INDEX BookLines_line_tsv_gist\n",
    "ON sebcq5.BookLines USING GIST(line_tsv_gist);\n",
    "```"
   ]
  },
  {
   "cell_type": "code",
   "execution_count": null,
   "metadata": {},
   "outputs": [],
   "source": [
    "CREATE_INDEX=f\"\"\"\n",
    "-------------------------\n",
    "-- Create Indexes\n",
    "-------------------------\n",
    "\n",
    "-- Index on content (Trigram needed,to use Gin Index)\n",
    "-- CREATE EXTENSION pg_trgm;  -- Done by DB Admin\n",
    "\n",
    "CREATE INDEX BookLines_line\n",
    "ON {schema}.BookLines USING GIN(line gin_trgm_ops);\n",
    "\n",
    "-- GIN INDEX on content_tsv_gin\n",
    "CREATE INDEX BookLines_line_tsv_gin\n",
    "ON {schema}.BookLines USING GIN(line_tsv_gin);\n",
    "\n",
    "-- GIST INDEX on content_tsv_gist\n",
    "CREATE INDEX BookLines_line_tsv_gist\n",
    "ON {schema}.BookLines USING GIST(line_tsv_gist);\n",
    "\"\"\""
   ]
  },
  {
   "cell_type": "code",
   "execution_count": null,
   "metadata": {},
   "outputs": [],
   "source": [
    "with connection, connection.cursor() as cursor:\n",
    "    cursor.execute(CREATE_INDEX)"
   ]
  },
  {
   "cell_type": "markdown",
   "metadata": {},
   "source": [
    "### Grant permission to read your table\n",
    "```SQL\n",
    "GRANT USAGE ON SCHEMA <yourpawprint> TO dsa_ro_user;\n",
    "GRANT SELECT ON <yourpawprint>.BookLines TO dsa_ro_user;\n",
    "```"
   ]
  },
  {
   "cell_type": "code",
   "execution_count": null,
   "metadata": {},
   "outputs": [],
   "source": [
    "GRANT_ACCESS=f\"\"\"\n",
    "GRANT USAGE ON SCHEMA {schema} TO dsa_ro_user;\n",
    "GRANT SELECT ON {schema}.booklines TO dsa_ro_user;\n",
    "\"\"\""
   ]
  },
  {
   "cell_type": "code",
   "execution_count": null,
   "metadata": {},
   "outputs": [],
   "source": [
    "with connection, connection.cursor() as cursor:\n",
    "    cursor.execute(GRANT_ACCESS)"
   ]
  }
 ],
 "metadata": {
  "kernelspec": {
   "display_name": "Python 3",
   "language": "python",
   "name": "python3"
  },
  "language_info": {
   "codemirror_mode": {
    "name": "ipython",
    "version": 3
   },
   "file_extension": ".py",
   "mimetype": "text/x-python",
   "name": "python",
   "nbconvert_exporter": "python",
   "pygments_lexer": "ipython3",
   "version": "3.7.3"
  }
 },
 "nbformat": 4,
 "nbformat_minor": 2
}
