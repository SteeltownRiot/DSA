{
 "cells": [
  {
   "cell_type": "markdown",
   "metadata": {},
   "source": [
    "# Module Seven: Advanced Document Analytics\n",
    "\n",
    "## Topics covered\n",
    "\n",
    "1. Full text search in PostGRESQL\n",
    "1. Advanced Document Analytics\n",
    "    1. Phrase Modeling\n",
    "    1. Topic Modeling\n",
    "    1. Sentiment Analysis\n"
   ]
  },
  {
   "cell_type": "markdown",
   "metadata": {},
   "source": [
    "\n",
    "\n",
    "## Readings \n",
    "1. [Advanced Document Analytics](./resources/Module7-Overview.ipynb)\n",
    " \n",
    "## Labs\n",
    "\n",
    "1. Full Text Search in Postgres\n",
    "    1. [Full Text Search - Part 1](./labs/FullText_PostgreSQL-p1.ipynb)\n",
    "    1. [Full Text Search - Part 2](./labs/FullText_PostgreSQL-p2.ipynb)\n",
    "1. Advanced Document Analytics\n",
    "    1. [Phrase Modeling](./labs/PhraseAnalysis.ipynb)\n",
    "    1. [Topic Modeling](./labs/Topic-Modeling-01.ipynb)\n",
    "    1. [Sentiment Analysis](./labs/SentimentAnalysis.ipynb)\n",
    "\n",
    "## Practices \n",
    "\n",
    "1. [Full Text Search in Postgres](./practices/Practice_Load_BookLines-01.ipynb)\n",
    "1. [Topic Modeling & Sentiment Analysis](./practices/Practice-Topic-Modeling.ipynb)\n",
    "\n",
    "\n",
    "\n",
    "## Exercises\n",
    "\n",
    "1. [Full Text Search in Postgres](./exercises/Exercise_Search_BookLines.ipynb)\n",
    "1. [Topic Modeling](./exercises/Topic-Modeling.ipynb)\n",
    "1. [Sentiment Analysis](./exercises/Sentiment-Analysis.ipynb)\n",
    "\n"
   ]
  },
  {
   "cell_type": "markdown",
   "metadata": {},
   "source": [
    "## Submitting your work\n",
    "<span style=\"background-color:yellow\">Please submit all work, including labs, practices, and exercises.</span>\n",
    "#### Steps:\n",
    "  1. Open Terminal in JupyterHub\n",
    "  1. Change into the course folder\n",
    "  1. Stage (Git Add) the module's lab, practice and exercise work   \n",
    "  `git  add   module7/labs  module7/practices    module7/exercises`\n",
    "  1. Create your work snapshot (Git Commit)  \n",
    "  `git   commit   -m   \"Module 7 submission\"`\n",
    "  1. Upload the snapshot to the server (Git Push)  \n",
    "  `git   push`\n",
    "  \n",
    "## Pulling the next module\n",
    "After the module has been published by the teaching team, you can pull the course materials.\n",
    "#### Steps:\n",
    "  1. Open Terminal in JupyterHub\n",
    "  1. Change into the course folder\n",
    "  1. Pull the material  \n",
    "  `git pull --no-edit upstream master`\n"
   ]
  }
 ],
 "metadata": {
  "kernelspec": {
   "display_name": "Python 3",
   "language": "python",
   "name": "python3"
  },
  "language_info": {
   "codemirror_mode": {
    "name": "ipython",
    "version": 3
   },
   "file_extension": ".py",
   "mimetype": "text/x-python",
   "name": "python",
   "nbconvert_exporter": "python",
   "pygments_lexer": "ipython3",
   "version": "3.7.3"
  },
  "latex_envs": {
   "LaTeX_envs_menu_present": true,
   "bibliofile": "biblio.bib",
   "cite_by": "apalike",
   "current_citInitial": 1,
   "eqLabelWithNumbers": true,
   "eqNumInitial": 1,
   "labels_anchors": false,
   "latex_user_defs": false,
   "report_style_numbering": false,
   "user_envs_cfg": false
  },
  "toc": {
   "colors": {
    "hover_highlight": "#DAA520",
    "running_highlight": "#FF0000",
    "selected_highlight": "#FFD700"
   },
   "moveMenuLeft": true,
   "nav_menu": {
    "height": "193.807px",
    "width": "251.989px"
   },
   "navigate_menu": true,
   "number_sections": true,
   "sideBar": true,
   "threshold": 4,
   "toc_cell": true,
   "toc_section_display": "block",
   "toc_window_display": false
  }
 },
 "nbformat": 4,
 "nbformat_minor": 4
}
