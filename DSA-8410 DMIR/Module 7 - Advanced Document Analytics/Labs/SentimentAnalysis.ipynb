{
 "cells": [
  {
   "cell_type": "markdown",
   "metadata": {},
   "source": [
    "# Computational Lingustics - Sentiment Analysis"
   ]
  },
  {
   "cell_type": "markdown",
   "metadata": {},
   "source": [
    "In this lab, we are going to explore some sentiment analysis.Sentiment analysis in text is typically achieved by learning to solve a classification problem. The classes are typically,\n",
    "\n",
    " * Positive\n",
    " * Negative\n",
    " * Neutral\n",
    "\n",
    "Let's take a look at some tweets from Donald Trump over the past year. Now we are going to use the [VADER sentiment analyzer](http://comp.social.gatech.edu/papers/icwsm14.vader.hutto.pdf).\n",
    "\n",
    "Read more about **VADER** (Valence Aware Dictionary and sEntiment Reasoner) [here](https://github.com/cjhutto/vaderSentiment/blob/master/README.rst).\n"
   ]
  },
  {
   "cell_type": "code",
   "execution_count": null,
   "metadata": {},
   "outputs": [],
   "source": [
    "#All the packages we are using in this project\n",
    "import nltk, re, pprint\n",
    "\n",
    "from nltk.sentiment.vader import SentimentIntensityAnalyzer\n",
    "from nltk import word_tokenize\n",
    "from nltk import FreqDist\n",
    "\n",
    "## Lets import some libraries form mathplotlib ... it's helpful for plotting. \n",
    "%matplotlib inline\n",
    "\n",
    "import matplotlib\n",
    "import matplotlib.pyplot as plt\n",
    "\n",
    "import pandas as pd\n",
    "import numpy as np"
   ]
  },
  {
   "cell_type": "markdown",
   "metadata": {},
   "source": [
    "All tweets from Donald Trump are stored in the file 'realDonaldTrump_tweets.txt' listed below.\n",
    "\n",
    "## Text Analysis\n",
    "For this text analysis we will look at the following:\n",
    " - Text [collocations](https://en.wikipedia.org/wiki/Collocation) to find common words that go together\n",
    " - Regular expressions to parse out hashtags and high frequency user accounts"
   ]
  },
  {
   "cell_type": "code",
   "execution_count": null,
   "metadata": {},
   "outputs": [],
   "source": [
    "file_path = '/dsa/data/all_datasets/linguistic/realDonaldTrump_tweets.txt'\n"
   ]
  },
  {
   "cell_type": "markdown",
   "metadata": {},
   "source": [
    "Each line in this file is a tweet. So we will read the file into a set of lines, then we can use regular expressions to strip away symbols and web links in the tweets."
   ]
  },
  {
   "cell_type": "code",
   "execution_count": null,
   "metadata": {},
   "outputs": [],
   "source": [
    "with open(file_path, 'r') as f:\n",
    "    tweets = f.read().splitlines()\n",
    "    tweets = [re.sub(r'[^\\w]|https.*\\b', ' ', t) for t in tweets]\n",
    "\n",
    "print(tweets[0:10])  \n",
    "\n"
   ]
  },
  {
   "cell_type": "markdown",
   "metadata": {},
   "source": [
    "## Using the ` SentimentIntensityAnalyzer` to analyze tweets"
   ]
  },
  {
   "cell_type": "code",
   "execution_count": null,
   "metadata": {},
   "outputs": [],
   "source": [
    "analyzer = SentimentIntensityAnalyzer()\n",
    "vs = analyzer.polarity_scores(tweets[0])\n",
    "print(type(vs))\n",
    "print(\"{:-<65} {}\".format(tweets[0], str(vs)))"
   ]
  },
  {
   "cell_type": "markdown",
   "metadata": {},
   "source": [
    "**Read about scoring here:**https://github.com/cjhutto/vaderSentiment/blob/master/README.rst#about-the-scoring\n",
    "\n",
    "If we process the entire tweet data set, maybe we can understand the trends!"
   ]
  },
  {
   "cell_type": "code",
   "execution_count": null,
   "metadata": {},
   "outputs": [],
   "source": [
    "analyzer = SentimentIntensityAnalyzer()\n",
    "tweets_sentiment = [analyzer.polarity_scores(t) for t in tweets]\n",
    "\n",
    "df = pd.DataFrame(tweets_sentiment)\n",
    "df['tweet'] = tweets\n",
    "\n",
    "df = df[['tweet', 'neg', 'neu', 'pos', 'compound']]\n",
    "\n",
    "df.head()"
   ]
  },
  {
   "cell_type": "markdown",
   "metadata": {},
   "source": [
    "Let's look at the statistics of the measurements.\n"
   ]
  },
  {
   "cell_type": "code",
   "execution_count": null,
   "metadata": {},
   "outputs": [],
   "source": [
    "df.describe()"
   ]
  },
  {
   "cell_type": "markdown",
   "metadata": {},
   "source": [
    "We see that the average compound score is 0.126, so slightly positive speech.\n",
    "\n",
    "Note from the documentation, the standard classification: \n",
    "\n",
    "1. positive sentiment: compound score >= 0.05\n",
    "1. neutral sentiment: (compound score > -0.05) and (compound score < 0.05)\n",
    "1. negative sentiment: compound score <= -0.05\n",
    "\n"
   ]
  },
  {
   "cell_type": "code",
   "execution_count": null,
   "metadata": {},
   "outputs": [],
   "source": [
    "df['sentiment'] = 'NEU'\n",
    "df.loc[df['compound'] > 0.05, 'sentiment'] = 'POS'\n",
    "df.loc[df['compound'] < -0.05, 'sentiment'] = 'NEG'\n",
    "\n",
    "df.head()"
   ]
  },
  {
   "cell_type": "markdown",
   "metadata": {},
   "source": [
    "---\n",
    "\n",
    "### Let's visualize!\n"
   ]
  },
  {
   "cell_type": "code",
   "execution_count": null,
   "metadata": {},
   "outputs": [],
   "source": [
    "import seaborn as sns\n",
    "sns.set()\n",
    "sns.boxplot(x=\"sentiment\", y=\"compound\", data=df);"
   ]
  },
  {
   "cell_type": "markdown",
   "metadata": {},
   "source": [
    "---\n",
    "# Save notebook, then `File > Close and Halt`"
   ]
  }
 ],
 "metadata": {
  "kernelspec": {
   "display_name": "Python 3",
   "language": "python",
   "name": "python3"
  },
  "language_info": {
   "codemirror_mode": {
    "name": "ipython",
    "version": 3
   },
   "file_extension": ".py",
   "mimetype": "text/x-python",
   "name": "python",
   "nbconvert_exporter": "python",
   "pygments_lexer": "ipython3",
   "version": "3.7.3"
  },
  "latex_envs": {
   "LaTeX_envs_menu_present": true,
   "bibliofile": "biblio.bib",
   "cite_by": "apalike",
   "current_citInitial": 1,
   "eqLabelWithNumbers": true,
   "eqNumInitial": 1,
   "labels_anchors": false,
   "latex_user_defs": false,
   "report_style_numbering": false,
   "user_envs_cfg": false
  },
  "toc": {
   "colors": {
    "hover_highlight": "#DAA520",
    "running_highlight": "#FF0000",
    "selected_highlight": "#FFD700"
   },
   "moveMenuLeft": true,
   "nav_menu": {
    "height": "175.625px",
    "width": "251.989px"
   },
   "navigate_menu": true,
   "number_sections": true,
   "sideBar": true,
   "threshold": 4,
   "toc_cell": true,
   "toc_section_display": "block",
   "toc_window_display": true
  }
 },
 "nbformat": 4,
 "nbformat_minor": 4
}
