{
 "cells": [
  {
   "cell_type": "markdown",
   "metadata": {},
   "source": [
    "# Multi-class vs multi-label classification"
   ]
  },
  {
   "cell_type": "markdown",
   "metadata": {},
   "source": [
    "In the Applied Machine Learning course, we use the following classification setting, where we have a feature set (X) and a target/class variable (y). Based on the values of y, this classification setting can be divided into two groups: binary classification problem and multi-class classification problem."
   ]
  },
  {
   "cell_type": "markdown",
   "metadata": {},
   "source": [
    "<center>\n",
    "<tr>\n",
    "<td> <img src=\"../images/mcc.png\" width=\"300\" height=\"200\"> </td>\n",
    "</tr>\n",
    "</center>\n",
    "<b>Fig. A multi-class setting. Here the number of target variable is one, and the number of classes within this variable is more than two.</b>"
   ]
  },
  {
   "cell_type": "markdown",
   "metadata": {},
   "source": [
    "Some classification models can handle both types of problems, and they are inherently multi-class. Examples include decision trees, naive Bayes, etc. On the other hand, some models only deal with binary classification problems. E.g., support vector machine. It is possible to convert a purely binary classifier into a multi-class classifier using the following strategies: \n",
    "\n",
    "## One-vs-Rest or One-vs-All Classifier\n",
    "\n",
    "Given m classes, we train m binary clas- sifiers, one for each class. Classifier j is trained using tuples of class j as the positive class, and the remaining tuples as the negative class. It learns to return a positive value for class j and a negative value for the rest. To classify an unknown tuple, X, the set of classifiers vote as an ensemble. For example, if classifier j predicts the positive class for X, then class j gets one vote. If it predicts the negative class for X, then each of the classes except j gets one vote. The class with the most votes is assigned to X.\n",
    "\n",
    "## One-vs-One or All-vs-All Classifier\n",
    "\n",
    "Given m classes, this approach learns a classifier for each pair of classes. So $\\frac{m(m-1)}{2}$ such classifiers are trained.  A classifier is trained using tuples of the two classes it should discriminate. To classify an unknown tuple, each classifier votes. The tuple is assigned the class with the maximum number of votes. All-versus-all tends to be superior to one-versus-all.\n",
    "\n",
    "\n",
    "## Outputcode Classifier\n",
    "\n",
    "This classifier converts each class to a binary code, where each postion in the code is called bit. We train one classifier for each bit position. Therefore, in our example we train seven classifiers. If a classifier makes an error, there is a better chance that we may still be able to predict the right class for a given unknown tuple because of the redundancy gained by having additional bits. \n",
    "\n",
    "\n",
    "To see related examples, check [[here](https://scikit-learn.org/stable/modules/multiclass.html)]"
   ]
  },
  {
   "cell_type": "markdown",
   "metadata": {},
   "source": [
    "The opposite of multi-class classification is **multi-label classification**, where there are more than one target variables (binary or multi-class). The key idea is to learn a model that can predict each of these target variables. "
   ]
  },
  {
   "cell_type": "markdown",
   "metadata": {},
   "source": [
    "<center>\n",
    "<tr>\n",
    "<td> <img src=\"../images/mlc.png\" width=\"300\" height=\"200\"> </td>\n",
    "</tr>\n",
    "</center>\n",
    "<b>Fig. A multi-label classfication setting. Here the number of target variables is $> 1$, and the number of classes within each variable is one or more.</b>"
   ]
  },
  {
   "cell_type": "markdown",
   "metadata": {},
   "source": [
    "**In this notebook, we will explore a multi-label classification problem with restaurant reviews.** More specifically, we will extract the aspect of restaurant reviews from tweets. In this context, the author of the text may mention none or all aspects of a preset list; in our case, this list is formed by five aspects: service, food, anecdotes, price, and ambiance."
   ]
  },
  {
   "cell_type": "code",
   "execution_count": null,
   "metadata": {},
   "outputs": [],
   "source": [
    "import pandas as pd\n",
    "import numpy as np\n",
    "from sklearn.model_selection import train_test_split\n",
    "from sklearn.feature_extraction.text import TfidfVectorizer\n",
    "from sklearn.multioutput import MultiOutputClassifier\n",
    "from sklearn.tree import DecisionTreeClassifier\n",
    "from matplotlib import pyplot as plt\n",
    "import seaborn as sns"
   ]
  },
  {
   "cell_type": "markdown",
   "metadata": {},
   "source": [
    "## Load data\n"
   ]
  },
  {
   "cell_type": "code",
   "execution_count": null,
   "metadata": {},
   "outputs": [],
   "source": [
    "aspects_df = pd.read_csv('/dsa/data/DSA-8410/semeval2014.csv')\n",
    "aspects_df.head()"
   ]
  },
  {
   "cell_type": "markdown",
   "metadata": {},
   "source": [
    "# Data stats\n",
    "Checking the number of tweets per aspects."
   ]
  },
  {
   "cell_type": "code",
   "execution_count": null,
   "metadata": {},
   "outputs": [],
   "source": [
    "df_tmp = aspects_df.drop(['text'], axis=1)\n",
    "counts = []\n",
    "categories = list(df_tmp.columns.values)\n",
    "for i in categories:\n",
    "    counts.append((i, df_tmp[i].sum()))\n",
    "df_stats = pd.DataFrame(counts, columns=['aspects', 'number_of_tweets'])\n",
    "df_stats"
   ]
  },
  {
   "cell_type": "markdown",
   "metadata": {},
   "source": [
    "\n",
    "\n",
    "It shows that majority of the tweets are based on food."
   ]
  },
  {
   "cell_type": "code",
   "execution_count": null,
   "metadata": {},
   "outputs": [],
   "source": [
    "df_stats.plot(x='aspects', y='number_of_tweets', kind='bar', legend=False, grid=True, figsize=(8, 5))\n",
    "plt.title(\"Number of comments per category\")\n",
    "plt.ylabel('# of Occurrences', fontsize=12)\n",
    "plt.xlabel('category', fontsize=12)"
   ]
  },
  {
   "cell_type": "markdown",
   "metadata": {
    "tags": []
   },
   "source": [
    "# Count tweets having multiple aspects\n",
    "\n",
    "Let's count the number of tweets based on aspect count. The majority of the tweets have an aspect. Around 500 of the tweets have more than one aspect."
   ]
  },
  {
   "cell_type": "code",
   "execution_count": null,
   "metadata": {},
   "outputs": [],
   "source": [
    "rowsums = aspects_df.iloc[:,1:].sum(axis=1)\n",
    "x=rowsums.value_counts()\n",
    "x "
   ]
  },
  {
   "cell_type": "markdown",
   "metadata": {},
   "source": [
    "# Extracting Features from text\n",
    "\n",
    "Here the given input is a tweet, and we need to extract features from this text. The aspects of the tweets are multiple target variables. Hence this problem falls under multi-label classification problem. \n"
   ]
  },
  {
   "cell_type": "code",
   "execution_count": null,
   "metadata": {},
   "outputs": [],
   "source": [
    "X = aspects_df[\"text\"]\n",
    "y = np.asarray(aspects_df[aspects_df.columns[1:]])"
   ]
  },
  {
   "cell_type": "markdown",
   "metadata": {},
   "source": [
    "# Fit tfidf vectorizer\n",
    "\n",
    "As it is difficult for an ML model to learn from a string directly, we will transform each tweet into a feature vector of numbers. This task can be done by `TfidfVectorizer`.  TF stands for **term frequency** and IDF denotes **inverse document frequency**. We will revisit this concept in detail while discussing information retrieval concepts. For the time being, we assume that we know a mechanism to convert a text string to a numeric vector representation where each vector element is a term or word. "
   ]
  },
  {
   "cell_type": "code",
   "execution_count": null,
   "metadata": {},
   "outputs": [],
   "source": [
    "vectorizer = TfidfVectorizer(max_features=1000, max_df=0.85)  # max vocabulary size is 1000\n",
    "vectorizer.fit(X)"
   ]
  },
  {
   "cell_type": "markdown",
   "metadata": {},
   "source": [
    "# Split train test\n",
    "\n",
    "We split the data into 80/20%. "
   ]
  },
  {
   "cell_type": "code",
   "execution_count": null,
   "metadata": {},
   "outputs": [],
   "source": [
    "X_train, X_test, y_train, y_test = train_test_split(X, y, test_size=0.20, random_state=42)"
   ]
  },
  {
   "cell_type": "markdown",
   "metadata": {},
   "source": [
    "# Convert text to a feature vector\n",
    "\n",
    "The vectorizer converts each tweet to numeric feature vector."
   ]
  },
  {
   "cell_type": "code",
   "execution_count": null,
   "metadata": {},
   "outputs": [],
   "source": [
    "X_train_tfidf = vectorizer.transform(X_train)\n",
    "X_test_tfidf = vectorizer.transform(X_test)"
   ]
  },
  {
   "cell_type": "markdown",
   "metadata": {},
   "source": [
    "# Build a multi-label (aka multioutput) classifier\n",
    "\n",
    "As we need to predict multiple classes for each feature vector, we will be using a simpler version of multi-label classifier, which is `MultiOutputClassifier`. This meta classifier creates a classifier for a category and then combines the output of these classifiers to provide the final prediction. We can pass any classifier to this meta classifier. In this example, we will use a decision tree classifier. "
   ]
  },
  {
   "cell_type": "code",
   "execution_count": null,
   "metadata": {},
   "outputs": [],
   "source": [
    "clf = MultiOutputClassifier(DecisionTreeClassifier())"
   ]
  },
  {
   "cell_type": "markdown",
   "metadata": {},
   "source": [
    "# Train and predict\n",
    "\n",
    "Train the model and predict the output of the test set. "
   ]
  },
  {
   "cell_type": "code",
   "execution_count": null,
   "metadata": {},
   "outputs": [],
   "source": [
    "clf.fit(X_train_tfidf, y_train)\n",
    "val_preds = clf.predict(X_test_tfidf)"
   ]
  },
  {
   "cell_type": "code",
   "execution_count": null,
   "metadata": {},
   "outputs": [],
   "source": [
    "val_preds"
   ]
  },
  {
   "cell_type": "markdown",
   "metadata": {},
   "source": [
    "# Estimating accuracy\n",
    "\n",
    "Here the total number of target values is num_rows x num_targets. We need to estimate accuracy from the proportion of match between the true target matrix and the predicted target matrix. "
   ]
  },
  {
   "cell_type": "code",
   "execution_count": null,
   "metadata": {},
   "outputs": [],
   "source": [
    "acc = np.sum(val_preds==y_test) / (y_test.shape[0]*y_test.shape[1])\n",
    "print(f\"Acc: {acc:.2}\")"
   ]
  },
  {
   "cell_type": "markdown",
   "metadata": {},
   "source": [
    "# Qualitative evaluation\n",
    "\n",
    "Let's manually inspect the true and predicted aspects for some of the tweets. "
   ]
  },
  {
   "cell_type": "code",
   "execution_count": null,
   "metadata": {},
   "outputs": [],
   "source": [
    "# find sample in test having 3 or more aspects\n",
    "\n",
    "pos = np.where(np.sum(y_test, 1) == 3)[0]\n",
    "\n",
    "# check only 10 sample\n",
    "pos = pos[:10]\n",
    "\n",
    "aspects = aspects_df.columns[1:]\n",
    "\n",
    "for _idx in pos:\n",
    "    \n",
    "    print(\"Review: \", X_test.iloc[_idx])\n",
    "    tcol = np.where(y_test[_idx] == 1)[0]\n",
    "    print(\"Actual aspect: \", [aspects[i] for i in tcol])\n",
    "    tcol = np.where(val_preds[_idx] == 1)[0]\n",
    "    print(\"Predicted aspect: \", [aspects[i] for i in tcol])\n",
    "    print(\"=\" * 80)\n",
    "    print()"
   ]
  },
  {
   "cell_type": "markdown",
   "metadata": {},
   "source": [
    "# Save your notebook, then `File > Close and Halt`"
   ]
  }
 ],
 "metadata": {
  "kernelspec": {
   "display_name": "Python 3",
   "language": "python",
   "name": "python3"
  },
  "language_info": {
   "codemirror_mode": {
    "name": "ipython",
    "version": 3
   },
   "file_extension": ".py",
   "mimetype": "text/x-python",
   "name": "python",
   "nbconvert_exporter": "python",
   "pygments_lexer": "ipython3",
   "version": "3.7.3"
  }
 },
 "nbformat": 4,
 "nbformat_minor": 5
}
