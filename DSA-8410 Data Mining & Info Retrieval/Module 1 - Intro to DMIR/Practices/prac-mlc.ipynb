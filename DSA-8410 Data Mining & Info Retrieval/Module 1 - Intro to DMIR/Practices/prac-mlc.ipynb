{
 "cells": [
  {
   "cell_type": "markdown",
   "metadata": {},
   "source": [
    "# Multi-Label Classification"
   ]
  },
  {
   "cell_type": "code",
   "execution_count": 1,
   "metadata": {},
   "outputs": [],
   "source": [
    "import pandas as pd\n",
    "import numpy as np\n",
    "import json\n",
    "import nltk\n",
    "import re\n",
    "import csv\n",
    "import matplotlib.pyplot as plt \n",
    "import seaborn as sns\n",
    "# Allows for processing of large workloads; includes progress bar\n",
    "from tqdm import tqdm\n",
    "# Turns text into binary vectors\n",
    "from sklearn.feature_extraction.text import TfidfVectorizer\n",
    "# \n",
    "from sklearn.model_selection import train_test_split\n",
    "\n",
    "%matplotlib inline\n",
    "pd.set_option('display.max_colwidth', 300)"
   ]
  },
  {
   "cell_type": "markdown",
   "metadata": {},
   "source": [
    "# Dataset\n",
    "We will be using the CMU Movie Summary Corpus open dataset for this notebook. This dataset contains a list of movies and their genres. We can exploit movie summaries for predicting movie genres. "
   ]
  },
  {
   "cell_type": "code",
   "execution_count": 2,
   "metadata": {},
   "outputs": [],
   "source": [
    "data_dir = '/dsa/data/DSA-8410/MovieSummaries/'"
   ]
  },
  {
   "cell_type": "code",
   "execution_count": 3,
   "metadata": {},
   "outputs": [
    {
     "data": {
      "text/html": [
       "<div>\n",
       "<style scoped>\n",
       "    .dataframe tbody tr th:only-of-type {\n",
       "        vertical-align: middle;\n",
       "    }\n",
       "\n",
       "    .dataframe tbody tr th {\n",
       "        vertical-align: top;\n",
       "    }\n",
       "\n",
       "    .dataframe thead th {\n",
       "        text-align: right;\n",
       "    }\n",
       "</style>\n",
       "<table border=\"1\" class=\"dataframe\">\n",
       "  <thead>\n",
       "    <tr style=\"text-align: right;\">\n",
       "      <th></th>\n",
       "      <th>0</th>\n",
       "      <th>1</th>\n",
       "      <th>2</th>\n",
       "      <th>3</th>\n",
       "      <th>4</th>\n",
       "      <th>5</th>\n",
       "      <th>6</th>\n",
       "      <th>7</th>\n",
       "      <th>8</th>\n",
       "    </tr>\n",
       "  </thead>\n",
       "  <tbody>\n",
       "    <tr>\n",
       "      <th>0</th>\n",
       "      <td>975900</td>\n",
       "      <td>/m/03vyhn</td>\n",
       "      <td>Ghosts of Mars</td>\n",
       "      <td>2001-08-24</td>\n",
       "      <td>14010832.0</td>\n",
       "      <td>98.0</td>\n",
       "      <td>{\"/m/02h40lc\": \"English Language\"}</td>\n",
       "      <td>{\"/m/09c7w0\": \"United States of America\"}</td>\n",
       "      <td>{\"/m/01jfsb\": \"Thriller\", \"/m/06n90\": \"Science Fiction\", \"/m/03npn\": \"Horror\", \"/m/03k9fj\": \"Adventure\", \"/m/0fdjb\": \"Supernatural\", \"/m/02kdv5l\": \"Action\", \"/m/09zvmj\": \"Space western\"}</td>\n",
       "    </tr>\n",
       "    <tr>\n",
       "      <th>1</th>\n",
       "      <td>3196793</td>\n",
       "      <td>/m/08yl5d</td>\n",
       "      <td>Getting Away with Murder: The JonBenét Ramsey Mystery</td>\n",
       "      <td>2000-02-16</td>\n",
       "      <td>NaN</td>\n",
       "      <td>95.0</td>\n",
       "      <td>{\"/m/02h40lc\": \"English Language\"}</td>\n",
       "      <td>{\"/m/09c7w0\": \"United States of America\"}</td>\n",
       "      <td>{\"/m/02n4kr\": \"Mystery\", \"/m/03bxz7\": \"Biographical film\", \"/m/07s9rl0\": \"Drama\", \"/m/0hj3n01\": \"Crime Drama\"}</td>\n",
       "    </tr>\n",
       "    <tr>\n",
       "      <th>2</th>\n",
       "      <td>28463795</td>\n",
       "      <td>/m/0crgdbh</td>\n",
       "      <td>Brun bitter</td>\n",
       "      <td>1988</td>\n",
       "      <td>NaN</td>\n",
       "      <td>83.0</td>\n",
       "      <td>{\"/m/05f_3\": \"Norwegian Language\"}</td>\n",
       "      <td>{\"/m/05b4w\": \"Norway\"}</td>\n",
       "      <td>{\"/m/0lsxr\": \"Crime Fiction\", \"/m/07s9rl0\": \"Drama\"}</td>\n",
       "    </tr>\n",
       "    <tr>\n",
       "      <th>3</th>\n",
       "      <td>9363483</td>\n",
       "      <td>/m/0285_cd</td>\n",
       "      <td>White Of The Eye</td>\n",
       "      <td>1987</td>\n",
       "      <td>NaN</td>\n",
       "      <td>110.0</td>\n",
       "      <td>{\"/m/02h40lc\": \"English Language\"}</td>\n",
       "      <td>{\"/m/07ssc\": \"United Kingdom\"}</td>\n",
       "      <td>{\"/m/01jfsb\": \"Thriller\", \"/m/0glj9q\": \"Erotic thriller\", \"/m/09blyk\": \"Psychological thriller\"}</td>\n",
       "    </tr>\n",
       "    <tr>\n",
       "      <th>4</th>\n",
       "      <td>261236</td>\n",
       "      <td>/m/01mrr1</td>\n",
       "      <td>A Woman in Flames</td>\n",
       "      <td>1983</td>\n",
       "      <td>NaN</td>\n",
       "      <td>106.0</td>\n",
       "      <td>{\"/m/04306rv\": \"German Language\"}</td>\n",
       "      <td>{\"/m/0345h\": \"Germany\"}</td>\n",
       "      <td>{\"/m/07s9rl0\": \"Drama\"}</td>\n",
       "    </tr>\n",
       "  </tbody>\n",
       "</table>\n",
       "</div>"
      ],
      "text/plain": [
       "          0           1  \\\n",
       "0    975900   /m/03vyhn   \n",
       "1   3196793   /m/08yl5d   \n",
       "2  28463795  /m/0crgdbh   \n",
       "3   9363483  /m/0285_cd   \n",
       "4    261236   /m/01mrr1   \n",
       "\n",
       "                                                       2           3  \\\n",
       "0                                         Ghosts of Mars  2001-08-24   \n",
       "1  Getting Away with Murder: The JonBenét Ramsey Mystery  2000-02-16   \n",
       "2                                            Brun bitter        1988   \n",
       "3                                       White Of The Eye        1987   \n",
       "4                                      A Woman in Flames        1983   \n",
       "\n",
       "            4      5                                   6  \\\n",
       "0  14010832.0   98.0  {\"/m/02h40lc\": \"English Language\"}   \n",
       "1         NaN   95.0  {\"/m/02h40lc\": \"English Language\"}   \n",
       "2         NaN   83.0  {\"/m/05f_3\": \"Norwegian Language\"}   \n",
       "3         NaN  110.0  {\"/m/02h40lc\": \"English Language\"}   \n",
       "4         NaN  106.0   {\"/m/04306rv\": \"German Language\"}   \n",
       "\n",
       "                                           7  \\\n",
       "0  {\"/m/09c7w0\": \"United States of America\"}   \n",
       "1  {\"/m/09c7w0\": \"United States of America\"}   \n",
       "2                     {\"/m/05b4w\": \"Norway\"}   \n",
       "3             {\"/m/07ssc\": \"United Kingdom\"}   \n",
       "4                    {\"/m/0345h\": \"Germany\"}   \n",
       "\n",
       "                                                                                                                                                                                            8  \n",
       "0  {\"/m/01jfsb\": \"Thriller\", \"/m/06n90\": \"Science Fiction\", \"/m/03npn\": \"Horror\", \"/m/03k9fj\": \"Adventure\", \"/m/0fdjb\": \"Supernatural\", \"/m/02kdv5l\": \"Action\", \"/m/09zvmj\": \"Space western\"}  \n",
       "1                                                                              {\"/m/02n4kr\": \"Mystery\", \"/m/03bxz7\": \"Biographical film\", \"/m/07s9rl0\": \"Drama\", \"/m/0hj3n01\": \"Crime Drama\"}  \n",
       "2                                                                                                                                        {\"/m/0lsxr\": \"Crime Fiction\", \"/m/07s9rl0\": \"Drama\"}  \n",
       "3                                                                                            {\"/m/01jfsb\": \"Thriller\", \"/m/0glj9q\": \"Erotic thriller\", \"/m/09blyk\": \"Psychological thriller\"}  \n",
       "4                                                                                                                                                                     {\"/m/07s9rl0\": \"Drama\"}  "
      ]
     },
     "execution_count": 3,
     "metadata": {},
     "output_type": "execute_result"
    }
   ],
   "source": [
    "\n",
    "meta = pd.read_csv(data_dir+\"movie.metadata.tsv\", sep = '\\t', header = None)\n",
    "meta.head()"
   ]
  },
  {
   "cell_type": "markdown",
   "metadata": {},
   "source": [
    "## Set the proper column name for the dataframe."
   ]
  },
  {
   "cell_type": "code",
   "execution_count": 4,
   "metadata": {},
   "outputs": [
    {
     "data": {
      "text/html": [
       "<div>\n",
       "<style scoped>\n",
       "    .dataframe tbody tr th:only-of-type {\n",
       "        vertical-align: middle;\n",
       "    }\n",
       "\n",
       "    .dataframe tbody tr th {\n",
       "        vertical-align: top;\n",
       "    }\n",
       "\n",
       "    .dataframe thead th {\n",
       "        text-align: right;\n",
       "    }\n",
       "</style>\n",
       "<table border=\"1\" class=\"dataframe\">\n",
       "  <thead>\n",
       "    <tr style=\"text-align: right;\">\n",
       "      <th></th>\n",
       "      <th>movie_id</th>\n",
       "      <th>freebase_movie_id</th>\n",
       "      <th>movie_name</th>\n",
       "      <th>release_date</th>\n",
       "      <th>revenue</th>\n",
       "      <th>runtime</th>\n",
       "      <th>languages</th>\n",
       "      <th>countries</th>\n",
       "      <th>genre</th>\n",
       "    </tr>\n",
       "  </thead>\n",
       "  <tbody>\n",
       "    <tr>\n",
       "      <th>0</th>\n",
       "      <td>975900</td>\n",
       "      <td>/m/03vyhn</td>\n",
       "      <td>Ghosts of Mars</td>\n",
       "      <td>2001-08-24</td>\n",
       "      <td>14010832.0</td>\n",
       "      <td>98.0</td>\n",
       "      <td>{\"/m/02h40lc\": \"English Language\"}</td>\n",
       "      <td>{\"/m/09c7w0\": \"United States of America\"}</td>\n",
       "      <td>{\"/m/01jfsb\": \"Thriller\", \"/m/06n90\": \"Science Fiction\", \"/m/03npn\": \"Horror\", \"/m/03k9fj\": \"Adventure\", \"/m/0fdjb\": \"Supernatural\", \"/m/02kdv5l\": \"Action\", \"/m/09zvmj\": \"Space western\"}</td>\n",
       "    </tr>\n",
       "    <tr>\n",
       "      <th>1</th>\n",
       "      <td>3196793</td>\n",
       "      <td>/m/08yl5d</td>\n",
       "      <td>Getting Away with Murder: The JonBenét Ramsey Mystery</td>\n",
       "      <td>2000-02-16</td>\n",
       "      <td>NaN</td>\n",
       "      <td>95.0</td>\n",
       "      <td>{\"/m/02h40lc\": \"English Language\"}</td>\n",
       "      <td>{\"/m/09c7w0\": \"United States of America\"}</td>\n",
       "      <td>{\"/m/02n4kr\": \"Mystery\", \"/m/03bxz7\": \"Biographical film\", \"/m/07s9rl0\": \"Drama\", \"/m/0hj3n01\": \"Crime Drama\"}</td>\n",
       "    </tr>\n",
       "    <tr>\n",
       "      <th>2</th>\n",
       "      <td>28463795</td>\n",
       "      <td>/m/0crgdbh</td>\n",
       "      <td>Brun bitter</td>\n",
       "      <td>1988</td>\n",
       "      <td>NaN</td>\n",
       "      <td>83.0</td>\n",
       "      <td>{\"/m/05f_3\": \"Norwegian Language\"}</td>\n",
       "      <td>{\"/m/05b4w\": \"Norway\"}</td>\n",
       "      <td>{\"/m/0lsxr\": \"Crime Fiction\", \"/m/07s9rl0\": \"Drama\"}</td>\n",
       "    </tr>\n",
       "    <tr>\n",
       "      <th>3</th>\n",
       "      <td>9363483</td>\n",
       "      <td>/m/0285_cd</td>\n",
       "      <td>White Of The Eye</td>\n",
       "      <td>1987</td>\n",
       "      <td>NaN</td>\n",
       "      <td>110.0</td>\n",
       "      <td>{\"/m/02h40lc\": \"English Language\"}</td>\n",
       "      <td>{\"/m/07ssc\": \"United Kingdom\"}</td>\n",
       "      <td>{\"/m/01jfsb\": \"Thriller\", \"/m/0glj9q\": \"Erotic thriller\", \"/m/09blyk\": \"Psychological thriller\"}</td>\n",
       "    </tr>\n",
       "    <tr>\n",
       "      <th>4</th>\n",
       "      <td>261236</td>\n",
       "      <td>/m/01mrr1</td>\n",
       "      <td>A Woman in Flames</td>\n",
       "      <td>1983</td>\n",
       "      <td>NaN</td>\n",
       "      <td>106.0</td>\n",
       "      <td>{\"/m/04306rv\": \"German Language\"}</td>\n",
       "      <td>{\"/m/0345h\": \"Germany\"}</td>\n",
       "      <td>{\"/m/07s9rl0\": \"Drama\"}</td>\n",
       "    </tr>\n",
       "  </tbody>\n",
       "</table>\n",
       "</div>"
      ],
      "text/plain": [
       "   movie_id freebase_movie_id  \\\n",
       "0    975900         /m/03vyhn   \n",
       "1   3196793         /m/08yl5d   \n",
       "2  28463795        /m/0crgdbh   \n",
       "3   9363483        /m/0285_cd   \n",
       "4    261236         /m/01mrr1   \n",
       "\n",
       "                                              movie_name release_date  \\\n",
       "0                                         Ghosts of Mars   2001-08-24   \n",
       "1  Getting Away with Murder: The JonBenét Ramsey Mystery   2000-02-16   \n",
       "2                                            Brun bitter         1988   \n",
       "3                                       White Of The Eye         1987   \n",
       "4                                      A Woman in Flames         1983   \n",
       "\n",
       "      revenue  runtime                           languages  \\\n",
       "0  14010832.0     98.0  {\"/m/02h40lc\": \"English Language\"}   \n",
       "1         NaN     95.0  {\"/m/02h40lc\": \"English Language\"}   \n",
       "2         NaN     83.0  {\"/m/05f_3\": \"Norwegian Language\"}   \n",
       "3         NaN    110.0  {\"/m/02h40lc\": \"English Language\"}   \n",
       "4         NaN    106.0   {\"/m/04306rv\": \"German Language\"}   \n",
       "\n",
       "                                   countries  \\\n",
       "0  {\"/m/09c7w0\": \"United States of America\"}   \n",
       "1  {\"/m/09c7w0\": \"United States of America\"}   \n",
       "2                     {\"/m/05b4w\": \"Norway\"}   \n",
       "3             {\"/m/07ssc\": \"United Kingdom\"}   \n",
       "4                    {\"/m/0345h\": \"Germany\"}   \n",
       "\n",
       "                                                                                                                                                                                        genre  \n",
       "0  {\"/m/01jfsb\": \"Thriller\", \"/m/06n90\": \"Science Fiction\", \"/m/03npn\": \"Horror\", \"/m/03k9fj\": \"Adventure\", \"/m/0fdjb\": \"Supernatural\", \"/m/02kdv5l\": \"Action\", \"/m/09zvmj\": \"Space western\"}  \n",
       "1                                                                              {\"/m/02n4kr\": \"Mystery\", \"/m/03bxz7\": \"Biographical film\", \"/m/07s9rl0\": \"Drama\", \"/m/0hj3n01\": \"Crime Drama\"}  \n",
       "2                                                                                                                                        {\"/m/0lsxr\": \"Crime Fiction\", \"/m/07s9rl0\": \"Drama\"}  \n",
       "3                                                                                            {\"/m/01jfsb\": \"Thriller\", \"/m/0glj9q\": \"Erotic thriller\", \"/m/09blyk\": \"Psychological thriller\"}  \n",
       "4                                                                                                                                                                     {\"/m/07s9rl0\": \"Drama\"}  "
      ]
     },
     "execution_count": 4,
     "metadata": {},
     "output_type": "execute_result"
    }
   ],
   "source": [
    "# rename columns\n",
    "meta.columns = [\"movie_id\",\"freebase_movie_id\",\"movie_name\",\n",
    "                \"release_date\",\"revenue\",\"runtime\", \"languages\",\"countries\",\"genre\"]\n",
    "meta.head()"
   ]
  },
  {
   "cell_type": "markdown",
   "metadata": {},
   "source": [
    "# Load movie plots\n",
    "The movie plot is in a different file. We need to load the plot separately."
   ]
  },
  {
   "cell_type": "code",
   "execution_count": 5,
   "metadata": {},
   "outputs": [
    {
     "name": "stderr",
     "output_type": "stream",
     "text": [
      "42303it [00:00, 47984.72it/s]\n",
      "100%|██████████| 42303/42303 [00:00<00:00, 1599131.56it/s]\n"
     ]
    },
    {
     "data": {
      "text/html": [
       "<div>\n",
       "<style scoped>\n",
       "    .dataframe tbody tr th:only-of-type {\n",
       "        vertical-align: middle;\n",
       "    }\n",
       "\n",
       "    .dataframe tbody tr th {\n",
       "        vertical-align: top;\n",
       "    }\n",
       "\n",
       "    .dataframe thead th {\n",
       "        text-align: right;\n",
       "    }\n",
       "</style>\n",
       "<table border=\"1\" class=\"dataframe\">\n",
       "  <thead>\n",
       "    <tr style=\"text-align: right;\">\n",
       "      <th></th>\n",
       "      <th>movie_id</th>\n",
       "      <th>plot</th>\n",
       "    </tr>\n",
       "  </thead>\n",
       "  <tbody>\n",
       "    <tr>\n",
       "      <th>0</th>\n",
       "      <td>23890098</td>\n",
       "      <td>Shlykov, a hard-working taxi driver and Lyosha, a saxophonist, develop a bizarre love-hate relationship, and despite their prejudices, realize they aren't so different after all.</td>\n",
       "    </tr>\n",
       "    <tr>\n",
       "      <th>1</th>\n",
       "      <td>31186339</td>\n",
       "      <td>The nation of Panem consists of a wealthy Capitol and twelve poorer districts. As punishment for a past rebellion, each district must provide a boy and girl  between the ages of 12 and 18 selected by lottery  for the annual Hunger Games. The tributes must fight to the death in an arena; the sole...</td>\n",
       "    </tr>\n",
       "    <tr>\n",
       "      <th>2</th>\n",
       "      <td>20663735</td>\n",
       "      <td>Poovalli Induchoodan  is sentenced for six years prison life for murdering his classmate. Induchoodan, the only son of Justice Maranchery Karunakara Menon  was framed in the case by Manapally Madhavan Nambiar  and his crony DYSP Sankaranarayanan  to take revenge on idealist judge Menon who had e...</td>\n",
       "    </tr>\n",
       "    <tr>\n",
       "      <th>3</th>\n",
       "      <td>2231378</td>\n",
       "      <td>The Lemon Drop Kid , a New York City swindler, is illegally touting horses at a Florida racetrack. After several successful hustles, the Kid comes across a beautiful, but gullible, woman intending to bet a lot of money. The Kid convinces her to switch her bet, employing a prefabricated con. Unfo...</td>\n",
       "    </tr>\n",
       "    <tr>\n",
       "      <th>4</th>\n",
       "      <td>595909</td>\n",
       "      <td>Seventh-day Adventist Church pastor Michael Chamberlain, his wife Lindy, their two sons, and their nine-week-old daughter Azaria are on a camping holiday in the Outback. With the baby sleeping in their tent, the family is enjoying a barbecue with their fellow campers when a cry is heard. Lindy r...</td>\n",
       "    </tr>\n",
       "  </tbody>\n",
       "</table>\n",
       "</div>"
      ],
      "text/plain": [
       "   movie_id  \\\n",
       "0  23890098   \n",
       "1  31186339   \n",
       "2  20663735   \n",
       "3   2231378   \n",
       "4    595909   \n",
       "\n",
       "                                                                                                                                                                                                                                                                                                          plot  \n",
       "0                                                                                                                           Shlykov, a hard-working taxi driver and Lyosha, a saxophonist, develop a bizarre love-hate relationship, and despite their prejudices, realize they aren't so different after all.  \n",
       "1  The nation of Panem consists of a wealthy Capitol and twelve poorer districts. As punishment for a past rebellion, each district must provide a boy and girl  between the ages of 12 and 18 selected by lottery  for the annual Hunger Games. The tributes must fight to the death in an arena; the sole...  \n",
       "2  Poovalli Induchoodan  is sentenced for six years prison life for murdering his classmate. Induchoodan, the only son of Justice Maranchery Karunakara Menon  was framed in the case by Manapally Madhavan Nambiar  and his crony DYSP Sankaranarayanan  to take revenge on idealist judge Menon who had e...  \n",
       "3  The Lemon Drop Kid , a New York City swindler, is illegally touting horses at a Florida racetrack. After several successful hustles, the Kid comes across a beautiful, but gullible, woman intending to bet a lot of money. The Kid convinces her to switch her bet, employing a prefabricated con. Unfo...  \n",
       "4  Seventh-day Adventist Church pastor Michael Chamberlain, his wife Lindy, their two sons, and their nine-week-old daughter Azaria are on a camping holiday in the Outback. With the baby sleeping in their tent, the family is enjoying a barbecue with their fellow campers when a cry is heard. Lindy r...  "
      ]
     },
     "execution_count": 5,
     "metadata": {},
     "output_type": "execute_result"
    }
   ],
   "source": [
    "plots = []\n",
    "\n",
    "with open(data_dir + \"plot_summaries.txt\", 'r') as f:\n",
    "       reader = csv.reader(f, dialect='excel-tab') \n",
    "       for row in tqdm(reader):\n",
    "            plots.append(row)\n",
    "            \n",
    "movie_id = []\n",
    "plot = []\n",
    "\n",
    "# extract movie Ids and plot summaries\n",
    "for i in tqdm(plots):\n",
    "  movie_id.append(i[0])\n",
    "  plot.append(i[1])\n",
    "\n",
    "# create dataframe\n",
    "movies = pd.DataFrame({'movie_id': movie_id, 'plot': plot})\n",
    "movies.head()"
   ]
  },
  {
   "cell_type": "markdown",
   "metadata": {},
   "source": [
    "# Data Exploration and Pre-processing\n",
    "Now add the meta information to the movies dataframe. "
   ]
  },
  {
   "cell_type": "code",
   "execution_count": 6,
   "metadata": {},
   "outputs": [
    {
     "data": {
      "text/html": [
       "<div>\n",
       "<style scoped>\n",
       "    .dataframe tbody tr th:only-of-type {\n",
       "        vertical-align: middle;\n",
       "    }\n",
       "\n",
       "    .dataframe tbody tr th {\n",
       "        vertical-align: top;\n",
       "    }\n",
       "\n",
       "    .dataframe thead th {\n",
       "        text-align: right;\n",
       "    }\n",
       "</style>\n",
       "<table border=\"1\" class=\"dataframe\">\n",
       "  <thead>\n",
       "    <tr style=\"text-align: right;\">\n",
       "      <th></th>\n",
       "      <th>movie_id</th>\n",
       "      <th>plot</th>\n",
       "      <th>movie_name</th>\n",
       "      <th>genre</th>\n",
       "    </tr>\n",
       "  </thead>\n",
       "  <tbody>\n",
       "    <tr>\n",
       "      <th>0</th>\n",
       "      <td>23890098</td>\n",
       "      <td>Shlykov, a hard-working taxi driver and Lyosha, a saxophonist, develop a bizarre love-hate relationship, and despite their prejudices, realize they aren't so different after all.</td>\n",
       "      <td>Taxi Blues</td>\n",
       "      <td>{\"/m/07s9rl0\": \"Drama\", \"/m/03q4nz\": \"World cinema\"}</td>\n",
       "    </tr>\n",
       "    <tr>\n",
       "      <th>1</th>\n",
       "      <td>31186339</td>\n",
       "      <td>The nation of Panem consists of a wealthy Capitol and twelve poorer districts. As punishment for a past rebellion, each district must provide a boy and girl  between the ages of 12 and 18 selected by lottery  for the annual Hunger Games. The tributes must fight to the death in an arena; the sole...</td>\n",
       "      <td>The Hunger Games</td>\n",
       "      <td>{\"/m/03btsm8\": \"Action/Adventure\", \"/m/06n90\": \"Science Fiction\", \"/m/02kdv5l\": \"Action\", \"/m/07s9rl0\": \"Drama\"}</td>\n",
       "    </tr>\n",
       "    <tr>\n",
       "      <th>2</th>\n",
       "      <td>20663735</td>\n",
       "      <td>Poovalli Induchoodan  is sentenced for six years prison life for murdering his classmate. Induchoodan, the only son of Justice Maranchery Karunakara Menon  was framed in the case by Manapally Madhavan Nambiar  and his crony DYSP Sankaranarayanan  to take revenge on idealist judge Menon who had e...</td>\n",
       "      <td>Narasimham</td>\n",
       "      <td>{\"/m/04t36\": \"Musical\", \"/m/02kdv5l\": \"Action\", \"/m/07s9rl0\": \"Drama\", \"/m/01chg\": \"Bollywood\"}</td>\n",
       "    </tr>\n",
       "    <tr>\n",
       "      <th>3</th>\n",
       "      <td>2231378</td>\n",
       "      <td>The Lemon Drop Kid , a New York City swindler, is illegally touting horses at a Florida racetrack. After several successful hustles, the Kid comes across a beautiful, but gullible, woman intending to bet a lot of money. The Kid convinces her to switch her bet, employing a prefabricated con. Unfo...</td>\n",
       "      <td>The Lemon Drop Kid</td>\n",
       "      <td>{\"/m/06qm3\": \"Screwball comedy\", \"/m/01z4y\": \"Comedy\"}</td>\n",
       "    </tr>\n",
       "    <tr>\n",
       "      <th>4</th>\n",
       "      <td>595909</td>\n",
       "      <td>Seventh-day Adventist Church pastor Michael Chamberlain, his wife Lindy, their two sons, and their nine-week-old daughter Azaria are on a camping holiday in the Outback. With the baby sleeping in their tent, the family is enjoying a barbecue with their fellow campers when a cry is heard. Lindy r...</td>\n",
       "      <td>A Cry in the Dark</td>\n",
       "      <td>{\"/m/0lsxr\": \"Crime Fiction\", \"/m/07s9rl0\": \"Drama\", \"/m/01f9r0\": \"Docudrama\", \"/m/03q4nz\": \"World cinema\", \"/m/05bh16v\": \"Courtroom Drama\"}</td>\n",
       "    </tr>\n",
       "  </tbody>\n",
       "</table>\n",
       "</div>"
      ],
      "text/plain": [
       "   movie_id  \\\n",
       "0  23890098   \n",
       "1  31186339   \n",
       "2  20663735   \n",
       "3   2231378   \n",
       "4    595909   \n",
       "\n",
       "                                                                                                                                                                                                                                                                                                          plot  \\\n",
       "0                                                                                                                           Shlykov, a hard-working taxi driver and Lyosha, a saxophonist, develop a bizarre love-hate relationship, and despite their prejudices, realize they aren't so different after all.   \n",
       "1  The nation of Panem consists of a wealthy Capitol and twelve poorer districts. As punishment for a past rebellion, each district must provide a boy and girl  between the ages of 12 and 18 selected by lottery  for the annual Hunger Games. The tributes must fight to the death in an arena; the sole...   \n",
       "2  Poovalli Induchoodan  is sentenced for six years prison life for murdering his classmate. Induchoodan, the only son of Justice Maranchery Karunakara Menon  was framed in the case by Manapally Madhavan Nambiar  and his crony DYSP Sankaranarayanan  to take revenge on idealist judge Menon who had e...   \n",
       "3  The Lemon Drop Kid , a New York City swindler, is illegally touting horses at a Florida racetrack. After several successful hustles, the Kid comes across a beautiful, but gullible, woman intending to bet a lot of money. The Kid convinces her to switch her bet, employing a prefabricated con. Unfo...   \n",
       "4  Seventh-day Adventist Church pastor Michael Chamberlain, his wife Lindy, their two sons, and their nine-week-old daughter Azaria are on a camping holiday in the Outback. With the baby sleeping in their tent, the family is enjoying a barbecue with their fellow campers when a cry is heard. Lindy r...   \n",
       "\n",
       "           movie_name  \\\n",
       "0          Taxi Blues   \n",
       "1    The Hunger Games   \n",
       "2          Narasimham   \n",
       "3  The Lemon Drop Kid   \n",
       "4   A Cry in the Dark   \n",
       "\n",
       "                                                                                                                                          genre  \n",
       "0                                                                                          {\"/m/07s9rl0\": \"Drama\", \"/m/03q4nz\": \"World cinema\"}  \n",
       "1                              {\"/m/03btsm8\": \"Action/Adventure\", \"/m/06n90\": \"Science Fiction\", \"/m/02kdv5l\": \"Action\", \"/m/07s9rl0\": \"Drama\"}  \n",
       "2                                               {\"/m/04t36\": \"Musical\", \"/m/02kdv5l\": \"Action\", \"/m/07s9rl0\": \"Drama\", \"/m/01chg\": \"Bollywood\"}  \n",
       "3                                                                                        {\"/m/06qm3\": \"Screwball comedy\", \"/m/01z4y\": \"Comedy\"}  \n",
       "4  {\"/m/0lsxr\": \"Crime Fiction\", \"/m/07s9rl0\": \"Drama\", \"/m/01f9r0\": \"Docudrama\", \"/m/03q4nz\": \"World cinema\", \"/m/05bh16v\": \"Courtroom Drama\"}  "
      ]
     },
     "execution_count": 6,
     "metadata": {},
     "output_type": "execute_result"
    }
   ],
   "source": [
    "# change datatype of 'movie_id'\n",
    "meta['movie_id'] = meta['movie_id'].astype(str)\n",
    "\n",
    "# merge meta with movie plots\n",
    "movies = pd.merge(movies, meta[['movie_id', 'movie_name', 'genre']], on = 'movie_id')\n",
    "\n",
    "movies.head()"
   ]
  },
  {
   "cell_type": "code",
   "execution_count": 7,
   "metadata": {},
   "outputs": [
    {
     "data": {
      "text/plain": [
       "'{\"/m/07s9rl0\": \"Drama\", \"/m/03q4nz\": \"World cinema\"}'"
      ]
     },
     "execution_count": 7,
     "metadata": {},
     "output_type": "execute_result"
    }
   ],
   "source": [
    "movies['genre'][0]\n"
   ]
  },
  {
   "cell_type": "markdown",
   "metadata": {},
   "source": [
    "The tags are in json. We need to convert json to list"
   ]
  },
  {
   "cell_type": "code",
   "execution_count": 8,
   "metadata": {},
   "outputs": [],
   "source": [
    "# an empty list\n",
    "genres = [] \n",
    "\n",
    "# extract genres\n",
    "for i in movies['genre']: \n",
    "  genres.append(list(json.loads(i).values())) \n",
    "\n",
    "# add to 'movies' dataframe  \n",
    "movies['genre_new'] = genres"
   ]
  },
  {
   "cell_type": "code",
   "execution_count": 9,
   "metadata": {},
   "outputs": [
    {
     "data": {
      "text/plain": [
       "'print(\"Number of null values in genre_new: \" + \\n       str(movies.iloc[:, 4].isnull().sum()))\\n\\nprint(\"Number of null values in movies: \" + \\n       str(movies.isnull().sum()))'"
      ]
     },
     "execution_count": 9,
     "metadata": {},
     "output_type": "execute_result"
    }
   ],
   "source": [
    "movies.head()\n",
    "\n",
    "'''print(\"Number of null values in genre_new: \" + \n",
    "       str(movies.iloc[:, 4].isnull().sum()))\n",
    "\n",
    "print(\"Number of null values in movies: \" + \n",
    "       str(movies.isnull().sum()))'''"
   ]
  },
  {
   "cell_type": "markdown",
   "metadata": {},
   "source": [
    "# T1. Drop movies which doesn't have any genre information\n",
    "\n",
    "Dropping the movies which don't have any information about tags."
   ]
  },
  {
   "cell_type": "code",
   "execution_count": 10,
   "metadata": {},
   "outputs": [
    {
     "data": {
      "text/plain": [
       "((41793, 5), (42204, 5))"
      ]
     },
     "execution_count": 10,
     "metadata": {},
     "output_type": "execute_result"
    }
   ],
   "source": [
    "# remove samples with 0 genre tags\n",
    "'''movies = movies.dropna(subset=['genre_new'])\n",
    "\n",
    "print(\"Number of null values in genre_new: \" + \n",
    "       str(movies.iloc[:, 4].isnull().sum()))'''\n",
    "\n",
    "movies_new = movies[~(movies['genre_new'].str.len()==0)]\n",
    "movies_new.shape, movies.shape"
   ]
  },
  {
   "cell_type": "markdown",
   "metadata": {},
   "source": [
    "# List all genres"
   ]
  },
  {
   "cell_type": "code",
   "execution_count": 11,
   "metadata": {},
   "outputs": [
    {
     "data": {
      "text/plain": [
       "363"
      ]
     },
     "execution_count": 11,
     "metadata": {},
     "output_type": "execute_result"
    }
   ],
   "source": [
    "# get all genre tags in a list\n",
    "all_genres = sum(genres,[])\n",
    "len(set(all_genres))"
   ]
  },
  {
   "cell_type": "markdown",
   "metadata": {},
   "source": [
    "There are around 363 genres. This is too many. To reduce computing load, we will use top 50 gneres for prediciton. \n"
   ]
  },
  {
   "cell_type": "code",
   "execution_count": 12,
   "metadata": {},
   "outputs": [
    {
     "data": {
      "image/png": "[encoded data removed]",
      "text/plain": [
       "<Figure size 864x1080 with 1 Axes>"
      ]
     },
     "metadata": {
      "needs_background": "light"
     },
     "output_type": "display_data"
    }
   ],
   "source": [
    "all_genres = nltk.FreqDist(all_genres) \n",
    "\n",
    "# create dataframe\n",
    "all_genres_df = pd.DataFrame({'Genre': list(all_genres.keys()), \n",
    "                              'Count': list(all_genres.values())})\n",
    "\n",
    "g = all_genres_df.nlargest(columns=\"Count\", n = 50) \n",
    "\n",
    "plt.figure(figsize=(12,15)) \n",
    "ax = sns.barplot(data=g, x= \"Count\", y = \"Genre\") \n",
    "ax.set(ylabel = 'Count') \n",
    "plt.show()"
   ]
  },
  {
   "cell_type": "code",
   "execution_count": 13,
   "metadata": {},
   "outputs": [
    {
     "data": {
      "text/html": [
       "<div>\n",
       "<style scoped>\n",
       "    .dataframe tbody tr th:only-of-type {\n",
       "        vertical-align: middle;\n",
       "    }\n",
       "\n",
       "    .dataframe tbody tr th {\n",
       "        vertical-align: top;\n",
       "    }\n",
       "\n",
       "    .dataframe thead th {\n",
       "        text-align: right;\n",
       "    }\n",
       "</style>\n",
       "<table border=\"1\" class=\"dataframe\">\n",
       "  <thead>\n",
       "    <tr style=\"text-align: right;\">\n",
       "      <th></th>\n",
       "      <th>movie_id</th>\n",
       "      <th>plot</th>\n",
       "      <th>movie_name</th>\n",
       "      <th>genre</th>\n",
       "      <th>genre_new</th>\n",
       "      <th>chosen_genre</th>\n",
       "    </tr>\n",
       "  </thead>\n",
       "  <tbody>\n",
       "    <tr>\n",
       "      <th>0</th>\n",
       "      <td>23890098</td>\n",
       "      <td>Shlykov, a hard-working taxi driver and Lyosha, a saxophonist, develop a bizarre love-hate relationship, and despite their prejudices, realize they aren't so different after all.</td>\n",
       "      <td>Taxi Blues</td>\n",
       "      <td>{\"/m/07s9rl0\": \"Drama\", \"/m/03q4nz\": \"World cinema\"}</td>\n",
       "      <td>[Drama, World cinema]</td>\n",
       "      <td>[Drama, World cinema]</td>\n",
       "    </tr>\n",
       "    <tr>\n",
       "      <th>1</th>\n",
       "      <td>31186339</td>\n",
       "      <td>The nation of Panem consists of a wealthy Capitol and twelve poorer districts. As punishment for a past rebellion, each district must provide a boy and girl  between the ages of 12 and 18 selected by lottery  for the annual Hunger Games. The tributes must fight to the death in an arena; the sole...</td>\n",
       "      <td>The Hunger Games</td>\n",
       "      <td>{\"/m/03btsm8\": \"Action/Adventure\", \"/m/06n90\": \"Science Fiction\", \"/m/02kdv5l\": \"Action\", \"/m/07s9rl0\": \"Drama\"}</td>\n",
       "      <td>[Action/Adventure, Science Fiction, Action, Drama]</td>\n",
       "      <td>[Drama, Action, Action/Adventure, Science Fiction]</td>\n",
       "    </tr>\n",
       "    <tr>\n",
       "      <th>2</th>\n",
       "      <td>20663735</td>\n",
       "      <td>Poovalli Induchoodan  is sentenced for six years prison life for murdering his classmate. Induchoodan, the only son of Justice Maranchery Karunakara Menon  was framed in the case by Manapally Madhavan Nambiar  and his crony DYSP Sankaranarayanan  to take revenge on idealist judge Menon who had e...</td>\n",
       "      <td>Narasimham</td>\n",
       "      <td>{\"/m/04t36\": \"Musical\", \"/m/02kdv5l\": \"Action\", \"/m/07s9rl0\": \"Drama\", \"/m/01chg\": \"Bollywood\"}</td>\n",
       "      <td>[Musical, Action, Drama, Bollywood]</td>\n",
       "      <td>[Musical, Drama, Action, Bollywood]</td>\n",
       "    </tr>\n",
       "    <tr>\n",
       "      <th>3</th>\n",
       "      <td>2231378</td>\n",
       "      <td>The Lemon Drop Kid , a New York City swindler, is illegally touting horses at a Florida racetrack. After several successful hustles, the Kid comes across a beautiful, but gullible, woman intending to bet a lot of money. The Kid convinces her to switch her bet, employing a prefabricated con. Unfo...</td>\n",
       "      <td>The Lemon Drop Kid</td>\n",
       "      <td>{\"/m/06qm3\": \"Screwball comedy\", \"/m/01z4y\": \"Comedy\"}</td>\n",
       "      <td>[Screwball comedy, Comedy]</td>\n",
       "      <td>[Comedy]</td>\n",
       "    </tr>\n",
       "    <tr>\n",
       "      <th>4</th>\n",
       "      <td>595909</td>\n",
       "      <td>Seventh-day Adventist Church pastor Michael Chamberlain, his wife Lindy, their two sons, and their nine-week-old daughter Azaria are on a camping holiday in the Outback. With the baby sleeping in their tent, the family is enjoying a barbecue with their fellow campers when a cry is heard. Lindy r...</td>\n",
       "      <td>A Cry in the Dark</td>\n",
       "      <td>{\"/m/0lsxr\": \"Crime Fiction\", \"/m/07s9rl0\": \"Drama\", \"/m/01f9r0\": \"Docudrama\", \"/m/03q4nz\": \"World cinema\", \"/m/05bh16v\": \"Courtroom Drama\"}</td>\n",
       "      <td>[Crime Fiction, Drama, Docudrama, World cinema, Courtroom Drama]</td>\n",
       "      <td>[Crime Fiction, Drama, World cinema]</td>\n",
       "    </tr>\n",
       "  </tbody>\n",
       "</table>\n",
       "</div>"
      ],
      "text/plain": [
       "   movie_id  \\\n",
       "0  23890098   \n",
       "1  31186339   \n",
       "2  20663735   \n",
       "3   2231378   \n",
       "4    595909   \n",
       "\n",
       "                                                                                                                                                                                                                                                                                                          plot  \\\n",
       "0                                                                                                                           Shlykov, a hard-working taxi driver and Lyosha, a saxophonist, develop a bizarre love-hate relationship, and despite their prejudices, realize they aren't so different after all.   \n",
       "1  The nation of Panem consists of a wealthy Capitol and twelve poorer districts. As punishment for a past rebellion, each district must provide a boy and girl  between the ages of 12 and 18 selected by lottery  for the annual Hunger Games. The tributes must fight to the death in an arena; the sole...   \n",
       "2  Poovalli Induchoodan  is sentenced for six years prison life for murdering his classmate. Induchoodan, the only son of Justice Maranchery Karunakara Menon  was framed in the case by Manapally Madhavan Nambiar  and his crony DYSP Sankaranarayanan  to take revenge on idealist judge Menon who had e...   \n",
       "3  The Lemon Drop Kid , a New York City swindler, is illegally touting horses at a Florida racetrack. After several successful hustles, the Kid comes across a beautiful, but gullible, woman intending to bet a lot of money. The Kid convinces her to switch her bet, employing a prefabricated con. Unfo...   \n",
       "4  Seventh-day Adventist Church pastor Michael Chamberlain, his wife Lindy, their two sons, and their nine-week-old daughter Azaria are on a camping holiday in the Outback. With the baby sleeping in their tent, the family is enjoying a barbecue with their fellow campers when a cry is heard. Lindy r...   \n",
       "\n",
       "           movie_name  \\\n",
       "0          Taxi Blues   \n",
       "1    The Hunger Games   \n",
       "2          Narasimham   \n",
       "3  The Lemon Drop Kid   \n",
       "4   A Cry in the Dark   \n",
       "\n",
       "                                                                                                                                          genre  \\\n",
       "0                                                                                          {\"/m/07s9rl0\": \"Drama\", \"/m/03q4nz\": \"World cinema\"}   \n",
       "1                              {\"/m/03btsm8\": \"Action/Adventure\", \"/m/06n90\": \"Science Fiction\", \"/m/02kdv5l\": \"Action\", \"/m/07s9rl0\": \"Drama\"}   \n",
       "2                                               {\"/m/04t36\": \"Musical\", \"/m/02kdv5l\": \"Action\", \"/m/07s9rl0\": \"Drama\", \"/m/01chg\": \"Bollywood\"}   \n",
       "3                                                                                        {\"/m/06qm3\": \"Screwball comedy\", \"/m/01z4y\": \"Comedy\"}   \n",
       "4  {\"/m/0lsxr\": \"Crime Fiction\", \"/m/07s9rl0\": \"Drama\", \"/m/01f9r0\": \"Docudrama\", \"/m/03q4nz\": \"World cinema\", \"/m/05bh16v\": \"Courtroom Drama\"}   \n",
       "\n",
       "                                                          genre_new  \\\n",
       "0                                             [Drama, World cinema]   \n",
       "1                [Action/Adventure, Science Fiction, Action, Drama]   \n",
       "2                               [Musical, Action, Drama, Bollywood]   \n",
       "3                                        [Screwball comedy, Comedy]   \n",
       "4  [Crime Fiction, Drama, Docudrama, World cinema, Courtroom Drama]   \n",
       "\n",
       "                                         chosen_genre  \n",
       "0                               [Drama, World cinema]  \n",
       "1  [Drama, Action, Action/Adventure, Science Fiction]  \n",
       "2                 [Musical, Drama, Action, Bollywood]  \n",
       "3                                            [Comedy]  \n",
       "4                [Crime Fiction, Drama, World cinema]  "
      ]
     },
     "execution_count": 13,
     "metadata": {},
     "output_type": "execute_result"
    }
   ],
   "source": [
    "selected_genre = list(g['Genre'])\n",
    "\n",
    "# an empty list\n",
    "tmp_genres = [] \n",
    "\n",
    "# extract genres\n",
    "for i in movies['genre_new']: \n",
    "  tmp_genres.append(list(set(i).intersection(set(selected_genre)))) \n",
    "\n",
    "# add to 'movies' dataframe  \n",
    "movies['chosen_genre'] = tmp_genres\n",
    "\n",
    "movies.head()"
   ]
  },
  {
   "cell_type": "markdown",
   "metadata": {},
   "source": [
    "# T2. Drop rows that don't have any top-50 genres\n",
    "\n",
    "We dropped the genres which are not in the top 50 list. So some movies now don't belong to any of these genres. We need to drop these movies. "
   ]
  },
  {
   "cell_type": "code",
   "execution_count": 14,
   "metadata": {},
   "outputs": [
    {
     "data": {
      "text/plain": [
       "((41398, 6), (42204, 6))"
      ]
     },
     "execution_count": 14,
     "metadata": {},
     "output_type": "execute_result"
    }
   ],
   "source": [
    "# remove samples with 0 genre tags\n",
    "'''movies_t50 = movies_new[~(movies_new['chosen_genre'].str.len()==0)]\n",
    "movies_t50.shape, movies_new.shape'''\n",
    "\n",
    "movies_new = movies[~(movies['chosen_genre'].str.len()==0)]\n",
    "movies_new.shape, movies.shape"
   ]
  },
  {
   "cell_type": "markdown",
   "metadata": {},
   "source": [
    "# T3. Clean the movie plot\n",
    "\n",
    "This function drops the unnecessary characters from the movie plots. We will learn about regular expression later in this course. Use this function as a black box. \n"
   ]
  },
  {
   "cell_type": "code",
   "execution_count": 15,
   "metadata": {},
   "outputs": [],
   "source": [
    "# function for text cleaning \n",
    "def clean_text(text):\n",
    "    # remove backslash-apostrophe \n",
    "    text = re.sub(\"\\'\", \"\", text) \n",
    "    # remove everything except alphabets \n",
    "    text = re.sub(\"[^a-zA-Z]\",\" \",text) \n",
    "    # remove whitespaces \n",
    "    text = ' '.join(text.split()) \n",
    "    # convert text to lowercase \n",
    "    text = text.lower() \n",
    "    \n",
    "    return text"
   ]
  },
  {
   "cell_type": "markdown",
   "metadata": {},
   "source": [
    "Now, apply `clean_text` funciton in the dataframe to clean the plots."
   ]
  },
  {
   "cell_type": "code",
   "execution_count": 16,
   "metadata": {},
   "outputs": [
    {
     "name": "stderr",
     "output_type": "stream",
     "text": [
      "/opt/conda/lib/python3.7/site-packages/ipykernel_launcher.py:1: SettingWithCopyWarning: \n",
      "A value is trying to be set on a copy of a slice from a DataFrame.\n",
      "Try using .loc[row_indexer,col_indexer] = value instead\n",
      "\n",
      "See the caveats in the documentation: https://pandas.pydata.org/pandas-docs/stable/user_guide/indexing.html#returning-a-view-versus-a-copy\n",
      "  \"\"\"Entry point for launching an IPython kernel.\n"
     ]
    }
   ],
   "source": [
    "\n",
    "movies_new['clean_plot'] = movies_new['plot'].apply(lambda x: clean_text(x))"
   ]
  },
  {
   "cell_type": "markdown",
   "metadata": {},
   "source": [
    "# Check the clean plots now."
   ]
  },
  {
   "cell_type": "code",
   "execution_count": 17,
   "metadata": {},
   "outputs": [
    {
     "data": {
      "text/html": [
       "<div>\n",
       "<style scoped>\n",
       "    .dataframe tbody tr th:only-of-type {\n",
       "        vertical-align: middle;\n",
       "    }\n",
       "\n",
       "    .dataframe tbody tr th {\n",
       "        vertical-align: top;\n",
       "    }\n",
       "\n",
       "    .dataframe thead th {\n",
       "        text-align: right;\n",
       "    }\n",
       "</style>\n",
       "<table border=\"1\" class=\"dataframe\">\n",
       "  <thead>\n",
       "    <tr style=\"text-align: right;\">\n",
       "      <th></th>\n",
       "      <th>movie_id</th>\n",
       "      <th>plot</th>\n",
       "      <th>movie_name</th>\n",
       "      <th>genre</th>\n",
       "      <th>genre_new</th>\n",
       "      <th>chosen_genre</th>\n",
       "      <th>clean_plot</th>\n",
       "    </tr>\n",
       "  </thead>\n",
       "  <tbody>\n",
       "    <tr>\n",
       "      <th>0</th>\n",
       "      <td>23890098</td>\n",
       "      <td>Shlykov, a hard-working taxi driver and Lyosha, a saxophonist, develop a bizarre love-hate relationship, and despite their prejudices, realize they aren't so different after all.</td>\n",
       "      <td>Taxi Blues</td>\n",
       "      <td>{\"/m/07s9rl0\": \"Drama\", \"/m/03q4nz\": \"World cinema\"}</td>\n",
       "      <td>[Drama, World cinema]</td>\n",
       "      <td>[Drama, World cinema]</td>\n",
       "      <td>shlykov a hard working taxi driver and lyosha a saxophonist develop a bizarre love hate relationship and despite their prejudices realize they arent so different after all</td>\n",
       "    </tr>\n",
       "    <tr>\n",
       "      <th>1</th>\n",
       "      <td>31186339</td>\n",
       "      <td>The nation of Panem consists of a wealthy Capitol and twelve poorer districts. As punishment for a past rebellion, each district must provide a boy and girl  between the ages of 12 and 18 selected by lottery  for the annual Hunger Games. The tributes must fight to the death in an arena; the sole...</td>\n",
       "      <td>The Hunger Games</td>\n",
       "      <td>{\"/m/03btsm8\": \"Action/Adventure\", \"/m/06n90\": \"Science Fiction\", \"/m/02kdv5l\": \"Action\", \"/m/07s9rl0\": \"Drama\"}</td>\n",
       "      <td>[Action/Adventure, Science Fiction, Action, Drama]</td>\n",
       "      <td>[Drama, Action, Action/Adventure, Science Fiction]</td>\n",
       "      <td>the nation of panem consists of a wealthy capitol and twelve poorer districts as punishment for a past rebellion each district must provide a boy and girl between the ages of and selected by lottery for the annual hunger games the tributes must fight to the death in an arena the sole survivor is...</td>\n",
       "    </tr>\n",
       "    <tr>\n",
       "      <th>2</th>\n",
       "      <td>20663735</td>\n",
       "      <td>Poovalli Induchoodan  is sentenced for six years prison life for murdering his classmate. Induchoodan, the only son of Justice Maranchery Karunakara Menon  was framed in the case by Manapally Madhavan Nambiar  and his crony DYSP Sankaranarayanan  to take revenge on idealist judge Menon who had e...</td>\n",
       "      <td>Narasimham</td>\n",
       "      <td>{\"/m/04t36\": \"Musical\", \"/m/02kdv5l\": \"Action\", \"/m/07s9rl0\": \"Drama\", \"/m/01chg\": \"Bollywood\"}</td>\n",
       "      <td>[Musical, Action, Drama, Bollywood]</td>\n",
       "      <td>[Musical, Drama, Action, Bollywood]</td>\n",
       "      <td>poovalli induchoodan is sentenced for six years prison life for murdering his classmate induchoodan the only son of justice maranchery karunakara menon was framed in the case by manapally madhavan nambiar and his crony dysp sankaranarayanan to take revenge on idealist judge menon who had earlier...</td>\n",
       "    </tr>\n",
       "    <tr>\n",
       "      <th>3</th>\n",
       "      <td>2231378</td>\n",
       "      <td>The Lemon Drop Kid , a New York City swindler, is illegally touting horses at a Florida racetrack. After several successful hustles, the Kid comes across a beautiful, but gullible, woman intending to bet a lot of money. The Kid convinces her to switch her bet, employing a prefabricated con. Unfo...</td>\n",
       "      <td>The Lemon Drop Kid</td>\n",
       "      <td>{\"/m/06qm3\": \"Screwball comedy\", \"/m/01z4y\": \"Comedy\"}</td>\n",
       "      <td>[Screwball comedy, Comedy]</td>\n",
       "      <td>[Comedy]</td>\n",
       "      <td>the lemon drop kid a new york city swindler is illegally touting horses at a florida racetrack after several successful hustles the kid comes across a beautiful but gullible woman intending to bet a lot of money the kid convinces her to switch her bet employing a prefabricated con unfortunately ...</td>\n",
       "    </tr>\n",
       "    <tr>\n",
       "      <th>4</th>\n",
       "      <td>595909</td>\n",
       "      <td>Seventh-day Adventist Church pastor Michael Chamberlain, his wife Lindy, their two sons, and their nine-week-old daughter Azaria are on a camping holiday in the Outback. With the baby sleeping in their tent, the family is enjoying a barbecue with their fellow campers when a cry is heard. Lindy r...</td>\n",
       "      <td>A Cry in the Dark</td>\n",
       "      <td>{\"/m/0lsxr\": \"Crime Fiction\", \"/m/07s9rl0\": \"Drama\", \"/m/01f9r0\": \"Docudrama\", \"/m/03q4nz\": \"World cinema\", \"/m/05bh16v\": \"Courtroom Drama\"}</td>\n",
       "      <td>[Crime Fiction, Drama, Docudrama, World cinema, Courtroom Drama]</td>\n",
       "      <td>[Crime Fiction, Drama, World cinema]</td>\n",
       "      <td>seventh day adventist church pastor michael chamberlain his wife lindy their two sons and their nine week old daughter azaria are on a camping holiday in the outback with the baby sleeping in their tent the family is enjoying a barbecue with their fellow campers when a cry is heard lindy returns...</td>\n",
       "    </tr>\n",
       "  </tbody>\n",
       "</table>\n",
       "</div>"
      ],
      "text/plain": [
       "   movie_id  \\\n",
       "0  23890098   \n",
       "1  31186339   \n",
       "2  20663735   \n",
       "3   2231378   \n",
       "4    595909   \n",
       "\n",
       "                                                                                                                                                                                                                                                                                                          plot  \\\n",
       "0                                                                                                                           Shlykov, a hard-working taxi driver and Lyosha, a saxophonist, develop a bizarre love-hate relationship, and despite their prejudices, realize they aren't so different after all.   \n",
       "1  The nation of Panem consists of a wealthy Capitol and twelve poorer districts. As punishment for a past rebellion, each district must provide a boy and girl  between the ages of 12 and 18 selected by lottery  for the annual Hunger Games. The tributes must fight to the death in an arena; the sole...   \n",
       "2  Poovalli Induchoodan  is sentenced for six years prison life for murdering his classmate. Induchoodan, the only son of Justice Maranchery Karunakara Menon  was framed in the case by Manapally Madhavan Nambiar  and his crony DYSP Sankaranarayanan  to take revenge on idealist judge Menon who had e...   \n",
       "3  The Lemon Drop Kid , a New York City swindler, is illegally touting horses at a Florida racetrack. After several successful hustles, the Kid comes across a beautiful, but gullible, woman intending to bet a lot of money. The Kid convinces her to switch her bet, employing a prefabricated con. Unfo...   \n",
       "4  Seventh-day Adventist Church pastor Michael Chamberlain, his wife Lindy, their two sons, and their nine-week-old daughter Azaria are on a camping holiday in the Outback. With the baby sleeping in their tent, the family is enjoying a barbecue with their fellow campers when a cry is heard. Lindy r...   \n",
       "\n",
       "           movie_name  \\\n",
       "0          Taxi Blues   \n",
       "1    The Hunger Games   \n",
       "2          Narasimham   \n",
       "3  The Lemon Drop Kid   \n",
       "4   A Cry in the Dark   \n",
       "\n",
       "                                                                                                                                          genre  \\\n",
       "0                                                                                          {\"/m/07s9rl0\": \"Drama\", \"/m/03q4nz\": \"World cinema\"}   \n",
       "1                              {\"/m/03btsm8\": \"Action/Adventure\", \"/m/06n90\": \"Science Fiction\", \"/m/02kdv5l\": \"Action\", \"/m/07s9rl0\": \"Drama\"}   \n",
       "2                                               {\"/m/04t36\": \"Musical\", \"/m/02kdv5l\": \"Action\", \"/m/07s9rl0\": \"Drama\", \"/m/01chg\": \"Bollywood\"}   \n",
       "3                                                                                        {\"/m/06qm3\": \"Screwball comedy\", \"/m/01z4y\": \"Comedy\"}   \n",
       "4  {\"/m/0lsxr\": \"Crime Fiction\", \"/m/07s9rl0\": \"Drama\", \"/m/01f9r0\": \"Docudrama\", \"/m/03q4nz\": \"World cinema\", \"/m/05bh16v\": \"Courtroom Drama\"}   \n",
       "\n",
       "                                                          genre_new  \\\n",
       "0                                             [Drama, World cinema]   \n",
       "1                [Action/Adventure, Science Fiction, Action, Drama]   \n",
       "2                               [Musical, Action, Drama, Bollywood]   \n",
       "3                                        [Screwball comedy, Comedy]   \n",
       "4  [Crime Fiction, Drama, Docudrama, World cinema, Courtroom Drama]   \n",
       "\n",
       "                                         chosen_genre  \\\n",
       "0                               [Drama, World cinema]   \n",
       "1  [Drama, Action, Action/Adventure, Science Fiction]   \n",
       "2                 [Musical, Drama, Action, Bollywood]   \n",
       "3                                            [Comedy]   \n",
       "4                [Crime Fiction, Drama, World cinema]   \n",
       "\n",
       "                                                                                                                                                                                                                                                                                                    clean_plot  \n",
       "0                                                                                                                                  shlykov a hard working taxi driver and lyosha a saxophonist develop a bizarre love hate relationship and despite their prejudices realize they arent so different after all  \n",
       "1  the nation of panem consists of a wealthy capitol and twelve poorer districts as punishment for a past rebellion each district must provide a boy and girl between the ages of and selected by lottery for the annual hunger games the tributes must fight to the death in an arena the sole survivor is...  \n",
       "2  poovalli induchoodan is sentenced for six years prison life for murdering his classmate induchoodan the only son of justice maranchery karunakara menon was framed in the case by manapally madhavan nambiar and his crony dysp sankaranarayanan to take revenge on idealist judge menon who had earlier...  \n",
       "3  the lemon drop kid a new york city swindler is illegally touting horses at a florida racetrack after several successful hustles the kid comes across a beautiful but gullible woman intending to bet a lot of money the kid convinces her to switch her bet employing a prefabricated con unfortunately ...  \n",
       "4  seventh day adventist church pastor michael chamberlain his wife lindy their two sons and their nine week old daughter azaria are on a camping holiday in the outback with the baby sleeping in their tent the family is enjoying a barbecue with their fellow campers when a cry is heard lindy returns...  "
      ]
     },
     "execution_count": 17,
     "metadata": {},
     "output_type": "execute_result"
    }
   ],
   "source": [
    "movies_new.head()"
   ]
  },
  {
   "cell_type": "markdown",
   "metadata": {},
   "source": [
    "# Plot a frequency distribution of words in all the plots and identify the most frequent words. "
   ]
  },
  {
   "cell_type": "code",
   "execution_count": 18,
   "metadata": {},
   "outputs": [
    {
     "data": {
      "image/png": "[encoded data removed]",
      "text/plain": [
       "<Figure size 864x1080 with 1 Axes>"
      ]
     },
     "metadata": {
      "needs_background": "light"
     },
     "output_type": "display_data"
    }
   ],
   "source": [
    "\n",
    "def freq_words(x, terms = 30): \n",
    "  all_words = ' '.join([text for text in x]) \n",
    "  all_words = all_words.split() \n",
    "  fdist = nltk.FreqDist(all_words) \n",
    "  words_df = pd.DataFrame({'word':list(fdist.keys()), 'count':list(fdist.values())}) \n",
    "  \n",
    "  # selecting top 20 most frequent words \n",
    "  d = words_df.nlargest(columns=\"count\", n = terms) \n",
    "  \n",
    "  # visualize words and frequencies\n",
    "  plt.figure(figsize=(12,15)) \n",
    "  ax = sns.barplot(data=d, x= \"count\", y = \"word\") \n",
    "  ax.set(ylabel = 'Word') \n",
    "  plt.show()\n",
    "  \n",
    "# print 100 most frequent words \n",
    "freq_words(movies_new['clean_plot'], 100)"
   ]
  },
  {
   "cell_type": "markdown",
   "metadata": {},
   "source": [
    "All the top words are the stopwords, which won't help in predicting the movie tags. So we need to drop them. A python package named `nltk` has a stop words remover. We will use that to drop all the stopwords from the plots."
   ]
  },
  {
   "cell_type": "markdown",
   "metadata": {},
   "source": [
    "# Remove stop words\n",
    "\n",
    "Most of the frequent words are stop words. We will download the list of stop words from `nltk` library and remove them from plots. "
   ]
  },
  {
   "cell_type": "code",
   "execution_count": 19,
   "metadata": {},
   "outputs": [
    {
     "name": "stderr",
     "output_type": "stream",
     "text": [
      "[nltk_data] Downloading package stopwords to /home/jch5x8/nltk_data...\n",
      "[nltk_data]   Package stopwords is already up-to-date!\n",
      "/opt/conda/lib/python3.7/site-packages/ipykernel_launcher.py:12: SettingWithCopyWarning: \n",
      "A value is trying to be set on a copy of a slice from a DataFrame.\n",
      "Try using .loc[row_indexer,col_indexer] = value instead\n",
      "\n",
      "See the caveats in the documentation: https://pandas.pydata.org/pandas-docs/stable/user_guide/indexing.html#returning-a-view-versus-a-copy\n",
      "  if sys.path[0] == '':\n"
     ]
    }
   ],
   "source": [
    "# download stopwords\n",
    "nltk.download('stopwords')\n",
    "\n",
    "from nltk.corpus import stopwords\n",
    "stop_words = set(stopwords.words('english'))\n",
    "\n",
    "# function to remove stopwords\n",
    "def remove_stopwords(text):\n",
    "    no_stopword_text = [w for w in text.split() if not w in stop_words]\n",
    "    return ' '.join(no_stopword_text)\n",
    "\n",
    "movies_new['clean_plot'] = movies_new['clean_plot'].apply(lambda x: remove_stopwords(x))"
   ]
  },
  {
   "cell_type": "markdown",
   "metadata": {},
   "source": [
    "# Inspect the plots after removing the stopwords."
   ]
  },
  {
   "cell_type": "code",
   "execution_count": 20,
   "metadata": {},
   "outputs": [
    {
     "data": {
      "text/html": [
       "<div>\n",
       "<style scoped>\n",
       "    .dataframe tbody tr th:only-of-type {\n",
       "        vertical-align: middle;\n",
       "    }\n",
       "\n",
       "    .dataframe tbody tr th {\n",
       "        vertical-align: top;\n",
       "    }\n",
       "\n",
       "    .dataframe thead th {\n",
       "        text-align: right;\n",
       "    }\n",
       "</style>\n",
       "<table border=\"1\" class=\"dataframe\">\n",
       "  <thead>\n",
       "    <tr style=\"text-align: right;\">\n",
       "      <th></th>\n",
       "      <th>movie_id</th>\n",
       "      <th>plot</th>\n",
       "      <th>movie_name</th>\n",
       "      <th>genre</th>\n",
       "      <th>genre_new</th>\n",
       "      <th>chosen_genre</th>\n",
       "      <th>clean_plot</th>\n",
       "    </tr>\n",
       "  </thead>\n",
       "  <tbody>\n",
       "    <tr>\n",
       "      <th>0</th>\n",
       "      <td>23890098</td>\n",
       "      <td>Shlykov, a hard-working taxi driver and Lyosha, a saxophonist, develop a bizarre love-hate relationship, and despite their prejudices, realize they aren't so different after all.</td>\n",
       "      <td>Taxi Blues</td>\n",
       "      <td>{\"/m/07s9rl0\": \"Drama\", \"/m/03q4nz\": \"World cinema\"}</td>\n",
       "      <td>[Drama, World cinema]</td>\n",
       "      <td>[Drama, World cinema]</td>\n",
       "      <td>shlykov hard working taxi driver lyosha saxophonist develop bizarre love hate relationship despite prejudices realize arent different</td>\n",
       "    </tr>\n",
       "    <tr>\n",
       "      <th>1</th>\n",
       "      <td>31186339</td>\n",
       "      <td>The nation of Panem consists of a wealthy Capitol and twelve poorer districts. As punishment for a past rebellion, each district must provide a boy and girl  between the ages of 12 and 18 selected by lottery  for the annual Hunger Games. The tributes must fight to the death in an arena; the sole...</td>\n",
       "      <td>The Hunger Games</td>\n",
       "      <td>{\"/m/03btsm8\": \"Action/Adventure\", \"/m/06n90\": \"Science Fiction\", \"/m/02kdv5l\": \"Action\", \"/m/07s9rl0\": \"Drama\"}</td>\n",
       "      <td>[Action/Adventure, Science Fiction, Action, Drama]</td>\n",
       "      <td>[Drama, Action, Action/Adventure, Science Fiction]</td>\n",
       "      <td>nation panem consists wealthy capitol twelve poorer districts punishment past rebellion district must provide boy girl ages selected lottery annual hunger games tributes must fight death arena sole survivor rewarded fame wealth first reaping year old primrose everdeen chosen district older siste...</td>\n",
       "    </tr>\n",
       "    <tr>\n",
       "      <th>2</th>\n",
       "      <td>20663735</td>\n",
       "      <td>Poovalli Induchoodan  is sentenced for six years prison life for murdering his classmate. Induchoodan, the only son of Justice Maranchery Karunakara Menon  was framed in the case by Manapally Madhavan Nambiar  and his crony DYSP Sankaranarayanan  to take revenge on idealist judge Menon who had e...</td>\n",
       "      <td>Narasimham</td>\n",
       "      <td>{\"/m/04t36\": \"Musical\", \"/m/02kdv5l\": \"Action\", \"/m/07s9rl0\": \"Drama\", \"/m/01chg\": \"Bollywood\"}</td>\n",
       "      <td>[Musical, Action, Drama, Bollywood]</td>\n",
       "      <td>[Musical, Drama, Action, Bollywood]</td>\n",
       "      <td>poovalli induchoodan sentenced six years prison life murdering classmate induchoodan son justice maranchery karunakara menon framed case manapally madhavan nambiar crony dysp sankaranarayanan take revenge idealist judge menon earlier given jail sentence manapally corruption case induchoodan achi...</td>\n",
       "    </tr>\n",
       "    <tr>\n",
       "      <th>3</th>\n",
       "      <td>2231378</td>\n",
       "      <td>The Lemon Drop Kid , a New York City swindler, is illegally touting horses at a Florida racetrack. After several successful hustles, the Kid comes across a beautiful, but gullible, woman intending to bet a lot of money. The Kid convinces her to switch her bet, employing a prefabricated con. Unfo...</td>\n",
       "      <td>The Lemon Drop Kid</td>\n",
       "      <td>{\"/m/06qm3\": \"Screwball comedy\", \"/m/01z4y\": \"Comedy\"}</td>\n",
       "      <td>[Screwball comedy, Comedy]</td>\n",
       "      <td>[Comedy]</td>\n",
       "      <td>lemon drop kid new york city swindler illegally touting horses florida racetrack several successful hustles kid comes across beautiful gullible woman intending bet lot money kid convinces switch bet employing prefabricated con unfortunately kid woman belongs notorious gangster moose moran money ...</td>\n",
       "    </tr>\n",
       "    <tr>\n",
       "      <th>4</th>\n",
       "      <td>595909</td>\n",
       "      <td>Seventh-day Adventist Church pastor Michael Chamberlain, his wife Lindy, their two sons, and their nine-week-old daughter Azaria are on a camping holiday in the Outback. With the baby sleeping in their tent, the family is enjoying a barbecue with their fellow campers when a cry is heard. Lindy r...</td>\n",
       "      <td>A Cry in the Dark</td>\n",
       "      <td>{\"/m/0lsxr\": \"Crime Fiction\", \"/m/07s9rl0\": \"Drama\", \"/m/01f9r0\": \"Docudrama\", \"/m/03q4nz\": \"World cinema\", \"/m/05bh16v\": \"Courtroom Drama\"}</td>\n",
       "      <td>[Crime Fiction, Drama, Docudrama, World cinema, Courtroom Drama]</td>\n",
       "      <td>[Crime Fiction, Drama, World cinema]</td>\n",
       "      <td>seventh day adventist church pastor michael chamberlain wife lindy two sons nine week old daughter azaria camping holiday outback baby sleeping tent family enjoying barbecue fellow campers cry heard lindy returns tent check azaria certain sees dingo something mouth running approaches discovers i...</td>\n",
       "    </tr>\n",
       "  </tbody>\n",
       "</table>\n",
       "</div>"
      ],
      "text/plain": [
       "   movie_id  \\\n",
       "0  23890098   \n",
       "1  31186339   \n",
       "2  20663735   \n",
       "3   2231378   \n",
       "4    595909   \n",
       "\n",
       "                                                                                                                                                                                                                                                                                                          plot  \\\n",
       "0                                                                                                                           Shlykov, a hard-working taxi driver and Lyosha, a saxophonist, develop a bizarre love-hate relationship, and despite their prejudices, realize they aren't so different after all.   \n",
       "1  The nation of Panem consists of a wealthy Capitol and twelve poorer districts. As punishment for a past rebellion, each district must provide a boy and girl  between the ages of 12 and 18 selected by lottery  for the annual Hunger Games. The tributes must fight to the death in an arena; the sole...   \n",
       "2  Poovalli Induchoodan  is sentenced for six years prison life for murdering his classmate. Induchoodan, the only son of Justice Maranchery Karunakara Menon  was framed in the case by Manapally Madhavan Nambiar  and his crony DYSP Sankaranarayanan  to take revenge on idealist judge Menon who had e...   \n",
       "3  The Lemon Drop Kid , a New York City swindler, is illegally touting horses at a Florida racetrack. After several successful hustles, the Kid comes across a beautiful, but gullible, woman intending to bet a lot of money. The Kid convinces her to switch her bet, employing a prefabricated con. Unfo...   \n",
       "4  Seventh-day Adventist Church pastor Michael Chamberlain, his wife Lindy, their two sons, and their nine-week-old daughter Azaria are on a camping holiday in the Outback. With the baby sleeping in their tent, the family is enjoying a barbecue with their fellow campers when a cry is heard. Lindy r...   \n",
       "\n",
       "           movie_name  \\\n",
       "0          Taxi Blues   \n",
       "1    The Hunger Games   \n",
       "2          Narasimham   \n",
       "3  The Lemon Drop Kid   \n",
       "4   A Cry in the Dark   \n",
       "\n",
       "                                                                                                                                          genre  \\\n",
       "0                                                                                          {\"/m/07s9rl0\": \"Drama\", \"/m/03q4nz\": \"World cinema\"}   \n",
       "1                              {\"/m/03btsm8\": \"Action/Adventure\", \"/m/06n90\": \"Science Fiction\", \"/m/02kdv5l\": \"Action\", \"/m/07s9rl0\": \"Drama\"}   \n",
       "2                                               {\"/m/04t36\": \"Musical\", \"/m/02kdv5l\": \"Action\", \"/m/07s9rl0\": \"Drama\", \"/m/01chg\": \"Bollywood\"}   \n",
       "3                                                                                        {\"/m/06qm3\": \"Screwball comedy\", \"/m/01z4y\": \"Comedy\"}   \n",
       "4  {\"/m/0lsxr\": \"Crime Fiction\", \"/m/07s9rl0\": \"Drama\", \"/m/01f9r0\": \"Docudrama\", \"/m/03q4nz\": \"World cinema\", \"/m/05bh16v\": \"Courtroom Drama\"}   \n",
       "\n",
       "                                                          genre_new  \\\n",
       "0                                             [Drama, World cinema]   \n",
       "1                [Action/Adventure, Science Fiction, Action, Drama]   \n",
       "2                               [Musical, Action, Drama, Bollywood]   \n",
       "3                                        [Screwball comedy, Comedy]   \n",
       "4  [Crime Fiction, Drama, Docudrama, World cinema, Courtroom Drama]   \n",
       "\n",
       "                                         chosen_genre  \\\n",
       "0                               [Drama, World cinema]   \n",
       "1  [Drama, Action, Action/Adventure, Science Fiction]   \n",
       "2                 [Musical, Drama, Action, Bollywood]   \n",
       "3                                            [Comedy]   \n",
       "4                [Crime Fiction, Drama, World cinema]   \n",
       "\n",
       "                                                                                                                                                                                                                                                                                                    clean_plot  \n",
       "0                                                                                                                                                                        shlykov hard working taxi driver lyosha saxophonist develop bizarre love hate relationship despite prejudices realize arent different  \n",
       "1  nation panem consists wealthy capitol twelve poorer districts punishment past rebellion district must provide boy girl ages selected lottery annual hunger games tributes must fight death arena sole survivor rewarded fame wealth first reaping year old primrose everdeen chosen district older siste...  \n",
       "2  poovalli induchoodan sentenced six years prison life murdering classmate induchoodan son justice maranchery karunakara menon framed case manapally madhavan nambiar crony dysp sankaranarayanan take revenge idealist judge menon earlier given jail sentence manapally corruption case induchoodan achi...  \n",
       "3  lemon drop kid new york city swindler illegally touting horses florida racetrack several successful hustles kid comes across beautiful gullible woman intending bet lot money kid convinces switch bet employing prefabricated con unfortunately kid woman belongs notorious gangster moose moran money ...  \n",
       "4  seventh day adventist church pastor michael chamberlain wife lindy two sons nine week old daughter azaria camping holiday outback baby sleeping tent family enjoying barbecue fellow campers cry heard lindy returns tent check azaria certain sees dingo something mouth running approaches discovers i...  "
      ]
     },
     "execution_count": 20,
     "metadata": {},
     "output_type": "execute_result"
    }
   ],
   "source": [
    "movies_new.head()"
   ]
  },
  {
   "cell_type": "markdown",
   "metadata": {},
   "source": [
    "# Encoding target variables\n",
    "\n",
    "We cannot use the text tags as targets directly in the model. We are required to convert the targets to multi-binary features. As we now have only 50 tags/genres, the number of target variables is 50. There is a 50-length output vector for each movie, where all the values will be zero except the corresponding movie tag position. "
   ]
  },
  {
   "cell_type": "code",
   "execution_count": 21,
   "metadata": {},
   "outputs": [],
   "source": [
    "from sklearn.preprocessing import MultiLabelBinarizer\n",
    "\n",
    "multilabel_binarizer = MultiLabelBinarizer()\n",
    "multilabel_binarizer.fit(movies_new['chosen_genre'])\n",
    "\n",
    "# transform target variable\n",
    "y = multilabel_binarizer.transform(movies_new['chosen_genre'])"
   ]
  },
  {
   "cell_type": "code",
   "execution_count": 22,
   "metadata": {},
   "outputs": [
    {
     "data": {
      "text/plain": [
       "(41398, 50)"
      ]
     },
     "execution_count": 22,
     "metadata": {},
     "output_type": "execute_result"
    }
   ],
   "source": [
    "y.shape"
   ]
  },
  {
   "cell_type": "markdown",
   "metadata": {},
   "source": [
    "# Convert text to feature vector\n",
    "\n",
    "We can't train the model directly from the text. We need to convert it to a numeric vector feature. To convert the text to a feature vector, we will use sklearn's `TfidfVectorizer`. This method converts a text data to a numeric vector.  "
   ]
  },
  {
   "cell_type": "code",
   "execution_count": 30,
   "metadata": {},
   "outputs": [],
   "source": [
    "'''\n",
    "Store a term-frequency inverse-document-frequency vectorizer,\n",
    "that ignores top 20% of words & produces a vector of\n",
    "100-digits in length, in the \"tfidf_vectorizer\" var.\n",
    "Will produce an x of 100 dimensions(max_features=100) and a y of 50 dimensions(number of genres)\n",
    "'''\n",
    "tfidf_vectorizer = TfidfVectorizer(max_df=0.8, max_features=100)\n"
   ]
  },
  {
   "cell_type": "markdown",
   "metadata": {},
   "source": [
    "# T4. Create train (80%) and test (20%) split"
   ]
  },
  {
   "cell_type": "code",
   "execution_count": 24,
   "metadata": {},
   "outputs": [],
   "source": [
    "# x is list of cleaned plots from movies_new, y is the chosen_genre in the binarized vector form\n",
    "xtrain, xval, ytrain, yval = train_test_split(movies_new['clean_plot'], y, test_size = 0.2, random_state = 17)\n",
    "\n",
    "# create TF-IDF features\n",
    "# fit_transform learns vocab in plots to get 100 best numerical measurements of that vocab\n",
    "xtrain_tfidf = tfidf_vectorizer.fit_transform(xtrain)  # turn text in xtrain into 100-digit binary representation\n",
    "xval_tfidf = tfidf_vectorizer.transform(xval)  # turn text in xval into 100-digit binary representation"
   ]
  },
  {
   "cell_type": "markdown",
   "metadata": {},
   "source": [
    "# T5. Multi-label Model Training\n",
    "\n",
    "As we have multiple outputs (i.e., genres) for each movie, we will be using `MultiOutputClassifier` as it can learn multiple targets simultaneously. Internally it learns a model (aka base model) for every target. Let's use a decision tree classifier as a base model."
   ]
  },
  {
   "cell_type": "code",
   "execution_count": 26,
   "metadata": {},
   "outputs": [],
   "source": [
    "from sklearn.multioutput import MultiOutputClassifier\n",
    "from sklearn.tree import DecisionTreeClassifier\n",
    "\n",
    "# Instantiate DecisionTreeClassifier w/ barest functionality, wrapped by MultiOutputClassifier all fit to training data\n",
    "clf = MultiOutputClassifier(DecisionTreeClassifier()).fit(xtrain_tfidf, ytrain)\n",
    "# Predict y based on x validation data\n",
    "y_pred = clf.predict(xval_tfidf)"
   ]
  },
  {
   "cell_type": "markdown",
   "metadata": {},
   "source": [
    "# T6. Measure Accuracy"
   ]
  },
  {
   "cell_type": "code",
   "execution_count": 27,
   "metadata": {},
   "outputs": [
    {
     "name": "stdout",
     "output_type": "stream",
     "text": [
      "Acc: 0.9\n"
     ]
    }
   ],
   "source": [
    "acc = np.sum(y_pred == yval) / (yval.shape[0] * yval.shape[1])\n",
    "print(f\"Acc: {acc:.2}\")"
   ]
  },
  {
   "cell_type": "markdown",
   "metadata": {},
   "source": [
    "# T7. Qualitative evaluation: radnomly pick 10 plots, show their text, true genres, and predicted genres."
   ]
  },
  {
   "cell_type": "code",
   "execution_count": 28,
   "metadata": {},
   "outputs": [
    {
     "name": "stdout",
     "output_type": "stream",
     "text": [
      "Movie: Live Wire \n",
      "Predicted genre: [('Action', 'Black comedy')]\n",
      "Actual genre: ['Thriller', 'Action/Adventure', 'Action', 'Drama'] \n",
      "\n",
      "Movie: Guru \n",
      "Predicted genre: [('Action/Adventure', 'Adventure', 'Animation')]\n",
      "Actual genre: ['Drama', 'Fantasy'] \n",
      "\n",
      "Movie: Rope and Breasts \n",
      "Predicted genre: [('Comedy',)]\n",
      "Actual genre: ['Japanese Movies', 'Erotica', 'Pornographic movie'] \n",
      "\n",
      "Movie: Young Adam \n",
      "Predicted genre: [('Black-and-white', 'Comedy', 'Science Fiction', 'World cinema')]\n",
      "Actual genre: ['Crime Fiction', 'Thriller', 'Erotic Drama', 'Mystery', 'Period piece', 'Drama', 'Film adaptation', 'Crime Thriller'] \n",
      "\n",
      "Movie: Rickshaw Boy \n",
      "Predicted genre: [('Comedy', 'Drama', 'Romance Film', 'Thriller')]\n",
      "Actual genre: ['Drama'] \n",
      "\n",
      "Movie: Mimino \n",
      "Predicted genre: [('LGBT', 'Television movie')]\n",
      "Actual genre: ['Comedy of manners', 'Comedy', 'World cinema'] \n",
      "\n",
      "Movie: The Devil's Chair \n",
      "Predicted genre: [('Adventure', 'Parody', 'Supernatural', 'Thriller')]\n",
      "Actual genre: ['Sci-Fi Horror', 'Horror', 'Psychological thriller', 'Slasher'] \n",
      "\n",
      "Movie: Ultime Grida dalla Savana \n",
      "Predicted genre: [('Action', 'Action/Adventure', 'Thriller', 'War film')]\n",
      "Actual genre: ['Horror', 'Mondo film', 'Documentary'] \n",
      "\n",
      "Movie: Game 6 \n",
      "Predicted genre: [('Fantasy',)]\n",
      "Actual genre: ['Sports', 'Drama', 'Comedy-drama', 'Indie'] \n",
      "\n",
      "Movie: Two Deaths \n",
      "Predicted genre: [('Comedy film', 'Sports')]\n",
      "Actual genre: ['Erotic Drama', 'Erotic thriller', 'Period piece', 'Drama', 'War film', 'Romantic drama', 'Romance Film', 'Political drama'] \n",
      "\n"
     ]
    }
   ],
   "source": [
    "def infer_tags(q):\n",
    "    # Clean text via custom function clean_text() and store in \"q\" var\n",
    "    q = clean_text(q)\n",
    "    # Remove stopwords\n",
    "    q = remove_stopwords(q)\n",
    "    # Turn text into binary vector\n",
    "    q_vec = tfidf_vectorizer.transform([q])\n",
    "    # Predict based on binary vector\n",
    "    q_pred = clf.predict(q_vec)\n",
    "    # Transform predicted binary vector to text and return text to calling function\n",
    "    return multilabel_binarizer.inverse_transform(q_pred)\n",
    "\n",
    "# Randomly pick 10 plots\n",
    "for i in range(10): \n",
    "    # Store random (from validation data) sample's index in \"k\" var\n",
    "    k = xval.sample(1).index[0]\n",
    "    print(\"Movie:\", movies_new['movie_name'][k], \"\\nPredicted genre:\", infer_tags(xval[k])), \n",
    "    print(\"Actual genre:\", movies_new['genre_new'][k], \"\\n\")\n",
    "    "
   ]
  },
  {
   "cell_type": "markdown",
   "metadata": {},
   "source": [
    "# Save your notebook, then `File > Close and Halt`"
   ]
  }
 ],
 "metadata": {
  "kernelspec": {
   "display_name": "Python 3",
   "language": "python",
   "name": "python3"
  },
  "language_info": {
   "codemirror_mode": {
    "name": "ipython",
    "version": 3
   },
   "file_extension": ".py",
   "mimetype": "text/x-python",
   "name": "python",
   "nbconvert_exporter": "python",
   "pygments_lexer": "ipython3",
   "version": "3.7.3"
  }
 },
 "nbformat": 4,
 "nbformat_minor": 5
}
