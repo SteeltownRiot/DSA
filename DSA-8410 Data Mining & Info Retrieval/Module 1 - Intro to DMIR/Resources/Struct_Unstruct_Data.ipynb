{
 "cells": [
  {
   "cell_type": "markdown",
   "metadata": {
    "toc": "true"
   },
   "source": [
    "# Table of Contents\n",
    " <p><div class=\"lev1 toc-item\"><a href=\"#Structured-vs-Unstructured--vs-Semi-Structured-Data\" data-toc-modified-id=\"Structured-vs-Unstructured--vs-Semi-Structured-Data-1\"><span class=\"toc-item-num\">1&nbsp;&nbsp;</span>Structured vs Unstructured  vs Semi-Structured Data</a></div>"
   ]
  },
  {
   "cell_type": "markdown",
   "metadata": {},
   "source": [
    "# Structured vs Unstructured  vs Semi-Structured Data\n",
    "\n",
    "Data comes in verities of types and forms. The following figure shows a typical hierarchical categorization of **data types**. "
   ]
  },
  {
   "cell_type": "markdown",
   "metadata": {},
   "source": [
    "<img src=\"../images/data-types.png\" width=\"600\">"
   ]
  },
  {
   "cell_type": "markdown",
   "metadata": {},
   "source": [
    "From the perspective of **data forms**, data can divided into three categories: a) structured, b) unstructured, and c) semi-structured. \n",
    "\n",
    "**Structured data** is highly organized and easily processed by machine. Structured data tends to refer to information in \"tables\" such as a csv file, a pandas data frame, or a relational table in a relational database. The following 2D table is an example of structured data which allow exact match of text queries.\n",
    "\n",
    "| Employee | Manager | Salary |\n",
    "|----------|---------|--------|\n",
    "| Smith    | Jones   | 50000  |\n",
    "| Chang    | Smith   | 60000  |\n",
    "| Ivy      | Smith   | 50000  |\n"
   ]
  },
  {
   "cell_type": "markdown",
   "metadata": {},
   "source": [
    "**Unstructured data** cannot be easily processed and analyzed by machines and typically refers to free text. This kind of data often categorized as qualitative data. An example of an unstructured data the textual content in a web page, news article, blogs, and microblogs. Although this kind of data doesn't readily allow exact match or quantitative query, they can allow keyword queries as well as can be used to answer the question \"why\"."
   ]
  },
  {
   "cell_type": "markdown",
   "metadata": {},
   "source": [
    "If we closely examine any unstructured data, we might observed some sort of structure. E.g., any web page has a title, texts are organized as paragraphs, and may contain additional information like author, sections headings, links, and other references. If we can impose such structure while retrieving unstructured data, then the data format becomes a **semi-structured**. This kind of data facilitates better search compared to the unstructured one. E.g., a user can search against the title and published date of an web page or news article to filter out relevant documents.   \n"
   ]
  }
 ],
 "metadata": {
  "kernelspec": {
   "display_name": "Python 3",
   "language": "python",
   "name": "python3"
  },
  "language_info": {
   "codemirror_mode": {
    "name": "ipython",
    "version": 3
   },
   "file_extension": ".py",
   "mimetype": "text/x-python",
   "name": "python",
   "nbconvert_exporter": "python",
   "pygments_lexer": "ipython3",
   "version": "3.7.3"
  },
  "latex_envs": {
   "LaTeX_envs_menu_present": true,
   "bibliofile": "biblio.bib",
   "cite_by": "apalike",
   "current_citInitial": 1,
   "eqLabelWithNumbers": true,
   "eqNumInitial": 1,
   "labels_anchors": false,
   "latex_user_defs": false,
   "report_style_numbering": false,
   "user_envs_cfg": false
  },
  "toc": {
   "colors": {
    "hover_highlight": "#DAA520",
    "running_highlight": "#FF0000",
    "selected_highlight": "#FFD700"
   },
   "moveMenuLeft": true,
   "nav_menu": {
    "height": "30.1705px",
    "width": "251.989px"
   },
   "navigate_menu": true,
   "number_sections": true,
   "sideBar": true,
   "threshold": 4,
   "toc_cell": true,
   "toc_section_display": "block",
   "toc_window_display": false
  }
 },
 "nbformat": 4,
 "nbformat_minor": 4
}
