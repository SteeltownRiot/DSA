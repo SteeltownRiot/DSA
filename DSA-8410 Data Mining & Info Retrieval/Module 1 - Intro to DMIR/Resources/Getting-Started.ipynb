{
 "cells": [
  {
   "cell_type": "markdown",
   "metadata": {
    "toc": "true"
   },
   "source": [
    "# Table of Contents\n",
    " <p><div class=\"lev1 toc-item\"><a href=\"#Getting-started-with-a-MUIDSI-course\" data-toc-modified-id=\"Getting-started-with-a-MUIDSI-course-1\"><span class=\"toc-item-num\">1&nbsp;&nbsp;</span>Getting started with a MUIDSI course</a></div><div class=\"lev2 toc-item\"><a href=\"#Lesson-0:-Jupyterhub-Computing-Framework\" data-toc-modified-id=\"Lesson-0:-Jupyterhub-Computing-Framework-11\"><span class=\"toc-item-num\">1.1&nbsp;&nbsp;</span>Lesson 0: Jupyterhub Computing Framework</a></div>"
   ]
  },
  {
   "cell_type": "markdown",
   "metadata": {},
   "source": [
    "# Getting started with a MUIDSI course\n",
    "\n",
    "The following lesson gives an overview of the MUIDSI learning framework.\n",
    "\n",
    "## Lesson 0: Jupyterhub Computing Framework \n",
    " * Reading: [JupyterHub  System](./JupyterHub_Learning.ipynb)     \n",
    " * Reading: [JupyterHub Usage](./JupyterHub_Usage.ipynb)\n",
    "     * Reading: [Some Hints and Tips on Using Jupyter Hub](https://www.dataquest.io/blog/jupyter-notebook-tips-tricks-shortcuts/)\n",
    "     * Reading: [Text formatting in Markdown Cells](https://www.datacamp.com/community/tutorials/markdown-in-jupyter-notebook)\n",
    " * Reading: [Submission of Work](./CommittingWork.ipynb) (This will be helpful when you submit your assignment)\n",
    "\n"
   ]
  }
 ],
 "metadata": {
  "kernelspec": {
   "display_name": "Python 3",
   "language": "python",
   "name": "python3"
  },
  "language_info": {
   "codemirror_mode": {
    "name": "ipython",
    "version": 3
   },
   "file_extension": ".py",
   "mimetype": "text/x-python",
   "name": "python",
   "nbconvert_exporter": "python",
   "pygments_lexer": "ipython3",
   "version": "3.7.3"
  },
  "latex_envs": {
   "LaTeX_envs_menu_present": true,
   "bibliofile": "biblio.bib",
   "cite_by": "apalike",
   "current_citInitial": 1,
   "eqLabelWithNumbers": true,
   "eqNumInitial": 1,
   "labels_anchors": false,
   "latex_user_defs": false,
   "report_style_numbering": false,
   "user_envs_cfg": false
  },
  "toc": {
   "colors": {
    "hover_highlight": "#DAA520",
    "running_highlight": "#FF0000",
    "selected_highlight": "#FFD700"
   },
   "moveMenuLeft": true,
   "nav_menu": {
    "height": "48.3523px",
    "width": "251.989px"
   },
   "navigate_menu": true,
   "number_sections": true,
   "sideBar": true,
   "threshold": 4,
   "toc_cell": true,
   "toc_section_display": "block",
   "toc_window_display": false
  }
 },
 "nbformat": 4,
 "nbformat_minor": 4
}
