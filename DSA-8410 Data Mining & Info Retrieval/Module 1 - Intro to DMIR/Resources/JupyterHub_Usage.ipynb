{
 "cells": [
  {
   "cell_type": "markdown",
   "metadata": {
    "toc": "true"
   },
   "source": [
    "# Table of Contents\n",
    " <p><div class=\"lev1 toc-item\"><a href=\"#JupyterHub-Usage-Instructions\" data-toc-modified-id=\"JupyterHub-Usage-Instructions-1\"><span class=\"toc-item-num\">1&nbsp;&nbsp;</span>JupyterHub Usage Instructions</a></div><div class=\"lev2 toc-item\"><a href=\"#Accessing-JupyterHub\" data-toc-modified-id=\"Accessing-JupyterHub-11\"><span class=\"toc-item-num\">1.1&nbsp;&nbsp;</span>Accessing JupyterHub</a></div><div class=\"lev2 toc-item\"><a href=\"#Running-Code-in-JupyterHub\" data-toc-modified-id=\"Running-Code-in-JupyterHub-12\"><span class=\"toc-item-num\">1.2&nbsp;&nbsp;</span>Running Code in JupyterHub</a></div><div class=\"lev3 toc-item\"><a href=\"#You-try:-Click-in-the-cell-below-and-then-click-the-run-cell-button-(shown-above)\" data-toc-modified-id=\"You-try:-Click-in-the-cell-below-and-then-click-the-run-cell-button-(shown-above)-121\"><span class=\"toc-item-num\">1.2.1&nbsp;&nbsp;</span><span>You try: Click in the cell below and then click the <code>run cell</code> button (shown above)</span></a></div><div class=\"lev3 toc-item\"><a href=\"#You-try:-Click-in-the-cell-below-and-then-simultaneously-press-[SHIFT]-+-[ENTER].\" data-toc-modified-id=\"You-try:-Click-in-the-cell-below-and-then-simultaneously-press-[SHIFT]-+-[ENTER].-122\"><span class=\"toc-item-num\">1.2.2&nbsp;&nbsp;</span><span>You try: Click in the cell below and then simultaneously press [SHIFT] + [ENTER].</span></a></div><div class=\"lev2 toc-item\"><a href=\"#Closing-and-Halting-Notebooks\" data-toc-modified-id=\"Closing-and-Halting-Notebooks-13\"><span class=\"toc-item-num\">1.3&nbsp;&nbsp;</span>Closing and Halting Notebooks</a></div><div class=\"lev1 toc-item\"><a href=\"#Take-the-time-to-take-a-tour-of-JupyterHub\" data-toc-modified-id=\"Take-the-time-to-take-a-tour-of-JupyterHub-2\"><span class=\"toc-item-num\">2&nbsp;&nbsp;</span>Take the time to take a tour of JupyterHub</a></div><div class=\"lev1 toc-item\"><a href=\"#Keyboard-Shortcuts-are-available-as-well\" data-toc-modified-id=\"Keyboard-Shortcuts-are-available-as-well-3\"><span class=\"toc-item-num\">3&nbsp;&nbsp;</span>Keyboard Shortcuts are available as well</a></div><div class=\"lev1 toc-item\"><a href=\"#Opening-a-Terminal-for-Git-commands\" data-toc-modified-id=\"Opening-a-Terminal-for-Git-commands-4\"><span class=\"toc-item-num\">4&nbsp;&nbsp;</span>Opening a Terminal for Git commands</a></div>"
   ]
  },
  {
   "cell_type": "markdown",
   "metadata": {},
   "source": [
    "# JupyterHub Usage Instructions"
   ]
  },
  {
   "cell_type": "markdown",
   "metadata": {},
   "source": [
    "## Accessing JupyterHub\n",
    "\n",
    "Go to the link https://europa.dsa.missouri.edu. Use your pawprint and pass to access the system. "
   ]
  },
  {
   "cell_type": "markdown",
   "metadata": {},
   "source": [
    "## Running Code in JupyterHub"
   ]
  },
  {
   "cell_type": "markdown",
   "metadata": {},
   "source": [
    "JupterHub allows interactive code execution by using 'cells'. These cells can contain code snippets or text to be executed when selected. The active cell is bordered, as shown below.\n",
    "\n",
    "![screen](../images/JH_Running_cells_1.png)\n",
    "\n",
    "### <span style=\"\">You try: Click in the cell below and then click the `run cell` button (shown above)"
   ]
  },
  {
   "cell_type": "code",
   "execution_count": null,
   "metadata": {},
   "outputs": [],
   "source": [
    "print(\"Hello JupyterHub\")"
   ]
  },
  {
   "cell_type": "markdown",
   "metadata": {},
   "source": [
    "**Note:** The `In[ ]` on the left of the cell changed to have a number present and the number respresents the execution sequence number. Then the output was rendered below."
   ]
  },
  {
   "cell_type": "markdown",
   "metadata": {},
   "source": [
    "![screen](../images/JH_Running_cells_2.png)\n",
    "\n",
    "### <span style=\"\">You try: Click in the cell below and then simultaneously press [SHIFT] + [ENTER]."
   ]
  },
  {
   "cell_type": "code",
   "execution_count": null,
   "metadata": {},
   "outputs": [],
   "source": [
    "print(\"Hello JupyterHub, SHIFT + ENTER run me!\")"
   ]
  },
  {
   "cell_type": "markdown",
   "metadata": {},
   "source": [
    "## Closing and Halting Notebooks\n",
    "Notebooks and code cells access the underlying computing resources of the servers hosting them. Hence, properly closing and halting notebooks is a good way to avoid slowing down the system and prevent crashes that could make you lose your work.\n",
    "\n",
    "In order to properly close and halt a notebook, you can click on `File > Close and Halt`, as shown below.\n",
    "\n",
    "![screen](../images/JH_Closing.png)\n",
    "\n",
    "\n",
    "\n",
    "Alternatively, you can click on the `Running` tab from the initial directory view to see all your running notebooks in a list similar to the one shown below. \n",
    "\n",
    "![screen](../images/JH_Shutdown.png)\n",
    "\n",
    "\n",
    "\n",
    "Even though they might not be opened in a browser tab, notebooks can still be running in the background. Clicking on `Shutdown` will halt a notebook in the list.\n",
    "\n",
    "Running large tasks or loading large datasets can sometimes take time, keeping your Python (or R) kernel busy. The circle in the upper corner (kernel indicator), will show whether the kernel is idle or busy like in this screenshot:\n",
    "\n",
    "![screen](../images/JH_Busy_kernel.png)\n",
    "\n",
    "\n",
    "\n",
    "At times you might run into a kernel that stays busy for longer than necessary (again, this depends on the task), which could be a sign of a problem in your code. If you get stuck with a busy kernel, you can interrupt it without shutting down your notebook by selecting `Kernel > Interrupt` or by pressing `'I'` twice (see keyboard shortcuts).\n",
    "\n",
    "Since crashes or busy kernels can happen when dealing with large data, it is important to keep your work up-to-date by constantly saving your notebooks. Selecting `File > Save and Checkpoint` will save your most recent work and create a checkpoint that you can revert to if needed. You can go back to a previously saved checkpoint by selecting it from `File > Revert to Checkpoint`. Just like in the example below, your checkpoints will be listed with the date and time of your last update.\n",
    "\n",
    "![screen](../images/JH_Saving_checkpoints.png)\n"
   ]
  },
  {
   "cell_type": "markdown",
   "metadata": {},
   "source": [
    "# Take the time to take a tour of JupyterHub\n",
    "\n",
    "From the Help menu, select User Interface Tour  \n",
    "\n",
    "![screen](../images/JH_UI_Tour.png)\n",
    "\n"
   ]
  },
  {
   "cell_type": "markdown",
   "metadata": {},
   "source": [
    "# Keyboard Shortcuts are available as well\n",
    "\n",
    "From the Help menu, select Keyboard Shortcuts\n",
    "\n",
    "![screen](../images/JH_Keyboard_Shortcuts.png)"
   ]
  },
  {
   "cell_type": "markdown",
   "metadata": {},
   "source": [
    "# Opening a Terminal for Git commands\n",
    "\n",
    "Graded assignments will need to be uploaded (i.e.: 'pushed up' in git lingo) using git. Selecting `New > Terminal` from the initial file view, like the screenshot below, will launch a new terminal where you can submit your work through git. Just like notebooks, all of your currently running terminals will be listed under the `Running` tab. We will look at how to submit your work through git in more detail during [Day 3](../../Day3/Schedule.ipynb).\n",
    "\n",
    "![terminal](../images/JH_Terminal_Launch.png)"
   ]
  },
  {
   "cell_type": "code",
   "execution_count": null,
   "metadata": {},
   "outputs": [],
   "source": []
  }
 ],
 "metadata": {
  "kernelspec": {
   "display_name": "Python 3",
   "language": "python",
   "name": "python3"
  },
  "language_info": {
   "codemirror_mode": {
    "name": "ipython",
    "version": 3
   },
   "file_extension": ".py",
   "mimetype": "text/x-python",
   "name": "python",
   "nbconvert_exporter": "python",
   "pygments_lexer": "ipython3",
   "version": "3.7.3"
  },
  "latex_envs": {
   "LaTeX_envs_menu_present": true,
   "bibliofile": "biblio.bib",
   "cite_by": "apalike",
   "current_citInitial": 1,
   "eqLabelWithNumbers": true,
   "eqNumInitial": 1,
   "labels_anchors": false,
   "latex_user_defs": false,
   "report_style_numbering": false,
   "user_envs_cfg": false
  },
  "toc": {
   "colors": {
    "hover_highlight": "#DAA520",
    "running_highlight": "#FF0000",
    "selected_highlight": "#FFD700"
   },
   "moveMenuLeft": true,
   "nav_menu": {
    "height": "193.807px",
    "width": "251.989px"
   },
   "navigate_menu": true,
   "number_sections": true,
   "sideBar": true,
   "threshold": 4,
   "toc_cell": true,
   "toc_section_display": "block",
   "toc_window_display": false
  }
 },
 "nbformat": 4,
 "nbformat_minor": 1
}
