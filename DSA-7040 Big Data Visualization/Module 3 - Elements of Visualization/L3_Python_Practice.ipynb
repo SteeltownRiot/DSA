{
 "cells": [
  {
   "cell_type": "markdown",
   "metadata": {},
   "source": [
    "# Module 3 Python Practice \n",
    "\n",
    "**Let's see some equivalents of the R practice activities in Python using plotnine library. The ggplot code is almost the same except some syntax differences for Python.** "
   ]
  },
  {
   "cell_type": "code",
   "execution_count": null,
   "metadata": {},
   "outputs": [],
   "source": [
    "from plotnine import *\n",
    "import pandas as pd"
   ]
  },
  {
   "cell_type": "code",
   "execution_count": null,
   "metadata": {},
   "outputs": [],
   "source": [
    "tips_data =pd.read_csv(\"/dsa/data/all_datasets/tips.txt\")"
   ]
  },
  {
   "cell_type": "code",
   "execution_count": null,
   "metadata": {},
   "outputs": [],
   "source": [
    "tips_data.head()"
   ]
  },
  {
   "cell_type": "markdown",
   "metadata": {},
   "source": [
    "**Activity 1:** Plot a bar chart where the height is the number of tips per day."
   ]
  },
  {
   "cell_type": "code",
   "execution_count": null,
   "metadata": {},
   "outputs": [],
   "source": [
    "ggplot(tips_data, aes(x=\"day\")) + geom_bar( stat =\"count\" )"
   ]
  },
  {
   "cell_type": "markdown",
   "metadata": {},
   "source": [
    "**Activity 2:** Plot a bar chart where the height of the bar shows the total amount of tips per day."
   ]
  },
  {
   "cell_type": "code",
   "execution_count": null,
   "metadata": {},
   "outputs": [],
   "source": [
    "ggplot(tips_data, aes(x=\"day\", weight=\"tip\" )) + geom_bar()"
   ]
  },
  {
   "cell_type": "markdown",
   "metadata": {},
   "source": [
    "**Activity 3:** Plot a bar chart where the height of the bar shows the total amount of tips per day."
   ]
  },
  {
   "cell_type": "code",
   "execution_count": null,
   "metadata": {},
   "outputs": [],
   "source": [
    "ggplot(tips_data, aes(x=\"day\", weight = \"tip\")) + geom_bar(aes(fill=\"sex\"))"
   ]
  },
  {
   "cell_type": "markdown",
   "metadata": {},
   "source": [
    "This was a stacked bar chart and it does not provide a good comparison between two categories; we know that aligned bars give better visual comparison. So let's change this:"
   ]
  },
  {
   "cell_type": "code",
   "execution_count": null,
   "metadata": {},
   "outputs": [],
   "source": [
    "p = ggplot(tips_data, aes(x=\"day\", weight = \"tip\")) + geom_bar(aes(fill=\"sex\"), position= \"dodge\", colour=\"black\")\n",
    "p"
   ]
  },
  {
   "cell_type": "markdown",
   "metadata": {},
   "source": [
    "This is better. So we can see Fridays are not a good day for waiters according to this data set. Let's change the colors by adding scales."
   ]
  },
  {
   "cell_type": "code",
   "execution_count": null,
   "metadata": {},
   "outputs": [],
   "source": [
    "p + scale_fill_manual(values=[\"red\", \"blue\"])"
   ]
  },
  {
   "cell_type": "code",
   "execution_count": null,
   "metadata": {},
   "outputs": [],
   "source": [
    "p + scale_fill_brewer(type = \"qual\", palette=\"Accent\") + scale_x_discrete(limits = [\"Thur\", \"Fri\", \"Sat\", \"Sun\"])"
   ]
  },
  {
   "cell_type": "markdown",
   "metadata": {},
   "source": [
    "**Activity 4:** Plot a scatter plot of tips vs. total bill using sex and smoker status as facets."
   ]
  },
  {
   "cell_type": "code",
   "execution_count": null,
   "metadata": {},
   "outputs": [],
   "source": [
    "ggplot(tips_data, aes(x=\"total_bill\", y=\"tip\")) + geom_point() + facet_grid([\"sex\", \"smoker\"])"
   ]
  },
  {
   "cell_type": "markdown",
   "metadata": {},
   "source": [
    "For the fitted curve, we need the scikit-misc package; we can install it within the notebook like following: "
   ]
  },
  {
   "cell_type": "code",
   "execution_count": null,
   "metadata": {},
   "outputs": [],
   "source": [
    "!pip install scikit-misc"
   ]
  },
  {
   "cell_type": "code",
   "execution_count": null,
   "metadata": {},
   "outputs": [],
   "source": [
    "ggplot(tips_data, aes(x=\"total_bill\", y=\"tip\")) + geom_point() + facet_grid([\"sex\", \"smoker\"]) + \\\n",
    "geom_smooth(method=\"loess\", colour=\"blue\")"
   ]
  },
  {
   "cell_type": "markdown",
   "metadata": {},
   "source": [
    "**Activity 5:** Draw a scatter plot for variables total_bill and tip using sex and smoker as facets. Map the 'day' and 'size' attributes to color and shape visual variables, respectively."
   ]
  },
  {
   "cell_type": "code",
   "execution_count": null,
   "metadata": {},
   "outputs": [],
   "source": [
    "p = ggplot(tips_data) + geom_point(aes(x=\"total_bill\", y=\"tip\", color = \"day\", shape=\"size\"))\\\n",
    "+ facet_grid([\"sex\", \"smoker\"])\n",
    "p"
   ]
  },
  {
   "cell_type": "markdown",
   "metadata": {},
   "source": [
    "Notice that size isn't shown on the legend. This is because it is still being recognized as an integer. You need it to be a string."
   ]
  },
  {
   "cell_type": "code",
   "execution_count": null,
   "metadata": {},
   "outputs": [],
   "source": [
    "tips_data[\"size\"] = tips_data[\"size\"].apply(lambda x: str(x))\n",
    "p = ggplot(tips_data) + geom_point(aes(x=\"total_bill\", y=\"tip\", color = \"day\", shape=\"size\"))\\\n",
    "+ facet_grid([\"sex\", \"smoker\"])\n",
    "p"
   ]
  },
  {
   "cell_type": "markdown",
   "metadata": {},
   "source": [
    "Now, let's see how we can plot a *box and whiskers plot* to visualize the summary statistics of a data set. Let's use the diamonds data set for it; and plot color vs. price for each clarity category."
   ]
  },
  {
   "cell_type": "code",
   "execution_count": null,
   "metadata": {},
   "outputs": [],
   "source": [
    "from plotnine.data import diamonds\n",
    "p3 = ggplot(diamonds, aes(x=\"color\", y=\"price\")) + geom_boxplot() + facet_wrap([\"clarity\"])\n",
    "p3"
   ]
  },
  {
   "cell_type": "markdown",
   "metadata": {},
   "source": [
    "Thick black line is the median, the edges of the box show the 25th and 75th quantiles, and the dots are the outliers. Because there are many outliers with very high values, scaling the y-axis with a log scale might be helpful. "
   ]
  },
  {
   "cell_type": "code",
   "execution_count": null,
   "metadata": {},
   "outputs": [],
   "source": [
    "p3 + scale_y_log10()"
   ]
  },
  {
   "cell_type": "markdown",
   "metadata": {},
   "source": [
    "This plot shows the statistics better, but it doesn't show the details of the distribution. We can use a violin plot to see the density."
   ]
  },
  {
   "cell_type": "code",
   "execution_count": null,
   "metadata": {},
   "outputs": [],
   "source": [
    "ggplot(diamonds, aes(x=\"color\", y=\"price\")) + geom_violin()+ facet_wrap([\"clarity\"]) + scale_y_log10()"
   ]
  },
  {
   "cell_type": "markdown",
   "metadata": {},
   "source": [
    "Now we can see the distribution as the width at each point in this plot represents the frequency of the corresponding price."
   ]
  },
  {
   "cell_type": "code",
   "execution_count": null,
   "metadata": {},
   "outputs": [],
   "source": [
    "ggplot(diamonds, aes(x=\"color\", y=\"price\")) + geom_violin(aes(fill=\"color\")) + facet_wrap([\"clarity\"]) + scale_y_log10()"
   ]
  },
  {
   "cell_type": "code",
   "execution_count": null,
   "metadata": {},
   "outputs": [],
   "source": []
  }
 ],
 "metadata": {
  "kernelspec": {
   "display_name": "Python 3",
   "language": "python",
   "name": "python3"
  },
  "language_info": {
   "codemirror_mode": {
    "name": "ipython",
    "version": 3
   },
   "file_extension": ".py",
   "mimetype": "text/x-python",
   "name": "python",
   "nbconvert_exporter": "python",
   "pygments_lexer": "ipython3",
   "version": "3.7.3"
  }
 },
 "nbformat": 4,
 "nbformat_minor": 2
}
