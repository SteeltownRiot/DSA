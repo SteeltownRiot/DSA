{
 "cells": [
  {
   "cell_type": "markdown",
   "metadata": {},
   "source": [
    "# Lab 8 - Storytelling with Data\n",
    "\n",
    "**In this lab, we will see how to put everything together and create a *narrative visualization* that tells a \"story\" with the data.** \n",
    "\n",
    "We create visualizations to **give a message, make a point, or convince the audience**. We will see how we can do that in addition to creating effective visualizations as we have seen in the previous modules. "
   ]
  },
  {
   "cell_type": "markdown",
   "metadata": {},
   "source": [
    "---\n",
    "\n",
    "## Visualization Impact\n",
    "\n",
    "In the beginning, we started with the **types and the impact** of the visualization. We have seen that we can use visualization in conjunction with data science in two major ways: **exploratory** vs. **explanatory** visualization. \n",
    "\n",
    "\n",
    "Data visualization is **not just about showing data, it's about giving a message**, making a point, convincing an audience by using the data; so there is a **story** to be told with data visualization. \n",
    "\n",
    "\n",
    "**A whole bunch of charts/plots that look like randomly placed do not tell a story.** \n",
    "\n",
    "\n",
    "**We need to use design elements such as captions, text annotations, layout**, etc. to help tell the story better. \n",
    "\n",
    "\n",
    "We need to provide a **context** and **explain** what the visualization shows. \n",
    "\n",
    "Data storytelling is a **structured approach for communicating data insights**, and it involves a combination of three key elements: \n",
    "\n",
    " - data, \n",
    " \n",
    " - visuals, \n",
    " \n",
    " - and narrative. \n",
    "\n",
    "\n",
    "When **narrative is coupled** with data, it helps to explain to the audience what’s happening in the data and **why a particular insight is important**. \n",
    " \n",
    "When **visuals are applied** to data, they can enlighten the audience to insights that they wouldn’t see without charts or graphs. **When narrative and visuals are merged together, they can engage the audience.**\n",
    " \n",
    "\n",
    "<img src=\"../images/storytelling.png\">\n",
    "\n",
    "\n",
    "---"
   ]
  },
  {
   "cell_type": "markdown",
   "metadata": {},
   "source": [
    "## Definitions and Model \n",
    "\n",
    "**A story consists of ordered sequence of steps** (text, image, visualization, video, etc.) and a **defined path** through these steps. \n",
    "\n",
    "\n",
    "**There is a difference between the Journalism model of storytelling and Data Science model of storytelling:** \n",
    "\n",
    " - Journalists collect information through research, interviews, etc to assemble the key facts and tie together the key facts (raw material) to produce a story supported by visualizations (e.g. infographics)\n",
    "\n",
    " - Data scientists use visualization to explore, analyze, and gain insight about data (exploratory); and also to present the results of the analysis (explanatory) to communicate a message, or make a point.\n",
    " \n",
    "A **narrative visualization has** \n",
    "\n",
    " - **a visual structure (or *genre*)** to support the story, \n",
    " \n",
    " - **interaction** to engage the story, \n",
    " \n",
    " - and the **message to tell** the story. "
   ]
  },
  {
   "cell_type": "markdown",
   "metadata": {},
   "source": [
    "---\n",
    " \n",
    " ### Here are the seven genres of narrative visualization:\n",
    "\n",
    "<img src=\"../images/genres.png\">\n",
    "\n",
    "If a narrative visualization is **author driven**, it has a stronger order (linear, etc.), heavy messaging, and minimal interaction; \n",
    "\n",
    "whereas if it is **reader driven**, it has weaker order, lighter messaging, and more interactive elements to let the reader to explore and query. \n",
    "\n",
    "**The following is a taxonomy of visualization with respect to storytelling elements:** \n",
    "\n",
    "<img src=\"../images/elems.png\">"
   ]
  },
  {
   "cell_type": "markdown",
   "metadata": {},
   "source": [
    "---\n",
    "\n",
    "### Telling a story with visualization requires:\n",
    "\n",
    " - **Ordering and structure**: clear path for the audience to **follow and focus** attention.\n",
    "\n",
    "\n",
    " - **Messaging**: providing **context** explaining data, and **emphasizing reasons** by adding text annotations and captions.\n",
    "\n",
    "\n",
    " - **Visual elements**: \n",
    "   - preattention, \n",
    "   - effectiveness, \n",
    "   - visual channels, \n",
    "   - layering, \n",
    "   - levels of detail, \n",
    "   - what-how-why, \n",
    "   - small multiples, etc.\n",
    "\n",
    "\n",
    " - **Consistency**: visual elements, and different types of graphs should be **connected by a common visual thread** (color schemes, fonts, types of graphs, etc.)\n",
    " \n",
    "---"
   ]
  },
  {
   "cell_type": "markdown",
   "metadata": {},
   "source": [
    "### Here is an example of a simple visualization that does NOT give a message, or tell a story:\n",
    "\n",
    "### BEFORE: dry\n",
    "\n",
    "<img src=\"../images/before4.png\">\n",
    "\n",
    "**After we do the following**, it becomes easier to understand, because **now, it tells a STORY using visual and textual elements!** \n",
    "\n",
    " - Replace title with a **message**\n",
    "\n",
    " - Annotate with text to **provide context** \n",
    "\n",
    " - **Order** the data for easy consumption\n",
    "\n",
    " - **Label** axes \n",
    "\n",
    " - **Eliminate clutter**\n",
    "\n",
    " - Use **color** \n",
    "\n",
    "### AFTER: story\n",
    "\n",
    "<img src=\"../images/after4.png\">\n",
    "\n",
    "---"
   ]
  },
  {
   "cell_type": "markdown",
   "metadata": {},
   "source": [
    "### Let's see more examples of that:\n",
    "\n",
    "### BEFORE\n",
    "\n",
    "<img src=\"../images/before1.png\">\n",
    "\n",
    "### AFTER\n",
    "\n",
    "<img src=\"../images/after1.png\">"
   ]
  },
  {
   "cell_type": "markdown",
   "metadata": {},
   "source": [
    "---\n",
    "\n",
    "\n",
    "### BEFORE\n",
    "\n",
    "<img src=\"../images/before2.png\">\n",
    "\n",
    "### AFTER\n",
    "\n",
    "<img src=\"../images/after2.png\">"
   ]
  },
  {
   "cell_type": "markdown",
   "metadata": {},
   "source": [
    "---\n",
    "\n",
    "\n",
    "### BEFORE\n",
    "\n",
    "<img src=\"../images/before3.png\">\n",
    "\n",
    "### AFTER\n",
    "\n",
    "<img src=\"../images/after3.png\">\n",
    "\n",
    "\n",
    "---"
   ]
  },
  {
   "cell_type": "markdown",
   "metadata": {},
   "source": [
    "## Narrative Visualizations with Multiple Elements \n",
    "\n",
    "We can have multiple graphs/plots to tell a story by **tying them together within a layout.**\n",
    "\n",
    "**We have to make sure that it does NOT become too cluttered or cognitively loaded** for the audience to follow the **path** of the story. \n",
    "\n",
    "\n",
    "- Pay attention to the **path**: make it clear where it starts (the more linear layout the more it looks like story)\n",
    "\n",
    "\n",
    "- **Consistent visual framework**: keep things tidy, simple, and consistent throughout the different elements\n",
    "\n",
    "\n",
    "- **Provide context**: both the story aspect by adding **text annotations** and the numerical aspect by providing levels of scales. \n",
    "\n",
    "\n",
    "- Use **highlighting** techniques: **layering** by color, **zooms**, **insets**, **framing**, etc. \n",
    "\n",
    "\n",
    "- Use **perceptual grouping** to your advantage. \n",
    "\n",
    "\n",
    "- Use headlines, captions, annotations: **stories** are **told** by **words and sentences**. \n",
    "\n",
    "\n",
    "- Adjust **level of detail** and precision with respect to the message (no crowded scatterplots or networks) \n",
    "\n",
    "\n",
    "- Make interactive elements visually clear and **do not let them obscure** the data. \n",
    "\n",
    "\n",
    "---"
   ]
  },
  {
   "cell_type": "markdown",
   "metadata": {},
   "source": [
    " \n",
    "## NARRATIVE VISUALIZATION EXAMPLES\n",
    " \n",
    "### GOOD: it has supporting graphs, nice flow of the layout\n",
    "\n",
    "<img src=\"../images/story1.png\">\n",
    "\n",
    "\n",
    "---\n",
    "\n",
    "\n",
    "<img src=\"../images/story2.png\">\n"
   ]
  },
  {
   "cell_type": "markdown",
   "metadata": {},
   "source": [
    "---\n",
    "\n",
    "### BAD: what does it tell? \n",
    "\n",
    "<img src=\"../images/ex1.png\">"
   ]
  },
  {
   "cell_type": "markdown",
   "metadata": {},
   "source": [
    "-------------\n",
    "\n",
    "### GOOD: \n",
    "\n",
    "<img src=\"../images/ex2.png\">"
   ]
  },
  {
   "cell_type": "markdown",
   "metadata": {},
   "source": [
    "-------------\n",
    "\n",
    "### GOOD AND BAD : \n",
    "\n",
    "<img src=\"../images/ex3.png\">"
   ]
  },
  {
   "cell_type": "markdown",
   "metadata": {},
   "source": [
    "-------------\n",
    "\n",
    "### GOOD: \n",
    "\n",
    "<img src=\"../images/ex4.png\">"
   ]
  },
  {
   "cell_type": "markdown",
   "metadata": {},
   "source": [
    "-------------\n",
    "\n",
    "### GOOD: \n",
    "\n",
    "<img src=\"../images/ex5.png\">"
   ]
  },
  {
   "cell_type": "markdown",
   "metadata": {},
   "source": [
    "-------------\n",
    "\n",
    "### GOOD: \n",
    "\n",
    "<img src=\"../images/ex6.png\">\n",
    "\n",
    "\n",
    "---"
   ]
  },
  {
   "cell_type": "markdown",
   "metadata": {},
   "source": [
    "## Links \n",
    "\n",
    "**Relevant links for a summary of storytelling in data science:**\n",
    "\n",
    "- [The next chapter in analytics: data storytelling](https://mitsloan.mit.edu/ideas-made-to-matter/next-chapter-analytics-data-storytelling)\n",
    "\n",
    "\n",
    "- [How to tell a story with data](https://www.lucidchart.com/blog/how-to-tell-a-story-with-data)\n",
    "\n",
    "\n",
    "- [Data Storytelling: The Essential Data Science Skill Everyone Needs](https://www.forbes.com/sites/brentdykes/2016/03/31/data-storytelling-the-essential-data-science-skill-everyone-needs/?sh=6721fc1852ad)\n",
    "\n",
    "\n",
    "- [Storytelling for Data Scientists](https://towardsdatascience.com/storytelling-for-data-scientists-317c2723aa31)\n",
    "\n",
    "\n",
    "\n",
    "\n",
    "\n",
    "**Good Blogs to read about visual storytelling:**\n",
    "\n",
    " - http://style.org/tapestry/\n",
    " \n",
    " - http://style.org/stdp3/\n",
    " \n",
    " - http://www.storytellingwithdata.com\n",
    " \n",
    " - http://www.presentationzen.com/\n",
    "\n",
    "\n",
    "**References:**\n",
    "\n",
    "[Narrative Visualization: Telling Stories with Data](http://idl.cs.washington.edu/files/2010-Narrative-InfoVis.pdf)\n",
    "\n",
    "[Storytelling: The Next Step for Visualization](http://kosara.net/papers/2013/Kosara_Computer_2013.pdf)\n",
    "\n"
   ]
  }
 ],
 "metadata": {
  "kernelspec": {
   "display_name": "R",
   "language": "R",
   "name": "ir"
  },
  "language_info": {
   "codemirror_mode": "r",
   "file_extension": ".r",
   "mimetype": "text/x-r-source",
   "name": "R",
   "pygments_lexer": "r",
   "version": "3.5.1"
  }
 },
 "nbformat": 4,
 "nbformat_minor": 2
}
