{
 "cells": [
  {
   "cell_type": "markdown",
   "metadata": {},
   "source": [
    "# Module 8 Exercise - Data Storytelling\n",
    "\n",
    "In this exercise, you will **create a narrative visualization with a data set of your choosing**. You can choose any data set you can find on the Internet or a data set related to your current line of work. \n",
    "\n",
    "**You will create visualizations to give a message, make a point, or convince your audience by using all the techniques we have seen throughout the course.**\n",
    "\n",
    "Here is a list of your tasks:\n",
    "\n",
    "1. Find a data set and upload it to your exercises folder in module 8. \n",
    "\n",
    "2. Write your R code **in this exercise notebook** to create your visualizations, and save them under the `exercises` folder.\n",
    "\n",
    "3. Create a **narrative visualization document** using **any** software you want (Word, PowerPoint, Photoshop, etc.) by pasting your visualizations and creating all necessary elements (captions, text annotations, layout, etc.) \n",
    "\n",
    "4. Save your end product as a **pdf file** and upload it to your exercises folder (**name it L8_Exercise.pdf**)\n",
    "\n",
    "Make sure that you start with a clear message in mind, and filter and format your data accordingly, and create the visualizations that will **support that message**. \n",
    "\n",
    "You need to have **at least one major visualization, and a number of supporting smaller graphs (2, 3, or more)**. Make sure to have a **clean layout**, and **enough text annotations and captions** to make your message clear. \n",
    "\n",
    "You can choose any type of visualization that you believe will be most **effective** for the type of data and the message you have chosen. \n",
    "\n",
    "You will be graded by the quality of your visualizations and storytelling; **make sure to use everything you have learned in this course.** \n",
    "\n",
    "This exercise is about creating a quickly consumable product; Do **NOT** create a report or lengthy power point presentation. You can choose a poster format or few slides to tell your story (a unique angle) for the data set you have chosen. \n",
    "\n",
    "---\n",
    "\n",
    "Following is to show how to plot to a file to save a graph:"
   ]
  },
  {
   "cell_type": "code",
   "execution_count": null,
   "metadata": {},
   "outputs": [],
   "source": [
    "# this is how you save a plot to a file\n",
    "library(ggplot2)\n",
    "\n",
    "# comment this out to see the plot in the notebook \n",
    "png(filename=\"myplot.png\")\n",
    "\n",
    "# your plot here..\n",
    "qplot(carat, price, data = diamonds)\n",
    "\n",
    "# comment this out to see the plot in the notebook\n",
    "dev.off()"
   ]
  },
  {
   "cell_type": "markdown",
   "metadata": {},
   "source": [
    "Make sure you have all axis labels set in R notebook before you save your plot. You can adjust width and height when saving your plots.  Here is a reference to png() function:\n",
    "https://stat.ethz.ch/R-manual/R-devel/library/grDevices/html/png.html"
   ]
  },
  {
   "cell_type": "markdown",
   "metadata": {},
   "source": [
    "**Activity:**"
   ]
  },
  {
   "cell_type": "code",
   "execution_count": 1,
   "metadata": {},
   "outputs": [
    {
     "name": "stderr",
     "output_type": "stream",
     "text": [
      "\n",
      "Attaching package: ‘dplyr’\n",
      "\n",
      "The following objects are masked from ‘package:stats’:\n",
      "\n",
      "    filter, lag\n",
      "\n",
      "The following objects are masked from ‘package:base’:\n",
      "\n",
      "    intersect, setdiff, setequal, union\n",
      "\n",
      "also installing the dependency ‘tidyr’\n",
      "\n",
      "Updating HTML index of packages in '.Library'\n",
      "Making 'packages.html' ... done\n",
      "── Attaching packages ─────────────────────────────────────── tidyverse 1.3.1 ──\n",
      "✔ ggplot2 3.3.5     ✔ purrr   0.3.4\n",
      "✔ tibble  3.1.6     ✔ stringr 1.4.0\n",
      "✔ tidyr   1.1.4     ✔ forcats 0.5.1\n",
      "✔ readr   2.0.2     \n",
      "── Conflicts ────────────────────────────────────────── tidyverse_conflicts() ──\n",
      "✖ dplyr::filter() masks stats::filter()\n",
      "✖ dplyr::lag()    masks stats::lag()\n",
      "\n",
      "Attaching package: ‘plotly’\n",
      "\n",
      "The following object is masked from ‘package:ggplot2’:\n",
      "\n",
      "    last_plot\n",
      "\n",
      "The following object is masked from ‘package:stats’:\n",
      "\n",
      "    filter\n",
      "\n",
      "The following object is masked from ‘package:graphics’:\n",
      "\n",
      "    layout\n",
      "\n"
     ]
    }
   ],
   "source": [
    "# Read your data here; \n",
    "\n",
    "# Clean it up, reformat it, filter it, sort it, group it, etc.\n",
    "\n",
    "# Create your visualizations and save them as png files, then prepare your final pdf document elsewhere\n",
    "# <- ALL YOUR CODE HERE ->\n",
    "\n",
    "# Load packages & libraries\n",
    "library(dplyr)\n",
    "install.packages(\"tidyverse\")\n",
    "library(tidyverse)\n",
    "library(ggplot2)\n",
    "library(plotly)\n",
    "library(RColorBrewer)\n"
   ]
  },
  {
   "cell_type": "code",
   "execution_count": 2,
   "metadata": {},
   "outputs": [
    {
     "data": {
      "text/html": [
       "<table>\n",
       "<caption>A data.frame: 6 × 15</caption>\n",
       "<thead>\n",
       "\t<tr><th scope=col>year</th><th scope=col>age_0_to_5</th><th scope=col>age_6_to_11</th><th scope=col>age_12_to_14</th><th scope=col>age_15_to_17</th><th scope=col>age_18_to_24</th><th scope=col>age_25_to_49</th><th scope=col>age_50_plus</th><th scope=col>victim_ethnicity.white</th><th scope=col>victim_ethnicity.black</th><th scope=col>victim_ethnicity.native_american</th><th scope=col>victim_ethnicity.asian</th><th scope=col>victim_gender.male</th><th scope=col>victim_gender.female</th><th scope=col>deaths</th></tr>\n",
       "\t<tr><th scope=col>&lt;int&gt;</th><th scope=col>&lt;int&gt;</th><th scope=col>&lt;int&gt;</th><th scope=col>&lt;int&gt;</th><th scope=col>&lt;int&gt;</th><th scope=col>&lt;int&gt;</th><th scope=col>&lt;int&gt;</th><th scope=col>&lt;int&gt;</th><th scope=col>&lt;int&gt;</th><th scope=col>&lt;int&gt;</th><th scope=col>&lt;int&gt;</th><th scope=col>&lt;int&gt;</th><th scope=col>&lt;int&gt;</th><th scope=col>&lt;int&gt;</th><th scope=col>&lt;int&gt;</th></tr>\n",
       "</thead>\n",
       "<tbody>\n",
       "\t<tr><td>1992</td><td>83</td><td>77</td><td>230</td><td>1156</td><td>4944</td><td>8196</td><td>1254</td><td>6986</td><td>8597</td><td>81</td><td>277</td><td>13386</td><td>2554</td><td>15940</td></tr>\n",
       "\t<tr><td>1993</td><td>98</td><td>95</td><td>255</td><td>1271</td><td>5267</td><td>8450</td><td>1349</td><td>7160</td><td>9243</td><td>62</td><td>320</td><td>14007</td><td>2778</td><td>16785</td></tr>\n",
       "\t<tr><td>1994</td><td>74</td><td>75</td><td>220</td><td>1222</td><td>5110</td><td>8062</td><td>1265</td><td>6807</td><td>8887</td><td>60</td><td>274</td><td>13516</td><td>2513</td><td>16028</td></tr>\n",
       "\t<tr><td>1995</td><td>89</td><td>63</td><td>235</td><td>1193</td><td>4492</td><td>7153</td><td>1214</td><td>6438</td><td>7635</td><td>78</td><td>287</td><td>12086</td><td>2353</td><td>14438</td></tr>\n",
       "\t<tr><td>1996</td><td>74</td><td>73</td><td>148</td><td>1011</td><td>4052</td><td>6486</td><td>1172</td><td>5750</td><td>6953</td><td>64</td><td>250</td><td>10899</td><td>2118</td><td>13016</td></tr>\n",
       "\t<tr><td>1997</td><td>67</td><td>71</td><td>116</td><td> 885</td><td>3904</td><td>6008</td><td>1014</td><td>5221</td><td>6520</td><td>67</td><td>256</td><td>10161</td><td>1904</td><td>12065</td></tr>\n",
       "</tbody>\n",
       "</table>\n"
      ],
      "text/latex": [
       "A data.frame: 6 × 15\n",
       "\\begin{tabular}{r|lllllllllllllll}\n",
       " year & age\\_0\\_to\\_5 & age\\_6\\_to\\_11 & age\\_12\\_to\\_14 & age\\_15\\_to\\_17 & age\\_18\\_to\\_24 & age\\_25\\_to\\_49 & age\\_50\\_plus & victim\\_ethnicity.white & victim\\_ethnicity.black & victim\\_ethnicity.native\\_american & victim\\_ethnicity.asian & victim\\_gender.male & victim\\_gender.female & deaths\\\\\n",
       " <int> & <int> & <int> & <int> & <int> & <int> & <int> & <int> & <int> & <int> & <int> & <int> & <int> & <int> & <int>\\\\\n",
       "\\hline\n",
       "\t 1992 & 83 & 77 & 230 & 1156 & 4944 & 8196 & 1254 & 6986 & 8597 & 81 & 277 & 13386 & 2554 & 15940\\\\\n",
       "\t 1993 & 98 & 95 & 255 & 1271 & 5267 & 8450 & 1349 & 7160 & 9243 & 62 & 320 & 14007 & 2778 & 16785\\\\\n",
       "\t 1994 & 74 & 75 & 220 & 1222 & 5110 & 8062 & 1265 & 6807 & 8887 & 60 & 274 & 13516 & 2513 & 16028\\\\\n",
       "\t 1995 & 89 & 63 & 235 & 1193 & 4492 & 7153 & 1214 & 6438 & 7635 & 78 & 287 & 12086 & 2353 & 14438\\\\\n",
       "\t 1996 & 74 & 73 & 148 & 1011 & 4052 & 6486 & 1172 & 5750 & 6953 & 64 & 250 & 10899 & 2118 & 13016\\\\\n",
       "\t 1997 & 67 & 71 & 116 &  885 & 3904 & 6008 & 1014 & 5221 & 6520 & 67 & 256 & 10161 & 1904 & 12065\\\\\n",
       "\\end{tabular}\n"
      ],
      "text/markdown": [
       "\n",
       "A data.frame: 6 × 15\n",
       "\n",
       "| year &lt;int&gt; | age_0_to_5 &lt;int&gt; | age_6_to_11 &lt;int&gt; | age_12_to_14 &lt;int&gt; | age_15_to_17 &lt;int&gt; | age_18_to_24 &lt;int&gt; | age_25_to_49 &lt;int&gt; | age_50_plus &lt;int&gt; | victim_ethnicity.white &lt;int&gt; | victim_ethnicity.black &lt;int&gt; | victim_ethnicity.native_american &lt;int&gt; | victim_ethnicity.asian &lt;int&gt; | victim_gender.male &lt;int&gt; | victim_gender.female &lt;int&gt; | deaths &lt;int&gt; |\n",
       "|---|---|---|---|---|---|---|---|---|---|---|---|---|---|---|\n",
       "| 1992 | 83 | 77 | 230 | 1156 | 4944 | 8196 | 1254 | 6986 | 8597 | 81 | 277 | 13386 | 2554 | 15940 |\n",
       "| 1993 | 98 | 95 | 255 | 1271 | 5267 | 8450 | 1349 | 7160 | 9243 | 62 | 320 | 14007 | 2778 | 16785 |\n",
       "| 1994 | 74 | 75 | 220 | 1222 | 5110 | 8062 | 1265 | 6807 | 8887 | 60 | 274 | 13516 | 2513 | 16028 |\n",
       "| 1995 | 89 | 63 | 235 | 1193 | 4492 | 7153 | 1214 | 6438 | 7635 | 78 | 287 | 12086 | 2353 | 14438 |\n",
       "| 1996 | 74 | 73 | 148 | 1011 | 4052 | 6486 | 1172 | 5750 | 6953 | 64 | 250 | 10899 | 2118 | 13016 |\n",
       "| 1997 | 67 | 71 | 116 |  885 | 3904 | 6008 | 1014 | 5221 | 6520 | 67 | 256 | 10161 | 1904 | 12065 |\n",
       "\n"
      ],
      "text/plain": [
       "  year age_0_to_5 age_6_to_11 age_12_to_14 age_15_to_17 age_18_to_24\n",
       "1 1992 83         77          230          1156         4944        \n",
       "2 1993 98         95          255          1271         5267        \n",
       "3 1994 74         75          220          1222         5110        \n",
       "4 1995 89         63          235          1193         4492        \n",
       "5 1996 74         73          148          1011         4052        \n",
       "6 1997 67         71          116           885         3904        \n",
       "  age_25_to_49 age_50_plus victim_ethnicity.white victim_ethnicity.black\n",
       "1 8196         1254        6986                   8597                  \n",
       "2 8450         1349        7160                   9243                  \n",
       "3 8062         1265        6807                   8887                  \n",
       "4 7153         1214        6438                   7635                  \n",
       "5 6486         1172        5750                   6953                  \n",
       "6 6008         1014        5221                   6520                  \n",
       "  victim_ethnicity.native_american victim_ethnicity.asian victim_gender.male\n",
       "1 81                               277                    13386             \n",
       "2 62                               320                    14007             \n",
       "3 60                               274                    13516             \n",
       "4 78                               287                    12086             \n",
       "5 64                               250                    10899             \n",
       "6 67                               256                    10161             \n",
       "  victim_gender.female deaths\n",
       "1 2554                 15940 \n",
       "2 2778                 16785 \n",
       "3 2513                 16028 \n",
       "4 2353                 14438 \n",
       "5 2118                 13016 \n",
       "6 1904                 12065 "
      ]
     },
     "metadata": {},
     "output_type": "display_data"
    }
   ],
   "source": [
    "# Read Excel data into R\n",
    "#mydata <- readRDS(\"shr_1976_2020.rds\")\n",
    "#mydata <- read_dta('shr_1976_2020.dta')\n",
    "mydata <- read.csv(\"gun-deaths_us_1992-2019.csv\")\n",
    "\n",
    "head(mydata)"
   ]
  },
  {
   "cell_type": "code",
   "execution_count": 3,
   "metadata": {},
   "outputs": [],
   "source": [
    "# Create a function to load theme elements\n",
    "my_theme <- function() {\n",
    "      \n",
    "    # Generate the colors for the chart procedurally with RColorBrewer\n",
    "    palette <- brewer.pal(\"Greys\", n = 9) # create a palette of shades of grey \n",
    "    color.background = palette[1] # background plot color\n",
    "    color.grid.major = palette[3] \n",
    "    color.grid.minor = palette[2]\n",
    "    color.axis.text = palette[6] # text color \n",
    "    color.axis.title = palette[7]\n",
    "    color.title = palette[9]\n",
    "\n",
    "    # Begin construction of chart\n",
    "    theme_bw(base_size=9) +\n",
    "\n",
    "    # Set the entire chart region to a light gray color\n",
    "    theme(panel.background=element_rect(fill=color.background, color=color.background)) +\n",
    "    theme(plot.background=element_rect(fill=color.background, color=color.background)) +\n",
    "    theme(panel.border=element_rect(color=color.background)) +\n",
    "\n",
    "    # Format the grid\n",
    "    theme(panel.grid.major=element_line(color=color.grid.major,size=.25)) +\n",
    "    theme(panel.grid.minor=element_blank()) +\n",
    "    theme(axis.ticks=element_blank()) +\n",
    "\n",
    "    # Format the legend, but hide by default\n",
    "    theme(legend.position=\"bottom\") +\n",
    "    theme(legend.background = element_rect(fill=color.background)) +\n",
    "    theme(legend.text = element_text(size=7,color=color.axis.title)) +\n",
    "\n",
    "    # Set title and axis labels, and format these and tick marks\n",
    "    theme(plot.title=element_text(color=color.title, size=10, vjust=1.25)) +\n",
    "    theme(axis.text.x=element_text(size=7,color=color.axis.text)) +\n",
    "    theme(axis.text.y=element_text(size=7,color=color.axis.text)) +\n",
    "    theme(axis.title.x=element_text(size=8,color=color.axis.title, vjust=0)) +\n",
    "    theme(axis.title.y=element_text(size=8,color=color.axis.title, vjust=1.25)) +\n",
    "    \n",
    "    # Set facet attributes\n",
    "    theme(strip.background = element_rect(fill=color.background, colour = color.background)) +\n",
    "    theme(strip.text = element_text(size = 15, colour = color.axis.text)) +\n",
    "\n",
    "    # Plot margins\n",
    "    theme(plot.margin = unit(c(0.35, 0.2, 0.3, 0.35), \"cm\"))\n",
    "}"
   ]
  },
  {
   "cell_type": "code",
   "execution_count": null,
   "metadata": {},
   "outputs": [],
   "source": [
    "p1 <- ggplot(spend_hang, aes(x = Year, group = 1), ylim = c(15, 30)) +\n",
    "    geom_line(aes(y = round(US.Spending.on.Science, digits = 1)), color = \"black\") +\n",
    "    geom_point(aes(y = round(US.Spending.on.Science))) +\n",
    "    ylab(\"US Spending on Science, Space, & Tech\") +\n",
    "    my_theme()"
   ]
  },
  {
   "cell_type": "code",
   "execution_count": null,
   "metadata": {},
   "outputs": [],
   "source": []
  },
  {
   "cell_type": "markdown",
   "metadata": {},
   "source": [
    "---\n",
    "\n",
    "# Common Pitfalls / Inefficiencies\n",
    "\n",
    "**BEFORE you submit your end product, pay attention to the following in your visualizations and story:**"
   ]
  },
  {
   "cell_type": "markdown",
   "metadata": {},
   "source": [
    "---\n",
    "\n",
    "### - Remember the design analysis questions:\n",
    "\n",
    "**what, how, who, why?** \n",
    "\n",
    "- What are showing/telling? \n",
    "- How are you going to show it (efficiency? visual tasks like comparison, trends, query, etc.) \n",
    "- Who is your audience? Why should they care about what you have to tell? What are the **actionable** information they can take from your story? \n",
    "- Why are you telling the story? What is your angle, message, point? (make it clear in text AND visuals) "
   ]
  },
  {
   "cell_type": "markdown",
   "metadata": {},
   "source": [
    "---\n",
    "\n",
    "### - Pay attention to the color schemes/palettes:\n",
    "\n",
    "Do NOT use sequential palettes for data attributes that have no ordering; do NOT use qualitative color schemes for attributes where order matters. "
   ]
  },
  {
   "cell_type": "markdown",
   "metadata": {},
   "source": [
    "---\n",
    "\n",
    "###  - Color coordinate among plots so that the same data attributes have the same color in all plots:\n",
    "\n",
    "You can do that by creating a manual palette and use it everywhere to make sure same color is always assigned to the same attribute value (especially important for categories). Do not change color of the same category among plots!"
   ]
  },
  {
   "cell_type": "markdown",
   "metadata": {},
   "source": [
    "---\n",
    "\n",
    "###  - Perceptual grouping is important! group and/or order values:\n",
    "\n",
    "People tend to make sense of things and compare better when they are ordered. \n",
    "\n",
    "- In a bar chart, **order the axes** by time, value, etc. to make comparisons more intuitive. \n",
    "\n",
    "- Pie chart: order wedges. \n",
    "\n",
    "- In a bubble map, if you want to show trends, use grouping variable to **connect** bubbles, etc. "
   ]
  },
  {
   "cell_type": "markdown",
   "metadata": {},
   "source": [
    "---\n",
    "\n",
    "### - No lengthy text in x axis:\n",
    "\n",
    "- **Flip** the axes of a bar chart so that string values (text) are readable on the y axis left to right, \n",
    "\n",
    "**or** \n",
    "\n",
    "- at least, put them slanted in x axis for better readibility. "
   ]
  },
  {
   "cell_type": "markdown",
   "metadata": {},
   "source": [
    "---\n",
    "\n",
    "### - Plot only those that tell an obvious story:\n",
    "\n",
    "**No crowded** scatter plots with useless linear regression lines that don't tell anything.  You do NOT have to plot ALL your data. Look at alternative plots to tell your story. **Also, look below:** "
   ]
  },
  {
   "cell_type": "markdown",
   "metadata": {},
   "source": [
    "---\n",
    "\n",
    "### - If you have too many classes (discrete variables/categories), try to GROUP them:\n",
    "\n",
    "- Instead of giving a color to each of the dozen or so categories, you can put them in meaningful groups and color code to reduce clutter. \n",
    "\n",
    "- For sequential variables, you can do the same thing by **binning** numbers into bins (like in a histogram). \n",
    "\n",
    "- **Stepped color palettes** may be more useful than smooth sequential palettes (especially for comparison in choropleth maps) for a large range of values in an attribute. \n",
    "\n",
    "- You can group/cluster data into meaningful chunks and display those as bubble charts, networks, geographical regions, etc. \n",
    "\n",
    "- Do NOT dump all the data in the plot unless there is a CLEAR pattern/clustering to it that can be perceived immediately. "
   ]
  },
  {
   "cell_type": "markdown",
   "metadata": {},
   "source": [
    "---\n",
    "\n",
    "### - ANNOTATE! ANNOTATE! ANNOTATE!\n",
    "\n",
    "- **Tell** your audience what they are supposed to see. \n",
    "\n",
    "- Use meaningful titles with a message, not dry titles. \n",
    "\n",
    "- Use nice and concise axis labels. \n",
    "\n",
    "- Use text annotations (look at the **examples in the lab notebook**)."
   ]
  },
  {
   "cell_type": "markdown",
   "metadata": {},
   "source": [
    "---\n",
    "\n",
    "### - THEMING\n",
    "\n",
    "- **Good looking** charts are more **convincing**!\n",
    "\n",
    "- **Almost NEVER use the default color palette, default theme, default font.**\n",
    "\n",
    "- Use a subtle color scheme, nice fonts, interesting glyphs, etc. to make your charts look more **sophisticated**. "
   ]
  },
  {
   "cell_type": "markdown",
   "metadata": {},
   "source": [
    "---\n",
    "\n",
    "### - Use space wisely!\n",
    "\n",
    "- **Balance the plots** to use space effectively.\n",
    "\n",
    "- Pay attention to **data-ink ratio**.\n",
    "\n",
    "- **HAVE A FLOW left to right, top to bottom**. "
   ]
  }
 ],
 "metadata": {
  "kernelspec": {
   "display_name": "R",
   "language": "R",
   "name": "ir"
  },
  "language_info": {
   "codemirror_mode": "r",
   "file_extension": ".r",
   "mimetype": "text/x-r-source",
   "name": "R",
   "pygments_lexer": "r",
   "version": "3.5.1"
  }
 },
 "nbformat": 4,
 "nbformat_minor": 2
}
