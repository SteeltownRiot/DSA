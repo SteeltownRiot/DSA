{
 "cells": [
  {
   "cell_type": "markdown",
   "metadata": {},
   "source": [
    "# Lab 6 - Spatial Visualization\n",
    "\n",
    "**In this lab, we will cover visualization of vector and raster maps and spatial data overlays on maps.**\n",
    "\n",
    "We will see how to use ggplot, ggmap, Plotly, and Google Maps to visualize spatial data in the practice notebooks.\n",
    "\n",
    "### References\n",
    "\n",
    "- [An Album of Map Projections by USGS](https://pubs.usgs.gov/pp/1453/report.pdf)\n",
    "\n",
    "- [Projections Summary by USGS](https://pubs.usgs.gov/imap/1402/plate-1.pdf)\n",
    "\n",
    "- [ggmap: Spatial Visualization with ggplot2](https://journal.r-project.org/archive/2013-1/kahle-wickham.pdf)"
   ]
  },
  {
   "cell_type": "markdown",
   "metadata": {},
   "source": [
    "---\n",
    "\n",
    "\n",
    "## Geospatial Data\n",
    "\n",
    "Data sets that have geographic components are called **geospatial** data. These components can be directly geographical coordinates, or they can be associated with geographic locations through addresess, zip codes, FIPS codes, etc. \n",
    "\n",
    "Types of geospatial data include a large variety such as \n",
    " - census data, \n",
    " - remote sensing data (satellite images), \n",
    " - GPS tracking data, \n",
    " - topography data, \n",
    " - LIDAR based digital elevation models, etc. \n",
    "\n",
    "Geospatial data sets are usually stored, visualized, and explored through the use of **geographic information systems (GIS)**. These systems integrate data from  a variety of sources and **overlay several layers of information on maps.** \n",
    "\n",
    "You can think of **Google Maps** as a simpler form of GIS with only street and traffic data. \n",
    "\n",
    "GIS represent geospatial data as **vectors and related attributes**. Streets are an example of this: they are represented as **lines defined in a coordinate system** and the related attributes such as street names, zip codes, etc. "
   ]
  },
  {
   "cell_type": "markdown",
   "metadata": {},
   "source": [
    "---\n",
    "\n",
    "\n",
    "## Coordinate System \n",
    "\n",
    "A **coordinate system**  uses coordinates to uniquely determine the **position of a point in a space.**\n",
    "\n",
    "\n",
    "A **geodetic datum** or geodetic system is a coordinate system, and a set of reference points, used to locate places on the Earth. \n",
    "\n",
    "\n",
    "Datums are used in geodesy, navigation, surveying, and satellite navigation systems to translate positions indicated on maps to their real position on Earth. Each starts with an ellipsoid, and then defines latitude, longitude, and altitude coordinates. One or more locations on the Earth's surface is chosen as an anchor \"base-point\". For example, **WGS84** is an approximate definition of sea level as an ellipsoid; a more accurate definition is Earth Gravitational Model 2008 (**EGM2008**). Because the Earth is an imperfect ellipsoid, localised datums can give a more accurate representation of the area of coverage than WGS84.\n",
    "\n",
    "\n",
    "The North American Datum of 1983 (**NAD83**) is the horizontal control datum for the United States, Canada, Mexico, and Central America, based on a geocentric origin and the Geodetic Reference System 1980 (**GRS80**). NAD83 may be considered a local referencing system. In geodetic coordinates, the Earth's surface is approximated by an ellipsoid and locations near the surface are described in terms of latitude, longitude, and height.\n",
    "\n",
    "<img src=\"../images/coord1.gif\">\n",
    "<img src=\"../images/coord2.png\">"
   ]
  },
  {
   "cell_type": "markdown",
   "metadata": {},
   "source": [
    "---\n",
    "\n",
    "\n",
    "## Map Projections\n",
    "\n",
    "A **map projection** is transformation of the **latitudes and longitudes** of locations on the surface of a sphere or an ellipsoid into locations **on a plane**. \n",
    "\n",
    "**Map projections are necessary for creating maps.** \n",
    "\n",
    "All map projections **distort** the surface in some fashion. Depending on the purpose of the map, some distortions are acceptable and others are not. \n",
    "\n",
    "\n",
    "Different map projections exist in order to preserve some properties of the sphere-like body at the expense of other properties.\n",
    "\n",
    "A map projection chooses a model for the shape of the Earth and transforms its coordinates to planar coordinates of the chosen projection surface. Projection surface should be able to be unfolded into a plane without stretching or tearing; these suraces are called *developable*. The cylinder, cone, and the plane are all developable surfaces. **The sphere and ellipsoid do not have developable surfaces, so any projection of them onto a plane will have to distort the image.** \n",
    "\n",
    "**Projections can be classified by the preservation of a property:**\n",
    "\n",
    "- **Conformal**: Conformal, or orthomorphic, map projections **preserve angles locally** (e.g. Mercator projection).\n",
    "\n",
    "\n",
    "- **Equal-area**: Equal-area maps **preserve area measure**, generally distorting shapes in order to do that (e.g. Albers conic projection). \n",
    "\n",
    "\n",
    "- **Equidistant**: These projections **preserve distance** from some standard point or line (e.g. Eqiorectangular preserves distances along meridians). \n",
    "\n",
    "<img src=\"../images/proj2.gif\">\n",
    "<img src=\"../images/proj1.png\">"
   ]
  },
  {
   "cell_type": "markdown",
   "metadata": {},
   "source": [
    "---\n",
    "\n",
    "\n",
    "## Vector Maps\n",
    "\n",
    "**We make a distinction between *vector* maps and *raster* maps.** \n",
    "\n",
    "**Vector maps** represent geospatial data as a collection of points, lines, and polygons. A vector map of US contains detailed polygons to define national, state, and county borders, lakes, and other closed contour informaion, and curves approximated by lines to represent rivers, for example. \n",
    "\n",
    "Vector maps can be redrawn at different zoom levels **without loss of information if they have detailed enough polygonal representation** of the shapes. **Shapefiles** are one of the file formats that store geographic vector maps and related attributes. A shapefile format consists of minimum three files: **.shp** file that contains geometry data, **.shx** file that contains positional indices of the geometry data, and **.dbf** file that contains rows and columns of attribute data in dBase IV format. **Shapefiles for U.S. regions can be found at [US Census Bureau web site](https://www.census.gov/geographies/mapping-files/time-series/geo/carto-boundary-file.html).**"
   ]
  },
  {
   "cell_type": "markdown",
   "metadata": {},
   "source": [
    "---\n",
    "\n",
    "\n",
    "## Raster Maps \n",
    "\n",
    "\n",
    "**Raster map data**, on the other hand, is sampled on a regular grid, like an **image** with MxN pixels. Each location in the grid corresponds to a geographic coordinate. An example of raster data is digital elevation models (DEM) where each \"pixel\" corresponds to the elevation at that geographic location. **GeoTIFF** is one of the raster formats that contain metadata \n",
    "to allow georeferencing information to be embedded within a TIFF file. The metadata includes map projection, \n",
    "coordinate systems, ellipsoids, datums, etc. in order to establish the exact spatial reference for the data. "
   ]
  },
  {
   "cell_type": "markdown",
   "metadata": {},
   "source": [
    "---\n",
    "\n",
    "\n",
    "## Thematic Maps \n",
    "\n",
    "A **thematic map** is a map that focuses on a specific theme or subject area as opposed to general reference maps. It emphasizes *spatial distribution* of data such as climate, population, demographics, etc. \n",
    "\n",
    "\n",
    "A **Choropleth map** shows statistical data aggregated over predefined regions, such as counties or states, by coloring or shading these regions.\n",
    "\n",
    "<img src=\"../images/choro.gif\">\n",
    "\n",
    "**Isophlet (contour) maps** depict smooth continuous phenomena such as precipitation or elevation. Each line-bounded area on this type of map represents a region with the same value. For example, on an elevation map, each elevation line indicates an area at the listed elevation. They are useful to show population densities. \n",
    "\n",
    "<img src=\"../images/iso.jpg\">\n",
    "\n",
    "A **dot distribution map** might be used to locate each occurrence of a phenomenon, as in the map made by Dr. Snow during the 1854 Broad Street cholera outbreak, where each dot represented one death due to cholera.\n",
    "\n",
    "\n",
    "A **bubble map** is a dot map where the size of the dot encodes an additional attribute e.g. population of a city. \n",
    "\n",
    "\n",
    "A **Cartogram** is a map in which some thematic mapping variable (e.g. population, or GDP) is substituted for land area or distance. The geometry or space of the map is distorted in order to convey the information of this alternate variable.\n",
    "\n",
    "<img src=\"../images/cart.png\">\n",
    "\n",
    "A **Flow map** shows the movement of objects from one location to another e.g. number of people in a migration, the amount of goods being traded, traffic in a computer network).\n",
    "\n",
    "<img src=\"../images/flow1.png\">\n",
    "<img src=\"../images/flow2.png\">\n",
    "\n",
    "**Take a look at this link for a cool flow map: [Mapping Airlines Routes](http://spatialanalysis.co.uk/2012/06/mapping-worlds-biggest-airlines/)**"
   ]
  },
  {
   "cell_type": "markdown",
   "metadata": {},
   "source": [
    "---\n",
    "\n",
    "\n",
    "## Tiled Maps with Overlays \n",
    "\n",
    "In addition to vector map data, one can also obtain **map tiles from web tile servers** such as **Google Maps, Stamen Maps, Naver Maps**, etc. and overlay geospatial data on these map \"images\". \n",
    "\n",
    "\n",
    "These tiles are served over the internet and can be downloaded in real time. Some of these servers utilize OpenStreetMap which is crowdsourcing project to create a free editable map of the world. Map tiles for a given geography and zoom factor can be used as the base layer, and several layers of information can be overlayed on them, such as population density, tracking data, traffic data, etc. \n",
    "\n",
    "<img src=\"../images/ovl1.jpg\">\n",
    "<img src=\"../images/ovl2.jpg\">\n",
    "<img src=\"../images/ovl3.jpg\">\n",
    "\n",
    "\n",
    "\n",
    "\n",
    "\n",
    "**In the practices, we will see how to create some of these maps.** "
   ]
  }
 ],
 "metadata": {
  "kernelspec": {
   "display_name": "R",
   "language": "R",
   "name": "ir"
  },
  "language_info": {
   "codemirror_mode": "r",
   "file_extension": ".r",
   "mimetype": "text/x-r-source",
   "name": "R",
   "pygments_lexer": "r",
   "version": "3.5.1"
  }
 },
 "nbformat": 4,
 "nbformat_minor": 2
}
