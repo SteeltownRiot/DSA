{
 "cells": [
  {
   "cell_type": "markdown",
   "metadata": {},
   "source": [
    "## Module 5 Python Practice\n",
    "\n",
    "\n",
    "This notebook will reproduce some of the plots created in [L5_Pyramid_Practice](L5_Pyramid_Practice.ipynb) and [L5_Bubble_Practice](L5_Bubble_Practice.ipynb) practice notebooks in Python **without** using the `plotnine` library. \n",
    "\n",
    "For the use of `plotnine` in Python for bubble and pyramid charts, refer to the [L5_Bubble_Practice_plotnine](L5_Bubble_Practice_plotnine.ipynb) and [L5_Pyramid_Practice_plotnine](L5_Pyramid_Practice_plotnine.ipynb) notebooks. \n",
    "\n",
    "Here, we will use Python's matplotlib library and plotly for replicating bubble charts and population pyramids."
   ]
  },
  {
   "cell_type": "code",
   "execution_count": 1,
   "metadata": {},
   "outputs": [
    {
     "data": {
      "text/html": [
       "<div>\n",
       "<style scoped>\n",
       "    .dataframe tbody tr th:only-of-type {\n",
       "        vertical-align: middle;\n",
       "    }\n",
       "\n",
       "    .dataframe tbody tr th {\n",
       "        vertical-align: top;\n",
       "    }\n",
       "\n",
       "    .dataframe thead th {\n",
       "        text-align: right;\n",
       "    }\n",
       "</style>\n",
       "<table border=\"1\" class=\"dataframe\">\n",
       "  <thead>\n",
       "    <tr style=\"text-align: right;\">\n",
       "      <th></th>\n",
       "      <th>state</th>\n",
       "      <th>murder</th>\n",
       "      <th>Forcible_rate</th>\n",
       "      <th>Robbery</th>\n",
       "      <th>aggravated_assult</th>\n",
       "      <th>burglary</th>\n",
       "      <th>larceny_theft</th>\n",
       "      <th>motor_vehicle_theft</th>\n",
       "      <th>population</th>\n",
       "    </tr>\n",
       "  </thead>\n",
       "  <tbody>\n",
       "    <tr>\n",
       "      <th>0</th>\n",
       "      <td>Alabama</td>\n",
       "      <td>8.2</td>\n",
       "      <td>34.3</td>\n",
       "      <td>141.4</td>\n",
       "      <td>247.8</td>\n",
       "      <td>953.8</td>\n",
       "      <td>2650.0</td>\n",
       "      <td>288.3</td>\n",
       "      <td>4627851</td>\n",
       "    </tr>\n",
       "    <tr>\n",
       "      <th>1</th>\n",
       "      <td>Alaska</td>\n",
       "      <td>4.8</td>\n",
       "      <td>81.1</td>\n",
       "      <td>80.9</td>\n",
       "      <td>465.1</td>\n",
       "      <td>622.5</td>\n",
       "      <td>2599.1</td>\n",
       "      <td>391.0</td>\n",
       "      <td>686293</td>\n",
       "    </tr>\n",
       "    <tr>\n",
       "      <th>2</th>\n",
       "      <td>Arizona</td>\n",
       "      <td>7.5</td>\n",
       "      <td>33.8</td>\n",
       "      <td>144.4</td>\n",
       "      <td>327.4</td>\n",
       "      <td>948.4</td>\n",
       "      <td>2965.2</td>\n",
       "      <td>924.4</td>\n",
       "      <td>6500180</td>\n",
       "    </tr>\n",
       "    <tr>\n",
       "      <th>3</th>\n",
       "      <td>Arkansas</td>\n",
       "      <td>6.7</td>\n",
       "      <td>42.9</td>\n",
       "      <td>91.1</td>\n",
       "      <td>386.8</td>\n",
       "      <td>1084.6</td>\n",
       "      <td>2711.2</td>\n",
       "      <td>262.1</td>\n",
       "      <td>2855390</td>\n",
       "    </tr>\n",
       "    <tr>\n",
       "      <th>4</th>\n",
       "      <td>California</td>\n",
       "      <td>6.9</td>\n",
       "      <td>26.0</td>\n",
       "      <td>176.1</td>\n",
       "      <td>317.3</td>\n",
       "      <td>693.3</td>\n",
       "      <td>1916.5</td>\n",
       "      <td>712.8</td>\n",
       "      <td>36756666</td>\n",
       "    </tr>\n",
       "  </tbody>\n",
       "</table>\n",
       "</div>"
      ],
      "text/plain": [
       "         state   murder   Forcible_rate   Robbery   aggravated_assult  \\\n",
       "0     Alabama       8.2            34.3     141.4               247.8   \n",
       "1      Alaska       4.8            81.1      80.9               465.1   \n",
       "2     Arizona       7.5            33.8     144.4               327.4   \n",
       "3     Arkansas      6.7            42.9      91.1               386.8   \n",
       "4  California       6.9            26.0     176.1               317.3   \n",
       "\n",
       "    burglary   larceny_theft   motor_vehicle_theft   population  \n",
       "0      953.8          2650.0                 288.3      4627851  \n",
       "1      622.5          2599.1                 391.0       686293  \n",
       "2      948.4          2965.2                 924.4      6500180  \n",
       "3     1084.6          2711.2                 262.1      2855390  \n",
       "4      693.3          1916.5                 712.8     36756666  "
      ]
     },
     "execution_count": 1,
     "metadata": {},
     "output_type": "execute_result"
    }
   ],
   "source": [
    "import pandas as pd\n",
    "crime = pd.read_csv(\"/dsa/data/all_datasets/crime.csv\")\n",
    "\n",
    "crime.head()"
   ]
  },
  {
   "cell_type": "code",
   "execution_count": 2,
   "metadata": {},
   "outputs": [
    {
     "data": {
      "text/plain": [
       "['state',\n",
       " ' murder',\n",
       " ' Forcible_rate',\n",
       " ' Robbery',\n",
       " ' aggravated_assult',\n",
       " ' burglary',\n",
       " ' larceny_theft',\n",
       " ' motor_vehicle_theft',\n",
       " ' population']"
      ]
     },
     "execution_count": 2,
     "metadata": {},
     "output_type": "execute_result"
    }
   ],
   "source": [
    "list(crime)"
   ]
  },
  {
   "cell_type": "markdown",
   "metadata": {},
   "source": [
    "The column names have a space in front of them. remove the spaces or update the column names before trying to access them. "
   ]
  },
  {
   "cell_type": "code",
   "execution_count": 3,
   "metadata": {},
   "outputs": [],
   "source": [
    "crime.rename(index=str, columns={\" murder\": \"murder\", \" Forcible_rate\": \"Forcible_rate\", \" Robbery\":\"Robbery\", \\\n",
    "                                \" aggravated_assult\":\"aggravated_assult\", \" burglary\":\"burglary\", \\\n",
    "                                 \" larceny_theft\":\"larceny_theft\", \" motor_vehicle_theft\":\"motor_vehicle_theft\", \\\n",
    "                                \" population\":\"population\"}, inplace=True)"
   ]
  },
  {
   "cell_type": "code",
   "execution_count": 4,
   "metadata": {},
   "outputs": [
    {
     "data": {
      "text/plain": [
       "['state',\n",
       " 'murder',\n",
       " 'Forcible_rate',\n",
       " 'Robbery',\n",
       " 'aggravated_assult',\n",
       " 'burglary',\n",
       " 'larceny_theft',\n",
       " 'motor_vehicle_theft',\n",
       " 'population']"
      ]
     },
     "execution_count": 4,
     "metadata": {},
     "output_type": "execute_result"
    }
   ],
   "source": [
    "list(crime)"
   ]
  },
  {
   "cell_type": "code",
   "execution_count": 5,
   "metadata": {},
   "outputs": [
    {
     "data": {
      "text/plain": [
       "<Figure size 1400x1000 with 1 Axes>"
      ]
     },
     "metadata": {},
     "output_type": "display_data"
    }
   ],
   "source": [
    "import numpy as np\n",
    "import matplotlib.pyplot as plt\n",
    "\n",
    "# facecolor is just the background color of the plot and figsize controls the size of the plot\n",
    "fig, ax = plt.subplots(facecolor='w', figsize=(14, 10))\n",
    "\n",
    "# the bubbles on the plot are plotted based on population of each datapoint. Since the population numbers are huge, \n",
    "# radius variable has smaller numbers.  \n",
    "radius = np.sqrt(crime[\"population\"].astype(float)/np.pi)\n",
    "\n",
    "# Each iteration will give the row index value and the row in dataframe. \n",
    "# Draw the point on the plot and annonate it with state name\n",
    "for key, row in crime.iterrows():\n",
    "    ax.scatter(row['murder'], row['burglary'], s=radius[key], alpha=.5)\n",
    "    ax.annotate(row['state'], xy=(row['murder'], row['burglary']))\n",
    "plt.show()    "
   ]
  },
  {
   "cell_type": "markdown",
   "metadata": {},
   "source": [
    "### Let's create the above plot in plotly"
   ]
  },
  {
   "cell_type": "code",
   "execution_count": 6,
   "metadata": {},
   "outputs": [
    {
     "data": {
      "text/html": [
       "        <script type=\"text/javascript\">\n",
       "        window.PlotlyConfig = {MathJaxConfig: 'local'};\n",
       "        if (window.MathJax) {MathJax.Hub.Config({SVG: {font: \"STIX-Web\"}});}\n",
       "        if (typeof require !== 'undefined') {\n",
       "        require.undef(\"plotly\");\n",
       "        requirejs.config({\n",
       "            paths: {\n",
       "                'plotly': ['https://cdn.plot.ly/plotly-latest.min']\n",
       "            }\n",
       "        });\n",
       "        require(['plotly'], function(Plotly) {\n",
       "            window._Plotly = Plotly;\n",
       "        });\n",
       "        }\n",
       "        </script>\n",
       "        "
      ]
     },
     "metadata": {},
     "output_type": "display_data"
    }
   ],
   "source": [
    "import pandas as pd\n",
    "import numpy as np\n",
    "\n",
    "# Plotly in Python \n",
    "from plotly.offline import download_plotlyjs, init_notebook_mode, plot, iplot\n",
    "import plotly.graph_objs as go\n",
    "\n",
    "init_notebook_mode(connected=True)"
   ]
  },
  {
   "cell_type": "code",
   "execution_count": 7,
   "metadata": {},
   "outputs": [],
   "source": [
    "# The reduced values in radius variable are still big for plotly plot. new_radius has normalized values that can fit \n",
    "# in the plot. \n",
    "new_radius = radius/50"
   ]
  },
  {
   "cell_type": "markdown",
   "metadata": {},
   "source": [
    "(**[text and annotations](https://plot.ly/python/text-and-annotations/#custom-text-color-and-styling) : this link has many options you can play with while drawing a bubble chart.**)\n",
    "\n",
    "The plot has murder on x-axis and burglary on y-axis. The value of mode \"markers+text\" is drawing the bubbles which are markers, and text is displaying text on these markers. state is given to text argument which is displayed on bubbles. market attribute is used to customize the size and color of bubbles."
   ]
  },
  {
   "cell_type": "code",
   "execution_count": 8,
   "metadata": {
    "scrolled": false
   },
   "outputs": [
    {
     "data": {
      "application/vnd.plotly.v1+json": {
       "config": {
        "linkText": "Export to plot.ly",
        "plotlyServerURL": "https://plot.ly",
        "showLink": false
       },
       "data": [
        {
         "marker": {
          "color": [
           247.8,
           465.1,
           327.4,
           386.8,
           317.3,
           264.7,
           138.6,
           428.2,
           496.6,
           264.3,
           147.8,
           195.4,
           330.2,
           179.9,
           223.3,
           280,
           139.8,
           435.1,
           61.7,
           413.8,
           308.1,
           362.9,
           158.7,
           149.4,
           366.4,
           228.5,
           192.5,
           361.5,
           72.3,
           184.4,
           541.9,
           239.7,
           289.4,
           65.5,
           143.4,
           370.5,
           181.8,
           235,
           146.1,
           579,
           108.1,
           541.9,
           329.8,
           143.4,
           83.5,
           154.8,
           205.8,
           206.1,
           135.2,
           188.1
          ],
          "colorscale": [
           [
            0,
            "#440154"
           ],
           [
            0.1111111111111111,
            "#482878"
           ],
           [
            0.2222222222222222,
            "#3e4989"
           ],
           [
            0.3333333333333333,
            "#31688e"
           ],
           [
            0.4444444444444444,
            "#26828e"
           ],
           [
            0.5555555555555556,
            "#1f9e89"
           ],
           [
            0.6666666666666666,
            "#35b779"
           ],
           [
            0.7777777777777778,
            "#6ece58"
           ],
           [
            0.8888888888888888,
            "#b5de2b"
           ],
           [
            1,
            "#fde725"
           ]
          ],
          "showscale": true,
          "size": [
           24.274189791509347,
           9.347809298840712,
           28.768535284050543,
           19.067237512658554,
           68.41055524100243,
           24.879455671945806,
           21.11381657229,
           10.543506345575523,
           48.307729482300516,
           35.117335150864356,
           12.806969333330766,
           13.929044439946901,
           40.52996447135381,
           28.49418141121241,
           19.55242123431849,
           18.888588667359244,
           23.31474117412173,
           23.69810095969649,
           12.94667462363936,
           26.782304754261496,
           28.763637712890404,
           35.688587073564165,
           25.78140959423792,
           19.343124474785746,
           27.43517679705037,
           11.098571372742464,
           15.068961967388864,
           18.19515168201517,
           12.943492774820982,
           33.24922155288715,
           15.895158162259627,
           49.81547638940444,
           34.26710113610311,
           9.037471861069648,
           38.24175050814104,
           21.535083146812116,
           21.96737187038757,
           39.81160771269642,
           11.566783626977605,
           23.882752170770818,
           10.118950550520292,
           28.130128275036405,
           55.65434870748569,
           18.665806299119183,
           8.893961614250506,
           31.45140909620261,
           28.8768609515103,
           15.19951449966913,
           26.76891880682617,
           8.235374683734735
          ]
         },
         "mode": "markers+text",
         "text": [
          "Alabama ",
          "Alaska ",
          "Arizona ",
          "Arkansas",
          "California ",
          "Colorado ",
          "Connecticut ",
          "Delaware ",
          "Florida ",
          "Georgia ",
          "Hawaii ",
          "Idaho ",
          "Illinois ",
          "Indiana ",
          "Iowa ",
          "Kansas  ",
          "Kentucky  ",
          "Louisiana ",
          "Maine ",
          "Maryland ",
          "Massachusetts",
          "Michigan",
          "Minnesota ",
          "Mississippi ",
          "Missouri ",
          "Montana  ",
          "Nebraska ",
          "Nevada ",
          "New Hampshire ",
          "New Jersey",
          "New Mexico ",
          "New York",
          "North Carolina ",
          "North Dakota ",
          "Ohio ",
          "Oklahoma ",
          "Oregon ",
          "Pennsylvania",
          "Rhode Island ",
          "South Carolina ",
          "South Dakota ",
          "Tennessee ",
          "Texas ",
          "Utah",
          "Vermont ",
          "Virginia ",
          "Washington ",
          "West Virginia ",
          "Wisconsin ",
          "Wyoming "
         ],
         "textfont": {
          "color": "#337711",
          "size": 10
         },
         "type": "scatter",
         "x": [
          8.2,
          4.8,
          7.5,
          6.7,
          6.9,
          3.7,
          2.9,
          4.4,
          5,
          6.2,
          1.9,
          2.4,
          6,
          5.7,
          1.3,
          3.7,
          4.6,
          9.9,
          1.4,
          9.9,
          2.7,
          6.1,
          2.2,
          7.3,
          6.9,
          1.9,
          2.5,
          8.5,
          1.4,
          4.8,
          7.4,
          4.5,
          6.7,
          1.1,
          5.1,
          5.3,
          2.2,
          6.1,
          3.2,
          7.4,
          2.3,
          7.2,
          6.2,
          2.3,
          1.3,
          6.1,
          3.3,
          4.4,
          3.5,
          2.7
         ],
         "y": [
          953.8,
          622.5,
          948.4,
          1084.6,
          693.3,
          744.8,
          437.1,
          688.9,
          926.3,
          931,
          767.9,
          564.4,
          606.9,
          697.6,
          606.4,
          689.2,
          634,
          870.6,
          478.5,
          641.4,
          541.1,
          696.8,
          578.9,
          919.7,
          738.3,
          389.2,
          532.4,
          972.4,
          317,
          447.1,
          1093.9,
          353.3,
          1201.1,
          311.9,
          872.8,
          1006,
          758.6,
          451.6,
          494.2,
          1000.9,
          324.4,
          1026.9,
          961.6,
          606.2,
          491.8,
          392.1,
          959.7,
          621.2,
          440.8,
          476.3
         ]
        }
       ],
       "layout": {
        "template": {
         "data": {
          "bar": [
           {
            "error_x": {
             "color": "#2a3f5f"
            },
            "error_y": {
             "color": "#2a3f5f"
            },
            "marker": {
             "line": {
              "color": "#E5ECF6",
              "width": 0.5
             }
            },
            "type": "bar"
           }
          ],
          "barpolar": [
           {
            "marker": {
             "line": {
              "color": "#E5ECF6",
              "width": 0.5
             }
            },
            "type": "barpolar"
           }
          ],
          "carpet": [
           {
            "aaxis": {
             "endlinecolor": "#2a3f5f",
             "gridcolor": "white",
             "linecolor": "white",
             "minorgridcolor": "white",
             "startlinecolor": "#2a3f5f"
            },
            "baxis": {
             "endlinecolor": "#2a3f5f",
             "gridcolor": "white",
             "linecolor": "white",
             "minorgridcolor": "white",
             "startlinecolor": "#2a3f5f"
            },
            "type": "carpet"
           }
          ],
          "choropleth": [
           {
            "colorbar": {
             "outlinewidth": 0,
             "ticks": ""
            },
            "type": "choropleth"
           }
          ],
          "contour": [
           {
            "colorbar": {
             "outlinewidth": 0,
             "ticks": ""
            },
            "colorscale": [
             [
              0,
              "#0d0887"
             ],
             [
              0.1111111111111111,
              "#46039f"
             ],
             [
              0.2222222222222222,
              "#7201a8"
             ],
             [
              0.3333333333333333,
              "#9c179e"
             ],
             [
              0.4444444444444444,
              "#bd3786"
             ],
             [
              0.5555555555555556,
              "#d8576b"
             ],
             [
              0.6666666666666666,
              "#ed7953"
             ],
             [
              0.7777777777777778,
              "#fb9f3a"
             ],
             [
              0.8888888888888888,
              "#fdca26"
             ],
             [
              1,
              "#f0f921"
             ]
            ],
            "type": "contour"
           }
          ],
          "contourcarpet": [
           {
            "colorbar": {
             "outlinewidth": 0,
             "ticks": ""
            },
            "type": "contourcarpet"
           }
          ],
          "heatmap": [
           {
            "colorbar": {
             "outlinewidth": 0,
             "ticks": ""
            },
            "colorscale": [
             [
              0,
              "#0d0887"
             ],
             [
              0.1111111111111111,
              "#46039f"
             ],
             [
              0.2222222222222222,
              "#7201a8"
             ],
             [
              0.3333333333333333,
              "#9c179e"
             ],
             [
              0.4444444444444444,
              "#bd3786"
             ],
             [
              0.5555555555555556,
              "#d8576b"
             ],
             [
              0.6666666666666666,
              "#ed7953"
             ],
             [
              0.7777777777777778,
              "#fb9f3a"
             ],
             [
              0.8888888888888888,
              "#fdca26"
             ],
             [
              1,
              "#f0f921"
             ]
            ],
            "type": "heatmap"
           }
          ],
          "heatmapgl": [
           {
            "colorbar": {
             "outlinewidth": 0,
             "ticks": ""
            },
            "colorscale": [
             [
              0,
              "#0d0887"
             ],
             [
              0.1111111111111111,
              "#46039f"
             ],
             [
              0.2222222222222222,
              "#7201a8"
             ],
             [
              0.3333333333333333,
              "#9c179e"
             ],
             [
              0.4444444444444444,
              "#bd3786"
             ],
             [
              0.5555555555555556,
              "#d8576b"
             ],
             [
              0.6666666666666666,
              "#ed7953"
             ],
             [
              0.7777777777777778,
              "#fb9f3a"
             ],
             [
              0.8888888888888888,
              "#fdca26"
             ],
             [
              1,
              "#f0f921"
             ]
            ],
            "type": "heatmapgl"
           }
          ],
          "histogram": [
           {
            "marker": {
             "colorbar": {
              "outlinewidth": 0,
              "ticks": ""
             }
            },
            "type": "histogram"
           }
          ],
          "histogram2d": [
           {
            "colorbar": {
             "outlinewidth": 0,
             "ticks": ""
            },
            "colorscale": [
             [
              0,
              "#0d0887"
             ],
             [
              0.1111111111111111,
              "#46039f"
             ],
             [
              0.2222222222222222,
              "#7201a8"
             ],
             [
              0.3333333333333333,
              "#9c179e"
             ],
             [
              0.4444444444444444,
              "#bd3786"
             ],
             [
              0.5555555555555556,
              "#d8576b"
             ],
             [
              0.6666666666666666,
              "#ed7953"
             ],
             [
              0.7777777777777778,
              "#fb9f3a"
             ],
             [
              0.8888888888888888,
              "#fdca26"
             ],
             [
              1,
              "#f0f921"
             ]
            ],
            "type": "histogram2d"
           }
          ],
          "histogram2dcontour": [
           {
            "colorbar": {
             "outlinewidth": 0,
             "ticks": ""
            },
            "colorscale": [
             [
              0,
              "#0d0887"
             ],
             [
              0.1111111111111111,
              "#46039f"
             ],
             [
              0.2222222222222222,
              "#7201a8"
             ],
             [
              0.3333333333333333,
              "#9c179e"
             ],
             [
              0.4444444444444444,
              "#bd3786"
             ],
             [
              0.5555555555555556,
              "#d8576b"
             ],
             [
              0.6666666666666666,
              "#ed7953"
             ],
             [
              0.7777777777777778,
              "#fb9f3a"
             ],
             [
              0.8888888888888888,
              "#fdca26"
             ],
             [
              1,
              "#f0f921"
             ]
            ],
            "type": "histogram2dcontour"
           }
          ],
          "mesh3d": [
           {
            "colorbar": {
             "outlinewidth": 0,
             "ticks": ""
            },
            "type": "mesh3d"
           }
          ],
          "parcoords": [
           {
            "line": {
             "colorbar": {
              "outlinewidth": 0,
              "ticks": ""
             }
            },
            "type": "parcoords"
           }
          ],
          "scatter": [
           {
            "marker": {
             "colorbar": {
              "outlinewidth": 0,
              "ticks": ""
             }
            },
            "type": "scatter"
           }
          ],
          "scatter3d": [
           {
            "line": {
             "colorbar": {
              "outlinewidth": 0,
              "ticks": ""
             }
            },
            "marker": {
             "colorbar": {
              "outlinewidth": 0,
              "ticks": ""
             }
            },
            "type": "scatter3d"
           }
          ],
          "scattercarpet": [
           {
            "marker": {
             "colorbar": {
              "outlinewidth": 0,
              "ticks": ""
             }
            },
            "type": "scattercarpet"
           }
          ],
          "scattergeo": [
           {
            "marker": {
             "colorbar": {
              "outlinewidth": 0,
              "ticks": ""
             }
            },
            "type": "scattergeo"
           }
          ],
          "scattergl": [
           {
            "marker": {
             "colorbar": {
              "outlinewidth": 0,
              "ticks": ""
             }
            },
            "type": "scattergl"
           }
          ],
          "scattermapbox": [
           {
            "marker": {
             "colorbar": {
              "outlinewidth": 0,
              "ticks": ""
             }
            },
            "type": "scattermapbox"
           }
          ],
          "scatterpolar": [
           {
            "marker": {
             "colorbar": {
              "outlinewidth": 0,
              "ticks": ""
             }
            },
            "type": "scatterpolar"
           }
          ],
          "scatterpolargl": [
           {
            "marker": {
             "colorbar": {
              "outlinewidth": 0,
              "ticks": ""
             }
            },
            "type": "scatterpolargl"
           }
          ],
          "scatterternary": [
           {
            "marker": {
             "colorbar": {
              "outlinewidth": 0,
              "ticks": ""
             }
            },
            "type": "scatterternary"
           }
          ],
          "surface": [
           {
            "colorbar": {
             "outlinewidth": 0,
             "ticks": ""
            },
            "colorscale": [
             [
              0,
              "#0d0887"
             ],
             [
              0.1111111111111111,
              "#46039f"
             ],
             [
              0.2222222222222222,
              "#7201a8"
             ],
             [
              0.3333333333333333,
              "#9c179e"
             ],
             [
              0.4444444444444444,
              "#bd3786"
             ],
             [
              0.5555555555555556,
              "#d8576b"
             ],
             [
              0.6666666666666666,
              "#ed7953"
             ],
             [
              0.7777777777777778,
              "#fb9f3a"
             ],
             [
              0.8888888888888888,
              "#fdca26"
             ],
             [
              1,
              "#f0f921"
             ]
            ],
            "type": "surface"
           }
          ],
          "table": [
           {
            "cells": {
             "fill": {
              "color": "#EBF0F8"
             },
             "line": {
              "color": "white"
             }
            },
            "header": {
             "fill": {
              "color": "#C8D4E3"
             },
             "line": {
              "color": "white"
             }
            },
            "type": "table"
           }
          ]
         },
         "layout": {
          "annotationdefaults": {
           "arrowcolor": "#2a3f5f",
           "arrowhead": 0,
           "arrowwidth": 1
          },
          "colorscale": {
           "diverging": [
            [
             0,
             "#8e0152"
            ],
            [
             0.1,
             "#c51b7d"
            ],
            [
             0.2,
             "#de77ae"
            ],
            [
             0.3,
             "#f1b6da"
            ],
            [
             0.4,
             "#fde0ef"
            ],
            [
             0.5,
             "#f7f7f7"
            ],
            [
             0.6,
             "#e6f5d0"
            ],
            [
             0.7,
             "#b8e186"
            ],
            [
             0.8,
             "#7fbc41"
            ],
            [
             0.9,
             "#4d9221"
            ],
            [
             1,
             "#276419"
            ]
           ],
           "sequential": [
            [
             0,
             "#0d0887"
            ],
            [
             0.1111111111111111,
             "#46039f"
            ],
            [
             0.2222222222222222,
             "#7201a8"
            ],
            [
             0.3333333333333333,
             "#9c179e"
            ],
            [
             0.4444444444444444,
             "#bd3786"
            ],
            [
             0.5555555555555556,
             "#d8576b"
            ],
            [
             0.6666666666666666,
             "#ed7953"
            ],
            [
             0.7777777777777778,
             "#fb9f3a"
            ],
            [
             0.8888888888888888,
             "#fdca26"
            ],
            [
             1,
             "#f0f921"
            ]
           ],
           "sequentialminus": [
            [
             0,
             "#0d0887"
            ],
            [
             0.1111111111111111,
             "#46039f"
            ],
            [
             0.2222222222222222,
             "#7201a8"
            ],
            [
             0.3333333333333333,
             "#9c179e"
            ],
            [
             0.4444444444444444,
             "#bd3786"
            ],
            [
             0.5555555555555556,
             "#d8576b"
            ],
            [
             0.6666666666666666,
             "#ed7953"
            ],
            [
             0.7777777777777778,
             "#fb9f3a"
            ],
            [
             0.8888888888888888,
             "#fdca26"
            ],
            [
             1,
             "#f0f921"
            ]
           ]
          },
          "colorway": [
           "#636efa",
           "#EF553B",
           "#00cc96",
           "#ab63fa",
           "#FFA15A",
           "#19d3f3",
           "#FF6692",
           "#B6E880",
           "#FF97FF",
           "#FECB52"
          ],
          "font": {
           "color": "#2a3f5f"
          },
          "geo": {
           "bgcolor": "white",
           "lakecolor": "white",
           "landcolor": "#E5ECF6",
           "showlakes": true,
           "showland": true,
           "subunitcolor": "white"
          },
          "hoverlabel": {
           "align": "left"
          },
          "hovermode": "closest",
          "mapbox": {
           "style": "light"
          },
          "paper_bgcolor": "white",
          "plot_bgcolor": "#E5ECF6",
          "polar": {
           "angularaxis": {
            "gridcolor": "white",
            "linecolor": "white",
            "ticks": ""
           },
           "bgcolor": "#E5ECF6",
           "radialaxis": {
            "gridcolor": "white",
            "linecolor": "white",
            "ticks": ""
           }
          },
          "scene": {
           "xaxis": {
            "backgroundcolor": "#E5ECF6",
            "gridcolor": "white",
            "gridwidth": 2,
            "linecolor": "white",
            "showbackground": true,
            "ticks": "",
            "zerolinecolor": "white"
           },
           "yaxis": {
            "backgroundcolor": "#E5ECF6",
            "gridcolor": "white",
            "gridwidth": 2,
            "linecolor": "white",
            "showbackground": true,
            "ticks": "",
            "zerolinecolor": "white"
           },
           "zaxis": {
            "backgroundcolor": "#E5ECF6",
            "gridcolor": "white",
            "gridwidth": 2,
            "linecolor": "white",
            "showbackground": true,
            "ticks": "",
            "zerolinecolor": "white"
           }
          },
          "shapedefaults": {
           "line": {
            "color": "#2a3f5f"
           }
          },
          "ternary": {
           "aaxis": {
            "gridcolor": "white",
            "linecolor": "white",
            "ticks": ""
           },
           "baxis": {
            "gridcolor": "white",
            "linecolor": "white",
            "ticks": ""
           },
           "bgcolor": "#E5ECF6",
           "caxis": {
            "gridcolor": "white",
            "linecolor": "white",
            "ticks": ""
           }
          },
          "title": {
           "x": 0.05
          },
          "xaxis": {
           "automargin": true,
           "gridcolor": "white",
           "linecolor": "white",
           "ticks": "",
           "zerolinecolor": "white",
           "zerolinewidth": 2
          },
          "yaxis": {
           "automargin": true,
           "gridcolor": "white",
           "linecolor": "white",
           "ticks": "",
           "zerolinecolor": "white",
           "zerolinewidth": 2
          }
         }
        }
       }
      },
      "text/html": [
       "<div>\n",
       "        \n",
       "        \n",
       "            <div id=\"a90f0405-ae9e-4b16-a693-e35a2763528f\" class=\"plotly-graph-div\" style=\"height:525px; width:100%;\"></div>\n",
       "            <script type=\"text/javascript\">\n",
       "                require([\"plotly\"], function(Plotly) {\n",
       "                    window.PLOTLYENV=window.PLOTLYENV || {};\n",
       "                    \n",
       "                if (document.getElementById(\"a90f0405-ae9e-4b16-a693-e35a2763528f\")) {\n",
       "                    Plotly.newPlot(\n",
       "                        'a90f0405-ae9e-4b16-a693-e35a2763528f',\n",
       "                        [{\"marker\": {\"color\": [247.8, 465.1, 327.4, 386.8, 317.3, 264.7, 138.6, 428.2, 496.6, 264.3, 147.8, 195.4, 330.2, 179.9, 223.3, 280.0, 139.8, 435.1, 61.7, 413.8, 308.1, 362.9, 158.7, 149.4, 366.4, 228.5, 192.5, 361.5, 72.3, 184.4, 541.9, 239.7, 289.4, 65.5, 143.4, 370.5, 181.8, 235.0, 146.1, 579.0, 108.1, 541.9, 329.8, 143.4, 83.5, 154.8, 205.8, 206.1, 135.2, 188.1], \"colorscale\": [[0.0, \"#440154\"], [0.1111111111111111, \"#482878\"], [0.2222222222222222, \"#3e4989\"], [0.3333333333333333, \"#31688e\"], [0.4444444444444444, \"#26828e\"], [0.5555555555555556, \"#1f9e89\"], [0.6666666666666666, \"#35b779\"], [0.7777777777777778, \"#6ece58\"], [0.8888888888888888, \"#b5de2b\"], [1.0, \"#fde725\"]], \"showscale\": true, \"size\": [24.274189791509347, 9.347809298840712, 28.768535284050543, 19.067237512658554, 68.41055524100243, 24.879455671945806, 21.11381657229, 10.543506345575523, 48.307729482300516, 35.117335150864356, 12.806969333330766, 13.929044439946901, 40.52996447135381, 28.49418141121241, 19.55242123431849, 18.888588667359244, 23.31474117412173, 23.69810095969649, 12.94667462363936, 26.782304754261496, 28.763637712890404, 35.688587073564165, 25.78140959423792, 19.343124474785746, 27.43517679705037, 11.098571372742464, 15.068961967388864, 18.19515168201517, 12.943492774820982, 33.24922155288715, 15.895158162259627, 49.81547638940444, 34.26710113610311, 9.037471861069648, 38.24175050814104, 21.535083146812116, 21.96737187038757, 39.81160771269642, 11.566783626977605, 23.882752170770818, 10.118950550520292, 28.130128275036405, 55.65434870748569, 18.665806299119183, 8.893961614250506, 31.45140909620261, 28.8768609515103, 15.19951449966913, 26.76891880682617, 8.235374683734735]}, \"mode\": \"markers+text\", \"text\": [\"Alabama \", \"Alaska \", \"Arizona \", \"Arkansas\", \"California \", \"Colorado \", \"Connecticut \", \"Delaware \", \"Florida \", \"Georgia \", \"Hawaii \", \"Idaho \", \"Illinois \", \"Indiana \", \"Iowa \", \"Kansas  \", \"Kentucky  \", \"Louisiana \", \"Maine \", \"Maryland \", \"Massachusetts\", \"Michigan\", \"Minnesota \", \"Mississippi \", \"Missouri \", \"Montana  \", \"Nebraska \", \"Nevada \", \"New Hampshire \", \"New Jersey\", \"New Mexico \", \"New York\", \"North Carolina \", \"North Dakota \", \"Ohio \", \"Oklahoma \", \"Oregon \", \"Pennsylvania\", \"Rhode Island \", \"South Carolina \", \"South Dakota \", \"Tennessee \", \"Texas \", \"Utah\", \"Vermont \", \"Virginia \", \"Washington \", \"West Virginia \", \"Wisconsin \", \"Wyoming \"], \"textfont\": {\"color\": \"#337711\", \"size\": 10}, \"type\": \"scatter\", \"x\": [8.2, 4.8, 7.5, 6.7, 6.9, 3.7, 2.9, 4.4, 5.0, 6.2, 1.9, 2.4, 6.0, 5.7, 1.3, 3.7, 4.6, 9.9, 1.4, 9.9, 2.7, 6.1, 2.2, 7.3, 6.9, 1.9, 2.5, 8.5, 1.4, 4.8, 7.4, 4.5, 6.7, 1.1, 5.1, 5.3, 2.2, 6.1, 3.2, 7.4, 2.3, 7.2, 6.2, 2.3, 1.3, 6.1, 3.3, 4.4, 3.5, 2.7], \"y\": [953.8, 622.5, 948.4, 1084.6, 693.3, 744.8, 437.1, 688.9, 926.3, 931.0, 767.9, 564.4, 606.9, 697.6, 606.4, 689.2, 634.0, 870.6, 478.5, 641.4, 541.1, 696.8, 578.9, 919.7, 738.3, 389.2, 532.4, 972.4, 317.0, 447.1, 1093.9, 353.3, 1201.1, 311.9, 872.8, 1006.0, 758.6, 451.6, 494.2, 1000.9, 324.4, 1026.9, 961.6, 606.2, 491.8, 392.1, 959.7, 621.2, 440.8, 476.3]}],\n",
       "                        {\"template\": {\"data\": {\"bar\": [{\"error_x\": {\"color\": \"#2a3f5f\"}, \"error_y\": {\"color\": \"#2a3f5f\"}, \"marker\": {\"line\": {\"color\": \"#E5ECF6\", \"width\": 0.5}}, \"type\": \"bar\"}], \"barpolar\": [{\"marker\": {\"line\": {\"color\": \"#E5ECF6\", \"width\": 0.5}}, \"type\": \"barpolar\"}], \"carpet\": [{\"aaxis\": {\"endlinecolor\": \"#2a3f5f\", \"gridcolor\": \"white\", \"linecolor\": \"white\", \"minorgridcolor\": \"white\", \"startlinecolor\": \"#2a3f5f\"}, \"baxis\": {\"endlinecolor\": \"#2a3f5f\", \"gridcolor\": \"white\", \"linecolor\": \"white\", \"minorgridcolor\": \"white\", \"startlinecolor\": \"#2a3f5f\"}, \"type\": \"carpet\"}], \"choropleth\": [{\"colorbar\": {\"outlinewidth\": 0, \"ticks\": \"\"}, \"type\": \"choropleth\"}], \"contour\": [{\"colorbar\": {\"outlinewidth\": 0, \"ticks\": \"\"}, \"colorscale\": [[0.0, \"#0d0887\"], [0.1111111111111111, \"#46039f\"], [0.2222222222222222, \"#7201a8\"], [0.3333333333333333, \"#9c179e\"], [0.4444444444444444, \"#bd3786\"], [0.5555555555555556, \"#d8576b\"], [0.6666666666666666, \"#ed7953\"], [0.7777777777777778, \"#fb9f3a\"], [0.8888888888888888, \"#fdca26\"], [1.0, \"#f0f921\"]], \"type\": \"contour\"}], \"contourcarpet\": [{\"colorbar\": {\"outlinewidth\": 0, \"ticks\": \"\"}, \"type\": \"contourcarpet\"}], \"heatmap\": [{\"colorbar\": {\"outlinewidth\": 0, \"ticks\": \"\"}, \"colorscale\": [[0.0, \"#0d0887\"], [0.1111111111111111, \"#46039f\"], [0.2222222222222222, \"#7201a8\"], [0.3333333333333333, \"#9c179e\"], [0.4444444444444444, \"#bd3786\"], [0.5555555555555556, \"#d8576b\"], [0.6666666666666666, \"#ed7953\"], [0.7777777777777778, \"#fb9f3a\"], [0.8888888888888888, \"#fdca26\"], [1.0, \"#f0f921\"]], \"type\": \"heatmap\"}], \"heatmapgl\": [{\"colorbar\": {\"outlinewidth\": 0, \"ticks\": \"\"}, \"colorscale\": [[0.0, \"#0d0887\"], [0.1111111111111111, \"#46039f\"], [0.2222222222222222, \"#7201a8\"], [0.3333333333333333, \"#9c179e\"], [0.4444444444444444, \"#bd3786\"], [0.5555555555555556, \"#d8576b\"], [0.6666666666666666, \"#ed7953\"], [0.7777777777777778, \"#fb9f3a\"], [0.8888888888888888, \"#fdca26\"], [1.0, \"#f0f921\"]], \"type\": \"heatmapgl\"}], \"histogram\": [{\"marker\": {\"colorbar\": {\"outlinewidth\": 0, \"ticks\": \"\"}}, \"type\": \"histogram\"}], \"histogram2d\": [{\"colorbar\": {\"outlinewidth\": 0, \"ticks\": \"\"}, \"colorscale\": [[0.0, \"#0d0887\"], [0.1111111111111111, \"#46039f\"], [0.2222222222222222, \"#7201a8\"], [0.3333333333333333, \"#9c179e\"], [0.4444444444444444, \"#bd3786\"], [0.5555555555555556, \"#d8576b\"], [0.6666666666666666, \"#ed7953\"], [0.7777777777777778, \"#fb9f3a\"], [0.8888888888888888, \"#fdca26\"], [1.0, \"#f0f921\"]], \"type\": \"histogram2d\"}], \"histogram2dcontour\": [{\"colorbar\": {\"outlinewidth\": 0, \"ticks\": \"\"}, \"colorscale\": [[0.0, \"#0d0887\"], [0.1111111111111111, \"#46039f\"], [0.2222222222222222, \"#7201a8\"], [0.3333333333333333, \"#9c179e\"], [0.4444444444444444, \"#bd3786\"], [0.5555555555555556, \"#d8576b\"], [0.6666666666666666, \"#ed7953\"], [0.7777777777777778, \"#fb9f3a\"], [0.8888888888888888, \"#fdca26\"], [1.0, \"#f0f921\"]], \"type\": \"histogram2dcontour\"}], \"mesh3d\": [{\"colorbar\": {\"outlinewidth\": 0, \"ticks\": \"\"}, \"type\": \"mesh3d\"}], \"parcoords\": [{\"line\": {\"colorbar\": {\"outlinewidth\": 0, \"ticks\": \"\"}}, \"type\": \"parcoords\"}], \"scatter\": [{\"marker\": {\"colorbar\": {\"outlinewidth\": 0, \"ticks\": \"\"}}, \"type\": \"scatter\"}], \"scatter3d\": [{\"line\": {\"colorbar\": {\"outlinewidth\": 0, \"ticks\": \"\"}}, \"marker\": {\"colorbar\": {\"outlinewidth\": 0, \"ticks\": \"\"}}, \"type\": \"scatter3d\"}], \"scattercarpet\": [{\"marker\": {\"colorbar\": {\"outlinewidth\": 0, \"ticks\": \"\"}}, \"type\": \"scattercarpet\"}], \"scattergeo\": [{\"marker\": {\"colorbar\": {\"outlinewidth\": 0, \"ticks\": \"\"}}, \"type\": \"scattergeo\"}], \"scattergl\": [{\"marker\": {\"colorbar\": {\"outlinewidth\": 0, \"ticks\": \"\"}}, \"type\": \"scattergl\"}], \"scattermapbox\": [{\"marker\": {\"colorbar\": {\"outlinewidth\": 0, \"ticks\": \"\"}}, \"type\": \"scattermapbox\"}], \"scatterpolar\": [{\"marker\": {\"colorbar\": {\"outlinewidth\": 0, \"ticks\": \"\"}}, \"type\": \"scatterpolar\"}], \"scatterpolargl\": [{\"marker\": {\"colorbar\": {\"outlinewidth\": 0, \"ticks\": \"\"}}, \"type\": \"scatterpolargl\"}], \"scatterternary\": [{\"marker\": {\"colorbar\": {\"outlinewidth\": 0, \"ticks\": \"\"}}, \"type\": \"scatterternary\"}], \"surface\": [{\"colorbar\": {\"outlinewidth\": 0, \"ticks\": \"\"}, \"colorscale\": [[0.0, \"#0d0887\"], [0.1111111111111111, \"#46039f\"], [0.2222222222222222, \"#7201a8\"], [0.3333333333333333, \"#9c179e\"], [0.4444444444444444, \"#bd3786\"], [0.5555555555555556, \"#d8576b\"], [0.6666666666666666, \"#ed7953\"], [0.7777777777777778, \"#fb9f3a\"], [0.8888888888888888, \"#fdca26\"], [1.0, \"#f0f921\"]], \"type\": \"surface\"}], \"table\": [{\"cells\": {\"fill\": {\"color\": \"#EBF0F8\"}, \"line\": {\"color\": \"white\"}}, \"header\": {\"fill\": {\"color\": \"#C8D4E3\"}, \"line\": {\"color\": \"white\"}}, \"type\": \"table\"}]}, \"layout\": {\"annotationdefaults\": {\"arrowcolor\": \"#2a3f5f\", \"arrowhead\": 0, \"arrowwidth\": 1}, \"colorscale\": {\"diverging\": [[0, \"#8e0152\"], [0.1, \"#c51b7d\"], [0.2, \"#de77ae\"], [0.3, \"#f1b6da\"], [0.4, \"#fde0ef\"], [0.5, \"#f7f7f7\"], [0.6, \"#e6f5d0\"], [0.7, \"#b8e186\"], [0.8, \"#7fbc41\"], [0.9, \"#4d9221\"], [1, \"#276419\"]], \"sequential\": [[0.0, \"#0d0887\"], [0.1111111111111111, \"#46039f\"], [0.2222222222222222, \"#7201a8\"], [0.3333333333333333, \"#9c179e\"], [0.4444444444444444, \"#bd3786\"], [0.5555555555555556, \"#d8576b\"], [0.6666666666666666, \"#ed7953\"], [0.7777777777777778, \"#fb9f3a\"], [0.8888888888888888, \"#fdca26\"], [1.0, \"#f0f921\"]], \"sequentialminus\": [[0.0, \"#0d0887\"], [0.1111111111111111, \"#46039f\"], [0.2222222222222222, \"#7201a8\"], [0.3333333333333333, \"#9c179e\"], [0.4444444444444444, \"#bd3786\"], [0.5555555555555556, \"#d8576b\"], [0.6666666666666666, \"#ed7953\"], [0.7777777777777778, \"#fb9f3a\"], [0.8888888888888888, \"#fdca26\"], [1.0, \"#f0f921\"]]}, \"colorway\": [\"#636efa\", \"#EF553B\", \"#00cc96\", \"#ab63fa\", \"#FFA15A\", \"#19d3f3\", \"#FF6692\", \"#B6E880\", \"#FF97FF\", \"#FECB52\"], \"font\": {\"color\": \"#2a3f5f\"}, \"geo\": {\"bgcolor\": \"white\", \"lakecolor\": \"white\", \"landcolor\": \"#E5ECF6\", \"showlakes\": true, \"showland\": true, \"subunitcolor\": \"white\"}, \"hoverlabel\": {\"align\": \"left\"}, \"hovermode\": \"closest\", \"mapbox\": {\"style\": \"light\"}, \"paper_bgcolor\": \"white\", \"plot_bgcolor\": \"#E5ECF6\", \"polar\": {\"angularaxis\": {\"gridcolor\": \"white\", \"linecolor\": \"white\", \"ticks\": \"\"}, \"bgcolor\": \"#E5ECF6\", \"radialaxis\": {\"gridcolor\": \"white\", \"linecolor\": \"white\", \"ticks\": \"\"}}, \"scene\": {\"xaxis\": {\"backgroundcolor\": \"#E5ECF6\", \"gridcolor\": \"white\", \"gridwidth\": 2, \"linecolor\": \"white\", \"showbackground\": true, \"ticks\": \"\", \"zerolinecolor\": \"white\"}, \"yaxis\": {\"backgroundcolor\": \"#E5ECF6\", \"gridcolor\": \"white\", \"gridwidth\": 2, \"linecolor\": \"white\", \"showbackground\": true, \"ticks\": \"\", \"zerolinecolor\": \"white\"}, \"zaxis\": {\"backgroundcolor\": \"#E5ECF6\", \"gridcolor\": \"white\", \"gridwidth\": 2, \"linecolor\": \"white\", \"showbackground\": true, \"ticks\": \"\", \"zerolinecolor\": \"white\"}}, \"shapedefaults\": {\"line\": {\"color\": \"#2a3f5f\"}}, \"ternary\": {\"aaxis\": {\"gridcolor\": \"white\", \"linecolor\": \"white\", \"ticks\": \"\"}, \"baxis\": {\"gridcolor\": \"white\", \"linecolor\": \"white\", \"ticks\": \"\"}, \"bgcolor\": \"#E5ECF6\", \"caxis\": {\"gridcolor\": \"white\", \"linecolor\": \"white\", \"ticks\": \"\"}}, \"title\": {\"x\": 0.05}, \"xaxis\": {\"automargin\": true, \"gridcolor\": \"white\", \"linecolor\": \"white\", \"ticks\": \"\", \"zerolinecolor\": \"white\", \"zerolinewidth\": 2}, \"yaxis\": {\"automargin\": true, \"gridcolor\": \"white\", \"linecolor\": \"white\", \"ticks\": \"\", \"zerolinecolor\": \"white\", \"zerolinewidth\": 2}}}},\n",
       "                        {\"responsive\": true}\n",
       "                    ).then(function(){\n",
       "                            \n",
       "var gd = document.getElementById('a90f0405-ae9e-4b16-a693-e35a2763528f');\n",
       "var x = new MutationObserver(function (mutations, observer) {{\n",
       "        var display = window.getComputedStyle(gd).display;\n",
       "        if (!display || display === 'none') {{\n",
       "            console.log([gd, 'removed!']);\n",
       "            Plotly.purge(gd);\n",
       "            observer.disconnect();\n",
       "        }}\n",
       "}});\n",
       "\n",
       "// Listen for the removal of the full notebook cells\n",
       "var notebookContainer = gd.closest('#notebook-container');\n",
       "if (notebookContainer) {{\n",
       "    x.observe(notebookContainer, {childList: true});\n",
       "}}\n",
       "\n",
       "// Listen for the clearing of the current output cell\n",
       "var outputEl = gd.closest('.output');\n",
       "if (outputEl) {{\n",
       "    x.observe(outputEl, {childList: true});\n",
       "}}\n",
       "\n",
       "                        })\n",
       "                };\n",
       "                });\n",
       "            </script>\n",
       "        </div>"
      ]
     },
     "metadata": {},
     "output_type": "display_data"
    }
   ],
   "source": [
    "\n",
    "\n",
    "trace = go.Scatter(\n",
    "    x=crime['murder'],\n",
    "    y=crime['burglary'],\n",
    "    mode='markers+text',\n",
    "    text=crime['state'],\n",
    "    textfont=dict(\n",
    "        color='#337711',\n",
    "        size=10\n",
    "    ),\n",
    "        marker = dict(\n",
    "        size=new_radius,\n",
    "        color = crime.aggravated_assult,\n",
    "        colorscale='Viridis',\n",
    "        showscale=True\n",
    "    )\n",
    ")\n",
    "data = [trace]\n",
    "iplot(data)"
   ]
  },
  {
   "cell_type": "markdown",
   "metadata": {},
   "source": [
    "Here's the [pandas documentation](https://pandas.pydata.org/pandas-docs/stable/user_guide/visualization.html#visualization-scatter) for pandas style of creating scatter plots and bubble plots. "
   ]
  },
  {
   "cell_type": "code",
   "execution_count": 9,
   "metadata": {},
   "outputs": [],
   "source": [
    "from plotnine.data import diamonds\n",
    "import matplotlib\n",
    "\n",
    "matplotlib.style.use('ggplot')       # Use ggplot style plots*"
   ]
  },
  {
   "cell_type": "code",
   "execution_count": 10,
   "metadata": {},
   "outputs": [
    {
     "data": {
      "text/html": [
       "<div>\n",
       "<style scoped>\n",
       "    .dataframe tbody tr th:only-of-type {\n",
       "        vertical-align: middle;\n",
       "    }\n",
       "\n",
       "    .dataframe tbody tr th {\n",
       "        vertical-align: top;\n",
       "    }\n",
       "\n",
       "    .dataframe thead th {\n",
       "        text-align: right;\n",
       "    }\n",
       "</style>\n",
       "<table border=\"1\" class=\"dataframe\">\n",
       "  <thead>\n",
       "    <tr style=\"text-align: right;\">\n",
       "      <th></th>\n",
       "      <th>carat</th>\n",
       "      <th>cut</th>\n",
       "      <th>color</th>\n",
       "      <th>clarity</th>\n",
       "      <th>depth</th>\n",
       "      <th>table</th>\n",
       "      <th>price</th>\n",
       "      <th>x</th>\n",
       "      <th>y</th>\n",
       "      <th>z</th>\n",
       "    </tr>\n",
       "  </thead>\n",
       "  <tbody>\n",
       "    <tr>\n",
       "      <th>0</th>\n",
       "      <td>0.23</td>\n",
       "      <td>Ideal</td>\n",
       "      <td>E</td>\n",
       "      <td>SI2</td>\n",
       "      <td>61.5</td>\n",
       "      <td>55.0</td>\n",
       "      <td>326</td>\n",
       "      <td>3.95</td>\n",
       "      <td>3.98</td>\n",
       "      <td>2.43</td>\n",
       "    </tr>\n",
       "    <tr>\n",
       "      <th>1</th>\n",
       "      <td>0.21</td>\n",
       "      <td>Premium</td>\n",
       "      <td>E</td>\n",
       "      <td>SI1</td>\n",
       "      <td>59.8</td>\n",
       "      <td>61.0</td>\n",
       "      <td>326</td>\n",
       "      <td>3.89</td>\n",
       "      <td>3.84</td>\n",
       "      <td>2.31</td>\n",
       "    </tr>\n",
       "    <tr>\n",
       "      <th>2</th>\n",
       "      <td>0.23</td>\n",
       "      <td>Good</td>\n",
       "      <td>E</td>\n",
       "      <td>VS1</td>\n",
       "      <td>56.9</td>\n",
       "      <td>65.0</td>\n",
       "      <td>327</td>\n",
       "      <td>4.05</td>\n",
       "      <td>4.07</td>\n",
       "      <td>2.31</td>\n",
       "    </tr>\n",
       "    <tr>\n",
       "      <th>3</th>\n",
       "      <td>0.29</td>\n",
       "      <td>Premium</td>\n",
       "      <td>I</td>\n",
       "      <td>VS2</td>\n",
       "      <td>62.4</td>\n",
       "      <td>58.0</td>\n",
       "      <td>334</td>\n",
       "      <td>4.20</td>\n",
       "      <td>4.23</td>\n",
       "      <td>2.63</td>\n",
       "    </tr>\n",
       "    <tr>\n",
       "      <th>4</th>\n",
       "      <td>0.31</td>\n",
       "      <td>Good</td>\n",
       "      <td>J</td>\n",
       "      <td>SI2</td>\n",
       "      <td>63.3</td>\n",
       "      <td>58.0</td>\n",
       "      <td>335</td>\n",
       "      <td>4.34</td>\n",
       "      <td>4.35</td>\n",
       "      <td>2.75</td>\n",
       "    </tr>\n",
       "  </tbody>\n",
       "</table>\n",
       "</div>"
      ],
      "text/plain": [
       "   carat      cut color clarity  depth  table  price     x     y     z\n",
       "0   0.23    Ideal     E     SI2   61.5   55.0    326  3.95  3.98  2.43\n",
       "1   0.21  Premium     E     SI1   59.8   61.0    326  3.89  3.84  2.31\n",
       "2   0.23     Good     E     VS1   56.9   65.0    327  4.05  4.07  2.31\n",
       "3   0.29  Premium     I     VS2   62.4   58.0    334  4.20  4.23  2.63\n",
       "4   0.31     Good     J     SI2   63.3   58.0    335  4.34  4.35  2.75"
      ]
     },
     "execution_count": 10,
     "metadata": {},
     "output_type": "execute_result"
    }
   ],
   "source": [
    "diamonds.head()"
   ]
  },
  {
   "cell_type": "markdown",
   "metadata": {},
   "source": [
    "### Stacked Bar Chart\n",
    "\n",
    "Let's try to reproduce the stacked bar chart created in [L5_Pyramid_Practice](L5_Pyramid_Practice.ipynb).\n",
    "\n",
    "In the R version of ggplot, you can tell the plot to create stacks of bars based on y-axis. You can't do that in plotly. \n",
    "\n",
    "R ggplot syntax: \n",
    "\n",
    "```R\n",
    "ggplot(data = diamonds) + geom_bar(mapping = aes(x = cut, fill = clarity))\n",
    "```\n",
    "\n",
    "The fill parameter is filling the bars based on frequency distribution of values. But, plotly takes separate input data for y-axis to create stacks of bars. Run the cell below to see how it is done as an example. "
   ]
  },
  {
   "cell_type": "code",
   "execution_count": 11,
   "metadata": {},
   "outputs": [
    {
     "data": {
      "application/vnd.plotly.v1+json": {
       "config": {
        "linkText": "Export to plot.ly",
        "plotlyServerURL": "https://plot.ly",
        "showLink": false
       },
       "data": [
        {
         "name": "SF Zoo",
         "type": "bar",
         "x": [
          "giraffes",
          "orangutans",
          "monkeys"
         ],
         "y": [
          20,
          14,
          23
         ]
        },
        {
         "name": "LA Zoo",
         "type": "bar",
         "x": [
          "giraffes",
          "orangutans",
          "monkeys"
         ],
         "y": [
          12,
          18,
          29
         ]
        }
       ],
       "layout": {
        "barmode": "stack",
        "template": {
         "data": {
          "bar": [
           {
            "error_x": {
             "color": "#2a3f5f"
            },
            "error_y": {
             "color": "#2a3f5f"
            },
            "marker": {
             "line": {
              "color": "#E5ECF6",
              "width": 0.5
             }
            },
            "type": "bar"
           }
          ],
          "barpolar": [
           {
            "marker": {
             "line": {
              "color": "#E5ECF6",
              "width": 0.5
             }
            },
            "type": "barpolar"
           }
          ],
          "carpet": [
           {
            "aaxis": {
             "endlinecolor": "#2a3f5f",
             "gridcolor": "white",
             "linecolor": "white",
             "minorgridcolor": "white",
             "startlinecolor": "#2a3f5f"
            },
            "baxis": {
             "endlinecolor": "#2a3f5f",
             "gridcolor": "white",
             "linecolor": "white",
             "minorgridcolor": "white",
             "startlinecolor": "#2a3f5f"
            },
            "type": "carpet"
           }
          ],
          "choropleth": [
           {
            "colorbar": {
             "outlinewidth": 0,
             "ticks": ""
            },
            "type": "choropleth"
           }
          ],
          "contour": [
           {
            "colorbar": {
             "outlinewidth": 0,
             "ticks": ""
            },
            "colorscale": [
             [
              0,
              "#0d0887"
             ],
             [
              0.1111111111111111,
              "#46039f"
             ],
             [
              0.2222222222222222,
              "#7201a8"
             ],
             [
              0.3333333333333333,
              "#9c179e"
             ],
             [
              0.4444444444444444,
              "#bd3786"
             ],
             [
              0.5555555555555556,
              "#d8576b"
             ],
             [
              0.6666666666666666,
              "#ed7953"
             ],
             [
              0.7777777777777778,
              "#fb9f3a"
             ],
             [
              0.8888888888888888,
              "#fdca26"
             ],
             [
              1,
              "#f0f921"
             ]
            ],
            "type": "contour"
           }
          ],
          "contourcarpet": [
           {
            "colorbar": {
             "outlinewidth": 0,
             "ticks": ""
            },
            "type": "contourcarpet"
           }
          ],
          "heatmap": [
           {
            "colorbar": {
             "outlinewidth": 0,
             "ticks": ""
            },
            "colorscale": [
             [
              0,
              "#0d0887"
             ],
             [
              0.1111111111111111,
              "#46039f"
             ],
             [
              0.2222222222222222,
              "#7201a8"
             ],
             [
              0.3333333333333333,
              "#9c179e"
             ],
             [
              0.4444444444444444,
              "#bd3786"
             ],
             [
              0.5555555555555556,
              "#d8576b"
             ],
             [
              0.6666666666666666,
              "#ed7953"
             ],
             [
              0.7777777777777778,
              "#fb9f3a"
             ],
             [
              0.8888888888888888,
              "#fdca26"
             ],
             [
              1,
              "#f0f921"
             ]
            ],
            "type": "heatmap"
           }
          ],
          "heatmapgl": [
           {
            "colorbar": {
             "outlinewidth": 0,
             "ticks": ""
            },
            "colorscale": [
             [
              0,
              "#0d0887"
             ],
             [
              0.1111111111111111,
              "#46039f"
             ],
             [
              0.2222222222222222,
              "#7201a8"
             ],
             [
              0.3333333333333333,
              "#9c179e"
             ],
             [
              0.4444444444444444,
              "#bd3786"
             ],
             [
              0.5555555555555556,
              "#d8576b"
             ],
             [
              0.6666666666666666,
              "#ed7953"
             ],
             [
              0.7777777777777778,
              "#fb9f3a"
             ],
             [
              0.8888888888888888,
              "#fdca26"
             ],
             [
              1,
              "#f0f921"
             ]
            ],
            "type": "heatmapgl"
           }
          ],
          "histogram": [
           {
            "marker": {
             "colorbar": {
              "outlinewidth": 0,
              "ticks": ""
             }
            },
            "type": "histogram"
           }
          ],
          "histogram2d": [
           {
            "colorbar": {
             "outlinewidth": 0,
             "ticks": ""
            },
            "colorscale": [
             [
              0,
              "#0d0887"
             ],
             [
              0.1111111111111111,
              "#46039f"
             ],
             [
              0.2222222222222222,
              "#7201a8"
             ],
             [
              0.3333333333333333,
              "#9c179e"
             ],
             [
              0.4444444444444444,
              "#bd3786"
             ],
             [
              0.5555555555555556,
              "#d8576b"
             ],
             [
              0.6666666666666666,
              "#ed7953"
             ],
             [
              0.7777777777777778,
              "#fb9f3a"
             ],
             [
              0.8888888888888888,
              "#fdca26"
             ],
             [
              1,
              "#f0f921"
             ]
            ],
            "type": "histogram2d"
           }
          ],
          "histogram2dcontour": [
           {
            "colorbar": {
             "outlinewidth": 0,
             "ticks": ""
            },
            "colorscale": [
             [
              0,
              "#0d0887"
             ],
             [
              0.1111111111111111,
              "#46039f"
             ],
             [
              0.2222222222222222,
              "#7201a8"
             ],
             [
              0.3333333333333333,
              "#9c179e"
             ],
             [
              0.4444444444444444,
              "#bd3786"
             ],
             [
              0.5555555555555556,
              "#d8576b"
             ],
             [
              0.6666666666666666,
              "#ed7953"
             ],
             [
              0.7777777777777778,
              "#fb9f3a"
             ],
             [
              0.8888888888888888,
              "#fdca26"
             ],
             [
              1,
              "#f0f921"
             ]
            ],
            "type": "histogram2dcontour"
           }
          ],
          "mesh3d": [
           {
            "colorbar": {
             "outlinewidth": 0,
             "ticks": ""
            },
            "type": "mesh3d"
           }
          ],
          "parcoords": [
           {
            "line": {
             "colorbar": {
              "outlinewidth": 0,
              "ticks": ""
             }
            },
            "type": "parcoords"
           }
          ],
          "scatter": [
           {
            "marker": {
             "colorbar": {
              "outlinewidth": 0,
              "ticks": ""
             }
            },
            "type": "scatter"
           }
          ],
          "scatter3d": [
           {
            "line": {
             "colorbar": {
              "outlinewidth": 0,
              "ticks": ""
             }
            },
            "marker": {
             "colorbar": {
              "outlinewidth": 0,
              "ticks": ""
             }
            },
            "type": "scatter3d"
           }
          ],
          "scattercarpet": [
           {
            "marker": {
             "colorbar": {
              "outlinewidth": 0,
              "ticks": ""
             }
            },
            "type": "scattercarpet"
           }
          ],
          "scattergeo": [
           {
            "marker": {
             "colorbar": {
              "outlinewidth": 0,
              "ticks": ""
             }
            },
            "type": "scattergeo"
           }
          ],
          "scattergl": [
           {
            "marker": {
             "colorbar": {
              "outlinewidth": 0,
              "ticks": ""
             }
            },
            "type": "scattergl"
           }
          ],
          "scattermapbox": [
           {
            "marker": {
             "colorbar": {
              "outlinewidth": 0,
              "ticks": ""
             }
            },
            "type": "scattermapbox"
           }
          ],
          "scatterpolar": [
           {
            "marker": {
             "colorbar": {
              "outlinewidth": 0,
              "ticks": ""
             }
            },
            "type": "scatterpolar"
           }
          ],
          "scatterpolargl": [
           {
            "marker": {
             "colorbar": {
              "outlinewidth": 0,
              "ticks": ""
             }
            },
            "type": "scatterpolargl"
           }
          ],
          "scatterternary": [
           {
            "marker": {
             "colorbar": {
              "outlinewidth": 0,
              "ticks": ""
             }
            },
            "type": "scatterternary"
           }
          ],
          "surface": [
           {
            "colorbar": {
             "outlinewidth": 0,
             "ticks": ""
            },
            "colorscale": [
             [
              0,
              "#0d0887"
             ],
             [
              0.1111111111111111,
              "#46039f"
             ],
             [
              0.2222222222222222,
              "#7201a8"
             ],
             [
              0.3333333333333333,
              "#9c179e"
             ],
             [
              0.4444444444444444,
              "#bd3786"
             ],
             [
              0.5555555555555556,
              "#d8576b"
             ],
             [
              0.6666666666666666,
              "#ed7953"
             ],
             [
              0.7777777777777778,
              "#fb9f3a"
             ],
             [
              0.8888888888888888,
              "#fdca26"
             ],
             [
              1,
              "#f0f921"
             ]
            ],
            "type": "surface"
           }
          ],
          "table": [
           {
            "cells": {
             "fill": {
              "color": "#EBF0F8"
             },
             "line": {
              "color": "white"
             }
            },
            "header": {
             "fill": {
              "color": "#C8D4E3"
             },
             "line": {
              "color": "white"
             }
            },
            "type": "table"
           }
          ]
         },
         "layout": {
          "annotationdefaults": {
           "arrowcolor": "#2a3f5f",
           "arrowhead": 0,
           "arrowwidth": 1
          },
          "colorscale": {
           "diverging": [
            [
             0,
             "#8e0152"
            ],
            [
             0.1,
             "#c51b7d"
            ],
            [
             0.2,
             "#de77ae"
            ],
            [
             0.3,
             "#f1b6da"
            ],
            [
             0.4,
             "#fde0ef"
            ],
            [
             0.5,
             "#f7f7f7"
            ],
            [
             0.6,
             "#e6f5d0"
            ],
            [
             0.7,
             "#b8e186"
            ],
            [
             0.8,
             "#7fbc41"
            ],
            [
             0.9,
             "#4d9221"
            ],
            [
             1,
             "#276419"
            ]
           ],
           "sequential": [
            [
             0,
             "#0d0887"
            ],
            [
             0.1111111111111111,
             "#46039f"
            ],
            [
             0.2222222222222222,
             "#7201a8"
            ],
            [
             0.3333333333333333,
             "#9c179e"
            ],
            [
             0.4444444444444444,
             "#bd3786"
            ],
            [
             0.5555555555555556,
             "#d8576b"
            ],
            [
             0.6666666666666666,
             "#ed7953"
            ],
            [
             0.7777777777777778,
             "#fb9f3a"
            ],
            [
             0.8888888888888888,
             "#fdca26"
            ],
            [
             1,
             "#f0f921"
            ]
           ],
           "sequentialminus": [
            [
             0,
             "#0d0887"
            ],
            [
             0.1111111111111111,
             "#46039f"
            ],
            [
             0.2222222222222222,
             "#7201a8"
            ],
            [
             0.3333333333333333,
             "#9c179e"
            ],
            [
             0.4444444444444444,
             "#bd3786"
            ],
            [
             0.5555555555555556,
             "#d8576b"
            ],
            [
             0.6666666666666666,
             "#ed7953"
            ],
            [
             0.7777777777777778,
             "#fb9f3a"
            ],
            [
             0.8888888888888888,
             "#fdca26"
            ],
            [
             1,
             "#f0f921"
            ]
           ]
          },
          "colorway": [
           "#636efa",
           "#EF553B",
           "#00cc96",
           "#ab63fa",
           "#FFA15A",
           "#19d3f3",
           "#FF6692",
           "#B6E880",
           "#FF97FF",
           "#FECB52"
          ],
          "font": {
           "color": "#2a3f5f"
          },
          "geo": {
           "bgcolor": "white",
           "lakecolor": "white",
           "landcolor": "#E5ECF6",
           "showlakes": true,
           "showland": true,
           "subunitcolor": "white"
          },
          "hoverlabel": {
           "align": "left"
          },
          "hovermode": "closest",
          "mapbox": {
           "style": "light"
          },
          "paper_bgcolor": "white",
          "plot_bgcolor": "#E5ECF6",
          "polar": {
           "angularaxis": {
            "gridcolor": "white",
            "linecolor": "white",
            "ticks": ""
           },
           "bgcolor": "#E5ECF6",
           "radialaxis": {
            "gridcolor": "white",
            "linecolor": "white",
            "ticks": ""
           }
          },
          "scene": {
           "xaxis": {
            "backgroundcolor": "#E5ECF6",
            "gridcolor": "white",
            "gridwidth": 2,
            "linecolor": "white",
            "showbackground": true,
            "ticks": "",
            "zerolinecolor": "white"
           },
           "yaxis": {
            "backgroundcolor": "#E5ECF6",
            "gridcolor": "white",
            "gridwidth": 2,
            "linecolor": "white",
            "showbackground": true,
            "ticks": "",
            "zerolinecolor": "white"
           },
           "zaxis": {
            "backgroundcolor": "#E5ECF6",
            "gridcolor": "white",
            "gridwidth": 2,
            "linecolor": "white",
            "showbackground": true,
            "ticks": "",
            "zerolinecolor": "white"
           }
          },
          "shapedefaults": {
           "line": {
            "color": "#2a3f5f"
           }
          },
          "ternary": {
           "aaxis": {
            "gridcolor": "white",
            "linecolor": "white",
            "ticks": ""
           },
           "baxis": {
            "gridcolor": "white",
            "linecolor": "white",
            "ticks": ""
           },
           "bgcolor": "#E5ECF6",
           "caxis": {
            "gridcolor": "white",
            "linecolor": "white",
            "ticks": ""
           }
          },
          "title": {
           "x": 0.05
          },
          "xaxis": {
           "automargin": true,
           "gridcolor": "white",
           "linecolor": "white",
           "ticks": "",
           "zerolinecolor": "white",
           "zerolinewidth": 2
          },
          "yaxis": {
           "automargin": true,
           "gridcolor": "white",
           "linecolor": "white",
           "ticks": "",
           "zerolinecolor": "white",
           "zerolinewidth": 2
          }
         }
        }
       }
      },
      "text/html": [
       "<div>\n",
       "        \n",
       "        \n",
       "            <div id=\"47c7fb7b-93ff-4e78-a34f-f339d7d39786\" class=\"plotly-graph-div\" style=\"height:525px; width:100%;\"></div>\n",
       "            <script type=\"text/javascript\">\n",
       "                require([\"plotly\"], function(Plotly) {\n",
       "                    window.PLOTLYENV=window.PLOTLYENV || {};\n",
       "                    \n",
       "                if (document.getElementById(\"47c7fb7b-93ff-4e78-a34f-f339d7d39786\")) {\n",
       "                    Plotly.newPlot(\n",
       "                        '47c7fb7b-93ff-4e78-a34f-f339d7d39786',\n",
       "                        [{\"name\": \"SF Zoo\", \"type\": \"bar\", \"x\": [\"giraffes\", \"orangutans\", \"monkeys\"], \"y\": [20, 14, 23]}, {\"name\": \"LA Zoo\", \"type\": \"bar\", \"x\": [\"giraffes\", \"orangutans\", \"monkeys\"], \"y\": [12, 18, 29]}],\n",
       "                        {\"barmode\": \"stack\", \"template\": {\"data\": {\"bar\": [{\"error_x\": {\"color\": \"#2a3f5f\"}, \"error_y\": {\"color\": \"#2a3f5f\"}, \"marker\": {\"line\": {\"color\": \"#E5ECF6\", \"width\": 0.5}}, \"type\": \"bar\"}], \"barpolar\": [{\"marker\": {\"line\": {\"color\": \"#E5ECF6\", \"width\": 0.5}}, \"type\": \"barpolar\"}], \"carpet\": [{\"aaxis\": {\"endlinecolor\": \"#2a3f5f\", \"gridcolor\": \"white\", \"linecolor\": \"white\", \"minorgridcolor\": \"white\", \"startlinecolor\": \"#2a3f5f\"}, \"baxis\": {\"endlinecolor\": \"#2a3f5f\", \"gridcolor\": \"white\", \"linecolor\": \"white\", \"minorgridcolor\": \"white\", \"startlinecolor\": \"#2a3f5f\"}, \"type\": \"carpet\"}], \"choropleth\": [{\"colorbar\": {\"outlinewidth\": 0, \"ticks\": \"\"}, \"type\": \"choropleth\"}], \"contour\": [{\"colorbar\": {\"outlinewidth\": 0, \"ticks\": \"\"}, \"colorscale\": [[0.0, \"#0d0887\"], [0.1111111111111111, \"#46039f\"], [0.2222222222222222, \"#7201a8\"], [0.3333333333333333, \"#9c179e\"], [0.4444444444444444, \"#bd3786\"], [0.5555555555555556, \"#d8576b\"], [0.6666666666666666, \"#ed7953\"], [0.7777777777777778, \"#fb9f3a\"], [0.8888888888888888, \"#fdca26\"], [1.0, \"#f0f921\"]], \"type\": \"contour\"}], \"contourcarpet\": [{\"colorbar\": {\"outlinewidth\": 0, \"ticks\": \"\"}, \"type\": \"contourcarpet\"}], \"heatmap\": [{\"colorbar\": {\"outlinewidth\": 0, \"ticks\": \"\"}, \"colorscale\": [[0.0, \"#0d0887\"], [0.1111111111111111, \"#46039f\"], [0.2222222222222222, \"#7201a8\"], [0.3333333333333333, \"#9c179e\"], [0.4444444444444444, \"#bd3786\"], [0.5555555555555556, \"#d8576b\"], [0.6666666666666666, \"#ed7953\"], [0.7777777777777778, \"#fb9f3a\"], [0.8888888888888888, \"#fdca26\"], [1.0, \"#f0f921\"]], \"type\": \"heatmap\"}], \"heatmapgl\": [{\"colorbar\": {\"outlinewidth\": 0, \"ticks\": \"\"}, \"colorscale\": [[0.0, \"#0d0887\"], [0.1111111111111111, \"#46039f\"], [0.2222222222222222, \"#7201a8\"], [0.3333333333333333, \"#9c179e\"], [0.4444444444444444, \"#bd3786\"], [0.5555555555555556, \"#d8576b\"], [0.6666666666666666, \"#ed7953\"], [0.7777777777777778, \"#fb9f3a\"], [0.8888888888888888, \"#fdca26\"], [1.0, \"#f0f921\"]], \"type\": \"heatmapgl\"}], \"histogram\": [{\"marker\": {\"colorbar\": {\"outlinewidth\": 0, \"ticks\": \"\"}}, \"type\": \"histogram\"}], \"histogram2d\": [{\"colorbar\": {\"outlinewidth\": 0, \"ticks\": \"\"}, \"colorscale\": [[0.0, \"#0d0887\"], [0.1111111111111111, \"#46039f\"], [0.2222222222222222, \"#7201a8\"], [0.3333333333333333, \"#9c179e\"], [0.4444444444444444, \"#bd3786\"], [0.5555555555555556, \"#d8576b\"], [0.6666666666666666, \"#ed7953\"], [0.7777777777777778, \"#fb9f3a\"], [0.8888888888888888, \"#fdca26\"], [1.0, \"#f0f921\"]], \"type\": \"histogram2d\"}], \"histogram2dcontour\": [{\"colorbar\": {\"outlinewidth\": 0, \"ticks\": \"\"}, \"colorscale\": [[0.0, \"#0d0887\"], [0.1111111111111111, \"#46039f\"], [0.2222222222222222, \"#7201a8\"], [0.3333333333333333, \"#9c179e\"], [0.4444444444444444, \"#bd3786\"], [0.5555555555555556, \"#d8576b\"], [0.6666666666666666, \"#ed7953\"], [0.7777777777777778, \"#fb9f3a\"], [0.8888888888888888, \"#fdca26\"], [1.0, \"#f0f921\"]], \"type\": \"histogram2dcontour\"}], \"mesh3d\": [{\"colorbar\": {\"outlinewidth\": 0, \"ticks\": \"\"}, \"type\": \"mesh3d\"}], \"parcoords\": [{\"line\": {\"colorbar\": {\"outlinewidth\": 0, \"ticks\": \"\"}}, \"type\": \"parcoords\"}], \"scatter\": [{\"marker\": {\"colorbar\": {\"outlinewidth\": 0, \"ticks\": \"\"}}, \"type\": \"scatter\"}], \"scatter3d\": [{\"line\": {\"colorbar\": {\"outlinewidth\": 0, \"ticks\": \"\"}}, \"marker\": {\"colorbar\": {\"outlinewidth\": 0, \"ticks\": \"\"}}, \"type\": \"scatter3d\"}], \"scattercarpet\": [{\"marker\": {\"colorbar\": {\"outlinewidth\": 0, \"ticks\": \"\"}}, \"type\": \"scattercarpet\"}], \"scattergeo\": [{\"marker\": {\"colorbar\": {\"outlinewidth\": 0, \"ticks\": \"\"}}, \"type\": \"scattergeo\"}], \"scattergl\": [{\"marker\": {\"colorbar\": {\"outlinewidth\": 0, \"ticks\": \"\"}}, \"type\": \"scattergl\"}], \"scattermapbox\": [{\"marker\": {\"colorbar\": {\"outlinewidth\": 0, \"ticks\": \"\"}}, \"type\": \"scattermapbox\"}], \"scatterpolar\": [{\"marker\": {\"colorbar\": {\"outlinewidth\": 0, \"ticks\": \"\"}}, \"type\": \"scatterpolar\"}], \"scatterpolargl\": [{\"marker\": {\"colorbar\": {\"outlinewidth\": 0, \"ticks\": \"\"}}, \"type\": \"scatterpolargl\"}], \"scatterternary\": [{\"marker\": {\"colorbar\": {\"outlinewidth\": 0, \"ticks\": \"\"}}, \"type\": \"scatterternary\"}], \"surface\": [{\"colorbar\": {\"outlinewidth\": 0, \"ticks\": \"\"}, \"colorscale\": [[0.0, \"#0d0887\"], [0.1111111111111111, \"#46039f\"], [0.2222222222222222, \"#7201a8\"], [0.3333333333333333, \"#9c179e\"], [0.4444444444444444, \"#bd3786\"], [0.5555555555555556, \"#d8576b\"], [0.6666666666666666, \"#ed7953\"], [0.7777777777777778, \"#fb9f3a\"], [0.8888888888888888, \"#fdca26\"], [1.0, \"#f0f921\"]], \"type\": \"surface\"}], \"table\": [{\"cells\": {\"fill\": {\"color\": \"#EBF0F8\"}, \"line\": {\"color\": \"white\"}}, \"header\": {\"fill\": {\"color\": \"#C8D4E3\"}, \"line\": {\"color\": \"white\"}}, \"type\": \"table\"}]}, \"layout\": {\"annotationdefaults\": {\"arrowcolor\": \"#2a3f5f\", \"arrowhead\": 0, \"arrowwidth\": 1}, \"colorscale\": {\"diverging\": [[0, \"#8e0152\"], [0.1, \"#c51b7d\"], [0.2, \"#de77ae\"], [0.3, \"#f1b6da\"], [0.4, \"#fde0ef\"], [0.5, \"#f7f7f7\"], [0.6, \"#e6f5d0\"], [0.7, \"#b8e186\"], [0.8, \"#7fbc41\"], [0.9, \"#4d9221\"], [1, \"#276419\"]], \"sequential\": [[0.0, \"#0d0887\"], [0.1111111111111111, \"#46039f\"], [0.2222222222222222, \"#7201a8\"], [0.3333333333333333, \"#9c179e\"], [0.4444444444444444, \"#bd3786\"], [0.5555555555555556, \"#d8576b\"], [0.6666666666666666, \"#ed7953\"], [0.7777777777777778, \"#fb9f3a\"], [0.8888888888888888, \"#fdca26\"], [1.0, \"#f0f921\"]], \"sequentialminus\": [[0.0, \"#0d0887\"], [0.1111111111111111, \"#46039f\"], [0.2222222222222222, \"#7201a8\"], [0.3333333333333333, \"#9c179e\"], [0.4444444444444444, \"#bd3786\"], [0.5555555555555556, \"#d8576b\"], [0.6666666666666666, \"#ed7953\"], [0.7777777777777778, \"#fb9f3a\"], [0.8888888888888888, \"#fdca26\"], [1.0, \"#f0f921\"]]}, \"colorway\": [\"#636efa\", \"#EF553B\", \"#00cc96\", \"#ab63fa\", \"#FFA15A\", \"#19d3f3\", \"#FF6692\", \"#B6E880\", \"#FF97FF\", \"#FECB52\"], \"font\": {\"color\": \"#2a3f5f\"}, \"geo\": {\"bgcolor\": \"white\", \"lakecolor\": \"white\", \"landcolor\": \"#E5ECF6\", \"showlakes\": true, \"showland\": true, \"subunitcolor\": \"white\"}, \"hoverlabel\": {\"align\": \"left\"}, \"hovermode\": \"closest\", \"mapbox\": {\"style\": \"light\"}, \"paper_bgcolor\": \"white\", \"plot_bgcolor\": \"#E5ECF6\", \"polar\": {\"angularaxis\": {\"gridcolor\": \"white\", \"linecolor\": \"white\", \"ticks\": \"\"}, \"bgcolor\": \"#E5ECF6\", \"radialaxis\": {\"gridcolor\": \"white\", \"linecolor\": \"white\", \"ticks\": \"\"}}, \"scene\": {\"xaxis\": {\"backgroundcolor\": \"#E5ECF6\", \"gridcolor\": \"white\", \"gridwidth\": 2, \"linecolor\": \"white\", \"showbackground\": true, \"ticks\": \"\", \"zerolinecolor\": \"white\"}, \"yaxis\": {\"backgroundcolor\": \"#E5ECF6\", \"gridcolor\": \"white\", \"gridwidth\": 2, \"linecolor\": \"white\", \"showbackground\": true, \"ticks\": \"\", \"zerolinecolor\": \"white\"}, \"zaxis\": {\"backgroundcolor\": \"#E5ECF6\", \"gridcolor\": \"white\", \"gridwidth\": 2, \"linecolor\": \"white\", \"showbackground\": true, \"ticks\": \"\", \"zerolinecolor\": \"white\"}}, \"shapedefaults\": {\"line\": {\"color\": \"#2a3f5f\"}}, \"ternary\": {\"aaxis\": {\"gridcolor\": \"white\", \"linecolor\": \"white\", \"ticks\": \"\"}, \"baxis\": {\"gridcolor\": \"white\", \"linecolor\": \"white\", \"ticks\": \"\"}, \"bgcolor\": \"#E5ECF6\", \"caxis\": {\"gridcolor\": \"white\", \"linecolor\": \"white\", \"ticks\": \"\"}}, \"title\": {\"x\": 0.05}, \"xaxis\": {\"automargin\": true, \"gridcolor\": \"white\", \"linecolor\": \"white\", \"ticks\": \"\", \"zerolinecolor\": \"white\", \"zerolinewidth\": 2}, \"yaxis\": {\"automargin\": true, \"gridcolor\": \"white\", \"linecolor\": \"white\", \"ticks\": \"\", \"zerolinecolor\": \"white\", \"zerolinewidth\": 2}}}},\n",
       "                        {\"responsive\": true}\n",
       "                    ).then(function(){\n",
       "                            \n",
       "var gd = document.getElementById('47c7fb7b-93ff-4e78-a34f-f339d7d39786');\n",
       "var x = new MutationObserver(function (mutations, observer) {{\n",
       "        var display = window.getComputedStyle(gd).display;\n",
       "        if (!display || display === 'none') {{\n",
       "            console.log([gd, 'removed!']);\n",
       "            Plotly.purge(gd);\n",
       "            observer.disconnect();\n",
       "        }}\n",
       "}});\n",
       "\n",
       "// Listen for the removal of the full notebook cells\n",
       "var notebookContainer = gd.closest('#notebook-container');\n",
       "if (notebookContainer) {{\n",
       "    x.observe(notebookContainer, {childList: true});\n",
       "}}\n",
       "\n",
       "// Listen for the clearing of the current output cell\n",
       "var outputEl = gd.closest('.output');\n",
       "if (outputEl) {{\n",
       "    x.observe(outputEl, {childList: true});\n",
       "}}\n",
       "\n",
       "                        })\n",
       "                };\n",
       "                });\n",
       "            </script>\n",
       "        </div>"
      ]
     },
     "metadata": {},
     "output_type": "display_data"
    }
   ],
   "source": [
    "trace1 = go.Bar(\n",
    "    x=['giraffes', 'orangutans', 'monkeys'],\n",
    "    y=[20, 14, 23],\n",
    "    name='SF Zoo'\n",
    ")\n",
    "trace2 = go.Bar(\n",
    "    x=['giraffes', 'orangutans', 'monkeys'],\n",
    "    y=[12, 18, 29],\n",
    "    name='LA Zoo'\n",
    ")\n",
    "\n",
    "data = [trace1, trace2]\n",
    "layout = go.Layout(\n",
    "    barmode='stack'\n",
    ")\n",
    "\n",
    "fig = go.Figure(data=data, layout=layout)\n",
    "iplot(fig)"
   ]
  },
  {
   "cell_type": "markdown",
   "metadata": {},
   "source": [
    "To imitate this behavior, code cell below is creating eight different traces for each category of clarity to produce the stacked bar chart."
   ]
  },
  {
   "cell_type": "code",
   "execution_count": 12,
   "metadata": {},
   "outputs": [],
   "source": [
    "# number of categories in clarity is stored in counts variable. .value_counts() will give levels in a categorical \n",
    "# variable. \n",
    "\n",
    "counts = len(diamonds.clarity.value_counts())"
   ]
  },
  {
   "cell_type": "code",
   "execution_count": 13,
   "metadata": {},
   "outputs": [],
   "source": [
    "# The names of different categories are saved in indexes variable. \"Pandas.Series.value_counts().index\" will give\n",
    "# names of the corresponding counrs we are getting from value_counts().\n",
    "\n",
    "indexes = diamonds.clarity.value_counts().index"
   ]
  },
  {
   "cell_type": "markdown",
   "metadata": {},
   "source": [
    "Since traces are added to data before plotting, declare data as a list variable. Add traces to data variable in the for loop. Loop is iterated for each category in clarity. A temporary dataframe is created for a category, and cut and clarity columns are assigned to x and y in trace. The trace is appended to data at the end of each iteration.  "
   ]
  },
  {
   "cell_type": "code",
   "execution_count": 14,
   "metadata": {},
   "outputs": [],
   "source": [
    "data=[]\n",
    "for i in range(counts):\n",
    "    temp_data = diamonds.loc[diamonds.clarity==indexes[i]]\n",
    "    trace = go.Bar(\n",
    "        x=temp_data.cut,\n",
    "        y=temp_data.carat,\n",
    "        name=indexes[i]\n",
    "    )\n",
    "data.append(trace)"
   ]
  },
  {
   "cell_type": "code",
   "execution_count": 15,
   "metadata": {
    "scrolled": false
   },
   "outputs": [
    {
     "data": {
      "application/vnd.plotly.v1+json": {
       "config": {
        "linkText": "Export to plot.ly",
        "plotlyServerURL": "https://plot.ly",
        "showLink": false
       },
       "data": [
        {
         "name": "I1",
         "type": "bar",
         "x": [
          "Premium",
          "Very Good",
          "Premium",
          "Fair",
          "Ideal",
          "Premium",
          "Fair",
          "Fair",
          "Very Good",
          "Premium",
          "Premium",
          "Premium",
          "Ideal",
          "Ideal",
          "Premium",
          "Ideal",
          "Good",
          "Good",
          "Very Good",
          "Premium",
          "Ideal",
          "Premium",
          "Premium",
          "Premium",
          "Ideal",
          "Premium",
          "Fair",
          "Very Good",
          "Ideal",
          "Ideal",
          "Premium",
          "Fair",
          "Very Good",
          "Good",
          "Fair",
          "Premium",
          "Fair",
          "Premium",
          "Very Good",
          "Premium",
          "Fair",
          "Very Good",
          "Fair",
          "Fair",
          "Fair",
          "Premium",
          "Premium",
          "Very Good",
          "Very Good",
          "Good",
          "Good",
          "Very Good",
          "Premium",
          "Very Good",
          "Ideal",
          "Premium",
          "Good",
          "Good",
          "Good",
          "Good",
          "Premium",
          "Good",
          "Premium",
          "Ideal",
          "Premium",
          "Very Good",
          "Good",
          "Premium",
          "Premium",
          "Very Good",
          "Ideal",
          "Ideal",
          "Ideal",
          "Premium",
          "Fair",
          "Good",
          "Premium",
          "Very Good",
          "Premium",
          "Good",
          "Very Good",
          "Premium",
          "Very Good",
          "Ideal",
          "Very Good",
          "Good",
          "Premium",
          "Premium",
          "Ideal",
          "Very Good",
          "Very Good",
          "Premium",
          "Very Good",
          "Ideal",
          "Ideal",
          "Premium",
          "Premium",
          "Good",
          "Ideal",
          "Ideal",
          "Ideal",
          "Premium",
          "Ideal",
          "Ideal",
          "Ideal",
          "Premium",
          "Premium",
          "Ideal",
          "Good",
          "Good",
          "Ideal",
          "Ideal",
          "Premium",
          "Ideal",
          "Very Good",
          "Premium",
          "Ideal",
          "Premium",
          "Good",
          "Good",
          "Fair",
          "Ideal",
          "Ideal",
          "Very Good",
          "Very Good",
          "Premium",
          "Ideal",
          "Premium",
          "Premium",
          "Ideal",
          "Ideal",
          "Ideal",
          "Premium",
          "Premium",
          "Ideal",
          "Ideal",
          "Premium",
          "Premium",
          "Premium",
          "Ideal",
          "Premium",
          "Ideal",
          "Premium",
          "Ideal",
          "Ideal",
          "Premium",
          "Ideal",
          "Ideal",
          "Ideal",
          "Ideal",
          "Ideal",
          "Premium",
          "Premium",
          "Very Good",
          "Ideal",
          "Very Good",
          "Premium",
          "Ideal",
          "Ideal",
          "Ideal",
          "Very Good",
          "Ideal",
          "Ideal",
          "Fair",
          "Very Good",
          "Good",
          "Premium",
          "Ideal",
          "Premium",
          "Good",
          "Ideal",
          "Ideal",
          "Premium",
          "Fair",
          "Fair",
          "Ideal",
          "Premium",
          "Ideal",
          "Fair",
          "Premium",
          "Ideal",
          "Ideal",
          "Fair",
          "Premium",
          "Very Good",
          "Premium",
          "Ideal",
          "Very Good",
          "Ideal",
          "Very Good",
          "Premium",
          "Ideal",
          "Very Good",
          "Premium",
          "Ideal",
          "Good",
          "Premium",
          "Ideal",
          "Ideal",
          "Ideal",
          "Very Good",
          "Premium",
          "Ideal",
          "Very Good",
          "Ideal",
          "Premium",
          "Ideal",
          "Ideal",
          "Premium",
          "Very Good",
          "Premium",
          "Good",
          "Premium",
          "Premium",
          "Ideal",
          "Premium",
          "Premium",
          "Premium",
          "Good",
          "Ideal",
          "Premium",
          "Very Good",
          "Good",
          "Premium",
          "Ideal",
          "Ideal",
          "Ideal",
          "Fair",
          "Premium",
          "Good",
          "Fair",
          "Ideal",
          "Fair",
          "Good",
          "Ideal",
          "Ideal",
          "Fair",
          "Premium",
          "Fair",
          "Fair",
          "Good",
          "Premium",
          "Good",
          "Fair",
          "Ideal",
          "Premium",
          "Fair",
          "Premium",
          "Ideal",
          "Premium",
          "Good",
          "Premium",
          "Ideal",
          "Ideal",
          "Very Good",
          "Good",
          "Ideal",
          "Fair",
          "Fair",
          "Very Good",
          "Fair",
          "Fair",
          "Fair",
          "Ideal",
          "Ideal",
          "Good",
          "Fair",
          "Fair",
          "Fair",
          "Fair",
          "Good",
          "Premium",
          "Good",
          "Premium",
          "Fair",
          "Premium",
          "Premium",
          "Ideal",
          "Very Good",
          "Premium",
          "Fair",
          "Fair",
          "Very Good",
          "Ideal",
          "Premium",
          "Ideal",
          "Very Good",
          "Premium",
          "Fair",
          "Premium",
          "Fair",
          "Good",
          "Fair",
          "Good",
          "Premium",
          "Ideal",
          "Fair",
          "Fair",
          "Ideal",
          "Fair",
          "Ideal",
          "Good",
          "Fair",
          "Fair",
          "Fair",
          "Good",
          "Fair",
          "Very Good",
          "Ideal",
          "Fair",
          "Fair",
          "Fair",
          "Fair",
          "Good",
          "Very Good",
          "Fair",
          "Good",
          "Fair",
          "Premium",
          "Very Good",
          "Good",
          "Good",
          "Fair",
          "Very Good",
          "Fair",
          "Fair",
          "Good",
          "Very Good",
          "Premium",
          "Very Good",
          "Good",
          "Good",
          "Ideal",
          "Ideal",
          "Very Good",
          "Fair",
          "Premium",
          "Ideal",
          "Premium",
          "Ideal",
          "Good",
          "Fair",
          "Ideal",
          "Premium",
          "Ideal",
          "Premium",
          "Fair",
          "Premium",
          "Fair",
          "Premium",
          "Fair",
          "Fair",
          "Premium",
          "Good",
          "Fair",
          "Premium",
          "Ideal",
          "Fair",
          "Premium",
          "Good",
          "Ideal",
          "Premium",
          "Fair",
          "Very Good",
          "Good",
          "Fair",
          "Premium",
          "Fair",
          "Very Good",
          "Fair",
          "Fair",
          "Ideal",
          "Fair",
          "Good",
          "Fair",
          "Ideal",
          "Premium",
          "Ideal",
          "Fair",
          "Fair",
          "Premium",
          "Good",
          "Fair",
          "Fair",
          "Fair",
          "Premium",
          "Very Good",
          "Very Good",
          "Fair",
          "Good",
          "Good",
          "Ideal",
          "Fair",
          "Premium",
          "Ideal",
          "Fair",
          "Fair",
          "Fair",
          "Ideal",
          "Ideal",
          "Premium",
          "Ideal",
          "Fair",
          "Fair",
          "Ideal",
          "Fair",
          "Premium",
          "Ideal",
          "Premium",
          "Premium",
          "Premium",
          "Ideal",
          "Ideal",
          "Very Good",
          "Fair",
          "Fair",
          "Good",
          "Premium",
          "Fair",
          "Fair",
          "Very Good",
          "Good",
          "Premium",
          "Very Good",
          "Good",
          "Premium",
          "Premium",
          "Premium",
          "Premium",
          "Ideal",
          "Fair",
          "Fair",
          "Ideal",
          "Ideal",
          "Premium",
          "Very Good",
          "Premium",
          "Premium",
          "Fair",
          "Fair",
          "Very Good",
          "Fair",
          "Premium",
          "Premium",
          "Premium",
          "Fair",
          "Very Good",
          "Premium",
          "Very Good",
          "Premium",
          "Ideal",
          "Fair",
          "Premium",
          "Ideal",
          "Fair",
          "Good",
          "Ideal",
          "Very Good",
          "Ideal",
          "Good",
          "Ideal",
          "Fair",
          "Premium",
          "Ideal",
          "Ideal",
          "Ideal",
          "Ideal",
          "Premium",
          "Premium",
          "Premium",
          "Fair",
          "Very Good",
          "Premium",
          "Ideal",
          "Good",
          "Fair",
          "Fair",
          "Fair",
          "Ideal",
          "Good",
          "Fair",
          "Premium",
          "Fair",
          "Premium",
          "Very Good",
          "Fair",
          "Fair",
          "Premium",
          "Premium",
          "Premium",
          "Premium",
          "Fair",
          "Premium",
          "Premium",
          "Premium",
          "Premium",
          "Good",
          "Good",
          "Premium",
          "Premium",
          "Fair",
          "Fair",
          "Fair",
          "Very Good",
          "Good",
          "Premium",
          "Very Good",
          "Premium",
          "Premium",
          "Fair",
          "Premium",
          "Fair",
          "Fair",
          "Fair",
          "Fair",
          "Fair",
          "Ideal",
          "Fair",
          "Fair",
          "Fair",
          "Fair",
          "Fair",
          "Good",
          "Fair",
          "Ideal",
          "Premium",
          "Premium",
          "Premium",
          "Good",
          "Very Good",
          "Fair",
          "Fair",
          "Fair",
          "Ideal",
          "Fair",
          "Fair",
          "Fair",
          "Ideal",
          "Good",
          "Fair",
          "Fair",
          "Fair",
          "Premium",
          "Good",
          "Premium",
          "Very Good",
          "Fair",
          "Ideal",
          "Good",
          "Fair",
          "Good",
          "Fair",
          "Premium",
          "Premium",
          "Fair",
          "Fair",
          "Good",
          "Fair",
          "Fair",
          "Ideal",
          "Fair",
          "Fair",
          "Good",
          "Good",
          "Fair",
          "Very Good",
          "Premium",
          "Premium",
          "Good",
          "Good",
          "Fair",
          "Very Good",
          "Fair",
          "Ideal",
          "Good",
          "Fair",
          "Fair",
          "Fair",
          "Very Good",
          "Fair",
          "Fair",
          "Fair",
          "Fair",
          "Good",
          "Premium",
          "Very Good",
          "Very Good",
          "Premium",
          "Fair",
          "Fair",
          "Premium",
          "Premium",
          "Good",
          "Premium",
          "Fair",
          "Premium",
          "Fair",
          "Premium",
          "Fair",
          "Fair",
          "Fair",
          "Fair",
          "Very Good",
          "Very Good",
          "Fair",
          "Fair",
          "Good",
          "Fair",
          "Fair",
          "Ideal",
          "Fair",
          "Premium",
          "Fair",
          "Fair",
          "Fair",
          "Fair",
          "Premium",
          "Fair",
          "Fair",
          "Fair",
          "Ideal",
          "Premium",
          "Fair",
          "Ideal",
          "Ideal",
          "Fair",
          "Fair",
          "Ideal",
          "Premium",
          "Fair",
          "Fair",
          "Fair",
          "Good",
          "Premium",
          "Premium",
          "Good",
          "Fair",
          "Fair",
          "Premium",
          "Fair",
          "Fair",
          "Fair",
          "Premium",
          "Very Good",
          "Premium",
          "Premium",
          "Premium",
          "Good",
          "Fair",
          "Very Good",
          "Good",
          "Very Good",
          "Fair",
          "Fair",
          "Fair",
          "Good",
          "Fair",
          "Premium",
          "Premium",
          "Very Good",
          "Very Good",
          "Premium",
          "Good",
          "Good",
          "Good",
          "Ideal",
          "Fair",
          "Very Good",
          "Premium",
          "Premium",
          "Premium",
          "Fair",
          "Fair",
          "Very Good",
          "Fair",
          "Fair",
          "Fair",
          "Premium",
          "Fair",
          "Good",
          "Good",
          "Fair",
          "Premium",
          "Premium",
          "Fair",
          "Good",
          "Good",
          "Good",
          "Fair",
          "Ideal",
          "Premium",
          "Ideal",
          "Premium",
          "Premium",
          "Ideal",
          "Very Good",
          "Fair",
          "Fair",
          "Fair",
          "Fair",
          "Premium",
          "Premium",
          "Premium",
          "Premium",
          "Premium",
          "Fair",
          "Fair",
          "Fair",
          "Ideal",
          "Premium",
          "Premium",
          "Premium",
          "Premium",
          "Fair",
          "Fair",
          "Premium",
          "Good",
          "Ideal",
          "Fair",
          "Ideal",
          "Fair",
          "Premium",
          "Premium",
          "Good",
          "Ideal",
          "Very Good",
          "Fair",
          "Premium",
          "Ideal",
          "Premium",
          "Fair",
          "Good",
          "Very Good",
          "Premium",
          "Premium",
          "Premium",
          "Very Good",
          "Good",
          "Fair",
          "Very Good",
          "Good"
         ],
         "y": [
          0.32,
          1.17,
          1.01,
          1.01,
          0.96,
          1.04,
          1,
          1.2,
          0.43,
          1.02,
          1,
          1.17,
          0.96,
          0.97,
          1,
          1.01,
          1.01,
          1.01,
          1.2,
          1.12,
          0.97,
          1.22,
          1.08,
          1.04,
          1.02,
          1.05,
          1.19,
          1.01,
          1.01,
          1.02,
          1.2,
          1.17,
          1.24,
          1,
          1.5,
          1.05,
          1.13,
          1,
          1.03,
          1.24,
          1.02,
          1,
          1.2,
          1.2,
          1.2,
          1.01,
          1.12,
          1.12,
          1.03,
          1.01,
          1.02,
          1.03,
          1.03,
          1,
          1,
          1.2,
          1.29,
          1.52,
          1.52,
          1.01,
          1.08,
          1.13,
          1,
          1,
          1.02,
          1.02,
          1.21,
          1.06,
          1.01,
          1.01,
          1.08,
          1.23,
          1.03,
          1.03,
          1.5,
          1.5,
          1.11,
          1.02,
          1.02,
          1.04,
          1.04,
          1.11,
          1.18,
          1.03,
          1.05,
          1.04,
          1.04,
          1.11,
          1.25,
          1.18,
          1.01,
          1.05,
          1,
          1.02,
          1.27,
          1,
          1.01,
          1.07,
          1.28,
          1,
          1.13,
          1.23,
          1.01,
          1.02,
          1.01,
          1.01,
          1,
          1.07,
          1.07,
          1.21,
          1.01,
          1.03,
          1.03,
          1.01,
          1.02,
          1.5,
          1.02,
          1.13,
          1.01,
          1.51,
          1.52,
          1.2,
          1.03,
          1.19,
          1.15,
          1.02,
          1,
          1.24,
          1.52,
          1.13,
          1.06,
          1.06,
          1.13,
          1.07,
          1.09,
          1.2,
          1.19,
          1.15,
          1,
          1,
          1.11,
          1.02,
          1.5,
          1.13,
          1.15,
          1.13,
          1.13,
          1.06,
          1.09,
          1.1,
          1.03,
          1.16,
          1.11,
          1.22,
          1.19,
          1.27,
          1.17,
          1.13,
          1.13,
          1.1,
          1.1,
          1.21,
          1.1,
          1.23,
          1.2,
          1.5,
          1.16,
          1.04,
          1.25,
          1.21,
          1.13,
          1.19,
          1.27,
          1.51,
          1.51,
          1.13,
          1.1,
          1.1,
          1.52,
          1.13,
          1.14,
          1.2,
          1.51,
          1.02,
          1.29,
          1.5,
          1.19,
          1.21,
          1.13,
          1.18,
          1.52,
          1.14,
          1.23,
          1.02,
          1.19,
          1.5,
          1.2,
          1.1,
          1.12,
          1.18,
          1.18,
          1.29,
          1.23,
          1.39,
          1.02,
          1.12,
          1.1,
          1.12,
          1.14,
          1.18,
          1.18,
          1.23,
          1.17,
          1.39,
          1.02,
          1.12,
          1.14,
          1.5,
          1.5,
          1.23,
          1.5,
          1.14,
          1.23,
          1.5,
          1.23,
          1.14,
          1.12,
          1.32,
          1.5,
          1.5,
          1.41,
          1.18,
          1.51,
          1.21,
          1.12,
          1.18,
          1.29,
          0.43,
          1.5,
          1.45,
          1.27,
          1.52,
          1.2,
          1.5,
          1.21,
          1.44,
          0.5,
          1.51,
          1.28,
          1.58,
          1.54,
          1.36,
          1.28,
          1.35,
          1.51,
          1.5,
          1.35,
          1.52,
          1.52,
          1.74,
          1.33,
          1.5,
          1.5,
          0.34,
          0.34,
          1.5,
          1.64,
          1.47,
          1.5,
          1.5,
          1.55,
          1.54,
          1.5,
          1.32,
          1.5,
          1.95,
          2,
          1.29,
          1.44,
          1.54,
          1.51,
          1.83,
          1.5,
          1.29,
          1.44,
          1.57,
          1.69,
          2.06,
          1.72,
          1.69,
          1.5,
          1.5,
          2.14,
          0.41,
          1.5,
          1.5,
          2.15,
          1.5,
          1.5,
          1.96,
          1.5,
          1.51,
          2.22,
          1.7,
          1.5,
          1.51,
          2,
          1.85,
          1.5,
          2.01,
          2.01,
          2.27,
          1.51,
          1.68,
          1.5,
          1.81,
          1.68,
          2,
          1.5,
          1.55,
          1.51,
          1.44,
          1.82,
          1.7,
          2.03,
          2.03,
          1.66,
          1.5,
          1.51,
          1.49,
          1.51,
          2.06,
          1.44,
          1.66,
          1.51,
          1.96,
          2.08,
          1.49,
          1.53,
          1.54,
          1.54,
          2.49,
          1.54,
          1.5,
          1.34,
          1.83,
          2.01,
          1.69,
          2.14,
          2,
          2.02,
          2.02,
          2.15,
          1.53,
          2.03,
          2.03,
          1.7,
          1.49,
          1.69,
          1.7,
          1.53,
          1.51,
          2.07,
          3,
          2,
          2,
          2.21,
          2.22,
          2.01,
          2.1,
          2.1,
          1.69,
          2.25,
          2.01,
          2.03,
          1.69,
          1.65,
          1.52,
          2,
          2.17,
          1.74,
          2,
          2.32,
          2.72,
          1.83,
          1.65,
          1.72,
          2.23,
          2.11,
          2.01,
          2.05,
          1.7,
          2.25,
          1.72,
          1.63,
          2.27,
          0.5,
          0.5,
          1.7,
          2,
          2.3,
          1.63,
          2.31,
          2,
          1.75,
          2.01,
          2.04,
          1.75,
          2.03,
          2.12,
          1.72,
          1.75,
          1.72,
          2.11,
          2.5,
          2.2,
          2.01,
          3.01,
          3,
          2,
          2.01,
          1.73,
          2.33,
          2.04,
          1.73,
          2.04,
          2.68,
          2.5,
          2.34,
          2.16,
          2.5,
          2.74,
          2.16,
          2.25,
          2.17,
          2.68,
          2.43,
          2.04,
          0.5,
          0.5,
          2.06,
          3.11,
          2.04,
          3.01,
          2.06,
          2.52,
          2.18,
          2.77,
          2.63,
          3.05,
          2,
          3.02,
          2.63,
          2,
          3.01,
          3,
          0.4,
          2.34,
          2.34,
          3,
          2.72,
          3.65,
          3.24,
          3.22,
          3.5,
          0.38,
          2.75,
          3,
          4.01,
          4.01,
          3.4,
          4,
          3.67,
          3.01,
          0.41,
          4.13,
          5.01,
          4.5,
          0.39,
          0.32,
          0.5,
          0.43,
          0.5,
          0.32,
          0.5,
          0.5,
          0.5,
          0.5,
          0.43,
          0.6,
          0.51,
          0.5,
          0.6,
          0.5,
          0.5,
          0.5,
          0.41,
          0.32,
          0.52,
          0.53,
          0.58,
          0.58,
          0.59,
          0.57,
          0.61,
          0.62,
          0.5,
          0.59,
          0.72,
          0.7,
          0.56,
          0.7,
          0.7,
          0.7,
          0.7,
          0.7,
          0.52,
          0.7,
          0.7,
          0.7,
          0.7,
          0.7,
          0.75,
          0.7,
          0.57,
          0.5,
          0.52,
          0.7,
          0.7,
          0.7,
          0.73,
          0.7,
          0.7,
          0.32,
          0.7,
          0.7,
          0.7,
          0.51,
          0.4,
          0.7,
          0.7,
          0.73,
          0.7,
          0.7,
          0.7,
          0.7,
          0.7,
          0.3,
          0.7,
          0.7,
          0.7,
          0.7,
          0.7,
          0.7,
          0.7,
          0.76,
          0.64,
          0.7,
          0.72,
          0.38,
          0.7,
          0.73,
          0.72,
          0.61,
          0.73,
          0.5,
          0.7,
          0.73,
          0.41,
          0.73,
          0.8,
          0.7,
          0.85,
          0.61,
          0.7,
          1.03,
          0.7,
          0.85,
          0.73,
          0.85,
          0.85,
          0.85,
          0.89,
          0.8,
          0.73,
          0.71,
          0.39,
          0.31,
          0.97,
          0.91,
          0.9,
          0.7,
          0.73,
          0.76,
          0.96,
          0.7,
          0.85,
          1,
          0.96,
          0.96,
          0.98,
          0.8,
          0.71,
          0.7,
          0.96,
          0.96,
          0.84,
          0.98,
          0.9,
          0.71,
          0.96,
          0.9,
          1,
          0.9,
          0.97,
          0.99,
          0.85,
          1,
          0.96,
          0.96,
          0.87,
          0.86,
          0.74,
          0.34,
          0.34,
          0.99,
          0.96,
          0.7,
          1,
          0.98,
          0.98,
          0.9,
          0.9,
          0.9,
          0.9,
          0.91,
          1,
          1,
          1.01,
          1,
          1.01,
          1.04,
          0.98,
          0.91,
          1,
          0.98,
          0.98,
          1.05,
          0.96,
          1.06,
          1,
          1.01,
          1,
          1.04,
          0.9,
          0.9,
          0.34,
          0.87,
          0.95,
          0.9,
          0.9,
          1.01,
          1.03,
          0.91,
          0.9,
          0.97,
          1.06,
          0.9,
          1.01,
          1.07,
          1,
          1,
          1.01,
          1.01,
          1.05,
          0.96,
          0.9,
          0.9,
          0.95,
          1.14,
          0.96,
          1.17,
          1.03,
          1.05,
          1.01,
          0.91,
          1.02,
          0.9,
          0.97,
          0.97,
          1.2,
          0.96,
          1.01,
          1.16,
          0.97,
          0.93,
          1.07,
          1.2,
          1.2,
          1.2,
          1.05,
          1.12,
          1.02,
          1.03,
          0.93,
          1.05,
          1.21,
          1,
          1.01,
          1.02,
          0.91,
          0.91,
          1.01,
          0.91,
          1.3,
          1.01,
          1.03,
          0.94,
          1.3,
          0.94,
          1.29,
          1.01,
          0.92,
          0.81,
          0.9,
          0.93,
          1.2,
          0.93,
          0.9,
          0.93,
          1.2,
          1,
          0.92,
          1,
          0.92,
          1.22,
          1.05,
          1,
          1,
          1.04,
          1.02
         ]
        }
       ],
       "layout": {
        "barmode": "stack",
        "template": {
         "data": {
          "bar": [
           {
            "error_x": {
             "color": "#2a3f5f"
            },
            "error_y": {
             "color": "#2a3f5f"
            },
            "marker": {
             "line": {
              "color": "#E5ECF6",
              "width": 0.5
             }
            },
            "type": "bar"
           }
          ],
          "barpolar": [
           {
            "marker": {
             "line": {
              "color": "#E5ECF6",
              "width": 0.5
             }
            },
            "type": "barpolar"
           }
          ],
          "carpet": [
           {
            "aaxis": {
             "endlinecolor": "#2a3f5f",
             "gridcolor": "white",
             "linecolor": "white",
             "minorgridcolor": "white",
             "startlinecolor": "#2a3f5f"
            },
            "baxis": {
             "endlinecolor": "#2a3f5f",
             "gridcolor": "white",
             "linecolor": "white",
             "minorgridcolor": "white",
             "startlinecolor": "#2a3f5f"
            },
            "type": "carpet"
           }
          ],
          "choropleth": [
           {
            "colorbar": {
             "outlinewidth": 0,
             "ticks": ""
            },
            "type": "choropleth"
           }
          ],
          "contour": [
           {
            "colorbar": {
             "outlinewidth": 0,
             "ticks": ""
            },
            "colorscale": [
             [
              0,
              "#0d0887"
             ],
             [
              0.1111111111111111,
              "#46039f"
             ],
             [
              0.2222222222222222,
              "#7201a8"
             ],
             [
              0.3333333333333333,
              "#9c179e"
             ],
             [
              0.4444444444444444,
              "#bd3786"
             ],
             [
              0.5555555555555556,
              "#d8576b"
             ],
             [
              0.6666666666666666,
              "#ed7953"
             ],
             [
              0.7777777777777778,
              "#fb9f3a"
             ],
             [
              0.8888888888888888,
              "#fdca26"
             ],
             [
              1,
              "#f0f921"
             ]
            ],
            "type": "contour"
           }
          ],
          "contourcarpet": [
           {
            "colorbar": {
             "outlinewidth": 0,
             "ticks": ""
            },
            "type": "contourcarpet"
           }
          ],
          "heatmap": [
           {
            "colorbar": {
             "outlinewidth": 0,
             "ticks": ""
            },
            "colorscale": [
             [
              0,
              "#0d0887"
             ],
             [
              0.1111111111111111,
              "#46039f"
             ],
             [
              0.2222222222222222,
              "#7201a8"
             ],
             [
              0.3333333333333333,
              "#9c179e"
             ],
             [
              0.4444444444444444,
              "#bd3786"
             ],
             [
              0.5555555555555556,
              "#d8576b"
             ],
             [
              0.6666666666666666,
              "#ed7953"
             ],
             [
              0.7777777777777778,
              "#fb9f3a"
             ],
             [
              0.8888888888888888,
              "#fdca26"
             ],
             [
              1,
              "#f0f921"
             ]
            ],
            "type": "heatmap"
           }
          ],
          "heatmapgl": [
           {
            "colorbar": {
             "outlinewidth": 0,
             "ticks": ""
            },
            "colorscale": [
             [
              0,
              "#0d0887"
             ],
             [
              0.1111111111111111,
              "#46039f"
             ],
             [
              0.2222222222222222,
              "#7201a8"
             ],
             [
              0.3333333333333333,
              "#9c179e"
             ],
             [
              0.4444444444444444,
              "#bd3786"
             ],
             [
              0.5555555555555556,
              "#d8576b"
             ],
             [
              0.6666666666666666,
              "#ed7953"
             ],
             [
              0.7777777777777778,
              "#fb9f3a"
             ],
             [
              0.8888888888888888,
              "#fdca26"
             ],
             [
              1,
              "#f0f921"
             ]
            ],
            "type": "heatmapgl"
           }
          ],
          "histogram": [
           {
            "marker": {
             "colorbar": {
              "outlinewidth": 0,
              "ticks": ""
             }
            },
            "type": "histogram"
           }
          ],
          "histogram2d": [
           {
            "colorbar": {
             "outlinewidth": 0,
             "ticks": ""
            },
            "colorscale": [
             [
              0,
              "#0d0887"
             ],
             [
              0.1111111111111111,
              "#46039f"
             ],
             [
              0.2222222222222222,
              "#7201a8"
             ],
             [
              0.3333333333333333,
              "#9c179e"
             ],
             [
              0.4444444444444444,
              "#bd3786"
             ],
             [
              0.5555555555555556,
              "#d8576b"
             ],
             [
              0.6666666666666666,
              "#ed7953"
             ],
             [
              0.7777777777777778,
              "#fb9f3a"
             ],
             [
              0.8888888888888888,
              "#fdca26"
             ],
             [
              1,
              "#f0f921"
             ]
            ],
            "type": "histogram2d"
           }
          ],
          "histogram2dcontour": [
           {
            "colorbar": {
             "outlinewidth": 0,
             "ticks": ""
            },
            "colorscale": [
             [
              0,
              "#0d0887"
             ],
             [
              0.1111111111111111,
              "#46039f"
             ],
             [
              0.2222222222222222,
              "#7201a8"
             ],
             [
              0.3333333333333333,
              "#9c179e"
             ],
             [
              0.4444444444444444,
              "#bd3786"
             ],
             [
              0.5555555555555556,
              "#d8576b"
             ],
             [
              0.6666666666666666,
              "#ed7953"
             ],
             [
              0.7777777777777778,
              "#fb9f3a"
             ],
             [
              0.8888888888888888,
              "#fdca26"
             ],
             [
              1,
              "#f0f921"
             ]
            ],
            "type": "histogram2dcontour"
           }
          ],
          "mesh3d": [
           {
            "colorbar": {
             "outlinewidth": 0,
             "ticks": ""
            },
            "type": "mesh3d"
           }
          ],
          "parcoords": [
           {
            "line": {
             "colorbar": {
              "outlinewidth": 0,
              "ticks": ""
             }
            },
            "type": "parcoords"
           }
          ],
          "scatter": [
           {
            "marker": {
             "colorbar": {
              "outlinewidth": 0,
              "ticks": ""
             }
            },
            "type": "scatter"
           }
          ],
          "scatter3d": [
           {
            "line": {
             "colorbar": {
              "outlinewidth": 0,
              "ticks": ""
             }
            },
            "marker": {
             "colorbar": {
              "outlinewidth": 0,
              "ticks": ""
             }
            },
            "type": "scatter3d"
           }
          ],
          "scattercarpet": [
           {
            "marker": {
             "colorbar": {
              "outlinewidth": 0,
              "ticks": ""
             }
            },
            "type": "scattercarpet"
           }
          ],
          "scattergeo": [
           {
            "marker": {
             "colorbar": {
              "outlinewidth": 0,
              "ticks": ""
             }
            },
            "type": "scattergeo"
           }
          ],
          "scattergl": [
           {
            "marker": {
             "colorbar": {
              "outlinewidth": 0,
              "ticks": ""
             }
            },
            "type": "scattergl"
           }
          ],
          "scattermapbox": [
           {
            "marker": {
             "colorbar": {
              "outlinewidth": 0,
              "ticks": ""
             }
            },
            "type": "scattermapbox"
           }
          ],
          "scatterpolar": [
           {
            "marker": {
             "colorbar": {
              "outlinewidth": 0,
              "ticks": ""
             }
            },
            "type": "scatterpolar"
           }
          ],
          "scatterpolargl": [
           {
            "marker": {
             "colorbar": {
              "outlinewidth": 0,
              "ticks": ""
             }
            },
            "type": "scatterpolargl"
           }
          ],
          "scatterternary": [
           {
            "marker": {
             "colorbar": {
              "outlinewidth": 0,
              "ticks": ""
             }
            },
            "type": "scatterternary"
           }
          ],
          "surface": [
           {
            "colorbar": {
             "outlinewidth": 0,
             "ticks": ""
            },
            "colorscale": [
             [
              0,
              "#0d0887"
             ],
             [
              0.1111111111111111,
              "#46039f"
             ],
             [
              0.2222222222222222,
              "#7201a8"
             ],
             [
              0.3333333333333333,
              "#9c179e"
             ],
             [
              0.4444444444444444,
              "#bd3786"
             ],
             [
              0.5555555555555556,
              "#d8576b"
             ],
             [
              0.6666666666666666,
              "#ed7953"
             ],
             [
              0.7777777777777778,
              "#fb9f3a"
             ],
             [
              0.8888888888888888,
              "#fdca26"
             ],
             [
              1,
              "#f0f921"
             ]
            ],
            "type": "surface"
           }
          ],
          "table": [
           {
            "cells": {
             "fill": {
              "color": "#EBF0F8"
             },
             "line": {
              "color": "white"
             }
            },
            "header": {
             "fill": {
              "color": "#C8D4E3"
             },
             "line": {
              "color": "white"
             }
            },
            "type": "table"
           }
          ]
         },
         "layout": {
          "annotationdefaults": {
           "arrowcolor": "#2a3f5f",
           "arrowhead": 0,
           "arrowwidth": 1
          },
          "colorscale": {
           "diverging": [
            [
             0,
             "#8e0152"
            ],
            [
             0.1,
             "#c51b7d"
            ],
            [
             0.2,
             "#de77ae"
            ],
            [
             0.3,
             "#f1b6da"
            ],
            [
             0.4,
             "#fde0ef"
            ],
            [
             0.5,
             "#f7f7f7"
            ],
            [
             0.6,
             "#e6f5d0"
            ],
            [
             0.7,
             "#b8e186"
            ],
            [
             0.8,
             "#7fbc41"
            ],
            [
             0.9,
             "#4d9221"
            ],
            [
             1,
             "#276419"
            ]
           ],
           "sequential": [
            [
             0,
             "#0d0887"
            ],
            [
             0.1111111111111111,
             "#46039f"
            ],
            [
             0.2222222222222222,
             "#7201a8"
            ],
            [
             0.3333333333333333,
             "#9c179e"
            ],
            [
             0.4444444444444444,
             "#bd3786"
            ],
            [
             0.5555555555555556,
             "#d8576b"
            ],
            [
             0.6666666666666666,
             "#ed7953"
            ],
            [
             0.7777777777777778,
             "#fb9f3a"
            ],
            [
             0.8888888888888888,
             "#fdca26"
            ],
            [
             1,
             "#f0f921"
            ]
           ],
           "sequentialminus": [
            [
             0,
             "#0d0887"
            ],
            [
             0.1111111111111111,
             "#46039f"
            ],
            [
             0.2222222222222222,
             "#7201a8"
            ],
            [
             0.3333333333333333,
             "#9c179e"
            ],
            [
             0.4444444444444444,
             "#bd3786"
            ],
            [
             0.5555555555555556,
             "#d8576b"
            ],
            [
             0.6666666666666666,
             "#ed7953"
            ],
            [
             0.7777777777777778,
             "#fb9f3a"
            ],
            [
             0.8888888888888888,
             "#fdca26"
            ],
            [
             1,
             "#f0f921"
            ]
           ]
          },
          "colorway": [
           "#636efa",
           "#EF553B",
           "#00cc96",
           "#ab63fa",
           "#FFA15A",
           "#19d3f3",
           "#FF6692",
           "#B6E880",
           "#FF97FF",
           "#FECB52"
          ],
          "font": {
           "color": "#2a3f5f"
          },
          "geo": {
           "bgcolor": "white",
           "lakecolor": "white",
           "landcolor": "#E5ECF6",
           "showlakes": true,
           "showland": true,
           "subunitcolor": "white"
          },
          "hoverlabel": {
           "align": "left"
          },
          "hovermode": "closest",
          "mapbox": {
           "style": "light"
          },
          "paper_bgcolor": "white",
          "plot_bgcolor": "#E5ECF6",
          "polar": {
           "angularaxis": {
            "gridcolor": "white",
            "linecolor": "white",
            "ticks": ""
           },
           "bgcolor": "#E5ECF6",
           "radialaxis": {
            "gridcolor": "white",
            "linecolor": "white",
            "ticks": ""
           }
          },
          "scene": {
           "xaxis": {
            "backgroundcolor": "#E5ECF6",
            "gridcolor": "white",
            "gridwidth": 2,
            "linecolor": "white",
            "showbackground": true,
            "ticks": "",
            "zerolinecolor": "white"
           },
           "yaxis": {
            "backgroundcolor": "#E5ECF6",
            "gridcolor": "white",
            "gridwidth": 2,
            "linecolor": "white",
            "showbackground": true,
            "ticks": "",
            "zerolinecolor": "white"
           },
           "zaxis": {
            "backgroundcolor": "#E5ECF6",
            "gridcolor": "white",
            "gridwidth": 2,
            "linecolor": "white",
            "showbackground": true,
            "ticks": "",
            "zerolinecolor": "white"
           }
          },
          "shapedefaults": {
           "line": {
            "color": "#2a3f5f"
           }
          },
          "ternary": {
           "aaxis": {
            "gridcolor": "white",
            "linecolor": "white",
            "ticks": ""
           },
           "baxis": {
            "gridcolor": "white",
            "linecolor": "white",
            "ticks": ""
           },
           "bgcolor": "#E5ECF6",
           "caxis": {
            "gridcolor": "white",
            "linecolor": "white",
            "ticks": ""
           }
          },
          "title": {
           "x": 0.05
          },
          "xaxis": {
           "automargin": true,
           "gridcolor": "white",
           "linecolor": "white",
           "ticks": "",
           "zerolinecolor": "white",
           "zerolinewidth": 2
          },
          "yaxis": {
           "automargin": true,
           "gridcolor": "white",
           "linecolor": "white",
           "ticks": "",
           "zerolinecolor": "white",
           "zerolinewidth": 2
          }
         }
        }
       }
      },
      "text/html": [
       "<div>\n",
       "        \n",
       "        \n",
       "            <div id=\"56f0521a-0808-482b-9380-4a05cc081ddd\" class=\"plotly-graph-div\" style=\"height:525px; width:100%;\"></div>\n",
       "            <script type=\"text/javascript\">\n",
       "                require([\"plotly\"], function(Plotly) {\n",
       "                    window.PLOTLYENV=window.PLOTLYENV || {};\n",
       "                    \n",
       "                if (document.getElementById(\"56f0521a-0808-482b-9380-4a05cc081ddd\")) {\n",
       "                    Plotly.newPlot(\n",
       "                        '56f0521a-0808-482b-9380-4a05cc081ddd',\n",
       "                        [{\"name\": \"I1\", \"type\": \"bar\", \"x\": [\"Premium\", \"Very Good\", \"Premium\", \"Fair\", \"Ideal\", \"Premium\", \"Fair\", \"Fair\", \"Very Good\", \"Premium\", \"Premium\", \"Premium\", \"Ideal\", \"Ideal\", \"Premium\", \"Ideal\", \"Good\", \"Good\", \"Very Good\", \"Premium\", \"Ideal\", \"Premium\", \"Premium\", \"Premium\", \"Ideal\", \"Premium\", \"Fair\", \"Very Good\", \"Ideal\", \"Ideal\", \"Premium\", \"Fair\", \"Very Good\", \"Good\", \"Fair\", \"Premium\", \"Fair\", \"Premium\", \"Very Good\", \"Premium\", \"Fair\", \"Very Good\", \"Fair\", \"Fair\", \"Fair\", \"Premium\", \"Premium\", \"Very Good\", \"Very Good\", \"Good\", \"Good\", \"Very Good\", \"Premium\", \"Very Good\", \"Ideal\", \"Premium\", \"Good\", \"Good\", \"Good\", \"Good\", \"Premium\", \"Good\", \"Premium\", \"Ideal\", \"Premium\", \"Very Good\", \"Good\", \"Premium\", \"Premium\", \"Very Good\", \"Ideal\", \"Ideal\", \"Ideal\", \"Premium\", \"Fair\", \"Good\", \"Premium\", \"Very Good\", \"Premium\", \"Good\", \"Very Good\", \"Premium\", \"Very Good\", \"Ideal\", \"Very Good\", \"Good\", \"Premium\", \"Premium\", \"Ideal\", \"Very Good\", \"Very Good\", \"Premium\", \"Very Good\", \"Ideal\", \"Ideal\", \"Premium\", \"Premium\", \"Good\", \"Ideal\", \"Ideal\", \"Ideal\", \"Premium\", \"Ideal\", \"Ideal\", \"Ideal\", \"Premium\", \"Premium\", \"Ideal\", \"Good\", \"Good\", \"Ideal\", \"Ideal\", \"Premium\", \"Ideal\", \"Very Good\", \"Premium\", \"Ideal\", \"Premium\", \"Good\", \"Good\", \"Fair\", \"Ideal\", \"Ideal\", \"Very Good\", \"Very Good\", \"Premium\", \"Ideal\", \"Premium\", \"Premium\", \"Ideal\", \"Ideal\", \"Ideal\", \"Premium\", \"Premium\", \"Ideal\", \"Ideal\", \"Premium\", \"Premium\", \"Premium\", \"Ideal\", \"Premium\", \"Ideal\", \"Premium\", \"Ideal\", \"Ideal\", \"Premium\", \"Ideal\", \"Ideal\", \"Ideal\", \"Ideal\", \"Ideal\", \"Premium\", \"Premium\", \"Very Good\", \"Ideal\", \"Very Good\", \"Premium\", \"Ideal\", \"Ideal\", \"Ideal\", \"Very Good\", \"Ideal\", \"Ideal\", \"Fair\", \"Very Good\", \"Good\", \"Premium\", \"Ideal\", \"Premium\", \"Good\", \"Ideal\", \"Ideal\", \"Premium\", \"Fair\", \"Fair\", \"Ideal\", \"Premium\", \"Ideal\", \"Fair\", \"Premium\", \"Ideal\", \"Ideal\", \"Fair\", \"Premium\", \"Very Good\", \"Premium\", \"Ideal\", \"Very Good\", \"Ideal\", \"Very Good\", \"Premium\", \"Ideal\", \"Very Good\", \"Premium\", \"Ideal\", \"Good\", \"Premium\", \"Ideal\", \"Ideal\", \"Ideal\", \"Very Good\", \"Premium\", \"Ideal\", \"Very Good\", \"Ideal\", \"Premium\", \"Ideal\", \"Ideal\", \"Premium\", \"Very Good\", \"Premium\", \"Good\", \"Premium\", \"Premium\", \"Ideal\", \"Premium\", \"Premium\", \"Premium\", \"Good\", \"Ideal\", \"Premium\", \"Very Good\", \"Good\", \"Premium\", \"Ideal\", \"Ideal\", \"Ideal\", \"Fair\", \"Premium\", \"Good\", \"Fair\", \"Ideal\", \"Fair\", \"Good\", \"Ideal\", \"Ideal\", \"Fair\", \"Premium\", \"Fair\", \"Fair\", \"Good\", \"Premium\", \"Good\", \"Fair\", \"Ideal\", \"Premium\", \"Fair\", \"Premium\", \"Ideal\", \"Premium\", \"Good\", \"Premium\", \"Ideal\", \"Ideal\", \"Very Good\", \"Good\", \"Ideal\", \"Fair\", \"Fair\", \"Very Good\", \"Fair\", \"Fair\", \"Fair\", \"Ideal\", \"Ideal\", \"Good\", \"Fair\", \"Fair\", \"Fair\", \"Fair\", \"Good\", \"Premium\", \"Good\", \"Premium\", \"Fair\", \"Premium\", \"Premium\", \"Ideal\", \"Very Good\", \"Premium\", \"Fair\", \"Fair\", \"Very Good\", \"Ideal\", \"Premium\", \"Ideal\", \"Very Good\", \"Premium\", \"Fair\", \"Premium\", \"Fair\", \"Good\", \"Fair\", \"Good\", \"Premium\", \"Ideal\", \"Fair\", \"Fair\", \"Ideal\", \"Fair\", \"Ideal\", \"Good\", \"Fair\", \"Fair\", \"Fair\", \"Good\", \"Fair\", \"Very Good\", \"Ideal\", \"Fair\", \"Fair\", \"Fair\", \"Fair\", \"Good\", \"Very Good\", \"Fair\", \"Good\", \"Fair\", \"Premium\", \"Very Good\", \"Good\", \"Good\", \"Fair\", \"Very Good\", \"Fair\", \"Fair\", \"Good\", \"Very Good\", \"Premium\", \"Very Good\", \"Good\", \"Good\", \"Ideal\", \"Ideal\", \"Very Good\", \"Fair\", \"Premium\", \"Ideal\", \"Premium\", \"Ideal\", \"Good\", \"Fair\", \"Ideal\", \"Premium\", \"Ideal\", \"Premium\", \"Fair\", \"Premium\", \"Fair\", \"Premium\", \"Fair\", \"Fair\", \"Premium\", \"Good\", \"Fair\", \"Premium\", \"Ideal\", \"Fair\", \"Premium\", \"Good\", \"Ideal\", \"Premium\", \"Fair\", \"Very Good\", \"Good\", \"Fair\", \"Premium\", \"Fair\", \"Very Good\", \"Fair\", \"Fair\", \"Ideal\", \"Fair\", \"Good\", \"Fair\", \"Ideal\", \"Premium\", \"Ideal\", \"Fair\", \"Fair\", \"Premium\", \"Good\", \"Fair\", \"Fair\", \"Fair\", \"Premium\", \"Very Good\", \"Very Good\", \"Fair\", \"Good\", \"Good\", \"Ideal\", \"Fair\", \"Premium\", \"Ideal\", \"Fair\", \"Fair\", \"Fair\", \"Ideal\", \"Ideal\", \"Premium\", \"Ideal\", \"Fair\", \"Fair\", \"Ideal\", \"Fair\", \"Premium\", \"Ideal\", \"Premium\", \"Premium\", \"Premium\", \"Ideal\", \"Ideal\", \"Very Good\", \"Fair\", \"Fair\", \"Good\", \"Premium\", \"Fair\", \"Fair\", \"Very Good\", \"Good\", \"Premium\", \"Very Good\", \"Good\", \"Premium\", \"Premium\", \"Premium\", \"Premium\", \"Ideal\", \"Fair\", \"Fair\", \"Ideal\", \"Ideal\", \"Premium\", \"Very Good\", \"Premium\", \"Premium\", \"Fair\", \"Fair\", \"Very Good\", \"Fair\", \"Premium\", \"Premium\", \"Premium\", \"Fair\", \"Very Good\", \"Premium\", \"Very Good\", \"Premium\", \"Ideal\", \"Fair\", \"Premium\", \"Ideal\", \"Fair\", \"Good\", \"Ideal\", \"Very Good\", \"Ideal\", \"Good\", \"Ideal\", \"Fair\", \"Premium\", \"Ideal\", \"Ideal\", \"Ideal\", \"Ideal\", \"Premium\", \"Premium\", \"Premium\", \"Fair\", \"Very Good\", \"Premium\", \"Ideal\", \"Good\", \"Fair\", \"Fair\", \"Fair\", \"Ideal\", \"Good\", \"Fair\", \"Premium\", \"Fair\", \"Premium\", \"Very Good\", \"Fair\", \"Fair\", \"Premium\", \"Premium\", \"Premium\", \"Premium\", \"Fair\", \"Premium\", \"Premium\", \"Premium\", \"Premium\", \"Good\", \"Good\", \"Premium\", \"Premium\", \"Fair\", \"Fair\", \"Fair\", \"Very Good\", \"Good\", \"Premium\", \"Very Good\", \"Premium\", \"Premium\", \"Fair\", \"Premium\", \"Fair\", \"Fair\", \"Fair\", \"Fair\", \"Fair\", \"Ideal\", \"Fair\", \"Fair\", \"Fair\", \"Fair\", \"Fair\", \"Good\", \"Fair\", \"Ideal\", \"Premium\", \"Premium\", \"Premium\", \"Good\", \"Very Good\", \"Fair\", \"Fair\", \"Fair\", \"Ideal\", \"Fair\", \"Fair\", \"Fair\", \"Ideal\", \"Good\", \"Fair\", \"Fair\", \"Fair\", \"Premium\", \"Good\", \"Premium\", \"Very Good\", \"Fair\", \"Ideal\", \"Good\", \"Fair\", \"Good\", \"Fair\", \"Premium\", \"Premium\", \"Fair\", \"Fair\", \"Good\", \"Fair\", \"Fair\", \"Ideal\", \"Fair\", \"Fair\", \"Good\", \"Good\", \"Fair\", \"Very Good\", \"Premium\", \"Premium\", \"Good\", \"Good\", \"Fair\", \"Very Good\", \"Fair\", \"Ideal\", \"Good\", \"Fair\", \"Fair\", \"Fair\", \"Very Good\", \"Fair\", \"Fair\", \"Fair\", \"Fair\", \"Good\", \"Premium\", \"Very Good\", \"Very Good\", \"Premium\", \"Fair\", \"Fair\", \"Premium\", \"Premium\", \"Good\", \"Premium\", \"Fair\", \"Premium\", \"Fair\", \"Premium\", \"Fair\", \"Fair\", \"Fair\", \"Fair\", \"Very Good\", \"Very Good\", \"Fair\", \"Fair\", \"Good\", \"Fair\", \"Fair\", \"Ideal\", \"Fair\", \"Premium\", \"Fair\", \"Fair\", \"Fair\", \"Fair\", \"Premium\", \"Fair\", \"Fair\", \"Fair\", \"Ideal\", \"Premium\", \"Fair\", \"Ideal\", \"Ideal\", \"Fair\", \"Fair\", \"Ideal\", \"Premium\", \"Fair\", \"Fair\", \"Fair\", \"Good\", \"Premium\", \"Premium\", \"Good\", \"Fair\", \"Fair\", \"Premium\", \"Fair\", \"Fair\", \"Fair\", \"Premium\", \"Very Good\", \"Premium\", \"Premium\", \"Premium\", \"Good\", \"Fair\", \"Very Good\", \"Good\", \"Very Good\", \"Fair\", \"Fair\", \"Fair\", \"Good\", \"Fair\", \"Premium\", \"Premium\", \"Very Good\", \"Very Good\", \"Premium\", \"Good\", \"Good\", \"Good\", \"Ideal\", \"Fair\", \"Very Good\", \"Premium\", \"Premium\", \"Premium\", \"Fair\", \"Fair\", \"Very Good\", \"Fair\", \"Fair\", \"Fair\", \"Premium\", \"Fair\", \"Good\", \"Good\", \"Fair\", \"Premium\", \"Premium\", \"Fair\", \"Good\", \"Good\", \"Good\", \"Fair\", \"Ideal\", \"Premium\", \"Ideal\", \"Premium\", \"Premium\", \"Ideal\", \"Very Good\", \"Fair\", \"Fair\", \"Fair\", \"Fair\", \"Premium\", \"Premium\", \"Premium\", \"Premium\", \"Premium\", \"Fair\", \"Fair\", \"Fair\", \"Ideal\", \"Premium\", \"Premium\", \"Premium\", \"Premium\", \"Fair\", \"Fair\", \"Premium\", \"Good\", \"Ideal\", \"Fair\", \"Ideal\", \"Fair\", \"Premium\", \"Premium\", \"Good\", \"Ideal\", \"Very Good\", \"Fair\", \"Premium\", \"Ideal\", \"Premium\", \"Fair\", \"Good\", \"Very Good\", \"Premium\", \"Premium\", \"Premium\", \"Very Good\", \"Good\", \"Fair\", \"Very Good\", \"Good\"], \"y\": [0.32, 1.17, 1.01, 1.01, 0.96, 1.04, 1.0, 1.2, 0.43, 1.02, 1.0, 1.17, 0.96, 0.97, 1.0, 1.01, 1.01, 1.01, 1.2, 1.12, 0.97, 1.22, 1.08, 1.04, 1.02, 1.05, 1.19, 1.01, 1.01, 1.02, 1.2, 1.17, 1.24, 1.0, 1.5, 1.05, 1.13, 1.0, 1.03, 1.24, 1.02, 1.0, 1.2, 1.2, 1.2, 1.01, 1.12, 1.12, 1.03, 1.01, 1.02, 1.03, 1.03, 1.0, 1.0, 1.2, 1.29, 1.52, 1.52, 1.01, 1.08, 1.13, 1.0, 1.0, 1.02, 1.02, 1.21, 1.06, 1.01, 1.01, 1.08, 1.23, 1.03, 1.03, 1.5, 1.5, 1.11, 1.02, 1.02, 1.04, 1.04, 1.11, 1.18, 1.03, 1.05, 1.04, 1.04, 1.11, 1.25, 1.18, 1.01, 1.05, 1.0, 1.02, 1.27, 1.0, 1.01, 1.07, 1.28, 1.0, 1.13, 1.23, 1.01, 1.02, 1.01, 1.01, 1.0, 1.07, 1.07, 1.21, 1.01, 1.03, 1.03, 1.01, 1.02, 1.5, 1.02, 1.13, 1.01, 1.51, 1.52, 1.2, 1.03, 1.19, 1.15, 1.02, 1.0, 1.24, 1.52, 1.13, 1.06, 1.06, 1.13, 1.07, 1.09, 1.2, 1.19, 1.15, 1.0, 1.0, 1.11, 1.02, 1.5, 1.13, 1.15, 1.13, 1.13, 1.06, 1.09, 1.1, 1.03, 1.16, 1.11, 1.22, 1.19, 1.27, 1.17, 1.13, 1.13, 1.1, 1.1, 1.21, 1.1, 1.23, 1.2, 1.5, 1.16, 1.04, 1.25, 1.21, 1.13, 1.19, 1.27, 1.51, 1.51, 1.13, 1.1, 1.1, 1.52, 1.13, 1.14, 1.2, 1.51, 1.02, 1.29, 1.5, 1.19, 1.21, 1.13, 1.18, 1.52, 1.14, 1.23, 1.02, 1.19, 1.5, 1.2, 1.1, 1.12, 1.18, 1.18, 1.29, 1.23, 1.39, 1.02, 1.12, 1.1, 1.12, 1.14, 1.18, 1.18, 1.23, 1.17, 1.39, 1.02, 1.12, 1.14, 1.5, 1.5, 1.23, 1.5, 1.14, 1.23, 1.5, 1.23, 1.14, 1.12, 1.32, 1.5, 1.5, 1.41, 1.18, 1.51, 1.21, 1.12, 1.18, 1.29, 0.43, 1.5, 1.45, 1.27, 1.52, 1.2, 1.5, 1.21, 1.44, 0.5, 1.51, 1.28, 1.58, 1.54, 1.36, 1.28, 1.35, 1.51, 1.5, 1.35, 1.52, 1.52, 1.74, 1.33, 1.5, 1.5, 0.34, 0.34, 1.5, 1.64, 1.47, 1.5, 1.5, 1.55, 1.54, 1.5, 1.32, 1.5, 1.95, 2.0, 1.29, 1.44, 1.54, 1.51, 1.83, 1.5, 1.29, 1.44, 1.57, 1.69, 2.06, 1.72, 1.69, 1.5, 1.5, 2.14, 0.41, 1.5, 1.5, 2.15, 1.5, 1.5, 1.96, 1.5, 1.51, 2.22, 1.7, 1.5, 1.51, 2.0, 1.85, 1.5, 2.01, 2.01, 2.27, 1.51, 1.68, 1.5, 1.81, 1.68, 2.0, 1.5, 1.55, 1.51, 1.44, 1.82, 1.7, 2.03, 2.03, 1.66, 1.5, 1.51, 1.49, 1.51, 2.06, 1.44, 1.66, 1.51, 1.96, 2.08, 1.49, 1.53, 1.54, 1.54, 2.49, 1.54, 1.5, 1.34, 1.83, 2.01, 1.69, 2.14, 2.0, 2.02, 2.02, 2.15, 1.53, 2.03, 2.03, 1.7, 1.49, 1.69, 1.7, 1.53, 1.51, 2.07, 3.0, 2.0, 2.0, 2.21, 2.22, 2.01, 2.1, 2.1, 1.69, 2.25, 2.01, 2.03, 1.69, 1.65, 1.52, 2.0, 2.17, 1.74, 2.0, 2.32, 2.72, 1.83, 1.65, 1.72, 2.23, 2.11, 2.01, 2.05, 1.7, 2.25, 1.72, 1.63, 2.27, 0.5, 0.5, 1.7, 2.0, 2.3, 1.63, 2.31, 2.0, 1.75, 2.01, 2.04, 1.75, 2.03, 2.12, 1.72, 1.75, 1.72, 2.11, 2.5, 2.2, 2.01, 3.01, 3.0, 2.0, 2.01, 1.73, 2.33, 2.04, 1.73, 2.04, 2.68, 2.5, 2.34, 2.16, 2.5, 2.74, 2.16, 2.25, 2.17, 2.68, 2.43, 2.04, 0.5, 0.5, 2.06, 3.11, 2.04, 3.01, 2.06, 2.52, 2.18, 2.77, 2.63, 3.05, 2.0, 3.02, 2.63, 2.0, 3.01, 3.0, 0.4, 2.34, 2.34, 3.0, 2.72, 3.65, 3.24, 3.22, 3.5, 0.38, 2.75, 3.0, 4.01, 4.01, 3.4, 4.0, 3.67, 3.01, 0.41, 4.13, 5.01, 4.5, 0.39, 0.32, 0.5, 0.43, 0.5, 0.32, 0.5, 0.5, 0.5, 0.5, 0.43, 0.6, 0.51, 0.5, 0.6, 0.5, 0.5, 0.5, 0.41, 0.32, 0.52, 0.53, 0.58, 0.58, 0.59, 0.57, 0.61, 0.62, 0.5, 0.59, 0.72, 0.7, 0.56, 0.7, 0.7, 0.7, 0.7, 0.7, 0.52, 0.7, 0.7, 0.7, 0.7, 0.7, 0.75, 0.7, 0.57, 0.5, 0.52, 0.7, 0.7, 0.7, 0.73, 0.7, 0.7, 0.32, 0.7, 0.7, 0.7, 0.51, 0.4, 0.7, 0.7, 0.73, 0.7, 0.7, 0.7, 0.7, 0.7, 0.3, 0.7, 0.7, 0.7, 0.7, 0.7, 0.7, 0.7, 0.76, 0.64, 0.7, 0.72, 0.38, 0.7, 0.73, 0.72, 0.61, 0.73, 0.5, 0.7, 0.73, 0.41, 0.73, 0.8, 0.7, 0.85, 0.61, 0.7, 1.03, 0.7, 0.85, 0.73, 0.85, 0.85, 0.85, 0.89, 0.8, 0.73, 0.71, 0.39, 0.31, 0.97, 0.91, 0.9, 0.7, 0.73, 0.76, 0.96, 0.7, 0.85, 1.0, 0.96, 0.96, 0.98, 0.8, 0.71, 0.7, 0.96, 0.96, 0.84, 0.98, 0.9, 0.71, 0.96, 0.9, 1.0, 0.9, 0.97, 0.99, 0.85, 1.0, 0.96, 0.96, 0.87, 0.86, 0.74, 0.34, 0.34, 0.99, 0.96, 0.7, 1.0, 0.98, 0.98, 0.9, 0.9, 0.9, 0.9, 0.91, 1.0, 1.0, 1.01, 1.0, 1.01, 1.04, 0.98, 0.91, 1.0, 0.98, 0.98, 1.05, 0.96, 1.06, 1.0, 1.01, 1.0, 1.04, 0.9, 0.9, 0.34, 0.87, 0.95, 0.9, 0.9, 1.01, 1.03, 0.91, 0.9, 0.97, 1.06, 0.9, 1.01, 1.07, 1.0, 1.0, 1.01, 1.01, 1.05, 0.96, 0.9, 0.9, 0.95, 1.14, 0.96, 1.17, 1.03, 1.05, 1.01, 0.91, 1.02, 0.9, 0.97, 0.97, 1.2, 0.96, 1.01, 1.16, 0.97, 0.93, 1.07, 1.2, 1.2, 1.2, 1.05, 1.12, 1.02, 1.03, 0.93, 1.05, 1.21, 1.0, 1.01, 1.02, 0.91, 0.91, 1.01, 0.91, 1.3, 1.01, 1.03, 0.94, 1.3, 0.94, 1.29, 1.01, 0.92, 0.81, 0.9, 0.93, 1.2, 0.93, 0.9, 0.93, 1.2, 1.0, 0.92, 1.0, 0.92, 1.22, 1.05, 1.0, 1.0, 1.04, 1.02]}],\n",
       "                        {\"barmode\": \"stack\", \"template\": {\"data\": {\"bar\": [{\"error_x\": {\"color\": \"#2a3f5f\"}, \"error_y\": {\"color\": \"#2a3f5f\"}, \"marker\": {\"line\": {\"color\": \"#E5ECF6\", \"width\": 0.5}}, \"type\": \"bar\"}], \"barpolar\": [{\"marker\": {\"line\": {\"color\": \"#E5ECF6\", \"width\": 0.5}}, \"type\": \"barpolar\"}], \"carpet\": [{\"aaxis\": {\"endlinecolor\": \"#2a3f5f\", \"gridcolor\": \"white\", \"linecolor\": \"white\", \"minorgridcolor\": \"white\", \"startlinecolor\": \"#2a3f5f\"}, \"baxis\": {\"endlinecolor\": \"#2a3f5f\", \"gridcolor\": \"white\", \"linecolor\": \"white\", \"minorgridcolor\": \"white\", \"startlinecolor\": \"#2a3f5f\"}, \"type\": \"carpet\"}], \"choropleth\": [{\"colorbar\": {\"outlinewidth\": 0, \"ticks\": \"\"}, \"type\": \"choropleth\"}], \"contour\": [{\"colorbar\": {\"outlinewidth\": 0, \"ticks\": \"\"}, \"colorscale\": [[0.0, \"#0d0887\"], [0.1111111111111111, \"#46039f\"], [0.2222222222222222, \"#7201a8\"], [0.3333333333333333, \"#9c179e\"], [0.4444444444444444, \"#bd3786\"], [0.5555555555555556, \"#d8576b\"], [0.6666666666666666, \"#ed7953\"], [0.7777777777777778, \"#fb9f3a\"], [0.8888888888888888, \"#fdca26\"], [1.0, \"#f0f921\"]], \"type\": \"contour\"}], \"contourcarpet\": [{\"colorbar\": {\"outlinewidth\": 0, \"ticks\": \"\"}, \"type\": \"contourcarpet\"}], \"heatmap\": [{\"colorbar\": {\"outlinewidth\": 0, \"ticks\": \"\"}, \"colorscale\": [[0.0, \"#0d0887\"], [0.1111111111111111, \"#46039f\"], [0.2222222222222222, \"#7201a8\"], [0.3333333333333333, \"#9c179e\"], [0.4444444444444444, \"#bd3786\"], [0.5555555555555556, \"#d8576b\"], [0.6666666666666666, \"#ed7953\"], [0.7777777777777778, \"#fb9f3a\"], [0.8888888888888888, \"#fdca26\"], [1.0, \"#f0f921\"]], \"type\": \"heatmap\"}], \"heatmapgl\": [{\"colorbar\": {\"outlinewidth\": 0, \"ticks\": \"\"}, \"colorscale\": [[0.0, \"#0d0887\"], [0.1111111111111111, \"#46039f\"], [0.2222222222222222, \"#7201a8\"], [0.3333333333333333, \"#9c179e\"], [0.4444444444444444, \"#bd3786\"], [0.5555555555555556, \"#d8576b\"], [0.6666666666666666, \"#ed7953\"], [0.7777777777777778, \"#fb9f3a\"], [0.8888888888888888, \"#fdca26\"], [1.0, \"#f0f921\"]], \"type\": \"heatmapgl\"}], \"histogram\": [{\"marker\": {\"colorbar\": {\"outlinewidth\": 0, \"ticks\": \"\"}}, \"type\": \"histogram\"}], \"histogram2d\": [{\"colorbar\": {\"outlinewidth\": 0, \"ticks\": \"\"}, \"colorscale\": [[0.0, \"#0d0887\"], [0.1111111111111111, \"#46039f\"], [0.2222222222222222, \"#7201a8\"], [0.3333333333333333, \"#9c179e\"], [0.4444444444444444, \"#bd3786\"], [0.5555555555555556, \"#d8576b\"], [0.6666666666666666, \"#ed7953\"], [0.7777777777777778, \"#fb9f3a\"], [0.8888888888888888, \"#fdca26\"], [1.0, \"#f0f921\"]], \"type\": \"histogram2d\"}], \"histogram2dcontour\": [{\"colorbar\": {\"outlinewidth\": 0, \"ticks\": \"\"}, \"colorscale\": [[0.0, \"#0d0887\"], [0.1111111111111111, \"#46039f\"], [0.2222222222222222, \"#7201a8\"], [0.3333333333333333, \"#9c179e\"], [0.4444444444444444, \"#bd3786\"], [0.5555555555555556, \"#d8576b\"], [0.6666666666666666, \"#ed7953\"], [0.7777777777777778, \"#fb9f3a\"], [0.8888888888888888, \"#fdca26\"], [1.0, \"#f0f921\"]], \"type\": \"histogram2dcontour\"}], \"mesh3d\": [{\"colorbar\": {\"outlinewidth\": 0, \"ticks\": \"\"}, \"type\": \"mesh3d\"}], \"parcoords\": [{\"line\": {\"colorbar\": {\"outlinewidth\": 0, \"ticks\": \"\"}}, \"type\": \"parcoords\"}], \"scatter\": [{\"marker\": {\"colorbar\": {\"outlinewidth\": 0, \"ticks\": \"\"}}, \"type\": \"scatter\"}], \"scatter3d\": [{\"line\": {\"colorbar\": {\"outlinewidth\": 0, \"ticks\": \"\"}}, \"marker\": {\"colorbar\": {\"outlinewidth\": 0, \"ticks\": \"\"}}, \"type\": \"scatter3d\"}], \"scattercarpet\": [{\"marker\": {\"colorbar\": {\"outlinewidth\": 0, \"ticks\": \"\"}}, \"type\": \"scattercarpet\"}], \"scattergeo\": [{\"marker\": {\"colorbar\": {\"outlinewidth\": 0, \"ticks\": \"\"}}, \"type\": \"scattergeo\"}], \"scattergl\": [{\"marker\": {\"colorbar\": {\"outlinewidth\": 0, \"ticks\": \"\"}}, \"type\": \"scattergl\"}], \"scattermapbox\": [{\"marker\": {\"colorbar\": {\"outlinewidth\": 0, \"ticks\": \"\"}}, \"type\": \"scattermapbox\"}], \"scatterpolar\": [{\"marker\": {\"colorbar\": {\"outlinewidth\": 0, \"ticks\": \"\"}}, \"type\": \"scatterpolar\"}], \"scatterpolargl\": [{\"marker\": {\"colorbar\": {\"outlinewidth\": 0, \"ticks\": \"\"}}, \"type\": \"scatterpolargl\"}], \"scatterternary\": [{\"marker\": {\"colorbar\": {\"outlinewidth\": 0, \"ticks\": \"\"}}, \"type\": \"scatterternary\"}], \"surface\": [{\"colorbar\": {\"outlinewidth\": 0, \"ticks\": \"\"}, \"colorscale\": [[0.0, \"#0d0887\"], [0.1111111111111111, \"#46039f\"], [0.2222222222222222, \"#7201a8\"], [0.3333333333333333, \"#9c179e\"], [0.4444444444444444, \"#bd3786\"], [0.5555555555555556, \"#d8576b\"], [0.6666666666666666, \"#ed7953\"], [0.7777777777777778, \"#fb9f3a\"], [0.8888888888888888, \"#fdca26\"], [1.0, \"#f0f921\"]], \"type\": \"surface\"}], \"table\": [{\"cells\": {\"fill\": {\"color\": \"#EBF0F8\"}, \"line\": {\"color\": \"white\"}}, \"header\": {\"fill\": {\"color\": \"#C8D4E3\"}, \"line\": {\"color\": \"white\"}}, \"type\": \"table\"}]}, \"layout\": {\"annotationdefaults\": {\"arrowcolor\": \"#2a3f5f\", \"arrowhead\": 0, \"arrowwidth\": 1}, \"colorscale\": {\"diverging\": [[0, \"#8e0152\"], [0.1, \"#c51b7d\"], [0.2, \"#de77ae\"], [0.3, \"#f1b6da\"], [0.4, \"#fde0ef\"], [0.5, \"#f7f7f7\"], [0.6, \"#e6f5d0\"], [0.7, \"#b8e186\"], [0.8, \"#7fbc41\"], [0.9, \"#4d9221\"], [1, \"#276419\"]], \"sequential\": [[0.0, \"#0d0887\"], [0.1111111111111111, \"#46039f\"], [0.2222222222222222, \"#7201a8\"], [0.3333333333333333, \"#9c179e\"], [0.4444444444444444, \"#bd3786\"], [0.5555555555555556, \"#d8576b\"], [0.6666666666666666, \"#ed7953\"], [0.7777777777777778, \"#fb9f3a\"], [0.8888888888888888, \"#fdca26\"], [1.0, \"#f0f921\"]], \"sequentialminus\": [[0.0, \"#0d0887\"], [0.1111111111111111, \"#46039f\"], [0.2222222222222222, \"#7201a8\"], [0.3333333333333333, \"#9c179e\"], [0.4444444444444444, \"#bd3786\"], [0.5555555555555556, \"#d8576b\"], [0.6666666666666666, \"#ed7953\"], [0.7777777777777778, \"#fb9f3a\"], [0.8888888888888888, \"#fdca26\"], [1.0, \"#f0f921\"]]}, \"colorway\": [\"#636efa\", \"#EF553B\", \"#00cc96\", \"#ab63fa\", \"#FFA15A\", \"#19d3f3\", \"#FF6692\", \"#B6E880\", \"#FF97FF\", \"#FECB52\"], \"font\": {\"color\": \"#2a3f5f\"}, \"geo\": {\"bgcolor\": \"white\", \"lakecolor\": \"white\", \"landcolor\": \"#E5ECF6\", \"showlakes\": true, \"showland\": true, \"subunitcolor\": \"white\"}, \"hoverlabel\": {\"align\": \"left\"}, \"hovermode\": \"closest\", \"mapbox\": {\"style\": \"light\"}, \"paper_bgcolor\": \"white\", \"plot_bgcolor\": \"#E5ECF6\", \"polar\": {\"angularaxis\": {\"gridcolor\": \"white\", \"linecolor\": \"white\", \"ticks\": \"\"}, \"bgcolor\": \"#E5ECF6\", \"radialaxis\": {\"gridcolor\": \"white\", \"linecolor\": \"white\", \"ticks\": \"\"}}, \"scene\": {\"xaxis\": {\"backgroundcolor\": \"#E5ECF6\", \"gridcolor\": \"white\", \"gridwidth\": 2, \"linecolor\": \"white\", \"showbackground\": true, \"ticks\": \"\", \"zerolinecolor\": \"white\"}, \"yaxis\": {\"backgroundcolor\": \"#E5ECF6\", \"gridcolor\": \"white\", \"gridwidth\": 2, \"linecolor\": \"white\", \"showbackground\": true, \"ticks\": \"\", \"zerolinecolor\": \"white\"}, \"zaxis\": {\"backgroundcolor\": \"#E5ECF6\", \"gridcolor\": \"white\", \"gridwidth\": 2, \"linecolor\": \"white\", \"showbackground\": true, \"ticks\": \"\", \"zerolinecolor\": \"white\"}}, \"shapedefaults\": {\"line\": {\"color\": \"#2a3f5f\"}}, \"ternary\": {\"aaxis\": {\"gridcolor\": \"white\", \"linecolor\": \"white\", \"ticks\": \"\"}, \"baxis\": {\"gridcolor\": \"white\", \"linecolor\": \"white\", \"ticks\": \"\"}, \"bgcolor\": \"#E5ECF6\", \"caxis\": {\"gridcolor\": \"white\", \"linecolor\": \"white\", \"ticks\": \"\"}}, \"title\": {\"x\": 0.05}, \"xaxis\": {\"automargin\": true, \"gridcolor\": \"white\", \"linecolor\": \"white\", \"ticks\": \"\", \"zerolinecolor\": \"white\", \"zerolinewidth\": 2}, \"yaxis\": {\"automargin\": true, \"gridcolor\": \"white\", \"linecolor\": \"white\", \"ticks\": \"\", \"zerolinecolor\": \"white\", \"zerolinewidth\": 2}}}},\n",
       "                        {\"responsive\": true}\n",
       "                    ).then(function(){\n",
       "                            \n",
       "var gd = document.getElementById('56f0521a-0808-482b-9380-4a05cc081ddd');\n",
       "var x = new MutationObserver(function (mutations, observer) {{\n",
       "        var display = window.getComputedStyle(gd).display;\n",
       "        if (!display || display === 'none') {{\n",
       "            console.log([gd, 'removed!']);\n",
       "            Plotly.purge(gd);\n",
       "            observer.disconnect();\n",
       "        }}\n",
       "}});\n",
       "\n",
       "// Listen for the removal of the full notebook cells\n",
       "var notebookContainer = gd.closest('#notebook-container');\n",
       "if (notebookContainer) {{\n",
       "    x.observe(notebookContainer, {childList: true});\n",
       "}}\n",
       "\n",
       "// Listen for the clearing of the current output cell\n",
       "var outputEl = gd.closest('.output');\n",
       "if (outputEl) {{\n",
       "    x.observe(outputEl, {childList: true});\n",
       "}}\n",
       "\n",
       "                        })\n",
       "                };\n",
       "                });\n",
       "            </script>\n",
       "        </div>"
      ]
     },
     "metadata": {},
     "output_type": "display_data"
    }
   ],
   "source": [
    "#data = [trace1, trace2]\n",
    "layout = go.Layout(\n",
    "    barmode='stack'\n",
    ")\n",
    "\n",
    "fig = go.Figure(data=data, layout=layout)\n",
    "iplot(fig)"
   ]
  },
  {
   "cell_type": "markdown",
   "metadata": {},
   "source": [
    "### Population Pyramid"
   ]
  },
  {
   "cell_type": "code",
   "execution_count": 16,
   "metadata": {},
   "outputs": [
    {
     "data": {
      "text/html": [
       "<div>\n",
       "<style scoped>\n",
       "    .dataframe tbody tr th:only-of-type {\n",
       "        vertical-align: middle;\n",
       "    }\n",
       "\n",
       "    .dataframe tbody tr th {\n",
       "        vertical-align: top;\n",
       "    }\n",
       "\n",
       "    .dataframe thead th {\n",
       "        text-align: right;\n",
       "    }\n",
       "</style>\n",
       "<table border=\"1\" class=\"dataframe\">\n",
       "  <thead>\n",
       "    <tr style=\"text-align: right;\">\n",
       "      <th></th>\n",
       "      <th>sex</th>\n",
       "      <th>age</th>\n",
       "      <th>pop</th>\n",
       "    </tr>\n",
       "  </thead>\n",
       "  <tbody>\n",
       "    <tr>\n",
       "      <th>0</th>\n",
       "      <td>Male</td>\n",
       "      <td>0</td>\n",
       "      <td>2014276</td>\n",
       "    </tr>\n",
       "    <tr>\n",
       "      <th>1</th>\n",
       "      <td>Male</td>\n",
       "      <td>1</td>\n",
       "      <td>2030853</td>\n",
       "    </tr>\n",
       "    <tr>\n",
       "      <th>2</th>\n",
       "      <td>Male</td>\n",
       "      <td>2</td>\n",
       "      <td>2092198</td>\n",
       "    </tr>\n",
       "    <tr>\n",
       "      <th>3</th>\n",
       "      <td>Male</td>\n",
       "      <td>3</td>\n",
       "      <td>2104550</td>\n",
       "    </tr>\n",
       "    <tr>\n",
       "      <th>4</th>\n",
       "      <td>Male</td>\n",
       "      <td>4</td>\n",
       "      <td>2077550</td>\n",
       "    </tr>\n",
       "  </tbody>\n",
       "</table>\n",
       "</div>"
      ],
      "text/plain": [
       "    sex  age      pop\n",
       "0  Male    0  2014276\n",
       "1  Male    1  2030853\n",
       "2  Male    2  2092198\n",
       "3  Male    3  2104550\n",
       "4  Male    4  2077550"
      ]
     },
     "execution_count": 16,
     "metadata": {},
     "output_type": "execute_result"
    }
   ],
   "source": [
    "census = pd.read_csv(\"/dsa/data/all_datasets/census/census2010pyr.csv\")\n",
    "census.head()"
   ]
  },
  {
   "cell_type": "markdown",
   "metadata": {},
   "source": [
    "Two separate lists are needed with population values for males and females for plotting respective bar charts. The columns are extracted and converted into a list. "
   ]
  },
  {
   "cell_type": "code",
   "execution_count": 17,
   "metadata": {},
   "outputs": [],
   "source": [
    "# subset are created for male and female data rows\n",
    "male=census[(census.sex == 'Male')]\n",
    "female=census[(census.sex == 'Female')]"
   ]
  },
  {
   "cell_type": "code",
   "execution_count": 18,
   "metadata": {},
   "outputs": [
    {
     "data": {
      "text/plain": [
       "<matplotlib.legend.Legend at 0x7f6fb5315a20>"
      ]
     },
     "execution_count": 18,
     "metadata": {},
     "output_type": "execute_result"
    },
    {
     "data": {
      "image/png": "[encoded data removed]",
      "text/plain": [
       "<Figure size 1080x504 with 1 Axes>"
      ]
     },
     "metadata": {},
     "output_type": "display_data"
    }
   ],
   "source": [
    "import matplotlib.pyplot as plt\n",
    "import numpy as np\n",
    "\n",
    "fig = plt.figure(figsize=(15, 7))\n",
    "ax1 = fig.add_subplot(111)\n",
    "\n",
    "for (i,row) in male.iterrows():\n",
    "    [barr1, barr2] = plt.bar([i, i], [male['pop'].iloc[i], -female['pop'].iloc[i]], color=['#CC6699', '#008AB8'], width=0.8, align='center', edgecolor='none')\n",
    "    \n",
    "plt.xlim(0, 100)\n",
    "plt.ylim(0, 3e6)\n",
    "#plt.grid(False, axis='x')\n",
    "plt.xticks(np.arange(0, 100, 5), fontsize=11,rotation=45)\n",
    "plt.yticks(np.arange(-3e6, 3e6, 500000))\n",
    "plt.title(\"Population by Age and Gender\")\n",
    "plt.xlabel('Age')\n",
    "plt.ylabel('Population')\n",
    "\n",
    "plt.legend([barr1, barr2], [\"Male\", \"Female\"])"
   ]
  },
  {
   "cell_type": "code",
   "execution_count": 19,
   "metadata": {},
   "outputs": [
    {
     "data": {
      "text/plain": [
       "<matplotlib.legend.Legend at 0x7f6fb62eed68>"
      ]
     },
     "execution_count": 19,
     "metadata": {},
     "output_type": "execute_result"
    },
    {
     "data": {
      "image/png": "[encoded data removed]",
      "text/plain": [
       "<Figure size 1080x504 with 1 Axes>"
      ]
     },
     "metadata": {},
     "output_type": "display_data"
    }
   ],
   "source": [
    "\n",
    "fig = plt.figure(figsize=(15, 7))\n",
    "ax1 = fig.add_subplot(111)\n",
    "\n",
    "# bars are placed SIDE BY SIDE using this [i - 0.2, i + 0.2]\n",
    "\n",
    "for (i, row) in male.iterrows():\n",
    "    [barr1, barr2] = plt.bar([i - 0.2, i + 0.2], [male['pop'].iloc[i], female['pop'].iloc[i]], color=['#CC6699', '#008AB8'], width=0.4, align='center', edgecolor='none')\n",
    "    \n",
    "plt.xlim(-1, 100)\n",
    "plt.xticks(range(0, 100, 5), fontsize=11)\n",
    "plt.grid(False, axis='x')\n",
    "plt.yticks(np.arange(0, 3e6, 5e5))\n",
    "plt.title(\"Population by Age and Gender\")\n",
    "plt.xlabel('Age')\n",
    "plt.ylabel('Population')\n",
    "\n",
    "plt.legend([barr1, barr2], [\"Male\", \"Female\"])"
   ]
  },
  {
   "cell_type": "code",
   "execution_count": null,
   "metadata": {},
   "outputs": [],
   "source": []
  }
 ],
 "metadata": {
  "kernelspec": {
   "display_name": "Python 3",
   "language": "python",
   "name": "python3"
  },
  "language_info": {
   "codemirror_mode": {
    "name": "ipython",
    "version": 3
   },
   "file_extension": ".py",
   "mimetype": "text/x-python",
   "name": "python",
   "nbconvert_exporter": "python",
   "pygments_lexer": "ipython3",
   "version": "3.7.3"
  }
 },
 "nbformat": 4,
 "nbformat_minor": 2
}
