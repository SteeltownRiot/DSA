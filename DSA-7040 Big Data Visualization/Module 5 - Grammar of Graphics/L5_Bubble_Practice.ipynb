{
 "cells": [
  {
   "cell_type": "markdown",
   "metadata": {},
   "source": [
    "## Module 5 Practice - Bubble Charts\n",
    "\n",
    "In this practice, we will create **bubble charts** in ggplot2 using the **layered grammar approach in ggplot**. We will also see how we could create them using standard R plots and plotly. \n",
    "\n",
    "A **bubble chart** is a special type of **scatter** plot where **several attributes** of a data item are encoded into a **point mark** using visual variables such as color, size, and (x,y) position. \n",
    "\n",
    "By carefully designing visual channel mapping, we can create efficient visualizations of data with separable channels to represent the most attributes we can. \n",
    "\n",
    "A famous interactive and animated bubble chart is the **Gapminder** that you can see and interact with [here](http://gapminder.org/tools). \n",
    "\n",
    "**Let's start with the crime data.**"
   ]
  },
  {
   "cell_type": "code",
   "execution_count": null,
   "metadata": {},
   "outputs": [],
   "source": [
    "library(ggplot2)\n",
    "crime = read.csv(\"/dsa/data/all_datasets/crime.csv\")\n",
    "\n",
    "head(crime)"
   ]
  },
  {
   "cell_type": "markdown",
   "metadata": {},
   "source": [
    "This is how we would create a bubble chart in **plain R**: first compute the radius of the circles to represent population.\n"
   ]
  },
  {
   "cell_type": "code",
   "execution_count": null,
   "metadata": {},
   "outputs": [],
   "source": [
    "radius <- sqrt(crime$population/pi)"
   ]
  },
  {
   "cell_type": "markdown",
   "metadata": {},
   "source": [
    "Then, draw symbols (in this case, circles) given the two attributes as coordinates, and the third one as the size."
   ]
  },
  {
   "cell_type": "code",
   "execution_count": null,
   "metadata": {},
   "outputs": [],
   "source": [
    "symbols(crime$murder, crime$burglary, circles=radius, inches=0.25, fg=\"white\", bg=\"red\", xlab=\"Murder Rate\", ylab=\"Burglary Rate\")\n",
    "\n",
    "# Add state names to the plot\n",
    "text(crime$murder, crime$burglary, crime$state, cex=0.5)"
   ]
  },
  {
   "cell_type": "markdown",
   "metadata": {},
   "source": [
    "**It is a short piece of code, but in terms of modularity, it does not have separable components to separate data, transformation, visual mappings, etc.** \n",
    "\n",
    "**Let's do the same in Plotly.** "
   ]
  },
  {
   "cell_type": "code",
   "execution_count": null,
   "metadata": {},
   "outputs": [],
   "source": [
    "library(plotly)\n",
    "plot_ly(crime, x = ~murder, y = ~burglary, type = 'scatter', mode = 'markers', size = ~population,\n",
    "        sizes = c(10, 50), marker = list(opacity = 0.5, sizemode = 'diameter'),\n",
    "        hoverinfo = 'text', text = ~paste(population)) %>%\n",
    "        add_text(text = ~state, textposition = 'middle', size=8) %>%\n",
    " layout(title = 'Crime Rates by State',\n",
    "         xaxis = list(title = 'Murder Rate'),\n",
    "         yaxis = list(title = 'Burglary Rate'))"
   ]
  },
  {
   "cell_type": "markdown",
   "metadata": {},
   "source": [
    "**Plotly is a little better; we can have separate *traces* that act like layers (you may have to run the cell twice).** \n",
    "\n",
    "**Let's create the same plot with ggplot2.** "
   ]
  },
  {
   "cell_type": "markdown",
   "metadata": {},
   "source": [
    "It is a scatter plot, so we'll use `geom_point()`. We will map murder and burglary to position, and population to size."
   ]
  },
  {
   "cell_type": "code",
   "execution_count": null,
   "metadata": {},
   "outputs": [],
   "source": [
    "g <- ggplot(crime, aes(x=murder, y=burglary, size=population)) + \n",
    "\n",
    " geom_point(color=\"red\", alpha=0.5) + \n",
    "\n",
    " scale_size(range = c(1,20)) +\n",
    "\n",
    " theme(legend.position=\"none\")\n",
    "\n",
    "g"
   ]
  },
  {
   "cell_type": "markdown",
   "metadata": {},
   "source": [
    "We can add state names as a separate layer using `geom_text()`, and the axes labels, too."
   ]
  },
  {
   "cell_type": "code",
   "execution_count": null,
   "metadata": {},
   "outputs": [],
   "source": [
    "g <- g + geom_text(size=2, aes(label=state)) +\n",
    "\n",
    " xlab(\"Murder rate\") + ylab(\"Burglary rate\") +\n",
    "\n",
    " ylim(200,1400) + xlim(0,11) \n",
    "\n",
    "g "
   ]
  },
  {
   "cell_type": "markdown",
   "metadata": {},
   "source": [
    "## YOUR TURN:\n",
    "\n",
    "We can add another visual variable; **let color represent `motor_vehicle_theft`.** Add another geom_point to `g`. **What happens?** "
   ]
  },
  {
   "cell_type": "code",
   "execution_count": null,
   "metadata": {},
   "outputs": [],
   "source": [
    "# adding another geom_point to the plot above: \n",
    "\n",
    " g + geom_point(<YOUR CODE HERE>) +\n",
    " \n",
    " scale_color_continuous(low=\"yellow\", high=\"purple\")  # give a continuous color palette \n",
    "\n"
   ]
  },
  {
   "cell_type": "markdown",
   "metadata": {},
   "source": [
    "**Rewrite code to have only one `geom_point` to fix it.**"
   ]
  },
  {
   "cell_type": "code",
   "execution_count": null,
   "metadata": {},
   "outputs": [],
   "source": [
    "# <YOUR CODE HERE> "
   ]
  },
  {
   "cell_type": "markdown",
   "metadata": {
    "collapsed": true
   },
   "source": [
    "**In ggplot2, you can code different layers of the plot in different independent components and keep adding to the same plot. This approach is easier to understand and code more complex plots as we have seen in some examples in the previous modules.** "
   ]
  }
 ],
 "metadata": {
  "anaconda-cloud": {},
  "kernelspec": {
   "display_name": "R",
   "language": "R",
   "name": "ir"
  },
  "language_info": {
   "codemirror_mode": "r",
   "file_extension": ".r",
   "mimetype": "text/x-r-source",
   "name": "R",
   "pygments_lexer": "r",
   "version": "3.5.1"
  }
 },
 "nbformat": 4,
 "nbformat_minor": 1
}
