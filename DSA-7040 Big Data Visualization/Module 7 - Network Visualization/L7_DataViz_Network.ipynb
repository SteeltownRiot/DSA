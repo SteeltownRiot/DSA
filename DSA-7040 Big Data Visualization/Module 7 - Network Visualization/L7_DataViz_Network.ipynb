{
 "cells": [
  {
   "cell_type": "markdown",
   "metadata": {},
   "source": [
    "# Lab 7 - Network Visualization\n",
    "\n",
    "In this lab, we will go through basic graph concepts and **cover visualization of networks and trees**. We will see how to use ggplot, plotly, igraph, and D3 to visualize data in the practice notebooks.\n",
    "\n",
    "\n",
    "Network visualization is utilized in many domains as a form of presenting data visually as well as a means of exploring complex data: looking for clusters, paths, and exploring connections between thousands or millions of data items with an interactive visual interface provides a powerful tool for exploratory data analysis. \n",
    "\n",
    "---"
   ]
  },
  {
   "cell_type": "markdown",
   "metadata": {},
   "source": [
    "## Basic Graph Concepts \n",
    "\n",
    "Graph theory is the study of **graphs** that are mathematical structures to model relations between objects or entities. The **networks and trees** we will use for visualization are mathematically represented as graphs. So we will look at some basic graph theory concepts. \n",
    "\n",
    "\n",
    "Many problems related to graph theory are known to be hard problems; the exact solutions require brute-force search in a combinatorially explosive space (e.g. exponentially growing number of attempts as the size of the problem grows). \n",
    "\n",
    "### Definition: \n",
    "\n",
    "A graph is defined as **a set of vertices (or nodes) and edges (or links) between them**. \n",
    "\n",
    "\n",
    "G=(V,E) defines a graph where an edge is said to be incident with two vertices:\n",
    "\n",
    "$$e_k=(v_i,v_j)$$\n",
    "\n",
    "For example, here: \n",
    "\n",
    "$$e_1=(v_1,v_2)$$\n",
    "$$e_6=(v_4,v_5)$$\n",
    "$$etc.$$\n",
    "\n",
    "<img src=\"../images/graph1.png\">"
   ]
  },
  {
   "cell_type": "markdown",
   "metadata": {},
   "source": [
    "---\n",
    "\n",
    "### Degree and Directedness: \n",
    "\n",
    "The **degree** *d(v)* of a a vertex *v* is its number of incident edges. In the above example, the degree of the vertex $V_5$ is three, for example. \n",
    "\n",
    "\n",
    "A **directed graph** or *digraph* is a graph where edges have **directions**. In that case, we can talk about *in-degrees* and *out-degrees* of a vertex. \n",
    "\n",
    "In the example below, the vertes $V_5$ has an in-degree of three and an out-degree of one. \n",
    "<img src=\"../images/graph2.png\">"
   ]
  },
  {
   "cell_type": "markdown",
   "metadata": {},
   "source": [
    "---\n",
    "\n",
    "### Acyclic Graphs and Trees\n",
    "\n",
    "An acyclic graph is a graph that has **no cycles** in it. The two examples above do have cycles; starting from a vertex, one can find a path that comes back to the same vertex again. \n",
    "\n",
    "\n",
    "A graph is **connected** if there can be found a path between any two vertices. A **tree** is an acyclic, connected graph. \n",
    "\n",
    "<img src=\"../images/tree.gif\">\n",
    "\n",
    "A **leaf** of a tree is a vertex of degree 1. "
   ]
  },
  {
   "cell_type": "markdown",
   "metadata": {},
   "source": [
    "---\n",
    "\n",
    "### Isomorphism\n",
    "\n",
    "\n",
    "\n",
    "Two graphs are said to be *isomorphic* if they have the same structure; that is their number of vertices and edges are the same and they have the same connectivity. \n",
    "\n",
    "<img src=\"../images/iso.png\">"
   ]
  },
  {
   "cell_type": "markdown",
   "metadata": {},
   "source": [
    "---\n",
    "\n",
    "### Representation\n",
    "\n",
    "Graphs can be represented as an edge list between nodes, as a graphical representation, or as an *adjacency matrix*. \n",
    "\n",
    "<img src=\"../images/adj.jpg\">"
   ]
  },
  {
   "cell_type": "markdown",
   "metadata": {},
   "source": [
    "---\n",
    "\n",
    "### Planar Graph\n",
    "\n",
    "\n",
    "When drawing a graph, if vertices can be placed so that **no edges cross each other**, that is a **planar** graph. \n",
    "\n",
    "The following graphs are the same; one is drawn so that edges do not cross each other. \n",
    "\n",
    "<img src=\"../images/planar.jpg\">\n",
    "\n",
    "We can assign \"weights\" to the edges of a graph; a directed, weighted graph is also known as a **network flow**. \n",
    "\n",
    "<img src=\"../images/nflow.png\">"
   ]
  },
  {
   "cell_type": "markdown",
   "metadata": {},
   "source": [
    "---\n",
    "\n",
    "### Map Coloring Problem \n",
    "\n",
    "A political map can be colored with four colors so that no two neighboring countries have the same color. This is known as the map coloring problem, and it is an application of the *k-coloring* of a graph where each vertex V can be assigned to a number K so that no two vertices with the same number K have an edge between them. \n",
    "\n",
    "Planar graphs have 4-coloring. **When countries on a map are represented by vertices, and their neighboring relations are represented by edges between them, this creates a planar graph**, hence the minimum number of colors to color each country with the above constraint is four. \n",
    "\n",
    "<img src=\"../images/4map.png\">"
   ]
  },
  {
   "cell_type": "markdown",
   "metadata": {},
   "source": [
    "---\n",
    "\n",
    "## Graph Drawing Problem \n",
    "\n",
    "As we have seen, the same graph **can be drawn in may different ways**; some of them visually more useful than others. Use of space is one of the main issues in graph drawing. \n",
    "\n",
    "As the number of nodes grow (e.g. we can have millions of nodes), efficient graph drawing, or **layout** becomes an algorithmic problem. \n",
    "\n",
    "We want to draw the graphs with **as little crossing edges as possible** (less clutter), **grouping as many vertices as possible** that form natural clusters through the many edges between them, and also using an efficient algorithm so that it takes the **least time** possible to compute the layout of the graph. \n",
    "\n",
    "A **layout algorithm** needs to find the *right* locations of the nodes, and draw the edges by avoiding overlapping, making them visually appealing, bundling closer or similar edges, minimizing edge lengths or bends, and minimizing the space utilized.  \n",
    "\n",
    "The **layout** of a graph can be computed by using one of the following approaches:"
   ]
  },
  {
   "cell_type": "markdown",
   "metadata": {},
   "source": [
    "**Force-directed layouts:**  the graph is drawn according to a system of forces based on physical metaphors such as springs or molecular mechanics. Nodes repel each other whereas edges attract nodes closer so that the the produced layout has minimum edge lengths, vertices are well-separated, and the number of crossing edges is minimum. This is usually achieved by gradient descent based minimization of an energy function.\n",
    "\n",
    "<img src=\"../images/force1.png\">\n",
    "<img src=\"../images/force2.jpg\">"
   ]
  },
  {
   "cell_type": "markdown",
   "metadata": {},
   "source": [
    "**Layered layouts:** the nodes of the graph are arranged into horizontal (or vertical) layers so that most edges go downwards from one layer to the next and the nodes within each layer are arranged in order to minimize crossings. These layouts are better suited for acyclical (i.e. trees) or almost acyclical graphs. \n",
    "\n",
    "<img src=\"../images/layered.png\">"
   ]
  },
  {
   "cell_type": "markdown",
   "metadata": {},
   "source": [
    "**Circular layouts:** the nodes of the graph are placed on a circle, choosing carefully the ordering of the nodes around the circle to reduce crossings and place adjacent nodes close to each other. Edges may be drawn either as chords of the circle or as arcs inside or outside of the circle. Circular layouts are especially useful for **space utilization** when drawing trees. \n",
    "\n",
    "<img src=\"../images/circ1a.png\">"
   ]
  },
  {
   "cell_type": "markdown",
   "metadata": {},
   "source": [
    "\n",
    "---\n",
    "\n",
    "**Edges can be highlighted with colors, more attributes can be visualized at the perimeter of vertices**, and similar edges can be **bundled** together to create a more effective visualization.\n",
    "\n",
    "<img src=\"../images/circ2.jpg\">\n",
    "<img src=\"../images/circ3.png\">\n",
    "<img src=\"../images/circ4.png\">\n",
    "\n",
    "\n",
    "- **Arc diagrams:** vertices are placed on a line; edges may be drawn as semicircles above or below the line, or as smooth curves linked together from multiple semicircles. \n",
    "\n",
    "<img src=\"../images/arc1.png\">\n",
    "<img src=\"../images/arc2.png\">\n",
    "<img src=\"../images/arc3.png\">\n",
    "\n",
    "---\n",
    "\n",
    "**Adjacency matrix :** sometimes the grouping patterns in an adjacency matrix is also useful as a visualization of clusters, if the rows and columns are carefully ordered to make these groupings visible. \n",
    "\n",
    "<img src=\"../images/adj1a.png\">\n",
    "<img src=\"../images/adj1b.png\">\n",
    "\n",
    "If the data set contains natural locations for the objects (e.g. airport coordinates), those locations can be chosen as natural vertex locations; but sometimes **freeing the data set from these coordinates and using force-directed layouts can lead to insteresting discoveries.** "
   ]
  },
  {
   "cell_type": "markdown",
   "metadata": {},
   "source": [
    "---\n",
    "\n",
    "## Network Visualization\n",
    "\n",
    "We can use networks to visualize data sets that contain **relationships between entities**. Some examples are: "
   ]
  },
  {
   "cell_type": "markdown",
   "metadata": {},
   "source": [
    "---\n",
    "\n",
    "**Biological networks:** Protein–protein interaction networks, Metabolic networks, signaling pathways, etc. \n",
    "\n",
    "<img src=\"../images/bio1.png\">\n",
    "<img src=\"../images/bio2.jpg\">"
   ]
  },
  {
   "cell_type": "markdown",
   "metadata": {},
   "source": [
    "---\n",
    "\n",
    "**Social networks:** social media networks (Facebook friends),  friendship and acquaintance networks, collaboration graphs, disease transmission, etc. \n",
    "\n",
    "<img src=\"../images/soc1.png\">\n",
    "<img src=\"../images/soc2.png\">"
   ]
  },
  {
   "cell_type": "markdown",
   "metadata": {},
   "source": [
    "---\n",
    "\n",
    "**Other networks:** Traffic networks (airline traffic, internet traffic, etc.) electrical grid, etc. \n",
    "\n",
    "By employing a variety of layouts and network types, we can explore the relations between large numbers of nodes and **discover patterns such as clusters or communities** (densely connected subsets), **critical paths**, shortest paths, central nodes, etc.\n",
    "\n",
    "<img src=\"../images/net1.png\">\n",
    "<img src=\"../images/net2.png\">"
   ]
  },
  {
   "cell_type": "markdown",
   "metadata": {},
   "source": [
    "---\n",
    "### Social Network Analysis\n",
    "\n",
    "Social networks are **connections between people**. Networks can also exist between people and work products; for example, as in a software version control system or record of wikipedia page edits. \n",
    "\n",
    "In a social network, nodes are people. In a large network, we need to decide if there are criteria for people to exist \"as a node\". For example, if a social network is constructed from observations about people being in the same place at the same time, that presence is the critera. If a social network is constructed from communication records, as in a software version control system or discussion forum, the criteria are different. \n",
    "\n",
    "Edges are the connections between nodes. The number, type and frequency of edges between nodes underly most of the measures of social networks, and have a strong influence on how these networks are visualized. "
   ]
  },
  {
   "cell_type": "markdown",
   "metadata": {},
   "source": [
    "---\n",
    "\n",
    "#### Key Social Network Measures\n",
    "\n",
    "**Social network analysis** is a substantial field of inquiry and statistical development. Like other families of statistical methods, the number of discrete statistics one can calculate is substantial. There are a few measures that are conceptual core to a lot of social network analysis.\n",
    "\n",
    "1. **Degree Centrality** : The number of connections (edges) between a node and other nodes. The higher the degree centrality, the more important, or central, a node is in a network. There are two kinds: In degree and out degree. In degree centrality is often a proxy for popularity. If people are frequently interacting with you, then you are likely \"popular\". The reasons for your popularity depend on the type of network (e.g. a famous actor is likely popular because he is interesting). Out degree centrality can be thought of as an indicator of gregariousness. If you message a lot of people, you might be considered outgoing.\n",
    "\n",
    "2. **Betweenness Centrality** : High betewenness centrality is indicated by a person being a broker between two networks. These people are often called \"connectors\". For example, if somebody has a strong network in the defense contractor industry, and a strong set of network connections inside the Pentagon, their betweenness centrality between those two networks will be measured as high compared to a person without strong connections in both networks. In this way, it can be illustrated for example how high betweenness nodes are important for health social networks. \n",
    "\n",
    "The following shows the **betweenness** as hue from red (zero) to blue (maximum).\n",
    "\n",
    "<img src=\"../images/between.png\">"
   ]
  },
  {
   "cell_type": "markdown",
   "metadata": {},
   "source": [
    "---\n",
    "\n",
    "## Tree Visualization\n",
    "\n",
    "Trees are **acyclic connected graphs**, as we have seen above. Their layouts are similar to the network layouts; we usually draw them in layered or circular approaches. \n",
    "\n",
    "**Space utilization** is an important issue for tree drawing, because as the hierarchy goes down, there are **more and more** nodes to be drawn. Circular layouts can be very effective for trees. \n",
    "\n",
    "\n",
    "**Below example shows how the higher nodes are more sparse, and the lower nodes in hierarchy get denser.** \n",
    "\n",
    "<img src=\"../images/tree1.gif\">\n",
    "\n",
    "Also, we can visualize trees in 2D using **containment as the visual channel** that encodes hierarchy; those trees are called **treemaps**.\n",
    "\n",
    "<img src=\"../images/tree2.png\">\n",
    "\n",
    "Here we can see different layouts; **radial (circular) layout** helps to utilize the space more efficiently. \n",
    "<img src=\"../images/tree3.png\">\n",
    "\n",
    "This is a good example of utlizing space in layered approach:\n",
    "\n",
    "<img src=\"../images/tree4.png\">\n",
    "\n",
    "The following shows a treemap example. \n",
    "\n",
    "<img src=\"../images/treemap.png\">\n",
    "\n",
    "And this shows a **Reingold-Tilford** tree in radial layout. \n",
    "<img src=\"../images/rt.png\">\n",
    "\n"
   ]
  },
  {
   "cell_type": "markdown",
   "metadata": {},
   "source": [
    "## Deeper Diving Links \n",
    "\n",
    "Following links show many examples of static and dynamic network visualizations in many domains. \n",
    "\n",
    "[Dynamic Graph Visualization](http://dynamicgraphs.fbeck.com/)\n",
    "\n",
    "[D3 Gallery](https://github.com/d3/d3/wiki/Gallery)\n",
    "\n",
    "\n",
    "[Visual Complexity](http://www.visualcomplexity.com/vc/)\n",
    "\n",
    "\n",
    "\n",
    "**Standalone Software for Graph Visualization and/or Analysis:**\n",
    "\n",
    "Following software can be downloaded and used to explore and visualize large, complex network data sets: \n",
    "\n",
    " - [Gephi](https://gephi.org/features/)\n",
    "\n",
    " - [GraphViz](http://www.graphviz.org/Gallery.php)\n",
    "\n",
    " - [Gruff](http://franz.com/agraph/gruff/)\n",
    "\n",
    " - [Cytoscape](http://www.cytoscape.org/)\n",
    "\n",
    "\n",
    "\n",
    "**References:**\n",
    "\n",
    "A good summary of graph theory concepts: \n",
    "\n",
    " - [Graph Theory](http://cs.bme.hu/fcs/graphtheory.pdf)\n",
    "\n"
   ]
  },
  {
   "cell_type": "code",
   "execution_count": null,
   "metadata": {},
   "outputs": [],
   "source": []
  }
 ],
 "metadata": {
  "kernelspec": {
   "display_name": "R",
   "language": "R",
   "name": "ir"
  },
  "language_info": {
   "codemirror_mode": "r",
   "file_extension": ".r",
   "mimetype": "text/x-r-source",
   "name": "R",
   "pygments_lexer": "r",
   "version": "3.5.1"
  }
 },
 "nbformat": 4,
 "nbformat_minor": 2
}
