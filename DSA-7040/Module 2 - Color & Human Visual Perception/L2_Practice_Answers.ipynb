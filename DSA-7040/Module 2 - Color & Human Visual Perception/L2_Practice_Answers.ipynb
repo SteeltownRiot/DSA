{
 "cells": [
  {
   "cell_type": "markdown",
   "metadata": {},
   "source": [
    "# Module 2 Practice\n",
    "\n",
    "In this notebook, we will look at different ways of choosing color schemes for our visualizations. We will use ggplot2 and RColorBrewer libraries.\n",
    "\n",
    "[This cheat sheet can also be handy.](http://www.guianaplants.stir.ac.uk/seminar/materials/colorPaletteCheatsheet.pdf)\n",
    "\n",
    "**Some of the following code cells require you fill in your code in < YOUR CODE > lines or question marks (???); for others,  run the code cell and study the outputs to understand what it does.**"
   ]
  },
  {
   "cell_type": "code",
   "execution_count": null,
   "metadata": {},
   "outputs": [],
   "source": [
    "library(ggplot2)\n",
    "# Color palettes from Color Brewer\n",
    "library(RColorBrewer)"
   ]
  },
  {
   "cell_type": "markdown",
   "metadata": {},
   "source": [
    "First, show all palettes with their names: sequential, qualitative, diverging (remember how to do that from the lab notebook?)\n"
   ]
  },
  {
   "cell_type": "code",
   "execution_count": null,
   "metadata": {},
   "outputs": [],
   "source": [
    "display.brewer.all()"
   ]
  },
  {
   "cell_type": "markdown",
   "metadata": {},
   "source": [
    "Display five colors for a qualitative data type, use 'Dark2' palette:\n"
   ]
  },
  {
   "cell_type": "code",
   "execution_count": null,
   "metadata": {
    "scrolled": false
   },
   "outputs": [],
   "source": [
    "display.brewer.pal(n=5, name='Dark2')"
   ]
  },
  {
   "cell_type": "markdown",
   "metadata": {},
   "source": [
    "Display color maps with **seven colors for a diverging data type with colorblind safe choices:**\n",
    "\n",
    "(look up the parameters of the function and color scheme names)\n"
   ]
  },
  {
   "cell_type": "code",
   "execution_count": null,
   "metadata": {},
   "outputs": [],
   "source": [
    "\n",
    "display.brewer.all(n=7, type ='div', colorblindFriendly=TRUE)\n"
   ]
  },
  {
   "cell_type": "code",
   "execution_count": null,
   "metadata": {},
   "outputs": [],
   "source": [
    "brewer.pal.info"
   ]
  },
  {
   "cell_type": "markdown",
   "metadata": {},
   "source": [
    "The following library also contains **colorblind safe** color maps.\n",
    "\n",
    "**notice how palettes can be accessed by the `colorschemes` variable.**"
   ]
  },
  {
   "cell_type": "code",
   "execution_count": null,
   "metadata": {},
   "outputs": [],
   "source": [
    "library(dichromat)\n",
    "colorschemes"
   ]
  },
  {
   "cell_type": "code",
   "execution_count": null,
   "metadata": {
    "scrolled": false
   },
   "outputs": [],
   "source": [
    "colorschemes$BrowntoBlue.10"
   ]
  },
  {
   "cell_type": "markdown",
   "metadata": {},
   "source": [
    "If we want to get **MORE colors than available** in the library, we can **interpolate** colors like this: "
   ]
  },
  {
   "cell_type": "code",
   "execution_count": null,
   "metadata": {},
   "outputs": [],
   "source": [
    "p <- colorRampPalette(brewer.pal(9,'Blues'))(100)\n",
    "p"
   ]
  },
  {
   "cell_type": "markdown",
   "metadata": {},
   "source": [
    "**Now your TURN:** create a color palette with 50 colors using a sequential, colorblind friendly **brewer** palette (choose a palette from above and use its name)."
   ]
  },
  {
   "cell_type": "code",
   "execution_count": null,
   "metadata": {},
   "outputs": [],
   "source": [
    "p2 <- colorRampPalette(brewer.pal(9,'YlOrRd'))(50)\n",
    "p2"
   ]
  },
  {
   "cell_type": "markdown",
   "metadata": {},
   "source": [
    "---\n",
    "\n",
    "Let's use the cars data to visualize some aspects of the data set.\n"
   ]
  },
  {
   "cell_type": "code",
   "execution_count": null,
   "metadata": {},
   "outputs": [],
   "source": [
    "head(mtcars)\n",
    "# Pick some variables\n",
    "data=mtcars[ , c(1,3:6)]\n",
    " \n",
    "#Make a plot to show if there's any visible correlation, use rgb() to choose a color and alpha transparency\n",
    "plot(data , pch=20 , cex=1.5 , col=rgb(0.5, 0.8, 0.9, 0.7))\n"
   ]
  },
  {
   "cell_type": "code",
   "execution_count": null,
   "metadata": {},
   "outputs": [],
   "source": [
    "#Let's compute all the correlations and look at them \n",
    "data=cor(mtcars)\n",
    "data"
   ]
  },
  {
   "cell_type": "markdown",
   "metadata": {},
   "source": [
    "### Not very useful to look at numbers, let's use a visualization with the ellipse library."
   ]
  },
  {
   "cell_type": "code",
   "execution_count": null,
   "metadata": {},
   "outputs": [],
   "source": [
    "library(ellipse)"
   ]
  },
  {
   "cell_type": "markdown",
   "metadata": {},
   "source": [
    "The following represents correlations as ellipses; slope represents sign,\n",
    "thickness represents strength of correlation: thinner is better.\n"
   ]
  },
  {
   "cell_type": "code",
   "execution_count": null,
   "metadata": {},
   "outputs": [],
   "source": [
    "plotcorr(data)"
   ]
  },
  {
   "cell_type": "markdown",
   "metadata": {
    "scrolled": true
   },
   "source": [
    "### Again not very clear.\n",
    "\n",
    "Let's use an **adequate** color scheme to distinguish between good and weak correlations as well as negative and positive.\n",
    "\n",
    "**So we are talking about a diverging color scheme, right?**  "
   ]
  },
  {
   "cell_type": "code",
   "execution_count": null,
   "metadata": {},
   "outputs": [],
   "source": [
    "# Build a panel of 100 colors with Rcolor Brewer\n",
    "\n",
    "my_colors <- brewer.pal(5, \"Spectral\")\n",
    "my_colors = colorRampPalette(my_colors)(100)\n",
    " "
   ]
  },
  {
   "cell_type": "code",
   "execution_count": null,
   "metadata": {},
   "outputs": [],
   "source": [
    "# SORT the correlation matrix\n",
    "data[1,]"
   ]
  },
  {
   "cell_type": "code",
   "execution_count": null,
   "metadata": {},
   "outputs": [],
   "source": [
    "ord <- order(data[1, ])\n",
    "ord"
   ]
  },
  {
   "cell_type": "code",
   "execution_count": null,
   "metadata": {},
   "outputs": [],
   "source": [
    "data_ord = data[ord, ord]\n",
    "data_ord"
   ]
  },
  {
   "cell_type": "markdown",
   "metadata": {},
   "source": [
    "Now, plot and pick a color from the palette based on the value of correlation. You are mapping from correlation values (\\[-1,1\\]) to the indices of your color palette (\\[0,100\\]).\n",
    "\n",
    "**STUDY the following code to figure out what it is to do the mapping!**"
   ]
  },
  {
   "cell_type": "code",
   "execution_count": null,
   "metadata": {
    "scrolled": false
   },
   "outputs": [],
   "source": [
    "\n",
    "plotcorr(data_ord, col=my_colors[data_ord*50+50], mar=c(1,1,1,1))"
   ]
  },
  {
   "cell_type": "markdown",
   "metadata": {},
   "source": [
    "### This is better. \n",
    "\n",
    "It's a **diverging** color scheme to represent both positive and negative correlations, and we can easily distinguish the strongest correlations by darker colors thanks to preattentive processing of color by human visual system. \n",
    "\n",
    "Ordering also helps for easy grouping."
   ]
  },
  {
   "cell_type": "markdown",
   "metadata": {},
   "source": [
    "---\n",
    "\n",
    "**Let's look at different ways of manipulating color in ggplot2.**\n",
    "Start with a small sample from diamonds data set \n"
   ]
  },
  {
   "cell_type": "code",
   "execution_count": null,
   "metadata": {},
   "outputs": [],
   "source": [
    "dsamp <- diamonds[sample(nrow(diamonds), 1000), ]\n",
    "head(dsamp)\n",
    "str(dsamp)"
   ]
  },
  {
   "cell_type": "markdown",
   "metadata": {},
   "source": [
    "Plot carat vs price and encode the 'cut' variable with the **color visual channel.** \n"
   ]
  },
  {
   "cell_type": "code",
   "execution_count": null,
   "metadata": {},
   "outputs": [],
   "source": [
    "\n",
    "# default color palette: not a good choice \n",
    "(gp <- ggplot(dsamp, aes(x=carat, y=price, color=cut)) + geom_point())\n",
    "\n"
   ]
  },
  {
   "cell_type": "markdown",
   "metadata": {},
   "source": [
    "**'cut' is CATEGORICAL, but it does have an inherent ordering. Let's use a sequential color scheme:**"
   ]
  },
  {
   "cell_type": "code",
   "execution_count": null,
   "metadata": {},
   "outputs": [],
   "source": [
    "gp + scale_colour_brewer(palette = 'Oranges')\n"
   ]
  },
  {
   "cell_type": "code",
   "execution_count": null,
   "metadata": {},
   "outputs": [],
   "source": [
    "# This might be better if we want to emphasize the ideal cut \n",
    "\n",
    "gp + scale_colour_brewer(type=\"seq\", palette=3)"
   ]
  },
  {
   "cell_type": "code",
   "execution_count": null,
   "metadata": {},
   "outputs": [],
   "source": [
    "# This one is a BAD choice \n",
    "\n",
    "gp + scale_colour_brewer(palette=\"Set1\")\n"
   ]
  },
  {
   "cell_type": "markdown",
   "metadata": {},
   "source": [
    "**We can also assign colors manually using their hexadecimal codes:** make sure to supply as many colors as number of categories in the variable."
   ]
  },
  {
   "cell_type": "code",
   "execution_count": null,
   "metadata": {},
   "outputs": [],
   "source": [
    "\n",
    "gp + scale_color_manual(values=c(\"#0000FF\", \"#009F00\", \"#56B4E9\", \"#009E73\", \"#FFFFFF\"))\n",
    "\n",
    "\n",
    "# not a very good color scheme"
   ]
  },
  {
   "cell_type": "markdown",
   "metadata": {},
   "source": [
    "**Let's see how we can deal with a CONTINUOUS variable:**"
   ]
  },
  {
   "cell_type": "code",
   "execution_count": null,
   "metadata": {},
   "outputs": [],
   "source": [
    "(gp <- ggplot(dsamp, aes(x=carat, y=price, color=depth )) + geom_point())  # depth is a floating point number "
   ]
  },
  {
   "cell_type": "code",
   "execution_count": null,
   "metadata": {},
   "outputs": [],
   "source": [
    "\n",
    "# add our palette to it instead of the default ggplot chooses \n",
    "\n",
    "gp + scale_colour_gradient(low=\"blue\", high=\"red\")"
   ]
  },
  {
   "cell_type": "code",
   "execution_count": null,
   "metadata": {},
   "outputs": [],
   "source": [
    "# we can also choose a discrete palette and create a continuous palette out of it: \n",
    "\n",
    "gp + scale_colour_gradientn(colors=colorschemes$BluetoGray.8)"
   ]
  },
  {
   "cell_type": "markdown",
   "metadata": {},
   "source": [
    "This is **NOT** a good color palette for this variable; the variable is not diverging (going in positive and negative directions), but the palette is. \n",
    "\n",
    "For a true diverging variable, we would use a slightly different function: `scale_colour_gradient2(low='blue', mid='white', high='red')`"
   ]
  },
  {
   "cell_type": "markdown",
   "metadata": {},
   "source": [
    "**Let's create a histogram of carat variable.** \n"
   ]
  },
  {
   "cell_type": "code",
   "execution_count": null,
   "metadata": {},
   "outputs": [],
   "source": [
    "\n",
    "(gp2 <- ggplot(data=dsamp, aes(x=carat))+ geom_histogram(binwidth=0.5,aes(fill = ..count..)))"
   ]
  },
  {
   "cell_type": "markdown",
   "metadata": {},
   "source": [
    "We can add a color palette of our choice to **fill** the bars. \n",
    "\n",
    "Pay attention to the difference in `scale_fill_` and `scale_colour_` functions; color is used for point and line colors, fill is used to fill the bars, densities, etc. "
   ]
  },
  {
   "cell_type": "code",
   "execution_count": null,
   "metadata": {},
   "outputs": [],
   "source": [
    "gp2 + scale_fill_gradient(low=\"blue\", high=\"red\")"
   ]
  },
  {
   "cell_type": "markdown",
   "metadata": {},
   "source": [
    "---\n",
    "\n"
   ]
  },
  {
   "cell_type": "markdown",
   "metadata": {},
   "source": [
    "`viridis` is another good color library we can use in our plots. Take a look at the following samples: "
   ]
  },
  {
   "cell_type": "code",
   "execution_count": null,
   "metadata": {},
   "outputs": [],
   "source": [
    "library(viridis)"
   ]
  },
  {
   "cell_type": "code",
   "execution_count": null,
   "metadata": {},
   "outputs": [],
   "source": [
    "ggplot(dsamp, aes(x=carat, y=price, color=cut )) + geom_point() + scale_color_viridis(discrete=TRUE)\n"
   ]
  },
  {
   "cell_type": "markdown",
   "metadata": {},
   "source": [
    "Pay attention to the option above; because 'cut' is a factor (discrete), we have to use the option `discrete=TRUE`, otherwise the function would supply a continuous palette. \n",
    "\n",
    "Following shows how to choose between palettes in viridis: "
   ]
  },
  {
   "cell_type": "code",
   "execution_count": null,
   "metadata": {},
   "outputs": [],
   "source": [
    "ggplot(dsamp, aes(x=carat, y=price, color=cut )) + geom_point() + scale_color_viridis(option='plasma', discrete=TRUE)\n"
   ]
  },
  {
   "cell_type": "code",
   "execution_count": null,
   "metadata": {},
   "outputs": [],
   "source": [
    "# this is for continuous variable: \n",
    "\n",
    "ggplot(dsamp, aes(x=carat, y=price, color=depth )) + geom_point() + scale_color_viridis(option='plasma')"
   ]
  },
  {
   "cell_type": "markdown",
   "metadata": {},
   "source": [
    "Other options we can use are `inferno`, `cividis`, `mako` ,`rocket`, `turbo`. \n",
    "\n",
    "[This is a good overview of the viridis library](https://cran.r-project.org/web/packages/viridis/vignettes/intro-to-viridis.html)"
   ]
  },
  {
   "cell_type": "markdown",
   "metadata": {},
   "source": [
    "---\n",
    "\n",
    "**Now, it's your TURN:**\n",
    "\n",
    "Create a palette with three colors using the three colors of the `Accent` brewer palette, and display a scatter plot for the iris data set: "
   ]
  },
  {
   "cell_type": "code",
   "execution_count": null,
   "metadata": {},
   "outputs": [],
   "source": [
    "pal <-brewer.pal(3,'Accent')\n",
    "pal"
   ]
  },
  {
   "cell_type": "code",
   "execution_count": null,
   "metadata": {},
   "outputs": [],
   "source": [
    "head(iris)"
   ]
  },
  {
   "cell_type": "code",
   "execution_count": null,
   "metadata": {},
   "outputs": [],
   "source": [
    "gi <-ggplot(iris, aes(x=Sepal.Length, y=Sepal.Width, color = Species)) + geom_point() +  scale_color_manual(values=pal)\n",
    "gi"
   ]
  },
  {
   "cell_type": "markdown",
   "metadata": {},
   "source": [
    "Add the following to your code to display linear regression lines on different species: "
   ]
  },
  {
   "cell_type": "code",
   "execution_count": null,
   "metadata": {},
   "outputs": [],
   "source": [
    "gi + geom_smooth(aes(fill = Species), method = \"lm\")"
   ]
  },
  {
   "cell_type": "code",
   "execution_count": null,
   "metadata": {},
   "outputs": [],
   "source": [
    "gi + geom_smooth(aes(fill = Species), method = \"lm\") + scale_fill_manual(values=pal)"
   ]
  },
  {
   "cell_type": "code",
   "execution_count": null,
   "metadata": {},
   "outputs": [],
   "source": []
  }
 ],
 "metadata": {
  "kernelspec": {
   "display_name": "R",
   "language": "R",
   "name": "ir"
  },
  "language_info": {
   "codemirror_mode": "r",
   "file_extension": ".r",
   "mimetype": "text/x-r-source",
   "name": "R",
   "pygments_lexer": "r",
   "version": "3.5.1"
  }
 },
 "nbformat": 4,
 "nbformat_minor": 2
}
