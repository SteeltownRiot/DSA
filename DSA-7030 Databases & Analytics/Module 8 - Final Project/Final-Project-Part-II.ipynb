{
 "cells": [
  {
   "cell_type": "markdown",
   "metadata": {},
   "source": [
    "## Final Project Part - II\n",
    "\n",
    "### In this part, we will be creating tables and loading data into the tables using the ERD in Part - I.\n",
    "\n",
    "In this project, we will explore Chicago Crime Dataset and implement a relational database for storing the data. During the final week, you will complete Tasks 3-5:\n",
    "\n",
    "1. Identify the features (attributes) in Chicago Crime dataset and design an entity-relationship model\n",
    "2. Refine the model and convert each relation to BCNF (if required)\n",
    "3. Using DDL implement the relations in a Postgres server\n",
    "4. Load the given data to the relations\n",
    "5. Execute some interesting queries on the relations"
   ]
  },
  {
   "cell_type": "markdown",
   "metadata": {},
   "source": [
    "## 2.1 Using DDL, create each of the relations in the postgres server. \n",
    "\n",
    "* Use the ERD from Module 7 to create tables (DDL).\n",
    "* Add additional cells if required.\n",
    "* Make sure you have good documentation for each table to explain what attributes are and anything that are worth noting."
   ]
  },
  {
   "cell_type": "code",
   "execution_count": 1,
   "metadata": {},
   "outputs": [
    {
     "name": "stdout",
     "output_type": "stream",
     "text": [
      "Type password then hit enter: ········\n"
     ]
    },
    {
     "data": {
      "text/plain": [
       "'Connected: jch5x8@dsa_student'"
      ]
     },
     "execution_count": 1,
     "metadata": {},
     "output_type": "execute_result"
    }
   ],
   "source": [
    "import pandas as pd\n",
    "import getpass\n",
    "import psycopg2\n",
    "import numpy as np\n",
    "from psycopg2.extensions import adapt, register_adapter, AsIs\n",
    "%load_ext sql\n",
    "# Magic adapters for the Numpy Fun of Pandas\n",
    "register_adapter(np.int64,AsIs)\n",
    "register_adapter(np.float64,AsIs)\n",
    "\n",
    "mypasswd = getpass.getpass(\"Type password then hit enter: \")\n",
    "username = 'jch5x8'\n",
    "hostname = 'pgsql.dsa.lan'\n",
    "database = 'dsa_student'\n",
    "\n",
    "connection_string = \"postgresql://{user}:{password}@{host}/{database}\".format(user = username, password = mypasswd, host = hostname, database = database)\n",
    "%sql $connection_string"
   ]
  },
  {
   "cell_type": "code",
   "execution_count": null,
   "metadata": {},
   "outputs": [],
   "source": [
    "%%sql\n"
   ]
  },
  {
   "cell_type": "code",
   "execution_count": null,
   "metadata": {},
   "outputs": [],
   "source": [
    "%%sql\n"
   ]
  },
  {
   "cell_type": "code",
   "execution_count": null,
   "metadata": {},
   "outputs": [],
   "source": [
    "%%sql\n"
   ]
  },
  {
   "cell_type": "code",
   "execution_count": null,
   "metadata": {},
   "outputs": [],
   "source": [
    "%%sql\n"
   ]
  },
  {
   "cell_type": "code",
   "execution_count": null,
   "metadata": {},
   "outputs": [],
   "source": [
    "%%sql\n"
   ]
  },
  {
   "cell_type": "code",
   "execution_count": null,
   "metadata": {},
   "outputs": [],
   "source": [
    "%%sql\n"
   ]
  },
  {
   "cell_type": "markdown",
   "metadata": {},
   "source": [
    "## 2.2 Show the table's definition for each table using psql or querying the information_schema.colums catalog\n",
    "\n",
    "* Add additional cells if required"
   ]
  },
  {
   "cell_type": "raw",
   "metadata": {},
   "source": [
    "\n",
    "\n",
    "\n",
    "\n",
    "\n",
    "\n"
   ]
  },
  {
   "cell_type": "markdown",
   "metadata": {},
   "source": [
    "## 2.3 Load the data from the given csv file in Part 1 to the relations\n",
    "\n",
    "* Assuming there will be multiple relations, you need to extract a subsets of data from the original csv data. As Python may not be your first choice, you can use any languages to create subsets of data. Then store these data into the Module 8 exercises folder. \n",
    "* After curating the data use the load loading skillset gained from Module 6\n",
    "  * Copy and paste your command/query in the following cell or comment on what you have done to populate the data.\n",
    "  \n",
    "* Add additional cells if required"
   ]
  },
  {
   "cell_type": "code",
   "execution_count": null,
   "metadata": {},
   "outputs": [],
   "source": [
    "    \n",
    "    \n",
    "    \n",
    "    \n",
    "    \n",
    "    "
   ]
  },
  {
   "cell_type": "markdown",
   "metadata": {},
   "source": [
    "## 2.4 For each table, show the table name and number of rows using a sql query\n",
    "\n",
    "* Add additional cells if required"
   ]
  },
  {
   "cell_type": "code",
   "execution_count": null,
   "metadata": {},
   "outputs": [],
   "source": [
    "%%sql\n",
    "\n",
    "\n"
   ]
  },
  {
   "cell_type": "markdown",
   "metadata": {},
   "source": [
    "## 2.5 Develop five distinct and useful queries that could be potentially used for policing planning, policy making, citizen awareness, etc.\n",
    "\n",
    "* Queries should provide some analytic values and use your SQL skillset beyond simple SELECT-FROM-WHERE using multiple tables. I expect to see GROUP BY/HAVING, Nested Queries, Aggregation Operators, etc.\n",
    "* Each query should have documentation to explain what this query is looking for and why it is meaningful for what purposes.\n",
    "\n",
    "### Best final projects will be given to three students (two online and one on campus) who will join me for beers at Flat Branch (local brewery in Columbia, Missouri) during the Executive Week in March 2022 (if pandemic situation is OK) or 2023 (I seriously think it should be OK by then). \n",
    "\n",
    "* five pairs of cells are expected. Your output presentations have to be self explainable. (hint: use AS)"
   ]
  },
  {
   "cell_type": "code",
   "execution_count": 1,
   "metadata": {},
   "outputs": [],
   "source": [
    "# What is the query trying to achieve - use natural language"
   ]
  },
  {
   "cell_type": "code",
   "execution_count": null,
   "metadata": {},
   "outputs": [],
   "source": [
    "%%sql\n",
    "\n",
    "\n",
    "\n",
    "\n"
   ]
  },
  {
   "cell_type": "code",
   "execution_count": null,
   "metadata": {},
   "outputs": [],
   "source": [
    "# What is the query trying to achieve - use natural language"
   ]
  },
  {
   "cell_type": "code",
   "execution_count": null,
   "metadata": {},
   "outputs": [],
   "source": [
    "%%sql\n",
    "\n",
    "\n",
    "\n",
    "\n"
   ]
  },
  {
   "cell_type": "code",
   "execution_count": null,
   "metadata": {},
   "outputs": [],
   "source": [
    "# What is the query trying to achieve - use natural language"
   ]
  },
  {
   "cell_type": "code",
   "execution_count": null,
   "metadata": {},
   "outputs": [],
   "source": [
    "%%sql\n",
    "\n",
    "\n",
    "\n",
    "\n"
   ]
  },
  {
   "cell_type": "code",
   "execution_count": null,
   "metadata": {},
   "outputs": [],
   "source": [
    "# What is the query trying to achieve - use natural language"
   ]
  },
  {
   "cell_type": "code",
   "execution_count": null,
   "metadata": {},
   "outputs": [],
   "source": [
    "%%sql\n",
    "\n",
    "\n",
    "\n",
    "\n"
   ]
  },
  {
   "cell_type": "code",
   "execution_count": null,
   "metadata": {},
   "outputs": [],
   "source": [
    "# What is the query trying to achieve - use natural language"
   ]
  },
  {
   "cell_type": "code",
   "execution_count": null,
   "metadata": {},
   "outputs": [],
   "source": [
    "%%sql\n",
    "\n",
    "\n",
    "\n",
    "\n"
   ]
  },
  {
   "cell_type": "markdown",
   "metadata": {},
   "source": [
    "## End of Final Project"
   ]
  },
  {
   "cell_type": "markdown",
   "metadata": {},
   "source": [
    "# Save your notebook, then `File > Close and Halt`"
   ]
  }
 ],
 "metadata": {
  "kernelspec": {
   "display_name": "Python 3",
   "language": "python",
   "name": "python3"
  },
  "language_info": {
   "codemirror_mode": {
    "name": "ipython",
    "version": 3
   },
   "file_extension": ".py",
   "mimetype": "text/x-python",
   "name": "python",
   "nbconvert_exporter": "python",
   "pygments_lexer": "ipython3",
   "version": "3.7.3"
  },
  "latex_envs": {
   "LaTeX_envs_menu_present": true,
   "bibliofile": "biblio.bib",
   "cite_by": "apalike",
   "current_citInitial": 1,
   "eqLabelWithNumbers": true,
   "eqNumInitial": 1,
   "labels_anchors": false,
   "latex_user_defs": false,
   "report_style_numbering": false,
   "user_envs_cfg": false
  },
  "toc": {
   "colors": {
    "hover_highlight": "#DAA520",
    "running_highlight": "#FF0000",
    "selected_highlight": "#FFD700"
   },
   "moveMenuLeft": true,
   "nav_menu": {
    "height": "139.261px",
    "width": "251.989px"
   },
   "navigate_menu": true,
   "number_sections": true,
   "sideBar": true,
   "threshold": 4,
   "toc_cell": true,
   "toc_section_display": "block",
   "toc_window_display": false
  }
 },
 "nbformat": 4,
 "nbformat_minor": 4
}
