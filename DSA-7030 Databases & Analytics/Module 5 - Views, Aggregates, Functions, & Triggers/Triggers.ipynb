{
 "cells": [
  {
   "cell_type": "markdown",
   "metadata": {},
   "source": [
    "# Triggers\n",
    "\n",
    "Event-driven actions to maintain database consistency.\n",
    "\n",
    "\n",
    "A database trigger is procedural code that is automatically executed in response to certain events on a particular table or view in a database.\n",
    "\n",
    "\n",
    "## Trigger Level (Scope)\n",
    "\n",
    "Triggers have two key _action scopes_: **statement level** and **row level**.\n",
    "The distinction between the two is how many times the code within the trigger is executed and what implicit input is available.\n",
    "When creating a trigger to determine if it is _statement_ or _row level_ \n",
    "the `FOR EACH ROW` clause makes it _row level_, \n",
    "or without the clause creates it as a _statement level_.\n",
    "\n",
    "### Statement Level Triggers\n",
    "Executes once for the statement that caused the trigger event.\n",
    "\n",
    "### Row Level Triggers\n",
    "Executes the trigger code for each row affected during the trigger event.\n",
    "\n",
    "### Triggers VS Stored Procedures\n",
    "Triggers and Stored Procedures are both useful tools in a database and both can perform functional tasks. \n",
    "\n",
    "The difference between these two tools is that Triggers are automatically called when a given event fires as discussed below, while stored procedures must be explicitly called in a query.\n",
    "\n",
    "---\n"
   ]
  },
  {
   "cell_type": "markdown",
   "metadata": {},
   "source": [
    "\n",
    "## Trigger Events \n",
    "\n",
    "Trigger Events are based on data manipulation (DML), namely `INSERT`, `UPDATE`, or `DELETE`.\n",
    "\n",
    "\n",
    "#### UPDATE Triggers\n",
    "\n",
    "_Row level_ triggers would execute each time a row is affected by the `UPDATE`. \n",
    "Note: If no rows are affected by the UPDATE command the trigger will not execute any code within the trigger.\n",
    "\n",
    "In _row level_ `UPDATE` triggers, you usually have access to two implicit tuples (records):\n",
    "  * The **OLD** row of values\n",
    "  * The **NEW** row of values\n",
    "\n",
    "Example:\n",
    "\n",
    "```\n",
    "   myTable\n",
    "--------------- \n",
    "| id  | value |\n",
    "|-------------|\n",
    "|  1  | 'dog' | \n",
    "--------------- \n",
    "\n",
    "\n",
    "UPDATE myTable SET value = 'cat' WHERE id = 1;\n",
    "```\n",
    "** _ OLD _ ** : (1, dog)  \n",
    "** _ NEW _ ** : (1, cat)  \n",
    "\n",
    "\n",
    "_Statement level_ triggers are called once regardless of how many rows are affected by the UPDATE. \n",
    "Note: If the UPDATE command does not affect any rows, the code within the **trigger will still be executed once**.\n",
    "\n",
    "\n",
    "\n",
    "### INSERT Triggers\n",
    "\n",
    "_Row level_ triggers would execute each time a row inserted into the table. \n",
    "In _row level_ `INSERT` triggers, you usually have access to one implicit tuple:\n",
    " * The **NEW** row of values.\n",
    "\n",
    "\n",
    "_Statement level_ triggers are called once regardless of how many rows are inserted. \n",
    "\n",
    "\n",
    "### DELETE Triggers\n",
    "\n",
    "_Row level_ triggers would execute each time a row deleted from the table. \n",
    "In _row level_ `DELETE` triggers, you usually have access to one implicit tuple:\n",
    " * The **OLD** row of values.\n",
    "\n",
    "_Statement level_ triggers are called once regardless of how many rows are deleted. \n",
    "\n",
    "\n",
    "--- "
   ]
  },
  {
   "cell_type": "markdown",
   "metadata": {},
   "source": [
    "## Trigger Timing\n",
    "\n",
    "Triggers have two timing scenarios, that is when they execute relative to the changes on the table data.\n",
    "These are `BEFORE` and `AFTER`.\n",
    "There are some caveats associated with the two timings:\n",
    "  * The BEFORE option does not allow you to modify any tables, that is why input validation is a practical use.\n",
    "  * Using AFTER triggers allows you to modify tables such as inserting into an audit history table.\n",
    "\n",
    "### Before Triggers\n",
    "\n",
    "If a trigger that is defined on an `INSERT` to a certain table using the `BEFORE` option, the code within the trigger will be executed before the `INSERT` into the table occurs. \n",
    "\n",
    "**A common use-case** of the `BEFORE` trigger is to verify the input values of the `INSERT`, or modify the values accordingly.\n",
    "\n",
    "### After Triggers\n",
    "\n",
    "If a trigger that uses AFTER instead. The code within the trigger is executed after the INSERT happens to the table. \n",
    "\n",
    "**A common use-case** of the `AFTER` trigger is creating an _audit history_ of who has made changes to a database, and keeping track of the changes made, i.e., the deltas or old values.\n",
    " \n",
    "  \n",
    "### Instead Of Triggers\n",
    "\n",
    "Some databases support `INSTEAD OF` triggers. \n",
    "These are typically used on views to manipulate the underlying tables.\n",
    "\n",
    "--- "
   ]
  },
  {
   "cell_type": "markdown",
   "metadata": {
    "collapsed": true
   },
   "source": [
    "## Cautions\n",
    "\n",
    "Caution must be exercised when numerous tables that are related have triggers that affect each other.\n",
    "For instance, \n",
    "  * if _tableA_ `UPDATE` triggers an `UPDATE` of _tableB_, \n",
    "  * which triggers an `UPDATE` of _tableC_ \n",
    "  * which triggers an  `UPDATE` of _tableA_;   \n",
    "this is a circular trigger dependency.\n",
    "\n"
   ]
  },
  {
   "cell_type": "markdown",
   "metadata": {
    "collapsed": true
   },
   "source": [
    "---\n",
    "# Triggers in PostgreSQL\n",
    "\n",
    "As you saw in the previous lesson, functions in PostgreSQL can be written in a variety of languages.\n",
    "This facilitates some truly remarkable capailities to affect the database as well as the underlying system.\n",
    "\n",
    "\n",
    "To create a new trigger in PostgreSQL, you need two components:\n",
    "  1. The trigger function defined using CREATE FUNCTION statement.\n",
    "  1. The trigger definition, which binds the event to the function using CREATE TRIGGER.\n",
    "  \n",
    "**NOTE:** You will not be able to create triggers in the course's _read only_ database.\n",
    "\n",
    "Please read through this tutorial.\n",
    "  1. www.tutorialspoint.com/postgresql/postgresql_triggers.htm\n",
    "  \n",
    "For extra/optional reading, this tutorial provides additional perspective.\n",
    "  1. http://www.postgresqltutorial.com/creating-first-trigger-postgresql/\n"
   ]
  },
  {
   "cell_type": "markdown",
   "metadata": {},
   "source": [
    "---"
   ]
  }
 ],
 "metadata": {
  "kernelspec": {
   "display_name": "Python 3",
   "language": "python",
   "name": "python3"
  },
  "language_info": {
   "codemirror_mode": {
    "name": "ipython",
    "version": 3
   },
   "file_extension": ".py",
   "mimetype": "text/x-python",
   "name": "python",
   "nbconvert_exporter": "python",
   "pygments_lexer": "ipython3",
   "version": "3.7.3"
  }
 },
 "nbformat": 4,
 "nbformat_minor": 1
}
