{
 "cells": [
  {
   "attachments": {},
   "cell_type": "markdown",
   "metadata": {},
   "source": [
    "# Table Expressions\n",
    "\n",
    "Note the general syntax of a simple SQL\n",
    "\n",
    "```SQL\n",
    "SELECT <col_list>\n",
    "FROM <table>\n",
    "WHERE <row_constraint>\n",
    "```\n",
    "\n",
    "Whenever we are using the `<table_A> JOIN <table_B>` syntax, we are creating a ** _table expression_**.\n",
    "The result of this expression is a set of columns from both tables, A and B, composed of the matched rows.\n",
    "\n",
    "We can actually generalize SQL SELECT Statements as the following:\n",
    "\n",
    "![table expression](../images/SQL_TableExpression.png)\n",
    "\n"
   ]
  },
  {
   "cell_type": "markdown",
   "metadata": {},
   "source": [
    "## Views\n",
    "\n",
    "(from Wikipedia)\n",
    "\n",
    "In database theory, a view is the result set of a stored query on the data, which the database users can query just as they would in a persistent database collection object. \n",
    "This pre-established query command is kept in the database dictionary. \n",
    "Unlike ordinary base tables in a relational database, a view does not form part of the physical schema: \n",
    "as a result set, it is a virtual table computed or collated dynamically from data in the \n",
    "database when access to that view is requested. \n",
    "Changes applied to the data in a relevant underlying table are reflected in the data shown in subsequent invocations of the view.\n",
    "\n",
    "Views can provide advantages over tables:\n",
    "\n",
    "  * Views can represent a subset of the data contained in a table. Consequently, a view can limit the degree of exposure of the underlying tables to the outer world: a given user may have permission to query the view, while denied access to the rest of the base table.\n",
    "  * Views can join and simplify multiple tables into a single virtual table.\n",
    "  * Views can act as aggregated tables, where the database engine aggregates data (sum, average, etc.) and presents the calculated results as part of the data.\n",
    "  * Views can hide the complexity of data. For example, a view could appear as Sales2000 or Sales2001, transparently partitioning the actual underlying table.\n",
    "  * Views take very little space to store; the database contains only the definition of a view, not a copy of all the data that it presents.\n",
    "  * Depending on the SQL engine used, views can provide extra security.\n",
    "\n",
    "Just as a function (in programming) can provide abstraction, so can a database view. \n",
    "In another parallel with functions, database users can manipulate nested views, thus one view can aggregate data from other views. \n",
    "Without the use of views, the normalization of databases above second normal form would become much more difficult. Views can make it easier to create lossless join decomposition.\n",
    "\n",
    "Just as rows in a base table lack any defined ordering, rows available through a view do not appear with any default sorting. \n",
    "A view is a relational table, and the relational model defines a table as a set of rows. Since sets are not ordered — by definition — neither are the rows of a view. \n",
    "Therefore, an ORDER BY clause in the view definition is meaningless; the SQL standard (SQL:2003) does not allow an ORDER BY clause in the subquery of a CREATE VIEW command, just as it is refused in a CREATE TABLE statement. \n",
    "However, sorted data can be obtained from a view, in the same way as any other table — as part of a query statement on that view. Nevertheless, some DBMS (such as Oracle Database) do not abide by this SQL standard restriction.\n",
    "\n",
    "### VIEW definition sytnax\n",
    "```SQL\n",
    "CREATE VIEW <view_name> AS \n",
    "<table_expression> \n",
    "```\n",
    "\n",
    "\n"
   ]
  },
  {
   "cell_type": "markdown",
   "metadata": {},
   "source": [
    "### PostgreSQL CREATE VIEW Command\n",
    "\n",
    "https://www.tutorialspoint.com/postgresql/postgresql_views.htm"
   ]
  },
  {
   "cell_type": "markdown",
   "metadata": {},
   "source": [
    "# Views are stored Subquery Table Expressions\n",
    "\n",
    "\n",
    "Recall our image above:\n",
    "![table expression](../images/SQL_TableExpression.png)\n",
    "\n",
    "\n",
    "If a table or view can be the input of SQL `SELECT`, then we should be able dynamically define a table expression in the body of that `SELECT`.\n",
    "\n",
    "That is:\n",
    "\n",
    "```SQL\n",
    "SELECT <col_list_a>\n",
    "FROM (\n",
    "    SELECT <col_list_b>\n",
    "    FROM <table_expressions_list>\n",
    "    WHERE ... \n",
    "    ) as <derived_table_alias>\n",
    "WHERE <row_constraints>\n",
    "```\n"
   ]
  }
 ],
 "metadata": {
  "kernelspec": {
   "display_name": "Python 3",
   "language": "python",
   "name": "python3"
  },
  "language_info": {
   "codemirror_mode": {
    "name": "ipython",
    "version": 3
   },
   "file_extension": ".py",
   "mimetype": "text/x-python",
   "name": "python",
   "nbconvert_exporter": "python",
   "pygments_lexer": "ipython3",
   "version": "3.7.3"
  }
 },
 "nbformat": 4,
 "nbformat_minor": 2
}
