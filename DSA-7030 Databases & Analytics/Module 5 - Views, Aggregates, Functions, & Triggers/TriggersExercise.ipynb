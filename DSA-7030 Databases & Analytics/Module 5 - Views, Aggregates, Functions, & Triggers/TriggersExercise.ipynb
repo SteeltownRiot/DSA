{
 "cells": [
  {
   "cell_type": "markdown",
   "metadata": {},
   "source": [
    "# Triggers in PostgreSQL - Exercise"
   ]
  },
  {
   "cell_type": "markdown",
   "metadata": {},
   "source": [
    "\n",
    "For this exercise, you will connect to the `dsa_student` database and create functions within your schema, i.e., your pawprint should replace SSO below.\n"
   ]
  },
  {
   "cell_type": "markdown",
   "metadata": {},
   "source": [
    "--- \n",
    "\n",
    "## Audit the Survey Table for Deletes\n",
    "\n",
    "### 1 Define and create your trigger function to audit deletes on the survey table."
   ]
  },
  {
   "cell_type": "raw",
   "metadata": {},
   "source": [
    "# Add your trigger function below this line.\n",
    "\n",
    "CREATE OR REPLACE FUNCTION jch5x8.audit_jch5x8_survey_reading_delete()\n",
    "  RETURNS TRIGGER \n",
    "  AS\n",
    "$$\n",
    "BEGIN\n",
    "   INSERT INTO jch5x8.survey_audit\n",
    "       (taken, person, quant, old_reading, new_reading)\n",
    "   VALUES\n",
    "       (OLD.taken, OLD.person, OLD.quant, OLD.reading, NULL);\n",
    "   RETURN NEW;\n",
    "END;\n",
    "$$\n",
    "LANGUAGE PLPGSQL;"
   ]
  },
  {
   "cell_type": "markdown",
   "metadata": {},
   "source": [
    "----\n",
    "\n",
    "### 2 Create your trigger on the survey table.\n"
   ]
  },
  {
   "cell_type": "raw",
   "metadata": {},
   "source": [
    "# Add your trigger definition below this line.\n",
    "\n",
    "DROP TRIGGER IF EXISTS jch5x8_survey_delete_audit ON jch5x8.survey;\n",
    "\n",
    "CREATE TRIGGER jch5x8_survey_delete_audit\n",
    "  AFTER DELETE\n",
    "  ON jch5x8.survey\n",
    "  FOR EACH ROW\n",
    "  EXECUTE PROCEDURE jch5x8.audit_jch5x8_survey_reading_delete();"
   ]
  },
  {
   "cell_type": "raw",
   "metadata": {},
   "source": [
    "# Show the table describe for the Survey table that should include three triggers now.\n",
    "\n",
    "                                   Table \"jch5x8.survey\"\n",
    " Column  |  Type   | Collation | Nullable | Default | Storage  | Stats target | Description\n",
    "---------+---------+-----------+----------+---------+----------+--------------+-------------\n",
    " taken   | integer |           |          |         | plain    |              |\n",
    " person  | text    |           |          |         | extended |              |\n",
    " quant   | text    |           |          |         | extended |              |\n",
    " reading | real    |           |          |         | plain    |              |\n",
    "Triggers:\n",
    "    jch5x8_survey_delete_audit AFTER DELETE ON survey FOR EACH ROW EXECUTE PROCEDURE audit_jch5x8_survey_reading_delete()\n",
    "    jch5x8_survey_insert_audit AFTER INSERT ON survey FOR EACH ROW EXECUTE PROCEDURE audit_jch5x8_survey_reading_insert()\n",
    "    jch5x8_survey_update_audit AFTER UPDATE ON survey FOR EACH ROW EXECUTE PROCEDURE audit_jch5x8_survey_reading_changes()"
   ]
  },
  {
   "cell_type": "markdown",
   "metadata": {},
   "source": [
    "### 3 Remove Rows\n",
    "\n",
    "Note: In the practice we executed this multi-insert statement.\n",
    "\n",
    "```SQL\n",
    "INSERT INTO SSO.survey VALUES \n",
    "(619,'lake','rad',8.72),\n",
    "(619,'lake','sal',2.03),\n",
    "(622,'lake','rad',8.8),\n",
    "(622,'lake','sal',1.9)\n",
    ";\n",
    "```\n",
    "\n",
    "#### In the cells below, \n",
    " 1. Write a two distinct DELETE Statements for 619/lake rows.\n",
    "     1. removing this data (619,'lake','rad',8.72)\n",
    "     2. removing this data (619,'lake','sal',2.03)\n",
    " 2. Show the data in the survey table.\n",
    " 3. Show the resulting audit rows.\n"
   ]
  },
  {
   "cell_type": "raw",
   "metadata": {},
   "source": [
    "# 3.1 Show the delete statements\n",
    "\n",
    "DELETE FROM jch5x8.survey\n",
    "WHERE   person = 'lake'\n",
    "        AND reading = '8.72';\n",
    "\n",
    "DELETE FROM jch5x8.survey\n",
    "WHERE   person = 'lake'\n",
    "        AND reading = '2.03';"
   ]
  },
  {
   "cell_type": "raw",
   "metadata": {},
   "source": [
    "# 3.2 Show the full survey table\n",
    "\n",
    "dsa_student=> select * from jch5x8.survey;\n",
    " taken | person | quant | reading\n",
    "-------+--------+-------+---------\n",
    "   619 | dyer   | rad   |    9.82\n",
    "   619 | dyer   | sal   |    0.13\n",
    "   622 | dyer   | rad   |     7.8\n",
    "   622 | dyer   | sal   |    0.09\n",
    "   734 | pb     | rad   |    8.41\n",
    "   734 | lake   | sal   |    0.05\n",
    "   734 | pb     | temp  |   -21.5\n",
    "   735 | pb     | rad   |    7.22\n",
    "   735 |        | sal   |    0.06\n",
    "   735 |        | temp  |     -26\n",
    "   751 | pb     | rad   |    4.35\n",
    "   751 | pb     | temp  |   -18.5\n",
    "   752 | lake   | rad   |    2.19\n",
    "   752 | lake   | sal   |    0.09\n",
    "   752 | lake   | temp  |     -16\n",
    "   837 | lake   | rad   |    1.46\n",
    "   837 | lake   | sal   |    0.21\n",
    "   751 | lake   | sal   |     0.1\n",
    "   752 | roe    | sal   |   41.61\n",
    "   837 | roe    | sal   |   22.51\n",
    "   844 | roe    | rad   |   11.26\n",
    "   619 | roe    | rad   |     101\n",
    "   619 | roe    | rad   |     101\n",
    "   622 | lake   | rad   |     8.8\n",
    "   622 | lake   | sal   |     1.9\n",
    "(25 rows)"
   ]
  },
  {
   "cell_type": "raw",
   "metadata": {},
   "source": [
    "# 3.3 Show the resulting audit rows.\n",
    "\n",
    "dsa_student=> select * from jch5x8.survey_audit;\n",
    " taken | person | quant |          change_time          | old_reading | new_reading\n",
    "-------+--------+-------+-------------------------------+-------------+-------------\n",
    "   751 | lake   | sal   | 2021-11-18 19:05:07.297114-06 |         0.1 |       0.111\n",
    "   751 | lake   | sal   | 2021-11-18 19:09:06.025188-06 |       0.111 |         0.1\n",
    "   752 | roe    | sal   | 2021-11-19 20:59:31.679954-06 |        41.6 |       41.61\n",
    "   837 | roe    | sal   | 2021-11-19 20:59:31.679954-06 |        22.5 |       22.51\n",
    "   844 | roe    | rad   | 2021-11-19 20:59:31.679954-06 |       11.25 |       11.26\n",
    "   619 | roe    | rad   | 2021-11-19 21:26:48.668515-06 |             |         101\n",
    "   619 | roe    | rad   | 2021-11-19 21:27:06.950154-06 |             |         101\n",
    "   619 | lake   | rad   | 2021-11-19 21:39:56.894566-06 |             |        8.72\n",
    "   619 | lake   | sal   | 2021-11-19 21:39:56.894566-06 |             |        2.03\n",
    "   622 | lake   | rad   | 2021-11-19 21:39:56.894566-06 |             |         8.8\n",
    "   622 | lake   | sal   | 2021-11-19 21:39:56.894566-06 |             |         1.9\n",
    "   619 | lake   | sal   | 2021-11-22 11:02:13.630605-06 |        2.03 |\n",
    "   619 | lake   | rad   | 2021-11-22 11:02:20.994141-06 |        8.72 |\n",
    "(13 rows)"
   ]
  },
  {
   "cell_type": "markdown",
   "metadata": {},
   "source": [
    "---\n",
    "\n",
    "### 4 Remove the other two rows with a single delete statement.\n",
    "\n",
    " 1. Write a single DELETE Statement for the 622/lake rows.\n",
    "     1. removing this data (622,'lake','rad',8.8)\n",
    "     2. removing this data (622,'lake','sal',1.9)\n",
    " 2. Show the data in the survey table.\n",
    " 3. Show the resulting audit rows."
   ]
  },
  {
   "cell_type": "raw",
   "metadata": {},
   "source": [
    "# 4.1 Show the delete statements\n",
    "\n",
    "DELETE FROM jch5x8.survey\n",
    "WHERE   person = 'lake'\n",
    "        AND taken = '622';"
   ]
  },
  {
   "cell_type": "raw",
   "metadata": {},
   "source": [
    "# 4.2 Show the full survey table\n",
    "\n",
    "dsa_student=> select * from jch5x8.survey;\n",
    " taken | person | quant | reading\n",
    "-------+--------+-------+---------\n",
    "   619 | dyer   | rad   |    9.82\n",
    "   619 | dyer   | sal   |    0.13\n",
    "   622 | dyer   | rad   |     7.8\n",
    "   622 | dyer   | sal   |    0.09\n",
    "   734 | pb     | rad   |    8.41\n",
    "   734 | lake   | sal   |    0.05\n",
    "   734 | pb     | temp  |   -21.5\n",
    "   735 | pb     | rad   |    7.22\n",
    "   735 |        | sal   |    0.06\n",
    "   735 |        | temp  |     -26\n",
    "   751 | pb     | rad   |    4.35\n",
    "   751 | pb     | temp  |   -18.5\n",
    "   752 | lake   | rad   |    2.19\n",
    "   752 | lake   | sal   |    0.09\n",
    "   752 | lake   | temp  |     -16\n",
    "   837 | lake   | rad   |    1.46\n",
    "   837 | lake   | sal   |    0.21\n",
    "   751 | lake   | sal   |     0.1\n",
    "   752 | roe    | sal   |   41.61\n",
    "   837 | roe    | sal   |   22.51\n",
    "   844 | roe    | rad   |   11.26\n",
    "   619 | roe    | rad   |     101\n",
    "   619 | roe    | rad   |     101\n",
    "(23 rows)"
   ]
  },
  {
   "cell_type": "raw",
   "metadata": {},
   "source": [
    "# 4.3 Show the resulting audit rows.\n",
    "\n",
    "dsa_student=> select * from jch5x8.survey_audit;\n",
    " taken | person | quant |          change_time          | old_reading | new_reading\n",
    "-------+--------+-------+-------------------------------+-------------+-------------\n",
    "   751 | lake   | sal   | 2021-11-18 19:05:07.297114-06 |         0.1 |       0.111\n",
    "   751 | lake   | sal   | 2021-11-18 19:09:06.025188-06 |       0.111 |         0.1\n",
    "   752 | roe    | sal   | 2021-11-19 20:59:31.679954-06 |        41.6 |       41.61\n",
    "   837 | roe    | sal   | 2021-11-19 20:59:31.679954-06 |        22.5 |       22.51\n",
    "   844 | roe    | rad   | 2021-11-19 20:59:31.679954-06 |       11.25 |       11.26\n",
    "   619 | roe    | rad   | 2021-11-19 21:26:48.668515-06 |             |         101\n",
    "   619 | roe    | rad   | 2021-11-19 21:27:06.950154-06 |             |         101\n",
    "   619 | lake   | rad   | 2021-11-19 21:39:56.894566-06 |             |        8.72\n",
    "   619 | lake   | sal   | 2021-11-19 21:39:56.894566-06 |             |        2.03\n",
    "   622 | lake   | rad   | 2021-11-19 21:39:56.894566-06 |             |         8.8\n",
    "   622 | lake   | sal   | 2021-11-19 21:39:56.894566-06 |             |         1.9\n",
    "   619 | lake   | sal   | 2021-11-22 11:02:13.630605-06 |        2.03 |\n",
    "   619 | lake   | rad   | 2021-11-22 11:02:20.994141-06 |        8.72 |\n",
    "   622 | lake   | rad   | 2021-11-22 11:06:17.189738-06 |         8.8 |\n",
    "   622 | lake   | sal   | 2021-11-22 11:06:17.189738-06 |         1.9 |\n",
    "(15 rows)"
   ]
  },
  {
   "cell_type": "markdown",
   "metadata": {},
   "source": [
    "# Save your notebook, then `File > Close and Halt`"
   ]
  }
 ],
 "metadata": {
  "kernelspec": {
   "display_name": "Python 3",
   "language": "python",
   "name": "python3"
  },
  "language_info": {
   "codemirror_mode": {
    "name": "ipython",
    "version": 3
   },
   "file_extension": ".py",
   "mimetype": "text/x-python",
   "name": "python",
   "nbconvert_exporter": "python",
   "pygments_lexer": "ipython3",
   "version": "3.7.3"
  }
 },
 "nbformat": 4,
 "nbformat_minor": 1
}
