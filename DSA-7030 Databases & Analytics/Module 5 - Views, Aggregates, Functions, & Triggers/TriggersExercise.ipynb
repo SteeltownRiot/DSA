{
 "cells": [
  {
   "cell_type": "markdown",
   "metadata": {},
   "source": [
    "# Triggers in PostgreSQL - Exercise"
   ]
  },
  {
   "cell_type": "markdown",
   "metadata": {},
   "source": [
    "\n",
    "For this exercise, you will connect to the `dsa_student` database and create functions within your schema, i.e., your pawprint should replace SSO below.\n"
   ]
  },
  {
   "attachments": {},
   "cell_type": "markdown",
   "metadata": {},
   "source": [
    "--- \n",
    "\n",
    "## Audit the Survey Table for Deletes\n",
    "\n",
    "### 1 Define and create your trigger function to audit deletes on the survey table."
   ]
  },
  {
   "cell_type": "code",
   "execution_count": null,
   "metadata": {},
   "outputs": [],
   "source": [
    "# Add your trigger function below this line.\n",
    "\n",
    "/* It looks like many people are having trouble understanding triggers. Please make sure to read the reading materials and the descriptions in the lab and practices. Here is a brief explanation:\n",
    "There are two components in a trigger as explained in the lab:\n",
    "Trigger definition: when to trigger the trigger function\n",
    "Trigger function: what to do after a trigger has been triggered\n",
    "This is the basic structure of a trigger definition based on the example in lab:\n",
    "*/\n",
    "CREATE TRIGGER name_of_the_trigger\n",
    "  when to trigger (BEFORE/AFTER UPDATE/INSERT/DELETE)\n",
    "  ON table_being_watched\n",
    "  FOR EACH ROW\n",
    "  EXECUTE PROCEDURE name_of_trigger_function();\n",
    " \n",
    "-- This is the basic structure of a trigger function based on the example in lab:\n",
    "CREATE FUNCTION name_of_trigger_function()\n",
    "  RETURNS TRIGGER\n",
    "  AS\n",
    "$$\n",
    "BEGIN\n",
    "  extra criteria for the action to be executed, might not be necessary in every situation (IF …)\n",
    "        the actual action of the trigger (INSERT INTO table_being_affected VALUES …)\n",
    "END;\n",
    "$$\n",
    "LANGUAGE PLPGSQL;\n",
    " \n",
    "/* The NEW/OLD keywords are based on the event which triggers the trigger. For UPDATE, the\n",
    "   OLD is the old record before the update, and the NEW is the record with the updated values.\n",
    "   So, for DELETE in the exercise, please think about what deletion does, and what would be the\n",
    "   NEW and OLD record in this case. Please also think about the nature of deletion, which of\n",
    "   BEFORE or AFTER makes more sense when you want to have an archive?\n",
    "*/\n",
    "\n",
    "\n"
   ]
  },
  {
   "cell_type": "markdown",
   "metadata": {},
   "source": [
    "----\n",
    "\n",
    "### 2 Create your trigger on the survey table.\n"
   ]
  },
  {
   "cell_type": "raw",
   "metadata": {},
   "source": [
    "# Add your trigger definition below this line.\n",
    "\n",
    "\n",
    "\n",
    "\n",
    "\n"
   ]
  },
  {
   "cell_type": "raw",
   "metadata": {},
   "source": [
    "# Show the table describe for the Survey table that should include three triggers now.\n",
    "\n",
    "\n",
    "\n",
    "\n"
   ]
  },
  {
   "cell_type": "markdown",
   "metadata": {},
   "source": [
    "### 3 Remove Rows\n",
    "\n",
    "Note: In the practice we executed this multi-insert statement.\n",
    "\n",
    "```SQL\n",
    "INSERT INTO SSO.survey VALUES \n",
    "(619,'lake','rad',8.72),\n",
    "(619,'lake','sal',2.03),\n",
    "(622,'lake','rad',8.8),\n",
    "(622,'lake','sal',1.9)\n",
    ";\n",
    "```\n",
    "\n",
    "#### In the cells below, \n",
    " 1. Write a two distinct DELETE Statements for 619/lake rows.\n",
    "     1. removing this data (619,'lake','rad',8.72)\n",
    "     2. removing this data (619,'lake','sal',2.03)\n",
    " 2. Show the data in the survey table.\n",
    " 3. Show the resulting audit rows.\n"
   ]
  },
  {
   "cell_type": "raw",
   "metadata": {},
   "source": [
    "# 3.1 Show the delete statements\n",
    "\n",
    "\n"
   ]
  },
  {
   "cell_type": "raw",
   "metadata": {},
   "source": [
    "# 3.2 Show the full survey table\n",
    "\n",
    "\n"
   ]
  },
  {
   "cell_type": "raw",
   "metadata": {},
   "source": [
    "# 3.3 Show the resulting audit rows.\n",
    "\n",
    "\n"
   ]
  },
  {
   "cell_type": "markdown",
   "metadata": {},
   "source": [
    "---\n",
    "\n",
    "### 4 Remove the other two rows with a single delete statement.\n",
    "\n",
    " 1. Write a single DELETE Statement for the 622/lake rows.\n",
    "     1. removing this data (622,'lake','rad',8.8)\n",
    "     2. removing this data (622,'lake','sal',1.9)\n",
    " 2. Show the data in the survey table.\n",
    " 3. Show the resulting audit rows."
   ]
  },
  {
   "cell_type": "raw",
   "metadata": {},
   "source": [
    "# 4.1 Show the delete statements\n",
    "\n",
    "\n"
   ]
  },
  {
   "cell_type": "raw",
   "metadata": {},
   "source": [
    "# 4.2 Show the full survey table\n",
    "\n",
    "\n"
   ]
  },
  {
   "cell_type": "raw",
   "metadata": {},
   "source": [
    "# 4.3 Show the resulting audit rows.\n",
    "\n",
    "\n"
   ]
  },
  {
   "cell_type": "markdown",
   "metadata": {},
   "source": [
    "# Save your notebook, then `File > Close and Halt`"
   ]
  }
 ],
 "metadata": {
  "kernelspec": {
   "display_name": "Python 3",
   "language": "python",
   "name": "python3"
  },
  "language_info": {
   "codemirror_mode": {
    "name": "ipython",
    "version": 3
   },
   "file_extension": ".py",
   "mimetype": "text/x-python",
   "name": "python",
   "nbconvert_exporter": "python",
   "pygments_lexer": "ipython3",
   "version": "3.7.3"
  }
 },
 "nbformat": 4,
 "nbformat_minor": 1
}
