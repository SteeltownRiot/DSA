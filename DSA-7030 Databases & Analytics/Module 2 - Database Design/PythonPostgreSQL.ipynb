{
 "cells": [
  {
   "cell_type": "markdown",
   "metadata": {
    "collapsed": true
   },
   "source": [
    "# Using psycopg2 to Connect to PostgreSQL\n",
    "We will now look at another way of connect to postgreSQL through our notebooks using the pyscopg2 library. We will once again use the dsa_ro_user user account to connect which is a read-only user meaning we will again only be allowed to run SELECT queries on the database.\n",
    "\n",
    "## Importing psycopg2\n",
    "\n",
    "This import will allow our python code to use the psycogpg library. \n",
    "\n",
    "This library will allow us to do all of our interaction with postgreSQL through Python.\n"
   ]
  },
  {
   "cell_type": "code",
   "execution_count": 1,
   "metadata": {},
   "outputs": [],
   "source": [
    "import psycopg2\n",
    "import getpass"
   ]
  },
  {
   "cell_type": "markdown",
   "metadata": {},
   "source": [
    "## Connecting to the database\n",
    "\n",
    "First, we must make our connection to the database using the psycopg2.connect() command\n",
    "\n",
    "You will notice that we feed the command four strings that are related to the login command that you have run before to connect to the PostgreSQL database.\n",
    "\n",
    "The command we ran before was `psql -U dsa_ro_user -h pgsql  dsa_ro;`\n",
    "\n",
    "* The database is: readonly\n",
    "* The username is: dsa_ro_user\n",
    "* The password is: readonly\n",
    "\n",
    "You can notice that the host, database and user name in the psycopg2 command are taken directly from the psql command, and the password is the one that you entered to log in to the PostgreSQL database.\n"
   ]
  },
  {
   "cell_type": "code",
   "execution_count": 7,
   "metadata": {},
   "outputs": [
    {
     "name": "stdout",
     "output_type": "stream",
     "text": [
      "Type database name and hit enter :: dsa_ro\n"
     ]
    }
   ],
   "source": [
    "database = input('Type database name and hit enter :: ')"
   ]
  },
  {
   "cell_type": "code",
   "execution_count": 3,
   "metadata": {},
   "outputs": [
    {
     "name": "stdout",
     "output_type": "stream",
     "text": [
      "Type username and hit enter :: dsa_ro_user\n"
     ]
    }
   ],
   "source": [
    "user = input('Type username and hit enter :: ')"
   ]
  },
  {
   "cell_type": "code",
   "execution_count": 4,
   "metadata": {},
   "outputs": [
    {
     "name": "stdout",
     "output_type": "stream",
     "text": [
      "Type Password and hit enter :: ········\n"
     ]
    }
   ],
   "source": [
    "password = getpass.getpass('Type Password and hit enter :: ')"
   ]
  },
  {
   "cell_type": "code",
   "execution_count": 8,
   "metadata": {},
   "outputs": [],
   "source": [
    "connection = psycopg2.connect(database = database, \n",
    "                              user = user, \n",
    "                              host = 'pgsql.dsa.lan',\n",
    "                              password = password)"
   ]
  },
  {
   "cell_type": "markdown",
   "metadata": {},
   "source": [
    "## Querying database and using a transaction\n",
    "\n",
    "This time we will be doing our queries within a transaction block so that the commit command will not be needed at the end.\n",
    "\n",
    "You will notice that our **`with`** block creates a cursor.\n",
    "\n",
    "The cursor will be automatically destroyed at the end of this `with` block (the transaction block).\n",
    "\n",
    "The purpose of the transaction block is that if the `with` block fails, it will not commit any part of the query to the database. This means that if an error occurs in the transaction, that transaction is automatically \"rolled back.\"  All statements since the beginning of the transaction are voided and the transaction ends. This is done to ensure that changes to the database are error free, but requires the user to be very precise in the queries he/she runs. (But since we are not doing updates or inserts as a read-only user, there are no changes to roll back in these demonstration queries.)\n",
    "\n",
    "Every time a **`with`** block is completed it will commit that section of queries to the database.\n",
    "\n",
    "We also need to create the `results` object inside the with block so that after the cursor is destroyed we have access to the query result data."
   ]
  },
  {
   "cell_type": "code",
   "execution_count": 10,
   "metadata": {},
   "outputs": [],
   "source": [
    "with connection, connection.cursor() as cursor:\n",
    "    cursor.execute(\"SELECT * FROM util_us_states\")\n",
    "    results = cursor.fetchall()"
   ]
  },
  {
   "cell_type": "markdown",
   "metadata": {},
   "source": [
    "## Printing result data\n",
    "\n",
    "We are using a simple `for each` loop in python here to print the rows of the results object.\n",
    "\n",
    "We can do this because the return type of the `fetchall()` function is a list of tuples that we can iterate through.\n",
    "\n",
    "The command below simply says _for each row in results_ we are going to print out that row."
   ]
  },
  {
   "cell_type": "code",
   "execution_count": 11,
   "metadata": {
    "scrolled": true
   },
   "outputs": [
    {
     "name": "stdout",
     "output_type": "stream",
     "text": [
      "('AK', 2, 'ALASKA')\n",
      "('AL', 1, 'ALABAMA')\n",
      "('AR', 5, 'ARKANSAS')\n",
      "('AS', 60, 'AMERICAN SAMOA')\n",
      "('AZ', 4, 'ARIZONA')\n",
      "('CA', 6, 'CALIFORNIA')\n",
      "('CO', 8, 'COLORADO')\n",
      "('CT', 9, 'CONNECTICUT')\n",
      "('DC', 11, 'DISTRICT OF COLUMBIA')\n",
      "('DE', 10, 'DELAWARE')\n",
      "('FL', 12, 'FLORIDA')\n",
      "('FM', 64, 'FEDERATED STATES OF MICRONESIA')\n",
      "('GA', 13, 'GEORGIA')\n",
      "('GU', 66, 'GUAM')\n",
      "('HI', 15, 'HAWAII')\n",
      "('IA', 19, 'IOWA')\n",
      "('ID', 16, 'IDAHO')\n",
      "('IL', 17, 'ILLINOIS')\n",
      "('IN', 18, 'INDIANA')\n",
      "('KS', 20, 'KANSAS')\n",
      "('KY', 21, 'KENTUCKY')\n",
      "('LA', 22, 'LOUISIANA')\n",
      "('MA', 25, 'MASSACHUSETTS')\n",
      "('MD', 24, 'MARYLAND')\n",
      "('ME', 23, 'MAINE')\n",
      "('MH', 68, 'MARSHALL ISLANDS')\n",
      "('MI', 26, 'MICHIGAN')\n",
      "('MN', 27, 'MINNESOTA')\n",
      "('MO', 29, 'MISSOURI')\n",
      "('MP', 69, 'NORTHERN MARIANA ISLANDS')\n",
      "('MS', 28, 'MISSISSIPPI')\n",
      "('MT', 30, 'MONTANA')\n",
      "('NC', 37, 'NORTH CAROLINA')\n",
      "('ND', 38, 'NORTH DAKOTA')\n",
      "('NE', 31, 'NEBRASKA')\n",
      "('NH', 33, 'NEW HAMPSHIRE')\n",
      "('NJ', 34, 'NEW JERSEY')\n",
      "('NM', 35, 'NEW MEXICO')\n",
      "('NV', 32, 'NEVADA')\n",
      "('NY', 36, 'NEW YORK')\n",
      "('OH', 39, 'OHIO')\n",
      "('OK', 40, 'OKLAHOMA')\n",
      "('OR', 41, 'OREGON')\n",
      "('PA', 42, 'PENNSYLVANIA')\n",
      "('PR', 72, 'PUERTO RICO')\n",
      "('PW', 70, 'PALAU')\n",
      "('RI', 44, 'RHODE ISLAND')\n",
      "('SC', 45, 'SOUTH CAROLINA')\n",
      "('SD', 46, 'SOUTH DAKOTA')\n",
      "('TN', 47, 'TENNESSEE')\n",
      "('TX', 48, 'TEXAS')\n",
      "('UM', 74, None)\n",
      "('UT', 49, 'UTAH')\n",
      "('VA', 51, 'VIRGINIA')\n",
      "('VI', 78, 'VIRGIN ISLANDS')\n",
      "('VT', 50, 'VERMONT')\n",
      "('WA', 53, 'WASHINGTON')\n",
      "('WI', 55, 'WISCONSIN')\n",
      "('WV', 54, 'WEST VIRGINIA')\n",
      "('WY', 56, 'WYOMING')\n"
     ]
    }
   ],
   "source": [
    "for row in results:\n",
    "    print(row)"
   ]
  },
  {
   "cell_type": "markdown",
   "metadata": {
    "collapsed": true
   },
   "source": [
    "## Closing the connection to the database\n",
    "\n",
    "Since the psycopg2 library allows us to use transaction-based queries we do not need to commit our changes at the end.\n",
    "\n",
    "So we simply need to run the [connection_name].close() command to close our connection to the database.\n",
    "\n",
    "Closing your connection when you are done with it is very important and must be remembered.\n"
   ]
  },
  {
   "cell_type": "code",
   "execution_count": 12,
   "metadata": {},
   "outputs": [],
   "source": [
    "connection.close()"
   ]
  },
  {
   "cell_type": "markdown",
   "metadata": {},
   "source": [
    "## <span style=\"background:yellow\">Your Turn!</span>\n",
    "\n",
    "Open a connection to the database, and query the database to find all cities in the United States, then print those cities, and close the connection.\n",
    "\n"
   ]
  },
  {
   "cell_type": "code",
   "execution_count": 13,
   "metadata": {},
   "outputs": [
    {
     "name": "stdout",
     "output_type": "stream",
     "text": [
      "('New York City',)\n",
      "('Los Angeles',)\n",
      "('Chicago',)\n",
      "('Brooklyn',)\n",
      "('Borough of Queens',)\n",
      "('Houston',)\n",
      "('Philadelphia',)\n",
      "('Manhattan',)\n",
      "('Phoenix',)\n",
      "('The Bronx',)\n",
      "('San Antonio',)\n",
      "('San Diego',)\n",
      "('Dallas',)\n"
     ]
    }
   ],
   "source": [
    "connection = psycopg2.connect(database = database, \n",
    "                              user = user, \n",
    "                              host = 'pgsql.dsa.lan',\n",
    "                              password = password)\n",
    "\n",
    "with connection, connection.cursor() as cursor:\n",
    "    # Update the CHANGE ME string to SQL\n",
    "    cursor.execute(\"SELECT city FROM cities WHERE country = 'United States'\")\n",
    "    results = cursor.fetchall()\n",
    "\n",
    "for row in results:\n",
    "    print(row)\n",
    "\n",
    "connection.close()"
   ]
  },
  {
   "cell_type": "markdown",
   "metadata": {},
   "source": [
    "Change your code from step 1 to instead find all cities around the world with a population over 6,000,000"
   ]
  },
  {
   "cell_type": "code",
   "execution_count": 14,
   "metadata": {},
   "outputs": [
    {
     "name": "stdout",
     "output_type": "stream",
     "text": [
      "('Shanghai',)\n",
      "('Karachi',)\n",
      "('Mumbai',)\n",
      "('Beijing',)\n",
      "('Istanbul',)\n",
      "('Guangzhou',)\n",
      "('Delhi',)\n",
      "('Lagos',)\n",
      "('Moscow',)\n",
      "('Shenzhen',)\n",
      "('Seoul',)\n",
      "('São Paulo',)\n",
      "('Jakarta',)\n",
      "('Kinshasa',)\n",
      "('Mexico City',)\n",
      "('Tokyo',)\n",
      "('New York City',)\n",
      "('Dongguan',)\n",
      "('Cairo',)\n",
      "('Lima',)\n",
      "('London',)\n",
      "('Nanjing',)\n",
      "('Tehran',)\n",
      "('Nanchong',)\n",
      "('Hong Kong',)\n",
      "('Lahore',)\n",
      "('Bogotá',)\n",
      "('Dhaka',)\n",
      "('Hanoi',)\n",
      "('Rio de Janeiro',)\n",
      "('Shenyang',)\n",
      "('Hangzhou',)\n",
      "('Ho Chi Minh City',)\n"
     ]
    }
   ],
   "source": [
    "connection = psycopg2.connect(database = database, \n",
    "                              user = user, \n",
    "                              host = 'pgsql.dsa.lan',\n",
    "                              password = password)\n",
    "\n",
    "with connection, connection.cursor() as cursor:\n",
    "    # Update the CHANGE ME string to SQL\n",
    "    cursor.execute(\"SELECT city FROM cities WHERE population > 6000000\")\n",
    "    results = cursor.fetchall()\n",
    "\n",
    "for row in results:\n",
    "    print(row)\n",
    "\n",
    "connection.close()"
   ]
  },
  {
   "cell_type": "markdown",
   "metadata": {},
   "source": [
    "# Save your Notebook, then `File > Close and Halt`"
   ]
  },
  {
   "cell_type": "markdown",
   "metadata": {},
   "source": [
    "---"
   ]
  }
 ],
 "metadata": {
  "kernelspec": {
   "display_name": "Python 3",
   "language": "python",
   "name": "python3"
  },
  "language_info": {
   "codemirror_mode": {
    "name": "ipython",
    "version": 3
   },
   "file_extension": ".py",
   "mimetype": "text/x-python",
   "name": "python",
   "nbconvert_exporter": "python",
   "pygments_lexer": "ipython3",
   "version": "3.7.3"
  }
 },
 "nbformat": 4,
 "nbformat_minor": 1
}
