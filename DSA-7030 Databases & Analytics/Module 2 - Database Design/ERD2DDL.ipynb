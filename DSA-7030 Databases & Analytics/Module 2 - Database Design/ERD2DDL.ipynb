{
 "cells": [
  {
   "cell_type": "markdown",
   "metadata": {},
   "source": [
    "# Converting an ERD to DDL"
   ]
  },
  {
   "cell_type": "markdown",
   "metadata": {},
   "source": [
    "Converting an Entity relational diagram into a Data Definition Language. \n",
    "\n",
    "***Data Definition Language (DDL)*** is a standard for commands that define the different structures in a database. DDL statements create, modify, and remove database objects such as tables, indexes, and users. Common DDL statements are CREATE, ALTER, and DROP\n",
    "\n",
    "This practice will take the ERD diagram below and create the tables within our database.\n",
    "![erd](../images/ERD.jpg)"
   ]
  },
  {
   "cell_type": "markdown",
   "metadata": {},
   "source": [
    "## Order of creation\n",
    "\n",
    "One of the important things to consider when constructing SQL Data Definition Language script files is the order of creation.\n",
    "\n",
    "Before a foreign key can be designated, the table and key that it will refer to must exist within the database."
   ]
  },
  {
   "cell_type": "markdown",
   "metadata": {},
   "source": [
    "Based on the ERD above, we see that Course, Student, and Instructor do not have a foreign key and therefore can be defined first.\n",
    "\n",
    "```SQL\n",
    "CREATE TABLE Student (\n",
    "    StudentID INT NOT NULL,\n",
    "    LastName VARHCAR(50) NOT NULL,\n",
    "    FirstName VARCHAR(50) NOT NULL,\n",
    "    PRIMARY KEY (StudentID)\n",
    ");\n",
    "\n",
    "CREATE TABLE Instructor (\n",
    "    InstructorID INT NOT NULL,\n",
    "    LastName VARHCAR(50) NOT NULL,\n",
    "    FirstName VARCHAR(50) NOT NULL,\n",
    "    PRIMARY KEY (InstructorID)\n",
    ");\n",
    "\n",
    "CREATE TABLE Course (\n",
    "    Number CHAR(8) NOT NULL,\n",
    "    Title VARHCAR(100) NOT NULL,\n",
    "    Synopsis TEXT NOT NULL,\n",
    "    PRIMARY KEY (Number)\n",
    ");\n",
    "\n",
    "\n",
    "```"
   ]
  },
  {
   "cell_type": "markdown",
   "metadata": {},
   "source": [
    "Since the Enrollment table stores a ClassID, it will have to be built after Class.\n",
    "\n",
    "NOTE: These tables require foreign key references for referential integrity.\n",
    "\n",
    "```SQL\n",
    "CREATE TABLE Class (\n",
    "    ClassID INT NOT NULL,\n",
    "    Number CHAR(8) NOT NULL,\n",
    "    InstructorID INT NOT NULL,\n",
    "    DateStarted DATE,\n",
    "    DateEnded DATE,\n",
    "    PRIMARY KEY (ClassID),    \n",
    "    FOREIGN KEY (Number)\n",
    "      REFERENCES Course(Number),\n",
    "    FOREIGN KEY (InstructorID)\n",
    "      REFERENCES Instructor(InstructorID)\n",
    ");\n",
    "\n",
    "CREATE TABLE Enrollment (\n",
    "    ClassID INT NOT NULL,\n",
    "    StudentID INT NOT NULL,\n",
    "    PRIMARY KEY (ClassID,StudentID),\n",
    "    FOREIGN KEY (ClassID)\n",
    "      REFERENCES Class(ClassID),\n",
    "    FOREIGN KEY (StudentID)\n",
    "      REFERENCES Student(StudentID)\n",
    "\n",
    ");\n",
    "```"
   ]
  },
  {
   "cell_type": "markdown",
   "metadata": {},
   "source": [
    "## Use terminal to access your personal schema in `dsa_students` \n",
    "\n",
    "For each SQL statement below, <span style='background:yellow'>replace SSO</span> with your actual SSO ID.\n",
    "\n",
    "Copy and paste these create table statements one at a time into the terminal with your open database connection. \n",
    "Review for errors, resolve, then explore the created table using the `\\d table_name_here` command.\n"
   ]
  },
  {
   "cell_type": "raw",
   "metadata": {},
   "source": [
    "\n",
    "CREATE TABLE jch5x8.Student (\n",
    "    StudentID INT NOT NULL,\n",
    "    LastName VARCHAR(50) NOT NULL,\n",
    "    FirstName VARCHAR(50) NOT NULL,\n",
    "    PRIMARY KEY (StudentID)\n",
    ");\n",
    "\n",
    "CREATE TABLE jch5x8.Instructor (\n",
    "    InstructorID INT NOT NULL,\n",
    "    LastName VARCHAR(50) NOT NULL,\n",
    "    FirstName VARCHAR(50) NOT NULL,\n",
    "    PRIMARY KEY (InstructorID)\n",
    ");\n",
    "\n",
    "CREATE TABLE jch5x8.Course (\n",
    "    Number CHAR(8) NOT NULL,\n",
    "    Title VARCHAR(100) NOT NULL,\n",
    "    Synopsis TEXT NOT NULL,\n",
    "    PRIMARY KEY (Number)\n",
    ");"
   ]
  },
  {
   "cell_type": "markdown",
   "metadata": {},
   "source": [
    "### The next two tables link the Students, Courses, and Instructors. Pay careful attention to use of `FOREIGN KEY` statements that are linking tables."
   ]
  },
  {
   "cell_type": "raw",
   "metadata": {},
   "source": [
    "\n",
    "CREATE TABLE jch5x8.Class (\n",
    "    ClassID INT NOT NULL,\n",
    "    Number CHAR(8) NOT NULL,\n",
    "    InstructorID INT NOT NULL,\n",
    "    DateStarted DATE,\n",
    "    DateEnded DATE,\n",
    "    PRIMARY KEY (ClassID),\n",
    "    FOREIGN KEY (Number)\n",
    "      REFERENCES Course(Number),\n",
    "    FOREIGN KEY (InstructorID)\n",
    "      REFERENCES Instructor(InstructorID)\n",
    ");\n",
    "\n",
    "CREATE TABLE jch5x8.Enrollment (\n",
    "    ClassID INT NOT NULL,\n",
    "    StudentID INT NOT NULL,\n",
    "    PRIMARY KEY (ClassID,StudentID),\n",
    "    FOREIGN KEY (ClassID)\n",
    "      REFERENCES Class(ClassID),\n",
    "    FOREIGN KEY (StudentID)\n",
    "      REFERENCES Student(StudentID)\n",
    "\n",
    ");\n"
   ]
  },
  {
   "cell_type": "markdown",
   "metadata": {},
   "source": [
    "## <span style=\"background:yellow\">Your Turn</span>\n",
    "\n",
    "**Activity 1** -  Write a create table statement for a 'CourseGrade' table that would hold a student number, class number, and the grade they received.\n",
    "Ensure you have proper foreign keys!\n",
    "\n",
    "Once you have the SQL ready, paste it into the terminal with your open database connection and resolve any errors until you have created the table.\n"
   ]
  },
  {
   "cell_type": "raw",
   "metadata": {},
   "source": [
    "CREATE TABLE jch5x8.CourseGrade (\n",
    "    StudentID INT NOT NULL,\n",
    "    ClassID INT NOT NULL,\n",
    "    Grade VARCHAR(2),\n",
    "    PRIMARY KEY (StudentID, ClassID),\n",
    "    FOREIGN KEY (ClassID)\n",
    "      REFERENCES Class(ClassID),\n",
    "    FOREIGN KEY (StudentID)\n",
    "      REFERENCES Student(StudentID)\n",
    "\n",
    ");"
   ]
  },
  {
   "cell_type": "markdown",
   "metadata": {},
   "source": [
    "**Activity 1 - Describe**:  Run the describe, `\\d table_name_here`, then paste the output below."
   ]
  },
  {
   "cell_type": "raw",
   "metadata": {},
   "source": [
    "                    Table \"jch5x8.coursegrade\"\n",
    "  Column   |         Type         | Collation | Nullable | Default\n",
    "-----------+----------------------+-----------+----------+---------\n",
    " studentid | integer              |           | not null |\n",
    " classid   | integer              |           | not null |\n",
    " grade     | character varying(2) |           |          |\n",
    "Indexes:\n",
    "    \"coursegrade_pkey\" PRIMARY KEY, btree (studentid, classid)\n",
    "Foreign-key constraints:\n",
    "    \"coursegrade_classid_fkey\" FOREIGN KEY (classid) REFERENCES class(classid)\n",
    "    \"coursegrade_studentid_fkey\" FOREIGN KEY (studentid) REFERENCES student(studentid)"
   ]
  },
  {
   "cell_type": "markdown",
   "metadata": {},
   "source": [
    "**Activity 2** - Write a create table statement for a 'StudentInfo' table that would hold the student id and other relevant information like address, phone number, and date of birth.\n",
    "Ensure you have proper foreign keys!\n",
    "\n",
    "Once you have the SQL ready, paste it into the terminal with your open database connection and resolve any errors until you have created the table."
   ]
  },
  {
   "cell_type": "raw",
   "metadata": {},
   "source": [
    "CREATE TABLE jch5x8.StudentInfo (\n",
    "    StudentID INT NOT NULL,\n",
    "    FirstName VARCHAR(50),\n",
    "    MiddleName VARCHAR(50),\n",
    "    LastName VARCHAR(50),\n",
    "    Gender VARCHAR(20),\n",
    "    Address VARCHAR(50),\n",
    "    City VARCHAR(50),\n",
    "    State VARCHAR(50),\n",
    "    ZipCode INT,\n",
    "    PhoneNumber INT,\n",
    "    PRIMARY KEY (StudentID),\n",
    "    FOREIGN KEY (StudentID)\n",
    "      REFERENCES Student(StudentID)\n",
    "\n",
    ");"
   ]
  },
  {
   "cell_type": "markdown",
   "metadata": {},
   "source": [
    "**Activity 2 - Describe**:  Run the describe, `\\d table_name_here`, then paste the output below."
   ]
  },
  {
   "cell_type": "raw",
   "metadata": {},
   "source": [
    "                      Table \"jch5x8.studentinfo\"\n",
    "   Column    |         Type          | Collation | Nullable | Default\n",
    "-------------+-----------------------+-----------+----------+---------\n",
    " studentid   | integer               |           | not null |\n",
    " firstname   | character varying(50) |           |          |\n",
    " middlename  | character varying(50) |           |          |\n",
    " lastname    | character varying(50) |           |          |\n",
    " gender      | character varying(20) |           |          |\n",
    " address     | character varying(50) |           |          |\n",
    " city        | character varying(50) |           |          |\n",
    " state       | character varying(50) |           |          |\n",
    " zipcode     | integer               |           |          |\n",
    " phonenumber | integer               |           |          |\n",
    "Indexes:\n",
    "    \"studentinfo_pkey\" PRIMARY KEY, btree (studentid)\n",
    "Foreign-key constraints:\n",
    "    \"studentinfo_studentid_fkey\" FOREIGN KEY (studentid) REFERENCES student(studentid)"
   ]
  },
  {
   "cell_type": "markdown",
   "metadata": {},
   "source": [
    "# Save your notebook, then `File > Close and Halt`"
   ]
  }
 ],
 "metadata": {
  "kernelspec": {
   "display_name": "Python 3",
   "language": "python",
   "name": "python3"
  },
  "language_info": {
   "codemirror_mode": {
    "name": "ipython",
    "version": 3
   },
   "file_extension": ".py",
   "mimetype": "text/x-python",
   "name": "python",
   "nbconvert_exporter": "python",
   "pygments_lexer": "ipython3",
   "version": "3.7.3"
  }
 },
 "nbformat": 4,
 "nbformat_minor": 1
}
