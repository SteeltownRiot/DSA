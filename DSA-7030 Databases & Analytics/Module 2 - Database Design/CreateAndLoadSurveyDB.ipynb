{
 "cells": [
  {
   "cell_type": "markdown",
   "metadata": {},
   "source": [
    "# Creating and Loading Survey Data"
   ]
  },
  {
   "cell_type": "markdown",
   "metadata": {},
   "source": [
    "## 1. Review File\n",
    "\n",
    " [survey.db.sql](./survey.db.sql)\n",
    " \n",
    " #### Edit file to add your pawprint in front to configure the schema.\n",
    " 1. Use the folder view of Jupyter to navigate to module2/exercises\n",
    " 2. Click to open the file.\n",
    " 3. Use the file menu to save the file."
   ]
  },
  {
   "cell_type": "markdown",
   "metadata": {},
   "source": [
    "\n",
    "## 2. Use terminal to access your personal schema in `dsa_student` to run the file\n",
    "\n",
    "#### Hints:\n",
    "1. Use the *change directory*, `cd`, command to navigate to this folder in Jupyter Terminal\n",
    "2. Connect to the database\n",
    "3. \"Run the SQL file\""
   ]
  },
  {
   "cell_type": "markdown",
   "metadata": {},
   "source": [
    "## 3. Copy in the terminal output / results from running the file"
   ]
  },
  {
   "cell_type": "raw",
   "metadata": {},
   "source": [
    "#################################################\n",
    "## Paste output from Task #3 Below this comment ## \n",
    "#################################################\n",
    "dsa_student=> \\i survey.db.sql\n",
    "BEGIN\n",
    "CREATE TABLE\n",
    "INSERT 0 1\n",
    "INSERT 0 1\n",
    "INSERT 0 1\n",
    "INSERT 0 1\n",
    "INSERT 0 1\n",
    "CREATE TABLE\n",
    "INSERT 0 1\n",
    "INSERT 0 1\n",
    "INSERT 0 1\n",
    "CREATE TABLE\n",
    "INSERT 0 1\n",
    "INSERT 0 1\n",
    "INSERT 0 1\n",
    "INSERT 0 1\n",
    "INSERT 0 1\n",
    "INSERT 0 1\n",
    "INSERT 0 1\n",
    "INSERT 0 1\n",
    "CREATE TABLE\n",
    "INSERT 0 1\n",
    "INSERT 0 1\n",
    "INSERT 0 1\n",
    "INSERT 0 1\n",
    "INSERT 0 1\n",
    "INSERT 0 1\n",
    "INSERT 0 1\n",
    "INSERT 0 1\n",
    "INSERT 0 1\n",
    "INSERT 0 1\n",
    "INSERT 0 1\n",
    "INSERT 0 1\n",
    "INSERT 0 1\n",
    "INSERT 0 1\n",
    "INSERT 0 1\n",
    "INSERT 0 1\n",
    "INSERT 0 1\n",
    "INSERT 0 1\n",
    "INSERT 0 1\n",
    "INSERT 0 1\n",
    "INSERT 0 1\n",
    "COMMIT"
   ]
  },
  {
   "cell_type": "markdown",
   "metadata": {},
   "source": [
    "## 4. Describe the tables using PostgreSQL commands and paste the output below."
   ]
  },
  {
   "cell_type": "raw",
   "metadata": {},
   "source": [
    "#################################################\n",
    "## Paste output from Task #4 Below this comment ## \n",
    "#################################################\n",
    "dsa_student-> \\dt+\n",
    "                           List of relations\n",
    " Schema |      Name       | Type  |  Owner   |    Size    | Description\n",
    "--------+-----------------+-------+----------+------------+-------------\n",
    " jch5x8 | album           | table | jch5x8   | 0 bytes    |\n",
    " jch5x8 | artist          | table | jch5x8   | 0 bytes    |\n",
    " jch5x8 | class           | table | jch5x8   | 0 bytes    |\n",
    " jch5x8 | course          | table | jch5x8   | 8192 bytes |\n",
    " jch5x8 | coursegrade     | table | jch5x8   | 0 bytes    |\n",
    " jch5x8 | enrollment      | table | jch5x8   | 0 bytes    |\n",
    " jch5x8 | genre           | table | jch5x8   | 0 bytes    |\n",
    " jch5x8 | instructor      | table | jch5x8   | 0 bytes    |\n",
    " jch5x8 | person          | table | jch5x8   | 16 kB      |\n",
    " jch5x8 | site            | table | jch5x8   | 16 kB      |\n",
    " jch5x8 | song            | table | jch5x8   | 0 bytes    |\n",
    " jch5x8 | student         | table | jch5x8   | 0 bytes    |\n",
    " jch5x8 | studentinfo     | table | jch5x8   | 0 bytes    |\n",
    " jch5x8 | survey          | table | jch5x8   | 16 kB      |\n",
    " jch5x8 | visited         | table | jch5x8   | 16 kB      |\n",
    " jch5x8 | whoami          | table | jch5x8   | 8192 bytes |\n",
    " public | nyc_roads       | table | scottgs  | 34 MB      |\n",
    " public | spatial_ref_sys | table | postgres | 4616 kB    |\n",
    "(18 rows)\n",
    "\n",
    "dsa_student-> \\dt+ Person\n",
    "                   List of relations\n",
    " Schema |  Name  | Type  | Owner  | Size  | Description\n",
    "--------+--------+-------+--------+-------+-------------\n",
    " jch5x8 | person | table | jch5x8 | 16 kB |\n",
    "(1 row)\n",
    "\n",
    "dsa_student-> \\dt+ Site\n",
    "                  List of relations\n",
    " Schema | Name | Type  | Owner  | Size  | Description\n",
    "--------+------+-------+--------+-------+-------------\n",
    " jch5x8 | site | table | jch5x8 | 16 kB |\n",
    "(1 row)\n",
    "\n",
    "dsa_student-> \\dt+ Visited\n",
    "                    List of relations\n",
    " Schema |  Name   | Type  | Owner  | Size  | Description\n",
    "--------+---------+-------+--------+-------+-------------\n",
    " jch5x8 | visited | table | jch5x8 | 16 kB |\n",
    "(1 row)\n",
    "\n",
    "dsa_student-> \\dt+ Survey\n",
    "                   List of relations\n",
    " Schema |  Name  | Type  | Owner  | Size  | Description\n",
    "--------+--------+-------+--------+-------+-------------\n",
    " jch5x8 | survey | table | jch5x8 | 16 kB |\n",
    "(1 row)"
   ]
  },
  {
   "cell_type": "markdown",
   "metadata": {},
   "source": [
    "# 5. Write / Copy one of the queries from the prior module related to this data, adapted to this database and the schema-specified table names.\n",
    "\n",
    "### Paste the Query and the Reset in the two cells below."
   ]
  },
  {
   "cell_type": "raw",
   "metadata": {},
   "source": [
    "#################################################\n",
    "## Paste Query for Task #5 Below this comment  ## \n",
    "#################################################\n",
    "dsa_student=> SELECT person, reading FROM jch5x8.Survey WHERE quant = 'rad' ORDERBY person, reading DESC;"
   ]
  },
  {
   "cell_type": "raw",
   "metadata": {},
   "source": [
    "#################################################\n",
    "## Paste Result for Task #5 Below this comment ## \n",
    "#################################################\n",
    " person | reading\n",
    "--------+---------\n",
    " dyer   |    9.82\n",
    " dyer   |     7.8\n",
    " lake   |    2.19\n",
    " lake   |    1.46\n",
    " pb     |    8.41\n",
    " pb     |    7.22\n",
    " pb     |    4.35\n",
    " roe    |   11.25\n",
    "(8 rows)"
   ]
  },
  {
   "cell_type": "markdown",
   "metadata": {},
   "source": [
    "----\n",
    "# Save your notebook, then `File > Close and Halt`"
   ]
  }
 ],
 "metadata": {
  "kernelspec": {
   "display_name": "Python 3",
   "language": "python",
   "name": "python3"
  },
  "language_info": {
   "codemirror_mode": {
    "name": "ipython",
    "version": 3
   },
   "file_extension": ".py",
   "mimetype": "text/x-python",
   "name": "python",
   "nbconvert_exporter": "python",
   "pygments_lexer": "ipython3",
   "version": "3.7.3"
  }
 },
 "nbformat": 4,
 "nbformat_minor": 2
}
