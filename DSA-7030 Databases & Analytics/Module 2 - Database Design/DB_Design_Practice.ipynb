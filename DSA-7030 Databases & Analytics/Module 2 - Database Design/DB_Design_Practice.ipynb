{
 "cells": [
  {
   "cell_type": "markdown",
   "metadata": {},
   "source": [
    "# User Requirements to ERD\n",
    "\n",
    "For this practice consider the following scenario.\n",
    "\n",
    "<span style='font-size:1.2em'>United Helpers is a nonprofit organization that provides aid to people after natural disasters. </span>\n",
    "\n",
    " * <span style='font-size:1.2em'>Individuals volunteer their time to carry out the tasks of the organization.  For each volunteer, their name, address, and telephone number are tracked.  Each volunteer may be assigned to several tasks during the time that they are doing volunteer work, and some tasks require many volunteers.  It is possible for a volunteer to be in the system without having been assigned a task yet.  It is possible to have tasks that no one has been assigned.  When a volunteer is assigned to a task, the system should track the start time and end time of that assignment.</span>\n",
    "    \n",
    "    \n",
    " * <span style='font-size:1.2em'>For each task, there is a task code, task description, task type, and a task status.  For example, there may be a task with task code “101,” description of “answer the telephone,” a type of “recurring,” and a status of “ongoing.”  There could be another task with a code of “102,” description of “prepare 5000 packages of basic medical supplies,” a type of “packing,” and a status of “open.”</span>\n",
    "    \n",
    "    \n",
    " * <span style='font-size:1.2em'>For all tasks of type “packing,” there is a packing list that specifies the contents of the packages.  There are many different packing lists to produce different packages, such as basic medical packages, child care packages, food packages, etc.  Each packing list has a packing list ID number, packing list name, and a packing list description, which describes the items that ideally go into making that type of package.  Every packing task is associated with only one packing list.  A packing list may not be associated with any tasks, or may be associated with many tasks.  Tasks that are not packing tasks are not associated with any packing list.</span>\n",
    "\n",
    "\n",
    " * <span style='font-size:1.2em'>Packing tasks result in the creation of packages.  Each individual package of supplies that is produced by the organization is tracked.  Each package is assigned an ID number.  The date the package was created, and total weight of the package is recorded.  A given package is associated with only one task.  Some tasks (e.g., “answer the phones”) will not have produced any packages, while other tasks (e.g., “prepare 5000 packages of basic medical supplies”) will be associated with many packages.</span>\n",
    "\n",
    "\n",
    " * <span style='font-size:1.2em'>The packing list describes the ideal contents of each package, but it is not always possible to include the ideal number of each item.  Therefore, the actual items included in each package should be tracked.  A package can contain many different items, and a given item can be used in many different packages.</span>\n",
    "\n",
    "\n",
    " * <span style='font-size:1.2em'>For each item that the organization provides, there is an item ID number, item description, item value, and item quantity on hand stored in the system.  Along with tracking the actual items that are placed in each package, the quantity of each item placed in the package must be tracked too.  For example, a packing list may state that basic medical packages should include 100 bandages, 4 bottles of iodine, and 4 bottles of hydrogen peroxide.  However, because of the limited supply of items, a given package may include only 10 bandages, 1 bottle of iodine, and no hydrogen peroxide. The fact that this package includes bandages and iodine needs to be recorded along with the quantity of each that is included.  It is possible for the organization to have items donated that have not been included in any package yet, but every package will contain at least one item.</span>"
   ]
  },
  {
   "cell_type": "markdown",
   "metadata": {},
   "source": [
    "### Tip\n",
    "- Read the entire scenario and then break each bullet point down to sentence level or smaller to start extracting your entities and attributes. \n"
   ]
  },
  {
   "cell_type": "markdown",
   "metadata": {},
   "source": [
    "### Entity Identification\n",
    "\n",
    "In the cell below: what are the entities that you can conceptualize?"
   ]
  },
  {
   "cell_type": "raw",
   "metadata": {},
   "source": [
    "# List your entities ideas below:\n",
    "# -------------------------------\n",
    "Volunteer\n",
    "\n",
    "TaskTime\n",
    "\t\n",
    "Tasks\n",
    "\t\n",
    "Package\n",
    "\n",
    "PackingList\n",
    "\n",
    "Inventory"
   ]
  },
  {
   "cell_type": "markdown",
   "metadata": {},
   "source": [
    "### Attribute Identification \n",
    "In the cell below: what are the attributes for each of the entities that you can conceptualize?"
   ]
  },
  {
   "cell_type": "raw",
   "metadata": {},
   "source": [
    "# List your entities and thier attributes ideas below:\n",
    "# -------------------------------\n",
    "Volunteer\n",
    "\tvolunteer_id\n",
    "\tfirst_name\n",
    "\tlast_name\n",
    "\taddress_line_1\n",
    "\taddress_line_2\n",
    "\tcity\n",
    "\tstate\n",
    "\tzip\n",
    "    phone_number\n",
    "\n",
    "TaskTime\n",
    "\tvolunteer_id\n",
    "\ttask_id\n",
    "\tstart_time\n",
    "\tend_time\n",
    "\t\n",
    "Tasks\n",
    "\ttask_id\n",
    "\ttask_description\n",
    "\ttask_type\n",
    "\ttask_status\n",
    "\t\n",
    "Package\n",
    "\tpackage_id\n",
    "\tdate_created\n",
    "\tweight\n",
    "\ttask_id\n",
    "\n",
    "PackingList\n",
    "\tpackage_id\n",
    "\titem_id\n",
    "\tquantity\n",
    "\t\n",
    "Inventory\n",
    "\titem_id\n",
    "\titem_description\n",
    "\titem_value\n",
    "    item_quantity"
   ]
  },
  {
   "cell_type": "markdown",
   "metadata": {},
   "source": [
    "---\n",
    "\n",
    "**Please keep in mind that database design takes practice and is very subjective!**\n",
    "\n",
    "Everyone is going to come up with different answers and this is ok. The practice is just for that purpose to practice! \n",
    "\n",
    "\n",
    "# Save your notebook, then `File > Close and Halt`"
   ]
  },
  {
   "cell_type": "markdown",
   "metadata": {},
   "source": [
    "---"
   ]
  }
 ],
 "metadata": {
  "kernelspec": {
   "display_name": "Python 3",
   "language": "python",
   "name": "python3"
  },
  "language_info": {
   "codemirror_mode": {
    "name": "ipython",
    "version": 3
   },
   "file_extension": ".py",
   "mimetype": "text/x-python",
   "name": "python",
   "nbconvert_exporter": "python",
   "pygments_lexer": "ipython3",
   "version": "3.7.3"
  }
 },
 "nbformat": 4,
 "nbformat_minor": 2
}
