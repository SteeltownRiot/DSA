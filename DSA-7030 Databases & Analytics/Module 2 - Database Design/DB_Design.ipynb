{
 "cells": [
  {
   "cell_type": "markdown",
   "metadata": {},
   "source": [
    "# Database Design "
   ]
  },
  {
   "cell_type": "markdown",
   "metadata": {},
   "source": [
    "# You are designing a system to track shopping habits in a _Smart Store_.\n",
    "\n",
    "You are (hopefully) familiar with the online shopping experience and the concept of an online shopping cart.\n",
    "Now imagine a physical store can capture shopper behavior in a similar fashion.\n",
    "\n",
    "Your analysis of the use case for a database has identified the following Entities and their associated attributes.\n",
    "\n"
   ]
  },
  {
   "cell_type": "markdown",
   "metadata": {},
   "source": [
    "### orders :\n",
    "* `order_id`: order identifier\n",
    "* `user_id`: customer identifier\n",
    "* `eval_set`: which evaluation set this order belongs in (see `SET` described below)\n",
    "* `order_number`: the order sequence number for this user (1 = first, n = nth)\n",
    "* `order_dow`: the day of the week the order was placed on\n",
    "* `order_hour_of_day`: the hour of the day the order was placed on\n",
    "* `days_since_prior`: days since the last order, capped at 30 (with NAs for `order_number` = 1)\n",
    "\n",
    "### products :\n",
    "* `product_id`: product identifier\n",
    "* `product_name`: name of the product\n",
    "* `aisle_id`: foreign key\n",
    "* `department_id`: foreign key\n",
    "\n",
    "### aisles :\n",
    "* `aisle_id`: aisle identifier\n",
    "* `aisle`: the name of the aisle\n",
    "\n",
    "### deptartments :\n",
    "* `department_id`: department identifier\n",
    "* `department`: the name of the department\n",
    "\n",
    "### order_products :\n",
    "* `order_id`: foreign key\n",
    "* `product_id`: foreign key\n",
    "* `add_to_cart_order`: order in which each product was added to cart\n",
    "* `reordered`: 1 if this product has been ordered by this user in the past, 0 otherwise\n",
    "\n",
    "\n",
    "#### where SET is one of the four following evaluation sets (eval_set in orders):\n",
    "\n",
    "* \"prior\": orders prior to that users most recent order (~3.2m orders)\n",
    "* \"train\": training data supplied to participants (~131k orders)\n",
    "* \"test\": test data reserved for machine learning competitions (~75k orders)"
   ]
  },
  {
   "cell_type": "markdown",
   "metadata": {
    "collapsed": true
   },
   "source": [
    "\n",
    " 1. Convert the above Entities and attributes into an ERD model.\n",
    "    * Any application is acceptable, just to capture a screen shot or an **image**. \n",
    "    * You can also hand draw it and take a picture.\n",
    " 1. Upload the image to the /module2/exercises/` folder. \n",
    " 1. In the markdown cell below, double click and put the name of the image file within the `()`.\n",
    "   * Example: Change \n",
    "   \n",
    "     `![ERD MISSING]()`  \n",
    " to   \n",
    "     `![ERD MISSING](erd.jpg)`  "
   ]
  },
  {
   "cell_type": "markdown",
   "metadata": {
    "collapsed": true
   },
   "source": [
    " ![ERD MISSING](Smart_Store_ERD.png)"
   ]
  },
  {
   "cell_type": "markdown",
   "metadata": {},
   "source": [
    "# Save your notebook, then `File > Close and Halt`"
   ]
  },
  {
   "cell_type": "markdown",
   "metadata": {},
   "source": [
    "---"
   ]
  }
 ],
 "metadata": {
  "kernelspec": {
   "display_name": "Python 3",
   "language": "python",
   "name": "python3"
  },
  "language_info": {
   "codemirror_mode": {
    "name": "ipython",
    "version": 3
   },
   "file_extension": ".py",
   "mimetype": "text/x-python",
   "name": "python",
   "nbconvert_exporter": "python",
   "pygments_lexer": "ipython3",
   "version": "3.7.3"
  }
 },
 "nbformat": 4,
 "nbformat_minor": 2
}
