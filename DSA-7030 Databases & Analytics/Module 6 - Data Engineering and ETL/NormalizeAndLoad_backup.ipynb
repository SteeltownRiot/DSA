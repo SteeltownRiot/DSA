{
 "cells": [
  {
   "cell_type": "markdown",
   "metadata": {},
   "source": [
    "# Database / SQL Final Project\n",
    "\n",
    "This project will involve three related CSV files.\n",
    "  * [play_list_music.csv](./play_list_music.csv)\n",
    "  * [play_list_track_customers.csv](./play_list_track_customers.csv)\n",
    "  * [play_list_track_buy.csv](./play_list_track_buy.csv)\n",
    "\n",
    "\n",
    "Your task for this project is to build a SQLite database from these files, then perform some analytics.\n",
    "This project should be broken down into the following tasks:\n",
    "  1. Download and inspect the files.\n",
    "  1. Design a database that is **properly normalized**.\n",
    "  1. Implement your database design.\n",
    "  1. Load data from files into database.\n",
    "  1. Write some basic queries.\n",
    "\n",
    "All your code should be implemented in this notebook.\n",
    "Below the notebook is partitioned into markdown and code execution cells.\n",
    "\n",
    "In the cells below, connect to your database.\n",
    "Remember to update the SSO to your pawprint."
   ]
  },
  {
   "cell_type": "code",
   "execution_count": null,
   "metadata": {},
   "outputs": [],
   "source": [
    "import pandas as pd\n",
    "import getpass\n",
    "import psycopg2\n",
    "import numpy as np\n",
    "from psycopg2.extensions import adapt, register_adapter, AsIs\n",
    "# Magic adapters for the Numpy Fun of Pandas\n",
    "register_adapter(np.int64,AsIs)\n",
    "register_adapter(np.float64,AsIs)\n",
    "mypasswd = getpass.getpass()\n",
    "username = 'jch5x8'\n",
    "host = 'pgsql.dsa.lan'\n",
    "database = 'dsa_student'"
   ]
  },
  {
   "cell_type": "code",
   "execution_count": 1,
   "metadata": {},
   "outputs": [
    {
     "ename": "NameError",
     "evalue": "name 'mypasswd' is not defined",
     "output_type": "error",
     "traceback": [
      "\u001b[0;31m---------------------------------------------------------------------------\u001b[0m",
      "\u001b[0;31mNameError\u001b[0m                                 Traceback (most recent call last)",
      "\u001b[0;32m<ipython-input-1-f90a18ca6f65>\u001b[0m in \u001b[0;36m<module>\u001b[0;34m\u001b[0m\n\u001b[1;32m     14\u001b[0m \u001b[0;34m\u001b[0m\u001b[0m\n\u001b[1;32m     15\u001b[0m \u001b[0;31m# -------------- Add Content Above\u001b[0m\u001b[0;34m\u001b[0m\u001b[0;34m\u001b[0m\u001b[0;34m\u001b[0m\u001b[0m\n\u001b[0;32m---> 16\u001b[0;31m \u001b[0;32mdel\u001b[0m \u001b[0mmypasswd\u001b[0m\u001b[0;34m\u001b[0m\u001b[0;34m\u001b[0m\u001b[0m\n\u001b[0m",
      "\u001b[0;31mNameError\u001b[0m: name 'mypasswd' is not defined"
     ]
    }
   ],
   "source": [
    "# Then connects to the DB\n",
    "from sqlalchemy.engine.url import URL\n",
    "from sqlalchemy import create_engine\n",
    "\n",
    "# -------------- Add Content Below\n",
    "\n",
    "# SQLAlchemy Connection Parameters\n",
    "postgres_db = {'drivername': 'postgres',\n",
    "               'username': username,\n",
    "               'password': mypasswd,\n",
    "               'host': host,\n",
    "               'database' :database}\n",
    "\n",
    "# SQLAlchemy Engine\n",
    "engine = create_engine(URL(**postgres_db), echo = True)\n",
    "\n",
    "# init connection variable\n",
    "connection = None\n",
    "# using a try-except\n",
    "try:\n",
    "    connection = engine.connect()\n",
    "except Exception as err:\n",
    "    print(\"An error occurred trying to connect: {}\".format(err))\n",
    "    \n",
    "# -------------- Add Content Above\n",
    "del mypasswd"
   ]
  },
  {
   "cell_type": "markdown",
   "metadata": {},
   "source": [
    "# Design a database that is _properly normalized_.\n",
    "\n",
    "Note: You can expect up approximately ten (10) tables to be derived from three CSV files.\n",
    "\n",
    "There is no implementation cell, the output should be an ERD or sketch.\n",
    "\n",
    "Visit the course Canvas Site for Normalization videos. "
   ]
  },
  {
   "cell_type": "markdown",
   "metadata": {},
   "source": [
    "# Implement your database design.\n",
    "\n",
    "Use the cells below to add your `CREATE TABLE` statements.\n",
    "Add extra cells as necessary"
   ]
  },
  {
   "cell_type": "code",
   "execution_count": null,
   "metadata": {},
   "outputs": [],
   "source": [
    "DROP TABLE jch5x8.invoice_tracks, jch5x8.invoice_customers, jch5x8.playlist, jch5x8.track, jch5x8.album, jch5x8.customer, jch5x8.contact, jch5x8.city;\n",
    "\n",
    "DROP TABLE jch5x8.tracks, jch5x8.album, jch5x8.customer, jch5x8.contact, jch5x8.city;\n",
    "\n",
    "CREATE TABLE IF NOT EXISTS jch5x8.city(city_id INT PRIMARY KEY, city VARCHAR(50), locale VARCHAR(50), country VARCHAR(50));\n",
    "CREATE TABLE IF NOT EXISTS jch5x8.contact(contact_id INT PRIMARY KEY, address VARCHAR(150), city_id INT REFERENCES jch5x8.city ON DELETE SET NULL ON UPDATE CASCADE, postal_code VARCHAR(50), phone VARCHAR(50), fax VARCHAR(50), email VARCHAR(50));\n",
    "CREATE TABLE IF NOT EXISTS jch5x8.customer(customer_id INT PRIMARY KEY, first_name VARCHAR(50), last_name VARCHAR(50), company VARCHAR(50), contact_id INT REFERENCES jch5x8.contact ON DELETE SET NULL ON UPDATE CASCADE);\n",
    "CREATE TABLE IF NOT EXISTS jch5x8.album(album_id INT PRIMARY KEY, album VARCHAR(150), artist VARCHAR(150), genre VARCHAR(50));\n",
    "CREATE TABLE IF NOT EXISTS jch5x8.track(track_id INT PRIMARY KEY, album_id INT REFERENCES jch5x8.album ON DELETE SET NULL ON UPDATE CASCADE, song VARCHAR(150), media_type VARCHAR(50), bytes INT);\n",
    "CREATE TABLE IF NOT EXISTS jch5x8.playlist(track_playlist_id INT PRIMARY KEY, playlist VARCHAR(150), track_id INT REFERENCES jch5x8.track ON DELETE SET NULL ON UPDATE CASCADE);\n",
    "CREATE TABLE IF NOT EXISTS jch5x8.invoice_customers(invoice_id INT PRIMARY KEY, customer_id INT REFERENCES jch5x8.customer ON DELETE SET NULL ON UPDATE CASCADE);\n",
    "CREATE TABLE IF NOT EXISTS jch5x8.invoice_tracks(it_id INT PRIMARY KEY, invoice_id INT REFERENCES jch5x8.invoice_customers ON DELETE SET NULL ON UPDATE CASCADE, track_id INT REFERENCES jch5x8.track ON DELETE SET NULL ON UPDATE CASCADE, unit_price REAL);\n",
    "\n",
    "\n",
    "\n",
    "\n",
    "CREATE TABLE IF NOT EXISTS jch5x8.city(city_id SERIAL PRIMARY KEY, city VARCHAR(50), locale VARCHAR(50), country VARCHAR(50));\n",
    "CREATE TABLE IF NOT EXISTS jch5x8.contact(contact_id SERIAL PRIMARY KEY, address VARCHAR(150), city_id INT REFERENCES jch5x8.city ON DELETE SET NULL ON UPDATE CASCADE, postal_code VARCHAR(50), phone VARCHAR(50), fax VARCHAR(50), email VARCHAR(50), city VARCHAR(150), customer INT);\n",
    "CREATE TABLE IF NOT EXISTS jch5x8.customer(customer_id INT PRIMARY KEY, first_name VARCHAR(50), last_name VARCHAR(50), company VARCHAR(50), contact_id INT REFERENCES jch5x8.contact ON DELETE SET NULL ON UPDATE CASCADE);\n",
    "CREATE TABLE IF NOT EXISTS jch5x8.album(album_id SERIAL PRIMARY KEY, album VARCHAR(150), artist VARCHAR(150), genre VARCHAR(50), track INT);\n",
    "CREATE TABLE IF NOT EXISTS jch5x8.track(track_id INT, album_id INT REFERENCES jch5x8.album ON DELETE SET NULL ON UPDATE CASCADE, song VARCHAR(150), playlist VARCHAR(150), media_type VARCHAR(50), bytes INT, PRIMARY KEY(track_id, playlist));\n",
    "CREATE TABLE IF NOT EXISTS jch5x8.invoice(invoice_id INT PRIMARY KEY, customer_id INT REFERENCES jch5x8.customer ON DELETE SET NULL ON UPDATE CASCADE, unit_price REAL);\n",
    "CREATE TABLE IF NOT EXISTS jch5x8.invoice_track(invoice_id INT REFERENCES jch5x8.invoice ON DELETE SET NULL ON UPDATE CASCADE, track_id INT REFERENCES jch5x8.track ON DELETE SET NULL ON UPDATE CASCADE, PRIMARY KEY(invoice_id, track_id));\n",
    "\n",
    "\n",
    "\n",
    "\n",
    "DROP TABLE jch5x8.invoice_track, jch5x8.invoice, jch5x8.track, jch5x8.album, jch5x8.customer, jch5x8.contact, jch5x8.city;\n",
    "\n",
    "--CREATE TABLE IF NOT EXISTS jch5x8.invoice_track(invoice_id INT REFERENCES jch5x8.invoice ON DELETE SET NULL ON UPDATE CASCADE, track_id INT REFERENCES jch5x8.track ON DELETE SET NULL ON UPDATE CASCADE, PRIMARY KEY());\n"
   ]
  },
  {
   "cell_type": "code",
   "execution_count": null,
   "metadata": {},
   "outputs": [],
   "source": [
    "result = connection.execute(\"CREATE TABLE IF NOT EXISTS jch5x8.city(city_id SERIAL PRIMARY KEY, city VARCHAR(50), locale VARCHAR(50), country VARCHAR(50))\")\n",
    "result = connection.execute(\"CREATE TABLE IF NOT EXISTS jch5x8.contact(contact_id SERIAL PRIMARY KEY, address VARCHAR(150), city_id INT REFERENCES jch5x8.city ON DELETE SET NULL ON UPDATE CASCADE, postal_code VARCHAR(50), phone VARCHAR(50), fax VARCHAR(50), email VARCHAR(50), city VARCHAR(150), customer_id INT)\")\n",
    "result = connection.execute(\"CREATE TABLE IF NOT EXISTS jch5x8.customer(customer_id INT PRIMARY KEY, first_name VARCHAR(50), last_name VARCHAR(50), company VARCHAR(50), contact_id INT REFERENCES jch5x8.contact ON DELETE SET NULL ON UPDATE CASCADE)\")\n",
    "result = connection.execute(\"CREATE TABLE IF NOT EXISTS jch5x8.album(album_id SERIAL PRIMARY KEY, album VARCHAR(150), artist VARCHAR(150), genre VARCHAR(50), track_id INT)\")\n",
    "result = connection.execute(\"CREATE TABLE IF NOT EXISTS jch5x8.track(track_id SERIAL PRIMARY KEY, id INT, album_id INT REFERENCES jch5x8.album ON DELETE SET NULL ON UPDATE CASCADE, song VARCHAR(150), playlist VARCHAR(150), media_type VARCHAR(50), bytes INT)\")\n",
    "result = connection.execute(\"CREATE TABLE IF NOT EXISTS jch5x8.invoice(invoice_id INT, track_id INT REFERENCES jch5x8.track ON DELETE SET NULL ON UPDATE CASCADE, customer_id INT REFERENCES jch5x8.customer ON DELETE SET NULL ON UPDATE CASCADE, unit_price REAL, PRIMARY KEY(invoice_id, track_id))\")\n",
    "\n",
    "\n",
    "\n",
    "# init connection variable\n",
    "connection = None\n",
    "# using a try-except\n",
    "try:\n",
    "    connection = engine.connect()\n",
    "except Exception as err:\n",
    "    print(\"An error occurred trying to connect: {}\".format(err))\n",
    "    \n",
    "# Create the table\n",
    "result = connection.execute(\"CREATE TABLE IF NOT EXISTS jch5x8.invoice_track(invoice_id INT REFERENCES jch5x8.invoice ON DELETE SET NULL ON UPDATE CASCADE, track_id INT REFERENCES jch5x8.track ON DELETE SET NULL ON UPDATE CASCADE, unit_price REAL REFERENCES jch5x8.track ON DELETE SET NULL ON UPDATE CASCADE)\")\n",
    "\n",
    "connection.close()"
   ]
  },
  {
   "cell_type": "code",
   "execution_count": null,
   "metadata": {},
   "outputs": [],
   "source": [
    "col_list = [\"playlist_id\", \"track_id\", \"customer_id\", \"unit_price\"]\n",
    "playlist = pd.read_csv(\"playlist.csv\", usecols = col_list)\n",
    "playlist.head()\n",
    "\n",
    "playlist.to_sql('playlist',       # Table to load to\n",
    "            engine,               # Engine created above\n",
    "            schema = username,    # Schema where table lives\n",
    "            if_exists = 'append', # If table found, add data\n",
    "            index = False,        # Ignore data frame row index\n",
    "            chunksize = 50        # Load 50 records from data frame at a time\n",
    "        )"
   ]
  },
  {
   "cell_type": "code",
   "execution_count": null,
   "metadata": {},
   "outputs": [],
   "source": [
    "track['unit_price'] = track['unit_price'].fillna(0)"
   ]
  },
  {
   "cell_type": "code",
   "execution_count": null,
   "metadata": {},
   "outputs": [],
   "source": [
    "col_list = [\"id\", \"song\", \"playlist\", \"media_type\", \"bytes\"]\n",
    "track = pd.read_csv(\"track.csv\", usecols = col_list)\n",
    "# col_list2 = [\"track_id\", \"unit_price\"]\n",
    "# price = pd.read_csv(\"invoice.csv\", usecols = col_list2)\n",
    "# track = pd.merge(track, price, on=\"track_id\", how=\"left\")\n",
    "# track = track.drop('track_id', 1)\n",
    "# track['unit_price'] = track['unit_price'].fillna(0)"
   ]
  },
  {
   "cell_type": "code",
   "execution_count": null,
   "metadata": {},
   "outputs": [],
   "source": [
    "col_list = [\"it_id\", \"track_id\", \"customer_id\", \"unit_price\"]\n",
    "invoice_tracks = pd.read_csv(\"invoice_tracks.csv\", usecols = col_list)\n",
    "#invoice_tracks.head()\n",
    "\n",
    "invoice_tracks.to_sql('invoice_tracks',         # Table to load to\n",
    "            engine,               # Engine created above\n",
    "            schema = username,    # Schema where table lives\n",
    "            if_exists = 'append', # If table found, add data\n",
    "            index = False,        # Ignore data frame row index\n",
    "            chunksize = 50        # Load 50 records from data frame at a time\n",
    "        )"
   ]
  },
  {
   "cell_type": "markdown",
   "metadata": {},
   "source": [
    "# Load data from files into database.\n",
    "\n",
    "### Use Excel or Pandas to carve the provided CSV files above into the **set of appropriate files** you need to load into your database.\n",
    "   1. Example: Save File As *new_csv_name.csv*\n",
    "   1. Remove unneeded columns\n",
    "   1. Remove duplicate rows\n",
    "   1. Save File, Navigate in JupyterHub folder view (your first JupyterHub tab)\n",
    "   1. Upload file\n",
    "\n",
    "\n",
    "   1. Load the CSV into your database using Python.\n",
    "     \n",
    "\n",
    "\n"
   ]
  },
  {
   "cell_type": "code",
   "execution_count": null,
   "metadata": {
    "collapsed": true
   },
   "outputs": [],
   "source": [
    "col_list = [\"song\", \"media_type\", \"bytes\", \"track\"]\n",
    "track = pd.read_csv(\"songs.csv\", usecols = col_list)\n",
    "# col_list2 = [\"track_id\", \"unit_price\"]\n",
    "# price = pd.read_csv(\"invoice.csv\", usecols = col_list2)\n",
    "# track = pd.merge(track, price, on=\"track_id\", how=\"left\")\n",
    "# track = track.drop('track_id', 1)\n",
    "# track['unit_price'] = track['unit_price'].fillna(0)\n",
    "#track.head()\n",
    "\n",
    "track.to_sql('track',           # Table to load to\n",
    "            engine,               # Engine created above\n",
    "            schema = username,    # Schema where table lives\n",
    "            if_exists = 'append', # If table found, add data\n",
    "            index = False,        # Ignore data frame row index\n",
    "            chunksize = 50        # Load 50 records from data frame at a time\n",
    "        )"
   ]
  },
  {
   "cell_type": "markdown",
   "metadata": {
    "collapsed": true
   },
   "source": [
    "## Once Loaded\n",
    "  * Write SQL to show the `COUNT(*)` from each table loaded."
   ]
  },
  {
   "cell_type": "code",
   "execution_count": null,
   "metadata": {
    "collapsed": true
   },
   "outputs": [],
   "source": [
    "# # CLI\n",
    "# UPDATE contact \n",
    "# SET city_id = ci.city_id\n",
    "# FROM city ci\n",
    "# WHERE contact.city = ci.city;\n",
    "\n",
    "# UPDATE customer \n",
    "# SET contact_id = c.contact_id\n",
    "# FROM contact c\n",
    "# WHERE customer.customer_id = c.customer_id;\n",
    "\n",
    "# UPDATE track\n",
    "# SET album_id = a.album_id\n",
    "# FROM album a\n",
    "# WHERE track.track = a.track;\n",
    "\n",
    "# ALTER TABLE contact\n",
    "# DROP COLUMN city;\n",
    "\n",
    "# ALTER TABLE album\n",
    "# DROP COLUMN track;\n",
    "\n",
    "# ALTER TABLE track\n",
    "# DROP COLUMN track;"
   ]
  },
  {
   "cell_type": "code",
   "execution_count": null,
   "metadata": {},
   "outputs": [],
   "source": []
  },
  {
   "cell_type": "code",
   "execution_count": null,
   "metadata": {
    "collapsed": true
   },
   "outputs": [],
   "source": []
  },
  {
   "cell_type": "code",
   "execution_count": null,
   "metadata": {
    "collapsed": true
   },
   "outputs": [],
   "source": []
  },
  {
   "cell_type": "code",
   "execution_count": null,
   "metadata": {
    "collapsed": true
   },
   "outputs": [],
   "source": []
  },
  {
   "cell_type": "code",
   "execution_count": null,
   "metadata": {
    "collapsed": true
   },
   "outputs": [],
   "source": []
  },
  {
   "cell_type": "code",
   "execution_count": null,
   "metadata": {
    "collapsed": true
   },
   "outputs": [],
   "source": []
  },
  {
   "cell_type": "markdown",
   "metadata": {},
   "source": [
    "#  Write some basic queries.\n",
    "\n",
    "\n",
    "## List each artist and the average bytes per song."
   ]
  },
  {
   "cell_type": "code",
   "execution_count": null,
   "metadata": {
    "collapsed": true
   },
   "outputs": [],
   "source": [
    "# Create SQL query\n",
    "SQL = \"SELECT artist, AVG(bytes)::REAL AS \\\"Avg Bytes per Song\\\" \"\n",
    "SQL += \"FROM jch5x8.album a JOIN jch5x8.track t \"\n",
    "SQL += \"USING (album_id) \" \n",
    "SQL += \"GROUP BY artist;\"\n",
    "\n",
    "# Connect to db and run query\n",
    "with connection, connection.cursor() as cursor:\n",
    "    cursor.execute(SQL)\n",
    "    results = cursor.fetchall()\n",
    "\n",
    "print(\"\\nArtist, Avg. Bytes per Song\")\n",
    "# Display results\n",
    "for row in results:\n",
    "    print(row)"
   ]
  },
  {
   "cell_type": "markdown",
   "metadata": {},
   "source": [
    "## List average number of track per album for each artist."
   ]
  },
  {
   "cell_type": "code",
   "execution_count": null,
   "metadata": {
    "collapsed": true
   },
   "outputs": [],
   "source": [
    "# Create SQL query\n",
    "SQL = \"SELECT al.artist, AVG(album_count.tracks)::REAL AS \\\"Avg Tracks per Album\\\" \"\n",
    "SQL += \"FROM ( \"\n",
    "SQL += \"SELECT DISTINCT a.album_id, \"\n",
    "SQL += \"COUNT(t.track_id) OVER (PARTITION BY a.album) as tracks \"\n",
    "SQL += \"FROM jch5x8.track t, jch5x8.album a \"\n",
    "SQL += \"WHERE t.album_id = a.album_id) AS album_count, \"\n",
    "SQL += \"jch5x8.album al \"\n",
    "SQL += \"WHERE album_count.album_id = al.album_id \"\n",
    "SQL += \"GROUP BY al.artist;\"\n",
    "\n",
    "# Connect to db and run query\n",
    "with connection, connection.cursor() as cursor:\n",
    "    cursor.execute(SQL)\n",
    "    results = cursor.fetchall()\n",
    "\n",
    "print(\"\\nArtist, Avg. Tracks per Album\")\n",
    "# Display results\n",
    "for row in results:\n",
    "    print(row)"
   ]
  },
  {
   "cell_type": "markdown",
   "metadata": {},
   "source": [
    "## List the top five customers in terms of track purchased."
   ]
  },
  {
   "cell_type": "code",
   "execution_count": null,
   "metadata": {
    "collapsed": true
   },
   "outputs": [],
   "source": [
    " # Create SQL query\n",
    "## I originally just counted the number of tracks purchased, because that seems to be what is being asked.\n",
    "## I got dismayed, however, when they all seemed to have purchased 38 tracks. I double checked this in\n",
    "## Excel worrying I had done my carpentry incorrectly or written a bad query. Excel bore out that 38 tracks\n",
    "## was correct so since purchased was mentioned, I thought maybe what was really being asked was top five\n",
    "## based on how much customers spent.\n",
    "SQL = \"SELECT c.first_name, c.last_name, track_count.tracks, track_count.total_spent \"\n",
    "SQL += \"FROM jch5x8.customer c, ( \"\n",
    "SQL += \"SELECT ic.customer_id, COUNT(it.track_id) as tracks \"\n",
    "SQL += \", SUM(it.unit_price) as total_spent \"\n",
    "SQL += \"FROM jch5x8.invoice_customers ic, jch5x8.invoice_tracks it \"\n",
    "SQL += \"WHERE ic.invoice_id = it.invoice_id \"\n",
    "SQL += \"GROUP BY ic.customer_id \"\n",
    "SQL += \"ORDER BY total_spent DESC \"\n",
    "SQL += \"LIMIT 5) AS track_count \"\n",
    "SQL += \"WHERE c.customer_id = track_count.customer_id \"\n",
    "SQL += \"ORDER BY track_count.total_spent DESC;\"\n",
    "\n",
    "# Connect to db and run query\n",
    "with connection, connection.cursor() as cursor:\n",
    "    cursor.execute(SQL)\n",
    "    results = cursor.fetchall()\n",
    "\n",
    "print(\"\\nFirst Name, Last Name, Tracks Purchased, Total Spent\")\n",
    "# Display results,\n",
    "for row in results:\n",
    "    print(row)"
   ]
  },
  {
   "cell_type": "markdown",
   "metadata": {},
   "source": [
    "## List the top genre preference per customer."
   ]
  },
  {
   "cell_type": "code",
   "execution_count": null,
   "metadata": {
    "collapsed": true
   },
   "outputs": [],
   "source": [
    "# Create SQL query\n",
    "\n",
    "\n",
    "# Connect to db and run query\n",
    "with connection, connection.cursor() as cursor:\n",
    "    cursor.execute(SQL)\n",
    "    results = cursor.fetchall()\n",
    "\n",
    "print(\"\\nFirst Name, Last Name, Preferred Genre\")\n",
    "# Display results,\n",
    "for row in results:\n",
    "    print(row)"
   ]
  },
  {
   "cell_type": "markdown",
   "metadata": {},
   "source": [
    "# Save your notebook, then `File > Close and Halt`"
   ]
  }
 ],
 "metadata": {
  "kernelspec": {
   "display_name": "Python 3",
   "language": "python",
   "name": "python3"
  },
  "language_info": {
   "codemirror_mode": {
    "name": "ipython",
    "version": 3
   },
   "file_extension": ".py",
   "mimetype": "text/x-python",
   "name": "python",
   "nbconvert_exporter": "python",
   "pygments_lexer": "ipython3",
   "version": "3.7.3"
  }
 },
 "nbformat": 4,
 "nbformat_minor": 1
}
