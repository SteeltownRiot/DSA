{
 "cells": [
  {
   "cell_type": "markdown",
   "metadata": {},
   "source": [
    "# Database / SQL Final Project\n",
    "\n",
    "This project will involve three related CSV files.\n",
    "  * [play_list_music.csv](./play_list_music.csv)\n",
    "  * [play_list_track_customers.csv](./play_list_track_customers.csv)\n",
    "  * [play_list_track_buy.csv](./play_list_track_buy.csv)\n",
    "\n",
    "\n",
    "Your task for this project is to build a SQLite database from these files, then perform some analytics.\n",
    "This project should be broken down into the following tasks:\n",
    "  1. Download and inspect the files.\n",
    "  1. Design a database that is **properly normalized**.\n",
    "  1. Implement your database design.\n",
    "  1. Load data from files into database.\n",
    "  1. Write some basic queries.\n",
    "\n",
    "All your code should be implemented in this notebook.\n",
    "Below the notebook is partitioned into markdown and code execution cells.\n",
    "\n",
    "In the cells below, connect to your database.\n",
    "Remember to update the SSO to your pawprint."
   ]
  },
  {
   "cell_type": "code",
   "execution_count": 1,
   "metadata": {},
   "outputs": [
    {
     "name": "stdout",
     "output_type": "stream",
     "text": [
      "Type password then hit enter: ········\n"
     ]
    }
   ],
   "source": [
    "import pandas as pd\n",
    "import getpass\n",
    "import psycopg2\n",
    "import numpy as np\n",
    "from psycopg2.extensions import adapt, register_adapter, AsIs\n",
    "%load_ext sql\n",
    "# Magic adapters for the Numpy Fun of Pandas\n",
    "register_adapter(np.int64,AsIs)\n",
    "register_adapter(np.float64,AsIs)\n",
    "\n",
    "mypasswd = getpass.getpass(\"Type password then hit enter: \")\n",
    "username = 'jch5x8'\n",
    "host = 'pgsql.dsa.lan'\n",
    "database = 'dsa_student'"
   ]
  },
  {
   "cell_type": "code",
   "execution_count": 2,
   "metadata": {},
   "outputs": [],
   "source": [
    "# Then connects to the DB\n",
    "from sqlalchemy.engine.url import URL\n",
    "from sqlalchemy import create_engine\n",
    "\n",
    "# -------------- Add Content Below\n",
    "\n",
    "# SQLAlchemy Connection Parameters\n",
    "postgres_db = {'drivername': 'postgres',\n",
    "               'username': username,\n",
    "               'password': mypasswd,\n",
    "               'host': host,\n",
    "               'database' :database}\n",
    "\n",
    "# SQLAlchemy Engine\n",
    "engine = create_engine(URL(**postgres_db), echo = True)\n",
    "\n",
    "# -------------- Add Content Above\n",
    "del mypasswd"
   ]
  },
  {
   "cell_type": "markdown",
   "metadata": {},
   "source": [
    "# Design a database that is _properly normalized_.\n",
    "\n",
    "Note: You can expect up approximately ten (10) tables to be derived from three CSV files.\n",
    "\n",
    "There is no implementation cell, the output should be an ERD or sketch.\n",
    "\n",
    "Visit the course Canvas Site for Normalization videos. "
   ]
  },
  {
   "cell_type": "markdown",
   "metadata": {},
   "source": [
    "# Implement your database design.\n",
    "\n",
    "Use the cells below to add your `CREATE TABLE` statements.\n",
    "Add extra cells as necessary"
   ]
  },
  {
   "cell_type": "code",
   "execution_count": 13,
   "metadata": {},
   "outputs": [
    {
     "name": "stdout",
     "output_type": "stream",
     "text": [
      "2021-12-07 15:05:25,884 INFO sqlalchemy.engine.base.Engine select version()\n",
      "2021-12-07 15:05:25,885 INFO sqlalchemy.engine.base.Engine {}\n",
      "2021-12-07 15:05:25,887 INFO sqlalchemy.engine.base.Engine select current_schema()\n",
      "2021-12-07 15:05:25,888 INFO sqlalchemy.engine.base.Engine {}\n",
      "2021-12-07 15:05:25,890 INFO sqlalchemy.engine.base.Engine SELECT CAST('test plain returns' AS VARCHAR(60)) AS anon_1\n",
      "2021-12-07 15:05:25,890 INFO sqlalchemy.engine.base.Engine {}\n",
      "2021-12-07 15:05:25,892 INFO sqlalchemy.engine.base.Engine SELECT CAST('test unicode returns' AS VARCHAR(60)) AS anon_1\n",
      "2021-12-07 15:05:25,892 INFO sqlalchemy.engine.base.Engine {}\n",
      "2021-12-07 15:05:25,893 INFO sqlalchemy.engine.base.Engine show standard_conforming_strings\n",
      "2021-12-07 15:05:25,893 INFO sqlalchemy.engine.base.Engine {}\n",
      "2021-12-07 15:05:25,895 INFO sqlalchemy.engine.base.Engine CREATE TABLE IF NOT EXISTS jch5x8.city(city_id INT PRIMARY KEY, city VARCHAR(50), locale VARCHAR(50), country VARCHAR(50))\n",
      "2021-12-07 15:05:25,896 INFO sqlalchemy.engine.base.Engine {}\n",
      "2021-12-07 15:05:25,912 INFO sqlalchemy.engine.base.Engine COMMIT\n"
     ]
    }
   ],
   "source": [
    "# init connection variable\n",
    "connection = None\n",
    "# using a try-except\n",
    "try:\n",
    "    connection = engine.connect()\n",
    "except Exception as err:\n",
    "    print(\"An error occurred trying to connect: {}\".format(err))\n",
    "    \n",
    "# Create the city table\n",
    "result = connection.execute(\"CREATE TABLE IF NOT EXISTS jch5x8.city(city_id INT PRIMARY KEY, city VARCHAR(50), locale VARCHAR(50), country VARCHAR(50))\")\n",
    "    \n",
    "# Close connection\n",
    "connection.close()"
   ]
  },
  {
   "cell_type": "code",
   "execution_count": 14,
   "metadata": {},
   "outputs": [
    {
     "name": "stdout",
     "output_type": "stream",
     "text": [
      "2021-12-07 15:05:26,995 INFO sqlalchemy.engine.base.Engine CREATE TABLE IF NOT EXISTS jch5x8.contact(contact_id INT PRIMARY KEY, address VARCHAR(150), city_id INT REFERENCES jch5x8.city ON DELETE SET NULL ON UPDATE CASCADE, postal_code VARCHAR(50), phone VARCHAR(50), fax VARCHAR(50), email VARCHAR(50))\n",
      "2021-12-07 15:05:26,996 INFO sqlalchemy.engine.base.Engine {}\n",
      "2021-12-07 15:05:27,003 INFO sqlalchemy.engine.base.Engine COMMIT\n"
     ]
    }
   ],
   "source": [
    "# init connection variable\n",
    "connection = None\n",
    "# using a try-except\n",
    "try:\n",
    "    connection = engine.connect()\n",
    "except Exception as err:\n",
    "    print(\"An error occurred trying to connect: {}\".format(err))\n",
    "    \n",
    "# Create the contact table\n",
    "result = connection.execute(\"CREATE TABLE IF NOT EXISTS jch5x8.contact(contact_id INT PRIMARY KEY, address VARCHAR(150), city_id INT REFERENCES jch5x8.city ON DELETE SET NULL ON UPDATE CASCADE, postal_code VARCHAR(50), phone VARCHAR(50), fax VARCHAR(50), email VARCHAR(50))\")\n",
    "\n",
    "# Close connection\n",
    "connection.close()"
   ]
  },
  {
   "cell_type": "code",
   "execution_count": 15,
   "metadata": {},
   "outputs": [
    {
     "name": "stdout",
     "output_type": "stream",
     "text": [
      "2021-12-07 15:05:28,039 INFO sqlalchemy.engine.base.Engine CREATE TABLE IF NOT EXISTS jch5x8.customer(customer_id INT PRIMARY KEY, first_name VARCHAR(50), last_name VARCHAR(50), company VARCHAR(50), contact_id INT REFERENCES jch5x8.contact ON DELETE SET NULL ON UPDATE CASCADE)\n",
      "2021-12-07 15:05:28,040 INFO sqlalchemy.engine.base.Engine {}\n",
      "2021-12-07 15:05:28,049 INFO sqlalchemy.engine.base.Engine COMMIT\n"
     ]
    }
   ],
   "source": [
    "# init connection variable\n",
    "connection = None\n",
    "# using a try-except\n",
    "try:\n",
    "    connection = engine.connect()\n",
    "except Exception as err:\n",
    "    print(\"An error occurred trying to connect: {}\".format(err))\n",
    "    \n",
    "# Create the customer table\n",
    "result = connection.execute(\"CREATE TABLE IF NOT EXISTS jch5x8.customer(customer_id INT PRIMARY KEY, first_name VARCHAR(50), last_name VARCHAR(50), company VARCHAR(50), contact_id INT REFERENCES jch5x8.contact ON DELETE SET NULL ON UPDATE CASCADE)\")\n",
    "    \n",
    "# Close connection\n",
    "connection.close()"
   ]
  },
  {
   "cell_type": "code",
   "execution_count": 16,
   "metadata": {},
   "outputs": [
    {
     "name": "stdout",
     "output_type": "stream",
     "text": [
      "2021-12-07 15:05:28,852 INFO sqlalchemy.engine.base.Engine CREATE TABLE IF NOT EXISTS jch5x8.album(album_id INT PRIMARY KEY, album VARCHAR(150), artist VARCHAR(150), genre VARCHAR(50))\n",
      "2021-12-07 15:05:28,853 INFO sqlalchemy.engine.base.Engine {}\n",
      "2021-12-07 15:05:28,860 INFO sqlalchemy.engine.base.Engine COMMIT\n"
     ]
    }
   ],
   "source": [
    "# init connection variable\n",
    "connection = None\n",
    "# using a try-except\n",
    "try:\n",
    "    connection = engine.connect()\n",
    "except Exception as err:\n",
    "    print(\"An error occurred trying to connect: {}\".format(err))\n",
    "    \n",
    "# Create the album table\n",
    "result = connection.execute(\"CREATE TABLE IF NOT EXISTS jch5x8.album(album_id INT PRIMARY KEY, album VARCHAR(150), artist VARCHAR(150), genre VARCHAR(50))\")\n",
    "    \n",
    "# Close connection\n",
    "connection.close()"
   ]
  },
  {
   "cell_type": "code",
   "execution_count": 17,
   "metadata": {},
   "outputs": [
    {
     "name": "stdout",
     "output_type": "stream",
     "text": [
      "2021-12-07 15:05:29,891 INFO sqlalchemy.engine.base.Engine CREATE TABLE IF NOT EXISTS jch5x8.track(track_id INT PRIMARY KEY, album_id INT REFERENCES jch5x8.album ON DELETE SET NULL ON UPDATE CASCADE, song VARCHAR(150), media_type VARCHAR(50), bytes INT)\n",
      "2021-12-07 15:05:29,892 INFO sqlalchemy.engine.base.Engine {}\n",
      "2021-12-07 15:05:29,901 INFO sqlalchemy.engine.base.Engine COMMIT\n"
     ]
    }
   ],
   "source": [
    "# init connection variable\n",
    "connection = None\n",
    "# using a try-except\n",
    "try:\n",
    "    connection = engine.connect()\n",
    "except Exception as err:\n",
    "    print(\"An error occurred trying to connect: {}\".format(err))\n",
    "    \n",
    "# Create the track table\n",
    "result = connection.execute(\"CREATE TABLE IF NOT EXISTS jch5x8.track(track_id INT PRIMARY KEY, album_id INT REFERENCES jch5x8.album ON DELETE SET NULL ON UPDATE CASCADE, song VARCHAR(150), media_type VARCHAR(50), bytes INT)\")\n",
    "\n",
    "# Close connection\n",
    "connection.close()"
   ]
  },
  {
   "cell_type": "code",
   "execution_count": 18,
   "metadata": {},
   "outputs": [
    {
     "name": "stdout",
     "output_type": "stream",
     "text": [
      "2021-12-07 15:05:30,504 INFO sqlalchemy.engine.base.Engine CREATE TABLE IF NOT EXISTS jch5x8.playlist(track_playlist_id INT PRIMARY KEY, playlist VARCHAR(150), track_id INT REFERENCES jch5x8.track ON DELETE SET NULL ON UPDATE CASCADE)\n",
      "2021-12-07 15:05:30,505 INFO sqlalchemy.engine.base.Engine {}\n",
      "2021-12-07 15:05:30,514 INFO sqlalchemy.engine.base.Engine COMMIT\n"
     ]
    }
   ],
   "source": [
    "# init connection variable\n",
    "connection = None\n",
    "# using a try-except\n",
    "try:\n",
    "    connection = engine.connect()\n",
    "except Exception as err:\n",
    "    print(\"An error occurred trying to connect: {}\".format(err))\n",
    "    \n",
    "# Create the playlist table\n",
    "result = connection.execute(\"CREATE TABLE IF NOT EXISTS jch5x8.playlist(track_playlist_id INT PRIMARY KEY, playlist VARCHAR(150), track_id INT REFERENCES jch5x8.track ON DELETE SET NULL ON UPDATE CASCADE)\")\n",
    "\n",
    "# Close connection\n",
    "connection.close()"
   ]
  },
  {
   "cell_type": "code",
   "execution_count": 19,
   "metadata": {},
   "outputs": [
    {
     "name": "stdout",
     "output_type": "stream",
     "text": [
      "2021-12-07 15:05:31,385 INFO sqlalchemy.engine.base.Engine CREATE TABLE IF NOT EXISTS jch5x8.invoice_customers(invoice_id INT PRIMARY KEY, customer_id INT REFERENCES jch5x8.customer ON DELETE SET NULL ON UPDATE CASCADE)\n",
      "2021-12-07 15:05:31,386 INFO sqlalchemy.engine.base.Engine {}\n",
      "2021-12-07 15:05:31,398 INFO sqlalchemy.engine.base.Engine COMMIT\n"
     ]
    }
   ],
   "source": [
    "# init connection variable\n",
    "connection = None\n",
    "# using a try-except\n",
    "try:\n",
    "    connection = engine.connect()\n",
    "except Exception as err:\n",
    "    print(\"An error occurred trying to connect: {}\".format(err))\n",
    "    \n",
    "# Create the invoice_customers table\n",
    "result = connection.execute(\"CREATE TABLE IF NOT EXISTS jch5x8.invoice_customers(invoice_id INT PRIMARY KEY, customer_id INT REFERENCES jch5x8.customer ON DELETE SET NULL ON UPDATE CASCADE)\")\n",
    "\n",
    "# Close connection\n",
    "connection.close()"
   ]
  },
  {
   "cell_type": "code",
   "execution_count": 20,
   "metadata": {},
   "outputs": [
    {
     "name": "stdout",
     "output_type": "stream",
     "text": [
      "2021-12-07 15:05:33,002 INFO sqlalchemy.engine.base.Engine CREATE TABLE IF NOT EXISTS jch5x8.invoice_tracks(it_id INT PRIMARY KEY, invoice_id INT REFERENCES jch5x8.invoice_customers ON DELETE SET NULL ON UPDATE CASCADE, track_id INT REFERENCES jch5x8.track ON DELETE SET NULL ON UPDATE CASCADE, unit_price REAL)\n",
      "2021-12-07 15:05:33,003 INFO sqlalchemy.engine.base.Engine {}\n",
      "2021-12-07 15:05:33,012 INFO sqlalchemy.engine.base.Engine COMMIT\n"
     ]
    }
   ],
   "source": [
    "# init connection variable\n",
    "connection = None\n",
    "# using a try-except\n",
    "try:\n",
    "    connection = engine.connect()\n",
    "except Exception as err:\n",
    "    print(\"An error occurred trying to connect: {}\".format(err))\n",
    "    \n",
    "# Create the invoice_tracks table\n",
    "result = connection.execute(\"CREATE TABLE IF NOT EXISTS jch5x8.invoice_tracks(it_id INT PRIMARY KEY, invoice_id INT REFERENCES jch5x8.invoice_customers ON DELETE SET NULL ON UPDATE CASCADE, track_id INT REFERENCES jch5x8.track ON DELETE SET NULL ON UPDATE CASCADE, unit_price REAL)\")\n",
    "# Close connection\n",
    "connection.close()"
   ]
  },
  {
   "cell_type": "markdown",
   "metadata": {},
   "source": [
    "# Load data from files into database.\n",
    "\n",
    "### Use Excel or Pandas to carve the provided CSV files above into the **set of appropriate files** you need to load into your database.\n",
    "   1. Example: Save File As *new_csv_name.csv*\n",
    "   1. Remove unneeded columns\n",
    "   1. Remove duplicate rows\n",
    "   1. Save File, Navigate in JupyterHub folder view (your first JupyterHub tab)\n",
    "   1. Upload file\n",
    "\n",
    "\n",
    "   1. Load the CSV into your database using Python.\n",
    "     \n",
    "\n",
    "\n"
   ]
  },
  {
   "cell_type": "code",
   "execution_count": 21,
   "metadata": {},
   "outputs": [
    {
     "name": "stdout",
     "output_type": "stream",
     "text": [
      "2021-12-07 15:05:38,978 INFO sqlalchemy.engine.base.Engine select relname from pg_class c join pg_namespace n on n.oid=c.relnamespace where n.nspname=%(schema)s and relname=%(name)s\n",
      "2021-12-07 15:05:38,979 INFO sqlalchemy.engine.base.Engine {'schema': 'jch5x8', 'name': 'city'}\n",
      "2021-12-07 15:05:38,983 INFO sqlalchemy.engine.base.Engine BEGIN (implicit)\n",
      "2021-12-07 15:05:38,985 INFO sqlalchemy.engine.base.Engine INSERT INTO jch5x8.city (city_id, city, locale, country) VALUES (%(city_id)s, %(city)s, %(locale)s, %(country)s)\n",
      "2021-12-07 15:05:38,985 INFO sqlalchemy.engine.base.Engine ({'city_id': 1, 'city': 'São José dos Campos', 'locale': 'SP', 'country': 'Brazil'}, {'city_id': 2, 'city': 'Stuttgart', 'locale': None, 'country': 'Germany'}, {'city_id': 3, 'city': 'Montréal', 'locale': 'QC', 'country': 'Canada'}, {'city_id': 4, 'city': 'Oslo', 'locale': None, 'country': 'Norway'}, {'city_id': 5, 'city': 'Prague', 'locale': None, 'country': 'Czech Republic'}, {'city_id': 6, 'city': 'Prague', 'locale': None, 'country': 'Czech Republic'}, {'city_id': 7, 'city': 'Vienne', 'locale': None, 'country': 'Austria'}, {'city_id': 8, 'city': 'Brussels', 'locale': None, 'country': 'Belgium'}  ... displaying 10 of 50 total bound parameter sets ...  {'city_id': 49, 'city': 'Warsaw', 'locale': None, 'country': 'Poland'}, {'city_id': 50, 'city': 'Madrid', 'locale': None, 'country': 'Spain'})\n",
      "2021-12-07 15:05:39,001 INFO sqlalchemy.engine.base.Engine INSERT INTO jch5x8.city (city_id, city, locale, country) VALUES (%(city_id)s, %(city)s, %(locale)s, %(country)s)\n",
      "2021-12-07 15:05:39,002 INFO sqlalchemy.engine.base.Engine ({'city_id': 51, 'city': 'Stockholm', 'locale': None, 'country': 'Sweden'}, {'city_id': 52, 'city': 'London', 'locale': None, 'country': 'United Kingdom'}, {'city_id': 53, 'city': 'London', 'locale': None, 'country': 'United Kingdom'}, {'city_id': 54, 'city': 'Edinburgh ', 'locale': None, 'country': 'United Kingdom'}, {'city_id': 55, 'city': 'Sidney', 'locale': 'NSW', 'country': 'Australia'}, {'city_id': 56, 'city': 'Buenos Aires', 'locale': None, 'country': 'Argentina'}, {'city_id': 57, 'city': 'Santiago', 'locale': None, 'country': 'Chile'}, {'city_id': 58, 'city': 'Delhi', 'locale': None, 'country': 'India'}, {'city_id': 59, 'city': 'Bangalore', 'locale': None, 'country': 'India'})\n",
      "2021-12-07 15:05:39,005 INFO sqlalchemy.engine.base.Engine COMMIT\n"
     ]
    }
   ],
   "source": [
    "col_list = [\"city_id\", \"city\", \"locale\", \"country\"]\n",
    "city = pd.read_csv(\"city.csv\", usecols = col_list, encoding = \"ISO-8859-1\")\n",
    "city = city.drop_duplicates()\n",
    "#city.head()\n",
    "\n",
    "city.to_sql('city',               # Table to load to\n",
    "            engine,               # Engine created above\n",
    "            schema = username,    # Schema where table lives\n",
    "            if_exists = 'append', # If table found, add data\n",
    "            index = False,        # Ignore data frame row index\n",
    "            chunksize = 50        # Load 50 records from data frame at a time\n",
    "        )"
   ]
  },
  {
   "cell_type": "code",
   "execution_count": 22,
   "metadata": {},
   "outputs": [
    {
     "name": "stdout",
     "output_type": "stream",
     "text": [
      "2021-12-07 15:05:40,033 INFO sqlalchemy.engine.base.Engine select relname from pg_class c join pg_namespace n on n.oid=c.relnamespace where n.nspname=%(schema)s and relname=%(name)s\n",
      "2021-12-07 15:05:40,034 INFO sqlalchemy.engine.base.Engine {'schema': 'jch5x8', 'name': 'contact'}\n",
      "2021-12-07 15:05:40,037 INFO sqlalchemy.engine.base.Engine BEGIN (implicit)\n",
      "2021-12-07 15:05:40,038 INFO sqlalchemy.engine.base.Engine INSERT INTO jch5x8.contact (contact_id, address, postal_code, phone, fax, email, city_id) VALUES (%(contact_id)s, %(address)s, %(postal_code)s, %(phone)s, %(fax)s, %(email)s, %(city_id)s)\n",
      "2021-12-07 15:05:40,039 INFO sqlalchemy.engine.base.Engine ({'contact_id': 1, 'address': 'Av. Brigadeiro Faria Lima, 2170', 'postal_code': '12227-000', 'phone': '+55 (12) 3923-5555', 'fax': '+55 (12) 3923-5566', 'email': 'luisg@embraer.com.br', 'city_id': 1}, {'contact_id': 2, 'address': 'Theodor-Heuss-Straße 34', 'postal_code': '70174', 'phone': '+49 0711 2842222', 'fax': None, 'email': 'leonekohler@surfeu.de', 'city_id': 2}, {'contact_id': 3, 'address': '1498 rue Bélanger', 'postal_code': 'H2G 1A7', 'phone': '+1 (514) 721-4711', 'fax': None, 'email': 'ftremblay@gmail.com', 'city_id': 3}, {'contact_id': 4, 'address': 'Ullevålsveien 14', 'postal_code': '171', 'phone': '+47 22 44 22 22', 'fax': None, 'email': 'bjorn.hansen@yahoo.no', 'city_id': 4}, {'contact_id': 5, 'address': 'Klanova 9/506', 'postal_code': '14700', 'phone': '+420 2 4172 5555', 'fax': '+420 2 4172 5555', 'email': 'frantisekw@jetbrains.com', 'city_id': 5}, {'contact_id': 6, 'address': 'Rilská 3174/6', 'postal_code': '14300', 'phone': '+420 2 4177 0449', 'fax': None, 'email': 'hholy@gmail.com', 'city_id': 5}, {'contact_id': 7, 'address': 'Rotenturmstraße 4, 1010 Innere Stadt', 'postal_code': '1010', 'phone': '+43 01 5134505', 'fax': None, 'email': 'astrid.gruber@apple.at', 'city_id': 7}, {'contact_id': 8, 'address': 'Grétrystraat 63', 'postal_code': '1000', 'phone': '+32 02 219 03 03', 'fax': None, 'email': 'daan_peeters@apple.be', 'city_id': 8}  ... displaying 10 of 50 total bound parameter sets ...  {'contact_id': 49, 'address': 'Ordynacka 10', 'postal_code': '00-358', 'phone': '+48 22 828 37 39', 'fax': None, 'email': 'stanis?aw.wójcik@wp.pl', 'city_id': 49}, {'contact_id': 50, 'address': 'C/ San Bernardo 85', 'postal_code': '28015', 'phone': '+34 914 454 454', 'fax': None, 'email': 'enrique_munoz@yahoo.es', 'city_id': 50})\n",
      "2021-12-07 15:05:40,058 INFO sqlalchemy.engine.base.Engine INSERT INTO jch5x8.contact (contact_id, address, postal_code, phone, fax, email, city_id) VALUES (%(contact_id)s, %(address)s, %(postal_code)s, %(phone)s, %(fax)s, %(email)s, %(city_id)s)\n",
      "2021-12-07 15:05:40,059 INFO sqlalchemy.engine.base.Engine ({'contact_id': 51, 'address': 'Celsiusg. 9', 'postal_code': '11230', 'phone': '+46 08-651 52 52', 'fax': None, 'email': 'joakim.johansson@yahoo.se', 'city_id': 51}, {'contact_id': 52, 'address': '202 Hoxton Street', 'postal_code': 'N1 5LH', 'phone': '+44 020 7707 0707', 'fax': None, 'email': 'emma_jones@hotmail.com', 'city_id': 52}, {'contact_id': 53, 'address': '113 Lupus St', 'postal_code': 'SW1V 3EN', 'phone': '+44 020 7976 5722', 'fax': None, 'email': 'phil.hughes@gmail.com', 'city_id': 52}, {'contact_id': 54, 'address': '110 Raeburn Pl', 'postal_code': 'EH4 1HH', 'phone': '+44 0131 315 3300', 'fax': None, 'email': 'steve.murray@yahoo.uk', 'city_id': 54}, {'contact_id': 55, 'address': '421 Bourke Street', 'postal_code': '2010', 'phone': '+61 (02) 9332 3633', 'fax': None, 'email': 'mark.taylor@yahoo.au', 'city_id': 55}, {'contact_id': 56, 'address': '307 Macacha Güemes', 'postal_code': '1106', 'phone': '+54 (0)11 4311 4333', 'fax': None, 'email': 'diego.gutierrez@yahoo.ar', 'city_id': 56}, {'contact_id': 57, 'address': 'Calle Lira, 198', 'postal_code': None, 'phone': '+56 (0)2 635 4444', 'fax': None, 'email': 'luisrojas@yahoo.cl', 'city_id': 57}, {'contact_id': 58, 'address': '12,Community Centre', 'postal_code': '110017', 'phone': '+91 0124 39883988', 'fax': None, 'email': 'manoj.pareek@rediff.com', 'city_id': 58}, {'contact_id': 59, 'address': '3,Raj Bhavan Road', 'postal_code': '560001', 'phone': '+91 080 22289999', 'fax': None, 'email': 'puja_srivastava@yahoo.in', 'city_id': 59})\n",
      "2021-12-07 15:05:40,062 INFO sqlalchemy.engine.base.Engine COMMIT\n"
     ]
    }
   ],
   "source": [
    "col_list = [\"contact_id\", \"address\", \"postal_code\", \"phone\", \"fax\", \"email\", \"city_id\"]\n",
    "contact = pd.read_csv(\"contact.csv\", usecols = col_list, encoding = \"ISO-8859-1\")\n",
    "contact = contact.drop_duplicates()\n",
    "#contact.rename(columns = {'customer': 'customer_id'}, inplace = True)\n",
    "#contact.head()\n",
    "\n",
    "contact.to_sql('contact',         # Table to load to\n",
    "            engine,               # Engine created above\n",
    "            schema = username,    # Schema where table lives\n",
    "            if_exists = 'append', # If table found, add data\n",
    "            index = False,        # Ignore data frame row index\n",
    "            chunksize = 50        # Load 50 records from data frame at a time\n",
    "        )"
   ]
  },
  {
   "cell_type": "code",
   "execution_count": 23,
   "metadata": {},
   "outputs": [
    {
     "name": "stdout",
     "output_type": "stream",
     "text": [
      "2021-12-07 15:05:40,893 INFO sqlalchemy.engine.base.Engine select relname from pg_class c join pg_namespace n on n.oid=c.relnamespace where n.nspname=%(schema)s and relname=%(name)s\n",
      "2021-12-07 15:05:40,894 INFO sqlalchemy.engine.base.Engine {'schema': 'jch5x8', 'name': 'customer'}\n",
      "2021-12-07 15:05:40,898 INFO sqlalchemy.engine.base.Engine BEGIN (implicit)\n",
      "2021-12-07 15:05:40,900 INFO sqlalchemy.engine.base.Engine INSERT INTO jch5x8.customer (customer_id, first_name, last_name, company, contact_id) VALUES (%(customer_id)s, %(first_name)s, %(last_name)s, %(company)s, %(contact_id)s)\n",
      "2021-12-07 15:05:40,900 INFO sqlalchemy.engine.base.Engine ({'customer_id': 1, 'first_name': 'Luís', 'last_name': 'Gonçalves', 'company': 'Embraer - Empresa Brasileira de Aeronáutica S.A.', 'contact_id': 1}, {'customer_id': 2, 'first_name': 'Leonie', 'last_name': 'Köhler', 'company': None, 'contact_id': 2}, {'customer_id': 3, 'first_name': 'François', 'last_name': 'Tremblay', 'company': None, 'contact_id': 3}, {'customer_id': 4, 'first_name': 'Bjørn', 'last_name': 'Hansen', 'company': None, 'contact_id': 4}, {'customer_id': 5, 'first_name': 'Franti\\x9aek', 'last_name': 'Wichterlová', 'company': 'JetBrains s.r.o.', 'contact_id': 5}, {'customer_id': 6, 'first_name': 'Helena', 'last_name': 'Holý', 'company': None, 'contact_id': 6}, {'customer_id': 7, 'first_name': 'Astrid', 'last_name': 'Gruber', 'company': None, 'contact_id': 7}, {'customer_id': 8, 'first_name': 'Daan', 'last_name': 'Peeters', 'company': None, 'contact_id': 8}  ... displaying 10 of 50 total bound parameter sets ...  {'customer_id': 49, 'first_name': 'Stanis?aw', 'last_name': 'Wójcik', 'company': None, 'contact_id': 49}, {'customer_id': 50, 'first_name': 'Enrique', 'last_name': 'Muñoz', 'company': None, 'contact_id': 50})\n",
      "2021-12-07 15:05:40,920 INFO sqlalchemy.engine.base.Engine INSERT INTO jch5x8.customer (customer_id, first_name, last_name, company, contact_id) VALUES (%(customer_id)s, %(first_name)s, %(last_name)s, %(company)s, %(contact_id)s)\n",
      "2021-12-07 15:05:40,920 INFO sqlalchemy.engine.base.Engine ({'customer_id': 51, 'first_name': 'Joakim', 'last_name': 'Johansson', 'company': None, 'contact_id': 51}, {'customer_id': 52, 'first_name': 'Emma', 'last_name': 'Jones', 'company': None, 'contact_id': 52}, {'customer_id': 53, 'first_name': 'Phil', 'last_name': 'Hughes', 'company': None, 'contact_id': 53}, {'customer_id': 54, 'first_name': 'Steve', 'last_name': 'Murray', 'company': None, 'contact_id': 54}, {'customer_id': 55, 'first_name': 'Mark', 'last_name': 'Taylor', 'company': None, 'contact_id': 55}, {'customer_id': 56, 'first_name': 'Diego', 'last_name': 'Gutiérrez', 'company': None, 'contact_id': 56}, {'customer_id': 57, 'first_name': 'Luis', 'last_name': 'Rojas', 'company': None, 'contact_id': 57}, {'customer_id': 58, 'first_name': 'Manoj', 'last_name': 'Pareek', 'company': None, 'contact_id': 58}, {'customer_id': 59, 'first_name': 'Puja', 'last_name': 'Srivastava', 'company': None, 'contact_id': 59})\n",
      "2021-12-07 15:05:40,923 INFO sqlalchemy.engine.base.Engine COMMIT\n"
     ]
    }
   ],
   "source": [
    "col_list = [\"customer_id\", \"first_name\", \"last_name\", \"company\", \"contact_id\"]\n",
    "customer = pd.read_csv(\"customer.csv\", usecols = col_list, encoding = \"ISO-8859-1\")\n",
    "customer = customer.drop_duplicates()\n",
    "#customer.rename(columns = {'customer': 'customer_id'}, inplace = True)\n",
    "#customer.head()\n",
    "\n",
    "customer.to_sql('customer',       # Table to load to\n",
    "            engine,               # Engine created above\n",
    "            schema = username,    # Schema where table lives\n",
    "            if_exists = 'append', # If table found, add data\n",
    "            index = False,        # Ignore data frame row index\n",
    "            chunksize = 50        # Load 50 records from data frame at a time\n",
    "        )"
   ]
  },
  {
   "cell_type": "code",
   "execution_count": 24,
   "metadata": {},
   "outputs": [
    {
     "name": "stdout",
     "output_type": "stream",
     "text": [
      "2021-12-07 15:05:42,212 INFO sqlalchemy.engine.base.Engine select relname from pg_class c join pg_namespace n on n.oid=c.relnamespace where n.nspname=%(schema)s and relname=%(name)s\n",
      "2021-12-07 15:05:42,213 INFO sqlalchemy.engine.base.Engine {'schema': 'jch5x8', 'name': 'album'}\n",
      "2021-12-07 15:05:42,217 INFO sqlalchemy.engine.base.Engine BEGIN (implicit)\n",
      "2021-12-07 15:05:42,218 INFO sqlalchemy.engine.base.Engine INSERT INTO jch5x8.album (album_id, album, artist, genre) VALUES (%(album_id)s, %(album)s, %(artist)s, %(genre)s)\n",
      "2021-12-07 15:05:42,219 INFO sqlalchemy.engine.base.Engine ({'album_id': 1, 'album': 'For Those About To Rock We Salute You', 'artist': 'AC/DC', 'genre': 'Rock'}, {'album_id': 2, 'album': 'Let There Be Rock', 'artist': 'AC/DC', 'genre': 'Rock'}, {'album_id': 3, 'album': 'Big Ones', 'artist': 'Aerosmith', 'genre': 'Rock'}, {'album_id': 4, 'album': 'Jagged Little Pill', 'artist': 'Alanis Morissette', 'genre': 'Rock'}, {'album_id': 5, 'album': 'Facelift', 'artist': 'Alice In Chains', 'genre': 'Rock'}, {'album_id': 6, 'album': 'Warner 25 Anos', 'artist': 'Antônio Carlos Jobim', 'genre': 'Jazz'}, {'album_id': 7, 'album': 'Plays Metallica By Four Cellos', 'artist': 'Apocalyptica', 'genre': 'Metal'}, {'album_id': 8, 'album': 'Audioslave', 'artist': 'Audioslave', 'genre': 'Rock'}  ... displaying 10 of 50 total bound parameter sets ...  {'album_id': 49, 'album': \"Up An' Atom\", 'artist': 'Gene Krupa', 'genre': 'Jazz'}, {'album_id': 50, 'album': 'Vinícius De Moraes - Sem Limite', 'artist': 'Toquinho & Vinícius', 'genre': 'Bossa Nova'})\n",
      "2021-12-07 15:05:42,238 INFO sqlalchemy.engine.base.Engine INSERT INTO jch5x8.album (album_id, album, artist, genre) VALUES (%(album_id)s, %(album)s, %(artist)s, %(genre)s)\n",
      "2021-12-07 15:05:42,239 INFO sqlalchemy.engine.base.Engine ({'album_id': 51, 'album': 'Vozes do MPB', 'artist': 'Various Artists', 'genre': 'Latin'}, {'album_id': 52, 'album': 'Chronicle, Vol. 1', 'artist': 'Creedence Clearwater Revival', 'genre': 'Rock'}, {'album_id': 53, 'album': 'Chronicle, Vol. 2', 'artist': 'Creedence Clearwater Revival', 'genre': 'Rock'}, {'album_id': 54, 'album': 'Cássia Eller - Coleção Sem Limite [Disc 2]', 'artist': 'Cássia Eller', 'genre': 'Latin'}, {'album_id': 55, 'album': 'Cássia Eller - Sem Limite [Disc 1]', 'artist': 'Cássia Eller', 'genre': 'Latin'}, {'album_id': 56, 'album': 'Come Taste The Band', 'artist': 'Deep Purple', 'genre': 'Rock'}, {'album_id': 57, 'album': 'Deep Purple In Rock', 'artist': 'Deep Purple', 'genre': 'Rock'}, {'album_id': 58, 'album': 'Fireball', 'artist': 'Deep Purple', 'genre': 'Rock'}  ... displaying 10 of 50 total bound parameter sets ...  {'album_id': 99, 'album': 'Live After Death', 'artist': 'Iron Maiden', 'genre': 'Metal'}, {'album_id': 100, 'album': 'Live At Donington 1992 (Disc 1)', 'artist': 'Iron Maiden', 'genre': 'Rock'})\n",
      "2021-12-07 15:05:42,249 INFO sqlalchemy.engine.base.Engine INSERT INTO jch5x8.album (album_id, album, artist, genre) VALUES (%(album_id)s, %(album)s, %(artist)s, %(genre)s)\n",
      "2021-12-07 15:05:42,250 INFO sqlalchemy.engine.base.Engine ({'album_id': 101, 'album': 'Live At Donington 1992 (Disc 2)', 'artist': 'Iron Maiden', 'genre': 'Rock'}, {'album_id': 102, 'album': 'No Prayer For The Dying', 'artist': 'Iron Maiden', 'genre': 'Metal'}, {'album_id': 103, 'album': 'Piece Of Mind', 'artist': 'Iron Maiden', 'genre': 'Metal'}, {'album_id': 104, 'album': 'Powerslave', 'artist': 'Iron Maiden', 'genre': 'Metal'}, {'album_id': 105, 'album': 'Rock In Rio [CD1]', 'artist': 'Iron Maiden', 'genre': 'Metal'}, {'album_id': 106, 'album': 'Rock In Rio [CD2]', 'artist': 'Iron Maiden', 'genre': 'Rock'}, {'album_id': 107, 'album': 'Rock In Rio [CD2]', 'artist': 'Iron Maiden', 'genre': 'Metal'}, {'album_id': 108, 'album': 'Seventh Son of a Seventh Son', 'artist': 'Iron Maiden', 'genre': 'Metal'}  ... displaying 10 of 50 total bound parameter sets ...  {'album_id': 149, 'album': 'Load', 'artist': 'Metallica', 'genre': 'Metal'}, {'album_id': 150, 'album': 'Master Of Puppets', 'artist': 'Metallica', 'genre': 'Metal'})\n",
      "2021-12-07 15:05:42,263 INFO sqlalchemy.engine.base.Engine INSERT INTO jch5x8.album (album_id, album, artist, genre) VALUES (%(album_id)s, %(album)s, %(artist)s, %(genre)s)\n",
      "2021-12-07 15:05:42,264 INFO sqlalchemy.engine.base.Engine ({'album_id': 151, 'album': 'ReLoad', 'artist': 'Metallica', 'genre': 'Metal'}, {'album_id': 152, 'album': 'Ride The Lightning', 'artist': 'Metallica', 'genre': 'Metal'}, {'album_id': 153, 'album': 'St. Anger', 'artist': 'Metallica', 'genre': 'Metal'}, {'album_id': 154, 'album': '...And Justice For All', 'artist': 'Metallica', 'genre': 'Metal'}, {'album_id': 155, 'album': 'Miles Ahead', 'artist': 'Miles Davis', 'genre': 'Jazz'}, {'album_id': 156, 'album': 'Milton Nascimento Ao Vivo', 'artist': 'Milton Nascimento', 'genre': 'Latin'}, {'album_id': 157, 'album': 'Minas', 'artist': 'Milton Nascimento', 'genre': 'Latin'}, {'album_id': 158, 'album': 'Ace Of Spades', 'artist': 'Motörhead', 'genre': 'Metal'}  ... displaying 10 of 50 total bound parameter sets ...  {'album_id': 199, 'album': 'Morning Dance', 'artist': 'Spyro Gyra', 'genre': 'Jazz'}, {'album_id': 200, 'album': 'In Step', 'artist': 'Stevie Ray Vaughan & Double Trouble', 'genre': 'Blues'})\n",
      "2021-12-07 15:05:42,273 INFO sqlalchemy.engine.base.Engine INSERT INTO jch5x8.album (album_id, album, artist, genre) VALUES (%(album_id)s, %(album)s, %(artist)s, %(genre)s)\n",
      "2021-12-07 15:05:42,274 INFO sqlalchemy.engine.base.Engine ({'album_id': 201, 'album': 'Core', 'artist': 'Stone Temple Pilots', 'genre': 'Rock'}, {'album_id': 202, 'album': 'Mezmerize', 'artist': 'System Of A Down', 'genre': 'Metal'}, {'album_id': 203, 'album': '[1997] Black Light Syndrome', 'artist': 'Terry Bozzio, Tony Levin & Steve Stevens', 'genre': 'Rock'}, {'album_id': 204, 'album': 'Live [Disc 1]', 'artist': 'The Black Crowes', 'genre': 'Blues'}, {'album_id': 205, 'album': 'Live [Disc 2]', 'artist': 'The Black Crowes', 'genre': 'Blues'}, {'album_id': 206, 'album': 'The Singles', 'artist': 'The Clash', 'genre': 'Alternative & Punk'}, {'album_id': 207, 'album': 'Beyond Good And Evil', 'artist': 'The Cult', 'genre': 'Rock'}, {'album_id': 208, 'album': 'Pure Cult: The Best Of The Cult (For Rockers, Ravers, Lovers & Sinners) [UK]', 'artist': 'The Cult', 'genre': 'Rock'}  ... displaying 10 of 50 total bound parameter sets ...  {'album_id': 249, 'album': 'Diary of a Madman (Remastered)', 'artist': 'Ozzy Osbourne', 'genre': 'Rock'}, {'album_id': 250, 'album': 'No More Tears (Remastered)', 'artist': 'Ozzy Osbourne', 'genre': 'Rock'})\n",
      "2021-12-07 15:05:42,286 INFO sqlalchemy.engine.base.Engine INSERT INTO jch5x8.album (album_id, album, artist, genre) VALUES (%(album_id)s, %(album)s, %(artist)s, %(genre)s)\n",
      "2021-12-07 15:05:42,287 INFO sqlalchemy.engine.base.Engine ({'album_id': 251, 'album': 'Un-Led-Ed', 'artist': 'Dread Zeppelin', 'genre': 'Rock'}, {'album_id': 252, 'album': 'Instant Karma: The Amnesty International Campaign to Save Darfur', 'artist': 'U2', 'genre': 'Pop'}, {'album_id': 253, 'album': 'Speak of the Devil', 'artist': 'Ozzy Osbourne', 'genre': 'Rock'}, {'album_id': 254, 'album': '20th Century Masters - The Millennium Collection: The Best of Scorpions', 'artist': 'Scorpions', 'genre': 'Rock'}, {'album_id': 255, 'album': 'Temple of the Dog', 'artist': 'Temple of the Dog', 'genre': 'Alternative'}, {'album_id': 256, 'album': 'Carry On', 'artist': 'Chris Cornell', 'genre': 'Alternative'}, {'album_id': 257, 'album': 'Revelations', 'artist': 'Audioslave', 'genre': 'Alternative'}, {'album_id': 258, 'album': 'Adorate Deum: Gregorian Chant from the Proper of the Mass', 'artist': 'Alberto Turco & Nova Schola Gregoriana', 'genre': 'Classical'}  ... displaying 10 of 50 total bound parameter sets ...  {'album_id': 299, 'album': 'English Renaissance', 'artist': \"The King's Singers\", 'genre': 'Classical'}, {'album_id': 300, 'album': 'Handel: Music for the Royal Fireworks (Original Version 1749)', 'artist': 'English Concert & Trevor Pinnock', 'genre': 'Classical'})\n",
      "2021-12-07 15:05:42,296 INFO sqlalchemy.engine.base.Engine INSERT INTO jch5x8.album (album_id, album, artist, genre) VALUES (%(album_id)s, %(album)s, %(artist)s, %(genre)s)\n"
     ]
    },
    {
     "name": "stdout",
     "output_type": "stream",
     "text": [
      "2021-12-07 15:05:42,297 INFO sqlalchemy.engine.base.Engine ({'album_id': 301, 'album': 'Grieg: Peer Gynt Suites & Sibelius: Pelléas et Mélisande', 'artist': 'Berliner Philharmoniker & Herbert Von Karajan', 'genre': 'Classical'}, {'album_id': 302, 'album': 'Mozart Gala: Famous Arias', 'artist': 'Sir Georg Solti, Sumi Jo & Wiener Philharmoniker', 'genre': 'Opera'}, {'album_id': 303, 'album': 'Armada: Music from the Courts of England and Spain', 'artist': 'Fretwork', 'genre': 'Classical'}, {'album_id': 304, 'album': 'Mozart: Symphonies Nos. 40 & 41', 'artist': 'Berliner Philharmoniker & Herbert Von Karajan', 'genre': 'Classical'}, {'album_id': 305, 'album': 'Back to Black', 'artist': 'Amy Winehouse', 'genre': 'R&B/Soul'}, {'album_id': 306, 'album': 'Frank', 'artist': 'Amy Winehouse', 'genre': 'Pop'}, {'album_id': 307, 'album': 'Carried to Dust (Bonus Track Version)', 'artist': 'Calexico', 'genre': 'Alternative'}, {'album_id': 308, 'album': \"Mendelssohn: A Midsummer Night's Dream\", 'artist': 'Philharmonia Orchestra & Sir Neville Marriner', 'genre': 'Classical'}  ... displaying 10 of 50 total bound parameter sets ...  {'album_id': 349, 'album': 'SCRIABIN: Vers la flamme', 'artist': \"Christopher O'Riley\", 'genre': 'Classical'}, {'album_id': 350, 'album': \"Beethoven: Symphony No. 6 'Pastoral' Etc.\", 'artist': 'Otto Klemperer & Philharmonia Orchestra', 'genre': 'Classical'})\n",
      "2021-12-07 15:05:42,310 INFO sqlalchemy.engine.base.Engine INSERT INTO jch5x8.album (album_id, album, artist, genre) VALUES (%(album_id)s, %(album)s, %(artist)s, %(genre)s)\n",
      "2021-12-07 15:05:42,311 INFO sqlalchemy.engine.base.Engine ({'album_id': 351, 'album': 'Bartok: Violin & Viola Concertos', 'artist': 'Yehudi Menuhin', 'genre': 'Classical'}, {'album_id': 352, 'album': \"Liszt - 12 Études D'Execution Transcendante\", 'artist': 'Michele Campanella', 'genre': 'Classical'}, {'album_id': 353, 'album': 'Locatelli: Concertos for Violin, Strings and Continuo, Vol. 3', 'artist': 'Mela Tenenbaum, Pro Musica Prague & Richard Kapp', 'genre': 'Classical'}, {'album_id': 354, 'album': 'Quiet Songs', 'artist': 'Aisha Duo', 'genre': 'Jazz'}, {'album_id': 355, 'album': 'Muso Ko', 'artist': 'Habib Koité and Bamada', 'genre': 'World'}, {'album_id': 356, 'album': 'Realize', 'artist': 'Karsh Kale', 'genre': 'Electronica/Dance'}, {'album_id': 357, 'album': 'Every Kind of Light', 'artist': 'The Posies', 'genre': 'Rock'}, {'album_id': 358, 'album': 'Duos II', 'artist': 'Luciana Souza/Romero Lubambo', 'genre': 'Latin'}, {'album_id': 359, 'album': 'Worlds', 'artist': 'Aaron Goldberg', 'genre': 'Jazz'}, {'album_id': 360, 'album': 'The Best of Beethoven', 'artist': 'Nicolaus Esterhazy Sinfonia', 'genre': 'Classical'})\n",
      "2021-12-07 15:05:42,319 INFO sqlalchemy.engine.base.Engine COMMIT\n"
     ]
    }
   ],
   "source": [
    "col_list = [\"album_id\", \"album\", \"artist\", \"genre\"]\n",
    "album = pd.read_csv(\"album.csv\", usecols = col_list, encoding = \"ISO-8859-1\")\n",
    "album = album.drop_duplicates()\n",
    "#album.head()\n",
    "\n",
    "album.to_sql('album',             # Table to load to\n",
    "            engine,               # Engine created above\n",
    "            schema = username,    # Schema where table lives\n",
    "            if_exists = 'append', # If table found, add data\n",
    "            index = False,        # Ignore data frame row index\n",
    "            chunksize = 50        # Load 50 records from data frame at a time\n",
    "        )"
   ]
  },
  {
   "cell_type": "code",
   "execution_count": 25,
   "metadata": {},
   "outputs": [
    {
     "name": "stdout",
     "output_type": "stream",
     "text": [
      "2021-12-07 15:05:43,392 INFO sqlalchemy.engine.base.Engine select relname from pg_class c join pg_namespace n on n.oid=c.relnamespace where n.nspname=%(schema)s and relname=%(name)s\n",
      "2021-12-07 15:05:43,393 INFO sqlalchemy.engine.base.Engine {'schema': 'jch5x8', 'name': 'track'}\n",
      "2021-12-07 15:05:43,397 INFO sqlalchemy.engine.base.Engine BEGIN (implicit)\n",
      "2021-12-07 15:05:43,398 INFO sqlalchemy.engine.base.Engine INSERT INTO jch5x8.track (track_id, album_id, song, media_type, bytes) VALUES (%(track_id)s, %(album_id)s, %(song)s, %(media_type)s, %(bytes)s)\n",
      "2021-12-07 15:05:43,398 INFO sqlalchemy.engine.base.Engine ({'track_id': 1, 'album_id': 1, 'song': 'For Those About To Rock (We Salute You)', 'media_type': 'MPEG audio file', 'bytes': 11170334}, {'track_id': 6, 'album_id': 1, 'song': 'Put The Finger On You', 'media_type': 'MPEG audio file', 'bytes': 6713451}, {'track_id': 7, 'album_id': 1, 'song': \"Let's Get It Up\", 'media_type': 'MPEG audio file', 'bytes': 7636561}, {'track_id': 8, 'album_id': 1, 'song': 'Inject The Venom', 'media_type': 'MPEG audio file', 'bytes': 6852860}, {'track_id': 9, 'album_id': 1, 'song': 'Snowballed', 'media_type': 'MPEG audio file', 'bytes': 6599424}, {'track_id': 10, 'album_id': 1, 'song': 'Evil Walks', 'media_type': 'MPEG audio file', 'bytes': 8611245}, {'track_id': 11, 'album_id': 1, 'song': 'C.O.D.', 'media_type': 'MPEG audio file', 'bytes': 6566314}, {'track_id': 12, 'album_id': 1, 'song': 'Breaking The Rules', 'media_type': 'MPEG audio file', 'bytes': 8596840}  ... displaying 10 of 50 total bound parameter sets ...  {'track_id': 53, 'album_id': 5, 'song': 'Sea Of Sorrow', 'media_type': 'MPEG audio file', 'bytes': 11316328}, {'track_id': 54, 'album_id': 5, 'song': 'Bleed The Freak', 'media_type': 'MPEG audio file', 'bytes': 7847716})\n",
      "2021-12-07 15:05:43,417 INFO sqlalchemy.engine.base.Engine INSERT INTO jch5x8.track (track_id, album_id, song, media_type, bytes) VALUES (%(track_id)s, %(album_id)s, %(song)s, %(media_type)s, %(bytes)s)\n",
      "2021-12-07 15:05:43,417 INFO sqlalchemy.engine.base.Engine ({'track_id': 55, 'album_id': 5, 'song': \"I Can't Remember\", 'media_type': 'MPEG audio file', 'bytes': 7302550}, {'track_id': 56, 'album_id': 5, 'song': 'Love, Hate, Love', 'media_type': 'MPEG audio file', 'bytes': 12575396}, {'track_id': 57, 'album_id': 5, 'song': \"It Ain't Like That\", 'media_type': 'MPEG audio file', 'bytes': 8993793}, {'track_id': 58, 'album_id': 5, 'song': 'Sunshine', 'media_type': 'MPEG audio file', 'bytes': 9216057}, {'track_id': 59, 'album_id': 5, 'song': 'Put You Down', 'media_type': 'MPEG audio file', 'bytes': 6420530}, {'track_id': 60, 'album_id': 5, 'song': 'Confusion', 'media_type': 'MPEG audio file', 'bytes': 11183647}, {'track_id': 61, 'album_id': 5, 'song': 'I Know Somethin (Bout You)', 'media_type': 'MPEG audio file', 'bytes': 8497788}, {'track_id': 62, 'album_id': 5, 'song': 'Real Thing', 'media_type': 'MPEG audio file', 'bytes': 7937731}  ... displaying 10 of 50 total bound parameter sets ...  {'track_id': 103, 'album_id': 9, 'song': 'Drown Me Slowly', 'media_type': 'MPEG audio file', 'bytes': 7609178}, {'track_id': 104, 'album_id': 9, 'song': \"Heaven's Dead\", 'media_type': 'MPEG audio file', 'bytes': 9006158})\n",
      "2021-12-07 15:05:43,429 INFO sqlalchemy.engine.base.Engine INSERT INTO jch5x8.track (track_id, album_id, song, media_type, bytes) VALUES (%(track_id)s, %(album_id)s, %(song)s, %(media_type)s, %(bytes)s)\n",
      "2021-12-07 15:05:43,429 INFO sqlalchemy.engine.base.Engine ({'track_id': 105, 'album_id': 9, 'song': 'The Worm', 'media_type': 'MPEG audio file', 'bytes': 7710800}, {'track_id': 106, 'album_id': 9, 'song': 'Man Or Animal', 'media_type': 'MPEG audio file', 'bytes': 7542942}, {'track_id': 107, 'album_id': 9, 'song': 'Yesterday To Tomorrow', 'media_type': 'MPEG audio file', 'bytes': 8944205}, {'track_id': 108, 'album_id': 9, 'song': 'Dandelion', 'media_type': 'MPEG audio file', 'bytes': 9003592}, {'track_id': 109, 'album_id': 9, 'song': '#1 Zero', 'media_type': 'MPEG audio file', 'bytes': 9731988}, {'track_id': 110, 'album_id': 9, 'song': 'The Curse', 'media_type': 'MPEG audio file', 'bytes': 10029406}, {'track_id': 111, 'album_id': 10, 'song': 'Money', 'media_type': 'MPEG audio file', 'bytes': 2365897}, {'track_id': 112, 'album_id': 10, 'song': 'Long Tall Sally', 'media_type': 'MPEG audio file', 'bytes': 1707084}  ... displaying 10 of 50 total bound parameter sets ...  {'track_id': 153, 'album_id': 14, 'song': 'Evil Woman', 'media_type': 'MPEG audio file', 'bytes': 6655170}, {'track_id': 154, 'album_id': 14, 'song': 'Sleeping Village', 'media_type': 'MPEG audio file', 'bytes': 21128525})\n",
      "2021-12-07 15:05:43,441 INFO sqlalchemy.engine.base.Engine INSERT INTO jch5x8.track (track_id, album_id, song, media_type, bytes) VALUES (%(track_id)s, %(album_id)s, %(song)s, %(media_type)s, %(bytes)s)\n",
      "2021-12-07 15:05:43,442 INFO sqlalchemy.engine.base.Engine ({'track_id': 155, 'album_id': 14, 'song': 'Warning', 'media_type': 'MPEG audio file', 'bytes': 6893363}, {'track_id': 156, 'album_id': 15, 'song': 'Wheels Of Confusion / The Straightener', 'media_type': 'MPEG audio file', 'bytes': 16065830}, {'track_id': 157, 'album_id': 15, 'song': \"Tomorrow's Dream\", 'media_type': 'MPEG audio file', 'bytes': 6252071}, {'track_id': 158, 'album_id': 15, 'song': 'Changes', 'media_type': 'MPEG audio file', 'bytes': 9175517}, {'track_id': 159, 'album_id': 15, 'song': 'FX', 'media_type': 'MPEG audio file', 'bytes': 3331776}, {'track_id': 160, 'album_id': 15, 'song': 'Supernaut', 'media_type': 'MPEG audio file', 'bytes': 9245971}, {'track_id': 161, 'album_id': 13, 'song': 'Snowblind', 'media_type': 'MPEG audio file', 'bytes': 10813386}, {'track_id': 162, 'album_id': 15, 'song': 'Cornucopia', 'media_type': 'MPEG audio file', 'bytes': 7653880}  ... displaying 10 of 50 total bound parameter sets ...  {'track_id': 203, 'album_id': 18, 'song': 'Too Many Ways (Alternate)', 'media_type': 'MPEG audio file', 'bytes': 4459946}, {'track_id': 204, 'album_id': 18, 'song': \"Talkin' 'Bout Women Obviously\", 'media_type': 'MPEG audio file', 'bytes': 19161377})\n",
      "2021-12-07 15:05:43,454 INFO sqlalchemy.engine.base.Engine INSERT INTO jch5x8.track (track_id, album_id, song, media_type, bytes) VALUES (%(track_id)s, %(album_id)s, %(song)s, %(media_type)s, %(bytes)s)\n",
      "2021-12-07 15:05:43,454 INFO sqlalchemy.engine.base.Engine ({'track_id': 205, 'album_id': 19, 'song': 'Jorge Da Capadócia', 'media_type': 'MPEG audio file', 'bytes': 5842196}, {'track_id': 206, 'album_id': 19, 'song': 'Prenda Minha', 'media_type': 'MPEG audio file', 'bytes': 3225364}, {'track_id': 207, 'album_id': 19, 'song': 'Meditação', 'media_type': 'MPEG audio file', 'bytes': 4865597}, {'track_id': 208, 'album_id': 19, 'song': 'Terra', 'media_type': 'MPEG audio file', 'bytes': 15889054}, {'track_id': 209, 'album_id': 19, 'song': 'Eclipse Oculto', 'media_type': 'MPEG audio file', 'bytes': 7382703}, {'track_id': 210, 'album_id': 19, 'song': 'Texto \"Verdade Tropical\"', 'media_type': 'MPEG audio file', 'bytes': 2752161}, {'track_id': 211, 'album_id': 19, 'song': 'Bem Devagar', 'media_type': 'MPEG audio file', 'bytes': 4333651}, {'track_id': 212, 'album_id': 19, 'song': 'Drão', 'media_type': 'MPEG audio file', 'bytes': 5065932}  ... displaying 10 of 50 total bound parameter sets ...  {'track_id': 253, 'album_id': 22, 'song': 'Maracatu Atômico', 'media_type': 'MPEG audio file', 'bytes': 9670057}, {'track_id': 254, 'album_id': 22, 'song': 'O Encontro De Isaac Asimov Com Santos Dumont No Céu', 'media_type': 'MPEG audio file', 'bytes': 3240816})\n",
      "2021-12-07 15:05:43,465 INFO sqlalchemy.engine.base.Engine INSERT INTO jch5x8.track (track_id, album_id, song, media_type, bytes) VALUES (%(track_id)s, %(album_id)s, %(song)s, %(media_type)s, %(bytes)s)\n",
      "2021-12-07 15:05:43,465 INFO sqlalchemy.engine.base.Engine ({'track_id': 255, 'album_id': 22, 'song': 'Corpo De Lama', 'media_type': 'MPEG audio file', 'bytes': 7714954}, {'track_id': 256, 'album_id': 22, 'song': 'Sobremesa', 'media_type': 'MPEG audio file', 'bytes': 7960868}, {'track_id': 257, 'album_id': 22, 'song': 'Manguetown', 'media_type': 'MPEG audio file', 'bytes': 6475159}, {'track_id': 258, 'album_id': 22, 'song': 'Um Satélite Na Cabeça', 'media_type': 'MPEG audio file', 'bytes': 4272821}, {'track_id': 259, 'album_id': 22, 'song': 'Baião Ambiental [Instrumental]', 'media_type': 'MPEG audio file', 'bytes': 5198539}, {'track_id': 260, 'album_id': 22, 'song': 'Sangue De Bairro', 'media_type': 'MPEG audio file', 'bytes': 4415557}, {'track_id': 261, 'album_id': 22, 'song': 'Enquanto O Mundo Explode', 'media_type': 'MPEG audio file', 'bytes': 2968650}, {'track_id': 262, 'album_id': 22, 'song': 'Interlude Zumbi', 'media_type': 'MPEG audio file', 'bytes': 2408550}  ... displaying 10 of 50 total bound parameter sets ...  {'track_id': 303, 'album_id': 25, 'song': 'Falar A Verdade', 'media_type': 'MPEG audio file', 'bytes': 8189093}, {'track_id': 304, 'album_id': 24, 'song': 'Firmamento', 'media_type': 'MPEG audio file', 'bytes': 7507866})\n"
     ]
    },
    {
     "name": "stdout",
     "output_type": "stream",
     "text": [
      "2021-12-07 15:05:43,476 INFO sqlalchemy.engine.base.Engine INSERT INTO jch5x8.track (track_id, album_id, song, media_type, bytes) VALUES (%(track_id)s, %(album_id)s, %(song)s, %(media_type)s, %(bytes)s)\n",
      "2021-12-07 15:05:43,477 INFO sqlalchemy.engine.base.Engine ({'track_id': 305, 'album_id': 24, 'song': 'Pensamento', 'media_type': 'MPEG audio file', 'bytes': 6399761}, {'track_id': 306, 'album_id': 24, 'song': 'Realidade Virtual', 'media_type': 'MPEG audio file', 'bytes': 8069934}, {'track_id': 307, 'album_id': 25, 'song': 'Doutor', 'media_type': 'MPEG audio file', 'bytes': 5950952}, {'track_id': 308, 'album_id': 25, 'song': 'Na Frente Da TV', 'media_type': 'MPEG audio file', 'bytes': 9633659}, {'track_id': 309, 'album_id': 25, 'song': 'Downtown', 'media_type': 'MPEG audio file', 'bytes': 8024386}, {'track_id': 310, 'album_id': 25, 'song': 'Sábado A Noite', 'media_type': 'MPEG audio file', 'bytes': 8895073}, {'track_id': 311, 'album_id': 24, 'song': 'A Cor Do Sol', 'media_type': 'MPEG audio file', 'bytes': 9142937}, {'track_id': 312, 'album_id': 25, 'song': 'Eu Também Quero Beijar', 'media_type': 'MPEG audio file', 'bytes': 7029400}  ... displaying 10 of 50 total bound parameter sets ...  {'track_id': 353, 'album_id': 29, 'song': 'Sam With The Showing Scalp Flat Top', 'media_type': 'MPEG audio file', 'bytes': 5572993}, {'track_id': 354, 'album_id': 29, 'song': \"Poofter's Froth Wyoming Plans Ahead\", 'media_type': 'MPEG audio file', 'bytes': 6007019})\n",
      "2021-12-07 15:05:43,488 INFO sqlalchemy.engine.base.Engine INSERT INTO jch5x8.track (track_id, album_id, song, media_type, bytes) VALUES (%(track_id)s, %(album_id)s, %(song)s, %(media_type)s, %(bytes)s)\n",
      "2021-12-07 15:05:43,488 INFO sqlalchemy.engine.base.Engine ({'track_id': 355, 'album_id': 29, 'song': '200 Years Old', 'media_type': 'MPEG audio file', 'bytes': 8912465}, {'track_id': 356, 'album_id': 29, 'song': 'Cucamonga', 'media_type': 'MPEG audio file', 'bytes': 4728586}, {'track_id': 357, 'album_id': 29, 'song': 'Advance Romance', 'media_type': 'MPEG audio file', 'bytes': 22080051}, {'track_id': 358, 'album_id': 29, 'song': 'Man With The Woman Head', 'media_type': 'MPEG audio file', 'bytes': 2922044}, {'track_id': 359, 'album_id': 29, 'song': 'Muffin Man', 'media_type': 'MPEG audio file', 'bytes': 10891682}, {'track_id': 360, 'album_id': 30, 'song': 'Vai-Vai 2001', 'media_type': 'MPEG audio file', 'bytes': 9402241}, {'track_id': 361, 'album_id': 30, 'song': 'X-9 2001', 'media_type': 'MPEG audio file', 'bytes': 9310370}, {'track_id': 362, 'album_id': 30, 'song': 'Gavioes 2001', 'media_type': 'MPEG audio file', 'bytes': 9616640}  ... displaying 10 of 50 total bound parameter sets ...  {'track_id': 403, 'album_id': 32, 'song': 'Bumbo Da Mangueira', 'media_type': 'MPEG audio file', 'bytes': 9073350}, {'track_id': 404, 'album_id': 32, 'song': 'Mr Funk Samba', 'media_type': 'MPEG audio file', 'bytes': 7102545})\n",
      "2021-12-07 15:05:43,499 INFO sqlalchemy.engine.base.Engine INSERT INTO jch5x8.track (track_id, album_id, song, media_type, bytes) VALUES (%(track_id)s, %(album_id)s, %(song)s, %(media_type)s, %(bytes)s)\n",
      "2021-12-07 15:05:43,499 INFO sqlalchemy.engine.base.Engine ({'track_id': 405, 'album_id': 32, 'song': 'Santo Antonio', 'media_type': 'MPEG audio file', 'bytes': 5492069}, {'track_id': 406, 'album_id': 32, 'song': 'Por Você', 'media_type': 'MPEG audio file', 'bytes': 6792493}, {'track_id': 407, 'album_id': 32, 'song': 'Só Tinha De Ser Com Você', 'media_type': 'MPEG audio file', 'bytes': 13085596}, {'track_id': 408, 'album_id': 33, 'song': 'Free Speech For The Dumb', 'media_type': 'MPEG audio file', 'bytes': 5076048}, {'track_id': 409, 'album_id': 33, 'song': \"It's Electric\", 'media_type': 'MPEG audio file', 'bytes': 6978601}, {'track_id': 410, 'album_id': 33, 'song': 'Sabbra Cadabra', 'media_type': 'MPEG audio file', 'bytes': 12418147}, {'track_id': 411, 'album_id': 33, 'song': 'Turn The Page', 'media_type': 'MPEG audio file', 'bytes': 11946327}, {'track_id': 412, 'album_id': 33, 'song': 'Die Die My Darling', 'media_type': 'MPEG audio file', 'bytes': 4867667}  ... displaying 10 of 50 total bound parameter sets ...  {'track_id': 453, 'album_id': 35, 'song': 'Cold Gin', 'media_type': 'MPEG audio file', 'bytes': 8609783}, {'track_id': 454, 'album_id': 35, 'song': 'Plaster Caster', 'media_type': 'MPEG audio file', 'bytes': 6801116})\n",
      "2021-12-07 15:05:43,511 INFO sqlalchemy.engine.base.Engine INSERT INTO jch5x8.track (track_id, album_id, song, media_type, bytes) VALUES (%(track_id)s, %(album_id)s, %(song)s, %(media_type)s, %(bytes)s)\n",
      "2021-12-07 15:05:43,511 INFO sqlalchemy.engine.base.Engine ({'track_id': 455, 'album_id': 35, 'song': \"God Gave Rock 'n' Roll To You\", 'media_type': 'MPEG audio file', 'bytes': 10441590}, {'track_id': 456, 'album_id': 36, 'song': 'Heart of the Night', 'media_type': 'MPEG audio file', 'bytes': 9098263}, {'track_id': 457, 'album_id': 36, 'song': 'De La Luz', 'media_type': 'MPEG audio file', 'bytes': 10518284}, {'track_id': 458, 'album_id': 36, 'song': 'Westwood Moon', 'media_type': 'MPEG audio file', 'bytes': 9765802}, {'track_id': 459, 'album_id': 36, 'song': 'Midnight', 'media_type': 'MPEG audio file', 'bytes': 8851060}, {'track_id': 460, 'album_id': 36, 'song': 'Playtime', 'media_type': 'MPEG audio file', 'bytes': 9070880}, {'track_id': 461, 'album_id': 36, 'song': 'Surrender', 'media_type': 'MPEG audio file', 'bytes': 9422926}, {'track_id': 462, 'album_id': 36, 'song': \"Valentino's\", 'media_type': 'MPEG audio file', 'bytes': 9848545}  ... displaying 10 of 50 total bound parameter sets ...  {'track_id': 503, 'album_id': 39, 'song': 'Começaria Tudo Outra Vez', 'media_type': 'MPEG audio file', 'bytes': 6473395}, {'track_id': 504, 'album_id': 39, 'song': 'O Que É O Que É ?', 'media_type': 'MPEG audio file', 'bytes': 8650647})\n",
      "2021-12-07 15:05:43,521 INFO sqlalchemy.engine.base.Engine INSERT INTO jch5x8.track (track_id, album_id, song, media_type, bytes) VALUES (%(track_id)s, %(album_id)s, %(song)s, %(media_type)s, %(bytes)s)\n",
      "2021-12-07 15:05:43,522 INFO sqlalchemy.engine.base.Engine ({'track_id': 505, 'album_id': 39, 'song': 'Sangrando', 'media_type': 'MPEG audio file', 'bytes': 5494406}, {'track_id': 506, 'album_id': 39, 'song': 'Diga Lá, Coração', 'media_type': 'MPEG audio file', 'bytes': 8280636}, {'track_id': 507, 'album_id': 39, 'song': 'Lindo Lago Do Amor', 'media_type': 'MPEG audio file', 'bytes': 8353191}, {'track_id': 508, 'album_id': 39, 'song': 'Eu Apenas Queria Que Voçê Soubesse', 'media_type': 'MPEG audio file', 'bytes': 5130056}, {'track_id': 509, 'album_id': 39, 'song': 'Com A Perna No Mundo', 'media_type': 'MPEG audio file', 'bytes': 7747108}, {'track_id': 510, 'album_id': 39, 'song': 'E Vamos À Luta', 'media_type': 'MPEG audio file', 'bytes': 7585112}, {'track_id': 511, 'album_id': 39, 'song': 'Um Homem Também Chora (Guerreiro Menino)', 'media_type': 'MPEG audio file', 'bytes': 6854219}, {'track_id': 512, 'album_id': 39, 'song': 'Comportamento Geral', 'media_type': 'MPEG audio file', 'bytes': 5997444}  ... displaying 10 of 50 total bound parameter sets ...  {'track_id': 553, 'album_id': 42, 'song': 'Houses Of The Holy', 'media_type': 'MPEG audio file', 'bytes': 7972503}, {'track_id': 554, 'album_id': 42, 'song': 'Trampled Under Foot', 'media_type': 'MPEG audio file', 'bytes': 11154468})\n",
      "2021-12-07 15:05:43,533 INFO sqlalchemy.engine.base.Engine INSERT INTO jch5x8.track (track_id, album_id, song, media_type, bytes) VALUES (%(track_id)s, %(album_id)s, %(song)s, %(media_type)s, %(bytes)s)\n",
      "2021-12-07 15:05:43,533 INFO sqlalchemy.engine.base.Engine ({'track_id': 555, 'album_id': 42, 'song': 'Kashmir', 'media_type': 'MPEG audio file', 'bytes': 16686580}, {'track_id': 556, 'album_id': 43, 'song': 'Imperatriz', 'media_type': 'MPEG audio file', 'bytes': 11348710}, {'track_id': 557, 'album_id': 43, 'song': 'Beija-Flor', 'media_type': 'MPEG audio file', 'bytes': 10991159}, {'track_id': 558, 'album_id': 43, 'song': 'Viradouro', 'media_type': 'MPEG audio file', 'bytes': 11484362}, {'track_id': 559, 'album_id': 43, 'song': 'Mocidade', 'media_type': 'MPEG audio file', 'bytes': 8817757}, {'track_id': 560, 'album_id': 43, 'song': 'Unidos Da Tijuca', 'media_type': 'MPEG audio file', 'bytes': 11440689}, {'track_id': 561, 'album_id': 43, 'song': 'Salgueiro', 'media_type': 'MPEG audio file', 'bytes': 10294741}, {'track_id': 562, 'album_id': 43, 'song': 'Mangueira', 'media_type': 'MPEG audio file', 'bytes': 9999506}  ... displaying 10 of 50 total bound parameter sets ...  {'track_id': 603, 'album_id': 46, 'song': 'Bye Bye Blackbird', 'media_type': 'MPEG audio file', 'bytes': 15549224}, {'track_id': 604, 'album_id': 46, 'song': 'New Rhumba', 'media_type': 'MPEG audio file', 'bytes': 9018024})\n"
     ]
    },
    {
     "name": "stdout",
     "output_type": "stream",
     "text": [
      "2021-12-07 15:05:43,549 INFO sqlalchemy.engine.base.Engine INSERT INTO jch5x8.track (track_id, album_id, song, media_type, bytes) VALUES (%(track_id)s, %(album_id)s, %(song)s, %(media_type)s, %(bytes)s)\n",
      "2021-12-07 15:05:43,550 INFO sqlalchemy.engine.base.Engine ({'track_id': 605, 'album_id': 46, 'song': 'Generique', 'media_type': 'MPEG audio file', 'bytes': 5437017}, {'track_id': 606, 'album_id': 46, 'song': 'Summertime', 'media_type': 'MPEG audio file', 'bytes': 6461370}, {'track_id': 607, 'album_id': 46, 'song': 'So What', 'media_type': 'MPEG audio file', 'bytes': 18360449}, {'track_id': 608, 'album_id': 46, 'song': 'The Pan Piper', 'media_type': 'MPEG audio file', 'bytes': 7593713}, {'track_id': 609, 'album_id': 46, 'song': 'Someday My Prince Will Come', 'media_type': 'MPEG audio file', 'bytes': 17890773}, {'track_id': 610, 'album_id': 47, 'song': 'My Funny Valentine (Live)', 'media_type': 'MPEG audio file', 'bytes': 29416781}, {'track_id': 611, 'album_id': 47, 'song': 'E.S.P.', 'media_type': 'MPEG audio file', 'bytes': 11079866}, {'track_id': 612, 'album_id': 47, 'song': 'Nefertiti', 'media_type': 'MPEG audio file', 'bytes': 15478450}  ... displaying 10 of 50 total bound parameter sets ...  {'track_id': 653, 'album_id': 50, 'song': 'Como É Duro Trabalhar', 'media_type': 'MPEG audio file', 'bytes': 7541177}, {'track_id': 654, 'album_id': 50, 'song': 'Minha Namorada', 'media_type': 'MPEG audio file', 'bytes': 7927967})\n",
      "2021-12-07 15:05:43,560 INFO sqlalchemy.engine.base.Engine INSERT INTO jch5x8.track (track_id, album_id, song, media_type, bytes) VALUES (%(track_id)s, %(album_id)s, %(song)s, %(media_type)s, %(bytes)s)\n",
      "2021-12-07 15:05:43,561 INFO sqlalchemy.engine.base.Engine ({'track_id': 655, 'album_id': 50, 'song': 'Por Que Será', 'media_type': 'MPEG audio file', 'bytes': 5371483}, {'track_id': 656, 'album_id': 50, 'song': 'Berimbau', 'media_type': 'MPEG audio file', 'bytes': 6335548}, {'track_id': 657, 'album_id': 50, 'song': 'Deixa', 'media_type': 'MPEG audio file', 'bytes': 5932799}, {'track_id': 658, 'album_id': 50, 'song': 'Pot-Pourri N.º 2', 'media_type': 'MPEG audio file', 'bytes': 6878359}, {'track_id': 659, 'album_id': 50, 'song': 'Samba Em Prelúdio', 'media_type': 'MPEG audio file', 'bytes': 6923473}, {'track_id': 660, 'album_id': 50, 'song': 'Carta Ao Tom 74', 'media_type': 'MPEG audio file', 'bytes': 5382354}, {'track_id': 661, 'album_id': 51, 'song': 'Linha de Passe (João Bosco)', 'media_type': 'MPEG audio file', 'bytes': 7902328}, {'track_id': 662, 'album_id': 51, 'song': 'Pela Luz dos Olhos Teus (Miúcha e Tom Jobim)', 'media_type': 'MPEG audio file', 'bytes': 5399626}  ... displaying 10 of 50 total bound parameter sets ...  {'track_id': 703, 'album_id': 53, 'song': 'It Came Out Of The Sky', 'media_type': 'MPEG audio file', 'bytes': 5807474}, {'track_id': 704, 'album_id': 53, 'song': \"Don't Look Now\", 'media_type': 'MPEG audio file', 'bytes': 4366455})\n",
      "2021-12-07 15:05:43,571 INFO sqlalchemy.engine.base.Engine INSERT INTO jch5x8.track (track_id, album_id, song, media_type, bytes) VALUES (%(track_id)s, %(album_id)s, %(song)s, %(media_type)s, %(bytes)s)\n",
      "2021-12-07 15:05:43,571 INFO sqlalchemy.engine.base.Engine ({'track_id': 705, 'album_id': 53, 'song': 'The Midnight Special', 'media_type': 'MPEG audio file', 'bytes': 8297482}, {'track_id': 706, 'album_id': 53, 'song': 'Before You Accuse Me', 'media_type': 'MPEG audio file', 'bytes': 6815126}, {'track_id': 707, 'album_id': 53, 'song': 'My Baby Left Me', 'media_type': 'MPEG audio file', 'bytes': 4633440}, {'track_id': 708, 'album_id': 53, 'song': 'Pagan Baby', 'media_type': 'MPEG audio file', 'bytes': 12713813}, {'track_id': 709, 'album_id': 53, 'song': '(Wish I Could) Hideaway', 'media_type': 'MPEG audio file', 'bytes': 7432978}, {'track_id': 710, 'album_id': 53, 'song': \"It's Just A Thought\", 'media_type': 'MPEG audio file', 'bytes': 7778319}, {'track_id': 711, 'album_id': 53, 'song': 'Molina', 'media_type': 'MPEG audio file', 'bytes': 5390811}, {'track_id': 712, 'album_id': 53, 'song': 'Born To Move', 'media_type': 'MPEG audio file', 'bytes': 11260814}  ... displaying 10 of 50 total bound parameter sets ...  {'track_id': 753, 'album_id': 56, 'song': 'You Keep On Moving', 'media_type': 'MPEG audio file', 'bytes': 10447868}, {'track_id': 754, 'album_id': 57, 'song': 'Speed King', 'media_type': 'MPEG audio file', 'bytes': 8587578})\n",
      "2021-12-07 15:05:43,581 INFO sqlalchemy.engine.base.Engine INSERT INTO jch5x8.track (track_id, album_id, song, media_type, bytes) VALUES (%(track_id)s, %(album_id)s, %(song)s, %(media_type)s, %(bytes)s)\n",
      "2021-12-07 15:05:43,582 INFO sqlalchemy.engine.base.Engine ({'track_id': 755, 'album_id': 57, 'song': 'Bloodsucker', 'media_type': 'MPEG audio file', 'bytes': 8344405}, {'track_id': 756, 'album_id': 57, 'song': 'Child In Time', 'media_type': 'MPEG audio file', 'bytes': 20230089}, {'track_id': 757, 'album_id': 57, 'song': 'Flight Of The Rat', 'media_type': 'MPEG audio file', 'bytes': 15563967}, {'track_id': 758, 'album_id': 57, 'song': 'Into The Fire', 'media_type': 'MPEG audio file', 'bytes': 6849310}, {'track_id': 759, 'album_id': 57, 'song': 'Living Wreck', 'media_type': 'MPEG audio file', 'bytes': 8993056}, {'track_id': 760, 'album_id': 57, 'song': \"Hard Lovin' Man\", 'media_type': 'MPEG audio file', 'bytes': 13931179}, {'track_id': 761, 'album_id': 58, 'song': 'Fireball', 'media_type': 'MPEG audio file', 'bytes': 6714807}, {'track_id': 762, 'album_id': 58, 'song': 'No No No', 'media_type': 'MPEG audio file', 'bytes': 13646606}  ... displaying 10 of 50 total bound parameter sets ...  {'track_id': 803, 'album_id': 62, 'song': 'Love Conquers All', 'media_type': 'MPEG audio file', 'bytes': 7328516}, {'track_id': 804, 'album_id': 62, 'song': 'Fortuneteller', 'media_type': 'MPEG audio file', 'bytes': 11369671})\n",
      "2021-12-07 15:05:43,592 INFO sqlalchemy.engine.base.Engine INSERT INTO jch5x8.track (track_id, album_id, song, media_type, bytes) VALUES (%(track_id)s, %(album_id)s, %(song)s, %(media_type)s, %(bytes)s)\n",
      "2021-12-07 15:05:43,593 INFO sqlalchemy.engine.base.Engine ({'track_id': 805, 'album_id': 62, 'song': 'Too Much Is Not Enough', 'media_type': 'MPEG audio file', 'bytes': 8382800}, {'track_id': 806, 'album_id': 62, 'song': 'Wicked Ways', 'media_type': 'MPEG audio file', 'bytes': 12826582}, {'track_id': 807, 'album_id': 41, 'song': 'Stormbringer', 'media_type': 'MPEG audio file', 'bytes': 8044864}, {'track_id': 808, 'album_id': 63, 'song': \"Love Don't Mean a Thing\", 'media_type': 'MPEG audio file', 'bytes': 8675026}, {'track_id': 809, 'album_id': 63, 'song': 'Holy Man', 'media_type': 'MPEG audio file', 'bytes': 8818093}, {'track_id': 810, 'album_id': 63, 'song': 'Hold On', 'media_type': 'MPEG audio file', 'bytes': 10022428}, {'track_id': 811, 'album_id': 41, 'song': 'Lady Double Dealer', 'media_type': 'MPEG audio file', 'bytes': 6554330}, {'track_id': 812, 'album_id': 63, 'song': \"You Can't Do it Right (With the One You Love)\", 'media_type': 'MPEG audio file', 'bytes': 6709579}  ... displaying 10 of 50 total bound parameter sets ...  {'track_id': 853, 'album_id': 67, 'song': 'Cigano', 'media_type': 'MPEG audio file', 'bytes': 10037362}, {'track_id': 854, 'album_id': 67, 'song': 'Boa Noite', 'media_type': 'MPEG audio file', 'bytes': 11283582})\n",
      "2021-12-07 15:05:43,603 INFO sqlalchemy.engine.base.Engine INSERT INTO jch5x8.track (track_id, album_id, song, media_type, bytes) VALUES (%(track_id)s, %(album_id)s, %(song)s, %(media_type)s, %(bytes)s)\n",
      "2021-12-07 15:05:43,603 INFO sqlalchemy.engine.base.Engine ({'track_id': 855, 'album_id': 67, 'song': 'Fato Consumado', 'media_type': 'MPEG audio file', 'bytes': 7018586}, {'track_id': 856, 'album_id': 67, 'song': 'Faltando Um Pedaço', 'media_type': 'MPEG audio file', 'bytes': 8788760}, {'track_id': 857, 'album_id': 67, 'song': 'Álibi', 'media_type': 'MPEG audio file', 'bytes': 6928434}, {'track_id': 858, 'album_id': 67, 'song': 'Esquinas', 'media_type': 'MPEG audio file', 'bytes': 9096726}, {'track_id': 859, 'album_id': 67, 'song': 'Se...', 'media_type': 'MPEG audio file', 'bytes': 9413777}, {'track_id': 860, 'album_id': 67, 'song': 'Eu Te Devoro', 'media_type': 'MPEG audio file', 'bytes': 10312775}, {'track_id': 861, 'album_id': 67, 'song': 'Lilás', 'media_type': 'MPEG audio file', 'bytes': 9049542}, {'track_id': 862, 'album_id': 67, 'song': 'Acelerou', 'media_type': 'MPEG audio file', 'bytes': 9396942}  ... displaying 10 of 50 total bound parameter sets ...  {'track_id': 903, 'album_id': 70, 'song': 'Lay Down Sally', 'media_type': 'MPEG audio file', 'bytes': 7774207}, {'track_id': 904, 'album_id': 70, 'song': 'Knockin On Heavens Door', 'media_type': 'MPEG audio file', 'bytes': 8758819})\n"
     ]
    },
    {
     "name": "stdout",
     "output_type": "stream",
     "text": [
      "2021-12-07 15:05:43,613 INFO sqlalchemy.engine.base.Engine INSERT INTO jch5x8.track (track_id, album_id, song, media_type, bytes) VALUES (%(track_id)s, %(album_id)s, %(song)s, %(media_type)s, %(bytes)s)\n",
      "2021-12-07 15:05:43,614 INFO sqlalchemy.engine.base.Engine ({'track_id': 905, 'album_id': 70, 'song': 'Wonderful Tonight', 'media_type': 'MPEG audio file', 'bytes': 7326923}, {'track_id': 906, 'album_id': 70, 'song': 'Let It Grow', 'media_type': 'MPEG audio file', 'bytes': 9742568}, {'track_id': 907, 'album_id': 70, 'song': 'Promises', 'media_type': 'MPEG audio file', 'bytes': 6006154}, {'track_id': 908, 'album_id': 70, 'song': \"I Can't Stand It\", 'media_type': 'MPEG audio file', 'bytes': 8271980}, {'track_id': 909, 'album_id': 71, 'song': 'Signe', 'media_type': 'MPEG audio file', 'bytes': 6475042}, {'track_id': 910, 'album_id': 53, 'song': 'Before You Accuse Me', 'media_type': 'MPEG audio file', 'bytes': 7456807}, {'track_id': 911, 'album_id': 71, 'song': 'Hey Hey', 'media_type': 'MPEG audio file', 'bytes': 6543487}, {'track_id': 912, 'album_id': 71, 'song': 'Tears In Heaven', 'media_type': 'MPEG audio file', 'bytes': 9032835}  ... displaying 10 of 50 total bound parameter sets ...  {'track_id': 953, 'album_id': 74, 'song': 'Star A.D.', 'media_type': 'MPEG audio file', 'bytes': 6747658}, {'track_id': 954, 'album_id': 74, 'song': 'Cuckoo For Caca', 'media_type': 'MPEG audio file', 'bytes': 7388369})\n",
      "2021-12-07 15:05:43,623 INFO sqlalchemy.engine.base.Engine INSERT INTO jch5x8.track (track_id, album_id, song, media_type, bytes) VALUES (%(track_id)s, %(album_id)s, %(song)s, %(media_type)s, %(bytes)s)\n",
      "2021-12-07 15:05:43,624 INFO sqlalchemy.engine.base.Engine ({'track_id': 955, 'album_id': 74, 'song': 'Caralho Voador', 'media_type': 'MPEG audio file', 'bytes': 8029054}, {'track_id': 956, 'album_id': 74, 'song': 'Ugly In The Morning', 'media_type': 'MPEG audio file', 'bytes': 6224997}, {'track_id': 957, 'album_id': 74, 'song': 'Digging The Grave', 'media_type': 'MPEG audio file', 'bytes': 6109259}, {'track_id': 958, 'album_id': 74, 'song': 'Take This Bottle', 'media_type': 'MPEG audio file', 'bytes': 9779971}, {'track_id': 959, 'album_id': 74, 'song': 'King For A Day', 'media_type': 'MPEG audio file', 'bytes': 13163733}, {'track_id': 960, 'album_id': 74, 'song': 'What A Day', 'media_type': 'MPEG audio file', 'bytes': 5203430}, {'track_id': 961, 'album_id': 74, 'song': 'The Last To Know', 'media_type': 'MPEG audio file', 'bytes': 8736776}, {'track_id': 962, 'album_id': 74, 'song': 'Just A Man', 'media_type': 'MPEG audio file', 'bytes': 11031254}  ... displaying 10 of 50 total bound parameter sets ...  {'track_id': 1003, 'album_id': 78, 'song': 'Friend Of A Friend', 'media_type': 'MPEG audio file', 'bytes': 6355088}, {'track_id': 1004, 'album_id': 78, 'song': 'Over And Out', 'media_type': 'MPEG audio file', 'bytes': 10428382})\n",
      "2021-12-07 15:05:43,634 INFO sqlalchemy.engine.base.Engine INSERT INTO jch5x8.track (track_id, album_id, song, media_type, bytes) VALUES (%(track_id)s, %(album_id)s, %(song)s, %(media_type)s, %(bytes)s)\n",
      "2021-12-07 15:05:43,634 INFO sqlalchemy.engine.base.Engine ({'track_id': 1005, 'album_id': 78, 'song': 'On The Mend', 'media_type': 'MPEG audio file', 'bytes': 9071997}, {'track_id': 1006, 'album_id': 78, 'song': 'Virginia Moon', 'media_type': 'MPEG audio file', 'bytes': 7494639}, {'track_id': 1007, 'album_id': 78, 'song': 'Cold Day In The Sun', 'media_type': 'MPEG audio file', 'bytes': 6596617}, {'track_id': 1008, 'album_id': 78, 'song': 'Razor', 'media_type': 'MPEG audio file', 'bytes': 9721373}, {'track_id': 1009, 'album_id': 79, 'song': 'All My Life', 'media_type': 'MPEG audio file', 'bytes': 8665545}, {'track_id': 1010, 'album_id': 79, 'song': 'Low', 'media_type': 'MPEG audio file', 'bytes': 8847196}, {'track_id': 1011, 'album_id': 79, 'song': 'Have It All', 'media_type': 'MPEG audio file', 'bytes': 9729292}, {'track_id': 1012, 'album_id': 79, 'song': 'Times Like These', 'media_type': 'MPEG audio file', 'bytes': 8624691}  ... displaying 10 of 50 total bound parameter sets ...  {'track_id': 1053, 'album_id': 81, 'song': 'Bad, Bad Leroy Brown', 'media_type': 'MPEG audio file', 'bytes': 5548581}, {'track_id': 1054, 'album_id': 81, 'song': 'Mack The Knife', 'media_type': 'MPEG audio file', 'bytes': 9541052})\n",
      "2021-12-07 15:05:43,645 INFO sqlalchemy.engine.base.Engine INSERT INTO jch5x8.track (track_id, album_id, song, media_type, bytes) VALUES (%(track_id)s, %(album_id)s, %(song)s, %(media_type)s, %(bytes)s)\n",
      "2021-12-07 15:05:43,645 INFO sqlalchemy.engine.base.Engine ({'track_id': 1055, 'album_id': 81, 'song': 'Loves Been Good To Me', 'media_type': 'MPEG audio file', 'bytes': 6645365}, {'track_id': 1056, 'album_id': 81, 'song': 'L.A. Is My Lady', 'media_type': 'MPEG audio file', 'bytes': 6378511}, {'track_id': 1057, 'album_id': 82, 'song': 'Entrando Na Sua (Intro)', 'media_type': 'MPEG audio file', 'bytes': 5840027}, {'track_id': 1058, 'album_id': 82, 'song': 'Nervosa', 'media_type': 'MPEG audio file', 'bytes': 7680421}, {'track_id': 1059, 'album_id': 82, 'song': 'Funk De Bamba (Com Fernanda Abreu)', 'media_type': 'MPEG audio file', 'bytes': 7866165}, {'track_id': 1060, 'album_id': 82, 'song': 'Call Me At Cleo´s', 'media_type': 'MPEG audio file', 'bytes': 7920510}, {'track_id': 1061, 'album_id': 82, 'song': 'Olhos Coloridos (Com Sandra De Sá)', 'media_type': 'MPEG audio file', 'bytes': 10567404}, {'track_id': 1062, 'album_id': 82, 'song': 'Zambação', 'media_type': 'MPEG audio file', 'bytes': 10030604}  ... displaying 10 of 50 total bound parameter sets ...  {'track_id': 1103, 'album_id': 85, 'song': 'Lamento De Carnaval', 'media_type': 'MPEG audio file', 'bytes': 9819276}, {'track_id': 1104, 'album_id': 85, 'song': 'Pretinha', 'media_type': 'MPEG audio file', 'bytes': 8914579})\n",
      "2021-12-07 15:05:43,656 INFO sqlalchemy.engine.base.Engine INSERT INTO jch5x8.track (track_id, album_id, song, media_type, bytes) VALUES (%(track_id)s, %(album_id)s, %(song)s, %(media_type)s, %(bytes)s)\n",
      "2021-12-07 15:05:43,656 INFO sqlalchemy.engine.base.Engine ({'track_id': 1105, 'album_id': 71, 'song': 'A Novidade', 'media_type': 'MPEG audio file', 'bytes': 10765600}, {'track_id': 1106, 'album_id': 71, 'song': 'Tenho Sede', 'media_type': 'MPEG audio file', 'bytes': 8708114}, {'track_id': 1107, 'album_id': 71, 'song': 'Refazenda', 'media_type': 'MPEG audio file', 'bytes': 7237784}, {'track_id': 1108, 'album_id': 71, 'song': 'Realce', 'media_type': 'MPEG audio file', 'bytes': 8847612}, {'track_id': 1109, 'album_id': 71, 'song': 'Esotérico', 'media_type': 'MPEG audio file', 'bytes': 10530533}, {'track_id': 1110, 'album_id': 19, 'song': 'Drão', 'media_type': 'MPEG audio file', 'bytes': 9931950}, {'track_id': 1111, 'album_id': 31, 'song': 'A Paz', 'media_type': 'MPEG audio file', 'bytes': 9593064}, {'track_id': 1112, 'album_id': 71, 'song': 'Beira Mar', 'media_type': 'MPEG audio file', 'bytes': 9597994}  ... displaying 10 of 50 total bound parameter sets ...  {'track_id': 1181, 'album_id': 89, 'song': 'Pretty Tied Up', 'media_type': 'MPEG audio file', 'bytes': 9408754}, {'track_id': 1182, 'album_id': 89, 'song': 'Locomotive', 'media_type': 'MPEG audio file', 'bytes': 17236842})\n",
      "2021-12-07 15:05:43,666 INFO sqlalchemy.engine.base.Engine INSERT INTO jch5x8.track (track_id, album_id, song, media_type, bytes) VALUES (%(track_id)s, %(album_id)s, %(song)s, %(media_type)s, %(bytes)s)\n",
      "2021-12-07 15:05:43,667 INFO sqlalchemy.engine.base.Engine ({'track_id': 1183, 'album_id': 89, 'song': 'So Fine', 'media_type': 'MPEG audio file', 'bytes': 8039484}, {'track_id': 1184, 'album_id': 89, 'song': 'Estranged', 'media_type': 'MPEG audio file', 'bytes': 18343787}, {'track_id': 1185, 'album_id': 89, 'song': 'You Could Be Mine', 'media_type': 'MPEG audio file', 'bytes': 11207355}, {'track_id': 1186, 'album_id': 89, 'song': \"Don't Cry\", 'media_type': 'MPEG audio file', 'bytes': 9222458}, {'track_id': 1187, 'album_id': 89, 'song': 'My World', 'media_type': 'MPEG audio file', 'bytes': 2764045}, {'track_id': 1188, 'album_id': 90, 'song': 'Colibri', 'media_type': 'MPEG audio file', 'bytes': 12055329}, {'track_id': 1189, 'album_id': 90, 'song': 'Love Is The Colour', 'media_type': 'MPEG audio file', 'bytes': 8419165}, {'track_id': 1190, 'album_id': 90, 'song': 'Magnetic Ocean', 'media_type': 'MPEG audio file', 'bytes': 10720741}  ... displaying 10 of 50 total bound parameter sets ...  {'track_id': 1242, 'album_id': 93, 'song': 'The Nomad', 'media_type': 'MPEG audio file', 'bytes': 21846144}, {'track_id': 1243, 'album_id': 93, 'song': 'Out Of The Silent Planet', 'media_type': 'MPEG audio file', 'bytes': 15423616})\n"
     ]
    },
    {
     "name": "stdout",
     "output_type": "stream",
     "text": [
      "2021-12-07 15:05:43,677 INFO sqlalchemy.engine.base.Engine INSERT INTO jch5x8.track (track_id, album_id, song, media_type, bytes) VALUES (%(track_id)s, %(album_id)s, %(song)s, %(media_type)s, %(bytes)s)\n",
      "2021-12-07 15:05:43,678 INFO sqlalchemy.engine.base.Engine ({'track_id': 1244, 'album_id': 93, 'song': 'The Thin Line Between Love & Hate', 'media_type': 'MPEG audio file', 'bytes': 20273280}, {'track_id': 1245, 'album_id': 94, 'song': 'Wildest Dreams', 'media_type': 'MPEG audio file', 'bytes': 9312384}, {'track_id': 1246, 'album_id': 94, 'song': 'Rainmaker', 'media_type': 'MPEG audio file', 'bytes': 9146496}, {'track_id': 1247, 'album_id': 94, 'song': 'No More Lies', 'media_type': 'MPEG audio file', 'bytes': 17672320}, {'track_id': 1248, 'album_id': 94, 'song': 'Montsegur', 'media_type': 'MPEG audio file', 'bytes': 14020736}, {'track_id': 1249, 'album_id': 94, 'song': 'Dance Of Death', 'media_type': 'MPEG audio file', 'bytes': 20670727}, {'track_id': 1250, 'album_id': 94, 'song': 'Gates Of Tomorrow', 'media_type': 'MPEG audio file', 'bytes': 12482688}, {'track_id': 1251, 'album_id': 94, 'song': 'New Frontier', 'media_type': 'MPEG audio file', 'bytes': 12181632}  ... displaying 10 of 50 total bound parameter sets ...  {'track_id': 1292, 'album_id': 98, 'song': 'Flight Of Icarus', 'media_type': 'MPEG audio file', 'bytes': 5521744}, {'track_id': 1293, 'album_id': 98, 'song': 'Rime Of The Ancient Mariner', 'media_type': 'MPEG audio file', 'bytes': 18949518})\n",
      "2021-12-07 15:05:43,688 INFO sqlalchemy.engine.base.Engine INSERT INTO jch5x8.track (track_id, album_id, song, media_type, bytes) VALUES (%(track_id)s, %(album_id)s, %(song)s, %(media_type)s, %(bytes)s)\n",
      "2021-12-07 15:05:43,689 INFO sqlalchemy.engine.base.Engine ({'track_id': 1294, 'album_id': 98, 'song': 'Powerslave', 'media_type': 'MPEG audio file', 'bytes': 10921567}, {'track_id': 1295, 'album_id': 91, 'song': 'The Number Of The Beast', 'media_type': 'MPEG audio file', 'bytes': 6605094}, {'track_id': 1296, 'album_id': 91, 'song': 'Hallowed Be Thy Name', 'media_type': 'MPEG audio file', 'bytes': 10836304}, {'track_id': 1297, 'album_id': 91, 'song': 'Iron Maiden', 'media_type': 'MPEG audio file', 'bytes': 6289117}, {'track_id': 1298, 'album_id': 98, 'song': 'Run To The Hills', 'media_type': 'MPEG audio file', 'bytes': 5561241}, {'track_id': 1299, 'album_id': 91, 'song': 'Running Free', 'media_type': 'MPEG audio file', 'bytes': 4912986}, {'track_id': 1300, 'album_id': 97, 'song': 'Wrathchild', 'media_type': 'MPEG audio file', 'bytes': 4410181}, {'track_id': 1301, 'album_id': 98, 'song': 'Acacia Avenue', 'media_type': 'MPEG audio file', 'bytes': 9119118}  ... displaying 10 of 50 total bound parameter sets ...  {'track_id': 1342, 'album_id': 103, 'song': 'Sun And Steel', 'media_type': 'MPEG audio file', 'bytes': 3306324}, {'track_id': 1343, 'album_id': 103, 'song': 'To Tame A Land', 'media_type': 'MPEG audio file', 'bytes': 7129264})\n",
      "2021-12-07 15:05:43,702 INFO sqlalchemy.engine.base.Engine INSERT INTO jch5x8.track (track_id, album_id, song, media_type, bytes) VALUES (%(track_id)s, %(album_id)s, %(song)s, %(media_type)s, %(bytes)s)\n",
      "2021-12-07 15:05:43,702 INFO sqlalchemy.engine.base.Engine ({'track_id': 1344, 'album_id': 98, 'song': 'Aces High', 'media_type': 'MPEG audio file', 'bytes': 6472088}, {'track_id': 1345, 'album_id': 91, 'song': '2 Minutes To Midnight', 'media_type': 'MPEG audio file', 'bytes': 8638809}, {'track_id': 1346, 'album_id': 104, 'song': 'Losfer Words', 'media_type': 'MPEG audio file', 'bytes': 6074756}, {'track_id': 1347, 'album_id': 104, 'song': 'Flash of The Blade', 'media_type': 'MPEG audio file', 'bytes': 5828861}, {'track_id': 1348, 'album_id': 104, 'song': 'Duelists', 'media_type': 'MPEG audio file', 'bytes': 8800686}, {'track_id': 1349, 'album_id': 104, 'song': 'Back in the Village', 'media_type': 'MPEG audio file', 'bytes': 7696518}, {'track_id': 1350, 'album_id': 98, 'song': 'Powerslave', 'media_type': 'MPEG audio file', 'bytes': 9791106}, {'track_id': 1351, 'album_id': 98, 'song': 'Rime of the Ancient Mariner', 'media_type': 'MPEG audio file', 'bytes': 19599577}  ... displaying 10 of 50 total bound parameter sets ...  {'track_id': 1392, 'album_id': 98, 'song': 'Run to the Hills', 'media_type': 'MPEG audio file', 'bytes': 3209124}, {'track_id': 1393, 'album_id': 91, 'song': 'The Number Of The Beast', 'media_type': 'MPEG audio file', 'bytes': 11737216})\n",
      "2021-12-07 15:05:43,712 INFO sqlalchemy.engine.base.Engine INSERT INTO jch5x8.track (track_id, album_id, song, media_type, bytes) VALUES (%(track_id)s, %(album_id)s, %(song)s, %(media_type)s, %(bytes)s)\n",
      "2021-12-07 15:05:43,712 INFO sqlalchemy.engine.base.Engine ({'track_id': 1394, 'album_id': 110, 'song': 'The Prisoner', 'media_type': 'MPEG audio file', 'bytes': 5062906}, {'track_id': 1395, 'album_id': 105, 'song': 'Sign Of The Cross', 'media_type': 'MPEG audio file', 'bytes': 27121792}, {'track_id': 1396, 'album_id': 112, 'song': 'Lord Of The Flies', 'media_type': 'MPEG audio file', 'bytes': 12148864}, {'track_id': 1397, 'album_id': 112, 'song': 'Man On The Edge', 'media_type': 'MPEG audio file', 'bytes': 10137728}, {'track_id': 1398, 'album_id': 112, 'song': 'Fortunes Of War', 'media_type': 'MPEG audio file', 'bytes': 17760384}, {'track_id': 1399, 'album_id': 112, 'song': 'Look For The Truth', 'media_type': 'MPEG audio file', 'bytes': 12411008}, {'track_id': 1400, 'album_id': 112, 'song': 'The Aftermath', 'media_type': 'MPEG audio file', 'bytes': 15233152}, {'track_id': 1401, 'album_id': 112, 'song': 'Judgement Of Heaven', 'media_type': 'MPEG audio file', 'bytes': 12501120}  ... displaying 10 of 50 total bound parameter sets ...  {'track_id': 1442, 'album_id': 115, 'song': 'Revolution 1993', 'media_type': 'MPEG audio file', 'bytes': 20816872}, {'track_id': 1443, 'album_id': 115, 'song': \"Didgin' Out\", 'media_type': 'MPEG audio file', 'bytes': 5263555})\n",
      "2021-12-07 15:05:43,730 INFO sqlalchemy.engine.base.Engine INSERT INTO jch5x8.track (track_id, album_id, song, media_type, bytes) VALUES (%(track_id)s, %(album_id)s, %(song)s, %(media_type)s, %(bytes)s)\n",
      "2021-12-07 15:05:43,731 INFO sqlalchemy.engine.base.Engine ({'track_id': 1444, 'album_id': 116, 'song': 'Canned Heat', 'media_type': 'MPEG audio file', 'bytes': 11042037}, {'track_id': 1445, 'album_id': 116, 'song': 'Planet Home', 'media_type': 'MPEG audio file', 'bytes': 9566237}, {'track_id': 1446, 'album_id': 116, 'song': 'Black Capricorn Day', 'media_type': 'MPEG audio file', 'bytes': 11477231}, {'track_id': 1447, 'album_id': 116, 'song': 'Soul Education', 'media_type': 'MPEG audio file', 'bytes': 8575435}, {'track_id': 1448, 'album_id': 116, 'song': 'Failling', 'media_type': 'MPEG audio file', 'bytes': 7503999}, {'track_id': 1449, 'album_id': 116, 'song': 'Destitute Illusions', 'media_type': 'MPEG audio file', 'bytes': 11452651}, {'track_id': 1450, 'album_id': 116, 'song': 'Supersonic', 'media_type': 'MPEG audio file', 'bytes': 10699265}, {'track_id': 1451, 'album_id': 116, 'song': 'Butterfly', 'media_type': 'MPEG audio file', 'bytes': 8947356}  ... displaying 10 of 50 total bound parameter sets ...  {'track_id': 1492, 'album_id': 119, 'song': 'Purple Haze', 'media_type': 'MPEG audio file', 'bytes': 5597056}, {'track_id': 1493, 'album_id': 119, 'song': '51st Anniversary', 'media_type': 'MPEG audio file', 'bytes': 6398044})\n",
      "2021-12-07 15:05:43,741 INFO sqlalchemy.engine.base.Engine INSERT INTO jch5x8.track (track_id, album_id, song, media_type, bytes) VALUES (%(track_id)s, %(album_id)s, %(song)s, %(media_type)s, %(bytes)s)\n",
      "2021-12-07 15:05:43,742 INFO sqlalchemy.engine.base.Engine ({'track_id': 1494, 'album_id': 119, 'song': 'The Wind Cries Mary', 'media_type': 'MPEG audio file', 'bytes': 6540638}, {'track_id': 1495, 'album_id': 119, 'song': 'Highway Chile', 'media_type': 'MPEG audio file', 'bytes': 6887949}, {'track_id': 1506, 'album_id': 120, 'song': 'Engenho De Dentro', 'media_type': 'MPEG audio file', 'bytes': 10211473}, {'track_id': 1507, 'album_id': 120, 'song': 'Alcohol', 'media_type': 'MPEG audio file', 'bytes': 12010478}, {'track_id': 1508, 'album_id': 120, 'song': 'Mama Africa', 'media_type': 'MPEG audio file', 'bytes': 9488316}, {'track_id': 1509, 'album_id': 120, 'song': 'Salve Simpatia', 'media_type': 'MPEG audio file', 'bytes': 11314756}, {'track_id': 1510, 'album_id': 120, 'song': 'W/Brasil (Chama O Síndico)', 'media_type': 'MPEG audio file', 'bytes': 10599953}, {'track_id': 1511, 'album_id': 120, 'song': 'País Tropical', 'media_type': 'MPEG audio file', 'bytes': 14946972}  ... displaying 10 of 50 total bound parameter sets ...  {'track_id': 1552, 'album_id': 123, 'song': 'Electric Eye', 'media_type': 'MPEG audio file', 'bytes': 7231368}, {'track_id': 1553, 'album_id': 123, 'song': \"You've Got Another Thing Comin'\", 'media_type': 'MPEG audio file', 'bytes': 9962558})\n"
     ]
    },
    {
     "name": "stdout",
     "output_type": "stream",
     "text": [
      "2021-12-07 15:05:43,752 INFO sqlalchemy.engine.base.Engine INSERT INTO jch5x8.track (track_id, album_id, song, media_type, bytes) VALUES (%(track_id)s, %(album_id)s, %(song)s, %(media_type)s, %(bytes)s)\n",
      "2021-12-07 15:05:43,752 INFO sqlalchemy.engine.base.Engine ({'track_id': 1554, 'album_id': 123, 'song': 'Turbo Lover', 'media_type': 'MPEG audio file', 'bytes': 11068866}, {'track_id': 1555, 'album_id': 123, 'song': 'Freewheel Burning', 'media_type': 'MPEG audio file', 'bytes': 8713599}, {'track_id': 1556, 'album_id': 123, 'song': 'Some Heads Are Gonna Roll', 'media_type': 'MPEG audio file', 'bytes': 8198617}, {'track_id': 1557, 'album_id': 123, 'song': 'Metal Meltdown', 'media_type': 'MPEG audio file', 'bytes': 9390646}, {'track_id': 1558, 'album_id': 123, 'song': 'Ram It Down', 'media_type': 'MPEG audio file', 'bytes': 9554023}, {'track_id': 1559, 'album_id': 123, 'song': 'Diamonds And Rust (Live)', 'media_type': 'MPEG audio file', 'bytes': 7163147}, {'track_id': 1560, 'album_id': 123, 'song': 'Victim Of Change (Live)', 'media_type': 'MPEG audio file', 'bytes': 14067512}, {'track_id': 1561, 'album_id': 123, 'song': 'Tyrant (Live)', 'media_type': 'MPEG audio file', 'bytes': 9190536}  ... displaying 10 of 50 total bound parameter sets ...  {'track_id': 1602, 'album_id': 127, 'song': 'The Ocean', 'media_type': 'MPEG audio file', 'bytes': 8846469}, {'track_id': 1603, 'album_id': 128, 'song': 'In The Evening', 'media_type': 'MPEG audio file', 'bytes': 13399734})\n",
      "2021-12-07 15:05:43,762 INFO sqlalchemy.engine.base.Engine INSERT INTO jch5x8.track (track_id, album_id, song, media_type, bytes) VALUES (%(track_id)s, %(album_id)s, %(song)s, %(media_type)s, %(bytes)s)\n",
      "2021-12-07 15:05:43,763 INFO sqlalchemy.engine.base.Engine ({'track_id': 1604, 'album_id': 128, 'song': 'South Bound Saurez', 'media_type': 'MPEG audio file', 'bytes': 8420427}, {'track_id': 1605, 'album_id': 128, 'song': 'Fool In The Rain', 'media_type': 'MPEG audio file', 'bytes': 12371433}, {'track_id': 1606, 'album_id': 128, 'song': 'Hot Dog', 'media_type': 'MPEG audio file', 'bytes': 6536167}, {'track_id': 1607, 'album_id': 128, 'song': 'Carouselambra', 'media_type': 'MPEG audio file', 'bytes': 20858315}, {'track_id': 1608, 'album_id': 128, 'song': 'All My Love', 'media_type': 'MPEG audio file', 'bytes': 11684862}, {'track_id': 1609, 'album_id': 128, 'song': \"I'm Gonna Crawl\", 'media_type': 'MPEG audio file', 'bytes': 10737665}, {'track_id': 1610, 'album_id': 125, 'song': 'Black Dog', 'media_type': 'MPEG audio file', 'bytes': 9660588}, {'track_id': 1611, 'album_id': 129, 'song': 'Rock & Roll', 'media_type': 'MPEG audio file', 'bytes': 7142127}  ... displaying 10 of 50 total bound parameter sets ...  {'track_id': 1652, 'album_id': 133, 'song': 'Boogie With Stu', 'media_type': 'MPEG audio file', 'bytes': 7657086}, {'track_id': 1653, 'album_id': 133, 'song': 'Black Country Woman', 'media_type': 'MPEG audio file', 'bytes': 8951732})\n",
      "2021-12-07 15:05:43,772 INFO sqlalchemy.engine.base.Engine INSERT INTO jch5x8.track (track_id, album_id, song, media_type, bytes) VALUES (%(track_id)s, %(album_id)s, %(song)s, %(media_type)s, %(bytes)s)\n",
      "2021-12-07 15:05:43,773 INFO sqlalchemy.engine.base.Engine ({'track_id': 1654, 'album_id': 133, 'song': 'Sick Again', 'media_type': 'MPEG audio file', 'bytes': 9279263}, {'track_id': 1655, 'album_id': 134, 'song': 'Achilles Last Stand', 'media_type': 'MPEG audio file', 'bytes': 20593955}, {'track_id': 1656, 'album_id': 134, 'song': 'For Your Life', 'media_type': 'MPEG audio file', 'bytes': 12633382}, {'track_id': 1657, 'album_id': 134, 'song': 'Royal Orleans', 'media_type': 'MPEG audio file', 'bytes': 5930027}, {'track_id': 1658, 'album_id': 134, 'song': \"Nobody's Fault But Mine\", 'media_type': 'MPEG audio file', 'bytes': 12237859}, {'track_id': 1659, 'album_id': 134, 'song': 'Candy Store Rock', 'media_type': 'MPEG audio file', 'bytes': 8397423}, {'track_id': 1660, 'album_id': 134, 'song': 'Hots On For Nowhere', 'media_type': 'MPEG audio file', 'bytes': 9342342}, {'track_id': 1661, 'album_id': 134, 'song': 'Tea For One', 'media_type': 'MPEG audio file', 'bytes': 18475264}  ... displaying 10 of 50 total bound parameter sets ...  {'track_id': 1702, 'album_id': 139, 'song': 'Are You Gonna Go My Way', 'media_type': 'MPEG audio file', 'bytes': 6905135}, {'track_id': 1703, 'album_id': 139, 'song': 'Fly Away', 'media_type': 'MPEG audio file', 'bytes': 7322085})\n",
      "2021-12-07 15:05:43,782 INFO sqlalchemy.engine.base.Engine INSERT INTO jch5x8.track (track_id, album_id, song, media_type, bytes) VALUES (%(track_id)s, %(album_id)s, %(song)s, %(media_type)s, %(bytes)s)\n",
      "2021-12-07 15:05:43,783 INFO sqlalchemy.engine.base.Engine ({'track_id': 1704, 'album_id': 139, 'song': 'Rock And Roll Is Dead', 'media_type': 'MPEG audio file', 'bytes': 6680312}, {'track_id': 1705, 'album_id': 139, 'song': 'Again', 'media_type': 'MPEG audio file', 'bytes': 7490476}, {'track_id': 1706, 'album_id': 139, 'song': \"It Ain't Over 'Til It's Over\", 'media_type': 'MPEG audio file', 'bytes': 8078936}, {'track_id': 1707, 'album_id': 139, 'song': \"Can't Get You Off My Mind\", 'media_type': 'MPEG audio file', 'bytes': 8937150}, {'track_id': 1708, 'album_id': 139, 'song': 'Mr. Cab Driver', 'media_type': 'MPEG audio file', 'bytes': 7668084}, {'track_id': 1709, 'album_id': 139, 'song': 'American Woman', 'media_type': 'MPEG audio file', 'bytes': 8538023}, {'track_id': 1710, 'album_id': 139, 'song': 'Stand By My Woman', 'media_type': 'MPEG audio file', 'bytes': 8447611}, {'track_id': 1711, 'album_id': 139, 'song': 'Always On The Run', 'media_type': 'MPEG audio file', 'bytes': 7593397}  ... displaying 10 of 50 total bound parameter sets ...  {'track_id': 1752, 'album_id': 142, 'song': 'Blind Curve: Vocal Under A Bloodlight / Passing Strangers / Mylo / Perimeter Walk / Threshold', 'media_type': 'MPEG audio file', 'bytes': 18578995}, {'track_id': 1753, 'album_id': 142, 'song': 'Childhoods End?', 'media_type': 'MPEG audio file', 'bytes': 9015366})\n",
      "2021-12-07 15:05:43,793 INFO sqlalchemy.engine.base.Engine INSERT INTO jch5x8.track (track_id, album_id, song, media_type, bytes) VALUES (%(track_id)s, %(album_id)s, %(song)s, %(media_type)s, %(bytes)s)\n",
      "2021-12-07 15:05:43,794 INFO sqlalchemy.engine.base.Engine ({'track_id': 1754, 'album_id': 142, 'song': 'White Feather', 'media_type': 'MPEG audio file', 'bytes': 4711776}, {'track_id': 1755, 'album_id': 143, 'song': 'Arrepio', 'media_type': 'MPEG audio file', 'bytes': 4511390}, {'track_id': 1756, 'album_id': 143, 'song': 'Magamalabares', 'media_type': 'MPEG audio file', 'bytes': 7183757}, {'track_id': 1757, 'album_id': 143, 'song': 'Chuva No Brejo', 'media_type': 'MPEG audio file', 'bytes': 4857761}, {'track_id': 1758, 'album_id': 143, 'song': 'Cérebro Eletrônico', 'media_type': 'MPEG audio file', 'bytes': 5760864}, {'track_id': 1759, 'album_id': 143, 'song': 'Tempos Modernos', 'media_type': 'MPEG audio file', 'bytes': 6066234}, {'track_id': 1760, 'album_id': 143, 'song': 'Maraçá', 'media_type': 'MPEG audio file', 'bytes': 7621482}, {'track_id': 1761, 'album_id': 143, 'song': 'Blanco', 'media_type': 'MPEG audio file', 'bytes': 1454532}  ... displaying 10 of 50 total bound parameter sets ...  {'track_id': 1802, 'album_id': 7, 'song': 'Sad But True', 'media_type': 'MPEG audio file', 'bytes': 10541258}, {'track_id': 1803, 'album_id': 146, 'song': 'Holier Than Thou', 'media_type': 'MPEG audio file', 'bytes': 7462011})\n",
      "2021-12-07 15:05:43,804 INFO sqlalchemy.engine.base.Engine INSERT INTO jch5x8.track (track_id, album_id, song, media_type, bytes) VALUES (%(track_id)s, %(album_id)s, %(song)s, %(media_type)s, %(bytes)s)\n",
      "2021-12-07 15:05:43,804 INFO sqlalchemy.engine.base.Engine ({'track_id': 1804, 'album_id': 7, 'song': 'The Unforgiven', 'media_type': 'MPEG audio file', 'bytes': 12646886}, {'track_id': 1805, 'album_id': 7, 'song': 'Wherever I May Roam', 'media_type': 'MPEG audio file', 'bytes': 13161169}, {'track_id': 1806, 'album_id': 146, 'song': \"Don't Tread On Me\", 'media_type': 'MPEG audio file', 'bytes': 7827907}, {'track_id': 1807, 'album_id': 146, 'song': 'Through The Never', 'media_type': 'MPEG audio file', 'bytes': 8024047}, {'track_id': 1808, 'album_id': 146, 'song': 'Nothing Else Matters', 'media_type': 'MPEG audio file', 'bytes': 12606241}, {'track_id': 1809, 'album_id': 146, 'song': 'Of Wolf And Man', 'media_type': 'MPEG audio file', 'bytes': 8339785}, {'track_id': 1810, 'album_id': 146, 'song': 'The God That Failed', 'media_type': 'MPEG audio file', 'bytes': 10055959}, {'track_id': 1811, 'album_id': 146, 'song': 'My Friend Of Misery', 'media_type': 'MPEG audio file', 'bytes': 13293515}  ... displaying 10 of 50 total bound parameter sets ...  {'track_id': 1852, 'album_id': 149, 'song': 'The Outlaw Torn', 'media_type': 'MPEG audio file', 'bytes': 19286261}, {'track_id': 1853, 'album_id': 150, 'song': 'Battery', 'media_type': 'MPEG audio file', 'bytes': 10229577})\n"
     ]
    },
    {
     "name": "stdout",
     "output_type": "stream",
     "text": [
      "2021-12-07 15:05:43,814 INFO sqlalchemy.engine.base.Engine INSERT INTO jch5x8.track (track_id, album_id, song, media_type, bytes) VALUES (%(track_id)s, %(album_id)s, %(song)s, %(media_type)s, %(bytes)s)\n",
      "2021-12-07 15:05:43,815 INFO sqlalchemy.engine.base.Engine ({'track_id': 1854, 'album_id': 7, 'song': 'Master Of Puppets', 'media_type': 'MPEG audio file', 'bytes': 16893720}, {'track_id': 1855, 'album_id': 150, 'song': 'The Thing That Should Not Be', 'media_type': 'MPEG audio file', 'bytes': 12952368}, {'track_id': 1856, 'album_id': 7, 'song': 'Welcome Home (Sanitarium)', 'media_type': 'MPEG audio file', 'bytes': 12679965}, {'track_id': 1857, 'album_id': 150, 'song': 'Disposable Heroes', 'media_type': 'MPEG audio file', 'bytes': 16135560}, {'track_id': 1858, 'album_id': 150, 'song': 'Leper Messiah', 'media_type': 'MPEG audio file', 'bytes': 11310434}, {'track_id': 1859, 'album_id': 150, 'song': 'Orion', 'media_type': 'MPEG audio file', 'bytes': 16378477}, {'track_id': 1860, 'album_id': 150, 'song': 'Damage Inc.', 'media_type': 'MPEG audio file', 'bytes': 10725029}, {'track_id': 1861, 'album_id': 151, 'song': 'Fuel', 'media_type': 'MPEG audio file', 'bytes': 8876811}  ... displaying 10 of 50 total bound parameter sets ...  {'track_id': 1902, 'album_id': 155, 'song': 'Springsville', 'media_type': 'MPEG audio file', 'bytes': 6776219}, {'track_id': 1903, 'album_id': 155, 'song': 'The Maids Of Cadiz', 'media_type': 'MPEG audio file', 'bytes': 7505275})\n",
      "2021-12-07 15:05:43,825 INFO sqlalchemy.engine.base.Engine INSERT INTO jch5x8.track (track_id, album_id, song, media_type, bytes) VALUES (%(track_id)s, %(album_id)s, %(song)s, %(media_type)s, %(bytes)s)\n",
      "2021-12-07 15:05:43,825 INFO sqlalchemy.engine.base.Engine ({'track_id': 1904, 'album_id': 155, 'song': 'The Duke', 'media_type': 'MPEG audio file', 'bytes': 6977626}, {'track_id': 1905, 'album_id': 155, 'song': 'My Ship', 'media_type': 'MPEG audio file', 'bytes': 8581144}, {'track_id': 1906, 'album_id': 155, 'song': 'Miles Ahead', 'media_type': 'MPEG audio file', 'bytes': 6807707}, {'track_id': 1907, 'album_id': 155, 'song': 'Blues For Pablo', 'media_type': 'MPEG audio file', 'bytes': 10218398}, {'track_id': 1908, 'album_id': 46, 'song': 'New Rhumba', 'media_type': 'MPEG audio file', 'bytes': 8980400}, {'track_id': 1909, 'album_id': 155, 'song': 'The Meaning Of The Blues', 'media_type': 'MPEG audio file', 'bytes': 5395412}, {'track_id': 1910, 'album_id': 155, 'song': 'Lament', 'media_type': 'MPEG audio file', 'bytes': 4293394}, {'track_id': 1911, 'album_id': 155, 'song': \"I Don't Wanna Be Kissed (By Anyone But You)\", 'media_type': 'MPEG audio file', 'bytes': 6219487}  ... displaying 10 of 50 total bound parameter sets ...  {'track_id': 1952, 'album_id': 158, 'song': 'The Chase Is Better Than The Catch', 'media_type': 'MPEG audio file', 'bytes': 8393310}, {'track_id': 1953, 'album_id': 158, 'song': 'The Hammer', 'media_type': 'MPEG audio file', 'bytes': 5543267})\n",
      "2021-12-07 15:05:43,835 INFO sqlalchemy.engine.base.Engine INSERT INTO jch5x8.track (track_id, album_id, song, media_type, bytes) VALUES (%(track_id)s, %(album_id)s, %(song)s, %(media_type)s, %(bytes)s)\n",
      "2021-12-07 15:05:43,835 INFO sqlalchemy.engine.base.Engine ({'track_id': 1954, 'album_id': 158, 'song': 'Dirty Love', 'media_type': 'MPEG audio file', 'bytes': 5805241}, {'track_id': 1955, 'album_id': 158, 'song': \"Please Don't Touch\", 'media_type': 'MPEG audio file', 'bytes': 5557002}, {'track_id': 1956, 'album_id': 158, 'song': 'Emergency', 'media_type': 'MPEG audio file', 'bytes': 5828728}, {'track_id': 1957, 'album_id': 159, 'song': 'Kir Royal', 'media_type': 'MPEG audio file', 'bytes': 7706552}, {'track_id': 1958, 'album_id': 159, 'song': 'O Que Vai Em Meu Coração', 'media_type': 'MPEG audio file', 'bytes': 8366846}, {'track_id': 1959, 'album_id': 159, 'song': 'Aos Leões', 'media_type': 'MPEG audio file', 'bytes': 7790574}, {'track_id': 1960, 'album_id': 159, 'song': 'Dois Índios', 'media_type': 'MPEG audio file', 'bytes': 7213072}, {'track_id': 1961, 'album_id': 159, 'song': 'Noite Negra', 'media_type': 'MPEG audio file', 'bytes': 6819584}  ... displaying 10 of 50 total bound parameter sets ...  {'track_id': 2002, 'album_id': 161, 'song': 'Blew', 'media_type': 'MPEG audio file', 'bytes': 7096936}, {'track_id': 2003, 'album_id': 161, 'song': 'Smells Like Teen Spirit', 'media_type': 'MPEG audio file', 'bytes': 9823847})\n",
      "2021-12-07 15:05:43,846 INFO sqlalchemy.engine.base.Engine INSERT INTO jch5x8.track (track_id, album_id, song, media_type, bytes) VALUES (%(track_id)s, %(album_id)s, %(song)s, %(media_type)s, %(bytes)s)\n",
      "2021-12-07 15:05:43,846 INFO sqlalchemy.engine.base.Engine ({'track_id': 2004, 'album_id': 162, 'song': 'In Bloom', 'media_type': 'MPEG audio file', 'bytes': 8327077}, {'track_id': 2005, 'album_id': 162, 'song': 'Come As You Are', 'media_type': 'MPEG audio file', 'bytes': 7123357}, {'track_id': 2006, 'album_id': 161, 'song': 'Breed', 'media_type': 'MPEG audio file', 'bytes': 5984812}, {'track_id': 2007, 'album_id': 161, 'song': 'Lithium', 'media_type': 'MPEG audio file', 'bytes': 8404745}, {'track_id': 2008, 'album_id': 161, 'song': 'Polly', 'media_type': 'MPEG audio file', 'bytes': 5788407}, {'track_id': 2009, 'album_id': 162, 'song': 'Territorial Pissings', 'media_type': 'MPEG audio file', 'bytes': 4613880}, {'track_id': 2010, 'album_id': 161, 'song': 'Drain You', 'media_type': 'MPEG audio file', 'bytes': 7273440}, {'track_id': 2011, 'album_id': 162, 'song': 'Lounge Act', 'media_type': 'MPEG audio file', 'bytes': 5093635}  ... displaying 10 of 50 total bound parameter sets ...  {'track_id': 2052, 'album_id': 165, 'song': 'Sincero Breu', 'media_type': 'MPEG audio file', 'bytes': 6921669}, {'track_id': 2053, 'album_id': 165, 'song': 'Meu Erro', 'media_type': 'MPEG audio file', 'bytes': 6192791})\n",
      "2021-12-07 15:05:43,856 INFO sqlalchemy.engine.base.Engine INSERT INTO jch5x8.track (track_id, album_id, song, media_type, bytes) VALUES (%(track_id)s, %(album_id)s, %(song)s, %(media_type)s, %(bytes)s)\n",
      "2021-12-07 15:05:43,857 INFO sqlalchemy.engine.base.Engine ({'track_id': 2054, 'album_id': 165, 'song': 'Selvagem', 'media_type': 'MPEG audio file', 'bytes': 4942831}, {'track_id': 2055, 'album_id': 165, 'song': 'Brasília 5:31', 'media_type': 'MPEG audio file', 'bytes': 5857116}, {'track_id': 2056, 'album_id': 165, 'song': 'Tendo A Lua', 'media_type': 'MPEG audio file', 'bytes': 6568180}, {'track_id': 2057, 'album_id': 138, 'song': 'Que País É Este', 'media_type': 'MPEG audio file', 'bytes': 7137865}, {'track_id': 2058, 'album_id': 165, 'song': 'Navegar Impreciso', 'media_type': 'MPEG audio file', 'bytes': 8761283}, {'track_id': 2059, 'album_id': 165, 'song': 'Feira Moderna', 'media_type': 'MPEG audio file', 'bytes': 6001793}, {'track_id': 2060, 'album_id': 165, 'song': 'Tequila - Lourinha Bombril (Parate Y Mira)', 'media_type': 'MPEG audio file', 'bytes': 8514961}, {'track_id': 2061, 'album_id': 165, 'song': 'Vamo Batê Lata', 'media_type': 'MPEG audio file', 'bytes': 7585707}  ... displaying 10 of 50 total bound parameter sets ...  {'track_id': 2108, 'album_id': 168, 'song': 'Children Of The Grave', 'media_type': 'MPEG audio file', 'bytes': 11626740}, {'track_id': 2109, 'album_id': 168, 'song': 'Paranoid', 'media_type': 'MPEG audio file', 'bytes': 5729813})\n",
      "2021-12-07 15:05:43,867 INFO sqlalchemy.engine.base.Engine INSERT INTO jch5x8.track (track_id, album_id, song, media_type, bytes) VALUES (%(track_id)s, %(album_id)s, %(song)s, %(media_type)s, %(bytes)s)\n",
      "2021-12-07 15:05:43,868 INFO sqlalchemy.engine.base.Engine ({'track_id': 2110, 'album_id': 168, 'song': 'Goodbye To Romance', 'media_type': 'MPEG audio file', 'bytes': 10841337}, {'track_id': 2111, 'album_id': 168, 'song': 'No Bone Movies', 'media_type': 'MPEG audio file', 'bytes': 8095199}, {'track_id': 2112, 'album_id': 168, 'song': 'Dee', 'media_type': 'MPEG audio file', 'bytes': 8555963}, {'track_id': 2113, 'album_id': 169, 'song': 'Shining In The Light', 'media_type': 'MPEG audio file', 'bytes': 7951688}, {'track_id': 2114, 'album_id': 169, 'song': 'When The World Was Young', 'media_type': 'MPEG audio file', 'bytes': 12198930}, {'track_id': 2115, 'album_id': 169, 'song': 'Upon A Golden Horse', 'media_type': 'MPEG audio file', 'bytes': 7594829}, {'track_id': 2116, 'album_id': 169, 'song': 'Blue Train', 'media_type': 'MPEG audio file', 'bytes': 13170391}, {'track_id': 2117, 'album_id': 169, 'song': 'Please Read The Letter', 'media_type': 'MPEG audio file', 'bytes': 8603372}  ... displaying 10 of 50 total bound parameter sets ...  {'track_id': 2158, 'album_id': 172, 'song': 'Even Flow', 'media_type': 'MPEG audio file', 'bytes': 10394239}, {'track_id': 2159, 'album_id': 172, 'song': 'Off He Goes', 'media_type': 'MPEG audio file', 'bytes': 11245109})\n"
     ]
    },
    {
     "name": "stdout",
     "output_type": "stream",
     "text": [
      "2021-12-07 15:05:43,878 INFO sqlalchemy.engine.base.Engine INSERT INTO jch5x8.track (track_id, album_id, song, media_type, bytes) VALUES (%(track_id)s, %(album_id)s, %(song)s, %(media_type)s, %(bytes)s)\n",
      "2021-12-07 15:05:43,878 INFO sqlalchemy.engine.base.Engine ({'track_id': 2160, 'album_id': 172, 'song': 'Nothingman', 'media_type': 'MPEG audio file', 'bytes': 9107017}, {'track_id': 2161, 'album_id': 172, 'song': 'Do The Evolution', 'media_type': 'MPEG audio file', 'bytes': 7377286}, {'track_id': 2162, 'album_id': 172, 'song': 'Better Man', 'media_type': 'MPEG audio file', 'bytes': 8019563}, {'track_id': 2163, 'album_id': 172, 'song': 'Black', 'media_type': 'MPEG audio file', 'bytes': 13580009}, {'track_id': 2164, 'album_id': 172, 'song': \"F*Ckin' Up\", 'media_type': 'MPEG audio file', 'bytes': 12360893}, {'track_id': 2165, 'album_id': 173, 'song': 'Life Wasted', 'media_type': 'MPEG audio file', 'bytes': 7610169}, {'track_id': 2166, 'album_id': 173, 'song': 'World Wide Suicide', 'media_type': 'MPEG audio file', 'bytes': 6885908}, {'track_id': 2167, 'album_id': 173, 'song': 'Comatose', 'media_type': 'MPEG audio file', 'bytes': 4574516}  ... displaying 10 of 50 total bound parameter sets ...  {'track_id': 2208, 'album_id': 176, 'song': 'Dissident', 'media_type': 'MPEG audio file', 'bytes': 7034500}, {'track_id': 2209, 'album_id': 176, 'song': 'W.M.A.', 'media_type': 'MPEG audio file', 'bytes': 12037261})\n",
      "2021-12-07 15:05:43,888 INFO sqlalchemy.engine.base.Engine INSERT INTO jch5x8.track (track_id, album_id, song, media_type, bytes) VALUES (%(track_id)s, %(album_id)s, %(song)s, %(media_type)s, %(bytes)s)\n",
      "2021-12-07 15:05:43,889 INFO sqlalchemy.engine.base.Engine ({'track_id': 2210, 'album_id': 176, 'song': 'Blood', 'media_type': 'MPEG audio file', 'bytes': 5551478}, {'track_id': 2211, 'album_id': 176, 'song': 'Rearviewmirror', 'media_type': 'MPEG audio file', 'bytes': 9321053}, {'track_id': 2212, 'album_id': 176, 'song': 'Rats', 'media_type': 'MPEG audio file', 'bytes': 8341934}, {'track_id': 2213, 'album_id': 172, 'song': 'Elderly Woman Behind The Counter In A Small Town', 'media_type': 'MPEG audio file', 'bytes': 6499398}, {'track_id': 2214, 'album_id': 176, 'song': 'Leash', 'media_type': 'MPEG audio file', 'bytes': 6191560}, {'track_id': 2215, 'album_id': 176, 'song': 'Indifference', 'media_type': 'MPEG audio file', 'bytes': 9756133}, {'track_id': 2216, 'album_id': 24, 'song': 'Johnny B. Goode', 'media_type': 'MPEG audio file', 'bytes': 8092024}, {'track_id': 2217, 'album_id': 139, 'song': \"Don't Look Back\", 'media_type': 'MPEG audio file', 'bytes': 7344023}  ... displaying 10 of 50 total bound parameter sets ...  {'track_id': 2258, 'album_id': 180, 'song': 'Bicycle Race', 'media_type': 'MPEG audio file', 'bytes': 6012409}, {'track_id': 2259, 'album_id': 180, 'song': \"You're My Best Friend\", 'media_type': 'MPEG audio file', 'bytes': 5602173})\n",
      "2021-12-07 15:05:43,900 INFO sqlalchemy.engine.base.Engine INSERT INTO jch5x8.track (track_id, album_id, song, media_type, bytes) VALUES (%(track_id)s, %(album_id)s, %(song)s, %(media_type)s, %(bytes)s)\n",
      "2021-12-07 15:05:43,901 INFO sqlalchemy.engine.base.Engine ({'track_id': 2260, 'album_id': 180, 'song': \"Don't Stop Me Now\", 'media_type': 'MPEG audio file', 'bytes': 6896666}, {'track_id': 2261, 'album_id': 180, 'song': 'Save Me', 'media_type': 'MPEG audio file', 'bytes': 7444624}, {'track_id': 2262, 'album_id': 180, 'song': 'Crazy Little Thing Called Love', 'media_type': 'MPEG audio file', 'bytes': 5435501}, {'track_id': 2263, 'album_id': 180, 'song': 'Somebody To Love', 'media_type': 'MPEG audio file', 'bytes': 9650520}, {'track_id': 2264, 'album_id': 180, 'song': \"Now I'm Here\", 'media_type': 'MPEG audio file', 'bytes': 8328312}, {'track_id': 2265, 'album_id': 180, 'song': 'Good Old-Fashioned Lover Boy', 'media_type': 'MPEG audio file', 'bytes': 5747506}, {'track_id': 2266, 'album_id': 180, 'song': 'Play The Game', 'media_type': 'MPEG audio file', 'bytes': 6915832}, {'track_id': 2267, 'album_id': 180, 'song': 'Flash', 'media_type': 'MPEG audio file', 'bytes': 5464986}  ... displaying 10 of 50 total bound parameter sets ...  {'track_id': 2308, 'album_id': 184, 'song': 'Low Desert', 'media_type': 'MPEG audio file', 'bytes': 6989288}, {'track_id': 2309, 'album_id': 184, 'song': 'Electrolite', 'media_type': 'MPEG audio file', 'bytes': 8051199})\n",
      "2021-12-07 15:05:43,911 INFO sqlalchemy.engine.base.Engine INSERT INTO jch5x8.track (track_id, album_id, song, media_type, bytes) VALUES (%(track_id)s, %(album_id)s, %(song)s, %(media_type)s, %(bytes)s)\n",
      "2021-12-07 15:05:43,912 INFO sqlalchemy.engine.base.Engine ({'track_id': 2310, 'album_id': 182, 'song': 'Losing My Religion', 'media_type': 'MPEG audio file', 'bytes': 8885672}, {'track_id': 2311, 'album_id': 79, 'song': 'Low', 'media_type': 'MPEG audio file', 'bytes': 9633860}, {'track_id': 2312, 'album_id': 182, 'song': 'Near Wild Heaven', 'media_type': 'MPEG audio file', 'bytes': 6610009}, {'track_id': 2313, 'album_id': 182, 'song': 'Endgame', 'media_type': 'MPEG audio file', 'bytes': 7664479}, {'track_id': 2314, 'album_id': 182, 'song': 'Belong', 'media_type': 'MPEG audio file', 'bytes': 8219375}, {'track_id': 2315, 'album_id': 182, 'song': 'Half A World Away', 'media_type': 'MPEG audio file', 'bytes': 6837283}, {'track_id': 2316, 'album_id': 182, 'song': 'Texarkana', 'media_type': 'MPEG audio file', 'bytes': 7260681}, {'track_id': 2317, 'album_id': 182, 'song': 'Country Feedback', 'media_type': 'MPEG audio file', 'bytes': 8178943}  ... displaying 10 of 50 total bound parameter sets ...  {'track_id': 2358, 'album_id': 188, 'song': 'The Power Of Equality', 'media_type': 'MPEG audio file', 'bytes': 8148266}, {'track_id': 2359, 'album_id': 188, 'song': 'If You Have To Ask', 'media_type': 'MPEG audio file', 'bytes': 7199175})\n",
      "2021-12-07 15:05:43,922 INFO sqlalchemy.engine.base.Engine INSERT INTO jch5x8.track (track_id, album_id, song, media_type, bytes) VALUES (%(track_id)s, %(album_id)s, %(song)s, %(media_type)s, %(bytes)s)\n",
      "2021-12-07 15:05:43,922 INFO sqlalchemy.engine.base.Engine ({'track_id': 2360, 'album_id': 188, 'song': 'Breaking The Girl', 'media_type': 'MPEG audio file', 'bytes': 9805526}, {'track_id': 2361, 'album_id': 188, 'song': 'Funky Monks', 'media_type': 'MPEG audio file', 'bytes': 10708168}, {'track_id': 2362, 'album_id': 188, 'song': 'Suck My Kiss', 'media_type': 'MPEG audio file', 'bytes': 7129137}, {'track_id': 2363, 'album_id': 188, 'song': 'I Could Have Lied', 'media_type': 'MPEG audio file', 'bytes': 8088244}, {'track_id': 2364, 'album_id': 188, 'song': 'Mellowship Slinky In B Major', 'media_type': 'MPEG audio file', 'bytes': 7971384}, {'track_id': 2365, 'album_id': 188, 'song': 'The Righteous & The Wicked', 'media_type': 'MPEG audio file', 'bytes': 8134096}, {'track_id': 2366, 'album_id': 188, 'song': 'Give It Away', 'media_type': 'MPEG audio file', 'bytes': 9308997}, {'track_id': 2367, 'album_id': 188, 'song': 'Blood Sugar Sex Magik', 'media_type': 'MPEG audio file', 'bytes': 8940573}  ... displaying 10 of 50 total bound parameter sets ...  {'track_id': 2408, 'album_id': 191, 'song': 'Something For Nothing', 'media_type': 'MPEG audio file', 'bytes': 7898395}, {'track_id': 2409, 'album_id': 191, 'song': 'Freewill', 'media_type': 'MPEG audio file', 'bytes': 10694110})\n",
      "2021-12-07 15:05:43,933 INFO sqlalchemy.engine.base.Engine INSERT INTO jch5x8.track (track_id, album_id, song, media_type, bytes) VALUES (%(track_id)s, %(album_id)s, %(song)s, %(media_type)s, %(bytes)s)\n",
      "2021-12-07 15:05:43,934 INFO sqlalchemy.engine.base.Engine ({'track_id': 2410, 'album_id': 191, 'song': 'Xanadu', 'media_type': 'MPEG audio file', 'bytes': 21753168}, {'track_id': 2411, 'album_id': 191, 'song': 'Bastille Day', 'media_type': 'MPEG audio file', 'bytes': 9264769}, {'track_id': 2412, 'album_id': 191, 'song': 'By-Tor And The Snow Dog', 'media_type': 'MPEG audio file', 'bytes': 17076397}, {'track_id': 2413, 'album_id': 191, 'song': 'Anthem', 'media_type': 'MPEG audio file', 'bytes': 8693343}, {'track_id': 2414, 'album_id': 191, 'song': 'Closer To The Heart', 'media_type': 'MPEG audio file', 'bytes': 5767005}, {'track_id': 2415, 'album_id': 191, 'song': '2112 Overture', 'media_type': 'MPEG audio file', 'bytes': 8898066}, {'track_id': 2416, 'album_id': 191, 'song': 'The Temples Of Syrinx', 'media_type': 'MPEG audio file', 'bytes': 4360163}, {'track_id': 2417, 'album_id': 191, 'song': 'La Villa Strangiato', 'media_type': 'MPEG audio file', 'bytes': 19137855}  ... displaying 10 of 50 total bound parameter sets ...  {'track_id': 2458, 'album_id': 194, 'song': 'Fica', 'media_type': 'MPEG audio file', 'bytes': 8980972}, {'track_id': 2459, 'album_id': 194, 'song': 'Ali', 'media_type': 'MPEG audio file', 'bytes': 10110351})\n"
     ]
    },
    {
     "name": "stdout",
     "output_type": "stream",
     "text": [
      "2021-12-07 15:05:43,944 INFO sqlalchemy.engine.base.Engine INSERT INTO jch5x8.track (track_id, album_id, song, media_type, bytes) VALUES (%(track_id)s, %(album_id)s, %(song)s, %(media_type)s, %(bytes)s)\n",
      "2021-12-07 15:05:43,945 INFO sqlalchemy.engine.base.Engine ({'track_id': 2460, 'album_id': 194, 'song': 'Preto Damião', 'media_type': 'MPEG audio file', 'bytes': 8697658}, {'track_id': 2461, 'album_id': 195, 'song': 'É Uma Partida De Futebol', 'media_type': 'MPEG audio file', 'bytes': 38747}, {'track_id': 2462, 'album_id': 195, 'song': 'Eu Disse A Ela', 'media_type': 'MPEG audio file', 'bytes': 8479463}, {'track_id': 2463, 'album_id': 195, 'song': 'Zé Trindade', 'media_type': 'MPEG audio file', 'bytes': 8331310}, {'track_id': 2464, 'album_id': 195, 'song': 'Garota Nacional', 'media_type': 'MPEG audio file', 'bytes': 10511239}, {'track_id': 2465, 'album_id': 195, 'song': 'Tão Seu', 'media_type': 'MPEG audio file', 'bytes': 8133126}, {'track_id': 2466, 'album_id': 195, 'song': 'Sem Terra', 'media_type': 'MPEG audio file', 'bytes': 9196411}, {'track_id': 2467, 'album_id': 195, 'song': 'Os Exilados', 'media_type': 'MPEG audio file', 'bytes': 8222095}  ... displaying 10 of 50 total bound parameter sets ...  {'track_id': 2508, 'album_id': 198, 'song': 'Loud Love', 'media_type': 'MPEG audio file', 'bytes': 9660953}, {'track_id': 2509, 'album_id': 198, 'song': 'Hands All Over', 'media_type': 'MPEG audio file', 'bytes': 11893108})\n",
      "2021-12-07 15:05:43,954 INFO sqlalchemy.engine.base.Engine INSERT INTO jch5x8.track (track_id, album_id, song, media_type, bytes) VALUES (%(track_id)s, %(album_id)s, %(song)s, %(media_type)s, %(bytes)s)\n",
      "2021-12-07 15:05:43,955 INFO sqlalchemy.engine.base.Engine ({'track_id': 2510, 'album_id': 198, 'song': 'Get On The Snake', 'media_type': 'MPEG audio file', 'bytes': 7313744}, {'track_id': 2511, 'album_id': 198, 'song': 'Jesus Christ Pose', 'media_type': 'MPEG audio file', 'bytes': 11739886}, {'track_id': 2512, 'album_id': 198, 'song': 'Outshined', 'media_type': 'MPEG audio file', 'bytes': 10274629}, {'track_id': 2513, 'album_id': 198, 'song': 'Rusty Cage', 'media_type': 'MPEG audio file', 'bytes': 8779485}, {'track_id': 2514, 'album_id': 198, 'song': 'Spoonman', 'media_type': 'MPEG audio file', 'bytes': 8289906}, {'track_id': 2515, 'album_id': 198, 'song': 'The Day I Tried To Live', 'media_type': 'MPEG audio file', 'bytes': 10507137}, {'track_id': 2516, 'album_id': 198, 'song': 'Black Hole Sun', 'media_type': 'MPEG audio file', 'bytes': 10425229}, {'track_id': 2517, 'album_id': 198, 'song': 'Fell On Black Days', 'media_type': 'MPEG audio file', 'bytes': 9256082}  ... displaying 10 of 50 total bound parameter sets ...  {'track_id': 2558, 'album_id': 202, 'song': 'Radio/Video', 'media_type': 'MPEG audio file', 'bytes': 8224917}, {'track_id': 2559, 'album_id': 202, 'song': \"This Cocaine Makes Me Feel Like I'm On This Song\", 'media_type': 'MPEG audio file', 'bytes': 4185193})\n",
      "2021-12-07 15:05:43,965 INFO sqlalchemy.engine.base.Engine INSERT INTO jch5x8.track (track_id, album_id, song, media_type, bytes) VALUES (%(track_id)s, %(album_id)s, %(song)s, %(media_type)s, %(bytes)s)\n",
      "2021-12-07 15:05:43,965 INFO sqlalchemy.engine.base.Engine ({'track_id': 2560, 'album_id': 202, 'song': 'Violent Pornography', 'media_type': 'MPEG audio file', 'bytes': 6985960}, {'track_id': 2561, 'album_id': 202, 'song': 'Question!', 'media_type': 'MPEG audio file', 'bytes': 6616398}, {'track_id': 2562, 'album_id': 202, 'song': 'Sad Statue', 'media_type': 'MPEG audio file', 'bytes': 6733449}, {'track_id': 2563, 'album_id': 202, 'song': 'Old School Hollywood', 'media_type': 'MPEG audio file', 'bytes': 5830258}, {'track_id': 2564, 'album_id': 202, 'song': 'Lost in Hollywood', 'media_type': 'MPEG audio file', 'bytes': 10535158}, {'track_id': 2565, 'album_id': 203, 'song': 'The Sun Road', 'media_type': 'MPEG audio file', 'bytes': 29008407}, {'track_id': 2566, 'album_id': 203, 'song': 'Dark Corners', 'media_type': 'MPEG audio file', 'bytes': 16839223}, {'track_id': 2567, 'album_id': 203, 'song': 'Duende', 'media_type': 'MPEG audio file', 'bytes': 14956771}  ... displaying 10 of 50 total bound parameter sets ...  {'track_id': 2608, 'album_id': 206, 'song': 'Should I Stay Or Should I Go', 'media_type': 'MPEG audio file', 'bytes': 6188688}, {'track_id': 2609, 'album_id': 207, 'song': 'War (The Process)', 'media_type': 'MPEG audio file', 'bytes': 8254842})\n",
      "2021-12-07 15:05:43,976 INFO sqlalchemy.engine.base.Engine INSERT INTO jch5x8.track (track_id, album_id, song, media_type, bytes) VALUES (%(track_id)s, %(album_id)s, %(song)s, %(media_type)s, %(bytes)s)\n",
      "2021-12-07 15:05:43,976 INFO sqlalchemy.engine.base.Engine ({'track_id': 2610, 'album_id': 207, 'song': 'The Saint', 'media_type': 'MPEG audio file', 'bytes': 7061584}, {'track_id': 2611, 'album_id': 207, 'song': 'Rise', 'media_type': 'MPEG audio file', 'bytes': 7106195}, {'track_id': 2612, 'album_id': 207, 'song': 'Take The Power', 'media_type': 'MPEG audio file', 'bytes': 7650012}, {'track_id': 2613, 'album_id': 207, 'song': 'Breathe', 'media_type': 'MPEG audio file', 'bytes': 9742361}, {'track_id': 2614, 'album_id': 207, 'song': 'Nico', 'media_type': 'MPEG audio file', 'bytes': 9412323}, {'track_id': 2615, 'album_id': 207, 'song': 'American Gothic', 'media_type': 'MPEG audio file', 'bytes': 7739840}, {'track_id': 2616, 'album_id': 207, 'song': 'Ashes And Ghosts', 'media_type': 'MPEG audio file', 'bytes': 9787692}, {'track_id': 2617, 'album_id': 207, 'song': 'Shape The Sky', 'media_type': 'MPEG audio file', 'bytes': 6885647}  ... displaying 10 of 50 total bound parameter sets ...  {'track_id': 2658, 'album_id': 210, 'song': \"Spirit's in the Material World\", 'media_type': 'MPEG audio file', 'bytes': 5986622}, {'track_id': 2659, 'album_id': 210, 'song': 'Every Breath You Take', 'media_type': 'MPEG audio file', 'bytes': 8364520})\n",
      "2021-12-07 15:05:43,987 INFO sqlalchemy.engine.base.Engine INSERT INTO jch5x8.track (track_id, album_id, song, media_type, bytes) VALUES (%(track_id)s, %(album_id)s, %(song)s, %(media_type)s, %(bytes)s)\n",
      "2021-12-07 15:05:43,987 INFO sqlalchemy.engine.base.Engine ({'track_id': 2660, 'album_id': 210, 'song': 'King Of Pain', 'media_type': 'MPEG audio file', 'bytes': 9880303}, {'track_id': 2661, 'album_id': 210, 'song': 'Wrapped Around Your Finger', 'media_type': 'MPEG audio file', 'bytes': 10361490}, {'track_id': 2662, 'album_id': 210, 'song': \"Don't Stand So Close to Me '86\", 'media_type': 'MPEG audio file', 'bytes': 9636683}, {'track_id': 2663, 'album_id': 210, 'song': 'Message in a Bottle (new classic rock mix)', 'media_type': 'MPEG audio file', 'bytes': 9640349}, {'track_id': 2664, 'album_id': 211, 'song': 'Time Is On My Side', 'media_type': 'MPEG audio file', 'bytes': 5855836}, {'track_id': 2665, 'album_id': 211, 'song': 'Heart Of Stone', 'media_type': 'MPEG audio file', 'bytes': 5329538}, {'track_id': 2666, 'album_id': 211, 'song': 'Play With Fire', 'media_type': 'MPEG audio file', 'bytes': 4265297}, {'track_id': 2667, 'album_id': 211, 'song': 'Satisfaction', 'media_type': 'MPEG audio file', 'bytes': 7398766}  ... displaying 10 of 50 total bound parameter sets ...  {'track_id': 2708, 'album_id': 214, 'song': 'Psychopomp', 'media_type': 'MPEG audio file', 'bytes': 10295199}, {'track_id': 2709, 'album_id': 214, 'song': 'Sister Awake', 'media_type': 'MPEG audio file', 'bytes': 11299407})\n",
      "2021-12-07 15:05:43,998 INFO sqlalchemy.engine.base.Engine INSERT INTO jch5x8.track (track_id, album_id, song, media_type, bytes) VALUES (%(track_id)s, %(album_id)s, %(song)s, %(media_type)s, %(bytes)s)\n",
      "2021-12-07 15:05:43,998 INFO sqlalchemy.engine.base.Engine ({'track_id': 2710, 'album_id': 214, 'song': 'The Bazaar', 'media_type': 'MPEG audio file', 'bytes': 7245691}, {'track_id': 2711, 'album_id': 214, 'song': 'Save Me (Remix)', 'media_type': 'MPEG audio file', 'bytes': 13053839}, {'track_id': 2712, 'album_id': 214, 'song': 'Fire In The Head', 'media_type': 'MPEG audio file', 'bytes': 10005675}, {'track_id': 2713, 'album_id': 175, 'song': 'Release', 'media_type': 'MPEG audio file', 'bytes': 8014606}, {'track_id': 2714, 'album_id': 214, 'song': 'Heaven Coming Down', 'media_type': 'MPEG audio file', 'bytes': 7846459}, {'track_id': 2715, 'album_id': 214, 'song': 'The River (Remix)', 'media_type': 'MPEG audio file', 'bytes': 11193268}, {'track_id': 2716, 'album_id': 214, 'song': 'Babylon', 'media_type': 'MPEG audio file', 'bytes': 5568808}, {'track_id': 2717, 'album_id': 214, 'song': 'Waiting On A Sign', 'media_type': 'MPEG audio file', 'bytes': 8558590}  ... displaying 10 of 50 total bound parameter sets ...  {'track_id': 2758, 'album_id': 217, 'song': 'Não Vou Ficar', 'media_type': 'MPEG audio file', 'bytes': 5642919}, {'track_id': 2759, 'album_id': 217, 'song': 'Música No Ar', 'media_type': 'MPEG audio file', 'bytes': 5184891})\n"
     ]
    },
    {
     "name": "stdout",
     "output_type": "stream",
     "text": [
      "2021-12-07 15:05:44,008 INFO sqlalchemy.engine.base.Engine INSERT INTO jch5x8.track (track_id, album_id, song, media_type, bytes) VALUES (%(track_id)s, %(album_id)s, %(song)s, %(media_type)s, %(bytes)s)\n",
      "2021-12-07 15:05:44,009 INFO sqlalchemy.engine.base.Engine ({'track_id': 2760, 'album_id': 217, 'song': 'Salve Nossa Senhora', 'media_type': 'MPEG audio file', 'bytes': 3827629}, {'track_id': 2761, 'album_id': 217, 'song': 'Você Fugiu', 'media_type': 'MPEG audio file', 'bytes': 7971147}, {'track_id': 2762, 'album_id': 217, 'song': 'Cristina Nº 2', 'media_type': 'MPEG audio file', 'bytes': 2978589}, {'track_id': 2763, 'album_id': 217, 'song': 'Compadre', 'media_type': 'MPEG audio file', 'bytes': 5631446}, {'track_id': 2764, 'album_id': 217, 'song': 'Over Again', 'media_type': 'MPEG audio file', 'bytes': 6612634}, {'track_id': 2765, 'album_id': 217, 'song': 'Réu Confesso', 'media_type': 'MPEG audio file', 'bytes': 7189874}, {'track_id': 2766, 'album_id': 218, 'song': 'O Que Me Importa', 'media_type': 'MPEG audio file', 'bytes': 4977852}, {'track_id': 2767, 'album_id': 26, 'song': 'Gostava Tanto De Você', 'media_type': 'MPEG audio file', 'bytes': 8380077}  ... displaying 10 of 50 total bound parameter sets ...  {'track_id': 2808, 'album_id': 220, 'song': 'Domingo', 'media_type': 'MPEG audio file', 'bytes': 6883180}, {'track_id': 2809, 'album_id': 220, 'song': 'Amanhã Não Se Sabe', 'media_type': 'MPEG audio file', 'bytes': 6243967})\n",
      "2021-12-07 15:05:44,019 INFO sqlalchemy.engine.base.Engine INSERT INTO jch5x8.track (track_id, album_id, song, media_type, bytes) VALUES (%(track_id)s, %(album_id)s, %(song)s, %(media_type)s, %(bytes)s)\n",
      "2021-12-07 15:05:44,019 INFO sqlalchemy.engine.base.Engine ({'track_id': 2810, 'album_id': 220, 'song': 'Caras Como Eu', 'media_type': 'MPEG audio file', 'bytes': 5999048}, {'track_id': 2811, 'album_id': 220, 'song': 'Senhora E Senhor', 'media_type': 'MPEG audio file', 'bytes': 6733733}, {'track_id': 2812, 'album_id': 220, 'song': 'Era Uma Vez', 'media_type': 'MPEG audio file', 'bytes': 7453156}, {'track_id': 2813, 'album_id': 220, 'song': 'Miséria', 'media_type': 'MPEG audio file', 'bytes': 8727645}, {'track_id': 2814, 'album_id': 220, 'song': 'Insensível', 'media_type': 'MPEG audio file', 'bytes': 6893664}, {'track_id': 2815, 'album_id': 220, 'song': 'Eu E Ela', 'media_type': 'MPEG audio file', 'bytes': 9138846}, {'track_id': 2816, 'album_id': 220, 'song': 'Toda Cor', 'media_type': 'MPEG audio file', 'bytes': 6939176}, {'track_id': 2817, 'album_id': 220, 'song': 'É Preciso Saber Viver', 'media_type': 'MPEG audio file', 'bytes': 8271418}  ... displaying 10 of 50 total bound parameter sets ...  {'track_id': 2965, 'album_id': 224, 'song': 'Miracle Drug', 'media_type': 'MPEG audio file', 'bytes': 7760916}, {'track_id': 2966, 'album_id': 224, 'song': \"Sometimes You Can't Make It On Your Own\", 'media_type': 'MPEG audio file', 'bytes': 10112863})\n",
      "2021-12-07 15:05:44,031 INFO sqlalchemy.engine.base.Engine INSERT INTO jch5x8.track (track_id, album_id, song, media_type, bytes) VALUES (%(track_id)s, %(album_id)s, %(song)s, %(media_type)s, %(bytes)s)\n",
      "2021-12-07 15:05:44,031 INFO sqlalchemy.engine.base.Engine ({'track_id': 2967, 'album_id': 224, 'song': 'Love And Peace Or Else', 'media_type': 'MPEG audio file', 'bytes': 9476723}, {'track_id': 2968, 'album_id': 224, 'song': 'City Of Blinding Lights', 'media_type': 'MPEG audio file', 'bytes': 11432026}, {'track_id': 2969, 'album_id': 224, 'song': 'All Because Of You', 'media_type': 'MPEG audio file', 'bytes': 7198014}, {'track_id': 2970, 'album_id': 224, 'song': 'A Man And A Woman', 'media_type': 'MPEG audio file', 'bytes': 8938285}, {'track_id': 2971, 'album_id': 224, 'song': 'Crumbs From Your Table', 'media_type': 'MPEG audio file', 'bytes': 9892349}, {'track_id': 2972, 'album_id': 224, 'song': 'One Step Closer', 'media_type': 'MPEG audio file', 'bytes': 7512912}, {'track_id': 2973, 'album_id': 224, 'song': 'Original Of The Species', 'media_type': 'MPEG audio file', 'bytes': 9230041}, {'track_id': 2974, 'album_id': 224, 'song': 'Yahweh', 'media_type': 'MPEG audio file', 'bytes': 8636998}  ... displaying 10 of 50 total bound parameter sets ...  {'track_id': 3015, 'album_id': 226, 'song': 'When Love Comes To Town', 'media_type': 'MPEG audio file', 'bytes': 8479525}, {'track_id': 3016, 'album_id': 226, 'song': 'Angel Of Harlem', 'media_type': 'MPEG audio file', 'bytes': 7527339})\n",
      "2021-12-07 15:05:44,041 INFO sqlalchemy.engine.base.Engine INSERT INTO jch5x8.track (track_id, album_id, song, media_type, bytes) VALUES (%(track_id)s, %(album_id)s, %(song)s, %(media_type)s, %(bytes)s)\n",
      "2021-12-07 15:05:44,041 INFO sqlalchemy.engine.base.Engine ({'track_id': 3017, 'album_id': 226, 'song': 'All I Want Is You', 'media_type': 'MPEG audio file', 'bytes': 19202252}, {'track_id': 3018, 'album_id': 227, 'song': 'Sunday Bloody Sunday', 'media_type': 'MPEG audio file', 'bytes': 9140849}, {'track_id': 3019, 'album_id': 228, 'song': 'Seconds', 'media_type': 'MPEG audio file', 'bytes': 6352121}, {'track_id': 3020, 'album_id': 227, 'song': \"New Year's Day\", 'media_type': 'MPEG audio file', 'bytes': 11054732}, {'track_id': 3021, 'album_id': 228, 'song': 'Like A Song...', 'media_type': 'MPEG audio file', 'bytes': 9365379}, {'track_id': 3022, 'album_id': 228, 'song': 'Drowning Man', 'media_type': 'MPEG audio file', 'bytes': 8457066}, {'track_id': 3023, 'album_id': 228, 'song': 'The Refugee', 'media_type': 'MPEG audio file', 'bytes': 7374043}, {'track_id': 3024, 'album_id': 228, 'song': 'Two Hearts Beat As One', 'media_type': 'MPEG audio file', 'bytes': 7998323}  ... displaying 10 of 50 total bound parameter sets ...  {'track_id': 3065, 'album_id': 232, 'song': \"Ain't Talkin' 'bout Love\", 'media_type': 'MPEG audio file', 'bytes': 7569506}, {'track_id': 3066, 'album_id': 232, 'song': \"Runnin' With The Devil\", 'media_type': 'MPEG audio file', 'bytes': 7061901})\n",
      "2021-12-07 15:05:44,052 INFO sqlalchemy.engine.base.Engine INSERT INTO jch5x8.track (track_id, album_id, song, media_type, bytes) VALUES (%(track_id)s, %(album_id)s, %(song)s, %(media_type)s, %(bytes)s)\n",
      "2021-12-07 15:05:44,052 INFO sqlalchemy.engine.base.Engine ({'track_id': 3067, 'album_id': 232, 'song': 'Dance the Night Away', 'media_type': 'MPEG audio file', 'bytes': 6087433}, {'track_id': 3068, 'album_id': 232, 'song': 'And the Cradle Will Rock...', 'media_type': 'MPEG audio file', 'bytes': 7011402}, {'track_id': 3069, 'album_id': 232, 'song': 'Unchained', 'media_type': 'MPEG audio file', 'bytes': 6777078}, {'track_id': 3070, 'album_id': 232, 'song': 'Jump', 'media_type': 'MPEG audio file', 'bytes': 7911090}, {'track_id': 3071, 'album_id': 232, 'song': 'Panama', 'media_type': 'MPEG audio file', 'bytes': 6921784}, {'track_id': 3072, 'album_id': 232, 'song': \"Why Can't This Be Love\", 'media_type': 'MPEG audio file', 'bytes': 7457655}, {'track_id': 3073, 'album_id': 232, 'song': 'Dreams', 'media_type': 'MPEG audio file', 'bytes': 9504119}, {'track_id': 3074, 'album_id': 232, 'song': \"When It's Love\", 'media_type': 'MPEG audio file', 'bytes': 11049966}  ... displaying 10 of 50 total bound parameter sets ...  {'track_id': 3115, 'album_id': 235, 'song': 'Dirty Little Thing', 'media_type': 'MPEG audio file', 'bytes': 7732982}, {'track_id': 3116, 'album_id': 235, 'song': 'Loving The Alien', 'media_type': 'MPEG audio file', 'bytes': 11412762})\n",
      "2021-12-07 15:05:44,063 INFO sqlalchemy.engine.base.Engine INSERT INTO jch5x8.track (track_id, album_id, song, media_type, bytes) VALUES (%(track_id)s, %(album_id)s, %(song)s, %(media_type)s, %(bytes)s)\n",
      "2021-12-07 15:05:44,064 INFO sqlalchemy.engine.base.Engine ({'track_id': 3117, 'album_id': 236, 'song': 'Pela Luz Dos Olhos Teus', 'media_type': 'MPEG audio file', 'bytes': 3905715}, {'track_id': 3118, 'album_id': 236, 'song': 'A Bencao E Outros', 'media_type': 'MPEG audio file', 'bytes': 14234427}, {'track_id': 3119, 'album_id': 236, 'song': 'Tudo Na Mais Santa Paz', 'media_type': 'MPEG audio file', 'bytes': 7426757}, {'track_id': 3120, 'album_id': 236, 'song': 'O Velho E Aflor', 'media_type': 'MPEG audio file', 'bytes': 9126828}, {'track_id': 3121, 'album_id': 236, 'song': 'Cotidiano N 2', 'media_type': 'MPEG audio file', 'bytes': 1805797}, {'track_id': 3122, 'album_id': 236, 'song': 'Adeus', 'media_type': 'MPEG audio file', 'bytes': 7259351}, {'track_id': 3123, 'album_id': 236, 'song': 'Samba Pra Endrigo', 'media_type': 'MPEG audio file', 'bytes': 8823551}, {'track_id': 3124, 'album_id': 236, 'song': 'So Por Amor', 'media_type': 'MPEG audio file', 'bytes': 7745764}  ... displaying 10 of 50 total bound parameter sets ...  {'track_id': 3300, 'album_id': 239, 'song': 'Jump Around', 'media_type': 'MPEG audio file', 'bytes': 8715653}, {'track_id': 3301, 'album_id': 239, 'song': 'Salutations', 'media_type': 'MPEG audio file', 'bytes': 2767047})\n"
     ]
    },
    {
     "name": "stdout",
     "output_type": "stream",
     "text": [
      "2021-12-07 15:05:44,080 INFO sqlalchemy.engine.base.Engine INSERT INTO jch5x8.track (track_id, album_id, song, media_type, bytes) VALUES (%(track_id)s, %(album_id)s, %(song)s, %(media_type)s, %(bytes)s)\n",
      "2021-12-07 15:05:44,080 INFO sqlalchemy.engine.base.Engine ({'track_id': 3302, 'album_id': 239, 'song': 'Put Your Head Out', 'media_type': 'MPEG audio file', 'bytes': 7291473}, {'track_id': 3303, 'album_id': 239, 'song': \"Top O' The Morning To Ya\", 'media_type': 'MPEG audio file', 'bytes': 8667599}, {'track_id': 3304, 'album_id': 239, 'song': 'Commercial 1', 'media_type': 'MPEG audio file', 'bytes': 319888}, {'track_id': 3305, 'album_id': 239, 'song': 'House And The Rising Sun', 'media_type': 'MPEG audio file', 'bytes': 8778369}, {'track_id': 3306, 'album_id': 239, 'song': 'Shamrocks And Shenanigans', 'media_type': 'MPEG audio file', 'bytes': 8735518}, {'track_id': 3307, 'album_id': 239, 'song': 'House Of Pain Anthem', 'media_type': 'MPEG audio file', 'bytes': 6226713}, {'track_id': 3308, 'album_id': 239, 'song': 'Danny Boy, Danny Boy', 'media_type': 'MPEG audio file', 'bytes': 4583091}, {'track_id': 3309, 'album_id': 239, 'song': \"Guess Who's Back\", 'media_type': 'MPEG audio file', 'bytes': 9537994}  ... displaying 10 of 50 total bound parameter sets ...  {'track_id': 1156, 'album_id': 243, 'song': 'Anything Goes', 'media_type': 'Protected AAC audio file', 'bytes': 3451891}, {'track_id': 1157, 'album_id': 243, 'song': 'Rocket Queen', 'media_type': 'Protected AAC audio file', 'bytes': 6185539})\n",
      "2021-12-07 15:05:44,093 INFO sqlalchemy.engine.base.Engine INSERT INTO jch5x8.track (track_id, album_id, song, media_type, bytes) VALUES (%(track_id)s, %(album_id)s, %(song)s, %(media_type)s, %(bytes)s)\n",
      "2021-12-07 15:05:44,093 INFO sqlalchemy.engine.base.Engine ({'track_id': 1158, 'album_id': 244, 'song': 'Right Next Door to Hell', 'media_type': 'Protected AAC audio file', 'bytes': 3175950}, {'track_id': 1159, 'album_id': 244, 'song': \"Dust N' Bones\", 'media_type': 'Protected AAC audio file', 'bytes': 5053742}, {'track_id': 1160, 'album_id': 244, 'song': 'Live and Let Die', 'media_type': 'Protected AAC audio file', 'bytes': 3203390}, {'track_id': 1161, 'album_id': 244, 'song': \"Don't Cry (Original)\", 'media_type': 'Protected AAC audio file', 'bytes': 4833259}, {'track_id': 1162, 'album_id': 244, 'song': 'Perfect Crime', 'media_type': 'Protected AAC audio file', 'bytes': 2550030}, {'track_id': 1163, 'album_id': 244, 'song': \"You Ain't the First\", 'media_type': 'Protected AAC audio file', 'bytes': 2754414}, {'track_id': 1164, 'album_id': 244, 'song': 'Bad Obsession', 'media_type': 'Protected AAC audio file', 'bytes': 5537678}, {'track_id': 1165, 'album_id': 244, 'song': 'Back off Bitch', 'media_type': 'Protected AAC audio file', 'bytes': 5135662}  ... displaying 10 of 50 total bound parameter sets ...  {'track_id': 3257, 'album_id': 252, 'song': 'Cold Turkey', 'media_type': 'Protected AAC audio file', 'bytes': 4556003}, {'track_id': 3258, 'album_id': 252, 'song': 'Whatever Gets You Thru the Night', 'media_type': 'Protected AAC audio file', 'bytes': 3499018})\n",
      "2021-12-07 15:05:44,109 INFO sqlalchemy.engine.base.Engine INSERT INTO jch5x8.track (track_id, album_id, song, media_type, bytes) VALUES (%(track_id)s, %(album_id)s, %(song)s, %(media_type)s, %(bytes)s)\n",
      "2021-12-07 15:05:44,110 INFO sqlalchemy.engine.base.Engine ({'track_id': 3259, 'album_id': 252, 'song': \"I'm Losing You\", 'media_type': 'Protected AAC audio file', 'bytes': 3907467}, {'track_id': 3260, 'album_id': 252, 'song': 'Gimme Some Truth', 'media_type': 'Protected AAC audio file', 'bytes': 3780807}, {'track_id': 3261, 'album_id': 252, 'song': 'Oh, My Love', 'media_type': 'Protected AAC audio file', 'bytes': 2612788}, {'track_id': 3262, 'album_id': 252, 'song': 'Imagine', 'media_type': 'Protected AAC audio file', 'bytes': 3136271}, {'track_id': 3263, 'album_id': 252, 'song': 'Nobody Told Me', 'media_type': 'Protected AAC audio file', 'bytes': 3423395}, {'track_id': 3264, 'album_id': 252, 'song': 'Jealous Guy', 'media_type': 'Protected AAC audio file', 'bytes': 3881620}, {'track_id': 3265, 'album_id': 252, 'song': 'Working Class Hero', 'media_type': 'Protected AAC audio file', 'bytes': 4301430}, {'track_id': 3266, 'album_id': 252, 'song': 'Power to the People', 'media_type': 'Protected AAC audio file', 'bytes': 3466029}  ... displaying 10 of 50 total bound parameter sets ...  {'track_id': 3372, 'album_id': 255, 'song': 'Your Savior', 'media_type': 'Protected AAC audio file', 'bytes': 4199626}, {'track_id': 3373, 'album_id': 255, 'song': 'Four Walled World', 'media_type': 'Protected AAC audio file', 'bytes': 6964048})\n",
      "2021-12-07 15:05:44,122 INFO sqlalchemy.engine.base.Engine INSERT INTO jch5x8.track (track_id, album_id, song, media_type, bytes) VALUES (%(track_id)s, %(album_id)s, %(song)s, %(media_type)s, %(bytes)s)\n",
      "2021-12-07 15:05:44,123 INFO sqlalchemy.engine.base.Engine ({'track_id': 3374, 'album_id': 255, 'song': 'All Night Thing', 'media_type': 'Protected AAC audio file', 'bytes': 3997982}, {'track_id': 3375, 'album_id': 256, 'song': 'No Such Thing', 'media_type': 'Protected AAC audio file', 'bytes': 3691272}, {'track_id': 3376, 'album_id': 256, 'song': 'Poison Eye', 'media_type': 'Protected AAC audio file', 'bytes': 3890037}, {'track_id': 3377, 'album_id': 256, 'song': 'Arms Around Your Love', 'media_type': 'Protected AAC audio file', 'bytes': 3516224}, {'track_id': 3378, 'album_id': 256, 'song': 'Safe and Sound', 'media_type': 'Protected AAC audio file', 'bytes': 4207769}, {'track_id': 3379, 'album_id': 256, 'song': \"She'll Never Be Your Man\", 'media_type': 'Protected AAC audio file', 'bytes': 3355715}, {'track_id': 3380, 'album_id': 256, 'song': 'Ghosts', 'media_type': 'Protected AAC audio file', 'bytes': 3799745}, {'track_id': 3381, 'album_id': 256, 'song': 'Killing Birds', 'media_type': 'Protected AAC audio file', 'bytes': 3588776}  ... displaying 10 of 50 total bound parameter sets ...  {'track_id': 3424, 'album_id': 278, 'song': 'Turandot, Act III, Nessun dorma!', 'media_type': 'Protected AAC audio file', 'bytes': 2920890}, {'track_id': 3425, 'album_id': 279, 'song': 'Adagio for Strings from the String Quartet, Op. 11', 'media_type': 'Protected AAC audio file', 'bytes': 9585597})\n",
      "2021-12-07 15:05:44,133 INFO sqlalchemy.engine.base.Engine INSERT INTO jch5x8.track (track_id, album_id, song, media_type, bytes) VALUES (%(track_id)s, %(album_id)s, %(song)s, %(media_type)s, %(bytes)s)\n",
      "2021-12-07 15:05:44,134 INFO sqlalchemy.engine.base.Engine ({'track_id': 3426, 'album_id': 280, 'song': 'Carmina Burana: O Fortuna', 'media_type': 'Protected AAC audio file', 'bytes': 2630293}, {'track_id': 3427, 'album_id': 281, 'song': 'Fanfare for the Common Man', 'media_type': 'Protected AAC audio file', 'bytes': 3211245}, {'track_id': 3430, 'album_id': 282, 'song': 'Toccata and Fugue in D Minor, BWV 565: I. Toccata', 'media_type': 'Protected AAC audio file', 'bytes': 2649938}, {'track_id': 3431, 'album_id': 283, 'song': 'Symphony No.1 in D Major, Op.25 \"Classical\", Allegro Con Brio', 'media_type': 'Protected AAC audio file', 'bytes': 4195542}, {'track_id': 3432, 'album_id': 284, 'song': \"Scheherazade, Op. 35: I. The Sea and Sindbad's Ship\", 'media_type': 'Protected AAC audio file', 'bytes': 8916313}, {'track_id': 3433, 'album_id': 285, 'song': 'Concerto No.2 in F Major, BWV1047, I. Allegro', 'media_type': 'Protected AAC audio file', 'bytes': 5064553}, {'track_id': 3434, 'album_id': 286, 'song': 'Concerto for Piano No. 2 in F Minor, Op. 21: II. Larghetto', 'media_type': 'Protected AAC audio file', 'bytes': 9160082}, {'track_id': 3435, 'album_id': 287, 'song': 'Cavalleria Rusticana \\\\ Act \\\\ Intermezzo Sinfonico', 'media_type': 'Protected AAC audio file', 'bytes': 4001276}  ... displaying 10 of 50 total bound parameter sets ...  {'track_id': 3477, 'album_id': 306, 'song': 'Amy Amy Amy (Outro)', 'media_type': 'Protected AAC audio file', 'bytes': 10564704}, {'track_id': 3478, 'album_id': 307, 'song': 'Slowness', 'media_type': 'Protected AAC audio file', 'bytes': 3644793})\n",
      "2021-12-07 15:05:44,144 INFO sqlalchemy.engine.base.Engine INSERT INTO jch5x8.track (track_id, album_id, song, media_type, bytes) VALUES (%(track_id)s, %(album_id)s, %(song)s, %(media_type)s, %(bytes)s)\n"
     ]
    },
    {
     "name": "stdout",
     "output_type": "stream",
     "text": [
      "2021-12-07 15:05:44,144 INFO sqlalchemy.engine.base.Engine ({'track_id': 3481, 'album_id': 308, 'song': \"A Midsummer Night's Dream, Op.61 Incidental Music: No.7 Notturno\", 'media_type': 'Protected AAC audio file', 'bytes': 6497867}, {'track_id': 3482, 'album_id': 309, 'song': 'Suite No. 3 in D, BWV 1068: III. Gavotte I & II', 'media_type': 'Protected AAC audio file', 'bytes': 3847164}, {'track_id': 3483, 'album_id': 310, 'song': 'Concert pour 4 Parties de V**les, H. 545: I. Prelude', 'media_type': 'Protected AAC audio file', 'bytes': 1973559}, {'track_id': 3484, 'album_id': 311, 'song': 'Adios nonino', 'media_type': 'Protected AAC audio file', 'bytes': 4781384}, {'track_id': 3485, 'album_id': 312, 'song': 'Symphony No. 3 Op. 36 for Orchestra and Soprano \"Symfonia Piesni Zalosnych\" \\\\ Lento E Largo - Tranquillissimo', 'media_type': 'Protected AAC audio file', 'bytes': 9273123}, {'track_id': 3486, 'album_id': 313, 'song': 'Act IV, Symphony', 'media_type': 'Protected AAC audio file', 'bytes': 5987695}, {'track_id': 3487, 'album_id': 314, 'song': '3 Gymnopédies: No.1 - Lent Et Grave, No.3 - Lent Et Douloureux', 'media_type': 'Protected AAC audio file', 'bytes': 6458501}, {'track_id': 3488, 'album_id': 315, 'song': 'Music for the Funeral of Queen Mary: VI. \"Thou Knowest, Lord, the Secrets of Our Hearts\"', 'media_type': 'Protected AAC audio file', 'bytes': 2365930}  ... displaying 10 of 50 total bound parameter sets ...  {'track_id': 2846, 'album_id': 332, 'song': 'Seven Minutes to Midnight', 'media_type': 'Protected MPEG-4 video file', 'bytes': 515590682}, {'track_id': 2847, 'album_id': 332, 'song': 'Homecoming', 'media_type': 'Protected MPEG-4 video file', 'bytes': 516015339})\n",
      "2021-12-07 15:05:44,155 INFO sqlalchemy.engine.base.Engine INSERT INTO jch5x8.track (track_id, album_id, song, media_type, bytes) VALUES (%(track_id)s, %(album_id)s, %(song)s, %(media_type)s, %(bytes)s)\n",
      "2021-12-07 15:05:44,156 INFO sqlalchemy.engine.base.Engine ({'track_id': 2848, 'album_id': 332, 'song': 'Six Months Ago', 'media_type': 'Protected MPEG-4 video file', 'bytes': 505133869}, {'track_id': 2849, 'album_id': 332, 'song': 'Fallout', 'media_type': 'Protected MPEG-4 video file', 'bytes': 501145440}, {'track_id': 2850, 'album_id': 332, 'song': 'The Fix', 'media_type': 'Protected MPEG-4 video file', 'bytes': 507026323}, {'track_id': 2851, 'album_id': 332, 'song': 'Distractions', 'media_type': 'Protected MPEG-4 video file', 'bytes': 537111289}, {'track_id': 2852, 'album_id': 332, 'song': 'Run!', 'media_type': 'Protected MPEG-4 video file', 'bytes': 542936677}, {'track_id': 2853, 'album_id': 332, 'song': 'Unexpected', 'media_type': 'Protected MPEG-4 video file', 'bytes': 511777758}, {'track_id': 2854, 'album_id': 332, 'song': 'Company Man', 'media_type': 'Protected MPEG-4 video file', 'bytes': 493168135}, {'track_id': 2855, 'album_id': 332, 'song': 'Company Man', 'media_type': 'Protected MPEG-4 video file', 'bytes': 503786316}  ... displaying 10 of 50 total bound parameter sets ...  {'track_id': 2896, 'album_id': 336, 'song': 'The Long Con', 'media_type': 'Protected MPEG-4 video file', 'bytes': 518376636}, {'track_id': 2897, 'album_id': 336, 'song': 'One of Them', 'media_type': 'Protected MPEG-4 video file', 'bytes': 542332389})\n",
      "2021-12-07 15:05:44,168 INFO sqlalchemy.engine.base.Engine INSERT INTO jch5x8.track (track_id, album_id, song, media_type, bytes) VALUES (%(track_id)s, %(album_id)s, %(song)s, %(media_type)s, %(bytes)s)\n",
      "2021-12-07 15:05:44,169 INFO sqlalchemy.engine.base.Engine ({'track_id': 2898, 'album_id': 335, 'song': 'Special', 'media_type': 'Protected MPEG-4 video file', 'bytes': 219961967}, {'track_id': 2899, 'album_id': 334, 'song': 'The Man from Tallahassee', 'media_type': 'Protected MPEG-4 video file', 'bytes': 550893556}, {'track_id': 2900, 'album_id': 334, 'song': 'Exposé', 'media_type': 'Protected MPEG-4 video file', 'bytes': 511338017}, {'track_id': 2901, 'album_id': 332, 'song': 'Homecoming', 'media_type': 'Protected MPEG-4 video file', 'bytes': 210675221}, {'track_id': 2902, 'album_id': 336, 'song': 'Maternity Leave', 'media_type': 'Protected MPEG-4 video file', 'bytes': 555244214}, {'track_id': 2903, 'album_id': 334, 'song': 'Left Behind', 'media_type': 'Protected MPEG-4 video file', 'bytes': 538491964}, {'track_id': 2904, 'album_id': 335, 'song': 'Outlaws', 'media_type': 'Protected MPEG-4 video file', 'bytes': 206500939}, {'track_id': 2905, 'album_id': 336, 'song': 'The Whole Truth', 'media_type': 'Protected MPEG-4 video file', 'bytes': 495487014}  ... displaying 10 of 50 total bound parameter sets ...  {'track_id': 3185, 'album_id': 340, 'song': 'Performance Review', 'media_type': 'Protected MPEG-4 video file', 'bytes': 256143822}, {'track_id': 3186, 'album_id': 340, 'song': 'Email Surveillance', 'media_type': 'Protected MPEG-4 video file', 'bytes': 265101113})\n",
      "2021-12-07 15:05:44,180 INFO sqlalchemy.engine.base.Engine INSERT INTO jch5x8.track (track_id, album_id, song, media_type, bytes) VALUES (%(track_id)s, %(album_id)s, %(song)s, %(media_type)s, %(bytes)s)\n",
      "2021-12-07 15:05:44,181 INFO sqlalchemy.engine.base.Engine ({'track_id': 3187, 'album_id': 340, 'song': 'Christmas Party', 'media_type': 'Protected MPEG-4 video file', 'bytes': 260891300}, {'track_id': 3188, 'album_id': 340, 'song': 'Booze Cruise', 'media_type': 'Protected MPEG-4 video file', 'bytes': 252518021}, {'track_id': 3189, 'album_id': 340, 'song': 'The Injury', 'media_type': 'Protected MPEG-4 video file', 'bytes': 253912762}, {'track_id': 3190, 'album_id': 340, 'song': 'The Secret', 'media_type': 'Protected MPEG-4 video file', 'bytes': 253143200}, {'track_id': 3191, 'album_id': 340, 'song': 'The Carpet', 'media_type': 'Protected MPEG-4 video file', 'bytes': 256477011}, {'track_id': 3192, 'album_id': 340, 'song': 'Boys and Girls', 'media_type': 'Protected MPEG-4 video file', 'bytes': 255245729}, {'track_id': 3193, 'album_id': 340, 'song': \"Valentine's Day\", 'media_type': 'Protected MPEG-4 video file', 'bytes': 253552710}, {'track_id': 3194, 'album_id': 340, 'song': \"Dwight's Speech\", 'media_type': 'Protected MPEG-4 video file', 'bytes': 255001728}  ... displaying 10 of 50 total bound parameter sets ...  {'track_id': 3236, 'album_id': 343, 'song': 'The Young Lords', 'media_type': 'Protected MPEG-4 video file', 'bytes': 587051735}, {'track_id': 3237, 'album_id': 343, 'song': 'The Living Legend, Pt. 1', 'media_type': 'Protected MPEG-4 video file', 'bytes': 503641007})\n",
      "2021-12-07 15:05:44,190 INFO sqlalchemy.engine.base.Engine INSERT INTO jch5x8.track (track_id, album_id, song, media_type, bytes) VALUES (%(track_id)s, %(album_id)s, %(song)s, %(media_type)s, %(bytes)s)\n",
      "2021-12-07 15:05:44,191 INFO sqlalchemy.engine.base.Engine ({'track_id': 3238, 'album_id': 343, 'song': 'The Living Legend, Pt. 2', 'media_type': 'Protected MPEG-4 video file', 'bytes': 515632754}, {'track_id': 3239, 'album_id': 343, 'song': 'Fire In Space', 'media_type': 'Protected MPEG-4 video file', 'bytes': 536784757}, {'track_id': 3240, 'album_id': 343, 'song': 'War of the Gods, Pt. 1', 'media_type': 'Protected MPEG-4 video file', 'bytes': 505761343}, {'track_id': 3241, 'album_id': 343, 'song': 'War of the Gods, Pt. 2', 'media_type': 'Protected MPEG-4 video file', 'bytes': 487899692}, {'track_id': 3242, 'album_id': 343, 'song': 'The Man With Nine Lives', 'media_type': 'Protected MPEG-4 video file', 'bytes': 577829804}, {'track_id': 3243, 'album_id': 343, 'song': 'Murder On the Rising Star', 'media_type': 'Protected MPEG-4 video file', 'bytes': 551759986}, {'track_id': 3244, 'album_id': 343, 'song': 'Greetings from Earth, Pt. 1', 'media_type': 'Protected MPEG-4 video file', 'bytes': 536824558}, {'track_id': 3245, 'album_id': 343, 'song': 'Greetings from Earth, Pt. 2', 'media_type': 'Protected MPEG-4 video file', 'bytes': 527842860}  ... displaying 10 of 50 total bound parameter sets ...  {'track_id': 3355, 'album_id': 357, 'song': 'Love Comes', 'media_type': 'AAC audio file', 'bytes': 3240609}, {'track_id': 3356, 'album_id': 358, 'song': 'Muita Bobeira', 'media_type': 'AAC audio file', 'bytes': 2775071})\n",
      "2021-12-07 15:05:44,206 INFO sqlalchemy.engine.base.Engine INSERT INTO jch5x8.track (track_id, album_id, song, media_type, bytes) VALUES (%(track_id)s, %(album_id)s, %(song)s, %(media_type)s, %(bytes)s)\n"
     ]
    },
    {
     "name": "stdout",
     "output_type": "stream",
     "text": [
      "2021-12-07 15:05:44,207 INFO sqlalchemy.engine.base.Engine ({'track_id': 3357, 'album_id': 359, 'song': \"OAM's Blues\", 'media_type': 'AAC audio file', 'bytes': 4292028}, {'track_id': 3358, 'album_id': 356, 'song': 'One Step Beyond', 'media_type': 'AAC audio file', 'bytes': 6034098}, {'track_id': 3359, 'album_id': 360, 'song': 'Symphony No. 3 in E-flat major, Op. 55, \"Eroica\" - Scherzo: Allegro Vivace', 'media_type': 'AAC audio file', 'bytes': 5817216})\n",
      "2021-12-07 15:05:44,208 INFO sqlalchemy.engine.base.Engine COMMIT\n"
     ]
    }
   ],
   "source": [
    "col_list = [\"track_id\", \"song\", \"media_type\", \"bytes\", \"album_id\"]\n",
    "track = pd.read_csv(\"track.csv\", usecols = col_list, encoding = \"ISO-8859-1\")\n",
    "# col_list2 = [\"track_id\", \"unit_price\"]\n",
    "# price = pd.read_csv(\"invoice.csv\", usecols = col_list2)\n",
    "# track = pd.merge(track, price, on=\"track_id\", how=\"left\")\n",
    "# track = track.drop('track_id', 1)\n",
    "# track['unit_price'] = track['unit_price'].fillna(0)\n",
    "#track.head()\n",
    "\n",
    "track.to_sql('track',           # Table to load to\n",
    "            engine,               # Engine created above\n",
    "            schema = username,    # Schema where table lives\n",
    "            if_exists = 'append', # If table found, add data\n",
    "            index = False,        # Ignore data frame row index\n",
    "            chunksize = 50        # Load 50 records from data frame at a time\n",
    "        )"
   ]
  },
  {
   "cell_type": "code",
   "execution_count": 26,
   "metadata": {},
   "outputs": [
    {
     "name": "stdout",
     "output_type": "stream",
     "text": [
      "2021-12-07 15:05:45,087 INFO sqlalchemy.engine.base.Engine select relname from pg_class c join pg_namespace n on n.oid=c.relnamespace where n.nspname=%(schema)s and relname=%(name)s\n",
      "2021-12-07 15:05:45,088 INFO sqlalchemy.engine.base.Engine {'schema': 'jch5x8', 'name': 'playlist'}\n",
      "2021-12-07 15:05:45,092 INFO sqlalchemy.engine.base.Engine BEGIN (implicit)\n",
      "2021-12-07 15:05:45,093 INFO sqlalchemy.engine.base.Engine INSERT INTO jch5x8.playlist (track_playlist_id, playlist, track_id) VALUES (%(track_playlist_id)s, %(playlist)s, %(track_id)s)\n",
      "2021-12-07 15:05:45,093 INFO sqlalchemy.engine.base.Engine ({'track_playlist_id': 1, 'playlist': 'Music', 'track_id': 1}, {'track_playlist_id': 2, 'playlist': 'Heavy Metal Classic', 'track_id': 1}, {'track_playlist_id': 3, 'playlist': 'Music', 'track_id': 6}, {'track_playlist_id': 4, 'playlist': 'Music', 'track_id': 7}, {'track_playlist_id': 5, 'playlist': 'Music', 'track_id': 8}, {'track_playlist_id': 6, 'playlist': 'Music', 'track_id': 9}, {'track_playlist_id': 7, 'playlist': 'Music', 'track_id': 10}, {'track_playlist_id': 8, 'playlist': 'Music', 'track_id': 11}  ... displaying 10 of 50 total bound parameter sets ...  {'track_playlist_id': 49, 'playlist': '90\\x92s Music', 'track_id': 37}, {'track_playlist_id': 50, 'playlist': 'Music', 'track_id': 38})\n",
      "2021-12-07 15:05:45,110 INFO sqlalchemy.engine.base.Engine INSERT INTO jch5x8.playlist (track_playlist_id, playlist, track_id) VALUES (%(track_playlist_id)s, %(playlist)s, %(track_id)s)\n",
      "2021-12-07 15:05:45,111 INFO sqlalchemy.engine.base.Engine ({'track_playlist_id': 51, 'playlist': '90\\x92s Music', 'track_id': 38}, {'track_playlist_id': 52, 'playlist': 'Music', 'track_id': 39}, {'track_playlist_id': 53, 'playlist': '90\\x92s Music', 'track_id': 39}, {'track_playlist_id': 54, 'playlist': 'Music', 'track_id': 40}, {'track_playlist_id': 55, 'playlist': '90\\x92s Music', 'track_id': 40}, {'track_playlist_id': 56, 'playlist': 'Music', 'track_id': 41}, {'track_playlist_id': 57, 'playlist': '90\\x92s Music', 'track_id': 41}, {'track_playlist_id': 58, 'playlist': 'Music', 'track_id': 42}  ... displaying 10 of 50 total bound parameter sets ...  {'track_playlist_id': 99, 'playlist': 'Music', 'track_id': 62}, {'track_playlist_id': 100, 'playlist': '90\\x92s Music', 'track_id': 62})\n",
      "2021-12-07 15:05:45,121 INFO sqlalchemy.engine.base.Engine INSERT INTO jch5x8.playlist (track_playlist_id, playlist, track_id) VALUES (%(track_playlist_id)s, %(playlist)s, %(track_id)s)\n",
      "2021-12-07 15:05:45,122 INFO sqlalchemy.engine.base.Engine ({'track_playlist_id': 101, 'playlist': 'Music', 'track_id': 63}, {'track_playlist_id': 102, 'playlist': 'Music', 'track_id': 64}, {'track_playlist_id': 103, 'playlist': 'Music', 'track_id': 65}, {'track_playlist_id': 104, 'playlist': 'Music', 'track_id': 66}, {'track_playlist_id': 105, 'playlist': 'Music', 'track_id': 67}, {'track_playlist_id': 106, 'playlist': 'Music', 'track_id': 68}, {'track_playlist_id': 107, 'playlist': 'Music', 'track_id': 69}, {'track_playlist_id': 108, 'playlist': 'Music', 'track_id': 70}  ... displaying 10 of 50 total bound parameter sets ...  {'track_playlist_id': 149, 'playlist': 'Music', 'track_id': 103}, {'track_playlist_id': 150, 'playlist': 'Music', 'track_id': 104})\n",
      "2021-12-07 15:05:45,132 INFO sqlalchemy.engine.base.Engine INSERT INTO jch5x8.playlist (track_playlist_id, playlist, track_id) VALUES (%(track_playlist_id)s, %(playlist)s, %(track_id)s)\n",
      "2021-12-07 15:05:45,132 INFO sqlalchemy.engine.base.Engine ({'track_playlist_id': 151, 'playlist': 'Music', 'track_id': 105}, {'track_playlist_id': 152, 'playlist': 'Music', 'track_id': 106}, {'track_playlist_id': 153, 'playlist': 'Music', 'track_id': 107}, {'track_playlist_id': 154, 'playlist': 'Music', 'track_id': 108}, {'track_playlist_id': 155, 'playlist': 'Music', 'track_id': 109}, {'track_playlist_id': 156, 'playlist': 'Music', 'track_id': 110}, {'track_playlist_id': 157, 'playlist': 'Music', 'track_id': 111}, {'track_playlist_id': 158, 'playlist': '90\\x92s Music', 'track_id': 111}  ... displaying 10 of 50 total bound parameter sets ...  {'track_playlist_id': 199, 'playlist': 'Music', 'track_id': 141}, {'track_playlist_id': 200, 'playlist': 'Music', 'track_id': 142})\n",
      "2021-12-07 15:05:45,142 INFO sqlalchemy.engine.base.Engine INSERT INTO jch5x8.playlist (track_playlist_id, playlist, track_id) VALUES (%(track_playlist_id)s, %(playlist)s, %(track_id)s)\n",
      "2021-12-07 15:05:45,142 INFO sqlalchemy.engine.base.Engine ({'track_playlist_id': 201, 'playlist': 'Music', 'track_id': 143}, {'track_playlist_id': 202, 'playlist': 'Music', 'track_id': 144}, {'track_playlist_id': 203, 'playlist': 'Music', 'track_id': 145}, {'track_playlist_id': 204, 'playlist': 'Music', 'track_id': 146}, {'track_playlist_id': 205, 'playlist': 'Music', 'track_id': 147}, {'track_playlist_id': 206, 'playlist': 'Music', 'track_id': 148}, {'track_playlist_id': 207, 'playlist': 'Music', 'track_id': 149}, {'track_playlist_id': 208, 'playlist': 'Music', 'track_id': 150}  ... displaying 10 of 50 total bound parameter sets ...  {'track_playlist_id': 249, 'playlist': '90\\x92s Music', 'track_id': 177}, {'track_playlist_id': 250, 'playlist': 'Music', 'track_id': 178})\n",
      "2021-12-07 15:05:45,152 INFO sqlalchemy.engine.base.Engine INSERT INTO jch5x8.playlist (track_playlist_id, playlist, track_id) VALUES (%(track_playlist_id)s, %(playlist)s, %(track_id)s)\n",
      "2021-12-07 15:05:45,152 INFO sqlalchemy.engine.base.Engine ({'track_playlist_id': 251, 'playlist': '90\\x92s Music', 'track_id': 178}, {'track_playlist_id': 252, 'playlist': 'Music', 'track_id': 179}, {'track_playlist_id': 253, 'playlist': '90\\x92s Music', 'track_id': 179}, {'track_playlist_id': 254, 'playlist': 'Music', 'track_id': 180}, {'track_playlist_id': 255, 'playlist': '90\\x92s Music', 'track_id': 180}, {'track_playlist_id': 256, 'playlist': 'Music', 'track_id': 181}, {'track_playlist_id': 257, 'playlist': '90\\x92s Music', 'track_id': 181}, {'track_playlist_id': 258, 'playlist': 'Music', 'track_id': 182}  ... displaying 10 of 50 total bound parameter sets ...  {'track_playlist_id': 299, 'playlist': 'Music', 'track_id': 208}, {'track_playlist_id': 300, 'playlist': '90\\x92s Music', 'track_id': 208})\n",
      "2021-12-07 15:05:45,162 INFO sqlalchemy.engine.base.Engine INSERT INTO jch5x8.playlist (track_playlist_id, playlist, track_id) VALUES (%(track_playlist_id)s, %(playlist)s, %(track_id)s)\n",
      "2021-12-07 15:05:45,162 INFO sqlalchemy.engine.base.Engine ({'track_playlist_id': 301, 'playlist': 'Music', 'track_id': 209}, {'track_playlist_id': 302, 'playlist': '90\\x92s Music', 'track_id': 209}, {'track_playlist_id': 303, 'playlist': 'Music', 'track_id': 210}, {'track_playlist_id': 304, 'playlist': '90\\x92s Music', 'track_id': 210}, {'track_playlist_id': 305, 'playlist': 'Music', 'track_id': 211}, {'track_playlist_id': 306, 'playlist': '90\\x92s Music', 'track_id': 211}, {'track_playlist_id': 307, 'playlist': 'Music', 'track_id': 212}, {'track_playlist_id': 308, 'playlist': '90\\x92s Music', 'track_id': 212}  ... displaying 10 of 50 total bound parameter sets ...  {'track_playlist_id': 349, 'playlist': 'Music', 'track_id': 237}, {'track_playlist_id': 350, 'playlist': 'Music', 'track_id': 238})\n",
      "2021-12-07 15:05:45,173 INFO sqlalchemy.engine.base.Engine INSERT INTO jch5x8.playlist (track_playlist_id, playlist, track_id) VALUES (%(track_playlist_id)s, %(playlist)s, %(track_id)s)\n",
      "2021-12-07 15:05:45,173 INFO sqlalchemy.engine.base.Engine ({'track_playlist_id': 351, 'playlist': 'Music', 'track_id': 239}, {'track_playlist_id': 352, 'playlist': 'Music', 'track_id': 240}, {'track_playlist_id': 353, 'playlist': 'Music', 'track_id': 241}, {'track_playlist_id': 354, 'playlist': 'Music', 'track_id': 242}, {'track_playlist_id': 355, 'playlist': 'Music', 'track_id': 243}, {'track_playlist_id': 356, 'playlist': 'Music', 'track_id': 244}, {'track_playlist_id': 357, 'playlist': 'Music', 'track_id': 245}, {'track_playlist_id': 358, 'playlist': 'Music', 'track_id': 246}  ... displaying 10 of 50 total bound parameter sets ...  {'track_playlist_id': 399, 'playlist': '90\\x92s Music', 'track_id': 266}, {'track_playlist_id': 400, 'playlist': 'Music', 'track_id': 267})\n",
      "2021-12-07 15:05:45,183 INFO sqlalchemy.engine.base.Engine INSERT INTO jch5x8.playlist (track_playlist_id, playlist, track_id) VALUES (%(track_playlist_id)s, %(playlist)s, %(track_id)s)\n"
     ]
    },
    {
     "name": "stdout",
     "output_type": "stream",
     "text": [
      "2021-12-07 15:05:45,183 INFO sqlalchemy.engine.base.Engine ({'track_playlist_id': 401, 'playlist': '90\\x92s Music', 'track_id': 267}, {'track_playlist_id': 402, 'playlist': 'Music', 'track_id': 268}, {'track_playlist_id': 403, 'playlist': '90\\x92s Music', 'track_id': 268}, {'track_playlist_id': 404, 'playlist': 'Music', 'track_id': 269}, {'track_playlist_id': 405, 'playlist': '90\\x92s Music', 'track_id': 269}, {'track_playlist_id': 406, 'playlist': 'Music', 'track_id': 270}, {'track_playlist_id': 407, 'playlist': '90\\x92s Music', 'track_id': 270}, {'track_playlist_id': 408, 'playlist': 'Music', 'track_id': 271}  ... displaying 10 of 50 total bound parameter sets ...  {'track_playlist_id': 449, 'playlist': 'Music', 'track_id': 300}, {'track_playlist_id': 450, 'playlist': '90\\x92s Music', 'track_id': 300})\n",
      "2021-12-07 15:05:45,193 INFO sqlalchemy.engine.base.Engine INSERT INTO jch5x8.playlist (track_playlist_id, playlist, track_id) VALUES (%(track_playlist_id)s, %(playlist)s, %(track_id)s)\n",
      "2021-12-07 15:05:45,194 INFO sqlalchemy.engine.base.Engine ({'track_playlist_id': 451, 'playlist': 'Music', 'track_id': 301}, {'track_playlist_id': 452, 'playlist': '90\\x92s Music', 'track_id': 301}, {'track_playlist_id': 453, 'playlist': 'Music', 'track_id': 302}, {'track_playlist_id': 454, 'playlist': '90\\x92s Music', 'track_id': 302}, {'track_playlist_id': 455, 'playlist': 'Music', 'track_id': 303}, {'track_playlist_id': 456, 'playlist': '90\\x92s Music', 'track_id': 303}, {'track_playlist_id': 457, 'playlist': 'Music', 'track_id': 304}, {'track_playlist_id': 458, 'playlist': '90\\x92s Music', 'track_id': 304}  ... displaying 10 of 50 total bound parameter sets ...  {'track_playlist_id': 499, 'playlist': 'Music', 'track_id': 337}, {'track_playlist_id': 500, 'playlist': '90\\x92s Music', 'track_id': 337})\n",
      "2021-12-07 15:05:45,204 INFO sqlalchemy.engine.base.Engine INSERT INTO jch5x8.playlist (track_playlist_id, playlist, track_id) VALUES (%(track_playlist_id)s, %(playlist)s, %(track_id)s)\n",
      "2021-12-07 15:05:45,204 INFO sqlalchemy.engine.base.Engine ({'track_playlist_id': 501, 'playlist': 'Music', 'track_id': 338}, {'track_playlist_id': 502, 'playlist': '90\\x92s Music', 'track_id': 338}, {'track_playlist_id': 503, 'playlist': 'Music', 'track_id': 339}, {'track_playlist_id': 504, 'playlist': '90\\x92s Music', 'track_id': 339}, {'track_playlist_id': 505, 'playlist': 'Music', 'track_id': 340}, {'track_playlist_id': 506, 'playlist': '90\\x92s Music', 'track_id': 340}, {'track_playlist_id': 507, 'playlist': 'Music', 'track_id': 341}, {'track_playlist_id': 508, 'playlist': '90\\x92s Music', 'track_id': 341}  ... displaying 10 of 50 total bound parameter sets ...  {'track_playlist_id': 549, 'playlist': 'Music', 'track_id': 373}, {'track_playlist_id': 550, 'playlist': 'Music', 'track_id': 374})\n",
      "2021-12-07 15:05:45,215 INFO sqlalchemy.engine.base.Engine INSERT INTO jch5x8.playlist (track_playlist_id, playlist, track_id) VALUES (%(track_playlist_id)s, %(playlist)s, %(track_id)s)\n",
      "2021-12-07 15:05:45,216 INFO sqlalchemy.engine.base.Engine ({'track_playlist_id': 551, 'playlist': 'Music', 'track_id': 375}, {'track_playlist_id': 552, 'playlist': 'Music', 'track_id': 376}, {'track_playlist_id': 553, 'playlist': 'Music', 'track_id': 377}, {'track_playlist_id': 554, 'playlist': 'Music', 'track_id': 378}, {'track_playlist_id': 555, 'playlist': 'Music', 'track_id': 379}, {'track_playlist_id': 556, 'playlist': 'Music', 'track_id': 380}, {'track_playlist_id': 557, 'playlist': 'Music', 'track_id': 381}, {'track_playlist_id': 558, 'playlist': 'Music', 'track_id': 382}  ... displaying 10 of 50 total bound parameter sets ...  {'track_playlist_id': 599, 'playlist': '90\\x92s Music', 'track_id': 414}, {'track_playlist_id': 600, 'playlist': 'Music', 'track_id': 415})\n",
      "2021-12-07 15:05:45,225 INFO sqlalchemy.engine.base.Engine INSERT INTO jch5x8.playlist (track_playlist_id, playlist, track_id) VALUES (%(track_playlist_id)s, %(playlist)s, %(track_id)s)\n",
      "2021-12-07 15:05:45,226 INFO sqlalchemy.engine.base.Engine ({'track_playlist_id': 601, 'playlist': '90\\x92s Music', 'track_id': 415}, {'track_playlist_id': 602, 'playlist': 'Music', 'track_id': 416}, {'track_playlist_id': 603, 'playlist': '90\\x92s Music', 'track_id': 416}, {'track_playlist_id': 604, 'playlist': 'Music', 'track_id': 417}, {'track_playlist_id': 605, 'playlist': '90\\x92s Music', 'track_id': 417}, {'track_playlist_id': 606, 'playlist': 'Music', 'track_id': 418}, {'track_playlist_id': 607, 'playlist': '90\\x92s Music', 'track_id': 418}, {'track_playlist_id': 608, 'playlist': 'Music', 'track_id': 419}  ... displaying 10 of 50 total bound parameter sets ...  {'track_playlist_id': 649, 'playlist': 'Music', 'track_id': 446}, {'track_playlist_id': 650, 'playlist': '90\\x92s Music', 'track_id': 446})\n",
      "2021-12-07 15:05:45,236 INFO sqlalchemy.engine.base.Engine INSERT INTO jch5x8.playlist (track_playlist_id, playlist, track_id) VALUES (%(track_playlist_id)s, %(playlist)s, %(track_id)s)\n",
      "2021-12-07 15:05:45,236 INFO sqlalchemy.engine.base.Engine ({'track_playlist_id': 651, 'playlist': 'Music', 'track_id': 447}, {'track_playlist_id': 652, 'playlist': '90\\x92s Music', 'track_id': 447}, {'track_playlist_id': 653, 'playlist': 'Music', 'track_id': 448}, {'track_playlist_id': 654, 'playlist': '90\\x92s Music', 'track_id': 448}, {'track_playlist_id': 655, 'playlist': 'Music', 'track_id': 449}, {'track_playlist_id': 656, 'playlist': '90\\x92s Music', 'track_id': 449}, {'track_playlist_id': 657, 'playlist': 'Music', 'track_id': 450}, {'track_playlist_id': 658, 'playlist': '90\\x92s Music', 'track_id': 450}  ... displaying 10 of 50 total bound parameter sets ...  {'track_playlist_id': 699, 'playlist': '90\\x92s Music', 'track_id': 472}, {'track_playlist_id': 700, 'playlist': 'Music', 'track_id': 473})\n",
      "2021-12-07 15:05:45,246 INFO sqlalchemy.engine.base.Engine INSERT INTO jch5x8.playlist (track_playlist_id, playlist, track_id) VALUES (%(track_playlist_id)s, %(playlist)s, %(track_id)s)\n",
      "2021-12-07 15:05:45,247 INFO sqlalchemy.engine.base.Engine ({'track_playlist_id': 701, 'playlist': '90\\x92s Music', 'track_id': 473}, {'track_playlist_id': 702, 'playlist': 'Music', 'track_id': 474}, {'track_playlist_id': 703, 'playlist': '90\\x92s Music', 'track_id': 474}, {'track_playlist_id': 704, 'playlist': 'Music', 'track_id': 475}, {'track_playlist_id': 705, 'playlist': '90\\x92s Music', 'track_id': 475}, {'track_playlist_id': 706, 'playlist': 'Music', 'track_id': 476}, {'track_playlist_id': 707, 'playlist': '90\\x92s Music', 'track_id': 476}, {'track_playlist_id': 708, 'playlist': 'Music', 'track_id': 477}  ... displaying 10 of 50 total bound parameter sets ...  {'track_playlist_id': 749, 'playlist': 'Brazilian Music', 'track_id': 504}, {'track_playlist_id': 750, 'playlist': 'Music', 'track_id': 505})\n",
      "2021-12-07 15:05:45,256 INFO sqlalchemy.engine.base.Engine INSERT INTO jch5x8.playlist (track_playlist_id, playlist, track_id) VALUES (%(track_playlist_id)s, %(playlist)s, %(track_id)s)\n",
      "2021-12-07 15:05:45,257 INFO sqlalchemy.engine.base.Engine ({'track_playlist_id': 751, 'playlist': '90\\x92s Music', 'track_id': 505}, {'track_playlist_id': 752, 'playlist': 'Music', 'track_id': 506}, {'track_playlist_id': 753, 'playlist': '90\\x92s Music', 'track_id': 506}, {'track_playlist_id': 754, 'playlist': 'Music', 'track_id': 507}, {'track_playlist_id': 755, 'playlist': '90\\x92s Music', 'track_id': 507}, {'track_playlist_id': 756, 'playlist': 'Music', 'track_id': 508}, {'track_playlist_id': 757, 'playlist': '90\\x92s Music', 'track_id': 508}, {'track_playlist_id': 758, 'playlist': 'Music', 'track_id': 509}  ... displaying 10 of 50 total bound parameter sets ...  {'track_playlist_id': 799, 'playlist': '90\\x92s Music', 'track_id': 528}, {'track_playlist_id': 800, 'playlist': 'Music', 'track_id': 529})\n",
      "2021-12-07 15:05:45,267 INFO sqlalchemy.engine.base.Engine INSERT INTO jch5x8.playlist (track_playlist_id, playlist, track_id) VALUES (%(track_playlist_id)s, %(playlist)s, %(track_id)s)\n",
      "2021-12-07 15:05:45,267 INFO sqlalchemy.engine.base.Engine ({'track_playlist_id': 801, 'playlist': 'Music', 'track_id': 530}, {'track_playlist_id': 802, 'playlist': 'Music', 'track_id': 531}, {'track_playlist_id': 803, 'playlist': 'Music', 'track_id': 532}, {'track_playlist_id': 804, 'playlist': 'Music', 'track_id': 533}, {'track_playlist_id': 805, 'playlist': 'Music', 'track_id': 534}, {'track_playlist_id': 806, 'playlist': 'Music', 'track_id': 535}, {'track_playlist_id': 807, 'playlist': 'Music', 'track_id': 536}, {'track_playlist_id': 808, 'playlist': 'Music', 'track_id': 537}  ... displaying 10 of 50 total bound parameter sets ...  {'track_playlist_id': 849, 'playlist': 'Music', 'track_id': 574}, {'track_playlist_id': 850, 'playlist': '90\\x92s Music', 'track_id': 574})\n"
     ]
    },
    {
     "name": "stdout",
     "output_type": "stream",
     "text": [
      "2021-12-07 15:05:45,277 INFO sqlalchemy.engine.base.Engine INSERT INTO jch5x8.playlist (track_playlist_id, playlist, track_id) VALUES (%(track_playlist_id)s, %(playlist)s, %(track_id)s)\n",
      "2021-12-07 15:05:45,278 INFO sqlalchemy.engine.base.Engine ({'track_playlist_id': 851, 'playlist': 'Music', 'track_id': 575}, {'track_playlist_id': 852, 'playlist': '90\\x92s Music', 'track_id': 575}, {'track_playlist_id': 853, 'playlist': 'Music', 'track_id': 576}, {'track_playlist_id': 854, 'playlist': '90\\x92s Music', 'track_id': 576}, {'track_playlist_id': 855, 'playlist': 'Music', 'track_id': 577}, {'track_playlist_id': 856, 'playlist': '90\\x92s Music', 'track_id': 577}, {'track_playlist_id': 857, 'playlist': 'Music', 'track_id': 578}, {'track_playlist_id': 858, 'playlist': '90\\x92s Music', 'track_id': 578}  ... displaying 10 of 50 total bound parameter sets ...  {'track_playlist_id': 899, 'playlist': 'Music', 'track_id': 600}, {'track_playlist_id': 900, 'playlist': 'Music', 'track_id': 601})\n",
      "2021-12-07 15:05:45,287 INFO sqlalchemy.engine.base.Engine INSERT INTO jch5x8.playlist (track_playlist_id, playlist, track_id) VALUES (%(track_playlist_id)s, %(playlist)s, %(track_id)s)\n",
      "2021-12-07 15:05:45,288 INFO sqlalchemy.engine.base.Engine ({'track_playlist_id': 901, 'playlist': 'Music', 'track_id': 602}, {'track_playlist_id': 902, 'playlist': 'Music', 'track_id': 603}, {'track_playlist_id': 903, 'playlist': 'Music', 'track_id': 604}, {'track_playlist_id': 904, 'playlist': 'Music', 'track_id': 605}, {'track_playlist_id': 905, 'playlist': 'Music', 'track_id': 606}, {'track_playlist_id': 906, 'playlist': 'Music', 'track_id': 607}, {'track_playlist_id': 907, 'playlist': 'Music', 'track_id': 608}, {'track_playlist_id': 908, 'playlist': 'Music', 'track_id': 609}  ... displaying 10 of 50 total bound parameter sets ...  {'track_playlist_id': 949, 'playlist': 'Music', 'track_id': 650}, {'track_playlist_id': 950, 'playlist': 'Music', 'track_id': 651})\n",
      "2021-12-07 15:05:45,298 INFO sqlalchemy.engine.base.Engine INSERT INTO jch5x8.playlist (track_playlist_id, playlist, track_id) VALUES (%(track_playlist_id)s, %(playlist)s, %(track_id)s)\n",
      "2021-12-07 15:05:45,298 INFO sqlalchemy.engine.base.Engine ({'track_playlist_id': 951, 'playlist': 'Music', 'track_id': 652}, {'track_playlist_id': 952, 'playlist': 'Music', 'track_id': 653}, {'track_playlist_id': 953, 'playlist': 'Music', 'track_id': 654}, {'track_playlist_id': 954, 'playlist': 'Music', 'track_id': 655}, {'track_playlist_id': 955, 'playlist': 'Music', 'track_id': 656}, {'track_playlist_id': 956, 'playlist': 'Music', 'track_id': 657}, {'track_playlist_id': 957, 'playlist': 'Music', 'track_id': 658}, {'track_playlist_id': 958, 'playlist': 'Music', 'track_id': 659}  ... displaying 10 of 50 total bound parameter sets ...  {'track_playlist_id': 999, 'playlist': 'Music', 'track_id': 700}, {'track_playlist_id': 1000, 'playlist': 'Music', 'track_id': 701})\n",
      "2021-12-07 15:05:45,308 INFO sqlalchemy.engine.base.Engine INSERT INTO jch5x8.playlist (track_playlist_id, playlist, track_id) VALUES (%(track_playlist_id)s, %(playlist)s, %(track_id)s)\n",
      "2021-12-07 15:05:45,308 INFO sqlalchemy.engine.base.Engine ({'track_playlist_id': 1001, 'playlist': 'Music', 'track_id': 702}, {'track_playlist_id': 1002, 'playlist': 'Music', 'track_id': 703}, {'track_playlist_id': 1003, 'playlist': 'Music', 'track_id': 704}, {'track_playlist_id': 1004, 'playlist': 'Music', 'track_id': 705}, {'track_playlist_id': 1005, 'playlist': 'Music', 'track_id': 706}, {'track_playlist_id': 1006, 'playlist': 'Music', 'track_id': 707}, {'track_playlist_id': 1007, 'playlist': 'Music', 'track_id': 708}, {'track_playlist_id': 1008, 'playlist': 'Music', 'track_id': 709}  ... displaying 10 of 50 total bound parameter sets ...  {'track_playlist_id': 1049, 'playlist': 'Music', 'track_id': 748}, {'track_playlist_id': 1050, 'playlist': 'Music', 'track_id': 749})\n",
      "2021-12-07 15:05:45,318 INFO sqlalchemy.engine.base.Engine INSERT INTO jch5x8.playlist (track_playlist_id, playlist, track_id) VALUES (%(track_playlist_id)s, %(playlist)s, %(track_id)s)\n",
      "2021-12-07 15:05:45,318 INFO sqlalchemy.engine.base.Engine ({'track_playlist_id': 1051, 'playlist': 'Music', 'track_id': 750}, {'track_playlist_id': 1052, 'playlist': 'Music', 'track_id': 751}, {'track_playlist_id': 1053, 'playlist': 'Music', 'track_id': 752}, {'track_playlist_id': 1054, 'playlist': 'Music', 'track_id': 753}, {'track_playlist_id': 1055, 'playlist': 'Music', 'track_id': 754}, {'track_playlist_id': 1056, 'playlist': 'Music', 'track_id': 755}, {'track_playlist_id': 1057, 'playlist': 'Music', 'track_id': 756}, {'track_playlist_id': 1058, 'playlist': 'Music', 'track_id': 757}  ... displaying 10 of 50 total bound parameter sets ...  {'track_playlist_id': 1099, 'playlist': '90\\x92s Music', 'track_id': 786}, {'track_playlist_id': 1100, 'playlist': 'Music', 'track_id': 787})\n",
      "2021-12-07 15:05:45,328 INFO sqlalchemy.engine.base.Engine INSERT INTO jch5x8.playlist (track_playlist_id, playlist, track_id) VALUES (%(track_playlist_id)s, %(playlist)s, %(track_id)s)\n",
      "2021-12-07 15:05:45,328 INFO sqlalchemy.engine.base.Engine ({'track_playlist_id': 1101, 'playlist': '90\\x92s Music', 'track_id': 787}, {'track_playlist_id': 1102, 'playlist': 'Music', 'track_id': 788}, {'track_playlist_id': 1103, 'playlist': '90\\x92s Music', 'track_id': 788}, {'track_playlist_id': 1104, 'playlist': 'Music', 'track_id': 789}, {'track_playlist_id': 1105, 'playlist': '90\\x92s Music', 'track_id': 789}, {'track_playlist_id': 1106, 'playlist': 'Music', 'track_id': 790}, {'track_playlist_id': 1107, 'playlist': '90\\x92s Music', 'track_id': 790}, {'track_playlist_id': 1108, 'playlist': 'Music', 'track_id': 791}  ... displaying 10 of 50 total bound parameter sets ...  {'track_playlist_id': 1149, 'playlist': 'Music', 'track_id': 816}, {'track_playlist_id': 1150, 'playlist': '90\\x92s Music', 'track_id': 816})\n",
      "2021-12-07 15:05:45,338 INFO sqlalchemy.engine.base.Engine INSERT INTO jch5x8.playlist (track_playlist_id, playlist, track_id) VALUES (%(track_playlist_id)s, %(playlist)s, %(track_id)s)\n",
      "2021-12-07 15:05:45,339 INFO sqlalchemy.engine.base.Engine ({'track_playlist_id': 1151, 'playlist': 'Music', 'track_id': 817}, {'track_playlist_id': 1152, 'playlist': '90\\x92s Music', 'track_id': 817}, {'track_playlist_id': 1153, 'playlist': 'Music', 'track_id': 818}, {'track_playlist_id': 1154, 'playlist': '90\\x92s Music', 'track_id': 818}, {'track_playlist_id': 1155, 'playlist': 'Music', 'track_id': 819}, {'track_playlist_id': 1156, 'playlist': '90\\x92s Music', 'track_id': 819}, {'track_playlist_id': 1157, 'playlist': 'Music', 'track_id': 820}, {'track_playlist_id': 1158, 'playlist': '90\\x92s Music', 'track_id': 820}  ... displaying 10 of 50 total bound parameter sets ...  {'track_playlist_id': 1199, 'playlist': 'Music', 'track_id': 841}, {'track_playlist_id': 1200, 'playlist': '90\\x92s Music', 'track_id': 841})\n",
      "2021-12-07 15:05:45,349 INFO sqlalchemy.engine.base.Engine INSERT INTO jch5x8.playlist (track_playlist_id, playlist, track_id) VALUES (%(track_playlist_id)s, %(playlist)s, %(track_id)s)\n",
      "2021-12-07 15:05:45,350 INFO sqlalchemy.engine.base.Engine ({'track_playlist_id': 1201, 'playlist': 'Music', 'track_id': 842}, {'track_playlist_id': 1202, 'playlist': 'Music', 'track_id': 843}, {'track_playlist_id': 1203, 'playlist': 'Music', 'track_id': 844}, {'track_playlist_id': 1204, 'playlist': 'Music', 'track_id': 845}, {'track_playlist_id': 1205, 'playlist': 'Music', 'track_id': 846}, {'track_playlist_id': 1206, 'playlist': 'Music', 'track_id': 847}, {'track_playlist_id': 1207, 'playlist': 'Music', 'track_id': 848}, {'track_playlist_id': 1208, 'playlist': 'Music', 'track_id': 849}  ... displaying 10 of 50 total bound parameter sets ...  {'track_playlist_id': 1249, 'playlist': '90\\x92s Music', 'track_id': 868}, {'track_playlist_id': 1250, 'playlist': 'Music', 'track_id': 869})\n",
      "2021-12-07 15:05:45,359 INFO sqlalchemy.engine.base.Engine INSERT INTO jch5x8.playlist (track_playlist_id, playlist, track_id) VALUES (%(track_playlist_id)s, %(playlist)s, %(track_id)s)\n",
      "2021-12-07 15:05:45,360 INFO sqlalchemy.engine.base.Engine ({'track_playlist_id': 1251, 'playlist': '90\\x92s Music', 'track_id': 869}, {'track_playlist_id': 1252, 'playlist': 'Music', 'track_id': 870}, {'track_playlist_id': 1253, 'playlist': '90\\x92s Music', 'track_id': 870}, {'track_playlist_id': 1254, 'playlist': 'Music', 'track_id': 871}, {'track_playlist_id': 1255, 'playlist': '90\\x92s Music', 'track_id': 871}, {'track_playlist_id': 1256, 'playlist': 'Music', 'track_id': 872}, {'track_playlist_id': 1257, 'playlist': '90\\x92s Music', 'track_id': 872}, {'track_playlist_id': 1258, 'playlist': 'Music', 'track_id': 873}  ... displaying 10 of 50 total bound parameter sets ...  {'track_playlist_id': 1299, 'playlist': '90\\x92s Music', 'track_id': 898}, {'track_playlist_id': 1300, 'playlist': 'Music', 'track_id': 899})\n"
     ]
    },
    {
     "name": "stdout",
     "output_type": "stream",
     "text": [
      "2021-12-07 15:05:45,369 INFO sqlalchemy.engine.base.Engine INSERT INTO jch5x8.playlist (track_playlist_id, playlist, track_id) VALUES (%(track_playlist_id)s, %(playlist)s, %(track_id)s)\n",
      "2021-12-07 15:05:45,370 INFO sqlalchemy.engine.base.Engine ({'track_playlist_id': 1301, 'playlist': '90\\x92s Music', 'track_id': 899}, {'track_playlist_id': 1302, 'playlist': 'Music', 'track_id': 900}, {'track_playlist_id': 1303, 'playlist': '90\\x92s Music', 'track_id': 900}, {'track_playlist_id': 1304, 'playlist': 'Music', 'track_id': 901}, {'track_playlist_id': 1305, 'playlist': '90\\x92s Music', 'track_id': 901}, {'track_playlist_id': 1306, 'playlist': 'Music', 'track_id': 902}, {'track_playlist_id': 1307, 'playlist': '90\\x92s Music', 'track_id': 902}, {'track_playlist_id': 1308, 'playlist': 'Music', 'track_id': 903}  ... displaying 10 of 50 total bound parameter sets ...  {'track_playlist_id': 1349, 'playlist': '90\\x92s Music', 'track_id': 923}, {'track_playlist_id': 1350, 'playlist': 'Music', 'track_id': 924})\n",
      "2021-12-07 15:05:45,380 INFO sqlalchemy.engine.base.Engine INSERT INTO jch5x8.playlist (track_playlist_id, playlist, track_id) VALUES (%(track_playlist_id)s, %(playlist)s, %(track_id)s)\n",
      "2021-12-07 15:05:45,380 INFO sqlalchemy.engine.base.Engine ({'track_playlist_id': 1351, 'playlist': '90\\x92s Music', 'track_id': 924}, {'track_playlist_id': 1352, 'playlist': 'Music', 'track_id': 925}, {'track_playlist_id': 1353, 'playlist': '90\\x92s Music', 'track_id': 925}, {'track_playlist_id': 1354, 'playlist': 'Music', 'track_id': 926}, {'track_playlist_id': 1355, 'playlist': '90\\x92s Music', 'track_id': 926}, {'track_playlist_id': 1356, 'playlist': 'Music', 'track_id': 927}, {'track_playlist_id': 1357, 'playlist': '90\\x92s Music', 'track_id': 927}, {'track_playlist_id': 1358, 'playlist': 'Music', 'track_id': 928}  ... displaying 10 of 50 total bound parameter sets ...  {'track_playlist_id': 1399, 'playlist': '90\\x92s Music', 'track_id': 948}, {'track_playlist_id': 1400, 'playlist': 'Music', 'track_id': 949})\n",
      "2021-12-07 15:05:45,390 INFO sqlalchemy.engine.base.Engine INSERT INTO jch5x8.playlist (track_playlist_id, playlist, track_id) VALUES (%(track_playlist_id)s, %(playlist)s, %(track_id)s)\n",
      "2021-12-07 15:05:45,390 INFO sqlalchemy.engine.base.Engine ({'track_playlist_id': 1401, 'playlist': '90\\x92s Music', 'track_id': 949}, {'track_playlist_id': 1402, 'playlist': 'Music', 'track_id': 950}, {'track_playlist_id': 1403, 'playlist': '90\\x92s Music', 'track_id': 950}, {'track_playlist_id': 1404, 'playlist': 'Music', 'track_id': 951}, {'track_playlist_id': 1405, 'playlist': '90\\x92s Music', 'track_id': 951}, {'track_playlist_id': 1406, 'playlist': 'Music', 'track_id': 952}, {'track_playlist_id': 1407, 'playlist': '90\\x92s Music', 'track_id': 952}, {'track_playlist_id': 1408, 'playlist': 'Music', 'track_id': 953}  ... displaying 10 of 50 total bound parameter sets ...  {'track_playlist_id': 1449, 'playlist': '90\\x92s Music', 'track_id': 979}, {'track_playlist_id': 1450, 'playlist': 'Music', 'track_id': 980})\n",
      "2021-12-07 15:05:45,399 INFO sqlalchemy.engine.base.Engine INSERT INTO jch5x8.playlist (track_playlist_id, playlist, track_id) VALUES (%(track_playlist_id)s, %(playlist)s, %(track_id)s)\n",
      "2021-12-07 15:05:45,400 INFO sqlalchemy.engine.base.Engine ({'track_playlist_id': 1451, 'playlist': 'Music', 'track_id': 981}, {'track_playlist_id': 1452, 'playlist': 'Music', 'track_id': 982}, {'track_playlist_id': 1453, 'playlist': 'Music', 'track_id': 983}, {'track_playlist_id': 1454, 'playlist': 'Music', 'track_id': 984}, {'track_playlist_id': 1455, 'playlist': '90\\x92s Music', 'track_id': 984}, {'track_playlist_id': 1456, 'playlist': 'Music', 'track_id': 985}, {'track_playlist_id': 1457, 'playlist': 'Music', 'track_id': 986}, {'track_playlist_id': 1458, 'playlist': 'Music', 'track_id': 987}  ... displaying 10 of 50 total bound parameter sets ...  {'track_playlist_id': 1499, 'playlist': 'Music', 'track_id': 1024}, {'track_playlist_id': 1500, 'playlist': '90\\x92s Music', 'track_id': 1024})\n",
      "2021-12-07 15:05:45,410 INFO sqlalchemy.engine.base.Engine INSERT INTO jch5x8.playlist (track_playlist_id, playlist, track_id) VALUES (%(track_playlist_id)s, %(playlist)s, %(track_id)s)\n",
      "2021-12-07 15:05:45,410 INFO sqlalchemy.engine.base.Engine ({'track_playlist_id': 1501, 'playlist': 'Music', 'track_id': 1025}, {'track_playlist_id': 1502, 'playlist': '90\\x92s Music', 'track_id': 1025}, {'track_playlist_id': 1503, 'playlist': 'Music', 'track_id': 1026}, {'track_playlist_id': 1504, 'playlist': '90\\x92s Music', 'track_id': 1026}, {'track_playlist_id': 1505, 'playlist': 'Music', 'track_id': 1027}, {'track_playlist_id': 1506, 'playlist': '90\\x92s Music', 'track_id': 1027}, {'track_playlist_id': 1507, 'playlist': 'Music', 'track_id': 1028}, {'track_playlist_id': 1508, 'playlist': '90\\x92s Music', 'track_id': 1028}  ... displaying 10 of 50 total bound parameter sets ...  {'track_playlist_id': 1549, 'playlist': 'Music', 'track_id': 1061}, {'track_playlist_id': 1550, 'playlist': '90\\x92s Music', 'track_id': 1061})\n",
      "2021-12-07 15:05:45,420 INFO sqlalchemy.engine.base.Engine INSERT INTO jch5x8.playlist (track_playlist_id, playlist, track_id) VALUES (%(track_playlist_id)s, %(playlist)s, %(track_id)s)\n",
      "2021-12-07 15:05:45,420 INFO sqlalchemy.engine.base.Engine ({'track_playlist_id': 1551, 'playlist': 'Music', 'track_id': 1062}, {'track_playlist_id': 1552, 'playlist': '90\\x92s Music', 'track_id': 1062}, {'track_playlist_id': 1553, 'playlist': 'Music', 'track_id': 1063}, {'track_playlist_id': 1554, 'playlist': '90\\x92s Music', 'track_id': 1063}, {'track_playlist_id': 1555, 'playlist': 'Music', 'track_id': 1064}, {'track_playlist_id': 1556, 'playlist': '90\\x92s Music', 'track_id': 1064}, {'track_playlist_id': 1557, 'playlist': 'Music', 'track_id': 1065}, {'track_playlist_id': 1558, 'playlist': '90\\x92s Music', 'track_id': 1065}  ... displaying 10 of 50 total bound parameter sets ...  {'track_playlist_id': 1599, 'playlist': '90\\x92s Music', 'track_id': 1092}, {'track_playlist_id': 1600, 'playlist': 'Music', 'track_id': 1093})\n",
      "2021-12-07 15:05:45,429 INFO sqlalchemy.engine.base.Engine INSERT INTO jch5x8.playlist (track_playlist_id, playlist, track_id) VALUES (%(track_playlist_id)s, %(playlist)s, %(track_id)s)\n",
      "2021-12-07 15:05:45,430 INFO sqlalchemy.engine.base.Engine ({'track_playlist_id': 1601, 'playlist': '90\\x92s Music', 'track_id': 1093}, {'track_playlist_id': 1602, 'playlist': 'Brazilian Music', 'track_id': 1093}, {'track_playlist_id': 1603, 'playlist': 'Music', 'track_id': 1094}, {'track_playlist_id': 1604, 'playlist': '90\\x92s Music', 'track_id': 1094}, {'track_playlist_id': 1605, 'playlist': 'Music', 'track_id': 1095}, {'track_playlist_id': 1606, 'playlist': '90\\x92s Music', 'track_id': 1095}, {'track_playlist_id': 1607, 'playlist': 'Music', 'track_id': 1096}, {'track_playlist_id': 1608, 'playlist': '90\\x92s Music', 'track_id': 1096}  ... displaying 10 of 50 total bound parameter sets ...  {'track_playlist_id': 1649, 'playlist': '90\\x92s Music', 'track_id': 1117}, {'track_playlist_id': 1650, 'playlist': 'Music', 'track_id': 1118})\n",
      "2021-12-07 15:05:45,440 INFO sqlalchemy.engine.base.Engine INSERT INTO jch5x8.playlist (track_playlist_id, playlist, track_id) VALUES (%(track_playlist_id)s, %(playlist)s, %(track_id)s)\n",
      "2021-12-07 15:05:45,441 INFO sqlalchemy.engine.base.Engine ({'track_playlist_id': 1651, 'playlist': '90\\x92s Music', 'track_id': 1118}, {'track_playlist_id': 1652, 'playlist': 'Music', 'track_id': 1119}, {'track_playlist_id': 1653, 'playlist': '90\\x92s Music', 'track_id': 1119}, {'track_playlist_id': 1654, 'playlist': 'Music', 'track_id': 1120}, {'track_playlist_id': 1655, 'playlist': '90\\x92s Music', 'track_id': 1120}, {'track_playlist_id': 1656, 'playlist': 'Music', 'track_id': 1121}, {'track_playlist_id': 1657, 'playlist': 'Music', 'track_id': 1122}, {'track_playlist_id': 1658, 'playlist': 'Music', 'track_id': 1123}  ... displaying 10 of 50 total bound parameter sets ...  {'track_playlist_id': 1699, 'playlist': 'Music', 'track_id': 1183}, {'track_playlist_id': 1700, 'playlist': '90\\x92s Music', 'track_id': 1183})\n",
      "2021-12-07 15:05:45,450 INFO sqlalchemy.engine.base.Engine INSERT INTO jch5x8.playlist (track_playlist_id, playlist, track_id) VALUES (%(track_playlist_id)s, %(playlist)s, %(track_id)s)\n"
     ]
    },
    {
     "name": "stdout",
     "output_type": "stream",
     "text": [
      "2021-12-07 15:05:45,451 INFO sqlalchemy.engine.base.Engine ({'track_playlist_id': 1701, 'playlist': 'Music', 'track_id': 1184}, {'track_playlist_id': 1702, 'playlist': '90\\x92s Music', 'track_id': 1184}, {'track_playlist_id': 1703, 'playlist': 'Music', 'track_id': 1185}, {'track_playlist_id': 1704, 'playlist': '90\\x92s Music', 'track_id': 1185}, {'track_playlist_id': 1705, 'playlist': 'Music', 'track_id': 1186}, {'track_playlist_id': 1706, 'playlist': '90\\x92s Music', 'track_id': 1186}, {'track_playlist_id': 1707, 'playlist': 'Music', 'track_id': 1187}, {'track_playlist_id': 1708, 'playlist': '90\\x92s Music', 'track_id': 1187}  ... displaying 10 of 50 total bound parameter sets ...  {'track_playlist_id': 1749, 'playlist': 'Music', 'track_id': 1219}, {'track_playlist_id': 1750, 'playlist': '90\\x92s Music', 'track_id': 1219})\n",
      "2021-12-07 15:05:45,460 INFO sqlalchemy.engine.base.Engine INSERT INTO jch5x8.playlist (track_playlist_id, playlist, track_id) VALUES (%(track_playlist_id)s, %(playlist)s, %(track_id)s)\n",
      "2021-12-07 15:05:45,461 INFO sqlalchemy.engine.base.Engine ({'track_playlist_id': 1751, 'playlist': 'Music', 'track_id': 1220}, {'track_playlist_id': 1752, 'playlist': '90\\x92s Music', 'track_id': 1220}, {'track_playlist_id': 1753, 'playlist': 'Music', 'track_id': 1221}, {'track_playlist_id': 1754, 'playlist': '90\\x92s Music', 'track_id': 1221}, {'track_playlist_id': 1755, 'playlist': 'Music', 'track_id': 1222}, {'track_playlist_id': 1756, 'playlist': '90\\x92s Music', 'track_id': 1222}, {'track_playlist_id': 1757, 'playlist': 'Music', 'track_id': 1223}, {'track_playlist_id': 1758, 'playlist': '90\\x92s Music', 'track_id': 1223}  ... displaying 10 of 50 total bound parameter sets ...  {'track_playlist_id': 1799, 'playlist': 'Music', 'track_id': 1253}, {'track_playlist_id': 1800, 'playlist': 'Music', 'track_id': 1254})\n",
      "2021-12-07 15:05:45,470 INFO sqlalchemy.engine.base.Engine INSERT INTO jch5x8.playlist (track_playlist_id, playlist, track_id) VALUES (%(track_playlist_id)s, %(playlist)s, %(track_id)s)\n",
      "2021-12-07 15:05:45,471 INFO sqlalchemy.engine.base.Engine ({'track_playlist_id': 1801, 'playlist': 'Music', 'track_id': 1255}, {'track_playlist_id': 1802, 'playlist': 'Music', 'track_id': 1256}, {'track_playlist_id': 1803, 'playlist': '90\\x92s Music', 'track_id': 1256}, {'track_playlist_id': 1804, 'playlist': 'Music', 'track_id': 1257}, {'track_playlist_id': 1805, 'playlist': '90\\x92s Music', 'track_id': 1257}, {'track_playlist_id': 1806, 'playlist': 'Music', 'track_id': 1258}, {'track_playlist_id': 1807, 'playlist': '90\\x92s Music', 'track_id': 1258}, {'track_playlist_id': 1808, 'playlist': 'Music', 'track_id': 1259}  ... displaying 10 of 50 total bound parameter sets ...  {'track_playlist_id': 1849, 'playlist': 'Music', 'track_id': 1289}, {'track_playlist_id': 1850, 'playlist': 'Music', 'track_id': 1290})\n",
      "2021-12-07 15:05:45,481 INFO sqlalchemy.engine.base.Engine INSERT INTO jch5x8.playlist (track_playlist_id, playlist, track_id) VALUES (%(track_playlist_id)s, %(playlist)s, %(track_id)s)\n",
      "2021-12-07 15:05:45,482 INFO sqlalchemy.engine.base.Engine ({'track_playlist_id': 1851, 'playlist': 'Music', 'track_id': 1291}, {'track_playlist_id': 1852, 'playlist': 'Music', 'track_id': 1292}, {'track_playlist_id': 1853, 'playlist': 'Music', 'track_id': 1293}, {'track_playlist_id': 1854, 'playlist': 'Music', 'track_id': 1294}, {'track_playlist_id': 1855, 'playlist': 'Music', 'track_id': 1295}, {'track_playlist_id': 1856, 'playlist': 'Music', 'track_id': 1296}, {'track_playlist_id': 1857, 'playlist': 'Music', 'track_id': 1297}, {'track_playlist_id': 1858, 'playlist': 'Music', 'track_id': 1298}  ... displaying 10 of 50 total bound parameter sets ...  {'track_playlist_id': 1899, 'playlist': 'Music', 'track_id': 1322}, {'track_playlist_id': 1900, 'playlist': '90\\x92s Music', 'track_id': 1322})\n",
      "2021-12-07 15:05:45,492 INFO sqlalchemy.engine.base.Engine INSERT INTO jch5x8.playlist (track_playlist_id, playlist, track_id) VALUES (%(track_playlist_id)s, %(playlist)s, %(track_id)s)\n",
      "2021-12-07 15:05:45,492 INFO sqlalchemy.engine.base.Engine ({'track_playlist_id': 1901, 'playlist': 'Music', 'track_id': 1323}, {'track_playlist_id': 1902, 'playlist': '90\\x92s Music', 'track_id': 1323}, {'track_playlist_id': 1903, 'playlist': 'Music', 'track_id': 1324}, {'track_playlist_id': 1904, 'playlist': '90\\x92s Music', 'track_id': 1324}, {'track_playlist_id': 1905, 'playlist': 'Music', 'track_id': 1325}, {'track_playlist_id': 1906, 'playlist': '90\\x92s Music', 'track_id': 1325}, {'track_playlist_id': 1907, 'playlist': 'Music', 'track_id': 1326}, {'track_playlist_id': 1908, 'playlist': '90\\x92s Music', 'track_id': 1326}  ... displaying 10 of 50 total bound parameter sets ...  {'track_playlist_id': 1949, 'playlist': 'Music', 'track_id': 1357}, {'track_playlist_id': 1950, 'playlist': 'Music', 'track_id': 1358})\n",
      "2021-12-07 15:05:45,502 INFO sqlalchemy.engine.base.Engine INSERT INTO jch5x8.playlist (track_playlist_id, playlist, track_id) VALUES (%(track_playlist_id)s, %(playlist)s, %(track_id)s)\n",
      "2021-12-07 15:05:45,502 INFO sqlalchemy.engine.base.Engine ({'track_playlist_id': 1951, 'playlist': 'Music', 'track_id': 1359}, {'track_playlist_id': 1952, 'playlist': 'Music', 'track_id': 1360}, {'track_playlist_id': 1953, 'playlist': 'Music', 'track_id': 1361}, {'track_playlist_id': 1954, 'playlist': 'Music', 'track_id': 1362}, {'track_playlist_id': 1955, 'playlist': 'Music', 'track_id': 1363}, {'track_playlist_id': 1956, 'playlist': 'Music', 'track_id': 1364}, {'track_playlist_id': 1957, 'playlist': 'Music', 'track_id': 1365}, {'track_playlist_id': 1958, 'playlist': 'Music', 'track_id': 1366}  ... displaying 10 of 50 total bound parameter sets ...  {'track_playlist_id': 1999, 'playlist': 'Music', 'track_id': 1400}, {'track_playlist_id': 2000, 'playlist': '90\\x92s Music', 'track_id': 1400})\n",
      "2021-12-07 15:05:45,512 INFO sqlalchemy.engine.base.Engine INSERT INTO jch5x8.playlist (track_playlist_id, playlist, track_id) VALUES (%(track_playlist_id)s, %(playlist)s, %(track_id)s)\n",
      "2021-12-07 15:05:45,512 INFO sqlalchemy.engine.base.Engine ({'track_playlist_id': 2001, 'playlist': 'Music', 'track_id': 1401}, {'track_playlist_id': 2002, 'playlist': '90\\x92s Music', 'track_id': 1401}, {'track_playlist_id': 2003, 'playlist': 'Music', 'track_id': 1402}, {'track_playlist_id': 2004, 'playlist': '90\\x92s Music', 'track_id': 1402}, {'track_playlist_id': 2005, 'playlist': 'Music', 'track_id': 1403}, {'track_playlist_id': 2006, 'playlist': '90\\x92s Music', 'track_id': 1403}, {'track_playlist_id': 2007, 'playlist': 'Music', 'track_id': 1404}, {'track_playlist_id': 2008, 'playlist': '90\\x92s Music', 'track_id': 1404}  ... displaying 10 of 50 total bound parameter sets ...  {'track_playlist_id': 2049, 'playlist': 'Music', 'track_id': 1425}, {'track_playlist_id': 2050, 'playlist': '90\\x92s Music', 'track_id': 1425})\n",
      "2021-12-07 15:05:45,522 INFO sqlalchemy.engine.base.Engine INSERT INTO jch5x8.playlist (track_playlist_id, playlist, track_id) VALUES (%(track_playlist_id)s, %(playlist)s, %(track_id)s)\n",
      "2021-12-07 15:05:45,523 INFO sqlalchemy.engine.base.Engine ({'track_playlist_id': 2051, 'playlist': 'Music', 'track_id': 1426}, {'track_playlist_id': 2052, 'playlist': '90\\x92s Music', 'track_id': 1426}, {'track_playlist_id': 2053, 'playlist': 'Music', 'track_id': 1427}, {'track_playlist_id': 2054, 'playlist': '90\\x92s Music', 'track_id': 1427}, {'track_playlist_id': 2055, 'playlist': 'Music', 'track_id': 1428}, {'track_playlist_id': 2056, 'playlist': '90\\x92s Music', 'track_id': 1428}, {'track_playlist_id': 2057, 'playlist': 'Music', 'track_id': 1429}, {'track_playlist_id': 2058, 'playlist': '90\\x92s Music', 'track_id': 1429}  ... displaying 10 of 50 total bound parameter sets ...  {'track_playlist_id': 2099, 'playlist': 'Music', 'track_id': 1450}, {'track_playlist_id': 2100, 'playlist': '90\\x92s Music', 'track_id': 1450})\n",
      "2021-12-07 15:05:45,532 INFO sqlalchemy.engine.base.Engine INSERT INTO jch5x8.playlist (track_playlist_id, playlist, track_id) VALUES (%(track_playlist_id)s, %(playlist)s, %(track_id)s)\n",
      "2021-12-07 15:05:45,533 INFO sqlalchemy.engine.base.Engine ({'track_playlist_id': 2101, 'playlist': 'Music', 'track_id': 1451}, {'track_playlist_id': 2102, 'playlist': '90\\x92s Music', 'track_id': 1451}, {'track_playlist_id': 2103, 'playlist': 'Music', 'track_id': 1452}, {'track_playlist_id': 2104, 'playlist': '90\\x92s Music', 'track_id': 1452}, {'track_playlist_id': 2105, 'playlist': 'Music', 'track_id': 1453}, {'track_playlist_id': 2106, 'playlist': '90\\x92s Music', 'track_id': 1453}, {'track_playlist_id': 2107, 'playlist': 'Music', 'track_id': 1454}, {'track_playlist_id': 2108, 'playlist': '90\\x92s Music', 'track_id': 1454}  ... displaying 10 of 50 total bound parameter sets ...  {'track_playlist_id': 2149, 'playlist': 'Music', 'track_id': 1484}, {'track_playlist_id': 2150, 'playlist': 'Music', 'track_id': 1485})\n"
     ]
    },
    {
     "name": "stdout",
     "output_type": "stream",
     "text": [
      "2021-12-07 15:05:45,543 INFO sqlalchemy.engine.base.Engine INSERT INTO jch5x8.playlist (track_playlist_id, playlist, track_id) VALUES (%(track_playlist_id)s, %(playlist)s, %(track_id)s)\n",
      "2021-12-07 15:05:45,543 INFO sqlalchemy.engine.base.Engine ({'track_playlist_id': 2151, 'playlist': 'Music', 'track_id': 1486}, {'track_playlist_id': 2152, 'playlist': 'Music', 'track_id': 1487}, {'track_playlist_id': 2153, 'playlist': 'Music', 'track_id': 1488}, {'track_playlist_id': 2154, 'playlist': 'Music', 'track_id': 1489}, {'track_playlist_id': 2155, 'playlist': 'Music', 'track_id': 1490}, {'track_playlist_id': 2156, 'playlist': 'Music', 'track_id': 1491}, {'track_playlist_id': 2157, 'playlist': 'Music', 'track_id': 1492}, {'track_playlist_id': 2158, 'playlist': 'Music', 'track_id': 1493}  ... displaying 10 of 50 total bound parameter sets ...  {'track_playlist_id': 2199, 'playlist': '90\\x92s Music', 'track_id': 1530}, {'track_playlist_id': 2200, 'playlist': 'Music', 'track_id': 1531})\n",
      "2021-12-07 15:05:45,553 INFO sqlalchemy.engine.base.Engine INSERT INTO jch5x8.playlist (track_playlist_id, playlist, track_id) VALUES (%(track_playlist_id)s, %(playlist)s, %(track_id)s)\n",
      "2021-12-07 15:05:45,554 INFO sqlalchemy.engine.base.Engine ({'track_playlist_id': 2201, 'playlist': '90\\x92s Music', 'track_id': 1531}, {'track_playlist_id': 2202, 'playlist': 'Music', 'track_id': 1532}, {'track_playlist_id': 2203, 'playlist': 'Music', 'track_id': 1533}, {'track_playlist_id': 2204, 'playlist': 'Music', 'track_id': 1534}, {'track_playlist_id': 2205, 'playlist': 'Music', 'track_id': 1535}, {'track_playlist_id': 2206, 'playlist': 'Music', 'track_id': 1536}, {'track_playlist_id': 2207, 'playlist': 'Music', 'track_id': 1537}, {'track_playlist_id': 2208, 'playlist': 'Music', 'track_id': 1538}  ... displaying 10 of 50 total bound parameter sets ...  {'track_playlist_id': 2249, 'playlist': 'Music', 'track_id': 1570}, {'track_playlist_id': 2250, 'playlist': '90\\x92s Music', 'track_id': 1570})\n",
      "2021-12-07 15:05:45,573 INFO sqlalchemy.engine.base.Engine INSERT INTO jch5x8.playlist (track_playlist_id, playlist, track_id) VALUES (%(track_playlist_id)s, %(playlist)s, %(track_id)s)\n",
      "2021-12-07 15:05:45,573 INFO sqlalchemy.engine.base.Engine ({'track_playlist_id': 2251, 'playlist': 'Music', 'track_id': 1571}, {'track_playlist_id': 2252, 'playlist': '90\\x92s Music', 'track_id': 1571}, {'track_playlist_id': 2253, 'playlist': 'Music', 'track_id': 1572}, {'track_playlist_id': 2254, 'playlist': '90\\x92s Music', 'track_id': 1572}, {'track_playlist_id': 2255, 'playlist': 'Music', 'track_id': 1573}, {'track_playlist_id': 2256, 'playlist': '90\\x92s Music', 'track_id': 1573}, {'track_playlist_id': 2257, 'playlist': 'Music', 'track_id': 1574}, {'track_playlist_id': 2258, 'playlist': '90\\x92s Music', 'track_id': 1574}  ... displaying 10 of 50 total bound parameter sets ...  {'track_playlist_id': 2299, 'playlist': 'Music', 'track_id': 1603}, {'track_playlist_id': 2300, 'playlist': 'Music', 'track_id': 1604})\n",
      "2021-12-07 15:05:45,584 INFO sqlalchemy.engine.base.Engine INSERT INTO jch5x8.playlist (track_playlist_id, playlist, track_id) VALUES (%(track_playlist_id)s, %(playlist)s, %(track_id)s)\n",
      "2021-12-07 15:05:45,585 INFO sqlalchemy.engine.base.Engine ({'track_playlist_id': 2301, 'playlist': 'Music', 'track_id': 1605}, {'track_playlist_id': 2302, 'playlist': 'Music', 'track_id': 1606}, {'track_playlist_id': 2303, 'playlist': 'Music', 'track_id': 1607}, {'track_playlist_id': 2304, 'playlist': 'Music', 'track_id': 1608}, {'track_playlist_id': 2305, 'playlist': 'Music', 'track_id': 1609}, {'track_playlist_id': 2306, 'playlist': 'Music', 'track_id': 1610}, {'track_playlist_id': 2307, 'playlist': 'Music', 'track_id': 1611}, {'track_playlist_id': 2308, 'playlist': 'Music', 'track_id': 1612}  ... displaying 10 of 50 total bound parameter sets ...  {'track_playlist_id': 2349, 'playlist': 'Music', 'track_id': 1653}, {'track_playlist_id': 2350, 'playlist': 'Music', 'track_id': 1654})\n",
      "2021-12-07 15:05:45,594 INFO sqlalchemy.engine.base.Engine INSERT INTO jch5x8.playlist (track_playlist_id, playlist, track_id) VALUES (%(track_playlist_id)s, %(playlist)s, %(track_id)s)\n",
      "2021-12-07 15:05:45,595 INFO sqlalchemy.engine.base.Engine ({'track_playlist_id': 2351, 'playlist': 'Music', 'track_id': 1655}, {'track_playlist_id': 2352, 'playlist': 'Music', 'track_id': 1656}, {'track_playlist_id': 2353, 'playlist': 'Music', 'track_id': 1657}, {'track_playlist_id': 2354, 'playlist': 'Music', 'track_id': 1658}, {'track_playlist_id': 2355, 'playlist': 'Music', 'track_id': 1659}, {'track_playlist_id': 2356, 'playlist': 'Music', 'track_id': 1660}, {'track_playlist_id': 2357, 'playlist': 'Music', 'track_id': 1661}, {'track_playlist_id': 2358, 'playlist': 'Music', 'track_id': 1662}  ... displaying 10 of 50 total bound parameter sets ...  {'track_playlist_id': 2399, 'playlist': 'Music', 'track_id': 1687}, {'track_playlist_id': 2400, 'playlist': '90\\x92s Music', 'track_id': 1687})\n",
      "2021-12-07 15:05:45,604 INFO sqlalchemy.engine.base.Engine INSERT INTO jch5x8.playlist (track_playlist_id, playlist, track_id) VALUES (%(track_playlist_id)s, %(playlist)s, %(track_id)s)\n",
      "2021-12-07 15:05:45,604 INFO sqlalchemy.engine.base.Engine ({'track_playlist_id': 2401, 'playlist': 'Music', 'track_id': 1688}, {'track_playlist_id': 2402, 'playlist': '90\\x92s Music', 'track_id': 1688}, {'track_playlist_id': 2403, 'playlist': 'Music', 'track_id': 1689}, {'track_playlist_id': 2404, 'playlist': '90\\x92s Music', 'track_id': 1689}, {'track_playlist_id': 2405, 'playlist': 'Music', 'track_id': 1690}, {'track_playlist_id': 2406, 'playlist': '90\\x92s Music', 'track_id': 1690}, {'track_playlist_id': 2407, 'playlist': 'Music', 'track_id': 1691}, {'track_playlist_id': 2408, 'playlist': '90\\x92s Music', 'track_id': 1691}  ... displaying 10 of 50 total bound parameter sets ...  {'track_playlist_id': 2449, 'playlist': 'Music', 'track_id': 1722}, {'track_playlist_id': 2450, 'playlist': 'Music', 'track_id': 1723})\n",
      "2021-12-07 15:05:45,613 INFO sqlalchemy.engine.base.Engine INSERT INTO jch5x8.playlist (track_playlist_id, playlist, track_id) VALUES (%(track_playlist_id)s, %(playlist)s, %(track_id)s)\n",
      "2021-12-07 15:05:45,614 INFO sqlalchemy.engine.base.Engine ({'track_playlist_id': 2451, 'playlist': 'Music', 'track_id': 1724}, {'track_playlist_id': 2452, 'playlist': 'Music', 'track_id': 1725}, {'track_playlist_id': 2453, 'playlist': 'Music', 'track_id': 1726}, {'track_playlist_id': 2454, 'playlist': 'Music', 'track_id': 1727}, {'track_playlist_id': 2455, 'playlist': 'Music', 'track_id': 1728}, {'track_playlist_id': 2456, 'playlist': 'Music', 'track_id': 1729}, {'track_playlist_id': 2457, 'playlist': 'Music', 'track_id': 1730}, {'track_playlist_id': 2458, 'playlist': 'Music', 'track_id': 1731}  ... displaying 10 of 50 total bound parameter sets ...  {'track_playlist_id': 2499, 'playlist': 'Music', 'track_id': 1772}, {'track_playlist_id': 2500, 'playlist': 'Music', 'track_id': 1773})\n",
      "2021-12-07 15:05:45,624 INFO sqlalchemy.engine.base.Engine INSERT INTO jch5x8.playlist (track_playlist_id, playlist, track_id) VALUES (%(track_playlist_id)s, %(playlist)s, %(track_id)s)\n",
      "2021-12-07 15:05:45,624 INFO sqlalchemy.engine.base.Engine ({'track_playlist_id': 2501, 'playlist': 'Music', 'track_id': 1774}, {'track_playlist_id': 2502, 'playlist': 'Music', 'track_id': 1775}, {'track_playlist_id': 2503, 'playlist': 'Music', 'track_id': 1776}, {'track_playlist_id': 2504, 'playlist': 'Music', 'track_id': 1777}, {'track_playlist_id': 2505, 'playlist': 'Music', 'track_id': 1778}, {'track_playlist_id': 2506, 'playlist': 'Music', 'track_id': 1779}, {'track_playlist_id': 2507, 'playlist': 'Music', 'track_id': 1780}, {'track_playlist_id': 2508, 'playlist': 'Music', 'track_id': 1781}  ... displaying 10 of 50 total bound parameter sets ...  {'track_playlist_id': 2549, 'playlist': 'Music', 'track_id': 1811}, {'track_playlist_id': 2550, 'playlist': '90\\x92s Music', 'track_id': 1811})\n",
      "2021-12-07 15:05:45,635 INFO sqlalchemy.engine.base.Engine INSERT INTO jch5x8.playlist (track_playlist_id, playlist, track_id) VALUES (%(track_playlist_id)s, %(playlist)s, %(track_id)s)\n",
      "2021-12-07 15:05:45,636 INFO sqlalchemy.engine.base.Engine ({'track_playlist_id': 2551, 'playlist': 'Music', 'track_id': 1812}, {'track_playlist_id': 2552, 'playlist': '90\\x92s Music', 'track_id': 1812}, {'track_playlist_id': 2553, 'playlist': 'Music', 'track_id': 1813}, {'track_playlist_id': 2554, 'playlist': '90\\x92s Music', 'track_id': 1813}, {'track_playlist_id': 2555, 'playlist': 'Music', 'track_id': 1814}, {'track_playlist_id': 2556, 'playlist': '90\\x92s Music', 'track_id': 1814}, {'track_playlist_id': 2557, 'playlist': 'Music', 'track_id': 1815}, {'track_playlist_id': 2558, 'playlist': '90\\x92s Music', 'track_id': 1815}  ... displaying 10 of 50 total bound parameter sets ...  {'track_playlist_id': 2599, 'playlist': 'Music', 'track_id': 1840}, {'track_playlist_id': 2600, 'playlist': '90\\x92s Music', 'track_id': 1840})\n"
     ]
    },
    {
     "name": "stdout",
     "output_type": "stream",
     "text": [
      "2021-12-07 15:05:45,648 INFO sqlalchemy.engine.base.Engine INSERT INTO jch5x8.playlist (track_playlist_id, playlist, track_id) VALUES (%(track_playlist_id)s, %(playlist)s, %(track_id)s)\n",
      "2021-12-07 15:05:45,649 INFO sqlalchemy.engine.base.Engine ({'track_playlist_id': 2601, 'playlist': 'Music', 'track_id': 1841}, {'track_playlist_id': 2602, 'playlist': '90\\x92s Music', 'track_id': 1841}, {'track_playlist_id': 2603, 'playlist': 'Music', 'track_id': 1842}, {'track_playlist_id': 2604, 'playlist': '90\\x92s Music', 'track_id': 1842}, {'track_playlist_id': 2605, 'playlist': 'Music', 'track_id': 1843}, {'track_playlist_id': 2606, 'playlist': '90\\x92s Music', 'track_id': 1843}, {'track_playlist_id': 2607, 'playlist': 'Music', 'track_id': 1844}, {'track_playlist_id': 2608, 'playlist': '90\\x92s Music', 'track_id': 1844}  ... displaying 10 of 50 total bound parameter sets ...  {'track_playlist_id': 2649, 'playlist': '90\\x92s Music', 'track_id': 1868}, {'track_playlist_id': 2650, 'playlist': 'Music', 'track_id': 1869})\n",
      "2021-12-07 15:05:45,659 INFO sqlalchemy.engine.base.Engine INSERT INTO jch5x8.playlist (track_playlist_id, playlist, track_id) VALUES (%(track_playlist_id)s, %(playlist)s, %(track_id)s)\n",
      "2021-12-07 15:05:45,660 INFO sqlalchemy.engine.base.Engine ({'track_playlist_id': 2651, 'playlist': '90\\x92s Music', 'track_id': 1869}, {'track_playlist_id': 2652, 'playlist': 'Music', 'track_id': 1870}, {'track_playlist_id': 2653, 'playlist': '90\\x92s Music', 'track_id': 1870}, {'track_playlist_id': 2654, 'playlist': 'Music', 'track_id': 1871}, {'track_playlist_id': 2655, 'playlist': '90\\x92s Music', 'track_id': 1871}, {'track_playlist_id': 2656, 'playlist': 'Music', 'track_id': 1872}, {'track_playlist_id': 2657, 'playlist': '90\\x92s Music', 'track_id': 1872}, {'track_playlist_id': 2658, 'playlist': 'Music', 'track_id': 1873}  ... displaying 10 of 50 total bound parameter sets ...  {'track_playlist_id': 2699, 'playlist': 'Music', 'track_id': 1911}, {'track_playlist_id': 2700, 'playlist': 'Music', 'track_id': 1912})\n",
      "2021-12-07 15:05:45,674 INFO sqlalchemy.engine.base.Engine INSERT INTO jch5x8.playlist (track_playlist_id, playlist, track_id) VALUES (%(track_playlist_id)s, %(playlist)s, %(track_id)s)\n",
      "2021-12-07 15:05:45,675 INFO sqlalchemy.engine.base.Engine ({'track_playlist_id': 2701, 'playlist': 'Music', 'track_id': 1913}, {'track_playlist_id': 2702, 'playlist': 'Music', 'track_id': 1914}, {'track_playlist_id': 2703, 'playlist': 'Music', 'track_id': 1915}, {'track_playlist_id': 2704, 'playlist': 'Music', 'track_id': 1916}, {'track_playlist_id': 2705, 'playlist': 'Brazilian Music', 'track_id': 1916}, {'track_playlist_id': 2706, 'playlist': 'Music', 'track_id': 1917}, {'track_playlist_id': 2707, 'playlist': 'Music', 'track_id': 1918}, {'track_playlist_id': 2708, 'playlist': 'Music', 'track_id': 1919}  ... displaying 10 of 50 total bound parameter sets ...  {'track_playlist_id': 2749, 'playlist': 'Music', 'track_id': 1956}, {'track_playlist_id': 2750, 'playlist': 'Music', 'track_id': 1957})\n",
      "2021-12-07 15:05:45,685 INFO sqlalchemy.engine.base.Engine INSERT INTO jch5x8.playlist (track_playlist_id, playlist, track_id) VALUES (%(track_playlist_id)s, %(playlist)s, %(track_id)s)\n",
      "2021-12-07 15:05:45,686 INFO sqlalchemy.engine.base.Engine ({'track_playlist_id': 2751, 'playlist': 'Music', 'track_id': 1958}, {'track_playlist_id': 2752, 'playlist': 'Music', 'track_id': 1959}, {'track_playlist_id': 2753, 'playlist': 'Music', 'track_id': 1960}, {'track_playlist_id': 2754, 'playlist': 'Music', 'track_id': 1961}, {'track_playlist_id': 2755, 'playlist': 'Music', 'track_id': 1962}, {'track_playlist_id': 2756, 'playlist': 'Music', 'track_id': 1963}, {'track_playlist_id': 2757, 'playlist': 'Music', 'track_id': 1964}, {'track_playlist_id': 2758, 'playlist': 'Music', 'track_id': 1965}  ... displaying 10 of 50 total bound parameter sets ...  {'track_playlist_id': 2799, 'playlist': 'Music', 'track_id': 1987}, {'track_playlist_id': 2800, 'playlist': '90\\x92s Music', 'track_id': 1987})\n",
      "2021-12-07 15:05:45,699 INFO sqlalchemy.engine.base.Engine INSERT INTO jch5x8.playlist (track_playlist_id, playlist, track_id) VALUES (%(track_playlist_id)s, %(playlist)s, %(track_id)s)\n",
      "2021-12-07 15:05:45,699 INFO sqlalchemy.engine.base.Engine ({'track_playlist_id': 2801, 'playlist': 'Music', 'track_id': 1988}, {'track_playlist_id': 2802, 'playlist': '90\\x92s Music', 'track_id': 1988}, {'track_playlist_id': 2803, 'playlist': 'Music', 'track_id': 1989}, {'track_playlist_id': 2804, 'playlist': '90\\x92s Music', 'track_id': 1989}, {'track_playlist_id': 2805, 'playlist': 'Music', 'track_id': 1990}, {'track_playlist_id': 2806, 'playlist': '90\\x92s Music', 'track_id': 1990}, {'track_playlist_id': 2807, 'playlist': 'Music', 'track_id': 1991}, {'track_playlist_id': 2808, 'playlist': '90\\x92s Music', 'track_id': 1991}  ... displaying 10 of 50 total bound parameter sets ...  {'track_playlist_id': 2849, 'playlist': 'Music', 'track_id': 2010}, {'track_playlist_id': 2850, 'playlist': '90\\x92s Music', 'track_id': 2010})\n",
      "2021-12-07 15:05:45,709 INFO sqlalchemy.engine.base.Engine INSERT INTO jch5x8.playlist (track_playlist_id, playlist, track_id) VALUES (%(track_playlist_id)s, %(playlist)s, %(track_id)s)\n",
      "2021-12-07 15:05:45,709 INFO sqlalchemy.engine.base.Engine ({'track_playlist_id': 2851, 'playlist': 'Grunge', 'track_id': 2010}, {'track_playlist_id': 2852, 'playlist': 'Music', 'track_id': 2011}, {'track_playlist_id': 2853, 'playlist': '90\\x92s Music', 'track_id': 2011}, {'track_playlist_id': 2854, 'playlist': 'Music', 'track_id': 2012}, {'track_playlist_id': 2855, 'playlist': '90\\x92s Music', 'track_id': 2012}, {'track_playlist_id': 2856, 'playlist': 'Music', 'track_id': 2013}, {'track_playlist_id': 2857, 'playlist': '90\\x92s Music', 'track_id': 2013}, {'track_playlist_id': 2858, 'playlist': 'Grunge', 'track_id': 2013}  ... displaying 10 of 50 total bound parameter sets ...  {'track_playlist_id': 2899, 'playlist': '90\\x92s Music', 'track_id': 2048}, {'track_playlist_id': 2900, 'playlist': 'Music', 'track_id': 2049})\n",
      "2021-12-07 15:05:45,729 INFO sqlalchemy.engine.base.Engine INSERT INTO jch5x8.playlist (track_playlist_id, playlist, track_id) VALUES (%(track_playlist_id)s, %(playlist)s, %(track_id)s)\n",
      "2021-12-07 15:05:45,730 INFO sqlalchemy.engine.base.Engine ({'track_playlist_id': 2901, 'playlist': '90\\x92s Music', 'track_id': 2049}, {'track_playlist_id': 2902, 'playlist': 'Music', 'track_id': 2050}, {'track_playlist_id': 2903, 'playlist': '90\\x92s Music', 'track_id': 2050}, {'track_playlist_id': 2904, 'playlist': 'Music', 'track_id': 2051}, {'track_playlist_id': 2905, 'playlist': '90\\x92s Music', 'track_id': 2051}, {'track_playlist_id': 2906, 'playlist': 'Music', 'track_id': 2052}, {'track_playlist_id': 2907, 'playlist': '90\\x92s Music', 'track_id': 2052}, {'track_playlist_id': 2908, 'playlist': 'Music', 'track_id': 2053}  ... displaying 10 of 50 total bound parameter sets ...  {'track_playlist_id': 2949, 'playlist': 'Music', 'track_id': 2082}, {'track_playlist_id': 2950, 'playlist': 'Music', 'track_id': 2083})\n",
      "2021-12-07 15:05:45,739 INFO sqlalchemy.engine.base.Engine INSERT INTO jch5x8.playlist (track_playlist_id, playlist, track_id) VALUES (%(track_playlist_id)s, %(playlist)s, %(track_id)s)\n",
      "2021-12-07 15:05:45,739 INFO sqlalchemy.engine.base.Engine ({'track_playlist_id': 2951, 'playlist': 'Music', 'track_id': 2084}, {'track_playlist_id': 2952, 'playlist': 'Music', 'track_id': 2085}, {'track_playlist_id': 2953, 'playlist': 'Music', 'track_id': 2086}, {'track_playlist_id': 2954, 'playlist': 'Music', 'track_id': 2087}, {'track_playlist_id': 2955, 'playlist': 'Music', 'track_id': 2088}, {'track_playlist_id': 2956, 'playlist': 'Music', 'track_id': 2089}, {'track_playlist_id': 2957, 'playlist': 'Music', 'track_id': 2090}, {'track_playlist_id': 2958, 'playlist': 'Music', 'track_id': 2091}  ... displaying 10 of 50 total bound parameter sets ...  {'track_playlist_id': 2999, 'playlist': '90\\x92s Music', 'track_id': 2125}, {'track_playlist_id': 3000, 'playlist': 'Music', 'track_id': 2126})\n",
      "2021-12-07 15:05:45,749 INFO sqlalchemy.engine.base.Engine INSERT INTO jch5x8.playlist (track_playlist_id, playlist, track_id) VALUES (%(track_playlist_id)s, %(playlist)s, %(track_id)s)\n"
     ]
    },
    {
     "name": "stdout",
     "output_type": "stream",
     "text": [
      "2021-12-07 15:05:45,750 INFO sqlalchemy.engine.base.Engine ({'track_playlist_id': 3001, 'playlist': '90\\x92s Music', 'track_id': 2126}, {'track_playlist_id': 3002, 'playlist': 'Music', 'track_id': 2127}, {'track_playlist_id': 3003, 'playlist': '90\\x92s Music', 'track_id': 2127}, {'track_playlist_id': 3004, 'playlist': 'Music', 'track_id': 2128}, {'track_playlist_id': 3005, 'playlist': '90\\x92s Music', 'track_id': 2128}, {'track_playlist_id': 3006, 'playlist': 'Music', 'track_id': 2129}, {'track_playlist_id': 3007, 'playlist': '90\\x92s Music', 'track_id': 2129}, {'track_playlist_id': 3008, 'playlist': 'Music', 'track_id': 2130}  ... displaying 10 of 50 total bound parameter sets ...  {'track_playlist_id': 3049, 'playlist': '90\\x92s Music', 'track_id': 2155}, {'track_playlist_id': 3050, 'playlist': 'Music', 'track_id': 2156})\n",
      "2021-12-07 15:05:45,760 INFO sqlalchemy.engine.base.Engine INSERT INTO jch5x8.playlist (track_playlist_id, playlist, track_id) VALUES (%(track_playlist_id)s, %(playlist)s, %(track_id)s)\n",
      "2021-12-07 15:05:45,761 INFO sqlalchemy.engine.base.Engine ({'track_playlist_id': 3051, 'playlist': '90\\x92s Music', 'track_id': 2156}, {'track_playlist_id': 3052, 'playlist': 'Music', 'track_id': 2157}, {'track_playlist_id': 3053, 'playlist': '90\\x92s Music', 'track_id': 2157}, {'track_playlist_id': 3054, 'playlist': 'Music', 'track_id': 2158}, {'track_playlist_id': 3055, 'playlist': '90\\x92s Music', 'track_id': 2158}, {'track_playlist_id': 3056, 'playlist': 'Music', 'track_id': 2159}, {'track_playlist_id': 3057, 'playlist': '90\\x92s Music', 'track_id': 2159}, {'track_playlist_id': 3058, 'playlist': 'Music', 'track_id': 2160}  ... displaying 10 of 50 total bound parameter sets ...  {'track_playlist_id': 3099, 'playlist': '90\\x92s Music', 'track_id': 2194}, {'track_playlist_id': 3100, 'playlist': 'Grunge', 'track_id': 2194})\n",
      "2021-12-07 15:05:45,770 INFO sqlalchemy.engine.base.Engine INSERT INTO jch5x8.playlist (track_playlist_id, playlist, track_id) VALUES (%(track_playlist_id)s, %(playlist)s, %(track_id)s)\n",
      "2021-12-07 15:05:45,771 INFO sqlalchemy.engine.base.Engine ({'track_playlist_id': 3101, 'playlist': 'Music', 'track_id': 2195}, {'track_playlist_id': 3102, 'playlist': '90\\x92s Music', 'track_id': 2195}, {'track_playlist_id': 3103, 'playlist': 'Grunge', 'track_id': 2195}, {'track_playlist_id': 3104, 'playlist': 'Music', 'track_id': 2196}, {'track_playlist_id': 3105, 'playlist': '90\\x92s Music', 'track_id': 2196}, {'track_playlist_id': 3106, 'playlist': 'Music', 'track_id': 2197}, {'track_playlist_id': 3107, 'playlist': '90\\x92s Music', 'track_id': 2197}, {'track_playlist_id': 3108, 'playlist': 'Music', 'track_id': 2198}  ... displaying 10 of 50 total bound parameter sets ...  {'track_playlist_id': 3149, 'playlist': 'Music', 'track_id': 2219}, {'track_playlist_id': 3150, 'playlist': 'Music', 'track_id': 2220})\n",
      "2021-12-07 15:05:45,782 INFO sqlalchemy.engine.base.Engine INSERT INTO jch5x8.playlist (track_playlist_id, playlist, track_id) VALUES (%(track_playlist_id)s, %(playlist)s, %(track_id)s)\n",
      "2021-12-07 15:05:45,782 INFO sqlalchemy.engine.base.Engine ({'track_playlist_id': 3151, 'playlist': 'Music', 'track_id': 2221}, {'track_playlist_id': 3152, 'playlist': 'Music', 'track_id': 2222}, {'track_playlist_id': 3153, 'playlist': 'Music', 'track_id': 2223}, {'track_playlist_id': 3154, 'playlist': 'Music', 'track_id': 2224}, {'track_playlist_id': 3155, 'playlist': 'Music', 'track_id': 2225}, {'track_playlist_id': 3156, 'playlist': 'Music', 'track_id': 2226}, {'track_playlist_id': 3157, 'playlist': 'Music', 'track_id': 2227}, {'track_playlist_id': 3158, 'playlist': 'Music', 'track_id': 2228}  ... displaying 10 of 50 total bound parameter sets ...  {'track_playlist_id': 3199, 'playlist': '90\\x92s Music', 'track_id': 2253}, {'track_playlist_id': 3200, 'playlist': 'Music', 'track_id': 2254})\n",
      "2021-12-07 15:05:45,792 INFO sqlalchemy.engine.base.Engine INSERT INTO jch5x8.playlist (track_playlist_id, playlist, track_id) VALUES (%(track_playlist_id)s, %(playlist)s, %(track_id)s)\n",
      "2021-12-07 15:05:45,792 INFO sqlalchemy.engine.base.Engine ({'track_playlist_id': 3201, 'playlist': 'Music', 'track_id': 2255}, {'track_playlist_id': 3202, 'playlist': 'Music', 'track_id': 2256}, {'track_playlist_id': 3203, 'playlist': 'Music', 'track_id': 2257}, {'track_playlist_id': 3204, 'playlist': 'Music', 'track_id': 2258}, {'track_playlist_id': 3205, 'playlist': 'Music', 'track_id': 2259}, {'track_playlist_id': 3206, 'playlist': 'Music', 'track_id': 2260}, {'track_playlist_id': 3207, 'playlist': 'Music', 'track_id': 2261}, {'track_playlist_id': 3208, 'playlist': 'Music', 'track_id': 2262}  ... displaying 10 of 50 total bound parameter sets ...  {'track_playlist_id': 3249, 'playlist': 'Music', 'track_id': 2298}, {'track_playlist_id': 3250, 'playlist': '90\\x92s Music', 'track_id': 2298})\n",
      "2021-12-07 15:05:45,802 INFO sqlalchemy.engine.base.Engine INSERT INTO jch5x8.playlist (track_playlist_id, playlist, track_id) VALUES (%(track_playlist_id)s, %(playlist)s, %(track_id)s)\n",
      "2021-12-07 15:05:45,802 INFO sqlalchemy.engine.base.Engine ({'track_playlist_id': 3251, 'playlist': 'Music', 'track_id': 2299}, {'track_playlist_id': 3252, 'playlist': '90\\x92s Music', 'track_id': 2299}, {'track_playlist_id': 3253, 'playlist': 'Music', 'track_id': 2300}, {'track_playlist_id': 3254, 'playlist': '90\\x92s Music', 'track_id': 2300}, {'track_playlist_id': 3255, 'playlist': 'Music', 'track_id': 2301}, {'track_playlist_id': 3256, 'playlist': '90\\x92s Music', 'track_id': 2301}, {'track_playlist_id': 3257, 'playlist': 'Music', 'track_id': 2302}, {'track_playlist_id': 3258, 'playlist': '90\\x92s Music', 'track_id': 2302}  ... displaying 10 of 50 total bound parameter sets ...  {'track_playlist_id': 3299, 'playlist': 'Music', 'track_id': 2328}, {'track_playlist_id': 3300, 'playlist': 'Music', 'track_id': 2329})\n",
      "2021-12-07 15:05:45,812 INFO sqlalchemy.engine.base.Engine INSERT INTO jch5x8.playlist (track_playlist_id, playlist, track_id) VALUES (%(track_playlist_id)s, %(playlist)s, %(track_id)s)\n",
      "2021-12-07 15:05:45,813 INFO sqlalchemy.engine.base.Engine ({'track_playlist_id': 3301, 'playlist': 'Music', 'track_id': 2330}, {'track_playlist_id': 3302, 'playlist': 'Music', 'track_id': 2331}, {'track_playlist_id': 3303, 'playlist': 'Music', 'track_id': 2332}, {'track_playlist_id': 3304, 'playlist': 'Music', 'track_id': 2333}, {'track_playlist_id': 3305, 'playlist': 'Music', 'track_id': 2334}, {'track_playlist_id': 3306, 'playlist': '90\\x92s Music', 'track_id': 2334}, {'track_playlist_id': 3307, 'playlist': 'Music', 'track_id': 2335}, {'track_playlist_id': 3308, 'playlist': '90\\x92s Music', 'track_id': 2335}  ... displaying 10 of 50 total bound parameter sets ...  {'track_playlist_id': 3349, 'playlist': 'Music', 'track_id': 2363}, {'track_playlist_id': 3350, 'playlist': '90\\x92s Music', 'track_id': 2363})\n",
      "2021-12-07 15:05:45,823 INFO sqlalchemy.engine.base.Engine INSERT INTO jch5x8.playlist (track_playlist_id, playlist, track_id) VALUES (%(track_playlist_id)s, %(playlist)s, %(track_id)s)\n",
      "2021-12-07 15:05:45,823 INFO sqlalchemy.engine.base.Engine ({'track_playlist_id': 3351, 'playlist': 'Music', 'track_id': 2364}, {'track_playlist_id': 3352, 'playlist': '90\\x92s Music', 'track_id': 2364}, {'track_playlist_id': 3353, 'playlist': 'Music', 'track_id': 2365}, {'track_playlist_id': 3354, 'playlist': '90\\x92s Music', 'track_id': 2365}, {'track_playlist_id': 3355, 'playlist': 'Music', 'track_id': 2366}, {'track_playlist_id': 3356, 'playlist': '90\\x92s Music', 'track_id': 2366}, {'track_playlist_id': 3357, 'playlist': 'Music', 'track_id': 2367}, {'track_playlist_id': 3358, 'playlist': '90\\x92s Music', 'track_id': 2367}  ... displaying 10 of 50 total bound parameter sets ...  {'track_playlist_id': 3399, 'playlist': 'Music', 'track_id': 2396}, {'track_playlist_id': 3400, 'playlist': '90\\x92s Music', 'track_id': 2396})\n",
      "2021-12-07 15:05:45,833 INFO sqlalchemy.engine.base.Engine INSERT INTO jch5x8.playlist (track_playlist_id, playlist, track_id) VALUES (%(track_playlist_id)s, %(playlist)s, %(track_id)s)\n",
      "2021-12-07 15:05:45,833 INFO sqlalchemy.engine.base.Engine ({'track_playlist_id': 3401, 'playlist': 'Music', 'track_id': 2397}, {'track_playlist_id': 3402, 'playlist': '90\\x92s Music', 'track_id': 2397}, {'track_playlist_id': 3403, 'playlist': 'Music', 'track_id': 2398}, {'track_playlist_id': 3404, 'playlist': '90\\x92s Music', 'track_id': 2398}, {'track_playlist_id': 3405, 'playlist': 'Music', 'track_id': 2399}, {'track_playlist_id': 3406, 'playlist': '90\\x92s Music', 'track_id': 2399}, {'track_playlist_id': 3407, 'playlist': 'Music', 'track_id': 2400}, {'track_playlist_id': 3408, 'playlist': '90\\x92s Music', 'track_id': 2400}  ... displaying 10 of 50 total bound parameter sets ...  {'track_playlist_id': 3449, 'playlist': 'Music', 'track_id': 2421}, {'track_playlist_id': 3450, 'playlist': '90\\x92s Music', 'track_id': 2421})\n"
     ]
    },
    {
     "name": "stdout",
     "output_type": "stream",
     "text": [
      "2021-12-07 15:05:45,843 INFO sqlalchemy.engine.base.Engine INSERT INTO jch5x8.playlist (track_playlist_id, playlist, track_id) VALUES (%(track_playlist_id)s, %(playlist)s, %(track_id)s)\n",
      "2021-12-07 15:05:45,844 INFO sqlalchemy.engine.base.Engine ({'track_playlist_id': 3451, 'playlist': 'Music', 'track_id': 2422}, {'track_playlist_id': 3452, 'playlist': '90\\x92s Music', 'track_id': 2422}, {'track_playlist_id': 3453, 'playlist': 'Music', 'track_id': 2423}, {'track_playlist_id': 3454, 'playlist': '90\\x92s Music', 'track_id': 2423}, {'track_playlist_id': 3455, 'playlist': 'Music', 'track_id': 2424}, {'track_playlist_id': 3456, 'playlist': '90\\x92s Music', 'track_id': 2424}, {'track_playlist_id': 3457, 'playlist': 'Music', 'track_id': 2425}, {'track_playlist_id': 3458, 'playlist': '90\\x92s Music', 'track_id': 2425}  ... displaying 10 of 50 total bound parameter sets ...  {'track_playlist_id': 3499, 'playlist': 'Music', 'track_id': 2449}, {'track_playlist_id': 3500, 'playlist': 'Music', 'track_id': 2450})\n",
      "2021-12-07 15:05:45,853 INFO sqlalchemy.engine.base.Engine INSERT INTO jch5x8.playlist (track_playlist_id, playlist, track_id) VALUES (%(track_playlist_id)s, %(playlist)s, %(track_id)s)\n",
      "2021-12-07 15:05:45,853 INFO sqlalchemy.engine.base.Engine ({'track_playlist_id': 3501, 'playlist': 'Music', 'track_id': 2451}, {'track_playlist_id': 3502, 'playlist': 'Music', 'track_id': 2452}, {'track_playlist_id': 3503, 'playlist': 'Music', 'track_id': 2453}, {'track_playlist_id': 3504, 'playlist': 'Music', 'track_id': 2454}, {'track_playlist_id': 3505, 'playlist': 'Music', 'track_id': 2455}, {'track_playlist_id': 3506, 'playlist': 'Music', 'track_id': 2456}, {'track_playlist_id': 3507, 'playlist': 'Music', 'track_id': 2457}, {'track_playlist_id': 3508, 'playlist': 'Music', 'track_id': 2458}  ... displaying 10 of 50 total bound parameter sets ...  {'track_playlist_id': 3549, 'playlist': 'Music', 'track_id': 2485}, {'track_playlist_id': 3550, 'playlist': 'Music', 'track_id': 2486})\n",
      "2021-12-07 15:05:45,867 INFO sqlalchemy.engine.base.Engine INSERT INTO jch5x8.playlist (track_playlist_id, playlist, track_id) VALUES (%(track_playlist_id)s, %(playlist)s, %(track_id)s)\n",
      "2021-12-07 15:05:45,867 INFO sqlalchemy.engine.base.Engine ({'track_playlist_id': 3551, 'playlist': 'Music', 'track_id': 2487}, {'track_playlist_id': 3552, 'playlist': 'Music', 'track_id': 2488}, {'track_playlist_id': 3553, 'playlist': '90\\x92s Music', 'track_id': 2488}, {'track_playlist_id': 3554, 'playlist': 'Music', 'track_id': 2489}, {'track_playlist_id': 3555, 'playlist': '90\\x92s Music', 'track_id': 2489}, {'track_playlist_id': 3556, 'playlist': 'Music', 'track_id': 2490}, {'track_playlist_id': 3557, 'playlist': '90\\x92s Music', 'track_id': 2490}, {'track_playlist_id': 3558, 'playlist': 'Music', 'track_id': 2491}  ... displaying 10 of 50 total bound parameter sets ...  {'track_playlist_id': 3599, 'playlist': 'Music', 'track_id': 2515}, {'track_playlist_id': 3600, 'playlist': '90\\x92s Music', 'track_id': 2515})\n",
      "2021-12-07 15:05:45,881 INFO sqlalchemy.engine.base.Engine INSERT INTO jch5x8.playlist (track_playlist_id, playlist, track_id) VALUES (%(track_playlist_id)s, %(playlist)s, %(track_id)s)\n",
      "2021-12-07 15:05:45,882 INFO sqlalchemy.engine.base.Engine ({'track_playlist_id': 3601, 'playlist': 'Music', 'track_id': 2516}, {'track_playlist_id': 3602, 'playlist': '90\\x92s Music', 'track_id': 2516}, {'track_playlist_id': 3603, 'playlist': 'Grunge', 'track_id': 2516}, {'track_playlist_id': 3604, 'playlist': 'Music', 'track_id': 2517}, {'track_playlist_id': 3605, 'playlist': '90\\x92s Music', 'track_id': 2517}, {'track_playlist_id': 3606, 'playlist': 'Music', 'track_id': 2518}, {'track_playlist_id': 3607, 'playlist': '90\\x92s Music', 'track_id': 2518}, {'track_playlist_id': 3608, 'playlist': 'Music', 'track_id': 2519}  ... displaying 10 of 50 total bound parameter sets ...  {'track_playlist_id': 3649, 'playlist': 'Music', 'track_id': 2549}, {'track_playlist_id': 3650, 'playlist': '90\\x92s Music', 'track_id': 2549})\n",
      "2021-12-07 15:05:45,895 INFO sqlalchemy.engine.base.Engine INSERT INTO jch5x8.playlist (track_playlist_id, playlist, track_id) VALUES (%(track_playlist_id)s, %(playlist)s, %(track_id)s)\n",
      "2021-12-07 15:05:45,896 INFO sqlalchemy.engine.base.Engine ({'track_playlist_id': 3651, 'playlist': 'Music', 'track_id': 2550}, {'track_playlist_id': 3652, 'playlist': '90\\x92s Music', 'track_id': 2550}, {'track_playlist_id': 3653, 'playlist': 'Grunge', 'track_id': 2550}, {'track_playlist_id': 3654, 'playlist': 'Music', 'track_id': 2551}, {'track_playlist_id': 3655, 'playlist': '90\\x92s Music', 'track_id': 2551}, {'track_playlist_id': 3656, 'playlist': 'Music', 'track_id': 2552}, {'track_playlist_id': 3657, 'playlist': '90\\x92s Music', 'track_id': 2552}, {'track_playlist_id': 3658, 'playlist': 'Music', 'track_id': 2553}  ... displaying 10 of 50 total bound parameter sets ...  {'track_playlist_id': 3699, 'playlist': 'Music', 'track_id': 2586}, {'track_playlist_id': 3700, 'playlist': 'Music', 'track_id': 2587})\n",
      "2021-12-07 15:05:45,907 INFO sqlalchemy.engine.base.Engine INSERT INTO jch5x8.playlist (track_playlist_id, playlist, track_id) VALUES (%(track_playlist_id)s, %(playlist)s, %(track_id)s)\n",
      "2021-12-07 15:05:45,907 INFO sqlalchemy.engine.base.Engine ({'track_playlist_id': 3701, 'playlist': 'Music', 'track_id': 2588}, {'track_playlist_id': 3702, 'playlist': 'Music', 'track_id': 2589}, {'track_playlist_id': 3703, 'playlist': 'Music', 'track_id': 2590}, {'track_playlist_id': 3704, 'playlist': 'Music', 'track_id': 2591}, {'track_playlist_id': 3705, 'playlist': '90\\x92s Music', 'track_id': 2591}, {'track_playlist_id': 3706, 'playlist': 'Music', 'track_id': 2592}, {'track_playlist_id': 3707, 'playlist': '90\\x92s Music', 'track_id': 2592}, {'track_playlist_id': 3708, 'playlist': 'Music', 'track_id': 2593}  ... displaying 10 of 50 total bound parameter sets ...  {'track_playlist_id': 3749, 'playlist': 'Music', 'track_id': 2618}, {'track_playlist_id': 3750, 'playlist': 'Music', 'track_id': 2619})\n",
      "2021-12-07 15:05:45,917 INFO sqlalchemy.engine.base.Engine INSERT INTO jch5x8.playlist (track_playlist_id, playlist, track_id) VALUES (%(track_playlist_id)s, %(playlist)s, %(track_id)s)\n",
      "2021-12-07 15:05:45,917 INFO sqlalchemy.engine.base.Engine ({'track_playlist_id': 3751, 'playlist': 'Music', 'track_id': 2620}, {'track_playlist_id': 3752, 'playlist': 'Music', 'track_id': 2621}, {'track_playlist_id': 3753, 'playlist': 'Music', 'track_id': 2622}, {'track_playlist_id': 3754, 'playlist': 'Music', 'track_id': 2623}, {'track_playlist_id': 3755, 'playlist': 'Music', 'track_id': 2624}, {'track_playlist_id': 3756, 'playlist': 'Music', 'track_id': 2625}, {'track_playlist_id': 3757, 'playlist': '90\\x92s Music', 'track_id': 2625}, {'track_playlist_id': 3758, 'playlist': 'Music', 'track_id': 2626}  ... displaying 10 of 50 total bound parameter sets ...  {'track_playlist_id': 3799, 'playlist': 'Music', 'track_id': 2657}, {'track_playlist_id': 3800, 'playlist': '90\\x92s Music', 'track_id': 2657})\n",
      "2021-12-07 15:05:45,930 INFO sqlalchemy.engine.base.Engine INSERT INTO jch5x8.playlist (track_playlist_id, playlist, track_id) VALUES (%(track_playlist_id)s, %(playlist)s, %(track_id)s)\n",
      "2021-12-07 15:05:45,930 INFO sqlalchemy.engine.base.Engine ({'track_playlist_id': 3801, 'playlist': 'Music', 'track_id': 2658}, {'track_playlist_id': 3802, 'playlist': '90\\x92s Music', 'track_id': 2658}, {'track_playlist_id': 3803, 'playlist': 'Music', 'track_id': 2659}, {'track_playlist_id': 3804, 'playlist': '90\\x92s Music', 'track_id': 2659}, {'track_playlist_id': 3805, 'playlist': 'Music', 'track_id': 2660}, {'track_playlist_id': 3806, 'playlist': '90\\x92s Music', 'track_id': 2660}, {'track_playlist_id': 3807, 'playlist': 'Music', 'track_id': 2661}, {'track_playlist_id': 3808, 'playlist': '90\\x92s Music', 'track_id': 2661}  ... displaying 10 of 50 total bound parameter sets ...  {'track_playlist_id': 3849, 'playlist': 'Music', 'track_id': 2688}, {'track_playlist_id': 3850, 'playlist': '90\\x92s Music', 'track_id': 2688})\n",
      "2021-12-07 15:05:45,939 INFO sqlalchemy.engine.base.Engine INSERT INTO jch5x8.playlist (track_playlist_id, playlist, track_id) VALUES (%(track_playlist_id)s, %(playlist)s, %(track_id)s)\n"
     ]
    },
    {
     "name": "stdout",
     "output_type": "stream",
     "text": [
      "2021-12-07 15:05:45,940 INFO sqlalchemy.engine.base.Engine ({'track_playlist_id': 3851, 'playlist': 'Music', 'track_id': 2689}, {'track_playlist_id': 3852, 'playlist': '90\\x92s Music', 'track_id': 2689}, {'track_playlist_id': 3853, 'playlist': 'Music', 'track_id': 2690}, {'track_playlist_id': 3854, 'playlist': '90\\x92s Music', 'track_id': 2690}, {'track_playlist_id': 3855, 'playlist': 'Music', 'track_id': 2691}, {'track_playlist_id': 3856, 'playlist': '90\\x92s Music', 'track_id': 2691}, {'track_playlist_id': 3857, 'playlist': 'Music', 'track_id': 2692}, {'track_playlist_id': 3858, 'playlist': '90\\x92s Music', 'track_id': 2692}  ... displaying 10 of 50 total bound parameter sets ...  {'track_playlist_id': 3899, 'playlist': '90\\x92s Music', 'track_id': 2713}, {'track_playlist_id': 3900, 'playlist': 'Music', 'track_id': 2714})\n",
      "2021-12-07 15:05:45,950 INFO sqlalchemy.engine.base.Engine INSERT INTO jch5x8.playlist (track_playlist_id, playlist, track_id) VALUES (%(track_playlist_id)s, %(playlist)s, %(track_id)s)\n",
      "2021-12-07 15:05:45,950 INFO sqlalchemy.engine.base.Engine ({'track_playlist_id': 3901, 'playlist': '90\\x92s Music', 'track_id': 2714}, {'track_playlist_id': 3902, 'playlist': 'Music', 'track_id': 2715}, {'track_playlist_id': 3903, 'playlist': '90\\x92s Music', 'track_id': 2715}, {'track_playlist_id': 3904, 'playlist': 'Music', 'track_id': 2716}, {'track_playlist_id': 3905, 'playlist': '90\\x92s Music', 'track_id': 2716}, {'track_playlist_id': 3906, 'playlist': 'Music', 'track_id': 2717}, {'track_playlist_id': 3907, 'playlist': '90\\x92s Music', 'track_id': 2717}, {'track_playlist_id': 3908, 'playlist': 'Music', 'track_id': 2718}  ... displaying 10 of 50 total bound parameter sets ...  {'track_playlist_id': 3949, 'playlist': 'Music', 'track_id': 2747}, {'track_playlist_id': 3950, 'playlist': 'Music', 'track_id': 2748})\n",
      "2021-12-07 15:05:45,960 INFO sqlalchemy.engine.base.Engine INSERT INTO jch5x8.playlist (track_playlist_id, playlist, track_id) VALUES (%(track_playlist_id)s, %(playlist)s, %(track_id)s)\n",
      "2021-12-07 15:05:45,960 INFO sqlalchemy.engine.base.Engine ({'track_playlist_id': 3951, 'playlist': 'Music', 'track_id': 2749}, {'track_playlist_id': 3952, 'playlist': 'Music', 'track_id': 2750}, {'track_playlist_id': 3953, 'playlist': 'Music', 'track_id': 2751}, {'track_playlist_id': 3954, 'playlist': 'Music', 'track_id': 2752}, {'track_playlist_id': 3955, 'playlist': 'Brazilian Music', 'track_id': 2752}, {'track_playlist_id': 3956, 'playlist': 'Music', 'track_id': 2753}, {'track_playlist_id': 3957, 'playlist': 'Brazilian Music', 'track_id': 2753}, {'track_playlist_id': 3958, 'playlist': 'Music', 'track_id': 2754}  ... displaying 10 of 50 total bound parameter sets ...  {'track_playlist_id': 3999, 'playlist': '90\\x92s Music', 'track_id': 2785}, {'track_playlist_id': 4000, 'playlist': 'Music', 'track_id': 2786})\n",
      "2021-12-07 15:05:45,970 INFO sqlalchemy.engine.base.Engine INSERT INTO jch5x8.playlist (track_playlist_id, playlist, track_id) VALUES (%(track_playlist_id)s, %(playlist)s, %(track_id)s)\n",
      "2021-12-07 15:05:45,970 INFO sqlalchemy.engine.base.Engine ({'track_playlist_id': 4001, 'playlist': '90\\x92s Music', 'track_id': 2786}, {'track_playlist_id': 4002, 'playlist': 'Music', 'track_id': 2787}, {'track_playlist_id': 4003, 'playlist': '90\\x92s Music', 'track_id': 2787}, {'track_playlist_id': 4004, 'playlist': 'Music', 'track_id': 2788}, {'track_playlist_id': 4005, 'playlist': '90\\x92s Music', 'track_id': 2788}, {'track_playlist_id': 4006, 'playlist': 'Music', 'track_id': 2789}, {'track_playlist_id': 4007, 'playlist': '90\\x92s Music', 'track_id': 2789}, {'track_playlist_id': 4008, 'playlist': 'Music', 'track_id': 2790}  ... displaying 10 of 50 total bound parameter sets ...  {'track_playlist_id': 4049, 'playlist': '90\\x92s Music', 'track_id': 2810}, {'track_playlist_id': 4050, 'playlist': 'Music', 'track_id': 2811})\n",
      "2021-12-07 15:05:45,979 INFO sqlalchemy.engine.base.Engine INSERT INTO jch5x8.playlist (track_playlist_id, playlist, track_id) VALUES (%(track_playlist_id)s, %(playlist)s, %(track_id)s)\n",
      "2021-12-07 15:05:45,980 INFO sqlalchemy.engine.base.Engine ({'track_playlist_id': 4051, 'playlist': '90\\x92s Music', 'track_id': 2811}, {'track_playlist_id': 4052, 'playlist': 'Music', 'track_id': 2812}, {'track_playlist_id': 4053, 'playlist': '90\\x92s Music', 'track_id': 2812}, {'track_playlist_id': 4054, 'playlist': 'Music', 'track_id': 2813}, {'track_playlist_id': 4055, 'playlist': '90\\x92s Music', 'track_id': 2813}, {'track_playlist_id': 4056, 'playlist': 'Music', 'track_id': 2814}, {'track_playlist_id': 4057, 'playlist': '90\\x92s Music', 'track_id': 2814}, {'track_playlist_id': 4058, 'playlist': 'Music', 'track_id': 2815}  ... displaying 10 of 50 total bound parameter sets ...  {'track_playlist_id': 4099, 'playlist': 'Music', 'track_id': 2947}, {'track_playlist_id': 4100, 'playlist': 'Music', 'track_id': 2948})\n",
      "2021-12-07 15:05:45,989 INFO sqlalchemy.engine.base.Engine INSERT INTO jch5x8.playlist (track_playlist_id, playlist, track_id) VALUES (%(track_playlist_id)s, %(playlist)s, %(track_id)s)\n",
      "2021-12-07 15:05:45,990 INFO sqlalchemy.engine.base.Engine ({'track_playlist_id': 4101, 'playlist': 'Music', 'track_id': 2949}, {'track_playlist_id': 4102, 'playlist': '90\\x92s Music', 'track_id': 2949}, {'track_playlist_id': 4103, 'playlist': 'Music', 'track_id': 2950}, {'track_playlist_id': 4104, 'playlist': '90\\x92s Music', 'track_id': 2950}, {'track_playlist_id': 4105, 'playlist': 'Music', 'track_id': 2951}, {'track_playlist_id': 4106, 'playlist': '90\\x92s Music', 'track_id': 2951}, {'track_playlist_id': 4107, 'playlist': 'Music', 'track_id': 2952}, {'track_playlist_id': 4108, 'playlist': '90\\x92s Music', 'track_id': 2952}  ... displaying 10 of 50 total bound parameter sets ...  {'track_playlist_id': 4149, 'playlist': '90\\x92s Music', 'track_id': 2978}, {'track_playlist_id': 4150, 'playlist': 'Music', 'track_id': 2979})\n",
      "2021-12-07 15:05:45,999 INFO sqlalchemy.engine.base.Engine INSERT INTO jch5x8.playlist (track_playlist_id, playlist, track_id) VALUES (%(track_playlist_id)s, %(playlist)s, %(track_id)s)\n",
      "2021-12-07 15:05:46,000 INFO sqlalchemy.engine.base.Engine ({'track_playlist_id': 4151, 'playlist': '90\\x92s Music', 'track_id': 2979}, {'track_playlist_id': 4152, 'playlist': 'Music', 'track_id': 2980}, {'track_playlist_id': 4153, 'playlist': '90\\x92s Music', 'track_id': 2980}, {'track_playlist_id': 4154, 'playlist': 'Music', 'track_id': 2981}, {'track_playlist_id': 4155, 'playlist': '90\\x92s Music', 'track_id': 2981}, {'track_playlist_id': 4156, 'playlist': 'Music', 'track_id': 2982}, {'track_playlist_id': 4157, 'playlist': '90\\x92s Music', 'track_id': 2982}, {'track_playlist_id': 4158, 'playlist': 'Music', 'track_id': 2983}  ... displaying 10 of 50 total bound parameter sets ...  {'track_playlist_id': 4199, 'playlist': 'Music', 'track_id': 3012}, {'track_playlist_id': 4200, 'playlist': '90\\x92s Music', 'track_id': 3012})\n",
      "2021-12-07 15:05:46,009 INFO sqlalchemy.engine.base.Engine INSERT INTO jch5x8.playlist (track_playlist_id, playlist, track_id) VALUES (%(track_playlist_id)s, %(playlist)s, %(track_id)s)\n",
      "2021-12-07 15:05:46,009 INFO sqlalchemy.engine.base.Engine ({'track_playlist_id': 4201, 'playlist': 'Music', 'track_id': 3013}, {'track_playlist_id': 4202, 'playlist': '90\\x92s Music', 'track_id': 3013}, {'track_playlist_id': 4203, 'playlist': 'Music', 'track_id': 3014}, {'track_playlist_id': 4204, 'playlist': '90\\x92s Music', 'track_id': 3014}, {'track_playlist_id': 4205, 'playlist': 'Music', 'track_id': 3015}, {'track_playlist_id': 4206, 'playlist': '90\\x92s Music', 'track_id': 3015}, {'track_playlist_id': 4207, 'playlist': 'Music', 'track_id': 3016}, {'track_playlist_id': 4208, 'playlist': '90\\x92s Music', 'track_id': 3016}  ... displaying 10 of 50 total bound parameter sets ...  {'track_playlist_id': 4249, 'playlist': 'Music', 'track_id': 3042}, {'track_playlist_id': 4250, 'playlist': '90\\x92s Music', 'track_id': 3042})\n",
      "2021-12-07 15:05:46,018 INFO sqlalchemy.engine.base.Engine INSERT INTO jch5x8.playlist (track_playlist_id, playlist, track_id) VALUES (%(track_playlist_id)s, %(playlist)s, %(track_id)s)\n",
      "2021-12-07 15:05:46,019 INFO sqlalchemy.engine.base.Engine ({'track_playlist_id': 4251, 'playlist': 'Music', 'track_id': 3043}, {'track_playlist_id': 4252, 'playlist': '90\\x92s Music', 'track_id': 3043}, {'track_playlist_id': 4253, 'playlist': 'Music', 'track_id': 3044}, {'track_playlist_id': 4254, 'playlist': '90\\x92s Music', 'track_id': 3044}, {'track_playlist_id': 4255, 'playlist': 'Music', 'track_id': 3045}, {'track_playlist_id': 4256, 'playlist': '90\\x92s Music', 'track_id': 3045}, {'track_playlist_id': 4257, 'playlist': 'Music', 'track_id': 3046}, {'track_playlist_id': 4258, 'playlist': '90\\x92s Music', 'track_id': 3046}  ... displaying 10 of 50 total bound parameter sets ...  {'track_playlist_id': 4299, 'playlist': '90\\x92s Music', 'track_id': 3078}, {'track_playlist_id': 4300, 'playlist': 'Music', 'track_id': 3079})\n"
     ]
    },
    {
     "name": "stdout",
     "output_type": "stream",
     "text": [
      "2021-12-07 15:05:46,027 INFO sqlalchemy.engine.base.Engine INSERT INTO jch5x8.playlist (track_playlist_id, playlist, track_id) VALUES (%(track_playlist_id)s, %(playlist)s, %(track_id)s)\n",
      "2021-12-07 15:05:46,027 INFO sqlalchemy.engine.base.Engine ({'track_playlist_id': 4301, 'playlist': '90\\x92s Music', 'track_id': 3079}, {'track_playlist_id': 4302, 'playlist': 'Music', 'track_id': 3080}, {'track_playlist_id': 4303, 'playlist': '90\\x92s Music', 'track_id': 3080}, {'track_playlist_id': 4304, 'playlist': 'Music', 'track_id': 3081}, {'track_playlist_id': 4305, 'playlist': 'Music', 'track_id': 3082}, {'track_playlist_id': 4306, 'playlist': 'Music', 'track_id': 3083}, {'track_playlist_id': 4307, 'playlist': 'Music', 'track_id': 3084}, {'track_playlist_id': 4308, 'playlist': 'Music', 'track_id': 3085}  ... displaying 10 of 50 total bound parameter sets ...  {'track_playlist_id': 4349, 'playlist': 'Music', 'track_id': 3114}, {'track_playlist_id': 4350, 'playlist': 'Music', 'track_id': 3115})\n",
      "2021-12-07 15:05:46,036 INFO sqlalchemy.engine.base.Engine INSERT INTO jch5x8.playlist (track_playlist_id, playlist, track_id) VALUES (%(track_playlist_id)s, %(playlist)s, %(track_id)s)\n",
      "2021-12-07 15:05:46,037 INFO sqlalchemy.engine.base.Engine ({'track_playlist_id': 4351, 'playlist': 'Music', 'track_id': 3116}, {'track_playlist_id': 4352, 'playlist': 'Music', 'track_id': 3117}, {'track_playlist_id': 4353, 'playlist': 'Music', 'track_id': 3118}, {'track_playlist_id': 4354, 'playlist': 'Music', 'track_id': 3119}, {'track_playlist_id': 4355, 'playlist': 'Music', 'track_id': 3120}, {'track_playlist_id': 4356, 'playlist': 'Music', 'track_id': 3121}, {'track_playlist_id': 4357, 'playlist': 'Music', 'track_id': 3122}, {'track_playlist_id': 4358, 'playlist': 'Music', 'track_id': 3123}  ... displaying 10 of 50 total bound parameter sets ...  {'track_playlist_id': 4399, 'playlist': 'Music', 'track_id': 3148}, {'track_playlist_id': 4400, 'playlist': '90\\x92s Music', 'track_id': 3148})\n",
      "2021-12-07 15:05:46,046 INFO sqlalchemy.engine.base.Engine INSERT INTO jch5x8.playlist (track_playlist_id, playlist, track_id) VALUES (%(track_playlist_id)s, %(playlist)s, %(track_id)s)\n",
      "2021-12-07 15:05:46,047 INFO sqlalchemy.engine.base.Engine ({'track_playlist_id': 4401, 'playlist': 'Music', 'track_id': 3149}, {'track_playlist_id': 4402, 'playlist': '90\\x92s Music', 'track_id': 3149}, {'track_playlist_id': 4403, 'playlist': 'Music', 'track_id': 3150}, {'track_playlist_id': 4404, 'playlist': '90\\x92s Music', 'track_id': 3150}, {'track_playlist_id': 4405, 'playlist': 'Music', 'track_id': 3151}, {'track_playlist_id': 4406, 'playlist': '90\\x92s Music', 'track_id': 3151}, {'track_playlist_id': 4407, 'playlist': 'Music', 'track_id': 3152}, {'track_playlist_id': 4408, 'playlist': '90\\x92s Music', 'track_id': 3152}  ... displaying 10 of 50 total bound parameter sets ...  {'track_playlist_id': 4449, 'playlist': 'Music', 'track_id': 3308}, {'track_playlist_id': 4450, 'playlist': '90\\x92s Music', 'track_id': 3308})\n",
      "2021-12-07 15:05:46,057 INFO sqlalchemy.engine.base.Engine INSERT INTO jch5x8.playlist (track_playlist_id, playlist, track_id) VALUES (%(track_playlist_id)s, %(playlist)s, %(track_id)s)\n",
      "2021-12-07 15:05:46,057 INFO sqlalchemy.engine.base.Engine ({'track_playlist_id': 4451, 'playlist': 'Music', 'track_id': 3309}, {'track_playlist_id': 4452, 'playlist': '90\\x92s Music', 'track_id': 3309}, {'track_playlist_id': 4453, 'playlist': 'Music', 'track_id': 3310}, {'track_playlist_id': 4454, 'playlist': '90\\x92s Music', 'track_id': 3310}, {'track_playlist_id': 4455, 'playlist': 'Music', 'track_id': 3311}, {'track_playlist_id': 4456, 'playlist': '90\\x92s Music', 'track_id': 3311}, {'track_playlist_id': 4457, 'playlist': 'Music', 'track_id': 3312}, {'track_playlist_id': 4458, 'playlist': '90\\x92s Music', 'track_id': 3312}  ... displaying 10 of 50 total bound parameter sets ...  {'track_playlist_id': 4499, 'playlist': 'Music', 'track_id': 1146}, {'track_playlist_id': 4500, 'playlist': 'Music', 'track_id': 1147})\n",
      "2021-12-07 15:05:46,067 INFO sqlalchemy.engine.base.Engine INSERT INTO jch5x8.playlist (track_playlist_id, playlist, track_id) VALUES (%(track_playlist_id)s, %(playlist)s, %(track_id)s)\n",
      "2021-12-07 15:05:46,068 INFO sqlalchemy.engine.base.Engine ({'track_playlist_id': 4501, 'playlist': 'Music', 'track_id': 1148}, {'track_playlist_id': 4502, 'playlist': 'Music', 'track_id': 1149}, {'track_playlist_id': 4503, 'playlist': 'Music', 'track_id': 1150}, {'track_playlist_id': 4504, 'playlist': 'Music', 'track_id': 1151}, {'track_playlist_id': 4505, 'playlist': 'Music', 'track_id': 1152}, {'track_playlist_id': 4506, 'playlist': 'Music', 'track_id': 1153}, {'track_playlist_id': 4507, 'playlist': 'Music', 'track_id': 1154}, {'track_playlist_id': 4508, 'playlist': 'Music', 'track_id': 1155}  ... displaying 10 of 50 total bound parameter sets ...  {'track_playlist_id': 4549, 'playlist': 'Music', 'track_id': 1207}, {'track_playlist_id': 4550, 'playlist': 'Music', 'track_id': 1208})\n",
      "2021-12-07 15:05:46,077 INFO sqlalchemy.engine.base.Engine INSERT INTO jch5x8.playlist (track_playlist_id, playlist, track_id) VALUES (%(track_playlist_id)s, %(playlist)s, %(track_id)s)\n",
      "2021-12-07 15:05:46,078 INFO sqlalchemy.engine.base.Engine ({'track_playlist_id': 4551, 'playlist': 'Music', 'track_id': 1209}, {'track_playlist_id': 4552, 'playlist': 'Music', 'track_id': 1210}, {'track_playlist_id': 4553, 'playlist': 'Music', 'track_id': 1211}, {'track_playlist_id': 4554, 'playlist': 'Music', 'track_id': 1496}, {'track_playlist_id': 4555, 'playlist': '90\\x92s Music', 'track_id': 1496}, {'track_playlist_id': 4556, 'playlist': 'Music', 'track_id': 1497}, {'track_playlist_id': 4557, 'playlist': '90\\x92s Music', 'track_id': 1497}, {'track_playlist_id': 4558, 'playlist': 'Music', 'track_id': 1498}  ... displaying 10 of 50 total bound parameter sets ...  {'track_playlist_id': 4599, 'playlist': 'Music', 'track_id': 3267}, {'track_playlist_id': 4600, 'playlist': 'Music', 'track_id': 3268})\n",
      "2021-12-07 15:05:46,089 INFO sqlalchemy.engine.base.Engine INSERT INTO jch5x8.playlist (track_playlist_id, playlist, track_id) VALUES (%(track_playlist_id)s, %(playlist)s, %(track_id)s)\n",
      "2021-12-07 15:05:46,089 INFO sqlalchemy.engine.base.Engine ({'track_playlist_id': 4601, 'playlist': 'Music', 'track_id': 3269}, {'track_playlist_id': 4602, 'playlist': 'Music', 'track_id': 3270}, {'track_playlist_id': 4603, 'playlist': 'Music', 'track_id': 3271}, {'track_playlist_id': 4604, 'playlist': 'Music', 'track_id': 3272}, {'track_playlist_id': 4605, 'playlist': 'Music', 'track_id': 3273}, {'track_playlist_id': 4606, 'playlist': 'Music', 'track_id': 3274}, {'track_playlist_id': 4607, 'playlist': 'Music', 'track_id': 3275}, {'track_playlist_id': 4608, 'playlist': 'Music', 'track_id': 3276}  ... displaying 10 of 50 total bound parameter sets ...  {'track_playlist_id': 4649, 'playlist': 'Music', 'track_id': 3367}, {'track_playlist_id': 4650, 'playlist': '90\\x92s Music', 'track_id': 3367})\n",
      "2021-12-07 15:05:46,100 INFO sqlalchemy.engine.base.Engine INSERT INTO jch5x8.playlist (track_playlist_id, playlist, track_id) VALUES (%(track_playlist_id)s, %(playlist)s, %(track_id)s)\n",
      "2021-12-07 15:05:46,100 INFO sqlalchemy.engine.base.Engine ({'track_playlist_id': 4651, 'playlist': 'Grunge', 'track_id': 3367}, {'track_playlist_id': 4652, 'playlist': 'Music', 'track_id': 3368}, {'track_playlist_id': 4653, 'playlist': '90\\x92s Music', 'track_id': 3368}, {'track_playlist_id': 4654, 'playlist': 'Music', 'track_id': 3369}, {'track_playlist_id': 4655, 'playlist': '90\\x92s Music', 'track_id': 3369}, {'track_playlist_id': 4656, 'playlist': 'Music', 'track_id': 3370}, {'track_playlist_id': 4657, 'playlist': '90\\x92s Music', 'track_id': 3370}, {'track_playlist_id': 4658, 'playlist': 'Music', 'track_id': 3371}  ... displaying 10 of 50 total bound parameter sets ...  {'track_playlist_id': 4699, 'playlist': 'Classical', 'track_id': 3404}, {'track_playlist_id': 4700, 'playlist': 'Classical 101 - The Basics', 'track_id': 3404})\n",
      "2021-12-07 15:05:46,110 INFO sqlalchemy.engine.base.Engine INSERT INTO jch5x8.playlist (track_playlist_id, playlist, track_id) VALUES (%(track_playlist_id)s, %(playlist)s, %(track_id)s)\n"
     ]
    },
    {
     "name": "stdout",
     "output_type": "stream",
     "text": [
      "2021-12-07 15:05:46,111 INFO sqlalchemy.engine.base.Engine ({'track_playlist_id': 4701, 'playlist': 'Music', 'track_id': 3405}, {'track_playlist_id': 4702, 'playlist': 'Classical', 'track_id': 3405}, {'track_playlist_id': 4703, 'playlist': 'Classical 101 - The Basics', 'track_id': 3405}, {'track_playlist_id': 4704, 'playlist': 'Music', 'track_id': 3406}, {'track_playlist_id': 4705, 'playlist': 'Classical', 'track_id': 3406}, {'track_playlist_id': 4706, 'playlist': 'Classical 101 - The Basics', 'track_id': 3406}, {'track_playlist_id': 4707, 'playlist': 'Music', 'track_id': 3407}, {'track_playlist_id': 4708, 'playlist': 'Classical', 'track_id': 3407}  ... displaying 10 of 50 total bound parameter sets ...  {'track_playlist_id': 4749, 'playlist': 'Classical', 'track_id': 3419}, {'track_playlist_id': 4750, 'playlist': 'Classical 101 - The Basics', 'track_id': 3419})\n",
      "2021-12-07 15:05:46,128 INFO sqlalchemy.engine.base.Engine INSERT INTO jch5x8.playlist (track_playlist_id, playlist, track_id) VALUES (%(track_playlist_id)s, %(playlist)s, %(track_id)s)\n",
      "2021-12-07 15:05:46,128 INFO sqlalchemy.engine.base.Engine ({'track_playlist_id': 4751, 'playlist': 'Music', 'track_id': 3420}, {'track_playlist_id': 4752, 'playlist': 'Classical', 'track_id': 3420}, {'track_playlist_id': 4753, 'playlist': 'Classical 101 - The Basics', 'track_id': 3420}, {'track_playlist_id': 4754, 'playlist': 'Music', 'track_id': 3421}, {'track_playlist_id': 4755, 'playlist': '90\\x92s Music', 'track_id': 3421}, {'track_playlist_id': 4756, 'playlist': 'Classical', 'track_id': 3421}, {'track_playlist_id': 4757, 'playlist': 'Classical 101 - The Basics', 'track_id': 3421}, {'track_playlist_id': 4758, 'playlist': 'Music', 'track_id': 3422}  ... displaying 10 of 50 total bound parameter sets ...  {'track_playlist_id': 4799, 'playlist': 'Classical', 'track_id': 3435}, {'track_playlist_id': 4800, 'playlist': 'Classical 101 - Next Steps', 'track_id': 3435})\n",
      "2021-12-07 15:05:46,139 INFO sqlalchemy.engine.base.Engine INSERT INTO jch5x8.playlist (track_playlist_id, playlist, track_id) VALUES (%(track_playlist_id)s, %(playlist)s, %(track_id)s)\n",
      "2021-12-07 15:05:46,139 INFO sqlalchemy.engine.base.Engine ({'track_playlist_id': 4801, 'playlist': 'Music', 'track_id': 3436}, {'track_playlist_id': 4802, 'playlist': '90\\x92s Music', 'track_id': 3436}, {'track_playlist_id': 4803, 'playlist': 'Classical', 'track_id': 3436}, {'track_playlist_id': 4804, 'playlist': 'Classical 101 - Next Steps', 'track_id': 3436}, {'track_playlist_id': 4805, 'playlist': 'Music', 'track_id': 3437}, {'track_playlist_id': 4806, 'playlist': '90\\x92s Music', 'track_id': 3437}, {'track_playlist_id': 4807, 'playlist': 'Classical', 'track_id': 3437}, {'track_playlist_id': 4808, 'playlist': 'Classical 101 - Next Steps', 'track_id': 3437}  ... displaying 10 of 50 total bound parameter sets ...  {'track_playlist_id': 4849, 'playlist': 'Classical 101 - Next Steps', 'track_id': 3448}, {'track_playlist_id': 4850, 'playlist': 'Music', 'track_id': 3449})\n",
      "2021-12-07 15:05:46,149 INFO sqlalchemy.engine.base.Engine INSERT INTO jch5x8.playlist (track_playlist_id, playlist, track_id) VALUES (%(track_playlist_id)s, %(playlist)s, %(track_id)s)\n",
      "2021-12-07 15:05:46,150 INFO sqlalchemy.engine.base.Engine ({'track_playlist_id': 4851, 'playlist': '90\\x92s Music', 'track_id': 3449}, {'track_playlist_id': 4852, 'playlist': 'Classical', 'track_id': 3449}, {'track_playlist_id': 4853, 'playlist': 'Classical 101 - Next Steps', 'track_id': 3449}, {'track_playlist_id': 4854, 'playlist': 'Music', 'track_id': 3450}, {'track_playlist_id': 4855, 'playlist': 'Classical', 'track_id': 3450}, {'track_playlist_id': 4856, 'playlist': 'Classical 101 - Next Steps', 'track_id': 3450}, {'track_playlist_id': 4857, 'playlist': 'Music', 'track_id': 3451}, {'track_playlist_id': 4858, 'playlist': '90\\x92s Music', 'track_id': 3451}  ... displaying 10 of 50 total bound parameter sets ...  {'track_playlist_id': 4899, 'playlist': 'Classical 101 - Deep Cuts', 'track_id': 3482}, {'track_playlist_id': 4900, 'playlist': 'Music', 'track_id': 3483})\n",
      "2021-12-07 15:05:46,160 INFO sqlalchemy.engine.base.Engine INSERT INTO jch5x8.playlist (track_playlist_id, playlist, track_id) VALUES (%(track_playlist_id)s, %(playlist)s, %(track_id)s)\n",
      "2021-12-07 15:05:46,160 INFO sqlalchemy.engine.base.Engine ({'track_playlist_id': 4901, 'playlist': 'Classical', 'track_id': 3483}, {'track_playlist_id': 4902, 'playlist': 'Classical 101 - Deep Cuts', 'track_id': 3483}, {'track_playlist_id': 4903, 'playlist': 'Music', 'track_id': 3484}, {'track_playlist_id': 4904, 'playlist': 'Classical', 'track_id': 3484}, {'track_playlist_id': 4905, 'playlist': 'Classical 101 - Deep Cuts', 'track_id': 3484}, {'track_playlist_id': 4906, 'playlist': 'Music', 'track_id': 3485}, {'track_playlist_id': 4907, 'playlist': '90\\x92s Music', 'track_id': 3485}, {'track_playlist_id': 4908, 'playlist': 'Classical', 'track_id': 3485}  ... displaying 10 of 50 total bound parameter sets ...  {'track_playlist_id': 4949, 'playlist': 'Classical', 'track_id': 3499}, {'track_playlist_id': 4950, 'playlist': 'Classical 101 - Deep Cuts', 'track_id': 3499})\n",
      "2021-12-07 15:05:46,170 INFO sqlalchemy.engine.base.Engine INSERT INTO jch5x8.playlist (track_playlist_id, playlist, track_id) VALUES (%(track_playlist_id)s, %(playlist)s, %(track_id)s)\n",
      "2021-12-07 15:05:46,170 INFO sqlalchemy.engine.base.Engine ({'track_playlist_id': 4951, 'playlist': 'Music', 'track_id': 3500}, {'track_playlist_id': 4952, 'playlist': 'Classical', 'track_id': 3500}, {'track_playlist_id': 4953, 'playlist': 'Classical 101 - Deep Cuts', 'track_id': 3500}, {'track_playlist_id': 4954, 'playlist': 'Music', 'track_id': 3501}, {'track_playlist_id': 4955, 'playlist': 'Classical', 'track_id': 3501}, {'track_playlist_id': 4956, 'playlist': 'Classical 101 - Deep Cuts', 'track_id': 3501}, {'track_playlist_id': 4957, 'playlist': 'Music', 'track_id': 3502}, {'track_playlist_id': 4958, 'playlist': 'Classical', 'track_id': 3502}  ... displaying 10 of 50 total bound parameter sets ...  {'track_playlist_id': 4999, 'playlist': 'TV Shows', 'track_id': 2854}, {'track_playlist_id': 5000, 'playlist': 'TV Shows', 'track_id': 2855})\n",
      "2021-12-07 15:05:46,180 INFO sqlalchemy.engine.base.Engine INSERT INTO jch5x8.playlist (track_playlist_id, playlist, track_id) VALUES (%(track_playlist_id)s, %(playlist)s, %(track_id)s)\n",
      "2021-12-07 15:05:46,180 INFO sqlalchemy.engine.base.Engine ({'track_playlist_id': 5001, 'playlist': 'TV Shows', 'track_id': 2856}, {'track_playlist_id': 5002, 'playlist': 'TV Shows', 'track_id': 2857}, {'track_playlist_id': 5003, 'playlist': 'TV Shows', 'track_id': 2858}, {'track_playlist_id': 5004, 'playlist': 'TV Shows', 'track_id': 2859}, {'track_playlist_id': 5005, 'playlist': 'TV Shows', 'track_id': 2860}, {'track_playlist_id': 5006, 'playlist': 'TV Shows', 'track_id': 2861}, {'track_playlist_id': 5007, 'playlist': 'TV Shows', 'track_id': 2862}, {'track_playlist_id': 5008, 'playlist': 'TV Shows', 'track_id': 2863}  ... displaying 10 of 50 total bound parameter sets ...  {'track_playlist_id': 5049, 'playlist': 'TV Shows', 'track_id': 2904}, {'track_playlist_id': 5050, 'playlist': 'TV Shows', 'track_id': 2905})\n",
      "2021-12-07 15:05:46,190 INFO sqlalchemy.engine.base.Engine INSERT INTO jch5x8.playlist (track_playlist_id, playlist, track_id) VALUES (%(track_playlist_id)s, %(playlist)s, %(track_id)s)\n",
      "2021-12-07 15:05:46,191 INFO sqlalchemy.engine.base.Engine ({'track_playlist_id': 5051, 'playlist': 'TV Shows', 'track_id': 2906}, {'track_playlist_id': 5052, 'playlist': 'TV Shows', 'track_id': 2907}, {'track_playlist_id': 5053, 'playlist': 'TV Shows', 'track_id': 2908}, {'track_playlist_id': 5054, 'playlist': 'TV Shows', 'track_id': 2909}, {'track_playlist_id': 5055, 'playlist': 'TV Shows', 'track_id': 2910}, {'track_playlist_id': 5056, 'playlist': 'TV Shows', 'track_id': 2911}, {'track_playlist_id': 5057, 'playlist': 'TV Shows', 'track_id': 2912}, {'track_playlist_id': 5058, 'playlist': 'TV Shows', 'track_id': 2913}  ... displaying 10 of 50 total bound parameter sets ...  {'track_playlist_id': 5099, 'playlist': 'TV Shows', 'track_id': 3193}, {'track_playlist_id': 5100, 'playlist': 'TV Shows', 'track_id': 3194})\n"
     ]
    },
    {
     "name": "stdout",
     "output_type": "stream",
     "text": [
      "2021-12-07 15:05:46,200 INFO sqlalchemy.engine.base.Engine INSERT INTO jch5x8.playlist (track_playlist_id, playlist, track_id) VALUES (%(track_playlist_id)s, %(playlist)s, %(track_id)s)\n",
      "2021-12-07 15:05:46,201 INFO sqlalchemy.engine.base.Engine ({'track_playlist_id': 5101, 'playlist': 'TV Shows', 'track_id': 3195}, {'track_playlist_id': 5102, 'playlist': 'TV Shows', 'track_id': 3196}, {'track_playlist_id': 5103, 'playlist': 'TV Shows', 'track_id': 3197}, {'track_playlist_id': 5104, 'playlist': 'TV Shows', 'track_id': 3198}, {'track_playlist_id': 5105, 'playlist': 'TV Shows', 'track_id': 3199}, {'track_playlist_id': 5106, 'playlist': 'TV Shows', 'track_id': 3200}, {'track_playlist_id': 5107, 'playlist': 'TV Shows', 'track_id': 3201}, {'track_playlist_id': 5108, 'playlist': 'TV Shows', 'track_id': 3202}  ... displaying 10 of 50 total bound parameter sets ...  {'track_playlist_id': 5149, 'playlist': 'TV Shows', 'track_id': 3244}, {'track_playlist_id': 5150, 'playlist': 'TV Shows', 'track_id': 3245})\n",
      "2021-12-07 15:05:46,211 INFO sqlalchemy.engine.base.Engine INSERT INTO jch5x8.playlist (track_playlist_id, playlist, track_id) VALUES (%(track_playlist_id)s, %(playlist)s, %(track_id)s)\n",
      "2021-12-07 15:05:46,211 INFO sqlalchemy.engine.base.Engine ({'track_playlist_id': 5151, 'playlist': 'TV Shows', 'track_id': 3246}, {'track_playlist_id': 5152, 'playlist': 'TV Shows', 'track_id': 3247}, {'track_playlist_id': 5153, 'playlist': 'TV Shows', 'track_id': 3248}, {'track_playlist_id': 5154, 'playlist': 'TV Shows', 'track_id': 3249}, {'track_playlist_id': 5155, 'playlist': 'TV Shows', 'track_id': 3250}, {'track_playlist_id': 5156, 'playlist': 'TV Shows', 'track_id': 3251}, {'track_playlist_id': 5157, 'playlist': 'TV Shows', 'track_id': 3252}, {'track_playlist_id': 5158, 'playlist': 'TV Shows', 'track_id': 3337}  ... displaying 10 of 50 total bound parameter sets ...  {'track_playlist_id': 5199, 'playlist': 'Music', 'track_id': 3349}, {'track_playlist_id': 5200, 'playlist': 'Music', 'track_id': 3350})\n",
      "2021-12-07 15:05:46,222 INFO sqlalchemy.engine.base.Engine INSERT INTO jch5x8.playlist (track_playlist_id, playlist, track_id) VALUES (%(track_playlist_id)s, %(playlist)s, %(track_id)s)\n",
      "2021-12-07 15:05:46,222 INFO sqlalchemy.engine.base.Engine ({'track_playlist_id': 5201, 'playlist': 'Music', 'track_id': 3351}, {'track_playlist_id': 5202, 'playlist': '90\\x92s Music', 'track_id': 3351}, {'track_playlist_id': 5203, 'playlist': 'Music', 'track_id': 3352}, {'track_playlist_id': 5204, 'playlist': 'Music', 'track_id': 3353}, {'track_playlist_id': 5205, 'playlist': 'Music', 'track_id': 3354}, {'track_playlist_id': 5206, 'playlist': '90\\x92s Music', 'track_id': 3354}, {'track_playlist_id': 5207, 'playlist': 'Music', 'track_id': 3355}, {'track_playlist_id': 5208, 'playlist': 'Music', 'track_id': 3356}  ... displaying 10 of 12 total bound parameter sets ...  {'track_playlist_id': 5211, 'playlist': 'Music', 'track_id': 3359}, {'track_playlist_id': 5212, 'playlist': '90\\x92s Music', 'track_id': 3359})\n",
      "2021-12-07 15:05:46,227 INFO sqlalchemy.engine.base.Engine COMMIT\n"
     ]
    }
   ],
   "source": [
    "col_list = [\"track_playlist_id\", \"playlist\", \"track_id\"]\n",
    "playlist = pd.read_csv(\"playlist.csv\", usecols = col_list, encoding = \"ISO-8859-1\")\n",
    "playlist.head()\n",
    "\n",
    "playlist.to_sql('playlist',       # Table to load to\n",
    "            engine,               # Engine created above\n",
    "            schema = username,    # Schema where table lives\n",
    "            if_exists = 'append', # If table found, add data\n",
    "            index = False,        # Ignore data frame row index\n",
    "            chunksize = 50        # Load 50 records from data frame at a time\n",
    "        )"
   ]
  },
  {
   "cell_type": "code",
   "execution_count": 27,
   "metadata": {},
   "outputs": [
    {
     "name": "stdout",
     "output_type": "stream",
     "text": [
      "2021-12-07 15:05:48,760 INFO sqlalchemy.engine.base.Engine select relname from pg_class c join pg_namespace n on n.oid=c.relnamespace where n.nspname=%(schema)s and relname=%(name)s\n",
      "2021-12-07 15:05:48,761 INFO sqlalchemy.engine.base.Engine {'schema': 'jch5x8', 'name': 'invoice_customers'}\n",
      "2021-12-07 15:05:48,764 INFO sqlalchemy.engine.base.Engine BEGIN (implicit)\n",
      "2021-12-07 15:05:48,765 INFO sqlalchemy.engine.base.Engine INSERT INTO jch5x8.invoice_customers (invoice_id, customer_id) VALUES (%(invoice_id)s, %(customer_id)s)\n",
      "2021-12-07 15:05:48,765 INFO sqlalchemy.engine.base.Engine ({'invoice_id': 1, 'customer_id': 2}, {'invoice_id': 2, 'customer_id': 4}, {'invoice_id': 3, 'customer_id': 8}, {'invoice_id': 4, 'customer_id': 14}, {'invoice_id': 5, 'customer_id': 23}, {'invoice_id': 6, 'customer_id': 37}, {'invoice_id': 7, 'customer_id': 38}, {'invoice_id': 8, 'customer_id': 40}  ... displaying 10 of 50 total bound parameter sets ...  {'invoice_id': 49, 'customer_id': 30}, {'invoice_id': 50, 'customer_id': 32})\n",
      "2021-12-07 15:05:48,781 INFO sqlalchemy.engine.base.Engine INSERT INTO jch5x8.invoice_customers (invoice_id, customer_id) VALUES (%(invoice_id)s, %(customer_id)s)\n",
      "2021-12-07 15:05:48,782 INFO sqlalchemy.engine.base.Engine ({'invoice_id': 51, 'customer_id': 34}, {'invoice_id': 52, 'customer_id': 38}, {'invoice_id': 53, 'customer_id': 44}, {'invoice_id': 54, 'customer_id': 53}, {'invoice_id': 55, 'customer_id': 8}, {'invoice_id': 56, 'customer_id': 9}, {'invoice_id': 57, 'customer_id': 11}, {'invoice_id': 58, 'customer_id': 13}  ... displaying 10 of 50 total bound parameter sets ...  {'invoice_id': 99, 'customer_id': 3}, {'invoice_id': 100, 'customer_id': 5})\n",
      "2021-12-07 15:05:48,791 INFO sqlalchemy.engine.base.Engine INSERT INTO jch5x8.invoice_customers (invoice_id, customer_id) VALUES (%(invoice_id)s, %(customer_id)s)\n",
      "2021-12-07 15:05:48,792 INFO sqlalchemy.engine.base.Engine ({'invoice_id': 101, 'customer_id': 9}, {'invoice_id': 102, 'customer_id': 15}, {'invoice_id': 103, 'customer_id': 24}, {'invoice_id': 104, 'customer_id': 38}, {'invoice_id': 105, 'customer_id': 39}, {'invoice_id': 106, 'customer_id': 41}, {'invoice_id': 107, 'customer_id': 43}, {'invoice_id': 108, 'customer_id': 47}  ... displaying 10 of 50 total bound parameter sets ...  {'invoice_id': 149, 'customer_id': 35}, {'invoice_id': 150, 'customer_id': 39})\n",
      "2021-12-07 15:05:48,800 INFO sqlalchemy.engine.base.Engine INSERT INTO jch5x8.invoice_customers (invoice_id, customer_id) VALUES (%(invoice_id)s, %(customer_id)s)\n",
      "2021-12-07 15:05:48,801 INFO sqlalchemy.engine.base.Engine ({'invoice_id': 151, 'customer_id': 45}, {'invoice_id': 152, 'customer_id': 54}, {'invoice_id': 153, 'customer_id': 9}, {'invoice_id': 154, 'customer_id': 10}, {'invoice_id': 155, 'customer_id': 12}, {'invoice_id': 156, 'customer_id': 14}, {'invoice_id': 157, 'customer_id': 18}, {'invoice_id': 158, 'customer_id': 24}  ... displaying 10 of 50 total bound parameter sets ...  {'invoice_id': 199, 'customer_id': 10}, {'invoice_id': 200, 'customer_id': 16})\n",
      "2021-12-07 15:05:48,810 INFO sqlalchemy.engine.base.Engine INSERT INTO jch5x8.invoice_customers (invoice_id, customer_id) VALUES (%(invoice_id)s, %(customer_id)s)\n",
      "2021-12-07 15:05:48,810 INFO sqlalchemy.engine.base.Engine ({'invoice_id': 201, 'customer_id': 25}, {'invoice_id': 202, 'customer_id': 39}, {'invoice_id': 203, 'customer_id': 40}, {'invoice_id': 204, 'customer_id': 42}, {'invoice_id': 205, 'customer_id': 44}, {'invoice_id': 206, 'customer_id': 48}, {'invoice_id': 207, 'customer_id': 54}, {'invoice_id': 208, 'customer_id': 4}  ... displaying 10 of 50 total bound parameter sets ...  {'invoice_id': 249, 'customer_id': 46}, {'invoice_id': 250, 'customer_id': 55})\n",
      "2021-12-07 15:05:48,821 INFO sqlalchemy.engine.base.Engine INSERT INTO jch5x8.invoice_customers (invoice_id, customer_id) VALUES (%(invoice_id)s, %(customer_id)s)\n",
      "2021-12-07 15:05:48,821 INFO sqlalchemy.engine.base.Engine ({'invoice_id': 251, 'customer_id': 10}, {'invoice_id': 252, 'customer_id': 11}, {'invoice_id': 253, 'customer_id': 13}, {'invoice_id': 254, 'customer_id': 15}, {'invoice_id': 255, 'customer_id': 19}, {'invoice_id': 256, 'customer_id': 25}, {'invoice_id': 257, 'customer_id': 34}, {'invoice_id': 258, 'customer_id': 48}  ... displaying 10 of 50 total bound parameter sets ...  {'invoice_id': 299, 'customer_id': 26}, {'invoice_id': 300, 'customer_id': 40})\n",
      "2021-12-07 15:05:48,830 INFO sqlalchemy.engine.base.Engine INSERT INTO jch5x8.invoice_customers (invoice_id, customer_id) VALUES (%(invoice_id)s, %(customer_id)s)\n",
      "2021-12-07 15:05:48,831 INFO sqlalchemy.engine.base.Engine ({'invoice_id': 301, 'customer_id': 41}, {'invoice_id': 302, 'customer_id': 43}, {'invoice_id': 303, 'customer_id': 45}, {'invoice_id': 304, 'customer_id': 49}, {'invoice_id': 305, 'customer_id': 55}, {'invoice_id': 306, 'customer_id': 5}, {'invoice_id': 307, 'customer_id': 19}, {'invoice_id': 308, 'customer_id': 20}  ... displaying 10 of 50 total bound parameter sets ...  {'invoice_id': 349, 'customer_id': 11}, {'invoice_id': 350, 'customer_id': 12})\n",
      "2021-12-07 15:05:48,840 INFO sqlalchemy.engine.base.Engine INSERT INTO jch5x8.invoice_customers (invoice_id, customer_id) VALUES (%(invoice_id)s, %(customer_id)s)\n",
      "2021-12-07 15:05:48,840 INFO sqlalchemy.engine.base.Engine ({'invoice_id': 351, 'customer_id': 14}, {'invoice_id': 352, 'customer_id': 16}, {'invoice_id': 353, 'customer_id': 20}, {'invoice_id': 354, 'customer_id': 26}, {'invoice_id': 355, 'customer_id': 35}, {'invoice_id': 356, 'customer_id': 49}, {'invoice_id': 357, 'customer_id': 50}, {'invoice_id': 358, 'customer_id': 52}  ... displaying 10 of 50 total bound parameter sets ...  {'invoice_id': 399, 'customer_id': 42}, {'invoice_id': 400, 'customer_id': 44})\n",
      "2021-12-07 15:05:48,849 INFO sqlalchemy.engine.base.Engine INSERT INTO jch5x8.invoice_customers (invoice_id, customer_id) VALUES (%(invoice_id)s, %(customer_id)s)\n",
      "2021-12-07 15:05:48,849 INFO sqlalchemy.engine.base.Engine ({'invoice_id': 401, 'customer_id': 46}, {'invoice_id': 402, 'customer_id': 50}, {'invoice_id': 403, 'customer_id': 56}, {'invoice_id': 404, 'customer_id': 6}, {'invoice_id': 405, 'customer_id': 20}, {'invoice_id': 406, 'customer_id': 21}, {'invoice_id': 407, 'customer_id': 23}, {'invoice_id': 408, 'customer_id': 25}  ... displaying 10 of 12 total bound parameter sets ...  {'invoice_id': 411, 'customer_id': 44}, {'invoice_id': 412, 'customer_id': 58})\n",
      "2021-12-07 15:05:48,852 INFO sqlalchemy.engine.base.Engine COMMIT\n"
     ]
    }
   ],
   "source": [
    "col_list = [\"invoice_id\", \"customer_id\"]\n",
    "invoice_customers = pd.read_csv(\"invoice_customers.csv\", usecols = col_list, encoding = \"ISO-8859-1\")\n",
    "#invoice_customers.head()\n",
    "\n",
    "invoice_customers.to_sql('invoice_customers',         # Table to load to\n",
    "            engine,               # Engine created above\n",
    "            schema = username,    # Schema where table lives\n",
    "            if_exists = 'append', # If table found, add data\n",
    "            index = False,        # Ignore data frame row index\n",
    "            chunksize = 50        # Load 50 records from data frame at a time\n",
    "        )"
   ]
  },
  {
   "cell_type": "code",
   "execution_count": 28,
   "metadata": {},
   "outputs": [
    {
     "name": "stdout",
     "output_type": "stream",
     "text": [
      "2021-12-07 15:05:50,807 INFO sqlalchemy.engine.base.Engine select relname from pg_class c join pg_namespace n on n.oid=c.relnamespace where n.nspname=%(schema)s and relname=%(name)s\n",
      "2021-12-07 15:05:50,808 INFO sqlalchemy.engine.base.Engine {'schema': 'jch5x8', 'name': 'invoice_tracks'}\n",
      "2021-12-07 15:05:50,812 INFO sqlalchemy.engine.base.Engine BEGIN (implicit)\n",
      "2021-12-07 15:05:50,814 INFO sqlalchemy.engine.base.Engine INSERT INTO jch5x8.invoice_tracks (it_id, invoice_id, track_id, unit_price) VALUES (%(it_id)s, %(invoice_id)s, %(track_id)s, %(unit_price)s)\n",
      "2021-12-07 15:05:50,814 INFO sqlalchemy.engine.base.Engine ({'it_id': 1, 'invoice_id': 1, 'track_id': 2, 'unit_price': 0.99}, {'it_id': 2, 'invoice_id': 1, 'track_id': 4, 'unit_price': 0.99}, {'it_id': 3, 'invoice_id': 2, 'track_id': 6, 'unit_price': 0.99}, {'it_id': 4, 'invoice_id': 2, 'track_id': 8, 'unit_price': 0.99}, {'it_id': 5, 'invoice_id': 2, 'track_id': 10, 'unit_price': 0.99}, {'it_id': 6, 'invoice_id': 2, 'track_id': 12, 'unit_price': 0.99}, {'it_id': 7, 'invoice_id': 3, 'track_id': 16, 'unit_price': 0.99}, {'it_id': 8, 'invoice_id': 3, 'track_id': 20, 'unit_price': 0.99}  ... displaying 10 of 50 total bound parameter sets ...  {'it_id': 49, 'invoice_id': 10, 'track_id': 264, 'unit_price': 0.99}, {'it_id': 50, 'invoice_id': 10, 'track_id': 268, 'unit_price': 0.99})\n",
      "2021-12-07 15:05:50,833 INFO sqlalchemy.engine.base.Engine INSERT INTO jch5x8.invoice_tracks (it_id, invoice_id, track_id, unit_price) VALUES (%(it_id)s, %(invoice_id)s, %(track_id)s, %(unit_price)s)\n",
      "2021-12-07 15:05:50,833 INFO sqlalchemy.engine.base.Engine ({'it_id': 51, 'invoice_id': 11, 'track_id': 274, 'unit_price': 0.99}, {'it_id': 52, 'invoice_id': 11, 'track_id': 280, 'unit_price': 0.99}, {'it_id': 53, 'invoice_id': 11, 'track_id': 286, 'unit_price': 0.99}, {'it_id': 54, 'invoice_id': 11, 'track_id': 292, 'unit_price': 0.99}, {'it_id': 55, 'invoice_id': 11, 'track_id': 298, 'unit_price': 0.99}, {'it_id': 56, 'invoice_id': 11, 'track_id': 304, 'unit_price': 0.99}, {'it_id': 57, 'invoice_id': 11, 'track_id': 310, 'unit_price': 0.99}, {'it_id': 58, 'invoice_id': 11, 'track_id': 316, 'unit_price': 0.99}  ... displaying 10 of 50 total bound parameter sets ...  {'it_id': 99, 'invoice_id': 19, 'track_id': 572, 'unit_price': 0.99}, {'it_id': 100, 'invoice_id': 19, 'track_id': 581, 'unit_price': 0.99})\n",
      "2021-12-07 15:05:50,844 INFO sqlalchemy.engine.base.Engine INSERT INTO jch5x8.invoice_tracks (it_id, invoice_id, track_id, unit_price) VALUES (%(it_id)s, %(invoice_id)s, %(track_id)s, %(unit_price)s)\n",
      "2021-12-07 15:05:50,845 INFO sqlalchemy.engine.base.Engine ({'it_id': 101, 'invoice_id': 19, 'track_id': 590, 'unit_price': 0.99}, {'it_id': 102, 'invoice_id': 19, 'track_id': 599, 'unit_price': 0.99}, {'it_id': 103, 'invoice_id': 19, 'track_id': 608, 'unit_price': 0.99}, {'it_id': 104, 'invoice_id': 19, 'track_id': 617, 'unit_price': 0.99}, {'it_id': 105, 'invoice_id': 19, 'track_id': 626, 'unit_price': 0.99}, {'it_id': 106, 'invoice_id': 19, 'track_id': 635, 'unit_price': 0.99}, {'it_id': 107, 'invoice_id': 19, 'track_id': 644, 'unit_price': 0.99}, {'it_id': 108, 'invoice_id': 19, 'track_id': 653, 'unit_price': 0.99}  ... displaying 10 of 50 total bound parameter sets ...  {'it_id': 149, 'invoice_id': 26, 'track_id': 912, 'unit_price': 0.99}, {'it_id': 150, 'invoice_id': 27, 'track_id': 926, 'unit_price': 0.99})\n",
      "2021-12-07 15:05:50,855 INFO sqlalchemy.engine.base.Engine INSERT INTO jch5x8.invoice_tracks (it_id, invoice_id, track_id, unit_price) VALUES (%(it_id)s, %(invoice_id)s, %(track_id)s, %(unit_price)s)\n",
      "2021-12-07 15:05:50,855 INFO sqlalchemy.engine.base.Engine ({'it_id': 151, 'invoice_id': 28, 'track_id': 927, 'unit_price': 0.99}, {'it_id': 152, 'invoice_id': 28, 'track_id': 928, 'unit_price': 0.99}, {'it_id': 153, 'invoice_id': 29, 'track_id': 930, 'unit_price': 0.99}, {'it_id': 154, 'invoice_id': 29, 'track_id': 932, 'unit_price': 0.99}, {'it_id': 155, 'invoice_id': 30, 'track_id': 934, 'unit_price': 0.99}, {'it_id': 156, 'invoice_id': 30, 'track_id': 936, 'unit_price': 0.99}, {'it_id': 157, 'invoice_id': 30, 'track_id': 938, 'unit_price': 0.99}, {'it_id': 158, 'invoice_id': 30, 'track_id': 940, 'unit_price': 0.99}  ... displaying 10 of 50 total bound parameter sets ...  {'it_id': 199, 'invoice_id': 38, 'track_id': 1184, 'unit_price': 0.99}, {'it_id': 200, 'invoice_id': 38, 'track_id': 1188, 'unit_price': 0.99})\n",
      "2021-12-07 15:05:50,866 INFO sqlalchemy.engine.base.Engine INSERT INTO jch5x8.invoice_tracks (it_id, invoice_id, track_id, unit_price) VALUES (%(it_id)s, %(invoice_id)s, %(track_id)s, %(unit_price)s)\n",
      "2021-12-07 15:05:50,867 INFO sqlalchemy.engine.base.Engine ({'it_id': 201, 'invoice_id': 38, 'track_id': 1192, 'unit_price': 0.99}, {'it_id': 202, 'invoice_id': 38, 'track_id': 1196, 'unit_price': 0.99}, {'it_id': 203, 'invoice_id': 39, 'track_id': 1202, 'unit_price': 0.99}, {'it_id': 204, 'invoice_id': 39, 'track_id': 1208, 'unit_price': 0.99}, {'it_id': 205, 'invoice_id': 39, 'track_id': 1214, 'unit_price': 0.99}, {'it_id': 206, 'invoice_id': 39, 'track_id': 1220, 'unit_price': 0.99}, {'it_id': 207, 'invoice_id': 39, 'track_id': 1226, 'unit_price': 0.99}, {'it_id': 208, 'invoice_id': 39, 'track_id': 1232, 'unit_price': 0.99}  ... displaying 10 of 50 total bound parameter sets ...  {'it_id': 249, 'invoice_id': 46, 'track_id': 1482, 'unit_price': 0.99}, {'it_id': 250, 'invoice_id': 47, 'track_id': 1491, 'unit_price': 0.99})\n",
      "2021-12-07 15:05:50,876 INFO sqlalchemy.engine.base.Engine INSERT INTO jch5x8.invoice_tracks (it_id, invoice_id, track_id, unit_price) VALUES (%(it_id)s, %(invoice_id)s, %(track_id)s, %(unit_price)s)\n",
      "2021-12-07 15:05:50,877 INFO sqlalchemy.engine.base.Engine ({'it_id': 251, 'invoice_id': 47, 'track_id': 1500, 'unit_price': 0.99}, {'it_id': 252, 'invoice_id': 47, 'track_id': 1509, 'unit_price': 0.99}, {'it_id': 253, 'invoice_id': 47, 'track_id': 1518, 'unit_price': 0.99}, {'it_id': 254, 'invoice_id': 47, 'track_id': 1527, 'unit_price': 0.99}, {'it_id': 255, 'invoice_id': 47, 'track_id': 1536, 'unit_price': 0.99}, {'it_id': 256, 'invoice_id': 47, 'track_id': 1545, 'unit_price': 0.99}, {'it_id': 257, 'invoice_id': 47, 'track_id': 1554, 'unit_price': 0.99}, {'it_id': 258, 'invoice_id': 47, 'track_id': 1563, 'unit_price': 0.99}  ... displaying 10 of 50 total bound parameter sets ...  {'it_id': 299, 'invoice_id': 54, 'track_id': 1822, 'unit_price': 0.99}, {'it_id': 300, 'invoice_id': 54, 'track_id': 1831, 'unit_price': 0.99})\n",
      "2021-12-07 15:05:50,887 INFO sqlalchemy.engine.base.Engine INSERT INTO jch5x8.invoice_tracks (it_id, invoice_id, track_id, unit_price) VALUES (%(it_id)s, %(invoice_id)s, %(track_id)s, %(unit_price)s)\n",
      "2021-12-07 15:05:50,888 INFO sqlalchemy.engine.base.Engine ({'it_id': 301, 'invoice_id': 54, 'track_id': 1840, 'unit_price': 0.99}, {'it_id': 302, 'invoice_id': 55, 'track_id': 1854, 'unit_price': 0.99}, {'it_id': 303, 'invoice_id': 56, 'track_id': 1855, 'unit_price': 0.99}, {'it_id': 304, 'invoice_id': 56, 'track_id': 1856, 'unit_price': 0.99}, {'it_id': 305, 'invoice_id': 57, 'track_id': 1858, 'unit_price': 0.99}, {'it_id': 306, 'invoice_id': 57, 'track_id': 1860, 'unit_price': 0.99}, {'it_id': 307, 'invoice_id': 58, 'track_id': 1862, 'unit_price': 0.99}, {'it_id': 308, 'invoice_id': 58, 'track_id': 1864, 'unit_price': 0.99}  ... displaying 10 of 50 total bound parameter sets ...  {'it_id': 349, 'invoice_id': 66, 'track_id': 2104, 'unit_price': 0.99}, {'it_id': 350, 'invoice_id': 66, 'track_id': 2108, 'unit_price': 0.99})\n",
      "2021-12-07 15:05:50,898 INFO sqlalchemy.engine.base.Engine INSERT INTO jch5x8.invoice_tracks (it_id, invoice_id, track_id, unit_price) VALUES (%(it_id)s, %(invoice_id)s, %(track_id)s, %(unit_price)s)\n",
      "2021-12-07 15:05:50,899 INFO sqlalchemy.engine.base.Engine ({'it_id': 351, 'invoice_id': 66, 'track_id': 2112, 'unit_price': 0.99}, {'it_id': 352, 'invoice_id': 66, 'track_id': 2116, 'unit_price': 0.99}, {'it_id': 353, 'invoice_id': 66, 'track_id': 2120, 'unit_price': 0.99}, {'it_id': 354, 'invoice_id': 66, 'track_id': 2124, 'unit_price': 0.99}, {'it_id': 355, 'invoice_id': 67, 'track_id': 2130, 'unit_price': 0.99}, {'it_id': 356, 'invoice_id': 67, 'track_id': 2136, 'unit_price': 0.99}, {'it_id': 357, 'invoice_id': 67, 'track_id': 2142, 'unit_price': 0.99}, {'it_id': 358, 'invoice_id': 67, 'track_id': 2148, 'unit_price': 0.99}  ... displaying 10 of 50 total bound parameter sets ...  {'it_id': 399, 'invoice_id': 74, 'track_id': 2398, 'unit_price': 0.99}, {'it_id': 400, 'invoice_id': 74, 'track_id': 2404, 'unit_price': 0.99})\n"
     ]
    },
    {
     "name": "stdout",
     "output_type": "stream",
     "text": [
      "2021-12-07 15:05:50,909 INFO sqlalchemy.engine.base.Engine INSERT INTO jch5x8.invoice_tracks (it_id, invoice_id, track_id, unit_price) VALUES (%(it_id)s, %(invoice_id)s, %(track_id)s, %(unit_price)s)\n",
      "2021-12-07 15:05:50,909 INFO sqlalchemy.engine.base.Engine ({'it_id': 401, 'invoice_id': 74, 'track_id': 2410, 'unit_price': 0.99}, {'it_id': 402, 'invoice_id': 75, 'track_id': 2419, 'unit_price': 0.99}, {'it_id': 403, 'invoice_id': 75, 'track_id': 2428, 'unit_price': 0.99}, {'it_id': 404, 'invoice_id': 75, 'track_id': 2437, 'unit_price': 0.99}, {'it_id': 405, 'invoice_id': 75, 'track_id': 2446, 'unit_price': 0.99}, {'it_id': 406, 'invoice_id': 75, 'track_id': 2455, 'unit_price': 0.99}, {'it_id': 407, 'invoice_id': 75, 'track_id': 2464, 'unit_price': 0.99}, {'it_id': 408, 'invoice_id': 75, 'track_id': 2473, 'unit_price': 0.99}  ... displaying 10 of 50 total bound parameter sets ...  {'it_id': 449, 'invoice_id': 82, 'track_id': 2732, 'unit_price': 0.99}, {'it_id': 450, 'invoice_id': 82, 'track_id': 2741, 'unit_price': 0.99})\n",
      "2021-12-07 15:05:50,920 INFO sqlalchemy.engine.base.Engine INSERT INTO jch5x8.invoice_tracks (it_id, invoice_id, track_id, unit_price) VALUES (%(it_id)s, %(invoice_id)s, %(track_id)s, %(unit_price)s)\n",
      "2021-12-07 15:05:50,920 INFO sqlalchemy.engine.base.Engine ({'it_id': 451, 'invoice_id': 82, 'track_id': 2750, 'unit_price': 0.99}, {'it_id': 452, 'invoice_id': 82, 'track_id': 2759, 'unit_price': 0.99}, {'it_id': 453, 'invoice_id': 82, 'track_id': 2768, 'unit_price': 0.99}, {'it_id': 454, 'invoice_id': 83, 'track_id': 2782, 'unit_price': 0.99}, {'it_id': 455, 'invoice_id': 84, 'track_id': 2783, 'unit_price': 0.99}, {'it_id': 456, 'invoice_id': 84, 'track_id': 2784, 'unit_price': 0.99}, {'it_id': 457, 'invoice_id': 85, 'track_id': 2786, 'unit_price': 0.99}, {'it_id': 458, 'invoice_id': 85, 'track_id': 2788, 'unit_price': 0.99}  ... displaying 10 of 50 total bound parameter sets ...  {'it_id': 499, 'invoice_id': 93, 'track_id': 3026, 'unit_price': 0.99}, {'it_id': 500, 'invoice_id': 93, 'track_id': 3028, 'unit_price': 0.99})\n",
      "2021-12-07 15:05:50,930 INFO sqlalchemy.engine.base.Engine INSERT INTO jch5x8.invoice_tracks (it_id, invoice_id, track_id, unit_price) VALUES (%(it_id)s, %(invoice_id)s, %(track_id)s, %(unit_price)s)\n",
      "2021-12-07 15:05:50,931 INFO sqlalchemy.engine.base.Engine ({'it_id': 501, 'invoice_id': 94, 'track_id': 3032, 'unit_price': 0.99}, {'it_id': 502, 'invoice_id': 94, 'track_id': 3036, 'unit_price': 0.99}, {'it_id': 503, 'invoice_id': 94, 'track_id': 3040, 'unit_price': 0.99}, {'it_id': 504, 'invoice_id': 94, 'track_id': 3044, 'unit_price': 0.99}, {'it_id': 505, 'invoice_id': 94, 'track_id': 3048, 'unit_price': 0.99}, {'it_id': 506, 'invoice_id': 94, 'track_id': 3052, 'unit_price': 0.99}, {'it_id': 507, 'invoice_id': 95, 'track_id': 3058, 'unit_price': 0.99}, {'it_id': 508, 'invoice_id': 95, 'track_id': 3064, 'unit_price': 0.99}  ... displaying 10 of 50 total bound parameter sets ...  {'it_id': 549, 'invoice_id': 102, 'track_id': 3314, 'unit_price': 0.99}, {'it_id': 550, 'invoice_id': 102, 'track_id': 3320, 'unit_price': 0.99})\n",
      "2021-12-07 15:05:50,941 INFO sqlalchemy.engine.base.Engine INSERT INTO jch5x8.invoice_tracks (it_id, invoice_id, track_id, unit_price) VALUES (%(it_id)s, %(invoice_id)s, %(track_id)s, %(unit_price)s)\n",
      "2021-12-07 15:05:50,941 INFO sqlalchemy.engine.base.Engine ({'it_id': 551, 'invoice_id': 102, 'track_id': 3326, 'unit_price': 0.99}, {'it_id': 552, 'invoice_id': 102, 'track_id': 3332, 'unit_price': 0.99}, {'it_id': 553, 'invoice_id': 102, 'track_id': 3338, 'unit_price': 1.99}, {'it_id': 554, 'invoice_id': 103, 'track_id': 3347, 'unit_price': 1.99}, {'it_id': 555, 'invoice_id': 103, 'track_id': 3356, 'unit_price': 0.99}, {'it_id': 556, 'invoice_id': 103, 'track_id': 3365, 'unit_price': 0.99}, {'it_id': 557, 'invoice_id': 103, 'track_id': 3374, 'unit_price': 0.99}, {'it_id': 558, 'invoice_id': 103, 'track_id': 3383, 'unit_price': 0.99}  ... displaying 10 of 50 total bound parameter sets ...  {'it_id': 599, 'invoice_id': 110, 'track_id': 139, 'unit_price': 0.99}, {'it_id': 600, 'invoice_id': 110, 'track_id': 148, 'unit_price': 0.99})\n",
      "2021-12-07 15:05:50,951 INFO sqlalchemy.engine.base.Engine INSERT INTO jch5x8.invoice_tracks (it_id, invoice_id, track_id, unit_price) VALUES (%(it_id)s, %(invoice_id)s, %(track_id)s, %(unit_price)s)\n",
      "2021-12-07 15:05:50,951 INFO sqlalchemy.engine.base.Engine ({'it_id': 601, 'invoice_id': 110, 'track_id': 157, 'unit_price': 0.99}, {'it_id': 602, 'invoice_id': 110, 'track_id': 166, 'unit_price': 0.99}, {'it_id': 603, 'invoice_id': 110, 'track_id': 175, 'unit_price': 0.99}, {'it_id': 604, 'invoice_id': 110, 'track_id': 184, 'unit_price': 0.99}, {'it_id': 605, 'invoice_id': 110, 'track_id': 193, 'unit_price': 0.99}, {'it_id': 606, 'invoice_id': 111, 'track_id': 207, 'unit_price': 0.99}, {'it_id': 607, 'invoice_id': 112, 'track_id': 208, 'unit_price': 0.99}, {'it_id': 608, 'invoice_id': 112, 'track_id': 209, 'unit_price': 0.99}  ... displaying 10 of 50 total bound parameter sets ...  {'it_id': 649, 'invoice_id': 121, 'track_id': 447, 'unit_price': 0.99}, {'it_id': 650, 'invoice_id': 121, 'track_id': 449, 'unit_price': 0.99})\n",
      "2021-12-07 15:05:50,961 INFO sqlalchemy.engine.base.Engine INSERT INTO jch5x8.invoice_tracks (it_id, invoice_id, track_id, unit_price) VALUES (%(it_id)s, %(invoice_id)s, %(track_id)s, %(unit_price)s)\n",
      "2021-12-07 15:05:50,962 INFO sqlalchemy.engine.base.Engine ({'it_id': 651, 'invoice_id': 121, 'track_id': 451, 'unit_price': 0.99}, {'it_id': 652, 'invoice_id': 121, 'track_id': 453, 'unit_price': 0.99}, {'it_id': 653, 'invoice_id': 122, 'track_id': 457, 'unit_price': 0.99}, {'it_id': 654, 'invoice_id': 122, 'track_id': 461, 'unit_price': 0.99}, {'it_id': 655, 'invoice_id': 122, 'track_id': 465, 'unit_price': 0.99}, {'it_id': 656, 'invoice_id': 122, 'track_id': 469, 'unit_price': 0.99}, {'it_id': 657, 'invoice_id': 122, 'track_id': 473, 'unit_price': 0.99}, {'it_id': 658, 'invoice_id': 122, 'track_id': 477, 'unit_price': 0.99}  ... displaying 10 of 50 total bound parameter sets ...  {'it_id': 699, 'invoice_id': 130, 'track_id': 727, 'unit_price': 0.99}, {'it_id': 700, 'invoice_id': 130, 'track_id': 733, 'unit_price': 0.99})\n",
      "2021-12-07 15:05:50,972 INFO sqlalchemy.engine.base.Engine INSERT INTO jch5x8.invoice_tracks (it_id, invoice_id, track_id, unit_price) VALUES (%(it_id)s, %(invoice_id)s, %(track_id)s, %(unit_price)s)\n",
      "2021-12-07 15:05:50,973 INFO sqlalchemy.engine.base.Engine ({'it_id': 701, 'invoice_id': 130, 'track_id': 739, 'unit_price': 0.99}, {'it_id': 702, 'invoice_id': 130, 'track_id': 745, 'unit_price': 0.99}, {'it_id': 703, 'invoice_id': 130, 'track_id': 751, 'unit_price': 0.99}, {'it_id': 704, 'invoice_id': 130, 'track_id': 757, 'unit_price': 0.99}, {'it_id': 705, 'invoice_id': 130, 'track_id': 763, 'unit_price': 0.99}, {'it_id': 706, 'invoice_id': 131, 'track_id': 772, 'unit_price': 0.99}, {'it_id': 707, 'invoice_id': 131, 'track_id': 781, 'unit_price': 0.99}, {'it_id': 708, 'invoice_id': 131, 'track_id': 790, 'unit_price': 0.99}  ... displaying 10 of 50 total bound parameter sets ...  {'it_id': 749, 'invoice_id': 138, 'track_id': 1049, 'unit_price': 0.99}, {'it_id': 750, 'invoice_id': 138, 'track_id': 1058, 'unit_price': 0.99})\n",
      "2021-12-07 15:05:50,990 INFO sqlalchemy.engine.base.Engine INSERT INTO jch5x8.invoice_tracks (it_id, invoice_id, track_id, unit_price) VALUES (%(it_id)s, %(invoice_id)s, %(track_id)s, %(unit_price)s)\n",
      "2021-12-07 15:05:50,991 INFO sqlalchemy.engine.base.Engine ({'it_id': 751, 'invoice_id': 138, 'track_id': 1067, 'unit_price': 0.99}, {'it_id': 752, 'invoice_id': 138, 'track_id': 1076, 'unit_price': 0.99}, {'it_id': 753, 'invoice_id': 138, 'track_id': 1085, 'unit_price': 0.99}, {'it_id': 754, 'invoice_id': 138, 'track_id': 1094, 'unit_price': 0.99}, {'it_id': 755, 'invoice_id': 138, 'track_id': 1103, 'unit_price': 0.99}, {'it_id': 756, 'invoice_id': 138, 'track_id': 1112, 'unit_price': 0.99}, {'it_id': 757, 'invoice_id': 138, 'track_id': 1121, 'unit_price': 0.99}, {'it_id': 758, 'invoice_id': 139, 'track_id': 1135, 'unit_price': 0.99}  ... displaying 10 of 50 total bound parameter sets ...  {'it_id': 799, 'invoice_id': 148, 'track_id': 1371, 'unit_price': 0.99}, {'it_id': 800, 'invoice_id': 148, 'track_id': 1373, 'unit_price': 0.99})\n"
     ]
    },
    {
     "name": "stdout",
     "output_type": "stream",
     "text": [
      "2021-12-07 15:05:51,004 INFO sqlalchemy.engine.base.Engine INSERT INTO jch5x8.invoice_tracks (it_id, invoice_id, track_id, unit_price) VALUES (%(it_id)s, %(invoice_id)s, %(track_id)s, %(unit_price)s)\n",
      "2021-12-07 15:05:51,005 INFO sqlalchemy.engine.base.Engine ({'it_id': 801, 'invoice_id': 149, 'track_id': 1375, 'unit_price': 0.99}, {'it_id': 802, 'invoice_id': 149, 'track_id': 1377, 'unit_price': 0.99}, {'it_id': 803, 'invoice_id': 149, 'track_id': 1379, 'unit_price': 0.99}, {'it_id': 804, 'invoice_id': 149, 'track_id': 1381, 'unit_price': 0.99}, {'it_id': 805, 'invoice_id': 150, 'track_id': 1385, 'unit_price': 0.99}, {'it_id': 806, 'invoice_id': 150, 'track_id': 1389, 'unit_price': 0.99}, {'it_id': 807, 'invoice_id': 150, 'track_id': 1393, 'unit_price': 0.99}, {'it_id': 808, 'invoice_id': 150, 'track_id': 1397, 'unit_price': 0.99}  ... displaying 10 of 50 total bound parameter sets ...  {'it_id': 849, 'invoice_id': 158, 'track_id': 1643, 'unit_price': 0.99}, {'it_id': 850, 'invoice_id': 158, 'track_id': 1649, 'unit_price': 0.99})\n",
      "2021-12-07 15:05:51,015 INFO sqlalchemy.engine.base.Engine INSERT INTO jch5x8.invoice_tracks (it_id, invoice_id, track_id, unit_price) VALUES (%(it_id)s, %(invoice_id)s, %(track_id)s, %(unit_price)s)\n",
      "2021-12-07 15:05:51,015 INFO sqlalchemy.engine.base.Engine ({'it_id': 851, 'invoice_id': 158, 'track_id': 1655, 'unit_price': 0.99}, {'it_id': 852, 'invoice_id': 158, 'track_id': 1661, 'unit_price': 0.99}, {'it_id': 853, 'invoice_id': 158, 'track_id': 1667, 'unit_price': 0.99}, {'it_id': 854, 'invoice_id': 158, 'track_id': 1673, 'unit_price': 0.99}, {'it_id': 855, 'invoice_id': 158, 'track_id': 1679, 'unit_price': 0.99}, {'it_id': 856, 'invoice_id': 158, 'track_id': 1685, 'unit_price': 0.99}, {'it_id': 857, 'invoice_id': 158, 'track_id': 1691, 'unit_price': 0.99}, {'it_id': 858, 'invoice_id': 159, 'track_id': 1700, 'unit_price': 0.99}  ... displaying 10 of 50 total bound parameter sets ...  {'it_id': 899, 'invoice_id': 166, 'track_id': 1959, 'unit_price': 0.99}, {'it_id': 900, 'invoice_id': 166, 'track_id': 1968, 'unit_price': 0.99})\n",
      "2021-12-07 15:05:51,026 INFO sqlalchemy.engine.base.Engine INSERT INTO jch5x8.invoice_tracks (it_id, invoice_id, track_id, unit_price) VALUES (%(it_id)s, %(invoice_id)s, %(track_id)s, %(unit_price)s)\n",
      "2021-12-07 15:05:51,026 INFO sqlalchemy.engine.base.Engine ({'it_id': 901, 'invoice_id': 166, 'track_id': 1977, 'unit_price': 0.99}, {'it_id': 902, 'invoice_id': 166, 'track_id': 1986, 'unit_price': 0.99}, {'it_id': 903, 'invoice_id': 166, 'track_id': 1995, 'unit_price': 0.99}, {'it_id': 904, 'invoice_id': 166, 'track_id': 2004, 'unit_price': 0.99}, {'it_id': 905, 'invoice_id': 166, 'track_id': 2013, 'unit_price': 0.99}, {'it_id': 906, 'invoice_id': 166, 'track_id': 2022, 'unit_price': 0.99}, {'it_id': 907, 'invoice_id': 166, 'track_id': 2031, 'unit_price': 0.99}, {'it_id': 908, 'invoice_id': 166, 'track_id': 2040, 'unit_price': 0.99}  ... displaying 10 of 50 total bound parameter sets ...  {'it_id': 949, 'invoice_id': 175, 'track_id': 2296, 'unit_price': 0.99}, {'it_id': 950, 'invoice_id': 175, 'track_id': 2297, 'unit_price': 0.99})\n",
      "2021-12-07 15:05:51,042 INFO sqlalchemy.engine.base.Engine INSERT INTO jch5x8.invoice_tracks (it_id, invoice_id, track_id, unit_price) VALUES (%(it_id)s, %(invoice_id)s, %(track_id)s, %(unit_price)s)\n",
      "2021-12-07 15:05:51,043 INFO sqlalchemy.engine.base.Engine ({'it_id': 951, 'invoice_id': 176, 'track_id': 2299, 'unit_price': 0.99}, {'it_id': 952, 'invoice_id': 176, 'track_id': 2301, 'unit_price': 0.99}, {'it_id': 953, 'invoice_id': 177, 'track_id': 2303, 'unit_price': 0.99}, {'it_id': 954, 'invoice_id': 177, 'track_id': 2305, 'unit_price': 0.99}, {'it_id': 955, 'invoice_id': 177, 'track_id': 2307, 'unit_price': 0.99}, {'it_id': 956, 'invoice_id': 177, 'track_id': 2309, 'unit_price': 0.99}, {'it_id': 957, 'invoice_id': 178, 'track_id': 2313, 'unit_price': 0.99}, {'it_id': 958, 'invoice_id': 178, 'track_id': 2317, 'unit_price': 0.99}  ... displaying 10 of 50 total bound parameter sets ...  {'it_id': 999, 'invoice_id': 185, 'track_id': 2561, 'unit_price': 0.99}, {'it_id': 1000, 'invoice_id': 185, 'track_id': 2565, 'unit_price': 0.99})\n",
      "2021-12-07 15:05:51,056 INFO sqlalchemy.engine.base.Engine INSERT INTO jch5x8.invoice_tracks (it_id, invoice_id, track_id, unit_price) VALUES (%(it_id)s, %(invoice_id)s, %(track_id)s, %(unit_price)s)\n",
      "2021-12-07 15:05:51,057 INFO sqlalchemy.engine.base.Engine ({'it_id': 1001, 'invoice_id': 186, 'track_id': 2571, 'unit_price': 0.99}, {'it_id': 1002, 'invoice_id': 186, 'track_id': 2577, 'unit_price': 0.99}, {'it_id': 1003, 'invoice_id': 186, 'track_id': 2583, 'unit_price': 0.99}, {'it_id': 1004, 'invoice_id': 186, 'track_id': 2589, 'unit_price': 0.99}, {'it_id': 1005, 'invoice_id': 186, 'track_id': 2595, 'unit_price': 0.99}, {'it_id': 1006, 'invoice_id': 186, 'track_id': 2601, 'unit_price': 0.99}, {'it_id': 1007, 'invoice_id': 186, 'track_id': 2607, 'unit_price': 0.99}, {'it_id': 1008, 'invoice_id': 186, 'track_id': 2613, 'unit_price': 0.99}  ... displaying 10 of 50 total bound parameter sets ...  {'it_id': 1049, 'invoice_id': 194, 'track_id': 2869, 'unit_price': 1.99}, {'it_id': 1050, 'invoice_id': 194, 'track_id': 2878, 'unit_price': 1.99})\n",
      "2021-12-07 15:05:51,067 INFO sqlalchemy.engine.base.Engine INSERT INTO jch5x8.invoice_tracks (it_id, invoice_id, track_id, unit_price) VALUES (%(it_id)s, %(invoice_id)s, %(track_id)s, %(unit_price)s)\n",
      "2021-12-07 15:05:51,068 INFO sqlalchemy.engine.base.Engine ({'it_id': 1051, 'invoice_id': 194, 'track_id': 2887, 'unit_price': 1.99}, {'it_id': 1052, 'invoice_id': 194, 'track_id': 2896, 'unit_price': 1.99}, {'it_id': 1053, 'invoice_id': 194, 'track_id': 2905, 'unit_price': 1.99}, {'it_id': 1054, 'invoice_id': 194, 'track_id': 2914, 'unit_price': 1.99}, {'it_id': 1055, 'invoice_id': 194, 'track_id': 2923, 'unit_price': 1.99}, {'it_id': 1056, 'invoice_id': 194, 'track_id': 2932, 'unit_price': 0.99}, {'it_id': 1057, 'invoice_id': 194, 'track_id': 2941, 'unit_price': 0.99}, {'it_id': 1058, 'invoice_id': 194, 'track_id': 2950, 'unit_price': 0.99}  ... displaying 10 of 50 total bound parameter sets ...  {'it_id': 1099, 'invoice_id': 201, 'track_id': 3209, 'unit_price': 1.99}, {'it_id': 1100, 'invoice_id': 202, 'track_id': 3223, 'unit_price': 1.99})\n",
      "2021-12-07 15:05:51,085 INFO sqlalchemy.engine.base.Engine INSERT INTO jch5x8.invoice_tracks (it_id, invoice_id, track_id, unit_price) VALUES (%(it_id)s, %(invoice_id)s, %(track_id)s, %(unit_price)s)\n",
      "2021-12-07 15:05:51,085 INFO sqlalchemy.engine.base.Engine ({'it_id': 1101, 'invoice_id': 203, 'track_id': 3224, 'unit_price': 1.99}, {'it_id': 1102, 'invoice_id': 203, 'track_id': 3225, 'unit_price': 0.99}, {'it_id': 1103, 'invoice_id': 204, 'track_id': 3227, 'unit_price': 1.99}, {'it_id': 1104, 'invoice_id': 204, 'track_id': 3229, 'unit_price': 1.99}, {'it_id': 1105, 'invoice_id': 205, 'track_id': 3231, 'unit_price': 1.99}, {'it_id': 1106, 'invoice_id': 205, 'track_id': 3233, 'unit_price': 1.99}, {'it_id': 1107, 'invoice_id': 205, 'track_id': 3235, 'unit_price': 1.99}, {'it_id': 1108, 'invoice_id': 205, 'track_id': 3237, 'unit_price': 1.99}  ... displaying 10 of 50 total bound parameter sets ...  {'it_id': 1149, 'invoice_id': 213, 'track_id': 3481, 'unit_price': 0.99}, {'it_id': 1150, 'invoice_id': 213, 'track_id': 3485, 'unit_price': 0.99})\n",
      "2021-12-07 15:05:51,096 INFO sqlalchemy.engine.base.Engine INSERT INTO jch5x8.invoice_tracks (it_id, invoice_id, track_id, unit_price) VALUES (%(it_id)s, %(invoice_id)s, %(track_id)s, %(unit_price)s)\n",
      "2021-12-07 15:05:51,097 INFO sqlalchemy.engine.base.Engine ({'it_id': 1151, 'invoice_id': 213, 'track_id': 3489, 'unit_price': 0.99}, {'it_id': 1152, 'invoice_id': 213, 'track_id': 3493, 'unit_price': 0.99}, {'it_id': 1153, 'invoice_id': 214, 'track_id': 3499, 'unit_price': 0.99}, {'it_id': 1154, 'invoice_id': 214, 'track_id': 2, 'unit_price': 0.99}, {'it_id': 1155, 'invoice_id': 214, 'track_id': 8, 'unit_price': 0.99}, {'it_id': 1156, 'invoice_id': 214, 'track_id': 14, 'unit_price': 0.99}, {'it_id': 1157, 'invoice_id': 214, 'track_id': 20, 'unit_price': 0.99}, {'it_id': 1158, 'invoice_id': 214, 'track_id': 26, 'unit_price': 0.99}  ... displaying 10 of 50 total bound parameter sets ...  {'it_id': 1199, 'invoice_id': 221, 'track_id': 276, 'unit_price': 0.99}, {'it_id': 1200, 'invoice_id': 222, 'track_id': 285, 'unit_price': 0.99})\n"
     ]
    },
    {
     "name": "stdout",
     "output_type": "stream",
     "text": [
      "2021-12-07 15:05:51,107 INFO sqlalchemy.engine.base.Engine INSERT INTO jch5x8.invoice_tracks (it_id, invoice_id, track_id, unit_price) VALUES (%(it_id)s, %(invoice_id)s, %(track_id)s, %(unit_price)s)\n",
      "2021-12-07 15:05:51,108 INFO sqlalchemy.engine.base.Engine ({'it_id': 1201, 'invoice_id': 222, 'track_id': 294, 'unit_price': 0.99}, {'it_id': 1202, 'invoice_id': 222, 'track_id': 303, 'unit_price': 0.99}, {'it_id': 1203, 'invoice_id': 222, 'track_id': 312, 'unit_price': 0.99}, {'it_id': 1204, 'invoice_id': 222, 'track_id': 321, 'unit_price': 0.99}, {'it_id': 1205, 'invoice_id': 222, 'track_id': 330, 'unit_price': 0.99}, {'it_id': 1206, 'invoice_id': 222, 'track_id': 339, 'unit_price': 0.99}, {'it_id': 1207, 'invoice_id': 222, 'track_id': 348, 'unit_price': 0.99}, {'it_id': 1208, 'invoice_id': 222, 'track_id': 357, 'unit_price': 0.99}  ... displaying 10 of 50 total bound parameter sets ...  {'it_id': 1249, 'invoice_id': 229, 'track_id': 616, 'unit_price': 0.99}, {'it_id': 1250, 'invoice_id': 229, 'track_id': 625, 'unit_price': 0.99})\n",
      "2021-12-07 15:05:51,135 INFO sqlalchemy.engine.base.Engine INSERT INTO jch5x8.invoice_tracks (it_id, invoice_id, track_id, unit_price) VALUES (%(it_id)s, %(invoice_id)s, %(track_id)s, %(unit_price)s)\n",
      "2021-12-07 15:05:51,136 INFO sqlalchemy.engine.base.Engine ({'it_id': 1251, 'invoice_id': 229, 'track_id': 634, 'unit_price': 0.99}, {'it_id': 1252, 'invoice_id': 230, 'track_id': 648, 'unit_price': 0.99}, {'it_id': 1253, 'invoice_id': 231, 'track_id': 649, 'unit_price': 0.99}, {'it_id': 1254, 'invoice_id': 231, 'track_id': 650, 'unit_price': 0.99}, {'it_id': 1255, 'invoice_id': 232, 'track_id': 652, 'unit_price': 0.99}, {'it_id': 1256, 'invoice_id': 232, 'track_id': 654, 'unit_price': 0.99}, {'it_id': 1257, 'invoice_id': 233, 'track_id': 656, 'unit_price': 0.99}, {'it_id': 1258, 'invoice_id': 233, 'track_id': 658, 'unit_price': 0.99}  ... displaying 10 of 50 total bound parameter sets ...  {'it_id': 1299, 'invoice_id': 241, 'track_id': 898, 'unit_price': 0.99}, {'it_id': 1300, 'invoice_id': 241, 'track_id': 902, 'unit_price': 0.99})\n",
      "2021-12-07 15:05:51,147 INFO sqlalchemy.engine.base.Engine INSERT INTO jch5x8.invoice_tracks (it_id, invoice_id, track_id, unit_price) VALUES (%(it_id)s, %(invoice_id)s, %(track_id)s, %(unit_price)s)\n",
      "2021-12-07 15:05:51,147 INFO sqlalchemy.engine.base.Engine ({'it_id': 1301, 'invoice_id': 241, 'track_id': 906, 'unit_price': 0.99}, {'it_id': 1302, 'invoice_id': 241, 'track_id': 910, 'unit_price': 0.99}, {'it_id': 1303, 'invoice_id': 241, 'track_id': 914, 'unit_price': 0.99}, {'it_id': 1304, 'invoice_id': 241, 'track_id': 918, 'unit_price': 0.99}, {'it_id': 1305, 'invoice_id': 242, 'track_id': 924, 'unit_price': 0.99}, {'it_id': 1306, 'invoice_id': 242, 'track_id': 930, 'unit_price': 0.99}, {'it_id': 1307, 'invoice_id': 242, 'track_id': 936, 'unit_price': 0.99}, {'it_id': 1308, 'invoice_id': 242, 'track_id': 942, 'unit_price': 0.99}  ... displaying 10 of 50 total bound parameter sets ...  {'it_id': 1349, 'invoice_id': 249, 'track_id': 1192, 'unit_price': 0.99}, {'it_id': 1350, 'invoice_id': 249, 'track_id': 1198, 'unit_price': 0.99})\n",
      "2021-12-07 15:05:51,157 INFO sqlalchemy.engine.base.Engine INSERT INTO jch5x8.invoice_tracks (it_id, invoice_id, track_id, unit_price) VALUES (%(it_id)s, %(invoice_id)s, %(track_id)s, %(unit_price)s)\n",
      "2021-12-07 15:05:51,158 INFO sqlalchemy.engine.base.Engine ({'it_id': 1351, 'invoice_id': 249, 'track_id': 1204, 'unit_price': 0.99}, {'it_id': 1352, 'invoice_id': 250, 'track_id': 1213, 'unit_price': 0.99}, {'it_id': 1353, 'invoice_id': 250, 'track_id': 1222, 'unit_price': 0.99}, {'it_id': 1354, 'invoice_id': 250, 'track_id': 1231, 'unit_price': 0.99}, {'it_id': 1355, 'invoice_id': 250, 'track_id': 1240, 'unit_price': 0.99}, {'it_id': 1356, 'invoice_id': 250, 'track_id': 1249, 'unit_price': 0.99}, {'it_id': 1357, 'invoice_id': 250, 'track_id': 1258, 'unit_price': 0.99}, {'it_id': 1358, 'invoice_id': 250, 'track_id': 1267, 'unit_price': 0.99}  ... displaying 10 of 50 total bound parameter sets ...  {'it_id': 1399, 'invoice_id': 257, 'track_id': 1526, 'unit_price': 0.99}, {'it_id': 1400, 'invoice_id': 257, 'track_id': 1535, 'unit_price': 0.99})\n",
      "2021-12-07 15:05:51,168 INFO sqlalchemy.engine.base.Engine INSERT INTO jch5x8.invoice_tracks (it_id, invoice_id, track_id, unit_price) VALUES (%(it_id)s, %(invoice_id)s, %(track_id)s, %(unit_price)s)\n",
      "2021-12-07 15:05:51,169 INFO sqlalchemy.engine.base.Engine ({'it_id': 1401, 'invoice_id': 257, 'track_id': 1544, 'unit_price': 0.99}, {'it_id': 1402, 'invoice_id': 257, 'track_id': 1553, 'unit_price': 0.99}, {'it_id': 1403, 'invoice_id': 257, 'track_id': 1562, 'unit_price': 0.99}, {'it_id': 1404, 'invoice_id': 258, 'track_id': 1576, 'unit_price': 0.99}, {'it_id': 1405, 'invoice_id': 259, 'track_id': 1577, 'unit_price': 0.99}, {'it_id': 1406, 'invoice_id': 259, 'track_id': 1578, 'unit_price': 0.99}, {'it_id': 1407, 'invoice_id': 260, 'track_id': 1580, 'unit_price': 0.99}, {'it_id': 1408, 'invoice_id': 260, 'track_id': 1582, 'unit_price': 0.99}  ... displaying 10 of 50 total bound parameter sets ...  {'it_id': 1449, 'invoice_id': 268, 'track_id': 1820, 'unit_price': 0.99}, {'it_id': 1450, 'invoice_id': 268, 'track_id': 1822, 'unit_price': 0.99})\n",
      "2021-12-07 15:05:51,180 INFO sqlalchemy.engine.base.Engine INSERT INTO jch5x8.invoice_tracks (it_id, invoice_id, track_id, unit_price) VALUES (%(it_id)s, %(invoice_id)s, %(track_id)s, %(unit_price)s)\n",
      "2021-12-07 15:05:51,181 INFO sqlalchemy.engine.base.Engine ({'it_id': 1451, 'invoice_id': 269, 'track_id': 1826, 'unit_price': 0.99}, {'it_id': 1452, 'invoice_id': 269, 'track_id': 1830, 'unit_price': 0.99}, {'it_id': 1453, 'invoice_id': 269, 'track_id': 1834, 'unit_price': 0.99}, {'it_id': 1454, 'invoice_id': 269, 'track_id': 1838, 'unit_price': 0.99}, {'it_id': 1455, 'invoice_id': 269, 'track_id': 1842, 'unit_price': 0.99}, {'it_id': 1456, 'invoice_id': 269, 'track_id': 1846, 'unit_price': 0.99}, {'it_id': 1457, 'invoice_id': 270, 'track_id': 1852, 'unit_price': 0.99}, {'it_id': 1458, 'invoice_id': 270, 'track_id': 1858, 'unit_price': 0.99}  ... displaying 10 of 50 total bound parameter sets ...  {'it_id': 1499, 'invoice_id': 277, 'track_id': 2108, 'unit_price': 0.99}, {'it_id': 1500, 'invoice_id': 277, 'track_id': 2114, 'unit_price': 0.99})\n",
      "2021-12-07 15:05:51,192 INFO sqlalchemy.engine.base.Engine INSERT INTO jch5x8.invoice_tracks (it_id, invoice_id, track_id, unit_price) VALUES (%(it_id)s, %(invoice_id)s, %(track_id)s, %(unit_price)s)\n",
      "2021-12-07 15:05:51,192 INFO sqlalchemy.engine.base.Engine ({'it_id': 1501, 'invoice_id': 277, 'track_id': 2120, 'unit_price': 0.99}, {'it_id': 1502, 'invoice_id': 277, 'track_id': 2126, 'unit_price': 0.99}, {'it_id': 1503, 'invoice_id': 277, 'track_id': 2132, 'unit_price': 0.99}, {'it_id': 1504, 'invoice_id': 278, 'track_id': 2141, 'unit_price': 0.99}, {'it_id': 1505, 'invoice_id': 278, 'track_id': 2150, 'unit_price': 0.99}, {'it_id': 1506, 'invoice_id': 278, 'track_id': 2159, 'unit_price': 0.99}, {'it_id': 1507, 'invoice_id': 278, 'track_id': 2168, 'unit_price': 0.99}, {'it_id': 1508, 'invoice_id': 278, 'track_id': 2177, 'unit_price': 0.99}  ... displaying 10 of 50 total bound parameter sets ...  {'it_id': 1549, 'invoice_id': 285, 'track_id': 2436, 'unit_price': 0.99}, {'it_id': 1550, 'invoice_id': 285, 'track_id': 2445, 'unit_price': 0.99})\n",
      "2021-12-07 15:05:51,203 INFO sqlalchemy.engine.base.Engine INSERT INTO jch5x8.invoice_tracks (it_id, invoice_id, track_id, unit_price) VALUES (%(it_id)s, %(invoice_id)s, %(track_id)s, %(unit_price)s)\n",
      "2021-12-07 15:05:51,204 INFO sqlalchemy.engine.base.Engine ({'it_id': 1551, 'invoice_id': 285, 'track_id': 2454, 'unit_price': 0.99}, {'it_id': 1552, 'invoice_id': 285, 'track_id': 2463, 'unit_price': 0.99}, {'it_id': 1553, 'invoice_id': 285, 'track_id': 2472, 'unit_price': 0.99}, {'it_id': 1554, 'invoice_id': 285, 'track_id': 2481, 'unit_price': 0.99}, {'it_id': 1555, 'invoice_id': 285, 'track_id': 2490, 'unit_price': 0.99}, {'it_id': 1556, 'invoice_id': 286, 'track_id': 2504, 'unit_price': 0.99}, {'it_id': 1557, 'invoice_id': 287, 'track_id': 2505, 'unit_price': 0.99}, {'it_id': 1558, 'invoice_id': 287, 'track_id': 2506, 'unit_price': 0.99}  ... displaying 10 of 50 total bound parameter sets ...  {'it_id': 1599, 'invoice_id': 296, 'track_id': 2744, 'unit_price': 0.99}, {'it_id': 1600, 'invoice_id': 296, 'track_id': 2746, 'unit_price': 0.99})\n"
     ]
    },
    {
     "name": "stdout",
     "output_type": "stream",
     "text": [
      "2021-12-07 15:05:51,214 INFO sqlalchemy.engine.base.Engine INSERT INTO jch5x8.invoice_tracks (it_id, invoice_id, track_id, unit_price) VALUES (%(it_id)s, %(invoice_id)s, %(track_id)s, %(unit_price)s)\n",
      "2021-12-07 15:05:51,214 INFO sqlalchemy.engine.base.Engine ({'it_id': 1601, 'invoice_id': 296, 'track_id': 2748, 'unit_price': 0.99}, {'it_id': 1602, 'invoice_id': 296, 'track_id': 2750, 'unit_price': 0.99}, {'it_id': 1603, 'invoice_id': 297, 'track_id': 2754, 'unit_price': 0.99}, {'it_id': 1604, 'invoice_id': 297, 'track_id': 2758, 'unit_price': 0.99}, {'it_id': 1605, 'invoice_id': 297, 'track_id': 2762, 'unit_price': 0.99}, {'it_id': 1606, 'invoice_id': 297, 'track_id': 2766, 'unit_price': 0.99}, {'it_id': 1607, 'invoice_id': 297, 'track_id': 2770, 'unit_price': 0.99}, {'it_id': 1608, 'invoice_id': 297, 'track_id': 2774, 'unit_price': 0.99}  ... displaying 10 of 50 total bound parameter sets ...  {'it_id': 1649, 'invoice_id': 305, 'track_id': 3024, 'unit_price': 0.99}, {'it_id': 1650, 'invoice_id': 305, 'track_id': 3030, 'unit_price': 0.99})\n",
      "2021-12-07 15:05:51,224 INFO sqlalchemy.engine.base.Engine INSERT INTO jch5x8.invoice_tracks (it_id, invoice_id, track_id, unit_price) VALUES (%(it_id)s, %(invoice_id)s, %(track_id)s, %(unit_price)s)\n",
      "2021-12-07 15:05:51,225 INFO sqlalchemy.engine.base.Engine ({'it_id': 1651, 'invoice_id': 305, 'track_id': 3036, 'unit_price': 0.99}, {'it_id': 1652, 'invoice_id': 305, 'track_id': 3042, 'unit_price': 0.99}, {'it_id': 1653, 'invoice_id': 305, 'track_id': 3048, 'unit_price': 0.99}, {'it_id': 1654, 'invoice_id': 305, 'track_id': 3054, 'unit_price': 0.99}, {'it_id': 1655, 'invoice_id': 305, 'track_id': 3060, 'unit_price': 0.99}, {'it_id': 1656, 'invoice_id': 306, 'track_id': 3069, 'unit_price': 0.99}, {'it_id': 1657, 'invoice_id': 306, 'track_id': 3078, 'unit_price': 0.99}, {'it_id': 1658, 'invoice_id': 306, 'track_id': 3087, 'unit_price': 0.99}  ... displaying 10 of 50 total bound parameter sets ...  {'it_id': 1699, 'invoice_id': 313, 'track_id': 3346, 'unit_price': 1.99}, {'it_id': 1700, 'invoice_id': 313, 'track_id': 3355, 'unit_price': 0.99})\n",
      "2021-12-07 15:05:51,236 INFO sqlalchemy.engine.base.Engine INSERT INTO jch5x8.invoice_tracks (it_id, invoice_id, track_id, unit_price) VALUES (%(it_id)s, %(invoice_id)s, %(track_id)s, %(unit_price)s)\n",
      "2021-12-07 15:05:51,236 INFO sqlalchemy.engine.base.Engine ({'it_id': 1701, 'invoice_id': 313, 'track_id': 3364, 'unit_price': 1.99}, {'it_id': 1702, 'invoice_id': 313, 'track_id': 3373, 'unit_price': 0.99}, {'it_id': 1703, 'invoice_id': 313, 'track_id': 3382, 'unit_price': 0.99}, {'it_id': 1704, 'invoice_id': 313, 'track_id': 3391, 'unit_price': 0.99}, {'it_id': 1705, 'invoice_id': 313, 'track_id': 3400, 'unit_price': 0.99}, {'it_id': 1706, 'invoice_id': 313, 'track_id': 3409, 'unit_price': 0.99}, {'it_id': 1707, 'invoice_id': 313, 'track_id': 3418, 'unit_price': 0.99}, {'it_id': 1708, 'invoice_id': 314, 'track_id': 3432, 'unit_price': 0.99}  ... displaying 10 of 50 total bound parameter sets ...  {'it_id': 1749, 'invoice_id': 323, 'track_id': 165, 'unit_price': 0.99}, {'it_id': 1750, 'invoice_id': 323, 'track_id': 167, 'unit_price': 0.99})\n",
      "2021-12-07 15:05:51,246 INFO sqlalchemy.engine.base.Engine INSERT INTO jch5x8.invoice_tracks (it_id, invoice_id, track_id, unit_price) VALUES (%(it_id)s, %(invoice_id)s, %(track_id)s, %(unit_price)s)\n",
      "2021-12-07 15:05:51,247 INFO sqlalchemy.engine.base.Engine ({'it_id': 1751, 'invoice_id': 324, 'track_id': 169, 'unit_price': 0.99}, {'it_id': 1752, 'invoice_id': 324, 'track_id': 171, 'unit_price': 0.99}, {'it_id': 1753, 'invoice_id': 324, 'track_id': 173, 'unit_price': 0.99}, {'it_id': 1754, 'invoice_id': 324, 'track_id': 175, 'unit_price': 0.99}, {'it_id': 1755, 'invoice_id': 325, 'track_id': 179, 'unit_price': 0.99}, {'it_id': 1756, 'invoice_id': 325, 'track_id': 183, 'unit_price': 0.99}, {'it_id': 1757, 'invoice_id': 325, 'track_id': 187, 'unit_price': 0.99}, {'it_id': 1758, 'invoice_id': 325, 'track_id': 191, 'unit_price': 0.99}  ... displaying 10 of 50 total bound parameter sets ...  {'it_id': 1799, 'invoice_id': 333, 'track_id': 437, 'unit_price': 0.99}, {'it_id': 1800, 'invoice_id': 333, 'track_id': 443, 'unit_price': 0.99})\n",
      "2021-12-07 15:05:51,258 INFO sqlalchemy.engine.base.Engine INSERT INTO jch5x8.invoice_tracks (it_id, invoice_id, track_id, unit_price) VALUES (%(it_id)s, %(invoice_id)s, %(track_id)s, %(unit_price)s)\n",
      "2021-12-07 15:05:51,259 INFO sqlalchemy.engine.base.Engine ({'it_id': 1801, 'invoice_id': 333, 'track_id': 449, 'unit_price': 0.99}, {'it_id': 1802, 'invoice_id': 333, 'track_id': 455, 'unit_price': 0.99}, {'it_id': 1803, 'invoice_id': 333, 'track_id': 461, 'unit_price': 0.99}, {'it_id': 1804, 'invoice_id': 333, 'track_id': 467, 'unit_price': 0.99}, {'it_id': 1805, 'invoice_id': 333, 'track_id': 473, 'unit_price': 0.99}, {'it_id': 1806, 'invoice_id': 333, 'track_id': 479, 'unit_price': 0.99}, {'it_id': 1807, 'invoice_id': 333, 'track_id': 485, 'unit_price': 0.99}, {'it_id': 1808, 'invoice_id': 334, 'track_id': 494, 'unit_price': 0.99}  ... displaying 10 of 50 total bound parameter sets ...  {'it_id': 1849, 'invoice_id': 341, 'track_id': 753, 'unit_price': 0.99}, {'it_id': 1850, 'invoice_id': 341, 'track_id': 762, 'unit_price': 0.99})\n",
      "2021-12-07 15:05:51,270 INFO sqlalchemy.engine.base.Engine INSERT INTO jch5x8.invoice_tracks (it_id, invoice_id, track_id, unit_price) VALUES (%(it_id)s, %(invoice_id)s, %(track_id)s, %(unit_price)s)\n",
      "2021-12-07 15:05:51,270 INFO sqlalchemy.engine.base.Engine ({'it_id': 1851, 'invoice_id': 341, 'track_id': 771, 'unit_price': 0.99}, {'it_id': 1852, 'invoice_id': 341, 'track_id': 780, 'unit_price': 0.99}, {'it_id': 1853, 'invoice_id': 341, 'track_id': 789, 'unit_price': 0.99}, {'it_id': 1854, 'invoice_id': 341, 'track_id': 798, 'unit_price': 0.99}, {'it_id': 1855, 'invoice_id': 341, 'track_id': 807, 'unit_price': 0.99}, {'it_id': 1856, 'invoice_id': 341, 'track_id': 816, 'unit_price': 0.99}, {'it_id': 1857, 'invoice_id': 341, 'track_id': 825, 'unit_price': 0.99}, {'it_id': 1858, 'invoice_id': 341, 'track_id': 834, 'unit_price': 0.99}  ... displaying 10 of 50 total bound parameter sets ...  {'it_id': 1899, 'invoice_id': 350, 'track_id': 1090, 'unit_price': 0.99}, {'it_id': 1900, 'invoice_id': 350, 'track_id': 1091, 'unit_price': 0.99})\n",
      "2021-12-07 15:05:51,281 INFO sqlalchemy.engine.base.Engine INSERT INTO jch5x8.invoice_tracks (it_id, invoice_id, track_id, unit_price) VALUES (%(it_id)s, %(invoice_id)s, %(track_id)s, %(unit_price)s)\n",
      "2021-12-07 15:05:51,281 INFO sqlalchemy.engine.base.Engine ({'it_id': 1901, 'invoice_id': 351, 'track_id': 1093, 'unit_price': 0.99}, {'it_id': 1902, 'invoice_id': 351, 'track_id': 1095, 'unit_price': 0.99}, {'it_id': 1903, 'invoice_id': 352, 'track_id': 1097, 'unit_price': 0.99}, {'it_id': 1904, 'invoice_id': 352, 'track_id': 1099, 'unit_price': 0.99}, {'it_id': 1905, 'invoice_id': 352, 'track_id': 1101, 'unit_price': 0.99}, {'it_id': 1906, 'invoice_id': 352, 'track_id': 1103, 'unit_price': 0.99}, {'it_id': 1907, 'invoice_id': 353, 'track_id': 1107, 'unit_price': 0.99}, {'it_id': 1908, 'invoice_id': 353, 'track_id': 1111, 'unit_price': 0.99}  ... displaying 10 of 50 total bound parameter sets ...  {'it_id': 1949, 'invoice_id': 360, 'track_id': 1355, 'unit_price': 0.99}, {'it_id': 1950, 'invoice_id': 360, 'track_id': 1359, 'unit_price': 0.99})\n",
      "2021-12-07 15:05:51,292 INFO sqlalchemy.engine.base.Engine INSERT INTO jch5x8.invoice_tracks (it_id, invoice_id, track_id, unit_price) VALUES (%(it_id)s, %(invoice_id)s, %(track_id)s, %(unit_price)s)\n",
      "2021-12-07 15:05:51,292 INFO sqlalchemy.engine.base.Engine ({'it_id': 1951, 'invoice_id': 361, 'track_id': 1365, 'unit_price': 0.99}, {'it_id': 1952, 'invoice_id': 361, 'track_id': 1371, 'unit_price': 0.99}, {'it_id': 1953, 'invoice_id': 361, 'track_id': 1377, 'unit_price': 0.99}, {'it_id': 1954, 'invoice_id': 361, 'track_id': 1383, 'unit_price': 0.99}, {'it_id': 1955, 'invoice_id': 361, 'track_id': 1389, 'unit_price': 0.99}, {'it_id': 1956, 'invoice_id': 361, 'track_id': 1395, 'unit_price': 0.99}, {'it_id': 1957, 'invoice_id': 361, 'track_id': 1401, 'unit_price': 0.99}, {'it_id': 1958, 'invoice_id': 361, 'track_id': 1407, 'unit_price': 0.99}  ... displaying 10 of 50 total bound parameter sets ...  {'it_id': 1999, 'invoice_id': 369, 'track_id': 1663, 'unit_price': 0.99}, {'it_id': 2000, 'invoice_id': 369, 'track_id': 1672, 'unit_price': 0.99})\n"
     ]
    },
    {
     "name": "stdout",
     "output_type": "stream",
     "text": [
      "2021-12-07 15:05:51,302 INFO sqlalchemy.engine.base.Engine INSERT INTO jch5x8.invoice_tracks (it_id, invoice_id, track_id, unit_price) VALUES (%(it_id)s, %(invoice_id)s, %(track_id)s, %(unit_price)s)\n",
      "2021-12-07 15:05:51,303 INFO sqlalchemy.engine.base.Engine ({'it_id': 2001, 'invoice_id': 369, 'track_id': 1681, 'unit_price': 0.99}, {'it_id': 2002, 'invoice_id': 369, 'track_id': 1690, 'unit_price': 0.99}, {'it_id': 2003, 'invoice_id': 369, 'track_id': 1699, 'unit_price': 0.99}, {'it_id': 2004, 'invoice_id': 369, 'track_id': 1708, 'unit_price': 0.99}, {'it_id': 2005, 'invoice_id': 369, 'track_id': 1717, 'unit_price': 0.99}, {'it_id': 2006, 'invoice_id': 369, 'track_id': 1726, 'unit_price': 0.99}, {'it_id': 2007, 'invoice_id': 369, 'track_id': 1735, 'unit_price': 0.99}, {'it_id': 2008, 'invoice_id': 369, 'track_id': 1744, 'unit_price': 0.99}  ... displaying 10 of 50 total bound parameter sets ...  {'it_id': 2049, 'invoice_id': 376, 'track_id': 2003, 'unit_price': 0.99}, {'it_id': 2050, 'invoice_id': 377, 'track_id': 2017, 'unit_price': 0.99})\n",
      "2021-12-07 15:05:51,314 INFO sqlalchemy.engine.base.Engine INSERT INTO jch5x8.invoice_tracks (it_id, invoice_id, track_id, unit_price) VALUES (%(it_id)s, %(invoice_id)s, %(track_id)s, %(unit_price)s)\n",
      "2021-12-07 15:05:51,314 INFO sqlalchemy.engine.base.Engine ({'it_id': 2051, 'invoice_id': 378, 'track_id': 2018, 'unit_price': 0.99}, {'it_id': 2052, 'invoice_id': 378, 'track_id': 2019, 'unit_price': 0.99}, {'it_id': 2053, 'invoice_id': 379, 'track_id': 2021, 'unit_price': 0.99}, {'it_id': 2054, 'invoice_id': 379, 'track_id': 2023, 'unit_price': 0.99}, {'it_id': 2055, 'invoice_id': 380, 'track_id': 2025, 'unit_price': 0.99}, {'it_id': 2056, 'invoice_id': 380, 'track_id': 2027, 'unit_price': 0.99}, {'it_id': 2057, 'invoice_id': 380, 'track_id': 2029, 'unit_price': 0.99}, {'it_id': 2058, 'invoice_id': 380, 'track_id': 2031, 'unit_price': 0.99}  ... displaying 10 of 50 total bound parameter sets ...  {'it_id': 2099, 'invoice_id': 388, 'track_id': 2275, 'unit_price': 0.99}, {'it_id': 2100, 'invoice_id': 388, 'track_id': 2279, 'unit_price': 0.99})\n",
      "2021-12-07 15:05:51,325 INFO sqlalchemy.engine.base.Engine INSERT INTO jch5x8.invoice_tracks (it_id, invoice_id, track_id, unit_price) VALUES (%(it_id)s, %(invoice_id)s, %(track_id)s, %(unit_price)s)\n",
      "2021-12-07 15:05:51,326 INFO sqlalchemy.engine.base.Engine ({'it_id': 2101, 'invoice_id': 388, 'track_id': 2283, 'unit_price': 0.99}, {'it_id': 2102, 'invoice_id': 388, 'track_id': 2287, 'unit_price': 0.99}, {'it_id': 2103, 'invoice_id': 389, 'track_id': 2293, 'unit_price': 0.99}, {'it_id': 2104, 'invoice_id': 389, 'track_id': 2299, 'unit_price': 0.99}, {'it_id': 2105, 'invoice_id': 389, 'track_id': 2305, 'unit_price': 0.99}, {'it_id': 2106, 'invoice_id': 389, 'track_id': 2311, 'unit_price': 0.99}, {'it_id': 2107, 'invoice_id': 389, 'track_id': 2317, 'unit_price': 0.99}, {'it_id': 2108, 'invoice_id': 389, 'track_id': 2323, 'unit_price': 0.99}  ... displaying 10 of 50 total bound parameter sets ...  {'it_id': 2149, 'invoice_id': 396, 'track_id': 2573, 'unit_price': 0.99}, {'it_id': 2150, 'invoice_id': 397, 'track_id': 2582, 'unit_price': 0.99})\n",
      "2021-12-07 15:05:51,337 INFO sqlalchemy.engine.base.Engine INSERT INTO jch5x8.invoice_tracks (it_id, invoice_id, track_id, unit_price) VALUES (%(it_id)s, %(invoice_id)s, %(track_id)s, %(unit_price)s)\n",
      "2021-12-07 15:05:51,338 INFO sqlalchemy.engine.base.Engine ({'it_id': 2151, 'invoice_id': 397, 'track_id': 2591, 'unit_price': 0.99}, {'it_id': 2152, 'invoice_id': 397, 'track_id': 2600, 'unit_price': 0.99}, {'it_id': 2153, 'invoice_id': 397, 'track_id': 2609, 'unit_price': 0.99}, {'it_id': 2154, 'invoice_id': 397, 'track_id': 2618, 'unit_price': 0.99}, {'it_id': 2155, 'invoice_id': 397, 'track_id': 2627, 'unit_price': 0.99}, {'it_id': 2156, 'invoice_id': 397, 'track_id': 2636, 'unit_price': 0.99}, {'it_id': 2157, 'invoice_id': 397, 'track_id': 2645, 'unit_price': 0.99}, {'it_id': 2158, 'invoice_id': 397, 'track_id': 2654, 'unit_price': 0.99}  ... displaying 10 of 50 total bound parameter sets ...  {'it_id': 2199, 'invoice_id': 404, 'track_id': 2913, 'unit_price': 1.99}, {'it_id': 2200, 'invoice_id': 404, 'track_id': 2922, 'unit_price': 1.99})\n",
      "2021-12-07 15:05:51,348 INFO sqlalchemy.engine.base.Engine INSERT INTO jch5x8.invoice_tracks (it_id, invoice_id, track_id, unit_price) VALUES (%(it_id)s, %(invoice_id)s, %(track_id)s, %(unit_price)s)\n",
      "2021-12-07 15:05:51,348 INFO sqlalchemy.engine.base.Engine ({'it_id': 2201, 'invoice_id': 404, 'track_id': 2931, 'unit_price': 0.99}, {'it_id': 2202, 'invoice_id': 405, 'track_id': 2945, 'unit_price': 0.99}, {'it_id': 2203, 'invoice_id': 406, 'track_id': 2946, 'unit_price': 0.99}, {'it_id': 2204, 'invoice_id': 406, 'track_id': 2947, 'unit_price': 0.99}, {'it_id': 2205, 'invoice_id': 407, 'track_id': 2949, 'unit_price': 0.99}, {'it_id': 2206, 'invoice_id': 407, 'track_id': 2951, 'unit_price': 0.99}, {'it_id': 2207, 'invoice_id': 408, 'track_id': 2953, 'unit_price': 0.99}, {'it_id': 2208, 'invoice_id': 408, 'track_id': 2955, 'unit_price': 0.99}  ... displaying 10 of 40 total bound parameter sets ...  {'it_id': 2239, 'invoice_id': 411, 'track_id': 3163, 'unit_price': 0.99}, {'it_id': 2240, 'invoice_id': 412, 'track_id': 3177, 'unit_price': 1.99})\n",
      "2021-12-07 15:05:51,357 INFO sqlalchemy.engine.base.Engine COMMIT\n"
     ]
    }
   ],
   "source": [
    "col_list = [\"it_id\", \"invoice_id\", \"track_id\", \"unit_price\"]\n",
    "invoice_tracks = pd.read_csv(\"invoice_tracks.csv\", usecols = col_list, encoding = \"ISO-8859-1\")\n",
    "#invoice_tracks.head()\n",
    "\n",
    "invoice_tracks.to_sql('invoice_tracks',         # Table to load to\n",
    "            engine,               # Engine created above\n",
    "            schema = username,    # Schema where table lives\n",
    "            if_exists = 'append', # If table found, add data\n",
    "            index = False,        # Ignore data frame row index\n",
    "            chunksize = 50        # Load 50 records from data frame at a time\n",
    "        )"
   ]
  },
  {
   "cell_type": "code",
   "execution_count": null,
   "metadata": {},
   "outputs": [],
   "source": [
    "# # CLI commands run\n",
    "# UPDATE contact \n",
    "# SET city_id = ci.city_id\n",
    "# FROM city ci\n",
    "# WHERE contact.city = ci.city;\n",
    "\n",
    "# UPDATE customer \n",
    "# SET contact_id = c.contact_id\n",
    "# FROM contact c\n",
    "# WHERE customer.customer_id = c.customer_id;\n",
    "\n",
    "# UPDATE track\n",
    "# SET album_id = a.album_id\n",
    "# FROM album a\n",
    "# WHERE track.track = a.track;\n",
    "\n",
    "# ALTER TABLE contact\n",
    "# DROP COLUMN city;\n",
    "\n",
    "# ALTER TABLE album\n",
    "# DROP COLUMN track;\n",
    "\n",
    "# ALTER TABLE track\n",
    "# DROP COLUMN track;"
   ]
  },
  {
   "cell_type": "markdown",
   "metadata": {
    "collapsed": true
   },
   "source": [
    "## Once Loaded\n",
    "  * Write SQL to show the `COUNT(*)` from each table loaded."
   ]
  },
  {
   "cell_type": "code",
   "execution_count": 2,
   "metadata": {},
   "outputs": [
    {
     "name": "stdout",
     "output_type": "stream",
     "text": [
      "Type password and hit enter: ········\n"
     ]
    }
   ],
   "source": [
    "database = \"dsa_student\"\n",
    "user     = \"jch5x8\"\n",
    "password = getpass.getpass(\"Type password and hit enter: \")\n",
    "\n",
    "\n",
    "#Connect to database\n",
    "connection = psycopg2.connect(database = database,\n",
    "                              user     = user,\n",
    "                              host     = 'pgsql.dsa.lan',\n",
    "                              password = password)"
   ]
  },
  {
   "cell_type": "code",
   "execution_count": 3,
   "metadata": {},
   "outputs": [
    {
     "name": "stdout",
     "output_type": "stream",
     "text": [
      "\n",
      "Rows in invoice_customers table\n",
      "(412,)\n"
     ]
    }
   ],
   "source": [
    "with connection, connection.cursor() as cursor:\n",
    "    cursor.execute(\"SELECT count(*) from jch5x8.invoice_customers\")\n",
    "    results = cursor.fetchall()\n",
    "\n",
    "for row in results:\n",
    "    print(\"\\nRows in invoice_customers table\")\n",
    "    print(row)"
   ]
  },
  {
   "cell_type": "code",
   "execution_count": 4,
   "metadata": {},
   "outputs": [
    {
     "name": "stdout",
     "output_type": "stream",
     "text": [
      "\n",
      "Rows in invoice_tracks table\n",
      "(2240,)\n"
     ]
    }
   ],
   "source": [
    "with connection, connection.cursor() as cursor:\n",
    "    cursor.execute(\"SELECT count(*) from jch5x8.invoice_tracks\")\n",
    "    results = cursor.fetchall()\n",
    "\n",
    "for row in results:\n",
    "    print(\"\\nRows in invoice_tracks table\")\n",
    "    print(row)"
   ]
  },
  {
   "cell_type": "code",
   "execution_count": 5,
   "metadata": {},
   "outputs": [
    {
     "name": "stdout",
     "output_type": "stream",
     "text": [
      "\n",
      "Rows in playlist table\n",
      "(5212,)\n"
     ]
    }
   ],
   "source": [
    "with connection, connection.cursor() as cursor:\n",
    "    cursor.execute(\"SELECT count(*) from jch5x8.playlist\")\n",
    "    results = cursor.fetchall()\n",
    "\n",
    "for row in results:\n",
    "    print(\"\\nRows in playlist table\")\n",
    "    print(row)"
   ]
  },
  {
   "cell_type": "code",
   "execution_count": 6,
   "metadata": {},
   "outputs": [
    {
     "name": "stdout",
     "output_type": "stream",
     "text": [
      "\n",
      "Rows in track table\n",
      "(3503,)\n"
     ]
    }
   ],
   "source": [
    "with connection, connection.cursor() as cursor:\n",
    "    cursor.execute(\"SELECT count(*) from jch5x8.track\")\n",
    "    results = cursor.fetchall()\n",
    "\n",
    "for row in results:\n",
    "    print(\"\\nRows in track table\")\n",
    "    print(row)"
   ]
  },
  {
   "cell_type": "code",
   "execution_count": 7,
   "metadata": {},
   "outputs": [
    {
     "name": "stdout",
     "output_type": "stream",
     "text": [
      "\n",
      "Rows in album table\n",
      "(360,)\n"
     ]
    }
   ],
   "source": [
    "with connection, connection.cursor() as cursor:\n",
    "    cursor.execute(\"SELECT count(*) from jch5x8.album\")\n",
    "    results = cursor.fetchall()\n",
    "\n",
    "for row in results:\n",
    "    print(\"\\nRows in album table\")\n",
    "    print(row)"
   ]
  },
  {
   "cell_type": "code",
   "execution_count": 8,
   "metadata": {},
   "outputs": [
    {
     "name": "stdout",
     "output_type": "stream",
     "text": [
      "\n",
      "Rows in customer table\n",
      "(59,)\n"
     ]
    }
   ],
   "source": [
    "with connection, connection.cursor() as cursor:\n",
    "    cursor.execute(\"SELECT count(*) from jch5x8.customer\")\n",
    "    results = cursor.fetchall()\n",
    "\n",
    "for row in results:\n",
    "    print(\"\\nRows in customer table\")\n",
    "    print(row)"
   ]
  },
  {
   "cell_type": "code",
   "execution_count": 9,
   "metadata": {},
   "outputs": [
    {
     "name": "stdout",
     "output_type": "stream",
     "text": [
      "\n",
      "Rows in contact table\n",
      "(59,)\n"
     ]
    }
   ],
   "source": [
    "with connection, connection.cursor() as cursor:\n",
    "    cursor.execute(\"SELECT count(*) from jch5x8.contact\")\n",
    "    results = cursor.fetchall()\n",
    "\n",
    "for row in results:\n",
    "    print(\"\\nRows in contact table\")\n",
    "    print(row)"
   ]
  },
  {
   "cell_type": "code",
   "execution_count": 10,
   "metadata": {},
   "outputs": [
    {
     "name": "stdout",
     "output_type": "stream",
     "text": [
      "\n",
      "Rows in city table\n",
      "(59,)\n"
     ]
    }
   ],
   "source": [
    "with connection, connection.cursor() as cursor:\n",
    "    cursor.execute(\"SELECT count(*) from jch5x8.city\")\n",
    "    results = cursor.fetchall()\n",
    "\n",
    "for row in results:\n",
    "    print(\"\\nRows in city table\")\n",
    "    print(row)"
   ]
  },
  {
   "cell_type": "markdown",
   "metadata": {},
   "source": [
    "#  Write some basic queries.\n",
    "\n",
    "\n",
    "## List each artist and the average bytes per song."
   ]
  },
  {
   "cell_type": "code",
   "execution_count": 11,
   "metadata": {},
   "outputs": [
    {
     "name": "stdout",
     "output_type": "stream",
     "text": [
      "\n",
      "Artist, Avg. Bytes per Song\n",
      "('Frank Zappa & Captain Beefheart', 8943950.0)\n",
      "('Aaron Goldberg', 4292030.0)\n",
      "('Legião Urbana', 8648140.0)\n",
      "('Eric Clapton', 8612560.0)\n",
      "('Incognito', 11320600.0)\n",
      "('Chico Buarque', 7663620.0)\n",
      "('Yehudi Menuhin', 9785350.0)\n",
      "('System Of A Down', 6490990.0)\n",
      "('English Concert & Trevor Pinnock', 3316060.0)\n",
      "('Alberto Turco & Nova Schola Gregoriana', 4123530.0)\n",
      "('Edo de Waart & San Francisco Symphony', 4310900.0)\n",
      "('Planet Hemp', 6119340.0)\n",
      "('O Rappa', 10423100.0)\n",
      "('Philip Glass Ensemble', 3305160.0)\n",
      "('R.E.M.', 8042410.0)\n",
      "(\"Paul D'Ianno\", 6139650.0)\n",
      "('Gene Krupa', 6881200.0)\n",
      "('Miles Davis', 10571300.0)\n",
      "('Lenny Kravitz', 17516700.0)\n",
      "('Os Paralamas Do Sucesso', 7259340.0)\n",
      "('Mônica Marianno', 7213820.0)\n",
      "('The Black Crowes', 10810500.0)\n",
      "('Marisa Monte', 6311530.0)\n",
      "('Chico Science & Nação Zumbi', 6693050.0)\n",
      "('Itzhak Perlman', 4371530.0)\n",
      "('The Police', 8426760.0)\n",
      "('Cássia Eller', 7381100.0)\n",
      "('Emanuel Ax, Eugene Ormandy & Philadelphia Orchestra', 9160080.0)\n",
      "('Smashing Pumpkins', 23793400.0)\n",
      "('JET', 7405150.0)\n",
      "('Funk Como Le Gusta', 8623760.0)\n",
      "('The Posies', 3347230.0)\n",
      "('Boston Symphony Orchestra & Seiji Ozawa', 2630290.0)\n",
      "('Frank Sinatra', 6160520.0)\n",
      "('Black Sabbath', 8582140.0)\n",
      "('Orchestre Révolutionnaire et Romantique & John Eliot Gardiner', 6419730.0)\n",
      "('Soundgarden', 9170780.0)\n",
      "('Alanis Morissette', 8563210.0)\n",
      "('Iron Maiden', 11430800.0)\n",
      "('Gonzaguinha', 6923670.0)\n",
      "('Cidade Negra', 7940950.0)\n",
      "('Marvin Gaye', 6351400.0)\n",
      "('Nicolaus Esterhazy Sinfonia', 5817220.0)\n",
      "('Eugene Ormandy', 7292350.0)\n",
      "('Jorge Ben', 10824300.0)\n",
      "('Metallica', 11266500.0)\n",
      "('The Office', 282548000.0)\n",
      "('Pink Floyd', 8179490.0)\n",
      "(\"The King's Singers\", 1732280.0)\n",
      "('Van Halen', 7469080.0)\n",
      "('Michele Campanella', 2229620.0)\n",
      "('Men At Work', 8497400.0)\n",
      "('Gerald Moore', 4307910.0)\n",
      "('Equale Brass Ensemble, John Eliot Gardiner & Munich Monteverdi Orchestra and Choir', 2365930.0)\n",
      "('Bruce Dickinson', 10972200.0)\n",
      "('Academy of St. Martin in the Fields Chamber Ensemble & Sir Neville Marriner', 5760130.0)\n",
      "(\"Kent Nagano and Orchestre de l'Opéra de Lyon\", 6129150.0)\n",
      "('Red Hot Chili Peppers', 8170670.0)\n",
      "('Page & Plant', 9947180.0)\n",
      "('Milton Nascimento', 7557630.0)\n",
      "('Heroes', 497786000.0)\n",
      "('Cláudio Zoli', 8531020.0)\n",
      "('Amy Winehouse', 3938560.0)\n",
      "('Vinícius De Moraes', 7183980.0)\n",
      "('R.E.M. Feat. Kate Pearson', 7702950.0)\n",
      "('Chris Cornell', 3858560.0)\n",
      "('Elis Regina', 7230310.0)\n",
      "('Richard Marlow & The Choir of Trinity College, Cambridge', 8285940.0)\n",
      "('Queen', 7566210.0)\n",
      "('Jamiroquai', 11062100.0)\n",
      "('Lulu Santos', 7682450.0)\n",
      "('Habib Koité and Bamada', 4735650.0)\n",
      "('Les Arts Florissants & William Christie', 1973560.0)\n",
      "('Aquaman', 492670000.0)\n",
      "('Luciana Souza/Romero Lubambo', 2775070.0)\n",
      "('Gilberto Gil', 8059670.0)\n",
      "('Berliner Philharmoniker & Hans Rosbaud', 5908460.0)\n",
      "('Battlestar Galactica (Classic)', 536359000.0)\n",
      "('Rush', 10672800.0)\n",
      "('Chicago Symphony Orchestra & Fritz Reiner', 8916310.0)\n",
      "('Barry Wordsworth & BBC Concert Orchestra', 4124710.0)\n",
      "('Godsmack', 7696760.0)\n",
      "(\"Guns N' Roses\", 6775120.0)\n",
      "('Skank', 8510140.0)\n",
      "('Emerson String Quartet', 2283130.0)\n",
      "('BackBeat', 3125530.0)\n",
      "('Royal Philharmonic Orchestra & Sir Thomas Beecham', 10085900.0)\n",
      "('Berliner Philharmoniker & Herbert Von Karajan', 4848080.0)\n",
      "('Berliner Philharmoniker, Claudio Abbado & Sabine Meyer', 6474980.0)\n",
      "('Mötley Crüe', 8755970.0)\n",
      "('Academy of St. Martin in the Fields, John Birch, Sir Neville Marriner & Sylvia McNair', 4314850.0)\n",
      "('The Doors', 7942000.0)\n",
      "('Audioslave', 7908700.0)\n",
      "('Stone Temple Pilots', 8758400.0)\n",
      "('Sir Georg Solti & Wiener Philharmoniker', 3114210.0)\n",
      "('Terry Bozzio, Tony Levin & Steve Stevens', 19041300.0)\n",
      "('Black Label Society', 9700390.0)\n",
      "('Raimundos', 5686670.0)\n",
      "('Caetano Veloso', 7794800.0)\n",
      "('Maurizio Pollini', 6318740.0)\n",
      "('Faith No More', 25377200.0)\n",
      "('James Brown', 6970700.0)\n",
      "('Toquinho & Vinícius', 7239060.0)\n",
      "('James Levine', 4001280.0)\n",
      "('Academy of St. Martin in the Fields & Sir Neville Marriner', 3880550.0)\n",
      "('Judas Priest', 8119620.0)\n",
      "('Velvet Revolver', 8621530.0)\n",
      "('The 12 Cellists of The Berlin Philharmonic', 4781380.0)\n",
      "('Antal Doráti & London Symphony Orchestra', 6965200.0)\n",
      "('Chicago Symphony Chorus, Chicago Symphony Orchestra & Sir Georg Solti', 4498580.0)\n",
      "('Creedence Clearwater Revival', 7114660.0)\n",
      "('Aisha Duo', 4416550.0)\n",
      "('Djavan', 9226620.0)\n",
      "('London Symphony Orchestra & Sir Charles Mackerras', 5184290.0)\n",
      "('The Tea Party', 8932940.0)\n",
      "('Falamansa', 6753140.0)\n",
      "('Ed Motta', 8026810.0)\n",
      "('Ton Koopman', 2649940.0)\n",
      "('Billy Cobham', 11067700.0)\n",
      "('Chor der Wiener Staatsoper, Herbert Von Karajan & Wiener Philharmoniker', 2189000.0)\n",
      "('Yo-Yo Ma', 2315500.0)\n",
      "('Nirvana', 6694430.0)\n",
      "('Sergei Prokofiev & Yuri Temirkanov', 4195540.0)\n",
      "('Santana', 15209600.0)\n",
      "('U2', 7970710.0)\n",
      "('Martin Roscoe', 5548760.0)\n",
      "('Otto Klemperer & Philharmonia Orchestra', 10887900.0)\n",
      "('Scholars Baroque Ensemble', 9553140.0)\n",
      "('Felix Schmidt, London Symphony Orchestra & Rafael Frühbeck de Burgos', 7865480.0)\n",
      "('Aaron Copland & London Symphony Orchestra', 3211240.0)\n",
      "('The Cult', 8410300.0)\n",
      "('Motörhead', 5948120.0)\n",
      "('Marillion', 8116090.0)\n",
      "('Olodum', 7153670.0)\n",
      "('Mela Tenenbaum, Pro Musica Prague & Richard Kapp', 16454900.0)\n",
      "(\"Christopher O'Riley\", 3819540.0)\n",
      "('Scorpions', 4935220.0)\n",
      "(\"Charles Dutoit & L'Orchestre Symphonique de Montréal\", 6458500.0)\n",
      "('Temple of the Dog', 5619810.0)\n",
      "('Dennis Chambers', 12654000.0)\n",
      "('Philharmonia Orchestra & Sir Neville Marriner', 6497870.0)\n",
      "('Alice In Chains', 8793930.0)\n",
      "('Accept', 5030930.0)\n",
      "('Adrian Leaper & Doreen de Feis', 9273120.0)\n",
      "('Antônio Carlos Jobim', 7586510.0)\n",
      "('Various Artists', 8388900.0)\n",
      "('Britten Sinfonia, Ivor Bolton & Lesley Garrett', 5605650.0)\n",
      "('Spyro Gyra', 9130200.0)\n",
      "('Jimi Hendrix', 6937760.0)\n",
      "('David Coverdale', 9858950.0)\n",
      "('Julian Bream', 4744930.0)\n",
      "('Fretwork', 4211500.0)\n",
      "('Battlestar Galactica', 527533000.0)\n",
      "('Ozzy Osbourne', 7928580.0)\n",
      "('Marcos Valle', 7389340.0)\n",
      "('Gustav Mahler', 3700210.0)\n",
      "('Wilhelm Kempff', 2081900.0)\n",
      "('Foo Fighters', 8349470.0)\n",
      "('Nash Ensemble', 3665110.0)\n",
      "('Göteborgs Symfoniker & Neeme Järvi', 4834780.0)\n",
      "('Academy of St. Martin in the Fields, Sir Neville Marriner & Thurston Dart', 3847160.0)\n",
      "('Michael Tilson Thomas & San Francisco Symphony', 6846290.0)\n",
      "('Leonard Bernstein & New York Philharmonic', 9585600.0)\n",
      "('Joe Satriani', 4035720.0)\n",
      "('Kiss', 7446690.0)\n",
      "('Body Count', 6162120.0)\n",
      "('Sir Georg Solti, Sumi Jo & Wiener Philharmoniker', 2861470.0)\n",
      "('Luciano Pavarotti', 2920890.0)\n",
      "('House Of Pain', 6821030.0)\n",
      "('Tim Maia', 5986880.0)\n",
      "('Calexico', 3644790.0)\n",
      "('Apocalyptica', 11782500.0)\n",
      "('Zeca Pagodinho', 7190240.0)\n",
      "('Raul Seixas', 6664800.0)\n",
      "('Stevie Ray Vaughan & Double Trouble', 8396670.0)\n",
      "('The Clash', 7092320.0)\n",
      "('O Terço', 8213660.0)\n",
      "('Herbert Von Karajan, Mirella Freni & Wiener Philharmoniker', 4588200.0)\n",
      "('Os Mutantes', 7636410.0)\n",
      "('Roger Norrington, London Classical Players', 5987700.0)\n",
      "('The Rolling Stones', 8234740.0)\n",
      "('Hilary Hahn, Jeffrey Kahane, Los Angeles Chamber Orchestra & Margaret Batjer', 3192890.0)\n",
      "('C. Monteverdi, Nigel Rogers - Chiaroscuro; London Baroque; London Cornett & Sackbu', 1189060.0)\n",
      "('UB40', 8549260.0)\n",
      "('Buddy Guy', 7715690.0)\n",
      "('Choir Of Westminster Abbey & Simon Preston', 4244150.0)\n",
      "('Lost', 427650000.0)\n",
      "('Orchestra of The Age of Enlightenment', 5064550.0)\n",
      "('Pearl Jam', 8162750.0)\n",
      "('João Suplicy', 7335810.0)\n",
      "('Passengers', 8175680.0)\n",
      "('Karsh Kale', 5680780.0)\n",
      "('Led Zeppelin', 11413000.0)\n",
      "('Deep Purple', 11286600.0)\n",
      "('Def Leppard', 8770810.0)\n",
      "('The Who', 7314240.0)\n",
      "('Jota Quest', 8359080.0)\n",
      "('Anne-Sophie Mutter, Herbert Von Karajan & Wiener Philharmoniker', 3347810.0)\n",
      "('Aerosmith', 9509860.0)\n",
      "('Titãs', 6747160.0)\n",
      "('Green Day', 6899340.0)\n",
      "('AC/DC', 8806080.0)\n"
     ]
    }
   ],
   "source": [
    "# Create SQL query\n",
    "SQL = \"SELECT artist, AVG(bytes)::REAL AS \\\"Avg Bytes per Song\\\" \"\n",
    "SQL += \"FROM jch5x8.album a JOIN jch5x8.track t \"\n",
    "SQL += \"USING (album_id) \" \n",
    "SQL += \"GROUP BY artist;\"\n",
    "\n",
    "# Connect to db and run query\n",
    "with connection, connection.cursor() as cursor:\n",
    "    cursor.execute(SQL)\n",
    "    results = cursor.fetchall()\n",
    "\n",
    "print(\"\\nArtist, Avg. Bytes per Song\")\n",
    "# Display results\n",
    "for row in results:\n",
    "    print(row)"
   ]
  },
  {
   "cell_type": "markdown",
   "metadata": {},
   "source": [
    "## List average number of tracks per album for each artist."
   ]
  },
  {
   "cell_type": "code",
   "execution_count": 12,
   "metadata": {},
   "outputs": [
    {
     "name": "stdout",
     "output_type": "stream",
     "text": [
      "\n",
      "Artist, Avg. Tracks per Album\n",
      "('Frank Zappa & Captain Beefheart', 9.0)\n",
      "('Aaron Goldberg', 1.0)\n",
      "('Legião Urbana', 16.0)\n",
      "('Eric Clapton', 22.0)\n",
      "('Incognito', 12.0)\n",
      "('Chico Buarque', 32.0)\n",
      "('Yehudi Menuhin', 1.0)\n",
      "('System Of A Down', 11.0)\n",
      "('English Concert & Trevor Pinnock', 1.0)\n",
      "('Alberto Turco & Nova Schola Gregoriana', 1.0)\n",
      "('Edo de Waart & San Francisco Symphony', 1.0)\n",
      "('Planet Hemp', 16.0)\n",
      "('O Rappa', 17.0)\n",
      "('Philip Glass Ensemble', 1.0)\n",
      "('R.E.M.', 13.3333)\n",
      "('Gene Krupa', 22.0)\n",
      "('Miles Davis', 12.6667)\n",
      "(\"Paul D'Ianno\", 1.0)\n",
      "('Lenny Kravitz', 55.0)\n",
      "('Mônica Marianno', 11.0)\n",
      "('Os Paralamas Do Sucesso', 15.3333)\n",
      "('The Black Crowes', 9.5)\n",
      "('Chico Science & Nação Zumbi', 18.5)\n",
      "('Marisa Monte', 17.0)\n",
      "('The Police', 14.0)\n",
      "('Itzhak Perlman', 1.0)\n",
      "('Cássia Eller', 16.5)\n",
      "('Emanuel Ax, Eugene Ormandy & Philadelphia Orchestra', 1.0)\n",
      "('Smashing Pumpkins', 16.5)\n",
      "('JET', 14.0)\n",
      "('Funk Como Le Gusta', 16.0)\n",
      "('The Posies', 2.0)\n",
      "('Boston Symphony Orchestra & Seiji Ozawa', 1.0)\n",
      "('Frank Sinatra', 24.0)\n",
      "('Black Sabbath', 10.5)\n",
      "('Alanis Morissette', 14.0)\n",
      "('Soundgarden', 17.0)\n",
      "('Orchestre Révolutionnaire et Romantique & John Eliot Gardiner', 1.0)\n",
      "('Gonzaguinha', 14.0)\n",
      "('Cidade Negra', 16.5)\n",
      "('Iron Maiden', 11.25)\n",
      "('Marvin Gaye', 18.0)\n",
      "('Nicolaus Esterhazy Sinfonia', 1.0)\n",
      "('Jorge Ben', 14.0)\n",
      "('Eugene Ormandy', 1.0)\n",
      "('Metallica', 10.2)\n",
      "('The Office', 17.6667)\n",
      "('Pink Floyd', 7.0)\n",
      "(\"The King's Singers\", 2.0)\n",
      "('Van Halen', 12.5)\n",
      "('Michele Campanella', 1.0)\n",
      "('Men At Work', 11.0)\n",
      "('Bruce Dickinson', 11.0)\n",
      "('Equale Brass Ensemble, John Eliot Gardiner & Munich Monteverdi Orchestra and Choir', 1.0)\n",
      "('Gerald Moore', 1.0)\n",
      "('Academy of St. Martin in the Fields Chamber Ensemble & Sir Neville Marriner', 1.0)\n",
      "('Page & Plant', 12.0)\n",
      "(\"Kent Nagano and Orchestre de l'Opéra de Lyon\", 1.0)\n",
      "('Red Hot Chili Peppers', 15.6667)\n",
      "('Milton Nascimento', 12.5)\n",
      "('Heroes', 21.0)\n",
      "('Cláudio Zoli', 10.0)\n",
      "('Vinícius De Moraes', 15.0)\n",
      "('R.E.M. Feat. Kate Pearson', 9.0)\n",
      "('Amy Winehouse', 11.5)\n",
      "('Chris Cornell', 14.0)\n",
      "('Elis Regina', 14.0)\n",
      "('Richard Marlow & The Choir of Trinity College, Cambridge', 1.0)\n",
      "('Queen', 15.0)\n",
      "('Jamiroquai', 10.3333)\n",
      "('Lulu Santos', 14.5)\n",
      "('Habib Koité and Bamada', 2.0)\n",
      "('Les Arts Florissants & William Christie', 1.0)\n",
      "('Aquaman', 1.0)\n",
      "('Luciana Souza/Romero Lubambo', 1.0)\n",
      "('Gilberto Gil', 10.6667)\n",
      "('Berliner Philharmoniker & Hans Rosbaud', 1.0)\n",
      "('Battlestar Galactica (Classic)', 24.0)\n",
      "('Rush', 14.0)\n",
      "('Chicago Symphony Orchestra & Fritz Reiner', 1.0)\n",
      "('Barry Wordsworth & BBC Concert Orchestra', 1.0)\n",
      "('Godsmack', 11.0)\n",
      "(\"Guns N' Roses\", 14.3333)\n",
      "('Skank', 11.5)\n",
      "('Emerson String Quartet', 1.0)\n",
      "('BackBeat', 14.0)\n",
      "('Royal Philharmonic Orchestra & Sir Thomas Beecham', 1.0)\n",
      "('Berliner Philharmoniker & Herbert Von Karajan', 1.0)\n",
      "('Berliner Philharmoniker, Claudio Abbado & Sabine Meyer', 1.0)\n",
      "('Mötley Crüe', 18.0)\n",
      "('Academy of St. Martin in the Fields, John Birch, Sir Neville Marriner & Sylvia McNair', 1.0)\n",
      "('The Doors', 11.0)\n",
      "('Audioslave', 13.0)\n",
      "('Stone Temple Pilots', 12.0)\n",
      "('Terry Bozzio, Tony Levin & Steve Stevens', 7.0)\n",
      "('Sir Georg Solti & Wiener Philharmoniker', 1.0)\n",
      "('Black Label Society', 10.5)\n",
      "('Raimundos', 10.0)\n",
      "('Caetano Veloso', 12.5)\n",
      "('Maurizio Pollini', 1.0)\n",
      "('Faith No More', 14.5)\n",
      "('James Brown', 20.0)\n",
      "('Toquinho & Vinícius', 15.0)\n",
      "('Judas Priest', 16.0)\n",
      "('Academy of St. Martin in the Fields & Sir Neville Marriner', 2.0)\n",
      "('James Levine', 1.0)\n",
      "('Velvet Revolver', 12.0)\n",
      "('The 12 Cellists of The Berlin Philharmonic', 1.0)\n",
      "('Antal Doráti & London Symphony Orchestra', 1.0)\n",
      "('Chicago Symphony Chorus, Chicago Symphony Orchestra & Sir Georg Solti', 1.0)\n",
      "('Creedence Clearwater Revival', 20.0)\n",
      "('Aisha Duo', 2.0)\n",
      "('Djavan', 13.0)\n",
      "('London Symphony Orchestra & Sir Charles Mackerras', 1.0)\n",
      "('The Tea Party', 11.5)\n",
      "('Falamansa', 14.0)\n",
      "('Ed Motta', 13.0)\n",
      "('Ton Koopman', 1.0)\n",
      "('Billy Cobham', 8.0)\n",
      "('Chor der Wiener Staatsoper, Herbert Von Karajan & Wiener Philharmoniker', 1.0)\n",
      "('Yo-Yo Ma', 1.0)\n",
      "('Nirvana', 14.0)\n",
      "('Sergei Prokofiev & Yuri Temirkanov', 1.0)\n",
      "('Santana', 9.33333)\n",
      "('U2', 13.1)\n",
      "('Martin Roscoe', 1.0)\n",
      "('Otto Klemperer & Philharmonia Orchestra', 1.0)\n",
      "('Scholars Baroque Ensemble', 1.0)\n",
      "('Felix Schmidt, London Symphony Orchestra & Rafael Frühbeck de Burgos', 1.0)\n",
      "('Aaron Copland & London Symphony Orchestra', 1.0)\n",
      "('The Cult', 15.0)\n",
      "('Motörhead', 15.0)\n",
      "('Marillion', 10.0)\n",
      "('Olodum', 14.0)\n",
      "('Mela Tenenbaum, Pro Musica Prague & Richard Kapp', 1.0)\n",
      "('Scorpions', 11.0)\n",
      "(\"Christopher O'Riley\", 1.0)\n",
      "('Temple of the Dog', 10.0)\n",
      "(\"Charles Dutoit & L'Orchestre Symphonique de Montréal\", 1.0)\n",
      "('Dennis Chambers', 9.0)\n",
      "('Alice In Chains', 12.0)\n",
      "('Philharmonia Orchestra & Sir Neville Marriner', 1.0)\n",
      "('Accept', 2.0)\n",
      "('Antônio Carlos Jobim', 16.0)\n",
      "('Adrian Leaper & Doreen de Feis', 1.0)\n",
      "('Various Artists', 14.0)\n",
      "('Britten Sinfonia, Ivor Bolton & Lesley Garrett', 1.0)\n",
      "('Spyro Gyra', 13.0)\n",
      "('Jimi Hendrix', 17.0)\n",
      "('David Coverdale', 12.0)\n",
      "('Julian Bream', 1.0)\n",
      "('Fretwork', 1.0)\n",
      "('Battlestar Galactica', 10.0)\n",
      "('Ozzy Osbourne', 6.5)\n",
      "('Marcos Valle', 20.0)\n",
      "('Gustav Mahler', 1.0)\n",
      "('Wilhelm Kempff', 1.0)\n",
      "('Foo Fighters', 11.5)\n",
      "('Nash Ensemble', 1.0)\n",
      "('Göteborgs Symfoniker & Neeme Järvi', 1.0)\n",
      "('Joe Satriani', 9.0)\n",
      "('Leonard Bernstein & New York Philharmonic', 1.0)\n",
      "('Academy of St. Martin in the Fields, Sir Neville Marriner & Thurston Dart', 1.0)\n",
      "('Michael Tilson Thomas & San Francisco Symphony', 1.0)\n",
      "('Kiss', 17.5)\n",
      "('Body Count', 17.0)\n",
      "('Sir Georg Solti, Sumi Jo & Wiener Philharmoniker', 1.0)\n",
      "('Luciano Pavarotti', 1.0)\n",
      "('House Of Pain', 18.0)\n",
      "('Tim Maia', 13.0)\n",
      "('Calexico', 1.0)\n",
      "('Apocalyptica', 16.0)\n",
      "('Zeca Pagodinho', 19.0)\n",
      "('Raul Seixas', 14.0)\n",
      "('Stevie Ray Vaughan & Double Trouble', 8.0)\n",
      "('The Clash', 18.0)\n",
      "('O Terço', 16.0)\n",
      "('Herbert Von Karajan, Mirella Freni & Wiener Philharmoniker', 1.0)\n",
      "('Os Mutantes', 14.0)\n",
      "('Roger Norrington, London Classical Players', 1.0)\n",
      "('The Rolling Stones', 13.6667)\n",
      "('Hilary Hahn, Jeffrey Kahane, Los Angeles Chamber Orchestra & Margaret Batjer', 1.0)\n",
      "('C. Monteverdi, Nigel Rogers - Chiaroscuro; London Baroque; London Cornett & Sackbu', 1.0)\n",
      "('Buddy Guy', 13.0)\n",
      "('UB40', 13.0)\n",
      "('Choir Of Westminster Abbey & Simon Preston', 1.0)\n",
      "('Lost', 22.25)\n",
      "('Pearl Jam', 14.0)\n",
      "('Orchestra of The Age of Enlightenment', 1.0)\n",
      "('João Suplicy', 14.0)\n",
      "('Passengers', 14.0)\n",
      "('Karsh Kale', 2.0)\n",
      "('Led Zeppelin', 8.92308)\n",
      "('Deep Purple', 8.72727)\n",
      "('Def Leppard', 17.0)\n",
      "('The Who', 21.0)\n",
      "('Jota Quest', 12.0)\n",
      "('Anne-Sophie Mutter, Herbert Von Karajan & Wiener Philharmoniker', 1.0)\n",
      "('Aerosmith', 16.0)\n",
      "('Titãs', 19.0)\n",
      "('AC/DC', 9.0)\n",
      "('Green Day', 16.5)\n"
     ]
    }
   ],
   "source": [
    "# Create SQL query\n",
    "SQL = \"SELECT al.artist, AVG(album_count.tracks)::REAL AS \\\"Avg Tracks per Album\\\" \"\n",
    "SQL += \"FROM ( \"\n",
    "SQL += \"SELECT DISTINCT a.album_id, \"\n",
    "SQL += \"COUNT(t.track_id) OVER (PARTITION BY a.album) as tracks \"\n",
    "SQL += \"FROM jch5x8.track t, jch5x8.album a \"\n",
    "SQL += \"WHERE t.album_id = a.album_id) AS album_count, \"\n",
    "SQL += \"jch5x8.album al \"\n",
    "SQL += \"WHERE album_count.album_id = al.album_id \"\n",
    "SQL += \"GROUP BY al.artist;\"\n",
    "\n",
    "# Connect to db and run query\n",
    "with connection, connection.cursor() as cursor:\n",
    "    cursor.execute(SQL)\n",
    "    results = cursor.fetchall()\n",
    "\n",
    "print(\"\\nArtist, Avg. Tracks per Album\")\n",
    "# Display results\n",
    "for row in results:\n",
    "    print(row)"
   ]
  },
  {
   "cell_type": "markdown",
   "metadata": {},
   "source": [
    "## List the top five customers in terms of tracks purchased."
   ]
  },
  {
   "cell_type": "code",
   "execution_count": 16,
   "metadata": {},
   "outputs": [
    {
     "name": "stdout",
     "output_type": "stream",
     "text": [
      "\n",
      "First Name, Last Name, Tracks Purchased, Total Spent\n",
      "('Helena', 'Holý', 38, 49.62)\n",
      "('Richard', 'Cunningham', 38, 47.62)\n",
      "('Luis', 'Rojas', 38, 46.62)\n",
      "('Ladislav', 'Kovács', 38, 45.62)\n",
      "('Hugh', \"O'Reilly\", 38, 45.62)\n"
     ]
    }
   ],
   "source": [
    "# Create SQL query\n",
    "## I originally just counted the number of tracks purchased, because that seems to be what is being asked.\n",
    "## I got dismayed, however, when they all seemed to have purchased 38 tracks. I double checked this in\n",
    "## Excel worrying I had done my carpentry incorrectly or written a bad query. Excel bore out that 38 tracks\n",
    "## was correct so since purchased was mentioned, I thought maybe what was really being asked was top five\n",
    "## based on how much customers spent.\n",
    "SQL = \"SELECT c.first_name, c.last_name, track_count.tracks, track_count.total_spent \"\n",
    "SQL += \"FROM jch5x8.customer c, ( \"\n",
    "SQL += \"SELECT ic.customer_id, COUNT(it.track_id) as tracks \"\n",
    "SQL += \", SUM(it.unit_price) as total_spent \"\n",
    "SQL += \"FROM jch5x8.invoice_customers ic, jch5x8.invoice_tracks it \"\n",
    "SQL += \"WHERE ic.invoice_id = it.invoice_id \"\n",
    "SQL += \"GROUP BY ic.customer_id \"\n",
    "SQL += \"ORDER BY total_spent DESC \"\n",
    "SQL += \"LIMIT 5) AS track_count \"\n",
    "SQL += \"WHERE c.customer_id = track_count.customer_id \"\n",
    "SQL += \"ORDER BY track_count.total_spent DESC;\"\n",
    "\n",
    "# Connect to db and run query\n",
    "with connection, connection.cursor() as cursor:\n",
    "    cursor.execute(SQL)\n",
    "    results = cursor.fetchall()\n",
    "\n",
    "print(\"\\nFirst Name, Last Name, Tracks Purchased, Total Spent\")\n",
    "# Display results,\n",
    "for row in results:\n",
    "    print(row)"
   ]
  },
  {
   "cell_type": "markdown",
   "metadata": {},
   "source": [
    "## List the top genre preference per customer."
   ]
  },
  {
   "cell_type": "code",
   "execution_count": 15,
   "metadata": {},
   "outputs": [
    {
     "name": "stdout",
     "output_type": "stream",
     "text": [
      "\n",
      "First Name, Last Name, Tracks Purchased, Total Spent\n",
      "('Helena', 'Holý', 38, 49.62)\n",
      "('Richard', 'Cunningham', 38, 47.62)\n",
      "('Luis', 'Rojas', 38, 46.62)\n",
      "('Ladislav', 'Kovács', 38, 45.62)\n",
      "('Hugh', \"O'Reilly\", 38, 45.62)\n"
     ]
    }
   ],
   "source": [
    "# Create SQL query\n",
    "\n",
    "\n",
    "# Connect to db and run query\n",
    "with connection, connection.cursor() as cursor:\n",
    "    cursor.execute(SQL)\n",
    "    results = cursor.fetchall()\n",
    "\n",
    "print(\"\\nFirst Name, Last Name, Preferred Genre\")\n",
    "# Display results,\n",
    "for row in results:\n",
    "    print(row)"
   ]
  },
  {
   "cell_type": "code",
   "execution_count": null,
   "metadata": {},
   "outputs": [],
   "source": [
    "# Close connection\n",
    "connection.close()"
   ]
  },
  {
   "cell_type": "markdown",
   "metadata": {},
   "source": [
    "# Save your notebook, then `File > Close and Halt`"
   ]
  }
 ],
 "metadata": {
  "kernelspec": {
   "display_name": "Python 3",
   "language": "python",
   "name": "python3"
  },
  "language_info": {
   "codemirror_mode": {
    "name": "ipython",
    "version": 3
   },
   "file_extension": ".py",
   "mimetype": "text/x-python",
   "name": "python",
   "nbconvert_exporter": "python",
   "pygments_lexer": "ipython3",
   "version": "3.7.3"
  }
 },
 "nbformat": 4,
 "nbformat_minor": 1
}
