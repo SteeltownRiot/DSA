{
 "cells": [
  {
   "cell_type": "markdown",
   "metadata": {},
   "source": [
    "# Database / SQL Final Project\n",
    "\n",
    "This project will involve three related CSV files.\n",
    "  * [play_list_music.csv](./play_list_music.csv)\n",
    "  * [play_list_track_customers.csv](./play_list_track_customers.csv)\n",
    "  * [play_list_track_buy.csv](./play_list_track_buy.csv)\n",
    "\n",
    "\n",
    "Your task for this project is to build a SQLite database from these files, then perform some analytics.\n",
    "This project should be broken down into the following tasks:\n",
    "  1. Download and inspect the files.\n",
    "  1. Design a database that is **properly normalized**.\n",
    "  1. Implement your database design.\n",
    "  1. Load data from files into database.\n",
    "  1. Write some basic queries.\n",
    "\n",
    "All your code should be implemented in this notebook.\n",
    "Below the notebook is partitioned into markdown and code execution cells.\n",
    "\n",
    "In the cells below, connect to your database.\n",
    "Remember to update the SSO to your pawprint."
   ]
  },
  {
   "cell_type": "code",
   "execution_count": 1,
   "metadata": {},
   "outputs": [
    {
     "name": "stdout",
     "output_type": "stream",
     "text": [
      "········\n"
     ]
    }
   ],
   "source": [
    "import pandas as pd\n",
    "import getpass\n",
    "import psycopg2\n",
    "import numpy as np\n",
    "from psycopg2.extensions import adapt, register_adapter, AsIs\n",
    "# Magic adapters for the Numpy Fun of Pandas\n",
    "register_adapter(np.int64,AsIs)\n",
    "register_adapter(np.float64,AsIs)\n",
    "mypasswd = getpass.getpass()\n",
    "username = 'jch5x8'\n",
    "host = 'pgsql.dsa.lan'\n",
    "database = 'dsa_student'"
   ]
  },
  {
   "cell_type": "code",
   "execution_count": 2,
   "metadata": {},
   "outputs": [],
   "source": [
    "# Then connects to the DB\n",
    "from sqlalchemy.engine.url import URL\n",
    "from sqlalchemy import create_engine\n",
    "\n",
    "# -------------- Add Content Below\n",
    "\n",
    "# SQLAlchemy Connection Parameters\n",
    "postgres_db = {'drivername': 'postgres',\n",
    "               'username': username,\n",
    "               'password': mypasswd,\n",
    "               'host': host,\n",
    "               'database' :database}\n",
    "\n",
    "# SQLAlchemy Engine\n",
    "engine = create_engine(URL(**postgres_db), echo = True)\n",
    "\n",
    "# -------------- Add Content Above\n",
    "del mypasswd"
   ]
  },
  {
   "cell_type": "markdown",
   "metadata": {},
   "source": [
    "# Design a database that is _properly normalized_.\n",
    "\n",
    "Note: You can expect up approximately ten (10) tables to be derived from three CSV files.\n",
    "\n",
    "There is no implementation cell, the output should be an ERD or sketch.\n",
    "\n",
    "Visit the course Canvas Site for Normalization videos. "
   ]
  },
  {
   "cell_type": "markdown",
   "metadata": {},
   "source": [
    "# Implement your database design.\n",
    "\n",
    "Use the cells below to add your `CREATE TABLE` statements.\n",
    "Add extra cells as necessary"
   ]
  },
  {
   "cell_type": "code",
   "execution_count": 16,
   "metadata": {},
   "outputs": [
    {
     "name": "stdout",
     "output_type": "stream",
     "text": [
      "2021-12-04 22:33:25,080 INFO sqlalchemy.engine.base.Engine CREATE TABLE IF NOT EXISTS jch5x8.city(city_id SERIAL PRIMARY KEY, city VARCHAR(50), locale VARCHAR(50), country VARCHAR(50))\n",
      "2021-12-04 22:33:25,081 INFO sqlalchemy.engine.base.Engine {}\n",
      "2021-12-04 22:33:25,094 INFO sqlalchemy.engine.base.Engine COMMIT\n"
     ]
    }
   ],
   "source": [
    "# init connection variable\n",
    "connection = None\n",
    "# using a try-except\n",
    "try:\n",
    "    connection = engine.connect()\n",
    "except Exception as err:\n",
    "    print(\"An error occurred trying to connect: {}\".format(err))\n",
    "    \n",
    "# Create the table\n",
    "result = connection.execute(\"CREATE TABLE IF NOT EXISTS jch5x8.city(city_id SERIAL PRIMARY KEY, city VARCHAR(50), locale VARCHAR(50), country VARCHAR(50))\")\n",
    "\n",
    "connection.close()"
   ]
  },
  {
   "cell_type": "code",
   "execution_count": 17,
   "metadata": {},
   "outputs": [
    {
     "name": "stdout",
     "output_type": "stream",
     "text": [
      "2021-12-04 22:33:27,213 INFO sqlalchemy.engine.base.Engine CREATE TABLE IF NOT EXISTS jch5x8.contact(contact_id SERIAL PRIMARY KEY, address VARCHAR(150), city_id INT REFERENCES jch5x8.city ON DELETE SET NULL ON UPDATE CASCADE, postal_code VARCHAR(50), phone VARCHAR(50), fax VARCHAR(50), email VARCHAR(50))\n",
      "2021-12-04 22:33:27,214 INFO sqlalchemy.engine.base.Engine {}\n",
      "2021-12-04 22:33:27,225 INFO sqlalchemy.engine.base.Engine COMMIT\n"
     ]
    }
   ],
   "source": [
    "# init connection variable\n",
    "connection = None\n",
    "# using a try-except\n",
    "try:\n",
    "    connection = engine.connect()\n",
    "except Exception as err:\n",
    "    print(\"An error occurred trying to connect: {}\".format(err))\n",
    "    \n",
    "# Create the table\n",
    "result = connection.execute(\"CREATE TABLE IF NOT EXISTS jch5x8.contact(contact_id SERIAL PRIMARY KEY, address VARCHAR(150), city_id INT REFERENCES jch5x8.city ON DELETE SET NULL ON UPDATE CASCADE, postal_code VARCHAR(50), phone VARCHAR(50), fax VARCHAR(50), email VARCHAR(50), city VARCHAR(150), customer_id INT)\")\n",
    "\n",
    "connection.close()"
   ]
  },
  {
   "cell_type": "code",
   "execution_count": 18,
   "metadata": {},
   "outputs": [
    {
     "name": "stdout",
     "output_type": "stream",
     "text": [
      "2021-12-04 22:33:28,281 INFO sqlalchemy.engine.base.Engine CREATE TABLE IF NOT EXISTS jch5x8.customer(customer_id INT PRIMARY KEY, first_name VARCHAR(50), last_name VARCHAR(50), company VARCHAR(50), contact_id INT REFERENCES jch5x8.contact ON DELETE SET NULL ON UPDATE CASCADE)\n",
      "2021-12-04 22:33:28,282 INFO sqlalchemy.engine.base.Engine {}\n",
      "2021-12-04 22:33:28,292 INFO sqlalchemy.engine.base.Engine COMMIT\n"
     ]
    }
   ],
   "source": [
    "# init connection variable\n",
    "connection = None\n",
    "# using a try-except\n",
    "try:\n",
    "    connection = engine.connect()\n",
    "except Exception as err:\n",
    "    print(\"An error occurred trying to connect: {}\".format(err))\n",
    "    \n",
    "# Create the table\n",
    "result = connection.execute(\"CREATE TABLE IF NOT EXISTS jch5x8.customer(customer_id INT PRIMARY KEY, first_name VARCHAR(50), last_name VARCHAR(50), company VARCHAR(50), contact_id INT REFERENCES jch5x8.contact ON DELETE SET NULL ON UPDATE CASCADE)\")\n",
    "\n",
    "connection.close()"
   ]
  },
  {
   "cell_type": "code",
   "execution_count": 19,
   "metadata": {},
   "outputs": [
    {
     "name": "stdout",
     "output_type": "stream",
     "text": [
      "2021-12-04 22:33:29,376 INFO sqlalchemy.engine.base.Engine CREATE TABLE IF NOT EXISTS jch5x8.album(album_id SERIAL PRIMARY KEY, album VARCHAR(150), artist VARCHAR(150), genre VARCHAR(50))\n",
      "2021-12-04 22:33:29,377 INFO sqlalchemy.engine.base.Engine {}\n",
      "2021-12-04 22:33:29,385 INFO sqlalchemy.engine.base.Engine COMMIT\n"
     ]
    }
   ],
   "source": [
    "# init connection variable\n",
    "connection = None\n",
    "# using a try-except\n",
    "try:\n",
    "    connection = engine.connect()\n",
    "except Exception as err:\n",
    "    print(\"An error occurred trying to connect: {}\".format(err))\n",
    "    \n",
    "# Create the table\n",
    "result = connection.execute(\"CREATE TABLE IF NOT EXISTS jch5x8.album(album_id SERIAL PRIMARY KEY, album VARCHAR(150), artist VARCHAR(150), genre VARCHAR(50), track_id INT)\")\n",
    "\n",
    "connection.close()"
   ]
  },
  {
   "cell_type": "code",
   "execution_count": 20,
   "metadata": {},
   "outputs": [
    {
     "name": "stdout",
     "output_type": "stream",
     "text": [
      "2021-12-04 22:33:31,988 INFO sqlalchemy.engine.base.Engine CREATE TABLE IF NOT EXISTS jch5x8.tracks(track_id INT PRIMARY KEY, album_id INT REFERENCES jch5x8.album ON DELETE SET NULL ON UPDATE CASCADE, song VARCHAR(150), playlist VARCHAR(150), media VARCHAR(50), bytes INT)\n",
      "2021-12-04 22:33:31,989 INFO sqlalchemy.engine.base.Engine {}\n",
      "2021-12-04 22:33:31,999 INFO sqlalchemy.engine.base.Engine COMMIT\n"
     ]
    }
   ],
   "source": [
    "# init connection variable\n",
    "connection = None\n",
    "# using a try-except\n",
    "try:\n",
    "    connection = engine.connect()\n",
    "except Exception as err:\n",
    "    print(\"An error occurred trying to connect: {}\".format(err))\n",
    "    \n",
    "# Create the table\n",
    "result = connection.execute(\"CREATE TABLE IF NOT EXISTS jch5x8.tracks(track_id SERIAL PRIMARY KEY, id INT, album_id INT REFERENCES jch5x8.album ON DELETE SET NULL ON UPDATE CASCADE, song VARCHAR(150), playlist VARCHAR(150), media_type VARCHAR(50), bytes INT)\")\n",
    "\n",
    "connection.close()"
   ]
  },
  {
   "cell_type": "code",
   "execution_count": 21,
   "metadata": {},
   "outputs": [
    {
     "name": "stdout",
     "output_type": "stream",
     "text": [
      "2021-12-04 22:33:33,012 INFO sqlalchemy.engine.base.Engine CREATE TABLE IF NOT EXISTS jch5x8.invoice(invoice_id INT PRIMARY KEY, track_id INT REFERENCES jch5x8.tracks ON DELETE SET NULL ON UPDATE CASCADE, customer_id INT REFERENCES jch5x8.customer ON DELETE SET NULL ON UPDATE CASCADE, unit_price REAL)\n",
      "2021-12-04 22:33:33,013 INFO sqlalchemy.engine.base.Engine {}\n",
      "2021-12-04 22:33:33,024 INFO sqlalchemy.engine.base.Engine COMMIT\n"
     ]
    }
   ],
   "source": [
    "# init connection variable\n",
    "connection = None\n",
    "# using a try-except\n",
    "try:\n",
    "    connection = engine.connect()\n",
    "except Exception as err:\n",
    "    print(\"An error occurred trying to connect: {}\".format(err))\n",
    "    \n",
    "# Create the table\n",
    "result = connection.execute(\"CREATE TABLE IF NOT EXISTS jch5x8.invoice(invoice_id INT, track_id INT REFERENCES jch5x8.tracks ON DELETE SET NULL ON UPDATE CASCADE, customer_id INT REFERENCES jch5x8.customer ON DELETE SET NULL ON UPDATE CASCADE, unit_price REAL, PRIMARY KEY(invoice_id, track_id))\")\n",
    "\n",
    "connection.close()"
   ]
  },
  {
   "cell_type": "code",
   "execution_count": 22,
   "metadata": {},
   "outputs": [
    {
     "name": "stdout",
     "output_type": "stream",
     "text": [
      "2021-12-04 22:33:36,034 INFO sqlalchemy.engine.base.Engine CREATE TABLE IF NOT EXISTS jch5x8.invoice_tracks(invoice_id INT REFERENCES jch5x8.invoice ON DELETE SET NULL ON UPDATE CASCADE, track_id INT REFERENCES jch5x8.tracks ON DELETE SET NULL ON UPDATE CASCADE)\n",
      "2021-12-04 22:33:36,034 INFO sqlalchemy.engine.base.Engine {}\n",
      "2021-12-04 22:33:36,040 INFO sqlalchemy.engine.base.Engine COMMIT\n"
     ]
    }
   ],
   "source": [
    "# init connection variable\n",
    "connection = None\n",
    "# using a try-except\n",
    "try:\n",
    "    connection = engine.connect()\n",
    "except Exception as err:\n",
    "    print(\"An error occurred trying to connect: {}\".format(err))\n",
    "    \n",
    "# Create the table\n",
    "result = connection.execute(\"CREATE TABLE IF NOT EXISTS jch5x8.invoice_tracks(invoice_id INT REFERENCES jch5x8.invoice ON DELETE SET NULL ON UPDATE CASCADE, track_id INT REFERENCES jch5x8.tracks ON DELETE SET NULL ON UPDATE CASCADE)\")\n",
    "\n",
    "connection.close()"
   ]
  },
  {
   "cell_type": "markdown",
   "metadata": {},
   "source": [
    "# Load data from files into database.\n",
    "\n",
    "### Use Excel or Pandas to carve the provided CSV files above into the **set of appropriate files** you need to load into your database.\n",
    "   1. Example: Save File As *new_csv_name.csv*\n",
    "   1. Remove unneeded columns\n",
    "   1. Remove duplicate rows\n",
    "   1. Save File, Navigate in JupyterHub folder view (your first JupyterHub tab)\n",
    "   1. Upload file\n",
    "\n",
    "\n",
    "   1. Load the CSV into your database using Python.\n",
    "     \n",
    "\n",
    "\n"
   ]
  },
  {
   "cell_type": "code",
   "execution_count": 38,
   "metadata": {},
   "outputs": [
    {
     "name": "stdout",
     "output_type": "stream",
     "text": [
      "2021-12-04 23:53:55,564 INFO sqlalchemy.engine.base.Engine select relname from pg_class c join pg_namespace n on n.oid=c.relnamespace where n.nspname=%(schema)s and relname=%(name)s\n",
      "2021-12-04 23:53:55,565 INFO sqlalchemy.engine.base.Engine {'schema': 'jch5x8', 'name': 'city'}\n",
      "2021-12-04 23:53:55,569 INFO sqlalchemy.engine.base.Engine BEGIN (implicit)\n",
      "2021-12-04 23:53:55,570 INFO sqlalchemy.engine.base.Engine INSERT INTO jch5x8.city (city, locale, country) VALUES (%(city)s, %(locale)s, %(country)s)\n",
      "2021-12-04 23:53:55,571 INFO sqlalchemy.engine.base.Engine ({'city': 'São José dos Campos', 'locale': 'SP', 'country': 'Brazil'}, {'city': 'Stuttgart', 'locale': None, 'country': 'Germany'}, {'city': 'Montréal', 'locale': 'QC', 'country': 'Canada'}, {'city': 'Oslo', 'locale': None, 'country': 'Norway'}, {'city': 'Prague', 'locale': None, 'country': 'Czech Republic'}, {'city': 'Prague', 'locale': None, 'country': 'Czech Republic'}, {'city': 'Vienne', 'locale': None, 'country': 'Austria'}, {'city': 'Brussels', 'locale': None, 'country': 'Belgium'}  ... displaying 10 of 50 total bound parameter sets ...  {'city': 'Warsaw', 'locale': None, 'country': 'Poland'}, {'city': 'Madrid', 'locale': None, 'country': 'Spain'})\n",
      "2021-12-04 23:53:55,590 INFO sqlalchemy.engine.base.Engine INSERT INTO jch5x8.city (city, locale, country) VALUES (%(city)s, %(locale)s, %(country)s)\n",
      "2021-12-04 23:53:55,591 INFO sqlalchemy.engine.base.Engine ({'city': 'Stockholm', 'locale': None, 'country': 'Sweden'}, {'city': 'London', 'locale': None, 'country': 'United Kingdom'}, {'city': 'London', 'locale': None, 'country': 'United Kingdom'}, {'city': 'Edinburgh ', 'locale': None, 'country': 'United Kingdom'}, {'city': 'Sidney', 'locale': 'NSW', 'country': 'Australia'}, {'city': 'Buenos Aires', 'locale': None, 'country': 'Argentina'}, {'city': 'Santiago', 'locale': None, 'country': 'Chile'}, {'city': 'Delhi', 'locale': None, 'country': 'India'}, {'city': 'Bangalore', 'locale': None, 'country': 'India'})\n",
      "2021-12-04 23:53:55,593 INFO sqlalchemy.engine.base.Engine COMMIT\n"
     ]
    }
   ],
   "source": [
    "col_list = [\"city\", \"locale\", \"country\"]\n",
    "city = pd.read_csv(\"customers.csv\", usecols = col_list)\n",
    "city = city.drop_duplicates()\n",
    "#city.head()\n",
    "\n",
    "city.to_sql('city',               # Table to load to\n",
    "            engine,               # Engine created above\n",
    "            schema = username,    # Schema where table lives\n",
    "            if_exists = 'append', # If table found, add data\n",
    "            index = False,        # Ignore data frame row index\n",
    "            chunksize = 50        # Load 50 records from data frame at a time\n",
    "        )"
   ]
  },
  {
   "cell_type": "code",
   "execution_count": 39,
   "metadata": {},
   "outputs": [
    {
     "name": "stdout",
     "output_type": "stream",
     "text": [
      "2021-12-04 23:54:02,112 INFO sqlalchemy.engine.base.Engine select relname from pg_class c join pg_namespace n on n.oid=c.relnamespace where n.nspname=%(schema)s and relname=%(name)s\n",
      "2021-12-04 23:54:02,113 INFO sqlalchemy.engine.base.Engine {'schema': 'jch5x8', 'name': 'contact'}\n",
      "2021-12-04 23:54:02,117 INFO sqlalchemy.engine.base.Engine BEGIN (implicit)\n",
      "2021-12-04 23:54:02,118 INFO sqlalchemy.engine.base.Engine INSERT INTO jch5x8.contact (customer_id, address, city, postal_code, phone, fax, email) VALUES (%(customer_id)s, %(address)s, %(city)s, %(postal_code)s, %(phone)s, %(fax)s, %(email)s)\n",
      "2021-12-04 23:54:02,119 INFO sqlalchemy.engine.base.Engine ({'customer_id': 1, 'address': 'Av. Brigadeiro Faria Lima, 2170', 'city': 'São José dos Campos', 'postal_code': '12227-000', 'phone': '+55 (12) 3923-5555', 'fax': '+55 (12) 3923-5566', 'email': 'luisg@embraer.com.br'}, {'customer_id': 2, 'address': 'Theodor-Heuss-Straße 34', 'city': 'Stuttgart', 'postal_code': '70174', 'phone': '+49 0711 2842222', 'fax': None, 'email': 'leonekohler@surfeu.de'}, {'customer_id': 3, 'address': '1498 rue Bélanger', 'city': 'Montréal', 'postal_code': 'H2G 1A7', 'phone': '+1 (514) 721-4711', 'fax': None, 'email': 'ftremblay@gmail.com'}, {'customer_id': 4, 'address': 'Ullevålsveien 14', 'city': 'Oslo', 'postal_code': '171', 'phone': '+47 22 44 22 22', 'fax': None, 'email': 'bjorn.hansen@yahoo.no'}, {'customer_id': 5, 'address': 'Klanova 9/506', 'city': 'Prague', 'postal_code': '14700', 'phone': '+420 2 4172 5555', 'fax': '+420 2 4172 5555', 'email': 'frantisekw@jetbrains.com'}, {'customer_id': 6, 'address': 'Rilská 3174/6', 'city': 'Prague', 'postal_code': '14300', 'phone': '+420 2 4177 0449', 'fax': None, 'email': 'hholy@gmail.com'}, {'customer_id': 7, 'address': 'Rotenturmstraße 4, 1010 Innere Stadt', 'city': 'Vienne', 'postal_code': '1010', 'phone': '+43 01 5134505', 'fax': None, 'email': 'astrid.gruber@apple.at'}, {'customer_id': 8, 'address': 'Grétrystraat 63', 'city': 'Brussels', 'postal_code': '1000', 'phone': '+32 02 219 03 03', 'fax': None, 'email': 'daan_peeters@apple.be'}  ... displaying 10 of 50 total bound parameter sets ...  {'customer_id': 49, 'address': 'Ordynacka 10', 'city': 'Warsaw', 'postal_code': '00-358', 'phone': '+48 22 828 37 39', 'fax': None, 'email': 'stanisław.wójcik@wp.pl'}, {'customer_id': 50, 'address': 'C/ San Bernardo 85', 'city': 'Madrid', 'postal_code': '28015', 'phone': '+34 914 454 454', 'fax': None, 'email': 'enrique_munoz@yahoo.es'})\n",
      "2021-12-04 23:54:02,139 INFO sqlalchemy.engine.base.Engine INSERT INTO jch5x8.contact (customer_id, address, city, postal_code, phone, fax, email) VALUES (%(customer_id)s, %(address)s, %(city)s, %(postal_code)s, %(phone)s, %(fax)s, %(email)s)\n",
      "2021-12-04 23:54:02,140 INFO sqlalchemy.engine.base.Engine ({'customer_id': 51, 'address': 'Celsiusg. 9', 'city': 'Stockholm', 'postal_code': '11230', 'phone': '+46 08-651 52 52', 'fax': None, 'email': 'joakim.johansson@yahoo.se'}, {'customer_id': 52, 'address': '202 Hoxton Street', 'city': 'London', 'postal_code': 'N1 5LH', 'phone': '+44 020 7707 0707', 'fax': None, 'email': 'emma_jones@hotmail.com'}, {'customer_id': 53, 'address': '113 Lupus St', 'city': 'London', 'postal_code': 'SW1V 3EN', 'phone': '+44 020 7976 5722', 'fax': None, 'email': 'phil.hughes@gmail.com'}, {'customer_id': 54, 'address': '110 Raeburn Pl', 'city': 'Edinburgh ', 'postal_code': 'EH4 1HH', 'phone': '+44 0131 315 3300', 'fax': None, 'email': 'steve.murray@yahoo.uk'}, {'customer_id': 55, 'address': '421 Bourke Street', 'city': 'Sidney', 'postal_code': '2010', 'phone': '+61 (02) 9332 3633', 'fax': None, 'email': 'mark.taylor@yahoo.au'}, {'customer_id': 56, 'address': '307 Macacha Güemes', 'city': 'Buenos Aires', 'postal_code': '1106', 'phone': '+54 (0)11 4311 4333', 'fax': None, 'email': 'diego.gutierrez@yahoo.ar'}, {'customer_id': 57, 'address': 'Calle Lira, 198', 'city': 'Santiago', 'postal_code': None, 'phone': '+56 (0)2 635 4444', 'fax': None, 'email': 'luisrojas@yahoo.cl'}, {'customer_id': 58, 'address': '12,Community Centre', 'city': 'Delhi', 'postal_code': '110017', 'phone': '+91 0124 39883988', 'fax': None, 'email': 'manoj.pareek@rediff.com'}, {'customer_id': 59, 'address': '3,Raj Bhavan Road', 'city': 'Bangalore', 'postal_code': '560001', 'phone': '+91 080 22289999', 'fax': None, 'email': 'puja_srivastava@yahoo.in'})\n",
      "2021-12-04 23:54:02,143 INFO sqlalchemy.engine.base.Engine COMMIT\n"
     ]
    }
   ],
   "source": [
    "col_list = [\"address\", \"postal_code\", \"phone\", \"fax\", \"email\", \"city\", \"customer\"]\n",
    "contact = pd.read_csv(\"customers.csv\", usecols = col_list)\n",
    "contact = contact.drop_duplicates()\n",
    "contact.rename(columns = {'customer': 'customer_id'}, inplace = True)\n",
    "#contact.head()\n",
    "\n",
    "contact.to_sql('contact',         # Table to load to\n",
    "            engine,               # Engine created above\n",
    "            schema = username,    # Schema where table lives\n",
    "            if_exists = 'append', # If table found, add data\n",
    "            index = False,        # Ignore data frame row index\n",
    "            chunksize = 50        # Load 50 records from data frame at a time\n",
    "        )"
   ]
  },
  {
   "cell_type": "code",
   "execution_count": 40,
   "metadata": {},
   "outputs": [
    {
     "name": "stdout",
     "output_type": "stream",
     "text": [
      "2021-12-04 23:54:08,797 INFO sqlalchemy.engine.base.Engine select relname from pg_class c join pg_namespace n on n.oid=c.relnamespace where n.nspname=%(schema)s and relname=%(name)s\n",
      "2021-12-04 23:54:08,798 INFO sqlalchemy.engine.base.Engine {'schema': 'jch5x8', 'name': 'customer'}\n",
      "2021-12-04 23:54:08,801 INFO sqlalchemy.engine.base.Engine BEGIN (implicit)\n",
      "2021-12-04 23:54:08,802 INFO sqlalchemy.engine.base.Engine INSERT INTO jch5x8.customer (customer_id, first_name, last_name, company) VALUES (%(customer_id)s, %(first_name)s, %(last_name)s, %(company)s)\n",
      "2021-12-04 23:54:08,803 INFO sqlalchemy.engine.base.Engine ({'customer_id': 1, 'first_name': 'Luís', 'last_name': 'Gonçalves', 'company': 'Embraer - Empresa Brasileira de Aeronáutica S.A.'}, {'customer_id': 2, 'first_name': 'Leonie', 'last_name': 'Köhler', 'company': None}, {'customer_id': 3, 'first_name': 'François', 'last_name': 'Tremblay', 'company': None}, {'customer_id': 4, 'first_name': 'Bjørn', 'last_name': 'Hansen', 'company': None}, {'customer_id': 5, 'first_name': 'František', 'last_name': 'Wichterlová', 'company': 'JetBrains s.r.o.'}, {'customer_id': 6, 'first_name': 'Helena', 'last_name': 'Holý', 'company': None}, {'customer_id': 7, 'first_name': 'Astrid', 'last_name': 'Gruber', 'company': None}, {'customer_id': 8, 'first_name': 'Daan', 'last_name': 'Peeters', 'company': None}  ... displaying 10 of 50 total bound parameter sets ...  {'customer_id': 49, 'first_name': 'Stanisław', 'last_name': 'Wójcik', 'company': None}, {'customer_id': 50, 'first_name': 'Enrique', 'last_name': 'Muñoz', 'company': None})\n",
      "2021-12-04 23:54:08,820 INFO sqlalchemy.engine.base.Engine INSERT INTO jch5x8.customer (customer_id, first_name, last_name, company) VALUES (%(customer_id)s, %(first_name)s, %(last_name)s, %(company)s)\n",
      "2021-12-04 23:54:08,821 INFO sqlalchemy.engine.base.Engine ({'customer_id': 51, 'first_name': 'Joakim', 'last_name': 'Johansson', 'company': None}, {'customer_id': 52, 'first_name': 'Emma', 'last_name': 'Jones', 'company': None}, {'customer_id': 53, 'first_name': 'Phil', 'last_name': 'Hughes', 'company': None}, {'customer_id': 54, 'first_name': 'Steve', 'last_name': 'Murray', 'company': None}, {'customer_id': 55, 'first_name': 'Mark', 'last_name': 'Taylor', 'company': None}, {'customer_id': 56, 'first_name': 'Diego', 'last_name': 'Gutiérrez', 'company': None}, {'customer_id': 57, 'first_name': 'Luis', 'last_name': 'Rojas', 'company': None}, {'customer_id': 58, 'first_name': 'Manoj', 'last_name': 'Pareek', 'company': None}, {'customer_id': 59, 'first_name': 'Puja', 'last_name': 'Srivastava', 'company': None})\n",
      "2021-12-04 23:54:08,824 INFO sqlalchemy.engine.base.Engine COMMIT\n"
     ]
    }
   ],
   "source": [
    "col_list = [\"customer\", \"first_name\", \"last_name\", \"company\"]\n",
    "customer = pd.read_csv(\"customers.csv\", usecols = col_list)\n",
    "customer = customer.drop_duplicates()\n",
    "customer.rename(columns = {'customer': 'customer_id'}, inplace = True)\n",
    "#customer.head()\n",
    "\n",
    "customer.to_sql('customer',       # Table to load to\n",
    "            engine,               # Engine created above\n",
    "            schema = username,    # Schema where table lives\n",
    "            if_exists = 'append', # If table found, add data\n",
    "            index = False,        # Ignore data frame row index\n",
    "            chunksize = 50        # Load 50 records from data frame at a time\n",
    "        )"
   ]
  },
  {
   "cell_type": "code",
   "execution_count": 41,
   "metadata": {},
   "outputs": [
    {
     "name": "stdout",
     "output_type": "stream",
     "text": [
      "2021-12-04 23:54:18,034 INFO sqlalchemy.engine.base.Engine select relname from pg_class c join pg_namespace n on n.oid=c.relnamespace where n.nspname=%(schema)s and relname=%(name)s\n",
      "2021-12-04 23:54:18,034 INFO sqlalchemy.engine.base.Engine {'schema': 'jch5x8', 'name': 'album'}\n",
      "2021-12-04 23:54:18,039 INFO sqlalchemy.engine.base.Engine BEGIN (implicit)\n",
      "2021-12-04 23:54:18,040 INFO sqlalchemy.engine.base.Engine INSERT INTO jch5x8.album (artist, album, genre) VALUES (%(artist)s, %(album)s, %(genre)s)\n",
      "2021-12-04 23:54:18,040 INFO sqlalchemy.engine.base.Engine ({'artist': 'AC/DC', 'album': 'For Those About To Rock We Salute You', 'genre': 'Rock'}, {'artist': 'AC/DC', 'album': 'For Those About To Rock We Salute You', 'genre': 'Rock'}, {'artist': 'AC/DC', 'album': 'For Those About To Rock We Salute You', 'genre': 'Rock'}, {'artist': 'AC/DC', 'album': 'For Those About To Rock We Salute You', 'genre': 'Rock'}, {'artist': 'AC/DC', 'album': 'For Those About To Rock We Salute You', 'genre': 'Rock'}, {'artist': 'AC/DC', 'album': 'For Those About To Rock We Salute You', 'genre': 'Rock'}, {'artist': 'AC/DC', 'album': 'For Those About To Rock We Salute You', 'genre': 'Rock'}, {'artist': 'AC/DC', 'album': 'For Those About To Rock We Salute You', 'genre': 'Rock'}  ... displaying 10 of 50 total bound parameter sets ...  {'artist': 'Aerosmith', 'album': 'Big Ones', 'genre': 'Rock'}, {'artist': 'Alanis Morissette', 'album': 'Jagged Little Pill', 'genre': 'Rock'})\n",
      "2021-12-04 23:54:18,058 INFO sqlalchemy.engine.base.Engine INSERT INTO jch5x8.album (artist, album, genre) VALUES (%(artist)s, %(album)s, %(genre)s)\n",
      "2021-12-04 23:54:18,059 INFO sqlalchemy.engine.base.Engine ({'artist': 'Alanis Morissette', 'album': 'Jagged Little Pill', 'genre': 'Rock'}, {'artist': 'Alanis Morissette', 'album': 'Jagged Little Pill', 'genre': 'Rock'}, {'artist': 'Alanis Morissette', 'album': 'Jagged Little Pill', 'genre': 'Rock'}, {'artist': 'Alanis Morissette', 'album': 'Jagged Little Pill', 'genre': 'Rock'}, {'artist': 'Alanis Morissette', 'album': 'Jagged Little Pill', 'genre': 'Rock'}, {'artist': 'Alanis Morissette', 'album': 'Jagged Little Pill', 'genre': 'Rock'}, {'artist': 'Alanis Morissette', 'album': 'Jagged Little Pill', 'genre': 'Rock'}, {'artist': 'Alanis Morissette', 'album': 'Jagged Little Pill', 'genre': 'Rock'}  ... displaying 10 of 50 total bound parameter sets ...  {'artist': 'Alice In Chains', 'album': 'Facelift', 'genre': 'Rock'}, {'artist': 'Alice In Chains', 'album': 'Facelift', 'genre': 'Rock'})\n",
      "2021-12-04 23:54:18,068 INFO sqlalchemy.engine.base.Engine INSERT INTO jch5x8.album (artist, album, genre) VALUES (%(artist)s, %(album)s, %(genre)s)\n",
      "2021-12-04 23:54:18,069 INFO sqlalchemy.engine.base.Engine ({'artist': 'Antônio Carlos Jobim', 'album': 'Warner 25 Anos', 'genre': 'Jazz'}, {'artist': 'Antônio Carlos Jobim', 'album': 'Warner 25 Anos', 'genre': 'Jazz'}, {'artist': 'Antônio Carlos Jobim', 'album': 'Warner 25 Anos', 'genre': 'Jazz'}, {'artist': 'Antônio Carlos Jobim', 'album': 'Warner 25 Anos', 'genre': 'Jazz'}, {'artist': 'Antônio Carlos Jobim', 'album': 'Warner 25 Anos', 'genre': 'Jazz'}, {'artist': 'Antônio Carlos Jobim', 'album': 'Warner 25 Anos', 'genre': 'Jazz'}, {'artist': 'Antônio Carlos Jobim', 'album': 'Warner 25 Anos', 'genre': 'Jazz'}, {'artist': 'Antônio Carlos Jobim', 'album': 'Warner 25 Anos', 'genre': 'Jazz'}  ... displaying 10 of 50 total bound parameter sets ...  {'artist': 'Audioslave', 'album': 'Out Of Exile', 'genre': 'Alternative & Punk'}, {'artist': 'Audioslave', 'album': 'Out Of Exile', 'genre': 'Alternative & Punk'})\n",
      "2021-12-04 23:54:18,079 INFO sqlalchemy.engine.base.Engine INSERT INTO jch5x8.album (artist, album, genre) VALUES (%(artist)s, %(album)s, %(genre)s)\n",
      "2021-12-04 23:54:18,079 INFO sqlalchemy.engine.base.Engine ({'artist': 'Audioslave', 'album': 'Out Of Exile', 'genre': 'Alternative & Punk'}, {'artist': 'Audioslave', 'album': 'Out Of Exile', 'genre': 'Alternative & Punk'}, {'artist': 'Audioslave', 'album': 'Out Of Exile', 'genre': 'Alternative & Punk'}, {'artist': 'Audioslave', 'album': 'Out Of Exile', 'genre': 'Alternative & Punk'}, {'artist': 'Audioslave', 'album': 'Out Of Exile', 'genre': 'Alternative & Punk'}, {'artist': 'Audioslave', 'album': 'Out Of Exile', 'genre': 'Alternative & Punk'}, {'artist': 'BackBeat', 'album': 'BackBeat Soundtrack', 'genre': 'Rock And Roll'}, {'artist': 'BackBeat', 'album': 'BackBeat Soundtrack', 'genre': 'Rock And Roll'}  ... displaying 10 of 50 total bound parameter sets ...  {'artist': 'Black Label Society', 'album': 'Alcohol Fueled Brewtality Live! [Disc 1]', 'genre': 'Metal'}, {'artist': 'Black Label Society', 'album': 'Alcohol Fueled Brewtality Live! [Disc 1]', 'genre': 'Metal'})\n",
      "2021-12-04 23:54:18,089 INFO sqlalchemy.engine.base.Engine INSERT INTO jch5x8.album (artist, album, genre) VALUES (%(artist)s, %(album)s, %(genre)s)\n",
      "2021-12-04 23:54:18,090 INFO sqlalchemy.engine.base.Engine ({'artist': 'Black Label Society', 'album': 'Alcohol Fueled Brewtality Live! [Disc 1]', 'genre': 'Metal'}, {'artist': 'Black Label Society', 'album': 'Alcohol Fueled Brewtality Live! [Disc 2]', 'genre': 'Metal'}, {'artist': 'Black Label Society', 'album': 'Alcohol Fueled Brewtality Live! [Disc 2]', 'genre': 'Metal'}, {'artist': 'Black Label Society', 'album': 'Alcohol Fueled Brewtality Live! [Disc 2]', 'genre': 'Metal'}, {'artist': 'Black Label Society', 'album': 'Alcohol Fueled Brewtality Live! [Disc 2]', 'genre': 'Metal'}, {'artist': 'Black Label Society', 'album': 'Alcohol Fueled Brewtality Live! [Disc 2]', 'genre': 'Metal'}, {'artist': 'Black Sabbath', 'album': 'Black Sabbath', 'genre': 'Metal'}, {'artist': 'Black Sabbath', 'album': 'Black Sabbath', 'genre': 'Metal'}  ... displaying 10 of 50 total bound parameter sets ...  {'artist': 'Body Count', 'album': 'Body Count', 'genre': 'Alternative & Punk'}, {'artist': 'Body Count', 'album': 'Body Count', 'genre': 'Alternative & Punk'})\n",
      "2021-12-04 23:54:18,100 INFO sqlalchemy.engine.base.Engine INSERT INTO jch5x8.album (artist, album, genre) VALUES (%(artist)s, %(album)s, %(genre)s)\n",
      "2021-12-04 23:54:18,100 INFO sqlalchemy.engine.base.Engine ({'artist': 'Body Count', 'album': 'Body Count', 'genre': 'Alternative & Punk'}, {'artist': 'Body Count', 'album': 'Body Count', 'genre': 'Alternative & Punk'}, {'artist': 'Body Count', 'album': 'Body Count', 'genre': 'Alternative & Punk'}, {'artist': 'Body Count', 'album': 'Body Count', 'genre': 'Alternative & Punk'}, {'artist': 'Body Count', 'album': 'Body Count', 'genre': 'Alternative & Punk'}, {'artist': 'Body Count', 'album': 'Body Count', 'genre': 'Alternative & Punk'}, {'artist': 'Body Count', 'album': 'Body Count', 'genre': 'Alternative & Punk'}, {'artist': 'Body Count', 'album': 'Body Count', 'genre': 'Alternative & Punk'}  ... displaying 10 of 50 total bound parameter sets ...  {'artist': 'Caetano Veloso', 'album': 'Prenda Minha', 'genre': 'Latin'}, {'artist': 'Caetano Veloso', 'album': 'Prenda Minha', 'genre': 'Latin'})\n",
      "2021-12-04 23:54:18,110 INFO sqlalchemy.engine.base.Engine INSERT INTO jch5x8.album (artist, album, genre) VALUES (%(artist)s, %(album)s, %(genre)s)\n",
      "2021-12-04 23:54:18,110 INFO sqlalchemy.engine.base.Engine ({'artist': 'Caetano Veloso', 'album': 'Prenda Minha', 'genre': 'Latin'}, {'artist': 'Caetano Veloso', 'album': 'Prenda Minha', 'genre': 'Latin'}, {'artist': 'Caetano Veloso', 'album': 'Prenda Minha', 'genre': 'Latin'}, {'artist': 'Caetano Veloso', 'album': 'Prenda Minha', 'genre': 'Latin'}, {'artist': 'Caetano Veloso', 'album': 'Prenda Minha', 'genre': 'Latin'}, {'artist': 'Caetano Veloso', 'album': 'Prenda Minha', 'genre': 'Latin'}, {'artist': 'Caetano Veloso', 'album': 'Prenda Minha', 'genre': 'Latin'}, {'artist': 'Caetano Veloso', 'album': 'Prenda Minha', 'genre': 'Latin'}  ... displaying 10 of 50 total bound parameter sets ...  {'artist': 'Chico Buarque', 'album': 'Minha Historia', 'genre': 'Latin'}, {'artist': 'Chico Buarque', 'album': 'Minha Historia', 'genre': 'Latin'})\n",
      "2021-12-04 23:54:18,120 INFO sqlalchemy.engine.base.Engine INSERT INTO jch5x8.album (artist, album, genre) VALUES (%(artist)s, %(album)s, %(genre)s)\n",
      "2021-12-04 23:54:18,120 INFO sqlalchemy.engine.base.Engine ({'artist': 'Chico Buarque', 'album': 'Minha Historia', 'genre': 'Latin'}, {'artist': 'Chico Buarque', 'album': 'Minha Historia', 'genre': 'Latin'}, {'artist': 'Chico Buarque', 'album': 'Minha Historia', 'genre': 'Latin'}, {'artist': 'Chico Buarque', 'album': 'Minha Historia', 'genre': 'Latin'}, {'artist': 'Chico Buarque', 'album': 'Minha Historia', 'genre': 'Latin'}, {'artist': 'Chico Buarque', 'album': 'Minha Historia', 'genre': 'Latin'}, {'artist': 'Chico Buarque', 'album': 'Minha Historia', 'genre': 'Latin'}, {'artist': 'Chico Science & Nação Zumbi', 'album': 'Afrociberdelia', 'genre': 'Latin'}  ... displaying 10 of 50 total bound parameter sets ...  {'artist': 'Chico Science & Nação Zumbi', 'album': 'Afrociberdelia', 'genre': 'Latin'}, {'artist': 'Chico Science & Nação Zumbi', 'album': 'Afrociberdelia', 'genre': 'Latin'})\n"
     ]
    },
    {
     "name": "stdout",
     "output_type": "stream",
     "text": [
      "2021-12-04 23:54:18,131 INFO sqlalchemy.engine.base.Engine INSERT INTO jch5x8.album (artist, album, genre) VALUES (%(artist)s, %(album)s, %(genre)s)\n",
      "2021-12-04 23:54:18,132 INFO sqlalchemy.engine.base.Engine ({'artist': 'Chico Science & Nação Zumbi', 'album': 'Afrociberdelia', 'genre': 'Latin'}, {'artist': 'Chico Science & Nação Zumbi', 'album': 'Afrociberdelia', 'genre': 'Latin'}, {'artist': 'Chico Science & Nação Zumbi', 'album': 'Afrociberdelia', 'genre': 'Latin'}, {'artist': 'Chico Science & Nação Zumbi', 'album': 'Da Lama Ao Caos', 'genre': 'Latin'}, {'artist': 'Chico Science & Nação Zumbi', 'album': 'Da Lama Ao Caos', 'genre': 'Latin'}, {'artist': 'Chico Science & Nação Zumbi', 'album': 'Da Lama Ao Caos', 'genre': 'Latin'}, {'artist': 'Chico Science & Nação Zumbi', 'album': 'Da Lama Ao Caos', 'genre': 'Latin'}, {'artist': 'Chico Science & Nação Zumbi', 'album': 'Da Lama Ao Caos', 'genre': 'Latin'}  ... displaying 10 of 50 total bound parameter sets ...  {'artist': 'Cidade Negra', 'album': 'Cidade Negra - Hits', 'genre': 'Reggae'}, {'artist': 'Cidade Negra', 'album': 'Cidade Negra - Hits', 'genre': 'Reggae'})\n",
      "2021-12-04 23:54:18,143 INFO sqlalchemy.engine.base.Engine INSERT INTO jch5x8.album (artist, album, genre) VALUES (%(artist)s, %(album)s, %(genre)s)\n",
      "2021-12-04 23:54:18,144 INFO sqlalchemy.engine.base.Engine ({'artist': 'Cidade Negra', 'album': 'Cidade Negra - Hits', 'genre': 'Reggae'}, {'artist': 'Cidade Negra', 'album': 'Cidade Negra - Hits', 'genre': 'Reggae'}, {'artist': 'Cidade Negra', 'album': 'Cidade Negra - Hits', 'genre': 'Reggae'}, {'artist': 'Cidade Negra', 'album': 'Cidade Negra - Hits', 'genre': 'Reggae'}, {'artist': 'Cidade Negra', 'album': 'Cidade Negra - Hits', 'genre': 'Reggae'}, {'artist': 'Cidade Negra', 'album': 'Cidade Negra - Hits', 'genre': 'Reggae'}, {'artist': 'Cidade Negra', 'album': 'Cidade Negra - Hits', 'genre': 'Reggae'}, {'artist': 'Cidade Negra', 'album': 'Cidade Negra - Hits', 'genre': 'Reggae'}  ... displaying 10 of 50 total bound parameter sets ...  {'artist': 'Led Zeppelin', 'album': 'BBC Sessions [Disc 1] [Live]', 'genre': 'Rock'}, {'artist': 'Led Zeppelin', 'album': 'BBC Sessions [Disc 1] [Live]', 'genre': 'Rock'})\n",
      "2021-12-04 23:54:18,155 INFO sqlalchemy.engine.base.Engine INSERT INTO jch5x8.album (artist, album, genre) VALUES (%(artist)s, %(album)s, %(genre)s)\n",
      "2021-12-04 23:54:18,156 INFO sqlalchemy.engine.base.Engine ({'artist': 'Led Zeppelin', 'album': 'BBC Sessions [Disc 1] [Live]', 'genre': 'Rock'}, {'artist': 'Led Zeppelin', 'album': 'BBC Sessions [Disc 1] [Live]', 'genre': 'Rock'}, {'artist': 'Led Zeppelin', 'album': 'BBC Sessions [Disc 1] [Live]', 'genre': 'Rock'}, {'artist': 'Led Zeppelin', 'album': 'BBC Sessions [Disc 1] [Live]', 'genre': 'Rock'}, {'artist': 'Led Zeppelin', 'album': 'BBC Sessions [Disc 1] [Live]', 'genre': 'Rock'}, {'artist': 'Led Zeppelin', 'album': 'BBC Sessions [Disc 1] [Live]', 'genre': 'Rock'}, {'artist': 'Led Zeppelin', 'album': 'BBC Sessions [Disc 1] [Live]', 'genre': 'Rock'}, {'artist': 'Led Zeppelin', 'album': 'BBC Sessions [Disc 1] [Live]', 'genre': 'Rock'}  ... displaying 10 of 50 total bound parameter sets ...  {'artist': 'Various Artists', 'album': 'Carnaval 2001', 'genre': 'Soundtrack'}, {'artist': 'Marcos Valle', 'album': 'Chill: Brazil (Disc 1)', 'genre': 'Latin'})\n",
      "2021-12-04 23:54:18,165 INFO sqlalchemy.engine.base.Engine INSERT INTO jch5x8.album (artist, album, genre) VALUES (%(artist)s, %(album)s, %(genre)s)\n",
      "2021-12-04 23:54:18,166 INFO sqlalchemy.engine.base.Engine ({'artist': 'Marcos Valle', 'album': 'Chill: Brazil (Disc 1)', 'genre': 'Latin'}, {'artist': 'Marcos Valle', 'album': 'Chill: Brazil (Disc 1)', 'genre': 'Latin'}, {'artist': 'Marcos Valle', 'album': 'Chill: Brazil (Disc 1)', 'genre': 'Latin'}, {'artist': 'Marcos Valle', 'album': 'Chill: Brazil (Disc 1)', 'genre': 'Latin'}, {'artist': 'Marcos Valle', 'album': 'Chill: Brazil (Disc 1)', 'genre': 'Latin'}, {'artist': 'Marcos Valle', 'album': 'Chill: Brazil (Disc 1)', 'genre': 'Latin'}, {'artist': 'Marcos Valle', 'album': 'Chill: Brazil (Disc 1)', 'genre': 'Latin'}, {'artist': 'Marcos Valle', 'album': 'Chill: Brazil (Disc 1)', 'genre': 'Latin'}  ... displaying 10 of 50 total bound parameter sets ...  {'artist': 'Metallica', 'album': 'Garage Inc. (Disc 1)', 'genre': 'Metal'}, {'artist': 'Metallica', 'album': 'Garage Inc. (Disc 1)', 'genre': 'Metal'})\n",
      "2021-12-04 23:54:18,176 INFO sqlalchemy.engine.base.Engine INSERT INTO jch5x8.album (artist, album, genre) VALUES (%(artist)s, %(album)s, %(genre)s)\n",
      "2021-12-04 23:54:18,177 INFO sqlalchemy.engine.base.Engine ({'artist': 'Metallica', 'album': 'Garage Inc. (Disc 1)', 'genre': 'Metal'}, {'artist': 'Metallica', 'album': 'Garage Inc. (Disc 1)', 'genre': 'Metal'}, {'artist': 'Metallica', 'album': 'Garage Inc. (Disc 1)', 'genre': 'Metal'}, {'artist': 'Metallica', 'album': 'Garage Inc. (Disc 1)', 'genre': 'Metal'}, {'artist': 'Metallica', 'album': 'Garage Inc. (Disc 1)', 'genre': 'Metal'}, {'artist': 'Metallica', 'album': 'Garage Inc. (Disc 1)', 'genre': 'Metal'}, {'artist': 'Metallica', 'album': 'Garage Inc. (Disc 1)', 'genre': 'Metal'}, {'artist': 'Queen', 'album': 'Greatest Hits II', 'genre': 'Rock'}  ... displaying 10 of 50 total bound parameter sets ...  {'artist': 'Kiss', 'album': 'Greatest Kiss', 'genre': 'Rock'}, {'artist': 'Kiss', 'album': 'Greatest Kiss', 'genre': 'Rock'})\n",
      "2021-12-04 23:54:18,188 INFO sqlalchemy.engine.base.Engine INSERT INTO jch5x8.album (artist, album, genre) VALUES (%(artist)s, %(album)s, %(genre)s)\n",
      "2021-12-04 23:54:18,189 INFO sqlalchemy.engine.base.Engine ({'artist': 'Kiss', 'album': 'Greatest Kiss', 'genre': 'Rock'}, {'artist': 'Kiss', 'album': 'Greatest Kiss', 'genre': 'Rock'}, {'artist': 'Kiss', 'album': 'Greatest Kiss', 'genre': 'Rock'}, {'artist': 'Kiss', 'album': 'Greatest Kiss', 'genre': 'Rock'}, {'artist': 'Kiss', 'album': 'Greatest Kiss', 'genre': 'Rock'}, {'artist': 'Kiss', 'album': 'Greatest Kiss', 'genre': 'Rock'}, {'artist': 'Kiss', 'album': 'Greatest Kiss', 'genre': 'Rock'}, {'artist': 'Kiss', 'album': 'Greatest Kiss', 'genre': 'Rock'}  ... displaying 10 of 50 total bound parameter sets ...  {'artist': 'Green Day', 'album': 'International Superhits', 'genre': 'Alternative & Punk'}, {'artist': 'Green Day', 'album': 'International Superhits', 'genre': 'Alternative & Punk'})\n",
      "2021-12-04 23:54:18,205 INFO sqlalchemy.engine.base.Engine INSERT INTO jch5x8.album (artist, album, genre) VALUES (%(artist)s, %(album)s, %(genre)s)\n",
      "2021-12-04 23:54:18,205 INFO sqlalchemy.engine.base.Engine ({'artist': 'Green Day', 'album': 'International Superhits', 'genre': 'Alternative & Punk'}, {'artist': 'Green Day', 'album': 'International Superhits', 'genre': 'Alternative & Punk'}, {'artist': 'Green Day', 'album': 'International Superhits', 'genre': 'Alternative & Punk'}, {'artist': 'Green Day', 'album': 'International Superhits', 'genre': 'Alternative & Punk'}, {'artist': 'Green Day', 'album': 'International Superhits', 'genre': 'Alternative & Punk'}, {'artist': 'Green Day', 'album': 'International Superhits', 'genre': 'Alternative & Punk'}, {'artist': 'Green Day', 'album': 'International Superhits', 'genre': 'Alternative & Punk'}, {'artist': 'Green Day', 'album': 'International Superhits', 'genre': 'Alternative & Punk'}  ... displaying 10 of 50 total bound parameter sets ...  {'artist': 'Gonzaguinha', 'album': 'Meus Momentos', 'genre': 'Latin'}, {'artist': 'Gonzaguinha', 'album': 'Meus Momentos', 'genre': 'Latin'})\n",
      "2021-12-04 23:54:18,215 INFO sqlalchemy.engine.base.Engine INSERT INTO jch5x8.album (artist, album, genre) VALUES (%(artist)s, %(album)s, %(genre)s)\n",
      "2021-12-04 23:54:18,215 INFO sqlalchemy.engine.base.Engine ({'artist': 'Gonzaguinha', 'album': 'Meus Momentos', 'genre': 'Latin'}, {'artist': 'Gonzaguinha', 'album': 'Meus Momentos', 'genre': 'Latin'}, {'artist': 'Gonzaguinha', 'album': 'Meus Momentos', 'genre': 'Latin'}, {'artist': 'Gonzaguinha', 'album': 'Meus Momentos', 'genre': 'Latin'}, {'artist': 'Gonzaguinha', 'album': 'Meus Momentos', 'genre': 'Latin'}, {'artist': 'Gonzaguinha', 'album': 'Meus Momentos', 'genre': 'Latin'}, {'artist': 'Gonzaguinha', 'album': 'Meus Momentos', 'genre': 'Latin'}, {'artist': 'Gonzaguinha', 'album': 'Meus Momentos', 'genre': 'Latin'}  ... displaying 10 of 50 total bound parameter sets ...  {'artist': 'Chico Buarque', 'album': 'Minha Historia', 'genre': 'Latin'}, {'artist': 'Os Mutantes', 'album': 'Minha História', 'genre': 'Alternative & Punk'})\n"
     ]
    },
    {
     "name": "stdout",
     "output_type": "stream",
     "text": [
      "2021-12-04 23:54:18,233 INFO sqlalchemy.engine.base.Engine INSERT INTO jch5x8.album (artist, album, genre) VALUES (%(artist)s, %(album)s, %(genre)s)\n",
      "2021-12-04 23:54:18,233 INFO sqlalchemy.engine.base.Engine ({'artist': 'Os Mutantes', 'album': 'Minha História', 'genre': 'Alternative & Punk'}, {'artist': 'Os Mutantes', 'album': 'Minha História', 'genre': 'Alternative & Punk'}, {'artist': 'Os Mutantes', 'album': 'Minha História', 'genre': 'Alternative & Punk'}, {'artist': 'Os Mutantes', 'album': 'Minha História', 'genre': 'Alternative & Punk'}, {'artist': 'Os Mutantes', 'album': 'Minha História', 'genre': 'Alternative & Punk'}, {'artist': 'Os Mutantes', 'album': 'Minha História', 'genre': 'Alternative & Punk'}, {'artist': 'Os Mutantes', 'album': 'Minha História', 'genre': 'Alternative & Punk'}, {'artist': 'Os Mutantes', 'album': 'Minha História', 'genre': 'Alternative & Punk'}  ... displaying 10 of 50 total bound parameter sets ...  {'artist': 'Santana', 'album': 'Supernatural', 'genre': 'Rock'}, {'artist': 'Santana', 'album': 'Supernatural', 'genre': 'Rock'})\n",
      "2021-12-04 23:54:18,242 INFO sqlalchemy.engine.base.Engine INSERT INTO jch5x8.album (artist, album, genre) VALUES (%(artist)s, %(album)s, %(genre)s)\n",
      "2021-12-04 23:54:18,243 INFO sqlalchemy.engine.base.Engine ({'artist': 'Santana', 'album': 'Supernatural', 'genre': 'Rock'}, {'artist': 'Santana', 'album': 'Supernatural', 'genre': 'Rock'}, {'artist': 'Santana', 'album': 'Supernatural', 'genre': 'Rock'}, {'artist': 'Santana', 'album': 'Supernatural', 'genre': 'Rock'}, {'artist': 'Santana', 'album': 'Supernatural', 'genre': 'Rock'}, {'artist': 'Santana', 'album': 'Supernatural', 'genre': 'Rock'}, {'artist': 'Santana', 'album': 'Supernatural', 'genre': 'Rock'}, {'artist': 'Santana', 'album': 'Supernatural', 'genre': 'Rock'}  ... displaying 10 of 50 total bound parameter sets ...  {'artist': 'Miles Davis', 'album': 'The Essential Miles Davis [Disc 1]', 'genre': 'Jazz'}, {'artist': 'Miles Davis', 'album': 'The Essential Miles Davis [Disc 1]', 'genre': 'Jazz'})\n",
      "2021-12-04 23:54:18,252 INFO sqlalchemy.engine.base.Engine INSERT INTO jch5x8.album (artist, album, genre) VALUES (%(artist)s, %(album)s, %(genre)s)\n",
      "2021-12-04 23:54:18,253 INFO sqlalchemy.engine.base.Engine ({'artist': 'Miles Davis', 'album': 'The Essential Miles Davis [Disc 1]', 'genre': 'Jazz'}, {'artist': 'Miles Davis', 'album': 'The Essential Miles Davis [Disc 1]', 'genre': 'Jazz'}, {'artist': 'Miles Davis', 'album': 'The Essential Miles Davis [Disc 1]', 'genre': 'Jazz'}, {'artist': 'Miles Davis', 'album': 'The Essential Miles Davis [Disc 1]', 'genre': 'Jazz'}, {'artist': 'Miles Davis', 'album': 'The Essential Miles Davis [Disc 1]', 'genre': 'Jazz'}, {'artist': 'Miles Davis', 'album': 'The Essential Miles Davis [Disc 1]', 'genre': 'Jazz'}, {'artist': 'Miles Davis', 'album': 'The Essential Miles Davis [Disc 1]', 'genre': 'Jazz'}, {'artist': 'Miles Davis', 'album': 'The Essential Miles Davis [Disc 1]', 'genre': 'Jazz'}  ... displaying 10 of 50 total bound parameter sets ...  {'artist': 'Toquinho & Vinícius', 'album': 'Vinícius De Moraes - Sem Limite', 'genre': 'Bossa Nova'}, {'artist': 'Toquinho & Vinícius', 'album': 'Vinícius De Moraes - Sem Limite', 'genre': 'Bossa Nova'})\n",
      "2021-12-04 23:54:18,262 INFO sqlalchemy.engine.base.Engine INSERT INTO jch5x8.album (artist, album, genre) VALUES (%(artist)s, %(album)s, %(genre)s)\n",
      "2021-12-04 23:54:18,263 INFO sqlalchemy.engine.base.Engine ({'artist': 'Toquinho & Vinícius', 'album': 'Vinícius De Moraes - Sem Limite', 'genre': 'Bossa Nova'}, {'artist': 'Toquinho & Vinícius', 'album': 'Vinícius De Moraes - Sem Limite', 'genre': 'Bossa Nova'}, {'artist': 'Toquinho & Vinícius', 'album': 'Vinícius De Moraes - Sem Limite', 'genre': 'Bossa Nova'}, {'artist': 'Toquinho & Vinícius', 'album': 'Vinícius De Moraes - Sem Limite', 'genre': 'Bossa Nova'}, {'artist': 'Toquinho & Vinícius', 'album': 'Vinícius De Moraes - Sem Limite', 'genre': 'Bossa Nova'}, {'artist': 'Toquinho & Vinícius', 'album': 'Vinícius De Moraes - Sem Limite', 'genre': 'Bossa Nova'}, {'artist': 'Toquinho & Vinícius', 'album': 'Vinícius De Moraes - Sem Limite', 'genre': 'Bossa Nova'}, {'artist': 'Toquinho & Vinícius', 'album': 'Vinícius De Moraes - Sem Limite', 'genre': 'Bossa Nova'}  ... displaying 10 of 50 total bound parameter sets ...  {'artist': 'Creedence Clearwater Revival', 'album': 'Chronicle, Vol. 2', 'genre': 'Rock'}, {'artist': 'Creedence Clearwater Revival', 'album': 'Chronicle, Vol. 2', 'genre': 'Rock'})\n",
      "2021-12-04 23:54:18,272 INFO sqlalchemy.engine.base.Engine INSERT INTO jch5x8.album (artist, album, genre) VALUES (%(artist)s, %(album)s, %(genre)s)\n",
      "2021-12-04 23:54:18,273 INFO sqlalchemy.engine.base.Engine ({'artist': 'Creedence Clearwater Revival', 'album': 'Chronicle, Vol. 2', 'genre': 'Rock'}, {'artist': 'Creedence Clearwater Revival', 'album': 'Chronicle, Vol. 2', 'genre': 'Rock'}, {'artist': 'Creedence Clearwater Revival', 'album': 'Chronicle, Vol. 2', 'genre': 'Rock'}, {'artist': 'Creedence Clearwater Revival', 'album': 'Chronicle, Vol. 2', 'genre': 'Rock'}, {'artist': 'Creedence Clearwater Revival', 'album': 'Chronicle, Vol. 2', 'genre': 'Rock'}, {'artist': 'Creedence Clearwater Revival', 'album': 'Chronicle, Vol. 2', 'genre': 'Rock'}, {'artist': 'Creedence Clearwater Revival', 'album': 'Chronicle, Vol. 2', 'genre': 'Rock'}, {'artist': 'Creedence Clearwater Revival', 'album': 'Chronicle, Vol. 2', 'genre': 'Rock'}  ... displaying 10 of 50 total bound parameter sets ...  {'artist': 'Deep Purple', 'album': 'Come Taste The Band', 'genre': 'Rock'}, {'artist': 'Deep Purple', 'album': 'Come Taste The Band', 'genre': 'Rock'})\n",
      "2021-12-04 23:54:18,282 INFO sqlalchemy.engine.base.Engine INSERT INTO jch5x8.album (artist, album, genre) VALUES (%(artist)s, %(album)s, %(genre)s)\n",
      "2021-12-04 23:54:18,283 INFO sqlalchemy.engine.base.Engine ({'artist': 'Deep Purple', 'album': 'Come Taste The Band', 'genre': 'Rock'}, {'artist': 'Deep Purple', 'album': 'Come Taste The Band', 'genre': 'Rock'}, {'artist': 'Deep Purple', 'album': 'Come Taste The Band', 'genre': 'Rock'}, {'artist': 'Deep Purple', 'album': 'Come Taste The Band', 'genre': 'Rock'}, {'artist': 'Deep Purple', 'album': 'Deep Purple In Rock', 'genre': 'Rock'}, {'artist': 'Deep Purple', 'album': 'Deep Purple In Rock', 'genre': 'Rock'}, {'artist': 'Deep Purple', 'album': 'Deep Purple In Rock', 'genre': 'Rock'}, {'artist': 'Deep Purple', 'album': 'Deep Purple In Rock', 'genre': 'Rock'}  ... displaying 10 of 50 total bound parameter sets ...  {'artist': 'Deep Purple', 'album': 'Purpendicular', 'genre': 'Rock'}, {'artist': 'Deep Purple', 'album': 'Purpendicular', 'genre': 'Rock'})\n",
      "2021-12-04 23:54:18,292 INFO sqlalchemy.engine.base.Engine INSERT INTO jch5x8.album (artist, album, genre) VALUES (%(artist)s, %(album)s, %(genre)s)\n",
      "2021-12-04 23:54:18,292 INFO sqlalchemy.engine.base.Engine ({'artist': 'Deep Purple', 'album': 'Purpendicular', 'genre': 'Rock'}, {'artist': 'Deep Purple', 'album': 'Purpendicular', 'genre': 'Rock'}, {'artist': 'Deep Purple', 'album': 'Purpendicular', 'genre': 'Rock'}, {'artist': 'Deep Purple', 'album': 'Purpendicular', 'genre': 'Rock'}, {'artist': 'Deep Purple', 'album': 'Purpendicular', 'genre': 'Rock'}, {'artist': 'Deep Purple', 'album': 'Purpendicular', 'genre': 'Rock'}, {'artist': 'Deep Purple', 'album': 'Purpendicular', 'genre': 'Rock'}, {'artist': 'Deep Purple', 'album': 'Purpendicular', 'genre': 'Rock'}  ... displaying 10 of 50 total bound parameter sets ...  {'artist': 'Deep Purple', 'album': 'The Battle Rages On', 'genre': 'Rock'}, {'artist': 'Deep Purple', 'album': 'The Battle Rages On', 'genre': 'Rock'})\n",
      "2021-12-04 23:54:18,301 INFO sqlalchemy.engine.base.Engine INSERT INTO jch5x8.album (artist, album, genre) VALUES (%(artist)s, %(album)s, %(genre)s)\n",
      "2021-12-04 23:54:18,302 INFO sqlalchemy.engine.base.Engine ({'artist': 'Deep Purple', 'album': 'The Battle Rages On', 'genre': 'Rock'}, {'artist': 'Deep Purple', 'album': 'The Battle Rages On', 'genre': 'Rock'}, {'artist': 'Deep Purple', 'album': 'The Battle Rages On', 'genre': 'Rock'}, {'artist': 'Deep Purple', 'album': 'The Battle Rages On', 'genre': 'Rock'}, {'artist': 'Deep Purple', 'album': 'The Battle Rages On', 'genre': 'Rock'}, {'artist': 'Deep Purple', 'album': 'The Battle Rages On', 'genre': 'Rock'}, {'artist': 'Deep Purple', 'album': 'The Battle Rages On', 'genre': 'Rock'}, {'artist': 'Deep Purple', 'album': 'The Battle Rages On', 'genre': 'Rock'}  ... displaying 10 of 50 total bound parameter sets ...  {'artist': 'Def Leppard', 'album': \"Vault: Def Leppard's Greatest Hits\", 'genre': 'Rock'}, {'artist': 'Def Leppard', 'album': \"Vault: Def Leppard's Greatest Hits\", 'genre': 'Rock'})\n"
     ]
    },
    {
     "name": "stdout",
     "output_type": "stream",
     "text": [
      "2021-12-04 23:54:18,311 INFO sqlalchemy.engine.base.Engine INSERT INTO jch5x8.album (artist, album, genre) VALUES (%(artist)s, %(album)s, %(genre)s)\n",
      "2021-12-04 23:54:18,312 INFO sqlalchemy.engine.base.Engine ({'artist': 'Dennis Chambers', 'album': 'Outbreak', 'genre': 'Jazz'}, {'artist': 'Dennis Chambers', 'album': 'Outbreak', 'genre': 'Jazz'}, {'artist': 'Dennis Chambers', 'album': 'Outbreak', 'genre': 'Jazz'}, {'artist': 'Dennis Chambers', 'album': 'Outbreak', 'genre': 'Jazz'}, {'artist': 'Dennis Chambers', 'album': 'Outbreak', 'genre': 'Jazz'}, {'artist': 'Dennis Chambers', 'album': 'Outbreak', 'genre': 'Jazz'}, {'artist': 'Dennis Chambers', 'album': 'Outbreak', 'genre': 'Jazz'}, {'artist': 'Dennis Chambers', 'album': 'Outbreak', 'genre': 'Jazz'}  ... displaying 10 of 50 total bound parameter sets ...  {'artist': 'Djavan', 'album': 'Djavan Ao Vivo - Vol. 1', 'genre': 'Latin'}, {'artist': 'Djavan', 'album': 'Djavan Ao Vivo - Vol. 1', 'genre': 'Latin'})\n",
      "2021-12-04 23:54:18,321 INFO sqlalchemy.engine.base.Engine INSERT INTO jch5x8.album (artist, album, genre) VALUES (%(artist)s, %(album)s, %(genre)s)\n",
      "2021-12-04 23:54:18,322 INFO sqlalchemy.engine.base.Engine ({'artist': 'Djavan', 'album': 'Djavan Ao Vivo - Vol. 1', 'genre': 'Latin'}, {'artist': 'Djavan', 'album': 'Djavan Ao Vivo - Vol. 1', 'genre': 'Latin'}, {'artist': 'Djavan', 'album': 'Djavan Ao Vivo - Vol. 1', 'genre': 'Latin'}, {'artist': 'Djavan', 'album': 'Djavan Ao Vivo - Vol. 1', 'genre': 'Latin'}, {'artist': 'Djavan', 'album': 'Djavan Ao Vivo - Vol. 1', 'genre': 'Latin'}, {'artist': 'Djavan', 'album': 'Djavan Ao Vivo - Vol. 1', 'genre': 'Latin'}, {'artist': 'Djavan', 'album': 'Djavan Ao Vivo - Vol. 1', 'genre': 'Latin'}, {'artist': 'Djavan', 'album': 'Djavan Ao Vivo - Vol. 1', 'genre': 'Latin'}  ... displaying 10 of 50 total bound parameter sets ...  {'artist': 'Eric Clapton', 'album': 'The Cream Of Clapton', 'genre': 'Blues'}, {'artist': 'Eric Clapton', 'album': 'The Cream Of Clapton', 'genre': 'Blues'})\n",
      "2021-12-04 23:54:18,331 INFO sqlalchemy.engine.base.Engine INSERT INTO jch5x8.album (artist, album, genre) VALUES (%(artist)s, %(album)s, %(genre)s)\n",
      "2021-12-04 23:54:18,332 INFO sqlalchemy.engine.base.Engine ({'artist': 'Eric Clapton', 'album': 'The Cream Of Clapton', 'genre': 'Blues'}, {'artist': 'Eric Clapton', 'album': 'The Cream Of Clapton', 'genre': 'Blues'}, {'artist': 'Eric Clapton', 'album': 'The Cream Of Clapton', 'genre': 'Blues'}, {'artist': 'Eric Clapton', 'album': 'The Cream Of Clapton', 'genre': 'Blues'}, {'artist': 'Eric Clapton', 'album': 'The Cream Of Clapton', 'genre': 'Blues'}, {'artist': 'Eric Clapton', 'album': 'The Cream Of Clapton', 'genre': 'Blues'}, {'artist': 'Eric Clapton', 'album': 'The Cream Of Clapton', 'genre': 'Blues'}, {'artist': 'Eric Clapton', 'album': 'The Cream Of Clapton', 'genre': 'Blues'}  ... displaying 10 of 50 total bound parameter sets ...  {'artist': 'Faith No More', 'album': 'Album Of The Year', 'genre': 'Alternative & Punk'}, {'artist': 'Faith No More', 'album': 'Album Of The Year', 'genre': 'Alternative & Punk'})\n",
      "2021-12-04 23:54:18,347 INFO sqlalchemy.engine.base.Engine INSERT INTO jch5x8.album (artist, album, genre) VALUES (%(artist)s, %(album)s, %(genre)s)\n",
      "2021-12-04 23:54:18,348 INFO sqlalchemy.engine.base.Engine ({'artist': 'Faith No More', 'album': 'Album Of The Year', 'genre': 'Alternative & Punk'}, {'artist': 'Faith No More', 'album': 'Album Of The Year', 'genre': 'Alternative & Punk'}, {'artist': 'Faith No More', 'album': 'Album Of The Year', 'genre': 'Alternative & Punk'}, {'artist': 'Faith No More', 'album': 'Album Of The Year', 'genre': 'Alternative & Punk'}, {'artist': 'Faith No More', 'album': 'Album Of The Year', 'genre': 'Alternative & Punk'}, {'artist': 'Faith No More', 'album': 'Album Of The Year', 'genre': 'Alternative & Punk'}, {'artist': 'Faith No More', 'album': 'Album Of The Year', 'genre': 'Alternative & Punk'}, {'artist': 'Faith No More', 'album': 'Album Of The Year', 'genre': 'Alternative & Punk'}  ... displaying 10 of 50 total bound parameter sets ...  {'artist': 'Faith No More', 'album': 'Angel Dust', 'genre': 'Alternative & Punk'}, {'artist': 'Faith No More', 'album': 'King For A Day Fool For A Lifetime', 'genre': 'Rock'})\n",
      "2021-12-04 23:54:18,358 INFO sqlalchemy.engine.base.Engine INSERT INTO jch5x8.album (artist, album, genre) VALUES (%(artist)s, %(album)s, %(genre)s)\n",
      "2021-12-04 23:54:18,359 INFO sqlalchemy.engine.base.Engine ({'artist': 'Faith No More', 'album': 'King For A Day Fool For A Lifetime', 'genre': 'Rock'}, {'artist': 'Faith No More', 'album': 'King For A Day Fool For A Lifetime', 'genre': 'Rock'}, {'artist': 'Faith No More', 'album': 'King For A Day Fool For A Lifetime', 'genre': 'Rock'}, {'artist': 'Faith No More', 'album': 'King For A Day Fool For A Lifetime', 'genre': 'Rock'}, {'artist': 'Faith No More', 'album': 'King For A Day Fool For A Lifetime', 'genre': 'Rock'}, {'artist': 'Faith No More', 'album': 'King For A Day Fool For A Lifetime', 'genre': 'Rock'}, {'artist': 'Faith No More', 'album': 'King For A Day Fool For A Lifetime', 'genre': 'Rock'}, {'artist': 'Faith No More', 'album': 'King For A Day Fool For A Lifetime', 'genre': 'Rock'}  ... displaying 10 of 50 total bound parameter sets ...  {'artist': 'Falamansa', 'album': 'Deixa Entrar', 'genre': 'Latin'}, {'artist': 'Falamansa', 'album': 'Deixa Entrar', 'genre': 'Latin'})\n",
      "2021-12-04 23:54:18,368 INFO sqlalchemy.engine.base.Engine INSERT INTO jch5x8.album (artist, album, genre) VALUES (%(artist)s, %(album)s, %(genre)s)\n",
      "2021-12-04 23:54:18,369 INFO sqlalchemy.engine.base.Engine ({'artist': 'Falamansa', 'album': 'Deixa Entrar', 'genre': 'Latin'}, {'artist': 'Falamansa', 'album': 'Deixa Entrar', 'genre': 'Latin'}, {'artist': 'Falamansa', 'album': 'Deixa Entrar', 'genre': 'Latin'}, {'artist': 'Falamansa', 'album': 'Deixa Entrar', 'genre': 'Latin'}, {'artist': 'Falamansa', 'album': 'Deixa Entrar', 'genre': 'Latin'}, {'artist': 'Falamansa', 'album': 'Deixa Entrar', 'genre': 'Latin'}, {'artist': 'Falamansa', 'album': 'Deixa Entrar', 'genre': 'Latin'}, {'artist': 'Falamansa', 'album': 'Deixa Entrar', 'genre': 'Latin'}  ... displaying 10 of 50 total bound parameter sets ...  {'artist': 'Foo Fighters', 'album': 'The Colour And The Shape', 'genre': 'Rock'}, {'artist': 'Foo Fighters', 'album': 'The Colour And The Shape', 'genre': 'Rock'})\n",
      "2021-12-04 23:54:18,380 INFO sqlalchemy.engine.base.Engine INSERT INTO jch5x8.album (artist, album, genre) VALUES (%(artist)s, %(album)s, %(genre)s)\n",
      "2021-12-04 23:54:18,380 INFO sqlalchemy.engine.base.Engine ({'artist': 'Foo Fighters', 'album': 'The Colour And The Shape', 'genre': 'Rock'}, {'artist': 'Foo Fighters', 'album': 'The Colour And The Shape', 'genre': 'Rock'}, {'artist': 'Foo Fighters', 'album': 'The Colour And The Shape', 'genre': 'Rock'}, {'artist': 'Foo Fighters', 'album': 'The Colour And The Shape', 'genre': 'Rock'}, {'artist': 'Foo Fighters', 'album': 'The Colour And The Shape', 'genre': 'Rock'}, {'artist': 'Foo Fighters', 'album': 'The Colour And The Shape', 'genre': 'Rock'}, {'artist': 'Foo Fighters', 'album': 'The Colour And The Shape', 'genre': 'Rock'}, {'artist': 'Foo Fighters', 'album': 'The Colour And The Shape', 'genre': 'Rock'}  ... displaying 10 of 50 total bound parameter sets ...  {'artist': 'Funk Como Le Gusta', 'album': 'Roda De Funk', 'genre': 'Latin'}, {'artist': 'Funk Como Le Gusta', 'album': 'Roda De Funk', 'genre': 'Latin'})\n",
      "2021-12-04 23:54:18,391 INFO sqlalchemy.engine.base.Engine INSERT INTO jch5x8.album (artist, album, genre) VALUES (%(artist)s, %(album)s, %(genre)s)\n",
      "2021-12-04 23:54:18,392 INFO sqlalchemy.engine.base.Engine ({'artist': 'Funk Como Le Gusta', 'album': 'Roda De Funk', 'genre': 'Latin'}, {'artist': 'Funk Como Le Gusta', 'album': 'Roda De Funk', 'genre': 'Latin'}, {'artist': 'Funk Como Le Gusta', 'album': 'Roda De Funk', 'genre': 'Latin'}, {'artist': 'Funk Como Le Gusta', 'album': 'Roda De Funk', 'genre': 'Latin'}, {'artist': 'Funk Como Le Gusta', 'album': 'Roda De Funk', 'genre': 'Latin'}, {'artist': 'Funk Como Le Gusta', 'album': 'Roda De Funk', 'genre': 'Latin'}, {'artist': 'Funk Como Le Gusta', 'album': 'Roda De Funk', 'genre': 'Latin'}, {'artist': 'Funk Como Le Gusta', 'album': 'Roda De Funk', 'genre': 'Latin'}  ... displaying 10 of 50 total bound parameter sets ...  {'artist': 'Gilberto Gil', 'album': 'Quanta Gente Veio Ver (Live)', 'genre': 'Latin'}, {'artist': 'Gilberto Gil', 'album': 'Quanta Gente Veio Ver (Live)', 'genre': 'Latin'})\n"
     ]
    },
    {
     "name": "stdout",
     "output_type": "stream",
     "text": [
      "2021-12-04 23:54:18,402 INFO sqlalchemy.engine.base.Engine INSERT INTO jch5x8.album (artist, album, genre) VALUES (%(artist)s, %(album)s, %(genre)s)\n",
      "2021-12-04 23:54:18,402 INFO sqlalchemy.engine.base.Engine ({'artist': 'Gilberto Gil', 'album': 'Quanta Gente Veio Ver (Live)', 'genre': 'Latin'}, {'artist': 'Gilberto Gil', 'album': 'Quanta Gente Veio Ver (Live)', 'genre': 'Latin'}, {'artist': 'Gilberto Gil', 'album': 'Quanta Gente Veio Ver (Live)', 'genre': 'Latin'}, {'artist': 'Gilberto Gil', 'album': 'Quanta Gente Veio Ver (Live)', 'genre': 'Latin'}, {'artist': 'Gilberto Gil', 'album': 'Quanta Gente Veio Ver (Live)', 'genre': 'Latin'}, {'artist': 'Gilberto Gil', 'album': 'Quanta Gente Veio Ver (Live)', 'genre': 'Latin'}, {'artist': 'Gilberto Gil', 'album': 'Quanta Gente Veio Ver (Live)', 'genre': 'Latin'}, {'artist': 'Gilberto Gil', 'album': 'Quanta Gente Veio Ver (Live)', 'genre': 'Latin'}  ... displaying 10 of 50 total bound parameter sets ...  {'artist': 'Eric Clapton', 'album': 'Unplugged', 'genre': 'Latin'}, {'artist': 'Eric Clapton', 'album': 'Unplugged', 'genre': 'Latin'})\n",
      "2021-12-04 23:54:18,412 INFO sqlalchemy.engine.base.Engine INSERT INTO jch5x8.album (artist, album, genre) VALUES (%(artist)s, %(album)s, %(genre)s)\n",
      "2021-12-04 23:54:18,412 INFO sqlalchemy.engine.base.Engine ({'artist': 'Eric Clapton', 'album': 'Unplugged', 'genre': 'Latin'}, {'artist': 'Eric Clapton', 'album': 'Unplugged', 'genre': 'Latin'}, {'artist': 'Eric Clapton', 'album': 'Unplugged', 'genre': 'Latin'}, {'artist': 'Eric Clapton', 'album': 'Unplugged', 'genre': 'Latin'}, {'artist': 'Eric Clapton', 'album': 'Unplugged', 'genre': 'Latin'}, {'artist': 'Godsmack', 'album': 'Faceless', 'genre': 'Metal'}, {'artist': 'Godsmack', 'album': 'Faceless', 'genre': 'Metal'}, {'artist': 'Godsmack', 'album': 'Faceless', 'genre': 'Metal'}  ... displaying 10 of 50 total bound parameter sets ...  {'artist': \"Guns N' Roses\", 'album': 'Use Your Illusion II', 'genre': 'Metal'}, {'artist': \"Guns N' Roses\", 'album': 'Use Your Illusion II', 'genre': 'Metal'})\n",
      "2021-12-04 23:54:18,421 INFO sqlalchemy.engine.base.Engine INSERT INTO jch5x8.album (artist, album, genre) VALUES (%(artist)s, %(album)s, %(genre)s)\n",
      "2021-12-04 23:54:18,422 INFO sqlalchemy.engine.base.Engine ({'artist': \"Guns N' Roses\", 'album': 'Use Your Illusion II', 'genre': 'Metal'}, {'artist': \"Guns N' Roses\", 'album': 'Use Your Illusion II', 'genre': 'Metal'}, {'artist': \"Guns N' Roses\", 'album': 'Use Your Illusion II', 'genre': 'Metal'}, {'artist': \"Guns N' Roses\", 'album': 'Use Your Illusion II', 'genre': 'Metal'}, {'artist': \"Guns N' Roses\", 'album': 'Use Your Illusion II', 'genre': 'Metal'}, {'artist': \"Guns N' Roses\", 'album': 'Use Your Illusion II', 'genre': 'Metal'}, {'artist': \"Guns N' Roses\", 'album': 'Use Your Illusion II', 'genre': 'Metal'}, {'artist': \"Guns N' Roses\", 'album': 'Use Your Illusion II', 'genre': 'Metal'}  ... displaying 10 of 50 total bound parameter sets ...  {'artist': 'Iron Maiden', 'album': 'A Real Dead One', 'genre': 'Metal'}, {'artist': 'Iron Maiden', 'album': 'A Real Dead One', 'genre': 'Metal'})\n",
      "2021-12-04 23:54:18,431 INFO sqlalchemy.engine.base.Engine INSERT INTO jch5x8.album (artist, album, genre) VALUES (%(artist)s, %(album)s, %(genre)s)\n",
      "2021-12-04 23:54:18,432 INFO sqlalchemy.engine.base.Engine ({'artist': 'Iron Maiden', 'album': 'A Real Dead One', 'genre': 'Metal'}, {'artist': 'Iron Maiden', 'album': 'A Real Dead One', 'genre': 'Metal'}, {'artist': 'Iron Maiden', 'album': 'A Real Dead One', 'genre': 'Metal'}, {'artist': 'Iron Maiden', 'album': 'A Real Dead One', 'genre': 'Metal'}, {'artist': 'Iron Maiden', 'album': 'A Real Dead One', 'genre': 'Metal'}, {'artist': 'Iron Maiden', 'album': 'A Real Dead One', 'genre': 'Metal'}, {'artist': 'Iron Maiden', 'album': 'A Real Dead One', 'genre': 'Metal'}, {'artist': 'Iron Maiden', 'album': 'A Real Dead One', 'genre': 'Metal'}  ... displaying 10 of 50 total bound parameter sets ...  {'artist': 'Iron Maiden', 'album': 'Dance Of Death', 'genre': 'Heavy Metal'}, {'artist': 'Iron Maiden', 'album': 'Dance Of Death', 'genre': 'Heavy Metal'})\n",
      "2021-12-04 23:54:18,441 INFO sqlalchemy.engine.base.Engine INSERT INTO jch5x8.album (artist, album, genre) VALUES (%(artist)s, %(album)s, %(genre)s)\n",
      "2021-12-04 23:54:18,442 INFO sqlalchemy.engine.base.Engine ({'artist': 'Iron Maiden', 'album': 'Dance Of Death', 'genre': 'Heavy Metal'}, {'artist': 'Iron Maiden', 'album': 'Fear Of The Dark', 'genre': 'Rock'}, {'artist': 'Iron Maiden', 'album': 'Fear Of The Dark', 'genre': 'Rock'}, {'artist': 'Iron Maiden', 'album': 'Fear Of The Dark', 'genre': 'Rock'}, {'artist': 'Iron Maiden', 'album': 'Fear Of The Dark', 'genre': 'Rock'}, {'artist': 'Iron Maiden', 'album': 'Fear Of The Dark', 'genre': 'Rock'}, {'artist': 'Iron Maiden', 'album': 'Fear Of The Dark', 'genre': 'Rock'}, {'artist': 'Iron Maiden', 'album': 'Fear Of The Dark', 'genre': 'Rock'}  ... displaying 10 of 50 total bound parameter sets ...  {'artist': 'Iron Maiden', 'album': 'Live After Death', 'genre': 'Metal'}, {'artist': 'Iron Maiden', 'album': 'Live After Death', 'genre': 'Metal'})\n",
      "2021-12-04 23:54:18,451 INFO sqlalchemy.engine.base.Engine INSERT INTO jch5x8.album (artist, album, genre) VALUES (%(artist)s, %(album)s, %(genre)s)\n",
      "2021-12-04 23:54:18,452 INFO sqlalchemy.engine.base.Engine ({'artist': 'Iron Maiden', 'album': 'Live After Death', 'genre': 'Metal'}, {'artist': 'Iron Maiden', 'album': 'Live After Death', 'genre': 'Metal'}, {'artist': 'Iron Maiden', 'album': 'Live After Death', 'genre': 'Metal'}, {'artist': 'Iron Maiden', 'album': 'Live After Death', 'genre': 'Metal'}, {'artist': 'Iron Maiden', 'album': 'Live After Death', 'genre': 'Metal'}, {'artist': 'Iron Maiden', 'album': 'Live After Death', 'genre': 'Metal'}, {'artist': 'Iron Maiden', 'album': 'Live After Death', 'genre': 'Metal'}, {'artist': 'Iron Maiden', 'album': 'Live After Death', 'genre': 'Metal'}  ... displaying 10 of 50 total bound parameter sets ...  {'artist': 'Iron Maiden', 'album': 'Live At Donington 1992 (Disc 2)', 'genre': 'Rock'}, {'artist': 'Iron Maiden', 'album': 'Live At Donington 1992 (Disc 2)', 'genre': 'Rock'})\n",
      "2021-12-04 23:54:18,462 INFO sqlalchemy.engine.base.Engine INSERT INTO jch5x8.album (artist, album, genre) VALUES (%(artist)s, %(album)s, %(genre)s)\n",
      "2021-12-04 23:54:18,462 INFO sqlalchemy.engine.base.Engine ({'artist': 'Iron Maiden', 'album': 'Live At Donington 1992 (Disc 2)', 'genre': 'Rock'}, {'artist': 'Iron Maiden', 'album': 'Live At Donington 1992 (Disc 2)', 'genre': 'Rock'}, {'artist': 'Iron Maiden', 'album': 'Live At Donington 1992 (Disc 2)', 'genre': 'Rock'}, {'artist': 'Iron Maiden', 'album': 'Live At Donington 1992 (Disc 2)', 'genre': 'Rock'}, {'artist': 'Iron Maiden', 'album': 'No Prayer For The Dying', 'genre': 'Metal'}, {'artist': 'Iron Maiden', 'album': 'No Prayer For The Dying', 'genre': 'Metal'}, {'artist': 'Iron Maiden', 'album': 'No Prayer For The Dying', 'genre': 'Metal'}, {'artist': 'Iron Maiden', 'album': 'No Prayer For The Dying', 'genre': 'Metal'}  ... displaying 10 of 50 total bound parameter sets ...  {'artist': 'Iron Maiden', 'album': 'Rock In Rio [CD1]', 'genre': 'Metal'}, {'artist': 'Iron Maiden', 'album': 'Rock In Rio [CD1]', 'genre': 'Metal'})\n",
      "2021-12-04 23:54:18,472 INFO sqlalchemy.engine.base.Engine INSERT INTO jch5x8.album (artist, album, genre) VALUES (%(artist)s, %(album)s, %(genre)s)\n",
      "2021-12-04 23:54:18,472 INFO sqlalchemy.engine.base.Engine ({'artist': 'Iron Maiden', 'album': 'Rock In Rio [CD1]', 'genre': 'Metal'}, {'artist': 'Iron Maiden', 'album': 'Rock In Rio [CD1]', 'genre': 'Metal'}, {'artist': 'Iron Maiden', 'album': 'Rock In Rio [CD1]', 'genre': 'Metal'}, {'artist': 'Iron Maiden', 'album': 'Rock In Rio [CD2]', 'genre': 'Rock'}, {'artist': 'Iron Maiden', 'album': 'Rock In Rio [CD2]', 'genre': 'Rock'}, {'artist': 'Iron Maiden', 'album': 'Rock In Rio [CD2]', 'genre': 'Metal'}, {'artist': 'Iron Maiden', 'album': 'Rock In Rio [CD2]', 'genre': 'Rock'}, {'artist': 'Iron Maiden', 'album': 'Rock In Rio [CD2]', 'genre': 'Rock'}  ... displaying 10 of 50 total bound parameter sets ...  {'artist': 'Iron Maiden', 'album': 'The X Factor', 'genre': 'Rock'}, {'artist': 'Iron Maiden', 'album': 'The X Factor', 'genre': 'Rock'})\n"
     ]
    },
    {
     "name": "stdout",
     "output_type": "stream",
     "text": [
      "2021-12-04 23:54:18,481 INFO sqlalchemy.engine.base.Engine INSERT INTO jch5x8.album (artist, album, genre) VALUES (%(artist)s, %(album)s, %(genre)s)\n",
      "2021-12-04 23:54:18,482 INFO sqlalchemy.engine.base.Engine ({'artist': 'Iron Maiden', 'album': 'The X Factor', 'genre': 'Rock'}, {'artist': 'Iron Maiden', 'album': 'The X Factor', 'genre': 'Rock'}, {'artist': 'Iron Maiden', 'album': 'The X Factor', 'genre': 'Rock'}, {'artist': 'Iron Maiden', 'album': 'The X Factor', 'genre': 'Rock'}, {'artist': 'Iron Maiden', 'album': 'The X Factor', 'genre': 'Rock'}, {'artist': 'Iron Maiden', 'album': 'The X Factor', 'genre': 'Rock'}, {'artist': 'Iron Maiden', 'album': 'The X Factor', 'genre': 'Rock'}, {'artist': 'Iron Maiden', 'album': 'The X Factor', 'genre': 'Rock'}  ... displaying 10 of 50 total bound parameter sets ...  {'artist': 'James Brown', 'album': 'Sex Machine', 'genre': 'R&B/Soul'}, {'artist': 'James Brown', 'album': 'Sex Machine', 'genre': 'R&B/Soul'})\n",
      "2021-12-04 23:54:18,497 INFO sqlalchemy.engine.base.Engine INSERT INTO jch5x8.album (artist, album, genre) VALUES (%(artist)s, %(album)s, %(genre)s)\n",
      "2021-12-04 23:54:18,498 INFO sqlalchemy.engine.base.Engine ({'artist': 'James Brown', 'album': 'Sex Machine', 'genre': 'R&B/Soul'}, {'artist': 'James Brown', 'album': 'Sex Machine', 'genre': 'R&B/Soul'}, {'artist': 'James Brown', 'album': 'Sex Machine', 'genre': 'R&B/Soul'}, {'artist': 'James Brown', 'album': 'Sex Machine', 'genre': 'R&B/Soul'}, {'artist': 'James Brown', 'album': 'Sex Machine', 'genre': 'R&B/Soul'}, {'artist': 'James Brown', 'album': 'Sex Machine', 'genre': 'R&B/Soul'}, {'artist': 'James Brown', 'album': 'Sex Machine', 'genre': 'R&B/Soul'}, {'artist': 'James Brown', 'album': 'Sex Machine', 'genre': 'R&B/Soul'}  ... displaying 10 of 50 total bound parameter sets ...  {'artist': 'Jamiroquai', 'album': 'Synkronized', 'genre': 'R&B/Soul'}, {'artist': 'Jamiroquai', 'album': 'Synkronized', 'genre': 'R&B/Soul'})\n",
      "2021-12-04 23:54:18,509 INFO sqlalchemy.engine.base.Engine INSERT INTO jch5x8.album (artist, album, genre) VALUES (%(artist)s, %(album)s, %(genre)s)\n",
      "2021-12-04 23:54:18,510 INFO sqlalchemy.engine.base.Engine ({'artist': 'Jamiroquai', 'album': 'Synkronized', 'genre': 'R&B/Soul'}, {'artist': 'Jamiroquai', 'album': 'Synkronized', 'genre': 'R&B/Soul'}, {'artist': 'Jamiroquai', 'album': 'Synkronized', 'genre': 'R&B/Soul'}, {'artist': 'Jamiroquai', 'album': 'Synkronized', 'genre': 'R&B/Soul'}, {'artist': 'Jamiroquai', 'album': 'Synkronized', 'genre': 'R&B/Soul'}, {'artist': 'Jamiroquai', 'album': 'Synkronized', 'genre': 'R&B/Soul'}, {'artist': 'Jamiroquai', 'album': 'Synkronized', 'genre': 'R&B/Soul'}, {'artist': 'Jamiroquai', 'album': 'Synkronized', 'genre': 'R&B/Soul'}  ... displaying 10 of 50 total bound parameter sets ...  {'artist': 'Jimi Hendrix', 'album': 'Are You Experienced?', 'genre': 'Rock'}, {'artist': 'Jimi Hendrix', 'album': 'Are You Experienced?', 'genre': 'Rock'})\n",
      "2021-12-04 23:54:18,520 INFO sqlalchemy.engine.base.Engine INSERT INTO jch5x8.album (artist, album, genre) VALUES (%(artist)s, %(album)s, %(genre)s)\n",
      "2021-12-04 23:54:18,520 INFO sqlalchemy.engine.base.Engine ({'artist': 'Jimi Hendrix', 'album': 'Are You Experienced?', 'genre': 'Rock'}, {'artist': 'Jimi Hendrix', 'album': 'Are You Experienced?', 'genre': 'Rock'}, {'artist': 'Jimi Hendrix', 'album': 'Are You Experienced?', 'genre': 'Rock'}, {'artist': 'Jimi Hendrix', 'album': 'Are You Experienced?', 'genre': 'Rock'}, {'artist': 'Jimi Hendrix', 'album': 'Are You Experienced?', 'genre': 'Rock'}, {'artist': 'Jimi Hendrix', 'album': 'Are You Experienced?', 'genre': 'Rock'}, {'artist': 'Jimi Hendrix', 'album': 'Are You Experienced?', 'genre': 'Rock'}, {'artist': 'Jimi Hendrix', 'album': 'Are You Experienced?', 'genre': 'Rock'}  ... displaying 10 of 50 total bound parameter sets ...  {'artist': 'Jota Quest', 'album': 'Jota Quest-1995', 'genre': 'Latin'}, {'artist': 'Jota Quest', 'album': 'Jota Quest-1995', 'genre': 'Latin'})\n",
      "2021-12-04 23:54:18,529 INFO sqlalchemy.engine.base.Engine INSERT INTO jch5x8.album (artist, album, genre) VALUES (%(artist)s, %(album)s, %(genre)s)\n",
      "2021-12-04 23:54:18,530 INFO sqlalchemy.engine.base.Engine ({'artist': 'Jota Quest', 'album': 'Jota Quest-1995', 'genre': 'Latin'}, {'artist': 'João Suplicy', 'album': 'Cafezinho', 'genre': 'World'}, {'artist': 'João Suplicy', 'album': 'Cafezinho', 'genre': 'World'}, {'artist': 'João Suplicy', 'album': 'Cafezinho', 'genre': 'World'}, {'artist': 'João Suplicy', 'album': 'Cafezinho', 'genre': 'World'}, {'artist': 'João Suplicy', 'album': 'Cafezinho', 'genre': 'World'}, {'artist': 'João Suplicy', 'album': 'Cafezinho', 'genre': 'World'}, {'artist': 'João Suplicy', 'album': 'Cafezinho', 'genre': 'World'}  ... displaying 10 of 50 total bound parameter sets ...  {'artist': 'Kiss', 'album': 'Unplugged [Live]', 'genre': 'Rock'}, {'artist': 'Kiss', 'album': 'Unplugged [Live]', 'genre': 'Rock'})\n",
      "2021-12-04 23:54:18,540 INFO sqlalchemy.engine.base.Engine INSERT INTO jch5x8.album (artist, album, genre) VALUES (%(artist)s, %(album)s, %(genre)s)\n",
      "2021-12-04 23:54:18,540 INFO sqlalchemy.engine.base.Engine ({'artist': 'Kiss', 'album': 'Unplugged [Live]', 'genre': 'Rock'}, {'artist': 'Kiss', 'album': 'Unplugged [Live]', 'genre': 'Rock'}, {'artist': 'Kiss', 'album': 'Unplugged [Live]', 'genre': 'Rock'}, {'artist': 'Kiss', 'album': 'Unplugged [Live]', 'genre': 'Rock'}, {'artist': 'Kiss', 'album': 'Unplugged [Live]', 'genre': 'Rock'}, {'artist': 'Kiss', 'album': 'Unplugged [Live]', 'genre': 'Rock'}, {'artist': 'Kiss', 'album': 'Unplugged [Live]', 'genre': 'Rock'}, {'artist': 'Kiss', 'album': 'Unplugged [Live]', 'genre': 'Rock'}  ... displaying 10 of 50 total bound parameter sets ...  {'artist': 'Led Zeppelin', 'album': 'In Through The Out Door', 'genre': 'Rock'}, {'artist': 'Led Zeppelin', 'album': 'In Through The Out Door', 'genre': 'Rock'})\n",
      "2021-12-04 23:54:18,550 INFO sqlalchemy.engine.base.Engine INSERT INTO jch5x8.album (artist, album, genre) VALUES (%(artist)s, %(album)s, %(genre)s)\n",
      "2021-12-04 23:54:18,550 INFO sqlalchemy.engine.base.Engine ({'artist': 'Led Zeppelin', 'album': 'In Through The Out Door', 'genre': 'Rock'}, {'artist': 'Led Zeppelin', 'album': 'In Through The Out Door', 'genre': 'Rock'}, {'artist': 'Led Zeppelin', 'album': 'In Through The Out Door', 'genre': 'Rock'}, {'artist': 'Led Zeppelin', 'album': 'In Through The Out Door', 'genre': 'Rock'}, {'artist': 'Led Zeppelin', 'album': 'In Through The Out Door', 'genre': 'Rock'}, {'artist': 'Led Zeppelin', 'album': 'IV', 'genre': 'Rock'}, {'artist': 'Led Zeppelin', 'album': 'IV', 'genre': 'Rock'}, {'artist': 'Led Zeppelin', 'album': 'IV', 'genre': 'Rock'}  ... displaying 10 of 50 total bound parameter sets ...  {'artist': 'Led Zeppelin', 'album': 'Physical Graffiti [Disc 2]', 'genre': 'Rock'}, {'artist': 'Led Zeppelin', 'album': 'Physical Graffiti [Disc 2]', 'genre': 'Rock'})\n",
      "2021-12-04 23:54:18,560 INFO sqlalchemy.engine.base.Engine INSERT INTO jch5x8.album (artist, album, genre) VALUES (%(artist)s, %(album)s, %(genre)s)\n",
      "2021-12-04 23:54:18,561 INFO sqlalchemy.engine.base.Engine ({'artist': 'Led Zeppelin', 'album': 'Presence', 'genre': 'Rock'}, {'artist': 'Led Zeppelin', 'album': 'Presence', 'genre': 'Rock'}, {'artist': 'Led Zeppelin', 'album': 'Presence', 'genre': 'Rock'}, {'artist': 'Led Zeppelin', 'album': 'Presence', 'genre': 'Rock'}, {'artist': 'Led Zeppelin', 'album': 'Presence', 'genre': 'Rock'}, {'artist': 'Led Zeppelin', 'album': 'Presence', 'genre': 'Rock'}, {'artist': 'Led Zeppelin', 'album': 'Presence', 'genre': 'Rock'}, {'artist': 'Led Zeppelin', 'album': 'The Song Remains The Same (Disc 1)', 'genre': 'Rock'}  ... displaying 10 of 50 total bound parameter sets ...  {'artist': 'Legião Urbana', 'album': 'Mais Do Mesmo', 'genre': 'Latin'}, {'artist': 'Legião Urbana', 'album': 'Mais Do Mesmo', 'genre': 'Latin'})\n",
      "2021-12-04 23:54:18,577 INFO sqlalchemy.engine.base.Engine INSERT INTO jch5x8.album (artist, album, genre) VALUES (%(artist)s, %(album)s, %(genre)s)\n",
      "2021-12-04 23:54:18,577 INFO sqlalchemy.engine.base.Engine ({'artist': 'Legião Urbana', 'album': 'Mais Do Mesmo', 'genre': 'Latin'}, {'artist': 'Legião Urbana', 'album': 'Mais Do Mesmo', 'genre': 'Latin'}, {'artist': 'Legião Urbana', 'album': 'Mais Do Mesmo', 'genre': 'Latin'}, {'artist': 'Legião Urbana', 'album': 'Mais Do Mesmo', 'genre': 'Latin'}, {'artist': 'Legião Urbana', 'album': 'Mais Do Mesmo', 'genre': 'Latin'}, {'artist': 'Legião Urbana', 'album': 'Mais Do Mesmo', 'genre': 'Latin'}, {'artist': 'Legião Urbana', 'album': 'Mais Do Mesmo', 'genre': 'Latin'}, {'artist': 'Legião Urbana', 'album': 'Mais Do Mesmo', 'genre': 'Latin'}  ... displaying 10 of 50 total bound parameter sets ...  {'artist': 'Lulu Santos', 'album': 'Lulu Santos - RCA 100 Anos De Música - Álbum 01', 'genre': 'Latin'}, {'artist': 'Lulu Santos', 'album': 'Lulu Santos - RCA 100 Anos De Música - Álbum 01', 'genre': 'Latin'})\n"
     ]
    },
    {
     "name": "stdout",
     "output_type": "stream",
     "text": [
      "2021-12-04 23:54:18,593 INFO sqlalchemy.engine.base.Engine INSERT INTO jch5x8.album (artist, album, genre) VALUES (%(artist)s, %(album)s, %(genre)s)\n",
      "2021-12-04 23:54:18,593 INFO sqlalchemy.engine.base.Engine ({'artist': 'Lulu Santos', 'album': 'Lulu Santos - RCA 100 Anos De Música - Álbum 02', 'genre': 'Latin'}, {'artist': 'Lulu Santos', 'album': 'Lulu Santos - RCA 100 Anos De Música - Álbum 02', 'genre': 'Latin'}, {'artist': 'Lulu Santos', 'album': 'Lulu Santos - RCA 100 Anos De Música - Álbum 01', 'genre': 'Latin'}, {'artist': 'Lulu Santos', 'album': 'Lulu Santos - RCA 100 Anos De Música - Álbum 01', 'genre': 'Latin'}, {'artist': 'Lulu Santos', 'album': 'Lulu Santos - RCA 100 Anos De Música - Álbum 02', 'genre': 'Latin'}, {'artist': 'Lulu Santos', 'album': 'Lulu Santos - RCA 100 Anos De Música - Álbum 02', 'genre': 'Latin'}, {'artist': 'Lulu Santos', 'album': 'Lulu Santos - RCA 100 Anos De Música - Álbum 01', 'genre': 'Latin'}, {'artist': 'Lulu Santos', 'album': 'Lulu Santos - RCA 100 Anos De Música - Álbum 01', 'genre': 'Latin'}  ... displaying 10 of 50 total bound parameter sets ...  {'artist': 'Marisa Monte', 'album': 'Barulhinho Bom', 'genre': 'Latin'}, {'artist': 'Marvin Gaye', 'album': 'Seek And Shall Find: More Of The Best (1963-1981)', 'genre': 'R&B/Soul'})\n",
      "2021-12-04 23:54:18,603 INFO sqlalchemy.engine.base.Engine INSERT INTO jch5x8.album (artist, album, genre) VALUES (%(artist)s, %(album)s, %(genre)s)\n",
      "2021-12-04 23:54:18,604 INFO sqlalchemy.engine.base.Engine ({'artist': 'Marvin Gaye', 'album': 'Seek And Shall Find: More Of The Best (1963-1981)', 'genre': 'R&B/Soul'}, {'artist': 'Marvin Gaye', 'album': 'Seek And Shall Find: More Of The Best (1963-1981)', 'genre': 'R&B/Soul'}, {'artist': 'Marvin Gaye', 'album': 'Seek And Shall Find: More Of The Best (1963-1981)', 'genre': 'R&B/Soul'}, {'artist': 'Marvin Gaye', 'album': 'Seek And Shall Find: More Of The Best (1963-1981)', 'genre': 'R&B/Soul'}, {'artist': 'Marvin Gaye', 'album': 'Seek And Shall Find: More Of The Best (1963-1981)', 'genre': 'R&B/Soul'}, {'artist': 'Marvin Gaye', 'album': 'Seek And Shall Find: More Of The Best (1963-1981)', 'genre': 'R&B/Soul'}, {'artist': 'Marvin Gaye', 'album': 'Seek And Shall Find: More Of The Best (1963-1981)', 'genre': 'R&B/Soul'}, {'artist': 'Marvin Gaye', 'album': 'Seek And Shall Find: More Of The Best (1963-1981)', 'genre': 'R&B/Soul'}  ... displaying 10 of 50 total bound parameter sets ...  {'artist': 'Metallica', 'album': 'Black Album', 'genre': 'Metal'}, {'artist': 'Metallica', 'album': 'Black Album', 'genre': 'Metal'})\n",
      "2021-12-04 23:54:18,614 INFO sqlalchemy.engine.base.Engine INSERT INTO jch5x8.album (artist, album, genre) VALUES (%(artist)s, %(album)s, %(genre)s)\n",
      "2021-12-04 23:54:18,614 INFO sqlalchemy.engine.base.Engine ({'artist': 'Metallica', 'album': 'Black Album', 'genre': 'Metal'}, {'artist': 'Metallica', 'album': 'Black Album', 'genre': 'Metal'}, {'artist': 'Metallica', 'album': 'Garage Inc. (Disc 2)', 'genre': 'Metal'}, {'artist': 'Metallica', 'album': 'Garage Inc. (Disc 2)', 'genre': 'Metal'}, {'artist': 'Metallica', 'album': 'Garage Inc. (Disc 2)', 'genre': 'Metal'}, {'artist': 'Metallica', 'album': 'Garage Inc. (Disc 2)', 'genre': 'Metal'}, {'artist': 'Metallica', 'album': 'Garage Inc. (Disc 2)', 'genre': 'Metal'}, {'artist': 'Metallica', 'album': 'Garage Inc. (Disc 2)', 'genre': 'Metal'}  ... displaying 10 of 50 total bound parameter sets ...  {'artist': 'Metallica', 'album': 'Load', 'genre': 'Metal'}, {'artist': 'Metallica', 'album': 'Load', 'genre': 'Metal'})\n",
      "2021-12-04 23:54:18,624 INFO sqlalchemy.engine.base.Engine INSERT INTO jch5x8.album (artist, album, genre) VALUES (%(artist)s, %(album)s, %(genre)s)\n",
      "2021-12-04 23:54:18,625 INFO sqlalchemy.engine.base.Engine ({'artist': 'Metallica', 'album': 'Load', 'genre': 'Metal'}, {'artist': 'Metallica', 'album': 'Load', 'genre': 'Metal'}, {'artist': 'Metallica', 'album': 'Load', 'genre': 'Metal'}, {'artist': 'Metallica', 'album': 'Load', 'genre': 'Metal'}, {'artist': 'Metallica', 'album': 'Load', 'genre': 'Metal'}, {'artist': 'Metallica', 'album': 'Load', 'genre': 'Metal'}, {'artist': 'Metallica', 'album': 'Load', 'genre': 'Metal'}, {'artist': 'Metallica', 'album': 'Load', 'genre': 'Metal'}  ... displaying 10 of 50 total bound parameter sets ...  {'artist': 'Metallica', 'album': 'ReLoad', 'genre': 'Metal'}, {'artist': 'Metallica', 'album': 'ReLoad', 'genre': 'Metal'})\n",
      "2021-12-04 23:54:18,634 INFO sqlalchemy.engine.base.Engine INSERT INTO jch5x8.album (artist, album, genre) VALUES (%(artist)s, %(album)s, %(genre)s)\n",
      "2021-12-04 23:54:18,635 INFO sqlalchemy.engine.base.Engine ({'artist': 'Metallica', 'album': 'ReLoad', 'genre': 'Metal'}, {'artist': 'Metallica', 'album': 'ReLoad', 'genre': 'Metal'}, {'artist': 'Metallica', 'album': 'ReLoad', 'genre': 'Metal'}, {'artist': 'Metallica', 'album': 'ReLoad', 'genre': 'Metal'}, {'artist': 'Metallica', 'album': 'ReLoad', 'genre': 'Metal'}, {'artist': 'Metallica', 'album': 'ReLoad', 'genre': 'Metal'}, {'artist': 'Metallica', 'album': 'ReLoad', 'genre': 'Metal'}, {'artist': 'Metallica', 'album': 'ReLoad', 'genre': 'Metal'}  ... displaying 10 of 50 total bound parameter sets ...  {'artist': 'Miles Davis', 'album': 'Miles Ahead', 'genre': 'Jazz'}, {'artist': 'Miles Davis', 'album': 'Miles Ahead', 'genre': 'Jazz'})\n",
      "2021-12-04 23:54:18,644 INFO sqlalchemy.engine.base.Engine INSERT INTO jch5x8.album (artist, album, genre) VALUES (%(artist)s, %(album)s, %(genre)s)\n",
      "2021-12-04 23:54:18,644 INFO sqlalchemy.engine.base.Engine ({'artist': 'Miles Davis', 'album': 'Miles Ahead', 'genre': 'Jazz'}, {'artist': 'Miles Davis', 'album': 'Miles Ahead', 'genre': 'Jazz'}, {'artist': 'Miles Davis', 'album': 'Miles Ahead', 'genre': 'Jazz'}, {'artist': 'Milton Nascimento', 'album': 'Milton Nascimento Ao Vivo', 'genre': 'Latin'}, {'artist': 'Milton Nascimento', 'album': 'Milton Nascimento Ao Vivo', 'genre': 'Latin'}, {'artist': 'Milton Nascimento', 'album': 'Milton Nascimento Ao Vivo', 'genre': 'Latin'}, {'artist': 'Milton Nascimento', 'album': 'Milton Nascimento Ao Vivo', 'genre': 'Latin'}, {'artist': 'Milton Nascimento', 'album': 'Milton Nascimento Ao Vivo', 'genre': 'Latin'}  ... displaying 10 of 50 total bound parameter sets ...  {'artist': 'Motörhead', 'album': 'Ace Of Spades', 'genre': 'Metal'}, {'artist': 'Mônica Marianno', 'album': 'Demorou...', 'genre': 'World'})\n",
      "2021-12-04 23:54:18,654 INFO sqlalchemy.engine.base.Engine INSERT INTO jch5x8.album (artist, album, genre) VALUES (%(artist)s, %(album)s, %(genre)s)\n",
      "2021-12-04 23:54:18,654 INFO sqlalchemy.engine.base.Engine ({'artist': 'Mônica Marianno', 'album': 'Demorou...', 'genre': 'World'}, {'artist': 'Mônica Marianno', 'album': 'Demorou...', 'genre': 'World'}, {'artist': 'Mônica Marianno', 'album': 'Demorou...', 'genre': 'World'}, {'artist': 'Mônica Marianno', 'album': 'Demorou...', 'genre': 'World'}, {'artist': 'Mônica Marianno', 'album': 'Demorou...', 'genre': 'World'}, {'artist': 'Mônica Marianno', 'album': 'Demorou...', 'genre': 'World'}, {'artist': 'Mônica Marianno', 'album': 'Demorou...', 'genre': 'World'}, {'artist': 'Mônica Marianno', 'album': 'Demorou...', 'genre': 'World'}  ... displaying 10 of 50 total bound parameter sets ...  {'artist': 'Nirvana', 'album': 'From The Muddy Banks Of The Wishkah [Live]', 'genre': 'Rock'}, {'artist': 'Nirvana', 'album': 'From The Muddy Banks Of The Wishkah [Live]', 'genre': 'Rock'})\n",
      "2021-12-04 23:54:18,665 INFO sqlalchemy.engine.base.Engine INSERT INTO jch5x8.album (artist, album, genre) VALUES (%(artist)s, %(album)s, %(genre)s)\n",
      "2021-12-04 23:54:18,665 INFO sqlalchemy.engine.base.Engine ({'artist': 'Nirvana', 'album': 'From The Muddy Banks Of The Wishkah [Live]', 'genre': 'Rock'}, {'artist': 'Nirvana', 'album': 'From The Muddy Banks Of The Wishkah [Live]', 'genre': 'Rock'}, {'artist': 'Nirvana', 'album': 'From The Muddy Banks Of The Wishkah [Live]', 'genre': 'Rock'}, {'artist': 'Nirvana', 'album': 'From The Muddy Banks Of The Wishkah [Live]', 'genre': 'Rock'}, {'artist': 'Nirvana', 'album': 'From The Muddy Banks Of The Wishkah [Live]', 'genre': 'Rock'}, {'artist': 'Nirvana', 'album': 'From The Muddy Banks Of The Wishkah [Live]', 'genre': 'Rock'}, {'artist': 'Nirvana', 'album': 'From The Muddy Banks Of The Wishkah [Live]', 'genre': 'Rock'}, {'artist': 'Nirvana', 'album': 'From The Muddy Banks Of The Wishkah [Live]', 'genre': 'Rock'}  ... displaying 10 of 50 total bound parameter sets ...  {'artist': 'Nirvana', 'album': 'Nevermind', 'genre': 'Rock'}, {'artist': 'Nirvana', 'album': 'Nevermind', 'genre': 'Rock'})\n"
     ]
    },
    {
     "name": "stdout",
     "output_type": "stream",
     "text": [
      "2021-12-04 23:54:18,675 INFO sqlalchemy.engine.base.Engine INSERT INTO jch5x8.album (artist, album, genre) VALUES (%(artist)s, %(album)s, %(genre)s)\n",
      "2021-12-04 23:54:18,676 INFO sqlalchemy.engine.base.Engine ({'artist': 'Nirvana', 'album': 'Nevermind', 'genre': 'Rock'}, {'artist': 'Nirvana', 'album': 'Nevermind', 'genre': 'Rock'}, {'artist': 'Nirvana', 'album': 'Nevermind', 'genre': 'Rock'}, {'artist': 'Nirvana', 'album': 'Nevermind', 'genre': 'Rock'}, {'artist': 'Nirvana', 'album': 'Nevermind', 'genre': 'Rock'}, {'artist': 'Nirvana', 'album': 'Nevermind', 'genre': 'Rock'}, {'artist': 'Nirvana', 'album': 'Nevermind', 'genre': 'Rock'}, {'artist': 'Nirvana', 'album': 'Nevermind', 'genre': 'Rock'}  ... displaying 10 of 50 total bound parameter sets ...  {'artist': 'Os Paralamas Do Sucesso', 'album': 'Acústico MTV', 'genre': 'Latin'}, {'artist': 'Os Paralamas Do Sucesso', 'album': 'Acústico MTV', 'genre': 'Latin'})\n",
      "2021-12-04 23:54:18,685 INFO sqlalchemy.engine.base.Engine INSERT INTO jch5x8.album (artist, album, genre) VALUES (%(artist)s, %(album)s, %(genre)s)\n",
      "2021-12-04 23:54:18,686 INFO sqlalchemy.engine.base.Engine ({'artist': 'Os Paralamas Do Sucesso', 'album': 'Acústico MTV', 'genre': 'Latin'}, {'artist': 'Os Paralamas Do Sucesso', 'album': 'Acústico MTV', 'genre': 'Latin'}, {'artist': 'Os Paralamas Do Sucesso', 'album': 'Acústico MTV', 'genre': 'Latin'}, {'artist': 'Os Paralamas Do Sucesso', 'album': 'Acústico MTV', 'genre': 'Latin'}, {'artist': 'Os Paralamas Do Sucesso', 'album': 'Acústico MTV', 'genre': 'Latin'}, {'artist': 'Os Paralamas Do Sucesso', 'album': 'Acústico MTV', 'genre': 'Latin'}, {'artist': 'Os Paralamas Do Sucesso', 'album': 'Acústico MTV', 'genre': 'Latin'}, {'artist': 'Os Paralamas Do Sucesso', 'album': 'Acústico MTV', 'genre': 'Latin'}  ... displaying 10 of 50 total bound parameter sets ...  {'artist': 'Os Paralamas Do Sucesso', 'album': 'Arquivo Os Paralamas Do Sucesso', 'genre': 'Latin'}, {'artist': 'Os Paralamas Do Sucesso', 'album': 'Arquivo Os Paralamas Do Sucesso', 'genre': 'Latin'})\n",
      "2021-12-04 23:54:18,695 INFO sqlalchemy.engine.base.Engine INSERT INTO jch5x8.album (artist, album, genre) VALUES (%(artist)s, %(album)s, %(genre)s)\n",
      "2021-12-04 23:54:18,696 INFO sqlalchemy.engine.base.Engine ({'artist': 'Os Paralamas Do Sucesso', 'album': 'Arquivo Os Paralamas Do Sucesso', 'genre': 'Latin'}, {'artist': 'Os Paralamas Do Sucesso', 'album': 'Arquivo Os Paralamas Do Sucesso', 'genre': 'Latin'}, {'artist': 'Os Paralamas Do Sucesso', 'album': 'Arquivo Os Paralamas Do Sucesso', 'genre': 'Latin'}, {'artist': 'Os Paralamas Do Sucesso', 'album': 'Arquivo Os Paralamas Do Sucesso', 'genre': 'Latin'}, {'artist': 'Os Paralamas Do Sucesso', 'album': 'Arquivo Os Paralamas Do Sucesso', 'genre': 'Latin'}, {'artist': 'Os Paralamas Do Sucesso', 'album': 'Arquivo Os Paralamas Do Sucesso', 'genre': 'Latin'}, {'artist': 'Os Paralamas Do Sucesso', 'album': 'Arquivo Os Paralamas Do Sucesso', 'genre': 'Latin'}, {'artist': 'Os Paralamas Do Sucesso', 'album': 'Arquivo Os Paralamas Do Sucesso', 'genre': 'Latin'}  ... displaying 10 of 50 total bound parameter sets ...  {'artist': 'Passengers', 'album': 'Original Soundtracks 1', 'genre': 'Soundtrack'}, {'artist': 'Passengers', 'album': 'Original Soundtracks 1', 'genre': 'Soundtrack'})\n",
      "2021-12-04 23:54:18,706 INFO sqlalchemy.engine.base.Engine INSERT INTO jch5x8.album (artist, album, genre) VALUES (%(artist)s, %(album)s, %(genre)s)\n",
      "2021-12-04 23:54:18,706 INFO sqlalchemy.engine.base.Engine ({'artist': 'Passengers', 'album': 'Original Soundtracks 1', 'genre': 'Soundtrack'}, {'artist': 'Passengers', 'album': 'Original Soundtracks 1', 'genre': 'Soundtrack'}, {'artist': 'Passengers', 'album': 'Original Soundtracks 1', 'genre': 'Soundtrack'}, {'artist': 'Passengers', 'album': 'Original Soundtracks 1', 'genre': 'Soundtrack'}, {'artist': 'Passengers', 'album': 'Original Soundtracks 1', 'genre': 'Soundtrack'}, {'artist': 'Passengers', 'album': 'Original Soundtracks 1', 'genre': 'Soundtrack'}, {'artist': 'Passengers', 'album': 'Original Soundtracks 1', 'genre': 'Soundtrack'}, {'artist': 'Passengers', 'album': 'Original Soundtracks 1', 'genre': 'Soundtrack'}  ... displaying 10 of 50 total bound parameter sets ...  {'artist': 'Pearl Jam', 'album': 'Live On Two Legs [Live]', 'genre': 'Rock'}, {'artist': 'Pearl Jam', 'album': 'Live On Two Legs [Live]', 'genre': 'Rock'})\n",
      "2021-12-04 23:54:18,717 INFO sqlalchemy.engine.base.Engine INSERT INTO jch5x8.album (artist, album, genre) VALUES (%(artist)s, %(album)s, %(genre)s)\n",
      "2021-12-04 23:54:18,717 INFO sqlalchemy.engine.base.Engine ({'artist': 'Pearl Jam', 'album': 'Live On Two Legs [Live]', 'genre': 'Rock'}, {'artist': 'Pearl Jam', 'album': 'Live On Two Legs [Live]', 'genre': 'Rock'}, {'artist': 'Pearl Jam', 'album': 'Live On Two Legs [Live]', 'genre': 'Rock'}, {'artist': 'Pearl Jam', 'album': 'Live On Two Legs [Live]', 'genre': 'Rock'}, {'artist': 'Pearl Jam', 'album': 'Live On Two Legs [Live]', 'genre': 'Rock'}, {'artist': 'Pearl Jam', 'album': 'Live On Two Legs [Live]', 'genre': 'Rock'}, {'artist': 'Pearl Jam', 'album': 'Live On Two Legs [Live]', 'genre': 'Rock'}, {'artist': 'Pearl Jam', 'album': 'Live On Two Legs [Live]', 'genre': 'Rock'}  ... displaying 10 of 50 total bound parameter sets ...  {'artist': 'Pearl Jam', 'album': 'Ten', 'genre': 'Rock'}, {'artist': 'Pearl Jam', 'album': 'Ten', 'genre': 'Rock'})\n",
      "2021-12-04 23:54:18,729 INFO sqlalchemy.engine.base.Engine INSERT INTO jch5x8.album (artist, album, genre) VALUES (%(artist)s, %(album)s, %(genre)s)\n",
      "2021-12-04 23:54:18,729 INFO sqlalchemy.engine.base.Engine ({'artist': 'Pearl Jam', 'album': 'Ten', 'genre': 'Rock'}, {'artist': 'Pearl Jam', 'album': 'Ten', 'genre': 'Rock'}, {'artist': 'Pearl Jam', 'album': 'Ten', 'genre': 'Rock'}, {'artist': 'Pearl Jam', 'album': 'Ten', 'genre': 'Rock'}, {'artist': 'Pearl Jam', 'album': 'Ten', 'genre': 'Rock'}, {'artist': 'Pearl Jam', 'album': 'Ten', 'genre': 'Rock'}, {'artist': 'Pearl Jam', 'album': 'Ten', 'genre': 'Rock'}, {'artist': 'Pearl Jam', 'album': 'Ten', 'genre': 'Rock'}  ... displaying 10 of 50 total bound parameter sets ...  {'artist': 'Lenny Kravitz', 'album': 'Greatest Hits', 'genre': 'Reggae'}, {'artist': 'Lenny Kravitz', 'album': 'Greatest Hits', 'genre': 'Reggae'})\n",
      "2021-12-04 23:54:18,738 INFO sqlalchemy.engine.base.Engine INSERT INTO jch5x8.album (artist, album, genre) VALUES (%(artist)s, %(album)s, %(genre)s)\n",
      "2021-12-04 23:54:18,739 INFO sqlalchemy.engine.base.Engine ({'artist': 'Lenny Kravitz', 'album': 'Greatest Hits', 'genre': 'Reggae'}, {'artist': 'Lenny Kravitz', 'album': 'Greatest Hits', 'genre': 'Reggae'}, {'artist': 'Lenny Kravitz', 'album': 'Greatest Hits', 'genre': 'Reggae'}, {'artist': 'Lenny Kravitz', 'album': 'Greatest Hits', 'genre': 'Reggae'}, {'artist': 'Lenny Kravitz', 'album': 'Greatest Hits', 'genre': 'Reggae'}, {'artist': 'Lenny Kravitz', 'album': 'Greatest Hits', 'genre': 'Reggae'}, {'artist': 'Lenny Kravitz', 'album': 'Greatest Hits', 'genre': 'Reggae'}, {'artist': 'Lenny Kravitz', 'album': 'Greatest Hits', 'genre': 'Reggae'}  ... displaying 10 of 50 total bound parameter sets ...  {'artist': 'Planet Hemp', 'album': 'Os Cães Ladram Mas A Caravana Não Pára', 'genre': 'Hip Hop/Rap'}, {'artist': 'Queen', 'album': 'Greatest Hits I', 'genre': 'Rock'})\n",
      "2021-12-04 23:54:18,748 INFO sqlalchemy.engine.base.Engine INSERT INTO jch5x8.album (artist, album, genre) VALUES (%(artist)s, %(album)s, %(genre)s)\n",
      "2021-12-04 23:54:18,749 INFO sqlalchemy.engine.base.Engine ({'artist': 'Queen', 'album': 'Greatest Hits I', 'genre': 'Rock'}, {'artist': 'Queen', 'album': 'Greatest Hits I', 'genre': 'Rock'}, {'artist': 'Queen', 'album': 'Greatest Hits I', 'genre': 'Rock'}, {'artist': 'Queen', 'album': 'Greatest Hits I', 'genre': 'Rock'}, {'artist': 'Queen', 'album': 'Greatest Hits I', 'genre': 'Rock'}, {'artist': 'Queen', 'album': 'Greatest Hits I', 'genre': 'Rock'}, {'artist': 'Queen', 'album': 'Greatest Hits I', 'genre': 'Rock'}, {'artist': 'Queen', 'album': 'Greatest Hits I', 'genre': 'Rock'}  ... displaying 10 of 50 total bound parameter sets ...  {'artist': 'R.E.M.', 'album': 'New Adventures In Hi-Fi', 'genre': 'Rock'}, {'artist': 'R.E.M.', 'album': 'New Adventures In Hi-Fi', 'genre': 'Rock'})\n"
     ]
    },
    {
     "name": "stdout",
     "output_type": "stream",
     "text": [
      "2021-12-04 23:54:18,760 INFO sqlalchemy.engine.base.Engine INSERT INTO jch5x8.album (artist, album, genre) VALUES (%(artist)s, %(album)s, %(genre)s)\n",
      "2021-12-04 23:54:18,761 INFO sqlalchemy.engine.base.Engine ({'artist': 'R.E.M.', 'album': 'New Adventures In Hi-Fi', 'genre': 'Rock'}, {'artist': 'R.E.M.', 'album': 'New Adventures In Hi-Fi', 'genre': 'Rock'}, {'artist': 'R.E.M.', 'album': 'New Adventures In Hi-Fi', 'genre': 'Rock'}, {'artist': 'R.E.M.', 'album': 'New Adventures In Hi-Fi', 'genre': 'Rock'}, {'artist': 'R.E.M.', 'album': 'New Adventures In Hi-Fi', 'genre': 'Rock'}, {'artist': 'R.E.M.', 'album': 'New Adventures In Hi-Fi', 'genre': 'Rock'}, {'artist': 'R.E.M.', 'album': 'New Adventures In Hi-Fi', 'genre': 'Rock'}, {'artist': 'R.E.M.', 'album': 'New Adventures In Hi-Fi', 'genre': 'Rock'}  ... displaying 10 of 50 total bound parameter sets ...  {'artist': 'R.E.M.', 'album': 'The Best Of R.E.M.: The IRS Years', 'genre': 'Alternative & Punk'}, {'artist': 'R.E.M.', 'album': 'The Best Of R.E.M.: The IRS Years', 'genre': 'Alternative & Punk'})\n",
      "2021-12-04 23:54:18,770 INFO sqlalchemy.engine.base.Engine INSERT INTO jch5x8.album (artist, album, genre) VALUES (%(artist)s, %(album)s, %(genre)s)\n",
      "2021-12-04 23:54:18,771 INFO sqlalchemy.engine.base.Engine ({'artist': 'R.E.M.', 'album': 'The Best Of R.E.M.: The IRS Years', 'genre': 'Alternative & Punk'}, {'artist': 'R.E.M.', 'album': 'The Best Of R.E.M.: The IRS Years', 'genre': 'Alternative & Punk'}, {'artist': 'R.E.M.', 'album': 'The Best Of R.E.M.: The IRS Years', 'genre': 'Alternative & Punk'}, {'artist': 'R.E.M.', 'album': 'The Best Of R.E.M.: The IRS Years', 'genre': 'Alternative & Punk'}, {'artist': 'Raimundos', 'album': 'Cesta Básica', 'genre': 'Alternative & Punk'}, {'artist': 'Raimundos', 'album': 'Cesta Básica', 'genre': 'Alternative & Punk'}, {'artist': 'Raimundos', 'album': 'Cesta Básica', 'genre': 'Alternative & Punk'}, {'artist': 'Raimundos', 'album': 'Cesta Básica', 'genre': 'Alternative & Punk'}  ... displaying 10 of 50 total bound parameter sets ...  {'artist': 'Red Hot Chili Peppers', 'album': 'Blood Sugar Sex Magik', 'genre': 'Alternative & Punk'}, {'artist': 'Red Hot Chili Peppers', 'album': 'Blood Sugar Sex Magik', 'genre': 'Alternative & Punk'})\n",
      "2021-12-04 23:54:18,779 INFO sqlalchemy.engine.base.Engine INSERT INTO jch5x8.album (artist, album, genre) VALUES (%(artist)s, %(album)s, %(genre)s)\n",
      "2021-12-04 23:54:18,780 INFO sqlalchemy.engine.base.Engine ({'artist': 'Red Hot Chili Peppers', 'album': 'Blood Sugar Sex Magik', 'genre': 'Alternative & Punk'}, {'artist': 'Red Hot Chili Peppers', 'album': 'Blood Sugar Sex Magik', 'genre': 'Alternative & Punk'}, {'artist': 'Red Hot Chili Peppers', 'album': 'Blood Sugar Sex Magik', 'genre': 'Alternative & Punk'}, {'artist': 'Red Hot Chili Peppers', 'album': 'Blood Sugar Sex Magik', 'genre': 'Alternative & Punk'}, {'artist': 'Red Hot Chili Peppers', 'album': 'Blood Sugar Sex Magik', 'genre': 'Alternative & Punk'}, {'artist': 'Red Hot Chili Peppers', 'album': 'Blood Sugar Sex Magik', 'genre': 'Alternative & Punk'}, {'artist': 'Red Hot Chili Peppers', 'album': 'Blood Sugar Sex Magik', 'genre': 'Alternative & Punk'}, {'artist': 'Red Hot Chili Peppers', 'album': 'Blood Sugar Sex Magik', 'genre': 'Alternative & Punk'}  ... displaying 10 of 50 total bound parameter sets ...  {'artist': 'Red Hot Chili Peppers', 'album': 'Californication', 'genre': 'Rock'}, {'artist': 'Red Hot Chili Peppers', 'album': 'Californication', 'genre': 'Rock'})\n",
      "2021-12-04 23:54:18,789 INFO sqlalchemy.engine.base.Engine INSERT INTO jch5x8.album (artist, album, genre) VALUES (%(artist)s, %(album)s, %(genre)s)\n",
      "2021-12-04 23:54:18,789 INFO sqlalchemy.engine.base.Engine ({'artist': 'Red Hot Chili Peppers', 'album': 'Californication', 'genre': 'Rock'}, {'artist': 'Red Hot Chili Peppers', 'album': 'Californication', 'genre': 'Rock'}, {'artist': 'Red Hot Chili Peppers', 'album': 'Californication', 'genre': 'Rock'}, {'artist': 'Red Hot Chili Peppers', 'album': 'Californication', 'genre': 'Rock'}, {'artist': 'Red Hot Chili Peppers', 'album': 'Californication', 'genre': 'Rock'}, {'artist': 'Red Hot Chili Peppers', 'album': 'Californication', 'genre': 'Rock'}, {'artist': 'Red Hot Chili Peppers', 'album': 'Californication', 'genre': 'Rock'}, {'artist': 'Red Hot Chili Peppers', 'album': 'Californication', 'genre': 'Rock'}  ... displaying 10 of 50 total bound parameter sets ...  {'artist': 'Santana', 'album': 'Santana - As Years Go By', 'genre': 'Rock'}, {'artist': 'Santana', 'album': 'Santana - As Years Go By', 'genre': 'Rock'})\n",
      "2021-12-04 23:54:18,799 INFO sqlalchemy.engine.base.Engine INSERT INTO jch5x8.album (artist, album, genre) VALUES (%(artist)s, %(album)s, %(genre)s)\n",
      "2021-12-04 23:54:18,800 INFO sqlalchemy.engine.base.Engine ({'artist': 'Santana', 'album': 'Santana - As Years Go By', 'genre': 'Rock'}, {'artist': 'Santana', 'album': 'Santana - As Years Go By', 'genre': 'Rock'}, {'artist': 'Santana', 'album': 'Santana - As Years Go By', 'genre': 'Rock'}, {'artist': 'Santana', 'album': 'Santana - As Years Go By', 'genre': 'Rock'}, {'artist': 'Santana', 'album': 'Santana - As Years Go By', 'genre': 'Rock'}, {'artist': 'Santana', 'album': 'Santana - As Years Go By', 'genre': 'Rock'}, {'artist': 'Santana', 'album': 'Santana - As Years Go By', 'genre': 'Rock'}, {'artist': 'Santana', 'album': 'Santana - As Years Go By', 'genre': 'Rock'}  ... displaying 10 of 50 total bound parameter sets ...  {'artist': 'Skank', 'album': 'Maquinarama', 'genre': 'Rock'}, {'artist': 'Skank', 'album': 'Maquinarama', 'genre': 'Rock'})\n",
      "2021-12-04 23:54:18,810 INFO sqlalchemy.engine.base.Engine INSERT INTO jch5x8.album (artist, album, genre) VALUES (%(artist)s, %(album)s, %(genre)s)\n",
      "2021-12-04 23:54:18,811 INFO sqlalchemy.engine.base.Engine ({'artist': 'Skank', 'album': 'Maquinarama', 'genre': 'Rock'}, {'artist': 'Skank', 'album': 'Maquinarama', 'genre': 'Rock'}, {'artist': 'Skank', 'album': 'Maquinarama', 'genre': 'Rock'}, {'artist': 'Skank', 'album': 'Maquinarama', 'genre': 'Rock'}, {'artist': 'Skank', 'album': 'Maquinarama', 'genre': 'Rock'}, {'artist': 'Skank', 'album': 'Maquinarama', 'genre': 'Rock'}, {'artist': 'Skank', 'album': 'Maquinarama', 'genre': 'Rock'}, {'artist': 'Skank', 'album': 'Maquinarama', 'genre': 'Rock'}  ... displaying 10 of 50 total bound parameter sets ...  {'artist': 'Smashing Pumpkins', 'album': 'Judas 0: B-Sides and Rarities', 'genre': 'Alternative & Punk'}, {'artist': 'Smashing Pumpkins', 'album': 'Judas 0: B-Sides and Rarities', 'genre': 'Alternative & Punk'})\n",
      "2021-12-04 23:54:18,819 INFO sqlalchemy.engine.base.Engine INSERT INTO jch5x8.album (artist, album, genre) VALUES (%(artist)s, %(album)s, %(genre)s)\n",
      "2021-12-04 23:54:18,820 INFO sqlalchemy.engine.base.Engine ({'artist': 'Smashing Pumpkins', 'album': 'Judas 0: B-Sides and Rarities', 'genre': 'Alternative & Punk'}, {'artist': 'Smashing Pumpkins', 'album': 'Rotten Apples: Greatest Hits', 'genre': 'Alternative & Punk'}, {'artist': 'Smashing Pumpkins', 'album': 'Rotten Apples: Greatest Hits', 'genre': 'Alternative & Punk'}, {'artist': 'Smashing Pumpkins', 'album': 'Rotten Apples: Greatest Hits', 'genre': 'Alternative & Punk'}, {'artist': 'Smashing Pumpkins', 'album': 'Rotten Apples: Greatest Hits', 'genre': 'Alternative & Punk'}, {'artist': 'Smashing Pumpkins', 'album': 'Rotten Apples: Greatest Hits', 'genre': 'Alternative & Punk'}, {'artist': 'Smashing Pumpkins', 'album': 'Rotten Apples: Greatest Hits', 'genre': 'Alternative & Punk'}, {'artist': 'Smashing Pumpkins', 'album': 'Rotten Apples: Greatest Hits', 'genre': 'Alternative & Punk'}  ... displaying 10 of 50 total bound parameter sets ...  {'artist': 'Soundgarden', 'album': 'A-Sides', 'genre': 'Rock'}, {'artist': 'Soundgarden', 'album': 'A-Sides', 'genre': 'Rock'})\n",
      "2021-12-04 23:54:18,829 INFO sqlalchemy.engine.base.Engine INSERT INTO jch5x8.album (artist, album, genre) VALUES (%(artist)s, %(album)s, %(genre)s)\n",
      "2021-12-04 23:54:18,829 INFO sqlalchemy.engine.base.Engine ({'artist': 'Soundgarden', 'album': 'A-Sides', 'genre': 'Rock'}, {'artist': 'Soundgarden', 'album': 'A-Sides', 'genre': 'Rock'}, {'artist': 'Soundgarden', 'album': 'A-Sides', 'genre': 'Rock'}, {'artist': 'Soundgarden', 'album': 'A-Sides', 'genre': 'Rock'}, {'artist': 'Soundgarden', 'album': 'A-Sides', 'genre': 'Rock'}, {'artist': 'Soundgarden', 'album': 'A-Sides', 'genre': 'Rock'}, {'artist': 'Soundgarden', 'album': 'A-Sides', 'genre': 'Rock'}, {'artist': 'Soundgarden', 'album': 'A-Sides', 'genre': 'Rock'}  ... displaying 10 of 50 total bound parameter sets ...  {'artist': 'Stone Temple Pilots', 'album': 'Core', 'genre': 'Rock'}, {'artist': 'Stone Temple Pilots', 'album': 'Core', 'genre': 'Rock'})\n"
     ]
    },
    {
     "name": "stdout",
     "output_type": "stream",
     "text": [
      "2021-12-04 23:54:18,839 INFO sqlalchemy.engine.base.Engine INSERT INTO jch5x8.album (artist, album, genre) VALUES (%(artist)s, %(album)s, %(genre)s)\n",
      "2021-12-04 23:54:18,839 INFO sqlalchemy.engine.base.Engine ({'artist': 'Stone Temple Pilots', 'album': 'Core', 'genre': 'Rock'}, {'artist': 'Stone Temple Pilots', 'album': 'Core', 'genre': 'Rock'}, {'artist': 'Stone Temple Pilots', 'album': 'Core', 'genre': 'Rock'}, {'artist': 'Stone Temple Pilots', 'album': 'Core', 'genre': 'Rock'}, {'artist': 'Stone Temple Pilots', 'album': 'Core', 'genre': 'Rock'}, {'artist': 'Stone Temple Pilots', 'album': 'Core', 'genre': 'Rock'}, {'artist': 'Stone Temple Pilots', 'album': 'Core', 'genre': 'Rock'}, {'artist': 'Stone Temple Pilots', 'album': 'Core', 'genre': 'Rock'}  ... displaying 10 of 50 total bound parameter sets ...  {'artist': 'The Black Crowes', 'album': 'Live [Disc 2]', 'genre': 'Blues'}, {'artist': 'The Black Crowes', 'album': 'Live [Disc 2]', 'genre': 'Blues'})\n",
      "2021-12-04 23:54:18,849 INFO sqlalchemy.engine.base.Engine INSERT INTO jch5x8.album (artist, album, genre) VALUES (%(artist)s, %(album)s, %(genre)s)\n",
      "2021-12-04 23:54:18,850 INFO sqlalchemy.engine.base.Engine ({'artist': 'The Black Crowes', 'album': 'Live [Disc 2]', 'genre': 'Blues'}, {'artist': 'The Black Crowes', 'album': 'Live [Disc 2]', 'genre': 'Blues'}, {'artist': 'The Black Crowes', 'album': 'Live [Disc 2]', 'genre': 'Blues'}, {'artist': 'The Clash', 'album': 'The Singles', 'genre': 'Alternative & Punk'}, {'artist': 'The Clash', 'album': 'The Singles', 'genre': 'Alternative & Punk'}, {'artist': 'The Clash', 'album': 'The Singles', 'genre': 'Alternative & Punk'}, {'artist': 'The Clash', 'album': 'The Singles', 'genre': 'Alternative & Punk'}, {'artist': 'The Clash', 'album': 'The Singles', 'genre': 'Alternative & Punk'}  ... displaying 10 of 50 total bound parameter sets ...  {'artist': 'The Cult', 'album': 'Beyond Good And Evil', 'genre': 'Rock'}, {'artist': 'The Cult', 'album': 'Beyond Good And Evil', 'genre': 'Rock'})\n",
      "2021-12-04 23:54:18,859 INFO sqlalchemy.engine.base.Engine INSERT INTO jch5x8.album (artist, album, genre) VALUES (%(artist)s, %(album)s, %(genre)s)\n",
      "2021-12-04 23:54:18,859 INFO sqlalchemy.engine.base.Engine ({'artist': 'The Cult', 'album': 'Beyond Good And Evil', 'genre': 'Rock'}, {'artist': 'The Cult', 'album': 'Pure Cult: The Best Of The Cult (For Rockers, Ravers, Lovers & Sinners) [UK]', 'genre': 'Rock'}, {'artist': 'The Cult', 'album': 'Pure Cult: The Best Of The Cult (For Rockers, Ravers, Lovers & Sinners) [UK]', 'genre': 'Rock'}, {'artist': 'The Cult', 'album': 'Pure Cult: The Best Of The Cult (For Rockers, Ravers, Lovers & Sinners) [UK]', 'genre': 'Rock'}, {'artist': 'The Cult', 'album': 'Pure Cult: The Best Of The Cult (For Rockers, Ravers, Lovers & Sinners) [UK]', 'genre': 'Rock'}, {'artist': 'The Cult', 'album': 'Pure Cult: The Best Of The Cult (For Rockers, Ravers, Lovers & Sinners) [UK]', 'genre': 'Rock'}, {'artist': 'The Cult', 'album': 'Pure Cult: The Best Of The Cult (For Rockers, Ravers, Lovers & Sinners) [UK]', 'genre': 'Rock'}, {'artist': 'The Cult', 'album': 'Pure Cult: The Best Of The Cult (For Rockers, Ravers, Lovers & Sinners) [UK]', 'genre': 'Rock'}  ... displaying 10 of 50 total bound parameter sets ...  {'artist': 'The Police', 'album': 'The Police Greatest Hits', 'genre': 'Rock'}, {'artist': 'The Police', 'album': 'The Police Greatest Hits', 'genre': 'Rock'})\n",
      "2021-12-04 23:54:18,869 INFO sqlalchemy.engine.base.Engine INSERT INTO jch5x8.album (artist, album, genre) VALUES (%(artist)s, %(album)s, %(genre)s)\n",
      "2021-12-04 23:54:18,869 INFO sqlalchemy.engine.base.Engine ({'artist': 'The Police', 'album': 'The Police Greatest Hits', 'genre': 'Rock'}, {'artist': 'The Police', 'album': 'The Police Greatest Hits', 'genre': 'Rock'}, {'artist': 'The Police', 'album': 'The Police Greatest Hits', 'genre': 'Rock'}, {'artist': 'The Police', 'album': 'The Police Greatest Hits', 'genre': 'Rock'}, {'artist': 'The Police', 'album': 'The Police Greatest Hits', 'genre': 'Rock'}, {'artist': 'The Police', 'album': 'The Police Greatest Hits', 'genre': 'Rock'}, {'artist': 'The Police', 'album': 'The Police Greatest Hits', 'genre': 'Rock'}, {'artist': 'The Police', 'album': 'The Police Greatest Hits', 'genre': 'Rock'}  ... displaying 10 of 50 total bound parameter sets ...  {'artist': 'The Rolling Stones', 'album': 'No Security', 'genre': 'Rock'}, {'artist': 'The Rolling Stones', 'album': 'No Security', 'genre': 'Rock'})\n",
      "2021-12-04 23:54:18,878 INFO sqlalchemy.engine.base.Engine INSERT INTO jch5x8.album (artist, album, genre) VALUES (%(artist)s, %(album)s, %(genre)s)\n",
      "2021-12-04 23:54:18,879 INFO sqlalchemy.engine.base.Engine ({'artist': 'The Rolling Stones', 'album': 'No Security', 'genre': 'Rock'}, {'artist': 'The Rolling Stones', 'album': 'No Security', 'genre': 'Rock'}, {'artist': 'The Rolling Stones', 'album': 'Voodoo Lounge', 'genre': 'Rock'}, {'artist': 'The Rolling Stones', 'album': 'Voodoo Lounge', 'genre': 'Rock'}, {'artist': 'The Rolling Stones', 'album': 'Voodoo Lounge', 'genre': 'Rock'}, {'artist': 'The Rolling Stones', 'album': 'Voodoo Lounge', 'genre': 'Rock'}, {'artist': 'The Rolling Stones', 'album': 'Voodoo Lounge', 'genre': 'Rock'}, {'artist': 'The Rolling Stones', 'album': 'Voodoo Lounge', 'genre': 'Rock'}  ... displaying 10 of 50 total bound parameter sets ...  {'artist': 'The Tea Party', 'album': 'Tangents', 'genre': 'Alternative & Punk'}, {'artist': 'The Tea Party', 'album': 'Tangents', 'genre': 'Alternative & Punk'})\n",
      "2021-12-04 23:54:18,888 INFO sqlalchemy.engine.base.Engine INSERT INTO jch5x8.album (artist, album, genre) VALUES (%(artist)s, %(album)s, %(genre)s)\n",
      "2021-12-04 23:54:18,888 INFO sqlalchemy.engine.base.Engine ({'artist': 'The Tea Party', 'album': 'Tangents', 'genre': 'Alternative & Punk'}, {'artist': 'The Tea Party', 'album': 'Tangents', 'genre': 'Alternative & Punk'}, {'artist': 'The Tea Party', 'album': 'Tangents', 'genre': 'Alternative & Punk'}, {'artist': 'The Tea Party', 'album': 'Tangents', 'genre': 'Alternative & Punk'}, {'artist': 'The Tea Party', 'album': 'Tangents', 'genre': 'Alternative & Punk'}, {'artist': 'The Tea Party', 'album': 'Tangents', 'genre': 'Alternative & Punk'}, {'artist': 'The Tea Party', 'album': 'Tangents', 'genre': 'Alternative & Punk'}, {'artist': 'The Tea Party', 'album': 'Tangents', 'genre': 'Alternative & Punk'}  ... displaying 10 of 50 total bound parameter sets ...  {'artist': 'The Who', 'album': 'My Generation - The Very Best Of The Who', 'genre': 'Rock'}, {'artist': 'The Who', 'album': 'My Generation - The Very Best Of The Who', 'genre': 'Rock'})\n",
      "2021-12-04 23:54:18,898 INFO sqlalchemy.engine.base.Engine INSERT INTO jch5x8.album (artist, album, genre) VALUES (%(artist)s, %(album)s, %(genre)s)\n",
      "2021-12-04 23:54:18,898 INFO sqlalchemy.engine.base.Engine ({'artist': 'The Who', 'album': 'My Generation - The Very Best Of The Who', 'genre': 'Rock'}, {'artist': 'The Who', 'album': 'My Generation - The Very Best Of The Who', 'genre': 'Rock'}, {'artist': 'Tim Maia', 'album': 'Serie Sem Limite (Disc 1)', 'genre': 'Latin'}, {'artist': 'Tim Maia', 'album': 'Serie Sem Limite (Disc 1)', 'genre': 'Latin'}, {'artist': 'Tim Maia', 'album': 'Serie Sem Limite (Disc 1)', 'genre': 'Latin'}, {'artist': 'Tim Maia', 'album': 'Serie Sem Limite (Disc 1)', 'genre': 'Latin'}, {'artist': 'Tim Maia', 'album': 'Serie Sem Limite (Disc 1)', 'genre': 'Latin'}, {'artist': 'Tim Maia', 'album': 'Serie Sem Limite (Disc 1)', 'genre': 'Latin'}  ... displaying 10 of 50 total bound parameter sets ...  {'artist': 'Titãs', 'album': 'Acústico', 'genre': 'Alternative & Punk'}, {'artist': 'Titãs', 'album': 'Acústico', 'genre': 'Alternative & Punk'})\n",
      "2021-12-04 23:54:18,907 INFO sqlalchemy.engine.base.Engine INSERT INTO jch5x8.album (artist, album, genre) VALUES (%(artist)s, %(album)s, %(genre)s)\n",
      "2021-12-04 23:54:18,908 INFO sqlalchemy.engine.base.Engine ({'artist': 'Titãs', 'album': 'Acústico', 'genre': 'Alternative & Punk'}, {'artist': 'Titãs', 'album': 'Acústico', 'genre': 'Alternative & Punk'}, {'artist': 'Titãs', 'album': 'Acústico', 'genre': 'Alternative & Punk'}, {'artist': 'Titãs', 'album': 'Acústico', 'genre': 'Alternative & Punk'}, {'artist': 'Titãs', 'album': 'Acústico', 'genre': 'Alternative & Punk'}, {'artist': 'Titãs', 'album': 'Acústico', 'genre': 'Alternative & Punk'}, {'artist': 'Titãs', 'album': 'Acústico', 'genre': 'Alternative & Punk'}, {'artist': 'Titãs', 'album': 'Acústico', 'genre': 'Alternative & Punk'}  ... displaying 10 of 50 total bound parameter sets ...  {'artist': 'Titãs', 'album': 'Volume Dois', 'genre': 'Alternative & Punk'}, {'artist': 'Titãs', 'album': 'Volume Dois', 'genre': 'Alternative & Punk'})\n"
     ]
    },
    {
     "name": "stdout",
     "output_type": "stream",
     "text": [
      "2021-12-04 23:54:18,916 INFO sqlalchemy.engine.base.Engine INSERT INTO jch5x8.album (artist, album, genre) VALUES (%(artist)s, %(album)s, %(genre)s)\n",
      "2021-12-04 23:54:18,917 INFO sqlalchemy.engine.base.Engine ({'artist': 'Titãs', 'album': 'Volume Dois', 'genre': 'Alternative & Punk'}, {'artist': 'Titãs', 'album': 'Volume Dois', 'genre': 'Alternative & Punk'}, {'artist': 'Titãs', 'album': 'Volume Dois', 'genre': 'Alternative & Punk'}, {'artist': 'Titãs', 'album': 'Volume Dois', 'genre': 'Alternative & Punk'}, {'artist': 'Titãs', 'album': 'Volume Dois', 'genre': 'Alternative & Punk'}, {'artist': 'Titãs', 'album': 'Volume Dois', 'genre': 'Alternative & Punk'}, {'artist': 'Titãs', 'album': 'Volume Dois', 'genre': 'Alternative & Punk'}, {'artist': 'Titãs', 'album': 'Volume Dois', 'genre': 'Alternative & Punk'}  ... displaying 10 of 50 total bound parameter sets ...  {'artist': 'U2', 'album': \"All That You Can't Leave Behind\", 'genre': 'Rock'}, {'artist': 'U2', 'album': \"All That You Can't Leave Behind\", 'genre': 'Rock'})\n",
      "2021-12-04 23:54:18,930 INFO sqlalchemy.engine.base.Engine INSERT INTO jch5x8.album (artist, album, genre) VALUES (%(artist)s, %(album)s, %(genre)s)\n",
      "2021-12-04 23:54:18,931 INFO sqlalchemy.engine.base.Engine ({'artist': 'U2', 'album': 'B-Sides 1980-1990', 'genre': 'Rock'}, {'artist': 'U2', 'album': 'B-Sides 1980-1990', 'genre': 'Rock'}, {'artist': 'U2', 'album': 'B-Sides 1980-1990', 'genre': 'Rock'}, {'artist': 'U2', 'album': 'B-Sides 1980-1990', 'genre': 'Rock'}, {'artist': 'U2', 'album': 'B-Sides 1980-1990', 'genre': 'Rock'}, {'artist': 'U2', 'album': 'B-Sides 1980-1990', 'genre': 'Rock'}, {'artist': 'U2', 'album': 'B-Sides 1980-1990', 'genre': 'Rock'}, {'artist': 'U2', 'album': 'B-Sides 1980-1990', 'genre': 'Rock'}  ... displaying 10 of 50 total bound parameter sets ...  {'artist': 'U2', 'album': 'Pop', 'genre': 'Rock'}, {'artist': 'U2', 'album': 'Pop', 'genre': 'Rock'})\n",
      "2021-12-04 23:54:18,940 INFO sqlalchemy.engine.base.Engine INSERT INTO jch5x8.album (artist, album, genre) VALUES (%(artist)s, %(album)s, %(genre)s)\n",
      "2021-12-04 23:54:18,940 INFO sqlalchemy.engine.base.Engine ({'artist': 'U2', 'album': 'Pop', 'genre': 'Rock'}, {'artist': 'U2', 'album': 'Pop', 'genre': 'Rock'}, {'artist': 'U2', 'album': 'Pop', 'genre': 'Rock'}, {'artist': 'U2', 'album': 'Pop', 'genre': 'Rock'}, {'artist': 'U2', 'album': 'Pop', 'genre': 'Rock'}, {'artist': 'U2', 'album': 'Pop', 'genre': 'Rock'}, {'artist': 'U2', 'album': 'Pop', 'genre': 'Rock'}, {'artist': 'U2', 'album': 'Pop', 'genre': 'Rock'}  ... displaying 10 of 50 total bound parameter sets ...  {'artist': 'U2', 'album': 'The Best Of 1980-1990', 'genre': 'Rock'}, {'artist': 'U2', 'album': 'The Best Of 1980-1990', 'genre': 'Rock'})\n",
      "2021-12-04 23:54:18,949 INFO sqlalchemy.engine.base.Engine INSERT INTO jch5x8.album (artist, album, genre) VALUES (%(artist)s, %(album)s, %(genre)s)\n",
      "2021-12-04 23:54:18,950 INFO sqlalchemy.engine.base.Engine ({'artist': 'U2', 'album': 'The Best Of 1980-1990', 'genre': 'Rock'}, {'artist': 'U2', 'album': 'The Best Of 1980-1990', 'genre': 'Rock'}, {'artist': 'U2', 'album': 'The Best Of 1980-1990', 'genre': 'Rock'}, {'artist': 'U2', 'album': 'The Best Of 1980-1990', 'genre': 'Rock'}, {'artist': 'U2', 'album': 'The Best Of 1980-1990', 'genre': 'Rock'}, {'artist': 'U2', 'album': 'The Best Of 1980-1990', 'genre': 'Rock'}, {'artist': 'U2', 'album': 'The Best Of 1980-1990', 'genre': 'Rock'}, {'artist': 'U2', 'album': 'The Best Of 1980-1990', 'genre': 'Rock'}  ... displaying 10 of 50 total bound parameter sets ...  {'artist': 'UB40', 'album': 'UB40 The Best Of - Volume Two [UK]', 'genre': 'Reggae'}, {'artist': 'UB40', 'album': 'UB40 The Best Of - Volume Two [UK]', 'genre': 'Reggae'})\n",
      "2021-12-04 23:54:18,959 INFO sqlalchemy.engine.base.Engine INSERT INTO jch5x8.album (artist, album, genre) VALUES (%(artist)s, %(album)s, %(genre)s)\n",
      "2021-12-04 23:54:18,959 INFO sqlalchemy.engine.base.Engine ({'artist': 'UB40', 'album': 'UB40 The Best Of - Volume Two [UK]', 'genre': 'Reggae'}, {'artist': 'UB40', 'album': 'UB40 The Best Of - Volume Two [UK]', 'genre': 'Reggae'}, {'artist': 'UB40', 'album': 'UB40 The Best Of - Volume Two [UK]', 'genre': 'Reggae'}, {'artist': 'UB40', 'album': 'UB40 The Best Of - Volume Two [UK]', 'genre': 'Reggae'}, {'artist': 'UB40', 'album': 'UB40 The Best Of - Volume Two [UK]', 'genre': 'Reggae'}, {'artist': 'UB40', 'album': 'UB40 The Best Of - Volume Two [UK]', 'genre': 'Reggae'}, {'artist': 'UB40', 'album': 'UB40 The Best Of - Volume Two [UK]', 'genre': 'Reggae'}, {'artist': 'UB40', 'album': 'UB40 The Best Of - Volume Two [UK]', 'genre': 'Reggae'}  ... displaying 10 of 50 total bound parameter sets ...  {'artist': 'Van Halen', 'album': 'The Best Of Van Halen, Vol. I', 'genre': 'Rock'}, {'artist': 'Van Halen', 'album': 'The Best Of Van Halen, Vol. I', 'genre': 'Rock'})\n",
      "2021-12-04 23:54:18,983 INFO sqlalchemy.engine.base.Engine INSERT INTO jch5x8.album (artist, album, genre) VALUES (%(artist)s, %(album)s, %(genre)s)\n",
      "2021-12-04 23:54:18,983 INFO sqlalchemy.engine.base.Engine ({'artist': 'Van Halen', 'album': 'The Best Of Van Halen, Vol. I', 'genre': 'Rock'}, {'artist': 'Van Halen', 'album': 'The Best Of Van Halen, Vol. I', 'genre': 'Rock'}, {'artist': 'Van Halen', 'album': 'The Best Of Van Halen, Vol. I', 'genre': 'Rock'}, {'artist': 'Van Halen', 'album': 'Van Halen', 'genre': 'Rock'}, {'artist': 'Van Halen', 'album': 'Van Halen', 'genre': 'Rock'}, {'artist': 'Van Halen', 'album': 'Van Halen', 'genre': 'Rock'}, {'artist': 'Van Halen', 'album': 'Van Halen', 'genre': 'Rock'}, {'artist': 'Van Halen', 'album': 'Van Halen', 'genre': 'Rock'}  ... displaying 10 of 50 total bound parameter sets ...  {'artist': 'Velvet Revolver', 'album': 'Contraband', 'genre': 'Rock'}, {'artist': 'Velvet Revolver', 'album': 'Contraband', 'genre': 'Rock'})\n",
      "2021-12-04 23:54:18,993 INFO sqlalchemy.engine.base.Engine INSERT INTO jch5x8.album (artist, album, genre) VALUES (%(artist)s, %(album)s, %(genre)s)\n",
      "2021-12-04 23:54:18,993 INFO sqlalchemy.engine.base.Engine ({'artist': 'Velvet Revolver', 'album': 'Contraband', 'genre': 'Rock'}, {'artist': 'Vinícius De Moraes', 'album': 'Vinicius De Moraes', 'genre': 'Latin'}, {'artist': 'Vinícius De Moraes', 'album': 'Vinicius De Moraes', 'genre': 'Latin'}, {'artist': 'Vinícius De Moraes', 'album': 'Vinicius De Moraes', 'genre': 'Latin'}, {'artist': 'Vinícius De Moraes', 'album': 'Vinicius De Moraes', 'genre': 'Latin'}, {'artist': 'Vinícius De Moraes', 'album': 'Vinicius De Moraes', 'genre': 'Latin'}, {'artist': 'Vinícius De Moraes', 'album': 'Vinicius De Moraes', 'genre': 'Latin'}, {'artist': 'Vinícius De Moraes', 'album': 'Vinicius De Moraes', 'genre': 'Latin'}  ... displaying 10 of 50 total bound parameter sets ...  {'artist': 'Zeca Pagodinho', 'album': 'Ao Vivo [IMPORT]', 'genre': 'Latin'}, {'artist': 'Zeca Pagodinho', 'album': 'Ao Vivo [IMPORT]', 'genre': 'Latin'})\n",
      "2021-12-04 23:54:19,003 INFO sqlalchemy.engine.base.Engine INSERT INTO jch5x8.album (artist, album, genre) VALUES (%(artist)s, %(album)s, %(genre)s)\n",
      "2021-12-04 23:54:19,003 INFO sqlalchemy.engine.base.Engine ({'artist': 'Zeca Pagodinho', 'album': 'Ao Vivo [IMPORT]', 'genre': 'Latin'}, {'artist': 'Zeca Pagodinho', 'album': 'Ao Vivo [IMPORT]', 'genre': 'Latin'}, {'artist': 'Zeca Pagodinho', 'album': 'Ao Vivo [IMPORT]', 'genre': 'Latin'}, {'artist': 'Zeca Pagodinho', 'album': 'Ao Vivo [IMPORT]', 'genre': 'Latin'}, {'artist': 'Zeca Pagodinho', 'album': 'Ao Vivo [IMPORT]', 'genre': 'Latin'}, {'artist': 'Zeca Pagodinho', 'album': 'Ao Vivo [IMPORT]', 'genre': 'Latin'}, {'artist': 'Zeca Pagodinho', 'album': 'Ao Vivo [IMPORT]', 'genre': 'Latin'}, {'artist': 'Zeca Pagodinho', 'album': 'Ao Vivo [IMPORT]', 'genre': 'Latin'}  ... displaying 10 of 50 total bound parameter sets ...  {'artist': 'House Of Pain', 'album': 'House of Pain', 'genre': 'Hip Hop/Rap'}, {'artist': 'House Of Pain', 'album': 'House of Pain', 'genre': 'Hip Hop/Rap'})\n",
      "2021-12-04 23:54:19,021 INFO sqlalchemy.engine.base.Engine INSERT INTO jch5x8.album (artist, album, genre) VALUES (%(artist)s, %(album)s, %(genre)s)\n",
      "2021-12-04 23:54:19,021 INFO sqlalchemy.engine.base.Engine ({'artist': 'House Of Pain', 'album': 'House of Pain', 'genre': 'Hip Hop/Rap'}, {'artist': 'House Of Pain', 'album': 'House of Pain', 'genre': 'Hip Hop/Rap'}, {'artist': 'House Of Pain', 'album': 'House of Pain', 'genre': 'Hip Hop/Rap'}, {'artist': 'House Of Pain', 'album': 'House of Pain', 'genre': 'Hip Hop/Rap'}, {'artist': 'House Of Pain', 'album': 'House of Pain', 'genre': 'Hip Hop/Rap'}, {'artist': 'House Of Pain', 'album': 'House of Pain', 'genre': 'Hip Hop/Rap'}, {'artist': 'House Of Pain', 'album': 'House of Pain', 'genre': 'Hip Hop/Rap'}, {'artist': 'House Of Pain', 'album': 'House of Pain', 'genre': 'Hip Hop/Rap'}  ... displaying 10 of 50 total bound parameter sets ...  {'artist': \"Guns N' Roses\", 'album': 'Appetite for Destruction', 'genre': 'Rock'}, {'artist': \"Guns N' Roses\", 'album': 'Appetite for Destruction', 'genre': 'Rock'})\n"
     ]
    },
    {
     "name": "stdout",
     "output_type": "stream",
     "text": [
      "2021-12-04 23:54:19,032 INFO sqlalchemy.engine.base.Engine INSERT INTO jch5x8.album (artist, album, genre) VALUES (%(artist)s, %(album)s, %(genre)s)\n",
      "2021-12-04 23:54:19,032 INFO sqlalchemy.engine.base.Engine ({'artist': \"Guns N' Roses\", 'album': 'Appetite for Destruction', 'genre': 'Rock'}, {'artist': \"Guns N' Roses\", 'album': 'Appetite for Destruction', 'genre': 'Rock'}, {'artist': \"Guns N' Roses\", 'album': 'Appetite for Destruction', 'genre': 'Rock'}, {'artist': \"Guns N' Roses\", 'album': 'Appetite for Destruction', 'genre': 'Rock'}, {'artist': \"Guns N' Roses\", 'album': 'Appetite for Destruction', 'genre': 'Rock'}, {'artist': \"Guns N' Roses\", 'album': 'Appetite for Destruction', 'genre': 'Rock'}, {'artist': \"Guns N' Roses\", 'album': 'Appetite for Destruction', 'genre': 'Rock'}, {'artist': \"Guns N' Roses\", 'album': 'Appetite for Destruction', 'genre': 'Rock'}  ... displaying 10 of 50 total bound parameter sets ...  {'artist': 'Iron Maiden', 'album': 'A Matter of Life and Death', 'genre': 'Rock'}, {'artist': 'Iron Maiden', 'album': 'A Matter of Life and Death', 'genre': 'Rock'})\n",
      "2021-12-04 23:54:19,041 INFO sqlalchemy.engine.base.Engine INSERT INTO jch5x8.album (artist, album, genre) VALUES (%(artist)s, %(album)s, %(genre)s)\n",
      "2021-12-04 23:54:19,042 INFO sqlalchemy.engine.base.Engine ({'artist': 'Iron Maiden', 'album': 'A Matter of Life and Death', 'genre': 'Rock'}, {'artist': 'Iron Maiden', 'album': 'A Matter of Life and Death', 'genre': 'Rock'}, {'artist': 'Iron Maiden', 'album': 'A Matter of Life and Death', 'genre': 'Rock'}, {'artist': 'Joe Satriani', 'album': 'Surfing with the Alien (Remastered)', 'genre': 'Rock'}, {'artist': 'Joe Satriani', 'album': 'Surfing with the Alien (Remastered)', 'genre': 'Rock'}, {'artist': 'Joe Satriani', 'album': 'Surfing with the Alien (Remastered)', 'genre': 'Rock'}, {'artist': 'Joe Satriani', 'album': 'Surfing with the Alien (Remastered)', 'genre': 'Rock'}, {'artist': 'Joe Satriani', 'album': 'Surfing with the Alien (Remastered)', 'genre': 'Rock'}  ... displaying 10 of 50 total bound parameter sets ...  {'artist': 'U2', 'album': 'Instant Karma: The Amnesty International Campaign to Save Darfur', 'genre': 'Pop'}, {'artist': 'U2', 'album': 'Instant Karma: The Amnesty International Campaign to Save Darfur', 'genre': 'Pop'})\n",
      "2021-12-04 23:54:19,052 INFO sqlalchemy.engine.base.Engine INSERT INTO jch5x8.album (artist, album, genre) VALUES (%(artist)s, %(album)s, %(genre)s)\n",
      "2021-12-04 23:54:19,052 INFO sqlalchemy.engine.base.Engine ({'artist': 'U2', 'album': 'Instant Karma: The Amnesty International Campaign to Save Darfur', 'genre': 'Pop'}, {'artist': 'U2', 'album': 'Instant Karma: The Amnesty International Campaign to Save Darfur', 'genre': 'Pop'}, {'artist': 'U2', 'album': 'Instant Karma: The Amnesty International Campaign to Save Darfur', 'genre': 'Pop'}, {'artist': 'U2', 'album': 'Instant Karma: The Amnesty International Campaign to Save Darfur', 'genre': 'Pop'}, {'artist': 'U2', 'album': 'Instant Karma: The Amnesty International Campaign to Save Darfur', 'genre': 'Pop'}, {'artist': 'U2', 'album': 'Instant Karma: The Amnesty International Campaign to Save Darfur', 'genre': 'Pop'}, {'artist': 'U2', 'album': 'Instant Karma: The Amnesty International Campaign to Save Darfur', 'genre': 'Pop'}, {'artist': 'Ozzy Osbourne', 'album': 'Speak of the Devil', 'genre': 'Rock'}  ... displaying 10 of 50 total bound parameter sets ...  {'artist': 'Temple of the Dog', 'album': 'Temple of the Dog', 'genre': 'Alternative'}, {'artist': 'Temple of the Dog', 'album': 'Temple of the Dog', 'genre': 'Alternative'})\n",
      "2021-12-04 23:54:19,063 INFO sqlalchemy.engine.base.Engine INSERT INTO jch5x8.album (artist, album, genre) VALUES (%(artist)s, %(album)s, %(genre)s)\n",
      "2021-12-04 23:54:19,063 INFO sqlalchemy.engine.base.Engine ({'artist': 'Temple of the Dog', 'album': 'Temple of the Dog', 'genre': 'Alternative'}, {'artist': 'Temple of the Dog', 'album': 'Temple of the Dog', 'genre': 'Alternative'}, {'artist': 'Temple of the Dog', 'album': 'Temple of the Dog', 'genre': 'Alternative'}, {'artist': 'Temple of the Dog', 'album': 'Temple of the Dog', 'genre': 'Alternative'}, {'artist': 'Temple of the Dog', 'album': 'Temple of the Dog', 'genre': 'Alternative'}, {'artist': 'Temple of the Dog', 'album': 'Temple of the Dog', 'genre': 'Alternative'}, {'artist': 'Temple of the Dog', 'album': 'Temple of the Dog', 'genre': 'Alternative'}, {'artist': 'Temple of the Dog', 'album': 'Temple of the Dog', 'genre': 'Alternative'}  ... displaying 10 of 50 total bound parameter sets ...  {'artist': 'Richard Marlow & The Choir of Trinity College, Cambridge', 'album': 'Allegri: Miserere', 'genre': 'Classical'}, {'artist': 'Richard Marlow & The Choir of Trinity College, Cambridge', 'album': 'Allegri: Miserere', 'genre': 'Classical'})\n",
      "2021-12-04 23:54:19,072 INFO sqlalchemy.engine.base.Engine INSERT INTO jch5x8.album (artist, album, genre) VALUES (%(artist)s, %(album)s, %(genre)s)\n",
      "2021-12-04 23:54:19,073 INFO sqlalchemy.engine.base.Engine ({'artist': 'English Concert & Trevor Pinnock', 'album': 'Pachelbel: Canon & Gigue', 'genre': 'Classical'}, {'artist': 'English Concert & Trevor Pinnock', 'album': 'Pachelbel: Canon & Gigue', 'genre': 'Classical'}, {'artist': 'English Concert & Trevor Pinnock', 'album': 'Pachelbel: Canon & Gigue', 'genre': 'Classical'}, {'artist': 'Anne-Sophie Mutter, Herbert Von Karajan & Wiener Philharmoniker', 'album': 'Vivaldi: The Four Seasons', 'genre': 'Classical'}, {'artist': 'Anne-Sophie Mutter, Herbert Von Karajan & Wiener Philharmoniker', 'album': 'Vivaldi: The Four Seasons', 'genre': 'Classical'}, {'artist': 'Anne-Sophie Mutter, Herbert Von Karajan & Wiener Philharmoniker', 'album': 'Vivaldi: The Four Seasons', 'genre': 'Classical'}, {'artist': 'Hilary Hahn, Jeffrey Kahane, Los Angeles Chamber Orchestra & Margaret Batjer', 'album': 'Bach: Violin Concertos', 'genre': 'Classical'}, {'artist': 'Hilary Hahn, Jeffrey Kahane, Los Angeles Chamber Orchestra & Margaret Batjer', 'album': 'Bach: Violin Concertos', 'genre': 'Classical'}  ... displaying 10 of 50 total bound parameter sets ...  {'artist': 'Academy of St. Martin in the Fields, John Birch, Sir Neville Marriner & Sylvia McNair', 'album': 'Fauré: Requiem, Ravel: Pavane & Others', 'genre': 'Classical'}, {'artist': 'Academy of St. Martin in the Fields, John Birch, Sir Neville Marriner & Sylvia McNair', 'album': 'Fauré: Requiem, Ravel: Pavane & Others', 'genre': 'Classical'})\n",
      "2021-12-04 23:54:19,085 INFO sqlalchemy.engine.base.Engine INSERT INTO jch5x8.album (artist, album, genre) VALUES (%(artist)s, %(album)s, %(genre)s)\n",
      "2021-12-04 23:54:19,086 INFO sqlalchemy.engine.base.Engine ({'artist': 'London Symphony Orchestra & Sir Charles Mackerras', 'album': 'Tchaikovsky: The Nutcracker', 'genre': 'Classical'}, {'artist': 'London Symphony Orchestra & Sir Charles Mackerras', 'album': 'Tchaikovsky: The Nutcracker', 'genre': 'Classical'}, {'artist': 'London Symphony Orchestra & Sir Charles Mackerras', 'album': 'Tchaikovsky: The Nutcracker', 'genre': 'Classical'}, {'artist': 'Barry Wordsworth & BBC Concert Orchestra', 'album': 'The Last Night of the Proms', 'genre': 'Classical'}, {'artist': 'Barry Wordsworth & BBC Concert Orchestra', 'album': 'The Last Night of the Proms', 'genre': 'Classical'}, {'artist': 'Barry Wordsworth & BBC Concert Orchestra', 'album': 'The Last Night of the Proms', 'genre': 'Classical'}, {'artist': 'Barry Wordsworth & BBC Concert Orchestra', 'album': 'The Last Night of the Proms', 'genre': 'Classical'}, {'artist': 'Herbert Von Karajan, Mirella Freni & Wiener Philharmoniker', 'album': 'Puccini: Madama Butterfly - Highlights', 'genre': 'Classical'}  ... displaying 10 of 50 total bound parameter sets ...  {'artist': 'James Levine', 'album': 'Mascagni: Cavalleria Rusticana', 'genre': 'Classical'}, {'artist': 'James Levine', 'album': 'Mascagni: Cavalleria Rusticana', 'genre': 'Classical'})\n",
      "2021-12-04 23:54:19,099 INFO sqlalchemy.engine.base.Engine INSERT INTO jch5x8.album (artist, album, genre) VALUES (%(artist)s, %(album)s, %(genre)s)\n",
      "2021-12-04 23:54:19,100 INFO sqlalchemy.engine.base.Engine ({'artist': 'Berliner Philharmoniker & Hans Rosbaud', 'album': 'Sibelius: Finlandia', 'genre': 'Classical'}, {'artist': 'Berliner Philharmoniker & Hans Rosbaud', 'album': 'Sibelius: Finlandia', 'genre': 'Classical'}, {'artist': 'Berliner Philharmoniker & Hans Rosbaud', 'album': 'Sibelius: Finlandia', 'genre': 'Classical'}, {'artist': 'Berliner Philharmoniker & Hans Rosbaud', 'album': 'Sibelius: Finlandia', 'genre': 'Classical'}, {'artist': 'Maurizio Pollini', 'album': 'Beethoven Piano Sonatas: Moonlight & Pastorale', 'genre': 'Classical'}, {'artist': 'Maurizio Pollini', 'album': 'Beethoven Piano Sonatas: Moonlight & Pastorale', 'genre': 'Classical'}, {'artist': 'Maurizio Pollini', 'album': 'Beethoven Piano Sonatas: Moonlight & Pastorale', 'genre': 'Classical'}, {'artist': 'Maurizio Pollini', 'album': 'Beethoven Piano Sonatas: Moonlight & Pastorale', 'genre': 'Classical'}  ... displaying 10 of 50 total bound parameter sets ...  {'artist': \"The King's Singers\", 'album': 'English Renaissance', 'genre': 'Classical'}, {'artist': 'English Concert & Trevor Pinnock', 'album': 'Handel: Music for the Royal Fireworks (Original Version 1749)', 'genre': 'Classical'})\n"
     ]
    },
    {
     "name": "stdout",
     "output_type": "stream",
     "text": [
      "2021-12-04 23:54:19,109 INFO sqlalchemy.engine.base.Engine INSERT INTO jch5x8.album (artist, album, genre) VALUES (%(artist)s, %(album)s, %(genre)s)\n",
      "2021-12-04 23:54:19,110 INFO sqlalchemy.engine.base.Engine ({'artist': 'English Concert & Trevor Pinnock', 'album': 'Handel: Music for the Royal Fireworks (Original Version 1749)', 'genre': 'Classical'}, {'artist': 'English Concert & Trevor Pinnock', 'album': 'Handel: Music for the Royal Fireworks (Original Version 1749)', 'genre': 'Classical'}, {'artist': 'English Concert & Trevor Pinnock', 'album': 'Handel: Music for the Royal Fireworks (Original Version 1749)', 'genre': 'Classical'}, {'artist': 'Berliner Philharmoniker & Herbert Von Karajan', 'album': 'Grieg: Peer Gynt Suites & Sibelius: Pelléas et Mélisande', 'genre': 'Classical'}, {'artist': 'Berliner Philharmoniker & Herbert Von Karajan', 'album': 'Grieg: Peer Gynt Suites & Sibelius: Pelléas et Mélisande', 'genre': 'Classical'}, {'artist': 'Berliner Philharmoniker & Herbert Von Karajan', 'album': 'Grieg: Peer Gynt Suites & Sibelius: Pelléas et Mélisande', 'genre': 'Classical'}, {'artist': 'Sir Georg Solti, Sumi Jo & Wiener Philharmoniker', 'album': 'Mozart Gala: Famous Arias', 'genre': 'Opera'}, {'artist': 'Sir Georg Solti, Sumi Jo & Wiener Philharmoniker', 'album': 'Mozart Gala: Famous Arias', 'genre': 'Opera'}  ... displaying 10 of 50 total bound parameter sets ...  {'artist': 'Academy of St. Martin in the Fields, Sir Neville Marriner & Thurston Dart', 'album': 'Bach: Orchestral Suites Nos. 1 - 4', 'genre': 'Classical'}, {'artist': 'Les Arts Florissants & William Christie', 'album': 'Charpentier: Divertissements, Airs & Concerts', 'genre': 'Classical'})\n",
      "2021-12-04 23:54:19,119 INFO sqlalchemy.engine.base.Engine INSERT INTO jch5x8.album (artist, album, genre) VALUES (%(artist)s, %(album)s, %(genre)s)\n",
      "2021-12-04 23:54:19,120 INFO sqlalchemy.engine.base.Engine ({'artist': 'Les Arts Florissants & William Christie', 'album': 'Charpentier: Divertissements, Airs & Concerts', 'genre': 'Classical'}, {'artist': 'Les Arts Florissants & William Christie', 'album': 'Charpentier: Divertissements, Airs & Concerts', 'genre': 'Classical'}, {'artist': 'The 12 Cellists of The Berlin Philharmonic', 'album': 'South American Getaway', 'genre': 'Classical'}, {'artist': 'The 12 Cellists of The Berlin Philharmonic', 'album': 'South American Getaway', 'genre': 'Classical'}, {'artist': 'The 12 Cellists of The Berlin Philharmonic', 'album': 'South American Getaway', 'genre': 'Classical'}, {'artist': 'Adrian Leaper & Doreen de Feis', 'album': 'Górecki: Symphony No. 3', 'genre': 'Classical'}, {'artist': 'Adrian Leaper & Doreen de Feis', 'album': 'Górecki: Symphony No. 3', 'genre': 'Classical'}, {'artist': 'Adrian Leaper & Doreen de Feis', 'album': 'Górecki: Symphony No. 3', 'genre': 'Classical'}  ... displaying 10 of 50 total bound parameter sets ...  {'artist': 'Eugene Ormandy', 'album': 'Respighi:Pines of Rome', 'genre': 'Classical'}, {'artist': 'Eugene Ormandy', 'album': 'Respighi:Pines of Rome', 'genre': 'Classical'})\n",
      "2021-12-04 23:54:19,129 INFO sqlalchemy.engine.base.Engine INSERT INTO jch5x8.album (artist, album, genre) VALUES (%(artist)s, %(album)s, %(genre)s)\n",
      "2021-12-04 23:54:19,130 INFO sqlalchemy.engine.base.Engine ({'artist': 'Emerson String Quartet', 'album': \"Schubert: The Late String Quartets & String Quintet (3 CD's)\", 'genre': 'Classical'}, {'artist': 'Emerson String Quartet', 'album': \"Schubert: The Late String Quartets & String Quintet (3 CD's)\", 'genre': 'Classical'}, {'artist': 'Emerson String Quartet', 'album': \"Schubert: The Late String Quartets & String Quintet (3 CD's)\", 'genre': 'Classical'}, {'artist': 'C. Monteverdi, Nigel Rogers - Chiaroscuro; London Baroque; London Cornett & Sackbu', 'album': \"Monteverdi: L'Orfeo\", 'genre': 'Classical'}, {'artist': 'C. Monteverdi, Nigel Rogers - Chiaroscuro; London Baroque; London Cornett & Sackbu', 'album': \"Monteverdi: L'Orfeo\", 'genre': 'Classical'}, {'artist': 'C. Monteverdi, Nigel Rogers - Chiaroscuro; London Baroque; London Cornett & Sackbu', 'album': \"Monteverdi: L'Orfeo\", 'genre': 'Classical'}, {'artist': 'Nash Ensemble', 'album': 'Mozart: Chamber Music', 'genre': 'Classical'}, {'artist': 'Nash Ensemble', 'album': 'Mozart: Chamber Music', 'genre': 'Classical'}  ... displaying 10 of 50 total bound parameter sets ...  {'artist': 'Heroes', 'album': 'Heroes, Season 1', 'genre': 'Drama'}, {'artist': 'Heroes', 'album': 'Heroes, Season 1', 'genre': 'Drama'})\n",
      "2021-12-04 23:54:19,138 INFO sqlalchemy.engine.base.Engine INSERT INTO jch5x8.album (artist, album, genre) VALUES (%(artist)s, %(album)s, %(genre)s)\n",
      "2021-12-04 23:54:19,139 INFO sqlalchemy.engine.base.Engine ({'artist': 'Heroes', 'album': 'Heroes, Season 1', 'genre': 'Drama'}, {'artist': 'Lost', 'album': 'Lost, Season 3', 'genre': 'TV Shows'}, {'artist': 'Lost', 'album': 'Lost, Season 1', 'genre': 'TV Shows'}, {'artist': 'Lost', 'album': 'Lost, Season 2', 'genre': 'TV Shows'}, {'artist': 'Lost', 'album': 'Lost, Season 2', 'genre': 'TV Shows'}, {'artist': 'Lost', 'album': 'Lost, Season 1', 'genre': 'TV Shows'}, {'artist': 'Lost', 'album': 'Lost, Season 3', 'genre': 'Drama'}, {'artist': 'Lost', 'album': 'Lost, Season 3', 'genre': 'TV Shows'}  ... displaying 10 of 50 total bound parameter sets ...  {'artist': 'Lost', 'album': 'Lost, Season 1', 'genre': 'TV Shows'}, {'artist': 'Lost', 'album': 'Lost, Season 2', 'genre': 'Drama'})\n",
      "2021-12-04 23:54:19,148 INFO sqlalchemy.engine.base.Engine INSERT INTO jch5x8.album (artist, album, genre) VALUES (%(artist)s, %(album)s, %(genre)s)\n",
      "2021-12-04 23:54:19,149 INFO sqlalchemy.engine.base.Engine ({'artist': 'Lost', 'album': 'Lost, Season 1', 'genre': 'TV Shows'}, {'artist': 'Lost', 'album': 'Lost, Season 2', 'genre': 'Drama'}, {'artist': 'Lost', 'album': 'Lost, Season 3', 'genre': 'Drama'}, {'artist': 'Lost', 'album': 'Lost, Season 3', 'genre': 'Drama'}, {'artist': 'Lost', 'album': 'Lost, Season 2', 'genre': 'TV Shows'}, {'artist': 'Lost', 'album': 'Lost, Season 1', 'genre': 'TV Shows'}, {'artist': 'Lost', 'album': 'Lost, Season 3', 'genre': 'Drama'}, {'artist': 'Lost', 'album': 'Lost, Season 1', 'genre': 'TV Shows'}  ... displaying 10 of 50 total bound parameter sets ...  {'artist': 'The Office', 'album': 'The Office, Season 2', 'genre': 'TV Shows'}, {'artist': 'The Office', 'album': 'The Office, Season 2', 'genre': 'TV Shows'})\n",
      "2021-12-04 23:54:19,159 INFO sqlalchemy.engine.base.Engine INSERT INTO jch5x8.album (artist, album, genre) VALUES (%(artist)s, %(album)s, %(genre)s)\n",
      "2021-12-04 23:54:19,159 INFO sqlalchemy.engine.base.Engine ({'artist': 'The Office', 'album': 'The Office, Season 2', 'genre': 'TV Shows'}, {'artist': 'The Office', 'album': 'The Office, Season 2', 'genre': 'TV Shows'}, {'artist': 'The Office', 'album': 'The Office, Season 2', 'genre': 'TV Shows'}, {'artist': 'The Office', 'album': 'The Office, Season 2', 'genre': 'TV Shows'}, {'artist': 'The Office', 'album': 'The Office, Season 2', 'genre': 'TV Shows'}, {'artist': 'The Office', 'album': 'The Office, Season 3', 'genre': 'TV Shows'}, {'artist': 'The Office', 'album': 'The Office, Season 3', 'genre': 'TV Shows'}, {'artist': 'The Office', 'album': 'The Office, Season 3', 'genre': 'TV Shows'}  ... displaying 10 of 50 total bound parameter sets ...  {'artist': 'Battlestar Galactica (Classic)', 'album': 'Battlestar Galactica (Classic), Season 1', 'genre': 'Sci Fi & Fantasy'}, {'artist': 'Battlestar Galactica (Classic)', 'album': 'Battlestar Galactica (Classic), Season 1', 'genre': 'Sci Fi & Fantasy'})\n",
      "2021-12-04 23:54:19,169 INFO sqlalchemy.engine.base.Engine INSERT INTO jch5x8.album (artist, album, genre) VALUES (%(artist)s, %(album)s, %(genre)s)\n",
      "2021-12-04 23:54:19,170 INFO sqlalchemy.engine.base.Engine ({'artist': 'Battlestar Galactica (Classic)', 'album': 'Battlestar Galactica (Classic), Season 1', 'genre': 'Sci Fi & Fantasy'}, {'artist': 'Battlestar Galactica (Classic)', 'album': 'Battlestar Galactica (Classic), Season 1', 'genre': 'Sci Fi & Fantasy'}, {'artist': 'Battlestar Galactica (Classic)', 'album': 'Battlestar Galactica (Classic), Season 1', 'genre': 'Sci Fi & Fantasy'}, {'artist': 'Battlestar Galactica (Classic)', 'album': 'Battlestar Galactica (Classic), Season 1', 'genre': 'Sci Fi & Fantasy'}, {'artist': 'Aquaman', 'album': 'Aquaman', 'genre': 'TV Shows'}, {'artist': 'Lost', 'album': 'Lost, Season 3', 'genre': 'Drama'}, {'artist': 'Lost', 'album': 'Lost, Season 3', 'genre': 'Drama'}, {'artist': 'Lost', 'album': 'LOST, Season 4', 'genre': 'Drama'}  ... displaying 10 of 50 total bound parameter sets ...  {'artist': 'Aisha Duo', 'album': 'Quiet Songs', 'genre': 'Jazz'}, {'artist': 'Aisha Duo', 'album': 'Quiet Songs', 'genre': 'Jazz'})\n"
     ]
    },
    {
     "name": "stdout",
     "output_type": "stream",
     "text": [
      "2021-12-04 23:54:19,179 INFO sqlalchemy.engine.base.Engine INSERT INTO jch5x8.album (artist, album, genre) VALUES (%(artist)s, %(album)s, %(genre)s)\n",
      "2021-12-04 23:54:19,180 INFO sqlalchemy.engine.base.Engine ({'artist': 'Habib Koité and Bamada', 'album': 'Muso Ko', 'genre': 'World'}, {'artist': 'Habib Koité and Bamada', 'album': 'Muso Ko', 'genre': 'World'}, {'artist': 'Karsh Kale', 'album': 'Realize', 'genre': 'Electronica/Dance'}, {'artist': 'The Posies', 'album': 'Every Kind of Light', 'genre': 'Rock'}, {'artist': 'Habib Koité and Bamada', 'album': 'Muso Ko', 'genre': 'World'}, {'artist': 'Habib Koité and Bamada', 'album': 'Muso Ko', 'genre': 'World'}, {'artist': 'The Posies', 'album': 'Every Kind of Light', 'genre': 'Rock'}, {'artist': 'Luciana Souza/Romero Lubambo', 'album': 'Duos II', 'genre': 'Latin'}  ... displaying 10 of 12 total bound parameter sets ...  {'artist': 'Nicolaus Esterhazy Sinfonia', 'album': 'The Best of Beethoven', 'genre': 'Classical'}, {'artist': 'Nicolaus Esterhazy Sinfonia', 'album': 'The Best of Beethoven', 'genre': 'Classical'})\n",
      "2021-12-04 23:54:19,183 INFO sqlalchemy.engine.base.Engine COMMIT\n"
     ]
    }
   ],
   "source": [
    "col_list = [\"album\", \"artist\", \"genre\", \"track\"]\n",
    "album = pd.read_csv(\"tracks.csv\", usecols = col_list)\n",
    "album = album.drop_duplicates()\n",
    "#album.head()\n",
    "\n",
    "album.to_sql('album',             # Table to load to\n",
    "            engine,               # Engine created above\n",
    "            schema = username,    # Schema where table lives\n",
    "            if_exists = 'append', # If table found, add data\n",
    "            index = False,        # Ignore data frame row index\n",
    "            chunksize = 50        # Load 50 records from data frame at a time\n",
    "        )"
   ]
  },
  {
   "cell_type": "code",
   "execution_count": 44,
   "metadata": {},
   "outputs": [
    {
     "data": {
      "text/html": [
       "<div>\n",
       "<style scoped>\n",
       "    .dataframe tbody tr th:only-of-type {\n",
       "        vertical-align: middle;\n",
       "    }\n",
       "\n",
       "    .dataframe tbody tr th {\n",
       "        vertical-align: top;\n",
       "    }\n",
       "\n",
       "    .dataframe thead th {\n",
       "        text-align: right;\n",
       "    }\n",
       "</style>\n",
       "<table border=\"1\" class=\"dataframe\">\n",
       "  <thead>\n",
       "    <tr style=\"text-align: right;\">\n",
       "      <th></th>\n",
       "      <th>track_id</th>\n",
       "      <th>song</th>\n",
       "      <th>playlist</th>\n",
       "      <th>media_type</th>\n",
       "      <th>bytes</th>\n",
       "    </tr>\n",
       "  </thead>\n",
       "  <tbody>\n",
       "    <tr>\n",
       "      <th>0</th>\n",
       "      <td>1</td>\n",
       "      <td>For Those About To Rock (We Salute You)</td>\n",
       "      <td>Music</td>\n",
       "      <td>MPEG audio file</td>\n",
       "      <td>11170334</td>\n",
       "    </tr>\n",
       "    <tr>\n",
       "      <th>1</th>\n",
       "      <td>1</td>\n",
       "      <td>For Those About To Rock (We Salute You)</td>\n",
       "      <td>Heavy Metal Classic</td>\n",
       "      <td>MPEG audio file</td>\n",
       "      <td>11170334</td>\n",
       "    </tr>\n",
       "    <tr>\n",
       "      <th>2</th>\n",
       "      <td>6</td>\n",
       "      <td>Put The Finger On You</td>\n",
       "      <td>Music</td>\n",
       "      <td>MPEG audio file</td>\n",
       "      <td>6713451</td>\n",
       "    </tr>\n",
       "    <tr>\n",
       "      <th>3</th>\n",
       "      <td>7</td>\n",
       "      <td>Let's Get It Up</td>\n",
       "      <td>Music</td>\n",
       "      <td>MPEG audio file</td>\n",
       "      <td>7636561</td>\n",
       "    </tr>\n",
       "    <tr>\n",
       "      <th>4</th>\n",
       "      <td>8</td>\n",
       "      <td>Inject The Venom</td>\n",
       "      <td>Music</td>\n",
       "      <td>MPEG audio file</td>\n",
       "      <td>6852860</td>\n",
       "    </tr>\n",
       "  </tbody>\n",
       "</table>\n",
       "</div>"
      ],
      "text/plain": [
       "   track_id                                     song             playlist  \\\n",
       "0         1  For Those About To Rock (We Salute You)                Music   \n",
       "1         1  For Those About To Rock (We Salute You)  Heavy Metal Classic   \n",
       "2         6                    Put The Finger On You                Music   \n",
       "3         7                          Let's Get It Up                Music   \n",
       "4         8                         Inject The Venom                Music   \n",
       "\n",
       "        media_type     bytes  \n",
       "0  MPEG audio file  11170334  \n",
       "1  MPEG audio file  11170334  \n",
       "2  MPEG audio file   6713451  \n",
       "3  MPEG audio file   7636561  \n",
       "4  MPEG audio file   6852860  "
      ]
     },
     "execution_count": 44,
     "metadata": {},
     "output_type": "execute_result"
    }
   ],
   "source": [
    "col_list = [\"track\", \"song\", \"playlist\", \"media_type\", \"bytes\"]\n",
    "tracks = pd.read_csv(\"tracks.csv\", usecols = col_list)\n",
    "# col_list2 = [\"track_id\", \"unit_price\"]\n",
    "# price = pd.read_csv(\"invoice.csv\", usecols = col_list2)\n",
    "# tracks = pd.merge(tracks, price, on=\"track_id\", how=\"left\")\n",
    "# tracks = tracks.drop('track_id', 1)\n",
    "# tracks['unit_price'] = tracks['unit_price'].fillna(0)\n",
    "#tracks.head()\n",
    "\n",
    "tracks.to_sql('tracks',           # Table to load to\n",
    "            engine,               # Engine created above\n",
    "            schema = username,    # Schema where table lives\n",
    "            if_exists = 'append', # If table found, add data\n",
    "            index = False,        # Ignore data frame row index\n",
    "            chunksize = 50        # Load 50 records from data frame at a time\n",
    "        )"
   ]
  },
  {
   "cell_type": "code",
   "execution_count": null,
   "metadata": {},
   "outputs": [],
   "source": [
    "col_list = [\"invoice_id\", \"track_id\", \"customer_id\", \"unit_price\"]\n",
    "invoice = pd.read_csv(\"invoice.csv\", usecols = col_list)\n",
    "#invoice.head()\n",
    "\n",
    "invoice.to_sql('invoice',         # Table to load to\n",
    "            engine,               # Engine created above\n",
    "            schema = username,    # Schema where table lives\n",
    "            if_exists = 'append', # If table found, add data\n",
    "            index = False,        # Ignore data frame row index\n",
    "            chunksize = 50        # Load 50 records from data frame at a time\n",
    "        )"
   ]
  },
  {
   "cell_type": "markdown",
   "metadata": {
    "collapsed": true
   },
   "source": [
    "## Once Loaded\n",
    "  * Write SQL to show the `COUNT(*)` from each table loaded."
   ]
  },
  {
   "cell_type": "code",
   "execution_count": null,
   "metadata": {
    "collapsed": true
   },
   "outputs": [],
   "source": []
  },
  {
   "cell_type": "code",
   "execution_count": null,
   "metadata": {},
   "outputs": [],
   "source": []
  },
  {
   "cell_type": "code",
   "execution_count": null,
   "metadata": {
    "collapsed": true
   },
   "outputs": [],
   "source": []
  },
  {
   "cell_type": "code",
   "execution_count": null,
   "metadata": {
    "collapsed": true
   },
   "outputs": [],
   "source": []
  },
  {
   "cell_type": "code",
   "execution_count": null,
   "metadata": {
    "collapsed": true
   },
   "outputs": [],
   "source": []
  },
  {
   "cell_type": "code",
   "execution_count": null,
   "metadata": {
    "collapsed": true
   },
   "outputs": [],
   "source": []
  },
  {
   "cell_type": "code",
   "execution_count": null,
   "metadata": {
    "collapsed": true
   },
   "outputs": [],
   "source": []
  },
  {
   "cell_type": "markdown",
   "metadata": {},
   "source": [
    "#  Write some basic queries.\n",
    "\n",
    "\n",
    "## List each artist and the average bytes per song."
   ]
  },
  {
   "cell_type": "code",
   "execution_count": null,
   "metadata": {
    "collapsed": true
   },
   "outputs": [],
   "source": []
  },
  {
   "cell_type": "markdown",
   "metadata": {},
   "source": [
    "## List average number of tracks per album for each artist."
   ]
  },
  {
   "cell_type": "code",
   "execution_count": null,
   "metadata": {
    "collapsed": true
   },
   "outputs": [],
   "source": []
  },
  {
   "cell_type": "markdown",
   "metadata": {},
   "source": [
    "## List the top five customers in terms of tracks purchased."
   ]
  },
  {
   "cell_type": "code",
   "execution_count": null,
   "metadata": {
    "collapsed": true
   },
   "outputs": [],
   "source": [
    " "
   ]
  },
  {
   "cell_type": "markdown",
   "metadata": {},
   "source": [
    "## List the top genre preference per customer."
   ]
  },
  {
   "cell_type": "code",
   "execution_count": null,
   "metadata": {
    "collapsed": true
   },
   "outputs": [],
   "source": []
  },
  {
   "cell_type": "markdown",
   "metadata": {},
   "source": [
    "# Save your notebook, then `File > Close and Halt`"
   ]
  }
 ],
 "metadata": {
  "kernelspec": {
   "display_name": "Python 3",
   "language": "python",
   "name": "python3"
  },
  "language_info": {
   "codemirror_mode": {
    "name": "ipython",
    "version": 3
   },
   "file_extension": ".py",
   "mimetype": "text/x-python",
   "name": "python",
   "nbconvert_exporter": "python",
   "pygments_lexer": "ipython3",
   "version": "3.7.3"
  }
 },
 "nbformat": 4,
 "nbformat_minor": 1
}
