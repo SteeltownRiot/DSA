{
 "cells": [
  {
   "cell_type": "markdown",
   "metadata": {},
   "source": [
    "# Database Design and Load Exercise\n",
    "\n",
    "### Steps\n",
    " 1. Analyze - Completed last module\n",
    " 2. Design - Completed last module. \n",
    " 3. Data Carpentry\n",
    " 4. Data Loading\n",
    " 5. Analytical Queries"
   ]
  },
  {
   "cell_type": "markdown",
   "metadata": {},
   "source": [
    "# Smart Stores ERD\n",
    "Last module everyone was to build an ERD diagram based on the entities and attributes below.\n",
    "\n"
   ]
  },
  {
   "cell_type": "markdown",
   "metadata": {},
   "source": [
    "### orders :\n",
    "* `order_id`: order identifier\n",
    "* `user_id`: customer identifier\n",
    "* `eval_set`: which evaluation set this order belongs in (see `SET` described below)\n",
    "* `order_number`: the order sequence number for this user (1 = first, n = nth)\n",
    "* `order_dow`: the day of the week the order was placed on\n",
    "* `order_hour_of_day`: the hour of the day the order was placed on\n",
    "* `days_since_prior`: days since the last order, capped at 30 (with NAs for `order_number` = 1)\n",
    "\n",
    "### products :\n",
    "* `product_id`: product identifier\n",
    "* `product_name`: name of the product\n",
    "* `aisle_id`: foreign key\n",
    "* `department_id`: foreign key\n",
    "\n",
    "### aisles :\n",
    "* `aisle_id`: aisle identifier\n",
    "* `aisle`: the name of the aisle\n",
    "\n",
    "### deptartments :\n",
    "* `department_id`: department identifier\n",
    "* `department`: the name of the department\n",
    "\n",
    "### order_products :\n",
    "* `order_id`: foreign key\n",
    "* `product_id`: foreign key\n",
    "* `add_to_cart_order`: order in which each product was added to cart\n",
    "* `reordered`: 1 if this product has been ordered by this user in the past, 0 otherwise\n",
    "\n",
    "#### where SET is one of the four following evaluation sets (eval_set in orders):\n",
    "\n",
    "* \"prior\": orders prior to that users most recent order (~3.2m orders)\n",
    "* \"train\": training data supplied to participants (~131k orders)\n",
    "* \"test\": test data reserved for machine learning competitions (~75k orders)"
   ]
  },
  {
   "cell_type": "markdown",
   "metadata": {
    "collapsed": true
   },
   "source": [
    "# ERD Diagram\n",
    "\n",
    "For this assignment this is the ERD diagram everyone should use based on the requirements above. It is ok if you had something a little bit different in last week's exercise as long as you captured all of the requirements and relationships."
   ]
  },
  {
   "cell_type": "markdown",
   "metadata": {
    "collapsed": true
   },
   "source": [
    "![erd](../images/db_design.png)"
   ]
  },
  {
   "cell_type": "markdown",
   "metadata": {},
   "source": [
    "### Activity 1 - Create the tables in the database\n",
    " 1. Convert the Entities and attributes into a Database schema for Postgres\n",
    " 1. Remember to prefix table names with your database id, e.g., _SSO_.\n",
    "    * Example: `CREATE TABLE SSO.Order ... `\n",
    "    \n",
    "**Remember to specify your Primary Keys and Foreign Keys for each table!** "
   ]
  },
  {
   "cell_type": "markdown",
   "metadata": {},
   "source": [
    "\n",
    "\n",
    "\n",
    "\n",
    "\n",
    "\n",
    "\n",
    "\n",
    "\n",
    "\n",
    "\n",
    "\n",
    "\n",
    "\n"
   ]
  },
  {
   "cell_type": "markdown",
   "metadata": {},
   "source": [
    "### Activity 2 - Load data from the following files:\n",
    "\n",
    "## `/dsa/data/all_datasets/instacart/orders.csv`\n",
    " * 3421084 Rows\n",
    " * File Preview \n",
    "```\n",
    "order_id,user_id,eval_set,order_number,order_dow,order_hour_of_day,days_since_prior_order\n",
    "2539329,1,prior,1,2,08,\n",
    "2398795,1,prior,2,3,07,15.0\n",
    "473747,1,prior,3,3,12,21.0\n",
    "2254736,1,prior,4,4,07,29.0\n",
    "```\n",
    "\n",
    "## `/dsa/data/all_datasets/instacart/products.csv`\n",
    " * 49689 Rows\n",
    " * File Preview \n",
    "```\n",
    "product_id,product_name,aisle_id,department_id\n",
    "1,Chocolate Sandwich Cookies,61,19\n",
    "2,All-Seasons Salt,104,13\n",
    "3,Robust Golden Unsweetened Oolong Tea,94,7\n",
    "4,Smart Ones Classic Favorites Mini Rigatoni With Vodka Cream Sauce,38,1\n",
    "```\n",
    "\n",
    "## `/dsa/data/all_datasets/instacart/aisles.csv`\n",
    " * 135 Rows\n",
    " * File Preview \n",
    "```\n",
    "aisle_id,aisle\n",
    "1,prepared soups salads\n",
    "2,specialty cheeses\n",
    "3,energy granola bars\n",
    "4,instant foods\n",
    "```\n",
    "\n",
    "## `/dsa/data/all_datasets/instacart/departments.csv`\n",
    " * 22 Rows\n",
    " * File Preview \n",
    "```\n",
    "department_id,department\n",
    "1,frozen\n",
    "2,other\n",
    "3,bakery\n",
    "4,produce\n",
    "```\n",
    "\n",
    "## `/dsa/data/all_datasets/instacart/order_products.csv`\n",
    " * 1384618 Rows\n",
    " * File Preview \n",
    "```\n",
    "order_id,product_id,add_to_cart_order,reordered\n",
    "1,49302,1,1\n",
    "1,11109,2,1\n",
    "1,10246,3,0\n",
    "1,49683,4,0\n",
    "```\n",
    "     "
   ]
  },
  {
   "cell_type": "code",
   "execution_count": null,
   "metadata": {},
   "outputs": [],
   "source": [
    "DROP TABLE jch5x8.order_products, jch5x8.products, jch5x8.departments, jch5x8.aisles, jch5x8.orders;\n",
    "\n",
    "\n",
    "CREATE TABLE jch5x8.orders (\n",
    " order_id INT PRIMARY KEY, \n",
    " user_id INT NOT NULL, \n",
    " eval_set VARCHAR(50), \n",
    " order_number INT NOT NULL, \n",
    " order_dow VARCHAR(50), \n",
    " order_hour_of_day INT, \n",
    " days_since_prior_order INT\n",
    ");\n",
    "\n",
    "CREATE TABLE jch5x8.aisles (\n",
    " aisle_id INT PRIMARY KEY, \n",
    " aisle VARCHAR(50)\n",
    ");\n",
    "\n",
    "CREATE TABLE jch5x8.departments (\n",
    " department_id INT PRIMARY KEY, \n",
    " department VARCHAR(50)\n",
    ");\n",
    "\n",
    "CREATE TABLE jch5x8.products (\n",
    " product_id INT PRIMARY KEY, \n",
    " product_name VARCHAR(250) NOT NULL,\n",
    " aisle_id INT REFERENCES jch5x8.aisles,\n",
    " department_id INT REFERENCES jch5x8.departments\n",
    ");\n",
    "\n",
    "CREATE TABLE jch5x8.order_products (\n",
    " order_id INT REFERENCES jch5x8.orders, \n",
    " product_id INT REFERENCES jch5x8.products, \n",
    " add_to_cart_order INT, \n",
    " reordered INT,\n",
    " PRIMARY KEY (order_id, product_id)\n",
    ");\n",
    "\n",
    "\n",
    "CREATE SEQUENCE order_number START 0;\n",
    "\n",
    "BEGIN;\n",
    "COPY orders FROM '/dsa/data/all_datasets/instacart/orders.csv';\n",
    "SELECT setval('order_number', max(order_id)) FROM orders;\n",
    "END;"
   ]
  },
  {
   "cell_type": "markdown",
   "metadata": {},
   "source": [
    "## In each designated cell, load the data using Python\n",
    "\n"
   ]
  },
  {
   "cell_type": "markdown",
   "metadata": {},
   "source": [
    "### Activity 3 - Orders "
   ]
  },
  {
   "cell_type": "code",
   "execution_count": null,
   "metadata": {},
   "outputs": [],
   "source": [
    "import pandas as pd\n",
    "import getpass\n",
    "import psycopg2\n",
    "import numpy as np\n",
    "from psycopg2.extensions import adapt, register_adapter, AsIs\n",
    "# Magic adapters for the Numpy Fun of Pandas\n",
    "register_adapter(np.int64,AsIs)\n",
    "register_adapter(np.float64,AsIs)\n",
    "\n",
    "# Collects masked password from user\n",
    "mypasswd = getpass.getpass()\n",
    "\n",
    "# Connects to DB\n",
    "connection = psycopg2.connect(database = 'dsa_student', \n",
    "                              user = 'jch5x8', \n",
    "                              host = 'pgsql.dsa.lan',\n",
    "                              password = mypasswd)\n",
    "\n",
    "cursor = connection.cursor()\n",
    "\n",
    "# Remove password from memory\n",
    "del mypasswd"
   ]
  },
  {
   "cell_type": "code",
   "execution_count": null,
   "metadata": {},
   "outputs": [],
   "source": [
    "# Load in orders data\n",
    "orders_file = '/dsa/data/all_datasets/instacart/orders.csv'\n",
    "orders = pd.read_csv(orders_file)\n",
    "#orders.head().transpose()\n",
    "\n",
    "# # Printing column names and placeholders\n",
    "# print(list(orders))\n",
    "# s = ''\n",
    "# for i in list(orders):\n",
    "#     s += '%s,'\n",
    "# print(s)\n",
    "\n",
    "# Convert Panda to have Null values (None) instead of NaN\n",
    "orders = orders.where(pd.notnull(orders), None)\n",
    "\n",
    "# Creates INSERT SQL statement\n",
    "INSERT_SQL = 'INSERT INTO jch5x8.orders'\n",
    "INSERT_SQL += ' (order_id, user_id, eval_set, order_number, order_dow,'\n",
    "INSERT_SQL += ' order_hour_of_day, days_since_prior_order) VALUES '\n",
    "\n",
    "# Creates parameterized string for SQL. %s is a placeholder\n",
    "INSERT_SQL += '(%s,%s,%s,%s,%s,%s,%s)'\n",
    "# print(INSERT_SQL)\n",
    "\n",
    "\n",
    "with connection, connection.cursor() as cursor:\n",
    "    for row in orders.itertuples(index = False, name = None):  # pull each row as a tuple\n",
    "\n",
    "        # This is an un-indexed, un-named Tuple\n",
    "        print(row) \n",
    "        \n",
    "        # Insert the row\n",
    "        cursor.execute(INSERT_SQL,row)"
   ]
  },
  {
   "cell_type": "markdown",
   "metadata": {},
   "source": [
    "### Activity 2 - Products\n",
    "\n",
    "\n",
    "\n",
    "\n",
    "\n"
   ]
  },
  {
   "cell_type": "code",
   "execution_count": null,
   "metadata": {},
   "outputs": [],
   "source": [
    "# Load in  data\n",
    "products_file = '/dsa/data/all_datasets/instacart/products.csv'\n",
    "products = pd.read_csv(products_file)\n",
    "#products.head().transpose()\n",
    "\n",
    "# # Printing column names and placeholders\n",
    "# print(list(products))\n",
    "# s = ''\n",
    "# for i in list(products):\n",
    "#     s += '%s,'\n",
    "# print(s)\n",
    "\n",
    "# Convert Panda to have Null values (None) instead of NaN\n",
    "products = products.where(pd.notnull(products), None)\n",
    "\n",
    "# Creates INSERT SQL statement\n",
    "INSERT_SQL = 'INSERT INTO jch5x8.products'\n",
    "INSERT_SQL += ' (product_id, product_name, aisle_id, department_id) VALUES '\n",
    "\n",
    "# Creates parameterized string for SQL. %s is a placeholder\n",
    "INSERT_SQL += '(%s,%s,%s,%s)'\n",
    "# print(INSERT_SQL)\n",
    "\n",
    "\n",
    "with connection, connection.cursor() as cursor:\n",
    "    for row in products.itertuples(index = False, name = None):  # pull each row as a tuple\n",
    "\n",
    "        # This is an un-indexed, un-named Tuple\n",
    "        print(row) \n",
    "        \n",
    "        # Insert row\n",
    "        cursor.execute(INSERT_SQL,row)"
   ]
  },
  {
   "cell_type": "markdown",
   "metadata": {},
   "source": [
    "### Activity 3 - Aisles"
   ]
  },
  {
   "cell_type": "code",
   "execution_count": null,
   "metadata": {},
   "outputs": [],
   "source": [
    "# Load in aisles data\n",
    "aisles_file = '/dsa/data/all_datasets/instacart/aisles.csv'\n",
    "aisles = pd.read_csv(aisles_file)\n",
    "#aisles.head().transpose()\n",
    "\n",
    "# # Printing column names and placeholders\n",
    "# print(list(aisles))\n",
    "# s = ''\n",
    "# for i in list(aisles):\n",
    "#     s += '%s,'\n",
    "# print(s)\n",
    "\n",
    "# Convert Panda to have Null values (None) instead of NaN\n",
    "aisles = aisles.where(pd.notnull(aisles), None)\n",
    "\n",
    "# Creates INSERT SQL statement\n",
    "INSERT_SQL = 'INSERT INTO jch5x8.aisles'\n",
    "INSERT_SQL += ' (aisle_id, aisle) VALUES '\n",
    "\n",
    "# Creates parameterized string for SQL. %s is a placeholder\n",
    "INSERT_SQL += '(%s,%s)'\n",
    "# print(INSERT_SQL)\n",
    "\n",
    "\n",
    "with connection, connection.cursor() as cursor:\n",
    "    for row in aisles.itertuples(index = False, name = None):  # pull each row as a tuple\n",
    "        # This is an un-indexed, un-named Tuple\n",
    "        print(row) \n",
    "        \n",
    "        # Insert row\n",
    "        cursor.execute(INSERT_SQL,row)"
   ]
  },
  {
   "cell_type": "markdown",
   "metadata": {},
   "source": [
    "### Activity 4 - Departments"
   ]
  },
  {
   "cell_type": "code",
   "execution_count": null,
   "metadata": {},
   "outputs": [],
   "source": [
    "# Load in departments data\n",
    "departments_file = '/dsa/data/all_datasets/instacart/departments.csv'\n",
    "departments = pd.read_csv(departments_file)\n",
    "#departments.head().transpose()\n",
    "\n",
    "# # Printing column names and placeholders\n",
    "# print(list(departments))\n",
    "# s = ''\n",
    "# for i in list(departments):\n",
    "#     s += '%s,'\n",
    "# print(s)\n",
    "\n",
    "# Convert Panda to have Null values (None) instead of NaN\n",
    "departments = departments.where(pd.notnull(departments), None)\n",
    "\n",
    "# Creates INSERT SQL statement\n",
    "INSERT_SQL = 'INSERT INTO jch5x8.departments'\n",
    "INSERT_SQL += ' (department_id, department) VALUES '\n",
    "\n",
    "# Creates parameterized string for SQL. %s is a placeholder\n",
    "INSERT_SQL += '(%s,%s)'\n",
    "# print(INSERT_SQL)\n",
    "\n",
    "\n",
    "with connection, connection.cursor() as cursor:\n",
    "    for row in departments.itertuples(index = False, name = None):  # pull each row as a tuple\n",
    "        # This is an un-indexed, un-named Tuple\n",
    "        print(row) \n",
    "        \n",
    "        # Insert row\n",
    "        cursor.execute(INSERT_SQL,row)"
   ]
  },
  {
   "cell_type": "markdown",
   "metadata": {},
   "source": [
    "### Activity 5 - Order Products"
   ]
  },
  {
   "cell_type": "code",
   "execution_count": null,
   "metadata": {},
   "outputs": [],
   "source": [
    "# Load in order_products data\n",
    "order_products_file = '/dsa/data/all_datasets/instacart/order_products.csv'\n",
    "order_products = pd.read_csv(order_products_file)\n",
    "#order_products.head().transpose()\n",
    "\n",
    "# # Printing column names and placeholders\n",
    "# print(list(order_products))\n",
    "# s = ''\n",
    "# for i in list(order_products):\n",
    "#     s += '%s,'\n",
    "# print(s)\n",
    "\n",
    "# Convert Panda to have Null values (None) instead of NaN\n",
    "order_products = order_products.where(pd.notnull(order_products), None)\n",
    "\n",
    "# Creates INSERT SQL statement\n",
    "INSERT_SQL = 'INSERT INTO jch5x8.order_products'\n",
    "INSERT_SQL += ' (order_id, product_id, add_to_cart_order, reordered) VALUES '\n",
    "\n",
    "# Creates parameterized string for SQL. %s is a placeholder\n",
    "INSERT_SQL += '(%s,%s,%s,%s)'\n",
    "# print(INSERT_SQL)\n",
    "\n",
    "\n",
    "with connection, connection.cursor() as cursor:\n",
    "    for row in order_products.itertuples(index = False, name = None):  # pull each row as a tuple\n",
    "\n",
    "        # This is an un-indexed, un-named Tuple\n",
    "        print(row) \n",
    "        \n",
    "        # Insert the row\n",
    "        cursor.execute(INSERT_SQL,row)"
   ]
  },
  {
   "cell_type": "markdown",
   "metadata": {},
   "source": [
    "# Save your notebook, then `File > Close and Halt`"
   ]
  },
  {
   "cell_type": "markdown",
   "metadata": {},
   "source": [
    "---"
   ]
  }
 ],
 "metadata": {
  "kernelspec": {
   "display_name": "Python 3",
   "language": "python",
   "name": "python3"
  },
  "language_info": {
   "codemirror_mode": {
    "name": "ipython",
    "version": 3
   },
   "file_extension": ".py",
   "mimetype": "text/x-python",
   "name": "python",
   "nbconvert_exporter": "python",
   "pygments_lexer": "ipython3",
   "version": "3.7.3"
  }
 },
 "nbformat": 4,
 "nbformat_minor": 2
}
