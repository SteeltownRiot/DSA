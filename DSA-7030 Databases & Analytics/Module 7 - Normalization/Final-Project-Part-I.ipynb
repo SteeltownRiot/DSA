{
 "cells": [
  {
   "cell_type": "markdown",
   "metadata": {
    "toc": "true"
   },
   "source": [
    "# <center> Final Project <center>\n",
    "\n",
    "In this project, we will explore Chicago Crime Dataset and implement a relational database for storing the data. Over the course of the next two modules, you will complete the following tasks:\n",
    "\n",
    "\n",
    "1. Identify the features (attributes) in Chicago Crime dataset and design an entity-relationship model\n",
    "2. Refine the model and convert each relation to BCNF (if required)\n",
    "3. Using DDL implement the relations in a Postgres server\n",
    "4. Load the given data to the relations\n",
    "5. Execute some interesting queries on the relations\n",
    "\n",
    "Part 1, this weeks assignment will take you through step 1 and 2."
   ]
  },
  {
   "cell_type": "markdown",
   "metadata": {},
   "source": [
    "## Dataset\n",
    "\n",
    "* Dataset: [csv](./Chicago-Crime-Sample-2012.csv)\n",
    "* Dataset Description: [pdf](./ChicagoData-Description.pdf)"
   ]
  },
  {
   "cell_type": "markdown",
   "metadata": {},
   "source": [
    "## 1.0 Dataset exploration\n",
    "* Explore the data so that you understand what information you have. Comment on the following questions."
   ]
  },
  {
   "cell_type": "code",
   "execution_count": null,
   "metadata": {},
   "outputs": [],
   "source": [
    "# What did you learn from the data set?\n",
    "## The dataset is large but truncated. It contains police incident data including arrests, offense, location,\n",
    "## and geolocation data. Both ID and IUCR are unique to each record, which makes me question the need for both.\n",
    "\n",
    "# Data types of the attributes? How to deal with the date information?\n",
    "## Most attributes' data types are strings, but there are a lot of integers, a couple of booleans, \n",
    "## I split Date into a date fiedl and a time field. I left Updated On alone figuring it was unlikely to be used in analysis\n",
    "## datetime: Date, Updated On\n",
    "## string: Case Number, Block, IUCR, Primary, Type, Description, Location Description, FBI Code\n",
    "## integer: ID, Beat, District, Ward, Community Area\n",
    "## geometry: X Coordinate, Y Coordinate\n",
    "## geography: Latitude, Longitude\n",
    "## unk: Location(maybe geography)\n",
    "\n",
    "# Any missing values?\n",
    "## There are quite a few missing values, 3,279 empty fields and at least a handful of 0s where a value should be.\n",
    "\n",
    "# Do you see redundancy? Many repetive values in some columns. How to deal with that? Creating a new table?\n",
    "## There are a lot of repeating values in multiple columns. For instance, out of 334,715 records, there are\n",
    "## only 30 Primary Types, 1 Year, 23 districts, and 25 community codes.\n",
    "\n",
    "# Any outside information to link back to this data?\n",
    "## There are links to both complete Chicago crime data, IUCR codes, NIBRs codes, beats, districts, wards, and community areas."
   ]
  },
  {
   "cell_type": "markdown",
   "metadata": {},
   "source": [
    "## 1.1 Design an Entity-Relationship Model for the Chicago Crime Dataset\n",
    "\n",
    "* List all the entities with associated attributes\n",
    "* Identify primary and foreign keys\n",
    "* Identify constraints (1:many, many:1, many:many, etc.)"
   ]
  },
  {
   "cell_type": "markdown",
   "metadata": {},
   "source": [
    "\n",
    "\n"
   ]
  },
  {
   "cell_type": "markdown",
   "metadata": {},
   "source": [
    "## 1.2 If required, refine your initial set of relations and convert each of the relations to BCNF\n",
    "\n",
    "While converting a relation to BCNF, please write down the process in the following cell to decompose or add new tables based on your undertsanding of the data.  Also check the Canvas discussion board for this coming week.\n"
   ]
  },
  {
   "cell_type": "raw",
   "metadata": {},
   "source": [
    "I decomposed the dataset into 11 tables. iucr_codes(iucr, primary_type, description), nibrs, locations(loc_id, location_description), blocks, beats, districts, wards, community_areas, coords(coord_id, x_coord, y_coord), lat_long, and cases(id, case_num, date, iucr, arrest, domestic, beat, district, ward, comm_area, updated_on, nibrs_id, loc_id, coord_id, lat_long_id. I used iucr, nibrs, beat, district, ward, community area as PKs and created an lat_long_id as PK for lat_long. In the end, I decided to combine all the geoloc data into one table (with geoloc_id) and include the nibrs codes in the iucr table to end up with 9 tables."
   ]
  },
  {
   "cell_type": "markdown",
   "metadata": {},
   "source": [
    "## 1.3 Final ERD\n",
    "\n",
    "* Draw an entitiy relationship diagram once you are done with 1.1 and 1.2 \n",
    "* Use crow's foot notation to specify the cardinality \n",
    "* Show the primary and foreign keys in the diagram"
   ]
  },
  {
   "cell_type": "markdown",
   "metadata": {},
   "source": [
    "Please find a link to my ERD here: [Your ERD](ERD_final_project.png).\n"
   ]
  },
  {
   "cell_type": "markdown",
   "metadata": {},
   "source": [
    "## <center> This is the end of Part 1 of the Final Project Part 2 and 3 can be announced in Module 8.</center>\n",
    "\n",
    "You are encouraged to start creating tables for the later part of coming week."
   ]
  },
  {
   "cell_type": "markdown",
   "metadata": {},
   "source": [
    "# Save your notebook, then `File > Close and Halt`"
   ]
  }
 ],
 "metadata": {
  "kernelspec": {
   "display_name": "Python 3",
   "language": "python",
   "name": "python3"
  },
  "language_info": {
   "codemirror_mode": {
    "name": "ipython",
    "version": 3
   },
   "file_extension": ".py",
   "mimetype": "text/x-python",
   "name": "python",
   "nbconvert_exporter": "python",
   "pygments_lexer": "ipython3",
   "version": "3.7.3"
  },
  "latex_envs": {
   "LaTeX_envs_menu_present": true,
   "bibliofile": "biblio.bib",
   "cite_by": "apalike",
   "current_citInitial": 1,
   "eqLabelWithNumbers": true,
   "eqNumInitial": 1,
   "labels_anchors": false,
   "latex_user_defs": false,
   "report_style_numbering": false,
   "user_envs_cfg": false
  },
  "toc": {
   "colors": {
    "hover_highlight": "#DAA520",
    "running_highlight": "#FF0000",
    "selected_highlight": "#FFD700"
   },
   "moveMenuLeft": true,
   "nav_menu": {
    "height": "11.9886px",
    "width": "251.989px"
   },
   "navigate_menu": true,
   "number_sections": true,
   "sideBar": true,
   "threshold": 4,
   "toc_cell": true,
   "toc_section_display": "block",
   "toc_window_display": false
  }
 },
 "nbformat": 4,
 "nbformat_minor": 4
}
