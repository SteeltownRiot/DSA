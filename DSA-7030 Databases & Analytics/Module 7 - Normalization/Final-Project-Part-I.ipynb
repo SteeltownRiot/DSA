{
 "cells": [
  {
   "cell_type": "markdown",
   "metadata": {
    "toc": "true"
   },
   "source": [
    "# <center> Final Project <center>\n",
    "\n",
    "In this project, we will explore Chicago Crime Dataset and implement a relational database for storing the data. Over the course of the next two modules, you will complete the following tasks:\n",
    "\n",
    "\n",
    "1. Identify the features (attributes) in Chicago Crime dataset and design an entity-relationship model\n",
    "2. Refine the model and convert each relation to BCNF (if required)\n",
    "3. Using DDL implement the relations in a Postgres server\n",
    "4. Load the given data to the relations\n",
    "5. Execute some interesting queries on the relations\n",
    "\n",
    "Part 1, this weeks assignment will take you through step 1 and 2."
   ]
  },
  {
   "cell_type": "markdown",
   "metadata": {},
   "source": [
    "## Dataset\n",
    "\n",
    "* Dataset: [csv](./Chicago-Crime-Sample-2012.csv)\n",
    "* Dataset Description: [pdf](./ChicagoData-Description.pdf)"
   ]
  },
  {
   "cell_type": "markdown",
   "metadata": {},
   "source": [
    "## 1.0 Dataset exploration\n",
    "* Explore the data so that you understand what information you have. Comment on the following questions."
   ]
  },
  {
   "cell_type": "raw",
   "metadata": {},
   "source": [
    "# What did you learn from the data set?\n",
    "The dataset is large but truncated. It contains police incident data including arrests, offense, location,\n",
    "and geolocation data. Both ID and IUCR are unique to each record, which makes me question the need for both.\n",
    "\n",
    "# Data types of the attributes? How to deal with the date information?\n",
    "Most attributes' data types are strings, but there are a lot of integers, a couple of booleans, \n",
    "I split Date into a date fiedl and a time field. I left Updated On alone figuring it was unlikely to be used in analysis\n",
    "datetime: Date, Updated On\n",
    "string: Case Number, Block, IUCR, Primary, Type, Description, Location Description, FBI Code\n",
    "integer: ID, Beat, District, Ward, Community Area\n",
    "geometry: X Coordinate, Y Coordinate\n",
    "geography: Latitude, Longitude\n",
    "unk: Location(maybe geography)\n",
    "\n",
    "# Any missing values?\n",
    "There are quite a few missing values, 3,279 empty fields and at least a handful of 0s where a value should be.\n",
    "\n",
    "# Do you see redundancy? Many repetive values in some columns. How to deal with that? Creating a new table?\n",
    "There are a lot of repeating values in multiple columns. For instance, out of 334,715 records, there are\n",
    "only 30 Primary Types, 1 Year, 23 districts, and 25 community codes.\n",
    "\n",
    "# Any outside information to link back to this data?\n",
    "There are links to both complete Chicago crime data set, IUCR codes, NIBRS data sets, beats, districts, wards, and community areas. It would be nice if the FBI codes in this data set actually corresponed to real NIBRS codes, but they do not. All the IUCR codes do not seem to match up to the real codes either and all of them are not here."
   ]
  },
  {
   "cell_type": "markdown",
   "metadata": {},
   "source": [
    "## 1.1 Design an Entity-Relationship Model for the Chicago Crime Dataset\n",
    "\n",
    "* List all the entities with associated attributes\n",
    "* Identify primary and foreign keys\n",
    "* Identify constraints (1:many, many:1, many:many, etc.)"
   ]
  },
  {
   "cell_type": "raw",
   "metadata": {},
   "source": [
    "This is a star schema with 10 entities related to the main entity cases.\n",
    "\n",
    "Functional Dependencies:\n",
    "========================\n",
    "ID -> case number(though these are all unique in this data set as well), date, IUCR, primary type, description, location description, arrest, domestic, beat, district, ward, community area, fbi code, x, y, year, updated on, lat, long, location\n",
    "\n",
    "IUCR -> primary type, description, fbi code(IUCR 2093 posed a problem here because two of them had a NIBRS of 18 instead of 26. I will either drop those two as errors or correct them)\n",
    "\n",
    "location -> x, y, lat, long\n",
    "\n",
    "date -> year\n",
    "\n",
    "FDs that should exist, but the data set breaks:\n",
    "===============================================\n",
    "beat -> district\n",
    "\n",
    "location -> x, y, lat, long, community area, ward, district, beat, block\n",
    "\n",
    "Entities\n",
    "========\n",
    "cases\n",
    "(id[PK], case_num, date, time, block_id[FK], iucr[FK], loc_id[FK], arrest, domestic, beat[FK], district[FK], ward[FK], comm_area[FK], coord_id[FK], updated_on, lat_long_id[FK])\n",
    "\n",
    "iucr_codes - 1:many\n",
    "(iucr[PK], primary_type, description, nibrs[FK])\n",
    "\n",
    "nibrs - 1:many\n",
    "(nibrs[PK])\n",
    "\n",
    "locations - 1:many\n",
    "(loc_id[PK], location_description)\n",
    "\n",
    "blocks - 1:many\n",
    "(block_id[PK], block)\n",
    "\n",
    "beats - 1:many\n",
    "(beat[PK])\n",
    "\n",
    "districts - 1:many\n",
    "(district[PK])\n",
    "\n",
    "wards - 1:many\n",
    "(ward[PK])\n",
    "\n",
    "community_areas - 1:many\n",
    "(comm_area[PK])\n",
    "\n",
    "coords - 1:many\n",
    "(coord_id[PK], x_coord, y_coord)\n",
    "\n",
    "lat_long - 1:many\n",
    "(lat_long_id[PK], lat, long, lat_long)"
   ]
  },
  {
   "cell_type": "markdown",
   "metadata": {},
   "source": [
    "\n",
    "\n"
   ]
  },
  {
   "cell_type": "markdown",
   "metadata": {},
   "source": [
    "## 1.2 If required, refine your initial set of relations and convert each of the relations to BCNF\n",
    "\n",
    "While converting a relation to BCNF, please write down the process in the following cell to decompose or add new tables based on your undertsanding of the data.  Also check the Canvas discussion board for this coming week.\n"
   ]
  },
  {
   "cell_type": "raw",
   "metadata": {},
   "source": [
    "In the end, I decided to combine all the geoloc data into one table (with geoloc_id) because there are 162,285 sets of x and y coords and 162,285 latlongs so, there is a 1:1 correlation. Ideally, there would be an IUCR table containing all IUCR codes with all associated NIBRS codes. I cannot map a NIBRS code to all of the IUCR codes I downloaded because the FBI Codes in the data set seem to be nonsense and this data set does not contain every offense so I cannot derive all of the nonsensical NIBRS codes used. The NIBRs codes were last updated in 2011, as far as I can tell. Yet the list the FBI makes available does not come close to matching what is in this data.\n",
    "\n",
    "I used Power Query to decompose the original dataset into these 9 tables. Then I used Power Query to create an index column for block_id, loc_id, and geloc_id. Finally, I used the XLOOKUP() function to match each row's relevant data (block, location description, lat_long) with the data in the relevant tab (block, location, geoloc) to grab the corresponding *_id field. I also used the XLOOKUP() function to match IUCR codes to NIBR codes. I then compared some of the decomposed table data to the original to make sure it was reconstituted correctly."
   ]
  },
  {
   "cell_type": "markdown",
   "metadata": {},
   "source": [
    "## 1.3 Final ERD\n",
    "\n",
    "* Draw an entitiy relationship diagram once you are done with 1.1 and 1.2 \n",
    "* Use crow's foot notation to specify the cardinality \n",
    "* Show the primary and foreign keys in the diagram"
   ]
  },
  {
   "cell_type": "markdown",
   "metadata": {},
   "source": [
    "Please find a link to my ERD here: [Your ERD](ERD_final_project.png).\n"
   ]
  },
  {
   "cell_type": "markdown",
   "metadata": {},
   "source": [
    "## <center> This is the end of Part 1 of the Final Project Part 2 and 3 can be announced in Module 8.</center>\n",
    "\n",
    "You are encouraged to start creating tables for the later part of coming week."
   ]
  },
  {
   "cell_type": "markdown",
   "metadata": {},
   "source": [
    "# Save your notebook, then `File > Close and Halt`"
   ]
  }
 ],
 "metadata": {
  "kernelspec": {
   "display_name": "Python 3",
   "language": "python",
   "name": "python3"
  },
  "language_info": {
   "codemirror_mode": {
    "name": "ipython",
    "version": 3
   },
   "file_extension": ".py",
   "mimetype": "text/x-python",
   "name": "python",
   "nbconvert_exporter": "python",
   "pygments_lexer": "ipython3",
   "version": "3.7.3"
  },
  "latex_envs": {
   "LaTeX_envs_menu_present": true,
   "bibliofile": "biblio.bib",
   "cite_by": "apalike",
   "current_citInitial": 1,
   "eqLabelWithNumbers": true,
   "eqNumInitial": 1,
   "labels_anchors": false,
   "latex_user_defs": false,
   "report_style_numbering": false,
   "user_envs_cfg": false
  },
  "toc": {
   "colors": {
    "hover_highlight": "#DAA520",
    "running_highlight": "#FF0000",
    "selected_highlight": "#FFD700"
   },
   "moveMenuLeft": true,
   "nav_menu": {
    "height": "11.9886px",
    "width": "251.989px"
   },
   "navigate_menu": true,
   "number_sections": true,
   "sideBar": true,
   "threshold": 4,
   "toc_cell": true,
   "toc_section_display": "block",
   "toc_window_display": false
  }
 },
 "nbformat": 4,
 "nbformat_minor": 4
}
