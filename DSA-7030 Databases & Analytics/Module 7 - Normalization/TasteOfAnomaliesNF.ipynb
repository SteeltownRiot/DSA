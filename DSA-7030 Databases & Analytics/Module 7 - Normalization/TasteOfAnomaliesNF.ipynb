{
 "cells": [
  {
   "cell_type": "markdown",
   "metadata": {},
   "source": [
    "# Experiencing anomalies of un-normalized database\n",
    "\n",
    "### For each cell, please writing down your SQL statements as requested."
   ]
  },
  {
   "cell_type": "markdown",
   "metadata": {},
   "source": [
    "### Creating an Employees table that has the same schema as Slide #2 of Lecture Slides-1. \n",
    "\n",
    "(S:SSN, N: Name, L: Lot number, R: Rating, W: Wage, H: Hourly_worked); Primary key is SSN. "
   ]
  },
  {
   "cell_type": "code",
   "execution_count": null,
   "metadata": {},
   "outputs": [],
   "source": [
    "# List your SQL statement for table creation here \n",
    "CREATE  TABLE IF NOT EXISTS jch5x8.Employees(\n",
    "        SSN INT PRIMARY KEY,\n",
    "        name VARCHAR(50),\n",
    "        lot INT,\n",
    "        rating INT NOT NULL,\n",
    "        hrly_wages REAL,\n",
    "        hrs_worked REAL);"
   ]
  },
  {
   "cell_type": "markdown",
   "metadata": {},
   "source": [
    "### Insert 20 tuples that have even distributions of ratings from 1 to 5.\n",
    "\n",
    "The only company policy provided by your client is \"employees have the same rating should have the same wage.\"\n",
    "\n",
    "Show all tuples and sort them based on rating in ascending order.\n"
   ]
  },
  {
   "cell_type": "code",
   "execution_count": null,
   "metadata": {},
   "outputs": [],
   "source": [
    "# List your SQL statements for INSERT and list all tuples\n",
    "INSERT INTO jch5x8.Employees (SSN, name, lot, rating, hrly_wages, hrs_worked) VALUES\n",
    "    (531515421, 'Vera', 24, 5, 12, 33.9),\n",
    "    (429932160, 'Aubert', 8, 5, 12, 39.9),\n",
    "    (440662487, 'Illarion', 6, 3, 9.5, 39.4),\n",
    "    (408098083, 'Aifric', 5, 1, 8.5, 35),\n",
    "    (576889349, 'Ève', 8, 2, 8, 38.4),\n",
    "    (400329204, 'Hedvig', 28, 4, 10, 30),\n",
    "    (501805927, 'Donnchadh', 18, 1, 8.5, 35.9),\n",
    "    (525759852, 'Marion', 12, 4, 10, 34.5),\n",
    "    (135137534, 'Bente', 13, 4, 10, 38),\n",
    "    (469230198, 'Arlette', 12, 3, 9.5, 30.3),\n",
    "    (247215030, 'Kresten', 17, 5, 12, 36.8),\n",
    "    (545376537, 'Gobnet', 5, 2, 8, 37),\n",
    "    (224546191, 'Yanis', 24, 4, 10, 35.25),\n",
    "    (400166538, 'Amalie', 1, 1, 8.5, 39.25),\n",
    "    (363369063, 'Rosa', 20, 2, 8, 34.7),\n",
    "    (159829237, 'Miriam', 29, 1, 8.5, 37),\n",
    "    (522396865, 'Jaromíra', 26, 5, 12, 35.5),\n",
    "    (417728015, 'Gurutze', 22, 3, 9.5, 33.4),\n",
    "    (520087141, 'Goizane', 18, 3, 9.5, 32),\n",
    "    (306562516, 'Bistra', 16, 2, 8, 37.9);\n",
    "\n",
    "dsa_student=> select * from jch5x8.Employees order by rating;\n",
    "    ssn    |   name    | lot | rating | hrly_wages | hrs_worked\n",
    "-----------+-----------+-----+--------+------------+------------\n",
    " 408098083 | Aifric    |   5 |      1 |        7.5 |         35\n",
    " 501805927 | Donnchadh |  18 |      1 |        7.5 |       35.9\n",
    " 400166538 | Amalie    |   1 |      1 |        7.5 |      39.25\n",
    " 159829237 | Miriam    |  29 |      1 |        7.5 |         37\n",
    " 576889349 | Ève       |   8 |      2 |          8 |       38.4\n",
    " 363369063 | Rosa      |  20 |      2 |          8 |       34.7\n",
    " 545376537 | Gobnet    |   5 |      2 |          8 |         37\n",
    " 306562516 | Bistra    |  16 |      2 |          8 |       37.9\n",
    " 469230198 | Arlette   |  12 |      3 |        9.5 |       30.3\n",
    " 440662487 | Illarion  |   6 |      3 |        9.5 |       39.4\n",
    " 417728015 | Gurutze   |  22 |      3 |        9.5 |       33.4\n",
    " 520087141 | Goizane   |  18 |      3 |        9.5 |         32\n",
    " 525759852 | Marion    |  12 |      4 |         10 |       34.5\n",
    " 224546191 | Yanis     |  24 |      4 |         10 |      35.25\n",
    " 400329204 | Hedvig    |  28 |      4 |         10 |         30\n",
    " 135137534 | Bente     |  13 |      4 |         10 |         38\n",
    " 247215030 | Kresten   |  17 |      5 |         12 |       36.8\n",
    " 429932160 | Aubert    |   8 |      5 |         12 |       39.9\n",
    " 531515421 | Vera      |  24 |      5 |         12 |       33.9\n",
    " 522396865 | Jaromíra  |  26 |      5 |         12 |       35.5\n",
    "(20 rows)"
   ]
  },
  {
   "cell_type": "markdown",
   "metadata": {},
   "source": [
    "### Copy this Employees Table to Keep_Employees Table .\n",
    "\n",
    "Hint: Using CREATE TABLE new_table AS SELECT * FROM original_table;"
   ]
  },
  {
   "cell_type": "code",
   "execution_count": null,
   "metadata": {},
   "outputs": [],
   "source": [
    "# SQL Statement\n",
    "CREATE TABLE jch5x8.Keep_Employees AS SELECT * FROM jch5x8.Employees;"
   ]
  },
  {
   "cell_type": "markdown",
   "metadata": {},
   "source": [
    "### Task 1: Use UPDATE statement on the original table (Employees) to give a raise to an employee to a new and extremely high wage. Assuming this wage is much higher than the max wage you have in the database.\n",
    "\n",
    "* List the tuples again based on ratings (ascending order) and comment on whether or not the company policy has been preserved. What could be UPDATE anomalies you experience here."
   ]
  },
  {
   "cell_type": "code",
   "execution_count": null,
   "metadata": {},
   "outputs": [],
   "source": [
    "# SQL statement\n",
    "UPDATE jch5x8.Employees SET hrly_wages = 100 WHERE name = 'Amalie';\n",
    "\n",
    "dsa_student=> select * from jch5x8.Employees order by rating;\n",
    "    ssn    |   name    | lot | rating | hrly_wages | hrs_worked\n",
    "-----------+-----------+-----+--------+------------+------------\n",
    " 400166538 | Amalie    |   1 |      1 |        100 |      39.25\n",
    " 408098083 | Aifric    |   5 |      1 |        7.5 |         35\n",
    " 501805927 | Donnchadh |  18 |      1 |        7.5 |       35.9\n",
    " 159829237 | Miriam    |  29 |      1 |        7.5 |         37\n",
    " 576889349 | Ève       |   8 |      2 |          8 |       38.4\n",
    " 306562516 | Bistra    |  16 |      2 |          8 |       37.9\n",
    " 545376537 | Gobnet    |   5 |      2 |          8 |         37\n",
    " 363369063 | Rosa      |  20 |      2 |          8 |       34.7\n",
    " 417728015 | Gurutze   |  22 |      3 |        9.5 |       33.4\n",
    " 520087141 | Goizane   |  18 |      3 |        9.5 |         32\n",
    " 469230198 | Arlette   |  12 |      3 |        9.5 |       30.3\n",
    " 440662487 | Illarion  |   6 |      3 |        9.5 |       39.4\n",
    " 224546191 | Yanis     |  24 |      4 |         10 |      35.25\n",
    " 135137534 | Bente     |  13 |      4 |         10 |         38\n",
    " 525759852 | Marion    |  12 |      4 |         10 |       34.5\n",
    " 400329204 | Hedvig    |  28 |      4 |         10 |         30\n",
    " 247215030 | Kresten   |  17 |      5 |         12 |       36.8\n",
    " 429932160 | Aubert    |   8 |      5 |         12 |       39.9\n",
    " 531515421 | Vera      |  24 |      5 |         12 |       33.9\n",
    " 522396865 | Jaromíra  |  26 |      5 |         12 |       35.5\n",
    "(20 rows)"
   ]
  },
  {
   "cell_type": "raw",
   "metadata": {},
   "source": [
    "# Add your comments\n",
    "The company policy has not been preserved because Amalie still has a rating of 1 but an hourly wage of $100. Since the only policy is that rating determines hourly wage, I would expect the only two UPDATE anomalies would be changing a rating without changing the hourly wage to match or this case where the hourly wage is changed but not the rating."
   ]
  },
  {
   "cell_type": "markdown",
   "metadata": {},
   "source": [
    "### Task 2: Use INSERT statement on the original table (Employees) for two new employees. One follows the company policy to assign known wage and rating pair. The other is assigned a rating \"5\" but with a NULL value for the wage - the hiring manager has not decided the wage yet.  \n",
    "\n",
    "* List the tuples again based on ratings (ascending order) and comment on whether or not the company policy has been preserved. What could be INSERT anomalies you experience here."
   ]
  },
  {
   "cell_type": "code",
   "execution_count": null,
   "metadata": {},
   "outputs": [],
   "source": [
    "# SQL statement\n",
    "INSERT INTO jch5x8.Employees (SSN, name, lot, rating, hrly_wages, hrs_worked) VALUES\n",
    "    (401662722, 'Věroslav', 4, 4, 10, 33.9),\n",
    "    (425346068, 'Adrijana', 18, 5, NULL, 39.9);\n",
    "\n",
    "dsa_student=> select * from jch5x8.Employees order by rating;\n",
    "    ssn    |   name    | lot | rating | hrly_wages | hrs_worked\n",
    "-----------+-----------+-----+--------+------------+------------\n",
    " 400166538 | Amalie    |   1 |      1 |        100 |      39.25\n",
    " 159829237 | Miriam    |  29 |      1 |        7.5 |         37\n",
    " 501805927 | Donnchadh |  18 |      1 |        7.5 |       35.9\n",
    " 408098083 | Aifric    |   5 |      1 |        7.5 |         35\n",
    " 363369063 | Rosa      |  20 |      2 |          8 |       34.7\n",
    " 306562516 | Bistra    |  16 |      2 |          8 |       37.9\n",
    " 576889349 | Ève       |   8 |      2 |          8 |       38.4\n",
    " 545376537 | Gobnet    |   5 |      2 |          8 |         37\n",
    " 520087141 | Goizane   |  18 |      3 |        9.5 |         32\n",
    " 469230198 | Arlette   |  12 |      3 |        9.5 |       30.3\n",
    " 440662487 | Illarion  |   6 |      3 |        9.5 |       39.4\n",
    " 417728015 | Gurutze   |  22 |      3 |        9.5 |       33.4\n",
    " 224546191 | Yanis     |  24 |      4 |         10 |      35.25\n",
    " 525759852 | Marion    |  12 |      4 |         10 |       34.5\n",
    " 400329204 | Hedvig    |  28 |      4 |         10 |         30\n",
    " 401662722 | Věroslav  |   4 |      4 |         10 |       33.9\n",
    " 135137534 | Bente     |  13 |      4 |         10 |         38\n",
    " 425346068 | Adrijana  |  18 |      5 |            |       39.9\n",
    " 429932160 | Aubert    |   8 |      5 |         12 |       39.9\n",
    " 247215030 | Kresten   |  17 |      5 |         12 |       36.8\n",
    " 522396865 | Jaromíra  |  26 |      5 |         12 |       35.5\n",
    " 531515421 | Vera      |  24 |      5 |         12 |       33.9\n",
    "(22 rows)"
   ]
  },
  {
   "cell_type": "raw",
   "metadata": {},
   "source": [
    "# Add your comments\n",
    "The company policy was preserved for Věroslav because his hourly wage of $10 matches the other employees' hourly wage with a rating of 4. The company policy was not preserved for Adrijana because she was assigned a rating but no hourly wage. The INSERT anomalies would be adding employees with null hourly wages, null ratings, or mismatched ratings and hourly wages."
   ]
  },
  {
   "cell_type": "markdown",
   "metadata": {},
   "source": [
    "### Task 3: Use DELETE statement on the original table (Employees) for all employees from the lowest rating due to performance issues.   \n",
    "\n",
    "* List the tuples again based on ratings (ascending order) and comment on whether or not the company policy has been preserved. What could be DELETE anomalies you experience here.\n",
    "\n",
    "### Use INSERT statement on the original table (Employees) to add a new employee who will take the lowest rating (you just deleted) with the wage associating with that rating.\n",
    "\n",
    "* Without looking at the Keep_Employees table, do you still remember the original wage for the lowest rating from the initial table?\n"
   ]
  },
  {
   "cell_type": "code",
   "execution_count": null,
   "metadata": {},
   "outputs": [],
   "source": [
    "# SQL statement\n",
    "DELETE FROM jch5x8.Employees WHERE rating = 1;\n",
    "\n",
    "dsa_student=> select * from jch5x8.Employees order by rating;\n",
    "    ssn    |   name   | lot | rating | hrly_wages | hrs_worked\n",
    "-----------+----------+-----+--------+------------+------------\n",
    " 363369063 | Rosa     |  20 |      2 |          8 |       34.7\n",
    " 545376537 | Gobnet   |   5 |      2 |          8 |         37\n",
    " 306562516 | Bistra   |  16 |      2 |          8 |       37.9\n",
    " 576889349 | Ève      |   8 |      2 |          8 |       38.4\n",
    " 417728015 | Gurutze  |  22 |      3 |        9.5 |       33.4\n",
    " 520087141 | Goizane  |  18 |      3 |        9.5 |         32\n",
    " 469230198 | Arlette  |  12 |      3 |        9.5 |       30.3\n",
    " 440662487 | Illarion |   6 |      3 |        9.5 |       39.4\n",
    " 401662722 | Věroslav |   4 |      4 |         10 |       33.9\n",
    " 525759852 | Marion   |  12 |      4 |         10 |       34.5\n",
    " 224546191 | Yanis    |  24 |      4 |         10 |      35.25\n",
    " 135137534 | Bente    |  13 |      4 |         10 |         38\n",
    " 400329204 | Hedvig   |  28 |      4 |         10 |         30\n",
    " 425346068 | Adrijana |  18 |      5 |            |       39.9\n",
    " 429932160 | Aubert   |   8 |      5 |         12 |       39.9\n",
    " 247215030 | Kresten  |  17 |      5 |         12 |       36.8\n",
    " 522396865 | Jaromíra |  26 |      5 |         12 |       35.5\n",
    " 531515421 | Vera     |  24 |      5 |         12 |       33.9\n",
    "(18 rows)\n",
    "\n",
    "INSERT INTO jch5x8.Employees (SSN, name, lot, rating, hrly_wages, hrs_worked) VALUES\n",
    "    (479182420, 'Valerie', 21, 1, 7.5, 36);\n",
    "\n",
    "dsa_student=> select * from jch5x8.Employees order by rating;\n",
    "    ssn    |   name   | lot | rating | hrly_wages | hrs_worked\n",
    "-----------+----------+-----+--------+------------+------------\n",
    " 479182420 | Valerie  |  21 |      1 |        7.5 |         36\n",
    " 545376537 | Gobnet   |   5 |      2 |          8 |         37\n",
    " 576889349 | Ève      |   8 |      2 |          8 |       38.4\n",
    " 363369063 | Rosa     |  20 |      2 |          8 |       34.7\n",
    " 306562516 | Bistra   |  16 |      2 |          8 |       37.9\n",
    " 520087141 | Goizane  |  18 |      3 |        9.5 |         32\n",
    " 469230198 | Arlette  |  12 |      3 |        9.5 |       30.3\n",
    " 417728015 | Gurutze  |  22 |      3 |        9.5 |       33.4\n",
    " 440662487 | Illarion |   6 |      3 |        9.5 |       39.4\n",
    " 525759852 | Marion   |  12 |      4 |         10 |       34.5\n",
    " 135137534 | Bente    |  13 |      4 |         10 |         38\n",
    " 224546191 | Yanis    |  24 |      4 |         10 |      35.25\n",
    " 401662722 | Věroslav |   4 |      4 |         10 |       33.9\n",
    " 400329204 | Hedvig   |  28 |      4 |         10 |         30\n",
    " 531515421 | Vera     |  24 |      5 |         12 |       33.9\n",
    " 429932160 | Aubert   |   8 |      5 |         12 |       39.9\n",
    " 247215030 | Kresten  |  17 |      5 |         12 |       36.8\n",
    " 522396865 | Jaromíra |  26 |      5 |         12 |       35.5\n",
    " 425346068 | Adrijana |  18 |      5 |            |       39.9\n",
    "(19 rows)"
   ]
  },
  {
   "cell_type": "raw",
   "metadata": {},
   "source": [
    "# Add your comments\n",
    "I do not see how company policy was not preserved here. Although there is a potential for the institutional loss of the information of what the hourly wage for rating 1 is, the company policy is that employees with the same rating have the same hourly wage. I could assign any unused wage to rating 1 and still comply with the policy as long as all new rating 1 employees received the same wage. So the DELETE anomalies are ones where we completely delete the relation between rating and hourly wage so that in the future it becomes hard or even impossible to create new records that comply with company policy AND match historical data. \n",
    "\n",
    "I remembered the original wage because I screwed it up the first time I inserted the tuples and wound up having to change it. I do understand the potential problem, though, because it could be months or years before that policy has to be applied again."
   ]
  },
  {
   "cell_type": "markdown",
   "metadata": {},
   "source": [
    "### Now you have experienced the anomalies due to redundancy and functional dependency (Rating -> Wage)\n",
    "\n",
    "\n",
    "\n",
    "## Solutions via table decomposition\n",
    "\n",
    "### Let's decompose the Keep_Employees table into two - which two?\n",
    "\n",
    "* CREATE these two tables and make sure primary keys are properly assigned to each table. There will be one foreign key constraint. Of course we need to populate tuples to these two tables using SQL statements (no manual way, please.)\n",
    "\n",
    "* List the tuples from both tables based on ratings (ascending order) and comment on the numbers of tuples of these two tables.\n"
   ]
  },
  {
   "cell_type": "code",
   "execution_count": null,
   "metadata": {},
   "outputs": [],
   "source": [
    "# SQL statement\n",
    "CREATE  TABLE IF NOT EXISTS jch5x8.Pay(\n",
    "        rating INT PRIMARY KEY,\n",
    "        hrly_wages REAL NOT NULL);\n",
    "\n",
    "INSERT INTO jch5x8.Pay (rating, hrly_wages) VALUES\n",
    "    (5, 12),\n",
    "    (4, 10),\n",
    "    (3, 9.5),\n",
    "    (2, 8),\n",
    "    (1, 7.5);\n",
    "\n",
    "ALTER TABLE jch5x8.Keep_Employees \n",
    "DROP COLUMN hrly_wages,\n",
    "ADD CONSTRAINT fk_Pay\n",
    "    FOREIGN KEY (rating)\n",
    "    REFERENCES Pay(rating);\n",
    "\n",
    "dsa_student=> select * from jch5x8.Keep_Employees order by rating;\n",
    "    ssn    |   name    | lot | rating | hrs_worked\n",
    "-----------+-----------+-----+--------+------------\n",
    " 408098083 | Aifric    |   5 |      1 |         35\n",
    " 501805927 | Donnchadh |  18 |      1 |       35.9\n",
    " 400166538 | Amalie    |   1 |      1 |      39.25\n",
    " 159829237 | Miriam    |  29 |      1 |         37\n",
    " 576889349 | Ève       |   8 |      2 |       38.4\n",
    " 363369063 | Rosa      |  20 |      2 |       34.7\n",
    " 545376537 | Gobnet    |   5 |      2 |         37\n",
    " 306562516 | Bistra    |  16 |      2 |       37.9\n",
    " 469230198 | Arlette   |  12 |      3 |       30.3\n",
    " 440662487 | Illarion  |   6 |      3 |       39.4\n",
    " 417728015 | Gurutze   |  22 |      3 |       33.4\n",
    " 520087141 | Goizane   |  18 |      3 |         32\n",
    " 525759852 | Marion    |  12 |      4 |       34.5\n",
    " 224546191 | Yanis     |  24 |      4 |      35.25\n",
    " 400329204 | Hedvig    |  28 |      4 |         30\n",
    " 135137534 | Bente     |  13 |      4 |         38\n",
    " 247215030 | Kresten   |  17 |      5 |       36.8\n",
    " 429932160 | Aubert    |   8 |      5 |       39.9\n",
    " 531515421 | Vera      |  24 |      5 |       33.9\n",
    " 522396865 | Jaromíra  |  26 |      5 |       35.5\n",
    "(20 rows)\n",
    "\n",
    "dsa_student=> select * from jch5x8.Pay order by rating;\n",
    " rating | hrly_wages\n",
    "--------+------------\n",
    "      1 |        7.5\n",
    "      2 |          8\n",
    "      3 |        9.5\n",
    "      4 |         10\n",
    "      5 |         12\n",
    "(5 rows)"
   ]
  },
  {
   "cell_type": "raw",
   "metadata": {},
   "source": [
    "# Add your comments\n",
    "The tuples remained the same in the Keep_Employees table and there are only 5 in the Pay table. This has a couple of different implications. While creating another table adds a modicum of storage need, we potentially make up for it by eliminating repeating the same 5 hourly wages. This my not be a wash even with only 20 records, but for a company like Cerner thousands of employees it would make a large difference. When we are talking about sales records that can number in the tens of millions it is neccessary. The other implication is now if we want to change the hourly wage for a rating, we do it to one field in one record and it becomes true for all employees of that rating. We could, of course, write an update that changes every records with a rating n to hourly wage x and that would probably not be noticeably expensive over 20 tuples. Again, with a large corporation or sales data this kind of operation would be too expensive."
   ]
  },
  {
   "cell_type": "markdown",
   "metadata": {},
   "source": [
    "\n",
    "### Tasks 4-6 will use these two new tables.\n",
    "\n",
    "### Task 4: Use UPDATE statement to give a raise to an employee to a new and extremely high wage. Assuming this wage is much higher than the max wage you have in the database.\n",
    "\n",
    "* Is it possible? Comment on why this new setting can prevent UPDATE anomalies. "
   ]
  },
  {
   "cell_type": "code",
   "execution_count": null,
   "metadata": {},
   "outputs": [],
   "source": [
    "# SQL statement\n",
    "UPDATE jch5x8.Keep_Employees SET hrly_wages = 100 WHERE name = 'Amalie';\n",
    "UPDATE jch5x8.Pay SET hrly_wages = 100 WHERE name = 'Amalie';"
   ]
  },
  {
   "cell_type": "raw",
   "metadata": {},
   "source": [
    "# Add your comments\n",
    "I do not know how to even go about using a single update statement to change just one employee's hourly wage. I have seen examples of updating two tables, and can I think I can update the rating an eployee has to the raise I want, but it will affect every one else of that rating. Something like:\n",
    "UPDATE  jch5x8.Pay\n",
    "SET     hrly_wages = 100\n",
    "WHERE   rating IN (\n",
    "            SELECT  rating\n",
    "            FROM    other_jch5x8.Keep_Employees\n",
    "            WHERE   name = 'Amalie'\n",
    "        );\n",
    "So, I just modified the query I used before, which of course didn't work. The new setting is therefore useful in prefenting this UPDATE anomaly because one cannot arbitrarily defy to company policy and give one person a raise without changing their rating, or requires that to give that person the raise it must be granted to all with the same rating."
   ]
  },
  {
   "cell_type": "markdown",
   "metadata": {},
   "source": [
    "### Task 5: Use INSERT statement for two new employees. One follows the company policy to assign known wage and rating pair. The other is assigned a rating \"5\" but with a NULL value for the wage - the hiring manager has not decided the wage yet.  \n",
    "\n",
    "* Is it possible? Comment on why this new setting can prevent INSERT anomalies. "
   ]
  },
  {
   "cell_type": "code",
   "execution_count": null,
   "metadata": {},
   "outputs": [],
   "source": [
    "# SQL statement\n",
    "WITH data(ssn, name, lot, rating, hrly_wages, hrs_worked) AS (\n",
    "   VALUES\n",
    "     (401662722, 'Věroslav', 4, 4, 10, 33.9),\n",
    "     (425346068, 'Adrijana', 18, 5, NULL, 39.9)\n",
    "   )\n",
    ",ins1 AS (\n",
    "   INSERT INTO jch5x8.Keep_Employees (ssn, name, lot, rating, hrs_worked)\n",
    "   SELECT ssn, name, lot, rating, hrs_worked\n",
    "   FROM   data\n",
    "   RETURNING ssn\n",
    "   )\n",
    "INSERT INTO jch5x8.Pay (rating, hrly_wages)\n",
    "SELECT  d.rating, d.hrly_wages\n",
    "FROM    data d JOIN ins1\n",
    "        USING (ssn);"
   ]
  },
  {
   "cell_type": "raw",
   "metadata": {},
   "source": [
    "# Add your comments\n",
    "Again, I cannot even conceive of a way to attempt this with a single statement. So trying the first way of,\n",
    "INSERT INTO jch5x8.Keep_Employees (SSN, name, lot, rating, hrly_wages, hrs_worked) VALUES\n",
    "    (401662722, 'Věroslav', 4, 4, 10, 33.9),\n",
    "    (425346068, 'Adrijana', 18, 5, NULL, 39.9);\n",
    "could not possibly work because there is no longer an hrly_wages field. My code didn't work because it would't let me add another rating of 4. It would have failed when trying to add the second tuple as well both because it is trying to add rating 5 and because it is trying to add a NULL value into a field that does not accept null values."
   ]
  },
  {
   "cell_type": "markdown",
   "metadata": {},
   "source": [
    "### Task 6: Use DELETE statement for all employees from the lowest rating due to performance issues.   \n",
    "\n",
    "* List the tuples again based on ratings (ascending order) and comment on whether or not the company policy has been preserved. What could be DELETE anomaly you experience here.\n",
    "\n",
    "### Use INSERT statement to add a new employee who will take the lowest rating with the wage associating with that rating.\n",
    "\n",
    "* Is it possible? Comment on why this new setting can prevent DELETE anomalies. \n"
   ]
  },
  {
   "cell_type": "code",
   "execution_count": null,
   "metadata": {},
   "outputs": [],
   "source": [
    "# SQL statement\n",
    "DELETE FROM jch5x8.Keep_Employees WHERE rating = 1;"
   ]
  },
  {
   "cell_type": "raw",
   "metadata": {},
   "source": [
    "# Add your comments\n",
    "It is possible to delete them all and does not violate company policy. Although there are no longer any employees in the databse with a rating of 1, the institutional knowledge pertaining to the hourly wage of an employee with a 1 rating is preserved in the Pay table, thus preventing DELETE anomalies."
   ]
  },
  {
   "cell_type": "markdown",
   "metadata": {},
   "source": [
    "# Save your notebook, then `File > Close and Halt`"
   ]
  }
 ],
 "metadata": {
  "kernelspec": {
   "display_name": "Python 3",
   "language": "python",
   "name": "python3"
  },
  "language_info": {
   "codemirror_mode": {
    "name": "ipython",
    "version": 3
   },
   "file_extension": ".py",
   "mimetype": "text/x-python",
   "name": "python",
   "nbconvert_exporter": "python",
   "pygments_lexer": "ipython3",
   "version": "3.7.3"
  }
 },
 "nbformat": 4,
 "nbformat_minor": 1
}
