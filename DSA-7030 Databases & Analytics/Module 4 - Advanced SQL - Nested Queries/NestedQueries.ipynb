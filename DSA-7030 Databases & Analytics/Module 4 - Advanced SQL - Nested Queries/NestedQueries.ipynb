{
 "cells": [
  {
   "cell_type": "markdown",
   "metadata": {},
   "source": [
    "# Nested Queries, aka Subqueries\n",
    "\n",
    "\n",
    "**Subqueries** (also known as inner queries or nested queries) are a tool for performing operations in multiple steps. \n",
    "\n",
    "\n",
    "Nested queries come in a few varieties\n",
    "  1. Type I (one) nested Query\n",
    "  1. Type II (two) nested Query\n",
    "  1. Nested Table Expression\n",
    " \n",
    "\n"
   ]
  },
  {
   "cell_type": "markdown",
   "metadata": {},
   "source": [
    "## Conceptual Type I / II Subquery\n",
    "![Subquery](../images/subquery-syntax.gif)\n",
    "\n",
    "A subquery is a SQL query nested inside a larger query.\n",
    "\n",
    "A subquery may occur in :\n",
    "  * A SELECT clause\n",
    "  * A FROM clause\n",
    "  * A WHERE clause\n",
    "\n",
    "The subquery can be nested inside a SELECT, INSERT, UPDATE, or DELETE statement or inside another subquery.\n",
    "\n",
    "A subquery is usually added within the WHERE Clause of another SQL SELECT statement.\n",
    "\n",
    "You can use the comparison operators, such as >, <, or =. The comparison operator can also be a multiple-row operator, such as IN, ANY, or ALL.\n",
    "\n",
    "A subquery is also called an inner query or inner select, while the statement containing a subquery is also called an outer query or outer select.\n",
    "\n",
    "The inner query executes first before its parent query so that the results of an inner query can be passed to the outer query.\n",
    "\n",
    "You can use a subquery in a SELECT, INSERT, DELETE, or UPDATE statement to perform the following tasks :\n",
    "  * Compare an expression to the result of the query.\n",
    "  * Determine if an expression is included in the results of the query.\n",
    "  * Check whether the query selects any rows."
   ]
  },
  {
   "cell_type": "markdown",
   "metadata": {},
   "source": [
    "## Nested Table Expression\n",
    "\n",
    "As discussed, all SQL SELECT statements produce a _tabular_ result.\n",
    "\n",
    "As such, the result of a query can be utilized in place of an actual table name.\n",
    "\n",
    "This is exactly what happens in the database when you utilize a _VIEW_ in a query statement.\n",
    "\n",
    "The remainder of this module explores the Type I and II subqueries, then the next module explores the nested table expression.\n",
    "\n",
    "## Additional Reading\n",
    "\n",
    "  * [SQL Subquery](https://www.tutorialspoint.com/sql/sql-sub-queries.htm)\n",
    "  * [Further Reading](http://www.w3resource.com/sql/subqueries/nested-subqueries.php)"
   ]
  }
 ],
 "metadata": {
  "kernelspec": {
   "display_name": "Python 3",
   "language": "python",
   "name": "python3"
  },
  "language_info": {
   "codemirror_mode": {
    "name": "ipython",
    "version": 3
   },
   "file_extension": ".py",
   "mimetype": "text/x-python",
   "name": "python",
   "nbconvert_exporter": "python",
   "pygments_lexer": "ipython3",
   "version": "3.7.3"
  }
 },
 "nbformat": 4,
 "nbformat_minor": 1
}
