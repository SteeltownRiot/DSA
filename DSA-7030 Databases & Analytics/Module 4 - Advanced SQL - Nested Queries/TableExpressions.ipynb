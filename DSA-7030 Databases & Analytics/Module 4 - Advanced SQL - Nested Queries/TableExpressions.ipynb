{
 "cells": [
  {
   "attachments": {},
   "cell_type": "markdown",
   "metadata": {},
   "source": [
    "# Table Expressions\n",
    "\n",
    "Note the general syntax of a simple SQL\n",
    "\n",
    "```SQL\n",
    "SELECT <col_list>\n",
    "FROM <table>\n",
    "WHERE <row_constraint>\n",
    "```\n",
    "\n",
    "Whenever we are using the `<table_A> JOIN <table_B>` syntax, we are creating a ** _table expression_**.\n",
    "The result of this expression is a set of columns from both tables, A and B, composed of the matched rows.\n",
    "\n",
    "We can actually generalize SQL SELECT Statements as the following:\n",
    "\n",
    "![table expression](../images/SQL_TableExpression.png)\n",
    "\n"
   ]
  },
  {
   "cell_type": "markdown",
   "metadata": {},
   "source": [
    "# Subquery Table Expressions\n",
    "\n",
    "Also known as, **_Derived Tables_**\n",
    "\n",
    "\n",
    "If a table or view can be the input of SQL `SELECT`, then we should be able dynamically define a table expression in the body of that `SELECT`.\n",
    "\n",
    "That is:\n",
    "\n",
    "```SQL\n",
    "SELECT <col_list_a>\n",
    "FROM (\n",
    "    SELECT <col_list_b>\n",
    "    FROM <table_expressions_list>\n",
    "    WHERE ... \n",
    "    ) as <derived_table_alias>\n",
    "WHERE <row_constraints>\n",
    "```\n"
   ]
  },
  {
   "cell_type": "markdown",
   "metadata": {},
   "source": [
    "**Example** from our DVD Rental database.\n",
    "\n",
    "How many movies have been rented more than four times?\n",
    "\n",
    "```SQL\n",
    "SELECT COUNT(*) \n",
    "FROM (\n",
    "    SELECT inventory_id, COUNT(*) \n",
    "    FROM rental \n",
    "    GROUP BY inventory_id \n",
    "    HAVING COUNT(*) > 4\n",
    "    ) as rent_counts;\n",
    "\n",
    " count \n",
    "-------\n",
    "  1139\n",
    "(1 row)\n",
    "```"
   ]
  },
  {
   "cell_type": "markdown",
   "metadata": {},
   "source": [
    "Or, the actual Movie names?\n",
    "\n",
    "```SQL\n",
    "SELECT i.film_id, f.title \n",
    "FROM film f \n",
    "JOIN inventory as i USING (film_id) \n",
    "NATURAL JOIN (\n",
    "    SELECT inventory_id, COUNT(*) \n",
    "    FROM rental \n",
    "    GROUP BY inventory_id \n",
    "    HAVING COUNT(*) > 4\n",
    "    ) as rent_counts;\n",
    "```\n",
    "---\n",
    "#### Note the mixed use of the Natural JOIN versus the JOIN.\n",
    "### Ponder why the Natural JOIN was not used between Film and Inventory."
   ]
  }
 ],
 "metadata": {
  "kernelspec": {
   "display_name": "Python 3",
   "language": "python",
   "name": "python3"
  },
  "language_info": {
   "codemirror_mode": {
    "name": "ipython",
    "version": 3
   },
   "file_extension": ".py",
   "mimetype": "text/x-python",
   "name": "python",
   "nbconvert_exporter": "python",
   "pygments_lexer": "ipython3",
   "version": "3.7.3"
  }
 },
 "nbformat": 4,
 "nbformat_minor": 2
}
