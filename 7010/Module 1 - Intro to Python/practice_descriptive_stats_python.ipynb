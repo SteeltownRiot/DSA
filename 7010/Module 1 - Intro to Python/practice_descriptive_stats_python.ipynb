{
 "cells": [
  {
   "cell_type": "markdown",
   "metadata": {},
   "source": [
    "# Practicing Descriptive Statistics with `NumPy` and `pandas`\n",
    "\n",
    "Data exploration isn't complete without manipulating the data. \n",
    "Splitting the data across categories and discovering the underlying features of the categories could lead to better, more powerful insights. \n",
    "\n",
    "In this practice, we will be working with the data manipulation capabilities of `pandas` and the statistical functionality that `Numpy` provides to further investigate the *Game of Thrones* data."
   ]
  },
  {
   "cell_type": "code",
   "execution_count": 1,
   "metadata": {},
   "outputs": [],
   "source": [
    "import pandas as pd\n",
    "import numpy as np\n",
    "\n",
    "with open('/dsa/data/all_datasets/game-of-thrones/GoT_age_at_death.csv') as file:\n",
    "    df = pd.read_csv(file)\n",
    "    df.columns  = ['character', 'age', 'dead', 'gender', 'affiliation'] # rename the columns\n",
    "    \n",
    "    # turn age, gender, and affiliation into categorical data\n",
    "    df['dead'] = df['dead'].astype('category') \n",
    "    df['gender'] = df['gender'].astype('category')\n",
    "    df['affiliation'] = df['affiliation'].astype('category')"
   ]
  },
  {
   "cell_type": "code",
   "execution_count": 7,
   "metadata": {},
   "outputs": [
    {
     "data": {
      "text/html": [
       "<div>\n",
       "<style scoped>\n",
       "    .dataframe tbody tr th:only-of-type {\n",
       "        vertical-align: middle;\n",
       "    }\n",
       "\n",
       "    .dataframe tbody tr th {\n",
       "        vertical-align: top;\n",
       "    }\n",
       "\n",
       "    .dataframe thead th {\n",
       "        text-align: right;\n",
       "    }\n",
       "</style>\n",
       "<table border=\"1\" class=\"dataframe\">\n",
       "  <thead>\n",
       "    <tr style=\"text-align: right;\">\n",
       "      <th></th>\n",
       "      <th>character</th>\n",
       "      <th>age</th>\n",
       "      <th>dead</th>\n",
       "      <th>gender</th>\n",
       "      <th>affiliation</th>\n",
       "    </tr>\n",
       "  </thead>\n",
       "  <tbody>\n",
       "    <tr>\n",
       "      <th>0</th>\n",
       "      <td>Sandor Clegan</td>\n",
       "      <td>29</td>\n",
       "      <td>1</td>\n",
       "      <td>1</td>\n",
       "      <td>4</td>\n",
       "    </tr>\n",
       "    <tr>\n",
       "      <th>1</th>\n",
       "      <td>Benjen Stark</td>\n",
       "      <td>35</td>\n",
       "      <td>1</td>\n",
       "      <td>1</td>\n",
       "      <td>10</td>\n",
       "    </tr>\n",
       "    <tr>\n",
       "      <th>2</th>\n",
       "      <td>Syrio Forel</td>\n",
       "      <td>41</td>\n",
       "      <td>1</td>\n",
       "      <td>1</td>\n",
       "      <td>1</td>\n",
       "    </tr>\n",
       "    <tr>\n",
       "      <th>3</th>\n",
       "      <td>Tysha</td>\n",
       "      <td>29</td>\n",
       "      <td>0</td>\n",
       "      <td>0</td>\n",
       "      <td>4</td>\n",
       "    </tr>\n",
       "    <tr>\n",
       "      <th>4</th>\n",
       "      <td>Jeyne Pool</td>\n",
       "      <td>12</td>\n",
       "      <td>1</td>\n",
       "      <td>0</td>\n",
       "      <td>1</td>\n",
       "    </tr>\n",
       "    <tr>\n",
       "      <th>5</th>\n",
       "      <td>Imry Florent</td>\n",
       "      <td>35</td>\n",
       "      <td>1</td>\n",
       "      <td>1</td>\n",
       "      <td>2</td>\n",
       "    </tr>\n",
       "    <tr>\n",
       "      <th>6</th>\n",
       "      <td>Sorcerer in the Box</td>\n",
       "      <td>60</td>\n",
       "      <td>1</td>\n",
       "      <td>1</td>\n",
       "      <td>0</td>\n",
       "    </tr>\n",
       "    <tr>\n",
       "      <th>7</th>\n",
       "      <td>Jhiqui</td>\n",
       "      <td>17</td>\n",
       "      <td>0</td>\n",
       "      <td>0</td>\n",
       "      <td>3</td>\n",
       "    </tr>\n",
       "    <tr>\n",
       "      <th>8</th>\n",
       "      <td>Stevron Frey</td>\n",
       "      <td>66</td>\n",
       "      <td>1</td>\n",
       "      <td>1</td>\n",
       "      <td>6</td>\n",
       "    </tr>\n",
       "    <tr>\n",
       "      <th>9</th>\n",
       "      <td>Cohollo</td>\n",
       "      <td>36</td>\n",
       "      <td>1</td>\n",
       "      <td>1</td>\n",
       "      <td>11</td>\n",
       "    </tr>\n",
       "    <tr>\n",
       "      <th>10</th>\n",
       "      <td>Bharbo</td>\n",
       "      <td>62</td>\n",
       "      <td>1</td>\n",
       "      <td>1</td>\n",
       "      <td>11</td>\n",
       "    </tr>\n",
       "    <tr>\n",
       "      <th>11</th>\n",
       "      <td>Tomard</td>\n",
       "      <td>47</td>\n",
       "      <td>1</td>\n",
       "      <td>1</td>\n",
       "      <td>1</td>\n",
       "    </tr>\n",
       "  </tbody>\n",
       "</table>\n",
       "</div>"
      ],
      "text/plain": [
       "              character  age dead gender affiliation\n",
       "0         Sandor Clegan   29    1      1           4\n",
       "1          Benjen Stark   35    1      1          10\n",
       "2           Syrio Forel   41    1      1           1\n",
       "3                 Tysha   29    0      0           4\n",
       "4            Jeyne Pool   12    1      0           1\n",
       "5          Imry Florent   35    1      1           2\n",
       "6   Sorcerer in the Box   60    1      1           0\n",
       "7                Jhiqui   17    0      0           3\n",
       "8          Stevron Frey   66    1      1           6\n",
       "9               Cohollo   36    1      1          11\n",
       "10               Bharbo   62    1      1          11\n",
       "11               Tomard   47    1      1           1"
      ]
     },
     "execution_count": 7,
     "metadata": {},
     "output_type": "execute_result"
    }
   ],
   "source": [
    "df.head(12)"
   ]
  },
  {
   "cell_type": "markdown",
   "metadata": {},
   "source": [
    "Suppose we are now interested in knowing the mean age of the characters by gender. This could be done by subsetting the dataframe by gender and then calculating the mean for each. However, there is a function within `pandas` that can do this for us `groupby`. `group_by` is great for beginning to explore data. `groupby` lets us split, apply a function, and combine the results. See [here](https://pandas.pydata.org/pandas-docs/stable/reference/api/pandas.DataFrame.groupby.html) for more information\n",
    "\n",
    "So if we are interested in the mean age by gender of the characters we would use the code below that produces a data frame by `gender` (so 0 and 1) and produce the `mean` age for both."
   ]
  },
  {
   "cell_type": "code",
   "execution_count": 3,
   "metadata": {},
   "outputs": [
    {
     "data": {
      "text/plain": [
       "gender\n",
       "0    29.467391\n",
       "1    37.635379\n",
       "Name: age, dtype: float64"
      ]
     },
     "execution_count": 3,
     "metadata": {},
     "output_type": "execute_result"
    }
   ],
   "source": [
    "df.groupby(['gender'])['age'].mean()"
   ]
  },
  {
   "cell_type": "markdown",
   "metadata": {},
   "source": [
    "We could go even more fine-grained than this. \n",
    "\n",
    "**Activity 1**: *Find the mean age per `gender` and per `affiliation`.*"
   ]
  },
  {
   "cell_type": "code",
   "execution_count": 5,
   "metadata": {},
   "outputs": [
    {
     "data": {
      "text/plain": [
       "gender  affiliation\n",
       "0       0              29.000000\n",
       "        1              33.000000\n",
       "        2              25.300000\n",
       "        3              31.750000\n",
       "        4              28.714286\n",
       "        5              24.166667\n",
       "        6              20.600000\n",
       "        8                    NaN\n",
       "        9              19.000000\n",
       "        10                   NaN\n",
       "        11                   NaN\n",
       "        12             30.333333\n",
       "        13             75.000000\n",
       "        14             30.666667\n",
       "        15             68.000000\n",
       "        16             35.666667\n",
       "1       0              33.375000\n",
       "        1              35.588235\n",
       "        2              35.437500\n",
       "        3              38.279070\n",
       "        4              41.645161\n",
       "        5              31.166667\n",
       "        6              40.933333\n",
       "        8              59.000000\n",
       "        9              30.500000\n",
       "        10             35.939394\n",
       "        11             36.666667\n",
       "        12             36.222222\n",
       "        13             44.894737\n",
       "        14             33.142857\n",
       "        15             44.777778\n",
       "        16             33.857143\n",
       "Name: age, dtype: float64"
      ]
     },
     "execution_count": 5,
     "metadata": {},
     "output_type": "execute_result"
    }
   ],
   "source": [
    "# Activity 1 code goes here\n",
    "# -------------------------\n",
    "df.groupby(['gender','affiliation'])['age'].mean()"
   ]
  },
  {
   "cell_type": "markdown",
   "metadata": {},
   "source": [
    "In the lab, we learned how to subset data. We now want to look at only characters that are still alive. \n",
    "\n",
    "**Activity 2**: *Create a subset from the data frame of only those who are living. Call this subset `alive_chars`.*"
   ]
  },
  {
   "cell_type": "code",
   "execution_count": 13,
   "metadata": {},
   "outputs": [
    {
     "data": {
      "text/html": [
       "<div>\n",
       "<style scoped>\n",
       "    .dataframe tbody tr th:only-of-type {\n",
       "        vertical-align: middle;\n",
       "    }\n",
       "\n",
       "    .dataframe tbody tr th {\n",
       "        vertical-align: top;\n",
       "    }\n",
       "\n",
       "    .dataframe thead th {\n",
       "        text-align: right;\n",
       "    }\n",
       "</style>\n",
       "<table border=\"1\" class=\"dataframe\">\n",
       "  <thead>\n",
       "    <tr style=\"text-align: right;\">\n",
       "      <th></th>\n",
       "      <th>character</th>\n",
       "      <th>age</th>\n",
       "      <th>dead</th>\n",
       "      <th>gender</th>\n",
       "      <th>affiliation</th>\n",
       "    </tr>\n",
       "  </thead>\n",
       "  <tbody>\n",
       "    <tr>\n",
       "      <th>194</th>\n",
       "      <td>Addam Marband</td>\n",
       "      <td>35</td>\n",
       "      <td>0</td>\n",
       "      <td>1</td>\n",
       "      <td>4</td>\n",
       "    </tr>\n",
       "    <tr>\n",
       "      <th>29</th>\n",
       "      <td>Aegon Targaryen</td>\n",
       "      <td>19</td>\n",
       "      <td>0</td>\n",
       "      <td>1</td>\n",
       "      <td>3</td>\n",
       "    </tr>\n",
       "    <tr>\n",
       "      <th>196</th>\n",
       "      <td>Aeron Greyjoy</td>\n",
       "      <td>28</td>\n",
       "      <td>0</td>\n",
       "      <td>1</td>\n",
       "      <td>14</td>\n",
       "    </tr>\n",
       "    <tr>\n",
       "      <th>197</th>\n",
       "      <td>Aggo</td>\n",
       "      <td>19</td>\n",
       "      <td>0</td>\n",
       "      <td>1</td>\n",
       "      <td>3</td>\n",
       "    </tr>\n",
       "    <tr>\n",
       "      <th>198</th>\n",
       "      <td>Alannys Greyjoy</td>\n",
       "      <td>47</td>\n",
       "      <td>0</td>\n",
       "      <td>0</td>\n",
       "      <td>14</td>\n",
       "    </tr>\n",
       "    <tr>\n",
       "      <th>199</th>\n",
       "      <td>Alerie Tyrell</td>\n",
       "      <td>40</td>\n",
       "      <td>0</td>\n",
       "      <td>0</td>\n",
       "      <td>16</td>\n",
       "    </tr>\n",
       "    <tr>\n",
       "      <th>200</th>\n",
       "      <td>Alliser Thorne</td>\n",
       "      <td>53</td>\n",
       "      <td>0</td>\n",
       "      <td>1</td>\n",
       "      <td>10</td>\n",
       "    </tr>\n",
       "    <tr>\n",
       "      <th>201</th>\n",
       "      <td>Anguy</td>\n",
       "      <td>31</td>\n",
       "      <td>0</td>\n",
       "      <td>1</td>\n",
       "      <td>1</td>\n",
       "    </tr>\n",
       "    <tr>\n",
       "      <th>202</th>\n",
       "      <td>Anya Waynwood</td>\n",
       "      <td>68</td>\n",
       "      <td>0</td>\n",
       "      <td>0</td>\n",
       "      <td>15</td>\n",
       "    </tr>\n",
       "    <tr>\n",
       "      <th>203</th>\n",
       "      <td>Areo Hotah</td>\n",
       "      <td>44</td>\n",
       "      <td>0</td>\n",
       "      <td>1</td>\n",
       "      <td>5</td>\n",
       "    </tr>\n",
       "  </tbody>\n",
       "</table>\n",
       "</div>"
      ],
      "text/plain": [
       "           character  age dead gender affiliation\n",
       "194    Addam Marband   35    0      1           4\n",
       "29   Aegon Targaryen   19    0      1           3\n",
       "196    Aeron Greyjoy   28    0      1          14\n",
       "197             Aggo   19    0      1           3\n",
       "198  Alannys Greyjoy   47    0      0          14\n",
       "199    Alerie Tyrell   40    0      0          16\n",
       "200   Alliser Thorne   53    0      1          10\n",
       "201            Anguy   31    0      1           1\n",
       "202    Anya Waynwood   68    0      0          15\n",
       "203       Areo Hotah   44    0      1           5"
      ]
     },
     "execution_count": 13,
     "metadata": {},
     "output_type": "execute_result"
    }
   ],
   "source": [
    "# Activity 2 code goes here\n",
    "# -------------------------\n",
    "alive_chars = df[(df['dead'] == 0)]\n",
    "#alive_chars.sort_values(by = ['character'], ascending = True).head(10)"
   ]
  },
  {
   "cell_type": "markdown",
   "metadata": {},
   "source": [
    "Remember in the lab, we used `NumPy` to find the mean age of the entire dataset, the syntax for which is below. "
   ]
  },
  {
   "cell_type": "code",
   "execution_count": null,
   "metadata": {},
   "outputs": [],
   "source": [
    "np.mean(df.age)"
   ]
  },
  {
   "cell_type": "markdown",
   "metadata": {},
   "source": [
    "**Activity 3**: *Find the mean age of those who are alive.*"
   ]
  },
  {
   "cell_type": "code",
   "execution_count": 14,
   "metadata": {},
   "outputs": [
    {
     "data": {
      "text/plain": [
       "33.00568181818182"
      ]
     },
     "execution_count": 14,
     "metadata": {},
     "output_type": "execute_result"
    }
   ],
   "source": [
    "# Activity 3 code goes here\n",
    "# -------------------------\n",
    "np.mean(alive_chars.age)"
   ]
  },
  {
   "cell_type": "markdown",
   "metadata": {},
   "source": [
    "Below is one of the ways that we found the standard deviation."
   ]
  },
  {
   "cell_type": "code",
   "execution_count": null,
   "metadata": {},
   "outputs": [],
   "source": [
    "np.std(df.age)"
   ]
  },
  {
   "cell_type": "markdown",
   "metadata": {},
   "source": [
    "But remember, without any extra arguments passed to the method, we get the population standard deviation. What we want is the sample standard deviation.\n",
    "\n",
    "**Activity 4**: *Find the sample standard deviation of the ages of the characters that are still alive.*"
   ]
  },
  {
   "cell_type": "code",
   "execution_count": 15,
   "metadata": {},
   "outputs": [
    {
     "data": {
      "text/plain": [
       "17.779104550736886"
      ]
     },
     "execution_count": 15,
     "metadata": {},
     "output_type": "execute_result"
    }
   ],
   "source": [
    "# Activity 4 code goes here\n",
    "# -------------------------\n",
    "np.std(alive_chars.age)"
   ]
  },
  {
   "cell_type": "markdown",
   "metadata": {},
   "source": [
    "In the practice we introduced the mean, median, and quartiles. To take this one step farther we want to look at the symmetry of a distribution. When the mean is greater than the median, it means that the data is skewed to the right, and when the median is greater than the mean, the data is skewed to the left. When the mean and median are the same, it means that the data are symmetrical. In other words, in a right skewed distribution, most of the data points are below the mean, but there are some high value points pulling the mean higher; the opposite is true for a left skew.\n",
    "\n",
    "<img src=\"../images/distr_sym.gif\" style=\"width: 750px;\"/>\n",
    "\n",
    "Below is an example of how we found the median before."
   ]
  },
  {
   "cell_type": "code",
   "execution_count": null,
   "metadata": {},
   "outputs": [],
   "source": [
    "np.median(df.age)"
   ]
  },
  {
   "cell_type": "markdown",
   "metadata": {},
   "source": [
    "**Activity 5**: *Is the distribution of the age of those who are alive skewed to the right, the left, or symmetrical and what does this tell us?*"
   ]
  },
  {
   "cell_type": "code",
   "execution_count": 16,
   "metadata": {},
   "outputs": [
    {
     "data": {
      "text/plain": [
       "32.0"
      ]
     },
     "execution_count": 16,
     "metadata": {},
     "output_type": "execute_result"
    }
   ],
   "source": [
    "# Activity 5 code goes here\n",
    "# -------------------------\n",
    "np.median(alive_chars.age)\n",
    "\n",
    "# Text Answer to the question should be a comment here.\n",
    "# The median (32) is slightly smaller than the mean (≈33). To me, this means the data is nearly symetrical, that is slightly\n",
    "# right-skewed. This means most of the characters' ages are below 33, but there are a few older characters dragging the tail\n",
    "# out to the right.\n"
   ]
  },
  {
   "cell_type": "markdown",
   "metadata": {},
   "source": [
    "`NumPy` also gives us the functionality to see what value a certain percentage of the rows fall under by calling the `percentile` method. We did this to find the 65th percentile of ages of the entire data fame by doing the following..."
   ]
  },
  {
   "cell_type": "code",
   "execution_count": null,
   "metadata": {},
   "outputs": [],
   "source": [
    "np.percentile(df.age, 65)"
   ]
  },
  {
   "cell_type": "markdown",
   "metadata": {},
   "source": [
    "Now, remember we discussed the Quartile Range in the lab notebook.\n",
    "\n",
    "**Activity 6**: *Find the the Quartile Range of the `alive_chars` age variable.*"
   ]
  },
  {
   "cell_type": "code",
   "execution_count": 19,
   "metadata": {},
   "outputs": [
    {
     "name": "stdout",
     "output_type": "stream",
     "text": [
      "26.25\n"
     ]
    }
   ],
   "source": [
    "# Activity 6 code goes here\n",
    "# -------------------------\n",
    "q3, q1 = np.percentile(alive_chars.age, [75 ,25])\n",
    "#print(q3)\n",
    "#print(q1)\n",
    "iqr =  q3 - q1\n",
    "print(iqr)"
   ]
  },
  {
   "cell_type": "markdown",
   "metadata": {},
   "source": [
    "## Bivariate Analysis\n",
    "\n",
    "Now we are going to switch back over to the *Stature Hand and Foot* data frame, and practice some bivariate analysis on some variables."
   ]
  },
  {
   "cell_type": "code",
   "execution_count": 20,
   "metadata": {},
   "outputs": [],
   "source": [
    "with open('/dsa/data/all_datasets/stature-hand-foot/stature-hand-foot.csv') as file2:\n",
    "    df2 = pd.read_csv(file2)\n",
    "    df2['gender'] = df2['gender'].astype('category')\n",
    "    df2.columns = ['gender', 'height', 'hand_length', 'foot_length']"
   ]
  },
  {
   "cell_type": "markdown",
   "metadata": {},
   "source": [
    "First, we should actually split the data based on male and female. \n",
    "\n",
    "**Activity 7**: *Create two subsets of the data, one for females and the other for males. Name the two subsets `female` and `male` respectively.*"
   ]
  },
  {
   "cell_type": "code",
   "execution_count": 30,
   "metadata": {},
   "outputs": [
    {
     "name": "stdout",
     "output_type": "stream",
     "text": [
      "    gender  height  hand_length  foot_length\n",
      "80       2  1606.0        195.6        257.0\n",
      "81       2  1585.2        178.9        210.4\n",
      "82       2  1576.4        194.5        224.3\n",
      "83       2  1551.3        133.7        236.2\n",
      "84       2  1618.4        193.0        200.8\n",
      "..     ...     ...          ...          ...\n",
      "150      2  1541.3        182.6        225.7\n",
      "151      2  1604.8        188.0        230.6\n",
      "152      2  1592.1        188.9        232.0\n",
      "153      2  1518.3        184.6        227.2\n",
      "154      2  1553.6        186.8        230.3\n",
      "\n",
      "[75 rows x 4 columns]\n",
      "   gender  height  hand_length  foot_length\n",
      "0       1  1760.2        208.6        269.6\n",
      "1       1  1730.1        207.6        251.3\n",
      "2       1  1659.6        173.2        193.6\n",
      "3       1  1751.3        258.0        223.8\n",
      "4       1  1780.6        212.3        282.1\n",
      "..    ...     ...          ...          ...\n",
      "75      1  1683.6        204.5        263.1\n",
      "76      1  1857.3        219.5        283.1\n",
      "77      1  1703.2        205.0        261.7\n",
      "78      1  1763.8        210.5        265.3\n",
      "79      1  1708.1        204.6        260.0\n",
      "\n",
      "[80 rows x 4 columns]\n"
     ]
    }
   ],
   "source": [
    "# Activity 7 code goes here\n",
    "# -------------------------\n",
    "female =  df2[(df2['gender'] == 2)]\n",
    "male =  df2[(df2['gender'] == 1)]\n",
    "#print(female)\n",
    "#print(male)\n"
   ]
  },
  {
   "cell_type": "markdown",
   "metadata": {},
   "source": [
    "You will recall that we conducted covariance and correlation calculations on two varibles. However we can also create a correlation and covariance matrix. This is a good way to quickly spot some linear relationships between variables. Below is an example of how to create a correlation matrix on the entire data frame."
   ]
  },
  {
   "cell_type": "code",
   "execution_count": null,
   "metadata": {},
   "outputs": [],
   "source": [
    "df2.corr()"
   ]
  },
  {
   "cell_type": "markdown",
   "metadata": {},
   "source": [
    "Simple enough. And in `pandas` it knows to ignore the non-quantitative columns. \n",
    "\n",
    "**Activity 8**: *Create a covariance and correlation matrices for both the males and females of this dataset.*"
   ]
  },
  {
   "cell_type": "code",
   "execution_count": 34,
   "metadata": {},
   "outputs": [
    {
     "name": "stdout",
     "output_type": "stream",
     "text": [
      "               height  hand_length  foot_length\n",
      "height       1.000000     0.709244     0.699100\n",
      "hand_length  0.709244     1.000000     0.609538\n",
      "foot_length  0.699100     0.609538     1.000000\n",
      "               height  hand_length  foot_length\n",
      "height       1.000000     0.722356     0.715975\n",
      "hand_length  0.722356     1.000000     0.473000\n",
      "foot_length  0.715975     0.473000     1.000000\n",
      "                  height  hand_length  foot_length\n",
      "height       2424.117560   325.975892   416.985944\n",
      "hand_length   325.975892    87.141622    68.931676\n",
      "foot_length   416.985944    68.931676   146.760912\n",
      "                  height  hand_length  foot_length\n",
      "height       3754.465848   407.545449   545.012880\n",
      "hand_length   407.545449    84.781441    54.106147\n",
      "foot_length   545.012880    54.106147   154.336922\n"
     ]
    }
   ],
   "source": [
    "# Activity 8 code goes here\n",
    "# -------------------------\n",
    "print(female.corr())\n",
    "print(male.corr())\n",
    "print(female.cov())\n",
    "print(male.cov())"
   ]
  },
  {
   "cell_type": "markdown",
   "metadata": {},
   "source": [
    "# Save your notebook, then `File > Close and Halt`"
   ]
  }
 ],
 "metadata": {
  "anaconda-cloud": {},
  "kernelspec": {
   "display_name": "Python 3",
   "language": "python",
   "name": "python3"
  },
  "language_info": {
   "codemirror_mode": {
    "name": "ipython",
    "version": 3
   },
   "file_extension": ".py",
   "mimetype": "text/x-python",
   "name": "python",
   "nbconvert_exporter": "python",
   "pygments_lexer": "ipython3",
   "version": "3.7.3"
  }
 },
 "nbformat": 4,
 "nbformat_minor": 2
}
