{
 "cells": [
  {
   "cell_type": "markdown",
   "metadata": {},
   "source": [
    "# Data Manipulation with `Python` Exercises\n",
    "\n",
    "Welcome to one of your first exercise notebooks. \n",
    "So what should you expect from these notebooks? \n",
    "Well, we will be touching on the concepts and code that we ran through in the subsequent labs and practices, \n",
    "except the majority of the coding will be done by you now. \n",
    "The questions that we ask of you will be very familiar, although the output might throw a few more errors. \n",
    "**Some of these issues we have not seen yet and this is meant to challenge you.** \n",
    "Learning to resolve new issues and development of your problem solving vocabulary for internet research is critical to developing you as a data scientist.\n",
    "\n",
    "In these notebooks, we will ask you to write and execute your own code for questions that will look similar to what we have learned in the Labs and Practices. However, Exercises will often be a bit more challenging in that 1) you may be working with a new data set with which you will have to familiarize yourself, and 2) you will be asked to write code to problems you have yet to see.\n"
   ]
  },
  {
   "cell_type": "markdown",
   "metadata": {},
   "source": [
    "## Read in the Data\n",
    "\n",
    "We will be using a different data set for this exercise. These data are filled with all of the U.S. Congress members from January 1947 to February 2014 along with some information about them.\n",
    "\n",
    "Go ahead and read in the `congress-terms.csv` in the `all_datasets/` directory. Pay particular attention to the encoding. Run the following line..."
   ]
  },
  {
   "cell_type": "code",
   "execution_count": 1,
   "metadata": {},
   "outputs": [
    {
     "name": "stdout",
     "output_type": "stream",
     "text": [
      "congress ,chamber ,bioguide ,firstname ,middlename ,lastname ,suffix ,birthday ,state ,party ,incumbent ,termstart ,age\n",
      "80 ,house ,M000112 ,Joseph ,Jefferson ,Mansfield , ,1861-02-09 ,TX ,D ,Yes ,1/3/47 ,85.9\n",
      "80 ,house ,D000448 ,Robert ,Lee ,Doughton , ,1863-11-07 ,NC ,D ,Yes ,1/3/47 ,83.2\n",
      "80 ,house ,S000001 ,Adolph ,Joachim ,Sabath , ,1866-04-04 ,IL ,D ,Yes ,1/3/47 ,80.7\n",
      "80 ,house ,E000023 ,Charles ,Aubrey ,Eaton , ,1868-03-29 ,NJ ,R ,Yes ,1/3/47 ,78.8\n",
      "80 ,house ,L000296 ,William , ,Lewis , ,1868-09-22 ,KY ,R ,No ,1/3/47 ,78.3\n",
      "80 ,house ,G000017 ,James ,A. ,Gallagher , ,1869-01-16 ,PA ,R ,No ,1/3/47 ,78\n",
      "80 ,house ,W000265 ,Richard ,Joseph ,Welch , ,1869-02-13 ,CA ,R ,Yes ,1/3/47 ,77.9\n",
      "80 ,house ,B000565 ,Sol , ,Bloom , ,1870-03-09 ,NY ,D ,Yes ,1/3/47 ,76.8\n",
      "80 ,house ,H000943 ,Merlin , ,Hull , ,1870-12-18 ,WI ,R ,Yes ,1/3/47 ,76\n",
      "80 ,house ,G000169 ,Charles ,Laceille ,Gifford , ,1871-03-15 ,MA ,R ,Yes ,1/3/47 ,75.8\n"
     ]
    }
   ],
   "source": [
    "import pandas as pd\n",
    "\n",
    "with open('/dsa/data/all_datasets/congress-terms.csv', 'r', encoding = 'ISO-8859-1') as file:\n",
    "    data = file.read()\n",
    "\n",
    "    data_lists = data.split(\"\\n\")\n",
    "\n",
    "    list_of_lists = []\n",
    "    for line in data_lists:\n",
    "        row = line.split(',')\n",
    "        list_of_lists.append(row)\n",
    "\n",
    "    # return the first 11 lists (rows) to get an idea of what the data looks like     \n",
    "    for row in list_of_lists[0:11]:\n",
    "        print(' ,'.join(row))"
   ]
  },
  {
   "cell_type": "markdown",
   "metadata": {},
   "source": [
    "**Question 1**: You will notice something a little bit different about reading in this file, particularly the `encoding` parameter. Do a bit of research on what encoding is. What happens when you remove this parameter all together? Do your best to describe any errors being thrown."
   ]
  },
  {
   "cell_type": "raw",
   "metadata": {},
   "source": [
    "**Write out your answer in this cell**:\n",
    "The error thrown after removing the encoding parameter is \"UnicodeDecodeError: 'utf-8' codec can't decode byte 0xcc in position 22701: invalid continuation byte.\" It appears the default codec for Jupyter is UTF-8, which is unable to decode the byte 0xcc (Ì) used in the CSV. That seems strange to me, as from what I can tell UTF-8 encodes all unicode code points whereas ISO-8859-1 only encodes the first 256."
   ]
  },
  {
   "cell_type": "markdown",
   "metadata": {},
   "source": [
    "**Question 2**: In the `list_of_lists` variable, the last item of each list is the `age` of the member of congress. This is currently a string. Without using any packages, create a subset that contains all of the values for `age` stored as floats."
   ]
  },
  {
   "cell_type": "code",
   "execution_count": 11,
   "metadata": {},
   "outputs": [
    {
     "data": {
      "text/plain": [
       "[85.9, 83.2, 80.7, 78.8, 78.3]"
      ]
     },
     "execution_count": 11,
     "metadata": {},
     "output_type": "execute_result"
    }
   ],
   "source": [
    "# Execute your code for question 2 here\n",
    "# -------------------------------------\n",
    "subset = list_of_lists[1:]\n",
    "countFloats = []\n",
    "\n",
    "for row in subset:\n",
    "    countFlo = float(row[12])\n",
    "    countFloats.append(countFlo)\n",
    "#countFloats[0:5]"
   ]
  },
  {
   "cell_type": "markdown",
   "metadata": {},
   "source": [
    "**Question 3**: Now go ahead and read in the file with `pandas` save the data frame to a variable called `df`."
   ]
  },
  {
   "cell_type": "code",
   "execution_count": 31,
   "metadata": {},
   "outputs": [],
   "source": [
    "# Execute your code for question 3 here\n",
    "# -------------------------------------\n",
    "df = pd.read_csv('/dsa/data/all_datasets/congress-terms.csv', encoding = 'ISO-8859-1')\n",
    "#with open('/dsa/data/all_datasets/congress-terms.csv', 'r', encoding = 'ISO-8859-1', ) as file:\n",
    "#    df = pd.read_csv(file)"
   ]
  },
  {
   "cell_type": "markdown",
   "metadata": {},
   "source": [
    "**Question 4**: Find a method to print of the column headers of the data frame `df`."
   ]
  },
  {
   "cell_type": "code",
   "execution_count": 36,
   "metadata": {},
   "outputs": [
    {
     "data": {
      "text/plain": [
       "['congress',\n",
       " 'chamber',\n",
       " 'bioguide',\n",
       " 'firstname',\n",
       " 'middlename',\n",
       " 'lastname',\n",
       " 'suffix',\n",
       " 'birthday',\n",
       " 'state',\n",
       " 'party',\n",
       " 'incumbent',\n",
       " 'termstart',\n",
       " 'age']"
      ]
     },
     "execution_count": 36,
     "metadata": {},
     "output_type": "execute_result"
    }
   ],
   "source": [
    "# Execute your code for question 4 here\n",
    "# -------------------------------------\n",
    "list(df.columns)"
   ]
  },
  {
   "cell_type": "markdown",
   "metadata": {},
   "source": [
    "**Question 5**: Congresses are numbered. Notice that there is a column devoted to the Cogress number. This column is conveniently called `congress`. Create a subsetted data frame of the 80th congress only and call this subset `congress80`. "
   ]
  },
  {
   "cell_type": "code",
   "execution_count": 38,
   "metadata": {},
   "outputs": [
    {
     "data": {
      "text/html": [
       "<div>\n",
       "<style scoped>\n",
       "    .dataframe tbody tr th:only-of-type {\n",
       "        vertical-align: middle;\n",
       "    }\n",
       "\n",
       "    .dataframe tbody tr th {\n",
       "        vertical-align: top;\n",
       "    }\n",
       "\n",
       "    .dataframe thead th {\n",
       "        text-align: right;\n",
       "    }\n",
       "</style>\n",
       "<table border=\"1\" class=\"dataframe\">\n",
       "  <thead>\n",
       "    <tr style=\"text-align: right;\">\n",
       "      <th></th>\n",
       "      <th>congress</th>\n",
       "      <th>chamber</th>\n",
       "      <th>bioguide</th>\n",
       "      <th>firstname</th>\n",
       "      <th>middlename</th>\n",
       "      <th>lastname</th>\n",
       "      <th>suffix</th>\n",
       "      <th>birthday</th>\n",
       "      <th>state</th>\n",
       "      <th>party</th>\n",
       "      <th>incumbent</th>\n",
       "      <th>termstart</th>\n",
       "      <th>age</th>\n",
       "    </tr>\n",
       "  </thead>\n",
       "  <tbody>\n",
       "    <tr>\n",
       "      <th>0</th>\n",
       "      <td>80</td>\n",
       "      <td>house</td>\n",
       "      <td>M000112</td>\n",
       "      <td>Joseph</td>\n",
       "      <td>Jefferson</td>\n",
       "      <td>Mansfield</td>\n",
       "      <td>NaN</td>\n",
       "      <td>1861-02-09</td>\n",
       "      <td>TX</td>\n",
       "      <td>D</td>\n",
       "      <td>Yes</td>\n",
       "      <td>1/3/47</td>\n",
       "      <td>85.9</td>\n",
       "    </tr>\n",
       "    <tr>\n",
       "      <th>1</th>\n",
       "      <td>80</td>\n",
       "      <td>house</td>\n",
       "      <td>D000448</td>\n",
       "      <td>Robert</td>\n",
       "      <td>Lee</td>\n",
       "      <td>Doughton</td>\n",
       "      <td>NaN</td>\n",
       "      <td>1863-11-07</td>\n",
       "      <td>NC</td>\n",
       "      <td>D</td>\n",
       "      <td>Yes</td>\n",
       "      <td>1/3/47</td>\n",
       "      <td>83.2</td>\n",
       "    </tr>\n",
       "    <tr>\n",
       "      <th>2</th>\n",
       "      <td>80</td>\n",
       "      <td>house</td>\n",
       "      <td>S000001</td>\n",
       "      <td>Adolph</td>\n",
       "      <td>Joachim</td>\n",
       "      <td>Sabath</td>\n",
       "      <td>NaN</td>\n",
       "      <td>1866-04-04</td>\n",
       "      <td>IL</td>\n",
       "      <td>D</td>\n",
       "      <td>Yes</td>\n",
       "      <td>1/3/47</td>\n",
       "      <td>80.7</td>\n",
       "    </tr>\n",
       "    <tr>\n",
       "      <th>3</th>\n",
       "      <td>80</td>\n",
       "      <td>house</td>\n",
       "      <td>E000023</td>\n",
       "      <td>Charles</td>\n",
       "      <td>Aubrey</td>\n",
       "      <td>Eaton</td>\n",
       "      <td>NaN</td>\n",
       "      <td>1868-03-29</td>\n",
       "      <td>NJ</td>\n",
       "      <td>R</td>\n",
       "      <td>Yes</td>\n",
       "      <td>1/3/47</td>\n",
       "      <td>78.8</td>\n",
       "    </tr>\n",
       "    <tr>\n",
       "      <th>4</th>\n",
       "      <td>80</td>\n",
       "      <td>house</td>\n",
       "      <td>L000296</td>\n",
       "      <td>William</td>\n",
       "      <td>NaN</td>\n",
       "      <td>Lewis</td>\n",
       "      <td>NaN</td>\n",
       "      <td>1868-09-22</td>\n",
       "      <td>KY</td>\n",
       "      <td>R</td>\n",
       "      <td>No</td>\n",
       "      <td>1/3/47</td>\n",
       "      <td>78.3</td>\n",
       "    </tr>\n",
       "    <tr>\n",
       "      <th>5</th>\n",
       "      <td>80</td>\n",
       "      <td>house</td>\n",
       "      <td>G000017</td>\n",
       "      <td>James</td>\n",
       "      <td>A.</td>\n",
       "      <td>Gallagher</td>\n",
       "      <td>NaN</td>\n",
       "      <td>1869-01-16</td>\n",
       "      <td>PA</td>\n",
       "      <td>R</td>\n",
       "      <td>No</td>\n",
       "      <td>1/3/47</td>\n",
       "      <td>78.0</td>\n",
       "    </tr>\n",
       "    <tr>\n",
       "      <th>6</th>\n",
       "      <td>80</td>\n",
       "      <td>house</td>\n",
       "      <td>W000265</td>\n",
       "      <td>Richard</td>\n",
       "      <td>Joseph</td>\n",
       "      <td>Welch</td>\n",
       "      <td>NaN</td>\n",
       "      <td>1869-02-13</td>\n",
       "      <td>CA</td>\n",
       "      <td>R</td>\n",
       "      <td>Yes</td>\n",
       "      <td>1/3/47</td>\n",
       "      <td>77.9</td>\n",
       "    </tr>\n",
       "    <tr>\n",
       "      <th>7</th>\n",
       "      <td>80</td>\n",
       "      <td>house</td>\n",
       "      <td>B000565</td>\n",
       "      <td>Sol</td>\n",
       "      <td>NaN</td>\n",
       "      <td>Bloom</td>\n",
       "      <td>NaN</td>\n",
       "      <td>1870-03-09</td>\n",
       "      <td>NY</td>\n",
       "      <td>D</td>\n",
       "      <td>Yes</td>\n",
       "      <td>1/3/47</td>\n",
       "      <td>76.8</td>\n",
       "    </tr>\n",
       "    <tr>\n",
       "      <th>8</th>\n",
       "      <td>80</td>\n",
       "      <td>house</td>\n",
       "      <td>H000943</td>\n",
       "      <td>Merlin</td>\n",
       "      <td>NaN</td>\n",
       "      <td>Hull</td>\n",
       "      <td>NaN</td>\n",
       "      <td>1870-12-18</td>\n",
       "      <td>WI</td>\n",
       "      <td>R</td>\n",
       "      <td>Yes</td>\n",
       "      <td>1/3/47</td>\n",
       "      <td>76.0</td>\n",
       "    </tr>\n",
       "    <tr>\n",
       "      <th>9</th>\n",
       "      <td>80</td>\n",
       "      <td>house</td>\n",
       "      <td>G000169</td>\n",
       "      <td>Charles</td>\n",
       "      <td>Laceille</td>\n",
       "      <td>Gifford</td>\n",
       "      <td>NaN</td>\n",
       "      <td>1871-03-15</td>\n",
       "      <td>MA</td>\n",
       "      <td>R</td>\n",
       "      <td>Yes</td>\n",
       "      <td>1/3/47</td>\n",
       "      <td>75.8</td>\n",
       "    </tr>\n",
       "  </tbody>\n",
       "</table>\n",
       "</div>"
      ],
      "text/plain": [
       "   congress chamber bioguide firstname middlename   lastname suffix  \\\n",
       "0        80   house  M000112    Joseph  Jefferson  Mansfield    NaN   \n",
       "1        80   house  D000448    Robert        Lee   Doughton    NaN   \n",
       "2        80   house  S000001    Adolph    Joachim     Sabath    NaN   \n",
       "3        80   house  E000023   Charles     Aubrey      Eaton    NaN   \n",
       "4        80   house  L000296   William        NaN      Lewis    NaN   \n",
       "5        80   house  G000017     James         A.  Gallagher    NaN   \n",
       "6        80   house  W000265   Richard     Joseph      Welch    NaN   \n",
       "7        80   house  B000565       Sol        NaN      Bloom    NaN   \n",
       "8        80   house  H000943    Merlin        NaN       Hull    NaN   \n",
       "9        80   house  G000169   Charles   Laceille    Gifford    NaN   \n",
       "\n",
       "     birthday state party incumbent termstart   age  \n",
       "0  1861-02-09    TX     D       Yes    1/3/47  85.9  \n",
       "1  1863-11-07    NC     D       Yes    1/3/47  83.2  \n",
       "2  1866-04-04    IL     D       Yes    1/3/47  80.7  \n",
       "3  1868-03-29    NJ     R       Yes    1/3/47  78.8  \n",
       "4  1868-09-22    KY     R        No    1/3/47  78.3  \n",
       "5  1869-01-16    PA     R        No    1/3/47  78.0  \n",
       "6  1869-02-13    CA     R       Yes    1/3/47  77.9  \n",
       "7  1870-03-09    NY     D       Yes    1/3/47  76.8  \n",
       "8  1870-12-18    WI     R       Yes    1/3/47  76.0  \n",
       "9  1871-03-15    MA     R       Yes    1/3/47  75.8  "
      ]
     },
     "execution_count": 38,
     "metadata": {},
     "output_type": "execute_result"
    }
   ],
   "source": [
    "# Execute your code for question 5 here\n",
    "# -------------------------------------\n",
    "congress80 = df[df['congress'] == 80]\n",
    "#congress80[0:10]"
   ]
  },
  {
   "cell_type": "markdown",
   "metadata": {},
   "source": [
    "**Question 6**: Now, from this `congress80` subset, use a method that will count the rows who are House members and then again for Senate Members."
   ]
  },
  {
   "cell_type": "code",
   "execution_count": 47,
   "metadata": {},
   "outputs": [
    {
     "name": "stdout",
     "output_type": "stream",
     "text": [
      "Number in house: 453\n",
      "Number in senate: 102\n"
     ]
    }
   ],
   "source": [
    "# Execute your code for question 6 here\n",
    "# -------------------------------------\n",
    "print('Number in house:', len(congress80[congress80['chamber'] == 'house']))\n",
    "print('Number in senate:', len(congress80[congress80['chamber'] == 'senate']))"
   ]
  },
  {
   "cell_type": "markdown",
   "metadata": {},
   "source": [
    "# Save your notebook, then `File > Close and Halt`"
   ]
  }
 ],
 "metadata": {
  "kernelspec": {
   "display_name": "Python 3",
   "language": "python",
   "name": "python3"
  },
  "language_info": {
   "codemirror_mode": {
    "name": "ipython",
    "version": 3
   },
   "file_extension": ".py",
   "mimetype": "text/x-python",
   "name": "python",
   "nbconvert_exporter": "python",
   "pygments_lexer": "ipython3",
   "version": "3.7.3"
  }
 },
 "nbformat": 4,
 "nbformat_minor": 2
}
