{
 "cells": [
  {
   "cell_type": "markdown",
   "metadata": {},
   "source": [
    "# Descriptive Statistics with `Python` Exercises\n",
    "\n",
    "This is the second exercise for this course. \n",
    "Like the prior exercise, all of the concepts in the exercise will be familiar in the sense that it will mirror the concepts that we learned throughout the labs and practices. \n",
    "\n",
    "There could be multiple ways to solve a single answer, some more elegant than others. \n",
    "Revisit older notebooks for guidance, ask questions along the way, \n",
    "and **we encourage you to search the internet**. \n",
    "Chances are that someone has had the same/similar question / error to the one you have.\n",
    "\n",
    "For this exercise, we will be working with the `NationalNames3.csv`. Again, this is in the `/dsa/data/all_datasets/baby-names/` directory."
   ]
  },
  {
   "cell_type": "markdown",
   "metadata": {},
   "source": [
    "**Exercise 1**: *Read in the `NationalNames3.csv` file and name it `df`.*"
   ]
  },
  {
   "cell_type": "code",
   "execution_count": 25,
   "metadata": {},
   "outputs": [
    {
     "data": {
      "text/html": [
       "<div>\n",
       "<style scoped>\n",
       "    .dataframe tbody tr th:only-of-type {\n",
       "        vertical-align: middle;\n",
       "    }\n",
       "\n",
       "    .dataframe tbody tr th {\n",
       "        vertical-align: top;\n",
       "    }\n",
       "\n",
       "    .dataframe thead th {\n",
       "        text-align: right;\n",
       "    }\n",
       "</style>\n",
       "<table border=\"1\" class=\"dataframe\">\n",
       "  <thead>\n",
       "    <tr style=\"text-align: right;\">\n",
       "      <th></th>\n",
       "      <th>Id</th>\n",
       "      <th>Name</th>\n",
       "      <th>Year</th>\n",
       "      <th>Gender</th>\n",
       "      <th>Count</th>\n",
       "    </tr>\n",
       "  </thead>\n",
       "  <tbody>\n",
       "    <tr>\n",
       "      <th>0</th>\n",
       "      <td>1</td>\n",
       "      <td>Mary</td>\n",
       "      <td>1880</td>\n",
       "      <td>F</td>\n",
       "      <td>7065</td>\n",
       "    </tr>\n",
       "    <tr>\n",
       "      <th>1</th>\n",
       "      <td>5</td>\n",
       "      <td>Minnie</td>\n",
       "      <td>1880</td>\n",
       "      <td>F</td>\n",
       "      <td>1746</td>\n",
       "    </tr>\n",
       "    <tr>\n",
       "      <th>2</th>\n",
       "      <td>7</td>\n",
       "      <td>Ida</td>\n",
       "      <td>1880</td>\n",
       "      <td>F</td>\n",
       "      <td>1472</td>\n",
       "    </tr>\n",
       "    <tr>\n",
       "      <th>3</th>\n",
       "      <td>9</td>\n",
       "      <td>Bertha</td>\n",
       "      <td>1880</td>\n",
       "      <td>F</td>\n",
       "      <td>1320</td>\n",
       "    </tr>\n",
       "    <tr>\n",
       "      <th>4</th>\n",
       "      <td>15</td>\n",
       "      <td>Cora</td>\n",
       "      <td>1880</td>\n",
       "      <td>F</td>\n",
       "      <td>1045</td>\n",
       "    </tr>\n",
       "  </tbody>\n",
       "</table>\n",
       "</div>"
      ],
      "text/plain": [
       "   Id    Name  Year Gender  Count\n",
       "0   1    Mary  1880      F   7065\n",
       "1   5  Minnie  1880      F   1746\n",
       "2   7     Ida  1880      F   1472\n",
       "3   9  Bertha  1880      F   1320\n",
       "4  15    Cora  1880      F   1045"
      ]
     },
     "execution_count": 25,
     "metadata": {},
     "output_type": "execute_result"
    }
   ],
   "source": [
    "# Exercise 1 code goes here\n",
    "# -------------------------\n",
    "import pandas as pd\n",
    "import numpy as np\n",
    "\n",
    "with open('/dsa/data/all_datasets/baby-names/NationalNames3.csv') as file:\n",
    "    df = pd.read_csv(file)\n",
    "\n",
    "#df.columns\n",
    "df.head()"
   ]
  },
  {
   "cell_type": "markdown",
   "metadata": {},
   "source": [
    "We will start out simple.\n",
    "\n",
    "**Exercise 2**: Find the mean of the `Count` column and how spread out is the data?"
   ]
  },
  {
   "cell_type": "code",
   "execution_count": 13,
   "metadata": {},
   "outputs": [
    {
     "name": "stdout",
     "output_type": "stream",
     "text": [
      "Mean of Count:  181.71348937247797 &  standard deviation of Count:  1535.8090963652944\n"
     ]
    }
   ],
   "source": [
    "# Exercise 2 code goes here\n",
    "# -------------------------\n",
    "mean = np.mean(df.Count)\n",
    "stdDev = np.std(df.Count)\n",
    "print('Mean of Count: ', mean, '& ', 'standard deviation of Count: ', stdDev)"
   ]
  },
  {
   "cell_type": "markdown",
   "metadata": {},
   "source": [
    "**Exercise 3:** Find the minimum, first quartile, median, third quartile and max count of the name \"Sam\" in this dataset."
   ]
  },
  {
   "cell_type": "code",
   "execution_count": 18,
   "metadata": {},
   "outputs": [
    {
     "name": "stdout",
     "output_type": "stream",
     "text": [
      "Minimum:  5  first quartile:  16.25  median:  482.0  third quartile:  1071.0  and max:  2505  of Sams in dataset.\n"
     ]
    }
   ],
   "source": [
    "# Exercise 3 code goes here\n",
    "# -------------------------\n",
    "sams =  df[(df['Name'] == 'Sam')]\n",
    "\n",
    "min = np.min(sams.Count)\n",
    "q3, q1 = np.percentile(sams.Count, [75 ,25])\n",
    "#iqr =  q3 - q1\n",
    "median = np.median(sams.Count)\n",
    "max = np.max(sams.Count)\n",
    "\n",
    "print('Minimum: ', min, ' first quartile: ', q1, ' median: ', median, ' third quartile: ', q3, ' and max: ', max, ' of Sams in dataset.')"
   ]
  },
  {
   "cell_type": "markdown",
   "metadata": {},
   "source": [
    "**Challenge Exercise 1**: On average (use the median), are there more female names per year or male names? Remember, you will have to add the names per year per gender."
   ]
  },
  {
   "cell_type": "code",
   "execution_count": null,
   "metadata": {
    "collapsed": true
   },
   "outputs": [],
   "source": [
    "# Challenge Exercise 1 code goes here\n",
    "# -----------------------------------\n",
    "\n",
    "\n"
   ]
  },
  {
   "cell_type": "markdown",
   "metadata": {},
   "source": [
    "**Exercise 4**: For the name \"Margaret\" over the years, 65% is equal or below what Count? \n"
   ]
  },
  {
   "cell_type": "code",
   "execution_count": 21,
   "metadata": {},
   "outputs": [
    {
     "data": {
      "text/plain": [
       "3256.4000000000005"
      ]
     },
     "execution_count": 21,
     "metadata": {},
     "output_type": "execute_result"
    }
   ],
   "source": [
    "# Exercise 4 code goes here\n",
    "# -------------------------\n",
    "margarets =  df[(df['Name'] == 'Margaret')]\n",
    "np.percentile(margarets.Count, 65)\n"
   ]
  },
  {
   "cell_type": "markdown",
   "metadata": {},
   "source": [
    "**Exercise 5**: Find the covariance and correlation between the Year and Count of the name \"Addison\"."
   ]
  },
  {
   "cell_type": "code",
   "execution_count": 24,
   "metadata": {},
   "outputs": [
    {
     "name": "stdout",
     "output_type": "stream",
     "text": [
      "Correlation between birth year and name Addison:  0.4259311439218686 \n",
      "Covariance between birth year and name Addison:  48944.459016393455\n"
     ]
    }
   ],
   "source": [
    "# Exercise 5 code goes here\n",
    "# -------------------------\n",
    "addisons = df[(df['Name'] == 'Addison')]\n",
    "\n",
    "corr = addisons.Year.corr(addisons.Count)\n",
    "covar = addisons.Year.cov(addisons.Count)\n",
    "\n",
    "print('Correlation between birth year and name Addison: ', corr, '\\nCovariance between birth year and name Addison: ', covar)"
   ]
  },
  {
   "cell_type": "markdown",
   "metadata": {},
   "source": [
    "**Challenge Exercise 2**: Does accounting for Gender affect the strength of the linear relationship with regards to Exercise 5? Does one gender have a stronger linear relationship than the other? \n"
   ]
  },
  {
   "cell_type": "code",
   "execution_count": 34,
   "metadata": {},
   "outputs": [
    {
     "name": "stdout",
     "output_type": "stream",
     "text": [
      "Females named Addison ( 35037.6217948718 ) have a stronger positive linear relationship than males ( 2939.9919217687066 ) \n",
      "and are more strongly correlated to birthyear than males ( 0.8318457439323934  and  0.6712916451351595 respectively). \n",
      "This matches the overall pattern of female names generally being more strongly correlated to birth year than male names.\n"
     ]
    }
   ],
   "source": [
    "# Challenge Exercise 2 code goes here\n",
    "# -----------------------------------\n",
    "femaleAddison =  df[(df['Gender'] == 'F') & (df['Name'] == 'Addison')]\n",
    "maleAddison =  df[(df['Gender'] == 'M') & (df['Name'] == 'Addison')]\n",
    "\n",
    "femaleCorr = femaleAddison.Year.corr(femaleAddison.Count)\n",
    "femaleCovar = femaleAddison.Year.cov(femaleAddison.Count)\n",
    "\n",
    "maleCorr = maleAddison.Year.corr(maleAddison.Count)\n",
    "maleCovar = maleAddison.Year.cov(maleAddison.Count)\n",
    "print('Females named Addison (', femaleCovar, ') have a stronger positive linear relationship than males (', maleCovar, ')', '\\nand are more strongly correlated to birthyear than males (', femaleCorr, ' and ', maleCorr, 'respectively).', '\\nThis matches the overall pattern of female names generally being more strongly correlated to birth year than male names.')"
   ]
  },
  {
   "cell_type": "markdown",
   "metadata": {},
   "source": [
    "# Save your notebook, then `File > Close and Halt`"
   ]
  }
 ],
 "metadata": {
  "kernelspec": {
   "display_name": "Python 3",
   "language": "python",
   "name": "python3"
  },
  "language_info": {
   "codemirror_mode": {
    "name": "ipython",
    "version": 3
   },
   "file_extension": ".py",
   "mimetype": "text/x-python",
   "name": "python",
   "nbconvert_exporter": "python",
   "pygments_lexer": "ipython3",
   "version": "3.7.3"
  }
 },
 "nbformat": 4,
 "nbformat_minor": 2
}
