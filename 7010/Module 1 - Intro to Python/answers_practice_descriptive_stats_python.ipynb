{
 "cells": [
  {
   "cell_type": "markdown",
   "metadata": {},
   "source": [
    "# Practicing Descriptive Statistics with `NumPy` and `pandas`\n",
    "\n",
    "Much like the theme of the `R` practice notebook, data exploration isn't complete with out manipulating the data. Splitting the data across categories and discovering the underlying features of the categories could lead to better, more powerful insights. \n",
    "\n",
    "In this practice, we will be working with the data manipulation capabilities of `pandas` and the statistical functionality that `Numpy` provides to further investigate the *Game of Thrones* data."
   ]
  },
  {
   "cell_type": "code",
   "execution_count": null,
   "metadata": {},
   "outputs": [],
   "source": [
    "import pandas as pd\n",
    "import numpy as np\n",
    "\n",
    "with open('/dsa/data/all_datasets/game-of-thrones/GoT_age_at_death.csv') as file:\n",
    "    df = pd.read_csv(file)\n",
    "    df.columns  = ['character', 'age', 'dead', 'gender', 'affiliation'] # rename the columns\n",
    "    \n",
    "    # turn age, gender, and affiliation into categorical data\n",
    "    df['dead'] = df['dead'].astype('category') \n",
    "    df['gender'] = df['gender'].astype('category')\n",
    "    df['affiliation'] = df['affiliation'].astype('category')"
   ]
  },
  {
   "cell_type": "code",
   "execution_count": null,
   "metadata": {},
   "outputs": [],
   "source": [
    "df.head(7)"
   ]
  },
  {
   "cell_type": "markdown",
   "metadata": {},
   "source": [
    "Suppose we are now interested in knowning the mean age of the characters by gender. This could be done by subsetting the dataframe by gender and then calculating the mean for each. However there is a function within `pandas` that can do this for us `groupby`. `group_by` is great for beginning to explore data. `groupby` lets us split, apply a function, and combine the results. See [here](https://pandas.pydata.org/pandas-docs/stable/reference/api/pandas.DataFrame.groupby.html) for more information\n",
    "\n",
    "So if we are interested in the mean age by gender of the characters we would use the code below that produces a data frame by `gender` (so 0 and 1) and produce the `mean` age for both."
   ]
  },
  {
   "cell_type": "code",
   "execution_count": null,
   "metadata": {},
   "outputs": [],
   "source": [
    "df.groupby(['gender'])['age'].mean()"
   ]
  },
  {
   "cell_type": "markdown",
   "metadata": {},
   "source": [
    "We could go even more fine-grained than this. \n",
    "\n",
    "**Activity 1**: *Find the mean age per `gender` and per `affiliation`.*"
   ]
  },
  {
   "cell_type": "code",
   "execution_count": null,
   "metadata": {},
   "outputs": [],
   "source": [
    "# Activity 1 code goes here\n",
    "# -------------------------\n",
    "\n",
    "df.groupby(['gender','affiliation'])['age'].mean()\n",
    "\n"
   ]
  },
  {
   "cell_type": "markdown",
   "metadata": {},
   "source": [
    "In the [Intro to Data Science with Python](../labs/intro_data_science_python.ipynb) lab, we learned how to subset data. We now want to look at only characters that are still alive. \n",
    "\n",
    "**Activity 2**: *Create a subset from the data frame of only those who are living. Call this subset `alive_chars`.*"
   ]
  },
  {
   "cell_type": "code",
   "execution_count": null,
   "metadata": {},
   "outputs": [],
   "source": [
    "# Activity 2 code goes here\n",
    "# -------------------------\n",
    "\n",
    "alive_chars = df[df['dead']==0]\n",
    "\n"
   ]
  },
  {
   "cell_type": "markdown",
   "metadata": {},
   "source": [
    "Remember in the lab, we used `NumPy` to find the mean age of the entire dataset, the syntax for which is below. "
   ]
  },
  {
   "cell_type": "code",
   "execution_count": null,
   "metadata": {},
   "outputs": [],
   "source": [
    "np.mean(df.age)"
   ]
  },
  {
   "cell_type": "markdown",
   "metadata": {},
   "source": [
    "**Activity 3**: *Find the mean age of those who are alive.*"
   ]
  },
  {
   "cell_type": "code",
   "execution_count": null,
   "metadata": {},
   "outputs": [],
   "source": [
    "# Activity 3 code goes here\n",
    "# -------------------------\n",
    "\n",
    "\n",
    "np.mean(alive_chars.age)"
   ]
  },
  {
   "cell_type": "markdown",
   "metadata": {},
   "source": [
    "Below is one of the ways that we found the standard deviation."
   ]
  },
  {
   "cell_type": "code",
   "execution_count": null,
   "metadata": {},
   "outputs": [],
   "source": [
    "np.std(df.age)"
   ]
  },
  {
   "cell_type": "markdown",
   "metadata": {},
   "source": [
    "But remember, without any extra arguments passed in method, we get the population standard deviation. What we want is the sample standard deviation.\n",
    "\n",
    "**Activity 4**: *Find the sample standard deviation for those character ages for those who are still alive*"
   ]
  },
  {
   "cell_type": "code",
   "execution_count": null,
   "metadata": {},
   "outputs": [],
   "source": [
    "# Activity 4 code goes here\n",
    "# -------------------------\n",
    "\n",
    "np.std(alive_chars.age, ddof = 1)\n"
   ]
  },
  {
   "cell_type": "markdown",
   "metadata": {},
   "source": [
    "In the practice we introduced the mean, median, and quartiles. To take this one step farther we want to look at the symmetry of a distribution. When the mean is greater than the median, it means that the data is skewed to the right, and when the median is greater than the mean, the data is skewed to the left. When the mean and median are the same, it means that the data are symmetrical. In other words, in a right skewed distribution, most of the data points are below the mean, but there are some high value points pulling the mean higher; the opposite is true for a left skew.\n",
    "\n",
    "<img src=\"../images/distr_sym.gif\" style=\"width: 750px;\"/>\n",
    "\n",
    "Below is an example of how we found the median before."
   ]
  },
  {
   "cell_type": "code",
   "execution_count": null,
   "metadata": {},
   "outputs": [],
   "source": [
    "np.median(df.age)"
   ]
  },
  {
   "cell_type": "markdown",
   "metadata": {},
   "source": [
    "**Activity 5**: *Is the distribution of the age of those who are alive skewed to the right, the left, or symmetrical and what does this tell us?*"
   ]
  },
  {
   "cell_type": "code",
   "execution_count": null,
   "metadata": {},
   "outputs": [],
   "source": [
    "# Activity 5 code goes here\n",
    "# -------------------------\n",
    "\n",
    "\n",
    "median = np.median(alive_chars.age)\n",
    "xbar = np.mean(alive_chars.age)\n",
    "\n",
    "\n",
    "print(median)\n",
    "print(xbar)\n",
    "\n",
    "#right skewed, the more people alive are younger than the mean."
   ]
  },
  {
   "cell_type": "markdown",
   "metadata": {},
   "source": [
    "`NumPy` also gives us the functionality to see what value a certain percentage of the rows fall under by calling the `percentile` method. We did this to find the 65th percentile of ages of the entire data fame by doing the following..."
   ]
  },
  {
   "cell_type": "code",
   "execution_count": null,
   "metadata": {},
   "outputs": [],
   "source": [
    "np.percentile(df.age, 65)"
   ]
  },
  {
   "cell_type": "markdown",
   "metadata": {},
   "source": [
    "Now, remember we discussed the Quartile Range in the lab notebook.\n",
    "\n",
    "**Activity 6**: *Find the the Quartile Range of the `alive_chars` age variable.*"
   ]
  },
  {
   "cell_type": "code",
   "execution_count": null,
   "metadata": {},
   "outputs": [],
   "source": [
    "# Activity 6 code goes here\n",
    "# -------------------------\n",
    "\n",
    "alive_chars.age.describe()\n",
    "#q1 = np.percentile(alive_chars.age, 25)\n",
    "#q3 = np.percentile(alive_chars.age,75)\n",
    "\n",
    "#print(q3-q1)"
   ]
  },
  {
   "cell_type": "markdown",
   "metadata": {},
   "source": [
    "## Bivariate Analysis\n",
    "\n",
    "Now we are going to switch back over to the *Stature Hand and Foot* data frame, and practice some bivariate analysis on some variables."
   ]
  },
  {
   "cell_type": "code",
   "execution_count": null,
   "metadata": {},
   "outputs": [],
   "source": [
    "with open('/dsa/data/all_datasets/stature-hand-foot/stature-hand-foot.csv') as file2:\n",
    "    df2 = pd.read_csv(file2)\n",
    "    df2['gender'] = df2['gender'].astype('category')\n",
    "    df2.columns = ['gender', 'height', 'hand_length', 'foot_length']"
   ]
  },
  {
   "cell_type": "markdown",
   "metadata": {},
   "source": [
    "First, we should actually split the data based on male and female. \n",
    "\n",
    "**Activity 7**: *Create two subsets of the data, one for females and the other for males. Name the two subsets `female` and `male` respectively.*"
   ]
  },
  {
   "cell_type": "code",
   "execution_count": null,
   "metadata": {},
   "outputs": [],
   "source": [
    "# Activity 7 code goes here\n",
    "# -------------------------\n",
    "\n",
    "female = df2[df2['gender']==2] \n",
    "male = df2[df2['gender']==1]\n"
   ]
  },
  {
   "cell_type": "markdown",
   "metadata": {},
   "source": [
    "You will recall that we conducted covariance and correlation calculations on two varibles. However we can also create a correlation and covariance matrix. This is a good way to quickly spot some linear relationships between variables. Below is an example of how to create a correlation matrix on the entire data frame."
   ]
  },
  {
   "cell_type": "code",
   "execution_count": null,
   "metadata": {},
   "outputs": [],
   "source": [
    "df2.corr()"
   ]
  },
  {
   "cell_type": "markdown",
   "metadata": {},
   "source": [
    "Simple enough. And in `pandas` it knows to ignore the non-quantitative columns. \n",
    "\n",
    "**Activity 8**: *Create a covariance and correlation matrix for both the males and females of this dataset.*"
   ]
  },
  {
   "cell_type": "code",
   "execution_count": null,
   "metadata": {},
   "outputs": [],
   "source": [
    "# Activity 8 code goes here\n",
    "# -------------------------\n",
    "print(\"FEMALE CORR \\n {} \\n\".format(female.corr()))\n",
    "print(\"MALE CORR \\n {} \\n\".format(male.corr()))\n",
    "print(\"FEMALE COV \\n {} \\n\".format(female.cov()))\n",
    "print(\"MALE COV \\n {} \\n\".format(male.cov()))"
   ]
  },
  {
   "cell_type": "markdown",
   "metadata": {},
   "source": [
    "# Save your notebook, then `File > Close and Halt`"
   ]
  }
 ],
 "metadata": {
  "anaconda-cloud": {},
  "kernelspec": {
   "display_name": "Python 3",
   "language": "python",
   "name": "python3"
  },
  "language_info": {
   "codemirror_mode": {
    "name": "ipython",
    "version": 3
   },
   "file_extension": ".py",
   "mimetype": "text/x-python",
   "name": "python",
   "nbconvert_exporter": "python",
   "pygments_lexer": "ipython3",
   "version": "3.7.3"
  }
 },
 "nbformat": 4,
 "nbformat_minor": 2
}
