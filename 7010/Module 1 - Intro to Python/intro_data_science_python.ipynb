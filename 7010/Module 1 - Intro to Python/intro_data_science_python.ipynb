{
 "cells": [
  {
   "cell_type": "markdown",
   "metadata": {},
   "source": [
    "# Introduction to Data Science with `Python`\n",
    "\n",
    "<img src=\"../images/python_logo.png\" alt=\"python_logo\" style=\"width: 100px;\"/>"
   ]
  },
  {
   "cell_type": "markdown",
   "metadata": {},
   "source": [
    "In this example, we are going cover the very basics of data science in `Python`. Throughout this course, you will be introduced to many packages used by data scientists that make it easier to manipulate, visualize and model data. Today we will be working with one of the most popular Python data science packages, **`pandas`**. \n",
    "\n",
    "Before we begin doing some of the more complicated aspects of data science, it is important to get our feet wet with manipulating data. Now, it is impossible to cover all aspects of data manipulation because the scenarios are endless. It is the job of the data scientist to figure out the most creative and effective means by which to manipulate data. The purpose of this module is to get you comfortable with the tools and provide you with the grammar of data manipulation so that you can begin to string together your own data pipeline to meet your data science needs.\n",
    "\n",
    "\n",
    "**Python Reference Links:**\n",
    "\n",
    "  * [`Python` Standard Library](https://docs.python.org/3/library/)\n",
    "  * [`Python` Language Reference](https://docs.python.org/3/reference/)  \n",
    "  * [`pandas` Documentation](http://pandas.pydata.org/pandas-docs/stable/)\n",
    "  \n",
    "-----\n",
    " ## What we'll cover...\n",
    " \n",
    "- [Reading in Data](#reading)\n",
    "- [Soft Introduction to `pandas`](#pandas)\n",
    "- [Data Filtering](#filter)\n",
    "- [Data Sorting](#sort)\n",
    "- [To Come...](#future)\n",
    "\n",
    "----\n",
    "\n",
    "\n",
    "We will begin by reading in a dataset of baby name popularity in the U.S.\n",
    "\n",
    "We will reference this dataset by its column indexes so here is a table of them below.\n",
    "\n",
    "Index | Description\n",
    "------|------------\n",
    "`0`| Id\n",
    "`1`| Name\n",
    "`2`| Year\n",
    "`3`| Gender\n",
    "`4`| Count\n",
    "\n"
   ]
  },
  {
   "cell_type": "markdown",
   "metadata": {},
   "source": [
    "<a id='reading'></a>\n",
    "\n",
    "## Reading In the Data\n",
    "\n"
   ]
  },
  {
   "cell_type": "code",
   "execution_count": 4,
   "metadata": {},
   "outputs": [
    {
     "name": "stdout",
     "output_type": "stream",
     "text": [
      "'Id,Name,Year,Gender,Count\\n2,Anna,1880,F,2604\\n3,Emma,1880,F,2003\\n6,Margaret,1880,F,1578\\n10,Sarah,1880,'\n"
     ]
    }
   ],
   "source": [
    "file = open('/dsa/data/all_datasets/baby-names/NationalNames1.csv', 'r')\n",
    "data = file.read()\n",
    "print(repr(data[0:101]))"
   ]
  },
  {
   "cell_type": "markdown",
   "metadata": {},
   "source": [
    "\n",
    "Above you were introduced to a function that you may be unfamiliar with, `repr` (short for \"*representation*\"). This returns the output in string format without escaping some of the special characters that we need to be aware of. Take for example the `\\n`, known as a newline character, which deliniates between rows in the original csv file. \n",
    "\n",
    "Having all of your data contained in a single string is less than desirable, particularly if you want do anything meaningful with it.  Let's change this so that instead of seeing a single string of data like you did above we see something more familiar to us."
   ]
  },
  {
   "cell_type": "code",
   "execution_count": 3,
   "metadata": {},
   "outputs": [
    {
     "name": "stdout",
     "output_type": "stream",
     "text": [
      "[['Id', 'Name', 'Year', 'Gender', 'Count'], ['2', 'Anna', '1880', 'F', '2604'], ['3', 'Emma', '1880', 'F', '2003'], ['6', 'Margaret', '1880', 'F', '1578'], ['10', 'Sarah', '1880', 'F', '1288'], ['11', 'Annie', '1880', 'F', '1258'], ['14', 'Florence', '1880', 'F', '1063'], ['26', 'Julia', '1880', 'F', '783'], ['28', 'Edith', '1880', 'F', '768'], ['30', 'Rose', '1880', 'F', '700']]\n"
     ]
    }
   ],
   "source": [
    "with open('/dsa/data/all_datasets/baby-names/NationalNames1.csv', 'r') as file:\n",
    "    data = file.read()\n",
    "\n",
    "    data_lists = data.split(\"\\n\")\n",
    "\n",
    "    list_of_lists = []\n",
    "    for line in data_lists:\n",
    "        row = line.split(',')\n",
    "        list_of_lists.append(row)\n",
    "\n",
    "print(list_of_lists[0:10])"
   ]
  },
  {
   "cell_type": "markdown",
   "metadata": {},
   "source": [
    "So we have, yet again, run into something you may think looks strange. The `with open(...)` statement above just executes everything in the indented block. In this case, it opens the file `NationalNames1.csv` and then reads it. Since this is read in a single string, we need to `split()` the string on the `\\n` character that we discussed above. This puts it in a format of different strings, or what may look like rows of data. However, we'll want to access different values within the rows, so in order to do that we need to split the rows by their delimiter. In this case, commas separate values, which is appropriate given the original file extension name `.csv`, which stands for \"comma separat*ed* values\". What this returns is a list of lists, which, believe it or not, makes the data easier to manipulate.\n",
    "\n",
    "But even this seems a bit complicated. If you are like me, simpler is generally preferred. \n",
    "\n",
    "Remember, packages in Python include different functions, which are made to aid you in your programming endeavors. Such a packages exists for reading in a `.csv` file, creatively named **`csv`**."
   ]
  },
  {
   "cell_type": "code",
   "execution_count": 5,
   "metadata": {},
   "outputs": [
    {
     "name": "stdout",
     "output_type": "stream",
     "text": [
      "[['Id', 'Name', 'Year', 'Gender', 'Count'], ['2', 'Anna', '1880', 'F', '2604'], ['3', 'Emma', '1880', 'F', '2003'], ['6', 'Margaret', '1880', 'F', '1578'], ['10', 'Sarah', '1880', 'F', '1288'], ['11', 'Annie', '1880', 'F', '1258'], ['14', 'Florence', '1880', 'F', '1063'], ['26', 'Julia', '1880', 'F', '783'], ['28', 'Edith', '1880', 'F', '768'], ['30', 'Rose', '1880', 'F', '700']]\n"
     ]
    }
   ],
   "source": [
    "import csv\n",
    "\n",
    "data_list = list(csv.reader(open('/dsa/data/all_datasets/baby-names/NationalNames1.csv'),  delimiter=','))\n",
    "print(data_list[0:10])"
   ]
  },
  {
   "cell_type": "markdown",
   "metadata": {},
   "source": [
    "See how easy that was and only one line of code! Okay, the line is jam-packed with functions inside functions, but it's nothing that we haven't seen before. The code block below breaks each part out into a format that we have seen before. \n",
    "\n",
    "```python\n",
    "    with open('/dsa/data/all_datasets/baby-names/NationalNames1.csv', 'r') as file:\n",
    "        data = csv.reader(file)\n",
    "\n",
    "        data_list = list(data)\n",
    "```\n",
    "\n",
    "The output of the function `csv.reader()` is non-subscriptable, meaning that we can't slice our data by indexes. Now, since each line is already a list, we just have to make the data a list of lists, which is as simple as calling the `list()` function on the `data` variable."
   ]
  },
  {
   "cell_type": "markdown",
   "metadata": {},
   "source": [
    "### List of Lists\n",
    "\n",
    "Why are we so obsessed with rendering the data in a list of lists? Why can't we just split the data by rows, like the code block below, and then call it a day? \n",
    "\n",
    "```python\n",
    "with open('/dsa/data/all_datasets/baby-names/NationalNames1.csv', 'r') as file:\n",
    "    data = file.read()\n",
    "\n",
    "    data_lists = data.split(\"\\n\")\n",
    "```\n",
    "\n",
    "This is tempting, but all it gives us are separate rows of data, which are not all that interesting if you can't access their values and compare them to other rows within the dataset. Think of this list of lists as a spreadsheet where you can access different cells individually. Some of you may know this as a matrix. It's not enough to just have access to individual rows; we also need access to columns or subsets of the data in order for analysis.  A list of lists isn't the only way to manipulate data (later on we will be discussing the more friendly and flexible concept of a data frame), but it is a good way to begin understanding how to interact with the data."
   ]
  },
  {
   "cell_type": "markdown",
   "metadata": {},
   "source": [
    "The variable, `data_list` has a hair over 600,000 rows at the moment. Having access to this much data is nice, but let's scale it back a bit for quicker computations.  We're going to take a subset of the original data (only 300 rows) and remove the header, as this is really just metadata used to aid humans in keeping things orderly.\n",
    "\n",
    "From the subset, we are going to transform the column that contains the name `count`s into floats (we could also do integers if we wanted to) as they are currently strings, and you can't run mathematical operations on strings."
   ]
  },
  {
   "cell_type": "code",
   "execution_count": 6,
   "metadata": {},
   "outputs": [
    {
     "data": {
      "text/plain": [
       "[2604.0, 2003.0, 1578.0, 1288.0, 1258.0]"
      ]
     },
     "execution_count": 6,
     "metadata": {},
     "output_type": "execute_result"
    }
   ],
   "source": [
    "subset = data_list[1:301]\n",
    "\n",
    "count_floats = []         \n",
    "\n",
    "for row in subset:\n",
    "    count_flo = float(row[4])\n",
    "    count_floats.append(count_flo)\n",
    "\n",
    "count_floats[0:5]"
   ]
  },
  {
   "cell_type": "markdown",
   "metadata": {},
   "source": [
    "Here is what the code above looks like in plain English, step by step: \n",
    "1. We created a subset of the data_list of only the first 300 rows. Remember `data_list[1:301]` is going to start at index `1` (*which is the second item*) and end at index `301`, not including index `301` itself.\n",
    "2. We created an empty list called, `count_floats` where we are going to store our converted `count` data.\n",
    "3. We performed a `for` loop which iterates through each row in the `subset` and: \n",
    "    1. converts the `4th` index in each row to a float. \n",
    "    2. appends that newly made float to `count_floats` list above.\n",
    "4. Return the first five items of the `count_floats` list."
   ]
  },
  {
   "cell_type": "markdown",
   "metadata": {},
   "source": [
    "What if we wanted to find all of the male names in this `subset` and `print` them out? How might we interact with the rows and columns of the data to perform this action? This would require us to refer to two different indexes within each row: 1) the `3rd`\\* index, which gives us the `sex` associated with the name, and 2) the `1st`\\*\\* index, which contains the `name` itself. We're going to use a conditional statement in order to achieve our goal.\n",
    "\n",
    "\\* *when we say \"3rd\" index, we don't mean third chronologically. Remember, `Python` indexes its lists starting with 0, so when we say 3rd, we are saying that the index value of the list is 3.*\n",
    "\n",
    "\\*\\* *when we say \"1st\" index, we mean it has the index value of 1, not to be confused with the \"0th\" index, or the chronologically first index of the list. See note above.*"
   ]
  },
  {
   "cell_type": "code",
   "execution_count": 7,
   "metadata": {},
   "outputs": [
    {
     "name": "stdout",
     "output_type": "stream",
     "text": [
      "George\n",
      "Henry\n",
      "Edward\n",
      "Harry\n",
      "Arthur\n",
      "Fred\n",
      "Louis\n",
      "Charlie\n"
     ]
    }
   ],
   "source": [
    "for row in subset:\n",
    "    if row[3] == 'M':\n",
    "        print(row[1])"
   ]
  },
  {
   "cell_type": "markdown",
   "metadata": {},
   "source": [
    "Once again, we are going to use a `for` loop to interate through our `subset` of data.  We are then going to use a conditional statement to check **`if`** the `3rd` index in the row is equal to `M`, meaning male. Remember, a condition will return either `True` of `False`. If that statement is `True` then it will `print` out the value of the `1st` index, which is the column containing the name; if it is `False` then it will just skip over it.\n",
    "\n",
    "\n",
    "**On your own:** *Think about how you might add these names to a list type variable.*"
   ]
  },
  {
   "cell_type": "code",
   "execution_count": 8,
   "metadata": {},
   "outputs": [
    {
     "name": "stdout",
     "output_type": "stream",
     "text": [
      "['George', 'Henry', 'Edward', 'Harry', 'Arthur', 'Fred', 'Louis', 'Charlie']\n"
     ]
    }
   ],
   "source": [
    "#On your own: add these names to a list of variables\n",
    "list_of_males = []\n",
    "for row in subset:\n",
    "    if row[3] == 'M':\n",
    "        list_of_males.append(row[1])\n",
    "print(list_of_males)"
   ]
  },
  {
   "cell_type": "markdown",
   "metadata": {},
   "source": [
    "<a id='pandas'></a>\n",
    "\n",
    "## Using `pandas`\n",
    "\n",
    "<img src=\"../images/pandas_logo.png\" alt=\"python_logo\" style=\"width: 600px;\"/>\n",
    "\n",
    "`pandas` is a popular data science package for `Python`. It includes different data structures and tools, which provide for flexible data manipulation and analysis. Throughout this course, we will be using what are known as data frames, a 2-dimensional table that supports different data types. This is one of the key structures that `pandas` provides, and one that will return in `R`.\n",
    "\n",
    "Here is how it works:"
   ]
  },
  {
   "cell_type": "code",
   "execution_count": 1,
   "metadata": {},
   "outputs": [
    {
     "data": {
      "text/html": [
       "<div>\n",
       "<style scoped>\n",
       "    .dataframe tbody tr th:only-of-type {\n",
       "        vertical-align: middle;\n",
       "    }\n",
       "\n",
       "    .dataframe tbody tr th {\n",
       "        vertical-align: top;\n",
       "    }\n",
       "\n",
       "    .dataframe thead th {\n",
       "        text-align: right;\n",
       "    }\n",
       "</style>\n",
       "<table border=\"1\" class=\"dataframe\">\n",
       "  <thead>\n",
       "    <tr style=\"text-align: right;\">\n",
       "      <th></th>\n",
       "      <th>Id</th>\n",
       "      <th>Name</th>\n",
       "      <th>Year</th>\n",
       "      <th>Gender</th>\n",
       "      <th>Count</th>\n",
       "    </tr>\n",
       "  </thead>\n",
       "  <tbody>\n",
       "    <tr>\n",
       "      <th>0</th>\n",
       "      <td>2</td>\n",
       "      <td>Anna</td>\n",
       "      <td>1880</td>\n",
       "      <td>F</td>\n",
       "      <td>2604</td>\n",
       "    </tr>\n",
       "    <tr>\n",
       "      <th>1</th>\n",
       "      <td>3</td>\n",
       "      <td>Emma</td>\n",
       "      <td>1880</td>\n",
       "      <td>F</td>\n",
       "      <td>2003</td>\n",
       "    </tr>\n",
       "    <tr>\n",
       "      <th>2</th>\n",
       "      <td>6</td>\n",
       "      <td>Margaret</td>\n",
       "      <td>1880</td>\n",
       "      <td>F</td>\n",
       "      <td>1578</td>\n",
       "    </tr>\n",
       "    <tr>\n",
       "      <th>3</th>\n",
       "      <td>10</td>\n",
       "      <td>Sarah</td>\n",
       "      <td>1880</td>\n",
       "      <td>F</td>\n",
       "      <td>1288</td>\n",
       "    </tr>\n",
       "    <tr>\n",
       "      <th>4</th>\n",
       "      <td>11</td>\n",
       "      <td>Annie</td>\n",
       "      <td>1880</td>\n",
       "      <td>F</td>\n",
       "      <td>1258</td>\n",
       "    </tr>\n",
       "  </tbody>\n",
       "</table>\n",
       "</div>"
      ],
      "text/plain": [
       "   Id      Name  Year Gender  Count\n",
       "0   2      Anna  1880      F   2604\n",
       "1   3      Emma  1880      F   2003\n",
       "2   6  Margaret  1880      F   1578\n",
       "3  10     Sarah  1880      F   1288\n",
       "4  11     Annie  1880      F   1258"
      ]
     },
     "execution_count": 1,
     "metadata": {},
     "output_type": "execute_result"
    }
   ],
   "source": [
    "import pandas as pd\n",
    "\n",
    "df = pd.read_csv('/dsa/data/all_datasets/baby-names/NationalNames1.csv')\n",
    "\n",
    "df.head()"
   ]
  },
  {
   "cell_type": "markdown",
   "metadata": {},
   "source": [
    "It's that simple! \n",
    "\n",
    "`.head()` is a pandas function that returns the first n rows for the object based on position. It is useful for quickly testing if your object has the right type of data in it. By default it returned 5. \n",
    "\n",
    "However to really start working with the data we will want to get rid of the old 'Id' column in the file. \n",
    "\n",
    "Let's see what this looks like..."
   ]
  },
  {
   "cell_type": "code",
   "execution_count": 2,
   "metadata": {},
   "outputs": [
    {
     "data": {
      "text/html": [
       "<div>\n",
       "<style scoped>\n",
       "    .dataframe tbody tr th:only-of-type {\n",
       "        vertical-align: middle;\n",
       "    }\n",
       "\n",
       "    .dataframe tbody tr th {\n",
       "        vertical-align: top;\n",
       "    }\n",
       "\n",
       "    .dataframe thead th {\n",
       "        text-align: right;\n",
       "    }\n",
       "</style>\n",
       "<table border=\"1\" class=\"dataframe\">\n",
       "  <thead>\n",
       "    <tr style=\"text-align: right;\">\n",
       "      <th></th>\n",
       "      <th>Name</th>\n",
       "      <th>Year</th>\n",
       "      <th>Gender</th>\n",
       "      <th>Count</th>\n",
       "    </tr>\n",
       "  </thead>\n",
       "  <tbody>\n",
       "    <tr>\n",
       "      <th>0</th>\n",
       "      <td>Anna</td>\n",
       "      <td>1880</td>\n",
       "      <td>F</td>\n",
       "      <td>2604</td>\n",
       "    </tr>\n",
       "    <tr>\n",
       "      <th>1</th>\n",
       "      <td>Emma</td>\n",
       "      <td>1880</td>\n",
       "      <td>F</td>\n",
       "      <td>2003</td>\n",
       "    </tr>\n",
       "    <tr>\n",
       "      <th>2</th>\n",
       "      <td>Margaret</td>\n",
       "      <td>1880</td>\n",
       "      <td>F</td>\n",
       "      <td>1578</td>\n",
       "    </tr>\n",
       "    <tr>\n",
       "      <th>3</th>\n",
       "      <td>Sarah</td>\n",
       "      <td>1880</td>\n",
       "      <td>F</td>\n",
       "      <td>1288</td>\n",
       "    </tr>\n",
       "    <tr>\n",
       "      <th>4</th>\n",
       "      <td>Annie</td>\n",
       "      <td>1880</td>\n",
       "      <td>F</td>\n",
       "      <td>1258</td>\n",
       "    </tr>\n",
       "  </tbody>\n",
       "</table>\n",
       "</div>"
      ],
      "text/plain": [
       "       Name  Year Gender  Count\n",
       "0      Anna  1880      F   2604\n",
       "1      Emma  1880      F   2003\n",
       "2  Margaret  1880      F   1578\n",
       "3     Sarah  1880      F   1288\n",
       "4     Annie  1880      F   1258"
      ]
     },
     "execution_count": 2,
     "metadata": {},
     "output_type": "execute_result"
    }
   ],
   "source": [
    "del df['Id'] \n",
    "\n",
    "df.head()"
   ]
  },
  {
   "cell_type": "markdown",
   "metadata": {},
   "source": [
    "Now lets put that all together. \n",
    "\n",
    "Keeping the load and the deletion of the column together is good practice as this way when you are rerunning code you will always load the data and then remove the column at the same time. If you have them separate you may try to run the deletion of the column code before reloading the data which would cause an error because the column was already deleted. "
   ]
  },
  {
   "cell_type": "code",
   "execution_count": 3,
   "metadata": {},
   "outputs": [
    {
     "data": {
      "text/html": [
       "<div>\n",
       "<style scoped>\n",
       "    .dataframe tbody tr th:only-of-type {\n",
       "        vertical-align: middle;\n",
       "    }\n",
       "\n",
       "    .dataframe tbody tr th {\n",
       "        vertical-align: top;\n",
       "    }\n",
       "\n",
       "    .dataframe thead th {\n",
       "        text-align: right;\n",
       "    }\n",
       "</style>\n",
       "<table border=\"1\" class=\"dataframe\">\n",
       "  <thead>\n",
       "    <tr style=\"text-align: right;\">\n",
       "      <th></th>\n",
       "      <th>Name</th>\n",
       "      <th>Year</th>\n",
       "      <th>Gender</th>\n",
       "      <th>Count</th>\n",
       "    </tr>\n",
       "  </thead>\n",
       "  <tbody>\n",
       "    <tr>\n",
       "      <th>0</th>\n",
       "      <td>Anna</td>\n",
       "      <td>1880</td>\n",
       "      <td>F</td>\n",
       "      <td>2604</td>\n",
       "    </tr>\n",
       "    <tr>\n",
       "      <th>1</th>\n",
       "      <td>Emma</td>\n",
       "      <td>1880</td>\n",
       "      <td>F</td>\n",
       "      <td>2003</td>\n",
       "    </tr>\n",
       "    <tr>\n",
       "      <th>2</th>\n",
       "      <td>Margaret</td>\n",
       "      <td>1880</td>\n",
       "      <td>F</td>\n",
       "      <td>1578</td>\n",
       "    </tr>\n",
       "    <tr>\n",
       "      <th>3</th>\n",
       "      <td>Sarah</td>\n",
       "      <td>1880</td>\n",
       "      <td>F</td>\n",
       "      <td>1288</td>\n",
       "    </tr>\n",
       "    <tr>\n",
       "      <th>4</th>\n",
       "      <td>Annie</td>\n",
       "      <td>1880</td>\n",
       "      <td>F</td>\n",
       "      <td>1258</td>\n",
       "    </tr>\n",
       "  </tbody>\n",
       "</table>\n",
       "</div>"
      ],
      "text/plain": [
       "       Name  Year Gender  Count\n",
       "0      Anna  1880      F   2604\n",
       "1      Emma  1880      F   2003\n",
       "2  Margaret  1880      F   1578\n",
       "3     Sarah  1880      F   1288\n",
       "4     Annie  1880      F   1258"
      ]
     },
     "execution_count": 3,
     "metadata": {},
     "output_type": "execute_result"
    }
   ],
   "source": [
    "with open('/dsa/data/all_datasets/baby-names/NationalNames1.csv', 'r') as file:\n",
    "    df = pd.read_csv(file)\n",
    "del df['Id'] \n",
    "df.head()"
   ]
  },
  {
   "cell_type": "markdown",
   "metadata": {},
   "source": [
    "Immediately, you should notice that it is rendered in a much cleaner format than the list of lists above. It looks more familiar, like something more akin to a spreadsheet. Even if you were to execute this within your terminal application, it would be rendered in such a way that it keeps the data in rows and columns. \n",
    "\n",
    "As you can see, the top row is going to be a header row. Whereas we had to remove the header row in the list of lists in order to manipulate the data, this row serves as a reference to the columns in `pandas`. The unnamed column on the left is your index column. \n",
    "\n",
    "\n",
    "**On your own:** *What do you think `.tail()` returns?*"
   ]
  },
  {
   "cell_type": "code",
   "execution_count": 7,
   "metadata": {},
   "outputs": [
    {
     "data": {
      "text/html": [
       "<div>\n",
       "<style scoped>\n",
       "    .dataframe tbody tr th:only-of-type {\n",
       "        vertical-align: middle;\n",
       "    }\n",
       "\n",
       "    .dataframe tbody tr th {\n",
       "        vertical-align: top;\n",
       "    }\n",
       "\n",
       "    .dataframe thead th {\n",
       "        text-align: right;\n",
       "    }\n",
       "</style>\n",
       "<table border=\"1\" class=\"dataframe\">\n",
       "  <thead>\n",
       "    <tr style=\"text-align: right;\">\n",
       "      <th></th>\n",
       "      <th>Name</th>\n",
       "      <th>Year</th>\n",
       "      <th>Gender</th>\n",
       "      <th>Count</th>\n",
       "    </tr>\n",
       "  </thead>\n",
       "  <tbody>\n",
       "    <tr>\n",
       "      <th>608398</th>\n",
       "      <td>Ziar</td>\n",
       "      <td>2014</td>\n",
       "      <td>M</td>\n",
       "      <td>5</td>\n",
       "    </tr>\n",
       "    <tr>\n",
       "      <th>608399</th>\n",
       "      <td>Zichen</td>\n",
       "      <td>2014</td>\n",
       "      <td>M</td>\n",
       "      <td>5</td>\n",
       "    </tr>\n",
       "    <tr>\n",
       "      <th>608400</th>\n",
       "      <td>Ziden</td>\n",
       "      <td>2014</td>\n",
       "      <td>M</td>\n",
       "      <td>5</td>\n",
       "    </tr>\n",
       "    <tr>\n",
       "      <th>608401</th>\n",
       "      <td>Ziyah</td>\n",
       "      <td>2014</td>\n",
       "      <td>M</td>\n",
       "      <td>5</td>\n",
       "    </tr>\n",
       "    <tr>\n",
       "      <th>608402</th>\n",
       "      <td>Zykeem</td>\n",
       "      <td>2014</td>\n",
       "      <td>M</td>\n",
       "      <td>5</td>\n",
       "    </tr>\n",
       "  </tbody>\n",
       "</table>\n",
       "</div>"
      ],
      "text/plain": [
       "          Name  Year Gender  Count\n",
       "608398    Ziar  2014      M      5\n",
       "608399  Zichen  2014      M      5\n",
       "608400   Ziden  2014      M      5\n",
       "608401   Ziyah  2014      M      5\n",
       "608402  Zykeem  2014      M      5"
      ]
     },
     "execution_count": 7,
     "metadata": {},
     "output_type": "execute_result"
    }
   ],
   "source": [
    "#On your own: See what .tail() returns\n",
    "# Last 5 records\n",
    "with open('/dsa/data/all_datasets/baby-names/NationalNames1.csv', 'r') as file:\n",
    "    df = pd.read_csv(file)\n",
    "del df['Id'] \n",
    "df.tail()"
   ]
  },
  {
   "cell_type": "markdown",
   "metadata": {},
   "source": [
    "<a id='filter'></a>\n",
    "\n",
    "## Data Filtering\n",
    "\n",
    "`pandas` allows us to easily filter data. Imagine that you were only interested in tracking how many people each year named their child \"James\". All we have to do is filter the `Name` column by the string \"James\"."
   ]
  },
  {
   "cell_type": "code",
   "execution_count": 11,
   "metadata": {},
   "outputs": [
    {
     "data": {
      "text/html": [
       "<div>\n",
       "<style scoped>\n",
       "    .dataframe tbody tr th:only-of-type {\n",
       "        vertical-align: middle;\n",
       "    }\n",
       "\n",
       "    .dataframe tbody tr th {\n",
       "        vertical-align: top;\n",
       "    }\n",
       "\n",
       "    .dataframe thead th {\n",
       "        text-align: right;\n",
       "    }\n",
       "</style>\n",
       "<table border=\"1\" class=\"dataframe\">\n",
       "  <thead>\n",
       "    <tr style=\"text-align: right;\">\n",
       "      <th></th>\n",
       "      <th>Name</th>\n",
       "      <th>Year</th>\n",
       "      <th>Gender</th>\n",
       "      <th>Count</th>\n",
       "    </tr>\n",
       "  </thead>\n",
       "  <tbody>\n",
       "    <tr>\n",
       "      <th>3634</th>\n",
       "      <td>James</td>\n",
       "      <td>1885</td>\n",
       "      <td>F</td>\n",
       "      <td>26</td>\n",
       "    </tr>\n",
       "    <tr>\n",
       "      <th>4718</th>\n",
       "      <td>James</td>\n",
       "      <td>1886</td>\n",
       "      <td>M</td>\n",
       "      <td>5355</td>\n",
       "    </tr>\n",
       "    <tr>\n",
       "      <th>7212</th>\n",
       "      <td>James</td>\n",
       "      <td>1889</td>\n",
       "      <td>M</td>\n",
       "      <td>5020</td>\n",
       "    </tr>\n",
       "    <tr>\n",
       "      <th>7741</th>\n",
       "      <td>James</td>\n",
       "      <td>1890</td>\n",
       "      <td>F</td>\n",
       "      <td>33</td>\n",
       "    </tr>\n",
       "    <tr>\n",
       "      <th>8978</th>\n",
       "      <td>James</td>\n",
       "      <td>1891</td>\n",
       "      <td>M</td>\n",
       "      <td>4516</td>\n",
       "    </tr>\n",
       "    <tr>\n",
       "      <th>9525</th>\n",
       "      <td>James</td>\n",
       "      <td>1892</td>\n",
       "      <td>F</td>\n",
       "      <td>22</td>\n",
       "    </tr>\n",
       "    <tr>\n",
       "      <th>9872</th>\n",
       "      <td>James</td>\n",
       "      <td>1892</td>\n",
       "      <td>M</td>\n",
       "      <td>5398</td>\n",
       "    </tr>\n",
       "    <tr>\n",
       "      <th>10485</th>\n",
       "      <td>James</td>\n",
       "      <td>1893</td>\n",
       "      <td>F</td>\n",
       "      <td>23</td>\n",
       "    </tr>\n",
       "    <tr>\n",
       "      <th>10824</th>\n",
       "      <td>James</td>\n",
       "      <td>1893</td>\n",
       "      <td>M</td>\n",
       "      <td>5028</td>\n",
       "    </tr>\n",
       "    <tr>\n",
       "      <th>11763</th>\n",
       "      <td>James</td>\n",
       "      <td>1894</td>\n",
       "      <td>M</td>\n",
       "      <td>5110</td>\n",
       "    </tr>\n",
       "  </tbody>\n",
       "</table>\n",
       "</div>"
      ],
      "text/plain": [
       "        Name  Year Gender  Count\n",
       "3634   James  1885      F     26\n",
       "4718   James  1886      M   5355\n",
       "7212   James  1889      M   5020\n",
       "7741   James  1890      F     33\n",
       "8978   James  1891      M   4516\n",
       "9525   James  1892      F     22\n",
       "9872   James  1892      M   5398\n",
       "10485  James  1893      F     23\n",
       "10824  James  1893      M   5028\n",
       "11763  James  1894      M   5110"
      ]
     },
     "execution_count": 11,
     "metadata": {},
     "output_type": "execute_result"
    }
   ],
   "source": [
    "df[df['Name']=='James'].head(10)"
   ]
  },
  {
   "cell_type": "markdown",
   "metadata": {},
   "source": [
    "That was a very simple line of code, which is one of the benefits of using `pandas`. We can break it down step by step. Let's start with the line `df['Name']=='James'`. This is going to return `True` or `False` given whether or not the condition is met. Running this line by itself would just return a boolean for each index.  For this reason, we wrap that in `df[...]`, which returns the subset of the dataframe, `df` where the index returns `True`, thus returning all rows that match the string, \"James\".  Once again, the final `.head()` piece is a `pandas` method that you can call on dataframes to return the first rows. You could pass a numerical argument to return the first X-number of rows. For example, if we put `df[df['Name']=='James'].head(10)`, the first 10 rows of this subset would be returned."
   ]
  },
  {
   "cell_type": "code",
   "execution_count": 12,
   "metadata": {},
   "outputs": [
    {
     "data": {
      "text/html": [
       "<div>\n",
       "<style scoped>\n",
       "    .dataframe tbody tr th:only-of-type {\n",
       "        vertical-align: middle;\n",
       "    }\n",
       "\n",
       "    .dataframe tbody tr th {\n",
       "        vertical-align: top;\n",
       "    }\n",
       "\n",
       "    .dataframe thead th {\n",
       "        text-align: right;\n",
       "    }\n",
       "</style>\n",
       "<table border=\"1\" class=\"dataframe\">\n",
       "  <thead>\n",
       "    <tr style=\"text-align: right;\">\n",
       "      <th></th>\n",
       "      <th>Name</th>\n",
       "      <th>Year</th>\n",
       "      <th>Gender</th>\n",
       "      <th>Count</th>\n",
       "    </tr>\n",
       "  </thead>\n",
       "  <tbody>\n",
       "    <tr>\n",
       "      <th>32142</th>\n",
       "      <td>James</td>\n",
       "      <td>1911</td>\n",
       "      <td>M</td>\n",
       "      <td>9951</td>\n",
       "    </tr>\n",
       "  </tbody>\n",
       "</table>\n",
       "</div>"
      ],
      "text/plain": [
       "        Name  Year Gender  Count\n",
       "32142  James  1911      M   9951"
      ]
     },
     "execution_count": 12,
     "metadata": {},
     "output_type": "execute_result"
    }
   ],
   "source": [
    "df[(df['Name'] == 'James') & (df['Count'] > 6000) & (df['Count'] < 10000)] "
   ]
  },
  {
   "cell_type": "markdown",
   "metadata": {},
   "source": [
    "`pandas` can also match on much more than strings. Take the above example, which builds on the \"James\" subset. What if we were interested in knowing which years had a greater than 400 *James*es named but less than 10,000? That's what we did above. `pandas` allows us to match on many conditions very easily."
   ]
  },
  {
   "cell_type": "markdown",
   "metadata": {},
   "source": [
    "<a id='sort'></a>\n",
    "\n",
    "## Data Sorting\n",
    "\n",
    " "
   ]
  },
  {
   "cell_type": "markdown",
   "metadata": {},
   "source": [
    "You can also sort the data frame by a column. This works on both numerical data types as well as strings. For example, sorting by `df['Name']` will sort the data frame alphabetically by the 'Name' column, while sorting by `df['Count']`  will sort by numerical value. Take a look at the example below."
   ]
  },
  {
   "cell_type": "code",
   "execution_count": 13,
   "metadata": {},
   "outputs": [
    {
     "data": {
      "text/html": [
       "<div>\n",
       "<style scoped>\n",
       "    .dataframe tbody tr th:only-of-type {\n",
       "        vertical-align: middle;\n",
       "    }\n",
       "\n",
       "    .dataframe tbody tr th {\n",
       "        vertical-align: top;\n",
       "    }\n",
       "\n",
       "    .dataframe thead th {\n",
       "        text-align: right;\n",
       "    }\n",
       "</style>\n",
       "<table border=\"1\" class=\"dataframe\">\n",
       "  <thead>\n",
       "    <tr style=\"text-align: right;\">\n",
       "      <th></th>\n",
       "      <th>Name</th>\n",
       "      <th>Year</th>\n",
       "      <th>Gender</th>\n",
       "      <th>Count</th>\n",
       "    </tr>\n",
       "  </thead>\n",
       "  <tbody>\n",
       "    <tr>\n",
       "      <th>188838</th>\n",
       "      <td>Michael</td>\n",
       "      <td>1959</td>\n",
       "      <td>M</td>\n",
       "      <td>85272</td>\n",
       "    </tr>\n",
       "    <tr>\n",
       "      <th>148954</th>\n",
       "      <td>Robert</td>\n",
       "      <td>1948</td>\n",
       "      <td>M</td>\n",
       "      <td>85479</td>\n",
       "    </tr>\n",
       "    <tr>\n",
       "      <th>192913</th>\n",
       "      <td>David</td>\n",
       "      <td>1960</td>\n",
       "      <td>M</td>\n",
       "      <td>85931</td>\n",
       "    </tr>\n",
       "    <tr>\n",
       "      <th>166140</th>\n",
       "      <td>James</td>\n",
       "      <td>1953</td>\n",
       "      <td>M</td>\n",
       "      <td>85946</td>\n",
       "    </tr>\n",
       "    <tr>\n",
       "      <th>155645</th>\n",
       "      <td>James</td>\n",
       "      <td>1950</td>\n",
       "      <td>M</td>\n",
       "      <td>86221</td>\n",
       "    </tr>\n",
       "    <tr>\n",
       "      <th>169753</th>\n",
       "      <td>Robert</td>\n",
       "      <td>1954</td>\n",
       "      <td>M</td>\n",
       "      <td>86258</td>\n",
       "    </tr>\n",
       "    <tr>\n",
       "      <th>152296</th>\n",
       "      <td>James</td>\n",
       "      <td>1949</td>\n",
       "      <td>M</td>\n",
       "      <td>86856</td>\n",
       "    </tr>\n",
       "    <tr>\n",
       "      <th>196929</th>\n",
       "      <td>Michael</td>\n",
       "      <td>1961</td>\n",
       "      <td>M</td>\n",
       "      <td>86916</td>\n",
       "    </tr>\n",
       "    <tr>\n",
       "      <th>150336</th>\n",
       "      <td>Linda</td>\n",
       "      <td>1949</td>\n",
       "      <td>F</td>\n",
       "      <td>91010</td>\n",
       "    </tr>\n",
       "    <tr>\n",
       "      <th>143430</th>\n",
       "      <td>Linda</td>\n",
       "      <td>1947</td>\n",
       "      <td>F</td>\n",
       "      <td>99680</td>\n",
       "    </tr>\n",
       "  </tbody>\n",
       "</table>\n",
       "</div>"
      ],
      "text/plain": [
       "           Name  Year Gender  Count\n",
       "188838  Michael  1959      M  85272\n",
       "148954   Robert  1948      M  85479\n",
       "192913    David  1960      M  85931\n",
       "166140    James  1953      M  85946\n",
       "155645    James  1950      M  86221\n",
       "169753   Robert  1954      M  86258\n",
       "152296    James  1949      M  86856\n",
       "196929  Michael  1961      M  86916\n",
       "150336    Linda  1949      F  91010\n",
       "143430    Linda  1947      F  99680"
      ]
     },
     "execution_count": 13,
     "metadata": {},
     "output_type": "execute_result"
    }
   ],
   "source": [
    "df.sort_values(by = ['Count'], ascending = True).tail(10)"
   ]
  },
  {
   "cell_type": "markdown",
   "metadata": {},
   "source": [
    "<a id='future'></a>\n",
    "\n",
    "## And to Come...\n",
    "\n",
    "Data manipulation is just the beginning of our data science curriculum, but understanding it is key before we start to model or visualize our data.\n",
    "\n",
    "In a few modules from now, we will be working with some machine learning techniques and predicting target variables based on some input data. Below is a scatter plot depicting the relationship between brain and body size in a small subset of animals. The line in the graph is a regression line depicting the relationship between the two variables, brain and body size.\n",
    "\n",
    "Linear regression is just one of several machine learning algorithms that we will be exploring in the class. In the end, we will know how to select the right algorithm given the prediction problem, interpret the output, and refine the model for prediction optimization."
   ]
  },
  {
   "cell_type": "markdown",
   "metadata": {},
   "source": [
    "<img src=\"../images/brain_body_python.png\">"
   ]
  },
  {
   "cell_type": "markdown",
   "metadata": {},
   "source": [
    "# Save your notebook, then `File > Close and Halt`"
   ]
  }
 ],
 "metadata": {
  "kernelspec": {
   "display_name": "Python 3",
   "language": "python",
   "name": "python3"
  },
  "language_info": {
   "codemirror_mode": {
    "name": "ipython",
    "version": 3
   },
   "file_extension": ".py",
   "mimetype": "text/x-python",
   "name": "python",
   "nbconvert_exporter": "python",
   "pygments_lexer": "ipython3",
   "version": "3.7.3"
  }
 },
 "nbformat": 4,
 "nbformat_minor": 2
}
