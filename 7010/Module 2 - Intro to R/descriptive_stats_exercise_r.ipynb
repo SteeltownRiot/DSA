{
 "cells": [
  {
   "cell_type": "markdown",
   "metadata": {},
   "source": [
    "# Descriptive Statistics with `R` Exercises"
   ]
  },
  {
   "cell_type": "markdown",
   "metadata": {},
   "source": [
    "Like last week, all of the concepts in the exercise will be familiar in the sense that it will mirror the concepts that we learned throughout the labs and practices. This includes the concepts that we worked through in module 1.\n",
    "\n",
    "There could be multiple ways to solve a single answer, some more elegant than others. Revisit older notebooks for guidance, ask questions along the way, and don't be afraid to search the internet. Chances are that someone has had the same/similar issue.\n",
    "\n",
    "For this exercise, we will be working with the `congress-terms.csv`. \n",
    "Again, this is in the `/dsa/data/all_datasets/` directory."
   ]
  },
  {
   "cell_type": "markdown",
   "metadata": {},
   "source": [
    "**Exercise 1**: *Read in the `congress-terms.csv` file and name it `df`.*"
   ]
  },
  {
   "cell_type": "code",
   "execution_count": 2,
   "metadata": {},
   "outputs": [
    {
     "data": {
      "text/html": [
       "<table>\n",
       "<caption>A data.frame: 6 × 13</caption>\n",
       "<thead>\n",
       "\t<tr><th scope=col>congress</th><th scope=col>chamber</th><th scope=col>bioguide</th><th scope=col>firstname</th><th scope=col>middlename</th><th scope=col>lastname</th><th scope=col>suffix</th><th scope=col>birthday</th><th scope=col>state</th><th scope=col>party</th><th scope=col>incumbent</th><th scope=col>termstart</th><th scope=col>age</th></tr>\n",
       "\t<tr><th scope=col>&lt;int&gt;</th><th scope=col>&lt;fct&gt;</th><th scope=col>&lt;fct&gt;</th><th scope=col>&lt;fct&gt;</th><th scope=col>&lt;fct&gt;</th><th scope=col>&lt;fct&gt;</th><th scope=col>&lt;fct&gt;</th><th scope=col>&lt;fct&gt;</th><th scope=col>&lt;fct&gt;</th><th scope=col>&lt;fct&gt;</th><th scope=col>&lt;fct&gt;</th><th scope=col>&lt;fct&gt;</th><th scope=col>&lt;dbl&gt;</th></tr>\n",
       "</thead>\n",
       "<tbody>\n",
       "\t<tr><td>80</td><td>house</td><td>M000112</td><td>Joseph </td><td>Jefferson</td><td>Mansfield</td><td></td><td>1861-02-09</td><td>TX</td><td>D</td><td>Yes</td><td>1/3/47</td><td>85.9</td></tr>\n",
       "\t<tr><td>80</td><td>house</td><td>D000448</td><td>Robert </td><td>Lee      </td><td>Doughton </td><td></td><td>1863-11-07</td><td>NC</td><td>D</td><td>Yes</td><td>1/3/47</td><td>83.2</td></tr>\n",
       "\t<tr><td>80</td><td>house</td><td>S000001</td><td>Adolph </td><td>Joachim  </td><td>Sabath   </td><td></td><td>1866-04-04</td><td>IL</td><td>D</td><td>Yes</td><td>1/3/47</td><td>80.7</td></tr>\n",
       "\t<tr><td>80</td><td>house</td><td>E000023</td><td>Charles</td><td>Aubrey   </td><td>Eaton    </td><td></td><td>1868-03-29</td><td>NJ</td><td>R</td><td>Yes</td><td>1/3/47</td><td>78.8</td></tr>\n",
       "\t<tr><td>80</td><td>house</td><td>L000296</td><td>William</td><td>         </td><td>Lewis    </td><td></td><td>1868-09-22</td><td>KY</td><td>R</td><td>No </td><td>1/3/47</td><td>78.3</td></tr>\n",
       "\t<tr><td>80</td><td>house</td><td>G000017</td><td>James  </td><td>A.       </td><td>Gallagher</td><td></td><td>1869-01-16</td><td>PA</td><td>R</td><td>No </td><td>1/3/47</td><td>78.0</td></tr>\n",
       "</tbody>\n",
       "</table>\n"
      ],
      "text/latex": [
       "A data.frame: 6 × 13\n",
       "\\begin{tabular}{r|lllllllllllll}\n",
       " congress & chamber & bioguide & firstname & middlename & lastname & suffix & birthday & state & party & incumbent & termstart & age\\\\\n",
       " <int> & <fct> & <fct> & <fct> & <fct> & <fct> & <fct> & <fct> & <fct> & <fct> & <fct> & <fct> & <dbl>\\\\\n",
       "\\hline\n",
       "\t 80 & house & M000112 & Joseph  & Jefferson & Mansfield &  & 1861-02-09 & TX & D & Yes & 1/3/47 & 85.9\\\\\n",
       "\t 80 & house & D000448 & Robert  & Lee       & Doughton  &  & 1863-11-07 & NC & D & Yes & 1/3/47 & 83.2\\\\\n",
       "\t 80 & house & S000001 & Adolph  & Joachim   & Sabath    &  & 1866-04-04 & IL & D & Yes & 1/3/47 & 80.7\\\\\n",
       "\t 80 & house & E000023 & Charles & Aubrey    & Eaton     &  & 1868-03-29 & NJ & R & Yes & 1/3/47 & 78.8\\\\\n",
       "\t 80 & house & L000296 & William &           & Lewis     &  & 1868-09-22 & KY & R & No  & 1/3/47 & 78.3\\\\\n",
       "\t 80 & house & G000017 & James   & A.        & Gallagher &  & 1869-01-16 & PA & R & No  & 1/3/47 & 78.0\\\\\n",
       "\\end{tabular}\n"
      ],
      "text/markdown": [
       "\n",
       "A data.frame: 6 × 13\n",
       "\n",
       "| congress &lt;int&gt; | chamber &lt;fct&gt; | bioguide &lt;fct&gt; | firstname &lt;fct&gt; | middlename &lt;fct&gt; | lastname &lt;fct&gt; | suffix &lt;fct&gt; | birthday &lt;fct&gt; | state &lt;fct&gt; | party &lt;fct&gt; | incumbent &lt;fct&gt; | termstart &lt;fct&gt; | age &lt;dbl&gt; |\n",
       "|---|---|---|---|---|---|---|---|---|---|---|---|---|\n",
       "| 80 | house | M000112 | Joseph  | Jefferson | Mansfield | <!----> | 1861-02-09 | TX | D | Yes | 1/3/47 | 85.9 |\n",
       "| 80 | house | D000448 | Robert  | Lee       | Doughton  | <!----> | 1863-11-07 | NC | D | Yes | 1/3/47 | 83.2 |\n",
       "| 80 | house | S000001 | Adolph  | Joachim   | Sabath    | <!----> | 1866-04-04 | IL | D | Yes | 1/3/47 | 80.7 |\n",
       "| 80 | house | E000023 | Charles | Aubrey    | Eaton     | <!----> | 1868-03-29 | NJ | R | Yes | 1/3/47 | 78.8 |\n",
       "| 80 | house | L000296 | William | <!----> | Lewis     | <!----> | 1868-09-22 | KY | R | No  | 1/3/47 | 78.3 |\n",
       "| 80 | house | G000017 | James   | A.        | Gallagher | <!----> | 1869-01-16 | PA | R | No  | 1/3/47 | 78.0 |\n",
       "\n"
      ],
      "text/plain": [
       "  congress chamber bioguide firstname middlename lastname  suffix birthday  \n",
       "1 80       house   M000112  Joseph    Jefferson  Mansfield        1861-02-09\n",
       "2 80       house   D000448  Robert    Lee        Doughton         1863-11-07\n",
       "3 80       house   S000001  Adolph    Joachim    Sabath           1866-04-04\n",
       "4 80       house   E000023  Charles   Aubrey     Eaton            1868-03-29\n",
       "5 80       house   L000296  William              Lewis            1868-09-22\n",
       "6 80       house   G000017  James     A.         Gallagher        1869-01-16\n",
       "  state party incumbent termstart age \n",
       "1 TX    D     Yes       1/3/47    85.9\n",
       "2 NC    D     Yes       1/3/47    83.2\n",
       "3 IL    D     Yes       1/3/47    80.7\n",
       "4 NJ    R     Yes       1/3/47    78.8\n",
       "5 KY    R     No        1/3/47    78.3\n",
       "6 PA    R     No        1/3/47    78.0"
      ]
     },
     "metadata": {},
     "output_type": "display_data"
    }
   ],
   "source": [
    "# Exercise 1 code goes here\n",
    "# -------------------------\n",
    "df <- read.csv('/dsa/data/all_datasets/congress-terms.csv')\n",
    "#head(df)"
   ]
  },
  {
   "cell_type": "markdown",
   "metadata": {},
   "source": [
    "**Exercise 2**: On average, does the house or the senate have older members? What statistics could you use to find this?"
   ]
  },
  {
   "cell_type": "code",
   "execution_count": 16,
   "metadata": {},
   "outputs": [
    {
     "data": {
      "text/html": [
       "<table>\n",
       "<caption>A tibble: 2 × 3</caption>\n",
       "<thead>\n",
       "\t<tr><th scope=col>chamber</th><th scope=col>meanAge</th><th scope=col>medianAge</th></tr>\n",
       "\t<tr><th scope=col>&lt;fct&gt;</th><th scope=col>&lt;dbl&gt;</th><th scope=col>&lt;dbl&gt;</th></tr>\n",
       "</thead>\n",
       "<tbody>\n",
       "\t<tr><td>house </td><td>52.36661</td><td>52.0</td></tr>\n",
       "\t<tr><td>senate</td><td>57.33553</td><td>56.8</td></tr>\n",
       "</tbody>\n",
       "</table>\n"
      ],
      "text/latex": [
       "A tibble: 2 × 3\n",
       "\\begin{tabular}{r|lll}\n",
       " chamber & meanAge & medianAge\\\\\n",
       " <fct> & <dbl> & <dbl>\\\\\n",
       "\\hline\n",
       "\t house  & 52.36661 & 52.0\\\\\n",
       "\t senate & 57.33553 & 56.8\\\\\n",
       "\\end{tabular}\n"
      ],
      "text/markdown": [
       "\n",
       "A tibble: 2 × 3\n",
       "\n",
       "| chamber &lt;fct&gt; | meanAge &lt;dbl&gt; | medianAge &lt;dbl&gt; |\n",
       "|---|---|---|\n",
       "| house  | 52.36661 | 52.0 |\n",
       "| senate | 57.33553 | 56.8 |\n",
       "\n"
      ],
      "text/plain": [
       "  chamber meanAge  medianAge\n",
       "1 house   52.36661 52.0     \n",
       "2 senate  57.33553 56.8     "
      ]
     },
     "metadata": {},
     "output_type": "display_data"
    }
   ],
   "source": [
    "# Exercise 2 code goes here\n",
    "# -------------------------\n",
    "library(dplyr)\n",
    "\n",
    "df %>%\n",
    "group_by(chamber) %>%\n",
    "summarize(meanAge = mean(age), medianAge = median(age))"
   ]
  },
  {
   "cell_type": "raw",
   "metadata": {},
   "source": [
    "Answer the question above here.\n",
    "2. The Senate, on average has older members than the House. I could look at mean(age) or median(age) to try and figure out which chamber has the oldest members."
   ]
  },
  {
   "cell_type": "markdown",
   "metadata": {},
   "source": [
    "**Exercise 3**: Who is the oldest person in this dataset? The youngest?"
   ]
  },
  {
   "cell_type": "code",
   "execution_count": 9,
   "metadata": {},
   "outputs": [
    {
     "data": {
      "text/html": [
       "<table>\n",
       "<caption>A data.frame: 1 × 13</caption>\n",
       "<thead>\n",
       "\t<tr><th scope=col>congress</th><th scope=col>chamber</th><th scope=col>bioguide</th><th scope=col>firstname</th><th scope=col>middlename</th><th scope=col>lastname</th><th scope=col>suffix</th><th scope=col>birthday</th><th scope=col>state</th><th scope=col>party</th><th scope=col>incumbent</th><th scope=col>termstart</th><th scope=col>age</th></tr>\n",
       "\t<tr><th scope=col>&lt;int&gt;</th><th scope=col>&lt;fct&gt;</th><th scope=col>&lt;fct&gt;</th><th scope=col>&lt;fct&gt;</th><th scope=col>&lt;fct&gt;</th><th scope=col>&lt;fct&gt;</th><th scope=col>&lt;fct&gt;</th><th scope=col>&lt;fct&gt;</th><th scope=col>&lt;fct&gt;</th><th scope=col>&lt;fct&gt;</th><th scope=col>&lt;fct&gt;</th><th scope=col>&lt;fct&gt;</th><th scope=col>&lt;dbl&gt;</th></tr>\n",
       "</thead>\n",
       "<tbody>\n",
       "\t<tr><td>89</td><td>house</td><td>J000151</td><td>Jed</td><td>Joseph</td><td>Johnson</td><td>Jr.</td><td>12/27/39</td><td>OK</td><td>D</td><td>No</td><td>1/4/65</td><td>25</td></tr>\n",
       "</tbody>\n",
       "</table>\n"
      ],
      "text/latex": [
       "A data.frame: 1 × 13\n",
       "\\begin{tabular}{r|lllllllllllll}\n",
       " congress & chamber & bioguide & firstname & middlename & lastname & suffix & birthday & state & party & incumbent & termstart & age\\\\\n",
       " <int> & <fct> & <fct> & <fct> & <fct> & <fct> & <fct> & <fct> & <fct> & <fct> & <fct> & <fct> & <dbl>\\\\\n",
       "\\hline\n",
       "\t 89 & house & J000151 & Jed & Joseph & Johnson & Jr. & 12/27/39 & OK & D & No & 1/4/65 & 25\\\\\n",
       "\\end{tabular}\n"
      ],
      "text/markdown": [
       "\n",
       "A data.frame: 1 × 13\n",
       "\n",
       "| congress &lt;int&gt; | chamber &lt;fct&gt; | bioguide &lt;fct&gt; | firstname &lt;fct&gt; | middlename &lt;fct&gt; | lastname &lt;fct&gt; | suffix &lt;fct&gt; | birthday &lt;fct&gt; | state &lt;fct&gt; | party &lt;fct&gt; | incumbent &lt;fct&gt; | termstart &lt;fct&gt; | age &lt;dbl&gt; |\n",
       "|---|---|---|---|---|---|---|---|---|---|---|---|---|\n",
       "| 89 | house | J000151 | Jed | Joseph | Johnson | Jr. | 12/27/39 | OK | D | No | 1/4/65 | 25 |\n",
       "\n"
      ],
      "text/plain": [
       "  congress chamber bioguide firstname middlename lastname suffix birthday state\n",
       "1 89       house   J000151  Jed       Joseph     Johnson  Jr.    12/27/39 OK   \n",
       "  party incumbent termstart age\n",
       "1 D     No        1/4/65    25 "
      ]
     },
     "metadata": {},
     "output_type": "display_data"
    },
    {
     "data": {
      "text/html": [
       "<table>\n",
       "<caption>A data.frame: 1 × 13</caption>\n",
       "<thead>\n",
       "\t<tr><th scope=col>congress</th><th scope=col>chamber</th><th scope=col>bioguide</th><th scope=col>firstname</th><th scope=col>middlename</th><th scope=col>lastname</th><th scope=col>suffix</th><th scope=col>birthday</th><th scope=col>state</th><th scope=col>party</th><th scope=col>incumbent</th><th scope=col>termstart</th><th scope=col>age</th></tr>\n",
       "\t<tr><th scope=col>&lt;int&gt;</th><th scope=col>&lt;fct&gt;</th><th scope=col>&lt;fct&gt;</th><th scope=col>&lt;fct&gt;</th><th scope=col>&lt;fct&gt;</th><th scope=col>&lt;fct&gt;</th><th scope=col>&lt;fct&gt;</th><th scope=col>&lt;fct&gt;</th><th scope=col>&lt;fct&gt;</th><th scope=col>&lt;fct&gt;</th><th scope=col>&lt;fct&gt;</th><th scope=col>&lt;fct&gt;</th><th scope=col>&lt;dbl&gt;</th></tr>\n",
       "</thead>\n",
       "<tbody>\n",
       "\t<tr><td>107</td><td>senate</td><td>T000254</td><td>J.</td><td>Strom</td><td>Thurmond</td><td></td><td>1902-12-05</td><td>SC</td><td>R</td><td>Yes</td><td>1/3/01</td><td>98.1</td></tr>\n",
       "</tbody>\n",
       "</table>\n"
      ],
      "text/latex": [
       "A data.frame: 1 × 13\n",
       "\\begin{tabular}{r|lllllllllllll}\n",
       " congress & chamber & bioguide & firstname & middlename & lastname & suffix & birthday & state & party & incumbent & termstart & age\\\\\n",
       " <int> & <fct> & <fct> & <fct> & <fct> & <fct> & <fct> & <fct> & <fct> & <fct> & <fct> & <fct> & <dbl>\\\\\n",
       "\\hline\n",
       "\t 107 & senate & T000254 & J. & Strom & Thurmond &  & 1902-12-05 & SC & R & Yes & 1/3/01 & 98.1\\\\\n",
       "\\end{tabular}\n"
      ],
      "text/markdown": [
       "\n",
       "A data.frame: 1 × 13\n",
       "\n",
       "| congress &lt;int&gt; | chamber &lt;fct&gt; | bioguide &lt;fct&gt; | firstname &lt;fct&gt; | middlename &lt;fct&gt; | lastname &lt;fct&gt; | suffix &lt;fct&gt; | birthday &lt;fct&gt; | state &lt;fct&gt; | party &lt;fct&gt; | incumbent &lt;fct&gt; | termstart &lt;fct&gt; | age &lt;dbl&gt; |\n",
       "|---|---|---|---|---|---|---|---|---|---|---|---|---|\n",
       "| 107 | senate | T000254 | J. | Strom | Thurmond | <!----> | 1902-12-05 | SC | R | Yes | 1/3/01 | 98.1 |\n",
       "\n"
      ],
      "text/plain": [
       "  congress chamber bioguide firstname middlename lastname suffix birthday  \n",
       "1 107      senate  T000254  J.        Strom      Thurmond        1902-12-05\n",
       "  state party incumbent termstart age \n",
       "1 SC    R     Yes       1/3/01    98.1"
      ]
     },
     "metadata": {},
     "output_type": "display_data"
    }
   ],
   "source": [
    "# Exercise 3 code goes here\n",
    "# -------------------------\n",
    "df %>%\n",
    "top_n(n = 1, wt = -age)\n",
    "\n",
    "df %>%\n",
    "top_n(n = 1, wt = age)"
   ]
  },
  {
   "cell_type": "raw",
   "metadata": {},
   "source": [
    "Answer the question above here.\n",
    "3. The oldest person in the dataset is Strom Thurmond and the youngest is Jed Johnson"
   ]
  },
  {
   "cell_type": "markdown",
   "metadata": {},
   "source": [
    "**Exercise 4**: Who is the oldest and youngest person per political party?"
   ]
  },
  {
   "cell_type": "code",
   "execution_count": 13,
   "metadata": {},
   "outputs": [
    {
     "data": {
      "text/html": [
       "<table>\n",
       "<caption>A grouped_df: 7 × 13</caption>\n",
       "<thead>\n",
       "\t<tr><th scope=col>congress</th><th scope=col>chamber</th><th scope=col>bioguide</th><th scope=col>firstname</th><th scope=col>middlename</th><th scope=col>lastname</th><th scope=col>suffix</th><th scope=col>birthday</th><th scope=col>state</th><th scope=col>party</th><th scope=col>incumbent</th><th scope=col>termstart</th><th scope=col>age</th></tr>\n",
       "\t<tr><th scope=col>&lt;int&gt;</th><th scope=col>&lt;fct&gt;</th><th scope=col>&lt;fct&gt;</th><th scope=col>&lt;fct&gt;</th><th scope=col>&lt;fct&gt;</th><th scope=col>&lt;fct&gt;</th><th scope=col>&lt;fct&gt;</th><th scope=col>&lt;fct&gt;</th><th scope=col>&lt;fct&gt;</th><th scope=col>&lt;fct&gt;</th><th scope=col>&lt;fct&gt;</th><th scope=col>&lt;fct&gt;</th><th scope=col>&lt;dbl&gt;</th></tr>\n",
       "</thead>\n",
       "<tbody>\n",
       "\t<tr><td> 86</td><td>house </td><td>A000105</td><td>Thomas  </td><td>Dale     </td><td>Alford   </td><td>   </td><td>1/28/16 </td><td>AR</td><td>ID</td><td>No</td><td>1/7/59 </td><td>42.9</td></tr>\n",
       "\t<tr><td> 80</td><td>house </td><td>I000046</td><td>Leo     </td><td>         </td><td>Isacson  </td><td>   </td><td>4/20/10 </td><td>NY</td><td>AL</td><td>No</td><td>1/3/47 </td><td>36.7</td></tr>\n",
       "\t<tr><td> 88</td><td>senate</td><td>M000851</td><td>Walter  </td><td>Frederick</td><td>Mondale  </td><td>   </td><td>1/5/28  </td><td>MN</td><td>I </td><td>No</td><td>1/9/63 </td><td>35.0</td></tr>\n",
       "\t<tr><td> 81</td><td>house </td><td>R000425</td><td>Franklin</td><td>Delano   </td><td>Roosevelt</td><td>Jr.</td><td>8/17/14 </td><td>NY</td><td>L </td><td>No</td><td>1/3/49 </td><td>34.4</td></tr>\n",
       "\t<tr><td> 94</td><td>house </td><td>E000175</td><td>David   </td><td>Farnham  </td><td>Emery    </td><td>   </td><td>9/1/48  </td><td>ME</td><td>R </td><td>No</td><td>1/14/75</td><td>26.4</td></tr>\n",
       "\t<tr><td>107</td><td>house </td><td>P000586</td><td>Adam    </td><td>H.       </td><td>Putnam   </td><td>   </td><td>7/31/74 </td><td>FL</td><td>R </td><td>No</td><td>1/3/01 </td><td>26.4</td></tr>\n",
       "\t<tr><td> 89</td><td>house </td><td>J000151</td><td>Jed     </td><td>Joseph   </td><td>Johnson  </td><td>Jr.</td><td>12/27/39</td><td>OK</td><td>D </td><td>No</td><td>1/4/65 </td><td>25.0</td></tr>\n",
       "</tbody>\n",
       "</table>\n"
      ],
      "text/latex": [
       "A grouped_df: 7 × 13\n",
       "\\begin{tabular}{r|lllllllllllll}\n",
       " congress & chamber & bioguide & firstname & middlename & lastname & suffix & birthday & state & party & incumbent & termstart & age\\\\\n",
       " <int> & <fct> & <fct> & <fct> & <fct> & <fct> & <fct> & <fct> & <fct> & <fct> & <fct> & <fct> & <dbl>\\\\\n",
       "\\hline\n",
       "\t  86 & house  & A000105 & Thomas   & Dale      & Alford    &     & 1/28/16  & AR & ID & No & 1/7/59  & 42.9\\\\\n",
       "\t  80 & house  & I000046 & Leo      &           & Isacson   &     & 4/20/10  & NY & AL & No & 1/3/47  & 36.7\\\\\n",
       "\t  88 & senate & M000851 & Walter   & Frederick & Mondale   &     & 1/5/28   & MN & I  & No & 1/9/63  & 35.0\\\\\n",
       "\t  81 & house  & R000425 & Franklin & Delano    & Roosevelt & Jr. & 8/17/14  & NY & L  & No & 1/3/49  & 34.4\\\\\n",
       "\t  94 & house  & E000175 & David    & Farnham   & Emery     &     & 9/1/48   & ME & R  & No & 1/14/75 & 26.4\\\\\n",
       "\t 107 & house  & P000586 & Adam     & H.        & Putnam    &     & 7/31/74  & FL & R  & No & 1/3/01  & 26.4\\\\\n",
       "\t  89 & house  & J000151 & Jed      & Joseph    & Johnson   & Jr. & 12/27/39 & OK & D  & No & 1/4/65  & 25.0\\\\\n",
       "\\end{tabular}\n"
      ],
      "text/markdown": [
       "\n",
       "A grouped_df: 7 × 13\n",
       "\n",
       "| congress &lt;int&gt; | chamber &lt;fct&gt; | bioguide &lt;fct&gt; | firstname &lt;fct&gt; | middlename &lt;fct&gt; | lastname &lt;fct&gt; | suffix &lt;fct&gt; | birthday &lt;fct&gt; | state &lt;fct&gt; | party &lt;fct&gt; | incumbent &lt;fct&gt; | termstart &lt;fct&gt; | age &lt;dbl&gt; |\n",
       "|---|---|---|---|---|---|---|---|---|---|---|---|---|\n",
       "|  86 | house  | A000105 | Thomas   | Dale      | Alford    | <!----> | 1/28/16  | AR | ID | No | 1/7/59  | 42.9 |\n",
       "|  80 | house  | I000046 | Leo      | <!----> | Isacson   | <!----> | 4/20/10  | NY | AL | No | 1/3/47  | 36.7 |\n",
       "|  88 | senate | M000851 | Walter   | Frederick | Mondale   | <!----> | 1/5/28   | MN | I  | No | 1/9/63  | 35.0 |\n",
       "|  81 | house  | R000425 | Franklin | Delano    | Roosevelt | Jr. | 8/17/14  | NY | L  | No | 1/3/49  | 34.4 |\n",
       "|  94 | house  | E000175 | David    | Farnham   | Emery     | <!----> | 9/1/48   | ME | R  | No | 1/14/75 | 26.4 |\n",
       "| 107 | house  | P000586 | Adam     | H.        | Putnam    | <!----> | 7/31/74  | FL | R  | No | 1/3/01  | 26.4 |\n",
       "|  89 | house  | J000151 | Jed      | Joseph    | Johnson   | Jr. | 12/27/39 | OK | D  | No | 1/4/65  | 25.0 |\n",
       "\n"
      ],
      "text/plain": [
       "  congress chamber bioguide firstname middlename lastname  suffix birthday\n",
       "1  86      house   A000105  Thomas    Dale       Alford           1/28/16 \n",
       "2  80      house   I000046  Leo                  Isacson          4/20/10 \n",
       "3  88      senate  M000851  Walter    Frederick  Mondale          1/5/28  \n",
       "4  81      house   R000425  Franklin  Delano     Roosevelt Jr.    8/17/14 \n",
       "5  94      house   E000175  David     Farnham    Emery            9/1/48  \n",
       "6 107      house   P000586  Adam      H.         Putnam           7/31/74 \n",
       "7  89      house   J000151  Jed       Joseph     Johnson   Jr.    12/27/39\n",
       "  state party incumbent termstart age \n",
       "1 AR    ID    No        1/7/59    42.9\n",
       "2 NY    AL    No        1/3/47    36.7\n",
       "3 MN    I     No        1/9/63    35.0\n",
       "4 NY    L     No        1/3/49    34.4\n",
       "5 ME    R     No        1/14/75   26.4\n",
       "6 FL    R     No        1/3/01    26.4\n",
       "7 OK    D     No        1/4/65    25.0"
      ]
     },
     "metadata": {},
     "output_type": "display_data"
    },
    {
     "data": {
      "text/html": [
       "<table>\n",
       "<caption>A grouped_df: 6 × 13</caption>\n",
       "<thead>\n",
       "\t<tr><th scope=col>congress</th><th scope=col>chamber</th><th scope=col>bioguide</th><th scope=col>firstname</th><th scope=col>middlename</th><th scope=col>lastname</th><th scope=col>suffix</th><th scope=col>birthday</th><th scope=col>state</th><th scope=col>party</th><th scope=col>incumbent</th><th scope=col>termstart</th><th scope=col>age</th></tr>\n",
       "\t<tr><th scope=col>&lt;int&gt;</th><th scope=col>&lt;fct&gt;</th><th scope=col>&lt;fct&gt;</th><th scope=col>&lt;fct&gt;</th><th scope=col>&lt;fct&gt;</th><th scope=col>&lt;fct&gt;</th><th scope=col>&lt;fct&gt;</th><th scope=col>&lt;fct&gt;</th><th scope=col>&lt;fct&gt;</th><th scope=col>&lt;fct&gt;</th><th scope=col>&lt;fct&gt;</th><th scope=col>&lt;fct&gt;</th><th scope=col>&lt;dbl&gt;</th></tr>\n",
       "</thead>\n",
       "<tbody>\n",
       "\t<tr><td> 81</td><td>house </td><td>R000425</td><td>Franklin</td><td>Delano </td><td>Roosevelt  </td><td>Jr.</td><td>8/17/14   </td><td>NY</td><td>L </td><td>No </td><td>1/3/49</td><td>34.4</td></tr>\n",
       "\t<tr><td> 81</td><td>house </td><td>M000122</td><td>Vito    </td><td>Anthony</td><td>Marcantonio</td><td>   </td><td>1902-12-10</td><td>NY</td><td>AL</td><td>Yes</td><td>1/3/49</td><td>46.1</td></tr>\n",
       "\t<tr><td>111</td><td>senate</td><td>L000304</td><td>Joseph  </td><td>I.     </td><td>Lieberman  </td><td>   </td><td>2/24/42   </td><td>CT</td><td>ID</td><td>Yes</td><td>1/6/09</td><td>66.9</td></tr>\n",
       "\t<tr><td>113</td><td>senate</td><td>S000033</td><td>Bernard </td><td>       </td><td>Sanders    </td><td>   </td><td>9/8/41    </td><td>VT</td><td>I </td><td>Yes</td><td>1/3/13</td><td>71.3</td></tr>\n",
       "\t<tr><td>111</td><td>senate</td><td>B001210</td><td>Robert  </td><td>C.     </td><td>Byrd       </td><td>   </td><td>11/19/13  </td><td>WV</td><td>D </td><td>Yes</td><td>1/6/09</td><td>95.1</td></tr>\n",
       "\t<tr><td>107</td><td>senate</td><td>T000254</td><td>J.      </td><td>Strom  </td><td>Thurmond   </td><td>   </td><td>1902-12-05</td><td>SC</td><td>R </td><td>Yes</td><td>1/3/01</td><td>98.1</td></tr>\n",
       "</tbody>\n",
       "</table>\n"
      ],
      "text/latex": [
       "A grouped_df: 6 × 13\n",
       "\\begin{tabular}{r|lllllllllllll}\n",
       " congress & chamber & bioguide & firstname & middlename & lastname & suffix & birthday & state & party & incumbent & termstart & age\\\\\n",
       " <int> & <fct> & <fct> & <fct> & <fct> & <fct> & <fct> & <fct> & <fct> & <fct> & <fct> & <fct> & <dbl>\\\\\n",
       "\\hline\n",
       "\t  81 & house  & R000425 & Franklin & Delano  & Roosevelt   & Jr. & 8/17/14    & NY & L  & No  & 1/3/49 & 34.4\\\\\n",
       "\t  81 & house  & M000122 & Vito     & Anthony & Marcantonio &     & 1902-12-10 & NY & AL & Yes & 1/3/49 & 46.1\\\\\n",
       "\t 111 & senate & L000304 & Joseph   & I.      & Lieberman   &     & 2/24/42    & CT & ID & Yes & 1/6/09 & 66.9\\\\\n",
       "\t 113 & senate & S000033 & Bernard  &         & Sanders     &     & 9/8/41     & VT & I  & Yes & 1/3/13 & 71.3\\\\\n",
       "\t 111 & senate & B001210 & Robert   & C.      & Byrd        &     & 11/19/13   & WV & D  & Yes & 1/6/09 & 95.1\\\\\n",
       "\t 107 & senate & T000254 & J.       & Strom   & Thurmond    &     & 1902-12-05 & SC & R  & Yes & 1/3/01 & 98.1\\\\\n",
       "\\end{tabular}\n"
      ],
      "text/markdown": [
       "\n",
       "A grouped_df: 6 × 13\n",
       "\n",
       "| congress &lt;int&gt; | chamber &lt;fct&gt; | bioguide &lt;fct&gt; | firstname &lt;fct&gt; | middlename &lt;fct&gt; | lastname &lt;fct&gt; | suffix &lt;fct&gt; | birthday &lt;fct&gt; | state &lt;fct&gt; | party &lt;fct&gt; | incumbent &lt;fct&gt; | termstart &lt;fct&gt; | age &lt;dbl&gt; |\n",
       "|---|---|---|---|---|---|---|---|---|---|---|---|---|\n",
       "|  81 | house  | R000425 | Franklin | Delano  | Roosevelt   | Jr. | 8/17/14    | NY | L  | No  | 1/3/49 | 34.4 |\n",
       "|  81 | house  | M000122 | Vito     | Anthony | Marcantonio | <!----> | 1902-12-10 | NY | AL | Yes | 1/3/49 | 46.1 |\n",
       "| 111 | senate | L000304 | Joseph   | I.      | Lieberman   | <!----> | 2/24/42    | CT | ID | Yes | 1/6/09 | 66.9 |\n",
       "| 113 | senate | S000033 | Bernard  | <!----> | Sanders     | <!----> | 9/8/41     | VT | I  | Yes | 1/3/13 | 71.3 |\n",
       "| 111 | senate | B001210 | Robert   | C.      | Byrd        | <!----> | 11/19/13   | WV | D  | Yes | 1/6/09 | 95.1 |\n",
       "| 107 | senate | T000254 | J.       | Strom   | Thurmond    | <!----> | 1902-12-05 | SC | R  | Yes | 1/3/01 | 98.1 |\n",
       "\n"
      ],
      "text/plain": [
       "  congress chamber bioguide firstname middlename lastname    suffix birthday  \n",
       "1  81      house   R000425  Franklin  Delano     Roosevelt   Jr.    8/17/14   \n",
       "2  81      house   M000122  Vito      Anthony    Marcantonio        1902-12-10\n",
       "3 111      senate  L000304  Joseph    I.         Lieberman          2/24/42   \n",
       "4 113      senate  S000033  Bernard              Sanders            9/8/41    \n",
       "5 111      senate  B001210  Robert    C.         Byrd               11/19/13  \n",
       "6 107      senate  T000254  J.        Strom      Thurmond           1902-12-05\n",
       "  state party incumbent termstart age \n",
       "1 NY    L     No        1/3/49    34.4\n",
       "2 NY    AL    Yes       1/3/49    46.1\n",
       "3 CT    ID    Yes       1/6/09    66.9\n",
       "4 VT    I     Yes       1/3/13    71.3\n",
       "5 WV    D     Yes       1/6/09    95.1\n",
       "6 SC    R     Yes       1/3/01    98.1"
      ]
     },
     "metadata": {},
     "output_type": "display_data"
    }
   ],
   "source": [
    "# Exercise 4 code goes here\n",
    "# -------------------------\n",
    "df %>%\n",
    "group_by(party) %>%\n",
    "top_n(n = 1, wt = -age)\n",
    "\n",
    "df %>%\n",
    "group_by(party) %>%\n",
    "top_n(n = 1, wt = age)"
   ]
  },
  {
   "cell_type": "raw",
   "metadata": {},
   "source": [
    "Answer the question above here.\n",
    "4. The oldest member for AL is Leo Isacson, L is FDR, ID is Thomas Alford, I is Walter mondale, D is Jed Joseph, R is a tie between David Emery and Adam Putnam.\n",
    "   The youngest member for AL is Vito Marcantonio, L is also FDR, ID is Joe Lieberman, I is Bernie Sanders, D is Robert Byrd, and R is Strom Thurmond."
   ]
  },
  {
   "cell_type": "markdown",
   "metadata": {},
   "source": [
    "There is a column in this data frame called `bioguide`. This is a unique id for each individual in the data set. As you are probably aware, many politicians have multiple terms.\n",
    "\n",
    "**Exercise 5**: Who is the politician with the most terms?"
   ]
  },
  {
   "cell_type": "code",
   "execution_count": 75,
   "metadata": {},
   "outputs": [
    {
     "data": {
      "text/html": [
       "<table>\n",
       "<caption>A grouped_df: 3192 × 4</caption>\n",
       "<thead>\n",
       "\t<tr><th scope=col>bioguide</th><th scope=col>firstname</th><th scope=col>lastname</th><th scope=col>terms</th></tr>\n",
       "\t<tr><th scope=col>&lt;fct&gt;</th><th scope=col>&lt;fct&gt;</th><th scope=col>&lt;fct&gt;</th><th scope=col>&lt;int&gt;</th></tr>\n",
       "</thead>\n",
       "<tbody>\n",
       "\t<tr><td>D000355</td><td>John   </td><td>Dingell </td><td>30</td></tr>\n",
       "\t<tr><td>B001210</td><td>Robert </td><td>Byrd    </td><td>29</td></tr>\n",
       "\t<tr><td>I000025</td><td>Daniel </td><td>Inouye  </td><td>27</td></tr>\n",
       "\t<tr><td>T000254</td><td>J.     </td><td>Thurmond</td><td>26</td></tr>\n",
       "\t<tr><td>C000714</td><td>John   </td><td>Conyers </td><td>25</td></tr>\n",
       "\t<tr><td>K000105</td><td>Edward </td><td>Kennedy </td><td>25</td></tr>\n",
       "\t<tr><td>W000428</td><td>Jamie  </td><td>Whitten </td><td>24</td></tr>\n",
       "\t<tr><td>Y000013</td><td>Sidney </td><td>Yates   </td><td>24</td></tr>\n",
       "\t<tr><td>B000371</td><td>Charles</td><td>Bennett </td><td>22</td></tr>\n",
       "\t<tr><td>C000567</td><td>Thad   </td><td>Cochran </td><td>22</td></tr>\n",
       "\t<tr><td>R000053</td><td>Charles</td><td>Rangel  </td><td>22</td></tr>\n",
       "\t<tr><td>Y000031</td><td>C.     </td><td>Young   </td><td>22</td></tr>\n",
       "\t<tr><td>B000243</td><td>Max    </td><td>Baucus  </td><td>21</td></tr>\n",
       "\t<tr><td>B000880</td><td>Jack   </td><td>Brooks  </td><td>21</td></tr>\n",
       "\t<tr><td>M000133</td><td>Edward </td><td>Markey  </td><td>21</td></tr>\n",
       "\t<tr><td>N000009</td><td>William</td><td>Natcher </td><td>21</td></tr>\n",
       "\t<tr><td>O000007</td><td>David  </td><td>Obey    </td><td>21</td></tr>\n",
       "\t<tr><td>P000522</td><td>Charles</td><td>Price   </td><td>21</td></tr>\n",
       "\t<tr><td>S000852</td><td>John   </td><td>Stennis </td><td>21</td></tr>\n",
       "\t<tr><td>S000888</td><td>Ted    </td><td>Stevens </td><td>21</td></tr>\n",
       "\t<tr><td>Y000033</td><td>Don    </td><td>Young   </td><td>21</td></tr>\n",
       "\t<tr><td>G000386</td><td>Charles</td><td>Grassley</td><td>20</td></tr>\n",
       "\t<tr><td>H000206</td><td>Thomas </td><td>Harkin  </td><td>20</td></tr>\n",
       "\t<tr><td>H000725</td><td>Ernest </td><td>Hollings</td><td>20</td></tr>\n",
       "\t<tr><td>L000174</td><td>Patrick</td><td>Leahy   </td><td>20</td></tr>\n",
       "\t<tr><td>L000428</td><td>Russell</td><td>Long    </td><td>20</td></tr>\n",
       "\t<tr><td>M000725</td><td>George </td><td>Miller  </td><td>20</td></tr>\n",
       "\t<tr><td>R000374</td><td>Peter  </td><td>Rodino  </td><td>20</td></tr>\n",
       "\t<tr><td>S000810</td><td>Fortney</td><td>Stark   </td><td>20</td></tr>\n",
       "\t<tr><td>W000215</td><td>Henry  </td><td>Waxman  </td><td>20</td></tr>\n",
       "\t<tr><td>⋮</td><td>⋮</td><td>⋮</td><td>⋮</td></tr>\n",
       "\t<tr><td>W000123</td><td>Herbert  </td><td>Warburton </td><td>1</td></tr>\n",
       "\t<tr><td>W000139</td><td>Michael  </td><td>Ward      </td><td>1</td></tr>\n",
       "\t<tr><td>W000226</td><td>James    </td><td>Weaver    </td><td>1</td></tr>\n",
       "\t<tr><td>W000235</td><td>Edward   </td><td>Weber     </td><td>1</td></tr>\n",
       "\t<tr><td>W000304</td><td>Milton   </td><td>West      </td><td>1</td></tr>\n",
       "\t<tr><td>W000359</td><td>Cecil    </td><td>White     </td><td>1</td></tr>\n",
       "\t<tr><td>W000361</td><td>Compton  </td><td>White     </td><td>1</td></tr>\n",
       "\t<tr><td>W000396</td><td>Wallace  </td><td>White     </td><td>1</td></tr>\n",
       "\t<tr><td>W000581</td><td>George   </td><td>Wilson    </td><td>1</td></tr>\n",
       "\t<tr><td>W000582</td><td>George   </td><td>Wilson    </td><td>1</td></tr>\n",
       "\t<tr><td>W000666</td><td>Thomas   </td><td>Wofford   </td><td>1</td></tr>\n",
       "\t<tr><td>W000671</td><td>John     </td><td>Wold      </td><td>1</td></tr>\n",
       "\t<tr><td>W000675</td><td>Leonard  </td><td>Wolf      </td><td>1</td></tr>\n",
       "\t<tr><td>W000700</td><td>John     </td><td>Wood      </td><td>1</td></tr>\n",
       "\t<tr><td>W000714</td><td>Chase    </td><td>Woodhouse </td><td>1</td></tr>\n",
       "\t<tr><td>W000777</td><td>Joseph   </td><td>Wyatt     </td><td>1</td></tr>\n",
       "\t<tr><td>W000807</td><td>Allen    </td><td>West      </td><td>1</td></tr>\n",
       "\t<tr><td>W000811</td><td>Joe      </td><td>Walsh     </td><td>1</td></tr>\n",
       "\t<tr><td>W000812</td><td>Ann      </td><td>Wagner    </td><td>1</td></tr>\n",
       "\t<tr><td>W000813</td><td>Jackie   </td><td>Walorski  </td><td>1</td></tr>\n",
       "\t<tr><td>W000814</td><td>Randy    </td><td>Weber     </td><td>1</td></tr>\n",
       "\t<tr><td>W000815</td><td>Brad     </td><td>Wenstrup  </td><td>1</td></tr>\n",
       "\t<tr><td>W000816</td><td>Roger    </td><td>Williams  </td><td>1</td></tr>\n",
       "\t<tr><td>W000817</td><td>Elizabeth</td><td>Warren    </td><td>1</td></tr>\n",
       "\t<tr><td>W000818</td><td>John     </td><td>Walsh     </td><td>1</td></tr>\n",
       "\t<tr><td>Y000035</td><td>Edward   </td><td>Young     </td><td>1</td></tr>\n",
       "\t<tr><td>Y000052</td><td>Samuel   </td><td>Young     </td><td>1</td></tr>\n",
       "\t<tr><td>Y000058</td><td>Harold   </td><td>Youngblood</td><td>1</td></tr>\n",
       "\t<tr><td>Y000065</td><td>Ted      </td><td>Yoho      </td><td>1</td></tr>\n",
       "\t<tr><td>Z000009</td><td>Orville  </td><td>Zimmerman </td><td>1</td></tr>\n",
       "</tbody>\n",
       "</table>\n"
      ],
      "text/latex": [
       "A grouped_df: 3192 × 4\n",
       "\\begin{tabular}{r|llll}\n",
       " bioguide & firstname & lastname & terms\\\\\n",
       " <fct> & <fct> & <fct> & <int>\\\\\n",
       "\\hline\n",
       "\t D000355 & John    & Dingell  & 30\\\\\n",
       "\t B001210 & Robert  & Byrd     & 29\\\\\n",
       "\t I000025 & Daniel  & Inouye   & 27\\\\\n",
       "\t T000254 & J.      & Thurmond & 26\\\\\n",
       "\t C000714 & John    & Conyers  & 25\\\\\n",
       "\t K000105 & Edward  & Kennedy  & 25\\\\\n",
       "\t W000428 & Jamie   & Whitten  & 24\\\\\n",
       "\t Y000013 & Sidney  & Yates    & 24\\\\\n",
       "\t B000371 & Charles & Bennett  & 22\\\\\n",
       "\t C000567 & Thad    & Cochran  & 22\\\\\n",
       "\t R000053 & Charles & Rangel   & 22\\\\\n",
       "\t Y000031 & C.      & Young    & 22\\\\\n",
       "\t B000243 & Max     & Baucus   & 21\\\\\n",
       "\t B000880 & Jack    & Brooks   & 21\\\\\n",
       "\t M000133 & Edward  & Markey   & 21\\\\\n",
       "\t N000009 & William & Natcher  & 21\\\\\n",
       "\t O000007 & David   & Obey     & 21\\\\\n",
       "\t P000522 & Charles & Price    & 21\\\\\n",
       "\t S000852 & John    & Stennis  & 21\\\\\n",
       "\t S000888 & Ted     & Stevens  & 21\\\\\n",
       "\t Y000033 & Don     & Young    & 21\\\\\n",
       "\t G000386 & Charles & Grassley & 20\\\\\n",
       "\t H000206 & Thomas  & Harkin   & 20\\\\\n",
       "\t H000725 & Ernest  & Hollings & 20\\\\\n",
       "\t L000174 & Patrick & Leahy    & 20\\\\\n",
       "\t L000428 & Russell & Long     & 20\\\\\n",
       "\t M000725 & George  & Miller   & 20\\\\\n",
       "\t R000374 & Peter   & Rodino   & 20\\\\\n",
       "\t S000810 & Fortney & Stark    & 20\\\\\n",
       "\t W000215 & Henry   & Waxman   & 20\\\\\n",
       "\t ⋮ & ⋮ & ⋮ & ⋮\\\\\n",
       "\t W000123 & Herbert   & Warburton  & 1\\\\\n",
       "\t W000139 & Michael   & Ward       & 1\\\\\n",
       "\t W000226 & James     & Weaver     & 1\\\\\n",
       "\t W000235 & Edward    & Weber      & 1\\\\\n",
       "\t W000304 & Milton    & West       & 1\\\\\n",
       "\t W000359 & Cecil     & White      & 1\\\\\n",
       "\t W000361 & Compton   & White      & 1\\\\\n",
       "\t W000396 & Wallace   & White      & 1\\\\\n",
       "\t W000581 & George    & Wilson     & 1\\\\\n",
       "\t W000582 & George    & Wilson     & 1\\\\\n",
       "\t W000666 & Thomas    & Wofford    & 1\\\\\n",
       "\t W000671 & John      & Wold       & 1\\\\\n",
       "\t W000675 & Leonard   & Wolf       & 1\\\\\n",
       "\t W000700 & John      & Wood       & 1\\\\\n",
       "\t W000714 & Chase     & Woodhouse  & 1\\\\\n",
       "\t W000777 & Joseph    & Wyatt      & 1\\\\\n",
       "\t W000807 & Allen     & West       & 1\\\\\n",
       "\t W000811 & Joe       & Walsh      & 1\\\\\n",
       "\t W000812 & Ann       & Wagner     & 1\\\\\n",
       "\t W000813 & Jackie    & Walorski   & 1\\\\\n",
       "\t W000814 & Randy     & Weber      & 1\\\\\n",
       "\t W000815 & Brad      & Wenstrup   & 1\\\\\n",
       "\t W000816 & Roger     & Williams   & 1\\\\\n",
       "\t W000817 & Elizabeth & Warren     & 1\\\\\n",
       "\t W000818 & John      & Walsh      & 1\\\\\n",
       "\t Y000035 & Edward    & Young      & 1\\\\\n",
       "\t Y000052 & Samuel    & Young      & 1\\\\\n",
       "\t Y000058 & Harold    & Youngblood & 1\\\\\n",
       "\t Y000065 & Ted       & Yoho       & 1\\\\\n",
       "\t Z000009 & Orville   & Zimmerman  & 1\\\\\n",
       "\\end{tabular}\n"
      ],
      "text/markdown": [
       "\n",
       "A grouped_df: 3192 × 4\n",
       "\n",
       "| bioguide &lt;fct&gt; | firstname &lt;fct&gt; | lastname &lt;fct&gt; | terms &lt;int&gt; |\n",
       "|---|---|---|---|\n",
       "| D000355 | John    | Dingell  | 30 |\n",
       "| B001210 | Robert  | Byrd     | 29 |\n",
       "| I000025 | Daniel  | Inouye   | 27 |\n",
       "| T000254 | J.      | Thurmond | 26 |\n",
       "| C000714 | John    | Conyers  | 25 |\n",
       "| K000105 | Edward  | Kennedy  | 25 |\n",
       "| W000428 | Jamie   | Whitten  | 24 |\n",
       "| Y000013 | Sidney  | Yates    | 24 |\n",
       "| B000371 | Charles | Bennett  | 22 |\n",
       "| C000567 | Thad    | Cochran  | 22 |\n",
       "| R000053 | Charles | Rangel   | 22 |\n",
       "| Y000031 | C.      | Young    | 22 |\n",
       "| B000243 | Max     | Baucus   | 21 |\n",
       "| B000880 | Jack    | Brooks   | 21 |\n",
       "| M000133 | Edward  | Markey   | 21 |\n",
       "| N000009 | William | Natcher  | 21 |\n",
       "| O000007 | David   | Obey     | 21 |\n",
       "| P000522 | Charles | Price    | 21 |\n",
       "| S000852 | John    | Stennis  | 21 |\n",
       "| S000888 | Ted     | Stevens  | 21 |\n",
       "| Y000033 | Don     | Young    | 21 |\n",
       "| G000386 | Charles | Grassley | 20 |\n",
       "| H000206 | Thomas  | Harkin   | 20 |\n",
       "| H000725 | Ernest  | Hollings | 20 |\n",
       "| L000174 | Patrick | Leahy    | 20 |\n",
       "| L000428 | Russell | Long     | 20 |\n",
       "| M000725 | George  | Miller   | 20 |\n",
       "| R000374 | Peter   | Rodino   | 20 |\n",
       "| S000810 | Fortney | Stark    | 20 |\n",
       "| W000215 | Henry   | Waxman   | 20 |\n",
       "| ⋮ | ⋮ | ⋮ | ⋮ |\n",
       "| W000123 | Herbert   | Warburton  | 1 |\n",
       "| W000139 | Michael   | Ward       | 1 |\n",
       "| W000226 | James     | Weaver     | 1 |\n",
       "| W000235 | Edward    | Weber      | 1 |\n",
       "| W000304 | Milton    | West       | 1 |\n",
       "| W000359 | Cecil     | White      | 1 |\n",
       "| W000361 | Compton   | White      | 1 |\n",
       "| W000396 | Wallace   | White      | 1 |\n",
       "| W000581 | George    | Wilson     | 1 |\n",
       "| W000582 | George    | Wilson     | 1 |\n",
       "| W000666 | Thomas    | Wofford    | 1 |\n",
       "| W000671 | John      | Wold       | 1 |\n",
       "| W000675 | Leonard   | Wolf       | 1 |\n",
       "| W000700 | John      | Wood       | 1 |\n",
       "| W000714 | Chase     | Woodhouse  | 1 |\n",
       "| W000777 | Joseph    | Wyatt      | 1 |\n",
       "| W000807 | Allen     | West       | 1 |\n",
       "| W000811 | Joe       | Walsh      | 1 |\n",
       "| W000812 | Ann       | Wagner     | 1 |\n",
       "| W000813 | Jackie    | Walorski   | 1 |\n",
       "| W000814 | Randy     | Weber      | 1 |\n",
       "| W000815 | Brad      | Wenstrup   | 1 |\n",
       "| W000816 | Roger     | Williams   | 1 |\n",
       "| W000817 | Elizabeth | Warren     | 1 |\n",
       "| W000818 | John      | Walsh      | 1 |\n",
       "| Y000035 | Edward    | Young      | 1 |\n",
       "| Y000052 | Samuel    | Young      | 1 |\n",
       "| Y000058 | Harold    | Youngblood | 1 |\n",
       "| Y000065 | Ted       | Yoho       | 1 |\n",
       "| Z000009 | Orville   | Zimmerman  | 1 |\n",
       "\n"
      ],
      "text/plain": [
       "     bioguide firstname lastname   terms\n",
       "1    D000355  John      Dingell    30   \n",
       "2    B001210  Robert    Byrd       29   \n",
       "3    I000025  Daniel    Inouye     27   \n",
       "4    T000254  J.        Thurmond   26   \n",
       "5    C000714  John      Conyers    25   \n",
       "6    K000105  Edward    Kennedy    25   \n",
       "7    W000428  Jamie     Whitten    24   \n",
       "8    Y000013  Sidney    Yates      24   \n",
       "9    B000371  Charles   Bennett    22   \n",
       "10   C000567  Thad      Cochran    22   \n",
       "11   R000053  Charles   Rangel     22   \n",
       "12   Y000031  C.        Young      22   \n",
       "13   B000243  Max       Baucus     21   \n",
       "14   B000880  Jack      Brooks     21   \n",
       "15   M000133  Edward    Markey     21   \n",
       "16   N000009  William   Natcher    21   \n",
       "17   O000007  David     Obey       21   \n",
       "18   P000522  Charles   Price      21   \n",
       "19   S000852  John      Stennis    21   \n",
       "20   S000888  Ted       Stevens    21   \n",
       "21   Y000033  Don       Young      21   \n",
       "22   G000386  Charles   Grassley   20   \n",
       "23   H000206  Thomas    Harkin     20   \n",
       "24   H000725  Ernest    Hollings   20   \n",
       "25   L000174  Patrick   Leahy      20   \n",
       "26   L000428  Russell   Long       20   \n",
       "27   M000725  George    Miller     20   \n",
       "28   R000374  Peter     Rodino     20   \n",
       "29   S000810  Fortney   Stark      20   \n",
       "30   W000215  Henry     Waxman     20   \n",
       "⋮    ⋮        ⋮         ⋮          ⋮    \n",
       "3163 W000123  Herbert   Warburton  1    \n",
       "3164 W000139  Michael   Ward       1    \n",
       "3165 W000226  James     Weaver     1    \n",
       "3166 W000235  Edward    Weber      1    \n",
       "3167 W000304  Milton    West       1    \n",
       "3168 W000359  Cecil     White      1    \n",
       "3169 W000361  Compton   White      1    \n",
       "3170 W000396  Wallace   White      1    \n",
       "3171 W000581  George    Wilson     1    \n",
       "3172 W000582  George    Wilson     1    \n",
       "3173 W000666  Thomas    Wofford    1    \n",
       "3174 W000671  John      Wold       1    \n",
       "3175 W000675  Leonard   Wolf       1    \n",
       "3176 W000700  John      Wood       1    \n",
       "3177 W000714  Chase     Woodhouse  1    \n",
       "3178 W000777  Joseph    Wyatt      1    \n",
       "3179 W000807  Allen     West       1    \n",
       "3180 W000811  Joe       Walsh      1    \n",
       "3181 W000812  Ann       Wagner     1    \n",
       "3182 W000813  Jackie    Walorski   1    \n",
       "3183 W000814  Randy     Weber      1    \n",
       "3184 W000815  Brad      Wenstrup   1    \n",
       "3185 W000816  Roger     Williams   1    \n",
       "3186 W000817  Elizabeth Warren     1    \n",
       "3187 W000818  John      Walsh      1    \n",
       "3188 Y000035  Edward    Young      1    \n",
       "3189 Y000052  Samuel    Young      1    \n",
       "3190 Y000058  Harold    Youngblood 1    \n",
       "3191 Y000065  Ted       Yoho       1    \n",
       "3192 Z000009  Orville   Zimmerman  1    "
      ]
     },
     "metadata": {},
     "output_type": "display_data"
    }
   ],
   "source": [
    "# Exercise 5 code goes here\n",
    "# -------------------------\n",
    "df %>%\n",
    "group_by(bioguide, firstname, lastname) %>%\n",
    "#arrange(count(bioguide))\n",
    "summarize(terms = n()) %>%\n",
    "#mostTerms <- subset(df$terms)\n",
    "#top_n(1, wt = terms)\n",
    "#head(numTerms[order(numTerms$terms, decreasing = TRUE), ])\n",
    "arrange(desc(terms))"
   ]
  },
  {
   "cell_type": "raw",
   "metadata": {},
   "source": [
    "Answer the question above here.\n",
    "5. John\tDingell\twith 30 terms"
   ]
  },
  {
   "cell_type": "markdown",
   "metadata": {},
   "source": [
    "**Exercise 6**: Who has had the most Senate terms? House terms?"
   ]
  },
  {
   "cell_type": "code",
   "execution_count": 77,
   "metadata": {},
   "outputs": [
    {
     "data": {
      "text/html": [
       "<table>\n",
       "<caption>A grouped_df: 3370 × 5</caption>\n",
       "<thead>\n",
       "\t<tr><th scope=col>bioguide</th><th scope=col>chamber</th><th scope=col>firstname</th><th scope=col>lastname</th><th scope=col>terms</th></tr>\n",
       "\t<tr><th scope=col>&lt;fct&gt;</th><th scope=col>&lt;fct&gt;</th><th scope=col>&lt;fct&gt;</th><th scope=col>&lt;fct&gt;</th><th scope=col>&lt;int&gt;</th></tr>\n",
       "</thead>\n",
       "<tbody>\n",
       "\t<tr><td>D000355</td><td>house </td><td>John   </td><td>Dingell </td><td>30</td></tr>\n",
       "\t<tr><td>B001210</td><td>senate</td><td>Robert </td><td>Byrd    </td><td>26</td></tr>\n",
       "\t<tr><td>T000254</td><td>senate</td><td>J.     </td><td>Thurmond</td><td>26</td></tr>\n",
       "\t<tr><td>C000714</td><td>house </td><td>John   </td><td>Conyers </td><td>25</td></tr>\n",
       "\t<tr><td>I000025</td><td>senate</td><td>Daniel </td><td>Inouye  </td><td>25</td></tr>\n",
       "\t<tr><td>K000105</td><td>senate</td><td>Edward </td><td>Kennedy </td><td>25</td></tr>\n",
       "\t<tr><td>W000428</td><td>house </td><td>Jamie  </td><td>Whitten </td><td>24</td></tr>\n",
       "\t<tr><td>Y000013</td><td>house </td><td>Sidney </td><td>Yates   </td><td>24</td></tr>\n",
       "\t<tr><td>B000371</td><td>house </td><td>Charles</td><td>Bennett </td><td>22</td></tr>\n",
       "\t<tr><td>R000053</td><td>house </td><td>Charles</td><td>Rangel  </td><td>22</td></tr>\n",
       "\t<tr><td>Y000031</td><td>house </td><td>C.     </td><td>Young   </td><td>22</td></tr>\n",
       "\t<tr><td>B000880</td><td>house </td><td>Jack   </td><td>Brooks  </td><td>21</td></tr>\n",
       "\t<tr><td>N000009</td><td>house </td><td>William</td><td>Natcher </td><td>21</td></tr>\n",
       "\t<tr><td>O000007</td><td>house </td><td>David  </td><td>Obey    </td><td>21</td></tr>\n",
       "\t<tr><td>P000522</td><td>house </td><td>Charles</td><td>Price   </td><td>21</td></tr>\n",
       "\t<tr><td>S000852</td><td>senate</td><td>John   </td><td>Stennis </td><td>21</td></tr>\n",
       "\t<tr><td>S000888</td><td>senate</td><td>Ted    </td><td>Stevens </td><td>21</td></tr>\n",
       "\t<tr><td>Y000033</td><td>house </td><td>Don    </td><td>Young   </td><td>21</td></tr>\n",
       "\t<tr><td>H000725</td><td>senate</td><td>Ernest </td><td>Hollings</td><td>20</td></tr>\n",
       "\t<tr><td>L000174</td><td>senate</td><td>Patrick</td><td>Leahy   </td><td>20</td></tr>\n",
       "\t<tr><td>L000428</td><td>senate</td><td>Russell</td><td>Long    </td><td>20</td></tr>\n",
       "\t<tr><td>M000133</td><td>house </td><td>Edward </td><td>Markey  </td><td>20</td></tr>\n",
       "\t<tr><td>M000725</td><td>house </td><td>George </td><td>Miller  </td><td>20</td></tr>\n",
       "\t<tr><td>R000374</td><td>house </td><td>Peter  </td><td>Rodino  </td><td>20</td></tr>\n",
       "\t<tr><td>S000810</td><td>house </td><td>Fortney</td><td>Stark   </td><td>20</td></tr>\n",
       "\t<tr><td>W000215</td><td>house </td><td>Henry  </td><td>Waxman  </td><td>20</td></tr>\n",
       "\t<tr><td>B000243</td><td>senate</td><td>Max    </td><td>Baucus  </td><td>19</td></tr>\n",
       "\t<tr><td>B000444</td><td>senate</td><td>Joseph </td><td>Biden   </td><td>19</td></tr>\n",
       "\t<tr><td>C000567</td><td>senate</td><td>Thad   </td><td>Cochran </td><td>19</td></tr>\n",
       "\t<tr><td>F000041</td><td>house </td><td>Dante  </td><td>Fascell </td><td>19</td></tr>\n",
       "\t<tr><td>⋮</td><td>⋮</td><td>⋮</td><td>⋮</td><td>⋮</td></tr>\n",
       "\t<tr><td>W000253</td><td>house </td><td>Lowell   </td><td>Weicker   </td><td>1</td></tr>\n",
       "\t<tr><td>W000304</td><td>house </td><td>Milton   </td><td>West      </td><td>1</td></tr>\n",
       "\t<tr><td>W000359</td><td>house </td><td>Cecil    </td><td>White     </td><td>1</td></tr>\n",
       "\t<tr><td>W000361</td><td>house </td><td>Compton  </td><td>White     </td><td>1</td></tr>\n",
       "\t<tr><td>W000396</td><td>senate</td><td>Wallace  </td><td>White     </td><td>1</td></tr>\n",
       "\t<tr><td>W000581</td><td>senate</td><td>George   </td><td>Wilson    </td><td>1</td></tr>\n",
       "\t<tr><td>W000582</td><td>house </td><td>George   </td><td>Wilson    </td><td>1</td></tr>\n",
       "\t<tr><td>W000658</td><td>senate</td><td>Garrett  </td><td>Withers   </td><td>1</td></tr>\n",
       "\t<tr><td>W000666</td><td>senate</td><td>Thomas   </td><td>Wofford   </td><td>1</td></tr>\n",
       "\t<tr><td>W000671</td><td>house </td><td>John     </td><td>Wold      </td><td>1</td></tr>\n",
       "\t<tr><td>W000675</td><td>house </td><td>Leonard  </td><td>Wolf      </td><td>1</td></tr>\n",
       "\t<tr><td>W000700</td><td>house </td><td>John     </td><td>Wood      </td><td>1</td></tr>\n",
       "\t<tr><td>W000714</td><td>house </td><td>Chase    </td><td>Woodhouse </td><td>1</td></tr>\n",
       "\t<tr><td>W000777</td><td>house </td><td>Joseph   </td><td>Wyatt     </td><td>1</td></tr>\n",
       "\t<tr><td>W000782</td><td>senate</td><td>Louis    </td><td>Wyman     </td><td>1</td></tr>\n",
       "\t<tr><td>W000807</td><td>house </td><td>Allen    </td><td>West      </td><td>1</td></tr>\n",
       "\t<tr><td>W000811</td><td>house </td><td>Joe      </td><td>Walsh     </td><td>1</td></tr>\n",
       "\t<tr><td>W000812</td><td>house </td><td>Ann      </td><td>Wagner    </td><td>1</td></tr>\n",
       "\t<tr><td>W000813</td><td>house </td><td>Jackie   </td><td>Walorski  </td><td>1</td></tr>\n",
       "\t<tr><td>W000814</td><td>house </td><td>Randy    </td><td>Weber     </td><td>1</td></tr>\n",
       "\t<tr><td>W000815</td><td>house </td><td>Brad     </td><td>Wenstrup  </td><td>1</td></tr>\n",
       "\t<tr><td>W000816</td><td>house </td><td>Roger    </td><td>Williams  </td><td>1</td></tr>\n",
       "\t<tr><td>W000817</td><td>senate</td><td>Elizabeth</td><td>Warren    </td><td>1</td></tr>\n",
       "\t<tr><td>W000818</td><td>senate</td><td>John     </td><td>Walsh     </td><td>1</td></tr>\n",
       "\t<tr><td>Y000035</td><td>house </td><td>Edward   </td><td>Young     </td><td>1</td></tr>\n",
       "\t<tr><td>Y000052</td><td>house </td><td>Samuel   </td><td>Young     </td><td>1</td></tr>\n",
       "\t<tr><td>Y000053</td><td>house </td><td>Stephen  </td><td>Young     </td><td>1</td></tr>\n",
       "\t<tr><td>Y000058</td><td>house </td><td>Harold   </td><td>Youngblood</td><td>1</td></tr>\n",
       "\t<tr><td>Y000065</td><td>house </td><td>Ted      </td><td>Yoho      </td><td>1</td></tr>\n",
       "\t<tr><td>Z000009</td><td>house </td><td>Orville  </td><td>Zimmerman </td><td>1</td></tr>\n",
       "</tbody>\n",
       "</table>\n"
      ],
      "text/latex": [
       "A grouped_df: 3370 × 5\n",
       "\\begin{tabular}{r|lllll}\n",
       " bioguide & chamber & firstname & lastname & terms\\\\\n",
       " <fct> & <fct> & <fct> & <fct> & <int>\\\\\n",
       "\\hline\n",
       "\t D000355 & house  & John    & Dingell  & 30\\\\\n",
       "\t B001210 & senate & Robert  & Byrd     & 26\\\\\n",
       "\t T000254 & senate & J.      & Thurmond & 26\\\\\n",
       "\t C000714 & house  & John    & Conyers  & 25\\\\\n",
       "\t I000025 & senate & Daniel  & Inouye   & 25\\\\\n",
       "\t K000105 & senate & Edward  & Kennedy  & 25\\\\\n",
       "\t W000428 & house  & Jamie   & Whitten  & 24\\\\\n",
       "\t Y000013 & house  & Sidney  & Yates    & 24\\\\\n",
       "\t B000371 & house  & Charles & Bennett  & 22\\\\\n",
       "\t R000053 & house  & Charles & Rangel   & 22\\\\\n",
       "\t Y000031 & house  & C.      & Young    & 22\\\\\n",
       "\t B000880 & house  & Jack    & Brooks   & 21\\\\\n",
       "\t N000009 & house  & William & Natcher  & 21\\\\\n",
       "\t O000007 & house  & David   & Obey     & 21\\\\\n",
       "\t P000522 & house  & Charles & Price    & 21\\\\\n",
       "\t S000852 & senate & John    & Stennis  & 21\\\\\n",
       "\t S000888 & senate & Ted     & Stevens  & 21\\\\\n",
       "\t Y000033 & house  & Don     & Young    & 21\\\\\n",
       "\t H000725 & senate & Ernest  & Hollings & 20\\\\\n",
       "\t L000174 & senate & Patrick & Leahy    & 20\\\\\n",
       "\t L000428 & senate & Russell & Long     & 20\\\\\n",
       "\t M000133 & house  & Edward  & Markey   & 20\\\\\n",
       "\t M000725 & house  & George  & Miller   & 20\\\\\n",
       "\t R000374 & house  & Peter   & Rodino   & 20\\\\\n",
       "\t S000810 & house  & Fortney & Stark    & 20\\\\\n",
       "\t W000215 & house  & Henry   & Waxman   & 20\\\\\n",
       "\t B000243 & senate & Max     & Baucus   & 19\\\\\n",
       "\t B000444 & senate & Joseph  & Biden    & 19\\\\\n",
       "\t C000567 & senate & Thad    & Cochran  & 19\\\\\n",
       "\t F000041 & house  & Dante   & Fascell  & 19\\\\\n",
       "\t ⋮ & ⋮ & ⋮ & ⋮ & ⋮\\\\\n",
       "\t W000253 & house  & Lowell    & Weicker    & 1\\\\\n",
       "\t W000304 & house  & Milton    & West       & 1\\\\\n",
       "\t W000359 & house  & Cecil     & White      & 1\\\\\n",
       "\t W000361 & house  & Compton   & White      & 1\\\\\n",
       "\t W000396 & senate & Wallace   & White      & 1\\\\\n",
       "\t W000581 & senate & George    & Wilson     & 1\\\\\n",
       "\t W000582 & house  & George    & Wilson     & 1\\\\\n",
       "\t W000658 & senate & Garrett   & Withers    & 1\\\\\n",
       "\t W000666 & senate & Thomas    & Wofford    & 1\\\\\n",
       "\t W000671 & house  & John      & Wold       & 1\\\\\n",
       "\t W000675 & house  & Leonard   & Wolf       & 1\\\\\n",
       "\t W000700 & house  & John      & Wood       & 1\\\\\n",
       "\t W000714 & house  & Chase     & Woodhouse  & 1\\\\\n",
       "\t W000777 & house  & Joseph    & Wyatt      & 1\\\\\n",
       "\t W000782 & senate & Louis     & Wyman      & 1\\\\\n",
       "\t W000807 & house  & Allen     & West       & 1\\\\\n",
       "\t W000811 & house  & Joe       & Walsh      & 1\\\\\n",
       "\t W000812 & house  & Ann       & Wagner     & 1\\\\\n",
       "\t W000813 & house  & Jackie    & Walorski   & 1\\\\\n",
       "\t W000814 & house  & Randy     & Weber      & 1\\\\\n",
       "\t W000815 & house  & Brad      & Wenstrup   & 1\\\\\n",
       "\t W000816 & house  & Roger     & Williams   & 1\\\\\n",
       "\t W000817 & senate & Elizabeth & Warren     & 1\\\\\n",
       "\t W000818 & senate & John      & Walsh      & 1\\\\\n",
       "\t Y000035 & house  & Edward    & Young      & 1\\\\\n",
       "\t Y000052 & house  & Samuel    & Young      & 1\\\\\n",
       "\t Y000053 & house  & Stephen   & Young      & 1\\\\\n",
       "\t Y000058 & house  & Harold    & Youngblood & 1\\\\\n",
       "\t Y000065 & house  & Ted       & Yoho       & 1\\\\\n",
       "\t Z000009 & house  & Orville   & Zimmerman  & 1\\\\\n",
       "\\end{tabular}\n"
      ],
      "text/markdown": [
       "\n",
       "A grouped_df: 3370 × 5\n",
       "\n",
       "| bioguide &lt;fct&gt; | chamber &lt;fct&gt; | firstname &lt;fct&gt; | lastname &lt;fct&gt; | terms &lt;int&gt; |\n",
       "|---|---|---|---|---|\n",
       "| D000355 | house  | John    | Dingell  | 30 |\n",
       "| B001210 | senate | Robert  | Byrd     | 26 |\n",
       "| T000254 | senate | J.      | Thurmond | 26 |\n",
       "| C000714 | house  | John    | Conyers  | 25 |\n",
       "| I000025 | senate | Daniel  | Inouye   | 25 |\n",
       "| K000105 | senate | Edward  | Kennedy  | 25 |\n",
       "| W000428 | house  | Jamie   | Whitten  | 24 |\n",
       "| Y000013 | house  | Sidney  | Yates    | 24 |\n",
       "| B000371 | house  | Charles | Bennett  | 22 |\n",
       "| R000053 | house  | Charles | Rangel   | 22 |\n",
       "| Y000031 | house  | C.      | Young    | 22 |\n",
       "| B000880 | house  | Jack    | Brooks   | 21 |\n",
       "| N000009 | house  | William | Natcher  | 21 |\n",
       "| O000007 | house  | David   | Obey     | 21 |\n",
       "| P000522 | house  | Charles | Price    | 21 |\n",
       "| S000852 | senate | John    | Stennis  | 21 |\n",
       "| S000888 | senate | Ted     | Stevens  | 21 |\n",
       "| Y000033 | house  | Don     | Young    | 21 |\n",
       "| H000725 | senate | Ernest  | Hollings | 20 |\n",
       "| L000174 | senate | Patrick | Leahy    | 20 |\n",
       "| L000428 | senate | Russell | Long     | 20 |\n",
       "| M000133 | house  | Edward  | Markey   | 20 |\n",
       "| M000725 | house  | George  | Miller   | 20 |\n",
       "| R000374 | house  | Peter   | Rodino   | 20 |\n",
       "| S000810 | house  | Fortney | Stark    | 20 |\n",
       "| W000215 | house  | Henry   | Waxman   | 20 |\n",
       "| B000243 | senate | Max     | Baucus   | 19 |\n",
       "| B000444 | senate | Joseph  | Biden    | 19 |\n",
       "| C000567 | senate | Thad    | Cochran  | 19 |\n",
       "| F000041 | house  | Dante   | Fascell  | 19 |\n",
       "| ⋮ | ⋮ | ⋮ | ⋮ | ⋮ |\n",
       "| W000253 | house  | Lowell    | Weicker    | 1 |\n",
       "| W000304 | house  | Milton    | West       | 1 |\n",
       "| W000359 | house  | Cecil     | White      | 1 |\n",
       "| W000361 | house  | Compton   | White      | 1 |\n",
       "| W000396 | senate | Wallace   | White      | 1 |\n",
       "| W000581 | senate | George    | Wilson     | 1 |\n",
       "| W000582 | house  | George    | Wilson     | 1 |\n",
       "| W000658 | senate | Garrett   | Withers    | 1 |\n",
       "| W000666 | senate | Thomas    | Wofford    | 1 |\n",
       "| W000671 | house  | John      | Wold       | 1 |\n",
       "| W000675 | house  | Leonard   | Wolf       | 1 |\n",
       "| W000700 | house  | John      | Wood       | 1 |\n",
       "| W000714 | house  | Chase     | Woodhouse  | 1 |\n",
       "| W000777 | house  | Joseph    | Wyatt      | 1 |\n",
       "| W000782 | senate | Louis     | Wyman      | 1 |\n",
       "| W000807 | house  | Allen     | West       | 1 |\n",
       "| W000811 | house  | Joe       | Walsh      | 1 |\n",
       "| W000812 | house  | Ann       | Wagner     | 1 |\n",
       "| W000813 | house  | Jackie    | Walorski   | 1 |\n",
       "| W000814 | house  | Randy     | Weber      | 1 |\n",
       "| W000815 | house  | Brad      | Wenstrup   | 1 |\n",
       "| W000816 | house  | Roger     | Williams   | 1 |\n",
       "| W000817 | senate | Elizabeth | Warren     | 1 |\n",
       "| W000818 | senate | John      | Walsh      | 1 |\n",
       "| Y000035 | house  | Edward    | Young      | 1 |\n",
       "| Y000052 | house  | Samuel    | Young      | 1 |\n",
       "| Y000053 | house  | Stephen   | Young      | 1 |\n",
       "| Y000058 | house  | Harold    | Youngblood | 1 |\n",
       "| Y000065 | house  | Ted       | Yoho       | 1 |\n",
       "| Z000009 | house  | Orville   | Zimmerman  | 1 |\n",
       "\n"
      ],
      "text/plain": [
       "     bioguide chamber firstname lastname   terms\n",
       "1    D000355  house   John      Dingell    30   \n",
       "2    B001210  senate  Robert    Byrd       26   \n",
       "3    T000254  senate  J.        Thurmond   26   \n",
       "4    C000714  house   John      Conyers    25   \n",
       "5    I000025  senate  Daniel    Inouye     25   \n",
       "6    K000105  senate  Edward    Kennedy    25   \n",
       "7    W000428  house   Jamie     Whitten    24   \n",
       "8    Y000013  house   Sidney    Yates      24   \n",
       "9    B000371  house   Charles   Bennett    22   \n",
       "10   R000053  house   Charles   Rangel     22   \n",
       "11   Y000031  house   C.        Young      22   \n",
       "12   B000880  house   Jack      Brooks     21   \n",
       "13   N000009  house   William   Natcher    21   \n",
       "14   O000007  house   David     Obey       21   \n",
       "15   P000522  house   Charles   Price      21   \n",
       "16   S000852  senate  John      Stennis    21   \n",
       "17   S000888  senate  Ted       Stevens    21   \n",
       "18   Y000033  house   Don       Young      21   \n",
       "19   H000725  senate  Ernest    Hollings   20   \n",
       "20   L000174  senate  Patrick   Leahy      20   \n",
       "21   L000428  senate  Russell   Long       20   \n",
       "22   M000133  house   Edward    Markey     20   \n",
       "23   M000725  house   George    Miller     20   \n",
       "24   R000374  house   Peter     Rodino     20   \n",
       "25   S000810  house   Fortney   Stark      20   \n",
       "26   W000215  house   Henry     Waxman     20   \n",
       "27   B000243  senate  Max       Baucus     19   \n",
       "28   B000444  senate  Joseph    Biden      19   \n",
       "29   C000567  senate  Thad      Cochran    19   \n",
       "30   F000041  house   Dante     Fascell    19   \n",
       "⋮    ⋮        ⋮       ⋮         ⋮          ⋮    \n",
       "3341 W000253  house   Lowell    Weicker    1    \n",
       "3342 W000304  house   Milton    West       1    \n",
       "3343 W000359  house   Cecil     White      1    \n",
       "3344 W000361  house   Compton   White      1    \n",
       "3345 W000396  senate  Wallace   White      1    \n",
       "3346 W000581  senate  George    Wilson     1    \n",
       "3347 W000582  house   George    Wilson     1    \n",
       "3348 W000658  senate  Garrett   Withers    1    \n",
       "3349 W000666  senate  Thomas    Wofford    1    \n",
       "3350 W000671  house   John      Wold       1    \n",
       "3351 W000675  house   Leonard   Wolf       1    \n",
       "3352 W000700  house   John      Wood       1    \n",
       "3353 W000714  house   Chase     Woodhouse  1    \n",
       "3354 W000777  house   Joseph    Wyatt      1    \n",
       "3355 W000782  senate  Louis     Wyman      1    \n",
       "3356 W000807  house   Allen     West       1    \n",
       "3357 W000811  house   Joe       Walsh      1    \n",
       "3358 W000812  house   Ann       Wagner     1    \n",
       "3359 W000813  house   Jackie    Walorski   1    \n",
       "3360 W000814  house   Randy     Weber      1    \n",
       "3361 W000815  house   Brad      Wenstrup   1    \n",
       "3362 W000816  house   Roger     Williams   1    \n",
       "3363 W000817  senate  Elizabeth Warren     1    \n",
       "3364 W000818  senate  John      Walsh      1    \n",
       "3365 Y000035  house   Edward    Young      1    \n",
       "3366 Y000052  house   Samuel    Young      1    \n",
       "3367 Y000053  house   Stephen   Young      1    \n",
       "3368 Y000058  house   Harold    Youngblood 1    \n",
       "3369 Y000065  house   Ted       Yoho       1    \n",
       "3370 Z000009  house   Orville   Zimmerman  1    "
      ]
     },
     "metadata": {},
     "output_type": "display_data"
    }
   ],
   "source": [
    "# Exercise 6 code goes here\n",
    "# -------------------------\n",
    "df %>%\n",
    "group_by(bioguide, chamber, firstname, lastname) %>%\n",
    "summarize(terms = n()) %>%\n",
    "arrange(desc(terms))"
   ]
  },
  {
   "cell_type": "raw",
   "metadata": {},
   "source": [
    "Answer the question above here.\n",
    "6. John Dingell had 30 terms in the House and Robert Byrd had 26 terms in the Senate."
   ]
  },
  {
   "cell_type": "markdown",
   "metadata": {},
   "source": [
    "**Challenge Exercise 1**: Using the mean, which party on average holds a higher number of terms per politician? "
   ]
  },
  {
   "cell_type": "code",
   "execution_count": 102,
   "metadata": {},
   "outputs": [
    {
     "data": {
      "text/html": [
       "<table>\n",
       "<caption>A tibble: 6 × 2</caption>\n",
       "<thead>\n",
       "\t<tr><th scope=col>party</th><th scope=col>AvgTerms</th></tr>\n",
       "\t<tr><th scope=col>&lt;fct&gt;</th><th scope=col>&lt;dbl&gt;</th></tr>\n",
       "</thead>\n",
       "<tbody>\n",
       "\t<tr><td>D </td><td>6.213768</td></tr>\n",
       "\t<tr><td>R </td><td>5.341511</td></tr>\n",
       "\t<tr><td>I </td><td>3.500000</td></tr>\n",
       "\t<tr><td>AL</td><td>1.500000</td></tr>\n",
       "\t<tr><td>ID</td><td>1.333333</td></tr>\n",
       "\t<tr><td>L </td><td>1.000000</td></tr>\n",
       "</tbody>\n",
       "</table>\n"
      ],
      "text/latex": [
       "A tibble: 6 × 2\n",
       "\\begin{tabular}{r|ll}\n",
       " party & AvgTerms\\\\\n",
       " <fct> & <dbl>\\\\\n",
       "\\hline\n",
       "\t D  & 6.213768\\\\\n",
       "\t R  & 5.341511\\\\\n",
       "\t I  & 3.500000\\\\\n",
       "\t AL & 1.500000\\\\\n",
       "\t ID & 1.333333\\\\\n",
       "\t L  & 1.000000\\\\\n",
       "\\end{tabular}\n"
      ],
      "text/markdown": [
       "\n",
       "A tibble: 6 × 2\n",
       "\n",
       "| party &lt;fct&gt; | AvgTerms &lt;dbl&gt; |\n",
       "|---|---|\n",
       "| D  | 6.213768 |\n",
       "| R  | 5.341511 |\n",
       "| I  | 3.500000 |\n",
       "| AL | 1.500000 |\n",
       "| ID | 1.333333 |\n",
       "| L  | 1.000000 |\n",
       "\n"
      ],
      "text/plain": [
       "  party AvgTerms\n",
       "1 D     6.213768\n",
       "2 R     5.341511\n",
       "3 I     3.500000\n",
       "4 AL    1.500000\n",
       "5 ID    1.333333\n",
       "6 L     1.000000"
      ]
     },
     "metadata": {},
     "output_type": "display_data"
    }
   ],
   "source": [
    "# Challenge Exercise 1 code goes here\n",
    "# -----------------------------------\n",
    "df %>%\n",
    "group_by(bioguide, party) %>%\n",
    "summarize(terms = n()) %>%\n",
    "group_by(party) %>%\n",
    "summarize(AvgTerms = mean(terms)) %>%\n",
    "arrange(desc(AvgTerms))"
   ]
  },
  {
   "cell_type": "raw",
   "metadata": {},
   "source": [
    "Answer the question above here.\n",
    "1. On average, Democrats hold a higher number of terms per politician."
   ]
  },
  {
   "cell_type": "markdown",
   "metadata": {},
   "source": [
    "**Challenge Exercise 2**: Using the median age, what condition has the strongest linear relationship: Congress Number and Republican House age, Congress Number and Republican Senate age, Congress Number and Democratic House age, or Congress Number and Democratic Senate age."
   ]
  },
  {
   "cell_type": "code",
   "execution_count": 134,
   "metadata": {},
   "outputs": [
    {
     "data": {
      "text/html": [
       "0.123247203900288"
      ],
      "text/latex": [
       "0.123247203900288"
      ],
      "text/markdown": [
       "0.123247203900288"
      ],
      "text/plain": [
       "[1] 0.1232472"
      ]
     },
     "metadata": {},
     "output_type": "display_data"
    },
    {
     "data": {
      "text/html": [
       "0.191407877509663"
      ],
      "text/latex": [
       "0.191407877509663"
      ],
      "text/markdown": [
       "0.191407877509663"
      ],
      "text/plain": [
       "[1] 0.1914079"
      ]
     },
     "metadata": {},
     "output_type": "display_data"
    },
    {
     "data": {
      "text/html": [
       "0.684083687038013"
      ],
      "text/latex": [
       "0.684083687038013"
      ],
      "text/markdown": [
       "0.684083687038013"
      ],
      "text/plain": [
       "[1] 0.6840837"
      ]
     },
     "metadata": {},
     "output_type": "display_data"
    },
    {
     "data": {
      "text/html": [
       "0.594632255936002"
      ],
      "text/latex": [
       "0.594632255936002"
      ],
      "text/markdown": [
       "0.594632255936002"
      ],
      "text/plain": [
       "[1] 0.5946323"
      ]
     },
     "metadata": {},
     "output_type": "display_data"
    }
   ],
   "source": [
    "# Challenge Exercise 2 code goes here\n",
    "# -----------------------------------\n",
    "repHouse <- df %>%\n",
    "group_by(congress, chamber, party) %>%\n",
    "filter(chamber == \"house\" & party == \"R\") %>%\n",
    "summarize(repHouseAge = median(age))\n",
    "cor(repHouse$congress, repHouse$repHouseAge)\n",
    "\n",
    "repSenate <- df %>%\n",
    "group_by(congress, chamber, party) %>%\n",
    "filter(chamber == \"senate\" & party == \"R\") %>%\n",
    "summarize(repSenateAge = median(age))\n",
    "cor(repSenate$congress, repSenate$repSenateAge)\n",
    "\n",
    "demHouse <- df %>%\n",
    "group_by(congress, chamber, party) %>%\n",
    "filter(chamber == \"house\" & party == \"D\") %>%\n",
    "summarize(demHouseAge = median(age))\n",
    "cor(demHouse$congress, demHouse$demHouseAge)\n",
    "\n",
    "demSenate <- df %>%\n",
    "group_by(congress, chamber, party) %>%\n",
    "filter(chamber == \"senate\" & party == \"D\") %>%\n",
    "summarize(demSenateAge = median(age))\n",
    "cor(demSenate$congress, demSenate$demSenateAge)"
   ]
  },
  {
   "cell_type": "raw",
   "metadata": {},
   "source": [
    "Answer the question above here.\n",
    "2. The strongest linear relationship is between Congress Number and Democratic politician in the House."
   ]
  },
  {
   "cell_type": "markdown",
   "metadata": {},
   "source": [
    "**Exercise 7**: Plot the relationship with the strongest linear relationship to visualize the results."
   ]
  },
  {
   "cell_type": "code",
   "execution_count": 130,
   "metadata": {},
   "outputs": [
    {
     "data": {
      "image/png": "[encoded data removed]",
      "text/plain": [
       "plot without title"
      ]
     },
     "metadata": {},
     "output_type": "display_data"
    }
   ],
   "source": [
    "# Exercise 7 code goes here\n",
    "# -------------------------\n",
    "plot(demHouse$congress, demHouse$demHouseAge)\n"
   ]
  },
  {
   "cell_type": "markdown",
   "metadata": {},
   "source": [
    "# Save your notebook, then `File > Close and Halt`"
   ]
  }
 ],
 "metadata": {
  "kernelspec": {
   "display_name": "R",
   "language": "R",
   "name": "ir"
  },
  "language_info": {
   "codemirror_mode": "r",
   "file_extension": ".r",
   "mimetype": "text/x-r-source",
   "name": "R",
   "pygments_lexer": "r",
   "version": "3.5.1"
  }
 },
 "nbformat": 4,
 "nbformat_minor": 2
}
