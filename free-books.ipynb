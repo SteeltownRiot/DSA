{
 "cells": [
  {
   "cell_type": "markdown",
   "metadata": {},
   "source": [
    "# Free Resources "
   ]
  },
  {
   "cell_type": "markdown",
   "metadata": {},
   "source": [
    "**The following books are free. Some of these books are very short (<100 pages). You are NOT required to follow any of these books for this course.**"
   ]
  },
  {
   "cell_type": "markdown",
   "metadata": {},
   "source": [
    "* [Python Data Science Handbook](https://jakevdp.github.io/PythonDataScienceHandbook/)\n",
    "* [Pattern Recognition and Machine Learning](https://www.microsoft.com/en-us/research/publication/pattern-recognition-machine-learning/)\n",
    "* [An Introduction to Statistical Learning](https://www.statlearning.com/) [Examples are in R]\n",
    "* [Understanding Machine Learning: From Theory to Algorithms](https://www.cs.huji.ac.il/~shais/UnderstandingMachineLearning/understanding-machine-learning-theory-algorithms.pdf)\n",
    "* [Seven Steps to Success: Machine Learning in Practice](https://daoudclarke.github.io/guide.pdf)\n",
    "* [Machine Learning Yearning](https://github.com/ajaymache/machine-learning-yearning)\n",
    "* [Rules of Machine Learning: Best practices for Machine Learning Engineering](http://martin.zinkevich.org/rules_of_ml/rules_of_ml.pdf)\n",
    "* [A Brief Introduction to MachineLearning for Engineers](https://arxiv.org/abs/1709.02840)\n",
    "* [Introductory Machine Learning Notes](http://lcsl.mit.edu/courses/ml/1718/MLNotes.pdf)\n",
    "* [Foundations of Machine Learning](https://cs.nyu.edu/~mohri/mlbook/)\n",
    "* [An Introduction to Variable and Feature Selection](https://dl.acm.org/doi/10.5555/944919.944968) \n",
    "* [Automated Machine Learning: Methods, Systems, Challenges](https://www.automl.org/book/)\n",
    "* [Neural Networks and Deep Learning](http://neuralnetworksanddeeplearning.com/)\n",
    "* [Deep Learning](https://www.deeplearningbook.org/)\n",
    "* [Deep Learning with Pytorch](https://pytorch.org/assets/deep-learning/Deep-Learning-with-PyTorch.pdf)\n",
    "* [Dive into Deep Learning](http://d2l.ai/index.html)\n",
    "* [Reinforcement Learning: An Introduction](http://www.incompleteideas.net/book/the-book-2nd.html)\n",
    "* [Algorithmic Aspects of Machine Learning](https://people.csail.mit.edu/moitra/docs/bookex.pdf)\n",
    "* [Gaussian Processes for Machine Learning](http://www.gaussianprocess.org/gpml/)\n",
    "* [Causality for Machine Learning](https://arxiv.org/abs/1911.10500)\n",
    "* [Essential NLP Notes](https://github.com/jacobeisenstein/gt-nlp-class/blob/master/notes/eisenstein-nlp-notes.pdf)"
   ]
  }
 ],
 "metadata": {
  "kernelspec": {
   "display_name": "Python 3",
   "language": "python",
   "name": "python3"
  },
  "language_info": {
   "codemirror_mode": {
    "name": "ipython",
    "version": 3
   },
   "file_extension": ".py",
   "mimetype": "text/x-python",
   "name": "python",
   "nbconvert_exporter": "python",
   "pygments_lexer": "ipython3",
   "version": "3.7.3"
  }
 },
 "nbformat": 4,
 "nbformat_minor": 4
}
