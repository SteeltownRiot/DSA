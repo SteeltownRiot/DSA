{
 "cells": [
  {
   "cell_type": "markdown",
   "metadata": {},
   "source": [
    "# Hierarchical Clustering\n",
    "\n",
    "Now, we will consider the situations when we do not know in advance how many clusters we want. Hierarchical clustering does not require a pre-set **K** value. Another advantage of this approach is that it creates a hierarchy of clusters; we can analyze and pick the clustering at any scale we want. \n",
    "\n",
    "\n",
    "Once the algorithm is run, we end up with a tree-like visual representation of the observations, \n",
    "called a dendrogram, that allows us to view at once the clusterings \n",
    "obtained for each possible number of clusters, from 1 to n.\n",
    "\n",
    "Bottom-up or agglomerative clustering is the most common type of hierarchical clustering, \n",
    "and refers to the fact that a dendrogram is built starting from the leaves and combining clusters up to the trunk."
   ]
  },
  {
   "cell_type": "markdown",
   "metadata": {},
   "source": [
    "In the images shown below, each leaf of the dendrogram represents an observation. \n",
    "As we move up the tree, some leaves begin to fuse into branches. \n",
    "These correspond to observations that are similar to each other. \n",
    "For any two observations, we can look for the point in the tree where branches \n",
    "containing those two observations are first fused. \n",
    "The height of this fusion, as measured on the vertical axis, indicates how different the two observations are. \n",
    "Thus, observations that fuse at the very bottom of the tree are quite similar to each other, \n",
    "whereas observations that fuse close to the top of the tree will tend to be quite different. \n",
    "\n",
    "<img src=\"../images/dendogram.JPG\">\n",
    "$$ Figure\\  1$$\n",
    "\n",
    "The dashed line represents **the cut**. \n",
    "The left image is not cut which gives us one cluster for all observations. \n",
    "The middle image is cut in such a way that two clusters are generated. \n",
    "The cut on the right image generates 3 clusters. "
   ]
  },
  {
   "cell_type": "markdown",
   "metadata": {},
   "source": [
    "\n",
    "---\n",
    "\n",
    "<span style=\"color:#ce7721; font-size:18px; font-weight:700\">  Interpreting a dendrogram\n",
    "\n",
    "Consider the simple dendrogram below:\n",
    "\n",
    "<img src=\"../images/simple_dendogram.PNG\" height=\"1200\" width=\"600\">\n",
    "$$ Figure\\  2$$\n",
    "\n",
    "It is obtained from hierarchically clustering nine observations. \n",
    "One can see that observations 5 and 7 are quite similar to each other, \n",
    "since they fuse at the lowest point on the dendrogram. \n",
    "Observations 1 and 6 are also quite similar to each other. \n",
    "However, observation 9 is no more similar to observation 2 than it is to observations 8, 5, and 7, even though observations 9 and 2 are close together in terms of horizontal distance. This is because\n",
    "observations 2, 8, 5, and 7 all fuse with observation 9 at the same height, approximately\n",
    "1.8.  This can be seen from the right-hand panel of the above figure. Conclusions about the proximity of two observations can be drawn only based on the height where branches containing those two observations first are fused. We cannot use the proximity of two observations along the horizontal axis as a criteria of their similarity."
   ]
  },
  {
   "cell_type": "markdown",
   "metadata": {},
   "source": [
    "To put it mathematically, there are $2^{n−1}$ possible reorderings of the dendrogram, \n",
    "where n is the number of leaves. \n",
    "This is because at each of the $n − 1$ points where fusions occur, \n",
    "the positions of the two fused branches could be swapped without affecting the meaning of the dendrogram.\n",
    "Therefore, we cannot draw conclusions about the similarity of two observations based \n",
    "on their proximity along the horizontal axis. \n",
    "Rather, we draw conclusions about the similarity of two observations based on the location on the vertical axis where branches containing those two observations first are fused.\n",
    "\n",
    "Now, we can move on to the issue of identifying clusters on the basis of a dendrogram. \n",
    "In order to do this, we make a horizontal cut across the dendrogram, \n",
    "as shown in the center and the right-hand panels of Figure (1). \n",
    "The height of the cut to the dendrogram serves the same role as the K in K-means clustering: \n",
    "it controls the number of clusters obtained. \n",
    "A very attractive aspect of hierarchical clustering: \n",
    "one single dendrogram can be used to obtain any number of clusters.\n",
    "More specifically, a user can qualitatively assess the effects of different choices of $K$ after\n",
    "the algorithm has run to completion.\n",
    "\n",
    "\n"
   ]
  },
  {
   "cell_type": "markdown",
   "metadata": {},
   "source": [
    "---\n",
    "\n",
    "<span style=\"color:#1576b2; font-size:20px; font-weight:700\"> Hierarchical Clustering Algorithm\n",
    "\n",
    "A dissimilarity measure, most often Euclidean distance, is used between each pair of observations. \n",
    "Starting out at the bottom of the dendrogram, each of the $n$ observations is treated as its own cluster. \n",
    "The two clusters that are most similar to each other are then fused so that there are now $n−1$ clusters. \n",
    "Next, the two clusters that are most similar to each other are fused again, \n",
    "so that there are now $n−2$ clusters. \n",
    "The algorithm proceeds in this fashion until all of the observations belong to one single cluster, \n",
    "and the dendrogram is complete.\n",
    "\n",
    "The concept of dissimilarity between a pair of observations needs to be extended to a pair of groups of observations. \n",
    "This extension is achieved by developing the notion of **linkage**, \n",
    "which defines the dissimilarity between two groups of observations. \n",
    "The four most common types of linkage are complete, average, single, and centroid. "
   ]
  },
  {
   "cell_type": "markdown",
   "metadata": {},
   "source": [
    "\n",
    "<table>\n",
    "    <tr>\n",
    "        <th>Linkage</th>\n",
    "        <th style=\"text-align:center\">Linkage Description</th>\n",
    "    </tr>\n",
    "    <tr>\n",
    "        <td><b>Complete</b></td>\n",
    "        <td style=\"text-align:center\">Maximal intercluster dissimilarity. Compute all pairwise dissimilarities between the observations in cluster A and the observations in cluster B, and record the largest of these dissimilarities.</td>\n",
    "    </tr>\n",
    "    <tr>\n",
    "        <td><b>Single</b></td>\n",
    "        <td style=\"text-align:center\">Minimal intercluster dissimilarity. Compute all pairwise dissimilarities between the observations in cluster A and the observations in cluster B, and record the smallest of these dissimilarities. Single linkage can result in extended, trailing clusters in which single observations are fused one-at-a-time.</td>\n",
    "    </tr>\n",
    "    <tr>\n",
    "        <td><b>Average</b></td>\n",
    "        <td style=\"text-align:center\">Mean intercluster dissimilarity. Compute all pairwise dissimilarities between the observations in cluster A and the observations in cluster B, and record the average of these dissimilarities.</td>\n",
    "    </tr>\n",
    "    <tr>\n",
    "        <td><b>Centroid</b></td>\n",
    "        <td style=\"text-align:center\">Dissimilarity between the centroid for cluster A (a mean vector of length p) and the centroid for cluster B. Centroid linkage can result in undesirable inversions.</td>\n",
    "    </tr>\n",
    "</table>"
   ]
  },
  {
   "cell_type": "markdown",
   "metadata": {},
   "source": [
    "-----\n",
    "<span style=\"color:#1576b2; font-size:16px; font-weight:700\"> Algorithm : Hierarchical Clustering\n",
    "\n",
    "-------\n",
    "\n",
    "1. Begin with $n$ observations and a measure (such as Euclidean distance) of all the ${n}\\choose{2}$ = $n(n−1)/2$ pairwise dissimilarities. Treat each observation as its own cluster.\n",
    "2. For $i = n, n − 1, . . . , 2$:\n",
    "\n",
    "    a. Examine all pairwise inter-cluster dissimilarities among the $i$ clusters and identify the pair of clusters that are least dissimilar (that is, most similar). Fuse these two clusters. The dissimilarity between these two clusters indicates the height in the dendrogram at which the fusion should be placed.\n",
    "    \n",
    "    b. Compute the new pairwise inter-cluster dissimilarities among the $i − 1$ remaining clusters.\n",
    "-----\n",
    "\n",
    "Average and complete linkage are generally preferred over single linkage, as they tend to yield more balanced dendrograms. "
   ]
  },
  {
   "cell_type": "markdown",
   "metadata": {},
   "source": [
    "---\n",
    "\n",
    "<span style=\"color:#1576b2; font-size:18px; font-weight:700\"> Choice of Dissimilarity Measure\n",
    "\n",
    "We have used Euclidean distance as the dissimilarity measure till now. \n",
    "But sometimes other dissimilarity measures might be preferred. \n",
    "For example, correlation-based distance considers two observations to be similar if their features are highly correlated, \n",
    "even though the observed values may be far apart in terms of Euclidean distance.\n",
    "\n",
    "Normally correlation is computed between variables, \n",
    "but here it is computed between the observation profiles for each pair of observations. \n",
    "The choice of dissimilarity measure is very important as it has a strong effect on the resulting dendrogram. \n",
    "In general, attention should be paid to the type of data being clustered and the scientific question at hand."
   ]
  },
  {
   "cell_type": "markdown",
   "metadata": {
    "collapsed": true
   },
   "source": [
    "---\n",
    "\n",
    "**Example:** \n",
    "Consider an online retailer interested in clustering shoppers based on their past shopping histories. \n",
    "The goal is to identify subgroups of similar shoppers, \n",
    "so that shoppers within each subgroup can be shown items and advertisements that are \n",
    "particularly likely to interest them. \n",
    "\n",
    "\n",
    "Suppose the data takes the form of a matrix where the rows are the shoppers and the \n",
    "columns are the items available for purchase; \n",
    "the elements of the data matrix indicate the number of times a given shopper has purchased a given item \n",
    "(i.e. a 0 if the shopper has never purchased this item, a 1 if the shopper has purchased it once, etc.).\n",
    "\n",
    "**What type of dissimilarity measure should be used to cluster the shoppers?** \n",
    "If Euclidean distance is used, then shoppers who have bought very few items overall \n",
    "(i.e. infrequent users of the online shopping site) will be clustered together. \n",
    "This may not be desirable. \n",
    "On the other hand, if correlation-based distance is used, then shoppers with similar preferences \n",
    "(e.g. shoppers who have bought items A and B but never items C or D) will be clustered together, \n",
    "even if some shoppers with these preferences are higher-volume shoppers than others. \n",
    "Therefore, for this application, correlation-based distance may be a better choice."
   ]
  },
  {
   "cell_type": "markdown",
   "metadata": {},
   "source": [
    "---\n",
    "\n",
    "<span style=\"color:#1576b2; font-size:16px; font-weight:700\"> Standardizing Data</span>\n",
    "\n",
    "\n",
    "In addition to carefully selecting the dissimilarity measure used, \n",
    "one must also consider whether or not the variables should be scaled to have a standard deviation \n",
    "of one (1.0) before the dissimilarity between the observations is computed. \n",
    "If the variables are scaled to have standard deviation of one before the inter-observation dissimilarities are computed, \n",
    "then each variable will in effect be given equal importance in the hierarchical clustering performed.\n",
    "\n",
    "We might also want to scale the variables to have standard deviation of one if they are measured on different scales; \n",
    "otherwise, the choice of units (e.g. centimeters versus kilometers) for a particular \n",
    "variable will greatly affect the dissimilarity measure obtained."
   ]
  },
  {
   "cell_type": "markdown",
   "metadata": {},
   "source": [
    "---\n",
    "\n",
    "### Things to consider when performing Clustering\n",
    "\n",
    "1. Should the observations or features first be standardized?\n",
    "2. In the case of hierarchical clustering:\n",
    "    * What dissimilarity measure should be used?\n",
    "    * What type of linkage should be used?\n",
    "    * Where should we cut the dendrogram in order to obtain clusters?\n",
    "3. In the case of K-means clustering, how many clusters should we look for in the data?"
   ]
  },
  {
   "cell_type": "markdown",
   "metadata": {},
   "source": [
    "---\n",
    "\n",
    "**EXAMPLE:**\n",
    "\n",
    "\n",
    "First, we will generate some random data set to perform hierarchical clustering."
   ]
  },
  {
   "cell_type": "code",
   "execution_count": 1,
   "metadata": {},
   "outputs": [
    {
     "data": {
      "text/html": [
       "<table class=\"dataframe\">\n",
       "<caption>A matrix: 50 × 2 of type dbl</caption>\n",
       "<tbody>\n",
       "\t<tr><td> 3.21675486</td><td>-4.66374314</td></tr>\n",
       "\t<tr><td> 2.45750743</td><td>-4.62372649</td></tr>\n",
       "\t<tr><td> 3.89114465</td><td>-4.07963243</td></tr>\n",
       "\t<tr><td> 3.59598058</td><td>-3.56437524</td></tr>\n",
       "\t<tr><td> 4.63561800</td><td>-2.02909903</td></tr>\n",
       "\t<tr><td> 3.68927544</td><td>-4.59675867</td></tr>\n",
       "\t<tr><td> 1.71875337</td><td>-4.55250721</td></tr>\n",
       "\t<tr><td> 2.78685548</td><td>-3.30403337</td></tr>\n",
       "\t<tr><td> 4.89653987</td><td>-4.15566396</td></tr>\n",
       "\t<tr><td> 4.77686321</td><td>-2.65110180</td></tr>\n",
       "\t<tr><td> 3.56660450</td><td>-5.06852307</td></tr>\n",
       "\t<tr><td> 3.01571945</td><td>-2.93554925</td></tr>\n",
       "\t<tr><td> 3.38305734</td><td>-5.31272176</td></tr>\n",
       "\t<tr><td> 2.95486288</td><td>-1.93630530</td></tr>\n",
       "\t<tr><td> 3.03435191</td><td>-3.86861699</td></tr>\n",
       "\t<tr><td> 3.16902677</td><td>-4.23168845</td></tr>\n",
       "\t<tr><td> 4.16502684</td><td>-4.39735552</td></tr>\n",
       "\t<tr><td> 2.95579600</td><td>-3.11056792</td></tr>\n",
       "\t<tr><td> 2.89963156</td><td>-3.47383096</td></tr>\n",
       "\t<tr><td> 2.71655543</td><td>-4.17127324</td></tr>\n",
       "\t<tr><td> 4.54081498</td><td>-3.84132310</td></tr>\n",
       "\t<tr><td> 3.16516902</td><td>-4.48566507</td></tr>\n",
       "\t<tr><td> 4.30762236</td><td>-4.95890607</td></tr>\n",
       "\t<tr><td> 4.28825688</td><td>-3.81948271</td></tr>\n",
       "\t<tr><td> 3.59289694</td><td>-3.27826572</td></tr>\n",
       "\t<tr><td>-0.28294368</td><td>-0.36954048</td></tr>\n",
       "\t<tr><td> 1.25588403</td><td> 0.23753831</td></tr>\n",
       "\t<tr><td> 0.90983915</td><td>-0.66592211</td></tr>\n",
       "\t<tr><td>-0.92802811</td><td>-0.79680751</td></tr>\n",
       "\t<tr><td> 1.24018084</td><td>-0.05169693</td></tr>\n",
       "\t<tr><td> 0.15346418</td><td> 1.28692833</td></tr>\n",
       "\t<tr><td> 1.05193258</td><td>-0.21414966</td></tr>\n",
       "\t<tr><td>-0.75421121</td><td>-0.57474546</td></tr>\n",
       "\t<tr><td>-1.48218912</td><td>-1.47072704</td></tr>\n",
       "\t<tr><td> 0.86113187</td><td>-1.03273843</td></tr>\n",
       "\t<tr><td>-0.40451983</td><td>-1.30652486</td></tr>\n",
       "\t<tr><td>-0.22740542</td><td>-0.83825241</td></tr>\n",
       "\t<tr><td> 0.93409617</td><td>-1.13065368</td></tr>\n",
       "\t<tr><td>-0.46589588</td><td> 0.36874818</td></tr>\n",
       "\t<tr><td>-0.63754350</td><td>-0.20180302</td></tr>\n",
       "\t<tr><td> 1.34370863</td><td>-1.27765990</td></tr>\n",
       "\t<tr><td> 0.18153538</td><td>-0.79801248</td></tr>\n",
       "\t<tr><td> 1.29251234</td><td> 0.15908242</td></tr>\n",
       "\t<tr><td>-1.68804858</td><td> 0.61479763</td></tr>\n",
       "\t<tr><td>-0.82099358</td><td> 0.68794796</td></tr>\n",
       "\t<tr><td>-0.86214614</td><td>-0.04705101</td></tr>\n",
       "\t<tr><td> 0.09884369</td><td> 2.33032168</td></tr>\n",
       "\t<tr><td>-0.37565514</td><td>-0.57756599</td></tr>\n",
       "\t<tr><td> 0.72390416</td><td> 0.96847913</td></tr>\n",
       "\t<tr><td>-1.79738202</td><td>-0.27753563</td></tr>\n",
       "</tbody>\n",
       "</table>\n"
      ],
      "text/latex": [
       "A matrix: 50 × 2 of type dbl\n",
       "\\begin{tabular}{ll}\n",
       "\t  3.21675486 & -4.66374314\\\\\n",
       "\t  2.45750743 & -4.62372649\\\\\n",
       "\t  3.89114465 & -4.07963243\\\\\n",
       "\t  3.59598058 & -3.56437524\\\\\n",
       "\t  4.63561800 & -2.02909903\\\\\n",
       "\t  3.68927544 & -4.59675867\\\\\n",
       "\t  1.71875337 & -4.55250721\\\\\n",
       "\t  2.78685548 & -3.30403337\\\\\n",
       "\t  4.89653987 & -4.15566396\\\\\n",
       "\t  4.77686321 & -2.65110180\\\\\n",
       "\t  3.56660450 & -5.06852307\\\\\n",
       "\t  3.01571945 & -2.93554925\\\\\n",
       "\t  3.38305734 & -5.31272176\\\\\n",
       "\t  2.95486288 & -1.93630530\\\\\n",
       "\t  3.03435191 & -3.86861699\\\\\n",
       "\t  3.16902677 & -4.23168845\\\\\n",
       "\t  4.16502684 & -4.39735552\\\\\n",
       "\t  2.95579600 & -3.11056792\\\\\n",
       "\t  2.89963156 & -3.47383096\\\\\n",
       "\t  2.71655543 & -4.17127324\\\\\n",
       "\t  4.54081498 & -3.84132310\\\\\n",
       "\t  3.16516902 & -4.48566507\\\\\n",
       "\t  4.30762236 & -4.95890607\\\\\n",
       "\t  4.28825688 & -3.81948271\\\\\n",
       "\t  3.59289694 & -3.27826572\\\\\n",
       "\t -0.28294368 & -0.36954048\\\\\n",
       "\t  1.25588403 &  0.23753831\\\\\n",
       "\t  0.90983915 & -0.66592211\\\\\n",
       "\t -0.92802811 & -0.79680751\\\\\n",
       "\t  1.24018084 & -0.05169693\\\\\n",
       "\t  0.15346418 &  1.28692833\\\\\n",
       "\t  1.05193258 & -0.21414966\\\\\n",
       "\t -0.75421121 & -0.57474546\\\\\n",
       "\t -1.48218912 & -1.47072704\\\\\n",
       "\t  0.86113187 & -1.03273843\\\\\n",
       "\t -0.40451983 & -1.30652486\\\\\n",
       "\t -0.22740542 & -0.83825241\\\\\n",
       "\t  0.93409617 & -1.13065368\\\\\n",
       "\t -0.46589588 &  0.36874818\\\\\n",
       "\t -0.63754350 & -0.20180302\\\\\n",
       "\t  1.34370863 & -1.27765990\\\\\n",
       "\t  0.18153538 & -0.79801248\\\\\n",
       "\t  1.29251234 &  0.15908242\\\\\n",
       "\t -1.68804858 &  0.61479763\\\\\n",
       "\t -0.82099358 &  0.68794796\\\\\n",
       "\t -0.86214614 & -0.04705101\\\\\n",
       "\t  0.09884369 &  2.33032168\\\\\n",
       "\t -0.37565514 & -0.57756599\\\\\n",
       "\t  0.72390416 &  0.96847913\\\\\n",
       "\t -1.79738202 & -0.27753563\\\\\n",
       "\\end{tabular}\n"
      ],
      "text/markdown": [
       "\n",
       "A matrix: 50 × 2 of type dbl\n",
       "\n",
       "|  3.21675486 | -4.66374314 |\n",
       "|  2.45750743 | -4.62372649 |\n",
       "|  3.89114465 | -4.07963243 |\n",
       "|  3.59598058 | -3.56437524 |\n",
       "|  4.63561800 | -2.02909903 |\n",
       "|  3.68927544 | -4.59675867 |\n",
       "|  1.71875337 | -4.55250721 |\n",
       "|  2.78685548 | -3.30403337 |\n",
       "|  4.89653987 | -4.15566396 |\n",
       "|  4.77686321 | -2.65110180 |\n",
       "|  3.56660450 | -5.06852307 |\n",
       "|  3.01571945 | -2.93554925 |\n",
       "|  3.38305734 | -5.31272176 |\n",
       "|  2.95486288 | -1.93630530 |\n",
       "|  3.03435191 | -3.86861699 |\n",
       "|  3.16902677 | -4.23168845 |\n",
       "|  4.16502684 | -4.39735552 |\n",
       "|  2.95579600 | -3.11056792 |\n",
       "|  2.89963156 | -3.47383096 |\n",
       "|  2.71655543 | -4.17127324 |\n",
       "|  4.54081498 | -3.84132310 |\n",
       "|  3.16516902 | -4.48566507 |\n",
       "|  4.30762236 | -4.95890607 |\n",
       "|  4.28825688 | -3.81948271 |\n",
       "|  3.59289694 | -3.27826572 |\n",
       "| -0.28294368 | -0.36954048 |\n",
       "|  1.25588403 |  0.23753831 |\n",
       "|  0.90983915 | -0.66592211 |\n",
       "| -0.92802811 | -0.79680751 |\n",
       "|  1.24018084 | -0.05169693 |\n",
       "|  0.15346418 |  1.28692833 |\n",
       "|  1.05193258 | -0.21414966 |\n",
       "| -0.75421121 | -0.57474546 |\n",
       "| -1.48218912 | -1.47072704 |\n",
       "|  0.86113187 | -1.03273843 |\n",
       "| -0.40451983 | -1.30652486 |\n",
       "| -0.22740542 | -0.83825241 |\n",
       "|  0.93409617 | -1.13065368 |\n",
       "| -0.46589588 |  0.36874818 |\n",
       "| -0.63754350 | -0.20180302 |\n",
       "|  1.34370863 | -1.27765990 |\n",
       "|  0.18153538 | -0.79801248 |\n",
       "|  1.29251234 |  0.15908242 |\n",
       "| -1.68804858 |  0.61479763 |\n",
       "| -0.82099358 |  0.68794796 |\n",
       "| -0.86214614 | -0.04705101 |\n",
       "|  0.09884369 |  2.33032168 |\n",
       "| -0.37565514 | -0.57756599 |\n",
       "|  0.72390416 |  0.96847913 |\n",
       "| -1.79738202 | -0.27753563 |\n",
       "\n"
      ],
      "text/plain": [
       "      [,1]        [,2]       \n",
       " [1,]  3.21675486 -4.66374314\n",
       " [2,]  2.45750743 -4.62372649\n",
       " [3,]  3.89114465 -4.07963243\n",
       " [4,]  3.59598058 -3.56437524\n",
       " [5,]  4.63561800 -2.02909903\n",
       " [6,]  3.68927544 -4.59675867\n",
       " [7,]  1.71875337 -4.55250721\n",
       " [8,]  2.78685548 -3.30403337\n",
       " [9,]  4.89653987 -4.15566396\n",
       "[10,]  4.77686321 -2.65110180\n",
       "[11,]  3.56660450 -5.06852307\n",
       "[12,]  3.01571945 -2.93554925\n",
       "[13,]  3.38305734 -5.31272176\n",
       "[14,]  2.95486288 -1.93630530\n",
       "[15,]  3.03435191 -3.86861699\n",
       "[16,]  3.16902677 -4.23168845\n",
       "[17,]  4.16502684 -4.39735552\n",
       "[18,]  2.95579600 -3.11056792\n",
       "[19,]  2.89963156 -3.47383096\n",
       "[20,]  2.71655543 -4.17127324\n",
       "[21,]  4.54081498 -3.84132310\n",
       "[22,]  3.16516902 -4.48566507\n",
       "[23,]  4.30762236 -4.95890607\n",
       "[24,]  4.28825688 -3.81948271\n",
       "[25,]  3.59289694 -3.27826572\n",
       "[26,] -0.28294368 -0.36954048\n",
       "[27,]  1.25588403  0.23753831\n",
       "[28,]  0.90983915 -0.66592211\n",
       "[29,] -0.92802811 -0.79680751\n",
       "[30,]  1.24018084 -0.05169693\n",
       "[31,]  0.15346418  1.28692833\n",
       "[32,]  1.05193258 -0.21414966\n",
       "[33,] -0.75421121 -0.57474546\n",
       "[34,] -1.48218912 -1.47072704\n",
       "[35,]  0.86113187 -1.03273843\n",
       "[36,] -0.40451983 -1.30652486\n",
       "[37,] -0.22740542 -0.83825241\n",
       "[38,]  0.93409617 -1.13065368\n",
       "[39,] -0.46589588  0.36874818\n",
       "[40,] -0.63754350 -0.20180302\n",
       "[41,]  1.34370863 -1.27765990\n",
       "[42,]  0.18153538 -0.79801248\n",
       "[43,]  1.29251234  0.15908242\n",
       "[44,] -1.68804858  0.61479763\n",
       "[45,] -0.82099358  0.68794796\n",
       "[46,] -0.86214614 -0.04705101\n",
       "[47,]  0.09884369  2.33032168\n",
       "[48,] -0.37565514 -0.57756599\n",
       "[49,]  0.72390416  0.96847913\n",
       "[50,] -1.79738202 -0.27753563"
      ]
     },
     "metadata": {},
     "output_type": "display_data"
    }
   ],
   "source": [
    "# Set the seed to reproduce the results\n",
    "set.seed(4)\n",
    "\n",
    "# Generate a random normal distribution of 100 values. Generate a matrix out of this normal distribution.\n",
    "x = matrix(rnorm(50 * 2), ncol = 2)\n",
    "\n",
    "# Add 3 to rows 1 to 25 in first column of the matrix\n",
    "x[1:25, 1] = x[1:25, 1] + 3\n",
    "\n",
    "# Subtract 4 from rows 1 to 25 in second column of the matrix\n",
    "x[1:25, 2] = x[1:25, 2] - 4\n",
    "\n",
    "x"
   ]
  },
  {
   "cell_type": "markdown",
   "metadata": {},
   "source": [
    "----\n",
    "\n",
    "The `hclust()` function is used to implement hierarchical clustering in R. \n",
    "We are going to create matrix $x$, similar to K-Means lab, \n",
    "and use that data to plot the hierarchical clustering dendrogram using \n",
    "complete, single, and average linkage clustering with Euclidean distance as the dissimilarity measure. \n",
    "\n",
    "\n",
    "\n",
    "Let's begin by clustering observations using complete linkage. \n",
    "Use `dist()` function to compute the 50 × 50 inter-observation Euclidean distance matrix:"
   ]
  },
  {
   "cell_type": "code",
   "execution_count": 2,
   "metadata": {},
   "outputs": [],
   "source": [
    "hc.complete = hclust(dist(x), method=\"complete\")"
   ]
  },
  {
   "cell_type": "markdown",
   "metadata": {},
   "source": [
    "We perform hierarchical clustering with average and single linkage:"
   ]
  },
  {
   "cell_type": "code",
   "execution_count": 3,
   "metadata": {},
   "outputs": [],
   "source": [
    "hc.average = hclust(dist(x), method =\"average\")\n",
    "hc.single = hclust(dist(x), method =\"single\")"
   ]
  },
  {
   "cell_type": "markdown",
   "metadata": {},
   "source": [
    "The we can plot the dendrograms obtained using the `plot()` function.\n",
    "The numbers at the bottom of the plot identify each observation:"
   ]
  },
  {
   "cell_type": "code",
   "execution_count": 4,
   "metadata": {},
   "outputs": [
    {
     "data": {
      "image/png": "[encoded data removed]",
      "text/plain": [
       "Plot with title “Single Linkage”"
      ]
     },
     "metadata": {
      "image/png": {
       "height": 600,
       "width": 960
      }
     },
     "output_type": "display_data"
    }
   ],
   "source": [
    "# Set size of plots\n",
    "options(repr.plot.width = 16, repr.plot.height = 10)\n",
    "\n",
    "# Arrange 3 plots in a row\n",
    "par(mfrow = c(1,3))\n",
    "\n",
    "# Plot all the 3 dendrograms generated using different linkage schemes.\n",
    "plot(hc.complete, main = \"Complete Linkage\", xlab = \"\", sub = \"\", cex = .9)\n",
    "plot(hc.average, main = \"Average Linkage\", xlab = \"\", sub = \"\", cex = .9)\n",
    "plot(hc.single, main = \"Single Linkage\", xlab = \"\", sub = \"\", cex = .9)"
   ]
  },
  {
   "cell_type": "markdown",
   "metadata": {},
   "source": [
    "To determine the cluster labels for each observation associated with a given number of cuts of the dendrogram, \n",
    "we can use the `cutree()` function as shown below.  Here, we are specifiying that the dendrogram has 2 cuts."
   ]
  },
  {
   "cell_type": "code",
   "execution_count": 5,
   "metadata": {},
   "outputs": [
    {
     "data": {
      "text/html": [
       "<style>\n",
       ".list-inline {list-style: none; margin:0; padding: 0}\n",
       ".list-inline>li {display: inline-block}\n",
       ".list-inline>li:not(:last-child)::after {content: \"\\00b7\"; padding: 0 .5ex}\n",
       "</style>\n",
       "<ol class=list-inline><li>1</li><li>1</li><li>1</li><li>1</li><li>1</li><li>1</li><li>1</li><li>1</li><li>1</li><li>1</li><li>1</li><li>1</li><li>1</li><li>1</li><li>1</li><li>1</li><li>1</li><li>1</li><li>1</li><li>1</li><li>1</li><li>1</li><li>1</li><li>1</li><li>1</li><li>2</li><li>2</li><li>2</li><li>2</li><li>2</li><li>2</li><li>2</li><li>2</li><li>2</li><li>2</li><li>2</li><li>2</li><li>2</li><li>2</li><li>2</li><li>2</li><li>2</li><li>2</li><li>2</li><li>2</li><li>2</li><li>2</li><li>2</li><li>2</li><li>2</li></ol>\n"
      ],
      "text/latex": [
       "\\begin{enumerate*}\n",
       "\\item 1\n",
       "\\item 1\n",
       "\\item 1\n",
       "\\item 1\n",
       "\\item 1\n",
       "\\item 1\n",
       "\\item 1\n",
       "\\item 1\n",
       "\\item 1\n",
       "\\item 1\n",
       "\\item 1\n",
       "\\item 1\n",
       "\\item 1\n",
       "\\item 1\n",
       "\\item 1\n",
       "\\item 1\n",
       "\\item 1\n",
       "\\item 1\n",
       "\\item 1\n",
       "\\item 1\n",
       "\\item 1\n",
       "\\item 1\n",
       "\\item 1\n",
       "\\item 1\n",
       "\\item 1\n",
       "\\item 2\n",
       "\\item 2\n",
       "\\item 2\n",
       "\\item 2\n",
       "\\item 2\n",
       "\\item 2\n",
       "\\item 2\n",
       "\\item 2\n",
       "\\item 2\n",
       "\\item 2\n",
       "\\item 2\n",
       "\\item 2\n",
       "\\item 2\n",
       "\\item 2\n",
       "\\item 2\n",
       "\\item 2\n",
       "\\item 2\n",
       "\\item 2\n",
       "\\item 2\n",
       "\\item 2\n",
       "\\item 2\n",
       "\\item 2\n",
       "\\item 2\n",
       "\\item 2\n",
       "\\item 2\n",
       "\\end{enumerate*}\n"
      ],
      "text/markdown": [
       "1. 1\n",
       "2. 1\n",
       "3. 1\n",
       "4. 1\n",
       "5. 1\n",
       "6. 1\n",
       "7. 1\n",
       "8. 1\n",
       "9. 1\n",
       "10. 1\n",
       "11. 1\n",
       "12. 1\n",
       "13. 1\n",
       "14. 1\n",
       "15. 1\n",
       "16. 1\n",
       "17. 1\n",
       "18. 1\n",
       "19. 1\n",
       "20. 1\n",
       "21. 1\n",
       "22. 1\n",
       "23. 1\n",
       "24. 1\n",
       "25. 1\n",
       "26. 2\n",
       "27. 2\n",
       "28. 2\n",
       "29. 2\n",
       "30. 2\n",
       "31. 2\n",
       "32. 2\n",
       "33. 2\n",
       "34. 2\n",
       "35. 2\n",
       "36. 2\n",
       "37. 2\n",
       "38. 2\n",
       "39. 2\n",
       "40. 2\n",
       "41. 2\n",
       "42. 2\n",
       "43. 2\n",
       "44. 2\n",
       "45. 2\n",
       "46. 2\n",
       "47. 2\n",
       "48. 2\n",
       "49. 2\n",
       "50. 2\n",
       "\n",
       "\n"
      ],
      "text/plain": [
       " [1] 1 1 1 1 1 1 1 1 1 1 1 1 1 1 1 1 1 1 1 1 1 1 1 1 1 2 2 2 2 2 2 2 2 2 2 2 2 2\n",
       "[39] 2 2 2 2 2 2 2 2 2 2 2 2"
      ]
     },
     "metadata": {},
     "output_type": "display_data"
    }
   ],
   "source": [
    "cutree(hc.complete, 2)"
   ]
  },
  {
   "cell_type": "code",
   "execution_count": 6,
   "metadata": {},
   "outputs": [
    {
     "data": {
      "text/html": [
       "<style>\n",
       ".list-inline {list-style: none; margin:0; padding: 0}\n",
       ".list-inline>li {display: inline-block}\n",
       ".list-inline>li:not(:last-child)::after {content: \"\\00b7\"; padding: 0 .5ex}\n",
       "</style>\n",
       "<ol class=list-inline><li>1</li><li>1</li><li>1</li><li>1</li><li>1</li><li>1</li><li>1</li><li>1</li><li>1</li><li>1</li><li>1</li><li>1</li><li>1</li><li>1</li><li>1</li><li>1</li><li>1</li><li>1</li><li>1</li><li>1</li><li>1</li><li>1</li><li>1</li><li>1</li><li>1</li><li>2</li><li>2</li><li>2</li><li>2</li><li>2</li><li>2</li><li>2</li><li>2</li><li>2</li><li>2</li><li>2</li><li>2</li><li>2</li><li>2</li><li>2</li><li>2</li><li>2</li><li>2</li><li>2</li><li>2</li><li>2</li><li>2</li><li>2</li><li>2</li><li>2</li></ol>\n"
      ],
      "text/latex": [
       "\\begin{enumerate*}\n",
       "\\item 1\n",
       "\\item 1\n",
       "\\item 1\n",
       "\\item 1\n",
       "\\item 1\n",
       "\\item 1\n",
       "\\item 1\n",
       "\\item 1\n",
       "\\item 1\n",
       "\\item 1\n",
       "\\item 1\n",
       "\\item 1\n",
       "\\item 1\n",
       "\\item 1\n",
       "\\item 1\n",
       "\\item 1\n",
       "\\item 1\n",
       "\\item 1\n",
       "\\item 1\n",
       "\\item 1\n",
       "\\item 1\n",
       "\\item 1\n",
       "\\item 1\n",
       "\\item 1\n",
       "\\item 1\n",
       "\\item 2\n",
       "\\item 2\n",
       "\\item 2\n",
       "\\item 2\n",
       "\\item 2\n",
       "\\item 2\n",
       "\\item 2\n",
       "\\item 2\n",
       "\\item 2\n",
       "\\item 2\n",
       "\\item 2\n",
       "\\item 2\n",
       "\\item 2\n",
       "\\item 2\n",
       "\\item 2\n",
       "\\item 2\n",
       "\\item 2\n",
       "\\item 2\n",
       "\\item 2\n",
       "\\item 2\n",
       "\\item 2\n",
       "\\item 2\n",
       "\\item 2\n",
       "\\item 2\n",
       "\\item 2\n",
       "\\end{enumerate*}\n"
      ],
      "text/markdown": [
       "1. 1\n",
       "2. 1\n",
       "3. 1\n",
       "4. 1\n",
       "5. 1\n",
       "6. 1\n",
       "7. 1\n",
       "8. 1\n",
       "9. 1\n",
       "10. 1\n",
       "11. 1\n",
       "12. 1\n",
       "13. 1\n",
       "14. 1\n",
       "15. 1\n",
       "16. 1\n",
       "17. 1\n",
       "18. 1\n",
       "19. 1\n",
       "20. 1\n",
       "21. 1\n",
       "22. 1\n",
       "23. 1\n",
       "24. 1\n",
       "25. 1\n",
       "26. 2\n",
       "27. 2\n",
       "28. 2\n",
       "29. 2\n",
       "30. 2\n",
       "31. 2\n",
       "32. 2\n",
       "33. 2\n",
       "34. 2\n",
       "35. 2\n",
       "36. 2\n",
       "37. 2\n",
       "38. 2\n",
       "39. 2\n",
       "40. 2\n",
       "41. 2\n",
       "42. 2\n",
       "43. 2\n",
       "44. 2\n",
       "45. 2\n",
       "46. 2\n",
       "47. 2\n",
       "48. 2\n",
       "49. 2\n",
       "50. 2\n",
       "\n",
       "\n"
      ],
      "text/plain": [
       " [1] 1 1 1 1 1 1 1 1 1 1 1 1 1 1 1 1 1 1 1 1 1 1 1 1 1 2 2 2 2 2 2 2 2 2 2 2 2 2\n",
       "[39] 2 2 2 2 2 2 2 2 2 2 2 2"
      ]
     },
     "metadata": {},
     "output_type": "display_data"
    }
   ],
   "source": [
    "cutree(hc.average, 2)"
   ]
  },
  {
   "cell_type": "code",
   "execution_count": 7,
   "metadata": {},
   "outputs": [
    {
     "data": {
      "text/html": [
       "<style>\n",
       ".list-inline {list-style: none; margin:0; padding: 0}\n",
       ".list-inline>li {display: inline-block}\n",
       ".list-inline>li:not(:last-child)::after {content: \"\\00b7\"; padding: 0 .5ex}\n",
       "</style>\n",
       "<ol class=list-inline><li>1</li><li>1</li><li>1</li><li>1</li><li>1</li><li>1</li><li>1</li><li>1</li><li>1</li><li>1</li><li>1</li><li>1</li><li>1</li><li>1</li><li>1</li><li>1</li><li>1</li><li>1</li><li>1</li><li>1</li><li>1</li><li>1</li><li>1</li><li>1</li><li>1</li><li>2</li><li>2</li><li>2</li><li>2</li><li>2</li><li>2</li><li>2</li><li>2</li><li>2</li><li>2</li><li>2</li><li>2</li><li>2</li><li>2</li><li>2</li><li>2</li><li>2</li><li>2</li><li>2</li><li>2</li><li>2</li><li>2</li><li>2</li><li>2</li><li>2</li></ol>\n"
      ],
      "text/latex": [
       "\\begin{enumerate*}\n",
       "\\item 1\n",
       "\\item 1\n",
       "\\item 1\n",
       "\\item 1\n",
       "\\item 1\n",
       "\\item 1\n",
       "\\item 1\n",
       "\\item 1\n",
       "\\item 1\n",
       "\\item 1\n",
       "\\item 1\n",
       "\\item 1\n",
       "\\item 1\n",
       "\\item 1\n",
       "\\item 1\n",
       "\\item 1\n",
       "\\item 1\n",
       "\\item 1\n",
       "\\item 1\n",
       "\\item 1\n",
       "\\item 1\n",
       "\\item 1\n",
       "\\item 1\n",
       "\\item 1\n",
       "\\item 1\n",
       "\\item 2\n",
       "\\item 2\n",
       "\\item 2\n",
       "\\item 2\n",
       "\\item 2\n",
       "\\item 2\n",
       "\\item 2\n",
       "\\item 2\n",
       "\\item 2\n",
       "\\item 2\n",
       "\\item 2\n",
       "\\item 2\n",
       "\\item 2\n",
       "\\item 2\n",
       "\\item 2\n",
       "\\item 2\n",
       "\\item 2\n",
       "\\item 2\n",
       "\\item 2\n",
       "\\item 2\n",
       "\\item 2\n",
       "\\item 2\n",
       "\\item 2\n",
       "\\item 2\n",
       "\\item 2\n",
       "\\end{enumerate*}\n"
      ],
      "text/markdown": [
       "1. 1\n",
       "2. 1\n",
       "3. 1\n",
       "4. 1\n",
       "5. 1\n",
       "6. 1\n",
       "7. 1\n",
       "8. 1\n",
       "9. 1\n",
       "10. 1\n",
       "11. 1\n",
       "12. 1\n",
       "13. 1\n",
       "14. 1\n",
       "15. 1\n",
       "16. 1\n",
       "17. 1\n",
       "18. 1\n",
       "19. 1\n",
       "20. 1\n",
       "21. 1\n",
       "22. 1\n",
       "23. 1\n",
       "24. 1\n",
       "25. 1\n",
       "26. 2\n",
       "27. 2\n",
       "28. 2\n",
       "29. 2\n",
       "30. 2\n",
       "31. 2\n",
       "32. 2\n",
       "33. 2\n",
       "34. 2\n",
       "35. 2\n",
       "36. 2\n",
       "37. 2\n",
       "38. 2\n",
       "39. 2\n",
       "40. 2\n",
       "41. 2\n",
       "42. 2\n",
       "43. 2\n",
       "44. 2\n",
       "45. 2\n",
       "46. 2\n",
       "47. 2\n",
       "48. 2\n",
       "49. 2\n",
       "50. 2\n",
       "\n",
       "\n"
      ],
      "text/plain": [
       " [1] 1 1 1 1 1 1 1 1 1 1 1 1 1 1 1 1 1 1 1 1 1 1 1 1 1 2 2 2 2 2 2 2 2 2 2 2 2 2\n",
       "[39] 2 2 2 2 2 2 2 2 2 2 2 2"
      ]
     },
     "metadata": {},
     "output_type": "display_data"
    }
   ],
   "source": [
    "cutree(hc.single, 2)"
   ]
  },
  {
   "cell_type": "markdown",
   "metadata": {},
   "source": [
    "**Note:**\n",
    "In the cells above, we have chosen a $k=2$ number of clusters.\n",
    "This was based on our qualitative assessment of the dendograms.\n",
    "What happens if we make a different choice?\n",
    "\n",
    "**Your Turn**:"
   ]
  },
  {
   "cell_type": "code",
   "execution_count": 22,
   "metadata": {},
   "outputs": [
    {
     "data": {
      "text/html": [
       "<style>\n",
       ".list-inline {list-style: none; margin:0; padding: 0}\n",
       ".list-inline>li {display: inline-block}\n",
       ".list-inline>li:not(:last-child)::after {content: \"\\00b7\"; padding: 0 .5ex}\n",
       "</style>\n",
       "<ol class=list-inline><li>1</li><li>1</li><li>1</li><li>1</li><li>2</li><li>1</li><li>1</li><li>1</li><li>1</li><li>2</li><li>1</li><li>1</li><li>1</li><li>1</li><li>1</li><li>1</li><li>1</li><li>1</li><li>1</li><li>1</li><li>1</li><li>1</li><li>1</li><li>1</li><li>1</li><li>3</li><li>3</li><li>3</li><li>3</li><li>3</li><li>4</li><li>3</li><li>3</li><li>3</li><li>3</li><li>3</li><li>3</li><li>3</li><li>3</li><li>3</li><li>3</li><li>3</li><li>3</li><li>3</li><li>3</li><li>3</li><li>4</li><li>3</li><li>4</li><li>3</li></ol>\n"
      ],
      "text/latex": [
       "\\begin{enumerate*}\n",
       "\\item 1\n",
       "\\item 1\n",
       "\\item 1\n",
       "\\item 1\n",
       "\\item 2\n",
       "\\item 1\n",
       "\\item 1\n",
       "\\item 1\n",
       "\\item 1\n",
       "\\item 2\n",
       "\\item 1\n",
       "\\item 1\n",
       "\\item 1\n",
       "\\item 1\n",
       "\\item 1\n",
       "\\item 1\n",
       "\\item 1\n",
       "\\item 1\n",
       "\\item 1\n",
       "\\item 1\n",
       "\\item 1\n",
       "\\item 1\n",
       "\\item 1\n",
       "\\item 1\n",
       "\\item 1\n",
       "\\item 3\n",
       "\\item 3\n",
       "\\item 3\n",
       "\\item 3\n",
       "\\item 3\n",
       "\\item 4\n",
       "\\item 3\n",
       "\\item 3\n",
       "\\item 3\n",
       "\\item 3\n",
       "\\item 3\n",
       "\\item 3\n",
       "\\item 3\n",
       "\\item 3\n",
       "\\item 3\n",
       "\\item 3\n",
       "\\item 3\n",
       "\\item 3\n",
       "\\item 3\n",
       "\\item 3\n",
       "\\item 3\n",
       "\\item 4\n",
       "\\item 3\n",
       "\\item 4\n",
       "\\item 3\n",
       "\\end{enumerate*}\n"
      ],
      "text/markdown": [
       "1. 1\n",
       "2. 1\n",
       "3. 1\n",
       "4. 1\n",
       "5. 2\n",
       "6. 1\n",
       "7. 1\n",
       "8. 1\n",
       "9. 1\n",
       "10. 2\n",
       "11. 1\n",
       "12. 1\n",
       "13. 1\n",
       "14. 1\n",
       "15. 1\n",
       "16. 1\n",
       "17. 1\n",
       "18. 1\n",
       "19. 1\n",
       "20. 1\n",
       "21. 1\n",
       "22. 1\n",
       "23. 1\n",
       "24. 1\n",
       "25. 1\n",
       "26. 3\n",
       "27. 3\n",
       "28. 3\n",
       "29. 3\n",
       "30. 3\n",
       "31. 4\n",
       "32. 3\n",
       "33. 3\n",
       "34. 3\n",
       "35. 3\n",
       "36. 3\n",
       "37. 3\n",
       "38. 3\n",
       "39. 3\n",
       "40. 3\n",
       "41. 3\n",
       "42. 3\n",
       "43. 3\n",
       "44. 3\n",
       "45. 3\n",
       "46. 3\n",
       "47. 4\n",
       "48. 3\n",
       "49. 4\n",
       "50. 3\n",
       "\n",
       "\n"
      ],
      "text/plain": [
       " [1] 1 1 1 1 2 1 1 1 1 2 1 1 1 1 1 1 1 1 1 1 1 1 1 1 1 3 3 3 3 3 4 3 3 3 3 3 3 3\n",
       "[39] 3 3 3 3 3 3 3 3 4 3 4 3"
      ]
     },
     "metadata": {},
     "output_type": "display_data"
    }
   ],
   "source": [
    "k <- 4   # Keep changing me... rerun\n",
    "cutree(hc.average, k)  # Also change from complete, average, and single"
   ]
  },
  {
   "cell_type": "markdown",
   "metadata": {},
   "source": [
    "---- \n",
    "To scale the variables before performing hierarchical clustering of the observations, we use the `scale()` function."
   ]
  },
  {
   "cell_type": "code",
   "execution_count": 23,
   "metadata": {},
   "outputs": [],
   "source": [
    "help(scale)"
   ]
  },
  {
   "cell_type": "code",
   "execution_count": 24,
   "metadata": {},
   "outputs": [
    {
     "data": {
      "image/png": "[encoded data removed]",
      "text/plain": [
       "Plot with title “Hierarchical Clustering with Scaled Features”"
      ]
     },
     "metadata": {
      "image/png": {
       "height": 600,
       "width": 960
      }
     },
     "output_type": "display_data"
    }
   ],
   "source": [
    "xsc = scale(x)\n",
    "plot(hclust(dist(xsc), method = \"complete\"), main = \"Hierarchical Clustering with Scaled Features\")"
   ]
  },
  {
   "cell_type": "markdown",
   "metadata": {},
   "source": [
    "--- \n",
    "\n",
    "#### Changing distance metric\n",
    "\n",
    "Correlation-based distance can be computed using the `as.dist()` function, \n",
    "which converts an arbitrary square symmetric matrix into a form that the `hclust()` \n",
    "function recognizes as a distance matrix. \n",
    "However, this only makes sense for data with at least three features since the absolute \n",
    "correlation between any two observations with measurements on two features is always 1. \n",
    "Hence, we will cluster a three-dimensional data set."
   ]
  },
  {
   "cell_type": "code",
   "execution_count": 25,
   "metadata": {},
   "outputs": [
    {
     "data": {
      "image/png": "[encoded data removed]",
      "text/plain": [
       "Plot with title “Complete Linkage with Correlation-Based Distance ”"
      ]
     },
     "metadata": {
      "image/png": {
       "height": 600,
       "width": 960
      }
     },
     "output_type": "display_data"
    }
   ],
   "source": [
    "x = matrix(rnorm(30 * 3), ncol = 3)  # generate a 3-D normal data set\n",
    "dd = as.dist(1 - cor(t(x)))\n",
    "plot(hclust(dd, method = \"complete\"), main = \"Complete Linkage with Correlation-Based Distance \", \n",
    "         xlab = \"\", sub = \"\")"
   ]
  },
  {
   "cell_type": "markdown",
   "metadata": {},
   "source": [
    "--- \n",
    "<span style=\"color:#1576b2; font-size:20px; font-weight:700;\"> Divisive Clustering\n",
    "\n",
    "The most common divisive clustering technique is the DIANA (DIvisive ANAlysis Clustering) method."
   ]
  },
  {
   "cell_type": "code",
   "execution_count": 26,
   "metadata": {},
   "outputs": [],
   "source": [
    "library(cluster)"
   ]
  },
  {
   "cell_type": "code",
   "execution_count": 27,
   "metadata": {},
   "outputs": [],
   "source": [
    "help(diana)"
   ]
  },
  {
   "cell_type": "code",
   "execution_count": 28,
   "metadata": {},
   "outputs": [
    {
     "name": "stdout",
     "output_type": "stream",
     "text": [
      "Merge:\n",
      "      [,1] [,2]\n",
      " [1,]   -2  -29\n",
      " [2,]  -20  -27\n",
      " [3,]   -7  -30\n",
      " [4,]   -8  -19\n",
      " [5,]   -1  -22\n",
      " [6,]   -6  -21\n",
      " [7,]  -10  -24\n",
      " [8,]   -3  -18\n",
      " [9,]    6  -15\n",
      "[10,]   -4    3\n",
      "[11,]  -13  -28\n",
      "[12,]  -12  -17\n",
      "[13,]    1   -5\n",
      "[14,]    5    2\n",
      "[15,]    4  -14\n",
      "[16,]  -11  -25\n",
      "[17,]   14  -23\n",
      "[18,]   15    7\n",
      "[19,]   10  -26\n",
      "[20,]    8   18\n",
      "[21,]   -9   12\n",
      "[22,]   13   19\n",
      "[23,]    9   11\n",
      "[24,]   17   23\n",
      "[25,]   22   21\n",
      "[26,]   20  -16\n",
      "[27,]   24   25\n",
      "[28,]   26   16\n",
      "[29,]   27   28\n",
      "Order of objects:\n",
      " [1]  1 22 20 27 23  6 21 15 13 28  2 29  5  4  7 30 26  9 12 17  3 18  8 19 14\n",
      "[26] 10 24 16 11 25\n",
      "Height:\n",
      " [1] 0.5467854 1.2126736 0.4076333 1.3514850 2.4409681 0.6736203 0.9357011\n",
      " [8] 2.4409681 1.0549579 3.6578801 0.3318502 1.1860756 2.4085867 0.9928485\n",
      "[15] 0.4281143 1.6526582 2.7146246 1.9191684 1.1437203 5.1408452 0.9007800\n",
      "[22] 1.7647778 0.5443343 1.2610484 1.6110416 0.6912909 3.2025741 4.8705606\n",
      "[29] 1.3202364\n",
      "Divisive coefficient:\n",
      "[1] 0.8146336\n",
      "\n",
      "Available components:\n",
      "[1] \"order\"  \"height\" \"dc\"     \"merge\"  \"diss\"   \"call\"   \"data\"  \n"
     ]
    },
    {
     "data": {
      "image/png": "[encoded data removed]",
      "text/plain": [
       "Plot with title “Dendrogram of diana”"
      ]
     },
     "metadata": {
      "image/png": {
       "height": 600,
       "width": 960
      }
     },
     "output_type": "display_data"
    }
   ],
   "source": [
    "# Compute diana()\n",
    "# x : could be matrix or data frame, or dissimilarity matrix or object.\n",
    "# metric: character string specifying the metric to be used for calculating dissimilarities between observations.\n",
    "# The currently available options are \"euclidean\" and \"manhattan\"\n",
    "\n",
    "res_diana <- diana(x, metric = \"euclidean\", stand = FALSE)\n",
    "print(res_diana)\n",
    "# Plot the tree\n",
    "pltree(res_diana, cex = 0.6, hang = -1, main = \"Dendrogram of diana\")"
   ]
  },
  {
   "cell_type": "markdown",
   "metadata": {},
   "source": [
    "We can then analyze the dendogram and make the cuts as done previously."
   ]
  },
  {
   "cell_type": "code",
   "execution_count": 29,
   "metadata": {},
   "outputs": [
    {
     "data": {
      "text/plain": [
       "diana2\n",
       " 1  2 \n",
       "20 10 "
      ]
     },
     "metadata": {},
     "output_type": "display_data"
    },
    {
     "data": {
      "text/plain": [
       "NULL"
      ]
     },
     "metadata": {},
     "output_type": "display_data"
    }
   ],
   "source": [
    "## Cut into 2 groups:\n",
    "diana2 <- cutree(as.hclust(res_diana), k = 2)\n",
    "\n",
    "table(diana2) # 8 and 42 group members\n",
    "\n",
    "rownames(x)[diana2 == 1]"
   ]
  },
  {
   "cell_type": "code",
   "execution_count": 30,
   "metadata": {},
   "outputs": [
    {
     "data": {
      "text/html": [
       "0.814633553596214"
      ],
      "text/latex": [
       "0.814633553596214"
      ],
      "text/markdown": [
       "0.814633553596214"
      ],
      "text/plain": [
       "[1] 0.8146336"
      ]
     },
     "metadata": {},
     "output_type": "display_data"
    }
   ],
   "source": [
    "# Divise coefficient; amount of clustering structure found\n",
    "res_diana$dc"
   ]
  },
  {
   "cell_type": "markdown",
   "metadata": {},
   "source": [
    "# Save your notebook!"
   ]
  }
 ],
 "metadata": {
  "kernelspec": {
   "display_name": "R",
   "language": "R",
   "name": "ir"
  },
  "language_info": {
   "codemirror_mode": "r",
   "file_extension": ".r",
   "mimetype": "text/x-r-source",
   "name": "R",
   "pygments_lexer": "r",
   "version": "4.0.5"
  }
 },
 "nbformat": 4,
 "nbformat_minor": 1
}
