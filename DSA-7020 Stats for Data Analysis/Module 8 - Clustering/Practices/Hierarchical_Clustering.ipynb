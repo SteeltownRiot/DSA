{
 "cells": [
  {
   "cell_type": "markdown",
   "metadata": {},
   "source": [
    "<span style=\"color:#51a2d6; font-size:24px; font-weight:700\"> Hierarchical Clustering</span>\n",
    "\n",
    "In this practice, we will apply hierarchical clustering to the same data sets as we did in [k-means clustering practice](KMeans_Clustering.ipynb). \n",
    "Take a look at that practice first, if you haven't done so yet. "
   ]
  },
  {
   "cell_type": "code",
   "execution_count": null,
   "metadata": {},
   "outputs": [],
   "source": [
    "# read data from the file\n",
    "points_data1 <- read.csv(\"/dsa/data/all_datasets/toydata/data1.csv\",header=TRUE)\n",
    "\n",
    "str(points_data1)\n",
    "# Visualize the data\n",
    "library(ggplot2)\n",
    "plot1 <- ggplot(points_data1, aes(X, Y)) + geom_point(colour=\"black\")\n",
    "plot1"
   ]
  },
  {
   "cell_type": "code",
   "execution_count": null,
   "metadata": {},
   "outputs": [],
   "source": [
    "# Let's apply hierarchical clustering to this data set\n",
    "set.seed(42)\n",
    "\n",
    "hc_clust11 <- hclust(dist(points_data1[, 1:2]), method = \"complete\")\n",
    "# hclust() performs hierarchical cluster analysis on a set of dissimilarities and methods for \n",
    "# analyzing it.  Initially, each object is assigned to its own cluster and then the algorithm \n",
    "# proceeds iteratively, at each stage joining the two most similar clusters, continuing until \n",
    "# there is just a single cluster. \n",
    "\n",
    "plot(hc_clust11)"
   ]
  },
  {
   "cell_type": "markdown",
   "metadata": {},
   "source": [
    "In a dendrogram, the height gives a good idea about how \"far\" the clusters are in terms of dissimilarity. \n",
    "Above, it seems like there are two clusters in this data set based on the heights of the tree branches. \n",
    "Let's cut it at two clusters and visualize them."
   ]
  },
  {
   "cell_type": "code",
   "execution_count": null,
   "metadata": {},
   "outputs": [],
   "source": [
    "cutree(hc_clust11, k = 2)\n",
    "\n",
    "plot(hc_clust11)\n",
    "\n",
    "depth.cutoff = 8\n",
    "abline(h=depth.cutoff,col=\"red\",lty=2)"
   ]
  },
  {
   "cell_type": "markdown",
   "metadata": {},
   "source": [
    "**[Dig deeper: Different ways of plotting dendrograms](https://rpubs.com/gaston/dendrograms)**"
   ]
  },
  {
   "cell_type": "code",
   "execution_count": null,
   "metadata": {},
   "outputs": [],
   "source": [
    "# cut the tree at two clusters; cutree() returns labels for each point.\n",
    "cut2 = cutree(hc_clust11, 2)\n",
    "head(cut2)\n",
    "\n",
    "# use labels to visualize hclust clusters\n",
    "plot1 <- ggplot(points_data1, aes(X, Y)) + geom_point(aes(color = factor(cut2))) + theme(legend.position = \"top\")\n",
    "plot1"
   ]
  },
  {
   "cell_type": "markdown",
   "metadata": {},
   "source": [
    "We can do the same by using `eclust` function of **factoextra** library like following:"
   ]
  },
  {
   "cell_type": "code",
   "execution_count": null,
   "metadata": {},
   "outputs": [],
   "source": [
    "library(factoextra)\n",
    "\n",
    "# run k-means on this data and visualize \n",
    "km <- eclust(points_data1[, 1:2], \"kmeans\", k = 2, nstart = 20, graph = FALSE)\n",
    "# eclust() provides a solution for enhancing the workflow of clustering analyses \n",
    "# and ggplot2-based elegant data visualization\n",
    "\n",
    "fviz_cluster(km, geom = \"point\", frame = FALSE)"
   ]
  },
  {
   "cell_type": "code",
   "execution_count": null,
   "metadata": {},
   "outputs": [],
   "source": [
    "# run hclust on this data and visualize \n",
    "hc <- eclust(points_data1[, 1:2], \"hclust\", k = 2, method = \"complete\", graph = FALSE) \n",
    "\n",
    "# plot clusters\n",
    "fviz_cluster(hc, geom = \"point\", frame = FALSE)"
   ]
  },
  {
   "cell_type": "code",
   "execution_count": null,
   "metadata": {},
   "outputs": [],
   "source": [
    "# also plot the dendrogram\n",
    "fviz_dend(hc, rect = TRUE, show_labels = FALSE) "
   ]
  },
  {
   "cell_type": "code",
   "execution_count": null,
   "metadata": {
    "scrolled": true
   },
   "outputs": [],
   "source": [
    "# Let's compare the cluster assignments to the actual class labels\n",
    "table(cut2, points_data1$class)\n",
    "# or \n",
    "table(hc$cluster, points_data1$class)"
   ]
  },
  {
   "cell_type": "markdown",
   "metadata": {},
   "source": [
    "Let's see how it looks like for three clusters. \n",
    "\n",
    "## <span style=\"background:yellow\">YOUR TURN</span>\n",
    "\n",
    "\n",
    "**Activity 1: ** Fit a hierarchical clustering model using `eclust` in `factoextra` package. \n",
    "Plot the clusters and dendogram."
   ]
  },
  {
   "cell_type": "code",
   "execution_count": null,
   "metadata": {},
   "outputs": [],
   "source": [
    "## Complete the partially incomplete code and run the cell\n",
    "\n",
    "# run hclust on this data and visualize \n",
    "hc2 <- eclust(<what goes in here>) \n",
    "# plot clusters\n",
    "fviz_cluster(hc2, <what goes in here>)\n",
    "# Dendrogram\n",
    "fviz_dend(hc2, <what goes in here>) "
   ]
  },
  {
   "cell_type": "markdown",
   "metadata": {},
   "source": [
    "Three clusters don't make much sense as can be seen from the branch heights. \n",
    "Here, we can use **NbClust** just as in the [k-means clustering practice](KMeans_Clustering.ipynb) \n",
    "to find out at what level we should cut the tree. \n",
    "\n",
    "Let's apply it to the second data set. "
   ]
  },
  {
   "cell_type": "code",
   "execution_count": null,
   "metadata": {
    "scrolled": false
   },
   "outputs": [],
   "source": [
    "# read data from the file \n",
    "points_data2 <- read.csv(\"/dsa/data/all_datasets/toydata/data2.csv\",header=TRUE)\n",
    "\n",
    "# Visualize the data\n",
    "plot2 <- ggplot(points_data2, aes(X, Y)) + geom_point(colour=\"black\")\n",
    "plot2"
   ]
  },
  {
   "cell_type": "markdown",
   "metadata": {},
   "source": [
    "## <span style=\"background:yellow\">YOUR TURN</span>\n",
    "\n",
    "**Activity 2: ** \n",
    "Repeat activity 1 with points_data2 dataset. \n",
    "Fit a hierarchical clustering model with two clusters using eclust in factoextra package. \n",
    "Plot the clusters and dendogram."
   ]
  },
  {
   "cell_type": "code",
   "execution_count": null,
   "metadata": {
    "scrolled": true
   },
   "outputs": [],
   "source": [
    "## Complete the partially incomplete code and run the cell\n",
    "\n",
    "# run hclust on this data and visualize \n",
    "hc3 <- <what goes in here>\n",
    "# plot clusters\n",
    "fviz_cluster(<what goes in here>)\n",
    "# Dendrogram\n",
    "fviz_dend(<what goes in here>) "
   ]
  },
  {
   "cell_type": "markdown",
   "metadata": {},
   "source": [
    "Let's  see how well it does; compute the confusion given the actual labels. \n",
    "\n",
    "## <span style=\"background:yellow\">YOUR TURN</span>\n",
    "\n",
    "\n",
    "**Activity 3: ** Compute the confusion given the actual labels."
   ]
  },
  {
   "cell_type": "code",
   "execution_count": null,
   "metadata": {},
   "outputs": [],
   "source": [
    "table(<what goes in here>)"
   ]
  },
  {
   "cell_type": "markdown",
   "metadata": {},
   "source": [
    "Let's try the same approach for the third data set. \n",
    "From [k-means clustering practice](KMeans_Clustering.ipynb), \n",
    "we know that best number of clusters is either 3 or 6 depending on our choice of scale. \n",
    "Let's see how `hclust` does for those numbers. "
   ]
  },
  {
   "cell_type": "code",
   "execution_count": null,
   "metadata": {},
   "outputs": [],
   "source": [
    "# read data from file\n",
    "points_data3 <- read.csv(\"/dsa/data/all_datasets/toydata/data3.csv\",header=TRUE)\n",
    "plot3 <- ggplot(points_data3, aes(X, Y)) + geom_point(colour=\"black\")\n",
    "plot3"
   ]
  },
  {
   "cell_type": "markdown",
   "metadata": {},
   "source": [
    "## <span style=\"background:yellow\">YOUR TURN</span>\n",
    "\n",
    "**Activity 4: ** Repeat activity 1 with points_data3 dataset. \n",
    "Fit a hierarchical clustering model with 3 clusters using eclust in factoextra package. \n",
    "Plot the clusters and dendogram."
   ]
  },
  {
   "cell_type": "code",
   "execution_count": null,
   "metadata": {
    "scrolled": true
   },
   "outputs": [],
   "source": [
    "## Complete the partially incomplete code and run the cell\n",
    "\n",
    "# run hclust on this data and visualize \n",
    "hc4 <- <what goes in here>\n",
    "# plot clusters\n",
    "fviz_cluster(<what goes in here>)\n",
    "# Dendrogram\n",
    "fviz_dend(<what goes in here>) "
   ]
  },
  {
   "cell_type": "markdown",
   "metadata": {},
   "source": [
    "**Activity 5: ** Fit a hierarchical clustering model on points_data3 with 6 clusters using `eclust` \n",
    "in `factoextra` package. \n",
    "Plot the clusters and dendogram."
   ]
  },
  {
   "cell_type": "code",
   "execution_count": null,
   "metadata": {
    "scrolled": true
   },
   "outputs": [],
   "source": [
    "# run hclust on this data and visualize \n",
    "hc5 <- <what goes in here>\n",
    "# plot clusters\n",
    "fviz_cluster(<what goes in here>)\n",
    "# Dendrogram\n",
    "fviz_dend(<what goes in here>) "
   ]
  },
  {
   "cell_type": "markdown",
   "metadata": {},
   "source": [
    "Judging from the branch heights, both 3 and 6 look like reasonable numbers for number of clusters. \n",
    "4 is not bad either. \n",
    "\n",
    "# Save your notebook!"
   ]
  }
 ],
 "metadata": {
  "kernelspec": {
   "display_name": "R",
   "language": "R",
   "name": "ir"
  },
  "language_info": {
   "codemirror_mode": "r",
   "file_extension": ".r",
   "mimetype": "text/x-r-source",
   "name": "R",
   "pygments_lexer": "r",
   "version": "4.0.5"
  }
 },
 "nbformat": 4,
 "nbformat_minor": 1
}
