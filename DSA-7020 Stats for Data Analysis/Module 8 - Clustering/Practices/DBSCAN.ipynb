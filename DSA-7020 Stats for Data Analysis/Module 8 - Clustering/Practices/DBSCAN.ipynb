{
 "cells": [
  {
   "cell_type": "markdown",
   "metadata": {},
   "source": [
    "<span style=\"color:#51a2d6; font-size:24px; font-weight:700\"> DBSCAN Algorithm</span>\n",
    "\n",
    "In this practice, we will apply DBSCAN to the same data sets as in [k-means clustering practice](KMeans_Clustering.ipynb), \n",
    "so look at that practice first if you haven't already done so."
   ]
  },
  {
   "cell_type": "code",
   "execution_count": null,
   "metadata": {},
   "outputs": [],
   "source": [
    "# read data from the file\n",
    "points_data2 <- read.csv(\"/dsa/data/all_datasets/toydata/data2.csv\",header=TRUE)\n",
    "\n",
    "str(points_data2)\n",
    "# Visualize the data\n",
    "library(ggplot2)\n",
    "plot1 <- ggplot(points_data2, aes(X, Y)) + geom_point(colour=\"black\")\n",
    "plot1"
   ]
  },
  {
   "cell_type": "markdown",
   "metadata": {},
   "source": [
    "Find optimal eps value and nunber of nearest neighbours to be considered for forming clusters. "
   ]
  },
  {
   "cell_type": "code",
   "execution_count": null,
   "metadata": {},
   "outputs": [],
   "source": [
    "dbscan::kNNdistplot(points_data2[,1:2], k =  4)\n",
    "abline(h = 0.4, lty = 2,col='red')"
   ]
  },
  {
   "cell_type": "markdown",
   "metadata": {},
   "source": [
    "Let's run `dbscan` on this data set; use `eps`=0.4 and `MinPts`=4 and see if it can \n",
    "find the two clusters that are labeled in the data set. "
   ]
  },
  {
   "cell_type": "code",
   "execution_count": null,
   "metadata": {},
   "outputs": [],
   "source": [
    "library(fpc)\n",
    "library(factoextra)\n",
    "set.seed(42)\n",
    "db <- fpc::dbscan(points_data2[, 1:2], eps = 0.4, MinPts = 4)\n",
    "# Plot DBSCAN results\n",
    "plot(db, points_data2[, 1:2], main = \"DBSCAN\", frame = FALSE)"
   ]
  },
  {
   "cell_type": "markdown",
   "metadata": {},
   "source": [
    "DBSCAN did find two major clusters but there are many small clusters which are invalid. Many outliers are detected. Plot the points using fviz_cluster()"
   ]
  },
  {
   "cell_type": "code",
   "execution_count": null,
   "metadata": {
    "scrolled": false
   },
   "outputs": [],
   "source": [
    "# also, plot the results using fviz\n",
    "fviz_cluster(db, points_data2[, 1:2], stand = FALSE, frame = FALSE, geom = \"point\")"
   ]
  },
  {
   "cell_type": "markdown",
   "metadata": {},
   "source": [
    "Again there are some extra clusters, let's increase the `eps` to 0.5 and see what happens. \n",
    "\n",
    "## <span style=\"background:yellow\">YOUR TURN</span>"
   ]
  },
  {
   "cell_type": "code",
   "execution_count": null,
   "metadata": {},
   "outputs": [],
   "source": [
    "db <- fpc::dbscan(<what goes in here>)\n",
    "# Plot DBSCAN results\n",
    "plot(db, points_data2[, 1:2], main = \"DBSCAN\", frame = FALSE)"
   ]
  },
  {
   "cell_type": "markdown",
   "metadata": {},
   "source": [
    "DBScan put almost all points into the same cluster with some outliers; \n",
    "it is somewhat sensitive to the choice of `eps`. \n",
    "\n",
    "Let's try it on the third data set where we know there are 3 or 6 clusters depending on the scale. "
   ]
  },
  {
   "cell_type": "code",
   "execution_count": null,
   "metadata": {},
   "outputs": [],
   "source": [
    "# read data from the file\n",
    "points_data3 <- read.csv(\"/dsa/data/all_datasets/toydata/data3.csv\",header=TRUE)\n",
    "\n",
    "str(points_data3)\n",
    "# Visualize the data\n",
    "library(ggplot2)\n",
    "plot1 <- ggplot(points_data3, aes(X, Y)) + geom_point(colour=\"black\")\n",
    "plot1"
   ]
  },
  {
   "cell_type": "markdown",
   "metadata": {},
   "source": [
    "Decrease the eps value to 0.25 and and minPts to 3 and see what happens. "
   ]
  },
  {
   "cell_type": "code",
   "execution_count": null,
   "metadata": {},
   "outputs": [],
   "source": [
    "db <- fpc::dbscan(points_data3[, 1:2], eps = 0.25, MinPts = 3)\n",
    "# Plot DBSCAN results\n",
    "plot(db, points_data3[, 1:2], main = \"DBSCAN\", frame = FALSE)"
   ]
  },
  {
   "cell_type": "code",
   "execution_count": null,
   "metadata": {
    "scrolled": true
   },
   "outputs": [],
   "source": [
    "# also, plot the results using fviz\n",
    "fviz_cluster(db, points_data3[, 1:2], stand = FALSE, frame = FALSE, geom = \"point\")"
   ]
  },
  {
   "cell_type": "markdown",
   "metadata": {},
   "source": [
    "Let's try it for a smaller eps (0.2) and larger MinPts (5) to see if it can capture six clusters. \n",
    "\n",
    "## <span style=\"background:yellow\">YOUR TURN</span>"
   ]
  },
  {
   "cell_type": "code",
   "execution_count": null,
   "metadata": {},
   "outputs": [],
   "source": [
    "db <- <what goes in here>\n",
    "# Plot DBSCAN results\n",
    "plot(<what goes in here>)"
   ]
  },
  {
   "cell_type": "markdown",
   "metadata": {},
   "source": [
    "As you can see, \n",
    "dbscan was able to find 6 clusters with a smaller eps value. \n",
    "The clusters are overlapping, have different densities, and have outliers; \n",
    "dbscan can easily merge clusters for a slightly larger eps, or produce many outliers \n",
    "for a slightly smaller eps for this data set. \n",
    "\n",
    "# Save your notebook!"
   ]
  }
 ],
 "metadata": {
  "kernelspec": {
   "display_name": "R",
   "language": "R",
   "name": "ir"
  },
  "language_info": {
   "codemirror_mode": "r",
   "file_extension": ".r",
   "mimetype": "text/x-r-source",
   "name": "R",
   "pygments_lexer": "r",
   "version": "4.0.5"
  }
 },
 "nbformat": 4,
 "nbformat_minor": 1
}
