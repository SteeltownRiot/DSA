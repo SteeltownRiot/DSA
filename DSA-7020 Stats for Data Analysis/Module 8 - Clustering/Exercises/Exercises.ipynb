{
 "cells": [
  {
   "cell_type": "markdown",
   "metadata": {},
   "source": [
    "# Module 8 - Final Project \n",
    "\n",
    "\n",
    "**In this final project, you will demonstrate what you have learned in this class by applying a thorough data analysis to a data set of your choice.** \n",
    "\n",
    "As discussed on the discussion boards in the last two weeks, your data set should contain rich enough features and a moderate size so that you can apply the methods you have learned to derive some **insights** from the data. The ultimate goal of data analysis is to learn from the data so that we can form useful and actionable knowledge. \n",
    " \n",
    "\n",
    "Use this notebook for the analysis of your final project. **Your deliverables for the final project are:** \n",
    "\n",
    " - **This notebook**: contains the **full** data science project life cycle as you have learned in the Intro class. \n",
    "   - Load your data, clean your data, include all the carpentry you need to put it into some shape for your later analysis. \n",
    "   - EDA: exploratory data analysis: this is where you do the univariate and multivariate analyses; visualize your data to understand the shape and associations in it. Plot densities, histograms, scatter plots, etc. Look for correlations, patterns, clusters, etc. \n",
    "   - Modeling: use any of the adequate techniques to see if you can model the affects of the variables on each other. You can try to reduce dimensionality, try to do regression, hypothesis testing, etc. to see how variables affect each other. \n",
    "   - **Insights:** the point of data analysis to derive **insights** from your data. What do you see? What did you learn from the data? Did it answer your initial question or did it verify your hypothesis? \n",
    "   - **Presenting results**: Communicate your results effectively using visualization principles you have learned. \n",
    "   \n",
    "   \n",
    "   \n",
    " - A **pdf** file that contains a few slides to summarize your results: similar to the data vis course, create a pdf document that can contain up to 3-4 slides (**no more**) to present your results. \n",
    " \n",
    " \n",
    " \n",
    " - Upload your data set to this folder (under exercises folder). \n",
    " \n",
    " ---\n",
    " \n",
    " \n",
    " **You should have ample explanation and comments for all your data analysis in this notebook.** Think of it as a LAB notebook: imagine that you are creating a lab notebook for others to follow and learn from your analysis. You should have enough details so that somebody can recreate your analysis by following your descriptions and explanations. \n",
    " \n",
    " Have a markdown cell before each code cell explaining **what** you are doing and **why** you are doing it. Have comments in the code cell. Have a markdown cell **after** every code cell explaining what you just found out by running that code cell before. \n",
    " \n",
    " ---\n",
    " \n",
    " "
   ]
  },
  {
   "cell_type": "markdown",
   "metadata": {},
   "source": [
    "## 1. Loading, Cleaning, Displaying Data \n",
    "\n",
    "Explain your data set here; what is it about? What are the variables? What do you want to do with it? How are you going to clean it? etc. \n"
   ]
  },
  {
   "cell_type": "raw",
   "metadata": {},
   "source": [
    "This data was compiled from many sources in order to get cancer mortality and incidence data as well as demographic data:\n",
    "    statecancerprofiles.cancer.gov\n",
    "    seer.cancer.gov\n",
    "    surveillance.cancer.gov\n",
    "    data.world/uscensusbureau\n",
    "    "
   ]
  },
  {
   "cell_type": "code",
   "execution_count": null,
   "metadata": {},
   "outputs": [],
   "source": [
    "\n"
   ]
  },
  {
   "cell_type": "code",
   "execution_count": 2,
   "metadata": {},
   "outputs": [],
   "source": [
    "## load your data, display with head(), clean, etc. \n",
    "# Read data from files\n",
    "mortality_data <- read.csv(\"mortality_data.csv\",header=TRUE)\n",
    "incidence_data <- read.csv(\"incidence_data.csv\",header=TRUE)\n",
    "income_data <- read.csv(\"income_data.csv\",header=TRUE)\n",
    "insurance_data <- read.csv(\"insurance_data.csv\",header=TRUE)\n",
    "poverty_data <- read.csv(\"poverty_data.csv\",header=TRUE)\n"
   ]
  },
  {
   "cell_type": "code",
   "execution_count": 3,
   "metadata": {},
   "outputs": [
    {
     "data": {
      "text/html": [
       "<table class=\"dataframe\">\n",
       "<caption>A data.frame: 6 × 11</caption>\n",
       "<thead>\n",
       "\t<tr><th></th><th scope=col>county</th><th scope=col>fips</th><th scope=col>met_objective_of_45_5_1</th><th scope=col>age_adjusted_death_rate</th><th scope=col>lower_95_confidence_interval_for_death_rate</th><th scope=col>upper_95_confidence_interval_for_death_rate</th><th scope=col>average_deaths_per_year</th><th scope=col>recent_trend_2</th><th scope=col>recent_5_year_trend_2_in_death_rates</th><th scope=col>lower_95_confidence_interval_for_trend</th><th scope=col>upper_95_confidence_interval_for_trend</th></tr>\n",
       "\t<tr><th></th><th scope=col>&lt;chr&gt;</th><th scope=col>&lt;int&gt;</th><th scope=col>&lt;chr&gt;</th><th scope=col>&lt;chr&gt;</th><th scope=col>&lt;chr&gt;</th><th scope=col>&lt;chr&gt;</th><th scope=col>&lt;chr&gt;</th><th scope=col>&lt;chr&gt;</th><th scope=col>&lt;chr&gt;</th><th scope=col>&lt;chr&gt;</th><th scope=col>&lt;chr&gt;</th></tr>\n",
       "</thead>\n",
       "<tbody>\n",
       "\t<tr><th scope=row>1</th><td>United States              </td><td>    0</td><td>No</td><td>46   </td><td>45.9 </td><td>46.1 </td><td>157,376</td><td>falling</td><td>-2.4</td><td>-2.6</td><td>-2.2</td></tr>\n",
       "\t<tr><th scope=row>2</th><td>Perry County, Kentucky     </td><td>21193</td><td>No</td><td>125.6</td><td>108.9</td><td>144.2</td><td>43     </td><td>stable </td><td>-0.6</td><td>-2.7</td><td>1.6 </td></tr>\n",
       "\t<tr><th scope=row>3</th><td>Powell County, Kentucky    </td><td>21197</td><td>No</td><td>125.3</td><td>100.2</td><td>155.1</td><td>18     </td><td>stable </td><td>1.7 </td><td>0   </td><td>3.4 </td></tr>\n",
       "\t<tr><th scope=row>4</th><td>North Slope Borough, Alaska</td><td> 2185</td><td>No</td><td>124.9</td><td>73   </td><td>194.7</td><td>5      </td><td>**     </td><td>**  </td><td>**  </td><td>**  </td></tr>\n",
       "\t<tr><th scope=row>5</th><td>Owsley County, Kentucky    </td><td>21189</td><td>No</td><td>118.5</td><td>83.1 </td><td>165.5</td><td>8      </td><td>stable </td><td>2.2 </td><td>-0.4</td><td>4.8 </td></tr>\n",
       "\t<tr><th scope=row>6</th><td>Union County, Florida      </td><td>12125</td><td>No</td><td>113.5</td><td>89.9 </td><td>141.4</td><td>19     </td><td>falling</td><td>-2.2</td><td>-4.3</td><td>0   </td></tr>\n",
       "</tbody>\n",
       "</table>\n"
      ],
      "text/latex": [
       "A data.frame: 6 × 11\n",
       "\\begin{tabular}{r|lllllllllll}\n",
       "  & county & fips & met\\_objective\\_of\\_45\\_5\\_1 & age\\_adjusted\\_death\\_rate & lower\\_95\\_confidence\\_interval\\_for\\_death\\_rate & upper\\_95\\_confidence\\_interval\\_for\\_death\\_rate & average\\_deaths\\_per\\_year & recent\\_trend\\_2 & recent\\_5\\_year\\_trend\\_2\\_in\\_death\\_rates & lower\\_95\\_confidence\\_interval\\_for\\_trend & upper\\_95\\_confidence\\_interval\\_for\\_trend\\\\\n",
       "  & <chr> & <int> & <chr> & <chr> & <chr> & <chr> & <chr> & <chr> & <chr> & <chr> & <chr>\\\\\n",
       "\\hline\n",
       "\t1 & United States               &     0 & No & 46    & 45.9  & 46.1  & 157,376 & falling & -2.4 & -2.6 & -2.2\\\\\n",
       "\t2 & Perry County, Kentucky      & 21193 & No & 125.6 & 108.9 & 144.2 & 43      & stable  & -0.6 & -2.7 & 1.6 \\\\\n",
       "\t3 & Powell County, Kentucky     & 21197 & No & 125.3 & 100.2 & 155.1 & 18      & stable  & 1.7  & 0    & 3.4 \\\\\n",
       "\t4 & North Slope Borough, Alaska &  2185 & No & 124.9 & 73    & 194.7 & 5       & **      & **   & **   & **  \\\\\n",
       "\t5 & Owsley County, Kentucky     & 21189 & No & 118.5 & 83.1  & 165.5 & 8       & stable  & 2.2  & -0.4 & 4.8 \\\\\n",
       "\t6 & Union County, Florida       & 12125 & No & 113.5 & 89.9  & 141.4 & 19      & falling & -2.2 & -4.3 & 0   \\\\\n",
       "\\end{tabular}\n"
      ],
      "text/markdown": [
       "\n",
       "A data.frame: 6 × 11\n",
       "\n",
       "| <!--/--> | county &lt;chr&gt; | fips &lt;int&gt; | met_objective_of_45_5_1 &lt;chr&gt; | age_adjusted_death_rate &lt;chr&gt; | lower_95_confidence_interval_for_death_rate &lt;chr&gt; | upper_95_confidence_interval_for_death_rate &lt;chr&gt; | average_deaths_per_year &lt;chr&gt; | recent_trend_2 &lt;chr&gt; | recent_5_year_trend_2_in_death_rates &lt;chr&gt; | lower_95_confidence_interval_for_trend &lt;chr&gt; | upper_95_confidence_interval_for_trend &lt;chr&gt; |\n",
       "|---|---|---|---|---|---|---|---|---|---|---|---|\n",
       "| 1 | United States               |     0 | No | 46    | 45.9  | 46.1  | 157,376 | falling | -2.4 | -2.6 | -2.2 |\n",
       "| 2 | Perry County, Kentucky      | 21193 | No | 125.6 | 108.9 | 144.2 | 43      | stable  | -0.6 | -2.7 | 1.6  |\n",
       "| 3 | Powell County, Kentucky     | 21197 | No | 125.3 | 100.2 | 155.1 | 18      | stable  | 1.7  | 0    | 3.4  |\n",
       "| 4 | North Slope Borough, Alaska |  2185 | No | 124.9 | 73    | 194.7 | 5       | **      | **   | **   | **   |\n",
       "| 5 | Owsley County, Kentucky     | 21189 | No | 118.5 | 83.1  | 165.5 | 8       | stable  | 2.2  | -0.4 | 4.8  |\n",
       "| 6 | Union County, Florida       | 12125 | No | 113.5 | 89.9  | 141.4 | 19      | falling | -2.2 | -4.3 | 0    |\n",
       "\n"
      ],
      "text/plain": [
       "  county                      fips  met_objective_of_45_5_1\n",
       "1 United States                   0 No                     \n",
       "2 Perry County, Kentucky      21193 No                     \n",
       "3 Powell County, Kentucky     21197 No                     \n",
       "4 North Slope Borough, Alaska  2185 No                     \n",
       "5 Owsley County, Kentucky     21189 No                     \n",
       "6 Union County, Florida       12125 No                     \n",
       "  age_adjusted_death_rate lower_95_confidence_interval_for_death_rate\n",
       "1 46                      45.9                                       \n",
       "2 125.6                   108.9                                      \n",
       "3 125.3                   100.2                                      \n",
       "4 124.9                   73                                         \n",
       "5 118.5                   83.1                                       \n",
       "6 113.5                   89.9                                       \n",
       "  upper_95_confidence_interval_for_death_rate average_deaths_per_year\n",
       "1 46.1                                        157,376                \n",
       "2 144.2                                       43                     \n",
       "3 155.1                                       18                     \n",
       "4 194.7                                       5                      \n",
       "5 165.5                                       8                      \n",
       "6 141.4                                       19                     \n",
       "  recent_trend_2 recent_5_year_trend_2_in_death_rates\n",
       "1 falling        -2.4                                \n",
       "2 stable         -0.6                                \n",
       "3 stable         1.7                                 \n",
       "4 **             **                                  \n",
       "5 stable         2.2                                 \n",
       "6 falling        -2.2                                \n",
       "  lower_95_confidence_interval_for_trend upper_95_confidence_interval_for_trend\n",
       "1 -2.6                                   -2.2                                  \n",
       "2 -2.7                                   1.6                                   \n",
       "3 0                                      3.4                                   \n",
       "4 **                                     **                                    \n",
       "5 -0.4                                   4.8                                   \n",
       "6 -4.3                                   0                                     "
      ]
     },
     "metadata": {},
     "output_type": "display_data"
    },
    {
     "data": {
      "text/html": [
       "<table class=\"dataframe\">\n",
       "<caption>A data.frame: 6 × 10</caption>\n",
       "<thead>\n",
       "\t<tr><th></th><th scope=col>county</th><th scope=col>fips</th><th scope=col>age_adjusted_incidence_rate_e_cases_per_100_000</th><th scope=col>lower_95_confidence_interval</th><th scope=col>upper_95_confidence_interval</th><th scope=col>average_annual_count</th><th scope=col>recent_trend</th><th scope=col>recent_5_year_trend_in_incidence_rates</th><th scope=col>lower_95_confidence_interval_2</th><th scope=col>upper_95_confidence_interval_2</th></tr>\n",
       "\t<tr><th></th><th scope=col>&lt;chr&gt;</th><th scope=col>&lt;int&gt;</th><th scope=col>&lt;chr&gt;</th><th scope=col>&lt;chr&gt;</th><th scope=col>&lt;chr&gt;</th><th scope=col>&lt;chr&gt;</th><th scope=col>&lt;chr&gt;</th><th scope=col>&lt;chr&gt;</th><th scope=col>&lt;chr&gt;</th><th scope=col>&lt;chr&gt;</th></tr>\n",
       "</thead>\n",
       "<tbody>\n",
       "\t<tr><th scope=row>1</th><td>US (SEER+NPCR)(1,10)         </td><td>   0</td><td>62.4</td><td>62.3</td><td>62.6 </td><td>214614</td><td>falling</td><td>-2.5 </td><td>-3   </td><td>-2  </td></tr>\n",
       "\t<tr><th scope=row>2</th><td>Autauga County, Alabama(6,10)</td><td>1001</td><td>74.9</td><td>65.1</td><td>85.7 </td><td>43    </td><td>stable </td><td>0.5  </td><td>-14.9</td><td>18.6</td></tr>\n",
       "\t<tr><th scope=row>3</th><td>Baldwin County, Alabama(6,10)</td><td>1003</td><td>66.9</td><td>62.4</td><td>71.7 </td><td>170   </td><td>stable </td><td>3    </td><td>-10.2</td><td>18.3</td></tr>\n",
       "\t<tr><th scope=row>4</th><td>Barbour County, Alabama(6,10)</td><td>1005</td><td>74.6</td><td>61.8</td><td>89.4 </td><td>25    </td><td>stable </td><td>-6.4 </td><td>-18.3</td><td>7.3 </td></tr>\n",
       "\t<tr><th scope=row>5</th><td>Bibb County, Alabama(6,10)   </td><td>1007</td><td>86.4</td><td>71  </td><td>104.2</td><td>23    </td><td>stable </td><td>-4.5 </td><td>-31.4</td><td>32.9</td></tr>\n",
       "\t<tr><th scope=row>6</th><td>Blount County, Alabama(6,10) </td><td>1009</td><td>69.7</td><td>61.2</td><td>79   </td><td>51    </td><td>stable </td><td>-13.6</td><td>-27.8</td><td>3.4 </td></tr>\n",
       "</tbody>\n",
       "</table>\n"
      ],
      "text/latex": [
       "A data.frame: 6 × 10\n",
       "\\begin{tabular}{r|llllllllll}\n",
       "  & county & fips & age\\_adjusted\\_incidence\\_rate\\_e\\_cases\\_per\\_100\\_000 & lower\\_95\\_confidence\\_interval & upper\\_95\\_confidence\\_interval & average\\_annual\\_count & recent\\_trend & recent\\_5\\_year\\_trend\\_in\\_incidence\\_rates & lower\\_95\\_confidence\\_interval\\_2 & upper\\_95\\_confidence\\_interval\\_2\\\\\n",
       "  & <chr> & <int> & <chr> & <chr> & <chr> & <chr> & <chr> & <chr> & <chr> & <chr>\\\\\n",
       "\\hline\n",
       "\t1 & US (SEER+NPCR)(1,10)          &    0 & 62.4 & 62.3 & 62.6  & 214614 & falling & -2.5  & -3    & -2  \\\\\n",
       "\t2 & Autauga County, Alabama(6,10) & 1001 & 74.9 & 65.1 & 85.7  & 43     & stable  & 0.5   & -14.9 & 18.6\\\\\n",
       "\t3 & Baldwin County, Alabama(6,10) & 1003 & 66.9 & 62.4 & 71.7  & 170    & stable  & 3     & -10.2 & 18.3\\\\\n",
       "\t4 & Barbour County, Alabama(6,10) & 1005 & 74.6 & 61.8 & 89.4  & 25     & stable  & -6.4  & -18.3 & 7.3 \\\\\n",
       "\t5 & Bibb County, Alabama(6,10)    & 1007 & 86.4 & 71   & 104.2 & 23     & stable  & -4.5  & -31.4 & 32.9\\\\\n",
       "\t6 & Blount County, Alabama(6,10)  & 1009 & 69.7 & 61.2 & 79    & 51     & stable  & -13.6 & -27.8 & 3.4 \\\\\n",
       "\\end{tabular}\n"
      ],
      "text/markdown": [
       "\n",
       "A data.frame: 6 × 10\n",
       "\n",
       "| <!--/--> | county &lt;chr&gt; | fips &lt;int&gt; | age_adjusted_incidence_rate_e_cases_per_100_000 &lt;chr&gt; | lower_95_confidence_interval &lt;chr&gt; | upper_95_confidence_interval &lt;chr&gt; | average_annual_count &lt;chr&gt; | recent_trend &lt;chr&gt; | recent_5_year_trend_in_incidence_rates &lt;chr&gt; | lower_95_confidence_interval_2 &lt;chr&gt; | upper_95_confidence_interval_2 &lt;chr&gt; |\n",
       "|---|---|---|---|---|---|---|---|---|---|---|\n",
       "| 1 | US (SEER+NPCR)(1,10)          |    0 | 62.4 | 62.3 | 62.6  | 214614 | falling | -2.5  | -3    | -2   |\n",
       "| 2 | Autauga County, Alabama(6,10) | 1001 | 74.9 | 65.1 | 85.7  | 43     | stable  | 0.5   | -14.9 | 18.6 |\n",
       "| 3 | Baldwin County, Alabama(6,10) | 1003 | 66.9 | 62.4 | 71.7  | 170    | stable  | 3     | -10.2 | 18.3 |\n",
       "| 4 | Barbour County, Alabama(6,10) | 1005 | 74.6 | 61.8 | 89.4  | 25     | stable  | -6.4  | -18.3 | 7.3  |\n",
       "| 5 | Bibb County, Alabama(6,10)    | 1007 | 86.4 | 71   | 104.2 | 23     | stable  | -4.5  | -31.4 | 32.9 |\n",
       "| 6 | Blount County, Alabama(6,10)  | 1009 | 69.7 | 61.2 | 79    | 51     | stable  | -13.6 | -27.8 | 3.4  |\n",
       "\n"
      ],
      "text/plain": [
       "  county                        fips\n",
       "1 US (SEER+NPCR)(1,10)             0\n",
       "2 Autauga County, Alabama(6,10) 1001\n",
       "3 Baldwin County, Alabama(6,10) 1003\n",
       "4 Barbour County, Alabama(6,10) 1005\n",
       "5 Bibb County, Alabama(6,10)    1007\n",
       "6 Blount County, Alabama(6,10)  1009\n",
       "  age_adjusted_incidence_rate_e_cases_per_100_000 lower_95_confidence_interval\n",
       "1 62.4                                            62.3                        \n",
       "2 74.9                                            65.1                        \n",
       "3 66.9                                            62.4                        \n",
       "4 74.6                                            61.8                        \n",
       "5 86.4                                            71                          \n",
       "6 69.7                                            61.2                        \n",
       "  upper_95_confidence_interval average_annual_count recent_trend\n",
       "1 62.6                         214614               falling     \n",
       "2 85.7                         43                   stable      \n",
       "3 71.7                         170                  stable      \n",
       "4 89.4                         25                   stable      \n",
       "5 104.2                        23                   stable      \n",
       "6 79                           51                   stable      \n",
       "  recent_5_year_trend_in_incidence_rates lower_95_confidence_interval_2\n",
       "1 -2.5                                   -3                            \n",
       "2 0.5                                    -14.9                         \n",
       "3 3                                      -10.2                         \n",
       "4 -6.4                                   -18.3                         \n",
       "5 -4.5                                   -31.4                         \n",
       "6 -13.6                                  -27.8                         \n",
       "  upper_95_confidence_interval_2\n",
       "1 -2                            \n",
       "2 18.6                          \n",
       "3 18.3                          \n",
       "4 7.3                           \n",
       "5 32.9                          \n",
       "6 3.4                           "
      ]
     },
     "metadata": {},
     "output_type": "display_data"
    },
    {
     "data": {
      "text/html": [
       "<table class=\"dataframe\">\n",
       "<caption>A data.frame: 6 × 8</caption>\n",
       "<thead>\n",
       "\t<tr><th></th><th scope=col>StateFIPS</th><th scope=col>CountyFIPS</th><th scope=col>Median_Income</th><th scope=col>Median_Income_White</th><th scope=col>Median_Income_Black</th><th scope=col>Median_Income_NativeAmerican</th><th scope=col>Median_Income_Asian</th><th scope=col>Median_Income_Hispanic</th></tr>\n",
       "\t<tr><th></th><th scope=col>&lt;int&gt;</th><th scope=col>&lt;int&gt;</th><th scope=col>&lt;int&gt;</th><th scope=col>&lt;int&gt;</th><th scope=col>&lt;int&gt;</th><th scope=col>&lt;int&gt;</th><th scope=col>&lt;int&gt;</th><th scope=col>&lt;int&gt;</th></tr>\n",
       "</thead>\n",
       "<tbody>\n",
       "\t<tr><th scope=row>1</th><td>2</td><td>13</td><td>61518</td><td>72639</td><td>31250</td><td>54750</td><td> 62679</td><td> 51250</td></tr>\n",
       "\t<tr><th scope=row>2</th><td>2</td><td>16</td><td>84306</td><td>97321</td><td>93750</td><td>48750</td><td> 81250</td><td> 77500</td></tr>\n",
       "\t<tr><th scope=row>3</th><td>2</td><td>20</td><td>78326</td><td>87235</td><td>50535</td><td>53935</td><td> 63757</td><td> 53926</td></tr>\n",
       "\t<tr><th scope=row>4</th><td>2</td><td>50</td><td>51012</td><td>92647</td><td>73661</td><td>41594</td><td>110625</td><td>160114</td></tr>\n",
       "\t<tr><th scope=row>5</th><td>2</td><td>60</td><td>79750</td><td>88000</td><td>   NA</td><td>63333</td><td>    NA</td><td> 25625</td></tr>\n",
       "\t<tr><th scope=row>6</th><td>2</td><td>68</td><td>81544</td><td>81029</td><td>   NA</td><td>47500</td><td>    NA</td><td>    NA</td></tr>\n",
       "</tbody>\n",
       "</table>\n"
      ],
      "text/latex": [
       "A data.frame: 6 × 8\n",
       "\\begin{tabular}{r|llllllll}\n",
       "  & StateFIPS & CountyFIPS & Median\\_Income & Median\\_Income\\_White & Median\\_Income\\_Black & Median\\_Income\\_NativeAmerican & Median\\_Income\\_Asian & Median\\_Income\\_Hispanic\\\\\n",
       "  & <int> & <int> & <int> & <int> & <int> & <int> & <int> & <int>\\\\\n",
       "\\hline\n",
       "\t1 & 2 & 13 & 61518 & 72639 & 31250 & 54750 &  62679 &  51250\\\\\n",
       "\t2 & 2 & 16 & 84306 & 97321 & 93750 & 48750 &  81250 &  77500\\\\\n",
       "\t3 & 2 & 20 & 78326 & 87235 & 50535 & 53935 &  63757 &  53926\\\\\n",
       "\t4 & 2 & 50 & 51012 & 92647 & 73661 & 41594 & 110625 & 160114\\\\\n",
       "\t5 & 2 & 60 & 79750 & 88000 &    NA & 63333 &     NA &  25625\\\\\n",
       "\t6 & 2 & 68 & 81544 & 81029 &    NA & 47500 &     NA &     NA\\\\\n",
       "\\end{tabular}\n"
      ],
      "text/markdown": [
       "\n",
       "A data.frame: 6 × 8\n",
       "\n",
       "| <!--/--> | StateFIPS &lt;int&gt; | CountyFIPS &lt;int&gt; | Median_Income &lt;int&gt; | Median_Income_White &lt;int&gt; | Median_Income_Black &lt;int&gt; | Median_Income_NativeAmerican &lt;int&gt; | Median_Income_Asian &lt;int&gt; | Median_Income_Hispanic &lt;int&gt; |\n",
       "|---|---|---|---|---|---|---|---|---|\n",
       "| 1 | 2 | 13 | 61518 | 72639 | 31250 | 54750 |  62679 |  51250 |\n",
       "| 2 | 2 | 16 | 84306 | 97321 | 93750 | 48750 |  81250 |  77500 |\n",
       "| 3 | 2 | 20 | 78326 | 87235 | 50535 | 53935 |  63757 |  53926 |\n",
       "| 4 | 2 | 50 | 51012 | 92647 | 73661 | 41594 | 110625 | 160114 |\n",
       "| 5 | 2 | 60 | 79750 | 88000 |    NA | 63333 |     NA |  25625 |\n",
       "| 6 | 2 | 68 | 81544 | 81029 |    NA | 47500 |     NA |     NA |\n",
       "\n"
      ],
      "text/plain": [
       "  StateFIPS CountyFIPS Median_Income Median_Income_White Median_Income_Black\n",
       "1 2         13         61518         72639               31250              \n",
       "2 2         16         84306         97321               93750              \n",
       "3 2         20         78326         87235               50535              \n",
       "4 2         50         51012         92647               73661              \n",
       "5 2         60         79750         88000                  NA              \n",
       "6 2         68         81544         81029                  NA              \n",
       "  Median_Income_NativeAmerican Median_Income_Asian Median_Income_Hispanic\n",
       "1 54750                         62679               51250                \n",
       "2 48750                         81250               77500                \n",
       "3 53935                         63757               53926                \n",
       "4 41594                        110625              160114                \n",
       "5 63333                            NA               25625                \n",
       "6 47500                            NA                  NA                "
      ]
     },
     "metadata": {},
     "output_type": "display_data"
    },
    {
     "data": {
      "text/html": [
       "<table class=\"dataframe\">\n",
       "<caption>A data.frame: 6 × 8</caption>\n",
       "<thead>\n",
       "\t<tr><th></th><th scope=col>StateFIPS</th><th scope=col>CountyFIPS</th><th scope=col>M_With_Ins</th><th scope=col>M_Without_Ins</th><th scope=col>F_With_Ins</th><th scope=col>F_Without_Ins</th><th scope=col>All_With_Ins</th><th scope=col>All_Without_Ins</th></tr>\n",
       "\t<tr><th></th><th scope=col>&lt;int&gt;</th><th scope=col>&lt;int&gt;</th><th scope=col>&lt;int&gt;</th><th scope=col>&lt;int&gt;</th><th scope=col>&lt;int&gt;</th><th scope=col>&lt;int&gt;</th><th scope=col>&lt;int&gt;</th><th scope=col>&lt;int&gt;</th></tr>\n",
       "</thead>\n",
       "<tbody>\n",
       "\t<tr><th scope=row>1</th><td>2</td><td>13</td><td>   876</td><td> 1317</td><td>   566</td><td>  540</td><td>  1442</td><td> 1857</td></tr>\n",
       "\t<tr><th scope=row>2</th><td>2</td><td>16</td><td>  2470</td><td>  769</td><td>  1707</td><td>  564</td><td>  4177</td><td> 1333</td></tr>\n",
       "\t<tr><th scope=row>3</th><td>2</td><td>20</td><td>120747</td><td>23245</td><td>122426</td><td>21393</td><td>243173</td><td>44638</td></tr>\n",
       "\t<tr><th scope=row>4</th><td>2</td><td>50</td><td>  6396</td><td> 2708</td><td>  6627</td><td> 1774</td><td> 13023</td><td> 4482</td></tr>\n",
       "\t<tr><th scope=row>5</th><td>2</td><td>60</td><td>   419</td><td>  124</td><td>   349</td><td>   67</td><td>   768</td><td>  191</td></tr>\n",
       "\t<tr><th scope=row>6</th><td>2</td><td>68</td><td>   822</td><td>  253</td><td>   674</td><td>  250</td><td>  1496</td><td>  503</td></tr>\n",
       "</tbody>\n",
       "</table>\n"
      ],
      "text/latex": [
       "A data.frame: 6 × 8\n",
       "\\begin{tabular}{r|llllllll}\n",
       "  & StateFIPS & CountyFIPS & M\\_With\\_Ins & M\\_Without\\_Ins & F\\_With\\_Ins & F\\_Without\\_Ins & All\\_With\\_Ins & All\\_Without\\_Ins\\\\\n",
       "  & <int> & <int> & <int> & <int> & <int> & <int> & <int> & <int>\\\\\n",
       "\\hline\n",
       "\t1 & 2 & 13 &    876 &  1317 &    566 &   540 &   1442 &  1857\\\\\n",
       "\t2 & 2 & 16 &   2470 &   769 &   1707 &   564 &   4177 &  1333\\\\\n",
       "\t3 & 2 & 20 & 120747 & 23245 & 122426 & 21393 & 243173 & 44638\\\\\n",
       "\t4 & 2 & 50 &   6396 &  2708 &   6627 &  1774 &  13023 &  4482\\\\\n",
       "\t5 & 2 & 60 &    419 &   124 &    349 &    67 &    768 &   191\\\\\n",
       "\t6 & 2 & 68 &    822 &   253 &    674 &   250 &   1496 &   503\\\\\n",
       "\\end{tabular}\n"
      ],
      "text/markdown": [
       "\n",
       "A data.frame: 6 × 8\n",
       "\n",
       "| <!--/--> | StateFIPS &lt;int&gt; | CountyFIPS &lt;int&gt; | M_With_Ins &lt;int&gt; | M_Without_Ins &lt;int&gt; | F_With_Ins &lt;int&gt; | F_Without_Ins &lt;int&gt; | All_With_Ins &lt;int&gt; | All_Without_Ins &lt;int&gt; |\n",
       "|---|---|---|---|---|---|---|---|---|\n",
       "| 1 | 2 | 13 |    876 |  1317 |    566 |   540 |   1442 |  1857 |\n",
       "| 2 | 2 | 16 |   2470 |   769 |   1707 |   564 |   4177 |  1333 |\n",
       "| 3 | 2 | 20 | 120747 | 23245 | 122426 | 21393 | 243173 | 44638 |\n",
       "| 4 | 2 | 50 |   6396 |  2708 |   6627 |  1774 |  13023 |  4482 |\n",
       "| 5 | 2 | 60 |    419 |   124 |    349 |    67 |    768 |   191 |\n",
       "| 6 | 2 | 68 |    822 |   253 |    674 |   250 |   1496 |   503 |\n",
       "\n"
      ],
      "text/plain": [
       "  StateFIPS CountyFIPS M_With_Ins M_Without_Ins F_With_Ins F_Without_Ins\n",
       "1 2         13            876      1317            566       540        \n",
       "2 2         16           2470       769           1707       564        \n",
       "3 2         20         120747     23245         122426     21393        \n",
       "4 2         50           6396      2708           6627      1774        \n",
       "5 2         60            419       124            349        67        \n",
       "6 2         68            822       253            674       250        \n",
       "  All_With_Ins All_Without_Ins\n",
       "1   1442        1857          \n",
       "2   4177        1333          \n",
       "3 243173       44638          \n",
       "4  13023        4482          \n",
       "5    768         191          \n",
       "6   1496         503          "
      ]
     },
     "metadata": {},
     "output_type": "display_data"
    },
    {
     "data": {
      "text/html": [
       "<table class=\"dataframe\">\n",
       "<caption>A data.frame: 6 × 7</caption>\n",
       "<thead>\n",
       "\t<tr><th></th><th scope=col>State</th><th scope=col>StateFIPS</th><th scope=col>CountyFIPS</th><th scope=col>AreaName</th><th scope=col>All_Poverty</th><th scope=col>M_Poverty</th><th scope=col>F_Poverty</th></tr>\n",
       "\t<tr><th></th><th scope=col>&lt;chr&gt;</th><th scope=col>&lt;int&gt;</th><th scope=col>&lt;int&gt;</th><th scope=col>&lt;chr&gt;</th><th scope=col>&lt;int&gt;</th><th scope=col>&lt;int&gt;</th><th scope=col>&lt;int&gt;</th></tr>\n",
       "</thead>\n",
       "<tbody>\n",
       "\t<tr><th scope=row>1</th><td>AK</td><td>2</td><td>13</td><td>Aleutians East Borough, Alaska    </td><td>  553</td><td>  334</td><td>  219</td></tr>\n",
       "\t<tr><th scope=row>2</th><td>AK</td><td>2</td><td>16</td><td>Aleutians West Census Area, Alaska</td><td>  499</td><td>  273</td><td>  226</td></tr>\n",
       "\t<tr><th scope=row>3</th><td>AK</td><td>2</td><td>20</td><td>Anchorage Municipality, Alaska    </td><td>23914</td><td>10698</td><td>13216</td></tr>\n",
       "\t<tr><th scope=row>4</th><td>AK</td><td>2</td><td>50</td><td>Bethel Census Area, Alaska        </td><td> 4364</td><td> 2199</td><td> 2165</td></tr>\n",
       "\t<tr><th scope=row>5</th><td>AK</td><td>2</td><td>60</td><td>Bristol Bay Borough, Alaska       </td><td>   69</td><td>   33</td><td>   36</td></tr>\n",
       "\t<tr><th scope=row>6</th><td>AK</td><td>2</td><td>68</td><td>Denali Borough, Alaska            </td><td>  254</td><td>  139</td><td>  115</td></tr>\n",
       "</tbody>\n",
       "</table>\n"
      ],
      "text/latex": [
       "A data.frame: 6 × 7\n",
       "\\begin{tabular}{r|lllllll}\n",
       "  & State & StateFIPS & CountyFIPS & AreaName & All\\_Poverty & M\\_Poverty & F\\_Poverty\\\\\n",
       "  & <chr> & <int> & <int> & <chr> & <int> & <int> & <int>\\\\\n",
       "\\hline\n",
       "\t1 & AK & 2 & 13 & Aleutians East Borough, Alaska     &   553 &   334 &   219\\\\\n",
       "\t2 & AK & 2 & 16 & Aleutians West Census Area, Alaska &   499 &   273 &   226\\\\\n",
       "\t3 & AK & 2 & 20 & Anchorage Municipality, Alaska     & 23914 & 10698 & 13216\\\\\n",
       "\t4 & AK & 2 & 50 & Bethel Census Area, Alaska         &  4364 &  2199 &  2165\\\\\n",
       "\t5 & AK & 2 & 60 & Bristol Bay Borough, Alaska        &    69 &    33 &    36\\\\\n",
       "\t6 & AK & 2 & 68 & Denali Borough, Alaska             &   254 &   139 &   115\\\\\n",
       "\\end{tabular}\n"
      ],
      "text/markdown": [
       "\n",
       "A data.frame: 6 × 7\n",
       "\n",
       "| <!--/--> | State &lt;chr&gt; | StateFIPS &lt;int&gt; | CountyFIPS &lt;int&gt; | AreaName &lt;chr&gt; | All_Poverty &lt;int&gt; | M_Poverty &lt;int&gt; | F_Poverty &lt;int&gt; |\n",
       "|---|---|---|---|---|---|---|---|\n",
       "| 1 | AK | 2 | 13 | Aleutians East Borough, Alaska     |   553 |   334 |   219 |\n",
       "| 2 | AK | 2 | 16 | Aleutians West Census Area, Alaska |   499 |   273 |   226 |\n",
       "| 3 | AK | 2 | 20 | Anchorage Municipality, Alaska     | 23914 | 10698 | 13216 |\n",
       "| 4 | AK | 2 | 50 | Bethel Census Area, Alaska         |  4364 |  2199 |  2165 |\n",
       "| 5 | AK | 2 | 60 | Bristol Bay Borough, Alaska        |    69 |    33 |    36 |\n",
       "| 6 | AK | 2 | 68 | Denali Borough, Alaska             |   254 |   139 |   115 |\n",
       "\n"
      ],
      "text/plain": [
       "  State StateFIPS CountyFIPS AreaName                           All_Poverty\n",
       "1 AK    2         13         Aleutians East Borough, Alaska       553      \n",
       "2 AK    2         16         Aleutians West Census Area, Alaska   499      \n",
       "3 AK    2         20         Anchorage Municipality, Alaska     23914      \n",
       "4 AK    2         50         Bethel Census Area, Alaska          4364      \n",
       "5 AK    2         60         Bristol Bay Borough, Alaska           69      \n",
       "6 AK    2         68         Denali Borough, Alaska               254      \n",
       "  M_Poverty F_Poverty\n",
       "1   334       219    \n",
       "2   273       226    \n",
       "3 10698     13216    \n",
       "4  2199      2165    \n",
       "5    33        36    \n",
       "6   139       115    "
      ]
     },
     "metadata": {},
     "output_type": "display_data"
    }
   ],
   "source": [
    "# Show first few rows of each df\n",
    "head(mortality_data)\n",
    "head(incidence_data)\n",
    "head(income_data)\n",
    "head(insurance_data)\n",
    "head(poverty_data)\n"
   ]
  },
  {
   "cell_type": "code",
   "execution_count": 4,
   "metadata": {},
   "outputs": [
    {
     "name": "stdout",
     "output_type": "stream",
     "text": [
      "'data.frame':\t3141 obs. of  11 variables:\n",
      " $ county                                     : chr  \"United States\" \"Perry County, Kentucky\" \"Powell County, Kentucky\" \"North Slope Borough, Alaska\" ...\n",
      " $ fips                                       : int  0 21193 21197 2185 21189 12125 21147 21131 21159 21165 ...\n",
      " $ met_objective_of_45_5_1                    : chr  \"No\" \"No\" \"No\" \"No\" ...\n",
      " $ age_adjusted_death_rate                    : chr  \"46\" \"125.6\" \"125.3\" \"124.9\" ...\n",
      " $ lower_95_confidence_interval_for_death_rate: chr  \"45.9\" \"108.9\" \"100.2\" \"73\" ...\n",
      " $ upper_95_confidence_interval_for_death_rate: chr  \"46.1\" \"144.2\" \"155.1\" \"194.7\" ...\n",
      " $ average_deaths_per_year                    : chr  \"157,376\" \"43\" \"18\" \"5\" ...\n",
      " $ recent_trend_2                             : chr  \"falling\" \"stable\" \"stable\" \"**\" ...\n",
      " $ recent_5_year_trend_2_in_death_rates       : chr  \"-2.4\" \"-0.6\" \"1.7\" \"**\" ...\n",
      " $ lower_95_confidence_interval_for_trend     : chr  \"-2.6\" \"-2.7\" \"0\" \"**\" ...\n",
      " $ upper_95_confidence_interval_for_trend     : chr  \"-2.2\" \"1.6\" \"3.4\" \"**\" ...\n",
      "'data.frame':\t3141 obs. of  10 variables:\n",
      " $ county                                         : chr  \"US (SEER+NPCR)(1,10)\" \"Autauga County, Alabama(6,10)\" \"Baldwin County, Alabama(6,10)\" \"Barbour County, Alabama(6,10)\" ...\n",
      " $ fips                                           : int  0 1001 1003 1005 1007 1009 1011 1013 1015 1017 ...\n",
      " $ age_adjusted_incidence_rate_e_cases_per_100_000: chr  \"62.4\" \"74.9\" \"66.9\" \"74.6\" ...\n",
      " $ lower_95_confidence_interval                   : chr  \"62.3\" \"65.1\" \"62.4\" \"61.8\" ...\n",
      " $ upper_95_confidence_interval                   : chr  \"62.6\" \"85.7\" \"71.7\" \"89.4\" ...\n",
      " $ average_annual_count                           : chr  \"214614\" \"43\" \"170\" \"25\" ...\n",
      " $ recent_trend                                   : chr  \"falling\" \"stable\" \"stable\" \"stable\" ...\n",
      " $ recent_5_year_trend_in_incidence_rates         : chr  \"-2.5\" \"0.5\" \"3\" \"-6.4\" ...\n",
      " $ lower_95_confidence_interval_2                 : chr  \"-3\" \"-14.9\" \"-10.2\" \"-18.3\" ...\n",
      " $ upper_95_confidence_interval_2                 : chr  \"-2\" \"18.6\" \"18.3\" \"7.3\" ...\n",
      "'data.frame':\t3220 obs. of  8 variables:\n",
      " $ StateFIPS                   : int  2 2 2 2 2 2 2 2 2 2 ...\n",
      " $ CountyFIPS                  : int  13 16 20 50 60 68 70 90 100 105 ...\n",
      " $ Median_Income               : int  61518 84306 78326 51012 79750 81544 54173 71068 58750 52419 ...\n",
      " $ Median_Income_White         : int  72639 97321 87235 92647 88000 81029 81161 74242 67888 64000 ...\n",
      " $ Median_Income_Black         : int  31250 93750 50535 73661 NA NA NA 56353 NA NA ...\n",
      " $ Median_Income_NativeAmerican: int  54750 48750 53935 41594 63333 47500 42212 48333 45714 35625 ...\n",
      " $ Median_Income_Asian         : int  62679 81250 63757 110625 NA NA NA 56339 NA NA ...\n",
      " $ Median_Income_Hispanic      : int  51250 77500 53926 160114 25625 NA 86458 55284 NA 68500 ...\n",
      "'data.frame':\t3220 obs. of  8 variables:\n",
      " $ StateFIPS      : int  2 2 2 2 2 2 2 2 2 2 ...\n",
      " $ CountyFIPS     : int  13 16 20 50 60 68 70 90 100 105 ...\n",
      " $ M_With_Ins     : int  876 2470 120747 6396 419 822 1678 40605 960 798 ...\n",
      " $ M_Without_Ins  : int  1317 769 23245 2708 124 253 900 6957 422 328 ...\n",
      " $ F_With_Ins     : int  566 1707 122426 6627 349 674 1837 40210 944 711 ...\n",
      " $ F_Without_Ins  : int  540 564 21393 1774 67 250 546 5322 228 288 ...\n",
      " $ All_With_Ins   : int  1442 4177 243173 13023 768 1496 3515 80815 1904 1509 ...\n",
      " $ All_Without_Ins: int  1857 1333 44638 4482 191 503 1446 12279 650 616 ...\n",
      "'data.frame':\t3220 obs. of  7 variables:\n",
      " $ State      : chr  \"AK\" \"AK\" \"AK\" \"AK\" ...\n",
      " $ StateFIPS  : int  2 2 2 2 2 2 2 2 2 2 ...\n",
      " $ CountyFIPS : int  13 16 20 50 60 68 70 90 100 105 ...\n",
      " $ AreaName   : chr  \"Aleutians East Borough, Alaska\" \"Aleutians West Census Area, Alaska\" \"Anchorage Municipality, Alaska\" \"Bethel Census Area, Alaska\" ...\n",
      " $ All_Poverty: int  553 499 23914 4364 69 254 894 7752 135 252 ...\n",
      " $ M_Poverty  : int  334 273 10698 2199 33 139 446 3523 74 102 ...\n",
      " $ F_Poverty  : int  219 226 13216 2165 36 115 448 4229 61 150 ...\n"
     ]
    }
   ],
   "source": [
    "# Show structure of each df\n",
    "str(mortality)\n",
    "str(incidence)\n",
    "str(income_data)\n",
    "str(insurance_data)\n",
    "str(poverty_data)\n"
   ]
  },
  {
   "cell_type": "markdown",
   "metadata": {},
   "source": [
    "## 2. Exploratory Data Analysis \n",
    "\n",
    "Have your multiple code and markdown cells here to explore the data. Univariate, multivariate, histograms, correlations, scatter plots, missing values, etc. \n"
   ]
  },
  {
   "cell_type": "code",
   "execution_count": 2,
   "metadata": {},
   "outputs": [],
   "source": [
    "# codes and comments \n",
    "\n",
    "# have a markdown cell after every major step to explain what you did and what you learned. \n"
   ]
  },
  {
   "cell_type": "markdown",
   "metadata": {},
   "source": [
    "## 3. 4. 5. ... The Rest..\n",
    "\n",
    "Similar to above, have **sections** for every major step in your analysis.  PCA, FA, Clustering, etc. running your models, hypotheses, explaining what you have learned, presenting results with visualizations, and the conclusion should have their own sections. \n"
   ]
  },
  {
   "cell_type": "code",
   "execution_count": null,
   "metadata": {},
   "outputs": [],
   "source": []
  }
 ],
 "metadata": {
  "kernelspec": {
   "display_name": "R",
   "language": "R",
   "name": "ir"
  },
  "language_info": {
   "codemirror_mode": "r",
   "file_extension": ".r",
   "mimetype": "text/x-r-source",
   "name": "R",
   "pygments_lexer": "r",
   "version": "4.0.5"
  }
 },
 "nbformat": 4,
 "nbformat_minor": 1
}
