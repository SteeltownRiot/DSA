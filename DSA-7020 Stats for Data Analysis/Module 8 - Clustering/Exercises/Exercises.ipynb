{
 "cells": [
  {
   "cell_type": "markdown",
   "metadata": {},
   "source": [
    "# Module 8 - Final Project \n",
    "\n",
    "\n",
    "**In this final project, you will demonstrate what you have learned in this class by applying a thorough data analysis to a data set of your choice.** \n",
    "\n",
    "As discussed on the discussion boards in the last two weeks, your data set should contain rich enough features and a moderate size so that you can apply the methods you have learned to derive some **insights** from the data. The ultimate goal of data analysis is to learn from the data so that we can form useful and actionable knowledge. \n",
    " \n",
    "\n",
    "Use this notebook for the analysis of your final project. **Your deliverables for the final project are:** \n",
    "\n",
    " - **This notebook**: contains the **full** data science project life cycle as you have learned in the Intro class. \n",
    "   - Load your data, clean your data, include all the carpentry you need to put it into some shape for your later analysis. \n",
    "   - EDA: exploratory data analysis: this is where you do the univariate and multivariate analyses; visualize your data to understand the shape and associations in it. Plot densities, histograms, scatter plots, etc. Look for correlations, patterns, clusters, etc. \n",
    "   - Modeling: use any of the adequate techniques to see if you can model the affects of the variables on each other. You can try to reduce dimensionality, try to do regression, hypothesis testing, etc. to see how variables affect each other. \n",
    "   - **Insights:** the point of data analysis to derive **insights** from your data. What do you see? What did you learn from the data? Did it answer your initial question or did it verify your hypothesis? \n",
    "   - **Presenting results**: Communicate your results effectively using visualization principles you have learned. \n",
    "   \n",
    "   \n",
    "   \n",
    " - A **pdf** file that contains a few slides to summarize your results: similar to the data vis course, create a pdf document that can contain up to 3-4 slides (**no more**) to present your results. \n",
    " \n",
    " \n",
    " \n",
    " - Upload your data set to this folder (under exercises folder). \n",
    " \n",
    " ---\n",
    " \n",
    " \n",
    " **You should have ample explanation and comments for all your data analysis in this notebook.** Think of it as a LAB notebook: imagine that you are creating a lab notebook for others to follow and learn from your analysis. You should have enough details so that somebody can recreate your analysis by following your descriptions and explanations. \n",
    " \n",
    " Have a markdown cell before each code cell explaining **what** you are doing and **why** you are doing it. Have comments in the code cell. Have a markdown cell **after** every code cell explaining what you just found out by running that code cell before. \n",
    " \n",
    " ---\n",
    " \n",
    " "
   ]
  },
  {
   "cell_type": "markdown",
   "metadata": {},
   "source": [
    "## 1. Loading, Cleaning, Displaying Data \n",
    "\n",
    "Explain your data set here; what is it about? What are the variables? What do you want to do with it? How are you going to clean it? etc. \n"
   ]
  },
  {
   "cell_type": "code",
   "execution_count": 1,
   "metadata": {},
   "outputs": [],
   "source": [
    "# load your data, display with head(), clean, etc. \n"
   ]
  },
  {
   "cell_type": "markdown",
   "metadata": {},
   "source": [
    "## 2. Exploratory Data Analysis \n",
    "\n",
    "Have your multiple code and markdown cells here to explore the data. Univariate, multivariate, histograms, correlations, scatter plots, missing values, etc. \n"
   ]
  },
  {
   "cell_type": "code",
   "execution_count": 2,
   "metadata": {},
   "outputs": [],
   "source": [
    "# codes and comments \n",
    "\n",
    "# have a markdown cell after every major step to explain what you did and what you learned. \n"
   ]
  },
  {
   "cell_type": "markdown",
   "metadata": {},
   "source": [
    "## 3. 4. 5. ... The Rest..\n",
    "\n",
    "Similar to above, have **sections** for every major step in your analysis.  PCA, FA, Clustering, etc. running your models, hypotheses, explaining what you have learned, presenting results with visualizations, and the conclusion should have their own sections. \n"
   ]
  },
  {
   "cell_type": "code",
   "execution_count": null,
   "metadata": {},
   "outputs": [],
   "source": []
  }
 ],
 "metadata": {
  "kernelspec": {
   "display_name": "R",
   "language": "R",
   "name": "ir"
  },
  "language_info": {
   "codemirror_mode": "r",
   "file_extension": ".r",
   "mimetype": "text/x-r-source",
   "name": "R",
   "pygments_lexer": "r",
   "version": "4.0.5"
  }
 },
 "nbformat": 4,
 "nbformat_minor": 1
}
