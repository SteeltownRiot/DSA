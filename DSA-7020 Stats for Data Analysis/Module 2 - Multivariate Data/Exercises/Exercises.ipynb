{
 "cells": [
  {
   "cell_type": "markdown",
   "metadata": {},
   "source": [
    "# Multivariate Data Analysis Exercises\n",
    "\n",
    "This is the second exercise notebook you are going to work on in this course. \n",
    "In this notebook, we will ask you to write and execute your own code. \n",
    "Questions involved cover concepts of summary statistics, bivariate and multivariate analysis and basics of regression. \n",
    "Questions will be similar to what is discussed in Labs and Practices, \n",
    "including the extra sets of notebooks. \n",
    "The dataset used will be similar to what you have seen in lab and practice notebooks. \n",
    "\n",
    "In this exercise notebook, you will be dealing with housing dataset. \n",
    "Be sure to follow the directions carefully. \n",
    "Write as well as execute code in the designated cells and save the file."
   ]
  },
  {
   "cell_type": "markdown",
   "metadata": {},
   "source": [
    "**Question 1**: Read in the file `/dsa/data/all_datasets/housing/housing.txt` Name this data frame \"`housing_data`\"."
   ]
  },
  {
   "cell_type": "code",
   "execution_count": null,
   "metadata": {},
   "outputs": [],
   "source": [
    "# Execute your code for question 1 here\n",
    "# -------------------------------------\n",
    "\n",
    "\n",
    "#housing_data <-  "
   ]
  },
  {
   "cell_type": "markdown",
   "metadata": {},
   "source": [
    "The dataset doesn't have column headers. \n",
    "Since this is a small dataset we can add the names manually. \n",
    "If the dataset contains hundreds of columns then we have to get the names programmatically from dataset description files.\n",
    "\n",
    "**Question 2**: The below is the associated **readme** file with information on getting column names of housing_data. \n",
    "The column names are listed under attribute information heading in the file. \n",
    "Now, put the names into a vector called `headers`. \n",
    "Assign the values in headers to housing_data as its column names.\n",
    "\n",
    "\n",
    "\n",
    "```\n",
    "1. Title: Boston Housing Data\n",
    "\n",
    "2. Sources:\n",
    "   (a) Origin:  This dataset was taken from the StatLib library which is\n",
    "                maintained at Carnegie Mellon University.\n",
    "   (b) Creator:  Harrison, D. and Rubinfeld, D.L. 'Hedonic prices and the\n",
    "                 demand for clean air', J. Environ. Economics & Management,\n",
    "                 vol.5, 81-102, 1978.\n",
    "   (c) Date: July 7, 1993\n",
    "\n",
    "3. Past Usage:\n",
    "   -   Used in Belsley, Kuh & Welsch, 'Regression diagnostics ...', Wiley,\n",
    "       1980.   N.B. Various transformations are used in the table on\n",
    "       pages 244-261.\n",
    "    -  Quinlan,R. (1993). Combining Instance-Based and Model-Based Learning.\n",
    "       In Proceedings on the Tenth International Conference of Machine\n",
    "       Learning, 236-243, University of Massachusetts, Amherst. Morgan\n",
    "       Kaufmann.\n",
    "       \n",
    "4. Relevant Information:\n",
    "\n",
    "   Concerns housing values in suburbs of Boston.\n",
    "\n",
    "5. Number of Instances: 506\n",
    "\n",
    "6. Number of Attributes: 13 continuous attributes (including \"class\"\n",
    "                         attribute \"MEDV\"), 1 binary-valued attribute.\n",
    "\n",
    "7. Attribute Information:\n",
    "\n",
    "    1. CRIM      per capita crime rate by town\n",
    "    2. ZN        proportion of residential land zoned for lots over\n",
    "                 25,000 sq.ft.\n",
    "    3. INDUS     proportion of non-retail business acres per town\n",
    "    4. CHAS      Charles River dummy variable (= 1 if tract bounds\n",
    "                 river; 0 otherwise)\n",
    "    5. NOX       nitric oxides concentration (parts per 10 million)\n",
    "    6. RM        average number of rooms per dwelling\n",
    "    7. AGE       proportion of owner-occupied units built prior to 1940\n",
    "    8. DIS       weighted distances to five Boston employment centres\n",
    "    9. RAD       index of accessibility to radial highways\n",
    "    10. TAX      full-value property-tax rate per $10,000\n",
    "    11. PTRATIO  pupil-teacher ratio by town\n",
    "    12. B        1000(Bk - 0.63)^2 where Bk is the proportion of blacks\n",
    "                 by town\n",
    "    13. LSTAT    % lower status of the population\n",
    "    14. MEDV     Median value of owner-occupied homes in $1000's\n",
    "\n",
    "8. Missing Attribute Values:  None.\n",
    "```"
   ]
  },
  {
   "cell_type": "code",
   "execution_count": null,
   "metadata": {},
   "outputs": [],
   "source": [
    "# Execute your code for question 2 here\n",
    "# -------------------------------------\n",
    "\n"
   ]
  },
  {
   "cell_type": "markdown",
   "metadata": {},
   "source": [
    "Of the 14 variables in the dataset, `MEDV` is the dependent variable while the other 13 are independent variables.  \n",
    "`MEDV` reports the median value of owner-occupied homes. \n",
    "The independent variables help to explain the variation in median value across tracts."
   ]
  },
  {
   "cell_type": "markdown",
   "metadata": {},
   "source": [
    "Before we get into multivariate analysis we should look for any relations between dependent and independent variables."
   ]
  },
  {
   "cell_type": "markdown",
   "metadata": {},
   "source": [
    "**Question 3**:  Draw scatter plots between `MEDV` and all other independent variables using ggplot2 library and `grid.arrange()` function in `gridExtra library`. "
   ]
  },
  {
   "cell_type": "code",
   "execution_count": null,
   "metadata": {},
   "outputs": [],
   "source": [
    "# Execute your code for question 3 here\n",
    "# -------------------------------------\n",
    "#package for plotting graphs\n",
    "library(ggplot2)\n",
    "\n",
    "#package for arranging multiple graphs in a grid layout\n",
    "library(gridExtra)\n",
    "\n"
   ]
  },
  {
   "cell_type": "markdown",
   "metadata": {},
   "source": [
    "**Question 4**: Identify the variables which have a correlation of greater than 0.45 and less than -0.45  with `MEDV`."
   ]
  },
  {
   "cell_type": "code",
   "execution_count": null,
   "metadata": {},
   "outputs": [],
   "source": [
    "# Execute your code for question 4 here\n",
    "# -------------------------------------\n"
   ]
  },
  {
   "cell_type": "raw",
   "metadata": {},
   "source": [
    "# Type your answers in this cell\n",
    "# ----------------------------------\n"
   ]
  },
  {
   "cell_type": "markdown",
   "metadata": {},
   "source": [
    "**Question 5**: Draw individual scatter plots for variables which are identified in above question."
   ]
  },
  {
   "cell_type": "code",
   "execution_count": null,
   "metadata": {},
   "outputs": [],
   "source": [
    "# Execute your code for question 5 here\n",
    "# -------------------------------------\n"
   ]
  },
  {
   "cell_type": "markdown",
   "metadata": {},
   "source": [
    "The scatter plot between MEDV and RM has caught my attention. \n",
    "Let's see what is interesting about it. "
   ]
  },
  {
   "cell_type": "code",
   "execution_count": null,
   "metadata": {},
   "outputs": [],
   "source": [
    "ggplot(housing_data,aes(x=RM, y=MEDV))+geom_point()"
   ]
  },
  {
   "cell_type": "markdown",
   "metadata": {},
   "source": [
    "When we look at the median home value, there seem to exist some outliers that are set to $50,000 for 16 rows. \n",
    "They could be outliers in the dataset. "
   ]
  },
  {
   "cell_type": "markdown",
   "metadata": {},
   "source": [
    "**Question 6**: Remove the rows from the dataset where the MEDV value is set to $50,000. "
   ]
  },
  {
   "cell_type": "code",
   "execution_count": null,
   "metadata": {},
   "outputs": [],
   "source": [
    "# Execute your code for question 6 here\n",
    "# -------------------------------------\n"
   ]
  },
  {
   "cell_type": "markdown",
   "metadata": {},
   "source": [
    "**Question 7**: Draw a scatter plot with RM on x-axis, MEDV on y-axis. Feed INDUS to size parameter and TAX to color parameter."
   ]
  },
  {
   "cell_type": "code",
   "execution_count": null,
   "metadata": {},
   "outputs": [],
   "source": [
    "# Execute your code for question 7 here\n",
    "# -------------------------------------\n"
   ]
  },
  {
   "cell_type": "markdown",
   "metadata": {},
   "source": [
    "We want to include LSTAT and PTRATIO variables in the map because both have a correlation of  more than 50%. But we can only use shape parameter as our fifth dimension. Variables INDUS and TAX tell us the same story. If there are more industries in the area, the taxes will be high. So we will exclude TAX from our analysis.\n",
    "\n",
    "**Question 8**: Draw a scatter plot with LSTAT on x-axis, MEDV on y-axis. Feed INDUS to size parameter and RM to shape parameter and PTRATIO to color parameter."
   ]
  },
  {
   "cell_type": "code",
   "execution_count": null,
   "metadata": {},
   "outputs": [],
   "source": [
    "# Execute your code for question 8 here\n",
    "# -------------------------------------\n"
   ]
  },
  {
   "cell_type": "markdown",
   "metadata": {},
   "source": [
    "**Question 9.a:** Fit a linear regression model to predict MEDV using the RM variable. "
   ]
  },
  {
   "cell_type": "code",
   "execution_count": null,
   "metadata": {},
   "outputs": [],
   "source": [
    "# Execute your code for question 9 here\n",
    "# -------------------------------------\n"
   ]
  },
  {
   "cell_type": "markdown",
   "metadata": {},
   "source": [
    "**Question 9.b:** What is the multiple R-squared value you got for the model?"
   ]
  },
  {
   "cell_type": "raw",
   "metadata": {},
   "source": [
    "# Type your answer below this comment\n",
    "# ---------------------------------------\n"
   ]
  },
  {
   "cell_type": "markdown",
   "metadata": {},
   "source": [
    "**Question 10.a:** Fit a linear regression model to predict MEDV using all independent variables. What is the multiple R-squared value you got for the model."
   ]
  },
  {
   "cell_type": "code",
   "execution_count": null,
   "metadata": {},
   "outputs": [],
   "source": [
    "# Execute your code for question 10 here\n",
    "# -------------------------------------\n"
   ]
  },
  {
   "cell_type": "markdown",
   "metadata": {},
   "source": [
    "**Question 10.b:** What is the multiple R-squared value you got for the model."
   ]
  },
  {
   "cell_type": "raw",
   "metadata": {},
   "source": [
    "# Type your answer below this comment\n",
    "# ---------------------------------------\n"
   ]
  },
  {
   "cell_type": "markdown",
   "metadata": {},
   "source": [
    "There is a significant increase in the model accuracy when all independent features are included in the model. \n",
    "But in the real world, this will lead to overfit of model. \n",
    "The model may do well on training dataset but may fail to make correct predictions on unknown test data. \n",
    "So it is better to fit a model with a right mix of most significant variables which can explain most variability \n",
    "in the data and at the same time not overfit the data. \n",
    "\n",
    "One common thing we can do is to remove features from the model which do not provide any new information, relative to existing features. \n",
    "Features which are correlated often provide the same amount and kind of information depending upon how much they are correlated. \n",
    "We can eliminate those kinds of redundant variables from the model. "
   ]
  },
  {
   "cell_type": "markdown",
   "metadata": {},
   "source": [
    "**Question 11.a:** Fit a linear regression model to predict MEDV using independent variables which have a correletion of greater than 0.45 or less than -0.45. What is the multiple R-squared value you got for this model."
   ]
  },
  {
   "cell_type": "code",
   "execution_count": null,
   "metadata": {},
   "outputs": [],
   "source": [
    "# Execute your code for question 11 here\n",
    "# -------------------------------------\n"
   ]
  },
  {
   "cell_type": "markdown",
   "metadata": {},
   "source": [
    "**Question 11.b:** What is the multiple R-squared value you got for the model."
   ]
  },
  {
   "cell_type": "raw",
   "metadata": {},
   "source": [
    "# Type your answer below this comment\n",
    "# ---------------------------------------\n"
   ]
  },
  {
   "cell_type": "markdown",
   "metadata": {},
   "source": [
    "The model accuracy has reduced significantly on using only the highly correlated variables to fit the model. \n",
    "But it may work better on unknown test data. \n",
    "You can play around to add more independent variables that may increase the $R^2$. "
   ]
  },
  {
   "cell_type": "markdown",
   "metadata": {},
   "source": [
    "# SAVE YOUR NOTEBOOK"
   ]
  }
 ],
 "metadata": {
  "kernelspec": {
   "display_name": "R",
   "language": "R",
   "name": "ir"
  },
  "language_info": {
   "codemirror_mode": "r",
   "file_extension": ".r",
   "mimetype": "text/x-r-source",
   "name": "R",
   "pygments_lexer": "r",
   "version": "4.0.5"
  }
 },
 "nbformat": 4,
 "nbformat_minor": 1
}
