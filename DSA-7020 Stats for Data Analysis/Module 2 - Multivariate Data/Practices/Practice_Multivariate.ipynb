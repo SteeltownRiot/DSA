{
 "cells": [
  {
   "cell_type": "markdown",
   "metadata": {},
   "source": [
    "# Practice for Module 2\n",
    "\n",
    "We are familiar with univariate, bivariate and multivariate analysis of data from the lab notebooks. \n",
    "We have seen how visualizations help us in analyzing the data and their limitations in analyzing multidimensional data. \n",
    "\n",
    "Lets continue our discussion on bivariate and multivariate data analysis by working through this practice notebook. \n",
    "You will be provided with code snippets to complete/modify the code for generating desired output. \n",
    "We will look into the bikeshare dataset on which we worked in previously.\n",
    "\n",
    "__Remember__ to look for the `<what goes in here>` and similar prompts to complete the code. "
   ]
  },
  {
   "cell_type": "markdown",
   "metadata": {},
   "source": [
    "### Loading data\n",
    "\n",
    "Load the data `/dsa/data/all_datasets/bikeshare/hour.csv` into R and name the datframe as `bikeshare_data`"
   ]
  },
  {
   "cell_type": "code",
   "execution_count": null,
   "metadata": {},
   "outputs": [],
   "source": [
    "bikeshare_data <- read.csv(\"/dsa/data/all_datasets/bikeshare/hour.csv\", header = T, sep=\",\")\n",
    "head(bikeshare_data)"
   ]
  },
  {
   "cell_type": "markdown",
   "metadata": {},
   "source": [
    "First few rows suggests most of the data is either numeric or discrete in nature except for date column. \n",
    "Again we are interetsed in identifying the independent variables which are related to variable `cnt`. \n",
    "\n",
    "Lets run summary() on dataset. "
   ]
  },
  {
   "cell_type": "code",
   "execution_count": null,
   "metadata": {},
   "outputs": [],
   "source": [
    "summary(bikeshare_data)"
   ]
  },
  {
   "cell_type": "markdown",
   "metadata": {},
   "source": [
    "**Activity 1:** Add code to print the structure of the dataset."
   ]
  },
  {
   "cell_type": "code",
   "execution_count": null,
   "metadata": {},
   "outputs": [],
   "source": [
    "# Your code for activity 1 below this comment\n",
    "# -----------------------------------\n",
    "\n"
   ]
  },
  {
   "cell_type": "markdown",
   "metadata": {},
   "source": [
    "We know the dimension of the dataset and datatypes of all features. Lets plot some scatter plots for cnt variable against rest of the independent variables."
   ]
  },
  {
   "cell_type": "code",
   "execution_count": null,
   "metadata": {},
   "outputs": [],
   "source": [
    "#package for plotting graphs\n",
    "library(ggplot2)\n",
    "\n",
    "#package for arranging multiple graphs in a grid layout\n",
    "library(gridExtra)\n",
    "\n",
    "grid.arrange(\n",
    "    ggplot(bikeshare_data, aes(x=season,y=cnt)) + xlab(\"Season\")+ ylab(\"No of users\") + \n",
    "    geom_point(aes(colour = factor(mnth))) + geom_smooth(method=lm),\n",
    "    \n",
    "    ggplot(bikeshare_data, aes(x=mnth,y=cnt)) + xlab(\"Month\")+ ylab(\"No of users\") + \n",
    "    geom_point(aes(colour = factor(weekday))) + geom_smooth(method=lm),\n",
    "    \n",
    "    ggplot(bikeshare_data, aes(x=weekday,y=cnt)) + xlab(\"Weekday\")+ ylab(\"No of users\") + \n",
    "    geom_point(aes(colour = factor(hr))) + geom_smooth(method=lm),\n",
    "    \n",
    "    ggplot(bikeshare_data, aes(x=weathersit,y=cnt)) + xlab(\"Weather situation\")+ ylab(\"No of users\") + \n",
    "    geom_point(aes(colour = factor(workingday))) + geom_smooth(method=lm),\n",
    "    \n",
    "    ggplot(bikeshare_data, aes(x=temp,y=cnt)) + xlab(\"Temperature\")+ ylab(\"No of users\") + \n",
    "    geom_point(aes(colour = factor(workingday))) + geom_smooth(method=lm),\n",
    "    \n",
    "    ggplot(bikeshare_data, aes(x=hum,y=hum)) + xlab(\"humidity\")+ ylab(\"No of users\") + \n",
    "    geom_point(aes(colour = factor(workingday))) + geom_smooth(method=lm),\n",
    "    \n",
    "    ggplot(bikeshare_data, aes(x=windspeed,y=cnt)) + xlab(\"Wind speed\")+ ylab(\"No of users\") + \n",
    "    geom_point(aes(colour = factor(workingday))) + geom_smooth(method=lm),\n",
    "    \n",
    "    ncol=2)    \n",
    "\n",
    "#mnth, weekday, hr, and workingday are discrete variables. To get ggplot to recognize them as such,\n",
    "#we must convert them to factors.  Otherwise, gradient color is used (which is more appropriate for\n",
    "#continuous variables).\n",
    "\n",
    "#method() is a smoothing function.  The method=lm argument specifies that we want a linear line."
   ]
  },
  {
   "cell_type": "markdown",
   "metadata": {},
   "source": [
    "There are some positive linear relationships between `cnt` and `season`, `mnth`, `weather situation`, `temperature`, `humidity`, `windspeed`. "
   ]
  },
  {
   "cell_type": "markdown",
   "metadata": {},
   "source": [
    "**Activity 2:** Plot individual scatter plots between variables \n",
    "\n",
    "    2.a cnt and mnth\n",
    "    2.b cnt and temp\n",
    "    2.c cnt and hum\n",
    "    2.d cnt and windspeed\n",
    "    2.e cnt and hr\n",
    "    2.f cnt and weathersit\n",
    "\n",
    "Use weekday for plotting points with different colors. Add a regression line. Calculate pearson correlation coefficients for all  pairs of variables."
   ]
  },
  {
   "cell_type": "code",
   "execution_count": null,
   "metadata": {},
   "outputs": [],
   "source": [
    "# Your code for activity 2.a goes here\n",
    "ggplot(<what goes in here>, aes(x=<what goes in here>,y=<what goes in here>)) + xlab(\"Month\")+ ylab(\"No of users\") + \n",
    "    geom_point(aes(colour = <<what goes in here>>)) + geom_smooth(<what goes in here>)\n",
    "\n",
    "cor.test(<what goes in here>,<what goes in here>)"
   ]
  },
  {
   "cell_type": "code",
   "execution_count": null,
   "metadata": {},
   "outputs": [],
   "source": [
    "# Your code for activity 2.b goes here\n",
    "ggplot(<what goes in here>, aes(x=<what goes in here>,y=<what goes in here>)) + xlab(\"Temperature\")+ ylab(\"No of users\") + \n",
    "    geom_point(<what goes in here>) + geom_smooth(method=lm)\n",
    "\n",
    "cor.test(bikeshare_data$temp,bikeshare_data$cnt)"
   ]
  },
  {
   "cell_type": "code",
   "execution_count": null,
   "metadata": {},
   "outputs": [],
   "source": [
    "# Your code for activity 2.c goes here\n",
    "ggplot(<what goes in here>, aes(<what goes in here>) + xlab(\"Humidity\")+ ylab(\"No of users\") + \n",
    "    geom_point(<what goes in here>) + <what goes in here>\n",
    "\n",
    "cor.test(bikeshare_data$hum,bikeshare_data$cnt)"
   ]
  },
  {
   "cell_type": "code",
   "execution_count": null,
   "metadata": {},
   "outputs": [],
   "source": [
    "# Your code for activity 2.d goes here\n",
    "ggplot(bikeshare_data, <what goes in here>) + xlab(\"Wind speed\")+ ylab(\"No of users\") + \n",
    "    <what goes in here> + <what goes in here>\n",
    "\n",
    "cor.test(bikeshare_data$windspeed,bikeshare_data$cnt)"
   ]
  },
  {
   "cell_type": "code",
   "execution_count": null,
   "metadata": {},
   "outputs": [],
   "source": [
    "# Your code for activity 2.e goes here\n",
    "ggplot(bikeshare_data, <what goes in here>) + xlab(\"Hour\")+ ylab(\"No of users\") + \n",
    "    + <what goes in here> + <what goes in here>\n",
    "\n",
    "cor.test(bikeshare_data$hr,bikeshare_data$cnt)"
   ]
  },
  {
   "cell_type": "code",
   "execution_count": null,
   "metadata": {},
   "outputs": [],
   "source": [
    "# Your code for activity 2.f goes here\n",
    "ggplot(bikeshare_data, <what goes in here>) + xlab(\"Weather Situation\")+ ylab(\"No of users\") + \n",
    "     + <what goes in here>\n",
    "\n",
    "cor.test(bikeshare_data$weathersit,bikeshare_data$cnt)"
   ]
  },
  {
   "cell_type": "markdown",
   "metadata": {},
   "source": [
    "**Activity 3:** Build a linear regression model to predict count using `temperature` (temp) and `windspeed` as the predictor (independent) variables."
   ]
  },
  {
   "cell_type": "code",
   "execution_count": null,
   "metadata": {},
   "outputs": [],
   "source": [
    "# Your code for activity 3 goes here\n",
    "# fit variable will hold a statistical model\n",
    "\n",
    "fit <- lm(<what goes here> ~ <what goes here>, data=<what goes here>)\n",
    "\n",
    "summary(fit) # show results of analysis"
   ]
  },
  {
   "cell_type": "markdown",
   "metadata": {},
   "source": [
    "**Activity 4:** Plot your linear model with the function of temperature and windspeed as the x-axis and count as the y-axis."
   ]
  },
  {
   "cell_type": "code",
   "execution_count": null,
   "metadata": {},
   "outputs": [],
   "source": [
    "# Your code for activity 4 goes here\n",
    "\n",
    "require(ggplot2)\n",
    "\n",
    "    # Note that fit is an object with various things, such as a model.\n",
    "ggplot(hp, \n",
    "       aes_string(\n",
    "                x = <add your predictor variables with coefficients in equation here>, \n",
    "                y = <what goes here>\n",
    "       ) # end of aes_string\n",
    "  ) + \n",
    "  geom_point() +\n",
    "  stat_smooth(method = \"lm\", col = \"red\") +\n",
    "  labs(title = paste(\"Adj R2 = \",signif(summary(fit)$adj.r.squared, 5),\n",
    "                     \"Intercept =\",signif(fit$coef[[1]],5 ),\n",
    "                     \" Slope =\",signif(fit$coef[[2]], 5),\n",
    "                     \" P =\",signif(summary(fit)$coef[2,4], 5)\n",
    "                ) # end of title string concatenations\n",
    "       , x = <what goes here>\n",
    "      ) "
   ]
  },
  {
   "cell_type": "markdown",
   "metadata": {},
   "source": [
    "**Activity 5:** Print the covariance and correlation matrices for the seven variables listed in activity 2(cnt, mnth, temp, hum, windspeed, hr, weathersit). Also, plot the correlations using corrplot (use order='hclust'). \n"
   ]
  },
  {
   "cell_type": "code",
   "execution_count": null,
   "metadata": {},
   "outputs": [],
   "source": [
    "# Your code for activity 5 goes here\n",
    "\n",
    "df <- bikeshare_data[, c('cnt', 'mnth', 'temp', 'hum', 'windspeed', 'hr', 'weathersit')]\n",
    "\n",
    "<what goes here>"
   ]
  },
  {
   "cell_type": "markdown",
   "metadata": {},
   "source": [
    "# Save your notebook"
   ]
  }
 ],
 "metadata": {
  "kernelspec": {
   "display_name": "R",
   "language": "R",
   "name": "ir"
  },
  "language_info": {
   "codemirror_mode": "r",
   "file_extension": ".r",
   "mimetype": "text/x-r-source",
   "name": "R",
   "pygments_lexer": "r",
   "version": "4.0.5"
  }
 },
 "nbformat": 4,
 "nbformat_minor": 1
}
