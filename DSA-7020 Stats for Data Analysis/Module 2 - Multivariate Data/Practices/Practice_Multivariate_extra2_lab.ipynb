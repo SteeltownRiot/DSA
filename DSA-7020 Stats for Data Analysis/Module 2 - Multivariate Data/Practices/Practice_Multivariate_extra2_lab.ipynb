{
 "cells": [
  {
   "cell_type": "markdown",
   "metadata": {},
   "source": [
    "# Practice for Module 2\n",
    "\n",
    "We are familiar with univariate, bivariate and multivariate analysis of data from the lab notebooks of week 1 and 2. We have seen how visualizations help us in analyzing the data and their limitations in analyzing multi dimensional data. \n",
    "\n",
    "Lets continue our discussion on bivariate and multi variate data analysis by working through this practice notebook. You will be provided with code snippets to complete/modify the code for generating desired output. We will look into the bikeshare dataset on which we worked in week1.\n",
    "\n",
    "__Remember__ to look for the `<what goes in here>` and similar prompts to complete the code. "
   ]
  },
  {
   "cell_type": "markdown",
   "metadata": {},
   "source": [
    "### Loading data\n",
    "\n",
    "Load the data `/dsa/data/all_datasets/bikeshare/hour.csv` into R and name the datframe as `bikeshare_data`"
   ]
  },
  {
   "cell_type": "code",
   "execution_count": null,
   "metadata": {},
   "outputs": [],
   "source": [
    "bikeshare_data <- read.csv(\"/dsa/data/all_datasets/bikeshare/hour.csv\", header = T, sep=\",\")\n",
    "head(bikeshare_data)"
   ]
  },
  {
   "cell_type": "markdown",
   "metadata": {},
   "source": [
    "First few rows suggests most of the data is either numeric or discrete in nature except for date column. Again we are interetsed in identifying the independent variables which are related to variable `cnt`. \n",
    "\n",
    "Lets run summary() on dataset. "
   ]
  },
  {
   "cell_type": "code",
   "execution_count": null,
   "metadata": {},
   "outputs": [],
   "source": [
    "summary(bikeshare_data)"
   ]
  },
  {
   "cell_type": "markdown",
   "metadata": {},
   "source": [
    "**Activity 1:** What is the structure of the dataset."
   ]
  },
  {
   "cell_type": "code",
   "execution_count": null,
   "metadata": {},
   "outputs": [],
   "source": [
    "# Your code for activity 1 goes here\n"
   ]
  },
  {
   "cell_type": "markdown",
   "metadata": {},
   "source": [
    "We know the dimension of the dataset and datatypes of all features. Lets plot some scatter plots for cnt variable against rest of the independent variables."
   ]
  },
  {
   "cell_type": "code",
   "execution_count": null,
   "metadata": {},
   "outputs": [],
   "source": [
    "#package for plotting graphs\n",
    "library(ggplot2)\n",
    "\n",
    "#package for arranging multiple graphs in a grid layout\n",
    "library(gridExtra)\n",
    "\n",
    "grid.arrange(\n",
    "    ggplot(bikeshare_data, aes(x=season,y=cnt)) + xlab(\"Season\")+ ylab(\"No of users\") + \n",
    "    geom_point(aes(colour = factor(mnth))) + geom_smooth(method=lm),\n",
    "    \n",
    "    ggplot(bikeshare_data, aes(x=mnth,y=cnt)) + xlab(\"Month\")+ ylab(\"No of users\") + \n",
    "    geom_point(aes(colour = factor(weekday))) + geom_smooth(method=lm),\n",
    "    \n",
    "    ggplot(bikeshare_data, aes(x=weekday,y=cnt)) + xlab(\"Weekday\")+ ylab(\"No of users\") + \n",
    "    geom_point(aes(colour = factor(hr))) + geom_smooth(method=lm),\n",
    "    \n",
    "    ggplot(bikeshare_data, aes(x=weathersit,y=cnt)) + xlab(\"Weather situation\")+ ylab(\"No of users\") + \n",
    "    geom_point(aes(colour = factor(workingday))) + geom_smooth(method=lm),\n",
    "    \n",
    "    ggplot(bikeshare_data, aes(x=temp,y=cnt)) + xlab(\"Temparature\")+ ylab(\"No of users\") + \n",
    "    geom_point(aes(colour = factor(workingday))) + geom_smooth(method=lm),\n",
    "    \n",
    "    ggplot(bikeshare_data, aes(x=hum,y=hum)) + xlab(\"humidity\")+ ylab(\"No of users\") + \n",
    "    geom_point(aes(colour = factor(workingday))) + geom_smooth(method=lm),\n",
    "    \n",
    "    ggplot(bikeshare_data, aes(x=windspeed,y=cnt)) + xlab(\"Wind speed\")+ ylab(\"No of users\") + \n",
    "    geom_point(aes(colour = factor(workingday))) + geom_smooth(method=lm),\n",
    "    \n",
    "    ncol=2)    "
   ]
  },
  {
   "cell_type": "markdown",
   "metadata": {},
   "source": [
    "There are some positive linear relationships between cnt and season, month, weather situation, temparature, humidity, windspeed. "
   ]
  },
  {
   "cell_type": "markdown",
   "metadata": {},
   "source": [
    "**Activity 2:** Plot individual scatter plots between variables \n",
    "\n",
    "    2.a cnt and month\n",
    "    2.b cnt and temp\n",
    "    2.c cnt and hum\n",
    "    2.d cnt and windspeed\n",
    "    2.e cnt and hr\n",
    "    2.f cnt and weathersit\n",
    "\n",
    "Use weekday for plotting points with different colors. Add a regression line. Calculate pearson correlation coefficients for all  pairs of variables."
   ]
  },
  {
   "cell_type": "code",
   "execution_count": null,
   "metadata": {},
   "outputs": [],
   "source": [
    "# Your code for activity 2.a goes here\n",
    "ggplot(<what goes in here>, aes(x=<what goes in here>,y=<what goes in here>)) + xlab(\"Month\")+ ylab(\"No of users\") + \n",
    "    geom_point(aes(colour = <<what goes in here>>)) + geom_smooth(<what goes in here>)\n",
    "\n",
    "cor.test(<what goes in here>,<what goes in here>)"
   ]
  },
  {
   "cell_type": "code",
   "execution_count": null,
   "metadata": {},
   "outputs": [],
   "source": [
    "# Your code for activity 2.b goes here\n",
    "ggplot(<what goes in here>, aes(x=<what goes in here>,y=<what goes in here>)) + xlab(\"Temparature\")+ ylab(\"No of users\") + \n",
    "    geom_point(<what goes in here>) + geom_smooth(method=lm)\n",
    "\n",
    "cor.test(bikeshare_data$temp,bikeshare_data$cnt)"
   ]
  },
  {
   "cell_type": "code",
   "execution_count": null,
   "metadata": {},
   "outputs": [],
   "source": [
    "# Your code for activity 2.c goes here\n",
    "ggplot(<what goes in here>, aes(<what goes in here>) + xlab(\"Humidity\")+ ylab(\"No of users\") + \n",
    "    geom_point(<what goes in here>) + <what goes in here>\n",
    "\n",
    "cor.test(bikeshare_data$hum,bikeshare_data$cnt)"
   ]
  },
  {
   "cell_type": "code",
   "execution_count": null,
   "metadata": {},
   "outputs": [],
   "source": [
    "# Your code for activity 2.d goes here\n",
    "ggplot(bikeshare_data, <what goes in here>) + xlab(\"Wind speed\")+ ylab(\"No of users\") + \n",
    "    <what goes in here> + <what goes in here>\n",
    "\n",
    "cor.test(bikeshare_data$windspeed,bikeshare_data$cnt)"
   ]
  },
  {
   "cell_type": "code",
   "execution_count": null,
   "metadata": {},
   "outputs": [],
   "source": [
    "# Your code for activity 2.e goes here\n",
    "ggplot(bikeshare_data, aes(x=hr,y=cnt)) + xlab(\"Hour\")+ ylab(\"No of users\") + \n",
    "    + geom_point(aes(colour = factor(weekday))) + geom_smooth()\n",
    "\n",
    "cor.test(bikeshare_data$hr,bikeshare_data$cnt)"
   ]
  },
  {
   "cell_type": "code",
   "execution_count": null,
   "metadata": {},
   "outputs": [],
   "source": [
    "# Your code for activity 2.f goes here\n",
    "ggplot(bikeshare_data, aes(x=weathersit,y=cnt)) + xlab(\"Weather Situation\")+ ylab(\"No of users\") + \n",
    "     + geom_smooth(method=lm)\n",
    "\n",
    "cor.test(bikeshare_data$weathersit,bikeshare_data$cnt)"
   ]
  },
  {
   "cell_type": "markdown",
   "metadata": {},
   "source": [
    "**Activity 3:** Plot a 3 dimensional plot using scatterplot3d package. plot temp on x-axis, hum on y-axis and cnt on z-axis. use season as the 4 th dimension in the form of color.  "
   ]
  },
  {
   "cell_type": "code",
   "execution_count": null,
   "metadata": {},
   "outputs": [],
   "source": [
    "# Your code for activity 3 goes here\n",
    "library(scatterplot3d)\n",
    "\n",
    "#Assigning each unique value in season variable a different color\n",
    "colors <- c(\"orange\", \"green\", \"magenta\",\"blue\")\n",
    "colors <- colors[bikeshare_data$season]\n",
    "\n",
    "#Use dplyr to select columns temp, hum, cnt from bikeshare_data and supply as data below\n",
    "scatterplot3d(<what goes in here>,angle = 45,color=colors,pch = 16,\n",
    "              main=\"Temperature vs humidity vs count\",\n",
    "              xlab = \"Temparature\",\n",
    "              ylab = \"Humidity\",\n",
    "              zlab = \"Count\")\n",
    "\n",
    "              legend(plot$xyz.convert(0.9,0.9,800), legend = levels(<what goes in here>(bikeshare_data$season)),\n",
    "                     col =  c(\"orange\", \"green\", \"magenta\",\"blue\"), pch = 16)"
   ]
  },
  {
   "cell_type": "markdown",
   "metadata": {},
   "source": [
    "**Activity 4:** Plot a graph in ggplot for cnt vs temp using hr for color parameter as third dimension. Use dplyr to supply the input data to ggplot() command."
   ]
  },
  {
   "cell_type": "code",
   "execution_count": null,
   "metadata": {},
   "outputs": [],
   "source": [
    "# Your code for activity 4 goes here\n",
    "\n",
    "library(dplyr)\n",
    "\n",
    "#Select temp, cnt and hr variables from bikeshare_data using select function in dplyr \n",
    "<what goes in here> %>%\n",
    "    <what goes in here>(temp, cnt,hr) %>%\n",
    "#filter hour to be greater than 11\n",
    "    filter(<what goes in here>) %>% ggplot(aes(x=temp, y=<what goes in here>, color=<what goes in here>)) + \n",
    "    xlab(\"temparature\") + ylab(\"count\") +  geom_point()"
   ]
  },
  {
   "cell_type": "markdown",
   "metadata": {},
   "source": [
    "**Activity 5:** Use dplyr to group the data by weekday and summerise casual, registered and cnt variables using mean function."
   ]
  },
  {
   "cell_type": "code",
   "execution_count": null,
   "metadata": {},
   "outputs": [],
   "source": [
    "bikeshare_data %>%\n",
    "    <what goes in here>(weekday) %>%\n",
    "    summarise_each(<what goes in here>, casual,<what goes in here>,<what goes in here>)"
   ]
  },
  {
   "cell_type": "markdown",
   "metadata": {},
   "source": [
    "**Activity 6:** Use dplyr to group the data by weekday and hr and summarize the data in descending order."
   ]
  },
  {
   "cell_type": "code",
   "execution_count": null,
   "metadata": {},
   "outputs": [],
   "source": [
    "bikeshare_data %>%\n",
    "    group_by(weekday, <what goes in here>) %>%\n",
    "    summarise(bikeshare_count = n()) %>%\n",
    "    arrange(<what goes in here>(bikeshare_count))"
   ]
  }
 ],
 "metadata": {
  "kernelspec": {
   "display_name": "R",
   "language": "R",
   "name": "ir"
  },
  "language_info": {
   "codemirror_mode": "r",
   "file_extension": ".r",
   "mimetype": "text/x-r-source",
   "name": "R",
   "pygments_lexer": "r",
   "version": "4.0.5"
  }
 },
 "nbformat": 4,
 "nbformat_minor": 1
}
