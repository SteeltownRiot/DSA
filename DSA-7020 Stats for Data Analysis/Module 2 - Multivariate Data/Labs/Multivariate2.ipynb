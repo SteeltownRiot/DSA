{
 "cells": [
  {
   "cell_type": "markdown",
   "metadata": {},
   "source": [
    "## Multivariate Analysis Example 2 \n",
    "\n",
    "-----\n",
    "\n",
    "### Data Set : Kings County, WA housing data\n",
    "\n",
    "This lab illustrates the summarization of data. \n",
    "In this case, the data is wider and has many columns compared to the prior datasets.\n",
    "\n",
    "The Dataset contains information on house sale prices for King County, Seattle. \n",
    "It has over 21k rows of data to play with. \n",
    "It has 21 dimensions consisting of 2 non-predictor variables (id and date (which we will exclude)), 18 predictor (\"independent\") variables, and 1 response (\"dependent\") variable."
   ]
  },
  {
   "cell_type": "markdown",
   "metadata": {},
   "source": [
    "### Loading the data..."
   ]
  },
  {
   "cell_type": "code",
   "execution_count": null,
   "metadata": {},
   "outputs": [],
   "source": [
    "housing_prices <- read.csv(\"/dsa/data/all_datasets/house_sales_in_king_county/kc_house_data.csv\")\n",
    "head(housing_prices)"
   ]
  },
  {
   "cell_type": "code",
   "execution_count": null,
   "metadata": {},
   "outputs": [],
   "source": [
    "# We can examine the structure of dataframe as follows\n",
    "str(housing_prices)"
   ]
  },
  {
   "cell_type": "markdown",
   "metadata": {},
   "source": [
    "The `str()` function gave us an overall sense of the data. \n",
    "\n",
    "__We see that we have 21613 observations and 21 variables.__\n",
    "\n",
    "For this data set, we can see various numeric and integer components in our multivariate data. \n",
    "Each line in the structure above is a vector component, therefore the vector structure is:  \n",
    "*(id, data, price, bedrooms, ... , sqft_living15, sqft_loft)*\n",
    "\n",
    "We will not be worried about id, as it is just a sequential counter. \n",
    "\n",
    "\n",
    "Let's dig deep into the data by doing some univariate analysis just like what we did in our prior module.\n",
    "First, run summary() on all variables..."
   ]
  },
  {
   "cell_type": "code",
   "execution_count": null,
   "metadata": {},
   "outputs": [],
   "source": [
    "summary(housing_prices)"
   ]
  },
  {
   "cell_type": "markdown",
   "metadata": {},
   "source": [
    "Each variable has a different scale of values. \n",
    "Some range from 0 to 1 and some vary over long ranges. \n",
    "*bedrooms* looks interesting with a maximum value of 33. \n",
    "There could be possible outliers, we will look into that shortly. \n",
    "\n",
    "For data sets such as this, you need to apply some cultural and domain understanding to the data.\n",
    "\n",
    "For instance, we see *zipcode* is being treated as a numerical value.\n",
    "However, we know zipcodes are actually buckets of an area, i.e., **factors**.\n",
    "\n",
    "In another example, the *yr_renovated* has a **min** and **median** value of 0; and it has **mean value of 84.4**.\n",
    "From this, we should probably surmise that **yr_renovated** defaults to 0 if the property has not been renovated.\n",
    "\n",
    "All of these things should be kept in mind as we begin to try modelling our data."
   ]
  },
  {
   "cell_type": "markdown",
   "metadata": {},
   "source": [
    "### Univariate analysis\n",
    "\n",
    "Let's plot histograms for all 18 variables and look into their distribution.\n",
    "\n",
    "`gridExtra`: This R library helps you arrange multiple grid-based plots on a page, and draw tables. \n",
    "We are plotting 18 different histograms and arranging them in a grid. \n",
    "\n",
    "`ggplot2`: ggplot2 is commonly used package for doing visualizations. \n",
    "It takes care of many of the fiddly details that make plotting a hassle (like drawing legends).\n",
    "\n",
    "__Reference__: https://cran.r-project.org/web/packages/gridExtra/vignettes/arrangeGrob.html  \n",
    "__Reference__: http://docs.ggplot2.org/dev/vignettes/qplot.html  \n"
   ]
  },
  {
   "cell_type": "code",
   "execution_count": null,
   "metadata": {},
   "outputs": [],
   "source": [
    "require(gridExtra)\n",
    "require(ggplot2)\n",
    "\n",
    "## grid.arrange(x1,x2,x3...xn,ncol=x,nrow=y)\n",
    "## The command will arrange the plots x1,x2....xn in the desired outlet of specified rows and columns\n",
    "\n",
    "# The number of bins should be chosen as appropriate. If you are not sure then trial and error is the best way to figure out the \n",
    "# right number of bins. Each bin will have observations equal to bin size. \n",
    "\n",
    "# In the case of price, I am going to divide by 1000 to get the price in $1000's \n",
    "\n",
    "grid.arrange(qplot(housing_prices$price/1000,bins = 20,xlab='price ($k)'),\n",
    "             qplot(housing_prices$bedrooms,bins = 5,xlab='bedrooms'),\n",
    "             qplot(housing_prices$bathrooms,bins = 5,xlab='bathrooms'),\n",
    "             qplot(housing_prices$sqft_living,bins = 25,xlab='sqft_living'),\n",
    "             qplot(housing_prices$sqft_lot,bins = 25,xlab='sqft_lot'),\n",
    "             qplot(housing_prices$floors,bins = 4,xlab='floors'),\n",
    "             qplot(housing_prices$waterfront,bins = 4,xlab='waterfront'),\n",
    "             qplot(housing_prices$view,bins = 4,xlab='view'),\n",
    "             qplot(housing_prices$condition,bins = 10,xlab='condition'),\n",
    "             qplot(housing_prices$grade,bins = 10,xlab='grade'),\n",
    "             qplot(housing_prices$sqft_above,bins = 25,xlab='sqft_above'),\n",
    "             qplot(housing_prices$sqft_basement,bins = 25,xlab='sqft_basement'),\n",
    "             qplot(housing_prices$yr_built,bins = 10,xlab='yr_built'),\n",
    "             qplot(housing_prices$yr_renovated,bins = 10,xlab='yr_renovated'),\n",
    "             qplot(housing_prices$lat,bins = 20,xlab='lat'),\n",
    "             qplot(housing_prices$long,bins = 20,xlab='long'),\n",
    "             qplot(housing_prices$sqft_living15,bins = 25,xlab='sqft_living15'),\n",
    "             qplot(housing_prices$sqft_lot15,bins = 25,xlab='sqft_lot15'),\n",
    "             qplot(housing_prices$zipcode,bins = 10,xlab='zipcode'),\n",
    "             ncol = 3)"
   ]
  },
  {
   "cell_type": "markdown",
   "metadata": {},
   "source": [
    "Now let's look at a few of the plots to see the actual histograms as a table of values using the *table* function.\n",
    "\n",
    "__Reference__: https://www.r-bloggers.com/r-function-of-the-day-table/\n"
   ]
  },
  {
   "cell_type": "code",
   "execution_count": null,
   "metadata": {},
   "outputs": [],
   "source": [
    "table(housing_prices$bedrooms)"
   ]
  },
  {
   "cell_type": "code",
   "execution_count": null,
   "metadata": {},
   "outputs": [],
   "source": [
    "table(housing_prices$bathrooms)"
   ]
  },
  {
   "cell_type": "code",
   "execution_count": null,
   "metadata": {},
   "outputs": [],
   "source": [
    "table(housing_prices$floors)"
   ]
  },
  {
   "cell_type": "code",
   "execution_count": null,
   "metadata": {},
   "outputs": [],
   "source": [
    "table(housing_prices$view)"
   ]
  },
  {
   "cell_type": "code",
   "execution_count": null,
   "metadata": {},
   "outputs": [],
   "source": [
    "table(housing_prices$yr_renovated)"
   ]
  },
  {
   "cell_type": "markdown",
   "metadata": {},
   "source": [
    "### Observations based on histograms\n",
    "\n",
    "* Bedrooms: Bedrooms variable appears to have outliers but it could be a valid value. \n",
    "\n",
    "* Year renovated: Not many houses are renovated. Most of the renovated houses are from 80s.\n",
    "\n",
    "We have to identify independent variables that are related to our response variable price. \n",
    "To do this, we will look for bivariate relationships. \n",
    "\n",
    "We know, culturally, that bedrooms will be a major decider in the price of a house. \n",
    "So, let's look at this and test our expectation with a scatter plot of price and bedrooms. \n",
    "We will add a regression line to our scatter plot as well, \n",
    "so we can estimate the correlation coefficient between the variables.\n",
    "\n"
   ]
  },
  {
   "cell_type": "code",
   "execution_count": null,
   "metadata": {},
   "outputs": [],
   "source": [
    "# Plot housing prices, use the bedrooms as the x-axis and the price as the y-axis\n",
    "ggplot(housing_prices, aes(x = bedrooms, y = price/1000)) +  # The plus sign lets R know that the command will continue\n",
    "# Add a X axis label\n",
    " xlab(\"Bedrooms\") +\n",
    "# Add a Y axis label\n",
    " ylab(\"Price ($K)\") +\n",
    "# set the data plotting to be points\n",
    " geom_point() +\n",
    "# add the smooth geometry element with a linear model, i.e., using the lm()\n",
    " geom_smooth(method = lm)"
   ]
  },
  {
   "cell_type": "markdown",
   "metadata": {},
   "source": [
    "This is our basic plot.  \n",
    "\n",
    "Something that often helps in plots is to bring another feature of the data into the plot via use of colors.\n",
    "\n",
    "We will re-do the plot, using some variables as colors."
   ]
  },
  {
   "cell_type": "code",
   "execution_count": null,
   "metadata": {},
   "outputs": [],
   "source": [
    "# Plot housing prices, use the bedrooms as the x-axis and the price as the y axis\n",
    "ggplot(housing_prices, aes(x = bedrooms, y = price/1000)) +  #The plus sign lets R know that the command will continue\n",
    "# Add a X axis label\n",
    " xlab(\"Bedrooms\") +\n",
    "# Add a Y axis label\n",
    " ylab(\"Price ($K)\") +\n",
    "# This next line allows us to view some variables as colors\n",
    "# set the data plotting to be points with an aesthetic of colour=view\n",
    " geom_point(aes(colour = view)) + \n",
    "# add the smooth geometry element with a linear model, i.e., using the lm()\n",
    " geom_smooth(method = lm)"
   ]
  },
  {
   "cell_type": "markdown",
   "metadata": {},
   "source": [
    "#### Try me:\n",
    "Try changing the `(colour = view)` to use a different variable, such as `bathrooms` or `floors`.\n",
    "\n",
    "---\n",
    "\"33 bedrooms\" looks like an outlier, because its price is similar to what a 4-bedroom house will cost. \n",
    "Look at that particular record in dataset by running the cell below. \n",
    "It just has 1.75 bathrooms and 1620 sqft_living. "
   ]
  },
  {
   "cell_type": "code",
   "execution_count": null,
   "metadata": {},
   "outputs": [],
   "source": [
    "housing_prices[housing_prices$bedrooms == 33,]"
   ]
  },
  {
   "cell_type": "markdown",
   "metadata": {},
   "source": [
    "Looks like the observation is an outlier (and most likely an error). Let's remove it from the dataset and then repeat our plot!"
   ]
  },
  {
   "cell_type": "code",
   "execution_count": null,
   "metadata": {},
   "outputs": [],
   "source": [
    "housing_prices=housing_prices[!housing_prices$bedrooms %in% c(33),]\n",
    "ggplot(housing_prices, aes(x=bedrooms,y=price/1000)) +  \n",
    " xlab(\"Bedrooms\") + ylab(\"Price ($K)\") +  geom_point(aes(colour = view)) + geom_smooth(method=lm)"
   ]
  },
  {
   "cell_type": "markdown",
   "metadata": {
    "collapsed": true
   },
   "source": [
    "Let's generate scatter plots of price and some other independent variables... "
   ]
  },
  {
   "cell_type": "code",
   "execution_count": null,
   "metadata": {},
   "outputs": [],
   "source": [
    "library(gridExtra)\n",
    "library(ggplot2)\n",
    "\n",
    "ggplot(housing_prices, aes(x=bedrooms,y=price/1000)) + xlab(\"Bedrooms\")+ ylab(\"Price ($K)\") + \n",
    "    geom_point(aes(colour = factor(view))) + geom_smooth(method=lm)\n",
    "\n",
    "grid.arrange(\n",
    "    \n",
    "    ggplot(housing_prices, aes(x=bathrooms,y=price/1000)) + xlab(\"Bathrooms\")+ ylab(\"Price ($K)\") + \n",
    "    geom_point(aes(colour = factor(view))) + geom_smooth(method=lm),\n",
    "    \n",
    "    ggplot(housing_prices, aes(x=sqft_living,y=price/1000)) + xlab(\"sqft_living\")+ ylab(\"Price ($K)\") + \n",
    "    geom_point(aes(colour = factor(view))) + geom_smooth(method=lm),\n",
    "    \n",
    "    ggplot(housing_prices, aes(x=floors,y=price/1000)) + xlab(\"floors\")+ ylab(\"Price ($K)\") + \n",
    "    geom_point(aes(colour = factor(view))) + geom_smooth(method=lm),\n",
    "    \n",
    "    ggplot(housing_prices, aes(x=condition,y=price/1000)) + xlab(\"condition\")+ ylab(\"Price ($K)\") + \n",
    "    geom_point(aes(colour = factor(view))) + geom_smooth(method=lm),\n",
    "    \n",
    "    ggplot(housing_prices, aes(x=grade,y=price/1000)) + xlab(\"grade\")+ ylab(\"Price ($K)\") + \n",
    "    geom_point(aes(colour = factor(view))) + geom_smooth(method=lm),\n",
    "    \n",
    "    ggplot(housing_prices, aes(x=sqft_above,y=price/1000)) + xlab(\"sqft_above\")+ ylab(\"Price ($K)\") + \n",
    "    geom_point(aes(colour = factor(view))) + geom_smooth(method=lm),\n",
    "    \n",
    "    ggplot(housing_prices, aes(x=sqft_basement,y=price/1000)) + xlab(\"sqft_basement\")+ ylab(\"Price ($K)\") + \n",
    "    geom_point(aes(colour = factor(view))) + geom_smooth(method=lm),\n",
    "    \n",
    "    ggplot(housing_prices, aes(x=yr_built,y=price/1000)) + xlab(\"yr_built\")+ ylab(\"Price ($K)\") + \n",
    "    geom_point(aes(colour = factor(view))) + geom_smooth(method=lm),\n",
    "    \n",
    "    ggplot(housing_prices, aes(x=yr_renovated,y=price/1000)) + xlab(\"yr_renovated\")+ ylab(\"Price ($K)\") + \n",
    "    geom_point(aes(colour = factor(view))) + geom_smooth(method=lm),\n",
    "    \n",
    "    ggplot(housing_prices, aes(x=view,y=price/1000)) + xlab(\"view\")+ ylab(\"Price ($K)\") + \n",
    "    geom_point(aes(colour = factor(view))) + geom_smooth(method=lm),\n",
    "    \n",
    "    ggplot(housing_prices, aes(x=sqft_lot15,y=price/1000)) + xlab(\"sqft_lot15\")+ ylab(\"Price ($K)\") + \n",
    "    geom_point(aes(colour = factor(view))) + geom_smooth(method=lm),\n",
    "    \n",
    "    ggplot(housing_prices, aes(x=sqft_living15,y=price/1000)) + xlab(\"sqft_living15\")+ ylab(\"Price ($K)\") + \n",
    "    geom_point(aes(colour = factor(view))) + geom_smooth(method=lm),\n",
    "    \n",
    "    \n",
    "    ncol=2)"
   ]
  },
  {
   "cell_type": "markdown",
   "metadata": {},
   "source": [
    "### Observations:\n",
    "\n",
    "Which variables seem to have no correlation to price?  \n",
    "These are the flat lines, where price does not grow.\n",
    " * floors\n",
    " * condition\n",
    " * yr_built\n",
    "\n",
    "Which variables seem to have the strongest correlation to price?\n",
    " 1. sqft_living\n",
    " 2. bathrooms\n",
    " 3. sqft_above\n",
    " 4. bedrooms\n",
    "\n",
    "Let's confirm this with a correlation matrix.\n",
    "First, we must down select to have a purely numeric data frame, otherwise we get an error such as:  \n",
    "```\n",
    "Error in cor(housing_prices): 'x' must be numeric\n",
    "```"
   ]
  },
  {
   "cell_type": "code",
   "execution_count": null,
   "metadata": {},
   "outputs": [],
   "source": [
    "hp <- housing_prices[c(\"price\",\"bedrooms\",\"floors\",\"condition\",\"yr_built\",\"sqft_living\",\"bathrooms\",\"sqft_above\",\"bedrooms\",\"sqft_basement\",\"grade\")]\n",
    "cor(hp)"
   ]
  },
  {
   "cell_type": "markdown",
   "metadata": {},
   "source": [
    "Looking down the first column, we can see the most correlated variables to price are:\n",
    " 1. sqft_living\n",
    " 2. grade\n",
    " 3. sqft_above\n",
    " 4. bathrooms\n",
    " \n",
    "Note that bedrooms, which we traditionally think as a large driver of home price only has a 0.315 correlation value.\n",
    "\n",
    "Let's drop some columns from our working data frame and get a big picture!\n"
   ]
  },
  {
   "cell_type": "code",
   "execution_count": null,
   "metadata": {},
   "outputs": [],
   "source": [
    "# setting a column to NULL removes it from the data frame\n",
    "hp$condition <- NULL\n",
    "hp$yr_built <- NULL\n",
    "plot(hp)\n",
    "\n",
    "#\n",
    "# NOTE: This cell may take a minute to complete running.\n",
    "# "
   ]
  },
  {
   "cell_type": "markdown",
   "metadata": {},
   "source": [
    "## Linear Regression Model\n",
    "\n",
    "\n",
    "\n",
    "#### Using linear model solver, _lm()_\n",
    "\n",
    "\n",
    "`lm()` is the function used to fit linear models.  An object of class \"lm\" is a list containing at least the following components: coefficients, residuals, fitted.values, rank, weights, df.residual, call, terms, contrasts, xlevels, offset, y, x, model, and na.action.\n",
    "\n",
    "`lm(LHS ~ RHS)` is the model to compute.\n",
    "  *  Left-hand-side (LHS) is the dependent variable\n",
    "  *  Right-hand-side (RHS) are the independent variables (predictors)\n",
    "  \n",
    "Our model will be:\n",
    "```R\n",
    "price ~ ?\n",
    "```\n",
    "We will start with just two predictors, variables with highest correlation as we found previously.\n",
    " 1. sqft_living\n",
    " 2. grade\n"
   ]
  },
  {
   "cell_type": "code",
   "execution_count": null,
   "metadata": {},
   "outputs": [],
   "source": [
    "# fit variable will hold a statistical model\n",
    "fit <- lm(price ~ sqft_living + grade, data=hp)\n",
    "summary(fit) # show results of analysis"
   ]
  },
  {
   "cell_type": "markdown",
   "metadata": {},
   "source": [
    "**NOTE** R-squared error is 0.5345.\n",
    "\n",
    "__Reference/Reading__: [$R^2$](https://en.wikipedia.org/wiki/Coefficient_of_determination#As_squared_correlation_coefficient)\n",
    "\n",
    "\n",
    "What if we add the next predictor, sqft_above?"
   ]
  },
  {
   "cell_type": "code",
   "execution_count": null,
   "metadata": {},
   "outputs": [],
   "source": [
    "# fit variable will hold a statistical model\n",
    "fit2 <- lm(price ~ sqft_living + grade + sqft_above, data=hp)\n",
    "summary(fit2) # show results of analysis"
   ]
  },
  {
   "cell_type": "markdown",
   "metadata": {},
   "source": [
    "**NOTE** The R-squared error is 0.5411.\n",
    "\n",
    "What if we add the next predictor, bathrooms?"
   ]
  },
  {
   "cell_type": "code",
   "execution_count": null,
   "metadata": {},
   "outputs": [],
   "source": [
    "# fit variable will hold a statistical model\n",
    "fit3 <- lm(price ~ sqft_living + grade + sqft_above + bathrooms, data=hp)\n",
    "summary(fit3) # show results of analysis"
   ]
  },
  {
   "cell_type": "markdown",
   "metadata": {},
   "source": [
    "We can see that as we add predictor (independent variables) with lower correlations to price, we get diminishing returns on the R-squared ($R^2$) measure of fitness.\n",
    "\n",
    "Lets finish up this lab with some visualization of the multiple regression models.\n",
    "\n",
    "Look at our original model, `fit`"
   ]
  },
  {
   "cell_type": "code",
   "execution_count": null,
   "metadata": {},
   "outputs": [],
   "source": [
    "fit"
   ]
  },
  {
   "cell_type": "code",
   "execution_count": null,
   "metadata": {},
   "outputs": [],
   "source": [
    "require(ggplot2)\n",
    "\n",
    "########################\n",
    "# adapted from: \n",
    "# https://susanejohnston.wordpress.com/2012/08/09/a-quick-and-easy-function-to-plot-lm-results-in-r/\n",
    "########################\n",
    "\n",
    "    # Note that fit is an object with various things, such as a model.\n",
    "ggplot(hp, \n",
    "       aes_string(\n",
    "                x = (184.4*hp$sqft_living + 98559.0*hp$grade - 598157.0), \n",
    "                y = names(fit$model)[1]\n",
    "       ) # end of aes_string\n",
    "  ) + \n",
    "  geom_point() +\n",
    "  stat_smooth(method = \"lm\", col = \"red\") +\n",
    "  labs(title = paste(\"Adj R2 = \",signif(summary(fit)$adj.r.squared, 5),\n",
    "                     \"Intercept =\",signif(fit$coef[[1]],5 ),\n",
    "                     \" Slope =\",signif(fit$coef[[2]], 5),\n",
    "                     \" P =\",signif(summary(fit)$coef[2,4], 5)\n",
    "                ) # end of title string concatenations\n",
    "       , x = \"sqft_living + grade\"\n",
    "      ) "
   ]
  },
  {
   "cell_type": "markdown",
   "metadata": {},
   "source": [
    "#### Ponder the few changes that are needed to plot the `fit2` or `fit3` models.\n",
    "\n",
    "Feel free to give it a try!\n",
    "\n",
    "# Save Your notebook"
   ]
  }
 ],
 "metadata": {
  "kernelspec": {
   "display_name": "R",
   "language": "R",
   "name": "ir"
  },
  "language_info": {
   "codemirror_mode": "r",
   "file_extension": ".r",
   "mimetype": "text/x-r-source",
   "name": "R",
   "pygments_lexer": "r",
   "version": "4.0.5"
  }
 },
 "nbformat": 4,
 "nbformat_minor": 2
}
