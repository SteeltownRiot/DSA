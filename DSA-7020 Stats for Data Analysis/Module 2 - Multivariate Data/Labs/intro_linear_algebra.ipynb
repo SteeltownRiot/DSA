{
 "cells": [
  {
   "cell_type": "markdown",
   "metadata": {},
   "source": [
    "## Brief Introduction to Linear Algebra\n",
    "\n",
    "Linear algebra deals with vector spaces and linear transformations; it is the algebra of vectors and matrices. We can use the its notation in multiple correlation, factor analysis, PCA, etc. Following is a brief overview of how to deal with vectors and matrices in R. run each code cell and study the outputs. \n",
    "\n",
    "You can consult the following resources for a deeper overview: \n",
    "\n",
    " - [Linear algebra explained in four pages](https://minireference.com/static/tutorials/linear_algebra_in_4_pages.pdf)\n",
    " - [Linear algebra in R](https://www.math.uh.edu/~jmorgan/Math6397/day13/LinearAlgebraR-Handout.pdf)\n",
    " \n",
    " "
   ]
  },
  {
   "cell_type": "markdown",
   "metadata": {},
   "source": [
    "---\n",
    "\n",
    "### Vectors\n",
    "\n",
    "A vector (as opposed to a scalar) is an ordered tuple of numbers. Its notation can be like this  $v = (3,1,4,-1)$ ( or sometimes with an arrow: $\\vec{v}$) or like this: \n",
    "\n",
    "row vector: \n",
    "\n",
    "$x = \\begin{bmatrix} x_{1} & x_{2} & \\dots & x_{n} \\end{bmatrix}$\n",
    "\n",
    "column vector:\n",
    "\n",
    "$x = \n",
    "\\begin{bmatrix}\n",
    "           x_{1} \\\\\n",
    "           x_{2} \\\\\n",
    "           \\vdots \\\\\n",
    "           x_{n}\n",
    "         \\end{bmatrix}\n",
    "$\n",
    "\n",
    "A vector of $n$ dimensions has $n$ elements as above and can be thought as an entity in an $n$ dimensional space. \n",
    "Cartesian coordinates (x,y) can be thought as vectors in two dimensional space, for example. "
   ]
  },
  {
   "cell_type": "code",
   "execution_count": null,
   "metadata": {},
   "outputs": [],
   "source": [
    "# vector in R \n",
    "v=c(3,1,4,-1)\n",
    "v"
   ]
  },
  {
   "cell_type": "code",
   "execution_count": null,
   "metadata": {},
   "outputs": [],
   "source": [
    "# access to individual element of a vector\n",
    "v[2]"
   ]
  },
  {
   "cell_type": "markdown",
   "metadata": {},
   "source": [
    "\n",
    "**Basic operations:**\n"
   ]
  },
  {
   "cell_type": "code",
   "execution_count": null,
   "metadata": {},
   "outputs": [],
   "source": [
    "w = c(2,0,1,3)\n",
    "w\n",
    "# add scalar to a vector \n",
    "w+1\n",
    "# multiply by a scalar \n",
    "2*w\n",
    "\n",
    "# add two vectors \n",
    "v\n",
    "v+w"
   ]
  },
  {
   "cell_type": "code",
   "execution_count": null,
   "metadata": {},
   "outputs": [],
   "source": [
    "# the following multiplication and divisions are ELEMENTWISE:\n",
    "v\n",
    "w\n",
    "\n",
    "v*w\n",
    "v/w"
   ]
  },
  {
   "cell_type": "markdown",
   "metadata": {},
   "source": [
    "---\n",
    "\n",
    "## Matrices\n",
    "\n",
    "A matrix is a two dimensional organization of numbers: you can think of it as a vector of vectors. This is a matrix with $n$ rows and $m$ columns and has $n \\times m$ elements:\n",
    "\n",
    "$x = \n",
    "\\begin{bmatrix}\n",
    "           x_{11} & x_{12} & x_{13} & \\dots & x_{1m}\\\\\n",
    "           x_{21} & x_{22} & x_{23}  & \\dots & x_{2m}\\\\\n",
    "           &\\vdots \\\\\n",
    "           x_{n1} & x_{n2} & x_{n3}  & \\dots & x_{nm}\\\\\n",
    "         \\end{bmatrix}\n",
    "$"
   ]
  },
  {
   "cell_type": "code",
   "execution_count": null,
   "metadata": {},
   "outputs": [],
   "source": [
    "# matrix in R \n",
    "a = matrix(c(1,5,3,8), ncol=2, nrow=2)\n",
    "a"
   ]
  },
  {
   "cell_type": "code",
   "execution_count": null,
   "metadata": {},
   "outputs": [],
   "source": [
    "b = matrix(c(1,3,5,7), ncol=2, nrow=2)\n",
    "b"
   ]
  },
  {
   "cell_type": "code",
   "execution_count": null,
   "metadata": {},
   "outputs": [],
   "source": [
    "# ELEMENTWISE operations\n",
    "#add \n",
    "a+b\n",
    "a+2\n",
    "\n",
    "# multiply ELEMENTWISE\n",
    "a*b\n"
   ]
  },
  {
   "cell_type": "markdown",
   "metadata": {},
   "source": [
    "**Matrix multiplication** in linear algebra is an inner product, and not very intuitive. Multiplying two matrices of $A_{MN}$ and $B_{NP}$, the resulting product would be a matrix $C_{MP}$ and each element of it is computed like this: \n",
    "\n",
    " $$C_{ij} = \\sum_{k=1}^{n} a_{ik}*b_{kj}$$\n",
    "\n",
    "This formula actually says that each element of $C$ is a *dot product* between the $i$th row of $A$ and the $j$th column of $B$ (below, we will see what a dot product is)."
   ]
  },
  {
   "cell_type": "code",
   "execution_count": null,
   "metadata": {},
   "outputs": [],
   "source": [
    "# LINEAR ALGEBRAIC multiplication (matrix product also known as inner product) in R\n",
    "a %*% b"
   ]
  },
  {
   "cell_type": "code",
   "execution_count": null,
   "metadata": {},
   "outputs": [],
   "source": [
    "# THIS IS DIFFERENT THAN a %*% b !\n",
    "b %*% a"
   ]
  },
  {
   "cell_type": "code",
   "execution_count": null,
   "metadata": {},
   "outputs": [],
   "source": [
    "# ELEMENTWISE division of matrices; THERE IS NO  MATRIX DIVISION DEFINED OTHER THAN ELEMENTWISE.\n",
    "a / b\n"
   ]
  },
  {
   "cell_type": "markdown",
   "metadata": {},
   "source": [
    "**Transpose** of a matrix is swapping rows and columns of it. "
   ]
  },
  {
   "cell_type": "code",
   "execution_count": null,
   "metadata": {},
   "outputs": [],
   "source": [
    "# TRANSPOSE of a matrix \n",
    "a\n",
    "t(a)"
   ]
  },
  {
   "cell_type": "code",
   "execution_count": null,
   "metadata": {},
   "outputs": [],
   "source": [
    "# diagonal of the matrix a is a vector made up by the elements a[i,i]\n",
    "diag(a)"
   ]
  },
  {
   "cell_type": "code",
   "execution_count": null,
   "metadata": {},
   "outputs": [],
   "source": [
    "# access to individual element\n",
    "a[2,2]"
   ]
  },
  {
   "cell_type": "code",
   "execution_count": null,
   "metadata": {},
   "outputs": [],
   "source": [
    "# CREATE a diagonal matrix from a vector \n",
    "diag(c(1,2,3))"
   ]
  },
  {
   "cell_type": "code",
   "execution_count": null,
   "metadata": {},
   "outputs": [],
   "source": [
    "# a vector in R is actually a COLUMN vector (a matrix of 1 by n) even though it's printed as a row vector\n",
    "\n",
    "v1=c(1,2,3)"
   ]
  },
  {
   "cell_type": "code",
   "execution_count": null,
   "metadata": {},
   "outputs": [],
   "source": [
    "v1"
   ]
  },
  {
   "cell_type": "code",
   "execution_count": null,
   "metadata": {},
   "outputs": [],
   "source": [
    "as.matrix(v1)"
   ]
  },
  {
   "cell_type": "code",
   "execution_count": null,
   "metadata": {},
   "outputs": [],
   "source": [
    "# transpose of it becomes a row vector (a matrix of 1 by n)\n",
    "t(v1)"
   ]
  },
  {
   "cell_type": "markdown",
   "metadata": {},
   "source": [
    "**The dot product** of two vectors is an inner product where you multiply vectors elementwise and sum the products up. It gives you a **scalar** (a single number). \n",
    "\n",
    "if you think of the vectors as 1-by-n and n-by-1 matrices, this is actually a matrix product, and the result is a matrix of size 1x1, so a scalar (Use the matrix product formula, and you will see).\n",
    "\n",
    "It is useful for computing a few things, for example the **length** of a vector:  "
   ]
  },
  {
   "cell_type": "code",
   "execution_count": null,
   "metadata": {},
   "outputs": [],
   "source": [
    "# DOT (INNER) PRODUCT of a vector with its transpose is a SCALAR. \n",
    "# Square root of that is called the norm or length or magnitude of the vector \n",
    "\n",
    "sqrt( t(v1) %*% v1 )"
   ]
  },
  {
   "cell_type": "code",
   "execution_count": null,
   "metadata": {},
   "outputs": [],
   "source": [
    "# by the way, this is totally different! This is the OUTER PRODUCT (again use the formula for matrix product and you'll see)\n",
    "v1 %*% t(v1)"
   ]
  },
  {
   "cell_type": "code",
   "execution_count": null,
   "metadata": {},
   "outputs": [],
   "source": [
    "# dot product of two PERPENDICULAR (orthogonal) vectors is zero. \n",
    "v2 = c(1,1)\n",
    "v3 = c(-1,1)\n",
    "\n",
    "t(v2) %*% v3\n",
    "#or\n",
    "t(v3) %*% v2"
   ]
  },
  {
   "cell_type": "markdown",
   "metadata": {},
   "source": [
    "**Identity matrix** is like the number 1 of matrices; multiplying by it will not change the matrix: "
   ]
  },
  {
   "cell_type": "code",
   "execution_count": null,
   "metadata": {},
   "outputs": [],
   "source": [
    "#Identity matrix:\n",
    "D=diag(2) # 2x2 identity matrix \n",
    "D\n",
    "a\n",
    "\n",
    "D %*% a"
   ]
  },
  {
   "cell_type": "markdown",
   "metadata": {},
   "source": [
    "**Inverse** of a matrix is defined for a square matrix $A_{NN}$ and can be found by `ginv` function:"
   ]
  },
  {
   "cell_type": "code",
   "execution_count": null,
   "metadata": {},
   "outputs": [],
   "source": [
    "library(MASS)\n",
    "ginv(a)"
   ]
  },
  {
   "cell_type": "code",
   "execution_count": null,
   "metadata": {},
   "outputs": [],
   "source": [
    "# multiply a matrix by its inverse, and you'll get IDENTITY matrix (or very close)\n",
    "a %*% ginv(a)"
   ]
  },
  {
   "cell_type": "code",
   "execution_count": null,
   "metadata": {},
   "outputs": [],
   "source": [
    "# takes numbers column by column by default\n",
    "c1 = matrix(\n",
    "  c(1, 2, 3, 4, 5, 6, 7, 8, 9), \n",
    "  nrow = 3,             \n",
    "  ncol = 3\n",
    ")\n",
    "c1"
   ]
  },
  {
   "cell_type": "code",
   "execution_count": null,
   "metadata": {},
   "outputs": [],
   "source": [
    "# change it to row by row \n",
    "c2 = matrix(\n",
    "  c(1, 2, 3, 4, 5, 6, 7, 8, 9), \n",
    "  nrow = 3,             \n",
    "  ncol = 3,             \n",
    "  byrow = TRUE          \n",
    ")\n",
    "c2"
   ]
  },
  {
   "cell_type": "code",
   "execution_count": null,
   "metadata": {},
   "outputs": [],
   "source": [
    "c2+10"
   ]
  },
  {
   "cell_type": "code",
   "execution_count": null,
   "metadata": {},
   "outputs": [],
   "source": [
    "2*c2"
   ]
  },
  {
   "cell_type": "code",
   "execution_count": null,
   "metadata": {},
   "outputs": [],
   "source": [
    "c1-c2"
   ]
  },
  {
   "cell_type": "code",
   "execution_count": null,
   "metadata": {},
   "outputs": [],
   "source": [
    "c1+c2"
   ]
  },
  {
   "cell_type": "code",
   "execution_count": null,
   "metadata": {},
   "outputs": [],
   "source": [
    "c1[2,3]"
   ]
  },
  {
   "cell_type": "markdown",
   "metadata": {},
   "source": [
    "**Eigenvalue decomposition** of a matrix is a useful tool as we will see later. \n",
    "\n",
    "Definition: A square matrix $A$ has a set of eigenvectors $\\vec{v_{i}}$ and their associated eigenvalues $\\lambda_{i}$ so that the following is true for each $\\vec{v}$ and $\\lambda$:\n",
    "\n",
    "$$ A\\vec{v} = \\lambda\\vec{v} $$\n",
    "\n",
    "\n",
    "`eigen` function computes them like following (each column in vectors is an eigenvector):"
   ]
  },
  {
   "cell_type": "code",
   "execution_count": null,
   "metadata": {},
   "outputs": [],
   "source": [
    "# EIGENVALUES and EIGENVECTORS of a symmetric matrix \n",
    "\n",
    "s = t(a) %*% a # this creates a symmetric matrix \n",
    "s\n",
    "e=eigen(s)\n",
    "e\n",
    "\n",
    "e$values\n",
    "e$vectors"
   ]
  },
  {
   "cell_type": "markdown",
   "metadata": {},
   "source": [
    "eigenvectors are supposed to be **perpendicular** to each other and their lengths should be 1. \n",
    "**Check if they are:**"
   ]
  },
  {
   "cell_type": "code",
   "execution_count": null,
   "metadata": {},
   "outputs": [],
   "source": [
    "ev1=e$vectors[,1]\n",
    "ev2=e$vectors[,2]\n",
    "\n",
    "#how do you check? "
   ]
  },
  {
   "cell_type": "code",
   "execution_count": null,
   "metadata": {},
   "outputs": [],
   "source": []
  }
 ],
 "metadata": {
  "kernelspec": {
   "display_name": "R",
   "language": "R",
   "name": "ir"
  },
  "language_info": {
   "codemirror_mode": "r",
   "file_extension": ".r",
   "mimetype": "text/x-r-source",
   "name": "R",
   "pygments_lexer": "r",
   "version": "4.0.5"
  }
 },
 "nbformat": 4,
 "nbformat_minor": 2
}
