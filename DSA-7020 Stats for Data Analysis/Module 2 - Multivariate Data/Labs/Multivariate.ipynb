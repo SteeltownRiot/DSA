{
 "cells": [
  {
   "cell_type": "markdown",
   "metadata": {},
   "source": [
    "# Multivariate Analysis Example 1\n",
    "\n",
    " "
   ]
  },
  {
   "cell_type": "code",
   "execution_count": null,
   "metadata": {},
   "outputs": [],
   "source": [
    "# Read the body dimensions data \n",
    "download.file(\"http://www.openintro.org/stat/data/bdims.RData\", destfile = \"bdims.RData\")\n",
    "load(\"bdims.RData\")\n",
    "\n",
    "# reduce to 3 columns\n",
    "lessData <- bdims[c(\"age\",\"wgt\",\"hgt\")]\n",
    "\n",
    "head(lessData, 20)"
   ]
  },
  {
   "cell_type": "code",
   "execution_count": null,
   "metadata": {},
   "outputs": [],
   "source": [
    "summary(lessData)"
   ]
  },
  {
   "cell_type": "markdown",
   "metadata": {},
   "source": [
    "## Visual Exploration\n",
    "In the next cell, we are going to look at some histograms using the ggplot2.qplot function.  \n",
    "__Reference__: https://ggplot2.tidyverse.org/reference/qplot.html\n",
    "\n",
    "Additionally, we are arranging some graphical objects (_grobs_) using the gridExtra package.  \n",
    "__Reference__: https://cran.r-project.org/web/packages/gridExtra/vignettes/arrangeGrob.html\n"
   ]
  },
  {
   "cell_type": "code",
   "execution_count": null,
   "metadata": {},
   "outputs": [],
   "source": [
    "library(ggplot2) \n",
    "library(gridExtra) \n"
   ]
  },
  {
   "cell_type": "code",
   "execution_count": null,
   "metadata": {},
   "outputs": [],
   "source": [
    "\n",
    "# Arrange three plots into 1 column\n",
    "grid.arrange(\n",
    "            # Plot the age variable, \n",
    "            #              # use only 10 bins/buckets to group the data \n",
    "        qplot(lessData$age,bins = 10,xlab='Age'),\n",
    "            # wgt \n",
    "        qplot(lessData$wgt,bins = 10,xlab='Weight'),\n",
    "            # hgt\n",
    "        qplot(lessData$hgt,bins = 10,xlab='Height'),\n",
    "        # describe the layout in number of rows and/or columns\n",
    "        ncol=1)"
   ]
  },
  {
   "cell_type": "markdown",
   "metadata": {},
   "source": [
    "## Moving up to Multiple Variables ... Multivariate\n",
    "\n",
    "The next question for multivariate statistics is to attempt to understand if there are any relationships between variables.  \n",
    " * **Covariance** is the correlated dispersion of the two variables.\n",
    " * **Correlation** measures the relative growth rates of the two variables."
   ]
  },
  {
   "cell_type": "code",
   "execution_count": null,
   "metadata": {},
   "outputs": [],
   "source": [
    "print(\"Weight and Height\")\n",
    "# cov( ) with two arguments treats them as two lists variable values \n",
    "paste(\"Cov(wgt, hgt) = \", cov(lessData$wgt, lessData$hgt))\n",
    "cor(lessData$wgt, lessData$hgt)\n",
    "\n",
    "print(\"Weight and Age\")\n",
    "paste(\"Cov(wgt, age) = \", cov(lessData$wgt, lessData$age))\n",
    "cor(lessData$wgt, lessData$age)\n",
    "\n",
    "print(\"Height and Age\")\n",
    "paste(\"Cov(hgt, age) = \", cov(lessData$hgt, lessData$age))\n",
    "cor(lessData$hgt, lessData$age)\n",
    "\n",
    "# Covariance Matrix\n",
    "# just a data frame treats as multivariate data\n",
    "cov(lessData)\n",
    "\n",
    "# Correlation Matrix\n",
    "cor(lessData)"
   ]
  },
  {
   "cell_type": "markdown",
   "metadata": {},
   "source": [
    "## Interpretting correlations\n",
    "\n",
    "From above we see the following correlations:\n",
    " 1. Weight and Height = 0.7173011\n",
    " 2. Weight and Age = 0.2072652\n",
    " 3. Height and Age = 0.06788349\n",
    "\n",
    "These numbers tell us the following:\n",
    " 1. There is a strong positive relationship between weight and height. Typically, the more a person weighs, the taller they are.\n",
    " 2. There is a weak positive relationship between weight and age.\n",
    " 3. There is little to no determination of height based on age. \n",
    " \n",
    "Regarding that last one... How can this be?  We all know that as someone grows up, they get taller!  \n",
    "The reason our data does not have a strong height to age correlation is because the data covers adults, not children. \n",
    "So, presumably they have nearly completed growing.\n",
    " \n",
    "\n",
    "__Positive correlation__, We expect a trend from lower left toward upper right if we plot the two variables against each other.\n",
    "\n",
    "__Negative correlation__, We expect a trend from upper left toward lower right if we plot the two variables against each other.\n",
    "\n"
   ]
  },
  {
   "cell_type": "code",
   "execution_count": null,
   "metadata": {},
   "outputs": [],
   "source": [
    "require(gridExtra)  # This provides the grid.arrange function\n",
    "require(ggplot2)  # This provides the xyplot function\n",
    "\n",
    "# Define our plots\n",
    "   # Plot the Weight versus Height\n",
    "wh <- ggplot(lessData, aes(x=wgt, y=hgt))\n",
    "   # Plot the Weight versus Age, \n",
    "wa <- ggplot(lessData, aes(x=wgt, y=age))\n",
    "   # Plot the Height versus Age, \n",
    "ha <- ggplot(lessData, aes(x=hgt, y=age))\n",
    "\n",
    "# By assigning the plot to output, it is not visualized immediately.\n",
    "\n",
    "# Arrange three plots into 1 column\n",
    "grid.arrange(\n",
    "        # Add our plots into the grid \n",
    "        #    # Add points for data to all our plots\n",
    "        wh + geom_point(color=\"red\"), \n",
    "        wa + geom_point(color=\"blue\"), \n",
    "        ha + geom_point(),  # default color is black\n",
    "        # describe the layout in number of rows and/or columns\n",
    "        ncol=3)"
   ]
  },
  {
   "cell_type": "markdown",
   "metadata": {
    "collapsed": true
   },
   "source": [
    "## Use Case : Multiple Regression\n",
    "\n",
    "Based on the exploration above and the discovered correlation of 0.72 between height and weight, we expect that we can use height to predict weight or weight to predict height.  This prediction is the concept of [linear regression](https://en.wikipedia.org/wiki/Linear_regression).\n",
    "\n",
    "However, what if we want to use two variables to predict a third?  \n",
    "Or even better, using 100's of variables to make a numerical prediction?\n",
    "\n",
    "### Multiple Regression\n",
    "\n",
    "Multiple Regression: Using two or more predictor (independent) variables to predict the value of a dependent variable.\n",
    "\n",
    "__References__: http://onlinestatbook.com/2/regression/multiple_regression.html\n",
    "\n",
    "\n",
    "\n",
    "#### Quetelet Index is kg/(m^2)\n",
    "Since we have __wgt__ as _kg_ and __hgt__ as _cm_, we can compute this value and add it as a column to the data frame.\n",
    "\n",
    "__Note:__ Conversion of _centimeters (cm)_ to _meters (m)_\n",
    "```R\n",
    "lessData$hgt/100\n",
    "```\n",
    "\n",
    "**Reference**: with() \n",
    "  * http://www.statmethods.net/stats/withby.html\n",
    "  * http://rfunction.com/archives/2182\n"
   ]
  },
  {
   "cell_type": "code",
   "execution_count": null,
   "metadata": {},
   "outputs": [],
   "source": [
    "lessData$QueteletIndex <- with(lessData, lessData$wgt/(lessData$hgt/100)^2)\n",
    "head(lessData)"
   ]
  },
  {
   "cell_type": "markdown",
   "metadata": {},
   "source": [
    "### Multivariate Descriptive Statistics\n",
    "\n",
    "mean, cov, and cor\n"
   ]
  },
  {
   "cell_type": "code",
   "execution_count": null,
   "metadata": {},
   "outputs": [],
   "source": [
    "summary(lessData)\n",
    "cov(lessData)\n",
    "cor(lessData)"
   ]
  },
  {
   "cell_type": "markdown",
   "metadata": {},
   "source": [
    "#### Strong Correlations?\n",
    "\n",
    " * We see that correlation between Weight and Height is 0.72\n",
    " * We see that correlation between Weight and Quetelet Index is 0.82.\n",
    "  \n",
    "Can we predict weight based on someone's Height and Quetelet Index?  We know we should be able to because:\n",
    "\n",
    "$Quetelet Index = Weight / (Height^2)$  \n",
    "$ => $  \n",
    "$ Quetelet Index * (Height^2) = Weight $\n",
    "\n",
    "**Lets test this with R!**\n",
    "\n",
    "__Reference__: \n",
    " * http://www.statmethods.net/stats/regression.html\n",
    " * https://www.r-bloggers.com/simple-linear-regression-2/\n",
    "\n",
    "\n",
    "**Let's look at all the data just to confirm**"
   ]
  },
  {
   "cell_type": "code",
   "execution_count": null,
   "metadata": {},
   "outputs": [],
   "source": [
    "plot(lessData) # Plot a data frame... "
   ]
  },
  {
   "cell_type": "markdown",
   "metadata": {},
   "source": [
    "\n",
    "### Using linear model solver, _lm()_\n",
    "\n",
    "lm function computes a linear regression\n",
    "*  LHS ~ RHS is the model to compute.  \n",
    "  *  Left-hand-side(LHS) is the dependent variable\n",
    "  *  Right-hand-side(RHS) are the independent variables (predictors)"
   ]
  },
  {
   "cell_type": "code",
   "execution_count": null,
   "metadata": {},
   "outputs": [],
   "source": [
    "# fit variable will hold a statistical model\n",
    "fit <- lm(wgt ~ hgt + QueteletIndex, data=lessData)\n",
    "\n",
    "fit  # Show the model, e.g., coefficients computed.\n",
    "\n",
    "summary(fit) # show results of analysis"
   ]
  },
  {
   "cell_type": "markdown",
   "metadata": {},
   "source": [
    "**A key line above is the R-squared test**\n",
    "```\n",
    "Multiple R-squared:  0.9941,\tAdjusted R-squared:  0.9941\n",
    "```\n",
    "\n",
    "From: https://en.wikipedia.org/wiki/Coefficient_of_determination  \n",
    "**The R-Squared test measures the \"proportion of the variance in the dependent variable that is predictable from the independent variable.\"**"
   ]
  },
  {
   "cell_type": "markdown",
   "metadata": {},
   "source": [
    "Reviewing the solved model.\n",
    "```\n",
    "Coefficients:\n",
    "  (Intercept)            hgt  QueteletIndex  \n",
    "    -137.5505         0.8123         2.8846  \n",
    "```\n",
    "That implies that   \n",
    "$wgt = 0.8123*hgt + 2.8846*QueteletIndex - 137.5505$"
   ]
  },
  {
   "cell_type": "code",
   "execution_count": null,
   "metadata": {},
   "outputs": [],
   "source": [
    "require(ggplot2)\n",
    "\n",
    "\n",
    "ggplot(lessData, \n",
    "       aes_string(\n",
    "                x = (0.8123*lessData$hgt + 2.8846*lessData$QueteletIndex - 137.5505), \n",
    "                y = names(fit$model)[1]\n",
    "       ) # end of aes_string\n",
    "  ) + \n",
    "  geom_point() +\n",
    "  stat_smooth(method = \"lm\", col = \"red\") +\n",
    "  labs(title = paste(\"Adj R2 = \",signif(summary(fit)$adj.r.squared, 5),\n",
    "                     \"Intercept =\",signif(fit$coef[[1]],5 ),\n",
    "                     \" Slope =\",signif(fit$coef[[2]], 5),\n",
    "                     \" P =\",signif(summary(fit)$coef[2,4], 5)\n",
    "                ) # end of title string concatenations\n",
    "       , x = \"hgt + QueteletIndex\"\n",
    "      ) \n"
   ]
  },
  {
   "cell_type": "code",
   "execution_count": null,
   "metadata": {},
   "outputs": [],
   "source": []
  }
 ],
 "metadata": {
  "kernelspec": {
   "display_name": "R",
   "language": "R",
   "name": "ir"
  },
  "language_info": {
   "codemirror_mode": "r",
   "file_extension": ".r",
   "mimetype": "text/x-r-source",
   "name": "R",
   "pygments_lexer": "r",
   "version": "4.0.5"
  }
 },
 "nbformat": 4,
 "nbformat_minor": 1
}
