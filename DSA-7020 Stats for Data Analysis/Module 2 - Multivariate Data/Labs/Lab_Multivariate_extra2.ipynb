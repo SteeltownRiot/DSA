{
 "cells": [
  {
   "cell_type": "markdown",
   "metadata": {},
   "source": [
    "# Extra Lab - Wine data (Multivariate)"
   ]
  },
  {
   "cell_type": "markdown",
   "metadata": {},
   "source": [
    "Let's continue our discussion of multivariate data analysis using the wine quality dataset. The dataset has 11 independent and 1 dependent variable (quality).  "
   ]
  },
  {
   "cell_type": "markdown",
   "metadata": {},
   "source": [
    "### Loading data"
   ]
  },
  {
   "cell_type": "code",
   "execution_count": null,
   "metadata": {},
   "outputs": [],
   "source": [
    "wine_quality <- read.csv(\"/dsa/data/all_datasets/wine quality/winequality-red.csv\", header = T, sep=\";\")"
   ]
  },
  {
   "cell_type": "markdown",
   "metadata": {},
   "source": [
    "Take a quick look at the data and make sure data is read correctly into the dataframe."
   ]
  },
  {
   "cell_type": "code",
   "execution_count": null,
   "metadata": {},
   "outputs": [],
   "source": [
    "head(wine_quality)"
   ]
  },
  {
   "cell_type": "code",
   "execution_count": null,
   "metadata": {},
   "outputs": [],
   "source": [
    "#The structure of the dataframe as follows\n",
    "# wine_quality$quality<-as.factor(wine_quality$quality)\n",
    "str(wine_quality)"
   ]
  },
  {
   "cell_type": "markdown",
   "metadata": {},
   "source": [
    "Str() gave us an overall sense of the data. All the variables are continous except for quality which is an integer. Let's dig deep into the data by doing some univariate analysis just like what we did in module 1 and progress to multivariate analysis. \n",
    "\n",
    "Let's do a summary analysis on all variables"
   ]
  },
  {
   "cell_type": "code",
   "execution_count": null,
   "metadata": {},
   "outputs": [],
   "source": [
    "summary(wine_quality)"
   ]
  },
  {
   "cell_type": "markdown",
   "metadata": {},
   "source": [
    "Each variable has a different scale of values. Some range from 0 to 1 and some vary over long ranges. Residual sugars seems to have outliers. The value at 75th percentile is 2.6 while the maximum value is 15.5. That's a big difference. We are not sure at the moment if there are any outliers. A visual plot might help us determine that. We will go ahead and look for any interesting correlations existing between variables. "
   ]
  },
  {
   "cell_type": "code",
   "execution_count": null,
   "metadata": {},
   "outputs": [],
   "source": [
    "require(ggplot2)\n",
    "qplot(wine_quality$quality,bins = 50,xlab='quality')"
   ]
  },
  {
   "cell_type": "markdown",
   "metadata": {},
   "source": [
    "### What are the main features in the dataset?\n",
    "\n",
    "Our variable of interest in the dataset will be quality. We have to identify the independent variables in the dataset which can explain the most of the variability in the dataset and predict the quality of the wine sample. The dataset includes 1599 observations and most of the wine samples have a quality of 5 or 6 with the minimum quality being 3 and maximum quality of 8.\n",
    "\n",
    "The mean falls right between 5 and 6 at 5.636.\n",
    "\n",
    "Let's go ahead and subset the dataset based on quality. If the wine quality is 3 or 4, we will subset the rows as bad quality. If the quality is 5 or 6 then subset the rows as medium quality. If the quality is 7 or 8, we will subset the rows as good quality. "
   ]
  },
  {
   "cell_type": "code",
   "execution_count": null,
   "metadata": {},
   "outputs": [],
   "source": [
    "#Subset function helps you subset the data. It is one of the many ways you can form subsets from a dataset. The pipe operator \n",
    "#\"|\" works like binary `or` operator. \"wine_quality$quality == 3 | wine_quality$quality == 4\" will select rows where quality is \n",
    "#either 3 or 4.\n",
    "\n",
    "# Another way to look at the subset operators for rows is as the 'WHERE' clause in SQL.\n",
    "\n",
    "bad_quality <- subset(wine_quality,wine_quality$quality == 3 | wine_quality$quality == 4)\n",
    "medium_quality <- subset(wine_quality,wine_quality$quality==5 | wine_quality$quality==6)\n",
    "good_quality <- subset(wine_quality,wine_quality$quality==7 | wine_quality$quality==8)\n",
    "\n",
    "#Make sure no rows are missed while you are subsetting the data. nrow will return number of rows in a dataframe.  \n",
    "nrow(bad_quality)+nrow(medium_quality)+nrow(good_quality)"
   ]
  },
  {
   "cell_type": "markdown",
   "metadata": {},
   "source": [
    "We are not sure which variables are significant in predicting the quality of wine samples. We can go ahead and use bivariate plots of the relationship between quality and the rest of all of the independent variables in order to identify linear relationships.\n"
   ]
  },
  {
   "cell_type": "markdown",
   "metadata": {},
   "source": [
    "The quality variable in wine_quality is an integer type variable. We cannot plot a boxplot using integers. We will convert it into a factor as shown below before graphing a box plot. "
   ]
  },
  {
   "cell_type": "code",
   "execution_count": null,
   "metadata": {},
   "outputs": [],
   "source": [
    "wine_quality$quality=as.factor(wine_quality$quality)"
   ]
  },
  {
   "cell_type": "code",
   "execution_count": null,
   "metadata": {},
   "outputs": [],
   "source": [
    "library(ggplot2)\n",
    "require(gridExtra)\n",
    "\n",
    "fixed_qua_box <- ggplot(wine_quality, aes(x=quality, y=fixed.acidity,fill=quality)) + geom_boxplot()\n",
    "sugar_qua_box <- ggplot(wine_quality, aes(x=quality, y=residual.sugar,fill=quality)) + geom_boxplot()\n",
    "chlorides_qua_box <- ggplot(wine_quality, aes(x=quality, y=chlorides,fill=quality)) + geom_boxplot()\n",
    "total_sulfur_qua_box <- ggplot(wine_quality, aes(x=quality, y=total.sulfur.dioxide,fill=quality)) + geom_boxplot()\n",
    "alcohol_qua_box <- ggplot(wine_quality, aes(x=quality, y=alcohol,fill=quality)) + geom_boxplot()\n",
    "volatile_qua_box <- ggplot(wine_quality, aes(x=quality, y=volatile.acidity,fill=quality)) + geom_boxplot()\n",
    "sulphates_qua_box <- ggplot(wine_quality, aes(x=quality, y=sulphates,fill=quality)) + geom_boxplot()\n",
    "citric_qua_box <- ggplot(wine_quality, aes(x=quality, y=citric.acid,fill=quality)) + geom_boxplot()\n",
    "density_qua_box <- ggplot(wine_quality, aes(x=quality, y=density,fill=quality)) + geom_boxplot()\n",
    "ph_qua_box <- ggplot(wine_quality, aes(x=quality, y=pH,fill=quality)) + geom_boxplot()\n",
    "grid.arrange(fixed_qua_box,sugar_qua_box,chlorides_qua_box,total_sulfur_qua_box,density_qua_box,ph_qua_box,alcohol_qua_box,\n",
    "             volatile_qua_box,sulphates_qua_box,citric_qua_box,ncol=2,nrow=5)\n",
    "# alcohol_qua_box"
   ]
  },
  {
   "cell_type": "markdown",
   "metadata": {},
   "source": [
    "Alcohol, citric acid, sulphates and fixed.acidity show postive correlations with quality while volatile.acidity, pH and density have negative correlation. The alcohol level and citric acid level increases with increasing wine quality.\n",
    "\n",
    "If two variables covary linearly then they both might give us the same kind of information. Both can explain the same amount of variation in the data. So when building a model, we try to skip those kind of variables which are related.\n",
    "\n",
    "Let's plot scatter plots between the variables we identified above. "
   ]
  },
  {
   "cell_type": "code",
   "execution_count": null,
   "metadata": {},
   "outputs": [],
   "source": [
    "#pH and citric acid are related as both tell acidic nature of wine. Fixed.Acidity and volatile.acidity should tell us the same story. \n",
    "#We will see how alcohol varies with pH and density. Below plots illustrate the relationships. \n",
    "\n",
    "require(gridExtra)\n",
    "\n",
    "volatile.acidity_fixed.acidity <- ggplot(wine_quality, aes(x=fixed.acidity, y=volatile.acidity))\n",
    "\n",
    "alcohol_density <- ggplot(wine_quality, aes(x=alcohol, y=density))\n",
    "\n",
    "alcohol_pH<- ggplot(wine_quality, aes(x=alcohol, y=pH))\n",
    "\n",
    "grid.arrange(volatile.acidity_fixed.acidity+geom_point(aes(colour = quality),alpha = 0.3)+geom_smooth(method = \"lm\", se = FALSE), \n",
    "             alcohol_density+geom_point(aes(colour = quality),alpha = 0.3)+geom_smooth(method = \"lm\", se = FALSE),\n",
    "             alcohol_pH+geom_point(aes(colour = quality),alpha = 0.3)+geom_smooth(method = \"lm\", se = FALSE),\n",
    "             ncol=2,nrow=2)"
   ]
  },
  {
   "cell_type": "markdown",
   "metadata": {},
   "source": [
    "The first plot shows the volatile.acidity/fixed.acidity relationship. Fixed.acidity and volatile.acidity vary inversly with each other. They have a relatively moderate negative relationship.\n",
    "\n",
    "The second plot shows the negative relationship between density and alcohol. As the alcohol content increases, density of the wine decreases.\n",
    "\n",
    "The relationship between alcohol and pH is strong and positive. The plot clearly shows as the alcohol content goes up, the pH  increases. \n",
    "\n",
    "**NOTE** An error is expected with the next cell.\n",
    "Please run it, then continue reading."
   ]
  },
  {
   "cell_type": "code",
   "execution_count": null,
   "metadata": {},
   "outputs": [],
   "source": [
    "cor.test(wine_quality$quality,wine_quality$alcohol)"
   ]
  },
  {
   "cell_type": "markdown",
   "metadata": {},
   "source": [
    "Quality is a factor variable now. Let's convert it to numeric format to find pearson correlation coefficients for all independent variables against the response variable quality."
   ]
  },
  {
   "cell_type": "code",
   "execution_count": null,
   "metadata": {},
   "outputs": [],
   "source": [
    "wine_quality$quality=as.numeric(wine_quality$quality)"
   ]
  },
  {
   "cell_type": "code",
   "execution_count": null,
   "metadata": {},
   "outputs": [],
   "source": [
    "cor.test(wine_quality$quality,wine_quality$alcohol)"
   ]
  },
  {
   "cell_type": "markdown",
   "metadata": {},
   "source": [
    "Some of the scatter plots help identify relationships among the variables in the dataset. Below is list with their corresponding pearson correlation coefficients with respect to quality:\n",
    "\n",
    "#### Positive Correlation\n",
    "\n",
    "`Alcohol : 0.476`\n",
    "\n",
    "`Sulphates : 0.251`\n",
    "\n",
    "`Citric Acid: 0.226`\n",
    "\n",
    "`Fixed Acidity: 0.124`\n",
    "\n",
    "#### Negative Correlation\n",
    "\n",
    "`Volatile Acidity : -0.391`\n",
    "\n",
    "`Total SO2 : -0.185`\n",
    "\n",
    "`Density : -0.175`\n",
    "\n",
    "`Chlorides : -0.129`"
   ]
  },
  {
   "cell_type": "markdown",
   "metadata": {},
   "source": [
    "The highest positive relationship we can see between any two variables is 0.476 which is not very significant. Citric acid is the next highly positively correlated feature while volatile.acidity and Total SO2 are negatively related."
   ]
  },
  {
   "cell_type": "code",
   "execution_count": null,
   "metadata": {},
   "outputs": [],
   "source": [
    "wine_quality <- read.csv(\"/dsa/data/all_datasets/wine quality/winequality-red.csv\", header = T, sep=\";\")"
   ]
  },
  {
   "cell_type": "markdown",
   "metadata": {
    "collapsed": true
   },
   "source": [
    "### Multivariate Plots Section\n",
    "\n",
    "We were able to reduce the number of independent features to 4 from 11 which we think are significant in explaining the variability in the dataset and predicting wine quality. We know each of these variables correlate linearly with quality but we are not sure how they will correlate all together. Let's plot some 3D plots to visualize relationships between all the significant features."
   ]
  },
  {
   "cell_type": "code",
   "execution_count": null,
   "metadata": {},
   "outputs": [],
   "source": [
    "head(wine_quality)"
   ]
  },
  {
   "cell_type": "code",
   "execution_count": null,
   "metadata": {},
   "outputs": [],
   "source": [
    "for (i in 1:nrow(wine_quality))\n",
    "{\n",
    "  if(wine_quality$quality[i]==3)\n",
    "      wine_quality$grade[i]='bad'\n",
    "  if(wine_quality$quality[i]==4)\n",
    "      wine_quality$grade[i]='bad'\n",
    "  if(wine_quality$quality[i]==5)\n",
    "      wine_quality$grade[i]='medium'\n",
    "  if(wine_quality$quality[i]==6)\n",
    "      wine_quality$grade[i]='medium'\n",
    "  if(wine_quality$quality[i]==7)\n",
    "      wine_quality$grade[i]='good'\n",
    "  if(wine_quality$quality[i]==8)\n",
    "      wine_quality$grade[i]='good'\n",
    "}"
   ]
  },
  {
   "cell_type": "code",
   "execution_count": null,
   "metadata": {},
   "outputs": [],
   "source": [
    "library(gridExtra)\n",
    "grid.arrange(\n",
    "ggplot(data = wine_quality,\n",
    "       aes(x = citric.acid, y = alcohol, color = quality)) +\n",
    "  geom_point() +\n",
    "  facet_wrap(~grade),\n",
    "    \n",
    "    ggplot(data = wine_quality,\n",
    "       aes(x = sulphates, y = alcohol, color = quality)) +\n",
    "  geom_point() +\n",
    "  facet_wrap(~grade),\n",
    "    \n",
    "    ggplot(data = wine_quality,\n",
    "       aes(x = volatile.acidity, y = alcohol, color = quality)) +\n",
    "  geom_point() +\n",
    "  facet_wrap(~grade),\n",
    "    \n",
    "    ggplot(data = wine_quality,\n",
    "       aes(x = total.sulfur.dioxide, y = alcohol, color = quality)) +\n",
    "  geom_point() +\n",
    "  facet_wrap(~grade),\n",
    "    nrow=2,ncol=2)"
   ]
  },
  {
   "cell_type": "markdown",
   "metadata": {},
   "source": [
    "Four features-- volatile.acidity, pH, sulhates and alcohol-- correlated with quality. The scatterplots above were faceted by grade to illustrate the population differences between good wines, average wines, and bad wines. Otherwise plots will be a bit crowded. It's clear that a higher citric acid and lower volatile (acetic) acid contributes towards better wines. Likewise, better wines tended to have higher sulphates and alcohol content. Surprisingly, pH had very little visual impact on wine quality, and was shadowed by the larger impact of alcohol. Interestingly, this shows that what makes a good wine depends on the type of acids that are present."
   ]
  },
  {
   "cell_type": "code",
   "execution_count": null,
   "metadata": {},
   "outputs": [],
   "source": [
    "summary(wine_quality)"
   ]
  },
  {
   "cell_type": "code",
   "execution_count": null,
   "metadata": {},
   "outputs": [],
   "source": [
    "data=wine_quality[c(\"alcohol\",\"volatile.acidity\",\"sulphates\",\"quality\")]"
   ]
  },
  {
   "cell_type": "code",
   "execution_count": null,
   "metadata": {},
   "outputs": [],
   "source": [
    "library(ggplot2)\n",
    "ggplot(wine_quality, aes(x=alcohol, y=total.sulfur.dioxide, fill=volatile.acidity, color=quality)) + #, size=var5^2\n",
    "  geom_point(shape=21) +\n",
    "  scale_color_gradient(low=\"red\", high=\"green\") +\n",
    "  scale_size_continuous(range=c(1,12))"
   ]
  },
  {
   "cell_type": "code",
   "execution_count": null,
   "metadata": {},
   "outputs": [],
   "source": [
    "#3d boxplot\n",
    "\n",
    "# install.packages('scatterplot3d',repo='http://cran.us.r-project.org')\n",
    "library(scatterplot3d)"
   ]
  },
  {
   "cell_type": "code",
   "execution_count": null,
   "metadata": {},
   "outputs": [],
   "source": [
    "library(scatterplot3d)\n",
    "\n",
    "# plot_3d <- scatterplot3d(data, type = \"h\", color = data$quality, angle = 55, scale.y = 0.7, pch = 16, \n",
    "#main = \"Alcohol vs Volatile.acidity vs quality\")\n",
    "# plot_lm <- lm(data$quality ~ data$alcohol + data$volatile.acidity)\n",
    "# plot_3d$plane3d(plot_lm)\n",
    "# plot_3d$points3d(seq(10, 20, 2), seq(85, 60, -5), seq(60, 10, -10),col = \"red\", type = \"h\", pch = 8)\n",
    "shapes = c(16, 17, 18,19,20,21) \n",
    "shapes <- shapes[as.numeric(data$quality)]\n",
    "scatterplot3d(data,angle = 45,pch = shapes,\n",
    "             main=\"Alcohol vs Volatile acidity vs quality\",\n",
    "              xlab = \"Alcohol\",\n",
    "              ylab = \"Volatile.acidity\",\n",
    "              zlab = \"Quality\")"
   ]
  },
  {
   "cell_type": "code",
   "execution_count": null,
   "metadata": {},
   "outputs": [],
   "source": [
    "colors <- c(\"#999999\", \"#E69F00\", \"#56B4E9\",'magenta','yellow','black')\n",
    "colors <- colors[as.numeric(data$quality)]\n",
    "plot<-scatterplot3d(data,angle = 45,color=colors,pch = 16,\n",
    "              main=\"Alcohol vs Volatile acidity vs quality\",\n",
    "              xlab = \"Alcohol\",\n",
    "              ylab = \"Volatile.acidity\",\n",
    "              zlab = \"Quality\")\n",
    "\n",
    "#               legend(plot$xyz.convert(14, 1.5, 5), legend = levels(data$quality),\n",
    "#               col =  c(\"#999999\", \"#E69F00\", \"#56B4E9\"), pch = 16)             "
   ]
  }
 ],
 "metadata": {
  "kernelspec": {
   "display_name": "R",
   "language": "R",
   "name": "ir"
  },
  "language_info": {
   "codemirror_mode": "r",
   "file_extension": ".r",
   "mimetype": "text/x-r-source",
   "name": "R",
   "pygments_lexer": "r",
   "version": "4.0.5"
  }
 },
 "nbformat": 4,
 "nbformat_minor": 1
}
