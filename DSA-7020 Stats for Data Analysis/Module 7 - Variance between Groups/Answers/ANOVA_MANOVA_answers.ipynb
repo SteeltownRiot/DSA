{
 "cells": [
  {
   "cell_type": "markdown",
   "metadata": {},
   "source": [
    "## Anova(Analysis of Variance)\n",
    "\n",
    "We will start with a data set to analyze different brands of insect spray. The default data set is named `InsectSprays` and has the counts of insects  in agricultural experimental units treated with different insecticides. It has 72 observations of 6 insecticides. "
   ]
  },
  {
   "cell_type": "code",
   "execution_count": 1,
   "metadata": {},
   "outputs": [
    {
     "data": {
      "text/html": [
       "<table class=\"dataframe\">\n",
       "<caption>A data.frame: 72 × 2</caption>\n",
       "<thead>\n",
       "\t<tr><th scope=col>count</th><th scope=col>spray</th></tr>\n",
       "\t<tr><th scope=col>&lt;dbl&gt;</th><th scope=col>&lt;fct&gt;</th></tr>\n",
       "</thead>\n",
       "<tbody>\n",
       "\t<tr><td>10</td><td>A</td></tr>\n",
       "\t<tr><td> 7</td><td>A</td></tr>\n",
       "\t<tr><td>20</td><td>A</td></tr>\n",
       "\t<tr><td>14</td><td>A</td></tr>\n",
       "\t<tr><td>14</td><td>A</td></tr>\n",
       "\t<tr><td>12</td><td>A</td></tr>\n",
       "\t<tr><td>10</td><td>A</td></tr>\n",
       "\t<tr><td>23</td><td>A</td></tr>\n",
       "\t<tr><td>17</td><td>A</td></tr>\n",
       "\t<tr><td>20</td><td>A</td></tr>\n",
       "\t<tr><td>14</td><td>A</td></tr>\n",
       "\t<tr><td>13</td><td>A</td></tr>\n",
       "\t<tr><td>11</td><td>B</td></tr>\n",
       "\t<tr><td>17</td><td>B</td></tr>\n",
       "\t<tr><td>21</td><td>B</td></tr>\n",
       "\t<tr><td>11</td><td>B</td></tr>\n",
       "\t<tr><td>16</td><td>B</td></tr>\n",
       "\t<tr><td>14</td><td>B</td></tr>\n",
       "\t<tr><td>17</td><td>B</td></tr>\n",
       "\t<tr><td>17</td><td>B</td></tr>\n",
       "\t<tr><td>19</td><td>B</td></tr>\n",
       "\t<tr><td>21</td><td>B</td></tr>\n",
       "\t<tr><td> 7</td><td>B</td></tr>\n",
       "\t<tr><td>13</td><td>B</td></tr>\n",
       "\t<tr><td> 0</td><td>C</td></tr>\n",
       "\t<tr><td> 1</td><td>C</td></tr>\n",
       "\t<tr><td> 7</td><td>C</td></tr>\n",
       "\t<tr><td> 2</td><td>C</td></tr>\n",
       "\t<tr><td> 3</td><td>C</td></tr>\n",
       "\t<tr><td> 1</td><td>C</td></tr>\n",
       "\t<tr><td>⋮</td><td>⋮</td></tr>\n",
       "\t<tr><td> 5</td><td>D</td></tr>\n",
       "\t<tr><td> 5</td><td>D</td></tr>\n",
       "\t<tr><td> 5</td><td>D</td></tr>\n",
       "\t<tr><td> 5</td><td>D</td></tr>\n",
       "\t<tr><td> 2</td><td>D</td></tr>\n",
       "\t<tr><td> 4</td><td>D</td></tr>\n",
       "\t<tr><td> 3</td><td>E</td></tr>\n",
       "\t<tr><td> 5</td><td>E</td></tr>\n",
       "\t<tr><td> 3</td><td>E</td></tr>\n",
       "\t<tr><td> 5</td><td>E</td></tr>\n",
       "\t<tr><td> 3</td><td>E</td></tr>\n",
       "\t<tr><td> 6</td><td>E</td></tr>\n",
       "\t<tr><td> 1</td><td>E</td></tr>\n",
       "\t<tr><td> 1</td><td>E</td></tr>\n",
       "\t<tr><td> 3</td><td>E</td></tr>\n",
       "\t<tr><td> 2</td><td>E</td></tr>\n",
       "\t<tr><td> 6</td><td>E</td></tr>\n",
       "\t<tr><td> 4</td><td>E</td></tr>\n",
       "\t<tr><td>11</td><td>F</td></tr>\n",
       "\t<tr><td> 9</td><td>F</td></tr>\n",
       "\t<tr><td>15</td><td>F</td></tr>\n",
       "\t<tr><td>22</td><td>F</td></tr>\n",
       "\t<tr><td>15</td><td>F</td></tr>\n",
       "\t<tr><td>16</td><td>F</td></tr>\n",
       "\t<tr><td>13</td><td>F</td></tr>\n",
       "\t<tr><td>10</td><td>F</td></tr>\n",
       "\t<tr><td>26</td><td>F</td></tr>\n",
       "\t<tr><td>26</td><td>F</td></tr>\n",
       "\t<tr><td>24</td><td>F</td></tr>\n",
       "\t<tr><td>13</td><td>F</td></tr>\n",
       "</tbody>\n",
       "</table>\n"
      ],
      "text/latex": [
       "A data.frame: 72 × 2\n",
       "\\begin{tabular}{ll}\n",
       " count & spray\\\\\n",
       " <dbl> & <fct>\\\\\n",
       "\\hline\n",
       "\t 10 & A\\\\\n",
       "\t  7 & A\\\\\n",
       "\t 20 & A\\\\\n",
       "\t 14 & A\\\\\n",
       "\t 14 & A\\\\\n",
       "\t 12 & A\\\\\n",
       "\t 10 & A\\\\\n",
       "\t 23 & A\\\\\n",
       "\t 17 & A\\\\\n",
       "\t 20 & A\\\\\n",
       "\t 14 & A\\\\\n",
       "\t 13 & A\\\\\n",
       "\t 11 & B\\\\\n",
       "\t 17 & B\\\\\n",
       "\t 21 & B\\\\\n",
       "\t 11 & B\\\\\n",
       "\t 16 & B\\\\\n",
       "\t 14 & B\\\\\n",
       "\t 17 & B\\\\\n",
       "\t 17 & B\\\\\n",
       "\t 19 & B\\\\\n",
       "\t 21 & B\\\\\n",
       "\t  7 & B\\\\\n",
       "\t 13 & B\\\\\n",
       "\t  0 & C\\\\\n",
       "\t  1 & C\\\\\n",
       "\t  7 & C\\\\\n",
       "\t  2 & C\\\\\n",
       "\t  3 & C\\\\\n",
       "\t  1 & C\\\\\n",
       "\t ⋮ & ⋮\\\\\n",
       "\t  5 & D\\\\\n",
       "\t  5 & D\\\\\n",
       "\t  5 & D\\\\\n",
       "\t  5 & D\\\\\n",
       "\t  2 & D\\\\\n",
       "\t  4 & D\\\\\n",
       "\t  3 & E\\\\\n",
       "\t  5 & E\\\\\n",
       "\t  3 & E\\\\\n",
       "\t  5 & E\\\\\n",
       "\t  3 & E\\\\\n",
       "\t  6 & E\\\\\n",
       "\t  1 & E\\\\\n",
       "\t  1 & E\\\\\n",
       "\t  3 & E\\\\\n",
       "\t  2 & E\\\\\n",
       "\t  6 & E\\\\\n",
       "\t  4 & E\\\\\n",
       "\t 11 & F\\\\\n",
       "\t  9 & F\\\\\n",
       "\t 15 & F\\\\\n",
       "\t 22 & F\\\\\n",
       "\t 15 & F\\\\\n",
       "\t 16 & F\\\\\n",
       "\t 13 & F\\\\\n",
       "\t 10 & F\\\\\n",
       "\t 26 & F\\\\\n",
       "\t 26 & F\\\\\n",
       "\t 24 & F\\\\\n",
       "\t 13 & F\\\\\n",
       "\\end{tabular}\n"
      ],
      "text/markdown": [
       "\n",
       "A data.frame: 72 × 2\n",
       "\n",
       "| count &lt;dbl&gt; | spray &lt;fct&gt; |\n",
       "|---|---|\n",
       "| 10 | A |\n",
       "|  7 | A |\n",
       "| 20 | A |\n",
       "| 14 | A |\n",
       "| 14 | A |\n",
       "| 12 | A |\n",
       "| 10 | A |\n",
       "| 23 | A |\n",
       "| 17 | A |\n",
       "| 20 | A |\n",
       "| 14 | A |\n",
       "| 13 | A |\n",
       "| 11 | B |\n",
       "| 17 | B |\n",
       "| 21 | B |\n",
       "| 11 | B |\n",
       "| 16 | B |\n",
       "| 14 | B |\n",
       "| 17 | B |\n",
       "| 17 | B |\n",
       "| 19 | B |\n",
       "| 21 | B |\n",
       "|  7 | B |\n",
       "| 13 | B |\n",
       "|  0 | C |\n",
       "|  1 | C |\n",
       "|  7 | C |\n",
       "|  2 | C |\n",
       "|  3 | C |\n",
       "|  1 | C |\n",
       "| ⋮ | ⋮ |\n",
       "|  5 | D |\n",
       "|  5 | D |\n",
       "|  5 | D |\n",
       "|  5 | D |\n",
       "|  2 | D |\n",
       "|  4 | D |\n",
       "|  3 | E |\n",
       "|  5 | E |\n",
       "|  3 | E |\n",
       "|  5 | E |\n",
       "|  3 | E |\n",
       "|  6 | E |\n",
       "|  1 | E |\n",
       "|  1 | E |\n",
       "|  3 | E |\n",
       "|  2 | E |\n",
       "|  6 | E |\n",
       "|  4 | E |\n",
       "| 11 | F |\n",
       "|  9 | F |\n",
       "| 15 | F |\n",
       "| 22 | F |\n",
       "| 15 | F |\n",
       "| 16 | F |\n",
       "| 13 | F |\n",
       "| 10 | F |\n",
       "| 26 | F |\n",
       "| 26 | F |\n",
       "| 24 | F |\n",
       "| 13 | F |\n",
       "\n"
      ],
      "text/plain": [
       "   count spray\n",
       "1  10    A    \n",
       "2   7    A    \n",
       "3  20    A    \n",
       "4  14    A    \n",
       "5  14    A    \n",
       "6  12    A    \n",
       "7  10    A    \n",
       "8  23    A    \n",
       "9  17    A    \n",
       "10 20    A    \n",
       "11 14    A    \n",
       "12 13    A    \n",
       "13 11    B    \n",
       "14 17    B    \n",
       "15 21    B    \n",
       "16 11    B    \n",
       "17 16    B    \n",
       "18 14    B    \n",
       "19 17    B    \n",
       "20 17    B    \n",
       "21 19    B    \n",
       "22 21    B    \n",
       "23  7    B    \n",
       "24 13    B    \n",
       "25  0    C    \n",
       "26  1    C    \n",
       "27  7    C    \n",
       "28  2    C    \n",
       "29  3    C    \n",
       "30  1    C    \n",
       "⋮  ⋮     ⋮    \n",
       "43  5    D    \n",
       "44  5    D    \n",
       "45  5    D    \n",
       "46  5    D    \n",
       "47  2    D    \n",
       "48  4    D    \n",
       "49  3    E    \n",
       "50  5    E    \n",
       "51  3    E    \n",
       "52  5    E    \n",
       "53  3    E    \n",
       "54  6    E    \n",
       "55  1    E    \n",
       "56  1    E    \n",
       "57  3    E    \n",
       "58  2    E    \n",
       "59  6    E    \n",
       "60  4    E    \n",
       "61 11    F    \n",
       "62  9    F    \n",
       "63 15    F    \n",
       "64 22    F    \n",
       "65 15    F    \n",
       "66 16    F    \n",
       "67 13    F    \n",
       "68 10    F    \n",
       "69 26    F    \n",
       "70 26    F    \n",
       "71 24    F    \n",
       "72 13    F    "
      ]
     },
     "metadata": {},
     "output_type": "display_data"
    }
   ],
   "source": [
    "data(InsectSprays)\n",
    "InsectSprays"
   ]
  },
  {
   "cell_type": "markdown",
   "metadata": {},
   "source": [
    "First, plot the boxplots: "
   ]
  },
  {
   "cell_type": "code",
   "execution_count": 2,
   "metadata": {},
   "outputs": [
    {
     "data": {
      "image/png": "[encoded data removed]",
      "text/plain": [
       "plot without title"
      ]
     },
     "metadata": {
      "image/png": {
       "height": 420,
       "width": 420
      }
     },
     "output_type": "display_data"
    }
   ],
   "source": [
    "boxplot(InsectSprays$count~InsectSprays$spray)"
   ]
  },
  {
   "cell_type": "code",
   "execution_count": 3,
   "metadata": {},
   "outputs": [
    {
     "data": {
      "text/html": [
       "<style>\n",
       ".dl-inline {width: auto; margin:0; padding: 0}\n",
       ".dl-inline>dt, .dl-inline>dd {float: none; width: auto; display: inline-block}\n",
       ".dl-inline>dt::after {content: \":\\0020\"; padding-right: .5ex}\n",
       ".dl-inline>dt:not(:first-of-type) {padding-left: .5ex}\n",
       "</style><dl class=dl-inline><dt>A</dt><dd>14.5</dd><dt>B</dt><dd>15.3333333333333</dd><dt>C</dt><dd>2.08333333333333</dd><dt>D</dt><dd>4.91666666666667</dd><dt>E</dt><dd>3.5</dd><dt>F</dt><dd>16.6666666666667</dd></dl>\n"
      ],
      "text/latex": [
       "\\begin{description*}\n",
       "\\item[A] 14.5\n",
       "\\item[B] 15.3333333333333\n",
       "\\item[C] 2.08333333333333\n",
       "\\item[D] 4.91666666666667\n",
       "\\item[E] 3.5\n",
       "\\item[F] 16.6666666666667\n",
       "\\end{description*}\n"
      ],
      "text/markdown": [
       "A\n",
       ":   14.5B\n",
       ":   15.3333333333333C\n",
       ":   2.08333333333333D\n",
       ":   4.91666666666667E\n",
       ":   3.5F\n",
       ":   16.6666666666667\n",
       "\n"
      ],
      "text/plain": [
       "        A         B         C         D         E         F \n",
       "14.500000 15.333333  2.083333  4.916667  3.500000 16.666667 "
      ]
     },
     "metadata": {},
     "output_type": "display_data"
    }
   ],
   "source": [
    "with(InsectSprays, tapply(count,spray,mean))"
   ]
  },
  {
   "cell_type": "markdown",
   "metadata": {},
   "source": [
    "We want to see if there are significant differences with respect to spray. We use a one-way ANOVA.\n",
    "\n",
    "**YOUR TURN:**"
   ]
  },
  {
   "cell_type": "code",
   "execution_count": 4,
   "metadata": {},
   "outputs": [
    {
     "data": {
      "text/plain": [
       "            Df Sum Sq Mean Sq F value Pr(>F)    \n",
       "spray        5   2669   533.8    34.7 <2e-16 ***\n",
       "Residuals   66   1015    15.4                   \n",
       "---\n",
       "Signif. codes:  0 ‘***’ 0.001 ‘**’ 0.01 ‘*’ 0.05 ‘.’ 0.1 ‘ ’ 1"
      ]
     },
     "metadata": {},
     "output_type": "display_data"
    }
   ],
   "source": [
    "s.model <- aov(count ~ spray, data=InsectSprays)\n",
    "summary(s.model)"
   ]
  },
  {
   "cell_type": "markdown",
   "metadata": {},
   "source": [
    "The P-value is very small, we reject the null hypothesis that group means are equal. Now, let's see which groups are significantly different: \n"
   ]
  },
  {
   "cell_type": "code",
   "execution_count": 5,
   "metadata": {},
   "outputs": [
    {
     "data": {
      "text/plain": [
       "  Tukey multiple comparisons of means\n",
       "    95% family-wise confidence level\n",
       "\n",
       "Fit: aov(formula = count ~ spray, data = InsectSprays)\n",
       "\n",
       "$spray\n",
       "           diff        lwr       upr     p adj\n",
       "B-A   0.8333333  -3.866075  5.532742 0.9951810\n",
       "C-A -12.4166667 -17.116075 -7.717258 0.0000000\n",
       "D-A  -9.5833333 -14.282742 -4.883925 0.0000014\n",
       "E-A -11.0000000 -15.699409 -6.300591 0.0000000\n",
       "F-A   2.1666667  -2.532742  6.866075 0.7542147\n",
       "C-B -13.2500000 -17.949409 -8.550591 0.0000000\n",
       "D-B -10.4166667 -15.116075 -5.717258 0.0000002\n",
       "E-B -11.8333333 -16.532742 -7.133925 0.0000000\n",
       "F-B   1.3333333  -3.366075  6.032742 0.9603075\n",
       "D-C   2.8333333  -1.866075  7.532742 0.4920707\n",
       "E-C   1.4166667  -3.282742  6.116075 0.9488669\n",
       "F-C  14.5833333   9.883925 19.282742 0.0000000\n",
       "E-D  -1.4166667  -6.116075  3.282742 0.9488669\n",
       "F-D  11.7500000   7.050591 16.449409 0.0000000\n",
       "F-E  13.1666667   8.467258 17.866075 0.0000000\n"
      ]
     },
     "metadata": {},
     "output_type": "display_data"
    }
   ],
   "source": [
    "TukeyHSD(s.model)"
   ]
  },
  {
   "cell_type": "markdown",
   "metadata": {},
   "source": [
    "As we could guess from the boxplots, brands A, B, and F do not significantly differ from each other, and brands C, D, and E also do not significantly from each other; but these two groups (A,B,F and C,D,E) significantly differ from each other pair-wise (e.g. A-C is different, F-D is different, etc.). "
   ]
  },
  {
   "cell_type": "markdown",
   "metadata": {},
   "source": [
    "---\n",
    "\n",
    "**YOUR TURN:**\n",
    "\n",
    "A company is applying a sensory test for a set of 15 panelists in three different brands of chocolate. Three brands are compared, one being the reference, and the goal is to verify the difference of scores with the control. In this experiment, we have two factors: the brand and the tasters, and we hope that there is no significant effect of tasters. At each assessment, the assessor must determine the difference on a scale 0-7."
   ]
  },
  {
   "cell_type": "code",
   "execution_count": 6,
   "metadata": {},
   "outputs": [
    {
     "data": {
      "text/html": [
       "<table class=\"dataframe\">\n",
       "<caption>A data.frame: 6 × 3</caption>\n",
       "<thead>\n",
       "\t<tr><th></th><th scope=col>Taste</th><th scope=col>Type</th><th scope=col>Taster</th></tr>\n",
       "\t<tr><th></th><th scope=col>&lt;dbl&gt;</th><th scope=col>&lt;fct&gt;</th><th scope=col>&lt;fct&gt;</th></tr>\n",
       "</thead>\n",
       "<tbody>\n",
       "\t<tr><th scope=row>1</th><td>5</td><td>A</td><td>1</td></tr>\n",
       "\t<tr><th scope=row>2</th><td>7</td><td>B</td><td>1</td></tr>\n",
       "\t<tr><th scope=row>3</th><td>3</td><td>C</td><td>1</td></tr>\n",
       "\t<tr><th scope=row>4</th><td>4</td><td>A</td><td>2</td></tr>\n",
       "\t<tr><th scope=row>5</th><td>2</td><td>B</td><td>2</td></tr>\n",
       "\t<tr><th scope=row>6</th><td>6</td><td>C</td><td>2</td></tr>\n",
       "</tbody>\n",
       "</table>\n"
      ],
      "text/latex": [
       "A data.frame: 6 × 3\n",
       "\\begin{tabular}{r|lll}\n",
       "  & Taste & Type & Taster\\\\\n",
       "  & <dbl> & <fct> & <fct>\\\\\n",
       "\\hline\n",
       "\t1 & 5 & A & 1\\\\\n",
       "\t2 & 7 & B & 1\\\\\n",
       "\t3 & 3 & C & 1\\\\\n",
       "\t4 & 4 & A & 2\\\\\n",
       "\t5 & 2 & B & 2\\\\\n",
       "\t6 & 6 & C & 2\\\\\n",
       "\\end{tabular}\n"
      ],
      "text/markdown": [
       "\n",
       "A data.frame: 6 × 3\n",
       "\n",
       "| <!--/--> | Taste &lt;dbl&gt; | Type &lt;fct&gt; | Taster &lt;fct&gt; |\n",
       "|---|---|---|---|\n",
       "| 1 | 5 | A | 1 |\n",
       "| 2 | 7 | B | 1 |\n",
       "| 3 | 3 | C | 1 |\n",
       "| 4 | 4 | A | 2 |\n",
       "| 5 | 2 | B | 2 |\n",
       "| 6 | 6 | C | 2 |\n",
       "\n"
      ],
      "text/plain": [
       "  Taste Type Taster\n",
       "1 5     A    1     \n",
       "2 7     B    1     \n",
       "3 3     C    1     \n",
       "4 4     A    2     \n",
       "5 2     B    2     \n",
       "6 6     C    2     "
      ]
     },
     "metadata": {},
     "output_type": "display_data"
    }
   ],
   "source": [
    "Taste_test <- data.frame(\n",
    "  Taste =\n",
    "  c(5, 7, 3,\n",
    "    4, 2, 6,\n",
    "    5, 3, 6,\n",
    "    5, 6, 0,\n",
    "    7, 4, 0,\n",
    "    7, 7, 0,\n",
    "    6, 6, 0,\n",
    "    4, 6, 1,\n",
    "    6, 4, 0,\n",
    "    7, 7, 0,\n",
    "    2, 4, 0,\n",
    "    5, 7, 4,\n",
    "    7, 5, 0,\n",
    "    4, 5, 0,\n",
    "    6, 6, 3\n",
    "  ),\n",
    "Type = factor(rep(c(\"A\", \"B\", \"C\"), 15)),\n",
    "Taster = factor(rep(1:15, rep(3, 15))))\n",
    "head(Taste_test)"
   ]
  },
  {
   "cell_type": "code",
   "execution_count": 7,
   "metadata": {},
   "outputs": [
    {
     "data": {
      "text/html": [
       "<style>\n",
       ".dl-inline {width: auto; margin:0; padding: 0}\n",
       ".dl-inline>dt, .dl-inline>dd {float: none; width: auto; display: inline-block}\n",
       ".dl-inline>dt::after {content: \":\\0020\"; padding-right: .5ex}\n",
       ".dl-inline>dt:not(:first-of-type) {padding-left: .5ex}\n",
       "</style><dl class=dl-inline><dt>A</dt><dd>5.33333333333333</dd><dt>B</dt><dd>5.26666666666667</dd><dt>C</dt><dd>1.53333333333333</dd></dl>\n"
      ],
      "text/latex": [
       "\\begin{description*}\n",
       "\\item[A] 5.33333333333333\n",
       "\\item[B] 5.26666666666667\n",
       "\\item[C] 1.53333333333333\n",
       "\\end{description*}\n"
      ],
      "text/markdown": [
       "A\n",
       ":   5.33333333333333B\n",
       ":   5.26666666666667C\n",
       ":   1.53333333333333\n",
       "\n"
      ],
      "text/plain": [
       "       A        B        C \n",
       "5.333333 5.266667 1.533333 "
      ]
     },
     "metadata": {},
     "output_type": "display_data"
    }
   ],
   "source": [
    "tapply(Taste_test$Taste, Taste_test$Type, mean)"
   ]
  },
  {
   "cell_type": "markdown",
   "metadata": {},
   "source": [
    "**Run a two-way ANOVA test using Type and Taster as factors WITHOUT interaction:** "
   ]
  },
  {
   "cell_type": "code",
   "execution_count": 8,
   "metadata": {},
   "outputs": [
    {
     "data": {
      "text/plain": [
       "            Df Sum Sq Mean Sq F value  Pr(>F)    \n",
       "Type         2 141.91   70.96   19.21 5.6e-06 ***\n",
       "Taster      14  32.58    2.33    0.63   0.818    \n",
       "Residuals   28 103.42    3.69                    \n",
       "---\n",
       "Signif. codes:  0 ‘***’ 0.001 ‘**’ 0.01 ‘*’ 0.05 ‘.’ 0.1 ‘ ’ 1"
      ]
     },
     "metadata": {},
     "output_type": "display_data"
    },
    {
     "data": {
      "text/html": [
       "<table class=\"dataframe\">\n",
       "<caption>A anova: 3 × 5</caption>\n",
       "<thead>\n",
       "\t<tr><th></th><th scope=col>Df</th><th scope=col>Sum Sq</th><th scope=col>Mean Sq</th><th scope=col>F value</th><th scope=col>Pr(&gt;F)</th></tr>\n",
       "\t<tr><th></th><th scope=col>&lt;int&gt;</th><th scope=col>&lt;dbl&gt;</th><th scope=col>&lt;dbl&gt;</th><th scope=col>&lt;dbl&gt;</th><th scope=col>&lt;dbl&gt;</th></tr>\n",
       "</thead>\n",
       "<tbody>\n",
       "\t<tr><th scope=row>Type</th><td> 2</td><td>141.91111</td><td>70.955556</td><td>19.2101418</td><td>5.597605e-06</td></tr>\n",
       "\t<tr><th scope=row>Taster</th><td>14</td><td> 32.57778</td><td> 2.326984</td><td> 0.6299957</td><td>8.175058e-01</td></tr>\n",
       "\t<tr><th scope=row>Residuals</th><td>28</td><td>103.42222</td><td> 3.693651</td><td>        NA</td><td>          NA</td></tr>\n",
       "</tbody>\n",
       "</table>\n"
      ],
      "text/latex": [
       "A anova: 3 × 5\n",
       "\\begin{tabular}{r|lllll}\n",
       "  & Df & Sum Sq & Mean Sq & F value & Pr(>F)\\\\\n",
       "  & <int> & <dbl> & <dbl> & <dbl> & <dbl>\\\\\n",
       "\\hline\n",
       "\tType &  2 & 141.91111 & 70.955556 & 19.2101418 & 5.597605e-06\\\\\n",
       "\tTaster & 14 &  32.57778 &  2.326984 &  0.6299957 & 8.175058e-01\\\\\n",
       "\tResiduals & 28 & 103.42222 &  3.693651 &         NA &           NA\\\\\n",
       "\\end{tabular}\n"
      ],
      "text/markdown": [
       "\n",
       "A anova: 3 × 5\n",
       "\n",
       "| <!--/--> | Df &lt;int&gt; | Sum Sq &lt;dbl&gt; | Mean Sq &lt;dbl&gt; | F value &lt;dbl&gt; | Pr(&gt;F) &lt;dbl&gt; |\n",
       "|---|---|---|---|---|---|\n",
       "| Type |  2 | 141.91111 | 70.955556 | 19.2101418 | 5.597605e-06 |\n",
       "| Taster | 14 |  32.57778 |  2.326984 |  0.6299957 | 8.175058e-01 |\n",
       "| Residuals | 28 | 103.42222 |  3.693651 |         NA |           NA |\n",
       "\n"
      ],
      "text/plain": [
       "          Df Sum Sq    Mean Sq   F value    Pr(>F)      \n",
       "Type       2 141.91111 70.955556 19.2101418 5.597605e-06\n",
       "Taster    14  32.57778  2.326984  0.6299957 8.175058e-01\n",
       "Residuals 28 103.42222  3.693651         NA           NA"
      ]
     },
     "metadata": {},
     "output_type": "display_data"
    }
   ],
   "source": [
    "t.model <- aov(Taste~Type+Taster, data=Taste_test)  # we use + for NO interaction \n",
    "summary(t.model)\n",
    "anova(t.model)"
   ]
  },
  {
   "cell_type": "markdown",
   "metadata": {},
   "source": [
    "From the output, you should see that the p-value is 0.8175 for tasters indicating that the assessors have no significant effect on the response. This is desirable since it is expected that the testers can discern correctly. Also, in the table we see that the ANOVA p-value for the type of chocolate is highly significant, indicating the difference between the scores. So from now on, we can make the Tukey test to see where the differences lie."
   ]
  },
  {
   "cell_type": "code",
   "execution_count": 9,
   "metadata": {},
   "outputs": [
    {
     "data": {
      "text/plain": [
       "  Tukey multiple comparisons of means\n",
       "    95% family-wise confidence level\n",
       "\n",
       "Fit: aov(formula = Taste ~ Type + Taster, data = Taste_test)\n",
       "\n",
       "$Type\n",
       "           diff       lwr       upr     p adj\n",
       "B-A -0.06666667 -1.803101  1.669768 0.9950379\n",
       "C-A -3.80000000 -5.536435 -2.063565 0.0000260\n",
       "C-B -3.73333333 -5.469768 -1.996899 0.0000337\n"
      ]
     },
     "metadata": {},
     "output_type": "display_data"
    }
   ],
   "source": [
    "TukeyHSD(t.model, which=\"Type\")  # we want to only see the differences for Type variable "
   ]
  },
  {
   "cell_type": "markdown",
   "metadata": {},
   "source": [
    "This output indicates that the differences C-A and C-B are significant , while B-A is not significant. A more “easy” way to interpret this output is visualizing the confidence intervals for the mean differences."
   ]
  },
  {
   "cell_type": "code",
   "execution_count": 10,
   "metadata": {},
   "outputs": [
    {
     "name": "stderr",
     "output_type": "stream",
     "text": [
      "\n",
      "Attaching package: ‘gplots’\n",
      "\n",
      "\n",
      "The following object is masked from ‘package:stats’:\n",
      "\n",
      "    lowess\n",
      "\n",
      "\n"
     ]
    },
    {
     "data": {
      "image/png": "[encoded data removed]",
      "text/plain": [
       "plot without title"
      ]
     },
     "metadata": {
      "image/png": {
       "height": 420,
       "width": 420
      }
     },
     "output_type": "display_data"
    }
   ],
   "source": [
    "library(gplots) # plot means with error bars \n",
    "\n",
    "plotmeans(Taste~Type, data=Taste_test)"
   ]
  },
  {
   "cell_type": "markdown",
   "metadata": {},
   "source": [
    "\n",
    "---\n",
    "\n",
    "In the \"Bias Against Associates of the Obese\" case study, \n",
    "the researchers were interested in whether the weight of a companion of a job applicant \n",
    "would affect judgments of a male applicant's qualifications for a job. \n",
    "Two independent variables were investigated: \n",
    "(1) whether the companion was obese or of typical weight, \n",
    "(2) whether the companion was a girlfriend or just an acquaintance. \n",
    "\n",
    "One approach could have been to conduct two separate studies, one with each independent variable. \n",
    "However, it is more efficient to conduct one study that includes both independent variables. \n",
    "Moreover, there is a much bigger advantage than efficiency for including two variables in the same study: \n",
    "it allows a test of the **interaction** between the variables. \n",
    "There is an interaction when the effect of one variable differs depending on the level of a second variable. \n",
    "For example, it is possible that the effect of having an obese companion would differ depending on the relationship to the companion. \n",
    "Perhaps there is more prejudice against a person with an obese companion if the companion is a girlfriend \n",
    "than if she is just an acquaintance. \n",
    "If so, there would be an interaction between the obesity factor and the relationship factor.\n",
    "\n",
    "There are three effects of interest in this experiment:\n",
    "\n",
    "**Weight:** Are applicants judged differently depending on the weight of their companion?\n",
    "\n",
    "**Relationship:** Are applicants judged differently depending on their relationship with their companion?\n",
    "\n",
    "**Weight x Relationship Interaction:** Does the effect of weight differ depending on the relationship with the companion?\n",
    "\n",
    "We will apply ANOVA to study these effects. "
   ]
  },
  {
   "cell_type": "code",
   "execution_count": 11,
   "metadata": {},
   "outputs": [
    {
     "name": "stdout",
     "output_type": "stream",
     "text": [
      "'data.frame':\t176 obs. of  3 variables:\n",
      " $ WEIGHT  : int  1 1 1 1 1 1 1 1 1 1 ...\n",
      " $ RELATE  : int  1 1 1 1 1 1 1 1 1 1 ...\n",
      " $ QUALIFID: int  7 5 7 5 7 7 3 7 7 5 ...\n"
     ]
    },
    {
     "data": {
      "text/html": [
       "<table class=\"dataframe\">\n",
       "<caption>A data.frame: 6 × 3</caption>\n",
       "<thead>\n",
       "\t<tr><th></th><th scope=col>WEIGHT</th><th scope=col>RELATE</th><th scope=col>QUALIFID</th></tr>\n",
       "\t<tr><th></th><th scope=col>&lt;fct&gt;</th><th scope=col>&lt;fct&gt;</th><th scope=col>&lt;int&gt;</th></tr>\n",
       "</thead>\n",
       "<tbody>\n",
       "\t<tr><th scope=row>1</th><td>1</td><td>1</td><td>7</td></tr>\n",
       "\t<tr><th scope=row>2</th><td>1</td><td>1</td><td>5</td></tr>\n",
       "\t<tr><th scope=row>3</th><td>1</td><td>1</td><td>7</td></tr>\n",
       "\t<tr><th scope=row>4</th><td>1</td><td>1</td><td>5</td></tr>\n",
       "\t<tr><th scope=row>5</th><td>1</td><td>1</td><td>7</td></tr>\n",
       "\t<tr><th scope=row>6</th><td>1</td><td>1</td><td>7</td></tr>\n",
       "</tbody>\n",
       "</table>\n"
      ],
      "text/latex": [
       "A data.frame: 6 × 3\n",
       "\\begin{tabular}{r|lll}\n",
       "  & WEIGHT & RELATE & QUALIFID\\\\\n",
       "  & <fct> & <fct> & <int>\\\\\n",
       "\\hline\n",
       "\t1 & 1 & 1 & 7\\\\\n",
       "\t2 & 1 & 1 & 5\\\\\n",
       "\t3 & 1 & 1 & 7\\\\\n",
       "\t4 & 1 & 1 & 5\\\\\n",
       "\t5 & 1 & 1 & 7\\\\\n",
       "\t6 & 1 & 1 & 7\\\\\n",
       "\\end{tabular}\n"
      ],
      "text/markdown": [
       "\n",
       "A data.frame: 6 × 3\n",
       "\n",
       "| <!--/--> | WEIGHT &lt;fct&gt; | RELATE &lt;fct&gt; | QUALIFID &lt;int&gt; |\n",
       "|---|---|---|---|\n",
       "| 1 | 1 | 1 | 7 |\n",
       "| 2 | 1 | 1 | 5 |\n",
       "| 3 | 1 | 1 | 7 |\n",
       "| 4 | 1 | 1 | 5 |\n",
       "| 5 | 1 | 1 | 7 |\n",
       "| 6 | 1 | 1 | 7 |\n",
       "\n"
      ],
      "text/plain": [
       "  WEIGHT RELATE QUALIFID\n",
       "1 1      1      7       \n",
       "2 1      1      5       \n",
       "3 1      1      7       \n",
       "4 1      1      5       \n",
       "5 1      1      7       \n",
       "6 1      1      7       "
      ]
     },
     "metadata": {},
     "output_type": "display_data"
    }
   ],
   "source": [
    "# Read the data\n",
    "weight=read.csv(\"/dsa/data/all_datasets/weight/weight.csv\")\n",
    "\n",
    "str(weight)\n",
    "# WEIGHT and RELATE are factors\n",
    "weight$WEIGHT=as.factor(weight$WEIGHT)\n",
    "weight$RELATE=as.factor(weight$RELATE)\n",
    "head(weight)"
   ]
  },
  {
   "cell_type": "markdown",
   "metadata": {},
   "source": [
    "Descriptions of the variables:\n",
    "\n",
    "**Weight:** The weight of the woman sitting next to the job applicant; 1 = obese, 2 = average weight.\n",
    "\n",
    "**Relate:** Type of relationship between the job applicant and the woman seated next to him: 1 = girlfriend, 2 = acquaintance.\n",
    "\n",
    "**Qualifid:** Larger numbers represent higher professional qualification ratings.\n",
    "\n",
    "Let's see if the mean qualification score differs with respect to companion's weight. \n",
    "We'll plot the group means."
   ]
  },
  {
   "cell_type": "code",
   "execution_count": 12,
   "metadata": {},
   "outputs": [
    {
     "data": {
      "image/png": "[encoded data removed]",
      "text/plain": [
       "plot without title"
      ]
     },
     "metadata": {
      "image/png": {
       "height": 420,
       "width": 420
      }
     },
     "output_type": "display_data"
    }
   ],
   "source": [
    "library(ggplot2)\n",
    "ggplot(weight,aes(WEIGHT,QUALIFID))+geom_boxplot()"
   ]
  },
  {
   "cell_type": "code",
   "execution_count": 13,
   "metadata": {},
   "outputs": [
    {
     "data": {
      "image/png": "[encoded data removed]",
      "text/plain": [
       "plot without title"
      ]
     },
     "metadata": {
      "image/png": {
       "height": 420,
       "width": 420
      }
     },
     "output_type": "display_data"
    }
   ],
   "source": [
    "# Also, plot the group means for RELATE \n",
    "ggplot(weight,aes(RELATE,QUALIFID))+geom_boxplot()"
   ]
  },
  {
   "cell_type": "markdown",
   "metadata": {},
   "source": [
    "From the plots above, it seems like WEIGHT has somewhat an effect on perceived qualification; \n",
    "RELATE does not seem to have an effect. \n",
    "Let's run ANOVA and see if these hypotheses hold."
   ]
  },
  {
   "cell_type": "code",
   "execution_count": 14,
   "metadata": {},
   "outputs": [
    {
     "data": {
      "text/plain": [
       "             Df Sum Sq Mean Sq F value  Pr(>F)   \n",
       "WEIGHT        1  11.65  11.648   6.953 0.00913 **\n",
       "RELATE        1   8.72   8.716   5.203 0.02377 * \n",
       "Residuals   173 289.82   1.675                   \n",
       "---\n",
       "Signif. codes:  0 ‘***’ 0.001 ‘**’ 0.01 ‘*’ 0.05 ‘.’ 0.1 ‘ ’ 1"
      ]
     },
     "metadata": {},
     "output_type": "display_data"
    },
    {
     "data": {
      "text/html": [
       "<table class=\"dataframe\">\n",
       "<caption>A anova: 3 × 5</caption>\n",
       "<thead>\n",
       "\t<tr><th></th><th scope=col>Df</th><th scope=col>Sum Sq</th><th scope=col>Mean Sq</th><th scope=col>F value</th><th scope=col>Pr(&gt;F)</th></tr>\n",
       "\t<tr><th></th><th scope=col>&lt;int&gt;</th><th scope=col>&lt;dbl&gt;</th><th scope=col>&lt;dbl&gt;</th><th scope=col>&lt;dbl&gt;</th><th scope=col>&lt;dbl&gt;</th></tr>\n",
       "</thead>\n",
       "<tbody>\n",
       "\t<tr><th scope=row>WEIGHT</th><td>  1</td><td> 11.648485</td><td>11.648485</td><td>6.953311</td><td>0.009128044</td></tr>\n",
       "\t<tr><th scope=row>RELATE</th><td>  1</td><td>  8.716332</td><td> 8.716332</td><td>5.203026</td><td>0.023766921</td></tr>\n",
       "\t<tr><th scope=row>Residuals</th><td>173</td><td>289.817001</td><td> 1.675243</td><td>      NA</td><td>         NA</td></tr>\n",
       "</tbody>\n",
       "</table>\n"
      ],
      "text/latex": [
       "A anova: 3 × 5\n",
       "\\begin{tabular}{r|lllll}\n",
       "  & Df & Sum Sq & Mean Sq & F value & Pr(>F)\\\\\n",
       "  & <int> & <dbl> & <dbl> & <dbl> & <dbl>\\\\\n",
       "\\hline\n",
       "\tWEIGHT &   1 &  11.648485 & 11.648485 & 6.953311 & 0.009128044\\\\\n",
       "\tRELATE &   1 &   8.716332 &  8.716332 & 5.203026 & 0.023766921\\\\\n",
       "\tResiduals & 173 & 289.817001 &  1.675243 &       NA &          NA\\\\\n",
       "\\end{tabular}\n"
      ],
      "text/markdown": [
       "\n",
       "A anova: 3 × 5\n",
       "\n",
       "| <!--/--> | Df &lt;int&gt; | Sum Sq &lt;dbl&gt; | Mean Sq &lt;dbl&gt; | F value &lt;dbl&gt; | Pr(&gt;F) &lt;dbl&gt; |\n",
       "|---|---|---|---|---|---|\n",
       "| WEIGHT |   1 |  11.648485 | 11.648485 | 6.953311 | 0.009128044 |\n",
       "| RELATE |   1 |   8.716332 |  8.716332 | 5.203026 | 0.023766921 |\n",
       "| Residuals | 173 | 289.817001 |  1.675243 |       NA |          NA |\n",
       "\n"
      ],
      "text/plain": [
       "          Df  Sum Sq     Mean Sq   F value  Pr(>F)     \n",
       "WEIGHT      1  11.648485 11.648485 6.953311 0.009128044\n",
       "RELATE      1   8.716332  8.716332 5.203026 0.023766921\n",
       "Residuals 173 289.817001  1.675243       NA          NA"
      ]
     },
     "metadata": {},
     "output_type": "display_data"
    }
   ],
   "source": [
    "# run ANOVA\n",
    "fit1 <- aov(QUALIFID ~ WEIGHT + RELATE, data=weight)\n",
    "summary(fit1)\n",
    "anova(fit1)"
   ]
  },
  {
   "cell_type": "markdown",
   "metadata": {},
   "source": [
    "ANOVA results show that WEIGHT has an effect. \n",
    "The p-value is 0.009 and therefore the null hypothesis of no main effect of WEIGHT is rejected. \n",
    "The conclusion is that being accompanied by an obese companion lowers judgments of qualifications. \n",
    "The effect of RELATE is not as significant but we can't readily reject the null hypothesis either. \n",
    "The conclusion is that being accompanied by a girlfriend leads to somewhat lower ratings than being accompanied by an acquaintance.\n",
    "\n",
    "Let's see if there is interaction between these two independent variables. \n",
    "\n",
    "**YOUR TURN:**"
   ]
  },
  {
   "cell_type": "code",
   "execution_count": 15,
   "metadata": {},
   "outputs": [
    {
     "data": {
      "text/plain": [
       "               Df Sum Sq Mean Sq F value  Pr(>F)   \n",
       "WEIGHT          1  11.65  11.648   6.916 0.00932 **\n",
       "RELATE          1   8.72   8.716   5.175 0.02415 * \n",
       "WEIGHT:RELATE   1   0.10   0.104   0.062 0.80427   \n",
       "Residuals     172 289.71   1.684                   \n",
       "---\n",
       "Signif. codes:  0 ‘***’ 0.001 ‘**’ 0.01 ‘*’ 0.05 ‘.’ 0.1 ‘ ’ 1"
      ]
     },
     "metadata": {},
     "output_type": "display_data"
    },
    {
     "data": {
      "text/html": [
       "<table class=\"dataframe\">\n",
       "<caption>A anova: 4 × 5</caption>\n",
       "<thead>\n",
       "\t<tr><th></th><th scope=col>Df</th><th scope=col>Sum Sq</th><th scope=col>Mean Sq</th><th scope=col>F value</th><th scope=col>Pr(&gt;F)</th></tr>\n",
       "\t<tr><th></th><th scope=col>&lt;int&gt;</th><th scope=col>&lt;dbl&gt;</th><th scope=col>&lt;dbl&gt;</th><th scope=col>&lt;dbl&gt;</th><th scope=col>&lt;dbl&gt;</th></tr>\n",
       "</thead>\n",
       "<tbody>\n",
       "\t<tr><th scope=row>WEIGHT</th><td>  1</td><td> 11.6484848</td><td>11.6484848</td><td>6.91559516</td><td>0.009319404</td></tr>\n",
       "\t<tr><th scope=row>RELATE</th><td>  1</td><td>  8.7163324</td><td> 8.7163324</td><td>5.17480400</td><td>0.024151453</td></tr>\n",
       "\t<tr><th scope=row>WEIGHT:RELATE</th><td>  1</td><td>  0.1037734</td><td> 0.1037734</td><td>0.06160931</td><td>0.804266299</td></tr>\n",
       "\t<tr><th scope=row>Residuals</th><td>172</td><td>289.7132275</td><td> 1.6843792</td><td>        NA</td><td>         NA</td></tr>\n",
       "</tbody>\n",
       "</table>\n"
      ],
      "text/latex": [
       "A anova: 4 × 5\n",
       "\\begin{tabular}{r|lllll}\n",
       "  & Df & Sum Sq & Mean Sq & F value & Pr(>F)\\\\\n",
       "  & <int> & <dbl> & <dbl> & <dbl> & <dbl>\\\\\n",
       "\\hline\n",
       "\tWEIGHT &   1 &  11.6484848 & 11.6484848 & 6.91559516 & 0.009319404\\\\\n",
       "\tRELATE &   1 &   8.7163324 &  8.7163324 & 5.17480400 & 0.024151453\\\\\n",
       "\tWEIGHT:RELATE &   1 &   0.1037734 &  0.1037734 & 0.06160931 & 0.804266299\\\\\n",
       "\tResiduals & 172 & 289.7132275 &  1.6843792 &         NA &          NA\\\\\n",
       "\\end{tabular}\n"
      ],
      "text/markdown": [
       "\n",
       "A anova: 4 × 5\n",
       "\n",
       "| <!--/--> | Df &lt;int&gt; | Sum Sq &lt;dbl&gt; | Mean Sq &lt;dbl&gt; | F value &lt;dbl&gt; | Pr(&gt;F) &lt;dbl&gt; |\n",
       "|---|---|---|---|---|---|\n",
       "| WEIGHT |   1 |  11.6484848 | 11.6484848 | 6.91559516 | 0.009319404 |\n",
       "| RELATE |   1 |   8.7163324 |  8.7163324 | 5.17480400 | 0.024151453 |\n",
       "| WEIGHT:RELATE |   1 |   0.1037734 |  0.1037734 | 0.06160931 | 0.804266299 |\n",
       "| Residuals | 172 | 289.7132275 |  1.6843792 |         NA |          NA |\n",
       "\n"
      ],
      "text/plain": [
       "              Df  Sum Sq      Mean Sq    F value    Pr(>F)     \n",
       "WEIGHT          1  11.6484848 11.6484848 6.91559516 0.009319404\n",
       "RELATE          1   8.7163324  8.7163324 5.17480400 0.024151453\n",
       "WEIGHT:RELATE   1   0.1037734  0.1037734 0.06160931 0.804266299\n",
       "Residuals     172 289.7132275  1.6843792         NA          NA"
      ]
     },
     "metadata": {},
     "output_type": "display_data"
    }
   ],
   "source": [
    "# run ANOVA WITH interaction\n",
    "fit2 <- aov(QUALIFID ~  WEIGHT*RELATE, data=weight) # We use * instead of + to include interaction \n",
    "summary(fit2)\n",
    "anova(fit2)"
   ]
  },
  {
   "cell_type": "markdown",
   "metadata": {},
   "source": [
    "The p-value for the interaction is 0.8, \n",
    "which is the probability of getting an interaction as big or bigger than the one obtained \n",
    "in the experiment if there were no interaction in the population. \n",
    "Therefore, these data provide no evidence for an interaction.\n",
    "\n",
    "We can also plot an interaction plot; the fact that lines are almost parallel suggests that there is no or very little interaction between WEIGHT and RELATE. "
   ]
  },
  {
   "cell_type": "code",
   "execution_count": 16,
   "metadata": {},
   "outputs": [
    {
     "data": {
      "image/png": "[encoded data removed]",
      "text/plain": [
       "plot without title"
      ]
     },
     "metadata": {
      "image/png": {
       "height": 420,
       "width": 420
      }
     },
     "output_type": "display_data"
    }
   ],
   "source": [
    "with(weight, interaction.plot(WEIGHT,RELATE,QUALIFID))"
   ]
  },
  {
   "cell_type": "code",
   "execution_count": 17,
   "metadata": {},
   "outputs": [
    {
     "data": {
      "image/png": "[encoded data removed]",
      "text/plain": [
       "plot without title"
      ]
     },
     "metadata": {
      "image/png": {
       "height": 420,
       "width": 420
      }
     },
     "output_type": "display_data"
    }
   ],
   "source": [
    "with(weight, interaction.plot(RELATE,WEIGHT,QUALIFID))"
   ]
  },
  {
   "cell_type": "markdown",
   "metadata": {},
   "source": [
    "---\n",
    "\n",
    "Let's apply the same analysis to the kc_house_data that we have seen before. "
   ]
  },
  {
   "cell_type": "code",
   "execution_count": 18,
   "metadata": {},
   "outputs": [
    {
     "data": {
      "text/html": [
       "<table class=\"dataframe\">\n",
       "<caption>A data.frame: 6 × 21</caption>\n",
       "<thead>\n",
       "\t<tr><th></th><th scope=col>id</th><th scope=col>date</th><th scope=col>price</th><th scope=col>bedrooms</th><th scope=col>bathrooms</th><th scope=col>sqft_living</th><th scope=col>sqft_lot</th><th scope=col>floors</th><th scope=col>waterfront</th><th scope=col>view</th><th scope=col>⋯</th><th scope=col>grade</th><th scope=col>sqft_above</th><th scope=col>sqft_basement</th><th scope=col>yr_built</th><th scope=col>yr_renovated</th><th scope=col>zipcode</th><th scope=col>lat</th><th scope=col>long</th><th scope=col>sqft_living15</th><th scope=col>sqft_lot15</th></tr>\n",
       "\t<tr><th></th><th scope=col>&lt;dbl&gt;</th><th scope=col>&lt;chr&gt;</th><th scope=col>&lt;dbl&gt;</th><th scope=col>&lt;int&gt;</th><th scope=col>&lt;dbl&gt;</th><th scope=col>&lt;int&gt;</th><th scope=col>&lt;int&gt;</th><th scope=col>&lt;dbl&gt;</th><th scope=col>&lt;int&gt;</th><th scope=col>&lt;int&gt;</th><th scope=col>⋯</th><th scope=col>&lt;int&gt;</th><th scope=col>&lt;int&gt;</th><th scope=col>&lt;int&gt;</th><th scope=col>&lt;int&gt;</th><th scope=col>&lt;int&gt;</th><th scope=col>&lt;int&gt;</th><th scope=col>&lt;dbl&gt;</th><th scope=col>&lt;dbl&gt;</th><th scope=col>&lt;int&gt;</th><th scope=col>&lt;int&gt;</th></tr>\n",
       "</thead>\n",
       "<tbody>\n",
       "\t<tr><th scope=row>1</th><td>7129300520</td><td>20141013T000000</td><td> 221900</td><td>3</td><td>1.00</td><td>1180</td><td>  5650</td><td>1</td><td>0</td><td>0</td><td>⋯</td><td> 7</td><td>1180</td><td>   0</td><td>1955</td><td>   0</td><td>98178</td><td>47.5112</td><td>-122.257</td><td>1340</td><td>  5650</td></tr>\n",
       "\t<tr><th scope=row>2</th><td>6414100192</td><td>20141209T000000</td><td> 538000</td><td>3</td><td>2.25</td><td>2570</td><td>  7242</td><td>2</td><td>0</td><td>0</td><td>⋯</td><td> 7</td><td>2170</td><td> 400</td><td>1951</td><td>1991</td><td>98125</td><td>47.7210</td><td>-122.319</td><td>1690</td><td>  7639</td></tr>\n",
       "\t<tr><th scope=row>3</th><td>5631500400</td><td>20150225T000000</td><td> 180000</td><td>2</td><td>1.00</td><td> 770</td><td> 10000</td><td>1</td><td>0</td><td>0</td><td>⋯</td><td> 6</td><td> 770</td><td>   0</td><td>1933</td><td>   0</td><td>98028</td><td>47.7379</td><td>-122.233</td><td>2720</td><td>  8062</td></tr>\n",
       "\t<tr><th scope=row>4</th><td>2487200875</td><td>20141209T000000</td><td> 604000</td><td>4</td><td>3.00</td><td>1960</td><td>  5000</td><td>1</td><td>0</td><td>0</td><td>⋯</td><td> 7</td><td>1050</td><td> 910</td><td>1965</td><td>   0</td><td>98136</td><td>47.5208</td><td>-122.393</td><td>1360</td><td>  5000</td></tr>\n",
       "\t<tr><th scope=row>5</th><td>1954400510</td><td>20150218T000000</td><td> 510000</td><td>3</td><td>2.00</td><td>1680</td><td>  8080</td><td>1</td><td>0</td><td>0</td><td>⋯</td><td> 8</td><td>1680</td><td>   0</td><td>1987</td><td>   0</td><td>98074</td><td>47.6168</td><td>-122.045</td><td>1800</td><td>  7503</td></tr>\n",
       "\t<tr><th scope=row>6</th><td>7237550310</td><td>20140512T000000</td><td>1225000</td><td>4</td><td>4.50</td><td>5420</td><td>101930</td><td>1</td><td>0</td><td>0</td><td>⋯</td><td>11</td><td>3890</td><td>1530</td><td>2001</td><td>   0</td><td>98053</td><td>47.6561</td><td>-122.005</td><td>4760</td><td>101930</td></tr>\n",
       "</tbody>\n",
       "</table>\n"
      ],
      "text/latex": [
       "A data.frame: 6 × 21\n",
       "\\begin{tabular}{r|lllllllllllllllllllll}\n",
       "  & id & date & price & bedrooms & bathrooms & sqft\\_living & sqft\\_lot & floors & waterfront & view & ⋯ & grade & sqft\\_above & sqft\\_basement & yr\\_built & yr\\_renovated & zipcode & lat & long & sqft\\_living15 & sqft\\_lot15\\\\\n",
       "  & <dbl> & <chr> & <dbl> & <int> & <dbl> & <int> & <int> & <dbl> & <int> & <int> & ⋯ & <int> & <int> & <int> & <int> & <int> & <int> & <dbl> & <dbl> & <int> & <int>\\\\\n",
       "\\hline\n",
       "\t1 & 7129300520 & 20141013T000000 &  221900 & 3 & 1.00 & 1180 &   5650 & 1 & 0 & 0 & ⋯ &  7 & 1180 &    0 & 1955 &    0 & 98178 & 47.5112 & -122.257 & 1340 &   5650\\\\\n",
       "\t2 & 6414100192 & 20141209T000000 &  538000 & 3 & 2.25 & 2570 &   7242 & 2 & 0 & 0 & ⋯ &  7 & 2170 &  400 & 1951 & 1991 & 98125 & 47.7210 & -122.319 & 1690 &   7639\\\\\n",
       "\t3 & 5631500400 & 20150225T000000 &  180000 & 2 & 1.00 &  770 &  10000 & 1 & 0 & 0 & ⋯ &  6 &  770 &    0 & 1933 &    0 & 98028 & 47.7379 & -122.233 & 2720 &   8062\\\\\n",
       "\t4 & 2487200875 & 20141209T000000 &  604000 & 4 & 3.00 & 1960 &   5000 & 1 & 0 & 0 & ⋯ &  7 & 1050 &  910 & 1965 &    0 & 98136 & 47.5208 & -122.393 & 1360 &   5000\\\\\n",
       "\t5 & 1954400510 & 20150218T000000 &  510000 & 3 & 2.00 & 1680 &   8080 & 1 & 0 & 0 & ⋯ &  8 & 1680 &    0 & 1987 &    0 & 98074 & 47.6168 & -122.045 & 1800 &   7503\\\\\n",
       "\t6 & 7237550310 & 20140512T000000 & 1225000 & 4 & 4.50 & 5420 & 101930 & 1 & 0 & 0 & ⋯ & 11 & 3890 & 1530 & 2001 &    0 & 98053 & 47.6561 & -122.005 & 4760 & 101930\\\\\n",
       "\\end{tabular}\n"
      ],
      "text/markdown": [
       "\n",
       "A data.frame: 6 × 21\n",
       "\n",
       "| <!--/--> | id &lt;dbl&gt; | date &lt;chr&gt; | price &lt;dbl&gt; | bedrooms &lt;int&gt; | bathrooms &lt;dbl&gt; | sqft_living &lt;int&gt; | sqft_lot &lt;int&gt; | floors &lt;dbl&gt; | waterfront &lt;int&gt; | view &lt;int&gt; | ⋯ ⋯ | grade &lt;int&gt; | sqft_above &lt;int&gt; | sqft_basement &lt;int&gt; | yr_built &lt;int&gt; | yr_renovated &lt;int&gt; | zipcode &lt;int&gt; | lat &lt;dbl&gt; | long &lt;dbl&gt; | sqft_living15 &lt;int&gt; | sqft_lot15 &lt;int&gt; |\n",
       "|---|---|---|---|---|---|---|---|---|---|---|---|---|---|---|---|---|---|---|---|---|---|\n",
       "| 1 | 7129300520 | 20141013T000000 |  221900 | 3 | 1.00 | 1180 |   5650 | 1 | 0 | 0 | ⋯ |  7 | 1180 |    0 | 1955 |    0 | 98178 | 47.5112 | -122.257 | 1340 |   5650 |\n",
       "| 2 | 6414100192 | 20141209T000000 |  538000 | 3 | 2.25 | 2570 |   7242 | 2 | 0 | 0 | ⋯ |  7 | 2170 |  400 | 1951 | 1991 | 98125 | 47.7210 | -122.319 | 1690 |   7639 |\n",
       "| 3 | 5631500400 | 20150225T000000 |  180000 | 2 | 1.00 |  770 |  10000 | 1 | 0 | 0 | ⋯ |  6 |  770 |    0 | 1933 |    0 | 98028 | 47.7379 | -122.233 | 2720 |   8062 |\n",
       "| 4 | 2487200875 | 20141209T000000 |  604000 | 4 | 3.00 | 1960 |   5000 | 1 | 0 | 0 | ⋯ |  7 | 1050 |  910 | 1965 |    0 | 98136 | 47.5208 | -122.393 | 1360 |   5000 |\n",
       "| 5 | 1954400510 | 20150218T000000 |  510000 | 3 | 2.00 | 1680 |   8080 | 1 | 0 | 0 | ⋯ |  8 | 1680 |    0 | 1987 |    0 | 98074 | 47.6168 | -122.045 | 1800 |   7503 |\n",
       "| 6 | 7237550310 | 20140512T000000 | 1225000 | 4 | 4.50 | 5420 | 101930 | 1 | 0 | 0 | ⋯ | 11 | 3890 | 1530 | 2001 |    0 | 98053 | 47.6561 | -122.005 | 4760 | 101930 |\n",
       "\n"
      ],
      "text/plain": [
       "  id         date            price   bedrooms bathrooms sqft_living sqft_lot\n",
       "1 7129300520 20141013T000000  221900 3        1.00      1180          5650  \n",
       "2 6414100192 20141209T000000  538000 3        2.25      2570          7242  \n",
       "3 5631500400 20150225T000000  180000 2        1.00       770         10000  \n",
       "4 2487200875 20141209T000000  604000 4        3.00      1960          5000  \n",
       "5 1954400510 20150218T000000  510000 3        2.00      1680          8080  \n",
       "6 7237550310 20140512T000000 1225000 4        4.50      5420        101930  \n",
       "  floors waterfront view ⋯ grade sqft_above sqft_basement yr_built yr_renovated\n",
       "1 1      0          0    ⋯  7    1180          0          1955        0        \n",
       "2 2      0          0    ⋯  7    2170        400          1951     1991        \n",
       "3 1      0          0    ⋯  6     770          0          1933        0        \n",
       "4 1      0          0    ⋯  7    1050        910          1965        0        \n",
       "5 1      0          0    ⋯  8    1680          0          1987        0        \n",
       "6 1      0          0    ⋯ 11    3890       1530          2001        0        \n",
       "  zipcode lat     long     sqft_living15 sqft_lot15\n",
       "1 98178   47.5112 -122.257 1340            5650    \n",
       "2 98125   47.7210 -122.319 1690            7639    \n",
       "3 98028   47.7379 -122.233 2720            8062    \n",
       "4 98136   47.5208 -122.393 1360            5000    \n",
       "5 98074   47.6168 -122.045 1800            7503    \n",
       "6 98053   47.6561 -122.005 4760          101930    "
      ]
     },
     "metadata": {},
     "output_type": "display_data"
    },
    {
     "name": "stdout",
     "output_type": "stream",
     "text": [
      "'data.frame':\t21613 obs. of  21 variables:\n",
      " $ id           : num  7.13e+09 6.41e+09 5.63e+09 2.49e+09 1.95e+09 ...\n",
      " $ date         : chr  \"20141013T000000\" \"20141209T000000\" \"20150225T000000\" \"20141209T000000\" ...\n",
      " $ price        : num  221900 538000 180000 604000 510000 ...\n",
      " $ bedrooms     : int  3 3 2 4 3 4 3 3 3 3 ...\n",
      " $ bathrooms    : num  1 2.25 1 3 2 4.5 2.25 1.5 1 2.5 ...\n",
      " $ sqft_living  : int  1180 2570 770 1960 1680 5420 1715 1060 1780 1890 ...\n",
      " $ sqft_lot     : int  5650 7242 10000 5000 8080 101930 6819 9711 7470 6560 ...\n",
      " $ floors       : num  1 2 1 1 1 1 2 1 1 2 ...\n",
      " $ waterfront   : int  0 0 0 0 0 0 0 0 0 0 ...\n",
      " $ view         : int  0 0 0 0 0 0 0 0 0 0 ...\n",
      " $ condition    : int  3 3 3 5 3 3 3 3 3 3 ...\n",
      " $ grade        : int  7 7 6 7 8 11 7 7 7 7 ...\n",
      " $ sqft_above   : int  1180 2170 770 1050 1680 3890 1715 1060 1050 1890 ...\n",
      " $ sqft_basement: int  0 400 0 910 0 1530 0 0 730 0 ...\n",
      " $ yr_built     : int  1955 1951 1933 1965 1987 2001 1995 1963 1960 2003 ...\n",
      " $ yr_renovated : int  0 1991 0 0 0 0 0 0 0 0 ...\n",
      " $ zipcode      : int  98178 98125 98028 98136 98074 98053 98003 98198 98146 98038 ...\n",
      " $ lat          : num  47.5 47.7 47.7 47.5 47.6 ...\n",
      " $ long         : num  -122 -122 -122 -122 -122 ...\n",
      " $ sqft_living15: int  1340 1690 2720 1360 1800 4760 2238 1650 1780 2390 ...\n",
      " $ sqft_lot15   : int  5650 7639 8062 5000 7503 101930 6819 9711 8113 7570 ...\n"
     ]
    }
   ],
   "source": [
    "hs <- read.csv(\"/dsa/data/all_datasets/house_sales_in_king_county/kc_house_data.csv\",header=TRUE)\n",
    "head(hs)\n",
    "str(hs)"
   ]
  },
  {
   "cell_type": "code",
   "execution_count": 19,
   "metadata": {},
   "outputs": [],
   "source": [
    "# these are factors\n",
    "hs$bedrooms = as.factor(hs$bedrooms)\n",
    "hs$floors = as.factor(hs$floors)"
   ]
  },
  {
   "cell_type": "markdown",
   "metadata": {},
   "source": [
    "Let's see if price is effected by number of bedrooms and number of floors; and also see if there is interaction between the two.\n",
    "\n",
    "**YOUR TURN:**"
   ]
  },
  {
   "cell_type": "code",
   "execution_count": 20,
   "metadata": {},
   "outputs": [
    {
     "data": {
      "text/plain": [
       "                   Df    Sum Sq   Mean Sq F value Pr(>F)    \n",
       "bedrooms           12 3.103e+14 2.586e+13  232.94 <2e-16 ***\n",
       "floors              5 1.461e+14 2.921e+13  263.11 <2e-16 ***\n",
       "bedrooms:floors    33 6.280e+13 1.903e+12   17.14 <2e-16 ***\n",
       "Residuals       21562 2.394e+15 1.110e+11                   \n",
       "---\n",
       "Signif. codes:  0 ‘***’ 0.001 ‘**’ 0.01 ‘*’ 0.05 ‘.’ 0.1 ‘ ’ 1"
      ]
     },
     "metadata": {},
     "output_type": "display_data"
    }
   ],
   "source": [
    "fit3 <- aov(price ~  bedrooms*floors, data=hs) # We use * to include interaction \n",
    "summary(fit3)"
   ]
  },
  {
   "cell_type": "markdown",
   "metadata": {},
   "source": [
    "As we can see, both variables have a significant effect and there is interaction between them \n",
    "(we would expect that). \n",
    "\n",
    "Below, you can see how the different groups with respect to floors differ. "
   ]
  },
  {
   "cell_type": "code",
   "execution_count": 21,
   "metadata": {},
   "outputs": [
    {
     "data": {
      "image/png": "[encoded data removed]",
      "text/plain": [
       "plot without title"
      ]
     },
     "metadata": {
      "image/png": {
       "height": 420,
       "width": 420
      }
     },
     "output_type": "display_data"
    }
   ],
   "source": [
    "ggplot(hs,aes(floors,price))+geom_boxplot()"
   ]
  },
  {
   "cell_type": "code",
   "execution_count": 22,
   "metadata": {},
   "outputs": [
    {
     "data": {
      "text/plain": [
       "  Tukey multiple comparisons of means\n",
       "    95% family-wise confidence level\n",
       "\n",
       "Fit: aov(formula = price ~ bedrooms * floors, data = hs)\n",
       "\n",
       "$floors\n",
       "              diff          lwr        upr     p adj\n",
       "1.5-1     70030.67   46439.8296   93621.50 0.0000000\n",
       "2-1      144120.02  130197.1328  158042.90 0.0000000\n",
       "2.5-1    517836.87  442437.2969  593236.44 0.0000000\n",
       "3-1      172950.94  133512.3298  212389.54 0.0000000\n",
       "3.5-1    480612.92  144759.0386  816466.81 0.0006481\n",
       "2-1.5     74089.35   49974.7255   98203.98 0.0000000\n",
       "2.5-1.5  447806.20  369878.2627  525734.14 0.0000000\n",
       "3-1.5    102920.27   58839.9786  147000.57 0.0000000\n",
       "3.5-1.5  410582.26   74151.7297  747012.78 0.0067128\n",
       "2.5-2    373716.85  298151.7591  449281.94 0.0000000\n",
       "3-2       28830.92  -10923.2179   68585.06 0.3048262\n",
       "3.5-2    336492.90     601.8228  672383.99 0.0492848\n",
       "3-2.5   -344885.93 -428978.9762 -260792.89 0.0000000\n",
       "3.5-2.5  -37223.95 -381192.0665  306744.17 0.9996292\n",
       "3.5-3    307661.99  -30249.8022  645573.77 0.0984853\n"
      ]
     },
     "metadata": {},
     "output_type": "display_data"
    }
   ],
   "source": [
    "T3 <- TukeyHSD(fit3, which=\"floors\")\n",
    "T3"
   ]
  },
  {
   "cell_type": "code",
   "execution_count": 23,
   "metadata": {},
   "outputs": [
    {
     "data": {
      "image/png": "[encoded data removed]",
      "text/plain": [
       "Plot with title “95% family-wise confidence level\n",
       "”"
      ]
     },
     "metadata": {
      "image/png": {
       "height": 420,
       "width": 420
      }
     },
     "output_type": "display_data"
    }
   ],
   "source": [
    "plot(T3)"
   ]
  },
  {
   "cell_type": "markdown",
   "metadata": {},
   "source": [
    "We can plot the interaction plots to see if there is interaction: below, you can see that the lines are not parallel, so there is interaction between the two variables and ANOVA quantifies that interaction by computing the P-value. The way they affect the price depend on each other's levels. "
   ]
  },
  {
   "cell_type": "code",
   "execution_count": 24,
   "metadata": {},
   "outputs": [
    {
     "data": {
      "image/png": "[encoded data removed]",
      "text/plain": [
       "plot without title"
      ]
     },
     "metadata": {
      "image/png": {
       "height": 420,
       "width": 420
      }
     },
     "output_type": "display_data"
    }
   ],
   "source": [
    "with(hs, interaction.plot(floors,bedrooms,price))"
   ]
  },
  {
   "cell_type": "code",
   "execution_count": 25,
   "metadata": {},
   "outputs": [
    {
     "data": {
      "image/png": "[encoded data removed]",
      "text/plain": [
       "plot without title"
      ]
     },
     "metadata": {
      "image/png": {
       "height": 420,
       "width": 420
      }
     },
     "output_type": "display_data"
    }
   ],
   "source": [
    "with(hs, interaction.plot(bedrooms,floors,price))"
   ]
  },
  {
   "cell_type": "markdown",
   "metadata": {},
   "source": [
    "---\n",
    "\n",
    "Let's see how we can apply MANOVA to this data set. \n",
    "We'd like to see if there is a relation between price and location. \n",
    "We will use the price as the independent variable and see if it has an effect on the location \n",
    "(usually the other way around makes more sense). \n",
    "Here we use \"lat\" and \"long\" as the coordinates of the location; so we need to bind them in order to apply MANOVA. "
   ]
  },
  {
   "cell_type": "code",
   "execution_count": 26,
   "metadata": {},
   "outputs": [
    {
     "data": {
      "text/plain": [
       " Response lat :\n",
       "               Df Sum Sq Mean Sq F value    Pr(>F)    \n",
       "price           1  39.11  39.109  2248.8 < 2.2e-16 ***\n",
       "Residuals   21611 375.84   0.017                      \n",
       "---\n",
       "Signif. codes:  0 ‘***’ 0.001 ‘**’ 0.01 ‘*’ 0.05 ‘.’ 0.1 ‘ ’ 1\n",
       "\n",
       " Response long :\n",
       "               Df Sum Sq  Mean Sq F value   Pr(>F)   \n",
       "price           1   0.20 0.200464  10.112 0.001475 **\n",
       "Residuals   21611 428.42 0.019824                    \n",
       "---\n",
       "Signif. codes:  0 ‘***’ 0.001 ‘**’ 0.01 ‘*’ 0.05 ‘.’ 0.1 ‘ ’ 1\n"
      ]
     },
     "metadata": {},
     "output_type": "display_data"
    }
   ],
   "source": [
    "fit4 <- aov(cbind(lat, long) ~ price, data = hs)\n",
    "summary(fit4)"
   ]
  },
  {
   "cell_type": "markdown",
   "metadata": {},
   "source": [
    "The price has more effect on lattitude than longitude (we know why from a previous practice); \n",
    "the p-value for lattitude is almost zero whereas the p-value for longitude is 0.0015 which suggests good significance. \n",
    "\n",
    "# Save your notebook!"
   ]
  }
 ],
 "metadata": {
  "kernelspec": {
   "display_name": "R",
   "language": "R",
   "name": "ir"
  },
  "language_info": {
   "codemirror_mode": "r",
   "file_extension": ".r",
   "mimetype": "text/x-r-source",
   "name": "R",
   "pygments_lexer": "r",
   "version": "4.0.5"
  }
 },
 "nbformat": 4,
 "nbformat_minor": 1
}
