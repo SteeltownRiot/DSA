{
 "cells": [
  {
   "cell_type": "markdown",
   "metadata": {},
   "source": [
    "## Manova\n",
    "\n",
    "The difference between ANOVA and MANOVA (Multivariate Analysis of Variance) is that MANOVA deals with more \n",
    "than two dependent variables for variance analysis. \n",
    "Like ANOVA, MANOVA has both a one-way and a two-way analysis. \n",
    "The number of factor variables involved distinguish a one-way MANOVA from a two-way MANOVA. "
   ]
  },
  {
   "cell_type": "markdown",
   "metadata": {},
   "source": [
    "In the example below, the null hypothesis is that the two-dimensional mean-vector of \n",
    "water hardness and mortality is the same for cities in the North and the South. \n",
    "It can be tested by Hotelling-Lawley test in MANOVA. \n",
    "The R function `manova` can be used to fit such a model. \n",
    "The corresponding summary method performs the test specified by the test argument. "
   ]
  },
  {
   "cell_type": "markdown",
   "metadata": {},
   "source": [
    "The water hardness and mortality data for 61 large towns in England and Wales can be \n",
    "obtained from HSAUR package in R."
   ]
  },
  {
   "cell_type": "code",
   "execution_count": null,
   "metadata": {},
   "outputs": [],
   "source": [
    "library(HSAUR)\n",
    "data(\"water\", package = \"HSAUR\")\n",
    "head(water)\n",
    "str(water)"
   ]
  },
  {
   "cell_type": "code",
   "execution_count": null,
   "metadata": {},
   "outputs": [],
   "source": [
    "summary(manova(cbind(hardness, mortality) ~ location, data = water), test = \"Hotelling-Lawley\")"
   ]
  },
  {
   "cell_type": "markdown",
   "metadata": {},
   "source": [
    "The `cbind` statement combines hardness and mortality into a multivariate response variable to be modelled. \n",
    "The p-value associated with the Hotelling-Lawley statistic is very small. \n",
    "It indicates a strong evidence that the mean vectors of the two variables are not the same in the two regions.\n",
    "\n",
    "**NOTE:** That we have changed modeling to be a _multivariate_ dependent, as a 2-tuple in this case `(hardness, mortality)`.\n",
    "\n",
    "```R\n",
    "cbind(hardness, mortality) ~ location\n",
    "```\n",
    "\n",
    "Recall that the `t()` function transposes the matrix.\n",
    "\n",
    "Now, review the API documentation for `tapply`."
   ]
  },
  {
   "cell_type": "code",
   "execution_count": null,
   "metadata": {},
   "outputs": [],
   "source": [
    "help(tapply)"
   ]
  },
  {
   "cell_type": "code",
   "execution_count": null,
   "metadata": {},
   "outputs": [],
   "source": [
    "t(tapply(water$hardness, water$location, mean))"
   ]
  },
  {
   "cell_type": "code",
   "execution_count": null,
   "metadata": {},
   "outputs": [],
   "source": [
    "t(tapply(water$mortality, water$location, mean))"
   ]
  },
  {
   "cell_type": "markdown",
   "metadata": {},
   "source": [
    "There is a large differences in the two regions in both water hardness and mortality, \n",
    "where low mortality is associated with hard water in the South and high mortality with soft water in the North.\n",
    "\n",
    "Now, let's look at our familiar auto-mpg data again."
   ]
  },
  {
   "cell_type": "code",
   "execution_count": null,
   "metadata": {},
   "outputs": [],
   "source": [
    "auto_data=read.csv(\"/dsa/data/all_datasets/auto-mpg/auto-mpg.csv\")\n",
    "\n",
    "head(auto_data)"
   ]
  },
  {
   "cell_type": "code",
   "execution_count": null,
   "metadata": {},
   "outputs": [],
   "source": [
    "str(auto_data)\n",
    "auto_data$origin = factor(auto_data$origin)\n",
    "auto_data$cylinders = factor(auto_data$cylinders)"
   ]
  },
  {
   "cell_type": "markdown",
   "metadata": {},
   "source": [
    "Let's create a multivariate predicted dependent variable from \n",
    "`mpg`, `displacement`, `weight`, and `acceleration`."
   ]
  },
  {
   "cell_type": "code",
   "execution_count": null,
   "metadata": {},
   "outputs": [],
   "source": [
    "\n",
    "m.model <- manova(cbind(mpg, displacement,weight,acceleration) ~ origin * cylinders, data = auto_data)\n",
    "\n",
    "summary(m.model, test = \"Hotelling-Lawley\")"
   ]
  },
  {
   "cell_type": "markdown",
   "metadata": {},
   "source": [
    "Again the p-values indicate that the mean values of the groups formed by the factors `origin` and `cylinders` are different. \n",
    "\n",
    "Now let's look at the relationship of the means factored by origin for each of the dependent variables."
   ]
  },
  {
   "cell_type": "code",
   "execution_count": null,
   "metadata": {},
   "outputs": [],
   "source": [
    "print('mpg vs origin')\n",
    "t(tapply(auto_data$mpg, auto_data$origin, mean))\n",
    "\n",
    "print('displacement vs origin')\n",
    "t(tapply(auto_data$displacement, auto_data$origin, mean))\n",
    "\n",
    "print('weight vs origin')\n",
    "t(tapply(auto_data$weight, auto_data$origin, mean))\n",
    "\n",
    "print('acceleration vs origin')\n",
    "t(tapply(auto_data$acceleration, auto_data$origin, mean))"
   ]
  },
  {
   "cell_type": "markdown",
   "metadata": {},
   "source": [
    "Origin 1 vehicles are significantly different than origin 2 and 3, but vehicles from origin 2 and 3 have similar mean values. \n",
    "\n",
    "ANOVA and MANOVA will help you make decisions about significance of variables by analyzing the amount of variation that exists in a variable. \n",
    "If a variable does not significantly vary to affect other variables, it is essentially not contributing anything when \n",
    "predicting the dependent variable so it can be excluded from model fitting. \n",
    "\n",
    "\n",
    "# Save your notebook!"
   ]
  }
 ],
 "metadata": {
  "kernelspec": {
   "display_name": "R",
   "language": "R",
   "name": "ir"
  },
  "language_info": {
   "codemirror_mode": "r",
   "file_extension": ".r",
   "mimetype": "text/x-r-source",
   "name": "R",
   "pygments_lexer": "r",
   "version": "4.0.5"
  }
 },
 "nbformat": 4,
 "nbformat_minor": 1
}
