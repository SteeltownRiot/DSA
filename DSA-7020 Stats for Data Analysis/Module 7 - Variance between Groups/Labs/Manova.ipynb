{
 "cells": [
  {
   "cell_type": "markdown",
   "metadata": {},
   "source": [
    "## Manova\n",
    "\n",
    "The difference between ANOVA and MANOVA (Multivariate Analysis of Variance) is that MANOVA deals with more \n",
    "than two dependent variables for variance analysis. \n",
    "Like ANOVA, MANOVA has both a one-way and a two-way analysis. \n",
    "The number of factor variables involved distinguish a one-way MANOVA from a two-way MANOVA. "
   ]
  },
  {
   "cell_type": "markdown",
   "metadata": {},
   "source": [
    "In the example below, the null hypothesis is that the two-dimensional mean-vector of \n",
    "water hardness and mortality is the same for cities in the North and the South. \n",
    "It can be tested by Hotelling-Lawley test in MANOVA. \n",
    "The R function `manova` can be used to fit such a model. \n",
    "The corresponding summary method performs the test specified by the test argument. "
   ]
  },
  {
   "cell_type": "markdown",
   "metadata": {},
   "source": [
    "The water hardness and mortality data for 61 large towns in England and Wales can be \n",
    "obtained from HSAUR package in R."
   ]
  },
  {
   "cell_type": "code",
   "execution_count": 1,
   "metadata": {},
   "outputs": [
    {
     "name": "stderr",
     "output_type": "stream",
     "text": [
      "Loading required package: tools\n",
      "\n"
     ]
    },
    {
     "data": {
      "text/html": [
       "<table class=\"dataframe\">\n",
       "<caption>A data.frame: 6 × 4</caption>\n",
       "<thead>\n",
       "\t<tr><th></th><th scope=col>location</th><th scope=col>town</th><th scope=col>mortality</th><th scope=col>hardness</th></tr>\n",
       "\t<tr><th></th><th scope=col>&lt;fct&gt;</th><th scope=col>&lt;chr&gt;</th><th scope=col>&lt;int&gt;</th><th scope=col>&lt;int&gt;</th></tr>\n",
       "</thead>\n",
       "<tbody>\n",
       "\t<tr><th scope=row>1</th><td>South</td><td>Bath      </td><td>1247</td><td>105</td></tr>\n",
       "\t<tr><th scope=row>2</th><td>North</td><td>Birkenhead</td><td>1668</td><td> 17</td></tr>\n",
       "\t<tr><th scope=row>3</th><td>South</td><td>Birmingham</td><td>1466</td><td>  5</td></tr>\n",
       "\t<tr><th scope=row>4</th><td>North</td><td>Blackburn </td><td>1800</td><td> 14</td></tr>\n",
       "\t<tr><th scope=row>5</th><td>North</td><td>Blackpool </td><td>1609</td><td> 18</td></tr>\n",
       "\t<tr><th scope=row>6</th><td>North</td><td>Bolton    </td><td>1558</td><td> 10</td></tr>\n",
       "</tbody>\n",
       "</table>\n"
      ],
      "text/latex": [
       "A data.frame: 6 × 4\n",
       "\\begin{tabular}{r|llll}\n",
       "  & location & town & mortality & hardness\\\\\n",
       "  & <fct> & <chr> & <int> & <int>\\\\\n",
       "\\hline\n",
       "\t1 & South & Bath       & 1247 & 105\\\\\n",
       "\t2 & North & Birkenhead & 1668 &  17\\\\\n",
       "\t3 & South & Birmingham & 1466 &   5\\\\\n",
       "\t4 & North & Blackburn  & 1800 &  14\\\\\n",
       "\t5 & North & Blackpool  & 1609 &  18\\\\\n",
       "\t6 & North & Bolton     & 1558 &  10\\\\\n",
       "\\end{tabular}\n"
      ],
      "text/markdown": [
       "\n",
       "A data.frame: 6 × 4\n",
       "\n",
       "| <!--/--> | location &lt;fct&gt; | town &lt;chr&gt; | mortality &lt;int&gt; | hardness &lt;int&gt; |\n",
       "|---|---|---|---|---|\n",
       "| 1 | South | Bath       | 1247 | 105 |\n",
       "| 2 | North | Birkenhead | 1668 |  17 |\n",
       "| 3 | South | Birmingham | 1466 |   5 |\n",
       "| 4 | North | Blackburn  | 1800 |  14 |\n",
       "| 5 | North | Blackpool  | 1609 |  18 |\n",
       "| 6 | North | Bolton     | 1558 |  10 |\n",
       "\n"
      ],
      "text/plain": [
       "  location town       mortality hardness\n",
       "1 South    Bath       1247      105     \n",
       "2 North    Birkenhead 1668       17     \n",
       "3 South    Birmingham 1466        5     \n",
       "4 North    Blackburn  1800       14     \n",
       "5 North    Blackpool  1609       18     \n",
       "6 North    Bolton     1558       10     "
      ]
     },
     "metadata": {},
     "output_type": "display_data"
    },
    {
     "name": "stdout",
     "output_type": "stream",
     "text": [
      "'data.frame':\t61 obs. of  4 variables:\n",
      " $ location : Factor w/ 2 levels \"North\",\"South\": 2 1 2 1 1 1 1 2 1 2 ...\n",
      " $ town     : chr  \"Bath\" \"Birkenhead\" \"Birmingham\" \"Blackburn\" ...\n",
      " $ mortality: int  1247 1668 1466 1800 1609 1558 1807 1299 1637 1359 ...\n",
      " $ hardness : int  105 17 5 14 18 10 15 78 10 84 ...\n"
     ]
    }
   ],
   "source": [
    "library(HSAUR)\n",
    "data(\"water\", package = \"HSAUR\")\n",
    "head(water)\n",
    "str(water)"
   ]
  },
  {
   "cell_type": "code",
   "execution_count": 2,
   "metadata": {},
   "outputs": [
    {
     "data": {
      "text/plain": [
       "          Df Hotelling-Lawley approx F num Df den Df    Pr(>F)    \n",
       "location   1          0.90021   26.106      2     58 8.217e-09 ***\n",
       "Residuals 59                                                      \n",
       "---\n",
       "Signif. codes:  0 ‘***’ 0.001 ‘**’ 0.01 ‘*’ 0.05 ‘.’ 0.1 ‘ ’ 1"
      ]
     },
     "metadata": {},
     "output_type": "display_data"
    }
   ],
   "source": [
    "summary(manova(cbind(hardness, mortality) ~ location, data = water), test = \"Hotelling-Lawley\")"
   ]
  },
  {
   "cell_type": "markdown",
   "metadata": {},
   "source": [
    "The `cbind` statement combines hardness and mortality into a multivariate response variable to be modelled. \n",
    "The p-value associated with the Hotelling-Lawley statistic is very small. \n",
    "It indicates a strong evidence that the mean vectors of the two variables are not the same in the two regions.\n",
    "\n",
    "**NOTE:** That we have changed modeling to be a _multivariate_ dependent, as a 2-tuple in this case `(hardness, mortality)`.\n",
    "\n",
    "```R\n",
    "cbind(hardness, mortality) ~ location\n",
    "```\n",
    "\n",
    "Recall that the `t()` function transposes the matrix.\n",
    "\n",
    "Now, review the API documentation for `tapply`."
   ]
  },
  {
   "cell_type": "code",
   "execution_count": 3,
   "metadata": {},
   "outputs": [],
   "source": [
    "help(tapply)"
   ]
  },
  {
   "cell_type": "code",
   "execution_count": 4,
   "metadata": {},
   "outputs": [
    {
     "data": {
      "text/html": [
       "<table class=\"dataframe\">\n",
       "<caption>A matrix: 1 × 2 of type dbl</caption>\n",
       "<thead>\n",
       "\t<tr><th scope=col>North</th><th scope=col>South</th></tr>\n",
       "</thead>\n",
       "<tbody>\n",
       "\t<tr><td>30.4</td><td>69.76923</td></tr>\n",
       "</tbody>\n",
       "</table>\n"
      ],
      "text/latex": [
       "A matrix: 1 × 2 of type dbl\n",
       "\\begin{tabular}{ll}\n",
       " North & South\\\\\n",
       "\\hline\n",
       "\t 30.4 & 69.76923\\\\\n",
       "\\end{tabular}\n"
      ],
      "text/markdown": [
       "\n",
       "A matrix: 1 × 2 of type dbl\n",
       "\n",
       "| North | South |\n",
       "|---|---|\n",
       "| 30.4 | 69.76923 |\n",
       "\n"
      ],
      "text/plain": [
       "     North South   \n",
       "[1,] 30.4  69.76923"
      ]
     },
     "metadata": {},
     "output_type": "display_data"
    }
   ],
   "source": [
    "t(tapply(water$hardness, water$location, mean))"
   ]
  },
  {
   "cell_type": "code",
   "execution_count": 5,
   "metadata": {},
   "outputs": [
    {
     "data": {
      "text/html": [
       "<table class=\"dataframe\">\n",
       "<caption>A matrix: 1 × 2 of type dbl</caption>\n",
       "<thead>\n",
       "\t<tr><th scope=col>North</th><th scope=col>South</th></tr>\n",
       "</thead>\n",
       "<tbody>\n",
       "\t<tr><td>1633.6</td><td>1376.808</td></tr>\n",
       "</tbody>\n",
       "</table>\n"
      ],
      "text/latex": [
       "A matrix: 1 × 2 of type dbl\n",
       "\\begin{tabular}{ll}\n",
       " North & South\\\\\n",
       "\\hline\n",
       "\t 1633.6 & 1376.808\\\\\n",
       "\\end{tabular}\n"
      ],
      "text/markdown": [
       "\n",
       "A matrix: 1 × 2 of type dbl\n",
       "\n",
       "| North | South |\n",
       "|---|---|\n",
       "| 1633.6 | 1376.808 |\n",
       "\n"
      ],
      "text/plain": [
       "     North  South   \n",
       "[1,] 1633.6 1376.808"
      ]
     },
     "metadata": {},
     "output_type": "display_data"
    }
   ],
   "source": [
    "t(tapply(water$mortality, water$location, mean))"
   ]
  },
  {
   "cell_type": "markdown",
   "metadata": {},
   "source": [
    "There is a large differences in the two regions in both water hardness and mortality, \n",
    "where low mortality is associated with hard water in the South and high mortality with soft water in the North.\n",
    "\n",
    "Now, let's look at our familiar auto-mpg data again."
   ]
  },
  {
   "cell_type": "code",
   "execution_count": 6,
   "metadata": {},
   "outputs": [
    {
     "data": {
      "text/html": [
       "<table class=\"dataframe\">\n",
       "<caption>A data.frame: 6 × 9</caption>\n",
       "<thead>\n",
       "\t<tr><th></th><th scope=col>mpg</th><th scope=col>cylinders</th><th scope=col>displacement</th><th scope=col>horsepower</th><th scope=col>weight</th><th scope=col>acceleration</th><th scope=col>model.year</th><th scope=col>origin</th><th scope=col>car.name</th></tr>\n",
       "\t<tr><th></th><th scope=col>&lt;dbl&gt;</th><th scope=col>&lt;int&gt;</th><th scope=col>&lt;dbl&gt;</th><th scope=col>&lt;chr&gt;</th><th scope=col>&lt;int&gt;</th><th scope=col>&lt;dbl&gt;</th><th scope=col>&lt;int&gt;</th><th scope=col>&lt;int&gt;</th><th scope=col>&lt;chr&gt;</th></tr>\n",
       "</thead>\n",
       "<tbody>\n",
       "\t<tr><th scope=row>1</th><td>18</td><td>8</td><td>307</td><td>130.0</td><td>3504</td><td>12.0</td><td>70</td><td>1</td><td>chevrolet chevelle malibu</td></tr>\n",
       "\t<tr><th scope=row>2</th><td>15</td><td>8</td><td>350</td><td>165.0</td><td>3693</td><td>11.5</td><td>70</td><td>1</td><td>buick skylark 320        </td></tr>\n",
       "\t<tr><th scope=row>3</th><td>18</td><td>8</td><td>318</td><td>150.0</td><td>3436</td><td>11.0</td><td>70</td><td>1</td><td>plymouth satellite       </td></tr>\n",
       "\t<tr><th scope=row>4</th><td>16</td><td>8</td><td>304</td><td>150.0</td><td>3433</td><td>12.0</td><td>70</td><td>1</td><td>amc rebel sst            </td></tr>\n",
       "\t<tr><th scope=row>5</th><td>17</td><td>8</td><td>302</td><td>140.0</td><td>3449</td><td>10.5</td><td>70</td><td>1</td><td>ford torino              </td></tr>\n",
       "\t<tr><th scope=row>6</th><td>15</td><td>8</td><td>429</td><td>198.0</td><td>4341</td><td>10.0</td><td>70</td><td>1</td><td>ford galaxie 500         </td></tr>\n",
       "</tbody>\n",
       "</table>\n"
      ],
      "text/latex": [
       "A data.frame: 6 × 9\n",
       "\\begin{tabular}{r|lllllllll}\n",
       "  & mpg & cylinders & displacement & horsepower & weight & acceleration & model.year & origin & car.name\\\\\n",
       "  & <dbl> & <int> & <dbl> & <chr> & <int> & <dbl> & <int> & <int> & <chr>\\\\\n",
       "\\hline\n",
       "\t1 & 18 & 8 & 307 & 130.0 & 3504 & 12.0 & 70 & 1 & chevrolet chevelle malibu\\\\\n",
       "\t2 & 15 & 8 & 350 & 165.0 & 3693 & 11.5 & 70 & 1 & buick skylark 320        \\\\\n",
       "\t3 & 18 & 8 & 318 & 150.0 & 3436 & 11.0 & 70 & 1 & plymouth satellite       \\\\\n",
       "\t4 & 16 & 8 & 304 & 150.0 & 3433 & 12.0 & 70 & 1 & amc rebel sst            \\\\\n",
       "\t5 & 17 & 8 & 302 & 140.0 & 3449 & 10.5 & 70 & 1 & ford torino              \\\\\n",
       "\t6 & 15 & 8 & 429 & 198.0 & 4341 & 10.0 & 70 & 1 & ford galaxie 500         \\\\\n",
       "\\end{tabular}\n"
      ],
      "text/markdown": [
       "\n",
       "A data.frame: 6 × 9\n",
       "\n",
       "| <!--/--> | mpg &lt;dbl&gt; | cylinders &lt;int&gt; | displacement &lt;dbl&gt; | horsepower &lt;chr&gt; | weight &lt;int&gt; | acceleration &lt;dbl&gt; | model.year &lt;int&gt; | origin &lt;int&gt; | car.name &lt;chr&gt; |\n",
       "|---|---|---|---|---|---|---|---|---|---|\n",
       "| 1 | 18 | 8 | 307 | 130.0 | 3504 | 12.0 | 70 | 1 | chevrolet chevelle malibu |\n",
       "| 2 | 15 | 8 | 350 | 165.0 | 3693 | 11.5 | 70 | 1 | buick skylark 320         |\n",
       "| 3 | 18 | 8 | 318 | 150.0 | 3436 | 11.0 | 70 | 1 | plymouth satellite        |\n",
       "| 4 | 16 | 8 | 304 | 150.0 | 3433 | 12.0 | 70 | 1 | amc rebel sst             |\n",
       "| 5 | 17 | 8 | 302 | 140.0 | 3449 | 10.5 | 70 | 1 | ford torino               |\n",
       "| 6 | 15 | 8 | 429 | 198.0 | 4341 | 10.0 | 70 | 1 | ford galaxie 500          |\n",
       "\n"
      ],
      "text/plain": [
       "  mpg cylinders displacement horsepower weight acceleration model.year origin\n",
       "1 18  8         307          130.0      3504   12.0         70         1     \n",
       "2 15  8         350          165.0      3693   11.5         70         1     \n",
       "3 18  8         318          150.0      3436   11.0         70         1     \n",
       "4 16  8         304          150.0      3433   12.0         70         1     \n",
       "5 17  8         302          140.0      3449   10.5         70         1     \n",
       "6 15  8         429          198.0      4341   10.0         70         1     \n",
       "  car.name                 \n",
       "1 chevrolet chevelle malibu\n",
       "2 buick skylark 320        \n",
       "3 plymouth satellite       \n",
       "4 amc rebel sst            \n",
       "5 ford torino              \n",
       "6 ford galaxie 500         "
      ]
     },
     "metadata": {},
     "output_type": "display_data"
    }
   ],
   "source": [
    "auto_data=read.csv(\"/dsa/data/all_datasets/auto-mpg/auto-mpg.csv\")\n",
    "\n",
    "head(auto_data)"
   ]
  },
  {
   "cell_type": "code",
   "execution_count": 7,
   "metadata": {},
   "outputs": [
    {
     "name": "stdout",
     "output_type": "stream",
     "text": [
      "'data.frame':\t398 obs. of  9 variables:\n",
      " $ mpg         : num  18 15 18 16 17 15 14 14 14 15 ...\n",
      " $ cylinders   : int  8 8 8 8 8 8 8 8 8 8 ...\n",
      " $ displacement: num  307 350 318 304 302 429 454 440 455 390 ...\n",
      " $ horsepower  : chr  \"130.0\" \"165.0\" \"150.0\" \"150.0\" ...\n",
      " $ weight      : int  3504 3693 3436 3433 3449 4341 4354 4312 4425 3850 ...\n",
      " $ acceleration: num  12 11.5 11 12 10.5 10 9 8.5 10 8.5 ...\n",
      " $ model.year  : int  70 70 70 70 70 70 70 70 70 70 ...\n",
      " $ origin      : int  1 1 1 1 1 1 1 1 1 1 ...\n",
      " $ car.name    : chr  \"chevrolet chevelle malibu\" \"buick skylark 320\" \"plymouth satellite\" \"amc rebel sst\" ...\n"
     ]
    }
   ],
   "source": [
    "str(auto_data)\n",
    "auto_data$origin = factor(auto_data$origin)\n",
    "auto_data$cylinders = factor(auto_data$cylinders)"
   ]
  },
  {
   "cell_type": "markdown",
   "metadata": {},
   "source": [
    "Let's create a multivariate predicted dependent variable from \n",
    "`mpg`, `displacement`, `weight`, and `acceleration`."
   ]
  },
  {
   "cell_type": "code",
   "execution_count": 8,
   "metadata": {},
   "outputs": [
    {
     "data": {
      "text/plain": [
       "                  Df Hotelling-Lawley approx F num Df den Df    Pr(>F)    \n",
       "origin             2           5.5956  269.288      8    770 < 2.2e-16 ***\n",
       "cylinders          4           6.5210  156.707     16   1538 < 2.2e-16 ***\n",
       "origin:cylinders   2           0.1657    7.975      8    770  2.33e-10 ***\n",
       "Residuals        389                                                      \n",
       "---\n",
       "Signif. codes:  0 ‘***’ 0.001 ‘**’ 0.01 ‘*’ 0.05 ‘.’ 0.1 ‘ ’ 1"
      ]
     },
     "metadata": {},
     "output_type": "display_data"
    }
   ],
   "source": [
    "\n",
    "m.model <- manova(cbind(mpg, displacement,weight,acceleration) ~ origin * cylinders, data = auto_data)\n",
    "\n",
    "summary(m.model, test = \"Hotelling-Lawley\")"
   ]
  },
  {
   "cell_type": "markdown",
   "metadata": {},
   "source": [
    "Again the p-values indicate that the mean values of the groups formed by the factors `origin` and `cylinders` are different. \n",
    "\n",
    "Now let's look at the relationship of the means factored by origin for each of the dependent variables."
   ]
  },
  {
   "cell_type": "code",
   "execution_count": 9,
   "metadata": {},
   "outputs": [
    {
     "name": "stdout",
     "output_type": "stream",
     "text": [
      "[1] \"mpg vs origin\"\n"
     ]
    },
    {
     "data": {
      "text/html": [
       "<table class=\"dataframe\">\n",
       "<caption>A matrix: 1 × 3 of type dbl</caption>\n",
       "<thead>\n",
       "\t<tr><th scope=col>1</th><th scope=col>2</th><th scope=col>3</th></tr>\n",
       "</thead>\n",
       "<tbody>\n",
       "\t<tr><td>20.08353</td><td>27.89143</td><td>30.45063</td></tr>\n",
       "</tbody>\n",
       "</table>\n"
      ],
      "text/latex": [
       "A matrix: 1 × 3 of type dbl\n",
       "\\begin{tabular}{lll}\n",
       " 1 & 2 & 3\\\\\n",
       "\\hline\n",
       "\t 20.08353 & 27.89143 & 30.45063\\\\\n",
       "\\end{tabular}\n"
      ],
      "text/markdown": [
       "\n",
       "A matrix: 1 × 3 of type dbl\n",
       "\n",
       "| 1 | 2 | 3 |\n",
       "|---|---|---|\n",
       "| 20.08353 | 27.89143 | 30.45063 |\n",
       "\n"
      ],
      "text/plain": [
       "     1        2        3       \n",
       "[1,] 20.08353 27.89143 30.45063"
      ]
     },
     "metadata": {},
     "output_type": "display_data"
    },
    {
     "name": "stdout",
     "output_type": "stream",
     "text": [
      "[1] \"displacement vs origin\"\n"
     ]
    },
    {
     "data": {
      "text/html": [
       "<table class=\"dataframe\">\n",
       "<caption>A matrix: 1 × 3 of type dbl</caption>\n",
       "<thead>\n",
       "\t<tr><th scope=col>1</th><th scope=col>2</th><th scope=col>3</th></tr>\n",
       "</thead>\n",
       "<tbody>\n",
       "\t<tr><td>245.9016</td><td>109.1429</td><td>102.7089</td></tr>\n",
       "</tbody>\n",
       "</table>\n"
      ],
      "text/latex": [
       "A matrix: 1 × 3 of type dbl\n",
       "\\begin{tabular}{lll}\n",
       " 1 & 2 & 3\\\\\n",
       "\\hline\n",
       "\t 245.9016 & 109.1429 & 102.7089\\\\\n",
       "\\end{tabular}\n"
      ],
      "text/markdown": [
       "\n",
       "A matrix: 1 × 3 of type dbl\n",
       "\n",
       "| 1 | 2 | 3 |\n",
       "|---|---|---|\n",
       "| 245.9016 | 109.1429 | 102.7089 |\n",
       "\n"
      ],
      "text/plain": [
       "     1        2        3       \n",
       "[1,] 245.9016 109.1429 102.7089"
      ]
     },
     "metadata": {},
     "output_type": "display_data"
    },
    {
     "name": "stdout",
     "output_type": "stream",
     "text": [
      "[1] \"weight vs origin\"\n"
     ]
    },
    {
     "data": {
      "text/html": [
       "<table class=\"dataframe\">\n",
       "<caption>A matrix: 1 × 3 of type dbl</caption>\n",
       "<thead>\n",
       "\t<tr><th scope=col>1</th><th scope=col>2</th><th scope=col>3</th></tr>\n",
       "</thead>\n",
       "<tbody>\n",
       "\t<tr><td>3361.932</td><td>2423.3</td><td>2221.228</td></tr>\n",
       "</tbody>\n",
       "</table>\n"
      ],
      "text/latex": [
       "A matrix: 1 × 3 of type dbl\n",
       "\\begin{tabular}{lll}\n",
       " 1 & 2 & 3\\\\\n",
       "\\hline\n",
       "\t 3361.932 & 2423.3 & 2221.228\\\\\n",
       "\\end{tabular}\n"
      ],
      "text/markdown": [
       "\n",
       "A matrix: 1 × 3 of type dbl\n",
       "\n",
       "| 1 | 2 | 3 |\n",
       "|---|---|---|\n",
       "| 3361.932 | 2423.3 | 2221.228 |\n",
       "\n"
      ],
      "text/plain": [
       "     1        2      3       \n",
       "[1,] 3361.932 2423.3 2221.228"
      ]
     },
     "metadata": {},
     "output_type": "display_data"
    },
    {
     "name": "stdout",
     "output_type": "stream",
     "text": [
      "[1] \"acceleration vs origin\"\n"
     ]
    },
    {
     "data": {
      "text/html": [
       "<table class=\"dataframe\">\n",
       "<caption>A matrix: 1 × 3 of type dbl</caption>\n",
       "<thead>\n",
       "\t<tr><th scope=col>1</th><th scope=col>2</th><th scope=col>3</th></tr>\n",
       "</thead>\n",
       "<tbody>\n",
       "\t<tr><td>15.03373</td><td>16.78714</td><td>16.17215</td></tr>\n",
       "</tbody>\n",
       "</table>\n"
      ],
      "text/latex": [
       "A matrix: 1 × 3 of type dbl\n",
       "\\begin{tabular}{lll}\n",
       " 1 & 2 & 3\\\\\n",
       "\\hline\n",
       "\t 15.03373 & 16.78714 & 16.17215\\\\\n",
       "\\end{tabular}\n"
      ],
      "text/markdown": [
       "\n",
       "A matrix: 1 × 3 of type dbl\n",
       "\n",
       "| 1 | 2 | 3 |\n",
       "|---|---|---|\n",
       "| 15.03373 | 16.78714 | 16.17215 |\n",
       "\n"
      ],
      "text/plain": [
       "     1        2        3       \n",
       "[1,] 15.03373 16.78714 16.17215"
      ]
     },
     "metadata": {},
     "output_type": "display_data"
    }
   ],
   "source": [
    "print('mpg vs origin')\n",
    "t(tapply(auto_data$mpg, auto_data$origin, mean))\n",
    "\n",
    "print('displacement vs origin')\n",
    "t(tapply(auto_data$displacement, auto_data$origin, mean))\n",
    "\n",
    "print('weight vs origin')\n",
    "t(tapply(auto_data$weight, auto_data$origin, mean))\n",
    "\n",
    "print('acceleration vs origin')\n",
    "t(tapply(auto_data$acceleration, auto_data$origin, mean))"
   ]
  },
  {
   "cell_type": "markdown",
   "metadata": {},
   "source": [
    "Origin 1 vehicles are significantly different than origin 2 and 3, but vehicles from origin 2 and 3 have similar mean values. \n",
    "\n",
    "ANOVA and MANOVA will help you make decisions about significance of variables by analyzing the amount of variation that exists in a variable. \n",
    "If a variable does not significantly vary to affect other variables, it is essentially not contributing anything when \n",
    "predicting the dependent variable so it can be excluded from model fitting. \n",
    "\n",
    "\n",
    "# Save your notebook!"
   ]
  }
 ],
 "metadata": {
  "kernelspec": {
   "display_name": "R",
   "language": "R",
   "name": "ir"
  },
  "language_info": {
   "codemirror_mode": "r",
   "file_extension": ".r",
   "mimetype": "text/x-r-source",
   "name": "R",
   "pygments_lexer": "r",
   "version": "4.0.5"
  }
 },
 "nbformat": 4,
 "nbformat_minor": 1
}
