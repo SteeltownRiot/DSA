{
 "cells": [
  {
   "cell_type": "markdown",
   "metadata": {},
   "source": [
    "# ANOVA (Analysis of Variance)\n",
    "\n",
    "ANOVA is a collection of statistical methods to analyze the differences among multiple group means. We have seen T-tests to study the difference between the means of **two** groups; we need to use ANOVA if we have means of **three or more** groups. \n",
    "ANOVA makes inferences on the means based on the ANAlysis Of VAriances, hance the name ANOVA. \n",
    "\n",
    "In this notebook, we will focus on one-way ANOVA. \n",
    "In one-way ANOVA, we will compare the effects of a **single independent** grouping variable that is categorical. Grouping variables are also known as **factors** and different categories (groups) of the factor are called levels. \n",
    "\n",
    "There are three components of variance. \n",
    "**Total variance** is the variance of all subjects regardless of the group to which they belong. \n",
    "Total variance is further partitioned into **between-groups variance** and **within-groups variance**. \n",
    "Between-groups variance is about how the means of groups differ from each other due to the effects \n",
    "of the independent variable and random error. Within-groups variance represents the differences within individual groups **NOT** caused by the independent variable. It is also known as error variance. \n"
   ]
  },
  {
   "cell_type": "markdown",
   "metadata": {},
   "source": [
    " \n",
    "<img src=../images/fvalue.png> \n",
    "\n",
    "The F-statistic is the ratio of two variances, and in ANOVA, it is used to measure the spread of the group means. \n",
    "\n",
    "$$F = \\frac{Variance_{between-group}}{Variance_{within-group}}$$\n",
    "\n",
    "The variances are the adjusted mean squares by the degrees of freedom.\n",
    "The ANOVA F-value rejects or fails to reject the  null hypothesis that all means are equal. \n",
    "\n",
    "$$H_0: \\mu_1 = \\mu_2 = \\mu_3 = \\ldots  $$\n",
    "\n",
    "If there is a significant difference between some of the group means, $H_0$ is rejected and we need to perform multiple comparisons for all \n",
    "pair-wise means to determine which ones differ. For that, we use **Tukey's honest significant difference** (HSD) test. \n",
    "Tukey's test makes sure that the Type I errors are still within control and do not rise by multiple pair-wise tests. \n",
    "\n",
    "---\n",
    "\n",
    "Let's analyze the auto miles per gallon dataset."
   ]
  },
  {
   "cell_type": "code",
   "execution_count": 1,
   "metadata": {},
   "outputs": [
    {
     "data": {
      "text/html": [
       "<table class=\"dataframe\">\n",
       "<caption>A data.frame: 6 × 9</caption>\n",
       "<thead>\n",
       "\t<tr><th></th><th scope=col>mpg</th><th scope=col>cylinders</th><th scope=col>displacement</th><th scope=col>horsepower</th><th scope=col>weight</th><th scope=col>acceleration</th><th scope=col>model.year</th><th scope=col>origin</th><th scope=col>car.name</th></tr>\n",
       "\t<tr><th></th><th scope=col>&lt;dbl&gt;</th><th scope=col>&lt;int&gt;</th><th scope=col>&lt;dbl&gt;</th><th scope=col>&lt;chr&gt;</th><th scope=col>&lt;int&gt;</th><th scope=col>&lt;dbl&gt;</th><th scope=col>&lt;int&gt;</th><th scope=col>&lt;int&gt;</th><th scope=col>&lt;chr&gt;</th></tr>\n",
       "</thead>\n",
       "<tbody>\n",
       "\t<tr><th scope=row>1</th><td>18</td><td>8</td><td>307</td><td>130.0</td><td>3504</td><td>12.0</td><td>70</td><td>1</td><td>chevrolet chevelle malibu</td></tr>\n",
       "\t<tr><th scope=row>2</th><td>15</td><td>8</td><td>350</td><td>165.0</td><td>3693</td><td>11.5</td><td>70</td><td>1</td><td>buick skylark 320        </td></tr>\n",
       "\t<tr><th scope=row>3</th><td>18</td><td>8</td><td>318</td><td>150.0</td><td>3436</td><td>11.0</td><td>70</td><td>1</td><td>plymouth satellite       </td></tr>\n",
       "\t<tr><th scope=row>4</th><td>16</td><td>8</td><td>304</td><td>150.0</td><td>3433</td><td>12.0</td><td>70</td><td>1</td><td>amc rebel sst            </td></tr>\n",
       "\t<tr><th scope=row>5</th><td>17</td><td>8</td><td>302</td><td>140.0</td><td>3449</td><td>10.5</td><td>70</td><td>1</td><td>ford torino              </td></tr>\n",
       "\t<tr><th scope=row>6</th><td>15</td><td>8</td><td>429</td><td>198.0</td><td>4341</td><td>10.0</td><td>70</td><td>1</td><td>ford galaxie 500         </td></tr>\n",
       "</tbody>\n",
       "</table>\n"
      ],
      "text/latex": [
       "A data.frame: 6 × 9\n",
       "\\begin{tabular}{r|lllllllll}\n",
       "  & mpg & cylinders & displacement & horsepower & weight & acceleration & model.year & origin & car.name\\\\\n",
       "  & <dbl> & <int> & <dbl> & <chr> & <int> & <dbl> & <int> & <int> & <chr>\\\\\n",
       "\\hline\n",
       "\t1 & 18 & 8 & 307 & 130.0 & 3504 & 12.0 & 70 & 1 & chevrolet chevelle malibu\\\\\n",
       "\t2 & 15 & 8 & 350 & 165.0 & 3693 & 11.5 & 70 & 1 & buick skylark 320        \\\\\n",
       "\t3 & 18 & 8 & 318 & 150.0 & 3436 & 11.0 & 70 & 1 & plymouth satellite       \\\\\n",
       "\t4 & 16 & 8 & 304 & 150.0 & 3433 & 12.0 & 70 & 1 & amc rebel sst            \\\\\n",
       "\t5 & 17 & 8 & 302 & 140.0 & 3449 & 10.5 & 70 & 1 & ford torino              \\\\\n",
       "\t6 & 15 & 8 & 429 & 198.0 & 4341 & 10.0 & 70 & 1 & ford galaxie 500         \\\\\n",
       "\\end{tabular}\n"
      ],
      "text/markdown": [
       "\n",
       "A data.frame: 6 × 9\n",
       "\n",
       "| <!--/--> | mpg &lt;dbl&gt; | cylinders &lt;int&gt; | displacement &lt;dbl&gt; | horsepower &lt;chr&gt; | weight &lt;int&gt; | acceleration &lt;dbl&gt; | model.year &lt;int&gt; | origin &lt;int&gt; | car.name &lt;chr&gt; |\n",
       "|---|---|---|---|---|---|---|---|---|---|\n",
       "| 1 | 18 | 8 | 307 | 130.0 | 3504 | 12.0 | 70 | 1 | chevrolet chevelle malibu |\n",
       "| 2 | 15 | 8 | 350 | 165.0 | 3693 | 11.5 | 70 | 1 | buick skylark 320         |\n",
       "| 3 | 18 | 8 | 318 | 150.0 | 3436 | 11.0 | 70 | 1 | plymouth satellite        |\n",
       "| 4 | 16 | 8 | 304 | 150.0 | 3433 | 12.0 | 70 | 1 | amc rebel sst             |\n",
       "| 5 | 17 | 8 | 302 | 140.0 | 3449 | 10.5 | 70 | 1 | ford torino               |\n",
       "| 6 | 15 | 8 | 429 | 198.0 | 4341 | 10.0 | 70 | 1 | ford galaxie 500          |\n",
       "\n"
      ],
      "text/plain": [
       "  mpg cylinders displacement horsepower weight acceleration model.year origin\n",
       "1 18  8         307          130.0      3504   12.0         70         1     \n",
       "2 15  8         350          165.0      3693   11.5         70         1     \n",
       "3 18  8         318          150.0      3436   11.0         70         1     \n",
       "4 16  8         304          150.0      3433   12.0         70         1     \n",
       "5 17  8         302          140.0      3449   10.5         70         1     \n",
       "6 15  8         429          198.0      4341   10.0         70         1     \n",
       "  car.name                 \n",
       "1 chevrolet chevelle malibu\n",
       "2 buick skylark 320        \n",
       "3 plymouth satellite       \n",
       "4 amc rebel sst            \n",
       "5 ford torino              \n",
       "6 ford galaxie 500         "
      ]
     },
     "metadata": {},
     "output_type": "display_data"
    }
   ],
   "source": [
    "auto_data=read.csv(\"/dsa/data/all_datasets/auto-mpg/auto-mpg.csv\")\n",
    "head(auto_data)"
   ]
  },
  {
   "cell_type": "code",
   "execution_count": 2,
   "metadata": {},
   "outputs": [
    {
     "name": "stdout",
     "output_type": "stream",
     "text": [
      "'data.frame':\t398 obs. of  9 variables:\n",
      " $ mpg         : num  18 15 18 16 17 15 14 14 14 15 ...\n",
      " $ cylinders   : int  8 8 8 8 8 8 8 8 8 8 ...\n",
      " $ displacement: num  307 350 318 304 302 429 454 440 455 390 ...\n",
      " $ horsepower  : chr  \"130.0\" \"165.0\" \"150.0\" \"150.0\" ...\n",
      " $ weight      : int  3504 3693 3436 3433 3449 4341 4354 4312 4425 3850 ...\n",
      " $ acceleration: num  12 11.5 11 12 10.5 10 9 8.5 10 8.5 ...\n",
      " $ model.year  : int  70 70 70 70 70 70 70 70 70 70 ...\n",
      " $ origin      : int  1 1 1 1 1 1 1 1 1 1 ...\n",
      " $ car.name    : chr  \"chevrolet chevelle malibu\" \"buick skylark 320\" \"plymouth satellite\" \"amc rebel sst\" ...\n"
     ]
    }
   ],
   "source": [
    "str(auto_data)"
   ]
  },
  {
   "cell_type": "markdown",
   "metadata": {},
   "source": [
    "---\n",
    "\n",
    "## One-way between ANOVA"
   ]
  },
  {
   "cell_type": "markdown",
   "metadata": {},
   "source": [
    "\n",
    "One-way between ANOVA is used when we have one factor (independent categorical variable) and the groups are not overlapping (analogous to a two-sample or independent samples test where subjects are different). \n",
    "\n",
    "For the above data set, let's frame the hypotheses as:\n",
    "\n",
    "$H_0$:  No significant differences exist in miles per gallon among vehicles of different origin\n",
    "\n",
    "$H_1$:  Significant differences exist in miles per gallon among vehicles of different origin\n",
    "\n",
    "\n",
    "Here, the **independent variable (IV) is origin**; it has to be a **categorical** variable and its levels will be the groups. \n",
    "The **dependent variable is the miles per gallon**. \n",
    "\n",
    "We want to see whether the groups of miles per gallon grouped by levels of origin will have significantly different means. The independent variable is also said to be the **factor** in ANOVA. \n",
    "\n",
    "We use the `aov()` function in R to do the ANOVA. "
   ]
  },
  {
   "cell_type": "markdown",
   "metadata": {},
   "source": [
    "Let's plot a graph to compare mpg across groups. Let's convert the variable origin into a factor. "
   ]
  },
  {
   "cell_type": "code",
   "execution_count": 3,
   "metadata": {},
   "outputs": [],
   "source": [
    "auto_data$origin=as.factor(auto_data$origin)"
   ]
  },
  {
   "cell_type": "code",
   "execution_count": 4,
   "metadata": {},
   "outputs": [
    {
     "data": {
      "image/png": "[encoded data removed]",
      "text/plain": [
       "plot without title"
      ]
     },
     "metadata": {
      "image/png": {
       "height": 420,
       "width": 420
      }
     },
     "output_type": "display_data"
    }
   ],
   "source": [
    "library(ggplot2)\n",
    "ggplot(auto_data,aes(origin,mpg))+geom_boxplot()"
   ]
  },
  {
   "cell_type": "markdown",
   "metadata": {},
   "source": [
    "From the plot, it appears that the mpg for vehicles from origin 3 tend to be higher compared to other origins. \n",
    "\n",
    "We need to run the ANOVA to see if these groups are significantly different. The dependent variable (also known as response) and the independent variable (also known as factor) are the inputs to the `aov()` function just like we did in the `lm()` function. "
   ]
  },
  {
   "cell_type": "code",
   "execution_count": 5,
   "metadata": {},
   "outputs": [
    {
     "data": {
      "text/plain": [
       "             Df Sum Sq Mean Sq F value Pr(>F)    \n",
       "origin        2   8073    4036   98.54 <2e-16 ***\n",
       "Residuals   395  16180      41                   \n",
       "---\n",
       "Signif. codes:  0 ‘***’ 0.001 ‘**’ 0.01 ‘*’ 0.05 ‘.’ 0.1 ‘ ’ 1"
      ]
     },
     "metadata": {},
     "output_type": "display_data"
    },
    {
     "data": {
      "text/html": [
       "<table class=\"dataframe\">\n",
       "<caption>A anova: 2 × 5</caption>\n",
       "<thead>\n",
       "\t<tr><th></th><th scope=col>Df</th><th scope=col>Sum Sq</th><th scope=col>Mean Sq</th><th scope=col>F value</th><th scope=col>Pr(&gt;F)</th></tr>\n",
       "\t<tr><th></th><th scope=col>&lt;int&gt;</th><th scope=col>&lt;dbl&gt;</th><th scope=col>&lt;dbl&gt;</th><th scope=col>&lt;dbl&gt;</th><th scope=col>&lt;dbl&gt;</th></tr>\n",
       "</thead>\n",
       "<tbody>\n",
       "\t<tr><th scope=row>origin</th><td>  2</td><td> 8072.821</td><td>4036.4103</td><td>98.54179</td><td>1.915486e-35</td></tr>\n",
       "\t<tr><th scope=row>Residuals</th><td>395</td><td>16179.755</td><td>  40.9614</td><td>      NA</td><td>          NA</td></tr>\n",
       "</tbody>\n",
       "</table>\n"
      ],
      "text/latex": [
       "A anova: 2 × 5\n",
       "\\begin{tabular}{r|lllll}\n",
       "  & Df & Sum Sq & Mean Sq & F value & Pr(>F)\\\\\n",
       "  & <int> & <dbl> & <dbl> & <dbl> & <dbl>\\\\\n",
       "\\hline\n",
       "\torigin &   2 &  8072.821 & 4036.4103 & 98.54179 & 1.915486e-35\\\\\n",
       "\tResiduals & 395 & 16179.755 &   40.9614 &       NA &           NA\\\\\n",
       "\\end{tabular}\n"
      ],
      "text/markdown": [
       "\n",
       "A anova: 2 × 5\n",
       "\n",
       "| <!--/--> | Df &lt;int&gt; | Sum Sq &lt;dbl&gt; | Mean Sq &lt;dbl&gt; | F value &lt;dbl&gt; | Pr(&gt;F) &lt;dbl&gt; |\n",
       "|---|---|---|---|---|---|\n",
       "| origin |   2 |  8072.821 | 4036.4103 | 98.54179 | 1.915486e-35 |\n",
       "| Residuals | 395 | 16179.755 |   40.9614 |       NA |           NA |\n",
       "\n"
      ],
      "text/plain": [
       "          Df  Sum Sq    Mean Sq   F value  Pr(>F)      \n",
       "origin      2  8072.821 4036.4103 98.54179 1.915486e-35\n",
       "Residuals 395 16179.755   40.9614       NA           NA"
      ]
     },
     "metadata": {},
     "output_type": "display_data"
    }
   ],
   "source": [
    "\n",
    "fit <- aov(mpg ~ origin, data=auto_data)\n",
    "summary(fit)\n",
    "anova(fit)"
   ]
  },
  {
   "cell_type": "code",
   "execution_count": 6,
   "metadata": {},
   "outputs": [],
   "source": [
    "# Read API documentation\n",
    "help(aov)"
   ]
  },
  {
   "cell_type": "markdown",
   "metadata": {},
   "source": [
    "According to the above results the F-value is 98.54 with a p-value almost equal to 0.\n",
    "The null hypothesis that \"no significant difference exist in miles per gallon among \n",
    "vehicles of different origin\" can be clearly rejected."
   ]
  },
  {
   "cell_type": "code",
   "execution_count": 7,
   "metadata": {},
   "outputs": [
    {
     "data": {
      "text/plain": [
       "Tables of means\n",
       "Grand mean\n",
       "         \n",
       "23.51457 \n",
       "\n",
       " origin \n",
       "         1     2     3\n",
       "     20.08 27.89 30.45\n",
       "rep 249.00 70.00 79.00"
      ]
     },
     "metadata": {},
     "output_type": "display_data"
    }
   ],
   "source": [
    "# Show the means\n",
    "# model.tables() computes summary tables for model fits, especially complex aov fits.\n",
    "# type = \"means\" give tables of the mean response for each combinations of levels of the factors in a term.\n",
    "model.tables(fit, \"means\")"
   ]
  },
  {
   "cell_type": "markdown",
   "metadata": {},
   "source": [
    "The function above gave an average mpg for 3 groups."
   ]
  },
  {
   "cell_type": "code",
   "execution_count": 8,
   "metadata": {},
   "outputs": [],
   "source": [
    "help(model.tables)"
   ]
  },
  {
   "cell_type": "markdown",
   "metadata": {},
   "source": [
    "To see which of these groups differ significantly, we run Tukey's test: "
   ]
  },
  {
   "cell_type": "code",
   "execution_count": 9,
   "metadata": {},
   "outputs": [
    {
     "data": {
      "text/plain": [
       "  Tukey multiple comparisons of means\n",
       "    95% family-wise confidence level\n",
       "\n",
       "Fit: aov(formula = mpg ~ origin, data = auto_data)\n",
       "\n",
       "$origin\n",
       "         diff        lwr       upr     p adj\n",
       "2-1  7.807894 5.77095169  9.844837 0.0000000\n",
       "3-1 10.367099 8.42283190 12.311366 0.0000000\n",
       "3-2  2.559204 0.08769223  5.030716 0.0404341\n"
      ]
     },
     "metadata": {},
     "output_type": "display_data"
    }
   ],
   "source": [
    "TukeyHSD(fit)"
   ]
  },
  {
   "cell_type": "markdown",
   "metadata": {},
   "source": [
    "P-values show that group origin=1 significantly differs from 2 and 3. Groups 2 and 3 also differ significantly (p<0.05) but not as much as group 1 differs from either of them. These results quantitatively support what we observed in boxplots. "
   ]
  },
  {
   "cell_type": "markdown",
   "metadata": {},
   "source": [
    "---\n",
    "\n",
    "### Two-way between ANOVA\n",
    "\n",
    "If we want to see how the dependent variable changes with respect to the levels of **two** factors and their **interaction**, we use Two-way ANOVA. \n",
    "\n",
    "Let's test if `mpg` is explained by `origin`, `cylinders` and _also by the interaction_ between them. We are testing three groups of hypotheses and the null hypotheses for these groups are like following: \n",
    "\n",
    "$H_0$: Group means of mpg with respect to origin levels are equal. \n",
    "\n",
    "$H_0$: Group means of mpg with respect to cylinders levels are equal. \n",
    "\n",
    "$H_0$: There is no interaction between the two factors.\n"
   ]
  },
  {
   "cell_type": "code",
   "execution_count": 10,
   "metadata": {},
   "outputs": [
    {
     "data": {
      "text/plain": [
       "             Df Sum Sq Mean Sq F value Pr(>F)    \n",
       "origin        2   8073    4036  194.05 <2e-16 ***\n",
       "cylinders     4   8046    2012   96.71 <2e-16 ***\n",
       "Residuals   391   8133      21                   \n",
       "---\n",
       "Signif. codes:  0 ‘***’ 0.001 ‘**’ 0.01 ‘*’ 0.05 ‘.’ 0.1 ‘ ’ 1"
      ]
     },
     "metadata": {},
     "output_type": "display_data"
    },
    {
     "data": {
      "text/plain": [
       "                  Df Sum Sq Mean Sq F value Pr(>F)    \n",
       "origin             2   8073    4036 193.081 <2e-16 ***\n",
       "cylinders          4   8046    2012  96.225 <2e-16 ***\n",
       "origin:cylinders   2      1       1   0.028  0.972    \n",
       "Residuals        389   8132      21                   \n",
       "---\n",
       "Signif. codes:  0 ‘***’ 0.001 ‘**’ 0.01 ‘*’ 0.05 ‘.’ 0.1 ‘ ’ 1"
      ]
     },
     "metadata": {},
     "output_type": "display_data"
    },
    {
     "data": {
      "text/html": [
       "<table class=\"dataframe\">\n",
       "<caption>A anova: 4 × 5</caption>\n",
       "<thead>\n",
       "\t<tr><th></th><th scope=col>Df</th><th scope=col>Sum Sq</th><th scope=col>Mean Sq</th><th scope=col>F value</th><th scope=col>Pr(&gt;F)</th></tr>\n",
       "\t<tr><th></th><th scope=col>&lt;int&gt;</th><th scope=col>&lt;dbl&gt;</th><th scope=col>&lt;dbl&gt;</th><th scope=col>&lt;dbl&gt;</th><th scope=col>&lt;dbl&gt;</th></tr>\n",
       "</thead>\n",
       "<tbody>\n",
       "\t<tr><th scope=row>origin</th><td>  2</td><td>8072.820662</td><td>4036.4103310</td><td>193.08122347</td><td>5.732083e-59</td></tr>\n",
       "\t<tr><th scope=row>cylinders</th><td>  4</td><td>8046.448374</td><td>2011.6120935</td><td> 96.22523290</td><td>7.690291e-57</td></tr>\n",
       "\t<tr><th scope=row>origin:cylinders</th><td>  2</td><td>   1.166037</td><td>   0.5830184</td><td>  0.02788862</td><td>9.724986e-01</td></tr>\n",
       "\t<tr><th scope=row>Residuals</th><td>389</td><td>8132.140405</td><td>  20.9052453</td><td>          NA</td><td>          NA</td></tr>\n",
       "</tbody>\n",
       "</table>\n"
      ],
      "text/latex": [
       "A anova: 4 × 5\n",
       "\\begin{tabular}{r|lllll}\n",
       "  & Df & Sum Sq & Mean Sq & F value & Pr(>F)\\\\\n",
       "  & <int> & <dbl> & <dbl> & <dbl> & <dbl>\\\\\n",
       "\\hline\n",
       "\torigin &   2 & 8072.820662 & 4036.4103310 & 193.08122347 & 5.732083e-59\\\\\n",
       "\tcylinders &   4 & 8046.448374 & 2011.6120935 &  96.22523290 & 7.690291e-57\\\\\n",
       "\torigin:cylinders &   2 &    1.166037 &    0.5830184 &   0.02788862 & 9.724986e-01\\\\\n",
       "\tResiduals & 389 & 8132.140405 &   20.9052453 &           NA &           NA\\\\\n",
       "\\end{tabular}\n"
      ],
      "text/markdown": [
       "\n",
       "A anova: 4 × 5\n",
       "\n",
       "| <!--/--> | Df &lt;int&gt; | Sum Sq &lt;dbl&gt; | Mean Sq &lt;dbl&gt; | F value &lt;dbl&gt; | Pr(&gt;F) &lt;dbl&gt; |\n",
       "|---|---|---|---|---|---|\n",
       "| origin |   2 | 8072.820662 | 4036.4103310 | 193.08122347 | 5.732083e-59 |\n",
       "| cylinders |   4 | 8046.448374 | 2011.6120935 |  96.22523290 | 7.690291e-57 |\n",
       "| origin:cylinders |   2 |    1.166037 |    0.5830184 |   0.02788862 | 9.724986e-01 |\n",
       "| Residuals | 389 | 8132.140405 |   20.9052453 |           NA |           NA |\n",
       "\n"
      ],
      "text/plain": [
       "                 Df  Sum Sq      Mean Sq      F value      Pr(>F)      \n",
       "origin             2 8072.820662 4036.4103310 193.08122347 5.732083e-59\n",
       "cylinders          4 8046.448374 2011.6120935  96.22523290 7.690291e-57\n",
       "origin:cylinders   2    1.166037    0.5830184   0.02788862 9.724986e-01\n",
       "Residuals        389 8132.140405   20.9052453           NA           NA"
      ]
     },
     "metadata": {},
     "output_type": "display_data"
    }
   ],
   "source": [
    "# Two Way Factorial Design \n",
    "\n",
    "# Independent variable: origin\n",
    "# Independent variable: horsepower\n",
    "# Dependent variable: mpg\n",
    "\n",
    "auto_data$cylinders=as.factor(auto_data$cylinders)\n",
    "\n",
    "# There are two different ways of performing 2-way anova. \n",
    "# Note: The formula for the model\n",
    "\n",
    "# without interaction term \n",
    "fit1 <- aov(mpg ~ origin+cylinders, data=auto_data)\n",
    "summary(fit1)\n",
    "\n",
    "# with interaction term \n",
    "fit2 <- aov(mpg ~ origin*cylinders, data=auto_data)\n",
    "summary(fit2)\n",
    "anova(fit2)"
   ]
  },
  {
   "cell_type": "markdown",
   "metadata": {},
   "source": [
    "**Note:** \n",
    "The formula in the model is combining terms using the __`*`__ symbol instead of the __`+`__ to add the analysis for interaction.\n",
    "\n",
    "### Multiple Comparisons"
   ]
  },
  {
   "cell_type": "markdown",
   "metadata": {},
   "source": [
    "The ANOVA F-test tells whether there are significant differences in the K population means.\n",
    "It does not tell us anything about how they differ. \n",
    "The `pairwise.t.test` function computes the pair-wise comparisons between group means with corrections for multiple testing. Its usage is: \n",
    "\n",
    "```R\n",
    "pairwise.t.test(reponse, \n",
    "                factor, p.adjust = method, \n",
    "                alternative = c(\"two.sided\",\"less\", \"greater\")\n",
    "                )\n",
    "```\n",
    "\n",
    "\n",
    "Here, `p.adjust` is the correction method (e.g., “Bonferroni”).\n"
   ]
  },
  {
   "cell_type": "code",
   "execution_count": 11,
   "metadata": {},
   "outputs": [],
   "source": [
    "help(pairwise.t.test)"
   ]
  },
  {
   "cell_type": "code",
   "execution_count": 12,
   "metadata": {},
   "outputs": [
    {
     "name": "stdout",
     "output_type": "stream",
     "text": [
      "'data.frame':\t398 obs. of  9 variables:\n",
      " $ mpg         : num  18 15 18 16 17 15 14 14 14 15 ...\n",
      " $ cylinders   : Factor w/ 5 levels \"3\",\"4\",\"5\",\"6\",..: 5 5 5 5 5 5 5 5 5 5 ...\n",
      " $ displacement: num  307 350 318 304 302 429 454 440 455 390 ...\n",
      " $ horsepower  : chr  \"130.0\" \"165.0\" \"150.0\" \"150.0\" ...\n",
      " $ weight      : int  3504 3693 3436 3433 3449 4341 4354 4312 4425 3850 ...\n",
      " $ acceleration: num  12 11.5 11 12 10.5 10 9 8.5 10 8.5 ...\n",
      " $ model.year  : int  70 70 70 70 70 70 70 70 70 70 ...\n",
      " $ origin      : Factor w/ 3 levels \"1\",\"2\",\"3\": 1 1 1 1 1 1 1 1 1 1 ...\n",
      " $ car.name    : chr  \"chevrolet chevelle malibu\" \"buick skylark 320\" \"plymouth satellite\" \"amc rebel sst\" ...\n"
     ]
    }
   ],
   "source": [
    "str(auto_data)"
   ]
  },
  {
   "cell_type": "code",
   "execution_count": 13,
   "metadata": {},
   "outputs": [
    {
     "data": {
      "text/plain": [
       "\n",
       "\tPairwise comparisons using t tests with pooled SD \n",
       "\n",
       "data:  auto_data$mpg and auto_data$origin \n",
       "\n",
       "  1      2    \n",
       "2 <2e-16 -    \n",
       "3 <2e-16 0.046\n",
       "\n",
       "P value adjustment method: bonferroni "
      ]
     },
     "metadata": {},
     "output_type": "display_data"
    }
   ],
   "source": [
    "pairwise.t.test(auto_data$mpg, auto_data$origin, p.adjust=\"bonferroni\")"
   ]
  },
  {
   "cell_type": "markdown",
   "metadata": {},
   "source": [
    "The above table shows there is a good difference in means between \n",
    "origins 2 and 3 with a p-value of 0.046, \n",
    "but both are significantly different from origin 1 with p-values almost equal to 0. \n",
    "We can confidently say that the average mpg is significantly different for origin 1.\n",
    "\n",
    "The following shows the P-values for all pairs of cylinders levels. "
   ]
  },
  {
   "cell_type": "code",
   "execution_count": 14,
   "metadata": {},
   "outputs": [
    {
     "data": {
      "text/plain": [
       "\n",
       "\tPairwise comparisons using t tests with pooled SD \n",
       "\n",
       "data:  auto_data$mpg and auto_data$cylinders \n",
       "\n",
       "  3      4       5       6      \n",
       "4 0.0029 -       -       -      \n",
       "5 0.5998 1.0000  -       -      \n",
       "6 1.0000 < 2e-16 0.0825  -      \n",
       "8 0.2101 < 2e-16 1.0e-04 2.7e-11\n",
       "\n",
       "P value adjustment method: bonferroni "
      ]
     },
     "metadata": {},
     "output_type": "display_data"
    }
   ],
   "source": [
    "pairwise.t.test(auto_data$mpg, auto_data$cylinders, p.adjust=\"bonferroni\")"
   ]
  },
  {
   "cell_type": "markdown",
   "metadata": {
    "collapsed": true
   },
   "source": [
    "---\n",
    "\n",
    "### Tukey's Method\n",
    "\n",
    "Tukey's method also known as _Tukey's Honest Significant Differences test_ is another multiple comparisons procedure. \n",
    "`TukeyHSD()` creates a set of confidence intervals on the differences between means with \n",
    "the specified family-wise probability of coverage. \n",
    "The general form is `TukeyHSD(x, conf.level = 0.95)` where **x** is a fitted model object.\n",
    "\n",
    "**The following shows the P-values for all pairs of origin and mpg:** "
   ]
  },
  {
   "cell_type": "code",
   "execution_count": 15,
   "metadata": {
    "scrolled": false
   },
   "outputs": [
    {
     "data": {
      "text/plain": [
       "  Tukey multiple comparisons of means\n",
       "    95% family-wise confidence level\n",
       "\n",
       "Fit: aov(formula = mpg ~ origin + cylinders, data = auto_data)\n",
       "\n",
       "$origin\n",
       "         diff       lwr       upr     p adj\n",
       "2-1  7.807894 6.3562729  9.259516 0.0000000\n",
       "3-1 10.367099 8.9815224 11.752675 0.0000000\n",
       "3-2  2.559204 0.7978881  4.320521 0.0020074\n",
       "\n",
       "$cylinders\n",
       "          diff         lwr       upr     p adj\n",
       "4-3 13.1860833   6.8754989 19.496668 0.0000002\n",
       "5-3  9.3758710  -0.1705676 18.922310 0.0570009\n",
       "6-3  8.6905015   2.2938206 15.087182 0.0020924\n",
       "8-3  4.7802056  -1.5896014 11.150013 0.2412804\n",
       "5-4 -3.8102123 -11.0795099  3.459085 0.6044444\n",
       "6-4 -4.4955818  -6.1159902 -2.875173 0.0000000\n",
       "8-4 -8.4058777  -9.9167177 -6.895038 0.0000000\n",
       "6-5 -0.6853695  -8.0295331  6.658794 0.9990552\n",
       "8-5 -4.5956654 -11.9164341  2.725103 0.4225674\n",
       "8-6 -3.9102959  -5.7478729 -2.072719 0.0000001\n"
      ]
     },
     "metadata": {},
     "output_type": "display_data"
    }
   ],
   "source": [
    "Tukey1 = TukeyHSD(fit1)\n",
    "Tukey1"
   ]
  },
  {
   "cell_type": "markdown",
   "metadata": {},
   "source": [
    "**The following shows the P-values for all pairs of origin and mpg AND their interactions:** "
   ]
  },
  {
   "cell_type": "code",
   "execution_count": 16,
   "metadata": {
    "scrolled": false
   },
   "outputs": [
    {
     "data": {
      "text/plain": [
       "  Tukey multiple comparisons of means\n",
       "    95% family-wise confidence level\n",
       "\n",
       "Fit: aov(formula = mpg ~ origin * cylinders, data = auto_data)\n",
       "\n",
       "$origin\n",
       "         diff      lwr       upr     p adj\n",
       "2-1  7.807894 6.352622  9.263167 0.0000000\n",
       "3-1 10.367099 8.978037 11.756160 0.0000000\n",
       "3-2  2.559204 0.793458  4.324951 0.0020693\n",
       "\n",
       "$cylinders\n",
       "          diff         lwr       upr     p adj\n",
       "4-3 13.1860833   6.8595986 19.512568 0.0000002\n",
       "5-3  9.3758710  -0.1946211 18.946363 0.0580294\n",
       "6-3  8.6905015   2.2777033 15.103300 0.0021672\n",
       "8-3  4.7802056  -1.6056509 11.166062 0.2436242\n",
       "5-4 -3.8102123 -11.0978258  3.477401 0.6067669\n",
       "6-4 -4.4955818  -6.1200731 -2.871090 0.0000000\n",
       "8-4 -8.4058777  -9.9205245 -6.891231 0.0000000\n",
       "6-5 -0.6853695  -8.0480377  6.677299 0.9990644\n",
       "8-5 -4.5956654 -11.9348797  2.743549 0.4251970\n",
       "8-6 -3.9102959  -5.7525029 -2.068089 0.0000001\n",
       "\n",
       "$`origin:cylinders`\n",
       "               diff         lwr         upr     p adj\n",
       "2:3-1:3          NA          NA          NA        NA\n",
       "3:3-1:3          NA          NA          NA        NA\n",
       "1:4-1:3          NA          NA          NA        NA\n",
       "2:4-1:3          NA          NA          NA        NA\n",
       "3:4-1:3          NA          NA          NA        NA\n",
       "1:5-1:3          NA          NA          NA        NA\n",
       "2:5-1:3          NA          NA          NA        NA\n",
       "3:5-1:3          NA          NA          NA        NA\n",
       "1:6-1:3          NA          NA          NA        NA\n",
       "2:6-1:3          NA          NA          NA        NA\n",
       "3:6-1:3          NA          NA          NA        NA\n",
       "1:8-1:3          NA          NA          NA        NA\n",
       "2:8-1:3          NA          NA          NA        NA\n",
       "3:8-1:3          NA          NA          NA        NA\n",
       "3:3-2:3          NA          NA          NA        NA\n",
       "1:4-2:3          NA          NA          NA        NA\n",
       "2:4-2:3          NA          NA          NA        NA\n",
       "3:4-2:3          NA          NA          NA        NA\n",
       "1:5-2:3          NA          NA          NA        NA\n",
       "2:5-2:3          NA          NA          NA        NA\n",
       "3:5-2:3          NA          NA          NA        NA\n",
       "1:6-2:3          NA          NA          NA        NA\n",
       "2:6-2:3          NA          NA          NA        NA\n",
       "3:6-2:3          NA          NA          NA        NA\n",
       "1:8-2:3          NA          NA          NA        NA\n",
       "2:8-2:3          NA          NA          NA        NA\n",
       "3:8-2:3          NA          NA          NA        NA\n",
       "1:4-3:3   7.2902778  -0.7269214  15.3074770 0.1212838\n",
       "2:4-3:3   7.8611111  -0.1861715  15.9083937 0.0635044\n",
       "3:4-3:3  11.0456522   3.0192852  19.0720191 0.0003574\n",
       "1:5-3:3          NA          NA          NA        NA\n",
       "2:5-3:3   6.8166667  -5.1031759  18.7365092 0.8247467\n",
       "3:5-3:3          NA          NA          NA        NA\n",
       "1:6-3:3  -0.8864865  -8.8979815   7.1250086 1.0000000\n",
       "2:6-3:3  -0.4500000 -11.4856298  10.5856298 1.0000000\n",
       "3:6-3:3   3.3333333  -6.7407723  13.4074390 0.9985214\n",
       "1:8-3:3  -5.5868932 -13.5403404   2.3665540 0.5180415\n",
       "2:8-3:3          NA          NA          NA        NA\n",
       "3:8-3:3          NA          NA          NA        NA\n",
       "2:4-1:4   0.5708333  -2.1215847   3.2632513 0.9999924\n",
       "3:4-1:4   3.7553744   1.1261304   6.3846184 0.0001574\n",
       "1:5-1:4          NA          NA          NA        NA\n",
       "2:5-1:4  -0.4736111  -9.6699693   8.7227471 1.0000000\n",
       "3:5-1:4          NA          NA          NA        NA\n",
       "1:6-1:4  -8.1767643 -10.7602522  -5.5932763 0.0000000\n",
       "2:6-1:4  -7.7402778 -15.7574770   0.2769214 0.0712208\n",
       "3:6-1:4  -3.9569444 -10.5885327   2.6746438 0.7751175\n",
       "1:8-1:4 -12.8771710 -15.2746029 -10.4797390 0.0000000\n",
       "2:8-1:4          NA          NA          NA        NA\n",
       "3:8-1:4          NA          NA          NA        NA\n",
       "3:4-2:4   3.1845411   0.4649458   5.9041363 0.0066594\n",
       "1:5-2:4          NA          NA          NA        NA\n",
       "2:5-2:4  -1.0444444 -10.2670405   8.1781516 1.0000000\n",
       "3:5-2:4          NA          NA          NA        NA\n",
       "1:6-2:4  -8.7475976 -11.4229825  -6.0722127 0.0000000\n",
       "2:6-2:4  -8.3111111 -16.3583937  -0.2638285 0.0351177\n",
       "3:6-2:4  -4.5277778 -11.1957037   2.1401482 0.5778503\n",
       "1:8-2:4 -13.4480043 -15.9441923 -10.9518164 0.0000000\n",
       "2:8-2:4          NA          NA          NA        NA\n",
       "3:8-2:4          NA          NA          NA        NA\n",
       "1:5-3:4          NA          NA          NA        NA\n",
       "2:5-3:4  -4.2289855 -13.4333371   4.9753661 0.9644052\n",
       "3:5-3:4          NA          NA          NA        NA\n",
       "1:6-3:4 -11.9321387 -14.5439376  -9.3203398 0.0000000\n",
       "2:6-3:4 -11.4956522 -19.5220191  -3.4692852 0.0001478\n",
       "3:6-3:4  -7.7123188 -14.3549874  -1.0696503 0.0075714\n",
       "1:8-3:4 -16.6325454 -19.0604588 -14.2046320 0.0000000\n",
       "2:8-3:4          NA          NA          NA        NA\n",
       "3:8-3:4          NA          NA          NA        NA\n",
       "2:5-1:5          NA          NA          NA        NA\n",
       "3:5-1:5          NA          NA          NA        NA\n",
       "1:6-1:5          NA          NA          NA        NA\n",
       "2:6-1:5          NA          NA          NA        NA\n",
       "3:6-1:5          NA          NA          NA        NA\n",
       "1:8-1:5          NA          NA          NA        NA\n",
       "2:8-1:5          NA          NA          NA        NA\n",
       "3:8-1:5          NA          NA          NA        NA\n",
       "3:5-2:5          NA          NA          NA        NA\n",
       "1:6-2:5  -7.7031532 -16.8945390   1.4882327 0.2198421\n",
       "2:6-2:5  -7.2666667 -19.1865092   4.6531759 0.7469152\n",
       "3:6-2:5  -3.4833333 -14.5189632   7.5522965 0.9991176\n",
       "1:8-2:5 -12.4035599 -21.5443937  -3.2627260 0.0004801\n",
       "2:8-2:5          NA          NA          NA        NA\n",
       "3:8-2:5          NA          NA          NA        NA\n",
       "1:6-3:5          NA          NA          NA        NA\n",
       "2:6-3:5          NA          NA          NA        NA\n",
       "3:6-3:5          NA          NA          NA        NA\n",
       "1:8-3:5          NA          NA          NA        NA\n",
       "2:8-3:5          NA          NA          NA        NA\n",
       "3:8-3:5          NA          NA          NA        NA\n",
       "2:6-1:6   0.4364865  -7.5750086   8.4479815 1.0000000\n",
       "3:6-1:6   4.2198198  -2.4048713  10.8445109 0.6831093\n",
       "1:8-1:6  -4.7004067  -7.0786938  -2.3221196 0.0000000\n",
       "2:8-1:6          NA          NA          NA        NA\n",
       "3:8-1:6          NA          NA          NA        NA\n",
       "3:6-2:6   3.7833333  -6.2907723  13.8574390 0.9944637\n",
       "1:8-2:6  -5.1368932 -13.0903404   2.8165540 0.6614038\n",
       "2:8-2:6          NA          NA          NA        NA\n",
       "3:8-2:6          NA          NA          NA        NA\n",
       "1:8-3:6  -8.9202265 -15.4745993  -2.3658538 0.0004515\n",
       "2:8-3:6          NA          NA          NA        NA\n",
       "3:8-3:6          NA          NA          NA        NA\n",
       "2:8-1:8          NA          NA          NA        NA\n",
       "3:8-1:8          NA          NA          NA        NA\n",
       "3:8-2:8          NA          NA          NA        NA\n"
      ]
     },
     "metadata": {},
     "output_type": "display_data"
    }
   ],
   "source": [
    "Tukey2 = TukeyHSD(fit2)\n",
    "Tukey2"
   ]
  },
  {
   "cell_type": "code",
   "execution_count": 17,
   "metadata": {},
   "outputs": [],
   "source": [
    "help(TukeyHSD)"
   ]
  },
  {
   "cell_type": "code",
   "execution_count": 18,
   "metadata": {},
   "outputs": [
    {
     "data": {
      "image/png": "[encoded data removed]",
      "text/plain": [
       "Plot with title “95% family-wise confidence level\n",
       "”"
      ]
     },
     "metadata": {
      "image/png": {
       "height": 420,
       "width": 420
      }
     },
     "output_type": "display_data"
    },
    {
     "data": {
      "image/png": "[encoded data removed]",
      "text/plain": [
       "Plot with title “95% family-wise confidence level\n",
       "”"
      ]
     },
     "metadata": {
      "image/png": {
       "height": 420,
       "width": 420
      }
     },
     "output_type": "display_data"
    }
   ],
   "source": [
    "#  graphical representation of the multiple confidence intervals\n",
    "plot(Tukey1)"
   ]
  },
  {
   "cell_type": "markdown",
   "metadata": {},
   "source": [
    "---\n",
    "\n",
    "## ANOVA with _within-subjects_ Variables\n",
    "\n",
    "Within-subjects ANOVA is used when there are repeated measures. The groups are not independent; measurements are taken on each subject repeatedly for the levels of the factor variable. \n",
    "\n",
    "### One-way within ANOVA\n",
    "\n",
    "A one-way repeated measures ANOVA will be conducted on five individuals to examine the effect of four different drugs on the response time. Here is the data: "
   ]
  },
  {
   "cell_type": "code",
   "execution_count": 19,
   "metadata": {},
   "outputs": [
    {
     "data": {
      "text/html": [
       "<table class=\"dataframe\">\n",
       "<caption>A data.frame: 20 × 3</caption>\n",
       "<thead>\n",
       "\t<tr><th scope=col>patient</th><th scope=col>drug</th><th scope=col>response</th></tr>\n",
       "\t<tr><th scope=col>&lt;fct&gt;</th><th scope=col>&lt;fct&gt;</th><th scope=col>&lt;dbl&gt;</th></tr>\n",
       "</thead>\n",
       "<tbody>\n",
       "\t<tr><td>1</td><td>1</td><td>30</td></tr>\n",
       "\t<tr><td>1</td><td>2</td><td>28</td></tr>\n",
       "\t<tr><td>1</td><td>3</td><td>16</td></tr>\n",
       "\t<tr><td>1</td><td>4</td><td>34</td></tr>\n",
       "\t<tr><td>2</td><td>1</td><td>14</td></tr>\n",
       "\t<tr><td>2</td><td>2</td><td>18</td></tr>\n",
       "\t<tr><td>2</td><td>3</td><td>10</td></tr>\n",
       "\t<tr><td>2</td><td>4</td><td>22</td></tr>\n",
       "\t<tr><td>3</td><td>1</td><td>24</td></tr>\n",
       "\t<tr><td>3</td><td>2</td><td>20</td></tr>\n",
       "\t<tr><td>3</td><td>3</td><td>18</td></tr>\n",
       "\t<tr><td>3</td><td>4</td><td>30</td></tr>\n",
       "\t<tr><td>4</td><td>1</td><td>38</td></tr>\n",
       "\t<tr><td>4</td><td>2</td><td>34</td></tr>\n",
       "\t<tr><td>4</td><td>3</td><td>20</td></tr>\n",
       "\t<tr><td>4</td><td>4</td><td>44</td></tr>\n",
       "\t<tr><td>5</td><td>1</td><td>26</td></tr>\n",
       "\t<tr><td>5</td><td>2</td><td>28</td></tr>\n",
       "\t<tr><td>5</td><td>3</td><td>14</td></tr>\n",
       "\t<tr><td>5</td><td>4</td><td>30</td></tr>\n",
       "</tbody>\n",
       "</table>\n"
      ],
      "text/latex": [
       "A data.frame: 20 × 3\n",
       "\\begin{tabular}{lll}\n",
       " patient & drug & response\\\\\n",
       " <fct> & <fct> & <dbl>\\\\\n",
       "\\hline\n",
       "\t 1 & 1 & 30\\\\\n",
       "\t 1 & 2 & 28\\\\\n",
       "\t 1 & 3 & 16\\\\\n",
       "\t 1 & 4 & 34\\\\\n",
       "\t 2 & 1 & 14\\\\\n",
       "\t 2 & 2 & 18\\\\\n",
       "\t 2 & 3 & 10\\\\\n",
       "\t 2 & 4 & 22\\\\\n",
       "\t 3 & 1 & 24\\\\\n",
       "\t 3 & 2 & 20\\\\\n",
       "\t 3 & 3 & 18\\\\\n",
       "\t 3 & 4 & 30\\\\\n",
       "\t 4 & 1 & 38\\\\\n",
       "\t 4 & 2 & 34\\\\\n",
       "\t 4 & 3 & 20\\\\\n",
       "\t 4 & 4 & 44\\\\\n",
       "\t 5 & 1 & 26\\\\\n",
       "\t 5 & 2 & 28\\\\\n",
       "\t 5 & 3 & 14\\\\\n",
       "\t 5 & 4 & 30\\\\\n",
       "\\end{tabular}\n"
      ],
      "text/markdown": [
       "\n",
       "A data.frame: 20 × 3\n",
       "\n",
       "| patient &lt;fct&gt; | drug &lt;fct&gt; | response &lt;dbl&gt; |\n",
       "|---|---|---|\n",
       "| 1 | 1 | 30 |\n",
       "| 1 | 2 | 28 |\n",
       "| 1 | 3 | 16 |\n",
       "| 1 | 4 | 34 |\n",
       "| 2 | 1 | 14 |\n",
       "| 2 | 2 | 18 |\n",
       "| 2 | 3 | 10 |\n",
       "| 2 | 4 | 22 |\n",
       "| 3 | 1 | 24 |\n",
       "| 3 | 2 | 20 |\n",
       "| 3 | 3 | 18 |\n",
       "| 3 | 4 | 30 |\n",
       "| 4 | 1 | 38 |\n",
       "| 4 | 2 | 34 |\n",
       "| 4 | 3 | 20 |\n",
       "| 4 | 4 | 44 |\n",
       "| 5 | 1 | 26 |\n",
       "| 5 | 2 | 28 |\n",
       "| 5 | 3 | 14 |\n",
       "| 5 | 4 | 30 |\n",
       "\n"
      ],
      "text/plain": [
       "   patient drug response\n",
       "1  1       1    30      \n",
       "2  1       2    28      \n",
       "3  1       3    16      \n",
       "4  1       4    34      \n",
       "5  2       1    14      \n",
       "6  2       2    18      \n",
       "7  2       3    10      \n",
       "8  2       4    22      \n",
       "9  3       1    24      \n",
       "10 3       2    20      \n",
       "11 3       3    18      \n",
       "12 3       4    30      \n",
       "13 4       1    38      \n",
       "14 4       2    34      \n",
       "15 4       3    20      \n",
       "16 4       4    44      \n",
       "17 5       1    26      \n",
       "18 5       2    28      \n",
       "19 5       3    14      \n",
       "20 5       4    30      "
      ]
     },
     "metadata": {},
     "output_type": "display_data"
    }
   ],
   "source": [
    "df <- data.frame(patient=factor(rep(1:5, each=4)),\n",
    "                 drug=factor(rep(1:4, times=5)),\n",
    "                 response=c(30, 28, 16, 34,\n",
    "                            14, 18, 10, 22,\n",
    "                            24, 20, 18, 30,\n",
    "                            38, 34, 20, 44,\n",
    "                            26, 28, 14, 30))\n",
    "df"
   ]
  },
  {
   "cell_type": "code",
   "execution_count": 20,
   "metadata": {},
   "outputs": [
    {
     "data": {
      "image/png": "[encoded data removed]",
      "text/plain": [
       "plot without title"
      ]
     },
     "metadata": {
      "image/png": {
       "height": 420,
       "width": 420
      }
     },
     "output_type": "display_data"
    }
   ],
   "source": [
    "ggplot(data = df, aes(x = drug, y = response)) + \n",
    "  geom_boxplot()"
   ]
  },
  {
   "cell_type": "code",
   "execution_count": 21,
   "metadata": {},
   "outputs": [
    {
     "data": {
      "image/png": "[encoded data removed]",
      "text/plain": [
       "plot without title"
      ]
     },
     "metadata": {
      "image/png": {
       "height": 420,
       "width": 420
      }
     },
     "output_type": "display_data"
    }
   ],
   "source": [
    "with(df, interaction.plot(drug,patient,response))"
   ]
  },
  {
   "cell_type": "code",
   "execution_count": 22,
   "metadata": {},
   "outputs": [
    {
     "data": {
      "text/plain": [
       "\n",
       "Error: patient\n",
       "          Df Sum Sq Mean Sq F value Pr(>F)\n",
       "Residuals  4  680.8   170.2               \n",
       "\n",
       "Error: Within\n",
       "          Df Sum Sq Mean Sq F value   Pr(>F)    \n",
       "drug       3  698.2   232.7   24.76 1.99e-05 ***\n",
       "Residuals 12  112.8     9.4                     \n",
       "---\n",
       "Signif. codes:  0 ‘***’ 0.001 ‘**’ 0.01 ‘*’ 0.05 ‘.’ 0.1 ‘ ’ 1"
      ]
     },
     "metadata": {},
     "output_type": "display_data"
    }
   ],
   "source": [
    "d.model <- aov(response~drug+Error(patient), data=df)\n",
    "summary(d.model)"
   ]
  },
  {
   "cell_type": "code",
   "execution_count": 23,
   "metadata": {},
   "outputs": [
    {
     "data": {
      "text/plain": [
       "Tables of means\n",
       "Grand mean\n",
       "     \n",
       "24.9 \n",
       "\n",
       " drug \n",
       "drug\n",
       "   1    2    3    4 \n",
       "26.4 25.6 15.6 32.0 "
      ]
     },
     "metadata": {},
     "output_type": "display_data"
    }
   ],
   "source": [
    "model.tables(d.model, \"means\")"
   ]
  },
  {
   "cell_type": "markdown",
   "metadata": {},
   "source": [
    "According to the F-value, drug responses are not equal for this set of patients. \n",
    "\n",
    "---\n"
   ]
  },
  {
   "cell_type": "markdown",
   "metadata": {},
   "source": [
    "Here, we will generate a sample test data for demonstrating the _within-subjects_ ANOVA."
   ]
  },
  {
   "cell_type": "code",
   "execution_count": 24,
   "metadata": {},
   "outputs": [],
   "source": [
    "# this is a code defined table\n",
    "groceries = read.table(header=TRUE,text='\n",
    "subject            storeA  storeB  storeC  storeD\n",
    "lettuce              1.17    1.78    1.29    1.29\n",
    "potatoes             1.77    1.98    1.99    1.99\n",
    "milk                 1.49    1.69    1.79    1.59\n",
    "eggs                 0.65    0.99    0.69    1.09\n",
    "bread                1.58    1.70    1.89    1.89\n",
    "cereal               3.13    3.15    2.99    3.09\n",
    "ground.beef          2.09    1.88    2.09    2.49\n",
    "tomato.soup          0.62    0.65    0.65    0.69\n",
    "laundry.detergent    5.89    5.99    5.99    6.99\n",
    "aspirin              4.46    4.84    4.99    5.15')"
   ]
  },
  {
   "cell_type": "code",
   "execution_count": 25,
   "metadata": {},
   "outputs": [
    {
     "data": {
      "text/html": [
       "<table class=\"dataframe\">\n",
       "<caption>A data.frame: 6 × 5</caption>\n",
       "<thead>\n",
       "\t<tr><th></th><th scope=col>subject</th><th scope=col>storeA</th><th scope=col>storeB</th><th scope=col>storeC</th><th scope=col>storeD</th></tr>\n",
       "\t<tr><th></th><th scope=col>&lt;chr&gt;</th><th scope=col>&lt;dbl&gt;</th><th scope=col>&lt;dbl&gt;</th><th scope=col>&lt;dbl&gt;</th><th scope=col>&lt;dbl&gt;</th></tr>\n",
       "</thead>\n",
       "<tbody>\n",
       "\t<tr><th scope=row>1</th><td>lettuce </td><td>1.17</td><td>1.78</td><td>1.29</td><td>1.29</td></tr>\n",
       "\t<tr><th scope=row>2</th><td>potatoes</td><td>1.77</td><td>1.98</td><td>1.99</td><td>1.99</td></tr>\n",
       "\t<tr><th scope=row>3</th><td>milk    </td><td>1.49</td><td>1.69</td><td>1.79</td><td>1.59</td></tr>\n",
       "\t<tr><th scope=row>4</th><td>eggs    </td><td>0.65</td><td>0.99</td><td>0.69</td><td>1.09</td></tr>\n",
       "\t<tr><th scope=row>5</th><td>bread   </td><td>1.58</td><td>1.70</td><td>1.89</td><td>1.89</td></tr>\n",
       "\t<tr><th scope=row>6</th><td>cereal  </td><td>3.13</td><td>3.15</td><td>2.99</td><td>3.09</td></tr>\n",
       "</tbody>\n",
       "</table>\n"
      ],
      "text/latex": [
       "A data.frame: 6 × 5\n",
       "\\begin{tabular}{r|lllll}\n",
       "  & subject & storeA & storeB & storeC & storeD\\\\\n",
       "  & <chr> & <dbl> & <dbl> & <dbl> & <dbl>\\\\\n",
       "\\hline\n",
       "\t1 & lettuce  & 1.17 & 1.78 & 1.29 & 1.29\\\\\n",
       "\t2 & potatoes & 1.77 & 1.98 & 1.99 & 1.99\\\\\n",
       "\t3 & milk     & 1.49 & 1.69 & 1.79 & 1.59\\\\\n",
       "\t4 & eggs     & 0.65 & 0.99 & 0.69 & 1.09\\\\\n",
       "\t5 & bread    & 1.58 & 1.70 & 1.89 & 1.89\\\\\n",
       "\t6 & cereal   & 3.13 & 3.15 & 2.99 & 3.09\\\\\n",
       "\\end{tabular}\n"
      ],
      "text/markdown": [
       "\n",
       "A data.frame: 6 × 5\n",
       "\n",
       "| <!--/--> | subject &lt;chr&gt; | storeA &lt;dbl&gt; | storeB &lt;dbl&gt; | storeC &lt;dbl&gt; | storeD &lt;dbl&gt; |\n",
       "|---|---|---|---|---|---|\n",
       "| 1 | lettuce  | 1.17 | 1.78 | 1.29 | 1.29 |\n",
       "| 2 | potatoes | 1.77 | 1.98 | 1.99 | 1.99 |\n",
       "| 3 | milk     | 1.49 | 1.69 | 1.79 | 1.59 |\n",
       "| 4 | eggs     | 0.65 | 0.99 | 0.69 | 1.09 |\n",
       "| 5 | bread    | 1.58 | 1.70 | 1.89 | 1.89 |\n",
       "| 6 | cereal   | 3.13 | 3.15 | 2.99 | 3.09 |\n",
       "\n"
      ],
      "text/plain": [
       "  subject  storeA storeB storeC storeD\n",
       "1 lettuce  1.17   1.78   1.29   1.29  \n",
       "2 potatoes 1.77   1.98   1.99   1.99  \n",
       "3 milk     1.49   1.69   1.79   1.59  \n",
       "4 eggs     0.65   0.99   0.69   1.09  \n",
       "5 bread    1.58   1.70   1.89   1.89  \n",
       "6 cereal   3.13   3.15   2.99   3.09  "
      ]
     },
     "metadata": {},
     "output_type": "display_data"
    }
   ],
   "source": [
    "head(groceries)"
   ]
  },
  {
   "cell_type": "code",
   "execution_count": 26,
   "metadata": {},
   "outputs": [
    {
     "name": "stdout",
     "output_type": "stream",
     "text": [
      "'data.frame':\t10 obs. of  5 variables:\n",
      " $ subject: chr  \"lettuce\" \"potatoes\" \"milk\" \"eggs\" ...\n",
      " $ storeA : num  1.17 1.77 1.49 0.65 1.58 3.13 2.09 0.62 5.89 4.46\n",
      " $ storeB : num  1.78 1.98 1.69 0.99 1.7 3.15 1.88 0.65 5.99 4.84\n",
      " $ storeC : num  1.29 1.99 1.79 0.69 1.89 2.99 2.09 0.65 5.99 4.99\n",
      " $ storeD : num  1.29 1.99 1.59 1.09 1.89 3.09 2.49 0.69 6.99 5.15\n"
     ]
    }
   ],
   "source": [
    "str(groceries)"
   ]
  },
  {
   "cell_type": "markdown",
   "metadata": {
    "collapsed": true
   },
   "source": [
    "For performing within-subjects ANOVA with a variable, \n",
    "the data should be in long format. Why?\n",
    "\n",
    "Because the response variable in this case is the `price` of the items which is \n",
    "listed in four columns (**wide format**). \n",
    "Each of these variables needs to be in ONE column (**long format**) of the data frame \n",
    "in order to use the `aov()` function.\n",
    "\n",
    "Also, there must be an identifier column for within-subjects ANOVA and this identifier variable must be a factor.\n",
    "In this case, it is `subject`. \n"
   ]
  },
  {
   "cell_type": "code",
   "execution_count": 27,
   "metadata": {},
   "outputs": [
    {
     "data": {
      "text/html": [
       "<table class=\"dataframe\">\n",
       "<caption>A data.frame: 40 × 3</caption>\n",
       "<thead>\n",
       "\t<tr><th scope=col>subject</th><th scope=col>store</th><th scope=col>price</th></tr>\n",
       "\t<tr><th scope=col>&lt;fct&gt;</th><th scope=col>&lt;fct&gt;</th><th scope=col>&lt;dbl&gt;</th></tr>\n",
       "</thead>\n",
       "<tbody>\n",
       "\t<tr><td>lettuce          </td><td>storeA</td><td>1.17</td></tr>\n",
       "\t<tr><td>potatoes         </td><td>storeA</td><td>1.77</td></tr>\n",
       "\t<tr><td>milk             </td><td>storeA</td><td>1.49</td></tr>\n",
       "\t<tr><td>eggs             </td><td>storeA</td><td>0.65</td></tr>\n",
       "\t<tr><td>bread            </td><td>storeA</td><td>1.58</td></tr>\n",
       "\t<tr><td>cereal           </td><td>storeA</td><td>3.13</td></tr>\n",
       "\t<tr><td>ground.beef      </td><td>storeA</td><td>2.09</td></tr>\n",
       "\t<tr><td>tomato.soup      </td><td>storeA</td><td>0.62</td></tr>\n",
       "\t<tr><td>laundry.detergent</td><td>storeA</td><td>5.89</td></tr>\n",
       "\t<tr><td>aspirin          </td><td>storeA</td><td>4.46</td></tr>\n",
       "\t<tr><td>lettuce          </td><td>storeB</td><td>1.78</td></tr>\n",
       "\t<tr><td>potatoes         </td><td>storeB</td><td>1.98</td></tr>\n",
       "\t<tr><td>milk             </td><td>storeB</td><td>1.69</td></tr>\n",
       "\t<tr><td>eggs             </td><td>storeB</td><td>0.99</td></tr>\n",
       "\t<tr><td>bread            </td><td>storeB</td><td>1.70</td></tr>\n",
       "\t<tr><td>cereal           </td><td>storeB</td><td>3.15</td></tr>\n",
       "\t<tr><td>ground.beef      </td><td>storeB</td><td>1.88</td></tr>\n",
       "\t<tr><td>tomato.soup      </td><td>storeB</td><td>0.65</td></tr>\n",
       "\t<tr><td>laundry.detergent</td><td>storeB</td><td>5.99</td></tr>\n",
       "\t<tr><td>aspirin          </td><td>storeB</td><td>4.84</td></tr>\n",
       "\t<tr><td>lettuce          </td><td>storeC</td><td>1.29</td></tr>\n",
       "\t<tr><td>potatoes         </td><td>storeC</td><td>1.99</td></tr>\n",
       "\t<tr><td>milk             </td><td>storeC</td><td>1.79</td></tr>\n",
       "\t<tr><td>eggs             </td><td>storeC</td><td>0.69</td></tr>\n",
       "\t<tr><td>bread            </td><td>storeC</td><td>1.89</td></tr>\n",
       "\t<tr><td>cereal           </td><td>storeC</td><td>2.99</td></tr>\n",
       "\t<tr><td>ground.beef      </td><td>storeC</td><td>2.09</td></tr>\n",
       "\t<tr><td>tomato.soup      </td><td>storeC</td><td>0.65</td></tr>\n",
       "\t<tr><td>laundry.detergent</td><td>storeC</td><td>5.99</td></tr>\n",
       "\t<tr><td>aspirin          </td><td>storeC</td><td>4.99</td></tr>\n",
       "\t<tr><td>lettuce          </td><td>storeD</td><td>1.29</td></tr>\n",
       "\t<tr><td>potatoes         </td><td>storeD</td><td>1.99</td></tr>\n",
       "\t<tr><td>milk             </td><td>storeD</td><td>1.59</td></tr>\n",
       "\t<tr><td>eggs             </td><td>storeD</td><td>1.09</td></tr>\n",
       "\t<tr><td>bread            </td><td>storeD</td><td>1.89</td></tr>\n",
       "\t<tr><td>cereal           </td><td>storeD</td><td>3.09</td></tr>\n",
       "\t<tr><td>ground.beef      </td><td>storeD</td><td>2.49</td></tr>\n",
       "\t<tr><td>tomato.soup      </td><td>storeD</td><td>0.69</td></tr>\n",
       "\t<tr><td>laundry.detergent</td><td>storeD</td><td>6.99</td></tr>\n",
       "\t<tr><td>aspirin          </td><td>storeD</td><td>5.15</td></tr>\n",
       "</tbody>\n",
       "</table>\n"
      ],
      "text/latex": [
       "A data.frame: 40 × 3\n",
       "\\begin{tabular}{lll}\n",
       " subject & store & price\\\\\n",
       " <fct> & <fct> & <dbl>\\\\\n",
       "\\hline\n",
       "\t lettuce           & storeA & 1.17\\\\\n",
       "\t potatoes          & storeA & 1.77\\\\\n",
       "\t milk              & storeA & 1.49\\\\\n",
       "\t eggs              & storeA & 0.65\\\\\n",
       "\t bread             & storeA & 1.58\\\\\n",
       "\t cereal            & storeA & 3.13\\\\\n",
       "\t ground.beef       & storeA & 2.09\\\\\n",
       "\t tomato.soup       & storeA & 0.62\\\\\n",
       "\t laundry.detergent & storeA & 5.89\\\\\n",
       "\t aspirin           & storeA & 4.46\\\\\n",
       "\t lettuce           & storeB & 1.78\\\\\n",
       "\t potatoes          & storeB & 1.98\\\\\n",
       "\t milk              & storeB & 1.69\\\\\n",
       "\t eggs              & storeB & 0.99\\\\\n",
       "\t bread             & storeB & 1.70\\\\\n",
       "\t cereal            & storeB & 3.15\\\\\n",
       "\t ground.beef       & storeB & 1.88\\\\\n",
       "\t tomato.soup       & storeB & 0.65\\\\\n",
       "\t laundry.detergent & storeB & 5.99\\\\\n",
       "\t aspirin           & storeB & 4.84\\\\\n",
       "\t lettuce           & storeC & 1.29\\\\\n",
       "\t potatoes          & storeC & 1.99\\\\\n",
       "\t milk              & storeC & 1.79\\\\\n",
       "\t eggs              & storeC & 0.69\\\\\n",
       "\t bread             & storeC & 1.89\\\\\n",
       "\t cereal            & storeC & 2.99\\\\\n",
       "\t ground.beef       & storeC & 2.09\\\\\n",
       "\t tomato.soup       & storeC & 0.65\\\\\n",
       "\t laundry.detergent & storeC & 5.99\\\\\n",
       "\t aspirin           & storeC & 4.99\\\\\n",
       "\t lettuce           & storeD & 1.29\\\\\n",
       "\t potatoes          & storeD & 1.99\\\\\n",
       "\t milk              & storeD & 1.59\\\\\n",
       "\t eggs              & storeD & 1.09\\\\\n",
       "\t bread             & storeD & 1.89\\\\\n",
       "\t cereal            & storeD & 3.09\\\\\n",
       "\t ground.beef       & storeD & 2.49\\\\\n",
       "\t tomato.soup       & storeD & 0.69\\\\\n",
       "\t laundry.detergent & storeD & 6.99\\\\\n",
       "\t aspirin           & storeD & 5.15\\\\\n",
       "\\end{tabular}\n"
      ],
      "text/markdown": [
       "\n",
       "A data.frame: 40 × 3\n",
       "\n",
       "| subject &lt;fct&gt; | store &lt;fct&gt; | price &lt;dbl&gt; |\n",
       "|---|---|---|\n",
       "| lettuce           | storeA | 1.17 |\n",
       "| potatoes          | storeA | 1.77 |\n",
       "| milk              | storeA | 1.49 |\n",
       "| eggs              | storeA | 0.65 |\n",
       "| bread             | storeA | 1.58 |\n",
       "| cereal            | storeA | 3.13 |\n",
       "| ground.beef       | storeA | 2.09 |\n",
       "| tomato.soup       | storeA | 0.62 |\n",
       "| laundry.detergent | storeA | 5.89 |\n",
       "| aspirin           | storeA | 4.46 |\n",
       "| lettuce           | storeB | 1.78 |\n",
       "| potatoes          | storeB | 1.98 |\n",
       "| milk              | storeB | 1.69 |\n",
       "| eggs              | storeB | 0.99 |\n",
       "| bread             | storeB | 1.70 |\n",
       "| cereal            | storeB | 3.15 |\n",
       "| ground.beef       | storeB | 1.88 |\n",
       "| tomato.soup       | storeB | 0.65 |\n",
       "| laundry.detergent | storeB | 5.99 |\n",
       "| aspirin           | storeB | 4.84 |\n",
       "| lettuce           | storeC | 1.29 |\n",
       "| potatoes          | storeC | 1.99 |\n",
       "| milk              | storeC | 1.79 |\n",
       "| eggs              | storeC | 0.69 |\n",
       "| bread             | storeC | 1.89 |\n",
       "| cereal            | storeC | 2.99 |\n",
       "| ground.beef       | storeC | 2.09 |\n",
       "| tomato.soup       | storeC | 0.65 |\n",
       "| laundry.detergent | storeC | 5.99 |\n",
       "| aspirin           | storeC | 4.99 |\n",
       "| lettuce           | storeD | 1.29 |\n",
       "| potatoes          | storeD | 1.99 |\n",
       "| milk              | storeD | 1.59 |\n",
       "| eggs              | storeD | 1.09 |\n",
       "| bread             | storeD | 1.89 |\n",
       "| cereal            | storeD | 3.09 |\n",
       "| ground.beef       | storeD | 2.49 |\n",
       "| tomato.soup       | storeD | 0.69 |\n",
       "| laundry.detergent | storeD | 6.99 |\n",
       "| aspirin           | storeD | 5.15 |\n",
       "\n"
      ],
      "text/plain": [
       "   subject           store  price\n",
       "1  lettuce           storeA 1.17 \n",
       "2  potatoes          storeA 1.77 \n",
       "3  milk              storeA 1.49 \n",
       "4  eggs              storeA 0.65 \n",
       "5  bread             storeA 1.58 \n",
       "6  cereal            storeA 3.13 \n",
       "7  ground.beef       storeA 2.09 \n",
       "8  tomato.soup       storeA 0.62 \n",
       "9  laundry.detergent storeA 5.89 \n",
       "10 aspirin           storeA 4.46 \n",
       "11 lettuce           storeB 1.78 \n",
       "12 potatoes          storeB 1.98 \n",
       "13 milk              storeB 1.69 \n",
       "14 eggs              storeB 0.99 \n",
       "15 bread             storeB 1.70 \n",
       "16 cereal            storeB 3.15 \n",
       "17 ground.beef       storeB 1.88 \n",
       "18 tomato.soup       storeB 0.65 \n",
       "19 laundry.detergent storeB 5.99 \n",
       "20 aspirin           storeB 4.84 \n",
       "21 lettuce           storeC 1.29 \n",
       "22 potatoes          storeC 1.99 \n",
       "23 milk              storeC 1.79 \n",
       "24 eggs              storeC 0.69 \n",
       "25 bread             storeC 1.89 \n",
       "26 cereal            storeC 2.99 \n",
       "27 ground.beef       storeC 2.09 \n",
       "28 tomato.soup       storeC 0.65 \n",
       "29 laundry.detergent storeC 5.99 \n",
       "30 aspirin           storeC 4.99 \n",
       "31 lettuce           storeD 1.29 \n",
       "32 potatoes          storeD 1.99 \n",
       "33 milk              storeD 1.59 \n",
       "34 eggs              storeD 1.09 \n",
       "35 bread             storeD 1.89 \n",
       "36 cereal            storeD 3.09 \n",
       "37 ground.beef       storeD 2.49 \n",
       "38 tomato.soup       storeD 0.69 \n",
       "39 laundry.detergent storeD 6.99 \n",
       "40 aspirin           storeD 5.15 "
      ]
     },
     "metadata": {},
     "output_type": "display_data"
    }
   ],
   "source": [
    "library(reshape2)\n",
    "\n",
    "groceries$subject = factor(groceries$subject)\n",
    "\n",
    "groc_long <- melt(groceries, id.vars=c(\"subject\"))\n",
    "colnames(groc_long) = c(\"subject\", \"store\", \"price\") \n",
    "groc_long"
   ]
  },
  {
   "cell_type": "markdown",
   "metadata": {
    "collapsed": true
   },
   "source": [
    "Now that we have the prices of all groceries stacked in a column, \n",
    "we can answer the question of which store we should shop at."
   ]
  },
  {
   "cell_type": "code",
   "execution_count": 28,
   "metadata": {},
   "outputs": [
    {
     "data": {
      "text/html": [
       "<table class=\"dataframe\">\n",
       "<caption>A matrix: 1 × 4 of type dbl</caption>\n",
       "<thead>\n",
       "\t<tr><th scope=col>storeA</th><th scope=col>storeB</th><th scope=col>storeC</th><th scope=col>storeD</th></tr>\n",
       "</thead>\n",
       "<tbody>\n",
       "\t<tr><td>2.285</td><td>2.465</td><td>2.436</td><td>2.626</td></tr>\n",
       "</tbody>\n",
       "</table>\n"
      ],
      "text/latex": [
       "A matrix: 1 × 4 of type dbl\n",
       "\\begin{tabular}{llll}\n",
       " storeA & storeB & storeC & storeD\\\\\n",
       "\\hline\n",
       "\t 2.285 & 2.465 & 2.436 & 2.626\\\\\n",
       "\\end{tabular}\n"
      ],
      "text/markdown": [
       "\n",
       "A matrix: 1 × 4 of type dbl\n",
       "\n",
       "| storeA | storeB | storeC | storeD |\n",
       "|---|---|---|---|\n",
       "| 2.285 | 2.465 | 2.436 | 2.626 |\n",
       "\n"
      ],
      "text/plain": [
       "     storeA storeB storeC storeD\n",
       "[1,] 2.285  2.465  2.436  2.626 "
      ]
     },
     "metadata": {},
     "output_type": "display_data"
    }
   ],
   "source": [
    "with(groc_long, t(tapply(price, store, mean)))"
   ]
  },
  {
   "cell_type": "code",
   "execution_count": 29,
   "metadata": {},
   "outputs": [
    {
     "data": {
      "text/html": [
       "<table class=\"dataframe\">\n",
       "<caption>A matrix: 1 × 10 of type dbl</caption>\n",
       "<thead>\n",
       "\t<tr><th scope=col>aspirin</th><th scope=col>bread</th><th scope=col>cereal</th><th scope=col>eggs</th><th scope=col>ground.beef</th><th scope=col>laundry.detergent</th><th scope=col>lettuce</th><th scope=col>milk</th><th scope=col>potatoes</th><th scope=col>tomato.soup</th></tr>\n",
       "</thead>\n",
       "<tbody>\n",
       "\t<tr><td>4.86</td><td>1.765</td><td>3.09</td><td>0.855</td><td>2.1375</td><td>6.215</td><td>1.3825</td><td>1.64</td><td>1.9325</td><td>0.6525</td></tr>\n",
       "</tbody>\n",
       "</table>\n"
      ],
      "text/latex": [
       "A matrix: 1 × 10 of type dbl\n",
       "\\begin{tabular}{llllllllll}\n",
       " aspirin & bread & cereal & eggs & ground.beef & laundry.detergent & lettuce & milk & potatoes & tomato.soup\\\\\n",
       "\\hline\n",
       "\t 4.86 & 1.765 & 3.09 & 0.855 & 2.1375 & 6.215 & 1.3825 & 1.64 & 1.9325 & 0.6525\\\\\n",
       "\\end{tabular}\n"
      ],
      "text/markdown": [
       "\n",
       "A matrix: 1 × 10 of type dbl\n",
       "\n",
       "| aspirin | bread | cereal | eggs | ground.beef | laundry.detergent | lettuce | milk | potatoes | tomato.soup |\n",
       "|---|---|---|---|---|---|---|---|---|---|\n",
       "| 4.86 | 1.765 | 3.09 | 0.855 | 2.1375 | 6.215 | 1.3825 | 1.64 | 1.9325 | 0.6525 |\n",
       "\n"
      ],
      "text/plain": [
       "     aspirin bread cereal eggs  ground.beef laundry.detergent lettuce milk\n",
       "[1,] 4.86    1.765 3.09   0.855 2.1375      6.215             1.3825  1.64\n",
       "     potatoes tomato.soup\n",
       "[1,] 1.9325   0.6525     "
      ]
     },
     "metadata": {},
     "output_type": "display_data"
    }
   ],
   "source": [
    "# and the mean prices of products \n",
    "with(groc_long, t(tapply(price, subject, mean)))"
   ]
  },
  {
   "cell_type": "code",
   "execution_count": 30,
   "metadata": {},
   "outputs": [
    {
     "data": {
      "image/png": "[encoded data removed]",
      "text/plain": [
       "plot without title"
      ]
     },
     "metadata": {
      "image/png": {
       "height": 420,
       "width": 420
      }
     },
     "output_type": "display_data"
    }
   ],
   "source": [
    "with(groc_long, interaction.plot(store,subject,price))"
   ]
  },
  {
   "cell_type": "code",
   "execution_count": 31,
   "metadata": {},
   "outputs": [
    {
     "data": {
      "image/png": "[encoded data removed]",
      "text/plain": [
       "plot without title"
      ]
     },
     "metadata": {
      "image/png": {
       "height": 420,
       "width": 420
      }
     },
     "output_type": "display_data"
    }
   ],
   "source": [
    "ggplot(data = groc_long, aes(x = store, y = price)) + \n",
    "  geom_boxplot()"
   ]
  },
  {
   "cell_type": "markdown",
   "metadata": {},
   "source": [
    "For the items in the sample, `storeA` has the lowest prices. \n",
    "We have to generalize our assertion that this price difference from `storeA` holds up in general.\n",
    "We will test if the items are priced less in `storeA`. Here, the `subject` is repeatedly measured in multiple \n",
    "stores; so we can think of it as the \"individual\" in the within-subjects study. "
   ]
  },
  {
   "cell_type": "code",
   "execution_count": 32,
   "metadata": {},
   "outputs": [
    {
     "data": {
      "text/plain": [
       "\n",
       "Error: subject\n",
       "          Df Sum Sq Mean Sq F value Pr(>F)\n",
       "Residuals  9  115.2    12.8               \n",
       "\n",
       "Error: subject:store\n",
       "          Df Sum Sq Mean Sq F value Pr(>F)  \n",
       "store      3 0.5859 0.19529   4.344 0.0127 *\n",
       "Residuals 27 1.2137 0.04495                 \n",
       "---\n",
       "Signif. codes:  0 ‘***’ 0.001 ‘**’ 0.01 ‘*’ 0.05 ‘.’ 0.1 ‘ ’ 1"
      ]
     },
     "metadata": {},
     "output_type": "display_data"
    }
   ],
   "source": [
    "aov_within = aov(price ~ store + Error(subject/store), data=groc_long)\n",
    "summary(aov_within)"
   ]
  },
  {
   "cell_type": "code",
   "execution_count": 33,
   "metadata": {},
   "outputs": [
    {
     "data": {
      "text/plain": [
       "\n",
       "Error: subject\n",
       "          Df Sum Sq Mean Sq F value Pr(>F)\n",
       "Residuals  9  115.2    12.8               \n",
       "\n",
       "Error: Within\n",
       "          Df Sum Sq Mean Sq F value Pr(>F)  \n",
       "store      3 0.5859 0.19529   4.344 0.0127 *\n",
       "Residuals 27 1.2137 0.04495                 \n",
       "---\n",
       "Signif. codes:  0 ‘***’ 0.001 ‘**’ 0.01 ‘*’ 0.05 ‘.’ 0.1 ‘ ’ 1"
      ]
     },
     "metadata": {},
     "output_type": "display_data"
    }
   ],
   "source": [
    "aov_within = aov(price ~ store + Error(subject), data=groc_long)\n",
    "summary(aov_within)"
   ]
  },
  {
   "cell_type": "code",
   "execution_count": 34,
   "metadata": {},
   "outputs": [],
   "source": [
    "# Revisit the aov documentation and review the use of the Error() \n",
    "help(aov)"
   ]
  },
  {
   "cell_type": "markdown",
   "metadata": {
    "collapsed": true
   },
   "source": [
    "The p-value of __0.0127__ suggests the prices in stores are different. \n",
    "Store and subject are the sources of variability. \n",
    "We are interested in the effect of \"store\". \n",
    "This variable effect is visible within each subject, i.e. nested within each subject. \n",
    "So the error term is \"_subject/store_\", which is read as \"store within subject.\" \n",
    "Once all the \"subject\" variability is taken out we are left with the main effect that is from \"store\"."
   ]
  },
  {
   "cell_type": "code",
   "execution_count": 35,
   "metadata": {},
   "outputs": [
    {
     "data": {
      "text/plain": [
       "\n",
       "\tPairwise comparisons using paired t tests \n",
       "\n",
       "data:  price and store \n",
       "\n",
       "       storeA storeB storeC\n",
       "storeB 0.033  -      -     \n",
       "storeC 0.035  0.695  -     \n",
       "storeD 0.012  0.245  0.110 \n",
       "\n",
       "P value adjustment method: none "
      ]
     },
     "metadata": {},
     "output_type": "display_data"
    }
   ],
   "source": [
    "with(groc_long, pairwise.t.test(x=price, g=store, p.adjust.method=\"none\", paired=T))"
   ]
  },
  {
   "cell_type": "markdown",
   "metadata": {},
   "source": [
    "The `pairwise.t.test` suggests that store A has significantly different prices than other stores. "
   ]
  },
  {
   "cell_type": "markdown",
   "metadata": {},
   "source": [
    "---\n",
    "\n",
    "### Unequal Samples Sizes in Anova:\n",
    "\n",
    "The only practical issue in one-way ANOVA is that very unequal sample sizes can affect the \n",
    "homogeneity of variance assumption.  \n",
    "ANOVA is considered robust to moderate departures from this assumption, \n",
    "but the departure needs to stay smaller when the sample sizes are very different.  \n",
    "According to Keppel (1993), there isn’t a good rule of thumb for the point at which \n",
    "unequal sample sizes make heterogeneity of variance a problem.\n",
    "\n",
    "Real issues with unequal sample sizes do occur in factorial ANOVA, \n",
    "if the sample sizes are confounded in the two (or more) factors.  \n",
    "For example, in a two-way ANOVA, \n",
    "let’s say that your two independent variables (factors) are age (young vs. old) and marital status (married vs. not).  \n",
    "If there are twice as many young people as old and the young group has a much larger percentage of \n",
    "singles than the older group, the effect of marital status cannot be distinguished from the effect of age.\n",
    "\n",
    "The effectiveness of the statistical test (sometimes referred to as _power_) is based on the smallest sample size, \n",
    "so while it doesn’t hurt power to have more observations in the larger group, it doesn’t help either."
   ]
  },
  {
   "cell_type": "markdown",
   "metadata": {},
   "source": [
    "#### The Problem of Confounding\n",
    "\n",
    "Whether by design, accident, or necessity, the number of subjects in each of the conditions \n",
    "in an experiment may not be equal. \n",
    "For example, the sample sizes for the \"Bias Against Associates of the Obese\" case study are shown in Table 1. \n",
    "Although the sample sizes were approximately equal, the \"Acquaintance Typical\" condition had the most subjects. Since _n_ is used to refer to the sample size of an individual group, \n",
    "designs with unequal sample sizes are sometimes referred to as designs with unequal n.\n",
    "\n",
    "<img src=\"../images/table_1.PNG\">\n"
   ]
  },
  {
   "cell_type": "markdown",
   "metadata": {},
   "source": [
    "We consider an absurd design to illustrate the main problem caused by unequal n. \n",
    "\n",
    "Suppose an experimenter were interested in the effects of diet and exercise on cholesterol. \n",
    "The sample sizes are shown in Table 2.\n",
    "\n",
    "<img src=\"../images/table_2.PNG\">"
   ]
  },
  {
   "cell_type": "markdown",
   "metadata": {},
   "source": [
    "What makes this example absurd is that there are no subjects in either the \n",
    "\"Low-Fat No-Exercise\" condition or the \"High-Fat Moderate-Exercise\" condition. \n",
    "The hypothetical data showing change in cholesterol are shown in Table 3.\n",
    "\n",
    "<img src=\"../images/table_3.PNG\">"
   ]
  },
  {
   "cell_type": "markdown",
   "metadata": {},
   "source": [
    "The last column shows the mean change in cholesterol for the two Diet conditions, \n",
    "whereas the last row shows the mean change in cholesterol for the two Exercise conditions. \n",
    "The value of -15 in the lower-right-most cell in the table is the mean of all subjects.\n",
    "\n",
    "We see from the last column that those on the low-fat diet lowered their cholesterol an average of 25 units, \n",
    "whereas those on the high-fat diet lowered theirs by only an average of 5 units. \n",
    "However, there is no way of knowing whether the difference is due to diet or to exercise since every \n",
    "subject in the low-fat condition was in the moderate-exercise condition and every subject \n",
    "in the high-fat condition was in the no-exercise condition. \n",
    "Therefore, Diet and Exercise are completely confounded. \n",
    "The problem with unequal n is that it causes confounding."
   ]
  },
  {
   "cell_type": "markdown",
   "metadata": {},
   "source": [
    "#### Weighted and Unweighted Means\n",
    "\n",
    "The difference between weighted and unweighted means is a difference critical for \n",
    "understanding how to deal with the confounding resulting from unequal n.\n",
    "\n",
    "Weighted and unweighted means will be explained using the data shown in Table 4. \n",
    "Here, Diet and Exercise are confounded because 80% of the subjects in the low-fat \n",
    "condition exercised as compared to 20% of those in the high-fat condition. \n",
    "However, there is not complete confounding as there was with the data in Table 3.\n",
    "\n",
    "The weighted mean for \"Low Fat\" is computed as the mean of the \"Low-Fat Moderate-Exercise\" \n",
    "mean and the \"Low-Fat No-Exercise\" mean, weighted in accordance with sample size.\n",
    "To compute a weighted mean, you multiply each mean by its sample size and divide by N, \n",
    "the total number of observations. \n",
    "Since there are four subjects in the \"Low-Fat Moderate-Exercise\" condition and one \n",
    "subject in the \"Low-Fat No-Exercise\" condition, \n",
    "the means are weighted by factors of 4 and 1 as shown below, where $M_w$ is the weighted mean.\n",
    "\n",
    "<img src=\"../images/a.PNG\">"
   ]
  },
  {
   "cell_type": "markdown",
   "metadata": {},
   "source": [
    "The weighted mean for the low-fat condition is also the mean of all five scores in this condition. \n",
    "Thus if you ignore the factor \"Exercise,\" you are implicitly computing weighted means.\n",
    "\n",
    "The unweighted mean for the low-fat condition ($M_u$) is simply the mean of the two means.\n",
    "\n",
    "<img src=\"../images/b.PNG\">\n",
    "\n",
    "<img src=\"../images/table_4.PNG\">"
   ]
  },
  {
   "cell_type": "markdown",
   "metadata": {},
   "source": [
    "One way to evaluate the main effect of Diet is to compare the weighted mean for the \n",
    "low-fat diet (-26) with the weighted mean for the high-fat diet (-4). \n",
    "This difference of -22 is called \"the effect of diet ignoring exercise\" and is misleading since \n",
    "most of the low-fat subjects exercised and most of the high-fat subjects did not. \n",
    "However, the difference between the unweighted means of -15.625 (-23.750 minus -8.125) is not \n",
    "affected by this confounding and is therefore a better measure of the main effect. \n",
    "In short, weighted means ignore the effects of other variables (exercise in this example) and result in confounding; \n",
    "unweighted means control for the effect of other variables and therefore eliminate the confounding.\n",
    "\n"
   ]
  },
  {
   "cell_type": "markdown",
   "metadata": {},
   "source": [
    "#### Types of Sums of Squares\n",
    "\n",
    "In multi-factor ANOVA when there are unequal sample sizes the sum of squares total is not equal \n",
    "to the sum of the sums of squares for all the other sources of variation. \n",
    "This is because the confounded sums of squares are not apportioned to any source of variation. \n",
    "For the data in Table 4, the sum of squares for Diet is 390.625, the sum of squares for Exercise is 180.625, \n",
    "and the sum of squares confounded between these two factors is 819.375 \n",
    "(the calculation of this value is beyond the scope of this discussion). \n",
    "\n",
    "In the ANOVA Summary Table shown in Table 5, this large portion of the sums of squares is not \n",
    "apportioned to any source of variation and represents the \"missing\" sums of squares. \n",
    "That is, if you add up the sums of squares for Diet, Exercise, D x E, and Error, you get 902.625. \n",
    "If you add the confounded sum of squares of 819.375 to this value, you get the total sum of squares of 1722.000. When confounded sums of squares are not apportioned to any source of variation, \n",
    "the sums of squares are called _Type III sums of squares_. \n",
    "Type III sums of squares are, by far, the most common and if sums of squares are not otherwise labeled, \n",
    "it can safely be assumed that they are Type III.\n",
    "\n",
    "<img src=\"../images/table_5.PNG\">"
   ]
  },
  {
   "cell_type": "markdown",
   "metadata": {},
   "source": [
    "When all confounded sums of squares are apportioned to sources of variation, \n",
    "the sums of squares are called _Type I_ sums of squares. \n",
    "The order in which the confounded sums of squares are apportioned is determined \n",
    "by the order in which the effects are listed. \n",
    "The first effect gets any sums of squares confounded between it and any of the other effects. \n",
    "The second gets the sums of squares confounded between it and subsequent effects, \n",
    "but not confounded with the first effect, etc. \n",
    "The Type I sums of squares are shown in Table 6. \n",
    "As you can see, with Type I sums of squares, the sum of all sums of squares is the total sum of squares.\n",
    "\n",
    "<img src=\"../images/table_6.PNG\">"
   ]
  },
  {
   "cell_type": "markdown",
   "metadata": {},
   "source": [
    "In _Type II_ sums of squares, sums of squares confounded between main effects are not apportioned to any source of variation,\n",
    "whereas sums of squares confounded between main effects and interactions are apportioned to the main effects.\n",
    "In our example, there is no confounding between the D x E interaction and either of the main effects. \n",
    "Therefore, the Type II sums of squares are equal to the Type III sums of squares."
   ]
  },
  {
   "cell_type": "markdown",
   "metadata": {},
   "source": [
    "#### Which Type of Sums of Squares to Use\n",
    "\n",
    "Type I sums of squares allow the variance confounded between two main effects to be apportioned to one of the main effects. \n",
    "Unless there is a strong argument for how the confounded variance should be apportioned \n",
    "(which is rarely, if ever, the case), Type I sums of squares are not recommended.\n",
    "\n",
    "There is not a consensus about whether Type II or Type III sums of squares is to be preferred. \n",
    "On the one hand, if there is no interaction, then Type II sums of squares will be more powerful for two reasons: \n",
    "(1) variance confounded between the main effect and interaction is properly assigned to the main effect and \n",
    "(2) weighting the means by sample sizes gives better estimates of the effects. \n",
    "To take advantage of the greater power of Type II sums of squares, \n",
    "some have suggested that if the interaction is not significant, then Type II sums of squares should be used. \n",
    "Maxwell and Delaney (2003) caution that such an approach could result in a Type II error in the test of the interaction. \n",
    "That is, it could lead to the conclusion that there is no interaction in the population when there really is one. This, in turn, would increase the Type I error rate for the test of the main effect. \n",
    "As a result, their general recommendation is to use Type III sums of squares."
   ]
  },
  {
   "cell_type": "markdown",
   "metadata": {},
   "source": [
    "Maxwell and Delaney (2003) recognized that some researchers prefer Type II sums of squares when there are strong \n",
    "theoretical reasons to suspect a lack of interaction and the p-value is much higher than the typical α level of 0.05. \n",
    "However, this argument for the use of Type II sums of squares is not entirely convincing. \n",
    "As Tukey (1991) and others have argued, it is doubtful that any effect, whether a main effect or an interaction, \n",
    "is exactly 0 in the population. \n",
    "Incidentally, Tukey argued that the role of significance testing is to determine whether a confident \n",
    "conclusion can be made about the direction of an effect, not simply to conclude that an effect is not exactly 0.\n",
    "\n",
    "Finally, if one assumes that there is no interaction, then an ANOVA model with no interaction term should be used rather than Type II sums of squares in a model that includes an interaction term. \n",
    "(Models without interaction terms are beyond this course material).\n"
   ]
  },
  {
   "cell_type": "markdown",
   "metadata": {},
   "source": [
    "There are situations in which Type II sums of squares are justified even if there is strong interaction. \n",
    "This is the case because the hypotheses tested by Type II and Type III sums of squares are different, \n",
    "and the choice of which to use should be guided by which hypothesis is of interest. \n",
    "Recall that Type II sums of squares weight cells based on their sample sizes whereas Type III sums of squares weight all cells the same. \n",
    "Consider Figure 1 which shows data from a hypothetical A(2) x B(2) design. \n",
    "The sample sizes are shown numerically and are represented graphically by the areas of the endpoints.\n",
    "\n",
    "<img src=\"../images/figure_1.PNG\">\n"
   ]
  },
  {
   "cell_type": "markdown",
   "metadata": {},
   "source": [
    "First, let's consider the hypothesis for the main effect of B tested by the Type III sums of squares. \n",
    "Type III sums of squares weight the means equally and, for these data, the marginal means for b1 and b2 are equal:\n",
    "\n",
    "<img src=\"../images/c.PNG\">"
   ]
  },
  {
   "cell_type": "markdown",
   "metadata": {},
   "source": [
    "Thus, there is no main effect of B when tested using Type III sums of squares. \n",
    "For Type II sums of squares, the means are weighted by sample size.\n",
    "\n",
    "<img src=\"../images/d.PNG\">\n"
   ]
  },
  {
   "cell_type": "markdown",
   "metadata": {},
   "source": [
    "Since the weighted marginal mean for b2 is larger than the weighted marginal mean for b1, \n",
    "there is a main effect of B when tested using Type II sums of squares.\n",
    "\n",
    "The Type II and Type III analyses are testing different hypotheses. \n",
    "First, let's consider the case in which the differences in sample sizes arise because in the sampling of intact groups, \n",
    "the sample cell sizes reflect the population cell sizes (at least approximately). \n",
    "In this case, it makes sense to weight some means more than others and conclude that there is a main effect of B. \n",
    "This is the result obtained with Type II sums of squares. \n",
    "However, if the sample size differences arose from random assignment, \n",
    "and there just happened to be more observations in some cells than others, \n",
    "then one would want to estimate what the main effects would have been with equal sample sizes and, \n",
    "therefore, weight the means equally. \n",
    "With the means weighted equally, there is no main effect of B, the result obtained with Type III sums of squares."
   ]
  },
  {
   "cell_type": "markdown",
   "metadata": {},
   "source": [
    "#### Unweighted Means Analysis\n",
    "\n",
    "Type III sums of squares are tests of differences in unweighted means. \n",
    "However, there is an alternative method to testing the same hypotheses tested using Type III sums of squares. \n",
    "This method, _unweighted means analysis_, is computationally simpler than the standard method\n",
    "but is an approximate test rather than an exact test. \n",
    "It is, however, a very good approximation in all but extreme cases. \n",
    "Moreover, it is exactly the same as the traditional test for effects with one degree of freedom. \n"
   ]
  },
  {
   "cell_type": "markdown",
   "metadata": {},
   "source": [
    "\n",
    "#### Causes of Unequal Sample Sizes\n",
    "\n",
    "None of the methods for dealing with unequal sample sizes are valid if the experimental \n",
    "treatment is the source of the unequal sample sizes. \n",
    "Imagine an experiment seeking to determine whether publicly performing an embarrassing act \n",
    "would affect one's anxiety about public speaking. \n",
    "In this imaginary experiment, the experimental group is asked to reveal to a group of people \n",
    "the most embarrassing thing they have ever done. \n",
    "The control group is asked to describe what they had at their last meal. \n",
    "Twenty subjects are recruited for the experiment and randomly divided into two equal groups of 10, \n",
    "one for the experimental treatment and one for the control. \n",
    "Following their descriptions, subjects are given an attitude survey concerning public speaking. \n",
    "This seems like a valid experimental design. \n",
    "However, of the 10 subjects in the experimental group, four withdrew from the experiment \n",
    "because they did not wish to publicly describe an embarrassing situation. \n",
    "None of the subjects in the control group withdrew. \n",
    "Even if the data analysis were to show a significant effect, \n",
    "it would not be valid to conclude that the treatment had an effect because a likely alternative \n",
    "explanation cannot be ruled out; namely, \n",
    "subjects who were willing to describe an embarrassing situation differed from those who were not. \n",
    "Thus, the differential dropout rate destroyed the random assignment of subjects to conditions, \n",
    "a critical feature of the experimental design. \n",
    "No amount of statistical adjustment can compensate for this flaw.\n",
    "\n",
    "\n",
    "reference: http://onlinestatbook.com/2/analysis_of_variance/unequal.html"
   ]
  },
  {
   "cell_type": "markdown",
   "metadata": {},
   "source": [
    "---\n",
    "\n",
    "Let's look at a dataset with unequal sample sizes..."
   ]
  },
  {
   "cell_type": "code",
   "execution_count": 36,
   "metadata": {},
   "outputs": [
    {
     "data": {
      "text/html": [
       "<table class=\"dataframe\">\n",
       "<caption>A data.frame: 6 × 2</caption>\n",
       "<thead>\n",
       "\t<tr><th></th><th scope=col>Y</th><th scope=col>Site</th></tr>\n",
       "\t<tr><th></th><th scope=col>&lt;dbl&gt;</th><th scope=col>&lt;fct&gt;</th></tr>\n",
       "</thead>\n",
       "<tbody>\n",
       "\t<tr><th scope=row>1</th><td>34</td><td>site1</td></tr>\n",
       "\t<tr><th scope=row>2</th><td>25</td><td>site1</td></tr>\n",
       "\t<tr><th scope=row>3</th><td>27</td><td>site1</td></tr>\n",
       "\t<tr><th scope=row>4</th><td>31</td><td>site1</td></tr>\n",
       "\t<tr><th scope=row>5</th><td>26</td><td>site1</td></tr>\n",
       "\t<tr><th scope=row>6</th><td>34</td><td>site1</td></tr>\n",
       "</tbody>\n",
       "</table>\n"
      ],
      "text/latex": [
       "A data.frame: 6 × 2\n",
       "\\begin{tabular}{r|ll}\n",
       "  & Y & Site\\\\\n",
       "  & <dbl> & <fct>\\\\\n",
       "\\hline\n",
       "\t1 & 34 & site1\\\\\n",
       "\t2 & 25 & site1\\\\\n",
       "\t3 & 27 & site1\\\\\n",
       "\t4 & 31 & site1\\\\\n",
       "\t5 & 26 & site1\\\\\n",
       "\t6 & 34 & site1\\\\\n",
       "\\end{tabular}\n"
      ],
      "text/markdown": [
       "\n",
       "A data.frame: 6 × 2\n",
       "\n",
       "| <!--/--> | Y &lt;dbl&gt; | Site &lt;fct&gt; |\n",
       "|---|---|---|\n",
       "| 1 | 34 | site1 |\n",
       "| 2 | 25 | site1 |\n",
       "| 3 | 27 | site1 |\n",
       "| 4 | 31 | site1 |\n",
       "| 5 | 26 | site1 |\n",
       "| 6 | 34 | site1 |\n",
       "\n"
      ],
      "text/plain": [
       "  Y  Site \n",
       "1 34 site1\n",
       "2 25 site1\n",
       "3 27 site1\n",
       "4 31 site1\n",
       "5 26 site1\n",
       "6 34 site1"
      ]
     },
     "metadata": {},
     "output_type": "display_data"
    },
    {
     "data": {
      "text/html": [
       "<table class=\"dataframe\">\n",
       "<caption>A data.frame: 6 × 2</caption>\n",
       "<thead>\n",
       "\t<tr><th></th><th scope=col>Y</th><th scope=col>Site</th></tr>\n",
       "\t<tr><th></th><th scope=col>&lt;dbl&gt;</th><th scope=col>&lt;fct&gt;</th></tr>\n",
       "</thead>\n",
       "<tbody>\n",
       "\t<tr><th scope=row>23</th><td>33</td><td>site4</td></tr>\n",
       "\t<tr><th scope=row>24</th><td>31</td><td>site4</td></tr>\n",
       "\t<tr><th scope=row>25</th><td>27</td><td>site4</td></tr>\n",
       "\t<tr><th scope=row>26</th><td>32</td><td>site4</td></tr>\n",
       "\t<tr><th scope=row>27</th><td>33</td><td>site4</td></tr>\n",
       "\t<tr><th scope=row>28</th><td>40</td><td>site4</td></tr>\n",
       "</tbody>\n",
       "</table>\n"
      ],
      "text/latex": [
       "A data.frame: 6 × 2\n",
       "\\begin{tabular}{r|ll}\n",
       "  & Y & Site\\\\\n",
       "  & <dbl> & <fct>\\\\\n",
       "\\hline\n",
       "\t23 & 33 & site4\\\\\n",
       "\t24 & 31 & site4\\\\\n",
       "\t25 & 27 & site4\\\\\n",
       "\t26 & 32 & site4\\\\\n",
       "\t27 & 33 & site4\\\\\n",
       "\t28 & 40 & site4\\\\\n",
       "\\end{tabular}\n"
      ],
      "text/markdown": [
       "\n",
       "A data.frame: 6 × 2\n",
       "\n",
       "| <!--/--> | Y &lt;dbl&gt; | Site &lt;fct&gt; |\n",
       "|---|---|---|\n",
       "| 23 | 33 | site4 |\n",
       "| 24 | 31 | site4 |\n",
       "| 25 | 27 | site4 |\n",
       "| 26 | 32 | site4 |\n",
       "| 27 | 33 | site4 |\n",
       "| 28 | 40 | site4 |\n",
       "\n"
      ],
      "text/plain": [
       "   Y  Site \n",
       "23 33 site4\n",
       "24 31 site4\n",
       "25 27 site4\n",
       "26 32 site4\n",
       "27 33 site4\n",
       "28 40 site4"
      ]
     },
     "metadata": {},
     "output_type": "display_data"
    }
   ],
   "source": [
    "#create a sample dataset with unequal sample sizes...\n",
    "site1 <- c(34,25,27,31,26,34,21)\n",
    "site2 <- c(33,35,31,31,42,33)\n",
    "site3 <- c(17,30,30,26,32,28,26,29)\n",
    "site4 <- c(28,33,31,27,32,33,40)\n",
    "\n",
    "Data <- data.frame(\n",
    "       Y=c(site1, site2, site3, site4),\n",
    "       Site =factor(rep(c(\"site1\", \"site2\", \"site3\", \"site4\"), times=c(length(site1), length(site2), length(site3), length(site4))))\n",
    "       )\n",
    "\n",
    "head(Data)\n",
    "tail(Data)"
   ]
  },
  {
   "cell_type": "code",
   "execution_count": 37,
   "metadata": {},
   "outputs": [
    {
     "data": {
      "text/html": [
       "<table class=\"dataframe\">\n",
       "<caption>A anova: 2 × 5</caption>\n",
       "<thead>\n",
       "\t<tr><th></th><th scope=col>Df</th><th scope=col>Sum Sq</th><th scope=col>Mean Sq</th><th scope=col>F value</th><th scope=col>Pr(&gt;F)</th></tr>\n",
       "\t<tr><th></th><th scope=col>&lt;int&gt;</th><th scope=col>&lt;dbl&gt;</th><th scope=col>&lt;dbl&gt;</th><th scope=col>&lt;dbl&gt;</th><th scope=col>&lt;dbl&gt;</th></tr>\n",
       "</thead>\n",
       "<tbody>\n",
       "\t<tr><th scope=row>Site</th><td> 3</td><td>212.3452</td><td>70.78175</td><td>3.497108</td><td>0.03097911</td></tr>\n",
       "\t<tr><th scope=row>Residuals</th><td>24</td><td>485.7619</td><td>20.24008</td><td>      NA</td><td>        NA</td></tr>\n",
       "</tbody>\n",
       "</table>\n"
      ],
      "text/latex": [
       "A anova: 2 × 5\n",
       "\\begin{tabular}{r|lllll}\n",
       "  & Df & Sum Sq & Mean Sq & F value & Pr(>F)\\\\\n",
       "  & <int> & <dbl> & <dbl> & <dbl> & <dbl>\\\\\n",
       "\\hline\n",
       "\tSite &  3 & 212.3452 & 70.78175 & 3.497108 & 0.03097911\\\\\n",
       "\tResiduals & 24 & 485.7619 & 20.24008 &       NA &         NA\\\\\n",
       "\\end{tabular}\n"
      ],
      "text/markdown": [
       "\n",
       "A anova: 2 × 5\n",
       "\n",
       "| <!--/--> | Df &lt;int&gt; | Sum Sq &lt;dbl&gt; | Mean Sq &lt;dbl&gt; | F value &lt;dbl&gt; | Pr(&gt;F) &lt;dbl&gt; |\n",
       "|---|---|---|---|---|---|\n",
       "| Site |  3 | 212.3452 | 70.78175 | 3.497108 | 0.03097911 |\n",
       "| Residuals | 24 | 485.7619 | 20.24008 |       NA |         NA |\n",
       "\n"
      ],
      "text/plain": [
       "          Df Sum Sq   Mean Sq  F value  Pr(>F)    \n",
       "Site       3 212.3452 70.78175 3.497108 0.03097911\n",
       "Residuals 24 485.7619 20.24008       NA         NA"
      ]
     },
     "metadata": {},
     "output_type": "display_data"
    }
   ],
   "source": [
    "#Let's run an ANOVA on the dataset with unequal sample sizes...\n",
    "fm1 <- aov(Y~Site, data=Data)\n",
    "anova(fm1)"
   ]
  },
  {
   "cell_type": "markdown",
   "metadata": {},
   "source": [
    "### Weighted Means\n",
    "\n",
    "We can also calculate the weighted means of each site.\n",
    "\n",
    "Weighted means take into account the correlation between factors that results \n",
    "from having groups with different sample sizes. \n",
    "A weighted mean is calculated by simply adding up all of the values and dividing by the total number of values. \n",
    "Consequently, we can easily derive the weighted means for each group using our subset(data, condition), \n",
    "when necessary, and mean(data) functions."
   ]
  },
  {
   "cell_type": "code",
   "execution_count": 38,
   "metadata": {},
   "outputs": [
    {
     "data": {
      "text/html": [
       "28.2857142857143"
      ],
      "text/latex": [
       "28.2857142857143"
      ],
      "text/markdown": [
       "28.2857142857143"
      ],
      "text/plain": [
       "[1] 28.28571"
      ]
     },
     "metadata": {},
     "output_type": "display_data"
    },
    {
     "data": {
      "text/html": [
       "34.1666666666667"
      ],
      "text/latex": [
       "34.1666666666667"
      ],
      "text/markdown": [
       "34.1666666666667"
      ],
      "text/plain": [
       "[1] 34.16667"
      ]
     },
     "metadata": {},
     "output_type": "display_data"
    },
    {
     "data": {
      "text/html": [
       "27.25"
      ],
      "text/latex": [
       "27.25"
      ],
      "text/markdown": [
       "27.25"
      ],
      "text/plain": [
       "[1] 27.25"
      ]
     },
     "metadata": {},
     "output_type": "display_data"
    },
    {
     "data": {
      "text/html": [
       "32"
      ],
      "text/latex": [
       "32"
      ],
      "text/markdown": [
       "32"
      ],
      "text/plain": [
       "[1] 32"
      ]
     },
     "metadata": {},
     "output_type": "display_data"
    }
   ],
   "source": [
    "#use mean(data) to calculate the weighted means for each treatment group. \n",
    "#Since we created subsets above when we made our dataset, we don't have to use the subset function.\n",
    "#site 1 weighted mean\n",
    "mean(site1)\n",
    "#site 2 weighted mean\n",
    "mean(site2)\n",
    "#site 3 weighted mean\n",
    "mean(site3)\n",
    "#site 4 weighted mean\n",
    "mean(site4)"
   ]
  },
  {
   "cell_type": "markdown",
   "metadata": {},
   "source": [
    "Remember that when applying weighted means, \n",
    "it is suggested that one uses Type I sums of squares (SS) in one's ANOVA (detailed above). \n",
    "Type I happens to be the default SS used in the standard anova(object) function in *R*. "
   ]
  },
  {
   "cell_type": "markdown",
   "metadata": {},
   "source": [
    "### Unweighted Means\n",
    "\n",
    "Now let’s turn to using unweighted means, \n",
    "which essentially ignore the correlation between the independent variables that arise from unequal sample sizes. \n",
    "An unweighted mean is calculated by taking the average of the individual group means. \n",
    "Thus, we can derive our unweighted means by summing the means of each level of our independent \n",
    "variables and dividing by the total number of levels. "
   ]
  },
  {
   "cell_type": "code",
   "execution_count": 39,
   "metadata": {},
   "outputs": [
    {
     "data": {
      "text/html": [
       "30.4255952380952"
      ],
      "text/latex": [
       "30.4255952380952"
      ],
      "text/markdown": [
       "30.4255952380952"
      ],
      "text/plain": [
       "[1] 30.4256"
      ]
     },
     "metadata": {},
     "output_type": "display_data"
    }
   ],
   "source": [
    "#use mean(data) and subset(data, condition) to calculate the unweighted means for each treatment group\n",
    "(mean(site1) + mean(site2) + mean(site3) + mean(site4)) / 4\n"
   ]
  },
  {
   "cell_type": "markdown",
   "metadata": {},
   "source": [
    "Remember, when applying unweighted means, it is suggested that we use Type III sums of squares (SS) (discussed above) in our ANOVA. \n",
    "Type III SS can be set using the `type` argument in the `Anova(mod, type)` function, \n",
    "which is a member of the `car` package."
   ]
  },
  {
   "cell_type": "code",
   "execution_count": 40,
   "metadata": {},
   "outputs": [
    {
     "name": "stderr",
     "output_type": "stream",
     "text": [
      "Loading required package: carData\n",
      "\n"
     ]
    }
   ],
   "source": [
    "library(car)"
   ]
  },
  {
   "cell_type": "code",
   "execution_count": 41,
   "metadata": {},
   "outputs": [],
   "source": [
    "help(Anova)"
   ]
  },
  {
   "cell_type": "code",
   "execution_count": 42,
   "metadata": {},
   "outputs": [
    {
     "data": {
      "text/html": [
       "<table class=\"dataframe\">\n",
       "<caption>A anova: 2 × 4</caption>\n",
       "<thead>\n",
       "\t<tr><th></th><th scope=col>Sum Sq</th><th scope=col>Df</th><th scope=col>F value</th><th scope=col>Pr(&gt;F)</th></tr>\n",
       "\t<tr><th></th><th scope=col>&lt;dbl&gt;</th><th scope=col>&lt;dbl&gt;</th><th scope=col>&lt;dbl&gt;</th><th scope=col>&lt;dbl&gt;</th></tr>\n",
       "</thead>\n",
       "<tbody>\n",
       "\t<tr><th scope=row>Site</th><td>212.3452</td><td> 3</td><td>3.497108</td><td>0.03097911</td></tr>\n",
       "\t<tr><th scope=row>Residuals</th><td>485.7619</td><td>24</td><td>      NA</td><td>        NA</td></tr>\n",
       "</tbody>\n",
       "</table>\n"
      ],
      "text/latex": [
       "A anova: 2 × 4\n",
       "\\begin{tabular}{r|llll}\n",
       "  & Sum Sq & Df & F value & Pr(>F)\\\\\n",
       "  & <dbl> & <dbl> & <dbl> & <dbl>\\\\\n",
       "\\hline\n",
       "\tSite & 212.3452 &  3 & 3.497108 & 0.03097911\\\\\n",
       "\tResiduals & 485.7619 & 24 &       NA &         NA\\\\\n",
       "\\end{tabular}\n"
      ],
      "text/markdown": [
       "\n",
       "A anova: 2 × 4\n",
       "\n",
       "| <!--/--> | Sum Sq &lt;dbl&gt; | Df &lt;dbl&gt; | F value &lt;dbl&gt; | Pr(&gt;F) &lt;dbl&gt; |\n",
       "|---|---|---|---|---|\n",
       "| Site | 212.3452 |  3 | 3.497108 | 0.03097911 |\n",
       "| Residuals | 485.7619 | 24 |       NA |         NA |\n",
       "\n"
      ],
      "text/plain": [
       "          Sum Sq   Df F value  Pr(>F)    \n",
       "Site      212.3452  3 3.497108 0.03097911\n",
       "Residuals 485.7619 24       NA         NA"
      ]
     },
     "metadata": {},
     "output_type": "display_data"
    }
   ],
   "source": [
    "# Recall above:  \n",
    "#  fm1 <- aov(Y~Site, data=Data) # internally builds a linear model\n",
    "fm2 <- lm(Y~Site, data=Data)\n",
    "Anova(fm2, type=\"II\")"
   ]
  },
  {
   "cell_type": "code",
   "execution_count": 43,
   "metadata": {},
   "outputs": [
    {
     "data": {
      "text/html": [
       "<table class=\"dataframe\">\n",
       "<caption>A anova: 3 × 4</caption>\n",
       "<thead>\n",
       "\t<tr><th></th><th scope=col>Sum Sq</th><th scope=col>Df</th><th scope=col>F value</th><th scope=col>Pr(&gt;F)</th></tr>\n",
       "\t<tr><th></th><th scope=col>&lt;dbl&gt;</th><th scope=col>&lt;dbl&gt;</th><th scope=col>&lt;dbl&gt;</th><th scope=col>&lt;dbl&gt;</th></tr>\n",
       "</thead>\n",
       "<tbody>\n",
       "\t<tr><th scope=row>(Intercept)</th><td>5600.5714</td><td> 1</td><td>276.706990</td><td>1.118789e-14</td></tr>\n",
       "\t<tr><th scope=row>Site</th><td> 212.3452</td><td> 3</td><td>  3.497108</td><td>3.097911e-02</td></tr>\n",
       "\t<tr><th scope=row>Residuals</th><td> 485.7619</td><td>24</td><td>        NA</td><td>          NA</td></tr>\n",
       "</tbody>\n",
       "</table>\n"
      ],
      "text/latex": [
       "A anova: 3 × 4\n",
       "\\begin{tabular}{r|llll}\n",
       "  & Sum Sq & Df & F value & Pr(>F)\\\\\n",
       "  & <dbl> & <dbl> & <dbl> & <dbl>\\\\\n",
       "\\hline\n",
       "\t(Intercept) & 5600.5714 &  1 & 276.706990 & 1.118789e-14\\\\\n",
       "\tSite &  212.3452 &  3 &   3.497108 & 3.097911e-02\\\\\n",
       "\tResiduals &  485.7619 & 24 &         NA &           NA\\\\\n",
       "\\end{tabular}\n"
      ],
      "text/markdown": [
       "\n",
       "A anova: 3 × 4\n",
       "\n",
       "| <!--/--> | Sum Sq &lt;dbl&gt; | Df &lt;dbl&gt; | F value &lt;dbl&gt; | Pr(&gt;F) &lt;dbl&gt; |\n",
       "|---|---|---|---|---|\n",
       "| (Intercept) | 5600.5714 |  1 | 276.706990 | 1.118789e-14 |\n",
       "| Site |  212.3452 |  3 |   3.497108 | 3.097911e-02 |\n",
       "| Residuals |  485.7619 | 24 |         NA |           NA |\n",
       "\n"
      ],
      "text/plain": [
       "            Sum Sq    Df F value    Pr(>F)      \n",
       "(Intercept) 5600.5714  1 276.706990 1.118789e-14\n",
       "Site         212.3452  3   3.497108 3.097911e-02\n",
       "Residuals    485.7619 24         NA           NA"
      ]
     },
     "metadata": {},
     "output_type": "display_data"
    }
   ],
   "source": [
    "Anova(fm2, type=\"III\")"
   ]
  },
  {
   "cell_type": "markdown",
   "metadata": {},
   "source": [
    "### Tests Supplementing ANOVA:\n",
    "\n",
    "The null hypothesis tested in a one-factor ANOVA is that all the population means are equal. \n",
    "Stated more formally,\n",
    "\n",
    "<img src=\"../images/e.PNG\">\n",
    "\n",
    "where $H_0$ is the null hypothesis and $k$ is the number of conditions. \n",
    "When the null hypothesis is rejected, \n",
    "all that can be said is that at least one population mean is different from at least one other population mean.\n",
    "The methods for doing more specific tests to described _all pairwise comparisons among means_ apply here. \n",
    "Keep in mind that these tests are valid whether or not they are preceded by an ANOVA.\n"
   ]
  },
  {
   "cell_type": "markdown",
   "metadata": {},
   "source": [
    "#### Main Effects\n",
    "\n",
    "As shown below, significant main effects in multi-factor designs can be followed up\n",
    "in the same way as significant effects in one-way designs. \n",
    "Table 1 shows the data from an imaginary experiment with three levels of Factor A and two levels of Factor B.\n",
    "\n",
    "<img src=\"../images/table1_2.PNG\">\n"
   ]
  },
  {
   "cell_type": "markdown",
   "metadata": {},
   "source": [
    "Table 2 shows the ANOVA Summary Table for these data. \n",
    "The significant main effect of A indicates that, in the population, \n",
    "at least one of the marginal means for A is different from at least one of the others.\n",
    "\n",
    "<img src=\"../images/table2_2.PNG\">"
   ]
  },
  {
   "cell_type": "markdown",
   "metadata": {},
   "source": [
    "The Tukey HSD test can be used to test all pairwise comparisons among means in a one-factor \n",
    "ANOVA as well as comparisons among marginal means in a multi-factor ANOVA. \n",
    "The formula for the equal-sample-size case is shown below.\n",
    "\n",
    "<img src=\"../images/f.PNG\">\n"
   ]
  },
  {
   "cell_type": "markdown",
   "metadata": {},
   "source": [
    "where $M_i$ and $M_j$ are marginal means, MSE is the mean square error from the ANOVA, \n",
    "and $n$ is the number of scores each mean is based upon. \n",
    "For this example, MSE = 1.847 and $n = 8$ because there are eight scores at each level of A. \n",
    "\n",
    "The degrees of freedom is equal to the degrees of freedom error. \n",
    "For this example, $df = 18$. \n",
    "The results of the Tukey HSD test are shown in Table 3. \n",
    "The mean for $A_1$ is significantly lower than the mean for $A_2$ and the mean for $A_3$. \n",
    "The means for $A_2$ and $A_3$ are not significantly different.\n",
    "\n",
    "<img src=\"../images/table3_2.PNG\">"
   ]
  },
  {
   "cell_type": "markdown",
   "metadata": {},
   "source": [
    "Specific comparisons among means are also carried out much the same way as shown in the \n",
    "relevant section on testing means. The formula for L is\n",
    "\n",
    "<img src=\"../images/g.PNG\">\n"
   ]
  },
  {
   "cell_type": "markdown",
   "metadata": {},
   "source": [
    "\n",
    "where $c_i$ is the coefficient for the $i^{th}$ marginal mean and $M_i$ is the $i^{th}$ marginal mean. \n",
    "For example, to compare $A_1$ with the average of $A_2$ and $A_3$, \n",
    "the coefficients would be 1, -0.5, -0.5. Therefore,\n",
    "\n",
    "<img src=\"../images/h.PNG\">\n",
    "\n",
    "To compute $t$, use:\n",
    "\n",
    "<img src=\"../images/i.PNG\">\n",
    "\n",
    "where MSE is the mean square error from the ANOVA and $n$ is the number of scores each \n",
    "marginal mean is based on (eight in this example). \n",
    "The degrees of freedom is the degrees of freedom error from the ANOVA and is equal to 18. \n",
    "We would find that the two-tailed probability value is 0.0005. \n",
    "Therefore, the difference between $A_1$ and the average of $A_2$ and $A_3$ is significant.\n",
    "\n"
   ]
  },
  {
   "cell_type": "markdown",
   "metadata": {},
   "source": [
    "#### Interactions\n",
    "\n",
    "The presence of a significant interaction makes the interpretation of the results more complicated. \n",
    "Since an interaction implies that the simple effects are different, \n",
    "the main effect as the mean of the simple effects does not tell the whole story. \n",
    "This section discusses how to describe interactions, \n",
    "proper and improper uses of simple effects tests, and how to test components of interactions."
   ]
  },
  {
   "cell_type": "markdown",
   "metadata": {},
   "source": [
    "##### Describing Interactions\n",
    "\n",
    "A crucial first step in understanding a significant interaction is constructing an interaction plot. \n",
    "Figure 1 shows an interaction plot from data presented in the section on Multi-Factor ANOVA.\n",
    "\n",
    "<img src=\"../images/figure1_2.PNG\">"
   ]
  },
  {
   "cell_type": "markdown",
   "metadata": {},
   "source": [
    "The second step is to describe the interaction in a clear and understandable way. \n",
    "This is often done by describing how the simple effects differed. \n",
    "Since this should be done using as little jargon as possible, \n",
    "the expression \"simple effect\" need not appear in the description. \n",
    "An example is as follows:\n",
    "\n",
    "The effect of Outcome differed depending on the subject's self-esteem. \n",
    "The difference between the attribution to self following success and the attribution to \n",
    "self following failure was larger for high-self-esteem subjects (mean difference = 2.50) \n",
    "than for low-self-esteem subjects (mean difference = -2.33).\n",
    "\n",
    "No further analyses are helpful in understanding the interaction since the interaction \n",
    "means only that the simple effects differ. \n",
    "The interaction's significance indicates that the simple effects differ from each other, \n",
    "but provides no information about whether they differ from zero.\n"
   ]
  },
  {
   "cell_type": "markdown",
   "metadata": {},
   "source": [
    "#### Simple Effect Tests\n",
    "\n",
    "It is not necessary to know whether the simple effects differ from zero in order to understand \n",
    "an interaction because the question of whether simple effects differ from zero has nothing to \n",
    "do with interaction except that if they are both zero there is no interaction. \n",
    "It is not uncommon to see research articles in which the authors report that they analyzed \n",
    "simple effects in order to explain the interaction. \n",
    "However, this is not a valid approach since an interaction does not depend on the analysis of the simple effects.\n",
    "\n",
    "However, there is a reason to test simple effects following a significant interaction. \n",
    "Since an interaction indicates that simple effects differ, it means that the main effects are not general. \n",
    "In the made-up example, the main effect of Outcome is not very informative, \n",
    "and the effect of outcome should be considered separately for high- and low-self-esteem subjects.\n",
    "As will be seen, the simple effects of Outcome are significant and in opposite directions: \n",
    "Success significantly increases attribution to self for high-self-esteem subjects and \n",
    "significantly lowers attribution to self for low-self-esteem subjects. \n",
    "This is a very easy result to interpret."
   ]
  },
  {
   "cell_type": "markdown",
   "metadata": {},
   "source": [
    "--- \n",
    "How can the simple effects both be zero if they differ from each other significantly as tested by the interaction? The answer is that a non-significant simple effect does not mean that the simple effect is zero: \n",
    "The null hypothesis should not be accepted just because it is not rejected.\n",
    "\n",
    "If neither simple effect is significant, the conclusion should be that the simple effects differ, \n",
    "and that at least one of them is not zero. \n",
    "However, no conclusion should be drawn about which simple effect(s) is/are not zero."
   ]
  },
  {
   "cell_type": "markdown",
   "metadata": {},
   "source": [
    "\n",
    "Another error that can be made by mistakenly accepting the null hypothesis is to conclude that \n",
    "two simple effects are different because one is significant and the other is not. \n",
    "\n",
    "Consider the results of an imaginary experiment in which the researcher hypothesized that \n",
    "addicted people would show a larger increase in brain activity following some treatment \n",
    "than would non-addicted people. \n",
    "In other words, the researcher hypothesized that addiction status and treatment would interact. \n",
    "The results shown in Figure 2 are very much in line with the hypothesis. \n",
    "However, the test of the interaction resulted in a probability value of 0.08, \n",
    "a value not quite low enough to be significant at the conventional 0.05 level. \n",
    "The proper conclusion is that the experiment supports the researcher's hypothesis, \n",
    "but not strongly enough to allow a confident conclusion.\n",
    "\n",
    "<img src=\"../images/figure2_2.PNG\">"
   ]
  },
  {
   "cell_type": "markdown",
   "metadata": {},
   "source": [
    "Unfortunately, the researcher was not satisfied with such a weak conclusion and went on to test the simple effects. \n",
    "It turned out that the effect of Treatment was significant for the Addicted group (p = 0.02) \n",
    "but not significant for the Non-Addicted group (p = 0.09). \n",
    "The researcher then went on to conclude that since there is an effect of Treatment for the Addicted group \n",
    "but not for the Non-Addicted group, the hypothesis of a greater effect for the former than for the latter group is demonstrated. \n",
    "This is faulty logic, however, since it is based on accepting the null hypothesis that the simple \n",
    "effect of Treatment is zero for the Non-Addicted group just because it is not significant.\n"
   ]
  },
  {
   "cell_type": "markdown",
   "metadata": {},
   "source": [
    "\n",
    "#### Components of Interaction \n",
    "\n",
    "Figure 3 shows the results of an imaginary experiment on diet and weight loss. \n",
    "A control group and two diets were used for both overweight teens and overweight adults.\n",
    "\n",
    "<img src=\"../images/figure3_2.PNG\">\n",
    "\n",
    "The difference between Diet A and the Control diet was essentially the same for teens and adults, \n",
    "whereas the difference between Diet B and Diet A was much larger for the teens than it was for the adults. \n",
    "Over one portion of the graph the lines are parallel whereas over another portion they are not. \n",
    "It is possible to test these portions or components of interactions using the method of specific \n",
    "comparisons discussed previously. \n",
    "The test of the difference between Teens and Adults on the difference between Diets A and B \n",
    "could be tested with the coefficients shown in Table 4. \n",
    "Naturally, the same considerations regarding multiple comparisons and orthogonal comparisons \n",
    "that apply to other comparisons among means also apply to comparisons involving components of interactions.\n",
    "\n",
    "<img src=\"../images/table4_2.PNG\">\n",
    "\n",
    "---\n"
   ]
  }
 ],
 "metadata": {
  "kernelspec": {
   "display_name": "R",
   "language": "R",
   "name": "ir"
  },
  "language_info": {
   "codemirror_mode": "r",
   "file_extension": ".r",
   "mimetype": "text/x-r-source",
   "name": "R",
   "pygments_lexer": "r",
   "version": "4.0.5"
  }
 },
 "nbformat": 4,
 "nbformat_minor": 1
}
