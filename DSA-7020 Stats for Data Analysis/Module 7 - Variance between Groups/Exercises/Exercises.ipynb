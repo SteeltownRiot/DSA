{
 "cells": [
  {
   "cell_type": "markdown",
   "metadata": {},
   "source": [
    "## Variance Across Groups Exercises\n",
    "\n",
    "There are many ways of doing feature reduction/extraction. \n",
    "We have seen how correlation between two variables can be used to exclude the features from a model. \n",
    "Highly correlated variables contribute less in explaining the variation in data because \n",
    "they vary in similar fashion; \n",
    "they more or less behave like same features. \n",
    "We have seen whether two features are independent or not using chi square test to see if the data in one \n",
    "feature is affecting how the data will be in other feature. \n",
    "We have seen how PCA tried to compress the data so that maximum variation in data is \n",
    "explained using minimal number of dimensions. We tried to explain the variation of data within a feature \n",
    "and between features by analyzing variance. Random forests helped us determine the importance of variables for fitting the model.\n",
    "\n",
    "In this exercise, use the techniques of module 7 and the previous modules to predict the forest cover type from the provided data set. \n",
    "\n",
    "Some of the exercises are partially complete. \n",
    "\n",
    "You have to complete the code or modify the code in order to get the desired output. \n",
    "Some of the exercises may be challenging as they might not be directly discussed in the lab or practice notebooks. \n",
    "Sufficient guidance and hints are provided for you to look up for the functions or the description is \n",
    "provided on how to solve the problem. Use this guidance for answering the questions. "
   ]
  },
  {
   "cell_type": "markdown",
   "metadata": {},
   "source": [
    "### Data\n",
    "\n",
    "The study area includes four wilderness areas located in the Roosevelt National Forest of northern Colorado. \n",
    "Each observation is a 30m x 30m patch. \n",
    "You are asked to predict an integer classification for the forest cover type. \n",
    "The seven types are:\n",
    "\n",
    "\n",
    "#### Forest cover types\n",
    "\n",
    "* Spruce/Fir\n",
    "* Lodgepole Pine\n",
    "* Ponderosa Pine\n",
    "* Cottonwood/Willow\n",
    "* Aspen\n",
    "* Douglas-fir\n",
    "* Krummholz"
   ]
  },
  {
   "cell_type": "markdown",
   "metadata": {},
   "source": [
    "#### Data Fields\n",
    "\n",
    "* Elevation - Elevation in meters\n",
    "* Aspect - Aspect in degrees azimuth\n",
    "* lope - Slope in degrees\n",
    "* Horizontal_Distance_To_Hydrology - Horz Dist to nearest surface water features\n",
    "* Vertical_Distance_To_Hydrology - Vert Dist to nearest surface water features\n",
    "* Horizontal_Distance_To_Roadways - Horz Dist to nearest roadway\n",
    "* Hillshade_9am (0 to 255 index) - Hillshade index at 9am, summer solstice\n",
    "* Hillshade_Noon (0 to 255 index) - Hillshade index at noon, summer solstice\n",
    "* Hillshade_3pm (0 to 255 index) - Hillshade index at 3pm, summer solstice\n",
    "* Horizontal_Distance_To_Fire_Points - Horz Dist to nearest wildfire ignition points\n",
    "* Wilderness_Area (4 binary columns, 0 = absence or 1 = presence) - Wilderness area designation\n",
    "* Soil_Type (40 binary columns, 0 = absence or 1 = presence) - Soil Type designation\n",
    "* Cover_Type (7 types, integers 1 to 7) - Forest Cover Type designation\n",
    "\n"
   ]
  },
  {
   "cell_type": "markdown",
   "metadata": {},
   "source": [
    "\n",
    "#### The wilderness areas are:\n",
    "\n",
    "* Rawah Wilderness Area\n",
    "* Neota Wilderness Area\n",
    "* Comanche Peak Wilderness Area\n",
    "* Cache la Poudre Wilderness Area\n",
    "\n",
    "From [kaggle.com](https://www.kaggle.com/c/forest-cover-type-prediction/data)\n",
    "\n",
    "\n"
   ]
  },
  {
   "cell_type": "markdown",
   "metadata": {},
   "source": [
    "Load the dataset from 'dsa/data/all_datasets/Forest/forest_cover.csv'"
   ]
  },
  {
   "cell_type": "code",
   "execution_count": null,
   "metadata": {},
   "outputs": [],
   "source": [
    "forest_cover = read.csv(\"/dsa/data/all_datasets/Forest/forest_cover.csv\")\n",
    "\n",
    "head(forest_cover)"
   ]
  },
  {
   "cell_type": "code",
   "execution_count": null,
   "metadata": {},
   "outputs": [],
   "source": [
    "str(forest_cover)"
   ]
  },
  {
   "cell_type": "markdown",
   "metadata": {},
   "source": [
    "The Cover_Type variables has 7 different classes of vegetation. \n",
    "Encode the coverType variable to replace the old values (1,2,3,4,5,6,7) with corresponding labels \n",
    "\n",
    "\n",
    "* 1.SpruceFir\n",
    "* 2.LodgepolePine\n",
    "* 3.PonderosaPine\n",
    "* 4.Cottonwood-Willow\n",
    "* 5.Aspen\n",
    "* 6.Douglas-fir\n",
    "* 7.Krummholz\n",
    "\n",
    "Also the columns Wilderness_Area1 through Wilderness_Area4 are mutually exclusive. \n",
    "They contain binary values, 1 if the row belongs to certain wilderness type or 0 otherwise. \n",
    "Like wise the variables soil_Type1 through soil_Type40 are mutually exclusive containing binary values. \n",
    "The column will have a 1 if soil_Type of certain type or 0 otherwise.  "
   ]
  },
  {
   "cell_type": "markdown",
   "metadata": {},
   "source": [
    "**Activity 1:** Encode the Cover_Type variable to replace the old values (1,2,3,4,5,6,7) with corresponding labels **using mapvalues() function in plyr package**."
   ]
  },
  {
   "cell_type": "code",
   "execution_count": null,
   "metadata": {},
   "outputs": [],
   "source": [
    "table(forest_cover$Cover_Type)"
   ]
  },
  {
   "cell_type": "code",
   "execution_count": null,
   "metadata": {},
   "outputs": [],
   "source": [
    "# Your code for activity 1 goes here..\n",
    "\n",
    "require(plyr) # Always load plyr package first if you have to use both plyr and dplyr. Because\n",
    "              # dplyr package will mask some of the functions in plyr.\n",
    "require(dplyr)  #Use require as it will give an error message if the package doesn't exist\n",
    "require(lubridate)\n",
    "\n",
    "forest_cover$Cover_Type <- mapvalues(forest_cover$Cover_Type, from = c(1,2,3,4,5,6,7), \n",
    "to = c(\"1.SpruceFir\",\"2.LodgepolePine\",\"3.PonderosaPine\",\"4.Cottonwood-Willow\",\"5.Aspen\",\"6.Douglas-fir\",\"7.Krummholz\"))"
   ]
  },
  {
   "cell_type": "markdown",
   "metadata": {},
   "source": [
    "`mapvalues()` with map the values in from i'e 1,2,3... \n",
    "to corresponding values in to i'e 1.SpruceFir, 2.LodgepolePine,...\n",
    "\n",
    "**Reference:**[mapvalues()](https://www.rdocumentation.org/packages/plyr/versions/1.8.4/topics/mapvalues)"
   ]
  },
  {
   "cell_type": "code",
   "execution_count": null,
   "metadata": {},
   "outputs": [],
   "source": [
    "# Run below commands for a quick brief info on the libraries on what they do.\n",
    "\n",
    "# help(lubridate)\n",
    "# help(plyr)\n",
    "# help(dplyr)"
   ]
  },
  {
   "cell_type": "markdown",
   "metadata": {},
   "source": [
    "**Activity 2:** Plot a bar graph for the observations of each Cover_Type. \n",
    "Use dplyr to first get the count of 7 cover types and normalize the count by dividing it by total rows in forest_cover dataset."
   ]
  },
  {
   "cell_type": "code",
   "execution_count": null,
   "metadata": {},
   "outputs": [],
   "source": [
    "# # Code for activity 2 goes here...\n",
    "\n",
    "library(ggplot2)\n",
    "\n",
    "# # forest_cover data is supplied to group_by() function to group the data based on Cover_Type. \n",
    "# # This 7 groups of data formed above is supplied as input to summarize() where we are getting the \n",
    "# # count of observations stored in the variable count. cover_type_ratio is created to store the \n",
    "# # ratio of cover type. \n",
    "\n",
    "coverType_count = forest_cover %>%  \n",
    "  group_by(<what goes in here>) %>%    # data is grouped according to labels (1,2,3,4,5,6,7) of cover type\n",
    "  dplyr::summarize(count = <what goes in here> %>%  # count the number of observations in each group\n",
    "  mutate(cover_type_ratio=count/sum(count)) # divide the counts obtained in above step to get the ratio.\n",
    "                                           \n",
    "# # Display the contents of the variable coverType_count\n",
    "coverType_count"
   ]
  },
  {
   "cell_type": "code",
   "execution_count": null,
   "metadata": {},
   "outputs": [],
   "source": [
    "# Code for activity 2 continues here.\n",
    "\n",
    "# plot the distribution of cover type using the dataframe \"coverType_count\" created above. \n",
    "plot<-ggplot(coverType_count, aes(<what goes in here>)) +   \n",
    "  geom_bar(stat=\"identity\") + # plot a bar graph \n",
    "  scale_y_continuous() + \n",
    "  geom_text(data=coverType_count, aes(label=count,y=<what goes in here>),size=4) + # Display the count for each category \n",
    "                    # at y position \"count(2160)+100\". This will display the value right above the bars.\n",
    "  geom_text(data=coverType_count, aes(label=<what goes in here>,y=count+200),size=4)+\n",
    "                    # Display the count percentage rounded to one decimal place at y position \"count(2160)+200\". This  \n",
    "                    # will display the ratios right above the counts printed in previous steps.          \n",
    "\n",
    "                    # You should convert the ratio 0.1428571 to 14.3% for printing in above step.\n",
    "\n",
    "  theme(axis.text.x=element_text(angle=30,hjust=1,size=8))+ # code to adjust the indices on x-axis \n",
    "                                                            # tilted. Play with the code to see what each parameter is doing.\n",
    "  ggtitle('Cover Type Distribution')\n",
    "\n",
    "plot"
   ]
  },
  {
   "cell_type": "markdown",
   "metadata": {},
   "source": [
    "The forest cover is equally distributed with 7 different types as evident from above plot. "
   ]
  },
  {
   "cell_type": "markdown",
   "metadata": {},
   "source": [
    "**Activity 3:** The names of some of the variables are too long. Modify the column names as listed."
   ]
  },
  {
   "cell_type": "code",
   "execution_count": null,
   "metadata": {},
   "outputs": [],
   "source": [
    "oldnames<-c(\"Elevation\",\"Aspect\",\"Slope\",\"Horizontal_Distance_To_Hydrology\",\"Vertical_Distance_To_Hydrology\",\n",
    "                  \"Horizontal_Distance_To_Roadways\",\"Horizontal_Distance_To_Fire_Points\",\"Hillshade_9am\",\n",
    "                  \"Hillshade_Noon\",\"Hillshade_3pm\")\n",
    "\n",
    "newnames<-c(\"Elevation\",\"Aspect\",\"Slope\",\"HD.Hydro\",\"VD.Hydro\",\"HD.Road\",\"HD.Fire\",\"HS.9am\",\"HS.noon\",\"HS.3pm\")\n",
    "\n",
    "library(data.table)\n",
    "\n",
    "# Your code for activity 3 goes here.\n",
    "\n",
    "setnames(<what goes in here>)\n",
    "\n"
   ]
  },
  {
   "cell_type": "code",
   "execution_count": null,
   "metadata": {},
   "outputs": [],
   "source": [
    "# Sanity check\n",
    "str(forest_cover)"
   ]
  },
  {
   "cell_type": "markdown",
   "metadata": {},
   "source": [
    "**Activity 4:** Create box plots for each of the variables listed above in activity 3. \n",
    "\n",
    "\n",
    "`Follow the partial code below to complete it`: \n",
    "\n",
    "The code may look little dense but its because of the for loop we are running. \n",
    "The loop will capture each plot in an array. Ignore the for loop for some time and look at the code inside. It's a regular simple box plot. \n",
    "\n",
    "Use `aes_string(y=newnames[i],x=\"Cover_Type\")` inside ggplot(). \n",
    "It means, x axis will be Cover_type and y-axis will be the variable in the list \"newnames\". \n",
    "The for loop will repeat 10 times for the 10 variables in the list to produce 10 box plots. \n",
    "\n",
    "First box plot would be between Elevation and Cover_Type\n",
    "\n",
    "Second box plot would be between Aspect and Cover_Type and so on"
   ]
  },
  {
   "cell_type": "code",
   "execution_count": null,
   "metadata": {
    "scrolled": false
   },
   "outputs": [],
   "source": [
    "# Your code for activity 4 goes here....\n",
    "\n",
    "p=list()\n",
    "for(i in 1:length(newnames)){\n",
    "  p[[i]] <- ggplot(<what goes in here>, aes_string(<what goes in here>)) + \n",
    "              <what goes in here> + \n",
    "              theme(axis.text.x=element_blank(),axis.title.x=element_blank()) # This line will keep the\n",
    "               # x-axis label and title of each plot empty.\n",
    "  }\n",
    "\n",
    "# Arrange the plots in a grid using grid.arrange() in grid.Extra package. Arrange 2 plots in a row.\n",
    "library(gridExtra)\n",
    "grid.arrange(p[[1]],p[[2]],p[[3]],p[[4]],p[[5]],p[[6]],p[[7]],p[[8]],p[[9]],p[[10]],\n",
    "    ncol=<what goes in here>) # ncol will arrange two plots in each row."
   ]
  },
  {
   "cell_type": "markdown",
   "metadata": {},
   "source": [
    "**Activity 5:** \n",
    "Find correlation between the columns 2 to 10 in forest_cover. \n",
    "The first column is ID. So ignore it. The rest of the columns have binary values. \n",
    "Use `ggcorr()` function in GGally package. \n",
    "\n",
    "**Reference:**[ggcorr()](https://briatte.github.io/ggcorr/)"
   ]
  },
  {
   "cell_type": "code",
   "execution_count": null,
   "metadata": {},
   "outputs": [],
   "source": [
    "library(GGally)"
   ]
  },
  {
   "cell_type": "code",
   "execution_count": null,
   "metadata": {},
   "outputs": [],
   "source": [
    "# Run the cell to learn more about the ggcorr() function parameters.\n",
    "help(ggcorr)"
   ]
  },
  {
   "cell_type": "code",
   "execution_count": null,
   "metadata": {},
   "outputs": [],
   "source": [
    "# Your code for activity 5 goes here....\n",
    "\n",
    "corr_plot<-ggcorr(forest_cover[<select all rows for columns 2 through 10>], .....<use the 7 parameters listed below for the plot>) \n",
    "                           # Run help(ggcorr) for documentation\n",
    "    \n",
    "# label indicates to add correlation coefficients to the plot.\n",
    "\n",
    "# label_size indicates size of the correlation coefficients\n",
    "\n",
    "# label_round : indicates how many decimals the correlation coefficiens should be rounded\n",
    "\n",
    "# label_alpha: indicates whether the correlation coefficients be made increasingly transparent as they \n",
    "# come close to 0. \n",
    "\n",
    "# hjust: will adjust the position of labels Elevation , Aspect etc horizontally from the plot. \n",
    "# Change the value to 0 and 4 to understand how it works.\n",
    "\n",
    "# size: indicates size of the labels Elevation, Aspect etc. Change the number to 10 to see how it works.\n",
    "\n",
    "# layout.exp: Its a multiplier to expand the horizontal axis to the left if variable names get clipped. \n",
    "\n",
    "\n",
    "# Plot the correlation plot created above.\n",
    "corr_plot"
   ]
  },
  {
   "cell_type": "markdown",
   "metadata": {},
   "source": [
    "--- \n",
    "\n",
    "**Activity 6:** Identify the pairs of variables which have a correlation of greater than 0.5 or less than -0.5 using above correlation plot and draw scatter plots for each pair of variables. "
   ]
  },
  {
   "cell_type": "code",
   "execution_count": null,
   "metadata": {},
   "outputs": [],
   "source": [
    "# Your code for activity 6 goes here....\n",
    "\n",
    "\n",
    "# For example, HS.noon is correlated with HS.3pm\n",
    "\n",
    "# so you will include HS.noon in this list\n",
    "corrFeature1<-c(\"HS.noon\",...<list the correlated features>) \n",
    "\n",
    "# corresponding feature HS.3pm is included in this list \n",
    "# in the same position as one to one mapping.\n",
    "corrFeature2<-c(\"HS.3pm\",...<list the corresponding features which are correlated>) \n",
    "\n",
    "# scatterTemp<-sample_n(forest_cover,10000)\n",
    "\n",
    "p=list()\n",
    "for(i in 1:length(corrFeature1)){\n",
    "  p[[i]] <- ggplot(<data here>, <aesthetic here>) +\n",
    "              geom_point(alpha=1/10)\n",
    "  }\n",
    "\n",
    "# Arrange the plots in a grid using grid.arrange() in grid.Extra package. Arrange 2 plots in a row.\n",
    "library(gridExtra)\n",
    "grid.arrange(<list all the plots>,\n",
    "    ncol=2) # ncol=2 will arrange two plots in each row.\n"
   ]
  },
  {
   "cell_type": "markdown",
   "metadata": {
    "collapsed": true
   },
   "source": [
    "The columns Wilderness_Area1, Wilderness_Area2, Wilderness_Area3, Wilderness_Area4 are mutually exclusive. That means we can fuse these columns into one column. \n",
    "\n",
    "Combine the 4 columns listed above into one single column called wildernessArea. Assign the labels Rawah, Neota, ComanchePeak, CachePoudre for each row of wildernessArea where the row belongs to one of the 4 categories."
   ]
  },
  {
   "cell_type": "code",
   "execution_count": null,
   "metadata": {},
   "outputs": [],
   "source": [
    "# Recode the Labels for the \"wildernessArea\" to one column. \n",
    "\n",
    "# Existing column names. These 4 columns have to be fused into one column called wildernessArea\n",
    "oldCols <- c(\"Wilderness_Area1\",\"Wilderness_Area2\",\"Wilderness_Area3\",\"Wilderness_Area4\")\n",
    "\n",
    "# New labels that are to be assigned to each row in wildernessArea corresponding to the category \n",
    "# of wilderness_Area it belongs\n",
    "newLabels <- c(\"Rawah\",\"Neota\",\"ComanchePeak\",\"CachePoudre\")\n",
    "\n",
    "# forest_cover is a dataframe. Convert it into a data.table to assign values using := operator.\n",
    "forest_cover=data.table(forest_cover)\n",
    "is.data.table(forest_cover) # make sure forest_cover is a data.table. \n",
    "\n",
    "for(i in 1:length(newLabels)) { # Loop for 4 times. length(newLabels) is 4. \n",
    "   refColumn<-oldCols[i] # Take the name in vector oldCols according to the loop count. oldCols[1] \n",
    "                         # will give Wilderness_Area1.\n",
    "   refValue<-newLabels[i]  # Take the name in vector newLabels according to the loop count. \n",
    "                         # newLabels[1] will give Rawah\n",
    "    \n",
    "   forest_cover<-forest_cover[get(refColumn)==1,wildernessArea:=refValue]\n",
    "}\n",
    "# get(refColumn) will return the column. For example get(refColumn) returned Wilderness_Area1.\n",
    "    # Then for every value 1 in Wilderness_Area1, wildernessArea will be assigned the value Rawah.\n",
    "    \n",
    "    # Or if get(refColumn) returned Wilderness_Area2.\n",
    "    # Then for every value 1 in Wilderness_Area2, wildernessArea will be assigned the value Neota. \n",
    "    # This will continue for remaining two columns. \n",
    "    # Finally one fused column wildernessArea with recoded values Rawah, Neota etc is formed."
   ]
  },
  {
   "cell_type": "code",
   "execution_count": null,
   "metadata": {},
   "outputs": [],
   "source": [
    "# Run the cell to understand how assignment operator(:=) works.\n",
    "help(\":=\")"
   ]
  },
  {
   "cell_type": "markdown",
   "metadata": {},
   "source": [
    "Repeat the same thing for columns Soil_Type1, Soi_Type2 and so on until Soil_Type40. Even these columns are mutually exclusive. That means we can fuse these columns into one column without losing any data. \n",
    "\n",
    "Combine the into one single column called soilType. Assign the new labels for each row of soilType where the row belongs to one of the 40 categories."
   ]
  },
  {
   "cell_type": "code",
   "execution_count": null,
   "metadata": {},
   "outputs": [],
   "source": [
    "#Recode the Lables for the \"Soil_Type\" to one column called soilType. \n",
    "newLabels<-c('Cathedral','Vanet','Haploborolis','Ratake','Vanet1','Vanet2','Gothic','Supervisor',\n",
    "             'Troutville','Bullwark1','Bullwark2','Legault','Catamount1','Pachic','unspecified',\n",
    "             'Cryaquolis','Gateview','Rogert','Typic1','Typic2','Typic3','Leighcan1','Leighcan2',\n",
    "             'Leighcan3','Leighcan4','Granile','Leighcan5','Leighcan6','Como1','Como2','Leighcan7',\n",
    "             'Catamount2','Leighcan8','Cryorthents','Cryumbrepts','Bross','Rock','Leighcan9','Moran1',\n",
    "             'Moran2')\n",
    "\n",
    "oldCols <- c(\"Soil_Type1\",\"Soil_Type2\",\"Soil_Type3\",\"Soil_Type4\",\"Soil_Type5\",\"Soil_Type6\",\"Soil_Type7\",\"Soil_Type8\",\n",
    "\"Soil_Type9\",\"Soil_Type10\",\"Soil_Type11\",\"Soil_Type12\",\"Soil_Type13\",\"Soil_Type14\",\"Soil_Type15\",\"Soil_Type16\",\n",
    "\"Soil_Type17\",\"Soil_Type18\",\"Soil_Type19\",\"Soil_Type20\",\"Soil_Type21\",\"Soil_Type22\",\"Soil_Type23\",\"Soil_Type24\",\n",
    "\"Soil_Type25\",\"Soil_Type26\",\"Soil_Type27\",\"Soil_Type28\",\"Soil_Type29\",\"Soil_Type30\",\"Soil_Type31\",\"Soil_Type32\",\n",
    "\"Soil_Type33\",\"Soil_Type34\",\"Soil_Type35\",\"Soil_Type36\",\"Soil_Type37\",\"Soil_Type38\",\"Soil_Type39\",\"Soil_Type40\")\n",
    "\n",
    "# The following code is same as previous cell.\n",
    "for(i in 1:length(newLabels)) {\n",
    "   refColumn<-oldCols[i]\n",
    "   refValue<-newLabels[i]\n",
    "   forest_cover<-forest_cover[get(refColumn)==1,soilType:=refValue]\n",
    "}\n",
    "\n",
    "\n",
    "# Remove the binary columns Wilderness_Area1, Wilderness_Area2, Wilderness_Area3, Wilderness_Area4 and \n",
    "# other 40 columns of soil type. These binary column span from 12 through 55 columns. \n",
    "# Assign the these columns to NULL to delete them.\n",
    "\n",
    "forest_cover <- forest_cover[ , colnames(forest_cover[,12:55,with=FALSE]):=NULL]\n",
    "\n",
    "# In following line of code, colnames(forest_cover[,12:55,with=FALSE]):=NULL all columns 12 through 55 are\n",
    "# assigned to NULL to delete them.\n",
    "\n",
    "# with = FALSE, means the columns 12:55 will be a character vector of column names or a numeric vector \n",
    "# of column positions to select, and the value returned is always a data.table. "
   ]
  },
  {
   "cell_type": "code",
   "execution_count": null,
   "metadata": {},
   "outputs": [],
   "source": [
    "# Understand the difference between with=TRUE and with=FALSE by looking at the output of the cell. Run help(data.table) to know \n",
    "# more about with operator and data.table\n",
    "temp <- forest_cover[ , colnames(forest_cover[,1:5,with=TRUE])]\n",
    "dim(temp)\n",
    "\n",
    "temp <- forest_cover[ , colnames(forest_cover[,1:5,with=FALSE])]\n",
    "(temp)"
   ]
  },
  {
   "cell_type": "code",
   "execution_count": null,
   "metadata": {},
   "outputs": [],
   "source": [
    "# Run the cell to learn more about how data.table is different from dataframe.\n",
    "help(data.table)"
   ]
  },
  {
   "cell_type": "code",
   "execution_count": null,
   "metadata": {},
   "outputs": [],
   "source": [
    "# Run str() to verify Wilderness_Area columns and soil_Type columns are merged and all those binary columns are deleted.\n",
    "str(forest_cover)"
   ]
  },
  {
   "cell_type": "markdown",
   "metadata": {},
   "source": [
    "The forest_cover is ready for fitting a model on it. The binary columns are removed and converted into \n",
    "factor types. "
   ]
  },
  {
   "cell_type": "code",
   "execution_count": null,
   "metadata": {},
   "outputs": [],
   "source": [
    "# Use setcolorder() function to reorder the columns in a dataset.\n",
    "colOrder<-c(\"Id\",\"Elevation\",\"Aspect\",\"Slope\",\"HD.Hydro\",\"VD.Hydro\",\"HD.Road\",\"HD.Fire\",\"HS.9am\",\"HS.noon\",\"HS.3pm\",\"Cover_Type\",\"wildernessArea\",\"soilType\")\n",
    "\n",
    "# Rearrange the columns of forest_cover according to above order.\n",
    "setcolorder(forest_cover, colOrder)\n",
    "\n",
    "# Shorten the names of columns for readability.\n",
    "setnames(forest_cover,colOrder)\n",
    "\n",
    "# Remove the Id column from forest_cover.\n",
    "forest_cover$Id=NULL"
   ]
  },
  {
   "cell_type": "markdown",
   "metadata": {},
   "source": [
    "**Reference:**\n",
    "\n",
    "* [setcolorder()](https://www.rdocumentation.org/packages/data.table/versions/1.9.6/topics/setcolorder) : orders the columns of data.table, by reference, to the new order provided.\n",
    "\n",
    "* [setnames](https://stat.ethz.ch/R-manual/R-devel/library/stats/html/setNames.html): This is a convenience function that sets the names on an object and returns the object."
   ]
  },
  {
   "cell_type": "markdown",
   "metadata": {},
   "source": [
    "Let's convert character types to factor types first. "
   ]
  },
  {
   "cell_type": "code",
   "execution_count": null,
   "metadata": {},
   "outputs": [],
   "source": [
    "forest_cover$Cover_Class <- factor(forest_cover$Cover_Type,\n",
    "levels = c(\"1.SpruceFir\",\"2.LodgepolePine\",\"3.PonderosaPine\",\"4.Cottonwood-Willow\",\"5.Aspen\",\"6.Douglas-fir\",\"7.Krummholz\"),\n",
    "labels = c(1,2,3,4,5,6,7))\n",
    "\n",
    "forest_cover$Cover_NumClass <- as.numeric(forest_cover$Cover_Class)\n",
    "\n",
    "forest_cover$soilType <- factor(forest_cover$soilType,\n",
    "levels = c('Cathedral','Vanet','Haploborolis','Ratake','Vanet1','Vanet2','Gothic','Supervisor',\n",
    "             'Troutville','Bullwark1','Bullwark2','Legault','Catamount1','Pachic','unspecified',\n",
    "             'Cryaquolis','Gateview','Rogert','Typic1','Typic2','Typic3','Leighcan1','Leighcan2',\n",
    "             'Leighcan3','Leighcan4','Granile','Leighcan5','Leighcan6','Como1','Como2','Leighcan7',\n",
    "             'Catamount2','Leighcan8','Cryorthents','Cryumbrepts','Bross','Rock','Leighcan9','Moran1',\n",
    "             'Moran2'),\n",
    "labels = c(1:40))\n",
    "\n",
    "\n",
    "forest_cover$wildernessArea <- factor(forest_cover$wildernessArea,\n",
    "levels = c(\"Rawah\",\"Neota\",\"ComanchePeak\",\"CachePoudre\"),\n",
    "labels = c(1,2,3,4))\n",
    "\n",
    "head(forest_cover)"
   ]
  },
  {
   "cell_type": "markdown",
   "metadata": {},
   "source": [
    "---\n",
    "**Activity 7:** Split the data into training and testing sets. Put 70% of data in \"Forestcover_train\" dataframe and rest in \"Forestcover_test\" dataframe. **Use the seed as 100** to reproduce test results for evaluation. \n",
    "\n",
    "Testing set will be used to evaluate the predictive capability of the model."
   ]
  },
  {
   "cell_type": "code",
   "execution_count": null,
   "metadata": {},
   "outputs": [],
   "source": [
    "# Your code for activity 7 goes here. \n",
    "\n",
    "# Be care ful in splitting the data. Set the seed as 100 for consistency in the results across everyone's notebooks. \n",
    "# use sample.split() function for splitting the data into 70% in training and rest in testing sets.\n",
    "# Split the data on forest_cover$Cover_Type not on forest_cover.\n",
    "\n",
    "library(caTools)\n",
    "set.seed(100) # set.seed() will help us to reproduce the results.\n",
    "split = sample.split(<what goes in here>)\n",
    "\n",
    "\n",
    "Forestcover_train = <what goes in here>\n",
    "\n",
    "Forestcover_test = <what goes in here>"
   ]
  },
  {
   "cell_type": "markdown",
   "metadata": {},
   "source": [
    "---\n",
    "**Activity 8:** Calculate feature importance of the **numerical** variables in **Forestcover_train**\n",
    "\n",
    " 1. using Random Forest, then \n",
    " 2. print out the variable importance table, and \n",
    " 3. plot the variable importance plot. \n",
    "\n",
    "Use variables Elevation, Aspect, Slope, HD.Hydro, VD.Hydro, HD.Road, HD.Fire, HS.9am, HS.noon, HS.3pm only. "
   ]
  },
  {
   "cell_type": "code",
   "execution_count": null,
   "metadata": {},
   "outputs": [],
   "source": [
    "library(randomForest)\n",
    "\n",
    "\n",
    "# Your code for activity 8.1 goes here...\n",
    "\n",
    "RandomForest_fit <- randomForest(<what goes in here>,\n",
    "                                 method=<what goes in here>,\n",
    "                                 data=<what goes in here>, importance=TRUE) "
   ]
  },
  {
   "cell_type": "code",
   "execution_count": null,
   "metadata": {},
   "outputs": [],
   "source": [
    "plot(RandomForest_fit)\n",
    "legend(\"topright\", colnames(RandomForest_fit$err.rate),col=1:4,cex=0.8,fill=1:4)"
   ]
  },
  {
   "cell_type": "code",
   "execution_count": null,
   "metadata": {},
   "outputs": [],
   "source": [
    "# Code for activity 8.2 continues here...\n",
    "\n",
    "<what goes in here>(RandomForest_fit)"
   ]
  },
  {
   "cell_type": "code",
   "execution_count": null,
   "metadata": {},
   "outputs": [],
   "source": [
    "# Code for activity 8.3 continues here...\n",
    "\n",
    "<what goes in here>(RandomForest_fit)"
   ]
  },
  {
   "cell_type": "markdown",
   "metadata": {},
   "source": [
    "#### Feature Importance\n",
    "\n",
    "The feature importance of the 10 columns, with respect to Cover_Type variable is calculated above.\n",
    "The table is presented with importance of each variable calculated from the random forest importance function.\n",
    "Additionally, you have plotted the most important variables.\n",
    "\n",
    "**Look at the importance with respect to MeanDecreaseGini: Elevation is the top feature.**"
   ]
  },
  {
   "cell_type": "markdown",
   "metadata": {},
   "source": [
    "**Activity 9:**  Perform five ANOVAs between the variable\n",
    "Cover_Type and each of the **first 5** important features according to **MeanDecreaseGini importance**. Cover_type will be the factor. "
   ]
  },
  {
   "cell_type": "code",
   "execution_count": null,
   "metadata": {},
   "outputs": [],
   "source": [
    "fit1 = <your code here>\n",
    "summary(fit1)\n",
    "\n",
    "fit2 = <your code here>\n",
    "summary(fit2)\n",
    "\n",
    "fit3 = <your code here>\n",
    "summary(fit3)\n",
    "\n",
    "fit4 = <your code here>\n",
    "summary(fit4)\n",
    "\n",
    "fit5 = <your code here>\n",
    "summary(fit5)\n"
   ]
  },
  {
   "cell_type": "markdown",
   "metadata": {},
   "source": [
    "**Activity 10:** Perform MANOVA between combined first 5 important features against Cover_Type."
   ]
  },
  {
   "cell_type": "code",
   "execution_count": null,
   "metadata": {},
   "outputs": [],
   "source": [
    "# Your code for activity 10 goes here.\n",
    "fit6 = <your code here>\n",
    "summary(fit6)\n"
   ]
  },
  {
   "cell_type": "markdown",
   "metadata": {},
   "source": [
    "**Activity 11:** Fit a multinomial logistic regression model on Forestcover_train to predict Cover_Class using first five important variables. Name this model as Forestcover_1."
   ]
  },
  {
   "cell_type": "code",
   "execution_count": null,
   "metadata": {},
   "outputs": [],
   "source": [
    "# Your code for activity 11 goes here....\n",
    "library(nnet)\n",
    "Forestcover_1 <- <your code here>\n",
    "summary(Forestcover_1)"
   ]
  },
  {
   "cell_type": "markdown",
   "metadata": {},
   "source": [
    "#### Asses the model accuracy\n",
    "\n",
    "**Activity 12:** Predict the Cover_Class both on **Forestcover_train** and **Forestcover_test** using the model Forestcover_1 built above. Build confusion matrices to asses the performance of the model on the training and test sets and find the accuracies of predictions. "
   ]
  },
  {
   "cell_type": "code",
   "execution_count": null,
   "metadata": {},
   "outputs": [],
   "source": [
    "# Your code for Activity 12 goes here.\n",
    "\n",
    "pred_train <- <your code here>\n",
    "\n",
    "pred_test <- <your code here>\n",
    "\n",
    "ctable_tr <- <your code here>\n",
    "ctable_tr \n",
    "\n",
    "ctable_ts <- <your code here>\n",
    "ctable_ts \n",
    "\n",
    "print(paste(\"training accuracy = \",round((sum(diag(ctable_tr))/sum(ctable_tr))*100,2)))\n",
    "print(paste(\"training accuracy = \",round((sum(diag(ctable_ts))/sum(ctable_ts))*100,2)))"
   ]
  },
  {
   "cell_type": "markdown",
   "metadata": {},
   "source": [
    "**Activity 13:** Load framingham data and do a Two-way between ANOVA for education and and gender against `cigsPerDay`. Do education levels make a difference? "
   ]
  },
  {
   "cell_type": "code",
   "execution_count": null,
   "metadata": {},
   "outputs": [],
   "source": [
    "framingham_data=read.csv(\"/dsa/data/all_datasets/framingham/framingham.csv\")\n",
    "framingham_data$male=as.factor(framingham_data$male)\n",
    "framingham_data$education=as.factor(framingham_data$education)\n",
    "head(framingham_data)"
   ]
  },
  {
   "cell_type": "code",
   "execution_count": null,
   "metadata": {},
   "outputs": [],
   "source": [
    "library(ggplot2)\n",
    "\n",
    "ggplot(data=framingham_data) + geom_boxplot(aes(x=education, y=cigsPerDay, color=male))"
   ]
  },
  {
   "cell_type": "code",
   "execution_count": null,
   "metadata": {},
   "outputs": [],
   "source": [
    "# Your code for Activity 13 goes here.\n",
    "\n",
    "f.fit <- <your code here>\n",
    "summary(f.fit)\n",
    "\n",
    "TukeyHSD(f.fit)"
   ]
  },
  {
   "cell_type": "raw",
   "metadata": {},
   "source": [
    "YOUR ANSWER HERE\n",
    "\n",
    "\n"
   ]
  },
  {
   "cell_type": "markdown",
   "metadata": {},
   "source": [
    "# Save your notebook\n",
    "\n",
    "## Use Git to : Add, Commit, and Push all your course work!"
   ]
  }
 ],
 "metadata": {
  "kernelspec": {
   "display_name": "R",
   "language": "R",
   "name": "ir"
  },
  "language_info": {
   "codemirror_mode": "r",
   "file_extension": ".r",
   "mimetype": "text/x-r-source",
   "name": "R",
   "pygments_lexer": "r",
   "version": "4.0.5"
  }
 },
 "nbformat": 4,
 "nbformat_minor": 1
}
