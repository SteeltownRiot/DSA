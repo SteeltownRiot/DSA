{
 "cells": [
  {
   "cell_type": "markdown",
   "metadata": {},
   "source": [
    "## Anova(Analysis of Variance)\n",
    "\n",
    "We will start with a data set to analyze different brands of insect spray. The default data set is named `InsectSprays` and has the counts of insects  in agricultural experimental units treated with different insecticides. It has 72 observations of 6 insecticides. "
   ]
  },
  {
   "cell_type": "code",
   "execution_count": null,
   "metadata": {},
   "outputs": [],
   "source": [
    "data(InsectSprays)\n",
    "InsectSprays"
   ]
  },
  {
   "cell_type": "markdown",
   "metadata": {},
   "source": [
    "First, plot the boxplots: "
   ]
  },
  {
   "cell_type": "code",
   "execution_count": null,
   "metadata": {},
   "outputs": [],
   "source": [
    "boxplot(InsectSprays$count~InsectSprays$spray)"
   ]
  },
  {
   "cell_type": "code",
   "execution_count": null,
   "metadata": {},
   "outputs": [],
   "source": [
    "with(InsectSprays, tapply(count,spray,mean))"
   ]
  },
  {
   "cell_type": "markdown",
   "metadata": {},
   "source": [
    "We want to see if there are significant differences with respect to spray. We use a one-way ANOVA.\n",
    "\n",
    "**YOUR TURN:**"
   ]
  },
  {
   "cell_type": "code",
   "execution_count": null,
   "metadata": {},
   "outputs": [],
   "source": [
    "s.model <- aov(count ~ <your code here>)\n",
    "summary(s.model)"
   ]
  },
  {
   "cell_type": "markdown",
   "metadata": {},
   "source": [
    "The P-value is very small, we reject the null hypothesis that group means are equal. Now, let's see which groups are significantly different: \n"
   ]
  },
  {
   "cell_type": "code",
   "execution_count": null,
   "metadata": {},
   "outputs": [],
   "source": [
    "TukeyHSD(s.model)"
   ]
  },
  {
   "cell_type": "markdown",
   "metadata": {},
   "source": [
    "As we could guess from the boxplots, brands A, B, and F do not significantly differ from each other, and brands C, D, and E also do not significantly from each other; but these two groups (A,B,F and C,D,E) significantly differ from each other pair-wise (e.g. A-C is different, F-D is different, etc.). "
   ]
  },
  {
   "cell_type": "markdown",
   "metadata": {},
   "source": [
    "---\n",
    "\n",
    "**YOUR TURN:**\n",
    "\n",
    "A company is applying a sensory test for a set of 15 panelists in three different brands of chocolate. Three brands are compared, one being the reference, and the goal is to verify the difference of scores with the control. In this experiment, we have two factors: the brand and the tasters, and we hope that there is no significant effect of tasters. At each assessment, the assessor must determine the difference on a scale 0-7."
   ]
  },
  {
   "cell_type": "code",
   "execution_count": null,
   "metadata": {},
   "outputs": [],
   "source": [
    "Taste_test <- data.frame(\n",
    "  Taste =\n",
    "  c(5, 7, 3,\n",
    "    4, 2, 6,\n",
    "    5, 3, 6,\n",
    "    5, 6, 0,\n",
    "    7, 4, 0,\n",
    "    7, 7, 0,\n",
    "    6, 6, 0,\n",
    "    4, 6, 1,\n",
    "    6, 4, 0,\n",
    "    7, 7, 0,\n",
    "    2, 4, 0,\n",
    "    5, 7, 4,\n",
    "    7, 5, 0,\n",
    "    4, 5, 0,\n",
    "    6, 6, 3\n",
    "  ),\n",
    "Type = factor(rep(c(\"A\", \"B\", \"C\"), 15)),\n",
    "Taster = factor(rep(1:15, rep(3, 15))))\n",
    "head(Taste_test)"
   ]
  },
  {
   "cell_type": "code",
   "execution_count": null,
   "metadata": {},
   "outputs": [],
   "source": [
    "tapply(Taste_test$Taste, Taste_test$Type, mean)"
   ]
  },
  {
   "cell_type": "markdown",
   "metadata": {},
   "source": [
    "**Run a two-way ANOVA test using Type and Taster as factors WITHOUT interaction:** "
   ]
  },
  {
   "cell_type": "code",
   "execution_count": null,
   "metadata": {},
   "outputs": [],
   "source": [
    "t.model <- aov(Taste~<your code here>)\n",
    "summary(t.model)\n",
    "anova(t.model)"
   ]
  },
  {
   "cell_type": "markdown",
   "metadata": {},
   "source": [
    "From the output, you should see that the p-value is 0.8175 for tasters indicating that the assessors have no significant effect on the response. This is desirable since it is expected that the testers can discern correctly. Also, in the table we see that the ANOVA p-value for the type of chocolate is highly significant, indicating the difference between the scores. So from now on, we can make the Tukey test to see where the differences lie."
   ]
  },
  {
   "cell_type": "code",
   "execution_count": null,
   "metadata": {},
   "outputs": [],
   "source": [
    "TukeyHSD(t.model, which=\"Type\")  # we want to only see the differences for Type variable "
   ]
  },
  {
   "cell_type": "markdown",
   "metadata": {},
   "source": [
    "This output indicates that the differences C-A and C-B are significant , while B-A is not significant. A more “easy” way to interpret this output is visualizing the confidence intervals for the mean differences."
   ]
  },
  {
   "cell_type": "code",
   "execution_count": null,
   "metadata": {},
   "outputs": [],
   "source": [
    "library(gplots) # plot means with error bars \n",
    "\n",
    "plotmeans(Taste~Type, data=Taste_test)"
   ]
  },
  {
   "cell_type": "markdown",
   "metadata": {},
   "source": [
    "\n",
    "---\n",
    "\n",
    "In the \"Bias Against Associates of the Obese\" case study, \n",
    "the researchers were interested in whether the weight of a companion of a job applicant \n",
    "would affect judgments of a male applicant's qualifications for a job. \n",
    "Two independent variables were investigated: \n",
    "(1) whether the companion was obese or of typical weight, \n",
    "(2) whether the companion was a girlfriend or just an acquaintance. \n",
    "\n",
    "One approach could have been to conduct two separate studies, one with each independent variable. \n",
    "However, it is more efficient to conduct one study that includes both independent variables. \n",
    "Moreover, there is a much bigger advantage than efficiency for including two variables in the same study: \n",
    "it allows a test of the **interaction** between the variables. \n",
    "There is an interaction when the effect of one variable differs depending on the level of a second variable. \n",
    "For example, it is possible that the effect of having an obese companion would differ depending on the relationship to the companion. \n",
    "Perhaps there is more prejudice against a person with an obese companion if the companion is a girlfriend \n",
    "than if she is just an acquaintance. \n",
    "If so, there would be an interaction between the obesity factor and the relationship factor.\n",
    "\n",
    "There are three effects of interest in this experiment:\n",
    "\n",
    "**Weight:** Are applicants judged differently depending on the weight of their companion?\n",
    "\n",
    "**Relationship:** Are applicants judged differently depending on their relationship with their companion?\n",
    "\n",
    "**Weight x Relationship Interaction:** Does the effect of weight differ depending on the relationship with the companion?\n",
    "\n",
    "We will apply ANOVA to study these effects. "
   ]
  },
  {
   "cell_type": "code",
   "execution_count": null,
   "metadata": {},
   "outputs": [],
   "source": [
    "# Read the data\n",
    "weight=read.csv(\"/dsa/data/all_datasets/weight/weight.csv\")\n",
    "\n",
    "str(weight)\n",
    "# WEIGHT and RELATE are factors\n",
    "weight$WEIGHT=as.factor(weight$WEIGHT)\n",
    "weight$RELATE=as.factor(weight$RELATE)\n",
    "head(weight)"
   ]
  },
  {
   "cell_type": "markdown",
   "metadata": {},
   "source": [
    "Descriptions of the variables:\n",
    "\n",
    "**Weight:** The weight of the woman sitting next to the job applicant; 1 = obese, 2 = average weight.\n",
    "\n",
    "**Relate:** Type of relationship between the job applicant and the woman seated next to him: 1 = girlfriend, 2 = acquaintance.\n",
    "\n",
    "**Qualifid:** Larger numbers represent higher professional qualification ratings.\n",
    "\n",
    "Let's see if the mean qualification score differs with respect to companion's weight. \n",
    "We'll plot the group means."
   ]
  },
  {
   "cell_type": "code",
   "execution_count": null,
   "metadata": {},
   "outputs": [],
   "source": [
    "library(ggplot2)\n",
    "ggplot(weight,aes(WEIGHT,QUALIFID))+geom_boxplot()"
   ]
  },
  {
   "cell_type": "code",
   "execution_count": null,
   "metadata": {},
   "outputs": [],
   "source": [
    "# Also, plot the group means for RELATE \n",
    "ggplot(weight,aes(RELATE,QUALIFID))+geom_boxplot()"
   ]
  },
  {
   "cell_type": "markdown",
   "metadata": {},
   "source": [
    "From the plots above, it seems like WEIGHT has somewhat an effect on perceived qualification; \n",
    "RELATE does not seem to have an effect. \n",
    "Let's run ANOVA and see if these hypotheses hold."
   ]
  },
  {
   "cell_type": "code",
   "execution_count": null,
   "metadata": {},
   "outputs": [],
   "source": [
    "# run ANOVA\n",
    "fit1 <- aov(QUALIFID ~ WEIGHT + RELATE, data=weight)\n",
    "summary(fit1)\n",
    "anova(fit1)"
   ]
  },
  {
   "cell_type": "markdown",
   "metadata": {},
   "source": [
    "ANOVA results show that WEIGHT has an effect. \n",
    "The p-value is 0.009 and therefore the null hypothesis of no main effect of WEIGHT is rejected. \n",
    "The conclusion is that being accompanied by an obese companion lowers judgments of qualifications. \n",
    "The effect of RELATE is not as significant but we can't readily reject the null hypothesis either. \n",
    "The conclusion is that being accompanied by a girlfriend leads to somewhat lower ratings than being accompanied by an acquaintance.\n",
    "\n",
    "Let's see if there is interaction between these two independent variables. \n",
    "\n",
    "**YOUR TURN:**"
   ]
  },
  {
   "cell_type": "code",
   "execution_count": null,
   "metadata": {},
   "outputs": [],
   "source": [
    "# run ANOVA WITH interaction\n",
    "fit2 <- aov(QUALIFID ~ <your code here>)\n",
    "summary(fit2)\n",
    "anova(fit2)"
   ]
  },
  {
   "cell_type": "markdown",
   "metadata": {},
   "source": [
    "The p-value for the interaction is 0.8, \n",
    "which is the probability of getting an interaction as big or bigger than the one obtained \n",
    "in the experiment if there were no interaction in the population. \n",
    "Therefore, these data provide no evidence for an interaction.\n",
    "\n",
    "---\n",
    "\n",
    "Let's apply the same analysis to the kc_house_data that we have seen before. "
   ]
  },
  {
   "cell_type": "code",
   "execution_count": null,
   "metadata": {},
   "outputs": [],
   "source": [
    "hs <- read.csv(\"/dsa/data/all_datasets/house_sales_in_king_county/kc_house_data.csv\",header=TRUE)\n",
    "head(hs)\n",
    "str(hs)"
   ]
  },
  {
   "cell_type": "code",
   "execution_count": null,
   "metadata": {},
   "outputs": [],
   "source": [
    "# these are factors\n",
    "hs$bedrooms = as.factor(hs$bedrooms)\n",
    "hs$floors = as.factor(hs$floors)"
   ]
  },
  {
   "cell_type": "markdown",
   "metadata": {},
   "source": [
    "Let's see if price is effected by number of bedrooms and number of floors; and also see if there is interaction between the two.\n",
    "\n",
    "**YOUR TURN:**"
   ]
  },
  {
   "cell_type": "code",
   "execution_count": null,
   "metadata": {},
   "outputs": [],
   "source": [
    "fit3 <- aov(price ~ <your code here>)\n",
    "summary(fit3)"
   ]
  },
  {
   "cell_type": "markdown",
   "metadata": {},
   "source": [
    "As we can see, both variables have a significant effect and there is interaction between them \n",
    "(we would expect that). \n",
    "\n",
    "Let's see how we can apply MANOVA to this data set. \n",
    "We'd like to see if there is a relation between price and location. \n",
    "We will use the price as the independent variable and see if it has an effect on the location \n",
    "(usually the other way around makes more sense). \n",
    "Here we use \"lat\" and \"long\" as the coordinates of the location; so we need to bind them in order to apply MANOVA. "
   ]
  },
  {
   "cell_type": "code",
   "execution_count": null,
   "metadata": {},
   "outputs": [],
   "source": [
    "fit4 <- aov(cbind(lat, long) ~ price, data = hs)\n",
    "summary(fit4)"
   ]
  },
  {
   "cell_type": "markdown",
   "metadata": {},
   "source": [
    "The price has more effect on lattitude than longitude (we know why from a previous practice); \n",
    "the p-value for lattitude is almost zero whereas the p-value for longitude is 0.0015 which suggests good significance. \n",
    "\n",
    "# Save your notebook!"
   ]
  }
 ],
 "metadata": {
  "kernelspec": {
   "display_name": "R",
   "language": "R",
   "name": "ir"
  },
  "language_info": {
   "codemirror_mode": "r",
   "file_extension": ".r",
   "mimetype": "text/x-r-source",
   "name": "R",
   "pygments_lexer": "r",
   "version": "4.0.5"
  }
 },
 "nbformat": 4,
 "nbformat_minor": 1
}
