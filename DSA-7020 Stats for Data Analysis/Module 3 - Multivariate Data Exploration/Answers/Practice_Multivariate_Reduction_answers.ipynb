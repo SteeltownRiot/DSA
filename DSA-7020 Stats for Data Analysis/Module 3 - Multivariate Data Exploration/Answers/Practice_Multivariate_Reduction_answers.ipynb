{
 "cells": [
  {
   "cell_type": "markdown",
   "metadata": {},
   "source": [
    "## Multivariate Reduction Practice\n",
    "\n",
    "Let's continue our discussion with multivariate data reduction. We will focus on dimensionality reduction using principal component analysis. The questions are partially complete. You may have to debug/modify/complete the code to generate the desired output. "
   ]
  },
  {
   "cell_type": "markdown",
   "metadata": {},
   "source": [
    "**Load the data** into movies_data dataframe."
   ]
  },
  {
   "cell_type": "code",
   "execution_count": null,
   "metadata": {},
   "outputs": [],
   "source": [
    "movies_data <- read.csv(\"/dsa/data/all_datasets/movies/movie_metadata.csv\", header = T, sep=\",\")\n",
    "head(movies_data)"
   ]
  },
  {
   "cell_type": "markdown",
   "metadata": {},
   "source": [
    "Remove the rows that contain any NA values."
   ]
  },
  {
   "cell_type": "code",
   "execution_count": null,
   "metadata": {},
   "outputs": [],
   "source": [
    "# Count number of rows in the dataset\n",
    "nrow(movies_data)\n",
    "\n",
    "# Omit rows from  the dataset that contain NA values\n",
    "movies_data <- na.omit(movies_data)\n",
    "\n",
    "# Count number of rows again in the dataset\n",
    "nrow(movies_data)\n",
    "\n",
    "# Create a new dataframe called less_data excluding all rows from movies_data that contain NA values and non-numeric variables\n",
    "less_data <- movies_data[!sapply(movies_data,class) %in% c(\"factor\",\"character\")]"
   ]
  },
  {
   "cell_type": "markdown",
   "metadata": {},
   "source": [
    "#### Correlation Matrix\n"
   ]
  },
  {
   "cell_type": "code",
   "execution_count": null,
   "metadata": {},
   "outputs": [],
   "source": [
    "cor(less_data) # get the correlations for less_data"
   ]
  },
  {
   "cell_type": "markdown",
   "metadata": {},
   "source": [
    "The output of cor() function is the correlation coefficient between each and every variable combination in the dataset. \n",
    "A variable's correlation to itself is always 1."
   ]
  },
  {
   "cell_type": "markdown",
   "metadata": {},
   "source": [
    "Variables\n",
    "\n",
    "- movie_facebook_likes\n",
    "- num_user_for_reviews\n",
    "- num_voted_users\n",
    "- num_critic_for_reviews\n",
    "- duration\n",
    "\n",
    "are the most correlated with imdb_score. \n",
    "<div>\n",
    "    <ul>\n",
    "        <br>\n",
    "        <li> \n",
    "            <span style=\"color:#cc1652\">cast_total_facebook_likes</span> has a strong positive correlation with the <span style=\"color:#d38032\">actor_1_facebook_likes</span>, and has smaller positive correlation with both <span style=\"color:#30a5d3\">actor_2_facebook_likes</span> and <span style=\"color:#08cc6d\">actor_3_facebook_likes</span>\n",
    "        </li>\n",
    "        <br>\n",
    "        <li>\n",
    "            <span style=\"color:#d32e44\">movie_facebook_likes</span> has strong correlation with <span style=\"color:#8934c1\">num_critic_for_reviews</span>, meaning that the popularity of a movie in social networks can be largely affected by the critics\n",
    "        </li>\n",
    "        <br>\n",
    "        <li> <span style=\"color:#d32e44\">movie_facebook_likes</span> has a decent amount of correlation with the <span style=\"color:#1d48d3\">num_voted_users</span>\n",
    "        </li>\n",
    "        <br>\n",
    "        <li> <span style=\"color:#cc1652\">gross</span> has a strong positive correlation with the <span style=\"color:#1d48d3\">num_voted_users</span>\n",
    "        </li>\n",
    "    </ul>\n",
    "</div>\n",
    "\n",
    "\n",
    "Contradicting correlations\n",
    "---------------------------\n",
    "\n",
    "<div>\n",
    "    <ul>\n",
    "        <br>\n",
    "        <li> \n",
    "            <span style=\"color:#cc1652\">imdb_score</span> has very small positive correlation with <span style=\"color:#08cc6d\">director_facebook_likes</span>. So we cant guarantee a popular director's movie will be great.\n",
    "        </li>\n",
    "        <br>\n",
    "        <li>\n",
    "            <span style=\"color:#cc1652\">imdb_score</span> has very small positive correlation with the <span style=\"color:#d32e44\">actor_1_facebook_likes</span>. Just like a famous director, we cant guarantee a popular actor's movie will be great.\n",
    "        </li>\n",
    "        <br>\n",
    "        <li> <span style=\"color:#cc1652\">imdb_score</span> has a small but positive correlation with <span style=\"color:#d32e44\">duration</span>. Highly rated movies tend to be longer in duration.\n",
    "        </li>\n",
    "        <br>\n",
    "        <li> <span style=\"color:#cc1652\">num_voted_users</span> and <span style=\"color:#1d48d3\">num_user_for_reviews</span> demonstrate a small positive correlation. Maybe more reviews are made on good movies.\n",
    "        </li>\n",
    "        <br>\n",
    "        <li> <span style=\"color:#cc1652\">imdb_score</span> has almost no correlation with <span style=\"color:#11c627\">budget</span>. Big budget movies will not necessarily turn out great\n",
    "        </li>\n",
    "    </ul>\n",
    "</div>"
   ]
  },
  {
   "cell_type": "code",
   "execution_count": null,
   "metadata": {},
   "outputs": [],
   "source": [
    "options(repr.plot.width=14, repr.plot.height=14)\n",
    "\n",
    "library('corrplot') #package corrplot\n",
    "cors <- cor(less_data) # get the correlations\n",
    "#The output of the function cor() is the correlation coefficients between each variable and the others. \n",
    "\n",
    "corrplot(cors, method = \"number\",number.cex=1, order=\"hclust\") #plot the matrix\n",
    "# method takes different inputs like \"number\", \"circle\", \"ellipse\" etc. "
   ]
  },
  {
   "cell_type": "markdown",
   "metadata": {},
   "source": [
    "**Question 1.a:** Which correlations surprise you and/or seem interesting for investigation?"
   ]
  },
  {
   "cell_type": "raw",
   "metadata": {},
   "source": [
    "# Write your answer below this comment:\n",
    "# -----------------------------------------\n",
    "\n",
    "It makes sense that the most correlated variables with imdb_score are those related to viewer interaction to movie such as facebook likes, reviews, user votes, etc. Surprising correlations are duration vs. IMDB score (longer movies score higher), and title_year vs. num_critic_for_reviews.\n"
   ]
  },
  {
   "cell_type": "markdown",
   "metadata": {},
   "source": [
    "Let's continue our discussion with PCA. As we have seen in lab notebook we have to standardize the variables. "
   ]
  },
  {
   "cell_type": "markdown",
   "metadata": {},
   "source": [
    "**Question 2:** Use scale() function to standardize the numeric variables in movies_data and assign the new data to a variable called standard_vars."
   ]
  },
  {
   "cell_type": "code",
   "execution_count": null,
   "metadata": {},
   "outputs": [],
   "source": [
    "standard_vars <- as.data.frame(scale(less_data))\n",
    "dim(standard_vars)\n",
    "head(standard_vars)"
   ]
  },
  {
   "cell_type": "markdown",
   "metadata": {},
   "source": [
    "**Question 3:** Run prcomp() function on standard_vars created above and assign the result to movies_data_pca "
   ]
  },
  {
   "cell_type": "code",
   "execution_count": null,
   "metadata": {},
   "outputs": [],
   "source": [
    "# Compute the Principal Components. Run prcomp() function on standardardized variables created above.\n",
    "movies_data_pca <- prcomp(standard_vars)"
   ]
  },
  {
   "cell_type": "code",
   "execution_count": null,
   "metadata": {},
   "outputs": [],
   "source": [
    "help(prcomp)"
   ]
  },
  {
   "cell_type": "markdown",
   "metadata": {},
   "source": [
    "**If you go to the help page for `prcomp` you will find in the details section,**\n",
    "\n",
    "`The calculation is done by a singular value decomposition of the (centered and scaled) data matrix, not by using eigen on the covariance matrix. This is generally the preferred method for numerical accuracy.`\n",
    "\n",
    "For `princomp()` you will see,\n",
    "\n",
    "`The calculation is done using eigen on the correlation or covariance matrix, as determined by cor. This is done for compatibility with the S-PLUS result. A preferred method of calculation is to use svd on x, as is done in prcomp.\"`"
   ]
  },
  {
   "cell_type": "code",
   "execution_count": null,
   "metadata": {},
   "outputs": [],
   "source": [
    "summary(movies_data_pca)"
   ]
  },
  {
   "cell_type": "markdown",
   "metadata": {},
   "source": [
    "Look at the **structure** of what prcomp returns: **x is the matrix that has the transformed data in PCA space. Each column is a PC.** In princomp, it would be called **scores**."
   ]
  },
  {
   "cell_type": "code",
   "execution_count": null,
   "metadata": {},
   "outputs": [],
   "source": [
    "str(movies_data_pca)"
   ]
  },
  {
   "cell_type": "code",
   "execution_count": null,
   "metadata": {},
   "outputs": [],
   "source": [
    "screeplot(movies_data_pca, type=\"lines\")"
   ]
  },
  {
   "cell_type": "markdown",
   "metadata": {},
   "source": [
    "**Question 4:** What are your observations from the plot below? Write a few words below about how you interpret points and vectors?"
   ]
  },
  {
   "cell_type": "code",
   "execution_count": null,
   "metadata": {},
   "outputs": [],
   "source": [
    "biplot(movies_data_pca) "
   ]
  },
  {
   "cell_type": "raw",
   "metadata": {},
   "source": [
    "#  Write your answer for question 4 here\n",
    "# --------------------------------\n",
    "\n",
    "The vectors show how the variables are represented by the first two principal components. The smaller the angle between two vectors, the more correlated they are; so it looks like there are two groups of variables that are highly correlated among themselves but these two groups have almost no correlation between them. We could also see that in the corrplot above. Also note the shape of the data in PC space; it's elongated twords these two groups of vectors. \n",
    "\n"
   ]
  },
  {
   "cell_type": "markdown",
   "metadata": {},
   "source": [
    "Look at the dimensions of the PCA we ran. We are interested in the **x** part of movies_data_pca for the dimensions."
   ]
  },
  {
   "cell_type": "code",
   "execution_count": null,
   "metadata": {},
   "outputs": [],
   "source": [
    "dim(movies_data_pca$x)"
   ]
  },
  {
   "cell_type": "markdown",
   "metadata": {},
   "source": [
    "**Question 5:** Fit a multiple regression model to predict imdb_score on less_data using the **first 4 principal components created above**. "
   ]
  },
  {
   "cell_type": "code",
   "execution_count": null,
   "metadata": {},
   "outputs": [],
   "source": [
    "# movies_data_pca$x is a list that contains all the principal components. You can access components using \n",
    "# subscripts [,1], [,2], [,3], and so on\n",
    "\n",
    "fit = lm(movies_data$imdb_score~movies_data_pca$x[,1]+movies_data_pca$x[,2]+movies_data_pca$x[,3]+movies_data_pca$x[,4])\n",
    "summary(fit)"
   ]
  },
  {
   "cell_type": "markdown",
   "metadata": {},
   "source": [
    "**NOTE** that the PCA decomposition above already has the IMDB score variable in it; for an actual predictive model to be used with unseen data, we should use only the PCA of variables excluding the predicted variable. "
   ]
  },
  {
   "cell_type": "markdown",
   "metadata": {
    "collapsed": true
   },
   "source": [
    "Let's try to fit a linear multiple regression model using the most correlated variables we found."
   ]
  },
  {
   "cell_type": "markdown",
   "metadata": {},
   "source": [
    "**Question 6.a:** Fit a multiple regression model on movies_data to predict imdb_score using variables movie_facebook_likes, num_user_for_reviews, num_voted_users, num_critic_for_reviews and duration."
   ]
  },
  {
   "cell_type": "code",
   "execution_count": null,
   "metadata": {},
   "outputs": [],
   "source": [
    "fit1=lm(imdb_score ~ movie_facebook_likes + num_user_for_reviews + num_voted_users + num_critic_for_reviews + duration,\n",
    "       data=movies_data)\n",
    "summary(fit1)"
   ]
  },
  {
   "cell_type": "markdown",
   "metadata": {},
   "source": [
    "**Question 6.b:** Compare the $R^2$ value for models fit1 and fit. Write your opinion about the models."
   ]
  },
  {
   "cell_type": "raw",
   "metadata": {},
   "source": [
    "#  Write your answer for question 6.b here\n",
    "# --------------------------------\n",
    "\n",
    "The regression model using the principal components has a better R2 score than the model with most correlated variables. This is probably due to the fact that principal components already account for the variance in IMDB score variable since the PCA decomposition was done with IMDB score in it. \n",
    "\n",
    "Let's remove IMDB score and run PCA on the remaining variables. "
   ]
  },
  {
   "cell_type": "code",
   "execution_count": null,
   "metadata": {},
   "outputs": [],
   "source": [
    "# remove IMDB score and run PCA so that we can have a predictive model that does \n",
    "# not depend on the predicted variable. \n",
    "\n",
    "movies_data_pca_pred <- prcomp(standard_vars[,-14]) \n",
    "summary(movies_data_pca_pred)\n",
    "screeplot(movies_data_pca_pred)"
   ]
  },
  {
   "cell_type": "code",
   "execution_count": null,
   "metadata": {},
   "outputs": [],
   "source": [
    "fitp = lm(movies_data$imdb_score~movies_data_pca_pred$x[,1]+movies_data_pca_pred$x[,2]+movies_data_pca_pred$x[,3]+movies_data_pca_pred$x[,4])\n",
    "summary(fitp)"
   ]
  },
  {
   "cell_type": "markdown",
   "metadata": {},
   "source": [
    "**This PCA model** has a lower R2 score as expected; it does not have the predicted variable. In both PCA decompositions, we took the first four principal components and in each case they accounted roughly for the 58% of the total variance. "
   ]
  },
  {
   "cell_type": "markdown",
   "metadata": {},
   "source": [
    "**Question 7:** Build a model to predict imdb_score using all the independent features of less_data."
   ]
  },
  {
   "cell_type": "code",
   "execution_count": null,
   "metadata": {},
   "outputs": [],
   "source": [
    "fit2=lm(imdb_score~., data=less_data)\n",
    "summary(fit2)"
   ]
  },
  {
   "cell_type": "markdown",
   "metadata": {},
   "source": [
    "**Question 8:** Compare the model built using first 4 principal components to the models built using the variables in the dataset less_data. "
   ]
  },
  {
   "cell_type": "raw",
   "metadata": {},
   "source": [
    "#  Write your code/answer for question 8 here\n",
    "# --------------------------------\n",
    "\n",
    "When we use all available variables, the R2 is better (about 36%) than four variables (about 30%) and four PC's (about 23%).\n",
    "\n",
    "Looking at the residual standard error: 0.85 with all variables seems to be only slightly better than four variables (0.8861). \n",
    "\n",
    "We should go for simpler models for the sake of explainability of the model and also so that the models can generalize better for unseen data. \n",
    "\n",
    "We can split the data into training and testing sets and find out which model seems to generalize better (scoring higher with the testing set). \n",
    "\n"
   ]
  },
  {
   "cell_type": "markdown",
   "metadata": {},
   "source": [
    "**Question 9a:** Run factanal() function to generate 2 factors for less_data.  "
   ]
  },
  {
   "cell_type": "code",
   "execution_count": null,
   "metadata": {},
   "outputs": [],
   "source": [
    "factors <- factanal(less_data, 2, rotation=\"varimax\")\n",
    "print(factors, digits=2, cutoff=0.3, sort=TRUE)"
   ]
  },
  {
   "cell_type": "markdown",
   "metadata": {},
   "source": [
    "**Question 9b:** Look at component loadings; can you group the variables by two factors similar to the lab notebooks? "
   ]
  },
  {
   "cell_type": "raw",
   "metadata": {},
   "source": [
    "#  Write your answer for question 9.b here\n",
    "# --------------------------------\n",
    "\n",
    "The p-value is ZERO, so we should REJECT the hypothesis that two factors are sufficient. We can also see that uniqueness for all variables are very high; two factors can't find anything in common. \n",
    "\n",
    "Let's try more factors. \n",
    "\n"
   ]
  },
  {
   "cell_type": "code",
   "execution_count": null,
   "metadata": {},
   "outputs": [],
   "source": [
    "factors <- factanal(less_data, 5, rotation=\"varimax\")\n",
    "print(factors, digits=2, cutoff=0.3, sort=TRUE)"
   ]
  },
  {
   "cell_type": "markdown",
   "metadata": {},
   "source": [
    "**Even five factors are not sufficient and there is a lot of unique variance. There does not seem to be a small set of factors affecting the variables in this data set.** "
   ]
  },
  {
   "cell_type": "markdown",
   "metadata": {},
   "source": [
    "# SAVE YOUR NOTEBOOK"
   ]
  }
 ],
 "metadata": {
  "kernelspec": {
   "display_name": "R",
   "language": "R",
   "name": "ir"
  },
  "language_info": {
   "codemirror_mode": "r",
   "file_extension": ".r",
   "mimetype": "text/x-r-source",
   "name": "R",
   "pygments_lexer": "r",
   "version": "4.0.5"
  }
 },
 "nbformat": 4,
 "nbformat_minor": 1
}
