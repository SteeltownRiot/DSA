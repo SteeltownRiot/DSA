{
 "cells": [
  {
   "cell_type": "markdown",
   "metadata": {},
   "source": [
    "## Multivariate Exploration Practice\n",
    "\n",
    "We are going to use movies dataset for illustrating multivariate data exploration. \n",
    "The dataset is a result of scraping 5000+ movies from the International Movie Database (IMDB) website using a Python library called __scrapy__. \n",
    "It has 28 variables for 5043 movies, spanning across 100 years in 66 countries. \n",
    "There are 2399 unique director names, and thousands of actors/actresses."
   ]
  },
  {
   "cell_type": "markdown",
   "metadata": {},
   "source": [
    "### Loading data\n",
    "\n",
    "Load the data `/dsa/data/all_datasets/movies/movie_metadata.csv` into R and name the dataframe as `movies_data`"
   ]
  },
  {
   "cell_type": "code",
   "execution_count": null,
   "metadata": {},
   "outputs": [],
   "source": [
    "movies_data <- read.csv(\"/dsa/data/all_datasets/movies/movie_metadata.csv\", header = T, sep=\",\")"
   ]
  },
  {
   "cell_type": "code",
   "execution_count": null,
   "metadata": {},
   "outputs": [],
   "source": [
    "head(movies_data)"
   ]
  },
  {
   "cell_type": "code",
   "execution_count": null,
   "metadata": {},
   "outputs": [],
   "source": [
    "# Overview of the dataset\n",
    "str(movies_data)"
   ]
  },
  {
   "cell_type": "markdown",
   "metadata": {},
   "source": [
    "**Question 1.a:** What are the different categories of movies based on the color attribute?"
   ]
  },
  {
   "cell_type": "code",
   "execution_count": null,
   "metadata": {},
   "outputs": [],
   "source": [
    "<what goes in here>(movies_data$<what goes in here>)\n",
    "\n",
    "# Cells run further below show that 19 movies contain no value (i.e., \"\") for the color attribute; 0 movies \n",
    "# contain a missing (i.e., \"NA\") value for the color attribute."
   ]
  },
  {
   "cell_type": "markdown",
   "metadata": {},
   "source": [
    "There are 19 movies with no information for color of the movie. "
   ]
  },
  {
   "cell_type": "code",
   "execution_count": null,
   "metadata": {},
   "outputs": [],
   "source": [
    "summary(movies_data)"
   ]
  },
  {
   "cell_type": "markdown",
   "metadata": {},
   "source": [
    "Looking at the summary of all variables, values are missing for variables director_name and color in many rows. Also NA values exist for multiple variables. NA values can be treated in multiple ways. One way is to replace NA values with the average value of that column. Second approach is to remove the rows that contain NA values. \n",
    "\n",
    "The approach in treating NA values is often driven by individual's goals and how one feels about approximating the column value versus removing data for task at hand."
   ]
  },
  {
   "cell_type": "markdown",
   "metadata": {},
   "source": [
    "----\n",
    "Let's see how many NA values are present per row and column. R has built in commands to check if there is a NA value in a row or column.  The is.na() command returns logical values 0 for FALSE (i.e., the cell has a valid value) or 1 for TRUE (i.e., the cell has an NA value). Then there are functions that perform row and column sums.\n",
    "\n",
    "<div>\n",
    "    <br>\n",
    "    <ul>\n",
    "        <li><span style=\"color:#cc1652;font-weight:400; font-size:14px\">is.na()</span> - will return logical values 0 (FALSE) or 1 (TRUE) when checking if a value is NA.  </li>\n",
    "        <li><span style=\"color:#cc1652;font-weight:400; font-size:14px\">rowSums()</span> - will sum up the values in a row. </li>\n",
    "        <li><span style=\"color:#cc1652;font-weight:400; font-size:14px\">colSums()</span> - will sum up the values in a column. </li>\n",
    "    </ul>\n",
    "</div>\n",
    "\n",
    "**Reference:** [rowSums()](https://stat.ethz.ch/R-manual/R-devel/library/base/html/rowsum.html)\n",
    "\n",
    "**Reference:** [colSums()](https://stat.ethz.ch/R-manual/R-devel/library/base/html/colSums.html)"
   ]
  },
  {
   "cell_type": "code",
   "execution_count": null,
   "metadata": {},
   "outputs": [],
   "source": [
    "rowSums(is.na(movies_data))\n",
    "\n",
    "# Sums the number of values assigned NA in a particular row"
   ]
  },
  {
   "cell_type": "code",
   "execution_count": null,
   "metadata": {},
   "outputs": [],
   "source": [
    "colSums(is.na(movies_data))\n",
    "\n",
    "# Sums the number of values assigned NA in a particular column"
   ]
  },
  {
   "cell_type": "code",
   "execution_count": null,
   "metadata": {},
   "outputs": [],
   "source": [
    "# Use factor() for nominal data to convert their labels\n",
    "movies_data$color <- factor(movies_data$color, levels = c(\"\",\" Black and White\",\"Color\"), labels = c(1,2,3)) \n",
    "head(movies_data)"
   ]
  },
  {
   "cell_type": "markdown",
   "metadata": {},
   "source": [
    "**Reference:** [factor()](https://www.r-bloggers.com/data-types-part-3-factors/)\n",
    "\n",
    "Lets convert the labels of color column back to original values"
   ]
  },
  {
   "cell_type": "code",
   "execution_count": null,
   "metadata": {},
   "outputs": [],
   "source": [
    "movies_data$color <- factor(movies_data$color, levels = c(1,2,3), labels = c(\"\",\" Black and White\",\"Color\"))"
   ]
  },
  {
   "cell_type": "markdown",
   "metadata": {},
   "source": [
    "Lets generate a two way table for color and language variables. Calculate proportions of the movies made in different languages by color of the picture. "
   ]
  },
  {
   "cell_type": "code",
   "execution_count": null,
   "metadata": {},
   "outputs": [],
   "source": [
    "movies_by_language_color <- table(movies_data$color,movies_data$language)\n",
    "\n",
    "movies_by_language_color\n",
    "\n",
    "# The row above \"Black and White\" counts values equal to \"\".  "
   ]
  },
  {
   "cell_type": "markdown",
   "metadata": {},
   "source": [
    "prop.table simply generates proprotions of values. Coverting frequency counts into probabilities. \n",
    "\n",
    "    prop.table(movies_by_language_color,1),\n",
    "    \n",
    "where 1 represents rows and 2 represents columns. If you want column wise proportions use 2 instead of 1.\n",
    "<br>\n",
    "round() will round the values according to given level. In our example we are rounding columns of movies_by_language_color table to 2 decimals\n",
    "\n",
    "    round(prop.table(movies_by_language_color,1),2)\n",
    "    \n",
    "Below are the row proportions after rounding the values to four decimal levels"
   ]
  },
  {
   "cell_type": "code",
   "execution_count": null,
   "metadata": {},
   "outputs": [],
   "source": [
    "round(prop.table(movies_by_language_color,1),4)"
   ]
  },
  {
   "cell_type": "markdown",
   "metadata": {},
   "source": [
    "**Reference:** [table()](http://www.cyclismo.org/tutorial/R/tables.html)\n",
    "\n",
    "----\n",
    "If you want to convert above proportions in to percentages, simply multiply the values with 100 as shown below."
   ]
  },
  {
   "cell_type": "code",
   "execution_count": null,
   "metadata": {},
   "outputs": [],
   "source": [
    "round(100*prop.table(movies_by_language_color,1),2)"
   ]
  },
  {
   "cell_type": "code",
   "execution_count": null,
   "metadata": {
    "scrolled": true
   },
   "outputs": [],
   "source": [
    "help(chisq.test)"
   ]
  },
  {
   "cell_type": "markdown",
   "metadata": {},
   "source": [
    "**Question 1.b** Perform chi-squared test for language and color variables using the two way table \"movies_by_country_color\" we created above. "
   ]
  },
  {
   "cell_type": "code",
   "execution_count": null,
   "metadata": {},
   "outputs": [],
   "source": [
    "chisq.test(<what goes in here>)\n",
    "\n",
    "# An assumption for the chi-squared test is the \"expected cell count,\" which assumes that each cell has a count of \n",
    "# 5 or more and that no cells have an expected count of 0.  When this assumption is not met, Yates's correction\n",
    "# must be applied. (The violation of this assumption might generate a warning for you.)\n",
    "\n",
    "# The null hypothesis of the chi-squared test is that the two variables are independent and the alternate \n",
    "# hypothesis is that they are related.  The extremely small p-value leads us to reject the null and conclude that \n",
    "# the variables are dependent."
   ]
  },
  {
   "cell_type": "markdown",
   "metadata": {},
   "source": [
    "**Question 2.a:** subset the movies_data dataset based on NA value for `gross` in the dataset. Name the subset as `na_data` that should contain all rows which has NA for `gross`."
   ]
  },
  {
   "cell_type": "code",
   "execution_count": null,
   "metadata": {},
   "outputs": [],
   "source": [
    "na_data=movies_data[<what goes in here>(movies_data$gross),]"
   ]
  },
  {
   "cell_type": "markdown",
   "metadata": {},
   "source": [
    "**Question 2.b:** What is the distribution of 'NA' values in the `budget` variable in the na_data dataframe?"
   ]
  },
  {
   "cell_type": "code",
   "execution_count": null,
   "metadata": {},
   "outputs": [],
   "source": [
    "table(<what goes in here>(na_data$budget))"
   ]
  },
  {
   "cell_type": "markdown",
   "metadata": {},
   "source": [
    "For our analysis lets go ahead and remove the rows that contain any NA values."
   ]
  },
  {
   "cell_type": "code",
   "execution_count": null,
   "metadata": {},
   "outputs": [],
   "source": [
    "nrow(movies_data)\n",
    "movies_data=na.omit(movies_data)\n",
    "nrow(movies_data)"
   ]
  },
  {
   "cell_type": "markdown",
   "metadata": {},
   "source": [
    "The number of rows reduced from 5043 to 3801 when excluding all NA values fom the dataset. \n",
    "We lost more than 20% of the data after removing those rows. "
   ]
  },
  {
   "cell_type": "code",
   "execution_count": null,
   "metadata": {},
   "outputs": [],
   "source": [
    "require(gridExtra)\n",
    "require(ggplot2)\n",
    "\n",
    "## grid.arrange(x1,x2,x3...xn,ncol=x,nrow=y)\n",
    "## The command will arrange the plots x1,x2....xn in the desired arrangement of specified rows and columns\n",
    "\n",
    "# The number of bins should be chosen as appropriate. If you are not sure, then trial and error is the best \n",
    "# way to figure the right number of bins. Each bin will have number of observations equal to bin size. \n",
    "\n",
    "grid.arrange(qplot(movies_data$duration,bins = 100,xlab='Movie duration'),\n",
    "             qplot(movies_data$director_facebook_likes,bins = 50,xlab='director facebook likes'),\n",
    "             qplot(movies_data$actor_3_facebook_likes,bins = 50,xlab='actor_3_facebook_likes'),\n",
    "             qplot(movies_data$actor_1_facebook_likes,bins = 50,xlab='actor_1_facebook_likes'),\n",
    "             qplot(movies_data$gross,bins = 50,xlab='gross'),\n",
    "             qplot(movies_data$cast_total_facebook_likes,bins = 50,xlab='cast_total_facebook_likes'),\n",
    "             qplot(movies_data$budget,bins = 50,xlab='budget'),\n",
    "             qplot(movies_data$actor_2_facebook_likes,bins = 50,xlab='actor_2_facebook_likes'),\n",
    "             qplot(movies_data$movie_facebook_likes,bins = 50,xlab='movie_facebook_likes'),\n",
    "             ncol = 3)"
   ]
  },
  {
   "cell_type": "markdown",
   "metadata": {},
   "source": [
    "Looking at the histograms, most of the variables are positively skewed except for movie duration which looks normally distributed. Maximum duration of a movie is 511, which is weird. That movie would last 8 hours 30 minutes. The extreme values in rest of the variables dont seem to be outliers, as some of the movies, directors or actors are very famous compared to rest all movies. A box plot might give us more information about these variables.  \n",
    "\n",
    "Let's plot box plots for these variables."
   ]
  },
  {
   "cell_type": "code",
   "execution_count": null,
   "metadata": {},
   "outputs": [],
   "source": [
    "# library(ggplot2)\n",
    "# require(gridExtra)\n",
    "\n",
    "grid.arrange(qplot(y=movies_data$duration, x= 1, geom = \"boxplot\",ylab='Duration'),\n",
    "             qplot(y=movies_data$budget, x= 1, geom = \"boxplot\",ylab='Budget'),\n",
    "             qplot(y=movies_data$gross, x= 1, geom = \"boxplot\",ylab='Gross'),\n",
    "             qplot(y=movies_data$director_facebook_likes, x= 1, geom = \"boxplot\",ylab='Director fb likes'),\n",
    "             qplot(y=movies_data$actor_1_facebook_likes, x= 1, geom = \"boxplot\",ylab='actor 1 fb likes'),\n",
    "             qplot(y=movies_data$actor_2_facebook_likes, x= 1, geom = \"boxplot\",ylab='actor 2 fb likes'),\n",
    "             qplot(y=movies_data$actor_3_facebook_likes, x= 1, geom = \"boxplot\",ylab='actor 3 fb likes'),\n",
    "             qplot(y=movies_data$cast_total_facebook_likes, x= 1, geom = \"boxplot\",ylab='cast fb likes'),\n",
    "             qplot(y=movies_data$movie_facebook_likes, x= 1, geom = \"boxplot\",ylab='movie fb likes'),\n",
    "             ncol=3,nrow=3)"
   ]
  },
  {
   "cell_type": "markdown",
   "metadata": {},
   "source": [
    "Above box plots do not show any interesting patterns. Data has extreme outliers so the plots are not very telling. The only column in the dataset which tells us if a movie is good or not is the imdb_score. \n",
    "\n",
    "Movies with higher rating anything above 8 will end up in IMDB top 250. They are considered as good by the critics. Movies with rating 7 to 8 are probably still good movies. Movies with rating 6 to 7 can be ok to watch but viewers may not gain anything from them. At last, movies with ratings 1 to 5 are generally considered as bad movies."
   ]
  },
  {
   "cell_type": "markdown",
   "metadata": {},
   "source": [
    "**Question 3:** Add the values in the columns director_facebook_likes, actor_3_facebook_likes,actor_1_facebook_likes,cast_total_facebook_likes, actor_2_facebook_likes, movie_facebook_likes for every row in the dataset to find the total facebook likes a movie can claim.  \n",
    "\n",
    "Hint: Use the appropriate apply() function to add the values."
   ]
  },
  {
   "cell_type": "code",
   "execution_count": null,
   "metadata": {},
   "outputs": [],
   "source": [
    "result = <what goes in here>(sum, movies_data$director_facebook_likes, movies_data$actor_3_facebook_likes,\n",
    "                movies_data$actor_1_facebook_likes,movies_data$cast_total_facebook_likes, \n",
    "       movies_data$actor_2_facebook_likes, movies_data$movie_facebook_likes)\n",
    "head(result)"
   ]
  },
  {
   "cell_type": "markdown",
   "metadata": {},
   "source": [
    "**Question 4:** Summarize the data for columns country and color using a 2-way table. Add row and column sums at the end using addmargins() function. "
   ]
  },
  {
   "cell_type": "code",
   "execution_count": null,
   "metadata": {},
   "outputs": [],
   "source": [
    "color_country <- table(<what goes in here>,<what goes in here>)\n",
    "addmargins(<what goes in here>)\n",
    "\n",
    "# The column to the left of \"Black and White\" contains cell counts for the number of values equal to \"\". "
   ]
  },
  {
   "cell_type": "markdown",
   "metadata": {},
   "source": [
    "**Question 5:** Find correlation of all variables in movies_data dataframe by excluding all the factor variables in the dataset."
   ]
  },
  {
   "cell_type": "code",
   "execution_count": null,
   "metadata": {},
   "outputs": [],
   "source": [
    "# Create a dataframe excluding all factor variables in movies_data.\n",
    "# sapply() will generate column types for each column. %in% will check each column type with \"factor\" \n",
    "# and return TRUE or FALSE.\n",
    "# TRUE or FALSE will determine which rows to select and which not to select when assigning movies_data to less_data\n",
    "\n",
    "less_data=movies_data[!<what goes in here>(movies_data,class) %<what goes in here>% c(\"<what goes in here>\")]\n",
    "cor(less_data)"
   ]
  },
  {
   "cell_type": "markdown",
   "metadata": {},
   "source": [
    "Imdb score is the variable of interest in our movies dataset. Above correlation matrix tells us none of the continous variables are highly correlated with imdb_score. Following table shows how different variables are correlated with imdb_score. \n",
    "\n",
    "|Feature |imdb_score for population|\n",
    "|-|-------------------------|\n",
    "|num_critic_for_reviews|0.3438808|\n",
    "|duration|0.36612369|\n",
    "|director_facebook_likes|0.19083814|\n",
    "|actor_3_facebook_likes|0.06497354|\n",
    "|actor_1_facebook_likes|0.09313142|\n",
    "|gross|0.21212439|\n",
    "|num_voted_users|0.47791732|\n",
    "|cast_total_facebook_likes|0.1062587|\n",
    "|num_user_for_reviews|0.32252237|\n",
    "|budget|0.02904057|\n",
    "|title_year|-0.12926516|\n",
    "|actor_2_facebook_likes|0.10206038|\n",
    "|aspect_ratio|0.02845372|\n",
    "|movie_facebook_likes|0.2794777|\n",
    "\n",
    "With a 0.2 threshold for correlation, the 6 variables num_critic_for_reviews, duration, gross, num_voted_users, num_user_for_reviews and movie_facebook_likes look like promising predictors of imdb_score."
   ]
  },
  {
   "cell_type": "markdown",
   "metadata": {},
   "source": [
    "**Question 6:** Draw a plot with imdb_score on x-axis, num_voted_users on y-axis for movies_data dataset. Use color variable for color parameter and duration for size parameter. "
   ]
  },
  {
   "cell_type": "code",
   "execution_count": null,
   "metadata": {},
   "outputs": [],
   "source": [
    "options(scipen=999)  \n",
    "\n",
    "ggplot(movies_data,\n",
    "       aes(x=imdb_score,        # independet variable, feature 1\n",
    "           y=num_voted_users,              # dependent variable, feature 2\n",
    "           color=<what goes in here>,  # independet variable, feature 3\n",
    "           size=duration),      # independet variable, feature 4\n",
    "       xlab(\"IMDB Score\"),\n",
    "       ylab(\"Number of voted users\"),\n",
    "       main(\"IMDB rating vs No. of voted users\")\n",
    "      ) + <what goes in here>"
   ]
  },
  {
   "cell_type": "markdown",
   "metadata": {},
   "source": [
    "**Question 7:** Draw a plot with imdb_score on x-axis, director_facebook_likes on y-axis for movies_data dataset. Use color variable for color parameter and gross for size parameter. Debug/modify the code to generate the plot."
   ]
  },
  {
   "cell_type": "code",
   "execution_count": null,
   "metadata": {},
   "outputs": [],
   "source": [
    "options(scipen=999)  \n",
    "library(ggplot2)\n",
    "ggplot(movies_data,\n",
    "       aes(x=imdb_score,        # independet variable, feature 1\n",
    "           y=director_facebook_likes,              # dependent variable, feature 2\n",
    "           color=<what goes in here>,  # independet variable, feature 3\n",
    "           size=<what goes in here>)  +    # independet variable, feature 4\n",
    "       xlab(\"IMDB Score\") +\n",
    "       ylab(\"Director fb likes\")+\n",
    "       labs(title=\"IMDB rating vs Director fb likes\")\n",
    "       +geom_point()"
   ]
  },
  {
   "cell_type": "markdown",
   "metadata": {},
   "source": [
    "**Question 8.a:** Draw a plot with imdb_score on x-axis, director_facebook_likes on y-axis for movies_data dataset. Use movie_facebook_likes variable for color parameter and gross for size parameter. "
   ]
  },
  {
   "cell_type": "code",
   "execution_count": null,
   "metadata": {},
   "outputs": [],
   "source": [
    "options(scipen=999)  \n",
    "library(ggplot2)\n",
    "ggplot(movies_data,\n",
    "       aes(x=imdb_score,        # independet variable, feature 1\n",
    "           y=<what goes in here>,              # dependent variable, feature 2\n",
    "           <what goes in here>=movie_facebook_likes,  # independet variable, feature 3\n",
    "           size=gross)+      # independet variable, feature 4\n",
    "       xlab(\"IMDB Score\")+\n",
    "       ylab(\"Director fb likes\")+\n",
    "       main(\"IMDB rating vs Director fb likes\")\n",
    "      ) +geom_point()"
   ]
  },
  {
   "cell_type": "markdown",
   "metadata": {},
   "source": [
    "**Question 8.b:** Write in a few words about your observations about the plot."
   ]
  },
  {
   "cell_type": "raw",
   "metadata": {},
   "source": [
    "# Write your answer for 8.b here\n",
    "# ---------------------------------------\n",
    "\n"
   ]
  },
  {
   "cell_type": "markdown",
   "metadata": {},
   "source": [
    "**Question 9.a:** Draw a plot with imdb_score on x-axis, num_voted_users on y-axis for movies_data dataset. Use num_user_for_reviews variable for color parameter and gross for size parameter, color variable for shape parameter. "
   ]
  },
  {
   "cell_type": "code",
   "execution_count": null,
   "metadata": {},
   "outputs": [],
   "source": [
    "options(scipen=999)  \n",
    "library(ggplot2)\n",
    "ggplot(movies_data,\n",
    "       aes(x=imdb_score,        # independet variable, feature 1\n",
    "           y=num_voted_users,              # dependent variable, feature 2\n",
    "           color=num_user_for_reviews,  # independet variable, feature 3\n",
    "           size=gross,                  # independet variable, feature 4\n",
    "          <what goes in here>=<what goes in here>),      # independet variable, feature 5\n",
    "       xlab(\"IMDB Score\"),\n",
    "       ylab(\"Director fb likes\"),\n",
    "       main(\"IMDB rating vs No of voted users\")\n",
    "      ) +geom_point()"
   ]
  },
  {
   "cell_type": "markdown",
   "metadata": {},
   "source": [
    "**Question 9.b:** Write in a few words about your observations about the plot."
   ]
  },
  {
   "cell_type": "raw",
   "metadata": {},
   "source": [
    "# Write your answer for 9.b here\n",
    "# ---------------------------------------\n"
   ]
  },
  {
   "cell_type": "markdown",
   "metadata": {},
   "source": [
    "**Question 10.a:** Draw a 3d scatterplot with imdb_score on x-axis, num_voted_users on y-axis and num_user_for_reviews on z-axis for movies_data dataset. Use imdb_score variable variable for color parameter. Modify/complete the code to generate the plot."
   ]
  },
  {
   "cell_type": "code",
   "execution_count": null,
   "metadata": {},
   "outputs": [],
   "source": [
    "library(scatterplot3d)\n",
    "#Assigning a color to ranges of bathrooms\n",
    "movies_data$colors[movies_data$imdb_score<=2] <- \"green\"\n",
    "movies_data$colors[movies_data$imdb_score>=3 & movies_data$imdb_score<4] <- \"magenta\"\n",
    "movies_data$colors[movies_data$imdb_score>=4 & movies_data$imdb_score<5] <- \"red\"\n",
    "movies_data$colors[movies_data$imdb_score>=5 & movies_data$imdb_score<6] <- \"blue\"\n",
    "movies_data$colors[movies_data$imdb_score>=6 & movies_data$imdb_score<7] <- \"orange\"\n",
    "movies_data$colors[movies_data$imdb_score>=7 & movies_data$imdb_score<8] <- \"cyan\"\n",
    "movies_data$colors[movies_data$imdb_score>=8 & movies_data$imdb_score<9] <- \"purple\"\n",
    "movies_data$colors[movies_data$imdb_score>=9 & movies_data$imdb_score<10] <- \"black\"\n",
    "\n",
    "\n",
    "<what goes in here>(movies_data, {\n",
    "   # The scatter plot 3D was introduced in the extra / optional notebooks last week.\n",
    "   # This function produces a three dimensional plot of points using 3 variables for position, instead of just 2.\n",
    "                 #   x,        y,   and    z axis\n",
    "   scatterplot3d(imdb_score, num_voted_users, num_user_for_reviews,       \n",
    "                 <what goes in here>=<what goes in here>,             # put lines on the horizontal plane\n",
    "                 angle = 45,           # angle=45 denotes how graph is oriented,\n",
    "                 pch = 16,             # pch=16 denotes shape used to denote points on the plot\n",
    "                 color=colors,         #color=colors suggests to colors variable created above\n",
    "                 main=\"IMDB score vs user votes & reviews\",        \n",
    "                 xlab=\"IMDB Score\",\n",
    "                 ylab=\"No. of voted users\",\n",
    "                 zlab=\"No of user reviews\")\n",
    "\n",
    "legend(\"topleft\", inset=.05,      # location where the legend should be positioned on the graph\n",
    "    bty=\"n\", cex=.5,              # suppress legend box, shrink text 50%\n",
    "    title=\"IMDB score\", \n",
    "    c(\"<2\", \"3 - 3.9\", \"4 - 4.9\", \"5 - 5.9\", \"6 - 6.9\", \"7 - 7.9\", \"8 - 8.9\", \"9 - 9.9\"), \n",
    "       fill=c(\"green\", \"magenta\", \"red\", \"blue\", \"orange\", \"cyan\", \"purple\", \"black\"))\n",
    "}) # ends the context of the with()"
   ]
  },
  {
   "cell_type": "markdown",
   "metadata": {},
   "source": [
    "**Question 10.b:** Write in a few words about your observations about the plot."
   ]
  },
  {
   "cell_type": "raw",
   "metadata": {},
   "source": [
    "# Write your answer for 10.b here\n",
    "# ---------------------------------------\n"
   ]
  },
  {
   "cell_type": "markdown",
   "metadata": {},
   "source": [
    "# SAVE YOUR NOTEBOOK"
   ]
  }
 ],
 "metadata": {
  "kernelspec": {
   "display_name": "R",
   "language": "R",
   "name": "ir"
  },
  "language_info": {
   "codemirror_mode": "r",
   "file_extension": ".r",
   "mimetype": "text/x-r-source",
   "name": "R",
   "pygments_lexer": "r",
   "version": "4.0.5"
  }
 },
 "nbformat": 4,
 "nbformat_minor": 1
}
