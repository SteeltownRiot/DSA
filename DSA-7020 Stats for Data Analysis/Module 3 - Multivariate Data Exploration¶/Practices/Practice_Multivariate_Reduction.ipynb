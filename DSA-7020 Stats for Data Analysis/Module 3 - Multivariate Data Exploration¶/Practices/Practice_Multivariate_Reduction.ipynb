{
 "cells": [
  {
   "cell_type": "markdown",
   "metadata": {},
   "source": [
    "## Multivariate Reduction Practice\n",
    "\n",
    "Let's continue our discussion with multivariate data reduction. We will focus on dimensionality reduction using principal component analysis. The questions are partially complete. You may have to debug/modify/complete the code to generate the desired output. "
   ]
  },
  {
   "cell_type": "markdown",
   "metadata": {},
   "source": [
    "**Load the data** into movies_data dataframe."
   ]
  },
  {
   "cell_type": "code",
   "execution_count": null,
   "metadata": {},
   "outputs": [],
   "source": [
    "movies_data <- read.csv(\"/dsa/data/all_datasets/movies/movie_metadata.csv\", header = T, sep=\",\")\n",
    "head(movies_data)"
   ]
  },
  {
   "cell_type": "markdown",
   "metadata": {},
   "source": [
    "Remove the rows that contain any NA values."
   ]
  },
  {
   "cell_type": "code",
   "execution_count": null,
   "metadata": {},
   "outputs": [],
   "source": [
    "# Count number of rows in the dataset\n",
    "nrow(movies_data)\n",
    "\n",
    "# Omit rows from  the dataset that contain NA values\n",
    "movies_data <- na.omit(movies_data)\n",
    "\n",
    "# Count number of rows again in the dataset\n",
    "nrow(movies_data)\n",
    "\n",
    "# Create a new dataframe called less_data excluding all rows from movies_data that contain NA values \n",
    "less_data <- movies_data[!sapply(movies_data,class) %in% c(\"factor\")]"
   ]
  },
  {
   "cell_type": "markdown",
   "metadata": {},
   "source": [
    "#### Correlation Matrix\n"
   ]
  },
  {
   "cell_type": "code",
   "execution_count": null,
   "metadata": {},
   "outputs": [],
   "source": [
    "cor(less_data) # get the correlations for less_data"
   ]
  },
  {
   "cell_type": "markdown",
   "metadata": {},
   "source": [
    "The output of cor() function is the correlation coefficient between each and every variable combination in the dataset. \n",
    "A variable's correlation to itself is always 1."
   ]
  },
  {
   "cell_type": "markdown",
   "metadata": {},
   "source": [
    "Variables\n",
    "\n",
    "- movie_facebook_likes\n",
    "- num_user_for_reviews\n",
    "- num_voted_users\n",
    "- num_critic_for_reviews\n",
    "- duration\n",
    "\n",
    "are the most correlated with imdb_score. \n",
    "<div>\n",
    "    <ul>\n",
    "        <br>\n",
    "        <li> \n",
    "            <span style=\"color:#cc1652\">cast_total_facebook_likes</span> has a strong positive correlation with the <span style=\"color:#d38032\">actor_1_facebook_likes</span>, and has smaller positive correlation with both <span style=\"color:#30a5d3\">actor_2_facebook_likes</span> and <span style=\"color:#08cc6d\">actor_3_facebook_likes</span>\n",
    "        </li>\n",
    "        <br>\n",
    "        <li>\n",
    "            <span style=\"color:#d32e44\">movie_facebook_likes</span> has strong correlation with <span style=\"color:#8934c1\">num_critic_for_reviews</span>, meaning that the popularity of a movie in social networks can be largely affected by the critics\n",
    "        </li>\n",
    "        <br>\n",
    "        <li> <span style=\"color:#d32e44\">movie_facebook_likes</span> has a decent amount of correlation with the <span style=\"color:#1d48d3\">num_voted_users</span>\n",
    "        </li>\n",
    "        <br>\n",
    "        <li> <span style=\"color:#cc1652\">gross</span> has a strong positive correlation with the <span style=\"color:#1d48d3\">num_voted_users</span>\n",
    "        </li>\n",
    "    </ul>\n",
    "</div>\n",
    "\n",
    "\n",
    "Contradicting correlations\n",
    "---------------------------\n",
    "\n",
    "<div>\n",
    "    <ul>\n",
    "        <br>\n",
    "        <li> \n",
    "            <span style=\"color:#cc1652\">imdb_score</span> has very small positive correlation with <span style=\"color:#08cc6d\">director_facebook_likes</span>. So we cant guarantee a popular director's movie will be great.\n",
    "        </li>\n",
    "        <br>\n",
    "        <li>\n",
    "            <span style=\"color:#cc1652\">imdb_score</span> has very small positive correlation with the <span style=\"color:#d32e44\">actor_1_facebook_likes</span>. Just like a famous director, we cant guarantee a popular actor's movie will be great.\n",
    "        </li>\n",
    "        <br>\n",
    "        <li> <span style=\"color:#cc1652\">imdb_score</span> has a small but positive correlation with <span style=\"color:#d32e44\">duration</span>. Highly rated movies tend to be longer in duration.\n",
    "        </li>\n",
    "        <br>\n",
    "        <li> <span style=\"color:#cc1652\">num_voted_users</span> and <span style=\"color:#1d48d3\">num_user_for_reviews</span> demonstrate a small positive correlation. Maybe more reviews are made on good movies.\n",
    "        </li>\n",
    "        <br>\n",
    "        <li> <span style=\"color:#cc1652\">imdb_score</span> has almost no correlation with <span style=\"color:#11c627\">budget</span>. Big budget movies will not necessarily turn out great\n",
    "        </li>\n",
    "    </ul>\n",
    "</div>"
   ]
  },
  {
   "cell_type": "markdown",
   "metadata": {},
   "source": [
    "**Question 1.a:** Which correlations surprise you and/or seem interesting for investigation?"
   ]
  },
  {
   "cell_type": "raw",
   "metadata": {},
   "source": [
    "# Write your answer below this comment:\n",
    "# -----------------------------------------\n",
    "\n"
   ]
  },
  {
   "cell_type": "markdown",
   "metadata": {},
   "source": [
    "Let's continue our discussion with PCA. As we have seen in lab notebook we have to standardize the variables. "
   ]
  },
  {
   "cell_type": "markdown",
   "metadata": {},
   "source": [
    "**Question 2:** Use scale() function to standardize the numeric variables in movies_data and assign the new data to a variable called standard_vars."
   ]
  },
  {
   "cell_type": "code",
   "execution_count": null,
   "metadata": {},
   "outputs": [],
   "source": [
    "standard_vars <- as.data.frame(scale(less_data))\n",
    "dim(standard_vars)\n",
    "head(standard_vars)"
   ]
  },
  {
   "cell_type": "markdown",
   "metadata": {},
   "source": [
    "**Question 3:** Run prcomp() function on standard_vars created above and assign the result to movies_data_pca "
   ]
  },
  {
   "cell_type": "code",
   "execution_count": null,
   "metadata": {},
   "outputs": [],
   "source": [
    "# Compute the Principal Components. Run prcomp() function on standardardized variables created above.\n",
    "movies_data_pca <- prcomp(standard_vars)"
   ]
  },
  {
   "cell_type": "code",
   "execution_count": null,
   "metadata": {},
   "outputs": [],
   "source": [
    "help(prcomp)"
   ]
  },
  {
   "cell_type": "markdown",
   "metadata": {},
   "source": [
    "**If you go to the help page for `prcomp` you will find in the details section,**\n",
    "\n",
    "`The calculation is done by a singular value decomposition of the (centered and scaled) data matrix, not by using eigen on the covariance matrix. This is generally the preferred method for numerical accuracy.`\n",
    "\n",
    "For `princomp()` you will see,\n",
    "\n",
    "`The calculation is done using eigen on the correlation or covariance matrix, as determined by cor. This is done for compatibility with the S-PLUS result. A preferred method of calculation is to use svd on x, as is done in prcomp.\"`"
   ]
  },
  {
   "cell_type": "code",
   "execution_count": null,
   "metadata": {},
   "outputs": [],
   "source": [
    "summary(movies_data_pca)"
   ]
  },
  {
   "cell_type": "code",
   "execution_count": null,
   "metadata": {},
   "outputs": [],
   "source": [
    "screeplot(movies_data_pca, type=\"lines\")"
   ]
  },
  {
   "cell_type": "markdown",
   "metadata": {},
   "source": [
    "**Question 4:** What are your observations from the plot below? Write a few words below about how you interpret points and vectors?"
   ]
  },
  {
   "cell_type": "code",
   "execution_count": null,
   "metadata": {},
   "outputs": [],
   "source": [
    "biplot(movies_data_pca) "
   ]
  },
  {
   "cell_type": "raw",
   "metadata": {},
   "source": [
    "#  Write your answer for question 4 here\n",
    "# --------------------------------\n",
    "\n",
    "\n"
   ]
  },
  {
   "cell_type": "markdown",
   "metadata": {},
   "source": [
    "Look at the dimensions of the PCA we ran. We are interested in the x part of movies_data_pca for the dimensions."
   ]
  },
  {
   "cell_type": "code",
   "execution_count": null,
   "metadata": {},
   "outputs": [],
   "source": [
    "dim(movies_data_pca$x)"
   ]
  },
  {
   "cell_type": "markdown",
   "metadata": {},
   "source": [
    "**Question 5:** Fit a multiple regression model to predict imdb_score on less_data using the **first 4 principal components created above**. "
   ]
  },
  {
   "cell_type": "code",
   "execution_count": null,
   "metadata": {},
   "outputs": [],
   "source": [
    "# movies_data_pca$x is a list that contains all the principal components. You can access components using \n",
    "# subscripts [,1], [,2], [,3], and so on\n",
    "\n",
    "fit = lm(less_data$imdb_score ~ <YOUR CODE HERE>)\n",
    "summary(fit)"
   ]
  },
  {
   "cell_type": "markdown",
   "metadata": {
    "collapsed": true
   },
   "source": [
    "Lets try to fit a linear multiple regression model using the most correlated variables we found."
   ]
  },
  {
   "cell_type": "markdown",
   "metadata": {},
   "source": [
    "**Question 6.a:** Fit a multiple regression model on movies_data to predict imdb_score using variables movie_facebook_likes, num_user_for_reviews, num_voted_users, num_critic_for_reviews and duration."
   ]
  },
  {
   "cell_type": "code",
   "execution_count": null,
   "metadata": {},
   "outputs": [],
   "source": [
    "fit1=lm(<YOUR CODE HERE>,\n",
    "       data=movies_data)\n",
    "summary(fit1)"
   ]
  },
  {
   "cell_type": "markdown",
   "metadata": {},
   "source": [
    "**Question 6.b:** Compare the $R^2$ value for models fit1 and fit. Write your opinion about the models."
   ]
  },
  {
   "cell_type": "raw",
   "metadata": {},
   "source": [
    "#  Write your answer for question 6.b here\n",
    "# --------------------------------\n",
    "\n",
    "\n"
   ]
  },
  {
   "cell_type": "markdown",
   "metadata": {},
   "source": [
    "**Question 7:** Build a model to predict imdb_score using all the independent features of less_data."
   ]
  },
  {
   "cell_type": "code",
   "execution_count": null,
   "metadata": {},
   "outputs": [],
   "source": [
    "fit2=lm(<YOUR CODE HERE>)\n",
    "summary(fit2)"
   ]
  },
  {
   "cell_type": "markdown",
   "metadata": {},
   "source": [
    "**Question 8:** Compare the model built using first 4 principal components to the models built using the variables in the datasets less_data and movies_data. "
   ]
  },
  {
   "cell_type": "raw",
   "metadata": {},
   "source": [
    "#  Write your code/answer for question 8 here\n",
    "# --------------------------------\n",
    "\n",
    "\n"
   ]
  },
  {
   "cell_type": "markdown",
   "metadata": {},
   "source": [
    "**Question 9a:** Run factanal() function to generate 2 factors for less_data.  "
   ]
  },
  {
   "cell_type": "code",
   "execution_count": null,
   "metadata": {},
   "outputs": [],
   "source": [
    "factors <- factanal(<YOUR CODE HERE>)\n",
    "factors\n"
   ]
  },
  {
   "cell_type": "markdown",
   "metadata": {},
   "source": [
    "**Question 9b:** Look at component loadings; can you group the variables by two factors similar to the lab notebooks? "
   ]
  },
  {
   "cell_type": "raw",
   "metadata": {},
   "source": [
    "#  Write your answer for question 9.b here\n",
    "# --------------------------------\n",
    "\n",
    "\n"
   ]
  },
  {
   "cell_type": "markdown",
   "metadata": {},
   "source": [
    "# SAVE YOUR NOTEBOOK"
   ]
  }
 ],
 "metadata": {
  "kernelspec": {
   "display_name": "R",
   "language": "R",
   "name": "ir"
  },
  "language_info": {
   "codemirror_mode": "r",
   "file_extension": ".r",
   "mimetype": "text/x-r-source",
   "name": "R",
   "pygments_lexer": "r",
   "version": "4.0.5"
  }
 },
 "nbformat": 4,
 "nbformat_minor": 1
}
