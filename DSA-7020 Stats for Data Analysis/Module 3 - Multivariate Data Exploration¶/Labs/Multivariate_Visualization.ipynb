{
 "cells": [
  {
   "cell_type": "markdown",
   "metadata": {},
   "source": [
    "#  From Visualization to Statistics\n",
    "----\n",
    "\n",
    "## Limited utility of graphing vectors\n",
    "\n",
    "Previously, we tried to analyze data using different kinds of visualizations. \n",
    "Graphs are easy to understand and catchy when you want to explain something. \n",
    "You can convey lot of information through a picture. \n",
    "However, as we saw, there is a limit to the extent of information you can show on the graph and still convey its meaning appropriately. \n",
    "\n",
    "We have seen graphs do a great job in univariate and bivariate data analysis. \n",
    "They did fine in explaining how data varies in four dimensions by plotting 3-dimensional data \n",
    "points and using color as a fourth feature. \n",
    "However, it is hard to plot 5 features within a single plot. \n",
    "Even if you manage to plot 5 dimensions it will be difficult to interpret the graph. \n",
    "So when you have multidimensional data, which can reach 1000's of features, \n",
    "you have to rely on multivariate statistics for analyzing the data before you explore visualizations.\n",
    "\n",
    "In fact, statistics will help you to narrow down the list of significant features you can use for building a model. \n",
    "These reduced sets of features can be analyzed using graphs. \n",
    "Statistics will guide which features or data to visualize to gain more insights from the data."
   ]
  },
  {
   "cell_type": "markdown",
   "metadata": {},
   "source": [
    "#### Let's review multidimensional visualizations from module 2 using shapes / colors / size\n",
    "\n",
    "We will work with the Kings county housing data again..."
   ]
  },
  {
   "cell_type": "code",
   "execution_count": 1,
   "metadata": {},
   "outputs": [
    {
     "data": {
      "text/html": [
       "<table class=\"dataframe\">\n",
       "<caption>A data.frame: 6 × 21</caption>\n",
       "<thead>\n",
       "\t<tr><th></th><th scope=col>id</th><th scope=col>date</th><th scope=col>price</th><th scope=col>bedrooms</th><th scope=col>bathrooms</th><th scope=col>sqft_living</th><th scope=col>sqft_lot</th><th scope=col>floors</th><th scope=col>waterfront</th><th scope=col>view</th><th scope=col>⋯</th><th scope=col>grade</th><th scope=col>sqft_above</th><th scope=col>sqft_basement</th><th scope=col>yr_built</th><th scope=col>yr_renovated</th><th scope=col>zipcode</th><th scope=col>lat</th><th scope=col>long</th><th scope=col>sqft_living15</th><th scope=col>sqft_lot15</th></tr>\n",
       "\t<tr><th></th><th scope=col>&lt;dbl&gt;</th><th scope=col>&lt;chr&gt;</th><th scope=col>&lt;dbl&gt;</th><th scope=col>&lt;int&gt;</th><th scope=col>&lt;dbl&gt;</th><th scope=col>&lt;int&gt;</th><th scope=col>&lt;int&gt;</th><th scope=col>&lt;dbl&gt;</th><th scope=col>&lt;int&gt;</th><th scope=col>&lt;int&gt;</th><th scope=col>⋯</th><th scope=col>&lt;int&gt;</th><th scope=col>&lt;int&gt;</th><th scope=col>&lt;int&gt;</th><th scope=col>&lt;int&gt;</th><th scope=col>&lt;int&gt;</th><th scope=col>&lt;int&gt;</th><th scope=col>&lt;dbl&gt;</th><th scope=col>&lt;dbl&gt;</th><th scope=col>&lt;int&gt;</th><th scope=col>&lt;int&gt;</th></tr>\n",
       "</thead>\n",
       "<tbody>\n",
       "\t<tr><th scope=row>1</th><td>7129300520</td><td>20141013T000000</td><td> 221900</td><td>3</td><td>1.00</td><td>1180</td><td>  5650</td><td>1</td><td>0</td><td>0</td><td>⋯</td><td> 7</td><td>1180</td><td>   0</td><td>1955</td><td>   0</td><td>98178</td><td>47.5112</td><td>-122.257</td><td>1340</td><td>  5650</td></tr>\n",
       "\t<tr><th scope=row>2</th><td>6414100192</td><td>20141209T000000</td><td> 538000</td><td>3</td><td>2.25</td><td>2570</td><td>  7242</td><td>2</td><td>0</td><td>0</td><td>⋯</td><td> 7</td><td>2170</td><td> 400</td><td>1951</td><td>1991</td><td>98125</td><td>47.7210</td><td>-122.319</td><td>1690</td><td>  7639</td></tr>\n",
       "\t<tr><th scope=row>3</th><td>5631500400</td><td>20150225T000000</td><td> 180000</td><td>2</td><td>1.00</td><td> 770</td><td> 10000</td><td>1</td><td>0</td><td>0</td><td>⋯</td><td> 6</td><td> 770</td><td>   0</td><td>1933</td><td>   0</td><td>98028</td><td>47.7379</td><td>-122.233</td><td>2720</td><td>  8062</td></tr>\n",
       "\t<tr><th scope=row>4</th><td>2487200875</td><td>20141209T000000</td><td> 604000</td><td>4</td><td>3.00</td><td>1960</td><td>  5000</td><td>1</td><td>0</td><td>0</td><td>⋯</td><td> 7</td><td>1050</td><td> 910</td><td>1965</td><td>   0</td><td>98136</td><td>47.5208</td><td>-122.393</td><td>1360</td><td>  5000</td></tr>\n",
       "\t<tr><th scope=row>5</th><td>1954400510</td><td>20150218T000000</td><td> 510000</td><td>3</td><td>2.00</td><td>1680</td><td>  8080</td><td>1</td><td>0</td><td>0</td><td>⋯</td><td> 8</td><td>1680</td><td>   0</td><td>1987</td><td>   0</td><td>98074</td><td>47.6168</td><td>-122.045</td><td>1800</td><td>  7503</td></tr>\n",
       "\t<tr><th scope=row>6</th><td>7237550310</td><td>20140512T000000</td><td>1225000</td><td>4</td><td>4.50</td><td>5420</td><td>101930</td><td>1</td><td>0</td><td>0</td><td>⋯</td><td>11</td><td>3890</td><td>1530</td><td>2001</td><td>   0</td><td>98053</td><td>47.6561</td><td>-122.005</td><td>4760</td><td>101930</td></tr>\n",
       "</tbody>\n",
       "</table>\n"
      ],
      "text/latex": [
       "A data.frame: 6 × 21\n",
       "\\begin{tabular}{r|lllllllllllllllllllll}\n",
       "  & id & date & price & bedrooms & bathrooms & sqft\\_living & sqft\\_lot & floors & waterfront & view & ⋯ & grade & sqft\\_above & sqft\\_basement & yr\\_built & yr\\_renovated & zipcode & lat & long & sqft\\_living15 & sqft\\_lot15\\\\\n",
       "  & <dbl> & <chr> & <dbl> & <int> & <dbl> & <int> & <int> & <dbl> & <int> & <int> & ⋯ & <int> & <int> & <int> & <int> & <int> & <int> & <dbl> & <dbl> & <int> & <int>\\\\\n",
       "\\hline\n",
       "\t1 & 7129300520 & 20141013T000000 &  221900 & 3 & 1.00 & 1180 &   5650 & 1 & 0 & 0 & ⋯ &  7 & 1180 &    0 & 1955 &    0 & 98178 & 47.5112 & -122.257 & 1340 &   5650\\\\\n",
       "\t2 & 6414100192 & 20141209T000000 &  538000 & 3 & 2.25 & 2570 &   7242 & 2 & 0 & 0 & ⋯ &  7 & 2170 &  400 & 1951 & 1991 & 98125 & 47.7210 & -122.319 & 1690 &   7639\\\\\n",
       "\t3 & 5631500400 & 20150225T000000 &  180000 & 2 & 1.00 &  770 &  10000 & 1 & 0 & 0 & ⋯ &  6 &  770 &    0 & 1933 &    0 & 98028 & 47.7379 & -122.233 & 2720 &   8062\\\\\n",
       "\t4 & 2487200875 & 20141209T000000 &  604000 & 4 & 3.00 & 1960 &   5000 & 1 & 0 & 0 & ⋯ &  7 & 1050 &  910 & 1965 &    0 & 98136 & 47.5208 & -122.393 & 1360 &   5000\\\\\n",
       "\t5 & 1954400510 & 20150218T000000 &  510000 & 3 & 2.00 & 1680 &   8080 & 1 & 0 & 0 & ⋯ &  8 & 1680 &    0 & 1987 &    0 & 98074 & 47.6168 & -122.045 & 1800 &   7503\\\\\n",
       "\t6 & 7237550310 & 20140512T000000 & 1225000 & 4 & 4.50 & 5420 & 101930 & 1 & 0 & 0 & ⋯ & 11 & 3890 & 1530 & 2001 &    0 & 98053 & 47.6561 & -122.005 & 4760 & 101930\\\\\n",
       "\\end{tabular}\n"
      ],
      "text/markdown": [
       "\n",
       "A data.frame: 6 × 21\n",
       "\n",
       "| <!--/--> | id &lt;dbl&gt; | date &lt;chr&gt; | price &lt;dbl&gt; | bedrooms &lt;int&gt; | bathrooms &lt;dbl&gt; | sqft_living &lt;int&gt; | sqft_lot &lt;int&gt; | floors &lt;dbl&gt; | waterfront &lt;int&gt; | view &lt;int&gt; | ⋯ ⋯ | grade &lt;int&gt; | sqft_above &lt;int&gt; | sqft_basement &lt;int&gt; | yr_built &lt;int&gt; | yr_renovated &lt;int&gt; | zipcode &lt;int&gt; | lat &lt;dbl&gt; | long &lt;dbl&gt; | sqft_living15 &lt;int&gt; | sqft_lot15 &lt;int&gt; |\n",
       "|---|---|---|---|---|---|---|---|---|---|---|---|---|---|---|---|---|---|---|---|---|---|\n",
       "| 1 | 7129300520 | 20141013T000000 |  221900 | 3 | 1.00 | 1180 |   5650 | 1 | 0 | 0 | ⋯ |  7 | 1180 |    0 | 1955 |    0 | 98178 | 47.5112 | -122.257 | 1340 |   5650 |\n",
       "| 2 | 6414100192 | 20141209T000000 |  538000 | 3 | 2.25 | 2570 |   7242 | 2 | 0 | 0 | ⋯ |  7 | 2170 |  400 | 1951 | 1991 | 98125 | 47.7210 | -122.319 | 1690 |   7639 |\n",
       "| 3 | 5631500400 | 20150225T000000 |  180000 | 2 | 1.00 |  770 |  10000 | 1 | 0 | 0 | ⋯ |  6 |  770 |    0 | 1933 |    0 | 98028 | 47.7379 | -122.233 | 2720 |   8062 |\n",
       "| 4 | 2487200875 | 20141209T000000 |  604000 | 4 | 3.00 | 1960 |   5000 | 1 | 0 | 0 | ⋯ |  7 | 1050 |  910 | 1965 |    0 | 98136 | 47.5208 | -122.393 | 1360 |   5000 |\n",
       "| 5 | 1954400510 | 20150218T000000 |  510000 | 3 | 2.00 | 1680 |   8080 | 1 | 0 | 0 | ⋯ |  8 | 1680 |    0 | 1987 |    0 | 98074 | 47.6168 | -122.045 | 1800 |   7503 |\n",
       "| 6 | 7237550310 | 20140512T000000 | 1225000 | 4 | 4.50 | 5420 | 101930 | 1 | 0 | 0 | ⋯ | 11 | 3890 | 1530 | 2001 |    0 | 98053 | 47.6561 | -122.005 | 4760 | 101930 |\n",
       "\n"
      ],
      "text/plain": [
       "  id         date            price   bedrooms bathrooms sqft_living sqft_lot\n",
       "1 7129300520 20141013T000000  221900 3        1.00      1180          5650  \n",
       "2 6414100192 20141209T000000  538000 3        2.25      2570          7242  \n",
       "3 5631500400 20150225T000000  180000 2        1.00       770         10000  \n",
       "4 2487200875 20141209T000000  604000 4        3.00      1960          5000  \n",
       "5 1954400510 20150218T000000  510000 3        2.00      1680          8080  \n",
       "6 7237550310 20140512T000000 1225000 4        4.50      5420        101930  \n",
       "  floors waterfront view ⋯ grade sqft_above sqft_basement yr_built yr_renovated\n",
       "1 1      0          0    ⋯  7    1180          0          1955        0        \n",
       "2 2      0          0    ⋯  7    2170        400          1951     1991        \n",
       "3 1      0          0    ⋯  6     770          0          1933        0        \n",
       "4 1      0          0    ⋯  7    1050        910          1965        0        \n",
       "5 1      0          0    ⋯  8    1680          0          1987        0        \n",
       "6 1      0          0    ⋯ 11    3890       1530          2001        0        \n",
       "  zipcode lat     long     sqft_living15 sqft_lot15\n",
       "1 98178   47.5112 -122.257 1340            5650    \n",
       "2 98125   47.7210 -122.319 1690            7639    \n",
       "3 98028   47.7379 -122.233 2720            8062    \n",
       "4 98136   47.5208 -122.393 1360            5000    \n",
       "5 98074   47.6168 -122.045 1800            7503    \n",
       "6 98053   47.6561 -122.005 4760          101930    "
      ]
     },
     "metadata": {},
     "output_type": "display_data"
    }
   ],
   "source": [
    "housing_prices <- read.csv(\"/dsa/data/all_datasets/house_sales_in_king_county/kc_house_data.csv\")\n",
    "head(housing_prices)"
   ]
  },
  {
   "cell_type": "markdown",
   "metadata": {},
   "source": [
    "Let's see how the independent variables are correlated to the dependent variable price. \n",
    "Before we can run `cor()` command on **housing_prices**, we need to make sure all variables supplied to `cor()` function are numeric.\n",
    "\n",
    "__Reference__: [apply, sapply, lapply in R](https://www.r-bloggers.com/using-apply-sapply-lapply-in-r/)  \n",
    "__Reference__: [R function for determining Class, TypeOf](http://rfunction.com/archives/770)  \n",
    "__Reference__: [R transpose function, t()](http://www.statmethods.net/management/reshape.html)"
   ]
  },
  {
   "cell_type": "code",
   "execution_count": 2,
   "metadata": {},
   "outputs": [
    {
     "data": {
      "text/html": [
       "<table class=\"dataframe\">\n",
       "<caption>A matrix: 1 × 21 of type chr</caption>\n",
       "<thead>\n",
       "\t<tr><th scope=col>id</th><th scope=col>date</th><th scope=col>price</th><th scope=col>bedrooms</th><th scope=col>bathrooms</th><th scope=col>sqft_living</th><th scope=col>sqft_lot</th><th scope=col>floors</th><th scope=col>waterfront</th><th scope=col>view</th><th scope=col>⋯</th><th scope=col>grade</th><th scope=col>sqft_above</th><th scope=col>sqft_basement</th><th scope=col>yr_built</th><th scope=col>yr_renovated</th><th scope=col>zipcode</th><th scope=col>lat</th><th scope=col>long</th><th scope=col>sqft_living15</th><th scope=col>sqft_lot15</th></tr>\n",
       "</thead>\n",
       "<tbody>\n",
       "\t<tr><td>numeric</td><td>character</td><td>numeric</td><td>integer</td><td>numeric</td><td>integer</td><td>integer</td><td>numeric</td><td>integer</td><td>integer</td><td>⋯</td><td>integer</td><td>integer</td><td>integer</td><td>integer</td><td>integer</td><td>integer</td><td>numeric</td><td>numeric</td><td>integer</td><td>integer</td></tr>\n",
       "</tbody>\n",
       "</table>\n"
      ],
      "text/latex": [
       "A matrix: 1 × 21 of type chr\n",
       "\\begin{tabular}{lllllllllllllllllllll}\n",
       " id & date & price & bedrooms & bathrooms & sqft\\_living & sqft\\_lot & floors & waterfront & view & ⋯ & grade & sqft\\_above & sqft\\_basement & yr\\_built & yr\\_renovated & zipcode & lat & long & sqft\\_living15 & sqft\\_lot15\\\\\n",
       "\\hline\n",
       "\t numeric & character & numeric & integer & numeric & integer & integer & numeric & integer & integer & ⋯ & integer & integer & integer & integer & integer & integer & numeric & numeric & integer & integer\\\\\n",
       "\\end{tabular}\n"
      ],
      "text/markdown": [
       "\n",
       "A matrix: 1 × 21 of type chr\n",
       "\n",
       "| id | date | price | bedrooms | bathrooms | sqft_living | sqft_lot | floors | waterfront | view | ⋯ | grade | sqft_above | sqft_basement | yr_built | yr_renovated | zipcode | lat | long | sqft_living15 | sqft_lot15 |\n",
       "|---|---|---|---|---|---|---|---|---|---|---|---|---|---|---|---|---|---|---|---|---|\n",
       "| numeric | character | numeric | integer | numeric | integer | integer | numeric | integer | integer | ⋯ | integer | integer | integer | integer | integer | integer | numeric | numeric | integer | integer |\n",
       "\n"
      ],
      "text/plain": [
       "     id      date      price   bedrooms bathrooms sqft_living sqft_lot floors \n",
       "[1,] numeric character numeric integer  numeric   integer     integer  numeric\n",
       "     waterfront view    ⋯ grade   sqft_above sqft_basement yr_built\n",
       "[1,] integer    integer ⋯ integer integer    integer       integer \n",
       "     yr_renovated zipcode lat     long    sqft_living15 sqft_lot15\n",
       "[1,] integer      integer numeric numeric integer       integer   "
      ]
     },
     "metadata": {},
     "output_type": "display_data"
    },
    {
     "data": {
      "text/html": [
       "<table class=\"dataframe\">\n",
       "<caption>A matrix: 1 × 21 of type chr</caption>\n",
       "<thead>\n",
       "\t<tr><th scope=col>id</th><th scope=col>date</th><th scope=col>price</th><th scope=col>bedrooms</th><th scope=col>bathrooms</th><th scope=col>sqft_living</th><th scope=col>sqft_lot</th><th scope=col>floors</th><th scope=col>waterfront</th><th scope=col>view</th><th scope=col>⋯</th><th scope=col>grade</th><th scope=col>sqft_above</th><th scope=col>sqft_basement</th><th scope=col>yr_built</th><th scope=col>yr_renovated</th><th scope=col>zipcode</th><th scope=col>lat</th><th scope=col>long</th><th scope=col>sqft_living15</th><th scope=col>sqft_lot15</th></tr>\n",
       "</thead>\n",
       "<tbody>\n",
       "\t<tr><td>double</td><td>character</td><td>double</td><td>integer</td><td>double</td><td>integer</td><td>integer</td><td>double</td><td>integer</td><td>integer</td><td>⋯</td><td>integer</td><td>integer</td><td>integer</td><td>integer</td><td>integer</td><td>integer</td><td>double</td><td>double</td><td>integer</td><td>integer</td></tr>\n",
       "</tbody>\n",
       "</table>\n"
      ],
      "text/latex": [
       "A matrix: 1 × 21 of type chr\n",
       "\\begin{tabular}{lllllllllllllllllllll}\n",
       " id & date & price & bedrooms & bathrooms & sqft\\_living & sqft\\_lot & floors & waterfront & view & ⋯ & grade & sqft\\_above & sqft\\_basement & yr\\_built & yr\\_renovated & zipcode & lat & long & sqft\\_living15 & sqft\\_lot15\\\\\n",
       "\\hline\n",
       "\t double & character & double & integer & double & integer & integer & double & integer & integer & ⋯ & integer & integer & integer & integer & integer & integer & double & double & integer & integer\\\\\n",
       "\\end{tabular}\n"
      ],
      "text/markdown": [
       "\n",
       "A matrix: 1 × 21 of type chr\n",
       "\n",
       "| id | date | price | bedrooms | bathrooms | sqft_living | sqft_lot | floors | waterfront | view | ⋯ | grade | sqft_above | sqft_basement | yr_built | yr_renovated | zipcode | lat | long | sqft_living15 | sqft_lot15 |\n",
       "|---|---|---|---|---|---|---|---|---|---|---|---|---|---|---|---|---|---|---|---|---|\n",
       "| double | character | double | integer | double | integer | integer | double | integer | integer | ⋯ | integer | integer | integer | integer | integer | integer | double | double | integer | integer |\n",
       "\n"
      ],
      "text/plain": [
       "     id     date      price  bedrooms bathrooms sqft_living sqft_lot floors\n",
       "[1,] double character double integer  double    integer     integer  double\n",
       "     waterfront view    ⋯ grade   sqft_above sqft_basement yr_built\n",
       "[1,] integer    integer ⋯ integer integer    integer       integer \n",
       "     yr_renovated zipcode lat    long   sqft_living15 sqft_lot15\n",
       "[1,] integer      integer double double integer       integer   "
      ]
     },
     "metadata": {},
     "output_type": "display_data"
    }
   ],
   "source": [
    "# sapply() applies the class() function to each column of housing_prices dataframe.\n",
    "\n",
    "t(sapply(housing_prices, class))\n",
    "\n",
    "t(sapply(housing_prices, typeof))\n",
    "\n",
    "# t() transposes the output to a row instead of a column"
   ]
  },
  {
   "cell_type": "markdown",
   "metadata": {},
   "source": [
    "Notice that `date` is a factor variable. \n",
    "As such, we should exclude it when we use the `cor()` function on the housing_prices dataframe. \n",
    "Also, `id` is just a row identifier (aka row counter) and is useless for statistical modelling. \n",
    "We will exclude both of them as shown below. "
   ]
  },
  {
   "cell_type": "code",
   "execution_count": null,
   "metadata": {},
   "outputs": [],
   "source": [
    "# Selecting columns from housing_prices which are not equal to id and date. \n",
    "cor(housing_prices[!names(housing_prices) %in% c('id','date')])\n",
    "\n",
    "# Note this sub-selects the columns that are not in the list (id,date)\n",
    "# The resulting data is sent to the correlation function to become a correlation matrix."
   ]
  },
  {
   "cell_type": "markdown",
   "metadata": {},
   "source": [
    "The variables that have a correlation greater than 0.5 are... \n",
    "  1. `bathrooms`, \n",
    "  1. `sqft_living`, \n",
    "  1. `grade`, \n",
    "  1. `sqft_above` and \n",
    "  1. `sqft_living15`  \n",
    "\n",
    "How can you visualize these five features relative to price? \n",
    "Previously, we plotted each one against price and looked at the relationships in the value growth patterns."
   ]
  },
  {
   "cell_type": "code",
   "execution_count": null,
   "metadata": {},
   "outputs": [],
   "source": [
    "options(scipen = 999)  \n",
    "library(ggplot2)\n",
    "ggplot(housing_prices,\n",
    "       aes(x = sqft_living,         # independent variable, feature 1\n",
    "           y = price)) +            # dependent variable, feature 2\n",
    "       xlab(\"sqft living\") +\n",
    "       ylab(\"price\") + \n",
    "       ggtitle(\"Price vs Sqft living area\") +\n",
    "       theme(plot.title = element_text(hjust = 0.5)) + \n",
    "       geom_point(aes(color = factor(grade), size = bathrooms))   # independent variables, features 3 and 4"
   ]
  },
  {
   "cell_type": "markdown",
   "metadata": {},
   "source": [
    "Houses with 0 bathrooms and 0 bedrooms are typical outliers. \n",
    "Let's remove those rows and redo the plot above. "
   ]
  },
  {
   "cell_type": "code",
   "execution_count": null,
   "metadata": {},
   "outputs": [],
   "source": [
    "housing_prices=housing_prices[!housing_prices$bedrooms %in% c(0) & !housing_prices$bathrooms %in% c(0),]"
   ]
  },
  {
   "cell_type": "code",
   "execution_count": null,
   "metadata": {},
   "outputs": [],
   "source": [
    "ggplot(housing_prices,\n",
    "       aes(x=sqft_living,\n",
    "           y=price,\n",
    "           color=factor(grade),\n",
    "           size=bathrooms),\n",
    "       xlab(\"sqft living\"),\n",
    "       ylab(\"price\"),\n",
    "       main(\"Prive vs Sqft living area\")\n",
    "      ) +geom_point() +geom_smooth(method='lm',color='black')"
   ]
  },
  {
   "cell_type": "markdown",
   "metadata": {},
   "source": [
    "We have a nice visualization summarizing `price` against `sqft_living`, `grade` and `bathrooms`. \n",
    "Price is increasing linearly with increases in sqft_living. \n",
    "Big houses tend to have better grades. \n",
    "\n",
    "However, we are not able to interpret the size of the datapoints clearly for number of bathrooms. \n",
    "This is the limitation with visualizations. \n",
    "When the data becomes huge, plots become difficult to interpret.\n",
    "\n",
    "Let's try to denote `bathrooms` with color and `sqft_above` with grade... "
   ]
  },
  {
   "cell_type": "code",
   "execution_count": null,
   "metadata": {},
   "outputs": [],
   "source": [
    "ggplot(housing_prices,\n",
    "       aes(x=sqft_living,\n",
    "           y=price,\n",
    "           color=factor(bathrooms),\n",
    "           size=sqft_above),\n",
    "       xlab(\"sqft living\"),ylab(\"price\"),\n",
    "       main(\"Prive vs Sqft living area\")\n",
    "      ) +geom_point() +geom_smooth(method='lm',color='black')"
   ]
  },
  {
   "cell_type": "markdown",
   "metadata": {},
   "source": [
    "The plot does well summarizing `price` against `sqft_living` but explains little about how `price` is correlates with `sqft_above` or number of `bathrooms`. \n",
    "The size of the datapoints denote the sqft_above. \n",
    "Since the observations are closely packed we are not able to identify the trend in the data along with `sqft_living`. \n",
    "Bathrooms, when used as a factor, has 29 levels which are difficult to interpret with such subtle changes and the closely clustered data. \n",
    "\n",
    "We can try the same thing with a 3-dimensional plot to see if the size and color parameters help us in analyzing multiple dimensions in the data. \n",
    "\n",
    "__Reference__: [with() function](http://rfunction.com/archives/2182)  \n",
    "__Reference__: [Scatter Plot 3D](https://cran.r-project.org/web/packages/scatterplot3d/scatterplot3d.pdf)  \n",
    "__Reference__: [Guide to using Scatter Plot 3D](http://www.sthda.com/english/wiki/scatterplot3d-3d-graphics-r-software-and-data-visualization)"
   ]
  },
  {
   "cell_type": "code",
   "execution_count": null,
   "metadata": {},
   "outputs": [],
   "source": [
    "library(scatterplot3d)\n",
    "#Assigning a color to ranges of bathrooms\n",
    "housing_prices$colors[housing_prices$bathrooms<2] <- \"red\"\n",
    "housing_prices$colors[housing_prices$bathrooms==2] <- \"blue\"\n",
    "housing_prices$colors[housing_prices$bathrooms>2] <- \"green\"\n",
    "housing_prices$colors[housing_prices$bathrooms>3] <- \"magenta\"\n",
    "housing_prices$colors[housing_prices$bathrooms>4] <- \"cyan\"\n",
    "\n",
    "\n",
    "with(housing_prices, {\n",
    "   # The scatter plot 3D was introduced in the extra / optional notebooks last week.\n",
    "   # This function produces a three dimensional plot of points using 3 variables for position, instead of just 2.\n",
    "   # x = sqft_living, y = sqft_above, z = price        \n",
    "   scatterplot3d(sqft_living, sqft_above, price,       \n",
    "                 type=\"h\",             # adds lines from the points to the horizontal plane\n",
    "                 angle = 45,           # changes the point-of-view angle\n",
    "                 pch = 16,             # pch=16 denotes shape used to denote points on the plot\n",
    "                 color=housing_prices$colors,  # uses the colors defined above\n",
    "                 main=\"Areas vs Prices\",        \n",
    "                 xlab=\"Sqft living area\",\n",
    "                 ylab=\"Sqft above area\",\n",
    "                 zlab=\"Price\")\n",
    "\n",
    "legend(\"topleft\", inset=.05,      # specifies location where the legend should be positioned on the graph\n",
    "    bty=\"n\", cex=.5,              # suppresses box drawn around legend box; shrinks text by 50%\n",
    "    title=\"Bathrooms\", \n",
    "    c(\"<2\", \"2\", \">2\", \">3\", \">4\"), fill=c(\"red\", \"blue\", \"green\", \"magenta\", \"cyan\"))\n",
    "})  # ends the context of the with() function"
   ]
  },
  {
   "cell_type": "markdown",
   "metadata": {},
   "source": [
    "While we have been able to incorporate additional features of the data into the plot, we can see we have reached the limit in dimensionality of the data that can be visually inspected.\n",
    "\n"
   ]
  }
 ],
 "metadata": {
  "kernelspec": {
   "display_name": "R",
   "language": "R",
   "name": "ir"
  },
  "language_info": {
   "codemirror_mode": "r",
   "file_extension": ".r",
   "mimetype": "text/x-r-source",
   "name": "R",
   "pygments_lexer": "r",
   "version": "4.0.5"
  }
 },
 "nbformat": 4,
 "nbformat_minor": 1
}
