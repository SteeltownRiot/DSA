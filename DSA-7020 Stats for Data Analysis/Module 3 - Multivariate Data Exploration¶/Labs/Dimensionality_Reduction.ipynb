{
 "cells": [
  {
   "cell_type": "markdown",
   "metadata": {},
   "source": [
    "# Dimensionality Reduction \n",
    "\n",
    "\n",
    "Dimensionality reduction helps with reducing the width of the data set (the number columns/variables). \n",
    "Reducing the data set width comes in two flavors:\n",
    "\n",
    "  - Feature Selection - Selecting from existing features\n",
    "  \n",
    "  - Dimensionality Reduction - Using numerical methods to transform the feature space from known variables to computed variables\n",
    "\n",
    "\n",
    "In this notebook, we will have a brief overview of feature selection methods, then we will focus on the dimensionality reduction. "
   ]
  },
  {
   "cell_type": "markdown",
   "metadata": {},
   "source": [
    "---\n",
    "\n",
    "## Feature Selection\n",
    "\n",
    "If you are dealing with multivariate data, the data usually contains many variables. Not all features are equally significant. You will be able to make better predictions using the minimum possible number of features from the dataset.  When the dataset is huge, computation time matters a great deal. Building models with a minimum number of features helps to reduce the computational effort required. \n",
    "\n",
    "Feature selection acts like a filter, eliminating features that aren’t useful. It helps in building predictive models that are free from correlated variables, biases, and unwanted noise.  You might be interested in knowing which features of your data provide the most information about the target variable of interest. \n",
    "\n",
    "For example, suppose we’d like to predict iris species using the variables contained in R's iris dataset."
   ]
  },
  {
   "cell_type": "code",
   "execution_count": 1,
   "metadata": {},
   "outputs": [
    {
     "data": {
      "text/html": [
       "<table class=\"dataframe\">\n",
       "<caption>A data.frame: 6 × 5</caption>\n",
       "<thead>\n",
       "\t<tr><th></th><th scope=col>Sepal.Length</th><th scope=col>Sepal.Width</th><th scope=col>Petal.Length</th><th scope=col>Petal.Width</th><th scope=col>Species</th></tr>\n",
       "\t<tr><th></th><th scope=col>&lt;dbl&gt;</th><th scope=col>&lt;dbl&gt;</th><th scope=col>&lt;dbl&gt;</th><th scope=col>&lt;dbl&gt;</th><th scope=col>&lt;fct&gt;</th></tr>\n",
       "</thead>\n",
       "<tbody>\n",
       "\t<tr><th scope=row>1</th><td>5.1</td><td>3.5</td><td>1.4</td><td>0.2</td><td>setosa</td></tr>\n",
       "\t<tr><th scope=row>2</th><td>4.9</td><td>3.0</td><td>1.4</td><td>0.2</td><td>setosa</td></tr>\n",
       "\t<tr><th scope=row>3</th><td>4.7</td><td>3.2</td><td>1.3</td><td>0.2</td><td>setosa</td></tr>\n",
       "\t<tr><th scope=row>4</th><td>4.6</td><td>3.1</td><td>1.5</td><td>0.2</td><td>setosa</td></tr>\n",
       "\t<tr><th scope=row>5</th><td>5.0</td><td>3.6</td><td>1.4</td><td>0.2</td><td>setosa</td></tr>\n",
       "\t<tr><th scope=row>6</th><td>5.4</td><td>3.9</td><td>1.7</td><td>0.4</td><td>setosa</td></tr>\n",
       "</tbody>\n",
       "</table>\n"
      ],
      "text/latex": [
       "A data.frame: 6 × 5\n",
       "\\begin{tabular}{r|lllll}\n",
       "  & Sepal.Length & Sepal.Width & Petal.Length & Petal.Width & Species\\\\\n",
       "  & <dbl> & <dbl> & <dbl> & <dbl> & <fct>\\\\\n",
       "\\hline\n",
       "\t1 & 5.1 & 3.5 & 1.4 & 0.2 & setosa\\\\\n",
       "\t2 & 4.9 & 3.0 & 1.4 & 0.2 & setosa\\\\\n",
       "\t3 & 4.7 & 3.2 & 1.3 & 0.2 & setosa\\\\\n",
       "\t4 & 4.6 & 3.1 & 1.5 & 0.2 & setosa\\\\\n",
       "\t5 & 5.0 & 3.6 & 1.4 & 0.2 & setosa\\\\\n",
       "\t6 & 5.4 & 3.9 & 1.7 & 0.4 & setosa\\\\\n",
       "\\end{tabular}\n"
      ],
      "text/markdown": [
       "\n",
       "A data.frame: 6 × 5\n",
       "\n",
       "| <!--/--> | Sepal.Length &lt;dbl&gt; | Sepal.Width &lt;dbl&gt; | Petal.Length &lt;dbl&gt; | Petal.Width &lt;dbl&gt; | Species &lt;fct&gt; |\n",
       "|---|---|---|---|---|---|\n",
       "| 1 | 5.1 | 3.5 | 1.4 | 0.2 | setosa |\n",
       "| 2 | 4.9 | 3.0 | 1.4 | 0.2 | setosa |\n",
       "| 3 | 4.7 | 3.2 | 1.3 | 0.2 | setosa |\n",
       "| 4 | 4.6 | 3.1 | 1.5 | 0.2 | setosa |\n",
       "| 5 | 5.0 | 3.6 | 1.4 | 0.2 | setosa |\n",
       "| 6 | 5.4 | 3.9 | 1.7 | 0.4 | setosa |\n",
       "\n"
      ],
      "text/plain": [
       "  Sepal.Length Sepal.Width Petal.Length Petal.Width Species\n",
       "1 5.1          3.5         1.4          0.2         setosa \n",
       "2 4.9          3.0         1.4          0.2         setosa \n",
       "3 4.7          3.2         1.3          0.2         setosa \n",
       "4 4.6          3.1         1.5          0.2         setosa \n",
       "5 5.0          3.6         1.4          0.2         setosa \n",
       "6 5.4          3.9         1.7          0.4         setosa "
      ]
     },
     "metadata": {},
     "output_type": "display_data"
    }
   ],
   "source": [
    "head(iris)"
   ]
  },
  {
   "cell_type": "markdown",
   "metadata": {},
   "source": [
    "Which of the above four features provides the “purest” segmentation with respect to the target? Or put differently, if you were to place a bet on the correct species and could only ask for the value of one feature, which feature would give you the greatest likelihood of winning your bet?\n",
    "\n",
    "### Filter Methods: \n",
    "\n",
    "These methods apply a statistical measure and assign a score to each feature. The features are selected to be kept or removed from the dataset. The methods are often univariate or with regard to the dependent variable. Some of the  methods that fall into this category include the Chi squared test, information gain, and correlation coefficient scores. \n",
    "\n"
   ]
  },
  {
   "cell_type": "markdown",
   "metadata": {},
   "source": [
    "**Chi-squared Test:**\n",
    "\n",
    "The chi square / goodness of fit test will check whether significant differences occur within a single category in a categorical variable. We can know the distribution of a variable; if values are equally distributed among different categories then the variable is not providing any new information.\n",
    "    \n",
    "Let's see how it works on iris data. \n",
    "\n",
    "syntax: chisq.test(x, p)\n",
    "\n",
    "- x: a numeric vector\n",
    "- p: a vector of probabilities of the same length of x."
   ]
  },
  {
   "cell_type": "code",
   "execution_count": 2,
   "metadata": {},
   "outputs": [
    {
     "data": {
      "text/plain": [
       "\n",
       "\tChi-squared test for given probabilities\n",
       "\n",
       "data:  observed\n",
       "X-squared = 1.4843e-28, df = 2, p-value = 1\n"
      ]
     },
     "metadata": {},
     "output_type": "display_data"
    }
   ],
   "source": [
    "observed = c(50, 50, 50)        # observed frequencies\n",
    "expected = c(0.333333333333333,0.333333333333333,0.333333333333333)      # expected proportions\n",
    "\n",
    "chisq.test(x = observed, p = expected)"
   ]
  },
  {
   "cell_type": "markdown",
   "metadata": {},
   "source": [
    "The p-value of the test is 1, which is greater than the significance level alpha = 0.05. We can conclude that the observed proportions are not significantly different from the expected proportions.\n",
    "\n",
    "\n",
    "**We can use this test to see if two factors are statistically independent or not.** We can find out if two categorical variables provide meaningful information separately or if they are correlated. Null hypothesis in that case would be \"two categorical variables are independent\" and alternate hypothesis would be \"two categorical variables are correlated\". \n"
   ]
  },
  {
   "cell_type": "markdown",
   "metadata": {},
   "source": [
    "**Entropy:**\n",
    "\n",
    "**A helpful video explaining entropy: https://www.youtube.com/watch?v=YtebGVx-Fxw**\n",
    "\n",
    "Entropy represents the amount of \"surprise\", \"randomness\", \"uncertainty\" in the data; it is a measure of *new* information. In a basket of eggs, every time you pick something without looking, it will be an egg; so there is no surprise; entropy is zero. \n",
    "\"Sun sets every evening\" also does not contain any new information or \"surprise\", so the level of information it contains is zero. \n",
    "\n",
    "For a data set, entropy is always a calculation on a vector of categorical variable values.  It is a summation across each of the possible values the vector can take on.\n",
    "\n",
    "\n",
    "$$H = -\\sum_{i=1}^{n} p_i\\log_2 p_i$$\n",
    "\n",
    "\n",
    "**So to calculate entropy, first multiply the probability of _each value_ within the vector by the quantity (log2 multiplied by that probability).  Then sum those calculations together and multiply by -1.**\n",
    "\n",
    "\n",
    "For example in the iris dataset, we have 3 possible values for Species (Setosa, Versicolor, Virginica), each representing $\\frac{1}{3}$ of the data. (The data set contains 3 classes of 50 instances each, where each class refers to a type of iris plant.) Therefore\n",
    "\n",
    "\n",
    "$$-\\Bigg(\\frac{1}{3} \\log_2 (\\frac{1}{3}) + \\frac{1}{3} \\log_2 (\\frac{1}{3}) + \\frac{1}{3} \\log_2 (\\frac{1}{3})\\Bigg) = 1.59$$\n",
    "\n",
    "----\n",
    "\n",
    "<div style=\"float:left;width:600px\" id=\"container\">\n",
    "    <div id=\"leftContainer\" style=\"float:left;width:500px;\">\n",
    "        <p><b>Example:</b> What is the entropy of a group in which all examples belong to the same class?</p>\n",
    "    </div>\n",
    "    <div id=\"rightContainer\" style=\"float:right;width:100px;\">\n",
    "        <img src=\"../images/minimum_entropy.PNG\" align=\"center\"/>\n",
    "    </div>\n",
    "</div>"
   ]
  },
  {
   "cell_type": "markdown",
   "metadata": {},
   "source": [
    "entropy = H = \n",
    "   $$- (1\\ *\\ log_2(1)) = 0$$\n",
    "\n",
    "The entropy is 0. This particular feature (class, color, etc.) makes no distinction between the observations, so not very useful for machine learning purposes. \n"
   ]
  },
  {
   "cell_type": "markdown",
   "metadata": {},
   "source": [
    "<div style=\"float:left;width:600px\" id=\"container\">\n",
    "    <div id=\"leftContainer\" style=\"float:left;width:500px;\">\n",
    "        <p><b> Example:</b> What is the entropy of a group with 50% in either class?</p>\n",
    "    </div>\n",
    "    <div id=\"rightContainer\" style=\"float:right;width:100px;\">\n",
    "        <img src=\"../images/maximum_entropy.PNG\" align=\"center\"/>\n",
    "    </div>\n",
    "</div>"
   ]
  },
  {
   "cell_type": "markdown",
   "metadata": {},
   "source": [
    "Entropy = H = \n",
    "    \n",
    "$$-(0.5\\ *\\ log_2(0.5)\\ +\\ 0.5\\ *\\ log_2(0.5)) = 1$$\n",
    "    \n",
    "This is a useful feature. "
   ]
  },
  {
   "cell_type": "markdown",
   "metadata": {},
   "source": [
    "----\n",
    "<b>Information Gain: </b>\n",
    "\n",
    "<span style=\"color:#4286f4; font-weight: bold\">Information Gain</span> = <span style=\"color:#e57f2b; font-weight: bold\">Parent Entropy – Weighted Average Entropy of Children</span>\n",
    "\n",
    "\n",
    "Information gain helps in making two important decisions when building decision trees on data. What is the best split(s) and which is the best variable to split a node.\n",
    "\n",
    "Along a similar line, we want to determine which attribute in a given set of training feature vectors is most useful for discriminating between the classes to be learned.\n",
    "\n",
    "    - Information gain tells us the importance of a given attribute of the feature vectors.\n",
    "    - We will use it to decide the ordering of attributes.\n",
    "    \n",
    "Consider following data with 30 elements of which 16 elements are green circles and remaining 14 are pink crosses. \n",
    "\n",
    "<img src=\"../images/circles_and_crosses.PNG\">\n",
    "\n",
    "\n",
    "Subset 1 Child entropy =  $-\\Bigg(\\frac{13}{17} \\log_2 (\\frac{13}{17}) + \\frac{4}{17} \\log_2 (\\frac{4}{17})\\Bigg) = 0.787$\n",
    "\n",
    "Subset 2 Child entropy =  $-\\Bigg(\\frac{1}{13} \\log_2 (\\frac{1}{13}) + \\frac{12}{13} \\log_2 (\\frac{12}{13})\\Bigg) = 0.391$\n",
    "\n",
    "Parent entropy =  $-\\Bigg(\\frac{16}{30} \\log_2 (\\frac{16}{30}) + \\frac{14}{30} \\log_2 (\\frac{14}{30})\\Bigg) = 0.996$\n",
    "\n",
    "Weighted Average Entropy of Children = $\\Bigg(\\frac{17}{30} * 0.787 \\Bigg) + \\Bigg(\\frac{13}{30} * 0.391 \\Bigg) = 0.615$\n",
    "\n",
    "    \n",
    "    Information Gain for this split = 0.996 - 0.615 = 0.38 "
   ]
  },
  {
   "cell_type": "markdown",
   "metadata": {},
   "source": [
    "### Wrapper Methods: \n",
    "\n",
    "Wrapper methods use a subset of features and train a model using them. Based on the results drawn from the previous model, features are either added or removed from the subset. The problem is essentially reduced to a search problem. These methods are usually computationally very expensive.\n",
    "\n",
    "Some common examples of wrapper methods are forward feature selection, backward feature elimination, recursive feature elimination, etc.\n",
    "\n",
    "**Forward Selection:** Forward selection is an iterative method in which we start with having no feature in the model. In each iteration, we keep adding the feature which best improves our model until the addition of a new variable does not improve the performance of the model.\n",
    "\n",
    "**Backward Elimination:** In backward elimination, we start with all the features and removes the least significant feature at each iteration which improves the performance of the model. We repeat this until no improvement is observed on removal of features.\n",
    "\n",
    "**Recursive Feature elimination:** It is a greedy optimization algorithm which aims to find the best performing feature subset. It repeatedly creates models and keeps aside the best or the worst performing feature at each iteration. It constructs the next model with the features left until all the features are exhausted. It then ranks the features based on the order of their elimination.\n",
    "\n",
    "Read more about Recursive Feature Elimination implementation in the caret package. \n",
    "\n",
    "[Feature selection using Caret package](https://www.r-bloggers.com/feature-selection-with-carets-genetic-algorithm-option/)"
   ]
  },
  {
   "cell_type": "markdown",
   "metadata": {},
   "source": [
    "----\n",
    "\n",
    "## Dimensionality Reduction\n",
    "\n",
    "\n",
    "Let's continue the discussion with the communities and crime dataset. \n",
    "The data is socio-economic data with a total of 1994 instances and 128 features. \n",
    "Out of the 128 variables, 122 are predictive, 5 are non-predictive and one variable is a target variable. \n",
    "The first five variables are non predictive so we don't have to consider them when building the model.\n",
    "\n",
    "The dataset has missing values. \n",
    "The per-capita violent crimes variable was calculated using population and the sum of crime variables considered violent crimes in the United States-- namely murder, rape, robbery, and assault. \n",
    "There was apparently some controversy in some states concerning the counting of rapes. \n",
    "These resulted in missing values for rape, which resulted in incorrect values for per capita violent crime. \n",
    "These cities are not included in the dataset. \n",
    "\n",
    "Missing values should be treated before building any models. \n",
    "All numeric data is normalized into the decimal range 0.00-1.00 using an unsupervised, equal-interval binning method. \n",
    "Read the description about the dataset by opening a terminal and running this command:\n",
    "\n",
    "```Bash\n",
    "less /dsa/data/all_datasets/crime/readme.txt\n",
    "```\n",
    "\n",
    "The actual data doesn't have any column headers. \n",
    "You need to grab the headers information from the readme file. \n",
    "We have to do a little bit of data carpentry before we can start using the data to apply linear regression on it."
   ]
  },
  {
   "cell_type": "markdown",
   "metadata": {},
   "source": [
    "The headers information is present in readme file. \n",
    "Keep this information in a separate file called names.txt so we can access only the part of data we are interetsed in. The headers data in names.txt has so much unwanted information.\n",
    "A sample record is shown below\n",
    "\n",
    "    '-- state: US state (by number) - not counted as predictive above, but if considered, should be consided nominal (nominal)'\n",
    "\n",
    "The only thing we are interested in is the first word in every line, which is the actual column name. \n",
    "So read the data separating every word using the parameter sep=\"\". \n",
    "Header will be FALSE, because we don't have the header in the actual data file. "
   ]
  },
  {
   "cell_type": "code",
   "execution_count": 3,
   "metadata": {},
   "outputs": [
    {
     "data": {
      "text/html": [
       "<table class=\"dataframe\">\n",
       "<caption>A data.frame: 6 × 20</caption>\n",
       "<thead>\n",
       "\t<tr><th></th><th scope=col>V1</th><th scope=col>V2</th><th scope=col>V3</th><th scope=col>V4</th><th scope=col>V5</th><th scope=col>V6</th><th scope=col>V7</th><th scope=col>V8</th><th scope=col>V9</th><th scope=col>V10</th><th scope=col>V11</th><th scope=col>V12</th><th scope=col>V13</th><th scope=col>V14</th><th scope=col>V15</th><th scope=col>V16</th><th scope=col>V17</th><th scope=col>V18</th><th scope=col>V19</th><th scope=col>V20</th></tr>\n",
       "\t<tr><th></th><th scope=col>&lt;chr&gt;</th><th scope=col>&lt;chr&gt;</th><th scope=col>&lt;chr&gt;</th><th scope=col>&lt;chr&gt;</th><th scope=col>&lt;chr&gt;</th><th scope=col>&lt;chr&gt;</th><th scope=col>&lt;chr&gt;</th><th scope=col>&lt;chr&gt;</th><th scope=col>&lt;chr&gt;</th><th scope=col>&lt;chr&gt;</th><th scope=col>&lt;chr&gt;</th><th scope=col>&lt;chr&gt;</th><th scope=col>&lt;chr&gt;</th><th scope=col>&lt;chr&gt;</th><th scope=col>&lt;chr&gt;</th><th scope=col>&lt;chr&gt;</th><th scope=col>&lt;chr&gt;</th><th scope=col>&lt;chr&gt;</th><th scope=col>&lt;chr&gt;</th><th scope=col>&lt;chr&gt;</th></tr>\n",
       "</thead>\n",
       "<tbody>\n",
       "\t<tr><th scope=row>1</th><td>--</td><td>state:        </td><td>US        </td><td>state </td><td>(by       </td><td>number)   </td><td>-         </td><td>not     </td><td>counted    </td><td>as         </td><td>predictive </td><td>above,  </td><td>but   </td><td>if        </td><td>considered,</td><td>should</td><td>be</td><td>consided</td><td>nominal   </td><td>(nominal)</td></tr>\n",
       "\t<tr><th scope=row>2</th><td>--</td><td>county:       </td><td>numeric   </td><td>code  </td><td>for       </td><td>county    </td><td>-         </td><td>not     </td><td>predictive,</td><td>and        </td><td>many       </td><td>missing </td><td>values</td><td>(numeric) </td><td>           </td><td>      </td><td>  </td><td>        </td><td>          </td><td>         </td></tr>\n",
       "\t<tr><th scope=row>3</th><td>--</td><td>community:    </td><td>numeric   </td><td>code  </td><td>for       </td><td>community </td><td>-         </td><td>not     </td><td>predictive </td><td>and        </td><td>many       </td><td>missing </td><td>values</td><td>(numeric) </td><td>           </td><td>      </td><td>  </td><td>        </td><td>          </td><td>         </td></tr>\n",
       "\t<tr><th scope=row>4</th><td>--</td><td>communityname:</td><td>community </td><td>name  </td><td>-         </td><td>not       </td><td>predictive</td><td>-       </td><td>for        </td><td>information</td><td>only       </td><td>(string)</td><td>      </td><td>          </td><td>           </td><td>      </td><td>  </td><td>        </td><td>          </td><td>         </td></tr>\n",
       "\t<tr><th scope=row>5</th><td>--</td><td>fold:         </td><td>fold      </td><td>number</td><td>for       </td><td>non-random</td><td>10        </td><td>fold    </td><td>cross      </td><td>validation,</td><td>potentially</td><td>useful  </td><td>for   </td><td>debugging,</td><td>paired     </td><td>tests </td><td>- </td><td>not     </td><td>predictive</td><td>(numeric)</td></tr>\n",
       "\t<tr><th scope=row>6</th><td>--</td><td>population:   </td><td>population</td><td>for   </td><td>community:</td><td>(numeric  </td><td>-         </td><td>decimal)</td><td>           </td><td>           </td><td>           </td><td>        </td><td>      </td><td>          </td><td>           </td><td>      </td><td>  </td><td>        </td><td>          </td><td>         </td></tr>\n",
       "</tbody>\n",
       "</table>\n"
      ],
      "text/latex": [
       "A data.frame: 6 × 20\n",
       "\\begin{tabular}{r|llllllllllllllllllll}\n",
       "  & V1 & V2 & V3 & V4 & V5 & V6 & V7 & V8 & V9 & V10 & V11 & V12 & V13 & V14 & V15 & V16 & V17 & V18 & V19 & V20\\\\\n",
       "  & <chr> & <chr> & <chr> & <chr> & <chr> & <chr> & <chr> & <chr> & <chr> & <chr> & <chr> & <chr> & <chr> & <chr> & <chr> & <chr> & <chr> & <chr> & <chr> & <chr>\\\\\n",
       "\\hline\n",
       "\t1 & -- & state:         & US         & state  & (by        & number)    & -          & not      & counted     & as          & predictive  & above,   & but    & if         & considered, & should & be & consided & nominal    & (nominal)\\\\\n",
       "\t2 & -- & county:        & numeric    & code   & for        & county     & -          & not      & predictive, & and         & many        & missing  & values & (numeric)  &             &        &    &          &            &          \\\\\n",
       "\t3 & -- & community:     & numeric    & code   & for        & community  & -          & not      & predictive  & and         & many        & missing  & values & (numeric)  &             &        &    &          &            &          \\\\\n",
       "\t4 & -- & communityname: & community  & name   & -          & not        & predictive & -        & for         & information & only        & (string) &        &            &             &        &    &          &            &          \\\\\n",
       "\t5 & -- & fold:          & fold       & number & for        & non-random & 10         & fold     & cross       & validation, & potentially & useful   & for    & debugging, & paired      & tests  & -  & not      & predictive & (numeric)\\\\\n",
       "\t6 & -- & population:    & population & for    & community: & (numeric   & -          & decimal) &             &             &             &          &        &            &             &        &    &          &            &          \\\\\n",
       "\\end{tabular}\n"
      ],
      "text/markdown": [
       "\n",
       "A data.frame: 6 × 20\n",
       "\n",
       "| <!--/--> | V1 &lt;chr&gt; | V2 &lt;chr&gt; | V3 &lt;chr&gt; | V4 &lt;chr&gt; | V5 &lt;chr&gt; | V6 &lt;chr&gt; | V7 &lt;chr&gt; | V8 &lt;chr&gt; | V9 &lt;chr&gt; | V10 &lt;chr&gt; | V11 &lt;chr&gt; | V12 &lt;chr&gt; | V13 &lt;chr&gt; | V14 &lt;chr&gt; | V15 &lt;chr&gt; | V16 &lt;chr&gt; | V17 &lt;chr&gt; | V18 &lt;chr&gt; | V19 &lt;chr&gt; | V20 &lt;chr&gt; |\n",
       "|---|---|---|---|---|---|---|---|---|---|---|---|---|---|---|---|---|---|---|---|---|\n",
       "| 1 | -- | state:         | US         | state  | (by        | number)    | -          | not      | counted     | as          | predictive  | above,   | but    | if         | considered, | should | be | consided | nominal    | (nominal) |\n",
       "| 2 | -- | county:        | numeric    | code   | for        | county     | -          | not      | predictive, | and         | many        | missing  | values | (numeric)  | <!----> | <!----> | <!----> | <!----> | <!----> | <!----> |\n",
       "| 3 | -- | community:     | numeric    | code   | for        | community  | -          | not      | predictive  | and         | many        | missing  | values | (numeric)  | <!----> | <!----> | <!----> | <!----> | <!----> | <!----> |\n",
       "| 4 | -- | communityname: | community  | name   | -          | not        | predictive | -        | for         | information | only        | (string) | <!----> | <!----> | <!----> | <!----> | <!----> | <!----> | <!----> | <!----> |\n",
       "| 5 | -- | fold:          | fold       | number | for        | non-random | 10         | fold     | cross       | validation, | potentially | useful   | for    | debugging, | paired      | tests  | -  | not      | predictive | (numeric) |\n",
       "| 6 | -- | population:    | population | for    | community: | (numeric   | -          | decimal) | <!----> | <!----> | <!----> | <!----> | <!----> | <!----> | <!----> | <!----> | <!----> | <!----> | <!----> | <!----> |\n",
       "\n"
      ],
      "text/plain": [
       "  V1 V2             V3         V4     V5         V6         V7         V8      \n",
       "1 -- state:         US         state  (by        number)    -          not     \n",
       "2 -- county:        numeric    code   for        county     -          not     \n",
       "3 -- community:     numeric    code   for        community  -          not     \n",
       "4 -- communityname: community  name   -          not        predictive -       \n",
       "5 -- fold:          fold       number for        non-random 10         fold    \n",
       "6 -- population:    population for    community: (numeric   -          decimal)\n",
       "  V9          V10         V11         V12      V13    V14        V15        \n",
       "1 counted     as          predictive  above,   but    if         considered,\n",
       "2 predictive, and         many        missing  values (numeric)             \n",
       "3 predictive  and         many        missing  values (numeric)             \n",
       "4 for         information only        (string)                              \n",
       "5 cross       validation, potentially useful   for    debugging, paired     \n",
       "6                                                                           \n",
       "  V16    V17 V18      V19        V20      \n",
       "1 should be  consided nominal    (nominal)\n",
       "2                                         \n",
       "3                                         \n",
       "4                                         \n",
       "5 tests  -   not      predictive (numeric)\n",
       "6                                         "
      ]
     },
     "metadata": {},
     "output_type": "display_data"
    }
   ],
   "source": [
    "column_names = read.csv('/dsa/data/all_datasets/crime/names.txt', header = FALSE, sep=\"\")\n",
    "head(column_names)"
   ]
  },
  {
   "cell_type": "markdown",
   "metadata": {},
   "source": [
    "Attribute names are extracted but they still need some cleaning. Every attribute name has a ':' appended at the end. Get rid of the ':' from every word using gsub() function. It will replace characters in a string."
   ]
  },
  {
   "cell_type": "code",
   "execution_count": 4,
   "metadata": {},
   "outputs": [
    {
     "data": {
      "text/html": [
       "<style>\n",
       ".list-inline {list-style: none; margin:0; padding: 0}\n",
       ".list-inline>li {display: inline-block}\n",
       ".list-inline>li:not(:last-child)::after {content: \"\\00b7\"; padding: 0 .5ex}\n",
       "</style>\n",
       "<ol class=list-inline><li>'state'</li><li>'county'</li><li>'community'</li><li>'communityname'</li><li>'fold'</li><li>'population'</li></ol>\n"
      ],
      "text/latex": [
       "\\begin{enumerate*}\n",
       "\\item 'state'\n",
       "\\item 'county'\n",
       "\\item 'community'\n",
       "\\item 'communityname'\n",
       "\\item 'fold'\n",
       "\\item 'population'\n",
       "\\end{enumerate*}\n"
      ],
      "text/markdown": [
       "1. 'state'\n",
       "2. 'county'\n",
       "3. 'community'\n",
       "4. 'communityname'\n",
       "5. 'fold'\n",
       "6. 'population'\n",
       "\n",
       "\n"
      ],
      "text/plain": [
       "[1] \"state\"         \"county\"        \"community\"     \"communityname\"\n",
       "[5] \"fold\"          \"population\"   "
      ]
     },
     "metadata": {},
     "output_type": "display_data"
    }
   ],
   "source": [
    "# Attribute names are in 2nd column. Extract them. \n",
    "column_names = column_names[,2]\n",
    "\n",
    "# The first argument to gsub() ':' is replaced with second argument ''(nothing here) from every string in names.\n",
    "column_names = gsub(':','', column_names)\n",
    "head(column_names)"
   ]
  },
  {
   "cell_type": "markdown",
   "metadata": {},
   "source": [
    "We are all set to assign these names to crime dataset.\n",
    "\n",
    "**Note** Error expected!"
   ]
  },
  {
   "cell_type": "code",
   "execution_count": 5,
   "metadata": {},
   "outputs": [
    {
     "ename": "ERROR",
     "evalue": "Error in names(crime_data) = column_names: 'names' attribute [132] must be the same length as the vector [128]\n",
     "output_type": "error",
     "traceback": [
      "Error in names(crime_data) = column_names: 'names' attribute [132] must be the same length as the vector [128]\nTraceback:\n"
     ]
    }
   ],
   "source": [
    "# Uncomment the lines of code below and run it.\n",
    "crime_data <- read.csv('/dsa/data/all_datasets/crime/communities_and_crime.txt',header=FALSE)\n",
    "names(crime_data)=column_names"
   ]
  },
  {
   "cell_type": "markdown",
   "metadata": {},
   "source": [
    "**The error** is saying something about the lengths of vector column_names and names() attribute. Check the lengths of column_names vector and number of columns in crime_data dataset."
   ]
  },
  {
   "cell_type": "code",
   "execution_count": 6,
   "metadata": {},
   "outputs": [
    {
     "data": {
      "text/html": [
       "128"
      ],
      "text/latex": [
       "128"
      ],
      "text/markdown": [
       "128"
      ],
      "text/plain": [
       "[1] 128"
      ]
     },
     "metadata": {},
     "output_type": "display_data"
    },
    {
     "data": {
      "text/html": [
       "132"
      ],
      "text/latex": [
       "132"
      ],
      "text/markdown": [
       "132"
      ],
      "text/plain": [
       "[1] 132"
      ]
     },
     "metadata": {},
     "output_type": "display_data"
    }
   ],
   "source": [
    "ncol(crime_data)\n",
    "length(column_names)"
   ]
  },
  {
   "cell_type": "markdown",
   "metadata": {},
   "source": [
    "There are 132 names in column_names vector which we are trying to assign to 128 columns/variables in crime_data dataframe. Some how we ended up extracting 132 names instead of 128. If we observe the names vector closely we can see what are those extra names."
   ]
  },
  {
   "cell_type": "code",
   "execution_count": 7,
   "metadata": {},
   "outputs": [
    {
     "data": {
      "text/html": [
       "<style>\n",
       ".list-inline {list-style: none; margin:0; padding: 0}\n",
       ".list-inline>li {display: inline-block}\n",
       ".list-inline>li:not(:last-child)::after {content: \"\\00b7\"; padding: 0 .5ex}\n",
       "</style>\n",
       "<ol class=list-inline><li>'state'</li><li>'county'</li><li>'community'</li><li>'communityname'</li><li>'fold'</li><li>'population'</li><li>'householdsize'</li><li>'racepctblack'</li><li>'racePctWhite'</li><li>'racePctAsian'</li><li>'racePctHisp'</li><li>'agePct12t21'</li><li>'agePct12t29'</li><li>'agePct16t24'</li><li>'agePct65up'</li><li>'numbUrban'</li><li>'pctUrban'</li><li>'medIncome'</li><li>'pctWWage'</li><li>'pctWFarmSelf'</li><li>'pctWInvInc'</li><li>'pctWSocSec'</li><li>'pctWPubAsst'</li><li>'pctWRetire'</li><li>'medFamInc'</li><li>'perCapInc'</li><li>'whitePerCap'</li><li>'blackPerCap'</li><li>'indianPerCap'</li><li>'AsianPerCap'</li><li>'OtherPerCap'</li><li>'HispPerCap'</li><li>'NumUnderPov'</li><li>'PctPopUnderPov'</li><li>'PctLess9thGrade'</li><li>'PctNotHSGrad'</li><li>'PctBSorMore'</li><li>'PctUnemployed'</li><li>'PctEmploy'</li><li>'PctEmplManu'</li><li>'PctEmplProfServ'</li><li>'PctOccupManu'</li><li>'PctOccupMgmtProf'</li><li>'MalePctDivorce'</li><li>'MalePctNevMarr'</li><li>'FemalePctDiv'</li><li>'TotalPctDiv'</li><li>'PersPerFam'</li><li>'PctFam2Par'</li><li>'PctKids2Par'</li><li>'PctYoungKids2Par'</li><li>'PctTeen2Par'</li><li>'PctWorkMomYoungKids'</li><li>'PctWorkMom'</li><li>'NumIlleg'</li><li>'PctIlleg'</li><li>'NumImmig'</li><li>'PctImmigRecent'</li><li>'PctImmigRec5'</li><li>'PctImmigRec8'</li><li>'PctImmigRec10'</li><li>'PctRecentImmig'</li><li>'PctRecImmig5'</li><li>'PctRecImmig8'</li><li>'PctRecImmig10'</li><li>'PctSpeakEnglOnly'</li><li>'PctNotSpeakEnglWell'</li><li>'PctLargHouseFam'</li><li>'PctLargHouseOccup'</li><li>'PersPerOccupHous'</li><li>'PersPerOwnOccHous'</li><li>'PersPerRentOccHous'</li><li>'PctPersOwnOccup'</li><li>'PctPersDenseHous'</li><li>'PctHousLess3BR'</li><li>'MedNumBR'</li><li>'HousVacant'</li><li>'PctHousOccup'</li><li>'PctHousOwnOcc'</li><li>'PctVacantBoarded'</li><li>'PctVacMore6Mos'</li><li>'MedYrHousBuilt'</li><li>'PctHousNoPhone'</li><li>'PctWOFullPlumb'</li><li>'OwnOccLowQuart'</li><li>'OwnOccMedVal'</li><li>'OwnOccHiQuart'</li><li>'RentLowQ'</li><li>'RentMedian'</li><li>'RentHighQ'</li><li>'MedRent'</li><li>'MedRentPctHousInc'</li><li>'MedOwnCostPctInc'</li><li>'MedOwnCostPctIncNoMtg'</li><li>'NumInShelters'</li><li>'NumStreet'</li><li>'PctForeignBorn'</li><li>'PctBornSameState'</li><li>'PctSameHouse85'</li><li>'PctSameCity85'</li><li>'PctSameState85'</li><li>'LemasSwornFT'</li><li>'LemasSwFTPerPop'</li><li>'LemasSwFTFieldOps'</li><li>'-'</li><li>'LemasSwFTFieldPerPop'</li><li>'(numeric'</li><li>'LemasTotalReq'</li><li>'LemasTotReqPerPop'</li><li>'PolicReqPerOffic'</li><li>'PolicPerPop'</li><li>'RacialMatchCommPol'</li><li>'and'</li><li>'PctPolicWhite'</li><li>'PctPolicBlack'</li><li>'PctPolicHisp'</li><li>'PctPolicAsian'</li><li>'PctPolicMinor'</li><li>'OfficAssgnDrugUnits'</li><li>'NumKindsDrugsSeiz'</li><li>'PolicAveOTWorked'</li><li>'LandArea'</li><li>'PopDens'</li><li>'PctUsePubTrans'</li><li>'PolicCars'</li><li>'PolicOperBudg'</li><li>'LemasPctPolicOnPatr'</li><li>'LemasGangUnitDeploy'</li><li>'Part'</li><li>'LemasPctOfficDrugUn'</li><li>'PolicBudgPerPop'</li><li>'ViolentCrimesPerPop'</li></ol>\n"
      ],
      "text/latex": [
       "\\begin{enumerate*}\n",
       "\\item 'state'\n",
       "\\item 'county'\n",
       "\\item 'community'\n",
       "\\item 'communityname'\n",
       "\\item 'fold'\n",
       "\\item 'population'\n",
       "\\item 'householdsize'\n",
       "\\item 'racepctblack'\n",
       "\\item 'racePctWhite'\n",
       "\\item 'racePctAsian'\n",
       "\\item 'racePctHisp'\n",
       "\\item 'agePct12t21'\n",
       "\\item 'agePct12t29'\n",
       "\\item 'agePct16t24'\n",
       "\\item 'agePct65up'\n",
       "\\item 'numbUrban'\n",
       "\\item 'pctUrban'\n",
       "\\item 'medIncome'\n",
       "\\item 'pctWWage'\n",
       "\\item 'pctWFarmSelf'\n",
       "\\item 'pctWInvInc'\n",
       "\\item 'pctWSocSec'\n",
       "\\item 'pctWPubAsst'\n",
       "\\item 'pctWRetire'\n",
       "\\item 'medFamInc'\n",
       "\\item 'perCapInc'\n",
       "\\item 'whitePerCap'\n",
       "\\item 'blackPerCap'\n",
       "\\item 'indianPerCap'\n",
       "\\item 'AsianPerCap'\n",
       "\\item 'OtherPerCap'\n",
       "\\item 'HispPerCap'\n",
       "\\item 'NumUnderPov'\n",
       "\\item 'PctPopUnderPov'\n",
       "\\item 'PctLess9thGrade'\n",
       "\\item 'PctNotHSGrad'\n",
       "\\item 'PctBSorMore'\n",
       "\\item 'PctUnemployed'\n",
       "\\item 'PctEmploy'\n",
       "\\item 'PctEmplManu'\n",
       "\\item 'PctEmplProfServ'\n",
       "\\item 'PctOccupManu'\n",
       "\\item 'PctOccupMgmtProf'\n",
       "\\item 'MalePctDivorce'\n",
       "\\item 'MalePctNevMarr'\n",
       "\\item 'FemalePctDiv'\n",
       "\\item 'TotalPctDiv'\n",
       "\\item 'PersPerFam'\n",
       "\\item 'PctFam2Par'\n",
       "\\item 'PctKids2Par'\n",
       "\\item 'PctYoungKids2Par'\n",
       "\\item 'PctTeen2Par'\n",
       "\\item 'PctWorkMomYoungKids'\n",
       "\\item 'PctWorkMom'\n",
       "\\item 'NumIlleg'\n",
       "\\item 'PctIlleg'\n",
       "\\item 'NumImmig'\n",
       "\\item 'PctImmigRecent'\n",
       "\\item 'PctImmigRec5'\n",
       "\\item 'PctImmigRec8'\n",
       "\\item 'PctImmigRec10'\n",
       "\\item 'PctRecentImmig'\n",
       "\\item 'PctRecImmig5'\n",
       "\\item 'PctRecImmig8'\n",
       "\\item 'PctRecImmig10'\n",
       "\\item 'PctSpeakEnglOnly'\n",
       "\\item 'PctNotSpeakEnglWell'\n",
       "\\item 'PctLargHouseFam'\n",
       "\\item 'PctLargHouseOccup'\n",
       "\\item 'PersPerOccupHous'\n",
       "\\item 'PersPerOwnOccHous'\n",
       "\\item 'PersPerRentOccHous'\n",
       "\\item 'PctPersOwnOccup'\n",
       "\\item 'PctPersDenseHous'\n",
       "\\item 'PctHousLess3BR'\n",
       "\\item 'MedNumBR'\n",
       "\\item 'HousVacant'\n",
       "\\item 'PctHousOccup'\n",
       "\\item 'PctHousOwnOcc'\n",
       "\\item 'PctVacantBoarded'\n",
       "\\item 'PctVacMore6Mos'\n",
       "\\item 'MedYrHousBuilt'\n",
       "\\item 'PctHousNoPhone'\n",
       "\\item 'PctWOFullPlumb'\n",
       "\\item 'OwnOccLowQuart'\n",
       "\\item 'OwnOccMedVal'\n",
       "\\item 'OwnOccHiQuart'\n",
       "\\item 'RentLowQ'\n",
       "\\item 'RentMedian'\n",
       "\\item 'RentHighQ'\n",
       "\\item 'MedRent'\n",
       "\\item 'MedRentPctHousInc'\n",
       "\\item 'MedOwnCostPctInc'\n",
       "\\item 'MedOwnCostPctIncNoMtg'\n",
       "\\item 'NumInShelters'\n",
       "\\item 'NumStreet'\n",
       "\\item 'PctForeignBorn'\n",
       "\\item 'PctBornSameState'\n",
       "\\item 'PctSameHouse85'\n",
       "\\item 'PctSameCity85'\n",
       "\\item 'PctSameState85'\n",
       "\\item 'LemasSwornFT'\n",
       "\\item 'LemasSwFTPerPop'\n",
       "\\item 'LemasSwFTFieldOps'\n",
       "\\item '-'\n",
       "\\item 'LemasSwFTFieldPerPop'\n",
       "\\item '(numeric'\n",
       "\\item 'LemasTotalReq'\n",
       "\\item 'LemasTotReqPerPop'\n",
       "\\item 'PolicReqPerOffic'\n",
       "\\item 'PolicPerPop'\n",
       "\\item 'RacialMatchCommPol'\n",
       "\\item 'and'\n",
       "\\item 'PctPolicWhite'\n",
       "\\item 'PctPolicBlack'\n",
       "\\item 'PctPolicHisp'\n",
       "\\item 'PctPolicAsian'\n",
       "\\item 'PctPolicMinor'\n",
       "\\item 'OfficAssgnDrugUnits'\n",
       "\\item 'NumKindsDrugsSeiz'\n",
       "\\item 'PolicAveOTWorked'\n",
       "\\item 'LandArea'\n",
       "\\item 'PopDens'\n",
       "\\item 'PctUsePubTrans'\n",
       "\\item 'PolicCars'\n",
       "\\item 'PolicOperBudg'\n",
       "\\item 'LemasPctPolicOnPatr'\n",
       "\\item 'LemasGangUnitDeploy'\n",
       "\\item 'Part'\n",
       "\\item 'LemasPctOfficDrugUn'\n",
       "\\item 'PolicBudgPerPop'\n",
       "\\item 'ViolentCrimesPerPop'\n",
       "\\end{enumerate*}\n"
      ],
      "text/markdown": [
       "1. 'state'\n",
       "2. 'county'\n",
       "3. 'community'\n",
       "4. 'communityname'\n",
       "5. 'fold'\n",
       "6. 'population'\n",
       "7. 'householdsize'\n",
       "8. 'racepctblack'\n",
       "9. 'racePctWhite'\n",
       "10. 'racePctAsian'\n",
       "11. 'racePctHisp'\n",
       "12. 'agePct12t21'\n",
       "13. 'agePct12t29'\n",
       "14. 'agePct16t24'\n",
       "15. 'agePct65up'\n",
       "16. 'numbUrban'\n",
       "17. 'pctUrban'\n",
       "18. 'medIncome'\n",
       "19. 'pctWWage'\n",
       "20. 'pctWFarmSelf'\n",
       "21. 'pctWInvInc'\n",
       "22. 'pctWSocSec'\n",
       "23. 'pctWPubAsst'\n",
       "24. 'pctWRetire'\n",
       "25. 'medFamInc'\n",
       "26. 'perCapInc'\n",
       "27. 'whitePerCap'\n",
       "28. 'blackPerCap'\n",
       "29. 'indianPerCap'\n",
       "30. 'AsianPerCap'\n",
       "31. 'OtherPerCap'\n",
       "32. 'HispPerCap'\n",
       "33. 'NumUnderPov'\n",
       "34. 'PctPopUnderPov'\n",
       "35. 'PctLess9thGrade'\n",
       "36. 'PctNotHSGrad'\n",
       "37. 'PctBSorMore'\n",
       "38. 'PctUnemployed'\n",
       "39. 'PctEmploy'\n",
       "40. 'PctEmplManu'\n",
       "41. 'PctEmplProfServ'\n",
       "42. 'PctOccupManu'\n",
       "43. 'PctOccupMgmtProf'\n",
       "44. 'MalePctDivorce'\n",
       "45. 'MalePctNevMarr'\n",
       "46. 'FemalePctDiv'\n",
       "47. 'TotalPctDiv'\n",
       "48. 'PersPerFam'\n",
       "49. 'PctFam2Par'\n",
       "50. 'PctKids2Par'\n",
       "51. 'PctYoungKids2Par'\n",
       "52. 'PctTeen2Par'\n",
       "53. 'PctWorkMomYoungKids'\n",
       "54. 'PctWorkMom'\n",
       "55. 'NumIlleg'\n",
       "56. 'PctIlleg'\n",
       "57. 'NumImmig'\n",
       "58. 'PctImmigRecent'\n",
       "59. 'PctImmigRec5'\n",
       "60. 'PctImmigRec8'\n",
       "61. 'PctImmigRec10'\n",
       "62. 'PctRecentImmig'\n",
       "63. 'PctRecImmig5'\n",
       "64. 'PctRecImmig8'\n",
       "65. 'PctRecImmig10'\n",
       "66. 'PctSpeakEnglOnly'\n",
       "67. 'PctNotSpeakEnglWell'\n",
       "68. 'PctLargHouseFam'\n",
       "69. 'PctLargHouseOccup'\n",
       "70. 'PersPerOccupHous'\n",
       "71. 'PersPerOwnOccHous'\n",
       "72. 'PersPerRentOccHous'\n",
       "73. 'PctPersOwnOccup'\n",
       "74. 'PctPersDenseHous'\n",
       "75. 'PctHousLess3BR'\n",
       "76. 'MedNumBR'\n",
       "77. 'HousVacant'\n",
       "78. 'PctHousOccup'\n",
       "79. 'PctHousOwnOcc'\n",
       "80. 'PctVacantBoarded'\n",
       "81. 'PctVacMore6Mos'\n",
       "82. 'MedYrHousBuilt'\n",
       "83. 'PctHousNoPhone'\n",
       "84. 'PctWOFullPlumb'\n",
       "85. 'OwnOccLowQuart'\n",
       "86. 'OwnOccMedVal'\n",
       "87. 'OwnOccHiQuart'\n",
       "88. 'RentLowQ'\n",
       "89. 'RentMedian'\n",
       "90. 'RentHighQ'\n",
       "91. 'MedRent'\n",
       "92. 'MedRentPctHousInc'\n",
       "93. 'MedOwnCostPctInc'\n",
       "94. 'MedOwnCostPctIncNoMtg'\n",
       "95. 'NumInShelters'\n",
       "96. 'NumStreet'\n",
       "97. 'PctForeignBorn'\n",
       "98. 'PctBornSameState'\n",
       "99. 'PctSameHouse85'\n",
       "100. 'PctSameCity85'\n",
       "101. 'PctSameState85'\n",
       "102. 'LemasSwornFT'\n",
       "103. 'LemasSwFTPerPop'\n",
       "104. 'LemasSwFTFieldOps'\n",
       "105. '-'\n",
       "106. 'LemasSwFTFieldPerPop'\n",
       "107. '(numeric'\n",
       "108. 'LemasTotalReq'\n",
       "109. 'LemasTotReqPerPop'\n",
       "110. 'PolicReqPerOffic'\n",
       "111. 'PolicPerPop'\n",
       "112. 'RacialMatchCommPol'\n",
       "113. 'and'\n",
       "114. 'PctPolicWhite'\n",
       "115. 'PctPolicBlack'\n",
       "116. 'PctPolicHisp'\n",
       "117. 'PctPolicAsian'\n",
       "118. 'PctPolicMinor'\n",
       "119. 'OfficAssgnDrugUnits'\n",
       "120. 'NumKindsDrugsSeiz'\n",
       "121. 'PolicAveOTWorked'\n",
       "122. 'LandArea'\n",
       "123. 'PopDens'\n",
       "124. 'PctUsePubTrans'\n",
       "125. 'PolicCars'\n",
       "126. 'PolicOperBudg'\n",
       "127. 'LemasPctPolicOnPatr'\n",
       "128. 'LemasGangUnitDeploy'\n",
       "129. 'Part'\n",
       "130. 'LemasPctOfficDrugUn'\n",
       "131. 'PolicBudgPerPop'\n",
       "132. 'ViolentCrimesPerPop'\n",
       "\n",
       "\n"
      ],
      "text/plain": [
       "  [1] \"state\"                 \"county\"                \"community\"            \n",
       "  [4] \"communityname\"         \"fold\"                  \"population\"           \n",
       "  [7] \"householdsize\"         \"racepctblack\"          \"racePctWhite\"         \n",
       " [10] \"racePctAsian\"          \"racePctHisp\"           \"agePct12t21\"          \n",
       " [13] \"agePct12t29\"           \"agePct16t24\"           \"agePct65up\"           \n",
       " [16] \"numbUrban\"             \"pctUrban\"              \"medIncome\"            \n",
       " [19] \"pctWWage\"              \"pctWFarmSelf\"          \"pctWInvInc\"           \n",
       " [22] \"pctWSocSec\"            \"pctWPubAsst\"           \"pctWRetire\"           \n",
       " [25] \"medFamInc\"             \"perCapInc\"             \"whitePerCap\"          \n",
       " [28] \"blackPerCap\"           \"indianPerCap\"          \"AsianPerCap\"          \n",
       " [31] \"OtherPerCap\"           \"HispPerCap\"            \"NumUnderPov\"          \n",
       " [34] \"PctPopUnderPov\"        \"PctLess9thGrade\"       \"PctNotHSGrad\"         \n",
       " [37] \"PctBSorMore\"           \"PctUnemployed\"         \"PctEmploy\"            \n",
       " [40] \"PctEmplManu\"           \"PctEmplProfServ\"       \"PctOccupManu\"         \n",
       " [43] \"PctOccupMgmtProf\"      \"MalePctDivorce\"        \"MalePctNevMarr\"       \n",
       " [46] \"FemalePctDiv\"          \"TotalPctDiv\"           \"PersPerFam\"           \n",
       " [49] \"PctFam2Par\"            \"PctKids2Par\"           \"PctYoungKids2Par\"     \n",
       " [52] \"PctTeen2Par\"           \"PctWorkMomYoungKids\"   \"PctWorkMom\"           \n",
       " [55] \"NumIlleg\"              \"PctIlleg\"              \"NumImmig\"             \n",
       " [58] \"PctImmigRecent\"        \"PctImmigRec5\"          \"PctImmigRec8\"         \n",
       " [61] \"PctImmigRec10\"         \"PctRecentImmig\"        \"PctRecImmig5\"         \n",
       " [64] \"PctRecImmig8\"          \"PctRecImmig10\"         \"PctSpeakEnglOnly\"     \n",
       " [67] \"PctNotSpeakEnglWell\"   \"PctLargHouseFam\"       \"PctLargHouseOccup\"    \n",
       " [70] \"PersPerOccupHous\"      \"PersPerOwnOccHous\"     \"PersPerRentOccHous\"   \n",
       " [73] \"PctPersOwnOccup\"       \"PctPersDenseHous\"      \"PctHousLess3BR\"       \n",
       " [76] \"MedNumBR\"              \"HousVacant\"            \"PctHousOccup\"         \n",
       " [79] \"PctHousOwnOcc\"         \"PctVacantBoarded\"      \"PctVacMore6Mos\"       \n",
       " [82] \"MedYrHousBuilt\"        \"PctHousNoPhone\"        \"PctWOFullPlumb\"       \n",
       " [85] \"OwnOccLowQuart\"        \"OwnOccMedVal\"          \"OwnOccHiQuart\"        \n",
       " [88] \"RentLowQ\"              \"RentMedian\"            \"RentHighQ\"            \n",
       " [91] \"MedRent\"               \"MedRentPctHousInc\"     \"MedOwnCostPctInc\"     \n",
       " [94] \"MedOwnCostPctIncNoMtg\" \"NumInShelters\"         \"NumStreet\"            \n",
       " [97] \"PctForeignBorn\"        \"PctBornSameState\"      \"PctSameHouse85\"       \n",
       "[100] \"PctSameCity85\"         \"PctSameState85\"        \"LemasSwornFT\"         \n",
       "[103] \"LemasSwFTPerPop\"       \"LemasSwFTFieldOps\"     \"-\"                    \n",
       "[106] \"LemasSwFTFieldPerPop\"  \"(numeric\"              \"LemasTotalReq\"        \n",
       "[109] \"LemasTotReqPerPop\"     \"PolicReqPerOffic\"      \"PolicPerPop\"          \n",
       "[112] \"RacialMatchCommPol\"    \"and\"                   \"PctPolicWhite\"        \n",
       "[115] \"PctPolicBlack\"         \"PctPolicHisp\"          \"PctPolicAsian\"        \n",
       "[118] \"PctPolicMinor\"         \"OfficAssgnDrugUnits\"   \"NumKindsDrugsSeiz\"    \n",
       "[121] \"PolicAveOTWorked\"      \"LandArea\"              \"PopDens\"              \n",
       "[124] \"PctUsePubTrans\"        \"PolicCars\"             \"PolicOperBudg\"        \n",
       "[127] \"LemasPctPolicOnPatr\"   \"LemasGangUnitDeploy\"   \"Part\"                 \n",
       "[130] \"LemasPctOfficDrugUn\"   \"PolicBudgPerPop\"       \"ViolentCrimesPerPop\"  "
      ]
     },
     "metadata": {},
     "output_type": "display_data"
    }
   ],
   "source": [
    "column_names"
   ]
  },
  {
   "cell_type": "markdown",
   "metadata": {},
   "source": [
    "\"-\", \"and\", \"(numeric\", \"Part\" are the four names that were created that are not actual column names. Once we eliminate these we should be good to go."
   ]
  },
  {
   "cell_type": "code",
   "execution_count": 8,
   "metadata": {},
   "outputs": [
    {
     "data": {
      "text/html": [
       "128"
      ],
      "text/latex": [
       "128"
      ],
      "text/markdown": [
       "128"
      ],
      "text/plain": [
       "[1] 128"
      ]
     },
     "metadata": {},
     "output_type": "display_data"
    }
   ],
   "source": [
    "# In the below command, we are using the negation operator ('!') to select strings in the names vector which \n",
    "# are not in the specified list \n",
    "column_names = column_names [! column_names %in% c('-', 'and', '(numeric', 'Part')]\n",
    "length(column_names)"
   ]
  },
  {
   "cell_type": "markdown",
   "metadata": {},
   "source": [
    "Now that we have names for our columns in actual crime_data, let's assign them."
   ]
  },
  {
   "cell_type": "code",
   "execution_count": 9,
   "metadata": {},
   "outputs": [
    {
     "data": {
      "text/html": [
       "<table class=\"dataframe\">\n",
       "<caption>A data.frame: 6 × 128</caption>\n",
       "<thead>\n",
       "\t<tr><th></th><th scope=col>state</th><th scope=col>county</th><th scope=col>community</th><th scope=col>communityname</th><th scope=col>fold</th><th scope=col>population</th><th scope=col>householdsize</th><th scope=col>racepctblack</th><th scope=col>racePctWhite</th><th scope=col>racePctAsian</th><th scope=col>⋯</th><th scope=col>LandArea</th><th scope=col>PopDens</th><th scope=col>PctUsePubTrans</th><th scope=col>PolicCars</th><th scope=col>PolicOperBudg</th><th scope=col>LemasPctPolicOnPatr</th><th scope=col>LemasGangUnitDeploy</th><th scope=col>LemasPctOfficDrugUn</th><th scope=col>PolicBudgPerPop</th><th scope=col>ViolentCrimesPerPop</th></tr>\n",
       "\t<tr><th></th><th scope=col>&lt;int&gt;</th><th scope=col>&lt;chr&gt;</th><th scope=col>&lt;chr&gt;</th><th scope=col>&lt;chr&gt;</th><th scope=col>&lt;int&gt;</th><th scope=col>&lt;dbl&gt;</th><th scope=col>&lt;dbl&gt;</th><th scope=col>&lt;dbl&gt;</th><th scope=col>&lt;dbl&gt;</th><th scope=col>&lt;dbl&gt;</th><th scope=col>⋯</th><th scope=col>&lt;dbl&gt;</th><th scope=col>&lt;dbl&gt;</th><th scope=col>&lt;dbl&gt;</th><th scope=col>&lt;chr&gt;</th><th scope=col>&lt;chr&gt;</th><th scope=col>&lt;chr&gt;</th><th scope=col>&lt;chr&gt;</th><th scope=col>&lt;dbl&gt;</th><th scope=col>&lt;chr&gt;</th><th scope=col>&lt;dbl&gt;</th></tr>\n",
       "</thead>\n",
       "<tbody>\n",
       "\t<tr><th scope=row>1</th><td> 8</td><td>? </td><td>?    </td><td>Lakewoodcity       </td><td>1</td><td>0.19</td><td>0.33</td><td>0.02</td><td>0.90</td><td>0.12</td><td>⋯</td><td>0.12</td><td>0.26</td><td>0.20</td><td>0.06</td><td>0.04</td><td>0.9</td><td>0.5</td><td>0.32</td><td>0.14</td><td>0.20</td></tr>\n",
       "\t<tr><th scope=row>2</th><td>53</td><td>? </td><td>?    </td><td>Tukwilacity        </td><td>1</td><td>0.00</td><td>0.16</td><td>0.12</td><td>0.74</td><td>0.45</td><td>⋯</td><td>0.02</td><td>0.12</td><td>0.45</td><td>?   </td><td>?   </td><td>?  </td><td>?  </td><td>0.00</td><td>?   </td><td>0.67</td></tr>\n",
       "\t<tr><th scope=row>3</th><td>24</td><td>? </td><td>?    </td><td>Aberdeentown       </td><td>1</td><td>0.00</td><td>0.42</td><td>0.49</td><td>0.56</td><td>0.17</td><td>⋯</td><td>0.01</td><td>0.21</td><td>0.02</td><td>?   </td><td>?   </td><td>?  </td><td>?  </td><td>0.00</td><td>?   </td><td>0.43</td></tr>\n",
       "\t<tr><th scope=row>4</th><td>34</td><td>5 </td><td>81440</td><td>Willingborotownship</td><td>1</td><td>0.04</td><td>0.77</td><td>1.00</td><td>0.08</td><td>0.12</td><td>⋯</td><td>0.02</td><td>0.39</td><td>0.28</td><td>?   </td><td>?   </td><td>?  </td><td>?  </td><td>0.00</td><td>?   </td><td>0.12</td></tr>\n",
       "\t<tr><th scope=row>5</th><td>42</td><td>95</td><td>6096 </td><td>Bethlehemtownship  </td><td>1</td><td>0.01</td><td>0.55</td><td>0.02</td><td>0.95</td><td>0.09</td><td>⋯</td><td>0.04</td><td>0.09</td><td>0.02</td><td>?   </td><td>?   </td><td>?  </td><td>?  </td><td>0.00</td><td>?   </td><td>0.03</td></tr>\n",
       "\t<tr><th scope=row>6</th><td> 6</td><td>? </td><td>?    </td><td>SouthPasadenacity  </td><td>1</td><td>0.02</td><td>0.28</td><td>0.06</td><td>0.54</td><td>1.00</td><td>⋯</td><td>0.01</td><td>0.58</td><td>0.10</td><td>?   </td><td>?   </td><td>?  </td><td>?  </td><td>0.00</td><td>?   </td><td>0.14</td></tr>\n",
       "</tbody>\n",
       "</table>\n"
      ],
      "text/latex": [
       "A data.frame: 6 × 128\n",
       "\\begin{tabular}{r|lllllllllllllllllllll}\n",
       "  & state & county & community & communityname & fold & population & householdsize & racepctblack & racePctWhite & racePctAsian & ⋯ & LandArea & PopDens & PctUsePubTrans & PolicCars & PolicOperBudg & LemasPctPolicOnPatr & LemasGangUnitDeploy & LemasPctOfficDrugUn & PolicBudgPerPop & ViolentCrimesPerPop\\\\\n",
       "  & <int> & <chr> & <chr> & <chr> & <int> & <dbl> & <dbl> & <dbl> & <dbl> & <dbl> & ⋯ & <dbl> & <dbl> & <dbl> & <chr> & <chr> & <chr> & <chr> & <dbl> & <chr> & <dbl>\\\\\n",
       "\\hline\n",
       "\t1 &  8 & ?  & ?     & Lakewoodcity        & 1 & 0.19 & 0.33 & 0.02 & 0.90 & 0.12 & ⋯ & 0.12 & 0.26 & 0.20 & 0.06 & 0.04 & 0.9 & 0.5 & 0.32 & 0.14 & 0.20\\\\\n",
       "\t2 & 53 & ?  & ?     & Tukwilacity         & 1 & 0.00 & 0.16 & 0.12 & 0.74 & 0.45 & ⋯ & 0.02 & 0.12 & 0.45 & ?    & ?    & ?   & ?   & 0.00 & ?    & 0.67\\\\\n",
       "\t3 & 24 & ?  & ?     & Aberdeentown        & 1 & 0.00 & 0.42 & 0.49 & 0.56 & 0.17 & ⋯ & 0.01 & 0.21 & 0.02 & ?    & ?    & ?   & ?   & 0.00 & ?    & 0.43\\\\\n",
       "\t4 & 34 & 5  & 81440 & Willingborotownship & 1 & 0.04 & 0.77 & 1.00 & 0.08 & 0.12 & ⋯ & 0.02 & 0.39 & 0.28 & ?    & ?    & ?   & ?   & 0.00 & ?    & 0.12\\\\\n",
       "\t5 & 42 & 95 & 6096  & Bethlehemtownship   & 1 & 0.01 & 0.55 & 0.02 & 0.95 & 0.09 & ⋯ & 0.04 & 0.09 & 0.02 & ?    & ?    & ?   & ?   & 0.00 & ?    & 0.03\\\\\n",
       "\t6 &  6 & ?  & ?     & SouthPasadenacity   & 1 & 0.02 & 0.28 & 0.06 & 0.54 & 1.00 & ⋯ & 0.01 & 0.58 & 0.10 & ?    & ?    & ?   & ?   & 0.00 & ?    & 0.14\\\\\n",
       "\\end{tabular}\n"
      ],
      "text/markdown": [
       "\n",
       "A data.frame: 6 × 128\n",
       "\n",
       "| <!--/--> | state &lt;int&gt; | county &lt;chr&gt; | community &lt;chr&gt; | communityname &lt;chr&gt; | fold &lt;int&gt; | population &lt;dbl&gt; | householdsize &lt;dbl&gt; | racepctblack &lt;dbl&gt; | racePctWhite &lt;dbl&gt; | racePctAsian &lt;dbl&gt; | ⋯ ⋯ | LandArea &lt;dbl&gt; | PopDens &lt;dbl&gt; | PctUsePubTrans &lt;dbl&gt; | PolicCars &lt;chr&gt; | PolicOperBudg &lt;chr&gt; | LemasPctPolicOnPatr &lt;chr&gt; | LemasGangUnitDeploy &lt;chr&gt; | LemasPctOfficDrugUn &lt;dbl&gt; | PolicBudgPerPop &lt;chr&gt; | ViolentCrimesPerPop &lt;dbl&gt; |\n",
       "|---|---|---|---|---|---|---|---|---|---|---|---|---|---|---|---|---|---|---|---|---|---|\n",
       "| 1 |  8 | ?  | ?     | Lakewoodcity        | 1 | 0.19 | 0.33 | 0.02 | 0.90 | 0.12 | ⋯ | 0.12 | 0.26 | 0.20 | 0.06 | 0.04 | 0.9 | 0.5 | 0.32 | 0.14 | 0.20 |\n",
       "| 2 | 53 | ?  | ?     | Tukwilacity         | 1 | 0.00 | 0.16 | 0.12 | 0.74 | 0.45 | ⋯ | 0.02 | 0.12 | 0.45 | ?    | ?    | ?   | ?   | 0.00 | ?    | 0.67 |\n",
       "| 3 | 24 | ?  | ?     | Aberdeentown        | 1 | 0.00 | 0.42 | 0.49 | 0.56 | 0.17 | ⋯ | 0.01 | 0.21 | 0.02 | ?    | ?    | ?   | ?   | 0.00 | ?    | 0.43 |\n",
       "| 4 | 34 | 5  | 81440 | Willingborotownship | 1 | 0.04 | 0.77 | 1.00 | 0.08 | 0.12 | ⋯ | 0.02 | 0.39 | 0.28 | ?    | ?    | ?   | ?   | 0.00 | ?    | 0.12 |\n",
       "| 5 | 42 | 95 | 6096  | Bethlehemtownship   | 1 | 0.01 | 0.55 | 0.02 | 0.95 | 0.09 | ⋯ | 0.04 | 0.09 | 0.02 | ?    | ?    | ?   | ?   | 0.00 | ?    | 0.03 |\n",
       "| 6 |  6 | ?  | ?     | SouthPasadenacity   | 1 | 0.02 | 0.28 | 0.06 | 0.54 | 1.00 | ⋯ | 0.01 | 0.58 | 0.10 | ?    | ?    | ?   | ?   | 0.00 | ?    | 0.14 |\n",
       "\n"
      ],
      "text/plain": [
       "  state county community communityname       fold population householdsize\n",
       "1  8    ?      ?         Lakewoodcity        1    0.19       0.33         \n",
       "2 53    ?      ?         Tukwilacity         1    0.00       0.16         \n",
       "3 24    ?      ?         Aberdeentown        1    0.00       0.42         \n",
       "4 34    5      81440     Willingborotownship 1    0.04       0.77         \n",
       "5 42    95     6096      Bethlehemtownship   1    0.01       0.55         \n",
       "6  6    ?      ?         SouthPasadenacity   1    0.02       0.28         \n",
       "  racepctblack racePctWhite racePctAsian ⋯ LandArea PopDens PctUsePubTrans\n",
       "1 0.02         0.90         0.12         ⋯ 0.12     0.26    0.20          \n",
       "2 0.12         0.74         0.45         ⋯ 0.02     0.12    0.45          \n",
       "3 0.49         0.56         0.17         ⋯ 0.01     0.21    0.02          \n",
       "4 1.00         0.08         0.12         ⋯ 0.02     0.39    0.28          \n",
       "5 0.02         0.95         0.09         ⋯ 0.04     0.09    0.02          \n",
       "6 0.06         0.54         1.00         ⋯ 0.01     0.58    0.10          \n",
       "  PolicCars PolicOperBudg LemasPctPolicOnPatr LemasGangUnitDeploy\n",
       "1 0.06      0.04          0.9                 0.5                \n",
       "2 ?         ?             ?                   ?                  \n",
       "3 ?         ?             ?                   ?                  \n",
       "4 ?         ?             ?                   ?                  \n",
       "5 ?         ?             ?                   ?                  \n",
       "6 ?         ?             ?                   ?                  \n",
       "  LemasPctOfficDrugUn PolicBudgPerPop ViolentCrimesPerPop\n",
       "1 0.32                0.14            0.20               \n",
       "2 0.00                ?               0.67               \n",
       "3 0.00                ?               0.43               \n",
       "4 0.00                ?               0.12               \n",
       "5 0.00                ?               0.03               \n",
       "6 0.00                ?               0.14               "
      ]
     },
     "metadata": {},
     "output_type": "display_data"
    }
   ],
   "source": [
    "names(crime_data) = column_names\n",
    "head(crime_data)"
   ]
  },
  {
   "cell_type": "markdown",
   "metadata": {},
   "source": [
    "#### Splitting the data into train and test sets\n",
    "\n",
    "(**How will you check the accuracy or how good is the fit of your model?**)\n",
    "\n",
    "You cannot build and test the model on the same data. You have to test the accuracy of the model on unknown test data. R has libraries to split the data into train and test datasets. \n",
    "\n",
    "Split the dataset into training and testing datasets. We can do this using the caTools package, as shown below."
   ]
  },
  {
   "cell_type": "code",
   "execution_count": 10,
   "metadata": {},
   "outputs": [
    {
     "name": "stderr",
     "output_type": "stream",
     "text": [
      "Loading required package: usethis\n",
      "\n"
     ]
    },
    {
     "data": {
      "text/html": [
       "1397"
      ],
      "text/latex": [
       "1397"
      ],
      "text/markdown": [
       "1397"
      ],
      "text/plain": [
       "[1] 1397"
      ]
     },
     "metadata": {},
     "output_type": "display_data"
    },
    {
     "data": {
      "text/html": [
       "597"
      ],
      "text/latex": [
       "597"
      ],
      "text/markdown": [
       "597"
      ],
      "text/plain": [
       "[1] 597"
      ]
     },
     "metadata": {},
     "output_type": "display_data"
    }
   ],
   "source": [
    "# set.seed() is used return a reproducible sample. It helps to split the data in the same, equal partitions \n",
    "# no matter how many times it's split.\n",
    "set.seed(144)\n",
    "\n",
    "library(devtools)\n",
    "library(caTools)\n",
    "\n",
    "split = sample.split(crime_data$ViolentCrimesPerPop, SplitRatio = 0.7)\n",
    "\n",
    "crime_train_data = subset(crime_data, split == TRUE)\n",
    "\n",
    "crime_test_data = subset(crime_data, split == FALSE)\n",
    "\n",
    "nrow(crime_train_data)\n",
    "nrow(crime_test_data)"
   ]
  },
  {
   "cell_type": "code",
   "execution_count": 11,
   "metadata": {},
   "outputs": [
    {
     "data": {
      "text/html": [
       "<table class=\"dataframe\">\n",
       "<caption>A data.frame: 6 × 128</caption>\n",
       "<thead>\n",
       "\t<tr><th></th><th scope=col>state</th><th scope=col>county</th><th scope=col>community</th><th scope=col>communityname</th><th scope=col>fold</th><th scope=col>population</th><th scope=col>householdsize</th><th scope=col>racepctblack</th><th scope=col>racePctWhite</th><th scope=col>racePctAsian</th><th scope=col>⋯</th><th scope=col>LandArea</th><th scope=col>PopDens</th><th scope=col>PctUsePubTrans</th><th scope=col>PolicCars</th><th scope=col>PolicOperBudg</th><th scope=col>LemasPctPolicOnPatr</th><th scope=col>LemasGangUnitDeploy</th><th scope=col>LemasPctOfficDrugUn</th><th scope=col>PolicBudgPerPop</th><th scope=col>ViolentCrimesPerPop</th></tr>\n",
       "\t<tr><th></th><th scope=col>&lt;int&gt;</th><th scope=col>&lt;chr&gt;</th><th scope=col>&lt;chr&gt;</th><th scope=col>&lt;chr&gt;</th><th scope=col>&lt;int&gt;</th><th scope=col>&lt;dbl&gt;</th><th scope=col>&lt;dbl&gt;</th><th scope=col>&lt;dbl&gt;</th><th scope=col>&lt;dbl&gt;</th><th scope=col>&lt;dbl&gt;</th><th scope=col>⋯</th><th scope=col>&lt;dbl&gt;</th><th scope=col>&lt;dbl&gt;</th><th scope=col>&lt;dbl&gt;</th><th scope=col>&lt;chr&gt;</th><th scope=col>&lt;chr&gt;</th><th scope=col>&lt;chr&gt;</th><th scope=col>&lt;chr&gt;</th><th scope=col>&lt;dbl&gt;</th><th scope=col>&lt;chr&gt;</th><th scope=col>&lt;dbl&gt;</th></tr>\n",
       "</thead>\n",
       "<tbody>\n",
       "\t<tr><th scope=row>5</th><td>42</td><td>95</td><td>6096</td><td>Bethlehemtownship     </td><td>1</td><td>0.01</td><td>0.55</td><td>0.02</td><td>0.95</td><td>0.09</td><td>⋯</td><td>0.04</td><td>0.09</td><td>0.02</td><td>?</td><td>?</td><td>?</td><td>?</td><td>0</td><td>?</td><td>0.03</td></tr>\n",
       "\t<tr><th scope=row>8</th><td> 6</td><td>? </td><td>?   </td><td>Selmacity             </td><td>1</td><td>0.01</td><td>0.74</td><td>0.03</td><td>0.46</td><td>0.20</td><td>⋯</td><td>0.01</td><td>0.33</td><td>0.00</td><td>?</td><td>?</td><td>?</td><td>?</td><td>0</td><td>?</td><td>0.55</td></tr>\n",
       "\t<tr><th scope=row>9</th><td>21</td><td>? </td><td>?   </td><td>Hendersoncity         </td><td>1</td><td>0.03</td><td>0.34</td><td>0.20</td><td>0.84</td><td>0.02</td><td>⋯</td><td>0.04</td><td>0.17</td><td>0.04</td><td>?</td><td>?</td><td>?</td><td>?</td><td>0</td><td>?</td><td>0.53</td></tr>\n",
       "\t<tr><th scope=row>11</th><td> 6</td><td>? </td><td>?   </td><td>DalyCitycity          </td><td>1</td><td>0.13</td><td>0.71</td><td>0.15</td><td>0.07</td><td>1.00</td><td>⋯</td><td>0.02</td><td>1.00</td><td>1.00</td><td>?</td><td>?</td><td>?</td><td>?</td><td>0</td><td>?</td><td>0.24</td></tr>\n",
       "\t<tr><th scope=row>12</th><td>36</td><td>? </td><td>?   </td><td>RockvilleCentrevillage</td><td>1</td><td>0.02</td><td>0.46</td><td>0.08</td><td>0.91</td><td>0.07</td><td>⋯</td><td>0.01</td><td>0.63</td><td>1.00</td><td>?</td><td>?</td><td>?</td><td>?</td><td>0</td><td>?</td><td>0.08</td></tr>\n",
       "\t<tr><th scope=row>15</th><td> 6</td><td>? </td><td>?   </td><td>DanaPointcity         </td><td>1</td><td>0.04</td><td>0.36</td><td>0.01</td><td>0.85</td><td>0.14</td><td>⋯</td><td>0.02</td><td>0.40</td><td>0.15</td><td>?</td><td>?</td><td>?</td><td>?</td><td>0</td><td>?</td><td>0.21</td></tr>\n",
       "</tbody>\n",
       "</table>\n"
      ],
      "text/latex": [
       "A data.frame: 6 × 128\n",
       "\\begin{tabular}{r|lllllllllllllllllllll}\n",
       "  & state & county & community & communityname & fold & population & householdsize & racepctblack & racePctWhite & racePctAsian & ⋯ & LandArea & PopDens & PctUsePubTrans & PolicCars & PolicOperBudg & LemasPctPolicOnPatr & LemasGangUnitDeploy & LemasPctOfficDrugUn & PolicBudgPerPop & ViolentCrimesPerPop\\\\\n",
       "  & <int> & <chr> & <chr> & <chr> & <int> & <dbl> & <dbl> & <dbl> & <dbl> & <dbl> & ⋯ & <dbl> & <dbl> & <dbl> & <chr> & <chr> & <chr> & <chr> & <dbl> & <chr> & <dbl>\\\\\n",
       "\\hline\n",
       "\t5 & 42 & 95 & 6096 & Bethlehemtownship      & 1 & 0.01 & 0.55 & 0.02 & 0.95 & 0.09 & ⋯ & 0.04 & 0.09 & 0.02 & ? & ? & ? & ? & 0 & ? & 0.03\\\\\n",
       "\t8 &  6 & ?  & ?    & Selmacity              & 1 & 0.01 & 0.74 & 0.03 & 0.46 & 0.20 & ⋯ & 0.01 & 0.33 & 0.00 & ? & ? & ? & ? & 0 & ? & 0.55\\\\\n",
       "\t9 & 21 & ?  & ?    & Hendersoncity          & 1 & 0.03 & 0.34 & 0.20 & 0.84 & 0.02 & ⋯ & 0.04 & 0.17 & 0.04 & ? & ? & ? & ? & 0 & ? & 0.53\\\\\n",
       "\t11 &  6 & ?  & ?    & DalyCitycity           & 1 & 0.13 & 0.71 & 0.15 & 0.07 & 1.00 & ⋯ & 0.02 & 1.00 & 1.00 & ? & ? & ? & ? & 0 & ? & 0.24\\\\\n",
       "\t12 & 36 & ?  & ?    & RockvilleCentrevillage & 1 & 0.02 & 0.46 & 0.08 & 0.91 & 0.07 & ⋯ & 0.01 & 0.63 & 1.00 & ? & ? & ? & ? & 0 & ? & 0.08\\\\\n",
       "\t15 &  6 & ?  & ?    & DanaPointcity          & 1 & 0.04 & 0.36 & 0.01 & 0.85 & 0.14 & ⋯ & 0.02 & 0.40 & 0.15 & ? & ? & ? & ? & 0 & ? & 0.21\\\\\n",
       "\\end{tabular}\n"
      ],
      "text/markdown": [
       "\n",
       "A data.frame: 6 × 128\n",
       "\n",
       "| <!--/--> | state &lt;int&gt; | county &lt;chr&gt; | community &lt;chr&gt; | communityname &lt;chr&gt; | fold &lt;int&gt; | population &lt;dbl&gt; | householdsize &lt;dbl&gt; | racepctblack &lt;dbl&gt; | racePctWhite &lt;dbl&gt; | racePctAsian &lt;dbl&gt; | ⋯ ⋯ | LandArea &lt;dbl&gt; | PopDens &lt;dbl&gt; | PctUsePubTrans &lt;dbl&gt; | PolicCars &lt;chr&gt; | PolicOperBudg &lt;chr&gt; | LemasPctPolicOnPatr &lt;chr&gt; | LemasGangUnitDeploy &lt;chr&gt; | LemasPctOfficDrugUn &lt;dbl&gt; | PolicBudgPerPop &lt;chr&gt; | ViolentCrimesPerPop &lt;dbl&gt; |\n",
       "|---|---|---|---|---|---|---|---|---|---|---|---|---|---|---|---|---|---|---|---|---|---|\n",
       "| 5 | 42 | 95 | 6096 | Bethlehemtownship      | 1 | 0.01 | 0.55 | 0.02 | 0.95 | 0.09 | ⋯ | 0.04 | 0.09 | 0.02 | ? | ? | ? | ? | 0 | ? | 0.03 |\n",
       "| 8 |  6 | ?  | ?    | Selmacity              | 1 | 0.01 | 0.74 | 0.03 | 0.46 | 0.20 | ⋯ | 0.01 | 0.33 | 0.00 | ? | ? | ? | ? | 0 | ? | 0.55 |\n",
       "| 9 | 21 | ?  | ?    | Hendersoncity          | 1 | 0.03 | 0.34 | 0.20 | 0.84 | 0.02 | ⋯ | 0.04 | 0.17 | 0.04 | ? | ? | ? | ? | 0 | ? | 0.53 |\n",
       "| 11 |  6 | ?  | ?    | DalyCitycity           | 1 | 0.13 | 0.71 | 0.15 | 0.07 | 1.00 | ⋯ | 0.02 | 1.00 | 1.00 | ? | ? | ? | ? | 0 | ? | 0.24 |\n",
       "| 12 | 36 | ?  | ?    | RockvilleCentrevillage | 1 | 0.02 | 0.46 | 0.08 | 0.91 | 0.07 | ⋯ | 0.01 | 0.63 | 1.00 | ? | ? | ? | ? | 0 | ? | 0.08 |\n",
       "| 15 |  6 | ?  | ?    | DanaPointcity          | 1 | 0.04 | 0.36 | 0.01 | 0.85 | 0.14 | ⋯ | 0.02 | 0.40 | 0.15 | ? | ? | ? | ? | 0 | ? | 0.21 |\n",
       "\n"
      ],
      "text/plain": [
       "   state county community communityname          fold population householdsize\n",
       "5  42    95     6096      Bethlehemtownship      1    0.01       0.55         \n",
       "8   6    ?      ?         Selmacity              1    0.01       0.74         \n",
       "9  21    ?      ?         Hendersoncity          1    0.03       0.34         \n",
       "11  6    ?      ?         DalyCitycity           1    0.13       0.71         \n",
       "12 36    ?      ?         RockvilleCentrevillage 1    0.02       0.46         \n",
       "15  6    ?      ?         DanaPointcity          1    0.04       0.36         \n",
       "   racepctblack racePctWhite racePctAsian ⋯ LandArea PopDens PctUsePubTrans\n",
       "5  0.02         0.95         0.09         ⋯ 0.04     0.09    0.02          \n",
       "8  0.03         0.46         0.20         ⋯ 0.01     0.33    0.00          \n",
       "9  0.20         0.84         0.02         ⋯ 0.04     0.17    0.04          \n",
       "11 0.15         0.07         1.00         ⋯ 0.02     1.00    1.00          \n",
       "12 0.08         0.91         0.07         ⋯ 0.01     0.63    1.00          \n",
       "15 0.01         0.85         0.14         ⋯ 0.02     0.40    0.15          \n",
       "   PolicCars PolicOperBudg LemasPctPolicOnPatr LemasGangUnitDeploy\n",
       "5  ?         ?             ?                   ?                  \n",
       "8  ?         ?             ?                   ?                  \n",
       "9  ?         ?             ?                   ?                  \n",
       "11 ?         ?             ?                   ?                  \n",
       "12 ?         ?             ?                   ?                  \n",
       "15 ?         ?             ?                   ?                  \n",
       "   LemasPctOfficDrugUn PolicBudgPerPop ViolentCrimesPerPop\n",
       "5  0                   ?               0.03               \n",
       "8  0                   ?               0.55               \n",
       "9  0                   ?               0.53               \n",
       "11 0                   ?               0.24               \n",
       "12 0                   ?               0.08               \n",
       "15 0                   ?               0.21               "
      ]
     },
     "metadata": {},
     "output_type": "display_data"
    }
   ],
   "source": [
    "head(crime_test_data)"
   ]
  },
  {
   "cell_type": "markdown",
   "metadata": {},
   "source": [
    "**Dimensionality reduction is not the same as feature selection.** Even though both try to reduce the number of attributes in the dataset, dimensionality reduction methods create new combinations of attributes, whereas the feature selection method includes and excludes attributes present in the data without altering them. Principal Component Analysis, Singular Value Decomposition, Factor Analysis and Sammon’s Mapping, etc. are all examples of dimensionality reduction.\n",
    "\n",
    "Here are some of the simplest of techniques for dimensionality reduction/variable exclusion...\n",
    "\n",
    "**Missing Values Ratio:** Columns with many missing values carry less useful information. Thus, if the number of missing values in a column is greater than a threshold value it can be removed.\n",
    "\n",
    "**Low Variance Filter:** Columns with little variance in data carry little information. Thus, if the number of values in a column is less than a threshold value it can be removed. Variance is range dependent. Therefore, data should be normalized before applying this technique.\n",
    "\n",
    "**High Correlation Filter:** Columns with high correletion provide almost the same information. One of them is enough to feed data to the model. Correlation is scale sensitive. So, column normalization should be done for a meaningful correlation comparison.\n",
    "\n",
    "**Random Forests / Ensemble Trees:**. Decision Tree Ensembles or random forests are useful for feature selection as well as data classification. Trees are constructed with attributes as nodes. If an attribute is selected as best split, it is likely to be the most informative feature of dataset.\n",
    "\n",
    "**Principal Component Analysis (PCA):**. Principal Component Analysis (PCA) is a statistical technique takes n features of the dataset to transform into a new set of n coordinates called principal components. The transformation helps the first principal component to explain the largest possible variance. The components following have the next highest possible variance without any correletion with other components.\n",
    "[Additional Reading](https://www.r-bloggers.com/principal-component-analysis-using-r/)\n"
   ]
  },
  {
   "cell_type": "code",
   "execution_count": 12,
   "metadata": {
    "scrolled": false
   },
   "outputs": [
    {
     "data": {
      "text/plain": [
       "     state          county           community         communityname     \n",
       " Min.   : 1.00   Length:1397        Length:1397        Length:1397       \n",
       " 1st Qu.:12.00   Class :character   Class :character   Class :character  \n",
       " Median :34.00   Mode  :character   Mode  :character   Mode  :character  \n",
       " Mean   :28.71                                                           \n",
       " 3rd Qu.:42.00                                                           \n",
       " Max.   :56.00                                                           \n",
       "      fold          population      householdsize    racepctblack   \n",
       " Min.   : 1.000   Min.   :0.00000   Min.   :0.000   Min.   :0.0000  \n",
       " 1st Qu.: 3.000   1st Qu.:0.01000   1st Qu.:0.350   1st Qu.:0.0200  \n",
       " Median : 6.000   Median :0.02000   Median :0.430   Median :0.0600  \n",
       " Mean   : 5.493   Mean   :0.05571   Mean   :0.459   Mean   :0.1828  \n",
       " 3rd Qu.: 8.000   3rd Qu.:0.05000   3rd Qu.:0.530   3rd Qu.:0.2400  \n",
       " Max.   :10.000   Max.   :1.00000   Max.   :1.000   Max.   :1.0000  \n",
       "  racePctWhite     racePctAsian     racePctHisp      agePct12t21    \n",
       " Min.   :0.0000   Min.   :0.0000   Min.   :0.0000   Min.   :0.0000  \n",
       " 1st Qu.:0.6300   1st Qu.:0.0400   1st Qu.:0.0100   1st Qu.:0.3300  \n",
       " Median :0.8500   Median :0.0700   Median :0.0400   Median :0.4000  \n",
       " Mean   :0.7541   Mean   :0.1526   Mean   :0.1385   Mean   :0.4236  \n",
       " 3rd Qu.:0.9500   3rd Qu.:0.1600   3rd Qu.:0.1500   3rd Qu.:0.4700  \n",
       " Max.   :1.0000   Max.   :1.0000   Max.   :1.0000   Max.   :1.0000  \n",
       "  agePct12t29      agePct16t24       agePct65up       numbUrban      \n",
       " Min.   :0.0000   Min.   :0.0000   Min.   :0.0000   Min.   :0.00000  \n",
       " 1st Qu.:0.4100   1st Qu.:0.2500   1st Qu.:0.3000   1st Qu.:0.00000  \n",
       " Median :0.4800   Median :0.2900   Median :0.4300   Median :0.03000  \n",
       " Mean   :0.4936   Mean   :0.3373   Mean   :0.4266   Mean   :0.06205  \n",
       " 3rd Qu.:0.5400   3rd Qu.:0.3600   3rd Qu.:0.5400   3rd Qu.:0.07000  \n",
       " Max.   :1.0000   Max.   :1.0000   Max.   :1.0000   Max.   :1.00000  \n",
       "    pctUrban        medIncome         pctWWage       pctWFarmSelf \n",
       " Min.   :0.0000   Min.   :0.0300   Min.   :0.0000   Min.   :0.00  \n",
       " 1st Qu.:0.0000   1st Qu.:0.2000   1st Qu.:0.4500   1st Qu.:0.15  \n",
       " Median :1.0000   Median :0.3200   Median :0.5700   Median :0.23  \n",
       " Mean   :0.6885   Mean   :0.3623   Mean   :0.5565   Mean   :0.29  \n",
       " 3rd Qu.:1.0000   3rd Qu.:0.4900   3rd Qu.:0.6900   3rd Qu.:0.37  \n",
       " Max.   :1.0000   Max.   :1.0000   Max.   :1.0000   Max.   :1.00  \n",
       "   pctWInvInc       pctWSocSec      pctWPubAsst       pctWRetire    \n",
       " Min.   :0.0200   Min.   :0.0300   Min.   :0.0100   Min.   :0.0700  \n",
       " 1st Qu.:0.3700   1st Qu.:0.3500   1st Qu.:0.1500   1st Qu.:0.3700  \n",
       " Median :0.4800   Median :0.4800   Median :0.2600   Median :0.4700  \n",
       " Mean   :0.4984   Mean   :0.4731   Mean   :0.3172   Mean   :0.4804  \n",
       " 3rd Qu.:0.6200   3rd Qu.:0.5900   3rd Qu.:0.4400   3rd Qu.:0.5900  \n",
       " Max.   :1.0000   Max.   :1.0000   Max.   :1.0000   Max.   :1.0000  \n",
       "   medFamInc        perCapInc       whitePerCap      blackPerCap    \n",
       " Min.   :0.0200   Min.   :0.0100   Min.   :0.0100   Min.   :0.0000  \n",
       " 1st Qu.:0.2300   1st Qu.:0.2200   1st Qu.:0.2400   1st Qu.:0.1700  \n",
       " Median :0.3300   Median :0.3100   Median :0.3200   Median :0.2500  \n",
       " Mean   :0.3779   Mean   :0.3531   Mean   :0.3711   Mean   :0.2901  \n",
       " 3rd Qu.:0.4800   3rd Qu.:0.4300   3rd Qu.:0.4400   3rd Qu.:0.3700  \n",
       " Max.   :1.0000   Max.   :1.0000   Max.   :1.0000   Max.   :1.0000  \n",
       "  indianPerCap     AsianPerCap     OtherPerCap          HispPerCap    \n",
       " Min.   :0.0000   Min.   :0.0000   Length:1397        Min.   :0.0000  \n",
       " 1st Qu.:0.1100   1st Qu.:0.2000   Class :character   1st Qu.:0.2600  \n",
       " Median :0.1700   Median :0.2900   Mode  :character   Median :0.3500  \n",
       " Mean   :0.2076   Mean   :0.3275                      Mean   :0.3874  \n",
       " 3rd Qu.:0.2600   3rd Qu.:0.4100                      3rd Qu.:0.4800  \n",
       " Max.   :1.0000   Max.   :1.0000                      Max.   :1.0000  \n",
       "  NumUnderPov      PctPopUnderPov   PctLess9thGrade   PctNotHSGrad   \n",
       " Min.   :0.00000   Min.   :0.0000   Min.   :0.0000   Min.   :0.0000  \n",
       " 1st Qu.:0.01000   1st Qu.:0.1100   1st Qu.:0.1600   1st Qu.:0.2300  \n",
       " Median :0.02000   Median :0.2400   Median :0.2600   Median :0.3600  \n",
       " Mean   :0.05377   Mean   :0.3029   Mean   :0.3142   Mean   :0.3822  \n",
       " 3rd Qu.:0.04000   3rd Qu.:0.4500   3rd Qu.:0.4200   3rd Qu.:0.5200  \n",
       " Max.   :1.00000   Max.   :1.0000   Max.   :1.0000   Max.   :1.0000  \n",
       "  PctBSorMore    PctUnemployed      PctEmploy       PctEmplManu    \n",
       " Min.   :0.000   Min.   :0.0000   Min.   :0.0000   Min.   :0.0100  \n",
       " 1st Qu.:0.210   1st Qu.:0.2100   1st Qu.:0.3800   1st Qu.:0.2500  \n",
       " Median :0.310   Median :0.3200   Median :0.5100   Median :0.3700  \n",
       " Mean   :0.365   Mean   :0.3589   Mean   :0.5012   Mean   :0.3972  \n",
       " 3rd Qu.:0.470   3rd Qu.:0.4700   3rd Qu.:0.6300   3rd Qu.:0.5200  \n",
       " Max.   :1.000   Max.   :1.0000   Max.   :1.0000   Max.   :1.0000  \n",
       " PctEmplProfServ   PctOccupManu    PctOccupMgmtProf MalePctDivorce  \n",
       " Min.   :0.0000   Min.   :0.0100   Min.   :0.0000   Min.   :0.0000  \n",
       " 1st Qu.:0.3200   1st Qu.:0.2400   1st Qu.:0.3100   1st Qu.:0.3300  \n",
       " Median :0.4100   Median :0.3700   Median :0.4000   Median :0.4600  \n",
       " Mean   :0.4427   Mean   :0.3905   Mean   :0.4436   Mean   :0.4594  \n",
       " 3rd Qu.:0.5300   3rd Qu.:0.5100   3rd Qu.:0.5400   3rd Qu.:0.5900  \n",
       " Max.   :1.0000   Max.   :1.0000   Max.   :1.0000   Max.   :1.0000  \n",
       " MalePctNevMarr   FemalePctDiv     TotalPctDiv       PersPerFam    \n",
       " Min.   :0.000   Min.   :0.0000   Min.   :0.0000   Min.   :0.0000  \n",
       " 1st Qu.:0.310   1st Qu.:0.3600   1st Qu.:0.3600   1st Qu.:0.3900  \n",
       " Median :0.400   Median :0.5000   Median :0.5000   Median :0.4700  \n",
       " Mean   :0.436   Mean   :0.4866   Mean   :0.4928   Mean   :0.4824  \n",
       " 3rd Qu.:0.500   3rd Qu.:0.6200   3rd Qu.:0.6300   3rd Qu.:0.5500  \n",
       " Max.   :1.000   Max.   :0.9700   Max.   :1.0000   Max.   :1.0000  \n",
       "   PctFam2Par      PctKids2Par     PctYoungKids2Par  PctTeen2Par    \n",
       " Min.   :0.0000   Min.   :0.0000   Min.   :0.0000   Min.   :0.0000  \n",
       " 1st Qu.:0.4800   1st Qu.:0.4900   1st Qu.:0.5200   1st Qu.:0.4700  \n",
       " Median :0.6300   Median :0.6400   Median :0.7000   Median :0.6100  \n",
       " Mean   :0.6095   Mean   :0.6196   Mean   :0.6637   Mean   :0.5801  \n",
       " 3rd Qu.:0.7700   3rd Qu.:0.7700   3rd Qu.:0.8400   3rd Qu.:0.7200  \n",
       " Max.   :1.0000   Max.   :1.0000   Max.   :1.0000   Max.   :1.0000  \n",
       " PctWorkMomYoungKids   PctWorkMom        NumIlleg          PctIlleg     \n",
       " Min.   :0.0000      Min.   :0.0000   Min.   :0.00000   Min.   :0.0000  \n",
       " 1st Qu.:0.4000      1st Qu.:0.4300   1st Qu.:0.00000   1st Qu.:0.0900  \n",
       " Median :0.5100      Median :0.5400   Median :0.01000   Median :0.1700  \n",
       " Mean   :0.5029      Mean   :0.5291   Mean   :0.03595   Mean   :0.2515  \n",
       " 3rd Qu.:0.6200      3rd Qu.:0.6500   3rd Qu.:0.02000   3rd Qu.:0.3200  \n",
       " Max.   :1.0000      Max.   :1.0000   Max.   :1.00000   Max.   :1.0000  \n",
       "    NumImmig       PctImmigRecent    PctImmigRec5     PctImmigRec8   \n",
       " Min.   :0.00000   Min.   :0.0000   Min.   :0.0000   Min.   :0.0000  \n",
       " 1st Qu.:0.00000   1st Qu.:0.1600   1st Qu.:0.2000   1st Qu.:0.2500  \n",
       " Median :0.01000   Median :0.2900   Median :0.3400   Median :0.3900  \n",
       " Mean   :0.02845   Mean   :0.3197   Mean   :0.3591   Mean   :0.3979  \n",
       " 3rd Qu.:0.02000   3rd Qu.:0.4300   3rd Qu.:0.4800   3rd Qu.:0.5300  \n",
       " Max.   :1.00000   Max.   :1.0000   Max.   :1.0000   Max.   :1.0000  \n",
       " PctImmigRec10    PctRecentImmig    PctRecImmig5    PctRecImmig8   \n",
       " Min.   :0.0000   Min.   :0.0000   Min.   :0.000   Min.   :0.0000  \n",
       " 1st Qu.:0.2800   1st Qu.:0.0300   1st Qu.:0.030   1st Qu.:0.0300  \n",
       " Median :0.4300   Median :0.0800   Median :0.080   Median :0.0800  \n",
       " Mean   :0.4284   Mean   :0.1774   Mean   :0.178   Mean   :0.1805  \n",
       " 3rd Qu.:0.5600   3rd Qu.:0.2200   3rd Qu.:0.230   3rd Qu.:0.2200  \n",
       " Max.   :1.0000   Max.   :1.0000   Max.   :1.000   Max.   :1.0000  \n",
       " PctRecImmig10    PctSpeakEnglOnly PctNotSpeakEnglWell PctLargHouseFam \n",
       " Min.   :0.0000   Min.   :0.0000   Min.   :0.000       Min.   :0.0000  \n",
       " 1st Qu.:0.0300   1st Qu.:0.7300   1st Qu.:0.030       1st Qu.:0.1500  \n",
       " Median :0.0800   Median :0.8700   Median :0.060       Median :0.2000  \n",
       " Mean   :0.1787   Mean   :0.7905   Mean   :0.146       Mean   :0.2622  \n",
       " 3rd Qu.:0.2200   3rd Qu.:0.9400   3rd Qu.:0.150       3rd Qu.:0.3100  \n",
       " Max.   :1.0000   Max.   :1.0000   Max.   :1.000       Max.   :1.0000  \n",
       " PctLargHouseOccup PersPerOccupHous PersPerOwnOccHous PersPerRentOccHous\n",
       " Min.   :0.0000    Min.   :0.0000   Min.   :0.00      Min.   :0.0000    \n",
       " 1st Qu.:0.1400    1st Qu.:0.3400   1st Qu.:0.38      1st Qu.:0.2700    \n",
       " Median :0.1900    Median :0.4300   Median :0.47      Median :0.3600    \n",
       " Mean   :0.2459    Mean   :0.4564   Mean   :0.49      Mean   :0.3979    \n",
       " 3rd Qu.:0.2800    3rd Qu.:0.5400   3rd Qu.:0.58      3rd Qu.:0.4800    \n",
       " Max.   :1.0000    Max.   :1.0000   Max.   :1.00      Max.   :1.0000    \n",
       " PctPersOwnOccup PctPersDenseHous PctHousLess3BR     MedNumBR     \n",
       " Min.   :0.000   Min.   :0.0000   Min.   :0.000   Min.   :0.0000  \n",
       " 1st Qu.:0.440   1st Qu.:0.0600   1st Qu.:0.400   1st Qu.:0.0000  \n",
       " Median :0.550   Median :0.1100   Median :0.510   Median :0.5000  \n",
       " Mean   :0.562   Mean   :0.1806   Mean   :0.496   Mean   :0.3157  \n",
       " 3rd Qu.:0.700   3rd Qu.:0.2200   3rd Qu.:0.600   3rd Qu.:0.5000  \n",
       " Max.   :0.990   Max.   :1.0000   Max.   :1.000   Max.   :1.0000  \n",
       "   HousVacant      PctHousOccup    PctHousOwnOcc    PctVacantBoarded\n",
       " Min.   :0.0000   Min.   :0.0000   Min.   :0.0000   Min.   :0.0000  \n",
       " 1st Qu.:0.0100   1st Qu.:0.6400   1st Qu.:0.4300   1st Qu.:0.0600  \n",
       " Median :0.0300   Median :0.7700   Median :0.5400   Median :0.1300  \n",
       " Mean   :0.0745   Mean   :0.7204   Mean   :0.5476   Mean   :0.2018  \n",
       " 3rd Qu.:0.0700   3rd Qu.:0.8600   3rd Qu.:0.6700   3rd Qu.:0.2700  \n",
       " Max.   :1.0000   Max.   :0.9800   Max.   :1.0000   Max.   :1.0000  \n",
       " PctVacMore6Mos   MedYrHousBuilt   PctHousNoPhone   PctWOFullPlumb \n",
       " Min.   :0.0000   Min.   :0.0000   Min.   :0.0000   Min.   :0.000  \n",
       " 1st Qu.:0.2900   1st Qu.:0.3500   1st Qu.:0.0600   1st Qu.:0.100  \n",
       " Median :0.4200   Median :0.5000   Median :0.1800   Median :0.200  \n",
       " Mean   :0.4333   Mean   :0.4887   Mean   :0.2667   Mean   :0.246  \n",
       " 3rd Qu.:0.5600   3rd Qu.:0.6700   3rd Qu.:0.4300   3rd Qu.:0.330  \n",
       " Max.   :1.0000   Max.   :1.0000   Max.   :1.0000   Max.   :1.000  \n",
       " OwnOccLowQuart    OwnOccMedVal    OwnOccHiQuart       RentLowQ     \n",
       " Min.   :0.0000   Min.   :0.0000   Min.   :0.0000   Min.   :0.0000  \n",
       " 1st Qu.:0.0900   1st Qu.:0.0900   1st Qu.:0.0900   1st Qu.:0.1700  \n",
       " Median :0.1800   Median :0.1800   Median :0.1800   Median :0.3100  \n",
       " Mean   :0.2668   Mean   :0.2654   Mean   :0.2709   Mean   :0.3455  \n",
       " 3rd Qu.:0.4000   3rd Qu.:0.3900   3rd Qu.:0.3800   3rd Qu.:0.4800  \n",
       " Max.   :1.0000   Max.   :1.0000   Max.   :1.0000   Max.   :1.0000  \n",
       "   RentMedian       RentHighQ         MedRent       MedRentPctHousInc\n",
       " Min.   :0.0200   Min.   :0.0300   Min.   :0.0200   Min.   :0.0000   \n",
       " 1st Qu.:0.2000   1st Qu.:0.2200   1st Qu.:0.2100   1st Qu.:0.3700   \n",
       " Median :0.3300   Median :0.3700   Median :0.3400   Median :0.4800   \n",
       " Mean   :0.3721   Mean   :0.4232   Mean   :0.3837   Mean   :0.4885   \n",
       " 3rd Qu.:0.5200   3rd Qu.:0.5900   3rd Qu.:0.5300   3rd Qu.:0.5900   \n",
       " Max.   :1.0000   Max.   :1.0000   Max.   :1.0000   Max.   :1.0000   \n",
       " MedOwnCostPctInc MedOwnCostPctIncNoMtg NumInShelters      NumStreet      \n",
       " Min.   :0.0100   Min.   :0.0000        Min.   :0.0000   Min.   :0.00000  \n",
       " 1st Qu.:0.3200   1st Qu.:0.2600        1st Qu.:0.0000   1st Qu.:0.00000  \n",
       " Median :0.4500   Median :0.3700        Median :0.0000   Median :0.00000  \n",
       " Mean   :0.4497   Mean   :0.4043        Mean   :0.0289   Mean   :0.02075  \n",
       " 3rd Qu.:0.5800   3rd Qu.:0.5100        3rd Qu.:0.0100   3rd Qu.:0.00000  \n",
       " Max.   :1.0000   Max.   :1.0000        Max.   :1.0000   Max.   :1.00000  \n",
       " PctForeignBorn   PctBornSameState PctSameHouse85   PctSameCity85   \n",
       " Min.   :0.0000   Min.   :0.000    Min.   :0.0000   Min.   :0.0000  \n",
       " 1st Qu.:0.0600   1st Qu.:0.470    1st Qu.:0.4200   1st Qu.:0.5200  \n",
       " Median :0.1300   Median :0.630    Median :0.5400   Median :0.6700  \n",
       " Mean   :0.2116   Mean   :0.609    Mean   :0.5362   Mean   :0.6264  \n",
       " 3rd Qu.:0.2800   3rd Qu.:0.770    3rd Qu.:0.6600   3rd Qu.:0.7700  \n",
       " Max.   :1.0000   Max.   :1.000    Max.   :0.9700   Max.   :0.9900  \n",
       " PctSameState85  LemasSwornFT       LemasSwFTPerPop    LemasSwFTFieldOps \n",
       " Min.   :0.000   Length:1397        Length:1397        Length:1397       \n",
       " 1st Qu.:0.560   Class :character   Class :character   Class :character  \n",
       " Median :0.700   Mode  :character   Mode  :character   Mode  :character  \n",
       " Mean   :0.651                                                           \n",
       " 3rd Qu.:0.790                                                           \n",
       " Max.   :1.000                                                           \n",
       " LemasSwFTFieldPerPop LemasTotalReq      LemasTotReqPerPop  PolicReqPerOffic  \n",
       " Length:1397          Length:1397        Length:1397        Length:1397       \n",
       " Class :character     Class :character   Class :character   Class :character  \n",
       " Mode  :character     Mode  :character   Mode  :character   Mode  :character  \n",
       "                                                                              \n",
       "                                                                              \n",
       "                                                                              \n",
       " PolicPerPop        RacialMatchCommPol PctPolicWhite      PctPolicBlack     \n",
       " Length:1397        Length:1397        Length:1397        Length:1397       \n",
       " Class :character   Class :character   Class :character   Class :character  \n",
       " Mode  :character   Mode  :character   Mode  :character   Mode  :character  \n",
       "                                                                            \n",
       "                                                                            \n",
       "                                                                            \n",
       " PctPolicHisp       PctPolicAsian      PctPolicMinor      OfficAssgnDrugUnits\n",
       " Length:1397        Length:1397        Length:1397        Length:1397        \n",
       " Class :character   Class :character   Class :character   Class :character   \n",
       " Mode  :character   Mode  :character   Mode  :character   Mode  :character   \n",
       "                                                                             \n",
       "                                                                             \n",
       "                                                                             \n",
       " NumKindsDrugsSeiz  PolicAveOTWorked      LandArea          PopDens      \n",
       " Length:1397        Length:1397        Min.   :0.00000   Min.   :0.0000  \n",
       " Class :character   Class :character   1st Qu.:0.02000   1st Qu.:0.1000  \n",
       " Mode  :character   Mode  :character   Median :0.04000   Median :0.1700  \n",
       "                                       Mean   :0.06335   Mean   :0.2354  \n",
       "                                       3rd Qu.:0.07000   3rd Qu.:0.2900  \n",
       "                                       Max.   :1.00000   Max.   :1.0000  \n",
       " PctUsePubTrans    PolicCars         PolicOperBudg      LemasPctPolicOnPatr\n",
       " Min.   :0.0000   Length:1397        Length:1397        Length:1397        \n",
       " 1st Qu.:0.0200   Class :character   Class :character   Class :character   \n",
       " Median :0.0700   Mode  :character   Mode  :character   Mode  :character   \n",
       " Mean   :0.1634                                                            \n",
       " 3rd Qu.:0.1900                                                            \n",
       " Max.   :1.0000                                                            \n",
       " LemasGangUnitDeploy LemasPctOfficDrugUn PolicBudgPerPop    ViolentCrimesPerPop\n",
       " Length:1397         Min.   :0.00000     Length:1397        Min.   :0.0000     \n",
       " Class :character    1st Qu.:0.00000     Class :character   1st Qu.:0.0700     \n",
       " Mode  :character    Median :0.00000     Mode  :character   Median :0.1500     \n",
       "                     Mean   :0.09408                        Mean   :0.2381     \n",
       "                     3rd Qu.:0.00000                        3rd Qu.:0.3300     \n",
       "                     Max.   :1.00000                        Max.   :1.0000     "
      ]
     },
     "metadata": {},
     "output_type": "display_data"
    }
   ],
   "source": [
    "summary(crime_train_data)"
   ]
  },
  {
   "cell_type": "code",
   "execution_count": 13,
   "metadata": {},
   "outputs": [
    {
     "data": {
      "text/plain": [
       "\n",
       "FALSE  TRUE \n",
       "  223  1174 "
      ]
     },
     "metadata": {},
     "output_type": "display_data"
    },
    {
     "data": {
      "text/plain": [
       "\n",
       "FALSE \n",
       " 1397 "
      ]
     },
     "metadata": {},
     "output_type": "display_data"
    }
   ],
   "source": [
    "table(crime_train_data$LemasSwFTFieldPerPop == '?')\n",
    "table(is.na(crime_train_data$LemasSwFTFieldPerPop))"
   ]
  },
  {
   "cell_type": "markdown",
   "metadata": {},
   "source": [
    "There are many variables who have missing values filled with `?`. "
   ]
  },
  {
   "cell_type": "code",
   "execution_count": 14,
   "metadata": {},
   "outputs": [
    {
     "data": {
      "text/html": [
       "<table class=\"dataframe\">\n",
       "<caption>A data.frame: 6 × 128</caption>\n",
       "<thead>\n",
       "\t<tr><th></th><th scope=col>state</th><th scope=col>county</th><th scope=col>community</th><th scope=col>communityname</th><th scope=col>fold</th><th scope=col>population</th><th scope=col>householdsize</th><th scope=col>racepctblack</th><th scope=col>racePctWhite</th><th scope=col>racePctAsian</th><th scope=col>⋯</th><th scope=col>LandArea</th><th scope=col>PopDens</th><th scope=col>PctUsePubTrans</th><th scope=col>PolicCars</th><th scope=col>PolicOperBudg</th><th scope=col>LemasPctPolicOnPatr</th><th scope=col>LemasGangUnitDeploy</th><th scope=col>LemasPctOfficDrugUn</th><th scope=col>PolicBudgPerPop</th><th scope=col>ViolentCrimesPerPop</th></tr>\n",
       "\t<tr><th></th><th scope=col>&lt;int&gt;</th><th scope=col>&lt;chr&gt;</th><th scope=col>&lt;chr&gt;</th><th scope=col>&lt;chr&gt;</th><th scope=col>&lt;int&gt;</th><th scope=col>&lt;dbl&gt;</th><th scope=col>&lt;dbl&gt;</th><th scope=col>&lt;dbl&gt;</th><th scope=col>&lt;dbl&gt;</th><th scope=col>&lt;dbl&gt;</th><th scope=col>⋯</th><th scope=col>&lt;dbl&gt;</th><th scope=col>&lt;dbl&gt;</th><th scope=col>&lt;dbl&gt;</th><th scope=col>&lt;chr&gt;</th><th scope=col>&lt;chr&gt;</th><th scope=col>&lt;chr&gt;</th><th scope=col>&lt;chr&gt;</th><th scope=col>&lt;dbl&gt;</th><th scope=col>&lt;chr&gt;</th><th scope=col>&lt;dbl&gt;</th></tr>\n",
       "</thead>\n",
       "<tbody>\n",
       "\t<tr><th scope=row>1</th><td> 8</td><td>?</td><td>?    </td><td>Lakewoodcity       </td><td>1</td><td>0.19</td><td>0.33</td><td>0.02</td><td>0.90</td><td>0.12</td><td>⋯</td><td>0.12</td><td>0.26</td><td>0.20</td><td>0.06</td><td>0.04</td><td>0.9</td><td>0.5</td><td>0.32</td><td>0.14</td><td>0.20</td></tr>\n",
       "\t<tr><th scope=row>2</th><td>53</td><td>?</td><td>?    </td><td>Tukwilacity        </td><td>1</td><td>0.00</td><td>0.16</td><td>0.12</td><td>0.74</td><td>0.45</td><td>⋯</td><td>0.02</td><td>0.12</td><td>0.45</td><td>?   </td><td>?   </td><td>?  </td><td>?  </td><td>0.00</td><td>?   </td><td>0.67</td></tr>\n",
       "\t<tr><th scope=row>3</th><td>24</td><td>?</td><td>?    </td><td>Aberdeentown       </td><td>1</td><td>0.00</td><td>0.42</td><td>0.49</td><td>0.56</td><td>0.17</td><td>⋯</td><td>0.01</td><td>0.21</td><td>0.02</td><td>?   </td><td>?   </td><td>?  </td><td>?  </td><td>0.00</td><td>?   </td><td>0.43</td></tr>\n",
       "\t<tr><th scope=row>4</th><td>34</td><td>5</td><td>81440</td><td>Willingborotownship</td><td>1</td><td>0.04</td><td>0.77</td><td>1.00</td><td>0.08</td><td>0.12</td><td>⋯</td><td>0.02</td><td>0.39</td><td>0.28</td><td>?   </td><td>?   </td><td>?  </td><td>?  </td><td>0.00</td><td>?   </td><td>0.12</td></tr>\n",
       "\t<tr><th scope=row>6</th><td> 6</td><td>?</td><td>?    </td><td>SouthPasadenacity  </td><td>1</td><td>0.02</td><td>0.28</td><td>0.06</td><td>0.54</td><td>1.00</td><td>⋯</td><td>0.01</td><td>0.58</td><td>0.10</td><td>?   </td><td>?   </td><td>?  </td><td>?  </td><td>0.00</td><td>?   </td><td>0.14</td></tr>\n",
       "\t<tr><th scope=row>7</th><td>44</td><td>7</td><td>41500</td><td>Lincolntown        </td><td>1</td><td>0.01</td><td>0.39</td><td>0.00</td><td>0.98</td><td>0.06</td><td>⋯</td><td>0.05</td><td>0.08</td><td>0.06</td><td>?   </td><td>?   </td><td>?  </td><td>?  </td><td>0.00</td><td>?   </td><td>0.03</td></tr>\n",
       "</tbody>\n",
       "</table>\n"
      ],
      "text/latex": [
       "A data.frame: 6 × 128\n",
       "\\begin{tabular}{r|lllllllllllllllllllll}\n",
       "  & state & county & community & communityname & fold & population & householdsize & racepctblack & racePctWhite & racePctAsian & ⋯ & LandArea & PopDens & PctUsePubTrans & PolicCars & PolicOperBudg & LemasPctPolicOnPatr & LemasGangUnitDeploy & LemasPctOfficDrugUn & PolicBudgPerPop & ViolentCrimesPerPop\\\\\n",
       "  & <int> & <chr> & <chr> & <chr> & <int> & <dbl> & <dbl> & <dbl> & <dbl> & <dbl> & ⋯ & <dbl> & <dbl> & <dbl> & <chr> & <chr> & <chr> & <chr> & <dbl> & <chr> & <dbl>\\\\\n",
       "\\hline\n",
       "\t1 &  8 & ? & ?     & Lakewoodcity        & 1 & 0.19 & 0.33 & 0.02 & 0.90 & 0.12 & ⋯ & 0.12 & 0.26 & 0.20 & 0.06 & 0.04 & 0.9 & 0.5 & 0.32 & 0.14 & 0.20\\\\\n",
       "\t2 & 53 & ? & ?     & Tukwilacity         & 1 & 0.00 & 0.16 & 0.12 & 0.74 & 0.45 & ⋯ & 0.02 & 0.12 & 0.45 & ?    & ?    & ?   & ?   & 0.00 & ?    & 0.67\\\\\n",
       "\t3 & 24 & ? & ?     & Aberdeentown        & 1 & 0.00 & 0.42 & 0.49 & 0.56 & 0.17 & ⋯ & 0.01 & 0.21 & 0.02 & ?    & ?    & ?   & ?   & 0.00 & ?    & 0.43\\\\\n",
       "\t4 & 34 & 5 & 81440 & Willingborotownship & 1 & 0.04 & 0.77 & 1.00 & 0.08 & 0.12 & ⋯ & 0.02 & 0.39 & 0.28 & ?    & ?    & ?   & ?   & 0.00 & ?    & 0.12\\\\\n",
       "\t6 &  6 & ? & ?     & SouthPasadenacity   & 1 & 0.02 & 0.28 & 0.06 & 0.54 & 1.00 & ⋯ & 0.01 & 0.58 & 0.10 & ?    & ?    & ?   & ?   & 0.00 & ?    & 0.14\\\\\n",
       "\t7 & 44 & 7 & 41500 & Lincolntown         & 1 & 0.01 & 0.39 & 0.00 & 0.98 & 0.06 & ⋯ & 0.05 & 0.08 & 0.06 & ?    & ?    & ?   & ?   & 0.00 & ?    & 0.03\\\\\n",
       "\\end{tabular}\n"
      ],
      "text/markdown": [
       "\n",
       "A data.frame: 6 × 128\n",
       "\n",
       "| <!--/--> | state &lt;int&gt; | county &lt;chr&gt; | community &lt;chr&gt; | communityname &lt;chr&gt; | fold &lt;int&gt; | population &lt;dbl&gt; | householdsize &lt;dbl&gt; | racepctblack &lt;dbl&gt; | racePctWhite &lt;dbl&gt; | racePctAsian &lt;dbl&gt; | ⋯ ⋯ | LandArea &lt;dbl&gt; | PopDens &lt;dbl&gt; | PctUsePubTrans &lt;dbl&gt; | PolicCars &lt;chr&gt; | PolicOperBudg &lt;chr&gt; | LemasPctPolicOnPatr &lt;chr&gt; | LemasGangUnitDeploy &lt;chr&gt; | LemasPctOfficDrugUn &lt;dbl&gt; | PolicBudgPerPop &lt;chr&gt; | ViolentCrimesPerPop &lt;dbl&gt; |\n",
       "|---|---|---|---|---|---|---|---|---|---|---|---|---|---|---|---|---|---|---|---|---|---|\n",
       "| 1 |  8 | ? | ?     | Lakewoodcity        | 1 | 0.19 | 0.33 | 0.02 | 0.90 | 0.12 | ⋯ | 0.12 | 0.26 | 0.20 | 0.06 | 0.04 | 0.9 | 0.5 | 0.32 | 0.14 | 0.20 |\n",
       "| 2 | 53 | ? | ?     | Tukwilacity         | 1 | 0.00 | 0.16 | 0.12 | 0.74 | 0.45 | ⋯ | 0.02 | 0.12 | 0.45 | ?    | ?    | ?   | ?   | 0.00 | ?    | 0.67 |\n",
       "| 3 | 24 | ? | ?     | Aberdeentown        | 1 | 0.00 | 0.42 | 0.49 | 0.56 | 0.17 | ⋯ | 0.01 | 0.21 | 0.02 | ?    | ?    | ?   | ?   | 0.00 | ?    | 0.43 |\n",
       "| 4 | 34 | 5 | 81440 | Willingborotownship | 1 | 0.04 | 0.77 | 1.00 | 0.08 | 0.12 | ⋯ | 0.02 | 0.39 | 0.28 | ?    | ?    | ?   | ?   | 0.00 | ?    | 0.12 |\n",
       "| 6 |  6 | ? | ?     | SouthPasadenacity   | 1 | 0.02 | 0.28 | 0.06 | 0.54 | 1.00 | ⋯ | 0.01 | 0.58 | 0.10 | ?    | ?    | ?   | ?   | 0.00 | ?    | 0.14 |\n",
       "| 7 | 44 | 7 | 41500 | Lincolntown         | 1 | 0.01 | 0.39 | 0.00 | 0.98 | 0.06 | ⋯ | 0.05 | 0.08 | 0.06 | ?    | ?    | ?   | ?   | 0.00 | ?    | 0.03 |\n",
       "\n"
      ],
      "text/plain": [
       "  state county community communityname       fold population householdsize\n",
       "1  8    ?      ?         Lakewoodcity        1    0.19       0.33         \n",
       "2 53    ?      ?         Tukwilacity         1    0.00       0.16         \n",
       "3 24    ?      ?         Aberdeentown        1    0.00       0.42         \n",
       "4 34    5      81440     Willingborotownship 1    0.04       0.77         \n",
       "6  6    ?      ?         SouthPasadenacity   1    0.02       0.28         \n",
       "7 44    7      41500     Lincolntown         1    0.01       0.39         \n",
       "  racepctblack racePctWhite racePctAsian ⋯ LandArea PopDens PctUsePubTrans\n",
       "1 0.02         0.90         0.12         ⋯ 0.12     0.26    0.20          \n",
       "2 0.12         0.74         0.45         ⋯ 0.02     0.12    0.45          \n",
       "3 0.49         0.56         0.17         ⋯ 0.01     0.21    0.02          \n",
       "4 1.00         0.08         0.12         ⋯ 0.02     0.39    0.28          \n",
       "6 0.06         0.54         1.00         ⋯ 0.01     0.58    0.10          \n",
       "7 0.00         0.98         0.06         ⋯ 0.05     0.08    0.06          \n",
       "  PolicCars PolicOperBudg LemasPctPolicOnPatr LemasGangUnitDeploy\n",
       "1 0.06      0.04          0.9                 0.5                \n",
       "2 ?         ?             ?                   ?                  \n",
       "3 ?         ?             ?                   ?                  \n",
       "4 ?         ?             ?                   ?                  \n",
       "6 ?         ?             ?                   ?                  \n",
       "7 ?         ?             ?                   ?                  \n",
       "  LemasPctOfficDrugUn PolicBudgPerPop ViolentCrimesPerPop\n",
       "1 0.32                0.14            0.20               \n",
       "2 0.00                ?               0.67               \n",
       "3 0.00                ?               0.43               \n",
       "4 0.00                ?               0.12               \n",
       "6 0.00                ?               0.14               \n",
       "7 0.00                ?               0.03               "
      ]
     },
     "metadata": {},
     "output_type": "display_data"
    }
   ],
   "source": [
    "head(crime_train_data)"
   ]
  },
  {
   "cell_type": "markdown",
   "metadata": {},
   "source": [
    "---\n",
    "\n",
    "## Principal Component Analysis\n",
    "\n",
    "\n",
    "##### Centering and Standardizing Variables\n",
    "\n",
    "Principal Component Analysis in R: http://www.sthda.com/english/articles/31-principal-component-methods-in-r-practical-guide/112-pca-principal-component-analysis-essentials/#biplot\n",
    "\n",
    "\n",
    "Standardizing the variables is very important if we have to perform principal component analysis on the variables. \n",
    "If the variables are not standardized, then variables with large variances dominate other variables.\n",
    "\n",
    "When the variables are standardized, they will all have variance 1 and mean 0. This would allow us to find the principal components that provide the best low-dimensional representation of the variation in the original data, without being overly biased by those variables that show the most variance in the original data.\n",
    "\n",
    "We will use `scale()` function In R to standardize the variables."
   ]
  },
  {
   "cell_type": "code",
   "execution_count": 16,
   "metadata": {},
   "outputs": [
    {
     "data": {
      "text/html": [
       "<style>\n",
       ".list-inline {list-style: none; margin:0; padding: 0}\n",
       ".list-inline>li {display: inline-block}\n",
       ".list-inline>li:not(:last-child)::after {content: \"\\00b7\"; padding: 0 .5ex}\n",
       "</style>\n",
       "<ol class=list-inline><li>1397</li><li>102</li></ol>\n"
      ],
      "text/latex": [
       "\\begin{enumerate*}\n",
       "\\item 1397\n",
       "\\item 102\n",
       "\\end{enumerate*}\n"
      ],
      "text/markdown": [
       "1. 1397\n",
       "2. 102\n",
       "\n",
       "\n"
      ],
      "text/plain": [
       "[1] 1397  102"
      ]
     },
     "metadata": {},
     "output_type": "display_data"
    },
    {
     "data": {
      "text/html": [
       "<table class=\"dataframe\">\n",
       "<caption>A data.frame: 6 × 102</caption>\n",
       "<thead>\n",
       "\t<tr><th></th><th scope=col>state</th><th scope=col>fold</th><th scope=col>population</th><th scope=col>householdsize</th><th scope=col>racepctblack</th><th scope=col>racePctWhite</th><th scope=col>racePctAsian</th><th scope=col>racePctHisp</th><th scope=col>agePct12t21</th><th scope=col>agePct12t29</th><th scope=col>⋯</th><th scope=col>PctForeignBorn</th><th scope=col>PctBornSameState</th><th scope=col>PctSameHouse85</th><th scope=col>PctSameCity85</th><th scope=col>PctSameState85</th><th scope=col>LandArea</th><th scope=col>PopDens</th><th scope=col>PctUsePubTrans</th><th scope=col>LemasPctOfficDrugUn</th><th scope=col>ViolentCrimesPerPop</th></tr>\n",
       "\t<tr><th></th><th scope=col>&lt;dbl&gt;</th><th scope=col>&lt;dbl&gt;</th><th scope=col>&lt;dbl&gt;</th><th scope=col>&lt;dbl&gt;</th><th scope=col>&lt;dbl&gt;</th><th scope=col>&lt;dbl&gt;</th><th scope=col>&lt;dbl&gt;</th><th scope=col>&lt;dbl&gt;</th><th scope=col>&lt;dbl&gt;</th><th scope=col>&lt;dbl&gt;</th><th scope=col>⋯</th><th scope=col>&lt;dbl&gt;</th><th scope=col>&lt;dbl&gt;</th><th scope=col>&lt;dbl&gt;</th><th scope=col>&lt;dbl&gt;</th><th scope=col>&lt;dbl&gt;</th><th scope=col>&lt;dbl&gt;</th><th scope=col>&lt;dbl&gt;</th><th scope=col>&lt;dbl&gt;</th><th scope=col>&lt;dbl&gt;</th><th scope=col>&lt;dbl&gt;</th></tr>\n",
       "</thead>\n",
       "<tbody>\n",
       "\t<tr><th scope=row>1</th><td>-1.2642244</td><td>-1.555965</td><td> 1.1118149</td><td>-0.8071730</td><td>-0.6352198</td><td> 0.59663290</td><td>-0.15684331</td><td> 0.1378421</td><td>-0.5283337</td><td>-0.16108379</td><td>⋯</td><td>-0.406078890</td><td>-0.9221931</td><td>-0.19867356</td><td>-0.57541145</td><td>-0.055416321</td><td> 0.5254673</td><td> 0.1199221</td><td> 0.1584699</td><td> 0.9342996</td><td>-0.1637899</td></tr>\n",
       "\t<tr><th scope=row>2</th><td> 1.4831299</td><td>-1.555965</td><td>-0.4612609</td><td>-1.8704940</td><td>-0.2451358</td><td>-0.05753852</td><td> 1.42951768</td><td>-0.3002048</td><td>-1.0336531</td><td> 0.65921044</td><td>⋯</td><td>-0.007139221</td><td>-0.5317684</td><td>-1.07681306</td><td>-0.13064026</td><td>-0.658662555</td><td>-0.4021013</td><td>-0.5624861</td><td> 1.2396504</td><td>-0.3890719</td><td> 1.8542770</td></tr>\n",
       "\t<tr><th scope=row>3</th><td>-0.2873873</td><td>-1.555965</td><td>-0.4612609</td><td>-0.2442383</td><td> 1.1981749</td><td>-0.79348137</td><td> 0.08351442</td><td>-0.4316188</td><td>-0.2125091</td><td>-0.16108379</td><td>⋯</td><td>-0.317425631</td><td>-0.5805715</td><td> 0.02086131</td><td> 0.21529289</td><td>-0.457580477</td><td>-0.4948582</td><td>-0.1237951</td><td>-0.6199800</td><td>-0.3890719</td><td> 0.8237748</td></tr>\n",
       "\t<tr><th scope=row>4</th><td> 0.3231359</td><td>-1.555965</td><td>-0.1300871</td><td> 1.9449520</td><td> 3.1876030</td><td>-2.75599563</td><td>-0.15684331</td><td>-0.1687907</td><td> 0.5454700</td><td> 0.04398977</td><td>⋯</td><td>-0.095792481</td><td>-1.5078300</td><td> 1.06365197</td><td> 0.06703582</td><td>-0.005145801</td><td>-0.4021013</td><td> 0.7535869</td><td> 0.5044477</td><td>-0.3890719</td><td>-0.5072906</td></tr>\n",
       "\t<tr><th scope=row>6</th><td>-1.3863290</td><td>-1.555965</td><td>-0.2956740</td><td>-1.1199145</td><td>-0.4791862</td><td>-0.87525279</td><td> 4.07345265</td><td> 0.4882796</td><td>-0.7178285</td><td>-0.09272593</td><td>⋯</td><td> 2.164865646</td><td>-0.9221931</td><td>-0.25355728</td><td> 0.51180701</td><td>-0.055416321</td><td>-0.4948582</td><td> 1.6797123</td><td>-0.2740022</td><td>-0.3890719</td><td>-0.4214154</td></tr>\n",
       "\t<tr><th scope=row>7</th><td> 0.9336591</td><td>-1.555965</td><td>-0.3784675</td><td>-0.4318832</td><td>-0.7132365</td><td> 0.92371861</td><td>-0.44527258</td><td>-0.5192282</td><td>-0.7809934</td><td>-0.84466231</td><td>⋯</td><td>-0.273099001</td><td> 0.9811271</td><td> 1.28318685</td><td> 1.40134940</td><td> 0.949994069</td><td>-0.1238307</td><td>-0.7574599</td><td>-0.4469911</td><td>-0.3890719</td><td>-0.8937289</td></tr>\n",
       "</tbody>\n",
       "</table>\n"
      ],
      "text/latex": [
       "A data.frame: 6 × 102\n",
       "\\begin{tabular}{r|lllllllllllllllllllll}\n",
       "  & state & fold & population & householdsize & racepctblack & racePctWhite & racePctAsian & racePctHisp & agePct12t21 & agePct12t29 & ⋯ & PctForeignBorn & PctBornSameState & PctSameHouse85 & PctSameCity85 & PctSameState85 & LandArea & PopDens & PctUsePubTrans & LemasPctOfficDrugUn & ViolentCrimesPerPop\\\\\n",
       "  & <dbl> & <dbl> & <dbl> & <dbl> & <dbl> & <dbl> & <dbl> & <dbl> & <dbl> & <dbl> & ⋯ & <dbl> & <dbl> & <dbl> & <dbl> & <dbl> & <dbl> & <dbl> & <dbl> & <dbl> & <dbl>\\\\\n",
       "\\hline\n",
       "\t1 & -1.2642244 & -1.555965 &  1.1118149 & -0.8071730 & -0.6352198 &  0.59663290 & -0.15684331 &  0.1378421 & -0.5283337 & -0.16108379 & ⋯ & -0.406078890 & -0.9221931 & -0.19867356 & -0.57541145 & -0.055416321 &  0.5254673 &  0.1199221 &  0.1584699 &  0.9342996 & -0.1637899\\\\\n",
       "\t2 &  1.4831299 & -1.555965 & -0.4612609 & -1.8704940 & -0.2451358 & -0.05753852 &  1.42951768 & -0.3002048 & -1.0336531 &  0.65921044 & ⋯ & -0.007139221 & -0.5317684 & -1.07681306 & -0.13064026 & -0.658662555 & -0.4021013 & -0.5624861 &  1.2396504 & -0.3890719 &  1.8542770\\\\\n",
       "\t3 & -0.2873873 & -1.555965 & -0.4612609 & -0.2442383 &  1.1981749 & -0.79348137 &  0.08351442 & -0.4316188 & -0.2125091 & -0.16108379 & ⋯ & -0.317425631 & -0.5805715 &  0.02086131 &  0.21529289 & -0.457580477 & -0.4948582 & -0.1237951 & -0.6199800 & -0.3890719 &  0.8237748\\\\\n",
       "\t4 &  0.3231359 & -1.555965 & -0.1300871 &  1.9449520 &  3.1876030 & -2.75599563 & -0.15684331 & -0.1687907 &  0.5454700 &  0.04398977 & ⋯ & -0.095792481 & -1.5078300 &  1.06365197 &  0.06703582 & -0.005145801 & -0.4021013 &  0.7535869 &  0.5044477 & -0.3890719 & -0.5072906\\\\\n",
       "\t6 & -1.3863290 & -1.555965 & -0.2956740 & -1.1199145 & -0.4791862 & -0.87525279 &  4.07345265 &  0.4882796 & -0.7178285 & -0.09272593 & ⋯ &  2.164865646 & -0.9221931 & -0.25355728 &  0.51180701 & -0.055416321 & -0.4948582 &  1.6797123 & -0.2740022 & -0.3890719 & -0.4214154\\\\\n",
       "\t7 &  0.9336591 & -1.555965 & -0.3784675 & -0.4318832 & -0.7132365 &  0.92371861 & -0.44527258 & -0.5192282 & -0.7809934 & -0.84466231 & ⋯ & -0.273099001 &  0.9811271 &  1.28318685 &  1.40134940 &  0.949994069 & -0.1238307 & -0.7574599 & -0.4469911 & -0.3890719 & -0.8937289\\\\\n",
       "\\end{tabular}\n"
      ],
      "text/markdown": [
       "\n",
       "A data.frame: 6 × 102\n",
       "\n",
       "| <!--/--> | state &lt;dbl&gt; | fold &lt;dbl&gt; | population &lt;dbl&gt; | householdsize &lt;dbl&gt; | racepctblack &lt;dbl&gt; | racePctWhite &lt;dbl&gt; | racePctAsian &lt;dbl&gt; | racePctHisp &lt;dbl&gt; | agePct12t21 &lt;dbl&gt; | agePct12t29 &lt;dbl&gt; | ⋯ ⋯ | PctForeignBorn &lt;dbl&gt; | PctBornSameState &lt;dbl&gt; | PctSameHouse85 &lt;dbl&gt; | PctSameCity85 &lt;dbl&gt; | PctSameState85 &lt;dbl&gt; | LandArea &lt;dbl&gt; | PopDens &lt;dbl&gt; | PctUsePubTrans &lt;dbl&gt; | LemasPctOfficDrugUn &lt;dbl&gt; | ViolentCrimesPerPop &lt;dbl&gt; |\n",
       "|---|---|---|---|---|---|---|---|---|---|---|---|---|---|---|---|---|---|---|---|---|---|\n",
       "| 1 | -1.2642244 | -1.555965 |  1.1118149 | -0.8071730 | -0.6352198 |  0.59663290 | -0.15684331 |  0.1378421 | -0.5283337 | -0.16108379 | ⋯ | -0.406078890 | -0.9221931 | -0.19867356 | -0.57541145 | -0.055416321 |  0.5254673 |  0.1199221 |  0.1584699 |  0.9342996 | -0.1637899 |\n",
       "| 2 |  1.4831299 | -1.555965 | -0.4612609 | -1.8704940 | -0.2451358 | -0.05753852 |  1.42951768 | -0.3002048 | -1.0336531 |  0.65921044 | ⋯ | -0.007139221 | -0.5317684 | -1.07681306 | -0.13064026 | -0.658662555 | -0.4021013 | -0.5624861 |  1.2396504 | -0.3890719 |  1.8542770 |\n",
       "| 3 | -0.2873873 | -1.555965 | -0.4612609 | -0.2442383 |  1.1981749 | -0.79348137 |  0.08351442 | -0.4316188 | -0.2125091 | -0.16108379 | ⋯ | -0.317425631 | -0.5805715 |  0.02086131 |  0.21529289 | -0.457580477 | -0.4948582 | -0.1237951 | -0.6199800 | -0.3890719 |  0.8237748 |\n",
       "| 4 |  0.3231359 | -1.555965 | -0.1300871 |  1.9449520 |  3.1876030 | -2.75599563 | -0.15684331 | -0.1687907 |  0.5454700 |  0.04398977 | ⋯ | -0.095792481 | -1.5078300 |  1.06365197 |  0.06703582 | -0.005145801 | -0.4021013 |  0.7535869 |  0.5044477 | -0.3890719 | -0.5072906 |\n",
       "| 6 | -1.3863290 | -1.555965 | -0.2956740 | -1.1199145 | -0.4791862 | -0.87525279 |  4.07345265 |  0.4882796 | -0.7178285 | -0.09272593 | ⋯ |  2.164865646 | -0.9221931 | -0.25355728 |  0.51180701 | -0.055416321 | -0.4948582 |  1.6797123 | -0.2740022 | -0.3890719 | -0.4214154 |\n",
       "| 7 |  0.9336591 | -1.555965 | -0.3784675 | -0.4318832 | -0.7132365 |  0.92371861 | -0.44527258 | -0.5192282 | -0.7809934 | -0.84466231 | ⋯ | -0.273099001 |  0.9811271 |  1.28318685 |  1.40134940 |  0.949994069 | -0.1238307 | -0.7574599 | -0.4469911 | -0.3890719 | -0.8937289 |\n",
       "\n"
      ],
      "text/plain": [
       "  state      fold      population householdsize racepctblack racePctWhite\n",
       "1 -1.2642244 -1.555965  1.1118149 -0.8071730    -0.6352198    0.59663290 \n",
       "2  1.4831299 -1.555965 -0.4612609 -1.8704940    -0.2451358   -0.05753852 \n",
       "3 -0.2873873 -1.555965 -0.4612609 -0.2442383     1.1981749   -0.79348137 \n",
       "4  0.3231359 -1.555965 -0.1300871  1.9449520     3.1876030   -2.75599563 \n",
       "6 -1.3863290 -1.555965 -0.2956740 -1.1199145    -0.4791862   -0.87525279 \n",
       "7  0.9336591 -1.555965 -0.3784675 -0.4318832    -0.7132365    0.92371861 \n",
       "  racePctAsian racePctHisp agePct12t21 agePct12t29 ⋯ PctForeignBorn\n",
       "1 -0.15684331   0.1378421  -0.5283337  -0.16108379 ⋯ -0.406078890  \n",
       "2  1.42951768  -0.3002048  -1.0336531   0.65921044 ⋯ -0.007139221  \n",
       "3  0.08351442  -0.4316188  -0.2125091  -0.16108379 ⋯ -0.317425631  \n",
       "4 -0.15684331  -0.1687907   0.5454700   0.04398977 ⋯ -0.095792481  \n",
       "6  4.07345265   0.4882796  -0.7178285  -0.09272593 ⋯  2.164865646  \n",
       "7 -0.44527258  -0.5192282  -0.7809934  -0.84466231 ⋯ -0.273099001  \n",
       "  PctBornSameState PctSameHouse85 PctSameCity85 PctSameState85 LandArea  \n",
       "1 -0.9221931       -0.19867356    -0.57541145   -0.055416321    0.5254673\n",
       "2 -0.5317684       -1.07681306    -0.13064026   -0.658662555   -0.4021013\n",
       "3 -0.5805715        0.02086131     0.21529289   -0.457580477   -0.4948582\n",
       "4 -1.5078300        1.06365197     0.06703582   -0.005145801   -0.4021013\n",
       "6 -0.9221931       -0.25355728     0.51180701   -0.055416321   -0.4948582\n",
       "7  0.9811271        1.28318685     1.40134940    0.949994069   -0.1238307\n",
       "  PopDens    PctUsePubTrans LemasPctOfficDrugUn ViolentCrimesPerPop\n",
       "1  0.1199221  0.1584699      0.9342996          -0.1637899         \n",
       "2 -0.5624861  1.2396504     -0.3890719           1.8542770         \n",
       "3 -0.1237951 -0.6199800     -0.3890719           0.8237748         \n",
       "4  0.7535869  0.5044477     -0.3890719          -0.5072906         \n",
       "6  1.6797123 -0.2740022     -0.3890719          -0.4214154         \n",
       "7 -0.7574599 -0.4469911     -0.3890719          -0.8937289         "
      ]
     },
     "metadata": {},
     "output_type": "display_data"
    }
   ],
   "source": [
    "standard_vars <- as.data.frame(scale(crime_train_data[!sapply(crime_train_data,class) %in% c('factor','character')]))\n",
    "dim(standard_vars)\n",
    "head(standard_vars)\n",
    "\n",
    "# It is also possible to normalize all the varibles by specifying \"center\" and \"scale.\" arguments\n",
    "# in the prcomp() function.  Do this by specifying that \"center = TRUE\" and \"scale. = TRUE\"."
   ]
  },
  {
   "cell_type": "markdown",
   "metadata": {},
   "source": [
    "You can verify the means and standard deviations of the variables. The means will be nearly equal to zero and all standard deviations will equal 1."
   ]
  },
  {
   "cell_type": "code",
   "execution_count": 17,
   "metadata": {},
   "outputs": [
    {
     "data": {
      "text/html": [
       "<style>\n",
       ".dl-inline {width: auto; margin:0; padding: 0}\n",
       ".dl-inline>dt, .dl-inline>dd {float: none; width: auto; display: inline-block}\n",
       ".dl-inline>dt::after {content: \":\\0020\"; padding-right: .5ex}\n",
       ".dl-inline>dt:not(:first-of-type) {padding-left: .5ex}\n",
       "</style><dl class=dl-inline><dt>state</dt><dd>9.61116898507329e-17</dd><dt>fold</dt><dd>-7.29966857957052e-17</dd><dt>population</dt><dd>-1.06031402440454e-17</dd><dt>householdsize</dt><dd>9.58069956682577e-17</dd><dt>racepctblack</dt><dd>-3.14004196262667e-17</dd><dt>racePctWhite</dt><dd>-4.40065011493032e-17</dd><dt>racePctAsian</dt><dd>-3.69828772724675e-17</dd><dt>racePctHisp</dt><dd>-3.17760487253955e-17</dd><dt>agePct12t21</dt><dd>4.19926945657918e-17</dd><dt>agePct12t29</dt><dd>9.03802417162981e-17</dd><dt>agePct16t24</dt><dd>1.33003841830456e-16</dd><dt>agePct65up</dt><dd>3.91996904295421e-17</dd><dt>numbUrban</dt><dd>-1.51483299528223e-17</dd><dt>pctUrban</dt><dd>1.14636180355271e-16</dd><dt>medIncome</dt><dd>1.11598105395101e-16</dd><dt>pctWWage</dt><dd>3.00659972516115e-16</dd><dt>pctWFarmSelf</dt><dd>4.68847009143894e-17</dd><dt>pctWInvInc</dt><dd>7.58290378561818e-17</dd><dt>pctWSocSec</dt><dd>-8.43040529912991e-17</dd><dt>pctWPubAsst</dt><dd>-1.01837394895636e-17</dd><dt>pctWRetire</dt><dd>4.25355717452146e-17</dd><dt>medFamInc</dt><dd>-4.37827534855039e-17</dd><dt>perCapInc</dt><dd>-9.52789418685733e-17</dd><dt>whitePerCap</dt><dd>9.08242834292455e-17</dd><dt>blackPerCap</dt><dd>-1.1011442866053e-16</dd><dt>indianPerCap</dt><dd>-6.10836651835897e-17</dd><dt>AsianPerCap</dt><dd>2.33645180124036e-17</dd><dt>HispPerCap</dt><dd>-4.02702333620593e-17</dd><dt>NumUnderPov</dt><dd>2.19698009585928e-17</dd><dt>PctPopUnderPov</dt><dd>4.27980949645205e-17</dd><dt>PctLess9thGrade</dt><dd>1.19528438934152e-16</dd><dt>PctNotHSGrad</dt><dd>-1.17211956010433e-16</dd><dt>PctBSorMore</dt><dd>1.50980391147572e-17</dd><dt>PctUnemployed</dt><dd>1.88537092315015e-17</dd><dt>PctEmploy</dt><dd>-2.52771938338598e-16</dd><dt>PctEmplManu</dt><dd>-8.25937376458339e-17</dd><dt>PctEmplProfServ</dt><dd>1.1706837877213e-16</dd><dt>PctOccupManu</dt><dd>-2.91270098740392e-17</dd><dt>PctOccupMgmtProf</dt><dd>9.96079896267151e-17</dd><dt>MalePctDivorce</dt><dd>2.33948438534128e-17</dd><dt>MalePctNevMarr</dt><dd>-1.25315901593854e-16</dd><dt>FemalePctDiv</dt><dd>1.18922348965217e-16</dd><dt>TotalPctDiv</dt><dd>1.00172636219837e-16</dd><dt>PersPerFam</dt><dd>8.29975777320564e-17</dd><dt>PctFam2Par</dt><dd>3.95660065620914e-17</dd><dt>PctKids2Par</dt><dd>1.38367392694068e-16</dd><dt>PctYoungKids2Par</dt><dd>1.95820430923962e-16</dd><dt>PctTeen2Par</dt><dd>8.27681791397901e-17</dd><dt>PctWorkMomYoungKids</dt><dd>3.2511777299121e-16</dd><dt>PctWorkMom</dt><dd>-1.20831344164766e-16</dd><dt>NumIlleg</dt><dd>-1.14884297344923e-17</dd><dt>PctIlleg</dt><dd>6.35767384092566e-17</dd><dt>NumImmig</dt><dd>2.8652273675822e-17</dd><dt>PctImmigRecent</dt><dd>-1.05131211960951e-16</dd><dt>PctImmigRec5</dt><dd>9.92031018146996e-17</dd><dt>PctImmigRec8</dt><dd>1.32030523971066e-17</dd><dt>PctImmigRec10</dt><dd>-3.60631098424983e-17</dd><dt>PctRecentImmig</dt><dd>-9.13616891517492e-19</dd><dt>PctRecImmig5</dt><dd>-4.21750764630961e-17</dd><dt>PctRecImmig8</dt><dd>5.05547097463892e-19</dd><dt>PctRecImmig10</dt><dd>-1.95718282509724e-17</dd><dt>PctSpeakEnglOnly</dt><dd>2.20033281839696e-17</dd><dt>PctNotSpeakEnglWell</dt><dd>-1.06349600644262e-17</dd><dt>PctLargHouseFam</dt><dd>-7.98221148766937e-17</dd><dt>PctLargHouseOccup</dt><dd>-2.89442399301449e-17</dd><dt>PersPerOccupHous</dt><dd>-1.36629652155854e-16</dd><dt>PersPerOwnOccHous</dt><dd>1.50224321171598e-16</dd><dt>PersPerRentOccHous</dt><dd>-1.30904412766859e-16</dd><dt>PctPersOwnOccup</dt><dd>-3.04975128206334e-17</dd><dt>PctPersDenseHous</dt><dd>1.67092861657931e-17</dd><dt>PctHousLess3BR</dt><dd>1.13298040494283e-16</dd><dt>MedNumBR</dt><dd>6.49332328739515e-17</dd><dt>HousVacant</dt><dd>3.62561824233574e-17</dd><dt>PctHousOccup</dt><dd>2.25783317405792e-16</dd><dt>PctHousOwnOcc</dt><dd>1.77636165117797e-16</dd><dt>PctVacantBoarded</dt><dd>-2.50652874117546e-17</dd><dt>PctVacMore6Mos</dt><dd>-9.98166810828221e-17</dd><dt>MedYrHousBuilt</dt><dd>6.504204113779e-17</dd><dt>PctHousNoPhone</dt><dd>9.07281642889003e-17</dd><dt>PctWOFullPlumb</dt><dd>2.67754087339249e-17</dd><dt>OwnOccLowQuart</dt><dd>1.01180315604773e-16</dd><dt>OwnOccMedVal</dt><dd>-5.86465288738726e-17</dd><dt>OwnOccHiQuart</dt><dd>-8.06697153420859e-17</dd><dt>RentLowQ</dt><dd>1.23494313888704e-16</dd><dt>RentMedian</dt><dd>-1.37597052304747e-17</dd><dt>RentHighQ</dt><dd>-5.77480457993654e-17</dd><dt>MedRent</dt><dd>5.61259722484683e-17</dd><dt>MedRentPctHousInc</dt><dd>1.53389151550394e-16</dd><dt>MedOwnCostPctInc</dt><dd>-1.45364891334232e-16</dd><dt>MedOwnCostPctIncNoMtg</dt><dd>4.95116405124447e-18</dd><dt>NumInShelters</dt><dd>-7.95767142131719e-19</dd><dt>NumStreet</dt><dd>-2.53918286172473e-18</dd><dt>PctForeignBorn</dt><dd>3.90371765176463e-17</dd><dt>PctBornSameState</dt><dd>2.12922793733687e-16</dd><dt>PctSameHouse85</dt><dd>-2.95280327420182e-16</dd><dt>PctSameCity85</dt><dd>2.29826956896982e-16</dd><dt>PctSameState85</dt><dd>1.64025266053426e-16</dd><dt>LandArea</dt><dd>4.91042692022531e-17</dd><dt>PopDens</dt><dd>4.8930967595155e-17</dd><dt>PctUsePubTrans</dt><dd>5.6919449915719e-17</dd><dt>LemasPctOfficDrugUn</dt><dd>5.71639192674247e-18</dd><dt>ViolentCrimesPerPop</dt><dd>3.06884317429179e-17</dd></dl>\n"
      ],
      "text/latex": [
       "\\begin{description*}\n",
       "\\item[state] 9.61116898507329e-17\n",
       "\\item[fold] -7.29966857957052e-17\n",
       "\\item[population] -1.06031402440454e-17\n",
       "\\item[householdsize] 9.58069956682577e-17\n",
       "\\item[racepctblack] -3.14004196262667e-17\n",
       "\\item[racePctWhite] -4.40065011493032e-17\n",
       "\\item[racePctAsian] -3.69828772724675e-17\n",
       "\\item[racePctHisp] -3.17760487253955e-17\n",
       "\\item[agePct12t21] 4.19926945657918e-17\n",
       "\\item[agePct12t29] 9.03802417162981e-17\n",
       "\\item[agePct16t24] 1.33003841830456e-16\n",
       "\\item[agePct65up] 3.91996904295421e-17\n",
       "\\item[numbUrban] -1.51483299528223e-17\n",
       "\\item[pctUrban] 1.14636180355271e-16\n",
       "\\item[medIncome] 1.11598105395101e-16\n",
       "\\item[pctWWage] 3.00659972516115e-16\n",
       "\\item[pctWFarmSelf] 4.68847009143894e-17\n",
       "\\item[pctWInvInc] 7.58290378561818e-17\n",
       "\\item[pctWSocSec] -8.43040529912991e-17\n",
       "\\item[pctWPubAsst] -1.01837394895636e-17\n",
       "\\item[pctWRetire] 4.25355717452146e-17\n",
       "\\item[medFamInc] -4.37827534855039e-17\n",
       "\\item[perCapInc] -9.52789418685733e-17\n",
       "\\item[whitePerCap] 9.08242834292455e-17\n",
       "\\item[blackPerCap] -1.1011442866053e-16\n",
       "\\item[indianPerCap] -6.10836651835897e-17\n",
       "\\item[AsianPerCap] 2.33645180124036e-17\n",
       "\\item[HispPerCap] -4.02702333620593e-17\n",
       "\\item[NumUnderPov] 2.19698009585928e-17\n",
       "\\item[PctPopUnderPov] 4.27980949645205e-17\n",
       "\\item[PctLess9thGrade] 1.19528438934152e-16\n",
       "\\item[PctNotHSGrad] -1.17211956010433e-16\n",
       "\\item[PctBSorMore] 1.50980391147572e-17\n",
       "\\item[PctUnemployed] 1.88537092315015e-17\n",
       "\\item[PctEmploy] -2.52771938338598e-16\n",
       "\\item[PctEmplManu] -8.25937376458339e-17\n",
       "\\item[PctEmplProfServ] 1.1706837877213e-16\n",
       "\\item[PctOccupManu] -2.91270098740392e-17\n",
       "\\item[PctOccupMgmtProf] 9.96079896267151e-17\n",
       "\\item[MalePctDivorce] 2.33948438534128e-17\n",
       "\\item[MalePctNevMarr] -1.25315901593854e-16\n",
       "\\item[FemalePctDiv] 1.18922348965217e-16\n",
       "\\item[TotalPctDiv] 1.00172636219837e-16\n",
       "\\item[PersPerFam] 8.29975777320564e-17\n",
       "\\item[PctFam2Par] 3.95660065620914e-17\n",
       "\\item[PctKids2Par] 1.38367392694068e-16\n",
       "\\item[PctYoungKids2Par] 1.95820430923962e-16\n",
       "\\item[PctTeen2Par] 8.27681791397901e-17\n",
       "\\item[PctWorkMomYoungKids] 3.2511777299121e-16\n",
       "\\item[PctWorkMom] -1.20831344164766e-16\n",
       "\\item[NumIlleg] -1.14884297344923e-17\n",
       "\\item[PctIlleg] 6.35767384092566e-17\n",
       "\\item[NumImmig] 2.8652273675822e-17\n",
       "\\item[PctImmigRecent] -1.05131211960951e-16\n",
       "\\item[PctImmigRec5] 9.92031018146996e-17\n",
       "\\item[PctImmigRec8] 1.32030523971066e-17\n",
       "\\item[PctImmigRec10] -3.60631098424983e-17\n",
       "\\item[PctRecentImmig] -9.13616891517492e-19\n",
       "\\item[PctRecImmig5] -4.21750764630961e-17\n",
       "\\item[PctRecImmig8] 5.05547097463892e-19\n",
       "\\item[PctRecImmig10] -1.95718282509724e-17\n",
       "\\item[PctSpeakEnglOnly] 2.20033281839696e-17\n",
       "\\item[PctNotSpeakEnglWell] -1.06349600644262e-17\n",
       "\\item[PctLargHouseFam] -7.98221148766937e-17\n",
       "\\item[PctLargHouseOccup] -2.89442399301449e-17\n",
       "\\item[PersPerOccupHous] -1.36629652155854e-16\n",
       "\\item[PersPerOwnOccHous] 1.50224321171598e-16\n",
       "\\item[PersPerRentOccHous] -1.30904412766859e-16\n",
       "\\item[PctPersOwnOccup] -3.04975128206334e-17\n",
       "\\item[PctPersDenseHous] 1.67092861657931e-17\n",
       "\\item[PctHousLess3BR] 1.13298040494283e-16\n",
       "\\item[MedNumBR] 6.49332328739515e-17\n",
       "\\item[HousVacant] 3.62561824233574e-17\n",
       "\\item[PctHousOccup] 2.25783317405792e-16\n",
       "\\item[PctHousOwnOcc] 1.77636165117797e-16\n",
       "\\item[PctVacantBoarded] -2.50652874117546e-17\n",
       "\\item[PctVacMore6Mos] -9.98166810828221e-17\n",
       "\\item[MedYrHousBuilt] 6.504204113779e-17\n",
       "\\item[PctHousNoPhone] 9.07281642889003e-17\n",
       "\\item[PctWOFullPlumb] 2.67754087339249e-17\n",
       "\\item[OwnOccLowQuart] 1.01180315604773e-16\n",
       "\\item[OwnOccMedVal] -5.86465288738726e-17\n",
       "\\item[OwnOccHiQuart] -8.06697153420859e-17\n",
       "\\item[RentLowQ] 1.23494313888704e-16\n",
       "\\item[RentMedian] -1.37597052304747e-17\n",
       "\\item[RentHighQ] -5.77480457993654e-17\n",
       "\\item[MedRent] 5.61259722484683e-17\n",
       "\\item[MedRentPctHousInc] 1.53389151550394e-16\n",
       "\\item[MedOwnCostPctInc] -1.45364891334232e-16\n",
       "\\item[MedOwnCostPctIncNoMtg] 4.95116405124447e-18\n",
       "\\item[NumInShelters] -7.95767142131719e-19\n",
       "\\item[NumStreet] -2.53918286172473e-18\n",
       "\\item[PctForeignBorn] 3.90371765176463e-17\n",
       "\\item[PctBornSameState] 2.12922793733687e-16\n",
       "\\item[PctSameHouse85] -2.95280327420182e-16\n",
       "\\item[PctSameCity85] 2.29826956896982e-16\n",
       "\\item[PctSameState85] 1.64025266053426e-16\n",
       "\\item[LandArea] 4.91042692022531e-17\n",
       "\\item[PopDens] 4.8930967595155e-17\n",
       "\\item[PctUsePubTrans] 5.6919449915719e-17\n",
       "\\item[LemasPctOfficDrugUn] 5.71639192674247e-18\n",
       "\\item[ViolentCrimesPerPop] 3.06884317429179e-17\n",
       "\\end{description*}\n"
      ],
      "text/markdown": [
       "state\n",
       ":   9.61116898507329e-17fold\n",
       ":   -7.29966857957052e-17population\n",
       ":   -1.06031402440454e-17householdsize\n",
       ":   9.58069956682577e-17racepctblack\n",
       ":   -3.14004196262667e-17racePctWhite\n",
       ":   -4.40065011493032e-17racePctAsian\n",
       ":   -3.69828772724675e-17racePctHisp\n",
       ":   -3.17760487253955e-17agePct12t21\n",
       ":   4.19926945657918e-17agePct12t29\n",
       ":   9.03802417162981e-17agePct16t24\n",
       ":   1.33003841830456e-16agePct65up\n",
       ":   3.91996904295421e-17numbUrban\n",
       ":   -1.51483299528223e-17pctUrban\n",
       ":   1.14636180355271e-16medIncome\n",
       ":   1.11598105395101e-16pctWWage\n",
       ":   3.00659972516115e-16pctWFarmSelf\n",
       ":   4.68847009143894e-17pctWInvInc\n",
       ":   7.58290378561818e-17pctWSocSec\n",
       ":   -8.43040529912991e-17pctWPubAsst\n",
       ":   -1.01837394895636e-17pctWRetire\n",
       ":   4.25355717452146e-17medFamInc\n",
       ":   -4.37827534855039e-17perCapInc\n",
       ":   -9.52789418685733e-17whitePerCap\n",
       ":   9.08242834292455e-17blackPerCap\n",
       ":   -1.1011442866053e-16indianPerCap\n",
       ":   -6.10836651835897e-17AsianPerCap\n",
       ":   2.33645180124036e-17HispPerCap\n",
       ":   -4.02702333620593e-17NumUnderPov\n",
       ":   2.19698009585928e-17PctPopUnderPov\n",
       ":   4.27980949645205e-17PctLess9thGrade\n",
       ":   1.19528438934152e-16PctNotHSGrad\n",
       ":   -1.17211956010433e-16PctBSorMore\n",
       ":   1.50980391147572e-17PctUnemployed\n",
       ":   1.88537092315015e-17PctEmploy\n",
       ":   -2.52771938338598e-16PctEmplManu\n",
       ":   -8.25937376458339e-17PctEmplProfServ\n",
       ":   1.1706837877213e-16PctOccupManu\n",
       ":   -2.91270098740392e-17PctOccupMgmtProf\n",
       ":   9.96079896267151e-17MalePctDivorce\n",
       ":   2.33948438534128e-17MalePctNevMarr\n",
       ":   -1.25315901593854e-16FemalePctDiv\n",
       ":   1.18922348965217e-16TotalPctDiv\n",
       ":   1.00172636219837e-16PersPerFam\n",
       ":   8.29975777320564e-17PctFam2Par\n",
       ":   3.95660065620914e-17PctKids2Par\n",
       ":   1.38367392694068e-16PctYoungKids2Par\n",
       ":   1.95820430923962e-16PctTeen2Par\n",
       ":   8.27681791397901e-17PctWorkMomYoungKids\n",
       ":   3.2511777299121e-16PctWorkMom\n",
       ":   -1.20831344164766e-16NumIlleg\n",
       ":   -1.14884297344923e-17PctIlleg\n",
       ":   6.35767384092566e-17NumImmig\n",
       ":   2.8652273675822e-17PctImmigRecent\n",
       ":   -1.05131211960951e-16PctImmigRec5\n",
       ":   9.92031018146996e-17PctImmigRec8\n",
       ":   1.32030523971066e-17PctImmigRec10\n",
       ":   -3.60631098424983e-17PctRecentImmig\n",
       ":   -9.13616891517492e-19PctRecImmig5\n",
       ":   -4.21750764630961e-17PctRecImmig8\n",
       ":   5.05547097463892e-19PctRecImmig10\n",
       ":   -1.95718282509724e-17PctSpeakEnglOnly\n",
       ":   2.20033281839696e-17PctNotSpeakEnglWell\n",
       ":   -1.06349600644262e-17PctLargHouseFam\n",
       ":   -7.98221148766937e-17PctLargHouseOccup\n",
       ":   -2.89442399301449e-17PersPerOccupHous\n",
       ":   -1.36629652155854e-16PersPerOwnOccHous\n",
       ":   1.50224321171598e-16PersPerRentOccHous\n",
       ":   -1.30904412766859e-16PctPersOwnOccup\n",
       ":   -3.04975128206334e-17PctPersDenseHous\n",
       ":   1.67092861657931e-17PctHousLess3BR\n",
       ":   1.13298040494283e-16MedNumBR\n",
       ":   6.49332328739515e-17HousVacant\n",
       ":   3.62561824233574e-17PctHousOccup\n",
       ":   2.25783317405792e-16PctHousOwnOcc\n",
       ":   1.77636165117797e-16PctVacantBoarded\n",
       ":   -2.50652874117546e-17PctVacMore6Mos\n",
       ":   -9.98166810828221e-17MedYrHousBuilt\n",
       ":   6.504204113779e-17PctHousNoPhone\n",
       ":   9.07281642889003e-17PctWOFullPlumb\n",
       ":   2.67754087339249e-17OwnOccLowQuart\n",
       ":   1.01180315604773e-16OwnOccMedVal\n",
       ":   -5.86465288738726e-17OwnOccHiQuart\n",
       ":   -8.06697153420859e-17RentLowQ\n",
       ":   1.23494313888704e-16RentMedian\n",
       ":   -1.37597052304747e-17RentHighQ\n",
       ":   -5.77480457993654e-17MedRent\n",
       ":   5.61259722484683e-17MedRentPctHousInc\n",
       ":   1.53389151550394e-16MedOwnCostPctInc\n",
       ":   -1.45364891334232e-16MedOwnCostPctIncNoMtg\n",
       ":   4.95116405124447e-18NumInShelters\n",
       ":   -7.95767142131719e-19NumStreet\n",
       ":   -2.53918286172473e-18PctForeignBorn\n",
       ":   3.90371765176463e-17PctBornSameState\n",
       ":   2.12922793733687e-16PctSameHouse85\n",
       ":   -2.95280327420182e-16PctSameCity85\n",
       ":   2.29826956896982e-16PctSameState85\n",
       ":   1.64025266053426e-16LandArea\n",
       ":   4.91042692022531e-17PopDens\n",
       ":   4.8930967595155e-17PctUsePubTrans\n",
       ":   5.6919449915719e-17LemasPctOfficDrugUn\n",
       ":   5.71639192674247e-18ViolentCrimesPerPop\n",
       ":   3.06884317429179e-17\n",
       "\n"
      ],
      "text/plain": [
       "                state                  fold            population \n",
       "         9.611169e-17         -7.299669e-17         -1.060314e-17 \n",
       "        householdsize          racepctblack          racePctWhite \n",
       "         9.580700e-17         -3.140042e-17         -4.400650e-17 \n",
       "         racePctAsian           racePctHisp           agePct12t21 \n",
       "        -3.698288e-17         -3.177605e-17          4.199269e-17 \n",
       "          agePct12t29           agePct16t24            agePct65up \n",
       "         9.038024e-17          1.330038e-16          3.919969e-17 \n",
       "            numbUrban              pctUrban             medIncome \n",
       "        -1.514833e-17          1.146362e-16          1.115981e-16 \n",
       "             pctWWage          pctWFarmSelf            pctWInvInc \n",
       "         3.006600e-16          4.688470e-17          7.582904e-17 \n",
       "           pctWSocSec           pctWPubAsst            pctWRetire \n",
       "        -8.430405e-17         -1.018374e-17          4.253557e-17 \n",
       "            medFamInc             perCapInc           whitePerCap \n",
       "        -4.378275e-17         -9.527894e-17          9.082428e-17 \n",
       "          blackPerCap          indianPerCap           AsianPerCap \n",
       "        -1.101144e-16         -6.108367e-17          2.336452e-17 \n",
       "           HispPerCap           NumUnderPov        PctPopUnderPov \n",
       "        -4.027023e-17          2.196980e-17          4.279809e-17 \n",
       "      PctLess9thGrade          PctNotHSGrad           PctBSorMore \n",
       "         1.195284e-16         -1.172120e-16          1.509804e-17 \n",
       "        PctUnemployed             PctEmploy           PctEmplManu \n",
       "         1.885371e-17         -2.527719e-16         -8.259374e-17 \n",
       "      PctEmplProfServ          PctOccupManu      PctOccupMgmtProf \n",
       "         1.170684e-16         -2.912701e-17          9.960799e-17 \n",
       "       MalePctDivorce        MalePctNevMarr          FemalePctDiv \n",
       "         2.339484e-17         -1.253159e-16          1.189223e-16 \n",
       "          TotalPctDiv            PersPerFam            PctFam2Par \n",
       "         1.001726e-16          8.299758e-17          3.956601e-17 \n",
       "          PctKids2Par      PctYoungKids2Par           PctTeen2Par \n",
       "         1.383674e-16          1.958204e-16          8.276818e-17 \n",
       "  PctWorkMomYoungKids            PctWorkMom              NumIlleg \n",
       "         3.251178e-16         -1.208313e-16         -1.148843e-17 \n",
       "             PctIlleg              NumImmig        PctImmigRecent \n",
       "         6.357674e-17          2.865227e-17         -1.051312e-16 \n",
       "         PctImmigRec5          PctImmigRec8         PctImmigRec10 \n",
       "         9.920310e-17          1.320305e-17         -3.606311e-17 \n",
       "       PctRecentImmig          PctRecImmig5          PctRecImmig8 \n",
       "        -9.136169e-19         -4.217508e-17          5.055471e-19 \n",
       "        PctRecImmig10      PctSpeakEnglOnly   PctNotSpeakEnglWell \n",
       "        -1.957183e-17          2.200333e-17         -1.063496e-17 \n",
       "      PctLargHouseFam     PctLargHouseOccup      PersPerOccupHous \n",
       "        -7.982211e-17         -2.894424e-17         -1.366297e-16 \n",
       "    PersPerOwnOccHous    PersPerRentOccHous       PctPersOwnOccup \n",
       "         1.502243e-16         -1.309044e-16         -3.049751e-17 \n",
       "     PctPersDenseHous        PctHousLess3BR              MedNumBR \n",
       "         1.670929e-17          1.132980e-16          6.493323e-17 \n",
       "           HousVacant          PctHousOccup         PctHousOwnOcc \n",
       "         3.625618e-17          2.257833e-16          1.776362e-16 \n",
       "     PctVacantBoarded        PctVacMore6Mos        MedYrHousBuilt \n",
       "        -2.506529e-17         -9.981668e-17          6.504204e-17 \n",
       "       PctHousNoPhone        PctWOFullPlumb        OwnOccLowQuart \n",
       "         9.072816e-17          2.677541e-17          1.011803e-16 \n",
       "         OwnOccMedVal         OwnOccHiQuart              RentLowQ \n",
       "        -5.864653e-17         -8.066972e-17          1.234943e-16 \n",
       "           RentMedian             RentHighQ               MedRent \n",
       "        -1.375971e-17         -5.774805e-17          5.612597e-17 \n",
       "    MedRentPctHousInc      MedOwnCostPctInc MedOwnCostPctIncNoMtg \n",
       "         1.533892e-16         -1.453649e-16          4.951164e-18 \n",
       "        NumInShelters             NumStreet        PctForeignBorn \n",
       "        -7.957671e-19         -2.539183e-18          3.903718e-17 \n",
       "     PctBornSameState        PctSameHouse85         PctSameCity85 \n",
       "         2.129228e-16         -2.952803e-16          2.298270e-16 \n",
       "       PctSameState85              LandArea               PopDens \n",
       "         1.640253e-16          4.910427e-17          4.893097e-17 \n",
       "       PctUsePubTrans   LemasPctOfficDrugUn   ViolentCrimesPerPop \n",
       "         5.691945e-17          5.716392e-18          3.068843e-17 "
      ]
     },
     "metadata": {},
     "output_type": "display_data"
    }
   ],
   "source": [
    "sapply(standard_vars,mean)"
   ]
  },
  {
   "cell_type": "code",
   "execution_count": 18,
   "metadata": {},
   "outputs": [
    {
     "data": {
      "text/html": [
       "<style>\n",
       ".dl-inline {width: auto; margin:0; padding: 0}\n",
       ".dl-inline>dt, .dl-inline>dd {float: none; width: auto; display: inline-block}\n",
       ".dl-inline>dt::after {content: \":\\0020\"; padding-right: .5ex}\n",
       ".dl-inline>dt:not(:first-of-type) {padding-left: .5ex}\n",
       "</style><dl class=dl-inline><dt>state</dt><dd>1</dd><dt>fold</dt><dd>1</dd><dt>population</dt><dd>1</dd><dt>householdsize</dt><dd>1</dd><dt>racepctblack</dt><dd>1</dd><dt>racePctWhite</dt><dd>1</dd><dt>racePctAsian</dt><dd>1</dd><dt>racePctHisp</dt><dd>1</dd><dt>agePct12t21</dt><dd>1</dd><dt>agePct12t29</dt><dd>1</dd><dt>agePct16t24</dt><dd>1</dd><dt>agePct65up</dt><dd>1</dd><dt>numbUrban</dt><dd>1</dd><dt>pctUrban</dt><dd>1</dd><dt>medIncome</dt><dd>1</dd><dt>pctWWage</dt><dd>1</dd><dt>pctWFarmSelf</dt><dd>1</dd><dt>pctWInvInc</dt><dd>1</dd><dt>pctWSocSec</dt><dd>1</dd><dt>pctWPubAsst</dt><dd>1</dd><dt>pctWRetire</dt><dd>1</dd><dt>medFamInc</dt><dd>1</dd><dt>perCapInc</dt><dd>1</dd><dt>whitePerCap</dt><dd>1</dd><dt>blackPerCap</dt><dd>1</dd><dt>indianPerCap</dt><dd>1</dd><dt>AsianPerCap</dt><dd>1</dd><dt>HispPerCap</dt><dd>1</dd><dt>NumUnderPov</dt><dd>1</dd><dt>PctPopUnderPov</dt><dd>1</dd><dt>PctLess9thGrade</dt><dd>1</dd><dt>PctNotHSGrad</dt><dd>1</dd><dt>PctBSorMore</dt><dd>1</dd><dt>PctUnemployed</dt><dd>1</dd><dt>PctEmploy</dt><dd>1</dd><dt>PctEmplManu</dt><dd>1</dd><dt>PctEmplProfServ</dt><dd>1</dd><dt>PctOccupManu</dt><dd>1</dd><dt>PctOccupMgmtProf</dt><dd>1</dd><dt>MalePctDivorce</dt><dd>1</dd><dt>MalePctNevMarr</dt><dd>1</dd><dt>FemalePctDiv</dt><dd>1</dd><dt>TotalPctDiv</dt><dd>1</dd><dt>PersPerFam</dt><dd>1</dd><dt>PctFam2Par</dt><dd>1</dd><dt>PctKids2Par</dt><dd>1</dd><dt>PctYoungKids2Par</dt><dd>1</dd><dt>PctTeen2Par</dt><dd>1</dd><dt>PctWorkMomYoungKids</dt><dd>1</dd><dt>PctWorkMom</dt><dd>1</dd><dt>NumIlleg</dt><dd>1</dd><dt>PctIlleg</dt><dd>1</dd><dt>NumImmig</dt><dd>1</dd><dt>PctImmigRecent</dt><dd>1</dd><dt>PctImmigRec5</dt><dd>1</dd><dt>PctImmigRec8</dt><dd>1</dd><dt>PctImmigRec10</dt><dd>1</dd><dt>PctRecentImmig</dt><dd>1</dd><dt>PctRecImmig5</dt><dd>1</dd><dt>PctRecImmig8</dt><dd>1</dd><dt>PctRecImmig10</dt><dd>1</dd><dt>PctSpeakEnglOnly</dt><dd>1</dd><dt>PctNotSpeakEnglWell</dt><dd>1</dd><dt>PctLargHouseFam</dt><dd>1</dd><dt>PctLargHouseOccup</dt><dd>1</dd><dt>PersPerOccupHous</dt><dd>1</dd><dt>PersPerOwnOccHous</dt><dd>1</dd><dt>PersPerRentOccHous</dt><dd>1</dd><dt>PctPersOwnOccup</dt><dd>1</dd><dt>PctPersDenseHous</dt><dd>1</dd><dt>PctHousLess3BR</dt><dd>1</dd><dt>MedNumBR</dt><dd>1</dd><dt>HousVacant</dt><dd>1</dd><dt>PctHousOccup</dt><dd>1</dd><dt>PctHousOwnOcc</dt><dd>1</dd><dt>PctVacantBoarded</dt><dd>1</dd><dt>PctVacMore6Mos</dt><dd>1</dd><dt>MedYrHousBuilt</dt><dd>1</dd><dt>PctHousNoPhone</dt><dd>1</dd><dt>PctWOFullPlumb</dt><dd>1</dd><dt>OwnOccLowQuart</dt><dd>1</dd><dt>OwnOccMedVal</dt><dd>1</dd><dt>OwnOccHiQuart</dt><dd>1</dd><dt>RentLowQ</dt><dd>1</dd><dt>RentMedian</dt><dd>1</dd><dt>RentHighQ</dt><dd>1</dd><dt>MedRent</dt><dd>1</dd><dt>MedRentPctHousInc</dt><dd>1</dd><dt>MedOwnCostPctInc</dt><dd>1</dd><dt>MedOwnCostPctIncNoMtg</dt><dd>1</dd><dt>NumInShelters</dt><dd>1</dd><dt>NumStreet</dt><dd>1</dd><dt>PctForeignBorn</dt><dd>1</dd><dt>PctBornSameState</dt><dd>1</dd><dt>PctSameHouse85</dt><dd>1</dd><dt>PctSameCity85</dt><dd>1</dd><dt>PctSameState85</dt><dd>1</dd><dt>LandArea</dt><dd>1</dd><dt>PopDens</dt><dd>1</dd><dt>PctUsePubTrans</dt><dd>1</dd><dt>LemasPctOfficDrugUn</dt><dd>1</dd><dt>ViolentCrimesPerPop</dt><dd>1</dd></dl>\n"
      ],
      "text/latex": [
       "\\begin{description*}\n",
       "\\item[state] 1\n",
       "\\item[fold] 1\n",
       "\\item[population] 1\n",
       "\\item[householdsize] 1\n",
       "\\item[racepctblack] 1\n",
       "\\item[racePctWhite] 1\n",
       "\\item[racePctAsian] 1\n",
       "\\item[racePctHisp] 1\n",
       "\\item[agePct12t21] 1\n",
       "\\item[agePct12t29] 1\n",
       "\\item[agePct16t24] 1\n",
       "\\item[agePct65up] 1\n",
       "\\item[numbUrban] 1\n",
       "\\item[pctUrban] 1\n",
       "\\item[medIncome] 1\n",
       "\\item[pctWWage] 1\n",
       "\\item[pctWFarmSelf] 1\n",
       "\\item[pctWInvInc] 1\n",
       "\\item[pctWSocSec] 1\n",
       "\\item[pctWPubAsst] 1\n",
       "\\item[pctWRetire] 1\n",
       "\\item[medFamInc] 1\n",
       "\\item[perCapInc] 1\n",
       "\\item[whitePerCap] 1\n",
       "\\item[blackPerCap] 1\n",
       "\\item[indianPerCap] 1\n",
       "\\item[AsianPerCap] 1\n",
       "\\item[HispPerCap] 1\n",
       "\\item[NumUnderPov] 1\n",
       "\\item[PctPopUnderPov] 1\n",
       "\\item[PctLess9thGrade] 1\n",
       "\\item[PctNotHSGrad] 1\n",
       "\\item[PctBSorMore] 1\n",
       "\\item[PctUnemployed] 1\n",
       "\\item[PctEmploy] 1\n",
       "\\item[PctEmplManu] 1\n",
       "\\item[PctEmplProfServ] 1\n",
       "\\item[PctOccupManu] 1\n",
       "\\item[PctOccupMgmtProf] 1\n",
       "\\item[MalePctDivorce] 1\n",
       "\\item[MalePctNevMarr] 1\n",
       "\\item[FemalePctDiv] 1\n",
       "\\item[TotalPctDiv] 1\n",
       "\\item[PersPerFam] 1\n",
       "\\item[PctFam2Par] 1\n",
       "\\item[PctKids2Par] 1\n",
       "\\item[PctYoungKids2Par] 1\n",
       "\\item[PctTeen2Par] 1\n",
       "\\item[PctWorkMomYoungKids] 1\n",
       "\\item[PctWorkMom] 1\n",
       "\\item[NumIlleg] 1\n",
       "\\item[PctIlleg] 1\n",
       "\\item[NumImmig] 1\n",
       "\\item[PctImmigRecent] 1\n",
       "\\item[PctImmigRec5] 1\n",
       "\\item[PctImmigRec8] 1\n",
       "\\item[PctImmigRec10] 1\n",
       "\\item[PctRecentImmig] 1\n",
       "\\item[PctRecImmig5] 1\n",
       "\\item[PctRecImmig8] 1\n",
       "\\item[PctRecImmig10] 1\n",
       "\\item[PctSpeakEnglOnly] 1\n",
       "\\item[PctNotSpeakEnglWell] 1\n",
       "\\item[PctLargHouseFam] 1\n",
       "\\item[PctLargHouseOccup] 1\n",
       "\\item[PersPerOccupHous] 1\n",
       "\\item[PersPerOwnOccHous] 1\n",
       "\\item[PersPerRentOccHous] 1\n",
       "\\item[PctPersOwnOccup] 1\n",
       "\\item[PctPersDenseHous] 1\n",
       "\\item[PctHousLess3BR] 1\n",
       "\\item[MedNumBR] 1\n",
       "\\item[HousVacant] 1\n",
       "\\item[PctHousOccup] 1\n",
       "\\item[PctHousOwnOcc] 1\n",
       "\\item[PctVacantBoarded] 1\n",
       "\\item[PctVacMore6Mos] 1\n",
       "\\item[MedYrHousBuilt] 1\n",
       "\\item[PctHousNoPhone] 1\n",
       "\\item[PctWOFullPlumb] 1\n",
       "\\item[OwnOccLowQuart] 1\n",
       "\\item[OwnOccMedVal] 1\n",
       "\\item[OwnOccHiQuart] 1\n",
       "\\item[RentLowQ] 1\n",
       "\\item[RentMedian] 1\n",
       "\\item[RentHighQ] 1\n",
       "\\item[MedRent] 1\n",
       "\\item[MedRentPctHousInc] 1\n",
       "\\item[MedOwnCostPctInc] 1\n",
       "\\item[MedOwnCostPctIncNoMtg] 1\n",
       "\\item[NumInShelters] 1\n",
       "\\item[NumStreet] 1\n",
       "\\item[PctForeignBorn] 1\n",
       "\\item[PctBornSameState] 1\n",
       "\\item[PctSameHouse85] 1\n",
       "\\item[PctSameCity85] 1\n",
       "\\item[PctSameState85] 1\n",
       "\\item[LandArea] 1\n",
       "\\item[PopDens] 1\n",
       "\\item[PctUsePubTrans] 1\n",
       "\\item[LemasPctOfficDrugUn] 1\n",
       "\\item[ViolentCrimesPerPop] 1\n",
       "\\end{description*}\n"
      ],
      "text/markdown": [
       "state\n",
       ":   1fold\n",
       ":   1population\n",
       ":   1householdsize\n",
       ":   1racepctblack\n",
       ":   1racePctWhite\n",
       ":   1racePctAsian\n",
       ":   1racePctHisp\n",
       ":   1agePct12t21\n",
       ":   1agePct12t29\n",
       ":   1agePct16t24\n",
       ":   1agePct65up\n",
       ":   1numbUrban\n",
       ":   1pctUrban\n",
       ":   1medIncome\n",
       ":   1pctWWage\n",
       ":   1pctWFarmSelf\n",
       ":   1pctWInvInc\n",
       ":   1pctWSocSec\n",
       ":   1pctWPubAsst\n",
       ":   1pctWRetire\n",
       ":   1medFamInc\n",
       ":   1perCapInc\n",
       ":   1whitePerCap\n",
       ":   1blackPerCap\n",
       ":   1indianPerCap\n",
       ":   1AsianPerCap\n",
       ":   1HispPerCap\n",
       ":   1NumUnderPov\n",
       ":   1PctPopUnderPov\n",
       ":   1PctLess9thGrade\n",
       ":   1PctNotHSGrad\n",
       ":   1PctBSorMore\n",
       ":   1PctUnemployed\n",
       ":   1PctEmploy\n",
       ":   1PctEmplManu\n",
       ":   1PctEmplProfServ\n",
       ":   1PctOccupManu\n",
       ":   1PctOccupMgmtProf\n",
       ":   1MalePctDivorce\n",
       ":   1MalePctNevMarr\n",
       ":   1FemalePctDiv\n",
       ":   1TotalPctDiv\n",
       ":   1PersPerFam\n",
       ":   1PctFam2Par\n",
       ":   1PctKids2Par\n",
       ":   1PctYoungKids2Par\n",
       ":   1PctTeen2Par\n",
       ":   1PctWorkMomYoungKids\n",
       ":   1PctWorkMom\n",
       ":   1NumIlleg\n",
       ":   1PctIlleg\n",
       ":   1NumImmig\n",
       ":   1PctImmigRecent\n",
       ":   1PctImmigRec5\n",
       ":   1PctImmigRec8\n",
       ":   1PctImmigRec10\n",
       ":   1PctRecentImmig\n",
       ":   1PctRecImmig5\n",
       ":   1PctRecImmig8\n",
       ":   1PctRecImmig10\n",
       ":   1PctSpeakEnglOnly\n",
       ":   1PctNotSpeakEnglWell\n",
       ":   1PctLargHouseFam\n",
       ":   1PctLargHouseOccup\n",
       ":   1PersPerOccupHous\n",
       ":   1PersPerOwnOccHous\n",
       ":   1PersPerRentOccHous\n",
       ":   1PctPersOwnOccup\n",
       ":   1PctPersDenseHous\n",
       ":   1PctHousLess3BR\n",
       ":   1MedNumBR\n",
       ":   1HousVacant\n",
       ":   1PctHousOccup\n",
       ":   1PctHousOwnOcc\n",
       ":   1PctVacantBoarded\n",
       ":   1PctVacMore6Mos\n",
       ":   1MedYrHousBuilt\n",
       ":   1PctHousNoPhone\n",
       ":   1PctWOFullPlumb\n",
       ":   1OwnOccLowQuart\n",
       ":   1OwnOccMedVal\n",
       ":   1OwnOccHiQuart\n",
       ":   1RentLowQ\n",
       ":   1RentMedian\n",
       ":   1RentHighQ\n",
       ":   1MedRent\n",
       ":   1MedRentPctHousInc\n",
       ":   1MedOwnCostPctInc\n",
       ":   1MedOwnCostPctIncNoMtg\n",
       ":   1NumInShelters\n",
       ":   1NumStreet\n",
       ":   1PctForeignBorn\n",
       ":   1PctBornSameState\n",
       ":   1PctSameHouse85\n",
       ":   1PctSameCity85\n",
       ":   1PctSameState85\n",
       ":   1LandArea\n",
       ":   1PopDens\n",
       ":   1PctUsePubTrans\n",
       ":   1LemasPctOfficDrugUn\n",
       ":   1ViolentCrimesPerPop\n",
       ":   1\n",
       "\n"
      ],
      "text/plain": [
       "                state                  fold            population \n",
       "                    1                     1                     1 \n",
       "        householdsize          racepctblack          racePctWhite \n",
       "                    1                     1                     1 \n",
       "         racePctAsian           racePctHisp           agePct12t21 \n",
       "                    1                     1                     1 \n",
       "          agePct12t29           agePct16t24            agePct65up \n",
       "                    1                     1                     1 \n",
       "            numbUrban              pctUrban             medIncome \n",
       "                    1                     1                     1 \n",
       "             pctWWage          pctWFarmSelf            pctWInvInc \n",
       "                    1                     1                     1 \n",
       "           pctWSocSec           pctWPubAsst            pctWRetire \n",
       "                    1                     1                     1 \n",
       "            medFamInc             perCapInc           whitePerCap \n",
       "                    1                     1                     1 \n",
       "          blackPerCap          indianPerCap           AsianPerCap \n",
       "                    1                     1                     1 \n",
       "           HispPerCap           NumUnderPov        PctPopUnderPov \n",
       "                    1                     1                     1 \n",
       "      PctLess9thGrade          PctNotHSGrad           PctBSorMore \n",
       "                    1                     1                     1 \n",
       "        PctUnemployed             PctEmploy           PctEmplManu \n",
       "                    1                     1                     1 \n",
       "      PctEmplProfServ          PctOccupManu      PctOccupMgmtProf \n",
       "                    1                     1                     1 \n",
       "       MalePctDivorce        MalePctNevMarr          FemalePctDiv \n",
       "                    1                     1                     1 \n",
       "          TotalPctDiv            PersPerFam            PctFam2Par \n",
       "                    1                     1                     1 \n",
       "          PctKids2Par      PctYoungKids2Par           PctTeen2Par \n",
       "                    1                     1                     1 \n",
       "  PctWorkMomYoungKids            PctWorkMom              NumIlleg \n",
       "                    1                     1                     1 \n",
       "             PctIlleg              NumImmig        PctImmigRecent \n",
       "                    1                     1                     1 \n",
       "         PctImmigRec5          PctImmigRec8         PctImmigRec10 \n",
       "                    1                     1                     1 \n",
       "       PctRecentImmig          PctRecImmig5          PctRecImmig8 \n",
       "                    1                     1                     1 \n",
       "        PctRecImmig10      PctSpeakEnglOnly   PctNotSpeakEnglWell \n",
       "                    1                     1                     1 \n",
       "      PctLargHouseFam     PctLargHouseOccup      PersPerOccupHous \n",
       "                    1                     1                     1 \n",
       "    PersPerOwnOccHous    PersPerRentOccHous       PctPersOwnOccup \n",
       "                    1                     1                     1 \n",
       "     PctPersDenseHous        PctHousLess3BR              MedNumBR \n",
       "                    1                     1                     1 \n",
       "           HousVacant          PctHousOccup         PctHousOwnOcc \n",
       "                    1                     1                     1 \n",
       "     PctVacantBoarded        PctVacMore6Mos        MedYrHousBuilt \n",
       "                    1                     1                     1 \n",
       "       PctHousNoPhone        PctWOFullPlumb        OwnOccLowQuart \n",
       "                    1                     1                     1 \n",
       "         OwnOccMedVal         OwnOccHiQuart              RentLowQ \n",
       "                    1                     1                     1 \n",
       "           RentMedian             RentHighQ               MedRent \n",
       "                    1                     1                     1 \n",
       "    MedRentPctHousInc      MedOwnCostPctInc MedOwnCostPctIncNoMtg \n",
       "                    1                     1                     1 \n",
       "        NumInShelters             NumStreet        PctForeignBorn \n",
       "                    1                     1                     1 \n",
       "     PctBornSameState        PctSameHouse85         PctSameCity85 \n",
       "                    1                     1                     1 \n",
       "       PctSameState85              LandArea               PopDens \n",
       "                    1                     1                     1 \n",
       "       PctUsePubTrans   LemasPctOfficDrugUn   ViolentCrimesPerPop \n",
       "                    1                     1                     1 "
      ]
     },
     "metadata": {},
     "output_type": "display_data"
    }
   ],
   "source": [
    "sapply(standard_vars,sd)"
   ]
  },
  {
   "cell_type": "markdown",
   "metadata": {},
   "source": [
    "<span style=\"color:#ea8d12; font-weight:700\">Helpful video for understanding and plotting results from prcomp(): </span>https://www.youtube.com/watch?v=0Jp4gsfOLMs\n",
    "\n",
    "\n",
    "<span style=\"color:#ea8d12; font-weight:700\">prcomp() versus princomp(): </span>http://www.sthda.com/english/articles/31-principal-component-methods-in-r-practical-guide/118-principal-component-analysis-in-r-prcomp-vs-princomp/"
   ]
  },
  {
   "cell_type": "code",
   "execution_count": 19,
   "metadata": {},
   "outputs": [],
   "source": [
    "help(prcomp)\n",
    "crime_train_data_pca <- prcomp(standard_vars)\n",
    "\n",
    "# Note: prcomp() expects the samples to be rows and the variables to be columns.  If that's \n",
    "# not the case, you must use the t() function to transpose the matrix.\n",
    "\n",
    "# prcomp() returns several things: (1) x, (2) sdev, and (3) rotation.  \n",
    "\n",
    "# Each principal component is a normalized linear combination of original variables.  The rotations \n",
    "# (i.e., loadings) are the coefficients of the linear combinations of the continuous variables.\n",
    "\n",
    "# print(crime_train_data_pca) will return the principal components with the coefficients for each\n",
    "# continuous variable.  In these returned values, a positive coefficient indicates that as as a \n",
    "# particular PC increases, the variable(s) with positive coefficients also increase.  Variables \n",
    "# with negative coefficients decrease, relative to the PC. "
   ]
  },
  {
   "cell_type": "code",
   "execution_count": 20,
   "metadata": {},
   "outputs": [
    {
     "data": {
      "text/plain": [
       "Importance of components:\n",
       "                          PC1    PC2     PC3     PC4     PC5     PC6     PC7\n",
       "Standard deviation     5.0445 4.1164 3.03448 2.77353 2.35187 2.05648 1.81915\n",
       "Proportion of Variance 0.2495 0.1661 0.09027 0.07542 0.05423 0.04146 0.03244\n",
       "Cumulative Proportion  0.2495 0.4156 0.50588 0.58129 0.63552 0.67698 0.70943\n",
       "                           PC8     PC9   PC10    PC11    PC12    PC13    PC14\n",
       "Standard deviation     1.74463 1.47464 1.2816 1.25035 1.23379 1.17515 1.03269\n",
       "Proportion of Variance 0.02984 0.02132 0.0161 0.01533 0.01492 0.01354 0.01046\n",
       "Cumulative Proportion  0.73927 0.76059 0.7767 0.79202 0.80694 0.82048 0.83093\n",
       "                          PC15    PC16    PC17    PC18    PC19    PC20    PC21\n",
       "Standard deviation     0.99781 0.95213 0.92494 0.86417 0.83728 0.82164 0.81148\n",
       "Proportion of Variance 0.00976 0.00889 0.00839 0.00732 0.00687 0.00662 0.00646\n",
       "Cumulative Proportion  0.84070 0.84958 0.85797 0.86529 0.87217 0.87878 0.88524\n",
       "                          PC22    PC23    PC24    PC25   PC26    PC27    PC28\n",
       "Standard deviation     0.79881 0.76604 0.74805 0.72182 0.7068 0.69015 0.68254\n",
       "Proportion of Variance 0.00626 0.00575 0.00549 0.00511 0.0049 0.00467 0.00457\n",
       "Cumulative Proportion  0.89150 0.89725 0.90274 0.90784 0.9127 0.91741 0.92198\n",
       "                          PC29    PC30    PC31    PC32    PC33    PC34    PC35\n",
       "Standard deviation     0.67160 0.65832 0.62465 0.61973 0.60502 0.58822 0.56460\n",
       "Proportion of Variance 0.00442 0.00425 0.00383 0.00377 0.00359 0.00339 0.00313\n",
       "Cumulative Proportion  0.92640 0.93065 0.93447 0.93824 0.94183 0.94522 0.94835\n",
       "                          PC36    PC37    PC38    PC39   PC40   PC41    PC42\n",
       "Standard deviation     0.55150 0.54059 0.50967 0.50018 0.4945 0.4844 0.47303\n",
       "Proportion of Variance 0.00298 0.00287 0.00255 0.00245 0.0024 0.0023 0.00219\n",
       "Cumulative Proportion  0.95133 0.95419 0.95674 0.95919 0.9616 0.9639 0.96608\n",
       "                          PC43    PC44    PC45   PC46    PC47    PC48    PC49\n",
       "Standard deviation     0.46109 0.45064 0.44772 0.4289 0.42417 0.41072 0.40051\n",
       "Proportion of Variance 0.00208 0.00199 0.00197 0.0018 0.00176 0.00165 0.00157\n",
       "Cumulative Proportion  0.96817 0.97016 0.97212 0.9739 0.97569 0.97734 0.97892\n",
       "                          PC50    PC51    PC52    PC53    PC54    PC55    PC56\n",
       "Standard deviation     0.37016 0.36905 0.35779 0.32702 0.31724 0.31590 0.30921\n",
       "Proportion of Variance 0.00134 0.00134 0.00126 0.00105 0.00099 0.00098 0.00094\n",
       "Cumulative Proportion  0.98026 0.98160 0.98285 0.98390 0.98489 0.98586 0.98680\n",
       "                          PC57    PC58    PC59    PC60    PC61    PC62    PC63\n",
       "Standard deviation     0.29725 0.28730 0.27938 0.27002 0.25761 0.25316 0.25061\n",
       "Proportion of Variance 0.00087 0.00081 0.00077 0.00071 0.00065 0.00063 0.00062\n",
       "Cumulative Proportion  0.98767 0.98848 0.98924 0.98996 0.99061 0.99124 0.99185\n",
       "                          PC64    PC65    PC66    PC67    PC68    PC69    PC70\n",
       "Standard deviation     0.24618 0.23640 0.23039 0.21778 0.21455 0.20858 0.20716\n",
       "Proportion of Variance 0.00059 0.00055 0.00052 0.00046 0.00045 0.00043 0.00042\n",
       "Cumulative Proportion  0.99245 0.99299 0.99351 0.99398 0.99443 0.99486 0.99528\n",
       "                          PC71    PC72    PC73    PC74    PC75    PC76    PC77\n",
       "Standard deviation     0.19510 0.19402 0.18877 0.18522 0.17826 0.17071 0.16266\n",
       "Proportion of Variance 0.00037 0.00037 0.00035 0.00034 0.00031 0.00029 0.00026\n",
       "Cumulative Proportion  0.99565 0.99602 0.99637 0.99671 0.99702 0.99730 0.99756\n",
       "                          PC78    PC79    PC80   PC81    PC82    PC83    PC84\n",
       "Standard deviation     0.15836 0.15230 0.15013 0.1421 0.13681 0.13298 0.13140\n",
       "Proportion of Variance 0.00025 0.00023 0.00022 0.0002 0.00018 0.00017 0.00017\n",
       "Cumulative Proportion  0.99781 0.99804 0.99826 0.9984 0.99864 0.99881 0.99898\n",
       "                          PC85    PC86    PC87    PC88    PC89    PC90    PC91\n",
       "Standard deviation     0.12511 0.11544 0.11323 0.10733 0.09408 0.08916 0.07722\n",
       "Proportion of Variance 0.00015 0.00013 0.00013 0.00011 0.00009 0.00008 0.00006\n",
       "Cumulative Proportion  0.99913 0.99927 0.99939 0.99950 0.99959 0.99967 0.99973\n",
       "                          PC92    PC93    PC94    PC95    PC96    PC97    PC98\n",
       "Standard deviation     0.07282 0.07002 0.06272 0.06047 0.05119 0.04463 0.04318\n",
       "Proportion of Variance 0.00005 0.00005 0.00004 0.00004 0.00003 0.00002 0.00002\n",
       "Cumulative Proportion  0.99978 0.99983 0.99987 0.99990 0.99993 0.99995 0.99996\n",
       "                          PC99   PC100   PC101   PC102\n",
       "Standard deviation     0.03681 0.03192 0.02728 0.02178\n",
       "Proportion of Variance 0.00001 0.00001 0.00001 0.00000\n",
       "Cumulative Proportion  0.99998 0.99999 1.00000 1.00000"
      ]
     },
     "metadata": {},
     "output_type": "display_data"
    }
   ],
   "source": [
    "summary(crime_train_data_pca)"
   ]
  },
  {
   "cell_type": "markdown",
   "metadata": {},
   "source": [
    "#### Number of Principal Components to Retain\n",
    "\n",
    "A scree plot helps us to decide on number of principal components to be retained. The plot will summarize the PCA analysis results. The `screeplot()` function in R will help us to do this."
   ]
  },
  {
   "cell_type": "code",
   "execution_count": 21,
   "metadata": {},
   "outputs": [
    {
     "data": {
      "image/png": "[encoded data removed]",
      "text/plain": [
       "Plot with title “crime_train_data_pca”"
      ]
     },
     "metadata": {
      "image/png": {
       "height": 420,
       "width": 420
      }
     },
     "output_type": "display_data"
    }
   ],
   "source": [
    "screeplot(crime_train_data_pca, type=\"lines\")"
   ]
  },
  {
   "cell_type": "markdown",
   "metadata": {},
   "source": [
    "The most obvious change in slope in the scree plot occurs at component 7, therefore first six components should be retained.\n",
    "\n",
    "Another approach to decide on number of PCA components to choose is by using Kaiser’s criterion. It suggests that we should only retain principal components for which the variance is above 1 (on standardized variables). We can check this by finding the variance of each of the principal components. The standard deviations of PCA components are saved in a standard variable called sdev. You can access it in crime_train_data_pca dataframe."
   ]
  },
  {
   "cell_type": "code",
   "execution_count": 22,
   "metadata": {},
   "outputs": [
    {
     "data": {
      "text/html": [
       "<style>\n",
       ".list-inline {list-style: none; margin:0; padding: 0}\n",
       ".list-inline>li {display: inline-block}\n",
       ".list-inline>li:not(:last-child)::after {content: \"\\00b7\"; padding: 0 .5ex}\n",
       "</style>\n",
       "<ol class=list-inline><li>25.4465063420487</li><li>16.9448689931151</li><li>9.20804190038729</li><li>7.69249622524252</li><li>5.53131430645585</li><li>4.22911572462294</li><li>3.30929610798507</li><li>3.04371665953936</li><li>2.17457079369625</li><li>1.64241091082225</li><li>1.56337021349157</li><li>1.5222287817213</li><li>1.3809706735475</li><li>1.0664407016136</li><li>0.995634440572123</li><li>0.906557405892555</li><li>0.855519222744654</li><li>0.746798231493318</li><li>0.701034154384571</li><li>0.675086037668191</li><li>0.658491839334232</li><li>0.638103763748947</li><li>0.58681615142282</li><li>0.559580595685787</li><li>0.521018809532708</li><li>0.499613823007215</li><li>0.476312085315655</li><li>0.465865330370177</li><li>0.451040511190054</li><li>0.433383106708687</li><li>0.390184827342155</li><li>0.384063996821419</li><li>0.36605244625652</li><li>0.346007944814391</li><li>0.31877318996516</li><li>0.304153963738551</li><li>0.292232752447858</li><li>0.259758823882747</li><li>0.250181829466791</li><li>0.244482600773736</li><li>0.234608028247566</li><li>0.223757303057464</li><li>0.212607979416892</li><li>0.203072363481205</li><li>0.200454843075415</li><li>0.183949153501778</li><li>0.179924419628438</li><li>0.168688397964445</li><li>0.160410312506204</li><li>0.137017940836617</li><li>0.136194851030472</li><li>0.128010234480627</li><li>0.106940505951581</li><li>0.100639878924901</li><li>0.0997926660116374</li><li>0.0956134970228671</li><li>0.0883581770115169</li><li>0.0825400671580696</li><li>0.0780514607333036</li><li>0.0729098144487547</li><li>0.0663653359540339</li><li>0.0640897634261147</li><li>0.0628076539033129</li><li>0.060602229766899</li><li>0.0558852462765204</li><li>0.0530812329779345</li><li>0.0474288110456943</li><li>0.0460314185158945</li><li>0.0435059520626173</li><li>0.0429135488619672</li><li>0.0380647733054407</li><li>0.0376421161987593</li><li>0.035635963702651</li><li>0.0343054332645009</li><li>0.0317781795229923</li><li>0.0291411593305279</li><li>0.0264569580289453</li><li>0.0250791573884507</li><li>0.0231942047074193</li><li>0.0225392770755158</li><li>0.0201997570510991</li><li>0.0187169573566031</li><li>0.0176839922140464</li><li>0.0172657014847924</li><li>0.0156521145526779</li><li>0.013326460307276</li><li>0.0128202645014901</li><li>0.0115196922180004</li><li>0.00885131464738436</li><li>0.00794913834688087</li><li>0.00596307685073176</li><li>0.00530294353193395</li><li>0.00490267014054505</li><li>0.00393384786592756</li><li>0.00365639511544808</li><li>0.00261996533805742</li><li>0.00199195506398292</li><li>0.00186465532846697</li><li>0.00135510174285158</li><li>0.00101872329422253</li><li>0.000744245385344217</li><li>0.000474498985974562</li></ol>\n"
      ],
      "text/latex": [
       "\\begin{enumerate*}\n",
       "\\item 25.4465063420487\n",
       "\\item 16.9448689931151\n",
       "\\item 9.20804190038729\n",
       "\\item 7.69249622524252\n",
       "\\item 5.53131430645585\n",
       "\\item 4.22911572462294\n",
       "\\item 3.30929610798507\n",
       "\\item 3.04371665953936\n",
       "\\item 2.17457079369625\n",
       "\\item 1.64241091082225\n",
       "\\item 1.56337021349157\n",
       "\\item 1.5222287817213\n",
       "\\item 1.3809706735475\n",
       "\\item 1.0664407016136\n",
       "\\item 0.995634440572123\n",
       "\\item 0.906557405892555\n",
       "\\item 0.855519222744654\n",
       "\\item 0.746798231493318\n",
       "\\item 0.701034154384571\n",
       "\\item 0.675086037668191\n",
       "\\item 0.658491839334232\n",
       "\\item 0.638103763748947\n",
       "\\item 0.58681615142282\n",
       "\\item 0.559580595685787\n",
       "\\item 0.521018809532708\n",
       "\\item 0.499613823007215\n",
       "\\item 0.476312085315655\n",
       "\\item 0.465865330370177\n",
       "\\item 0.451040511190054\n",
       "\\item 0.433383106708687\n",
       "\\item 0.390184827342155\n",
       "\\item 0.384063996821419\n",
       "\\item 0.36605244625652\n",
       "\\item 0.346007944814391\n",
       "\\item 0.31877318996516\n",
       "\\item 0.304153963738551\n",
       "\\item 0.292232752447858\n",
       "\\item 0.259758823882747\n",
       "\\item 0.250181829466791\n",
       "\\item 0.244482600773736\n",
       "\\item 0.234608028247566\n",
       "\\item 0.223757303057464\n",
       "\\item 0.212607979416892\n",
       "\\item 0.203072363481205\n",
       "\\item 0.200454843075415\n",
       "\\item 0.183949153501778\n",
       "\\item 0.179924419628438\n",
       "\\item 0.168688397964445\n",
       "\\item 0.160410312506204\n",
       "\\item 0.137017940836617\n",
       "\\item 0.136194851030472\n",
       "\\item 0.128010234480627\n",
       "\\item 0.106940505951581\n",
       "\\item 0.100639878924901\n",
       "\\item 0.0997926660116374\n",
       "\\item 0.0956134970228671\n",
       "\\item 0.0883581770115169\n",
       "\\item 0.0825400671580696\n",
       "\\item 0.0780514607333036\n",
       "\\item 0.0729098144487547\n",
       "\\item 0.0663653359540339\n",
       "\\item 0.0640897634261147\n",
       "\\item 0.0628076539033129\n",
       "\\item 0.060602229766899\n",
       "\\item 0.0558852462765204\n",
       "\\item 0.0530812329779345\n",
       "\\item 0.0474288110456943\n",
       "\\item 0.0460314185158945\n",
       "\\item 0.0435059520626173\n",
       "\\item 0.0429135488619672\n",
       "\\item 0.0380647733054407\n",
       "\\item 0.0376421161987593\n",
       "\\item 0.035635963702651\n",
       "\\item 0.0343054332645009\n",
       "\\item 0.0317781795229923\n",
       "\\item 0.0291411593305279\n",
       "\\item 0.0264569580289453\n",
       "\\item 0.0250791573884507\n",
       "\\item 0.0231942047074193\n",
       "\\item 0.0225392770755158\n",
       "\\item 0.0201997570510991\n",
       "\\item 0.0187169573566031\n",
       "\\item 0.0176839922140464\n",
       "\\item 0.0172657014847924\n",
       "\\item 0.0156521145526779\n",
       "\\item 0.013326460307276\n",
       "\\item 0.0128202645014901\n",
       "\\item 0.0115196922180004\n",
       "\\item 0.00885131464738436\n",
       "\\item 0.00794913834688087\n",
       "\\item 0.00596307685073176\n",
       "\\item 0.00530294353193395\n",
       "\\item 0.00490267014054505\n",
       "\\item 0.00393384786592756\n",
       "\\item 0.00365639511544808\n",
       "\\item 0.00261996533805742\n",
       "\\item 0.00199195506398292\n",
       "\\item 0.00186465532846697\n",
       "\\item 0.00135510174285158\n",
       "\\item 0.00101872329422253\n",
       "\\item 0.000744245385344217\n",
       "\\item 0.000474498985974562\n",
       "\\end{enumerate*}\n"
      ],
      "text/markdown": [
       "1. 25.4465063420487\n",
       "2. 16.9448689931151\n",
       "3. 9.20804190038729\n",
       "4. 7.69249622524252\n",
       "5. 5.53131430645585\n",
       "6. 4.22911572462294\n",
       "7. 3.30929610798507\n",
       "8. 3.04371665953936\n",
       "9. 2.17457079369625\n",
       "10. 1.64241091082225\n",
       "11. 1.56337021349157\n",
       "12. 1.5222287817213\n",
       "13. 1.3809706735475\n",
       "14. 1.0664407016136\n",
       "15. 0.995634440572123\n",
       "16. 0.906557405892555\n",
       "17. 0.855519222744654\n",
       "18. 0.746798231493318\n",
       "19. 0.701034154384571\n",
       "20. 0.675086037668191\n",
       "21. 0.658491839334232\n",
       "22. 0.638103763748947\n",
       "23. 0.58681615142282\n",
       "24. 0.559580595685787\n",
       "25. 0.521018809532708\n",
       "26. 0.499613823007215\n",
       "27. 0.476312085315655\n",
       "28. 0.465865330370177\n",
       "29. 0.451040511190054\n",
       "30. 0.433383106708687\n",
       "31. 0.390184827342155\n",
       "32. 0.384063996821419\n",
       "33. 0.36605244625652\n",
       "34. 0.346007944814391\n",
       "35. 0.31877318996516\n",
       "36. 0.304153963738551\n",
       "37. 0.292232752447858\n",
       "38. 0.259758823882747\n",
       "39. 0.250181829466791\n",
       "40. 0.244482600773736\n",
       "41. 0.234608028247566\n",
       "42. 0.223757303057464\n",
       "43. 0.212607979416892\n",
       "44. 0.203072363481205\n",
       "45. 0.200454843075415\n",
       "46. 0.183949153501778\n",
       "47. 0.179924419628438\n",
       "48. 0.168688397964445\n",
       "49. 0.160410312506204\n",
       "50. 0.137017940836617\n",
       "51. 0.136194851030472\n",
       "52. 0.128010234480627\n",
       "53. 0.106940505951581\n",
       "54. 0.100639878924901\n",
       "55. 0.0997926660116374\n",
       "56. 0.0956134970228671\n",
       "57. 0.0883581770115169\n",
       "58. 0.0825400671580696\n",
       "59. 0.0780514607333036\n",
       "60. 0.0729098144487547\n",
       "61. 0.0663653359540339\n",
       "62. 0.0640897634261147\n",
       "63. 0.0628076539033129\n",
       "64. 0.060602229766899\n",
       "65. 0.0558852462765204\n",
       "66. 0.0530812329779345\n",
       "67. 0.0474288110456943\n",
       "68. 0.0460314185158945\n",
       "69. 0.0435059520626173\n",
       "70. 0.0429135488619672\n",
       "71. 0.0380647733054407\n",
       "72. 0.0376421161987593\n",
       "73. 0.035635963702651\n",
       "74. 0.0343054332645009\n",
       "75. 0.0317781795229923\n",
       "76. 0.0291411593305279\n",
       "77. 0.0264569580289453\n",
       "78. 0.0250791573884507\n",
       "79. 0.0231942047074193\n",
       "80. 0.0225392770755158\n",
       "81. 0.0201997570510991\n",
       "82. 0.0187169573566031\n",
       "83. 0.0176839922140464\n",
       "84. 0.0172657014847924\n",
       "85. 0.0156521145526779\n",
       "86. 0.013326460307276\n",
       "87. 0.0128202645014901\n",
       "88. 0.0115196922180004\n",
       "89. 0.00885131464738436\n",
       "90. 0.00794913834688087\n",
       "91. 0.00596307685073176\n",
       "92. 0.00530294353193395\n",
       "93. 0.00490267014054505\n",
       "94. 0.00393384786592756\n",
       "95. 0.00365639511544808\n",
       "96. 0.00261996533805742\n",
       "97. 0.00199195506398292\n",
       "98. 0.00186465532846697\n",
       "99. 0.00135510174285158\n",
       "100. 0.00101872329422253\n",
       "101. 0.000744245385344217\n",
       "102. 0.000474498985974562\n",
       "\n",
       "\n"
      ],
      "text/plain": [
       "  [1] 2.544651e+01 1.694487e+01 9.208042e+00 7.692496e+00 5.531314e+00\n",
       "  [6] 4.229116e+00 3.309296e+00 3.043717e+00 2.174571e+00 1.642411e+00\n",
       " [11] 1.563370e+00 1.522229e+00 1.380971e+00 1.066441e+00 9.956344e-01\n",
       " [16] 9.065574e-01 8.555192e-01 7.467982e-01 7.010342e-01 6.750860e-01\n",
       " [21] 6.584918e-01 6.381038e-01 5.868162e-01 5.595806e-01 5.210188e-01\n",
       " [26] 4.996138e-01 4.763121e-01 4.658653e-01 4.510405e-01 4.333831e-01\n",
       " [31] 3.901848e-01 3.840640e-01 3.660524e-01 3.460079e-01 3.187732e-01\n",
       " [36] 3.041540e-01 2.922328e-01 2.597588e-01 2.501818e-01 2.444826e-01\n",
       " [41] 2.346080e-01 2.237573e-01 2.126080e-01 2.030724e-01 2.004548e-01\n",
       " [46] 1.839492e-01 1.799244e-01 1.686884e-01 1.604103e-01 1.370179e-01\n",
       " [51] 1.361949e-01 1.280102e-01 1.069405e-01 1.006399e-01 9.979267e-02\n",
       " [56] 9.561350e-02 8.835818e-02 8.254007e-02 7.805146e-02 7.290981e-02\n",
       " [61] 6.636534e-02 6.408976e-02 6.280765e-02 6.060223e-02 5.588525e-02\n",
       " [66] 5.308123e-02 4.742881e-02 4.603142e-02 4.350595e-02 4.291355e-02\n",
       " [71] 3.806477e-02 3.764212e-02 3.563596e-02 3.430543e-02 3.177818e-02\n",
       " [76] 2.914116e-02 2.645696e-02 2.507916e-02 2.319420e-02 2.253928e-02\n",
       " [81] 2.019976e-02 1.871696e-02 1.768399e-02 1.726570e-02 1.565211e-02\n",
       " [86] 1.332646e-02 1.282026e-02 1.151969e-02 8.851315e-03 7.949138e-03\n",
       " [91] 5.963077e-03 5.302944e-03 4.902670e-03 3.933848e-03 3.656395e-03\n",
       " [96] 2.619965e-03 1.991955e-03 1.864655e-03 1.355102e-03 1.018723e-03\n",
       "[101] 7.442454e-04 4.744990e-04"
      ]
     },
     "metadata": {},
     "output_type": "display_data"
    }
   ],
   "source": [
    "(crime_train_data_pca$sdev)^2"
   ]
  },
  {
   "cell_type": "markdown",
   "metadata": {},
   "source": [
    "The components 1 through 14 have variance above 1. Using Kaiser’s criterion, we can retain the first fourteen principal components.\n",
    "\n",
    "One more method to decide on number of PCA components to retain is to keep as few components as required to explain at least some minimum amount of the total variance. For example, if you want to explain at least 70% of the variance, we will retain the first eight principal components, as we can see from the output of `summary(crime_train_data_pca)` that the first eight principal components explain 70% of the variance (while the first four components explain 56%)."
   ]
  },
  {
   "cell_type": "markdown",
   "metadata": {},
   "source": [
    "### Scatter Plots of Principal Components"
   ]
  },
  {
   "cell_type": "markdown",
   "metadata": {},
   "source": [
    "The values of the principal components are stored in a named element `x` of the variable returned by `prcomp()`. `x` contains a matrix where the first column contains the first principal component, the second column the second component, and so on.\n",
    "\n",
    "Thus, `housing_prices_pca$x[,1]` contains the first principal component, and `housing_prices_pca$x[,2]` contains the second principal component.\n",
    "\n",
    "We will make a scatterplot of the first two principal components."
   ]
  },
  {
   "cell_type": "code",
   "execution_count": 23,
   "metadata": {},
   "outputs": [
    {
     "data": {
      "image/png": "[encoded data removed]",
      "text/plain": [
       "plot without title"
      ]
     },
     "metadata": {
      "image/png": {
       "height": 420,
       "width": 420
      }
     },
     "output_type": "display_data"
    }
   ],
   "source": [
    "library(ggplot2)\n",
    "pca_comp1_comp2 <- ggplot(crime_train_data, aes(x=crime_train_data_pca$x[,1],y=crime_train_data_pca$x[,2]))\n",
    "\n",
    "pca_comp1_comp2+geom_point(alpha = 0.8)"
   ]
  },
  {
   "cell_type": "code",
   "execution_count": 24,
   "metadata": {},
   "outputs": [
    {
     "data": {
      "text/html": [
       "1397"
      ],
      "text/latex": [
       "1397"
      ],
      "text/markdown": [
       "1397"
      ],
      "text/plain": [
       "[1] 1397"
      ]
     },
     "metadata": {},
     "output_type": "display_data"
    },
    {
     "data": {
      "image/png": "[encoded data removed]",
      "text/plain": [
       "plot without title"
      ]
     },
     "metadata": {
      "image/png": {
       "height": 420,
       "width": 420
      }
     },
     "output_type": "display_data"
    }
   ],
   "source": [
    "# Calculating total number of elements in the dataset so that we can use this, in the following line of code,\n",
    "# to replace the principal components values with dots (to differentiate them from the variable coefficients.)\n",
    "\n",
    "len <- length(as.matrix(crime_train_data)) / length(crime_train_data)\n",
    "\n",
    "len\n",
    "\n",
    "biplot(crime_train_data_pca, xlabs = rep('.', len))\n",
    "\n",
    "# Another option: Could put \"nrow(crime_train_data)\" in place of \"len\" in the last line of code.\n",
    "\n",
    "# rep() replicates the values in x\n",
    "# xlabs is a vector of character strings used to label the first set of points.  In this case, the xlabs() function \n",
    "# is being used simply to differentiate the PC-1 values from the PC-2 values.  "
   ]
  },
  {
   "cell_type": "markdown",
   "metadata": {},
   "source": [
    "---\n",
    "\n",
    "## Factor Analysis\n",
    "\n",
    "\n",
    "Factor analysis is a statistical method used to describe variability among observed, correlated variables in terms of a potentially lower number of unobserved variables called factors. Factor analysis searches for such joint variations in response to unobserved latent variables. The observed variables are modelled as linear combinations of the potential factors, plus “error” terms. The information gained about the interdependencies between observed variables can be used later to reduce the set of variables in a dataset. \n",
    "\n",
    "Latent variables (as opposed to observable variables), are variables that are not directly observed but are rather inferred (through a mathematical model) from other variables that are observed (directly measured).  Since factors are latent, we cannot use methods like regression.\n",
    "\n",
    "The key concept of factor analysis is that multiple observed variables have similar patterns of responses because they are all associated with a latent (i.e. not directly measured) variable. For example, people may respond similarly to questions about income, education, and occupation, which are all associated with the latent variable \"socioeconomic status\". It is possible that variations in n observed variables reflect the variations in just two unobserved (underlying) variables. Factor analysis searches for such joint variations in response to unobserved latent variables and aims to find independent latent variables.\n",
    "\n",
    "Factor Analysis is a method for analyzing the covariation among the observed variables to address following questions:\n",
    "\n",
    "* How many latent factors are needed to account for most of the variation among the observed variables?\n",
    "* Which variables appear to define each factor; hence what labels should we give to these factors?\n",
    "\n",
    "Factors are listed according to factor loadings, or how much variation in the data they can explain. \n",
    "\n",
    "So, we want to investigate if observable variables (e.g., X1,X2…XN) are linearly related to a small number of unobservable (latent) factors (e.g., F1,F2…FK), with K<<N.\n",
    "\n",
    "See this link for more information: http://www.di.fc.ul.pt/~jpn/r/factoranalysis/factoranalysis.html\n",
    "\n",
    "There are the following assumptions:\n",
    "\n",
    "1. The error terms are independent from each other  \n",
    "2. The unobservable factors are independent from each other\n",
    "\n",
    "The second assumption is stating that these latent variables do not influence one another, which might be too strong a condition. There are more advanced models where this is relaxed.\n",
    "\n",
    "With the loadings it is possible to compute the covariance of any two observed variables as well as the variance of each variable.\n",
    "\n",
    "The values of the loadings are not unique (in fact, they are infinite). This means that if the algorithm finds one solution that does not reveal the hypothesized structure of the problem, it is possible to apply a ‘rotation’ to find another set of loadings that might provide a better interpretation or more consistent with prior expectations about the dataset.\n",
    "\n",
    "There are a number of rotations in the literature. For example:\n",
    "\n",
    "1. Varimax: a rotation that seeks to maximize the variance of the squared loading for each factor (ie, make them as large as possible to capture as most signal as possible)\n",
    "2. Quartimax : seeks to maximize the variance of the squared loadings for each variable, and tends to produce factors with high loadings for all variables.\n",
    "\n",
    "Rotation methods can be described as orthogonal, which do not allow the resulting factors to be correlated, and oblique, which do allow the resulting factors to be correlated."
   ]
  },
  {
   "cell_type": "markdown",
   "metadata": {},
   "source": [
    "There are two types of factor analysis: exploratory and confirmatory.\n",
    "\n",
    "##### Exploratory factor analysis\n",
    "It is done if a researcher doesn’t have any idea about the structure of data or how many dimensions are in a set of variables. It helps identify complex interrelationships among items and group items that are part of unified concepts.\n",
    "\n",
    "##### Confirmatory Factor Analysis\n",
    "It is used for verification where the researcher has specific idea about the structure of data or how many dimensions are in a set of variables. It helps test the hypothesis that the items are associated with specific factors. Hypothesized models are tested against actual data, and the analysis would demonstrate loadings of observed variables on the latent variables (factors), as well as the correlation between the latent variables."
   ]
  },
  {
   "cell_type": "markdown",
   "metadata": {},
   "source": [
    "#### Factor Analysis vs. PCA\n",
    "\n",
    "\n",
    "Factor analysis is related to principal component analysis (PCA), but the two are not identical. PCA is a more basic version of exploratory factor analysis (EFA). Factor Analysis reduces the information in a model by reducing the dimensions of the observations.  This procedure has multiple purposes.  It can be used to simplify the data, for example reducing the number of variables in predictive regression models.  If factor analysis is used for these purposes, most often factors are rotated after extraction.  Factor analysis has several different rotation methods—some of them ensure that the factors are orthogonal.  Then the correlation coefficient between two factors is zero, which eliminates problems of multicollinearity in regression analysis.\n",
    "\n",
    "Both factor analysis and PCA assume that the modelling subspace is linear. (Kernel PCA is a more recent techniques that attempts dimensionality reduction in non-linear spaces.)\n",
    "\n",
    "But while Factor Analysis assumes a model (that may or may not fit the data), PCA is just a data transformation and for this reason it always exists. Furthermore while Factor Analysis aims at explaining covariances or correlations, PCA concentrates on variances. "
   ]
  },
  {
   "cell_type": "markdown",
   "metadata": {
    "collapsed": true
   },
   "source": [
    "---\n",
    "\n",
    "### Load in the dataset...\n",
    "\n",
    "Let's perform a factor analysis on student subject preferences data. The dataset contains a hypothetical sample of 300 responses on 6 items from a survey of college students’ favorite subject matter. The items range in value from 1 to 5, which represent a scale from Strongly Dislike to Strongly Like. Our 6 items asked students to rate their liking of different college subject matter areas, including biology (BIO), geology (GEO), chemistry (CHEM), algebra (ALG), calculus (CALC), and statistics (STAT)."
   ]
  },
  {
   "cell_type": "code",
   "execution_count": 25,
   "metadata": {},
   "outputs": [
    {
     "data": {
      "text/html": [
       "<table class=\"dataframe\">\n",
       "<caption>A data.frame: 6 × 6</caption>\n",
       "<thead>\n",
       "\t<tr><th></th><th scope=col>BIO</th><th scope=col>GEO</th><th scope=col>CHEM</th><th scope=col>ALG</th><th scope=col>CALC</th><th scope=col>STAT</th></tr>\n",
       "\t<tr><th></th><th scope=col>&lt;int&gt;</th><th scope=col>&lt;int&gt;</th><th scope=col>&lt;int&gt;</th><th scope=col>&lt;int&gt;</th><th scope=col>&lt;int&gt;</th><th scope=col>&lt;int&gt;</th></tr>\n",
       "</thead>\n",
       "<tbody>\n",
       "\t<tr><th scope=row>1</th><td>1</td><td>1</td><td>1</td><td>1</td><td>1</td><td>1</td></tr>\n",
       "\t<tr><th scope=row>2</th><td>4</td><td>4</td><td>3</td><td>4</td><td>4</td><td>4</td></tr>\n",
       "\t<tr><th scope=row>3</th><td>2</td><td>1</td><td>3</td><td>4</td><td>1</td><td>1</td></tr>\n",
       "\t<tr><th scope=row>4</th><td>2</td><td>3</td><td>2</td><td>4</td><td>4</td><td>3</td></tr>\n",
       "\t<tr><th scope=row>5</th><td>3</td><td>1</td><td>2</td><td>2</td><td>3</td><td>4</td></tr>\n",
       "\t<tr><th scope=row>6</th><td>1</td><td>1</td><td>1</td><td>4</td><td>4</td><td>4</td></tr>\n",
       "</tbody>\n",
       "</table>\n"
      ],
      "text/latex": [
       "A data.frame: 6 × 6\n",
       "\\begin{tabular}{r|llllll}\n",
       "  & BIO & GEO & CHEM & ALG & CALC & STAT\\\\\n",
       "  & <int> & <int> & <int> & <int> & <int> & <int>\\\\\n",
       "\\hline\n",
       "\t1 & 1 & 1 & 1 & 1 & 1 & 1\\\\\n",
       "\t2 & 4 & 4 & 3 & 4 & 4 & 4\\\\\n",
       "\t3 & 2 & 1 & 3 & 4 & 1 & 1\\\\\n",
       "\t4 & 2 & 3 & 2 & 4 & 4 & 3\\\\\n",
       "\t5 & 3 & 1 & 2 & 2 & 3 & 4\\\\\n",
       "\t6 & 1 & 1 & 1 & 4 & 4 & 4\\\\\n",
       "\\end{tabular}\n"
      ],
      "text/markdown": [
       "\n",
       "A data.frame: 6 × 6\n",
       "\n",
       "| <!--/--> | BIO &lt;int&gt; | GEO &lt;int&gt; | CHEM &lt;int&gt; | ALG &lt;int&gt; | CALC &lt;int&gt; | STAT &lt;int&gt; |\n",
       "|---|---|---|---|---|---|---|\n",
       "| 1 | 1 | 1 | 1 | 1 | 1 | 1 |\n",
       "| 2 | 4 | 4 | 3 | 4 | 4 | 4 |\n",
       "| 3 | 2 | 1 | 3 | 4 | 1 | 1 |\n",
       "| 4 | 2 | 3 | 2 | 4 | 4 | 3 |\n",
       "| 5 | 3 | 1 | 2 | 2 | 3 | 4 |\n",
       "| 6 | 1 | 1 | 1 | 4 | 4 | 4 |\n",
       "\n"
      ],
      "text/plain": [
       "  BIO GEO CHEM ALG CALC STAT\n",
       "1 1   1   1    1   1    1   \n",
       "2 4   4   3    4   4    4   \n",
       "3 2   1   3    4   1    1   \n",
       "4 2   3   2    4   4    3   \n",
       "5 3   1   2    2   3    4   \n",
       "6 1   1   1    4   4    4   "
      ]
     },
     "metadata": {},
     "output_type": "display_data"
    }
   ],
   "source": [
    "subjects_data = read.csv(\"/dsa/data/all_datasets/student_prefs/student_subject_preferences.csv\")\n",
    "head(subjects_data)"
   ]
  },
  {
   "cell_type": "code",
   "execution_count": 26,
   "metadata": {},
   "outputs": [
    {
     "name": "stdout",
     "output_type": "stream",
     "text": [
      "'data.frame':\t300 obs. of  6 variables:\n",
      " $ BIO : int  1 4 2 2 3 1 3 4 2 2 ...\n",
      " $ GEO : int  1 4 1 3 1 1 3 3 1 3 ...\n",
      " $ CHEM: int  1 3 3 2 2 1 3 4 3 3 ...\n",
      " $ ALG : int  1 4 4 4 2 4 2 2 3 2 ...\n",
      " $ CALC: int  1 4 1 4 3 4 3 3 4 3 ...\n",
      " $ STAT: int  1 4 1 3 4 4 1 2 3 4 ...\n"
     ]
    }
   ],
   "source": [
    "str(subjects_data)"
   ]
  },
  {
   "cell_type": "markdown",
   "metadata": {},
   "source": [
    "Package `stats` has a function factanal() that can be used to perform factor analysis:"
   ]
  },
  {
   "cell_type": "code",
   "execution_count": 27,
   "metadata": {},
   "outputs": [
    {
     "name": "stdout",
     "output_type": "stream",
     "text": [
      "\n",
      "Call:\n",
      "factanal(x = subjects_data, factors = n.factors, scores = c(\"regression\"),     rotation = \"none\")\n",
      "\n",
      "Uniquenesses:\n",
      " BIO  GEO CHEM  ALG CALC STAT \n",
      "0.25 0.37 0.25 0.37 0.05 0.71 \n",
      "\n",
      "Loadings:\n",
      "     Factor1 Factor2\n",
      "ALG   0.78          \n",
      "CALC  0.97          \n",
      "STAT  0.53          \n",
      "BIO   0.30    0.81  \n",
      "GEO           0.74  \n",
      "CHEM          0.84  \n",
      "\n",
      "               Factor1 Factor2\n",
      "SS loadings       2.06    1.93\n",
      "Proportion Var    0.34    0.32\n",
      "Cumulative Var    0.34    0.66\n",
      "\n",
      "Test of the hypothesis that 2 factors are sufficient.\n",
      "The chi square statistic is 2.94 on 4 degrees of freedom.\n",
      "The p-value is 0.568 \n"
     ]
    }
   ],
   "source": [
    "# factanal() performs maximum-likelihood factor analysis on a covariance matrix or data matrix.\n",
    "\n",
    "# The second argument in factanal() is \"factors\" -- meaning the number of factors to be fitted.\n",
    "\n",
    "# The scores argument scores specifies the type of scores to produce, if any. \n",
    "# The default is none; the \"regression\" argument gives Thompson's scores.\n",
    "\n",
    "n.factors <- 2   \n",
    "\n",
    "fit <- factanal(subjects_data, n.factors,  scores=c(\"regression\"), rotation=\"none\") # number of factors to extract\n",
    "print(fit, digits=2, cutoff=.3, sort=TRUE)"
   ]
  },
  {
   "cell_type": "code",
   "execution_count": 28,
   "metadata": {},
   "outputs": [
    {
     "data": {
      "text/html": [
       "<table class=\"dataframe\">\n",
       "<caption>A matrix: 6 × 2 of type dbl</caption>\n",
       "<thead>\n",
       "\t<tr><th scope=col>Factor1</th><th scope=col>Factor2</th></tr>\n",
       "</thead>\n",
       "<tbody>\n",
       "\t<tr><td>-1.9089514</td><td>-0.52366961</td></tr>\n",
       "\t<tr><td> 0.9564370</td><td> 0.89249862</td></tr>\n",
       "\t<tr><td>-1.5797564</td><td> 0.33784901</td></tr>\n",
       "\t<tr><td> 0.7909078</td><td>-0.28205710</td></tr>\n",
       "\t<tr><td>-0.1127541</td><td>-0.03603192</td></tr>\n",
       "\t<tr><td> 0.6901869</td><td>-1.31361815</td></tr>\n",
       "</tbody>\n",
       "</table>\n"
      ],
      "text/latex": [
       "A matrix: 6 × 2 of type dbl\n",
       "\\begin{tabular}{ll}\n",
       " Factor1 & Factor2\\\\\n",
       "\\hline\n",
       "\t -1.9089514 & -0.52366961\\\\\n",
       "\t  0.9564370 &  0.89249862\\\\\n",
       "\t -1.5797564 &  0.33784901\\\\\n",
       "\t  0.7909078 & -0.28205710\\\\\n",
       "\t -0.1127541 & -0.03603192\\\\\n",
       "\t  0.6901869 & -1.31361815\\\\\n",
       "\\end{tabular}\n"
      ],
      "text/markdown": [
       "\n",
       "A matrix: 6 × 2 of type dbl\n",
       "\n",
       "| Factor1 | Factor2 |\n",
       "|---|---|\n",
       "| -1.9089514 | -0.52366961 |\n",
       "|  0.9564370 |  0.89249862 |\n",
       "| -1.5797564 |  0.33784901 |\n",
       "|  0.7909078 | -0.28205710 |\n",
       "| -0.1127541 | -0.03603192 |\n",
       "|  0.6901869 | -1.31361815 |\n",
       "\n"
      ],
      "text/plain": [
       "     Factor1    Factor2    \n",
       "[1,] -1.9089514 -0.52366961\n",
       "[2,]  0.9564370  0.89249862\n",
       "[3,] -1.5797564  0.33784901\n",
       "[4,]  0.7909078 -0.28205710\n",
       "[5,] -0.1127541 -0.03603192\n",
       "[6,]  0.6901869 -1.31361815"
      ]
     },
     "metadata": {},
     "output_type": "display_data"
    }
   ],
   "source": [
    "head(fit$scores)\n",
    "\n",
    "# For a description of Thomson's regression method, see\n",
    "# https://www.rdocumentation.org/packages/stats/versions/3.5.1/topics/factanal"
   ]
  },
  {
   "cell_type": "code",
   "execution_count": 29,
   "metadata": {},
   "outputs": [
    {
     "data": {
      "text/html": [
       "<table class=\"dataframe\">\n",
       "<caption>A matrix: 6 × 2 of type dbl</caption>\n",
       "<thead>\n",
       "\t<tr><th></th><th scope=col>Factor1</th><th scope=col>Factor2</th></tr>\n",
       "</thead>\n",
       "<tbody>\n",
       "\t<tr><th scope=row>BIO</th><td>0.3034807</td><td> 0.80978574</td></tr>\n",
       "\t<tr><th scope=row>GEO</th><td>0.2901293</td><td> 0.73571861</td></tr>\n",
       "\t<tr><th scope=row>CHEM</th><td>0.2300151</td><td> 0.83529283</td></tr>\n",
       "\t<tr><th scope=row>ALG</th><td>0.7805717</td><td>-0.13001786</td></tr>\n",
       "\t<tr><th scope=row>CALC</th><td>0.9704675</td><td>-0.10265862</td></tr>\n",
       "\t<tr><th scope=row>STAT</th><td>0.5301056</td><td> 0.06357596</td></tr>\n",
       "</tbody>\n",
       "</table>\n"
      ],
      "text/latex": [
       "A matrix: 6 × 2 of type dbl\n",
       "\\begin{tabular}{r|ll}\n",
       "  & Factor1 & Factor2\\\\\n",
       "\\hline\n",
       "\tBIO & 0.3034807 &  0.80978574\\\\\n",
       "\tGEO & 0.2901293 &  0.73571861\\\\\n",
       "\tCHEM & 0.2300151 &  0.83529283\\\\\n",
       "\tALG & 0.7805717 & -0.13001786\\\\\n",
       "\tCALC & 0.9704675 & -0.10265862\\\\\n",
       "\tSTAT & 0.5301056 &  0.06357596\\\\\n",
       "\\end{tabular}\n"
      ],
      "text/markdown": [
       "\n",
       "A matrix: 6 × 2 of type dbl\n",
       "\n",
       "| <!--/--> | Factor1 | Factor2 |\n",
       "|---|---|---|\n",
       "| BIO | 0.3034807 |  0.80978574 |\n",
       "| GEO | 0.2901293 |  0.73571861 |\n",
       "| CHEM | 0.2300151 |  0.83529283 |\n",
       "| ALG | 0.7805717 | -0.13001786 |\n",
       "| CALC | 0.9704675 | -0.10265862 |\n",
       "| STAT | 0.5301056 |  0.06357596 |\n",
       "\n"
      ],
      "text/plain": [
       "     Factor1   Factor2    \n",
       "BIO  0.3034807  0.80978574\n",
       "GEO  0.2901293  0.73571861\n",
       "CHEM 0.2300151  0.83529283\n",
       "ALG  0.7805717 -0.13001786\n",
       "CALC 0.9704675 -0.10265862\n",
       "STAT 0.5301056  0.06357596"
      ]
     },
     "metadata": {},
     "output_type": "display_data"
    }
   ],
   "source": [
    "fit$loadings[,1:2] \n",
    "\n",
    "# Factor loading is the correlation between the observed score and the latent score. Generally, the \n",
    "# higher the better since the square of factor loading can be directly translated as item reliability."
   ]
  },
  {
   "cell_type": "code",
   "execution_count": 30,
   "metadata": {},
   "outputs": [
    {
     "data": {
      "image/png": "[encoded data removed]",
      "text/plain": [
       "plot without title"
      ]
     },
     "metadata": {
      "image/png": {
       "height": 420,
       "width": 420
      }
     },
     "output_type": "display_data"
    }
   ],
   "source": [
    "# plot factor 1 by factor 2 \n",
    "load <- fit$loadings[,1:2] \n",
    "plot(load, type = \"n\") # Set up plot. type = 'n' tells R not to plot the points. \n",
    "\n",
    "text(load, labels = names(subjects_data), cex = 0.7) # text() adds variable names.  cex() controls the font size"
   ]
  },
  {
   "cell_type": "markdown",
   "metadata": {},
   "source": [
    "The output maximizes variance for the 1st and subsequent factors, while all are orthogonal to each other.\n",
    "\n",
    "Rotation serves to make the output more understandable, by seeking so-called “Simple Structure”. \n",
    "\n",
    "Simple structure is a pattern of loadings where items load most strongly on one factor, \n",
    "and much more weakly onto the other factors. \n",
    "\n",
    "\n",
    "In other words, varimax rotation is an orthogonal rotation of the factor axes to maximize the variance of the squared loadings of a factor (column) on all the variables (rows) in a factor matrix, which has the effect of differentiating the original variables by the extracted factor. \n",
    "Each factor will tend to have either large or small loadings of any particular variable. \n",
    "\n",
    "\n",
    "A varimax solution yields results which make it as easy as possible to identify each variable with a single factor. This is the most common rotation option. "
   ]
  },
  {
   "cell_type": "code",
   "execution_count": 31,
   "metadata": {},
   "outputs": [
    {
     "data": {
      "text/html": [
       "<table class=\"dataframe\">\n",
       "<caption>A matrix: 6 × 2 of type dbl</caption>\n",
       "<thead>\n",
       "\t<tr><th></th><th scope=col>Factor1</th><th scope=col>Factor2</th></tr>\n",
       "</thead>\n",
       "<tbody>\n",
       "\t<tr><th scope=row>BIO</th><td>0.85456336</td><td>0.13257053</td></tr>\n",
       "\t<tr><th scope=row>GEO</th><td>0.77932854</td><td>0.13455074</td></tr>\n",
       "\t<tr><th scope=row>CHEM</th><td>0.86460737</td><td>0.05545425</td></tr>\n",
       "\t<tr><th scope=row>ALG</th><td>0.03133486</td><td>0.79070534</td></tr>\n",
       "\t<tr><th scope=row>CALC</th><td>0.09671653</td><td>0.97107765</td></tr>\n",
       "\t<tr><th scope=row>STAT</th><td>0.16998499</td><td>0.50612151</td></tr>\n",
       "</tbody>\n",
       "</table>\n"
      ],
      "text/latex": [
       "A matrix: 6 × 2 of type dbl\n",
       "\\begin{tabular}{r|ll}\n",
       "  & Factor1 & Factor2\\\\\n",
       "\\hline\n",
       "\tBIO & 0.85456336 & 0.13257053\\\\\n",
       "\tGEO & 0.77932854 & 0.13455074\\\\\n",
       "\tCHEM & 0.86460737 & 0.05545425\\\\\n",
       "\tALG & 0.03133486 & 0.79070534\\\\\n",
       "\tCALC & 0.09671653 & 0.97107765\\\\\n",
       "\tSTAT & 0.16998499 & 0.50612151\\\\\n",
       "\\end{tabular}\n"
      ],
      "text/markdown": [
       "\n",
       "A matrix: 6 × 2 of type dbl\n",
       "\n",
       "| <!--/--> | Factor1 | Factor2 |\n",
       "|---|---|---|\n",
       "| BIO | 0.85456336 | 0.13257053 |\n",
       "| GEO | 0.77932854 | 0.13455074 |\n",
       "| CHEM | 0.86460737 | 0.05545425 |\n",
       "| ALG | 0.03133486 | 0.79070534 |\n",
       "| CALC | 0.09671653 | 0.97107765 |\n",
       "| STAT | 0.16998499 | 0.50612151 |\n",
       "\n"
      ],
      "text/plain": [
       "     Factor1    Factor2   \n",
       "BIO  0.85456336 0.13257053\n",
       "GEO  0.77932854 0.13455074\n",
       "CHEM 0.86460737 0.05545425\n",
       "ALG  0.03133486 0.79070534\n",
       "CALC 0.09671653 0.97107765\n",
       "STAT 0.16998499 0.50612151"
      ]
     },
     "metadata": {},
     "output_type": "display_data"
    }
   ],
   "source": [
    "fit <- factanal(subjects_data, n.factors, rotation=\"varimax\")     # 'varimax' is an ortho rotation\n",
    "\n",
    "load <- fit$loadings[,] \n",
    "load"
   ]
  },
  {
   "cell_type": "code",
   "execution_count": 34,
   "metadata": {},
   "outputs": [
    {
     "data": {
      "image/png": "[encoded data removed]",
      "text/plain": [
       "plot without title"
      ]
     },
     "metadata": {
      "image/png": {
       "height": 420,
       "width": 420
      }
     },
     "output_type": "display_data"
    }
   ],
   "source": [
    "plot(load, type = \"n\", xlab = \"Science\", ylab = \"Math\") # Set up plot  \n",
    " \n",
    "text(load,labels = names(subjects_data), cex = .7) # add variable names"
   ]
  },
  {
   "cell_type": "markdown",
   "metadata": {},
   "source": [
    "### Factor Analysis Interpretation \n",
    "\n",
    "Looking at both plots we see that the courses Geology, Biology, and Chemistry all have high factor loadings around 0.8 on the first factor (PA1) while Calculus, Algebra, and Statistics load highly on the second factor (PA2). \n",
    "\n",
    "Note that STAT has a much lower loading on PA2 than ALG or CALC and that it has a slight loading on factor PA1. \n",
    "This suggests that statistics is less related to the concept of Math than Algebra and Calculus. \n",
    "Just below the loadings table, we can see that each factor accounted for around 30% of the variance in responses, \n",
    "leading to a factor solution that accounted for 66% of the total variance in students’ subject matter preference.\n",
    "\n",
    "The way to interpret factors is to look at the observed variables that each factor contribute to:\n",
    "\n",
    "__Factor 1__ : contributes to Biology, Geography, and Chemistry  \n",
    "__Factor 2__ : contributed to Algebra, Calculus, and Statistics  \n",
    "\n",
    "Can we assign a conceptual label to the factors, based on the measurement variables they are contributing to?\n",
    "\n",
    "Yes!  We can associate the first factor with **Science** and the second factor with **Math**.  If these were scores on standardized tests, we could use the factor analysis to plot students into sets of ''Science Kids'' and ''Math Kids''.\n"
   ]
  }
 ],
 "metadata": {
  "kernelspec": {
   "display_name": "R",
   "language": "R",
   "name": "ir"
  },
  "language_info": {
   "codemirror_mode": "r",
   "file_extension": ".r",
   "mimetype": "text/x-r-source",
   "name": "R",
   "pygments_lexer": "r",
   "version": "4.0.5"
  }
 },
 "nbformat": 4,
 "nbformat_minor": 1
}
