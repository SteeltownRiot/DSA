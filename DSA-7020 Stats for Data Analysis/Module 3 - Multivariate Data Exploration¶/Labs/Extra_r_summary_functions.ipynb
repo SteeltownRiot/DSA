{
 "cells": [
  {
   "cell_type": "markdown",
   "metadata": {},
   "source": [
    "# Data Summarization with R\n"
   ]
  },
  {
   "cell_type": "markdown",
   "metadata": {},
   "source": [
    "## Summarizing Vectors\n",
    "\n",
    "As we have seen in prior modules, vectors are summarized using measures of central tendency and variability. \n",
    "We will look into other descriptive statistics for summarizing the vectors. \n",
    "We will work with the same Kings County Housing Prices dataset."
   ]
  },
  {
   "cell_type": "code",
   "execution_count": null,
   "metadata": {},
   "outputs": [],
   "source": [
    "housing_prices <- read.csv(\"/dsa/data/all_datasets/house_sales_in_king_county/kc_house_data.csv\")"
   ]
  },
  {
   "cell_type": "markdown",
   "metadata": {},
   "source": [
    "apply(), lapply(), sapply(), tapply(), ddply() are some of the summarizing functions you can use to apply functions on columns.\n",
    "Let's look into each of them. "
   ]
  },
  {
   "cell_type": "code",
   "execution_count": null,
   "metadata": {},
   "outputs": [],
   "source": [
    "# apply() is used to apply a function to the rows or columns of a matrix. It collapses either a row or column. \n",
    "# The middle parameter specifies either rows (i.e., 1) or columns (i.e., 2).  In the function below we are \n",
    "# applying the mean function to all columns -- so we specified \"2\".\n",
    "\n",
    "# In this dataset, date is a factor variable.  We cannot apply the mean function to a factor variable. \n",
    "# The id column is just an id number for the row, so a mean cannot be computed for it.  We will exclude \n",
    "# these two columns from our dataset. \n",
    "# The dataframe without the date and id variables is named \"less_data.\"\n",
    "\n",
    "less_data = housing_prices[!names(housing_prices) %in% c('date','id')]\n",
    "\n",
    "head(less_data)"
   ]
  },
  {
   "cell_type": "code",
   "execution_count": null,
   "metadata": {},
   "outputs": [],
   "source": [
    "apply(less_data, 2, mean)"
   ]
  },
  {
   "cell_type": "code",
   "execution_count": null,
   "metadata": {},
   "outputs": [],
   "source": [
    "# colMeans, rowMeans, colSums, rowSums are functions you can use if you want to do averages on matrix \n",
    "# columns or rows. "
   ]
  },
  {
   "cell_type": "code",
   "execution_count": null,
   "metadata": {},
   "outputs": [],
   "source": [
    "# Create a list containing the bedrooms and bathrooms variables.  These variables become the elements of the list.\n",
    "# x[1] contains bedrooms and x[2] contains bathrooms. Look at the structure of x below. \n",
    "\n",
    "x = list(less_data$bedrooms, less_data$bathrooms)\n",
    "str(x)"
   ]
  },
  {
   "cell_type": "code",
   "execution_count": null,
   "metadata": {},
   "outputs": [],
   "source": [
    "# lapply() is used to apply a function to each element of a list. lapply(x) returns a list that has the same \n",
    "# length as the number of elements in x.\n",
    "\n",
    "lapply_example = lapply(x, FUN = mean)\n",
    "\n",
    "lapply_example\n",
    "\n",
    "# lapply() calculates the means of each element in x as x$1, x$2, and returns two elements such as res$1, res$2. \n",
    "# The elements are returned as a list.\n",
    "\n",
    "class(lapply_example)"
   ]
  },
  {
   "cell_type": "code",
   "execution_count": null,
   "metadata": {},
   "outputs": [],
   "source": [
    "# sapply() is used When you want to apply a function to each element of a list. The returned values are in the\n",
    "# form of a vector, rather than a list.  lapply() and sapply() are similar, except that lapply() returns a list\n",
    "# and sapply() returns a vector.\n",
    "\n",
    "sapply_example = sapply(less_data, FUN = mean)\n",
    "\n",
    "sapply_example\n",
    "\n",
    "class(sapply_example)"
   ]
  },
  {
   "cell_type": "code",
   "execution_count": null,
   "metadata": {},
   "outputs": [],
   "source": [
    "# mapply() is used to apply a function to multiple list or vector arguments.  It is a multivariate version of \n",
    "# sapply().  It vectorizes arguments to functions that don't usually accept vectors as arguments.\n",
    "# mapply() applies a function to the first element of each … argument, and then applies the function \n",
    "# to the second element of each argument, and then the third, and so on.  The result is coerced into a \n",
    "# vector/array, as with sapply().\n",
    "\n",
    "# For example, in our dataset there are different variables measuring different areas -- e.g., sqft_living, \n",
    "# sqft_lot, sqft_above, sqft_basement, sqft_living15, and sqft_lot15. If we wanted to find the sum of these\n",
    "# areas for each house, we could use the mapply() function.\n",
    "\n",
    "mapply_example = mapply(sum, less_data$sqft_living, less_data$sqft_lot, less_data$sqft_above,\n",
    "    less_data$sqft_basement, less_data$sqft_living15, less_data$sqft_lot15)\n",
    "\n",
    "head(mapply_example)"
   ]
  },
  {
   "cell_type": "code",
   "execution_count": null,
   "metadata": {},
   "outputs": [],
   "source": [
    "head(less_data)"
   ]
  },
  {
   "cell_type": "markdown",
   "metadata": {},
   "source": [
    "With the mapply() function, the values of the six arguments, as found in the first row, are added together\n",
    "to generate the first value in the output.  The values of the six arguments, as found in the second row, are \n",
    "added together to generate the second output, and so on.  "
   ]
  },
  {
   "cell_type": "code",
   "execution_count": null,
   "metadata": {},
   "outputs": [],
   "source": [
    "# The values for these six variables, as shown in the first row, are  1180 (sqft_living), 5650 (sqft_lot),\n",
    "# 1180 (sqft_above), 0 (sqft_basement), 1340 (sqft_living15), and 5650 (sqft_lot15).  The sum of these numbers\n",
    "# is the value returned by mapply().  \n",
    "\n",
    "1180 + 5650 + 1180 + 0 + 1340 + 5650"
   ]
  },
  {
   "cell_type": "markdown",
   "metadata": {},
   "source": [
    "tapply() is used to apply a function to a subset of a vector, where the subset is defined by some other vector -- usually a factor (i.e., a categorical variable).\n",
    "\n",
    "It is a tabular version of the apply() function, meaning that its input argument should be a categorical variable (i.e., categorical variable), and its argument function is applied to each group."
   ]
  },
  {
   "cell_type": "code",
   "execution_count": null,
   "metadata": {},
   "outputs": [],
   "source": [
    "# Use tapply() to find out the average price a home, given the number of bedrooms in the house.\n",
    "\n",
    "t(tapply(less_data$price, less_data$bedrooms, mean))"
   ]
  },
  {
   "cell_type": "markdown",
   "metadata": {},
   "source": [
    "<span style=\"color:#d37c08; font-weight:700\"> `by` </span> <span style=\"color:#6a85dd\"> function</span>\n",
    "------\n",
    "tapply() can be used to summarize one variable, based on another variable.  But what if we want to summarize many variables?  The `by` function is like an extended version of the tapply() command.\n",
    " \n",
    "The `by` function subsets a data frame by the values of one or more factors (i.e., categorical variables) and applies a function to each subset."
   ]
  },
  {
   "cell_type": "code",
   "execution_count": null,
   "metadata": {},
   "outputs": [],
   "source": [
    "# Here, the data frame is being subset by the \"view\" variable (which has a min value of 0 and a \n",
    "# max value of 4); and within each subset, the summary function is run on both the price and the \n",
    "# sqft_living variables.  \n",
    "\n",
    "by_function_example <- by(less_data[c('price','sqft_living')], less_data$view, summary)\n",
    "\n",
    "by_function_example"
   ]
  },
  {
   "cell_type": "markdown",
   "metadata": {},
   "source": [
    "### 2-way tables\n",
    "------\n",
    "2-way tables are very informative. The table() function creates tabular results of categorical variables.\n",
    "\n",
    "\n",
    "The table below shows the distribution of the number of bathrooms (see column headings) for each count of bedrooms (see row numbers).  \n",
    "It is very detailed and the sums of columns and rows are displayed which indicate \n",
    "number of bedrooms or bathrooms with a specific number. "
   ]
  },
  {
   "cell_type": "code",
   "execution_count": null,
   "metadata": {
    "scrolled": true
   },
   "outputs": [],
   "source": [
    "#The command below produces a 2-way table with a distribution count of every combination of bedrooms and bathrooms. \n",
    "\n",
    "#addmargins() sums the counts of each row and column.\n",
    "\n",
    "bed_and_bath = table(less_data$bedrooms, less_data$bathrooms)\n",
    "\n",
    "addmargins(bed_and_bath)"
   ]
  },
  {
   "cell_type": "markdown",
   "metadata": {},
   "source": [
    "Below is an extended version of the table command which adds a 3rd dimension to the 2-way table. We can see same information as above but for every kind of view (0,1,2,3,4)."
   ]
  },
  {
   "cell_type": "code",
   "execution_count": null,
   "metadata": {},
   "outputs": [],
   "source": [
    "bed_bath_view <- xtabs(~ bedrooms + bathrooms + view, data = housing_prices)\n",
    "bed_bath_view"
   ]
  },
  {
   "cell_type": "code",
   "execution_count": null,
   "metadata": {},
   "outputs": [],
   "source": [
    "# The stat.desc() function gives an elaborate descriptive statistics of input object. Most of the statistics are \n",
    "# commonly used.\n",
    "\n",
    "library(pastecs)\n",
    "\n",
    "options(scipen = 999)\n",
    "\n",
    "stat.desc(less_data)"
   ]
  },
  {
   "cell_type": "code",
   "execution_count": null,
   "metadata": {},
   "outputs": [],
   "source": [
    "# aggregate() works just like groupby in SQL. Here we are grouping data based on the number of bedrooms. The means \n",
    "# of 3 columns (i.e., price, bathrooms, and sqft_living) are returned, grouped by the number of bedrooms present.  \n",
    "\n",
    "aggregate(less_data[c(\"price\",\"bathrooms\",\"sqft_living\")], by = list(bedrooms = less_data$bedrooms), mean)"
   ]
  },
  {
   "cell_type": "markdown",
   "metadata": {},
   "source": [
    "[Additional reading on Summarizing data is suggested](http://www.cookbook-r.com/Manipulating_data/Summarizing_data/)"
   ]
  },
  {
   "cell_type": "markdown",
   "metadata": {},
   "source": [
    "---\n",
    "\n",
    "## Visual Summarization of Data \n",
    "\n",
    "Following are some examples of how to visualize summaries of data with multiple dimensions to show scatterplots, correlations, and distributions. "
   ]
  },
  {
   "cell_type": "code",
   "execution_count": null,
   "metadata": {},
   "outputs": [],
   "source": [
    "library(\"FactoMineR\")\n",
    "library(\"factoextra\")\n",
    "library(\"car\")\n",
    "\n",
    "data(iris)"
   ]
  },
  {
   "cell_type": "code",
   "execution_count": null,
   "metadata": {},
   "outputs": [],
   "source": [
    "options(repr.plot.width=12, repr.plot.height=12)\n",
    "\n",
    "\n",
    "scatterplotMatrix(iris)"
   ]
  },
  {
   "cell_type": "code",
   "execution_count": null,
   "metadata": {},
   "outputs": [],
   "source": [
    "library(GGally)\n",
    "ggpairs(iris[,-5])+ theme_bw()"
   ]
  },
  {
   "cell_type": "code",
   "execution_count": null,
   "metadata": {},
   "outputs": [],
   "source": [
    "p <- ggpairs(iris, aes(color = Species))+ theme_bw()\n",
    "# Change color manually.\n",
    "# Loop through each plot changing relevant scales\n",
    "for(i in 1:p$nrow) {\n",
    "  for(j in 1:p$ncol){\n",
    "    p[i,j] <- p[i,j] + \n",
    "        scale_fill_manual(values=c(\"#00AFBB\", \"#E7B800\", \"#FC4E07\")) +\n",
    "        scale_color_manual(values=c(\"#00AFBB\", \"#E7B800\", \"#FC4E07\"))  \n",
    "  }\n",
    "}\n",
    "p\n"
   ]
  },
  {
   "cell_type": "code",
   "execution_count": null,
   "metadata": {},
   "outputs": [],
   "source": [
    "#This is an example of how to visualize and summarize the results of a PCA analysis \n",
    "\n",
    "my_data <- iris[, -5] # Remove the grouping variable\n",
    "res.pca <- prcomp(my_data, scale = TRUE)\n",
    "fviz_pca_biplot(res.pca, col.ind = iris$Species,\n",
    "                palette = \"jco\", geom = \"point\")"
   ]
  },
  {
   "cell_type": "code",
   "execution_count": null,
   "metadata": {},
   "outputs": [],
   "source": [
    "# This visualizes the clusters in the data \n",
    "USArrests %>%\n",
    "  scale() %>%                           # Scale the data\n",
    "  dist() %>%                            # Compute distance matrix\n",
    "  hclust(method = \"ward.D2\") %>%        # Hierarchical clustering\n",
    "  fviz_dend(cex = 0.5, k = 4, palette = \"jco\") # Visualize and cut \n",
    "                                              # into 4 groups"
   ]
  },
  {
   "cell_type": "code",
   "execution_count": null,
   "metadata": {},
   "outputs": [],
   "source": [
    "data(\"housetasks\")"
   ]
  },
  {
   "cell_type": "code",
   "execution_count": null,
   "metadata": {},
   "outputs": [],
   "source": [
    "library(ggpubr)\n",
    "theme_set(theme_pubr())\n",
    "\n",
    "ggballoonplot(housetasks, fill = \"value\")+\n",
    "  scale_fill_viridis_c(option = \"C\")"
   ]
  },
  {
   "cell_type": "code",
   "execution_count": null,
   "metadata": {},
   "outputs": [],
   "source": []
  }
 ],
 "metadata": {
  "kernelspec": {
   "display_name": "R",
   "language": "R",
   "name": "ir"
  },
  "language_info": {
   "codemirror_mode": "r",
   "file_extension": ".r",
   "mimetype": "text/x-r-source",
   "name": "R",
   "pygments_lexer": "r",
   "version": "4.0.5"
  }
 },
 "nbformat": 4,
 "nbformat_minor": 1
}
