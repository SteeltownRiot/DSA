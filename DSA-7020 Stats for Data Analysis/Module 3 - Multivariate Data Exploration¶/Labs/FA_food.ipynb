{
 "cells": [
  {
   "cell_type": "markdown",
   "metadata": {},
   "source": [
    "# Factor Analysis on Food Data\n",
    "\n",
    "In this notebook, we will do a factor analysis (FA) on food texture data set. The variables represent the texture measurements of pastry-type foods. \n",
    "\n",
    "The data set consists of 50 rows (observations) and 5 columns (features/variables). The features are:\n",
    "\n",
    " - Oil: percentage oil in the pastry\n",
    " - Density: the product’s density (the higher the number, the more dense the product)\n",
    " - Crispy: a crispiness measurement, on a scale from 7 to 15, with 15 being more crispy.\n",
    " - Fracture: the angle, in degrees, through which the pasty can be slowly bent before it fractures (the higher the number, the more it can bend). \n",
    " - Hardness: a sharp point is used to measure the amount of force required before breakage occurs."
   ]
  },
  {
   "cell_type": "code",
   "execution_count": null,
   "metadata": {},
   "outputs": [],
   "source": [
    "food <- read.csv(\"https://userpage.fu-berlin.de/soga/300/30100_data_sets/food-texture.csv\", row.names = \"X\")\n",
    "str(food)"
   ]
  },
  {
   "cell_type": "code",
   "execution_count": null,
   "metadata": {},
   "outputs": [],
   "source": [
    "food.fa <- factanal(food, factors = 2)"
   ]
  },
  {
   "cell_type": "code",
   "execution_count": null,
   "metadata": {},
   "outputs": [],
   "source": [
    "food.fa"
   ]
  },
  {
   "cell_type": "markdown",
   "metadata": {},
   "source": [
    "Loadings less than 0.1 do not show up in the table. P-value suggests that two factors are enough to capture the full dimensionality of the data. \n",
    "\n",
    "Before we interpret the results of the factor analysis, recall the basic idea behind \n",
    "it. Factor analysis creates linear combinations to abstract the variables' underlying communality. To the extent that the variables have an underlying communality, fewer factors capture most of the variance in the data set. This allows us to aggregate a large number of observable variables in a model to represent an underlying concept, making it easier to understand the data."
   ]
  },
  {
   "cell_type": "code",
   "execution_count": null,
   "metadata": {},
   "outputs": [],
   "source": [
    "food.fa$uniquenesses\n"
   ]
  },
  {
   "cell_type": "code",
   "execution_count": null,
   "metadata": {},
   "outputs": [],
   "source": [
    "# Communality\n",
    "1 - food.fa$uniquenesses"
   ]
  },
  {
   "cell_type": "markdown",
   "metadata": {},
   "source": [
    "Communality above suggests that two factors are adequate to represent the most variance in the data. Let's try to interpret the factors. First, plot the loadings. "
   ]
  },
  {
   "cell_type": "code",
   "execution_count": null,
   "metadata": {},
   "outputs": [],
   "source": [
    "options(repr.plot.width=12, repr.plot.height=12)\n",
    "\n",
    "plot(food.fa$loadings[,1], \n",
    "     food.fa$loadings[,2],\n",
    "     xlab = \"Factor 1\", \n",
    "     ylab = \"Factor 2\", \n",
    "     ylim = c(-1,1),\n",
    "     xlim = c(-1,1),\n",
    "     main = \"No rotation\")\n",
    "text(food.fa$loadings[,1]-0.08, \n",
    "     food.fa$loadings[,2]+0.08,\n",
    "      colnames(food),\n",
    "      col=\"blue\")\n",
    "\n",
    "abline(h = 0, v = 0)\n"
   ]
  },
  {
   "cell_type": "markdown",
   "metadata": {},
   "source": [
    "Taking a look on the figure above, it seems like the Factor 1 accounts for pastry, which is dense and can be bend a lot before it breaks, it also accounts for **less** crispy products (sign of Crispy loading for Factor 1) and less oily. \n",
    "\n",
    "Factor 2 seems to account for pastry that is crispy and hard to break apart. Also, the sign of the loading for Fracture is negative, meaning Factor 2 accounts for **less** flexible products. It doesn't seem to represent oil or density\n",
    "\n",
    "Based on these observations, we could probably call the factors soft pastry (Factor 1) and hard pastry (Factor 2). \n",
    "\n",
    "Note that the communality values for oil and hardness are not too high. They are not represented too well by these two factors. "
   ]
  },
  {
   "cell_type": "code",
   "execution_count": null,
   "metadata": {},
   "outputs": [],
   "source": [
    "loadings(food.fa)"
   ]
  }
 ],
 "metadata": {
  "kernelspec": {
   "display_name": "R",
   "language": "R",
   "name": "ir"
  },
  "language_info": {
   "codemirror_mode": "r",
   "file_extension": ".r",
   "mimetype": "text/x-r-source",
   "name": "R",
   "pygments_lexer": "r",
   "version": "4.0.5"
  }
 },
 "nbformat": 4,
 "nbformat_minor": 2
}
