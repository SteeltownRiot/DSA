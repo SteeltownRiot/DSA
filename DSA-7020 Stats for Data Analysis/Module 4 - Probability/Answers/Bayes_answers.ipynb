{
 "cells": [
  {
   "cell_type": "markdown",
   "metadata": {},
   "source": [
    "<span style=\"color:#1871d6; font-size:24px; font-weight:700\"> Bayes Theorem </span>\n",
    "\n",
    "The cigar example in the lab illustrates the application of Bayes' theorem with its calculation using the formula. \n",
    "Unfortunately, that calculation is complicated and can cause confusion and/or incorrect substitution of the involved\n",
    "probability values. \n",
    "Fortunately, here is another approach that is much more intuitive and easier:\n",
    "\n",
    "Assume some convenient value for the total of all items involved, \n",
    "then construct a table of rows and columns with the individual cell frequencies based on the known probabilities.\n",
    "\n",
    "For example, let's assume that the adult population in Boone County, Missouri is 100,000. \n",
    "Now we can use the given information to create a table.\n",
    "\n",
    "*Number of males who smoke cigars:* \n",
    "51% of adults are males; so there are 51,000 males. \n",
    "If 9.5% of them smoke, that makes 0.095 x 51,000 = 4845. \n",
    "Then, males who do not smoke are 51,000 - 4845 = 46,155.\n",
    "See the table where these values go.\n",
    "\n",
    "\n",
    "*Number of females who smoke cigars:* 49% of the adults are females, that makes 49,000. \n",
    "1.7% of them are smokers, so 0.017 x 49,000 = 833. \n",
    "The number of females who do not smoke is 49,000 - 833 = 48,167. \n",
    "Again look at the table below. "
   ]
  },
  {
   "cell_type": "code",
   "execution_count": 1,
   "metadata": {},
   "outputs": [
    {
     "data": {
      "text/html": [
       "<table class=\"dataframe\">\n",
       "<caption>A table: 3 × 3 of type dbl</caption>\n",
       "<thead>\n",
       "\t<tr><th></th><th scope=col>smoker</th><th scope=col>nonsmoker</th><th scope=col>Sum</th></tr>\n",
       "</thead>\n",
       "<tbody>\n",
       "\t<tr><th scope=row>male</th><td>4845</td><td>46155</td><td> 51000</td></tr>\n",
       "\t<tr><th scope=row>female</th><td> 833</td><td>48167</td><td> 49000</td></tr>\n",
       "\t<tr><th scope=row>Sum</th><td>5678</td><td>94322</td><td>100000</td></tr>\n",
       "</tbody>\n",
       "</table>\n"
      ],
      "text/latex": [
       "A table: 3 × 3 of type dbl\n",
       "\\begin{tabular}{r|lll}\n",
       "  & smoker & nonsmoker & Sum\\\\\n",
       "\\hline\n",
       "\tmale & 4845 & 46155 &  51000\\\\\n",
       "\tfemale &  833 & 48167 &  49000\\\\\n",
       "\tSum & 5678 & 94322 & 100000\\\\\n",
       "\\end{tabular}\n"
      ],
      "text/markdown": [
       "\n",
       "A table: 3 × 3 of type dbl\n",
       "\n",
       "| <!--/--> | smoker | nonsmoker | Sum |\n",
       "|---|---|---|---|\n",
       "| male | 4845 | 46155 |  51000 |\n",
       "| female |  833 | 48167 |  49000 |\n",
       "| Sum | 5678 | 94322 | 100000 |\n",
       "\n"
      ],
      "text/plain": [
       "       smoker nonsmoker Sum   \n",
       "male   4845   46155      51000\n",
       "female  833   48167      49000\n",
       "Sum    5678   94322     100000"
      ]
     },
     "metadata": {},
     "output_type": "display_data"
    }
   ],
   "source": [
    "cigar <- matrix(c(4845, 833, 46155, 48167), ncol = 2)\n",
    "colnames(cigar) <- c('smoker', 'nonsmoker')\n",
    "rownames(cigar) <- c('male', 'female')\n",
    "cigar.table <- as.table(cigar)\n",
    "\n",
    "addmargins(cigar.table)"
   ]
  },
  {
   "cell_type": "markdown",
   "metadata": {},
   "source": [
    "The above table involves simple arithmetic. \n",
    "Simply partition the assumed population into the different cell categories by finding suitable percentages.\n",
    "\n",
    "Now we can easily address the key question as follows: \n",
    "To find the probability of getting a male subject, given that the subject smokes cigars, \n",
    "simply use the same conditional probability described before. \n",
    "\n",
    "To find the probability of getting a male given that the subject smokes, \n",
    "restrict the table to the column of cigar smokers, \n",
    "then find the probability of getting a male in that column.\n",
    "Among the 5678 cigar smokers, there are 4845 males, so the probability we seek is 4845/5678 = 0.85329341. \n",
    "That is, $P(M | C)$ = 4845/5678 = 0.85329341 = 0.853 (rounded).\n",
    "\n",
    "**Activity 1:** \n",
    "Now, your turn: \n",
    "The actual population of Boone County, Missouri is 170,733 (as of 2013).\n",
    "Create the above table with actual population values for the given percentages and find the actual $P(M | C)$."
   ]
  },
  {
   "cell_type": "code",
   "execution_count": 2,
   "metadata": {},
   "outputs": [
    {
     "data": {
      "text/html": [
       "<table class=\"dataframe\">\n",
       "<caption>A table: 3 × 3 of type dbl</caption>\n",
       "<thead>\n",
       "\t<tr><th></th><th scope=col>smoker</th><th scope=col>nonsmoker</th><th scope=col>Sum</th></tr>\n",
       "</thead>\n",
       "<tbody>\n",
       "\t<tr><th scope=row>male</th><td>8272</td><td> 78802</td><td> 87074</td></tr>\n",
       "\t<tr><th scope=row>female</th><td>1422</td><td> 82237</td><td> 83659</td></tr>\n",
       "\t<tr><th scope=row>Sum</th><td>9694</td><td>161039</td><td>170733</td></tr>\n",
       "</tbody>\n",
       "</table>\n"
      ],
      "text/latex": [
       "A table: 3 × 3 of type dbl\n",
       "\\begin{tabular}{r|lll}\n",
       "  & smoker & nonsmoker & Sum\\\\\n",
       "\\hline\n",
       "\tmale & 8272 &  78802 &  87074\\\\\n",
       "\tfemale & 1422 &  82237 &  83659\\\\\n",
       "\tSum & 9694 & 161039 & 170733\\\\\n",
       "\\end{tabular}\n"
      ],
      "text/markdown": [
       "\n",
       "A table: 3 × 3 of type dbl\n",
       "\n",
       "| <!--/--> | smoker | nonsmoker | Sum |\n",
       "|---|---|---|---|\n",
       "| male | 8272 |  78802 |  87074 |\n",
       "| female | 1422 |  82237 |  83659 |\n",
       "| Sum | 9694 | 161039 | 170733 |\n",
       "\n"
      ],
      "text/plain": [
       "       smoker nonsmoker Sum   \n",
       "male   8272    78802     87074\n",
       "female 1422    82237     83659\n",
       "Sum    9694   161039    170733"
      ]
     },
     "metadata": {},
     "output_type": "display_data"
    }
   ],
   "source": [
    "# Add your code here\n",
    "# --------------------\n",
    "\n",
    "pop = 170733\n",
    "m = round(0.51*pop)\n",
    "f = round(0.49*pop)\n",
    "ms = round(m * 0.095)\n",
    "mns = m - ms\n",
    "fs = round(f * 0.017)\n",
    "fns = f - fs\n",
    "cigar2 <- matrix(c(ms, fs, mns, fns), ncol=2)\n",
    "colnames(cigar2) <- c('smoker','nonsmoker')\n",
    "rownames(cigar2) <- c('male','female')\n",
    "cigar2.table <- as.table(cigar2)\n",
    "\n",
    "addmargins(cigar2.table)"
   ]
  },
  {
   "cell_type": "code",
   "execution_count": 3,
   "metadata": {},
   "outputs": [
    {
     "name": "stdout",
     "output_type": "stream",
     "text": [
      "[1] \"P(M|C) = P(M and C) / P(C) =  0.853311326593769\"\n"
     ]
    }
   ],
   "source": [
    "print(paste(\"P(M|C) = P(M and C) / P(C) = \", 8272/9694))"
   ]
  },
  {
   "cell_type": "markdown",
   "metadata": {},
   "source": [
    "a) Now, using the same table, randomly select an individual, what is the prior probability that the selected person is a female?\n",
    "\n",
    "b) You later learn that the randomly selected person was smoking a cigar. \n",
    "Use this additional information to find the posterior probability that the selected person is a female."
   ]
  },
  {
   "cell_type": "code",
   "execution_count": 4,
   "metadata": {},
   "outputs": [
    {
     "data": {
      "text/html": [
       "<table class=\"dataframe\">\n",
       "<caption>A matrix: 3 × 3 of type dbl</caption>\n",
       "<thead>\n",
       "\t<tr><th></th><th scope=col>smoker</th><th scope=col>nonsmoker</th><th scope=col>Sum</th></tr>\n",
       "</thead>\n",
       "<tbody>\n",
       "\t<tr><th scope=row>male</th><td>0.048449919</td><td>0.4615511</td><td>0.510001</td></tr>\n",
       "\t<tr><th scope=row>female</th><td>0.008328794</td><td>0.4816702</td><td>0.489999</td></tr>\n",
       "\t<tr><th scope=row>Sum</th><td>0.056778713</td><td>0.9432213</td><td>1.000000</td></tr>\n",
       "</tbody>\n",
       "</table>\n"
      ],
      "text/latex": [
       "A matrix: 3 × 3 of type dbl\n",
       "\\begin{tabular}{r|lll}\n",
       "  & smoker & nonsmoker & Sum\\\\\n",
       "\\hline\n",
       "\tmale & 0.048449919 & 0.4615511 & 0.510001\\\\\n",
       "\tfemale & 0.008328794 & 0.4816702 & 0.489999\\\\\n",
       "\tSum & 0.056778713 & 0.9432213 & 1.000000\\\\\n",
       "\\end{tabular}\n"
      ],
      "text/markdown": [
       "\n",
       "A matrix: 3 × 3 of type dbl\n",
       "\n",
       "| <!--/--> | smoker | nonsmoker | Sum |\n",
       "|---|---|---|---|\n",
       "| male | 0.048449919 | 0.4615511 | 0.510001 |\n",
       "| female | 0.008328794 | 0.4816702 | 0.489999 |\n",
       "| Sum | 0.056778713 | 0.9432213 | 1.000000 |\n",
       "\n"
      ],
      "text/plain": [
       "       smoker      nonsmoker Sum     \n",
       "male   0.048449919 0.4615511 0.510001\n",
       "female 0.008328794 0.4816702 0.489999\n",
       "Sum    0.056778713 0.9432213 1.000000"
      ]
     },
     "metadata": {},
     "output_type": "display_data"
    }
   ],
   "source": [
    "addmargins(prop.table(cigar2))"
   ]
  },
  {
   "cell_type": "code",
   "execution_count": 5,
   "metadata": {},
   "outputs": [
    {
     "name": "stdout",
     "output_type": "stream",
     "text": [
      "[1] \"P(F) =  0.489999004293253\"\n",
      "[1] \"P(F|C) = P(F and C) / P(C) =  0.146688673406231\"\n"
     ]
    }
   ],
   "source": [
    "# Add your code here\n",
    "# --------------------\n",
    "# a) prior probability of a person being female is simply 0.49. That is the percentage of the females in the population.\n",
    "# If we don't know any extra information, we use that.\n",
    "print(paste(\"P(F) = \", 83659/170733))\n",
    "\n",
    "\n",
    "# b) posterior probability is computed after we learn some extra information; here it is the fact that the person is a smoker.\n",
    "# We compute P(F|C); the probability that the person is female given that the person is a cigar smoker. \n",
    "print(paste(\"P(F|C) = P(F and C) / P(C) = \", 1422/9694))\n"
   ]
  },
  {
   "cell_type": "markdown",
   "metadata": {},
   "source": [
    "Load the framingham data from the directory '/datasets/framingham'."
   ]
  },
  {
   "cell_type": "code",
   "execution_count": 6,
   "metadata": {},
   "outputs": [
    {
     "data": {
      "text/html": [
       "<table class=\"dataframe\">\n",
       "<caption>A data.frame: 6 × 16</caption>\n",
       "<thead>\n",
       "\t<tr><th></th><th scope=col>male</th><th scope=col>age</th><th scope=col>education</th><th scope=col>currentSmoker</th><th scope=col>cigsPerDay</th><th scope=col>BPMeds</th><th scope=col>prevalentStroke</th><th scope=col>prevalentHyp</th><th scope=col>diabetes</th><th scope=col>totChol</th><th scope=col>sysBP</th><th scope=col>diaBP</th><th scope=col>BMI</th><th scope=col>heartRate</th><th scope=col>glucose</th><th scope=col>TenYearCHD</th></tr>\n",
       "\t<tr><th></th><th scope=col>&lt;int&gt;</th><th scope=col>&lt;int&gt;</th><th scope=col>&lt;int&gt;</th><th scope=col>&lt;int&gt;</th><th scope=col>&lt;int&gt;</th><th scope=col>&lt;int&gt;</th><th scope=col>&lt;int&gt;</th><th scope=col>&lt;int&gt;</th><th scope=col>&lt;int&gt;</th><th scope=col>&lt;int&gt;</th><th scope=col>&lt;dbl&gt;</th><th scope=col>&lt;dbl&gt;</th><th scope=col>&lt;dbl&gt;</th><th scope=col>&lt;int&gt;</th><th scope=col>&lt;int&gt;</th><th scope=col>&lt;int&gt;</th></tr>\n",
       "</thead>\n",
       "<tbody>\n",
       "\t<tr><th scope=row>1</th><td>1</td><td>39</td><td>4</td><td>0</td><td> 0</td><td>0</td><td>0</td><td>0</td><td>0</td><td>195</td><td>106.0</td><td> 70</td><td>26.97</td><td>80</td><td> 77</td><td>0</td></tr>\n",
       "\t<tr><th scope=row>2</th><td>0</td><td>46</td><td>2</td><td>0</td><td> 0</td><td>0</td><td>0</td><td>0</td><td>0</td><td>250</td><td>121.0</td><td> 81</td><td>28.73</td><td>95</td><td> 76</td><td>0</td></tr>\n",
       "\t<tr><th scope=row>3</th><td>1</td><td>48</td><td>1</td><td>1</td><td>20</td><td>0</td><td>0</td><td>0</td><td>0</td><td>245</td><td>127.5</td><td> 80</td><td>25.34</td><td>75</td><td> 70</td><td>0</td></tr>\n",
       "\t<tr><th scope=row>4</th><td>0</td><td>61</td><td>3</td><td>1</td><td>30</td><td>0</td><td>0</td><td>1</td><td>0</td><td>225</td><td>150.0</td><td> 95</td><td>28.58</td><td>65</td><td>103</td><td>1</td></tr>\n",
       "\t<tr><th scope=row>5</th><td>0</td><td>46</td><td>3</td><td>1</td><td>23</td><td>0</td><td>0</td><td>0</td><td>0</td><td>285</td><td>130.0</td><td> 84</td><td>23.10</td><td>85</td><td> 85</td><td>0</td></tr>\n",
       "\t<tr><th scope=row>6</th><td>0</td><td>43</td><td>2</td><td>0</td><td> 0</td><td>0</td><td>0</td><td>1</td><td>0</td><td>228</td><td>180.0</td><td>110</td><td>30.30</td><td>77</td><td> 99</td><td>0</td></tr>\n",
       "</tbody>\n",
       "</table>\n"
      ],
      "text/latex": [
       "A data.frame: 6 × 16\n",
       "\\begin{tabular}{r|llllllllllllllll}\n",
       "  & male & age & education & currentSmoker & cigsPerDay & BPMeds & prevalentStroke & prevalentHyp & diabetes & totChol & sysBP & diaBP & BMI & heartRate & glucose & TenYearCHD\\\\\n",
       "  & <int> & <int> & <int> & <int> & <int> & <int> & <int> & <int> & <int> & <int> & <dbl> & <dbl> & <dbl> & <int> & <int> & <int>\\\\\n",
       "\\hline\n",
       "\t1 & 1 & 39 & 4 & 0 &  0 & 0 & 0 & 0 & 0 & 195 & 106.0 &  70 & 26.97 & 80 &  77 & 0\\\\\n",
       "\t2 & 0 & 46 & 2 & 0 &  0 & 0 & 0 & 0 & 0 & 250 & 121.0 &  81 & 28.73 & 95 &  76 & 0\\\\\n",
       "\t3 & 1 & 48 & 1 & 1 & 20 & 0 & 0 & 0 & 0 & 245 & 127.5 &  80 & 25.34 & 75 &  70 & 0\\\\\n",
       "\t4 & 0 & 61 & 3 & 1 & 30 & 0 & 0 & 1 & 0 & 225 & 150.0 &  95 & 28.58 & 65 & 103 & 1\\\\\n",
       "\t5 & 0 & 46 & 3 & 1 & 23 & 0 & 0 & 0 & 0 & 285 & 130.0 &  84 & 23.10 & 85 &  85 & 0\\\\\n",
       "\t6 & 0 & 43 & 2 & 0 &  0 & 0 & 0 & 1 & 0 & 228 & 180.0 & 110 & 30.30 & 77 &  99 & 0\\\\\n",
       "\\end{tabular}\n"
      ],
      "text/markdown": [
       "\n",
       "A data.frame: 6 × 16\n",
       "\n",
       "| <!--/--> | male &lt;int&gt; | age &lt;int&gt; | education &lt;int&gt; | currentSmoker &lt;int&gt; | cigsPerDay &lt;int&gt; | BPMeds &lt;int&gt; | prevalentStroke &lt;int&gt; | prevalentHyp &lt;int&gt; | diabetes &lt;int&gt; | totChol &lt;int&gt; | sysBP &lt;dbl&gt; | diaBP &lt;dbl&gt; | BMI &lt;dbl&gt; | heartRate &lt;int&gt; | glucose &lt;int&gt; | TenYearCHD &lt;int&gt; |\n",
       "|---|---|---|---|---|---|---|---|---|---|---|---|---|---|---|---|---|\n",
       "| 1 | 1 | 39 | 4 | 0 |  0 | 0 | 0 | 0 | 0 | 195 | 106.0 |  70 | 26.97 | 80 |  77 | 0 |\n",
       "| 2 | 0 | 46 | 2 | 0 |  0 | 0 | 0 | 0 | 0 | 250 | 121.0 |  81 | 28.73 | 95 |  76 | 0 |\n",
       "| 3 | 1 | 48 | 1 | 1 | 20 | 0 | 0 | 0 | 0 | 245 | 127.5 |  80 | 25.34 | 75 |  70 | 0 |\n",
       "| 4 | 0 | 61 | 3 | 1 | 30 | 0 | 0 | 1 | 0 | 225 | 150.0 |  95 | 28.58 | 65 | 103 | 1 |\n",
       "| 5 | 0 | 46 | 3 | 1 | 23 | 0 | 0 | 0 | 0 | 285 | 130.0 |  84 | 23.10 | 85 |  85 | 0 |\n",
       "| 6 | 0 | 43 | 2 | 0 |  0 | 0 | 0 | 1 | 0 | 228 | 180.0 | 110 | 30.30 | 77 |  99 | 0 |\n",
       "\n"
      ],
      "text/plain": [
       "  male age education currentSmoker cigsPerDay BPMeds prevalentStroke\n",
       "1 1    39  4         0              0         0      0              \n",
       "2 0    46  2         0              0         0      0              \n",
       "3 1    48  1         1             20         0      0              \n",
       "4 0    61  3         1             30         0      0              \n",
       "5 0    46  3         1             23         0      0              \n",
       "6 0    43  2         0              0         0      0              \n",
       "  prevalentHyp diabetes totChol sysBP diaBP BMI   heartRate glucose TenYearCHD\n",
       "1 0            0        195     106.0  70   26.97 80         77     0         \n",
       "2 0            0        250     121.0  81   28.73 95         76     0         \n",
       "3 0            0        245     127.5  80   25.34 75         70     0         \n",
       "4 1            0        225     150.0  95   28.58 65        103     1         \n",
       "5 0            0        285     130.0  84   23.10 85         85     0         \n",
       "6 1            0        228     180.0 110   30.30 77         99     0         "
      ]
     },
     "metadata": {},
     "output_type": "display_data"
    }
   ],
   "source": [
    "framingham_data <- read.csv(\"/dsa/data/all_datasets/framingham/framingham.csv\")\n",
    "head(framingham_data)"
   ]
  },
  {
   "cell_type": "markdown",
   "metadata": {},
   "source": [
    "**Activity 2:** Create a two-way table from this data set with diabetes condition in the columns and gender in the rows. Use addmargins to add totals.\n"
   ]
  },
  {
   "cell_type": "code",
   "execution_count": 7,
   "metadata": {},
   "outputs": [
    {
     "data": {
      "text/html": [
       "<table class=\"dataframe\">\n",
       "<caption>A table: 3 × 3 of type dbl</caption>\n",
       "<thead>\n",
       "\t<tr><th></th><th scope=col>nondiabetes</th><th scope=col>diabetes</th><th scope=col>Sum</th></tr>\n",
       "</thead>\n",
       "<tbody>\n",
       "\t<tr><th scope=row>female</th><td>2363</td><td> 57</td><td>2420</td></tr>\n",
       "\t<tr><th scope=row>male</th><td>1768</td><td> 52</td><td>1820</td></tr>\n",
       "\t<tr><th scope=row>Sum</th><td>4131</td><td>109</td><td>4240</td></tr>\n",
       "</tbody>\n",
       "</table>\n"
      ],
      "text/latex": [
       "A table: 3 × 3 of type dbl\n",
       "\\begin{tabular}{r|lll}\n",
       "  & nondiabetes & diabetes & Sum\\\\\n",
       "\\hline\n",
       "\tfemale & 2363 &  57 & 2420\\\\\n",
       "\tmale & 1768 &  52 & 1820\\\\\n",
       "\tSum & 4131 & 109 & 4240\\\\\n",
       "\\end{tabular}\n"
      ],
      "text/markdown": [
       "\n",
       "A table: 3 × 3 of type dbl\n",
       "\n",
       "| <!--/--> | nondiabetes | diabetes | Sum |\n",
       "|---|---|---|---|\n",
       "| female | 2363 |  57 | 2420 |\n",
       "| male | 1768 |  52 | 1820 |\n",
       "| Sum | 4131 | 109 | 4240 |\n",
       "\n"
      ],
      "text/plain": [
       "        diabetes\n",
       "male     nondiabetes diabetes Sum \n",
       "  female 2363         57      2420\n",
       "  male   1768         52      1820\n",
       "  Sum    4131        109      4240"
      ]
     },
     "metadata": {},
     "output_type": "display_data"
    }
   ],
   "source": [
    "#dia <- with(framingham_data,table(diabetes,male)) # <-- this was wrong.\n",
    "dia <- with(framingham_data,table(male,diabetes))\n",
    "colnames(dia) <- c('nondiabetes','diabetes')\n",
    "rownames(dia) <- c('female','male')\n",
    "addmargins(dia)"
   ]
  },
  {
   "cell_type": "markdown",
   "metadata": {},
   "source": [
    "**Activity 3:** What is the probability that an individual has diabetes, given that the individual is female?  Let <b>d</b> be an event of diabetes and <b>d'</b> be event of nondiabetes.\n",
    "Similarly let $f$ be the event of female and $f'$ be event of male. \n",
    "Find $P(d | f)$ using Bayes formula.\n",
    "\n",
    "            \n",
    "                         p(d) * p(f|d)\n",
    "     p(d|f) =  -------------------------------------\n",
    "               [p(d) * p(f|d)] + [ p(d') * p(f|d')]"
   ]
  },
  {
   "cell_type": "markdown",
   "metadata": {},
   "source": [
    "**The denominator is simply p(f)** partitioned by d (remember the picture in the lab notebook); sometimes writing it in this form is more useful if we have multiple pieces of information that cover the space of events (like in the painting competition example). \n",
    "\n",
    "Let's compute it using both the multiplication rule and the Bayes rule. "
   ]
  },
  {
   "cell_type": "code",
   "execution_count": 8,
   "metadata": {},
   "outputs": [
    {
     "name": "stdout",
     "output_type": "stream",
     "text": [
      "[1] \"p(d|f) = p(d and f)/p(f) =  0.0235537190082645\"\n"
     ]
    }
   ],
   "source": [
    "# Add your code here\n",
    "# --------------------\n",
    "# Multiplication rule: \n",
    "print(paste(\"p(d|f) = p(d and f)/p(f) = \", 57/2420))"
   ]
  },
  {
   "cell_type": "code",
   "execution_count": 9,
   "metadata": {},
   "outputs": [
    {
     "name": "stdout",
     "output_type": "stream",
     "text": [
      "[1] \"p(d|f) = p(d and f)/p(f) = p(d) * p(f|d) / p(f) =  0.0235537190082645\"\n"
     ]
    }
   ],
   "source": [
    "# Bayes rule: \n",
    "print(paste(\"p(d|f) = p(d and f)/p(f) = p(d) * p(f|d) / p(f) = \", (109/4240)*(57/109) / (2420/4240)))"
   ]
  },
  {
   "cell_type": "code",
   "execution_count": 10,
   "metadata": {},
   "outputs": [
    {
     "data": {
      "text/html": [
       "<table class=\"dataframe\">\n",
       "<caption>A table: 3 × 3 of type dbl</caption>\n",
       "<thead>\n",
       "\t<tr><th></th><th scope=col>nondiabetes</th><th scope=col>diabetes</th><th scope=col>Sum</th></tr>\n",
       "</thead>\n",
       "<tbody>\n",
       "\t<tr><th scope=row>female</th><td>0.5573113</td><td>0.01344340</td><td>0.5707547</td></tr>\n",
       "\t<tr><th scope=row>male</th><td>0.4169811</td><td>0.01226415</td><td>0.4292453</td></tr>\n",
       "\t<tr><th scope=row>Sum</th><td>0.9742925</td><td>0.02570755</td><td>1.0000000</td></tr>\n",
       "</tbody>\n",
       "</table>\n"
      ],
      "text/latex": [
       "A table: 3 × 3 of type dbl\n",
       "\\begin{tabular}{r|lll}\n",
       "  & nondiabetes & diabetes & Sum\\\\\n",
       "\\hline\n",
       "\tfemale & 0.5573113 & 0.01344340 & 0.5707547\\\\\n",
       "\tmale & 0.4169811 & 0.01226415 & 0.4292453\\\\\n",
       "\tSum & 0.9742925 & 0.02570755 & 1.0000000\\\\\n",
       "\\end{tabular}\n"
      ],
      "text/markdown": [
       "\n",
       "A table: 3 × 3 of type dbl\n",
       "\n",
       "| <!--/--> | nondiabetes | diabetes | Sum |\n",
       "|---|---|---|---|\n",
       "| female | 0.5573113 | 0.01344340 | 0.5707547 |\n",
       "| male | 0.4169811 | 0.01226415 | 0.4292453 |\n",
       "| Sum | 0.9742925 | 0.02570755 | 1.0000000 |\n",
       "\n"
      ],
      "text/plain": [
       "        diabetes\n",
       "male     nondiabetes diabetes   Sum      \n",
       "  female 0.5573113   0.01344340 0.5707547\n",
       "  male   0.4169811   0.01226415 0.4292453\n",
       "  Sum    0.9742925   0.02570755 1.0000000"
      ]
     },
     "metadata": {},
     "output_type": "display_data"
    }
   ],
   "source": [
    "# easier with prop table \n",
    "addmargins(prop.table(dia))\n"
   ]
  },
  {
   "cell_type": "code",
   "execution_count": 11,
   "metadata": {},
   "outputs": [
    {
     "name": "stdout",
     "output_type": "stream",
     "text": [
      "[1] \"p(d|f) = p(d) * p(f|d) / p(f) =  0.0235537263206067\"\n"
     ]
    }
   ],
   "source": [
    "print(paste(\"p(d|f) = p(d) * p(f|d) / p(f) = \", 0.02570755 * (0.01344340/0.02570755) /0.5707547  ))\n",
    "\n",
    "# You can also see that p(f) and [p(d) * p(f|d)] + [ p(d') * p(f|d')] are the same probabilities. \n"
   ]
  },
  {
   "cell_type": "markdown",
   "metadata": {},
   "source": [
    "**Activity 4:** Dangerous fires are rare (1%), but smoke is fairly common (10%) due to barbecues, and 90% of dangerous fires make smoke. What is the probability of dangerous Fire when there is Smoke?\n",
    "\n",
    "Let's set up the probabilities: P(Fire), P(Smoke), P(Smoke|Fire), P(Fire|Smoke).\n",
    "\n",
    "Which one are we looking for? Write the formula and compute the probability of dangerous Fire given there is Smoke."
   ]
  },
  {
   "cell_type": "raw",
   "metadata": {},
   "source": [
    "# Write the formula here\n",
    "#-------------------------\n",
    "\n",
    "We have P(Smoke|Fire) and we are looking for (Fire|Smoke), so we use Bayes rule: \n",
    "\n",
    "P(Fire|Smoke) = P(Fire and Smoke) / P(Smoke) = P(Smoke|Fire)*P(Fire)/P(Smoke)\n",
    "\n",
    "\n",
    "\n"
   ]
  },
  {
   "cell_type": "code",
   "execution_count": 12,
   "metadata": {},
   "outputs": [
    {
     "name": "stdout",
     "output_type": "stream",
     "text": [
      "[1] \"P(Fire|Smoke) =  0.09\"\n"
     ]
    }
   ],
   "source": [
    "# Add your code here \n",
    "# --------------------\n",
    "\n",
    "P_Fire = 0.01\n",
    "P_Smoke = 0.1\n",
    "P_Smoke_Fire = 0.9\n",
    "\n",
    "P_Fire_Smoke = P_Smoke_Fire * P_Fire / P_Smoke\n",
    "\n",
    "print(paste(\"P(Fire|Smoke) = \", P_Fire_Smoke))\n"
   ]
  },
  {
   "cell_type": "markdown",
   "metadata": {},
   "source": [
    "**Activity 5:** Imagine 100 people at a party, and you tally how many wear pink or not, and if a man or not, and get these numbers:"
   ]
  },
  {
   "cell_type": "code",
   "execution_count": 13,
   "metadata": {},
   "outputs": [
    {
     "data": {
      "text/plain": [
       "      Pink notPink\n",
       "Man      5      35\n",
       "Woman   20      40"
      ]
     },
     "metadata": {},
     "output_type": "display_data"
    },
    {
     "data": {
      "text/html": [
       "<table class=\"dataframe\">\n",
       "<caption>A table: 3 × 3 of type dbl</caption>\n",
       "<thead>\n",
       "\t<tr><th></th><th scope=col>Pink</th><th scope=col>notPink</th><th scope=col>Sum</th></tr>\n",
       "</thead>\n",
       "<tbody>\n",
       "\t<tr><th scope=row>Man</th><td> 5</td><td>35</td><td> 40</td></tr>\n",
       "\t<tr><th scope=row>Woman</th><td>20</td><td>40</td><td> 60</td></tr>\n",
       "\t<tr><th scope=row>Sum</th><td>25</td><td>75</td><td>100</td></tr>\n",
       "</tbody>\n",
       "</table>\n"
      ],
      "text/latex": [
       "A table: 3 × 3 of type dbl\n",
       "\\begin{tabular}{r|lll}\n",
       "  & Pink & notPink & Sum\\\\\n",
       "\\hline\n",
       "\tMan &  5 & 35 &  40\\\\\n",
       "\tWoman & 20 & 40 &  60\\\\\n",
       "\tSum & 25 & 75 & 100\\\\\n",
       "\\end{tabular}\n"
      ],
      "text/markdown": [
       "\n",
       "A table: 3 × 3 of type dbl\n",
       "\n",
       "| <!--/--> | Pink | notPink | Sum |\n",
       "|---|---|---|---|\n",
       "| Man |  5 | 35 |  40 |\n",
       "| Woman | 20 | 40 |  60 |\n",
       "| Sum | 25 | 75 | 100 |\n",
       "\n"
      ],
      "text/plain": [
       "      Pink notPink Sum\n",
       "Man    5   35       40\n",
       "Woman 20   40       60\n",
       "Sum   25   75      100"
      ]
     },
     "metadata": {},
     "output_type": "display_data"
    }
   ],
   "source": [
    "party <- matrix(c(5,20,35,40), ncol = 2)\n",
    "colnames(party) <- c('Pink', 'notPink')\n",
    "rownames(party) <- c('Man', 'Woman')\n",
    "party.table <- as.table(party)\n",
    "\n",
    "party.table\n",
    "addmargins(party.table)"
   ]
  },
  {
   "cell_type": "markdown",
   "metadata": {},
   "source": [
    "And then you calculate some probabilities "
   ]
  },
  {
   "cell_type": "code",
   "execution_count": 14,
   "metadata": {},
   "outputs": [],
   "source": [
    "P_Man = 40/100\n",
    "P_Pink = 25/100\n",
    "P_Pink_givenMan = 5/40"
   ]
  },
  {
   "cell_type": "markdown",
   "metadata": {},
   "source": [
    "Then you lose your data, but only retain the probabilities. You see a pink-wearing guest leaving the party. What is the probability that the guest was a man ? "
   ]
  },
  {
   "cell_type": "code",
   "execution_count": 15,
   "metadata": {},
   "outputs": [
    {
     "name": "stdout",
     "output_type": "stream",
     "text": [
      "[1] \"P(Man|Pink) = P(Pink|Man)*P(Man)/P(Pink) =  0.2\"\n"
     ]
    }
   ],
   "source": [
    "# Add your code here \n",
    "# --------------------\n",
    "\n",
    "print(paste(\"P(Man|Pink) = P(Pink|Man)*P(Man)/P(Pink) = \", P_Pink_givenMan*P_Man/P_Pink))\n"
   ]
  },
  {
   "cell_type": "markdown",
   "metadata": {},
   "source": [
    "**Activity 6:** You are planning a picnic today, but the morning is cloudy. 50% of all rainy days start off cloudy.\n",
    "But cloudy mornings are common (about 40% of days start cloudy) and this is usually a dry month (only 3 of 30 days tend to be rainy, or 10%).\n",
    "\n",
    "What is the chance of rain during the day?"
   ]
  },
  {
   "cell_type": "code",
   "execution_count": 16,
   "metadata": {},
   "outputs": [
    {
     "data": {
      "text/html": [
       "0.125"
      ],
      "text/latex": [
       "0.125"
      ],
      "text/markdown": [
       "0.125"
      ],
      "text/plain": [
       "[1] 0.125"
      ]
     },
     "metadata": {},
     "output_type": "display_data"
    }
   ],
   "source": [
    "P_rain = 0.1\n",
    "P_cloud = 0.4\n",
    "P_cloud_givenrain = 0.5\n",
    "\n",
    "# today started cloudy\n",
    "\n",
    "P_rain_givencloud = P_rain * P_cloud_givenrain / P_cloud\n",
    "\n",
    "P_rain_givencloud"
   ]
  },
  {
   "cell_type": "markdown",
   "metadata": {},
   "source": [
    "# Save your notebook!"
   ]
  }
 ],
 "metadata": {
  "kernelspec": {
   "display_name": "R",
   "language": "R",
   "name": "ir"
  },
  "language_info": {
   "codemirror_mode": "r",
   "file_extension": ".r",
   "mimetype": "text/x-r-source",
   "name": "R",
   "pygments_lexer": "r",
   "version": "4.0.5"
  }
 },
 "nbformat": 4,
 "nbformat_minor": 1
}
