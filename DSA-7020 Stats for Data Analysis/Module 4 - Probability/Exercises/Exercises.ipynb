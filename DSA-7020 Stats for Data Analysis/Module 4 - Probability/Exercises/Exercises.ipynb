{
 "cells": [
  {
   "cell_type": "markdown",
   "metadata": {
    "collapsed": true
   },
   "source": [
    "### Module 4 - Probability Exercises "
   ]
  },
  {
   "cell_type": "markdown",
   "metadata": {},
   "source": [
    "Most of the concepts we discussed in this module were theoretical. Examples were used to explain how to apply conditional probability concepts on dataset columns. The exercises in this notebook will be similar to what you have seen in lab and practice notebooks. \n",
    "\n",
    "Refer to your labs: [Bayes](../labs/Bayes.ipynb), [Conditional_Probability](../labs/Conditional_Probability.ipynb) and [Distributions](../labs/Distributions.ipynb).  \n",
    "\n",
    "Practice notebooks: [Conditional_Probability](../practices/Conditional_Probability.ipynb) and [Bayes](../labs/Bayes.ipynb). "
   ]
  },
  {
   "cell_type": "markdown",
   "metadata": {},
   "source": [
    "Let's recall what is an independent and dependent event through below activity. Consider an event of rolling two dice. The sample space $S=\\{\\{1,1\\}, \\{1,2\\}, \\{1,3\\},....,\\{6,6\\}\\}$ contains 36 possible combinations on two dice.\n",
    "\n",
    "<span style=\"color:#1871d6; font-weight:400\">Activity 1.a: </span> What is the probability of getting a 2 on either dice?"
   ]
  },
  {
   "cell_type": "code",
   "execution_count": 1,
   "metadata": {},
   "outputs": [
    {
     "name": "stderr",
     "output_type": "stream",
     "text": [
      "Loading required package: combinat\n",
      "\n",
      "\n",
      "Attaching package: ‘combinat’\n",
      "\n",
      "\n",
      "The following object is masked from ‘package:utils’:\n",
      "\n",
      "    combn\n",
      "\n",
      "\n",
      "Loading required package: fAsianOptions\n",
      "\n",
      "Loading required package: timeDate\n",
      "\n",
      "Loading required package: timeSeries\n",
      "\n",
      "Loading required package: fBasics\n",
      "\n",
      "Loading required package: fOptions\n",
      "\n",
      "\n",
      "Attaching package: ‘prob’\n",
      "\n",
      "\n",
      "The following objects are masked from ‘package:base’:\n",
      "\n",
      "    intersect, setdiff, union\n",
      "\n",
      "\n"
     ]
    },
    {
     "data": {
      "text/html": [
       "'P(A) = 0.3056'"
      ],
      "text/latex": [
       "'P(A) = 0.3056'"
      ],
      "text/markdown": [
       "'P(A) = 0.3056'"
      ],
      "text/plain": [
       "[1] \"P(A) = 0.3056\""
      ]
     },
     "metadata": {},
     "output_type": "display_data"
    }
   ],
   "source": [
    "# Your code for activity 1.a goes here...\n",
    "\n",
    "\n",
    "library(prob)\n",
    "S <- rolldie(2, makespace = TRUE)\n",
    "\n",
    "# Define the event A such that it has all possible combinations including a 2 {{1,2}, {2,2}, {2,3},...} \n",
    "\n",
    "# A = {{2,1},{2,2},{2,3},{2,4},{2,5},{2,6},{1,2},{3,2},{4,2},{5,2},{6,2}}\n",
    "# P(2onEither) = A / S\n",
    "\n",
    "A = subset(S, X1==2 | X2==2)\n",
    "#A\n",
    "t = 11/36\n",
    "#t\n",
    "paste(\"P(A) =\",  round(Prob(A), 4))"
   ]
  },
  {
   "cell_type": "markdown",
   "metadata": {},
   "source": [
    "<span style=\"color:#1871d6; font-weight:400\">Activity 1.b: </span> What is the probability of getting a 2 on either dice given that the sum of the two outcomes is less than 6? "
   ]
  },
  {
   "cell_type": "code",
   "execution_count": 2,
   "metadata": {},
   "outputs": [
    {
     "data": {
      "text/html": [
       "'P(A|B) = 0.5'"
      ],
      "text/latex": [
       "'P(A\\textbar{}B) = 0.5'"
      ],
      "text/markdown": [
       "'P(A|B) = 0.5'"
      ],
      "text/plain": [
       "[1] \"P(A|B) = 0.5\""
      ]
     },
     "metadata": {},
     "output_type": "display_data"
    }
   ],
   "source": [
    "# Your code for activity 1.b goes here...\n",
    "\n",
    "# Define the event A such that it has all possible combinations including 2 {{1,2}, {2,2},...}. \n",
    "# A = {{2,1},{2,2},{2,3},{2,4},{2,5},{2,6},{1,2},{3,2},{4,2},{5,2},{6,2}}\n",
    "\n",
    "# Define event B such that sum of outcomes is less than 6. \n",
    "# B = {{1,1},{1,2},{1,3},{1,4},{2,1},{2,2},{2,3}{3,1},{3,2},{4,1}}\n",
    "B = subset(S, X1 + X2 < 6)\n",
    "#print(paste(\"P(B) =\",  round(Prob(B, given = S), 4)))\n",
    "\n",
    "# Event A is conditional on Event B \n",
    "\n",
    "paste(\"P(A|B) =\", round(Prob(A, given = B), 4))"
   ]
  },
  {
   "cell_type": "markdown",
   "metadata": {},
   "source": [
    "<span style=\"color:#1871d6; font-weight:400\">Activity 2: </span> Toss a coin twice. The sample space is given by $S = \\{HH, HT, TH, TT\\}$. Let $A$ = {head occurs} and $B$ = {a head and tail occur}. What are the probabilities $P(A|B)$ and $P(B|A)$?"
   ]
  },
  {
   "cell_type": "markdown",
   "metadata": {},
   "source": [
    "````\n",
    "        \n",
    "     Double click here. Enter your answer for activity 2 here.\n",
    "\n",
    "````\n",
    "𝑃(𝐴|𝐵) = 1 because given an H & T occurred, an H always occurs.\n",
    "𝑃(𝐵|𝐴) = 2/3 because given H occurring, two will be an H & T and one will be H & H."
   ]
  },
  {
   "cell_type": "code",
   "execution_count": null,
   "metadata": {},
   "outputs": [],
   "source": [
    "# Space <- tosscoin(2, makespace = TRUE)\n",
    "# Space\n",
    "# A <- subset(Space, isrep(Space, vals = \"H\", nrep = 1) | isrep(Space, vals = \"H\", nrep = 2))\n",
    "# A\n",
    "# B <- subset(Space, isrep(Space, vals = \"H\", nrep = 1) & isrep(Space, vals = \"T\", nrep = 1))\n",
    "# B\n",
    "# Prob(A, given = B)\n",
    "# Prob(B, given = A)"
   ]
  },
  {
   "cell_type": "markdown",
   "metadata": {},
   "source": [
    "<span style=\"color:#1871d6; font-weight:400\">Activity 3: </span> We have data about the smoking status versus the gender of people working in a company.\n",
    "\n",
    "<table>\n",
    "    <tr>\n",
    "        <th></th>\n",
    "        <th colspan=\"2\">gender</th>\n",
    "        <th>sum</th>\n",
    "    </tr>\n",
    "    <tr>\n",
    "        <td rowspan=\"2\">smoke</td>\n",
    "        <td>80</td>\n",
    "        <td>54</td>\n",
    "        <td>134</td>\n",
    "    </tr>\n",
    "    <tr>\n",
    "        <td>15</td>\n",
    "        <td>19</td>\n",
    "        <td>34</td>\n",
    "    </tr>\n",
    "    <tr>\n",
    "        <td>sum</td>\n",
    "        <td>95</td>\n",
    "        <td>73</td>\n",
    "        <td>168</td>\n",
    "    </tr>\n",
    "</table>\n",
    "    \n",
    "    \n",
    "3.a) If one person were selected at random from the data set, what is the probability that selected person is female?\n",
    "\n",
    "3.b) What is the probability that selected person is a smoker?"
   ]
  },
  {
   "cell_type": "code",
   "execution_count": 64,
   "metadata": {},
   "outputs": [
    {
     "data": {
      "text/html": [
       "<table class=\"dataframe\">\n",
       "<caption>A table: 3 × 3 of type dbl</caption>\n",
       "<thead>\n",
       "\t<tr><th></th><th scope=col>female</th><th scope=col>male</th><th scope=col>Sum</th></tr>\n",
       "</thead>\n",
       "<tbody>\n",
       "\t<tr><th scope=row>nonsmoker</th><td>80</td><td>54</td><td>134</td></tr>\n",
       "\t<tr><th scope=row>smoker</th><td>15</td><td>19</td><td> 34</td></tr>\n",
       "\t<tr><th scope=row>Sum</th><td>95</td><td>73</td><td>168</td></tr>\n",
       "</tbody>\n",
       "</table>\n"
      ],
      "text/latex": [
       "A table: 3 × 3 of type dbl\n",
       "\\begin{tabular}{r|lll}\n",
       "  & female & male & Sum\\\\\n",
       "\\hline\n",
       "\tnonsmoker & 80 & 54 & 134\\\\\n",
       "\tsmoker & 15 & 19 &  34\\\\\n",
       "\tSum & 95 & 73 & 168\\\\\n",
       "\\end{tabular}\n"
      ],
      "text/markdown": [
       "\n",
       "A table: 3 × 3 of type dbl\n",
       "\n",
       "| <!--/--> | female | male | Sum |\n",
       "|---|---|---|---|\n",
       "| nonsmoker | 80 | 54 | 134 |\n",
       "| smoker | 15 | 19 |  34 |\n",
       "| Sum | 95 | 73 | 168 |\n",
       "\n"
      ],
      "text/plain": [
       "          female male Sum\n",
       "nonsmoker 80     54   134\n",
       "smoker    15     19    34\n",
       "Sum       95     73   168"
      ]
     },
     "metadata": {},
     "output_type": "display_data"
    }
   ],
   "source": [
    "# Code for Activity 3 goes here -----\n",
    "# Generate the matrix required to find probabilities\n",
    "\n",
    "smokers <- matrix(c(80, 15, 54, 19), ncol = 2)\n",
    "colnames(smokers) <- c('female', 'male')\n",
    "rownames(smokers) <- c('nonsmoker', 'smoker')\n",
    "smokers.table <- as.table(smokers)\n",
    "addmargins(smokers.table)\n"
   ]
  },
  {
   "cell_type": "code",
   "execution_count": 67,
   "metadata": {},
   "outputs": [
    {
     "data": {
      "text/html": [
       "'P(Female) = 0.5655'"
      ],
      "text/latex": [
       "'P(Female) = 0.5655'"
      ],
      "text/markdown": [
       "'P(Female) = 0.5655'"
      ],
      "text/plain": [
       "[1] \"P(Female) = 0.5655\""
      ]
     },
     "metadata": {},
     "output_type": "display_data"
    }
   ],
   "source": [
    "# Answer for Activity 3.a goes here -----\n",
    "# P(Female) =\n",
    "paste(\"P(Female) =\", round(95 / 168, 4))"
   ]
  },
  {
   "cell_type": "code",
   "execution_count": 68,
   "metadata": {},
   "outputs": [
    {
     "data": {
      "text/html": [
       "'P(Smoker|Female) = 0.1579'"
      ],
      "text/latex": [
       "'P(Smoker\\textbar{}Female) = 0.1579'"
      ],
      "text/markdown": [
       "'P(Smoker|Female) = 0.1579'"
      ],
      "text/plain": [
       "[1] \"P(Smoker|Female) = 0.1579\""
      ]
     },
     "metadata": {},
     "output_type": "display_data"
    }
   ],
   "source": [
    "# Answer for Activity 3.b goes here -----\n",
    "# P(smoker | female) =\n",
    "paste(\"P(Smoker|Female) =\", round(15 / 95, 4))"
   ]
  },
  {
   "cell_type": "markdown",
   "metadata": {},
   "source": [
    "<span style=\"color:#1871d6; font-weight:400\">Activity 4: </span>  Load the framingham data from the directory '/dsa/data/all_datasets/framingham/'. Find out the probability of a randomly subject to have the risk of coronary heart disease given that the subject is a male."
   ]
  },
  {
   "cell_type": "code",
   "execution_count": 2,
   "metadata": {},
   "outputs": [
    {
     "data": {
      "text/html": [
       "<table class=\"dataframe\">\n",
       "<caption>A table: 3 × 3 of type dbl</caption>\n",
       "<thead>\n",
       "\t<tr><th></th><th scope=col>No CHD Risk</th><th scope=col>CHD Risk</th><th scope=col>Sum</th></tr>\n",
       "</thead>\n",
       "<tbody>\n",
       "\t<tr><th scope=row>Female</th><td>2119</td><td>301</td><td>2420</td></tr>\n",
       "\t<tr><th scope=row>Male</th><td>1477</td><td>343</td><td>1820</td></tr>\n",
       "\t<tr><th scope=row>Sum</th><td>3596</td><td>644</td><td>4240</td></tr>\n",
       "</tbody>\n",
       "</table>\n"
      ],
      "text/latex": [
       "A table: 3 × 3 of type dbl\n",
       "\\begin{tabular}{r|lll}\n",
       "  & No CHD Risk & CHD Risk & Sum\\\\\n",
       "\\hline\n",
       "\tFemale & 2119 & 301 & 2420\\\\\n",
       "\tMale & 1477 & 343 & 1820\\\\\n",
       "\tSum & 3596 & 644 & 4240\\\\\n",
       "\\end{tabular}\n"
      ],
      "text/markdown": [
       "\n",
       "A table: 3 × 3 of type dbl\n",
       "\n",
       "| <!--/--> | No CHD Risk | CHD Risk | Sum |\n",
       "|---|---|---|---|\n",
       "| Female | 2119 | 301 | 2420 |\n",
       "| Male | 1477 | 343 | 1820 |\n",
       "| Sum | 3596 | 644 | 4240 |\n",
       "\n"
      ],
      "text/plain": [
       "        TenYearCHD\n",
       "male     No CHD Risk CHD Risk Sum \n",
       "  Female 2119        301      2420\n",
       "  Male   1477        343      1820\n",
       "  Sum    3596        644      4240"
      ]
     },
     "metadata": {},
     "output_type": "display_data"
    }
   ],
   "source": [
    "# Code for Activity 4 goes here -----\n",
    "framingham_data <- read.csv(\"/dsa/data/all_datasets/framingham/framingham.csv\")\n",
    "\n",
    "chd <- with(framingham_data,table(male,TenYearCHD))\n",
    "colnames(chd) <- c('No CHD Risk','CHD Risk')\n",
    "rownames(chd) <- c('Female','Male')\n",
    "\n",
    "addmargins(chd)"
   ]
  },
  {
   "cell_type": "code",
   "execution_count": 3,
   "metadata": {},
   "outputs": [
    {
     "data": {
      "text/html": [
       "'P(CHD|Male) = 0.1885'"
      ],
      "text/latex": [
       "'P(CHD\\textbar{}Male) = 0.1885'"
      ],
      "text/markdown": [
       "'P(CHD|Male) = 0.1885'"
      ],
      "text/plain": [
       "[1] \"P(CHD|Male) = 0.1885\""
      ]
     },
     "metadata": {},
     "output_type": "display_data"
    }
   ],
   "source": [
    "# Enter your answer for Activity 4 -----\n",
    "prob_CHD = 644/4240\n",
    "prob_malegivenCHD = 343/644\n",
    "prob_male = 1820/4240\n",
    "\n",
    "paste(\"P(CHD|Male) =\", round((prob_CHD * prob_malegivenCHD) / prob_male, 4))"
   ]
  },
  {
   "cell_type": "markdown",
   "metadata": {},
   "source": [
    "<span style=\"color:#1871d6; font-weight:400\">Activity 5: </span> Find out the probability of randomly selected subject to have the risk of coronary heart disease given subject is less than or equal to 40 years of age."
   ]
  },
  {
   "cell_type": "code",
   "execution_count": 31,
   "metadata": {},
   "outputs": [
    {
     "data": {
      "text/html": [
       "<table class=\"dataframe\">\n",
       "<caption>A table: 10 × 3 of type dbl</caption>\n",
       "<thead>\n",
       "\t<tr><th></th><th scope=col>No CHD Risk</th><th scope=col>CHD Risk</th><th scope=col>Sum</th></tr>\n",
       "</thead>\n",
       "<tbody>\n",
       "\t<tr><th scope=row>32</th><td>  1</td><td> 0</td><td>  1</td></tr>\n",
       "\t<tr><th scope=row>33</th><td>  5</td><td> 0</td><td>  5</td></tr>\n",
       "\t<tr><th scope=row>34</th><td> 18</td><td> 0</td><td> 18</td></tr>\n",
       "\t<tr><th scope=row>35</th><td> 40</td><td> 2</td><td> 42</td></tr>\n",
       "\t<tr><th scope=row>36</th><td> 81</td><td> 3</td><td> 84</td></tr>\n",
       "\t<tr><th scope=row>37</th><td> 88</td><td> 4</td><td> 92</td></tr>\n",
       "\t<tr><th scope=row>38</th><td>136</td><td> 8</td><td>144</td></tr>\n",
       "\t<tr><th scope=row>39</th><td>164</td><td> 6</td><td>170</td></tr>\n",
       "\t<tr><th scope=row>40</th><td>177</td><td>15</td><td>192</td></tr>\n",
       "\t<tr><th scope=row>Sum</th><td>710</td><td>38</td><td>748</td></tr>\n",
       "</tbody>\n",
       "</table>\n"
      ],
      "text/latex": [
       "A table: 10 × 3 of type dbl\n",
       "\\begin{tabular}{r|lll}\n",
       "  & No CHD Risk & CHD Risk & Sum\\\\\n",
       "\\hline\n",
       "\t32 &   1 &  0 &   1\\\\\n",
       "\t33 &   5 &  0 &   5\\\\\n",
       "\t34 &  18 &  0 &  18\\\\\n",
       "\t35 &  40 &  2 &  42\\\\\n",
       "\t36 &  81 &  3 &  84\\\\\n",
       "\t37 &  88 &  4 &  92\\\\\n",
       "\t38 & 136 &  8 & 144\\\\\n",
       "\t39 & 164 &  6 & 170\\\\\n",
       "\t40 & 177 & 15 & 192\\\\\n",
       "\tSum & 710 & 38 & 748\\\\\n",
       "\\end{tabular}\n"
      ],
      "text/markdown": [
       "\n",
       "A table: 10 × 3 of type dbl\n",
       "\n",
       "| <!--/--> | No CHD Risk | CHD Risk | Sum |\n",
       "|---|---|---|---|\n",
       "| 32 |   1 |  0 |   1 |\n",
       "| 33 |   5 |  0 |   5 |\n",
       "| 34 |  18 |  0 |  18 |\n",
       "| 35 |  40 |  2 |  42 |\n",
       "| 36 |  81 |  3 |  84 |\n",
       "| 37 |  88 |  4 |  92 |\n",
       "| 38 | 136 |  8 | 144 |\n",
       "| 39 | 164 |  6 | 170 |\n",
       "| 40 | 177 | 15 | 192 |\n",
       "| Sum | 710 | 38 | 748 |\n",
       "\n"
      ],
      "text/plain": [
       "     TenYearCHD\n",
       "age   No CHD Risk CHD Risk Sum\n",
       "  32    1          0         1\n",
       "  33    5          0         5\n",
       "  34   18          0        18\n",
       "  35   40          2        42\n",
       "  36   81          3        84\n",
       "  37   88          4        92\n",
       "  38  136          8       144\n",
       "  39  164          6       170\n",
       "  40  177         15       192\n",
       "  Sum 710         38       748"
      ]
     },
     "metadata": {},
     "output_type": "display_data"
    },
    {
     "data": {
      "text/html": [
       "'P(CHD|Age≤40) = 0.0461'"
      ],
      "text/latex": [
       "'P(CHD\\textbar{}Age≤40) = 0.0461'"
      ],
      "text/markdown": [
       "'P(CHD|Age≤40) = 0.0461'"
      ],
      "text/plain": [
       "[1] \"P(CHD|Age≤40) = 0.0461\""
      ]
     },
     "metadata": {},
     "output_type": "display_data"
    }
   ],
   "source": [
    "# P(CHD | age <= 40) = P(CHD and age <= 40) / P(age <= 40)\n",
    "# Code for activity 5 goes here...\n",
    "\n",
    "framingham_under40 <- subset(framingham_data, age<=40)\n",
    "age_CHD <- with(framingham_under40,table(age,TenYearCHD))\n",
    "colnames(age_CHD) <- c('No CHD Risk','CHD Risk')\n",
    "addmargins(age_CHD)\n",
    "\n",
    "prob_lessthan40givenCHD = 38/748\n",
    "prob_lessthan40 = 748/4240\n",
    "\n",
    "paste(\"P(CHD|Age≤40) =\",  round((prob_CHD * prob_lessthan40givenCHD) / prob_lessthan40, 4))\n"
   ]
  },
  {
   "cell_type": "markdown",
   "metadata": {},
   "source": [
    "<span style=\"color:#1871d6; font-weight:400\">Activity 6: </span> Find out the probability of randomly selected subject to have the risk of coronary heart disease given that the subject smokes less than 10 cigarettes.\n",
    "\n",
    "**Hint:** Use a 3-way table to include the variables cigsPerDay, TenYearCHD and currentSmoker. Use currentSmoker as the 3rd dimension/input."
   ]
  },
  {
   "cell_type": "code",
   "execution_count": 18,
   "metadata": {},
   "outputs": [
    {
     "data": {
      "text/plain": [
       ", , currentSmoker == 1 = FALSE\n",
       "\n",
       "               TenYearCHD\n",
       "cigsPerDay < 10 No CHD Risk CHD Risk  Sum\n",
       "          FALSE           0        0    0\n",
       "          TRUE         1834      311 2145\n",
       "          Sum          1834      311 2145\n",
       "\n",
       ", , currentSmoker == 1 = TRUE\n",
       "\n",
       "               TenYearCHD\n",
       "cigsPerDay < 10 No CHD Risk CHD Risk  Sum\n",
       "          FALSE        1302      278 1580\n",
       "          TRUE          433       53  486\n",
       "          Sum          1735      331 2066\n",
       "\n",
       ", , currentSmoker == 1 = Sum\n",
       "\n",
       "               TenYearCHD\n",
       "cigsPerDay < 10 No CHD Risk CHD Risk  Sum\n",
       "          FALSE        1302      278 1580\n",
       "          TRUE         2267      364 2631\n",
       "          Sum          3569      642 4211\n"
      ]
     },
     "metadata": {},
     "output_type": "display_data"
    }
   ],
   "source": [
    "# Code for activity 6 goes here....\n",
    "#framingham_lessthan10 <- subset(framingham_data, cigsPerDay<10)\n",
    "cigs_CHD_smoker <- xtabs(~(cigsPerDay<10) + TenYearCHD + (currentSmoker==1), data = framingham_data)\n",
    "colnames(cigs_CHD_smoker) <- c('No CHD Risk','CHD Risk')\n",
    "addmargins(cigs_CHD_smoker)\n"
   ]
  },
  {
   "cell_type": "code",
   "execution_count": 36,
   "metadata": {},
   "outputs": [
    {
     "data": {
      "text/html": [
       "'Programmatically: P(CHD|Cigs&lt;10,Smoker) = 0.1091'"
      ],
      "text/latex": [
       "'Programmatically: P(CHD\\textbar{}Cigs<10,Smoker) = 0.1091'"
      ],
      "text/markdown": [
       "'Programmatically: P(CHD|Cigs&lt;10,Smoker) = 0.1091'"
      ],
      "text/plain": [
       "[1] \"Programmatically: P(CHD|Cigs<10,Smoker) = 0.1091\""
      ]
     },
     "metadata": {},
     "output_type": "display_data"
    },
    {
     "data": {
      "text/html": [
       "'Multiplication: P(CHD|Cigs&lt;10,Smoker) = 0.1091'"
      ],
      "text/latex": [
       "'Multiplication: P(CHD\\textbar{}Cigs<10,Smoker) = 0.1091'"
      ],
      "text/markdown": [
       "'Multiplication: P(CHD|Cigs&lt;10,Smoker) = 0.1091'"
      ],
      "text/plain": [
       "[1] \"Multiplication: P(CHD|Cigs<10,Smoker) = 0.1091\""
      ]
     },
     "metadata": {},
     "output_type": "display_data"
    },
    {
     "data": {
      "text/html": [
       "'Bayes: P(CHD|Cigs&lt;10,Smoker) = 0.1091'"
      ],
      "text/latex": [
       "'Bayes: P(CHD\\textbar{}Cigs<10,Smoker) = 0.1091'"
      ],
      "text/markdown": [
       "'Bayes: P(CHD|Cigs&lt;10,Smoker) = 0.1091'"
      ],
      "text/plain": [
       "[1] \"Bayes: P(CHD|Cigs<10,Smoker) = 0.1091\""
      ]
     },
     "metadata": {},
     "output_type": "display_data"
    }
   ],
   "source": [
    "# P( risk of CHD | subject smokes <10 cigs ) = P( risk of CHD and subject smokes <10 cigs)/ P(subject smokes <10 cigs)\n",
    "# Enter your answer for Activity 6 -----\n",
    "# prob_CHD = 331/2066\n",
    "# prob_lessthan10cigsgivenCHD = 53/331\n",
    "# prob_lessthan10cigs = 486/2066\n",
    "# CHDandlessthan10cigs = 53\n",
    "# lessthan10cigs = 486\n",
    "\n",
    "framingham_smokers <- subset(framingham_data, currentSmoker==1)\n",
    "prob_CHDgivenlessthan10cigs <- table(framingham_smokers$TenYearCHD[framingham_smokers$TenYearCHD==1 & framingham_smokers$cigsPerDay<10]) / \n",
    "    sum(table(framingham_smokers$TenYearCHD[framingham_smokers$cigsPerDay<10]))\n",
    "\n",
    "paste(\"Programmatically: P(CHD|Cigs<10,Smoker) =\", round(prob_CHDgivenlessthan10cigs, 4))\n",
    "# paste(\"Multiplication: P(CHD|Cigs<10,Smoker) =\", round(CHDandlessthan10cigs / lessthan10cigs, 4))\n",
    "# paste(\"Bayes: P(CHD|Cigs<10,Smoker) =\", round((prob_CHD * prob_lessthan10cigsgivenCHD) / prob_lessthan10cigs, 4))\n",
    "paste(\"Multiplication: P(CHD|Cigs<10,Smoker) =\", round(53 / 486, 4))\n",
    "paste(\"Bayes: P(CHD|Cigs<10,Smoker) =\", round(((331/2066) * (53/331)) / (486/2066), 4))\n"
   ]
  },
  {
   "cell_type": "markdown",
   "metadata": {},
   "source": [
    "<span style=\"color:#1871d6; font-weight:400\">Activity 7.a: </span> Find out the probability of randomly selected subject to have the risk of coronary heart disease given that the subject has totChol > 300 and has BMI >30. \n",
    "\n",
    "<span style=\"color:#1871d6; font-weight:400\">Activity 7.b: </span> Find out the probability of randomly selected subject to have the risk of coronary heart disease given that the subject has totChol > 300 and has BMI < 30. \n",
    "\n",
    "**Hint:** Use a 3-way table. Use BMI as the 3rd dimension/input."
   ]
  },
  {
   "cell_type": "code",
   "execution_count": 28,
   "metadata": {},
   "outputs": [
    {
     "data": {
      "text/plain": [
       ", , BMI > 30 = FALSE\n",
       "\n",
       "             TenYearCHD\n",
       "totChol > 300 No CHD Risk CHD Risk  Sum\n",
       "        FALSE        2909      465 3374\n",
       "        TRUE          214       58  272\n",
       "        Sum          3123      523 3646\n",
       "\n",
       ", , BMI > 30 = TRUE\n",
       "\n",
       "             TenYearCHD\n",
       "totChol > 300 No CHD Risk CHD Risk  Sum\n",
       "        FALSE         386       91  477\n",
       "        TRUE           38       11   49\n",
       "        Sum           424      102  526\n",
       "\n",
       ", , BMI > 30 = Sum\n",
       "\n",
       "             TenYearCHD\n",
       "totChol > 300 No CHD Risk CHD Risk  Sum\n",
       "        FALSE        3295      556 3851\n",
       "        TRUE          252       69  321\n",
       "        Sum          3547      625 4172\n"
      ]
     },
     "metadata": {},
     "output_type": "display_data"
    }
   ],
   "source": [
    "chol_CHD_bigBMI <- xtabs(~(totChol>300) + TenYearCHD + (BMI>30), data = framingham_data)\n",
    "colnames(chol_CHD_bigBMI) <- c('No CHD Risk','CHD Risk')\n",
    "addmargins(chol_CHD_bigBMI)\n"
   ]
  },
  {
   "cell_type": "code",
   "execution_count": 38,
   "metadata": {},
   "outputs": [
    {
     "data": {
      "text/html": [
       "'Programmatically: P(CHD|Chol&gt;300,BMI&gt;30) = 0.2245'"
      ],
      "text/latex": [
       "'Programmatically: P(CHD\\textbar{}Chol>300,BMI>30) = 0.2245'"
      ],
      "text/markdown": [
       "'Programmatically: P(CHD|Chol&gt;300,BMI&gt;30) = 0.2245'"
      ],
      "text/plain": [
       "[1] \"Programmatically: P(CHD|Chol>300,BMI>30) = 0.2245\""
      ]
     },
     "metadata": {},
     "output_type": "display_data"
    },
    {
     "data": {
      "text/html": [
       "'Multiplication: P(CHD|Chol&gt;300,BMI&gt;30) = 0.2245'"
      ],
      "text/latex": [
       "'Multiplication: P(CHD\\textbar{}Chol>300,BMI>30) = 0.2245'"
      ],
      "text/markdown": [
       "'Multiplication: P(CHD|Chol&gt;300,BMI&gt;30) = 0.2245'"
      ],
      "text/plain": [
       "[1] \"Multiplication: P(CHD|Chol>300,BMI>30) = 0.2245\""
      ]
     },
     "metadata": {},
     "output_type": "display_data"
    },
    {
     "data": {
      "text/html": [
       "'Bayes: P(CHD|Chol&gt;300,BMI&gt;30) = 0.2245'"
      ],
      "text/latex": [
       "'Bayes: P(CHD\\textbar{}Chol>300,BMI>30) = 0.2245'"
      ],
      "text/markdown": [
       "'Bayes: P(CHD|Chol&gt;300,BMI&gt;30) = 0.2245'"
      ],
      "text/plain": [
       "[1] \"Bayes: P(CHD|Chol>300,BMI>30) = 0.2245\""
      ]
     },
     "metadata": {},
     "output_type": "display_data"
    }
   ],
   "source": [
    "# Enter your answer for Activity 7.a (BMI > 30) -----  \n",
    "# P( risk of CHD | subject has totChol > 300 ) = P( risk of CHD and subject has totChol > 300 )/ P(subject has totChol > 300 )\n",
    "# prob_CHDhigherBMI = 102/526\n",
    "# prob_cholgreater300higherBMIgivenCHD = 11/102\n",
    "# prob_cholgreater300higherBMI = 49/526\n",
    "# CHDandcholgreater300higherBMI = 11\n",
    "# cholgreater300higherBMI = 49\n",
    "\n",
    "framingham_higherBMI <- subset(framingham_data, BMI>30)\n",
    "prob_CHDgivencholabove300higherBMI <- table(framingham_higherBMI$TenYearCHD[framingham_higherBMI$TenYearCHD==1 & framingham_higherBMI$totChol>300]) / \n",
    "    sum(table(framingham_higherBMI$TenYearCHD[framingham_higherBMI$totChol>300]))\n",
    "\n",
    "paste(\"Programmatically: P(CHD|Chol>300,BMI>30) =\", round(prob_CHDgivencholabove300higherBMI, 4))\n",
    "# paste(\"Multiplication: P(CHD|Chol>300,BMI>30) =\", round(CHDandcholgreater300higherBMI / cholgreater300higherBMI, 4))\n",
    "# paste(\"Bayes: P(CHD|Chol>300,BMI>30) =\", round((prob_CHDhigherBMI * prob_cholgreater300higherBMIgivenCHD) / \n",
    "#                                               prob_cholgreater300higherBMI, 4))\n",
    "paste(\"Multiplication: P(CHD|Chol>300,BMI>30) =\", round(11 / 49, 4))\n",
    "paste(\"Bayes: P(CHD|Chol>300,BMI>30) =\", round(((102/526) * (11/102)) / (49/526), 4))\n"
   ]
  },
  {
   "cell_type": "code",
   "execution_count": 39,
   "metadata": {},
   "outputs": [
    {
     "data": {
      "text/html": [
       "'Programmatically: P(CHD|Chol&gt;300,BMI&lt;30) = 0.2132'"
      ],
      "text/latex": [
       "'Programmatically: P(CHD\\textbar{}Chol>300,BMI<30) = 0.2132'"
      ],
      "text/markdown": [
       "'Programmatically: P(CHD|Chol&gt;300,BMI&lt;30) = 0.2132'"
      ],
      "text/plain": [
       "[1] \"Programmatically: P(CHD|Chol>300,BMI<30) = 0.2132\""
      ]
     },
     "metadata": {},
     "output_type": "display_data"
    },
    {
     "data": {
      "text/html": [
       "'Multiplication: P(CHD|Chol&gt;300,BMI&lt;30) = 0.2132'"
      ],
      "text/latex": [
       "'Multiplication: P(CHD\\textbar{}Chol>300,BMI<30) = 0.2132'"
      ],
      "text/markdown": [
       "'Multiplication: P(CHD|Chol&gt;300,BMI&lt;30) = 0.2132'"
      ],
      "text/plain": [
       "[1] \"Multiplication: P(CHD|Chol>300,BMI<30) = 0.2132\""
      ]
     },
     "metadata": {},
     "output_type": "display_data"
    },
    {
     "data": {
      "text/html": [
       "'Bayes: P(CHD|Chol&gt;300,BMI&lt;30) = 0.2132'"
      ],
      "text/latex": [
       "'Bayes: P(CHD\\textbar{}Chol>300,BMI<30) = 0.2132'"
      ],
      "text/markdown": [
       "'Bayes: P(CHD|Chol&gt;300,BMI&lt;30) = 0.2132'"
      ],
      "text/plain": [
       "[1] \"Bayes: P(CHD|Chol>300,BMI<30) = 0.2132\""
      ]
     },
     "metadata": {},
     "output_type": "display_data"
    }
   ],
   "source": [
    "# Enter your answer for Activity 7.b (BMI < 30) -----  \n",
    "# P( risk of CHD | subject has totChol > 300 ) = P( risk of CHD and subject has totChol > 300 )/ P(subject has totChol > 300 )\n",
    "# prob_CHDlowerBMI = 523/3646\n",
    "# prob_cholgreater300lowerBMIgivenCHD = 58/523\n",
    "# prob_cholgreater300lowerBMI = 272/3646\n",
    "# CHDandcholgreater300lowerBMI = 58\n",
    "# cholgreater300lowerBMI = 272\n",
    "\n",
    "framingham_lowerBMI <- subset(framingham_data, BMI<30)\n",
    "prob_CHDgivencholabove300lowerBMI <- table(framingham_lowerBMI$TenYearCHD[framingham_lowerBMI$TenYearCHD==1 & framingham_lowerBMI$totChol>300]) / \n",
    "    sum(table(framingham_lowerBMI$TenYearCHD[framingham_lowerBMI$totChol>300]))\n",
    "\n",
    "paste(\"Programmatically: P(CHD|Chol>300,BMI<30) =\", round(prob_CHDgivencholabove300lowerBMI, 4))\n",
    "# paste(\"Multiplication: P(CHD|Chol>300,BMI<30) =\", round(CHDandcholgreater300lowerBMI / cholgreater300lowerBMI, 4))\n",
    "# paste(\"Bayes: P(CHD|Chol>300,BMI<30) =\", round((prob_CHDlowerBMI * prob_cholgreater300lowerBMIgivenCHD) / \n",
    "#                                               prob_cholgreater300lowerBMI, 4))\n",
    "paste(\"Multiplication: P(CHD|Chol>300,BMI<30) =\", round(58 / 272, 4))\n",
    "paste(\"Bayes: P(CHD|Chol>300,BMI<30) =\", round(((523/3646) * (58/523)) / (272/3646), 4))\n"
   ]
  },
  {
   "cell_type": "code",
   "execution_count": null,
   "metadata": {},
   "outputs": [],
   "source": []
  }
 ],
 "metadata": {
  "kernelspec": {
   "display_name": "R",
   "language": "R",
   "name": "ir"
  },
  "language_info": {
   "codemirror_mode": "r",
   "file_extension": ".r",
   "mimetype": "text/x-r-source",
   "name": "R",
   "pygments_lexer": "r",
   "version": "4.0.5"
  }
 },
 "nbformat": 4,
 "nbformat_minor": 1
}
