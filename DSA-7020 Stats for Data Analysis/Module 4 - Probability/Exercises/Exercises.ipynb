{
 "cells": [
  {
   "cell_type": "markdown",
   "metadata": {
    "collapsed": true
   },
   "source": [
    "### Module 4 - Probability Exercises "
   ]
  },
  {
   "cell_type": "markdown",
   "metadata": {},
   "source": [
    "Most of the concepts we discussed in this module were theoretical. Examples were used to explain how to apply conditional probability concepts on dataset columns. The exercises in this notebook will be similar to what you have seen in lab and practice notebooks. \n",
    "\n",
    "Refer to your labs: [Bayes](../labs/Bayes.ipynb), [Conditional_Probability](../labs/Conditional_Probability.ipynb) and [Distributions](../labs/Distributions.ipynb).  \n",
    "\n",
    "Practice notebooks: [Conditional_Probability](../practices/Conditional_Probability.ipynb) and [Bayes](../labs/Bayes.ipynb). "
   ]
  },
  {
   "cell_type": "markdown",
   "metadata": {},
   "source": [
    "Let's recall what is an independent and dependent event through below activity. Consider an event of rolling two dice. The sample space $S=\\{\\{1,1\\}, \\{1,2\\}, \\{1,3\\},....,\\{6,6\\}\\}$ contains 36 possible combinations on two dice.\n",
    "\n",
    "<span style=\"color:#1871d6; font-weight:400\">Activity 1.a: </span> What is the probability of getting a 2 on either dice?"
   ]
  },
  {
   "cell_type": "code",
   "execution_count": 69,
   "metadata": {},
   "outputs": [
    {
     "data": {
      "text/html": [
       "'P(A) = 0.3056'"
      ],
      "text/latex": [
       "'P(A) = 0.3056'"
      ],
      "text/markdown": [
       "'P(A) = 0.3056'"
      ],
      "text/plain": [
       "[1] \"P(A) = 0.3056\""
      ]
     },
     "metadata": {},
     "output_type": "display_data"
    }
   ],
   "source": [
    "# Your code for activity 1.a goes here...\n",
    "\n",
    "\n",
    "library(prob)\n",
    "S <- rolldie(2, makespace = TRUE)\n",
    "\n",
    "# Define the event A such that it has all possible combinations including a 2 {{1,2}, {2,2}, {2,3},...} \n",
    "\n",
    "# A = {{2,1},{2,2},{2,3},{2,4},{2,5},{2,6},{1,2},{3,2},{4,2},{5,2},{6,2}}\n",
    "# P(2onEither) = A / S\n",
    "\n",
    "A = subset(S, X1==2 | X2==2)\n",
    "#A\n",
    "t = 11/36\n",
    "#t\n",
    "paste(\"P(A) =\",  round(Prob(A), 4))"
   ]
  },
  {
   "cell_type": "markdown",
   "metadata": {},
   "source": [
    "<span style=\"color:#1871d6; font-weight:400\">Activity 1.b: </span> What is the probability of getting a 2 on either dice given that the sum of the two outcomes is less than 6? "
   ]
  },
  {
   "cell_type": "code",
   "execution_count": 76,
   "metadata": {},
   "outputs": [
    {
     "data": {
      "text/html": [
       "'P(A|B) = 0.5'"
      ],
      "text/latex": [
       "'P(A\\textbar{}B) = 0.5'"
      ],
      "text/markdown": [
       "'P(A|B) = 0.5'"
      ],
      "text/plain": [
       "[1] \"P(A|B) = 0.5\""
      ]
     },
     "metadata": {},
     "output_type": "display_data"
    }
   ],
   "source": [
    "# Your code for activity 1.b goes here...\n",
    "\n",
    "# Define the event A such that it has all possible combinations including 2 {{1,2}, {2,2},...}. \n",
    "# A = {{2,1},{2,2},{2,3},{2,4},{2,5},{2,6},{1,2},{3,2},{4,2},{5,2},{6,2}}\n",
    "\n",
    "# Define event B such that sum of outcomes is less than 6. \n",
    "# B = {{1,1},{1,2},{1,3},{1,4},{2,1},{2,2},{2,3}{3,1},{3,2},{4,1}}\n",
    "B = subset(S, X1 + X2 < 6)\n",
    "#print(paste(\"P(B) =\",  round(Prob(B, given = S), 4)))\n",
    "\n",
    "# Event A is conditional on Event B \n",
    "\n",
    "paste(\"P(A|B) =\", round(Prob(A, given = B), 4))"
   ]
  },
  {
   "cell_type": "markdown",
   "metadata": {},
   "source": [
    "<span style=\"color:#1871d6; font-weight:400\">Activity 2: </span> Toss a coin twice. The sample space is given by $S = \\{HH, HT, TH, TT\\}$. Let $A$ = {head occurs} and $B$ = {a head and tail occur}. What are the probabilities $P(A|B)$ and $P(B|A)$?"
   ]
  },
  {
   "cell_type": "markdown",
   "metadata": {},
   "source": [
    "````\n",
    "        \n",
    "     Double click here. Enter your answer for activity 2 here.\n",
    "\n",
    "````\n",
    "𝑃(𝐴|𝐵) = 1 because given an H & T occurred, an H always occurs.\n",
    "𝑃(𝐵|𝐴) = 2/3 because given H occurring, two will be an H & T and one will be H & H."
   ]
  },
  {
   "cell_type": "code",
   "execution_count": null,
   "metadata": {},
   "outputs": [],
   "source": [
    "# Space <- tosscoin(2, makespace = TRUE)\n",
    "# Space\n",
    "# A <- subset(Space, isrep(Space, vals = \"H\", nrep = 1) | isrep(Space, vals = \"H\", nrep = 2))\n",
    "# A\n",
    "# B <- subset(Space, isrep(Space, vals = \"H\", nrep = 1) & isrep(Space, vals = \"T\", nrep = 1))\n",
    "# B\n",
    "# Prob(A, given = B)\n",
    "# Prob(B, given = A)"
   ]
  },
  {
   "cell_type": "markdown",
   "metadata": {},
   "source": [
    "<span style=\"color:#1871d6; font-weight:400\">Activity 3: </span> We have data about the smoking status versus the gender of people working in a company.\n",
    "\n",
    "<table>\n",
    "    <tr>\n",
    "        <th></th>\n",
    "        <th colspan=\"2\">gender</th>\n",
    "        <th>sum</th>\n",
    "    </tr>\n",
    "    <tr>\n",
    "        <td rowspan=\"2\">smoke</td>\n",
    "        <td>80</td>\n",
    "        <td>54</td>\n",
    "        <td>134</td>\n",
    "    </tr>\n",
    "    <tr>\n",
    "        <td>15</td>\n",
    "        <td>19</td>\n",
    "        <td>34</td>\n",
    "    </tr>\n",
    "    <tr>\n",
    "        <td>sum</td>\n",
    "        <td>95</td>\n",
    "        <td>73</td>\n",
    "        <td>168</td>\n",
    "    </tr>\n",
    "</table>\n",
    "    \n",
    "    \n",
    "3.a) If one person were selected at random from the data set, what is the probability that selected person is female?\n",
    "\n",
    "3.b) What is the probability that selected person is a smoker?"
   ]
  },
  {
   "cell_type": "code",
   "execution_count": 64,
   "metadata": {},
   "outputs": [
    {
     "data": {
      "text/html": [
       "<table class=\"dataframe\">\n",
       "<caption>A table: 3 × 3 of type dbl</caption>\n",
       "<thead>\n",
       "\t<tr><th></th><th scope=col>female</th><th scope=col>male</th><th scope=col>Sum</th></tr>\n",
       "</thead>\n",
       "<tbody>\n",
       "\t<tr><th scope=row>nonsmoker</th><td>80</td><td>54</td><td>134</td></tr>\n",
       "\t<tr><th scope=row>smoker</th><td>15</td><td>19</td><td> 34</td></tr>\n",
       "\t<tr><th scope=row>Sum</th><td>95</td><td>73</td><td>168</td></tr>\n",
       "</tbody>\n",
       "</table>\n"
      ],
      "text/latex": [
       "A table: 3 × 3 of type dbl\n",
       "\\begin{tabular}{r|lll}\n",
       "  & female & male & Sum\\\\\n",
       "\\hline\n",
       "\tnonsmoker & 80 & 54 & 134\\\\\n",
       "\tsmoker & 15 & 19 &  34\\\\\n",
       "\tSum & 95 & 73 & 168\\\\\n",
       "\\end{tabular}\n"
      ],
      "text/markdown": [
       "\n",
       "A table: 3 × 3 of type dbl\n",
       "\n",
       "| <!--/--> | female | male | Sum |\n",
       "|---|---|---|---|\n",
       "| nonsmoker | 80 | 54 | 134 |\n",
       "| smoker | 15 | 19 |  34 |\n",
       "| Sum | 95 | 73 | 168 |\n",
       "\n"
      ],
      "text/plain": [
       "          female male Sum\n",
       "nonsmoker 80     54   134\n",
       "smoker    15     19    34\n",
       "Sum       95     73   168"
      ]
     },
     "metadata": {},
     "output_type": "display_data"
    }
   ],
   "source": [
    "# Code for Activity 3 goes here -----\n",
    "# Generate the matrix required to find probabilities\n",
    "\n",
    "smokers <- matrix(c(80, 15, 54, 19), ncol = 2)\n",
    "colnames(smokers) <- c('female', 'male')\n",
    "rownames(smokers) <- c('nonsmoker', 'smoker')\n",
    "smokers.table <- as.table(smokers)\n",
    "\n",
    "addmargins(smokers.table)\n"
   ]
  },
  {
   "cell_type": "code",
   "execution_count": 67,
   "metadata": {},
   "outputs": [
    {
     "data": {
      "text/html": [
       "'P(Female) = 0.5655'"
      ],
      "text/latex": [
       "'P(Female) = 0.5655'"
      ],
      "text/markdown": [
       "'P(Female) = 0.5655'"
      ],
      "text/plain": [
       "[1] \"P(Female) = 0.5655\""
      ]
     },
     "metadata": {},
     "output_type": "display_data"
    }
   ],
   "source": [
    "# Answer for Activity 3.a goes here -----\n",
    "# P(Female) =\n",
    "paste(\"P(Female) =\", round(95 / 168, 4))"
   ]
  },
  {
   "cell_type": "code",
   "execution_count": 68,
   "metadata": {},
   "outputs": [
    {
     "data": {
      "text/html": [
       "'P(Smoker|Female) = 0.1579'"
      ],
      "text/latex": [
       "'P(Smoker\\textbar{}Female) = 0.1579'"
      ],
      "text/markdown": [
       "'P(Smoker|Female) = 0.1579'"
      ],
      "text/plain": [
       "[1] \"P(Smoker|Female) = 0.1579\""
      ]
     },
     "metadata": {},
     "output_type": "display_data"
    }
   ],
   "source": [
    "# Answer for Activity 3.b goes here -----\n",
    "# P(smoker | female) =\n",
    "paste(\"P(Smoker|Female) =\", round(15 / 95, 4))"
   ]
  },
  {
   "cell_type": "markdown",
   "metadata": {},
   "source": [
    "<span style=\"color:#1871d6; font-weight:400\">Activity 4: </span>  Load the framingham data from the directory '/dsa/data/all_datasets/framingham/'. Find out the probability of a randomly subject to have the risk of coronary heart disease given that the subject is a male."
   ]
  },
  {
   "cell_type": "code",
   "execution_count": 72,
   "metadata": {},
   "outputs": [
    {
     "data": {
      "text/html": [
       "<table class=\"dataframe\">\n",
       "<caption>A table: 3 × 3 of type dbl</caption>\n",
       "<thead>\n",
       "\t<tr><th></th><th scope=col>no CHD risk</th><th scope=col>CHD risk</th><th scope=col>Sum</th></tr>\n",
       "</thead>\n",
       "<tbody>\n",
       "\t<tr><th scope=row>female</th><td>2119</td><td>301</td><td>2420</td></tr>\n",
       "\t<tr><th scope=row>male</th><td>1477</td><td>343</td><td>1820</td></tr>\n",
       "\t<tr><th scope=row>Sum</th><td>3596</td><td>644</td><td>4240</td></tr>\n",
       "</tbody>\n",
       "</table>\n"
      ],
      "text/latex": [
       "A table: 3 × 3 of type dbl\n",
       "\\begin{tabular}{r|lll}\n",
       "  & no CHD risk & CHD risk & Sum\\\\\n",
       "\\hline\n",
       "\tfemale & 2119 & 301 & 2420\\\\\n",
       "\tmale & 1477 & 343 & 1820\\\\\n",
       "\tSum & 3596 & 644 & 4240\\\\\n",
       "\\end{tabular}\n"
      ],
      "text/markdown": [
       "\n",
       "A table: 3 × 3 of type dbl\n",
       "\n",
       "| <!--/--> | no CHD risk | CHD risk | Sum |\n",
       "|---|---|---|---|\n",
       "| female | 2119 | 301 | 2420 |\n",
       "| male | 1477 | 343 | 1820 |\n",
       "| Sum | 3596 | 644 | 4240 |\n",
       "\n"
      ],
      "text/plain": [
       "        TenYearCHD\n",
       "male     no CHD risk CHD risk Sum \n",
       "  female 2119        301      2420\n",
       "  male   1477        343      1820\n",
       "  Sum    3596        644      4240"
      ]
     },
     "metadata": {},
     "output_type": "display_data"
    }
   ],
   "source": [
    "# Code for Activity 4 goes here -----\n",
    "framingham_data <- read.csv(\"/dsa/data/all_datasets/framingham/framingham.csv\")\n",
    "\n",
    "chd <- with(framingham_data,table(male,TenYearCHD))\n",
    "colnames(chd) <- c('no CHD risk','CHD risk')\n",
    "rownames(chd) <- c('female','male')\n",
    "\n",
    "addmargins(chd)"
   ]
  },
  {
   "cell_type": "code",
   "execution_count": 75,
   "metadata": {},
   "outputs": [
    {
     "name": "stdout",
     "output_type": "stream",
     "text": [
      "[1] \"P(Male) = 0.4292\"\n",
      "[1] \"P(CHD|Male) = 0.1885\"\n"
     ]
    }
   ],
   "source": [
    "# Enter your answer for Activity 4 -----\n",
    "print(paste(\"P(Male) =\", round(1820 / 4240, 4)))\n",
    "print(paste(\"P(CHD|Male) =\", round(((644/4240) * (343 / 644)) / (1820 / 4240), 4)))"
   ]
  },
  {
   "cell_type": "markdown",
   "metadata": {},
   "source": [
    "<span style=\"color:#1871d6; font-weight:400\">Activity 5: </span> Find out the probability of randomly selected subject to have the risk of coronary heart disease given subject is less than or equal to 40 years of age."
   ]
  },
  {
   "cell_type": "code",
   "execution_count": 102,
   "metadata": {},
   "outputs": [
    {
     "data": {
      "text/html": [
       "<table class=\"dataframe\">\n",
       "<caption>A table: 40 × 3 of type dbl</caption>\n",
       "<thead>\n",
       "\t<tr><th></th><th scope=col>no CHD risk</th><th scope=col>CHD risk</th><th scope=col>Sum</th></tr>\n",
       "</thead>\n",
       "<tbody>\n",
       "\t<tr><th scope=row>32</th><td>   1</td><td>  0</td><td>   1</td></tr>\n",
       "\t<tr><th scope=row>33</th><td>   5</td><td>  0</td><td>   5</td></tr>\n",
       "\t<tr><th scope=row>34</th><td>  18</td><td>  0</td><td>  18</td></tr>\n",
       "\t<tr><th scope=row>35</th><td>  40</td><td>  2</td><td>  42</td></tr>\n",
       "\t<tr><th scope=row>36</th><td>  81</td><td>  3</td><td>  84</td></tr>\n",
       "\t<tr><th scope=row>37</th><td>  88</td><td>  4</td><td>  92</td></tr>\n",
       "\t<tr><th scope=row>38</th><td> 136</td><td>  8</td><td> 144</td></tr>\n",
       "\t<tr><th scope=row>39</th><td> 164</td><td>  6</td><td> 170</td></tr>\n",
       "\t<tr><th scope=row>40</th><td> 177</td><td> 15</td><td> 192</td></tr>\n",
       "\t<tr><th scope=row>41</th><td> 163</td><td> 11</td><td> 174</td></tr>\n",
       "\t<tr><th scope=row>42</th><td> 166</td><td> 14</td><td> 180</td></tr>\n",
       "\t<tr><th scope=row>43</th><td> 146</td><td> 13</td><td> 159</td></tr>\n",
       "\t<tr><th scope=row>44</th><td> 150</td><td> 16</td><td> 166</td></tr>\n",
       "\t<tr><th scope=row>45</th><td> 148</td><td> 14</td><td> 162</td></tr>\n",
       "\t<tr><th scope=row>46</th><td> 166</td><td> 16</td><td> 182</td></tr>\n",
       "\t<tr><th scope=row>47</th><td> 118</td><td> 23</td><td> 141</td></tr>\n",
       "\t<tr><th scope=row>48</th><td> 152</td><td> 21</td><td> 173</td></tr>\n",
       "\t<tr><th scope=row>49</th><td> 108</td><td> 24</td><td> 132</td></tr>\n",
       "\t<tr><th scope=row>50</th><td> 117</td><td> 23</td><td> 140</td></tr>\n",
       "\t<tr><th scope=row>51</th><td> 117</td><td> 29</td><td> 146</td></tr>\n",
       "\t<tr><th scope=row>52</th><td> 117</td><td> 32</td><td> 149</td></tr>\n",
       "\t<tr><th scope=row>53</th><td> 116</td><td> 23</td><td> 139</td></tr>\n",
       "\t<tr><th scope=row>54</th><td> 114</td><td> 18</td><td> 132</td></tr>\n",
       "\t<tr><th scope=row>55</th><td> 121</td><td> 24</td><td> 145</td></tr>\n",
       "\t<tr><th scope=row>56</th><td>  96</td><td> 27</td><td> 123</td></tr>\n",
       "\t<tr><th scope=row>57</th><td>  97</td><td> 26</td><td> 123</td></tr>\n",
       "\t<tr><th scope=row>58</th><td>  86</td><td> 31</td><td> 117</td></tr>\n",
       "\t<tr><th scope=row>59</th><td>  89</td><td> 30</td><td> 119</td></tr>\n",
       "\t<tr><th scope=row>60</th><td>  85</td><td> 26</td><td> 111</td></tr>\n",
       "\t<tr><th scope=row>61</th><td>  85</td><td> 25</td><td> 110</td></tr>\n",
       "\t<tr><th scope=row>62</th><td>  74</td><td> 25</td><td>  99</td></tr>\n",
       "\t<tr><th scope=row>63</th><td>  78</td><td> 32</td><td> 110</td></tr>\n",
       "\t<tr><th scope=row>64</th><td>  72</td><td> 21</td><td>  93</td></tr>\n",
       "\t<tr><th scope=row>65</th><td>  37</td><td> 20</td><td>  57</td></tr>\n",
       "\t<tr><th scope=row>66</th><td>  23</td><td> 15</td><td>  38</td></tr>\n",
       "\t<tr><th scope=row>67</th><td>  28</td><td> 17</td><td>  45</td></tr>\n",
       "\t<tr><th scope=row>68</th><td>  10</td><td>  8</td><td>  18</td></tr>\n",
       "\t<tr><th scope=row>69</th><td>   6</td><td>  1</td><td>   7</td></tr>\n",
       "\t<tr><th scope=row>70</th><td>   1</td><td>  1</td><td>   2</td></tr>\n",
       "\t<tr><th scope=row>Sum</th><td>3596</td><td>644</td><td>4240</td></tr>\n",
       "</tbody>\n",
       "</table>\n"
      ],
      "text/latex": [
       "A table: 40 × 3 of type dbl\n",
       "\\begin{tabular}{r|lll}\n",
       "  & no CHD risk & CHD risk & Sum\\\\\n",
       "\\hline\n",
       "\t32 &    1 &   0 &    1\\\\\n",
       "\t33 &    5 &   0 &    5\\\\\n",
       "\t34 &   18 &   0 &   18\\\\\n",
       "\t35 &   40 &   2 &   42\\\\\n",
       "\t36 &   81 &   3 &   84\\\\\n",
       "\t37 &   88 &   4 &   92\\\\\n",
       "\t38 &  136 &   8 &  144\\\\\n",
       "\t39 &  164 &   6 &  170\\\\\n",
       "\t40 &  177 &  15 &  192\\\\\n",
       "\t41 &  163 &  11 &  174\\\\\n",
       "\t42 &  166 &  14 &  180\\\\\n",
       "\t43 &  146 &  13 &  159\\\\\n",
       "\t44 &  150 &  16 &  166\\\\\n",
       "\t45 &  148 &  14 &  162\\\\\n",
       "\t46 &  166 &  16 &  182\\\\\n",
       "\t47 &  118 &  23 &  141\\\\\n",
       "\t48 &  152 &  21 &  173\\\\\n",
       "\t49 &  108 &  24 &  132\\\\\n",
       "\t50 &  117 &  23 &  140\\\\\n",
       "\t51 &  117 &  29 &  146\\\\\n",
       "\t52 &  117 &  32 &  149\\\\\n",
       "\t53 &  116 &  23 &  139\\\\\n",
       "\t54 &  114 &  18 &  132\\\\\n",
       "\t55 &  121 &  24 &  145\\\\\n",
       "\t56 &   96 &  27 &  123\\\\\n",
       "\t57 &   97 &  26 &  123\\\\\n",
       "\t58 &   86 &  31 &  117\\\\\n",
       "\t59 &   89 &  30 &  119\\\\\n",
       "\t60 &   85 &  26 &  111\\\\\n",
       "\t61 &   85 &  25 &  110\\\\\n",
       "\t62 &   74 &  25 &   99\\\\\n",
       "\t63 &   78 &  32 &  110\\\\\n",
       "\t64 &   72 &  21 &   93\\\\\n",
       "\t65 &   37 &  20 &   57\\\\\n",
       "\t66 &   23 &  15 &   38\\\\\n",
       "\t67 &   28 &  17 &   45\\\\\n",
       "\t68 &   10 &   8 &   18\\\\\n",
       "\t69 &    6 &   1 &    7\\\\\n",
       "\t70 &    1 &   1 &    2\\\\\n",
       "\tSum & 3596 & 644 & 4240\\\\\n",
       "\\end{tabular}\n"
      ],
      "text/markdown": [
       "\n",
       "A table: 40 × 3 of type dbl\n",
       "\n",
       "| <!--/--> | no CHD risk | CHD risk | Sum |\n",
       "|---|---|---|---|\n",
       "| 32 |    1 |   0 |    1 |\n",
       "| 33 |    5 |   0 |    5 |\n",
       "| 34 |   18 |   0 |   18 |\n",
       "| 35 |   40 |   2 |   42 |\n",
       "| 36 |   81 |   3 |   84 |\n",
       "| 37 |   88 |   4 |   92 |\n",
       "| 38 |  136 |   8 |  144 |\n",
       "| 39 |  164 |   6 |  170 |\n",
       "| 40 |  177 |  15 |  192 |\n",
       "| 41 |  163 |  11 |  174 |\n",
       "| 42 |  166 |  14 |  180 |\n",
       "| 43 |  146 |  13 |  159 |\n",
       "| 44 |  150 |  16 |  166 |\n",
       "| 45 |  148 |  14 |  162 |\n",
       "| 46 |  166 |  16 |  182 |\n",
       "| 47 |  118 |  23 |  141 |\n",
       "| 48 |  152 |  21 |  173 |\n",
       "| 49 |  108 |  24 |  132 |\n",
       "| 50 |  117 |  23 |  140 |\n",
       "| 51 |  117 |  29 |  146 |\n",
       "| 52 |  117 |  32 |  149 |\n",
       "| 53 |  116 |  23 |  139 |\n",
       "| 54 |  114 |  18 |  132 |\n",
       "| 55 |  121 |  24 |  145 |\n",
       "| 56 |   96 |  27 |  123 |\n",
       "| 57 |   97 |  26 |  123 |\n",
       "| 58 |   86 |  31 |  117 |\n",
       "| 59 |   89 |  30 |  119 |\n",
       "| 60 |   85 |  26 |  111 |\n",
       "| 61 |   85 |  25 |  110 |\n",
       "| 62 |   74 |  25 |   99 |\n",
       "| 63 |   78 |  32 |  110 |\n",
       "| 64 |   72 |  21 |   93 |\n",
       "| 65 |   37 |  20 |   57 |\n",
       "| 66 |   23 |  15 |   38 |\n",
       "| 67 |   28 |  17 |   45 |\n",
       "| 68 |   10 |   8 |   18 |\n",
       "| 69 |    6 |   1 |    7 |\n",
       "| 70 |    1 |   1 |    2 |\n",
       "| Sum | 3596 | 644 | 4240 |\n",
       "\n"
      ],
      "text/plain": [
       "     TenYearCHD\n",
       "age   no CHD risk CHD risk Sum \n",
       "  32     1          0         1\n",
       "  33     5          0         5\n",
       "  34    18          0        18\n",
       "  35    40          2        42\n",
       "  36    81          3        84\n",
       "  37    88          4        92\n",
       "  38   136          8       144\n",
       "  39   164          6       170\n",
       "  40   177         15       192\n",
       "  41   163         11       174\n",
       "  42   166         14       180\n",
       "  43   146         13       159\n",
       "  44   150         16       166\n",
       "  45   148         14       162\n",
       "  46   166         16       182\n",
       "  47   118         23       141\n",
       "  48   152         21       173\n",
       "  49   108         24       132\n",
       "  50   117         23       140\n",
       "  51   117         29       146\n",
       "  52   117         32       149\n",
       "  53   116         23       139\n",
       "  54   114         18       132\n",
       "  55   121         24       145\n",
       "  56    96         27       123\n",
       "  57    97         26       123\n",
       "  58    86         31       117\n",
       "  59    89         30       119\n",
       "  60    85         26       111\n",
       "  61    85         25       110\n",
       "  62    74         25        99\n",
       "  63    78         32       110\n",
       "  64    72         21        93\n",
       "  65    37         20        57\n",
       "  66    23         15        38\n",
       "  67    28         17        45\n",
       "  68    10          8        18\n",
       "  69     6          1         7\n",
       "  70     1          1         2\n",
       "  Sum 3596        644      4240"
      ]
     },
     "metadata": {},
     "output_type": "display_data"
    },
    {
     "data": {
      "text/html": [
       "<style>\n",
       ".list-inline {list-style: none; margin:0; padding: 0}\n",
       ".list-inline>li {display: inline-block}\n",
       ".list-inline>li:not(:last-child)::after {content: \"\\00b7\"; padding: 0 .5ex}\n",
       "</style>\n",
       "<ol class=list-inline><li>1</li><li>5</li><li>18</li><li>40</li><li>37</li><li>23</li><li>28</li><li>10</li><li>6</li><li>1</li><li>0</li><li>0</li><li>0</li><li>2</li><li>3</li><li>4</li><li>8</li><li>6</li><li>15</li><li>11</li><li>14</li><li>13</li><li>16</li><li>14</li><li>16</li><li>23</li><li>21</li><li>24</li><li>23</li><li>29</li><li>32</li><li>23</li><li>18</li><li>24</li><li>27</li><li>26</li><li>31</li><li>30</li><li>26</li><li>25</li><li>25</li><li>32</li><li>21</li><li>20</li><li>15</li><li>17</li><li>8</li><li>1</li><li>1</li></ol>\n"
      ],
      "text/latex": [
       "\\begin{enumerate*}\n",
       "\\item 1\n",
       "\\item 5\n",
       "\\item 18\n",
       "\\item 40\n",
       "\\item 37\n",
       "\\item 23\n",
       "\\item 28\n",
       "\\item 10\n",
       "\\item 6\n",
       "\\item 1\n",
       "\\item 0\n",
       "\\item 0\n",
       "\\item 0\n",
       "\\item 2\n",
       "\\item 3\n",
       "\\item 4\n",
       "\\item 8\n",
       "\\item 6\n",
       "\\item 15\n",
       "\\item 11\n",
       "\\item 14\n",
       "\\item 13\n",
       "\\item 16\n",
       "\\item 14\n",
       "\\item 16\n",
       "\\item 23\n",
       "\\item 21\n",
       "\\item 24\n",
       "\\item 23\n",
       "\\item 29\n",
       "\\item 32\n",
       "\\item 23\n",
       "\\item 18\n",
       "\\item 24\n",
       "\\item 27\n",
       "\\item 26\n",
       "\\item 31\n",
       "\\item 30\n",
       "\\item 26\n",
       "\\item 25\n",
       "\\item 25\n",
       "\\item 32\n",
       "\\item 21\n",
       "\\item 20\n",
       "\\item 15\n",
       "\\item 17\n",
       "\\item 8\n",
       "\\item 1\n",
       "\\item 1\n",
       "\\end{enumerate*}\n"
      ],
      "text/markdown": [
       "1. 1\n",
       "2. 5\n",
       "3. 18\n",
       "4. 40\n",
       "5. 37\n",
       "6. 23\n",
       "7. 28\n",
       "8. 10\n",
       "9. 6\n",
       "10. 1\n",
       "11. 0\n",
       "12. 0\n",
       "13. 0\n",
       "14. 2\n",
       "15. 3\n",
       "16. 4\n",
       "17. 8\n",
       "18. 6\n",
       "19. 15\n",
       "20. 11\n",
       "21. 14\n",
       "22. 13\n",
       "23. 16\n",
       "24. 14\n",
       "25. 16\n",
       "26. 23\n",
       "27. 21\n",
       "28. 24\n",
       "29. 23\n",
       "30. 29\n",
       "31. 32\n",
       "32. 23\n",
       "33. 18\n",
       "34. 24\n",
       "35. 27\n",
       "36. 26\n",
       "37. 31\n",
       "38. 30\n",
       "39. 26\n",
       "40. 25\n",
       "41. 25\n",
       "42. 32\n",
       "43. 21\n",
       "44. 20\n",
       "45. 15\n",
       "46. 17\n",
       "47. 8\n",
       "48. 1\n",
       "49. 1\n",
       "\n",
       "\n"
      ],
      "text/plain": [
       " [1]  1  5 18 40 37 23 28 10  6  1  0  0  0  2  3  4  8  6 15 11 14 13 16 14 16\n",
       "[26] 23 21 24 23 29 32 23 18 24 27 26 31 30 26 25 25 32 21 20 15 17  8  1  1"
      ]
     },
     "metadata": {},
     "output_type": "display_data"
    }
   ],
   "source": [
    "# P(CHD | age <= 40) = P(CHD and age <= 40) / P(age <= 40)\n",
    "# Code for activity 5 goes here...\n",
    "\n",
    "\n",
    "+++++++++TRY GROUP BY AGE++++++++++++++++\n",
    "\n",
    "\n",
    "\n",
    "age_CHD <- with(framingham_data,table(age,TenYearCHD))\n",
    "colnames(age_CHD) <- c('no CHD risk','CHD risk')\n",
    "addmargins(age_CHD)\n",
    "less41_CHD <- subset(age_CHD, age<=40)\n",
    "less41_CHD\n",
    "\n",
    "#S = framingham_data\n",
    "#A = subset(S, TenYearCHD==1)\n",
    "#A\n",
    "#B = subset(S, age<=40)\n",
    "#B\n",
    "#t = isin(A, B)\n",
    "#t\n",
    "#paste(\"P(CHD|Age) =\",  round(Prob(A, given = B), 4))"
   ]
  },
  {
   "cell_type": "markdown",
   "metadata": {},
   "source": [
    "<span style=\"color:#1871d6; font-weight:400\">Activity 6: </span> Find out the probability of randomly selected subject to have the risk of coronary heart disease given that the subject smokes less than 10 cigarettes.\n",
    "\n",
    "**Hint:** Use a 3-way table to include the variables cigsPerDay, TenYearCHD and currentSmoker. Use currentSmoker as the 3rd dimension/input."
   ]
  },
  {
   "cell_type": "code",
   "execution_count": null,
   "metadata": {},
   "outputs": [],
   "source": [
    "# Code for activity 6 goes here....\n",
    "\n"
   ]
  },
  {
   "cell_type": "code",
   "execution_count": null,
   "metadata": {},
   "outputs": [],
   "source": [
    "# P( risk of CHD | subject smokes <10 cigs ) = P( risk of CHD and subject smokes <10 cigs)/ P(subject smokes <10 cigs)\n",
    "# Enter your answer for Activity 6 -----\n",
    "\n",
    "\n"
   ]
  },
  {
   "cell_type": "markdown",
   "metadata": {},
   "source": [
    "<span style=\"color:#1871d6; font-weight:400\">Activity 7.a: </span> Find out the probability of randomly selected subject to have the risk of coronary heart disease given that the subject has totChol > 300 and has BMI >30. \n",
    "\n",
    "<span style=\"color:#1871d6; font-weight:400\">Activity 7.b: </span> Find out the probability of randomly selected subject to have the risk of coronary heart disease given that the subject has totChol > 300 and has BMI < 30. \n",
    "\n",
    "**Hint:** Use a 3-way table. Use BMI as the 3rd dimension/input."
   ]
  },
  {
   "cell_type": "code",
   "execution_count": null,
   "metadata": {},
   "outputs": [],
   "source": [
    "# Enter your answer for Activity 7.a (BMI > 30) -----  \n",
    "# P( risk of CHD | subject has totChol > 300 ) = P( risk of CHD and subject has totChol > 300 )/ P(subject has totChol > 300 )\n",
    "\n",
    "\n"
   ]
  },
  {
   "cell_type": "code",
   "execution_count": null,
   "metadata": {},
   "outputs": [],
   "source": [
    "# Enter your answer for Activity 7.b (BMI < 30) -----  \n",
    "# P( risk of CHD | subject has totChol > 300 ) = P( risk of CHD and subject has totChol > 300 )/ P(subject has totChol > 300 )\n",
    "\n",
    "\n"
   ]
  }
 ],
 "metadata": {
  "kernelspec": {
   "display_name": "R",
   "language": "R",
   "name": "ir"
  },
  "language_info": {
   "codemirror_mode": "r",
   "file_extension": ".r",
   "mimetype": "text/x-r-source",
   "name": "R",
   "pygments_lexer": "r",
   "version": "4.0.5"
  }
 },
 "nbformat": 4,
 "nbformat_minor": 1
}
