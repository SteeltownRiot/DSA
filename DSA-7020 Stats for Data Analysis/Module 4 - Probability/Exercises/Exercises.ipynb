{
 "cells": [
  {
   "cell_type": "markdown",
   "metadata": {
    "collapsed": true
   },
   "source": [
    "### Module 4 - Probability Exercises "
   ]
  },
  {
   "cell_type": "markdown",
   "metadata": {},
   "source": [
    "Most of the concepts we discussed in this module were theoretical. Examples were used to explain how to apply conditional probability concepts on dataset columns. The exercises in this notebook will be similar to what you have seen in lab and practice notebooks. \n",
    "\n",
    "Refer to your labs: [Bayes](../labs/Bayes.ipynb), [Conditional_Probability](../labs/Conditional_Probability.ipynb) and [Distributions](../labs/Distributions.ipynb).  \n",
    "\n",
    "Practice notebooks: [Conditional_Probability](../practices/Conditional_Probability.ipynb) and [Bayes](../labs/Bayes.ipynb). "
   ]
  },
  {
   "cell_type": "markdown",
   "metadata": {},
   "source": [
    "Let's recall what is an independent and dependent event through below activity. Consider an event of rolling two dice. The sample space $S=\\{\\{1,1\\}, \\{1,2\\}, \\{1,3\\},....,\\{6,6\\}\\}$ contains 36 possible combinations on two dice.\n",
    "\n",
    "<span style=\"color:#1871d6; font-weight:400\">Activity 1.a: </span> What is the probability of getting a 2 on either dice?"
   ]
  },
  {
   "cell_type": "code",
   "execution_count": null,
   "metadata": {},
   "outputs": [],
   "source": [
    "# Your code for activity 1.a goes here...\n",
    "\n",
    "\n",
    "library(prob)\n",
    "S <- rolldie(2, makespace = TRUE)\n",
    "\n",
    "# Define the event A such that it has all possible combinations including a 2 {{1,2}, {2,2}, {2,3},...} \n",
    "\n",
    "# YOUR CODE HERE "
   ]
  },
  {
   "cell_type": "markdown",
   "metadata": {},
   "source": [
    "<span style=\"color:#1871d6; font-weight:400\">Activity 1.b: </span> What is the probability of getting a 2 on either dice given that the sum of the two outcomes is less than 6? "
   ]
  },
  {
   "cell_type": "code",
   "execution_count": null,
   "metadata": {},
   "outputs": [],
   "source": [
    "# Your code for activity 1.b goes here...\n",
    "\n",
    "# Define the event A such that it has all possible combinations including 2 {{1,2}, {2,2},...}. \n",
    "\n",
    "\n",
    "# Define event B such that sum of outcomes is less than 6. \n",
    "\n",
    "\n",
    "\n",
    "# Event A is conditional on Event B \n"
   ]
  },
  {
   "cell_type": "markdown",
   "metadata": {},
   "source": [
    "<span style=\"color:#1871d6; font-weight:400\">Activity 2: </span> Toss a coin twice. The sample space is given by $S = \\{HH, HT, TH, TT\\}$. Let $A$ = {head occurs} and $B$ = {a head and tail occur}. What are the probabilities $P(A|B)$ and $P(B|A)$?"
   ]
  },
  {
   "cell_type": "markdown",
   "metadata": {},
   "source": [
    "````\n",
    "        \n",
    "     Double click here. Enter your answer for activity 2 here.\n",
    "\n",
    "````\n"
   ]
  },
  {
   "cell_type": "markdown",
   "metadata": {},
   "source": [
    "<span style=\"color:#1871d6; font-weight:400\">Activity 3: </span> We have data about the smoking status versus the gender of people working in a company.\n",
    "\n",
    "<table>\n",
    "    <tr>\n",
    "        <th></th>\n",
    "        <th colspan=\"2\">gender</th>\n",
    "        <th>sum</th>\n",
    "    </tr>\n",
    "    <tr>\n",
    "        <td rowspan=\"2\">smoke</td>\n",
    "        <td>80</td>\n",
    "        <td>54</td>\n",
    "        <td>134</td>\n",
    "    </tr>\n",
    "    <tr>\n",
    "        <td>15</td>\n",
    "        <td>19</td>\n",
    "        <td>34</td>\n",
    "    </tr>\n",
    "    <tr>\n",
    "        <td>sum</td>\n",
    "        <td>95</td>\n",
    "        <td>73</td>\n",
    "        <td>168</td>\n",
    "    </tr>\n",
    "</table>\n",
    "    \n",
    "    \n",
    "3.a) If one person were selected at random from the data set, what is the probability that selected person is female?\n",
    "\n",
    "3.b) What is the probability that selected person is a smoker?"
   ]
  },
  {
   "cell_type": "code",
   "execution_count": null,
   "metadata": {},
   "outputs": [],
   "source": [
    "# Code for Activity 3 goes here -----\n",
    "# Generate the matrix required to find probabilities\n",
    "\n"
   ]
  },
  {
   "cell_type": "code",
   "execution_count": null,
   "metadata": {},
   "outputs": [],
   "source": [
    "# Answer for Activity 3.a goes here -----\n",
    "# P(Female) =\n"
   ]
  },
  {
   "cell_type": "code",
   "execution_count": null,
   "metadata": {},
   "outputs": [],
   "source": [
    "# Answer for Activity 3.b goes here -----\n",
    "# P(smoker | female) =\n"
   ]
  },
  {
   "cell_type": "markdown",
   "metadata": {},
   "source": [
    "<span style=\"color:#1871d6; font-weight:400\">Activity 4: </span>  Load the framingham data from the directory '/dsa/data/all_datasets/framingham/'. Find out the probability of a randomly subject to have the risk of coronary heart disease given that the subject is a male."
   ]
  },
  {
   "cell_type": "code",
   "execution_count": null,
   "metadata": {},
   "outputs": [],
   "source": [
    "# Code for Activity 4 goes here -----\n",
    "\n"
   ]
  },
  {
   "cell_type": "code",
   "execution_count": null,
   "metadata": {},
   "outputs": [],
   "source": [
    "# Enter your answer for Activity 4 -----\n",
    "\n"
   ]
  },
  {
   "cell_type": "markdown",
   "metadata": {},
   "source": [
    "<span style=\"color:#1871d6; font-weight:400\">Activity 5: </span> Find out the probability of randomly selected subject to have the risk of coronary heart disease given subject is less than or equal to 40 years of age."
   ]
  },
  {
   "cell_type": "code",
   "execution_count": null,
   "metadata": {},
   "outputs": [],
   "source": [
    "# P(CHD | age <= 40) = P(CHD and age <= 40) / P(age <= 40)\n",
    "# Code for activity 5 goes here...\n",
    "\n"
   ]
  },
  {
   "cell_type": "markdown",
   "metadata": {},
   "source": [
    "<span style=\"color:#1871d6; font-weight:400\">Activity 6: </span> Find out the probability of randomly selected subject to have the risk of coronary heart disease given that the subject smokes less than 10 cigarettes.\n",
    "\n",
    "**Hint:** Use a 3-way table to include the variables cigsPerDay, TenYearCHD and currentSmoker. Use currentSmoker as the 3rd dimension/input."
   ]
  },
  {
   "cell_type": "code",
   "execution_count": null,
   "metadata": {},
   "outputs": [],
   "source": [
    "# Code for activity 6 goes here....\n",
    "\n"
   ]
  },
  {
   "cell_type": "code",
   "execution_count": null,
   "metadata": {},
   "outputs": [],
   "source": [
    "# P( risk of CHD | subject smokes <10 cigs ) = P( risk of CHD and subject smokes <10 cigs)/ P(subject smokes <10 cigs)\n",
    "# Enter your answer for Activity 6 -----\n",
    "\n",
    "\n"
   ]
  },
  {
   "cell_type": "markdown",
   "metadata": {},
   "source": [
    "<span style=\"color:#1871d6; font-weight:400\">Activity 7.a: </span> Find out the probability of randomly selected subject to have the risk of coronary heart disease given that the subject has totChol > 300 and has BMI >30. \n",
    "\n",
    "<span style=\"color:#1871d6; font-weight:400\">Activity 7.b: </span> Find out the probability of randomly selected subject to have the risk of coronary heart disease given that the subject has totChol > 300 and has BMI < 30. \n",
    "\n",
    "**Hint:** Use a 3-way table. Use BMI as the 3rd dimension/input."
   ]
  },
  {
   "cell_type": "code",
   "execution_count": null,
   "metadata": {},
   "outputs": [],
   "source": [
    "# Enter your answer for Activity 7.a (BMI > 30) -----  \n",
    "# P( risk of CHD | subject has totChol > 300 ) = P( risk of CHD and subject has totChol > 300 )/ P(subject has totChol > 300 )\n",
    "\n",
    "\n"
   ]
  },
  {
   "cell_type": "code",
   "execution_count": null,
   "metadata": {},
   "outputs": [],
   "source": [
    "# Enter your answer for Activity 7.b (BMI < 30) -----  \n",
    "# P( risk of CHD | subject has totChol > 300 ) = P( risk of CHD and subject has totChol > 300 )/ P(subject has totChol > 300 )\n",
    "\n",
    "\n"
   ]
  }
 ],
 "metadata": {
  "kernelspec": {
   "display_name": "R",
   "language": "R",
   "name": "ir"
  },
  "language_info": {
   "codemirror_mode": "r",
   "file_extension": ".r",
   "mimetype": "text/x-r-source",
   "name": "R",
   "pygments_lexer": "r",
   "version": "4.0.5"
  }
 },
 "nbformat": 4,
 "nbformat_minor": 1
}
