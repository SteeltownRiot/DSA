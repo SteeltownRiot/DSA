{
 "cells": [
  {
   "cell_type": "markdown",
   "metadata": {
    "collapsed": true
   },
   "source": [
    "# Conditional Probability\n",
    "\n",
    "In this lab notebook, we will be looking into independent and dependent events, \n",
    "concepts of conditional probablity, permutations, and combinations. \n",
    "\n",
    "\n",
    "Conditional probability is the probability of seeing some event knowing that some other event has actually occurred. For example, weather forecasting is based on conditional probabilities. \n",
    "When the forecast says that there is a 30% chance of rain, \n",
    "that probability is based on all the information that the meteorologists know up until that point.\n",
    "\n",
    "Let's look into what independent and dependent events are. \n",
    "\n",
    "**Reference:** [Elementary Probability and the prob Package](https://cran.r-project.org/web/packages/prob/vignettes/prob.pdf)"
   ]
  },
  {
   "cell_type": "markdown",
   "metadata": {},
   "source": [
    "---\n",
    "\n",
    "<span style=\"color:#1871d6; font-size:20px; font-weight:500\">  Independent and Dependent Events</span>\n",
    "\n",
    "\n",
    "**Independent:** The probabilities of events $A$ **and** $B$ (and as in intersection) are said to be independent if the fact that one event has occurred does not affect the probability that the other event will occur.  \n",
    "\n",
    "$$ P(A \\cap B) = P(A) \\times P(B) $$\n",
    "            \n",
    "           \n",
    "IF $P(A) \\times P(B) = P(A \\cap B)$ THEN $A$ and $B$ are independent events, otherwise, they are dependent events.\n",
    "\n",
    "If the occurrence of Event $A$ changes the probability of Event $B$, then Events $A$ and $B$ are **dependent.**  \n",
    "\n",
    "A **conditional probability** is one that denotes the probability that Event $A$ occurs, **given** that Event $B$ _has occurred_.  Here is how we represent a conditional probability:\n",
    "\n",
    "$$ P(A|B) = \\frac{P(A\\cap B)}{P(B)} $$\n",
    "    \n",
    "\n",
    "In a conditional probability, **if A and B are independent** (which then means it's not truly a conditional probability), the numerator of the fraction will factor out so that $P(B)$ then cancels out:\n",
    "\n",
    "\n",
    " \n",
    "\n",
    "if $A$ and $B$ are independent   $$ P(A|B) = \\frac{P(A)\\times P(B)}{P(B)} =  P(A)$$\n",
    "\n",
    "                                                     \n",
    "\n",
    "Let's consider the example of tossing ten coins to illustrate the nature of independent events. \n",
    "So, what is the probability of observing at least one Head? \n",
    "\n",
    "Imagine that we are tossing the coins in such a way that they do not interfere with each other; i.e. they are independent events. \n",
    "\n",
    "The only way there will not be at least one Head is if **all** tosses are Tails. \n",
    "Therefore,\n",
    "         \n",
    "$P$(at least one H) $= 1 − P$(all T) $ = 1 - {(\\frac{1}{2})}^{10} = 0.9990234375$\n",
    "         \n",
    "---"
   ]
  },
  {
   "cell_type": "code",
   "execution_count": null,
   "metadata": {},
   "outputs": [],
   "source": [
    "#Let's try to do the same thing in R\n",
    "\n",
    "library(prob)\n",
    "\n",
    "Space <- tosscoin(10, makespace = TRUE)\n",
    "\n",
    "# The isrep function in the prob package will test each row of Space to see whether the value T appears 10 times \n",
    "# and returns true or false for each row it checks. The subset function is logical, so makes a subset with the \n",
    "# rows which are true.\n",
    "\n",
    "head(isrep(Space, vals = \"T\", nrep = 10))\n",
    "\n",
    "subset(Space, isrep(Space, vals = \"T\", nrep = 10))\n",
    "\n",
    "A <- subset(Space, isrep(Space, vals = \"T\", nrep = 10))\n",
    "\n",
    "1 - Prob(A)"
   ]
  },
  {
   "cell_type": "markdown",
   "metadata": {},
   "source": [
    "---\n",
    "\n",
    "<span style=\"color:#1871d6; font-size:16px; font-weight:700\"> Repeated Experiments with Independent Events </span>\n",
    "\n",
    "Experiments are repeated when we want to discern the probability of two events occuring more reliably. \n",
    "Often, a single experiment does not yield sufficient data. \n",
    "Therefore, it is common to repeat a certain experiment multiple times under identical \n",
    "conditions and in an independent manner. \n",
    "Experiments like tossing a coin repeatedly, rolling a die or dice, etc. are repeated experiments.\n",
    "\n",
    "The `iidspace` function in the prob library in R (note `library(prob)` in the code above) implements repeated experiments. \n",
    "It takes three arguments: \n",
    "`x`, which is a vector of outcomes, \n",
    "`ntrials`, which is an integer telling how many times to repeat the experiment, and \n",
    "`probs` to specify the probabilities of the outcomes of x in a single trial."
   ]
  },
  {
   "cell_type": "code",
   "execution_count": null,
   "metadata": {},
   "outputs": [],
   "source": [
    "iidspace(c(\"H\",\"T\"), ntrials = 3, probs = c(0.5, 0.5))"
   ]
  },
  {
   "cell_type": "markdown",
   "metadata": {},
   "source": [
    "---\n",
    "\n",
    "<span style=\"color:#1871d6; font-size:20px; font-weight:700\"> Dependent Events / Conditional Probability"
   ]
  },
  {
   "cell_type": "markdown",
   "metadata": {},
   "source": [
    "\n",
    "Consider an example of drawing cards from a full deck of 52 standard playing cards as an example of *dependent events* and *conditional probability*. \n",
    "\n",
    "\n",
    "We will select two cards from the deck, in succession. Let's define two events $A$ and $B$ as following: \n",
    "\n",
    "                   A = {first card drawn is an Ace}; B = {second card drawn is an Ace}. \n",
    "\n",
    "Since there are **four** Aces in the deck, it is natural to assign $P(A) = 4/52$. \n",
    "\n",
    "\n",
    "Are $A$ and $B$ dependent? \n",
    "\n",
    "\n",
    "Let's see how $B$ depends on $A$: after the first card is drawn, there are only **51** cards remaining. \n",
    "What is the probability of **B** now? The answer depends on the value of the first card. \n",
    "If the first card is an Ace, then the probability that the second also is an Ace should be 3/51, \n",
    "but if the first card is not an Ace, then the probability that the second is an Ace should be 4/51. \n",
    "\n",
    "So the probability of $B$ is conditioned on $A$. \n",
    "For the situation in which Event $B$ is a drawn Ace **after** Event $A$ is a drawn Ace, we write:\n",
    "      \n",
    "$$ P(B|A) = 3/51$$\n",
    "\n",
    "$$ P(A) = 4/52$$\n",
    "    \n",
    "The probability of $B$ happening, if $A$ happened, is 3/51. \n",
    "\n",
    "    \n",
    "**Definition:** The conditional probability of $B$ given $A$ (i.e., the probability of $B$ given that $A$ occurs), denoted $P(B|A)$, is defined by:\n",
    "    \n",
    "\n",
    "$$ P(B|A) = \\frac{P(A\\cap B)}{P(A)}  $$\n",
    "\n",
    "                \n",
    "We can't factor the numerator and cancel the $P(A)$'s here, though, because the events are not independent.\n",
    "\n",
    "$P(A \\cap B)$ means **the probability that A and B intersect**; the probability that both **A and B** occur.\n",
    "\n",
    "The events are _dependent_ because the occurrence of Event $A$ changes the probability of the occurrence of Event $B$. \n",
    "    \n",
    "    \n",
    "From \n",
    "$$ P(B|A) = \\frac{P(A\\cap B)}{P(A)}  $$\n",
    "\n",
    "we can rewrite:\n",
    "\n",
    "$$ P(A\\cap B) = P(B|A)\\times P(A) =   \\frac{3}{51}\\times \\frac{4}{52}  =    0.0045     $$\n",
    "\n"
   ]
  },
  {
   "cell_type": "code",
   "execution_count": null,
   "metadata": {},
   "outputs": [],
   "source": [
    "(3/51)*(4/52)"
   ]
  },
  {
   "cell_type": "markdown",
   "metadata": {},
   "source": [
    "---\n",
    "\n",
    "**Example:** \n",
    "\n",
    "Let's work out an example. \n",
    "\n",
    "Toss a six-sided die **twice**. \n",
    "The sample space consists of all ordered pairs $(i, j)$ of the numbers $1, 2,\\dots , 6$, that is, $S = \\{(1, 1), (1, 2), \\dots ,(6, 6)\\}$. \n",
    "\n",
    "Essentially, $i$ is the outcome of one die and $j$ is the outcome of the other die. \n",
    "\n",
    "Let $A$ = {outcomes match} and $B$ = {sum of outcomes at least 8}.\n"
   ]
  },
  {
   "cell_type": "code",
   "execution_count": null,
   "metadata": {},
   "outputs": [],
   "source": [
    "# The first thing to do is set up the probability space with the \n",
    "# rolldie function inside the prob library.\n",
    "\n",
    "# So, \"S\" is the probability space\n",
    "# \"rolldie\" is the function\n",
    "# 2 is the number of die\n",
    "# makespace is \"make the space? Yes or no?\"\n",
    "\n",
    "S <- rolldie(2, makespace = TRUE)\n",
    "\n",
    "# S contains all the 36 possible outcomes {(1,1),(1,2)....(6,6)} with \n",
    "# each outcome having an identical probability of 0.02777778\n",
    "head(S)"
   ]
  },
  {
   "cell_type": "code",
   "execution_count": null,
   "metadata": {},
   "outputs": [],
   "source": [
    "# Subsetting sample space S, for outcomes matching event A(outcomes match). \n",
    "# This results in a set where both die are the same (i & j are the same)\n",
    "A <- subset(S, X1 == X2)\n",
    "A"
   ]
  },
  {
   "cell_type": "code",
   "execution_count": null,
   "metadata": {},
   "outputs": [],
   "source": [
    "# Subsetting sample space S, \n",
    "# for outcomes matching event B(sum of outcomes at least 8). \n",
    "# The die total must be 8 or more\n",
    "B <- subset(S, X1 + X2 >= 8)\n",
    "B"
   ]
  },
  {
   "cell_type": "code",
   "execution_count": null,
   "metadata": {},
   "outputs": [],
   "source": [
    "# When calculating conditional probability, we should use the \n",
    "# \"given\" argument of the prob function as shown below:\n",
    "\n",
    "# A is the event of getting same outcome {{1,1},{2,2}...{6,6}}\n",
    "\n",
    "# B is the event of getting the outcomes with sum of >=8 {{2,6},{3,6},{4,6},{5,6},{6,6},{3,5}...{6,6}}\n",
    "\n",
    "paste('P(A/B): ',Prob(A, given = B))\n",
    "\n",
    "paste('P(B/A): ',Prob(B, given = A))\n",
    "\n",
    "# Instead of defining events A and B, you can directly do conditional probability, if we reference the original \n",
    "# probability space S as the first argument of the prob calculation as shown below:\n",
    "paste('P(A/B): ', Prob(S, X1 == X2, given = (X1 + X2 >= 8)))\n",
    "\n",
    "paste('P(B/A): ', Prob(S, X1 + X2 >= 8, given = (X1 == X2)))"
   ]
  },
  {
   "cell_type": "markdown",
   "metadata": {},
   "source": [
    "The above examples shown are simple applications of conditional probability on a die. \n",
    "`prob` package can be extended to multivariate datasets where events can be defined \n",
    "as columns and supplied as arguments, like in the previous examples."
   ]
  },
  {
   "cell_type": "markdown",
   "metadata": {},
   "source": [
    "---\n",
    "\n",
    "<span style=\"color:#1871d6; font-size:20px; font-weight:700\"> Permutations and Combinations\n",
    "\n",
    "The main difference between combinations and permutations is that a combination does not take into account the order, whereas a permutation does.\n",
    "\n",
    "Consider a simple example from [mathisfun](http://www.mathsisfun.com/combinatorics/combinations-permutations.html). \n",
    "When we say \"My fruit salad is a **combination** of apples, grapes and bananas\", we are not bothered about what order the fruits are in. No matter in which order you mention the fruits, it's the same fruit salad.\n",
    "\n",
    "But when we say \"You need the combination 123 to open the safe\", \n",
    "we care about the order of numbers. \n",
    "No other combination will work to open the safe. \n",
    "It has to be exactly 1-2-3. \n",
    "This is a **permutation**.\n",
    "\n",
    "  * When the order doesn't matter, it is a Combination.\n",
    "\t\n",
    "  * When the order does matter, it is a Permutation.\n",
    "    \n",
    "\n",
    "There are many ways you can create permutations and combinations in R. \n",
    "We will be using `combinat` package for this. "
   ]
  },
  {
   "cell_type": "markdown",
   "metadata": {},
   "source": [
    "**combn():**\n",
    "\n",
    "`combn()` is used to generate combinations. Its usage is illustrated below. \n",
    "\n",
    "`Usage`\n",
    "\n",
    "    combn(x, m, fun=NULL, simplify=TRUE, ...)\n",
    "\n",
    "\n",
    "`Arguments`\n",
    "\n",
    "    x         vector source for combinations i'e the vector of elements used to generate the combinations \n",
    "    m         number of elements in combination. If you specify 2 as input, combinations of size two are generated.\n",
    "    fun       function to be applied to each combination (may be null). It can be any function like sum(), mean() etc.\n",
    "    simplify  logical, if FALSE, returns a list, otherwise returns vector or array. \n",
    "    ...       args to fun\n",
    "\n",
    "It generates all combinations of the elements of x taken m at a time. \n",
    "In code snippet below, we have given an input of 4 to x and 2 to m. \n",
    "So, the function has to return combinations of size 2 using the numbers {1,2,3,4}, like {{1,2},{1,3}....}. \n",
    "\n",
    "If argument FUN is not NULL, the code applies a function given by the argument to each point. \n",
    "We will supply sum() as the function. \n",
    "If `simplify` is FALSE, it returns a list; otherwise, it returns an array, typically a matrix. \n",
    "\"...\" are passed unchanged to the FUN function, if specified."
   ]
  },
  {
   "cell_type": "code",
   "execution_count": null,
   "metadata": {},
   "outputs": [],
   "source": [
    "library(combinat)\n",
    "#Generate different possible combinations of size 2 using numbers {1,2,3,4}\n",
    "combn(4, 2)\n",
    "\n",
    "print(\"sum of elements of each combination \")\n",
    "#Generate different possible combinations of size 2 using numbers {1,2,3,4} and return their sums.\n",
    "combn(4, 2,sum)"
   ]
  },
  {
   "cell_type": "markdown",
   "metadata": {},
   "source": [
    "**permn():** `permn()` is used to generate permutations. \n",
    "\n",
    "`Usage`\n",
    "\n",
    "    permn(x, fun=NULL, ...)\n",
    "        \n",
    "        \n",
    "`Arguments`\n",
    "\n",
    "    x    vector source for permutations i'e the vector of elements used to generate the permutations \n",
    "    fun  if non.null, applied at each perm\n",
    "\n",
    "Generates all permutations of the elements of x. \n",
    "In the example below we have given 3 as our input in order to generate permutations of size 3, like {{1,2,3},{1,3,2},{2,1,3}...} etc. \n",
    "If argument \"fun\" is not null, it applies a function given by the argument to each point. "
   ]
  },
  {
   "cell_type": "code",
   "execution_count": null,
   "metadata": {},
   "outputs": [],
   "source": [
    "#Generate different possible permutations using numbers (1,2,3)\n",
    "permn(3)\n",
    "\n",
    "#Generate different possible permutations using numbers (1,2,3) and return standard deviation of permutations.\n",
    "permn(3,sd)"
   ]
  },
  {
   "cell_type": "code",
   "execution_count": null,
   "metadata": {},
   "outputs": [],
   "source": [
    "# You can find the number of permutations generated using length function. \n",
    "length(permn(3))"
   ]
  },
  {
   "cell_type": "markdown",
   "metadata": {},
   "source": [
    "---\n",
    "\n",
    "### Extensions of probability to multivariate data\n",
    "\n",
    "We have seen how conditional probability has been applied to simple dice events. \n",
    "Let's continue our discussion to multivariate data. \n",
    "We will work with the motor vehicle thefts dataset. \n",
    "The data is a combination of both factor and continuous variables. \n",
    "The table() command is used extensively when dealing with conditional probability.\n",
    "\n",
    "Load the dataset into a dataframe called `vehicle_thefts`. \n",
    "Dataset is located in '/dsa/data/all_datasets/motor_vehicle_thefts/' directory. \n",
    "\n",
    "**NOTE:** This is a variation of the mvt.csv file that is used in other courses."
   ]
  },
  {
   "cell_type": "code",
   "execution_count": null,
   "metadata": {},
   "outputs": [],
   "source": [
    "vehicle_thefts <- read.csv(\"/dsa/data/all_datasets/motor_vehicle_thefts/mvt.csv\", header = TRUE)\n",
    "\n",
    "head(vehicle_thefts)"
   ]
  },
  {
   "cell_type": "code",
   "execution_count": null,
   "metadata": {},
   "outputs": [],
   "source": [
    "# Extract month, weekday, hour etc. values from a date variable. Convert the format of date variable into a \n",
    "# standard format so that day, month, year etc. values can be extracted from a date.\n",
    "\n",
    "# There are two internal implementations of date/time: POSIXct, which stores seconds since UNIX \n",
    "# epoch (+ some other data), and POSIXlt, which stores a list of day, month, year, hour, minute, second, etc.\n",
    "\n",
    "# strptime is a function to directly convert character vectors (of a variety of formats) to POSIXlt format.\n",
    "# In this dataset, the date variable was originally stored as a character vector.\n",
    "\n",
    "DateConvert = strptime(vehicle_thefts$Date, \"%m/%d/%Y\")\n",
    "\n",
    "# Extract the month and the day of the week and add these variables to the data frame vehicle_thefts.\n",
    "# months() and weekdays() functions help you extract the values from a \"POSIXlt\" object\n",
    "\n",
    "vehicle_thefts$Month <- months(DateConvert)\n",
    "\n",
    "vehicle_thefts$Weekday <- weekdays(DateConvert)"
   ]
  },
  {
   "cell_type": "markdown",
   "metadata": {},
   "source": [
    "**Reference:** [strptime()](http://rfunction.com/archives/1912)                "
   ]
  },
  {
   "cell_type": "code",
   "execution_count": null,
   "metadata": {},
   "outputs": [],
   "source": [
    "head(vehicle_thefts)"
   ]
  },
  {
   "cell_type": "code",
   "execution_count": null,
   "metadata": {},
   "outputs": [],
   "source": [
    "# What is the probability that an arrest has occurred for domestic motor vehicle theft?\n",
    "\n",
    "# We have to find the distribution of thefts based on whether they are domestic or not. We will use a 2-way \n",
    "# table to generate these frequencies and to use these frequencies to determine probabilities.\n",
    "\n",
    "# with() is used to avoid refering to the dataframe every time we refer to one of its variables in the table command. \n",
    "with(vehicle_thefts, table(Arrest, Domestic))"
   ]
  },
  {
   "cell_type": "code",
   "execution_count": null,
   "metadata": {},
   "outputs": [],
   "source": [
    "# We are trying to find out the probability of arrest happening given the theft is a Domestic type. \n",
    "# Mathematically, this is represented as P(Arrest|Domestic) = P(Arrest & Domestic)/P(Domestic) = 65 / 415\n",
    "\n",
    "# P(Arrest & Domestic) = 65. Look at above table for the instances where arrest is TRUE and domestic is TRUE.\n",
    "# P(Domestic) = 415. Look for instances where Domestic is true in above table.\n",
    "\n",
    "65 / (350 + 65)"
   ]
  },
  {
   "cell_type": "markdown",
   "metadata": {},
   "source": [
    "**Reference:** [with()](http://www.statmethods.net/stats/withby.html). \n",
    "\n",
    "You can use `attach()` function as an alternative to `with()`. \n",
    "`attach()` is used to make objects within dataframes accessible in R with fewer keystrokes. \n",
    "Once you attach the dataframe you can refer to its variable without referring to the dataframe.\n",
    "\n",
    "**Reference:** [attach()](https://www.r-bloggers.com/to-attach-or-not-attach-that-is-the-question/)"
   ]
  },
  {
   "cell_type": "code",
   "execution_count": null,
   "metadata": {},
   "outputs": [],
   "source": [
    "# what is the probability that an arrest has been made for motor thefts given that the year was 2001?\n",
    "with(vehicle_thefts,table(Arrest, Year))"
   ]
  },
  {
   "cell_type": "code",
   "execution_count": null,
   "metadata": {},
   "outputs": [],
   "source": [
    "# P(Arrest|Year == 2001) = P(Arrest & Year == 2001)/P(Year == 2001)\n",
    "\n",
    "# P(Arrest being made & Year == 2001) = 2152\n",
    "# P(Year == 2001) = 2152 + 18517\n",
    "\n",
    "2152 / (2152 + 18517)"
   ]
  },
  {
   "cell_type": "code",
   "execution_count": null,
   "metadata": {},
   "outputs": [],
   "source": [
    "# There are different locations where the cars are being stolen from. Subset the data using top 5 locations in \n",
    "# the order of maximum number of thefts, excluding the \"Other\" category.  Select the bottom 5 of the following \n",
    "# options.\n",
    "\n",
    "sort(table(vehicle_thefts$LocationDescription))"
   ]
  },
  {
   "cell_type": "code",
   "execution_count": null,
   "metadata": {},
   "outputs": [],
   "source": [
    "# Create a subset of data, including observations for which the theft happened in one of the top five locations.  \n",
    "# Call this new data set \"Top5\".\n",
    "\n",
    "Top5 <- subset(vehicle_thefts, vehicle_thefts$LocationDescription==\"STREET\" | \n",
    "                               vehicle_thefts$LocationDescription==\"PARKING LOT/GARAGE(NON.RESID.)\" | \n",
    "                               vehicle_thefts$LocationDescription==\"ALLEY\" | \n",
    "                               vehicle_thefts$LocationDescription==\"DRIVEWAY - RESIDENTIAL\" | \n",
    "                               vehicle_thefts$LocationDescription==\"GAS STATION\")\n",
    "\n",
    "\n",
    "str(Top5)"
   ]
  },
  {
   "cell_type": "markdown",
   "metadata": {},
   "source": [
    "Take a look at the number of levels of **LocationDescription**. \n",
    "Ideally, the new dataframe `Top5` should contain only five locations: \n",
    "STREET, PARKING LOT/GARAGE(NON.RESID.), ALLEY, DRIVEWAY - RESIDENTIAL and GAS STATION. \n",
    "However, str() says **LocationDescription** is character.\n"
   ]
  },
  {
   "cell_type": "code",
   "execution_count": null,
   "metadata": {},
   "outputs": [],
   "source": [
    "# We need to update the LocationDescription of Top5 dataframe according to new data and make it factor. If \n",
    "# you forget to update the LocationDescription, the Top5$LocationDescription will either contain all 78 original levels \n",
    "# that you find in vehicle_thefts$LocationDescription if it is read as factor, OR it will still be a chr if read as chr. \n",
    "\n",
    "Top5$LocationDescription = factor(Top5$LocationDescription)\n",
    "\n",
    "str(Top5)"
   ]
  },
  {
   "cell_type": "code",
   "execution_count": null,
   "metadata": {},
   "outputs": [],
   "source": [
    "# What is the probability that an arrest is made given that the place was a street?\n",
    "\n",
    "with(Top5,table(LocationDescription, Arrest))"
   ]
  },
  {
   "cell_type": "code",
   "execution_count": null,
   "metadata": {},
   "outputs": [],
   "source": [
    "# P(arrest|LocationDescription == \"street\") = P(Arrest & street)/P(street)\n",
    "\n",
    "# P(Arrest being made & location is 'street') = 11595\n",
    "\n",
    "# P(street) = 11595 + 144969 \n",
    " \n",
    "(11595) / (144969 + 11595)"
   ]
  },
  {
   "cell_type": "code",
   "execution_count": null,
   "metadata": {},
   "outputs": [],
   "source": [
    "# What is the probability that an arrest did not happen on a Monday?\n",
    "\n",
    "with(Top5, table(Weekday, Arrest))"
   ]
  },
  {
   "cell_type": "code",
   "execution_count": null,
   "metadata": {},
   "outputs": [],
   "source": [
    "# P(!Arrest|Weekday == \"monday\") = P(!Arrest & Weekday)/P(Weekday)\n",
    "\n",
    "# P(Arrest didn't happen & Weekday is 'Monday') = 23334\n",
    "# P(Weekday  is 'monday') = 23334 + 1954\n",
    "\n",
    "23334 / (23334 + 1954)"
   ]
  }
 ],
 "metadata": {
  "kernelspec": {
   "display_name": "R",
   "language": "R",
   "name": "ir"
  },
  "language_info": {
   "codemirror_mode": "r",
   "file_extension": ".r",
   "mimetype": "text/x-r-source",
   "name": "R",
   "pygments_lexer": "r",
   "version": "4.0.5"
  }
 },
 "nbformat": 4,
 "nbformat_minor": 1
}
