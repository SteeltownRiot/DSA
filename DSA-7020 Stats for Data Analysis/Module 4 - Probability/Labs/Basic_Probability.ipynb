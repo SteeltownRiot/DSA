{
 "cells": [
  {
   "cell_type": "markdown",
   "metadata": {},
   "source": [
    "# Introduction to Probability\n",
    "\n",
    "Refer to [chapter 5 of onlinestatbook](http://onlinestatbook.com/2/probability/probability_intro.html) , specifically, sections 2, 3, 6, 8, 10, and 11 to get familiarized with the concepts. \n",
    "\n",
    "In many events there are no definite outcomes, so the outcome can't be predicted with total certainty.\n",
    "What we can say is how likely the outcomes are to happen, using the idea of probability. \n",
    "Inferential statistics is built on the foundation of probability theory and has been remarkably successful in guiding opinion about the conclusions to be drawn from data. \n",
    "\n",
    "One conception of probability is drawn from the idea of symmetrical outcomes. \n",
    "For example, the two possible outcomes of tossing a fair coin seem not to be distinguishable in any way that affects which side will land up or down. \n",
    "Therefore the probability of heads is taken to be 1/2, as is the probability of tails. \n",
    "In general, if there are N symmetrical outcomes, the probability of any given one of them occurring is taken to be 1/N. \n",
    "Thus, if a six-sided die is rolled, the probability of any one of the six sides coming up is 1/6.\n"
   ]
  },
  {
   "cell_type": "markdown",
   "metadata": {},
   "source": [
    "### Sample Spaces\n",
    "\n",
    "For a random experiment $E$, the set of all possible outcomes of $E$ is called the sample space and is denoted by the letter $S$. \n",
    "For a coin-toss experiment, $S$ would be the outcomes of “Head” and “Tail”, which we may represent by $S = \\{H, T\\}$. Formally, the performance of a random experiment is the unpredictable selection of an outcome in $S$.\n",
    "\n",
    "The R package `prob` has all the functions to find probability of different basic events. \n",
    "A sample space is (usually) represented by a data frame.\n",
    "Each row of the data frame corresponds to an outcome of the experiment.\n",
    "\n",
    "Consider the random experiment of tossing a coin.\n",
    "The outcomes are H and T. \n",
    "We can set up the sample space quickly with the tosscoin function:"
   ]
  },
  {
   "cell_type": "code",
   "execution_count": 1,
   "metadata": {},
   "outputs": [
    {
     "name": "stderr",
     "output_type": "stream",
     "text": [
      "Loading required package: combinat\n",
      "\n",
      "\n",
      "Attaching package: ‘combinat’\n",
      "\n",
      "\n",
      "The following object is masked from ‘package:utils’:\n",
      "\n",
      "    combn\n",
      "\n",
      "\n",
      "Loading required package: fAsianOptions\n",
      "\n",
      "Loading required package: timeDate\n",
      "\n",
      "Loading required package: timeSeries\n",
      "\n",
      "Loading required package: fBasics\n",
      "\n",
      "Loading required package: fOptions\n",
      "\n",
      "\n",
      "Attaching package: ‘prob’\n",
      "\n",
      "\n",
      "The following objects are masked from ‘package:base’:\n",
      "\n",
      "    intersect, setdiff, union\n",
      "\n",
      "\n"
     ]
    },
    {
     "data": {
      "text/html": [
       "<table class=\"dataframe\">\n",
       "<caption>A data.frame: 2 × 1</caption>\n",
       "<thead>\n",
       "\t<tr><th scope=col>toss1</th></tr>\n",
       "\t<tr><th scope=col>&lt;fct&gt;</th></tr>\n",
       "</thead>\n",
       "<tbody>\n",
       "\t<tr><td>H</td></tr>\n",
       "\t<tr><td>T</td></tr>\n",
       "</tbody>\n",
       "</table>\n"
      ],
      "text/latex": [
       "A data.frame: 2 × 1\n",
       "\\begin{tabular}{l}\n",
       " toss1\\\\\n",
       " <fct>\\\\\n",
       "\\hline\n",
       "\t H\\\\\n",
       "\t T\\\\\n",
       "\\end{tabular}\n"
      ],
      "text/markdown": [
       "\n",
       "A data.frame: 2 × 1\n",
       "\n",
       "| toss1 &lt;fct&gt; |\n",
       "|---|\n",
       "| H |\n",
       "| T |\n",
       "\n"
      ],
      "text/plain": [
       "  toss1\n",
       "1 H    \n",
       "2 T    "
      ]
     },
     "metadata": {},
     "output_type": "display_data"
    }
   ],
   "source": [
    "library(prob)\n",
    "tosscoin(1)"
   ]
  },
  {
   "cell_type": "markdown",
   "metadata": {},
   "source": [
    "The number 1 tells tosscoin that we only want to toss the coin once. We could toss it more times, like tosscoin(3), to get the output below..."
   ]
  },
  {
   "cell_type": "code",
   "execution_count": 2,
   "metadata": {},
   "outputs": [
    {
     "data": {
      "text/html": [
       "<table class=\"dataframe\">\n",
       "<caption>A data.frame: 8 × 3</caption>\n",
       "<thead>\n",
       "\t<tr><th scope=col>toss1</th><th scope=col>toss2</th><th scope=col>toss3</th></tr>\n",
       "\t<tr><th scope=col>&lt;fct&gt;</th><th scope=col>&lt;fct&gt;</th><th scope=col>&lt;fct&gt;</th></tr>\n",
       "</thead>\n",
       "<tbody>\n",
       "\t<tr><td>H</td><td>H</td><td>H</td></tr>\n",
       "\t<tr><td>T</td><td>H</td><td>H</td></tr>\n",
       "\t<tr><td>H</td><td>T</td><td>H</td></tr>\n",
       "\t<tr><td>T</td><td>T</td><td>H</td></tr>\n",
       "\t<tr><td>H</td><td>H</td><td>T</td></tr>\n",
       "\t<tr><td>T</td><td>H</td><td>T</td></tr>\n",
       "\t<tr><td>H</td><td>T</td><td>T</td></tr>\n",
       "\t<tr><td>T</td><td>T</td><td>T</td></tr>\n",
       "</tbody>\n",
       "</table>\n"
      ],
      "text/latex": [
       "A data.frame: 8 × 3\n",
       "\\begin{tabular}{lll}\n",
       " toss1 & toss2 & toss3\\\\\n",
       " <fct> & <fct> & <fct>\\\\\n",
       "\\hline\n",
       "\t H & H & H\\\\\n",
       "\t T & H & H\\\\\n",
       "\t H & T & H\\\\\n",
       "\t T & T & H\\\\\n",
       "\t H & H & T\\\\\n",
       "\t T & H & T\\\\\n",
       "\t H & T & T\\\\\n",
       "\t T & T & T\\\\\n",
       "\\end{tabular}\n"
      ],
      "text/markdown": [
       "\n",
       "A data.frame: 8 × 3\n",
       "\n",
       "| toss1 &lt;fct&gt; | toss2 &lt;fct&gt; | toss3 &lt;fct&gt; |\n",
       "|---|---|---|\n",
       "| H | H | H |\n",
       "| T | H | H |\n",
       "| H | T | H |\n",
       "| T | T | H |\n",
       "| H | H | T |\n",
       "| T | H | T |\n",
       "| H | T | T |\n",
       "| T | T | T |\n",
       "\n"
      ],
      "text/plain": [
       "  toss1 toss2 toss3\n",
       "1 H     H     H    \n",
       "2 T     H     H    \n",
       "3 H     T     H    \n",
       "4 T     T     H    \n",
       "5 H     H     T    \n",
       "6 T     H     T    \n",
       "7 H     T     T    \n",
       "8 T     T     T    "
      ]
     },
     "metadata": {},
     "output_type": "display_data"
    }
   ],
   "source": [
    "tosscoin(3)"
   ]
  },
  {
   "cell_type": "markdown",
   "metadata": {},
   "source": [
    "---\n",
    "\n",
    "## Events\n",
    "\n",
    "An event $A$ is merely a collection of outcomes, or in other words, a subset of the sample space. \n",
    "After the performance of a random experiment $E$, we say that the event $A$ occurred if the experiment’s outcome was $A$. We say that a number of events $A_1, A_2, A_3, \\dots$\n",
    "are mutually exclusive or disjoint if $A_i \\cap A_j = \\emptyset$; for any distinct pair $A_i \\ne A_j$. \n",
    "For instance, in the coin-toss experiment the events $A$ = {Heads} and $B$ = {Tails} would be mutually exclusive."
   ]
  },
  {
   "cell_type": "code",
   "execution_count": 3,
   "metadata": {},
   "outputs": [
    {
     "data": {
      "text/html": [
       "<table class=\"dataframe\">\n",
       "<caption>A data.frame: 4 × 3</caption>\n",
       "<thead>\n",
       "\t<tr><th></th><th scope=col>X1</th><th scope=col>X2</th><th scope=col>X3</th></tr>\n",
       "\t<tr><th></th><th scope=col>&lt;int&gt;</th><th scope=col>&lt;int&gt;</th><th scope=col>&lt;int&gt;</th></tr>\n",
       "</thead>\n",
       "<tbody>\n",
       "\t<tr><th scope=row>180</th><td>6</td><td>6</td><td>5</td></tr>\n",
       "\t<tr><th scope=row>210</th><td>6</td><td>5</td><td>6</td></tr>\n",
       "\t<tr><th scope=row>215</th><td>5</td><td>6</td><td>6</td></tr>\n",
       "\t<tr><th scope=row>216</th><td>6</td><td>6</td><td>6</td></tr>\n",
       "</tbody>\n",
       "</table>\n"
      ],
      "text/latex": [
       "A data.frame: 4 × 3\n",
       "\\begin{tabular}{r|lll}\n",
       "  & X1 & X2 & X3\\\\\n",
       "  & <int> & <int> & <int>\\\\\n",
       "\\hline\n",
       "\t180 & 6 & 6 & 5\\\\\n",
       "\t210 & 6 & 5 & 6\\\\\n",
       "\t215 & 5 & 6 & 6\\\\\n",
       "\t216 & 6 & 6 & 6\\\\\n",
       "\\end{tabular}\n"
      ],
      "text/markdown": [
       "\n",
       "A data.frame: 4 × 3\n",
       "\n",
       "| <!--/--> | X1 &lt;int&gt; | X2 &lt;int&gt; | X3 &lt;int&gt; |\n",
       "|---|---|---|---|\n",
       "| 180 | 6 | 6 | 5 |\n",
       "| 210 | 6 | 5 | 6 |\n",
       "| 215 | 5 | 6 | 6 |\n",
       "| 216 | 6 | 6 | 6 |\n",
       "\n"
      ],
      "text/plain": [
       "    X1 X2 X3\n",
       "180 6  6  5 \n",
       "210 6  5  6 \n",
       "215 5  6  6 \n",
       "216 6  6  6 "
      ]
     },
     "metadata": {},
     "output_type": "display_data"
    }
   ],
   "source": [
    "subset(rolldie(3), X1 + X2 + X3 > 16)"
   ]
  },
  {
   "cell_type": "markdown",
   "metadata": {},
   "source": [
    "Since the die is rolled 3 times, total number of possible outcomes are $6^3=216$. There are 4 outcomes as listed above where the sum of numbers appeared on dice in three rolls is greater than 16. "
   ]
  },
  {
   "cell_type": "markdown",
   "metadata": {},
   "source": [
    "---\n",
    "\n",
    "#### Functions for Finding Subsets\n",
    "\n",
    "**The `%in%` function**\n",
    "\n",
    "The function %in% helps to find out whether each value of one vector lies somewhere inside another vector."
   ]
  },
  {
   "cell_type": "code",
   "execution_count": 4,
   "metadata": {},
   "outputs": [
    {
     "data": {
      "text/html": [
       "<style>\n",
       ".list-inline {list-style: none; margin:0; padding: 0}\n",
       ".list-inline>li {display: inline-block}\n",
       ".list-inline>li:not(:last-child)::after {content: \"\\00b7\"; padding: 0 .5ex}\n",
       "</style>\n",
       "<ol class=list-inline><li>TRUE</li><li>TRUE</li><li>TRUE</li><li>FALSE</li><li>FALSE</li></ol>\n"
      ],
      "text/latex": [
       "\\begin{enumerate*}\n",
       "\\item TRUE\n",
       "\\item TRUE\n",
       "\\item TRUE\n",
       "\\item FALSE\n",
       "\\item FALSE\n",
       "\\end{enumerate*}\n"
      ],
      "text/markdown": [
       "1. TRUE\n",
       "2. TRUE\n",
       "3. TRUE\n",
       "4. FALSE\n",
       "5. FALSE\n",
       "\n",
       "\n"
      ],
      "text/plain": [
       "[1]  TRUE  TRUE  TRUE FALSE FALSE"
      ]
     },
     "metadata": {},
     "output_type": "display_data"
    }
   ],
   "source": [
    "x <- 1:10\n",
    "y <- 8:12\n",
    "y %in% x"
   ]
  },
  {
   "cell_type": "markdown",
   "metadata": {},
   "source": [
    "Notice that the returned value is a vector of length 5 which tests whether each element of `y` is in `x`, in turn.\n",
    "\n",
    "----\n",
    "\n",
    "**The `isin` function**\n",
    "\n",
    "It is more common to want to know whether the whole vector y is in x. We can do this with the isin function."
   ]
  },
  {
   "cell_type": "code",
   "execution_count": 5,
   "metadata": {},
   "outputs": [
    {
     "data": {
      "text/html": [
       "FALSE"
      ],
      "text/latex": [
       "FALSE"
      ],
      "text/markdown": [
       "FALSE"
      ],
      "text/plain": [
       "[1] FALSE"
      ]
     },
     "metadata": {},
     "output_type": "display_data"
    }
   ],
   "source": [
    "isin(x, y)"
   ]
  },
  {
   "cell_type": "markdown",
   "metadata": {},
   "source": [
    "Note that there is an optional argument ordered, which tests whether the elements of y appear in x in the order in which they are appear in y. The output is..."
   ]
  },
  {
   "cell_type": "code",
   "execution_count": 6,
   "metadata": {},
   "outputs": [
    {
     "data": {
      "text/html": [
       "TRUE"
      ],
      "text/latex": [
       "TRUE"
      ],
      "text/markdown": [
       "TRUE"
      ],
      "text/plain": [
       "[1] TRUE"
      ]
     },
     "metadata": {},
     "output_type": "display_data"
    }
   ],
   "source": [
    "isin(x, c(3, 4, 5), ordered = TRUE)"
   ]
  },
  {
   "cell_type": "code",
   "execution_count": 7,
   "metadata": {},
   "outputs": [
    {
     "data": {
      "text/html": [
       "FALSE"
      ],
      "text/latex": [
       "FALSE"
      ],
      "text/markdown": [
       "FALSE"
      ],
      "text/plain": [
       "[1] FALSE"
      ]
     },
     "metadata": {},
     "output_type": "display_data"
    }
   ],
   "source": [
    "isin(x, c(3, 5, 4), ordered = TRUE)"
   ]
  },
  {
   "cell_type": "markdown",
   "metadata": {},
   "source": [
    "---\n",
    "\n",
    "## Properties of Probability\n",
    "\n",
    "\n",
    "There are three axioms that establish the foundation of Probability theory. Axioms are assumptions that are accepted as true  statements without proof and serve as building blocks. For example `if a=b then b=a` is an algebraic axiom. \n",
    "\n",
    "**Axioms:**\n",
    "\n",
    "Considering $S$ an event set with a probability measure $P$ so that the probability of any event $A$ in $S$ is given by $P(A)$, the probability measure obeys the following axioms: \n",
    "\n",
    "\n",
    " 1. $P(A)\\ge0$ : Probability measure cannot be negative. \n",
    " \n",
    " \n",
    " \n",
    " 2. $P(S)=1$    : Sum of all probabilities in $S$ is 1. \n",
    " \n",
    " \n",
    " \n",
    " 3. if $\\{A_1, A_2, ..., A_j\\}$ is a sequence of mutually exclusive events so that their intersection $A_i\\cap A_j$ is empty set for all distinct pairs of $i$ and $j$, then the probability of their unions $P(A_1\\cup A_2\\cup \\dots A_j\\cup \\dots)$ can be computed as the sum of their probabilities $P(A_1)+P(A_2)+\\dots P(A_j)+\\dots$.\n",
    " \n",
    " \n",
    "Every other property or theorem can be proved by using these axioms. For example, the following theorem can be proved: \n",
    " \n",
    "*The probability that either A or B will happen or that both will happen \n",
    "is the probability of A happening plus the probability of B happening \n",
    "less the probability of the joint occurrence of A and B.*\n",
    "   \n",
    "which can be expressed like this: \n",
    " \n",
    " $P(A\\cup B) = P(A) + P(B) - P(A \\cap B)$ \n",
    " \n",
    " \n",
    "See this link for axioms and more properties: https://www.le.ac.uk/users/dsgp1/COURSES/LEISTATS/STATSLIDE2.pdf  \n",
    "Refresh your memory about the **set theory** symbols: https://www.rapidtables.com/math/symbols/Set_Symbols.html  \n",
    "Rules of probability: https://www2.isye.gatech.edu/~brani/isyebayes/bank/handout1.pdf\n",
    "\n",
    "---\n"
   ]
  },
  {
   "cell_type": "markdown",
   "metadata": {},
   "source": [
    "\n",
    "**Some rules:**\n",
    "\n",
    "For any events $A$ and $B$,\n",
    "\n",
    "I. $P(A^c) = 1 - P(A)$.\n",
    "\n",
    "&nbsp;&nbsp;&nbsp;&nbsp;&nbsp; Proof: Since $A \\cup A^c = S$ and $A \\cap A^c = \\emptyset$, we have\n",
    "\n",
    "&nbsp;&nbsp;&nbsp;&nbsp;&nbsp; $P(A) + P(A^c) = P(A \\cup A^c) = P(S)  = 1$.\n",
    "\n",
    "This is called the **Complement Rule**.  It states that for an event A and its complement $A^c$, the probability of $A$ is equal to one minus the probability of $A^c$.  What are complementary events? In probability theory, the complement of an event A is the event _not_ A; this complementary event is often denoted A’ or $A^c$.   \n",
    "\n",
    "\n",
    "\n",
    "II. P($\\varnothing$) = 0.\n",
    "\n",
    "&nbsp;&nbsp;&nbsp;&nbsp;&nbsp; Proof: See this link, page 3: https://www.le.ac.uk/users/dsgp1/COURSES/LEISTATS/STATSLIDE2.pdf.\n",
    "\n",
    "The probability of a null event (i.e., an event that will never occur) is 0.\n",
    "    \n",
    "\n",
    "\n",
    "\n",
    "III. If $A \\subset B$ , then $P(A) \\le P(B)$. If $A$ is a subset of $B$, then its probability is less or equal. \n",
    "    \n",
    "\n",
    "\n",
    "\n",
    "IV. $0 \\le P(A) \\le 1$. Probability of an event is between 0 and 1 inclusive. This seems like an axiom but it can actually be proved by using the three axioms. \n",
    "\n",
    "\n",
    "\n",
    "V. The General Addition Rule.\n",
    "\n",
    "If the events are mutually exclusive:\n",
    "\n",
    "$P(A \\cup B) = P(A) + P(B)$\n",
    "\n",
    "If the events are *not* mutually exclusive\n",
    "\n",
    "$P(A \\cup B) = P(A) + P(B) - P(A \\cap B)$\n",
    "\n",
    "\n",
    "\n",
    "VI. The Theorem of Total Probability. Let $B_1, B_2, . . . , B_n$ be mutually exclusive and exhaustive.\n",
    "\n",
    "Then $P(A) = P(A \\cap B_1) + P(A \\cap B_2) + ... + P(A \\cap B_n)$\n",
    "\n",
    "Following diagram should provide intuition for this theorem. \n",
    "\n",
    "<img src='../images/total.png'>\n",
    "\n",
    "---"
   ]
  },
  {
   "cell_type": "markdown",
   "metadata": {},
   "source": [
    "### Counting Methods\n",
    "\n",
    "To be able to compute the probability of an event $A$, we need to know the number of outcomes in the sample space $S$ and the number of outcomes in the event $A$; so we need to do some counting. \n",
    "\n",
    "\n",
    "$$ P(A) = \\frac{|A|}{|S|}=\\frac{M}{N}$$\n",
    "\n",
    "Finding the probability of $A$ reduces to a **counting problem**.\n",
    "\n",
    "There are different counting methods. \n",
    "\n",
    "**Fundamental Counting Principle: the multiplication principle**: \n",
    "The simplest way to count is to multiply the outcomes of events to find the total number of outcomes. \n",
    "Suppose that an experiment is composed of two successive steps. \n",
    "Further suppose that the first step may be performed in $n_1$ distinct ways while the second step may be performed in $n_2$ distinct ways. \n",
    "Then the experiment may be performed in $n_1 \\times n_2$ distinct ways.\n",
    "\n",
    "More generally, if the experiment is composed of $k$ successive steps which may be performed in $n_1, n_2, . . . , n_k$ distinct ways, respectively, then the experiment may be performed in $n_1\\times n_2 \\times \\dots \\times n_k$ distinct ways.\n"
   ]
  },
  {
   "cell_type": "markdown",
   "metadata": {},
   "source": [
    "\n",
    "\n",
    "\n",
    "**Example:** We would like to order a pizza. \n",
    "It will be sure to have cheese (and marinara sauce) but we may elect to add one or more of the following five (5) available toppings: \n",
    "\n",
    "        pepperoni, sausage, anchovies, olives, and green peppers.\n",
    "\n",
    "How many distinct pizzas are possible?\n",
    "\n",
    "\n",
    "**Answer:** There are many ways to approach the problem, but the quickest avenue employs the Multiplication Principle directly.\n",
    "We will separate the action of ordering the pizza into a series of stages. At the first stage, we will decide whether or not to include pepperoni on the pizza (two possibilities). \n",
    "At the next stage, we will decide whether or not to include sausage on the pizza (again, two possibilities). \n",
    "We will continue in this fashion until at last we will decide whether or not to include green peppers on the pizza.\n",
    "\n",
    "At each stage we will have had two options, or ways, to select a pizza to be made. \n",
    "The Multiplication Principle says that we should multiply the 2’s to find the total number of possible pizzas:\n",
    "$$2 \\times 2 \\times 2 \\times 2 \\times 2 = 2^5 = 32$$\n",
    "\n",
    "**Another example:** How many different ways can four people line up? \n",
    "\n",
    "**Answer:** We choose any one of the **four** people to be first. Then there are **three** people who can be second, and **two** people who can be third. At this point there is only **one** person left to be last. Using the multiplication principle: \n",
    "\n",
    "$$4\\times 3\\times 2\\times 1 = 24$$ \n",
    "\n",
    "There are 24 ways for four people to line up. This type of counting comes up pretty often and there is a notation to signify multiplication of numbers from $1$ to $n$: it's called **factorial** and is written like following:\n",
    "\n",
    "$$n! = n\\times (n-1) \\times (n-2) \\times \\dots \\times 2 \\times 1$$\n",
    "\n",
    "So there are $4!$ ways for four people to line up. "
   ]
  },
  {
   "cell_type": "markdown",
   "metadata": {},
   "source": [
    "---\n",
    "\n",
    "**Now, we need some terminology:**\n",
    "\n",
    "**Sampling:** sampling from a set means choosing an element from that set. We often **draw** a sample at random from a given set in which each element of the set has equal chance of being chosen.\n",
    "\n",
    "**With or without replacement:** usually, we draw multiple samples from a set. If we **put** each object **back** after each draw, we call this sampling with replacement. In this case a single object can be possibly chosen multiple times. For example, if $A=\\{a_1,a_2,a_3,a_4\\}$ and we pick 3 elements with replacement, a possible choice might be $(a_3,a_1,a_3)$. Thus \"with replacement\" means \"repetition is allowed.\" On the other hand, if repetition is not allowed, we call it sampling without replacement.\n",
    "\n",
    "*The example above with four people lining up is without replacement: once we choose a person, we can only choose from the remaining people.*  \n",
    "\n",
    "**Ordered or unordered:** If ordering matters (i.e.: $(a_1,a_2,a_3)\\ne (a_2,a_3,a_1)$), this is called ordered sampling. Otherwise, it is called unordered.\n",
    "\n",
    "\n",
    "*The example above with four people lining up is ordered: $(Person_1,Person_2,Person_3,Person_4)$ and $(Person_2,Person_1,Person_3,Person_4)$ are different outcomes (distinct sequences), for example.* \n",
    "\n",
    "\n",
    "Thus when we talk about sampling from sets, we can talk about four possibilities.\n",
    "\n",
    " - ordered sampling with replacement\n",
    " - ordered sampling without replacement\n",
    " - unordered sampling without replacement\n",
    " - unordered sampling with replacement\n",
    "\n",
    "\n",
    "\n",
    "### Ordered Samples\n",
    "\n",
    "The number of ways in which one may select an **ordered** sample of $k$ subjects from a population that has $n$ distinguishable members is\n",
    "\n",
    "* $n^k$ if sampling is done with replacement\n",
    "\n",
    "\n",
    "* $n(n - 1)(n - 2) ... (n - k + 1)$ if sampling is done without replacement\n",
    "\n",
    "\n",
    "**Example:** We rent five movies to watch over the span of two nights. \n",
    "We wish to watch 3 movies on the first night. \n",
    "How many distinct sequences of 3 movies could we possibly watch?\n",
    "\n",
    "**Answer:** $5 \\times 4 \\dots \\times (5-3+1)  = 5 \\times 4 \\times 3 = 60$. Here, the sampling is 3 out 5 and there is no replacement; once we watch a movie, we don't want to watch it again. The question asks for **distinct** sequences, so the order we pick and watch the three movies matter. "
   ]
  },
  {
   "cell_type": "markdown",
   "metadata": {},
   "source": [
    "### Unordered Samples\n",
    "\n",
    "The number of ways in which one may select an **unordered** sample of $k$ subjects from a population that has $n$ distinguishable members is:\n",
    "\n",
    " - if sampling is done with replacement:\n",
    " $$\\frac{(n - 1 + k)!}{(n - 1)!k!}$$ \n",
    "\n",
    " - if sampling is done without replacement: \n",
    " $$\\frac{n!}{k!(n - k)!}$$ \n",
    "\n",
    "The quantity $\\frac{n!}{k!(n-k)!}$ is called a binomial coefficient and plays a special role in mathematics. \n",
    "It is denoted  \n",
    "\n",
    "$$\\binom nk  = \\frac{n!}{k!(n-k)!}$$\n",
    "\n",
    "\n",
    "**Example:** \n",
    "You rent five movies to watch over the span of two nights, \n",
    "but only wish to watch 3 movies the first night. \n",
    "Your friend, Fred, wishes to borrow some movies to watch at his house on the first night. \n",
    "You owe Fred a favor, and allow him to select 2 movies from the set of 5. How many choices does Fred have? \n",
    "\n",
    "**Answer:** $\\binom 52  = 10$. He will choose two movies (without replacement of course) and in which order he will choose them  is irrelevant, so it is unordered. \n",
    "\n",
    "---\n"
   ]
  },
  {
   "cell_type": "markdown",
   "metadata": {},
   "source": [
    "**Which formula did we actually use for the \"four people\" problem?**\n",
    "\n",
    "We know that it is without replacement; we can't choose the same person twice to get in line. We also know that the order matters. So we have to use:\n",
    "\n",
    "$n(n - 1)(n - 2) ... (n - k + 1)$\n",
    "\n",
    "**What is n and k?**\n",
    "\n",
    "n=4, no question there. What is k? Is it 1? Does the formula work? \n",
    "\n",
    "\n",
    "Remember that we are looking to see how many different possibilities there are for four people to line up. So we are actually **choosing sequences of 4 people out of 4 people**: $n=k=4$. \n",
    "\n",
    "$4(4 - 1)(4 - 2) ... (4 - 4 + 1) = 4\\times 3\\times 2\\times 1$\n",
    "\n",
    "---"
   ]
  },
  {
   "cell_type": "markdown",
   "metadata": {},
   "source": [
    "### Let's try to solve a problem using R commands:\n",
    "\n",
    "**Example:** \n",
    "\n",
    "Let our urn contain three balls, labeled 1, 2, and 3, respectively. \n",
    "We are going to take a sample of size 2 from the urn.\n",
    "\n",
    "**Answer:** \n",
    "\n",
    "The `prob` package accomplishes sampling with the `nsamp()` function, which has arguments `n`, `k`, `replace`, and `ordered`. \n",
    "\n",
    "The argument `n` represents the urn from which sampling is to be done. \n",
    "The `k` argument tells how large the sample will be. \n",
    "The `ordered` and `replace` arguments are logical and specify how sampling will be performed. \n",
    "\n",
    "\n",
    "If sampling is with replacement, then we can get any outcome 1, 2, or 3 on any draw. \n",
    "Further, by \"ordered\" we mean that we shall keep track of the order of the draws that we observe. \n",
    "We took a sample of size 2 from an urn with three distinguishable elements."
   ]
  },
  {
   "cell_type": "code",
   "execution_count": 6,
   "metadata": {},
   "outputs": [
    {
     "data": {
      "text/html": [
       "9"
      ],
      "text/latex": [
       "9"
      ],
      "text/markdown": [
       "9"
      ],
      "text/plain": [
       "[1] 9"
      ]
     },
     "metadata": {},
     "output_type": "display_data"
    }
   ],
   "source": [
    "nsamp(n = 3, k = 2, replace = TRUE, ordered = TRUE)"
   ]
  },
  {
   "cell_type": "markdown",
   "metadata": {},
   "source": [
    "The total number of outcomes for above event are 9. \n",
    "\n",
    "What if we did not allow replacement? "
   ]
  },
  {
   "cell_type": "code",
   "execution_count": 7,
   "metadata": {},
   "outputs": [
    {
     "data": {
      "text/html": [
       "6"
      ],
      "text/latex": [
       "6"
      ],
      "text/markdown": [
       "6"
      ],
      "text/plain": [
       "[1] 6"
      ]
     },
     "metadata": {},
     "output_type": "display_data"
    }
   ],
   "source": [
    "nsamp(n = 3, k = 2, replace = FALSE, ordered = TRUE)"
   ]
  },
  {
   "cell_type": "markdown",
   "metadata": {},
   "source": [
    "---\n",
    "\n",
    "Take a look at the following solutions for the above problems. \n"
   ]
  },
  {
   "cell_type": "code",
   "execution_count": 8,
   "metadata": {},
   "outputs": [
    {
     "data": {
      "text/html": [
       "60"
      ],
      "text/latex": [
       "60"
      ],
      "text/markdown": [
       "60"
      ],
      "text/plain": [
       "[1] 60"
      ]
     },
     "metadata": {},
     "output_type": "display_data"
    }
   ],
   "source": [
    "# The movie example: distinct sequences of three movies out of five\n",
    "\n",
    "nsamp(n = 5, k = 3, replace = FALSE, ordered = TRUE)"
   ]
  },
  {
   "cell_type": "code",
   "execution_count": 9,
   "metadata": {},
   "outputs": [
    {
     "data": {
      "text/html": [
       "10"
      ],
      "text/latex": [
       "10"
      ],
      "text/markdown": [
       "10"
      ],
      "text/plain": [
       "[1] 10"
      ]
     },
     "metadata": {},
     "output_type": "display_data"
    }
   ],
   "source": [
    "# Let Fred choose two:\n",
    "\n",
    "nsamp(n = 5, k = 2, replace = FALSE, ordered = FALSE)"
   ]
  },
  {
   "cell_type": "code",
   "execution_count": 10,
   "metadata": {},
   "outputs": [
    {
     "data": {
      "text/html": [
       "24"
      ],
      "text/latex": [
       "24"
      ],
      "text/markdown": [
       "24"
      ],
      "text/plain": [
       "[1] 24"
      ]
     },
     "metadata": {},
     "output_type": "display_data"
    }
   ],
   "source": [
    "# Four people problem\n",
    "\n",
    "nsamp(n = 4, k = 4, replace = FALSE, ordered = TRUE)"
   ]
  },
  {
   "cell_type": "markdown",
   "metadata": {},
   "source": [
    "**Pizza problem:**\n",
    "\n",
    "Not so obvious. We are choosing 5 toppings out 5 toppings, no replacement, order does not matter, right?  "
   ]
  },
  {
   "cell_type": "code",
   "execution_count": 11,
   "metadata": {},
   "outputs": [
    {
     "data": {
      "text/html": [
       "1"
      ],
      "text/latex": [
       "1"
      ],
      "text/markdown": [
       "1"
      ],
      "text/plain": [
       "[1] 1"
      ]
     },
     "metadata": {},
     "output_type": "display_data"
    }
   ],
   "source": [
    "# Pizza problem\n",
    "\n",
    "nsamp(n = 5, k = 5, replace = FALSE, ordered = FALSE)"
   ]
  },
  {
   "cell_type": "markdown",
   "metadata": {},
   "source": [
    "**What just happened??**\n",
    "\n",
    "What we are really choosing is a yes/no answer for each of the five toppings. So we need a **sequence of yes/no answers**. \n",
    "\n",
    "     yes,yes,no,no,yes --> three toppings \n",
    "\n",
    "     no, yes,no,no,yes --> two toppings, etc. \n",
    "\n",
    "Does the order matter? Yes, that's how we choose a particular topping or not. \n",
    "\n",
    "Is there replacement? Of course, we should be able to choose \"yes\" or \"no\" multiple times. \n",
    "\n",
    "So, we have two choices, yes or no, n=2\n",
    "\n",
    "and we choose the answers five times, k=5\n",
    "\n",
    "they are ordered, and there is replacement. \n",
    "\n"
   ]
  },
  {
   "cell_type": "code",
   "execution_count": 12,
   "metadata": {},
   "outputs": [
    {
     "data": {
      "text/html": [
       "32"
      ],
      "text/latex": [
       "32"
      ],
      "text/markdown": [
       "32"
      ],
      "text/plain": [
       "[1] 32"
      ]
     },
     "metadata": {},
     "output_type": "display_data"
    }
   ],
   "source": [
    "# Pizza problem\n",
    "\n",
    "nsamp(n = 2, k = 5, replace = TRUE, ordered = TRUE)"
   ]
  }
 ],
 "metadata": {
  "kernelspec": {
   "display_name": "R",
   "language": "R",
   "name": "ir"
  },
  "language_info": {
   "codemirror_mode": "r",
   "file_extension": ".r",
   "mimetype": "text/x-r-source",
   "name": "R",
   "pygments_lexer": "r",
   "version": "4.0.5"
  }
 },
 "nbformat": 4,
 "nbformat_minor": 2
}
