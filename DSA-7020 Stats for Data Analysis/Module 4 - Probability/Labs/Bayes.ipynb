{
 "cells": [
  {
   "cell_type": "markdown",
   "metadata": {
    "collapsed": true
   },
   "source": [
    "### Bayesian Statistics with Conditional Probability\n",
    "\n",
    "\n",
    "People rely on the collective intelligence of previous experiences to protect themselves or to make better decisions in the future, \n",
    "like saving themselves from eating bad food at the wrong restaurant. \n",
    "\n",
    "We discussed conditional probability of an event as the probability obtained using additional information that some other event has already occurred. \n",
    "If the occurrence of Event $B$ is dependent on Event $A$, we used the following formula for finding $P(B|A)$:\n",
    "\n",
    "\n",
    "$$P(B|A) = \\frac{P(A\\cap B)}{P(A)} $$\n",
    "\n",
    "In this notebook, we will extend the discussion of conditional probability to applications of Bayes' theorem (or Bayes' rule). \n",
    "\n",
    "\n",
    "Bayes' rule is used to revise predictions in light of relevant evidence. More specifically, it is the formulation of a new or *posterior belief* from the combination of *prior beliefs* and *new data (evidence)* gathered.\n",
    "\n",
    "**Prior probability** (a priori) is an initial probability value obtained before any additional information is obtained.\n",
    "\n",
    "**Posterior probability** (a posteriori) is a probability value that has been revised by using additional information that is later obtained."
   ]
  },
  {
   "cell_type": "markdown",
   "metadata": {},
   "source": [
    "---\n",
    "\n",
    "## Bayes' Theorem\n",
    "\n",
    "The following short videos are very useful and intuitive explanations of Bayes' theorem: \n",
    "\n",
    "\n",
    " - [How To Update Your Beliefs Systematically](https://www.youtube.com/watch?v=R13BD8qKeTg)\n",
    " \n",
    " - [How Bayes Theorem works](https://www.youtube.com/watch?v=5NMxiOGL39M)\n",
    " \n",
    " - [Bayes theorem, the geometry of changing beliefs](https://www.youtube.com/watch?v=HZGCoVF3YvM) \n",
    "  \n",
    "The derivation of Bayes' theorem follows the rule of multiplication: \n",
    "\n",
    "$$ P(B \\cap A) = P(A|B)P(B)$$ \n",
    "$$ P(A \\cap B) = P(B|A)P(A)$$ \n",
    "\n",
    "                       since:\n",
    "\n",
    "$$ P(A \\cap B) = P(B \\cap A) $$\n",
    "\n",
    "                       it follows that:\n",
    "\n",
    "$$ P(A|B)P(B) = P(B|A)P(A) $$\n",
    "\n",
    "                       and\n",
    "\n",
    "\n",
    "$$ P(A|B) = \\frac{P(B|A)P(A)}{P(B)} $$\n",
    "\n",
    "\n",
    "$P(A|B)$ is called the **posterior probability**, **P(A)** is the **prior probability**, **P(B)** is evidence, and $P(B|A)$ is the **likelihood**. \n",
    "\n",
    "\n",
    "\n",
    "\n",
    "The probability of event $A$, given that event $B$ has occurred can also be represented as below:\n",
    "\n",
    "\n",
    "\n",
    "                                          P(B|A) * P(A)\n",
    "                  P(A|B) = ------------------------------------------\n",
    "                          [P(A) * P(B|A)] + [ P(not A) * P(B|not A)]\n",
    "                                  \n",
    "                                  \n",
    "                                  \n"
   ]
  },
  {
   "cell_type": "markdown",
   "metadata": {},
   "source": [
    "----\n",
    "\n",
    "**Consider an example:**\n",
    "\n",
    "In Boone County, Missouri 51% of the adults are males.One adult is randomly selected for a survey involving credit card usage. \n",
    "What is the prior probability that the selected person is a male?"
   ]
  },
  {
   "cell_type": "markdown",
   "metadata": {},
   "source": [
    "**Solution:** \n",
    "\n",
    "It's known that 51% of the adults in the county are males. \n",
    "\n",
    "Consider $A$ to be the event of selecting an adult male. \n",
    "So the probability of randomly selecting an adult and getting a male is given by $P(A) = 0.51$."
   ]
  },
  {
   "cell_type": "markdown",
   "metadata": {},
   "source": [
    "**Let's take this a step further:**\n",
    "\n",
    "Now consider that the same survey also includes questions about smoking cigars, and the adult selected above was also selected because this person is known to smoke cigars.   \n",
    "\n",
    "Based on data from the Substance Abuse and Mental Health Services Administration, we know that 9.5% of males smoke cigars, whereas 1.7% of females smoke cigars.  Now **use this additional information** (i.e., Bayes Theorem) to find the probability that the selected subject was a male."
   ]
  },
  {
   "cell_type": "markdown",
   "metadata": {},
   "source": [
    "**Solution:** \n",
    "\n",
    "Based on the additional given information, we have the following:\n",
    "    \n",
    "Let $X$ denote the event that the adult smokes cigars.\n",
    "       \n",
    "   $X'$ (pronounced _X prime_) is the **complement** event of $X$ and represents the event that the adult does not smoke cigars.\n",
    "        \n",
    "   $P(A) = 0.51$ because 51% of the adults are males.\n",
    "  \n",
    "   $A'$ is the complement event of $A$ and represents the event that the adult is not a male (i.e., is a female).\n",
    "    \n",
    "   $P(A') = 0.49$ because 49% of the adults are females (not males).\n",
    "    \n",
    "   $P(X|A) = 0.095$ because 9.5% of the males smoke cigars.\n",
    "   \n",
    "   (That is, the probability of getting someone who smokes cigars, given that the person is a male, is 0.095.)\n",
    "\n",
    "   $P(X|A') = 0.017$ because 1.7% of the females smoke cigars.\n",
    "   \n",
    "    (That is, the probability of getting someone who smokes cigars, given that the person is a female, is 0.017.)\n",
    "\n",
    "\n",
    "**Applying Bayes' theorem** to the information above, we get the following result:\n",
    "\n",
    "                                               P(X|A) * P(A)\n",
    "                        P(A|X) = --------------------------------------\n",
    "                                    [P(A) * P(X|A)] + [P(A') * P(X|A')]\n",
    "                                    \n",
    "                                    \n",
    "                                    \n",
    "                                            0.095 * 0.51  \n",
    "                               =   -------------------------------\n",
    "                                   (0.51 * 0.095) + (0.49 * 0.017)\n",
    "                                   \n",
    "                                   \n",
    "                                 =  0.853                                                                                                                          "
   ]
  },
  {
   "cell_type": "markdown",
   "metadata": {},
   "source": [
    "Before we knew that the survey subject smoked cigars, we determined that the **probability that the survey subject was male was 0.51**.  \n",
    "\n",
    "But **after** finding out that the subject smoked cigars, we could **revise** the probability that the survey **subject was a male to 0.853**. \n",
    "\n",
    "The likelihood that the subject was a male increased dramatically once we knew the additional piece of information that the subject also smokes cigars."
   ]
  },
  {
   "cell_type": "markdown",
   "metadata": {},
   "source": [
    "---\n",
    "\n",
    "**Bayes' theorem helps us to modify our prior knowledge using the data or evidence to come up with the posterior probability as in the following example.** The distribution of prior probability gets modified by the new data. \n",
    "\n",
    "<img src='../images/Bayesian.jpeg'>\n",
    "\n",
    "---\n",
    "\n",
    "\n",
    "**The following diagram shows the derivation of the the Bayes' theorem to provide intuition.** \n",
    "\n",
    "<img src='../images/Bayes-theorem-in-pictures.png'>\n",
    "\n",
    "---\n"
   ]
  },
  {
   "cell_type": "markdown",
   "metadata": {},
   "source": [
    "Let's apply Bayes' theorem to a multivariate dataset to learn more. Load the framingham data from the directory '/dsa/data/all_datasets/framingham' ... \n",
    "This data is from the Framingham Heart Study : https://www.framinghamheartstudy.org"
   ]
  },
  {
   "cell_type": "code",
   "execution_count": 2,
   "metadata": {},
   "outputs": [
    {
     "data": {
      "text/html": [
       "<table class=\"dataframe\">\n",
       "<caption>A data.frame: 6 × 16</caption>\n",
       "<thead>\n",
       "\t<tr><th></th><th scope=col>male</th><th scope=col>age</th><th scope=col>education</th><th scope=col>currentSmoker</th><th scope=col>cigsPerDay</th><th scope=col>BPMeds</th><th scope=col>prevalentStroke</th><th scope=col>prevalentHyp</th><th scope=col>diabetes</th><th scope=col>totChol</th><th scope=col>sysBP</th><th scope=col>diaBP</th><th scope=col>BMI</th><th scope=col>heartRate</th><th scope=col>glucose</th><th scope=col>TenYearCHD</th></tr>\n",
       "\t<tr><th></th><th scope=col>&lt;int&gt;</th><th scope=col>&lt;int&gt;</th><th scope=col>&lt;int&gt;</th><th scope=col>&lt;int&gt;</th><th scope=col>&lt;int&gt;</th><th scope=col>&lt;int&gt;</th><th scope=col>&lt;int&gt;</th><th scope=col>&lt;int&gt;</th><th scope=col>&lt;int&gt;</th><th scope=col>&lt;int&gt;</th><th scope=col>&lt;dbl&gt;</th><th scope=col>&lt;dbl&gt;</th><th scope=col>&lt;dbl&gt;</th><th scope=col>&lt;int&gt;</th><th scope=col>&lt;int&gt;</th><th scope=col>&lt;int&gt;</th></tr>\n",
       "</thead>\n",
       "<tbody>\n",
       "\t<tr><th scope=row>1</th><td>1</td><td>39</td><td>4</td><td>0</td><td> 0</td><td>0</td><td>0</td><td>0</td><td>0</td><td>195</td><td>106.0</td><td> 70</td><td>26.97</td><td>80</td><td> 77</td><td>0</td></tr>\n",
       "\t<tr><th scope=row>2</th><td>0</td><td>46</td><td>2</td><td>0</td><td> 0</td><td>0</td><td>0</td><td>0</td><td>0</td><td>250</td><td>121.0</td><td> 81</td><td>28.73</td><td>95</td><td> 76</td><td>0</td></tr>\n",
       "\t<tr><th scope=row>3</th><td>1</td><td>48</td><td>1</td><td>1</td><td>20</td><td>0</td><td>0</td><td>0</td><td>0</td><td>245</td><td>127.5</td><td> 80</td><td>25.34</td><td>75</td><td> 70</td><td>0</td></tr>\n",
       "\t<tr><th scope=row>4</th><td>0</td><td>61</td><td>3</td><td>1</td><td>30</td><td>0</td><td>0</td><td>1</td><td>0</td><td>225</td><td>150.0</td><td> 95</td><td>28.58</td><td>65</td><td>103</td><td>1</td></tr>\n",
       "\t<tr><th scope=row>5</th><td>0</td><td>46</td><td>3</td><td>1</td><td>23</td><td>0</td><td>0</td><td>0</td><td>0</td><td>285</td><td>130.0</td><td> 84</td><td>23.10</td><td>85</td><td> 85</td><td>0</td></tr>\n",
       "\t<tr><th scope=row>6</th><td>0</td><td>43</td><td>2</td><td>0</td><td> 0</td><td>0</td><td>0</td><td>1</td><td>0</td><td>228</td><td>180.0</td><td>110</td><td>30.30</td><td>77</td><td> 99</td><td>0</td></tr>\n",
       "</tbody>\n",
       "</table>\n"
      ],
      "text/latex": [
       "A data.frame: 6 × 16\n",
       "\\begin{tabular}{r|llllllllllllllll}\n",
       "  & male & age & education & currentSmoker & cigsPerDay & BPMeds & prevalentStroke & prevalentHyp & diabetes & totChol & sysBP & diaBP & BMI & heartRate & glucose & TenYearCHD\\\\\n",
       "  & <int> & <int> & <int> & <int> & <int> & <int> & <int> & <int> & <int> & <int> & <dbl> & <dbl> & <dbl> & <int> & <int> & <int>\\\\\n",
       "\\hline\n",
       "\t1 & 1 & 39 & 4 & 0 &  0 & 0 & 0 & 0 & 0 & 195 & 106.0 &  70 & 26.97 & 80 &  77 & 0\\\\\n",
       "\t2 & 0 & 46 & 2 & 0 &  0 & 0 & 0 & 0 & 0 & 250 & 121.0 &  81 & 28.73 & 95 &  76 & 0\\\\\n",
       "\t3 & 1 & 48 & 1 & 1 & 20 & 0 & 0 & 0 & 0 & 245 & 127.5 &  80 & 25.34 & 75 &  70 & 0\\\\\n",
       "\t4 & 0 & 61 & 3 & 1 & 30 & 0 & 0 & 1 & 0 & 225 & 150.0 &  95 & 28.58 & 65 & 103 & 1\\\\\n",
       "\t5 & 0 & 46 & 3 & 1 & 23 & 0 & 0 & 0 & 0 & 285 & 130.0 &  84 & 23.10 & 85 &  85 & 0\\\\\n",
       "\t6 & 0 & 43 & 2 & 0 &  0 & 0 & 0 & 1 & 0 & 228 & 180.0 & 110 & 30.30 & 77 &  99 & 0\\\\\n",
       "\\end{tabular}\n"
      ],
      "text/markdown": [
       "\n",
       "A data.frame: 6 × 16\n",
       "\n",
       "| <!--/--> | male &lt;int&gt; | age &lt;int&gt; | education &lt;int&gt; | currentSmoker &lt;int&gt; | cigsPerDay &lt;int&gt; | BPMeds &lt;int&gt; | prevalentStroke &lt;int&gt; | prevalentHyp &lt;int&gt; | diabetes &lt;int&gt; | totChol &lt;int&gt; | sysBP &lt;dbl&gt; | diaBP &lt;dbl&gt; | BMI &lt;dbl&gt; | heartRate &lt;int&gt; | glucose &lt;int&gt; | TenYearCHD &lt;int&gt; |\n",
       "|---|---|---|---|---|---|---|---|---|---|---|---|---|---|---|---|---|\n",
       "| 1 | 1 | 39 | 4 | 0 |  0 | 0 | 0 | 0 | 0 | 195 | 106.0 |  70 | 26.97 | 80 |  77 | 0 |\n",
       "| 2 | 0 | 46 | 2 | 0 |  0 | 0 | 0 | 0 | 0 | 250 | 121.0 |  81 | 28.73 | 95 |  76 | 0 |\n",
       "| 3 | 1 | 48 | 1 | 1 | 20 | 0 | 0 | 0 | 0 | 245 | 127.5 |  80 | 25.34 | 75 |  70 | 0 |\n",
       "| 4 | 0 | 61 | 3 | 1 | 30 | 0 | 0 | 1 | 0 | 225 | 150.0 |  95 | 28.58 | 65 | 103 | 1 |\n",
       "| 5 | 0 | 46 | 3 | 1 | 23 | 0 | 0 | 0 | 0 | 285 | 130.0 |  84 | 23.10 | 85 |  85 | 0 |\n",
       "| 6 | 0 | 43 | 2 | 0 |  0 | 0 | 0 | 1 | 0 | 228 | 180.0 | 110 | 30.30 | 77 |  99 | 0 |\n",
       "\n"
      ],
      "text/plain": [
       "  male age education currentSmoker cigsPerDay BPMeds prevalentStroke\n",
       "1 1    39  4         0              0         0      0              \n",
       "2 0    46  2         0              0         0      0              \n",
       "3 1    48  1         1             20         0      0              \n",
       "4 0    61  3         1             30         0      0              \n",
       "5 0    46  3         1             23         0      0              \n",
       "6 0    43  2         0              0         0      0              \n",
       "  prevalentHyp diabetes totChol sysBP diaBP BMI   heartRate glucose TenYearCHD\n",
       "1 0            0        195     106.0  70   26.97 80         77     0         \n",
       "2 0            0        250     121.0  81   28.73 95         76     0         \n",
       "3 0            0        245     127.5  80   25.34 75         70     0         \n",
       "4 1            0        225     150.0  95   28.58 65        103     1         \n",
       "5 0            0        285     130.0  84   23.10 85         85     0         \n",
       "6 1            0        228     180.0 110   30.30 77         99     0         "
      ]
     },
     "metadata": {},
     "output_type": "display_data"
    }
   ],
   "source": [
    "framingham_data <- read.csv(\"/dsa/data/all_datasets/framingham/framingham.csv\")\n",
    "head(framingham_data)"
   ]
  },
  {
   "cell_type": "code",
   "execution_count": 3,
   "metadata": {},
   "outputs": [
    {
     "data": {
      "text/plain": [
       "             TenYearCHD\n",
       "currentSmoker    0    1\n",
       "            0 1834  311\n",
       "            1 1762  333"
      ]
     },
     "metadata": {},
     "output_type": "display_data"
    }
   ],
   "source": [
    "with(framingham_data,table(currentSmoker,TenYearCHD))"
   ]
  },
  {
   "cell_type": "markdown",
   "metadata": {},
   "source": [
    "**Question:** What is the probability that a person has coronary heart disease in ten years given that the person is also a smoker?\n",
    "\n",
    "According to the Bayes' theorem formula, let's define events...\n",
    "\n",
    "**Solution**: \n",
    "<ul>\n",
    "    <li>Let D be the event of the person having coronary heart disease in 10 years and D' be the event of the person _not_ having coronary heart disease in 10 years.</li>\n",
    "    <li>Let S be the event of the person being a smoker and S' be the event of the _not_ being a smoker.</li>\n",
    "    <li>$P(D|S)$ - This is the probability that the person has coronary heart disease in 10 years given that the person is a smoker.  **This is what we want to know**.  </li>\n",
    "    <li>$P(S|D)$ - This is the probability that the person is a smoker given that the person has coronary heart disease in 10 years.  This is the same as a true positive result.  P(S|D) = the number of smokers with heart disease / the number of people with heart disease in 10 years = 333 / 644 = 0.517    </li>\n",
    "    <li>$P(S|D')$ - This is the probability that the person is a smoker given that the person does not have coronary heart disease in 10 years.  This is the same as a true negative result.  P(S|D') = the number of smokers who don't have heart disease in 10 years  / the number of people who don't have heart disease in 10 years = 1762 / 3596 = 0.490</li>\n",
    "    <li>$P(D)$ - This is the probability that the person has heart disease in 10 years (644 / 4240 = 0.152)</li>\n",
    "    <li>$P(D')$ - The probability that the person doesn't have heart disease in 10 years (3596 / 4240 = 0.848)</li>\n",
    "    <li>$P(S)$ - The probability that the person smokes (2095 / 4240 = 0.494)</li>\n",
    "    <li>$P(S')$ - The probability that the person doesn't smoke (2145 / 4240 = 0.506)</li>\n",
    "</ul>\n",
    "(In Bayes' formula, we're going to substitute as follows: D = A and S = X)\n",
    "\n",
    "\n",
    "\n",
    "                                               P(S|D) * P(D)\n",
    "                        P(D|S) = --------------------------------------\n",
    "                                    [P(D) * P(S|D)] + [P(D') * P(S|D')]\n",
    "                                    \n",
    "                                            0.517 * 0.152  \n",
    "                               =   -------------------------------\n",
    "                                   (0.152 * 0.517) + (0.848 * 0.490)\n",
    "                                   \n",
    "                                   \n",
    "                                 =  0.159     \n",
    "                                 \n",
    "Or, using the simplified Bayes' formula: \n",
    "\n",
    "                                P(S|D) * P(D)              0.517 * 0.152\n",
    "                  P(D|S)  =  -------------------    =     ---------------    =   0.159\n",
    "                                   P(S)                        0.494\n",
    "\n"
   ]
  },
  {
   "cell_type": "markdown",
   "metadata": {},
   "source": [
    "**Example from:** [IPSUR](http://ipsur.r-forge.r-project.org/book/download/IPSUR.pdf)\n",
    "\n",
    "**Misfiling Assistants problem.**\n",
    "In this problem, there are three assistants working at a company: \n",
    "Moe, Larry, and Curly. \n",
    "Their primary job duty is to file paperwork in the filing cabinet when papers become available.\n",
    "The three assistants have different work schedules:\n",
    "\n",
    "<table>\n",
    "    <tr>\n",
    "        <th></th>\n",
    "        <th>Moe</th>\n",
    "        <th>Larry</th>\n",
    "        <th>Curly</th>\n",
    "    </tr>\n",
    "    <tr>\n",
    "        <td>Misfiles</td>\n",
    "        <td>60%</td>\n",
    "        <td>30%</td>\n",
    "        <td>10%</td>\n",
    "    <tr>\n",
    "</table>\n",
    "\n",
    "That is, Moe works 60% of the time, Larry works 30% of the time, and Curly does the remaining 10%, and they file documents at approximately the same speed. Suppose a person were to select one of the documents from the cabinet at random. \n",
    "\n",
    "Let $M$ be the event, $M$ = {Moe filed the document}  and \n",
    "\n",
    "Let $L$ and $C$ be the events that Larry and Curly, respectively, filed the document. \n"
   ]
  },
  {
   "cell_type": "markdown",
   "metadata": {},
   "source": [
    "What are these events’ respective probabilities? \n",
    "In the absence of additional information, reasonable prior probabilities would just be\n",
    "\n",
    "<table>\n",
    "    <tr>\n",
    "        <th></th>\n",
    "        <th>Moe</th>\n",
    "        <th>Larry</th>\n",
    "        <th>Curly</th>\n",
    "    </tr>\n",
    "    <tr>\n",
    "        <td>Misfiles</td>\n",
    "        <td>P(M) = 60%</td>\n",
    "        <td>P(L) = 30%</td>\n",
    "        <td>P(C) = 10%</td>\n",
    "    <tr>\n",
    "</table>\n",
    "\n",
    "Now, the boss comes in one day, opens up the file cabinet, and selects a file at random. \n",
    "The boss discovers that the file has been misplaced. \n",
    "The boss is so angry at the mistake that (s)he threatens to fire the one who erred. \n",
    "The question is: Who misplaced the file?"
   ]
  },
  {
   "cell_type": "markdown",
   "metadata": {},
   "source": [
    "The boss decides to use probability to decide, and walks straight to the workload schedule. \n",
    "(S)he reasons that, since the three employees work at the same speed, \n",
    "the probability that a randomly selected file would have been filed by each one would be proportional to his workload.\n",
    "The boss notifies Moe that he has until the end of the day to empty his desk. \n",
    "But Moe argues in his defense that the boss has ignored additional information.\n",
    "Moe’s likelihood of having misfiled a document is smaller than Larry’s and Curly’s, \n",
    "since he is a diligent worker who pays close attention to his work.\n",
    "Moe admits that he works longer than the others, \n",
    "but he doesn’t make as many mistakes as they do. \n",
    "Thus, Moe recommends that – before making a decision – the boss should update the probability \n",
    "(initially based on workload alone) to incorporate the likelihood of having observed a misfiled document."
   ]
  },
  {
   "cell_type": "markdown",
   "metadata": {},
   "source": [
    "And, as it turns out, the boss has information about Moe, Larry, and Curly’s filing accuracy in the past (due to historical performance evaluations). \n",
    "The performance information may be represented by the following table:\n",
    "\n",
    "<table>\n",
    "    <tr>\n",
    "        <th></th>\n",
    "        <th>Moe</th>\n",
    "        <th>Larry</th>\n",
    "        <th>Curly</th>\n",
    "    </tr>\n",
    "    <tr>\n",
    "        <td>Misfiles</td>\n",
    "        <td>0.003</td>\n",
    "        <td>0.007</td>\n",
    "        <td>0.010</td>\n",
    "    <tr>\n",
    "</table>\n",
    "\n",
    "\n",
    "\n",
    "In other words, on the average, Moe misfiles 0.3% of the documents he is supposed to file. \n",
    "Notice that Moe was correct: he is the most accurate filer, followed by Larry, and lastly Curly. \n",
    "If the boss were to make a decision based only on the worker’s overall accuracy, \n",
    "then Curly should get the axe.\n",
    "But Curly hears this and interjects that he only works a short period during the day, and consequently makes mistakes only very rarely; \n",
    "there is only the tiniest chance that he misfiled this particular document."
   ]
  },
  {
   "cell_type": "markdown",
   "metadata": {},
   "source": [
    "The boss would like to use this updated information to update the probabilities for the three assistants, that is, \n",
    "(s)he wants to use the additional likelihood that the document was misfiled to update his/her beliefs about the likely culprit. \n",
    "\n",
    "Let $A$ be the event that **a document is misfiled**.\n",
    "What the boss would like to know are the three probabilities...\n",
    "\n",
    "            P(M|A), P(L|A), and P(C|A)\n",
    "            \n",
    "We will show the calculation for $P(M|A)$, the other two cases being similar.\n",
    "We use Bayes’ Rule in the form\n",
    "\n",
    "\n",
    "                 P(M ∩ A)      P(A|M) * P(M)       \n",
    "        P(M|A) = ---------- =  ---------------\n",
    "                    P(A)            P(A)\n",
    "                                                  "
   ]
  },
  {
   "cell_type": "markdown",
   "metadata": {},
   "source": [
    "So we'll first find P(M ∩ A), which we know from the Multiplication Rule is the same as P(A|M) · P(M).\n",
    "\n",
    "We already know P(A|M) is just Moe’s misfile rate (given above as 0.003) and P(M) = 0.6.\n",
    "Thus, we compute\n",
    "\n",
    "        P(M ∩ A) = (0.003)(0.06) = 0.0018\n",
    "\n",
    "        P(L ∩ A) = 0.0021\n",
    "        \n",
    "        P(C ∩ A) = 0.0010\n",
    "\n",
    "\n",
    "Using the Theorem of Total Probability we can write P(A) = P(M ∩ A) + P(L ∩ A) + P(C ∩ A).\n",
    "\n",
    "        P(A) = 0.0018 + 0.0021 + 0.0010 = 0.0049\n",
    "        \n",
    "                                         0.0018\n",
    "    According to Bayes' rule,  P(M|A) = --------  \n",
    "                                         0.0049\n",
    "\n",
    "                                       = 0.37\n",
    "\n",
    "The above last quantity is called the **posterior probability** that Moe misfiled the document. \n",
    "We can use the same argument to calculate\n",
    "\n",
    "<table>\n",
    "    <tr>\n",
    "        <th></th>\n",
    "        <th>Moe</th>\n",
    "        <th>Larry</th>\n",
    "        <th>Curly</th>\n",
    "    </tr>\n",
    "    <tr>\n",
    "        <td></td>\n",
    "        <td>P(M/A) = 0.37</td>\n",
    "        <td>P(L/A) = 0.43</td>\n",
    "        <td>P(C/A) = 0.20</td>\n",
    "    <tr>\n",
    "</table>\n",
    "\n",
    "\n",
    "The conclusion:\n",
    "Larry gets the axe.\n",
    "What is happening is an intricate interplay between the time on the job and the misfile rate. \n",
    "It is not obvious who the winner (or in this case, loser) will be, \n",
    "and the statistician needs to consult Bayes’ Rule to determine the best course of action."
   ]
  },
  {
   "cell_type": "markdown",
   "metadata": {},
   "source": [
    "---\n",
    "\n",
    "Let's try to implement the same thing in R. \n",
    "All the math in the problem above used four simple steps. "
   ]
  },
  {
   "cell_type": "code",
   "execution_count": 4,
   "metadata": {},
   "outputs": [
    {
     "data": {
      "text/html": [
       "<style>\n",
       ".list-inline {list-style: none; margin:0; padding: 0}\n",
       ".list-inline>li {display: inline-block}\n",
       ".list-inline>li:not(:last-child)::after {content: \"\\00b7\"; padding: 0 .5ex}\n",
       "</style>\n",
       "<ol class=list-inline><li>0.0018</li><li>0.0021</li><li>0.001</li></ol>\n"
      ],
      "text/latex": [
       "\\begin{enumerate*}\n",
       "\\item 0.0018\n",
       "\\item 0.0021\n",
       "\\item 0.001\n",
       "\\end{enumerate*}\n"
      ],
      "text/markdown": [
       "1. 0.0018\n",
       "2. 0.0021\n",
       "3. 0.001\n",
       "\n",
       "\n"
      ],
      "text/plain": [
       "[1] 0.0018 0.0021 0.0010"
      ]
     },
     "metadata": {},
     "output_type": "display_data"
    }
   ],
   "source": [
    "# prior_probs is the name of the variable that contains the prior probabilities we assumed above\n",
    "# The prior probabilities are based on the amount of time each person was working (i.e., Moe = 60%, \n",
    "# Larry = 30%, Curly = 10%)\n",
    "prior_probs <- c(0.6, 0.3, 0.1)\n",
    "\n",
    "# We now add information from Moe, Larry, and Curly’s past historical performance evaluations,\n",
    "# which we are considering the to be the likelihood that they committed the misfiling.\n",
    "like <- c(0.003, 0.007, 0.01)\n",
    "\n",
    "# Generate posterior probabilities based on prior probabilities and the likelihood of each event.\n",
    "post <- prior_probs * like   # Note: This is vector math\n",
    "post"
   ]
  },
  {
   "cell_type": "code",
   "execution_count": 5,
   "metadata": {},
   "outputs": [
    {
     "data": {
      "text/html": [
       "<style>\n",
       ".list-inline {list-style: none; margin:0; padding: 0}\n",
       ".list-inline>li {display: inline-block}\n",
       ".list-inline>li:not(:last-child)::after {content: \"\\00b7\"; padding: 0 .5ex}\n",
       "</style>\n",
       "<ol class=list-inline><li>0.36734693877551</li><li>0.428571428571429</li><li>0.204081632653061</li></ol>\n"
      ],
      "text/latex": [
       "\\begin{enumerate*}\n",
       "\\item 0.36734693877551\n",
       "\\item 0.428571428571429\n",
       "\\item 0.204081632653061\n",
       "\\end{enumerate*}\n"
      ],
      "text/markdown": [
       "1. 0.36734693877551\n",
       "2. 0.428571428571429\n",
       "3. 0.204081632653061\n",
       "\n",
       "\n"
      ],
      "text/plain": [
       "[1] 0.3673469 0.4285714 0.2040816"
      ]
     },
     "metadata": {},
     "output_type": "display_data"
    }
   ],
   "source": [
    "post / sum(post) # More vector math"
   ]
  },
  {
   "cell_type": "markdown",
   "metadata": {},
   "source": [
    "---\n",
    "\n",
    "**Another Example:**\n",
    "\n",
    "The Art Competition has entries from three painters: Pam, Pia and Pablo.\n",
    "Pam put in 15 paintings, 4% of her works have won First Prize.\n",
    "Pia put in 5 paintings, 6% of her works have won First Prize.\n",
    "Pablo put in 10 paintings, 3% of his works have won First Prize.\n",
    "\n",
    "What is the chance that Pam will win First Prize?\n",
    "\n",
    "\n",
    "                                             P(Pam)P(First|Pam)\n",
    "               P(Pam|First) = ----------------------------------------------------------------\n",
    "                              P(Pam)P(First|Pam) + P(Pia)P(First|Pia) + P(Pablo)P(First|Pablo)\n",
    "\n",
    "\n",
    "                                           (15/30) × 4%\n",
    "               P(Pam|First) = -----------------------------------------  = 50%\n",
    "                              (15/30) × 4% + (5/30) × 6% + (10/30) × 3%\n",
    "                               \n",
    "                               \n",
    "Pam isn't the most successful artist, but she did put in lots of entries.                               "
   ]
  }
 ],
 "metadata": {
  "kernelspec": {
   "display_name": "R",
   "language": "R",
   "name": "ir"
  },
  "language_info": {
   "codemirror_mode": "r",
   "file_extension": ".r",
   "mimetype": "text/x-r-source",
   "name": "R",
   "pygments_lexer": "r",
   "version": "4.0.5"
  }
 },
 "nbformat": 4,
 "nbformat_minor": 1
}
