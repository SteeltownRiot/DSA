{
 "cells": [
  {
   "cell_type": "markdown",
   "metadata": {},
   "source": [
    "<span style=\"color:#1871d6; font-size:24px; font-weight:700\"> Bayes Theorem </span>\n",
    "\n",
    "The cigar example in the lab illustrates the application of Bayes' theorem with its calculation using the formula. \n",
    "Unfortunately, that calculation is complicated and can cause confusion and/or incorrect substitution of the involved\n",
    "probability values. \n",
    "Fortunately, here is another approach that is much more intuitive and easier:\n",
    "\n",
    "Assume some convenient value for the total of all items involved, \n",
    "then construct a table of rows and columns with the individual cell frequencies based on the known probabilities.\n",
    "\n",
    "For example, let's assume that the adult population in Boone County, Missouri is 100,000. \n",
    "Now we can use the given information to create a table.\n",
    "\n",
    "*Number of males who smoke cigars:* \n",
    "51% of adults are males; so there are 51,000 males. \n",
    "If 9.5% of them smoke, that makes 0.095 x 51,000 = 4845. \n",
    "Then, males who do not smoke are 51,000 - 4845 = 46,155.\n",
    "See the table where these values go.\n",
    "\n",
    "\n",
    "*Number of females who smoke cigars:* 49% of the adults are females, that makes 49,000. \n",
    "1.7% of them are smokers, so 0.017 x 49,000 = 833. \n",
    "The number of females who do not smoke is 49,000 - 833 = 48,167. \n",
    "Again look at the table below. "
   ]
  },
  {
   "cell_type": "code",
   "execution_count": null,
   "metadata": {},
   "outputs": [],
   "source": [
    "cigar <- matrix(c(4845, 833, 46155, 48167), ncol = 2)\n",
    "colnames(cigar) <- c('smoker', 'nonsmoker')\n",
    "rownames(cigar) <- c('male', 'female')\n",
    "cigar.table <- as.table(cigar)\n",
    "\n",
    "addmargins(cigar.table)"
   ]
  },
  {
   "cell_type": "markdown",
   "metadata": {},
   "source": [
    "The above table involves simple arithmetic. \n",
    "Simply partition the assumed population into the different cell categories by finding suitable percentages.\n",
    "\n",
    "Now we can easily address the key question as follows: \n",
    "To find the probability of getting a male subject, given that the subject smokes cigars, \n",
    "simply use the same conditional probability described before. \n",
    "\n",
    "To find the probability of getting a male given that the subject smokes, \n",
    "restrict the table to the column of cigar smokers, \n",
    "then find the probability of getting a male in that column.\n",
    "Among the 5678 cigar smokers, there are 4845 males, so the probability we seek is 4845/5678 = 0.85329341. \n",
    "That is, $P(M | C)$ = 4845/5678 = 0.85329341 = 0.853 (rounded).\n",
    "\n",
    "**Activity 1:** \n",
    "Now, your turn: \n",
    "The actual population of Boone County, Missouri is 170,733 (as of 2013).\n",
    "Create the above table with actual population values for the given percentages and find the actual $P(M | C)$."
   ]
  },
  {
   "cell_type": "code",
   "execution_count": null,
   "metadata": {},
   "outputs": [],
   "source": [
    "# Add your code here\n",
    "# --------------------\n",
    "\n",
    "\n",
    "\n",
    "\n"
   ]
  },
  {
   "cell_type": "markdown",
   "metadata": {},
   "source": [
    "a) Now, using the same table, randomly select an individual, what is the prior probability that the selected person is a female?\n",
    "\n",
    "b) You later learn that the randomly selected person was smoking a cigar. \n",
    "Use this additional information to find the posterior probability that the selected person is a female."
   ]
  },
  {
   "cell_type": "code",
   "execution_count": null,
   "metadata": {},
   "outputs": [],
   "source": [
    "addmargins(prop.table(cigar))"
   ]
  },
  {
   "cell_type": "code",
   "execution_count": null,
   "metadata": {},
   "outputs": [],
   "source": [
    "# Add your code here\n",
    "# --------------------\n",
    "\n",
    "\n",
    "\n"
   ]
  },
  {
   "cell_type": "markdown",
   "metadata": {},
   "source": [
    "Load the framingham data from the directory '/datasets/framingham'."
   ]
  },
  {
   "cell_type": "code",
   "execution_count": null,
   "metadata": {},
   "outputs": [],
   "source": [
    "framingham_data <- read.csv(\"/dsa/data/all_datasets/framingham/framingham.csv\")\n",
    "head(framingham_data)"
   ]
  },
  {
   "cell_type": "markdown",
   "metadata": {},
   "source": [
    "**Activity 2:** Create a two-way table from this data set with diabetes condition in the columns and gender in the rows. Use addmargins to add totals.\n"
   ]
  },
  {
   "cell_type": "code",
   "execution_count": null,
   "metadata": {},
   "outputs": [],
   "source": [
    "dia <- with(framingham_data,table(male,diabetes))\n",
    "colnames(dia) <- c('nondiabetes','diabetes')\n",
    "rownames(dia) <- c('female','male')\n",
    "<what goes here>(dia)"
   ]
  },
  {
   "cell_type": "code",
   "execution_count": null,
   "metadata": {},
   "outputs": [],
   "source": [
    "addmargins(prop.table(dia,1))"
   ]
  },
  {
   "cell_type": "markdown",
   "metadata": {},
   "source": [
    "**Activity 3:** What is the probability that an individual has diabetes, given that the individual is female?  Let <b>d</b> be an event of diabetes and <b>d'</b> be event of nondiabetes.\n",
    "Similarly let $f$ be the event of female and $f'$ be event of male. \n",
    "Find $P(d | f)$ using Bayes formula.\n",
    "\n",
    "            \n",
    "                         p(d) * p(f|d)\n",
    "     p(d|f) =  -------------------------------------\n",
    "               [p(d) * p(f|d)] + [ p(d') * p(f|d')]"
   ]
  },
  {
   "cell_type": "code",
   "execution_count": null,
   "metadata": {},
   "outputs": [],
   "source": [
    "# Add your code here\n",
    "# --------------------\n"
   ]
  },
  {
   "cell_type": "markdown",
   "metadata": {},
   "source": [
    "**Activity 4:** Dangerous fires are rare (1%), but smoke is fairly common (10%) due to barbecues, and 90% of dangerous fires make smoke. What is the probability of dangerous Fire when there is Smoke?\n",
    "\n",
    "Let's set up the probabilities: P(Fire), P(Smoke), P(Smoke|Fire), P(Fire|Smoke).\n",
    "\n",
    "Which one are we looking for? Write the formula and compute the probability of dangerous Fire given there is Smoke."
   ]
  },
  {
   "cell_type": "raw",
   "metadata": {},
   "source": [
    "# Write the formula here\n",
    "#-------------------------\n",
    "\n",
    "\n",
    "\n"
   ]
  },
  {
   "cell_type": "code",
   "execution_count": null,
   "metadata": {},
   "outputs": [],
   "source": [
    "# Add your code here \n",
    "# --------------------\n",
    "\n",
    "\n",
    "\n"
   ]
  },
  {
   "cell_type": "markdown",
   "metadata": {},
   "source": [
    "**Activity 5:** Imagine 100 people at a party, and you tally how many wear pink or not, and if a man or not, and get these numbers:"
   ]
  },
  {
   "cell_type": "code",
   "execution_count": null,
   "metadata": {},
   "outputs": [],
   "source": [
    "party <- matrix(c(5,20,35,40), ncol = 2)\n",
    "colnames(party) <- c('Pink', 'notPink')\n",
    "rownames(party) <- c('Man', 'Woman')\n",
    "party.table <- as.table(party)\n",
    "\n",
    "party.table\n",
    "addmargins(party.table)"
   ]
  },
  {
   "cell_type": "markdown",
   "metadata": {},
   "source": [
    "And then you calculate some probabilities "
   ]
  },
  {
   "cell_type": "code",
   "execution_count": null,
   "metadata": {},
   "outputs": [],
   "source": [
    "P_Man = 40/100\n",
    "P_Pink = 25/100\n",
    "P_Pink_givenMan = 5/40"
   ]
  },
  {
   "cell_type": "markdown",
   "metadata": {},
   "source": [
    "Then you lose your data, but only retain the probabilities. You see a pink-wearing guest leaving the party. What is the probability that the guest was a man ? "
   ]
  },
  {
   "cell_type": "code",
   "execution_count": null,
   "metadata": {},
   "outputs": [],
   "source": [
    "# Add your code here \n",
    "# --------------------\n"
   ]
  },
  {
   "cell_type": "markdown",
   "metadata": {},
   "source": [
    "**Activity 6:** You are planning a picnic today, but the morning is cloudy. 50% of all rainy days start off cloudy.\n",
    "But cloudy mornings are common (about 40% of days start cloudy) and this is usually a dry month (only 3 of 30 days tend to be rainy, or 10%).\n",
    "\n",
    "What is the chance of rain during the day?"
   ]
  },
  {
   "cell_type": "code",
   "execution_count": null,
   "metadata": {},
   "outputs": [],
   "source": [
    "P_rain = 0.1\n",
    "P_cloud = 0.4\n",
    "P_cloud_givenrain = 0.5\n",
    "\n",
    "# today started cloudy\n",
    "\n",
    "P_rain_givencloud = P_rain * P_cloud_givenrain / P_cloud\n",
    "\n",
    "P_rain_givencloud"
   ]
  },
  {
   "cell_type": "markdown",
   "metadata": {},
   "source": [
    "# Save your notebook!"
   ]
  }
 ],
 "metadata": {
  "kernelspec": {
   "display_name": "R",
   "language": "R",
   "name": "ir"
  },
  "language_info": {
   "codemirror_mode": "r",
   "file_extension": ".r",
   "mimetype": "text/x-r-source",
   "name": "R",
   "pygments_lexer": "r",
   "version": "4.0.5"
  }
 },
 "nbformat": 4,
 "nbformat_minor": 1
}
