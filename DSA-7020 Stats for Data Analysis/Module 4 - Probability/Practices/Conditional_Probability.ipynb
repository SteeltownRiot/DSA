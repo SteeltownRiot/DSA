{
 "cells": [
  {
   "cell_type": "markdown",
   "metadata": {},
   "source": [
    "<span style=\"color:#04c921; font-size:24px; font-weight:700\"> Conditional Probability</span>\n",
    "\n",
    "Conditional probability, as you have seen in the labs and the video, \n",
    "is the probability of an event X occurring given that another event Y has occurred. \n",
    "Mathematically, it is represented as $P(X | Y)$ which is read as “probability of X given Y”.\n",
    "\n",
    "We will continue working with the motor vehicle thefts dataset to apply conditional probability concepts. \n",
    "You will be introduced to a new function `tally()` that works just like prop.table() for working easily with conditional probability."
   ]
  },
  {
   "cell_type": "markdown",
   "metadata": {},
   "source": [
    "#### Read the data\n",
    "\n",
    "Load the motor thefts dataset into a variable called vehicle_thefts. The dataset exists in directory '/dsa/data/all_datasets/motor vehicle thefts/'."
   ]
  },
  {
   "cell_type": "code",
   "execution_count": 1,
   "metadata": {},
   "outputs": [
    {
     "data": {
      "text/html": [
       "<table class=\"dataframe\">\n",
       "<caption>A data.frame: 6 × 11</caption>\n",
       "<thead>\n",
       "\t<tr><th></th><th scope=col>ID</th><th scope=col>Date</th><th scope=col>LocationDescription</th><th scope=col>Arrest</th><th scope=col>Domestic</th><th scope=col>Beat</th><th scope=col>District</th><th scope=col>CommunityArea</th><th scope=col>Year</th><th scope=col>Latitude</th><th scope=col>Longitude</th></tr>\n",
       "\t<tr><th></th><th scope=col>&lt;int&gt;</th><th scope=col>&lt;chr&gt;</th><th scope=col>&lt;chr&gt;</th><th scope=col>&lt;lgl&gt;</th><th scope=col>&lt;lgl&gt;</th><th scope=col>&lt;int&gt;</th><th scope=col>&lt;int&gt;</th><th scope=col>&lt;int&gt;</th><th scope=col>&lt;int&gt;</th><th scope=col>&lt;dbl&gt;</th><th scope=col>&lt;dbl&gt;</th></tr>\n",
       "</thead>\n",
       "<tbody>\n",
       "\t<tr><th scope=row>1</th><td>8951354</td><td>12/31/2012 23:15</td><td>STREET                       </td><td>FALSE</td><td>FALSE</td><td> 623</td><td> 6</td><td>69</td><td>2012</td><td>41.75628</td><td>-87.62164</td></tr>\n",
       "\t<tr><th scope=row>2</th><td>8951141</td><td>12/31/2012 22:00</td><td>STREET                       </td><td>FALSE</td><td>FALSE</td><td>1213</td><td>12</td><td>24</td><td>2012</td><td>41.89879</td><td>-87.66130</td></tr>\n",
       "\t<tr><th scope=row>3</th><td>8952745</td><td>12/31/2012 22:00</td><td>RESIDENTIAL YARD (FRONT/BACK)</td><td>FALSE</td><td>FALSE</td><td>1622</td><td>16</td><td>11</td><td>2012</td><td>41.96919</td><td>-87.76767</td></tr>\n",
       "\t<tr><th scope=row>4</th><td>8952223</td><td>12/31/2012 22:00</td><td>STREET                       </td><td>FALSE</td><td>FALSE</td><td> 724</td><td> 7</td><td>67</td><td>2012</td><td>41.76933</td><td>-87.65773</td></tr>\n",
       "\t<tr><th scope=row>5</th><td>8951608</td><td>12/31/2012 21:30</td><td>STREET                       </td><td>FALSE</td><td>FALSE</td><td> 211</td><td> 2</td><td>35</td><td>2012</td><td>41.83757</td><td>-87.62176</td></tr>\n",
       "\t<tr><th scope=row>6</th><td>8950793</td><td>12/31/2012 20:30</td><td>STREET                       </td><td> TRUE</td><td>FALSE</td><td>2521</td><td>25</td><td>19</td><td>2012</td><td>41.92856</td><td>-87.75400</td></tr>\n",
       "</tbody>\n",
       "</table>\n"
      ],
      "text/latex": [
       "A data.frame: 6 × 11\n",
       "\\begin{tabular}{r|lllllllllll}\n",
       "  & ID & Date & LocationDescription & Arrest & Domestic & Beat & District & CommunityArea & Year & Latitude & Longitude\\\\\n",
       "  & <int> & <chr> & <chr> & <lgl> & <lgl> & <int> & <int> & <int> & <int> & <dbl> & <dbl>\\\\\n",
       "\\hline\n",
       "\t1 & 8951354 & 12/31/2012 23:15 & STREET                        & FALSE & FALSE &  623 &  6 & 69 & 2012 & 41.75628 & -87.62164\\\\\n",
       "\t2 & 8951141 & 12/31/2012 22:00 & STREET                        & FALSE & FALSE & 1213 & 12 & 24 & 2012 & 41.89879 & -87.66130\\\\\n",
       "\t3 & 8952745 & 12/31/2012 22:00 & RESIDENTIAL YARD (FRONT/BACK) & FALSE & FALSE & 1622 & 16 & 11 & 2012 & 41.96919 & -87.76767\\\\\n",
       "\t4 & 8952223 & 12/31/2012 22:00 & STREET                        & FALSE & FALSE &  724 &  7 & 67 & 2012 & 41.76933 & -87.65773\\\\\n",
       "\t5 & 8951608 & 12/31/2012 21:30 & STREET                        & FALSE & FALSE &  211 &  2 & 35 & 2012 & 41.83757 & -87.62176\\\\\n",
       "\t6 & 8950793 & 12/31/2012 20:30 & STREET                        &  TRUE & FALSE & 2521 & 25 & 19 & 2012 & 41.92856 & -87.75400\\\\\n",
       "\\end{tabular}\n"
      ],
      "text/markdown": [
       "\n",
       "A data.frame: 6 × 11\n",
       "\n",
       "| <!--/--> | ID &lt;int&gt; | Date &lt;chr&gt; | LocationDescription &lt;chr&gt; | Arrest &lt;lgl&gt; | Domestic &lt;lgl&gt; | Beat &lt;int&gt; | District &lt;int&gt; | CommunityArea &lt;int&gt; | Year &lt;int&gt; | Latitude &lt;dbl&gt; | Longitude &lt;dbl&gt; |\n",
       "|---|---|---|---|---|---|---|---|---|---|---|---|\n",
       "| 1 | 8951354 | 12/31/2012 23:15 | STREET                        | FALSE | FALSE |  623 |  6 | 69 | 2012 | 41.75628 | -87.62164 |\n",
       "| 2 | 8951141 | 12/31/2012 22:00 | STREET                        | FALSE | FALSE | 1213 | 12 | 24 | 2012 | 41.89879 | -87.66130 |\n",
       "| 3 | 8952745 | 12/31/2012 22:00 | RESIDENTIAL YARD (FRONT/BACK) | FALSE | FALSE | 1622 | 16 | 11 | 2012 | 41.96919 | -87.76767 |\n",
       "| 4 | 8952223 | 12/31/2012 22:00 | STREET                        | FALSE | FALSE |  724 |  7 | 67 | 2012 | 41.76933 | -87.65773 |\n",
       "| 5 | 8951608 | 12/31/2012 21:30 | STREET                        | FALSE | FALSE |  211 |  2 | 35 | 2012 | 41.83757 | -87.62176 |\n",
       "| 6 | 8950793 | 12/31/2012 20:30 | STREET                        |  TRUE | FALSE | 2521 | 25 | 19 | 2012 | 41.92856 | -87.75400 |\n",
       "\n"
      ],
      "text/plain": [
       "  ID      Date             LocationDescription           Arrest Domestic Beat\n",
       "1 8951354 12/31/2012 23:15 STREET                        FALSE  FALSE     623\n",
       "2 8951141 12/31/2012 22:00 STREET                        FALSE  FALSE    1213\n",
       "3 8952745 12/31/2012 22:00 RESIDENTIAL YARD (FRONT/BACK) FALSE  FALSE    1622\n",
       "4 8952223 12/31/2012 22:00 STREET                        FALSE  FALSE     724\n",
       "5 8951608 12/31/2012 21:30 STREET                        FALSE  FALSE     211\n",
       "6 8950793 12/31/2012 20:30 STREET                         TRUE  FALSE    2521\n",
       "  District CommunityArea Year Latitude Longitude\n",
       "1  6       69            2012 41.75628 -87.62164\n",
       "2 12       24            2012 41.89879 -87.66130\n",
       "3 16       11            2012 41.96919 -87.76767\n",
       "4  7       67            2012 41.76933 -87.65773\n",
       "5  2       35            2012 41.83757 -87.62176\n",
       "6 25       19            2012 41.92856 -87.75400"
      ]
     },
     "metadata": {},
     "output_type": "display_data"
    }
   ],
   "source": [
    "vehicle_thefts <- read.csv(\"/dsa/data/all_datasets/motor_vehicle_thefts/mvt.csv\", header = TRUE)\n",
    "\n",
    "head(vehicle_thefts)"
   ]
  },
  {
   "cell_type": "code",
   "execution_count": 2,
   "metadata": {},
   "outputs": [
    {
     "name": "stderr",
     "output_type": "stream",
     "text": [
      "\n",
      "Attaching package: ‘lubridate’\n",
      "\n",
      "\n",
      "The following objects are masked from ‘package:base’:\n",
      "\n",
      "    date, intersect, setdiff, union\n",
      "\n",
      "\n",
      "\n",
      "Attaching package: ‘dplyr’\n",
      "\n",
      "\n",
      "The following objects are masked from ‘package:stats’:\n",
      "\n",
      "    filter, lag\n",
      "\n",
      "\n",
      "The following objects are masked from ‘package:base’:\n",
      "\n",
      "    intersect, setdiff, setequal, union\n",
      "\n",
      "\n"
     ]
    },
    {
     "data": {
      "text/html": [
       "<table class=\"dataframe\">\n",
       "<caption>A data.frame: 6 × 15</caption>\n",
       "<thead>\n",
       "\t<tr><th></th><th scope=col>ID</th><th scope=col>Date</th><th scope=col>LocationDescription</th><th scope=col>Arrest</th><th scope=col>Domestic</th><th scope=col>Beat</th><th scope=col>District</th><th scope=col>CommunityArea</th><th scope=col>Year</th><th scope=col>Latitude</th><th scope=col>Longitude</th><th scope=col>Month</th><th scope=col>Weekday</th><th scope=col>Hour</th><th scope=col>Minutes</th></tr>\n",
       "\t<tr><th></th><th scope=col>&lt;int&gt;</th><th scope=col>&lt;chr&gt;</th><th scope=col>&lt;chr&gt;</th><th scope=col>&lt;lgl&gt;</th><th scope=col>&lt;lgl&gt;</th><th scope=col>&lt;int&gt;</th><th scope=col>&lt;int&gt;</th><th scope=col>&lt;int&gt;</th><th scope=col>&lt;int&gt;</th><th scope=col>&lt;dbl&gt;</th><th scope=col>&lt;dbl&gt;</th><th scope=col>&lt;chr&gt;</th><th scope=col>&lt;chr&gt;</th><th scope=col>&lt;dbl&gt;</th><th scope=col>&lt;dbl&gt;</th></tr>\n",
       "</thead>\n",
       "<tbody>\n",
       "\t<tr><th scope=row>1</th><td>8951354</td><td>12/31/2012 23:15</td><td>STREET                       </td><td>FALSE</td><td>FALSE</td><td> 623</td><td> 6</td><td>69</td><td>2012</td><td>41.75628</td><td>-87.62164</td><td>December</td><td>Monday</td><td>23</td><td>15</td></tr>\n",
       "\t<tr><th scope=row>2</th><td>8951141</td><td>12/31/2012 22:00</td><td>STREET                       </td><td>FALSE</td><td>FALSE</td><td>1213</td><td>12</td><td>24</td><td>2012</td><td>41.89879</td><td>-87.66130</td><td>December</td><td>Monday</td><td>22</td><td> 0</td></tr>\n",
       "\t<tr><th scope=row>3</th><td>8952745</td><td>12/31/2012 22:00</td><td>RESIDENTIAL YARD (FRONT/BACK)</td><td>FALSE</td><td>FALSE</td><td>1622</td><td>16</td><td>11</td><td>2012</td><td>41.96919</td><td>-87.76767</td><td>December</td><td>Monday</td><td>22</td><td> 0</td></tr>\n",
       "\t<tr><th scope=row>4</th><td>8952223</td><td>12/31/2012 22:00</td><td>STREET                       </td><td>FALSE</td><td>FALSE</td><td> 724</td><td> 7</td><td>67</td><td>2012</td><td>41.76933</td><td>-87.65773</td><td>December</td><td>Monday</td><td>22</td><td> 0</td></tr>\n",
       "\t<tr><th scope=row>5</th><td>8951608</td><td>12/31/2012 21:30</td><td>STREET                       </td><td>FALSE</td><td>FALSE</td><td> 211</td><td> 2</td><td>35</td><td>2012</td><td>41.83757</td><td>-87.62176</td><td>December</td><td>Monday</td><td>21</td><td>30</td></tr>\n",
       "\t<tr><th scope=row>6</th><td>8950793</td><td>12/31/2012 20:30</td><td>STREET                       </td><td> TRUE</td><td>FALSE</td><td>2521</td><td>25</td><td>19</td><td>2012</td><td>41.92856</td><td>-87.75400</td><td>December</td><td>Monday</td><td>20</td><td>30</td></tr>\n",
       "</tbody>\n",
       "</table>\n"
      ],
      "text/latex": [
       "A data.frame: 6 × 15\n",
       "\\begin{tabular}{r|lllllllllllllll}\n",
       "  & ID & Date & LocationDescription & Arrest & Domestic & Beat & District & CommunityArea & Year & Latitude & Longitude & Month & Weekday & Hour & Minutes\\\\\n",
       "  & <int> & <chr> & <chr> & <lgl> & <lgl> & <int> & <int> & <int> & <int> & <dbl> & <dbl> & <chr> & <chr> & <dbl> & <dbl>\\\\\n",
       "\\hline\n",
       "\t1 & 8951354 & 12/31/2012 23:15 & STREET                        & FALSE & FALSE &  623 &  6 & 69 & 2012 & 41.75628 & -87.62164 & December & Monday & 23 & 15\\\\\n",
       "\t2 & 8951141 & 12/31/2012 22:00 & STREET                        & FALSE & FALSE & 1213 & 12 & 24 & 2012 & 41.89879 & -87.66130 & December & Monday & 22 &  0\\\\\n",
       "\t3 & 8952745 & 12/31/2012 22:00 & RESIDENTIAL YARD (FRONT/BACK) & FALSE & FALSE & 1622 & 16 & 11 & 2012 & 41.96919 & -87.76767 & December & Monday & 22 &  0\\\\\n",
       "\t4 & 8952223 & 12/31/2012 22:00 & STREET                        & FALSE & FALSE &  724 &  7 & 67 & 2012 & 41.76933 & -87.65773 & December & Monday & 22 &  0\\\\\n",
       "\t5 & 8951608 & 12/31/2012 21:30 & STREET                        & FALSE & FALSE &  211 &  2 & 35 & 2012 & 41.83757 & -87.62176 & December & Monday & 21 & 30\\\\\n",
       "\t6 & 8950793 & 12/31/2012 20:30 & STREET                        &  TRUE & FALSE & 2521 & 25 & 19 & 2012 & 41.92856 & -87.75400 & December & Monday & 20 & 30\\\\\n",
       "\\end{tabular}\n"
      ],
      "text/markdown": [
       "\n",
       "A data.frame: 6 × 15\n",
       "\n",
       "| <!--/--> | ID &lt;int&gt; | Date &lt;chr&gt; | LocationDescription &lt;chr&gt; | Arrest &lt;lgl&gt; | Domestic &lt;lgl&gt; | Beat &lt;int&gt; | District &lt;int&gt; | CommunityArea &lt;int&gt; | Year &lt;int&gt; | Latitude &lt;dbl&gt; | Longitude &lt;dbl&gt; | Month &lt;chr&gt; | Weekday &lt;chr&gt; | Hour &lt;dbl&gt; | Minutes &lt;dbl&gt; |\n",
       "|---|---|---|---|---|---|---|---|---|---|---|---|---|---|---|---|\n",
       "| 1 | 8951354 | 12/31/2012 23:15 | STREET                        | FALSE | FALSE |  623 |  6 | 69 | 2012 | 41.75628 | -87.62164 | December | Monday | 23 | 15 |\n",
       "| 2 | 8951141 | 12/31/2012 22:00 | STREET                        | FALSE | FALSE | 1213 | 12 | 24 | 2012 | 41.89879 | -87.66130 | December | Monday | 22 |  0 |\n",
       "| 3 | 8952745 | 12/31/2012 22:00 | RESIDENTIAL YARD (FRONT/BACK) | FALSE | FALSE | 1622 | 16 | 11 | 2012 | 41.96919 | -87.76767 | December | Monday | 22 |  0 |\n",
       "| 4 | 8952223 | 12/31/2012 22:00 | STREET                        | FALSE | FALSE |  724 |  7 | 67 | 2012 | 41.76933 | -87.65773 | December | Monday | 22 |  0 |\n",
       "| 5 | 8951608 | 12/31/2012 21:30 | STREET                        | FALSE | FALSE |  211 |  2 | 35 | 2012 | 41.83757 | -87.62176 | December | Monday | 21 | 30 |\n",
       "| 6 | 8950793 | 12/31/2012 20:30 | STREET                        |  TRUE | FALSE | 2521 | 25 | 19 | 2012 | 41.92856 | -87.75400 | December | Monday | 20 | 30 |\n",
       "\n"
      ],
      "text/plain": [
       "  ID      Date             LocationDescription           Arrest Domestic Beat\n",
       "1 8951354 12/31/2012 23:15 STREET                        FALSE  FALSE     623\n",
       "2 8951141 12/31/2012 22:00 STREET                        FALSE  FALSE    1213\n",
       "3 8952745 12/31/2012 22:00 RESIDENTIAL YARD (FRONT/BACK) FALSE  FALSE    1622\n",
       "4 8952223 12/31/2012 22:00 STREET                        FALSE  FALSE     724\n",
       "5 8951608 12/31/2012 21:30 STREET                        FALSE  FALSE     211\n",
       "6 8950793 12/31/2012 20:30 STREET                         TRUE  FALSE    2521\n",
       "  District CommunityArea Year Latitude Longitude Month    Weekday Hour Minutes\n",
       "1  6       69            2012 41.75628 -87.62164 December Monday  23   15     \n",
       "2 12       24            2012 41.89879 -87.66130 December Monday  22    0     \n",
       "3 16       11            2012 41.96919 -87.76767 December Monday  22    0     \n",
       "4  7       67            2012 41.76933 -87.65773 December Monday  22    0     \n",
       "5  2       35            2012 41.83757 -87.62176 December Monday  21   30     \n",
       "6 25       19            2012 41.92856 -87.75400 December Monday  20   30     "
      ]
     },
     "metadata": {},
     "output_type": "display_data"
    }
   ],
   "source": [
    "# Extract the month and the day of the week and add these variables to the data frame vehicle_thefts\n",
    "DateConvert <- strptime(vehicle_thefts$Date, \"%m/%d/%Y %H:%M\")\n",
    "\n",
    "\n",
    "library(lubridate)\n",
    "library(dplyr)\n",
    "\n",
    "# ymd_hms() transforms dates stored as character or numeric vectors to POSIXct objects\n",
    "# Remember from the labs that there are two internal implementations of date/time: POSIXct, \n",
    "# which stores seconds since UNIX epoch (+ some other data), and POSIXlt, which stores a \n",
    "# list of day, month, year, hour, minute, second, etc.\n",
    "expand_date <- ymd_hms(DateConvert) #Converting input date \"12/31/2012 20:30\" to \"2012-12-31 23:15:00 UTC\" format\n",
    "\n",
    "# Create new columns: Month, Weekday, Hour, and Minutes\n",
    "vehicle_thefts$Month <- months(DateConvert)  #Extract month from formatted date. \n",
    "vehicle_thefts$Weekday <- weekdays(DateConvert)   #Extract weekday from formatted date. \n",
    "vehicle_thefts$Hour <- as.numeric(format(expand_date, \"%H\")) #Extract hour from formatted date. \n",
    "vehicle_thefts$Minutes <- as.numeric(format(expand_date, \"%M\"))  #Extract minutes from formatted date. \n",
    "\n",
    "head(vehicle_thefts)"
   ]
  },
  {
   "cell_type": "markdown",
   "metadata": {},
   "source": [
    "**Reference:** [format()](https://stat.ethz.ch/R-manual/R-devel/library/base/html/format.html)"
   ]
  },
  {
   "cell_type": "markdown",
   "metadata": {},
   "source": [
    "**Activity 1:** What is the probability of an arrest being made for the month with largest number of motor vehicle thefts? First let's find out the month with maximum number of thefts.\n"
   ]
  },
  {
   "cell_type": "code",
   "execution_count": 3,
   "metadata": {},
   "outputs": [
    {
     "data": {
      "text/html": [
       "<strong>October:</strong> 11"
      ],
      "text/latex": [
       "\\textbf{October:} 11"
      ],
      "text/markdown": [
       "**October:** 11"
      ],
      "text/plain": [
       "October \n",
       "     11 "
      ]
     },
     "metadata": {},
     "output_type": "display_data"
    },
    {
     "data": {
      "text/html": [
       "<table class=\"dataframe\">\n",
       "<caption>A table: 13 × 3 of type dbl</caption>\n",
       "<thead>\n",
       "\t<tr><th></th><th scope=col>FALSE</th><th scope=col>TRUE</th><th scope=col>Sum</th></tr>\n",
       "</thead>\n",
       "<tbody>\n",
       "\t<tr><th scope=row>April</th><td> 14028</td><td> 1252</td><td> 15280</td></tr>\n",
       "\t<tr><th scope=row>August</th><td> 15243</td><td> 1329</td><td> 16572</td></tr>\n",
       "\t<tr><th scope=row>December</th><td> 15029</td><td> 1397</td><td> 16426</td></tr>\n",
       "\t<tr><th scope=row>February</th><td> 12273</td><td> 1238</td><td> 13511</td></tr>\n",
       "\t<tr><th scope=row>January</th><td> 14612</td><td> 1435</td><td> 16047</td></tr>\n",
       "\t<tr><th scope=row>July</th><td> 15477</td><td> 1324</td><td> 16801</td></tr>\n",
       "\t<tr><th scope=row>June</th><td> 14772</td><td> 1230</td><td> 16002</td></tr>\n",
       "\t<tr><th scope=row>March</th><td> 14460</td><td> 1298</td><td> 15758</td></tr>\n",
       "\t<tr><th scope=row>May</th><td> 14848</td><td> 1187</td><td> 16035</td></tr>\n",
       "\t<tr><th scope=row>November</th><td> 14807</td><td> 1256</td><td> 16063</td></tr>\n",
       "\t<tr><th scope=row>October</th><td> 15744</td><td> 1342</td><td> 17086</td></tr>\n",
       "\t<tr><th scope=row>September</th><td> 14812</td><td> 1248</td><td> 16060</td></tr>\n",
       "\t<tr><th scope=row>Sum</th><td>176105</td><td>15536</td><td>191641</td></tr>\n",
       "</tbody>\n",
       "</table>\n"
      ],
      "text/latex": [
       "A table: 13 × 3 of type dbl\n",
       "\\begin{tabular}{r|lll}\n",
       "  & FALSE & TRUE & Sum\\\\\n",
       "\\hline\n",
       "\tApril &  14028 &  1252 &  15280\\\\\n",
       "\tAugust &  15243 &  1329 &  16572\\\\\n",
       "\tDecember &  15029 &  1397 &  16426\\\\\n",
       "\tFebruary &  12273 &  1238 &  13511\\\\\n",
       "\tJanuary &  14612 &  1435 &  16047\\\\\n",
       "\tJuly &  15477 &  1324 &  16801\\\\\n",
       "\tJune &  14772 &  1230 &  16002\\\\\n",
       "\tMarch &  14460 &  1298 &  15758\\\\\n",
       "\tMay &  14848 &  1187 &  16035\\\\\n",
       "\tNovember &  14807 &  1256 &  16063\\\\\n",
       "\tOctober &  15744 &  1342 &  17086\\\\\n",
       "\tSeptember &  14812 &  1248 &  16060\\\\\n",
       "\tSum & 176105 & 15536 & 191641\\\\\n",
       "\\end{tabular}\n"
      ],
      "text/markdown": [
       "\n",
       "A table: 13 × 3 of type dbl\n",
       "\n",
       "| <!--/--> | FALSE | TRUE | Sum |\n",
       "|---|---|---|---|\n",
       "| April |  14028 |  1252 |  15280 |\n",
       "| August |  15243 |  1329 |  16572 |\n",
       "| December |  15029 |  1397 |  16426 |\n",
       "| February |  12273 |  1238 |  13511 |\n",
       "| January |  14612 |  1435 |  16047 |\n",
       "| July |  15477 |  1324 |  16801 |\n",
       "| June |  14772 |  1230 |  16002 |\n",
       "| March |  14460 |  1298 |  15758 |\n",
       "| May |  14848 |  1187 |  16035 |\n",
       "| November |  14807 |  1256 |  16063 |\n",
       "| October |  15744 |  1342 |  17086 |\n",
       "| September |  14812 |  1248 |  16060 |\n",
       "| Sum | 176105 | 15536 | 191641 |\n",
       "\n"
      ],
      "text/plain": [
       "           \n",
       "            FALSE  TRUE  Sum   \n",
       "  April      14028  1252  15280\n",
       "  August     15243  1329  16572\n",
       "  December   15029  1397  16426\n",
       "  February   12273  1238  13511\n",
       "  January    14612  1435  16047\n",
       "  July       15477  1324  16801\n",
       "  June       14772  1230  16002\n",
       "  March      14460  1298  15758\n",
       "  May        14848  1187  16035\n",
       "  November   14807  1256  16063\n",
       "  October    15744  1342  17086\n",
       "  September  14812  1248  16060\n",
       "  Sum       176105 15536 191641"
      ]
     },
     "metadata": {},
     "output_type": "display_data"
    }
   ],
   "source": [
    "# Find the name of the month with largest value among the table() output results\n",
    "# The first returned month will have the largest value\n",
    "#sort(table(vehicle_thefts$Month), decreasing = TRUE)\n",
    "which.max(table(vehicle_thefts$Month))\n",
    "\n",
    "# A table is usually the best summary for categorical data. Once we have a table, we should be able to \n",
    "# look at it and say something sensible.  Let's take a look at the relationship between the two categorical \n",
    "# variables Month and Arrest.\n",
    "addmargins(table(vehicle_thefts$Month, vehicle_thefts$Arrest))"
   ]
  },
  {
   "cell_type": "code",
   "execution_count": 25,
   "metadata": {},
   "outputs": [
    {
     "name": "stdout",
     "output_type": "stream",
     "text": [
      "[1] \"P(Arrest|October) = 0.0785\"\n"
     ]
    }
   ],
   "source": [
    "# What is the probability that an arrest is made, given that the theft occurs in October?  \n",
    "# P(Arrest|October)\n",
    "\n",
    "# table() generates a frequency table\n",
    "# Logical subsetting of the Month column extracts rows where Arrest = TRUE and Month = \"October\"\n",
    "# Logical subsetting of the Month column extracts rows where Month = \"October\"\n",
    "# round() rounds the answer to 4 decimal places\n",
    "\n",
    "\n",
    "#table(vehicle_thefts$Month[<what goes in here> & vehicle_thefts$Month==\"October\"])/<what goes in here>(table(vehicle_thefts$Month[vehicle_thefts$Month==\"October\"]))\n",
    "prob = table(vehicle_thefts$Month[vehicle_thefts$Arrest==TRUE & vehicle_thefts$Month == \"October\"]) / \n",
    "    table(vehicle_thefts$Month[vehicle_thefts$Month == \"October\"])\n",
    "\n",
    "print(paste(\"P(Arrest|October) =\", round(prob, 4)))"
   ]
  },
  {
   "cell_type": "markdown",
   "metadata": {},
   "source": [
    "**Activity 2:** Which month has the largest number of motor vehicle thefts for which an arrest was made?"
   ]
  },
  {
   "cell_type": "code",
   "execution_count": 26,
   "metadata": {},
   "outputs": [
    {
     "data": {
      "text/html": [
       "<strong>January:</strong> 5"
      ],
      "text/latex": [
       "\\textbf{January:} 5"
      ],
      "text/markdown": [
       "**January:** 5"
      ],
      "text/plain": [
       "January \n",
       "      5 "
      ]
     },
     "metadata": {},
     "output_type": "display_data"
    }
   ],
   "source": [
    "# which.max() determines the index of the (first) minimum or maximum of a numeric or logical vector.\n",
    "\n",
    "which.max(table(vehicle_thefts$Month[vehicle_thefts$Arrest==TRUE]))"
   ]
  },
  {
   "cell_type": "markdown",
   "metadata": {},
   "source": [
    "**Activity 3:** \n",
    "\n",
    "a) Read the smoke.csv dataset from the directory '/dsa/data/all_datasets/smoke/smoke.csv' (header = TRUE) into a variable called smoke_data. \n",
    "\n",
    "b) Create a two-way table called smoker_outcome for variables 'smoker' and 'outcome'. \n",
    "Add marginal distributions to the table by using addmargins() function."
   ]
  },
  {
   "cell_type": "code",
   "execution_count": 27,
   "metadata": {},
   "outputs": [
    {
     "data": {
      "text/html": [
       "<table class=\"dataframe\">\n",
       "<caption>A table: 3 × 3 of type dbl</caption>\n",
       "<thead>\n",
       "\t<tr><th></th><th scope=col>Alive</th><th scope=col>Dead</th><th scope=col>Sum</th></tr>\n",
       "</thead>\n",
       "<tbody>\n",
       "\t<tr><th scope=row>No</th><td>502</td><td>230</td><td> 732</td></tr>\n",
       "\t<tr><th scope=row>Yes</th><td>443</td><td>139</td><td> 582</td></tr>\n",
       "\t<tr><th scope=row>Sum</th><td>945</td><td>369</td><td>1314</td></tr>\n",
       "</tbody>\n",
       "</table>\n"
      ],
      "text/latex": [
       "A table: 3 × 3 of type dbl\n",
       "\\begin{tabular}{r|lll}\n",
       "  & Alive & Dead & Sum\\\\\n",
       "\\hline\n",
       "\tNo & 502 & 230 &  732\\\\\n",
       "\tYes & 443 & 139 &  582\\\\\n",
       "\tSum & 945 & 369 & 1314\\\\\n",
       "\\end{tabular}\n"
      ],
      "text/markdown": [
       "\n",
       "A table: 3 × 3 of type dbl\n",
       "\n",
       "| <!--/--> | Alive | Dead | Sum |\n",
       "|---|---|---|---|\n",
       "| No | 502 | 230 |  732 |\n",
       "| Yes | 443 | 139 |  582 |\n",
       "| Sum | 945 | 369 | 1314 |\n",
       "\n"
      ],
      "text/plain": [
       "     \n",
       "      Alive Dead Sum \n",
       "  No  502   230   732\n",
       "  Yes 443   139   582\n",
       "  Sum 945   369  1314"
      ]
     },
     "metadata": {},
     "output_type": "display_data"
    }
   ],
   "source": [
    "smoke_data <- read.csv(\"/dsa/data/all_datasets/smoke/smoke.csv\", header = TRUE)\n",
    "\n",
    "smoker_outcome = table(smoke_data$smoker, smoke_data$outcome)\n",
    "addmargins(smoker_outcome)"
   ]
  },
  {
   "cell_type": "markdown",
   "metadata": {},
   "source": [
    "There is no point in getting this table unless we can interpret it. Most important thing we might be interested in is whether smoking is a factor in smokers' death vs. nonsmokers' death. 443 out of 945 alive are smokers while 139 out of 369 dead are smokers. Those are hard to compare unless we change to a common denominator, or express them as proportions or percentages. We see that 443 out of 945, or about 47% of the alive smoke; and 139 out of 369, or about 38% of the dead smoked. So smoking does not seem to be a factor in deaths for this group of people. "
   ]
  },
  {
   "cell_type": "code",
   "execution_count": 30,
   "metadata": {},
   "outputs": [
    {
     "data": {
      "text/html": [
       "<table class=\"dataframe\">\n",
       "<caption>A table: 3 × 3 of type dbl</caption>\n",
       "<thead>\n",
       "\t<tr><th></th><th scope=col>Alive</th><th scope=col>Dead</th><th scope=col>Sum</th></tr>\n",
       "</thead>\n",
       "<tbody>\n",
       "\t<tr><th scope=row>No</th><td>0.3820396</td><td>0.1750381</td><td>0.5570776</td></tr>\n",
       "\t<tr><th scope=row>Yes</th><td>0.3371385</td><td>0.1057839</td><td>0.4429224</td></tr>\n",
       "\t<tr><th scope=row>Sum</th><td>0.7191781</td><td>0.2808219</td><td>1.0000000</td></tr>\n",
       "</tbody>\n",
       "</table>\n"
      ],
      "text/latex": [
       "A table: 3 × 3 of type dbl\n",
       "\\begin{tabular}{r|lll}\n",
       "  & Alive & Dead & Sum\\\\\n",
       "\\hline\n",
       "\tNo & 0.3820396 & 0.1750381 & 0.5570776\\\\\n",
       "\tYes & 0.3371385 & 0.1057839 & 0.4429224\\\\\n",
       "\tSum & 0.7191781 & 0.2808219 & 1.0000000\\\\\n",
       "\\end{tabular}\n"
      ],
      "text/markdown": [
       "\n",
       "A table: 3 × 3 of type dbl\n",
       "\n",
       "| <!--/--> | Alive | Dead | Sum |\n",
       "|---|---|---|---|\n",
       "| No | 0.3820396 | 0.1750381 | 0.5570776 |\n",
       "| Yes | 0.3371385 | 0.1057839 | 0.4429224 |\n",
       "| Sum | 0.7191781 | 0.2808219 | 1.0000000 |\n",
       "\n"
      ],
      "text/plain": [
       "     \n",
       "      Alive     Dead      Sum      \n",
       "  No  0.3820396 0.1750381 0.5570776\n",
       "  Yes 0.3371385 0.1057839 0.4429224\n",
       "  Sum 0.7191781 0.2808219 1.0000000"
      ]
     },
     "metadata": {},
     "output_type": "display_data"
    }
   ],
   "source": [
    "# Example: Above dataset recorded smoking status and whether or not the subject was alive at the end \n",
    "# of 20 years. Use the prop.table function to find the conditional probability of survival for smokers \n",
    "# and nonsmokers. prop.table() is similar to table() command where former one gives probabilities \n",
    "# while table() returns actual frequency count. \n",
    "\n",
    "# tally() works exactly like prop.table(). tal <- tally(~smoker + outcome)\n",
    "\n",
    "#tal <- tally(.~smoker + outcome)  ## Can't get it to work \"Error in UseMethod(\"tally\"): no applicable method for 'tally' applied to an object of class \"formula\"\"\n",
    "\n",
    "smoking <- prop.table(smoker_outcome)\n",
    "addmargins(smoking)"
   ]
  },
  {
   "cell_type": "markdown",
   "metadata": {},
   "source": [
    "**Reference:** [tally()](https://www.rdocumentation.org/packages/dplyr/versions/0.7.8/topics/tally)"
   ]
  },
  {
   "cell_type": "markdown",
   "metadata": {},
   "source": [
    "**Activity 4:** \n",
    "\n",
    "a) What is the probability that a person is dead, given that the person was a smoker?\n",
    "\n",
    "b) What is the probability that a person is dead, given that the person was a non-smoker?   \n",
    "\n",
    "Here, smoker status is the condition."
   ]
  },
  {
   "cell_type": "code",
   "execution_count": 41,
   "metadata": {},
   "outputs": [
    {
     "name": "stdout",
     "output_type": "stream",
     "text": [
      "[1] \"P(Dead|Smoker) = 0.2388\"\n"
     ]
    }
   ],
   "source": [
    "#P(dead|smoker) = P(dead & smoker)/P(smoker)\n",
    "# --- Add code below ---------------------------------\n",
    "\n",
    "prob_dead_smoke <- table(smoke_data$outcome[smoke_data$outcome == \"Dead\" & smoke_data$smoker == \"Yes\"]) / \n",
    "    sum(table(smoke_data$outcome[smoke_data$smoker == \"Yes\"]))\n",
    "\n",
    "print(paste(\"P(Dead|Smoker) =\", round(prob_dead_smoke, 4)))"
   ]
  },
  {
   "cell_type": "code",
   "execution_count": 42,
   "metadata": {},
   "outputs": [
    {
     "name": "stdout",
     "output_type": "stream",
     "text": [
      "[1] \"P(Dead|Nonsmoker) = 0.3142\"\n"
     ]
    }
   ],
   "source": [
    "#P(dead|nonsmoker) = P(dead & nonsmoker)/P(nonsmoker)\n",
    "# --- Add code below ---------------------------------\n",
    "prob_dead_nosmoke <- table(smoke_data$outcome[smoke_data$outcome == \"Dead\" & smoke_data$smoker == \"No\"]) / \n",
    "    sum(table(smoke_data$outcome[smoke_data$smoker == \"No\"]))\n",
    "\n",
    "print(paste(\"P(Dead|Nonsmoker) =\", round(prob_dead_nosmoke, 4)))"
   ]
  },
  {
   "cell_type": "code",
   "execution_count": null,
   "metadata": {},
   "outputs": [],
   "source": [
    "# Use prop.table() if you dont want to do arithmetic of finding percentages from table() results, \n",
    "# The \"2\" tells R to compute the marginal distributions across the columns (smoker status (yes or no) adds \n",
    "# up to 1 columnwise). To compute rowwise percentages, use \"1\" (outcome (dead or alive) adds up to 1.)\n",
    "# --- Add code below ---------------------------------\n"
   ]
  },
  {
   "cell_type": "code",
   "execution_count": 43,
   "metadata": {},
   "outputs": [
    {
     "data": {
      "text/html": [
       "<table class=\"dataframe\">\n",
       "<caption>A table: 3 × 3 of type dbl</caption>\n",
       "<thead>\n",
       "\t<tr><th></th><th scope=col>Alive</th><th scope=col>Dead</th><th scope=col>Sum</th></tr>\n",
       "</thead>\n",
       "<tbody>\n",
       "\t<tr><th scope=row>No</th><td>0.5312169</td><td>0.6233062</td><td>1.1545232</td></tr>\n",
       "\t<tr><th scope=row>Yes</th><td>0.4687831</td><td>0.3766938</td><td>0.8454768</td></tr>\n",
       "\t<tr><th scope=row>Sum</th><td>1.0000000</td><td>1.0000000</td><td>2.0000000</td></tr>\n",
       "</tbody>\n",
       "</table>\n"
      ],
      "text/latex": [
       "A table: 3 × 3 of type dbl\n",
       "\\begin{tabular}{r|lll}\n",
       "  & Alive & Dead & Sum\\\\\n",
       "\\hline\n",
       "\tNo & 0.5312169 & 0.6233062 & 1.1545232\\\\\n",
       "\tYes & 0.4687831 & 0.3766938 & 0.8454768\\\\\n",
       "\tSum & 1.0000000 & 1.0000000 & 2.0000000\\\\\n",
       "\\end{tabular}\n"
      ],
      "text/markdown": [
       "\n",
       "A table: 3 × 3 of type dbl\n",
       "\n",
       "| <!--/--> | Alive | Dead | Sum |\n",
       "|---|---|---|---|\n",
       "| No | 0.5312169 | 0.6233062 | 1.1545232 |\n",
       "| Yes | 0.4687831 | 0.3766938 | 0.8454768 |\n",
       "| Sum | 1.0000000 | 1.0000000 | 2.0000000 |\n",
       "\n"
      ],
      "text/plain": [
       "     \n",
       "      Alive     Dead      Sum      \n",
       "  No  0.5312169 0.6233062 1.1545232\n",
       "  Yes 0.4687831 0.3766938 0.8454768\n",
       "  Sum 1.0000000 1.0000000 2.0000000"
      ]
     },
     "metadata": {},
     "output_type": "display_data"
    }
   ],
   "source": [
    "# Compute columnwise proportions for the outcome variable (i.e., dead or alive), based on smoking status\n",
    "# (i.e., smoker or nonsmoker)\n",
    "\n",
    "addmargins(prop.table(smoker_outcome, 2))"
   ]
  },
  {
   "cell_type": "code",
   "execution_count": 44,
   "metadata": {},
   "outputs": [
    {
     "data": {
      "text/html": [
       "<table class=\"dataframe\">\n",
       "<caption>A table: 3 × 3 of type dbl</caption>\n",
       "<thead>\n",
       "\t<tr><th></th><th scope=col>Alive</th><th scope=col>Dead</th><th scope=col>Sum</th></tr>\n",
       "</thead>\n",
       "<tbody>\n",
       "\t<tr><th scope=row>No</th><td>0.6857923</td><td>0.3142077</td><td>1</td></tr>\n",
       "\t<tr><th scope=row>Yes</th><td>0.7611684</td><td>0.2388316</td><td>1</td></tr>\n",
       "\t<tr><th scope=row>Sum</th><td>1.4469607</td><td>0.5530393</td><td>2</td></tr>\n",
       "</tbody>\n",
       "</table>\n"
      ],
      "text/latex": [
       "A table: 3 × 3 of type dbl\n",
       "\\begin{tabular}{r|lll}\n",
       "  & Alive & Dead & Sum\\\\\n",
       "\\hline\n",
       "\tNo & 0.6857923 & 0.3142077 & 1\\\\\n",
       "\tYes & 0.7611684 & 0.2388316 & 1\\\\\n",
       "\tSum & 1.4469607 & 0.5530393 & 2\\\\\n",
       "\\end{tabular}\n"
      ],
      "text/markdown": [
       "\n",
       "A table: 3 × 3 of type dbl\n",
       "\n",
       "| <!--/--> | Alive | Dead | Sum |\n",
       "|---|---|---|---|\n",
       "| No | 0.6857923 | 0.3142077 | 1 |\n",
       "| Yes | 0.7611684 | 0.2388316 | 1 |\n",
       "| Sum | 1.4469607 | 0.5530393 | 2 |\n",
       "\n"
      ],
      "text/plain": [
       "     \n",
       "      Alive     Dead      Sum\n",
       "  No  0.6857923 0.3142077 1  \n",
       "  Yes 0.7611684 0.2388316 1  \n",
       "  Sum 1.4469607 0.5530393 2  "
      ]
     },
     "metadata": {},
     "output_type": "display_data"
    }
   ],
   "source": [
    "# Compute rowwise proportions for the smoker variable (i.e., smoker or nonsmoker), based on outcome (i.e., \n",
    "# dead or alive)\n",
    "\n",
    "addmargins(prop.table(smoker_outcome, 1))"
   ]
  },
  {
   "cell_type": "markdown",
   "metadata": {},
   "source": [
    "The meaning of conditional probabilities is much clearer in these tables than it is in language or mathematical notation.\n",
    "The idea of a conditional probability is that you are looking at a subset of the data. \n",
    "For example, in an election poll we might be interested in the subset of voters who prefer Candidate A, \n",
    "and also be interested in knowing the proportions of those voters  with respect to gender, race, ethnicity, etc. \n",
    "\n",
    "For the smoke data, we saw that about 40% of the 1314 people smoked. \n",
    "However, for the subset of alive, 443 out of 945, or about 47% are smokers. \n",
    "Often we want to compare one subset to another. \n",
    "Here, 139 of the 369 dead, or about 38% were smokers. \n",
    "We noted this earlier and found those numbers in the table. \n",
    "The notation for these conditional probabilities might look something like \n",
    "P(smoke | alive) and P(smoke | dead) respectively.\n",
    "These can be found by using \"2\" in prop.table() because the subsets (conditions) are dead or alive."
   ]
  },
  {
   "cell_type": "code",
   "execution_count": 45,
   "metadata": {},
   "outputs": [
    {
     "data": {
      "text/html": [
       "<table class=\"dataframe\">\n",
       "<caption>A table: 3 × 3 of type dbl</caption>\n",
       "<thead>\n",
       "\t<tr><th></th><th scope=col>Alive</th><th scope=col>Dead</th><th scope=col>Sum</th></tr>\n",
       "</thead>\n",
       "<tbody>\n",
       "\t<tr><th scope=row>No</th><td>0.5312169</td><td>0.6233062</td><td>1.1545232</td></tr>\n",
       "\t<tr><th scope=row>Yes</th><td>0.4687831</td><td>0.3766938</td><td>0.8454768</td></tr>\n",
       "\t<tr><th scope=row>Sum</th><td>1.0000000</td><td>1.0000000</td><td>2.0000000</td></tr>\n",
       "</tbody>\n",
       "</table>\n"
      ],
      "text/latex": [
       "A table: 3 × 3 of type dbl\n",
       "\\begin{tabular}{r|lll}\n",
       "  & Alive & Dead & Sum\\\\\n",
       "\\hline\n",
       "\tNo & 0.5312169 & 0.6233062 & 1.1545232\\\\\n",
       "\tYes & 0.4687831 & 0.3766938 & 0.8454768\\\\\n",
       "\tSum & 1.0000000 & 1.0000000 & 2.0000000\\\\\n",
       "\\end{tabular}\n"
      ],
      "text/markdown": [
       "\n",
       "A table: 3 × 3 of type dbl\n",
       "\n",
       "| <!--/--> | Alive | Dead | Sum |\n",
       "|---|---|---|---|\n",
       "| No | 0.5312169 | 0.6233062 | 1.1545232 |\n",
       "| Yes | 0.4687831 | 0.3766938 | 0.8454768 |\n",
       "| Sum | 1.0000000 | 1.0000000 | 2.0000000 |\n",
       "\n"
      ],
      "text/plain": [
       "     \n",
       "      Alive     Dead      Sum      \n",
       "  No  0.5312169 0.6233062 1.1545232\n",
       "  Yes 0.4687831 0.3766938 0.8454768\n",
       "  Sum 1.0000000 1.0000000 2.0000000"
      ]
     },
     "metadata": {},
     "output_type": "display_data"
    }
   ],
   "source": [
    "# Comparing proportions of smokers and non-smokers for subsets of alive and dead.\n",
    "\n",
    "addmargins(prop.table(smoker_outcome, 2))\n"
   ]
  },
  {
   "cell_type": "markdown",
   "metadata": {},
   "source": [
    "Similarly, we can answer activity 3 by looking at the subsets (conditions) of smoking status."
   ]
  },
  {
   "cell_type": "code",
   "execution_count": 46,
   "metadata": {},
   "outputs": [
    {
     "data": {
      "text/html": [
       "<table class=\"dataframe\">\n",
       "<caption>A table: 3 × 3 of type dbl</caption>\n",
       "<thead>\n",
       "\t<tr><th></th><th scope=col>Alive</th><th scope=col>Dead</th><th scope=col>Sum</th></tr>\n",
       "</thead>\n",
       "<tbody>\n",
       "\t<tr><th scope=row>No</th><td>0.6857923</td><td>0.3142077</td><td>1</td></tr>\n",
       "\t<tr><th scope=row>Yes</th><td>0.7611684</td><td>0.2388316</td><td>1</td></tr>\n",
       "\t<tr><th scope=row>Sum</th><td>1.4469607</td><td>0.5530393</td><td>2</td></tr>\n",
       "</tbody>\n",
       "</table>\n"
      ],
      "text/latex": [
       "A table: 3 × 3 of type dbl\n",
       "\\begin{tabular}{r|lll}\n",
       "  & Alive & Dead & Sum\\\\\n",
       "\\hline\n",
       "\tNo & 0.6857923 & 0.3142077 & 1\\\\\n",
       "\tYes & 0.7611684 & 0.2388316 & 1\\\\\n",
       "\tSum & 1.4469607 & 0.5530393 & 2\\\\\n",
       "\\end{tabular}\n"
      ],
      "text/markdown": [
       "\n",
       "A table: 3 × 3 of type dbl\n",
       "\n",
       "| <!--/--> | Alive | Dead | Sum |\n",
       "|---|---|---|---|\n",
       "| No | 0.6857923 | 0.3142077 | 1 |\n",
       "| Yes | 0.7611684 | 0.2388316 | 1 |\n",
       "| Sum | 1.4469607 | 0.5530393 | 2 |\n",
       "\n"
      ],
      "text/plain": [
       "     \n",
       "      Alive     Dead      Sum\n",
       "  No  0.6857923 0.3142077 1  \n",
       "  Yes 0.7611684 0.2388316 1  \n",
       "  Sum 1.4469607 0.5530393 2  "
      ]
     },
     "metadata": {},
     "output_type": "display_data"
    }
   ],
   "source": [
    "# Comparing proportions of alive and dead for subsets of nonsmokers and smokers.\n",
    "\n",
    "addmargins(prop.table(smoker_outcome, 1))\n"
   ]
  },
  {
   "cell_type": "markdown",
   "metadata": {},
   "source": [
    "# SAVE YOUR NOTEBOOK"
   ]
  }
 ],
 "metadata": {
  "kernelspec": {
   "display_name": "R",
   "language": "R",
   "name": "ir"
  },
  "language_info": {
   "codemirror_mode": "r",
   "file_extension": ".r",
   "mimetype": "text/x-r-source",
   "name": "R",
   "pygments_lexer": "r",
   "version": "4.0.5"
  }
 },
 "nbformat": 4,
 "nbformat_minor": 1
}
