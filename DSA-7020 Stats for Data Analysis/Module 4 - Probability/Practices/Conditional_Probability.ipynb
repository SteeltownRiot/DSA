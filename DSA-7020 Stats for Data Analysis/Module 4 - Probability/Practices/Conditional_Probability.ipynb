{
 "cells": [
  {
   "cell_type": "markdown",
   "metadata": {},
   "source": [
    "<span style=\"color:#04c921; font-size:24px; font-weight:700\"> Conditional Probability</span>\n",
    "\n",
    "Conditional probability, as you have seen in the labs and the video, \n",
    "is the probability of an event X occurring given that another event Y has occurred. \n",
    "Mathematically, it is represented as $P(X | Y)$ which is read as “probability of X given Y”.\n",
    "\n",
    "We will continue working with the motor vehicle thefts dataset to apply conditional probability concepts. \n",
    "You will be introduced to a new function `tally()` that works just like prop.table() for working easily with conditional probability."
   ]
  },
  {
   "cell_type": "markdown",
   "metadata": {},
   "source": [
    "#### Read the data\n",
    "\n",
    "Load the motor thefts dataset into a variable called vehicle_thefts. The dataset exists in directory '/dsa/data/all_datasets/motor vehicle thefts/'."
   ]
  },
  {
   "cell_type": "code",
   "execution_count": null,
   "metadata": {},
   "outputs": [],
   "source": [
    "vehicle_thefts <- read.csv(\"/dsa/data/all_datasets/motor_vehicle_thefts/mvt.csv\", header = TRUE)\n",
    "\n",
    "head(vehicle_thefts)"
   ]
  },
  {
   "cell_type": "code",
   "execution_count": null,
   "metadata": {},
   "outputs": [],
   "source": [
    "# Extract the month and the day of the week and add these variables to the data frame vehicle_thefts\n",
    "DateConvert <- strptime(vehicle_thefts$Date, \"%m/%d/%Y %H:%M\")\n",
    "\n",
    "\n",
    "library(lubridate)\n",
    "library(dplyr)\n",
    "\n",
    "# ymd_hms() transforms dates stored as character or numeric vectors to POSIXct objects\n",
    "# Remember from the labs that there are two internal implementations of date/time: POSIXct, \n",
    "# which stores seconds since UNIX epoch (+ some other data), and POSIXlt, which stores a \n",
    "# list of day, month, year, hour, minute, second, etc.\n",
    "expand_date <- ymd_hms(DateConvert) #Converting input date \"12/31/2012 20:30\" to \"2012-12-31 23:15:00 UTC\" format\n",
    "\n",
    "# Create new columns: Month, Weekday, Hour, and Minutes\n",
    "vehicle_thefts$Month <- months(DateConvert)  #Extract month from formatted date. \n",
    "vehicle_thefts$Weekday <- weekdays(DateConvert)   #Extract weekday from formatted date. \n",
    "vehicle_thefts$Hour <- as.numeric(format(expand_date, \"%H\")) #Extract hour from formatted date. \n",
    "vehicle_thefts$Minutes <- as.numeric(format(expand_date, \"%M\"))  #Extract minutes from formatted date. \n",
    "\n",
    "head(vehicle_thefts)"
   ]
  },
  {
   "cell_type": "markdown",
   "metadata": {},
   "source": [
    "**Reference:** [format()](https://stat.ethz.ch/R-manual/R-devel/library/base/html/format.html)"
   ]
  },
  {
   "cell_type": "markdown",
   "metadata": {},
   "source": [
    "**Activity 1:** What is the probability of an arrest being made for the month with largest number of motor vehicle thefts? First let's find out the month with maximum number of thefts.\n"
   ]
  },
  {
   "cell_type": "code",
   "execution_count": null,
   "metadata": {},
   "outputs": [],
   "source": [
    "# Find the name of the month with largest value among the table() output results\n",
    "# The first returned month will have the largest value\n",
    "<what goes in here>(table(vehicle_thefts$Month))\n",
    "\n",
    "# A table is usually the best summary for categorical data. Once we have a table, we should be able to \n",
    "# look at it and say something sensible.  Let's take a look at the relationship between the two categorical \n",
    "# variables Month and Arrest.\n",
    "table(vehicle_thefts$<what goes in here>, vehicle_thefts$<what goes in here>)"
   ]
  },
  {
   "cell_type": "code",
   "execution_count": null,
   "metadata": {},
   "outputs": [],
   "source": [
    "# What is the probability that an arrest is made, given that the theft occurs in October?  \n",
    "# P(Arrest|October)\n",
    "\n",
    "# table() generates a frequency table\n",
    "# Logical subsetting of the Month column extracts rows where Arrest = TRUE and Month = \"October\"\n",
    "# Logical subsetting of the Month column extracts rows where Month = \"October\"\n",
    "# round() rounds the answer to 4 decimal places\n",
    "\n",
    "table(vehicle_thefts$Month[<what goes in here> & vehicle_thefts$Month==\"October\"])/<what goes in here>(table(vehicle_thefts$Month[vehicle_thefts$Month==\"October\"]))"
   ]
  },
  {
   "cell_type": "markdown",
   "metadata": {},
   "source": [
    "**Activity 2:** Which month has the largest number of motor vehicle thefts for which an arrest was made?"
   ]
  },
  {
   "cell_type": "code",
   "execution_count": null,
   "metadata": {},
   "outputs": [],
   "source": [
    "# which.max() determines the index of the (first) minimum or maximum of a numeric or logical vector.\n",
    "\n",
    "which.max(table(vehicle_thefts$Month[<what goes in here>]))"
   ]
  },
  {
   "cell_type": "markdown",
   "metadata": {},
   "source": [
    "**Activity 3:** \n",
    "\n",
    "a) Read the smoke.csv dataset from the directory '/dsa/data/all_datasets/smoke/smoke.csv' (header = TRUE) into a variable called smoke_data. \n",
    "\n",
    "b) Create a two-way table called smoker_outcome for variables 'smoker' and 'outcome'. \n",
    "Add marginal distributions to the table by using addmargins() function."
   ]
  },
  {
   "cell_type": "code",
   "execution_count": null,
   "metadata": {},
   "outputs": [],
   "source": [
    "smoke_data <- <what goes in here>\n",
    "\n",
    "smoker_outcome = table(smoke_data$smoker,<what goes in here>)\n",
    "<what goes in here>(smoker_outcome)"
   ]
  },
  {
   "cell_type": "markdown",
   "metadata": {},
   "source": [
    "There is no point in getting this table unless we can interpret it. Most important thing we might be interested in is whether smoking is a factor in smokers' death vs. nonsmokers' death. 443 out of 945 alive are smokers while 139 out of 369 dead are smokers. Those are hard to compare unless we change to a common denominator, or express them as proportions or percentages. We see that 443 out of 945, or about 47% of the alive smoke; and 139 out of 369, or about 38% of the dead smoked. So smoking does not seem to be a factor in deaths for this group of people. "
   ]
  },
  {
   "cell_type": "code",
   "execution_count": null,
   "metadata": {},
   "outputs": [],
   "source": [
    "# Example: Above dataset recorded smoking status and whether or not the subject was alive at the end \n",
    "# of 20 years. Use the prop.table function to find the conditional probability of survival for smokers \n",
    "# and nonsmokers. prop.table() is similar to table() command where former one gives probabilities \n",
    "# while table() returns actual frequency count. \n",
    "\n",
    "# tally() works exactly like prop.table(). tal <- tally(~smoker + outcome)\n",
    "\n",
    "tal <- prop.table(smoker_outcome)\n",
    "addmargins(tal)\n"
   ]
  },
  {
   "cell_type": "markdown",
   "metadata": {},
   "source": [
    "**Reference:** [tally()](https://www.rdocumentation.org/packages/dplyr/versions/0.7.8/topics/tally)"
   ]
  },
  {
   "cell_type": "markdown",
   "metadata": {},
   "source": [
    "**Activity 4:** \n",
    "\n",
    "a) What is the probability that a person is dead, given that the person was a smoker?\n",
    "\n",
    "b) What is the probability that a person is dead, given that the person was a non-smoker?   \n",
    "\n",
    "Here, smoker status is the condition."
   ]
  },
  {
   "cell_type": "code",
   "execution_count": null,
   "metadata": {},
   "outputs": [],
   "source": [
    "#P(dead|smoker) = P(dead & smoker)/P(smoker)\n",
    "# --- Add code below ---------------------------------\n"
   ]
  },
  {
   "cell_type": "code",
   "execution_count": null,
   "metadata": {},
   "outputs": [],
   "source": [
    "#P(dead|nonsmoker) = P(dead & nonsmoker)/P(nonsmoker)\n",
    "# --- Add code below ---------------------------------\n"
   ]
  },
  {
   "cell_type": "code",
   "execution_count": null,
   "metadata": {},
   "outputs": [],
   "source": [
    "# Use prop.table() if you dont want to do arithmetic of finding percentages from table() results, \n",
    "# The \"2\" tells R to compute the marginal distributions across the columns (smoker status (yes or no) adds \n",
    "# up to 1 columnwise). To compute rowwise percentages, use \"1\" (outcome (dead or alive) adds up to 1.)\n",
    "# --- Add code below ---------------------------------\n"
   ]
  },
  {
   "cell_type": "code",
   "execution_count": null,
   "metadata": {},
   "outputs": [],
   "source": [
    "# Compute columnwise proportions for the outcome variable (i.e., dead or alive), based on smoking status\n",
    "# (i.e., smoker or nonsmoker)\n",
    "\n",
    "addmargins(prop.table(smoker_outcome,2))"
   ]
  },
  {
   "cell_type": "code",
   "execution_count": null,
   "metadata": {},
   "outputs": [],
   "source": [
    "# Compute rowwise proportions for the smoker variable (i.e., smoker or nonsmoker), based on outcome (i.e., \n",
    "# dead or alive)\n",
    "addmargins(prop.table(smoker_outcome, 1))"
   ]
  },
  {
   "cell_type": "markdown",
   "metadata": {},
   "source": [
    "The meaning of conditional probabilities is much clearer in these tables than it is in language or mathematical notation.\n",
    "The idea of a conditional probability is that you are looking at a subset of the data. \n",
    "For example, in an election poll we might be interested in the subset of voters who prefer Candidate A, \n",
    "and also be interested in knowing the proportions of those voters  with respect to gender, race, ethnicity, etc. \n",
    "\n",
    "For the smoke data, we saw that about 40% of the 1314 people smoked. \n",
    "However, for the subset of alive, 443 out of 945, or about 47% are smokers. \n",
    "Often we want to compare one subset to another. \n",
    "Here, 139 of the 369 dead, or about 38% were smokers. \n",
    "We noted this earlier and found those numbers in the table. \n",
    "The notation for these conditional probabilities might look something like \n",
    "P(smoke | alive) and P(smoke | dead) respectively.\n",
    "These can be found by using \"2\" in prop.table() because the subsets (conditions) are dead or alive."
   ]
  },
  {
   "cell_type": "code",
   "execution_count": null,
   "metadata": {},
   "outputs": [],
   "source": [
    "# Comparing proportions of smokers and non-smokers for subsets of alive and dead.\n",
    "\n",
    "addmargins(prop.table(smoker_outcome, 2))\n"
   ]
  },
  {
   "cell_type": "markdown",
   "metadata": {},
   "source": [
    "Similarly, we can answer activity 3 by looking at the subsets (conditions) of smoking status."
   ]
  },
  {
   "cell_type": "code",
   "execution_count": null,
   "metadata": {},
   "outputs": [],
   "source": [
    "# Comparing proportions of alive and dead for subsets of nonsmokers and smokers.\n",
    "\n",
    "addmargins(prop.table(smoker_outcome, 1))\n"
   ]
  },
  {
   "cell_type": "markdown",
   "metadata": {},
   "source": [
    "# SAVE YOUR NOTEBOOK"
   ]
  }
 ],
 "metadata": {
  "kernelspec": {
   "display_name": "R",
   "language": "R",
   "name": "ir"
  },
  "language_info": {
   "codemirror_mode": "r",
   "file_extension": ".r",
   "mimetype": "text/x-r-source",
   "name": "R",
   "pygments_lexer": "r",
   "version": "4.0.5"
  }
 },
 "nbformat": 4,
 "nbformat_minor": 1
}
