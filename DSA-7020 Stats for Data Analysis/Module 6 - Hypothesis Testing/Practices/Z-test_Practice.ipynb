{
 "cells": [
  {
   "cell_type": "markdown",
   "metadata": {},
   "source": [
    "# Z-test Practice\n",
    "\n",
    "In this notebook, we will see how to use the z-test for hypothesis testing examples. \n",
    "\n",
    "In practice, we can use z-test only when we know the population standard deviation. Since it is not always readily available, one can determine a guessed value for it. \n",
    "\n",
    "We have to make sure that the data follows the normal distribution especially if we have a small sample size. \n",
    "\n",
    "---\n",
    "\n",
    "**Activity 1:**\n",
    "\n",
    "Let's work on a data set that is a collection of counts of pizzas eaten at parties. After 10 parties, we have the following numbers and our guess for the standard deviation of the distribution is 2. \n"
   ]
  },
  {
   "cell_type": "code",
   "execution_count": null,
   "metadata": {},
   "outputs": [],
   "source": [
    "data <- c(3, 7, 11, 0, 7, 0, 4, 5, 6, 2)\n",
    "\n",
    "# do a q-q plot to check normal distribution assumption\n",
    "qqnorm(data)\n",
    "qqline(data)"
   ]
  },
  {
   "cell_type": "markdown",
   "metadata": {},
   "source": [
    "Since the data lies close the line y=x, and has no notable systematic deviations from line, it’s safe to treat the sample as coming from a normal distribution. We can proceed with our hypothesis test.\n",
    "\n",
    "Our hypothesis is that on average three pizzas are eaten at a party. So $H_0: \\mu=3$ and $H_1: \\mu \\ne 3$.\n",
    "\n",
    "Our alpha is 0.05. Keep in mind that this is a two-tailed test; we are looking for inequality. \n",
    "\n",
    "First we need to compute the z-statistic:\n"
   ]
  },
  {
   "cell_type": "code",
   "execution_count": null,
   "metadata": {},
   "outputs": [],
   "source": [
    "mubar = <YOUR CODE>\n",
    "\n",
    "mu = <YOUR CODE>\n",
    "\n",
    "n = <YOUR CODE>\n",
    "\n",
    "s = <YOUR CODE>\n",
    "\n",
    "z <- (mubar-mu)/(s/sqrt(n))\n",
    "z"
   ]
  },
  {
   "cell_type": "code",
   "execution_count": null,
   "metadata": {},
   "outputs": [],
   "source": [
    "# compute the critical values for alpha=0.05 and two-tailed test \n",
    "\n",
    "<YOUR CODE>"
   ]
  },
  {
   "cell_type": "code",
   "execution_count": null,
   "metadata": {},
   "outputs": [],
   "source": [
    "# Compute the p-value for the test \n",
    "\n",
    "<YOUR CODE>"
   ]
  },
  {
   "cell_type": "markdown",
   "metadata": {},
   "source": [
    "Your p-value should be less than 0.05. So the $H_0$ is rejected. what does that mean? "
   ]
  },
  {
   "cell_type": "markdown",
   "metadata": {},
   "source": [
    "\n",
    "----\n",
    "\n",
    "**Activity 2:** \n",
    "\n",
    "The following distribution is given for the BMI measurements. \n",
    "<img src=\"../images/BMI.png\">\n",
    "\n",
    "What is the probability that a person has BMI **greater than** 35? In other words, what is P(X > 35)? \n"
   ]
  },
  {
   "cell_type": "code",
   "execution_count": null,
   "metadata": {},
   "outputs": [],
   "source": [
    "# YOUR CODE HERE \n",
    "\n",
    "# first compute z-statistic \n",
    "\n",
    "Z= \n",
    "\n",
    "# then find the probability by using the pnorm() function. "
   ]
  },
  {
   "cell_type": "markdown",
   "metadata": {},
   "source": [
    "---\n",
    "\n",
    "\n",
    "**Activity 3:**\n",
    "\n",
    "Suppose the food label on a cookie bag states that there is at most 2 grams of saturated fat in a single cookie. In a sample of 35 cookies, it is found that the mean amount of saturated fat per cookie is 2.1 grams. Assume that the population standard deviation is 0.25 grams. At .05 significance level, can we reject the claim on food label?\n",
    "\n",
    "Assume that your $H_0: \\mu \\le 2$. This is a **one-tailed test**. \n",
    "\n",
    "Now figure out the sample mean, hypothesized mean, population standard deviation, and sample size. Then compute the z-statistic.\n"
   ]
  },
  {
   "cell_type": "code",
   "execution_count": null,
   "metadata": {},
   "outputs": [],
   "source": [
    "mubar = 2.1\n",
    "mu = 2\n",
    "\n",
    "sigma = 0.25 \n",
    "\n",
    "n= 35\n",
    "\n",
    "z = (mubar-mu)/(sigma/sqrt(n))\n",
    "z"
   ]
  },
  {
   "cell_type": "markdown",
   "metadata": {},
   "source": [
    "Compute the critical value at 0.05 significance level: "
   ]
  },
  {
   "cell_type": "code",
   "execution_count": null,
   "metadata": {},
   "outputs": [],
   "source": [
    "alpha = 0.05\n",
    "\n",
    "z.alpha = qnorm(1-alpha)\n",
    "z.alpha"
   ]
  },
  {
   "cell_type": "markdown",
   "metadata": {},
   "source": [
    "The test statistic 2.3664 is greater than the critical value of 1.6449. Hence, at .05 significance level, we reject the claim that there is at most 2 grams of saturated fat in a cookie.\n",
    "\n",
    "Alternatively, find the p-value using `pnorm`:  \n"
   ]
  },
  {
   "cell_type": "code",
   "execution_count": null,
   "metadata": {},
   "outputs": [],
   "source": [
    "pval = pnorm(z, lower.tail=FALSE) # upper tail p−value \n",
    "\n",
    "pval"
   ]
  }
 ],
 "metadata": {
  "kernelspec": {
   "display_name": "R",
   "language": "R",
   "name": "ir"
  },
  "language_info": {
   "codemirror_mode": "r",
   "file_extension": ".r",
   "mimetype": "text/x-r-source",
   "name": "R",
   "pygments_lexer": "r",
   "version": "4.0.5"
  }
 },
 "nbformat": 4,
 "nbformat_minor": 2
}
