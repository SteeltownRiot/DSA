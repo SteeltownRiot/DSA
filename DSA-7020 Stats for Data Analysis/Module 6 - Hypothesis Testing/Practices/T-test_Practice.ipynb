{
 "cells": [
  {
   "cell_type": "markdown",
   "metadata": {},
   "source": [
    "# T-test Practice\n",
    "\n",
    "In this notebook, we will see how to use the t-test on some data sets using the t.test() function. \n",
    "\n",
    "\n",
    "Our example data set is the birth weight data. We will do hypothesis testing to see if there is statistically significant effects of some variables. \n",
    "\n",
    "We will start by comparing the birth weight between smoking and non-smoking mothers. \n",
    "\n"
   ]
  },
  {
   "cell_type": "code",
   "execution_count": null,
   "metadata": {},
   "outputs": [],
   "source": [
    "library(tidyverse)\n",
    "\n",
    "\n",
    "# Load data from MASS into a tibble\n",
    "birthwt <- as_tibble(MASS::birthwt)\n",
    "\n",
    "# Rename variables\n",
    "birthwt <- birthwt %>%\n",
    "  rename(birthwt.below.2500 = low, \n",
    "         mother.age = age,\n",
    "         mother.weight = lwt,\n",
    "         mother.smokes = smoke,\n",
    "         previous.prem.labor = ptl,\n",
    "         hypertension = ht,\n",
    "         uterine.irr = ui,\n",
    "         physician.visits = ftv,\n",
    "         birthwt.grams = bwt)\n",
    "\n",
    "# Change factor level names\n",
    "birthwt <- birthwt %>%\n",
    "  mutate(race = recode_factor(race, `1` = \"white\", `2` = \"black\", `3` = \"other\")) %>%\n",
    "  mutate_at(c(\"mother.smokes\", \"hypertension\", \"uterine.irr\", \"birthwt.below.2500\"),\n",
    "            ~ recode_factor(.x, `0` = \"no\", `1` = \"yes\"))\n"
   ]
  },
  {
   "cell_type": "code",
   "execution_count": null,
   "metadata": {},
   "outputs": [],
   "source": [
    "\n",
    "# Do a boxplot \n",
    "qplot(x = mother.smokes, y = birthwt.grams,\n",
    "      geom = \"boxplot\", data = birthwt,\n",
    "      xlab = \"Mother smokes\", \n",
    "      ylab = \"Birthweight (grams)\",\n",
    "      fill = I(\"lightblue\"))\n"
   ]
  },
  {
   "cell_type": "markdown",
   "metadata": {},
   "source": [
    "Boxplot shows that the birth weight may be associated with the smoking. Let's see if there is a atatistically significant difference. \n",
    "\n",
    "Let's compute the mean and standard devation of birth weight for each group as well as the **standard error**."
   ]
  },
  {
   "cell_type": "code",
   "execution_count": null,
   "metadata": {},
   "outputs": [],
   "source": [
    "birthwt %>%\n",
    "  group_by(mother.smokes) %>%\n",
    "  summarize(num.obs = n(),\n",
    "            mean.birthwt = round(mean(birthwt.grams), 0),\n",
    "            sd.birthwt = round(sd(birthwt.grams), 0),\n",
    "            se.birthwt = round(sd(birthwt.grams) / sqrt(num.obs), 0))"
   ]
  },
  {
   "cell_type": "markdown",
   "metadata": {},
   "source": [
    "To assess the significance of the difference, we will use the `t.test` function. \n"
   ]
  },
  {
   "cell_type": "code",
   "execution_count": null,
   "metadata": {},
   "outputs": [],
   "source": [
    "birthwt.t.test <- t.test(birthwt.grams ~ mother.smokes, data = birthwt)\n",
    "birthwt.t.test"
   ]
  },
  {
   "cell_type": "markdown",
   "metadata": {},
   "source": [
    "P-value is very small, the difference is significant. The mean birth weight for smokers is 2772 grams versus 3056 grams for non-smokers. \n",
    "\n",
    "We can do the same analysis with a different syntax: \n"
   ]
  },
  {
   "cell_type": "code",
   "execution_count": null,
   "metadata": {},
   "outputs": [],
   "source": [
    "with(birthwt, t.test(x=birthwt.grams[mother.smokes==\"no\"], \n",
    "                     y=birthwt.grams[mother.smokes==\"yes\"]))"
   ]
  },
  {
   "cell_type": "markdown",
   "metadata": {},
   "source": [
    "We can access to individual pieces of information like following: "
   ]
  },
  {
   "cell_type": "code",
   "execution_count": null,
   "metadata": {},
   "outputs": [],
   "source": [
    "names(birthwt.t.test)\n"
   ]
  },
  {
   "cell_type": "code",
   "execution_count": null,
   "metadata": {},
   "outputs": [],
   "source": [
    "birthwt.t.test$p.value   # p-value"
   ]
  },
  {
   "cell_type": "code",
   "execution_count": null,
   "metadata": {},
   "outputs": [],
   "source": [
    "birthwt.t.test$estimate  # group means"
   ]
  },
  {
   "cell_type": "markdown",
   "metadata": {},
   "source": [
    "## Non-parametric Case\n",
    "\n",
    "If the data does not follow normal distribution, your sample size should be very large so that your data can follow t-distribution. Otherwise,  you should run a **non-parametric test** that does not make any assumptions about normality or the \n",
    "mean. \n",
    "\n",
    "We can use the **Wilcoxon rank-sum test** in that case. \n"
   ]
  },
  {
   "cell_type": "code",
   "execution_count": null,
   "metadata": {},
   "outputs": [],
   "source": [
    "birthwt.wilcox.test <- wilcox.test(birthwt.grams ~ mother.smokes, data=birthwt, conf.int=TRUE)\n",
    "birthwt.wilcox.test"
   ]
  },
  {
   "cell_type": "code",
   "execution_count": null,
   "metadata": {},
   "outputs": [],
   "source": [
    "# OR \n",
    "\n",
    "with(birthwt, wilcox.test(x=birthwt.grams[mother.smokes==\"no\"], \n",
    "                     y=birthwt.grams[mother.smokes==\"yes\"]))"
   ]
  },
  {
   "cell_type": "markdown",
   "metadata": {},
   "source": [
    "Again, small p-value shows that we can reject the null hypothesis. \n",
    "\n",
    "**Keep in mind** that you can use this test for independent samples or paired samples. In the case of **paired samples**, it's actually called **Wilcoxson signed rank test**, but you still call the same function with `paired=TRUE` option. \n",
    "\n",
    "\n",
    "\n",
    "**To check whether our data follows normal distribution, we can do a q-q plot.** \n"
   ]
  },
  {
   "cell_type": "code",
   "execution_count": null,
   "metadata": {},
   "outputs": [],
   "source": [
    "p.birthwt <- ggplot(data = birthwt, aes(sample = birthwt.grams))\n",
    "\n",
    "p.birthwt + stat_qq() + stat_qq_line()"
   ]
  },
  {
   "cell_type": "code",
   "execution_count": null,
   "metadata": {},
   "outputs": [],
   "source": [
    "# Separate plots for different values of smoking status\n",
    "p.birthwt + stat_qq() + stat_qq_line() + facet_grid(. ~ mother.smokes)\n"
   ]
  },
  {
   "cell_type": "markdown",
   "metadata": {},
   "source": [
    "It is not too bad, there is no large deviation from normal distribution. \n",
    "\n",
    "Here’s what we would see if the data were **right-skewed.**"
   ]
  },
  {
   "cell_type": "code",
   "execution_count": null,
   "metadata": {},
   "outputs": [],
   "source": [
    "set.seed(12345)\n",
    "fake.data <- data.frame(x = rexp(200))\n",
    "p.fake <- ggplot(fake.data, aes(sample = x))\n",
    "qplot(x, data = fake.data)"
   ]
  },
  {
   "cell_type": "code",
   "execution_count": null,
   "metadata": {},
   "outputs": [],
   "source": [
    "p.fake + stat_qq() + stat_qq_line()\n"
   ]
  },
  {
   "cell_type": "markdown",
   "metadata": {},
   "source": [
    "This is a good indication that you should be careful if you see this type of deviation from the normal. \n",
    "\n",
    "---\n",
    "\n",
    "### Categorical Variables\n",
    "\n",
    "If we have categorical variables as opposed to continuous, we can use **Fisher's Exact Test** or **Chi-squared test**. "
   ]
  },
  {
   "cell_type": "code",
   "execution_count": null,
   "metadata": {},
   "outputs": [],
   "source": [
    "# First create a categorical variable: \n",
    "\n",
    "weight.smoke.tbl <- with(birthwt, table(birthwt.below.2500, mother.smokes))\n",
    "weight.smoke.tbl"
   ]
  },
  {
   "cell_type": "code",
   "execution_count": null,
   "metadata": {},
   "outputs": [],
   "source": [
    "# Use Fisher's exact test \n",
    "birthwt.fisher.test <- fisher.test(weight.smoke.tbl)\n",
    "birthwt.fisher.test"
   ]
  },
  {
   "cell_type": "markdown",
   "metadata": {},
   "source": [
    "This also shows a significant difference between birth weights. \n",
    "\n",
    "We can also use the Chi-squared test: "
   ]
  },
  {
   "cell_type": "code",
   "execution_count": null,
   "metadata": {},
   "outputs": [],
   "source": [
    "chisq.test(weight.smoke.tbl)"
   ]
  },
  {
   "cell_type": "markdown",
   "metadata": {},
   "source": [
    "You get essentially the same answer by running the Chi-squared test, but the output is not very useful. You are not getting an estimate or confidence interval for the odds ratio."
   ]
  },
  {
   "cell_type": "markdown",
   "metadata": {},
   "source": [
    "---\n",
    "\n",
    "### Paired T-test \n",
    "\n",
    "Here is an example of a paired t-test. Take a look at the data:"
   ]
  },
  {
   "cell_type": "code",
   "execution_count": null,
   "metadata": {},
   "outputs": [],
   "source": [
    "help(sleep)"
   ]
  },
  {
   "cell_type": "code",
   "execution_count": null,
   "metadata": {},
   "outputs": [],
   "source": [
    "sleep"
   ]
  },
  {
   "cell_type": "markdown",
   "metadata": {},
   "source": [
    "As you can see, the two groups are **NOT** independent. They are actually **same** people given the drug and the measurements are for **before** and **after** the drug was given. We have to use a **paired t-test** here. "
   ]
  },
  {
   "cell_type": "code",
   "execution_count": null,
   "metadata": {},
   "outputs": [],
   "source": [
    "plot(extra ~ group, data = sleep)"
   ]
  },
  {
   "cell_type": "code",
   "execution_count": null,
   "metadata": {},
   "outputs": [],
   "source": [
    "sleep.t <- with(sleep,\n",
    "     t.test(extra[group == 1],\n",
    "            extra[group == 2], paired = TRUE))\n",
    "sleep.t"
   ]
  },
  {
   "cell_type": "code",
   "execution_count": null,
   "metadata": {},
   "outputs": [],
   "source": [
    "## The sleep *prolongations*\n",
    "sleep1 <- with(sleep, extra[group == 2] - extra[group == 1])\n",
    "summary(sleep1)"
   ]
  },
  {
   "cell_type": "markdown",
   "metadata": {},
   "source": [
    "**Take a look** at the following outputs. What do you think of about rejecting the null hypotheses ? "
   ]
  },
  {
   "cell_type": "code",
   "execution_count": null,
   "metadata": {},
   "outputs": [],
   "source": [
    "\n",
    "# H1: group1 slept more than group2 \n",
    "\n",
    "sleep.t2 <- with(sleep,\n",
    "     t.test(extra[group == 1],\n",
    "            extra[group == 2], paired = TRUE, alternative = \"greater\"))\n",
    "sleep.t2"
   ]
  },
  {
   "cell_type": "code",
   "execution_count": null,
   "metadata": {},
   "outputs": [],
   "source": [
    "\n",
    "# H1: group1 slept less than group2 \n",
    "\n",
    "\n",
    "sleep.t3 <- with(sleep,\n",
    "     t.test(extra[group == 1],\n",
    "            extra[group == 2], paired = TRUE, alternative = \"less\"))\n",
    "sleep.t3"
   ]
  },
  {
   "cell_type": "markdown",
   "metadata": {},
   "source": [
    "### Another example: "
   ]
  },
  {
   "cell_type": "markdown",
   "metadata": {},
   "source": [
    "Suppose that the manufacturer claims that the mean lifetime of a light bulb is more than 10,000 hours. In a sample of 30 light bulbs, it was found that they only last 9,900 hours on average. Assume the sample standard deviation is 125 hours. At .05 significance level, can we reject the claim by the manufacturer?\n",
    "\n",
    "The null hypothesis is $H_0: \\mu \\ge 10000$. This is waht the manufacturer claims. \n",
    "\n",
    "**YOUR TURN:** Find the t-statistic below: \n"
   ]
  },
  {
   "cell_type": "code",
   "execution_count": null,
   "metadata": {},
   "outputs": [],
   "source": [
    "mubar = <YOUR CODE HERE> \n",
    "mu = <YOUR CODE HERE> \n",
    "s = <YOUR CODE HERE> \n",
    "n = <YOUR CODE HERE> \n",
    "\n",
    "t = (xbar−mu0)/(s/sqrt(n)) \n",
    "t\n"
   ]
  },
  {
   "cell_type": "markdown",
   "metadata": {},
   "source": [
    "Compute the critical value at alpha=0.05"
   ]
  },
  {
   "cell_type": "code",
   "execution_count": null,
   "metadata": {},
   "outputs": [],
   "source": [
    "help(qt)"
   ]
  },
  {
   "cell_type": "code",
   "execution_count": null,
   "metadata": {},
   "outputs": [],
   "source": [
    "alpha = 0.05\n",
    "\n",
    "t.alpha = <YOUR CODE HERE>  # use qt() function similar to qnorm() function "
   ]
  },
  {
   "cell_type": "markdown",
   "metadata": {},
   "source": [
    "The test statistic -4.3818 is less than the critical value of -1.6991. Hence, at .05 significance level, we can reject the claim that mean lifetime of a light bulb is above 10,000 hours.\n",
    "\n",
    "Alternatively, instead of using the critical value, we apply the pt function to compute the lower tail p-value of the test statistic."
   ]
  },
  {
   "cell_type": "code",
   "execution_count": null,
   "metadata": {},
   "outputs": [],
   "source": [
    "pval = pt(t, df=n-1) # lower tail p−value \n",
    "\n",
    "pval"
   ]
  },
  {
   "cell_type": "markdown",
   "metadata": {},
   "source": [
    "---\n",
    "\n",
    "**YOUR TURN:**\n",
    "\n",
    "For the following data set, find out if there was an **improvement** in the scores of the subjects. Note that you have to create groups to use the t.test() function. \n",
    "\n",
    "\n",
    "This data seems to be about the same group of subjects and has a column `score1` and a column `score2` and is asking if there is an improvement. So we can assume that this is a paired t-test. $H_0$ should be \"no improvement\"; how do you write it mathematically? Do you do a one-tailed or two-tailed test? "
   ]
  },
  {
   "cell_type": "code",
   "execution_count": null,
   "metadata": {},
   "outputs": [],
   "source": [
    "subject = seq(1,11)\n",
    "score1 = c(3,3,3,12,15,16,17,19,23,24,32)\n",
    "score2 = c(20,13,13,20,29,32,23,20,25,15,30)\n",
    "df <-data.frame(cbind(subject,score1,score2))\n",
    "head(df)"
   ]
  },
  {
   "cell_type": "code",
   "execution_count": null,
   "metadata": {},
   "outputs": [],
   "source": [
    "<YOUR CODE HERE> "
   ]
  },
  {
   "cell_type": "markdown",
   "metadata": {},
   "source": [
    "---\n",
    "### Two-sample T-test: \n",
    "\n",
    "The following data contains observations on degree of polymerization for paper specimens for which viscosity times concentration fell in a certain middle range x=(418,421,421,422,425,427,431,434,437,439,446,447,448,453,454,463,465) and and higher range y=(429,430,430,431,36,437,440,441,445,446,447).\n",
    "\n",
    "We want to test if the observations in middle range and higher range are from populations with different means, at significance level alpha=0.05 .\n",
    "\n",
    "\n",
    "\n",
    "Run a **two-sample t.test** to see if they are from different populations. HINT: We are looking for a difference of means of two samples. So, it should be two-tailed. "
   ]
  },
  {
   "cell_type": "code",
   "execution_count": null,
   "metadata": {},
   "outputs": [],
   "source": [
    "x = c(418,421,421,422,425,427,431,434,437,439,446,447,448,453,454,463,465)   \n",
    "y = c(429,430,430,431,36,437,440,441,445,446,447)"
   ]
  },
  {
   "cell_type": "code",
   "execution_count": null,
   "metadata": {},
   "outputs": [],
   "source": [
    "help(t.test)"
   ]
  },
  {
   "cell_type": "code",
   "execution_count": null,
   "metadata": {},
   "outputs": [],
   "source": [
    "\n",
    "t.test(x, y, alternative=\"two.sided\", mu=0, var.equal=F, conf.level=0.95) "
   ]
  },
  {
   "cell_type": "markdown",
   "metadata": {},
   "source": [
    "**What is your interpretation?** Why do we need to use `var.equal`? "
   ]
  },
  {
   "cell_type": "code",
   "execution_count": null,
   "metadata": {},
   "outputs": [],
   "source": []
  }
 ],
 "metadata": {
  "kernelspec": {
   "display_name": "R",
   "language": "R",
   "name": "ir"
  },
  "language_info": {
   "codemirror_mode": "r",
   "file_extension": ".r",
   "mimetype": "text/x-r-source",
   "name": "R",
   "pygments_lexer": "r",
   "version": "4.0.5"
  }
 },
 "nbformat": 4,
 "nbformat_minor": 2
}
