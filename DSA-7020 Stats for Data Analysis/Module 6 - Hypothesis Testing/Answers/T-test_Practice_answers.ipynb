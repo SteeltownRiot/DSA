{
 "cells": [
  {
   "cell_type": "markdown",
   "metadata": {},
   "source": [
    "# T-test Practice\n",
    "\n",
    "In this notebook, we will see how to use the t-test on some data sets using the t.test() function. \n",
    "\n",
    "\n",
    "Our example data set is the birth weight data. We will do hypothesis testing to see if there is statistically significant effects of some variables. \n",
    "\n",
    "We will start by comparing the birth weight between smoking and non-smoking mothers. \n",
    "\n"
   ]
  },
  {
   "cell_type": "code",
   "execution_count": 1,
   "metadata": {},
   "outputs": [
    {
     "name": "stderr",
     "output_type": "stream",
     "text": [
      "── \u001b[1mAttaching packages\u001b[22m ─────────────────────────────────────── tidyverse 1.3.1 ──\n",
      "\n",
      "\u001b[32m✔\u001b[39m \u001b[34mggplot2\u001b[39m 3.3.3     \u001b[32m✔\u001b[39m \u001b[34mpurrr  \u001b[39m 0.3.4\n",
      "\u001b[32m✔\u001b[39m \u001b[34mtibble \u001b[39m 3.1.1     \u001b[32m✔\u001b[39m \u001b[34mdplyr  \u001b[39m 1.0.6\n",
      "\u001b[32m✔\u001b[39m \u001b[34mtidyr  \u001b[39m 1.1.3     \u001b[32m✔\u001b[39m \u001b[34mstringr\u001b[39m 1.4.0\n",
      "\u001b[32m✔\u001b[39m \u001b[34mreadr  \u001b[39m 1.4.0     \u001b[32m✔\u001b[39m \u001b[34mforcats\u001b[39m 0.5.1\n",
      "\n",
      "── \u001b[1mConflicts\u001b[22m ────────────────────────────────────────── tidyverse_conflicts() ──\n",
      "\u001b[31m✖\u001b[39m \u001b[34mdplyr\u001b[39m::\u001b[32mfilter()\u001b[39m masks \u001b[34mstats\u001b[39m::filter()\n",
      "\u001b[31m✖\u001b[39m \u001b[34mdplyr\u001b[39m::\u001b[32mlag()\u001b[39m    masks \u001b[34mstats\u001b[39m::lag()\n",
      "\n"
     ]
    }
   ],
   "source": [
    "library(tidyverse)\n",
    "\n",
    "\n",
    "# Load data from MASS into a tibble\n",
    "birthwt <- as_tibble(MASS::birthwt)\n",
    "\n",
    "# Rename variables\n",
    "birthwt <- birthwt %>%\n",
    "  rename(birthwt.below.2500 = low, \n",
    "         mother.age = age,\n",
    "         mother.weight = lwt,\n",
    "         mother.smokes = smoke,\n",
    "         previous.prem.labor = ptl,\n",
    "         hypertension = ht,\n",
    "         uterine.irr = ui,\n",
    "         physician.visits = ftv,\n",
    "         birthwt.grams = bwt)\n",
    "\n",
    "# Change factor level names\n",
    "birthwt <- birthwt %>%\n",
    "  mutate(race = recode_factor(race, `1` = \"white\", `2` = \"black\", `3` = \"other\")) %>%\n",
    "  mutate_at(c(\"mother.smokes\", \"hypertension\", \"uterine.irr\", \"birthwt.below.2500\"),\n",
    "            ~ recode_factor(.x, `0` = \"no\", `1` = \"yes\"))\n"
   ]
  },
  {
   "cell_type": "code",
   "execution_count": 2,
   "metadata": {},
   "outputs": [
    {
     "data": {
      "image/png": "[encoded data removed]",
      "text/plain": [
       "plot without title"
      ]
     },
     "metadata": {
      "image/png": {
       "height": 420,
       "width": 420
      }
     },
     "output_type": "display_data"
    }
   ],
   "source": [
    "\n",
    "# Do a boxplot \n",
    "qplot(x = mother.smokes, y = birthwt.grams,\n",
    "      geom = \"boxplot\", data = birthwt,\n",
    "      xlab = \"Mother smokes\", \n",
    "      ylab = \"Birthweight (grams)\",\n",
    "      fill = I(\"lightblue\"))\n"
   ]
  },
  {
   "cell_type": "markdown",
   "metadata": {},
   "source": [
    "Boxplot shows that the birth weight may be associated with the smoking. Let's see if there is a atatistically significant difference. \n",
    "\n",
    "Let's compute the mean and standard devation of birth weight for each group as well as the **standard error**."
   ]
  },
  {
   "cell_type": "code",
   "execution_count": 3,
   "metadata": {},
   "outputs": [
    {
     "data": {
      "text/html": [
       "<table class=\"dataframe\">\n",
       "<caption>A tibble: 2 × 5</caption>\n",
       "<thead>\n",
       "\t<tr><th scope=col>mother.smokes</th><th scope=col>num.obs</th><th scope=col>mean.birthwt</th><th scope=col>sd.birthwt</th><th scope=col>se.birthwt</th></tr>\n",
       "\t<tr><th scope=col>&lt;fct&gt;</th><th scope=col>&lt;int&gt;</th><th scope=col>&lt;dbl&gt;</th><th scope=col>&lt;dbl&gt;</th><th scope=col>&lt;dbl&gt;</th></tr>\n",
       "</thead>\n",
       "<tbody>\n",
       "\t<tr><td>no </td><td>115</td><td>3056</td><td>753</td><td>70</td></tr>\n",
       "\t<tr><td>yes</td><td> 74</td><td>2772</td><td>660</td><td>77</td></tr>\n",
       "</tbody>\n",
       "</table>\n"
      ],
      "text/latex": [
       "A tibble: 2 × 5\n",
       "\\begin{tabular}{lllll}\n",
       " mother.smokes & num.obs & mean.birthwt & sd.birthwt & se.birthwt\\\\\n",
       " <fct> & <int> & <dbl> & <dbl> & <dbl>\\\\\n",
       "\\hline\n",
       "\t no  & 115 & 3056 & 753 & 70\\\\\n",
       "\t yes &  74 & 2772 & 660 & 77\\\\\n",
       "\\end{tabular}\n"
      ],
      "text/markdown": [
       "\n",
       "A tibble: 2 × 5\n",
       "\n",
       "| mother.smokes &lt;fct&gt; | num.obs &lt;int&gt; | mean.birthwt &lt;dbl&gt; | sd.birthwt &lt;dbl&gt; | se.birthwt &lt;dbl&gt; |\n",
       "|---|---|---|---|---|\n",
       "| no  | 115 | 3056 | 753 | 70 |\n",
       "| yes |  74 | 2772 | 660 | 77 |\n",
       "\n"
      ],
      "text/plain": [
       "  mother.smokes num.obs mean.birthwt sd.birthwt se.birthwt\n",
       "1 no            115     3056         753        70        \n",
       "2 yes            74     2772         660        77        "
      ]
     },
     "metadata": {},
     "output_type": "display_data"
    }
   ],
   "source": [
    "birthwt %>%\n",
    "  group_by(mother.smokes) %>%\n",
    "  summarize(num.obs = n(),\n",
    "            mean.birthwt = round(mean(birthwt.grams), 0),\n",
    "            sd.birthwt = round(sd(birthwt.grams), 0),\n",
    "            se.birthwt = round(sd(birthwt.grams) / sqrt(num.obs), 0))"
   ]
  },
  {
   "cell_type": "markdown",
   "metadata": {},
   "source": [
    "To assess the significance of the difference, we will use the `t.test` function. \n"
   ]
  },
  {
   "cell_type": "code",
   "execution_count": 4,
   "metadata": {},
   "outputs": [
    {
     "data": {
      "text/plain": [
       "\n",
       "\tWelch Two Sample t-test\n",
       "\n",
       "data:  birthwt.grams by mother.smokes\n",
       "t = 2.7299, df = 170.1, p-value = 0.007003\n",
       "alternative hypothesis: true difference in means is not equal to 0\n",
       "95 percent confidence interval:\n",
       "  78.57486 488.97860\n",
       "sample estimates:\n",
       " mean in group no mean in group yes \n",
       "         3055.696          2771.919 \n"
      ]
     },
     "metadata": {},
     "output_type": "display_data"
    }
   ],
   "source": [
    "birthwt.t.test <- t.test(birthwt.grams ~ mother.smokes, data = birthwt)\n",
    "birthwt.t.test"
   ]
  },
  {
   "cell_type": "markdown",
   "metadata": {},
   "source": [
    "P-value is very small, the difference is significant. The mean birth weight for smokers is 2772 grams versus 3056 grams for non-smokers. \n",
    "\n",
    "We can do the same analysis with a different syntax: \n"
   ]
  },
  {
   "cell_type": "code",
   "execution_count": 5,
   "metadata": {},
   "outputs": [
    {
     "data": {
      "text/plain": [
       "\n",
       "\tWelch Two Sample t-test\n",
       "\n",
       "data:  birthwt.grams[mother.smokes == \"no\"] and birthwt.grams[mother.smokes == \"yes\"]\n",
       "t = 2.7299, df = 170.1, p-value = 0.007003\n",
       "alternative hypothesis: true difference in means is not equal to 0\n",
       "95 percent confidence interval:\n",
       "  78.57486 488.97860\n",
       "sample estimates:\n",
       "mean of x mean of y \n",
       " 3055.696  2771.919 \n"
      ]
     },
     "metadata": {},
     "output_type": "display_data"
    }
   ],
   "source": [
    "with(birthwt, t.test(x=birthwt.grams[mother.smokes==\"no\"], \n",
    "                     y=birthwt.grams[mother.smokes==\"yes\"]))"
   ]
  },
  {
   "cell_type": "markdown",
   "metadata": {},
   "source": [
    "We can access to individual pieces of information like following: "
   ]
  },
  {
   "cell_type": "code",
   "execution_count": 6,
   "metadata": {},
   "outputs": [
    {
     "data": {
      "text/html": [
       "<style>\n",
       ".list-inline {list-style: none; margin:0; padding: 0}\n",
       ".list-inline>li {display: inline-block}\n",
       ".list-inline>li:not(:last-child)::after {content: \"\\00b7\"; padding: 0 .5ex}\n",
       "</style>\n",
       "<ol class=list-inline><li>'statistic'</li><li>'parameter'</li><li>'p.value'</li><li>'conf.int'</li><li>'estimate'</li><li>'null.value'</li><li>'stderr'</li><li>'alternative'</li><li>'method'</li><li>'data.name'</li></ol>\n"
      ],
      "text/latex": [
       "\\begin{enumerate*}\n",
       "\\item 'statistic'\n",
       "\\item 'parameter'\n",
       "\\item 'p.value'\n",
       "\\item 'conf.int'\n",
       "\\item 'estimate'\n",
       "\\item 'null.value'\n",
       "\\item 'stderr'\n",
       "\\item 'alternative'\n",
       "\\item 'method'\n",
       "\\item 'data.name'\n",
       "\\end{enumerate*}\n"
      ],
      "text/markdown": [
       "1. 'statistic'\n",
       "2. 'parameter'\n",
       "3. 'p.value'\n",
       "4. 'conf.int'\n",
       "5. 'estimate'\n",
       "6. 'null.value'\n",
       "7. 'stderr'\n",
       "8. 'alternative'\n",
       "9. 'method'\n",
       "10. 'data.name'\n",
       "\n",
       "\n"
      ],
      "text/plain": [
       " [1] \"statistic\"   \"parameter\"   \"p.value\"     \"conf.int\"    \"estimate\"   \n",
       " [6] \"null.value\"  \"stderr\"      \"alternative\" \"method\"      \"data.name\"  "
      ]
     },
     "metadata": {},
     "output_type": "display_data"
    }
   ],
   "source": [
    "names(birthwt.t.test)\n"
   ]
  },
  {
   "cell_type": "code",
   "execution_count": 7,
   "metadata": {},
   "outputs": [
    {
     "data": {
      "text/html": [
       "0.00700254817307696"
      ],
      "text/latex": [
       "0.00700254817307696"
      ],
      "text/markdown": [
       "0.00700254817307696"
      ],
      "text/plain": [
       "[1] 0.007002548"
      ]
     },
     "metadata": {},
     "output_type": "display_data"
    }
   ],
   "source": [
    "birthwt.t.test$p.value   # p-value"
   ]
  },
  {
   "cell_type": "code",
   "execution_count": 8,
   "metadata": {},
   "outputs": [
    {
     "data": {
      "text/html": [
       "<style>\n",
       ".dl-inline {width: auto; margin:0; padding: 0}\n",
       ".dl-inline>dt, .dl-inline>dd {float: none; width: auto; display: inline-block}\n",
       ".dl-inline>dt::after {content: \":\\0020\"; padding-right: .5ex}\n",
       ".dl-inline>dt:not(:first-of-type) {padding-left: .5ex}\n",
       "</style><dl class=dl-inline><dt>mean in group no</dt><dd>3055.69565217391</dd><dt>mean in group yes</dt><dd>2771.91891891892</dd></dl>\n"
      ],
      "text/latex": [
       "\\begin{description*}\n",
       "\\item[mean in group no] 3055.69565217391\n",
       "\\item[mean in group yes] 2771.91891891892\n",
       "\\end{description*}\n"
      ],
      "text/markdown": [
       "mean in group no\n",
       ":   3055.69565217391mean in group yes\n",
       ":   2771.91891891892\n",
       "\n"
      ],
      "text/plain": [
       " mean in group no mean in group yes \n",
       "         3055.696          2771.919 "
      ]
     },
     "metadata": {},
     "output_type": "display_data"
    }
   ],
   "source": [
    "birthwt.t.test$estimate  # group means"
   ]
  },
  {
   "cell_type": "markdown",
   "metadata": {},
   "source": [
    "## Non-parametric Case\n",
    "\n",
    "If the data does not follow normal distribution, your sample size should be very large so that your data can follow t-distribution. Otherwise,  you should run a **non-parametric test** that does not make any assumptions about normality or the \n",
    "mean. \n",
    "\n",
    "We can use the **Wilcoxon rank-sum test** in that case. \n"
   ]
  },
  {
   "cell_type": "code",
   "execution_count": 9,
   "metadata": {},
   "outputs": [
    {
     "data": {
      "text/plain": [
       "\n",
       "\tWilcoxon rank sum test with continuity correction\n",
       "\n",
       "data:  birthwt.grams by mother.smokes\n",
       "W = 5249.5, p-value = 0.006768\n",
       "alternative hypothesis: true location shift is not equal to 0\n",
       "95 percent confidence interval:\n",
       "  85.00004 512.00005\n",
       "sample estimates:\n",
       "difference in location \n",
       "              306.1846 \n"
      ]
     },
     "metadata": {},
     "output_type": "display_data"
    }
   ],
   "source": [
    "birthwt.wilcox.test <- wilcox.test(birthwt.grams ~ mother.smokes, data=birthwt, conf.int=TRUE)\n",
    "birthwt.wilcox.test"
   ]
  },
  {
   "cell_type": "code",
   "execution_count": 10,
   "metadata": {},
   "outputs": [
    {
     "data": {
      "text/plain": [
       "\n",
       "\tWilcoxon rank sum test with continuity correction\n",
       "\n",
       "data:  birthwt.grams[mother.smokes == \"no\"] and birthwt.grams[mother.smokes == \"yes\"]\n",
       "W = 5249.5, p-value = 0.006768\n",
       "alternative hypothesis: true location shift is not equal to 0\n"
      ]
     },
     "metadata": {},
     "output_type": "display_data"
    }
   ],
   "source": [
    "# OR \n",
    "\n",
    "with(birthwt, wilcox.test(x=birthwt.grams[mother.smokes==\"no\"], \n",
    "                     y=birthwt.grams[mother.smokes==\"yes\"]))"
   ]
  },
  {
   "cell_type": "markdown",
   "metadata": {},
   "source": [
    "Again, small p-value shows that we can reject the null hypothesis. \n",
    "\n",
    "**Keep in mind** that you can use this test for independent samples or paired samples. In the case of **paired samples**, it's actually called **Wilcoxson signed rank test**, but you still call the same function with `paired=TRUE` option. \n",
    "\n",
    "\n",
    "\n",
    "**To check whether our data follows normal distribution, we can do a q-q plot.** \n"
   ]
  },
  {
   "cell_type": "code",
   "execution_count": 11,
   "metadata": {},
   "outputs": [
    {
     "data": {
      "image/png": "[encoded data removed]",
      "text/plain": [
       "plot without title"
      ]
     },
     "metadata": {
      "image/png": {
       "height": 420,
       "width": 420
      }
     },
     "output_type": "display_data"
    }
   ],
   "source": [
    "p.birthwt <- ggplot(data = birthwt, aes(sample = birthwt.grams))\n",
    "\n",
    "p.birthwt + stat_qq() + stat_qq_line()"
   ]
  },
  {
   "cell_type": "code",
   "execution_count": 12,
   "metadata": {},
   "outputs": [
    {
     "data": {
      "image/png": "[encoded data removed]",
      "text/plain": [
       "plot without title"
      ]
     },
     "metadata": {
      "image/png": {
       "height": 420,
       "width": 420
      }
     },
     "output_type": "display_data"
    }
   ],
   "source": [
    "# Separate plots for different values of smoking status\n",
    "p.birthwt + stat_qq() + stat_qq_line() + facet_grid(. ~ mother.smokes)\n"
   ]
  },
  {
   "cell_type": "markdown",
   "metadata": {},
   "source": [
    "It is not too bad, there is no large deviation from normal distribution. \n",
    "\n",
    "Here’s what we would see if the data were **right-skewed.**"
   ]
  },
  {
   "cell_type": "code",
   "execution_count": 13,
   "metadata": {},
   "outputs": [
    {
     "name": "stderr",
     "output_type": "stream",
     "text": [
      "`stat_bin()` using `bins = 30`. Pick better value with `binwidth`.\n",
      "\n"
     ]
    },
    {
     "data": {
      "image/png": "[encoded data removed]",
      "text/plain": [
       "plot without title"
      ]
     },
     "metadata": {
      "image/png": {
       "height": 420,
       "width": 420
      }
     },
     "output_type": "display_data"
    }
   ],
   "source": [
    "set.seed(12345)\n",
    "fake.data <- data.frame(x = rexp(200))\n",
    "p.fake <- ggplot(fake.data, aes(sample = x))\n",
    "qplot(x, data = fake.data)"
   ]
  },
  {
   "cell_type": "code",
   "execution_count": 14,
   "metadata": {},
   "outputs": [
    {
     "data": {
      "image/png": "[encoded data removed]",
      "text/plain": [
       "plot without title"
      ]
     },
     "metadata": {
      "image/png": {
       "height": 420,
       "width": 420
      }
     },
     "output_type": "display_data"
    }
   ],
   "source": [
    "p.fake + stat_qq() + stat_qq_line()\n"
   ]
  },
  {
   "cell_type": "markdown",
   "metadata": {},
   "source": [
    "This is a good indication that you should be careful if you see this type of deviation from the normal. \n",
    "\n",
    "---\n",
    "\n",
    "### Categorical Variables\n",
    "\n",
    "If we have categorical variables as opposed to continuous, we can use **Fisher's Exact Test** or **Chi-squared test**. "
   ]
  },
  {
   "cell_type": "code",
   "execution_count": 15,
   "metadata": {},
   "outputs": [
    {
     "data": {
      "text/plain": [
       "                  mother.smokes\n",
       "birthwt.below.2500 no yes\n",
       "               no  86  44\n",
       "               yes 29  30"
      ]
     },
     "metadata": {},
     "output_type": "display_data"
    }
   ],
   "source": [
    "# First create a categorical variable: \n",
    "\n",
    "weight.smoke.tbl <- with(birthwt, table(birthwt.below.2500, mother.smokes))\n",
    "weight.smoke.tbl"
   ]
  },
  {
   "cell_type": "code",
   "execution_count": 16,
   "metadata": {},
   "outputs": [
    {
     "data": {
      "text/plain": [
       "\n",
       "\tFisher's Exact Test for Count Data\n",
       "\n",
       "data:  weight.smoke.tbl\n",
       "p-value = 0.03618\n",
       "alternative hypothesis: true odds ratio is not equal to 1\n",
       "95 percent confidence interval:\n",
       " 1.028780 3.964904\n",
       "sample estimates:\n",
       "odds ratio \n",
       "  2.014137 \n"
      ]
     },
     "metadata": {},
     "output_type": "display_data"
    }
   ],
   "source": [
    "# Use Fisher's exact test \n",
    "birthwt.fisher.test <- fisher.test(weight.smoke.tbl)\n",
    "birthwt.fisher.test"
   ]
  },
  {
   "cell_type": "markdown",
   "metadata": {},
   "source": [
    "This also shows a significant difference between birth weights. \n",
    "\n",
    "We can also use the Chi-squared test: "
   ]
  },
  {
   "cell_type": "code",
   "execution_count": 17,
   "metadata": {},
   "outputs": [
    {
     "data": {
      "text/plain": [
       "\n",
       "\tPearson's Chi-squared test with Yates' continuity correction\n",
       "\n",
       "data:  weight.smoke.tbl\n",
       "X-squared = 4.2359, df = 1, p-value = 0.03958\n"
      ]
     },
     "metadata": {},
     "output_type": "display_data"
    }
   ],
   "source": [
    "chisq.test(weight.smoke.tbl)"
   ]
  },
  {
   "cell_type": "markdown",
   "metadata": {},
   "source": [
    "You get essentially the same answer by running the Chi-squared test, but the output is not very useful. You are not getting an estimate or confidence interval for the odds ratio."
   ]
  },
  {
   "cell_type": "markdown",
   "metadata": {},
   "source": [
    "---\n",
    "\n",
    "### Paired T-test \n",
    "\n",
    "Here is an example of a paired t-test. Take a look at the data:"
   ]
  },
  {
   "cell_type": "code",
   "execution_count": 18,
   "metadata": {},
   "outputs": [],
   "source": [
    "help(sleep)"
   ]
  },
  {
   "cell_type": "code",
   "execution_count": 19,
   "metadata": {},
   "outputs": [
    {
     "data": {
      "text/html": [
       "<table class=\"dataframe\">\n",
       "<caption>A data.frame: 20 × 3</caption>\n",
       "<thead>\n",
       "\t<tr><th scope=col>extra</th><th scope=col>group</th><th scope=col>ID</th></tr>\n",
       "\t<tr><th scope=col>&lt;dbl&gt;</th><th scope=col>&lt;fct&gt;</th><th scope=col>&lt;fct&gt;</th></tr>\n",
       "</thead>\n",
       "<tbody>\n",
       "\t<tr><td> 0.7</td><td>1</td><td>1 </td></tr>\n",
       "\t<tr><td>-1.6</td><td>1</td><td>2 </td></tr>\n",
       "\t<tr><td>-0.2</td><td>1</td><td>3 </td></tr>\n",
       "\t<tr><td>-1.2</td><td>1</td><td>4 </td></tr>\n",
       "\t<tr><td>-0.1</td><td>1</td><td>5 </td></tr>\n",
       "\t<tr><td> 3.4</td><td>1</td><td>6 </td></tr>\n",
       "\t<tr><td> 3.7</td><td>1</td><td>7 </td></tr>\n",
       "\t<tr><td> 0.8</td><td>1</td><td>8 </td></tr>\n",
       "\t<tr><td> 0.0</td><td>1</td><td>9 </td></tr>\n",
       "\t<tr><td> 2.0</td><td>1</td><td>10</td></tr>\n",
       "\t<tr><td> 1.9</td><td>2</td><td>1 </td></tr>\n",
       "\t<tr><td> 0.8</td><td>2</td><td>2 </td></tr>\n",
       "\t<tr><td> 1.1</td><td>2</td><td>3 </td></tr>\n",
       "\t<tr><td> 0.1</td><td>2</td><td>4 </td></tr>\n",
       "\t<tr><td>-0.1</td><td>2</td><td>5 </td></tr>\n",
       "\t<tr><td> 4.4</td><td>2</td><td>6 </td></tr>\n",
       "\t<tr><td> 5.5</td><td>2</td><td>7 </td></tr>\n",
       "\t<tr><td> 1.6</td><td>2</td><td>8 </td></tr>\n",
       "\t<tr><td> 4.6</td><td>2</td><td>9 </td></tr>\n",
       "\t<tr><td> 3.4</td><td>2</td><td>10</td></tr>\n",
       "</tbody>\n",
       "</table>\n"
      ],
      "text/latex": [
       "A data.frame: 20 × 3\n",
       "\\begin{tabular}{lll}\n",
       " extra & group & ID\\\\\n",
       " <dbl> & <fct> & <fct>\\\\\n",
       "\\hline\n",
       "\t  0.7 & 1 & 1 \\\\\n",
       "\t -1.6 & 1 & 2 \\\\\n",
       "\t -0.2 & 1 & 3 \\\\\n",
       "\t -1.2 & 1 & 4 \\\\\n",
       "\t -0.1 & 1 & 5 \\\\\n",
       "\t  3.4 & 1 & 6 \\\\\n",
       "\t  3.7 & 1 & 7 \\\\\n",
       "\t  0.8 & 1 & 8 \\\\\n",
       "\t  0.0 & 1 & 9 \\\\\n",
       "\t  2.0 & 1 & 10\\\\\n",
       "\t  1.9 & 2 & 1 \\\\\n",
       "\t  0.8 & 2 & 2 \\\\\n",
       "\t  1.1 & 2 & 3 \\\\\n",
       "\t  0.1 & 2 & 4 \\\\\n",
       "\t -0.1 & 2 & 5 \\\\\n",
       "\t  4.4 & 2 & 6 \\\\\n",
       "\t  5.5 & 2 & 7 \\\\\n",
       "\t  1.6 & 2 & 8 \\\\\n",
       "\t  4.6 & 2 & 9 \\\\\n",
       "\t  3.4 & 2 & 10\\\\\n",
       "\\end{tabular}\n"
      ],
      "text/markdown": [
       "\n",
       "A data.frame: 20 × 3\n",
       "\n",
       "| extra &lt;dbl&gt; | group &lt;fct&gt; | ID &lt;fct&gt; |\n",
       "|---|---|---|\n",
       "|  0.7 | 1 | 1  |\n",
       "| -1.6 | 1 | 2  |\n",
       "| -0.2 | 1 | 3  |\n",
       "| -1.2 | 1 | 4  |\n",
       "| -0.1 | 1 | 5  |\n",
       "|  3.4 | 1 | 6  |\n",
       "|  3.7 | 1 | 7  |\n",
       "|  0.8 | 1 | 8  |\n",
       "|  0.0 | 1 | 9  |\n",
       "|  2.0 | 1 | 10 |\n",
       "|  1.9 | 2 | 1  |\n",
       "|  0.8 | 2 | 2  |\n",
       "|  1.1 | 2 | 3  |\n",
       "|  0.1 | 2 | 4  |\n",
       "| -0.1 | 2 | 5  |\n",
       "|  4.4 | 2 | 6  |\n",
       "|  5.5 | 2 | 7  |\n",
       "|  1.6 | 2 | 8  |\n",
       "|  4.6 | 2 | 9  |\n",
       "|  3.4 | 2 | 10 |\n",
       "\n"
      ],
      "text/plain": [
       "   extra group ID\n",
       "1   0.7  1     1 \n",
       "2  -1.6  1     2 \n",
       "3  -0.2  1     3 \n",
       "4  -1.2  1     4 \n",
       "5  -0.1  1     5 \n",
       "6   3.4  1     6 \n",
       "7   3.7  1     7 \n",
       "8   0.8  1     8 \n",
       "9   0.0  1     9 \n",
       "10  2.0  1     10\n",
       "11  1.9  2     1 \n",
       "12  0.8  2     2 \n",
       "13  1.1  2     3 \n",
       "14  0.1  2     4 \n",
       "15 -0.1  2     5 \n",
       "16  4.4  2     6 \n",
       "17  5.5  2     7 \n",
       "18  1.6  2     8 \n",
       "19  4.6  2     9 \n",
       "20  3.4  2     10"
      ]
     },
     "metadata": {},
     "output_type": "display_data"
    }
   ],
   "source": [
    "sleep"
   ]
  },
  {
   "cell_type": "markdown",
   "metadata": {},
   "source": [
    "As you can see, the two groups are **NOT** independent. They are actually **same** people given the drug and the measurements are for **before** and **after** the drug was given. We have to use a **paired t-test** here. "
   ]
  },
  {
   "cell_type": "code",
   "execution_count": 20,
   "metadata": {},
   "outputs": [
    {
     "data": {
      "image/png": "[encoded data removed]",
      "text/plain": [
       "plot without title"
      ]
     },
     "metadata": {
      "image/png": {
       "height": 420,
       "width": 420
      }
     },
     "output_type": "display_data"
    }
   ],
   "source": [
    "plot(extra ~ group, data = sleep)"
   ]
  },
  {
   "cell_type": "code",
   "execution_count": 21,
   "metadata": {},
   "outputs": [
    {
     "data": {
      "text/plain": [
       "\n",
       "\tPaired t-test\n",
       "\n",
       "data:  extra[group == 1] and extra[group == 2]\n",
       "t = -4.0621, df = 9, p-value = 0.002833\n",
       "alternative hypothesis: true difference in means is not equal to 0\n",
       "95 percent confidence interval:\n",
       " -2.4598858 -0.7001142\n",
       "sample estimates:\n",
       "mean of the differences \n",
       "                  -1.58 \n"
      ]
     },
     "metadata": {},
     "output_type": "display_data"
    }
   ],
   "source": [
    "sleep.t <- with(sleep,\n",
    "     t.test(extra[group == 1],\n",
    "            extra[group == 2], paired = TRUE))\n",
    "sleep.t"
   ]
  },
  {
   "cell_type": "code",
   "execution_count": 22,
   "metadata": {},
   "outputs": [
    {
     "data": {
      "text/plain": [
       "   Min. 1st Qu.  Median    Mean 3rd Qu.    Max. \n",
       "   0.00    1.05    1.30    1.58    1.70    4.60 "
      ]
     },
     "metadata": {},
     "output_type": "display_data"
    }
   ],
   "source": [
    "## The sleep *prolongations*\n",
    "sleep1 <- with(sleep, extra[group == 2] - extra[group == 1])\n",
    "summary(sleep1)"
   ]
  },
  {
   "cell_type": "markdown",
   "metadata": {},
   "source": [
    "**Take a look** at the following outputs. What do you think of about rejecting the null hypotheses ? "
   ]
  },
  {
   "cell_type": "raw",
   "metadata": {},
   "source": [
    "Paired t.test() looks at the mean of differences. If our hypothesis is that the first group on average slept more \n",
    "than the second group (drug actually made them less sleepy), then:\n",
    "\n",
    " H1: mu1 > mu2 \n",
    " \n",
    " in other words,\n",
    " \n",
    " H1: mu1-mu2 > 0\n",
    " \n",
    " That's what see below. The output states the H1 as \"true difference in means is greater than 0\" : mu1-mu2 > 0 "
   ]
  },
  {
   "cell_type": "code",
   "execution_count": 23,
   "metadata": {},
   "outputs": [
    {
     "data": {
      "text/plain": [
       "\n",
       "\tPaired t-test\n",
       "\n",
       "data:  extra[group == 1] and extra[group == 2]\n",
       "t = -4.0621, df = 9, p-value = 0.9986\n",
       "alternative hypothesis: true difference in means is greater than 0\n",
       "95 percent confidence interval:\n",
       " -2.293005       Inf\n",
       "sample estimates:\n",
       "mean of the differences \n",
       "                  -1.58 \n"
      ]
     },
     "metadata": {},
     "output_type": "display_data"
    }
   ],
   "source": [
    "\n",
    "# H1: group1 slept more than group2 \n",
    "\n",
    "sleep.t2 <- with(sleep,\n",
    "     t.test(extra[group == 1],\n",
    "            extra[group == 2], paired = TRUE, alternative = \"greater\"))\n",
    "sleep.t2"
   ]
  },
  {
   "cell_type": "raw",
   "metadata": {},
   "source": [
    "As expected, P-value is very large; the drug is supposed to make them more sleepy, not less. \n",
    "We cannot reject the null hypothesis, so H1 above does not have support from this sample. It is not likely at all that this paired sample comes from a distribution with mu1-mu2 > 0 . \n",
    "\n",
    "\n",
    "\n",
    "The following H1 states the opposite: \n",
    "\n",
    "H1: mu1 < mu2 \n",
    "\n",
    "in other words,\n",
    "\n",
    "H1: mu1 - mu2 < 0 \n"
   ]
  },
  {
   "cell_type": "code",
   "execution_count": 24,
   "metadata": {},
   "outputs": [
    {
     "data": {
      "text/plain": [
       "\n",
       "\tPaired t-test\n",
       "\n",
       "data:  extra[group == 1] and extra[group == 2]\n",
       "t = -4.0621, df = 9, p-value = 0.001416\n",
       "alternative hypothesis: true difference in means is less than 0\n",
       "95 percent confidence interval:\n",
       "       -Inf -0.8669947\n",
       "sample estimates:\n",
       "mean of the differences \n",
       "                  -1.58 \n"
      ]
     },
     "metadata": {},
     "output_type": "display_data"
    }
   ],
   "source": [
    "\n",
    "# H1: group1 slept less than group2 \n",
    "\n",
    "\n",
    "sleep.t3 <- with(sleep,\n",
    "     t.test(extra[group == 1],\n",
    "            extra[group == 2], paired = TRUE, alternative = \"less\"))\n",
    "sleep.t3"
   ]
  },
  {
   "cell_type": "raw",
   "metadata": {},
   "source": [
    "P-value is very small, we reject the null hypothesis. The paired sample is more likely to come \n",
    "from a distribution with mu1 - mu2 < 0. \n",
    "\n",
    "We are 95% confident that the mean of differences is in [-Inf , -0.87] interval and on average people slept 1.58 hours more. \n"
   ]
  },
  {
   "cell_type": "markdown",
   "metadata": {},
   "source": [
    "### Another example: "
   ]
  },
  {
   "cell_type": "markdown",
   "metadata": {},
   "source": [
    "Suppose that the manufacturer claims that the mean lifetime of a light bulb is more than 10,000 hours. In a sample of 30 light bulbs, it was found that they only last 9,900 hours on average. Assume the sample standard deviation is 125 hours. At .05 significance level, can we reject the claim by the manufacturer?\n",
    "\n",
    "The null hypothesis is $H_0: \\mu \\ge 10000$. This is waht the manufacturer claims. \n",
    "\n",
    "**YOUR TURN:** Find the t-statistic below: \n"
   ]
  },
  {
   "cell_type": "code",
   "execution_count": 25,
   "metadata": {},
   "outputs": [
    {
     "data": {
      "text/html": [
       "-4.38178046004133"
      ],
      "text/latex": [
       "-4.38178046004133"
      ],
      "text/markdown": [
       "-4.38178046004133"
      ],
      "text/plain": [
       "[1] -4.38178"
      ]
     },
     "metadata": {},
     "output_type": "display_data"
    }
   ],
   "source": [
    "mubar = 9900\n",
    "mu = 10000\n",
    "s = 125\n",
    "n = 30\n",
    "\n",
    "t = (mubar-mu)/(s/sqrt(n)) \n",
    "t\n"
   ]
  },
  {
   "cell_type": "markdown",
   "metadata": {},
   "source": [
    "Compute the critical value at alpha=0.05"
   ]
  },
  {
   "cell_type": "code",
   "execution_count": 26,
   "metadata": {},
   "outputs": [],
   "source": [
    "help(qt)"
   ]
  },
  {
   "cell_type": "code",
   "execution_count": 27,
   "metadata": {},
   "outputs": [
    {
     "data": {
      "text/html": [
       "-1.6991270265335"
      ],
      "text/latex": [
       "-1.6991270265335"
      ],
      "text/markdown": [
       "-1.6991270265335"
      ],
      "text/plain": [
       "[1] -1.699127"
      ]
     },
     "metadata": {},
     "output_type": "display_data"
    }
   ],
   "source": [
    "alpha = 0.05\n",
    "\n",
    "t.alpha = qt(alpha, df=n-1)  # use qt() function similar to qnorm() function \n",
    "t.alpha"
   ]
  },
  {
   "cell_type": "markdown",
   "metadata": {},
   "source": [
    "The test statistic -4.3818 is less than the critical value of -1.6991. Hence, at .05 significance level, we can reject the claim that mean lifetime of a light bulb is above 10,000 hours.\n",
    "\n",
    "Alternatively, instead of using the critical value, we apply the pt function to compute the lower tail p-value of the test statistic."
   ]
  },
  {
   "cell_type": "code",
   "execution_count": 28,
   "metadata": {},
   "outputs": [
    {
     "data": {
      "text/html": [
       "7.03502572901089e-05"
      ],
      "text/latex": [
       "7.03502572901089e-05"
      ],
      "text/markdown": [
       "7.03502572901089e-05"
      ],
      "text/plain": [
       "[1] 7.035026e-05"
      ]
     },
     "metadata": {},
     "output_type": "display_data"
    }
   ],
   "source": [
    "pval = pt(t, df=n-1) # lower tail p−value \n",
    "\n",
    "pval"
   ]
  },
  {
   "cell_type": "markdown",
   "metadata": {},
   "source": [
    "---\n",
    "\n",
    "**YOUR TURN:**\n",
    "\n",
    "For the following data set, find out if there was an **improvement** in the scores of the subjects. Note that you have to create groups to use the t.test() function. \n",
    "\n",
    "\n",
    "This data seems to be about the same group of subjects and has a column `score1` and a column `score2` and is asking if there is an improvement. So we can assume that this is a paired t-test. $H_0$ should be \"no improvement\"; how do you write it mathematically? Do you do a one-tailed or two-tailed test? "
   ]
  },
  {
   "cell_type": "code",
   "execution_count": 29,
   "metadata": {},
   "outputs": [
    {
     "data": {
      "text/html": [
       "<table class=\"dataframe\">\n",
       "<caption>A data.frame: 6 × 3</caption>\n",
       "<thead>\n",
       "\t<tr><th></th><th scope=col>subject</th><th scope=col>score1</th><th scope=col>score2</th></tr>\n",
       "\t<tr><th></th><th scope=col>&lt;dbl&gt;</th><th scope=col>&lt;dbl&gt;</th><th scope=col>&lt;dbl&gt;</th></tr>\n",
       "</thead>\n",
       "<tbody>\n",
       "\t<tr><th scope=row>1</th><td>1</td><td> 3</td><td>20</td></tr>\n",
       "\t<tr><th scope=row>2</th><td>2</td><td> 3</td><td>13</td></tr>\n",
       "\t<tr><th scope=row>3</th><td>3</td><td> 3</td><td>13</td></tr>\n",
       "\t<tr><th scope=row>4</th><td>4</td><td>12</td><td>20</td></tr>\n",
       "\t<tr><th scope=row>5</th><td>5</td><td>15</td><td>29</td></tr>\n",
       "\t<tr><th scope=row>6</th><td>6</td><td>16</td><td>32</td></tr>\n",
       "</tbody>\n",
       "</table>\n"
      ],
      "text/latex": [
       "A data.frame: 6 × 3\n",
       "\\begin{tabular}{r|lll}\n",
       "  & subject & score1 & score2\\\\\n",
       "  & <dbl> & <dbl> & <dbl>\\\\\n",
       "\\hline\n",
       "\t1 & 1 &  3 & 20\\\\\n",
       "\t2 & 2 &  3 & 13\\\\\n",
       "\t3 & 3 &  3 & 13\\\\\n",
       "\t4 & 4 & 12 & 20\\\\\n",
       "\t5 & 5 & 15 & 29\\\\\n",
       "\t6 & 6 & 16 & 32\\\\\n",
       "\\end{tabular}\n"
      ],
      "text/markdown": [
       "\n",
       "A data.frame: 6 × 3\n",
       "\n",
       "| <!--/--> | subject &lt;dbl&gt; | score1 &lt;dbl&gt; | score2 &lt;dbl&gt; |\n",
       "|---|---|---|---|\n",
       "| 1 | 1 |  3 | 20 |\n",
       "| 2 | 2 |  3 | 13 |\n",
       "| 3 | 3 |  3 | 13 |\n",
       "| 4 | 4 | 12 | 20 |\n",
       "| 5 | 5 | 15 | 29 |\n",
       "| 6 | 6 | 16 | 32 |\n",
       "\n"
      ],
      "text/plain": [
       "  subject score1 score2\n",
       "1 1        3     20    \n",
       "2 2        3     13    \n",
       "3 3        3     13    \n",
       "4 4       12     20    \n",
       "5 5       15     29    \n",
       "6 6       16     32    "
      ]
     },
     "metadata": {},
     "output_type": "display_data"
    }
   ],
   "source": [
    "subject = seq(1,11)\n",
    "score1 = c(3,3,3,12,15,16,17,19,23,24,32)\n",
    "score2 = c(20,13,13,20,29,32,23,20,25,15,30)\n",
    "df <-data.frame(cbind(subject,score1,score2))\n",
    "head(df)"
   ]
  },
  {
   "cell_type": "raw",
   "metadata": {},
   "source": [
    "The question is asking for improvement; our alternative hypothesis should state that score1 scores (before) should be \n",
    "less than score2 scores (after). So, it should be a ONE-TAILED test. \n",
    "\n",
    "\n",
    "Paired t.test() looks at the mean of the paired differences; H0 is mu1 = mu2, H1 should be mu1 < mu2 or mu1 - mu2 < 0.\n"
   ]
  },
  {
   "cell_type": "code",
   "execution_count": 30,
   "metadata": {},
   "outputs": [
    {
     "data": {
      "text/html": [
       "-6.63636363636364"
      ],
      "text/latex": [
       "-6.63636363636364"
      ],
      "text/markdown": [
       "-6.63636363636364"
      ],
      "text/plain": [
       "[1] -6.636364"
      ]
     },
     "metadata": {},
     "output_type": "display_data"
    }
   ],
   "source": [
    "# This is the difference mean; t.test() output will also show this value. \n",
    "\n",
    "mean(df$score1-df$score2)\n"
   ]
  },
  {
   "cell_type": "raw",
   "metadata": {},
   "source": [
    "Let's try the following alternative hypotheses:\n",
    "\n",
    "1- H1: mu1 <> m2 \n",
    "2- H1: mu1 < mu2 \n",
    "\n",
    "We can use the second syntax of t.test() like t.test(before, after, .....)\n"
   ]
  },
  {
   "cell_type": "code",
   "execution_count": 31,
   "metadata": {},
   "outputs": [
    {
     "data": {
      "text/plain": [
       "\n",
       "\tPaired t-test\n",
       "\n",
       "data:  score1 and score2\n",
       "t = -2.7373, df = 10, p-value = 0.02093\n",
       "alternative hypothesis: true difference in means is not equal to 0\n",
       "95 percent confidence interval:\n",
       " -12.038250  -1.234477\n",
       "sample estimates:\n",
       "mean of the differences \n",
       "              -6.636364 \n"
      ]
     },
     "metadata": {},
     "output_type": "display_data"
    }
   ],
   "source": [
    "\n",
    "# 1- the following is a TWO-TAILED test, H1 is mu1 <> mu2\n",
    "\n",
    "df.t <- with(df,\n",
    "     t.test(score1, score2, paired = TRUE))\n",
    "df.t"
   ]
  },
  {
   "cell_type": "code",
   "execution_count": 32,
   "metadata": {},
   "outputs": [
    {
     "data": {
      "text/plain": [
       "\n",
       "\tPaired t-test\n",
       "\n",
       "data:  score1 and score2\n",
       "t = -2.7373, df = 10, p-value = 0.01046\n",
       "alternative hypothesis: true difference in means is less than 0\n",
       "95 percent confidence interval:\n",
       "      -Inf -2.242244\n",
       "sample estimates:\n",
       "mean of the differences \n",
       "              -6.636364 \n"
      ]
     },
     "metadata": {},
     "output_type": "display_data"
    }
   ],
   "source": [
    "\n",
    "# 2- the following is a ONE-TAILED test, H1 is mu1 < mu2 \n",
    "\n",
    "\n",
    "df.t <- with(df,\n",
    "     t.test(score1, score2, paired = TRUE, alternative = \"less\"))\n",
    "df.t"
   ]
  },
  {
   "cell_type": "raw",
   "metadata": {},
   "source": [
    "Both tests rejected the null hypothesis: \n",
    "\n",
    "- first test states that the difference between means is significant (is not equal to zero) and we are 95% confident that \n",
    "that difference is in [-12.04 , -1.23] interval.\n",
    "\n",
    "- second test states that the difference between means is less than zero and we are 95% confident that that difference is \n",
    "in [-Inf , -2.24] interval. \n",
    "\n",
    "Let's see what would happen with H1: mu1 > mu2 :\n"
   ]
  },
  {
   "cell_type": "code",
   "execution_count": 33,
   "metadata": {},
   "outputs": [
    {
     "data": {
      "text/plain": [
       "\n",
       "\tPaired t-test\n",
       "\n",
       "data:  score1 and score2\n",
       "t = -2.7373, df = 10, p-value = 0.9895\n",
       "alternative hypothesis: true difference in means is greater than 0\n",
       "95 percent confidence interval:\n",
       " -11.03048       Inf\n",
       "sample estimates:\n",
       "mean of the differences \n",
       "              -6.636364 \n"
      ]
     },
     "metadata": {},
     "output_type": "display_data"
    }
   ],
   "source": [
    "df.t <- with(df,\n",
    "     t.test(score1, score2, paired = TRUE, alternative = \"greater\"))\n",
    "df.t"
   ]
  },
  {
   "cell_type": "raw",
   "metadata": {},
   "source": [
    "As expected; P-value is very large because the mean of differences is NOT greater than zero, so we cannot reject the H0. Note that the confidence interval includes zero. "
   ]
  },
  {
   "cell_type": "markdown",
   "metadata": {},
   "source": [
    "---\n",
    "### Two-sample T-test: \n",
    "\n",
    "The following data contains observations on degree of polymerization for paper specimens for which viscosity times concentration fell in a certain middle range x=(418,421,421,422,425,427,431,434,437,439,446,447,448,453,454,463,465) and and higher range y=(429,430,430,431,36,437,440,441,445,446,447).\n",
    "\n",
    "We want to test if the observations in middle range and higher range are from populations with different means, at significance level alpha=0.05 .\n",
    "\n",
    "\n",
    "\n",
    "Run a **two-sample t.test** to see if they are from different populations. HINT: We are looking for a difference of means of two samples. So, it should be two-tailed. "
   ]
  },
  {
   "cell_type": "code",
   "execution_count": 34,
   "metadata": {},
   "outputs": [],
   "source": [
    "x = c(418,421,421,422,425,427,431,434,437,439,446,447,448,453,454,463,465)   \n",
    "y = c(429,430,430,431,36,437,440,441,445,446,447)"
   ]
  },
  {
   "cell_type": "code",
   "execution_count": 35,
   "metadata": {},
   "outputs": [],
   "source": [
    "help(t.test)"
   ]
  },
  {
   "cell_type": "code",
   "execution_count": 36,
   "metadata": {},
   "outputs": [
    {
     "data": {
      "text/plain": [
       "\n",
       "\tWelch Two Sample t-test\n",
       "\n",
       "data:  x and y\n",
       "t = 1.0123, df = 10.202, p-value = 0.3348\n",
       "alternative hypothesis: true difference in means is not equal to 0\n",
       "95 percent confidence interval:\n",
       " -44.46343 118.86984\n",
       "sample estimates:\n",
       "mean of x mean of y \n",
       " 438.2941  401.0909 \n"
      ]
     },
     "metadata": {},
     "output_type": "display_data"
    }
   ],
   "source": [
    "\n",
    "t.test(x, y, alternative=\"two.sided\", mu=0, var.equal=F, conf.level=0.95) "
   ]
  },
  {
   "cell_type": "markdown",
   "metadata": {},
   "source": [
    "**What is your interpretation?** Why do we need to use `var.equal`? "
   ]
  },
  {
   "cell_type": "raw",
   "metadata": {},
   "source": [
    "This is a two-sample test; samples are not paired and are independent. \n",
    "\n",
    "P value is large, we fail to reject the null hypothesis. We cannot say that the samples are from different populations. \n",
    "In other words, it is not likely that these two samples come from different distributions.  \n",
    "\n",
    "Note that t.test() produces two mean estimates for the two-sample test. \n",
    "\n",
    "The 95% confidence interval of the difference mean also includes ZERO; so the difference can actually be zero; that also shows we cannot reject the null hypothesis. \n",
    "\n",
    "Two-sample T-Test with equal variance can be applied when \n",
    "\n",
    "- the samples are normally distributed\n",
    "- the standard deviation of both populations are unknown and assumed to be equal\n",
    "- the sample is sufficiently large (over 30)\n",
    "\n",
    "Otherwise, we use var.equal=F "
   ]
  }
 ],
 "metadata": {
  "kernelspec": {
   "display_name": "R",
   "language": "R",
   "name": "ir"
  },
  "language_info": {
   "codemirror_mode": "r",
   "file_extension": ".r",
   "mimetype": "text/x-r-source",
   "name": "R",
   "pygments_lexer": "r",
   "version": "4.0.5"
  }
 },
 "nbformat": 4,
 "nbformat_minor": 2
}
