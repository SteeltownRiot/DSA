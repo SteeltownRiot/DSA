{
 "cells": [
  {
   "cell_type": "markdown",
   "metadata": {},
   "source": [
    "# Module 6 Exercises\n",
    "\n",
    "\n",
    "\n",
    "Let x represent a sample collected from a normal population with unknown mean and standard deviation. We want to test if the population mean is equal to 9, at significance level alpha=0.05 .\n",
    "\n",
    "\n"
   ]
  },
  {
   "cell_type": "code",
   "execution_count": null,
   "metadata": {},
   "outputs": [],
   "source": [
    "x= c(6.2, 6.6, 7.1, 7.4, 7.6, 7.9, 8, 8.3, 8.4, 8.5, 8.6,\n",
    "+            + 8.8, 8.8, 9.1, 9.2, 9.4, 9.4, 9.7, 9.9, 10.2, 10.4, 10.8,\n",
    "+            + 11.3, 11.9)  \n",
    "\n",
    "length(x)\n"
   ]
  },
  {
   "cell_type": "markdown",
   "metadata": {},
   "source": [
    "**Activity 1:** Which statistical test should we use to find out if the population mean is equal to 9? Why? "
   ]
  },
  {
   "cell_type": "raw",
   "metadata": {},
   "source": [
    "YOUR ANSWER HERE: \n",
    "\n"
   ]
  },
  {
   "cell_type": "markdown",
   "metadata": {},
   "source": [
    "**Activity 2:** Write the null hypothesis and the alternate hypothesis in the cell below for the above question. "
   ]
  },
  {
   "cell_type": "raw",
   "metadata": {},
   "source": [
    "YOUR ANSWER HERE: \n",
    "\n"
   ]
  },
  {
   "cell_type": "markdown",
   "metadata": {},
   "source": [
    "**Activity 3:** Run the test in the following code cell for the above question. Interpret the result. Pay attention to one-tailed or two-tailed when you compute the p-value. Do you reject the null hypothesis? What does it mean? "
   ]
  },
  {
   "cell_type": "code",
   "execution_count": null,
   "metadata": {},
   "outputs": [],
   "source": [
    "# YOUR CODE HERE \n",
    "\n"
   ]
  },
  {
   "cell_type": "raw",
   "metadata": {},
   "source": [
    "YOUR ANSWER HERE:\n",
    " \n",
    " "
   ]
  },
  {
   "cell_type": "markdown",
   "metadata": {},
   "source": [
    "**Activity 4:**  We have measured the weight of 100 individuals: 50 women (group A) and 50 men (group B). We want to know if the mean weight of women (mA) is significantly different from that of men (mB).\n",
    "\n",
    "You will run a two-sample **t.test** to answer the question."
   ]
  },
  {
   "cell_type": "code",
   "execution_count": null,
   "metadata": {},
   "outputs": [],
   "source": [
    "# Data in two numeric vectors\n",
    "women_weight <- c(38.9, 61.2, 73.3, 21.8, 63.4, 64.6, 48.4, 48.8, 48.5)\n",
    "men_weight <- c(67.8, 60, 63.4, 76, 89.4, 73.3, 67.3, 61.3, 62.4) \n",
    "# Create a data frame\n",
    "my_data <- data.frame( \n",
    "                group = rep(c(\"Woman\", \"Man\"), each = 9),\n",
    "                weight = c(women_weight,  men_weight)\n",
    "                )\n",
    "\n",
    "my_data"
   ]
  },
  {
   "cell_type": "markdown",
   "metadata": {},
   "source": [
    "**Activity 4a:** Visualize the mean and standard deviations of both groups using side by side boxplots. "
   ]
  },
  {
   "cell_type": "code",
   "execution_count": null,
   "metadata": {},
   "outputs": [],
   "source": [
    "# YOUR CODE HERE \n",
    "\n"
   ]
  },
  {
   "cell_type": "markdown",
   "metadata": {},
   "source": [
    "**Activity 4b:** Plot a Q-Q plot for both groups to check for normality. (Alternatively, use `shapiro.test()` to check the normality if you want)"
   ]
  },
  {
   "cell_type": "code",
   "execution_count": null,
   "metadata": {},
   "outputs": [],
   "source": [
    "# YOUR CODE HERE \n",
    "\n"
   ]
  },
  {
   "cell_type": "markdown",
   "metadata": {},
   "source": [
    "**Activity 4c:** Run your test in the below code cell, interpret the results. Does the test reject the null hypothesis? \n",
    "\n",
    "(You can assume that these two samples have equal variance. If you don't believe, try `var.test()` to check for that assumption.) "
   ]
  },
  {
   "cell_type": "code",
   "execution_count": null,
   "metadata": {},
   "outputs": [],
   "source": [
    "# YOUR CODE HERE \n",
    "\n"
   ]
  },
  {
   "cell_type": "markdown",
   "metadata": {},
   "source": [
    "**Activity 5:** Suppose that the mean weight of King Penguins found in an Antarctic colony last year was 34.0 pounds. In a **sample of 35 penguins** same time this year in the same colony, the mean penguin weight is 32.2 pounds. Assume the **population** standard deviation is 5.51 pounds. At alpha=0.05 significance level, can we reject the null hypothesis that the mean penguin weight does not differ from last year?"
   ]
  },
  {
   "cell_type": "markdown",
   "metadata": {},
   "source": [
    "**Activity 5a:** What ttype of statistical testing should you run to answer this question? Why? "
   ]
  },
  {
   "cell_type": "markdown",
   "metadata": {},
   "source": [
    "YOUR ANSWER HERE: \n"
   ]
  },
  {
   "cell_type": "markdown",
   "metadata": {},
   "source": [
    "**Activity 5b:** Write your $H_0$ and $H_1$:"
   ]
  },
  {
   "cell_type": "raw",
   "metadata": {},
   "source": [
    "YOUR ANSWER HERE: \n",
    "\n"
   ]
  },
  {
   "cell_type": "markdown",
   "metadata": {},
   "source": [
    "**Activity 5c:** Run your test in the below code cell, interpret the results. Does the test reject the null hypothesis? \n"
   ]
  },
  {
   "cell_type": "code",
   "execution_count": null,
   "metadata": {},
   "outputs": [],
   "source": [
    "# YOUR CODE HERE \n",
    "\n"
   ]
  },
  {
   "cell_type": "markdown",
   "metadata": {},
   "source": [
    "**Activity 6:** Imagine we have collected a random sample of 31 energy bars from a number of different stores to represent the population of energy bars available to the general consumer. The labels on the bars claim that each bar contains 20 grams of protein.\n",
    "\n",
    "Run a statistical test at alpha=0.05 to see if the labels are correct. Your null hypothesis is $H_0: \\mu=20$."
   ]
  },
  {
   "cell_type": "code",
   "execution_count": null,
   "metadata": {},
   "outputs": [],
   "source": [
    "protein <- c(20.70,27.46,22.15,19.85,21.29,24.75,\n",
    "+ 20.75,22.91,25.34,20.33,21.54,21.08,\n",
    "+ 22.14,19.56,21.10,18.04,24.12,19.95,\n",
    "+ 19.72,18.28,16.26,17.46,20.53,22.12,\n",
    "+ 25.06,22.44,19.08,19.88,21.39,22.33,25.79)\n"
   ]
  },
  {
   "cell_type": "markdown",
   "metadata": {},
   "source": [
    "**Activity 7:** Take a look at the `mtcars` data set. Is there an association between `cyl` and `gear` variables? Run a statistical test to answer the question. Treat these variables as **categorical**. Which test should you use? **Why?**"
   ]
  },
  {
   "cell_type": "code",
   "execution_count": null,
   "metadata": {},
   "outputs": [],
   "source": [
    "head(mtcars)\n",
    "mtcars$cyl <- as.factor(mtcars$cyl)\n",
    "mtcars$gear <- as.factor(mtcars$gear)\n",
    "head(mtcars)"
   ]
  },
  {
   "cell_type": "code",
   "execution_count": null,
   "metadata": {},
   "outputs": [],
   "source": [
    "# YOUR CODE HERE \n",
    "\n",
    "\n",
    "\n"
   ]
  },
  {
   "cell_type": "raw",
   "metadata": {},
   "source": [
    "YOUR ANSWER HERE \n",
    "\n",
    "\n"
   ]
  }
 ],
 "metadata": {
  "kernelspec": {
   "display_name": "R",
   "language": "R",
   "name": "ir"
  },
  "language_info": {
   "codemirror_mode": "r",
   "file_extension": ".r",
   "mimetype": "text/x-r-source",
   "name": "R",
   "pygments_lexer": "r",
   "version": "4.0.5"
  }
 },
 "nbformat": 4,
 "nbformat_minor": 2
}
