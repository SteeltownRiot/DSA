{
 "cells": [
  {
   "cell_type": "markdown",
   "metadata": {},
   "source": [
    "# Module 6 Exercises\n",
    "\n",
    "\n",
    "\n",
    "Let x represent a sample collected from a normal population with unknown mean and standard deviation. We want to test if the population mean is equal to 9, at significance level alpha=0.05 .\n",
    "\n",
    "\n"
   ]
  },
  {
   "cell_type": "code",
   "execution_count": 16,
   "metadata": {},
   "outputs": [
    {
     "data": {
      "text/html": [
       "24"
      ],
      "text/latex": [
       "24"
      ],
      "text/markdown": [
       "24"
      ],
      "text/plain": [
       "[1] 24"
      ]
     },
     "metadata": {},
     "output_type": "display_data"
    }
   ],
   "source": [
    "x= c(6.2, 6.6, 7.1, 7.4, 7.6, 7.9, 8, 8.3, 8.4, 8.5, 8.6,\n",
    "+            + 8.8, 8.8, 9.1, 9.2, 9.4, 9.4, 9.7, 9.9, 10.2, 10.4, 10.8,\n",
    "+            + 11.3, 11.9)  \n",
    "\n",
    "length(x)\n"
   ]
  },
  {
   "cell_type": "markdown",
   "metadata": {},
   "source": [
    "**Activity 1:** Which statistical test should we use to find out if the population mean is equal to 9? Why? "
   ]
  },
  {
   "cell_type": "raw",
   "metadata": {},
   "source": [
    "YOUR ANSWER HERE: \n",
    "We should use a T-test because we have both an unknown population standard deviation and a sample size smaller than 30.\n"
   ]
  },
  {
   "cell_type": "markdown",
   "metadata": {},
   "source": [
    "**Activity 2:** Write the null hypothesis and the alternate hypothesis in the cell below for the above question. "
   ]
  },
  {
   "cell_type": "raw",
   "metadata": {},
   "source": [
    "YOUR ANSWER HERE: \n",
    "H_0: μ = 9 and H_a: μ ≠ 9\n"
   ]
  },
  {
   "cell_type": "markdown",
   "metadata": {},
   "source": [
    "**Activity 3:** Run the test in the following code cell for the above question. Interpret the result. Pay attention to one-tailed or two-tailed when you compute the p-value. Do you reject the null hypothesis? What does it mean? "
   ]
  },
  {
   "cell_type": "code",
   "execution_count": 5,
   "metadata": {},
   "outputs": [
    {
     "data": {
      "image/png": "[encoded data removed]",
      "text/plain": [
       "Plot with title “Normal Q-Q Plot”"
      ]
     },
     "metadata": {
      "image/png": {
       "height": 420,
       "width": 420
      }
     },
     "output_type": "display_data"
    }
   ],
   "source": [
    "# YOUR CODE HERE \n",
    "qqnorm(x)\n",
    "qqline(x)\n"
   ]
  },
  {
   "cell_type": "code",
   "execution_count": 25,
   "metadata": {},
   "outputs": [
    {
     "data": {
      "text/plain": [
       "\n",
       "\tOne Sample t-test\n",
       "\n",
       "data:  x\n",
       "t = -0.35687, df = 23, p-value = 0.7244\n",
       "alternative hypothesis: true mean is not equal to 9\n",
       "95 percent confidence interval:\n",
       " 8.292017 9.499649\n",
       "sample estimates:\n",
       "mean of x \n",
       " 8.895833 \n"
      ]
     },
     "metadata": {},
     "output_type": "display_data"
    },
    {
     "data": {
      "text/html": [
       "'Critical value is 1.96'"
      ],
      "text/latex": [
       "'Critical value is 1.96'"
      ],
      "text/markdown": [
       "'Critical value is 1.96'"
      ],
      "text/plain": [
       "[1] \"Critical value is 1.96\""
      ]
     },
     "metadata": {},
     "output_type": "display_data"
    }
   ],
   "source": [
    "# mubar = mean(x)    # sample mean \n",
    "# mu = 9             # population mean \n",
    "# n = length(x)      # sample size \n",
    "# s =                # population standard deviation \n",
    "# z <- (mubar-mu)/(s/sqrt(n))\n",
    "# z\n",
    "\n",
    "# n = length(x)           # sample size\n",
    "# S = var(x) * (n-1)/n    # variance\n",
    "# mubar = mean(x)         # sample mean \n",
    "# mu = 9                  # population mean\n",
    "\n",
    "# t = (mubar-mu)/(S/sqrt(n))\n",
    "#paste(\"T-value is\",round(t,4))\n",
    "\n",
    "t.value <- t.test(x, mu = 9)\n",
    "t.value\n",
    "\n",
    "paste(\"Critical value is\",abs(round(qnorm(0.025),2)))"
   ]
  },
  {
   "cell_type": "code",
   "execution_count": 22,
   "metadata": {},
   "outputs": [],
   "source": [
    "# Two-tailed because we are working an inequality\n",
    "#qnorm(0.025)\n",
    "\n",
    "#d_f = n - 1\n",
    "\n",
    "#p.value <- pt(t, df=d_f, lower.tail=FALSE)\n",
    "#paste(\"P-value is\",round(p.value,2))"
   ]
  },
  {
   "cell_type": "raw",
   "metadata": {},
   "source": [
    "YOUR ANSWER HERE:\n",
    "The P-value is not greater than the critical value, so we reject the null hypothesis.\n",
    " "
   ]
  },
  {
   "cell_type": "markdown",
   "metadata": {},
   "source": [
    "**Activity 4:**  We have measured the weight of 100 individuals: 50 women (group A) and 50 men (group B). We want to know if the mean weight of women (mA) is significantly different from that of men (mB).\n",
    "\n",
    "You will run a two-sample **t.test** to answer the question."
   ]
  },
  {
   "cell_type": "code",
   "execution_count": 7,
   "metadata": {},
   "outputs": [
    {
     "data": {
      "text/html": [
       "<table class=\"dataframe\">\n",
       "<caption>A data.frame: 18 × 2</caption>\n",
       "<thead>\n",
       "\t<tr><th scope=col>group</th><th scope=col>weight</th></tr>\n",
       "\t<tr><th scope=col>&lt;chr&gt;</th><th scope=col>&lt;dbl&gt;</th></tr>\n",
       "</thead>\n",
       "<tbody>\n",
       "\t<tr><td>Woman</td><td>38.9</td></tr>\n",
       "\t<tr><td>Woman</td><td>61.2</td></tr>\n",
       "\t<tr><td>Woman</td><td>73.3</td></tr>\n",
       "\t<tr><td>Woman</td><td>21.8</td></tr>\n",
       "\t<tr><td>Woman</td><td>63.4</td></tr>\n",
       "\t<tr><td>Woman</td><td>64.6</td></tr>\n",
       "\t<tr><td>Woman</td><td>48.4</td></tr>\n",
       "\t<tr><td>Woman</td><td>48.8</td></tr>\n",
       "\t<tr><td>Woman</td><td>48.5</td></tr>\n",
       "\t<tr><td>Man  </td><td>67.8</td></tr>\n",
       "\t<tr><td>Man  </td><td>60.0</td></tr>\n",
       "\t<tr><td>Man  </td><td>63.4</td></tr>\n",
       "\t<tr><td>Man  </td><td>76.0</td></tr>\n",
       "\t<tr><td>Man  </td><td>89.4</td></tr>\n",
       "\t<tr><td>Man  </td><td>73.3</td></tr>\n",
       "\t<tr><td>Man  </td><td>67.3</td></tr>\n",
       "\t<tr><td>Man  </td><td>61.3</td></tr>\n",
       "\t<tr><td>Man  </td><td>62.4</td></tr>\n",
       "</tbody>\n",
       "</table>\n"
      ],
      "text/latex": [
       "A data.frame: 18 × 2\n",
       "\\begin{tabular}{ll}\n",
       " group & weight\\\\\n",
       " <chr> & <dbl>\\\\\n",
       "\\hline\n",
       "\t Woman & 38.9\\\\\n",
       "\t Woman & 61.2\\\\\n",
       "\t Woman & 73.3\\\\\n",
       "\t Woman & 21.8\\\\\n",
       "\t Woman & 63.4\\\\\n",
       "\t Woman & 64.6\\\\\n",
       "\t Woman & 48.4\\\\\n",
       "\t Woman & 48.8\\\\\n",
       "\t Woman & 48.5\\\\\n",
       "\t Man   & 67.8\\\\\n",
       "\t Man   & 60.0\\\\\n",
       "\t Man   & 63.4\\\\\n",
       "\t Man   & 76.0\\\\\n",
       "\t Man   & 89.4\\\\\n",
       "\t Man   & 73.3\\\\\n",
       "\t Man   & 67.3\\\\\n",
       "\t Man   & 61.3\\\\\n",
       "\t Man   & 62.4\\\\\n",
       "\\end{tabular}\n"
      ],
      "text/markdown": [
       "\n",
       "A data.frame: 18 × 2\n",
       "\n",
       "| group &lt;chr&gt; | weight &lt;dbl&gt; |\n",
       "|---|---|\n",
       "| Woman | 38.9 |\n",
       "| Woman | 61.2 |\n",
       "| Woman | 73.3 |\n",
       "| Woman | 21.8 |\n",
       "| Woman | 63.4 |\n",
       "| Woman | 64.6 |\n",
       "| Woman | 48.4 |\n",
       "| Woman | 48.8 |\n",
       "| Woman | 48.5 |\n",
       "| Man   | 67.8 |\n",
       "| Man   | 60.0 |\n",
       "| Man   | 63.4 |\n",
       "| Man   | 76.0 |\n",
       "| Man   | 89.4 |\n",
       "| Man   | 73.3 |\n",
       "| Man   | 67.3 |\n",
       "| Man   | 61.3 |\n",
       "| Man   | 62.4 |\n",
       "\n"
      ],
      "text/plain": [
       "   group weight\n",
       "1  Woman 38.9  \n",
       "2  Woman 61.2  \n",
       "3  Woman 73.3  \n",
       "4  Woman 21.8  \n",
       "5  Woman 63.4  \n",
       "6  Woman 64.6  \n",
       "7  Woman 48.4  \n",
       "8  Woman 48.8  \n",
       "9  Woman 48.5  \n",
       "10 Man   67.8  \n",
       "11 Man   60.0  \n",
       "12 Man   63.4  \n",
       "13 Man   76.0  \n",
       "14 Man   89.4  \n",
       "15 Man   73.3  \n",
       "16 Man   67.3  \n",
       "17 Man   61.3  \n",
       "18 Man   62.4  "
      ]
     },
     "metadata": {},
     "output_type": "display_data"
    }
   ],
   "source": [
    "# Data in two numeric vectors\n",
    "women_weight <- c(38.9, 61.2, 73.3, 21.8, 63.4, 64.6, 48.4, 48.8, 48.5)\n",
    "men_weight <- c(67.8, 60, 63.4, 76, 89.4, 73.3, 67.3, 61.3, 62.4) \n",
    "# Create a data frame\n",
    "my_data <- data.frame( \n",
    "                group = rep(c(\"Woman\", \"Man\"), each = 9),\n",
    "                weight = c(women_weight,  men_weight)\n",
    "                )\n",
    "\n",
    "my_data"
   ]
  },
  {
   "cell_type": "markdown",
   "metadata": {},
   "source": [
    "**Activity 4a:** Visualize the mean and standard deviations of both groups using side by side boxplots. "
   ]
  },
  {
   "cell_type": "code",
   "execution_count": 8,
   "metadata": {},
   "outputs": [
    {
     "name": "stderr",
     "output_type": "stream",
     "text": [
      "── \u001b[1mAttaching packages\u001b[22m ─────────────────────────────────────── tidyverse 1.3.1 ──\n",
      "\n",
      "\u001b[32m✔\u001b[39m \u001b[34mggplot2\u001b[39m 3.3.3     \u001b[32m✔\u001b[39m \u001b[34mpurrr  \u001b[39m 0.3.4\n",
      "\u001b[32m✔\u001b[39m \u001b[34mtibble \u001b[39m 3.1.1     \u001b[32m✔\u001b[39m \u001b[34mdplyr  \u001b[39m 1.0.6\n",
      "\u001b[32m✔\u001b[39m \u001b[34mtidyr  \u001b[39m 1.1.3     \u001b[32m✔\u001b[39m \u001b[34mstringr\u001b[39m 1.4.0\n",
      "\u001b[32m✔\u001b[39m \u001b[34mreadr  \u001b[39m 1.4.0     \u001b[32m✔\u001b[39m \u001b[34mforcats\u001b[39m 0.5.1\n",
      "\n",
      "── \u001b[1mConflicts\u001b[22m ────────────────────────────────────────── tidyverse_conflicts() ──\n",
      "\u001b[31m✖\u001b[39m \u001b[34mdplyr\u001b[39m::\u001b[32mfilter()\u001b[39m masks \u001b[34mstats\u001b[39m::filter()\n",
      "\u001b[31m✖\u001b[39m \u001b[34mdplyr\u001b[39m::\u001b[32mlag()\u001b[39m    masks \u001b[34mstats\u001b[39m::lag()\n",
      "\n"
     ]
    },
    {
     "data": {
      "image/png": "[encoded data removed]",
      "text/plain": [
       "plot without title"
      ]
     },
     "metadata": {
      "image/png": {
       "height": 420,
       "width": 420
      }
     },
     "output_type": "display_data"
    }
   ],
   "source": [
    "# YOUR CODE HERE \n",
    "library(tidyverse)\n",
    "\n",
    "qplot(x = group, y = weight,\n",
    "      geom = \"boxplot\", data = my_data,\n",
    "      xlab = \"Group\", \n",
    "      ylab = \"Weight\",\n",
    "      fill = I(\"lightblue\"))\n"
   ]
  },
  {
   "cell_type": "markdown",
   "metadata": {},
   "source": [
    "**Activity 4b:** Plot a Q-Q plot for both groups to check for normality. (Alternatively, use `shapiro.test()` to check the normality if you want)"
   ]
  },
  {
   "cell_type": "code",
   "execution_count": 9,
   "metadata": {},
   "outputs": [
    {
     "data": {
      "image/png": "[encoded data removed]",
      "text/plain": [
       "plot without title"
      ]
     },
     "metadata": {
      "image/png": {
       "height": 420,
       "width": 420
      }
     },
     "output_type": "display_data"
    }
   ],
   "source": [
    "# YOUR CODE HERE \n",
    "p.weight <- ggplot(data = my_data, aes(sample = weight))\n",
    "\n",
    "p.weight + stat_qq() + stat_qq_line()\n"
   ]
  },
  {
   "cell_type": "markdown",
   "metadata": {},
   "source": [
    "**Activity 4c:** Run your test in the below code cell, interpret the results. Does the test reject the null hypothesis? \n",
    "\n",
    "(You can assume that these two samples have equal variance. If you don't believe, try `var.test()` to check for that assumption.) "
   ]
  },
  {
   "cell_type": "code",
   "execution_count": 10,
   "metadata": {},
   "outputs": [
    {
     "data": {
      "text/html": [
       "<table class=\"dataframe\">\n",
       "<caption>A tibble: 2 × 5</caption>\n",
       "<thead>\n",
       "\t<tr><th scope=col>group</th><th scope=col>num.obs</th><th scope=col>mean.weight</th><th scope=col>sd.weight</th><th scope=col>se.weight</th></tr>\n",
       "\t<tr><th scope=col>&lt;chr&gt;</th><th scope=col>&lt;int&gt;</th><th scope=col>&lt;dbl&gt;</th><th scope=col>&lt;dbl&gt;</th><th scope=col>&lt;dbl&gt;</th></tr>\n",
       "</thead>\n",
       "<tbody>\n",
       "\t<tr><td>Man  </td><td>9</td><td>69</td><td> 9</td><td>3</td></tr>\n",
       "\t<tr><td>Woman</td><td>9</td><td>52</td><td>16</td><td>5</td></tr>\n",
       "</tbody>\n",
       "</table>\n"
      ],
      "text/latex": [
       "A tibble: 2 × 5\n",
       "\\begin{tabular}{lllll}\n",
       " group & num.obs & mean.weight & sd.weight & se.weight\\\\\n",
       " <chr> & <int> & <dbl> & <dbl> & <dbl>\\\\\n",
       "\\hline\n",
       "\t Man   & 9 & 69 &  9 & 3\\\\\n",
       "\t Woman & 9 & 52 & 16 & 5\\\\\n",
       "\\end{tabular}\n"
      ],
      "text/markdown": [
       "\n",
       "A tibble: 2 × 5\n",
       "\n",
       "| group &lt;chr&gt; | num.obs &lt;int&gt; | mean.weight &lt;dbl&gt; | sd.weight &lt;dbl&gt; | se.weight &lt;dbl&gt; |\n",
       "|---|---|---|---|---|\n",
       "| Man   | 9 | 69 |  9 | 3 |\n",
       "| Woman | 9 | 52 | 16 | 5 |\n",
       "\n"
      ],
      "text/plain": [
       "  group num.obs mean.weight sd.weight se.weight\n",
       "1 Man   9       69           9        3        \n",
       "2 Woman 9       52          16        5        "
      ]
     },
     "metadata": {},
     "output_type": "display_data"
    }
   ],
   "source": [
    "# YOUR CODE HERE \n",
    "my_data %>%\n",
    "  group_by(group) %>%\n",
    "  summarize(num.obs = n(),\n",
    "            mean.weight = round(mean(weight), 0),\n",
    "            sd.weight = round(sd(weight), 0),\n",
    "            se.weight = round(sd(weight) / sqrt(num.obs), 0))\n"
   ]
  },
  {
   "cell_type": "code",
   "execution_count": 11,
   "metadata": {},
   "outputs": [
    {
     "data": {
      "text/plain": [
       "\n",
       "\tWelch Two Sample t-test\n",
       "\n",
       "data:  weight by group\n",
       "t = 2.7842, df = 13.114, p-value = 0.01538\n",
       "alternative hypothesis: true difference in means is not equal to 0\n",
       "95 percent confidence interval:\n",
       "  3.795858 29.981920\n",
       "sample estimates:\n",
       "  mean in group Man mean in group Woman \n",
       "           68.98889            52.10000 \n"
      ]
     },
     "metadata": {},
     "output_type": "display_data"
    }
   ],
   "source": [
    "#weight.t.test <- t.test(weight ~ group, data = my_data, alternative=\"two.sided\", var.equal=T, conf.level=)\n",
    "weight.t.test <- t.test(weight ~ group, data = my_data)\n",
    "weight.t.test"
   ]
  },
  {
   "cell_type": "raw",
   "metadata": {},
   "source": [
    "The p-value is small and the difference is significant so we can reject the null hypothesis."
   ]
  },
  {
   "cell_type": "markdown",
   "metadata": {},
   "source": [
    "**Activity 5:** Suppose that the mean weight of King Penguins found in an Antarctic colony last year was 34.0 pounds. In a **sample of 35 penguins** same time this year in the same colony, the mean penguin weight is 32.2 pounds. Assume the **population** standard deviation is 5.51 pounds. At alpha=0.05 significance level, can we reject the null hypothesis that the mean penguin weight does not differ from last year?"
   ]
  },
  {
   "cell_type": "markdown",
   "metadata": {},
   "source": [
    "**Activity 5a:** What ttype of statistical testing should you run to answer this question? Why? "
   ]
  },
  {
   "cell_type": "raw",
   "metadata": {},
   "source": [
    "YOUR ANSWER HERE: \n",
    "We should use a Z-test because we are comparing the difference between means with a sample size larger than 30.\n"
   ]
  },
  {
   "cell_type": "markdown",
   "metadata": {},
   "source": [
    "**Activity 5b:** Write your $H_0$ and $H_1$:"
   ]
  },
  {
   "cell_type": "raw",
   "metadata": {},
   "source": [
    "YOUR ANSWER HERE: \n",
    "H_0: μ = 34 and H_a: μ ≠ 34\n"
   ]
  },
  {
   "cell_type": "markdown",
   "metadata": {},
   "source": [
    "**Activity 5c:** Run your test in the below code cell, interpret the results. Does the test reject the null hypothesis? \n"
   ]
  },
  {
   "cell_type": "code",
   "execution_count": 13,
   "metadata": {},
   "outputs": [
    {
     "data": {
      "text/html": [
       "'Z-value is 1.93'"
      ],
      "text/latex": [
       "'Z-value is 1.93'"
      ],
      "text/markdown": [
       "'Z-value is 1.93'"
      ],
      "text/plain": [
       "[1] \"Z-value is 1.93\""
      ]
     },
     "metadata": {},
     "output_type": "display_data"
    },
    {
     "data": {
      "text/html": [
       "'Critical value is 1.96'"
      ],
      "text/latex": [
       "'Critical value is 1.96'"
      ],
      "text/markdown": [
       "'Critical value is 1.96'"
      ],
      "text/plain": [
       "[1] \"Critical value is 1.96\""
      ]
     },
     "metadata": {},
     "output_type": "display_data"
    },
    {
     "data": {
      "text/html": [
       "'P-value is 0.9734'"
      ],
      "text/latex": [
       "'P-value is 0.9734'"
      ],
      "text/markdown": [
       "'P-value is 0.9734'"
      ],
      "text/plain": [
       "[1] \"P-value is 0.9734\""
      ]
     },
     "metadata": {},
     "output_type": "display_data"
    }
   ],
   "source": [
    "# YOUR CODE HERE \n",
    "\n",
    "# mubar = 32.2 # sample mean \n",
    "\n",
    "# mu = 34.0 # population mean \n",
    "\n",
    "# n = 35 # sample size \n",
    "\n",
    "# s = 5.51  # population standard deviation \n",
    "\n",
    "# t <- (mubar-mu)/(s/sqrt(n))\n",
    "# t\n",
    "\n",
    "# pt(t, df=34, lower.tail=FALSE)\n",
    "\n",
    "\n",
    "mubar = 32.2  # sample mean \n",
    "mu = 34.0     # population mean \n",
    "sigma = 5.51  # population standard deviation \n",
    "n = 35        # sample size \n",
    "z = (mubar-mu)/(sigma/sqrt(n))\n",
    "paste(\"Z-value is\",abs(round(z,2)))\n",
    "\n",
    "alpha=0.025\n",
    "\n",
    "z.alpha = qnorm(alpha, lower.tail=FALSE)\n",
    "paste(\"Critical value is\",round(z.alpha,2))\n",
    "\n",
    "pval = pnorm(z, lower.tail=FALSE)\n",
    "paste(\"P-value is\",round(pval,4))\n"
   ]
  },
  {
   "cell_type": "raw",
   "metadata": {},
   "source": [
    "The p-value is larger than our alpha and our critical vaule is 1.96, which is more than the t-value, so we cannot reject the null hypothesis."
   ]
  },
  {
   "cell_type": "markdown",
   "metadata": {},
   "source": [
    "**Activity 6:** Imagine we have collected a random sample of 31 energy bars from a number of different stores to represent the population of energy bars available to the general consumer. The labels on the bars claim that each bar contains 20 grams of protein.\n",
    "\n",
    "Run a statistical test at alpha=0.05 to see if the labels are correct. Your null hypothesis is $H_0: \\mu=20$."
   ]
  },
  {
   "cell_type": "code",
   "execution_count": 14,
   "metadata": {},
   "outputs": [],
   "source": [
    "protein <- c(20.70,27.46,22.15,19.85,21.29,24.75,\n",
    "+ 20.75,22.91,25.34,20.33,21.54,21.08,\n",
    "+ 22.14,19.56,21.10,18.04,24.12,19.95,\n",
    "+ 19.72,18.28,16.26,17.46,20.53,22.12,\n",
    "+ 25.06,22.44,19.08,19.88,21.39,22.33,25.79)\n"
   ]
  },
  {
   "cell_type": "code",
   "execution_count": 20,
   "metadata": {},
   "outputs": [
    {
     "data": {
      "image/png": "[encoded data removed]",
      "text/plain": [
       "Plot with title “Normal Q-Q Plot”"
      ]
     },
     "metadata": {
      "image/png": {
       "height": 420,
       "width": 420
      }
     },
     "output_type": "display_data"
    }
   ],
   "source": [
    "qqnorm(protein)\n",
    "qqline(protein)"
   ]
  },
  {
   "cell_type": "code",
   "execution_count": 21,
   "metadata": {},
   "outputs": [
    {
     "data": {
      "text/plain": [
       "\n",
       "\tOne Sample t-test\n",
       "\n",
       "data:  protein\n",
       "t = 3.0668, df = 30, p-value = 0.004553\n",
       "alternative hypothesis: true mean is not equal to 20\n",
       "95 percent confidence interval:\n",
       " 20.46771 22.33229\n",
       "sample estimates:\n",
       "mean of x \n",
       "     21.4 \n"
      ]
     },
     "metadata": {},
     "output_type": "display_data"
    }
   ],
   "source": [
    "# mubar = mean(protein)    # sample mean \n",
    "# mu = 20                  # population mean \n",
    "# sigma =   # population standard deviation \n",
    "# n =         # sample size \n",
    "# z = (mubar-mu)/(sigma/sqrt(n))\n",
    "# paste(\"Z-value is\",abs(round(z,2)))\n",
    "\n",
    "# alpha=0.025\n",
    "\n",
    "# z.alpha = qnorm(alpha, lower.tail=FALSE)\n",
    "# paste(\"Critical value is\",round(z.alpha,2))\n",
    "\n",
    "# pval = pnorm(z, lower.tail=FALSE)\n",
    "# paste(\"P-value is\",round(pval,4))\n",
    "\n",
    "t.value <- t.test(protein, mu = 20)\n",
    "t.value"
   ]
  },
  {
   "cell_type": "raw",
   "metadata": {},
   "source": [
    "The p-value is small so we reject the null hypothesis"
   ]
  },
  {
   "cell_type": "markdown",
   "metadata": {},
   "source": [
    "**Activity 7:** Take a look at the `mtcars` data set. Is there an association between `cyl` and `gear` variables? Run a statistical test to answer the question. Treat these variables as **categorical**. Which test should you use? **Why?**"
   ]
  },
  {
   "cell_type": "code",
   "execution_count": 2,
   "metadata": {},
   "outputs": [
    {
     "data": {
      "text/html": [
       "<table class=\"dataframe\">\n",
       "<caption>A data.frame: 6 × 11</caption>\n",
       "<thead>\n",
       "\t<tr><th></th><th scope=col>mpg</th><th scope=col>cyl</th><th scope=col>disp</th><th scope=col>hp</th><th scope=col>drat</th><th scope=col>wt</th><th scope=col>qsec</th><th scope=col>vs</th><th scope=col>am</th><th scope=col>gear</th><th scope=col>carb</th></tr>\n",
       "\t<tr><th></th><th scope=col>&lt;dbl&gt;</th><th scope=col>&lt;dbl&gt;</th><th scope=col>&lt;dbl&gt;</th><th scope=col>&lt;dbl&gt;</th><th scope=col>&lt;dbl&gt;</th><th scope=col>&lt;dbl&gt;</th><th scope=col>&lt;dbl&gt;</th><th scope=col>&lt;dbl&gt;</th><th scope=col>&lt;dbl&gt;</th><th scope=col>&lt;dbl&gt;</th><th scope=col>&lt;dbl&gt;</th></tr>\n",
       "</thead>\n",
       "<tbody>\n",
       "\t<tr><th scope=row>Mazda RX4</th><td>21.0</td><td>6</td><td>160</td><td>110</td><td>3.90</td><td>2.620</td><td>16.46</td><td>0</td><td>1</td><td>4</td><td>4</td></tr>\n",
       "\t<tr><th scope=row>Mazda RX4 Wag</th><td>21.0</td><td>6</td><td>160</td><td>110</td><td>3.90</td><td>2.875</td><td>17.02</td><td>0</td><td>1</td><td>4</td><td>4</td></tr>\n",
       "\t<tr><th scope=row>Datsun 710</th><td>22.8</td><td>4</td><td>108</td><td> 93</td><td>3.85</td><td>2.320</td><td>18.61</td><td>1</td><td>1</td><td>4</td><td>1</td></tr>\n",
       "\t<tr><th scope=row>Hornet 4 Drive</th><td>21.4</td><td>6</td><td>258</td><td>110</td><td>3.08</td><td>3.215</td><td>19.44</td><td>1</td><td>0</td><td>3</td><td>1</td></tr>\n",
       "\t<tr><th scope=row>Hornet Sportabout</th><td>18.7</td><td>8</td><td>360</td><td>175</td><td>3.15</td><td>3.440</td><td>17.02</td><td>0</td><td>0</td><td>3</td><td>2</td></tr>\n",
       "\t<tr><th scope=row>Valiant</th><td>18.1</td><td>6</td><td>225</td><td>105</td><td>2.76</td><td>3.460</td><td>20.22</td><td>1</td><td>0</td><td>3</td><td>1</td></tr>\n",
       "</tbody>\n",
       "</table>\n"
      ],
      "text/latex": [
       "A data.frame: 6 × 11\n",
       "\\begin{tabular}{r|lllllllllll}\n",
       "  & mpg & cyl & disp & hp & drat & wt & qsec & vs & am & gear & carb\\\\\n",
       "  & <dbl> & <dbl> & <dbl> & <dbl> & <dbl> & <dbl> & <dbl> & <dbl> & <dbl> & <dbl> & <dbl>\\\\\n",
       "\\hline\n",
       "\tMazda RX4 & 21.0 & 6 & 160 & 110 & 3.90 & 2.620 & 16.46 & 0 & 1 & 4 & 4\\\\\n",
       "\tMazda RX4 Wag & 21.0 & 6 & 160 & 110 & 3.90 & 2.875 & 17.02 & 0 & 1 & 4 & 4\\\\\n",
       "\tDatsun 710 & 22.8 & 4 & 108 &  93 & 3.85 & 2.320 & 18.61 & 1 & 1 & 4 & 1\\\\\n",
       "\tHornet 4 Drive & 21.4 & 6 & 258 & 110 & 3.08 & 3.215 & 19.44 & 1 & 0 & 3 & 1\\\\\n",
       "\tHornet Sportabout & 18.7 & 8 & 360 & 175 & 3.15 & 3.440 & 17.02 & 0 & 0 & 3 & 2\\\\\n",
       "\tValiant & 18.1 & 6 & 225 & 105 & 2.76 & 3.460 & 20.22 & 1 & 0 & 3 & 1\\\\\n",
       "\\end{tabular}\n"
      ],
      "text/markdown": [
       "\n",
       "A data.frame: 6 × 11\n",
       "\n",
       "| <!--/--> | mpg &lt;dbl&gt; | cyl &lt;dbl&gt; | disp &lt;dbl&gt; | hp &lt;dbl&gt; | drat &lt;dbl&gt; | wt &lt;dbl&gt; | qsec &lt;dbl&gt; | vs &lt;dbl&gt; | am &lt;dbl&gt; | gear &lt;dbl&gt; | carb &lt;dbl&gt; |\n",
       "|---|---|---|---|---|---|---|---|---|---|---|---|\n",
       "| Mazda RX4 | 21.0 | 6 | 160 | 110 | 3.90 | 2.620 | 16.46 | 0 | 1 | 4 | 4 |\n",
       "| Mazda RX4 Wag | 21.0 | 6 | 160 | 110 | 3.90 | 2.875 | 17.02 | 0 | 1 | 4 | 4 |\n",
       "| Datsun 710 | 22.8 | 4 | 108 |  93 | 3.85 | 2.320 | 18.61 | 1 | 1 | 4 | 1 |\n",
       "| Hornet 4 Drive | 21.4 | 6 | 258 | 110 | 3.08 | 3.215 | 19.44 | 1 | 0 | 3 | 1 |\n",
       "| Hornet Sportabout | 18.7 | 8 | 360 | 175 | 3.15 | 3.440 | 17.02 | 0 | 0 | 3 | 2 |\n",
       "| Valiant | 18.1 | 6 | 225 | 105 | 2.76 | 3.460 | 20.22 | 1 | 0 | 3 | 1 |\n",
       "\n"
      ],
      "text/plain": [
       "                  mpg  cyl disp hp  drat wt    qsec  vs am gear carb\n",
       "Mazda RX4         21.0 6   160  110 3.90 2.620 16.46 0  1  4    4   \n",
       "Mazda RX4 Wag     21.0 6   160  110 3.90 2.875 17.02 0  1  4    4   \n",
       "Datsun 710        22.8 4   108   93 3.85 2.320 18.61 1  1  4    1   \n",
       "Hornet 4 Drive    21.4 6   258  110 3.08 3.215 19.44 1  0  3    1   \n",
       "Hornet Sportabout 18.7 8   360  175 3.15 3.440 17.02 0  0  3    2   \n",
       "Valiant           18.1 6   225  105 2.76 3.460 20.22 1  0  3    1   "
      ]
     },
     "metadata": {},
     "output_type": "display_data"
    },
    {
     "data": {
      "text/html": [
       "<table class=\"dataframe\">\n",
       "<caption>A data.frame: 6 × 11</caption>\n",
       "<thead>\n",
       "\t<tr><th></th><th scope=col>mpg</th><th scope=col>cyl</th><th scope=col>disp</th><th scope=col>hp</th><th scope=col>drat</th><th scope=col>wt</th><th scope=col>qsec</th><th scope=col>vs</th><th scope=col>am</th><th scope=col>gear</th><th scope=col>carb</th></tr>\n",
       "\t<tr><th></th><th scope=col>&lt;dbl&gt;</th><th scope=col>&lt;fct&gt;</th><th scope=col>&lt;dbl&gt;</th><th scope=col>&lt;dbl&gt;</th><th scope=col>&lt;dbl&gt;</th><th scope=col>&lt;dbl&gt;</th><th scope=col>&lt;dbl&gt;</th><th scope=col>&lt;dbl&gt;</th><th scope=col>&lt;dbl&gt;</th><th scope=col>&lt;fct&gt;</th><th scope=col>&lt;dbl&gt;</th></tr>\n",
       "</thead>\n",
       "<tbody>\n",
       "\t<tr><th scope=row>Mazda RX4</th><td>21.0</td><td>6</td><td>160</td><td>110</td><td>3.90</td><td>2.620</td><td>16.46</td><td>0</td><td>1</td><td>4</td><td>4</td></tr>\n",
       "\t<tr><th scope=row>Mazda RX4 Wag</th><td>21.0</td><td>6</td><td>160</td><td>110</td><td>3.90</td><td>2.875</td><td>17.02</td><td>0</td><td>1</td><td>4</td><td>4</td></tr>\n",
       "\t<tr><th scope=row>Datsun 710</th><td>22.8</td><td>4</td><td>108</td><td> 93</td><td>3.85</td><td>2.320</td><td>18.61</td><td>1</td><td>1</td><td>4</td><td>1</td></tr>\n",
       "\t<tr><th scope=row>Hornet 4 Drive</th><td>21.4</td><td>6</td><td>258</td><td>110</td><td>3.08</td><td>3.215</td><td>19.44</td><td>1</td><td>0</td><td>3</td><td>1</td></tr>\n",
       "\t<tr><th scope=row>Hornet Sportabout</th><td>18.7</td><td>8</td><td>360</td><td>175</td><td>3.15</td><td>3.440</td><td>17.02</td><td>0</td><td>0</td><td>3</td><td>2</td></tr>\n",
       "\t<tr><th scope=row>Valiant</th><td>18.1</td><td>6</td><td>225</td><td>105</td><td>2.76</td><td>3.460</td><td>20.22</td><td>1</td><td>0</td><td>3</td><td>1</td></tr>\n",
       "</tbody>\n",
       "</table>\n"
      ],
      "text/latex": [
       "A data.frame: 6 × 11\n",
       "\\begin{tabular}{r|lllllllllll}\n",
       "  & mpg & cyl & disp & hp & drat & wt & qsec & vs & am & gear & carb\\\\\n",
       "  & <dbl> & <fct> & <dbl> & <dbl> & <dbl> & <dbl> & <dbl> & <dbl> & <dbl> & <fct> & <dbl>\\\\\n",
       "\\hline\n",
       "\tMazda RX4 & 21.0 & 6 & 160 & 110 & 3.90 & 2.620 & 16.46 & 0 & 1 & 4 & 4\\\\\n",
       "\tMazda RX4 Wag & 21.0 & 6 & 160 & 110 & 3.90 & 2.875 & 17.02 & 0 & 1 & 4 & 4\\\\\n",
       "\tDatsun 710 & 22.8 & 4 & 108 &  93 & 3.85 & 2.320 & 18.61 & 1 & 1 & 4 & 1\\\\\n",
       "\tHornet 4 Drive & 21.4 & 6 & 258 & 110 & 3.08 & 3.215 & 19.44 & 1 & 0 & 3 & 1\\\\\n",
       "\tHornet Sportabout & 18.7 & 8 & 360 & 175 & 3.15 & 3.440 & 17.02 & 0 & 0 & 3 & 2\\\\\n",
       "\tValiant & 18.1 & 6 & 225 & 105 & 2.76 & 3.460 & 20.22 & 1 & 0 & 3 & 1\\\\\n",
       "\\end{tabular}\n"
      ],
      "text/markdown": [
       "\n",
       "A data.frame: 6 × 11\n",
       "\n",
       "| <!--/--> | mpg &lt;dbl&gt; | cyl &lt;fct&gt; | disp &lt;dbl&gt; | hp &lt;dbl&gt; | drat &lt;dbl&gt; | wt &lt;dbl&gt; | qsec &lt;dbl&gt; | vs &lt;dbl&gt; | am &lt;dbl&gt; | gear &lt;fct&gt; | carb &lt;dbl&gt; |\n",
       "|---|---|---|---|---|---|---|---|---|---|---|---|\n",
       "| Mazda RX4 | 21.0 | 6 | 160 | 110 | 3.90 | 2.620 | 16.46 | 0 | 1 | 4 | 4 |\n",
       "| Mazda RX4 Wag | 21.0 | 6 | 160 | 110 | 3.90 | 2.875 | 17.02 | 0 | 1 | 4 | 4 |\n",
       "| Datsun 710 | 22.8 | 4 | 108 |  93 | 3.85 | 2.320 | 18.61 | 1 | 1 | 4 | 1 |\n",
       "| Hornet 4 Drive | 21.4 | 6 | 258 | 110 | 3.08 | 3.215 | 19.44 | 1 | 0 | 3 | 1 |\n",
       "| Hornet Sportabout | 18.7 | 8 | 360 | 175 | 3.15 | 3.440 | 17.02 | 0 | 0 | 3 | 2 |\n",
       "| Valiant | 18.1 | 6 | 225 | 105 | 2.76 | 3.460 | 20.22 | 1 | 0 | 3 | 1 |\n",
       "\n"
      ],
      "text/plain": [
       "                  mpg  cyl disp hp  drat wt    qsec  vs am gear carb\n",
       "Mazda RX4         21.0 6   160  110 3.90 2.620 16.46 0  1  4    4   \n",
       "Mazda RX4 Wag     21.0 6   160  110 3.90 2.875 17.02 0  1  4    4   \n",
       "Datsun 710        22.8 4   108   93 3.85 2.320 18.61 1  1  4    1   \n",
       "Hornet 4 Drive    21.4 6   258  110 3.08 3.215 19.44 1  0  3    1   \n",
       "Hornet Sportabout 18.7 8   360  175 3.15 3.440 17.02 0  0  3    2   \n",
       "Valiant           18.1 6   225  105 2.76 3.460 20.22 1  0  3    1   "
      ]
     },
     "metadata": {},
     "output_type": "display_data"
    }
   ],
   "source": [
    "head(mtcars)\n",
    "mtcars$cyl <- as.factor(mtcars$cyl)\n",
    "mtcars$gear <- as.factor(mtcars$gear)\n",
    "head(mtcars)"
   ]
  },
  {
   "cell_type": "raw",
   "metadata": {},
   "source": [
    "We should use Chi-squared or Fisher's Exact Test because the data is categorical instead of continuous."
   ]
  },
  {
   "cell_type": "code",
   "execution_count": 6,
   "metadata": {},
   "outputs": [
    {
     "data": {
      "text/plain": [
       "\n",
       "\tFisher's Exact Test for Count Data\n",
       "\n",
       "data:  table(mtcars$cyl, mtcars$gear)\n",
       "p-value = 8.26e-05\n",
       "alternative hypothesis: two.sided\n"
      ]
     },
     "metadata": {},
     "output_type": "display_data"
    }
   ],
   "source": [
    "# YOUR CODE HERE \n",
    "# Got the “Chi-squared approximation may be incorrect” warning\n",
    "#chi.test <- chisq.test(table(mtcars$cyl, mtcars$gear))\n",
    "#chi.test\n",
    "\n",
    "fisher_test <- fisher.test(table(mtcars$cyl, mtcars$gear))\n",
    "fisher_test"
   ]
  },
  {
   "cell_type": "raw",
   "metadata": {},
   "source": [
    "YOUR ANSWER HERE \n",
    "P-value is very low showing there is an association between cyl and gear.\n"
   ]
  }
 ],
 "metadata": {
  "kernelspec": {
   "display_name": "R",
   "language": "R",
   "name": "ir"
  },
  "language_info": {
   "codemirror_mode": "r",
   "file_extension": ".r",
   "mimetype": "text/x-r-source",
   "name": "R",
   "pygments_lexer": "r",
   "version": "4.0.5"
  }
 },
 "nbformat": 4,
 "nbformat_minor": 2
}
