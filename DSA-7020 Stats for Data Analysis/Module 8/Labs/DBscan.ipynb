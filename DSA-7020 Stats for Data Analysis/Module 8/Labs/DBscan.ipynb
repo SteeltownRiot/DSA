{
 "cells": [
  {
   "cell_type": "markdown",
   "metadata": {},
   "source": [
    "# Density-Based Clustering\n",
    "\n",
    "Previous clustering techniques we have seen, for example k-means, \n",
    "can create convex (generally round) clusters. Many times, clusters may have different shapes including non-convex shapes. \n",
    "In these cases, a local density measurement can provide a more robust determination of cluster membership.\n",
    "\n",
    "Below is a sample data set that demonstrates the clusters with shapes other than round or convex. K-means would have hard time to find the \"correct\" clusters here. \n"
   ]
  },
  {
   "cell_type": "code",
   "execution_count": null,
   "metadata": {},
   "outputs": [],
   "source": [
    "library(factoextra)\n",
    "library(ggplot2)\n",
    "data(\"multishapes\", package = \"factoextra\")\n",
    "\n",
    "head(multishapes)\n",
    "ggplot(multishapes) + geom_point(aes(x=x,y=y, color=factor(shape)))"
   ]
  },
  {
   "cell_type": "markdown",
   "metadata": {},
   "source": [
    "**DBSCAN** works by classifying points based on the characteristic of their local neighborhood. \n",
    "A point is a **core point** if a minimum number of points are within a given distance. \n",
    "These two parameters are algorithmically `eps` (or  $\\epsilon$ ) and `min_samples`. \n",
    "`eps` is the maximum distance between two points for them to still be considered in the same density neighborhood.  \n",
    "`min_samples` is the number of samples within a neighborhood for the current point to be considered a core point. \n",
    "\n",
    "A point is considered reachable from another point if there is a path consisting of core points between the starting and ending point. \n",
    "Any point that is not reachable is considered an **outlier**. "
   ]
  },
  {
   "cell_type": "markdown",
   "metadata": {},
   "source": [
    "The key idea is that for each point of a cluster, \n",
    "the neighborhood of a given radius has to contain at least a minimum number of points. \n",
    "The algorithm works as below...\n",
    "\n",
    "* First scan: For each point, compute the distance with all other points. Increment a neighbor count if the distance is smaller than \"eps\".\n",
    "\n",
    "* Second scan: For each point, mark it as a core point if its neighbor count is greater than or equal to `minpts`\n",
    "\n",
    "* Third scan: For each core point, if it is not already assigned a cluster, create a new cluster and assign that to this core point as well as all of its neighbors within `eps` radius.\n"
   ]
  },
  {
   "cell_type": "markdown",
   "metadata": {
    "collapsed": true
   },
   "source": [
    "**Unlike other cluster algorithms, density-based clustering can generate some outliers \n",
    "(data points that doesn't belong to any clusters). \n",
    "On the other hand, it can also detect clusters of arbitrary shapes. \n",
    "Clusters do not have to be ellipsoidal at all.** \n",
    "\n",
    "The figure below shows the different types of points \n",
    "(core, border and outlier points) using MinPts = 6. \n",
    "Here x is a core point because neighbors ϵ(x)$=6$, \n",
    "y is a border point because neighbors ϵ(y)$<MinPts$, \n",
    "but it belongs to the ϵ-neighborhood of the core point **x**. \n",
    "Finally, z is a noise point (outlier).\n",
    "\n",
    "<img src=\"../images/dbscan-principle.png\">\n",
    "\n",
    "Below we look at the R code to perform DBSCAN.\n",
    "We will first bind some data from the `factoextra` package."
   ]
  },
  {
   "cell_type": "code",
   "execution_count": null,
   "metadata": {},
   "outputs": [],
   "source": [
    "\n",
    "df <- multishapes[, 1:2]"
   ]
  },
  {
   "cell_type": "code",
   "execution_count": null,
   "metadata": {},
   "outputs": [],
   "source": [
    "# The function dbscan() in fpc package can be used to perform density based clustering\n",
    "\n",
    "library(\"fpc\")\n",
    "# Compute DBSCAN using fpc package\n",
    "set.seed(123)\n",
    "# eps is the radius of the boundary around each core point. MinPts defines number of elements that should be \n",
    "# within this boundary for a core point\n",
    "db <- dbscan(df, eps = 0.15, MinPts = 5)\n",
    "\n",
    "str(db)"
   ]
  },
  {
   "cell_type": "code",
   "execution_count": null,
   "metadata": {},
   "outputs": [],
   "source": [
    "# Plot DBSCAN results\n",
    "plot(db, df, main = \"DBSCAN\", frame = FALSE)\n",
    "\n",
    "# OR \n",
    "\n",
    "ggplot(df) + geom_point(aes(x=x,y=y, color=factor(db$cluster)))"
   ]
  },
  {
   "cell_type": "markdown",
   "metadata": {},
   "source": [
    "Consider the plot above, and contemplate the result you would expect from k-means.\n",
    "\n",
    " * What K would you pick for k-means?\n",
    " * What do you expect to happen?  \n",
    " \n",
    "Ponder the above questions, then run the cell below."
   ]
  },
  {
   "cell_type": "code",
   "execution_count": null,
   "metadata": {},
   "outputs": [],
   "source": [
    "# Apply kmeans clustering algorithm on df using a 5 clusters.\n",
    "km.fit = kmeans(df, 5, nstart = 20)\n",
    "\n",
    "# Clustering results\n",
    "summary(km.fit)"
   ]
  },
  {
   "cell_type": "code",
   "execution_count": null,
   "metadata": {},
   "outputs": [],
   "source": [
    "plot(df, col = (km.fit$cluster + 1), main = \"K-Means Clustering Results with K=5\", xlab = \"\", ylab= \"\", \n",
    "     pch = 20, cex = 2)"
   ]
  },
  {
   "cell_type": "code",
   "execution_count": null,
   "metadata": {},
   "outputs": [],
   "source": [
    "ggplot(df) + geom_point(aes(x=x,y=y, color=factor(km.fit$cluster)))"
   ]
  },
  {
   "cell_type": "markdown",
   "metadata": {},
   "source": [
    "Compare the results of clustering with K-means and DBSCAN. \n",
    "Is this what you expected from k-means?\n",
    "\n",
    "Go back to the code above and change the K value for k-means to examine the different results you could get.\n",
    "\n",
    "We can see from the image below that DBSCAN performs better for the dataset and can identify a more intuitive \n",
    "set of clusters compared to k-means algorithms.\n",
    "\n",
    "<img src=\"../images/kmeans_and_dbscan.JPG\">\n",
    "\n",
    "Now let's look at the internal information from the DBSCAN object that was produced."
   ]
  },
  {
   "cell_type": "code",
   "execution_count": null,
   "metadata": {},
   "outputs": [],
   "source": [
    "# Print DBSCAN\n",
    "print(db)"
   ]
  },
  {
   "cell_type": "markdown",
   "metadata": {},
   "source": [
    "In the table above, the column names represent the cluster number. \n",
    "Cluster 0 corresponds to outliers which are denoted using hollow circles in DBscab graph.\n",
    "Note, cluster 0 has no seed points and only border points.\n",
    "\n",
    "DBSCAN can find a suitable number of clusters for us; however there are still some parameters that have to be fed into the algorithm.\n",
    "DBSCAN requires the user to specify the optimal values for `eps` and `MinPts` parameters. \n",
    "The values used for `eps` (0.15) and `MinPts` (5) depends on user. \n",
    "The choice of $\\epsilon$ could be a disadvantage for DBSCAN as it is sensitive to $\\epsilon$ when \n",
    "clusters have different densities. \n",
    "\n",
    "\n",
    "- If $\\epsilon$ is too small, sparser clusters will be defined as noise. \n",
    "- If $\\epsilon$ is too large, denser clusters may be merged together. \n",
    "\n",
    "\n",
    "So, if there are clusters with different local densities, \n",
    "then a single $\\epsilon$ value will not give good results."
   ]
  },
  {
   "cell_type": "markdown",
   "metadata": {},
   "source": [
    "---\n",
    "\n",
    "<span style=\"color:#ce7721; font-size:18px; font-weight:700\">  Determine the optimal eps value\n",
    "\n",
    "Numerous techniques to choose an optimal `eps` have been developed.\n",
    "One approach is as follows.\n",
    "The k-nearest neighbor distances for the matrix of points are calculated as the average of the \n",
    "distances of every point to its k nearest neighbors. \n",
    "The value of k depends upon the user and typically corresponds to MinPts.\n",
    "\n",
    "These k-distances are plotted in an ascending order to determine the optimal eps parameter. \n",
    "The function `kNNdistplot()` in `dbscan` package is used to draw the k-distance plot."
   ]
  },
  {
   "cell_type": "code",
   "execution_count": null,
   "metadata": {},
   "outputs": [],
   "source": [
    "library(dbscan)"
   ]
  },
  {
   "cell_type": "markdown",
   "metadata": {},
   "source": [
    "`minPts` is often chosen as dimensionality of the data +1. \n",
    "Using the kNN distance plot below we can decide on epsilon value using the knee in the kNN distance plot."
   ]
  },
  {
   "cell_type": "code",
   "execution_count": null,
   "metadata": {},
   "outputs": [],
   "source": [
    "dbscan::kNNdistplot(df, k =  7)\n",
    "abline(h = 0.15, lty = 2,col='red')"
   ]
  },
  {
   "cell_type": "markdown",
   "metadata": {},
   "source": [
    "It can be seen that the optimal eps value is around a distance of 0.15.\n",
    "\n",
    "## <span style=\"background:yellow\">YOUR TURN</span>\n",
    "\n",
    "\n",
    "The **ruspini_scaled data** in package _cluster_ is a very simple data set with well separated clusters. \n",
    "Let's fit DBSCAN clustering model on that dataset."
   ]
  },
  {
   "cell_type": "code",
   "execution_count": null,
   "metadata": {},
   "outputs": [],
   "source": [
    "data(ruspini, package=\"cluster\")"
   ]
  },
  {
   "cell_type": "code",
   "execution_count": null,
   "metadata": {},
   "outputs": [],
   "source": [
    "head(ruspini)"
   ]
  },
  {
   "cell_type": "code",
   "execution_count": null,
   "metadata": {},
   "outputs": [],
   "source": [
    "plot(ruspini)"
   ]
  },
  {
   "cell_type": "markdown",
   "metadata": {},
   "source": [
    "Standardize the data to zero mean and unit standard deviation to prevent \n",
    "an attribute with a large range dominating others in the distance calculation."
   ]
  },
  {
   "cell_type": "code",
   "execution_count": null,
   "metadata": {},
   "outputs": [],
   "source": [
    "ruspini_scaled <- <what goes in here>\n",
    "\n"
   ]
  },
  {
   "cell_type": "markdown",
   "metadata": {},
   "source": [
    "Find `eps` value for ruspini_scaled data. "
   ]
  },
  {
   "cell_type": "code",
   "execution_count": null,
   "metadata": {},
   "outputs": [],
   "source": [
    "kNNdistplot(<what goes in here>)\n",
    "abline(<what goes in here>, col=\"red\")\n",
    "\n",
    "\n"
   ]
  },
  {
   "cell_type": "markdown",
   "metadata": {},
   "source": [
    "Fit `dbscan` model on ruspini_scaled using the eps value found above. "
   ]
  },
  {
   "cell_type": "code",
   "execution_count": null,
   "metadata": {},
   "outputs": [],
   "source": [
    "db <- dbscan(<what goes in here>)\n",
    "\n"
   ]
  },
  {
   "cell_type": "code",
   "execution_count": null,
   "metadata": {},
   "outputs": [],
   "source": [
    "str(db)"
   ]
  },
  {
   "cell_type": "markdown",
   "metadata": {},
   "source": [
    "Plot the clusters formed with dbscan. "
   ]
  },
  {
   "cell_type": "code",
   "execution_count": null,
   "metadata": {},
   "outputs": [],
   "source": [
    "plot(ruspini_scaled, col=db$cluster+1)"
   ]
  },
  {
   "cell_type": "markdown",
   "metadata": {},
   "source": [
    "DBSCAN package has alternative visualization to view the clusters formed. The same clusters as those above can be visualized using hullplot as shown below. "
   ]
  },
  {
   "cell_type": "code",
   "execution_count": null,
   "metadata": {},
   "outputs": [],
   "source": [
    "hullplot(ruspini_scaled, db)"
   ]
  },
  {
   "cell_type": "markdown",
   "metadata": {},
   "source": [
    "Try a different eps (neighborhood size) and MinPts (minimum of points needed for core cluster) to see how clusters differ. \n",
    "\n",
    "\n",
    "dig deeper: [dbscan: Fast Density-based Clustering with R](https://cran.r-project.org/web/packages/dbscan/vignettes/dbscan.pdf)\n",
    "\n",
    "# Save your notebook!"
   ]
  }
 ],
 "metadata": {
  "kernelspec": {
   "display_name": "R",
   "language": "R",
   "name": "ir"
  },
  "language_info": {
   "codemirror_mode": "r",
   "file_extension": ".r",
   "mimetype": "text/x-r-source",
   "name": "R",
   "pygments_lexer": "r",
   "version": "4.0.5"
  }
 },
 "nbformat": 4,
 "nbformat_minor": 1
}
