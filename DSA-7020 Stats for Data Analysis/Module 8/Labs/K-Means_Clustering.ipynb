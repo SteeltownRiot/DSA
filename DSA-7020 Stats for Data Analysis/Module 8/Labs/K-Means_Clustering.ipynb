{
 "cells": [
  {
   "cell_type": "markdown",
   "metadata": {},
   "source": [
    "# Clustering Data \n",
    "\n",
    "## Supervised vs. Unsupervised Learning\n",
    "\n",
    "\n",
    "Some of the methods we covered so far can be used in prediction through learning/fitting a model using the  **training** data. These are also called **supervised** methods as the training data contains categorical or numerical response to be learned by the model. \n",
    "\n",
    "In general, we can say that for each observation  $x_i$, where $i = 1, . . . , n$ there is an associated response $y_i$. \n",
    "The model is fit such that it relates the response to the independent variables, \n",
    "so that it can accurately predict the response for future observations. \n",
    "Linear regression or logistic regression are examples of such models. \n",
    "\n"
   ]
  },
  {
   "cell_type": "markdown",
   "metadata": {},
   "source": [
    "On the other hand, we may have data that does not come with any labels or response variables, or we may want to find **natural groupings** in the data as part of our exploratory data analysis. \n",
    "\n",
    "This is where we apply the concept of **cluster analysis** or clustering. We want to find out if observations form clusters so that each cluster contains a subset of the data that share common characteristics. We can define a distance metric or a similarity measure to decide how \"close\" two observations are and place them in the same cluster. \n",
    "\n",
    "\n",
    "This situation is referred to as **unsupervised** because we do not have a response variable from which a model is learned. \n",
    "\n",
    "---\n",
    "\n"
   ]
  },
  {
   "cell_type": "markdown",
   "metadata": {},
   "source": [
    "\n",
    "For example, \n",
    "in a market segmentation study we can try to cluster the customers on the basis of the variables measured, \n",
    "in order to identify distinct groups of potential customers. \n",
    "Identifying such groups can be of interest because it might be that the groups differ with \n",
    "respect to some property of interest, such as spending habits.\n",
    "\n",
    "The image below shows a clustering data set involving three groups. \n",
    "Each group is shown using a different colored symbol. \n",
    "The left image shows three groups that are well-separated. \n",
    "In this kind of setting, a clustering approach should successfully identify the three groups. \n",
    "In the right image, there is some overlap among the groups, wherein the clustering task is more challenging. \n",
    "\n",
    "Note that the colors and shapes are there only for the demonstration; in reality, we do **not** have the knowledge of which observation belongs to which group in the unsupervised setting. \n",
    "\n",
    "<img src=\"../images/cluster1.JPG\">\n",
    "\n"
   ]
  },
  {
   "cell_type": "markdown",
   "metadata": {},
   "source": [
    "One cannot expect a clustering method to assign all of the overlapping points to their correct group. \n",
    "\n",
    "\n",
    "In the example shown above, there are only two variables, so one could simply visually inspect the scatterplots of the observations in order to identify clusters. \n",
    "But in reality, data is high-dimensional, having many more than two variables. \n",
    "In those cases, it is not easy to understand the clusters in the high-dimensional space; we need algorithms that will cluster the data. \n",
    "\n",
    "**Note:**\n",
    "When performing clustering on data such as shown on the right, there is no _correct answer_.\n",
    "There are only some answers that are better or worse than others."
   ]
  },
  {
   "cell_type": "markdown",
   "metadata": {},
   "source": [
    "---\n",
    "\n",
    "## K-Means Clustering\n",
    "\n",
    "K-Means clustering is one of the simple and fast clustering algorithms. Here, the aim is to partition the data into a pre-specified number of **K** distinct, non-overlapping clusters. Once the desired number of clusters K is specified, \n",
    "K-means algorithm will assign each observation to exactly one of the K clusters. \n",
    "The observations satisfy the following two conditions:\n",
    "\n",
    "    i) Each observation belongs to at least one of the K clusters.\n",
    "    ii) The clusters are non-overlapping. No observation belongs to more than one cluster\n",
    "\n",
    "For instance, if the $i$th observation is in the $k$th cluster, then $i \\in C_k$ (Note: $\\in$ means \"is an element of\"). \n",
    "\n",
    "\n",
    "The idea behind K-means clustering is that a good clustering is one for which \n",
    "\n",
    " - the within-cluster variation is as small as possible (high intra-class similarity or low intra-class distance) \n",
    " - the between-cluster variation is as high as possible (low inter-class similarity or high inter-class distance) \n",
    " \n",
    " \n",
    " <img src=../images/distance.png>\n",
    " \n",
    "The within-cluster variation for cluster $C_k$ is a measure W($C_k$) of the amount \n",
    "by which the observations within a cluster differ from each other. \n",
    "Hence, we want to solve the problem in the below equation:\n",
    "\n",
    "$$\\underset{C1,...,CK}{\\mathrm{minimize}} \\bigg\\{\\sum_{k=1}^{K} W(C_k) \\bigg\\}  $$"
   ]
  },
  {
   "cell_type": "markdown",
   "metadata": {},
   "source": [
    "Simply, it says that we want to partition the observations into $K$ clusters \n",
    "such that the total within-cluster variation, summed over all _K_ clusters, is as small as possible. \n",
    "In order to make it actionable, we need to define the within-cluster variation. \n",
    "There are many possible ways to define this concept, \n",
    "but by far the most common choice involves **squared Euclidean distance**.\n",
    "That is, we define\n",
    "\n",
    "\n",
    "$$W(C_k) = \\frac{1}{|{C_k}|} \\sum_{i,\\ {i'} \\in C_k} \\sum_{j=1}^P({x_{ij}}-{x_{i'j}})^2 $$\n",
    "\n",
    "\n",
    "where |$C_k$| denotes the number of observations in the $k$th cluster. \n",
    "In other words, the within-cluster variation for the $k$th cluster is the sum of all of the \n",
    "pairwise squared Euclidean distances between the observations in the kth cluster, \n",
    "divided by the total number of observations in the kth cluster. "
   ]
  },
  {
   "cell_type": "markdown",
   "metadata": {},
   "source": [
    "Combining these two equations gives the optimization problem that defines K-means clustering,\n",
    "\n",
    "$$\\underset{C1,...,CK}{\\mathrm{minimize}} \\bigg\\{\\sum_{k=1}^{K} \\frac{1}{|{C_k}|} \\sum_{i,\\ {i'} \\in C_k} \\sum_{j=1}^P({x_{ij}}-{x_{i'j}})^2\\bigg\\}  $$\n",
    "\n",
    "We need an algorithm to solve the above equation that is, \n",
    "a method to partition the observations into K clusters such that the objective is minimized.\n",
    "\n",
    "\n",
    "It could be a very difficult problem to solve, \n",
    "since there are almost $K^n$ ways to partition $n$ observations into $K$ clusters. \n",
    "This is a huge number unless $K$ and $n$ are tiny. \n",
    "Fortunately, a very simple algorithm exists to provide a local optimum to \n",
    "the K-means optimization problem, which is laid out below."
   ]
  },
  {
   "cell_type": "markdown",
   "metadata": {},
   "source": [
    "-----\n",
    "<span style=\"color:#1576b2; font-size:16px; font-weight:700\"> Algorithm : K-Means Clustering</span>\n",
    "\n",
    "-------\n",
    "1. Randomly assign a number, from 1 to K, to each of the observations. These serve as initial cluster assignments for the observations.\n",
    "\n",
    "2. Iterate until the cluster assignments stop changing:\n",
    "    \n",
    "    a. For each of the K clusters, compute the **cluster centroid**. The $k$th cluster centroid is the vector of the p feature **means** for the observations in the kth cluster.  \n",
    "    b. Assign each observation to the cluster whose centroid is closest (where closest is defined using Euclidean distance).\n",
    "----\n",
    "\n",
    "In Step 2(a), the **cluster means** for each feature are the constants that minimize the sum-of-squared deviations. \n",
    "In Step 2(b) observations are reallocated. \n",
    "This means that as the algorithm is run, \n",
    "the clustering obtained will continually improve until the result no longer changes. \n",
    "The objective of (3) will never increase. \n",
    "When the result no longer changes, a local optimum has been reached. \n",
    "\n",
    "\n",
    "K-means clustering derives its name from the fact that in Step 2 (a), \n",
    "the **cluster centroids are computed as the mean of the observations assigned to each cluster**. \n",
    "\n",
    "\n",
    "**NOTE:** Because the K-means algorithm finds a **local** rather than a global optimum,\n",
    "the results obtained **will depend on the initial (random) cluster assignment** of each observation in Step 1 of Algorithm 1. \n",
    "For this reason, it is **important to run the algorithm multiple times from different random initial configurations**. Then one selects the best solution, for which the objective is smallest.\n",
    "\n",
    "---\n"
   ]
  },
  {
   "cell_type": "markdown",
   "metadata": {},
   "source": [
    "The figure below shows the progression of the algorithm on a simple example:\n",
    "\n",
    "<img src=\"../images/kmeans.JPG\">\n",
    "\n",
    "The top left image shows initial observations. \n",
    "Top center image shows step 1 of the algorithm where each observation is randomly assigned to a cluster. \n",
    "The top right image shows step 2(a) of an iteration where cluster centroids are computed. \n",
    "Centroids are shown as large colored disks. \n",
    "In beginning centroids are almost overlapping because the initial cluster assignments were chosen at random. \n",
    "The bottom left image shows is step 2(b) of the iteration, each observation is assigned to the nearest centroid. \n",
    "The bottom center image shows step 2(a) of next iteration, leading to new cluster centroids. \n",
    "The bottom right image shows the results obtained after ten iterations."
   ]
  },
  {
   "cell_type": "markdown",
   "metadata": {},
   "source": [
    "----\n",
    "\n",
    "**EXAMPLE:** \n",
    "\n",
    "The `kmeans()` function performs K-means clustering in R. \n",
    "We begin with a simple simulated set of observations where there are two clusters in the data. \n",
    "The first 25 observations have a mean shift relative to the next 25 observations."
   ]
  },
  {
   "cell_type": "code",
   "execution_count": 1,
   "metadata": {},
   "outputs": [],
   "source": [
    "# Set the seed to reproduce the results\n",
    "set.seed(4)\n",
    "\n",
    "# Generate a random normal distribution of 100 values. Generate a matrix out of this normal distribution.\n",
    "x = matrix(rnorm(50 * 2), ncol = 2)\n",
    "\n",
    "# Add 3 to rows 1 to 25 in first column of the matrix\n",
    "x[1:25, 1] = x[1:25, 1] + 3\n",
    "\n",
    "# Subtract 4 from rows 1 to 25 in second column of the matrix\n",
    "x[1:25, 2] = x[1:25, 2] - 4"
   ]
  },
  {
   "cell_type": "code",
   "execution_count": 2,
   "metadata": {},
   "outputs": [
    {
     "data": {
      "text/html": [
       "<table class=\"dataframe\">\n",
       "<caption>A data.frame: 50 × 2</caption>\n",
       "<thead>\n",
       "\t<tr><th scope=col>X1</th><th scope=col>X2</th></tr>\n",
       "\t<tr><th scope=col>&lt;dbl&gt;</th><th scope=col>&lt;dbl&gt;</th></tr>\n",
       "</thead>\n",
       "<tbody>\n",
       "\t<tr><td> 3.21675486</td><td>-4.66374314</td></tr>\n",
       "\t<tr><td> 2.45750743</td><td>-4.62372649</td></tr>\n",
       "\t<tr><td> 3.89114465</td><td>-4.07963243</td></tr>\n",
       "\t<tr><td> 3.59598058</td><td>-3.56437524</td></tr>\n",
       "\t<tr><td> 4.63561800</td><td>-2.02909903</td></tr>\n",
       "\t<tr><td> 3.68927544</td><td>-4.59675867</td></tr>\n",
       "\t<tr><td> 1.71875337</td><td>-4.55250721</td></tr>\n",
       "\t<tr><td> 2.78685548</td><td>-3.30403337</td></tr>\n",
       "\t<tr><td> 4.89653987</td><td>-4.15566396</td></tr>\n",
       "\t<tr><td> 4.77686321</td><td>-2.65110180</td></tr>\n",
       "\t<tr><td> 3.56660450</td><td>-5.06852307</td></tr>\n",
       "\t<tr><td> 3.01571945</td><td>-2.93554925</td></tr>\n",
       "\t<tr><td> 3.38305734</td><td>-5.31272176</td></tr>\n",
       "\t<tr><td> 2.95486288</td><td>-1.93630530</td></tr>\n",
       "\t<tr><td> 3.03435191</td><td>-3.86861699</td></tr>\n",
       "\t<tr><td> 3.16902677</td><td>-4.23168845</td></tr>\n",
       "\t<tr><td> 4.16502684</td><td>-4.39735552</td></tr>\n",
       "\t<tr><td> 2.95579600</td><td>-3.11056792</td></tr>\n",
       "\t<tr><td> 2.89963156</td><td>-3.47383096</td></tr>\n",
       "\t<tr><td> 2.71655543</td><td>-4.17127324</td></tr>\n",
       "\t<tr><td> 4.54081498</td><td>-3.84132310</td></tr>\n",
       "\t<tr><td> 3.16516902</td><td>-4.48566507</td></tr>\n",
       "\t<tr><td> 4.30762236</td><td>-4.95890607</td></tr>\n",
       "\t<tr><td> 4.28825688</td><td>-3.81948271</td></tr>\n",
       "\t<tr><td> 3.59289694</td><td>-3.27826572</td></tr>\n",
       "\t<tr><td>-0.28294368</td><td>-0.36954048</td></tr>\n",
       "\t<tr><td> 1.25588403</td><td> 0.23753831</td></tr>\n",
       "\t<tr><td> 0.90983915</td><td>-0.66592211</td></tr>\n",
       "\t<tr><td>-0.92802811</td><td>-0.79680751</td></tr>\n",
       "\t<tr><td> 1.24018084</td><td>-0.05169693</td></tr>\n",
       "\t<tr><td> 0.15346418</td><td> 1.28692833</td></tr>\n",
       "\t<tr><td> 1.05193258</td><td>-0.21414966</td></tr>\n",
       "\t<tr><td>-0.75421121</td><td>-0.57474546</td></tr>\n",
       "\t<tr><td>-1.48218912</td><td>-1.47072704</td></tr>\n",
       "\t<tr><td> 0.86113187</td><td>-1.03273843</td></tr>\n",
       "\t<tr><td>-0.40451983</td><td>-1.30652486</td></tr>\n",
       "\t<tr><td>-0.22740542</td><td>-0.83825241</td></tr>\n",
       "\t<tr><td> 0.93409617</td><td>-1.13065368</td></tr>\n",
       "\t<tr><td>-0.46589588</td><td> 0.36874818</td></tr>\n",
       "\t<tr><td>-0.63754350</td><td>-0.20180302</td></tr>\n",
       "\t<tr><td> 1.34370863</td><td>-1.27765990</td></tr>\n",
       "\t<tr><td> 0.18153538</td><td>-0.79801248</td></tr>\n",
       "\t<tr><td> 1.29251234</td><td> 0.15908242</td></tr>\n",
       "\t<tr><td>-1.68804858</td><td> 0.61479763</td></tr>\n",
       "\t<tr><td>-0.82099358</td><td> 0.68794796</td></tr>\n",
       "\t<tr><td>-0.86214614</td><td>-0.04705101</td></tr>\n",
       "\t<tr><td> 0.09884369</td><td> 2.33032168</td></tr>\n",
       "\t<tr><td>-0.37565514</td><td>-0.57756599</td></tr>\n",
       "\t<tr><td> 0.72390416</td><td> 0.96847913</td></tr>\n",
       "\t<tr><td>-1.79738202</td><td>-0.27753563</td></tr>\n",
       "</tbody>\n",
       "</table>\n"
      ],
      "text/latex": [
       "A data.frame: 50 × 2\n",
       "\\begin{tabular}{ll}\n",
       " X1 & X2\\\\\n",
       " <dbl> & <dbl>\\\\\n",
       "\\hline\n",
       "\t  3.21675486 & -4.66374314\\\\\n",
       "\t  2.45750743 & -4.62372649\\\\\n",
       "\t  3.89114465 & -4.07963243\\\\\n",
       "\t  3.59598058 & -3.56437524\\\\\n",
       "\t  4.63561800 & -2.02909903\\\\\n",
       "\t  3.68927544 & -4.59675867\\\\\n",
       "\t  1.71875337 & -4.55250721\\\\\n",
       "\t  2.78685548 & -3.30403337\\\\\n",
       "\t  4.89653987 & -4.15566396\\\\\n",
       "\t  4.77686321 & -2.65110180\\\\\n",
       "\t  3.56660450 & -5.06852307\\\\\n",
       "\t  3.01571945 & -2.93554925\\\\\n",
       "\t  3.38305734 & -5.31272176\\\\\n",
       "\t  2.95486288 & -1.93630530\\\\\n",
       "\t  3.03435191 & -3.86861699\\\\\n",
       "\t  3.16902677 & -4.23168845\\\\\n",
       "\t  4.16502684 & -4.39735552\\\\\n",
       "\t  2.95579600 & -3.11056792\\\\\n",
       "\t  2.89963156 & -3.47383096\\\\\n",
       "\t  2.71655543 & -4.17127324\\\\\n",
       "\t  4.54081498 & -3.84132310\\\\\n",
       "\t  3.16516902 & -4.48566507\\\\\n",
       "\t  4.30762236 & -4.95890607\\\\\n",
       "\t  4.28825688 & -3.81948271\\\\\n",
       "\t  3.59289694 & -3.27826572\\\\\n",
       "\t -0.28294368 & -0.36954048\\\\\n",
       "\t  1.25588403 &  0.23753831\\\\\n",
       "\t  0.90983915 & -0.66592211\\\\\n",
       "\t -0.92802811 & -0.79680751\\\\\n",
       "\t  1.24018084 & -0.05169693\\\\\n",
       "\t  0.15346418 &  1.28692833\\\\\n",
       "\t  1.05193258 & -0.21414966\\\\\n",
       "\t -0.75421121 & -0.57474546\\\\\n",
       "\t -1.48218912 & -1.47072704\\\\\n",
       "\t  0.86113187 & -1.03273843\\\\\n",
       "\t -0.40451983 & -1.30652486\\\\\n",
       "\t -0.22740542 & -0.83825241\\\\\n",
       "\t  0.93409617 & -1.13065368\\\\\n",
       "\t -0.46589588 &  0.36874818\\\\\n",
       "\t -0.63754350 & -0.20180302\\\\\n",
       "\t  1.34370863 & -1.27765990\\\\\n",
       "\t  0.18153538 & -0.79801248\\\\\n",
       "\t  1.29251234 &  0.15908242\\\\\n",
       "\t -1.68804858 &  0.61479763\\\\\n",
       "\t -0.82099358 &  0.68794796\\\\\n",
       "\t -0.86214614 & -0.04705101\\\\\n",
       "\t  0.09884369 &  2.33032168\\\\\n",
       "\t -0.37565514 & -0.57756599\\\\\n",
       "\t  0.72390416 &  0.96847913\\\\\n",
       "\t -1.79738202 & -0.27753563\\\\\n",
       "\\end{tabular}\n"
      ],
      "text/markdown": [
       "\n",
       "A data.frame: 50 × 2\n",
       "\n",
       "| X1 &lt;dbl&gt; | X2 &lt;dbl&gt; |\n",
       "|---|---|\n",
       "|  3.21675486 | -4.66374314 |\n",
       "|  2.45750743 | -4.62372649 |\n",
       "|  3.89114465 | -4.07963243 |\n",
       "|  3.59598058 | -3.56437524 |\n",
       "|  4.63561800 | -2.02909903 |\n",
       "|  3.68927544 | -4.59675867 |\n",
       "|  1.71875337 | -4.55250721 |\n",
       "|  2.78685548 | -3.30403337 |\n",
       "|  4.89653987 | -4.15566396 |\n",
       "|  4.77686321 | -2.65110180 |\n",
       "|  3.56660450 | -5.06852307 |\n",
       "|  3.01571945 | -2.93554925 |\n",
       "|  3.38305734 | -5.31272176 |\n",
       "|  2.95486288 | -1.93630530 |\n",
       "|  3.03435191 | -3.86861699 |\n",
       "|  3.16902677 | -4.23168845 |\n",
       "|  4.16502684 | -4.39735552 |\n",
       "|  2.95579600 | -3.11056792 |\n",
       "|  2.89963156 | -3.47383096 |\n",
       "|  2.71655543 | -4.17127324 |\n",
       "|  4.54081498 | -3.84132310 |\n",
       "|  3.16516902 | -4.48566507 |\n",
       "|  4.30762236 | -4.95890607 |\n",
       "|  4.28825688 | -3.81948271 |\n",
       "|  3.59289694 | -3.27826572 |\n",
       "| -0.28294368 | -0.36954048 |\n",
       "|  1.25588403 |  0.23753831 |\n",
       "|  0.90983915 | -0.66592211 |\n",
       "| -0.92802811 | -0.79680751 |\n",
       "|  1.24018084 | -0.05169693 |\n",
       "|  0.15346418 |  1.28692833 |\n",
       "|  1.05193258 | -0.21414966 |\n",
       "| -0.75421121 | -0.57474546 |\n",
       "| -1.48218912 | -1.47072704 |\n",
       "|  0.86113187 | -1.03273843 |\n",
       "| -0.40451983 | -1.30652486 |\n",
       "| -0.22740542 | -0.83825241 |\n",
       "|  0.93409617 | -1.13065368 |\n",
       "| -0.46589588 |  0.36874818 |\n",
       "| -0.63754350 | -0.20180302 |\n",
       "|  1.34370863 | -1.27765990 |\n",
       "|  0.18153538 | -0.79801248 |\n",
       "|  1.29251234 |  0.15908242 |\n",
       "| -1.68804858 |  0.61479763 |\n",
       "| -0.82099358 |  0.68794796 |\n",
       "| -0.86214614 | -0.04705101 |\n",
       "|  0.09884369 |  2.33032168 |\n",
       "| -0.37565514 | -0.57756599 |\n",
       "|  0.72390416 |  0.96847913 |\n",
       "| -1.79738202 | -0.27753563 |\n",
       "\n"
      ],
      "text/plain": [
       "   X1          X2         \n",
       "1   3.21675486 -4.66374314\n",
       "2   2.45750743 -4.62372649\n",
       "3   3.89114465 -4.07963243\n",
       "4   3.59598058 -3.56437524\n",
       "5   4.63561800 -2.02909903\n",
       "6   3.68927544 -4.59675867\n",
       "7   1.71875337 -4.55250721\n",
       "8   2.78685548 -3.30403337\n",
       "9   4.89653987 -4.15566396\n",
       "10  4.77686321 -2.65110180\n",
       "11  3.56660450 -5.06852307\n",
       "12  3.01571945 -2.93554925\n",
       "13  3.38305734 -5.31272176\n",
       "14  2.95486288 -1.93630530\n",
       "15  3.03435191 -3.86861699\n",
       "16  3.16902677 -4.23168845\n",
       "17  4.16502684 -4.39735552\n",
       "18  2.95579600 -3.11056792\n",
       "19  2.89963156 -3.47383096\n",
       "20  2.71655543 -4.17127324\n",
       "21  4.54081498 -3.84132310\n",
       "22  3.16516902 -4.48566507\n",
       "23  4.30762236 -4.95890607\n",
       "24  4.28825688 -3.81948271\n",
       "25  3.59289694 -3.27826572\n",
       "26 -0.28294368 -0.36954048\n",
       "27  1.25588403  0.23753831\n",
       "28  0.90983915 -0.66592211\n",
       "29 -0.92802811 -0.79680751\n",
       "30  1.24018084 -0.05169693\n",
       "31  0.15346418  1.28692833\n",
       "32  1.05193258 -0.21414966\n",
       "33 -0.75421121 -0.57474546\n",
       "34 -1.48218912 -1.47072704\n",
       "35  0.86113187 -1.03273843\n",
       "36 -0.40451983 -1.30652486\n",
       "37 -0.22740542 -0.83825241\n",
       "38  0.93409617 -1.13065368\n",
       "39 -0.46589588  0.36874818\n",
       "40 -0.63754350 -0.20180302\n",
       "41  1.34370863 -1.27765990\n",
       "42  0.18153538 -0.79801248\n",
       "43  1.29251234  0.15908242\n",
       "44 -1.68804858  0.61479763\n",
       "45 -0.82099358  0.68794796\n",
       "46 -0.86214614 -0.04705101\n",
       "47  0.09884369  2.33032168\n",
       "48 -0.37565514 -0.57756599\n",
       "49  0.72390416  0.96847913\n",
       "50 -1.79738202 -0.27753563"
      ]
     },
     "metadata": {},
     "output_type": "display_data"
    }
   ],
   "source": [
    "df <- data.frame(x)\n",
    "df"
   ]
  },
  {
   "cell_type": "markdown",
   "metadata": {},
   "source": [
    "We will perform K-means clustering with $K = 2$. \n",
    "nstart=20 implies multiple initial cluster assignments."
   ]
  },
  {
   "cell_type": "code",
   "execution_count": 3,
   "metadata": {},
   "outputs": [],
   "source": [
    "km.fit = kmeans(df, centers = 2, nstart = 20)\n",
    "\n",
    "# The centers argument: either the number of clusters (e.g., k) or a set of initial (distinct) cluster \n",
    "# centers. If a number, a random set of (distinct) rows in x is chosen as the initial centers.\n",
    "\n",
    "# The nstart argument: if centers (see above) is a number, nstart tells the number of random sets to be chosen.\n",
    "\n",
    "# To run the kmeans() function in R with multiple initial cluster assignments, we use the nstart argument. \n",
    "# If a value of nstart greater than one is used, then K-means clustering will be performed using multiple \n",
    "# random assignments (as described in Step 1 of the algorithm above), and the kmeans() function will report \n",
    "# only the best results."
   ]
  },
  {
   "cell_type": "markdown",
   "metadata": {},
   "source": [
    "The cluster assignments of the 50 observations are contained in km.fit$cluster..."
   ]
  },
  {
   "cell_type": "code",
   "execution_count": 4,
   "metadata": {},
   "outputs": [
    {
     "data": {
      "text/html": [
       "<style>\n",
       ".list-inline {list-style: none; margin:0; padding: 0}\n",
       ".list-inline>li {display: inline-block}\n",
       ".list-inline>li:not(:last-child)::after {content: \"\\00b7\"; padding: 0 .5ex}\n",
       "</style>\n",
       "<ol class=list-inline><li>1</li><li>1</li><li>1</li><li>1</li><li>1</li><li>1</li><li>1</li><li>1</li><li>1</li><li>1</li><li>1</li><li>1</li><li>1</li><li>1</li><li>1</li><li>1</li><li>1</li><li>1</li><li>1</li><li>1</li><li>1</li><li>1</li><li>1</li><li>1</li><li>1</li><li>2</li><li>2</li><li>2</li><li>2</li><li>2</li><li>2</li><li>2</li><li>2</li><li>2</li><li>2</li><li>2</li><li>2</li><li>2</li><li>2</li><li>2</li><li>2</li><li>2</li><li>2</li><li>2</li><li>2</li><li>2</li><li>2</li><li>2</li><li>2</li><li>2</li></ol>\n"
      ],
      "text/latex": [
       "\\begin{enumerate*}\n",
       "\\item 1\n",
       "\\item 1\n",
       "\\item 1\n",
       "\\item 1\n",
       "\\item 1\n",
       "\\item 1\n",
       "\\item 1\n",
       "\\item 1\n",
       "\\item 1\n",
       "\\item 1\n",
       "\\item 1\n",
       "\\item 1\n",
       "\\item 1\n",
       "\\item 1\n",
       "\\item 1\n",
       "\\item 1\n",
       "\\item 1\n",
       "\\item 1\n",
       "\\item 1\n",
       "\\item 1\n",
       "\\item 1\n",
       "\\item 1\n",
       "\\item 1\n",
       "\\item 1\n",
       "\\item 1\n",
       "\\item 2\n",
       "\\item 2\n",
       "\\item 2\n",
       "\\item 2\n",
       "\\item 2\n",
       "\\item 2\n",
       "\\item 2\n",
       "\\item 2\n",
       "\\item 2\n",
       "\\item 2\n",
       "\\item 2\n",
       "\\item 2\n",
       "\\item 2\n",
       "\\item 2\n",
       "\\item 2\n",
       "\\item 2\n",
       "\\item 2\n",
       "\\item 2\n",
       "\\item 2\n",
       "\\item 2\n",
       "\\item 2\n",
       "\\item 2\n",
       "\\item 2\n",
       "\\item 2\n",
       "\\item 2\n",
       "\\end{enumerate*}\n"
      ],
      "text/markdown": [
       "1. 1\n",
       "2. 1\n",
       "3. 1\n",
       "4. 1\n",
       "5. 1\n",
       "6. 1\n",
       "7. 1\n",
       "8. 1\n",
       "9. 1\n",
       "10. 1\n",
       "11. 1\n",
       "12. 1\n",
       "13. 1\n",
       "14. 1\n",
       "15. 1\n",
       "16. 1\n",
       "17. 1\n",
       "18. 1\n",
       "19. 1\n",
       "20. 1\n",
       "21. 1\n",
       "22. 1\n",
       "23. 1\n",
       "24. 1\n",
       "25. 1\n",
       "26. 2\n",
       "27. 2\n",
       "28. 2\n",
       "29. 2\n",
       "30. 2\n",
       "31. 2\n",
       "32. 2\n",
       "33. 2\n",
       "34. 2\n",
       "35. 2\n",
       "36. 2\n",
       "37. 2\n",
       "38. 2\n",
       "39. 2\n",
       "40. 2\n",
       "41. 2\n",
       "42. 2\n",
       "43. 2\n",
       "44. 2\n",
       "45. 2\n",
       "46. 2\n",
       "47. 2\n",
       "48. 2\n",
       "49. 2\n",
       "50. 2\n",
       "\n",
       "\n"
      ],
      "text/plain": [
       " [1] 1 1 1 1 1 1 1 1 1 1 1 1 1 1 1 1 1 1 1 1 1 1 1 1 1 2 2 2 2 2 2 2 2 2 2 2 2 2\n",
       "[39] 2 2 2 2 2 2 2 2 2 2 2 2"
      ]
     },
     "metadata": {},
     "output_type": "display_data"
    }
   ],
   "source": [
    "km.fit$cluster"
   ]
  },
  {
   "cell_type": "markdown",
   "metadata": {},
   "source": [
    "The K-means clustering perfectly separated the observations into two clusters \n",
    "even though we did not supply any group information to `kmeans()`. \n",
    "We can plot the data, with each observation colored according to its cluster assignment."
   ]
  },
  {
   "cell_type": "code",
   "execution_count": 5,
   "metadata": {},
   "outputs": [
    {
     "data": {
      "image/png": "[encoded data removed]",
      "text/plain": [
       "plot without title"
      ]
     },
     "metadata": {
      "image/png": {
       "height": 420,
       "width": 420
      }
     },
     "output_type": "display_data"
    }
   ],
   "source": [
    "library(ggplot2)\n",
    "\n",
    "ggplot(df) + geom_point(aes(x=X1, y=X2, color=factor(km.fit$cluster)))+\n",
    "ggtitle(\"K-Means Clustering Results with K=2\")\n",
    "     "
   ]
  },
  {
   "cell_type": "markdown",
   "metadata": {},
   "source": [
    "Now, let's apply K-means clustering algorithm on $x$ and divide it into 3 clusters... "
   ]
  },
  {
   "cell_type": "code",
   "execution_count": 6,
   "metadata": {},
   "outputs": [
    {
     "data": {
      "text/plain": [
       "K-means clustering with 3 clusters of sizes 14, 11, 25\n",
       "\n",
       "Cluster means:\n",
       "          X1          X2\n",
       "1 -0.7532448 -0.39907658\n",
       "2  0.8968634  0.05541174\n",
       "3  3.4968274 -3.88442866\n",
       "\n",
       "Clustering vector:\n",
       " [1] 3 3 3 3 3 3 3 3 3 3 3 3 3 3 3 3 3 3 3 3 3 3 3 3 3 1 2 2 1 2 2 2 1 1 2 1 1 2\n",
       "[39] 1 1 2 1 2 1 1 1 2 1 2 1\n",
       "\n",
       "Within cluster sum of squares by cluster:\n",
       "[1]  9.796515 14.391060 33.865779\n",
       " (between_SS / total_SS =  85.5 %)\n",
       "\n",
       "Available components:\n",
       "\n",
       "[1] \"cluster\"      \"centers\"      \"totss\"        \"withinss\"     \"tot.withinss\"\n",
       "[6] \"betweenss\"    \"size\"         \"iter\"         \"ifault\"      "
      ]
     },
     "metadata": {},
     "output_type": "display_data"
    }
   ],
   "source": [
    "set.seed (4)\n",
    "km.fit = kmeans(df, 3, nstart = 20)\n",
    "\n",
    "# Clustering results\n",
    "km.fit"
   ]
  },
  {
   "cell_type": "markdown",
   "metadata": {},
   "source": [
    "We can plot the data, with each observation colored according to its cluster assignment."
   ]
  },
  {
   "cell_type": "code",
   "execution_count": 7,
   "metadata": {},
   "outputs": [
    {
     "data": {
      "image/png": "[encoded data removed]",
      "text/plain": [
       "Plot with title “K-Means Clustering Results with K=3”"
      ]
     },
     "metadata": {
      "image/png": {
       "height": 420,
       "width": 420
      }
     },
     "output_type": "display_data"
    }
   ],
   "source": [
    "plot(x, col=(km.fit$cluster+1), main=\"K-Means Clustering Results with K=3\", xlab =\"\", ylab=\"\", pch =20, cex =2)"
   ]
  },
  {
   "cell_type": "code",
   "execution_count": 8,
   "metadata": {},
   "outputs": [
    {
     "data": {
      "image/png": "[encoded data removed]",
      "text/plain": [
       "plot without title"
      ]
     },
     "metadata": {
      "image/png": {
       "height": 420,
       "width": 420
      }
     },
     "output_type": "display_data"
    }
   ],
   "source": [
    "ggplot(df) + geom_point(aes(x=X1, y=X2, color=factor(km.fit$cluster)))+\n",
    "ggtitle(\"K-Means Clustering Results with K=3\")\n",
    "     "
   ]
  },
  {
   "cell_type": "markdown",
   "metadata": {},
   "source": [
    "##### `kmeans()` with multiple initial cluster assignments explained:\n",
    "\n",
    "Here we compare using nstart=1 to nstart=20"
   ]
  },
  {
   "cell_type": "code",
   "execution_count": 9,
   "metadata": {},
   "outputs": [
    {
     "data": {
      "text/html": [
       "63.0619611703372"
      ],
      "text/latex": [
       "63.0619611703372"
      ],
      "text/markdown": [
       "63.0619611703372"
      ],
      "text/plain": [
       "[1] 63.06196"
      ]
     },
     "metadata": {},
     "output_type": "display_data"
    }
   ],
   "source": [
    "set.seed(3)\n",
    "km.fit = kmeans(x,3,nstart = 1)\n",
    "km.fit$tot.withinss"
   ]
  },
  {
   "cell_type": "code",
   "execution_count": 10,
   "metadata": {},
   "outputs": [
    {
     "data": {
      "text/html": [
       "58.0533547258864"
      ],
      "text/latex": [
       "58.0533547258864"
      ],
      "text/markdown": [
       "58.0533547258864"
      ],
      "text/plain": [
       "[1] 58.05335"
      ]
     },
     "metadata": {},
     "output_type": "display_data"
    }
   ],
   "source": [
    "set.seed(3)\n",
    "km.fit = kmeans(x,3,nstart = 20)\n",
    "km.fit$tot.withinss"
   ]
  },
  {
   "cell_type": "markdown",
   "metadata": {},
   "source": [
    "So, `km.fit$tot.withinss` is the total within-cluster sum of squares, \n",
    "which we seek to minimize by performing K-means clustering. \n",
    "The individual within-cluster sum-of-squares are contained in the vector `km.fit$withinss`. \n",
    "It is strongly recommended to always run K-means clustering with a large value of nstart, \n",
    "such as 20 or 50, since otherwise an undesirable local optimum may be obtained. \n",
    "In addition to using multiple initial cluster assignments, \n",
    "it is also **important to set a random seed using the `set.seed()` function**. \n",
    "This way, the **initial cluster assignments in Step 1 can be replicated**, and the K-means output will be fully reproducible.\n",
    "\n",
    "---\n",
    "\n",
    "### Disadvantages of the K-Means Algorithm\n",
    "\n",
    "As we have to provide the number of clusters, K-Means algorithm will always that many clusters whether the data naturally divides into those clusters or not. There are methods we can use to guess the number of clusters and supply it to the K-Means algorithm. Another disadvantage is that it is sensitive to the outliers in the data. Since it computes the cluster centroid as the **means of the features**, these centroids will shift towards the outliers because outliers will have leverage over the means. \n",
    "\n",
    "We can compute the **median** as opposed to the mean to provide a more robust approach. The resulting **K-medoids** algorithm will always use one of the observations (the median) as the cluster centroid. "
   ]
  },
  {
   "cell_type": "markdown",
   "metadata": {},
   "source": [
    "---\n",
    "\n",
    "## PAM Clustering\n",
    "\n",
    "The **Partitioning Around Medoids (PAM)** clustering algorithm is less sensititive to the outliers in the data and provides a robust alternative to the K-Means algorithm. For a large data set, PAM will require a longer computing time and larger memory allocation. **CLARA (Clustering Large Applications)** is an extension to k-medoids (PAM) to deal with data containing a large number of objects (more than several thousand observations) in order to reduce computing time and RAM storage problem.\n",
    "\n",
    "The `fpc` library has an implementation of PAM named `pamk` that does not require a pre-specified **K**, it computes an optimal K given the data set, and also switches to clara for a large data set. \n",
    "\n",
    "\n",
    "To call the `pamk` function, we specify how many **K** values to consider (here 1,2,3,4,5) and we want the criteria printed out. "
   ]
  },
  {
   "cell_type": "code",
   "execution_count": 11,
   "metadata": {},
   "outputs": [
    {
     "name": "stdout",
     "output_type": "stream",
     "text": [
      "1  clusters  0 \n",
      "2  clusters  0.6884167 \n",
      "3  clusters  0.5147445 \n",
      "4  clusters  0.3485573 \n",
      "5  clusters  0.3598256 \n"
     ]
    },
    {
     "data": {
      "text/plain": [
       "$pamobject\n",
       "Medoids:\n",
       "     ID         X1         X2\n",
       "[1,] 16  3.1690268 -4.2316884\n",
       "[2,] 26 -0.2829437 -0.3695405\n",
       "Clustering vector:\n",
       " [1] 1 1 1 1 1 1 1 1 1 1 1 1 1 1 1 1 1 1 1 1 1 1 1 1 1 2 2 2 2 2 2 2 2 2 2 2 2 2\n",
       "[39] 2 2 2 2 2 2 2 2 2 2 2 2\n",
       "Objective function:\n",
       "   build     swap \n",
       "1.508118 1.136885 \n",
       "\n",
       "Available components:\n",
       " [1] \"medoids\"    \"id.med\"     \"clustering\" \"objective\"  \"isolation\" \n",
       " [6] \"clusinfo\"   \"silinfo\"    \"diss\"       \"call\"       \"data\"      \n",
       "\n",
       "$nc\n",
       "[1] 2\n",
       "\n",
       "$crit\n",
       "[1] 3.227141e-06 6.884167e-01 5.147445e-01 3.485573e-01 3.598256e-01\n"
      ]
     },
     "metadata": {},
     "output_type": "display_data"
    }
   ],
   "source": [
    "library(fpc)\n",
    "pclust <- pamk(df, krange=1:5, critout=TRUE)\n",
    "\n",
    "pclust"
   ]
  },
  {
   "cell_type": "markdown",
   "metadata": {},
   "source": [
    "`pamk` prints the criteria; we can see the the criterion for k=2 is highest; data suggests there are two clusters. We already know that's the case for this simple and separable data set. `pamk` returns a `pamobject` that contains the cluster centers and the cluster assignments for each row in the data frame. We can use those cluster assignments to color our data like below: "
   ]
  },
  {
   "cell_type": "code",
   "execution_count": 12,
   "metadata": {},
   "outputs": [
    {
     "data": {
      "image/png": "[encoded data removed]",
      "text/plain": [
       "plot without title"
      ]
     },
     "metadata": {
      "image/png": {
       "height": 420,
       "width": 420
      }
     },
     "output_type": "display_data"
    }
   ],
   "source": [
    "ggplot(df) + geom_point(aes(x=X1, y=X2, color=factor(pclust$pamobject$cluster)))+\n",
    "ggtitle(\"PAMK Clustering Results with K=2\")\n",
    "     "
   ]
  },
  {
   "cell_type": "markdown",
   "metadata": {},
   "source": [
    "# Save your notebook!"
   ]
  }
 ],
 "metadata": {
  "kernelspec": {
   "display_name": "R",
   "language": "R",
   "name": "ir"
  },
  "language_info": {
   "codemirror_mode": "r",
   "file_extension": ".r",
   "mimetype": "text/x-r-source",
   "name": "R",
   "pygments_lexer": "r",
   "version": "4.0.5"
  }
 },
 "nbformat": 4,
 "nbformat_minor": 1
}
