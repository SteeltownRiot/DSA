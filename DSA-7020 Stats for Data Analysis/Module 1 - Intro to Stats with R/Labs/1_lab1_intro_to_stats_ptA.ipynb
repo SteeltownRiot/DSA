{
 "cells": [
  {
   "cell_type": "markdown",
   "metadata": {},
   "source": [
    "# Reviewing Statistics and R\n",
    "\n",
    "This is your first lab for the Introduction to Statistical and Mathematical Foundations of Data Science course. \n",
    "You can refer to chapters 1 to 3 in [intro to statistics textbook](http://onlinestatbook.com/2/index.html) book for reference. \n",
    "\n",
    "**Make sure to run the STATMATH CONTAINER.** \n",
    "\n",
    "We will begin with statistics mainly for univariate data analysis, \n",
    "covering some basic concepts like descriptive and inferential statistics and distributions.\n",
    "\n",
    "Some of the concepts may have been covered in the Intro course or boot camp; we will refresh those concepts here a little bit."
   ]
  },
  {
   "cell_type": "markdown",
   "metadata": {},
   "source": [
    "\n",
    "### Loading data\n",
    "\n",
    "Load the data `auto-mpg` into R and view the first few rows \n",
    "(including the column names (called the header)) using the following code. \n",
    "This data is about city-cycle fuel consumption based on different types of cars."
   ]
  },
  {
   "cell_type": "code",
   "execution_count": 1,
   "metadata": {},
   "outputs": [],
   "source": [
    "auto_mpg <- read.csv(\"/dsa/data/all_datasets/auto-mpg/auto-mpg.csv\", header = TRUE)\n",
    "\n",
    "# how is the following different? \n",
    "\n",
    "#auto_mpg <- read.csv(\"/dsa/data/all_datasets/auto-mpg/auto-mpg.csv\", header = TRUE, stringsAsFactors=TRUE)\n",
    "\n",
    "## Currently, setting stringsAsFactors=FALSE is the default and loads strings from the CSV as characters.\n",
    "## Setting stringsAsFactors=TRUE turns strings into factors/categorical values, which is useful for\n",
    "## statistics and ML, but can make data carpentry more difficult in other applications."
   ]
  },
  {
   "cell_type": "markdown",
   "metadata": {},
   "source": [
    "We can get a quick view of some of the relevant information about the data set `auto_mpg` using head() function. \n",
    "**`head()`** shows the first six rows by default. \n",
    "Just typing the variable `auto_mpg` will return all the rows in the table which is time consuming if you are dealing with a very big dataset."
   ]
  },
  {
   "cell_type": "code",
   "execution_count": 2,
   "metadata": {},
   "outputs": [
    {
     "data": {
      "text/html": [
       "<table class=\"dataframe\">\n",
       "<caption>A data.frame: 6 × 9</caption>\n",
       "<thead>\n",
       "\t<tr><th></th><th scope=col>mpg</th><th scope=col>cylinders</th><th scope=col>displacement</th><th scope=col>horsepower</th><th scope=col>weight</th><th scope=col>acceleration</th><th scope=col>model.year</th><th scope=col>origin</th><th scope=col>car.name</th></tr>\n",
       "\t<tr><th></th><th scope=col>&lt;dbl&gt;</th><th scope=col>&lt;int&gt;</th><th scope=col>&lt;dbl&gt;</th><th scope=col>&lt;chr&gt;</th><th scope=col>&lt;int&gt;</th><th scope=col>&lt;dbl&gt;</th><th scope=col>&lt;int&gt;</th><th scope=col>&lt;int&gt;</th><th scope=col>&lt;chr&gt;</th></tr>\n",
       "</thead>\n",
       "<tbody>\n",
       "\t<tr><th scope=row>1</th><td>18</td><td>8</td><td>307</td><td>130.0</td><td>3504</td><td>12.0</td><td>70</td><td>1</td><td>chevrolet chevelle malibu</td></tr>\n",
       "\t<tr><th scope=row>2</th><td>15</td><td>8</td><td>350</td><td>165.0</td><td>3693</td><td>11.5</td><td>70</td><td>1</td><td>buick skylark 320        </td></tr>\n",
       "\t<tr><th scope=row>3</th><td>18</td><td>8</td><td>318</td><td>150.0</td><td>3436</td><td>11.0</td><td>70</td><td>1</td><td>plymouth satellite       </td></tr>\n",
       "\t<tr><th scope=row>4</th><td>16</td><td>8</td><td>304</td><td>150.0</td><td>3433</td><td>12.0</td><td>70</td><td>1</td><td>amc rebel sst            </td></tr>\n",
       "\t<tr><th scope=row>5</th><td>17</td><td>8</td><td>302</td><td>140.0</td><td>3449</td><td>10.5</td><td>70</td><td>1</td><td>ford torino              </td></tr>\n",
       "\t<tr><th scope=row>6</th><td>15</td><td>8</td><td>429</td><td>198.0</td><td>4341</td><td>10.0</td><td>70</td><td>1</td><td>ford galaxie 500         </td></tr>\n",
       "</tbody>\n",
       "</table>\n"
      ],
      "text/latex": [
       "A data.frame: 6 × 9\n",
       "\\begin{tabular}{r|lllllllll}\n",
       "  & mpg & cylinders & displacement & horsepower & weight & acceleration & model.year & origin & car.name\\\\\n",
       "  & <dbl> & <int> & <dbl> & <chr> & <int> & <dbl> & <int> & <int> & <chr>\\\\\n",
       "\\hline\n",
       "\t1 & 18 & 8 & 307 & 130.0 & 3504 & 12.0 & 70 & 1 & chevrolet chevelle malibu\\\\\n",
       "\t2 & 15 & 8 & 350 & 165.0 & 3693 & 11.5 & 70 & 1 & buick skylark 320        \\\\\n",
       "\t3 & 18 & 8 & 318 & 150.0 & 3436 & 11.0 & 70 & 1 & plymouth satellite       \\\\\n",
       "\t4 & 16 & 8 & 304 & 150.0 & 3433 & 12.0 & 70 & 1 & amc rebel sst            \\\\\n",
       "\t5 & 17 & 8 & 302 & 140.0 & 3449 & 10.5 & 70 & 1 & ford torino              \\\\\n",
       "\t6 & 15 & 8 & 429 & 198.0 & 4341 & 10.0 & 70 & 1 & ford galaxie 500         \\\\\n",
       "\\end{tabular}\n"
      ],
      "text/markdown": [
       "\n",
       "A data.frame: 6 × 9\n",
       "\n",
       "| <!--/--> | mpg &lt;dbl&gt; | cylinders &lt;int&gt; | displacement &lt;dbl&gt; | horsepower &lt;chr&gt; | weight &lt;int&gt; | acceleration &lt;dbl&gt; | model.year &lt;int&gt; | origin &lt;int&gt; | car.name &lt;chr&gt; |\n",
       "|---|---|---|---|---|---|---|---|---|---|\n",
       "| 1 | 18 | 8 | 307 | 130.0 | 3504 | 12.0 | 70 | 1 | chevrolet chevelle malibu |\n",
       "| 2 | 15 | 8 | 350 | 165.0 | 3693 | 11.5 | 70 | 1 | buick skylark 320         |\n",
       "| 3 | 18 | 8 | 318 | 150.0 | 3436 | 11.0 | 70 | 1 | plymouth satellite        |\n",
       "| 4 | 16 | 8 | 304 | 150.0 | 3433 | 12.0 | 70 | 1 | amc rebel sst             |\n",
       "| 5 | 17 | 8 | 302 | 140.0 | 3449 | 10.5 | 70 | 1 | ford torino               |\n",
       "| 6 | 15 | 8 | 429 | 198.0 | 4341 | 10.0 | 70 | 1 | ford galaxie 500          |\n",
       "\n"
      ],
      "text/plain": [
       "  mpg cylinders displacement horsepower weight acceleration model.year origin\n",
       "1 18  8         307          130.0      3504   12.0         70         1     \n",
       "2 15  8         350          165.0      3693   11.5         70         1     \n",
       "3 18  8         318          150.0      3436   11.0         70         1     \n",
       "4 16  8         304          150.0      3433   12.0         70         1     \n",
       "5 17  8         302          140.0      3449   10.5         70         1     \n",
       "6 15  8         429          198.0      4341   10.0         70         1     \n",
       "  car.name                 \n",
       "1 chevrolet chevelle malibu\n",
       "2 buick skylark 320        \n",
       "3 plymouth satellite       \n",
       "4 amc rebel sst            \n",
       "5 ford torino              \n",
       "6 ford galaxie 500         "
      ]
     },
     "metadata": {},
     "output_type": "display_data"
    }
   ],
   "source": [
    "head(auto_mpg)"
   ]
  },
  {
   "cell_type": "markdown",
   "metadata": {},
   "source": [
    "**`names()`** : The auto_mpg dataset has the column names already set. \n",
    "But in many cases, a dataset will not have headers for the columns or the names will need some formatting. \n",
    "`names()` function is helpful in manipulating the names of dataframe columns. \n",
    "It is illustrated below how you can use this command. \n",
    "\n",
    "\n",
    "`Usage: names(x) <- value`\n",
    "\n",
    "\n",
    "`names(x)`, where `x` is the input dataframe, shows the variable names of the dataframe. \n",
    "You can also modify column names using this command.\n",
    "You can assign the variable names as a vector of names. \n",
    "If the length of character vector of names is less than the number of variables in the dataframe, \n",
    "it is extended by character NAs to the length of `x`."
   ]
  },
  {
   "cell_type": "code",
   "execution_count": 3,
   "metadata": {},
   "outputs": [
    {
     "data": {
      "text/html": [
       "<style>\n",
       ".list-inline {list-style: none; margin:0; padding: 0}\n",
       ".list-inline>li {display: inline-block}\n",
       ".list-inline>li:not(:last-child)::after {content: \"\\00b7\"; padding: 0 .5ex}\n",
       "</style>\n",
       "<ol class=list-inline><li>'mpg'</li><li>'cylinders'</li><li>'displacement'</li><li>'horsepower'</li><li>'weight'</li><li>'acceleration'</li><li>'model.year'</li><li>'origin'</li><li>'car.name'</li></ol>\n"
      ],
      "text/latex": [
       "\\begin{enumerate*}\n",
       "\\item 'mpg'\n",
       "\\item 'cylinders'\n",
       "\\item 'displacement'\n",
       "\\item 'horsepower'\n",
       "\\item 'weight'\n",
       "\\item 'acceleration'\n",
       "\\item 'model.year'\n",
       "\\item 'origin'\n",
       "\\item 'car.name'\n",
       "\\end{enumerate*}\n"
      ],
      "text/markdown": [
       "1. 'mpg'\n",
       "2. 'cylinders'\n",
       "3. 'displacement'\n",
       "4. 'horsepower'\n",
       "5. 'weight'\n",
       "6. 'acceleration'\n",
       "7. 'model.year'\n",
       "8. 'origin'\n",
       "9. 'car.name'\n",
       "\n",
       "\n"
      ],
      "text/plain": [
       "[1] \"mpg\"          \"cylinders\"    \"displacement\" \"horsepower\"   \"weight\"      \n",
       "[6] \"acceleration\" \"model.year\"   \"origin\"       \"car.name\"    "
      ]
     },
     "metadata": {},
     "output_type": "display_data"
    }
   ],
   "source": [
    "names(auto_mpg)"
   ]
  },
  {
   "cell_type": "code",
   "execution_count": 4,
   "metadata": {},
   "outputs": [
    {
     "data": {
      "text/html": [
       "<style>\n",
       ".list-inline {list-style: none; margin:0; padding: 0}\n",
       ".list-inline>li {display: inline-block}\n",
       ".list-inline>li:not(:last-child)::after {content: \"\\00b7\"; padding: 0 .5ex}\n",
       "</style>\n",
       "<ol class=list-inline><li>'mpg'</li><li>'cylinders'</li><li>'displacement'</li><li>'horsepower'</li><li>'weight'</li><li>'acceleration'</li><li>'model.year'</li><li>'origin'</li><li>'car.name'</li></ol>\n"
      ],
      "text/latex": [
       "\\begin{enumerate*}\n",
       "\\item 'mpg'\n",
       "\\item 'cylinders'\n",
       "\\item 'displacement'\n",
       "\\item 'horsepower'\n",
       "\\item 'weight'\n",
       "\\item 'acceleration'\n",
       "\\item 'model.year'\n",
       "\\item 'origin'\n",
       "\\item 'car.name'\n",
       "\\end{enumerate*}\n"
      ],
      "text/markdown": [
       "1. 'mpg'\n",
       "2. 'cylinders'\n",
       "3. 'displacement'\n",
       "4. 'horsepower'\n",
       "5. 'weight'\n",
       "6. 'acceleration'\n",
       "7. 'model.year'\n",
       "8. 'origin'\n",
       "9. 'car.name'\n",
       "\n",
       "\n"
      ],
      "text/plain": [
       "[1] \"mpg\"          \"cylinders\"    \"displacement\" \"horsepower\"   \"weight\"      \n",
       "[6] \"acceleration\" \"model.year\"   \"origin\"       \"car.name\"    "
      ]
     },
     "metadata": {},
     "output_type": "display_data"
    }
   ],
   "source": [
    "#Assign the current names of auto_mpg columns to the variable 'column_names', which we \n",
    "#will use later.\n",
    "column_names=names(auto_mpg)\n",
    "column_names"
   ]
  },
  {
   "cell_type": "code",
   "execution_count": 5,
   "metadata": {},
   "outputs": [
    {
     "data": {
      "text/html": [
       "<style>\n",
       ".list-inline {list-style: none; margin:0; padding: 0}\n",
       ".list-inline>li {display: inline-block}\n",
       ".list-inline>li:not(:last-child)::after {content: \"\\00b7\"; padding: 0 .5ex}\n",
       "</style>\n",
       "<ol class=list-inline><li>'a'</li><li>'b'</li><li>'c'</li><li>'d'</li><li>'e'</li><li>'f'</li><li>'g'</li><li>'h'</li><li>'i'</li></ol>\n"
      ],
      "text/latex": [
       "\\begin{enumerate*}\n",
       "\\item 'a'\n",
       "\\item 'b'\n",
       "\\item 'c'\n",
       "\\item 'd'\n",
       "\\item 'e'\n",
       "\\item 'f'\n",
       "\\item 'g'\n",
       "\\item 'h'\n",
       "\\item 'i'\n",
       "\\end{enumerate*}\n"
      ],
      "text/markdown": [
       "1. 'a'\n",
       "2. 'b'\n",
       "3. 'c'\n",
       "4. 'd'\n",
       "5. 'e'\n",
       "6. 'f'\n",
       "7. 'g'\n",
       "8. 'h'\n",
       "9. 'i'\n",
       "\n",
       "\n"
      ],
      "text/plain": [
       "[1] \"a\" \"b\" \"c\" \"d\" \"e\" \"f\" \"g\" \"h\" \"i\""
      ]
     },
     "metadata": {},
     "output_type": "display_data"
    }
   ],
   "source": [
    "#Modify the names of columns of auto_mpg dataset by assigning new names.\n",
    "names(auto_mpg)=c('a','b','c','d','e','f','g','h','i')\n",
    "names(auto_mpg)"
   ]
  },
  {
   "cell_type": "markdown",
   "metadata": {},
   "source": [
    "### Changing a specific column name "
   ]
  },
  {
   "cell_type": "code",
   "execution_count": 6,
   "metadata": {},
   "outputs": [],
   "source": [
    "#Modify the name of first column of auto_mpg dataset.\n",
    "names(auto_mpg)[1]='z'\n"
   ]
  },
  {
   "cell_type": "code",
   "execution_count": 7,
   "metadata": {},
   "outputs": [
    {
     "data": {
      "text/html": [
       "<style>\n",
       ".list-inline {list-style: none; margin:0; padding: 0}\n",
       ".list-inline>li {display: inline-block}\n",
       ".list-inline>li:not(:last-child)::after {content: \"\\00b7\"; padding: 0 .5ex}\n",
       "</style>\n",
       "<ol class=list-inline><li>'z'</li><li>'b'</li><li>'c'</li><li>'d'</li><li>'e'</li><li>'f'</li><li>'g'</li><li>'h'</li><li>'i'</li></ol>\n"
      ],
      "text/latex": [
       "\\begin{enumerate*}\n",
       "\\item 'z'\n",
       "\\item 'b'\n",
       "\\item 'c'\n",
       "\\item 'd'\n",
       "\\item 'e'\n",
       "\\item 'f'\n",
       "\\item 'g'\n",
       "\\item 'h'\n",
       "\\item 'i'\n",
       "\\end{enumerate*}\n"
      ],
      "text/markdown": [
       "1. 'z'\n",
       "2. 'b'\n",
       "3. 'c'\n",
       "4. 'd'\n",
       "5. 'e'\n",
       "6. 'f'\n",
       "7. 'g'\n",
       "8. 'h'\n",
       "9. 'i'\n",
       "\n",
       "\n"
      ],
      "text/plain": [
       "[1] \"z\" \"b\" \"c\" \"d\" \"e\" \"f\" \"g\" \"h\" \"i\""
      ]
     },
     "metadata": {},
     "output_type": "display_data"
    }
   ],
   "source": [
    "#Display the names of auto_mpg columns\n",
    "names(auto_mpg)"
   ]
  },
  {
   "cell_type": "code",
   "execution_count": 8,
   "metadata": {},
   "outputs": [
    {
     "data": {
      "text/html": [
       "<style>\n",
       ".list-inline {list-style: none; margin:0; padding: 0}\n",
       ".list-inline>li {display: inline-block}\n",
       ".list-inline>li:not(:last-child)::after {content: \"\\00b7\"; padding: 0 .5ex}\n",
       "</style>\n",
       "<ol class=list-inline><li>'mpg'</li><li>'cylinders'</li><li>'displacement'</li><li>'horsepower'</li><li>'weight'</li><li>'acceleration'</li><li>'model.year'</li><li>'origin'</li><li>'car.name'</li></ol>\n"
      ],
      "text/latex": [
       "\\begin{enumerate*}\n",
       "\\item 'mpg'\n",
       "\\item 'cylinders'\n",
       "\\item 'displacement'\n",
       "\\item 'horsepower'\n",
       "\\item 'weight'\n",
       "\\item 'acceleration'\n",
       "\\item 'model.year'\n",
       "\\item 'origin'\n",
       "\\item 'car.name'\n",
       "\\end{enumerate*}\n"
      ],
      "text/markdown": [
       "1. 'mpg'\n",
       "2. 'cylinders'\n",
       "3. 'displacement'\n",
       "4. 'horsepower'\n",
       "5. 'weight'\n",
       "6. 'acceleration'\n",
       "7. 'model.year'\n",
       "8. 'origin'\n",
       "9. 'car.name'\n",
       "\n",
       "\n"
      ],
      "text/plain": [
       "[1] \"mpg\"          \"cylinders\"    \"displacement\" \"horsepower\"   \"weight\"      \n",
       "[6] \"acceleration\" \"model.year\"   \"origin\"       \"car.name\"    "
      ]
     },
     "metadata": {},
     "output_type": "display_data"
    }
   ],
   "source": [
    "#Assigning the original column names back to auto_mpg dataset variables, using the variable\n",
    "#column_names we created before.\n",
    "names(auto_mpg)=column_names\n",
    "names(auto_mpg)"
   ]
  },
  {
   "cell_type": "markdown",
   "metadata": {},
   "source": [
    "\n",
    "----\n",
    "**`summary()`** \n",
    "\n",
    "`summary()` command gives a summary of each variable in the dataframe, show some descriptive statistics. \n",
    "As shown below, the command is very informative. \n",
    "It calculates the minimum value, 1st quartile, 2nd quartile(median), mean value, \n",
    "3rd quartile, and maximum values of numeric variables. \n",
    "If the variable has NA values, number of such rows with NA values is displayed too. \n",
    "\n",
    "You can use this information to quickly identify if the variables are qualitative (discrete) or quantitative (continuous). \n",
    "For example, all of the variables in auto_mpg dataset except for origin, horsepower, and car.name are continuous.  Origin is discrete; horsepower is discrete;  and `car.name` is a qualitative (nominal) variable (also discrete)."
   ]
  },
  {
   "cell_type": "code",
   "execution_count": 9,
   "metadata": {},
   "outputs": [
    {
     "data": {
      "text/plain": [
       "      mpg          cylinders      displacement    horsepower       \n",
       " Min.   : 9.00   Min.   :3.000   Min.   : 68.0   Length:398        \n",
       " 1st Qu.:17.50   1st Qu.:4.000   1st Qu.:104.2   Class :character  \n",
       " Median :23.00   Median :4.000   Median :148.5   Mode  :character  \n",
       " Mean   :23.51   Mean   :5.455   Mean   :193.4                     \n",
       " 3rd Qu.:29.00   3rd Qu.:8.000   3rd Qu.:262.0                     \n",
       " Max.   :46.60   Max.   :8.000   Max.   :455.0                     \n",
       "     weight      acceleration     model.year        origin     \n",
       " Min.   :1613   Min.   : 8.00   Min.   :70.00   Min.   :1.000  \n",
       " 1st Qu.:2224   1st Qu.:13.82   1st Qu.:73.00   1st Qu.:1.000  \n",
       " Median :2804   Median :15.50   Median :76.00   Median :1.000  \n",
       " Mean   :2970   Mean   :15.57   Mean   :76.01   Mean   :1.573  \n",
       " 3rd Qu.:3608   3rd Qu.:17.18   3rd Qu.:79.00   3rd Qu.:2.000  \n",
       " Max.   :5140   Max.   :24.80   Max.   :82.00   Max.   :3.000  \n",
       "   car.name        \n",
       " Length:398        \n",
       " Class :character  \n",
       " Mode  :character  \n",
       "                   \n",
       "                   \n",
       "                   "
      ]
     },
     "metadata": {},
     "output_type": "display_data"
    }
   ],
   "source": [
    "summary(auto_mpg)"
   ]
  },
  {
   "cell_type": "markdown",
   "metadata": {},
   "source": [
    "**Note**: Do you wonder why there is no min, max, mean, or other values given for the **horsepower variable**? \n",
    "The same is the case with car.name but it makes sense for the car.name variable. \n",
    "The horsepower variable can't have a minimum value or mean values because it has strings in it. \n",
    "Run the `str()` function to understand the difference between `horsepower` and other numeric variables.\n",
    "\n",
    "The `str()` function displays **the internal structure of an R object** and is an alternative to `summary()`. It tells you the datatype of variables, the dimensions of the dataframe, \n",
    "and also gives an overview of the kind of values each variable contains."
   ]
  },
  {
   "cell_type": "code",
   "execution_count": 10,
   "metadata": {},
   "outputs": [
    {
     "name": "stdout",
     "output_type": "stream",
     "text": [
      "'data.frame':\t398 obs. of  9 variables:\n",
      " $ mpg         : num  18 15 18 16 17 15 14 14 14 15 ...\n",
      " $ cylinders   : int  8 8 8 8 8 8 8 8 8 8 ...\n",
      " $ displacement: num  307 350 318 304 302 429 454 440 455 390 ...\n",
      " $ horsepower  : chr  \"130.0\" \"165.0\" \"150.0\" \"150.0\" ...\n",
      " $ weight      : int  3504 3693 3436 3433 3449 4341 4354 4312 4425 3850 ...\n",
      " $ acceleration: num  12 11.5 11 12 10.5 10 9 8.5 10 8.5 ...\n",
      " $ model.year  : int  70 70 70 70 70 70 70 70 70 70 ...\n",
      " $ origin      : int  1 1 1 1 1 1 1 1 1 1 ...\n",
      " $ car.name    : chr  \"chevrolet chevelle malibu\" \"buick skylark 320\" \"plymouth satellite\" \"amc rebel sst\" ...\n"
     ]
    }
   ],
   "source": [
    "str(auto_mpg)"
   ]
  },
  {
   "cell_type": "markdown",
   "metadata": {},
   "source": [
    "Horsepower is a character datatype. Character fields in the csv file are read as characters by default, but we can change that behavior by setting the `stringsAsFactors` parameter to TRUE. This will read character fields as **factors**."
   ]
  },
  {
   "cell_type": "code",
   "execution_count": 11,
   "metadata": {},
   "outputs": [
    {
     "name": "stdout",
     "output_type": "stream",
     "text": [
      "'data.frame':\t398 obs. of  9 variables:\n",
      " $ mpg         : num  18 15 18 16 17 15 14 14 14 15 ...\n",
      " $ cylinders   : int  8 8 8 8 8 8 8 8 8 8 ...\n",
      " $ displacement: num  307 350 318 304 302 429 454 440 455 390 ...\n",
      " $ horsepower  : Factor w/ 94 levels \"?    \",\"100.0\",..: 17 35 29 29 24 42 47 46 48 40 ...\n",
      " $ weight      : int  3504 3693 3436 3433 3449 4341 4354 4312 4425 3850 ...\n",
      " $ acceleration: num  12 11.5 11 12 10.5 10 9 8.5 10 8.5 ...\n",
      " $ model.year  : int  70 70 70 70 70 70 70 70 70 70 ...\n",
      " $ origin      : int  1 1 1 1 1 1 1 1 1 1 ...\n",
      " $ car.name    : Factor w/ 305 levels \"amc ambassador brougham\",..: 50 37 232 15 162 142 55 224 242 2 ...\n"
     ]
    }
   ],
   "source": [
    "auto_mpg_fct <- read.csv(\"/dsa/data/all_datasets/auto-mpg/auto-mpg.csv\", header = TRUE, stringsAsFactors=TRUE)\n",
    "str(auto_mpg_fct)"
   ]
  },
  {
   "cell_type": "markdown",
   "metadata": {},
   "source": [
    "Now, horsepower and car.name are of `factor` datatype. \n",
    "Factor is a categorical (nominal/discrete) datatype. \n",
    " It is used for variables that take discrete values from a limited, specific set of values, so they are not continuous.\n",
    "\n",
    "The summary function would not calculate mean, median, min etc. for horsepower or car.name because they are either factor or character variables, but it would give a breakdown of the **levels** of the factor variable. \n",
    "\n",
    "Each value a factor variable can take is called a \"**level**\".\n"
   ]
  },
  {
   "cell_type": "code",
   "execution_count": 12,
   "metadata": {},
   "outputs": [
    {
     "data": {
      "text/plain": [
       "      mpg          cylinders      displacement     horsepower      weight    \n",
       " Min.   : 9.00   Min.   :3.000   Min.   : 68.0   150.0  : 22   Min.   :1613  \n",
       " 1st Qu.:17.50   1st Qu.:4.000   1st Qu.:104.2   90.00  : 20   1st Qu.:2224  \n",
       " Median :23.00   Median :4.000   Median :148.5   88.00  : 19   Median :2804  \n",
       " Mean   :23.51   Mean   :5.455   Mean   :193.4   110.0  : 18   Mean   :2970  \n",
       " 3rd Qu.:29.00   3rd Qu.:8.000   3rd Qu.:262.0   100.0  : 17   3rd Qu.:3608  \n",
       " Max.   :46.60   Max.   :8.000   Max.   :455.0   75.00  : 14   Max.   :5140  \n",
       "                                                 (Other):288                 \n",
       "  acceleration     model.year        origin                car.name  \n",
       " Min.   : 8.00   Min.   :70.00   Min.   :1.000   ford pinto    :  6  \n",
       " 1st Qu.:13.82   1st Qu.:73.00   1st Qu.:1.000   amc matador   :  5  \n",
       " Median :15.50   Median :76.00   Median :1.000   ford maverick :  5  \n",
       " Mean   :15.57   Mean   :76.01   Mean   :1.573   toyota corolla:  5  \n",
       " 3rd Qu.:17.18   3rd Qu.:79.00   3rd Qu.:2.000   amc gremlin   :  4  \n",
       " Max.   :24.80   Max.   :82.00   Max.   :3.000   amc hornet    :  4  \n",
       "                                                 (Other)       :369  "
      ]
     },
     "metadata": {},
     "output_type": "display_data"
    }
   ],
   "source": [
    "summary(auto_mpg_fct)"
   ]
  },
  {
   "cell_type": "code",
   "execution_count": 13,
   "metadata": {},
   "outputs": [
    {
     "data": {
      "text/html": [
       "<style>\n",
       ".list-inline {list-style: none; margin:0; padding: 0}\n",
       ".list-inline>li {display: inline-block}\n",
       ".list-inline>li:not(:last-child)::after {content: \"\\00b7\"; padding: 0 .5ex}\n",
       "</style>\n",
       "<ol class=list-inline><li><span style=white-space:pre-wrap>'?    '</span></li><li>'100.0'</li><li>'102.0'</li><li>'103.0'</li><li>'105.0'</li><li>'107.0'</li><li>'108.0'</li><li>'110.0'</li><li>'112.0'</li><li>'113.0'</li><li>'115.0'</li><li>'116.0'</li><li>'120.0'</li><li>'122.0'</li><li>'125.0'</li><li>'129.0'</li><li>'130.0'</li><li>'132.0'</li><li>'133.0'</li><li>'135.0'</li><li>'137.0'</li><li>'138.0'</li><li>'139.0'</li><li>'140.0'</li><li>'142.0'</li><li>'145.0'</li><li>'148.0'</li><li>'149.0'</li><li>'150.0'</li><li>'152.0'</li><li>'153.0'</li><li>'155.0'</li><li>'158.0'</li><li>'160.0'</li><li>'165.0'</li><li>'167.0'</li><li>'170.0'</li><li>'175.0'</li><li>'180.0'</li><li>'190.0'</li><li>'193.0'</li><li>'198.0'</li><li>'200.0'</li><li>'208.0'</li><li>'210.0'</li><li>'215.0'</li><li>'220.0'</li><li>'225.0'</li><li>'230.0'</li><li>'46.00'</li><li>'48.00'</li><li>'49.00'</li><li>'52.00'</li><li>'53.00'</li><li>'54.00'</li><li>'58.00'</li><li>'60.00'</li><li>'61.00'</li><li>'62.00'</li><li>'63.00'</li><li>'64.00'</li><li>'65.00'</li><li>'66.00'</li><li>'67.00'</li><li>'68.00'</li><li>'69.00'</li><li>'70.00'</li><li>'71.00'</li><li>'72.00'</li><li>'74.00'</li><li>'75.00'</li><li>'76.00'</li><li>'77.00'</li><li>'78.00'</li><li>'79.00'</li><li>'80.00'</li><li>'81.00'</li><li>'82.00'</li><li>'83.00'</li><li>'84.00'</li><li>'85.00'</li><li>'86.00'</li><li>'87.00'</li><li>'88.00'</li><li>'89.00'</li><li>'90.00'</li><li>'91.00'</li><li>'92.00'</li><li>'93.00'</li><li>'94.00'</li><li>'95.00'</li><li>'96.00'</li><li>'97.00'</li><li>'98.00'</li></ol>\n"
      ],
      "text/latex": [
       "\\begin{enumerate*}\n",
       "\\item '?    '\n",
       "\\item '100.0'\n",
       "\\item '102.0'\n",
       "\\item '103.0'\n",
       "\\item '105.0'\n",
       "\\item '107.0'\n",
       "\\item '108.0'\n",
       "\\item '110.0'\n",
       "\\item '112.0'\n",
       "\\item '113.0'\n",
       "\\item '115.0'\n",
       "\\item '116.0'\n",
       "\\item '120.0'\n",
       "\\item '122.0'\n",
       "\\item '125.0'\n",
       "\\item '129.0'\n",
       "\\item '130.0'\n",
       "\\item '132.0'\n",
       "\\item '133.0'\n",
       "\\item '135.0'\n",
       "\\item '137.0'\n",
       "\\item '138.0'\n",
       "\\item '139.0'\n",
       "\\item '140.0'\n",
       "\\item '142.0'\n",
       "\\item '145.0'\n",
       "\\item '148.0'\n",
       "\\item '149.0'\n",
       "\\item '150.0'\n",
       "\\item '152.0'\n",
       "\\item '153.0'\n",
       "\\item '155.0'\n",
       "\\item '158.0'\n",
       "\\item '160.0'\n",
       "\\item '165.0'\n",
       "\\item '167.0'\n",
       "\\item '170.0'\n",
       "\\item '175.0'\n",
       "\\item '180.0'\n",
       "\\item '190.0'\n",
       "\\item '193.0'\n",
       "\\item '198.0'\n",
       "\\item '200.0'\n",
       "\\item '208.0'\n",
       "\\item '210.0'\n",
       "\\item '215.0'\n",
       "\\item '220.0'\n",
       "\\item '225.0'\n",
       "\\item '230.0'\n",
       "\\item '46.00'\n",
       "\\item '48.00'\n",
       "\\item '49.00'\n",
       "\\item '52.00'\n",
       "\\item '53.00'\n",
       "\\item '54.00'\n",
       "\\item '58.00'\n",
       "\\item '60.00'\n",
       "\\item '61.00'\n",
       "\\item '62.00'\n",
       "\\item '63.00'\n",
       "\\item '64.00'\n",
       "\\item '65.00'\n",
       "\\item '66.00'\n",
       "\\item '67.00'\n",
       "\\item '68.00'\n",
       "\\item '69.00'\n",
       "\\item '70.00'\n",
       "\\item '71.00'\n",
       "\\item '72.00'\n",
       "\\item '74.00'\n",
       "\\item '75.00'\n",
       "\\item '76.00'\n",
       "\\item '77.00'\n",
       "\\item '78.00'\n",
       "\\item '79.00'\n",
       "\\item '80.00'\n",
       "\\item '81.00'\n",
       "\\item '82.00'\n",
       "\\item '83.00'\n",
       "\\item '84.00'\n",
       "\\item '85.00'\n",
       "\\item '86.00'\n",
       "\\item '87.00'\n",
       "\\item '88.00'\n",
       "\\item '89.00'\n",
       "\\item '90.00'\n",
       "\\item '91.00'\n",
       "\\item '92.00'\n",
       "\\item '93.00'\n",
       "\\item '94.00'\n",
       "\\item '95.00'\n",
       "\\item '96.00'\n",
       "\\item '97.00'\n",
       "\\item '98.00'\n",
       "\\end{enumerate*}\n"
      ],
      "text/markdown": [
       "1. <span style=white-space:pre-wrap>'?    '</span>\n",
       "2. '100.0'\n",
       "3. '102.0'\n",
       "4. '103.0'\n",
       "5. '105.0'\n",
       "6. '107.0'\n",
       "7. '108.0'\n",
       "8. '110.0'\n",
       "9. '112.0'\n",
       "10. '113.0'\n",
       "11. '115.0'\n",
       "12. '116.0'\n",
       "13. '120.0'\n",
       "14. '122.0'\n",
       "15. '125.0'\n",
       "16. '129.0'\n",
       "17. '130.0'\n",
       "18. '132.0'\n",
       "19. '133.0'\n",
       "20. '135.0'\n",
       "21. '137.0'\n",
       "22. '138.0'\n",
       "23. '139.0'\n",
       "24. '140.0'\n",
       "25. '142.0'\n",
       "26. '145.0'\n",
       "27. '148.0'\n",
       "28. '149.0'\n",
       "29. '150.0'\n",
       "30. '152.0'\n",
       "31. '153.0'\n",
       "32. '155.0'\n",
       "33. '158.0'\n",
       "34. '160.0'\n",
       "35. '165.0'\n",
       "36. '167.0'\n",
       "37. '170.0'\n",
       "38. '175.0'\n",
       "39. '180.0'\n",
       "40. '190.0'\n",
       "41. '193.0'\n",
       "42. '198.0'\n",
       "43. '200.0'\n",
       "44. '208.0'\n",
       "45. '210.0'\n",
       "46. '215.0'\n",
       "47. '220.0'\n",
       "48. '225.0'\n",
       "49. '230.0'\n",
       "50. '46.00'\n",
       "51. '48.00'\n",
       "52. '49.00'\n",
       "53. '52.00'\n",
       "54. '53.00'\n",
       "55. '54.00'\n",
       "56. '58.00'\n",
       "57. '60.00'\n",
       "58. '61.00'\n",
       "59. '62.00'\n",
       "60. '63.00'\n",
       "61. '64.00'\n",
       "62. '65.00'\n",
       "63. '66.00'\n",
       "64. '67.00'\n",
       "65. '68.00'\n",
       "66. '69.00'\n",
       "67. '70.00'\n",
       "68. '71.00'\n",
       "69. '72.00'\n",
       "70. '74.00'\n",
       "71. '75.00'\n",
       "72. '76.00'\n",
       "73. '77.00'\n",
       "74. '78.00'\n",
       "75. '79.00'\n",
       "76. '80.00'\n",
       "77. '81.00'\n",
       "78. '82.00'\n",
       "79. '83.00'\n",
       "80. '84.00'\n",
       "81. '85.00'\n",
       "82. '86.00'\n",
       "83. '87.00'\n",
       "84. '88.00'\n",
       "85. '89.00'\n",
       "86. '90.00'\n",
       "87. '91.00'\n",
       "88. '92.00'\n",
       "89. '93.00'\n",
       "90. '94.00'\n",
       "91. '95.00'\n",
       "92. '96.00'\n",
       "93. '97.00'\n",
       "94. '98.00'\n",
       "\n",
       "\n"
      ],
      "text/plain": [
       " [1] \"?    \" \"100.0\" \"102.0\" \"103.0\" \"105.0\" \"107.0\" \"108.0\" \"110.0\" \"112.0\"\n",
       "[10] \"113.0\" \"115.0\" \"116.0\" \"120.0\" \"122.0\" \"125.0\" \"129.0\" \"130.0\" \"132.0\"\n",
       "[19] \"133.0\" \"135.0\" \"137.0\" \"138.0\" \"139.0\" \"140.0\" \"142.0\" \"145.0\" \"148.0\"\n",
       "[28] \"149.0\" \"150.0\" \"152.0\" \"153.0\" \"155.0\" \"158.0\" \"160.0\" \"165.0\" \"167.0\"\n",
       "[37] \"170.0\" \"175.0\" \"180.0\" \"190.0\" \"193.0\" \"198.0\" \"200.0\" \"208.0\" \"210.0\"\n",
       "[46] \"215.0\" \"220.0\" \"225.0\" \"230.0\" \"46.00\" \"48.00\" \"49.00\" \"52.00\" \"53.00\"\n",
       "[55] \"54.00\" \"58.00\" \"60.00\" \"61.00\" \"62.00\" \"63.00\" \"64.00\" \"65.00\" \"66.00\"\n",
       "[64] \"67.00\" \"68.00\" \"69.00\" \"70.00\" \"71.00\" \"72.00\" \"74.00\" \"75.00\" \"76.00\"\n",
       "[73] \"77.00\" \"78.00\" \"79.00\" \"80.00\" \"81.00\" \"82.00\" \"83.00\" \"84.00\" \"85.00\"\n",
       "[82] \"86.00\" \"87.00\" \"88.00\" \"89.00\" \"90.00\" \"91.00\" \"92.00\" \"93.00\" \"94.00\"\n",
       "[91] \"95.00\" \"96.00\" \"97.00\" \"98.00\""
      ]
     },
     "metadata": {},
     "output_type": "display_data"
    }
   ],
   "source": [
    "levels(auto_mpg_fct$horsepower)"
   ]
  },
  {
   "cell_type": "markdown",
   "metadata": {},
   "source": [
    "**Horsepower is not a good example of a factor variable because there is no reason for it to be a categorical type.** Since it it has missing values represented by a '?' character in the csv file, it is either read as character or factor into the data frame. \n",
    "\n",
    "Similarly, car.name is NOT a good example of a categorical variable either, because each data item has a unique name creating 369 levels. "
   ]
  },
  {
   "cell_type": "markdown",
   "metadata": {},
   "source": [
    "---\n",
    "\n",
    "## Column Access in R\n",
    "\n",
    "Recall, that column access in R is accomplished by using the __ \\$ __ operator.  \n",
    "```R\n",
    "dataframe$columnName\n",
    "```\n",
    "\n",
    "**`summary(auto_mpg$weight)`** shows summary of `weight` variable of the `auto_mpg` data."
   ]
  },
  {
   "cell_type": "code",
   "execution_count": 14,
   "metadata": {},
   "outputs": [
    {
     "data": {
      "text/plain": [
       "   Min. 1st Qu.  Median    Mean 3rd Qu.    Max. \n",
       "   1613    2224    2804    2970    3608    5140 "
      ]
     },
     "metadata": {},
     "output_type": "display_data"
    }
   ],
   "source": [
    "summary(auto_mpg$weight)"
   ]
  },
  {
   "cell_type": "markdown",
   "metadata": {},
   "source": [
    "----\n",
    "## Descriptive Statistics\n",
    "\n",
    "Descriptive statistics are used to summarize and describe data.\n",
    "If we are analyzing miles per gallon data, for example, \n",
    "a descriptive statistic might be the percentage of cars with different numbers of \n",
    "cylinders or the average miles per gallon for all cars. \n",
    "Many descriptive statistics are often used at one time to give a full picture of the data. \n",
    "\n",
    "**There are mainly two categories of descriptive statistics:**\n",
    "measures of central tendency (or averages) and measures of dispersion \n",
    "(which summarizes how spread out or dispersed the data points are). \n",
    "\n",
    "\n",
    "A variable can have many observations (data points or values) and a summary set of numbers that describe those multiple observations, such as those as shown by the `summary()` command, are descriptive statistics. \n",
    "\n",
    "There are **three important measures** of central tendency used to summarize data: the mean, the median, and the mode. \n",
    "\n",
    "\n",
    "When we talk about the **mean**, we'll be referring to the arithmetic mean as contrasted to some other means, \n",
    "such as the geometric mean or the harmonic mean, which are not used as frequently as arithmetic mean. \n",
    "The mean of a set of data is simply the sum of data observations divided by the total number of observations. \n",
    "\n",
    "The **median** of a set of ordered observations is a middle number that divides the data into two parts, \n",
    "where half of the data points are in one part and the other half in the second part. \n",
    "\n",
    "**The mean is influenced to a greater extent by extreme observations.**\n",
    "\n",
    "**So, if you notice extreme observations in your data, then perhaps a median is a better summary of data than a mean.**\n",
    "\n",
    "Income and price data generally follow this pattern, which is why census organizations report **median incomes and median prices.**\n",
    "\n",
    "Descriptive statistics are just descriptive. \n",
    "They cannot generalize anything beyond the data at hand. \n",
    "Generalizing from our data to another set of cases is dealt with in **inferential statistics**.\n",
    "\n",
    "R has built-in functions to calculate mean, median, standard deviation (a measure of the spread of data points around the mean), and other descriptive statistics.\n",
    "\n",
    "These terms should be familiar from the previous intro course or boot camp."
   ]
  },
  {
   "cell_type": "code",
   "execution_count": 15,
   "metadata": {},
   "outputs": [
    {
     "data": {
      "text/html": [
       "<table class=\"dataframe\">\n",
       "<caption>A data.frame: 6 × 9</caption>\n",
       "<thead>\n",
       "\t<tr><th></th><th scope=col>mpg</th><th scope=col>cylinders</th><th scope=col>displacement</th><th scope=col>horsepower</th><th scope=col>weight</th><th scope=col>acceleration</th><th scope=col>model.year</th><th scope=col>origin</th><th scope=col>car.name</th></tr>\n",
       "\t<tr><th></th><th scope=col>&lt;dbl&gt;</th><th scope=col>&lt;int&gt;</th><th scope=col>&lt;dbl&gt;</th><th scope=col>&lt;chr&gt;</th><th scope=col>&lt;int&gt;</th><th scope=col>&lt;dbl&gt;</th><th scope=col>&lt;int&gt;</th><th scope=col>&lt;int&gt;</th><th scope=col>&lt;chr&gt;</th></tr>\n",
       "</thead>\n",
       "<tbody>\n",
       "\t<tr><th scope=row>1</th><td>18</td><td>8</td><td>307</td><td>130.0</td><td>3504</td><td>12.0</td><td>70</td><td>1</td><td>chevrolet chevelle malibu</td></tr>\n",
       "\t<tr><th scope=row>2</th><td>15</td><td>8</td><td>350</td><td>165.0</td><td>3693</td><td>11.5</td><td>70</td><td>1</td><td>buick skylark 320        </td></tr>\n",
       "\t<tr><th scope=row>3</th><td>18</td><td>8</td><td>318</td><td>150.0</td><td>3436</td><td>11.0</td><td>70</td><td>1</td><td>plymouth satellite       </td></tr>\n",
       "\t<tr><th scope=row>4</th><td>16</td><td>8</td><td>304</td><td>150.0</td><td>3433</td><td>12.0</td><td>70</td><td>1</td><td>amc rebel sst            </td></tr>\n",
       "\t<tr><th scope=row>5</th><td>17</td><td>8</td><td>302</td><td>140.0</td><td>3449</td><td>10.5</td><td>70</td><td>1</td><td>ford torino              </td></tr>\n",
       "\t<tr><th scope=row>6</th><td>15</td><td>8</td><td>429</td><td>198.0</td><td>4341</td><td>10.0</td><td>70</td><td>1</td><td>ford galaxie 500         </td></tr>\n",
       "</tbody>\n",
       "</table>\n"
      ],
      "text/latex": [
       "A data.frame: 6 × 9\n",
       "\\begin{tabular}{r|lllllllll}\n",
       "  & mpg & cylinders & displacement & horsepower & weight & acceleration & model.year & origin & car.name\\\\\n",
       "  & <dbl> & <int> & <dbl> & <chr> & <int> & <dbl> & <int> & <int> & <chr>\\\\\n",
       "\\hline\n",
       "\t1 & 18 & 8 & 307 & 130.0 & 3504 & 12.0 & 70 & 1 & chevrolet chevelle malibu\\\\\n",
       "\t2 & 15 & 8 & 350 & 165.0 & 3693 & 11.5 & 70 & 1 & buick skylark 320        \\\\\n",
       "\t3 & 18 & 8 & 318 & 150.0 & 3436 & 11.0 & 70 & 1 & plymouth satellite       \\\\\n",
       "\t4 & 16 & 8 & 304 & 150.0 & 3433 & 12.0 & 70 & 1 & amc rebel sst            \\\\\n",
       "\t5 & 17 & 8 & 302 & 140.0 & 3449 & 10.5 & 70 & 1 & ford torino              \\\\\n",
       "\t6 & 15 & 8 & 429 & 198.0 & 4341 & 10.0 & 70 & 1 & ford galaxie 500         \\\\\n",
       "\\end{tabular}\n"
      ],
      "text/markdown": [
       "\n",
       "A data.frame: 6 × 9\n",
       "\n",
       "| <!--/--> | mpg &lt;dbl&gt; | cylinders &lt;int&gt; | displacement &lt;dbl&gt; | horsepower &lt;chr&gt; | weight &lt;int&gt; | acceleration &lt;dbl&gt; | model.year &lt;int&gt; | origin &lt;int&gt; | car.name &lt;chr&gt; |\n",
       "|---|---|---|---|---|---|---|---|---|---|\n",
       "| 1 | 18 | 8 | 307 | 130.0 | 3504 | 12.0 | 70 | 1 | chevrolet chevelle malibu |\n",
       "| 2 | 15 | 8 | 350 | 165.0 | 3693 | 11.5 | 70 | 1 | buick skylark 320         |\n",
       "| 3 | 18 | 8 | 318 | 150.0 | 3436 | 11.0 | 70 | 1 | plymouth satellite        |\n",
       "| 4 | 16 | 8 | 304 | 150.0 | 3433 | 12.0 | 70 | 1 | amc rebel sst             |\n",
       "| 5 | 17 | 8 | 302 | 140.0 | 3449 | 10.5 | 70 | 1 | ford torino               |\n",
       "| 6 | 15 | 8 | 429 | 198.0 | 4341 | 10.0 | 70 | 1 | ford galaxie 500          |\n",
       "\n"
      ],
      "text/plain": [
       "  mpg cylinders displacement horsepower weight acceleration model.year origin\n",
       "1 18  8         307          130.0      3504   12.0         70         1     \n",
       "2 15  8         350          165.0      3693   11.5         70         1     \n",
       "3 18  8         318          150.0      3436   11.0         70         1     \n",
       "4 16  8         304          150.0      3433   12.0         70         1     \n",
       "5 17  8         302          140.0      3449   10.5         70         1     \n",
       "6 15  8         429          198.0      4341   10.0         70         1     \n",
       "  car.name                 \n",
       "1 chevrolet chevelle malibu\n",
       "2 buick skylark 320        \n",
       "3 plymouth satellite       \n",
       "4 amc rebel sst            \n",
       "5 ford torino              \n",
       "6 ford galaxie 500         "
      ]
     },
     "metadata": {},
     "output_type": "display_data"
    }
   ],
   "source": [
    "#Let's run the head() command on auto_mpg to peek into the dataset.\n",
    "head(auto_mpg)"
   ]
  },
  {
   "cell_type": "markdown",
   "metadata": {},
   "source": [
    "----\n",
    "#### Mean\n",
    "The `mean()` function gives the average value of the column. \n",
    "The mean is the most basic statistic to help you understand the distribution of observations (data points) of a variable.\n",
    "    \n",
    "    Mean = Sum of all Observations / No. of Observations"
   ]
  },
  {
   "cell_type": "code",
   "execution_count": 16,
   "metadata": {},
   "outputs": [
    {
     "data": {
      "text/html": [
       "'Average auto displacement is: 193.425879396985'"
      ],
      "text/latex": [
       "'Average auto displacement is: 193.425879396985'"
      ],
      "text/markdown": [
       "'Average auto displacement is: 193.425879396985'"
      ],
      "text/plain": [
       "[1] \"Average auto displacement is: 193.425879396985\""
      ]
     },
     "metadata": {},
     "output_type": "display_data"
    }
   ],
   "source": [
    "#The paste function below is used to concatenate strings to make things readable. \n",
    "#paste concatenates strings in the order they are given as input. \n",
    "paste('Average auto displacement is:',mean(auto_mpg$displacement))\n",
    "\n",
    "# Note, that paste adds a space character between the parts when concatenating"
   ]
  },
  {
   "cell_type": "code",
   "execution_count": 17,
   "metadata": {},
   "outputs": [
    {
     "data": {
      "text/html": [
       "193.425879396985"
      ],
      "text/latex": [
       "193.425879396985"
      ],
      "text/markdown": [
       "193.425879396985"
      ],
      "text/plain": [
       "[1] 193.4259"
      ]
     },
     "metadata": {},
     "output_type": "display_data"
    }
   ],
   "source": [
    "#Without the paste function\n",
    "mean(auto_mpg$displacement)"
   ]
  },
  {
   "cell_type": "markdown",
   "metadata": {},
   "source": [
    "These commands tell us on an average each vehicle has a displacement of 193.42. "
   ]
  },
  {
   "cell_type": "markdown",
   "metadata": {},
   "source": [
    "#### Mode\n",
    "    \n",
    "    Mode = Most occuring value in a set of values, i.e., in a column of a dataframe.\n",
    "    \n",
    "Mode is the value that has been repeated most frequently in a set of values and is especially useful when dealing with discrete variables.\n",
    "R does not have any built-in function to compute Mode as you would expect. \n",
    "Instead, the `mode()` function returns the type or **storage mode** of the object. \n",
    "For example:\n",
    "\n",
    "_mode_(dataframe\\$columnName). "
   ]
  },
  {
   "cell_type": "code",
   "execution_count": 19,
   "metadata": {},
   "outputs": [
    {
     "data": {
      "text/html": [
       "'Datatype of mpg is numeric'"
      ],
      "text/latex": [
       "'Datatype of mpg is numeric'"
      ],
      "text/markdown": [
       "'Datatype of mpg is numeric'"
      ],
      "text/plain": [
       "[1] \"Datatype of mpg is numeric\""
      ]
     },
     "metadata": {},
     "output_type": "display_data"
    }
   ],
   "source": [
    "paste('Datatype of mpg is',mode(auto_mpg$mpg))\n"
   ]
  },
  {
   "cell_type": "code",
   "execution_count": 20,
   "metadata": {},
   "outputs": [
    {
     "data": {
      "text/html": [
       "'numeric'"
      ],
      "text/latex": [
       "'numeric'"
      ],
      "text/markdown": [
       "'numeric'"
      ],
      "text/plain": [
       "[1] \"numeric\""
      ]
     },
     "metadata": {},
     "output_type": "display_data"
    }
   ],
   "source": [
    "#Without the paste function\n",
    "mode(auto_mpg$mpg)"
   ]
  },
  {
   "cell_type": "markdown",
   "metadata": {},
   "source": [
    "However, you can use a command like below to calculate the most frequently occuring value. \n",
    "The `table()` command tells us the distribution/count of different values of a variable. \n",
    "So, using the command below, we are able to print how often each value occurred in the dataset. "
   ]
  },
  {
   "cell_type": "code",
   "execution_count": 21,
   "metadata": {},
   "outputs": [
    {
     "data": {
      "text/plain": [
       "\n",
       "   9   10   11   12   13   14 14.5   15 15.5   16 16.2 16.5 16.9   17 17.5 17.6 \n",
       "   1    2    4    6   20   19    1   16    5   13    1    3    1    7    5    2 \n",
       "17.7   18 18.1 18.2 18.5 18.6   19 19.1 19.2 19.4 19.8 19.9   20 20.2 20.3 20.5 \n",
       "   1   17    2    1    3    1   12    1    3    2    1    1    9    4    1    3 \n",
       "20.6 20.8   21 21.1 21.5 21.6   22 22.3 22.4 22.5   23 23.2 23.5 23.6 23.7 23.8 \n",
       "   2    1    8    1    3    1   10    1    1    1   10    1    1    1    1    1 \n",
       "23.9   24 24.2 24.3 24.5   25 25.1 25.4 25.5 25.8   26 26.4 26.5 26.6 26.8   27 \n",
       "   2   11    1    1    2   11    1    2    2    1   14    1    1    2    1    9 \n",
       "27.2 27.4 27.5 27.9   28 28.1 28.4 28.8   29 29.5 29.8 29.9   30 30.5 30.7 30.9 \n",
       "   3    1    1    1   10    1    1    1    8    2    2    1    7    2    1    1 \n",
       "  31 31.3 31.5 31.6 31.8 31.9   32 32.1 32.2 32.3 32.4 32.7 32.8 32.9   33 33.5 \n",
       "   7    1    2    1    1    1    6    1    1    1    2    1    1    1    3    3 \n",
       "33.7 33.8   34 34.1 34.2 34.3 34.4 34.5 34.7   35 35.1 35.7   36 36.1 36.4   37 \n",
       "   1    1    2    2    1    1    1    2    1    2    1    1    6    2    1    3 \n",
       "37.2 37.3 37.7   38 38.1   39 39.1 39.4 40.8 40.9 41.5 43.1 43.4   44 44.3 44.6 \n",
       "   1    1    1    4    1    1    1    1    1    1    1    1    1    1    1    1 \n",
       "46.6 \n",
       "   1 "
      ]
     },
     "metadata": {},
     "output_type": "display_data"
    }
   ],
   "source": [
    "table(auto_mpg$mpg)"
   ]
  },
  {
   "cell_type": "markdown",
   "metadata": {},
   "source": [
    "**Note:** In the output above, the table is line-wrapping in the display\n",
    "```\n",
    "Value->   9   10   11   12   13   14 14.5   15 15.5   16 16.2 16.5 16.9   17 17.5 17.6 \n",
    "Count->   1    2    4    6   20   19    1   16    5   13    1    3    1    7    5    2 \n",
    "\n",
    "Value->   17.7   18 18.1 18.2 18.5 18.6   19 19.1 19.2 19.4 19.8 19.9   20 20.2 20.3 20.5\n",
    "Count->      1   17    2    1    3    1   12    1    3    2    1    1    9    4    1    3\n",
    "\n",
    "...\n",
    "```\n",
    "\n",
    "We see that 13 MPG occurs 20 times (13 is at position 5).\n",
    "\n",
    "**Note:** What table() is actually doing is computing a histogram of the value for the given set / column.\n",
    "\n",
    "This tells us, 13 is the most commonly occuring mileage (miles per gallon) of the vehicles. Of the 398 vehicles, 20 vehicles have 13 miles per gallon. "
   ]
  },
  {
   "cell_type": "markdown",
   "metadata": {},
   "source": [
    "This is not quite the answer we are looking for, so a little more code and we can get what we need.\n",
    "In this case we will use the `which.max()` function to ask:  \n",
    "**Which index holds the greatest value?**\n",
    "\n",
    "\n",
    "In some other languages and mathematical notation, this is often referred to as \"argmax\" for:  \n",
    "Which argument (aka index) has the maximum value?"
   ]
  },
  {
   "cell_type": "code",
   "execution_count": 22,
   "metadata": {},
   "outputs": [
    {
     "data": {
      "text/html": [
       "<strong>13:</strong> 5"
      ],
      "text/latex": [
       "\\textbf{13:} 5"
      ],
      "text/markdown": [
       "**13:** 5"
      ],
      "text/plain": [
       "13 \n",
       " 5 "
      ]
     },
     "metadata": {},
     "output_type": "display_data"
    }
   ],
   "source": [
    "#Let's use which.max with the table function to find out which value \n",
    "#occurred the most frequently in the dataset\n",
    "which.max(table(auto_mpg$mpg))"
   ]
  },
  {
   "cell_type": "code",
   "execution_count": 23,
   "metadata": {},
   "outputs": [
    {
     "data": {
      "text/html": [
       "'The mode using which.max(): 13'"
      ],
      "text/latex": [
       "'The mode using which.max(): 13'"
      ],
      "text/markdown": [
       "'The mode using which.max(): 13'"
      ],
      "text/plain": [
       "[1] \"The mode using which.max(): 13\""
      ]
     },
     "metadata": {},
     "output_type": "display_data"
    }
   ],
   "source": [
    "#And now we can combine the previous code with the paste function...\n",
    "paste(\"The mode using which.max():\",names(which.max(table(auto_mpg$mpg))))\n",
    "\n",
    "#Note: If we don't use `names()` around `which.max`, the returned value is not correct."
   ]
  },
  {
   "cell_type": "markdown",
   "metadata": {},
   "source": [
    "#### Median\n",
    "    \n",
    "    Median = Mid point of all values. \n",
    "\n",
    "Median value divides the data set into two equal halves. \n",
    "One half lies to the left of median and the other to the right. \n",
    "Median values are less affected than the mean by outliers (extreme values). \n",
    "Therefore, the median is considered an ideal choice for measuring central tendency when the data is skewed \n",
    "(when the data has outliers). \n",
    "\n",
    "R has a built-in function to calculate the median. \n",
    "Let's calculate the median for the displacement variable in the auto_mpg dataset."
   ]
  },
  {
   "cell_type": "code",
   "execution_count": 24,
   "metadata": {},
   "outputs": [
    {
     "data": {
      "text/html": [
       "15.5"
      ],
      "text/latex": [
       "15.5"
      ],
      "text/markdown": [
       "15.5"
      ],
      "text/plain": [
       "[1] 15.5"
      ]
     },
     "metadata": {},
     "output_type": "display_data"
    }
   ],
   "source": [
    "median(auto_mpg$acceleration)"
   ]
  },
  {
   "cell_type": "code",
   "execution_count": 26,
   "metadata": {},
   "outputs": [
    {
     "data": {
      "text/html": [
       "'median: 15.5'"
      ],
      "text/latex": [
       "'median: 15.5'"
      ],
      "text/markdown": [
       "'median: 15.5'"
      ],
      "text/plain": [
       "[1] \"median: 15.5\""
      ]
     },
     "metadata": {},
     "output_type": "display_data"
    }
   ],
   "source": [
    "paste(\"median:\",median(auto_mpg$acceleration))"
   ]
  },
  {
   "cell_type": "markdown",
   "metadata": {},
   "source": [
    "Of the 398 observations in the dataset, 199 observations have acceleration less than or equal to 15.5 and other 199 observations have acceleration greater than or equal to 15.5"
   ]
  },
  {
   "cell_type": "markdown",
   "metadata": {},
   "source": [
    "#### Range\n",
    "    \n",
    "    Range = (lowest value, highest value)\n",
    "    \n",
    "The range is also a measure of spread or extremal values of a variable. \n",
    "R also has a built-in function to calculate range. \n",
    "Let's calculate the range of the variable `model.year` in the auto_mpg dataset. "
   ]
  },
  {
   "cell_type": "code",
   "execution_count": 27,
   "metadata": {},
   "outputs": [
    {
     "data": {
      "text/html": [
       "<style>\n",
       ".list-inline {list-style: none; margin:0; padding: 0}\n",
       ".list-inline>li {display: inline-block}\n",
       ".list-inline>li:not(:last-child)::after {content: \"\\00b7\"; padding: 0 .5ex}\n",
       "</style>\n",
       "<ol class=list-inline><li>70</li><li>82</li></ol>\n"
      ],
      "text/latex": [
       "\\begin{enumerate*}\n",
       "\\item 70\n",
       "\\item 82\n",
       "\\end{enumerate*}\n"
      ],
      "text/markdown": [
       "1. 70\n",
       "2. 82\n",
       "\n",
       "\n"
      ],
      "text/plain": [
       "[1] 70 82"
      ]
     },
     "metadata": {},
     "output_type": "display_data"
    }
   ],
   "source": [
    "range(auto_mpg$model.year)"
   ]
  },
  {
   "cell_type": "markdown",
   "metadata": {},
   "source": [
    "So, the range of model years for cars in the dataset are from year 70 to year 82"
   ]
  },
  {
   "cell_type": "markdown",
   "metadata": {},
   "source": [
    "#### Quantile\n",
    "\n",
    "The `quantile()` function divides the data set into **4 equal parts**, based on quantity of measurements. \n",
    "The first is Quantile (Q1), the second is Quantile (Q2), the third Quantile (Q3), and the fourth quantile (Q4).\n",
    "\n",
    "Quantiles are well understood when used with box plots. \n",
    "Box plots summarize and identify the range (minimum and maximum), Q1, Q2, and Q3 of a variable."
   ]
  },
  {
   "cell_type": "code",
   "execution_count": 28,
   "metadata": {},
   "outputs": [
    {
     "data": {
      "text/html": [
       "<style>\n",
       ".dl-inline {width: auto; margin:0; padding: 0}\n",
       ".dl-inline>dt, .dl-inline>dd {float: none; width: auto; display: inline-block}\n",
       ".dl-inline>dt::after {content: \":\\0020\"; padding-right: .5ex}\n",
       ".dl-inline>dt:not(:first-of-type) {padding-left: .5ex}\n",
       "</style><dl class=dl-inline><dt>0%</dt><dd>68</dd><dt>25%</dt><dd>104.25</dd><dt>50%</dt><dd>148.5</dd><dt>75%</dt><dd>262</dd><dt>100%</dt><dd>455</dd></dl>\n"
      ],
      "text/latex": [
       "\\begin{description*}\n",
       "\\item[0\\textbackslash{}\\%] 68\n",
       "\\item[25\\textbackslash{}\\%] 104.25\n",
       "\\item[50\\textbackslash{}\\%] 148.5\n",
       "\\item[75\\textbackslash{}\\%] 262\n",
       "\\item[100\\textbackslash{}\\%] 455\n",
       "\\end{description*}\n"
      ],
      "text/markdown": [
       "0%\n",
       ":   6825%\n",
       ":   104.2550%\n",
       ":   148.575%\n",
       ":   262100%\n",
       ":   455\n",
       "\n"
      ],
      "text/plain": [
       "    0%    25%    50%    75%   100% \n",
       " 68.00 104.25 148.50 262.00 455.00 "
      ]
     },
     "metadata": {},
     "output_type": "display_data"
    }
   ],
   "source": [
    "quantile(auto_mpg$displacement)"
   ]
  },
  {
   "cell_type": "code",
   "execution_count": 29,
   "metadata": {},
   "outputs": [
    {
     "data": {
      "text/html": [
       "<style>\n",
       ".dl-inline {width: auto; margin:0; padding: 0}\n",
       ".dl-inline>dt, .dl-inline>dd {float: none; width: auto; display: inline-block}\n",
       ".dl-inline>dt::after {content: \":\\0020\"; padding-right: .5ex}\n",
       ".dl-inline>dt:not(:first-of-type) {padding-left: .5ex}\n",
       "</style><dl class=dl-inline><dt>0%</dt><dd>70</dd><dt>25%</dt><dd>73</dd><dt>50%</dt><dd>76</dd><dt>75%</dt><dd>79</dd><dt>100%</dt><dd>82</dd></dl>\n"
      ],
      "text/latex": [
       "\\begin{description*}\n",
       "\\item[0\\textbackslash{}\\%] 70\n",
       "\\item[25\\textbackslash{}\\%] 73\n",
       "\\item[50\\textbackslash{}\\%] 76\n",
       "\\item[75\\textbackslash{}\\%] 79\n",
       "\\item[100\\textbackslash{}\\%] 82\n",
       "\\end{description*}\n"
      ],
      "text/markdown": [
       "0%\n",
       ":   7025%\n",
       ":   7350%\n",
       ":   7675%\n",
       ":   79100%\n",
       ":   82\n",
       "\n"
      ],
      "text/plain": [
       "  0%  25%  50%  75% 100% \n",
       "  70   73   76   79   82 "
      ]
     },
     "metadata": {},
     "output_type": "display_data"
    }
   ],
   "source": [
    "quantile(auto_mpg$model.year)"
   ]
  },
  {
   "cell_type": "markdown",
   "metadata": {},
   "source": [
    "This command is very informative as it gives minimum, maximum, 25th percentile, 50th percentile (median) and 75th percentile values of the variable. \n",
    "Quantiles are used for explaining the variance in the variable as it is less immune to outliers and explains variation better than other measures. "
   ]
  },
  {
   "cell_type": "markdown",
   "metadata": {},
   "source": [
    "#### Variance\n",
    "\n",
    "    The average of the squared differences from the mean.\n",
    "    \n",
    "Variance measures how widely the values in a variable are spread around the mean. \n",
    "If the observations vary greatly from the variable mean, the variance will be big and vice versa. \n",
    "R has built-in functions to calculate the variance so that we don't have to get into the math of it. "
   ]
  },
  {
   "cell_type": "code",
   "execution_count": 30,
   "metadata": {},
   "outputs": [
    {
     "data": {
      "text/html": [
       "10872.1991522474"
      ],
      "text/latex": [
       "10872.1991522474"
      ],
      "text/markdown": [
       "10872.1991522474"
      ],
      "text/plain": [
       "[1] 10872.2"
      ]
     },
     "metadata": {},
     "output_type": "display_data"
    }
   ],
   "source": [
    "var(auto_mpg$displacement)"
   ]
  },
  {
   "cell_type": "code",
   "execution_count": 32,
   "metadata": {},
   "outputs": [
    {
     "data": {
      "text/html": [
       "'variance: 10872.1991522474'"
      ],
      "text/latex": [
       "'variance: 10872.1991522474'"
      ],
      "text/markdown": [
       "'variance: 10872.1991522474'"
      ],
      "text/plain": [
       "[1] \"variance: 10872.1991522474\""
      ]
     },
     "metadata": {},
     "output_type": "display_data"
    }
   ],
   "source": [
    "paste('variance:', var(auto_mpg$displacement))"
   ]
  },
  {
   "cell_type": "markdown",
   "metadata": {},
   "source": [
    "The above value represents the squared error of all the displacement values. \n",
    "Variance often doesn't make much sense when trying to understand the spread of the data, as the units of variance are not the same as the units of the original data.\n",
    "However, standard deviation will give us a clearer idea of how data is spread. "
   ]
  },
  {
   "cell_type": "markdown",
   "metadata": {},
   "source": [
    "#### Standard deviation\n",
    "\n",
    "    SQRT(variance) = Standard Deviation"
   ]
  },
  {
   "cell_type": "code",
   "execution_count": 33,
   "metadata": {},
   "outputs": [
    {
     "data": {
      "text/html": [
       "104.269838171196"
      ],
      "text/latex": [
       "104.269838171196"
      ],
      "text/markdown": [
       "104.269838171196"
      ],
      "text/plain": [
       "[1] 104.2698"
      ]
     },
     "metadata": {},
     "output_type": "display_data"
    }
   ],
   "source": [
    "sd(auto_mpg$displacement)"
   ]
  },
  {
   "cell_type": "code",
   "execution_count": 34,
   "metadata": {},
   "outputs": [
    {
     "data": {
      "text/html": [
       "'standard deviation: 104.269838171196'"
      ],
      "text/latex": [
       "'standard deviation: 104.269838171196'"
      ],
      "text/markdown": [
       "'standard deviation: 104.269838171196'"
      ],
      "text/plain": [
       "[1] \"standard deviation: 104.269838171196\""
      ]
     },
     "metadata": {},
     "output_type": "display_data"
    }
   ],
   "source": [
    "paste(\"standard deviation:\", sd(auto_mpg$displacement))"
   ]
  },
  {
   "cell_type": "markdown",
   "metadata": {},
   "source": [
    "The values in the displacement variable have a standard deviation of 104.27. \n",
    "Recall that the mean was 193.42. \n",
    "In later lessons, the combination of mean and standard deviation can be combined to model a data population."
   ]
  },
  {
   "cell_type": "markdown",
   "metadata": {},
   "source": [
    "**Maximum, Minimum, Median, and Mean Absolute Deviation (similar to standard deviation):**\n",
    "\n",
    "We will do this using a for-loop, which is a slow process in R.  \n",
    "Inside the loop, `c()` is a generic R function that **combines** its arguments into a vector.\n",
    "\n",
    "`print()` is a generic R command that prints the contents of an object.\n",
    "\n",
    "Minimum, Maximum etc. cannot be calculated for factor data. \n",
    "So let's create a new dataframe called numeric_data with horsepower as a numeric type variable.\n",
    "We will also exclude car.name."
   ]
  },
  {
   "cell_type": "code",
   "execution_count": 35,
   "metadata": {},
   "outputs": [
    {
     "name": "stderr",
     "output_type": "stream",
     "text": [
      "Warning message in eval(expr, envir, enclos):\n",
      "“NAs introduced by coercion”\n"
     ]
    }
   ],
   "source": [
    "#ncol is a function that returns the number of columns\n",
    "numeric_data=auto_mpg[-ncol(auto_mpg)] # take all columns except the last column\n",
    "numeric_data$horsepower = as.numeric(numeric_data$horsepower) # Convert horsepower to a numeric class"
   ]
  },
  {
   "cell_type": "markdown",
   "metadata": {},
   "source": [
    "See this link for an explanation of the sprintf() function and its syntax: https://www.gastonsanchez.com/r4strings/c-style-formatting.html"
   ]
  },
  {
   "cell_type": "code",
   "execution_count": 36,
   "metadata": {},
   "outputs": [
    {
     "name": "stdout",
     "output_type": "stream",
     "text": [
      "[1] \"         Column    Maximum    Minimum     Median        Mean Absolute Deviation\"\n",
      "[1] \"            mpg       46.6        9.0       23.0        8.9\"\n",
      "[1] \"      cylinders        8.0        3.0        4.0        0.0\"\n",
      "[1] \"   displacement      455.0       68.0      148.5       86.7\"\n",
      "[1] \"     horsepower         NA         NA         NA         NA\"\n",
      "[1] \"         weight     5140.0     1613.0     2803.5      945.2\"\n",
      "[1] \"   acceleration       24.8        8.0       15.5        2.5\"\n",
      "[1] \"     model.year       82.0       70.0       76.0        4.4\"\n",
      "[1] \"         origin        3.0        1.0        1.0        0.0\"\n"
     ]
    }
   ],
   "source": [
    "print(sprintf(\"%15s %10s %10s %10s %30s\",\"Column\", \"Maximum\", \"Minimum\", \"Median\",\"Mean Absolute Deviation\"))\n",
    "for(i in 1:ncol(numeric_data))\n",
    "{\n",
    "    print(sprintf(\"%15s %10.1f %10.1f %10.1f %10.1f\", \n",
    "                  names(numeric_data[i]), \n",
    "                  max(numeric_data[,i]), \n",
    "                  min(numeric_data[,i]), \n",
    "                  median(numeric_data[,i]), \n",
    "                  mad(numeric_data[,i])\n",
    "                 )) \n",
    "}\n",
    "\n",
    "#sprintf() is a wrapper for the C function sprintf, that returns a character vector containing a formatted \n",
    "#combination of text and variable values.  \n",
    "# \"%15s\" returns a string with 15 leading zeros\n",
    "# \"%10.1f\" returns a floating point number with 10 leading zeros and 1 digit after the decimal point"
   ]
  },
  {
   "cell_type": "markdown",
   "metadata": {},
   "source": [
    "The output of the cell above is inefficient but intuitive. \n",
    "We will do the same job in a more efficient fashion using the apply() command.  \n",
    "\n",
    "Notice the \"**NA**\" values for horsepower; it had missing values that are converted to NAs so the functions cannot compute numerical value for horsepower. We need to exclude the NAs from computation. \n",
    "\n",
    "Below, the \"2\" refers to columns in the x array; a \"1\" would refer to rows.\n",
    "This is because rows are the _first index_ and columns are the _second index_."
   ]
  },
  {
   "cell_type": "code",
   "execution_count": 37,
   "metadata": {},
   "outputs": [
    {
     "data": {
      "text/html": [
       "<table class=\"dataframe\">\n",
       "<caption>A matrix: 8 × 4 of type dbl</caption>\n",
       "<thead>\n",
       "\t<tr><th></th><th scope=col>Max</th><th scope=col>Min</th><th scope=col>Median</th><th scope=col>Mean_Absolute_Deviation</th></tr>\n",
       "</thead>\n",
       "<tbody>\n",
       "\t<tr><th scope=row>mpg</th><td>  46.6</td><td>   9</td><td>  23.0</td><td>  8.89560</td></tr>\n",
       "\t<tr><th scope=row>cylinders</th><td>   8.0</td><td>   3</td><td>   4.0</td><td>  0.00000</td></tr>\n",
       "\t<tr><th scope=row>displacement</th><td> 455.0</td><td>  68</td><td> 148.5</td><td> 86.73210</td></tr>\n",
       "\t<tr><th scope=row>horsepower</th><td> 230.0</td><td>  46</td><td>  93.5</td><td> 28.91070</td></tr>\n",
       "\t<tr><th scope=row>weight</th><td>5140.0</td><td>1613</td><td>2803.5</td><td>945.15750</td></tr>\n",
       "\t<tr><th scope=row>acceleration</th><td>  24.8</td><td>   8</td><td>  15.5</td><td>  2.52042</td></tr>\n",
       "\t<tr><th scope=row>model.year</th><td>  82.0</td><td>  70</td><td>  76.0</td><td>  4.44780</td></tr>\n",
       "\t<tr><th scope=row>origin</th><td>   3.0</td><td>   1</td><td>   1.0</td><td>  0.00000</td></tr>\n",
       "</tbody>\n",
       "</table>\n"
      ],
      "text/latex": [
       "A matrix: 8 × 4 of type dbl\n",
       "\\begin{tabular}{r|llll}\n",
       "  & Max & Min & Median & Mean\\_Absolute\\_Deviation\\\\\n",
       "\\hline\n",
       "\tmpg &   46.6 &    9 &   23.0 &   8.89560\\\\\n",
       "\tcylinders &    8.0 &    3 &    4.0 &   0.00000\\\\\n",
       "\tdisplacement &  455.0 &   68 &  148.5 &  86.73210\\\\\n",
       "\thorsepower &  230.0 &   46 &   93.5 &  28.91070\\\\\n",
       "\tweight & 5140.0 & 1613 & 2803.5 & 945.15750\\\\\n",
       "\tacceleration &   24.8 &    8 &   15.5 &   2.52042\\\\\n",
       "\tmodel.year &   82.0 &   70 &   76.0 &   4.44780\\\\\n",
       "\torigin &    3.0 &    1 &    1.0 &   0.00000\\\\\n",
       "\\end{tabular}\n"
      ],
      "text/markdown": [
       "\n",
       "A matrix: 8 × 4 of type dbl\n",
       "\n",
       "| <!--/--> | Max | Min | Median | Mean_Absolute_Deviation |\n",
       "|---|---|---|---|---|\n",
       "| mpg |   46.6 |    9 |   23.0 |   8.89560 |\n",
       "| cylinders |    8.0 |    3 |    4.0 |   0.00000 |\n",
       "| displacement |  455.0 |   68 |  148.5 |  86.73210 |\n",
       "| horsepower |  230.0 |   46 |   93.5 |  28.91070 |\n",
       "| weight | 5140.0 | 1613 | 2803.5 | 945.15750 |\n",
       "| acceleration |   24.8 |    8 |   15.5 |   2.52042 |\n",
       "| model.year |   82.0 |   70 |   76.0 |   4.44780 |\n",
       "| origin |    3.0 |    1 |    1.0 |   0.00000 |\n",
       "\n"
      ],
      "text/plain": [
       "             Max    Min  Median Mean_Absolute_Deviation\n",
       "mpg            46.6    9   23.0   8.89560              \n",
       "cylinders       8.0    3    4.0   0.00000              \n",
       "displacement  455.0   68  148.5  86.73210              \n",
       "horsepower    230.0   46   93.5  28.91070              \n",
       "weight       5140.0 1613 2803.5 945.15750              \n",
       "acceleration   24.8    8   15.5   2.52042              \n",
       "model.year     82.0   70   76.0   4.44780              \n",
       "origin          3.0    1    1.0   0.00000              "
      ]
     },
     "metadata": {},
     "output_type": "display_data"
    }
   ],
   "source": [
    "cbind(Max=apply(numeric_data, 2, max, na.rm=TRUE), \n",
    "      Min=apply(numeric_data, 2, min, na.rm=TRUE), \n",
    "      Median=apply(numeric_data, 2, median, na.rm=TRUE), \n",
    "      Mean_Absolute_Deviation=apply(numeric_data, 2, mad, na.rm=TRUE))\n",
    "\n",
    "# cbind() takes a sequence of vector, matrix or data-frame arguments and combines by columns or rows, respectively.\n",
    "\n",
    "# apply() returns a vector /array / list of values obtained by applying a function to margins of an array or matrix.\n",
    "# The second argument in the apply function is the MARGIN argument, which, here, indicates the function is to be \n",
    "# applied to the columns (as indicated by the number \"2\".)  The third argument is the FUN argument, which specifies \n",
    "# the name of the function to be applied.\n",
    "\n",
    "# na.rm excludes the NA values so that the functions can compute numerical values. "
   ]
  },
  {
   "cell_type": "markdown",
   "metadata": {},
   "source": [
    "What does the `cbind()` function do?\n",
    "When you see functions used and you want more information, you can use the `help()` function to ask the R environment.\n",
    "\n",
    "In a similar fashion you can read the documentation of the `apply()` function as well."
   ]
  },
  {
   "cell_type": "code",
   "execution_count": 38,
   "metadata": {},
   "outputs": [],
   "source": [
    "help(cbind)"
   ]
  },
  {
   "cell_type": "markdown",
   "metadata": {},
   "source": [
    "---\n",
    "\n",
    "## Variables in R\n",
    "\n",
    "In statistical inference, there are basically two treatments of variables in a dataset, **Dependent** and **Independent** variables. \n",
    "The independent variables are used to predict the dependent variable's outcome. \n",
    "For example, in our auto-mpg dataset the variable 'mpg' can be dependent, i.e., it can be predicted by other variables in the dataset.  \n",
    "\n",
    "The variables often share a correlation among themselves. \n",
    "For example, the displacement of a vehicle might be correlated to mpg. \n",
    "Small vehicles tend to have more miles per gallon compared to big vehicles with low miles per gallon. \n",
    "A correlation between a dependent variable and an independent variable doesn't mean that independent variable is causing the changes in dependent variable. \n",
    "Dependent variables change according to independent variables, but aren't necessarily caused by them. \n",
    "\n",
    "### Types of Variables:\n",
    "\n",
    "The most important distinction between variables is if they are either qualitative or quantitative. \n",
    "\n",
    "**Qualitative variables:** Variables that express a qualitative attribute such as religion, favorite movie, gender, and so on fall into this category. They are sometimes referred to as categorical or nominal variables. \n",
    "\n",
    "**Quantitative variables:** Variables that are measured in terms of numbers. \n",
    "Some examples are height, weight, and shoe size.\n",
    "\n",
    "Generally speaking, when the variable has a numeric value, we call it quantitative data. When you classify something, we call it qualitative data."
   ]
  },
  {
   "cell_type": "markdown",
   "metadata": {},
   "source": [
    "\n",
    "##### Flavors of Quantitative data:\n",
    "\n",
    "<b>Discrete variables: </b> Some measures in data are discrete and cannot be made more precise. \n",
    "For example, number of children in a family is discrete, because you are counting indivisible entities. \n",
    "You can't have 2.5 kids or 1.3 pets.\n",
    "\n",
    "<b>Continuous data: </b> Data that can be reduced to finer levels is said to be continuous in nature. \n",
    "\n",
    "### Levels of measurement\n",
    "\n",
    "Both qualitative and quantitative variables follow levels of measurement. \n",
    "There are 4 levels: nominal, ordinal, interval and ratio scaled. \n",
    "\n",
    "<b>nominal:</b> Example : car.name - since it just has car names has its values. \n",
    "More examples could be marital status, gender, religious affliation, etc.\n",
    "\n",
    "<b>ordinal:</b> Example : cylinders - increase in the number of cylinders in a car means higher horsepower. \n",
    "Number of cylinders in cars have an order. \n",
    "More examples could be ranking of soldiers, grade a student belongs to, etc.\n",
    "\n",
    "<b>interval: </b> We can classify acceleration as an interval scaled variable. \n",
    "More examples could be temperature, I.Q, etc. \n",
    "\n",
    "<b>ratio:</b> We don't have a ratio scaled variable in the auto_mpg dataset. \n",
    "An example of a ratio scaled variable could be daily calorie intake or GPA score. \n",
    "\n",
    "These levels are explained in further detail in **Chapter 1 in the [statistics online text book](http://onlinestatbook.com/2/introduction/levels_of_measurement.html)**. \n",
    "We will explore the concepts with the  _auto_mpg_ dataset columns and classify them into different kinds of variables."
   ]
  },
  {
   "cell_type": "code",
   "execution_count": 39,
   "metadata": {},
   "outputs": [
    {
     "data": {
      "text/plain": [
       "      mpg          cylinders      displacement    horsepower       \n",
       " Min.   : 9.00   Min.   :3.000   Min.   : 68.0   Length:398        \n",
       " 1st Qu.:17.50   1st Qu.:4.000   1st Qu.:104.2   Class :character  \n",
       " Median :23.00   Median :4.000   Median :148.5   Mode  :character  \n",
       " Mean   :23.51   Mean   :5.455   Mean   :193.4                     \n",
       " 3rd Qu.:29.00   3rd Qu.:8.000   3rd Qu.:262.0                     \n",
       " Max.   :46.60   Max.   :8.000   Max.   :455.0                     \n",
       "     weight      acceleration     model.year        origin     \n",
       " Min.   :1613   Min.   : 8.00   Min.   :70.00   Min.   :1.000  \n",
       " 1st Qu.:2224   1st Qu.:13.82   1st Qu.:73.00   1st Qu.:1.000  \n",
       " Median :2804   Median :15.50   Median :76.00   Median :1.000  \n",
       " Mean   :2970   Mean   :15.57   Mean   :76.01   Mean   :1.573  \n",
       " 3rd Qu.:3608   3rd Qu.:17.18   3rd Qu.:79.00   3rd Qu.:2.000  \n",
       " Max.   :5140   Max.   :24.80   Max.   :82.00   Max.   :3.000  \n",
       "   car.name        \n",
       " Length:398        \n",
       " Class :character  \n",
       " Mode  :character  \n",
       "                   \n",
       "                   \n",
       "                   "
      ]
     },
     "metadata": {},
     "output_type": "display_data"
    }
   ],
   "source": [
    "summary(auto_mpg)"
   ]
  },
  {
   "cell_type": "code",
   "execution_count": 40,
   "metadata": {},
   "outputs": [
    {
     "name": "stdout",
     "output_type": "stream",
     "text": [
      "'data.frame':\t398 obs. of  9 variables:\n",
      " $ mpg         : num  18 15 18 16 17 15 14 14 14 15 ...\n",
      " $ cylinders   : int  8 8 8 8 8 8 8 8 8 8 ...\n",
      " $ displacement: num  307 350 318 304 302 429 454 440 455 390 ...\n",
      " $ horsepower  : chr  \"130.0\" \"165.0\" \"150.0\" \"150.0\" ...\n",
      " $ weight      : int  3504 3693 3436 3433 3449 4341 4354 4312 4425 3850 ...\n",
      " $ acceleration: num  12 11.5 11 12 10.5 10 9 8.5 10 8.5 ...\n",
      " $ model.year  : int  70 70 70 70 70 70 70 70 70 70 ...\n",
      " $ origin      : int  1 1 1 1 1 1 1 1 1 1 ...\n",
      " $ car.name    : chr  \"chevrolet chevelle malibu\" \"buick skylark 320\" \"plymouth satellite\" \"amc rebel sst\" ...\n"
     ]
    }
   ],
   "source": [
    "str(auto_mpg)"
   ]
  },
  {
   "cell_type": "markdown",
   "metadata": {},
   "source": [
    "From the above summary and structure of data, we can identify what kind of variable each one is!\n",
    "\n",
    "mpg - quantitative[continuous] : \n",
    "\n",
    "      mpg data is numeric and continuous in nature.\n",
    "\n",
    "cylinders - quantitative[discrete] : \n",
    "\n",
    "      cylinders data is integer type and is discrete in nature.\n",
    "\n",
    "displacement - quantitative[continuous] : \n",
    "\n",
    "      Displacement data is numeric and continuous in nature.\n",
    "\n",
    "horsepower - quantitative[discrete] : \n",
    "\n",
    "      Horsepower data is character type and discrete in nature.\n",
    "\n",
    "weight - quantitative[continuous] : \n",
    "\n",
    "      Weight data is numeric and continuous in nature.\n",
    "\n",
    "acceleration - quantitative[continuous] : \n",
    "\n",
    "      Acceleration data is numeric and continuous in nature.\n",
    "\n",
    "model.year - quantitative[discrete] : \n",
    "\n",
    "      model.year data is numeric and is discrete with values ranging from 70 through 82.\n",
    "\n",
    "origin - quantitative[discrete] : \n",
    "\n",
    "      origin data is integer type and it's discrete in nature with levels 1, 2, 3.\n",
    "\n",
    "car.name - qualitative[nominal] : \n",
    "\n",
    "      Car names are nominal. So, it is qualitative data. \n",
    "\n",
    "For variables origin, model.year, and cylinders, the summary() doesn't give enough information to classify them as continuous or discrete. \n",
    "**You should explore the data and see the values in the dataset to characterize their level of measurement.**  "
   ]
  },
  {
   "cell_type": "markdown",
   "metadata": {},
   "source": [
    "## This concludes part A of the introductory statistics lab.  \n",
    "\n",
    "### Please take a break, then continue with [Part B](./1_lab1_intro_to_stats_ptB.ipynb)\n",
    "\n"
   ]
  }
 ],
 "metadata": {
  "kernelspec": {
   "display_name": "R",
   "language": "R",
   "name": "ir"
  },
  "language_info": {
   "codemirror_mode": "r",
   "file_extension": ".r",
   "mimetype": "text/x-r-source",
   "name": "R",
   "pygments_lexer": "r",
   "version": "4.0.5"
  }
 },
 "nbformat": 4,
 "nbformat_minor": 1
}
