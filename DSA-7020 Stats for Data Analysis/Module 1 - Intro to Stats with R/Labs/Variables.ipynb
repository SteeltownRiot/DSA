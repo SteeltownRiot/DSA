{
 "cells": [
  {
   "cell_type": "markdown",
   "metadata": {},
   "source": [
    "<h1 style='color:#685BEA'> Variables </h1>\n",
    "\n",
    "----\n",
    "\n",
    "\n",
    "<h4 style='color:#ECA35A'> Learning Objectives:</h4>\n",
    "\n",
    "\n",
    "* Population and sample\n",
    "* Types of variables"
   ]
  },
  {
   "cell_type": "markdown",
   "metadata": {},
   "source": [
    "<h3 style='color:#A1BB6F'>Why use statistics? Population vs Sample</h3>\n",
    "\n",
    "* We rarely have the resources to measure all the individuals in a population.\n",
    "* In analyzing data, we are usually dealing with a sample that is drawn from the larger population.\n",
    "\n",
    "<img src=\"images/population_sample.png\">"
   ]
  },
  {
   "cell_type": "markdown",
   "metadata": {},
   "source": [
    "<h3 style='color: #D5893E'>Types of Variables</h3>\n",
    "\n",
    "- Quantitative (numeric)\n",
    "- Qualitative (categorical)\n",
    "\n",
    "<img src=\"../images/variable_types.png\"></img>"
   ]
  },
  {
   "cell_type": "markdown",
   "metadata": {},
   "source": [
    "<h1 style='color:#5CB0DE'> Important characteristics of numeric data</h1>\n",
    "\n",
    "* Center (location) -- where is it?\n",
    "* Variation (spread) – how variable is it?\n",
    "* Distribution - How are they distributed\n",
    "* Outliers (extreme values)"
   ]
  },
  {
   "cell_type": "markdown",
   "metadata": {},
   "source": [
    "\n",
    "<h3 style='color:#2A9FC4'>Measures of Center</h3>\n",
    "\n",
    "\n",
    "**Mean (average)**\n",
    "* Sum of the data divided by number of data points\n",
    "\n",
    "\n",
    "**Median**\n",
    "* The number which splits a sorted data set in half\n",
    "* `Middle` value in order.\n",
    "\n",
    "    * **`To calculate Median:`**\n",
    "        * Sort data\n",
    "        * If odd number points, the middle is the median\n",
    "        * Otherwise, the median is the average of the middle two numbers\n",
    "\n",
    "**Mode**\n",
    "* Data point which occurs most often in a data set. Not very useful in most cases"
   ]
  },
  {
   "cell_type": "markdown",
   "metadata": {},
   "source": [
    "<h3 style='color:#7CC5DC'> Relations of Mean and Median </h3>\n",
    "\n",
    "* Right Skewed: When a distribution is skewed positively (right skewed), the mean is larger than the median\n",
    "\n",
    "<img src=\"../images/right_skew_plot.png\"/>\n",
    "\n",
    "----\n",
    "\n",
    "\n",
    "* Left Skewed: When a distribution is skewed negatively (left skewed), the mean is smaller than the median\n",
    "\n",
    "<img src=\"../images/left_skew_plot.png\"/>\n",
    "\n",
    "\n",
    "----\n",
    "\n",
    "\n",
    "* Symmetric : When a distribution is symmetric, the mean and the median are about the same.\n",
    "\n",
    "<img src=\"../images/symmetric.png\"/>\n",
    "\n"
   ]
  },
  {
   "cell_type": "markdown",
   "metadata": {},
   "source": [
    " <h3 style='color:#2A9FC4'>Measures of Variation </h3>\n",
    "\n",
    "Reporting a measure of center gives only partial information about a dataset.\n",
    "Knowledge of the data’s variability along with its center can help us visualize the shape of a dataset as well as its extreme values.\n",
    "\n",
    "* Measure of variability\n",
    "* Range\n",
    "* Standard deviation (SD)\n",
    "* Variance (VAR)\n",
    "* Interquartile range (IQR)\n",
    "* Coefficient of Variation (CV)"
   ]
  },
  {
   "cell_type": "markdown",
   "metadata": {},
   "source": [
    "<h4 style='color:#D77937'> Range </h4>\n",
    "\n",
    "* Difference between largest and smallest\n",
    "<br>\n",
    "\n",
    "  * Formula  \n",
    "  * `Range = largest – smallest data point = max - min`\n",
    "\n",
    "<br>\n",
    "<br>\n",
    "* More variability will be reflected in a larger range\n",
    "* If outliers are present, it may give a distorted impression of the variability of the data"
   ]
  },
  {
   "cell_type": "markdown",
   "metadata": {},
   "source": [
    "<h4 style='color:#D77937'> Standard Deviation (SD) </h4>\n",
    "\n",
    "* Easier to interpret\n",
    "* Most commonly reported measure of variability\n",
    "<br>\n",
    "    * Formula:\n",
    "         $ SD = {\\sqrt {\\frac {\\sum _{i=1}^{n}(x_{i}-{\\overline {x}})^{2}}{n-1}}} $\n",
    "<br>\n",
    "<br>\n",
    "* standard deviation describes variability"
   ]
  },
  {
   "cell_type": "markdown",
   "metadata": {},
   "source": [
    "\n",
    "<h4 style='color:#D77937'> Variance (VAR) </h4>\n",
    "\n",
    "* Units are squared\n",
    "* Not easy to interpret\n",
    "* Rarely reported\n",
    "\n",
    "    * Formula: \n",
    "        $ Var(x) ={\\frac {1}{n-1}}\\sum _{i=1}^{n}(x_{i}-\\overline {x} )^{2} $\n",
    "        "
   ]
  },
  {
   "cell_type": "markdown",
   "metadata": {},
   "source": [
    "\n",
    "<h4 style='color:#D77937'>Interquartile range </h4>\n",
    "\n",
    "\n",
    "* The length of the box in a box plot.\n",
    "<br>\n",
    "    * Formula: `IQR = Q3 - Q1`\n",
    "<br>\n",
    "<br>\n",
    "where Q1 and Q3 are the 25th and 75th percentiles."
   ]
  },
  {
   "cell_type": "markdown",
   "metadata": {},
   "source": [
    "<br>\n",
    "<h4 style='color:#D77937'>Coefficient of Variation (CV)  </h4>\n",
    "\n",
    "\n",
    "* The standard deviation relative to the mean\n",
    "<br>\n",
    "    * Formula: $ CV = \\frac{sample\\ SD}{sample\\ mean} * 100 $\n",
    "<br>\n",
    "<br>"
   ]
  },
  {
   "cell_type": "markdown",
   "metadata": {},
   "source": [
    "<h1 style='color:#5CB0DE'>Exploring Categorical Variables </h1>"
   ]
  },
  {
   "cell_type": "markdown",
   "metadata": {},
   "source": [
    "<h3 style='color: #3DB98A'>Frequency Measures </h3>\n",
    "\n",
    "<h4 style='color: #E55487'> Ratio </h4>\n",
    "\n",
    "A ratio is the relative magnitude of two quantities or a comparison of any two values. It is calculated by dividing one interval- or ratio-scale variable by the other. The numerator and denominator need not be related. Therefore, one could compare apples with oranges or apples with number of physician visits\n",
    "\n",
    "$$\\frac{Number\\ or\\ rate\\ of\\ events,\\ items,\\ persons,\\ etc.\\ in\\ one\\ group}{Number\\ or\\ rate\\ of\\ events,\\ items,\\ persons,\\ etc.\\ in\\ another\\ group}$$"
   ]
  },
  {
   "cell_type": "markdown",
   "metadata": {},
   "source": [
    " \n",
    "\n",
    "<h4 style='color: #E55487'> Proportion </h4>\n",
    "\n",
    "A proportion is the comparison of a part to the whole. It is a type of ratio in which the numerator is included in the denominator. You might use a proportion to describe what fraction of clinic patients tested positive for HIV, or what percentage of the population is younger than 25 years of age. A proportion may be expressed as a decimal, a fraction, or a percentage.\n",
    "\n",
    "$$\\frac{Number\\ of\\ persons\\ or\\ events\\ with\\ a\\ particular\\ characteristic}{Total\\ numbers\\ of\\ persons\\ or\\ events,\\  of\\ which\\ the\\ numerator\\ is\\ a\\ subset}$$"
   ]
  },
  {
   "cell_type": "markdown",
   "metadata": {},
   "source": [
    "<h3 style='color: #3DB98A'>Summarizing categorical variables using tables and proportions </h3>\n",
    "\n",
    "* `Contingency table`: A table that summarizes data for two categorical variables; Each value in the table represents the number of times a particular combination of variable outcomes occurred.\n",
    "<br><br>\n",
    "* `Frequency table`: A table for a single variable\n",
    "<br><br>\n",
    "* `Relative frequency table`: If the counts in a contingency/frequency table is replaced by percentages or proportions\n",
    "\n"
   ]
  },
  {
   "cell_type": "markdown",
   "metadata": {},
   "source": [
    "<h4 style='color: #E55487'> Proportions </h4>\n",
    "\n",
    "\n",
    "<img src=\"../images/relative_frequency.png\"/>\n",
    "<br>\n",
    "<br>\n",
    "<img src=\"../images/column_proportions.png\"/>\n",
    "<br>\n",
    "<br>\n",
    "<img src=\"../images/row_proportions.png\"/>"
   ]
  },
  {
   "cell_type": "markdown",
   "metadata": {},
   "source": [
    "<h2 style='color:#EF4E5F'> Relationships between variables </h2>\n",
    "\n",
    "* Two variables have a positive association when the values of one variable tend to increase as the values of the other variable increase.\n",
    "    * Example: Handspan and height measurements\n",
    "\n",
    "\n",
    "* Two variables have a negative association when the values of one variable tend to decrease as the values of the other variable increase.\n",
    "    * Example: Age and sign legibility distance\n",
    "\n",
    "\n",
    "* If two variables are not associated, then they are said to be independent. That is, two variables are independent if there is no evident relationship between the two.\n",
    "    * Example: Height and intelligence quotient (IQ) score"
   ]
  }
 ],
 "metadata": {
  "interpreter": {
   "hash": "b6e09dab75b03d3c974161562a045a22d270f972cce5214f36242634cba7a7c8"
  },
  "kernelspec": {
   "display_name": "R",
   "language": "python",
   "name": "python3"
  },
  "language_info": {
   "codemirror_mode": "r",
   "file_extension": ".r",
   "mimetype": "text/x-r-source",
   "name": "python",
   "pygments_lexer": "r",
   "version": "3.10.0"
  }
 },
 "nbformat": 4,
 "nbformat_minor": 2
}
