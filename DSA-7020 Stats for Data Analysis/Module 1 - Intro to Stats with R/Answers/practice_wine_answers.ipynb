{
 "cells": [
  {
   "cell_type": "markdown",
   "metadata": {},
   "source": [
    "# Introduction to statistics with `R`\n",
    "\n",
    "This is your first practice notebook in this course. \n",
    "The purpose of this notebook is to apply the commands and knowledge acquired through the lab and videos.\n",
    "Some exercises might introduce new commands and packages to you.\n",
    "The notebook will be incomplete for you to start writing the code to modify/produce output.\n",
    "\n",
    "We will be working with wine dataset.\n",
    "It has 6 independent variables and one dependent variable, `price`.\n",
    "\n",
    "Look in the code samples for\n",
    "```R\n",
    "<what goes in here>\n",
    "    or\n",
    "<replace ... >\n",
    "```\n",
    "This is where you should be modifying the code before running it."
   ]
  },
  {
   "cell_type": "markdown",
   "metadata": {},
   "source": [
    "## Read in the Data"
   ]
  },
  {
   "cell_type": "code",
   "execution_count": 2,
   "metadata": {},
   "outputs": [],
   "source": [
    "wine_data <- read.csv('/dsa/data/all_datasets/wine price/wine.csv')\n",
    "\n",
    "#These are variables that were hypothesized to affect wine quality.  \n",
    "#WinterRain - amount of winter rain (that year)\n",
    "#AGST - average growing season temperature\n",
    "#Age - age of the wine\n",
    "#FrancePop - population of France (that year)"
   ]
  },
  {
   "cell_type": "code",
   "execution_count": 3,
   "metadata": {},
   "outputs": [
    {
     "data": {
      "text/html": [
       "<table class=\"dataframe\">\n",
       "<caption>A data.frame: 6 × 7</caption>\n",
       "<thead>\n",
       "\t<tr><th></th><th scope=col>Year</th><th scope=col>Price</th><th scope=col>WinterRain</th><th scope=col>AGST</th><th scope=col>HarvestRain</th><th scope=col>Age</th><th scope=col>FrancePop</th></tr>\n",
       "\t<tr><th></th><th scope=col>&lt;int&gt;</th><th scope=col>&lt;dbl&gt;</th><th scope=col>&lt;int&gt;</th><th scope=col>&lt;dbl&gt;</th><th scope=col>&lt;int&gt;</th><th scope=col>&lt;int&gt;</th><th scope=col>&lt;dbl&gt;</th></tr>\n",
       "</thead>\n",
       "<tbody>\n",
       "\t<tr><th scope=row>1</th><td>1952</td><td>7.4950</td><td>600</td><td>17.1167</td><td>160</td><td>31</td><td>43183.57</td></tr>\n",
       "\t<tr><th scope=row>2</th><td>1953</td><td>8.0393</td><td>690</td><td>16.7333</td><td> 80</td><td>30</td><td>43495.03</td></tr>\n",
       "\t<tr><th scope=row>3</th><td>1955</td><td>7.6858</td><td>502</td><td>17.1500</td><td>130</td><td>28</td><td>44217.86</td></tr>\n",
       "\t<tr><th scope=row>4</th><td>1957</td><td>6.9845</td><td>420</td><td>16.1333</td><td>110</td><td>26</td><td>45152.25</td></tr>\n",
       "\t<tr><th scope=row>5</th><td>1958</td><td>6.7772</td><td>582</td><td>16.4167</td><td>187</td><td>25</td><td>45653.81</td></tr>\n",
       "\t<tr><th scope=row>6</th><td>1959</td><td>8.0757</td><td>485</td><td>17.4833</td><td>187</td><td>24</td><td>46128.64</td></tr>\n",
       "</tbody>\n",
       "</table>\n"
      ],
      "text/latex": [
       "A data.frame: 6 × 7\n",
       "\\begin{tabular}{r|lllllll}\n",
       "  & Year & Price & WinterRain & AGST & HarvestRain & Age & FrancePop\\\\\n",
       "  & <int> & <dbl> & <int> & <dbl> & <int> & <int> & <dbl>\\\\\n",
       "\\hline\n",
       "\t1 & 1952 & 7.4950 & 600 & 17.1167 & 160 & 31 & 43183.57\\\\\n",
       "\t2 & 1953 & 8.0393 & 690 & 16.7333 &  80 & 30 & 43495.03\\\\\n",
       "\t3 & 1955 & 7.6858 & 502 & 17.1500 & 130 & 28 & 44217.86\\\\\n",
       "\t4 & 1957 & 6.9845 & 420 & 16.1333 & 110 & 26 & 45152.25\\\\\n",
       "\t5 & 1958 & 6.7772 & 582 & 16.4167 & 187 & 25 & 45653.81\\\\\n",
       "\t6 & 1959 & 8.0757 & 485 & 17.4833 & 187 & 24 & 46128.64\\\\\n",
       "\\end{tabular}\n"
      ],
      "text/markdown": [
       "\n",
       "A data.frame: 6 × 7\n",
       "\n",
       "| <!--/--> | Year &lt;int&gt; | Price &lt;dbl&gt; | WinterRain &lt;int&gt; | AGST &lt;dbl&gt; | HarvestRain &lt;int&gt; | Age &lt;int&gt; | FrancePop &lt;dbl&gt; |\n",
       "|---|---|---|---|---|---|---|---|\n",
       "| 1 | 1952 | 7.4950 | 600 | 17.1167 | 160 | 31 | 43183.57 |\n",
       "| 2 | 1953 | 8.0393 | 690 | 16.7333 |  80 | 30 | 43495.03 |\n",
       "| 3 | 1955 | 7.6858 | 502 | 17.1500 | 130 | 28 | 44217.86 |\n",
       "| 4 | 1957 | 6.9845 | 420 | 16.1333 | 110 | 26 | 45152.25 |\n",
       "| 5 | 1958 | 6.7772 | 582 | 16.4167 | 187 | 25 | 45653.81 |\n",
       "| 6 | 1959 | 8.0757 | 485 | 17.4833 | 187 | 24 | 46128.64 |\n",
       "\n"
      ],
      "text/plain": [
       "  Year Price  WinterRain AGST    HarvestRain Age FrancePop\n",
       "1 1952 7.4950 600        17.1167 160         31  43183.57 \n",
       "2 1953 8.0393 690        16.7333  80         30  43495.03 \n",
       "3 1955 7.6858 502        17.1500 130         28  44217.86 \n",
       "4 1957 6.9845 420        16.1333 110         26  45152.25 \n",
       "5 1958 6.7772 582        16.4167 187         25  45653.81 \n",
       "6 1959 8.0757 485        17.4833 187         24  46128.64 "
      ]
     },
     "metadata": {},
     "output_type": "display_data"
    }
   ],
   "source": [
    "head(wine_data)"
   ]
  },
  {
   "cell_type": "markdown",
   "metadata": {},
   "source": [
    "Now that the data is read in, how would you remove the `Id` column from the dataframe in `R`. Remember, `R` is very flexible so there are several ways to remove columns. Do the following:\n",
    "\n",
    "**Activity 1**: Find the dimensions (the number of rows and columns) of the data frame. *Hint: You will have to look up the function to do this as it was not mentioned in the lab*. "
   ]
  },
  {
   "cell_type": "code",
   "execution_count": 4,
   "metadata": {},
   "outputs": [
    {
     "data": {
      "text/html": [
       "<style>\n",
       ".list-inline {list-style: none; margin:0; padding: 0}\n",
       ".list-inline>li {display: inline-block}\n",
       ".list-inline>li:not(:last-child)::after {content: \"\\00b7\"; padding: 0 .5ex}\n",
       "</style>\n",
       "<ol class=list-inline><li>25</li><li>7</li></ol>\n"
      ],
      "text/latex": [
       "\\begin{enumerate*}\n",
       "\\item 25\n",
       "\\item 7\n",
       "\\end{enumerate*}\n"
      ],
      "text/markdown": [
       "1. 25\n",
       "2. 7\n",
       "\n",
       "\n"
      ],
      "text/plain": [
       "[1] 25  7"
      ]
     },
     "metadata": {},
     "output_type": "display_data"
    }
   ],
   "source": [
    "# Code for Activity 1 goes here \n",
    "# -----------------------\n",
    "dim(wine_data)"
   ]
  },
  {
   "cell_type": "markdown",
   "metadata": {},
   "source": [
    "Below is one of the ways that you can subset a data frame based on a condition. Run the code below to see what it returns."
   ]
  },
  {
   "cell_type": "code",
   "execution_count": 5,
   "metadata": {},
   "outputs": [
    {
     "data": {
      "text/html": [
       "<table class=\"dataframe\">\n",
       "<caption>A data.frame: 6 × 7</caption>\n",
       "<thead>\n",
       "\t<tr><th></th><th scope=col>Year</th><th scope=col>Price</th><th scope=col>WinterRain</th><th scope=col>AGST</th><th scope=col>HarvestRain</th><th scope=col>Age</th><th scope=col>FrancePop</th></tr>\n",
       "\t<tr><th></th><th scope=col>&lt;int&gt;</th><th scope=col>&lt;dbl&gt;</th><th scope=col>&lt;int&gt;</th><th scope=col>&lt;dbl&gt;</th><th scope=col>&lt;int&gt;</th><th scope=col>&lt;int&gt;</th><th scope=col>&lt;dbl&gt;</th></tr>\n",
       "</thead>\n",
       "<tbody>\n",
       "\t<tr><th scope=row>18</th><td>1971</td><td>7.1934</td><td>551</td><td>16.7667</td><td>112</td><td>12</td><td>52431.65</td></tr>\n",
       "\t<tr><th scope=row>19</th><td>1972</td><td>6.2049</td><td>536</td><td>14.9833</td><td>158</td><td>11</td><td>52894.18</td></tr>\n",
       "\t<tr><th scope=row>20</th><td>1973</td><td>6.6367</td><td>376</td><td>17.0667</td><td>123</td><td>10</td><td>53332.81</td></tr>\n",
       "\t<tr><th scope=row>21</th><td>1974</td><td>6.2941</td><td>574</td><td>16.3000</td><td>184</td><td> 9</td><td>53689.61</td></tr>\n",
       "\t<tr><th scope=row>22</th><td>1975</td><td>7.2920</td><td>572</td><td>16.9500</td><td>171</td><td> 8</td><td>53955.04</td></tr>\n",
       "\t<tr><th scope=row>23</th><td>1976</td><td>7.1211</td><td>418</td><td>17.6500</td><td>247</td><td> 7</td><td>54159.05</td></tr>\n",
       "</tbody>\n",
       "</table>\n"
      ],
      "text/latex": [
       "A data.frame: 6 × 7\n",
       "\\begin{tabular}{r|lllllll}\n",
       "  & Year & Price & WinterRain & AGST & HarvestRain & Age & FrancePop\\\\\n",
       "  & <int> & <dbl> & <int> & <dbl> & <int> & <int> & <dbl>\\\\\n",
       "\\hline\n",
       "\t18 & 1971 & 7.1934 & 551 & 16.7667 & 112 & 12 & 52431.65\\\\\n",
       "\t19 & 1972 & 6.2049 & 536 & 14.9833 & 158 & 11 & 52894.18\\\\\n",
       "\t20 & 1973 & 6.6367 & 376 & 17.0667 & 123 & 10 & 53332.81\\\\\n",
       "\t21 & 1974 & 6.2941 & 574 & 16.3000 & 184 &  9 & 53689.61\\\\\n",
       "\t22 & 1975 & 7.2920 & 572 & 16.9500 & 171 &  8 & 53955.04\\\\\n",
       "\t23 & 1976 & 7.1211 & 418 & 17.6500 & 247 &  7 & 54159.05\\\\\n",
       "\\end{tabular}\n"
      ],
      "text/markdown": [
       "\n",
       "A data.frame: 6 × 7\n",
       "\n",
       "| <!--/--> | Year &lt;int&gt; | Price &lt;dbl&gt; | WinterRain &lt;int&gt; | AGST &lt;dbl&gt; | HarvestRain &lt;int&gt; | Age &lt;int&gt; | FrancePop &lt;dbl&gt; |\n",
       "|---|---|---|---|---|---|---|---|\n",
       "| 18 | 1971 | 7.1934 | 551 | 16.7667 | 112 | 12 | 52431.65 |\n",
       "| 19 | 1972 | 6.2049 | 536 | 14.9833 | 158 | 11 | 52894.18 |\n",
       "| 20 | 1973 | 6.6367 | 376 | 17.0667 | 123 | 10 | 53332.81 |\n",
       "| 21 | 1974 | 6.2941 | 574 | 16.3000 | 184 |  9 | 53689.61 |\n",
       "| 22 | 1975 | 7.2920 | 572 | 16.9500 | 171 |  8 | 53955.04 |\n",
       "| 23 | 1976 | 7.1211 | 418 | 17.6500 | 247 |  7 | 54159.05 |\n",
       "\n"
      ],
      "text/plain": [
       "   Year Price  WinterRain AGST    HarvestRain Age FrancePop\n",
       "18 1971 7.1934 551        16.7667 112         12  52431.65 \n",
       "19 1972 6.2049 536        14.9833 158         11  52894.18 \n",
       "20 1973 6.6367 376        17.0667 123         10  53332.81 \n",
       "21 1974 6.2941 574        16.3000 184          9  53689.61 \n",
       "22 1975 7.2920 572        16.9500 171          8  53955.04 \n",
       "23 1976 7.1211 418        17.6500 247          7  54159.05 "
      ]
     },
     "metadata": {},
     "output_type": "display_data"
    }
   ],
   "source": [
    "head(wine_data[wine_data$Year > 1970,])"
   ]
  },
  {
   "cell_type": "markdown",
   "metadata": {},
   "source": [
    "**Activity 2**: Subset the wine_data into two dataframes based on the year. Named these dataframes group1 and group2 where group 1 contains data for years less than or equal to 1960 and group2 contains data with year greater than 1960."
   ]
  },
  {
   "cell_type": "code",
   "execution_count": 9,
   "metadata": {},
   "outputs": [],
   "source": [
    "#2 Code for Activity 2 goes here \n",
    "# -----------------------\n",
    "group1 = subset(wine_data,Year<=1960)\n",
    "group2 = subset(wine_data,Year>1960)"
   ]
  },
  {
   "cell_type": "markdown",
   "metadata": {},
   "source": [
    "**Activity 3**: Run summary command and identify each variable if its continuous or discrete."
   ]
  },
  {
   "cell_type": "code",
   "execution_count": 16,
   "metadata": {},
   "outputs": [
    {
     "data": {
      "text/plain": [
       "      Year          Price         WinterRain         AGST        HarvestRain   \n",
       " Min.   :1952   Min.   :6.205   Min.   :376.0   Min.   :14.98   Min.   : 38.0  \n",
       " 1st Qu.:1960   1st Qu.:6.519   1st Qu.:536.0   1st Qu.:16.20   1st Qu.: 89.0  \n",
       " Median :1966   Median :7.121   Median :600.0   Median :16.53   Median :130.0  \n",
       " Mean   :1966   Mean   :7.067   Mean   :605.3   Mean   :16.51   Mean   :148.6  \n",
       " 3rd Qu.:1972   3rd Qu.:7.495   3rd Qu.:697.0   3rd Qu.:17.07   3rd Qu.:187.0  \n",
       " Max.   :1978   Max.   :8.494   Max.   :830.0   Max.   :17.65   Max.   :292.0  \n",
       "      Age         FrancePop    \n",
       " Min.   : 5.0   Min.   :43184  \n",
       " 1st Qu.:11.0   1st Qu.:46584  \n",
       " Median :17.0   Median :50255  \n",
       " Mean   :17.2   Mean   :49694  \n",
       " 3rd Qu.:23.0   3rd Qu.:52894  \n",
       " Max.   :31.0   Max.   :54602  "
      ]
     },
     "metadata": {},
     "output_type": "display_data"
    }
   ],
   "source": [
    "# Code for Activity 3 goes here \n",
    "# -----------------------\n",
    "summary(wine_data)"
   ]
  },
  {
   "cell_type": "raw",
   "metadata": {},
   "source": [
    "# **Answer for Activity 3 goes below this comment \n",
    "# ----------------------------------\n",
    "\n",
    "All variables are quantitative. Discrete or continuous depends on the variable as below:\n",
    "(Note that discrete is different than categorical! Age is a number yet it's discrete, it has no fractions)\n",
    "\n",
    "Year: numeric and discrete in nature. \n",
    "Price: numeric and continuous in nature. \n",
    "AGST: numeric and continuous in nature. \n",
    "Age: numeric and continuous in nature. \n",
    "FrancePop: numeric and discrete in nature. \n",
    "\n",
    "The following two variables are coded as integers, so they are discrete. Yet, the amount of rain should not be \n",
    "a discrete variable. They probably measured them by some unit and rounded to the nearest integer. \n",
    "\n",
    "WinterRain: numeric and continuous in nature but discrete in this data set. \n",
    "HarvestRain: numeric and continuous in nature but discrete in this data set. "
   ]
  },
  {
   "cell_type": "markdown",
   "metadata": {},
   "source": [
    "**Activity 4**: Find out the number of rows where the `Price` is greater than 7."
   ]
  },
  {
   "cell_type": "code",
   "execution_count": 11,
   "metadata": {},
   "outputs": [
    {
     "data": {
      "text/html": [
       "13"
      ],
      "text/latex": [
       "13"
      ],
      "text/markdown": [
       "13"
      ],
      "text/plain": [
       "[1] 13"
      ]
     },
     "metadata": {},
     "output_type": "display_data"
    }
   ],
   "source": [
    "# Code for Activity 4 goes here \n",
    "# -----------------------\n",
    "nrow(wine_data[wine_data$Price > 7,])"
   ]
  },
  {
   "cell_type": "markdown",
   "metadata": {},
   "source": [
    "Let's say we want to know average Age of the wine. \n",
    "\n",
    "**Activity 5**: Apply mean() function on the Age variable"
   ]
  },
  {
   "cell_type": "code",
   "execution_count": 12,
   "metadata": {},
   "outputs": [
    {
     "data": {
      "text/html": [
       "17.2"
      ],
      "text/latex": [
       "17.2"
      ],
      "text/markdown": [
       "17.2"
      ],
      "text/plain": [
       "[1] 17.2"
      ]
     },
     "metadata": {},
     "output_type": "display_data"
    }
   ],
   "source": [
    "# Code for Activity 5 goes here  \n",
    "# -----------------------\n",
    "mean(wine_data$Age)"
   ]
  },
  {
   "cell_type": "markdown",
   "metadata": {},
   "source": [
    "We want to know the year which has recorded highest price for the wine.\n",
    "\n",
    "**Activity 6**: Find the maximum price that is recorded in wine dataset and year for the corresponding row. \n",
    "You will have to look up the command. \n",
    "Hint: try which(). "
   ]
  },
  {
   "cell_type": "code",
   "execution_count": 13,
   "metadata": {},
   "outputs": [
    {
     "data": {
      "text/html": [
       "1961"
      ],
      "text/latex": [
       "1961"
      ],
      "text/markdown": [
       "1961"
      ],
      "text/plain": [
       "[1] 1961"
      ]
     },
     "metadata": {},
     "output_type": "display_data"
    }
   ],
   "source": [
    "#' Code for Activity 6 goes here  \n",
    "# -----------------------\n",
    "wine_data$Year[which.max(wine_data$Price)]"
   ]
  },
  {
   "cell_type": "markdown",
   "metadata": {},
   "source": [
    "**Activity 7**: Identify the datatype of each variable in dataframe. You were introduced to this command in Intro to Data Science course or you can look up for this command."
   ]
  },
  {
   "cell_type": "code",
   "execution_count": 14,
   "metadata": {},
   "outputs": [
    {
     "data": {
      "text/html": [
       "<style>\n",
       ".dl-inline {width: auto; margin:0; padding: 0}\n",
       ".dl-inline>dt, .dl-inline>dd {float: none; width: auto; display: inline-block}\n",
       ".dl-inline>dt::after {content: \":\\0020\"; padding-right: .5ex}\n",
       ".dl-inline>dt:not(:first-of-type) {padding-left: .5ex}\n",
       "</style><dl class=dl-inline><dt>Year</dt><dd>'integer'</dd><dt>Price</dt><dd>'numeric'</dd><dt>WinterRain</dt><dd>'integer'</dd><dt>AGST</dt><dd>'numeric'</dd><dt>HarvestRain</dt><dd>'integer'</dd><dt>Age</dt><dd>'integer'</dd><dt>FrancePop</dt><dd>'numeric'</dd></dl>\n"
      ],
      "text/latex": [
       "\\begin{description*}\n",
       "\\item[Year] 'integer'\n",
       "\\item[Price] 'numeric'\n",
       "\\item[WinterRain] 'integer'\n",
       "\\item[AGST] 'numeric'\n",
       "\\item[HarvestRain] 'integer'\n",
       "\\item[Age] 'integer'\n",
       "\\item[FrancePop] 'numeric'\n",
       "\\end{description*}\n"
      ],
      "text/markdown": [
       "Year\n",
       ":   'integer'Price\n",
       ":   'numeric'WinterRain\n",
       ":   'integer'AGST\n",
       ":   'numeric'HarvestRain\n",
       ":   'integer'Age\n",
       ":   'integer'FrancePop\n",
       ":   'numeric'\n",
       "\n"
      ],
      "text/plain": [
       "       Year       Price  WinterRain        AGST HarvestRain         Age \n",
       "  \"integer\"   \"numeric\"   \"integer\"   \"numeric\"   \"integer\"   \"integer\" \n",
       "  FrancePop \n",
       "  \"numeric\" "
      ]
     },
     "metadata": {},
     "output_type": "display_data"
    }
   ],
   "source": [
    "# Code for Activity 7 goes here  \n",
    "# -----------------------\n",
    "sapply(wine_data,class)"
   ]
  },
  {
   "cell_type": "markdown",
   "metadata": {},
   "source": [
    "**Activity 8**: Check the structure of the dataframe. You have to look up for this command. This command will give you the dimensions of dataframe, type of each variable and initial first 10 values of the variable. Its a very useful command to get a quick overview of dataframe. "
   ]
  },
  {
   "cell_type": "code",
   "execution_count": 17,
   "metadata": {},
   "outputs": [
    {
     "name": "stdout",
     "output_type": "stream",
     "text": [
      "'data.frame':\t25 obs. of  7 variables:\n",
      " $ Year       : int  1952 1953 1955 1957 1958 1959 1960 1961 1962 1963 ...\n",
      " $ Price      : num  7.5 8.04 7.69 6.98 6.78 ...\n",
      " $ WinterRain : int  600 690 502 420 582 485 763 830 697 608 ...\n",
      " $ AGST       : num  17.1 16.7 17.1 16.1 16.4 ...\n",
      " $ HarvestRain: int  160 80 130 110 187 187 290 38 52 155 ...\n",
      " $ Age        : int  31 30 28 26 25 24 23 22 21 20 ...\n",
      " $ FrancePop  : num  43184 43495 44218 45152 45654 ...\n"
     ]
    }
   ],
   "source": [
    "# Code for Activity 8 goes here  \n",
    "# -----------------------\n",
    "str(wine_data)"
   ]
  },
  {
   "cell_type": "markdown",
   "metadata": {},
   "source": [
    "Lets see how WinterRain variable data is distributed \n",
    "\n",
    "**Activity 9**: Plot the distribution of `WinterRain` variable using a histogram with bin size of 20. \n",
    "Plot a density curve on top of the histogram.\n",
    "\n",
    "**Reference:** http://ggplot2.tidyverse.org/reference/geom_histogram.html"
   ]
  },
  {
   "cell_type": "code",
   "execution_count": 33,
   "metadata": {},
   "outputs": [
    {
     "data": {
      "image/png": "[encoded data removed]",
      "text/plain": [
       "plot without title"
      ]
     },
     "metadata": {
      "image/png": {
       "height": 420,
       "width": 420
      }
     },
     "output_type": "display_data"
    }
   ],
   "source": [
    "# Code for Activity 9 goes here  \n",
    "# -----------------------\n",
    "\n",
    "library(ggplot2)\n",
    "p <- ggplot(data=wine_data, aes(WinterRain)) + \n",
    "  geom_histogram(aes(y =..density..), \n",
    "                 breaks=seq(360, 850, by=20), \n",
    "                 col=\"green\", \n",
    "                 fill=\"orange\",\n",
    "                 alpha = .5) + \n",
    "  geom_density(col=2) + \n",
    "  labs(title=\"Histogram for Winter Rain\") +\n",
    "  labs(x=\"Amount of Rain\", y=\"Count\")\n",
    "p"
   ]
  },
  {
   "cell_type": "markdown",
   "metadata": {},
   "source": [
    "**Activity 10:** Draw vertical lines for mean and median of `WinterRain` in above plot.\n",
    "You can use the same `plot` object to draw the lines."
   ]
  },
  {
   "cell_type": "code",
   "execution_count": 34,
   "metadata": {},
   "outputs": [
    {
     "data": {
      "image/png": "[encoded data removed]",
      "text/plain": [
       "plot without title"
      ]
     },
     "metadata": {
      "image/png": {
       "height": 420,
       "width": 420
      }
     },
     "output_type": "display_data"
    }
   ],
   "source": [
    "# Code for Activity 10 goes here  \n",
    "# -----------------------\n",
    "mean_WinterRain <- mean(wine_data$WinterRain)\n",
    "median_WinterRain = median(wine_data$WinterRain)\n",
    "\n",
    "p +  geom_vline(xintercept = mean_WinterRain,color='red')+\n",
    "       geom_vline(xintercept = median_WinterRain,color='blue')"
   ]
  },
  {
   "cell_type": "markdown",
   "metadata": {},
   "source": [
    "Is the `WinterRain` data skewed.\n",
    "\n",
    "**Activity 11:** Find the skewness of WinterRain variable."
   ]
  },
  {
   "cell_type": "code",
   "execution_count": 35,
   "metadata": {},
   "outputs": [
    {
     "data": {
      "text/html": [
       "0.088935852773373"
      ],
      "text/latex": [
       "0.088935852773373"
      ],
      "text/markdown": [
       "0.088935852773373"
      ],
      "text/plain": [
       "[1] 0.08893585"
      ]
     },
     "metadata": {},
     "output_type": "display_data"
    }
   ],
   "source": [
    "# Code for Activity 11 goes here  \n",
    "# -----------------------\n",
    "library(moments)\n",
    "skewness(wine_data$WinterRain)"
   ]
  },
  {
   "cell_type": "raw",
   "metadata": {},
   "source": [
    "It's almost symmetrical. We can also see that from mean and median being very close to each other. "
   ]
  },
  {
   "cell_type": "markdown",
   "metadata": {},
   "source": [
    "# Save your notebook!"
   ]
  }
 ],
 "metadata": {
  "kernelspec": {
   "display_name": "R",
   "language": "R",
   "name": "ir"
  },
  "language_info": {
   "codemirror_mode": "r",
   "file_extension": ".r",
   "mimetype": "text/x-r-source",
   "name": "R",
   "pygments_lexer": "r",
   "version": "4.0.5"
  }
 },
 "nbformat": 4,
 "nbformat_minor": 1
}
