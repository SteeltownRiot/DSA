{
 "cells": [
  {
   "cell_type": "markdown",
   "metadata": {},
   "source": [
    "# Intro to statistics with `R`\n",
    "\n",
    "This is your first exercise notebook. \n",
    "The exercises are similar to what you have seen in lab and practice notebook with a few exercises designed to be a bit challenging. \n",
    "You should explore and find commands to solve the exercises.   \n",
    "\n",
    "Much of the content will be similar to your lab and practice notebook. \n",
    "Both notebooks will help you as a guide post in working out the solutions. "
   ]
  },
  {
   "cell_type": "markdown",
   "metadata": {},
   "source": [
    "## Read in the Data\n",
    "\n",
    "For this exercise we will use some Bike Share data."
   ]
  },
  {
   "cell_type": "code",
   "execution_count": 1,
   "metadata": {},
   "outputs": [],
   "source": [
    "bikeshare_hour <- read.csv('/dsa/data/all_datasets/bikeshare/hour.csv')"
   ]
  },
  {
   "cell_type": "markdown",
   "metadata": {},
   "source": [
    "**Activity 1**: Find the dimensions (the number of rows and columns) of the data frame."
   ]
  },
  {
   "cell_type": "code",
   "execution_count": 2,
   "metadata": {},
   "outputs": [
    {
     "data": {
      "text/html": [
       "<style>\n",
       ".list-inline {list-style: none; margin:0; padding: 0}\n",
       ".list-inline>li {display: inline-block}\n",
       ".list-inline>li:not(:last-child)::after {content: \"\\00b7\"; padding: 0 .5ex}\n",
       "</style>\n",
       "<ol class=list-inline><li>17379</li><li>17</li></ol>\n"
      ],
      "text/latex": [
       "\\begin{enumerate*}\n",
       "\\item 17379\n",
       "\\item 17\n",
       "\\end{enumerate*}\n"
      ],
      "text/markdown": [
       "1. 17379\n",
       "2. 17\n",
       "\n",
       "\n"
      ],
      "text/plain": [
       "[1] 17379    17"
      ]
     },
     "metadata": {},
     "output_type": "display_data"
    }
   ],
   "source": [
    "# Code for Activity 1 goes here \n",
    "# ------------------------------\n",
    "dim(bikeshare_hour)"
   ]
  },
  {
   "cell_type": "markdown",
   "metadata": {},
   "source": [
    "**Activity 2**: Display the ***last*** 10 rows of the data frame."
   ]
  },
  {
   "cell_type": "code",
   "execution_count": 4,
   "metadata": {},
   "outputs": [
    {
     "data": {
      "text/html": [
       "<table class=\"dataframe\">\n",
       "<caption>A data.frame: 10 × 17</caption>\n",
       "<thead>\n",
       "\t<tr><th></th><th scope=col>instant</th><th scope=col>dteday</th><th scope=col>season</th><th scope=col>yr</th><th scope=col>mnth</th><th scope=col>hr</th><th scope=col>holiday</th><th scope=col>weekday</th><th scope=col>workingday</th><th scope=col>weathersit</th><th scope=col>temp</th><th scope=col>atemp</th><th scope=col>hum</th><th scope=col>windspeed</th><th scope=col>casual</th><th scope=col>registered</th><th scope=col>cnt</th></tr>\n",
       "\t<tr><th></th><th scope=col>&lt;int&gt;</th><th scope=col>&lt;chr&gt;</th><th scope=col>&lt;int&gt;</th><th scope=col>&lt;int&gt;</th><th scope=col>&lt;int&gt;</th><th scope=col>&lt;int&gt;</th><th scope=col>&lt;int&gt;</th><th scope=col>&lt;int&gt;</th><th scope=col>&lt;int&gt;</th><th scope=col>&lt;int&gt;</th><th scope=col>&lt;dbl&gt;</th><th scope=col>&lt;dbl&gt;</th><th scope=col>&lt;dbl&gt;</th><th scope=col>&lt;dbl&gt;</th><th scope=col>&lt;int&gt;</th><th scope=col>&lt;int&gt;</th><th scope=col>&lt;int&gt;</th></tr>\n",
       "</thead>\n",
       "<tbody>\n",
       "\t<tr><th scope=row>17370</th><td>17370</td><td>2012-12-31</td><td>1</td><td>1</td><td>12</td><td>14</td><td>0</td><td>1</td><td>1</td><td>2</td><td>0.28</td><td>0.2727</td><td>0.45</td><td>0.2239</td><td>62</td><td>185</td><td>247</td></tr>\n",
       "\t<tr><th scope=row>17371</th><td>17371</td><td>2012-12-31</td><td>1</td><td>1</td><td>12</td><td>15</td><td>0</td><td>1</td><td>1</td><td>2</td><td>0.28</td><td>0.2879</td><td>0.45</td><td>0.1343</td><td>69</td><td>246</td><td>315</td></tr>\n",
       "\t<tr><th scope=row>17372</th><td>17372</td><td>2012-12-31</td><td>1</td><td>1</td><td>12</td><td>16</td><td>0</td><td>1</td><td>1</td><td>2</td><td>0.26</td><td>0.2576</td><td>0.48</td><td>0.1940</td><td>30</td><td>184</td><td>214</td></tr>\n",
       "\t<tr><th scope=row>17373</th><td>17373</td><td>2012-12-31</td><td>1</td><td>1</td><td>12</td><td>17</td><td>0</td><td>1</td><td>1</td><td>2</td><td>0.26</td><td>0.2879</td><td>0.48</td><td>0.0896</td><td>14</td><td>150</td><td>164</td></tr>\n",
       "\t<tr><th scope=row>17374</th><td>17374</td><td>2012-12-31</td><td>1</td><td>1</td><td>12</td><td>18</td><td>0</td><td>1</td><td>1</td><td>2</td><td>0.26</td><td>0.2727</td><td>0.48</td><td>0.1343</td><td>10</td><td>112</td><td>122</td></tr>\n",
       "\t<tr><th scope=row>17375</th><td>17375</td><td>2012-12-31</td><td>1</td><td>1</td><td>12</td><td>19</td><td>0</td><td>1</td><td>1</td><td>2</td><td>0.26</td><td>0.2576</td><td>0.60</td><td>0.1642</td><td>11</td><td>108</td><td>119</td></tr>\n",
       "\t<tr><th scope=row>17376</th><td>17376</td><td>2012-12-31</td><td>1</td><td>1</td><td>12</td><td>20</td><td>0</td><td>1</td><td>1</td><td>2</td><td>0.26</td><td>0.2576</td><td>0.60</td><td>0.1642</td><td> 8</td><td> 81</td><td> 89</td></tr>\n",
       "\t<tr><th scope=row>17377</th><td>17377</td><td>2012-12-31</td><td>1</td><td>1</td><td>12</td><td>21</td><td>0</td><td>1</td><td>1</td><td>1</td><td>0.26</td><td>0.2576</td><td>0.60</td><td>0.1642</td><td> 7</td><td> 83</td><td> 90</td></tr>\n",
       "\t<tr><th scope=row>17378</th><td>17378</td><td>2012-12-31</td><td>1</td><td>1</td><td>12</td><td>22</td><td>0</td><td>1</td><td>1</td><td>1</td><td>0.26</td><td>0.2727</td><td>0.56</td><td>0.1343</td><td>13</td><td> 48</td><td> 61</td></tr>\n",
       "\t<tr><th scope=row>17379</th><td>17379</td><td>2012-12-31</td><td>1</td><td>1</td><td>12</td><td>23</td><td>0</td><td>1</td><td>1</td><td>1</td><td>0.26</td><td>0.2727</td><td>0.65</td><td>0.1343</td><td>12</td><td> 37</td><td> 49</td></tr>\n",
       "</tbody>\n",
       "</table>\n"
      ],
      "text/latex": [
       "A data.frame: 10 × 17\n",
       "\\begin{tabular}{r|lllllllllllllllll}\n",
       "  & instant & dteday & season & yr & mnth & hr & holiday & weekday & workingday & weathersit & temp & atemp & hum & windspeed & casual & registered & cnt\\\\\n",
       "  & <int> & <chr> & <int> & <int> & <int> & <int> & <int> & <int> & <int> & <int> & <dbl> & <dbl> & <dbl> & <dbl> & <int> & <int> & <int>\\\\\n",
       "\\hline\n",
       "\t17370 & 17370 & 2012-12-31 & 1 & 1 & 12 & 14 & 0 & 1 & 1 & 2 & 0.28 & 0.2727 & 0.45 & 0.2239 & 62 & 185 & 247\\\\\n",
       "\t17371 & 17371 & 2012-12-31 & 1 & 1 & 12 & 15 & 0 & 1 & 1 & 2 & 0.28 & 0.2879 & 0.45 & 0.1343 & 69 & 246 & 315\\\\\n",
       "\t17372 & 17372 & 2012-12-31 & 1 & 1 & 12 & 16 & 0 & 1 & 1 & 2 & 0.26 & 0.2576 & 0.48 & 0.1940 & 30 & 184 & 214\\\\\n",
       "\t17373 & 17373 & 2012-12-31 & 1 & 1 & 12 & 17 & 0 & 1 & 1 & 2 & 0.26 & 0.2879 & 0.48 & 0.0896 & 14 & 150 & 164\\\\\n",
       "\t17374 & 17374 & 2012-12-31 & 1 & 1 & 12 & 18 & 0 & 1 & 1 & 2 & 0.26 & 0.2727 & 0.48 & 0.1343 & 10 & 112 & 122\\\\\n",
       "\t17375 & 17375 & 2012-12-31 & 1 & 1 & 12 & 19 & 0 & 1 & 1 & 2 & 0.26 & 0.2576 & 0.60 & 0.1642 & 11 & 108 & 119\\\\\n",
       "\t17376 & 17376 & 2012-12-31 & 1 & 1 & 12 & 20 & 0 & 1 & 1 & 2 & 0.26 & 0.2576 & 0.60 & 0.1642 &  8 &  81 &  89\\\\\n",
       "\t17377 & 17377 & 2012-12-31 & 1 & 1 & 12 & 21 & 0 & 1 & 1 & 1 & 0.26 & 0.2576 & 0.60 & 0.1642 &  7 &  83 &  90\\\\\n",
       "\t17378 & 17378 & 2012-12-31 & 1 & 1 & 12 & 22 & 0 & 1 & 1 & 1 & 0.26 & 0.2727 & 0.56 & 0.1343 & 13 &  48 &  61\\\\\n",
       "\t17379 & 17379 & 2012-12-31 & 1 & 1 & 12 & 23 & 0 & 1 & 1 & 1 & 0.26 & 0.2727 & 0.65 & 0.1343 & 12 &  37 &  49\\\\\n",
       "\\end{tabular}\n"
      ],
      "text/markdown": [
       "\n",
       "A data.frame: 10 × 17\n",
       "\n",
       "| <!--/--> | instant &lt;int&gt; | dteday &lt;chr&gt; | season &lt;int&gt; | yr &lt;int&gt; | mnth &lt;int&gt; | hr &lt;int&gt; | holiday &lt;int&gt; | weekday &lt;int&gt; | workingday &lt;int&gt; | weathersit &lt;int&gt; | temp &lt;dbl&gt; | atemp &lt;dbl&gt; | hum &lt;dbl&gt; | windspeed &lt;dbl&gt; | casual &lt;int&gt; | registered &lt;int&gt; | cnt &lt;int&gt; |\n",
       "|---|---|---|---|---|---|---|---|---|---|---|---|---|---|---|---|---|---|\n",
       "| 17370 | 17370 | 2012-12-31 | 1 | 1 | 12 | 14 | 0 | 1 | 1 | 2 | 0.28 | 0.2727 | 0.45 | 0.2239 | 62 | 185 | 247 |\n",
       "| 17371 | 17371 | 2012-12-31 | 1 | 1 | 12 | 15 | 0 | 1 | 1 | 2 | 0.28 | 0.2879 | 0.45 | 0.1343 | 69 | 246 | 315 |\n",
       "| 17372 | 17372 | 2012-12-31 | 1 | 1 | 12 | 16 | 0 | 1 | 1 | 2 | 0.26 | 0.2576 | 0.48 | 0.1940 | 30 | 184 | 214 |\n",
       "| 17373 | 17373 | 2012-12-31 | 1 | 1 | 12 | 17 | 0 | 1 | 1 | 2 | 0.26 | 0.2879 | 0.48 | 0.0896 | 14 | 150 | 164 |\n",
       "| 17374 | 17374 | 2012-12-31 | 1 | 1 | 12 | 18 | 0 | 1 | 1 | 2 | 0.26 | 0.2727 | 0.48 | 0.1343 | 10 | 112 | 122 |\n",
       "| 17375 | 17375 | 2012-12-31 | 1 | 1 | 12 | 19 | 0 | 1 | 1 | 2 | 0.26 | 0.2576 | 0.60 | 0.1642 | 11 | 108 | 119 |\n",
       "| 17376 | 17376 | 2012-12-31 | 1 | 1 | 12 | 20 | 0 | 1 | 1 | 2 | 0.26 | 0.2576 | 0.60 | 0.1642 |  8 |  81 |  89 |\n",
       "| 17377 | 17377 | 2012-12-31 | 1 | 1 | 12 | 21 | 0 | 1 | 1 | 1 | 0.26 | 0.2576 | 0.60 | 0.1642 |  7 |  83 |  90 |\n",
       "| 17378 | 17378 | 2012-12-31 | 1 | 1 | 12 | 22 | 0 | 1 | 1 | 1 | 0.26 | 0.2727 | 0.56 | 0.1343 | 13 |  48 |  61 |\n",
       "| 17379 | 17379 | 2012-12-31 | 1 | 1 | 12 | 23 | 0 | 1 | 1 | 1 | 0.26 | 0.2727 | 0.65 | 0.1343 | 12 |  37 |  49 |\n",
       "\n"
      ],
      "text/plain": [
       "      instant dteday     season yr mnth hr holiday weekday workingday\n",
       "17370 17370   2012-12-31 1      1  12   14 0       1       1         \n",
       "17371 17371   2012-12-31 1      1  12   15 0       1       1         \n",
       "17372 17372   2012-12-31 1      1  12   16 0       1       1         \n",
       "17373 17373   2012-12-31 1      1  12   17 0       1       1         \n",
       "17374 17374   2012-12-31 1      1  12   18 0       1       1         \n",
       "17375 17375   2012-12-31 1      1  12   19 0       1       1         \n",
       "17376 17376   2012-12-31 1      1  12   20 0       1       1         \n",
       "17377 17377   2012-12-31 1      1  12   21 0       1       1         \n",
       "17378 17378   2012-12-31 1      1  12   22 0       1       1         \n",
       "17379 17379   2012-12-31 1      1  12   23 0       1       1         \n",
       "      weathersit temp atemp  hum  windspeed casual registered cnt\n",
       "17370 2          0.28 0.2727 0.45 0.2239    62     185        247\n",
       "17371 2          0.28 0.2879 0.45 0.1343    69     246        315\n",
       "17372 2          0.26 0.2576 0.48 0.1940    30     184        214\n",
       "17373 2          0.26 0.2879 0.48 0.0896    14     150        164\n",
       "17374 2          0.26 0.2727 0.48 0.1343    10     112        122\n",
       "17375 2          0.26 0.2576 0.60 0.1642    11     108        119\n",
       "17376 2          0.26 0.2576 0.60 0.1642     8      81         89\n",
       "17377 1          0.26 0.2576 0.60 0.1642     7      83         90\n",
       "17378 1          0.26 0.2727 0.56 0.1343    13      48         61\n",
       "17379 1          0.26 0.2727 0.65 0.1343    12      37         49"
      ]
     },
     "metadata": {},
     "output_type": "display_data"
    }
   ],
   "source": [
    "# Code for Activity 2 goes here \n",
    "# ------------------------------\n",
    "tail(bikeshare_hour, 10)"
   ]
  },
  {
   "cell_type": "markdown",
   "metadata": {},
   "source": [
    "**Activity 3**: Run summary command learned in lab and identify **each variable** if it is discrete or continuous."
   ]
  },
  {
   "cell_type": "code",
   "execution_count": 5,
   "metadata": {},
   "outputs": [
    {
     "data": {
      "text/plain": [
       "    instant         dteday              season            yr        \n",
       " Min.   :    1   Length:17379       Min.   :1.000   Min.   :0.0000  \n",
       " 1st Qu.: 4346   Class :character   1st Qu.:2.000   1st Qu.:0.0000  \n",
       " Median : 8690   Mode  :character   Median :3.000   Median :1.0000  \n",
       " Mean   : 8690                      Mean   :2.502   Mean   :0.5026  \n",
       " 3rd Qu.:13034                      3rd Qu.:3.000   3rd Qu.:1.0000  \n",
       " Max.   :17379                      Max.   :4.000   Max.   :1.0000  \n",
       "      mnth              hr           holiday           weekday     \n",
       " Min.   : 1.000   Min.   : 0.00   Min.   :0.00000   Min.   :0.000  \n",
       " 1st Qu.: 4.000   1st Qu.: 6.00   1st Qu.:0.00000   1st Qu.:1.000  \n",
       " Median : 7.000   Median :12.00   Median :0.00000   Median :3.000  \n",
       " Mean   : 6.538   Mean   :11.55   Mean   :0.02877   Mean   :3.004  \n",
       " 3rd Qu.:10.000   3rd Qu.:18.00   3rd Qu.:0.00000   3rd Qu.:5.000  \n",
       " Max.   :12.000   Max.   :23.00   Max.   :1.00000   Max.   :6.000  \n",
       "   workingday       weathersit         temp           atemp       \n",
       " Min.   :0.0000   Min.   :1.000   Min.   :0.020   Min.   :0.0000  \n",
       " 1st Qu.:0.0000   1st Qu.:1.000   1st Qu.:0.340   1st Qu.:0.3333  \n",
       " Median :1.0000   Median :1.000   Median :0.500   Median :0.4848  \n",
       " Mean   :0.6827   Mean   :1.425   Mean   :0.497   Mean   :0.4758  \n",
       " 3rd Qu.:1.0000   3rd Qu.:2.000   3rd Qu.:0.660   3rd Qu.:0.6212  \n",
       " Max.   :1.0000   Max.   :4.000   Max.   :1.000   Max.   :1.0000  \n",
       "      hum           windspeed          casual         registered   \n",
       " Min.   :0.0000   Min.   :0.0000   Min.   :  0.00   Min.   :  0.0  \n",
       " 1st Qu.:0.4800   1st Qu.:0.1045   1st Qu.:  4.00   1st Qu.: 34.0  \n",
       " Median :0.6300   Median :0.1940   Median : 17.00   Median :115.0  \n",
       " Mean   :0.6272   Mean   :0.1901   Mean   : 35.68   Mean   :153.8  \n",
       " 3rd Qu.:0.7800   3rd Qu.:0.2537   3rd Qu.: 48.00   3rd Qu.:220.0  \n",
       " Max.   :1.0000   Max.   :0.8507   Max.   :367.00   Max.   :886.0  \n",
       "      cnt       \n",
       " Min.   :  1.0  \n",
       " 1st Qu.: 40.0  \n",
       " Median :142.0  \n",
       " Mean   :189.5  \n",
       " 3rd Qu.:281.0  \n",
       " Max.   :977.0  "
      ]
     },
     "metadata": {},
     "output_type": "display_data"
    }
   ],
   "source": [
    "# Code for Activity 3 goes here \n",
    "# ------------------------------\n",
    "summary(bikeshare_hour)"
   ]
  },
  {
   "cell_type": "markdown",
   "metadata": {},
   "source": [
    "#unique(bikeshare_hour[c(\"yr\")])\n",
    "\n",
    "discrete:\n",
    "    instant\n",
    "    season\n",
    "    year\n",
    "    mnth\n",
    "    hr\n",
    "    holiday\n",
    "    weekday\n",
    "    workingday\n",
    "    weathersit\n",
    "    casual\n",
    "    registered\n",
    "continuous:\n",
    "    dteday\n",
    "    temp\n",
    "    atemp\n",
    "    hum\n",
    "    windspeed\n",
    "    casual\n",
    "    cnt"
   ]
  },
  {
   "cell_type": "markdown",
   "metadata": {},
   "source": [
    "**So what is the most common type of weather that happens?**\n",
    "\n",
    "**Activity 4**: Find out the most common type of weather that occurs in the dataset."
   ]
  },
  {
   "cell_type": "code",
   "execution_count": 18,
   "metadata": {},
   "outputs": [
    {
     "name": "stdout",
     "output_type": "stream",
     "text": [
      "\n",
      "    1     2     3     4 \n",
      "11413  4544  1419     3 \n"
     ]
    },
    {
     "data": {
      "text/html": [
       "'Most common weather is: 1'"
      ],
      "text/latex": [
       "'Most common weather is: 1'"
      ],
      "text/markdown": [
       "'Most common weather is: 1'"
      ],
      "text/plain": [
       "[1] \"Most common weather is: 1\""
      ]
     },
     "metadata": {},
     "output_type": "display_data"
    }
   ],
   "source": [
    "# Code for Activity 4 goes here\n",
    "# -------------------------------    \n",
    "print(table(bikeshare_hour$weathersit))\n",
    "\n",
    "# Create mode function\n",
    "getmode <- function(v) {\n",
    "   uniqv <- unique(v)\n",
    "   # Count number of times value occurts then returns the largest \n",
    "   uniqv[which.max(tabulate(match(v, uniqv)))]\n",
    "}\n",
    "\n",
    "# Create vector with weather types\n",
    "v <- c(bikeshare_hour$weathersit)\n",
    "# Calculate mode using function\n",
    "mode <- getmode(v)\n",
    "# Store mode as var\n",
    "mode = mode\n",
    "\n",
    "paste('Most common weather is:', mode)"
   ]
  },
  {
   "cell_type": "markdown",
   "metadata": {},
   "source": [
    "We have seen how to calculate z-score in the lab and how to use it in testing a hypothesis. \n",
    "Let’s say, we want to check the significance of variable `weekday` for hypothesis testing. \n",
    "Assuming monday(weekday=1) has more bike shares than average population bike shares on any other day\n",
    "\n",
    "\n",
    "Null hypothesis $H_0$:   \n",
    "There is no significant difference in the number of bike shares for Monday versus any other day of the week.\n",
    "\n",
    "Alternate hypothesis $H_1$:  \n",
    "There is a better chance of monday having more bike shares on average than average bike shares on other days.\n",
    "\n",
    "**Activity 5.a**: Calculate the z-score based on `weekday` variable."
   ]
  },
  {
   "cell_type": "code",
   "execution_count": 39,
   "metadata": {},
   "outputs": [
    {
     "name": "stdout",
     "output_type": "stream",
     "text": [
      "[1] \"Sample mean: 183.744655102864\"\n",
      "[1] \"Population mean: 189.463087634501\"\n",
      "[1] \"Population variance: 32901.4611043111\"\n",
      "[1] \"Standard deviation: 3.643085207387\"\n",
      "[1] \"Z-score: -1.56966752247305\"\n"
     ]
    }
   ],
   "source": [
    "# Code for Activity 5 goes here\n",
    "# -------------------------------    \n",
    "mondays <- subset(bikeshare_hour, weekday == 1)\n",
    "other_days <- subset(bikeshare_hour, weekday == 2 | 3 | 4 | 5 | 6 | 0)\n",
    "num_mondays = nrow(mondays)\n",
    "#print(mondays)\n",
    "#print(other_days)\n",
    "#print(num_mondays)\n",
    "\n",
    "sample_mean = mean(mondays$cnt)\n",
    "pop_mean = mean(other_days$cnt)\n",
    "pop_var = var(other_days$cnt)\n",
    "std = sqrt(pop_var) / sqrt(num_mondays)\n",
    "print(paste(\"Sample mean:\", sample_mean))\n",
    "print(paste(\"Population mean:\", pop_mean))\n",
    "print(paste(\"Population variance:\", pop_var))\n",
    "print(paste(\"Standard deviation:\", std))\n",
    "zscore = (sample_mean - pop_mean) / std\n",
    "print(paste(\"Z-score:\", zscore))"
   ]
  },
  {
   "cell_type": "markdown",
   "metadata": {},
   "source": [
    "**Activity 5.b**: Use the z-score obtained in 5.a to accept or reject null hypothesis $H_0$. \n",
    "Explain why it is accepted or rejected below."
   ]
  },
  {
   "cell_type": "raw",
   "metadata": {},
   "source": [
    "# Answer for activity 5.b goes here\n",
    "# -------------------------------    \n",
    "There is insufficient evidence to reject the null hypothesis as the z-score of -1.57 falls between -1.96 and 1.96. That is assuming our α is 0.05."
   ]
  },
  {
   "cell_type": "markdown",
   "metadata": {},
   "source": [
    "Let's say we were interested in analyzing patters on weekdays and weekends. \n",
    "\n",
    "**Activity 6**: Divide the data set into two different subsets. \n",
    "All rows where the `weekday = 1,2,3,4,5` should be in one set and all days where `weekday = 0,6` should be another set.\n",
    "\n",
    "Hint: You can use `|` operator to satisfy multiple conditions in an if condition."
   ]
  },
  {
   "cell_type": "code",
   "execution_count": 77,
   "metadata": {},
   "outputs": [],
   "source": [
    "# Code for Activity 6 goes here\n",
    "# -------------------------------    \n",
    "weekends <- subset(bikeshare_hour, weekday == 0 | weekday == 6)\n",
    "weekdays <- subset(bikeshare_hour, weekday == 1 | weekday == 2 | weekday == 3 | weekday == 4 | weekday == 5)\n",
    "\n",
    "#weekends\n",
    "#unique(weekends$weekday)\n",
    "#weekdays\n",
    "#unique(weekdays$weekday)"
   ]
  },
  {
   "cell_type": "markdown",
   "metadata": {},
   "source": [
    "Let's say we were interested in analyzing the weather situation on working days. \n",
    "\n",
    "**Activity 7**: Find the distribution of data based `weathersit` and `workingday`.\n",
    "\n",
    "Hint: Look at `table()` command."
   ]
  },
  {
   "cell_type": "code",
   "execution_count": 80,
   "metadata": {},
   "outputs": [
    {
     "data": {
      "text/plain": [
       "   \n",
       "       0    1\n",
       "  1  341 7632\n",
       "  2  137 3191\n",
       "  3   22 1040\n",
       "  4    0    2"
      ]
     },
     "metadata": {},
     "output_type": "display_data"
    },
    {
     "data": {
      "text/html": [
       "<table class=\"dataframe\">\n",
       "<caption>A data.frame: 8 × 3</caption>\n",
       "<thead>\n",
       "\t<tr><th></th><th scope=col>Weather</th><th scope=col>Work.Day</th><th scope=col>Freq</th></tr>\n",
       "\t<tr><th></th><th scope=col>&lt;fct&gt;</th><th scope=col>&lt;fct&gt;</th><th scope=col>&lt;int&gt;</th></tr>\n",
       "</thead>\n",
       "<tbody>\n",
       "\t<tr><th scope=row>1</th><td>1</td><td>0</td><td>3781</td></tr>\n",
       "\t<tr><th scope=row>2</th><td>2</td><td>0</td><td>1353</td></tr>\n",
       "\t<tr><th scope=row>3</th><td>3</td><td>0</td><td> 379</td></tr>\n",
       "\t<tr><th scope=row>4</th><td>4</td><td>0</td><td>   1</td></tr>\n",
       "\t<tr><th scope=row>5</th><td>1</td><td>1</td><td>7632</td></tr>\n",
       "\t<tr><th scope=row>6</th><td>2</td><td>1</td><td>3191</td></tr>\n",
       "\t<tr><th scope=row>7</th><td>3</td><td>1</td><td>1040</td></tr>\n",
       "\t<tr><th scope=row>8</th><td>4</td><td>1</td><td>   2</td></tr>\n",
       "</tbody>\n",
       "</table>\n"
      ],
      "text/latex": [
       "A data.frame: 8 × 3\n",
       "\\begin{tabular}{r|lll}\n",
       "  & Weather & Work.Day & Freq\\\\\n",
       "  & <fct> & <fct> & <int>\\\\\n",
       "\\hline\n",
       "\t1 & 1 & 0 & 3781\\\\\n",
       "\t2 & 2 & 0 & 1353\\\\\n",
       "\t3 & 3 & 0 &  379\\\\\n",
       "\t4 & 4 & 0 &    1\\\\\n",
       "\t5 & 1 & 1 & 7632\\\\\n",
       "\t6 & 2 & 1 & 3191\\\\\n",
       "\t7 & 3 & 1 & 1040\\\\\n",
       "\t8 & 4 & 1 &    2\\\\\n",
       "\\end{tabular}\n"
      ],
      "text/markdown": [
       "\n",
       "A data.frame: 8 × 3\n",
       "\n",
       "| <!--/--> | Weather &lt;fct&gt; | Work.Day &lt;fct&gt; | Freq &lt;int&gt; |\n",
       "|---|---|---|---|\n",
       "| 1 | 1 | 0 | 3781 |\n",
       "| 2 | 2 | 0 | 1353 |\n",
       "| 3 | 3 | 0 |  379 |\n",
       "| 4 | 4 | 0 |    1 |\n",
       "| 5 | 1 | 1 | 7632 |\n",
       "| 6 | 2 | 1 | 3191 |\n",
       "| 7 | 3 | 1 | 1040 |\n",
       "| 8 | 4 | 1 |    2 |\n",
       "\n"
      ],
      "text/plain": [
       "  Weather Work.Day Freq\n",
       "1 1       0        3781\n",
       "2 2       0        1353\n",
       "3 3       0         379\n",
       "4 4       0           1\n",
       "5 1       1        7632\n",
       "6 2       1        3191\n",
       "7 3       1        1040\n",
       "8 4       1           2"
      ]
     },
     "metadata": {},
     "output_type": "display_data"
    },
    {
     "data": {
      "text/html": [
       "<table class=\"dataframe\">\n",
       "<caption>A data.frame: 4 × 3</caption>\n",
       "<thead>\n",
       "\t<tr><th></th><th scope=col>Weather</th><th scope=col>Work.Day</th><th scope=col>Freq</th></tr>\n",
       "\t<tr><th></th><th scope=col>&lt;fct&gt;</th><th scope=col>&lt;fct&gt;</th><th scope=col>&lt;int&gt;</th></tr>\n",
       "</thead>\n",
       "<tbody>\n",
       "\t<tr><th scope=row>1</th><td>1</td><td>0</td><td>3781</td></tr>\n",
       "\t<tr><th scope=row>2</th><td>2</td><td>0</td><td>1353</td></tr>\n",
       "\t<tr><th scope=row>3</th><td>3</td><td>0</td><td> 379</td></tr>\n",
       "\t<tr><th scope=row>4</th><td>4</td><td>0</td><td>   1</td></tr>\n",
       "</tbody>\n",
       "</table>\n"
      ],
      "text/latex": [
       "A data.frame: 4 × 3\n",
       "\\begin{tabular}{r|lll}\n",
       "  & Weather & Work.Day & Freq\\\\\n",
       "  & <fct> & <fct> & <int>\\\\\n",
       "\\hline\n",
       "\t1 & 1 & 0 & 3781\\\\\n",
       "\t2 & 2 & 0 & 1353\\\\\n",
       "\t3 & 3 & 0 &  379\\\\\n",
       "\t4 & 4 & 0 &    1\\\\\n",
       "\\end{tabular}\n"
      ],
      "text/markdown": [
       "\n",
       "A data.frame: 4 × 3\n",
       "\n",
       "| <!--/--> | Weather &lt;fct&gt; | Work.Day &lt;fct&gt; | Freq &lt;int&gt; |\n",
       "|---|---|---|---|\n",
       "| 1 | 1 | 0 | 3781 |\n",
       "| 2 | 2 | 0 | 1353 |\n",
       "| 3 | 3 | 0 |  379 |\n",
       "| 4 | 4 | 0 |    1 |\n",
       "\n"
      ],
      "text/plain": [
       "  Weather Work.Day Freq\n",
       "1 1       0        3781\n",
       "2 2       0        1353\n",
       "3 3       0         379\n",
       "4 4       0           1"
      ]
     },
     "metadata": {},
     "output_type": "display_data"
    },
    {
     "data": {
      "text/html": [
       "<style>\n",
       ".list-inline {list-style: none; margin:0; padding: 0}\n",
       ".list-inline>li {display: inline-block}\n",
       ".list-inline>li:not(:last-child)::after {content: \"\\00b7\"; padding: 0 .5ex}\n",
       "</style>\n",
       "<ol class=list-inline><li>1</li><li>0</li></ol>\n"
      ],
      "text/latex": [
       "\\begin{enumerate*}\n",
       "\\item 1\n",
       "\\item 0\n",
       "\\end{enumerate*}\n"
      ],
      "text/markdown": [
       "1. 1\n",
       "2. 0\n",
       "\n",
       "\n"
      ],
      "text/plain": [
       "[1] 1 0"
      ]
     },
     "metadata": {},
     "output_type": "display_data"
    }
   ],
   "source": [
    "# Code for Activity 7  goes here\n",
    "# -------------------------------    \n",
    "table(weekdays$weathersit, weekdays$workingday)\n",
    "\n",
    "df <- as.data.frame(table(bikeshare_hour$weathersit, bikeshare_hour$workingday))\n",
    "names(df) <- c(\"Weather\", \"Work.Day\", \"Freq\")\n",
    "# Shows work days and non workdays (not sure which is which)\n",
    "df[df$Freq != 0, ]\n",
    "# Excludes weekends?\n",
    "df[df$Work.Day != 1, ]\n",
    "\n",
    "unique(weekdays$workingday)"
   ]
  },
  {
   "cell_type": "markdown",
   "metadata": {},
   "source": [
    "**Activity 8**: Identify the datatype of each variable in bikeshare_hour dataframe.\n",
    "\n",
    "Hint: Use class()."
   ]
  },
  {
   "cell_type": "code",
   "execution_count": 53,
   "metadata": {},
   "outputs": [
    {
     "name": "stdout",
     "output_type": "stream",
     "text": [
      "'data.frame':\t17379 obs. of  17 variables:\n",
      " $ instant   : int  1 2 3 4 5 6 7 8 9 10 ...\n",
      " $ dteday    : chr  \"2011-01-01\" \"2011-01-01\" \"2011-01-01\" \"2011-01-01\" ...\n",
      " $ season    : int  1 1 1 1 1 1 1 1 1 1 ...\n",
      " $ yr        : int  0 0 0 0 0 0 0 0 0 0 ...\n",
      " $ mnth      : int  1 1 1 1 1 1 1 1 1 1 ...\n",
      " $ hr        : int  0 1 2 3 4 5 6 7 8 9 ...\n",
      " $ holiday   : int  0 0 0 0 0 0 0 0 0 0 ...\n",
      " $ weekday   : int  6 6 6 6 6 6 6 6 6 6 ...\n",
      " $ workingday: int  0 0 0 0 0 0 0 0 0 0 ...\n",
      " $ weathersit: int  1 1 1 1 1 2 1 1 1 1 ...\n",
      " $ temp      : num  0.24 0.22 0.22 0.24 0.24 0.24 0.22 0.2 0.24 0.32 ...\n",
      " $ atemp     : num  0.288 0.273 0.273 0.288 0.288 ...\n",
      " $ hum       : num  0.81 0.8 0.8 0.75 0.75 0.75 0.8 0.86 0.75 0.76 ...\n",
      " $ windspeed : num  0 0 0 0 0 0.0896 0 0 0 0 ...\n",
      " $ casual    : int  3 8 5 3 0 0 2 1 1 8 ...\n",
      " $ registered: int  13 32 27 10 1 1 0 2 7 6 ...\n",
      " $ cnt       : int  16 40 32 13 1 1 2 3 8 14 ...\n"
     ]
    }
   ],
   "source": [
    "# Code for Activity 8  goes here\n",
    "# -------------------------------    \n",
    "#sapply(bikeshare_hour, class)\n",
    "# I think I prefer\n",
    "str(bikeshare_hour)"
   ]
  },
  {
   "cell_type": "markdown",
   "metadata": {},
   "source": [
    "**Activity 9**: Check the **structure** of bikeshare_hour dataframe. \n",
    "Look up for the command which returns the structure of a dataframe."
   ]
  },
  {
   "cell_type": "code",
   "execution_count": null,
   "metadata": {},
   "outputs": [],
   "source": [
    "# Code for Activity 9   goes here\n",
    "# -------------------------------    \n",
    "\n",
    "\n",
    "\n"
   ]
  },
  {
   "cell_type": "markdown",
   "metadata": {},
   "source": [
    "Let's see if people are more interested in riding the bike on weekdays or weekends. \n",
    "\n",
    "**Activity 10:** Find out if people are more interested in riding the bike on weekdays or weekends. \n",
    "Find the average number of instances for weekdays and weekends."
   ]
  },
  {
   "cell_type": "code",
   "execution_count": null,
   "metadata": {},
   "outputs": [],
   "source": [
    "# Code for Activity 10   goes here\n",
    "# -------------------------------    \n",
    "\n",
    "\n",
    "\n"
   ]
  },
  {
   "cell_type": "markdown",
   "metadata": {},
   "source": [
    "**Activity 11:** Display the row when maximum number of bikes were shared in the hour."
   ]
  },
  {
   "cell_type": "code",
   "execution_count": null,
   "metadata": {},
   "outputs": [],
   "source": [
    "# Code for Activity 11   goes here\n",
    "# -------------------------------    \n",
    "\n",
    "\n",
    "\n",
    "\n"
   ]
  },
  {
   "cell_type": "markdown",
   "metadata": {},
   "source": [
    "Lets do some data cleaning before taking up the next activity"
   ]
  },
  {
   "cell_type": "code",
   "execution_count": null,
   "metadata": {},
   "outputs": [],
   "source": [
    "#First get the count of total bike shares based on each hour of the day and weekday. Run the code below\n",
    "hour_sums=t(tapply(bikeshare_hour$cnt, bikeshare_hour$hr,sum))\n",
    "day_sums=t(tapply(bikeshare_hour$cnt, bikeshare_hour$weekday,sum))"
   ]
  },
  {
   "cell_type": "markdown",
   "metadata": {},
   "source": [
    "The `tapply()` definition from R-manual: \n",
    "\n",
    "Apply a function to each cell of a ragged array, \n",
    "that is to each (non-empty) group of values given by a unique combination of the levels of certain factors.\n",
    "\n",
    "Suggested reading: [tapply()](https://www.r-bloggers.com/r-function-of-the-day-tapply-2/)\n",
    "\n",
    "Simply put, in our example of hour_sums variable, \n",
    "the data is partitioned based on the second parameter, `bikeshare_hour$hr.` \n",
    "So 24 subsets are created for each hour(0 to 23). \n",
    "The 3rd argument can be any function(sum,mean,median etc) \n",
    "which is applied on the first parameter of tapply function. \n",
    "Since now we have 24 subsets, we are performing `sum(bikeshare_hour$cnt)` on this 24 subsets of data for each hour.\n",
    "\n",
    "\n",
    "The `t()` is used to return the transpose of the input dataframe or matrix. \n",
    "Jupyter has issues rendering `tapply()` output, so `t()` is a workaround to display the output correctly.\n",
    "\n",
    "More information on [t()](https://stat.ethz.ch/R-manual/R-devel/library/base/html/t.html)\n",
    "\n",
    "If you check the dimensions of `hour_sums` and `day_sums` variables they are dataframes. \n",
    "But we want the output in the form of a vector. \n",
    "So how can we convert a dataframe to a vector?"
   ]
  },
  {
   "cell_type": "code",
   "execution_count": null,
   "metadata": {},
   "outputs": [],
   "source": [
    "#The above piece of code returns dataframes as output. Check the dimensions and class to verify. Run the code below.\n",
    "dim(hour_sums)\n",
    "dim(day_sums)\n",
    "class(hour_sums)\n",
    "class(day_sums)"
   ]
  },
  {
   "cell_type": "markdown",
   "metadata": {},
   "source": [
    "R has builtin function to convert data format between dataframes,matrices and vectors. \n",
    "You can change the data type and also check if certain object is actually a dataframe \n",
    "or matrix or a vector using functions like `is.dataframe()` etc."
   ]
  },
  {
   "cell_type": "code",
   "execution_count": null,
   "metadata": {},
   "outputs": [],
   "source": [
    "#Convert the dataframes hour_sums, day_sums into a matrix and then into arrays. Run the code below.\n",
    "hour_sums=as.vector(as.matrix(hour_sums))\n",
    "day_sums=as.vector(as.matrix(day_sums))\n",
    "hour_sums\n",
    "day_sums"
   ]
  },
  {
   "cell_type": "markdown",
   "metadata": {},
   "source": [
    "## Distributions\n",
    "\n",
    "Lets peek into the distribution of different variables and see how they are distributed.\n",
    "\n",
    "**Activity 12:** Plot a bar plot for bike shares for each hour of the day and weekday.\n",
    "Use `hour_sums` and `day_sums` vectors we created above to plot the graphs. \n",
    "Combine this plots using the `par()` or `layout()` command for analyzing them easily.\n"
   ]
  },
  {
   "cell_type": "code",
   "execution_count": null,
   "metadata": {},
   "outputs": [],
   "source": [
    "# Code for activity 12 goes gere \n",
    "# Uncomment below if you want to supress scientific notation of numbers.\n",
    "# options(scipen=999)\n"
   ]
  },
  {
   "cell_type": "markdown",
   "metadata": {},
   "source": [
    "The plots tell a clear story.\n",
    "The peak hour of bike shares is at the 17- and 18-hour every day. \n",
    "Additionally, Thurdays and Fridays are popular for bike shares in a week. \n",
    "This is contradicting with what we saw in activity 10 where average number of instances of bike shares are more on weekends. \n",
    "Lets see the average number of users who rent the bike on each day of the week."
   ]
  },
  {
   "cell_type": "code",
   "execution_count": null,
   "metadata": {},
   "outputs": [],
   "source": [
    "day_sums"
   ]
  },
  {
   "cell_type": "markdown",
   "metadata": {},
   "source": [
    "**Activity 13:** Plot a boxplot for `cnt` against each weekday"
   ]
  },
  {
   "cell_type": "code",
   "execution_count": null,
   "metadata": {},
   "outputs": [],
   "source": [
    "#Code for activity 13 goes here\n",
    "# -------------------------------    \n",
    "\n",
    "\n",
    "\n"
   ]
  },
  {
   "cell_type": "markdown",
   "metadata": {},
   "source": [
    "**Activity 14:** Plot histograms for variables `casual`, `registered` and `cnt` and see how they are distributed.  \n",
    "Plot mean and median on the histograms. "
   ]
  },
  {
   "cell_type": "code",
   "execution_count": null,
   "metadata": {},
   "outputs": [],
   "source": [
    "#Code for activity 14 goes here\n",
    "# -------------------------------    \n",
    "\n",
    "\n",
    "\n"
   ]
  },
  {
   "cell_type": "markdown",
   "metadata": {},
   "source": [
    "# SAVE YOUR NOTEBOOK"
   ]
  }
 ],
 "metadata": {
  "kernelspec": {
   "display_name": "R",
   "language": "R",
   "name": "ir"
  },
  "language_info": {
   "codemirror_mode": "r",
   "file_extension": ".r",
   "mimetype": "text/x-r-source",
   "name": "R",
   "pygments_lexer": "r",
   "version": "4.0.5"
  }
 },
 "nbformat": 4,
 "nbformat_minor": 1
}
