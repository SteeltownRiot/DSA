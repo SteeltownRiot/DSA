{
 "cells": [
  {
   "cell_type": "markdown",
   "metadata": {},
   "source": [
    "<span style=\"color:#04c921; font-size:24px; font-weight:700\"> Module 5 - Linear and Multiple Regression exercises</span>\n",
    "\n",
    "Linear regression is one of the important modelling techniques. \n",
    "We looked into some of the important concepts like fitting a linear model, \n",
    "how variation in the data is explained by the model, error of the estimates and multiple regression. \n",
    "\n",
    "We will apply linear regression on a new dataset which is about concrete. \n",
    "The dataset source opinions, concrete compressive strength is a highly nonlinear function of age and ingredients. These ingredients include cement, blast furnace slag, fly ash, water, superplasticizer, coarse aggregate, and fine aggregate. We will fit a simple linear model for the response variable concrete compressive strength and extend it to multiple predictors to analyze and evaluate any improvement in the model."
   ]
  },
  {
   "cell_type": "markdown",
   "metadata": {},
   "source": [
    "Reading the data:"
   ]
  },
  {
   "cell_type": "code",
   "execution_count": null,
   "metadata": {},
   "outputs": [],
   "source": [
    "concrete_data = read.csv(\"/dsa/data/all_datasets/concrete/Concrete_Data.csv\",header=TRUE)\n",
    "head(concrete_data)"
   ]
  },
  {
   "cell_type": "markdown",
   "metadata": {},
   "source": [
    "The column headers are not very aesthetic or readable. \n",
    "\n",
    "<span style=\"color:#1d80ba; font-size:14px; font-weight:700\">Activity 1:</span> Modify the column names so that only the actual name of the column is used instead of all the unwanted description. \n",
    "\n",
    "The column names are present in a file called `headers.txt` in the same directory as the data. Read the data and extract the names into an array called headers."
   ]
  },
  {
   "cell_type": "code",
   "execution_count": null,
   "metadata": {},
   "outputs": [],
   "source": [
    "# Your code for activity 1 goes here..\n",
    "\n",
    "\n",
    "\n",
    "\n"
   ]
  },
  {
   "cell_type": "markdown",
   "metadata": {},
   "source": [
    "<span style=\"color:#1d80ba; font-size:14px; font-weight:700\">Activity 2:</span> Use sample.split() function to split the data into training and testing sets. Put 70% of data in \"train_data\" dataframe and rest in \"test_data\" dataframe. Use the seed as 1000 to reproduce test results for evaluation. \n",
    "\n",
    "We will evaluate the predictive capability of our model on test dataset. "
   ]
  },
  {
   "cell_type": "code",
   "execution_count": null,
   "metadata": {},
   "outputs": [],
   "source": [
    "library(caTools)\n",
    "set.seed(1000) # set.seed() will help us to reproduce the results.\n",
    "\n",
    "# Your code for activity 2 goes here..\n",
    "\n",
    "# Train data will have 70% of data\n",
    "train_data  = \n",
    "\n",
    "# Test data will have the rest 30% of data\n",
    "test_data  = "
   ]
  },
  {
   "cell_type": "markdown",
   "metadata": {},
   "source": [
    "Check the correlation of independent variables with dependent variable Concrete. "
   ]
  },
  {
   "cell_type": "code",
   "execution_count": null,
   "metadata": {},
   "outputs": [],
   "source": [
    "cor(concrete_data)\n",
    "\n",
    "# or \n",
    "\n",
    "library(GGally)\n",
    "\n",
    "ggpairs(concrete_data)"
   ]
  },
  {
   "cell_type": "markdown",
   "metadata": {},
   "source": [
    "cement is highly correlated with concrete with a correlation of 0.51. "
   ]
  },
  {
   "cell_type": "markdown",
   "metadata": {},
   "source": [
    "<span style=\"color:#1d80ba; font-size:14px; font-weight:700\">Activity 3:</span> Fit a simple regression model to predict Concrete using Cement variable. Name this model `concrete_cement_reg`. Use train_data as data source."
   ]
  },
  {
   "cell_type": "code",
   "execution_count": null,
   "metadata": {},
   "outputs": [],
   "source": [
    "# Your code for activity 3 goes here..\n",
    "\n",
    "\n",
    "\n"
   ]
  },
  {
   "cell_type": "markdown",
   "metadata": {},
   "source": [
    "<span style=\"color:#1d80ba; font-size:14px; font-weight:700\">Activity 4:</span> Plot the regression line and residual errors for above model as shown in linear and multiple regression lab. "
   ]
  },
  {
   "cell_type": "code",
   "execution_count": null,
   "metadata": {},
   "outputs": [],
   "source": [
    "# Your code for activity 4 goes here..\n",
    "\n",
    "\n",
    "library(ggplot2)\n",
    "\n",
    "# The predicted values for dependent variable 'Concrete' can be accessed by referring to fitted.values of the model \n",
    "# as shown below.\n",
    "pred_values<-concrete_cement_reg$fitted.values\n",
    "\n",
    "#plot the regression line and residual errors\n",
    "\n",
    "\n"
   ]
  },
  {
   "cell_type": "markdown",
   "metadata": {},
   "source": [
    "According to the R-squared value the variable Cement can only explain 26% of the variation in the data. "
   ]
  },
  {
   "cell_type": "markdown",
   "metadata": {},
   "source": [
    "<span style=\"color:#1d80ba; font-size:14px; font-weight:700\">Activity 5:</span> Calculate Sum of squared errors of above model where SSE = Sum of squares of residual terms. You can access residuals by accessing model using following syntax: concrete_cement_reg$residuals."
   ]
  },
  {
   "cell_type": "code",
   "execution_count": null,
   "metadata": {},
   "outputs": [],
   "source": [
    "# Your code for activity 5 goes here..\n",
    "SSE = \n"
   ]
  },
  {
   "cell_type": "markdown",
   "metadata": {},
   "source": [
    "We have seen Cement was a significant variable in predicting Concrete strength. Its the most correlated variable with Concrete. So if we have to build the model with just one variable to predict Concrete strength, Cement would be the best predictor. Move on to multiple regression and add more variables to the mdoel. Add the next highly correlated variable to the model.\n",
    "\n",
    "<span style=\"color:#1d80ba; font-size:14px; font-weight:700\">Activity 6:</span> Add Superplasticizer to the simple regression model fitted above and predict Concrete in train_data. Name this model `concrete_reg1`. Run summary(). "
   ]
  },
  {
   "cell_type": "code",
   "execution_count": null,
   "metadata": {},
   "outputs": [],
   "source": [
    "# Your code for activity 6 goes here..\n",
    "\n",
    "\n"
   ]
  },
  {
   "cell_type": "markdown",
   "metadata": {},
   "source": [
    "Superplasticizer has added value to the model. R-squared value increased from 0.25 to 0.35. Add next highly correlated variable Age to the model and call this model `concrete_reg2`."
   ]
  },
  {
   "cell_type": "markdown",
   "metadata": {},
   "source": [
    "<span style=\"color:#1d80ba; font-size:14px; font-weight:700\">Activity 7:</span> Add Age to `concrete_reg1` model fitted above to predict Concrete. Name this model `concrete_reg2`. Check for any improvement in the R-squared value. "
   ]
  },
  {
   "cell_type": "code",
   "execution_count": null,
   "metadata": {},
   "outputs": [],
   "source": [
    "# Your code for activity 7 goes here..\n",
    "\n",
    "\n"
   ]
  },
  {
   "cell_type": "markdown",
   "metadata": {},
   "source": [
    "The model is getting better with addition of new predictors. The latest model concrete_reg2 can explain more variation in the data. If we keep on adding the data at some point there would be an insignificant increase in the model R-squared value. Its better to exclude variables to avoid over fitting of models. The variables Coarse, Fine, Fly don't contribute much to the model to the model built with  Cement+Superplasticizer+Age+Blast+Water as predictos. \n",
    "\n",
    "We had to check each variable if it was adding any new information to the model. This can become time consuming when there are few 10's of variables in the model. Instead you can reverse engineer and build a model using all the independent variables and start selecting the variables which are significant or exclude variables that are insignificant which ever works the best in a situation.  \n",
    "\n",
    "<span style=\"color:#1d80ba; font-size:14px; font-weight:700\">Activity 8:</span> Fit a multiple regression model using all the independent variables in concrete_data dataset to predict Concrete. Name this model `concrete_reg3`."
   ]
  },
  {
   "cell_type": "code",
   "execution_count": null,
   "metadata": {},
   "outputs": [],
   "source": [
    "# Your code for activity 8 goes here..\n",
    "\n",
    "\n",
    "\n",
    "summary(concrete_reg3)"
   ]
  },
  {
   "cell_type": "markdown",
   "metadata": {},
   "source": [
    "<span style=\"color:#1d80ba; font-size:14px; font-weight:700\">Activity 9:</span> According to the summary of the model `concrete_reg3` above remove the variables with p-value greater than 0.05 and from the model and rebuild the model with the rest variables. Name this model `concrete_reg4`."
   ]
  },
  {
   "cell_type": "code",
   "execution_count": null,
   "metadata": {},
   "outputs": [],
   "source": [
    "# Your code for activity 9 goes here..\n",
    "\n",
    "\n",
    "\n",
    "summary(concrete_reg4)"
   ]
  },
  {
   "cell_type": "markdown",
   "metadata": {},
   "source": [
    "The R-squared value of above model concrete_reg4 is 0.59. This is the best model you can get without applying any more advanced techniques. You came to this point in two steps doing reverse engineering eliminating variables from the model. Above approach of including predictors one by one and checking R-squared value will make build eight different models adding eight variables to model one by one. So this second approach is the better one. This may not be the case in all situations but its a better approach when your data has many predictors. "
   ]
  },
  {
   "cell_type": "markdown",
   "metadata": {},
   "source": [
    "# Save your notebook!"
   ]
  }
 ],
 "metadata": {
  "kernelspec": {
   "display_name": "R",
   "language": "R",
   "name": "ir"
  },
  "language_info": {
   "codemirror_mode": "r",
   "file_extension": ".r",
   "mimetype": "text/x-r-source",
   "name": "R",
   "pygments_lexer": "r",
   "version": "4.0.5"
  }
 },
 "nbformat": 4,
 "nbformat_minor": 1
}
