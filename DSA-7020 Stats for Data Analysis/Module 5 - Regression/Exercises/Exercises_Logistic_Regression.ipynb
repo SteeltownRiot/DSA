{
 "cells": [
  {
   "cell_type": "markdown",
   "metadata": {},
   "source": [
    "<span style=\"color:#04c921; font-size:24px; font-weight:700\"> Logistic regression - Exercises</span>"
   ]
  },
  {
   "cell_type": "markdown",
   "metadata": {},
   "source": [
    "Loans data captured information on loan repayment by individuals. We have 13 independent variables and 1 dependent variable called not.fully.paid. Build a logistic regreession model to predict if an individual is a loan defaulter or not. \n",
    "\n",
    "Load the loans dataset:"
   ]
  },
  {
   "cell_type": "code",
   "execution_count": 1,
   "metadata": {},
   "outputs": [],
   "source": [
    "# load the loans dataset\n",
    "loans_data = read.csv(\"/dsa/data/all_datasets/loans/loans.csv\")"
   ]
  },
  {
   "cell_type": "code",
   "execution_count": 2,
   "metadata": {},
   "outputs": [
    {
     "name": "stdout",
     "output_type": "stream",
     "text": [
      "'data.frame':\t9578 obs. of  14 variables:\n",
      " $ credit.policy    : int  1 1 1 1 1 1 1 1 1 1 ...\n",
      " $ purpose          : chr  \"debt_consolidation\" \"credit_card\" \"debt_consolidation\" \"debt_consolidation\" ...\n",
      " $ int.rate         : num  0.119 0.107 0.136 0.101 0.143 ...\n",
      " $ installment      : num  829 228 367 162 103 ...\n",
      " $ log.annual.inc   : num  11.4 11.1 10.4 11.4 11.3 ...\n",
      " $ dti              : num  19.5 14.3 11.6 8.1 15 ...\n",
      " $ fico             : int  737 707 682 712 667 727 667 722 682 707 ...\n",
      " $ days.with.cr.line: num  5640 2760 4710 2700 4066 ...\n",
      " $ revol.bal        : int  28854 33623 3511 33667 4740 50807 3839 24220 69909 5630 ...\n",
      " $ revol.util       : num  52.1 76.7 25.6 73.2 39.5 51 76.8 68.6 51.1 23 ...\n",
      " $ inq.last.6mths   : int  0 0 1 1 0 0 0 0 1 1 ...\n",
      " $ delinq.2yrs      : int  0 0 0 0 1 0 0 0 0 0 ...\n",
      " $ pub.rec          : int  0 0 0 0 0 0 1 0 0 0 ...\n",
      " $ not.fully.paid   : int  0 0 0 0 0 0 1 1 0 0 ...\n"
     ]
    }
   ],
   "source": [
    "str(loans_data)"
   ]
  },
  {
   "cell_type": "markdown",
   "metadata": {},
   "source": [
    "<span style=\"color:#1d80ba; font-size:14px; font-weight:700\">Activity 1:</span> What proportion of the loans in the dataset were not paid in full?"
   ]
  },
  {
   "cell_type": "code",
   "execution_count": 3,
   "metadata": {},
   "outputs": [
    {
     "data": {
      "text/html": [
       "<table class=\"dataframe\">\n",
       "<caption>A data.frame: 2 × 2</caption>\n",
       "<thead>\n",
       "\t<tr><th scope=col>not.fully.paid</th><th scope=col>freq</th></tr>\n",
       "\t<tr><th scope=col>&lt;int&gt;</th><th scope=col>&lt;int&gt;</th></tr>\n",
       "</thead>\n",
       "<tbody>\n",
       "\t<tr><td>0</td><td>8045</td></tr>\n",
       "\t<tr><td>1</td><td>1533</td></tr>\n",
       "</tbody>\n",
       "</table>\n"
      ],
      "text/latex": [
       "A data.frame: 2 × 2\n",
       "\\begin{tabular}{ll}\n",
       " not.fully.paid & freq\\\\\n",
       " <int> & <int>\\\\\n",
       "\\hline\n",
       "\t 0 & 8045\\\\\n",
       "\t 1 & 1533\\\\\n",
       "\\end{tabular}\n"
      ],
      "text/markdown": [
       "\n",
       "A data.frame: 2 × 2\n",
       "\n",
       "| not.fully.paid &lt;int&gt; | freq &lt;int&gt; |\n",
       "|---|---|\n",
       "| 0 | 8045 |\n",
       "| 1 | 1533 |\n",
       "\n"
      ],
      "text/plain": [
       "  not.fully.paid freq\n",
       "1 0              8045\n",
       "2 1              1533"
      ]
     },
     "metadata": {},
     "output_type": "display_data"
    },
    {
     "data": {
      "text/html": [
       "'Proportion of unpaid loans is 0.160054291083734'"
      ],
      "text/latex": [
       "'Proportion of unpaid loans is 0.160054291083734'"
      ],
      "text/markdown": [
       "'Proportion of unpaid loans is 0.160054291083734'"
      ],
      "text/plain": [
       "[1] \"Proportion of unpaid loans is 0.160054291083734\""
      ]
     },
     "metadata": {},
     "output_type": "display_data"
    }
   ],
   "source": [
    "# Your code for activity 1 goes here..\n",
    "library(plyr)\n",
    "freq = count(loans_data,'not.fully.paid')\n",
    "freq\n",
    "paste(\"Proportion of unpaid loans is\", 1533/(1533+8045))"
   ]
  },
  {
   "cell_type": "markdown",
   "metadata": {},
   "source": [
    "<span style=\"color:#1d80ba; font-size:14px; font-weight:700\">Activity 2:</span> split data into a training and testing set. **Use the seed as 144**. Put 70% data into train_data dataframe and 30% in test_data dataframe. "
   ]
  },
  {
   "cell_type": "code",
   "execution_count": 4,
   "metadata": {},
   "outputs": [],
   "source": [
    "# Your code for activity 2 goes here..\n",
    "library(caTools)\n",
    "set.seed(144)\n",
    "\n",
    "split = sample.split(loans_data$not.fully.paid, SplitRatio=0.7)\n",
    "\n",
    "# Train data will have 70% of data\n",
    "train_data = subset(loans_data, split==TRUE)\n",
    "\n",
    "# Test data will have the rest 30% of data\n",
    "test_data = subset(loans_data, split==FALSE)\n"
   ]
  },
  {
   "cell_type": "markdown",
   "metadata": {},
   "source": [
    "<span style=\"color:#1d80ba; font-size:14px; font-weight:700\">Activity 3:</span> Build a logistic regression model on train_data to predict not.fully.paid using all the independent variables. Run summary(). "
   ]
  },
  {
   "cell_type": "code",
   "execution_count": 5,
   "metadata": {},
   "outputs": [
    {
     "data": {
      "text/plain": [
       "\n",
       "Call:\n",
       "glm(formula = not.fully.paid ~ ., family = binomial, data = train_data)\n",
       "\n",
       "Deviance Residuals: \n",
       "    Min       1Q   Median       3Q      Max  \n",
       "-2.2049  -0.6205  -0.4951  -0.3606   2.6397  \n",
       "\n",
       "Coefficients:\n",
       "                            Estimate Std. Error z value Pr(>|z|)    \n",
       "(Intercept)                9.187e+00  1.554e+00   5.910 3.42e-09 ***\n",
       "credit.policy             -3.368e-01  1.011e-01  -3.332 0.000861 ***\n",
       "purposecredit_card        -6.141e-01  1.344e-01  -4.568 4.93e-06 ***\n",
       "purposedebt_consolidation -3.212e-01  9.183e-02  -3.498 0.000469 ***\n",
       "purposeeducational         1.347e-01  1.753e-01   0.768 0.442201    \n",
       "purposehome_improvement    1.727e-01  1.480e-01   1.167 0.243135    \n",
       "purposemajor_purchase     -4.830e-01  2.009e-01  -2.404 0.016203 *  \n",
       "purposesmall_business      4.120e-01  1.419e-01   2.905 0.003678 ** \n",
       "int.rate                   6.110e-01  2.085e+00   0.293 0.769446    \n",
       "installment                1.275e-03  2.092e-04   6.093 1.11e-09 ***\n",
       "log.annual.inc            -4.337e-01  7.148e-02  -6.067 1.30e-09 ***\n",
       "dti                        4.638e-03  5.502e-03   0.843 0.399288    \n",
       "fico                      -9.317e-03  1.710e-03  -5.448 5.08e-08 ***\n",
       "days.with.cr.line          2.371e-06  1.588e-05   0.149 0.881343    \n",
       "revol.bal                  3.085e-06  1.168e-06   2.641 0.008273 ** \n",
       "revol.util                 1.839e-03  1.535e-03   1.199 0.230722    \n",
       "inq.last.6mths             8.437e-02  1.600e-02   5.275 1.33e-07 ***\n",
       "delinq.2yrs               -8.320e-02  6.561e-02  -1.268 0.204762    \n",
       "pub.rec                    3.300e-01  1.139e-01   2.898 0.003756 ** \n",
       "---\n",
       "Signif. codes:  0 ‘***’ 0.001 ‘**’ 0.01 ‘*’ 0.05 ‘.’ 0.1 ‘ ’ 1\n",
       "\n",
       "(Dispersion parameter for binomial family taken to be 1)\n",
       "\n",
       "    Null deviance: 5896.6  on 6704  degrees of freedom\n",
       "Residual deviance: 5485.2  on 6686  degrees of freedom\n",
       "AIC: 5523.2\n",
       "\n",
       "Number of Fisher Scoring iterations: 5\n"
      ]
     },
     "metadata": {},
     "output_type": "display_data"
    }
   ],
   "source": [
    "# Your code for activity 3 goes here..\n",
    "\n",
    "predict_train = glm(not.fully.paid ~ ., data=train_data, family=binomial)\n",
    "\n",
    "summary(predict_train)\n"
   ]
  },
  {
   "cell_type": "markdown",
   "metadata": {},
   "source": [
    "<span style=\"color:#1d80ba; font-size:14px; font-weight:700\">Activity 4:</span> Above model predict_train has some variables that are not significant. Remove the variables (purpose, int.rate, dti, days.with.cr.line, revol.util, delinq.2yrs) from the model and rebuild it. Name this new model predict_train1. Look for any change in the AIC value. "
   ]
  },
  {
   "cell_type": "code",
   "execution_count": 6,
   "metadata": {},
   "outputs": [
    {
     "data": {
      "text/plain": [
       "\n",
       "Call:\n",
       "glm(formula = not.fully.paid ~ credit.policy + installment + \n",
       "    log.annual.inc + fico + revol.bal + inq.last.6mths + pub.rec, \n",
       "    family = binomial, data = train_data)\n",
       "\n",
       "Deviance Residuals: \n",
       "    Min       1Q   Median       3Q      Max  \n",
       "-2.1894  -0.6156  -0.5085  -0.3820   2.5298  \n",
       "\n",
       "Coefficients:\n",
       "                 Estimate Std. Error z value Pr(>|z|)    \n",
       "(Intercept)     9.197e+00  1.006e+00   9.145  < 2e-16 ***\n",
       "credit.policy  -3.467e-01  1.001e-01  -3.463 0.000534 ***\n",
       "installment     1.296e-03  1.850e-04   7.004 2.49e-12 ***\n",
       "log.annual.inc -4.414e-01  6.814e-02  -6.478 9.30e-11 ***\n",
       "fico           -9.164e-03  1.084e-03  -8.453  < 2e-16 ***\n",
       "revol.bal       3.827e-06  1.102e-06   3.474 0.000513 ***\n",
       "inq.last.6mths  8.988e-02  1.593e-02   5.641 1.69e-08 ***\n",
       "pub.rec         3.197e-01  1.130e-01   2.830 0.004654 ** \n",
       "---\n",
       "Signif. codes:  0 ‘***’ 0.001 ‘**’ 0.01 ‘*’ 0.05 ‘.’ 0.1 ‘ ’ 1\n",
       "\n",
       "(Dispersion parameter for binomial family taken to be 1)\n",
       "\n",
       "    Null deviance: 5896.6  on 6704  degrees of freedom\n",
       "Residual deviance: 5552.4  on 6697  degrees of freedom\n",
       "AIC: 5568.4\n",
       "\n",
       "Number of Fisher Scoring iterations: 5\n"
      ]
     },
     "metadata": {},
     "output_type": "display_data"
    }
   ],
   "source": [
    "# Your code for activity 4 goes here..\n",
    "predict_train1 = glm(not.fully.paid ~ credit.policy + installment + log.annual.inc + fico \n",
    "                     + revol.bal + inq.last.6mths + pub.rec, data=train_data, family=binomial)\n",
    "\n",
    "summary(predict_train1)\n"
   ]
  },
  {
   "cell_type": "markdown",
   "metadata": {},
   "source": [
    "The AIC value has increased. A model with minimum AIC is the preferred one. So we will stick with the model `predict_train` for doing predictions on test dataset. "
   ]
  },
  {
   "cell_type": "markdown",
   "metadata": {},
   "source": [
    "<span style=\"color:#1d80ba; font-size:14px; font-weight:700\">Activity 5:</span> Predict the outcomes on test dataset loans which are not being paid back in full. Store these **predicted probabilities** in a variable named predicted.risk."
   ]
  },
  {
   "cell_type": "code",
   "execution_count": 8,
   "metadata": {},
   "outputs": [],
   "source": [
    "# Your code for activity 5 goes here..\n",
    "predicted.risk = predict(predict_train, type = \"response\", newdata=test_data)\n"
   ]
  },
  {
   "cell_type": "markdown",
   "metadata": {},
   "source": [
    "<span style=\"color:#1d80ba; font-size:14px; font-weight:700\">Activity 6:</span> Compute the confusion matrix between variables not.fully.paid in test_data and predicted.risk using a threshold of 0.5"
   ]
  },
  {
   "cell_type": "code",
   "execution_count": 11,
   "metadata": {},
   "outputs": [
    {
     "data": {
      "text/plain": [
       "   \n",
       "    FALSE TRUE\n",
       "  0  2400   13\n",
       "  1   457    3"
      ]
     },
     "metadata": {},
     "output_type": "display_data"
    }
   ],
   "source": [
    "# Your code for activity 6 goes here..\n",
    "c_matrix <- table(test_data$not.fully.paid, predicted.risk>0.5)\n",
    "c_matrix"
   ]
  },
  {
   "cell_type": "markdown",
   "metadata": {},
   "source": [
    "<span style=\"color:#1d80ba; font-size:14px; font-weight:700\">Activity 7:</span> What is the accuracy of the model predict_train?"
   ]
  },
  {
   "cell_type": "code",
   "execution_count": 14,
   "metadata": {},
   "outputs": [
    {
     "data": {
      "text/html": [
       "'Accuracy = (TP + TN) / total # observations = 0.8364'"
      ],
      "text/latex": [
       "'Accuracy = (TP + TN) / total \\# observations = 0.8364'"
      ],
      "text/markdown": [
       "'Accuracy = (TP + TN) / total # observations = 0.8364'"
      ],
      "text/plain": [
       "[1] \"Accuracy = (TP + TN) / total # observations = 0.8364\""
      ]
     },
     "metadata": {},
     "output_type": "display_data"
    },
    {
     "data": {
      "text/html": [
       "'Sensitivity = TP/(TP+FN) = 0.0065'"
      ],
      "text/latex": [
       "'Sensitivity = TP/(TP+FN) = 0.0065'"
      ],
      "text/markdown": [
       "'Sensitivity = TP/(TP+FN) = 0.0065'"
      ],
      "text/plain": [
       "[1] \"Sensitivity = TP/(TP+FN) = 0.0065\""
      ]
     },
     "metadata": {},
     "output_type": "display_data"
    },
    {
     "data": {
      "text/html": [
       "'Specificity = TN/(TN+FP) = 0.9946'"
      ],
      "text/latex": [
       "'Specificity = TN/(TN+FP) = 0.9946'"
      ],
      "text/markdown": [
       "'Specificity = TN/(TN+FP) = 0.9946'"
      ],
      "text/plain": [
       "[1] \"Specificity = TN/(TN+FP) = 0.9946\""
      ]
     },
     "metadata": {},
     "output_type": "display_data"
    }
   ],
   "source": [
    "# Your answer for activity 7 goes here.\n",
    "\n",
    "# Just do the math here using the numbers you got in above confusion matrix. No need of any code. \n",
    "\n",
    "# (TP + TN) / number of observations in the dataset\n",
    "paste(\"Accuracy = (TP + TN) / total # obs =\", round((3+2400)/(2400+13+457+3),4))\n",
    "# In R, 0 = FALSE and 1 = TRUE, so the values for 0 are those that are paid, and the values for 1 are those that are\n",
    "# not paid.\n",
    "\n",
    "paste(\"Sensitivity = TP/(TP+FN) =\", round(3/(3+457),4))\n",
    "paste(\"Specificity = TN/(TN+FP) =\", round(2400/(2400+13),4))"
   ]
  },
  {
   "cell_type": "markdown",
   "metadata": {},
   "source": [
    "<span style=\"color:#1d80ba; font-size:14px; font-weight:700\">Activity 8:</span> What is the accuracy of the baseline model?"
   ]
  },
  {
   "cell_type": "code",
   "execution_count": 17,
   "metadata": {},
   "outputs": [
    {
     "data": {
      "text/html": [
       "'Baseline for all observations: 0.8399'"
      ],
      "text/latex": [
       "'Baseline for all observations: 0.8399'"
      ],
      "text/markdown": [
       "'Baseline for all observations: 0.8399'"
      ],
      "text/plain": [
       "[1] \"Baseline for all observations: 0.8399\""
      ]
     },
     "metadata": {},
     "output_type": "display_data"
    },
    {
     "data": {
      "text/html": [
       "'Baseline for test observations: 0.8399'"
      ],
      "text/latex": [
       "'Baseline for test observations: 0.8399'"
      ],
      "text/markdown": [
       "'Baseline for test observations: 0.8399'"
      ],
      "text/plain": [
       "[1] \"Baseline for test observations: 0.8399\""
      ]
     },
     "metadata": {},
     "output_type": "display_data"
    }
   ],
   "source": [
    "# Your answer for activity 8 goes here..\n",
    "\n",
    "# Just do the math here using the numbers you got in above confusion matrix. No need of any code. \n",
    "# In the lab it asked us to predict the most frequent outcome for all obs to get baseline.\n",
    "# The above instruction is to use numbers from the confusion matrix so I have included both.\n",
    "paste(\"Baseline for all observations:\", round(8045/(8045+1533),4))\n",
    "paste(\"Baseline for test observations:\", round((2400+13)/(2413+457+3),4))"
   ]
  },
  {
   "cell_type": "markdown",
   "metadata": {},
   "source": [
    "<span style=\"color:#1d80ba; font-size:14px; font-weight:700\">Activity 9a:</span> Compute the AUC of the model predict_train using the ROCR package."
   ]
  },
  {
   "cell_type": "code",
   "execution_count": 20,
   "metadata": {},
   "outputs": [
    {
     "data": {
      "text/plain": [
       "A performance instance\n",
       "  'False positive rate' vs. 'True positive rate' (alpha: 'Cutoff')\n",
       "  with 2874 data points"
      ]
     },
     "metadata": {},
     "output_type": "display_data"
    }
   ],
   "source": [
    "library(ROCR)\n",
    "# Your answer for activity 9a goes here..\n",
    "framingham_log = predict_train\n",
    "predictTest = predict_test\n",
    "\n",
    "predict_test = predict(predict_train, type=\"response\", newdata=test_data)\n",
    "\n",
    "ROCR_predictions = prediction(predict_test, test_data$not.fully.paid)\n",
    "\n",
    "perf <- performance(ROCR_predictions,\"tpr\",\"fpr\")\n"
   ]
  },
  {
   "cell_type": "markdown",
   "metadata": {},
   "source": [
    "<span style=\"color:#1d80ba; font-size:14px; font-weight:700\">Activity 9b:</span> Plot the ROC curves for the model `predict_train` and `predict_train1`. "
   ]
  },
  {
   "cell_type": "code",
   "execution_count": 21,
   "metadata": {},
   "outputs": [
    {
     "data": {
      "text/html": [
       "0.672099497288242"
      ],
      "text/latex": [
       "0.672099497288242"
      ],
      "text/markdown": [
       "0.672099497288242"
      ],
      "text/plain": [
       "[1] 0.6720995"
      ]
     },
     "metadata": {},
     "output_type": "display_data"
    },
    {
     "data": {
      "image/png": "[encoded data removed]",
      "text/plain": [
       "plot without title"
      ]
     },
     "metadata": {
      "image/png": {
       "height": 420,
       "width": 420
      }
     },
     "output_type": "display_data"
    }
   ],
   "source": [
    "# Your answer for activity 9b goes here..\n",
    "plot(perf,colorize=TRUE)\n",
    "abline(0,1)\n",
    "as.numeric(performance(ROCR_predictions,\"auc\")@y.values)\n"
   ]
  },
  {
   "cell_type": "markdown",
   "metadata": {},
   "source": [
    "# Save your notebook!"
   ]
  }
 ],
 "metadata": {
  "kernelspec": {
   "display_name": "R",
   "language": "R",
   "name": "ir"
  },
  "language_info": {
   "codemirror_mode": "r",
   "file_extension": ".r",
   "mimetype": "text/x-r-source",
   "name": "R",
   "pygments_lexer": "r",
   "version": "4.0.5"
  }
 },
 "nbformat": 4,
 "nbformat_minor": 1
}
