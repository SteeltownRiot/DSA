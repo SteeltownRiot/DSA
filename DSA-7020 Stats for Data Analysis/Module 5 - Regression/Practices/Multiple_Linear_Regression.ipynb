{
 "cells": [
  {
   "cell_type": "markdown",
   "metadata": {},
   "source": [
    "<span style=\"color:#04c921; font-size:24px; font-weight:700\"> Multiple Linear Regression</span>\n",
    "\n",
    "In this practice, we will use the same data set as in simple linear regression practice. We will add more variables to models to see if we can have a better linear model. "
   ]
  },
  {
   "cell_type": "markdown",
   "metadata": {},
   "source": [
    "#### Read the data\n",
    "\n",
    "Load the framingham dataset in directory '/datasets/framingham/'. The following few lines are the same as in simple linear regression practice; we are creating the same data here. "
   ]
  },
  {
   "cell_type": "code",
   "execution_count": null,
   "metadata": {},
   "outputs": [],
   "source": [
    "framingham_data <- read.csv(\"/dsa/data/all_datasets/framingham/framingham.csv\")"
   ]
  },
  {
   "cell_type": "code",
   "execution_count": null,
   "metadata": {},
   "outputs": [],
   "source": [
    "framingham_data[\"pulseP\"] <- framingham_data$sysBP - framingham_data$diaBP\n",
    "\n",
    "framingham_data_male   <- subset(framingham_data, male==1 & age > 18 & BPMeds == 0, select=c(2,11:14,17))\n",
    "framingham_data_female <- subset(framingham_data, male==0 & age > 18 & BPMeds == 0, select=c(2,11:14,17))"
   ]
  },
  {
   "cell_type": "code",
   "execution_count": null,
   "metadata": {},
   "outputs": [],
   "source": [
    "head(framingham_data_male)"
   ]
  },
  {
   "cell_type": "markdown",
   "metadata": {},
   "source": [
    "<span style=\"color:#1d80ba; font-size:14px; font-weight:700\">Activity 1:</span> Fit a multiple regression model to predict pulseP using age and BMI. "
   ]
  },
  {
   "cell_type": "code",
   "execution_count": null,
   "metadata": {},
   "outputs": [],
   "source": [
    "# Fill the partially complete code and execute it..\n",
    "pp_female1 <- lm(<what goes in here>, data=framingham_data_female)\n",
    "summary(pp_female1)\n",
    "\n",
    "# add heartRate to pp_male1 model and create new model named pp_male2. \n",
    "pp_female2 <- lm(<what goes in here>, data=framingham_data_female)\n",
    "summary(pp_female2)"
   ]
  },
  {
   "cell_type": "markdown",
   "metadata": {},
   "source": [
    "As we can see, the $R^2$ slightly increases with adding a new variable to the model. Let's do the same for males. "
   ]
  },
  {
   "cell_type": "code",
   "execution_count": null,
   "metadata": {},
   "outputs": [],
   "source": [
    "pp_male1 <- lm(pulseP ~ <what goes in here>, data=framingham_data_male)\n",
    "summary(pp_male1)\n",
    "\n",
    "# add heartRate to pp_female model and create new model named pp_female2. \n",
    "pp_male2 <- lm(pulseP ~ <what goes in here>, data=framingham_data_male)\n",
    "summary(pp_male2)"
   ]
  },
  {
   "cell_type": "markdown",
   "metadata": {},
   "source": [
    "For males, we can not model the pulse pressure that well, $R^2$ does not get any better."
   ]
  },
  {
   "cell_type": "markdown",
   "metadata": {},
   "source": [
    "#### House sales data\n",
    "Let's look at another data set: house sales in King county."
   ]
  },
  {
   "cell_type": "code",
   "execution_count": null,
   "metadata": {},
   "outputs": [],
   "source": [
    "housing_data <- read.csv(\"/dsa/data/all_datasets/house_sales_in_king_county/kc_house_data.csv\",header=TRUE)\n",
    "str(housing_data)"
   ]
  },
  {
   "cell_type": "markdown",
   "metadata": {},
   "source": [
    "<span style=\"color:#1d80ba; font-size:14px; font-weight:700\">Activity 2:</span> Fit a linear regression model to predict the house sale price using sqft_living.  "
   ]
  },
  {
   "cell_type": "code",
   "execution_count": null,
   "metadata": {},
   "outputs": [],
   "source": [
    "# Fill in the partially complete code and execute the code..\n",
    "\n",
    "houseprice_reg <- lm(<what goes in here>, data=housing_data)\n",
    "summary(houseprice_reg)"
   ]
  },
  {
   "cell_type": "markdown",
   "metadata": {},
   "source": [
    "As we can see, sqft_living is a good predictor for the price. Let's see if we can improve this model with additional variables."
   ]
  },
  {
   "cell_type": "code",
   "execution_count": null,
   "metadata": {},
   "outputs": [],
   "source": [
    "# add the second variable: bedrooms\n",
    "houseprice_reg2 <- lm(<what goes in here>, data=housing_data)\n",
    "summary(hhouseprice_reg2)\n"
   ]
  },
  {
   "cell_type": "code",
   "execution_count": null,
   "metadata": {},
   "outputs": [],
   "source": [
    "# add the third variable: sqft_lot\n",
    "\n",
    "houseprice_reg3 <- lm(<what goes in here>, data=housing_data)\n",
    "summary(houseprice_reg3)"
   ]
  },
  {
   "cell_type": "code",
   "execution_count": null,
   "metadata": {},
   "outputs": [],
   "source": [
    "# add the fourth variable: floors\n",
    "\n",
    "houseprice_reg4 <- lm(<what goes in here>, data=housing_data)\n",
    "summary(houseprice_reg4)"
   ]
  },
  {
   "cell_type": "code",
   "execution_count": null,
   "metadata": {},
   "outputs": [],
   "source": [
    "# add the fifth variable: bathrooms\n",
    "\n",
    "houseprice_reg5 <- lm(<what goes in here>, data=housing_data)\n",
    "summary(houseprice_reg5)"
   ]
  },
  {
   "cell_type": "markdown",
   "metadata": {},
   "source": [
    "Adding number of bedrooms as another variable helped to improve the model, but other additional variables \n",
    "(lot's square footage, number of floors, number of bathrooms) did not improve the model at all. Let's try \n",
    " couple of variables that should make a real difference: waterfront and view."
   ]
  },
  {
   "cell_type": "code",
   "execution_count": null,
   "metadata": {},
   "outputs": [],
   "source": [
    "# add waterfront and view along with sqft_living and bedrooms\n",
    "houseprice_reg6 <- lm(<what goes in here>, data=housing_data)\n",
    "summary(houseprice_reg6)"
   ]
  },
  {
   "cell_type": "markdown",
   "metadata": {},
   "source": [
    "$R^2$ jumped to **0.56**; this is a better model for price of the house. The other variables (lat, long, zip code, etc.) \n",
    "    are not really expected to make a difference because we don't expect a **linear** relationship between a house's \n",
    "    price and its zip code unless zip codes are demographically meaningful. Let's try and see."
   ]
  },
  {
   "cell_type": "code",
   "execution_count": null,
   "metadata": {},
   "outputs": [],
   "source": [
    "# add zipcode to houseprice_reg6 along with sqft_living + bedrooms + waterfront + view\n",
    "houseprice_reg7 <- lm(p<what goes in here>, data=housing_data)\n",
    "summary(houseprice_reg)"
   ]
  },
  {
   "cell_type": "markdown",
   "metadata": {},
   "source": [
    "As we expected, zipcode does not make much of a difference. How about latitude or longitude ? Depending on the geographic location of the King county, it might make a difference. Let's see."
   ]
  },
  {
   "cell_type": "code",
   "execution_count": null,
   "metadata": {},
   "outputs": [],
   "source": [
    "# Test both Lat and Long\n",
    "\n",
    "# add lat with sqft_living + bedrooms + waterfront + view\n",
    "\n",
    "houseprice_reg8 <- <what goes in here>\n",
    "summary(houseprice_reg8)\n",
    "\n",
    "# add long with sqft_living + bedrooms + waterfront + view\n",
    "\n",
    "houseprice_reg9 <- <what goes in here>\n",
    "summary(houseprice_reg9)\n"
   ]
  },
  {
   "cell_type": "markdown",
   "metadata": {},
   "source": [
    "Latitude made a big difference! $R^2$ is **0.63**.\n",
    "Let's find out why. Take a look at [King county map](https://www.google.com/maps/place/King+County,+WA/@47.4319563,-122.3574591,9z/data=!3m1!4b1!4m5!3m4!1s0x54905c8c832d7837:0xe280ab6b8b64e03e!8m2!3d47.5480339!4d-121.9836029).\n",
    "Now it should be clear why an east-to-west change in location has an effect on the house price."
   ]
  },
  {
   "cell_type": "markdown",
   "metadata": {},
   "source": [
    "<span style=\"color:#1d80ba; font-size:14px; font-weight:700\">Activity 3:</span> What is your observations about the residuals of houseprice_reg  vs houseprice_reg8? Create all relevant plots (Q-Q plot, residuals vs fitted, etc.) and comment on the models and residuals. "
   ]
  },
  {
   "cell_type": "code",
   "execution_count": null,
   "metadata": {},
   "outputs": [],
   "source": [
    "# code for activity 3 "
   ]
  },
  {
   "cell_type": "markdown",
   "metadata": {},
   "source": [
    "# Save your notebook!"
   ]
  }
 ],
 "metadata": {
  "kernelspec": {
   "display_name": "R",
   "language": "R",
   "name": "ir"
  },
  "language_info": {
   "codemirror_mode": "r",
   "file_extension": ".r",
   "mimetype": "text/x-r-source",
   "name": "R",
   "pygments_lexer": "r",
   "version": "4.0.5"
  }
 },
 "nbformat": 4,
 "nbformat_minor": 1
}
