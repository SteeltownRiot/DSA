{
 "cells": [
  {
   "cell_type": "markdown",
   "metadata": {},
   "source": [
    "### Logistic Regression\n",
    "\n",
    "In this practice, we will use the white wine quality data set to create a model to predict the quality of the white wine based on the available variables. Let's read the data from 'wine quality/winequality-white.csv'."
   ]
  },
  {
   "cell_type": "code",
   "execution_count": null,
   "metadata": {},
   "outputs": [],
   "source": [
    "wine_quality_data <- read.csv(\"/dsa/data/all_datasets/wine quality/winequality-white.csv\",sep=\";\",header=TRUE)\n",
    "head(wine_quality_data)\n",
    "str(wine_quality_data)"
   ]
  },
  {
   "cell_type": "markdown",
   "metadata": {},
   "source": [
    "Let's look at the distribution of the quality variable. "
   ]
  },
  {
   "cell_type": "code",
   "execution_count": null,
   "metadata": {},
   "outputs": [],
   "source": [
    "# distribution of quality variable\n",
    "table(wine_quality_data$quality)"
   ]
  },
  {
   "cell_type": "markdown",
   "metadata": {},
   "source": [
    "**Activity 1:** Find the distribution of quality variable using count() function in plyr library. "
   ]
  },
  {
   "cell_type": "code",
   "execution_count": null,
   "metadata": {},
   "outputs": [],
   "source": [
    "library(plyr)\n",
    "\n",
    "# Your answer for activity 1 goes here..\n"
   ]
  },
  {
   "cell_type": "markdown",
   "metadata": {},
   "source": [
    "As we can see, the value 6 for quality dominates the distribution; let's remove that value and label the rest as 'good' or 'bad' to create a binary variable for quality. If the quality is larger than 6, we'll call it 'good' wine, otherwise 'bad' wine. "
   ]
  },
  {
   "cell_type": "markdown",
   "metadata": {},
   "source": [
    "**Activity 2:** Remove all the observations from dataset where quality is equal to 6 to create a subset that has quality values larger or smaller than (but not equal to) 6."
   ]
  },
  {
   "cell_type": "code",
   "execution_count": null,
   "metadata": {},
   "outputs": [],
   "source": [
    "# Complete the partially complete code and execute it..\n",
    "\n",
    "wine_quality_subset_data <- subset(wine_quality_data, <what goes in here>)\n",
    "\n",
    "# Now create a new column named 'good' with initially all zeros. \n",
    "wine_quality_subset_data$good <- 0\n",
    "\n",
    "# assign 1 to good if quality is larger than 6\n",
    "wine_quality_subset_data$good[<what goes in here>] <- 1\n",
    "\n",
    "# Now remove the 'quality' column; we don't want that in the model any more.\n",
    "wine_quality_subset_data$quality <- NULL"
   ]
  },
  {
   "cell_type": "code",
   "execution_count": null,
   "metadata": {},
   "outputs": [],
   "source": [
    "table(wine_quality_subset_data$good)"
   ]
  },
  {
   "cell_type": "markdown",
   "metadata": {},
   "source": [
    "So there are 1640 'bad' white wines and 1060 'good' white wines in the data set now. Let's fit a logistic regression model\n",
    "to predict the variable 'good'. Let's first start with the whole data i'e **wine_quality_subset_data**. Later we'll split it into testing and training sets."
   ]
  },
  {
   "cell_type": "markdown",
   "metadata": {},
   "source": [
    "**Activity 3:** Fit a logistic regression model to predict the variable 'good' in wine_quality_subset_data. "
   ]
  },
  {
   "cell_type": "code",
   "execution_count": null,
   "metadata": {
    "scrolled": true
   },
   "outputs": [],
   "source": [
    "# Complete the partially complete code and execute it..\n",
    "\n",
    "wine_quality_log = glm(good ~ ., data=<what goes in here>, family=binomial)\n",
    "summary(wine_quality_log)"
   ]
  },
  {
   "cell_type": "markdown",
   "metadata": {},
   "source": [
    "**Activity 4:** Find the accuracy of above model wine_quality_log."
   ]
  },
  {
   "cell_type": "code",
   "execution_count": null,
   "metadata": {},
   "outputs": [],
   "source": [
    "# Complete the partially complete code and execute it..\n",
    "\n",
    "probs = predict(<what goes in here>, type = <what goes in here>, newdata=wine_quality_subset_data)\n",
    "preds <- ifelse(probs > 0.5,1,0)\n",
    "misClassificError <- mean (preds != <what goes in here>)\n",
    "print(paste('Accuracy',1-misClassificError))"
   ]
  },
  {
   "cell_type": "markdown",
   "metadata": {},
   "source": [
    "Find the baseline model accuracy. There are 1640 'bad' wines, 1060 'good wines, so it should predict 'bad' all the time"
   ]
  },
  {
   "cell_type": "code",
   "execution_count": null,
   "metadata": {},
   "outputs": [],
   "source": [
    "table(wine_quality_subset_data$good)"
   ]
  },
  {
   "cell_type": "code",
   "execution_count": null,
   "metadata": {},
   "outputs": [],
   "source": [
    "print(paste('baseline accuracy =', 1640/(1640+1060)))"
   ]
  },
  {
   "cell_type": "markdown",
   "metadata": {},
   "source": [
    "Most of the variables are useful to predict the quality of the wine except sulfur dioxide and citric acid. Let's see if we can create a model with good generalization. A model's generalization property refers to the ability to predict the outcome accurately for unseen data. We will now create\n",
    "    a training set to fit a model, and then test it on the testing data the model hasn't 'seen' yet."
   ]
  },
  {
   "cell_type": "markdown",
   "metadata": {},
   "source": [
    "**Activity 5:** Split the data in **wine_quality_subset_data** into testing and training sets. Put 70% of the data into training set and rest into testing set. "
   ]
  },
  {
   "cell_type": "code",
   "execution_count": null,
   "metadata": {},
   "outputs": [],
   "source": [
    "# Complete the partially complete code and execute it..\n",
    "\n",
    "library(caTools)\n",
    "set.seed(1000)\n",
    "\n",
    "split = sample.split(<what goes in here>, <what goes in here>)\n",
    "\n",
    "wine_quality_train_data = subset(wine_quality_subset_data, <what goes in here>)\n",
    "\n",
    "wine_quality_test_data  = subset(wine_quality_subset_data, <what goes in here>)"
   ]
  },
  {
   "cell_type": "markdown",
   "metadata": {},
   "source": [
    "**Activity 6:** Fit a logistic regression model to predict the variable 'good' in wine_quality_subset_data. Find the accuracy of the model in predicting the good variable. "
   ]
  },
  {
   "cell_type": "code",
   "execution_count": null,
   "metadata": {},
   "outputs": [],
   "source": [
    "# Complete the partially complete code and execute it..\n",
    "\n",
    "# Now fit a model on the training data\n",
    "wine_quality_train_log =  glm(good ~ ., data=<what goes in here>, family=binomial)\n",
    "\n",
    "# now predict on the test data\n",
    "probs1 = predict(wine_quality_train_log, type = <what goes in here>, newdata=<what goes in here>)\n",
    "\n",
    "# Now let's use a threshold of 0.5 to turn probablities into actual predictions\n",
    "preds1 <- ifelse(probs1 > 0.5,1,0)\n",
    "\n",
    "#Now, compare this to the correct values for 'good' and compute the accuracy.\n",
    "misClassificError1 <- mean (preds1 != <what goes in here>)\n",
    "print(paste('Accuracy',1-misClassificError1))"
   ]
  },
  {
   "cell_type": "markdown",
   "metadata": {},
   "source": [
    "The accuracy of the model for unseen data is about 82% where as baseline model has an accuracy of 62%. "
   ]
  },
  {
   "cell_type": "code",
   "execution_count": null,
   "metadata": {},
   "outputs": [],
   "source": [
    "table(wine_quality_test_data$good,preds1>0.5)"
   ]
  },
  {
   "cell_type": "markdown",
   "metadata": {},
   "source": [
    "Sensitivity = TP/(TP+FN)\n",
    "\n",
    "Specificity = TN/(TN+FP)\n",
    "\n"
   ]
  },
  {
   "cell_type": "markdown",
   "metadata": {},
   "source": [
    "**Activity 7:** Find sensitivity and specificity using the two way table results above. "
   ]
  },
  {
   "cell_type": "code",
   "execution_count": null,
   "metadata": {},
   "outputs": [],
   "source": [
    "# Your answer for activity 6 goes here..\n",
    "\n",
    "print(paste('sens =', <what goes in here>))\n",
    "print(paste('spec =', <what goes in here>))"
   ]
  },
  {
   "cell_type": "markdown",
   "metadata": {},
   "source": [
    "**Activity 8:** Can you plot an ROC curve for this model? "
   ]
  },
  {
   "cell_type": "code",
   "execution_count": null,
   "metadata": {},
   "outputs": [],
   "source": [
    "# code for activity 8 \n"
   ]
  },
  {
   "cell_type": "markdown",
   "metadata": {},
   "source": [
    "# Save your notebook!"
   ]
  }
 ],
 "metadata": {
  "kernelspec": {
   "display_name": "R",
   "language": "R",
   "name": "ir"
  },
  "language_info": {
   "codemirror_mode": "r",
   "file_extension": ".r",
   "mimetype": "text/x-r-source",
   "name": "R",
   "pygments_lexer": "r",
   "version": "4.0.5"
  }
 },
 "nbformat": 4,
 "nbformat_minor": 1
}
