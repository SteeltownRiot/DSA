{
 "cells": [
  {
   "cell_type": "markdown",
   "metadata": {},
   "source": [
    "<span style=\"color:#04c921; font-size:24px; font-weight:700\"> Linear Regression</span>\n",
    "\n",
    "In this practice, we will use linear regression to do some analysis with the framingham data set to see if we can find any meaningful relationships between blood pressure, age, and gender.\n",
    "\n",
    "The numeric difference between your systolic and diastolic blood pressure is called your pulse pressure. For example, if your resting blood pressure is 120/80, your pulse pressure is 40. For adults older than age 60, a pulse pressure greater than 60 can be a useful predictor of heart attacks or other cardiovascular disease; this is especially true for men. The most important cause of elevated pulse pressure is stiffness of the aorta, the largest artery in the body. The greater your pulse pressure, the stiffer and more damaged the vessels are thought to be.\n",
    "([Reference](http://www.mayoclinic.org/diseases-conditions/high-blood-pressure/expert-answers/pulse-pressure/faq-20058189))"
   ]
  },
  {
   "cell_type": "markdown",
   "metadata": {},
   "source": [
    "#### Read the data\n",
    "\n",
    "Load the framingham dataset in directory '/datasets/framingham/'."
   ]
  },
  {
   "cell_type": "code",
   "execution_count": null,
   "metadata": {},
   "outputs": [],
   "source": [
    "framingham_data <- read.csv(\"/dsa/data/all_datasets/framingham/framingham.csv\")"
   ]
  },
  {
   "cell_type": "markdown",
   "metadata": {},
   "source": [
    "Let's add a new column for the pulse pressure named \"pulseP\" and compute it from sysBP and diaBP."
   ]
  },
  {
   "cell_type": "code",
   "execution_count": null,
   "metadata": {},
   "outputs": [],
   "source": [
    "framingham_data[\"pulseP\"] <- framingham_data$sysBP - framingham_data$diaBP\n",
    "head(framingham_data)"
   ]
  },
  {
   "cell_type": "markdown",
   "metadata": {},
   "source": [
    "<span style=\"color:#1d80ba; font-size:14px; font-weight:700\">Activity 1:</span> For this analysis, we'll need adults (age>18) who are not taking blood pressure medication (BPMeds==0), and we will create two subsets; one for males and one for females, and pick only the columns we'll work on (age, sysBP, diaBP, BMI, heartRate, pulseP)."
   ]
  },
  {
   "cell_type": "code",
   "execution_count": null,
   "metadata": {},
   "outputs": [],
   "source": [
    "framingham_data_male   <- subset(framingham_data, <what goes in here>, select=c(2,11:14,17))\n",
    "framingham_data_female <- subset(framingham_data, <what goes in here>, select=c(2,11:14,17))\n",
    "head(framingham_data_male)"
   ]
  },
  {
   "cell_type": "markdown",
   "metadata": {},
   "source": [
    "Now, let's see if we can model the relation between age and pulse pressure for males vs. females."
   ]
  },
  {
   "cell_type": "markdown",
   "metadata": {},
   "source": [
    "<span style=\"color:#1d80ba; font-size:14px; font-weight:700\">Activity 2:</span>   Fit a linear regression model where age is the independent variable, and pulse pressure is the dependent variable. "
   ]
  },
  {
   "cell_type": "code",
   "execution_count": null,
   "metadata": {},
   "outputs": [],
   "source": [
    "# find the model for males\n",
    "age_pp_male <- lm(<what goes in here> ~ <what goes in here>)\n",
    "summary(age_pp_male)\n",
    "\n",
    "# find the model for females\n",
    "age_pp_female <- lm(<what goes in here> ~ <what goes in here>)\n",
    "summary(age_pp_female)"
   ]
  },
  {
   "cell_type": "markdown",
   "metadata": {},
   "source": [
    "The $R^2$ values are 0.10 and 0.22 which suggests age alone is not a good predictor of pulse pressure in neither males nor females. Look out for the caveats here: first, we are trying to fit a **linear** model; the actual relationship could be a nonlinear one; and second, there might be different types of relationships in separated age brackets (such as before 50, after 50, etc.) that is hard to model with one linear model. "
   ]
  },
  {
   "cell_type": "markdown",
   "metadata": {},
   "source": [
    "<span style=\"color:#1d80ba; font-size:14px; font-weight:700\">Activity 3:</span>  Let's do the same for BMI and pulse pressure variables.  Fit a linear regression model where BMI is independent and pulse pressure is the dependent variable. "
   ]
  },
  {
   "cell_type": "code",
   "execution_count": null,
   "metadata": {},
   "outputs": [],
   "source": [
    "# find the model for males\n",
    "bmi_pp_male <- lm(<what goes in here>)\n",
    "summary(bmi_pp_male)\n",
    "\n",
    "# find the model for females\n",
    "bmi_pp_female <- lm(<what goes in here>)\n",
    "summary(bmi_pp_female)"
   ]
  },
  {
   "cell_type": "markdown",
   "metadata": {},
   "source": [
    "Again, $R^2$ values are too low to suggest a good model based on BMI."
   ]
  },
  {
   "cell_type": "markdown",
   "metadata": {},
   "source": [
    "<span style=\"color:#1d80ba; font-size:14px; font-weight:700\">Activity 4:</span>  Let's create two subsets from male data; first one is for those younger than 50, second one is for those older than 50. We want to see if the relation between heart rate and pulse pressure is different for older males vs. younger males.\n"
   ]
  },
  {
   "cell_type": "code",
   "execution_count": null,
   "metadata": {},
   "outputs": [],
   "source": [
    "framingham_data_male_younger <- subset(framingham_data_male, <what goes in here>)\n",
    "framingham_data_male_older   <- subset(framingham_data_male, <what goes in here>)\n",
    "\n",
    "# now fit a linear model to both data sets; use pulse pressure as independent variable and find the model for heart rate.\n",
    "hr_pp_male_young <- lm(<what goes in here>)\n",
    "summary(hr_pp_male_young)\n",
    "\n",
    "hr_pp_male_older <- lm(<what goes in here>)\n",
    "summary(hr_pp_male_older)"
   ]
  },
  {
   "cell_type": "markdown",
   "metadata": {},
   "source": [
    "Again, we do not see a meaningful linear model for heart rate given pulse pressure for young and old people. Let's look at the relationship between systolic and diastolic blood pressures. "
   ]
  },
  {
   "cell_type": "markdown",
   "metadata": {},
   "source": [
    "The dynamic relationship between diastolic and systolic blood pressure expressed by the **ambulatory arterial stiffness index (AASI)** has been introduced as a measure of arterial function.\n",
    "[AASI = 1 - (regression slope of diastolic-versus-systolic)] \n",
    "The available evidence suggests that AASI can predict future cardiovascular events, particularly stroke, and is associated with indices of arterial function. ([Reference](https://www.ncbi.nlm.nih.gov/pubmed/22632918))"
   ]
  },
  {
   "cell_type": "markdown",
   "metadata": {},
   "source": [
    "<span style=\"color:#1d80ba; font-size:14px; font-weight:700\">Activity 5:</span>  Now, we want to compute the AASI for males older than 50 vs. females older than 50. For this, we first create the female subset, then compute the slopes of diastolic vs. systolic linear regression model for both sets, and finally compute the AASI for both sets. "
   ]
  },
  {
   "cell_type": "code",
   "execution_count": null,
   "metadata": {},
   "outputs": [],
   "source": [
    "framingham_data_female_older <- subset(framingham_data_female, age >= 50)\n",
    "# Now compute the linear models for framingham_data_female_older and framingham_data_male_older; \n",
    "# Use systolic pressure as independent variable"
   ]
  },
  {
   "cell_type": "code",
   "execution_count": null,
   "metadata": {},
   "outputs": [],
   "source": [
    "# find the model for older males\n",
    "slope_male_older <- lm(<what goes in here> ~ <what goes in here>)\n",
    "summary(slope_male_older)\n",
    "\n",
    "# find the model for older females\n",
    "slope_female_older <- lm(<what goes in here> ~ <what goes in here>)\n",
    "summary(slope_female_older)\n"
   ]
  },
  {
   "cell_type": "markdown",
   "metadata": {},
   "source": [
    "The $R^2$ values suggest that there is a somewhat linear relationship between systolic and diastolic blood pressures for both genders. Let's look at the coefficients of the models."
   ]
  },
  {
   "cell_type": "code",
   "execution_count": null,
   "metadata": {},
   "outputs": [],
   "source": [
    "# First column gives the intercept and the slope of the model.\n",
    "\n",
    "coef(summary(slope_male_older))\n",
    "slope_mo <- coef(summary(slope_male_older))[2,1]\n",
    "\n",
    "coef(summary(slope_female_older))\n",
    "slope_fo <- coef(summary(slope_female_older))[2,1]\n"
   ]
  },
  {
   "cell_type": "code",
   "execution_count": null,
   "metadata": {},
   "outputs": [],
   "source": [
    "# Now, given slopes for both models, compute the corresponding AASI values\n",
    "\n",
    "AASI_male_older = 1 - slope_mo\n",
    "AASI_female_older = 1 - slope_fo"
   ]
  },
  {
   "cell_type": "code",
   "execution_count": null,
   "metadata": {},
   "outputs": [],
   "source": [
    "print(AASI_male_older)\n",
    "print(AASI_female_older)"
   ]
  },
  {
   "cell_type": "markdown",
   "metadata": {},
   "source": [
    "The AASI for older females is slightly higher than the AASI for older males in this data set. Keep in mind that this is an approximation; the real AASI is measured for individuals by observing their blood pressure in a 24h interval. However, the almost linear relationship between systolic and diastolic blood pressure is indeed medically relevant; it is not just a fluke of this dataset. "
   ]
  },
  {
   "cell_type": "code",
   "execution_count": null,
   "metadata": {},
   "outputs": [],
   "source": [
    "# Let's plot the model for males\n",
    "library(ggplot2)\n",
    "p = ggplot(framingham_data_male_older, aes(x=<what goes in here>, y=<what goes in here>)) +\n",
    "    geom_point() +  \n",
    "    geom_smooth(method=lm,level = 0.95)   # Add linear regression line, by default includes 95% confidence region\n",
    "p+xlab('systolic BP')+ylab('diastolic BP')"
   ]
  },
  {
   "cell_type": "code",
   "execution_count": null,
   "metadata": {},
   "outputs": [],
   "source": [
    "# and for females\n",
    "p = ggplot(framingham_data_female_older, aes(x=<what goes in here>, y=<what goes in here>)) +\n",
    "    geom_point() +  \n",
    "    geom_smooth(method=lm,level = 0.95)   # Add linear regression line, by default includes 95% confidence region\n",
    "p+xlab('systolic BP')+ylab('diastolic BP')"
   ]
  },
  {
   "cell_type": "markdown",
   "metadata": {},
   "source": [
    "# Save your notebook!"
   ]
  }
 ],
 "metadata": {
  "kernelspec": {
   "display_name": "R",
   "language": "R",
   "name": "ir"
  },
  "language_info": {
   "codemirror_mode": "r",
   "file_extension": ".r",
   "mimetype": "text/x-r-source",
   "name": "R",
   "pygments_lexer": "r",
   "version": "4.0.5"
  }
 },
 "nbformat": 4,
 "nbformat_minor": 1
}
