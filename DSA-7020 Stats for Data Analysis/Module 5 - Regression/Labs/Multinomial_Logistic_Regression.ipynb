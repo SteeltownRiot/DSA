{
 "cells": [
  {
   "cell_type": "markdown",
   "metadata": {},
   "source": [
    "# Multinomial Logistic Regression\n",
    "\n",
    "We used logistic regression for categorical dependent variables that are binary; they had only two categories. If we have multiple categories to predict, we should use [**Multinomial Logistic Regression**](https://peopleanalytics-regression-book.org/multinomial-logistic-regression-for-nominal-category-outcomes.html).\n",
    "\n",
    "It is a regression model where the **dependent variable is categorical and has multiple categories**. \n",
    "\n",
    "The multinomial logistic regression estimates a separate binary logistic regression model for each category in comparison to a reference category. It takes one category as baseline and computes the odds of being in the different outcome categories in reference to the baseline. So for example, for three categories (1,2,3) of a dependent variable $A$, it would compute two different sets of regression results corresponding to the two models of \n",
    "\n",
    "$$log(\\frac{Pr(A=2)}{Pr(A=1)}) $$\n",
    "\n",
    "\n",
    "\n",
    "$$log(\\frac{Pr(A=3)}{Pr(A=1)}) $$\n",
    "\n",
    "if the baseline was chosen as category 1. \n"
   ]
  },
  {
   "cell_type": "markdown",
   "metadata": {},
   "source": [
    "### The Data\n",
    "\n",
    "We will use the simple iris data set that has three categories in its dependent variable `Species`. \n",
    "\n"
   ]
  },
  {
   "cell_type": "code",
   "execution_count": null,
   "metadata": {},
   "outputs": [],
   "source": [
    "library(car)\n",
    "\n",
    "head(iris)"
   ]
  },
  {
   "cell_type": "code",
   "execution_count": null,
   "metadata": {},
   "outputs": [],
   "source": [
    "library(GGally)\n",
    "ggpairs(iris)"
   ]
  },
  {
   "cell_type": "code",
   "execution_count": null,
   "metadata": {},
   "outputs": [],
   "source": [
    "levels(iris$Species)"
   ]
  },
  {
   "cell_type": "markdown",
   "metadata": {},
   "source": [
    "There are three species labeled as `setosa`, `versicolor`, and `virginica`. We will use the `multinom()` function from the `nnet` library. We will use all available variables in the data set, so the formula is `Species ~ .`. We will choose `setosa` as the base category, arbitrarily. \n",
    "\n",
    "\n",
    "\n"
   ]
  },
  {
   "cell_type": "code",
   "execution_count": null,
   "metadata": {},
   "outputs": [],
   "source": [
    "iris$Species= relevel(iris$Species, ref=\"setosa\")\n",
    "\n",
    "library(nnet)\n",
    "\n",
    "model_sp <- multinom(Species ~ ., data=iris)"
   ]
  },
  {
   "cell_type": "code",
   "execution_count": null,
   "metadata": {},
   "outputs": [],
   "source": [
    "summary(model_sp)"
   ]
  },
  {
   "cell_type": "markdown",
   "metadata": {},
   "source": [
    "\n",
    "The summary shows the coefficients and the standard errors for the respective models. Note that there are \"versicolor\" and \"virginica\" on the sides referring to the two separate models. These models compare the probability of \"versicolor\" to \"setosa\" and \"virginica\" to \"setosa\", respectively. \n",
    "\n",
    "The predicted values are probabilities for each category. To decide for a category label, we choose the category with the highest probability. You can see the rounded probabilities below for each category of Species. \n",
    "\n",
    "\n",
    "\n"
   ]
  },
  {
   "cell_type": "code",
   "execution_count": null,
   "metadata": {},
   "outputs": [],
   "source": [
    "tail(round(fitted(model_sp),4))"
   ]
  },
  {
   "cell_type": "markdown",
   "metadata": {},
   "source": [
    "Let's create a confusion table. Similar to the one we have created for logistic regression, our confusion table will have as many rows/columns as the number of categories. "
   ]
  },
  {
   "cell_type": "code",
   "execution_count": null,
   "metadata": {},
   "outputs": [],
   "source": [
    "# Predicting the values for the whole data set \n",
    "pred_sp <- predict(model_sp, newdata = iris, \"class\") # \"class\" tells to create labels instead of probabilities \n",
    " \n",
    "# Building confusion matrix \n",
    "ctable <- table(iris$Species, pred_sp)\n",
    "ctable \n",
    "\n",
    "# Calculating accuracy - sum of diagonal elements divided by total observations \n",
    "print(paste(\"accuracy = \",round((sum(diag(ctable))/sum(ctable))*100,2)))"
   ]
  },
  {
   "cell_type": "markdown",
   "metadata": {},
   "source": [
    "Setosa is well separated and there is only one confusion between versicolor and virginica. Let's see if we can build a model that can generalize well. For that, we need to split our data into training and testing sets. \n",
    "\n",
    "\n",
    "\n",
    "### Training and Testing Sets \n",
    "\n",
    "Let's split the data set randomly into a training set and a testing set.\n"
   ]
  },
  {
   "cell_type": "code",
   "execution_count": null,
   "metadata": {},
   "outputs": [],
   "source": [
    "library(caTools)"
   ]
  },
  {
   "cell_type": "code",
   "execution_count": null,
   "metadata": {},
   "outputs": [],
   "source": [
    "set.seed(999) # set.seed() will help us to reproduce the results.\n",
    "split = sample.split(iris$Species, SplitRatio=0.7)"
   ]
  },
  {
   "cell_type": "code",
   "execution_count": null,
   "metadata": {},
   "outputs": [],
   "source": [
    "train_data  = subset(iris, split==TRUE)\n",
    "\n",
    "test_data  = subset(iris, split==FALSE)"
   ]
  },
  {
   "cell_type": "code",
   "execution_count": null,
   "metadata": {},
   "outputs": [],
   "source": [
    "model_sp2 <- multinom(Species ~ ., data=train_data)"
   ]
  },
  {
   "cell_type": "markdown",
   "metadata": {},
   "source": [
    "We test our model using the testing set. As computed below, our model can do well for unseen data. It can generalize well instead of memorizing the training set. "
   ]
  },
  {
   "cell_type": "code",
   "execution_count": null,
   "metadata": {},
   "outputs": [],
   "source": [
    "# Predicting the values for TEST data\n",
    "pred_sp2 <- predict(model_sp2, newdata = test_data, \"class\") # \"class\" tells to create labels instead of probabilities \n",
    " \n",
    "# Building confusion matrix \n",
    "ctable2 <- table(test_data$Species, pred_sp2)\n",
    "ctable2 \n",
    "\n",
    "# Calculating accuracy - sum of diagonal elements divided by total observations \n",
    "print(paste(\"accuracy = \",round((sum(diag(ctable2))/sum(ctable2))*100,2)))"
   ]
  },
  {
   "cell_type": "markdown",
   "metadata": {},
   "source": [
    "# Save your notebook"
   ]
  }
 ],
 "metadata": {
  "kernelspec": {
   "display_name": "R",
   "language": "R",
   "name": "ir"
  },
  "language_info": {
   "codemirror_mode": "r",
   "file_extension": ".r",
   "mimetype": "text/x-r-source",
   "name": "R",
   "pygments_lexer": "r",
   "version": "4.0.5"
  }
 },
 "nbformat": 4,
 "nbformat_minor": 1
}
