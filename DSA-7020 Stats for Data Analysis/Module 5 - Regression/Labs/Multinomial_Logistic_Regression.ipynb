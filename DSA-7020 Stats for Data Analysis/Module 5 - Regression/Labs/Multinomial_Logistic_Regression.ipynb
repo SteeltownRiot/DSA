{
 "cells": [
  {
   "cell_type": "markdown",
   "metadata": {},
   "source": [
    "# Multinomial Logistic Regression\n",
    "\n",
    "We used logistic regression for categorical dependent variables that are binary; they had only two categories. If we have multiple categories to predict, we should use [**Multinomial Logistic Regression**](https://peopleanalytics-regression-book.org/multinomial-logistic-regression-for-nominal-category-outcomes.html).\n",
    "\n",
    "It is a regression model where the **dependent variable is categorical and has multiple categories**. \n",
    "\n",
    "The multinomial logistic regression estimates a separate binary logistic regression model for each category in comparison to a reference category. It takes one category as baseline and computes the odds of being in the different outcome categories in reference to the baseline. So for example, for three categories (1,2,3) of a dependent variable $A$, it would compute two different sets of regression results corresponding to the two models of \n",
    "\n",
    "$$log(\\frac{Pr(A=2)}{Pr(A=1)}) $$\n",
    "\n",
    "\n",
    "\n",
    "$$log(\\frac{Pr(A=3)}{Pr(A=1)}) $$\n",
    "\n",
    "if the baseline was chosen as category 1. \n"
   ]
  },
  {
   "cell_type": "markdown",
   "metadata": {},
   "source": [
    "### The Data\n",
    "\n",
    "We will use the simple iris data set that has three categories in its dependent variable `Species`. \n",
    "\n"
   ]
  },
  {
   "cell_type": "code",
   "execution_count": 1,
   "metadata": {},
   "outputs": [
    {
     "name": "stderr",
     "output_type": "stream",
     "text": [
      "Loading required package: carData\n",
      "\n"
     ]
    },
    {
     "data": {
      "text/html": [
       "<table class=\"dataframe\">\n",
       "<caption>A data.frame: 6 × 5</caption>\n",
       "<thead>\n",
       "\t<tr><th></th><th scope=col>Sepal.Length</th><th scope=col>Sepal.Width</th><th scope=col>Petal.Length</th><th scope=col>Petal.Width</th><th scope=col>Species</th></tr>\n",
       "\t<tr><th></th><th scope=col>&lt;dbl&gt;</th><th scope=col>&lt;dbl&gt;</th><th scope=col>&lt;dbl&gt;</th><th scope=col>&lt;dbl&gt;</th><th scope=col>&lt;fct&gt;</th></tr>\n",
       "</thead>\n",
       "<tbody>\n",
       "\t<tr><th scope=row>1</th><td>5.1</td><td>3.5</td><td>1.4</td><td>0.2</td><td>setosa</td></tr>\n",
       "\t<tr><th scope=row>2</th><td>4.9</td><td>3.0</td><td>1.4</td><td>0.2</td><td>setosa</td></tr>\n",
       "\t<tr><th scope=row>3</th><td>4.7</td><td>3.2</td><td>1.3</td><td>0.2</td><td>setosa</td></tr>\n",
       "\t<tr><th scope=row>4</th><td>4.6</td><td>3.1</td><td>1.5</td><td>0.2</td><td>setosa</td></tr>\n",
       "\t<tr><th scope=row>5</th><td>5.0</td><td>3.6</td><td>1.4</td><td>0.2</td><td>setosa</td></tr>\n",
       "\t<tr><th scope=row>6</th><td>5.4</td><td>3.9</td><td>1.7</td><td>0.4</td><td>setosa</td></tr>\n",
       "</tbody>\n",
       "</table>\n"
      ],
      "text/latex": [
       "A data.frame: 6 × 5\n",
       "\\begin{tabular}{r|lllll}\n",
       "  & Sepal.Length & Sepal.Width & Petal.Length & Petal.Width & Species\\\\\n",
       "  & <dbl> & <dbl> & <dbl> & <dbl> & <fct>\\\\\n",
       "\\hline\n",
       "\t1 & 5.1 & 3.5 & 1.4 & 0.2 & setosa\\\\\n",
       "\t2 & 4.9 & 3.0 & 1.4 & 0.2 & setosa\\\\\n",
       "\t3 & 4.7 & 3.2 & 1.3 & 0.2 & setosa\\\\\n",
       "\t4 & 4.6 & 3.1 & 1.5 & 0.2 & setosa\\\\\n",
       "\t5 & 5.0 & 3.6 & 1.4 & 0.2 & setosa\\\\\n",
       "\t6 & 5.4 & 3.9 & 1.7 & 0.4 & setosa\\\\\n",
       "\\end{tabular}\n"
      ],
      "text/markdown": [
       "\n",
       "A data.frame: 6 × 5\n",
       "\n",
       "| <!--/--> | Sepal.Length &lt;dbl&gt; | Sepal.Width &lt;dbl&gt; | Petal.Length &lt;dbl&gt; | Petal.Width &lt;dbl&gt; | Species &lt;fct&gt; |\n",
       "|---|---|---|---|---|---|\n",
       "| 1 | 5.1 | 3.5 | 1.4 | 0.2 | setosa |\n",
       "| 2 | 4.9 | 3.0 | 1.4 | 0.2 | setosa |\n",
       "| 3 | 4.7 | 3.2 | 1.3 | 0.2 | setosa |\n",
       "| 4 | 4.6 | 3.1 | 1.5 | 0.2 | setosa |\n",
       "| 5 | 5.0 | 3.6 | 1.4 | 0.2 | setosa |\n",
       "| 6 | 5.4 | 3.9 | 1.7 | 0.4 | setosa |\n",
       "\n"
      ],
      "text/plain": [
       "  Sepal.Length Sepal.Width Petal.Length Petal.Width Species\n",
       "1 5.1          3.5         1.4          0.2         setosa \n",
       "2 4.9          3.0         1.4          0.2         setosa \n",
       "3 4.7          3.2         1.3          0.2         setosa \n",
       "4 4.6          3.1         1.5          0.2         setosa \n",
       "5 5.0          3.6         1.4          0.2         setosa \n",
       "6 5.4          3.9         1.7          0.4         setosa "
      ]
     },
     "metadata": {},
     "output_type": "display_data"
    }
   ],
   "source": [
    "library(car)\n",
    "\n",
    "head(iris)"
   ]
  },
  {
   "cell_type": "code",
   "execution_count": 2,
   "metadata": {},
   "outputs": [
    {
     "name": "stderr",
     "output_type": "stream",
     "text": [
      "Loading required package: ggplot2\n",
      "\n",
      "Registered S3 method overwritten by 'GGally':\n",
      "  method from   \n",
      "  +.gg   ggplot2\n",
      "\n",
      "`stat_bin()` using `bins = 30`. Pick better value with `binwidth`.\n",
      "\n",
      "`stat_bin()` using `bins = 30`. Pick better value with `binwidth`.\n",
      "\n",
      "`stat_bin()` using `bins = 30`. Pick better value with `binwidth`.\n",
      "\n",
      "`stat_bin()` using `bins = 30`. Pick better value with `binwidth`.\n",
      "\n"
     ]
    },
    {
     "data": {
      "image/png": "[encoded data removed]",
      "text/plain": [
       "plot without title"
      ]
     },
     "metadata": {
      "image/png": {
       "height": 420,
       "width": 420
      }
     },
     "output_type": "display_data"
    }
   ],
   "source": [
    "library(GGally)\n",
    "ggpairs(iris)"
   ]
  },
  {
   "cell_type": "code",
   "execution_count": 3,
   "metadata": {},
   "outputs": [
    {
     "data": {
      "text/html": [
       "<style>\n",
       ".list-inline {list-style: none; margin:0; padding: 0}\n",
       ".list-inline>li {display: inline-block}\n",
       ".list-inline>li:not(:last-child)::after {content: \"\\00b7\"; padding: 0 .5ex}\n",
       "</style>\n",
       "<ol class=list-inline><li>'setosa'</li><li>'versicolor'</li><li>'virginica'</li></ol>\n"
      ],
      "text/latex": [
       "\\begin{enumerate*}\n",
       "\\item 'setosa'\n",
       "\\item 'versicolor'\n",
       "\\item 'virginica'\n",
       "\\end{enumerate*}\n"
      ],
      "text/markdown": [
       "1. 'setosa'\n",
       "2. 'versicolor'\n",
       "3. 'virginica'\n",
       "\n",
       "\n"
      ],
      "text/plain": [
       "[1] \"setosa\"     \"versicolor\" \"virginica\" "
      ]
     },
     "metadata": {},
     "output_type": "display_data"
    }
   ],
   "source": [
    "levels(iris$Species)"
   ]
  },
  {
   "cell_type": "markdown",
   "metadata": {},
   "source": [
    "There are three species labeled as `setosa`, `versicolor`, and `virginica`. We will use the `multinom()` function from the `nnet` library. We will use all available variables in the data set, so the formula is `Species ~ .`. We will choose `setosa` as the base category, arbitrarily. \n",
    "\n",
    "\n",
    "\n"
   ]
  },
  {
   "cell_type": "code",
   "execution_count": 4,
   "metadata": {},
   "outputs": [
    {
     "name": "stdout",
     "output_type": "stream",
     "text": [
      "# weights:  18 (10 variable)\n",
      "initial  value 164.791843 \n",
      "iter  10 value 16.177348\n",
      "iter  20 value 7.111438\n",
      "iter  30 value 6.182999\n",
      "iter  40 value 5.984028\n",
      "iter  50 value 5.961278\n",
      "iter  60 value 5.954900\n",
      "iter  70 value 5.951851\n",
      "iter  80 value 5.950343\n",
      "iter  90 value 5.949904\n",
      "iter 100 value 5.949867\n",
      "final  value 5.949867 \n",
      "stopped after 100 iterations\n"
     ]
    }
   ],
   "source": [
    "iris$Species= relevel(iris$Species, ref=\"setosa\")\n",
    "\n",
    "library(nnet)\n",
    "\n",
    "model_sp <- multinom(Species ~ ., data=iris)"
   ]
  },
  {
   "cell_type": "code",
   "execution_count": 5,
   "metadata": {},
   "outputs": [
    {
     "data": {
      "text/plain": [
       "Call:\n",
       "multinom(formula = Species ~ ., data = iris)\n",
       "\n",
       "Coefficients:\n",
       "           (Intercept) Sepal.Length Sepal.Width Petal.Length Petal.Width\n",
       "versicolor    18.69037    -5.458424   -8.707401     14.24477   -3.097684\n",
       "virginica    -23.83628    -7.923634  -15.370769     23.65978   15.135301\n",
       "\n",
       "Std. Errors:\n",
       "           (Intercept) Sepal.Length Sepal.Width Petal.Length Petal.Width\n",
       "versicolor    34.97116     89.89215    157.0415     60.19170    45.48852\n",
       "virginica     35.76649     89.91153    157.1196     60.46753    45.93406\n",
       "\n",
       "Residual Deviance: 11.89973 \n",
       "AIC: 31.89973 "
      ]
     },
     "metadata": {},
     "output_type": "display_data"
    }
   ],
   "source": [
    "summary(model_sp)"
   ]
  },
  {
   "cell_type": "markdown",
   "metadata": {},
   "source": [
    "\n",
    "The summary shows the coefficients and the standard errors for the respective models. Note that there are \"versicolor\" and \"virginica\" on the sides referring to the two separate models. These models compare the probability of \"versicolor\" to \"setosa\" and \"virginica\" to \"setosa\", respectively. \n",
    "\n",
    "The predicted values are probabilities for each category. To decide for a category label, we choose the category with the highest probability. You can see the rounded probabilities below for each category of Species. \n",
    "\n",
    "\n",
    "\n"
   ]
  },
  {
   "cell_type": "code",
   "execution_count": 6,
   "metadata": {},
   "outputs": [
    {
     "data": {
      "text/html": [
       "<table class=\"dataframe\">\n",
       "<caption>A matrix: 6 × 3 of type dbl</caption>\n",
       "<thead>\n",
       "\t<tr><th></th><th scope=col>setosa</th><th scope=col>versicolor</th><th scope=col>virginica</th></tr>\n",
       "</thead>\n",
       "<tbody>\n",
       "\t<tr><th scope=row>145</th><td>0</td><td>0.0000</td><td>1.0000</td></tr>\n",
       "\t<tr><th scope=row>146</th><td>0</td><td>0.0000</td><td>1.0000</td></tr>\n",
       "\t<tr><th scope=row>147</th><td>0</td><td>0.0009</td><td>0.9991</td></tr>\n",
       "\t<tr><th scope=row>148</th><td>0</td><td>0.0010</td><td>0.9990</td></tr>\n",
       "\t<tr><th scope=row>149</th><td>0</td><td>0.0000</td><td>1.0000</td></tr>\n",
       "\t<tr><th scope=row>150</th><td>0</td><td>0.0224</td><td>0.9776</td></tr>\n",
       "</tbody>\n",
       "</table>\n"
      ],
      "text/latex": [
       "A matrix: 6 × 3 of type dbl\n",
       "\\begin{tabular}{r|lll}\n",
       "  & setosa & versicolor & virginica\\\\\n",
       "\\hline\n",
       "\t145 & 0 & 0.0000 & 1.0000\\\\\n",
       "\t146 & 0 & 0.0000 & 1.0000\\\\\n",
       "\t147 & 0 & 0.0009 & 0.9991\\\\\n",
       "\t148 & 0 & 0.0010 & 0.9990\\\\\n",
       "\t149 & 0 & 0.0000 & 1.0000\\\\\n",
       "\t150 & 0 & 0.0224 & 0.9776\\\\\n",
       "\\end{tabular}\n"
      ],
      "text/markdown": [
       "\n",
       "A matrix: 6 × 3 of type dbl\n",
       "\n",
       "| <!--/--> | setosa | versicolor | virginica |\n",
       "|---|---|---|---|\n",
       "| 145 | 0 | 0.0000 | 1.0000 |\n",
       "| 146 | 0 | 0.0000 | 1.0000 |\n",
       "| 147 | 0 | 0.0009 | 0.9991 |\n",
       "| 148 | 0 | 0.0010 | 0.9990 |\n",
       "| 149 | 0 | 0.0000 | 1.0000 |\n",
       "| 150 | 0 | 0.0224 | 0.9776 |\n",
       "\n"
      ],
      "text/plain": [
       "    setosa versicolor virginica\n",
       "145 0      0.0000     1.0000   \n",
       "146 0      0.0000     1.0000   \n",
       "147 0      0.0009     0.9991   \n",
       "148 0      0.0010     0.9990   \n",
       "149 0      0.0000     1.0000   \n",
       "150 0      0.0224     0.9776   "
      ]
     },
     "metadata": {},
     "output_type": "display_data"
    }
   ],
   "source": [
    "tail(round(fitted(model_sp),4))"
   ]
  },
  {
   "cell_type": "markdown",
   "metadata": {},
   "source": [
    "Let's create a confusion table. Similar to the one we have created for logistic regression, our confusion table will have as many rows/columns as the number of categories. "
   ]
  },
  {
   "cell_type": "code",
   "execution_count": 7,
   "metadata": {},
   "outputs": [
    {
     "data": {
      "text/plain": [
       "            pred_sp\n",
       "             setosa versicolor virginica\n",
       "  setosa         50          0         0\n",
       "  versicolor      0         49         1\n",
       "  virginica       0          1        49"
      ]
     },
     "metadata": {},
     "output_type": "display_data"
    },
    {
     "name": "stdout",
     "output_type": "stream",
     "text": [
      "[1] \"accuracy =  98.67\"\n"
     ]
    }
   ],
   "source": [
    "# Predicting the values for the whole data set \n",
    "pred_sp <- predict(model_sp, newdata = iris, \"class\") # \"class\" tells to create labels instead of probabilities \n",
    " \n",
    "# Building confusion matrix \n",
    "ctable <- table(iris$Species, pred_sp)\n",
    "ctable \n",
    "\n",
    "# Calculating accuracy - sum of diagonal elements divided by total observations \n",
    "print(paste(\"accuracy = \",round((sum(diag(ctable))/sum(ctable))*100,2)))"
   ]
  },
  {
   "cell_type": "markdown",
   "metadata": {},
   "source": [
    "Setosa is well separated and there is only one confusion between versicolor and virginica. Let's see if we can build a model that can generalize well. For that, we need to split our data into training and testing sets. \n",
    "\n",
    "\n",
    "\n",
    "### Training and Testing Sets \n",
    "\n",
    "Let's split the data set randomly into a training set and a testing set.\n"
   ]
  },
  {
   "cell_type": "code",
   "execution_count": 13,
   "metadata": {},
   "outputs": [],
   "source": [
    "library(caTools)"
   ]
  },
  {
   "cell_type": "code",
   "execution_count": 14,
   "metadata": {},
   "outputs": [],
   "source": [
    "set.seed(999) # set.seed() will help us to reproduce the results.\n",
    "split = sample.split(iris$Species, SplitRatio=0.7)"
   ]
  },
  {
   "cell_type": "code",
   "execution_count": 15,
   "metadata": {},
   "outputs": [],
   "source": [
    "train_data  = subset(iris, split==TRUE)\n",
    "\n",
    "test_data  = subset(iris, split==FALSE)"
   ]
  },
  {
   "cell_type": "code",
   "execution_count": 16,
   "metadata": {},
   "outputs": [
    {
     "name": "stdout",
     "output_type": "stream",
     "text": [
      "# weights:  18 (10 variable)\n",
      "initial  value 115.354290 \n",
      "iter  10 value 12.142868\n",
      "iter  20 value 4.693439\n",
      "iter  30 value 4.581109\n",
      "iter  40 value 4.557622\n",
      "iter  50 value 4.554405\n",
      "iter  60 value 4.553749\n",
      "iter  70 value 4.553305\n",
      "iter  80 value 4.553017\n",
      "iter  90 value 4.552788\n",
      "iter 100 value 4.552628\n",
      "final  value 4.552628 \n",
      "stopped after 100 iterations\n"
     ]
    }
   ],
   "source": [
    "model_sp2 <- multinom(Species ~ ., data=train_data)"
   ]
  },
  {
   "cell_type": "markdown",
   "metadata": {},
   "source": [
    "We test our model using the testing set. As computed below, our model can do well for unseen data. It can generalize well instead of memorizing the training set. "
   ]
  },
  {
   "cell_type": "code",
   "execution_count": 17,
   "metadata": {},
   "outputs": [
    {
     "data": {
      "text/plain": [
       "            pred_sp2\n",
       "             setosa versicolor virginica\n",
       "  setosa         15          0         0\n",
       "  versicolor      0         15         0\n",
       "  virginica       0          1        14"
      ]
     },
     "metadata": {},
     "output_type": "display_data"
    },
    {
     "name": "stdout",
     "output_type": "stream",
     "text": [
      "[1] \"accuracy =  97.78\"\n"
     ]
    }
   ],
   "source": [
    "# Predicting the values for TEST data\n",
    "pred_sp2 <- predict(model_sp2, newdata = test_data, \"class\") # \"class\" tells to create labels instead of probabilities \n",
    " \n",
    "# Building confusion matrix \n",
    "ctable2 <- table(test_data$Species, pred_sp2)\n",
    "ctable2 \n",
    "\n",
    "# Calculating accuracy - sum of diagonal elements divided by total observations \n",
    "print(paste(\"accuracy = \",round((sum(diag(ctable2))/sum(ctable2))*100,2)))"
   ]
  },
  {
   "cell_type": "markdown",
   "metadata": {},
   "source": [
    "# Save your notebook"
   ]
  }
 ],
 "metadata": {
  "kernelspec": {
   "display_name": "R",
   "language": "R",
   "name": "ir"
  },
  "language_info": {
   "codemirror_mode": "r",
   "file_extension": ".r",
   "mimetype": "text/x-r-source",
   "name": "R",
   "pygments_lexer": "r",
   "version": "4.0.5"
  }
 },
 "nbformat": 4,
 "nbformat_minor": 1
}
