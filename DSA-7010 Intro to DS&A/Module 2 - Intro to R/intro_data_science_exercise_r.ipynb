{
 "cells": [
  {
   "cell_type": "markdown",
   "metadata": {},
   "source": [
    "# Manipulating Data with `R` Exercises\n",
    "\n",
    "In this Exercise notebook, you will be manipulating the Congress Terms data set with `R`. These data record some general information about every member in Congress dating back to the 1940s. We encourage you play get your hands dirty, and play around with this new data set to familiarize yourself with it. Be sure to follow the directions carefully and write as well as execute code in the designated cells."
   ]
  },
  {
   "cell_type": "markdown",
   "metadata": {},
   "source": [
    "**Question 1**: Read in the file `congress-terms.csv` under the `/dsa/data/all_datasets/` directory. Name this data frame \"`df`\"."
   ]
  },
  {
   "cell_type": "code",
   "execution_count": 3,
   "metadata": {},
   "outputs": [
    {
     "data": {
      "text/html": [
       "<table>\n",
       "<caption>A data.frame: 6 × 13</caption>\n",
       "<thead>\n",
       "\t<tr><th scope=col>congress</th><th scope=col>chamber</th><th scope=col>bioguide</th><th scope=col>firstname</th><th scope=col>middlename</th><th scope=col>lastname</th><th scope=col>suffix</th><th scope=col>birthday</th><th scope=col>state</th><th scope=col>party</th><th scope=col>incumbent</th><th scope=col>termstart</th><th scope=col>age</th></tr>\n",
       "\t<tr><th scope=col>&lt;int&gt;</th><th scope=col>&lt;fct&gt;</th><th scope=col>&lt;fct&gt;</th><th scope=col>&lt;fct&gt;</th><th scope=col>&lt;fct&gt;</th><th scope=col>&lt;fct&gt;</th><th scope=col>&lt;fct&gt;</th><th scope=col>&lt;fct&gt;</th><th scope=col>&lt;fct&gt;</th><th scope=col>&lt;fct&gt;</th><th scope=col>&lt;fct&gt;</th><th scope=col>&lt;fct&gt;</th><th scope=col>&lt;dbl&gt;</th></tr>\n",
       "</thead>\n",
       "<tbody>\n",
       "\t<tr><td>80</td><td>house</td><td>M000112</td><td>Joseph </td><td>Jefferson</td><td>Mansfield</td><td></td><td>1861-02-09</td><td>TX</td><td>D</td><td>Yes</td><td>1/3/47</td><td>85.9</td></tr>\n",
       "\t<tr><td>80</td><td>house</td><td>D000448</td><td>Robert </td><td>Lee      </td><td>Doughton </td><td></td><td>1863-11-07</td><td>NC</td><td>D</td><td>Yes</td><td>1/3/47</td><td>83.2</td></tr>\n",
       "\t<tr><td>80</td><td>house</td><td>S000001</td><td>Adolph </td><td>Joachim  </td><td>Sabath   </td><td></td><td>1866-04-04</td><td>IL</td><td>D</td><td>Yes</td><td>1/3/47</td><td>80.7</td></tr>\n",
       "\t<tr><td>80</td><td>house</td><td>E000023</td><td>Charles</td><td>Aubrey   </td><td>Eaton    </td><td></td><td>1868-03-29</td><td>NJ</td><td>R</td><td>Yes</td><td>1/3/47</td><td>78.8</td></tr>\n",
       "\t<tr><td>80</td><td>house</td><td>L000296</td><td>William</td><td>         </td><td>Lewis    </td><td></td><td>1868-09-22</td><td>KY</td><td>R</td><td>No </td><td>1/3/47</td><td>78.3</td></tr>\n",
       "\t<tr><td>80</td><td>house</td><td>G000017</td><td>James  </td><td>A.       </td><td>Gallagher</td><td></td><td>1869-01-16</td><td>PA</td><td>R</td><td>No </td><td>1/3/47</td><td>78.0</td></tr>\n",
       "</tbody>\n",
       "</table>\n"
      ],
      "text/latex": [
       "A data.frame: 6 × 13\n",
       "\\begin{tabular}{r|lllllllllllll}\n",
       " congress & chamber & bioguide & firstname & middlename & lastname & suffix & birthday & state & party & incumbent & termstart & age\\\\\n",
       " <int> & <fct> & <fct> & <fct> & <fct> & <fct> & <fct> & <fct> & <fct> & <fct> & <fct> & <fct> & <dbl>\\\\\n",
       "\\hline\n",
       "\t 80 & house & M000112 & Joseph  & Jefferson & Mansfield &  & 1861-02-09 & TX & D & Yes & 1/3/47 & 85.9\\\\\n",
       "\t 80 & house & D000448 & Robert  & Lee       & Doughton  &  & 1863-11-07 & NC & D & Yes & 1/3/47 & 83.2\\\\\n",
       "\t 80 & house & S000001 & Adolph  & Joachim   & Sabath    &  & 1866-04-04 & IL & D & Yes & 1/3/47 & 80.7\\\\\n",
       "\t 80 & house & E000023 & Charles & Aubrey    & Eaton     &  & 1868-03-29 & NJ & R & Yes & 1/3/47 & 78.8\\\\\n",
       "\t 80 & house & L000296 & William &           & Lewis     &  & 1868-09-22 & KY & R & No  & 1/3/47 & 78.3\\\\\n",
       "\t 80 & house & G000017 & James   & A.        & Gallagher &  & 1869-01-16 & PA & R & No  & 1/3/47 & 78.0\\\\\n",
       "\\end{tabular}\n"
      ],
      "text/markdown": [
       "\n",
       "A data.frame: 6 × 13\n",
       "\n",
       "| congress &lt;int&gt; | chamber &lt;fct&gt; | bioguide &lt;fct&gt; | firstname &lt;fct&gt; | middlename &lt;fct&gt; | lastname &lt;fct&gt; | suffix &lt;fct&gt; | birthday &lt;fct&gt; | state &lt;fct&gt; | party &lt;fct&gt; | incumbent &lt;fct&gt; | termstart &lt;fct&gt; | age &lt;dbl&gt; |\n",
       "|---|---|---|---|---|---|---|---|---|---|---|---|---|\n",
       "| 80 | house | M000112 | Joseph  | Jefferson | Mansfield | <!----> | 1861-02-09 | TX | D | Yes | 1/3/47 | 85.9 |\n",
       "| 80 | house | D000448 | Robert  | Lee       | Doughton  | <!----> | 1863-11-07 | NC | D | Yes | 1/3/47 | 83.2 |\n",
       "| 80 | house | S000001 | Adolph  | Joachim   | Sabath    | <!----> | 1866-04-04 | IL | D | Yes | 1/3/47 | 80.7 |\n",
       "| 80 | house | E000023 | Charles | Aubrey    | Eaton     | <!----> | 1868-03-29 | NJ | R | Yes | 1/3/47 | 78.8 |\n",
       "| 80 | house | L000296 | William | <!----> | Lewis     | <!----> | 1868-09-22 | KY | R | No  | 1/3/47 | 78.3 |\n",
       "| 80 | house | G000017 | James   | A.        | Gallagher | <!----> | 1869-01-16 | PA | R | No  | 1/3/47 | 78.0 |\n",
       "\n"
      ],
      "text/plain": [
       "  congress chamber bioguide firstname middlename lastname  suffix birthday  \n",
       "1 80       house   M000112  Joseph    Jefferson  Mansfield        1861-02-09\n",
       "2 80       house   D000448  Robert    Lee        Doughton         1863-11-07\n",
       "3 80       house   S000001  Adolph    Joachim    Sabath           1866-04-04\n",
       "4 80       house   E000023  Charles   Aubrey     Eaton            1868-03-29\n",
       "5 80       house   L000296  William              Lewis            1868-09-22\n",
       "6 80       house   G000017  James     A.         Gallagher        1869-01-16\n",
       "  state party incumbent termstart age \n",
       "1 TX    D     Yes       1/3/47    85.9\n",
       "2 NC    D     Yes       1/3/47    83.2\n",
       "3 IL    D     Yes       1/3/47    80.7\n",
       "4 NJ    R     Yes       1/3/47    78.8\n",
       "5 KY    R     No        1/3/47    78.3\n",
       "6 PA    R     No        1/3/47    78.0"
      ]
     },
     "metadata": {},
     "output_type": "display_data"
    }
   ],
   "source": [
    "# Execute your code for question 1 here\n",
    "# -------------------------------------\n",
    "df <- read.csv(\"/dsa/data/all_datasets/congress-terms.csv\")\n",
    "head(df)\n"
   ]
  },
  {
   "cell_type": "markdown",
   "metadata": {},
   "source": [
    "**Question 2**: Now split the data frame, `df`, into 2 data frames based on the Republican and Democratic party. Save them in a variables named \"`republican`\" and \"`democrat`\" respectively. Which data set has more rows?"
   ]
  },
  {
   "cell_type": "code",
   "execution_count": 43,
   "metadata": {},
   "outputs": [
    {
     "name": "stdout",
     "output_type": "stream",
     "text": [
      "There are more democrats (10290.000000) than Republicans (8274.000000)"
     ]
    }
   ],
   "source": [
    "# Execute your code for question 2 here\n",
    "# -------------------------------------\n",
    "republican <- subset(df, party == \"R\")\n",
    "democrat <- subset(df, party == \"D\")\n",
    "\n",
    "repub = nrow(republican)\n",
    "dem = nrow(democrat)\n",
    "\n",
    "cat(sprintf(\"There are more democrats (%f) than Republicans (%f)\", dem, repub))"
   ]
  },
  {
   "cell_type": "markdown",
   "metadata": {},
   "source": [
    "**Question 3**:  Are there any other codes for political parties other than Democrat and Republican? If so, what are these other codes? What function did you use to find this?"
   ]
  },
  {
   "cell_type": "code",
   "execution_count": 20,
   "metadata": {},
   "outputs": [
    {
     "data": {
      "text/html": [
       "<ol class=list-inline>\n",
       "\t<li>D</li>\n",
       "\t<li>R</li>\n",
       "\t<li>AL</li>\n",
       "\t<li>L</li>\n",
       "\t<li>I</li>\n",
       "\t<li>ID</li>\n",
       "</ol>\n",
       "\n",
       "<details>\n",
       "\t<summary style=display:list-item;cursor:pointer>\n",
       "\t\t<strong>Levels</strong>:\n",
       "\t</summary>\n",
       "\t<ol class=list-inline>\n",
       "\t\t<li>'AL'</li>\n",
       "\t\t<li>'D'</li>\n",
       "\t\t<li>'I'</li>\n",
       "\t\t<li>'ID'</li>\n",
       "\t\t<li>'L'</li>\n",
       "\t\t<li>'R'</li>\n",
       "\t</ol>\n",
       "</details>"
      ],
      "text/latex": [
       "\\begin{enumerate*}\n",
       "\\item D\n",
       "\\item R\n",
       "\\item AL\n",
       "\\item L\n",
       "\\item I\n",
       "\\item ID\n",
       "\\end{enumerate*}\n",
       "\n",
       "\\emph{Levels}: \\begin{enumerate*}\n",
       "\\item 'AL'\n",
       "\\item 'D'\n",
       "\\item 'I'\n",
       "\\item 'ID'\n",
       "\\item 'L'\n",
       "\\item 'R'\n",
       "\\end{enumerate*}\n"
      ],
      "text/markdown": [
       "1. D\n",
       "2. R\n",
       "3. AL\n",
       "4. L\n",
       "5. I\n",
       "6. ID\n",
       "\n",
       "\n",
       "\n",
       "**Levels**: 1. 'AL'\n",
       "2. 'D'\n",
       "3. 'I'\n",
       "4. 'ID'\n",
       "5. 'L'\n",
       "6. 'R'\n",
       "\n",
       "\n"
      ],
      "text/plain": [
       "[1] D  R  AL L  I  ID\n",
       "Levels: AL D I ID L R"
      ]
     },
     "metadata": {},
     "output_type": "display_data"
    }
   ],
   "source": [
    "# Write your code for question 3 here\n",
    "# -------------------------------------\n",
    "unique(df$party)"
   ]
  },
  {
   "cell_type": "raw",
   "metadata": {},
   "source": [
    "Answer the question above here.\n",
    "3. I used the unique function to find there is also AL, L, I, and ID codes for political party affiliation outside of R and D.\n"
   ]
  },
  {
   "cell_type": "markdown",
   "metadata": {},
   "source": [
    "**Question 4**: Sort the `republicans` and `democrats` data frames by age and return the 5 oldest and youngest from each party. "
   ]
  },
  {
   "cell_type": "code",
   "execution_count": 54,
   "metadata": {},
   "outputs": [
    {
     "data": {
      "text/html": [
       "<table>\n",
       "<caption>A data.frame: 6 × 13</caption>\n",
       "<thead>\n",
       "\t<tr><th></th><th scope=col>congress</th><th scope=col>chamber</th><th scope=col>bioguide</th><th scope=col>firstname</th><th scope=col>middlename</th><th scope=col>lastname</th><th scope=col>suffix</th><th scope=col>birthday</th><th scope=col>state</th><th scope=col>party</th><th scope=col>incumbent</th><th scope=col>termstart</th><th scope=col>age</th></tr>\n",
       "\t<tr><th></th><th scope=col>&lt;int&gt;</th><th scope=col>&lt;fct&gt;</th><th scope=col>&lt;fct&gt;</th><th scope=col>&lt;fct&gt;</th><th scope=col>&lt;fct&gt;</th><th scope=col>&lt;fct&gt;</th><th scope=col>&lt;fct&gt;</th><th scope=col>&lt;fct&gt;</th><th scope=col>&lt;fct&gt;</th><th scope=col>&lt;fct&gt;</th><th scope=col>&lt;fct&gt;</th><th scope=col>&lt;fct&gt;</th><th scope=col>&lt;dbl&gt;</th></tr>\n",
       "</thead>\n",
       "<tbody>\n",
       "\t<tr><th scope=row>8166</th><td> 94</td><td>house</td><td>E000175</td><td>David  </td><td>Farnham</td><td>Emery       </td><td>   </td><td>9/1/48 </td><td>ME</td><td>R</td><td>No</td><td>1/14/75</td><td>26.4</td></tr>\n",
       "\t<tr><th scope=row>15255</th><td>107</td><td>house</td><td>P000586</td><td>Adam   </td><td>H.     </td><td>Putnam      </td><td>   </td><td>7/31/74</td><td>FL</td><td>R</td><td>No</td><td>1/3/01 </td><td>26.4</td></tr>\n",
       "\t<tr><th scope=row>2110</th><td> 83</td><td>house</td><td>W000121</td><td>William</td><td>Creed  </td><td>Wampler     </td><td>   </td><td>4/21/26</td><td>VA</td><td>R</td><td>No</td><td>1/3/53 </td><td>26.7</td></tr>\n",
       "\t<tr><th scope=row>452</th><td> 80</td><td>house</td><td>S000063</td><td>George </td><td>William</td><td>Sarbacher   </td><td>Jr.</td><td>9/30/19</td><td>PA</td><td>R</td><td>No</td><td>1/3/47 </td><td>27.3</td></tr>\n",
       "\t<tr><th scope=row>9814</th><td> 97</td><td>house</td><td>L000547</td><td>John   </td><td>       </td><td>LeBoutillier</td><td>   </td><td>5/26/53</td><td>NY</td><td>R</td><td>No</td><td>1/5/81 </td><td>27.6</td></tr>\n",
       "\t<tr><th scope=row>10899</th><td> 99</td><td>house</td><td>R000482</td><td>John   </td><td>       </td><td>Rowland     </td><td>   </td><td>5/24/57</td><td>CT</td><td>R</td><td>No</td><td>1/3/85 </td><td>27.6</td></tr>\n",
       "</tbody>\n",
       "</table>\n"
      ],
      "text/latex": [
       "A data.frame: 6 × 13\n",
       "\\begin{tabular}{r|lllllllllllll}\n",
       "  & congress & chamber & bioguide & firstname & middlename & lastname & suffix & birthday & state & party & incumbent & termstart & age\\\\\n",
       "  & <int> & <fct> & <fct> & <fct> & <fct> & <fct> & <fct> & <fct> & <fct> & <fct> & <fct> & <fct> & <dbl>\\\\\n",
       "\\hline\n",
       "\t8166 &  94 & house & E000175 & David   & Farnham & Emery        &     & 9/1/48  & ME & R & No & 1/14/75 & 26.4\\\\\n",
       "\t15255 & 107 & house & P000586 & Adam    & H.      & Putnam       &     & 7/31/74 & FL & R & No & 1/3/01  & 26.4\\\\\n",
       "\t2110 &  83 & house & W000121 & William & Creed   & Wampler      &     & 4/21/26 & VA & R & No & 1/3/53  & 26.7\\\\\n",
       "\t452 &  80 & house & S000063 & George  & William & Sarbacher    & Jr. & 9/30/19 & PA & R & No & 1/3/47  & 27.3\\\\\n",
       "\t9814 &  97 & house & L000547 & John    &         & LeBoutillier &     & 5/26/53 & NY & R & No & 1/5/81  & 27.6\\\\\n",
       "\t10899 &  99 & house & R000482 & John    &         & Rowland      &     & 5/24/57 & CT & R & No & 1/3/85  & 27.6\\\\\n",
       "\\end{tabular}\n"
      ],
      "text/markdown": [
       "\n",
       "A data.frame: 6 × 13\n",
       "\n",
       "| <!--/--> | congress &lt;int&gt; | chamber &lt;fct&gt; | bioguide &lt;fct&gt; | firstname &lt;fct&gt; | middlename &lt;fct&gt; | lastname &lt;fct&gt; | suffix &lt;fct&gt; | birthday &lt;fct&gt; | state &lt;fct&gt; | party &lt;fct&gt; | incumbent &lt;fct&gt; | termstart &lt;fct&gt; | age &lt;dbl&gt; |\n",
       "|---|---|---|---|---|---|---|---|---|---|---|---|---|---|\n",
       "| 8166 |  94 | house | E000175 | David   | Farnham | Emery        | <!----> | 9/1/48  | ME | R | No | 1/14/75 | 26.4 |\n",
       "| 15255 | 107 | house | P000586 | Adam    | H.      | Putnam       | <!----> | 7/31/74 | FL | R | No | 1/3/01  | 26.4 |\n",
       "| 2110 |  83 | house | W000121 | William | Creed   | Wampler      | <!----> | 4/21/26 | VA | R | No | 1/3/53  | 26.7 |\n",
       "| 452 |  80 | house | S000063 | George  | William | Sarbacher    | Jr. | 9/30/19 | PA | R | No | 1/3/47  | 27.3 |\n",
       "| 9814 |  97 | house | L000547 | John    | <!----> | LeBoutillier | <!----> | 5/26/53 | NY | R | No | 1/5/81  | 27.6 |\n",
       "| 10899 |  99 | house | R000482 | John    | <!----> | Rowland      | <!----> | 5/24/57 | CT | R | No | 1/3/85  | 27.6 |\n",
       "\n"
      ],
      "text/plain": [
       "      congress chamber bioguide firstname middlename lastname     suffix\n",
       "8166   94      house   E000175  David     Farnham    Emery              \n",
       "15255 107      house   P000586  Adam      H.         Putnam             \n",
       "2110   83      house   W000121  William   Creed      Wampler            \n",
       "452    80      house   S000063  George    William    Sarbacher    Jr.   \n",
       "9814   97      house   L000547  John                 LeBoutillier       \n",
       "10899  99      house   R000482  John                 Rowland            \n",
       "      birthday state party incumbent termstart age \n",
       "8166  9/1/48   ME    R     No        1/14/75   26.4\n",
       "15255 7/31/74  FL    R     No        1/3/01    26.4\n",
       "2110  4/21/26  VA    R     No        1/3/53    26.7\n",
       "452   9/30/19  PA    R     No        1/3/47    27.3\n",
       "9814  5/26/53  NY    R     No        1/5/81    27.6\n",
       "10899 5/24/57  CT    R     No        1/3/85    27.6"
      ]
     },
     "metadata": {},
     "output_type": "display_data"
    },
    {
     "data": {
      "text/html": [
       "<table>\n",
       "<caption>A data.frame: 6 × 13</caption>\n",
       "<thead>\n",
       "\t<tr><th></th><th scope=col>congress</th><th scope=col>chamber</th><th scope=col>bioguide</th><th scope=col>firstname</th><th scope=col>middlename</th><th scope=col>lastname</th><th scope=col>suffix</th><th scope=col>birthday</th><th scope=col>state</th><th scope=col>party</th><th scope=col>incumbent</th><th scope=col>termstart</th><th scope=col>age</th></tr>\n",
       "\t<tr><th></th><th scope=col>&lt;int&gt;</th><th scope=col>&lt;fct&gt;</th><th scope=col>&lt;fct&gt;</th><th scope=col>&lt;fct&gt;</th><th scope=col>&lt;fct&gt;</th><th scope=col>&lt;fct&gt;</th><th scope=col>&lt;fct&gt;</th><th scope=col>&lt;fct&gt;</th><th scope=col>&lt;fct&gt;</th><th scope=col>&lt;fct&gt;</th><th scope=col>&lt;fct&gt;</th><th scope=col>&lt;fct&gt;</th><th scope=col>&lt;dbl&gt;</th></tr>\n",
       "</thead>\n",
       "<tbody>\n",
       "\t<tr><th scope=row>15256</th><td>107</td><td>senate</td><td>T000254</td><td>J.   </td><td>Strom</td><td>Thurmond</td><td></td><td>1902-12-05</td><td>SC</td><td>R</td><td>Yes</td><td>1/3/01</td><td>98.1</td></tr>\n",
       "\t<tr><th scope=row>14712</th><td>106</td><td>senate</td><td>T000254</td><td>J.   </td><td>Strom</td><td>Thurmond</td><td></td><td>1902-12-05</td><td>SC</td><td>R</td><td>Yes</td><td>1/6/99</td><td>96.1</td></tr>\n",
       "\t<tr><th scope=row>14175</th><td>105</td><td>senate</td><td>T000254</td><td>J.   </td><td>Strom</td><td>Thurmond</td><td></td><td>1902-12-05</td><td>SC</td><td>R</td><td>Yes</td><td>1/7/97</td><td>94.1</td></tr>\n",
       "\t<tr><th scope=row>13628</th><td>104</td><td>senate</td><td>T000254</td><td>J.   </td><td>Strom</td><td>Thurmond</td><td></td><td>1902-12-05</td><td>SC</td><td>R</td><td>Yes</td><td>1/4/95</td><td>92.1</td></tr>\n",
       "\t<tr><th scope=row>13082</th><td>103</td><td>senate</td><td>T000254</td><td>J.   </td><td>Strom</td><td>Thurmond</td><td></td><td>1902-12-05</td><td>SC</td><td>R</td><td>Yes</td><td>1/5/93</td><td>90.1</td></tr>\n",
       "\t<tr><th scope=row>18092</th><td>113</td><td>house </td><td>H000067</td><td>Ralph</td><td>M.   </td><td>Hall    </td><td></td><td>5/3/23    </td><td>TX</td><td>R</td><td>Yes</td><td>1/3/13</td><td>89.7</td></tr>\n",
       "</tbody>\n",
       "</table>\n"
      ],
      "text/latex": [
       "A data.frame: 6 × 13\n",
       "\\begin{tabular}{r|lllllllllllll}\n",
       "  & congress & chamber & bioguide & firstname & middlename & lastname & suffix & birthday & state & party & incumbent & termstart & age\\\\\n",
       "  & <int> & <fct> & <fct> & <fct> & <fct> & <fct> & <fct> & <fct> & <fct> & <fct> & <fct> & <fct> & <dbl>\\\\\n",
       "\\hline\n",
       "\t15256 & 107 & senate & T000254 & J.    & Strom & Thurmond &  & 1902-12-05 & SC & R & Yes & 1/3/01 & 98.1\\\\\n",
       "\t14712 & 106 & senate & T000254 & J.    & Strom & Thurmond &  & 1902-12-05 & SC & R & Yes & 1/6/99 & 96.1\\\\\n",
       "\t14175 & 105 & senate & T000254 & J.    & Strom & Thurmond &  & 1902-12-05 & SC & R & Yes & 1/7/97 & 94.1\\\\\n",
       "\t13628 & 104 & senate & T000254 & J.    & Strom & Thurmond &  & 1902-12-05 & SC & R & Yes & 1/4/95 & 92.1\\\\\n",
       "\t13082 & 103 & senate & T000254 & J.    & Strom & Thurmond &  & 1902-12-05 & SC & R & Yes & 1/5/93 & 90.1\\\\\n",
       "\t18092 & 113 & house  & H000067 & Ralph & M.    & Hall     &  & 5/3/23     & TX & R & Yes & 1/3/13 & 89.7\\\\\n",
       "\\end{tabular}\n"
      ],
      "text/markdown": [
       "\n",
       "A data.frame: 6 × 13\n",
       "\n",
       "| <!--/--> | congress &lt;int&gt; | chamber &lt;fct&gt; | bioguide &lt;fct&gt; | firstname &lt;fct&gt; | middlename &lt;fct&gt; | lastname &lt;fct&gt; | suffix &lt;fct&gt; | birthday &lt;fct&gt; | state &lt;fct&gt; | party &lt;fct&gt; | incumbent &lt;fct&gt; | termstart &lt;fct&gt; | age &lt;dbl&gt; |\n",
       "|---|---|---|---|---|---|---|---|---|---|---|---|---|---|\n",
       "| 15256 | 107 | senate | T000254 | J.    | Strom | Thurmond | <!----> | 1902-12-05 | SC | R | Yes | 1/3/01 | 98.1 |\n",
       "| 14712 | 106 | senate | T000254 | J.    | Strom | Thurmond | <!----> | 1902-12-05 | SC | R | Yes | 1/6/99 | 96.1 |\n",
       "| 14175 | 105 | senate | T000254 | J.    | Strom | Thurmond | <!----> | 1902-12-05 | SC | R | Yes | 1/7/97 | 94.1 |\n",
       "| 13628 | 104 | senate | T000254 | J.    | Strom | Thurmond | <!----> | 1902-12-05 | SC | R | Yes | 1/4/95 | 92.1 |\n",
       "| 13082 | 103 | senate | T000254 | J.    | Strom | Thurmond | <!----> | 1902-12-05 | SC | R | Yes | 1/5/93 | 90.1 |\n",
       "| 18092 | 113 | house  | H000067 | Ralph | M.    | Hall     | <!----> | 5/3/23     | TX | R | Yes | 1/3/13 | 89.7 |\n",
       "\n"
      ],
      "text/plain": [
       "      congress chamber bioguide firstname middlename lastname suffix birthday  \n",
       "15256 107      senate  T000254  J.        Strom      Thurmond        1902-12-05\n",
       "14712 106      senate  T000254  J.        Strom      Thurmond        1902-12-05\n",
       "14175 105      senate  T000254  J.        Strom      Thurmond        1902-12-05\n",
       "13628 104      senate  T000254  J.        Strom      Thurmond        1902-12-05\n",
       "13082 103      senate  T000254  J.        Strom      Thurmond        1902-12-05\n",
       "18092 113      house   H000067  Ralph     M.         Hall            5/3/23    \n",
       "      state party incumbent termstart age \n",
       "15256 SC    R     Yes       1/3/01    98.1\n",
       "14712 SC    R     Yes       1/6/99    96.1\n",
       "14175 SC    R     Yes       1/7/97    94.1\n",
       "13628 SC    R     Yes       1/4/95    92.1\n",
       "13082 SC    R     Yes       1/5/93    90.1\n",
       "18092 TX    R     Yes       1/3/13    89.7"
      ]
     },
     "metadata": {},
     "output_type": "display_data"
    },
    {
     "data": {
      "text/html": [
       "<table>\n",
       "<caption>A data.frame: 6 × 13</caption>\n",
       "<thead>\n",
       "\t<tr><th></th><th scope=col>congress</th><th scope=col>chamber</th><th scope=col>bioguide</th><th scope=col>firstname</th><th scope=col>middlename</th><th scope=col>lastname</th><th scope=col>suffix</th><th scope=col>birthday</th><th scope=col>state</th><th scope=col>party</th><th scope=col>incumbent</th><th scope=col>termstart</th><th scope=col>age</th></tr>\n",
       "\t<tr><th></th><th scope=col>&lt;int&gt;</th><th scope=col>&lt;fct&gt;</th><th scope=col>&lt;fct&gt;</th><th scope=col>&lt;fct&gt;</th><th scope=col>&lt;fct&gt;</th><th scope=col>&lt;fct&gt;</th><th scope=col>&lt;fct&gt;</th><th scope=col>&lt;fct&gt;</th><th scope=col>&lt;fct&gt;</th><th scope=col>&lt;fct&gt;</th><th scope=col>&lt;fct&gt;</th><th scope=col>&lt;fct&gt;</th><th scope=col>&lt;dbl&gt;</th></tr>\n",
       "</thead>\n",
       "<tbody>\n",
       "\t<tr><th scope=row>5423</th><td> 89</td><td>house</td><td>J000151</td><td>Jed    </td><td>Joseph </td><td>Johnson</td><td>Jr.</td><td>12/27/39</td><td>OK</td><td>D</td><td>No</td><td>1/4/65 </td><td>25.0</td></tr>\n",
       "\t<tr><th scope=row>453</th><td> 80</td><td>house</td><td>B000401</td><td>Lloyd  </td><td>Millard</td><td>Bentsen</td><td>Jr.</td><td>2/11/21 </td><td>TX</td><td>D</td><td>No</td><td>1/3/47 </td><td>25.9</td></tr>\n",
       "\t<tr><th scope=row>8167</th><td> 94</td><td>house</td><td>D000471</td><td>Thomas </td><td>Joseph </td><td>Downey </td><td>   </td><td>1/28/49 </td><td>NY</td><td>D</td><td>No</td><td>1/14/75</td><td>26.0</td></tr>\n",
       "\t<tr><th scope=row>5422</th><td> 89</td><td>house</td><td>G000420</td><td>William</td><td>Joseph </td><td>Green  </td><td>   </td><td>6/24/38 </td><td>PA</td><td>D</td><td>No</td><td>1/4/65 </td><td>26.5</td></tr>\n",
       "\t<tr><th scope=row>14174</th><td>105</td><td>house</td><td>F000262</td><td>Harold </td><td>E.     </td><td>Ford   </td><td>Jr.</td><td>5/11/70 </td><td>TN</td><td>D</td><td>No</td><td>1/7/97 </td><td>26.7</td></tr>\n",
       "\t<tr><th scope=row>9268</th><td> 96</td><td>house</td><td>S000286</td><td>James  </td><td>Michael</td><td>Shannon</td><td>   </td><td>4/4/52  </td><td>MA</td><td>D</td><td>No</td><td>1/15/79</td><td>26.8</td></tr>\n",
       "</tbody>\n",
       "</table>\n"
      ],
      "text/latex": [
       "A data.frame: 6 × 13\n",
       "\\begin{tabular}{r|lllllllllllll}\n",
       "  & congress & chamber & bioguide & firstname & middlename & lastname & suffix & birthday & state & party & incumbent & termstart & age\\\\\n",
       "  & <int> & <fct> & <fct> & <fct> & <fct> & <fct> & <fct> & <fct> & <fct> & <fct> & <fct> & <fct> & <dbl>\\\\\n",
       "\\hline\n",
       "\t5423 &  89 & house & J000151 & Jed     & Joseph  & Johnson & Jr. & 12/27/39 & OK & D & No & 1/4/65  & 25.0\\\\\n",
       "\t453 &  80 & house & B000401 & Lloyd   & Millard & Bentsen & Jr. & 2/11/21  & TX & D & No & 1/3/47  & 25.9\\\\\n",
       "\t8167 &  94 & house & D000471 & Thomas  & Joseph  & Downey  &     & 1/28/49  & NY & D & No & 1/14/75 & 26.0\\\\\n",
       "\t5422 &  89 & house & G000420 & William & Joseph  & Green   &     & 6/24/38  & PA & D & No & 1/4/65  & 26.5\\\\\n",
       "\t14174 & 105 & house & F000262 & Harold  & E.      & Ford    & Jr. & 5/11/70  & TN & D & No & 1/7/97  & 26.7\\\\\n",
       "\t9268 &  96 & house & S000286 & James   & Michael & Shannon &     & 4/4/52   & MA & D & No & 1/15/79 & 26.8\\\\\n",
       "\\end{tabular}\n"
      ],
      "text/markdown": [
       "\n",
       "A data.frame: 6 × 13\n",
       "\n",
       "| <!--/--> | congress &lt;int&gt; | chamber &lt;fct&gt; | bioguide &lt;fct&gt; | firstname &lt;fct&gt; | middlename &lt;fct&gt; | lastname &lt;fct&gt; | suffix &lt;fct&gt; | birthday &lt;fct&gt; | state &lt;fct&gt; | party &lt;fct&gt; | incumbent &lt;fct&gt; | termstart &lt;fct&gt; | age &lt;dbl&gt; |\n",
       "|---|---|---|---|---|---|---|---|---|---|---|---|---|---|\n",
       "| 5423 |  89 | house | J000151 | Jed     | Joseph  | Johnson | Jr. | 12/27/39 | OK | D | No | 1/4/65  | 25.0 |\n",
       "| 453 |  80 | house | B000401 | Lloyd   | Millard | Bentsen | Jr. | 2/11/21  | TX | D | No | 1/3/47  | 25.9 |\n",
       "| 8167 |  94 | house | D000471 | Thomas  | Joseph  | Downey  | <!----> | 1/28/49  | NY | D | No | 1/14/75 | 26.0 |\n",
       "| 5422 |  89 | house | G000420 | William | Joseph  | Green   | <!----> | 6/24/38  | PA | D | No | 1/4/65  | 26.5 |\n",
       "| 14174 | 105 | house | F000262 | Harold  | E.      | Ford    | Jr. | 5/11/70  | TN | D | No | 1/7/97  | 26.7 |\n",
       "| 9268 |  96 | house | S000286 | James   | Michael | Shannon | <!----> | 4/4/52   | MA | D | No | 1/15/79 | 26.8 |\n",
       "\n"
      ],
      "text/plain": [
       "      congress chamber bioguide firstname middlename lastname suffix birthday\n",
       "5423   89      house   J000151  Jed       Joseph     Johnson  Jr.    12/27/39\n",
       "453    80      house   B000401  Lloyd     Millard    Bentsen  Jr.    2/11/21 \n",
       "8167   94      house   D000471  Thomas    Joseph     Downey          1/28/49 \n",
       "5422   89      house   G000420  William   Joseph     Green           6/24/38 \n",
       "14174 105      house   F000262  Harold    E.         Ford     Jr.    5/11/70 \n",
       "9268   96      house   S000286  James     Michael    Shannon         4/4/52  \n",
       "      state party incumbent termstart age \n",
       "5423  OK    D     No        1/4/65    25.0\n",
       "453   TX    D     No        1/3/47    25.9\n",
       "8167  NY    D     No        1/14/75   26.0\n",
       "5422  PA    D     No        1/4/65    26.5\n",
       "14174 TN    D     No        1/7/97    26.7\n",
       "9268  MA    D     No        1/15/79   26.8"
      ]
     },
     "metadata": {},
     "output_type": "display_data"
    },
    {
     "data": {
      "text/html": [
       "<table>\n",
       "<caption>A data.frame: 6 × 13</caption>\n",
       "<thead>\n",
       "\t<tr><th></th><th scope=col>congress</th><th scope=col>chamber</th><th scope=col>bioguide</th><th scope=col>firstname</th><th scope=col>middlename</th><th scope=col>lastname</th><th scope=col>suffix</th><th scope=col>birthday</th><th scope=col>state</th><th scope=col>party</th><th scope=col>incumbent</th><th scope=col>termstart</th><th scope=col>age</th></tr>\n",
       "\t<tr><th></th><th scope=col>&lt;int&gt;</th><th scope=col>&lt;fct&gt;</th><th scope=col>&lt;fct&gt;</th><th scope=col>&lt;fct&gt;</th><th scope=col>&lt;fct&gt;</th><th scope=col>&lt;fct&gt;</th><th scope=col>&lt;fct&gt;</th><th scope=col>&lt;fct&gt;</th><th scope=col>&lt;fct&gt;</th><th scope=col>&lt;fct&gt;</th><th scope=col>&lt;fct&gt;</th><th scope=col>&lt;fct&gt;</th><th scope=col>&lt;dbl&gt;</th></tr>\n",
       "</thead>\n",
       "<tbody>\n",
       "\t<tr><th scope=row>17536</th><td>111</td><td>senate</td><td>B001210</td><td>Robert  </td><td>C.      </td><td>Byrd      </td><td></td><td>11/19/13  </td><td>WV</td><td>D</td><td>Yes</td><td>1/6/09 </td><td>95.1</td></tr>\n",
       "\t<tr><th scope=row>18635</th><td>113</td><td>senate</td><td>L000123</td><td>Frank   </td><td>R.      </td><td>Lautenberg</td><td></td><td>1/22/20   </td><td>NJ</td><td>D</td><td>Yes</td><td>1/3/13 </td><td>93.0</td></tr>\n",
       "\t<tr><th scope=row>3764</th><td> 86</td><td>senate</td><td>G000418</td><td>Theodore</td><td>Francis </td><td>Green     </td><td></td><td>1867-10-02</td><td>RI</td><td>D</td><td>Yes</td><td>1/7/59 </td><td>91.3</td></tr>\n",
       "\t<tr><th scope=row>18091</th><td>112</td><td>senate</td><td>I000025</td><td>Daniel  </td><td>K.      </td><td>Inouye    </td><td></td><td>9/6/20    </td><td>HI</td><td>D</td><td>Yes</td><td>1/5/11 </td><td>90.3</td></tr>\n",
       "\t<tr><th scope=row>3214</th><td> 85</td><td>senate</td><td>G000418</td><td>Theodore</td><td>Francis </td><td>Green     </td><td></td><td>1867-10-02</td><td>RI</td><td>D</td><td>Yes</td><td>1/3/57 </td><td>89.3</td></tr>\n",
       "\t<tr><th scope=row>5968</th><td> 90</td><td>senate</td><td>H000385</td><td>Carl    </td><td>Trumbull</td><td>Hayden    </td><td></td><td>1877-10-02</td><td>AZ</td><td>D</td><td>Yes</td><td>1/10/67</td><td>89.3</td></tr>\n",
       "</tbody>\n",
       "</table>\n"
      ],
      "text/latex": [
       "A data.frame: 6 × 13\n",
       "\\begin{tabular}{r|lllllllllllll}\n",
       "  & congress & chamber & bioguide & firstname & middlename & lastname & suffix & birthday & state & party & incumbent & termstart & age\\\\\n",
       "  & <int> & <fct> & <fct> & <fct> & <fct> & <fct> & <fct> & <fct> & <fct> & <fct> & <fct> & <fct> & <dbl>\\\\\n",
       "\\hline\n",
       "\t17536 & 111 & senate & B001210 & Robert   & C.       & Byrd       &  & 11/19/13   & WV & D & Yes & 1/6/09  & 95.1\\\\\n",
       "\t18635 & 113 & senate & L000123 & Frank    & R.       & Lautenberg &  & 1/22/20    & NJ & D & Yes & 1/3/13  & 93.0\\\\\n",
       "\t3764 &  86 & senate & G000418 & Theodore & Francis  & Green      &  & 1867-10-02 & RI & D & Yes & 1/7/59  & 91.3\\\\\n",
       "\t18091 & 112 & senate & I000025 & Daniel   & K.       & Inouye     &  & 9/6/20     & HI & D & Yes & 1/5/11  & 90.3\\\\\n",
       "\t3214 &  85 & senate & G000418 & Theodore & Francis  & Green      &  & 1867-10-02 & RI & D & Yes & 1/3/57  & 89.3\\\\\n",
       "\t5968 &  90 & senate & H000385 & Carl     & Trumbull & Hayden     &  & 1877-10-02 & AZ & D & Yes & 1/10/67 & 89.3\\\\\n",
       "\\end{tabular}\n"
      ],
      "text/markdown": [
       "\n",
       "A data.frame: 6 × 13\n",
       "\n",
       "| <!--/--> | congress &lt;int&gt; | chamber &lt;fct&gt; | bioguide &lt;fct&gt; | firstname &lt;fct&gt; | middlename &lt;fct&gt; | lastname &lt;fct&gt; | suffix &lt;fct&gt; | birthday &lt;fct&gt; | state &lt;fct&gt; | party &lt;fct&gt; | incumbent &lt;fct&gt; | termstart &lt;fct&gt; | age &lt;dbl&gt; |\n",
       "|---|---|---|---|---|---|---|---|---|---|---|---|---|---|\n",
       "| 17536 | 111 | senate | B001210 | Robert   | C.       | Byrd       | <!----> | 11/19/13   | WV | D | Yes | 1/6/09  | 95.1 |\n",
       "| 18635 | 113 | senate | L000123 | Frank    | R.       | Lautenberg | <!----> | 1/22/20    | NJ | D | Yes | 1/3/13  | 93.0 |\n",
       "| 3764 |  86 | senate | G000418 | Theodore | Francis  | Green      | <!----> | 1867-10-02 | RI | D | Yes | 1/7/59  | 91.3 |\n",
       "| 18091 | 112 | senate | I000025 | Daniel   | K.       | Inouye     | <!----> | 9/6/20     | HI | D | Yes | 1/5/11  | 90.3 |\n",
       "| 3214 |  85 | senate | G000418 | Theodore | Francis  | Green      | <!----> | 1867-10-02 | RI | D | Yes | 1/3/57  | 89.3 |\n",
       "| 5968 |  90 | senate | H000385 | Carl     | Trumbull | Hayden     | <!----> | 1877-10-02 | AZ | D | Yes | 1/10/67 | 89.3 |\n",
       "\n"
      ],
      "text/plain": [
       "      congress chamber bioguide firstname middlename lastname   suffix\n",
       "17536 111      senate  B001210  Robert    C.         Byrd             \n",
       "18635 113      senate  L000123  Frank     R.         Lautenberg       \n",
       "3764   86      senate  G000418  Theodore  Francis    Green            \n",
       "18091 112      senate  I000025  Daniel    K.         Inouye           \n",
       "3214   85      senate  G000418  Theodore  Francis    Green            \n",
       "5968   90      senate  H000385  Carl      Trumbull   Hayden           \n",
       "      birthday   state party incumbent termstart age \n",
       "17536 11/19/13   WV    D     Yes       1/6/09    95.1\n",
       "18635 1/22/20    NJ    D     Yes       1/3/13    93.0\n",
       "3764  1867-10-02 RI    D     Yes       1/7/59    91.3\n",
       "18091 9/6/20     HI    D     Yes       1/5/11    90.3\n",
       "3214  1867-10-02 RI    D     Yes       1/3/57    89.3\n",
       "5968  1877-10-02 AZ    D     Yes       1/10/67   89.3"
      ]
     },
     "metadata": {},
     "output_type": "display_data"
    }
   ],
   "source": [
    "# Execute your code for question 4 here\n",
    "# -------------------------------------\n",
    "#head(order(republican$age), 5)\n",
    "#tail(order(republican$age), 5)\n",
    "\n",
    "#head(order(democrat$age), 5)\n",
    "#tail(order(democrat$age), 5)\n",
    "\n",
    "#head(order(republican$age))\n",
    "#rSort <- republican[order(age),]\n",
    "#republican[order(republican$age),]\n",
    "\n",
    "head(republican[order(republican$age, decreasing = FALSE), ])\n",
    "head(republican[order(republican$age, decreasing = TRUE), ])\n",
    "\n",
    "head(democrat[order(democrat$age, decreasing = FALSE), ])\n",
    "head(democrat[order(democrat$age, decreasing = TRUE), ])"
   ]
  },
  {
   "cell_type": "markdown",
   "metadata": {},
   "source": [
    "**Question 5**: Now, let's start using the package `dplyr` to perform some basic data manipulations. If you noticed, the `df$chamber` column contains whether or not the individual belonged to the `house` or the `senate`. Using `dplyr` create a frame of data that returns the youngest member from each chamber per party (including those other than Republican or Democrat)."
   ]
  },
  {
   "cell_type": "code",
   "execution_count": 63,
   "metadata": {},
   "outputs": [
    {
     "data": {
      "text/html": [
       "<table>\n",
       "<caption>A grouped_df: 11 × 13</caption>\n",
       "<thead>\n",
       "\t<tr><th scope=col>congress</th><th scope=col>chamber</th><th scope=col>bioguide</th><th scope=col>firstname</th><th scope=col>middlename</th><th scope=col>lastname</th><th scope=col>suffix</th><th scope=col>birthday</th><th scope=col>state</th><th scope=col>party</th><th scope=col>incumbent</th><th scope=col>termstart</th><th scope=col>age</th></tr>\n",
       "\t<tr><th scope=col>&lt;int&gt;</th><th scope=col>&lt;fct&gt;</th><th scope=col>&lt;fct&gt;</th><th scope=col>&lt;fct&gt;</th><th scope=col>&lt;fct&gt;</th><th scope=col>&lt;fct&gt;</th><th scope=col>&lt;fct&gt;</th><th scope=col>&lt;fct&gt;</th><th scope=col>&lt;fct&gt;</th><th scope=col>&lt;fct&gt;</th><th scope=col>&lt;fct&gt;</th><th scope=col>&lt;fct&gt;</th><th scope=col>&lt;dbl&gt;</th></tr>\n",
       "</thead>\n",
       "<tbody>\n",
       "\t<tr><td> 80</td><td>house </td><td>I000046</td><td>Leo     </td><td>         </td><td>Isacson  </td><td>   </td><td>4/20/10 </td><td>NY</td><td>AL</td><td>No </td><td>1/3/47 </td><td>36.7</td></tr>\n",
       "\t<tr><td> 80</td><td>senate</td><td>L000428</td><td>Russell </td><td>Billiu   </td><td>Long     </td><td>   </td><td>11/3/18 </td><td>LA</td><td>D </td><td>Yes</td><td>1/3/47 </td><td>28.2</td></tr>\n",
       "\t<tr><td> 81</td><td>house </td><td>R000425</td><td>Franklin</td><td>Delano   </td><td>Roosevelt</td><td>Jr.</td><td>8/17/14 </td><td>NY</td><td>L </td><td>No </td><td>1/3/49 </td><td>34.4</td></tr>\n",
       "\t<tr><td> 86</td><td>house </td><td>A000105</td><td>Thomas  </td><td>Dale     </td><td>Alford   </td><td>   </td><td>1/28/16 </td><td>AR</td><td>ID</td><td>No </td><td>1/7/59 </td><td>42.9</td></tr>\n",
       "\t<tr><td> 88</td><td>senate</td><td>M000851</td><td>Walter  </td><td>Frederick</td><td>Mondale  </td><td>   </td><td>1/5/28  </td><td>MN</td><td>I </td><td>No </td><td>1/9/63 </td><td>35.0</td></tr>\n",
       "\t<tr><td> 89</td><td>house </td><td>J000151</td><td>Jed     </td><td>Joseph   </td><td>Johnson  </td><td>Jr.</td><td>12/27/39</td><td>OK</td><td>D </td><td>No </td><td>1/4/65 </td><td>25.0</td></tr>\n",
       "\t<tr><td> 94</td><td>house </td><td>E000175</td><td>David   </td><td>Farnham  </td><td>Emery    </td><td>   </td><td>9/1/48  </td><td>ME</td><td>R </td><td>No </td><td>1/14/75</td><td>26.4</td></tr>\n",
       "\t<tr><td> 97</td><td>senate</td><td>N000102</td><td>Don     </td><td>         </td><td>Nickles  </td><td>   </td><td>12/6/48 </td><td>OK</td><td>R </td><td>No </td><td>1/5/81 </td><td>32.1</td></tr>\n",
       "\t<tr><td>102</td><td>house </td><td>S000033</td><td>Bernard </td><td>         </td><td>Sanders  </td><td>   </td><td>9/8/41  </td><td>VT</td><td>I </td><td>No </td><td>1/3/91 </td><td>49.3</td></tr>\n",
       "\t<tr><td>107</td><td>house </td><td>P000586</td><td>Adam    </td><td>H.       </td><td>Putnam   </td><td>   </td><td>7/31/74 </td><td>FL</td><td>R </td><td>No </td><td>1/3/01 </td><td>26.4</td></tr>\n",
       "\t<tr><td>110</td><td>senate</td><td>L000304</td><td>Joseph  </td><td>I.       </td><td>Lieberman</td><td>   </td><td>2/24/42 </td><td>CT</td><td>ID</td><td>Yes</td><td>1/4/07 </td><td>64.9</td></tr>\n",
       "</tbody>\n",
       "</table>\n"
      ],
      "text/latex": [
       "A grouped_df: 11 × 13\n",
       "\\begin{tabular}{r|lllllllllllll}\n",
       " congress & chamber & bioguide & firstname & middlename & lastname & suffix & birthday & state & party & incumbent & termstart & age\\\\\n",
       " <int> & <fct> & <fct> & <fct> & <fct> & <fct> & <fct> & <fct> & <fct> & <fct> & <fct> & <fct> & <dbl>\\\\\n",
       "\\hline\n",
       "\t  80 & house  & I000046 & Leo      &           & Isacson   &     & 4/20/10  & NY & AL & No  & 1/3/47  & 36.7\\\\\n",
       "\t  80 & senate & L000428 & Russell  & Billiu    & Long      &     & 11/3/18  & LA & D  & Yes & 1/3/47  & 28.2\\\\\n",
       "\t  81 & house  & R000425 & Franklin & Delano    & Roosevelt & Jr. & 8/17/14  & NY & L  & No  & 1/3/49  & 34.4\\\\\n",
       "\t  86 & house  & A000105 & Thomas   & Dale      & Alford    &     & 1/28/16  & AR & ID & No  & 1/7/59  & 42.9\\\\\n",
       "\t  88 & senate & M000851 & Walter   & Frederick & Mondale   &     & 1/5/28   & MN & I  & No  & 1/9/63  & 35.0\\\\\n",
       "\t  89 & house  & J000151 & Jed      & Joseph    & Johnson   & Jr. & 12/27/39 & OK & D  & No  & 1/4/65  & 25.0\\\\\n",
       "\t  94 & house  & E000175 & David    & Farnham   & Emery     &     & 9/1/48   & ME & R  & No  & 1/14/75 & 26.4\\\\\n",
       "\t  97 & senate & N000102 & Don      &           & Nickles   &     & 12/6/48  & OK & R  & No  & 1/5/81  & 32.1\\\\\n",
       "\t 102 & house  & S000033 & Bernard  &           & Sanders   &     & 9/8/41   & VT & I  & No  & 1/3/91  & 49.3\\\\\n",
       "\t 107 & house  & P000586 & Adam     & H.        & Putnam    &     & 7/31/74  & FL & R  & No  & 1/3/01  & 26.4\\\\\n",
       "\t 110 & senate & L000304 & Joseph   & I.        & Lieberman &     & 2/24/42  & CT & ID & Yes & 1/4/07  & 64.9\\\\\n",
       "\\end{tabular}\n"
      ],
      "text/markdown": [
       "\n",
       "A grouped_df: 11 × 13\n",
       "\n",
       "| congress &lt;int&gt; | chamber &lt;fct&gt; | bioguide &lt;fct&gt; | firstname &lt;fct&gt; | middlename &lt;fct&gt; | lastname &lt;fct&gt; | suffix &lt;fct&gt; | birthday &lt;fct&gt; | state &lt;fct&gt; | party &lt;fct&gt; | incumbent &lt;fct&gt; | termstart &lt;fct&gt; | age &lt;dbl&gt; |\n",
       "|---|---|---|---|---|---|---|---|---|---|---|---|---|\n",
       "|  80 | house  | I000046 | Leo      | <!----> | Isacson   | <!----> | 4/20/10  | NY | AL | No  | 1/3/47  | 36.7 |\n",
       "|  80 | senate | L000428 | Russell  | Billiu    | Long      | <!----> | 11/3/18  | LA | D  | Yes | 1/3/47  | 28.2 |\n",
       "|  81 | house  | R000425 | Franklin | Delano    | Roosevelt | Jr. | 8/17/14  | NY | L  | No  | 1/3/49  | 34.4 |\n",
       "|  86 | house  | A000105 | Thomas   | Dale      | Alford    | <!----> | 1/28/16  | AR | ID | No  | 1/7/59  | 42.9 |\n",
       "|  88 | senate | M000851 | Walter   | Frederick | Mondale   | <!----> | 1/5/28   | MN | I  | No  | 1/9/63  | 35.0 |\n",
       "|  89 | house  | J000151 | Jed      | Joseph    | Johnson   | Jr. | 12/27/39 | OK | D  | No  | 1/4/65  | 25.0 |\n",
       "|  94 | house  | E000175 | David    | Farnham   | Emery     | <!----> | 9/1/48   | ME | R  | No  | 1/14/75 | 26.4 |\n",
       "|  97 | senate | N000102 | Don      | <!----> | Nickles   | <!----> | 12/6/48  | OK | R  | No  | 1/5/81  | 32.1 |\n",
       "| 102 | house  | S000033 | Bernard  | <!----> | Sanders   | <!----> | 9/8/41   | VT | I  | No  | 1/3/91  | 49.3 |\n",
       "| 107 | house  | P000586 | Adam     | H.        | Putnam    | <!----> | 7/31/74  | FL | R  | No  | 1/3/01  | 26.4 |\n",
       "| 110 | senate | L000304 | Joseph   | I.        | Lieberman | <!----> | 2/24/42  | CT | ID | Yes | 1/4/07  | 64.9 |\n",
       "\n"
      ],
      "text/plain": [
       "   congress chamber bioguide firstname middlename lastname  suffix birthday\n",
       "1   80      house   I000046  Leo                  Isacson          4/20/10 \n",
       "2   80      senate  L000428  Russell   Billiu     Long             11/3/18 \n",
       "3   81      house   R000425  Franklin  Delano     Roosevelt Jr.    8/17/14 \n",
       "4   86      house   A000105  Thomas    Dale       Alford           1/28/16 \n",
       "5   88      senate  M000851  Walter    Frederick  Mondale          1/5/28  \n",
       "6   89      house   J000151  Jed       Joseph     Johnson   Jr.    12/27/39\n",
       "7   94      house   E000175  David     Farnham    Emery            9/1/48  \n",
       "8   97      senate  N000102  Don                  Nickles          12/6/48 \n",
       "9  102      house   S000033  Bernard              Sanders          9/8/41  \n",
       "10 107      house   P000586  Adam      H.         Putnam           7/31/74 \n",
       "11 110      senate  L000304  Joseph    I.         Lieberman        2/24/42 \n",
       "   state party incumbent termstart age \n",
       "1  NY    AL    No        1/3/47    36.7\n",
       "2  LA    D     Yes       1/3/47    28.2\n",
       "3  NY    L     No        1/3/49    34.4\n",
       "4  AR    ID    No        1/7/59    42.9\n",
       "5  MN    I     No        1/9/63    35.0\n",
       "6  OK    D     No        1/4/65    25.0\n",
       "7  ME    R     No        1/14/75   26.4\n",
       "8  OK    R     No        1/5/81    32.1\n",
       "9  VT    I     No        1/3/91    49.3\n",
       "10 FL    R     No        1/3/01    26.4\n",
       "11 CT    ID    Yes       1/4/07    64.9"
      ]
     },
     "metadata": {},
     "output_type": "display_data"
    }
   ],
   "source": [
    "# Execute your code for question 5 here\n",
    "# -------------------------------------\n",
    "df %>%\n",
    "group_by(chamber, party) %>%\n",
    "top_n(n = 1, wt = -age)"
   ]
  },
  {
   "cell_type": "markdown",
   "metadata": {},
   "source": [
    "**Question 6**: Now, using `dplyr`, create the same frame as above except for the oldest member per chamber, per party."
   ]
  },
  {
   "cell_type": "code",
   "execution_count": 64,
   "metadata": {},
   "outputs": [
    {
     "data": {
      "text/html": [
       "<table>\n",
       "<caption>A grouped_df: 10 × 13</caption>\n",
       "<thead>\n",
       "\t<tr><th scope=col>congress</th><th scope=col>chamber</th><th scope=col>bioguide</th><th scope=col>firstname</th><th scope=col>middlename</th><th scope=col>lastname</th><th scope=col>suffix</th><th scope=col>birthday</th><th scope=col>state</th><th scope=col>party</th><th scope=col>incumbent</th><th scope=col>termstart</th><th scope=col>age</th></tr>\n",
       "\t<tr><th scope=col>&lt;int&gt;</th><th scope=col>&lt;fct&gt;</th><th scope=col>&lt;fct&gt;</th><th scope=col>&lt;fct&gt;</th><th scope=col>&lt;fct&gt;</th><th scope=col>&lt;fct&gt;</th><th scope=col>&lt;fct&gt;</th><th scope=col>&lt;fct&gt;</th><th scope=col>&lt;fct&gt;</th><th scope=col>&lt;fct&gt;</th><th scope=col>&lt;fct&gt;</th><th scope=col>&lt;fct&gt;</th><th scope=col>&lt;dbl&gt;</th></tr>\n",
       "</thead>\n",
       "<tbody>\n",
       "\t<tr><td> 81</td><td>house </td><td>M000122</td><td>Vito    </td><td>Anthony</td><td>Marcantonio</td><td>   </td><td>1902-12-10</td><td>NY</td><td>AL</td><td>Yes</td><td>1/3/49</td><td>46.1</td></tr>\n",
       "\t<tr><td> 81</td><td>house </td><td>R000425</td><td>Franklin</td><td>Delano </td><td>Roosevelt  </td><td>Jr.</td><td>8/17/14   </td><td>NY</td><td>L </td><td>No </td><td>1/3/49</td><td>34.4</td></tr>\n",
       "\t<tr><td> 93</td><td>house </td><td>M000834</td><td>John    </td><td>Joseph </td><td>Moakley    </td><td>   </td><td>4/27/27   </td><td>MA</td><td>ID</td><td>No </td><td>1/3/73</td><td>45.7</td></tr>\n",
       "\t<tr><td>101</td><td>house </td><td>P000218</td><td>Claude  </td><td>Denson </td><td>Pepper     </td><td>   </td><td>1900-09-08</td><td>FL</td><td>D </td><td>Yes</td><td>1/3/89</td><td>88.3</td></tr>\n",
       "\t<tr><td>107</td><td>senate</td><td>T000254</td><td>J.      </td><td>Strom  </td><td>Thurmond   </td><td>   </td><td>1902-12-05</td><td>SC</td><td>R </td><td>Yes</td><td>1/3/01</td><td>98.1</td></tr>\n",
       "\t<tr><td>109</td><td>house </td><td>S000033</td><td>Bernard </td><td>       </td><td>Sanders    </td><td>   </td><td>9/8/41    </td><td>VT</td><td>I </td><td>Yes</td><td>1/4/05</td><td>63.3</td></tr>\n",
       "\t<tr><td>111</td><td>senate</td><td>L000304</td><td>Joseph  </td><td>I.     </td><td>Lieberman  </td><td>   </td><td>2/24/42   </td><td>CT</td><td>ID</td><td>Yes</td><td>1/6/09</td><td>66.9</td></tr>\n",
       "\t<tr><td>111</td><td>senate</td><td>B001210</td><td>Robert  </td><td>C.     </td><td>Byrd       </td><td>   </td><td>11/19/13  </td><td>WV</td><td>D </td><td>Yes</td><td>1/6/09</td><td>95.1</td></tr>\n",
       "\t<tr><td>113</td><td>house </td><td>H000067</td><td>Ralph   </td><td>M.     </td><td>Hall       </td><td>   </td><td>5/3/23    </td><td>TX</td><td>R </td><td>Yes</td><td>1/3/13</td><td>89.7</td></tr>\n",
       "\t<tr><td>113</td><td>senate</td><td>S000033</td><td>Bernard </td><td>       </td><td>Sanders    </td><td>   </td><td>9/8/41    </td><td>VT</td><td>I </td><td>Yes</td><td>1/3/13</td><td>71.3</td></tr>\n",
       "</tbody>\n",
       "</table>\n"
      ],
      "text/latex": [
       "A grouped_df: 10 × 13\n",
       "\\begin{tabular}{r|lllllllllllll}\n",
       " congress & chamber & bioguide & firstname & middlename & lastname & suffix & birthday & state & party & incumbent & termstart & age\\\\\n",
       " <int> & <fct> & <fct> & <fct> & <fct> & <fct> & <fct> & <fct> & <fct> & <fct> & <fct> & <fct> & <dbl>\\\\\n",
       "\\hline\n",
       "\t  81 & house  & M000122 & Vito     & Anthony & Marcantonio &     & 1902-12-10 & NY & AL & Yes & 1/3/49 & 46.1\\\\\n",
       "\t  81 & house  & R000425 & Franklin & Delano  & Roosevelt   & Jr. & 8/17/14    & NY & L  & No  & 1/3/49 & 34.4\\\\\n",
       "\t  93 & house  & M000834 & John     & Joseph  & Moakley     &     & 4/27/27    & MA & ID & No  & 1/3/73 & 45.7\\\\\n",
       "\t 101 & house  & P000218 & Claude   & Denson  & Pepper      &     & 1900-09-08 & FL & D  & Yes & 1/3/89 & 88.3\\\\\n",
       "\t 107 & senate & T000254 & J.       & Strom   & Thurmond    &     & 1902-12-05 & SC & R  & Yes & 1/3/01 & 98.1\\\\\n",
       "\t 109 & house  & S000033 & Bernard  &         & Sanders     &     & 9/8/41     & VT & I  & Yes & 1/4/05 & 63.3\\\\\n",
       "\t 111 & senate & L000304 & Joseph   & I.      & Lieberman   &     & 2/24/42    & CT & ID & Yes & 1/6/09 & 66.9\\\\\n",
       "\t 111 & senate & B001210 & Robert   & C.      & Byrd        &     & 11/19/13   & WV & D  & Yes & 1/6/09 & 95.1\\\\\n",
       "\t 113 & house  & H000067 & Ralph    & M.      & Hall        &     & 5/3/23     & TX & R  & Yes & 1/3/13 & 89.7\\\\\n",
       "\t 113 & senate & S000033 & Bernard  &         & Sanders     &     & 9/8/41     & VT & I  & Yes & 1/3/13 & 71.3\\\\\n",
       "\\end{tabular}\n"
      ],
      "text/markdown": [
       "\n",
       "A grouped_df: 10 × 13\n",
       "\n",
       "| congress &lt;int&gt; | chamber &lt;fct&gt; | bioguide &lt;fct&gt; | firstname &lt;fct&gt; | middlename &lt;fct&gt; | lastname &lt;fct&gt; | suffix &lt;fct&gt; | birthday &lt;fct&gt; | state &lt;fct&gt; | party &lt;fct&gt; | incumbent &lt;fct&gt; | termstart &lt;fct&gt; | age &lt;dbl&gt; |\n",
       "|---|---|---|---|---|---|---|---|---|---|---|---|---|\n",
       "|  81 | house  | M000122 | Vito     | Anthony | Marcantonio | <!----> | 1902-12-10 | NY | AL | Yes | 1/3/49 | 46.1 |\n",
       "|  81 | house  | R000425 | Franklin | Delano  | Roosevelt   | Jr. | 8/17/14    | NY | L  | No  | 1/3/49 | 34.4 |\n",
       "|  93 | house  | M000834 | John     | Joseph  | Moakley     | <!----> | 4/27/27    | MA | ID | No  | 1/3/73 | 45.7 |\n",
       "| 101 | house  | P000218 | Claude   | Denson  | Pepper      | <!----> | 1900-09-08 | FL | D  | Yes | 1/3/89 | 88.3 |\n",
       "| 107 | senate | T000254 | J.       | Strom   | Thurmond    | <!----> | 1902-12-05 | SC | R  | Yes | 1/3/01 | 98.1 |\n",
       "| 109 | house  | S000033 | Bernard  | <!----> | Sanders     | <!----> | 9/8/41     | VT | I  | Yes | 1/4/05 | 63.3 |\n",
       "| 111 | senate | L000304 | Joseph   | I.      | Lieberman   | <!----> | 2/24/42    | CT | ID | Yes | 1/6/09 | 66.9 |\n",
       "| 111 | senate | B001210 | Robert   | C.      | Byrd        | <!----> | 11/19/13   | WV | D  | Yes | 1/6/09 | 95.1 |\n",
       "| 113 | house  | H000067 | Ralph    | M.      | Hall        | <!----> | 5/3/23     | TX | R  | Yes | 1/3/13 | 89.7 |\n",
       "| 113 | senate | S000033 | Bernard  | <!----> | Sanders     | <!----> | 9/8/41     | VT | I  | Yes | 1/3/13 | 71.3 |\n",
       "\n"
      ],
      "text/plain": [
       "   congress chamber bioguide firstname middlename lastname    suffix birthday  \n",
       "1   81      house   M000122  Vito      Anthony    Marcantonio        1902-12-10\n",
       "2   81      house   R000425  Franklin  Delano     Roosevelt   Jr.    8/17/14   \n",
       "3   93      house   M000834  John      Joseph     Moakley            4/27/27   \n",
       "4  101      house   P000218  Claude    Denson     Pepper             1900-09-08\n",
       "5  107      senate  T000254  J.        Strom      Thurmond           1902-12-05\n",
       "6  109      house   S000033  Bernard              Sanders            9/8/41    \n",
       "7  111      senate  L000304  Joseph    I.         Lieberman          2/24/42   \n",
       "8  111      senate  B001210  Robert    C.         Byrd               11/19/13  \n",
       "9  113      house   H000067  Ralph     M.         Hall               5/3/23    \n",
       "10 113      senate  S000033  Bernard              Sanders            9/8/41    \n",
       "   state party incumbent termstart age \n",
       "1  NY    AL    Yes       1/3/49    46.1\n",
       "2  NY    L     No        1/3/49    34.4\n",
       "3  MA    ID    No        1/3/73    45.7\n",
       "4  FL    D     Yes       1/3/89    88.3\n",
       "5  SC    R     Yes       1/3/01    98.1\n",
       "6  VT    I     Yes       1/4/05    63.3\n",
       "7  CT    ID    Yes       1/6/09    66.9\n",
       "8  WV    D     Yes       1/6/09    95.1\n",
       "9  TX    R     Yes       1/3/13    89.7\n",
       "10 VT    I     Yes       1/3/13    71.3"
      ]
     },
     "metadata": {},
     "output_type": "display_data"
    }
   ],
   "source": [
    "# Execute your code for question 6 here\n",
    "# -------------------------------------\n",
    "df %>%\n",
    "group_by(chamber, party) %>%\n",
    "top_n(n = 1, wt = age)"
   ]
  },
  {
   "cell_type": "markdown",
   "metadata": {},
   "source": [
    "# Save your notebook, then `File > Close and Halt`"
   ]
  }
 ],
 "metadata": {
  "kernelspec": {
   "display_name": "R",
   "language": "R",
   "name": "ir"
  },
  "language_info": {
   "codemirror_mode": "r",
   "file_extension": ".r",
   "mimetype": "text/x-r-source",
   "name": "R",
   "pygments_lexer": "r",
   "version": "3.5.1"
  }
 },
 "nbformat": 4,
 "nbformat_minor": 2
}
