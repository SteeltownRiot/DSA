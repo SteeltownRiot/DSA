{
 "cells": [
  {
   "cell_type": "markdown",
   "metadata": {},
   "source": [
    "# Data Science with `Python` Practice\n",
    "\n",
    "This is your first practice notebooks. The purpose of these practices is to reiterate some of the content that you went over in the lab, as well as introduce some new material to you with a bit of a guiding helping along the way. Unlike the labs, these notebooks will be incomplete in the sense that you will actively be editing/writing code to modify/produce output. The skeleton is already here but throughout these practice notebooks, we will be asking you to add the rest of the corpus. In doing so, you will hone your data science techniques as well as learn how to search for solutions to your programming hurdles.\n",
    "\n",
    "Today we will be going over the fundamentals of data science with Python. Much of the content will be similar to your lab, [Introduction to Data Science with Python](../labs/intro_data_science_python.ipynb), and thus it will serve as a good guide post to answering some of the questions. We'll begin today with reading in the data..."
   ]
  },
  {
   "cell_type": "markdown",
   "metadata": {},
   "source": [
    "## Read in Data \n",
    "For this practice we will be using a different baby names dataset.\n",
    "\n",
    "We want to read in the data without using any libraries."
   ]
  },
  {
   "cell_type": "code",
   "execution_count": null,
   "metadata": {},
   "outputs": [],
   "source": [
    "with open('/dsa/data/all_datasets/baby-names/NationalNames2.csv', 'r') as file:\n",
    "    data = file.read()\n",
    "    print(repr(data[0:101]))\n"
   ]
  },
  {
   "cell_type": "markdown",
   "metadata": {},
   "source": [
    "Currently, we are only able to use the indexes to locate specific characters in all of the data; this includes some unwanted characters such as commas and new line characters. In other words, all of the data are stored in a single string which is not very useful.  "
   ]
  },
  {
   "cell_type": "markdown",
   "metadata": {},
   "source": [
    "**Activity 1**: *Read in the file so that it is a list of lists. In other words, I should be able to access each row individually as well as individual values within the row.* "
   ]
  },
  {
   "cell_type": "code",
   "execution_count": null,
   "metadata": {},
   "outputs": [],
   "source": [
    "# Code for activity 1 goes here\n",
    "# -----------------------------\n",
    "\n",
    "with open('/dsa/data/all_datasets/baby-names/NationalNames2.csv', 'r') as file:\n",
    "    data = file.read()\n",
    "\n",
    "    data_lists = data.split(\"\\n\")\n",
    "\n",
    "    list_of_lists = []\n",
    "    for line in data_lists:\n",
    "        row = line.split(',')\n",
    "        list_of_lists.append(row)\n",
    "\n",
    "print(list_of_lists[0:10])"
   ]
  },
  {
   "cell_type": "markdown",
   "metadata": {},
   "source": [
    "To make sure everyone is working with the data loaded the same way, we are going to go ahead and read in the data using the `csv` library. Remembering that there is a lot of data to work with here so we are going to go ahead and subset it."
   ]
  },
  {
   "cell_type": "code",
   "execution_count": null,
   "metadata": {},
   "outputs": [],
   "source": [
    "import csv\n",
    "\n",
    "# create a list of lists with csv library and store the data in a `data_list` variable\n",
    "data_list = list(csv.reader(open('/dsa/data/all_datasets/baby-names/NationalNames2.csv'),  delimiter=','))\n",
    "\n",
    "# create a subset of the entire data set to speed things up\n",
    "subset = data_list[1:301]"
   ]
  },
  {
   "cell_type": "markdown",
   "metadata": {},
   "source": [
    "Take the following scenario:\n",
    "\n",
    "Imagine that we want to find those names in the data set that are not that common. Let's go ahead and classify names that have a `Count` less than 30 as being not that popular. This is almost the bit of code we need to find all of those rows that are less than 30 but we are getting an error.\n",
    "\n",
    "**Activity 2**: *In the second cell below, correct (de-bug) the following code and answer the following questions.*"
   ]
  },
  {
   "cell_type": "code",
   "execution_count": null,
   "metadata": {
    "scrolled": true
   },
   "outputs": [],
   "source": [
    "for row in subset:\n",
    "    if row[4] < 30:\n",
    "        print(row[1])"
   ]
  },
  {
   "cell_type": "markdown",
   "metadata": {},
   "source": [
    "**Questions**:\n",
    "1. What does the following error mean? \n",
    "2. How would you correct it so that the names that have less than 30 people who are named that are `print`ed out? "
   ]
  },
  {
   "cell_type": "code",
   "execution_count": null,
   "metadata": {},
   "outputs": [],
   "source": [
    "# Code for activity 2 goes here\n",
    "# -----------------------------\n",
    "# 1. Answer the question here as a comment\n",
    "# the count column needs to be cast as a int it is currently a str\n",
    "# 2. Below put the corrected code\n",
    "for row in subset:\n",
    "    if int(row[4]) < 30:\n",
    "        print(row[1])\n"
   ]
  },
  {
   "cell_type": "markdown",
   "metadata": {},
   "source": [
    "## Data Manipulation with `pandas`\n",
    "\n",
    "We are going to transition to using `pandas` now. Let's begin by reading in the file..."
   ]
  },
  {
   "cell_type": "code",
   "execution_count": null,
   "metadata": {},
   "outputs": [],
   "source": [
    "import pandas as pd\n",
    "\n",
    "df = pd.read_csv('/dsa/data/all_datasets/baby-names/NationalNames2.csv')"
   ]
  },
  {
   "cell_type": "code",
   "execution_count": null,
   "metadata": {},
   "outputs": [],
   "source": [
    "#displaying the first 10 rows\n",
    "df.head(10)"
   ]
  },
  {
   "cell_type": "markdown",
   "metadata": {},
   "source": [
    "So this looks good, but the `Id` column from the original file is redundant because `pandas` provides our data frame with one already. \n",
    "\n",
    "**Activity 3**: *Remove the `Id` column upon reading in the data.*"
   ]
  },
  {
   "cell_type": "code",
   "execution_count": null,
   "metadata": {},
   "outputs": [],
   "source": [
    "# Code for activity 3 goes here\n",
    "# -----------------------------\n",
    "with open('/dsa/data/all_datasets/baby-names/NationalNames2.csv', 'r') as file:\n",
    "    df = pd.read_csv(file)\n",
    "    df.drop('Id', 1, inplace=True)\n",
    "    \n",
    "df.head()"
   ]
  },
  {
   "cell_type": "markdown",
   "metadata": {},
   "source": [
    "We now want to subset the data frame to only display rows for female names. Remember, here is how we do that in `pandas`. "
   ]
  },
  {
   "cell_type": "code",
   "execution_count": null,
   "metadata": {},
   "outputs": [],
   "source": [
    "females = df[df['Gender'] == 'F']"
   ]
  },
  {
   "cell_type": "markdown",
   "metadata": {},
   "source": [
    "Remember though, we are trying to find names that are not very common.\n",
    "\n",
    "**Activity 4**: *From this subset of female names, return a data frame with those names who have less than 30 for their count. Name this data frame `uncommon_f`.*"
   ]
  },
  {
   "cell_type": "code",
   "execution_count": null,
   "metadata": {},
   "outputs": [],
   "source": [
    "# Code for activity 4 goes here \n",
    "# -----------------------------\n",
    "\n",
    "uncommon_f = females[females['Count'] < 30]\n",
    "\n",
    "uncommon_f.head()\n"
   ]
  },
  {
   "cell_type": "markdown",
   "metadata": {},
   "source": [
    "Now let's do something similar for male names, but this time we should include both uncommon and very common names in our subset.\n",
    "\n",
    "**Activity 5**: *Create a data frame of male names that are less than 30 or greater than or equal to 1000 for their count. Name this data frame `com_uncom_m`.*"
   ]
  },
  {
   "cell_type": "code",
   "execution_count": null,
   "metadata": {},
   "outputs": [],
   "source": [
    "# Code for activity 5 goes here \n",
    "# -----------------------------\n",
    "\n",
    "males = df[df['Gender'] == 'M']\n",
    "com_uncom_m= males[(males['Count'] > 30) | (males['Count']< 1000)]\n",
    "\n",
    "com_uncom_m.head()"
   ]
  },
  {
   "cell_type": "markdown",
   "metadata": {},
   "source": [
    "We are going to go ahead and do some sorting now. Remember this bit of code from the lab exercises where we sorted the rows by `Count`."
   ]
  },
  {
   "cell_type": "code",
   "execution_count": null,
   "metadata": {},
   "outputs": [],
   "source": [
    "df.sort_values(by = ['Count'], ascending = True).head(10)"
   ]
  },
  {
   "cell_type": "markdown",
   "metadata": {},
   "source": [
    "**Activity 6**: *Now sort the data frame, `df`, by `Year` and alphabetically by `Name`.* "
   ]
  },
  {
   "cell_type": "code",
   "execution_count": null,
   "metadata": {},
   "outputs": [],
   "source": [
    "# Code for activity 6 goes here \n",
    "# -----------------------------\n",
    "\n",
    "df.sort_values(by = ['Year','Name'], ascending = True)"
   ]
  },
  {
   "cell_type": "markdown",
   "metadata": {},
   "source": [
    "Below is one way to find the most popular, by absolute value, name of the entire data set. "
   ]
  },
  {
   "cell_type": "code",
   "execution_count": null,
   "metadata": {},
   "outputs": [],
   "source": [
    "df.sort_values(by = ['Count'], ascending = True).tail(1)"
   ]
  },
  {
   "cell_type": "markdown",
   "metadata": {},
   "source": [
    "But what if we were interested in something a bit more specific? Perhaps, the most popular name during a given year.\n",
    "\n",
    "**Activity 7**: *Find the most popular female name in the year 1881.*"
   ]
  },
  {
   "cell_type": "code",
   "execution_count": null,
   "metadata": {},
   "outputs": [],
   "source": [
    "# Code for activity 7 goes here \n",
    "# -----------------------------\n",
    "\n",
    "females[females['Year']==1881].sort_values(by = ['Count'], ascending = False).head(1)\n",
    "\n"
   ]
  },
  {
   "cell_type": "markdown",
   "metadata": {},
   "source": [
    "This final practice exercise is going to be a challenge. Challenge exercises are meant to encourange you to expand on what you have already learned and search for answers that we may have not explicitly gone over. \n",
    "\n",
    "Imagine if we only wanted to find names only starting with a certain letter. \n",
    "\n",
    "**Activity 8**: *Create a subset of names from the data set that start with the letter \"E\". Name this data frame `starts_with_e`.*"
   ]
  },
  {
   "cell_type": "code",
   "execution_count": null,
   "metadata": {},
   "outputs": [],
   "source": [
    "# Code for activity 8 goes here \n",
    "# -----------------------------\n",
    "\n",
    "starts_with_e = df[df['Name'].str.startswith('E')]\n",
    "\n",
    "starts_with_e.head()"
   ]
  },
  {
   "cell_type": "markdown",
   "metadata": {},
   "source": [
    "# Save your notebook, then `File > Close and Halt`"
   ]
  }
 ],
 "metadata": {
  "kernelspec": {
   "display_name": "Python 3",
   "language": "python",
   "name": "python3"
  },
  "language_info": {
   "codemirror_mode": {
    "name": "ipython",
    "version": 3
   },
   "file_extension": ".py",
   "mimetype": "text/x-python",
   "name": "python",
   "nbconvert_exporter": "python",
   "pygments_lexer": "ipython3",
   "version": "3.7.3"
  }
 },
 "nbformat": 4,
 "nbformat_minor": 2
}
