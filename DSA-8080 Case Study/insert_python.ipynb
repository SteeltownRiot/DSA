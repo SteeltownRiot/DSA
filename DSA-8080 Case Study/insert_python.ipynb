{
 "cells": [
  {
   "cell_type": "code",
   "execution_count": 1,
   "metadata": {},
   "outputs": [],
   "source": [
    "# Import dependencies\n",
    "import pandas as pd\n",
    "import multiprocessing\n",
    "import psycopg2\n",
    "import getpass\n",
    "from itertools import chain"
   ]
  },
  {
   "cell_type": "code",
   "execution_count": 2,
   "metadata": {},
   "outputs": [
    {
     "name": "stdout",
     "output_type": "stream",
     "text": [
      "Requirement already satisfied: fast_map in /opt/conda/lib/python3.7/site-packages (0.0.6)\r\n"
     ]
    }
   ],
   "source": [
    "# Pip install fast_map module for concurrent processes\n",
    "!pip install fast_map"
   ]
  },
  {
   "cell_type": "markdown",
   "metadata": {},
   "source": [
    "# Link to fast_map Documentation\n",
    "* https://github.com/michalmonday/fast_map"
   ]
  },
  {
   "cell_type": "code",
   "execution_count": 3,
   "metadata": {},
   "outputs": [],
   "source": [
    "# Import fast-map module. Also, located in the requirements.txt file\n",
    "from fast_map import fast_map"
   ]
  },
  {
   "cell_type": "markdown",
   "metadata": {},
   "source": [
    "# Create Objects for ETL Pipeline\n",
    "\n",
    "---"
   ]
  },
  {
   "cell_type": "code",
   "execution_count": 4,
   "metadata": {},
   "outputs": [],
   "source": [
    "# Create Credential functions\n",
    "class PostSQL(object):\n",
    "    \"\"\"\n",
    "    Build out Postgres credentials.\n",
    "    \"\"\"\n",
    "    def create_connection(user:str, pw:str):\n",
    "        \"\"\"\n",
    "        | Function to create connection to Postgres.\n",
    "        \n",
    "        Arguments:\n",
    "        :param: user: Username for database.\n",
    "        :param: pw: Password for database.\n",
    "            \n",
    "        returns: Connection.\n",
    "        \"\"\"\n",
    "        return psycopg2.connect(database=\"casestdysu22t04\",\n",
    "                                host=\"pgsql.dsa.lan\",\n",
    "                                user=user, \n",
    "                                password=pw)"
   ]
  },
  {
   "cell_type": "code",
   "execution_count": 5,
   "metadata": {},
   "outputs": [],
   "source": [
    "# Create Object for insert\n",
    "class PostInsert(object):\n",
    "    \"\"\"\n",
    "    Object to insert data into Postgres Tables.\n",
    "    \"\"\"\n",
    "    @staticmethod\n",
    "    def clean_data(data:dict) -> list:\n",
    "        \"\"\"\n",
    "        | Function to help clean up data through the ETL pipeline.\n",
    "        \n",
    "        Converts a Pandas DataFrame into a list of tuples.\n",
    "        \n",
    "        returns: A list.\n",
    "        \"\"\"\n",
    "        \n",
    "        # Convert NANs to None\n",
    "        data = data.where(pd.notnull(data),None)\n",
    "        \n",
    "        # Convert data into list of tuples for data insert\n",
    "        return list(data.itertuples(name=None, index=False))\n",
    "    \n",
    "    def insert_data(parameters:None):\n",
    "        \"\"\"\n",
    "        | Function to insert data into Postgres.\n",
    "        \n",
    "        Arguments:\n",
    "        :param 0: data: Data to be inserted into tables.\n",
    "        :param 1: insert_sql: Insert statement for tables.\n",
    "        :param 2: start_position: Starting position for DataFrame.\n",
    "        :param 3: batch_size: Integer value to increment data loads.\n",
    "        :param 4: user: Username.\n",
    "        :param 5: pw: Password to database.\n",
    "        \"\"\"\n",
    "        # Increment data\n",
    "        data = parameters[0][parameters[2]:parameters[2]+parameters[3]]\n",
    "        \n",
    "        # Create connection\n",
    "        connection = PostSQL.create_connection(parameters[4], parameters[5])\n",
    "        cursor = connection.cursor()\n",
    "        \n",
    "        # Clean up data\n",
    "        data_list = PostInsert.clean_data(data)\n",
    "        \n",
    "        # Execute Insert SQL\n",
    "        cursor.executemany(parameters[1], data_list)\n",
    "        connection.commit()\n",
    "        \n",
    "        # Close Connection\n",
    "        if(connection):\n",
    "            cursor.close()\n",
    "            connection.close()\n",
    "            print(\"PostgreSQL connection is closed\")\n",
    "            \n",
    "        return \"Insert complete.\"\n",
    "\n",
    "    # ----------- Start of Fast-Map ----------------------------\n",
    "    def fast_insert_data(data, insert_sql, batch_size, user, pw):\n",
    "        \"\"\"\n",
    "        | Function to fast-map insert data into Postgres.\n",
    "        \n",
    "        Arguments:\n",
    "        :param: data: Data to be inserted into tables.\n",
    "        :param: insert_sql: Insert statement for tables.\n",
    "        :param: batch_size: Integer value to increment data loads.\n",
    "        :param: user: Username.\n",
    "        :param: pw: Password to database.\n",
    "        \"\"\"\n",
    "        # Get lenght of data to create batching parameters\n",
    "        data_length = len(data)\n",
    "        \n",
    "        print(f\"Length of Data: {data_length}\")\n",
    "        \n",
    "        number_of_skips = range(0, data_length, batch_size)\n",
    "        \n",
    "        # Default to 10 threads to prevent any throttling\n",
    "        [i for i in fast_map(PostInsert.insert_data, [(data, insert_sql, skip_n, batch_size, user, pw) \n",
    "                                                      for skip_n in number_of_skips], threads_limit=25)]"
   ]
  },
  {
   "cell_type": "code",
   "execution_count": 6,
   "metadata": {},
   "outputs": [],
   "source": [
    "# Create object to drop columns from tables\n",
    "class PostDrop(object):\n",
    "    \"\"\"\n",
    "    Object to Alter tables in Postgres to drop column(s).\n",
    "    \"\"\"\n",
    "    @staticmethod\n",
    "    def create_drop_sql(table_name:str, more_fields:bool, *field_name:str):\n",
    "        \"\"\"\n",
    "        | Function to create a Drop Column SQL.\n",
    "        \n",
    "        Arguments:\n",
    "        :param: table_name: Table Name.\n",
    "        :param: more_fields: Boolean value to indicate if there's more fields to drop.\n",
    "        :param: *field_names: Fields to drop from the table.\n",
    "        \n",
    "        returns: SQL statement.\n",
    "        \"\"\"\n",
    "        \n",
    "        if more_fields == False:\n",
    "\n",
    "            sql = f\"\"\"\n",
    "                ALTER TABLE {table_name}\n",
    "                DROP COLUMN IF EXISTS {field_name[0]}; \n",
    "                \"\"\"\n",
    "        else:\n",
    "            # Create field list\n",
    "            field_list = [*field_name]\n",
    "            \n",
    "            sql = f\"\"\"\n",
    "                    ALTER TABLE {table_name}\n",
    "                   \"\"\"\n",
    "            for f in field_list:\n",
    "                sql += f\" DROP COLUMN IF EXISTS {f},\"\n",
    "\n",
    "            # Remove last comma and replace with semicolon\n",
    "            sql = sql.rstrip(sql[-1]) + \";\"\n",
    "            \n",
    "        return sql\n",
    "    \n",
    "    @staticmethod\n",
    "    def drop_table_sql(table_name:str):\n",
    "        \"\"\"\n",
    "        | Function to create Drop Table SQL.\n",
    "        \n",
    "        Arguments:\n",
    "        :param: table_name: Table Name.\n",
    "        \n",
    "        returns: SQL statement.\n",
    "        \"\"\"\n",
    "        \n",
    "        return f\"\"\"\n",
    "        DROP TABLE IF EXISTS {table_name};\n",
    "        \"\"\"\n",
    "    \n",
    "    @staticmethod\n",
    "    def drop_execution(user:str, pw:str, sql:str) -> None:\n",
    "        \"\"\"\n",
    "        | Function to Drop Tables.\n",
    "        \n",
    "        Arguments:\n",
    "        :param: user: Username for database.\n",
    "        :param: pw: Password for database.\n",
    "        :param: sql: SQL statement.\n",
    "        \n",
    "        returns: None.\n",
    "        \"\"\"   \n",
    "        # Create connection\n",
    "        connection = PostSQL.create_connection(user, pw)\n",
    "        cursor = connection.cursor()\n",
    "        \n",
    "        # Execute Drop SQL\n",
    "        cursor.execute(sql)\n",
    "        connection.commit()\n",
    "        \n",
    "        # Close Connection\n",
    "        if(connection):\n",
    "            cursor.close()\n",
    "            connection.close()\n",
    "            print(\"PostgreSQL connection is closed\")\n",
    "            \n",
    "        del user, pw\n",
    "            \n",
    "        return \"Drop sequence complete.\"\n",
    "\n",
    "        "
   ]
  },
  {
   "cell_type": "markdown",
   "metadata": {},
   "source": [
    "# Deprecate frax_signatures & frax_blocks\n",
    "---"
   ]
  },
  {
   "cell_type": "code",
   "execution_count": 7,
   "metadata": {},
   "outputs": [],
   "source": [
    "# Create drop signature and block table sqls\n",
    "drop_signature = PostDrop.drop_table_sql(\"frax_signatures\")\n",
    "\n",
    "# drop_blocks = PostDrop.drop_table_sql(\"frax_blocks\")\n",
    "drop_blocks = PostDrop.drop_table_sql(\"frax_blocks\")"
   ]
  },
  {
   "cell_type": "code",
   "execution_count": 8,
   "metadata": {},
   "outputs": [
    {
     "name": "stdout",
     "output_type": "stream",
     "text": [
      "\n",
      "        DROP TABLE IF EXISTS frax_signatures;\n",
      "        \n",
      "\n",
      "        DROP TABLE IF EXISTS frax_blocks;\n",
      "        \n"
     ]
    }
   ],
   "source": [
    "# Check SQLs\n",
    "print(drop_signature)\n",
    "print(drop_blocks)"
   ]
  },
  {
   "cell_type": "code",
   "execution_count": 9,
   "metadata": {},
   "outputs": [],
   "source": [
    "# Create drop field\n",
    "drop_abi = PostDrop.create_drop_sql(\"public.frax_contracts\",False, \"abi\")"
   ]
  },
  {
   "cell_type": "code",
   "execution_count": 10,
   "metadata": {},
   "outputs": [
    {
     "name": "stdout",
     "output_type": "stream",
     "text": [
      "\n",
      "                ALTER TABLE public.frax_contracts\n",
      "                DROP COLUMN IF EXISTS abi; \n",
      "                \n"
     ]
    }
   ],
   "source": [
    "print(drop_abi)"
   ]
  },
  {
   "cell_type": "code",
   "execution_count": 11,
   "metadata": {},
   "outputs": [
    {
     "name": "stdout",
     "output_type": "stream",
     "text": [
      "········\n"
     ]
    }
   ],
   "source": [
    "# Get password\n",
    "pw = getpass.getpass()"
   ]
  },
  {
   "cell_type": "code",
   "execution_count": 12,
   "metadata": {},
   "outputs": [
    {
     "name": "stdout",
     "output_type": "stream",
     "text": [
      "PostgreSQL connection is closed\n"
     ]
    },
    {
     "data": {
      "text/plain": [
       "'Drop sequence complete.'"
      ]
     },
     "execution_count": 12,
     "metadata": {},
     "output_type": "execute_result"
    }
   ],
   "source": [
    "# Drop Tables\n",
    "PostDrop.drop_execution(\"jsyp4f\", pw, drop_signature)"
   ]
  },
  {
   "cell_type": "code",
   "execution_count": 13,
   "metadata": {},
   "outputs": [
    {
     "name": "stdout",
     "output_type": "stream",
     "text": [
      "PostgreSQL connection is closed\n"
     ]
    },
    {
     "data": {
      "text/plain": [
       "'Drop sequence complete.'"
      ]
     },
     "execution_count": 13,
     "metadata": {},
     "output_type": "execute_result"
    }
   ],
   "source": [
    "PostDrop.drop_execution(\"jsyp4f\", pw, drop_blocks)"
   ]
  },
  {
   "cell_type": "code",
   "execution_count": 14,
   "metadata": {},
   "outputs": [
    {
     "name": "stdout",
     "output_type": "stream",
     "text": [
      "PostgreSQL connection is closed\n"
     ]
    },
    {
     "data": {
      "text/plain": [
       "'Drop sequence complete.'"
      ]
     },
     "execution_count": 14,
     "metadata": {},
     "output_type": "execute_result"
    }
   ],
   "source": [
    "PostDrop.drop_execution(\"jsyp4f\", pw, drop_abi)"
   ]
  },
  {
   "cell_type": "markdown",
   "metadata": {},
   "source": [
    "# Load and Order data\n",
    "---\n",
    "\n",
    "## Contract Data"
   ]
  },
  {
   "cell_type": "code",
   "execution_count": 15,
   "metadata": {},
   "outputs": [
    {
     "data": {
      "text/html": [
       "<div>\n",
       "<style scoped>\n",
       "    .dataframe tbody tr th:only-of-type {\n",
       "        vertical-align: middle;\n",
       "    }\n",
       "\n",
       "    .dataframe tbody tr th {\n",
       "        vertical-align: top;\n",
       "    }\n",
       "\n",
       "    .dataframe thead th {\n",
       "        text-align: right;\n",
       "    }\n",
       "</style>\n",
       "<table border=\"1\" class=\"dataframe\">\n",
       "  <thead>\n",
       "    <tr style=\"text-align: right;\">\n",
       "      <th></th>\n",
       "      <th>namespace</th>\n",
       "      <th>name</th>\n",
       "      <th>abi</th>\n",
       "      <th>address</th>\n",
       "      <th>code</th>\n",
       "      <th>base</th>\n",
       "      <th>dynamic</th>\n",
       "      <th>updated_at</th>\n",
       "      <th>created_at</th>\n",
       "      <th>id</th>\n",
       "      <th>factory</th>\n",
       "    </tr>\n",
       "  </thead>\n",
       "  <tbody>\n",
       "    <tr>\n",
       "      <th>0</th>\n",
       "      <td>frax</td>\n",
       "      <td>FRAXStablecoin</td>\n",
       "      <td>{\"inputs\":[{\"internalType\":\"string\",\"name\":\"_n...</td>\n",
       "      <td>\\x853d955acef822db058eb8505911ed77f175b99e</td>\n",
       "      <td>\\x608060405234801561001057600080fd5b5060043610...</td>\n",
       "      <td>True</td>\n",
       "      <td>False</td>\n",
       "      <td>44299.475</td>\n",
       "      <td>44299.475</td>\n",
       "      <td>1673</td>\n",
       "      <td>NaN</td>\n",
       "    </tr>\n",
       "  </tbody>\n",
       "</table>\n",
       "</div>"
      ],
      "text/plain": [
       "  namespace            name  \\\n",
       "0      frax  FRAXStablecoin   \n",
       "\n",
       "                                                 abi  \\\n",
       "0  {\"inputs\":[{\"internalType\":\"string\",\"name\":\"_n...   \n",
       "\n",
       "                                      address  \\\n",
       "0  \\x853d955acef822db058eb8505911ed77f175b99e   \n",
       "\n",
       "                                                code  base  dynamic  \\\n",
       "0  \\x608060405234801561001057600080fd5b5060043610...  True    False   \n",
       "\n",
       "   updated_at  created_at    id  factory  \n",
       "0   44299.475   44299.475  1673      NaN  "
      ]
     },
     "execution_count": 15,
     "metadata": {},
     "output_type": "execute_result"
    }
   ],
   "source": [
    "# Load contracts data\n",
    "contracts_df = pd.read_csv('data/frax-ethereum-contracts.csv')\n",
    "\n",
    "# Check data\n",
    "contracts_df.head()"
   ]
  },
  {
   "cell_type": "code",
   "execution_count": 16,
   "metadata": {},
   "outputs": [
    {
     "data": {
      "text/plain": [
       "29790"
      ]
     },
     "execution_count": 16,
     "metadata": {},
     "output_type": "execute_result"
    }
   ],
   "source": [
    "len(contracts_df['code'][0])"
   ]
  },
  {
   "cell_type": "code",
   "execution_count": 17,
   "metadata": {},
   "outputs": [],
   "source": [
    "# Order columns\n",
    "con_order = [\"address\",\"base\",\"code\",\"created_at\",\"dynamic\",\"factory\",\n",
    "             \"id\",\"name\",\"namespace\",\"updated_at\"]\n",
    "\n",
    "# Order columns for data insert\n",
    "contracts_df = contracts_df[con_order]\n",
    "\n",
    "# Convert to string\n",
    "contracts_df[[\"address\",\"code\"]] = contracts_df[[\"address\",\"code\"]].astype(str)\n",
    "contracts_df.updated_at = pd.to_datetime(contracts_df.updated_at, unit='s')\n",
    "contracts_df.created_at = pd.to_datetime(contracts_df.created_at, unit='s')"
   ]
  },
  {
   "cell_type": "code",
   "execution_count": 18,
   "metadata": {},
   "outputs": [],
   "source": [
    "# Read insert sql\n",
    "contract_insert = open('insert_sql/contracts_insert.sql','r').read()"
   ]
  },
  {
   "cell_type": "code",
   "execution_count": 19,
   "metadata": {},
   "outputs": [],
   "source": [
    "# Insert Data\n",
    "# PostInsert.fast_insert_data(contracts_df, contract_insert, 50000, \"jsyp4f\", pw) # Disabled due to being loaded"
   ]
  },
  {
   "cell_type": "markdown",
   "metadata": {},
   "source": [
    "\n",
    "## Log Data\n",
    "---"
   ]
  },
  {
   "cell_type": "code",
   "execution_count": 22,
   "metadata": {},
   "outputs": [],
   "source": [
    "# Load Logs Data --> Rerun if memory issues occur\n",
    "logs_df = pd.read_csv('data/frax-ethereum-logs.csv')"
   ]
  },
  {
   "cell_type": "code",
   "execution_count": 23,
   "metadata": {},
   "outputs": [
    {
     "data": {
      "text/html": [
       "<div>\n",
       "<style scoped>\n",
       "    .dataframe tbody tr th:only-of-type {\n",
       "        vertical-align: middle;\n",
       "    }\n",
       "\n",
       "    .dataframe tbody tr th {\n",
       "        vertical-align: top;\n",
       "    }\n",
       "\n",
       "    .dataframe thead th {\n",
       "        text-align: right;\n",
       "    }\n",
       "</style>\n",
       "<table border=\"1\" class=\"dataframe\">\n",
       "  <thead>\n",
       "    <tr style=\"text-align: right;\">\n",
       "      <th></th>\n",
       "      <th>contract_address</th>\n",
       "      <th>topic1</th>\n",
       "      <th>topic2</th>\n",
       "      <th>topic3</th>\n",
       "      <th>topic4</th>\n",
       "      <th>data</th>\n",
       "      <th>tx_hash</th>\n",
       "      <th>block_hash</th>\n",
       "      <th>block_number</th>\n",
       "      <th>block_time</th>\n",
       "      <th>index</th>\n",
       "      <th>tx_index</th>\n",
       "    </tr>\n",
       "  </thead>\n",
       "  <tbody>\n",
       "    <tr>\n",
       "      <th>0</th>\n",
       "      <td>\\x853d955acef822db058eb8505911ed77f175b99e</td>\n",
       "      <td>\\x2f8788117e7eff1d82e926ec794901d17c78024a5027...</td>\n",
       "      <td>\\x00000000000000000000000000000000000000000000...</td>\n",
       "      <td>\\x000000000000000000000000a448833bece66fd8803a...</td>\n",
       "      <td>\\x000000000000000000000000a448833bece66fd8803a...</td>\n",
       "      <td>NaN</td>\n",
       "      <td>\\x1c3339f6e08324aea59d21f2bb68f184f5a5fd1da760...</td>\n",
       "      <td>\\x8701fa59631d4b073ef8944275e2a74af7376a5b6461...</td>\n",
       "      <td>11465581</td>\n",
       "      <td>2020-12-16T17:42:00+00:00</td>\n",
       "      <td>43</td>\n",
       "      <td>28</td>\n",
       "    </tr>\n",
       "    <tr>\n",
       "      <th>1</th>\n",
       "      <td>\\x853d955acef822db058eb8505911ed77f175b99e</td>\n",
       "      <td>\\xddf252ad1be2c89b69c2b068fc378daa952ba7f163c4...</td>\n",
       "      <td>\\x00000000000000000000000000000000000000000000...</td>\n",
       "      <td>\\x000000000000000000000000234d953a9404bf9dbc3b...</td>\n",
       "      <td>NaN</td>\n",
       "      <td>\\x00000000000000000000000000000000000000000001...</td>\n",
       "      <td>\\x1c3339f6e08324aea59d21f2bb68f184f5a5fd1da760...</td>\n",
       "      <td>\\x8701fa59631d4b073ef8944275e2a74af7376a5b6461...</td>\n",
       "      <td>11465581</td>\n",
       "      <td>2020-12-16T17:42:00+00:00</td>\n",
       "      <td>44</td>\n",
       "      <td>28</td>\n",
       "    </tr>\n",
       "    <tr>\n",
       "      <th>2</th>\n",
       "      <td>\\x853d955acef822db058eb8505911ed77f175b99e</td>\n",
       "      <td>\\x2f8788117e7eff1d82e926ec794901d17c78024a5027...</td>\n",
       "      <td>\\xb25402418ad555013210365a422f9f1206b2dd007199...</td>\n",
       "      <td>\\x000000000000000000000000234d953a9404bf9dbc3b...</td>\n",
       "      <td>\\x000000000000000000000000a448833bece66fd8803a...</td>\n",
       "      <td>NaN</td>\n",
       "      <td>\\x1c3339f6e08324aea59d21f2bb68f184f5a5fd1da760...</td>\n",
       "      <td>\\x8701fa59631d4b073ef8944275e2a74af7376a5b6461...</td>\n",
       "      <td>11465581</td>\n",
       "      <td>2020-12-16T17:42:00+00:00</td>\n",
       "      <td>45</td>\n",
       "      <td>28</td>\n",
       "    </tr>\n",
       "    <tr>\n",
       "      <th>3</th>\n",
       "      <td>\\x853d955acef822db058eb8505911ed77f175b99e</td>\n",
       "      <td>\\x2f8788117e7eff1d82e926ec794901d17c78024a5027...</td>\n",
       "      <td>\\xb25402418ad555013210365a422f9f1206b2dd007199...</td>\n",
       "      <td>\\x0000000000000000000000008412ebf45bac1b340bbe...</td>\n",
       "      <td>\\x000000000000000000000000a448833bece66fd8803a...</td>\n",
       "      <td>NaN</td>\n",
       "      <td>\\x1c3339f6e08324aea59d21f2bb68f184f5a5fd1da760...</td>\n",
       "      <td>\\x8701fa59631d4b073ef8944275e2a74af7376a5b6461...</td>\n",
       "      <td>11465581</td>\n",
       "      <td>2020-12-16T17:42:00+00:00</td>\n",
       "      <td>46</td>\n",
       "      <td>28</td>\n",
       "    </tr>\n",
       "    <tr>\n",
       "      <th>4</th>\n",
       "      <td>\\x853d955acef822db058eb8505911ed77f175b99e</td>\n",
       "      <td>\\x8c5be1e5ebec7d5bd14f71427d1e84f3dd0314c0f7b2...</td>\n",
       "      <td>\\x000000000000000000000000234d953a9404bf9dbc3b...</td>\n",
       "      <td>\\x0000000000000000000000007a250d5630b4cf539739...</td>\n",
       "      <td>NaN</td>\n",
       "      <td>\\x00000000000000000000000000000000000000000000...</td>\n",
       "      <td>\\x5a1f723189fc09bcd770516bc3b6603ea81ba7ca1d3d...</td>\n",
       "      <td>\\xc53061bd8c81a3560d5f0b418c51740a466baaa8b5a2...</td>\n",
       "      <td>11465745</td>\n",
       "      <td>2020-12-16T18:16:51+00:00</td>\n",
       "      <td>10</td>\n",
       "      <td>47</td>\n",
       "    </tr>\n",
       "  </tbody>\n",
       "</table>\n",
       "</div>"
      ],
      "text/plain": [
       "                             contract_address  \\\n",
       "0  \\x853d955acef822db058eb8505911ed77f175b99e   \n",
       "1  \\x853d955acef822db058eb8505911ed77f175b99e   \n",
       "2  \\x853d955acef822db058eb8505911ed77f175b99e   \n",
       "3  \\x853d955acef822db058eb8505911ed77f175b99e   \n",
       "4  \\x853d955acef822db058eb8505911ed77f175b99e   \n",
       "\n",
       "                                              topic1  \\\n",
       "0  \\x2f8788117e7eff1d82e926ec794901d17c78024a5027...   \n",
       "1  \\xddf252ad1be2c89b69c2b068fc378daa952ba7f163c4...   \n",
       "2  \\x2f8788117e7eff1d82e926ec794901d17c78024a5027...   \n",
       "3  \\x2f8788117e7eff1d82e926ec794901d17c78024a5027...   \n",
       "4  \\x8c5be1e5ebec7d5bd14f71427d1e84f3dd0314c0f7b2...   \n",
       "\n",
       "                                              topic2  \\\n",
       "0  \\x00000000000000000000000000000000000000000000...   \n",
       "1  \\x00000000000000000000000000000000000000000000...   \n",
       "2  \\xb25402418ad555013210365a422f9f1206b2dd007199...   \n",
       "3  \\xb25402418ad555013210365a422f9f1206b2dd007199...   \n",
       "4  \\x000000000000000000000000234d953a9404bf9dbc3b...   \n",
       "\n",
       "                                              topic3  \\\n",
       "0  \\x000000000000000000000000a448833bece66fd8803a...   \n",
       "1  \\x000000000000000000000000234d953a9404bf9dbc3b...   \n",
       "2  \\x000000000000000000000000234d953a9404bf9dbc3b...   \n",
       "3  \\x0000000000000000000000008412ebf45bac1b340bbe...   \n",
       "4  \\x0000000000000000000000007a250d5630b4cf539739...   \n",
       "\n",
       "                                              topic4  \\\n",
       "0  \\x000000000000000000000000a448833bece66fd8803a...   \n",
       "1                                                NaN   \n",
       "2  \\x000000000000000000000000a448833bece66fd8803a...   \n",
       "3  \\x000000000000000000000000a448833bece66fd8803a...   \n",
       "4                                                NaN   \n",
       "\n",
       "                                                data  \\\n",
       "0                                                NaN   \n",
       "1  \\x00000000000000000000000000000000000000000001...   \n",
       "2                                                NaN   \n",
       "3                                                NaN   \n",
       "4  \\x00000000000000000000000000000000000000000000...   \n",
       "\n",
       "                                             tx_hash  \\\n",
       "0  \\x1c3339f6e08324aea59d21f2bb68f184f5a5fd1da760...   \n",
       "1  \\x1c3339f6e08324aea59d21f2bb68f184f5a5fd1da760...   \n",
       "2  \\x1c3339f6e08324aea59d21f2bb68f184f5a5fd1da760...   \n",
       "3  \\x1c3339f6e08324aea59d21f2bb68f184f5a5fd1da760...   \n",
       "4  \\x5a1f723189fc09bcd770516bc3b6603ea81ba7ca1d3d...   \n",
       "\n",
       "                                          block_hash  block_number  \\\n",
       "0  \\x8701fa59631d4b073ef8944275e2a74af7376a5b6461...      11465581   \n",
       "1  \\x8701fa59631d4b073ef8944275e2a74af7376a5b6461...      11465581   \n",
       "2  \\x8701fa59631d4b073ef8944275e2a74af7376a5b6461...      11465581   \n",
       "3  \\x8701fa59631d4b073ef8944275e2a74af7376a5b6461...      11465581   \n",
       "4  \\xc53061bd8c81a3560d5f0b418c51740a466baaa8b5a2...      11465745   \n",
       "\n",
       "                  block_time  index  tx_index  \n",
       "0  2020-12-16T17:42:00+00:00     43        28  \n",
       "1  2020-12-16T17:42:00+00:00     44        28  \n",
       "2  2020-12-16T17:42:00+00:00     45        28  \n",
       "3  2020-12-16T17:42:00+00:00     46        28  \n",
       "4  2020-12-16T18:16:51+00:00     10        47  "
      ]
     },
     "execution_count": 23,
     "metadata": {},
     "output_type": "execute_result"
    }
   ],
   "source": [
    "# Check Log Data\n",
    "logs_df.head()"
   ]
  },
  {
   "cell_type": "code",
   "execution_count": 24,
   "metadata": {},
   "outputs": [],
   "source": [
    "# Order columns\n",
    "log_order = [\"block_hash\",\"block_time\",\"contract_address\",\"data\",\"index\",\"topic1\" \n",
    "            ,\"topic2\",\"topic3\",\"topic4\",\"tx_hash\",\"tx_index\"]\n",
    "\n",
    "logs_df = logs_df[log_order]"
   ]
  },
  {
   "cell_type": "code",
   "execution_count": 25,
   "metadata": {},
   "outputs": [],
   "source": [
    "# Update columns to string type\n",
    "logs_string = [\"block_hash\",\"contract_address\",\"data\",\"topic1\" ,\"topic2\",\"topic3\",\"topic4\",\"tx_hash\"]\n",
    "\n",
    "logs_df[logs_string] = logs_df[logs_string].astype(str)"
   ]
  },
  {
   "cell_type": "code",
   "execution_count": 26,
   "metadata": {},
   "outputs": [],
   "source": [
    "# Read in logs insert SQL\n",
    "logs_sql = open('insert_sql/logs_insert.sql','r').read()"
   ]
  },
  {
   "cell_type": "code",
   "execution_count": 28,
   "metadata": {},
   "outputs": [],
   "source": [
    "# Insert logs data -- Ran into issues where block hash is not unique.\n",
    "# PostInsert.fast_insert_data(logs_df, logs_sql, 50000, \"jsyp4f\", pw) # Diabled for schema update"
   ]
  },
  {
   "cell_type": "markdown",
   "metadata": {},
   "source": [
    "## Traces Data\n",
    "---\n",
    "\n",
    "### Sprint 3 Update Schema to Match Data Pulled"
   ]
  },
  {
   "cell_type": "code",
   "execution_count": 30,
   "metadata": {},
   "outputs": [],
   "source": [
    "# Reading in seperately due to size\n",
    "traces_v1_df = pd.read_csv('data/frax-ethereum-traces.csv')"
   ]
  },
  {
   "cell_type": "code",
   "execution_count": 31,
   "metadata": {},
   "outputs": [],
   "source": [
    "traces_v2_df = pd.read_csv('data/frax-ethereum-traces-v2.csv')"
   ]
  },
  {
   "cell_type": "code",
   "execution_count": 32,
   "metadata": {},
   "outputs": [
    {
     "data": {
      "text/html": [
       "<div>\n",
       "<style scoped>\n",
       "    .dataframe tbody tr th:only-of-type {\n",
       "        vertical-align: middle;\n",
       "    }\n",
       "\n",
       "    .dataframe tbody tr th {\n",
       "        vertical-align: top;\n",
       "    }\n",
       "\n",
       "    .dataframe thead th {\n",
       "        text-align: right;\n",
       "    }\n",
       "</style>\n",
       "<table border=\"1\" class=\"dataframe\">\n",
       "  <thead>\n",
       "    <tr style=\"text-align: right;\">\n",
       "      <th></th>\n",
       "      <th>block_time</th>\n",
       "      <th>sub_traces</th>\n",
       "      <th>tx_success</th>\n",
       "      <th>success</th>\n",
       "      <th>block_hash</th>\n",
       "      <th>block_number</th>\n",
       "      <th>tx_hash</th>\n",
       "      <th>from</th>\n",
       "      <th>value</th>\n",
       "      <th>gas</th>\n",
       "      <th>gas_used</th>\n",
       "      <th>tx_index</th>\n",
       "      <th>type</th>\n",
       "      <th>call_type</th>\n",
       "      <th>input</th>\n",
       "      <th>output</th>\n",
       "      <th>to</th>\n",
       "      <th>error</th>\n",
       "    </tr>\n",
       "  </thead>\n",
       "  <tbody>\n",
       "    <tr>\n",
       "      <th>0</th>\n",
       "      <td>2022-04-24T04:45:16+00:00</td>\n",
       "      <td>0</td>\n",
       "      <td>True</td>\n",
       "      <td>True</td>\n",
       "      <td>\\x04047a735db304c3b3190e7c3701a9d1e66896b10d52...</td>\n",
       "      <td>14645412</td>\n",
       "      <td>\\x7b09f8e76cd803990133351b9d7863804babb5dff2c4...</td>\n",
       "      <td>\\x5b81da82ecf1b7abd880f9e989aac32ddcebe165</td>\n",
       "      <td>0</td>\n",
       "      <td>34068</td>\n",
       "      <td>24733.0</td>\n",
       "      <td>191</td>\n",
       "      <td>call</td>\n",
       "      <td>call</td>\n",
       "      <td>\\x095ea7b3000000000000000000000000d9e1ce17f264...</td>\n",
       "      <td>\\x00000000000000000000000000000000000000000000...</td>\n",
       "      <td>\\x853d955acef822db058eb8505911ed77f175b99e</td>\n",
       "      <td>NaN</td>\n",
       "    </tr>\n",
       "  </tbody>\n",
       "</table>\n",
       "</div>"
      ],
      "text/plain": [
       "                  block_time  sub_traces  tx_success  success  \\\n",
       "0  2022-04-24T04:45:16+00:00           0        True     True   \n",
       "\n",
       "                                          block_hash  block_number  \\\n",
       "0  \\x04047a735db304c3b3190e7c3701a9d1e66896b10d52...      14645412   \n",
       "\n",
       "                                             tx_hash  \\\n",
       "0  \\x7b09f8e76cd803990133351b9d7863804babb5dff2c4...   \n",
       "\n",
       "                                         from  value    gas  gas_used  \\\n",
       "0  \\x5b81da82ecf1b7abd880f9e989aac32ddcebe165      0  34068   24733.0   \n",
       "\n",
       "   tx_index  type call_type  \\\n",
       "0       191  call      call   \n",
       "\n",
       "                                               input  \\\n",
       "0  \\x095ea7b3000000000000000000000000d9e1ce17f264...   \n",
       "\n",
       "                                              output  \\\n",
       "0  \\x00000000000000000000000000000000000000000000...   \n",
       "\n",
       "                                           to error  \n",
       "0  \\x853d955acef822db058eb8505911ed77f175b99e   NaN  "
      ]
     },
     "execution_count": 32,
     "metadata": {},
     "output_type": "execute_result"
    }
   ],
   "source": [
    "# V1 Traces\n",
    "traces_v1_df.head(1)"
   ]
  },
  {
   "cell_type": "code",
   "execution_count": 33,
   "metadata": {},
   "outputs": [
    {
     "data": {
      "text/html": [
       "<div>\n",
       "<style scoped>\n",
       "    .dataframe tbody tr th:only-of-type {\n",
       "        vertical-align: middle;\n",
       "    }\n",
       "\n",
       "    .dataframe tbody tr th {\n",
       "        vertical-align: top;\n",
       "    }\n",
       "\n",
       "    .dataframe thead th {\n",
       "        text-align: right;\n",
       "    }\n",
       "</style>\n",
       "<table border=\"1\" class=\"dataframe\">\n",
       "  <thead>\n",
       "    <tr style=\"text-align: right;\">\n",
       "      <th></th>\n",
       "      <th>block_time</th>\n",
       "      <th>sub_traces</th>\n",
       "      <th>tx_success</th>\n",
       "      <th>success</th>\n",
       "      <th>block_hash</th>\n",
       "      <th>block_number</th>\n",
       "      <th>tx_hash</th>\n",
       "      <th>from</th>\n",
       "      <th>value</th>\n",
       "      <th>gas</th>\n",
       "      <th>gas_used</th>\n",
       "      <th>tx_index</th>\n",
       "      <th>type</th>\n",
       "      <th>call_type</th>\n",
       "      <th>input</th>\n",
       "      <th>output</th>\n",
       "      <th>to</th>\n",
       "      <th>error</th>\n",
       "    </tr>\n",
       "  </thead>\n",
       "  <tbody>\n",
       "    <tr>\n",
       "      <th>0</th>\n",
       "      <td>2022-01-27T05:21:21+00:00</td>\n",
       "      <td>0</td>\n",
       "      <td>True</td>\n",
       "      <td>True</td>\n",
       "      <td>\\x5a0f461bc79856993991a9a8b8d84049437ca21f185d...</td>\n",
       "      <td>14085768</td>\n",
       "      <td>\\x81087944db08a07983f48c3f07cfcdaf7b3914b1a190...</td>\n",
       "      <td>\\xd632f22692fac7611d2aa1c0d552930d43caed3b</td>\n",
       "      <td>0</td>\n",
       "      <td>103915</td>\n",
       "      <td>30223.0</td>\n",
       "      <td>0</td>\n",
       "      <td>call</td>\n",
       "      <td>call</td>\n",
       "      <td>\\xa9059cbb000000000000000000000000e9b05bc1fa86...</td>\n",
       "      <td>\\x00000000000000000000000000000000000000000000...</td>\n",
       "      <td>\\x853d955acef822db058eb8505911ed77f175b99e</td>\n",
       "      <td>NaN</td>\n",
       "    </tr>\n",
       "  </tbody>\n",
       "</table>\n",
       "</div>"
      ],
      "text/plain": [
       "                  block_time  sub_traces  tx_success  success  \\\n",
       "0  2022-01-27T05:21:21+00:00           0        True     True   \n",
       "\n",
       "                                          block_hash  block_number  \\\n",
       "0  \\x5a0f461bc79856993991a9a8b8d84049437ca21f185d...      14085768   \n",
       "\n",
       "                                             tx_hash  \\\n",
       "0  \\x81087944db08a07983f48c3f07cfcdaf7b3914b1a190...   \n",
       "\n",
       "                                         from  value     gas  gas_used  \\\n",
       "0  \\xd632f22692fac7611d2aa1c0d552930d43caed3b      0  103915   30223.0   \n",
       "\n",
       "   tx_index  type call_type  \\\n",
       "0         0  call      call   \n",
       "\n",
       "                                               input  \\\n",
       "0  \\xa9059cbb000000000000000000000000e9b05bc1fa86...   \n",
       "\n",
       "                                              output  \\\n",
       "0  \\x00000000000000000000000000000000000000000000...   \n",
       "\n",
       "                                           to  error  \n",
       "0  \\x853d955acef822db058eb8505911ed77f175b99e    NaN  "
      ]
     },
     "execution_count": 33,
     "metadata": {},
     "output_type": "execute_result"
    }
   ],
   "source": [
    "# Check V2 Traces\n",
    "traces_v2_df.head(1)"
   ]
  },
  {
   "cell_type": "code",
   "execution_count": 34,
   "metadata": {},
   "outputs": [],
   "source": [
    "# Combine dataframes\n",
    "traces_df = pd.concat([traces_v1_df, traces_v2_df], axis=1)"
   ]
  },
  {
   "cell_type": "markdown",
   "metadata": {},
   "source": [
    "## Transaction Data\n",
    "---"
   ]
  },
  {
   "cell_type": "code",
   "execution_count": 36,
   "metadata": {},
   "outputs": [],
   "source": [
    "# Load transaction data\n",
    "transactions_df = pd.read_csv('data/frax-ethereum-transactions.csv')"
   ]
  },
  {
   "cell_type": "code",
   "execution_count": 37,
   "metadata": {},
   "outputs": [
    {
     "data": {
      "text/html": [
       "<div>\n",
       "<style scoped>\n",
       "    .dataframe tbody tr th:only-of-type {\n",
       "        vertical-align: middle;\n",
       "    }\n",
       "\n",
       "    .dataframe tbody tr th {\n",
       "        vertical-align: top;\n",
       "    }\n",
       "\n",
       "    .dataframe thead th {\n",
       "        text-align: right;\n",
       "    }\n",
       "</style>\n",
       "<table border=\"1\" class=\"dataframe\">\n",
       "  <thead>\n",
       "    <tr style=\"text-align: right;\">\n",
       "      <th></th>\n",
       "      <th>block_time</th>\n",
       "      <th>nonce</th>\n",
       "      <th>index</th>\n",
       "      <th>success</th>\n",
       "      <th>from</th>\n",
       "      <th>to</th>\n",
       "      <th>value</th>\n",
       "      <th>block_number</th>\n",
       "      <th>block_hash</th>\n",
       "      <th>gas_limit</th>\n",
       "      <th>gas_price</th>\n",
       "      <th>gas_used</th>\n",
       "      <th>data</th>\n",
       "      <th>hash</th>\n",
       "      <th>type</th>\n",
       "      <th>access_list</th>\n",
       "      <th>max_fee_per_gas</th>\n",
       "      <th>max_priority_fee_per_gas</th>\n",
       "      <th>priority_fee_per_gas</th>\n",
       "    </tr>\n",
       "  </thead>\n",
       "  <tbody>\n",
       "    <tr>\n",
       "      <th>0</th>\n",
       "      <td>2020-12-16T17:47:31+00:00</td>\n",
       "      <td>8</td>\n",
       "      <td>6</td>\n",
       "      <td>True</td>\n",
       "      <td>\\x234d953a9404bf9dbc3b526271d440cd2870bcd2</td>\n",
       "      <td>\\x853d955acef822db058eb8505911ed77f175b99e</td>\n",
       "      <td>0.0</td>\n",
       "      <td>11465606</td>\n",
       "      <td>\\x0e8fa84abd5cb4a38af1bd42ae9b013a753006da2d31...</td>\n",
       "      <td>8000000</td>\n",
       "      <td>9.000000e+10</td>\n",
       "      <td>43498</td>\n",
       "      <td>\\xc3bc89100000000000000000000000003432b6a60d23...</td>\n",
       "      <td>\\xd0f6162b84e20b29afed59ac5067c4f30cdf7d1c79be...</td>\n",
       "      <td>NaN</td>\n",
       "      <td>NaN</td>\n",
       "      <td>NaN</td>\n",
       "      <td>NaN</td>\n",
       "      <td>NaN</td>\n",
       "    </tr>\n",
       "  </tbody>\n",
       "</table>\n",
       "</div>"
      ],
      "text/plain": [
       "                  block_time  nonce  index  success  \\\n",
       "0  2020-12-16T17:47:31+00:00      8      6     True   \n",
       "\n",
       "                                         from  \\\n",
       "0  \\x234d953a9404bf9dbc3b526271d440cd2870bcd2   \n",
       "\n",
       "                                           to  value  block_number  \\\n",
       "0  \\x853d955acef822db058eb8505911ed77f175b99e    0.0      11465606   \n",
       "\n",
       "                                          block_hash  gas_limit     gas_price  \\\n",
       "0  \\x0e8fa84abd5cb4a38af1bd42ae9b013a753006da2d31...    8000000  9.000000e+10   \n",
       "\n",
       "   gas_used                                               data  \\\n",
       "0     43498  \\xc3bc89100000000000000000000000003432b6a60d23...   \n",
       "\n",
       "                                                hash type access_list  \\\n",
       "0  \\xd0f6162b84e20b29afed59ac5067c4f30cdf7d1c79be...  NaN         NaN   \n",
       "\n",
       "   max_fee_per_gas  max_priority_fee_per_gas  priority_fee_per_gas  \n",
       "0              NaN                       NaN                   NaN  "
      ]
     },
     "execution_count": 37,
     "metadata": {},
     "output_type": "execute_result"
    }
   ],
   "source": [
    "# Check transaction data\n",
    "transactions_df.head(1)"
   ]
  },
  {
   "cell_type": "code",
   "execution_count": 41,
   "metadata": {},
   "outputs": [],
   "source": [
    "# Order Transaction data\n",
    "transaction_order = [\"access_list\",\"block_hash\",\"block_number\",\"block_time\",\"data\",\n",
    "                     \"from\",\"gas_limit\",\"gas_price\",\"gas_used\",\"hash\",\"index\",\n",
    "                     \"max_fee_per_gas\",\"max_priority_fee_per_gas\",\"nonce\",\n",
    "                     \"priority_fee_per_gas\",\"success\",\"to\",\"type\",\"value\"]\n",
    "\n",
    "transactions_df = transactions_df[transaction_order]"
   ]
  },
  {
   "cell_type": "code",
   "execution_count": 43,
   "metadata": {},
   "outputs": [
    {
     "data": {
      "text/html": [
       "<div>\n",
       "<style scoped>\n",
       "    .dataframe tbody tr th:only-of-type {\n",
       "        vertical-align: middle;\n",
       "    }\n",
       "\n",
       "    .dataframe tbody tr th {\n",
       "        vertical-align: top;\n",
       "    }\n",
       "\n",
       "    .dataframe thead th {\n",
       "        text-align: right;\n",
       "    }\n",
       "</style>\n",
       "<table border=\"1\" class=\"dataframe\">\n",
       "  <thead>\n",
       "    <tr style=\"text-align: right;\">\n",
       "      <th></th>\n",
       "      <th>access_list</th>\n",
       "      <th>block_hash</th>\n",
       "      <th>block_number</th>\n",
       "      <th>block_time</th>\n",
       "      <th>data</th>\n",
       "      <th>from</th>\n",
       "      <th>gas_limit</th>\n",
       "      <th>gas_price</th>\n",
       "      <th>gas_used</th>\n",
       "      <th>hash</th>\n",
       "      <th>index</th>\n",
       "      <th>max_fee_per_gas</th>\n",
       "      <th>max_priority_fee_per_gas</th>\n",
       "      <th>nonce</th>\n",
       "      <th>priority_fee_per_gas</th>\n",
       "      <th>success</th>\n",
       "      <th>to</th>\n",
       "      <th>type</th>\n",
       "      <th>value</th>\n",
       "    </tr>\n",
       "  </thead>\n",
       "  <tbody>\n",
       "    <tr>\n",
       "      <th>0</th>\n",
       "      <td>NaN</td>\n",
       "      <td>\\x0e8fa84abd5cb4a38af1bd42ae9b013a753006da2d31...</td>\n",
       "      <td>11465606</td>\n",
       "      <td>2020-12-16T17:47:31+00:00</td>\n",
       "      <td>\\xc3bc89100000000000000000000000003432b6a60d23...</td>\n",
       "      <td>\\x234d953a9404bf9dbc3b526271d440cd2870bcd2</td>\n",
       "      <td>8000000</td>\n",
       "      <td>9.000000e+10</td>\n",
       "      <td>43498</td>\n",
       "      <td>\\xd0f6162b84e20b29afed59ac5067c4f30cdf7d1c79be...</td>\n",
       "      <td>6</td>\n",
       "      <td>NaN</td>\n",
       "      <td>NaN</td>\n",
       "      <td>8</td>\n",
       "      <td>NaN</td>\n",
       "      <td>True</td>\n",
       "      <td>\\x853d955acef822db058eb8505911ed77f175b99e</td>\n",
       "      <td>NaN</td>\n",
       "      <td>0.0</td>\n",
       "    </tr>\n",
       "  </tbody>\n",
       "</table>\n",
       "</div>"
      ],
      "text/plain": [
       "  access_list                                         block_hash  \\\n",
       "0         NaN  \\x0e8fa84abd5cb4a38af1bd42ae9b013a753006da2d31...   \n",
       "\n",
       "   block_number                 block_time  \\\n",
       "0      11465606  2020-12-16T17:47:31+00:00   \n",
       "\n",
       "                                                data  \\\n",
       "0  \\xc3bc89100000000000000000000000003432b6a60d23...   \n",
       "\n",
       "                                         from  gas_limit     gas_price  \\\n",
       "0  \\x234d953a9404bf9dbc3b526271d440cd2870bcd2    8000000  9.000000e+10   \n",
       "\n",
       "   gas_used                                               hash  index  \\\n",
       "0     43498  \\xd0f6162b84e20b29afed59ac5067c4f30cdf7d1c79be...      6   \n",
       "\n",
       "   max_fee_per_gas  max_priority_fee_per_gas  nonce  priority_fee_per_gas  \\\n",
       "0              NaN                       NaN      8                   NaN   \n",
       "\n",
       "   success                                          to type  value  \n",
       "0     True  \\x853d955acef822db058eb8505911ed77f175b99e  NaN    0.0  "
      ]
     },
     "execution_count": 43,
     "metadata": {},
     "output_type": "execute_result"
    }
   ],
   "source": [
    "# Check data\n",
    "transactions_df.head(1)"
   ]
  },
  {
   "cell_type": "code",
   "execution_count": null,
   "metadata": {},
   "outputs": [],
   "source": []
  }
 ],
 "metadata": {
  "kernelspec": {
   "display_name": "Python 3",
   "language": "python",
   "name": "python3"
  },
  "language_info": {
   "codemirror_mode": {
    "name": "ipython",
    "version": 3
   },
   "file_extension": ".py",
   "mimetype": "text/x-python",
   "name": "python",
   "nbconvert_exporter": "python",
   "pygments_lexer": "ipython3",
   "version": "3.7.3"
  }
 },
 "nbformat": 4,
 "nbformat_minor": 2
}
