{
 "cells": [
  {
   "cell_type": "markdown",
   "metadata": {},
   "source": [
    "# Module 4: Anomaly Detection\n",
    "## Practice: Outlier Reduction for Linear Regression\n",
    "In this session, we'll be fitting a `LinearRegression` model on the `boston` dataset included in `scikit-learn`.  \n",
    "\n",
    "Having already worked with this dataset,\n",
    "you may remember it as a simple yet broadly representative linear regression problem."
   ]
  },
  {
   "cell_type": "markdown",
   "metadata": {},
   "source": [
    "## Getting started - imports"
   ]
  },
  {
   "cell_type": "code",
   "execution_count": null,
   "metadata": {},
   "outputs": [],
   "source": [
    "%matplotlib inline\n",
    "import os\n",
    "import pandas as pd\n",
    "import numpy as np\n",
    "import matplotlib.pyplot as plt\n",
    "from sklearn.datasets import load_boston\n",
    "from sklearn.linear_model import Ridge\n",
    "from sklearn.linear_model import LinearRegression\n",
    "from sklearn.metrics import mean_absolute_error\n",
    "from sklearn.model_selection import cross_val_score, train_test_split\n",
    "\n",
    "np.random.seed(10)"
   ]
  },
  {
   "cell_type": "markdown",
   "metadata": {},
   "source": [
    "## Loading dataset\n",
    "First order of business is to load in the dataset."
   ]
  },
  {
   "cell_type": "code",
   "execution_count": null,
   "metadata": {},
   "outputs": [],
   "source": [
    "# Load boston housing dataset \n",
    "boston = load_boston()\n",
    "print(boston.DESCR)"
   ]
  },
  {
   "cell_type": "code",
   "execution_count": null,
   "metadata": {},
   "outputs": [],
   "source": [
    "boston.feature_names"
   ]
  },
  {
   "cell_type": "code",
   "execution_count": null,
   "metadata": {},
   "outputs": [],
   "source": [
    "type(boston.data)"
   ]
  },
  {
   "cell_type": "code",
   "execution_count": null,
   "metadata": {},
   "outputs": [],
   "source": []
  },
  {
   "cell_type": "code",
   "execution_count": null,
   "metadata": {},
   "outputs": [],
   "source": [
    "# Split into X and y sets   #P4001\n",
    "\n",
    "X = <placeholder>\n",
    "y = <placeholder>\n",
    "\n",
    "# Print out some basic shape data on the arrays\n",
    "print(\"X, y shape:\", X.shape, y.shape)"
   ]
  },
  {
   "cell_type": "code",
   "execution_count": null,
   "metadata": {
    "scrolled": true
   },
   "outputs": [],
   "source": [
    "# perform train/test split\n",
    "\n",
    "X_train, X_test, y_train, y_test = <placeholder>  #P4002\n",
    "\n",
    "# verify split shapes and contents\n",
    "print(\"X_train.shape: \", X_train.shape)\n",
    "print(\"y_train.shape: \", y_train.shape)\n",
    "print(\"X_test.shape: \", X_test.shape)\n",
    "print(\"y_test.shape: \", y_test.shape)"
   ]
  },
  {
   "cell_type": "markdown",
   "metadata": {},
   "source": [
    "Run cross validation (5-fold) on a linear ridge model."
   ]
  },
  {
   "cell_type": "code",
   "execution_count": null,
   "metadata": {},
   "outputs": [],
   "source": [
    "naive_model = LinearRegression() #P4003\n",
    "scores = <placeholder>\n",
    "print(\"Scores: \", scores)\n",
    "print(\"Mean score (5 folds): \", np.mean(scores))"
   ]
  },
  {
   "cell_type": "markdown",
   "metadata": {},
   "source": [
    "Fit this model on the training dataset."
   ]
  },
  {
   "cell_type": "code",
   "execution_count": null,
   "metadata": {},
   "outputs": [],
   "source": [
    "# Fit a model with all the training data #P4004\n",
    "<placeholder>"
   ]
  },
  {
   "cell_type": "markdown",
   "metadata": {},
   "source": [
    "Make some predictions from testing dataset and print mean absolute measure."
   ]
  },
  {
   "cell_type": "code",
   "execution_count": null,
   "metadata": {},
   "outputs": [],
   "source": [
    "naive_predictions = <placeholder> #P4005\n",
    "\n",
    "mean_absolute_error(<placeholder>)\n"
   ]
  },
  {
   "cell_type": "markdown",
   "metadata": {},
   "source": [
    "\n",
    "## What methods are available to us for outlier reduction?\n",
    "We could try `KMeans` or an `EllipticEnvelope` again, but we're going to explore a few more options. "
   ]
  },
  {
   "cell_type": "code",
   "execution_count": null,
   "metadata": {},
   "outputs": [],
   "source": [
    "from sklearn.ensemble import IsolationForest\n",
    "\n",
    "# Construct IsolationForest \n",
    "iso_forest = IsolationForest(contamination=0.05).fit(X_train, y_train)\n",
    "\n",
    "# Get labels from classifier and cull outliers #P4006\n",
    "iso_outliers = <placeholder>\n",
    "print(f\"Num of outliers = {np.sum(iso_outliers)}\")\n",
    "X_iso = X_train[~iso_outliers]\n",
    "y_iso = y_train[~iso_outliers]\n",
    "\n"
   ]
  },
  {
   "cell_type": "code",
   "execution_count": null,
   "metadata": {},
   "outputs": [],
   "source": [
    "# develop a liner regression model without outliers \n",
    "\n",
    "iso_model = LinearRegression()\n",
    "iso_model.fit(<placeholder>, <placeholder>)\n",
    "\n",
    "# Cross validate the new model\n",
    "iso_scores = cross_val_score(<placeholder>)\n",
    "print(iso_scores)\n",
    "print(\"Mean CV score w/ IsolationForest:\", np.mean(iso_scores))\n",
    "\n",
    "iso_predictions = iso_model.predict(<placeholder>)\n",
    "mean_absolute_error(<placeholder>, <placeholder>)\n"
   ]
  },
  {
   "cell_type": "markdown",
   "metadata": {},
   "source": [
    "## Alternatives to IsolationForest: OneClassSVM\n",
    "This means it's time to try something else.  \n",
    "The code below will look very similar to the above, but using `OneClassSVM` in place of the `IsolationForest`:"
   ]
  },
  {
   "cell_type": "code",
   "execution_count": null,
   "metadata": {},
   "outputs": [],
   "source": [
    "from sklearn.svm import OneClassSVM\n",
    "\n",
    "# Construct OneClassSVM (kernel='rbf') and fit to full dataset\n",
    "svm = OneClassSVM(kernel='rbf').fit(<placeholder>, <placeholder>)\n",
    "\n",
    "# Get labels from classifier and cull outliers #P4007\n",
    "svm_outliers = <placeholder>\n",
    "print(f\"Num of outliers = {np.sum(iso_outliers)}\")\n",
    "X_svm = X_train[<placeholder>]\n",
    "y_svm = y_train[<placeholder>]\n"
   ]
  },
  {
   "cell_type": "code",
   "execution_count": null,
   "metadata": {},
   "outputs": [],
   "source": [
    "# develop a linear regression model without outliers \n",
    "\n",
    "svm_model = LinearRegression().fit(<placeholder>, <placeholder>)\n",
    "\n",
    "# Cross validate the new model\n",
    "svm_scores = cross_val_score(<placeholder>)\n",
    "print(svm_scores)\n",
    "print(\"Mean CV score w/ OneClassSVM:\", np.mean(svm_scores))\n",
    "\n",
    "# Make predictions with the fitted model\n",
    "svm_predictions = svm_model.predict(<placeholder>)\n",
    "\n",
    "mean_absolute_error(<placeholder>, <placeholder>)\n"
   ]
  },
  {
   "cell_type": "markdown",
   "metadata": {},
   "source": [
    "## Summary Analysis\n",
    "\n",
    "Of the anomaly detection algorithms used, which had the highest marginal performance. "
   ]
  },
  {
   "cell_type": "raw",
   "metadata": {},
   "source": [
    "# Provide your answers to the question above in this cell\n",
    "# ---------------------------------------------------------\n",
    "\n"
   ]
  },
  {
   "cell_type": "markdown",
   "metadata": {},
   "source": [
    "## Addtional Tasks\n",
    "Vary various parameters and performance measures for the above practice and see the performance."
   ]
  }
 ],
 "metadata": {
  "kernelspec": {
   "display_name": "Python 3",
   "language": "python",
   "name": "python3"
  },
  "language_info": {
   "codemirror_mode": {
    "name": "ipython",
    "version": 3
   },
   "file_extension": ".py",
   "mimetype": "text/x-python",
   "name": "python",
   "nbconvert_exporter": "python",
   "pygments_lexer": "ipython3",
   "version": "3.7.3"
  }
 },
 "nbformat": 4,
 "nbformat_minor": 4
}
