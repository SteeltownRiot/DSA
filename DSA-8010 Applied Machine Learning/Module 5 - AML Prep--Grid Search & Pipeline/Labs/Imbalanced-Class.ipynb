{
 "cells": [
  {
   "cell_type": "markdown",
   "metadata": {},
   "source": [
    "# Dealing with Imbalanced Class Variable\n",
    "\n",
    "In classification problems, sometimes we may encounter datasets that have class imbalance issue: a class value dominates the other class values. This poses significant challenges to the classification algorithms which work well with balanced class. This type of class imbalance problem can be found in areas like medical diagnosis, spam filtering, and fraud detection.\n",
    "\n",
    "In this lab, we'll look at possible ways to handle an imbalanced class problem using a credit card data. Here each transaction is tagged as fradulent (1) or not fradulent (0). Our objective will be to correctly classify the minority class of fraudulent transactions.\n",
    "\n",
    "Important Note: This guide will focus soley on addressing imbalanced classes and will not addressing other important machine learning steps including, but not limited to, feature selection or hyperparameter tuning."
   ]
  },
  {
   "cell_type": "code",
   "execution_count": 1,
   "metadata": {},
   "outputs": [],
   "source": [
    "import numpy as np\n",
    "import pandas as pd\n",
    "import matplotlib.pyplot as plt\n",
    "import seaborn as sns\n",
    "\n",
    "from sklearn.model_selection import train_test_split\n",
    "from sklearn.linear_model import LogisticRegression\n",
    "from sklearn.dummy import DummyClassifier\n",
    "from sklearn.metrics import accuracy_score, f1_score, confusion_matrix, recall_score, classification_report\n",
    "from sklearn.metrics import fbeta_score\n",
    "\n",
    "%matplotlib inline"
   ]
  },
  {
   "cell_type": "code",
   "execution_count": 2,
   "metadata": {},
   "outputs": [
    {
     "name": "stdout",
     "output_type": "stream",
     "text": [
      "(28480, 31)\n"
     ]
    },
    {
     "data": {
      "text/html": [
       "<div>\n",
       "<style scoped>\n",
       "    .dataframe tbody tr th:only-of-type {\n",
       "        vertical-align: middle;\n",
       "    }\n",
       "\n",
       "    .dataframe tbody tr th {\n",
       "        vertical-align: top;\n",
       "    }\n",
       "\n",
       "    .dataframe thead th {\n",
       "        text-align: right;\n",
       "    }\n",
       "</style>\n",
       "<table border=\"1\" class=\"dataframe\">\n",
       "  <thead>\n",
       "    <tr style=\"text-align: right;\">\n",
       "      <th></th>\n",
       "      <th>Time</th>\n",
       "      <th>V1</th>\n",
       "      <th>V2</th>\n",
       "      <th>V3</th>\n",
       "      <th>V4</th>\n",
       "      <th>V5</th>\n",
       "      <th>V6</th>\n",
       "      <th>V7</th>\n",
       "      <th>V8</th>\n",
       "      <th>V9</th>\n",
       "      <th>...</th>\n",
       "      <th>V21</th>\n",
       "      <th>V22</th>\n",
       "      <th>V23</th>\n",
       "      <th>V24</th>\n",
       "      <th>V25</th>\n",
       "      <th>V26</th>\n",
       "      <th>V27</th>\n",
       "      <th>V28</th>\n",
       "      <th>Amount</th>\n",
       "      <th>Class</th>\n",
       "    </tr>\n",
       "  </thead>\n",
       "  <tbody>\n",
       "    <tr>\n",
       "      <th>337</th>\n",
       "      <td>157801.0</td>\n",
       "      <td>1.973538</td>\n",
       "      <td>-0.147425</td>\n",
       "      <td>-0.599246</td>\n",
       "      <td>1.088049</td>\n",
       "      <td>0.073275</td>\n",
       "      <td>0.383365</td>\n",
       "      <td>-0.451486</td>\n",
       "      <td>0.098268</td>\n",
       "      <td>0.906635</td>\n",
       "      <td>...</td>\n",
       "      <td>-0.204209</td>\n",
       "      <td>-0.500164</td>\n",
       "      <td>0.308062</td>\n",
       "      <td>-0.040861</td>\n",
       "      <td>-0.271705</td>\n",
       "      <td>-0.929683</td>\n",
       "      <td>0.054986</td>\n",
       "      <td>-0.021730</td>\n",
       "      <td>19.90</td>\n",
       "      <td>0</td>\n",
       "    </tr>\n",
       "    <tr>\n",
       "      <th>13361</th>\n",
       "      <td>163724.0</td>\n",
       "      <td>1.986017</td>\n",
       "      <td>-0.380205</td>\n",
       "      <td>-0.281325</td>\n",
       "      <td>0.467055</td>\n",
       "      <td>-0.813958</td>\n",
       "      <td>-0.708327</td>\n",
       "      <td>-0.568642</td>\n",
       "      <td>0.016825</td>\n",
       "      <td>1.493268</td>\n",
       "      <td>...</td>\n",
       "      <td>-0.194224</td>\n",
       "      <td>-0.453238</td>\n",
       "      <td>0.401922</td>\n",
       "      <td>-0.097008</td>\n",
       "      <td>-0.489213</td>\n",
       "      <td>-0.613725</td>\n",
       "      <td>0.030287</td>\n",
       "      <td>-0.035312</td>\n",
       "      <td>1.00</td>\n",
       "      <td>0</td>\n",
       "    </tr>\n",
       "    <tr>\n",
       "      <th>19862</th>\n",
       "      <td>166948.0</td>\n",
       "      <td>2.035861</td>\n",
       "      <td>-0.200976</td>\n",
       "      <td>-1.204585</td>\n",
       "      <td>0.238728</td>\n",
       "      <td>-0.035093</td>\n",
       "      <td>-0.732477</td>\n",
       "      <td>0.000754</td>\n",
       "      <td>-0.103041</td>\n",
       "      <td>0.476917</td>\n",
       "      <td>...</td>\n",
       "      <td>-0.270120</td>\n",
       "      <td>-0.740736</td>\n",
       "      <td>0.299643</td>\n",
       "      <td>-0.367221</td>\n",
       "      <td>-0.325599</td>\n",
       "      <td>0.201845</td>\n",
       "      <td>-0.082969</td>\n",
       "      <td>-0.075347</td>\n",
       "      <td>4.49</td>\n",
       "      <td>0</td>\n",
       "    </tr>\n",
       "    <tr>\n",
       "      <th>23330</th>\n",
       "      <td>169015.0</td>\n",
       "      <td>-0.124702</td>\n",
       "      <td>0.268215</td>\n",
       "      <td>1.223797</td>\n",
       "      <td>0.427078</td>\n",
       "      <td>-1.381094</td>\n",
       "      <td>0.018190</td>\n",
       "      <td>-0.826291</td>\n",
       "      <td>0.390685</td>\n",
       "      <td>-1.262411</td>\n",
       "      <td>...</td>\n",
       "      <td>0.020156</td>\n",
       "      <td>0.697320</td>\n",
       "      <td>-0.005881</td>\n",
       "      <td>0.132831</td>\n",
       "      <td>-0.855640</td>\n",
       "      <td>1.137074</td>\n",
       "      <td>0.113189</td>\n",
       "      <td>0.127342</td>\n",
       "      <td>24.99</td>\n",
       "      <td>0</td>\n",
       "    </tr>\n",
       "    <tr>\n",
       "      <th>14017</th>\n",
       "      <td>164032.0</td>\n",
       "      <td>2.082792</td>\n",
       "      <td>-0.991640</td>\n",
       "      <td>-1.127478</td>\n",
       "      <td>-0.670212</td>\n",
       "      <td>-0.447162</td>\n",
       "      <td>0.188657</td>\n",
       "      <td>-0.790566</td>\n",
       "      <td>0.068130</td>\n",
       "      <td>-0.333943</td>\n",
       "      <td>...</td>\n",
       "      <td>-0.344494</td>\n",
       "      <td>-0.535665</td>\n",
       "      <td>0.217781</td>\n",
       "      <td>0.078550</td>\n",
       "      <td>-0.329599</td>\n",
       "      <td>0.542222</td>\n",
       "      <td>-0.050758</td>\n",
       "      <td>-0.055737</td>\n",
       "      <td>45.00</td>\n",
       "      <td>0</td>\n",
       "    </tr>\n",
       "  </tbody>\n",
       "</table>\n",
       "<p>5 rows × 31 columns</p>\n",
       "</div>"
      ],
      "text/plain": [
       "           Time        V1        V2        V3        V4        V5        V6  \\\n",
       "337    157801.0  1.973538 -0.147425 -0.599246  1.088049  0.073275  0.383365   \n",
       "13361  163724.0  1.986017 -0.380205 -0.281325  0.467055 -0.813958 -0.708327   \n",
       "19862  166948.0  2.035861 -0.200976 -1.204585  0.238728 -0.035093 -0.732477   \n",
       "23330  169015.0 -0.124702  0.268215  1.223797  0.427078 -1.381094  0.018190   \n",
       "14017  164032.0  2.082792 -0.991640 -1.127478 -0.670212 -0.447162  0.188657   \n",
       "\n",
       "             V7        V8        V9  ...       V21       V22       V23  \\\n",
       "337   -0.451486  0.098268  0.906635  ... -0.204209 -0.500164  0.308062   \n",
       "13361 -0.568642  0.016825  1.493268  ... -0.194224 -0.453238  0.401922   \n",
       "19862  0.000754 -0.103041  0.476917  ... -0.270120 -0.740736  0.299643   \n",
       "23330 -0.826291  0.390685 -1.262411  ...  0.020156  0.697320 -0.005881   \n",
       "14017 -0.790566  0.068130 -0.333943  ... -0.344494 -0.535665  0.217781   \n",
       "\n",
       "            V24       V25       V26       V27       V28  Amount  Class  \n",
       "337   -0.040861 -0.271705 -0.929683  0.054986 -0.021730   19.90      0  \n",
       "13361 -0.097008 -0.489213 -0.613725  0.030287 -0.035312    1.00      0  \n",
       "19862 -0.367221 -0.325599  0.201845 -0.082969 -0.075347    4.49      0  \n",
       "23330  0.132831 -0.855640  1.137074  0.113189  0.127342   24.99      0  \n",
       "14017  0.078550 -0.329599  0.542222 -0.050758 -0.055737   45.00      0  \n",
       "\n",
       "[5 rows x 31 columns]"
      ]
     },
     "execution_count": 2,
     "metadata": {},
     "output_type": "execute_result"
    }
   ],
   "source": [
    "# read in data\n",
    "datapath = \"./credit_card.csv\"\n",
    "df = pd.read_csv(datapath)\n",
    "\n",
    "print(df.shape)\n",
    "\n",
    "# show random 5 rows from this dataset\n",
    "df.sample(n=5, replace=False)"
   ]
  },
  {
   "cell_type": "code",
   "execution_count": 3,
   "metadata": {},
   "outputs": [
    {
     "data": {
      "text/plain": [
       "0    28431\n",
       "1       49\n",
       "Name: Class, dtype: int64"
      ]
     },
     "execution_count": 3,
     "metadata": {},
     "output_type": "execute_result"
    }
   ],
   "source": [
    "# print the class \n",
    "df.Class.value_counts()"
   ]
  },
  {
   "cell_type": "code",
   "execution_count": 4,
   "metadata": {},
   "outputs": [
    {
     "data": {
      "text/plain": [
       "0.1720505617977528"
      ]
     },
     "execution_count": 4,
     "metadata": {},
     "output_type": "execute_result"
    }
   ],
   "source": [
    "# print percentage of questions where target == 1\n",
    "fraud_ratio = df[df.Class==1].shape[0] * 100 / df.shape[0]\n",
    "fraud_ratio"
   ]
  },
  {
   "cell_type": "markdown",
   "metadata": {},
   "source": [
    "We can see we have a very imbalanced class - just 0.17% of our dataset belong to fradulent transactions!\n",
    "\n",
    "This is a problem because many machine learning models are designed to maximize overall accuracy, which especially with imbalanced classes may not be the best metric to use. Classification accuracy is defined as the number of correct predictions divided by total predictions times 100. For example, if we simply predicted all transactions are not fraud, we would get a classification acuracy score of over 99%!"
   ]
  },
  {
   "cell_type": "markdown",
   "metadata": {},
   "source": [
    "# Create Train and Test Sets\n",
    "The training set is used to build and validate the model, while the test set is reserved for testing the model on unseen data."
   ]
  },
  {
   "cell_type": "code",
   "execution_count": 5,
   "metadata": {},
   "outputs": [],
   "source": [
    "# Prepare data for modeling\n",
    "# Separate input features and target\n",
    "y = df.Class\n",
    "X = df.drop('Class', axis=1)\n",
    "\n",
    "# setting up testing and training sets\n",
    "X_train, X_test, y_train, y_test = train_test_split(X, y, test_size=0.25, random_state=27)"
   ]
  },
  {
   "cell_type": "code",
   "execution_count": 6,
   "metadata": {},
   "outputs": [
    {
     "data": {
      "text/plain": [
       "0.17322097378277154"
      ]
     },
     "execution_count": 6,
     "metadata": {},
     "output_type": "execute_result"
    }
   ],
   "source": [
    "y_train.value_counts()[1] * 100 / y_train.shape[0]"
   ]
  },
  {
   "cell_type": "code",
   "execution_count": 7,
   "metadata": {},
   "outputs": [
    {
     "data": {
      "text/plain": [
       "0.16853932584269662"
      ]
     },
     "execution_count": 7,
     "metadata": {},
     "output_type": "execute_result"
    }
   ],
   "source": [
    "y_test.value_counts()[1] * 100 / y_test.shape[0]"
   ]
  },
  {
   "cell_type": "markdown",
   "metadata": {},
   "source": [
    "# Baseline Models"
   ]
  },
  {
   "cell_type": "code",
   "execution_count": 8,
   "metadata": {},
   "outputs": [
    {
     "name": "stdout",
     "output_type": "stream",
     "text": [
      "The predicted labels:  [0]\n",
      "Accuracy score:  0.998314606741573\n",
      "              precision    recall  f1-score   support\n",
      "\n",
      "           0       1.00      1.00      1.00      7108\n",
      "           1       0.00      0.00      0.00        12\n",
      "\n",
      "    accuracy                           1.00      7120\n",
      "   macro avg       0.50      0.50      0.50      7120\n",
      "weighted avg       1.00      1.00      1.00      7120\n",
      "\n"
     ]
    },
    {
     "name": "stderr",
     "output_type": "stream",
     "text": [
      "/opt/conda/lib/python3.7/site-packages/sklearn/metrics/_classification.py:1245: UndefinedMetricWarning: Precision and F-score are ill-defined and being set to 0.0 in labels with no predicted samples. Use `zero_division` parameter to control this behavior.\n",
      "  _warn_prf(average, modifier, msg_start, len(result))\n",
      "/opt/conda/lib/python3.7/site-packages/sklearn/metrics/_classification.py:1245: UndefinedMetricWarning: Precision and F-score are ill-defined and being set to 0.0 in labels with no predicted samples. Use `zero_division` parameter to control this behavior.\n",
      "  _warn_prf(average, modifier, msg_start, len(result))\n",
      "/opt/conda/lib/python3.7/site-packages/sklearn/metrics/_classification.py:1245: UndefinedMetricWarning: Precision and F-score are ill-defined and being set to 0.0 in labels with no predicted samples. Use `zero_division` parameter to control this behavior.\n",
      "  _warn_prf(average, modifier, msg_start, len(result))\n"
     ]
    }
   ],
   "source": [
    "# DummyClassifier to predict only target 0\n",
    "dummy = DummyClassifier(strategy='most_frequent').fit(X_train, y_train)\n",
    "dummy_pred = dummy.predict(X_test)\n",
    "\n",
    "# checking unique labels\n",
    "print('The predicted labels: ', np.unique(dummy_pred))\n",
    "\n",
    "# checking accuracy\n",
    "print('Accuracy score: ', accuracy_score(y_test, dummy_pred))\n",
    "\n",
    "print(classification_report(y_test, dummy_pred))"
   ]
  },
  {
   "cell_type": "markdown",
   "metadata": {},
   "source": [
    "The accuracy score for this Dummy Classifier is 99.8%, and this highy accuracy may mislead us. As the Dummy Classifier predicts only Class 0, it is clearly not a good option for our objective, which is correctly classifying fraudulent transactions.\n",
    "\n",
    "Let's see how logistic regression performs on this dataset."
   ]
  },
  {
   "cell_type": "code",
   "execution_count": 9,
   "metadata": {},
   "outputs": [],
   "source": [
    "# Modeling the data as is\n",
    "# Train model\n",
    "lr = LogisticRegression(solver='liblinear').fit(X_train, y_train)\n",
    " \n",
    "# Predict on training set\n",
    "lr_pred = lr.predict(X_test)"
   ]
  },
  {
   "cell_type": "code",
   "execution_count": 10,
   "metadata": {},
   "outputs": [
    {
     "data": {
      "text/html": [
       "<div>\n",
       "<style scoped>\n",
       "    .dataframe tbody tr th:only-of-type {\n",
       "        vertical-align: middle;\n",
       "    }\n",
       "\n",
       "    .dataframe tbody tr th {\n",
       "        vertical-align: top;\n",
       "    }\n",
       "\n",
       "    .dataframe thead th {\n",
       "        text-align: right;\n",
       "    }\n",
       "</style>\n",
       "<table border=\"1\" class=\"dataframe\">\n",
       "  <thead>\n",
       "    <tr style=\"text-align: right;\">\n",
       "      <th></th>\n",
       "      <th>0</th>\n",
       "      <th>1</th>\n",
       "    </tr>\n",
       "  </thead>\n",
       "  <tbody>\n",
       "    <tr>\n",
       "      <th>0</th>\n",
       "      <td>7108</td>\n",
       "      <td>0</td>\n",
       "    </tr>\n",
       "    <tr>\n",
       "      <th>1</th>\n",
       "      <td>8</td>\n",
       "      <td>4</td>\n",
       "    </tr>\n",
       "  </tbody>\n",
       "</table>\n",
       "</div>"
      ],
      "text/plain": [
       "      0  1\n",
       "0  7108  0\n",
       "1     8  4"
      ]
     },
     "execution_count": 10,
     "metadata": {},
     "output_type": "execute_result"
    }
   ],
   "source": [
    "# print confusion matrix\n",
    "pd.DataFrame(confusion_matrix(y_test, lr_pred))"
   ]
  },
  {
   "cell_type": "code",
   "execution_count": 11,
   "metadata": {},
   "outputs": [
    {
     "name": "stdout",
     "output_type": "stream",
     "text": [
      "              precision    recall  f1-score   support\n",
      "\n",
      "           0       1.00      1.00      1.00      7108\n",
      "           1       1.00      0.33      0.50        12\n",
      "\n",
      "    accuracy                           1.00      7120\n",
      "   macro avg       1.00      0.67      0.75      7120\n",
      "weighted avg       1.00      1.00      1.00      7120\n",
      "\n"
     ]
    }
   ],
   "source": [
    "print(classification_report(y_test, lr_pred))"
   ]
  },
  {
   "cell_type": "code",
   "execution_count": 12,
   "metadata": {},
   "outputs": [
    {
     "data": {
      "text/plain": [
       "0.998876404494382"
      ]
     },
     "execution_count": 12,
     "metadata": {},
     "output_type": "execute_result"
    }
   ],
   "source": [
    "# Checking accuracy to see the first few digits after decimal point\n",
    "accuracy_score(y_test, lr_pred)"
   ]
  },
  {
   "cell_type": "code",
   "execution_count": 13,
   "metadata": {},
   "outputs": [
    {
     "data": {
      "text/plain": [
       "0    7116\n",
       "1       4\n",
       "Name: 0, dtype: int64"
      ]
     },
     "execution_count": 13,
     "metadata": {},
     "output_type": "execute_result"
    }
   ],
   "source": [
    "# Checking unique values\n",
    "predictions = pd.DataFrame(lr_pred)\n",
    "predictions[0].value_counts()"
   ]
  },
  {
   "cell_type": "markdown",
   "metadata": {},
   "source": [
    "Logistic Regression outperformed the Dummy Classifier. We can see that it predicted 4 instances of class 1, so this is definitely an improvement. But can we do better?\n",
    "\n",
    "Let's see if we can apply some techniques for dealing with class imbalance to improve these results. \n",
    "\n",
    "### 1. Change the evaluation measure\n",
    "\n",
    "We should not use accuracy as a default measure for evaluating an imbalanced class. Metrics that can provide better insight include:\n",
    " \n",
    "* **Confusion Matrix:** a table showing the number of correct and incorrect predictions\n",
    "* **Precision:** the number of true positives divided by all positive predictions. Precision is also called Positive Predictive Value. It is a measure of a classifier's exactness. Low precision indicates a high number of false positives.\n",
    "* **Recall:** the number of true positives divided by the number of positive values in the test data. Recall is also called Sensitivity or the True Positive Rate. It is a measure of a classifier's completeness. Low recall indicates a high number of false negatives.\n",
    "* **F1-Score:** the weighted average of precision and recall\n",
    "* **F-beta Score:** It's a generailzation of F1-score. F1-score give equal weights to precision and recall. In some case precision could be more important than recall and vice versa. Check this short [article](https://onlinehelp.explorance.com/blueml/Content/articles/getstarted/mlcalculations.htm?TocPath=Get%20started%7C_____3) on F-beta measure. \n",
    "\n",
    "If our main objective is to classifying the fraud cases the recall score (or F-2 score) can be considered a key metric to use for evaluating predictions."
   ]
  },
  {
   "cell_type": "code",
   "execution_count": 14,
   "metadata": {},
   "outputs": [
    {
     "data": {
      "text/html": [
       "<div>\n",
       "<style scoped>\n",
       "    .dataframe tbody tr th:only-of-type {\n",
       "        vertical-align: middle;\n",
       "    }\n",
       "\n",
       "    .dataframe tbody tr th {\n",
       "        vertical-align: top;\n",
       "    }\n",
       "\n",
       "    .dataframe thead th {\n",
       "        text-align: right;\n",
       "    }\n",
       "</style>\n",
       "<table border=\"1\" class=\"dataframe\">\n",
       "  <thead>\n",
       "    <tr style=\"text-align: right;\">\n",
       "      <th></th>\n",
       "      <th>0</th>\n",
       "      <th>1</th>\n",
       "    </tr>\n",
       "  </thead>\n",
       "  <tbody>\n",
       "    <tr>\n",
       "      <th>0</th>\n",
       "      <td>7108</td>\n",
       "      <td>0</td>\n",
       "    </tr>\n",
       "    <tr>\n",
       "      <th>1</th>\n",
       "      <td>8</td>\n",
       "      <td>4</td>\n",
       "    </tr>\n",
       "  </tbody>\n",
       "</table>\n",
       "</div>"
      ],
      "text/plain": [
       "      0  1\n",
       "0  7108  0\n",
       "1     8  4"
      ]
     },
     "execution_count": 14,
     "metadata": {},
     "output_type": "execute_result"
    }
   ],
   "source": [
    "# confusion matrix\n",
    "pd.DataFrame(confusion_matrix(y_test, lr_pred))"
   ]
  },
  {
   "cell_type": "code",
   "execution_count": 15,
   "metadata": {},
   "outputs": [
    {
     "data": {
      "text/plain": [
       "0.3333333333333333"
      ]
     },
     "execution_count": 15,
     "metadata": {},
     "output_type": "execute_result"
    }
   ],
   "source": [
    "# recall score\n",
    "recall_score(y_test, lr_pred)"
   ]
  },
  {
   "cell_type": "code",
   "execution_count": 16,
   "metadata": {},
   "outputs": [
    {
     "data": {
      "text/plain": [
       "0.5"
      ]
     },
     "execution_count": 16,
     "metadata": {},
     "output_type": "execute_result"
    }
   ],
   "source": [
    "# f1 score\n",
    "f1_score(y_test, lr_pred)"
   ]
  },
  {
   "cell_type": "code",
   "execution_count": 17,
   "metadata": {},
   "outputs": [
    {
     "data": {
      "text/plain": [
       "0.3846153846153846"
      ]
     },
     "execution_count": 17,
     "metadata": {},
     "output_type": "execute_result"
    }
   ],
   "source": [
    "# F2 Score\n",
    "fbeta_score(y_test, lr_pred, beta=2)"
   ]
  },
  {
   "cell_type": "markdown",
   "metadata": {},
   "source": [
    "We have a very high accuracy score of 0.999 but a F1 score of only 0.752. And from the confusion matrix, we can see we are misclassifying several observations leading to a recall score of only 0.64."
   ]
  },
  {
   "cell_type": "markdown",
   "metadata": {},
   "source": [
    "### 2. Change the learner\n",
    "\n",
    "For every machine learning problem, its a good rule of thumb to try a variety of algorithms, it can be beneficial with imbalanced datasets. Decision trees frequently perform well on imbalanced data. They work by learning a hierachy of if/else questions. This can force both classes to be addressed."
   ]
  },
  {
   "cell_type": "code",
   "execution_count": 18,
   "metadata": {},
   "outputs": [],
   "source": [
    "from sklearn.ensemble import RandomForestClassifier"
   ]
  },
  {
   "cell_type": "code",
   "execution_count": 19,
   "metadata": {},
   "outputs": [
    {
     "name": "stdout",
     "output_type": "stream",
     "text": [
      "              precision    recall  f1-score   support\n",
      "\n",
      "           0       1.00      1.00      1.00      7108\n",
      "           1       0.92      0.92      0.92        12\n",
      "\n",
      "    accuracy                           1.00      7120\n",
      "   macro avg       0.96      0.96      0.96      7120\n",
      "weighted avg       1.00      1.00      1.00      7120\n",
      "\n"
     ]
    }
   ],
   "source": [
    "# train model\n",
    "rfc = RandomForestClassifier(n_estimators=10).fit(X_train, y_train)\n",
    "\n",
    "# predict on test set\n",
    "rfc_pred = rfc.predict(X_test)\n",
    "\n",
    "print(classification_report(y_test, rfc_pred))"
   ]
  },
  {
   "cell_type": "code",
   "execution_count": 20,
   "metadata": {},
   "outputs": [
    {
     "data": {
      "text/html": [
       "<div>\n",
       "<style scoped>\n",
       "    .dataframe tbody tr th:only-of-type {\n",
       "        vertical-align: middle;\n",
       "    }\n",
       "\n",
       "    .dataframe tbody tr th {\n",
       "        vertical-align: top;\n",
       "    }\n",
       "\n",
       "    .dataframe thead th {\n",
       "        text-align: right;\n",
       "    }\n",
       "</style>\n",
       "<table border=\"1\" class=\"dataframe\">\n",
       "  <thead>\n",
       "    <tr style=\"text-align: right;\">\n",
       "      <th></th>\n",
       "      <th>0</th>\n",
       "      <th>1</th>\n",
       "    </tr>\n",
       "  </thead>\n",
       "  <tbody>\n",
       "    <tr>\n",
       "      <th>0</th>\n",
       "      <td>7107</td>\n",
       "      <td>1</td>\n",
       "    </tr>\n",
       "    <tr>\n",
       "      <th>1</th>\n",
       "      <td>1</td>\n",
       "      <td>11</td>\n",
       "    </tr>\n",
       "  </tbody>\n",
       "</table>\n",
       "</div>"
      ],
      "text/plain": [
       "      0   1\n",
       "0  7107   1\n",
       "1     1  11"
      ]
     },
     "execution_count": 20,
     "metadata": {},
     "output_type": "execute_result"
    }
   ],
   "source": [
    "# confusion matrix\n",
    "pd.DataFrame(confusion_matrix(y_test, rfc_pred))"
   ]
  },
  {
   "cell_type": "markdown",
   "metadata": {},
   "source": [
    "It seems RandomForest was able to overcome the class imbalance problem for this dataset. The results on the test set show higher recall and F1-score compared to logistic regression. "
   ]
  },
  {
   "cell_type": "markdown",
   "metadata": {},
   "source": [
    "### 3. Resampling Techniques\n",
    "\n",
    "#### Oversampling Minority Class\n",
    "Oversampling can be defined as adding more copies of the minority class. Oversampling can be a good choice when you don't have a ton of data to work with. A con to consider when undersampling is that it can cause overfitting and poor generalization to your test set.\n",
    "\n",
    "We will use the resampling module from Scikit-Learn to randomly replicate samples from the minority class.\n",
    "\n",
    "Important Note\n",
    "Always split into test and train sets BEFORE trying any resampling techniques! Oversampling before splitting the data can allow the exact same observations to be present in both the test and train sets! This can allow our model to simply memorize specific data points and cause overfitting."
   ]
  },
  {
   "cell_type": "code",
   "execution_count": 21,
   "metadata": {},
   "outputs": [],
   "source": [
    "from sklearn.utils import resample"
   ]
  },
  {
   "cell_type": "code",
   "execution_count": 22,
   "metadata": {},
   "outputs": [
    {
     "data": {
      "text/html": [
       "<div>\n",
       "<style scoped>\n",
       "    .dataframe tbody tr th:only-of-type {\n",
       "        vertical-align: middle;\n",
       "    }\n",
       "\n",
       "    .dataframe tbody tr th {\n",
       "        vertical-align: top;\n",
       "    }\n",
       "\n",
       "    .dataframe thead th {\n",
       "        text-align: right;\n",
       "    }\n",
       "</style>\n",
       "<table border=\"1\" class=\"dataframe\">\n",
       "  <thead>\n",
       "    <tr style=\"text-align: right;\">\n",
       "      <th></th>\n",
       "      <th>Time</th>\n",
       "      <th>V1</th>\n",
       "      <th>V2</th>\n",
       "      <th>V3</th>\n",
       "      <th>V4</th>\n",
       "      <th>V5</th>\n",
       "      <th>V6</th>\n",
       "      <th>V7</th>\n",
       "      <th>V8</th>\n",
       "      <th>V9</th>\n",
       "      <th>...</th>\n",
       "      <th>V21</th>\n",
       "      <th>V22</th>\n",
       "      <th>V23</th>\n",
       "      <th>V24</th>\n",
       "      <th>V25</th>\n",
       "      <th>V26</th>\n",
       "      <th>V27</th>\n",
       "      <th>V28</th>\n",
       "      <th>Amount</th>\n",
       "      <th>Class</th>\n",
       "    </tr>\n",
       "  </thead>\n",
       "  <tbody>\n",
       "    <tr>\n",
       "      <th>13707</th>\n",
       "      <td>163892.0</td>\n",
       "      <td>1.794257</td>\n",
       "      <td>-0.277896</td>\n",
       "      <td>-2.381295</td>\n",
       "      <td>0.227035</td>\n",
       "      <td>1.181389</td>\n",
       "      <td>0.610771</td>\n",
       "      <td>0.134762</td>\n",
       "      <td>0.097202</td>\n",
       "      <td>0.646861</td>\n",
       "      <td>...</td>\n",
       "      <td>0.271430</td>\n",
       "      <td>0.845002</td>\n",
       "      <td>-0.143285</td>\n",
       "      <td>-2.082546</td>\n",
       "      <td>0.116228</td>\n",
       "      <td>0.046821</td>\n",
       "      <td>0.031267</td>\n",
       "      <td>-0.032991</td>\n",
       "      <td>104.71</td>\n",
       "      <td>0</td>\n",
       "    </tr>\n",
       "    <tr>\n",
       "      <th>20703</th>\n",
       "      <td>167418.0</td>\n",
       "      <td>-2.425979</td>\n",
       "      <td>2.399782</td>\n",
       "      <td>-0.779091</td>\n",
       "      <td>-1.365301</td>\n",
       "      <td>0.260095</td>\n",
       "      <td>-0.643864</td>\n",
       "      <td>1.098915</td>\n",
       "      <td>-0.142483</td>\n",
       "      <td>2.054626</td>\n",
       "      <td>...</td>\n",
       "      <td>-0.747394</td>\n",
       "      <td>-0.596796</td>\n",
       "      <td>0.001252</td>\n",
       "      <td>-0.452732</td>\n",
       "      <td>-0.161442</td>\n",
       "      <td>-0.003178</td>\n",
       "      <td>-0.337996</td>\n",
       "      <td>-1.084199</td>\n",
       "      <td>9.99</td>\n",
       "      <td>0</td>\n",
       "    </tr>\n",
       "    <tr>\n",
       "      <th>10572</th>\n",
       "      <td>162529.0</td>\n",
       "      <td>0.072139</td>\n",
       "      <td>1.001944</td>\n",
       "      <td>-0.401543</td>\n",
       "      <td>-0.541423</td>\n",
       "      <td>1.116271</td>\n",
       "      <td>-0.754787</td>\n",
       "      <td>0.995224</td>\n",
       "      <td>-0.139046</td>\n",
       "      <td>-0.205811</td>\n",
       "      <td>...</td>\n",
       "      <td>-0.315193</td>\n",
       "      <td>-0.734425</td>\n",
       "      <td>0.115187</td>\n",
       "      <td>0.528007</td>\n",
       "      <td>-0.388949</td>\n",
       "      <td>0.115610</td>\n",
       "      <td>0.227464</td>\n",
       "      <td>0.087912</td>\n",
       "      <td>8.99</td>\n",
       "      <td>0</td>\n",
       "    </tr>\n",
       "    <tr>\n",
       "      <th>4755</th>\n",
       "      <td>159856.0</td>\n",
       "      <td>2.006937</td>\n",
       "      <td>0.630784</td>\n",
       "      <td>-1.091179</td>\n",
       "      <td>3.554664</td>\n",
       "      <td>0.775172</td>\n",
       "      <td>-0.093498</td>\n",
       "      <td>0.311137</td>\n",
       "      <td>-0.177965</td>\n",
       "      <td>-1.054687</td>\n",
       "      <td>...</td>\n",
       "      <td>0.175626</td>\n",
       "      <td>0.520310</td>\n",
       "      <td>-0.026899</td>\n",
       "      <td>-0.731376</td>\n",
       "      <td>0.221499</td>\n",
       "      <td>0.177702</td>\n",
       "      <td>-0.047755</td>\n",
       "      <td>-0.060361</td>\n",
       "      <td>2.28</td>\n",
       "      <td>0</td>\n",
       "    </tr>\n",
       "    <tr>\n",
       "      <th>8068</th>\n",
       "      <td>161407.0</td>\n",
       "      <td>-0.004653</td>\n",
       "      <td>1.075463</td>\n",
       "      <td>-0.341932</td>\n",
       "      <td>-0.621717</td>\n",
       "      <td>0.996624</td>\n",
       "      <td>-0.781242</td>\n",
       "      <td>1.112333</td>\n",
       "      <td>-0.269529</td>\n",
       "      <td>0.355222</td>\n",
       "      <td>...</td>\n",
       "      <td>-0.422035</td>\n",
       "      <td>-0.835089</td>\n",
       "      <td>0.096160</td>\n",
       "      <td>0.553738</td>\n",
       "      <td>-0.427988</td>\n",
       "      <td>0.093356</td>\n",
       "      <td>0.167179</td>\n",
       "      <td>-0.080997</td>\n",
       "      <td>1.78</td>\n",
       "      <td>0</td>\n",
       "    </tr>\n",
       "  </tbody>\n",
       "</table>\n",
       "<p>5 rows × 31 columns</p>\n",
       "</div>"
      ],
      "text/plain": [
       "           Time        V1        V2        V3        V4        V5        V6  \\\n",
       "13707  163892.0  1.794257 -0.277896 -2.381295  0.227035  1.181389  0.610771   \n",
       "20703  167418.0 -2.425979  2.399782 -0.779091 -1.365301  0.260095 -0.643864   \n",
       "10572  162529.0  0.072139  1.001944 -0.401543 -0.541423  1.116271 -0.754787   \n",
       "4755   159856.0  2.006937  0.630784 -1.091179  3.554664  0.775172 -0.093498   \n",
       "8068   161407.0 -0.004653  1.075463 -0.341932 -0.621717  0.996624 -0.781242   \n",
       "\n",
       "             V7        V8        V9  ...       V21       V22       V23  \\\n",
       "13707  0.134762  0.097202  0.646861  ...  0.271430  0.845002 -0.143285   \n",
       "20703  1.098915 -0.142483  2.054626  ... -0.747394 -0.596796  0.001252   \n",
       "10572  0.995224 -0.139046 -0.205811  ... -0.315193 -0.734425  0.115187   \n",
       "4755   0.311137 -0.177965 -1.054687  ...  0.175626  0.520310 -0.026899   \n",
       "8068   1.112333 -0.269529  0.355222  ... -0.422035 -0.835089  0.096160   \n",
       "\n",
       "            V24       V25       V26       V27       V28  Amount  Class  \n",
       "13707 -2.082546  0.116228  0.046821  0.031267 -0.032991  104.71      0  \n",
       "20703 -0.452732 -0.161442 -0.003178 -0.337996 -1.084199    9.99      0  \n",
       "10572  0.528007 -0.388949  0.115610  0.227464  0.087912    8.99      0  \n",
       "4755  -0.731376  0.221499  0.177702 -0.047755 -0.060361    2.28      0  \n",
       "8068   0.553738 -0.427988  0.093356  0.167179 -0.080997    1.78      0  \n",
       "\n",
       "[5 rows x 31 columns]"
      ]
     },
     "execution_count": 22,
     "metadata": {},
     "output_type": "execute_result"
    }
   ],
   "source": [
    "# concatenate our training data back together before doing the resampling\n",
    "\n",
    "train_set = pd.concat([X_train, y_train], axis=1)\n",
    "train_set.head()"
   ]
  },
  {
   "cell_type": "code",
   "execution_count": 23,
   "metadata": {},
   "outputs": [
    {
     "data": {
      "text/plain": [
       "0    21323\n",
       "1    21323\n",
       "Name: Class, dtype: int64"
      ]
     },
     "execution_count": 23,
     "metadata": {},
     "output_type": "execute_result"
    }
   ],
   "source": [
    "# separate minority and majority classes\n",
    "train_set_not_fraud = train_set[train_set.Class==0]\n",
    "train_set_fraud = train_set[train_set.Class==1]\n",
    "\n",
    "# upsample minority\n",
    "fraud_upsampled = resample(train_set_fraud,\n",
    "                          replace=True, # sample with replacement\n",
    "                          n_samples=train_set_not_fraud.shape[0], # match number in majority class\n",
    "                          random_state=27) # reproducible results\n",
    "\n",
    "# combine majority and upsampled minority\n",
    "train_set_upsampled = pd.concat([train_set_not_fraud, fraud_upsampled])\n",
    "\n",
    "# check new class counts\n",
    "train_set_upsampled.Class.value_counts()"
   ]
  },
  {
   "cell_type": "code",
   "execution_count": 24,
   "metadata": {},
   "outputs": [
    {
     "name": "stdout",
     "output_type": "stream",
     "text": [
      "              precision    recall  f1-score   support\n",
      "\n",
      "           0       1.00      0.95      0.98      7108\n",
      "           1       0.03      1.00      0.07        12\n",
      "\n",
      "    accuracy                           0.95      7120\n",
      "   macro avg       0.52      0.98      0.52      7120\n",
      "weighted avg       1.00      0.95      0.97      7120\n",
      "\n"
     ]
    }
   ],
   "source": [
    "# trying logistic regression again with the balanced dataset\n",
    "X_train_upsampled = train_set_upsampled.drop('Class', axis=1)\n",
    "y_train_upsampled = train_set_upsampled.Class\n",
    "\n",
    "\n",
    "upsampled = LogisticRegression(solver='liblinear').fit(X_train_upsampled, y_train_upsampled)\n",
    "upsampled_pred = upsampled.predict(X_test)\n",
    "\n",
    "print(classification_report(y_test, upsampled_pred))"
   ]
  },
  {
   "cell_type": "code",
   "execution_count": 25,
   "metadata": {},
   "outputs": [
    {
     "data": {
      "text/html": [
       "<div>\n",
       "<style scoped>\n",
       "    .dataframe tbody tr th:only-of-type {\n",
       "        vertical-align: middle;\n",
       "    }\n",
       "\n",
       "    .dataframe tbody tr th {\n",
       "        vertical-align: top;\n",
       "    }\n",
       "\n",
       "    .dataframe thead th {\n",
       "        text-align: right;\n",
       "    }\n",
       "</style>\n",
       "<table border=\"1\" class=\"dataframe\">\n",
       "  <thead>\n",
       "    <tr style=\"text-align: right;\">\n",
       "      <th></th>\n",
       "      <th>0</th>\n",
       "      <th>1</th>\n",
       "    </tr>\n",
       "  </thead>\n",
       "  <tbody>\n",
       "    <tr>\n",
       "      <th>0</th>\n",
       "      <td>6776</td>\n",
       "      <td>332</td>\n",
       "    </tr>\n",
       "    <tr>\n",
       "      <th>1</th>\n",
       "      <td>0</td>\n",
       "      <td>12</td>\n",
       "    </tr>\n",
       "  </tbody>\n",
       "</table>\n",
       "</div>"
      ],
      "text/plain": [
       "      0    1\n",
       "0  6776  332\n",
       "1     0   12"
      ]
     },
     "execution_count": 25,
     "metadata": {},
     "output_type": "execute_result"
    }
   ],
   "source": [
    "# confusion matrix\n",
    "pd.DataFrame(confusion_matrix(y_test, upsampled_pred))"
   ]
  },
  {
   "cell_type": "markdown",
   "metadata": {},
   "source": [
    "The accuracy score (0.97) dropped after upsampling, but the model is now predicting all the fraud instances  correctly, an improvement over our plain logistic regression above.\n",
    "\n"
   ]
  },
  {
   "cell_type": "markdown",
   "metadata": {},
   "source": [
    "#### Undersampling Majority Class\n",
    "\n",
    "Undersampling can be defined as removing some observations of the majority class. Undersampling can be a good choice when you have a lot of data - think millions of rows. But a drawback to undersampling is that we are removing information that may be valuable.\n",
    "\n",
    "We will again use the resampling module from Scikit-Learn to randomly remove samples from the majority class."
   ]
  },
  {
   "cell_type": "code",
   "execution_count": 26,
   "metadata": {},
   "outputs": [
    {
     "data": {
      "text/plain": [
       "0    37\n",
       "1    37\n",
       "Name: Class, dtype: int64"
      ]
     },
     "execution_count": 26,
     "metadata": {},
     "output_type": "execute_result"
    }
   ],
   "source": [
    "# still using our separated classes fraud and not_fraud from above\n",
    "\n",
    "# downsample majority\n",
    "not_fraud_downsampled = resample(train_set_not_fraud,\n",
    "                                replace = False, # sample without replacement\n",
    "                                n_samples = train_set_fraud.shape[0], # match minority n\n",
    "                                random_state = 27) # reproducible results\n",
    "\n",
    "# combine minority and downsampled majority\n",
    "train_set_downsampled = pd.concat([not_fraud_downsampled, train_set_fraud])\n",
    "\n",
    "# checking counts\n",
    "train_set_downsampled.Class.value_counts()"
   ]
  },
  {
   "cell_type": "code",
   "execution_count": 27,
   "metadata": {},
   "outputs": [
    {
     "name": "stdout",
     "output_type": "stream",
     "text": [
      "              precision    recall  f1-score   support\n",
      "\n",
      "           0       1.00      0.85      0.92      7108\n",
      "           1       0.01      1.00      0.02        12\n",
      "\n",
      "    accuracy                           0.85      7120\n",
      "   macro avg       0.51      0.93      0.47      7120\n",
      "weighted avg       1.00      0.85      0.92      7120\n",
      "\n"
     ]
    }
   ],
   "source": [
    "# trying logistic regression again with the undersampled dataset\n",
    "\n",
    "y_train_downsampled = train_set_downsampled.Class\n",
    "X_train_downsampled = train_set_downsampled.drop('Class', axis=1)\n",
    "\n",
    "undersampled = LogisticRegression(solver='liblinear').fit(X_train_downsampled, y_train_downsampled)\n",
    "undersampled_pred = undersampled.predict(X_test)\n",
    "\n",
    "print(classification_report(y_test, undersampled_pred))"
   ]
  },
  {
   "cell_type": "code",
   "execution_count": 28,
   "metadata": {},
   "outputs": [
    {
     "data": {
      "text/html": [
       "<div>\n",
       "<style scoped>\n",
       "    .dataframe tbody tr th:only-of-type {\n",
       "        vertical-align: middle;\n",
       "    }\n",
       "\n",
       "    .dataframe tbody tr th {\n",
       "        vertical-align: top;\n",
       "    }\n",
       "\n",
       "    .dataframe thead th {\n",
       "        text-align: right;\n",
       "    }\n",
       "</style>\n",
       "<table border=\"1\" class=\"dataframe\">\n",
       "  <thead>\n",
       "    <tr style=\"text-align: right;\">\n",
       "      <th></th>\n",
       "      <th>0</th>\n",
       "      <th>1</th>\n",
       "    </tr>\n",
       "  </thead>\n",
       "  <tbody>\n",
       "    <tr>\n",
       "      <th>0</th>\n",
       "      <td>6060</td>\n",
       "      <td>1048</td>\n",
       "    </tr>\n",
       "    <tr>\n",
       "      <th>1</th>\n",
       "      <td>0</td>\n",
       "      <td>12</td>\n",
       "    </tr>\n",
       "  </tbody>\n",
       "</table>\n",
       "</div>"
      ],
      "text/plain": [
       "      0     1\n",
       "0  6060  1048\n",
       "1     0    12"
      ]
     },
     "execution_count": 28,
     "metadata": {},
     "output_type": "execute_result"
    }
   ],
   "source": [
    "# confusion matrix\n",
    "pd.DataFrame(confusion_matrix(y_test, undersampled_pred))"
   ]
  },
  {
   "cell_type": "markdown",
   "metadata": {},
   "source": [
    "The accuracy score (0.85) dropped after downsampling, but the model is predicting the minority class correctly although it performs worse compared to the upsampling technique.\n",
    "\n"
   ]
  },
  {
   "cell_type": "markdown",
   "metadata": {},
   "source": [
    "### Generate Synthetic Samples\n",
    "\n",
    "SMOTE or Synthetic Minority Oversampling Technique is a popular algorithm to create sythetic observations of the minority class."
   ]
  },
  {
   "cell_type": "code",
   "execution_count": 29,
   "metadata": {},
   "outputs": [],
   "source": [
    "from imblearn.over_sampling import SMOTE"
   ]
  },
  {
   "cell_type": "code",
   "execution_count": 30,
   "metadata": {},
   "outputs": [],
   "source": [
    "sm = SMOTE()\n",
    "X_train, y_train = sm.fit_resample(X_train, y_train)"
   ]
  },
  {
   "cell_type": "code",
   "execution_count": 31,
   "metadata": {},
   "outputs": [],
   "source": [
    "smote = LogisticRegression(solver='liblinear').fit(X_train, y_train)\n",
    "smote_pred = smote.predict(X_test)"
   ]
  },
  {
   "cell_type": "code",
   "execution_count": 32,
   "metadata": {},
   "outputs": [
    {
     "data": {
      "text/html": [
       "<div>\n",
       "<style scoped>\n",
       "    .dataframe tbody tr th:only-of-type {\n",
       "        vertical-align: middle;\n",
       "    }\n",
       "\n",
       "    .dataframe tbody tr th {\n",
       "        vertical-align: top;\n",
       "    }\n",
       "\n",
       "    .dataframe thead th {\n",
       "        text-align: right;\n",
       "    }\n",
       "</style>\n",
       "<table border=\"1\" class=\"dataframe\">\n",
       "  <thead>\n",
       "    <tr style=\"text-align: right;\">\n",
       "      <th></th>\n",
       "      <th>0</th>\n",
       "      <th>1</th>\n",
       "    </tr>\n",
       "  </thead>\n",
       "  <tbody>\n",
       "    <tr>\n",
       "      <th>0</th>\n",
       "      <td>6945</td>\n",
       "      <td>163</td>\n",
       "    </tr>\n",
       "    <tr>\n",
       "      <th>1</th>\n",
       "      <td>0</td>\n",
       "      <td>12</td>\n",
       "    </tr>\n",
       "  </tbody>\n",
       "</table>\n",
       "</div>"
      ],
      "text/plain": [
       "      0    1\n",
       "0  6945  163\n",
       "1     0   12"
      ]
     },
     "execution_count": 32,
     "metadata": {},
     "output_type": "execute_result"
    }
   ],
   "source": [
    "# confustion matrix\n",
    "pd.DataFrame(confusion_matrix(y_test, smote_pred))"
   ]
  },
  {
   "cell_type": "code",
   "execution_count": 33,
   "metadata": {},
   "outputs": [
    {
     "name": "stdout",
     "output_type": "stream",
     "text": [
      "              precision    recall  f1-score   support\n",
      "\n",
      "           0       1.00      0.98      0.99      7108\n",
      "           1       0.07      1.00      0.13        12\n",
      "\n",
      "    accuracy                           0.98      7120\n",
      "   macro avg       0.53      0.99      0.56      7120\n",
      "weighted avg       1.00      0.98      0.99      7120\n",
      "\n"
     ]
    }
   ],
   "source": [
    "print(classification_report(y_test, smote_pred))"
   ]
  },
  {
   "cell_type": "markdown",
   "metadata": {},
   "source": [
    "SMOTE performs better than upsampling and downsampling techniques.  "
   ]
  },
  {
   "cell_type": "markdown",
   "metadata": {},
   "source": [
    "# Save your notebook, then `File > Close and Halt`"
   ]
  }
 ],
 "metadata": {
  "kernelspec": {
   "display_name": "Python 3",
   "language": "python",
   "name": "python3"
  },
  "language_info": {
   "codemirror_mode": {
    "name": "ipython",
    "version": 3
   },
   "file_extension": ".py",
   "mimetype": "text/x-python",
   "name": "python",
   "nbconvert_exporter": "python",
   "pygments_lexer": "ipython3",
   "version": "3.7.3"
  }
 },
 "nbformat": 4,
 "nbformat_minor": 4
}
