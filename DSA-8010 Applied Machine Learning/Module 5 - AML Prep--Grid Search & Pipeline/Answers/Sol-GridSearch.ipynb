{
 "cells": [
  {
   "cell_type": "markdown",
   "metadata": {},
   "source": [
    "# Grid Search Practice\n",
    "\n",
    "Grid search is a way of finding better hypermeters, those that define the configuration of the model and not altered by learning of the model.\n",
    "It is also known as Exhaustive Grid Search, because it takes many parameter options and creates a search space with cartesian product and then exhaust and evaluate all of these possibilities.\n",
    "In essence, it is a brute force algorithm.\n",
    "Let's get familiarize with its usage through practice.\n",
    "\n",
    "First, we prepare some data."
   ]
  },
  {
   "cell_type": "code",
   "execution_count": 4,
   "metadata": {},
   "outputs": [],
   "source": [
    "from time import time\n",
    "import os, itertools\n",
    "import matplotlib.pyplot as plt\n",
    "import pandas as pd\n",
    "\n",
    "from sklearn.model_selection import GridSearchCV\n",
    "from sklearn.svm import SVC\n",
    "\n",
    "DATASET = '/dsa/data/all_datasets/titanic_ML/titanic.csv'\n",
    "assert os.path.exists(DATASET)\n",
    "\n",
    "from sklearn.naive_bayes import GaussianNB\n",
    "from sklearn.svm import SVC\n",
    "from sklearn.model_selection import train_test_split\n",
    "\n",
    "dataset = pd.read_csv(DATASET).sample(frac = 1).reset_index(drop=True)\n",
    "X = dataset.iloc[:, :-1]\n",
    "y = dataset.survived\n",
    "\n"
   ]
  },
  {
   "cell_type": "markdown",
   "metadata": {},
   "source": [
    "## Parameter Grid\n",
    "\n",
    "As a model selection approach, the grid search allows you to investigate the optimal choice of model parameters by specifying the variations for each parameter.\n",
    "\n",
    "For example, the SVC model has an error penalty parameter `C` in the model,\n",
    "and we can specify the parameter grid as a dictionary, with the name of the parameter in question, then define the variations of the parameter in a list:\n",
    "\n",
    "```python\n",
    "param_grid = {'C': [1e3, 1e4] }\n",
    "```\n",
    "\n",
    "The dictionary allows us to supply the variations for different parameters:\n",
    "\n",
    "```python\n",
    "param_grid = {'C': [1e3, 1e4],\n",
    "              'gamma': [1e-4, 1e-3], }\n",
    "```\n",
    "\n",
    "Conceptually, the parameter grid dictionary represents a cartesian product of the parameter variations, which contains all the configurations of the models that will be evaluated.  \n",
    "In other words, the above `param_grid` helps to set up the following 4 models to evaluate:\n",
    "\n",
    "```python\n",
    "SVC(C=1e3, gamma=1e-4, ...)\n",
    "SVC(C=1e3, gamma=1e-3, ...)\n",
    "SVC(C=1e4, gamma=1e-4, ...)\n",
    "SVC(C=1e4, gamma=1e-3, ...)\n",
    "```\n",
    "\n",
    "But sometimes this kind of cartesian product will generate too many models, more than desired.\n",
    "We can also provide multiply dictionaries as alternative options.\n",
    "\n",
    "Consider the difference between\n",
    "```python\n",
    "param_grid = [{'C': [1e3, 3e3],\n",
    "              'gamma': [1e-4, 1e-3], },\n",
    "             {'C': [5e2, 1e3],\n",
    "              'gamma': [5e-5, 1e-4], }]\n",
    "=> 2*2+2*2 = 8 models\n",
    "\n",
    "```\n",
    "\n",
    "and\n",
    "\n",
    "```python\n",
    "param_grid = [{'C': [1e3, 3e3, 5e2],\n",
    "              'gamma': [1e-4, 1e-3, 5e-5], }]\n",
    "=> 3*3 = 9 models\n",
    "```\n",
    "\n",
    "## Cross Validation\n",
    "\n",
    "Not only does the Grid Search help you set up various configurations of models, it also sets up cross validation to provide more objective evaluation metrics of these models. `cv` parameter is used to specify number of cross validation folds used for evaluation.\n",
    "\n",
    "## Practice\n",
    "\n",
    "With the parameter grid and cross validation, the grid search results in a lot of computation.\n",
    "However, we can leverage multiple processors available to accelerate the task, with `n_jobs` parameter, although be aware that in your Jupyter server learning environment, there may be resource limits to ensure fairness, i.e. you may not be able to use as many CPU cores as you can see, so we use a relatively low number in that parameter.\n",
    "\n",
    "Now let's practice GridSearchCV usage, create a GridSearchCV, **named `clf`**:\n",
    "\n",
    "1. Create at least 8 models with variations in `C`, `gamma` or your choice.\n",
    "2. Use 5 fold cross validation.\n",
    "3. Use 2 parallel jobs."
   ]
  },
  {
   "cell_type": "code",
   "execution_count": 5,
   "metadata": {},
   "outputs": [],
   "source": [
    "# Add your code for the above task here:   (Question #P001)\n",
    "# ----------------------------------------\n",
    "\n",
    "param_grid = [{'C': [1e3, 3e3],\n",
    "              'gamma': [1e-4, 1e-3], },\n",
    "             {'C': [5e2, 1e3],\n",
    "              'gamma': [5e-5, 1e-4], }]\n",
    "clf = GridSearchCV(SVC(kernel='rbf', class_weight='balanced'), param_grid, cv=5, n_jobs=2)\n"
   ]
  },
  {
   "cell_type": "markdown",
   "metadata": {},
   "source": [
    "Fit the model to loaded data `X` and `y`"
   ]
  },
  {
   "cell_type": "code",
   "execution_count": 6,
   "metadata": {},
   "outputs": [
    {
     "data": {
      "text/plain": [
       "GridSearchCV(cv=5, estimator=SVC(class_weight='balanced'), n_jobs=2,\n",
       "             param_grid=[{'C': [1000.0, 3000.0], 'gamma': [0.0001, 0.001]},\n",
       "                         {'C': [500.0, 1000.0], 'gamma': [5e-05, 0.0001]}])"
      ]
     },
     "execution_count": 6,
     "metadata": {},
     "output_type": "execute_result"
    }
   ],
   "source": [
    "# Add your code for the above task here:   (Question #P002)\n",
    "# ----------------------------------------\n",
    "\n",
    "clf.fit(X, y)"
   ]
  },
  {
   "cell_type": "code",
   "execution_count": 7,
   "metadata": {},
   "outputs": [
    {
     "data": {
      "text/plain": [
       "SVC(C=3000.0, class_weight='balanced', gamma=0.0001)"
      ]
     },
     "execution_count": 7,
     "metadata": {},
     "output_type": "execute_result"
    }
   ],
   "source": [
    "clf.best_estimator_"
   ]
  },
  {
   "cell_type": "markdown",
   "metadata": {},
   "source": [
    "The GridSearchCV creates an abstract classifier, once trained with cross validation, the returned object itself can be used as a classifier that represent the optimal classifier within the given hyperparameter space.\n",
    "For example, from the example above, `clf` will have many familiar methods like `.predict()`, `.score()`.\n",
    "\n",
    "In addition, `clf.best_estimator_` gives you access to the best model chosen; `clf.best_score_` stores the accuracy score for the best model as well; `clf.cv_results_` provides details on cross validation.\n"
   ]
  },
  {
   "cell_type": "code",
   "execution_count": 8,
   "metadata": {},
   "outputs": [
    {
     "data": {
      "text/plain": [
       "{'mean_fit_time': array([0.05818453, 0.12597589, 0.10853968, 0.30058722, 0.03143687,\n",
       "        0.03428497, 0.04753122, 0.05731621]),\n",
       " 'std_fit_time': array([0.01372866, 0.02213684, 0.0162085 , 0.02620725, 0.00871762,\n",
       "        0.00427472, 0.00687117, 0.01393736]),\n",
       " 'mean_score_time': array([0.00649762, 0.00619154, 0.00605545, 0.0059454 , 0.007125  ,\n",
       "        0.00657101, 0.00654702, 0.00628419]),\n",
       " 'std_score_time': array([0.00037392, 0.00023757, 0.000225  , 0.00017001, 0.00020458,\n",
       "        0.00015641, 0.00022269, 0.00021558]),\n",
       " 'param_C': masked_array(data=[1000.0, 1000.0, 3000.0, 3000.0, 500.0, 500.0, 1000.0,\n",
       "                    1000.0],\n",
       "              mask=[False, False, False, False, False, False, False, False],\n",
       "        fill_value='?',\n",
       "             dtype=object),\n",
       " 'param_gamma': masked_array(data=[0.0001, 0.001, 0.0001, 0.001, 5e-05, 0.0001, 5e-05,\n",
       "                    0.0001],\n",
       "              mask=[False, False, False, False, False, False, False, False],\n",
       "        fill_value='?',\n",
       "             dtype=object),\n",
       " 'params': [{'C': 1000.0, 'gamma': 0.0001},\n",
       "  {'C': 1000.0, 'gamma': 0.001},\n",
       "  {'C': 3000.0, 'gamma': 0.0001},\n",
       "  {'C': 3000.0, 'gamma': 0.001},\n",
       "  {'C': 500.0, 'gamma': 5e-05},\n",
       "  {'C': 500.0, 'gamma': 0.0001},\n",
       "  {'C': 1000.0, 'gamma': 5e-05},\n",
       "  {'C': 1000.0, 'gamma': 0.0001}],\n",
       " 'split0_test_score': array([0.76404494, 0.69662921, 0.76966292, 0.70786517, 0.75842697,\n",
       "        0.75842697, 0.76404494, 0.76404494]),\n",
       " 'split1_test_score': array([0.79775281, 0.79213483, 0.80898876, 0.7752809 , 0.80337079,\n",
       "        0.80898876, 0.80337079, 0.79775281]),\n",
       " 'split2_test_score': array([0.73033708, 0.76966292, 0.74719101, 0.76404494, 0.73033708,\n",
       "        0.73595506, 0.73033708, 0.73033708]),\n",
       " 'split3_test_score': array([0.71348315, 0.74719101, 0.74157303, 0.71910112, 0.71348315,\n",
       "        0.71348315, 0.71348315, 0.71348315]),\n",
       " 'split4_test_score': array([0.80898876, 0.82022472, 0.81460674, 0.79775281, 0.8258427 ,\n",
       "        0.8258427 , 0.82022472, 0.80898876]),\n",
       " 'mean_test_score': array([0.76292135, 0.76516854, 0.77640449, 0.75280899, 0.76629213,\n",
       "        0.76853933, 0.76629213, 0.76292135]),\n",
       " 'std_test_score': array([0.03699343, 0.04195091, 0.03044094, 0.03408034, 0.04257819,\n",
       "        0.04269663, 0.04091492, 0.03699343]),\n",
       " 'rank_test_score': array([6, 5, 1, 8, 3, 2, 4, 6], dtype=int32)}"
      ]
     },
     "execution_count": 8,
     "metadata": {},
     "output_type": "execute_result"
    }
   ],
   "source": [
    "clf.cv_results_"
   ]
  },
  {
   "cell_type": "markdown",
   "metadata": {},
   "source": [
    "Now from `clf.cv_results_`, can you find where did the value of `clf.best_score_` come from?\n",
    "\n",
    "Copy-paste the key/value pair from `clf.cv_results_` that shows the source of `clf.best_score_` below:"
   ]
  },
  {
   "cell_type": "raw",
   "metadata": {},
   "source": [
    "# Enter your answer below   (Question #P4203)\n",
    "# ----------------------------------------\n",
    "\n",
    "\n",
    "\n",
    "\n",
    "\n"
   ]
  },
  {
   "cell_type": "markdown",
   "metadata": {},
   "source": [
    "Which was the fastest model to train? What were the parameters to the fastest model?"
   ]
  },
  {
   "cell_type": "raw",
   "metadata": {},
   "source": [
    "# Enter your answer below   (Question #P4204)\n",
    "# ----------------------------------------\n",
    "\n",
    "\n",
    "\n",
    "\n"
   ]
  },
  {
   "cell_type": "markdown",
   "metadata": {},
   "source": [
    "Run a prediction on the first 5 data samples from `X`."
   ]
  },
  {
   "cell_type": "code",
   "execution_count": 9,
   "metadata": {},
   "outputs": [
    {
     "data": {
      "text/plain": [
       "array([0, 0, 0, 0, 0])"
      ]
     },
     "execution_count": 9,
     "metadata": {},
     "output_type": "execute_result"
    }
   ],
   "source": [
    "# Enter your answer below   (Question #P4205)\n",
    "# ----------------------------------------\n",
    "\n",
    "clf.predict(X[:5])\n"
   ]
  }
 ],
 "metadata": {
  "kernelspec": {
   "display_name": "Python 3",
   "language": "python",
   "name": "python3"
  },
  "language_info": {
   "codemirror_mode": {
    "name": "ipython",
    "version": 3
   },
   "file_extension": ".py",
   "mimetype": "text/x-python",
   "name": "python",
   "nbconvert_exporter": "python",
   "pygments_lexer": "ipython3",
   "version": "3.7.3"
  }
 },
 "nbformat": 4,
 "nbformat_minor": 4
}
