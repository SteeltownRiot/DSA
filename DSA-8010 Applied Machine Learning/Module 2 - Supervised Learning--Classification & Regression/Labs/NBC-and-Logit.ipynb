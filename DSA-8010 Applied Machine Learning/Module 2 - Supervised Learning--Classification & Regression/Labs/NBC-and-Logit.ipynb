{
 "cells": [
  {
   "cell_type": "markdown",
   "metadata": {},
   "source": [
    "# Train, Validate $\\rightarrow$ Train, Test \n",
    "### Focus: Naive Bayes Classifier & Logistic Regression"
   ]
  },
  {
   "cell_type": "markdown",
   "metadata": {},
   "source": [
    "## Introduction\n",
    "When constructing a model, data availability may become an issue. \n",
    "In order to avoid overfitting, it is necessary to withhold some portion of the data as a test set. \n",
    "However, overfitting *on the test set* may also occur without a secondary validation step. \n",
    "As such, `scikit` contains a number of methods for cross-validation of data.\n",
    "\n",
    "## References\n",
    "1. [Scikit documentation - GaussianNB](http://scikit-learn.org/stable/modules/generated/sklearn.naive_bayes.GaussianNB.html)\n",
    "\n",
    "## Setting up the model"
   ]
  },
  {
   "cell_type": "code",
   "execution_count": 1,
   "metadata": {},
   "outputs": [],
   "source": [
    "%matplotlib inline\n",
    "import matplotlib.pyplot as plt\n",
    "import numpy as np\n",
    "import pandas as pd\n",
    "from sklearn.datasets import load_iris\n",
    "from sklearn.model_selection import cross_val_score, train_test_split\n",
    "from sklearn.metrics import classification_report\n",
    "from sklearn.naive_bayes import GaussianNB\n",
    "from sklearn.linear_model import LogisticRegression\n",
    "from sklearn.dummy import DummyClassifier\n",
    "from collections import OrderedDict\n",
    "\n",
    "# load dataset \n",
    "\n",
    "DATASET = '/dsa/data/all_datasets/wine-quality/winequality-red.csv'\n",
    "dataset = pd.read_csv(DATASET, sep=';').sample(frac = 1).reset_index(drop=True)\n",
    "X = dataset.iloc[:, [1,2,6,9,10]]\n",
    "y = dataset.quality\n",
    "\n"
   ]
  },
  {
   "cell_type": "code",
   "execution_count": 2,
   "metadata": {},
   "outputs": [
    {
     "data": {
      "text/html": [
       "<div>\n",
       "<style scoped>\n",
       "    .dataframe tbody tr th:only-of-type {\n",
       "        vertical-align: middle;\n",
       "    }\n",
       "\n",
       "    .dataframe tbody tr th {\n",
       "        vertical-align: top;\n",
       "    }\n",
       "\n",
       "    .dataframe thead th {\n",
       "        text-align: right;\n",
       "    }\n",
       "</style>\n",
       "<table border=\"1\" class=\"dataframe\">\n",
       "  <thead>\n",
       "    <tr style=\"text-align: right;\">\n",
       "      <th></th>\n",
       "      <th>fixed acidity</th>\n",
       "      <th>volatile acidity</th>\n",
       "      <th>citric acid</th>\n",
       "      <th>residual sugar</th>\n",
       "      <th>chlorides</th>\n",
       "      <th>free sulfur dioxide</th>\n",
       "      <th>total sulfur dioxide</th>\n",
       "      <th>density</th>\n",
       "      <th>pH</th>\n",
       "      <th>sulphates</th>\n",
       "      <th>alcohol</th>\n",
       "      <th>quality</th>\n",
       "    </tr>\n",
       "  </thead>\n",
       "  <tbody>\n",
       "    <tr>\n",
       "      <th>0</th>\n",
       "      <td>6.8</td>\n",
       "      <td>0.560</td>\n",
       "      <td>0.22</td>\n",
       "      <td>1.8</td>\n",
       "      <td>0.074</td>\n",
       "      <td>15.0</td>\n",
       "      <td>24.0</td>\n",
       "      <td>0.99438</td>\n",
       "      <td>3.40</td>\n",
       "      <td>0.82</td>\n",
       "      <td>11.2</td>\n",
       "      <td>6</td>\n",
       "    </tr>\n",
       "    <tr>\n",
       "      <th>1</th>\n",
       "      <td>9.8</td>\n",
       "      <td>0.510</td>\n",
       "      <td>0.19</td>\n",
       "      <td>3.2</td>\n",
       "      <td>0.081</td>\n",
       "      <td>8.0</td>\n",
       "      <td>30.0</td>\n",
       "      <td>0.99840</td>\n",
       "      <td>3.23</td>\n",
       "      <td>0.58</td>\n",
       "      <td>10.5</td>\n",
       "      <td>6</td>\n",
       "    </tr>\n",
       "    <tr>\n",
       "      <th>2</th>\n",
       "      <td>8.5</td>\n",
       "      <td>0.655</td>\n",
       "      <td>0.49</td>\n",
       "      <td>6.1</td>\n",
       "      <td>0.122</td>\n",
       "      <td>34.0</td>\n",
       "      <td>151.0</td>\n",
       "      <td>1.00100</td>\n",
       "      <td>3.31</td>\n",
       "      <td>1.14</td>\n",
       "      <td>9.3</td>\n",
       "      <td>5</td>\n",
       "    </tr>\n",
       "    <tr>\n",
       "      <th>3</th>\n",
       "      <td>6.9</td>\n",
       "      <td>0.560</td>\n",
       "      <td>0.03</td>\n",
       "      <td>1.5</td>\n",
       "      <td>0.086</td>\n",
       "      <td>36.0</td>\n",
       "      <td>46.0</td>\n",
       "      <td>0.99522</td>\n",
       "      <td>3.53</td>\n",
       "      <td>0.57</td>\n",
       "      <td>10.6</td>\n",
       "      <td>5</td>\n",
       "    </tr>\n",
       "    <tr>\n",
       "      <th>4</th>\n",
       "      <td>8.7</td>\n",
       "      <td>0.540</td>\n",
       "      <td>0.26</td>\n",
       "      <td>2.5</td>\n",
       "      <td>0.097</td>\n",
       "      <td>7.0</td>\n",
       "      <td>31.0</td>\n",
       "      <td>0.99760</td>\n",
       "      <td>3.27</td>\n",
       "      <td>0.60</td>\n",
       "      <td>9.3</td>\n",
       "      <td>6</td>\n",
       "    </tr>\n",
       "  </tbody>\n",
       "</table>\n",
       "</div>"
      ],
      "text/plain": [
       "   fixed acidity  volatile acidity  citric acid  residual sugar  chlorides  \\\n",
       "0            6.8             0.560         0.22             1.8      0.074   \n",
       "1            9.8             0.510         0.19             3.2      0.081   \n",
       "2            8.5             0.655         0.49             6.1      0.122   \n",
       "3            6.9             0.560         0.03             1.5      0.086   \n",
       "4            8.7             0.540         0.26             2.5      0.097   \n",
       "\n",
       "   free sulfur dioxide  total sulfur dioxide  density    pH  sulphates  \\\n",
       "0                 15.0                  24.0  0.99438  3.40       0.82   \n",
       "1                  8.0                  30.0  0.99840  3.23       0.58   \n",
       "2                 34.0                 151.0  1.00100  3.31       1.14   \n",
       "3                 36.0                  46.0  0.99522  3.53       0.57   \n",
       "4                  7.0                  31.0  0.99760  3.27       0.60   \n",
       "\n",
       "   alcohol  quality  \n",
       "0     11.2        6  \n",
       "1     10.5        6  \n",
       "2      9.3        5  \n",
       "3     10.6        5  \n",
       "4      9.3        6  "
      ]
     },
     "execution_count": 2,
     "metadata": {},
     "output_type": "execute_result"
    }
   ],
   "source": [
    "dataset.head()"
   ]
  },
  {
   "cell_type": "code",
   "execution_count": null,
   "metadata": {},
   "outputs": [],
   "source": [
    "\n",
    "\n"
   ]
  },
  {
   "cell_type": "code",
   "execution_count": 3,
   "metadata": {},
   "outputs": [],
   "source": [
    "# test split\n",
    "X_train, X_test, y_train, y_test = train_test_split(X, y, test_size=0.2)\n",
    "\n"
   ]
  },
  {
   "cell_type": "markdown",
   "metadata": {},
   "source": [
    "## Scaling"
   ]
  },
  {
   "cell_type": "code",
   "execution_count": 4,
   "metadata": {},
   "outputs": [],
   "source": [
    "from sklearn.preprocessing import MinMaxScaler\n",
    "\n",
    "scaler = MinMaxScaler().fit(X_train)  \n",
    "# fitting should always be performed with X_train (y_train is labeled; so scaling is not required)\n",
    "# we assume that we don't have access to X_test, y_test\n",
    "\n",
    "\n",
    "X_train_std = scaler.transform(X_train)\n",
    "X_test_std = scaler.transform(X_test)"
   ]
  },
  {
   "cell_type": "markdown",
   "metadata": {},
   "source": [
    "## Define Classifiers"
   ]
  },
  {
   "cell_type": "code",
   "execution_count": 5,
   "metadata": {},
   "outputs": [],
   "source": [
    "baseline_classifier = DummyClassifier()\n",
    "nb_classifier = GaussianNB()\n",
    "regression_classifier = LogisticRegression(max_iter = 5000)"
   ]
  },
  {
   "cell_type": "markdown",
   "metadata": {},
   "source": [
    "## Cross-validation\n",
    "Though a manual CV workflow was described in [the cross-validation lab](./CrossValidation.ipynb), the automated `cross_val_score()` will work well enough for this example."
   ]
  },
  {
   "cell_type": "code",
   "execution_count": 6,
   "metadata": {},
   "outputs": [
    {
     "name": "stdout",
     "output_type": "stream",
     "text": [
      "baseline score  [0.42578125 0.42578125 0.42578125 0.42578125 0.42745098]\n",
      "NB score : [0.60546875 0.58203125 0.578125   0.58984375 0.56862745]\n",
      "Logistic Regression score:  [0.57421875 0.59765625 0.58203125 0.59765625 0.56470588]\n"
     ]
    }
   ],
   "source": [
    "# automated CV step\n",
    "baseline_scores = cross_val_score(baseline_classifier, X_train, y_train, cv=5)\n",
    "nb_scores = cross_val_score(nb_classifier, X_train, y_train, cv=5)\n",
    "regression_scores = cross_val_score(regression_classifier, X_train, y_train, cv=5)\n",
    "print(\"baseline score \", baseline_scores) # TODO: visualization of CV process\n",
    "print(\"NB score :\", nb_scores)\n",
    "print(\"Logistic Regression score: \", regression_scores)\n"
   ]
  },
  {
   "cell_type": "markdown",
   "metadata": {},
   "source": [
    "Note that we are performing cross validation with the training set. These cross-validation values represent how well (with 1 being a perfect score) the model performed against a small, as-yet-untrained portion of the data for the classification task.\n",
    "\n",
    "## Training the new models\n",
    "\n",
    "Since the CV values for NBC and logistic regression are higher than the baseline, we can create a model using all the data in the training set and test against the testing set:"
   ]
  },
  {
   "cell_type": "code",
   "execution_count": 7,
   "metadata": {},
   "outputs": [],
   "source": [
    "# fit new model\n",
    "baseline_classifier.fit(X_train, y_train)\n",
    "nb_classifier.fit(X_train, y_train)\n",
    "regression_classifier.fit(X_train, y_train)\n",
    "\n",
    "# model.predict() returns class labels (integers)\n",
    "y_pred_baseline = baseline_classifier.predict(X_test)\n",
    "y_pred_nb = nb_classifier.predict(X_test)\n",
    "y_pred_reg = regression_classifier.predict(X_test)\n"
   ]
  },
  {
   "cell_type": "code",
   "execution_count": 8,
   "metadata": {},
   "outputs": [
    {
     "name": "stdout",
     "output_type": "stream",
     "text": [
      "              precision    recall  f1-score   support\n",
      "\n",
      "           4       0.00      0.00      0.00        11\n",
      "           5       0.65      0.78      0.71       136\n",
      "           6       0.56      0.50      0.53       130\n",
      "           7       0.43      0.43      0.43        37\n",
      "           8       0.00      0.00      0.00         6\n",
      "\n",
      "    accuracy                           0.58       320\n",
      "   macro avg       0.33      0.34      0.33       320\n",
      "weighted avg       0.55      0.58      0.57       320\n",
      "\n"
     ]
    },
    {
     "name": "stderr",
     "output_type": "stream",
     "text": [
      "/opt/conda/lib/python3.7/site-packages/sklearn/metrics/_classification.py:1245: UndefinedMetricWarning: Precision and F-score are ill-defined and being set to 0.0 in labels with no predicted samples. Use `zero_division` parameter to control this behavior.\n",
      "  _warn_prf(average, modifier, msg_start, len(result))\n",
      "/opt/conda/lib/python3.7/site-packages/sklearn/metrics/_classification.py:1245: UndefinedMetricWarning: Precision and F-score are ill-defined and being set to 0.0 in labels with no predicted samples. Use `zero_division` parameter to control this behavior.\n",
      "  _warn_prf(average, modifier, msg_start, len(result))\n",
      "/opt/conda/lib/python3.7/site-packages/sklearn/metrics/_classification.py:1245: UndefinedMetricWarning: Precision and F-score are ill-defined and being set to 0.0 in labels with no predicted samples. Use `zero_division` parameter to control this behavior.\n",
      "  _warn_prf(average, modifier, msg_start, len(result))\n"
     ]
    },
    {
     "data": {
      "text/plain": [
       "array([[  0,   8,   3,   0,   0],\n",
       "       [  2, 106,  27,   1,   0],\n",
       "       [  1,  48,  65,  16,   0],\n",
       "       [  0,   1,  20,  16,   0],\n",
       "       [  0,   0,   2,   4,   0]])"
      ]
     },
     "execution_count": 8,
     "metadata": {},
     "output_type": "execute_result"
    }
   ],
   "source": [
    "from sklearn.metrics import classification_report, confusion_matrix\n",
    "\n",
    "print(classification_report(y_test, y_pred_nb))\n",
    "confusion_matrix(y_test, y_pred_nb)"
   ]
  },
  {
   "cell_type": "markdown",
   "metadata": {},
   "source": [
    "## Score comparision between the three models. \n",
    "Score shows that bayes classifier is better that baseline. \n",
    "Again Regression is better in score than Bayes classifier. \n",
    "\n",
    "For comparision we used all the given features. But you can try out several amount of features to test the models. \n",
    "if we increase the number of features then accuracy will increase. but it will require more computation to converge. \n",
    "Again reduction of number of features will loose accuracy. We need to trade-off between computation power and accuracy. "
   ]
  },
  {
   "cell_type": "code",
   "execution_count": 9,
   "metadata": {},
   "outputs": [
    {
     "name": "stdout",
     "output_type": "stream",
     "text": [
      "  Metrics  Baseline  Naive Bayes  Logistic Regression\n",
      "Precision      0.18         0.55                 0.55\n",
      "   Recall      0.42         0.58                 0.59\n",
      "       F1      0.25         0.57                 0.56\n",
      "   Recall      0.42         0.58                 0.59\n"
     ]
    },
    {
     "name": "stderr",
     "output_type": "stream",
     "text": [
      "/opt/conda/lib/python3.7/site-packages/sklearn/metrics/_classification.py:1245: UndefinedMetricWarning: Precision is ill-defined and being set to 0.0 in labels with no predicted samples. Use `zero_division` parameter to control this behavior.\n",
      "  _warn_prf(average, modifier, msg_start, len(result))\n",
      "/opt/conda/lib/python3.7/site-packages/sklearn/metrics/_classification.py:1245: UndefinedMetricWarning: Precision is ill-defined and being set to 0.0 in labels with no predicted samples. Use `zero_division` parameter to control this behavior.\n",
      "  _warn_prf(average, modifier, msg_start, len(result))\n",
      "/opt/conda/lib/python3.7/site-packages/sklearn/metrics/_classification.py:1245: UndefinedMetricWarning: Precision is ill-defined and being set to 0.0 in labels with no predicted samples. Use `zero_division` parameter to control this behavior.\n",
      "  _warn_prf(average, modifier, msg_start, len(result))\n"
     ]
    }
   ],
   "source": [
    "from sklearn.metrics import precision_score, f1_score, recall_score, accuracy_score\n",
    "from pandas import DataFrame\n",
    "from IPython.display import display \n",
    "\n",
    "data_dict = {\n",
    "    'Metrics': [\"Precision\", 'Recall', 'F1', 'Recall'],\n",
    "    'Baseline': [\n",
    "        precision_score(y_test, y_pred_baseline, average= 'weighted'),  # weighted precision over all the classes\n",
    "        recall_score(y_test, y_pred_baseline, average='weighted'),\n",
    "        f1_score(y_test, y_pred_baseline, average='weighted'),\n",
    "        accuracy_score(y_test, y_pred_baseline)\n",
    "    ],\n",
    "    \"Naive Bayes\": [\n",
    "        precision_score(y_test, y_pred_nb, average= 'weighted'),\n",
    "        recall_score(y_test, y_pred_nb, average='weighted'),\n",
    "        f1_score(y_test, y_pred_nb, average='weighted'),\n",
    "        accuracy_score(y_test, y_pred_nb)\n",
    "    ],\n",
    "    \"Logistic Regression\": [\n",
    "        precision_score(y_test, y_pred_reg, average= 'weighted'),\n",
    "        recall_score(y_test, y_pred_reg, average='weighted'),\n",
    "        f1_score(y_test, y_pred_reg, average='weighted'),\n",
    "        accuracy_score(y_test, y_pred_reg)\n",
    "    ]\n",
    "}\n",
    "table = np.around(DataFrame(data_dict), 2)\n",
    "print(table.to_string(index=False))"
   ]
  },
  {
   "cell_type": "markdown",
   "metadata": {},
   "source": [
    "The above cell may throw warning as for some of the class labels `division by 0` error occurred while averaging the precision scores over class labels. You can see the formula for calculating performance measures for multi-label classification problem [here](https://scikit-learn.org/stable/modules/model_evaluation.html#precision-recall-f-measure-metrics). Here is the screenshot: \n",
    "\n",
    "<img src=\"./multi-label-performance-measure.jpg\" />"
   ]
  },
  {
   "cell_type": "markdown",
   "metadata": {},
   "source": [
    "**Comment:**\n",
    "\n",
    "* The naive Bayes classifier and logistic regression perform equally well as there is no significant differences between these two in terms of these four measures. \n",
    "* Warning is thrown as for some of the classes precision is 0"
   ]
  }
 ],
 "metadata": {
  "kernelspec": {
   "display_name": "Python 3",
   "language": "python",
   "name": "python3"
  },
  "language_info": {
   "codemirror_mode": {
    "name": "ipython",
    "version": 3
   },
   "file_extension": ".py",
   "mimetype": "text/x-python",
   "name": "python",
   "nbconvert_exporter": "python",
   "pygments_lexer": "ipython3",
   "version": "3.7.3"
  }
 },
 "nbformat": 4,
 "nbformat_minor": 4
}
