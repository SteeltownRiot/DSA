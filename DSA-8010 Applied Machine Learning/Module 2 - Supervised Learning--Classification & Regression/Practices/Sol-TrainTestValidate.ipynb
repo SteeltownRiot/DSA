{
 "cells": [
  {
   "cell_type": "markdown",
   "metadata": {},
   "source": [
    "# Practice: Train, Validate --> Train, Test\n",
    "In this practice you will revisit the cross-validation process to evaluate and then fully train a classification model on the (**ANYTHING OTHER THAN IRIS**) dataset using the `GaussianNB` classifier.\n",
    "\n",
    "* Split the data into training and test sets\n",
    "* Using the training set perform cross validation\n",
    "* Evaluate the model on the test set\n",
    "\n",
    "## Required resources and imports"
   ]
  },
  {
   "cell_type": "code",
   "execution_count": 1,
   "metadata": {},
   "outputs": [],
   "source": [
    "# Add your code below this comment (Question #P2101)\n",
    "# ----------------------------------\n",
    "# note: you will need a few other things here - come back and import them later\n",
    "import numpy as np\n",
    "import matplotlib.pyplot as plt\n",
    "from sklearn.datasets import load_digits\n",
    "from sklearn.model_selection import train_test_split, cross_val_score\n",
    "from sklearn.naive_bayes import GaussianNB\n",
    "from collections import OrderedDict\n",
    "from sklearn.metrics import classification_report"
   ]
  },
  {
   "cell_type": "markdown",
   "metadata": {},
   "source": [
    "## Model construction"
   ]
  },
  {
   "cell_type": "code",
   "execution_count": 2,
   "metadata": {},
   "outputs": [
    {
     "name": "stdout",
     "output_type": "stream",
     "text": [
      "Help on function load_digits in module sklearn.datasets._base:\n",
      "\n",
      "load_digits(*, n_class=10, return_X_y=False, as_frame=False)\n",
      "    Load and return the digits dataset (classification).\n",
      "    \n",
      "    Each datapoint is a 8x8 image of a digit.\n",
      "    \n",
      "    =================   ==============\n",
      "    Classes                         10\n",
      "    Samples per class             ~180\n",
      "    Samples total                 1797\n",
      "    Dimensionality                  64\n",
      "    Features             integers 0-16\n",
      "    =================   ==============\n",
      "    \n",
      "    Read more in the :ref:`User Guide <digits_dataset>`.\n",
      "    \n",
      "    Parameters\n",
      "    ----------\n",
      "    n_class : int, default=10\n",
      "        The number of classes to return. Between 0 and 10.\n",
      "    \n",
      "    return_X_y : bool, default=False\n",
      "        If True, returns ``(data, target)`` instead of a Bunch object.\n",
      "        See below for more information about the `data` and `target` object.\n",
      "    \n",
      "        .. versionadded:: 0.18\n",
      "    \n",
      "    as_frame : bool, default=False\n",
      "        If True, the data is a pandas DataFrame including columns with\n",
      "        appropriate dtypes (numeric). The target is\n",
      "        a pandas DataFrame or Series depending on the number of target columns.\n",
      "        If `return_X_y` is True, then (`data`, `target`) will be pandas\n",
      "        DataFrames or Series as described below.\n",
      "    \n",
      "        .. versionadded:: 0.23\n",
      "    \n",
      "    Returns\n",
      "    -------\n",
      "    data : :class:`~sklearn.utils.Bunch`\n",
      "        Dictionary-like object, with the following attributes.\n",
      "    \n",
      "        data : {ndarray, dataframe} of shape (1797, 64)\n",
      "            The flattened data matrix. If `as_frame=True`, `data` will be\n",
      "            a pandas DataFrame.\n",
      "        target: {ndarray, Series} of shape (1797,)\n",
      "            The classification target. If `as_frame=True`, `target` will be\n",
      "            a pandas Series.\n",
      "        feature_names: list\n",
      "            The names of the dataset columns.\n",
      "        target_names: list\n",
      "            The names of target classes.\n",
      "    \n",
      "            .. versionadded:: 0.20\n",
      "    \n",
      "        frame: DataFrame of shape (1797, 65)\n",
      "            Only present when `as_frame=True`. DataFrame with `data` and\n",
      "            `target`.\n",
      "    \n",
      "            .. versionadded:: 0.23\n",
      "        images: {ndarray} of shape (1797, 8, 8)\n",
      "            The raw image data.\n",
      "        DESCR: str\n",
      "            The full description of the dataset.\n",
      "    \n",
      "    (data, target) : tuple if ``return_X_y`` is True\n",
      "    \n",
      "        .. versionadded:: 0.18\n",
      "    \n",
      "    This is a copy of the test set of the UCI ML hand-written digits datasets\n",
      "    https://archive.ics.uci.edu/ml/datasets/Optical+Recognition+of+Handwritten+Digits\n",
      "    \n",
      "    Examples\n",
      "    --------\n",
      "    To load the data and visualize the images::\n",
      "    \n",
      "        >>> from sklearn.datasets import load_digits\n",
      "        >>> digits = load_digits()\n",
      "        >>> print(digits.data.shape)\n",
      "        (1797, 64)\n",
      "        >>> import matplotlib.pyplot as plt #doctest: +SKIP\n",
      "        >>> plt.gray() #doctest: +SKIP\n",
      "        >>> plt.matshow(digits.images[0]) #doctest: +SKIP\n",
      "        >>> plt.show() #doctest: +SKIP\n",
      "\n"
     ]
    }
   ],
   "source": [
    "# Add your code below this comment (Question #P2102)\n",
    "# ----------------------------------\n",
    "# load dataset (we're working with the digits dataset)\n",
    "raw = load_digits()\n",
    "help(load_digits)"
   ]
  },
  {
   "cell_type": "code",
   "execution_count": 3,
   "metadata": {},
   "outputs": [],
   "source": [
    "# TODO: split raw into X and Y sets\n",
    "X = raw.data\n",
    "y = raw.target\n"
   ]
  },
  {
   "cell_type": "code",
   "execution_count": 4,
   "metadata": {},
   "outputs": [],
   "source": [
    "# TODO: perform a validation split, reserving 30% of the data for testing\n",
    "X_train, X_test, y_train, y_test = train_test_split(X, y, test_size=0.3)\n"
   ]
  },
  {
   "cell_type": "markdown",
   "metadata": {},
   "source": [
    "It is better not to perform scaling on this dataset. Why? (Check the article in the reading section)"
   ]
  },
  {
   "cell_type": "code",
   "execution_count": 5,
   "metadata": {},
   "outputs": [],
   "source": [
    "# we'll use the Gaussian Naive Bayes classifier\n",
    "classifier = GaussianNB()\n"
   ]
  },
  {
   "cell_type": "code",
   "execution_count": 6,
   "metadata": {},
   "outputs": [
    {
     "data": {
      "text/plain": [
       "array([[ 0.,  0.,  9., ...,  6.,  0.,  0.],\n",
       "       [ 0.,  0.,  2., ...,  0.,  0.,  0.],\n",
       "       [ 0.,  0.,  0., ..., 15.,  9.,  0.],\n",
       "       ...,\n",
       "       [ 0.,  0.,  3., ...,  8.,  0.,  0.],\n",
       "       [ 0.,  0.,  8., ...,  2.,  0.,  0.],\n",
       "       [ 0.,  0., 10., ..., 16., 14.,  0.]])"
      ]
     },
     "execution_count": 6,
     "metadata": {},
     "output_type": "execute_result"
    }
   ],
   "source": [
    "X_train"
   ]
  },
  {
   "cell_type": "markdown",
   "metadata": {},
   "source": [
    "## Cross-validation"
   ]
  },
  {
   "cell_type": "code",
   "execution_count": 7,
   "metadata": {},
   "outputs": [
    {
     "name": "stdout",
     "output_type": "stream",
     "text": [
      "[0.84126984 0.8968254  0.85714286 0.84920635 0.86507937 0.85714286\n",
      " 0.87301587 0.832      0.88       0.84      ]\n"
     ]
    }
   ],
   "source": [
    "# Add your code below this comment (Question #P203)\n",
    "# ----------------------------------\n",
    "# perform 10-fold *automated* cross-validation on the data\n",
    "scores = cross_val_score(classifier, X_train, y_train, cv=10)\n",
    "print(scores) # this should print out a 10-item array"
   ]
  },
  {
   "cell_type": "code",
   "execution_count": 8,
   "metadata": {},
   "outputs": [
    {
     "data": {
      "text/plain": [
       "0.8591682539682541"
      ]
     },
     "execution_count": 8,
     "metadata": {},
     "output_type": "execute_result"
    }
   ],
   "source": [
    "np.mean(scores)"
   ]
  },
  {
   "cell_type": "markdown",
   "metadata": {},
   "source": [
    "## Fully train the model"
   ]
  },
  {
   "cell_type": "code",
   "execution_count": 9,
   "metadata": {},
   "outputs": [
    {
     "data": {
      "text/plain": [
       "GaussianNB()"
      ]
     },
     "execution_count": 9,
     "metadata": {},
     "output_type": "execute_result"
    }
   ],
   "source": [
    "# Add your code below this comment (Question #P204)\n",
    "# ----------------------------------\n",
    "# TODO: re-fit a model to the data\n",
    "classifier.fit(X_train, y_train)"
   ]
  },
  {
   "cell_type": "markdown",
   "metadata": {},
   "source": [
    "## Test final model performance"
   ]
  },
  {
   "cell_type": "code",
   "execution_count": 10,
   "metadata": {},
   "outputs": [
    {
     "name": "stdout",
     "output_type": "stream",
     "text": [
      "              precision    recall  f1-score   support\n",
      "\n",
      "           0       1.00      1.00      1.00        54\n",
      "           1       0.96      0.77      0.85        57\n",
      "           2       0.84      0.78      0.81        55\n",
      "           3       0.93      0.70      0.80        57\n",
      "           4       1.00      0.90      0.95        58\n",
      "           5       0.90      0.83      0.87        54\n",
      "           6       0.97      0.98      0.97        57\n",
      "           7       0.69      1.00      0.81        48\n",
      "           8       0.51      0.81      0.62        47\n",
      "           9       0.90      0.70      0.79        53\n",
      "\n",
      "    accuracy                           0.85       540\n",
      "   macro avg       0.87      0.85      0.85       540\n",
      "weighted avg       0.88      0.85      0.85       540\n",
      "\n"
     ]
    }
   ],
   "source": [
    "# GaussianNB.predict() returns class labels (integers)\n",
    "y_pred = classifier.predict(X_test)\n",
    "\n",
    "print(classification_report(y_test, y_pred))"
   ]
  },
  {
   "cell_type": "markdown",
   "metadata": {},
   "source": [
    "## Save model to disk via pickling"
   ]
  },
  {
   "cell_type": "code",
   "execution_count": 11,
   "metadata": {},
   "outputs": [
    {
     "data": {
      "text/plain": [
       "['GaussianDigits.pkl']"
      ]
     },
     "execution_count": 11,
     "metadata": {},
     "output_type": "execute_result"
    }
   ],
   "source": [
    "# Add your code below this comment (Question #P2105)\n",
    "# ----------------------------------\n",
    "# TODO: pickle model to disk as \"GaussianDigits.pkl\"\n",
    "import joblib\n",
    "joblib.dump(classifier, 'GaussianDigits.pkl')\n",
    "# (this will require an import - use either of the modules discussed in lab)"
   ]
  },
  {
   "cell_type": "markdown",
   "metadata": {},
   "source": [
    "## Load and re-test model"
   ]
  },
  {
   "cell_type": "code",
   "execution_count": 12,
   "metadata": {},
   "outputs": [
    {
     "name": "stdout",
     "output_type": "stream",
     "text": [
      "              precision    recall  f1-score   support\n",
      "\n",
      "           0       1.00      1.00      1.00        54\n",
      "           1       0.96      0.77      0.85        57\n",
      "           2       0.84      0.78      0.81        55\n",
      "           3       0.93      0.70      0.80        57\n",
      "           4       1.00      0.90      0.95        58\n",
      "           5       0.90      0.83      0.87        54\n",
      "           6       0.97      0.98      0.97        57\n",
      "           7       0.69      1.00      0.81        48\n",
      "           8       0.51      0.81      0.62        47\n",
      "           9       0.90      0.70      0.79        53\n",
      "\n",
      "    accuracy                           0.85       540\n",
      "   macro avg       0.87      0.85      0.85       540\n",
      "weighted avg       0.88      0.85      0.85       540\n",
      "\n"
     ]
    }
   ],
   "source": [
    "# Add your code below this comment (Question #P2106)\n",
    "# ----------------------------------\n",
    "# TODO: load/unpickle model\n",
    "new_clf = joblib.load('GaussianDigits.pkl')\n",
    "y_pred = new_clf.predict(X_test)\n",
    "\n",
    "print(classification_report(y_test, y_pred))"
   ]
  }
 ],
 "metadata": {
  "kernelspec": {
   "display_name": "Python 3",
   "language": "python",
   "name": "python3"
  },
  "language_info": {
   "codemirror_mode": {
    "name": "ipython",
    "version": 3
   },
   "file_extension": ".py",
   "mimetype": "text/x-python",
   "name": "python",
   "nbconvert_exporter": "python",
   "pygments_lexer": "ipython3",
   "version": "3.7.3"
  }
 },
 "nbformat": 4,
 "nbformat_minor": 4
}
