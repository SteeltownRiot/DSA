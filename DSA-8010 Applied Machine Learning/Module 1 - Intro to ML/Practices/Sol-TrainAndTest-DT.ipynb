{
 "cells": [
  {
   "cell_type": "markdown",
   "metadata": {},
   "source": [
    "# Training and testing - Answers for practice\n",
    "\n",
    "In this practice you will review and apply the **training and testing** workflow. We now switch over to **white wine quality** dataset. And we are still going to use **decision tree** to fit the dataset. Goal is to get more familiarized on the concepts and steps to carry it out as well as technical details for implementing it based on sci-kit learn API."
   ]
  },
  {
   "cell_type": "code",
   "execution_count": null,
   "metadata": {},
   "outputs": [],
   "source": [
    "import os, sys\n",
    "import numpy as np\n",
    "import pandas as pd\n",
    "from sklearn.tree import DecisionTreeClassifier, plot_tree, export_text\n",
    "from sklearn.metrics import f1_score\n",
    "from sklearn.metrics import confusion_matrix\n",
    "np.random.seed(18937) # please leave this line alone"
   ]
  },
  {
   "cell_type": "markdown",
   "metadata": {},
   "source": [
    "## Load Dataset\n",
    "\n",
    "**Load dataset** from files into multi-dimensional array and understand its structure.\n",
    "\n",
    "Note that this .csv file is semicolon separated (;). Make sure you **shuffle the dataset using the sample() and  reset_index method. **"
   ]
  },
  {
   "cell_type": "code",
   "execution_count": null,
   "metadata": {},
   "outputs": [],
   "source": [
    "# Dataset location\n",
    "DATASET = '/dsa/data/all_datasets/wine-quality/winequality-white.csv'\n",
    "assert os.path.exists(DATASET)\n",
    "\n",
    "# Add your code below this comment (Question #P1001)\n",
    "# ----------------------------------\n",
    "# Load and shuffle\n",
    "dataset = pd.read_csv(DATASET, sep = ';').sample(frac=1).reset_index(drop=True)"
   ]
  },
  {
   "cell_type": "markdown",
   "metadata": {},
   "source": [
    "**Print shape and describe** this dataset."
   ]
  },
  {
   "cell_type": "code",
   "execution_count": null,
   "metadata": {},
   "outputs": [],
   "source": [
    "# Add your code below this comment (Question #P1002)\n",
    "# ----------------------------------\n",
    "print(dataset.shape)\n",
    "dataset.describe()"
   ]
  },
  {
   "cell_type": "markdown",
   "metadata": {},
   "source": [
    "**Initialize** multi-dimensional array **X** and **y**.\n",
    "\n",
    "**Print number of labels for class 0 and class 1 respectively** after binarization."
   ]
  },
  {
   "cell_type": "code",
   "execution_count": null,
   "metadata": {},
   "outputs": [],
   "source": [
    "# Complete code below this comment  (Question #P1003)\n",
    "# ----------------------------------\n",
    "X = np.array(dataset.iloc[:,:-1])\n",
    "y = np.array(dataset.quality)\n",
    "print('Label distribution (before):', {i: np.sum(y==i) for i in np.unique(dataset.quality)})\n",
    "\n",
    "# Binarize wine quality just for simplification\n",
    "y = (y>=7).astype(int)\n",
    "# Caution: reversing the order of above 2 statements results in a non-obvious mistake.\n",
    "#     Make it a habit to check label distribution to make sure it still makes sense and roughly balanced.\n",
    "\n",
    "print('X', X.shape, 'Y', y.shape)\n",
    "print('Label distribution (after):', {0: np.sum(y==0), 1: np.sum(y==1)})"
   ]
  },
  {
   "cell_type": "markdown",
   "metadata": {},
   "source": [
    "## Train and validate\n",
    "\n",
    "**Setup training/test split and use 25% of data for validation.**"
   ]
  },
  {
   "cell_type": "code",
   "execution_count": null,
   "metadata": {},
   "outputs": [],
   "source": [
    "# Complete code below this comment  (Question #P1004)\n",
    "# ----------------------------------\n",
    "from sklearn.model_selection import train_test_split\n",
    "X_train, X_test, y_train, y_test = train_test_split(X, y, test_size=0.25)\n",
    "model = DecisionTreeClassifier()\n",
    "model.fit(X_train, y_train)\n",
    "model.score(X_test, y_test)"
   ]
  },
  {
   "cell_type": "markdown",
   "metadata": {},
   "source": [
    "## Understand your classification model\n",
    "\n",
    "In the cell below, add code to dump out the [confusion matrix](http://scikit-learn.org/stable/modules/generated/sklearn.metrics.confusion_matrix.html) and compute the [F₁ score](http://scikit-learn.org/stable/modules/generated/sklearn.metrics.f1_score.html)."
   ]
  },
  {
   "cell_type": "code",
   "execution_count": null,
   "metadata": {},
   "outputs": [],
   "source": [
    "# Add your code below this comment (Question #P1005)\n",
    "# ----------------------------------\n",
    "confusion_matrix(y_test, model.predict(X_test))"
   ]
  },
  {
   "cell_type": "code",
   "execution_count": null,
   "metadata": {},
   "outputs": [],
   "source": [
    "# Add your code below this comment (Question #P1006)\n",
    "# ----------------------------------\n",
    "f1_score(y_test, np.round(model.predict(X_test)).astype('i4'), average='micro')"
   ]
  },
  {
   "cell_type": "markdown",
   "metadata": {},
   "source": [
    "# Save your notebook!"
   ]
  }
 ],
 "metadata": {
  "kernelspec": {
   "display_name": "Python 3",
   "language": "python",
   "name": "python3"
  },
  "language_info": {
   "codemirror_mode": {
    "name": "ipython",
    "version": 3
   },
   "file_extension": ".py",
   "mimetype": "text/x-python",
   "name": "python",
   "nbconvert_exporter": "python",
   "pygments_lexer": "ipython3",
   "version": "3.7.3"
  }
 },
 "nbformat": 4,
 "nbformat_minor": 4
}
