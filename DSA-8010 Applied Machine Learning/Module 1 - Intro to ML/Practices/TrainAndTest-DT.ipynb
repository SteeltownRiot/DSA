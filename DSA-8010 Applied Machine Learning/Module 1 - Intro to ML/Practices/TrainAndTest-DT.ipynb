{
 "cells": [
  {
   "cell_type": "markdown",
   "metadata": {},
   "source": [
    "# Module 1: Training and testing - Practice\n",
    "\n",
    "In this practice you will review and apply the **training and testing** workflow. \n",
    "We now switch over to **white wine quality** dataset. \n",
    "We are still going to use **Decision Tree model** to fit the dataset. \n",
    "The goal is to get more familiarized on the concepts and steps to carry it out as well as technical details for implementing it based on the sci-kit learn API.\n",
    "\n",
    "+ Look for <span style=\"background:yellow\">**&lt;placeholder&gt;**</span>s  in the code cells and fill in the appropriate code.\n",
    "+ Expect requirements in **bold** font when provided.\n",
    "+ Presentation of print-outs are not strict as long as they are readable and equivalent. e.g. the following are equally acceptable:\n",
    "    + `Index(['fixed acidity', 'volatile acidity'])`\n",
    "    + `['fixed acidity', 'volatile acidity']`\n",
    "    + `fixed acidity, volatile acidity`\n",
    "\n",
    "For instance, **import DecisionTreeClassifier from sklearn.tree** module below."
   ]
  },
  {
   "cell_type": "code",
   "execution_count": null,
   "metadata": {},
   "outputs": [],
   "source": [
    "import os, sys\n",
    "import numpy as np\n",
    "import pandas as pd\n",
    "from sklearn.metrics import f1_score\n",
    "from sklearn.metrics import confusion_matrix\n",
    "\n",
    "np.random.seed(18937) # please leave this line alone"
   ]
  },
  {
   "cell_type": "markdown",
   "metadata": {},
   "source": [
    "## Load Dataset\n",
    "\n",
    "**Load the dataset** from file into Panda dataframe (multi-dimensional array) and explore it.\n",
    "\n",
    "Note that this .csv file is semicolon separated (;). Make sure you **shuffle the dataset using the sample() and  reset_index() method. **"
   ]
  },
  {
   "cell_type": "code",
   "execution_count": null,
   "metadata": {},
   "outputs": [],
   "source": [
    "# Dataset location\n",
    "DATASET = '/dsa/data/all_datasets/wine-quality/winequality-white.csv'\n",
    "assert os.path.exists(DATASET)\n"
   ]
  },
  {
   "cell_type": "code",
   "execution_count": null,
   "metadata": {},
   "outputs": [],
   "source": [
    "# Add your code below this comment (Question #P01)\n",
    "# ----------------------------------\n",
    "# Load and shuffle\n",
    "dataset = pd.read_csv(<placeholder>).sample(<placeholder>).reset_index(<placeholder>)"
   ]
  },
  {
   "cell_type": "markdown",
   "metadata": {},
   "source": [
    "**Print shape and describe** this dataset."
   ]
  },
  {
   "cell_type": "code",
   "execution_count": null,
   "metadata": {},
   "outputs": [],
   "source": [
    "# Add your code below this comment (Question #P02)\n",
    "# ----------------------------------\n",
    "\n",
    "\n"
   ]
  },
  {
   "cell_type": "markdown",
   "metadata": {},
   "source": [
    "The last column is the quality of wine (0 to 10), other columns are features. \n",
    "We are going to build a classifier to estimate quality of wine based on its features. \n",
    "Then we will evaluate the performance of the classifier. \n",
    "Therefore, the classifier has the following input/output.\n",
    "\n",
    "~~~\n",
    "X = all except last column\n",
    "y = last column\n",
    "~~~\n",
    "\n",
    "In addition, we are going to binarize Y into just 0 (ok wine) or 1 (good wine) just for simplification.\n",
    "\n",
    "**Initialize** multi-dimensional array **X** and **y**.\n",
    "\n",
    "**Print number of labels for class 0 and class 1 respectively** after binarization."
   ]
  },
  {
   "cell_type": "code",
   "execution_count": null,
   "metadata": {},
   "outputs": [],
   "source": [
    "# Complete code below this comment  (Question #P03)\n",
    "# ----------------------------------\n",
    "X = np.array(dataset.<placeholder>)  # Slice out your training data\n",
    "y = np.array(dataset.<placeholder>)  # Slice out your expected classification result\n",
    "\n",
    "print('Label distribution (before):', {i: np.sum(y==i) for i in np.unique(dataset.quality)})\n",
    "\n",
    "# Binarize wine quality just for simplification\n",
    "y = (y>=7).astype(int)\n",
    "\n",
    "print('X', X.shape, 'y', y.shape)\n",
    "print('Label distribution:', {0: <placeholder>, 1: <placeholder>})"
   ]
  },
  {
   "cell_type": "markdown",
   "metadata": {},
   "source": [
    "## Train and validate\n",
    "\n",
    "**Setup training/test split and use 25% of data for validation.**"
   ]
  },
  {
   "cell_type": "code",
   "execution_count": null,
   "metadata": {},
   "outputs": [],
   "source": [
    "# Complete code below this comment  (Question #P04)\n",
    "# ----------------------------------\n",
    "from sklearn.model_selection import train_test_split\n",
    "<placeholder> = train_test_split(<placeholder>)\n",
    "model = <placeholder>()\n",
    "model.fit(X_train, y_train)\n",
    "model.score(X_test, y_test)"
   ]
  },
  {
   "cell_type": "markdown",
   "metadata": {},
   "source": [
    "## Understand your classification model\n",
    "\n",
    "In the cell below, add code to dump out the [confusion matrix](http://scikit-learn.org/stable/modules/generated/sklearn.metrics.confusion_matrix.html)."
   ]
  },
  {
   "cell_type": "code",
   "execution_count": null,
   "metadata": {},
   "outputs": [],
   "source": [
    "# Add your code below this comment (Question #P05)\n",
    "# ----------------------------------\n",
    "\n",
    "\n"
   ]
  },
  {
   "cell_type": "markdown",
   "metadata": {},
   "source": [
    "Compute the [F₁ score](http://scikit-learn.org/stable/modules/generated/sklearn.metrics.f1_score.html)."
   ]
  },
  {
   "cell_type": "code",
   "execution_count": null,
   "metadata": {},
   "outputs": [],
   "source": [
    "# Add your code below this comment (Question #P06)\n",
    "# ----------------------------------\n",
    "\n",
    "\n"
   ]
  },
  {
   "cell_type": "markdown",
   "metadata": {},
   "source": [
    "# Save your notebook!  Then `File > Close and Halt`"
   ]
  }
 ],
 "metadata": {
  "kernelspec": {
   "display_name": "Python 3",
   "language": "python",
   "name": "python3"
  },
  "language_info": {
   "codemirror_mode": {
    "name": "ipython",
    "version": 3
   },
   "file_extension": ".py",
   "mimetype": "text/x-python",
   "name": "python",
   "nbconvert_exporter": "python",
   "pygments_lexer": "ipython3",
   "version": "3.7.3"
  }
 },
 "nbformat": 4,
 "nbformat_minor": 4
}
