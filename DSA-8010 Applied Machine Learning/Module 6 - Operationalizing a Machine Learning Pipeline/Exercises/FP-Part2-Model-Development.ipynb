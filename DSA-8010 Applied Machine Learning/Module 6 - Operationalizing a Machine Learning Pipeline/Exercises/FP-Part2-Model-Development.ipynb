{
 "cells": [
  {
   "cell_type": "markdown",
   "metadata": {},
   "source": [
    "# Part II: Model Development\n",
    "\n",
    "In this part, we develop three unique pipelines for predicting backorder. We use the smart sample from Part I to fit and evaluate these pipelines. "
   ]
  },
  {
   "cell_type": "code",
   "execution_count": 1,
   "metadata": {},
   "outputs": [],
   "source": [
    "%matplotlib inline\n",
    "import matplotlib.pyplot as plt\n",
    "\n",
    "import os, sys\n",
    "import itertools\n",
    "import numpy as np\n",
    "import pandas as pd\n",
    "import joblib\n",
    "\n",
    "from sklearn import preprocessing\n",
    "from sklearn.model_selection import train_test_split\n"
   ]
  },
  {
   "cell_type": "markdown",
   "metadata": {},
   "source": [
    "## Reload the smart sample here"
   ]
  },
  {
   "cell_type": "code",
   "execution_count": 2,
   "metadata": {},
   "outputs": [],
   "source": [
    "# Reload your smart sampling from local file \n",
    "# ----------------------------------\n",
    "X, y, train_undersamp = joblib.load('data/sample-data-v1.pkl')\n"
   ]
  },
  {
   "cell_type": "code",
   "execution_count": 3,
   "metadata": {},
   "outputs": [],
   "source": [
    "# Subset easier to manage size for testing pipelines\n",
    "train_undersamp_less = train_undersamp.groupby('went_on_backorder').apply(lambda x: x.sample(frac=0.1))\n",
    "train_undersamp_less = pd.DataFrame(train_undersamp_less)\n",
    "# Split back into X and y\n",
    "X_less = train_undersamp_less.iloc[:, :-1]\n",
    "y_less = train_undersamp_less.went_on_backorder\n"
   ]
  },
  {
   "cell_type": "markdown",
   "metadata": {},
   "source": [
    "## Normalize/standardize the data if required; otherwise ignore. You can perform this step inside the pipeline (if required). "
   ]
  },
  {
   "cell_type": "code",
   "execution_count": 4,
   "metadata": {},
   "outputs": [
    {
     "data": {
      "text/plain": [
       "'# Standardize data\\nscaler = preprocessing.StandardScaler().fit(X)\\nX_scaled = scaler.transform(X)\\n# Combine X_scaled and y\\ntrain_under_stand = pd.DataFrame()\\ntrain_under_stand = X_scaled\\ntrain_under_stand.reset_index(drop = True)\\ntrain_under_stand[\\'went_on_backorder\\'] = y\\n\\nprint(\"Mean of the dataset features\")\\nprint(scaler.mean_)\\nprint(\"Variance of data\")\\nprint(scaler.scale_)\\nprint(\"-\" * 35)\\n\\nprint(\"# Scaled data:\")\\nprint(X_scaled)\\n\\nprint(\"# Mean of scaled data\")\\nprint(X_scaled.mean(axis = 0))\\nprint(\"# Variance of scaled data\")\\nprint(X_scaled.std(axis = 0))'"
      ]
     },
     "execution_count": 4,
     "metadata": {},
     "output_type": "execute_result"
    }
   ],
   "source": [
    "'''# Standardize data\n",
    "scaler = preprocessing.StandardScaler().fit(X)\n",
    "X_scaled = scaler.transform(X)\n",
    "# Combine X_scaled and y\n",
    "train_under_stand = pd.DataFrame()\n",
    "train_under_stand = X_scaled\n",
    "train_under_stand.reset_index(drop = True)\n",
    "train_under_stand['went_on_backorder'] = y\n",
    "\n",
    "print(\"Mean of the dataset features\")\n",
    "print(scaler.mean_)\n",
    "print(\"Variance of data\")\n",
    "print(scaler.scale_)\n",
    "print(\"-\" * 35)\n",
    "\n",
    "print(\"# Scaled data:\")\n",
    "print(X_scaled)\n",
    "\n",
    "print(\"# Mean of scaled data\")\n",
    "print(X_scaled.mean(axis = 0))\n",
    "print(\"# Variance of scaled data\")\n",
    "print(X_scaled.std(axis = 0))'''\n"
   ]
  },
  {
   "cell_type": "code",
   "execution_count": 5,
   "metadata": {},
   "outputs": [
    {
     "name": "stdout",
     "output_type": "stream",
     "text": [
      "# Scaled & normalized values:\n",
      "[[1.97363517e-05 1.52438006e-03 0.00000000e+00 ... 6.87208133e-03\n",
      "  0.00000000e+00 0.00000000e+00]\n",
      " [3.28939195e-05 9.14628036e-03 0.00000000e+00 ... 6.87208133e-03\n",
      "  0.00000000e+00 0.00000000e+00]\n",
      " [3.28939195e-05 6.09752024e-03 0.00000000e+00 ... 6.87208133e-03\n",
      "  0.00000000e+00 0.00000000e+00]\n",
      " ...\n",
      " [1.31575678e-05 6.09752024e-03 0.00000000e+00 ... 6.87208133e-03\n",
      "  0.00000000e+00 9.59456104e-03]\n",
      " [2.96045275e-05 9.14628036e-03 0.00000000e+00 ... 6.87208133e-03\n",
      "  0.00000000e+00 9.59456104e-03]\n",
      " [6.57878390e-06 6.85971027e-03 0.00000000e+00 ... 6.87208133e-03\n",
      "  0.00000000e+00 9.59456104e-03]]\n",
      "# All have unit norm\n",
      "[1. 1. 1. 1. 1. 1. 1. 1. 1. 1. 1. 1. 1. 1. 1. 1. 1.]\n"
     ]
    }
   ],
   "source": [
    "# Normalize data\n",
    "train_undersamp_normalized = preprocessing.normalize(train_undersamp, axis = 0, norm = 'l2')\n",
    "# Split into X and y\n",
    "train_undersamp_norm = pd.DataFrame(train_undersamp_normalized)\n",
    "train_undersamp_norm.columns=train_undersamp.columns\n",
    "X_norm = train_undersamp_norm.iloc[:, :-1]\n",
    "y_norm = train_undersamp_norm.went_on_backorder\n",
    "\n",
    "print('# Scaled & normalized values:')\n",
    "print(train_undersamp_normalized)\n",
    "\n",
    "print(\"# All have unit norm\")\n",
    "print(np.linalg.norm(train_undersamp_normalized, axis = 0))\n",
    "\n",
    "#train_undersamp_norm.info()"
   ]
  },
  {
   "cell_type": "code",
   "execution_count": 6,
   "metadata": {},
   "outputs": [
    {
     "data": {
      "text/plain": [
       "'# Normalize data\\nX_norm =  = preprocessing.normalize(X, axis = 0, norm = \\'l2\\')\\n\\nprint(\\'# Scaled & normalized values:\\')\\nprint(X_norm)\\n\\nprint(\"# All have unit norm\")\\nprint(np.linalg.norm(X_norm, axis = 0))\\n\\nX_norm.info()'"
      ]
     },
     "execution_count": 6,
     "metadata": {},
     "output_type": "execute_result"
    }
   ],
   "source": [
    "'''# Normalize data\n",
    "X_norm =  = preprocessing.normalize(X, axis = 0, norm = 'l2')\n",
    "\n",
    "print('# Scaled & normalized values:')\n",
    "print(X_norm)\n",
    "\n",
    "print(\"# All have unit norm\")\n",
    "print(np.linalg.norm(X_norm, axis = 0))\n",
    "\n",
    "X_norm.info()'''"
   ]
  },
  {
   "cell_type": "markdown",
   "metadata": {},
   "source": [
    "## Split the data into Train/Test"
   ]
  },
  {
   "cell_type": "code",
   "execution_count": 7,
   "metadata": {},
   "outputs": [
    {
     "data": {
      "text/plain": [
       "'# Split normalized dataset into training and testing sets\\nX_train_norm, X_test_norm, y_train_norm, y_test_norm = train_test_split(X_norm, y_norm, test_size = 0.2)'"
      ]
     },
     "execution_count": 7,
     "metadata": {},
     "output_type": "execute_result"
    }
   ],
   "source": [
    "# Split original dataset into training and testing sets\n",
    "# Small sample to test pipelines\n",
    "X_train, X_test, y_train, y_test = train_test_split(X_less, y_less, test_size = 0.2)\n",
    "'''# Full sample\n",
    "X_train, X_test, y_train, y_test = train_test_split(X, y, test_size = 0.2)'''\n",
    "'''# Split normalized dataset into training and testing sets\n",
    "X_train_norm, X_test_norm, y_train_norm, y_test_norm = train_test_split(X_norm, y_norm, test_size = 0.2)'''\n"
   ]
  },
  {
   "cell_type": "markdown",
   "metadata": {},
   "source": [
    "## Developing Pipeline\n",
    "\n",
    "In this section, we design an operationalized machine learning pipeline, which includes:\n",
    "\n",
    "* Anomaly detection\n",
    "* Dimensionality Reduction\n",
    "* Train a classification model\n",
    "\n",
    "\n",
    "We are free to use any of the models that we learned in the past or we can use new models. Here is a pool of methods: \n",
    "\n",
    "### Pool of Anomaly Detection Methods (Discussed in M4)\n",
    "1. IsolationForest\n",
    "2. EllipticEnvelope\n",
    "3. LocalOutlierFactor\n",
    "4. OneClassSVM\n",
    "5. SGDOneClassSVM\n",
    "\n",
    "### Pool of Feature Selection Methods (Discussed in M3)\n",
    "\n",
    "1. VarianceThreshold\n",
    "1. SelectKBest with any scoring method (e.g, chi, f_classif, mutual_info_classif)\n",
    "1. SelectKPercentile\n",
    "3. SelectFpr, SelectFdr, or  SelectFwe\n",
    "1. GenericUnivariateSelect\n",
    "2. PCA\n",
    "3. Factor Analysis\n",
    "4. Variance Threshold\n",
    "5. RFE\n",
    "7. SelectFromModel\n",
    "\n",
    "\n",
    "### Classification Methods (Discussed in M1-M2\n",
    "1. Decision Tree\n",
    "2. Random Forest\n",
    "3. Logistic Regression\n",
    "4. Naive Bayes\n",
    "5. Linear SVC\n",
    "6. SVC with kernels\n",
    "7. KNeighborsClassifier\n",
    "8. GradientBoostingClassifier\n",
    "9. XGBClassifier\n",
    "10. LGBM Classifier\n",
    "\n",
    "\n",
    "\n",
    "It is difficult to fit an anomaly detection method in the sklearn pipeline without writing custom codes. For simplicity, we avoid fitting an anomaly detection method within a pipeline. So we can create the workflow in two steps. \n",
    "* Step I: fit an outlier with the training set\n",
    "* Step II: define a pipeline using a feature selection and a classification method. Then cross-validate this pipeline using the training data without outliers. \n",
    "* Note: if your smart sample is somewhat imbalanced, you might want to change the scoring method in GridSearchCV (see the [doc](https://scikit-learn.org/stable/modules/generated/sklearn.model_selection.GridSearchCV.html)).\n",
    "\n",
    "\n",
    "Once we fit the pipeline with gridsearch, we identify the best model and give an unbiased evaluation using the test set that we created in Part II. For unbiased evaluation we report confusion matrix, precision, recall, f1-score, accuracy, and other measures if you like. \n",
    "\n",
    "**Optional: Those who are interested in writing custom codes for adding an outlier detection method into the sklearn pipeline, please follow this discussion [thread](https://stackoverflow.com/questions/52346725/can-i-add-outlier-detection-and-removal-to-scikit-learn-pipeline).**\n",
    "\n",
    "\n",
    "**Note:** <span style='background:yellow'>We will be using Grid Search to find the optimal parameters of the pipelines.</span>\n",
    "\n",
    "You can add more notebook cells or import any Python modules as needed."
   ]
  },
  {
   "cell_type": "code",
   "execution_count": 8,
   "metadata": {},
   "outputs": [],
   "source": [
    "from sklearn.svm import OneClassSVM\n",
    "from sklearn.neighbors import LocalOutlierFactor\n",
    "from sklearn.covariance import EllipticEnvelope\n",
    "from sklearn.ensemble import IsolationForest, RandomForestClassifier\n",
    "from sklearn.preprocessing import MinMaxScaler, StandardScaler\n",
    "from sklearn.model_selection import GridSearchCV, cross_val_score\n",
    "from sklearn.linear_model import LogisticRegression\n",
    "from sklearn.decomposition import PCA, FactorAnalysis\n",
    "from sklearn.feature_selection import (SelectKBest, VarianceThreshold, \n",
    "                                       SelectPercentile, chi2, f_classif, mutual_info_classif)\n",
    "from sklearn.pipeline import Pipeline\n",
    "from sklearn.metrics import classification_report, accuracy_score, confusion_matrix \n",
    "from numpy import where\n",
    "from sklearn.tree import DecisionTreeClassifier\n",
    "from imblearn.pipeline import Pipeline\n",
    "\n",
    "import sklearn.feature_selection\n"
   ]
  },
  {
   "cell_type": "markdown",
   "metadata": {},
   "source": [
    "### Your 1st pipeline \n",
    "  * Anomaly detection\n",
    "  * Dimensionality reduction\n",
    "  * Model training/validation\n",
    "  \n",
    "Add cells as needed. "
   ]
  },
  {
   "cell_type": "code",
   "execution_count": 9,
   "metadata": {},
   "outputs": [],
   "source": [
    "# Add anomaly detection code  (Question #E201)\n",
    "# ----------------------------------\n",
    "# Construct local outlier factor\n",
    "lof = LocalOutlierFactor()\n",
    "\n",
    "# Get labels from classifier to cull outliers\n",
    "lof_outliers = lof.fit_predict(X_train) == -1\n",
    "\n",
    "X_lof = X_train[~lof_outliers]\n",
    "y_lof = y_train[~lof_outliers]\n"
   ]
  },
  {
   "cell_type": "code",
   "execution_count": 10,
   "metadata": {},
   "outputs": [
    {
     "name": "stderr",
     "output_type": "stream",
     "text": [
      "/opt/conda/lib/python3.7/site-packages/sklearn/model_selection/_search.py:921: UserWarning: One or more of the test scores are non-finite: [0.77882698        nan        nan        nan        nan 0.77882698\n",
      "        nan        nan        nan        nan 0.77882698        nan\n",
      "        nan        nan        nan 0.77882698        nan        nan\n",
      "        nan        nan 0.77882698        nan        nan        nan\n",
      "        nan 0.77882698        nan        nan        nan        nan\n",
      " 0.77882698        nan        nan        nan        nan 0.77882698\n",
      "        nan        nan        nan        nan 0.77882698        nan\n",
      "        nan        nan        nan 0.77882698        nan        nan\n",
      "        nan        nan 0.77882698        nan        nan        nan\n",
      "        nan 0.77882698        nan        nan        nan        nan\n",
      " 0.77882698        nan        nan        nan        nan 0.77882698\n",
      "        nan        nan        nan        nan 0.77882698        nan\n",
      "        nan        nan        nan]\n",
      "  category=UserWarning\n"
     ]
    },
    {
     "data": {
      "text/plain": [
       "GridSearchCV(cv=10,\n",
       "             estimator=Pipeline(steps=[('PCA', PCA()),\n",
       "                                       ('LR_model', LogisticRegression())]),\n",
       "             n_jobs=2,\n",
       "             param_grid={'LR_model__C': [0.001, 0.1, 1.0, 10, 100],\n",
       "                         'LR_model__max_iter': [1000, 2500, 5000],\n",
       "                         'PCA__n_components': [5, 20, 30, 35, 60],\n",
       "                         'PCA__random_state': [17]})"
      ]
     },
     "execution_count": 10,
     "metadata": {},
     "output_type": "execute_result"
    }
   ],
   "source": [
    "# Add codes for feature selection and classification pipeline with grid search  (Question #E202)\n",
    "# ----------------------------------\n",
    "# Define pipeline\n",
    "pipe = Pipeline([\n",
    "    ('PCA', PCA()),\n",
    "    ('LR_model', LogisticRegression())\n",
    "])\n",
    "\n",
    "# Define parameter grid\n",
    "param_grid = {'PCA__n_components': [5, 20, 30, 35, 60],\n",
    "              'PCA__random_state':[17],\n",
    "              'LR_model__C': [0.001, 0.1, 1.0, 10, 100], \n",
    "              'LR_model__max_iter': [1000, 2500, 5000]\n",
    "              }\n",
    "\n",
    "# Use Grid Search to train Pipeline\n",
    "CV_log_reg = GridSearchCV(pipe, param_grid, n_jobs = 2, cv = 10)\n",
    "CV_log_reg_model = CV_log_reg.fit(X_lof, y_lof)\n",
    "#print(CV_log_reg.cv_results_)\n"
   ]
  },
  {
   "cell_type": "code",
   "execution_count": 11,
   "metadata": {},
   "outputs": [
    {
     "name": "stdout",
     "output_type": "stream",
     "text": [
      "Best estimator:\n",
      " Pipeline(steps=[('PCA', PCA(n_components=5, random_state=17)),\n",
      "                ('LR_model', LogisticRegression(C=0.001, max_iter=1000))])\n",
      "\n",
      "Confusion Matrix:\n",
      "      0    1\n",
      "0  137   75\n",
      "1   18  205\n",
      "\n",
      "Classification Report:\n",
      "               precision    recall  f1-score   support\n",
      "\n",
      "           0       0.88      0.65      0.75       212\n",
      "           1       0.73      0.92      0.82       223\n",
      "\n",
      "    accuracy                           0.79       435\n",
      "   macro avg       0.81      0.78      0.78       435\n",
      "weighted avg       0.81      0.79      0.78       435\n",
      "\n"
     ]
    }
   ],
   "source": [
    "# Given an unbiased evaluation  (Question #E203)\n",
    "# ----------------------------------\n",
    "'''# Show parameters of trained models and their rank\n",
    "pd.set_option(\"max_colwidth\", 80)\n",
    "CV_log_reg_df = pd.DataFrame(CV_log_reg.cv_results_)\n",
    "print(CV_log_reg_df[['params','rank_test_score']])'''\n",
    "\n",
    "# Evaluate best model using test data\n",
    "predicted_y = CV_log_reg.predict(X_test)\n",
    "\n",
    "'''# Show parameters of best model\n",
    "best_params = CV_log_reg.best_params_\n",
    "print('Best parameter:\\n',best_params)'''\n",
    "\n",
    "# Show best estimator\n",
    "best_estimator = CV_log_reg.best_estimator_\n",
    "print('Best estimator:\\n',best_estimator) \n",
    "\n",
    "# Display confusion matrix\n",
    "print('\\nConfusion Matrix:\\n',pd.DataFrame(confusion_matrix(y_test, predicted_y)))\n",
    "\n",
    "# Create classification report\n",
    "print('\\nClassification Report:\\n',classification_report(y_test, predicted_y))\n"
   ]
  },
  {
   "cell_type": "markdown",
   "metadata": {},
   "source": [
    "#### <center>Record the optimal hyperparameters and performance resulting from this pipeline.</center>"
   ]
  },
  {
   "cell_type": "raw",
   "metadata": {},
   "source": [
    "# Detail Hyperparameters and Results below  (Question #E204)\n",
    "# ---------------------------------------------\n",
    "\n",
    "\n",
    "\n",
    "\n",
    "\n",
    "\n",
    "\n"
   ]
  },
  {
   "cell_type": "markdown",
   "metadata": {},
   "source": [
    "## <span style=\"background: yellow;\">Commit your code!</span> "
   ]
  },
  {
   "cell_type": "markdown",
   "metadata": {},
   "source": [
    "### Your 2nd pipeline\n",
    "  * Anomaly detection\n",
    "  * Dimensionality reduction\n",
    "  * Model training/validation"
   ]
  },
  {
   "cell_type": "code",
   "execution_count": 12,
   "metadata": {},
   "outputs": [
    {
     "name": "stderr",
     "output_type": "stream",
     "text": [
      "/opt/conda/lib/python3.7/site-packages/sklearn/covariance/_robust_covariance.py:647: UserWarning: The covariance matrix associated to your dataset is not full rank\n",
      "  warnings.warn(\"The covariance matrix associated to your dataset \"\n"
     ]
    }
   ],
   "source": [
    "# Add anomaly detection code  (Question #E205)\n",
    "# ----------------------------------\n",
    "# Construct envelope\n",
    "ee = EllipticEnvelope()\n",
    "# Fit data to envelope\n",
    "#envelope = env.fit(X_train_norm, y_train_norm)\n",
    "envelope = ee.fit(X_train, y_train)\n",
    "\n",
    "# Get labels from classifier to cull outliers\n",
    "env_outliers = envelope.predict(X_train) == -1\n",
    "\n",
    "# Re-slice X,y into a cleaned dataset with outliers excluded\n",
    "X_env = X_train[~env_outliers]\n",
    "y_env = y_train[~env_outliers]\n"
   ]
  },
  {
   "cell_type": "code",
   "execution_count": 13,
   "metadata": {},
   "outputs": [
    {
     "name": "stderr",
     "output_type": "stream",
     "text": [
      "/opt/conda/lib/python3.7/site-packages/sklearn/model_selection/_search.py:921: UserWarning: One or more of the test scores are non-finite: [0.81768741 0.80487098 0.79594561 0.77802139        nan 0.75685938\n",
      " 0.81196717 0.80681447 0.81189776        nan 0.7453985  0.80487098\n",
      " 0.80042055 0.81450269        nan 0.73195329 0.80233954 0.79084599\n",
      " 0.80552017        nan        nan        nan        nan        nan\n",
      "        nan 0.82023518 0.81704638 0.79848114 0.78440307        nan\n",
      " 0.75685938 0.82028417 0.82024743 0.81769557        nan 0.74091132\n",
      " 0.80105341 0.80234771 0.80105341        nan 0.73195329 0.80554467\n",
      " 0.77804589 0.80423812        nan        nan        nan        nan\n",
      "        nan        nan 0.81703005 0.80873755 0.79657031 0.7792667\n",
      "        nan 0.75494855 0.82597175 0.81450269 0.80933366        nan\n",
      " 0.73898824 0.79723992 0.80170668 0.80682672        nan 0.73195329\n",
      " 0.80425037 0.78574637 0.8061612         nan        nan        nan\n",
      "        nan        nan        nan]\n",
      "  category=UserWarning\n"
     ]
    },
    {
     "data": {
      "text/plain": [
       "GridSearchCV(cv=10,\n",
       "             estimator=Pipeline(steps=[('scaler', StandardScaler()),\n",
       "                                       ('kbest',\n",
       "                                        SelectKBest(score_func=<function mutual_info_classif at 0x7f67fcd56730>)),\n",
       "                                       ('dtc_model',\n",
       "                                        DecisionTreeClassifier())]),\n",
       "             n_jobs=2,\n",
       "             param_grid=[{'dtc_model__max_features': ['auto', 'sqrt', 'log2'],\n",
       "                          'dtc_model__max_leaf_nodes': [None, 15, 10, 5, 1],\n",
       "                          'dtc_model__random_state': [17],\n",
       "                          'kbest__k': [3, 5, 10, 15, 20]}])"
      ]
     },
     "execution_count": 13,
     "metadata": {},
     "output_type": "execute_result"
    }
   ],
   "source": [
    "# Add codes for feature selection and classification pipeline with grid search  (Question #E206)\n",
    "# ----------------------------------\n",
    "#kb = SelectKBest()\n",
    "#rfc = RandomForestClassifier(random_state = 17)\n",
    "#fa = FactorAnalysis()\n",
    "#dtc = DecisionTreeClassifier()\n",
    "\n",
    "# Define pipeline\n",
    "pipe = Pipeline(\n",
    "    [\n",
    "        ('scaler', StandardScaler()),\n",
    "        ('kbest', SelectKBest(mutual_info_classif)),\n",
    "        #('rfc_model', rfc)\n",
    "        #('fa', FactorAnalysis()),\n",
    "        ('dtc_model', DecisionTreeClassifier())\n",
    "    ]\n",
    ")\n",
    "\n",
    "param_grid = [\n",
    "    {\n",
    "        #'fa__n_components': [5, 20, 80, 120, 480],\n",
    "        'kbest__k': [3, 5, 10, 15, 20],\n",
    "        'dtc_model__max_features': ['auto', 'sqrt', 'log2'],\n",
    "        'dtc_model__max_leaf_nodes': [None, 15, 10, 5, 1],\n",
    "        'dtc_model__random_state': [17]\n",
    "    },\n",
    "]\n",
    "\n",
    "# Use Grid Search to train Pipeline\n",
    "CV_dtc = GridSearchCV(pipe, param_grid = param_grid, n_jobs = 2, cv = 10)\n",
    "CV_dtc_model = CV_dtc.fit(X_env, y_env)\n",
    "#print(CV_dtc.cv_results_)\n"
   ]
  },
  {
   "cell_type": "code",
   "execution_count": 14,
   "metadata": {},
   "outputs": [
    {
     "name": "stdout",
     "output_type": "stream",
     "text": [
      "Best estimator:\n",
      " Pipeline(steps=[('scaler', StandardScaler()),\n",
      "                ('kbest',\n",
      "                 SelectKBest(k=5,\n",
      "                             score_func=<function mutual_info_classif at 0x7f67fcd56730>)),\n",
      "                ('dtc_model',\n",
      "                 DecisionTreeClassifier(max_features='log2', max_leaf_nodes=15,\n",
      "                                        random_state=17))])\n",
      "\n",
      "Confusion Matrix:\n",
      "      0    1\n",
      "0  155   57\n",
      "1   32  191\n",
      "\n",
      "Classification Report:\n",
      "               precision    recall  f1-score   support\n",
      "\n",
      "           0       0.83      0.73      0.78       212\n",
      "           1       0.77      0.86      0.81       223\n",
      "\n",
      "    accuracy                           0.80       435\n",
      "   macro avg       0.80      0.79      0.79       435\n",
      "weighted avg       0.80      0.80      0.79       435\n",
      "\n"
     ]
    }
   ],
   "source": [
    "# Given an unbiased evaluation  (Question #E207)\n",
    "# ----------------------------------\n",
    "'''# Show parameters of trained models and their rank\n",
    "pd.set_option(\"max_colwidth\", 80)\n",
    "CV_dtc_df = pd.DataFrame(CV_dtc.cv_results_)\n",
    "print(CV_dtc_df[['params','rank_test_score']])'''\n",
    "\n",
    "# Evaluate best model using test data\n",
    "predicted_y = CV_dtc.predict(X_test)\n",
    "\n",
    "'''# Show parameters of best model\n",
    "best_params = CV_dtc.best_params_\n",
    "print('Best parameter:\\n',best_params)'''\n",
    "\n",
    "# Show best estimator\n",
    "best_estimator = CV_dtc.best_estimator_\n",
    "print('Best estimator:\\n',best_estimator) \n",
    "\n",
    "# Display confusion matrix\n",
    "print('\\nConfusion Matrix:\\n',pd.DataFrame(confusion_matrix(y_test, predicted_y)))\n",
    "\n",
    "# Create classification report\n",
    "print('\\nClassification Report:\\n',classification_report(y_test, predicted_y))\n"
   ]
  },
  {
   "cell_type": "markdown",
   "metadata": {},
   "source": [
    "#### <center>Record the optimal hyperparameters and performance resulting from this pipeline.</center>"
   ]
  },
  {
   "cell_type": "raw",
   "metadata": {},
   "source": [
    "# Detail Hyperparameters and Results below  (Question #E208)\n",
    "# ---------------------------------------------\n",
    "\n",
    "\n",
    "\n",
    "\n",
    "\n",
    "\n",
    "\n"
   ]
  },
  {
   "cell_type": "markdown",
   "metadata": {},
   "source": [
    "## <span style=\"background: yellow;\">Commit your code!</span> "
   ]
  },
  {
   "cell_type": "markdown",
   "metadata": {},
   "source": [
    "### Your 3rd pipeline\n",
    "  * Anomaly detection\n",
    "  * Dimensionality reduction\n",
    "  * Model training/validation"
   ]
  },
  {
   "cell_type": "code",
   "execution_count": 15,
   "metadata": {},
   "outputs": [],
   "source": [
    "# Add anomaly detection code  (Question #E209)\n",
    "# ----------------------------------\n",
    "# Construct IsolationForest\n",
    "iso_forest = IsolationForest(n_estimators = 250)\n",
    "\n",
    "iso_outliers = iso_forest.fit(X_train, y_train)\n",
    "\n",
    "# Get labels from classifier to cull outliers\n",
    "iso_outliers = iso_forest.predict(X_train) == -1\n",
    "\n",
    "X_iso = X_train[~iso_outliers]\n",
    "y_iso = y_train[~iso_outliers]\n"
   ]
  },
  {
   "cell_type": "code",
   "execution_count": 16,
   "metadata": {},
   "outputs": [
    {
     "name": "stderr",
     "output_type": "stream",
     "text": [
      "/opt/conda/lib/python3.7/site-packages/sklearn/feature_selection/_univariate_selection.py:115: UserWarning: Features [15] are constant.\n",
      "  UserWarning)\n",
      "/opt/conda/lib/python3.7/site-packages/sklearn/feature_selection/_univariate_selection.py:116: RuntimeWarning: invalid value encountered in true_divide\n",
      "  f = msb / msw\n"
     ]
    }
   ],
   "source": [
    "# Add codes for feature selection and classification pipeline with grid search  (Question #E210)\n",
    "# ----------------------------------\n",
    "# Define pipeline\n",
    "pipe = Pipeline(\n",
    "    [\n",
    "        #('fa', FactorAnalysis()),\n",
    "        #('vt', VarianceThreshold()),\n",
    "        ('k_percentile', SelectPercentile()),\n",
    "        ('rfc_model', RandomForestClassifier())\n",
    "    ]\n",
    ")\n",
    "\n",
    "param_grid = [\n",
    "    {\n",
    "        #'fa__n_components': [5, 20, 80, 120, 480],\n",
    "        #'fa__random_state': [17],\n",
    "        #'vt__threshold': [0, 0.0001, 0.001, 0.01, 0.1],\n",
    "        'k_percentile__percentile': [1, 5, 10, 50, 75],\n",
    "        'rfc_model__max_features' : ['auto', 'sqrt', 'log2'],\n",
    "        'rfc_model__max_depth': [None, 55, 30, 15, 1],\n",
    "        'rfc_model__n_estimators':[25, 50, 100, 150, 500]\n",
    "    },\n",
    "]\n",
    "\n",
    "# Use Grid Search to train Pipeline\n",
    "CV_rfc = GridSearchCV(pipe, param_grid = param_grid, n_jobs = 2, cv = 10)\n",
    "CV_rfc_model = CV_rfc.fit(X_iso, y_iso)\n",
    "#print(CV_rfc.cv_results_)\n"
   ]
  },
  {
   "cell_type": "code",
   "execution_count": 17,
   "metadata": {},
   "outputs": [
    {
     "name": "stdout",
     "output_type": "stream",
     "text": [
      "\n",
      "Best estimator:\n",
      " Pipeline(steps=[('k_percentile', SelectPercentile(percentile=75)),\n",
      "                ('rfc_model',\n",
      "                 RandomForestClassifier(max_depth=30, n_estimators=50))])\n",
      "\n",
      "Confusion Matrix:\n",
      "      0    1\n",
      "0  183   29\n",
      "1   35  188\n",
      "\n",
      "Classification Report:\n",
      "               precision    recall  f1-score   support\n",
      "\n",
      "           0       0.84      0.86      0.85       212\n",
      "           1       0.87      0.84      0.85       223\n",
      "\n",
      "    accuracy                           0.85       435\n",
      "   macro avg       0.85      0.85      0.85       435\n",
      "weighted avg       0.85      0.85      0.85       435\n",
      "\n"
     ]
    }
   ],
   "source": [
    "# Given an unbiased evaluation  (Question #E211)\n",
    "# ----------------------------------\n",
    "'''# Show parameters of trained models and their rank\n",
    "pd.set_option(\"max_colwidth\", 80)\n",
    "CV_rfc_df = pd.DataFrame(CV_rfc.cv_results_)\n",
    "print(CV_rfc_df[['params','rank_test_score']])'''\n",
    "\n",
    "# Evaluate best model using test data\n",
    "predicted_y = CV_rfc.predict(X_test)\n",
    "\n",
    "'''# Show parameters of best model\n",
    "best_params = CV_rfc.best_params_\n",
    "print('Best parameter:\\n',best_params)'''\n",
    "\n",
    "# Show best estimator\n",
    "best_estimator = CV_rfc.best_estimator_\n",
    "print('\\nBest estimator:\\n',best_estimator) \n",
    "\n",
    "# Display confusion matrix\n",
    "print('\\nConfusion Matrix:\\n',pd.DataFrame(confusion_matrix(y_test, predicted_y)))\n",
    "\n",
    "# Create classification report\n",
    "print('\\nClassification Report:\\n',classification_report(y_test, predicted_y))\n"
   ]
  },
  {
   "cell_type": "markdown",
   "metadata": {},
   "source": [
    "#### <center>Record the optimal hyperparameters and performance resulting from this pipeline.</center>"
   ]
  },
  {
   "cell_type": "raw",
   "metadata": {},
   "source": [
    "# Detail Hyperparameters and Results below  (Question #E212)\n",
    "# ---------------------------------------------\n",
    "\n",
    "\n",
    "\n",
    "\n",
    "\n",
    "\n",
    "\n"
   ]
  },
  {
   "cell_type": "markdown",
   "metadata": {},
   "source": [
    "## Compare these three pipelines and discuss your findings"
   ]
  },
  {
   "cell_type": "raw",
   "metadata": {},
   "source": [
    "# Write your analysis in this cell (Question #E213)\n",
    "# ----------------------------------\n",
    "\n",
    "\n",
    "\n",
    "\n",
    "\n",
    "\n",
    "\n"
   ]
  },
  {
   "cell_type": "markdown",
   "metadata": {},
   "source": [
    "## <span style=\"background: yellow;\">Commit your code!</span> "
   ]
  },
  {
   "cell_type": "markdown",
   "metadata": {},
   "source": [
    "### Pickle the required pipeline/models for Part III."
   ]
  },
  {
   "cell_type": "code",
   "execution_count": 18,
   "metadata": {},
   "outputs": [
    {
     "data": {
      "text/plain": [
       "['data/pipeline-v1.pkl']"
      ]
     },
     "execution_count": 18,
     "metadata": {},
     "output_type": "execute_result"
    }
   ],
   "source": [
    "# Pickle the best model\n",
    "#joblib.dump(CV_log_reg_model CV_dtc_model CV_rfc_model, 'data/pipeline-v1.pkl' )\n"
   ]
  },
  {
   "cell_type": "markdown",
   "metadata": {},
   "source": [
    "You should have made a few commits so far of this project.  \n",
    "**Definitely make a commit of the notebook now!**  \n",
    "Comment should be: `Final Project, Checkpoint - Pipelines done`\n"
   ]
  },
  {
   "cell_type": "markdown",
   "metadata": {},
   "source": [
    "# Save your notebook!\n",
    "## Then `File > Close and Halt`"
   ]
  }
 ],
 "metadata": {
  "kernelspec": {
   "display_name": "Python 3",
   "language": "python",
   "name": "python3"
  },
  "language_info": {
   "codemirror_mode": {
    "name": "ipython",
    "version": 3
   },
   "file_extension": ".py",
   "mimetype": "text/x-python",
   "name": "python",
   "nbconvert_exporter": "python",
   "pygments_lexer": "ipython3",
   "version": "3.7.3"
  }
 },
 "nbformat": 4,
 "nbformat_minor": 4
}
