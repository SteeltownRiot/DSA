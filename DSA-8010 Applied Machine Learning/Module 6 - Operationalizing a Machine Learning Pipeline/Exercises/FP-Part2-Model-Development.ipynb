{
 "cells": [
  {
   "cell_type": "markdown",
   "metadata": {},
   "source": [
    "# Part II: Model Development\n",
    "\n",
    "In this part, we develop three unique pipelines for predicting backorder. We use the smart sample from Part I to fit and evaluate these pipelines. "
   ]
  },
  {
   "cell_type": "code",
   "execution_count": 1,
   "metadata": {},
   "outputs": [],
   "source": [
    "%matplotlib inline\n",
    "import matplotlib.pyplot as plt\n",
    "\n",
    "import os, sys\n",
    "import itertools\n",
    "import numpy as np\n",
    "import pandas as pd\n",
    "import joblib\n",
    "\n",
    "from sklearn import preprocessing\n",
    "from sklearn.model_selection import train_test_split\n"
   ]
  },
  {
   "cell_type": "markdown",
   "metadata": {},
   "source": [
    "## Reload the smart sample here"
   ]
  },
  {
   "cell_type": "code",
   "execution_count": 12,
   "metadata": {},
   "outputs": [],
   "source": [
    "# Reload your smart sampling from local file \n",
    "# ----------------------------------\n",
    "X, y, train_undersamp = joblib.load('data/sample-data-v1.pkl')\n"
   ]
  },
  {
   "cell_type": "markdown",
   "metadata": {},
   "source": [
    "## Normalize/standardize the data if required; otherwise ignore. You can perform this step inside the pipeline (if required). "
   ]
  },
  {
   "cell_type": "code",
   "execution_count": 16,
   "metadata": {},
   "outputs": [
    {
     "name": "stdout",
     "output_type": "stream",
     "text": [
      "Mean of the dataset features\n",
      "[1.49783531e+02 7.01597165e+00 2.31098684e+01 1.49170901e+02\n",
      " 3.75961981e+01 1.11286155e+02 3.39850410e+01 2.76166805e-03\n",
      " 2.44987572e+00 7.41287858e-01 2.81487619e+00 1.85952315e-01\n",
      " 5.98361410e-04 1.36242290e-01 9.74638682e-01 1.84111203e-04]\n",
      "Variance of data\n",
      "[2.05705652e+03 5.47785352e+00 4.83967322e+02 1.59776336e+03\n",
      " 4.81613634e+02 1.40028856e+03 4.18233925e+02 5.24789599e-02\n",
      " 4.14619611e+01 2.72113454e-01 6.30854082e+01 3.89068184e-01\n",
      " 2.44541075e-02 3.43045666e-01 1.57219979e-01 1.35675092e-02]\n",
      "-----------------------------------\n",
      "# Scaled data:\n",
      "[[-0.06989771 -0.91568196 -0.04775089 ... -0.39715497  0.16131104\n",
      "  -0.01357001]\n",
      " [-0.06795318  0.90985061 -0.04775089 ...  2.51790883  0.16131104\n",
      "  -0.01357001]\n",
      " [-0.06795318  0.17963758 -0.04775089 ... -0.39715497  0.16131104\n",
      "  -0.01357001]\n",
      " ...\n",
      " [-0.07086997  0.17963758 -0.04775089 ... -0.39715497  0.16131104\n",
      "  -0.01357001]\n",
      " [-0.06843931  0.90985061 -0.04775089 ... -0.39715497  0.16131104\n",
      "  -0.01357001]\n",
      " [-0.07184223  0.36219084 -0.04775089 ... -0.39715497  0.16131104\n",
      "  -0.01357001]]\n",
      "# Mean of scaled data\n",
      "[ 0.00000000e+00  5.23275512e-18  0.00000000e+00  1.30818878e-18\n",
      " -6.54094390e-18 -2.61637756e-18  1.43900766e-17 -4.84029849e-17\n",
      " -2.61637756e-17 -3.71525613e-16  5.23275512e-18  1.30818878e-18\n",
      "  1.50441710e-17 -7.84913268e-18  4.87300320e-17  1.30818878e-18]\n",
      "# Variance of scaled data\n",
      "[1. 1. 1. 1. 1. 1. 1. 1. 1. 1. 1. 1. 1. 1. 1. 1.]\n",
      "# Scaled & normalized values:\n",
      "[[1.97363517e-05 1.52438006e-03 0.00000000e+00 ... 0.00000000e+00\n",
      "  6.87208133e-03 0.00000000e+00]\n",
      " [3.28939195e-05 9.14628036e-03 0.00000000e+00 ... 1.83803656e-02\n",
      "  6.87208133e-03 0.00000000e+00]\n",
      " [3.28939195e-05 6.09752024e-03 0.00000000e+00 ... 0.00000000e+00\n",
      "  6.87208133e-03 0.00000000e+00]\n",
      " ...\n",
      " [1.31575678e-05 6.09752024e-03 0.00000000e+00 ... 0.00000000e+00\n",
      "  6.87208133e-03 0.00000000e+00]\n",
      " [2.96045275e-05 9.14628036e-03 0.00000000e+00 ... 0.00000000e+00\n",
      "  6.87208133e-03 0.00000000e+00]\n",
      " [6.57878390e-06 6.85971027e-03 0.00000000e+00 ... 0.00000000e+00\n",
      "  6.87208133e-03 0.00000000e+00]]\n",
      "# All the line has unit norm\n",
      "[1. 1. 1. 1. 1. 1. 1. 1. 1. 1. 1. 1. 1. 1. 1. 1.]\n"
     ]
    }
   ],
   "source": [
    "# Standardize data\n",
    "scaler = preprocessing.StandardScaler().fit(X)\n",
    "X_scaled = scaler.transform(X)\n",
    "''' # Combine X_scaled and y\n",
    "train_under_stand = pd.DataFrame()\n",
    "train_under_stand = X_scaled\n",
    "train_under_stand.reset_index(drop = True)\n",
    "train_under_stand['went_on_backorder'] = y '''\n",
    "\n",
    "print(\"Mean of the dataset features\")\n",
    "print(scaler.mean_)\n",
    "print(\"Variance of data\")\n",
    "print(scaler.scale_)\n",
    "print(\"-\" * 35)\n",
    "\n",
    "print(\"# Scaled data:\")\n",
    "print(X_scaled)\n",
    "\n",
    "print(\"# Mean of scaled data\")\n",
    "print(X_scaled.mean(axis = 0))\n",
    "print(\"# Variance of scaled data\")\n",
    "print(X_scaled.std(axis = 0))\n",
    "\n",
    "\n",
    "# Normalize data\n",
    "X_normalized = preprocessing.normalize(X, axis = 0, norm = 'l2')  # axis = 0 means column-wise\n",
    "''' # Combine X_normalized and y\n",
    "train_under_norm = pd.DataFrame()\n",
    "train_under_norm = X_normalized\n",
    "train_under_norm['went_on_backorder'] = y '''\n",
    "\n",
    "print('# Scaled & normalized values:')\n",
    "print(X_normalized)\n",
    "\n",
    "print(\"# All the line has unit norm\")\n",
    "print(np.linalg.norm(X_normalized, axis=0) )"
   ]
  },
  {
   "cell_type": "markdown",
   "metadata": {},
   "source": [
    "## Split the data into Train/Test"
   ]
  },
  {
   "cell_type": "code",
   "execution_count": 17,
   "metadata": {},
   "outputs": [],
   "source": [
    "X_train, X_test, y_train, y_test = train_test_split(X, y, test_size = 0.2)\n"
   ]
  },
  {
   "cell_type": "markdown",
   "metadata": {},
   "source": [
    "## Developing Pipeline\n",
    "\n",
    "In this section, we design an operationalized machine learning pipeline, which includes:\n",
    "\n",
    "* Anomaly detection\n",
    "* Dimensionality Reduction\n",
    "* Train a classification model\n",
    "\n",
    "\n",
    "We are free to use any of the models that we learned in the past or we can use new models. Here is a pool of methods: \n",
    "\n",
    "### Pool of Anomaly Detection Methods (Discussed in M4)\n",
    "1. IsolationForest\n",
    "2. EllipticEnvelope\n",
    "3. LocalOutlierFactor\n",
    "4. OneClassSVM\n",
    "5. SGDOneClassSVM\n",
    "\n",
    "### Pool of Feature Selection Methods (Discussed in M3)\n",
    "\n",
    "1. VarianceThreshold\n",
    "1. SelectKBest with any scoring method (e.g, chi, f_classif, mutual_info_classif)\n",
    "1. SelectKPercentile\n",
    "3. SelectFpr, SelectFdr, or  SelectFwe\n",
    "1. GenericUnivariateSelect\n",
    "2. PCA\n",
    "3. Factor Analysis\n",
    "4. Variance Threshold\n",
    "5. RFE\n",
    "7. SelectFromModel\n",
    "\n",
    "\n",
    "### Classification Methods (Discussed in M1-M2\n",
    "1. Decision Tree\n",
    "2. Random Forest\n",
    "3. Logistic Regression\n",
    "4. Naive Bayes\n",
    "5. Linear SVC\n",
    "6. SVC with kernels\n",
    "7. KNeighborsClassifier\n",
    "8. GradientBoostingClassifier\n",
    "9. XGBClassifier\n",
    "10. LGBM Classifier\n",
    "\n",
    "\n",
    "\n",
    "It is difficult to fit an anomaly detection method in the sklearn pipeline without writing custom codes. For simplicity, we avoid fitting an anomaly detection method within a pipeline. So we can create the workflow in two steps. \n",
    "* Step I: fit an outlier with the training set\n",
    "* Step II: define a pipeline using a feature selection and a classification method. Then cross-validate this pipeline using the training data without outliers. \n",
    "* Note: if your smart sample is somewhat imbalanced, you might want to change the scoring method in GridSearchCV (see the [doc](https://scikit-learn.org/stable/modules/generated/sklearn.model_selection.GridSearchCV.html)).\n",
    "\n",
    "\n",
    "Once we fit the pipeline with gridsearch, we identify the best model and give an unbiased evaluation using the test set that we created in Part II. For unbiased evaluation we report confusion matrix, precision, recall, f1-score, accuracy, and other measures if you like. \n",
    "\n",
    "**Optional: Those who are interested in writing custom codes for adding an outlier detection method into the sklearn pipeline, please follow this discussion [thread](https://stackoverflow.com/questions/52346725/can-i-add-outlier-detection-and-removal-to-scikit-learn-pipeline).**\n",
    "\n",
    "\n",
    "**Note:** <span style='background:yellow'>We will be using Grid Search to find the optimal parameters of the pipelines.</span>\n",
    "\n",
    "You can add more notebook cells or import any Python modules as needed."
   ]
  },
  {
   "cell_type": "code",
   "execution_count": 18,
   "metadata": {},
   "outputs": [],
   "source": [
    "from sklearn.svm import OneClassSVM\n",
    "from sklearn.neighbors import LocalOutlierFactor\n",
    "from sklearn.covariance import EllipticEnvelope\n",
    "from sklearn.ensemble import IsolationForest\n",
    "\n",
    "from sklearn.decomposition import PCA, FactorAnalysis\n",
    "from sklearn.feature_selection import SelectKBest, chi2, f_classif, mutual_info_classif\n",
    "\n",
    "from sklearn.pipeline import Pipeline\n"
   ]
  },
  {
   "cell_type": "markdown",
   "metadata": {},
   "source": [
    "### Your 1st pipeline \n",
    "  * Anomaly detection\n",
    "  * Dimensionality reduction\n",
    "  * Model training/validation\n",
    "  \n",
    "Add cells as needed. "
   ]
  },
  {
   "cell_type": "code",
   "execution_count": 19,
   "metadata": {},
   "outputs": [
    {
     "name": "stdout",
     "output_type": "stream",
     "text": [
      "Num of outliers = 869\n"
     ]
    }
   ],
   "source": [
    "# Add anomaly detection code  (Question #E201)\n",
    "# ----------------------------------\n",
    "# Construct IsolationForest \n",
    "iso_forest = IsolationForest(contamination = 0.05).fit(X_train, y_train)\n",
    "\n",
    "# Get labels from classifier and cull them\n",
    "iso_outliers = iso_forest.predict(X_train) == -1\n",
    "print(f\"Number of outliers = {np.sum(iso_outliers)}\")\n",
    "X_iso = X_train[~iso_outliers]\n",
    "y_iso = y_train[~iso_outliers]\n"
   ]
  },
  {
   "cell_type": "code",
   "execution_count": 20,
   "metadata": {},
   "outputs": [
    {
     "ename": "SyntaxError",
     "evalue": "invalid syntax (<ipython-input-20-4269b6aafd9a>, line 10)",
     "output_type": "error",
     "traceback": [
      "\u001b[0;36m  File \u001b[0;32m\"<ipython-input-20-4269b6aafd9a>\"\u001b[0;36m, line \u001b[0;32m10\u001b[0m\n\u001b[0;31m    ])\u001b[0m\n\u001b[0m    ^\u001b[0m\n\u001b[0;31mSyntaxError\u001b[0m\u001b[0;31m:\u001b[0m invalid syntax\n"
     ]
    }
   ],
   "source": [
    "# Add codes for feature selection and classification pipeline with grid search  (Question #E202)\n",
    "# ----------------------------------\n",
    "#pca_components = 5    # Sets PCA components to 5\n",
    "\n",
    "# Define pipeline\n",
    "pipe = Pipeline([\n",
    "    ('scale', MinMaxScaler()),                      # Scale the data\n",
    "    ('PCA', PCA(n_components = pca_components)),    # reduce feature vector to size of 5\n",
    "    ('grid', GridSearchCV(pipe, param_grid, n_jobs = 2, cv = 10))\n",
    "])\n",
    "\n",
    "# Define parameter grid\n",
    "param_grid = {'PCA__n_components': [5, 20, 30, 35, 60], \n",
    "              #'Logistic__C': [0.001, 0.1, 1.0, 10, 100], \n",
    "              #'Logistic__max_iter': [1000]\n",
    "              }\n",
    "\n",
    "# Use Grid Search to train Pipeline\n",
    "model_grid = GridSearchCV(pipe, param_grid, n_jobs = 2, cv = 10)\n",
    "\n",
    "model_grid.fit(X_iso, y_iso)"
   ]
  },
  {
   "cell_type": "code",
   "execution_count": null,
   "metadata": {},
   "outputs": [],
   "source": [
    "# Given an unbiased evaluation  (Question #E203)\n",
    "# ----------------------------------\n",
    "# Show parameters of trained models and their rank\n",
    "pd.set_option(\"max_colwidth\", 80)\n",
    "modelgrid_df = pd.DataFrame(model_grid.cv_results_)\n",
    "modelgrid_df[['params','rank_test_score']]\n",
    "#Show parameters of best model\n",
    "best_params = model_grid.best_params_\n",
    "print(best_params)\n",
    "\n",
    "# Evaluate best model using test data\n",
    "predicted_y = model_grid.predict(X_iso)\n",
    "\n",
    "# Display confusion matrix\n",
    "pd.DataFrame(confusion_matrix(y_test, predicted_y))\n",
    "\n",
    "# Create classification report\n",
    "print(classification_report(y_test, predicted_y))\n"
   ]
  },
  {
   "cell_type": "markdown",
   "metadata": {},
   "source": [
    "#### <center>Record the optimal hyperparameters and performance resulting from this pipeline.</center>"
   ]
  },
  {
   "cell_type": "raw",
   "metadata": {},
   "source": [
    "# Detail Hyperparameters and Results below  (Question #E204)\n",
    "# ---------------------------------------------\n",
    "\n",
    "\n",
    "\n",
    "\n",
    "\n",
    "\n",
    "\n"
   ]
  },
  {
   "cell_type": "markdown",
   "metadata": {},
   "source": [
    "## <span style=\"background: yellow;\">Commit your code!</span> "
   ]
  },
  {
   "cell_type": "markdown",
   "metadata": {},
   "source": [
    "### Your 2nd pipeline\n",
    "  * Anomaly detection\n",
    "  * Dimensionality reduction\n",
    "  * Model training/validation"
   ]
  },
  {
   "cell_type": "code",
   "execution_count": null,
   "metadata": {},
   "outputs": [],
   "source": [
    "# Add anomaly detection code  (Question #E205)\n",
    "# ----------------------------------\n"
   ]
  },
  {
   "cell_type": "code",
   "execution_count": null,
   "metadata": {},
   "outputs": [],
   "source": [
    "# Add codes for feature selection and classification pipeline with grid search  (Question #E206)\n",
    "# ----------------------------------\n"
   ]
  },
  {
   "cell_type": "code",
   "execution_count": null,
   "metadata": {},
   "outputs": [],
   "source": [
    "# Given an unbiased evaluation  (Question #E207)\n",
    "# ----------------------------------"
   ]
  },
  {
   "cell_type": "markdown",
   "metadata": {},
   "source": [
    "#### <center>Record the optimal hyperparameters and performance resulting from this pipeline.</center>"
   ]
  },
  {
   "cell_type": "raw",
   "metadata": {},
   "source": [
    "# Detail Hyperparameters and Results below  (Question #E208)\n",
    "# ---------------------------------------------\n",
    "\n",
    "\n",
    "\n",
    "\n",
    "\n",
    "\n",
    "\n"
   ]
  },
  {
   "cell_type": "markdown",
   "metadata": {},
   "source": [
    "## <span style=\"background: yellow;\">Commit your code!</span> "
   ]
  },
  {
   "cell_type": "markdown",
   "metadata": {},
   "source": [
    "### Your 3rd pipeline\n",
    "  * Anomaly detection\n",
    "  * Dimensionality reduction\n",
    "  * Model training/validation"
   ]
  },
  {
   "cell_type": "code",
   "execution_count": null,
   "metadata": {},
   "outputs": [],
   "source": [
    "# Add anomaly detection code  (Question #E209)\n",
    "# ----------------------------------\n"
   ]
  },
  {
   "cell_type": "code",
   "execution_count": null,
   "metadata": {},
   "outputs": [],
   "source": [
    "# Add codes for feature selection and classification pipeline with grid search  (Question #E210)\n",
    "# ----------------------------------\n"
   ]
  },
  {
   "cell_type": "code",
   "execution_count": null,
   "metadata": {},
   "outputs": [],
   "source": [
    "# Given an unbiased evaluation  (Question #E211)\n",
    "# ----------------------------------"
   ]
  },
  {
   "cell_type": "markdown",
   "metadata": {},
   "source": [
    "#### <center>Record the optimal hyperparameters and performance resulting from this pipeline.</center>"
   ]
  },
  {
   "cell_type": "raw",
   "metadata": {},
   "source": [
    "# Detail Hyperparameters and Results below  (Question #E212)\n",
    "# ---------------------------------------------\n",
    "\n",
    "\n",
    "\n",
    "\n",
    "\n",
    "\n",
    "\n"
   ]
  },
  {
   "cell_type": "markdown",
   "metadata": {},
   "source": [
    "## Compare these three pipelines and discuss your findings"
   ]
  },
  {
   "cell_type": "raw",
   "metadata": {},
   "source": [
    "# Write your analysis in this cell (Question #E213)\n",
    "# ----------------------------------\n",
    "\n",
    "\n",
    "\n",
    "\n",
    "\n",
    "\n",
    "\n"
   ]
  },
  {
   "cell_type": "markdown",
   "metadata": {},
   "source": [
    "## <span style=\"background: yellow;\">Commit your code!</span> "
   ]
  },
  {
   "cell_type": "markdown",
   "metadata": {},
   "source": [
    "### Pickle the required pipeline/models for Part III."
   ]
  },
  {
   "cell_type": "code",
   "execution_count": null,
   "metadata": {},
   "outputs": [],
   "source": [
    "\n",
    "\n",
    "\n"
   ]
  },
  {
   "cell_type": "markdown",
   "metadata": {},
   "source": [
    "You should have made a few commits so far of this project.  \n",
    "**Definitely make a commit of the notebook now!**  \n",
    "Comment should be: `Final Project, Checkpoint - Pipelines done`\n"
   ]
  },
  {
   "cell_type": "markdown",
   "metadata": {},
   "source": [
    "# Save your notebook!\n",
    "## Then `File > Close and Halt`"
   ]
  }
 ],
 "metadata": {
  "kernelspec": {
   "display_name": "Python 3",
   "language": "python",
   "name": "python3"
  }
 },
 "nbformat": 4,
 "nbformat_minor": 4
}
