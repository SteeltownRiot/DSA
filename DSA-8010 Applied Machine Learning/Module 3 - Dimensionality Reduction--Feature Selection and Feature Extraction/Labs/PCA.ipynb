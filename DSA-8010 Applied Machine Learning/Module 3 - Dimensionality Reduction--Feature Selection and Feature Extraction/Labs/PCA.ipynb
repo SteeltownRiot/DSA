{
 "cells": [
  {
   "cell_type": "markdown",
   "metadata": {},
   "source": [
    "# Module 3: Principal componentent analysis\n",
    "\n",
    "In this lab you will learn about **Principal componentent analysis** (PCA).\n",
    "It is a linear transformation that transforms data points into feature space representation,\n",
    "which has the following properties:\n",
    "\n",
    "+ Exactly the **same** dimension as the original data space\n",
    "+ Reconstruction of data points is optimal in the mean-square-error sense.\n",
    "+ Principal components are sorted by \"effectiveness\" at capturing variance.\n",
    "+ Dimensionality reduction can be done simply by truncating (down selecting the number of) principal components.\n",
    "\n",
    "For this session, we are going to use **red wine quality** dataset for principal componentent analysis \n",
    "and transform its data space into feature space with top 5 principal components.\n",
    "\n",
    "sklearn API reference:\n",
    "\n",
    "+ [sklearn.decomposition.PCA](http://scikit-learn.org/stable/modules/generated/sklearn.decomposition.PCA.html)\n",
    "\n",
    "\n",
    "**Note:** Previously you saw PCA in the 8610 (Stat/Math) course."
   ]
  },
  {
   "cell_type": "code",
   "execution_count": 1,
   "metadata": {},
   "outputs": [],
   "source": [
    "%matplotlib inline\n",
    "import matplotlib.pyplot as plt\n",
    "\n",
    "import os, sys\n",
    "import numpy as np\n",
    "import pandas as pd\n",
    "from sklearn.decomposition import PCA\n",
    "from sklearn.preprocessing import scale"
   ]
  },
  {
   "cell_type": "markdown",
   "metadata": {},
   "source": [
    "## Load dataset"
   ]
  },
  {
   "cell_type": "code",
   "execution_count": 2,
   "metadata": {},
   "outputs": [],
   "source": [
    "# Dataset location\n",
    "DATASET = '/dsa/data/all_datasets/wine-quality/winequality-red.csv'\n",
    "assert os.path.exists(DATASET)\n",
    "\n",
    "# Load and shuffle\n",
    "dataset = pd.read_csv(DATASET, sep=';').sample(frac = 1).reset_index(drop=True)\n",
    "\n"
   ]
  },
  {
   "cell_type": "code",
   "execution_count": 3,
   "metadata": {},
   "outputs": [
    {
     "name": "stdout",
     "output_type": "stream",
     "text": [
      "(1599, 12)\n"
     ]
    }
   ],
   "source": [
    "X = np.array(dataset.iloc[:, :-1])\n",
    "\n",
    "X_centered = scale(X, with_std = False)\n",
    "\n",
    "y = np.array(dataset.quality)\n",
    "\n",
    "print(dataset.shape)\n",
    "\n"
   ]
  },
  {
   "cell_type": "markdown",
   "metadata": {},
   "source": [
    "## PCA with sklearn\n",
    "\n",
    "The following cell performs principal component analysis and transforms data space into feature space,\n",
    "which is done by a matrix transform followed by truncation of low variance principal components.\n",
    "Then you are free to use the obtained features **X_features** as input to your model. "
   ]
  },
  {
   "cell_type": "code",
   "execution_count": 4,
   "metadata": {},
   "outputs": [
    {
     "name": "stdout",
     "output_type": "stream",
     "text": [
      "[9.46576976e-01 4.83683046e-02 2.58917183e-03 1.51896798e-03\n",
      " 8.73553990e-04]\n",
      "Features shape (1599, 5)\n"
     ]
    }
   ],
   "source": [
    "pca = PCA(n_components=5)\n",
    "pca.fit(X_centered)\n",
    "print(pca.explained_variance_ratio_)\n",
    "X_features = pca.transform(X_centered)\n",
    "print('Features shape', X_features.shape)"
   ]
  },
  {
   "cell_type": "markdown",
   "metadata": {},
   "source": [
    "## Reconstruction of data space\n",
    "\n",
    "An approximation of original dataset can be recovered by linearly combining high variance principal components.\n",
    "This demonstrates the connection between data space and feature space.\n",
    "\n",
    "$$ \\hat X = AQ + \\mu \\approx X $$\n",
    "\n",
    "**Note**: The difference between **X_synthesized** and **X_reconstructed** is that the former is centered\n",
    "at the origin because PCA assumes mathematical expectation of input to be zero and input needs centered otherwise.\n",
    "Therefore, in order to reconstruct the original dataset, the approximation obtained using PCA has to be\n",
    "shifted back."
   ]
  },
  {
   "cell_type": "code",
   "execution_count": 5,
   "metadata": {},
   "outputs": [
    {
     "name": "stdout",
     "output_type": "stream",
     "text": [
      "Principal components shape (5, 11)\n",
      "Reconstructed dataset shape (1599, 11)\n"
     ]
    }
   ],
   "source": [
    "print('Principal components shape', pca.components_.shape)\n",
    "X_synthesized = np.dot(X_features, pca.components_)\n",
    "X_reconstructed = X_synthesized + np.mean(X, axis = 0)[np.newaxis, ...]\n",
    "print('Reconstructed dataset shape', X_reconstructed.shape)"
   ]
  },
  {
   "cell_type": "markdown",
   "metadata": {},
   "source": [
    "The following cell shows a reconstructed dataset which is an approximation of original dataset."
   ]
  },
  {
   "cell_type": "code",
   "execution_count": 6,
   "metadata": {},
   "outputs": [
    {
     "data": {
      "text/html": [
       "<div>\n",
       "<style scoped>\n",
       "    .dataframe tbody tr th:only-of-type {\n",
       "        vertical-align: middle;\n",
       "    }\n",
       "\n",
       "    .dataframe tbody tr th {\n",
       "        vertical-align: top;\n",
       "    }\n",
       "\n",
       "    .dataframe thead th {\n",
       "        text-align: right;\n",
       "    }\n",
       "</style>\n",
       "<table border=\"1\" class=\"dataframe\">\n",
       "  <thead>\n",
       "    <tr style=\"text-align: right;\">\n",
       "      <th></th>\n",
       "      <th>fixed acidity</th>\n",
       "      <th>volatile acidity</th>\n",
       "      <th>citric acid</th>\n",
       "      <th>residual sugar</th>\n",
       "      <th>chlorides</th>\n",
       "      <th>free sulfur dioxide</th>\n",
       "      <th>total sulfur dioxide</th>\n",
       "      <th>density</th>\n",
       "      <th>pH</th>\n",
       "      <th>sulphates</th>\n",
       "      <th>alcohol</th>\n",
       "    </tr>\n",
       "  </thead>\n",
       "  <tbody>\n",
       "    <tr>\n",
       "      <th>0</th>\n",
       "      <td>9.806311</td>\n",
       "      <td>0.476104</td>\n",
       "      <td>0.388437</td>\n",
       "      <td>2.500246</td>\n",
       "      <td>0.086996</td>\n",
       "      <td>8.999933</td>\n",
       "      <td>28.000067</td>\n",
       "      <td>0.997403</td>\n",
       "      <td>3.234191</td>\n",
       "      <td>0.684995</td>\n",
       "      <td>10.803855</td>\n",
       "    </tr>\n",
       "    <tr>\n",
       "      <th>1</th>\n",
       "      <td>7.904569</td>\n",
       "      <td>0.525384</td>\n",
       "      <td>0.224643</td>\n",
       "      <td>1.899247</td>\n",
       "      <td>0.092948</td>\n",
       "      <td>46.000255</td>\n",
       "      <td>101.999915</td>\n",
       "      <td>0.996877</td>\n",
       "      <td>3.312720</td>\n",
       "      <td>0.682027</td>\n",
       "      <td>9.503353</td>\n",
       "    </tr>\n",
       "    <tr>\n",
       "      <th>2</th>\n",
       "      <td>7.802357</td>\n",
       "      <td>0.593326</td>\n",
       "      <td>0.170761</td>\n",
       "      <td>1.899652</td>\n",
       "      <td>0.098734</td>\n",
       "      <td>14.000231</td>\n",
       "      <td>37.999983</td>\n",
       "      <td>0.997348</td>\n",
       "      <td>3.319550</td>\n",
       "      <td>0.616790</td>\n",
       "      <td>9.008554</td>\n",
       "    </tr>\n",
       "    <tr>\n",
       "      <th>3</th>\n",
       "      <td>7.606049</td>\n",
       "      <td>0.532225</td>\n",
       "      <td>0.214287</td>\n",
       "      <td>2.799684</td>\n",
       "      <td>0.087903</td>\n",
       "      <td>32.999863</td>\n",
       "      <td>73.000058</td>\n",
       "      <td>0.996528</td>\n",
       "      <td>3.351431</td>\n",
       "      <td>0.662309</td>\n",
       "      <td>10.194204</td>\n",
       "    </tr>\n",
       "    <tr>\n",
       "      <th>4</th>\n",
       "      <td>7.684939</td>\n",
       "      <td>0.546593</td>\n",
       "      <td>0.196405</td>\n",
       "      <td>1.999970</td>\n",
       "      <td>0.088008</td>\n",
       "      <td>19.000117</td>\n",
       "      <td>40.999818</td>\n",
       "      <td>0.996386</td>\n",
       "      <td>3.351925</td>\n",
       "      <td>0.642312</td>\n",
       "      <td>10.093510</td>\n",
       "    </tr>\n",
       "  </tbody>\n",
       "</table>\n",
       "</div>"
      ],
      "text/plain": [
       "   fixed acidity  volatile acidity  citric acid  residual sugar  chlorides  \\\n",
       "0       9.806311          0.476104     0.388437        2.500246   0.086996   \n",
       "1       7.904569          0.525384     0.224643        1.899247   0.092948   \n",
       "2       7.802357          0.593326     0.170761        1.899652   0.098734   \n",
       "3       7.606049          0.532225     0.214287        2.799684   0.087903   \n",
       "4       7.684939          0.546593     0.196405        1.999970   0.088008   \n",
       "\n",
       "   free sulfur dioxide  total sulfur dioxide   density        pH  sulphates  \\\n",
       "0             8.999933             28.000067  0.997403  3.234191   0.684995   \n",
       "1            46.000255            101.999915  0.996877  3.312720   0.682027   \n",
       "2            14.000231             37.999983  0.997348  3.319550   0.616790   \n",
       "3            32.999863             73.000058  0.996528  3.351431   0.662309   \n",
       "4            19.000117             40.999818  0.996386  3.351925   0.642312   \n",
       "\n",
       "     alcohol  \n",
       "0  10.803855  \n",
       "1   9.503353  \n",
       "2   9.008554  \n",
       "3  10.194204  \n",
       "4  10.093510  "
      ]
     },
     "execution_count": 6,
     "metadata": {},
     "output_type": "execute_result"
    }
   ],
   "source": [
    "pd.DataFrame(X_reconstructed, columns = dataset.columns[:-1]).head()"
   ]
  },
  {
   "cell_type": "markdown",
   "metadata": {},
   "source": [
    "The following cell shows the original dataset for comparison, and that we would not\n",
    "lose a whole lot of information by throwing away those low variance principal components."
   ]
  },
  {
   "cell_type": "code",
   "execution_count": 7,
   "metadata": {},
   "outputs": [
    {
     "data": {
      "text/html": [
       "<div>\n",
       "<style scoped>\n",
       "    .dataframe tbody tr th:only-of-type {\n",
       "        vertical-align: middle;\n",
       "    }\n",
       "\n",
       "    .dataframe tbody tr th {\n",
       "        vertical-align: top;\n",
       "    }\n",
       "\n",
       "    .dataframe thead th {\n",
       "        text-align: right;\n",
       "    }\n",
       "</style>\n",
       "<table border=\"1\" class=\"dataframe\">\n",
       "  <thead>\n",
       "    <tr style=\"text-align: right;\">\n",
       "      <th></th>\n",
       "      <th>fixed acidity</th>\n",
       "      <th>volatile acidity</th>\n",
       "      <th>citric acid</th>\n",
       "      <th>residual sugar</th>\n",
       "      <th>chlorides</th>\n",
       "      <th>free sulfur dioxide</th>\n",
       "      <th>total sulfur dioxide</th>\n",
       "      <th>density</th>\n",
       "      <th>pH</th>\n",
       "      <th>sulphates</th>\n",
       "      <th>alcohol</th>\n",
       "    </tr>\n",
       "  </thead>\n",
       "  <tbody>\n",
       "    <tr>\n",
       "      <th>0</th>\n",
       "      <td>9.8</td>\n",
       "      <td>0.44</td>\n",
       "      <td>0.47</td>\n",
       "      <td>2.5</td>\n",
       "      <td>0.063</td>\n",
       "      <td>9.0</td>\n",
       "      <td>28.0</td>\n",
       "      <td>0.99810</td>\n",
       "      <td>3.24</td>\n",
       "      <td>0.65</td>\n",
       "      <td>10.8</td>\n",
       "    </tr>\n",
       "    <tr>\n",
       "      <th>1</th>\n",
       "      <td>7.9</td>\n",
       "      <td>0.35</td>\n",
       "      <td>0.21</td>\n",
       "      <td>1.9</td>\n",
       "      <td>0.073</td>\n",
       "      <td>46.0</td>\n",
       "      <td>102.0</td>\n",
       "      <td>0.99640</td>\n",
       "      <td>3.27</td>\n",
       "      <td>0.58</td>\n",
       "      <td>9.5</td>\n",
       "    </tr>\n",
       "    <tr>\n",
       "      <th>2</th>\n",
       "      <td>7.8</td>\n",
       "      <td>0.52</td>\n",
       "      <td>0.25</td>\n",
       "      <td>1.9</td>\n",
       "      <td>0.081</td>\n",
       "      <td>14.0</td>\n",
       "      <td>38.0</td>\n",
       "      <td>0.99840</td>\n",
       "      <td>3.43</td>\n",
       "      <td>0.65</td>\n",
       "      <td>9.0</td>\n",
       "    </tr>\n",
       "    <tr>\n",
       "      <th>3</th>\n",
       "      <td>7.6</td>\n",
       "      <td>0.51</td>\n",
       "      <td>0.15</td>\n",
       "      <td>2.8</td>\n",
       "      <td>0.110</td>\n",
       "      <td>33.0</td>\n",
       "      <td>73.0</td>\n",
       "      <td>0.99550</td>\n",
       "      <td>3.17</td>\n",
       "      <td>0.63</td>\n",
       "      <td>10.2</td>\n",
       "    </tr>\n",
       "    <tr>\n",
       "      <th>4</th>\n",
       "      <td>7.7</td>\n",
       "      <td>0.60</td>\n",
       "      <td>0.06</td>\n",
       "      <td>2.0</td>\n",
       "      <td>0.079</td>\n",
       "      <td>19.0</td>\n",
       "      <td>41.0</td>\n",
       "      <td>0.99697</td>\n",
       "      <td>3.39</td>\n",
       "      <td>0.62</td>\n",
       "      <td>10.1</td>\n",
       "    </tr>\n",
       "  </tbody>\n",
       "</table>\n",
       "</div>"
      ],
      "text/plain": [
       "   fixed acidity  volatile acidity  citric acid  residual sugar  chlorides  \\\n",
       "0            9.8              0.44         0.47             2.5      0.063   \n",
       "1            7.9              0.35         0.21             1.9      0.073   \n",
       "2            7.8              0.52         0.25             1.9      0.081   \n",
       "3            7.6              0.51         0.15             2.8      0.110   \n",
       "4            7.7              0.60         0.06             2.0      0.079   \n",
       "\n",
       "   free sulfur dioxide  total sulfur dioxide  density    pH  sulphates  \\\n",
       "0                  9.0                  28.0  0.99810  3.24       0.65   \n",
       "1                 46.0                 102.0  0.99640  3.27       0.58   \n",
       "2                 14.0                  38.0  0.99840  3.43       0.65   \n",
       "3                 33.0                  73.0  0.99550  3.17       0.63   \n",
       "4                 19.0                  41.0  0.99697  3.39       0.62   \n",
       "\n",
       "   alcohol  \n",
       "0     10.8  \n",
       "1      9.5  \n",
       "2      9.0  \n",
       "3     10.2  \n",
       "4     10.1  "
      ]
     },
     "execution_count": 7,
     "metadata": {},
     "output_type": "execute_result"
    }
   ],
   "source": [
    "dataset.iloc[:5, :-1]"
   ]
  },
  {
   "cell_type": "markdown",
   "metadata": {},
   "source": [
    "## Approximation error of principal components\n",
    "\n",
    "As a result, we were able to represent original dataset using principal components\n",
    "without losing too much information. \n",
    "Space consumption was essentially halved.\n",
    "And these principal components can be used as features for subsequent machine learning pipeline.\n",
    "The following calculates mean squared error between original dataset and reconstructed dataset for all cells."
   ]
  },
  {
   "cell_type": "code",
   "execution_count": 8,
   "metadata": {},
   "outputs": [
    {
     "data": {
      "text/plain": [
       "0.007946790572589547"
      ]
     },
     "execution_count": 8,
     "metadata": {},
     "output_type": "execute_result"
    }
   ],
   "source": [
    "error = X - X_reconstructed\n",
    "np.mean((error**2))"
   ]
  },
  {
   "cell_type": "markdown",
   "metadata": {},
   "source": [
    "## Verify eigenstructure of PCA\n",
    "\n",
    "The solution of PCA could be found by performing **eigen-decomposition** of the covariance matrix of **X**.\n",
    "This section quickly verifies some of its properties pertaining to eigenstructure.\n",
    "\n",
    "Some other interesting facts about PCA include that the error and approximation are orthogonal.\n",
    "Because the approximation consists of high variance principal components while the error solely \n",
    "consists of low variance principal components, and all principal components are orthogonal pairwise.\n",
    "\n",
    "$$ E^T (\\hat X- \\mu) = 0$$\n",
    "\n",
    "Moreover, this orthogonality is a desirable property because it is tantamount to achieving minimum mean square error. \n",
    "See [Principle of Orthogonality](https://en.wikipedia.org/wiki/Orthogonality_principle)."
   ]
  },
  {
   "cell_type": "code",
   "execution_count": 9,
   "metadata": {},
   "outputs": [
    {
     "data": {
      "text/plain": [
       "True"
      ]
     },
     "execution_count": 9,
     "metadata": {},
     "output_type": "execute_result"
    }
   ],
   "source": [
    "np.allclose(np.dot(error.T, X_synthesized), np.zeros((X.shape[1],X.shape[1])))"
   ]
  },
  {
   "cell_type": "code",
   "execution_count": 10,
   "metadata": {},
   "outputs": [
    {
     "data": {
      "text/plain": [
       "array([[1, 1, 1, 1, 1, 1, 1, 1, 1, 1, 1],\n",
       "       [1, 1, 1, 1, 1, 1, 1, 1, 1, 1, 1],\n",
       "       [1, 1, 1, 1, 1, 1, 1, 1, 1, 1, 1],\n",
       "       [1, 1, 1, 1, 1, 1, 1, 1, 1, 1, 1],\n",
       "       [1, 1, 1, 1, 1, 1, 1, 1, 1, 1, 1],\n",
       "       [1, 1, 1, 1, 1, 1, 1, 1, 1, 1, 1],\n",
       "       [1, 1, 1, 1, 1, 1, 1, 1, 1, 1, 1],\n",
       "       [1, 1, 1, 1, 1, 1, 1, 1, 1, 1, 1],\n",
       "       [1, 1, 1, 1, 1, 1, 1, 1, 1, 1, 1],\n",
       "       [1, 1, 1, 1, 1, 1, 1, 1, 1, 1, 1],\n",
       "       [1, 1, 1, 1, 1, 1, 1, 1, 1, 1, 1]])"
      ]
     },
     "execution_count": 10,
     "metadata": {},
     "output_type": "execute_result"
    }
   ],
   "source": [
    "np.isclose(np.dot(error.T, X_synthesized), np.zeros((X.shape[1],X.shape[1]))).astype(int)"
   ]
  },
  {
   "cell_type": "markdown",
   "metadata": {},
   "source": [
    "Principal component analysis is also closely related to eigen-decomposition and the singular value decomposition problem.\n",
    "The former can be quickly verified that **pca.explained\\_variance_** and **pca.components_** are, in fact, the **eigenvalues** and **eigenvectors** of the covariance matrix,\n",
    "which also explains the orthogonality among all principal components.\n",
    "\n",
    "$$ cov(X)Q = \\Lambda Q $$\n",
    "\n",
    "or for each column vector $\\vec{q_j}$ in **Q**, this is the eigenequation:\n",
    "\n",
    "$$ R \\vec{q_j}=\\lambda_j \\vec{q_j}$$\n",
    "\n",
    "where\n",
    "\n",
    "$$R=cov(X) = E(X-\\mu)(X-\\mu)^T$$"
   ]
  },
  {
   "cell_type": "code",
   "execution_count": 11,
   "metadata": {},
   "outputs": [
    {
     "name": "stdout",
     "output_type": "stream",
     "text": [
      "True\n",
      "True\n",
      "True\n",
      "True\n",
      "True\n"
     ]
    }
   ],
   "source": [
    "# covariance matrix of X\n",
    "R = np.dot(X_centered.T, X_centered) / X.shape[0]\n",
    "\n",
    "for eigenvalue, eigenvector in zip(pca.explained_variance_, pca.components_):\n",
    "    print(np.allclose(\n",
    "        np.dot(R, eigenvector),          # left hand side\n",
    "        np.dot(eigenvalue, eigenvector)  # right hand side\n",
    "    , rtol=1e-3))"
   ]
  },
  {
   "cell_type": "markdown",
   "metadata": {},
   "source": [
    "## Scree plot\n",
    "\n",
    "This plots variances (y-axis) against components (x-axis).\n",
    "As one moves to the right, toward later components, the variances (or the eigenvalues) drop.\n",
    "It helps us to decide on number of principal components to be retained, although this is subjective."
   ]
  },
  {
   "cell_type": "code",
   "execution_count": 12,
   "metadata": {},
   "outputs": [
    {
     "data": {
      "text/plain": [
       "[<matplotlib.lines.Line2D at 0x7f95a16bc588>]"
      ]
     },
     "execution_count": 12,
     "metadata": {},
     "output_type": "execute_result"
    },
    {
     "data": {
      "image/png": "[encoded data removed]",
      "text/plain": [
       "<Figure size 432x288 with 1 Axes>"
      ]
     },
     "metadata": {
      "needs_background": "light"
     },
     "output_type": "display_data"
    }
   ],
   "source": [
    "x_ticks = np.arange(len(pca.components_))+1\n",
    "plt.xticks(x_ticks) # this enforces integers on the x-axis\n",
    "plt.plot(x_ticks, pca.explained_variance_)"
   ]
  },
  {
   "cell_type": "markdown",
   "metadata": {},
   "source": [
    "Similarily, you could also plot the explained variance ratio.\n",
    "A full PCA without components truncated would have total explained variance ratio equal to 1."
   ]
  },
  {
   "cell_type": "code",
   "execution_count": 13,
   "metadata": {},
   "outputs": [
    {
     "name": "stdout",
     "output_type": "stream",
     "text": [
      "total expained variance ratio 0.9999269747729677\n"
     ]
    },
    {
     "data": {
      "image/png": "[encoded data removed]",
      "text/plain": [
       "<Figure size 432x288 with 1 Axes>"
      ]
     },
     "metadata": {
      "needs_background": "light"
     },
     "output_type": "display_data"
    }
   ],
   "source": [
    "plt.xticks(x_ticks)\n",
    "plt.plot(x_ticks, pca.explained_variance_ratio_)\n",
    "print('total expained variance ratio', np.sum(pca.explained_variance_ratio_))"
   ]
  },
  {
   "cell_type": "markdown",
   "metadata": {},
   "source": [
    "The above two plots show that the first component explained most of the variance present in the data. We can simply work with first 2/3 compoents. "
   ]
  },
  {
   "cell_type": "markdown",
   "metadata": {},
   "source": [
    "## Conclusion\n",
    "\n",
    "In this lab we learned about:\n",
    "+ Apply PCA to a dataset for feature extraction.\n",
    "+ Reconstruct an approximation of original dataset using principal components.\n",
    "+ Eigenstructure of PCA.\n",
    "+ Scree plot of PCA."
   ]
  }
 ],
 "metadata": {
  "kernelspec": {
   "display_name": "Python 3",
   "language": "python",
   "name": "python3"
  },
  "language_info": {
   "codemirror_mode": {
    "name": "ipython",
    "version": 3
   },
   "file_extension": ".py",
   "mimetype": "text/x-python",
   "name": "python",
   "nbconvert_exporter": "python",
   "pygments_lexer": "ipython3",
   "version": "3.7.3"
  }
 },
 "nbformat": 4,
 "nbformat_minor": 4
}
