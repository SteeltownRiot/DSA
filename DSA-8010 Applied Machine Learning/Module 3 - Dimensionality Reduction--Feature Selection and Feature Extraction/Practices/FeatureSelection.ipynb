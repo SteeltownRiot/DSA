{
 "cells": [
  {
   "cell_type": "markdown",
   "metadata": {},
   "source": [
    "# Module 3: Feature selection - Practice\n",
    "\n",
    "In this session you will practice **feature selection**, which reduces the dimensionality of data for the following reasons:\n",
    "\n",
    "1. Reduces overfitting by removing noise introduced by some of the features.\n",
    "2. Reduces training time, which allows you to experiment more with different models and hyperparameters.\n",
    "3. Reduces data acquisition requirements.\n",
    "4. Improves comprehensibility of the model because a smaller set of features is more comprehendible to humans. That will enable you to focus on the main sources of predictability, make the model more justifiable to another person.\n",
    "\n",
    "We are going to use **titanic** dataset for this practice.\n",
    "\n",
    "sklearn API reference:\n",
    "\n",
    "+ [sklearn.feature_selection.SelectKBest](http://scikit-learn.org/stable/modules/generated/sklearn.feature_selection.SelectKBest.html)\n",
    "+ [sklearn.feature_selection.chi2](http://scikit-learn.org/stable/modules/generated/sklearn.feature_selection.chi2.html)\n",
    "+ [sklearn.preprocessing.LabelBinarizer](http://scikit-learn.org/stable/modules/generated/sklearn.preprocessing.LabelBinarizer.html)\n",
    "+ [sklearn.feature_selection.sklearn.feature_selection.f_regression](http://scikit-learn.org/stable/modules/generated/sklearn.feature_selection.f_regression.html)\n",
    "+ [sklearn.preprocessing.scale](http://scikit-learn.org/stable/modules/generated/sklearn.preprocessing.scale.html)\n",
    "+ [sklearn.feature_selection.mutual_info_classif](http://scikit-learn.org/stable/modules/generated/sklearn.feature_selection.mutual_info_classif.html)\n",
    "+ [sklearn.feature_selection.RFE](http://scikit-learn.org/stable/modules/generated/sklearn.feature_selection.RFE.html)\n"
   ]
  },
  {
   "cell_type": "code",
   "execution_count": null,
   "metadata": {},
   "outputs": [],
   "source": [
    "import os, sys\n",
    "import numpy as np\n",
    "import pandas as pd\n",
    "from sklearn.feature_selection import SelectKBest\n",
    "from sklearn.feature_selection import chi2\n",
    "from sklearn.feature_selection import f_regression\n",
    "from sklearn.feature_selection import mutual_info_classif\n",
    "from sklearn.model_selection import train_test_split\n",
    "from sklearn.naive_bayes import GaussianNB\n",
    "from sklearn.feature_selection import RFE\n",
    "from sklearn.base import clone\n",
    "\n",
    "np.random.seed(18937)"
   ]
  },
  {
   "cell_type": "markdown",
   "metadata": {},
   "source": [
    "## Load Dataset"
   ]
  },
  {
   "cell_type": "code",
   "execution_count": null,
   "metadata": {},
   "outputs": [],
   "source": [
    "# Dataset location\n",
    "DATASET = '/dsa/data/all_datasets/titanic_ML/titanic.csv'\n",
    "assert os.path.exists(DATASET)\n",
    "\n",
    "# Load and shuffle\n",
    "dataset = pd.read_csv(DATASET).sample(frac = 1).reset_index(drop=True)\n",
    "dataset.describe()"
   ]
  },
  {
   "cell_type": "markdown",
   "metadata": {},
   "source": [
    "Create variable **X** and **y** and pull features and labels respectively."
   ]
  },
  {
   "cell_type": "code",
   "execution_count": null,
   "metadata": {},
   "outputs": [],
   "source": [
    "# Complete code below this comment (Question #P001)\n",
    "# ----------------------------------\n",
    "X = <placeholder>\n",
    "y = <placeholder>"
   ]
  },
  {
   "cell_type": "markdown",
   "metadata": {},
   "source": [
    "Create a train/validate split with **20%** of data held out for validation only."
   ]
  },
  {
   "cell_type": "code",
   "execution_count": null,
   "metadata": {},
   "outputs": [],
   "source": [
    "# Complete code below this comment (Question #P002)\n",
    "# ----------------------------------\n",
    "X_train, X_test, y_train, y_test = <placeholder>"
   ]
  },
  {
   "cell_type": "markdown",
   "metadata": {},
   "source": [
    "# 1. Filter Methods\n",
    "\n",
    "## A. χ² feature selection\n",
    "\n",
    "Create a k-best feature selector with [SelectKBest](http://scikit-learn.org/stable/modules/generated/sklearn.feature_selection.SelectKBest.html)\n",
    "that uses [χ² feature selection](http://scikit-learn.org/stable/modules/generated/sklearn.feature_selection.chi2.html)\n",
    "to select **top 5** features."
   ]
  },
  {
   "cell_type": "code",
   "execution_count": null,
   "metadata": {},
   "outputs": [],
   "source": [
    "# Complete code below this comment (Question #P003)\n",
    "# ----------------------------------\n",
    "selector = SelectKBest(<placeholder>)"
   ]
  },
  {
   "cell_type": "markdown",
   "metadata": {},
   "source": [
    "**Fit** the selector to the **training dataset**.\n",
    "\n",
    "Then **print** χ² statistic (the score for this selector)."
   ]
  },
  {
   "cell_type": "code",
   "execution_count": null,
   "metadata": {},
   "outputs": [],
   "source": [
    "# Add code below this comment (Question #P004)\n",
    "# ----------------------------------\n",
    "\n",
    "\n",
    "\n",
    "\n"
   ]
  },
  {
   "cell_type": "markdown",
   "metadata": {},
   "source": [
    "What are the columns indices that just got selected by the feature selector?\n",
    "\n",
    "**Print these indices.**"
   ]
  },
  {
   "cell_type": "code",
   "execution_count": null,
   "metadata": {},
   "outputs": [],
   "source": [
    "# Add code below this comment (Question #P005)\n",
    "# ----------------------------------\n",
    "\n",
    "\n",
    "\n",
    "\n"
   ]
  },
  {
   "cell_type": "markdown",
   "metadata": {},
   "source": [
    "What are the names of these columns selected?\n",
    "Does it logically make sense that these features got selected?\n",
    "\n",
    "**Print name of columns selected.**"
   ]
  },
  {
   "cell_type": "code",
   "execution_count": null,
   "metadata": {},
   "outputs": [],
   "source": [
    "# Add code below this comment (Question #P006)\n",
    "# ----------------------------------\n",
    "\n",
    "\n",
    "\n"
   ]
  },
  {
   "cell_type": "markdown",
   "metadata": {},
   "source": [
    "Call **selector.transform()** method to select those feature columns from dataset."
   ]
  },
  {
   "cell_type": "code",
   "execution_count": null,
   "metadata": {},
   "outputs": [],
   "source": [
    "# Complete code below this comment (Question #P007)\n",
    "# ----------------------------------\n",
    "X_train_selected = <placeholder>\n",
    "X_test_selected = <placeholder>"
   ]
  },
  {
   "cell_type": "markdown",
   "metadata": {},
   "source": [
    "Now **fit** a Gaussian Naive Bayes model with these selected features.\n",
    "\n",
    "**Compute validation accuracy** using model.score()."
   ]
  },
  {
   "cell_type": "code",
   "execution_count": null,
   "metadata": {},
   "outputs": [],
   "source": [
    "# Complete code below this comment (Question #P008)\n",
    "# ----------------------------------\n",
    "model = GaussianNB()\n",
    "model.fit(<placeholder>, y_train)\n",
    "model.score(<placeholder>, y_test)"
   ]
  },
  {
   "cell_type": "markdown",
   "metadata": {},
   "source": [
    "How does this compare to a model trained without feature selection?"
   ]
  },
  {
   "cell_type": "code",
   "execution_count": null,
   "metadata": {},
   "outputs": [],
   "source": [
    "# Complete code below this comment (Question #P009)\n",
    "# ----------------------------------\n",
    "model = GaussianNB()\n",
    "model.fit(<placeholder>, y_train)\n",
    "model.score(<placeholder>, y_test)"
   ]
  },
  {
   "cell_type": "markdown",
   "metadata": {},
   "source": [
    "## B. Mutual information\n",
    "\n",
    "Mutual information is generally considered a robust measure of dependence, coming from information theory.\n",
    "It could apply to both regression and classification problems.\n",
    "sklearn provided [mutual_info_classif()](http://scikit-learn.org/stable/modules/generated/sklearn.feature_selection.mutual_info_classif.html#sklearn.feature_selection.mutual_info_classif)\n",
    "and [mutual_info_regression()](http://scikit-learn.org/stable/modules/generated/sklearn.feature_selection.mutual_info_regression.html#sklearn.feature_selection.mutual_info_regression) respectively.\n",
    "\n",
    "We review feature selection again and also try this method below.\n",
    "\n",
    "**Tip**: _Putting Python variables in a function allows you to limit its scope and hide global variables.\n",
    "Only keywords that create new scope in Python are **class**, **def** and **lambda** ._"
   ]
  },
  {
   "cell_type": "code",
   "execution_count": null,
   "metadata": {},
   "outputs": [],
   "source": [
    "# Complete code below this comment (Question #P010)\n",
    "# ----------------------------------\n",
    "def mutual_info_session():\n",
    "    selector = SelectKBest(mutual_info_classif, k=3)\n",
    "    selector.fit(<placeholder>, y_train)\n",
    "    print(selector.get_support(True))\n",
    "    model = GaussianNB()\n",
    "    model.fit(<placeholder>, y_train)\n",
    "    return model.score(selector.transform(X_test), y_test)\n",
    "    \n",
    "mutual_info_session()"
   ]
  },
  {
   "cell_type": "markdown",
   "metadata": {},
   "source": [
    "# 2. Wrapper Methods \n",
    "## A. Forward selection\n",
    "\n",
    "Complete following code based on your understanding of forward selection.\n",
    "Please refer to the feature selection lab, same section for hints."
   ]
  },
  {
   "cell_type": "code",
   "execution_count": null,
   "metadata": {},
   "outputs": [],
   "source": [
    "class ForwardSelector(object):\n",
    "    def __init__(self, estimator):\n",
    "        self.estimator = estimator\n",
    "        \n",
    "    def fit(self, X, y, k):\n",
    "        selected = np.zeros(X.shape[1]).astype(bool)\n",
    "        score = lambda X_features: clone(self.estimator).fit(X_features, y).score(X_features, y)\n",
    "        selected_indices = lambda: list(np.flatnonzero(selected))\n",
    "\n",
    "        # What is the exit condition for forward selection?\n",
    "        # ---------------------------------- (Question #P3011)\n",
    "        while <placeholder>:\n",
    "            rest_indices = list(np.flatnonzero(~selected))\n",
    "            \n",
    "            scores = list()\n",
    "            for i in rest_indices:\n",
    "                # Which columns are we currently using to score the model?\n",
    "                # ---------------------------------- (Question #P3012)\n",
    "                feature_subset = <placeholder>\n",
    "                s = score(X[:, feature_subset])\n",
    "                scores.append(s)\n",
    "           \n",
    "            idx_to_add = rest_indices[np.argmax(scores)]\n",
    "            selected[idx_to_add] = True\n",
    "\n",
    "        self.selected = selected.copy()\n",
    "        return self\n",
    "        \n",
    "    def transform(self, X):\n",
    "        return X[:, self.selected]\n",
    "    \n",
    "    def get_support(self, indices=False):\n",
    "        return np.flatnonzero(self.selected) if indices else self.selected\n",
    "    "
   ]
  },
  {
   "cell_type": "markdown",
   "metadata": {},
   "source": [
    "Now **write a test case** for your completed forward selection algorithm and see if it works well for you.\n",
    "**Select 3 features.**\n",
    "\n",
    "**Tip**: _You could copy-paste-edit what we just did in mutual information section._"
   ]
  },
  {
   "cell_type": "code",
   "execution_count": null,
   "metadata": {},
   "outputs": [],
   "source": [
    "def forward_selection_session():\n",
    "    model = GaussianNB()\n",
    "    selector = ForwardSelector(model)\n",
    "    # Add code below this comment (Question #P013)\n",
    "    # ----------------------------------\n",
    "\n",
    "\n",
    "\n",
    "\n",
    "    # ----------------------------------\n",
    "    return model.score(selector.transform(X_test), y_test)\n",
    "    \n",
    "forward_selection_session()"
   ]
  },
  {
   "cell_type": "markdown",
   "metadata": {},
   "source": [
    "## B. Recursive feature elimination\n",
    "\n",
    "Finally, also give it a shot at RFE provided by sklearn."
   ]
  },
  {
   "cell_type": "code",
   "execution_count": null,
   "metadata": {},
   "outputs": [],
   "source": [
    "# Complete code below this comment \n",
    "# ----------------------------------\n",
    "def rfe_session():\n",
    "    # using SVC instead because RFE doesn't support GaussianNB\n",
    "    from sklearn.svm import SVC\n",
    "    model = SVC(kernel=\"linear\")\n",
    "    # Add code below this comment (Question #P014)\n",
    "    # ----------------------------------\n",
    "\n",
    "\n",
    "\n",
    "\n",
    "    # ----------------------------------\n",
    "    model.fit(selector.transform(X_train), y_train)\n",
    "    \n",
    "    return model.score(selector.transform(X_test), y_test)\n",
    "\n",
    "rfe_session()"
   ]
  },
  {
   "cell_type": "markdown",
   "metadata": {},
   "source": [
    "# Save your notebook!  Then `File > Close and Halt`"
   ]
  }
 ],
 "metadata": {
  "kernelspec": {
   "display_name": "Python 3",
   "language": "python",
   "name": "python3"
  },
  "language_info": {
   "codemirror_mode": {
    "name": "ipython",
    "version": 3
   },
   "file_extension": ".py",
   "mimetype": "text/x-python",
   "name": "python",
   "nbconvert_exporter": "python",
   "pygments_lexer": "ipython3",
   "version": "3.7.3"
  }
 },
 "nbformat": 4,
 "nbformat_minor": 4
}
