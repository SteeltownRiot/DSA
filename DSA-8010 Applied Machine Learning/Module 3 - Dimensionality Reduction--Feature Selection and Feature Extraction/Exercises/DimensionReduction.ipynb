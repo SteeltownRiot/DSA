{
 "cells": [
  {
   "cell_type": "markdown",
   "metadata": {},
   "source": [
    "# Module 3: Dimensionality reduction - Exercise\n",
    "\n",
    "In this session you will compare both **feature selection** and **feature extraction** for dimensionality reduction, \n",
    "but we will still use **Naive Bayes** model.\n",
    "We will apply these techniques to a real-world [HR Analytics dataset](https://www.kaggle.com/giripujar/hr-analytics).\n",
    "\n",
    "\n",
    "The overall goal is to predict if an employee would leave the company.\n",
    "\n",
    "##### NOTE\n",
    "\n",
    "The goal is the get the best performance from the **Naive Bayes** model using feature reduction techniques. \n",
    "We can expect that a different model may be more suitable, \n",
    "however we want to only have a single moving part at a time so we will stay with Naive Bayes this week."
   ]
  },
  {
   "cell_type": "code",
   "execution_count": null,
   "metadata": {},
   "outputs": [],
   "source": [
    "%matplotlib inline\n",
    "import matplotlib.pyplot as plt\n",
    "\n",
    "import os, sys\n",
    "import numpy as np\n",
    "import pandas as pd\n",
    "np.random.seed(18937)\n",
    "\n",
    "# Add code below this comment\n",
    "# to import additional libraries\n",
    "# and classes (Question #E101)\n",
    "# ---------------------------\n",
    "\n",
    "\n"
   ]
  },
  {
   "cell_type": "markdown",
   "metadata": {},
   "source": [
    "# Load dataset\n",
    "\n",
    "Load dataset into a DataFrame and shuffle."
   ]
  },
  {
   "cell_type": "code",
   "execution_count": null,
   "metadata": {},
   "outputs": [],
   "source": [
    "# Dataset location\n",
    "DATASET = '/dsa/data/all_datasets/HR_analytics.csv'\n",
    "assert os.path.exists(DATASET)\n",
    "\n",
    "# Add code below this comment (Question #E102)\n",
    "# ---------------------------\n",
    "\n",
    "\n",
    "\n"
   ]
  },
  {
   "cell_type": "markdown",
   "metadata": {},
   "source": [
    "Print top 5 rows of the dataset."
   ]
  },
  {
   "cell_type": "code",
   "execution_count": null,
   "metadata": {},
   "outputs": [],
   "source": [
    "# Add code below this comment (Question #E103)\n",
    "# ---------------------------\n",
    "\n",
    "\n",
    "\n"
   ]
  },
  {
   "cell_type": "markdown",
   "metadata": {},
   "source": [
    "## Processing\n",
    "\n",
    "In the dataset, `sales` and `salary` are string columns,\n",
    "which need some proccessing before we can start feature selection/extraction.\n",
    "\n",
    "Play with following code and **add comments** to explain based on your understanding.\n",
    "Feel free to drop questions on disscussion board if you encounter difficulties."
   ]
  },
  {
   "cell_type": "code",
   "execution_count": null,
   "metadata": {},
   "outputs": [],
   "source": [
    "# Add line-by-line comments to explain following code (Question #E104)\n",
    "# ===============================\n",
    "encoder = LabelBinarizer()\n",
    "salary_features = encoder.fit_transform(dataset.salary)\n",
    "for j, _class in enumerate(encoder.classes_):\n",
    "    dataset.loc[:, 'salary_{}'.format(_class)] = salary_features[:, j]\n",
    "\n",
    "dataset.head()"
   ]
  },
  {
   "cell_type": "code",
   "execution_count": null,
   "metadata": {},
   "outputs": [],
   "source": [
    "# help on fit_transform\n",
    "help(encoder.fit_transform)"
   ]
  },
  {
   "cell_type": "markdown",
   "metadata": {},
   "source": [
    "Now please write similar code for \"sales\" column like what we just did above. Feel free to drop questions on disscussion board if you need clarification."
   ]
  },
  {
   "cell_type": "code",
   "execution_count": null,
   "metadata": {},
   "outputs": [],
   "source": [
    "# Add code below this comment (Question #E105)\n",
    "# ---------------------------\n",
    "\n",
    "\n",
    "\n",
    "\n",
    "# ---------------------------\n",
    "\n",
    "dataset.info()"
   ]
  },
  {
   "cell_type": "markdown",
   "metadata": {},
   "source": [
    "Store feature columns (all columns except 'left', 'sales' and 'salary') to a new variable **X**. Here `left` is the class variable.\n",
    "\n",
    "Store column(s) to be predicted into a new variable **y**."
   ]
  },
  {
   "cell_type": "code",
   "execution_count": null,
   "metadata": {},
   "outputs": [],
   "source": [
    "# Add code below this comment (Question #E106)\n",
    "# ---------------------------\n",
    "\n",
    "\n",
    "\n",
    "\n"
   ]
  },
  {
   "cell_type": "markdown",
   "metadata": {},
   "source": [
    "Create train/validate split (20% validation ratio) and use variable names: **X_train, X_test, y_train, y_test**."
   ]
  },
  {
   "cell_type": "code",
   "execution_count": null,
   "metadata": {},
   "outputs": [],
   "source": [
    "# Add code below this comment (Question #E107)\n",
    "# ---------------------------\n",
    "\n",
    "\n",
    "\n",
    "\n",
    "\n"
   ]
  },
  {
   "cell_type": "markdown",
   "metadata": {},
   "source": [
    "# Feature selection and evaluation\n",
    "\n",
    "In this section you could make use of any method so far introduced or provided by sklearn for **feature selection**.\n",
    "\n",
    "Steps:\n",
    "1. Initialize a feature selector\n",
    "2. Fit feature selector on training set\n",
    "3. Print indices of features selected, the \"support\".\n",
    "4. Train a Gaussian Naive Bayes model on selected features from training set.\n",
    "5. Evaluate the model by measuring its accuracy on the test set.\n",
    "\n",
    "Please **briefly answer the 2 questions** at the end of this section; use evidence printed from your code as appropiate to support your answer. \n",
    "\n",
    "It is not required but if you are comparing different feature selection methods,\n",
    "please add new notebook cells for each method."
   ]
  },
  {
   "cell_type": "code",
   "execution_count": null,
   "metadata": {},
   "outputs": [],
   "source": [
    "# Add code below this comment (Question #E108)\n",
    "# ---------------------------\n",
    "\n",
    "\n",
    "\n"
   ]
  },
  {
   "cell_type": "markdown",
   "metadata": {},
   "source": [
    "How many number of features did you finally choose? Why?"
   ]
  },
  {
   "cell_type": "raw",
   "metadata": {},
   "source": [
    "# Add your answer below this comment (Question #E109)\n",
    "# -----------------------------------\n",
    "\n",
    "\n",
    "\n"
   ]
  },
  {
   "cell_type": "markdown",
   "metadata": {},
   "source": [
    "# Feature extraction\n",
    "\n",
    "In this section you could use **Principle Component Analysis** or **Factor Analysis** for feature extraction.\n",
    "\n",
    "Steps:\n",
    "1. Initialize either PCA or FactorAnalysis\n",
    "2. Fit feature extractor on training set.\n",
    "4. Train a Gaussian Naive Bayes model on selected features from training set.\n",
    "5. Evaluate the model by measuring its accuracy on the test set."
   ]
  },
  {
   "cell_type": "code",
   "execution_count": null,
   "metadata": {},
   "outputs": [],
   "source": [
    "# Add code below this comment (Question #E110)\n",
    "# ---------------------------\n",
    "\n",
    "\n",
    "\n"
   ]
  },
  {
   "cell_type": "markdown",
   "metadata": {},
   "source": [
    "Create a scree plot of **explained variance ratio** for extracted features."
   ]
  },
  {
   "cell_type": "code",
   "execution_count": null,
   "metadata": {},
   "outputs": [],
   "source": [
    "# Add code below this comment (Question #E111)\n",
    "# ---------------------------\n",
    "\n",
    "\n",
    "\n"
   ]
  },
  {
   "cell_type": "markdown",
   "metadata": {},
   "source": [
    "Do you think this feature extraction method performed satisfactorily?\n",
    "How does it compare to feature selection methods in terms of effectiveness?"
   ]
  },
  {
   "cell_type": "raw",
   "metadata": {},
   "source": [
    "# Add your answer below this comment (Question #E112)\n",
    "# -----------------------------------\n",
    "\n",
    "\n",
    "\n"
   ]
  },
  {
   "cell_type": "markdown",
   "metadata": {},
   "source": [
    "How would you explain the features you have extracted to somebody without a data science background if you were to recommend this method?\n",
    "(short answer)"
   ]
  },
  {
   "cell_type": "raw",
   "metadata": {},
   "source": [
    "# Add your answer below this comment (Question #E113)\n",
    "# -----------------------------------\n",
    "\n",
    "\n",
    "\n"
   ]
  },
  {
   "cell_type": "markdown",
   "metadata": {},
   "source": [
    "# Save your notebook!  Then `File > Close and Halt`"
   ]
  }
 ],
 "metadata": {
  "kernelspec": {
   "display_name": "Python 3",
   "language": "python",
   "name": "python3"
  },
  "language_info": {
   "codemirror_mode": {
    "name": "ipython",
    "version": 3
   },
   "file_extension": ".py",
   "mimetype": "text/x-python",
   "name": "python",
   "nbconvert_exporter": "python",
   "pygments_lexer": "ipython3",
   "version": "3.7.3"
  }
 },
 "nbformat": 4,
 "nbformat_minor": 4
}
