{
 "cells": [
  {
   "cell_type": "markdown",
   "metadata": {},
   "source": [
    "# Module 3: Dimensionality reduction - Exercise\n",
    "\n",
    "In this session you will compare both **feature selection** and **feature extraction** for dimensionality reduction, \n",
    "but we will still use **Naive Bayes** model.\n",
    "We will apply these techniques to a real-world [HR Analytics dataset](https://www.kaggle.com/giripujar/hr-analytics).\n",
    "\n",
    "\n",
    "The overall goal is to predict if an employee would leave the company.\n",
    "\n",
    "##### NOTE\n",
    "\n",
    "The goal is the get the best performance from the **Naive Bayes** model using feature reduction techniques. \n",
    "We can expect that a different model may be more suitable, \n",
    "however we want to only have a single moving part at a time so we will stay with Naive Bayes this week."
   ]
  },
  {
   "cell_type": "code",
   "execution_count": 1,
   "metadata": {},
   "outputs": [],
   "source": [
    "%matplotlib inline\n",
    "import matplotlib.pyplot as plt\n",
    "\n",
    "import os, sys\n",
    "import numpy as np\n",
    "import pandas as pd\n",
    "np.random.seed(18937)\n",
    "\n",
    "# Add code below this comment\n",
    "# to import additional libraries\n",
    "# and classes (Question #E101)\n",
    "# ---------------------------\n",
    "from sklearn.preprocessing import LabelBinarizer\n",
    "from sklearn.model_selection import train_test_split\n",
    "from sklearn.feature_selection import SelectKBest\n",
    "from sklearn.feature_selection import chi2\n",
    "from sklearn.naive_bayes import GaussianNB\n",
    "from sklearn.decomposition import FactorAnalysis\n",
    "from scipy.stats import pearsonr\n",
    "\n",
    "np.set_printoptions(suppress=True)"
   ]
  },
  {
   "cell_type": "markdown",
   "metadata": {},
   "source": [
    "# Load dataset\n",
    "\n",
    "Load dataset into a DataFrame and shuffle."
   ]
  },
  {
   "cell_type": "code",
   "execution_count": 2,
   "metadata": {},
   "outputs": [
    {
     "data": {
      "text/html": [
       "<div>\n",
       "<style scoped>\n",
       "    .dataframe tbody tr th:only-of-type {\n",
       "        vertical-align: middle;\n",
       "    }\n",
       "\n",
       "    .dataframe tbody tr th {\n",
       "        vertical-align: top;\n",
       "    }\n",
       "\n",
       "    .dataframe thead th {\n",
       "        text-align: right;\n",
       "    }\n",
       "</style>\n",
       "<table border=\"1\" class=\"dataframe\">\n",
       "  <thead>\n",
       "    <tr style=\"text-align: right;\">\n",
       "      <th></th>\n",
       "      <th>satisfaction_level</th>\n",
       "      <th>last_evaluation</th>\n",
       "      <th>number_project</th>\n",
       "      <th>average_montly_hours</th>\n",
       "      <th>time_spend_company</th>\n",
       "      <th>Work_accident</th>\n",
       "      <th>left</th>\n",
       "      <th>promotion_last_5years</th>\n",
       "    </tr>\n",
       "  </thead>\n",
       "  <tbody>\n",
       "    <tr>\n",
       "      <th>count</th>\n",
       "      <td>14999.000000</td>\n",
       "      <td>14999.000000</td>\n",
       "      <td>14999.000000</td>\n",
       "      <td>14999.000000</td>\n",
       "      <td>14999.000000</td>\n",
       "      <td>14999.000000</td>\n",
       "      <td>14999.000000</td>\n",
       "      <td>14999.000000</td>\n",
       "    </tr>\n",
       "    <tr>\n",
       "      <th>mean</th>\n",
       "      <td>0.612834</td>\n",
       "      <td>0.716102</td>\n",
       "      <td>3.803054</td>\n",
       "      <td>201.050337</td>\n",
       "      <td>3.498233</td>\n",
       "      <td>0.144610</td>\n",
       "      <td>0.238083</td>\n",
       "      <td>0.021268</td>\n",
       "    </tr>\n",
       "    <tr>\n",
       "      <th>std</th>\n",
       "      <td>0.248631</td>\n",
       "      <td>0.171169</td>\n",
       "      <td>1.232592</td>\n",
       "      <td>49.943099</td>\n",
       "      <td>1.460136</td>\n",
       "      <td>0.351719</td>\n",
       "      <td>0.425924</td>\n",
       "      <td>0.144281</td>\n",
       "    </tr>\n",
       "    <tr>\n",
       "      <th>min</th>\n",
       "      <td>0.090000</td>\n",
       "      <td>0.360000</td>\n",
       "      <td>2.000000</td>\n",
       "      <td>96.000000</td>\n",
       "      <td>2.000000</td>\n",
       "      <td>0.000000</td>\n",
       "      <td>0.000000</td>\n",
       "      <td>0.000000</td>\n",
       "    </tr>\n",
       "    <tr>\n",
       "      <th>25%</th>\n",
       "      <td>0.440000</td>\n",
       "      <td>0.560000</td>\n",
       "      <td>3.000000</td>\n",
       "      <td>156.000000</td>\n",
       "      <td>3.000000</td>\n",
       "      <td>0.000000</td>\n",
       "      <td>0.000000</td>\n",
       "      <td>0.000000</td>\n",
       "    </tr>\n",
       "    <tr>\n",
       "      <th>50%</th>\n",
       "      <td>0.640000</td>\n",
       "      <td>0.720000</td>\n",
       "      <td>4.000000</td>\n",
       "      <td>200.000000</td>\n",
       "      <td>3.000000</td>\n",
       "      <td>0.000000</td>\n",
       "      <td>0.000000</td>\n",
       "      <td>0.000000</td>\n",
       "    </tr>\n",
       "    <tr>\n",
       "      <th>75%</th>\n",
       "      <td>0.820000</td>\n",
       "      <td>0.870000</td>\n",
       "      <td>5.000000</td>\n",
       "      <td>245.000000</td>\n",
       "      <td>4.000000</td>\n",
       "      <td>0.000000</td>\n",
       "      <td>0.000000</td>\n",
       "      <td>0.000000</td>\n",
       "    </tr>\n",
       "    <tr>\n",
       "      <th>max</th>\n",
       "      <td>1.000000</td>\n",
       "      <td>1.000000</td>\n",
       "      <td>7.000000</td>\n",
       "      <td>310.000000</td>\n",
       "      <td>10.000000</td>\n",
       "      <td>1.000000</td>\n",
       "      <td>1.000000</td>\n",
       "      <td>1.000000</td>\n",
       "    </tr>\n",
       "  </tbody>\n",
       "</table>\n",
       "</div>"
      ],
      "text/plain": [
       "       satisfaction_level  last_evaluation  number_project  \\\n",
       "count        14999.000000     14999.000000    14999.000000   \n",
       "mean             0.612834         0.716102        3.803054   \n",
       "std              0.248631         0.171169        1.232592   \n",
       "min              0.090000         0.360000        2.000000   \n",
       "25%              0.440000         0.560000        3.000000   \n",
       "50%              0.640000         0.720000        4.000000   \n",
       "75%              0.820000         0.870000        5.000000   \n",
       "max              1.000000         1.000000        7.000000   \n",
       "\n",
       "       average_montly_hours  time_spend_company  Work_accident          left  \\\n",
       "count          14999.000000        14999.000000   14999.000000  14999.000000   \n",
       "mean             201.050337            3.498233       0.144610      0.238083   \n",
       "std               49.943099            1.460136       0.351719      0.425924   \n",
       "min               96.000000            2.000000       0.000000      0.000000   \n",
       "25%              156.000000            3.000000       0.000000      0.000000   \n",
       "50%              200.000000            3.000000       0.000000      0.000000   \n",
       "75%              245.000000            4.000000       0.000000      0.000000   \n",
       "max              310.000000           10.000000       1.000000      1.000000   \n",
       "\n",
       "       promotion_last_5years  \n",
       "count           14999.000000  \n",
       "mean                0.021268  \n",
       "std                 0.144281  \n",
       "min                 0.000000  \n",
       "25%                 0.000000  \n",
       "50%                 0.000000  \n",
       "75%                 0.000000  \n",
       "max                 1.000000  "
      ]
     },
     "execution_count": 2,
     "metadata": {},
     "output_type": "execute_result"
    }
   ],
   "source": [
    "# Dataset location\n",
    "DATASET = '/dsa/data/all_datasets/HR_analytics.csv'\n",
    "assert os.path.exists(DATASET)\n",
    "\n",
    "# Add code below this comment (Question #E102)\n",
    "# ---------------------------\n",
    "dataset = pd.read_csv(DATASET).sample(frac = 1).reset_index(drop=True)\n",
    "dataset.describe()\n"
   ]
  },
  {
   "cell_type": "markdown",
   "metadata": {},
   "source": [
    "Print top 5 rows of the dataset."
   ]
  },
  {
   "cell_type": "code",
   "execution_count": 4,
   "metadata": {},
   "outputs": [
    {
     "data": {
      "text/html": [
       "<div>\n",
       "<style scoped>\n",
       "    .dataframe tbody tr th:only-of-type {\n",
       "        vertical-align: middle;\n",
       "    }\n",
       "\n",
       "    .dataframe tbody tr th {\n",
       "        vertical-align: top;\n",
       "    }\n",
       "\n",
       "    .dataframe thead th {\n",
       "        text-align: right;\n",
       "    }\n",
       "</style>\n",
       "<table border=\"1\" class=\"dataframe\">\n",
       "  <thead>\n",
       "    <tr style=\"text-align: right;\">\n",
       "      <th></th>\n",
       "      <th>satisfaction_level</th>\n",
       "      <th>last_evaluation</th>\n",
       "      <th>number_project</th>\n",
       "      <th>average_montly_hours</th>\n",
       "      <th>time_spend_company</th>\n",
       "      <th>Work_accident</th>\n",
       "      <th>left</th>\n",
       "      <th>promotion_last_5years</th>\n",
       "      <th>sales</th>\n",
       "      <th>salary</th>\n",
       "    </tr>\n",
       "  </thead>\n",
       "  <tbody>\n",
       "    <tr>\n",
       "      <th>0</th>\n",
       "      <td>0.85</td>\n",
       "      <td>0.90</td>\n",
       "      <td>5</td>\n",
       "      <td>202</td>\n",
       "      <td>3</td>\n",
       "      <td>0</td>\n",
       "      <td>0</td>\n",
       "      <td>0</td>\n",
       "      <td>IT</td>\n",
       "      <td>low</td>\n",
       "    </tr>\n",
       "    <tr>\n",
       "      <th>1</th>\n",
       "      <td>0.12</td>\n",
       "      <td>0.60</td>\n",
       "      <td>2</td>\n",
       "      <td>194</td>\n",
       "      <td>4</td>\n",
       "      <td>0</td>\n",
       "      <td>0</td>\n",
       "      <td>0</td>\n",
       "      <td>technical</td>\n",
       "      <td>medium</td>\n",
       "    </tr>\n",
       "    <tr>\n",
       "      <th>2</th>\n",
       "      <td>0.40</td>\n",
       "      <td>0.47</td>\n",
       "      <td>2</td>\n",
       "      <td>136</td>\n",
       "      <td>3</td>\n",
       "      <td>0</td>\n",
       "      <td>1</td>\n",
       "      <td>0</td>\n",
       "      <td>hr</td>\n",
       "      <td>medium</td>\n",
       "    </tr>\n",
       "    <tr>\n",
       "      <th>3</th>\n",
       "      <td>0.47</td>\n",
       "      <td>0.55</td>\n",
       "      <td>4</td>\n",
       "      <td>122</td>\n",
       "      <td>5</td>\n",
       "      <td>1</td>\n",
       "      <td>0</td>\n",
       "      <td>0</td>\n",
       "      <td>marketing</td>\n",
       "      <td>medium</td>\n",
       "    </tr>\n",
       "    <tr>\n",
       "      <th>4</th>\n",
       "      <td>0.89</td>\n",
       "      <td>0.65</td>\n",
       "      <td>5</td>\n",
       "      <td>195</td>\n",
       "      <td>6</td>\n",
       "      <td>0</td>\n",
       "      <td>1</td>\n",
       "      <td>0</td>\n",
       "      <td>support</td>\n",
       "      <td>low</td>\n",
       "    </tr>\n",
       "  </tbody>\n",
       "</table>\n",
       "</div>"
      ],
      "text/plain": [
       "   satisfaction_level  last_evaluation  number_project  average_montly_hours  \\\n",
       "0                0.85             0.90               5                   202   \n",
       "1                0.12             0.60               2                   194   \n",
       "2                0.40             0.47               2                   136   \n",
       "3                0.47             0.55               4                   122   \n",
       "4                0.89             0.65               5                   195   \n",
       "\n",
       "   time_spend_company  Work_accident  left  promotion_last_5years      sales  \\\n",
       "0                   3              0     0                      0         IT   \n",
       "1                   4              0     0                      0  technical   \n",
       "2                   3              0     1                      0         hr   \n",
       "3                   5              1     0                      0  marketing   \n",
       "4                   6              0     1                      0    support   \n",
       "\n",
       "   salary  \n",
       "0     low  \n",
       "1  medium  \n",
       "2  medium  \n",
       "3  medium  \n",
       "4     low  "
      ]
     },
     "execution_count": 4,
     "metadata": {},
     "output_type": "execute_result"
    }
   ],
   "source": [
    "# Add code below this comment (Question #E103)\n",
    "# ---------------------------\n",
    "dataset.head()\n"
   ]
  },
  {
   "cell_type": "markdown",
   "metadata": {},
   "source": [
    "## Processing\n",
    "\n",
    "In the dataset, `sales` and `salary` are string columns,\n",
    "which need some proccessing before we can start feature selection/extraction.\n",
    "\n",
    "Play with following code and **add comments** to explain based on your understanding.\n",
    "Feel free to drop questions on disscussion board if you encounter difficulties."
   ]
  },
  {
   "cell_type": "code",
   "execution_count": 3,
   "metadata": {},
   "outputs": [
    {
     "data": {
      "text/html": [
       "<div>\n",
       "<style scoped>\n",
       "    .dataframe tbody tr th:only-of-type {\n",
       "        vertical-align: middle;\n",
       "    }\n",
       "\n",
       "    .dataframe tbody tr th {\n",
       "        vertical-align: top;\n",
       "    }\n",
       "\n",
       "    .dataframe thead th {\n",
       "        text-align: right;\n",
       "    }\n",
       "</style>\n",
       "<table border=\"1\" class=\"dataframe\">\n",
       "  <thead>\n",
       "    <tr style=\"text-align: right;\">\n",
       "      <th></th>\n",
       "      <th>satisfaction_level</th>\n",
       "      <th>last_evaluation</th>\n",
       "      <th>number_project</th>\n",
       "      <th>average_montly_hours</th>\n",
       "      <th>time_spend_company</th>\n",
       "      <th>Work_accident</th>\n",
       "      <th>left</th>\n",
       "      <th>promotion_last_5years</th>\n",
       "      <th>sales</th>\n",
       "      <th>salary</th>\n",
       "      <th>salary_high</th>\n",
       "      <th>salary_low</th>\n",
       "      <th>salary_medium</th>\n",
       "    </tr>\n",
       "  </thead>\n",
       "  <tbody>\n",
       "    <tr>\n",
       "      <th>0</th>\n",
       "      <td>0.85</td>\n",
       "      <td>0.90</td>\n",
       "      <td>5</td>\n",
       "      <td>202</td>\n",
       "      <td>3</td>\n",
       "      <td>0</td>\n",
       "      <td>0</td>\n",
       "      <td>0</td>\n",
       "      <td>IT</td>\n",
       "      <td>low</td>\n",
       "      <td>0</td>\n",
       "      <td>1</td>\n",
       "      <td>0</td>\n",
       "    </tr>\n",
       "    <tr>\n",
       "      <th>1</th>\n",
       "      <td>0.12</td>\n",
       "      <td>0.60</td>\n",
       "      <td>2</td>\n",
       "      <td>194</td>\n",
       "      <td>4</td>\n",
       "      <td>0</td>\n",
       "      <td>0</td>\n",
       "      <td>0</td>\n",
       "      <td>technical</td>\n",
       "      <td>medium</td>\n",
       "      <td>0</td>\n",
       "      <td>0</td>\n",
       "      <td>1</td>\n",
       "    </tr>\n",
       "    <tr>\n",
       "      <th>2</th>\n",
       "      <td>0.40</td>\n",
       "      <td>0.47</td>\n",
       "      <td>2</td>\n",
       "      <td>136</td>\n",
       "      <td>3</td>\n",
       "      <td>0</td>\n",
       "      <td>1</td>\n",
       "      <td>0</td>\n",
       "      <td>hr</td>\n",
       "      <td>medium</td>\n",
       "      <td>0</td>\n",
       "      <td>0</td>\n",
       "      <td>1</td>\n",
       "    </tr>\n",
       "    <tr>\n",
       "      <th>3</th>\n",
       "      <td>0.47</td>\n",
       "      <td>0.55</td>\n",
       "      <td>4</td>\n",
       "      <td>122</td>\n",
       "      <td>5</td>\n",
       "      <td>1</td>\n",
       "      <td>0</td>\n",
       "      <td>0</td>\n",
       "      <td>marketing</td>\n",
       "      <td>medium</td>\n",
       "      <td>0</td>\n",
       "      <td>0</td>\n",
       "      <td>1</td>\n",
       "    </tr>\n",
       "    <tr>\n",
       "      <th>4</th>\n",
       "      <td>0.89</td>\n",
       "      <td>0.65</td>\n",
       "      <td>5</td>\n",
       "      <td>195</td>\n",
       "      <td>6</td>\n",
       "      <td>0</td>\n",
       "      <td>1</td>\n",
       "      <td>0</td>\n",
       "      <td>support</td>\n",
       "      <td>low</td>\n",
       "      <td>0</td>\n",
       "      <td>1</td>\n",
       "      <td>0</td>\n",
       "    </tr>\n",
       "  </tbody>\n",
       "</table>\n",
       "</div>"
      ],
      "text/plain": [
       "   satisfaction_level  last_evaluation  number_project  average_montly_hours  \\\n",
       "0                0.85             0.90               5                   202   \n",
       "1                0.12             0.60               2                   194   \n",
       "2                0.40             0.47               2                   136   \n",
       "3                0.47             0.55               4                   122   \n",
       "4                0.89             0.65               5                   195   \n",
       "\n",
       "   time_spend_company  Work_accident  left  promotion_last_5years      sales  \\\n",
       "0                   3              0     0                      0         IT   \n",
       "1                   4              0     0                      0  technical   \n",
       "2                   3              0     1                      0         hr   \n",
       "3                   5              1     0                      0  marketing   \n",
       "4                   6              0     1                      0    support   \n",
       "\n",
       "   salary  salary_high  salary_low  salary_medium  \n",
       "0     low            0           1              0  \n",
       "1  medium            0           0              1  \n",
       "2  medium            0           0              1  \n",
       "3  medium            0           0              1  \n",
       "4     low            0           1              0  "
      ]
     },
     "execution_count": 3,
     "metadata": {},
     "output_type": "execute_result"
    }
   ],
   "source": [
    "# Add line-by-line comments to explain following code (Question #E104)\n",
    "# ===============================\n",
    "encoder = LabelBinarizer()     # stores a function that transforms labels into a binary then stores in a var: encoder\n",
    "salary_features = encoder.fit_transform(dataset.salary)     # fit to the salary data, transform the salary data via function\n",
    "                                                            # stored in encoder, then store in var: salary_features\n",
    "for j, _class in enumerate(encoder.classes_):     # steps through all of the labels stored in classes_\n",
    "    dataset.loc[:, 'salary_{}'.format(_class)] = salary_features[:, j]     # creates a new attribute salary_LABEL for each\n",
    "                                                                           # label, and for each row stores a binary value\n",
    "                                                                           # based on the string stored in salary in each new\n",
    "                                                                           # attribute\n",
    "\n",
    "dataset.head()     # prints top five rows of redesigned df\n"
   ]
  },
  {
   "cell_type": "code",
   "execution_count": 8,
   "metadata": {},
   "outputs": [
    {
     "name": "stdout",
     "output_type": "stream",
     "text": [
      "Help on method fit_transform in module sklearn.preprocessing._label:\n",
      "\n",
      "fit_transform(y) method of sklearn.preprocessing._label.LabelBinarizer instance\n",
      "    Fit label binarizer and transform multi-class labels to binary\n",
      "    labels.\n",
      "    \n",
      "    The output of transform is sometimes referred to as\n",
      "    the 1-of-K coding scheme.\n",
      "    \n",
      "    Parameters\n",
      "    ----------\n",
      "    y : {ndarray, sparse matrix} of shape (n_samples,) or                 (n_samples, n_classes)\n",
      "        Target values. The 2-d matrix should only contain 0 and 1,\n",
      "        represents multilabel classification. Sparse matrix can be\n",
      "        CSR, CSC, COO, DOK, or LIL.\n",
      "    \n",
      "    Returns\n",
      "    -------\n",
      "    Y : {ndarray, sparse matrix} of shape (n_samples, n_classes)\n",
      "        Shape will be (n_samples, 1) for binary problems. Sparse matrix\n",
      "        will be of CSR format.\n",
      "\n"
     ]
    }
   ],
   "source": [
    "# help on fit_transform\n",
    "help(encoder.fit_transform)"
   ]
  },
  {
   "cell_type": "markdown",
   "metadata": {},
   "source": [
    "Now please write similar code for \"sales\" column like what we just did above. Feel free to drop questions on disscussion board if you need clarification."
   ]
  },
  {
   "cell_type": "code",
   "execution_count": 4,
   "metadata": {},
   "outputs": [
    {
     "name": "stdout",
     "output_type": "stream",
     "text": [
      "<class 'pandas.core.frame.DataFrame'>\n",
      "RangeIndex: 14999 entries, 0 to 14998\n",
      "Data columns (total 23 columns):\n",
      " #   Column                 Non-Null Count  Dtype  \n",
      "---  ------                 --------------  -----  \n",
      " 0   satisfaction_level     14999 non-null  float64\n",
      " 1   last_evaluation        14999 non-null  float64\n",
      " 2   number_project         14999 non-null  int64  \n",
      " 3   average_montly_hours   14999 non-null  int64  \n",
      " 4   time_spend_company     14999 non-null  int64  \n",
      " 5   Work_accident          14999 non-null  int64  \n",
      " 6   left                   14999 non-null  int64  \n",
      " 7   promotion_last_5years  14999 non-null  int64  \n",
      " 8   sales                  14999 non-null  object \n",
      " 9   salary                 14999 non-null  object \n",
      " 10  salary_high            14999 non-null  int64  \n",
      " 11  salary_low             14999 non-null  int64  \n",
      " 12  salary_medium          14999 non-null  int64  \n",
      " 13  sales_IT               14999 non-null  int64  \n",
      " 14  sales_RandD            14999 non-null  int64  \n",
      " 15  sales_accounting       14999 non-null  int64  \n",
      " 16  sales_hr               14999 non-null  int64  \n",
      " 17  sales_management       14999 non-null  int64  \n",
      " 18  sales_marketing        14999 non-null  int64  \n",
      " 19  sales_product_mng      14999 non-null  int64  \n",
      " 20  sales_sales            14999 non-null  int64  \n",
      " 21  sales_support          14999 non-null  int64  \n",
      " 22  sales_technical        14999 non-null  int64  \n",
      "dtypes: float64(2), int64(19), object(2)\n",
      "memory usage: 2.6+ MB\n"
     ]
    }
   ],
   "source": [
    "# Add code below this comment (Question #E105)\n",
    "# ---------------------------\n",
    "encoder = LabelBinarizer()\n",
    "sales_features = encoder.fit_transform(dataset.sales)\n",
    "for j, _class in enumerate(encoder.classes_):\n",
    "    dataset.loc[:, 'sales_{}'.format(_class)] = sales_features[:, j]\n",
    "# ---------------------------\n",
    "\n",
    "dataset.info()\n"
   ]
  },
  {
   "cell_type": "markdown",
   "metadata": {},
   "source": [
    "Store feature columns (all columns except 'left', 'sales' and 'salary') to a new variable **X**. Here `left` is the class variable.\n",
    "\n",
    "Store column(s) to be predicted into a new variable **y**."
   ]
  },
  {
   "cell_type": "code",
   "execution_count": 5,
   "metadata": {},
   "outputs": [
    {
     "name": "stdout",
     "output_type": "stream",
     "text": [
      "<class 'pandas.core.frame.DataFrame'>\n",
      "RangeIndex: 14999 entries, 0 to 14998\n",
      "Data columns (total 20 columns):\n",
      " #   Column                 Non-Null Count  Dtype  \n",
      "---  ------                 --------------  -----  \n",
      " 0   satisfaction_level     14999 non-null  float64\n",
      " 1   last_evaluation        14999 non-null  float64\n",
      " 2   number_project         14999 non-null  int64  \n",
      " 3   average_montly_hours   14999 non-null  int64  \n",
      " 4   time_spend_company     14999 non-null  int64  \n",
      " 5   Work_accident          14999 non-null  int64  \n",
      " 6   promotion_last_5years  14999 non-null  int64  \n",
      " 7   salary_high            14999 non-null  int64  \n",
      " 8   salary_low             14999 non-null  int64  \n",
      " 9   salary_medium          14999 non-null  int64  \n",
      " 10  sales_IT               14999 non-null  int64  \n",
      " 11  sales_RandD            14999 non-null  int64  \n",
      " 12  sales_accounting       14999 non-null  int64  \n",
      " 13  sales_hr               14999 non-null  int64  \n",
      " 14  sales_management       14999 non-null  int64  \n",
      " 15  sales_marketing        14999 non-null  int64  \n",
      " 16  sales_product_mng      14999 non-null  int64  \n",
      " 17  sales_sales            14999 non-null  int64  \n",
      " 18  sales_support          14999 non-null  int64  \n",
      " 19  sales_technical        14999 non-null  int64  \n",
      "dtypes: float64(2), int64(18)\n",
      "memory usage: 2.3 MB\n"
     ]
    }
   ],
   "source": [
    "# Add code below this comment (Question #E106)\n",
    "# ---------------------------\n",
    "X = dataset.iloc[:, [0,1,2,3,4,5,7,10,11,12,13,14,15,16,17,18,19,20,21,22]]\n",
    "y = dataset.left\n",
    "\n",
    "X.info()"
   ]
  },
  {
   "cell_type": "markdown",
   "metadata": {},
   "source": [
    "Create train/validate split (20% validation ratio) and use variable names: **X_train, X_test, y_train, y_test**."
   ]
  },
  {
   "cell_type": "code",
   "execution_count": 6,
   "metadata": {},
   "outputs": [],
   "source": [
    "# Add code below this comment (Question #E107)\n",
    "# ---------------------------\n",
    "X_train, X_test, y_train, y_test = train_test_split(X, y, test_size = 0.2)\n"
   ]
  },
  {
   "cell_type": "markdown",
   "metadata": {},
   "source": [
    "# Feature selection and evaluation\n",
    "\n",
    "In this section you could make use of any method so far introduced or provided by sklearn for **feature selection**.\n",
    "\n",
    "Steps:\n",
    "1. Initialize a feature selector\n",
    "2. Fit feature selector on training set\n",
    "3. Print indices of features selected, the \"support\".\n",
    "4. Train a Gaussian Naive Bayes model on selected features from training set.\n",
    "5. Evaluate the model by measuring its accuracy on the test set.\n",
    "\n",
    "Please **briefly answer the 2 questions** at the end of this section; use evidence printed from your code as appropiate to support your answer. \n",
    "\n",
    "It is not required but if you are comparing different feature selection methods,\n",
    "please add new notebook cells for each method."
   ]
  },
  {
   "cell_type": "code",
   "execution_count": 64,
   "metadata": {},
   "outputs": [
    {
     "name": "stdout",
     "output_type": "stream",
     "text": [
      "No feature selection score 0.646\n"
     ]
    }
   ],
   "source": [
    "# Train a Gaussian Naive Bayes model without feature selection for comparison\n",
    "model = GaussianNB()\n",
    "model.fit(X_train, y_train)\n",
    "\n",
    "print('No feature selection score', model.score(X_test, y_test))\n"
   ]
  },
  {
   "cell_type": "code",
   "execution_count": 85,
   "metadata": {},
   "outputs": [
    {
     "name": "stdout",
     "output_type": "stream",
     "text": [
      "Indices of selected features [0 3 5]\n",
      "Columns selected ['satisfaction_level', 'average_montly_hours', 'Work_accident']\n",
      "χ² statistic [180.17112   0.03558   1.57185 686.93418 150.14868 249.22351  49.77982\n",
      " 165.47964 104.98695  28.46025   2.59899  23.02586   3.72339  10.54318\n",
      "  35.1673    0.00294   0.29504   0.63056   2.67216   2.80088]\n",
      "With feature selection score 0.7893\n"
     ]
    }
   ],
   "source": [
    "# Add code below this comment (Question #E108)\n",
    "# ---------------------------\n",
    "# Initialize selector and fit to trainining datasets\n",
    "selector = SelectKBest(chi2, k = 3)\n",
    "selector.fit(X_train, y_train)\n",
    "\n",
    "# Transform the training and testing data\n",
    "X_train_selected = selector.transform(X_train)\n",
    "X_test_selected = selector.transform(X_test)\n",
    "\n",
    "# Train a Gaussian Naive Bayes model on selected features from training set\n",
    "model = GaussianNB()\n",
    "model.fit(X_train_selected, y_train)\n",
    "\n",
    "# Print indices of selected features\n",
    "print('Indices of selected features', selector.get_support(True))\n",
    "print('\\nColumns selected', [dataset.columns[i] for i in selector.get_support(True)])\n",
    "# Print χ² statistic and score with feature selection\n",
    "print('\\nχ² statistic', np.round(selector.scores_, 5))\n",
    "#print('χ² statistic', selector.scores_.sort())\n",
    "print('\\nWith feature selection score', round(model.score(X_test_selected, y_test),4))\n"
   ]
  },
  {
   "cell_type": "markdown",
   "metadata": {},
   "source": [
    "How many number of features did you finally choose? Why?"
   ]
  },
  {
   "cell_type": "raw",
   "metadata": {},
   "source": [
    "# Add your answer below this comment (Question #E109)\n",
    "# -----------------------------------\n",
    "I chose 6 features initially because there were 6 features with a score > 100. Then I changed the k value up and down and the model kept scoring worse and worse until I got to k = 3. At that point the model scored the highest. This has both the advantage of scoring the best but also utilizing fewer features which makes overfitting less likely.\n"
   ]
  },
  {
   "cell_type": "markdown",
   "metadata": {},
   "source": [
    "# Feature extraction\n",
    "\n",
    "In this section you could use **Principle Component Analysis** or **Factor Analysis** for feature extraction.\n",
    "\n",
    "Steps:\n",
    "1. Initialize either PCA or FactorAnalysis\n",
    "2. Fit feature extractor on training set.\n",
    "4. Train a Gaussian Naive Bayes model on selected features from training set.\n",
    "5. Evaluate the model by measuring its accuracy on the test set."
   ]
  },
  {
   "cell_type": "code",
   "execution_count": 17,
   "metadata": {},
   "outputs": [
    {
     "name": "stdout",
     "output_type": "stream",
     "text": [
      "Explained variance ratios [0.99733798 0.00033129 0.00026324 0.00021969 0.00008845]\n",
      "\n",
      "Correlation coefficients [-0.10674780172236543, -0.11851018404754433, 0.07019134317679761, 0.004415182813347927, 0.0418526695052935]\n",
      "\n",
      "With feature selection score 0.76\n"
     ]
    }
   ],
   "source": [
    "# Add code below this comment (Question #E110)\n",
    "# ---------------------------\n",
    "# Initialize factor analysis and fit extractor to trainining datasets\n",
    "fa = FactorAnalysis(n_components = 5)\n",
    "fa.fit(X_train, y_train)\n",
    "\n",
    "# Transform the training and testing data\n",
    "X_train_selected = fa.transform(X_train)\n",
    "X_test_selected = fa.transform(X_test)\n",
    "\n",
    "# Compute explained variance ratio\n",
    "def FA_explained_variance_ratio(fa):\n",
    "    fa.explained_variance_ = np.flip(np.sort(np.sum(fa.components_**2, axis = 1)), axis = 0)\n",
    "    total_variance = np.sum(fa.explained_variance_) + np.sum(fa.noise_variance_)\n",
    "    fa.explained_variance_ratio_ = fa.explained_variance_ / total_variance\n",
    "\n",
    "FA_explained_variance_ratio(fa)\n",
    "\n",
    "# Compute correlation coefficients\n",
    "X_FA = fa.transform(X)\n",
    "\n",
    "# Train Gaussian Naive Bayes model on selected features\n",
    "model = GaussianNB()\n",
    "model.fit(X_train_selected, y_train)\n",
    "\n",
    "print('Explained variance ratios', fa.explained_variance_ratio_)\n",
    "print('\\nCorrelation coefficients', [pearsonr(X_FA[:,i], y)[0] for i in range(X_FA.shape[1])])\n",
    "print('\\nWith feature selection score', round(model.score(X_test_selected, y_test),4))\n"
   ]
  },
  {
   "cell_type": "markdown",
   "metadata": {},
   "source": [
    "Create a scree plot of **explained variance ratio** for extracted features."
   ]
  },
  {
   "cell_type": "code",
   "execution_count": 10,
   "metadata": {},
   "outputs": [
    {
     "data": {
      "text/plain": [
       "[<matplotlib.lines.Line2D at 0x7f14ee7480f0>]"
      ]
     },
     "execution_count": 10,
     "metadata": {},
     "output_type": "execute_result"
    },
    {
     "data": {
      "image/png": "[encoded data removed]",
      "text/plain": [
       "<Figure size 432x288 with 1 Axes>"
      ]
     },
     "metadata": {
      "needs_background": "light"
     },
     "output_type": "display_data"
    }
   ],
   "source": [
    "# Add code below this comment (Question #E111)\n",
    "# ---------------------------\n",
    "x_ticks = np.arange(len(fa.components_))+1\n",
    "plt.xticks(x_ticks)\n",
    "plt.plot(x_ticks, fa.explained_variance_ratio_)\n"
   ]
  },
  {
   "cell_type": "markdown",
   "metadata": {},
   "source": [
    "Do you think this feature extraction method performed satisfactorily?\n",
    "How does it compare to feature selection methods in terms of effectiveness?"
   ]
  },
  {
   "cell_type": "raw",
   "metadata": {},
   "source": [
    "# Add your answer below this comment (Question #E112)\n",
    "# -----------------------------------\n",
    "In my opinion this feature extraction performed satisfactorily. The model's ability to predict if an employee will leave the company are relatively close together; though, feature extraction required two additional features to reach that score. Additionally, feature selection was nearly 3% more effective at making this prediction with fewer features required.\n"
   ]
  },
  {
   "cell_type": "markdown",
   "metadata": {},
   "source": [
    "How would you explain the features you have extracted to somebody without a data science background if you were to recommend this method?\n",
    "(short answer)"
   ]
  },
  {
   "cell_type": "raw",
   "metadata": {},
   "source": [
    "# Add your answer below this comment (Question #E113)\n",
    "# -----------------------------------\n",
    "The aim is to find a small set of data able to essentially capture the same information for predicting whether an employee will leave the company. This is possible because multiple features can have the same predictive power and therefore can be reduced to a single data point and other data points wind up being noise that is unhelpful or even harmful in making the prediction.\n"
   ]
  },
  {
   "cell_type": "markdown",
   "metadata": {},
   "source": [
    "# Save your notebook!  Then `File > Close and Halt`"
   ]
  }
 ],
 "metadata": {
  "kernelspec": {
   "display_name": "Python 3",
   "language": "python",
   "name": "python3"
  },
  "language_info": {
   "codemirror_mode": {
    "name": "ipython",
    "version": 3
   },
   "file_extension": ".py",
   "mimetype": "text/x-python",
   "name": "python",
   "nbconvert_exporter": "python",
   "pygments_lexer": "ipython3",
   "version": "3.7.3"
  }
 },
 "nbformat": 4,
 "nbformat_minor": 4
}
